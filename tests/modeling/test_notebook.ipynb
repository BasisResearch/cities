{
 "cells": [
  {
   "cell_type": "code",
   "execution_count": 2,
   "metadata": {},
   "outputs": [
    {
     "name": "stdout",
     "output_type": "stream",
     "text": [
      "shape for pg torch.Size([1130])\n"
     ]
    },
    {
     "name": "stderr",
     "output_type": "stream",
     "text": [
      "/var/folders/pq/ntbz4ft13jv662kczkzk32pr0000gn/T/ipykernel_51333/1507471187.py:28: FutureWarning: You are using `torch.load` with `weights_only=False` (the current default value), which uses the default pickle module implicitly. It is possible to construct malicious pickle data which will execute arbitrary code during unpickling (See https://github.com/pytorch/pytorch/blob/main/SECURITY.md#untrusted-models for more details). In a future release, the default value for `weights_only` will be flipped to `True`. This limits the functions that could be executed during unpickling. Arbitrary objects will no longer be allowed to be loaded via this mode unless they are explicitly allowlisted by the user via `torch.serialization.add_safe_globals`. We recommend you start setting `weights_only=True` for any use case where you don't have full control of the loaded file. Please open an issue on GitHub for any issues related to this experimental feature.\n",
      "  dataset_read = torch.load(data_path)\n",
      "/var/folders/pq/ntbz4ft13jv662kczkzk32pr0000gn/T/ipykernel_51333/1507471187.py:55: FutureWarning: You are using `torch.load` with `weights_only=False` (the current default value), which uses the default pickle module implicitly. It is possible to construct malicious pickle data which will execute arbitrary code during unpickling (See https://github.com/pytorch/pytorch/blob/main/SECURITY.md#untrusted-models for more details). In a future release, the default value for `weights_only` will be flipped to `True`. This limits the functions that could be executed during unpickling. Arbitrary objects will no longer be allowed to be loaded via this mode unless they are explicitly allowlisted by the user via `torch.serialization.add_safe_globals`. We recommend you start setting `weights_only=True` for any use case where you don't have full control of the loaded file. Please open an issue on GitHub for any issues related to this experimental feature.\n",
      "  pg_dataset_read = torch.load(data_path)\n"
     ]
    }
   ],
   "source": [
    "import copy\n",
    "import os\n",
    "from contextlib import ExitStack\n",
    "from typing import List\n",
    "\n",
    "import pyro\n",
    "import pytest\n",
    "import torch\n",
    "from chirho.counterfactual.handlers import MultiWorldCounterfactual\n",
    "from chirho.interventional.handlers import do\n",
    "from pyro.infer import Predictive\n",
    "from torch.utils.data import DataLoader\n",
    "\n",
    "from cities.modeling.svi_inference import run_svi_inference\n",
    "from cities.modeling.zoning_models.zoning_tracts_model import TractsModel\n",
    "from cities.modeling.zoning_models.zoning_tracts_sqm_model import TractsModelSqm\n",
    "from cities.utils.data_grabber import find_repo_root\n",
    "from cities.utils.data_loader import select_from_data\n",
    "\n",
    "root = find_repo_root()\n",
    "\n",
    "n_steps = 10\n",
    "num_samples = 10\n",
    "\n",
    "\n",
    "data_path = os.path.join(root, \"data/minneapolis/processed/pg_census_tracts_dataset.pt\")\n",
    "\n",
    "dataset_read = torch.load(data_path)\n",
    "\n",
    "\n",
    "loader = DataLoader(dataset_read, batch_size=len(dataset_read), shuffle=True)\n",
    "\n",
    "data = next(iter(loader))\n",
    "\n",
    "\n",
    "kwargs = {\n",
    "    \"categorical\": [\"year\", \"census_tract\"],\n",
    "    \"continuous\": {\n",
    "        \"housing_units\",\n",
    "        \"total_value\",\n",
    "        \"median_value\",\n",
    "        \"mean_limit_original\",\n",
    "        \"median_distance\",\n",
    "        \"income\",\n",
    "        \"segregation_original\",\n",
    "        \"white_original\",\n",
    "        \"parcel_mean_sqm\",\n",
    "        \"parcel_median_sqm\",\n",
    "        \"parcel_sqm\",\n",
    "    },\n",
    "    \"outcome\": \"housing_units\",\n",
    "}\n",
    "\n",
    "pg_subset = select_from_data(data, kwargs)\n",
    "pg_dataset_read = torch.load(data_path)\n",
    "\n",
    "print(\"shape for pg\", pg_subset[\"categorical\"][\"year\"].shape)"
   ]
  },
  {
   "cell_type": "code",
   "execution_count": 10,
   "metadata": {},
   "outputs": [],
   "source": [
    "from chirho.observational.handlers.predictive import PredictiveModel\n",
    "\n",
    "@pytest.mark.parametrize(\n",
    "    \"model_class\",\n",
    "    [TractsModel, TractsModelSqm],\n",
    ")\n",
    "def test_plated_sample_shaping(use_plate, use_mwc, use_do, model_class):\n",
    "    model = model_class(**data, categorical_levels=pg_dataset_read.categorical_levels)\n",
    "\n",
    "    # run forward to g\n",
    "    units = model(**data)\n",
    "    n = units.shape[0]\n",
    "    print(n)\n",
    "\n",
    "    pyro.clear_param_store()\n",
    "    guide = run_svi_inference(model, n_steps=n_steps, lr=0.03, plot=False, **data)\n",
    "\n",
    "    predictive = PredictiveModel(model, guide=guide, num_samples=num_samples)\n",
    "\n",
    "    data_for_preds = copy.deepcopy(data)\n",
    "    data_for_preds[\"continuous\"][\"housing_units\"] = None\n",
    "    data_no_categorical_info = copy.deepcopy(data_for_preds)\n",
    "    data_no_categorical_info[\"categorical\"][\"year\"] = None\n",
    "\n",
    "    context_managers = []\n",
    "\n",
    "    if use_plate:\n",
    "        context_managers.append(pyro.plate(\"outer_plate\", 4, dim=-8))\n",
    "    if use_mwc:\n",
    "        context_managers.append(MultiWorldCounterfactual())\n",
    "    if use_do:\n",
    "        context_managers.append(\n",
    "            do(actions={\"limit\": (torch.tensor(0.0), torch.tensor(1.0))})\n",
    "        )\n",
    "\n",
    "    with context_stack(context_managers):\n",
    "        samples_contextualized = predictive(**data_for_preds)\n",
    "        samples_conditioned_contextualized = predictive(**data)\n",
    "        samples_no_categorical_info = predictive(**data_no_categorical_info)\n",
    "\n",
    "    assert samples_conditioned_contextualized[\"housing_units\"].shape == torch.Size(\n",
    "        [num_samples, n]\n",
    "    )\n",
    "\n",
    "    assert_no_repeated_non_ones(samples_contextualized[\"housing_units\"].shape)\n",
    "    assert_no_repeated_non_ones(samples_no_categorical_info[\"housing_units\"].shape)"
   ]
  },
  {
   "cell_type": "code",
   "execution_count": null,
   "metadata": {},
   "outputs": [],
   "source": []
  }
 ],
 "metadata": {
  "kernelspec": {
   "display_name": ".venv",
   "language": "python",
   "name": "python3"
  },
  "language_info": {
   "codemirror_mode": {
    "name": "ipython",
    "version": 3
   },
   "file_extension": ".py",
   "mimetype": "text/x-python",
   "name": "python",
   "nbconvert_exporter": "python",
   "pygments_lexer": "ipython3",
   "version": "3.10.14"
  }
 },
 "nbformat": 4,
 "nbformat_minor": 2
}
