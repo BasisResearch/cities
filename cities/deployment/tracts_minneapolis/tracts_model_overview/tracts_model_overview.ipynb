{
 "cells": [
  {
   "cell_type": "markdown",
   "metadata": {
    "vscode": {
     "languageId": "plaintext"
    }
   },
   "source": [
    "## What is this project about?\n",
    "\n",
    "We use state-of-the-art bayesian causal models to investigate the role of parking zoning reform in Minneapolis on the development of new housing units, at a relatively fine-grained level of census tracts. Minneapolis is an example of a city which somewhat sucessfuly navigates the housing crisis, and a parking zoning reform has been claimed to be connected to this outcome (see for example [here](https://reason.com/2024/02/27/fear-loathing-and-zoning-reform-in-minnesota/) and [here](https://www.strongtowns.org/journal/2023/9/15/ending-minimum-parking-requirements-was-a-policy-win-for-the-twin-cities)).\n",
    "\n",
    "\n",
    "%TODO Someone should perhaps check if there are better links to include here\n",
    "\n",
    "It is quite clear that the number of housing units increased faster after the reform. What is not quite clear, is whether this is a mere correlation or not.We decided to take a deep dive and connect parcel-level data with demographic variables within a carefully devised causal model to investigate. \n"
   ]
  },
  {
   "cell_type": "markdown",
   "metadata": {},
   "source": [
    "## Why this is not a typical machine learning project\n",
    "\n",
    "A typical predictive project in machine learning tends to use as much data as possible and uses algorithms to identify patters, focusing only on predictive accuracy. While such an approach is useful, the key limitation is that such models have a hard time distinguishing accidental correlations from causal connections, and therefore are not realiable guides to counterfactual predictions and causal effect evaluation. Moreover, a typical model often disregards information that humans use heavily: temporal or causal structures, which are needed to generalize well outside the training data.\n",
    "\n",
    "Instead, we use our core open source technology, [ChiRho](https://github.com/BasisResearch/chirho) to build **bayesian causal** models using hand-picked relevant variables. This way, we work with humans and domain experts in the loop. The fact that we use Bayesian methods, allow for the injection of their deep understanding of the ecosystem, which can be work in symbiosis with the data, even if the latter is somewhat limited. The fact that the models is causal gives us a chance to try to draw conclusions about effects of intereventions, and quantify the uncertainties involved and be honest about them.\n",
    "\n"
   ]
  },
  {
   "cell_type": "markdown",
   "metadata": {},
   "source": [
    "\n",
    "\n",
    "## Why care about different types of questions?\n",
    "\n",
    "Once we start thinking in causal terms, there are **multiple types of queries** that we can distinguish and answer using the model, and such questions typically have different answers. \n",
    "\n",
    "- *Association*. Example: Is there a correlation between increased green spaces and decreased crime rate in an area? Perhaps, areas with more green spaces do tend to have lower crime rates for various reasons.\n",
    "\n",
    "- *Intervention* If the city implements a zoning change to create more green spaces, how would this impact the crime rate in the area? The answer might differ here: factors other than the policy change probably influence crime rates to a larger extent.\n",
    "\n",
    "- *Counterfactual* Suppose you did create more green spaces and the crime rate in the area did go down. Are you to be thanked? This depends on whether the crime rate would have gone down had you not created more green space in the area.\n",
    "\n",
    "\n"
   ]
  },
  {
   "cell_type": "markdown",
   "metadata": {},
   "source": [
    "## Counterfactual modeling of the zoning reform\n",
    "\n",
    "In the case at hand, we allow you, the user, to investigate predicted counterfactual outcomes of a zoning reform, specifed in terms of where the two zones start, what parking limits are to be imposed in different zones, and what year the reform has been introduced. The variables\n",
    "    "
   ]
  },
  {
   "cell_type": "markdown",
   "metadata": {},
   "source": [
    "%TODO this graph is outdated, fix\n",
    "\n",
    "<img src=\"tracts_dag_plot_high_density.png\" alt=\"DAG Plot\" width=\"800\"/>\n"
   ]
  }
 ],
 "metadata": {
  "language_info": {
   "name": "python"
  }
 },
 "nbformat": 4,
 "nbformat_minor": 2
}
