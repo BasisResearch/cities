{
 "cells": [
  {
   "cell_type": "markdown",
   "metadata": {},
   "source": [
    "- The GDP data contained in `CAGDP1_2001_2021.csv` comes from [Regional Economic Accounts](Regional Economic Accounts) by Bureau of Economic Analysis. Downloaded on Oct 4, 2023."
   ]
  }
 ],
 "metadata": {
  "language_info": {
   "name": "python"
  },
  "orig_nbformat": 4
 },
 "nbformat": 4,
 "nbformat_minor": 2
}
