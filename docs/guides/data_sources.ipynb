{
 "cells": [
  {
   "cell_type": "markdown",
   "metadata": {},
   "source": [
    "## General data rules\n"
   ]
  },
  {
   "cell_type": "code",
   "execution_count": null,
   "metadata": {
    "vscode": {
     "languageId": "plaintext"
    }
   },
   "outputs": [],
   "source": []
  },
  {
   "cell_type": "markdown",
   "metadata": {},
   "source": [
    "- We try to preserve as many FIPS codeas as possible; some exclusions are hard to avoid, for which we apologize, but we're doing our best to use as complete datasets as we can.\n",
    "- Each processed dataset has the same first two columns, followed by float columns with features.\n",
    "- Each processed dataset focuses on one feature group.\n",
    "- Raw datasets are stored in the `data/raw` folder.\n",
    "- Processed datasets are stored in the `data/processed` folder.\n",
    "- The `_sdt_` versions of processed data result from standardizing all float columns to have mean 0 and standard deviation 1, and then rescaling to fit between -1 and 1. This is done to make the data more amenable to fair similarity computations and machine learning algorithms.\n"
   ]
  },
  {
   "cell_type": "markdown",
   "metadata": {},
   "source": [
    "## Outcome variables"
   ]
  },
  {
   "cell_type": "markdown",
   "metadata": {},
   "source": [
    "These are time-series variables identified as those of interest by data advocates we interacted with (or at least as many of those as we were able to incorporate for various reasons).\n"
   ]
  },
  {
   "cell_type": "markdown",
   "metadata": {},
   "source": [
    "### GDP\n"
   ]
  },
  {
   "cell_type": "markdown",
   "metadata": {},
   "source": [
    "- **Definition** - Chain-type GDP is a method for calculating Gross Domestic Product (GDP) that adjusts for changes in the composition and prices of goods and services over time.\n",
    "\n",
    "- **Time restrictions** - 2001 to 2021\n",
    "\n",
    "- **Source** - The dataset was obtained from the [Bureau of Economic Analysis](https://www.bea.gov/), and it can be downloaded via [this link](https://apps.bea.gov/iTable/?reqid=70&step=1&isuri=1&acrdn=5#eyJhcHBpZCI6NzAsInN0ZXBzIjpbMSwyOSwyNSwzMSwyNiwyNywzMF0sImRhdGEiOltbIlRhYmxlSWQiLCI1MzMiXSxbIk1ham9yX0FyZWEiLCI0Il0sWyJTdGF0ZSIsWyIwIl1dLFsiQXJlYSIsWyIwMDAwMCJdXSxbIlN0YXRpc3RpYyIsWy-1Il1dLFsiVW5pdF9vZl9tZWFzdXJlIiwiTGV2ZWxzIl0sWyJZZWFyIiwi-1Il1dLFsiWWVhciJdXSxb-1Il1dLFsiWWVhcmJlZ2luIiwi-1Il1dLFsiWWVhcmJlZ2luIiwi-1Il1dfQ==).\n",
    "\n",
    "- **Notes** - The dataset is missing values for the year 2012."
   ]
  },
  {
   "cell_type": "markdown",
   "metadata": {},
   "source": [
    "- The GDP data contained in `CAGDP1_2001_2021.csv` was downloaded on Oct 4, 2023. The following locations were removed due to NaNs:\n",
    "\n",
    "|   GeoFIPS | GeoName                                    |\n",
    "|----------:|--------------------------------------------|\n",
    "|     02063 | Chugach Census Area, AK*                  |\n",
    "|     02066 | Copper River Census Area, AK*            |\n",
    "|     02105 | Hoonah-Angoon Census Area, AK*           |\n",
    "|     02195 | Petersburg Borough, AK*                  |\n",
    "|     02198 | Prince of Wales-Hyder Census Area, AK*   |\n",
    "|     02201 | Prince of Wales-Outer Ketchikan Census Area, AK* |\n",
    "|     02230 | Skagway Municipality, AK*                |\n",
    "|     02261 | Valdez-Cordova Census Area, AK*          |\n",
    "|     02275 | Wrangell City and Borough, AK*           |\n",
    "|     08014 | Broomfield, CO*                          |\n",
    "\n",
    "\n"
   ]
  },
  {
   "cell_type": "markdown",
   "metadata": {},
   "source": [
    "- Furthermore, the processed datasets do not include counties specified in the exclusions.pkl file. This decision was motivated by the necessity of ensuring consistent GeoFips values across all datasets."
   ]
  },
  {
   "cell_type": "markdown",
   "metadata": {},
   "source": [
    "## Background variables"
   ]
  },
  {
   "cell_type": "markdown",
   "metadata": {},
   "source": [
    "\n",
    "These are variables that are not available as time series, but can nevertheless used to evaluate similarity between locations and to build predictive models. \n",
    "Since there will be many of them, for ease of use, we grouped them into categories."
   ]
  },
  {
   "cell_type": "markdown",
   "metadata": {},
   "source": [
    "### Demographic variables"
   ]
  },
  {
   "cell_type": "markdown",
   "metadata": {},
   "source": [
    "#### Population\n",
    "\n",
    "- **Definition** - Demographic variables, including a time series for population, were obtained from the CAINC30 dataset created by the Bureau of Economic Analysis.\n",
    "\n",
    "- **Time restrictions** - 1992 to 2021\n",
    "\n",
    "- **Source** - The dataset was obtained from [this website](https://www.bea.gov/) via [this link](https://apps.bea.gov/itable/?ReqID=70&step=1#eyJhcHBpZCI6NzAsInN0ZXBzIjpbMSwyOSwyNSwzMSwyNiwyNywzMF0sImRhdGEiOltbIlRhYmxlSWQiLCIxMiJdLFsiTWFqb3JfQXJlYSIsIjQiXSxbIlN0YXRlIixbIjAiXV0sWyJBcmVhIixbIjAwMDAwIl1dLFsiU3RhdGlzdGljIixbIi0xIl1dLFsiVW5pdF9vZl9tZWFzdXJlIiwiTGV2ZWxzIl0sWyJZZWFyIixbIi0xIl1dLFsiWWVhckJlZ2luIiwiLTEiXSxbIlllYXJfRW5kIiwiLTEiXV19).\n",
    "\n",
    "- **Notes** - Data up to 1992 was removed due to missingness in the past. 58 counties were excluded from the dataset because they are not common with gdp dataset fips numbers."
   ]
  },
  {
   "cell_type": "markdown",
   "metadata": {},
   "source": [
    "### Transportation\n",
    "\n",
    "- **Definition** - The following transportation variables (Road Network Density and National Walkability Index) were extracted from the Simple Location dataset.\n",
    "\n",
    "- **Time restrictions** - The dataset was compiled in 2021, the variables vary in their sources and dates, as explained in the variable descriptions.\n",
    "\n",
    "- **Source** - The Simple Location dataset (version 3.0) was obtained on 10th October 2023 from [this website](https://www.epa.gov/smartgrowth/smart-location-mapping) through [this link](https://edg.epa.gov/EPADataCommons/public/OA/).\n",
    "\n",
    "- **Notes** - The smartLocationSmall.csv dataset is a preprocessed and condensed version of the main dataset. Its size was reduced, mainly because it was provided by small subregions of counties, while the project's focus is on counties. This necessitated grouping the data, where some values were aggregated by summing them up for the counties, and others were calculated as averages. More details are available in the variable descriptions. The dataset contains more variables regarding transportation, but in many cases the data was missing for a significant amount of records, therefore we did not use them.\n"
   ]
  },
  {
   "cell_type": "markdown",
   "metadata": {},
   "source": [
    "#### Road Network Density\n",
    "\n",
    "'D3A'\n",
    "\n",
    "This variable indicates road network density at the county level, sourced from Maps NAVSTREETS databases collected in 2018. These variable represent the miles of roads per square miles of land, calculated at the county level, offering insights into the road network density and its orientation.\n",
    "\n"
   ]
  },
  {
   "cell_type": "markdown",
   "metadata": {},
   "source": [
    "#### National Walkability Index\n",
    "\n",
    "'WeightAvgNatWalkInd'\n",
    "\n",
    "A National Walkability Index (NWI) was created in 2015 following the release of SLD version 2.0, aimed at aiding transportation planning and facilitating comparisons of places' suitability for walking as a form of travel.\n",
    "\n",
    "National Walkability Index value between 1 (lowest walkability) and 20 (highest walkability). Scores are categorized into the following basic levels of walkability: 1) least walkable (1.0-5.75), 2) below average walkable (5.76-10.5), 3) above average walkable (10.51-15.25) and 4) most walkable (15.26-20.0).\n",
    "\n",
    "In our abbreviated dataset (smartLocationSmall.csv), the index values were calculated as the population-weighted average for counties within subregions."
   ]
  }
 ],
 "metadata": {
  "language_info": {
   "name": "python"
  },
  "orig_nbformat": 4
 },
 "nbformat": 4,
 "nbformat_minor": 2
}
