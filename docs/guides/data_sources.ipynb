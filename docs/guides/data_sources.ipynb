{
 "cells": [
  {
   "cell_type": "markdown",
   "metadata": {},
   "source": [
    "## General data rules\n"
   ]
  },
  {
   "cell_type": "markdown",
   "metadata": {},
   "source": [
    "\n",
    "- Raw datasets are stored in the `data/raw` folder.\n",
    "- Processed datasets are stored in the `data/processed` folder.\n",
    "- The `_sdt_` versions of processed data result from standardizing all float columns to have mean 0 and standard deviation 1, and then rescaling to fit between -1 and 1. This is done to make the data more amenable to fair similarity computations and machine learning algorithms.\n",
    "- "
   ]
  },
  {
   "cell_type": "markdown",
   "metadata": {},
   "source": [
    "## Outcome variables"
   ]
  },
  {
   "cell_type": "markdown",
   "metadata": {},
   "source": [
    "These are time-series variables identified as those of interest by data advocates we interacted with (or at least as many of those as we were able to incorporate for various reasons).\n"
   ]
  },
  {
   "cell_type": "markdown",
   "metadata": {},
   "source": [
    "### GDP\n"
   ]
  },
  {
   "cell_type": "markdown",
   "metadata": {},
   "source": [
    "- ** Definition**\n",
    "- ** Time restrictions**\n",
    "- ** Source** (with links to the original website, and to processed dataset with its name)\n",
    "- ** Notes** "
   ]
  },
  {
   "cell_type": "markdown",
   "metadata": {},
   "source": [
    "- The GDP data contained in `CAGDP1_2001_2021.csv` comes from [Regional Economic Accounts](Regional Economic Accounts) by Bureau of Economic Analysis. Downloaded on Oct 4, 2023. The following locations were removed due to NaNs:\n",
    "\n",
    "|   GeoFIPS | GeoName                                    |\n",
    "|----------:|--------------------------------------------|\n",
    "|     02063 | Chugach Census Area, AK*                  |\n",
    "|     02066 | Copper River Census Area, AK*            |\n",
    "|     02105 | Hoonah-Angoon Census Area, AK*           |\n",
    "|     02195 | Petersburg Borough, AK*                  |\n",
    "|     02198 | Prince of Wales-Hyder Census Area, AK*   |\n",
    "|     02201 | Prince of Wales-Outer Ketchikan Census Area, AK* |\n",
    "|     02230 | Skagway Municipality, AK*                |\n",
    "|     02261 | Valdez-Cordova Census Area, AK*          |\n",
    "|     02275 | Wrangell City and Borough, AK*           |\n",
    "|     08014 | Broomfield, CO*                          |\n",
    "\n",
    "\n"
   ]
  },
  {
   "cell_type": "markdown",
   "metadata": {},
   "source": [
    "## Background variables"
   ]
  },
  {
   "cell_type": "markdown",
   "metadata": {},
   "source": [
    "\n",
    "These are variables that are not available as time series, but can nevertheless used to evaluate similarity between locations and to build predictive models. \n",
    "Since there will be many of them, for ease of use, we grouped them into categories."
   ]
  },
  {
   "cell_type": "markdown",
   "metadata": {},
   "source": [
    "### Demographic variables"
   ]
  },
  {
   "cell_type": "markdown",
   "metadata": {},
   "source": [
    "#### Population\n",
    "\n",
    "- missingness up to 1992, far in the past, removed"
   ]
  }
 ],
 "metadata": {
  "language_info": {
   "name": "python"
  },
  "orig_nbformat": 4
 },
 "nbformat": 4,
 "nbformat_minor": 2
}
