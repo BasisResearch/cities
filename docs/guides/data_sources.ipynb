{
 "cells": [
  {
   "cell_type": "markdown",
   "metadata": {},
   "source": [
    "# <a id='toc1_'></a>[Data Guide](#toc0_)"
   ]
  },
  {
   "cell_type": "markdown",
   "metadata": {},
   "source": [
    "**Table of contents**<a id='toc0_'></a>    \n",
    "- [Data Guide](#toc1_)    \n",
    "  - [General data rules](#toc1_1_)    \n",
    "  - [Outcome variables](#toc1_2_)    \n",
    "    - [GDP](#toc1_2_1_)    \n",
    "    - [ Unemployment Rate](#toc1_2_2_)    \n",
    "    - [ Unemployment Rate (census tracts)](#toc1_2_3_)    \n",
    "    - [Population](#toc1_2_4_)    \n",
    "    - [Population (census tracts)](#toc1_2_5_)    \n",
    "    - [Population density](#toc1_2_6_)    \n",
    "    - [Urbanicity (census tracts)](#toc1_2_7_)    \n",
    "    - [Ethnic composition](#toc1_2_8_)    \n",
    "    - [Poverty (time series)](#toc1_2_9_)    \n",
    "    - [Industry composition (time series)](#toc1_2_10_)    \n",
    "  - [Background variables](#toc1_3_)    \n",
    "    - [Transportation](#toc1_3_1_)    \n",
    "      - [National Walkability Index](#toc1_3_1_1_)    \n",
    "      - [Road Network Density](#toc1_3_1_2_)    \n",
    "    - [Industry composition](#toc1_3_2_)    \n",
    "    - [Urbanization level](#toc1_3_3_)    \n",
    "    - [Urbanization level MSA](#toc1_3_4_)    \n",
    "    - [Burdens](#toc1_3_5_)    \n",
    "    - [Hazard](#toc1_3_6_)    \n",
    "    - [Age Composition](#toc1_3_7_)    \n",
    "    - [Income Distribution](#toc1_3_8_)    \n",
    "    - [Homeownership Variables](#toc1_3_9_)    \n",
    "  - [Intervention Variables](#toc1_4_)    \n",
    "    - [USA Spendings datasets:](#toc1_4_1_)    \n",
    "\n",
    "<!-- vscode-jupyter-toc-config\n",
    "\tnumbering=false\n",
    "\tanchor=true\n",
    "\tflat=false\n",
    "\tminLevel=1\n",
    "\tmaxLevel=6\n",
    "\t/vscode-jupyter-toc-config -->\n",
    "<!-- THIS CELL WILL BE REPLACED ON TOC UPDATE. DO NOT WRITE YOUR TEXT IN THIS CELL -->"
   ]
  },
  {
   "cell_type": "markdown",
   "metadata": {},
   "source": [
    "## <a id='toc1_1_'></a>[General data rules](#toc0_)\n",
    "\n",
    "\n",
    "- We try to preserve as many FIPS codeas as possible; some exclusions are hard to avoid, for which we apologize, but we're doing our best to use as complete datasets as we can.\n",
    "- Each processed dataset has the same first two columns, followed by float columns with features.\n",
    "- Each processed dataset focuses on one feature group.\n",
    "- Raw datasets are stored in the `data/raw` folder.\n",
    "- Processed datasets are stored in the `data/processed` folder.\n",
    "- Each dataset is processed into four formats, which all will be needed at different stages. long/wide, original/standardized and scaled values.\n",
    "- All FIPS codes need to be the same in all datasets, in exact the same order. `gdp` dataset is the source of truth about this.\n",
    "- Cleaning is supposed to be achieved by a separate function, similar to `clean_population.py` or `clean_spending_transportation.py`. The function is then supposed to be run within `cleaning_pipeline.py`. Where possible, use `clean_variable.py` which is a general-purpose function that can be called by, e.g. `clean_unemployment.py`\n",
    "- The `_sdt_` versions of processed data result from standardizing all float columns to have mean 0 and standard deviation 1, and then rescaling to fit between -1 and 1. This is done to make the data more amenable to fair similarity computations and machine learning algorithms.\n",
    "- Exclusion enforced by NaNs in incoming accepted datasets are aggregated in `data/raw/exclusions.csv`, which is used in the dataset pipeline.\n",
    "- Each included feature group is to be described in `data_sources.ipynb`. It already includes some descriptions, please make yours similar.\n"
   ]
  },
  {
   "cell_type": "markdown",
   "metadata": {},
   "source": [
    "## <a id='toc1_2_'></a>[Outcome variables](#toc0_)"
   ]
  },
  {
   "cell_type": "markdown",
   "metadata": {},
   "source": [
    "These are time-series variables identified as those of interest by data advocates we interacted with (or at least as many of those as we were able to incorporate for various reasons).\n"
   ]
  },
  {
   "cell_type": "markdown",
   "metadata": {},
   "source": [
    "### <a id='toc1_2_1_'></a>[GDP](#toc0_)\n"
   ]
  },
  {
   "cell_type": "markdown",
   "metadata": {},
   "source": [
    "- **Definition** - Chain-type GDP is a method for calculating Gross Domestic Product (GDP) that adjusts for changes in the composition and prices of goods and services over time.\n",
    "\n",
    "- **Time restrictions** - 2001 to 2021\n",
    "\n",
    "- **Source** - The dataset was obtained from the [Bureau of Economic Analysis](https://www.bea.gov/), and it can be downloaded via [this link](https://apps.bea.gov/iTable/?reqid=70&step=1&isuri=1&acrdn=5#eyJhcHBpZCI6NzAsInN0ZXBzIjpbMSwyOSwyNSwzMSwyNiwyNywzMF0sImRhdGEiOltbIlRhYmxlSWQiLCI1MzMiXSxbIk1ham9yX0FyZWEiLCI0Il0sWyJTdGF0ZSIsWyIwIl1dLFsiQXJlYSIsWyIwMDAwMCJdXSxbIlN0YXRpc3RpYyIsWy-1Il1dLFsiVW5pdF9vZl9tZWFzdXJlIiwiTGV2ZWxzIl0sWyJZZWFyIiwi-1Il1dLFsiWWVhciJdXSxb-1Il1dLFsiWWVhcmJlZ2luIiwi-1Il1dLFsiWWVhcmJlZ2luIiwi-1Il1dfQ==).\n",
    "\n",
    "- **Notes** - The dataset is missing values for the year 2012."
   ]
  },
  {
   "cell_type": "markdown",
   "metadata": {},
   "source": [
    "- The GDP data contained in `CAGDP1_2001_2021.csv` was downloaded on Oct 4, 2023. The following locations were removed due to NaNs:\n",
    "\n",
    "|   GeoFIPS | GeoName                                    |\n",
    "|----------:|--------------------------------------------|\n",
    "|     02063 | Chugach Census Area, AK*                  |\n",
    "|     02066 | Copper River Census Area, AK*            |\n",
    "|     02105 | Hoonah-Angoon Census Area, AK*           |\n",
    "|     02195 | Petersburg Borough, AK*                  |\n",
    "|     02198 | Prince of Wales-Hyder Census Area, AK*   |\n",
    "|     02201 | Prince of Wales-Outer Ketchikan Census Area, AK* |\n",
    "|     02230 | Skagway Municipality, AK*                |\n",
    "|     02261 | Valdez-Cordova Census Area, AK*          |\n",
    "|     02275 | Wrangell City and Borough, AK*           |\n",
    "|     08014 | Broomfield, CO*                          |\n",
    "\n",
    "\n"
   ]
  },
  {
   "cell_type": "markdown",
   "metadata": {},
   "source": [
    "- Furthermore, the processed datasets do not include counties specified in the exclusions.pkl file. This decision was motivated by the necessity of ensuring consistent GeoFips values across all datasets.\n",
    "\n",
    "- This dataset is also available for the Metropolitan Statistical Area level. The list of MSAs that are included is available as `metrolist.csv`, which serves as a source of truth. One difference is that the only available period was from 2017 to 2021."
   ]
  },
  {
   "cell_type": "markdown",
   "metadata": {},
   "source": [
    "### <a id='toc1_2_2_'></a>[ Unemployment Rate](#toc0_)"
   ]
  },
  {
   "cell_type": "markdown",
   "metadata": {},
   "source": [
    "\n",
    "- **Definition** - Unemployment rate (%)\n",
    "\n",
    "- **Time restrictions** - 1990 to 2022\n",
    "\n",
    "- **Source** - The dataset was obtained from the [Bureau of Labor Statistics](https://www.bls.gov/lau/tables.htm#mcounty). The code for reading and formatting the relevant data from the website is contained in docs/experimental_notebooks/clean_unemployment.ipynb.\n",
    "\n",
    "- **Notes** - This data source also has data about the total labor force size, which could be useful. These codes were added to exclusions: 2282, 22051, 22071, 22075, 22087, 22089, 22095, 22103"
   ]
  },
  {
   "cell_type": "markdown",
   "metadata": {},
   "source": [
    "### <a id='toc1_2_3_'></a>[ Unemployment Rate (census tracts)](#toc0_)\n",
    "- **Definition** - Unemployment rate (%), population 16 years and over\n",
    "\n",
    "- **Time restrictions** - 2010 to 2022\n",
    "\n",
    "- **Source** - American Community Survey (5 year estimations) data obtained from the [Census Bureau](https://data.census.gov/table/ACSST1Y2022.S0101) and scraped using the Census API.\n",
    "\n",
    "- **Notes** - The dataset is divided into two sets, before and after 2020, as the definition of Census Tracts had changed in that year."
   ]
  },
  {
   "cell_type": "markdown",
   "metadata": {},
   "source": [
    "### <a id='toc1_2_4_'></a>[Population](#toc0_)\n",
    "\n",
    "- **Definition** - Demographic variables, including a time series for population, were obtained from the CAINC30 dataset created by the Bureau of Economic Analysis.\n",
    "\n",
    "- **Time restrictions** - 1993 to 2021\n",
    "\n",
    "- **Source** - The dataset was obtained from [this website](https://www.bea.gov/) via [this link](https://apps.bea.gov/itable/?ReqID=70&step=1#eyJhcHBpZCI6NzAsInN0ZXBzIjpbMSwyOSwyNSwzMSwyNiwyNywzMF0sImRhdGEiOltbIlRhYmxlSWQiLCIxMiJdLFsiTWFqb3JfQXJlYSIsIjQiXSxbIlN0YXRlIixbIjAiXV0sWyJBcmVhIixbIjAwMDAwIl1dLFsiU3RhdGlzdGljIixbIi0xIl1dLFsiVW5pdF9vZl9tZWFzdXJlIiwiTGV2ZWxzIl0sWyJZZWFyIixbIi0xIl1dLFsiWWVhckJlZ2luIiwiLTEiXSxbIlllYXJfRW5kIiwiLTEiXV19).\n",
    "\n",
    "- **Notes**: \n",
    "    - Data up to 1992 was removed due to missingness in the past. 58 counties were excluded from the dataset because they are not common with the GDP dataset FIPS numbers.\n",
    "    - This dataset is also available for the Metropolitan Statistical Area level. The list of MSAs that are included is `metrolist.csv`, which serves as a source of truth."
   ]
  },
  {
   "cell_type": "markdown",
   "metadata": {},
   "source": [
    "### <a id='toc1_2_5_'></a>[Population (census tracts)](#toc0_)\n",
    "\n",
    "- **Definition**: This dataset contains population data for census tracts in the United States, obtained from the ACS 5-year estimates.\n",
    "\n",
    "- **Time Restrictions**: The dataset covers the years 2010 to 2022, divided into two datasets: one for years before 2020 and one for years after 2020.\n",
    "\n",
    "- **Source**: American Community Survey data obtained from the [Census Bureau](https://data.census.gov/table/ACSST1Y2022.S0101) and scraped using the Census API.\n",
    "\n",
    "- **Notes**:\n",
    "    - The division of data into two datasets was necessitated by differences in Census Tract definitions. Furthermore, the data underwent cleaning to remove missing values. Approximately 1700 missing values were identified for the period after 2020, and around 100 were identified for the period before 2020. (Further details on potential methods for handling these missing values can be found in the cleaning notebook.)"
   ]
  },
  {
   "cell_type": "markdown",
   "metadata": {},
   "source": [
    "### <a id='toc1_2_6_'></a>[Population density](#toc0_)\n",
    "\n",
    "- **Definition** - Population density in units people/m^2. \n",
    "\n",
    "- **Time restrictions** - 1993 to 2021\n",
    "\n",
    "- **Source** - The population dataset was obtained from [bea.gov](https://www.bea.gov/) via [this link](https://apps.bea.gov/itable/?ReqID=70&step=1#eyJhcHBpZCI6NzAsInN0ZXBzIjpbMSwyOSwyNSwzMSwyNiwyNywzMF0sImRhdGEiOltbIlRhYmxlSWQiLCIxMiJdLFsiTWFqb3JfQXJlYSIsIjQiXSxbIlN0YXRlIixbIjAiXV0sWyJBcmVhIixbIjAwMDAwIl1dLFsiU3RhdGlzdGljIixbIi0xIl1dLFsiVW5pdF9vZl9tZWFzdXJlIiwiTGV2ZWxzIl0sWyJZZWFyIixbIi0xIl1dLFsiWWVhckJlZ2luIiwiLTEiXSxbIlllYXJfRW5kIiwiLTEiXV19), and the land area was obtained from [census.gov](https://www.census.gov) via [this link](https://www2.census.gov/geo/tiger/GENZ2021/shp/cb_2021_us_county_20m.zip).\n",
    "\n",
    "- **Notes**: \n",
    "    - Data up to 1992 was removed due to missingness in the past. 58 counties were excluded from the dataset because they are not common with the GDP dataset FIPS numbers."
   ]
  },
  {
   "cell_type": "markdown",
   "metadata": {},
   "source": [
    "### <a id='toc1_2_7_'></a>[Urbanicity (census tracts)](#toc0_)\n",
    "\n",
    "- **Definition:** This dataset comprises variables representing urban and rural areas within census tracts, including population, land, and housing characteristics. Two seperate datasets for pre and post 2022.\n",
    "\n",
    "- **Time Restrictions:** 2019 and 2022\n",
    "\n",
    "- **Source:** Data was obtained from the [United States Census Beureu](https://www.census.gov/en.html) via [this link](https://www.census.gov/programs-surveys/geography/guidance/geo-areas/urban-rural.html).\n",
    "\n",
    "- **Notes:** Housing units density and population density in rural and urban areas. Two last variables in the dataset represents the percentage of housing units and population size in rural areas. The dataset was divided into two datasets, as census tracts before and after 2020 have different definitions.\n",
    "\n",
    "\n"
   ]
  },
  {
   "cell_type": "markdown",
   "metadata": {},
   "source": [
    "### <a id='toc1_2_8_'></a>[Ethnic composition](#toc0_)\n",
    "\n",
    "\n",
    "- **Definition:** This dataset contains demographic information extracted from the American Community Survey (ACS). The raw dataset is a subset of the full set of demographic and housing estimates (DP05), and it includes selected variables, as listed in the \"Notes\" section. The original dataset contained absolute counts, our final dataset provides proportions of various racial and ethnic groups.\n",
    "\n",
    "- **Time Restrictions:** Data is based on 2021 ACS version, it contains 5-year estimates.\n",
    "\n",
    "- **Source:** Data was obtained from the [American Community Survey DP05](https://data.census.gov/) via the [Census Data Platform](https://data.census.gov/table/ACSDP5Y2021.DP05?g=010XX00US$0500000).\n",
    "\n",
    "- **Notes:** \n",
    "\n",
    "    - This dataset is also available for the Metropolitan Statistical Area level. The list of MSAs that are included is `metrolist.csv`, which serves as a source of truth.\n",
    "\n",
    "    - The `ethnic_composition_nominal` dataset contains absolute counts rather than proportions. It includes a few groups starting with \"other\", so after transforming into proportions, those in the original set do not add to 100%, presumably because some subjects marked themselves as belonging to multiple `other` categories. Notably, variables `DP05_0082E` (other race) and `DP05_0083E` (two or more races) were combined into a new variable called 'other_race_races.' After this revision, proportions add up to 100%.\n",
    "\n",
    "    The following variables were extracted from the raw dataset:\n",
    "\n",
    "\n",
    "    Column's IDs and their descriptions:    \n",
    "    'DP05_0070E': Total population   \n",
    "    'DP05_0071E': Hispanic or Latino (of any race) sum   \n",
    "    'DP05_0072E': Mexican   \n",
    "    'DP05_0073E': Puerto Rican   \n",
    "    'DP05_0074E': Cuban   \n",
    "    'DP05_0075E': Other Hispanic or Latino  \n",
    "    'DP05_0076E': Not Hispanic or Latino sum  \n",
    "    'DP05_0077E': White  \n",
    "    'DP05_0078E': Black  \n",
    "    'DP05_0079E': American Indian and Alaska Native  \n",
    "    'DP05_0080E': Asian  \n",
    "    'DP05_0081E': Native Hawaiian and other Pacific Islander    \n",
    "    'DP05_0082E': Other race   \n",
    "    'DP05_0083E': Two or more races sum  \n",
    "    'DP05_0084E': Two races, including some other race    \n",
    "    'DP05_0085E': Some other race and three or more races   \n",
    "\n",
    "\n",
    "\n"
   ]
  },
  {
   "cell_type": "markdown",
   "metadata": {},
   "source": [
    "### <a id='toc1_2_9_'></a>[Poverty (time series)](#toc0_)\n",
    "\n",
    "- **Definition:** This dataset contains estimations of poverty and income in the United States by county.\n",
    "\n",
    "- **Time Restrictions:** 1998 - 2021\n",
    "\n",
    "- **Source:** Obtained from the United States Census Bureau Website: [Small Area Income and Poverty Estimates (SAIPE) Program](https://www.census.gov/programs-surveys/saipe/data/datasets.html).\n",
    "\n",
    "- **Notes:** The dataset contains the following variables: total number of people in poverty and percentage value, number of people in poverty aged 0-17 and percentage value, median household income."
   ]
  },
  {
   "cell_type": "markdown",
   "metadata": {},
   "source": [
    "### <a id='toc1_2_10_'></a>[Industry composition (time series)](#toc0_)\n",
    "\n",
    "- **Definition:** This dataset contains industry information extracted from the American Community Survey (ACS). The raw dataset is a subset of the full set of Industry by Sex for the Civilian Employed Population (S2403) and it includes selected variables, as listed in the \"Notes\" section. It is a time series expansion of the previous dataset.\n",
    "\n",
    "- **Time Restrictions:** Data is based on 5-year ACS estimation made on each year separately, starting from 2010, ending with 2021.\n",
    "\n",
    "- **Source:** Obtained from the [American Community Survey DP03](https://data.census.gov/) via the [Census Data Platform](https://data.census.gov/table/ACSST5Y2021.S2403?t=Industry&g=010XX00US$0500000).\n",
    "\n",
    "- **Notes:** Every time series for each industry group comes with its own file. The variable names have the following interpretation:\n",
    "\n",
    "S2403_C01_003E: Agriculture, forestry, fishing and hunting    \n",
    "S2403_C01_004E: Mining, quarrying, and oil and gas extraction   \n",
    "S2403_C01_005E: Construction   \n",
    "S2403_C01_006E: Manufacturing   \n",
    "S2403_C01_007E: Wholesale trade   \n",
    "S2403_C01_008E: Retail trade   \n",
    "S2403_C01_010E: Transportation and warehousing   \n",
    "S2403_C01_011E: Utilities   \n",
    "S2403_C01_012E: Information   \n",
    "S2403_C01_014E: Finance and insurance   \n",
    "S2403_C01_015E: Real estate and rental and leasing   \n",
    "S2403_C01_017E: Professional, scientific, and technical services  \n",
    "S2403_C01_018E: Management of companies and enterprises   \n",
    "S2403_C01_019E: Administrative and support and waste management services   \n",
    "S2403_C01_021E: Educational services   \n",
    "S2403_C01_022E: Health care and social assistance   \n",
    "S2403_C01_024E: Arts, entertainment, and recreation   \n",
    "S2403_C01_025E: Accommodation and food services   \n",
    "S2403_C01_026E: Other services, except public administration  \n",
    "S2403_C01_027E: Public administration   "
   ]
  },
  {
   "cell_type": "markdown",
   "metadata": {},
   "source": [
    "## <a id='toc1_3_'></a>[Background variables](#toc0_)"
   ]
  },
  {
   "cell_type": "markdown",
   "metadata": {},
   "source": [
    "\n",
    "These are variables that are not available as time series, but can nevertheless used to evaluate similarity between locations and to build predictive models. \n",
    "Since there will be many of them, for ease of use, we grouped them into categories."
   ]
  },
  {
   "cell_type": "markdown",
   "metadata": {},
   "source": [
    "### <a id='toc1_3_1_'></a>[Transportation](#toc0_)\n",
    "\n",
    "- **Definition** - The following transportation variables (Road Network Density and National Walkability Index) were extracted from the Simple Location dataset.\n",
    "\n",
    "- **Time restrictions** - The dataset was compiled in 2021, the variables vary in their sources and dates, as explained in the variable descriptions.\n",
    "\n",
    "- **Source** - The Simple Location dataset (version 3.0) was obtained on 10th October 2023 from [this website](https://www.epa.gov/smartgrowth/smart-location-mapping) through [this link](https://edg.epa.gov/EPADataCommons/public/OA/).\n",
    "\n",
    "- **Notes** - `smartLocationSmall.csv` is a preprocessed and condensed version of the main dataset. Its size was reduced, mainly because the information was provided for small subregions of counties, while for practical reasons we focus on counties/cities. This necessitated grouping the data, where some values were aggregated by summing them up for the counties, and others were averaged. More details are available in the variable descriptions. The dataset contains more variables regarding transportation, but many cases of missingness enforced their exclusion, given our interest in providing consistent information and analysis to as many locations as possible.\n"
   ]
  },
  {
   "cell_type": "markdown",
   "metadata": {},
   "source": [
    "#### <a id='toc1_3_1_1_'></a>[National Walkability Index](#toc0_)\n",
    "\n",
    "`WeightAvgNatWalkInd`\n",
    "\n",
    "A National Walkability Index (NWI) was created in 2015 following the release of SLD version 2.0, aimed at aiding transportation planning and facilitating comparisons of places' suitability for walking as a form of travel.\n",
    "\n",
    "National Walkability Index value between 1 (lowest walkability) and 20 (highest walkability). Scores are categorized into the following basic levels of walkability: 1) least walkable (1.0-5.75), 2) below average walkable (5.76-10.5), 3) above average walkable (10.51-15.25) and 4) most walkable (15.26-20.0).\n",
    "\n",
    "In our abbreviated dataset (`smartLocationSmall.csv`), the index values were calculated as the population-weighted average for counties within subregions."
   ]
  },
  {
   "cell_type": "markdown",
   "metadata": {},
   "source": [
    "#### <a id='toc1_3_1_2_'></a>[Road Network Density](#toc0_)\n",
    "\n",
    "`D3A`\n",
    "\n",
    "This variable indicates road network density at the county level, sourced from Maps NAVSTREETS databases collected in 2018. These variable represent the miles of roads per square miles of land, calculated at the county level.\n",
    "\n"
   ]
  },
  {
   "cell_type": "markdown",
   "metadata": {},
   "source": [
    "### <a id='toc1_3_2_'></a>[Industry composition](#toc0_)\n",
    "\n",
    "- **Definition:** This dataset contains industry information extracted from the American Community Survey (ACS). The raw dataset is a subset of the full set of Selected Economic Characteristics (DP03) and it includes selected variables, as listed in the \"Notes\" section. The original dataset contained absolute counts, our final dataset provides proportions of various industry areas.\n",
    "\n",
    "- **Time Restrictions:** Data is based on 2021 ACS version, it contains 5-year estimates.\n",
    "\n",
    "- **Source:** Data was obtained from the [American Community Survey DP03](https://data.census.gov/) via the [Census Data Platform](https://data.census.gov/table/ACSDP5Y2021.DP03?t=Industry&g=010XX00US$0500000).\n",
    "\n",
    "- **Notes:** \n",
    "\n",
    "    - This dataset is also available for the Metropolitan Statistical Area level. The list of MSAs that are included is`metrolist.csv`, which serves as a source of truth.\n",
    "\n",
    "    - The `industry_absolute` dataset contains absolute counts rather than proportions. The following variables were extracted from the raw dataset:\n",
    "\n",
    "    \"DP03_0004E\": Employed Population     \n",
    "    \"DP03_0005E\": Unemployed Population    \n",
    "    \"DP03_0032E\": Employed Population Sum    \n",
    "    \"DP03_0033E\": Agriculture, Forestry, Fishing, and Mining Industry Employment   \n",
    "    \"DP03_0034E\": Construction Industry Employment   \n",
    "    \"DP03_0035E\": Manufacturing Industry Employment    \n",
    "    \"DP03_0036E\": Wholesale Trade Industry Employment   \n",
    "    \"DP03_0037E\": Retail Trade Industry Employment   \n",
    "    \"DP03_0038E\": Transportation and Warehousing, and Utilities Industry Employment   \n",
    "    \"DP03_0039E\": Information Industry Employment   \n",
    "    \"DP03_0040E\": Finance and Insurance, Real Estate, and Rental and Leasing Industry Employment   \n",
    "    \"DP03_0041E\": Professional, Scientific, Management, Administrative, and Waste Management Services Employment   \n",
    "    \"DP03_0042E\": Educational Services, and Health Care and Social Assistance Employment    \n",
    "    \"DP03_0043E\": Arts, Entertainment, Recreation, and Accommodation and Food Services Employment    \n",
    "    \"DP03_0044E\": Other Services, Except Public Administration Employment    \n",
    "    \"DP03_0045E\": Public Administration Employment   \n"
   ]
  },
  {
   "cell_type": "markdown",
   "metadata": {},
   "source": [
    "### <a id='toc1_3_3_'></a>[Urbanization level](#toc0_)\n",
    "\n",
    "- **Definition:** This dataset comprises variables representing urban and rural areas within counties, including population, land, and housing characteristics.\n",
    "\n",
    "- **Time Restrictions:** 2020\n",
    "\n",
    "- **Source:** Data was obtained from the [United States Census Beureu](https://www.census.gov/en.html) via [this link](https://www.census.gov/programs-surveys/geography/guidance/geo-areas/urban-rural.html).\n",
    "\n",
    "- **Notes:** The variables in the final datasets have the following interpretation:\n",
    "\n",
    "\n",
    "HOUDEN_RUR - 2020 Rural housing unit density of the County (square miles)   \n",
    "POPDEN_RUR - 2020 Rural population density of the County (square miles)   \n",
    "POPDEN_URB - 2020 Urban population density of the County (square miles)   \n",
    "HOUDEN_URB - 2020 Urban housing unit density of the County (square miles)   \n",
    "ALAND_PCT_RUR - Percent of 2020 land within the County that is classified as Rural   \n"
   ]
  },
  {
   "cell_type": "markdown",
   "metadata": {},
   "source": [
    "### <a id='toc1_3_4_'></a>[Urbanization level MSA](#toc0_)\n",
    "\n",
    "- **Definition:** This dataset comprises variables representing population in rural and urban areas, as also number of housing in urban and rural areas in MSAs. Note that due to data availability restrictions, the variables listed in `Urbanization level` for MSA are different!\n",
    "\n",
    "- **Time Restrictions:** 2020\n",
    "\n",
    "- **Source:** Data was obtained from the [United States Census Beureu](https://www.census.gov/en.html).\n",
    "\n",
    "- **Notes:** The variables in the final datasets have the following interpretation:\n",
    "\n",
    "    urban_housing - number of housing units in urban areas            \n",
    "    rural_housing - number of housing units in rural areas          \n",
    "    urban_pop - number of population in urban areas            \n",
    "    rural_pop - number of population in rural areas           \n",
    "    rural_pop_prct - percent of population in rural areas       \n",
    "    rural_housing_prct - percent of housing units in rural areas       \n",
    "  \n"
   ]
  },
  {
   "cell_type": "markdown",
   "metadata": {},
   "source": [
    "### <a id='toc1_3_5_'></a>[Burdens](#toc0_)\n",
    "\n",
    "- **Definition:** Burdens consist of two variables: Housing burden and Energy burden.  Both variables represent the percentages of households in a given county that qualify for these burdens. They are defined as follows:\n",
    "    - Housing burden (%) - the share of households that are both earning less than 80% of Housing and Urban Development’s Area Median Family Income and are spending more than 30% of their income on housing costs.\n",
    "    - Energy burden (%) - the average annual housing energy costs divided by the average annual household income\n",
    "\n",
    "- **Time Restrictions:**  2014-2018 for housing burdens, 2018 for energy burdens\n",
    "\n",
    "- **Source:** Comprehensive Housing Affordability Strategy (CHAS) for housing burdens, Low-Income Energy Affordability Data (LEAD) for energy burdens. Obtained from the [Climate and Economic Justice Screening Tool](https://screeningtool.geoplatform.gov/en/downloads).\n",
    "\n",
    "\n",
    "- **Notes:**  The original dataset is at the census tract level. To obtain county-level data, we aggregated the information by calculating weighted averages based on the population of those areas.\n",
    "  \n"
   ]
  },
  {
   "cell_type": "markdown",
   "metadata": {},
   "source": [
    "### <a id='toc1_3_6_'></a>[Hazard](#toc0_)\n",
    "\n",
    "- **Definition:** The dataset introduces the following variables: Expected agricultural loss rate, Expected building loss rate, Expected population loss rate, diesel matter exposure, proximity to hazardous waste sites, and proximity to risk management plan facilities. The variables are defined as follows:\n",
    "\n",
    "    - diesel matter exposure (µg/m3) -  Diesel particulate matter level in air in micrograms per cubic meter \n",
    "\n",
    "    - agriculutral loss rate (%) -  Sum of the agricultural value at risk divided by total agricultural \n",
    "    value to get a wealth-neutral percent of agricultural value at risk.\n",
    "\n",
    "    - building loss rate (% decimals) - Sum of the building value at risk divided by total building value to get a \n",
    "    wealth-neutral percent of building value at risk\n",
    "\n",
    "    - population loss rate (%) - Sum of the expected fatalities and expected injuries (which are counted as \n",
    "    one-tenth of a fatality) in a census tract divided by total population in the tract to produce a per \n",
    "    capita rate. \n",
    "\n",
    "    - proximity to hazardous waste sites (1/km) - Count of hazardous waste management facilities (TSDFs and LQGs) within 5 km (or nearest one beyond 5 km), each divided by distance in km.\n",
    "\n",
    "    - proximity to risk managament plan facilities (1/km) - Count of RMP (potential chemical accident management plan) facilities within 5 km (or nearest one beyond 5 km), each divided by distance in km. \n",
    "\n",
    "- **Time Restrictions:**  2014-2021\n",
    "\n",
    "- **Source:** For loss rates, the National Risk Index (FEMA, 2014-2021), and EPA (varies, 2014-2021) for diesel matter exposure, proximity to hazardous waste sites, and proximity to risk management plan facilities. Obtained from the [Climate and Economic Justice Screening Tool](https://screeningtool.geoplatform.gov/en/downloads).\n",
    "\n",
    "\n",
    "- **Notes:**  The original dataset is at the census tract level. To obtain county-level data, we aggregated the information by calculating weighted averages based on the population of those areas.\n",
    "  \n"
   ]
  },
  {
   "cell_type": "markdown",
   "metadata": {},
   "source": [
    "### <a id='toc1_3_7_'></a>[Age Composition](#toc0_)\n",
    "\n",
    "- **Definition:** The dataset represents categories of small age intervals that together depict the age composition of a given county\n",
    "\n",
    "- **Time Restrictions:**  ACS 5-year estimates, 2021\n",
    "\n",
    "- **Source:** American Community Survey, obtained from the [Census Bureau](https://data.census.gov/table/ACSST1Y2022.S0101).\n",
    "\n",
    "- **Notes:** The variables are represented as percentages of the total population at the county level.\n",
    "  \n"
   ]
  },
  {
   "cell_type": "markdown",
   "metadata": {},
   "source": [
    "### <a id='toc1_3_8_'></a>[Income Distribution](#toc0_)\n",
    "\n",
    "- **Definition:** The dataset represents categories of income intervals that collectively depict the income distribution of a given county, the categories represent household incomes.\n",
    "\n",
    "- **Time Restrictions:**  ACS 5-year estimates, 2021\n",
    "\n",
    "- **Source:** American Community Survey, obtained from the [Census Bureau](https://data.census.gov/table/ACSST1Y2022.S0101).\n",
    "\n",
    "- **Notes:** The variables are represented as percentages of the households that qualify for a given category.\n",
    "  \n"
   ]
  },
  {
   "cell_type": "markdown",
   "metadata": {},
   "source": [
    "### <a id='toc1_3_9_'></a>[Homeownership Variables](#toc0_)\n",
    "\n",
    "- **Definition:** This is a set of 3 variables representing: median rent, median owner-occupied house value, homeownership rate.\n",
    "\n",
    "- **Time Restrictions:** ACS 5-year estimates, 2022 \n",
    "\n",
    "- **Source:** American Community Survey DP04, obtained from the [Census Bureau](https://data.census.gov/table/ACSDP5Y2022.DP04?q=owner%20occupied%20housing%20unitsS2502:%20Demographic%20Characteristics%20for%20Occupied%20Housing%20Units&g=010XX00US$0500000).\n",
    "\n",
    "- **Notes:** The variable homeownership_rate was calculated as the ratio of owner-occupied housing units to the total number of occupied housing units. Due to missingness, the following counties were imported from the older ACS 5-year estimates surveys:\n",
    "\n",
    "\n",
    "| GeoFIPS | GeoName            | year |\n",
    "|---------|---------------------|------|\n",
    "| 48301   | Loving, TX          | 2015 |\n",
    "| 48261   | Kenedy, TX          | 2017 |\n",
    "| 48417   | Shackelford, TX     | 2017 |\n",
    "| 48033   | Borden, TX          | 2017 |\n",
    "| 48269   | King, TX            | 2017 |\n",
    "| 48443   | Terrell, TX         | 2017 |\n",
    "| 22023   | Cameron, LA         | 2017 |\n",
    "| 6003    | Alpine, CA          | 2017 |\n"
   ]
  },
  {
   "cell_type": "markdown",
   "metadata": {},
   "source": [
    "## <a id='toc1_4_'></a>[Intervention Variables](#toc0_)"
   ]
  },
  {
   "cell_type": "markdown",
   "metadata": {},
   "source": [
    "### <a id='toc1_4_1_'></a>[USA Spendings datasets:](#toc0_)\n",
    "\n",
    "- **Definition** - The datasets `spending_transportation`, `spending_commerce`, and `spending_HHS` contain information on grant expenditures for counties in the United States. These grants were awarded by the following government departments: Transportation, Commerce, and Health and Human Services.\n",
    "- **Time Restrictions** - The data covers the period from 2010 to 2021.\n",
    "\n",
    "- **Source** - These datasets were obtained from [USA Spending](https://www.usaspending.gov/) and were accessed in October 2023. The data were collected through a search on the platform's custom award data download center, and you can access it [here](https://www.usaspending.gov/download_center/custom_award_data).\n",
    "\n",
    "- **Notes** - The raw datasets were filtered to include only the columns relevant to our analysis (we also dropped some potentially interesting columns that involved too many missing values) and were further grouped by FIPS code and year. This was done to reduce the size of the datasets for more efficient analysis. At the stage of initial filtering we also exlude all negative values that were found in `total_obligated_amount` column. Every spending dataset has a respective file with information on deleted negative values from every year, the file names follow the following pattern `info_negative..._val.pkl`."
   ]
  },
  {
   "cell_type": "markdown",
   "metadata": {},
   "source": [
    "Spendings on Transportation\n",
    "\n",
    "- Some FIPS values did not match the values found in GDP dataset. Many of them were only 3 digits (that did not match any existing fips, usually they missed some zeroes in the middle). We identified them by location names found in the `spending_transportation_names`. As a result, more than 90% 3 digit FIPS codes were restored. As the final result we have excluded 181 FIPS codes."
   ]
  },
  {
   "cell_type": "markdown",
   "metadata": {},
   "source": [
    "Spendings on Commerce\n",
    "\n",
    "- The number of FIPS codes deleted not present in the `gdp` dataset: 73"
   ]
  },
  {
   "cell_type": "markdown",
   "metadata": {},
   "source": [
    "Spendings on HHS\n",
    "\n",
    "- The number of FIPS codes deleted not present in the `gdp`  dataset: 99"
   ]
  }
 ],
 "metadata": {
  "kernelspec": {
   "display_name": "Python 3",
   "language": "python",
   "name": "python3"
  },
  "language_info": {
   "codemirror_mode": {
    "name": "ipython",
    "version": 3
   },
   "file_extension": ".py",
   "mimetype": "text/x-python",
   "name": "python",
   "nbconvert_exporter": "python",
   "pygments_lexer": "ipython3",
   "version": "3.12.0"
  },
  "orig_nbformat": 4
 },
 "nbformat": 4,
 "nbformat_minor": 2
}
