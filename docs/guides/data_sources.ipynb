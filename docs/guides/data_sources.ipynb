{
 "cells": [
  {
   "cell_type": "markdown",
   "metadata": {},
   "source": [
    "- The GDP data contained in `CAGDP1_2001_2021.csv` comes from [Regional Economic Accounts](Regional Economic Accounts) by Bureau of Economic Analysis. Downloaded on Oct 4, 2023. The following locations were removed due to NaNs:\n",
    "\n",
    "|   GeoFIPS | GeoName                                    |\n",
    "|----------:|--------------------------------------------|\n",
    "|     02063 | Chugach Census Area, AK*                  |\n",
    "|     02066 | Copper River Census Area, AK*            |\n",
    "|     02105 | Hoonah-Angoon Census Area, AK*           |\n",
    "|     02195 | Petersburg Borough, AK*                  |\n",
    "|     02198 | Prince of Wales-Hyder Census Area, AK*   |\n",
    "|     02201 | Prince of Wales-Outer Ketchikan Census Area, AK* |\n",
    "|     02230 | Skagway Municipality, AK*                |\n",
    "|     02261 | Valdez-Cordova Census Area, AK*          |\n",
    "|     02275 | Wrangell City and Borough, AK*           |\n",
    "|     08014 | Broomfield, CO*                          |\n",
    "\n",
    "\n"
   ]
  }
 ],
 "metadata": {
  "language_info": {
   "name": "python"
  },
  "orig_nbformat": 4
 },
 "nbformat": 4,
 "nbformat_minor": 2
}
