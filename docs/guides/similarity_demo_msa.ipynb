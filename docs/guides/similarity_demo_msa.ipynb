{
 "cells": [
  {
   "cell_type": "code",
   "execution_count": 1,
   "metadata": {},
   "outputs": [],
   "source": [
    "# set up for continuous integration\n",
    "# can be safely ignored by the user\n",
    "import os\n",
    "\n",
    "from cities.queries.fips_query import MSAFipsQuery\n",
    "# proper imports\n",
    "from cities.utils.data_grabber import (MSADataGrabber, list_available_features,\n",
    "                                       list_interventions, list_outcomes,\n",
    "                                       list_tensed_features)\n",
    "\n",
    "smoke_test = \"CI\" in os.environ\n",
    "smoke_test = True\n",
    "sample_size = 10 if smoke_test else 100"
   ]
  },
  {
   "cell_type": "code",
   "execution_count": null,
   "metadata": {},
   "outputs": [],
   "source": [
    "# testing refactored functions\n",
    "\n",
    "dg = MSADataGrabber()\n",
    "\n",
    "list_available_features(level=\"msa\")"
   ]
  },
  {
   "cell_type": "code",
   "execution_count": null,
   "metadata": {},
   "outputs": [],
   "source": [
    "f = MSAFipsQuery(10180, \"gdp_ma\") # or just gdp?\n",
    "#f.compare_my_outcome_to_others(sample_size=sample_size, range_multiplier=10)"
   ]
  }
 ],
 "metadata": {
  "kernelspec": {
   "display_name": "Python 3",
   "language": "python",
   "name": "python3"
  },
  "language_info": {
   "codemirror_mode": {
    "name": "ipython",
    "version": 3
   },
   "file_extension": ".py",
   "mimetype": "text/x-python",
   "name": "python",
   "nbconvert_exporter": "python",
   "pygments_lexer": "ipython3",
   "version": "3.11.7"
  }
 },
 "nbformat": 4,
 "nbformat_minor": 2
}
