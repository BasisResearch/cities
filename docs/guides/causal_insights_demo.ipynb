{
 "cells": [
  {
   "cell_type": "code",
   "execution_count": 1,
   "metadata": {},
   "outputs": [],
   "source": [
    "import os\n",
    "import logging\n",
    "\n",
    "import pandas as pd\n",
    "import seaborn as sns\n",
    "import matplotlib.pyplot as plt\n",
    "import numpy as np\n",
    "from scipy import stats\n",
    "import dill\n",
    "import plotly.graph_objects as go\n",
    "import random\n",
    "\n",
    "import torch\n",
    "import pyro\n",
    "import pyro.distributions as dist\n",
    "from pyro.infer.autoguide import AutoNormal, AutoMultivariateNormal, AutoDelta\n",
    "from pyro.infer import SVI, Trace_ELBO, Predictive\n",
    "from pyro.optim import Adam\n",
    "from chirho.indexed.handlers import IndexPlatesMessenger\n",
    "from chirho.counterfactual.handlers import MultiWorldCounterfactual\n",
    "from chirho.indexed.ops import IndexSet, gather, indices_of\n",
    "from chirho.interventional.handlers import do\n",
    "from chirho.observational.handlers import condition\n",
    "\n",
    "\n",
    "from cities.utils.data_grabber import (DataGrabber, list_available_features, list_tensed_features, list_interventions, list_outcomes)\n",
    "from cities.utils.cleaning_utils import check_if_tensed, find_repo_root\n",
    "from cities.queries.causal_insight import CausalInsight\n",
    "from cities.modeling.model_interactions import model_cities_interaction\n",
    "from cities.modeling.model_interactions import InteractionsModel\n",
    "from cities.modeling.modeling_utils import (prep_wide_data_for_inference, train_interactions_model)\n",
    "from cities.utils.cleaning_utils import find_repo_root\n"
   ]
  },
  {
   "cell_type": "code",
   "execution_count": 2,
   "metadata": {},
   "outputs": [
    {
     "ename": "NameError",
     "evalue": "name 'random' is not defined",
     "output_type": "error",
     "traceback": [
      "\u001b[0;31m---------------------------------------------------------------------------\u001b[0m",
      "\u001b[0;31mNameError\u001b[0m                                 Traceback (most recent call last)",
      "\u001b[1;32m/home/rafal/s78projects/cities/docs/guides/causal_insights_demo.ipynb Cell 2\u001b[0m line \u001b[0;36m1\n\u001b[1;32m      <a href='vscode-notebook-cell:/home/rafal/s78projects/cities/docs/guides/causal_insights_demo.ipynb#W1sZmlsZQ%3D%3D?line=5'>6</a>\u001b[0m intervention\u001b[39m=\u001b[39m\u001b[39m'\u001b[39m\u001b[39mspending_commerce\u001b[39m\u001b[39m'\u001b[39m\n\u001b[1;32m      <a href='vscode-notebook-cell:/home/rafal/s78projects/cities/docs/guides/causal_insights_demo.ipynb#W1sZmlsZQ%3D%3D?line=7'>8</a>\u001b[0m \u001b[39m# if you want random intervention and outcome\u001b[39;00m\n\u001b[1;32m      <a href='vscode-notebook-cell:/home/rafal/s78projects/cities/docs/guides/causal_insights_demo.ipynb#W1sZmlsZQ%3D%3D?line=8'>9</a>\u001b[0m \u001b[39m# this should be uncommented\u001b[39;00m\n\u001b[0;32m---> <a href='vscode-notebook-cell:/home/rafal/s78projects/cities/docs/guides/causal_insights_demo.ipynb#W1sZmlsZQ%3D%3D?line=9'>10</a>\u001b[0m intervention \u001b[39m=\u001b[39m random\u001b[39m.\u001b[39mchoice(interventions)\n\u001b[1;32m     <a href='vscode-notebook-cell:/home/rafal/s78projects/cities/docs/guides/causal_insights_demo.ipynb#W1sZmlsZQ%3D%3D?line=10'>11</a>\u001b[0m outcome \u001b[39m=\u001b[39m random\u001b[39m.\u001b[39mchoice(outcomes)\n",
      "\u001b[0;31mNameError\u001b[0m: name 'random' is not defined"
     ]
    }
   ],
   "source": [
    "interventions = list_interventions()\n",
    "outcomes = list_outcomes()\n",
    "shifts = [1,2,3]\n",
    "\n",
    "outcome = 'unemployment_rate'\n",
    "intervention='spending_commerce'\n",
    "\n",
    "# if you want random intervention and outcome\n",
    "# this should be uncommented\n",
    "intervention = random.choice(interventions)\n",
    "outcome = random.choice(outcomes)"
   ]
  },
  {
   "cell_type": "code",
   "execution_count": null,
   "metadata": {},
   "outputs": [
    {
     "ename": "NameError",
     "evalue": "name 'intervention' is not defined",
     "output_type": "error",
     "traceback": [
      "\u001b[0;31m---------------------------------------------------------------------------\u001b[0m",
      "\u001b[0;31mNameError\u001b[0m                                 Traceback (most recent call last)",
      "\u001b[1;32m/home/rafal/s78projects/cities/docs/guides/causal_insights_demo.ipynb Cell 3\u001b[0m line \u001b[0;36m2\n\u001b[1;32m      <a href='vscode-notebook-cell:/home/rafal/s78projects/cities/docs/guides/causal_insights_demo.ipynb#W2sZmlsZQ%3D%3D?line=0'>1</a>\u001b[0m ci \u001b[39m=\u001b[39m CausalInsight(\n\u001b[0;32m----> <a href='vscode-notebook-cell:/home/rafal/s78projects/cities/docs/guides/causal_insights_demo.ipynb#W2sZmlsZQ%3D%3D?line=1'>2</a>\u001b[0m     outcome_dataset\u001b[39m=\u001b[39m intervention,\n\u001b[1;32m      <a href='vscode-notebook-cell:/home/rafal/s78projects/cities/docs/guides/causal_insights_demo.ipynb#W2sZmlsZQ%3D%3D?line=2'>3</a>\u001b[0m     intervention_dataset\u001b[39m=\u001b[39m outcome,\n\u001b[1;32m      <a href='vscode-notebook-cell:/home/rafal/s78projects/cities/docs/guides/causal_insights_demo.ipynb#W2sZmlsZQ%3D%3D?line=3'>4</a>\u001b[0m     num_samples\u001b[39m=\u001b[39m\u001b[39m1000\u001b[39m,\n\u001b[1;32m      <a href='vscode-notebook-cell:/home/rafal/s78projects/cities/docs/guides/causal_insights_demo.ipynb#W2sZmlsZQ%3D%3D?line=4'>5</a>\u001b[0m     )\n",
      "\u001b[0;31mNameError\u001b[0m: name 'intervention' is not defined"
     ]
    }
   ],
   "source": [
    "ci = CausalInsight(\n",
    "    outcome_dataset= intervention,\n",
    "    intervention_dataset= outcome,\n",
    "    num_samples=1000,\n",
    "    )"
   ]
  }
 ],
 "metadata": {
  "kernelspec": {
   "display_name": "chirho",
   "language": "python",
   "name": "python3"
  },
  "language_info": {
   "codemirror_mode": {
    "name": "ipython",
    "version": 3
   },
   "file_extension": ".py",
   "mimetype": "text/x-python",
   "name": "python",
   "nbconvert_exporter": "python",
   "pygments_lexer": "ipython3",
   "version": "3.10.13"
  }
 },
 "nbformat": 4,
 "nbformat_minor": 2
}
