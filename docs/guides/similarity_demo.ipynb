{
 "cells": [
  {
   "cell_type": "code",
   "execution_count": 1,
   "metadata": {},
   "outputs": [],
   "source": [
    "import pandas as pd\n",
    "import numpy as np\n",
    "import matplotlib.pyplot as plt\n",
    "from plotly import graph_objs as go\n",
    "\n",
    "from cities.utils.data_grabber import DataGrabber, list_available_features, list_tensed_features\n",
    "from cities.queries.fips_query import FipsQuery\n"
   ]
  },
  {
   "cell_type": "code",
   "execution_count": 23,
   "metadata": {},
   "outputs": [
    {
     "data": {
      "application/vnd.plotly.v1+json": {
       "config": {
        "plotlyServerURL": "https://plot.ly"
       },
       "data": [
        {
         "type": "bar",
         "x": [
          "2003_gdp",
          "2004_gdp",
          "2005_gdp",
          "2006_gdp",
          "2007_gdp",
          "2008_gdp",
          "2009_gdp",
          "2010_gdp",
          "1993_population",
          "1994_population",
          "1995_population",
          "1996_population",
          "1997_population",
          "1998_population",
          "1999_population",
          "2000_population",
          "2001_population",
          "2002_population",
          "2003_population",
          "2004_population",
          "2005_population",
          "2006_population",
          "2007_population",
          "2008_population",
          "2009_population",
          "2010_population",
          "2011_population",
          "2012_population",
          "2013_population",
          "2014_population",
          "2015_population",
          "2016_population",
          "2017_population",
          "2018_population",
          "2019_population",
          "2020_population",
          "2021_population"
         ],
         "y": [
          0.020301348136399684,
          0.030452022204599524,
          0.045678033306899284,
          0.06851704996034894,
          0.10277557494052339,
          0.1541633624107851,
          0.23124504361617765,
          0.34686756542426644,
          0.000003911351885242711,
          0.000005867027827864066,
          0.000008800541741796099,
          0.000013200812612694149,
          0.000019801218919041223,
          0.000029701828378561834,
          0.00004455274256784275,
          0.00006682911385176412,
          0.00010024367077764619,
          0.0001503655061664693,
          0.00022554825924970393,
          0.0003383223888745559,
          0.0005074835833118338,
          0.0007612253749677508,
          0.0011418380624516262,
          0.0017127570936774392,
          0.002569135640516159,
          0.003853703460774238,
          0.005780555191161357,
          0.008670832786742036,
          0.013006249180113054,
          0.01950937377016958,
          0.029264060655254373,
          0.04389609098288156,
          0.06584413647432234,
          0.09876620471148351,
          0.14814930706722526,
          0.22222396060083788,
          0.33333594090125684
         ]
        }
       ],
       "layout": {
        "template": {
         "data": {
          "bar": [
           {
            "error_x": {
             "color": "#2a3f5f"
            },
            "error_y": {
             "color": "#2a3f5f"
            },
            "marker": {
             "line": {
              "color": "white",
              "width": 0.5
             },
             "pattern": {
              "fillmode": "overlay",
              "size": 10,
              "solidity": 0.2
             }
            },
            "type": "bar"
           }
          ],
          "barpolar": [
           {
            "marker": {
             "line": {
              "color": "white",
              "width": 0.5
             },
             "pattern": {
              "fillmode": "overlay",
              "size": 10,
              "solidity": 0.2
             }
            },
            "type": "barpolar"
           }
          ],
          "carpet": [
           {
            "aaxis": {
             "endlinecolor": "#2a3f5f",
             "gridcolor": "#C8D4E3",
             "linecolor": "#C8D4E3",
             "minorgridcolor": "#C8D4E3",
             "startlinecolor": "#2a3f5f"
            },
            "baxis": {
             "endlinecolor": "#2a3f5f",
             "gridcolor": "#C8D4E3",
             "linecolor": "#C8D4E3",
             "minorgridcolor": "#C8D4E3",
             "startlinecolor": "#2a3f5f"
            },
            "type": "carpet"
           }
          ],
          "choropleth": [
           {
            "colorbar": {
             "outlinewidth": 0,
             "ticks": ""
            },
            "type": "choropleth"
           }
          ],
          "contour": [
           {
            "colorbar": {
             "outlinewidth": 0,
             "ticks": ""
            },
            "colorscale": [
             [
              0,
              "#0d0887"
             ],
             [
              0.1111111111111111,
              "#46039f"
             ],
             [
              0.2222222222222222,
              "#7201a8"
             ],
             [
              0.3333333333333333,
              "#9c179e"
             ],
             [
              0.4444444444444444,
              "#bd3786"
             ],
             [
              0.5555555555555556,
              "#d8576b"
             ],
             [
              0.6666666666666666,
              "#ed7953"
             ],
             [
              0.7777777777777778,
              "#fb9f3a"
             ],
             [
              0.8888888888888888,
              "#fdca26"
             ],
             [
              1,
              "#f0f921"
             ]
            ],
            "type": "contour"
           }
          ],
          "contourcarpet": [
           {
            "colorbar": {
             "outlinewidth": 0,
             "ticks": ""
            },
            "type": "contourcarpet"
           }
          ],
          "heatmap": [
           {
            "colorbar": {
             "outlinewidth": 0,
             "ticks": ""
            },
            "colorscale": [
             [
              0,
              "#0d0887"
             ],
             [
              0.1111111111111111,
              "#46039f"
             ],
             [
              0.2222222222222222,
              "#7201a8"
             ],
             [
              0.3333333333333333,
              "#9c179e"
             ],
             [
              0.4444444444444444,
              "#bd3786"
             ],
             [
              0.5555555555555556,
              "#d8576b"
             ],
             [
              0.6666666666666666,
              "#ed7953"
             ],
             [
              0.7777777777777778,
              "#fb9f3a"
             ],
             [
              0.8888888888888888,
              "#fdca26"
             ],
             [
              1,
              "#f0f921"
             ]
            ],
            "type": "heatmap"
           }
          ],
          "heatmapgl": [
           {
            "colorbar": {
             "outlinewidth": 0,
             "ticks": ""
            },
            "colorscale": [
             [
              0,
              "#0d0887"
             ],
             [
              0.1111111111111111,
              "#46039f"
             ],
             [
              0.2222222222222222,
              "#7201a8"
             ],
             [
              0.3333333333333333,
              "#9c179e"
             ],
             [
              0.4444444444444444,
              "#bd3786"
             ],
             [
              0.5555555555555556,
              "#d8576b"
             ],
             [
              0.6666666666666666,
              "#ed7953"
             ],
             [
              0.7777777777777778,
              "#fb9f3a"
             ],
             [
              0.8888888888888888,
              "#fdca26"
             ],
             [
              1,
              "#f0f921"
             ]
            ],
            "type": "heatmapgl"
           }
          ],
          "histogram": [
           {
            "marker": {
             "pattern": {
              "fillmode": "overlay",
              "size": 10,
              "solidity": 0.2
             }
            },
            "type": "histogram"
           }
          ],
          "histogram2d": [
           {
            "colorbar": {
             "outlinewidth": 0,
             "ticks": ""
            },
            "colorscale": [
             [
              0,
              "#0d0887"
             ],
             [
              0.1111111111111111,
              "#46039f"
             ],
             [
              0.2222222222222222,
              "#7201a8"
             ],
             [
              0.3333333333333333,
              "#9c179e"
             ],
             [
              0.4444444444444444,
              "#bd3786"
             ],
             [
              0.5555555555555556,
              "#d8576b"
             ],
             [
              0.6666666666666666,
              "#ed7953"
             ],
             [
              0.7777777777777778,
              "#fb9f3a"
             ],
             [
              0.8888888888888888,
              "#fdca26"
             ],
             [
              1,
              "#f0f921"
             ]
            ],
            "type": "histogram2d"
           }
          ],
          "histogram2dcontour": [
           {
            "colorbar": {
             "outlinewidth": 0,
             "ticks": ""
            },
            "colorscale": [
             [
              0,
              "#0d0887"
             ],
             [
              0.1111111111111111,
              "#46039f"
             ],
             [
              0.2222222222222222,
              "#7201a8"
             ],
             [
              0.3333333333333333,
              "#9c179e"
             ],
             [
              0.4444444444444444,
              "#bd3786"
             ],
             [
              0.5555555555555556,
              "#d8576b"
             ],
             [
              0.6666666666666666,
              "#ed7953"
             ],
             [
              0.7777777777777778,
              "#fb9f3a"
             ],
             [
              0.8888888888888888,
              "#fdca26"
             ],
             [
              1,
              "#f0f921"
             ]
            ],
            "type": "histogram2dcontour"
           }
          ],
          "mesh3d": [
           {
            "colorbar": {
             "outlinewidth": 0,
             "ticks": ""
            },
            "type": "mesh3d"
           }
          ],
          "parcoords": [
           {
            "line": {
             "colorbar": {
              "outlinewidth": 0,
              "ticks": ""
             }
            },
            "type": "parcoords"
           }
          ],
          "pie": [
           {
            "automargin": true,
            "type": "pie"
           }
          ],
          "scatter": [
           {
            "fillpattern": {
             "fillmode": "overlay",
             "size": 10,
             "solidity": 0.2
            },
            "type": "scatter"
           }
          ],
          "scatter3d": [
           {
            "line": {
             "colorbar": {
              "outlinewidth": 0,
              "ticks": ""
             }
            },
            "marker": {
             "colorbar": {
              "outlinewidth": 0,
              "ticks": ""
             }
            },
            "type": "scatter3d"
           }
          ],
          "scattercarpet": [
           {
            "marker": {
             "colorbar": {
              "outlinewidth": 0,
              "ticks": ""
             }
            },
            "type": "scattercarpet"
           }
          ],
          "scattergeo": [
           {
            "marker": {
             "colorbar": {
              "outlinewidth": 0,
              "ticks": ""
             }
            },
            "type": "scattergeo"
           }
          ],
          "scattergl": [
           {
            "marker": {
             "colorbar": {
              "outlinewidth": 0,
              "ticks": ""
             }
            },
            "type": "scattergl"
           }
          ],
          "scattermapbox": [
           {
            "marker": {
             "colorbar": {
              "outlinewidth": 0,
              "ticks": ""
             }
            },
            "type": "scattermapbox"
           }
          ],
          "scatterpolar": [
           {
            "marker": {
             "colorbar": {
              "outlinewidth": 0,
              "ticks": ""
             }
            },
            "type": "scatterpolar"
           }
          ],
          "scatterpolargl": [
           {
            "marker": {
             "colorbar": {
              "outlinewidth": 0,
              "ticks": ""
             }
            },
            "type": "scatterpolargl"
           }
          ],
          "scatterternary": [
           {
            "marker": {
             "colorbar": {
              "outlinewidth": 0,
              "ticks": ""
             }
            },
            "type": "scatterternary"
           }
          ],
          "surface": [
           {
            "colorbar": {
             "outlinewidth": 0,
             "ticks": ""
            },
            "colorscale": [
             [
              0,
              "#0d0887"
             ],
             [
              0.1111111111111111,
              "#46039f"
             ],
             [
              0.2222222222222222,
              "#7201a8"
             ],
             [
              0.3333333333333333,
              "#9c179e"
             ],
             [
              0.4444444444444444,
              "#bd3786"
             ],
             [
              0.5555555555555556,
              "#d8576b"
             ],
             [
              0.6666666666666666,
              "#ed7953"
             ],
             [
              0.7777777777777778,
              "#fb9f3a"
             ],
             [
              0.8888888888888888,
              "#fdca26"
             ],
             [
              1,
              "#f0f921"
             ]
            ],
            "type": "surface"
           }
          ],
          "table": [
           {
            "cells": {
             "fill": {
              "color": "#EBF0F8"
             },
             "line": {
              "color": "white"
             }
            },
            "header": {
             "fill": {
              "color": "#C8D4E3"
             },
             "line": {
              "color": "white"
             }
            },
            "type": "table"
           }
          ]
         },
         "layout": {
          "annotationdefaults": {
           "arrowcolor": "#2a3f5f",
           "arrowhead": 0,
           "arrowwidth": 1
          },
          "autotypenumbers": "strict",
          "coloraxis": {
           "colorbar": {
            "outlinewidth": 0,
            "ticks": ""
           }
          },
          "colorscale": {
           "diverging": [
            [
             0,
             "#8e0152"
            ],
            [
             0.1,
             "#c51b7d"
            ],
            [
             0.2,
             "#de77ae"
            ],
            [
             0.3,
             "#f1b6da"
            ],
            [
             0.4,
             "#fde0ef"
            ],
            [
             0.5,
             "#f7f7f7"
            ],
            [
             0.6,
             "#e6f5d0"
            ],
            [
             0.7,
             "#b8e186"
            ],
            [
             0.8,
             "#7fbc41"
            ],
            [
             0.9,
             "#4d9221"
            ],
            [
             1,
             "#276419"
            ]
           ],
           "sequential": [
            [
             0,
             "#0d0887"
            ],
            [
             0.1111111111111111,
             "#46039f"
            ],
            [
             0.2222222222222222,
             "#7201a8"
            ],
            [
             0.3333333333333333,
             "#9c179e"
            ],
            [
             0.4444444444444444,
             "#bd3786"
            ],
            [
             0.5555555555555556,
             "#d8576b"
            ],
            [
             0.6666666666666666,
             "#ed7953"
            ],
            [
             0.7777777777777778,
             "#fb9f3a"
            ],
            [
             0.8888888888888888,
             "#fdca26"
            ],
            [
             1,
             "#f0f921"
            ]
           ],
           "sequentialminus": [
            [
             0,
             "#0d0887"
            ],
            [
             0.1111111111111111,
             "#46039f"
            ],
            [
             0.2222222222222222,
             "#7201a8"
            ],
            [
             0.3333333333333333,
             "#9c179e"
            ],
            [
             0.4444444444444444,
             "#bd3786"
            ],
            [
             0.5555555555555556,
             "#d8576b"
            ],
            [
             0.6666666666666666,
             "#ed7953"
            ],
            [
             0.7777777777777778,
             "#fb9f3a"
            ],
            [
             0.8888888888888888,
             "#fdca26"
            ],
            [
             1,
             "#f0f921"
            ]
           ]
          },
          "colorway": [
           "#636efa",
           "#EF553B",
           "#00cc96",
           "#ab63fa",
           "#FFA15A",
           "#19d3f3",
           "#FF6692",
           "#B6E880",
           "#FF97FF",
           "#FECB52"
          ],
          "font": {
           "color": "#2a3f5f"
          },
          "geo": {
           "bgcolor": "white",
           "lakecolor": "white",
           "landcolor": "white",
           "showlakes": true,
           "showland": true,
           "subunitcolor": "#C8D4E3"
          },
          "hoverlabel": {
           "align": "left"
          },
          "hovermode": "closest",
          "mapbox": {
           "style": "light"
          },
          "paper_bgcolor": "white",
          "plot_bgcolor": "white",
          "polar": {
           "angularaxis": {
            "gridcolor": "#EBF0F8",
            "linecolor": "#EBF0F8",
            "ticks": ""
           },
           "bgcolor": "white",
           "radialaxis": {
            "gridcolor": "#EBF0F8",
            "linecolor": "#EBF0F8",
            "ticks": ""
           }
          },
          "scene": {
           "xaxis": {
            "backgroundcolor": "white",
            "gridcolor": "#DFE8F3",
            "gridwidth": 2,
            "linecolor": "#EBF0F8",
            "showbackground": true,
            "ticks": "",
            "zerolinecolor": "#EBF0F8"
           },
           "yaxis": {
            "backgroundcolor": "white",
            "gridcolor": "#DFE8F3",
            "gridwidth": 2,
            "linecolor": "#EBF0F8",
            "showbackground": true,
            "ticks": "",
            "zerolinecolor": "#EBF0F8"
           },
           "zaxis": {
            "backgroundcolor": "white",
            "gridcolor": "#DFE8F3",
            "gridwidth": 2,
            "linecolor": "#EBF0F8",
            "showbackground": true,
            "ticks": "",
            "zerolinecolor": "#EBF0F8"
           }
          },
          "shapedefaults": {
           "line": {
            "color": "#2a3f5f"
           }
          },
          "ternary": {
           "aaxis": {
            "gridcolor": "#DFE8F3",
            "linecolor": "#A2B1C6",
            "ticks": ""
           },
           "baxis": {
            "gridcolor": "#DFE8F3",
            "linecolor": "#A2B1C6",
            "ticks": ""
           },
           "bgcolor": "white",
           "caxis": {
            "gridcolor": "#DFE8F3",
            "linecolor": "#A2B1C6",
            "ticks": ""
           }
          },
          "title": {
           "x": 0.05
          },
          "xaxis": {
           "automargin": true,
           "gridcolor": "#EBF0F8",
           "linecolor": "#EBF0F8",
           "ticks": "",
           "title": {
            "standoff": 15
           },
           "zerolinecolor": "#EBF0F8",
           "zerolinewidth": 2
          },
          "yaxis": {
           "automargin": true,
           "gridcolor": "#EBF0F8",
           "linecolor": "#EBF0F8",
           "ticks": "",
           "title": {
            "standoff": 15
           },
           "zerolinecolor": "#EBF0F8",
           "zerolinewidth": 2
          }
         }
        },
        "title": {
         "text": "Weights of columns"
        },
        "xaxis": {
         "title": {
          "text": "columns"
         }
        },
        "yaxis": {
         "title": {
          "text": "weights"
         }
        }
       }
      }
     },
     "metadata": {},
     "output_type": "display_data"
    },
    {
     "data": {
      "text/plain": [
       "None"
      ]
     },
     "metadata": {},
     "output_type": "display_data"
    }
   ],
   "source": [
    "# note: you should expect different years for different variables, as\n",
    "# you restrict weights to certain years *for the outcome variable only*\n",
    "# and use whatever data is available for other variables\n",
    "# and other variables have different years available\n",
    "\n",
    "f  = FipsQuery(1007, outcome_var = \"gdp\",\n",
    "               feature_groups_with_weights= {\"gdp\": 1, \"population\":1}, #with one feature group only\n",
    "               # weights 1-4 won't make a difference\n",
    "               lag = 0, top =5, time_decay = 1.5, outcome_comparison_period=(2003, 2010))\n",
    "f.find_euclidean_kins()\n",
    "display(f.plot_weights())"
   ]
  },
  {
   "cell_type": "code",
   "execution_count": 24,
   "metadata": {},
   "outputs": [
    {
     "data": {
      "application/vnd.plotly.v1+json": {
       "config": {
        "plotlyServerURL": "https://plot.ly"
       },
       "data": [
        {
         "type": "bar",
         "x": [
          "2003_gdp",
          "2004_gdp",
          "2005_gdp",
          "2006_gdp",
          "2007_gdp",
          "2008_gdp",
          "2009_gdp",
          "2010_gdp"
         ],
         "y": [
          0.40414377059251627,
          0.42839239682806723,
          0.4540959406377513,
          0.4813416970760164,
          0.5102221989005774,
          0.5408355308346121,
          0.5732856626846888,
          0.6076828024457702
         ]
        }
       ],
       "layout": {
        "template": {
         "data": {
          "bar": [
           {
            "error_x": {
             "color": "#2a3f5f"
            },
            "error_y": {
             "color": "#2a3f5f"
            },
            "marker": {
             "line": {
              "color": "white",
              "width": 0.5
             },
             "pattern": {
              "fillmode": "overlay",
              "size": 10,
              "solidity": 0.2
             }
            },
            "type": "bar"
           }
          ],
          "barpolar": [
           {
            "marker": {
             "line": {
              "color": "white",
              "width": 0.5
             },
             "pattern": {
              "fillmode": "overlay",
              "size": 10,
              "solidity": 0.2
             }
            },
            "type": "barpolar"
           }
          ],
          "carpet": [
           {
            "aaxis": {
             "endlinecolor": "#2a3f5f",
             "gridcolor": "#C8D4E3",
             "linecolor": "#C8D4E3",
             "minorgridcolor": "#C8D4E3",
             "startlinecolor": "#2a3f5f"
            },
            "baxis": {
             "endlinecolor": "#2a3f5f",
             "gridcolor": "#C8D4E3",
             "linecolor": "#C8D4E3",
             "minorgridcolor": "#C8D4E3",
             "startlinecolor": "#2a3f5f"
            },
            "type": "carpet"
           }
          ],
          "choropleth": [
           {
            "colorbar": {
             "outlinewidth": 0,
             "ticks": ""
            },
            "type": "choropleth"
           }
          ],
          "contour": [
           {
            "colorbar": {
             "outlinewidth": 0,
             "ticks": ""
            },
            "colorscale": [
             [
              0,
              "#0d0887"
             ],
             [
              0.1111111111111111,
              "#46039f"
             ],
             [
              0.2222222222222222,
              "#7201a8"
             ],
             [
              0.3333333333333333,
              "#9c179e"
             ],
             [
              0.4444444444444444,
              "#bd3786"
             ],
             [
              0.5555555555555556,
              "#d8576b"
             ],
             [
              0.6666666666666666,
              "#ed7953"
             ],
             [
              0.7777777777777778,
              "#fb9f3a"
             ],
             [
              0.8888888888888888,
              "#fdca26"
             ],
             [
              1,
              "#f0f921"
             ]
            ],
            "type": "contour"
           }
          ],
          "contourcarpet": [
           {
            "colorbar": {
             "outlinewidth": 0,
             "ticks": ""
            },
            "type": "contourcarpet"
           }
          ],
          "heatmap": [
           {
            "colorbar": {
             "outlinewidth": 0,
             "ticks": ""
            },
            "colorscale": [
             [
              0,
              "#0d0887"
             ],
             [
              0.1111111111111111,
              "#46039f"
             ],
             [
              0.2222222222222222,
              "#7201a8"
             ],
             [
              0.3333333333333333,
              "#9c179e"
             ],
             [
              0.4444444444444444,
              "#bd3786"
             ],
             [
              0.5555555555555556,
              "#d8576b"
             ],
             [
              0.6666666666666666,
              "#ed7953"
             ],
             [
              0.7777777777777778,
              "#fb9f3a"
             ],
             [
              0.8888888888888888,
              "#fdca26"
             ],
             [
              1,
              "#f0f921"
             ]
            ],
            "type": "heatmap"
           }
          ],
          "heatmapgl": [
           {
            "colorbar": {
             "outlinewidth": 0,
             "ticks": ""
            },
            "colorscale": [
             [
              0,
              "#0d0887"
             ],
             [
              0.1111111111111111,
              "#46039f"
             ],
             [
              0.2222222222222222,
              "#7201a8"
             ],
             [
              0.3333333333333333,
              "#9c179e"
             ],
             [
              0.4444444444444444,
              "#bd3786"
             ],
             [
              0.5555555555555556,
              "#d8576b"
             ],
             [
              0.6666666666666666,
              "#ed7953"
             ],
             [
              0.7777777777777778,
              "#fb9f3a"
             ],
             [
              0.8888888888888888,
              "#fdca26"
             ],
             [
              1,
              "#f0f921"
             ]
            ],
            "type": "heatmapgl"
           }
          ],
          "histogram": [
           {
            "marker": {
             "pattern": {
              "fillmode": "overlay",
              "size": 10,
              "solidity": 0.2
             }
            },
            "type": "histogram"
           }
          ],
          "histogram2d": [
           {
            "colorbar": {
             "outlinewidth": 0,
             "ticks": ""
            },
            "colorscale": [
             [
              0,
              "#0d0887"
             ],
             [
              0.1111111111111111,
              "#46039f"
             ],
             [
              0.2222222222222222,
              "#7201a8"
             ],
             [
              0.3333333333333333,
              "#9c179e"
             ],
             [
              0.4444444444444444,
              "#bd3786"
             ],
             [
              0.5555555555555556,
              "#d8576b"
             ],
             [
              0.6666666666666666,
              "#ed7953"
             ],
             [
              0.7777777777777778,
              "#fb9f3a"
             ],
             [
              0.8888888888888888,
              "#fdca26"
             ],
             [
              1,
              "#f0f921"
             ]
            ],
            "type": "histogram2d"
           }
          ],
          "histogram2dcontour": [
           {
            "colorbar": {
             "outlinewidth": 0,
             "ticks": ""
            },
            "colorscale": [
             [
              0,
              "#0d0887"
             ],
             [
              0.1111111111111111,
              "#46039f"
             ],
             [
              0.2222222222222222,
              "#7201a8"
             ],
             [
              0.3333333333333333,
              "#9c179e"
             ],
             [
              0.4444444444444444,
              "#bd3786"
             ],
             [
              0.5555555555555556,
              "#d8576b"
             ],
             [
              0.6666666666666666,
              "#ed7953"
             ],
             [
              0.7777777777777778,
              "#fb9f3a"
             ],
             [
              0.8888888888888888,
              "#fdca26"
             ],
             [
              1,
              "#f0f921"
             ]
            ],
            "type": "histogram2dcontour"
           }
          ],
          "mesh3d": [
           {
            "colorbar": {
             "outlinewidth": 0,
             "ticks": ""
            },
            "type": "mesh3d"
           }
          ],
          "parcoords": [
           {
            "line": {
             "colorbar": {
              "outlinewidth": 0,
              "ticks": ""
             }
            },
            "type": "parcoords"
           }
          ],
          "pie": [
           {
            "automargin": true,
            "type": "pie"
           }
          ],
          "scatter": [
           {
            "fillpattern": {
             "fillmode": "overlay",
             "size": 10,
             "solidity": 0.2
            },
            "type": "scatter"
           }
          ],
          "scatter3d": [
           {
            "line": {
             "colorbar": {
              "outlinewidth": 0,
              "ticks": ""
             }
            },
            "marker": {
             "colorbar": {
              "outlinewidth": 0,
              "ticks": ""
             }
            },
            "type": "scatter3d"
           }
          ],
          "scattercarpet": [
           {
            "marker": {
             "colorbar": {
              "outlinewidth": 0,
              "ticks": ""
             }
            },
            "type": "scattercarpet"
           }
          ],
          "scattergeo": [
           {
            "marker": {
             "colorbar": {
              "outlinewidth": 0,
              "ticks": ""
             }
            },
            "type": "scattergeo"
           }
          ],
          "scattergl": [
           {
            "marker": {
             "colorbar": {
              "outlinewidth": 0,
              "ticks": ""
             }
            },
            "type": "scattergl"
           }
          ],
          "scattermapbox": [
           {
            "marker": {
             "colorbar": {
              "outlinewidth": 0,
              "ticks": ""
             }
            },
            "type": "scattermapbox"
           }
          ],
          "scatterpolar": [
           {
            "marker": {
             "colorbar": {
              "outlinewidth": 0,
              "ticks": ""
             }
            },
            "type": "scatterpolar"
           }
          ],
          "scatterpolargl": [
           {
            "marker": {
             "colorbar": {
              "outlinewidth": 0,
              "ticks": ""
             }
            },
            "type": "scatterpolargl"
           }
          ],
          "scatterternary": [
           {
            "marker": {
             "colorbar": {
              "outlinewidth": 0,
              "ticks": ""
             }
            },
            "type": "scatterternary"
           }
          ],
          "surface": [
           {
            "colorbar": {
             "outlinewidth": 0,
             "ticks": ""
            },
            "colorscale": [
             [
              0,
              "#0d0887"
             ],
             [
              0.1111111111111111,
              "#46039f"
             ],
             [
              0.2222222222222222,
              "#7201a8"
             ],
             [
              0.3333333333333333,
              "#9c179e"
             ],
             [
              0.4444444444444444,
              "#bd3786"
             ],
             [
              0.5555555555555556,
              "#d8576b"
             ],
             [
              0.6666666666666666,
              "#ed7953"
             ],
             [
              0.7777777777777778,
              "#fb9f3a"
             ],
             [
              0.8888888888888888,
              "#fdca26"
             ],
             [
              1,
              "#f0f921"
             ]
            ],
            "type": "surface"
           }
          ],
          "table": [
           {
            "cells": {
             "fill": {
              "color": "#EBF0F8"
             },
             "line": {
              "color": "white"
             }
            },
            "header": {
             "fill": {
              "color": "#C8D4E3"
             },
             "line": {
              "color": "white"
             }
            },
            "type": "table"
           }
          ]
         },
         "layout": {
          "annotationdefaults": {
           "arrowcolor": "#2a3f5f",
           "arrowhead": 0,
           "arrowwidth": 1
          },
          "autotypenumbers": "strict",
          "coloraxis": {
           "colorbar": {
            "outlinewidth": 0,
            "ticks": ""
           }
          },
          "colorscale": {
           "diverging": [
            [
             0,
             "#8e0152"
            ],
            [
             0.1,
             "#c51b7d"
            ],
            [
             0.2,
             "#de77ae"
            ],
            [
             0.3,
             "#f1b6da"
            ],
            [
             0.4,
             "#fde0ef"
            ],
            [
             0.5,
             "#f7f7f7"
            ],
            [
             0.6,
             "#e6f5d0"
            ],
            [
             0.7,
             "#b8e186"
            ],
            [
             0.8,
             "#7fbc41"
            ],
            [
             0.9,
             "#4d9221"
            ],
            [
             1,
             "#276419"
            ]
           ],
           "sequential": [
            [
             0,
             "#0d0887"
            ],
            [
             0.1111111111111111,
             "#46039f"
            ],
            [
             0.2222222222222222,
             "#7201a8"
            ],
            [
             0.3333333333333333,
             "#9c179e"
            ],
            [
             0.4444444444444444,
             "#bd3786"
            ],
            [
             0.5555555555555556,
             "#d8576b"
            ],
            [
             0.6666666666666666,
             "#ed7953"
            ],
            [
             0.7777777777777778,
             "#fb9f3a"
            ],
            [
             0.8888888888888888,
             "#fdca26"
            ],
            [
             1,
             "#f0f921"
            ]
           ],
           "sequentialminus": [
            [
             0,
             "#0d0887"
            ],
            [
             0.1111111111111111,
             "#46039f"
            ],
            [
             0.2222222222222222,
             "#7201a8"
            ],
            [
             0.3333333333333333,
             "#9c179e"
            ],
            [
             0.4444444444444444,
             "#bd3786"
            ],
            [
             0.5555555555555556,
             "#d8576b"
            ],
            [
             0.6666666666666666,
             "#ed7953"
            ],
            [
             0.7777777777777778,
             "#fb9f3a"
            ],
            [
             0.8888888888888888,
             "#fdca26"
            ],
            [
             1,
             "#f0f921"
            ]
           ]
          },
          "colorway": [
           "#636efa",
           "#EF553B",
           "#00cc96",
           "#ab63fa",
           "#FFA15A",
           "#19d3f3",
           "#FF6692",
           "#B6E880",
           "#FF97FF",
           "#FECB52"
          ],
          "font": {
           "color": "#2a3f5f"
          },
          "geo": {
           "bgcolor": "white",
           "lakecolor": "white",
           "landcolor": "white",
           "showlakes": true,
           "showland": true,
           "subunitcolor": "#C8D4E3"
          },
          "hoverlabel": {
           "align": "left"
          },
          "hovermode": "closest",
          "mapbox": {
           "style": "light"
          },
          "paper_bgcolor": "white",
          "plot_bgcolor": "white",
          "polar": {
           "angularaxis": {
            "gridcolor": "#EBF0F8",
            "linecolor": "#EBF0F8",
            "ticks": ""
           },
           "bgcolor": "white",
           "radialaxis": {
            "gridcolor": "#EBF0F8",
            "linecolor": "#EBF0F8",
            "ticks": ""
           }
          },
          "scene": {
           "xaxis": {
            "backgroundcolor": "white",
            "gridcolor": "#DFE8F3",
            "gridwidth": 2,
            "linecolor": "#EBF0F8",
            "showbackground": true,
            "ticks": "",
            "zerolinecolor": "#EBF0F8"
           },
           "yaxis": {
            "backgroundcolor": "white",
            "gridcolor": "#DFE8F3",
            "gridwidth": 2,
            "linecolor": "#EBF0F8",
            "showbackground": true,
            "ticks": "",
            "zerolinecolor": "#EBF0F8"
           },
           "zaxis": {
            "backgroundcolor": "white",
            "gridcolor": "#DFE8F3",
            "gridwidth": 2,
            "linecolor": "#EBF0F8",
            "showbackground": true,
            "ticks": "",
            "zerolinecolor": "#EBF0F8"
           }
          },
          "shapedefaults": {
           "line": {
            "color": "#2a3f5f"
           }
          },
          "ternary": {
           "aaxis": {
            "gridcolor": "#DFE8F3",
            "linecolor": "#A2B1C6",
            "ticks": ""
           },
           "baxis": {
            "gridcolor": "#DFE8F3",
            "linecolor": "#A2B1C6",
            "ticks": ""
           },
           "bgcolor": "white",
           "caxis": {
            "gridcolor": "#DFE8F3",
            "linecolor": "#A2B1C6",
            "ticks": ""
           }
          },
          "title": {
           "x": 0.05
          },
          "xaxis": {
           "automargin": true,
           "gridcolor": "#EBF0F8",
           "linecolor": "#EBF0F8",
           "ticks": "",
           "title": {
            "standoff": 15
           },
           "zerolinecolor": "#EBF0F8",
           "zerolinewidth": 2
          },
          "yaxis": {
           "automargin": true,
           "gridcolor": "#EBF0F8",
           "linecolor": "#EBF0F8",
           "ticks": "",
           "title": {
            "standoff": 15
           },
           "zerolinecolor": "#EBF0F8",
           "zerolinewidth": 2
          }
         }
        },
        "title": {
         "text": "Weights of columns"
        },
        "xaxis": {
         "title": {
          "text": "columns"
         }
        },
        "yaxis": {
         "title": {
          "text": "weights"
         }
        }
       }
      }
     },
     "metadata": {},
     "output_type": "display_data"
    },
    {
     "data": {
      "text/plain": [
       "None"
      ]
     },
     "metadata": {},
     "output_type": "display_data"
    }
   ],
   "source": [
    "#SANITY_CHECK: here weights and years should be in alignment for the outcome var\n",
    "\n",
    "f  = FipsQuery(42001, \"gdp\", lag = 0, top =5, time_decay = 1.06, \n",
    "               outcome_comparison_period=(2003, 2010), outcome_percentile_range= (40,100))\n",
    "f.find_euclidean_kins()\n",
    "# you can inspect the weights resulting from your time_decay setting:\n",
    "\n",
    "display(f.plot_weights())"
   ]
  },
  {
   "cell_type": "code",
   "execution_count": 3,
   "metadata": {},
   "outputs": [
    {
     "data": {
      "application/vnd.plotly.v1+json": {
       "config": {
        "plotlyServerURL": "https://plot.ly"
       },
       "data": [
        {
         "type": "bar",
         "x": [
          "2004_gdp",
          "2005_gdp",
          "2006_gdp",
          "2007_gdp",
          "2008_gdp",
          "2009_gdp",
          "2010_gdp",
          "2011_gdp",
          "2013_gdp",
          "2014_gdp",
          "2015_gdp",
          "2016_gdp",
          "2017_gdp",
          "2018_gdp",
          "2019_gdp",
          "2020_gdp",
          "2021_gdp",
          "1993_population",
          "1994_population",
          "1995_population",
          "1996_population",
          "1997_population",
          "1998_population",
          "1999_population",
          "2000_population",
          "2001_population",
          "2002_population",
          "2003_population",
          "2004_population",
          "2005_population",
          "2006_population",
          "2007_population",
          "2008_population",
          "2009_population",
          "2010_population",
          "2011_population",
          "2012_population",
          "2013_population",
          "2014_population",
          "2015_population",
          "2016_population",
          "2017_population",
          "2018_population",
          "2019_population",
          "2020_population",
          "2021_population"
         ],
         "y": [
          0,
          0,
          0,
          0,
          0,
          0,
          0,
          0,
          0,
          0,
          0,
          0,
          0,
          0,
          0,
          0,
          0,
          0.08845868442653022,
          0.09111244495932613,
          0.09384581830810591,
          0.0966611928573491,
          0.09956102864306958,
          0.10254785950236166,
          0.10562429528743252,
          0.1087930241460555,
          0.11205681487043717,
          0.11541851931655028,
          0.1188810748960468,
          0.1224475071429282,
          0.12612093235721605,
          0.12990456032793254,
          0.13380169713777051,
          0.13781574805190364,
          0.14195022049346076,
          0.14620872710826457,
          0.15059498892151252,
          0.1551128385891579,
          0.15976622374683264,
          0.16455921045923763,
          0.16949598677301475,
          0.1745808663762052,
          0.17981829236749136,
          0.1852128411385161,
          0.1907692263726716,
          0.19649230316385177,
          0.20238707225876731
         ]
        }
       ],
       "layout": {
        "template": {
         "data": {
          "bar": [
           {
            "error_x": {
             "color": "#2a3f5f"
            },
            "error_y": {
             "color": "#2a3f5f"
            },
            "marker": {
             "line": {
              "color": "white",
              "width": 0.5
             },
             "pattern": {
              "fillmode": "overlay",
              "size": 10,
              "solidity": 0.2
             }
            },
            "type": "bar"
           }
          ],
          "barpolar": [
           {
            "marker": {
             "line": {
              "color": "white",
              "width": 0.5
             },
             "pattern": {
              "fillmode": "overlay",
              "size": 10,
              "solidity": 0.2
             }
            },
            "type": "barpolar"
           }
          ],
          "carpet": [
           {
            "aaxis": {
             "endlinecolor": "#2a3f5f",
             "gridcolor": "#C8D4E3",
             "linecolor": "#C8D4E3",
             "minorgridcolor": "#C8D4E3",
             "startlinecolor": "#2a3f5f"
            },
            "baxis": {
             "endlinecolor": "#2a3f5f",
             "gridcolor": "#C8D4E3",
             "linecolor": "#C8D4E3",
             "minorgridcolor": "#C8D4E3",
             "startlinecolor": "#2a3f5f"
            },
            "type": "carpet"
           }
          ],
          "choropleth": [
           {
            "colorbar": {
             "outlinewidth": 0,
             "ticks": ""
            },
            "type": "choropleth"
           }
          ],
          "contour": [
           {
            "colorbar": {
             "outlinewidth": 0,
             "ticks": ""
            },
            "colorscale": [
             [
              0,
              "#0d0887"
             ],
             [
              0.1111111111111111,
              "#46039f"
             ],
             [
              0.2222222222222222,
              "#7201a8"
             ],
             [
              0.3333333333333333,
              "#9c179e"
             ],
             [
              0.4444444444444444,
              "#bd3786"
             ],
             [
              0.5555555555555556,
              "#d8576b"
             ],
             [
              0.6666666666666666,
              "#ed7953"
             ],
             [
              0.7777777777777778,
              "#fb9f3a"
             ],
             [
              0.8888888888888888,
              "#fdca26"
             ],
             [
              1,
              "#f0f921"
             ]
            ],
            "type": "contour"
           }
          ],
          "contourcarpet": [
           {
            "colorbar": {
             "outlinewidth": 0,
             "ticks": ""
            },
            "type": "contourcarpet"
           }
          ],
          "heatmap": [
           {
            "colorbar": {
             "outlinewidth": 0,
             "ticks": ""
            },
            "colorscale": [
             [
              0,
              "#0d0887"
             ],
             [
              0.1111111111111111,
              "#46039f"
             ],
             [
              0.2222222222222222,
              "#7201a8"
             ],
             [
              0.3333333333333333,
              "#9c179e"
             ],
             [
              0.4444444444444444,
              "#bd3786"
             ],
             [
              0.5555555555555556,
              "#d8576b"
             ],
             [
              0.6666666666666666,
              "#ed7953"
             ],
             [
              0.7777777777777778,
              "#fb9f3a"
             ],
             [
              0.8888888888888888,
              "#fdca26"
             ],
             [
              1,
              "#f0f921"
             ]
            ],
            "type": "heatmap"
           }
          ],
          "heatmapgl": [
           {
            "colorbar": {
             "outlinewidth": 0,
             "ticks": ""
            },
            "colorscale": [
             [
              0,
              "#0d0887"
             ],
             [
              0.1111111111111111,
              "#46039f"
             ],
             [
              0.2222222222222222,
              "#7201a8"
             ],
             [
              0.3333333333333333,
              "#9c179e"
             ],
             [
              0.4444444444444444,
              "#bd3786"
             ],
             [
              0.5555555555555556,
              "#d8576b"
             ],
             [
              0.6666666666666666,
              "#ed7953"
             ],
             [
              0.7777777777777778,
              "#fb9f3a"
             ],
             [
              0.8888888888888888,
              "#fdca26"
             ],
             [
              1,
              "#f0f921"
             ]
            ],
            "type": "heatmapgl"
           }
          ],
          "histogram": [
           {
            "marker": {
             "pattern": {
              "fillmode": "overlay",
              "size": 10,
              "solidity": 0.2
             }
            },
            "type": "histogram"
           }
          ],
          "histogram2d": [
           {
            "colorbar": {
             "outlinewidth": 0,
             "ticks": ""
            },
            "colorscale": [
             [
              0,
              "#0d0887"
             ],
             [
              0.1111111111111111,
              "#46039f"
             ],
             [
              0.2222222222222222,
              "#7201a8"
             ],
             [
              0.3333333333333333,
              "#9c179e"
             ],
             [
              0.4444444444444444,
              "#bd3786"
             ],
             [
              0.5555555555555556,
              "#d8576b"
             ],
             [
              0.6666666666666666,
              "#ed7953"
             ],
             [
              0.7777777777777778,
              "#fb9f3a"
             ],
             [
              0.8888888888888888,
              "#fdca26"
             ],
             [
              1,
              "#f0f921"
             ]
            ],
            "type": "histogram2d"
           }
          ],
          "histogram2dcontour": [
           {
            "colorbar": {
             "outlinewidth": 0,
             "ticks": ""
            },
            "colorscale": [
             [
              0,
              "#0d0887"
             ],
             [
              0.1111111111111111,
              "#46039f"
             ],
             [
              0.2222222222222222,
              "#7201a8"
             ],
             [
              0.3333333333333333,
              "#9c179e"
             ],
             [
              0.4444444444444444,
              "#bd3786"
             ],
             [
              0.5555555555555556,
              "#d8576b"
             ],
             [
              0.6666666666666666,
              "#ed7953"
             ],
             [
              0.7777777777777778,
              "#fb9f3a"
             ],
             [
              0.8888888888888888,
              "#fdca26"
             ],
             [
              1,
              "#f0f921"
             ]
            ],
            "type": "histogram2dcontour"
           }
          ],
          "mesh3d": [
           {
            "colorbar": {
             "outlinewidth": 0,
             "ticks": ""
            },
            "type": "mesh3d"
           }
          ],
          "parcoords": [
           {
            "line": {
             "colorbar": {
              "outlinewidth": 0,
              "ticks": ""
             }
            },
            "type": "parcoords"
           }
          ],
          "pie": [
           {
            "automargin": true,
            "type": "pie"
           }
          ],
          "scatter": [
           {
            "fillpattern": {
             "fillmode": "overlay",
             "size": 10,
             "solidity": 0.2
            },
            "type": "scatter"
           }
          ],
          "scatter3d": [
           {
            "line": {
             "colorbar": {
              "outlinewidth": 0,
              "ticks": ""
             }
            },
            "marker": {
             "colorbar": {
              "outlinewidth": 0,
              "ticks": ""
             }
            },
            "type": "scatter3d"
           }
          ],
          "scattercarpet": [
           {
            "marker": {
             "colorbar": {
              "outlinewidth": 0,
              "ticks": ""
             }
            },
            "type": "scattercarpet"
           }
          ],
          "scattergeo": [
           {
            "marker": {
             "colorbar": {
              "outlinewidth": 0,
              "ticks": ""
             }
            },
            "type": "scattergeo"
           }
          ],
          "scattergl": [
           {
            "marker": {
             "colorbar": {
              "outlinewidth": 0,
              "ticks": ""
             }
            },
            "type": "scattergl"
           }
          ],
          "scattermapbox": [
           {
            "marker": {
             "colorbar": {
              "outlinewidth": 0,
              "ticks": ""
             }
            },
            "type": "scattermapbox"
           }
          ],
          "scatterpolar": [
           {
            "marker": {
             "colorbar": {
              "outlinewidth": 0,
              "ticks": ""
             }
            },
            "type": "scatterpolar"
           }
          ],
          "scatterpolargl": [
           {
            "marker": {
             "colorbar": {
              "outlinewidth": 0,
              "ticks": ""
             }
            },
            "type": "scatterpolargl"
           }
          ],
          "scatterternary": [
           {
            "marker": {
             "colorbar": {
              "outlinewidth": 0,
              "ticks": ""
             }
            },
            "type": "scatterternary"
           }
          ],
          "surface": [
           {
            "colorbar": {
             "outlinewidth": 0,
             "ticks": ""
            },
            "colorscale": [
             [
              0,
              "#0d0887"
             ],
             [
              0.1111111111111111,
              "#46039f"
             ],
             [
              0.2222222222222222,
              "#7201a8"
             ],
             [
              0.3333333333333333,
              "#9c179e"
             ],
             [
              0.4444444444444444,
              "#bd3786"
             ],
             [
              0.5555555555555556,
              "#d8576b"
             ],
             [
              0.6666666666666666,
              "#ed7953"
             ],
             [
              0.7777777777777778,
              "#fb9f3a"
             ],
             [
              0.8888888888888888,
              "#fdca26"
             ],
             [
              1,
              "#f0f921"
             ]
            ],
            "type": "surface"
           }
          ],
          "table": [
           {
            "cells": {
             "fill": {
              "color": "#EBF0F8"
             },
             "line": {
              "color": "white"
             }
            },
            "header": {
             "fill": {
              "color": "#C8D4E3"
             },
             "line": {
              "color": "white"
             }
            },
            "type": "table"
           }
          ]
         },
         "layout": {
          "annotationdefaults": {
           "arrowcolor": "#2a3f5f",
           "arrowhead": 0,
           "arrowwidth": 1
          },
          "autotypenumbers": "strict",
          "coloraxis": {
           "colorbar": {
            "outlinewidth": 0,
            "ticks": ""
           }
          },
          "colorscale": {
           "diverging": [
            [
             0,
             "#8e0152"
            ],
            [
             0.1,
             "#c51b7d"
            ],
            [
             0.2,
             "#de77ae"
            ],
            [
             0.3,
             "#f1b6da"
            ],
            [
             0.4,
             "#fde0ef"
            ],
            [
             0.5,
             "#f7f7f7"
            ],
            [
             0.6,
             "#e6f5d0"
            ],
            [
             0.7,
             "#b8e186"
            ],
            [
             0.8,
             "#7fbc41"
            ],
            [
             0.9,
             "#4d9221"
            ],
            [
             1,
             "#276419"
            ]
           ],
           "sequential": [
            [
             0,
             "#0d0887"
            ],
            [
             0.1111111111111111,
             "#46039f"
            ],
            [
             0.2222222222222222,
             "#7201a8"
            ],
            [
             0.3333333333333333,
             "#9c179e"
            ],
            [
             0.4444444444444444,
             "#bd3786"
            ],
            [
             0.5555555555555556,
             "#d8576b"
            ],
            [
             0.6666666666666666,
             "#ed7953"
            ],
            [
             0.7777777777777778,
             "#fb9f3a"
            ],
            [
             0.8888888888888888,
             "#fdca26"
            ],
            [
             1,
             "#f0f921"
            ]
           ],
           "sequentialminus": [
            [
             0,
             "#0d0887"
            ],
            [
             0.1111111111111111,
             "#46039f"
            ],
            [
             0.2222222222222222,
             "#7201a8"
            ],
            [
             0.3333333333333333,
             "#9c179e"
            ],
            [
             0.4444444444444444,
             "#bd3786"
            ],
            [
             0.5555555555555556,
             "#d8576b"
            ],
            [
             0.6666666666666666,
             "#ed7953"
            ],
            [
             0.7777777777777778,
             "#fb9f3a"
            ],
            [
             0.8888888888888888,
             "#fdca26"
            ],
            [
             1,
             "#f0f921"
            ]
           ]
          },
          "colorway": [
           "#636efa",
           "#EF553B",
           "#00cc96",
           "#ab63fa",
           "#FFA15A",
           "#19d3f3",
           "#FF6692",
           "#B6E880",
           "#FF97FF",
           "#FECB52"
          ],
          "font": {
           "color": "#2a3f5f"
          },
          "geo": {
           "bgcolor": "white",
           "lakecolor": "white",
           "landcolor": "white",
           "showlakes": true,
           "showland": true,
           "subunitcolor": "#C8D4E3"
          },
          "hoverlabel": {
           "align": "left"
          },
          "hovermode": "closest",
          "mapbox": {
           "style": "light"
          },
          "paper_bgcolor": "white",
          "plot_bgcolor": "white",
          "polar": {
           "angularaxis": {
            "gridcolor": "#EBF0F8",
            "linecolor": "#EBF0F8",
            "ticks": ""
           },
           "bgcolor": "white",
           "radialaxis": {
            "gridcolor": "#EBF0F8",
            "linecolor": "#EBF0F8",
            "ticks": ""
           }
          },
          "scene": {
           "xaxis": {
            "backgroundcolor": "white",
            "gridcolor": "#DFE8F3",
            "gridwidth": 2,
            "linecolor": "#EBF0F8",
            "showbackground": true,
            "ticks": "",
            "zerolinecolor": "#EBF0F8"
           },
           "yaxis": {
            "backgroundcolor": "white",
            "gridcolor": "#DFE8F3",
            "gridwidth": 2,
            "linecolor": "#EBF0F8",
            "showbackground": true,
            "ticks": "",
            "zerolinecolor": "#EBF0F8"
           },
           "zaxis": {
            "backgroundcolor": "white",
            "gridcolor": "#DFE8F3",
            "gridwidth": 2,
            "linecolor": "#EBF0F8",
            "showbackground": true,
            "ticks": "",
            "zerolinecolor": "#EBF0F8"
           }
          },
          "shapedefaults": {
           "line": {
            "color": "#2a3f5f"
           }
          },
          "ternary": {
           "aaxis": {
            "gridcolor": "#DFE8F3",
            "linecolor": "#A2B1C6",
            "ticks": ""
           },
           "baxis": {
            "gridcolor": "#DFE8F3",
            "linecolor": "#A2B1C6",
            "ticks": ""
           },
           "bgcolor": "white",
           "caxis": {
            "gridcolor": "#DFE8F3",
            "linecolor": "#A2B1C6",
            "ticks": ""
           }
          },
          "title": {
           "x": 0.05
          },
          "xaxis": {
           "automargin": true,
           "gridcolor": "#EBF0F8",
           "linecolor": "#EBF0F8",
           "ticks": "",
           "title": {
            "standoff": 15
           },
           "zerolinecolor": "#EBF0F8",
           "zerolinewidth": 2
          },
          "yaxis": {
           "automargin": true,
           "gridcolor": "#EBF0F8",
           "linecolor": "#EBF0F8",
           "ticks": "",
           "title": {
            "standoff": 15
           },
           "zerolinecolor": "#EBF0F8",
           "zerolinewidth": 2
          }
         }
        },
        "title": {
         "text": "Weights of columns"
        },
        "xaxis": {
         "title": {
          "text": "columns"
         }
        },
        "yaxis": {
         "title": {
          "text": "weights"
         }
        }
       }
      }
     },
     "metadata": {},
     "output_type": "display_data"
    },
    {
     "data": {
      "text/plain": [
       "None"
      ]
     },
     "metadata": {},
     "output_type": "display_data"
    }
   ],
   "source": [
    "#SANITY_CHECK here there were issues with weight plotting, weights poured over outcomes,\n",
    "# fixed, check\n",
    "\n",
    "f  = FipsQuery(20003, outcome_var = \"gdp\",\n",
    "               feature_groups_with_weights= {\"gdp\":0, \"population\":4},\n",
    "               # weights= {\"population\":4}, \n",
    "               lag = 3, top =10, time_decay = 1.03)\n",
    "f.find_euclidean_kins()\n",
    "display(f.plot_weights())"
   ]
  },
  {
   "cell_type": "code",
   "execution_count": 4,
   "metadata": {},
   "outputs": [
    {
     "data": {
      "application/vnd.plotly.v1+json": {
       "config": {
        "plotlyServerURL": "https://plot.ly"
       },
       "data": [
        {
         "type": "bar",
         "x": [
          "1993_population",
          "1994_population",
          "1995_population",
          "1996_population",
          "1997_population",
          "1998_population",
          "1999_population",
          "2000_population",
          "2001_population",
          "2002_population",
          "2003_population",
          "2004_population",
          "2005_population",
          "2006_population",
          "2007_population",
          "2008_population",
          "2009_population",
          "2010_population",
          "2011_population",
          "2012_population",
          "2013_population",
          "2014_population",
          "2015_population",
          "2016_population",
          "2017_population",
          "2018_population",
          "2019_population",
          "2020_population",
          "2021_population"
         ],
         "y": [
          0.03847414014225456,
          0.04155207135363493,
          0.04487623706192573,
          0.04846633602687978,
          0.05234364290903017,
          0.056531134341752595,
          0.0610536250890928,
          0.06593791509622024,
          0.07121294830391786,
          0.07690998416823129,
          0.08306278290168981,
          0.08970780553382499,
          0.09688442997653099,
          0.10463518437465348,
          0.11300599912462576,
          0.12204647905459583,
          0.13181019737896352,
          0.14235501316928062,
          0.15374341422282306,
          0.1660428873606489,
          0.17932631834950083,
          0.19367242381746091,
          0.20916621772285782,
          0.22589951514068643,
          0.24397147635194139,
          0.2634891944600967,
          0.28456833001690446,
          0.30733379641825687,
          0.3319205001317174
         ]
        }
       ],
       "layout": {
        "template": {
         "data": {
          "bar": [
           {
            "error_x": {
             "color": "#2a3f5f"
            },
            "error_y": {
             "color": "#2a3f5f"
            },
            "marker": {
             "line": {
              "color": "white",
              "width": 0.5
             },
             "pattern": {
              "fillmode": "overlay",
              "size": 10,
              "solidity": 0.2
             }
            },
            "type": "bar"
           }
          ],
          "barpolar": [
           {
            "marker": {
             "line": {
              "color": "white",
              "width": 0.5
             },
             "pattern": {
              "fillmode": "overlay",
              "size": 10,
              "solidity": 0.2
             }
            },
            "type": "barpolar"
           }
          ],
          "carpet": [
           {
            "aaxis": {
             "endlinecolor": "#2a3f5f",
             "gridcolor": "#C8D4E3",
             "linecolor": "#C8D4E3",
             "minorgridcolor": "#C8D4E3",
             "startlinecolor": "#2a3f5f"
            },
            "baxis": {
             "endlinecolor": "#2a3f5f",
             "gridcolor": "#C8D4E3",
             "linecolor": "#C8D4E3",
             "minorgridcolor": "#C8D4E3",
             "startlinecolor": "#2a3f5f"
            },
            "type": "carpet"
           }
          ],
          "choropleth": [
           {
            "colorbar": {
             "outlinewidth": 0,
             "ticks": ""
            },
            "type": "choropleth"
           }
          ],
          "contour": [
           {
            "colorbar": {
             "outlinewidth": 0,
             "ticks": ""
            },
            "colorscale": [
             [
              0,
              "#0d0887"
             ],
             [
              0.1111111111111111,
              "#46039f"
             ],
             [
              0.2222222222222222,
              "#7201a8"
             ],
             [
              0.3333333333333333,
              "#9c179e"
             ],
             [
              0.4444444444444444,
              "#bd3786"
             ],
             [
              0.5555555555555556,
              "#d8576b"
             ],
             [
              0.6666666666666666,
              "#ed7953"
             ],
             [
              0.7777777777777778,
              "#fb9f3a"
             ],
             [
              0.8888888888888888,
              "#fdca26"
             ],
             [
              1,
              "#f0f921"
             ]
            ],
            "type": "contour"
           }
          ],
          "contourcarpet": [
           {
            "colorbar": {
             "outlinewidth": 0,
             "ticks": ""
            },
            "type": "contourcarpet"
           }
          ],
          "heatmap": [
           {
            "colorbar": {
             "outlinewidth": 0,
             "ticks": ""
            },
            "colorscale": [
             [
              0,
              "#0d0887"
             ],
             [
              0.1111111111111111,
              "#46039f"
             ],
             [
              0.2222222222222222,
              "#7201a8"
             ],
             [
              0.3333333333333333,
              "#9c179e"
             ],
             [
              0.4444444444444444,
              "#bd3786"
             ],
             [
              0.5555555555555556,
              "#d8576b"
             ],
             [
              0.6666666666666666,
              "#ed7953"
             ],
             [
              0.7777777777777778,
              "#fb9f3a"
             ],
             [
              0.8888888888888888,
              "#fdca26"
             ],
             [
              1,
              "#f0f921"
             ]
            ],
            "type": "heatmap"
           }
          ],
          "heatmapgl": [
           {
            "colorbar": {
             "outlinewidth": 0,
             "ticks": ""
            },
            "colorscale": [
             [
              0,
              "#0d0887"
             ],
             [
              0.1111111111111111,
              "#46039f"
             ],
             [
              0.2222222222222222,
              "#7201a8"
             ],
             [
              0.3333333333333333,
              "#9c179e"
             ],
             [
              0.4444444444444444,
              "#bd3786"
             ],
             [
              0.5555555555555556,
              "#d8576b"
             ],
             [
              0.6666666666666666,
              "#ed7953"
             ],
             [
              0.7777777777777778,
              "#fb9f3a"
             ],
             [
              0.8888888888888888,
              "#fdca26"
             ],
             [
              1,
              "#f0f921"
             ]
            ],
            "type": "heatmapgl"
           }
          ],
          "histogram": [
           {
            "marker": {
             "pattern": {
              "fillmode": "overlay",
              "size": 10,
              "solidity": 0.2
             }
            },
            "type": "histogram"
           }
          ],
          "histogram2d": [
           {
            "colorbar": {
             "outlinewidth": 0,
             "ticks": ""
            },
            "colorscale": [
             [
              0,
              "#0d0887"
             ],
             [
              0.1111111111111111,
              "#46039f"
             ],
             [
              0.2222222222222222,
              "#7201a8"
             ],
             [
              0.3333333333333333,
              "#9c179e"
             ],
             [
              0.4444444444444444,
              "#bd3786"
             ],
             [
              0.5555555555555556,
              "#d8576b"
             ],
             [
              0.6666666666666666,
              "#ed7953"
             ],
             [
              0.7777777777777778,
              "#fb9f3a"
             ],
             [
              0.8888888888888888,
              "#fdca26"
             ],
             [
              1,
              "#f0f921"
             ]
            ],
            "type": "histogram2d"
           }
          ],
          "histogram2dcontour": [
           {
            "colorbar": {
             "outlinewidth": 0,
             "ticks": ""
            },
            "colorscale": [
             [
              0,
              "#0d0887"
             ],
             [
              0.1111111111111111,
              "#46039f"
             ],
             [
              0.2222222222222222,
              "#7201a8"
             ],
             [
              0.3333333333333333,
              "#9c179e"
             ],
             [
              0.4444444444444444,
              "#bd3786"
             ],
             [
              0.5555555555555556,
              "#d8576b"
             ],
             [
              0.6666666666666666,
              "#ed7953"
             ],
             [
              0.7777777777777778,
              "#fb9f3a"
             ],
             [
              0.8888888888888888,
              "#fdca26"
             ],
             [
              1,
              "#f0f921"
             ]
            ],
            "type": "histogram2dcontour"
           }
          ],
          "mesh3d": [
           {
            "colorbar": {
             "outlinewidth": 0,
             "ticks": ""
            },
            "type": "mesh3d"
           }
          ],
          "parcoords": [
           {
            "line": {
             "colorbar": {
              "outlinewidth": 0,
              "ticks": ""
             }
            },
            "type": "parcoords"
           }
          ],
          "pie": [
           {
            "automargin": true,
            "type": "pie"
           }
          ],
          "scatter": [
           {
            "fillpattern": {
             "fillmode": "overlay",
             "size": 10,
             "solidity": 0.2
            },
            "type": "scatter"
           }
          ],
          "scatter3d": [
           {
            "line": {
             "colorbar": {
              "outlinewidth": 0,
              "ticks": ""
             }
            },
            "marker": {
             "colorbar": {
              "outlinewidth": 0,
              "ticks": ""
             }
            },
            "type": "scatter3d"
           }
          ],
          "scattercarpet": [
           {
            "marker": {
             "colorbar": {
              "outlinewidth": 0,
              "ticks": ""
             }
            },
            "type": "scattercarpet"
           }
          ],
          "scattergeo": [
           {
            "marker": {
             "colorbar": {
              "outlinewidth": 0,
              "ticks": ""
             }
            },
            "type": "scattergeo"
           }
          ],
          "scattergl": [
           {
            "marker": {
             "colorbar": {
              "outlinewidth": 0,
              "ticks": ""
             }
            },
            "type": "scattergl"
           }
          ],
          "scattermapbox": [
           {
            "marker": {
             "colorbar": {
              "outlinewidth": 0,
              "ticks": ""
             }
            },
            "type": "scattermapbox"
           }
          ],
          "scatterpolar": [
           {
            "marker": {
             "colorbar": {
              "outlinewidth": 0,
              "ticks": ""
             }
            },
            "type": "scatterpolar"
           }
          ],
          "scatterpolargl": [
           {
            "marker": {
             "colorbar": {
              "outlinewidth": 0,
              "ticks": ""
             }
            },
            "type": "scatterpolargl"
           }
          ],
          "scatterternary": [
           {
            "marker": {
             "colorbar": {
              "outlinewidth": 0,
              "ticks": ""
             }
            },
            "type": "scatterternary"
           }
          ],
          "surface": [
           {
            "colorbar": {
             "outlinewidth": 0,
             "ticks": ""
            },
            "colorscale": [
             [
              0,
              "#0d0887"
             ],
             [
              0.1111111111111111,
              "#46039f"
             ],
             [
              0.2222222222222222,
              "#7201a8"
             ],
             [
              0.3333333333333333,
              "#9c179e"
             ],
             [
              0.4444444444444444,
              "#bd3786"
             ],
             [
              0.5555555555555556,
              "#d8576b"
             ],
             [
              0.6666666666666666,
              "#ed7953"
             ],
             [
              0.7777777777777778,
              "#fb9f3a"
             ],
             [
              0.8888888888888888,
              "#fdca26"
             ],
             [
              1,
              "#f0f921"
             ]
            ],
            "type": "surface"
           }
          ],
          "table": [
           {
            "cells": {
             "fill": {
              "color": "#EBF0F8"
             },
             "line": {
              "color": "white"
             }
            },
            "header": {
             "fill": {
              "color": "#C8D4E3"
             },
             "line": {
              "color": "white"
             }
            },
            "type": "table"
           }
          ]
         },
         "layout": {
          "annotationdefaults": {
           "arrowcolor": "#2a3f5f",
           "arrowhead": 0,
           "arrowwidth": 1
          },
          "autotypenumbers": "strict",
          "coloraxis": {
           "colorbar": {
            "outlinewidth": 0,
            "ticks": ""
           }
          },
          "colorscale": {
           "diverging": [
            [
             0,
             "#8e0152"
            ],
            [
             0.1,
             "#c51b7d"
            ],
            [
             0.2,
             "#de77ae"
            ],
            [
             0.3,
             "#f1b6da"
            ],
            [
             0.4,
             "#fde0ef"
            ],
            [
             0.5,
             "#f7f7f7"
            ],
            [
             0.6,
             "#e6f5d0"
            ],
            [
             0.7,
             "#b8e186"
            ],
            [
             0.8,
             "#7fbc41"
            ],
            [
             0.9,
             "#4d9221"
            ],
            [
             1,
             "#276419"
            ]
           ],
           "sequential": [
            [
             0,
             "#0d0887"
            ],
            [
             0.1111111111111111,
             "#46039f"
            ],
            [
             0.2222222222222222,
             "#7201a8"
            ],
            [
             0.3333333333333333,
             "#9c179e"
            ],
            [
             0.4444444444444444,
             "#bd3786"
            ],
            [
             0.5555555555555556,
             "#d8576b"
            ],
            [
             0.6666666666666666,
             "#ed7953"
            ],
            [
             0.7777777777777778,
             "#fb9f3a"
            ],
            [
             0.8888888888888888,
             "#fdca26"
            ],
            [
             1,
             "#f0f921"
            ]
           ],
           "sequentialminus": [
            [
             0,
             "#0d0887"
            ],
            [
             0.1111111111111111,
             "#46039f"
            ],
            [
             0.2222222222222222,
             "#7201a8"
            ],
            [
             0.3333333333333333,
             "#9c179e"
            ],
            [
             0.4444444444444444,
             "#bd3786"
            ],
            [
             0.5555555555555556,
             "#d8576b"
            ],
            [
             0.6666666666666666,
             "#ed7953"
            ],
            [
             0.7777777777777778,
             "#fb9f3a"
            ],
            [
             0.8888888888888888,
             "#fdca26"
            ],
            [
             1,
             "#f0f921"
            ]
           ]
          },
          "colorway": [
           "#636efa",
           "#EF553B",
           "#00cc96",
           "#ab63fa",
           "#FFA15A",
           "#19d3f3",
           "#FF6692",
           "#B6E880",
           "#FF97FF",
           "#FECB52"
          ],
          "font": {
           "color": "#2a3f5f"
          },
          "geo": {
           "bgcolor": "white",
           "lakecolor": "white",
           "landcolor": "white",
           "showlakes": true,
           "showland": true,
           "subunitcolor": "#C8D4E3"
          },
          "hoverlabel": {
           "align": "left"
          },
          "hovermode": "closest",
          "mapbox": {
           "style": "light"
          },
          "paper_bgcolor": "white",
          "plot_bgcolor": "white",
          "polar": {
           "angularaxis": {
            "gridcolor": "#EBF0F8",
            "linecolor": "#EBF0F8",
            "ticks": ""
           },
           "bgcolor": "white",
           "radialaxis": {
            "gridcolor": "#EBF0F8",
            "linecolor": "#EBF0F8",
            "ticks": ""
           }
          },
          "scene": {
           "xaxis": {
            "backgroundcolor": "white",
            "gridcolor": "#DFE8F3",
            "gridwidth": 2,
            "linecolor": "#EBF0F8",
            "showbackground": true,
            "ticks": "",
            "zerolinecolor": "#EBF0F8"
           },
           "yaxis": {
            "backgroundcolor": "white",
            "gridcolor": "#DFE8F3",
            "gridwidth": 2,
            "linecolor": "#EBF0F8",
            "showbackground": true,
            "ticks": "",
            "zerolinecolor": "#EBF0F8"
           },
           "zaxis": {
            "backgroundcolor": "white",
            "gridcolor": "#DFE8F3",
            "gridwidth": 2,
            "linecolor": "#EBF0F8",
            "showbackground": true,
            "ticks": "",
            "zerolinecolor": "#EBF0F8"
           }
          },
          "shapedefaults": {
           "line": {
            "color": "#2a3f5f"
           }
          },
          "ternary": {
           "aaxis": {
            "gridcolor": "#DFE8F3",
            "linecolor": "#A2B1C6",
            "ticks": ""
           },
           "baxis": {
            "gridcolor": "#DFE8F3",
            "linecolor": "#A2B1C6",
            "ticks": ""
           },
           "bgcolor": "white",
           "caxis": {
            "gridcolor": "#DFE8F3",
            "linecolor": "#A2B1C6",
            "ticks": ""
           }
          },
          "title": {
           "x": 0.05
          },
          "xaxis": {
           "automargin": true,
           "gridcolor": "#EBF0F8",
           "linecolor": "#EBF0F8",
           "ticks": "",
           "title": {
            "standoff": 15
           },
           "zerolinecolor": "#EBF0F8",
           "zerolinewidth": 2
          },
          "yaxis": {
           "automargin": true,
           "gridcolor": "#EBF0F8",
           "linecolor": "#EBF0F8",
           "ticks": "",
           "title": {
            "standoff": 15
           },
           "zerolinecolor": "#EBF0F8",
           "zerolinewidth": 2
          }
         }
        },
        "title": {
         "text": "Weights of columns"
        },
        "xaxis": {
         "title": {
          "text": "columns"
         }
        },
        "yaxis": {
         "title": {
          "text": "weights"
         }
        }
       }
      }
     },
     "metadata": {},
     "output_type": "display_data"
    },
    {
     "data": {
      "text/plain": [
       "None"
      ]
     },
     "metadata": {},
     "output_type": "display_data"
    },
    {
     "data": {
      "text/html": [
       "<div>\n",
       "<style scoped>\n",
       "    .dataframe tbody tr th:only-of-type {\n",
       "        vertical-align: middle;\n",
       "    }\n",
       "\n",
       "    .dataframe tbody tr th {\n",
       "        vertical-align: top;\n",
       "    }\n",
       "\n",
       "    .dataframe thead th {\n",
       "        text-align: right;\n",
       "    }\n",
       "</style>\n",
       "<table border=\"1\" class=\"dataframe\">\n",
       "  <thead>\n",
       "    <tr style=\"text-align: right;\">\n",
       "      <th></th>\n",
       "      <th>1993_population</th>\n",
       "      <th>1994_population</th>\n",
       "      <th>1995_population</th>\n",
       "      <th>1996_population</th>\n",
       "      <th>1997_population</th>\n",
       "      <th>1998_population</th>\n",
       "      <th>1999_population</th>\n",
       "      <th>2000_population</th>\n",
       "      <th>2001_population</th>\n",
       "      <th>2002_population</th>\n",
       "      <th>...</th>\n",
       "      <th>2013_population</th>\n",
       "      <th>2014_population</th>\n",
       "      <th>2015_population</th>\n",
       "      <th>2016_population</th>\n",
       "      <th>2017_population</th>\n",
       "      <th>2018_population</th>\n",
       "      <th>2019_population</th>\n",
       "      <th>2020_population</th>\n",
       "      <th>2021_population</th>\n",
       "      <th>distance to 42001</th>\n",
       "    </tr>\n",
       "  </thead>\n",
       "  <tbody>\n",
       "    <tr>\n",
       "      <th>2235</th>\n",
       "      <td>83013.0</td>\n",
       "      <td>84186.0</td>\n",
       "      <td>85063.0</td>\n",
       "      <td>86252.0</td>\n",
       "      <td>87751.0</td>\n",
       "      <td>89074.0</td>\n",
       "      <td>90363.0</td>\n",
       "      <td>91457.0</td>\n",
       "      <td>92591.0</td>\n",
       "      <td>93934.0</td>\n",
       "      <td>...</td>\n",
       "      <td>101504.0</td>\n",
       "      <td>101830.0</td>\n",
       "      <td>102411.0</td>\n",
       "      <td>102625.0</td>\n",
       "      <td>103414.0</td>\n",
       "      <td>103932.0</td>\n",
       "      <td>103778.0</td>\n",
       "      <td>103795.0</td>\n",
       "      <td>104127.0</td>\n",
       "      <td>0.000000</td>\n",
       "    </tr>\n",
       "    <tr>\n",
       "      <th>3006</th>\n",
       "      <td>92876.0</td>\n",
       "      <td>93717.0</td>\n",
       "      <td>94509.0</td>\n",
       "      <td>95529.0</td>\n",
       "      <td>95998.0</td>\n",
       "      <td>96512.0</td>\n",
       "      <td>96985.0</td>\n",
       "      <td>97390.0</td>\n",
       "      <td>97856.0</td>\n",
       "      <td>98097.0</td>\n",
       "      <td>...</td>\n",
       "      <td>102191.0</td>\n",
       "      <td>102495.0</td>\n",
       "      <td>102590.0</td>\n",
       "      <td>102927.0</td>\n",
       "      <td>103180.0</td>\n",
       "      <td>103754.0</td>\n",
       "      <td>104175.0</td>\n",
       "      <td>104076.0</td>\n",
       "      <td>104362.0</td>\n",
       "      <td>0.004093</td>\n",
       "    </tr>\n",
       "    <tr>\n",
       "      <th>1509</th>\n",
       "      <td>84234.0</td>\n",
       "      <td>85586.0</td>\n",
       "      <td>87584.0</td>\n",
       "      <td>89357.0</td>\n",
       "      <td>90710.0</td>\n",
       "      <td>91697.0</td>\n",
       "      <td>92914.0</td>\n",
       "      <td>94050.0</td>\n",
       "      <td>94872.0</td>\n",
       "      <td>95771.0</td>\n",
       "      <td>...</td>\n",
       "      <td>101823.0</td>\n",
       "      <td>102058.0</td>\n",
       "      <td>102429.0</td>\n",
       "      <td>102952.0</td>\n",
       "      <td>103563.0</td>\n",
       "      <td>103967.0</td>\n",
       "      <td>104137.0</td>\n",
       "      <td>104769.0</td>\n",
       "      <td>105231.0</td>\n",
       "      <td>0.008424</td>\n",
       "    </tr>\n",
       "    <tr>\n",
       "      <th>27</th>\n",
       "      <td>101310.0</td>\n",
       "      <td>102213.0</td>\n",
       "      <td>102342.0</td>\n",
       "      <td>103063.0</td>\n",
       "      <td>104129.0</td>\n",
       "      <td>104367.0</td>\n",
       "      <td>104002.0</td>\n",
       "      <td>103286.0</td>\n",
       "      <td>102976.0</td>\n",
       "      <td>102988.0</td>\n",
       "      <td>...</td>\n",
       "      <td>104249.0</td>\n",
       "      <td>103880.0</td>\n",
       "      <td>103601.0</td>\n",
       "      <td>103603.0</td>\n",
       "      <td>103854.0</td>\n",
       "      <td>103646.0</td>\n",
       "      <td>103440.0</td>\n",
       "      <td>103393.0</td>\n",
       "      <td>103162.0</td>\n",
       "      <td>0.008731</td>\n",
       "    </tr>\n",
       "    <tr>\n",
       "      <th>1230</th>\n",
       "      <td>112397.0</td>\n",
       "      <td>112025.0</td>\n",
       "      <td>111680.0</td>\n",
       "      <td>111231.0</td>\n",
       "      <td>111040.0</td>\n",
       "      <td>110704.0</td>\n",
       "      <td>110295.0</td>\n",
       "      <td>110192.0</td>\n",
       "      <td>109836.0</td>\n",
       "      <td>109861.0</td>\n",
       "      <td>...</td>\n",
       "      <td>107221.0</td>\n",
       "      <td>106599.0</td>\n",
       "      <td>105916.0</td>\n",
       "      <td>105184.0</td>\n",
       "      <td>104967.0</td>\n",
       "      <td>104674.0</td>\n",
       "      <td>104079.0</td>\n",
       "      <td>103594.0</td>\n",
       "      <td>102985.0</td>\n",
       "      <td>0.011795</td>\n",
       "    </tr>\n",
       "    <tr>\n",
       "      <th>...</th>\n",
       "      <td>...</td>\n",
       "      <td>...</td>\n",
       "      <td>...</td>\n",
       "      <td>...</td>\n",
       "      <td>...</td>\n",
       "      <td>...</td>\n",
       "      <td>...</td>\n",
       "      <td>...</td>\n",
       "      <td>...</td>\n",
       "      <td>...</td>\n",
       "      <td>...</td>\n",
       "      <td>...</td>\n",
       "      <td>...</td>\n",
       "      <td>...</td>\n",
       "      <td>...</td>\n",
       "      <td>...</td>\n",
       "      <td>...</td>\n",
       "      <td>...</td>\n",
       "      <td>...</td>\n",
       "      <td>...</td>\n",
       "      <td>...</td>\n",
       "    </tr>\n",
       "    <tr>\n",
       "      <th>1647</th>\n",
       "      <td>472.0</td>\n",
       "      <td>441.0</td>\n",
       "      <td>434.0</td>\n",
       "      <td>429.0</td>\n",
       "      <td>440.0</td>\n",
       "      <td>447.0</td>\n",
       "      <td>445.0</td>\n",
       "      <td>445.0</td>\n",
       "      <td>423.0</td>\n",
       "      <td>421.0</td>\n",
       "      <td>...</td>\n",
       "      <td>443.0</td>\n",
       "      <td>437.0</td>\n",
       "      <td>433.0</td>\n",
       "      <td>445.0</td>\n",
       "      <td>432.0</td>\n",
       "      <td>435.0</td>\n",
       "      <td>436.0</td>\n",
       "      <td>431.0</td>\n",
       "      <td>439.0</td>\n",
       "      <td>1.977809</td>\n",
       "    </tr>\n",
       "    <tr>\n",
       "      <th>2644</th>\n",
       "      <td>428.0</td>\n",
       "      <td>413.0</td>\n",
       "      <td>420.0</td>\n",
       "      <td>415.0</td>\n",
       "      <td>411.0</td>\n",
       "      <td>427.0</td>\n",
       "      <td>412.0</td>\n",
       "      <td>420.0</td>\n",
       "      <td>421.0</td>\n",
       "      <td>429.0</td>\n",
       "      <td>...</td>\n",
       "      <td>426.0</td>\n",
       "      <td>421.0</td>\n",
       "      <td>421.0</td>\n",
       "      <td>404.0</td>\n",
       "      <td>383.0</td>\n",
       "      <td>389.0</td>\n",
       "      <td>355.0</td>\n",
       "      <td>346.0</td>\n",
       "      <td>340.0</td>\n",
       "      <td>1.978614</td>\n",
       "    </tr>\n",
       "    <tr>\n",
       "      <th>2648</th>\n",
       "      <td>342.0</td>\n",
       "      <td>363.0</td>\n",
       "      <td>335.0</td>\n",
       "      <td>358.0</td>\n",
       "      <td>373.0</td>\n",
       "      <td>389.0</td>\n",
       "      <td>346.0</td>\n",
       "      <td>358.0</td>\n",
       "      <td>313.0</td>\n",
       "      <td>308.0</td>\n",
       "      <td>...</td>\n",
       "      <td>268.0</td>\n",
       "      <td>257.0</td>\n",
       "      <td>273.0</td>\n",
       "      <td>281.0</td>\n",
       "      <td>278.0</td>\n",
       "      <td>265.0</td>\n",
       "      <td>256.0</td>\n",
       "      <td>270.0</td>\n",
       "      <td>258.0</td>\n",
       "      <td>1.980969</td>\n",
       "    </tr>\n",
       "    <tr>\n",
       "      <th>2664</th>\n",
       "      <td>109.0</td>\n",
       "      <td>114.0</td>\n",
       "      <td>111.0</td>\n",
       "      <td>109.0</td>\n",
       "      <td>78.0</td>\n",
       "      <td>83.0</td>\n",
       "      <td>77.0</td>\n",
       "      <td>65.0</td>\n",
       "      <td>66.0</td>\n",
       "      <td>75.0</td>\n",
       "      <td>...</td>\n",
       "      <td>77.0</td>\n",
       "      <td>59.0</td>\n",
       "      <td>72.0</td>\n",
       "      <td>64.0</td>\n",
       "      <td>66.0</td>\n",
       "      <td>67.0</td>\n",
       "      <td>67.0</td>\n",
       "      <td>67.0</td>\n",
       "      <td>57.0</td>\n",
       "      <td>1.985240</td>\n",
       "    </tr>\n",
       "    <tr>\n",
       "      <th>198</th>\n",
       "      <td>9100159.0</td>\n",
       "      <td>9096608.0</td>\n",
       "      <td>9089015.0</td>\n",
       "      <td>9127042.0</td>\n",
       "      <td>9206538.0</td>\n",
       "      <td>9313589.0</td>\n",
       "      <td>9437290.0</td>\n",
       "      <td>9538191.0</td>\n",
       "      <td>9626034.0</td>\n",
       "      <td>9705913.0</td>\n",
       "      <td>...</td>\n",
       "      <td>10000924.0</td>\n",
       "      <td>10051511.0</td>\n",
       "      <td>10099677.0</td>\n",
       "      <td>10121673.0</td>\n",
       "      <td>10123521.0</td>\n",
       "      <td>10096986.0</td>\n",
       "      <td>10051154.0</td>\n",
       "      <td>9989165.0</td>\n",
       "      <td>9829544.0</td>\n",
       "      <td>2.014902</td>\n",
       "    </tr>\n",
       "  </tbody>\n",
       "</table>\n",
       "<p>3082 rows × 30 columns</p>\n",
       "</div>"
      ],
      "text/plain": [
       "      1993_population  1994_population  1995_population  1996_population  \\\n",
       "2235          83013.0          84186.0          85063.0          86252.0   \n",
       "3006          92876.0          93717.0          94509.0          95529.0   \n",
       "1509          84234.0          85586.0          87584.0          89357.0   \n",
       "27           101310.0         102213.0         102342.0         103063.0   \n",
       "1230         112397.0         112025.0         111680.0         111231.0   \n",
       "...               ...              ...              ...              ...   \n",
       "1647            472.0            441.0            434.0            429.0   \n",
       "2644            428.0            413.0            420.0            415.0   \n",
       "2648            342.0            363.0            335.0            358.0   \n",
       "2664            109.0            114.0            111.0            109.0   \n",
       "198         9100159.0        9096608.0        9089015.0        9127042.0   \n",
       "\n",
       "      1997_population  1998_population  1999_population  2000_population  \\\n",
       "2235          87751.0          89074.0          90363.0          91457.0   \n",
       "3006          95998.0          96512.0          96985.0          97390.0   \n",
       "1509          90710.0          91697.0          92914.0          94050.0   \n",
       "27           104129.0         104367.0         104002.0         103286.0   \n",
       "1230         111040.0         110704.0         110295.0         110192.0   \n",
       "...               ...              ...              ...              ...   \n",
       "1647            440.0            447.0            445.0            445.0   \n",
       "2644            411.0            427.0            412.0            420.0   \n",
       "2648            373.0            389.0            346.0            358.0   \n",
       "2664             78.0             83.0             77.0             65.0   \n",
       "198         9206538.0        9313589.0        9437290.0        9538191.0   \n",
       "\n",
       "      2001_population  2002_population  ...  2013_population  2014_population  \\\n",
       "2235          92591.0          93934.0  ...         101504.0         101830.0   \n",
       "3006          97856.0          98097.0  ...         102191.0         102495.0   \n",
       "1509          94872.0          95771.0  ...         101823.0         102058.0   \n",
       "27           102976.0         102988.0  ...         104249.0         103880.0   \n",
       "1230         109836.0         109861.0  ...         107221.0         106599.0   \n",
       "...               ...              ...  ...              ...              ...   \n",
       "1647            423.0            421.0  ...            443.0            437.0   \n",
       "2644            421.0            429.0  ...            426.0            421.0   \n",
       "2648            313.0            308.0  ...            268.0            257.0   \n",
       "2664             66.0             75.0  ...             77.0             59.0   \n",
       "198         9626034.0        9705913.0  ...       10000924.0       10051511.0   \n",
       "\n",
       "      2015_population  2016_population  2017_population  2018_population  \\\n",
       "2235         102411.0         102625.0         103414.0         103932.0   \n",
       "3006         102590.0         102927.0         103180.0         103754.0   \n",
       "1509         102429.0         102952.0         103563.0         103967.0   \n",
       "27           103601.0         103603.0         103854.0         103646.0   \n",
       "1230         105916.0         105184.0         104967.0         104674.0   \n",
       "...               ...              ...              ...              ...   \n",
       "1647            433.0            445.0            432.0            435.0   \n",
       "2644            421.0            404.0            383.0            389.0   \n",
       "2648            273.0            281.0            278.0            265.0   \n",
       "2664             72.0             64.0             66.0             67.0   \n",
       "198        10099677.0       10121673.0       10123521.0       10096986.0   \n",
       "\n",
       "      2019_population  2020_population  2021_population  distance to 42001  \n",
       "2235         103778.0         103795.0         104127.0           0.000000  \n",
       "3006         104175.0         104076.0         104362.0           0.004093  \n",
       "1509         104137.0         104769.0         105231.0           0.008424  \n",
       "27           103440.0         103393.0         103162.0           0.008731  \n",
       "1230         104079.0         103594.0         102985.0           0.011795  \n",
       "...               ...              ...              ...                ...  \n",
       "1647            436.0            431.0            439.0           1.977809  \n",
       "2644            355.0            346.0            340.0           1.978614  \n",
       "2648            256.0            270.0            258.0           1.980969  \n",
       "2664             67.0             67.0             57.0           1.985240  \n",
       "198        10051154.0        9989165.0        9829544.0           2.014902  \n",
       "\n",
       "[3082 rows x 30 columns]"
      ]
     },
     "metadata": {},
     "output_type": "display_data"
    }
   ],
   "source": [
    "# this threw an error before\n",
    "f  = FipsQuery(42001, feature_groups_with_weights= {\"population\":4})\n",
    "f.find_euclidean_kins()\n",
    "display(f.plot_weights())\n",
    "display(f.euclidean_kins)"
   ]
  },
  {
   "cell_type": "code",
   "execution_count": 5,
   "metadata": {},
   "outputs": [
    {
     "name": "stdout",
     "output_type": "stream",
     "text": [
      "['industry_other_services_total', 'population', 'industry_construction_total', 'spending_transportation', 'industry_public_administration_total', 'spending_commerce', 'urbanization', 'industry_mining_total', 'industry_information_total', 'ethnic_composition', 'industry_educational_services_total', 'industry_manufacturing_total', 'industry_real_estate_total', 'industry_transportation_warehousing_total', 'industry_utilities_total', 'industry_management_enterprises_total', 'industry_admin_support_services_total', 'industry', 'gdp', 'industry_wholesale_trade_total', 'industry_arts_recreation_total', 'industry_agriculture_total', 'industry_professional_services_total', 'transport', 'industry_retail_trade_total', 'industry_accommodation_food_services_total', 'industry_healthcare_social_services_total', 'industry_finance_insurance_total', 'spending_HHS']\n"
     ]
    },
    {
     "data": {
      "application/vnd.plotly.v1+json": {
       "config": {
        "plotlyServerURL": "https://plot.ly"
       },
       "data": [
        {
         "type": "bar",
         "x": [
          "1993_population",
          "1994_population",
          "1995_population",
          "1996_population",
          "1997_population",
          "1998_population",
          "1999_population",
          "2000_population",
          "2001_population",
          "2002_population",
          "2003_population",
          "2004_population",
          "2005_population",
          "2006_population",
          "2007_population",
          "2008_population",
          "2009_population",
          "2010_population",
          "2011_population",
          "2012_population",
          "2013_population",
          "2014_population",
          "2015_population",
          "2016_population",
          "2017_population",
          "2018_population",
          "2019_population",
          "2020_population",
          "2021_population",
          "2010_spending_HHS",
          "2011_spending_HHS",
          "2012_spending_HHS",
          "2013_spending_HHS",
          "2014_spending_HHS",
          "2015_spending_HHS",
          "2016_spending_HHS",
          "2017_spending_HHS",
          "2018_spending_HHS",
          "2019_spending_HHS",
          "2020_spending_HHS",
          "2021_spending_HHS"
         ],
         "y": [
          0.03847414014225456,
          0.04155207135363493,
          0.04487623706192573,
          0.04846633602687978,
          0.05234364290903017,
          0.056531134341752595,
          0.0610536250890928,
          0.06593791509622024,
          0.07121294830391786,
          0.07690998416823129,
          0.08306278290168981,
          0.08970780553382499,
          0.09688442997653099,
          0.10463518437465348,
          0.11300599912462576,
          0.12204647905459583,
          0.13181019737896352,
          0.14235501316928062,
          0.15374341422282306,
          0.1660428873606489,
          0.17932631834950083,
          0.19367242381746091,
          0.20916621772285782,
          0.22589951514068643,
          0.24397147635194139,
          0.2634891944600967,
          0.28456833001690446,
          0.30733379641825687,
          0.3319205001317174,
          0.15808505077340862,
          0.17073185483528133,
          0.18439040322210384,
          0.19914163547987215,
          0.21507296631826195,
          0.23227880362372297,
          0.25086110791362076,
          0.27092999654671046,
          0.2926043962704473,
          0.3160127479720831,
          0.3412937678098498,
          0.3685972692346378
         ]
        }
       ],
       "layout": {
        "template": {
         "data": {
          "bar": [
           {
            "error_x": {
             "color": "#2a3f5f"
            },
            "error_y": {
             "color": "#2a3f5f"
            },
            "marker": {
             "line": {
              "color": "white",
              "width": 0.5
             },
             "pattern": {
              "fillmode": "overlay",
              "size": 10,
              "solidity": 0.2
             }
            },
            "type": "bar"
           }
          ],
          "barpolar": [
           {
            "marker": {
             "line": {
              "color": "white",
              "width": 0.5
             },
             "pattern": {
              "fillmode": "overlay",
              "size": 10,
              "solidity": 0.2
             }
            },
            "type": "barpolar"
           }
          ],
          "carpet": [
           {
            "aaxis": {
             "endlinecolor": "#2a3f5f",
             "gridcolor": "#C8D4E3",
             "linecolor": "#C8D4E3",
             "minorgridcolor": "#C8D4E3",
             "startlinecolor": "#2a3f5f"
            },
            "baxis": {
             "endlinecolor": "#2a3f5f",
             "gridcolor": "#C8D4E3",
             "linecolor": "#C8D4E3",
             "minorgridcolor": "#C8D4E3",
             "startlinecolor": "#2a3f5f"
            },
            "type": "carpet"
           }
          ],
          "choropleth": [
           {
            "colorbar": {
             "outlinewidth": 0,
             "ticks": ""
            },
            "type": "choropleth"
           }
          ],
          "contour": [
           {
            "colorbar": {
             "outlinewidth": 0,
             "ticks": ""
            },
            "colorscale": [
             [
              0,
              "#0d0887"
             ],
             [
              0.1111111111111111,
              "#46039f"
             ],
             [
              0.2222222222222222,
              "#7201a8"
             ],
             [
              0.3333333333333333,
              "#9c179e"
             ],
             [
              0.4444444444444444,
              "#bd3786"
             ],
             [
              0.5555555555555556,
              "#d8576b"
             ],
             [
              0.6666666666666666,
              "#ed7953"
             ],
             [
              0.7777777777777778,
              "#fb9f3a"
             ],
             [
              0.8888888888888888,
              "#fdca26"
             ],
             [
              1,
              "#f0f921"
             ]
            ],
            "type": "contour"
           }
          ],
          "contourcarpet": [
           {
            "colorbar": {
             "outlinewidth": 0,
             "ticks": ""
            },
            "type": "contourcarpet"
           }
          ],
          "heatmap": [
           {
            "colorbar": {
             "outlinewidth": 0,
             "ticks": ""
            },
            "colorscale": [
             [
              0,
              "#0d0887"
             ],
             [
              0.1111111111111111,
              "#46039f"
             ],
             [
              0.2222222222222222,
              "#7201a8"
             ],
             [
              0.3333333333333333,
              "#9c179e"
             ],
             [
              0.4444444444444444,
              "#bd3786"
             ],
             [
              0.5555555555555556,
              "#d8576b"
             ],
             [
              0.6666666666666666,
              "#ed7953"
             ],
             [
              0.7777777777777778,
              "#fb9f3a"
             ],
             [
              0.8888888888888888,
              "#fdca26"
             ],
             [
              1,
              "#f0f921"
             ]
            ],
            "type": "heatmap"
           }
          ],
          "heatmapgl": [
           {
            "colorbar": {
             "outlinewidth": 0,
             "ticks": ""
            },
            "colorscale": [
             [
              0,
              "#0d0887"
             ],
             [
              0.1111111111111111,
              "#46039f"
             ],
             [
              0.2222222222222222,
              "#7201a8"
             ],
             [
              0.3333333333333333,
              "#9c179e"
             ],
             [
              0.4444444444444444,
              "#bd3786"
             ],
             [
              0.5555555555555556,
              "#d8576b"
             ],
             [
              0.6666666666666666,
              "#ed7953"
             ],
             [
              0.7777777777777778,
              "#fb9f3a"
             ],
             [
              0.8888888888888888,
              "#fdca26"
             ],
             [
              1,
              "#f0f921"
             ]
            ],
            "type": "heatmapgl"
           }
          ],
          "histogram": [
           {
            "marker": {
             "pattern": {
              "fillmode": "overlay",
              "size": 10,
              "solidity": 0.2
             }
            },
            "type": "histogram"
           }
          ],
          "histogram2d": [
           {
            "colorbar": {
             "outlinewidth": 0,
             "ticks": ""
            },
            "colorscale": [
             [
              0,
              "#0d0887"
             ],
             [
              0.1111111111111111,
              "#46039f"
             ],
             [
              0.2222222222222222,
              "#7201a8"
             ],
             [
              0.3333333333333333,
              "#9c179e"
             ],
             [
              0.4444444444444444,
              "#bd3786"
             ],
             [
              0.5555555555555556,
              "#d8576b"
             ],
             [
              0.6666666666666666,
              "#ed7953"
             ],
             [
              0.7777777777777778,
              "#fb9f3a"
             ],
             [
              0.8888888888888888,
              "#fdca26"
             ],
             [
              1,
              "#f0f921"
             ]
            ],
            "type": "histogram2d"
           }
          ],
          "histogram2dcontour": [
           {
            "colorbar": {
             "outlinewidth": 0,
             "ticks": ""
            },
            "colorscale": [
             [
              0,
              "#0d0887"
             ],
             [
              0.1111111111111111,
              "#46039f"
             ],
             [
              0.2222222222222222,
              "#7201a8"
             ],
             [
              0.3333333333333333,
              "#9c179e"
             ],
             [
              0.4444444444444444,
              "#bd3786"
             ],
             [
              0.5555555555555556,
              "#d8576b"
             ],
             [
              0.6666666666666666,
              "#ed7953"
             ],
             [
              0.7777777777777778,
              "#fb9f3a"
             ],
             [
              0.8888888888888888,
              "#fdca26"
             ],
             [
              1,
              "#f0f921"
             ]
            ],
            "type": "histogram2dcontour"
           }
          ],
          "mesh3d": [
           {
            "colorbar": {
             "outlinewidth": 0,
             "ticks": ""
            },
            "type": "mesh3d"
           }
          ],
          "parcoords": [
           {
            "line": {
             "colorbar": {
              "outlinewidth": 0,
              "ticks": ""
             }
            },
            "type": "parcoords"
           }
          ],
          "pie": [
           {
            "automargin": true,
            "type": "pie"
           }
          ],
          "scatter": [
           {
            "fillpattern": {
             "fillmode": "overlay",
             "size": 10,
             "solidity": 0.2
            },
            "type": "scatter"
           }
          ],
          "scatter3d": [
           {
            "line": {
             "colorbar": {
              "outlinewidth": 0,
              "ticks": ""
             }
            },
            "marker": {
             "colorbar": {
              "outlinewidth": 0,
              "ticks": ""
             }
            },
            "type": "scatter3d"
           }
          ],
          "scattercarpet": [
           {
            "marker": {
             "colorbar": {
              "outlinewidth": 0,
              "ticks": ""
             }
            },
            "type": "scattercarpet"
           }
          ],
          "scattergeo": [
           {
            "marker": {
             "colorbar": {
              "outlinewidth": 0,
              "ticks": ""
             }
            },
            "type": "scattergeo"
           }
          ],
          "scattergl": [
           {
            "marker": {
             "colorbar": {
              "outlinewidth": 0,
              "ticks": ""
             }
            },
            "type": "scattergl"
           }
          ],
          "scattermapbox": [
           {
            "marker": {
             "colorbar": {
              "outlinewidth": 0,
              "ticks": ""
             }
            },
            "type": "scattermapbox"
           }
          ],
          "scatterpolar": [
           {
            "marker": {
             "colorbar": {
              "outlinewidth": 0,
              "ticks": ""
             }
            },
            "type": "scatterpolar"
           }
          ],
          "scatterpolargl": [
           {
            "marker": {
             "colorbar": {
              "outlinewidth": 0,
              "ticks": ""
             }
            },
            "type": "scatterpolargl"
           }
          ],
          "scatterternary": [
           {
            "marker": {
             "colorbar": {
              "outlinewidth": 0,
              "ticks": ""
             }
            },
            "type": "scatterternary"
           }
          ],
          "surface": [
           {
            "colorbar": {
             "outlinewidth": 0,
             "ticks": ""
            },
            "colorscale": [
             [
              0,
              "#0d0887"
             ],
             [
              0.1111111111111111,
              "#46039f"
             ],
             [
              0.2222222222222222,
              "#7201a8"
             ],
             [
              0.3333333333333333,
              "#9c179e"
             ],
             [
              0.4444444444444444,
              "#bd3786"
             ],
             [
              0.5555555555555556,
              "#d8576b"
             ],
             [
              0.6666666666666666,
              "#ed7953"
             ],
             [
              0.7777777777777778,
              "#fb9f3a"
             ],
             [
              0.8888888888888888,
              "#fdca26"
             ],
             [
              1,
              "#f0f921"
             ]
            ],
            "type": "surface"
           }
          ],
          "table": [
           {
            "cells": {
             "fill": {
              "color": "#EBF0F8"
             },
             "line": {
              "color": "white"
             }
            },
            "header": {
             "fill": {
              "color": "#C8D4E3"
             },
             "line": {
              "color": "white"
             }
            },
            "type": "table"
           }
          ]
         },
         "layout": {
          "annotationdefaults": {
           "arrowcolor": "#2a3f5f",
           "arrowhead": 0,
           "arrowwidth": 1
          },
          "autotypenumbers": "strict",
          "coloraxis": {
           "colorbar": {
            "outlinewidth": 0,
            "ticks": ""
           }
          },
          "colorscale": {
           "diverging": [
            [
             0,
             "#8e0152"
            ],
            [
             0.1,
             "#c51b7d"
            ],
            [
             0.2,
             "#de77ae"
            ],
            [
             0.3,
             "#f1b6da"
            ],
            [
             0.4,
             "#fde0ef"
            ],
            [
             0.5,
             "#f7f7f7"
            ],
            [
             0.6,
             "#e6f5d0"
            ],
            [
             0.7,
             "#b8e186"
            ],
            [
             0.8,
             "#7fbc41"
            ],
            [
             0.9,
             "#4d9221"
            ],
            [
             1,
             "#276419"
            ]
           ],
           "sequential": [
            [
             0,
             "#0d0887"
            ],
            [
             0.1111111111111111,
             "#46039f"
            ],
            [
             0.2222222222222222,
             "#7201a8"
            ],
            [
             0.3333333333333333,
             "#9c179e"
            ],
            [
             0.4444444444444444,
             "#bd3786"
            ],
            [
             0.5555555555555556,
             "#d8576b"
            ],
            [
             0.6666666666666666,
             "#ed7953"
            ],
            [
             0.7777777777777778,
             "#fb9f3a"
            ],
            [
             0.8888888888888888,
             "#fdca26"
            ],
            [
             1,
             "#f0f921"
            ]
           ],
           "sequentialminus": [
            [
             0,
             "#0d0887"
            ],
            [
             0.1111111111111111,
             "#46039f"
            ],
            [
             0.2222222222222222,
             "#7201a8"
            ],
            [
             0.3333333333333333,
             "#9c179e"
            ],
            [
             0.4444444444444444,
             "#bd3786"
            ],
            [
             0.5555555555555556,
             "#d8576b"
            ],
            [
             0.6666666666666666,
             "#ed7953"
            ],
            [
             0.7777777777777778,
             "#fb9f3a"
            ],
            [
             0.8888888888888888,
             "#fdca26"
            ],
            [
             1,
             "#f0f921"
            ]
           ]
          },
          "colorway": [
           "#636efa",
           "#EF553B",
           "#00cc96",
           "#ab63fa",
           "#FFA15A",
           "#19d3f3",
           "#FF6692",
           "#B6E880",
           "#FF97FF",
           "#FECB52"
          ],
          "font": {
           "color": "#2a3f5f"
          },
          "geo": {
           "bgcolor": "white",
           "lakecolor": "white",
           "landcolor": "white",
           "showlakes": true,
           "showland": true,
           "subunitcolor": "#C8D4E3"
          },
          "hoverlabel": {
           "align": "left"
          },
          "hovermode": "closest",
          "mapbox": {
           "style": "light"
          },
          "paper_bgcolor": "white",
          "plot_bgcolor": "white",
          "polar": {
           "angularaxis": {
            "gridcolor": "#EBF0F8",
            "linecolor": "#EBF0F8",
            "ticks": ""
           },
           "bgcolor": "white",
           "radialaxis": {
            "gridcolor": "#EBF0F8",
            "linecolor": "#EBF0F8",
            "ticks": ""
           }
          },
          "scene": {
           "xaxis": {
            "backgroundcolor": "white",
            "gridcolor": "#DFE8F3",
            "gridwidth": 2,
            "linecolor": "#EBF0F8",
            "showbackground": true,
            "ticks": "",
            "zerolinecolor": "#EBF0F8"
           },
           "yaxis": {
            "backgroundcolor": "white",
            "gridcolor": "#DFE8F3",
            "gridwidth": 2,
            "linecolor": "#EBF0F8",
            "showbackground": true,
            "ticks": "",
            "zerolinecolor": "#EBF0F8"
           },
           "zaxis": {
            "backgroundcolor": "white",
            "gridcolor": "#DFE8F3",
            "gridwidth": 2,
            "linecolor": "#EBF0F8",
            "showbackground": true,
            "ticks": "",
            "zerolinecolor": "#EBF0F8"
           }
          },
          "shapedefaults": {
           "line": {
            "color": "#2a3f5f"
           }
          },
          "ternary": {
           "aaxis": {
            "gridcolor": "#DFE8F3",
            "linecolor": "#A2B1C6",
            "ticks": ""
           },
           "baxis": {
            "gridcolor": "#DFE8F3",
            "linecolor": "#A2B1C6",
            "ticks": ""
           },
           "bgcolor": "white",
           "caxis": {
            "gridcolor": "#DFE8F3",
            "linecolor": "#A2B1C6",
            "ticks": ""
           }
          },
          "title": {
           "x": 0.05
          },
          "xaxis": {
           "automargin": true,
           "gridcolor": "#EBF0F8",
           "linecolor": "#EBF0F8",
           "ticks": "",
           "title": {
            "standoff": 15
           },
           "zerolinecolor": "#EBF0F8",
           "zerolinewidth": 2
          },
          "yaxis": {
           "automargin": true,
           "gridcolor": "#EBF0F8",
           "linecolor": "#EBF0F8",
           "ticks": "",
           "title": {
            "standoff": 15
           },
           "zerolinecolor": "#EBF0F8",
           "zerolinewidth": 2
          }
         }
        },
        "title": {
         "text": "Weights of columns"
        },
        "xaxis": {
         "title": {
          "text": "columns"
         }
        },
        "yaxis": {
         "title": {
          "text": "weights"
         }
        }
       }
      }
     },
     "metadata": {},
     "output_type": "display_data"
    },
    {
     "data": {
      "text/plain": [
       "None"
      ]
     },
     "metadata": {},
     "output_type": "display_data"
    },
    {
     "data": {
      "text/html": [
       "<div>\n",
       "<style scoped>\n",
       "    .dataframe tbody tr th:only-of-type {\n",
       "        vertical-align: middle;\n",
       "    }\n",
       "\n",
       "    .dataframe tbody tr th {\n",
       "        vertical-align: top;\n",
       "    }\n",
       "\n",
       "    .dataframe thead th {\n",
       "        text-align: right;\n",
       "    }\n",
       "</style>\n",
       "<table border=\"1\" class=\"dataframe\">\n",
       "  <thead>\n",
       "    <tr style=\"text-align: right;\">\n",
       "      <th></th>\n",
       "      <th>1993_population</th>\n",
       "      <th>1994_population</th>\n",
       "      <th>1995_population</th>\n",
       "      <th>1996_population</th>\n",
       "      <th>1997_population</th>\n",
       "      <th>1998_population</th>\n",
       "      <th>1999_population</th>\n",
       "      <th>2000_population</th>\n",
       "      <th>2001_population</th>\n",
       "      <th>2002_population</th>\n",
       "      <th>...</th>\n",
       "      <th>2013_spending_HHS</th>\n",
       "      <th>2014_spending_HHS</th>\n",
       "      <th>2015_spending_HHS</th>\n",
       "      <th>2016_spending_HHS</th>\n",
       "      <th>2017_spending_HHS</th>\n",
       "      <th>2018_spending_HHS</th>\n",
       "      <th>2019_spending_HHS</th>\n",
       "      <th>2020_spending_HHS</th>\n",
       "      <th>2021_spending_HHS</th>\n",
       "      <th>distance to 42001</th>\n",
       "    </tr>\n",
       "  </thead>\n",
       "  <tbody>\n",
       "    <tr>\n",
       "      <th>2235</th>\n",
       "      <td>83013.0</td>\n",
       "      <td>84186.0</td>\n",
       "      <td>85063.0</td>\n",
       "      <td>86252.0</td>\n",
       "      <td>87751.0</td>\n",
       "      <td>89074.0</td>\n",
       "      <td>90363.0</td>\n",
       "      <td>91457.0</td>\n",
       "      <td>92591.0</td>\n",
       "      <td>93934.0</td>\n",
       "      <td>...</td>\n",
       "      <td>6.841459e+07</td>\n",
       "      <td>2.843109e+07</td>\n",
       "      <td>1.022756e+07</td>\n",
       "      <td>3.068268e+07</td>\n",
       "      <td>2.081153e+07</td>\n",
       "      <td>3.134013e+07</td>\n",
       "      <td>5.207267e+07</td>\n",
       "      <td>3.151378e+07</td>\n",
       "      <td>4.473508e+07</td>\n",
       "      <td>0.000000</td>\n",
       "    </tr>\n",
       "    <tr>\n",
       "      <th>3006</th>\n",
       "      <td>92876.0</td>\n",
       "      <td>93717.0</td>\n",
       "      <td>94509.0</td>\n",
       "      <td>95529.0</td>\n",
       "      <td>95998.0</td>\n",
       "      <td>96512.0</td>\n",
       "      <td>96985.0</td>\n",
       "      <td>97390.0</td>\n",
       "      <td>97856.0</td>\n",
       "      <td>98097.0</td>\n",
       "      <td>...</td>\n",
       "      <td>2.548639e+07</td>\n",
       "      <td>3.562433e+07</td>\n",
       "      <td>2.471649e+07</td>\n",
       "      <td>3.263073e+07</td>\n",
       "      <td>5.403922e+07</td>\n",
       "      <td>4.703442e+07</td>\n",
       "      <td>5.464052e+07</td>\n",
       "      <td>5.844357e+07</td>\n",
       "      <td>7.377923e+07</td>\n",
       "      <td>0.026253</td>\n",
       "    </tr>\n",
       "    <tr>\n",
       "      <th>1244</th>\n",
       "      <td>96534.0</td>\n",
       "      <td>97920.0</td>\n",
       "      <td>99350.0</td>\n",
       "      <td>100660.0</td>\n",
       "      <td>101474.0</td>\n",
       "      <td>102280.0</td>\n",
       "      <td>102991.0</td>\n",
       "      <td>104000.0</td>\n",
       "      <td>104848.0</td>\n",
       "      <td>105794.0</td>\n",
       "      <td>...</td>\n",
       "      <td>5.135486e+07</td>\n",
       "      <td>1.685584e+07</td>\n",
       "      <td>2.075568e+07</td>\n",
       "      <td>6.394366e+07</td>\n",
       "      <td>2.995285e+07</td>\n",
       "      <td>6.536969e+07</td>\n",
       "      <td>5.782530e+07</td>\n",
       "      <td>6.692654e+07</td>\n",
       "      <td>4.542509e+07</td>\n",
       "      <td>0.030965</td>\n",
       "    </tr>\n",
       "    <tr>\n",
       "      <th>7</th>\n",
       "      <td>116324.0</td>\n",
       "      <td>116161.0</td>\n",
       "      <td>116790.0</td>\n",
       "      <td>116684.0</td>\n",
       "      <td>117254.0</td>\n",
       "      <td>117179.0</td>\n",
       "      <td>114910.0</td>\n",
       "      <td>111081.0</td>\n",
       "      <td>111266.0</td>\n",
       "      <td>111625.0</td>\n",
       "      <td>...</td>\n",
       "      <td>3.943803e+07</td>\n",
       "      <td>4.531137e+07</td>\n",
       "      <td>3.266888e+07</td>\n",
       "      <td>3.188817e+07</td>\n",
       "      <td>3.195046e+07</td>\n",
       "      <td>4.203667e+07</td>\n",
       "      <td>2.714948e+07</td>\n",
       "      <td>2.231390e+07</td>\n",
       "      <td>2.433614e+07</td>\n",
       "      <td>0.033050</td>\n",
       "    </tr>\n",
       "    <tr>\n",
       "      <th>1853</th>\n",
       "      <td>98327.0</td>\n",
       "      <td>98509.0</td>\n",
       "      <td>98816.0</td>\n",
       "      <td>99509.0</td>\n",
       "      <td>99693.0</td>\n",
       "      <td>99603.0</td>\n",
       "      <td>99802.0</td>\n",
       "      <td>100106.0</td>\n",
       "      <td>100819.0</td>\n",
       "      <td>101763.0</td>\n",
       "      <td>...</td>\n",
       "      <td>2.743605e+07</td>\n",
       "      <td>1.820944e+07</td>\n",
       "      <td>7.596719e+06</td>\n",
       "      <td>1.534277e+07</td>\n",
       "      <td>5.635192e+07</td>\n",
       "      <td>2.467059e+07</td>\n",
       "      <td>1.403323e+07</td>\n",
       "      <td>4.650258e+07</td>\n",
       "      <td>4.890882e+07</td>\n",
       "      <td>0.034477</td>\n",
       "    </tr>\n",
       "    <tr>\n",
       "      <th>...</th>\n",
       "      <td>...</td>\n",
       "      <td>...</td>\n",
       "      <td>...</td>\n",
       "      <td>...</td>\n",
       "      <td>...</td>\n",
       "      <td>...</td>\n",
       "      <td>...</td>\n",
       "      <td>...</td>\n",
       "      <td>...</td>\n",
       "      <td>...</td>\n",
       "      <td>...</td>\n",
       "      <td>...</td>\n",
       "      <td>...</td>\n",
       "      <td>...</td>\n",
       "      <td>...</td>\n",
       "      <td>...</td>\n",
       "      <td>...</td>\n",
       "      <td>...</td>\n",
       "      <td>...</td>\n",
       "      <td>...</td>\n",
       "      <td>...</td>\n",
       "    </tr>\n",
       "    <tr>\n",
       "      <th>2384</th>\n",
       "      <td>15660.0</td>\n",
       "      <td>15902.0</td>\n",
       "      <td>15997.0</td>\n",
       "      <td>16082.0</td>\n",
       "      <td>16053.0</td>\n",
       "      <td>16129.0</td>\n",
       "      <td>16386.0</td>\n",
       "      <td>16505.0</td>\n",
       "      <td>16351.0</td>\n",
       "      <td>16479.0</td>\n",
       "      <td>...</td>\n",
       "      <td>4.016453e+09</td>\n",
       "      <td>3.975215e+09</td>\n",
       "      <td>4.085792e+09</td>\n",
       "      <td>3.715688e+09</td>\n",
       "      <td>6.654582e+09</td>\n",
       "      <td>7.660348e+09</td>\n",
       "      <td>1.127461e+10</td>\n",
       "      <td>1.530217e+10</td>\n",
       "      <td>1.712052e+10</td>\n",
       "      <td>2.369198</td>\n",
       "    </tr>\n",
       "    <tr>\n",
       "      <th>2740</th>\n",
       "      <td>649226.0</td>\n",
       "      <td>671759.0</td>\n",
       "      <td>696278.0</td>\n",
       "      <td>717194.0</td>\n",
       "      <td>736587.0</td>\n",
       "      <td>761335.0</td>\n",
       "      <td>788500.0</td>\n",
       "      <td>819692.0</td>\n",
       "      <td>844877.0</td>\n",
       "      <td>848090.0</td>\n",
       "      <td>...</td>\n",
       "      <td>2.225282e+11</td>\n",
       "      <td>2.231797e+11</td>\n",
       "      <td>2.118196e+11</td>\n",
       "      <td>2.138400e+11</td>\n",
       "      <td>2.527288e+11</td>\n",
       "      <td>3.552319e+11</td>\n",
       "      <td>4.896949e+11</td>\n",
       "      <td>6.288495e+11</td>\n",
       "      <td>7.776532e+11</td>\n",
       "      <td>2.469107</td>\n",
       "    </tr>\n",
       "    <tr>\n",
       "      <th>198</th>\n",
       "      <td>9100159.0</td>\n",
       "      <td>9096608.0</td>\n",
       "      <td>9089015.0</td>\n",
       "      <td>9127042.0</td>\n",
       "      <td>9206538.0</td>\n",
       "      <td>9313589.0</td>\n",
       "      <td>9437290.0</td>\n",
       "      <td>9538191.0</td>\n",
       "      <td>9626034.0</td>\n",
       "      <td>9705913.0</td>\n",
       "      <td>...</td>\n",
       "      <td>2.348763e+10</td>\n",
       "      <td>2.294435e+10</td>\n",
       "      <td>2.502567e+10</td>\n",
       "      <td>2.839330e+10</td>\n",
       "      <td>3.868660e+10</td>\n",
       "      <td>5.899629e+10</td>\n",
       "      <td>1.410259e+11</td>\n",
       "      <td>2.187211e+11</td>\n",
       "      <td>2.577860e+11</td>\n",
       "      <td>2.725159</td>\n",
       "    </tr>\n",
       "    <tr>\n",
       "      <th>1819</th>\n",
       "      <td>298592.0</td>\n",
       "      <td>300262.0</td>\n",
       "      <td>299725.0</td>\n",
       "      <td>297680.0</td>\n",
       "      <td>296187.0</td>\n",
       "      <td>295097.0</td>\n",
       "      <td>294692.0</td>\n",
       "      <td>295106.0</td>\n",
       "      <td>296232.0</td>\n",
       "      <td>298283.0</td>\n",
       "      <td>...</td>\n",
       "      <td>3.271360e+11</td>\n",
       "      <td>3.134117e+11</td>\n",
       "      <td>3.894925e+11</td>\n",
       "      <td>3.271486e+11</td>\n",
       "      <td>7.462131e+11</td>\n",
       "      <td>6.579396e+11</td>\n",
       "      <td>8.941410e+11</td>\n",
       "      <td>9.732370e+11</td>\n",
       "      <td>9.351828e+11</td>\n",
       "      <td>2.941499</td>\n",
       "    </tr>\n",
       "    <tr>\n",
       "      <th>213</th>\n",
       "      <td>1127608.0</td>\n",
       "      <td>1130094.0</td>\n",
       "      <td>1140825.0</td>\n",
       "      <td>1155635.0</td>\n",
       "      <td>1169855.0</td>\n",
       "      <td>1186617.0</td>\n",
       "      <td>1206659.0</td>\n",
       "      <td>1229940.0</td>\n",
       "      <td>1266257.0</td>\n",
       "      <td>1301079.0</td>\n",
       "      <td>...</td>\n",
       "      <td>3.614194e+11</td>\n",
       "      <td>4.741250e+11</td>\n",
       "      <td>3.639794e+11</td>\n",
       "      <td>3.878961e+11</td>\n",
       "      <td>3.388018e+11</td>\n",
       "      <td>1.298456e+12</td>\n",
       "      <td>1.235765e+12</td>\n",
       "      <td>1.717218e+12</td>\n",
       "      <td>1.842294e+12</td>\n",
       "      <td>3.359044</td>\n",
       "    </tr>\n",
       "  </tbody>\n",
       "</table>\n",
       "<p>3082 rows × 42 columns</p>\n",
       "</div>"
      ],
      "text/plain": [
       "      1993_population  1994_population  1995_population  1996_population  \\\n",
       "2235          83013.0          84186.0          85063.0          86252.0   \n",
       "3006          92876.0          93717.0          94509.0          95529.0   \n",
       "1244          96534.0          97920.0          99350.0         100660.0   \n",
       "7            116324.0         116161.0         116790.0         116684.0   \n",
       "1853          98327.0          98509.0          98816.0          99509.0   \n",
       "...               ...              ...              ...              ...   \n",
       "2384          15660.0          15902.0          15997.0          16082.0   \n",
       "2740         649226.0         671759.0         696278.0         717194.0   \n",
       "198         9100159.0        9096608.0        9089015.0        9127042.0   \n",
       "1819         298592.0         300262.0         299725.0         297680.0   \n",
       "213         1127608.0        1130094.0        1140825.0        1155635.0   \n",
       "\n",
       "      1997_population  1998_population  1999_population  2000_population  \\\n",
       "2235          87751.0          89074.0          90363.0          91457.0   \n",
       "3006          95998.0          96512.0          96985.0          97390.0   \n",
       "1244         101474.0         102280.0         102991.0         104000.0   \n",
       "7            117254.0         117179.0         114910.0         111081.0   \n",
       "1853          99693.0          99603.0          99802.0         100106.0   \n",
       "...               ...              ...              ...              ...   \n",
       "2384          16053.0          16129.0          16386.0          16505.0   \n",
       "2740         736587.0         761335.0         788500.0         819692.0   \n",
       "198         9206538.0        9313589.0        9437290.0        9538191.0   \n",
       "1819         296187.0         295097.0         294692.0         295106.0   \n",
       "213         1169855.0        1186617.0        1206659.0        1229940.0   \n",
       "\n",
       "      2001_population  2002_population  ...  2013_spending_HHS  \\\n",
       "2235          92591.0          93934.0  ...       6.841459e+07   \n",
       "3006          97856.0          98097.0  ...       2.548639e+07   \n",
       "1244         104848.0         105794.0  ...       5.135486e+07   \n",
       "7            111266.0         111625.0  ...       3.943803e+07   \n",
       "1853         100819.0         101763.0  ...       2.743605e+07   \n",
       "...               ...              ...  ...                ...   \n",
       "2384          16351.0          16479.0  ...       4.016453e+09   \n",
       "2740         844877.0         848090.0  ...       2.225282e+11   \n",
       "198         9626034.0        9705913.0  ...       2.348763e+10   \n",
       "1819         296232.0         298283.0  ...       3.271360e+11   \n",
       "213         1266257.0        1301079.0  ...       3.614194e+11   \n",
       "\n",
       "      2014_spending_HHS  2015_spending_HHS  2016_spending_HHS  \\\n",
       "2235       2.843109e+07       1.022756e+07       3.068268e+07   \n",
       "3006       3.562433e+07       2.471649e+07       3.263073e+07   \n",
       "1244       1.685584e+07       2.075568e+07       6.394366e+07   \n",
       "7          4.531137e+07       3.266888e+07       3.188817e+07   \n",
       "1853       1.820944e+07       7.596719e+06       1.534277e+07   \n",
       "...                 ...                ...                ...   \n",
       "2384       3.975215e+09       4.085792e+09       3.715688e+09   \n",
       "2740       2.231797e+11       2.118196e+11       2.138400e+11   \n",
       "198        2.294435e+10       2.502567e+10       2.839330e+10   \n",
       "1819       3.134117e+11       3.894925e+11       3.271486e+11   \n",
       "213        4.741250e+11       3.639794e+11       3.878961e+11   \n",
       "\n",
       "      2017_spending_HHS  2018_spending_HHS  2019_spending_HHS  \\\n",
       "2235       2.081153e+07       3.134013e+07       5.207267e+07   \n",
       "3006       5.403922e+07       4.703442e+07       5.464052e+07   \n",
       "1244       2.995285e+07       6.536969e+07       5.782530e+07   \n",
       "7          3.195046e+07       4.203667e+07       2.714948e+07   \n",
       "1853       5.635192e+07       2.467059e+07       1.403323e+07   \n",
       "...                 ...                ...                ...   \n",
       "2384       6.654582e+09       7.660348e+09       1.127461e+10   \n",
       "2740       2.527288e+11       3.552319e+11       4.896949e+11   \n",
       "198        3.868660e+10       5.899629e+10       1.410259e+11   \n",
       "1819       7.462131e+11       6.579396e+11       8.941410e+11   \n",
       "213        3.388018e+11       1.298456e+12       1.235765e+12   \n",
       "\n",
       "      2020_spending_HHS  2021_spending_HHS  distance to 42001  \n",
       "2235       3.151378e+07       4.473508e+07           0.000000  \n",
       "3006       5.844357e+07       7.377923e+07           0.026253  \n",
       "1244       6.692654e+07       4.542509e+07           0.030965  \n",
       "7          2.231390e+07       2.433614e+07           0.033050  \n",
       "1853       4.650258e+07       4.890882e+07           0.034477  \n",
       "...                 ...                ...                ...  \n",
       "2384       1.530217e+10       1.712052e+10           2.369198  \n",
       "2740       6.288495e+11       7.776532e+11           2.469107  \n",
       "198        2.187211e+11       2.577860e+11           2.725159  \n",
       "1819       9.732370e+11       9.351828e+11           2.941499  \n",
       "213        1.717218e+12       1.842294e+12           3.359044  \n",
       "\n",
       "[3082 rows x 42 columns]"
      ]
     },
     "metadata": {},
     "output_type": "display_data"
    }
   ],
   "source": [
    "# You don't want to pass outcome and are interested in similarities\n",
    "print(list_available_features())\n",
    "f  = FipsQuery(42001, feature_groups_with_weights= {\"population\":4, \"spending_HHS\": 3})\n",
    "f.find_euclidean_kins()\n",
    "display(f.plot_weights())\n",
    "display(f.euclidean_kins)"
   ]
  },
  {
   "cell_type": "code",
   "execution_count": 6,
   "metadata": {},
   "outputs": [
    {
     "name": "stdout",
     "output_type": "stream",
     "text": [
      "['industry_other_services_total', 'population', 'industry_construction_total', 'spending_transportation', 'industry_public_administration_total', 'spending_commerce', 'urbanization', 'industry_mining_total', 'industry_information_total', 'ethnic_composition', 'industry_educational_services_total', 'industry_manufacturing_total', 'industry_real_estate_total', 'industry_transportation_warehousing_total', 'industry_utilities_total', 'industry_management_enterprises_total', 'industry_admin_support_services_total', 'industry', 'gdp', 'industry_wholesale_trade_total', 'industry_arts_recreation_total', 'industry_agriculture_total', 'industry_professional_services_total', 'transport', 'industry_retail_trade_total', 'industry_accommodation_food_services_total', 'industry_healthcare_social_services_total', 'industry_finance_insurance_total', 'spending_HHS']\n"
     ]
    },
    {
     "data": {
      "application/vnd.plotly.v1+json": {
       "config": {
        "plotlyServerURL": "https://plot.ly"
       },
       "data": [
        {
         "type": "bar",
         "x": [
          "2010_spending_HHS",
          "2011_spending_HHS",
          "2012_spending_HHS",
          "2013_spending_HHS",
          "2014_spending_HHS",
          "2015_spending_HHS",
          "2016_spending_HHS",
          "2017_spending_HHS",
          "2018_spending_HHS",
          "2019_spending_HHS",
          "2020_spending_HHS",
          "2021_spending_HHS",
          "1993_population",
          "1994_population",
          "1995_population",
          "1996_population",
          "1997_population",
          "1998_population",
          "1999_population",
          "2000_population",
          "2001_population",
          "2002_population",
          "2003_population",
          "2004_population",
          "2005_population",
          "2006_population",
          "2007_population",
          "2008_population",
          "2009_population",
          "2010_population",
          "2011_population",
          "2012_population",
          "2013_population",
          "2014_population",
          "2015_population",
          "2016_population",
          "2017_population",
          "2018_population",
          "2019_population",
          "2020_population",
          "2021_population"
         ],
         "y": [
          0,
          0,
          0,
          0,
          0,
          0,
          0,
          0,
          0,
          0,
          0,
          0,
          0.03847414014225456,
          0.04155207135363493,
          0.04487623706192573,
          0.04846633602687978,
          0.05234364290903017,
          0.056531134341752595,
          0.0610536250890928,
          0.06593791509622024,
          0.07121294830391786,
          0.07690998416823129,
          0.08306278290168981,
          0.08970780553382499,
          0.09688442997653099,
          0.10463518437465348,
          0.11300599912462576,
          0.12204647905459583,
          0.13181019737896352,
          0.14235501316928062,
          0.15374341422282306,
          0.1660428873606489,
          0.17932631834950083,
          0.19367242381746091,
          0.20916621772285782,
          0.22589951514068643,
          0.24397147635194139,
          0.2634891944600967,
          0.28456833001690446,
          0.30733379641825687,
          0.3319205001317174
         ]
        }
       ],
       "layout": {
        "template": {
         "data": {
          "bar": [
           {
            "error_x": {
             "color": "#2a3f5f"
            },
            "error_y": {
             "color": "#2a3f5f"
            },
            "marker": {
             "line": {
              "color": "white",
              "width": 0.5
             },
             "pattern": {
              "fillmode": "overlay",
              "size": 10,
              "solidity": 0.2
             }
            },
            "type": "bar"
           }
          ],
          "barpolar": [
           {
            "marker": {
             "line": {
              "color": "white",
              "width": 0.5
             },
             "pattern": {
              "fillmode": "overlay",
              "size": 10,
              "solidity": 0.2
             }
            },
            "type": "barpolar"
           }
          ],
          "carpet": [
           {
            "aaxis": {
             "endlinecolor": "#2a3f5f",
             "gridcolor": "#C8D4E3",
             "linecolor": "#C8D4E3",
             "minorgridcolor": "#C8D4E3",
             "startlinecolor": "#2a3f5f"
            },
            "baxis": {
             "endlinecolor": "#2a3f5f",
             "gridcolor": "#C8D4E3",
             "linecolor": "#C8D4E3",
             "minorgridcolor": "#C8D4E3",
             "startlinecolor": "#2a3f5f"
            },
            "type": "carpet"
           }
          ],
          "choropleth": [
           {
            "colorbar": {
             "outlinewidth": 0,
             "ticks": ""
            },
            "type": "choropleth"
           }
          ],
          "contour": [
           {
            "colorbar": {
             "outlinewidth": 0,
             "ticks": ""
            },
            "colorscale": [
             [
              0,
              "#0d0887"
             ],
             [
              0.1111111111111111,
              "#46039f"
             ],
             [
              0.2222222222222222,
              "#7201a8"
             ],
             [
              0.3333333333333333,
              "#9c179e"
             ],
             [
              0.4444444444444444,
              "#bd3786"
             ],
             [
              0.5555555555555556,
              "#d8576b"
             ],
             [
              0.6666666666666666,
              "#ed7953"
             ],
             [
              0.7777777777777778,
              "#fb9f3a"
             ],
             [
              0.8888888888888888,
              "#fdca26"
             ],
             [
              1,
              "#f0f921"
             ]
            ],
            "type": "contour"
           }
          ],
          "contourcarpet": [
           {
            "colorbar": {
             "outlinewidth": 0,
             "ticks": ""
            },
            "type": "contourcarpet"
           }
          ],
          "heatmap": [
           {
            "colorbar": {
             "outlinewidth": 0,
             "ticks": ""
            },
            "colorscale": [
             [
              0,
              "#0d0887"
             ],
             [
              0.1111111111111111,
              "#46039f"
             ],
             [
              0.2222222222222222,
              "#7201a8"
             ],
             [
              0.3333333333333333,
              "#9c179e"
             ],
             [
              0.4444444444444444,
              "#bd3786"
             ],
             [
              0.5555555555555556,
              "#d8576b"
             ],
             [
              0.6666666666666666,
              "#ed7953"
             ],
             [
              0.7777777777777778,
              "#fb9f3a"
             ],
             [
              0.8888888888888888,
              "#fdca26"
             ],
             [
              1,
              "#f0f921"
             ]
            ],
            "type": "heatmap"
           }
          ],
          "heatmapgl": [
           {
            "colorbar": {
             "outlinewidth": 0,
             "ticks": ""
            },
            "colorscale": [
             [
              0,
              "#0d0887"
             ],
             [
              0.1111111111111111,
              "#46039f"
             ],
             [
              0.2222222222222222,
              "#7201a8"
             ],
             [
              0.3333333333333333,
              "#9c179e"
             ],
             [
              0.4444444444444444,
              "#bd3786"
             ],
             [
              0.5555555555555556,
              "#d8576b"
             ],
             [
              0.6666666666666666,
              "#ed7953"
             ],
             [
              0.7777777777777778,
              "#fb9f3a"
             ],
             [
              0.8888888888888888,
              "#fdca26"
             ],
             [
              1,
              "#f0f921"
             ]
            ],
            "type": "heatmapgl"
           }
          ],
          "histogram": [
           {
            "marker": {
             "pattern": {
              "fillmode": "overlay",
              "size": 10,
              "solidity": 0.2
             }
            },
            "type": "histogram"
           }
          ],
          "histogram2d": [
           {
            "colorbar": {
             "outlinewidth": 0,
             "ticks": ""
            },
            "colorscale": [
             [
              0,
              "#0d0887"
             ],
             [
              0.1111111111111111,
              "#46039f"
             ],
             [
              0.2222222222222222,
              "#7201a8"
             ],
             [
              0.3333333333333333,
              "#9c179e"
             ],
             [
              0.4444444444444444,
              "#bd3786"
             ],
             [
              0.5555555555555556,
              "#d8576b"
             ],
             [
              0.6666666666666666,
              "#ed7953"
             ],
             [
              0.7777777777777778,
              "#fb9f3a"
             ],
             [
              0.8888888888888888,
              "#fdca26"
             ],
             [
              1,
              "#f0f921"
             ]
            ],
            "type": "histogram2d"
           }
          ],
          "histogram2dcontour": [
           {
            "colorbar": {
             "outlinewidth": 0,
             "ticks": ""
            },
            "colorscale": [
             [
              0,
              "#0d0887"
             ],
             [
              0.1111111111111111,
              "#46039f"
             ],
             [
              0.2222222222222222,
              "#7201a8"
             ],
             [
              0.3333333333333333,
              "#9c179e"
             ],
             [
              0.4444444444444444,
              "#bd3786"
             ],
             [
              0.5555555555555556,
              "#d8576b"
             ],
             [
              0.6666666666666666,
              "#ed7953"
             ],
             [
              0.7777777777777778,
              "#fb9f3a"
             ],
             [
              0.8888888888888888,
              "#fdca26"
             ],
             [
              1,
              "#f0f921"
             ]
            ],
            "type": "histogram2dcontour"
           }
          ],
          "mesh3d": [
           {
            "colorbar": {
             "outlinewidth": 0,
             "ticks": ""
            },
            "type": "mesh3d"
           }
          ],
          "parcoords": [
           {
            "line": {
             "colorbar": {
              "outlinewidth": 0,
              "ticks": ""
             }
            },
            "type": "parcoords"
           }
          ],
          "pie": [
           {
            "automargin": true,
            "type": "pie"
           }
          ],
          "scatter": [
           {
            "fillpattern": {
             "fillmode": "overlay",
             "size": 10,
             "solidity": 0.2
            },
            "type": "scatter"
           }
          ],
          "scatter3d": [
           {
            "line": {
             "colorbar": {
              "outlinewidth": 0,
              "ticks": ""
             }
            },
            "marker": {
             "colorbar": {
              "outlinewidth": 0,
              "ticks": ""
             }
            },
            "type": "scatter3d"
           }
          ],
          "scattercarpet": [
           {
            "marker": {
             "colorbar": {
              "outlinewidth": 0,
              "ticks": ""
             }
            },
            "type": "scattercarpet"
           }
          ],
          "scattergeo": [
           {
            "marker": {
             "colorbar": {
              "outlinewidth": 0,
              "ticks": ""
             }
            },
            "type": "scattergeo"
           }
          ],
          "scattergl": [
           {
            "marker": {
             "colorbar": {
              "outlinewidth": 0,
              "ticks": ""
             }
            },
            "type": "scattergl"
           }
          ],
          "scattermapbox": [
           {
            "marker": {
             "colorbar": {
              "outlinewidth": 0,
              "ticks": ""
             }
            },
            "type": "scattermapbox"
           }
          ],
          "scatterpolar": [
           {
            "marker": {
             "colorbar": {
              "outlinewidth": 0,
              "ticks": ""
             }
            },
            "type": "scatterpolar"
           }
          ],
          "scatterpolargl": [
           {
            "marker": {
             "colorbar": {
              "outlinewidth": 0,
              "ticks": ""
             }
            },
            "type": "scatterpolargl"
           }
          ],
          "scatterternary": [
           {
            "marker": {
             "colorbar": {
              "outlinewidth": 0,
              "ticks": ""
             }
            },
            "type": "scatterternary"
           }
          ],
          "surface": [
           {
            "colorbar": {
             "outlinewidth": 0,
             "ticks": ""
            },
            "colorscale": [
             [
              0,
              "#0d0887"
             ],
             [
              0.1111111111111111,
              "#46039f"
             ],
             [
              0.2222222222222222,
              "#7201a8"
             ],
             [
              0.3333333333333333,
              "#9c179e"
             ],
             [
              0.4444444444444444,
              "#bd3786"
             ],
             [
              0.5555555555555556,
              "#d8576b"
             ],
             [
              0.6666666666666666,
              "#ed7953"
             ],
             [
              0.7777777777777778,
              "#fb9f3a"
             ],
             [
              0.8888888888888888,
              "#fdca26"
             ],
             [
              1,
              "#f0f921"
             ]
            ],
            "type": "surface"
           }
          ],
          "table": [
           {
            "cells": {
             "fill": {
              "color": "#EBF0F8"
             },
             "line": {
              "color": "white"
             }
            },
            "header": {
             "fill": {
              "color": "#C8D4E3"
             },
             "line": {
              "color": "white"
             }
            },
            "type": "table"
           }
          ]
         },
         "layout": {
          "annotationdefaults": {
           "arrowcolor": "#2a3f5f",
           "arrowhead": 0,
           "arrowwidth": 1
          },
          "autotypenumbers": "strict",
          "coloraxis": {
           "colorbar": {
            "outlinewidth": 0,
            "ticks": ""
           }
          },
          "colorscale": {
           "diverging": [
            [
             0,
             "#8e0152"
            ],
            [
             0.1,
             "#c51b7d"
            ],
            [
             0.2,
             "#de77ae"
            ],
            [
             0.3,
             "#f1b6da"
            ],
            [
             0.4,
             "#fde0ef"
            ],
            [
             0.5,
             "#f7f7f7"
            ],
            [
             0.6,
             "#e6f5d0"
            ],
            [
             0.7,
             "#b8e186"
            ],
            [
             0.8,
             "#7fbc41"
            ],
            [
             0.9,
             "#4d9221"
            ],
            [
             1,
             "#276419"
            ]
           ],
           "sequential": [
            [
             0,
             "#0d0887"
            ],
            [
             0.1111111111111111,
             "#46039f"
            ],
            [
             0.2222222222222222,
             "#7201a8"
            ],
            [
             0.3333333333333333,
             "#9c179e"
            ],
            [
             0.4444444444444444,
             "#bd3786"
            ],
            [
             0.5555555555555556,
             "#d8576b"
            ],
            [
             0.6666666666666666,
             "#ed7953"
            ],
            [
             0.7777777777777778,
             "#fb9f3a"
            ],
            [
             0.8888888888888888,
             "#fdca26"
            ],
            [
             1,
             "#f0f921"
            ]
           ],
           "sequentialminus": [
            [
             0,
             "#0d0887"
            ],
            [
             0.1111111111111111,
             "#46039f"
            ],
            [
             0.2222222222222222,
             "#7201a8"
            ],
            [
             0.3333333333333333,
             "#9c179e"
            ],
            [
             0.4444444444444444,
             "#bd3786"
            ],
            [
             0.5555555555555556,
             "#d8576b"
            ],
            [
             0.6666666666666666,
             "#ed7953"
            ],
            [
             0.7777777777777778,
             "#fb9f3a"
            ],
            [
             0.8888888888888888,
             "#fdca26"
            ],
            [
             1,
             "#f0f921"
            ]
           ]
          },
          "colorway": [
           "#636efa",
           "#EF553B",
           "#00cc96",
           "#ab63fa",
           "#FFA15A",
           "#19d3f3",
           "#FF6692",
           "#B6E880",
           "#FF97FF",
           "#FECB52"
          ],
          "font": {
           "color": "#2a3f5f"
          },
          "geo": {
           "bgcolor": "white",
           "lakecolor": "white",
           "landcolor": "white",
           "showlakes": true,
           "showland": true,
           "subunitcolor": "#C8D4E3"
          },
          "hoverlabel": {
           "align": "left"
          },
          "hovermode": "closest",
          "mapbox": {
           "style": "light"
          },
          "paper_bgcolor": "white",
          "plot_bgcolor": "white",
          "polar": {
           "angularaxis": {
            "gridcolor": "#EBF0F8",
            "linecolor": "#EBF0F8",
            "ticks": ""
           },
           "bgcolor": "white",
           "radialaxis": {
            "gridcolor": "#EBF0F8",
            "linecolor": "#EBF0F8",
            "ticks": ""
           }
          },
          "scene": {
           "xaxis": {
            "backgroundcolor": "white",
            "gridcolor": "#DFE8F3",
            "gridwidth": 2,
            "linecolor": "#EBF0F8",
            "showbackground": true,
            "ticks": "",
            "zerolinecolor": "#EBF0F8"
           },
           "yaxis": {
            "backgroundcolor": "white",
            "gridcolor": "#DFE8F3",
            "gridwidth": 2,
            "linecolor": "#EBF0F8",
            "showbackground": true,
            "ticks": "",
            "zerolinecolor": "#EBF0F8"
           },
           "zaxis": {
            "backgroundcolor": "white",
            "gridcolor": "#DFE8F3",
            "gridwidth": 2,
            "linecolor": "#EBF0F8",
            "showbackground": true,
            "ticks": "",
            "zerolinecolor": "#EBF0F8"
           }
          },
          "shapedefaults": {
           "line": {
            "color": "#2a3f5f"
           }
          },
          "ternary": {
           "aaxis": {
            "gridcolor": "#DFE8F3",
            "linecolor": "#A2B1C6",
            "ticks": ""
           },
           "baxis": {
            "gridcolor": "#DFE8F3",
            "linecolor": "#A2B1C6",
            "ticks": ""
           },
           "bgcolor": "white",
           "caxis": {
            "gridcolor": "#DFE8F3",
            "linecolor": "#A2B1C6",
            "ticks": ""
           }
          },
          "title": {
           "x": 0.05
          },
          "xaxis": {
           "automargin": true,
           "gridcolor": "#EBF0F8",
           "linecolor": "#EBF0F8",
           "ticks": "",
           "title": {
            "standoff": 15
           },
           "zerolinecolor": "#EBF0F8",
           "zerolinewidth": 2
          },
          "yaxis": {
           "automargin": true,
           "gridcolor": "#EBF0F8",
           "linecolor": "#EBF0F8",
           "ticks": "",
           "title": {
            "standoff": 15
           },
           "zerolinecolor": "#EBF0F8",
           "zerolinewidth": 2
          }
         }
        },
        "title": {
         "text": "Weights of columns"
        },
        "xaxis": {
         "title": {
          "text": "columns"
         }
        },
        "yaxis": {
         "title": {
          "text": "weights"
         }
        }
       }
      }
     },
     "metadata": {},
     "output_type": "display_data"
    },
    {
     "data": {
      "text/plain": [
       "None"
      ]
     },
     "metadata": {},
     "output_type": "display_data"
    },
    {
     "data": {
      "text/html": [
       "<div>\n",
       "<style scoped>\n",
       "    .dataframe tbody tr th:only-of-type {\n",
       "        vertical-align: middle;\n",
       "    }\n",
       "\n",
       "    .dataframe tbody tr th {\n",
       "        vertical-align: top;\n",
       "    }\n",
       "\n",
       "    .dataframe thead th {\n",
       "        text-align: right;\n",
       "    }\n",
       "</style>\n",
       "<table border=\"1\" class=\"dataframe\">\n",
       "  <thead>\n",
       "    <tr style=\"text-align: right;\">\n",
       "      <th></th>\n",
       "      <th>GeoFIPS</th>\n",
       "      <th>GeoName</th>\n",
       "      <th>2010</th>\n",
       "      <th>2011</th>\n",
       "      <th>2012</th>\n",
       "      <th>2013</th>\n",
       "      <th>2014</th>\n",
       "      <th>2015</th>\n",
       "      <th>2016</th>\n",
       "      <th>2017</th>\n",
       "      <th>...</th>\n",
       "      <th>2014_population</th>\n",
       "      <th>2015_population</th>\n",
       "      <th>2016_population</th>\n",
       "      <th>2017_population</th>\n",
       "      <th>2018_population</th>\n",
       "      <th>2019_population</th>\n",
       "      <th>2020_population</th>\n",
       "      <th>2021_population</th>\n",
       "      <th>distance to 42001</th>\n",
       "      <th>percentile</th>\n",
       "    </tr>\n",
       "  </thead>\n",
       "  <tbody>\n",
       "    <tr>\n",
       "      <th>0</th>\n",
       "      <td>42001</td>\n",
       "      <td>Adams, PA</td>\n",
       "      <td>2.771827e+07</td>\n",
       "      <td>2.855134e+07</td>\n",
       "      <td>1.427164e+07</td>\n",
       "      <td>6.841459e+07</td>\n",
       "      <td>2.843109e+07</td>\n",
       "      <td>1.022756e+07</td>\n",
       "      <td>3.068268e+07</td>\n",
       "      <td>2.081153e+07</td>\n",
       "      <td>...</td>\n",
       "      <td>101830.0</td>\n",
       "      <td>102411.0</td>\n",
       "      <td>102625.0</td>\n",
       "      <td>103414.0</td>\n",
       "      <td>103932.0</td>\n",
       "      <td>103778.0</td>\n",
       "      <td>103795.0</td>\n",
       "      <td>104127.0</td>\n",
       "      <td>0.000000</td>\n",
       "      <td>63.85</td>\n",
       "    </tr>\n",
       "    <tr>\n",
       "      <th>1</th>\n",
       "      <td>55039</td>\n",
       "      <td>Fond du Lac, WI</td>\n",
       "      <td>3.610418e+07</td>\n",
       "      <td>2.696325e+07</td>\n",
       "      <td>3.833402e+07</td>\n",
       "      <td>2.548639e+07</td>\n",
       "      <td>3.562433e+07</td>\n",
       "      <td>2.471649e+07</td>\n",
       "      <td>3.263073e+07</td>\n",
       "      <td>5.403922e+07</td>\n",
       "      <td>...</td>\n",
       "      <td>102495.0</td>\n",
       "      <td>102590.0</td>\n",
       "      <td>102927.0</td>\n",
       "      <td>103180.0</td>\n",
       "      <td>103754.0</td>\n",
       "      <td>104175.0</td>\n",
       "      <td>104076.0</td>\n",
       "      <td>104362.0</td>\n",
       "      <td>0.004093</td>\n",
       "      <td>69.34</td>\n",
       "    </tr>\n",
       "    <tr>\n",
       "      <th>2</th>\n",
       "      <td>29071</td>\n",
       "      <td>Franklin, MO</td>\n",
       "      <td>0.000000e+00</td>\n",
       "      <td>0.000000e+00</td>\n",
       "      <td>0.000000e+00</td>\n",
       "      <td>0.000000e+00</td>\n",
       "      <td>0.000000e+00</td>\n",
       "      <td>0.000000e+00</td>\n",
       "      <td>0.000000e+00</td>\n",
       "      <td>0.000000e+00</td>\n",
       "      <td>...</td>\n",
       "      <td>102058.0</td>\n",
       "      <td>102429.0</td>\n",
       "      <td>102952.0</td>\n",
       "      <td>103563.0</td>\n",
       "      <td>103967.0</td>\n",
       "      <td>104137.0</td>\n",
       "      <td>104769.0</td>\n",
       "      <td>105231.0</td>\n",
       "      <td>0.008424</td>\n",
       "      <td>44.71</td>\n",
       "    </tr>\n",
       "    <tr>\n",
       "      <th>3</th>\n",
       "      <td>1055</td>\n",
       "      <td>Etowah, AL</td>\n",
       "      <td>1.649418e+08</td>\n",
       "      <td>1.154164e+09</td>\n",
       "      <td>2.897688e+08</td>\n",
       "      <td>1.134255e+09</td>\n",
       "      <td>6.389997e+08</td>\n",
       "      <td>8.881343e+08</td>\n",
       "      <td>1.031911e+09</td>\n",
       "      <td>9.080343e+08</td>\n",
       "      <td>...</td>\n",
       "      <td>103880.0</td>\n",
       "      <td>103601.0</td>\n",
       "      <td>103603.0</td>\n",
       "      <td>103854.0</td>\n",
       "      <td>103646.0</td>\n",
       "      <td>103440.0</td>\n",
       "      <td>103393.0</td>\n",
       "      <td>103162.0</td>\n",
       "      <td>0.008731</td>\n",
       "      <td>90.56</td>\n",
       "    </tr>\n",
       "    <tr>\n",
       "      <th>4</th>\n",
       "      <td>26017</td>\n",
       "      <td>Bay, MI</td>\n",
       "      <td>2.073759e+06</td>\n",
       "      <td>1.232872e+06</td>\n",
       "      <td>5.381210e+05</td>\n",
       "      <td>8.434320e+05</td>\n",
       "      <td>1.047389e+06</td>\n",
       "      <td>1.047389e+06</td>\n",
       "      <td>2.580589e+06</td>\n",
       "      <td>4.565004e+06</td>\n",
       "      <td>...</td>\n",
       "      <td>106599.0</td>\n",
       "      <td>105916.0</td>\n",
       "      <td>105184.0</td>\n",
       "      <td>104967.0</td>\n",
       "      <td>104674.0</td>\n",
       "      <td>104079.0</td>\n",
       "      <td>103594.0</td>\n",
       "      <td>102985.0</td>\n",
       "      <td>0.011795</td>\n",
       "      <td>52.34</td>\n",
       "    </tr>\n",
       "    <tr>\n",
       "      <th>...</th>\n",
       "      <td>...</td>\n",
       "      <td>...</td>\n",
       "      <td>...</td>\n",
       "      <td>...</td>\n",
       "      <td>...</td>\n",
       "      <td>...</td>\n",
       "      <td>...</td>\n",
       "      <td>...</td>\n",
       "      <td>...</td>\n",
       "      <td>...</td>\n",
       "      <td>...</td>\n",
       "      <td>...</td>\n",
       "      <td>...</td>\n",
       "      <td>...</td>\n",
       "      <td>...</td>\n",
       "      <td>...</td>\n",
       "      <td>...</td>\n",
       "      <td>...</td>\n",
       "      <td>...</td>\n",
       "      <td>...</td>\n",
       "      <td>...</td>\n",
       "    </tr>\n",
       "    <tr>\n",
       "      <th>3077</th>\n",
       "      <td>31005</td>\n",
       "      <td>Arthur, NE</td>\n",
       "      <td>0.000000e+00</td>\n",
       "      <td>0.000000e+00</td>\n",
       "      <td>0.000000e+00</td>\n",
       "      <td>0.000000e+00</td>\n",
       "      <td>0.000000e+00</td>\n",
       "      <td>0.000000e+00</td>\n",
       "      <td>0.000000e+00</td>\n",
       "      <td>0.000000e+00</td>\n",
       "      <td>...</td>\n",
       "      <td>437.0</td>\n",
       "      <td>433.0</td>\n",
       "      <td>445.0</td>\n",
       "      <td>432.0</td>\n",
       "      <td>435.0</td>\n",
       "      <td>436.0</td>\n",
       "      <td>431.0</td>\n",
       "      <td>439.0</td>\n",
       "      <td>1.977809</td>\n",
       "      <td>0.00</td>\n",
       "    </tr>\n",
       "    <tr>\n",
       "      <th>3078</th>\n",
       "      <td>48261</td>\n",
       "      <td>Kenedy, TX</td>\n",
       "      <td>0.000000e+00</td>\n",
       "      <td>0.000000e+00</td>\n",
       "      <td>0.000000e+00</td>\n",
       "      <td>0.000000e+00</td>\n",
       "      <td>0.000000e+00</td>\n",
       "      <td>0.000000e+00</td>\n",
       "      <td>0.000000e+00</td>\n",
       "      <td>0.000000e+00</td>\n",
       "      <td>...</td>\n",
       "      <td>421.0</td>\n",
       "      <td>421.0</td>\n",
       "      <td>404.0</td>\n",
       "      <td>383.0</td>\n",
       "      <td>389.0</td>\n",
       "      <td>355.0</td>\n",
       "      <td>346.0</td>\n",
       "      <td>340.0</td>\n",
       "      <td>1.978614</td>\n",
       "      <td>0.00</td>\n",
       "    </tr>\n",
       "    <tr>\n",
       "      <th>3079</th>\n",
       "      <td>48269</td>\n",
       "      <td>King, TX</td>\n",
       "      <td>0.000000e+00</td>\n",
       "      <td>0.000000e+00</td>\n",
       "      <td>0.000000e+00</td>\n",
       "      <td>0.000000e+00</td>\n",
       "      <td>0.000000e+00</td>\n",
       "      <td>0.000000e+00</td>\n",
       "      <td>0.000000e+00</td>\n",
       "      <td>0.000000e+00</td>\n",
       "      <td>...</td>\n",
       "      <td>257.0</td>\n",
       "      <td>273.0</td>\n",
       "      <td>281.0</td>\n",
       "      <td>278.0</td>\n",
       "      <td>265.0</td>\n",
       "      <td>256.0</td>\n",
       "      <td>270.0</td>\n",
       "      <td>258.0</td>\n",
       "      <td>1.980969</td>\n",
       "      <td>0.00</td>\n",
       "    </tr>\n",
       "    <tr>\n",
       "      <th>3080</th>\n",
       "      <td>48301</td>\n",
       "      <td>Loving, TX</td>\n",
       "      <td>0.000000e+00</td>\n",
       "      <td>0.000000e+00</td>\n",
       "      <td>0.000000e+00</td>\n",
       "      <td>0.000000e+00</td>\n",
       "      <td>0.000000e+00</td>\n",
       "      <td>0.000000e+00</td>\n",
       "      <td>0.000000e+00</td>\n",
       "      <td>0.000000e+00</td>\n",
       "      <td>...</td>\n",
       "      <td>59.0</td>\n",
       "      <td>72.0</td>\n",
       "      <td>64.0</td>\n",
       "      <td>66.0</td>\n",
       "      <td>67.0</td>\n",
       "      <td>67.0</td>\n",
       "      <td>67.0</td>\n",
       "      <td>57.0</td>\n",
       "      <td>1.985240</td>\n",
       "      <td>0.00</td>\n",
       "    </tr>\n",
       "    <tr>\n",
       "      <th>3081</th>\n",
       "      <td>6037</td>\n",
       "      <td>Los Angeles, CA</td>\n",
       "      <td>1.842950e+10</td>\n",
       "      <td>2.759321e+10</td>\n",
       "      <td>2.170315e+10</td>\n",
       "      <td>2.348763e+10</td>\n",
       "      <td>2.294435e+10</td>\n",
       "      <td>2.502567e+10</td>\n",
       "      <td>2.839330e+10</td>\n",
       "      <td>3.868660e+10</td>\n",
       "      <td>...</td>\n",
       "      <td>10051511.0</td>\n",
       "      <td>10099677.0</td>\n",
       "      <td>10121673.0</td>\n",
       "      <td>10123521.0</td>\n",
       "      <td>10096986.0</td>\n",
       "      <td>10051154.0</td>\n",
       "      <td>9989165.0</td>\n",
       "      <td>9829544.0</td>\n",
       "      <td>2.014902</td>\n",
       "      <td>99.64</td>\n",
       "    </tr>\n",
       "  </tbody>\n",
       "</table>\n",
       "<p>3082 rows × 45 columns</p>\n",
       "</div>"
      ],
      "text/plain": [
       "      GeoFIPS          GeoName          2010          2011          2012  \\\n",
       "0       42001        Adams, PA  2.771827e+07  2.855134e+07  1.427164e+07   \n",
       "1       55039  Fond du Lac, WI  3.610418e+07  2.696325e+07  3.833402e+07   \n",
       "2       29071     Franklin, MO  0.000000e+00  0.000000e+00  0.000000e+00   \n",
       "3        1055       Etowah, AL  1.649418e+08  1.154164e+09  2.897688e+08   \n",
       "4       26017          Bay, MI  2.073759e+06  1.232872e+06  5.381210e+05   \n",
       "...       ...              ...           ...           ...           ...   \n",
       "3077    31005       Arthur, NE  0.000000e+00  0.000000e+00  0.000000e+00   \n",
       "3078    48261       Kenedy, TX  0.000000e+00  0.000000e+00  0.000000e+00   \n",
       "3079    48269         King, TX  0.000000e+00  0.000000e+00  0.000000e+00   \n",
       "3080    48301       Loving, TX  0.000000e+00  0.000000e+00  0.000000e+00   \n",
       "3081     6037  Los Angeles, CA  1.842950e+10  2.759321e+10  2.170315e+10   \n",
       "\n",
       "              2013          2014          2015          2016          2017  \\\n",
       "0     6.841459e+07  2.843109e+07  1.022756e+07  3.068268e+07  2.081153e+07   \n",
       "1     2.548639e+07  3.562433e+07  2.471649e+07  3.263073e+07  5.403922e+07   \n",
       "2     0.000000e+00  0.000000e+00  0.000000e+00  0.000000e+00  0.000000e+00   \n",
       "3     1.134255e+09  6.389997e+08  8.881343e+08  1.031911e+09  9.080343e+08   \n",
       "4     8.434320e+05  1.047389e+06  1.047389e+06  2.580589e+06  4.565004e+06   \n",
       "...            ...           ...           ...           ...           ...   \n",
       "3077  0.000000e+00  0.000000e+00  0.000000e+00  0.000000e+00  0.000000e+00   \n",
       "3078  0.000000e+00  0.000000e+00  0.000000e+00  0.000000e+00  0.000000e+00   \n",
       "3079  0.000000e+00  0.000000e+00  0.000000e+00  0.000000e+00  0.000000e+00   \n",
       "3080  0.000000e+00  0.000000e+00  0.000000e+00  0.000000e+00  0.000000e+00   \n",
       "3081  2.348763e+10  2.294435e+10  2.502567e+10  2.839330e+10  3.868660e+10   \n",
       "\n",
       "      ...  2014_population  2015_population  2016_population  2017_population  \\\n",
       "0     ...         101830.0         102411.0         102625.0         103414.0   \n",
       "1     ...         102495.0         102590.0         102927.0         103180.0   \n",
       "2     ...         102058.0         102429.0         102952.0         103563.0   \n",
       "3     ...         103880.0         103601.0         103603.0         103854.0   \n",
       "4     ...         106599.0         105916.0         105184.0         104967.0   \n",
       "...   ...              ...              ...              ...              ...   \n",
       "3077  ...            437.0            433.0            445.0            432.0   \n",
       "3078  ...            421.0            421.0            404.0            383.0   \n",
       "3079  ...            257.0            273.0            281.0            278.0   \n",
       "3080  ...             59.0             72.0             64.0             66.0   \n",
       "3081  ...       10051511.0       10099677.0       10121673.0       10123521.0   \n",
       "\n",
       "      2018_population  2019_population  2020_population  2021_population  \\\n",
       "0            103932.0         103778.0         103795.0         104127.0   \n",
       "1            103754.0         104175.0         104076.0         104362.0   \n",
       "2            103967.0         104137.0         104769.0         105231.0   \n",
       "3            103646.0         103440.0         103393.0         103162.0   \n",
       "4            104674.0         104079.0         103594.0         102985.0   \n",
       "...               ...              ...              ...              ...   \n",
       "3077            435.0            436.0            431.0            439.0   \n",
       "3078            389.0            355.0            346.0            340.0   \n",
       "3079            265.0            256.0            270.0            258.0   \n",
       "3080             67.0             67.0             67.0             57.0   \n",
       "3081       10096986.0       10051154.0        9989165.0        9829544.0   \n",
       "\n",
       "      distance to 42001  percentile  \n",
       "0              0.000000       63.85  \n",
       "1              0.004093       69.34  \n",
       "2              0.008424       44.71  \n",
       "3              0.008731       90.56  \n",
       "4              0.011795       52.34  \n",
       "...                 ...         ...  \n",
       "3077           1.977809        0.00  \n",
       "3078           1.978614        0.00  \n",
       "3079           1.980969        0.00  \n",
       "3080           1.985240        0.00  \n",
       "3081           2.014902       99.64  \n",
       "\n",
       "[3082 rows x 45 columns]"
      ]
     },
     "metadata": {},
     "output_type": "display_data"
    }
   ],
   "source": [
    "# you want to pass an outcome but give it weight 0 in similarity calculations\n",
    "\n",
    "print(list_available_features())\n",
    "f  = FipsQuery(42001, outcome_var = \"spending_HHS\", feature_groups_with_weights= {\"spending_HHS\": 0, \"population\":4})\n",
    "f.find_euclidean_kins()\n",
    "display(f.plot_weights())\n",
    "display(f.euclidean_kins)"
   ]
  },
  {
   "cell_type": "code",
   "execution_count": 7,
   "metadata": {},
   "outputs": [
    {
     "data": {
      "application/vnd.plotly.v1+json": {
       "config": {
        "plotlyServerURL": "https://plot.ly"
       },
       "data": [
        {
         "type": "bar",
         "x": [
          "2001_gdp",
          "2002_gdp",
          "2003_gdp",
          "2004_gdp",
          "2005_gdp",
          "2006_gdp",
          "2007_gdp",
          "2008_gdp",
          "2009_gdp",
          "2010_gdp",
          "2011_gdp",
          "2013_gdp",
          "2014_gdp",
          "2015_gdp",
          "2016_gdp",
          "2017_gdp",
          "2018_gdp",
          "2019_gdp",
          "2020_gdp",
          "2021_gdp",
          "1993_population",
          "1994_population",
          "1995_population",
          "1996_population",
          "1997_population",
          "1998_population",
          "1999_population",
          "2000_population",
          "2001_population",
          "2002_population",
          "2003_population",
          "2004_population",
          "2005_population",
          "2006_population",
          "2007_population",
          "2008_population",
          "2009_population",
          "2010_population",
          "2011_population",
          "2012_population",
          "2013_population",
          "2014_population",
          "2015_population",
          "2016_population",
          "2017_population",
          "2018_population",
          "2019_population",
          "2020_population",
          "2021_population"
         ],
         "y": [
          -0.07443141519371825,
          -0.07666435764952981,
          -0.07896428837901569,
          -0.08133321703038617,
          -0.08377321354129776,
          -0.08628640994753668,
          -0.08887500224596279,
          -0.09154125231334168,
          -0.09428748988274194,
          -0.0971161145792242,
          -0.10002959801660093,
          -0.10303048595709895,
          -0.10612140053581191,
          -0.10930504255188629,
          -0.11258419382844288,
          -0.11596171964329616,
          -0.11944057123259505,
          -0.12302378836957291,
          -0.12671450202066012,
          -0.1305159370812799,
          0.022114671106632556,
          0.022778111239831533,
          0.02346145457702648,
          0.024165298214337275,
          0.024890257160767395,
          0.025636964875590414,
          0.02640607382185813,
          0.027198256036513876,
          0.028014203717609293,
          0.02885462982913757,
          0.0297202687240117,
          0.03061187678573205,
          0.03153023308930401,
          0.032476140081983136,
          0.03345042428444263,
          0.03445393701297591,
          0.03548755512336519,
          0.036552181777066144,
          0.03764874723037813,
          0.03877820964728947,
          0.03994155593670816,
          0.04113980261480941,
          0.04237399669325369,
          0.0436452165940513,
          0.04495457309187284,
          0.046303210284629026,
          0.0476923065931679,
          0.04912307579096294,
          0.05059676806469183
         ]
        }
       ],
       "layout": {
        "template": {
         "data": {
          "bar": [
           {
            "error_x": {
             "color": "#2a3f5f"
            },
            "error_y": {
             "color": "#2a3f5f"
            },
            "marker": {
             "line": {
              "color": "white",
              "width": 0.5
             },
             "pattern": {
              "fillmode": "overlay",
              "size": 10,
              "solidity": 0.2
             }
            },
            "type": "bar"
           }
          ],
          "barpolar": [
           {
            "marker": {
             "line": {
              "color": "white",
              "width": 0.5
             },
             "pattern": {
              "fillmode": "overlay",
              "size": 10,
              "solidity": 0.2
             }
            },
            "type": "barpolar"
           }
          ],
          "carpet": [
           {
            "aaxis": {
             "endlinecolor": "#2a3f5f",
             "gridcolor": "#C8D4E3",
             "linecolor": "#C8D4E3",
             "minorgridcolor": "#C8D4E3",
             "startlinecolor": "#2a3f5f"
            },
            "baxis": {
             "endlinecolor": "#2a3f5f",
             "gridcolor": "#C8D4E3",
             "linecolor": "#C8D4E3",
             "minorgridcolor": "#C8D4E3",
             "startlinecolor": "#2a3f5f"
            },
            "type": "carpet"
           }
          ],
          "choropleth": [
           {
            "colorbar": {
             "outlinewidth": 0,
             "ticks": ""
            },
            "type": "choropleth"
           }
          ],
          "contour": [
           {
            "colorbar": {
             "outlinewidth": 0,
             "ticks": ""
            },
            "colorscale": [
             [
              0,
              "#0d0887"
             ],
             [
              0.1111111111111111,
              "#46039f"
             ],
             [
              0.2222222222222222,
              "#7201a8"
             ],
             [
              0.3333333333333333,
              "#9c179e"
             ],
             [
              0.4444444444444444,
              "#bd3786"
             ],
             [
              0.5555555555555556,
              "#d8576b"
             ],
             [
              0.6666666666666666,
              "#ed7953"
             ],
             [
              0.7777777777777778,
              "#fb9f3a"
             ],
             [
              0.8888888888888888,
              "#fdca26"
             ],
             [
              1,
              "#f0f921"
             ]
            ],
            "type": "contour"
           }
          ],
          "contourcarpet": [
           {
            "colorbar": {
             "outlinewidth": 0,
             "ticks": ""
            },
            "type": "contourcarpet"
           }
          ],
          "heatmap": [
           {
            "colorbar": {
             "outlinewidth": 0,
             "ticks": ""
            },
            "colorscale": [
             [
              0,
              "#0d0887"
             ],
             [
              0.1111111111111111,
              "#46039f"
             ],
             [
              0.2222222222222222,
              "#7201a8"
             ],
             [
              0.3333333333333333,
              "#9c179e"
             ],
             [
              0.4444444444444444,
              "#bd3786"
             ],
             [
              0.5555555555555556,
              "#d8576b"
             ],
             [
              0.6666666666666666,
              "#ed7953"
             ],
             [
              0.7777777777777778,
              "#fb9f3a"
             ],
             [
              0.8888888888888888,
              "#fdca26"
             ],
             [
              1,
              "#f0f921"
             ]
            ],
            "type": "heatmap"
           }
          ],
          "heatmapgl": [
           {
            "colorbar": {
             "outlinewidth": 0,
             "ticks": ""
            },
            "colorscale": [
             [
              0,
              "#0d0887"
             ],
             [
              0.1111111111111111,
              "#46039f"
             ],
             [
              0.2222222222222222,
              "#7201a8"
             ],
             [
              0.3333333333333333,
              "#9c179e"
             ],
             [
              0.4444444444444444,
              "#bd3786"
             ],
             [
              0.5555555555555556,
              "#d8576b"
             ],
             [
              0.6666666666666666,
              "#ed7953"
             ],
             [
              0.7777777777777778,
              "#fb9f3a"
             ],
             [
              0.8888888888888888,
              "#fdca26"
             ],
             [
              1,
              "#f0f921"
             ]
            ],
            "type": "heatmapgl"
           }
          ],
          "histogram": [
           {
            "marker": {
             "pattern": {
              "fillmode": "overlay",
              "size": 10,
              "solidity": 0.2
             }
            },
            "type": "histogram"
           }
          ],
          "histogram2d": [
           {
            "colorbar": {
             "outlinewidth": 0,
             "ticks": ""
            },
            "colorscale": [
             [
              0,
              "#0d0887"
             ],
             [
              0.1111111111111111,
              "#46039f"
             ],
             [
              0.2222222222222222,
              "#7201a8"
             ],
             [
              0.3333333333333333,
              "#9c179e"
             ],
             [
              0.4444444444444444,
              "#bd3786"
             ],
             [
              0.5555555555555556,
              "#d8576b"
             ],
             [
              0.6666666666666666,
              "#ed7953"
             ],
             [
              0.7777777777777778,
              "#fb9f3a"
             ],
             [
              0.8888888888888888,
              "#fdca26"
             ],
             [
              1,
              "#f0f921"
             ]
            ],
            "type": "histogram2d"
           }
          ],
          "histogram2dcontour": [
           {
            "colorbar": {
             "outlinewidth": 0,
             "ticks": ""
            },
            "colorscale": [
             [
              0,
              "#0d0887"
             ],
             [
              0.1111111111111111,
              "#46039f"
             ],
             [
              0.2222222222222222,
              "#7201a8"
             ],
             [
              0.3333333333333333,
              "#9c179e"
             ],
             [
              0.4444444444444444,
              "#bd3786"
             ],
             [
              0.5555555555555556,
              "#d8576b"
             ],
             [
              0.6666666666666666,
              "#ed7953"
             ],
             [
              0.7777777777777778,
              "#fb9f3a"
             ],
             [
              0.8888888888888888,
              "#fdca26"
             ],
             [
              1,
              "#f0f921"
             ]
            ],
            "type": "histogram2dcontour"
           }
          ],
          "mesh3d": [
           {
            "colorbar": {
             "outlinewidth": 0,
             "ticks": ""
            },
            "type": "mesh3d"
           }
          ],
          "parcoords": [
           {
            "line": {
             "colorbar": {
              "outlinewidth": 0,
              "ticks": ""
             }
            },
            "type": "parcoords"
           }
          ],
          "pie": [
           {
            "automargin": true,
            "type": "pie"
           }
          ],
          "scatter": [
           {
            "fillpattern": {
             "fillmode": "overlay",
             "size": 10,
             "solidity": 0.2
            },
            "type": "scatter"
           }
          ],
          "scatter3d": [
           {
            "line": {
             "colorbar": {
              "outlinewidth": 0,
              "ticks": ""
             }
            },
            "marker": {
             "colorbar": {
              "outlinewidth": 0,
              "ticks": ""
             }
            },
            "type": "scatter3d"
           }
          ],
          "scattercarpet": [
           {
            "marker": {
             "colorbar": {
              "outlinewidth": 0,
              "ticks": ""
             }
            },
            "type": "scattercarpet"
           }
          ],
          "scattergeo": [
           {
            "marker": {
             "colorbar": {
              "outlinewidth": 0,
              "ticks": ""
             }
            },
            "type": "scattergeo"
           }
          ],
          "scattergl": [
           {
            "marker": {
             "colorbar": {
              "outlinewidth": 0,
              "ticks": ""
             }
            },
            "type": "scattergl"
           }
          ],
          "scattermapbox": [
           {
            "marker": {
             "colorbar": {
              "outlinewidth": 0,
              "ticks": ""
             }
            },
            "type": "scattermapbox"
           }
          ],
          "scatterpolar": [
           {
            "marker": {
             "colorbar": {
              "outlinewidth": 0,
              "ticks": ""
             }
            },
            "type": "scatterpolar"
           }
          ],
          "scatterpolargl": [
           {
            "marker": {
             "colorbar": {
              "outlinewidth": 0,
              "ticks": ""
             }
            },
            "type": "scatterpolargl"
           }
          ],
          "scatterternary": [
           {
            "marker": {
             "colorbar": {
              "outlinewidth": 0,
              "ticks": ""
             }
            },
            "type": "scatterternary"
           }
          ],
          "surface": [
           {
            "colorbar": {
             "outlinewidth": 0,
             "ticks": ""
            },
            "colorscale": [
             [
              0,
              "#0d0887"
             ],
             [
              0.1111111111111111,
              "#46039f"
             ],
             [
              0.2222222222222222,
              "#7201a8"
             ],
             [
              0.3333333333333333,
              "#9c179e"
             ],
             [
              0.4444444444444444,
              "#bd3786"
             ],
             [
              0.5555555555555556,
              "#d8576b"
             ],
             [
              0.6666666666666666,
              "#ed7953"
             ],
             [
              0.7777777777777778,
              "#fb9f3a"
             ],
             [
              0.8888888888888888,
              "#fdca26"
             ],
             [
              1,
              "#f0f921"
             ]
            ],
            "type": "surface"
           }
          ],
          "table": [
           {
            "cells": {
             "fill": {
              "color": "#EBF0F8"
             },
             "line": {
              "color": "white"
             }
            },
            "header": {
             "fill": {
              "color": "#C8D4E3"
             },
             "line": {
              "color": "white"
             }
            },
            "type": "table"
           }
          ]
         },
         "layout": {
          "annotationdefaults": {
           "arrowcolor": "#2a3f5f",
           "arrowhead": 0,
           "arrowwidth": 1
          },
          "autotypenumbers": "strict",
          "coloraxis": {
           "colorbar": {
            "outlinewidth": 0,
            "ticks": ""
           }
          },
          "colorscale": {
           "diverging": [
            [
             0,
             "#8e0152"
            ],
            [
             0.1,
             "#c51b7d"
            ],
            [
             0.2,
             "#de77ae"
            ],
            [
             0.3,
             "#f1b6da"
            ],
            [
             0.4,
             "#fde0ef"
            ],
            [
             0.5,
             "#f7f7f7"
            ],
            [
             0.6,
             "#e6f5d0"
            ],
            [
             0.7,
             "#b8e186"
            ],
            [
             0.8,
             "#7fbc41"
            ],
            [
             0.9,
             "#4d9221"
            ],
            [
             1,
             "#276419"
            ]
           ],
           "sequential": [
            [
             0,
             "#0d0887"
            ],
            [
             0.1111111111111111,
             "#46039f"
            ],
            [
             0.2222222222222222,
             "#7201a8"
            ],
            [
             0.3333333333333333,
             "#9c179e"
            ],
            [
             0.4444444444444444,
             "#bd3786"
            ],
            [
             0.5555555555555556,
             "#d8576b"
            ],
            [
             0.6666666666666666,
             "#ed7953"
            ],
            [
             0.7777777777777778,
             "#fb9f3a"
            ],
            [
             0.8888888888888888,
             "#fdca26"
            ],
            [
             1,
             "#f0f921"
            ]
           ],
           "sequentialminus": [
            [
             0,
             "#0d0887"
            ],
            [
             0.1111111111111111,
             "#46039f"
            ],
            [
             0.2222222222222222,
             "#7201a8"
            ],
            [
             0.3333333333333333,
             "#9c179e"
            ],
            [
             0.4444444444444444,
             "#bd3786"
            ],
            [
             0.5555555555555556,
             "#d8576b"
            ],
            [
             0.6666666666666666,
             "#ed7953"
            ],
            [
             0.7777777777777778,
             "#fb9f3a"
            ],
            [
             0.8888888888888888,
             "#fdca26"
            ],
            [
             1,
             "#f0f921"
            ]
           ]
          },
          "colorway": [
           "#636efa",
           "#EF553B",
           "#00cc96",
           "#ab63fa",
           "#FFA15A",
           "#19d3f3",
           "#FF6692",
           "#B6E880",
           "#FF97FF",
           "#FECB52"
          ],
          "font": {
           "color": "#2a3f5f"
          },
          "geo": {
           "bgcolor": "white",
           "lakecolor": "white",
           "landcolor": "white",
           "showlakes": true,
           "showland": true,
           "subunitcolor": "#C8D4E3"
          },
          "hoverlabel": {
           "align": "left"
          },
          "hovermode": "closest",
          "mapbox": {
           "style": "light"
          },
          "paper_bgcolor": "white",
          "plot_bgcolor": "white",
          "polar": {
           "angularaxis": {
            "gridcolor": "#EBF0F8",
            "linecolor": "#EBF0F8",
            "ticks": ""
           },
           "bgcolor": "white",
           "radialaxis": {
            "gridcolor": "#EBF0F8",
            "linecolor": "#EBF0F8",
            "ticks": ""
           }
          },
          "scene": {
           "xaxis": {
            "backgroundcolor": "white",
            "gridcolor": "#DFE8F3",
            "gridwidth": 2,
            "linecolor": "#EBF0F8",
            "showbackground": true,
            "ticks": "",
            "zerolinecolor": "#EBF0F8"
           },
           "yaxis": {
            "backgroundcolor": "white",
            "gridcolor": "#DFE8F3",
            "gridwidth": 2,
            "linecolor": "#EBF0F8",
            "showbackground": true,
            "ticks": "",
            "zerolinecolor": "#EBF0F8"
           },
           "zaxis": {
            "backgroundcolor": "white",
            "gridcolor": "#DFE8F3",
            "gridwidth": 2,
            "linecolor": "#EBF0F8",
            "showbackground": true,
            "ticks": "",
            "zerolinecolor": "#EBF0F8"
           }
          },
          "shapedefaults": {
           "line": {
            "color": "#2a3f5f"
           }
          },
          "ternary": {
           "aaxis": {
            "gridcolor": "#DFE8F3",
            "linecolor": "#A2B1C6",
            "ticks": ""
           },
           "baxis": {
            "gridcolor": "#DFE8F3",
            "linecolor": "#A2B1C6",
            "ticks": ""
           },
           "bgcolor": "white",
           "caxis": {
            "gridcolor": "#DFE8F3",
            "linecolor": "#A2B1C6",
            "ticks": ""
           }
          },
          "title": {
           "x": 0.05
          },
          "xaxis": {
           "automargin": true,
           "gridcolor": "#EBF0F8",
           "linecolor": "#EBF0F8",
           "ticks": "",
           "title": {
            "standoff": 15
           },
           "zerolinecolor": "#EBF0F8",
           "zerolinewidth": 2
          },
          "yaxis": {
           "automargin": true,
           "gridcolor": "#EBF0F8",
           "linecolor": "#EBF0F8",
           "ticks": "",
           "title": {
            "standoff": 15
           },
           "zerolinecolor": "#EBF0F8",
           "zerolinewidth": 2
          }
         }
        },
        "title": {
         "text": "Weights of columns"
        },
        "xaxis": {
         "title": {
          "text": "columns"
         }
        },
        "yaxis": {
         "title": {
          "text": "weights"
         }
        }
       }
      }
     },
     "metadata": {},
     "output_type": "display_data"
    },
    {
     "data": {
      "text/plain": [
       "None"
      ]
     },
     "metadata": {},
     "output_type": "display_data"
    },
    {
     "data": {
      "text/html": [
       "<div>\n",
       "<style scoped>\n",
       "    .dataframe tbody tr th:only-of-type {\n",
       "        vertical-align: middle;\n",
       "    }\n",
       "\n",
       "    .dataframe tbody tr th {\n",
       "        vertical-align: top;\n",
       "    }\n",
       "\n",
       "    .dataframe thead th {\n",
       "        text-align: right;\n",
       "    }\n",
       "</style>\n",
       "<table border=\"1\" class=\"dataframe\">\n",
       "  <thead>\n",
       "    <tr style=\"text-align: right;\">\n",
       "      <th></th>\n",
       "      <th>GeoFIPS</th>\n",
       "      <th>GeoName</th>\n",
       "      <th>2001</th>\n",
       "      <th>2002</th>\n",
       "      <th>2003</th>\n",
       "      <th>2004</th>\n",
       "      <th>2005</th>\n",
       "      <th>2006</th>\n",
       "      <th>2007</th>\n",
       "      <th>2008</th>\n",
       "      <th>...</th>\n",
       "      <th>2014_population</th>\n",
       "      <th>2015_population</th>\n",
       "      <th>2016_population</th>\n",
       "      <th>2017_population</th>\n",
       "      <th>2018_population</th>\n",
       "      <th>2019_population</th>\n",
       "      <th>2020_population</th>\n",
       "      <th>2021_population</th>\n",
       "      <th>distance to 1007</th>\n",
       "      <th>percentile</th>\n",
       "    </tr>\n",
       "  </thead>\n",
       "  <tbody>\n",
       "    <tr>\n",
       "      <th>0</th>\n",
       "      <td>1007</td>\n",
       "      <td>Bibb, AL</td>\n",
       "      <td>80.443</td>\n",
       "      <td>81.527</td>\n",
       "      <td>85.124</td>\n",
       "      <td>89.317</td>\n",
       "      <td>88.782</td>\n",
       "      <td>89.597</td>\n",
       "      <td>95.308</td>\n",
       "      <td>94.745</td>\n",
       "      <td>...</td>\n",
       "      <td>22586.0</td>\n",
       "      <td>22607.0</td>\n",
       "      <td>22654.0</td>\n",
       "      <td>22606.0</td>\n",
       "      <td>22383.0</td>\n",
       "      <td>22405.0</td>\n",
       "      <td>22223.0</td>\n",
       "      <td>22477.0</td>\n",
       "      <td>0.000000</td>\n",
       "      <td>47.86</td>\n",
       "    </tr>\n",
       "    <tr>\n",
       "      <th>1</th>\n",
       "      <td>48109</td>\n",
       "      <td>Culberson, TX</td>\n",
       "      <td>35.264</td>\n",
       "      <td>37.743</td>\n",
       "      <td>36.255</td>\n",
       "      <td>38.339</td>\n",
       "      <td>40.177</td>\n",
       "      <td>41.247</td>\n",
       "      <td>42.368</td>\n",
       "      <td>53.349</td>\n",
       "      <td>...</td>\n",
       "      <td>2301.0</td>\n",
       "      <td>2275.0</td>\n",
       "      <td>2244.0</td>\n",
       "      <td>2259.0</td>\n",
       "      <td>2212.0</td>\n",
       "      <td>2186.0</td>\n",
       "      <td>2193.0</td>\n",
       "      <td>2193.0</td>\n",
       "      <td>1.947278</td>\n",
       "      <td>99.97</td>\n",
       "    </tr>\n",
       "    <tr>\n",
       "      <th>2</th>\n",
       "      <td>48389</td>\n",
       "      <td>Reeves, TX</td>\n",
       "      <td>46.003</td>\n",
       "      <td>49.290</td>\n",
       "      <td>44.960</td>\n",
       "      <td>41.682</td>\n",
       "      <td>39.742</td>\n",
       "      <td>41.332</td>\n",
       "      <td>41.009</td>\n",
       "      <td>41.389</td>\n",
       "      <td>...</td>\n",
       "      <td>14614.0</td>\n",
       "      <td>14936.0</td>\n",
       "      <td>14484.0</td>\n",
       "      <td>14314.0</td>\n",
       "      <td>14526.0</td>\n",
       "      <td>14847.0</td>\n",
       "      <td>14730.0</td>\n",
       "      <td>14487.0</td>\n",
       "      <td>1.968913</td>\n",
       "      <td>99.90</td>\n",
       "    </tr>\n",
       "    <tr>\n",
       "      <th>3</th>\n",
       "      <td>48283</td>\n",
       "      <td>La Salle, TX</td>\n",
       "      <td>6.638</td>\n",
       "      <td>6.679</td>\n",
       "      <td>7.065</td>\n",
       "      <td>6.727</td>\n",
       "      <td>7.541</td>\n",
       "      <td>8.729</td>\n",
       "      <td>8.254</td>\n",
       "      <td>7.900</td>\n",
       "      <td>...</td>\n",
       "      <td>7115.0</td>\n",
       "      <td>7175.0</td>\n",
       "      <td>7057.0</td>\n",
       "      <td>6916.0</td>\n",
       "      <td>6808.0</td>\n",
       "      <td>6763.0</td>\n",
       "      <td>6642.0</td>\n",
       "      <td>6670.0</td>\n",
       "      <td>2.070731</td>\n",
       "      <td>96.40</td>\n",
       "    </tr>\n",
       "    <tr>\n",
       "      <th>4</th>\n",
       "      <td>48255</td>\n",
       "      <td>Karnes, TX</td>\n",
       "      <td>6.498</td>\n",
       "      <td>6.891</td>\n",
       "      <td>7.331</td>\n",
       "      <td>6.759</td>\n",
       "      <td>6.537</td>\n",
       "      <td>6.290</td>\n",
       "      <td>6.662</td>\n",
       "      <td>6.937</td>\n",
       "      <td>...</td>\n",
       "      <td>14569.0</td>\n",
       "      <td>14976.0</td>\n",
       "      <td>14997.0</td>\n",
       "      <td>14990.0</td>\n",
       "      <td>15028.0</td>\n",
       "      <td>14605.0</td>\n",
       "      <td>14721.0</td>\n",
       "      <td>14754.0</td>\n",
       "      <td>2.076390</td>\n",
       "      <td>98.60</td>\n",
       "    </tr>\n",
       "    <tr>\n",
       "      <th>...</th>\n",
       "      <td>...</td>\n",
       "      <td>...</td>\n",
       "      <td>...</td>\n",
       "      <td>...</td>\n",
       "      <td>...</td>\n",
       "      <td>...</td>\n",
       "      <td>...</td>\n",
       "      <td>...</td>\n",
       "      <td>...</td>\n",
       "      <td>...</td>\n",
       "      <td>...</td>\n",
       "      <td>...</td>\n",
       "      <td>...</td>\n",
       "      <td>...</td>\n",
       "      <td>...</td>\n",
       "      <td>...</td>\n",
       "      <td>...</td>\n",
       "      <td>...</td>\n",
       "      <td>...</td>\n",
       "      <td>...</td>\n",
       "      <td>...</td>\n",
       "    </tr>\n",
       "    <tr>\n",
       "      <th>3077</th>\n",
       "      <td>6073</td>\n",
       "      <td>San Diego, CA</td>\n",
       "      <td>79.703</td>\n",
       "      <td>83.170</td>\n",
       "      <td>87.449</td>\n",
       "      <td>92.400</td>\n",
       "      <td>97.137</td>\n",
       "      <td>99.354</td>\n",
       "      <td>100.938</td>\n",
       "      <td>100.267</td>\n",
       "      <td>...</td>\n",
       "      <td>3234658.0</td>\n",
       "      <td>3262566.0</td>\n",
       "      <td>3283586.0</td>\n",
       "      <td>3293575.0</td>\n",
       "      <td>3303463.0</td>\n",
       "      <td>3297959.0</td>\n",
       "      <td>3297252.0</td>\n",
       "      <td>3286069.0</td>\n",
       "      <td>2.924300</td>\n",
       "      <td>80.21</td>\n",
       "    </tr>\n",
       "    <tr>\n",
       "      <th>3078</th>\n",
       "      <td>4013</td>\n",
       "      <td>Maricopa, AZ</td>\n",
       "      <td>77.463</td>\n",
       "      <td>80.415</td>\n",
       "      <td>85.793</td>\n",
       "      <td>90.349</td>\n",
       "      <td>97.615</td>\n",
       "      <td>102.729</td>\n",
       "      <td>105.313</td>\n",
       "      <td>103.632</td>\n",
       "      <td>...</td>\n",
       "      <td>4040171.0</td>\n",
       "      <td>4105747.0</td>\n",
       "      <td>4174844.0</td>\n",
       "      <td>4231511.0</td>\n",
       "      <td>4292576.0</td>\n",
       "      <td>4363816.0</td>\n",
       "      <td>4438342.0</td>\n",
       "      <td>4496588.0</td>\n",
       "      <td>2.950617</td>\n",
       "      <td>87.18</td>\n",
       "    </tr>\n",
       "    <tr>\n",
       "      <th>3079</th>\n",
       "      <td>48201</td>\n",
       "      <td>Harris, TX</td>\n",
       "      <td>73.137</td>\n",
       "      <td>72.696</td>\n",
       "      <td>72.847</td>\n",
       "      <td>79.658</td>\n",
       "      <td>80.626</td>\n",
       "      <td>87.278</td>\n",
       "      <td>94.310</td>\n",
       "      <td>91.961</td>\n",
       "      <td>...</td>\n",
       "      <td>4452976.0</td>\n",
       "      <td>4553991.0</td>\n",
       "      <td>4619635.0</td>\n",
       "      <td>4651955.0</td>\n",
       "      <td>4672445.0</td>\n",
       "      <td>4704042.0</td>\n",
       "      <td>4732491.0</td>\n",
       "      <td>4728030.0</td>\n",
       "      <td>2.952810</td>\n",
       "      <td>51.14</td>\n",
       "    </tr>\n",
       "    <tr>\n",
       "      <th>3080</th>\n",
       "      <td>17031</td>\n",
       "      <td>Cook, IL</td>\n",
       "      <td>95.406</td>\n",
       "      <td>94.886</td>\n",
       "      <td>95.455</td>\n",
       "      <td>97.260</td>\n",
       "      <td>99.315</td>\n",
       "      <td>101.320</td>\n",
       "      <td>101.826</td>\n",
       "      <td>99.238</td>\n",
       "      <td>...</td>\n",
       "      <td>5320233.0</td>\n",
       "      <td>5324961.0</td>\n",
       "      <td>5320293.0</td>\n",
       "      <td>5311621.0</td>\n",
       "      <td>5297956.0</td>\n",
       "      <td>5287099.0</td>\n",
       "      <td>5262741.0</td>\n",
       "      <td>5173146.0</td>\n",
       "      <td>3.019405</td>\n",
       "      <td>52.43</td>\n",
       "    </tr>\n",
       "    <tr>\n",
       "      <th>3081</th>\n",
       "      <td>6037</td>\n",
       "      <td>Los Angeles, CA</td>\n",
       "      <td>82.070</td>\n",
       "      <td>83.658</td>\n",
       "      <td>86.614</td>\n",
       "      <td>89.137</td>\n",
       "      <td>91.163</td>\n",
       "      <td>94.942</td>\n",
       "      <td>96.400</td>\n",
       "      <td>98.804</td>\n",
       "      <td>...</td>\n",
       "      <td>10051511.0</td>\n",
       "      <td>10099677.0</td>\n",
       "      <td>10121673.0</td>\n",
       "      <td>10123521.0</td>\n",
       "      <td>10096986.0</td>\n",
       "      <td>10051154.0</td>\n",
       "      <td>9989165.0</td>\n",
       "      <td>9829544.0</td>\n",
       "      <td>3.256690</td>\n",
       "      <td>77.03</td>\n",
       "    </tr>\n",
       "  </tbody>\n",
       "</table>\n",
       "<p>3082 rows × 53 columns</p>\n",
       "</div>"
      ],
      "text/plain": [
       "      GeoFIPS          GeoName    2001    2002    2003    2004    2005  \\\n",
       "0        1007         Bibb, AL  80.443  81.527  85.124  89.317  88.782   \n",
       "1       48109    Culberson, TX  35.264  37.743  36.255  38.339  40.177   \n",
       "2       48389       Reeves, TX  46.003  49.290  44.960  41.682  39.742   \n",
       "3       48283     La Salle, TX   6.638   6.679   7.065   6.727   7.541   \n",
       "4       48255       Karnes, TX   6.498   6.891   7.331   6.759   6.537   \n",
       "...       ...              ...     ...     ...     ...     ...     ...   \n",
       "3077     6073    San Diego, CA  79.703  83.170  87.449  92.400  97.137   \n",
       "3078     4013     Maricopa, AZ  77.463  80.415  85.793  90.349  97.615   \n",
       "3079    48201       Harris, TX  73.137  72.696  72.847  79.658  80.626   \n",
       "3080    17031         Cook, IL  95.406  94.886  95.455  97.260  99.315   \n",
       "3081     6037  Los Angeles, CA  82.070  83.658  86.614  89.137  91.163   \n",
       "\n",
       "         2006     2007     2008  ...  2014_population  2015_population  \\\n",
       "0      89.597   95.308   94.745  ...          22586.0          22607.0   \n",
       "1      41.247   42.368   53.349  ...           2301.0           2275.0   \n",
       "2      41.332   41.009   41.389  ...          14614.0          14936.0   \n",
       "3       8.729    8.254    7.900  ...           7115.0           7175.0   \n",
       "4       6.290    6.662    6.937  ...          14569.0          14976.0   \n",
       "...       ...      ...      ...  ...              ...              ...   \n",
       "3077   99.354  100.938  100.267  ...        3234658.0        3262566.0   \n",
       "3078  102.729  105.313  103.632  ...        4040171.0        4105747.0   \n",
       "3079   87.278   94.310   91.961  ...        4452976.0        4553991.0   \n",
       "3080  101.320  101.826   99.238  ...        5320233.0        5324961.0   \n",
       "3081   94.942   96.400   98.804  ...       10051511.0       10099677.0   \n",
       "\n",
       "      2016_population  2017_population  2018_population  2019_population  \\\n",
       "0             22654.0          22606.0          22383.0          22405.0   \n",
       "1              2244.0           2259.0           2212.0           2186.0   \n",
       "2             14484.0          14314.0          14526.0          14847.0   \n",
       "3              7057.0           6916.0           6808.0           6763.0   \n",
       "4             14997.0          14990.0          15028.0          14605.0   \n",
       "...               ...              ...              ...              ...   \n",
       "3077        3283586.0        3293575.0        3303463.0        3297959.0   \n",
       "3078        4174844.0        4231511.0        4292576.0        4363816.0   \n",
       "3079        4619635.0        4651955.0        4672445.0        4704042.0   \n",
       "3080        5320293.0        5311621.0        5297956.0        5287099.0   \n",
       "3081       10121673.0       10123521.0       10096986.0       10051154.0   \n",
       "\n",
       "      2020_population  2021_population  distance to 1007  percentile  \n",
       "0             22223.0          22477.0          0.000000       47.86  \n",
       "1              2193.0           2193.0          1.947278       99.97  \n",
       "2             14730.0          14487.0          1.968913       99.90  \n",
       "3              6642.0           6670.0          2.070731       96.40  \n",
       "4             14721.0          14754.0          2.076390       98.60  \n",
       "...               ...              ...               ...         ...  \n",
       "3077        3297252.0        3286069.0          2.924300       80.21  \n",
       "3078        4438342.0        4496588.0          2.950617       87.18  \n",
       "3079        4732491.0        4728030.0          2.952810       51.14  \n",
       "3080        5262741.0        5173146.0          3.019405       52.43  \n",
       "3081        9989165.0        9829544.0          3.256690       77.03  \n",
       "\n",
       "[3082 rows x 53 columns]"
      ]
     },
     "metadata": {},
     "output_type": "display_data"
    }
   ],
   "source": [
    "# the other queries still work\n",
    "\n",
    "f  = FipsQuery(1007, outcome_var = \"gdp\",\n",
    "               feature_groups_with_weights= {\"gdp\": -2, \"population\":1}, #with one feature group only\n",
    "               # weights 1-4 won't make a difference\n",
    "               lag = 0, top =5, time_decay = 1.03)\n",
    "f.find_euclidean_kins()\n",
    "display(f.plot_weights())\n",
    "display(f.euclidean_kins)"
   ]
  },
  {
   "cell_type": "code",
   "execution_count": 8,
   "metadata": {},
   "outputs": [
    {
     "name": "stdout",
     "output_type": "stream",
     "text": [
      "['industry_other_services_total', 'population', 'industry_construction_total', 'spending_transportation', 'industry_public_administration_total', 'spending_commerce', 'urbanization', 'industry_mining_total', 'industry_information_total', 'ethnic_composition', 'industry_educational_services_total', 'industry_manufacturing_total', 'industry_real_estate_total', 'industry_transportation_warehousing_total', 'industry_utilities_total', 'industry_management_enterprises_total', 'industry_admin_support_services_total', 'industry', 'gdp', 'industry_wholesale_trade_total', 'industry_arts_recreation_total', 'industry_agriculture_total', 'industry_professional_services_total', 'transport', 'industry_retail_trade_total', 'industry_accommodation_food_services_total', 'industry_healthcare_social_services_total', 'industry_finance_insurance_total', 'spending_HHS']\n"
     ]
    },
    {
     "data": {
      "application/vnd.plotly.v1+json": {
       "config": {
        "plotlyServerURL": "https://plot.ly"
       },
       "data": [
        {
         "type": "bar",
         "x": [
          "1993_population",
          "1994_population",
          "1995_population",
          "1996_population",
          "1997_population",
          "1998_population",
          "1999_population",
          "2000_population",
          "2001_population",
          "2002_population",
          "2003_population",
          "2004_population",
          "2005_population",
          "2006_population",
          "2007_population",
          "2008_population",
          "2009_population",
          "2010_population",
          "2011_population",
          "2012_population",
          "2013_population",
          "2014_population",
          "2015_population",
          "2016_population",
          "2017_population",
          "2018_population",
          "2019_population",
          "2020_population",
          "2021_population",
          "2010_spending_HHS",
          "2011_spending_HHS",
          "2012_spending_HHS",
          "2013_spending_HHS",
          "2014_spending_HHS",
          "2015_spending_HHS",
          "2016_spending_HHS",
          "2017_spending_HHS",
          "2018_spending_HHS",
          "2019_spending_HHS",
          "2020_spending_HHS",
          "2021_spending_HHS"
         ],
         "y": [
          0.03847414014225456,
          0.04155207135363493,
          0.04487623706192573,
          0.04846633602687978,
          0.05234364290903017,
          0.056531134341752595,
          0.0610536250890928,
          0.06593791509622024,
          0.07121294830391786,
          0.07690998416823129,
          0.08306278290168981,
          0.08970780553382499,
          0.09688442997653099,
          0.10463518437465348,
          0.11300599912462576,
          0.12204647905459583,
          0.13181019737896352,
          0.14235501316928062,
          0.15374341422282306,
          0.1660428873606489,
          0.17932631834950083,
          0.19367242381746091,
          0.20916621772285782,
          0.22589951514068643,
          0.24397147635194139,
          0.2634891944600967,
          0.28456833001690446,
          0.30733379641825687,
          0.3319205001317174,
          0.15808505077340862,
          0.17073185483528133,
          0.18439040322210384,
          0.19914163547987215,
          0.21507296631826195,
          0.23227880362372297,
          0.25086110791362076,
          0.27092999654671046,
          0.2926043962704473,
          0.3160127479720831,
          0.3412937678098498,
          0.3685972692346378
         ]
        }
       ],
       "layout": {
        "template": {
         "data": {
          "bar": [
           {
            "error_x": {
             "color": "#2a3f5f"
            },
            "error_y": {
             "color": "#2a3f5f"
            },
            "marker": {
             "line": {
              "color": "white",
              "width": 0.5
             },
             "pattern": {
              "fillmode": "overlay",
              "size": 10,
              "solidity": 0.2
             }
            },
            "type": "bar"
           }
          ],
          "barpolar": [
           {
            "marker": {
             "line": {
              "color": "white",
              "width": 0.5
             },
             "pattern": {
              "fillmode": "overlay",
              "size": 10,
              "solidity": 0.2
             }
            },
            "type": "barpolar"
           }
          ],
          "carpet": [
           {
            "aaxis": {
             "endlinecolor": "#2a3f5f",
             "gridcolor": "#C8D4E3",
             "linecolor": "#C8D4E3",
             "minorgridcolor": "#C8D4E3",
             "startlinecolor": "#2a3f5f"
            },
            "baxis": {
             "endlinecolor": "#2a3f5f",
             "gridcolor": "#C8D4E3",
             "linecolor": "#C8D4E3",
             "minorgridcolor": "#C8D4E3",
             "startlinecolor": "#2a3f5f"
            },
            "type": "carpet"
           }
          ],
          "choropleth": [
           {
            "colorbar": {
             "outlinewidth": 0,
             "ticks": ""
            },
            "type": "choropleth"
           }
          ],
          "contour": [
           {
            "colorbar": {
             "outlinewidth": 0,
             "ticks": ""
            },
            "colorscale": [
             [
              0,
              "#0d0887"
             ],
             [
              0.1111111111111111,
              "#46039f"
             ],
             [
              0.2222222222222222,
              "#7201a8"
             ],
             [
              0.3333333333333333,
              "#9c179e"
             ],
             [
              0.4444444444444444,
              "#bd3786"
             ],
             [
              0.5555555555555556,
              "#d8576b"
             ],
             [
              0.6666666666666666,
              "#ed7953"
             ],
             [
              0.7777777777777778,
              "#fb9f3a"
             ],
             [
              0.8888888888888888,
              "#fdca26"
             ],
             [
              1,
              "#f0f921"
             ]
            ],
            "type": "contour"
           }
          ],
          "contourcarpet": [
           {
            "colorbar": {
             "outlinewidth": 0,
             "ticks": ""
            },
            "type": "contourcarpet"
           }
          ],
          "heatmap": [
           {
            "colorbar": {
             "outlinewidth": 0,
             "ticks": ""
            },
            "colorscale": [
             [
              0,
              "#0d0887"
             ],
             [
              0.1111111111111111,
              "#46039f"
             ],
             [
              0.2222222222222222,
              "#7201a8"
             ],
             [
              0.3333333333333333,
              "#9c179e"
             ],
             [
              0.4444444444444444,
              "#bd3786"
             ],
             [
              0.5555555555555556,
              "#d8576b"
             ],
             [
              0.6666666666666666,
              "#ed7953"
             ],
             [
              0.7777777777777778,
              "#fb9f3a"
             ],
             [
              0.8888888888888888,
              "#fdca26"
             ],
             [
              1,
              "#f0f921"
             ]
            ],
            "type": "heatmap"
           }
          ],
          "heatmapgl": [
           {
            "colorbar": {
             "outlinewidth": 0,
             "ticks": ""
            },
            "colorscale": [
             [
              0,
              "#0d0887"
             ],
             [
              0.1111111111111111,
              "#46039f"
             ],
             [
              0.2222222222222222,
              "#7201a8"
             ],
             [
              0.3333333333333333,
              "#9c179e"
             ],
             [
              0.4444444444444444,
              "#bd3786"
             ],
             [
              0.5555555555555556,
              "#d8576b"
             ],
             [
              0.6666666666666666,
              "#ed7953"
             ],
             [
              0.7777777777777778,
              "#fb9f3a"
             ],
             [
              0.8888888888888888,
              "#fdca26"
             ],
             [
              1,
              "#f0f921"
             ]
            ],
            "type": "heatmapgl"
           }
          ],
          "histogram": [
           {
            "marker": {
             "pattern": {
              "fillmode": "overlay",
              "size": 10,
              "solidity": 0.2
             }
            },
            "type": "histogram"
           }
          ],
          "histogram2d": [
           {
            "colorbar": {
             "outlinewidth": 0,
             "ticks": ""
            },
            "colorscale": [
             [
              0,
              "#0d0887"
             ],
             [
              0.1111111111111111,
              "#46039f"
             ],
             [
              0.2222222222222222,
              "#7201a8"
             ],
             [
              0.3333333333333333,
              "#9c179e"
             ],
             [
              0.4444444444444444,
              "#bd3786"
             ],
             [
              0.5555555555555556,
              "#d8576b"
             ],
             [
              0.6666666666666666,
              "#ed7953"
             ],
             [
              0.7777777777777778,
              "#fb9f3a"
             ],
             [
              0.8888888888888888,
              "#fdca26"
             ],
             [
              1,
              "#f0f921"
             ]
            ],
            "type": "histogram2d"
           }
          ],
          "histogram2dcontour": [
           {
            "colorbar": {
             "outlinewidth": 0,
             "ticks": ""
            },
            "colorscale": [
             [
              0,
              "#0d0887"
             ],
             [
              0.1111111111111111,
              "#46039f"
             ],
             [
              0.2222222222222222,
              "#7201a8"
             ],
             [
              0.3333333333333333,
              "#9c179e"
             ],
             [
              0.4444444444444444,
              "#bd3786"
             ],
             [
              0.5555555555555556,
              "#d8576b"
             ],
             [
              0.6666666666666666,
              "#ed7953"
             ],
             [
              0.7777777777777778,
              "#fb9f3a"
             ],
             [
              0.8888888888888888,
              "#fdca26"
             ],
             [
              1,
              "#f0f921"
             ]
            ],
            "type": "histogram2dcontour"
           }
          ],
          "mesh3d": [
           {
            "colorbar": {
             "outlinewidth": 0,
             "ticks": ""
            },
            "type": "mesh3d"
           }
          ],
          "parcoords": [
           {
            "line": {
             "colorbar": {
              "outlinewidth": 0,
              "ticks": ""
             }
            },
            "type": "parcoords"
           }
          ],
          "pie": [
           {
            "automargin": true,
            "type": "pie"
           }
          ],
          "scatter": [
           {
            "fillpattern": {
             "fillmode": "overlay",
             "size": 10,
             "solidity": 0.2
            },
            "type": "scatter"
           }
          ],
          "scatter3d": [
           {
            "line": {
             "colorbar": {
              "outlinewidth": 0,
              "ticks": ""
             }
            },
            "marker": {
             "colorbar": {
              "outlinewidth": 0,
              "ticks": ""
             }
            },
            "type": "scatter3d"
           }
          ],
          "scattercarpet": [
           {
            "marker": {
             "colorbar": {
              "outlinewidth": 0,
              "ticks": ""
             }
            },
            "type": "scattercarpet"
           }
          ],
          "scattergeo": [
           {
            "marker": {
             "colorbar": {
              "outlinewidth": 0,
              "ticks": ""
             }
            },
            "type": "scattergeo"
           }
          ],
          "scattergl": [
           {
            "marker": {
             "colorbar": {
              "outlinewidth": 0,
              "ticks": ""
             }
            },
            "type": "scattergl"
           }
          ],
          "scattermapbox": [
           {
            "marker": {
             "colorbar": {
              "outlinewidth": 0,
              "ticks": ""
             }
            },
            "type": "scattermapbox"
           }
          ],
          "scatterpolar": [
           {
            "marker": {
             "colorbar": {
              "outlinewidth": 0,
              "ticks": ""
             }
            },
            "type": "scatterpolar"
           }
          ],
          "scatterpolargl": [
           {
            "marker": {
             "colorbar": {
              "outlinewidth": 0,
              "ticks": ""
             }
            },
            "type": "scatterpolargl"
           }
          ],
          "scatterternary": [
           {
            "marker": {
             "colorbar": {
              "outlinewidth": 0,
              "ticks": ""
             }
            },
            "type": "scatterternary"
           }
          ],
          "surface": [
           {
            "colorbar": {
             "outlinewidth": 0,
             "ticks": ""
            },
            "colorscale": [
             [
              0,
              "#0d0887"
             ],
             [
              0.1111111111111111,
              "#46039f"
             ],
             [
              0.2222222222222222,
              "#7201a8"
             ],
             [
              0.3333333333333333,
              "#9c179e"
             ],
             [
              0.4444444444444444,
              "#bd3786"
             ],
             [
              0.5555555555555556,
              "#d8576b"
             ],
             [
              0.6666666666666666,
              "#ed7953"
             ],
             [
              0.7777777777777778,
              "#fb9f3a"
             ],
             [
              0.8888888888888888,
              "#fdca26"
             ],
             [
              1,
              "#f0f921"
             ]
            ],
            "type": "surface"
           }
          ],
          "table": [
           {
            "cells": {
             "fill": {
              "color": "#EBF0F8"
             },
             "line": {
              "color": "white"
             }
            },
            "header": {
             "fill": {
              "color": "#C8D4E3"
             },
             "line": {
              "color": "white"
             }
            },
            "type": "table"
           }
          ]
         },
         "layout": {
          "annotationdefaults": {
           "arrowcolor": "#2a3f5f",
           "arrowhead": 0,
           "arrowwidth": 1
          },
          "autotypenumbers": "strict",
          "coloraxis": {
           "colorbar": {
            "outlinewidth": 0,
            "ticks": ""
           }
          },
          "colorscale": {
           "diverging": [
            [
             0,
             "#8e0152"
            ],
            [
             0.1,
             "#c51b7d"
            ],
            [
             0.2,
             "#de77ae"
            ],
            [
             0.3,
             "#f1b6da"
            ],
            [
             0.4,
             "#fde0ef"
            ],
            [
             0.5,
             "#f7f7f7"
            ],
            [
             0.6,
             "#e6f5d0"
            ],
            [
             0.7,
             "#b8e186"
            ],
            [
             0.8,
             "#7fbc41"
            ],
            [
             0.9,
             "#4d9221"
            ],
            [
             1,
             "#276419"
            ]
           ],
           "sequential": [
            [
             0,
             "#0d0887"
            ],
            [
             0.1111111111111111,
             "#46039f"
            ],
            [
             0.2222222222222222,
             "#7201a8"
            ],
            [
             0.3333333333333333,
             "#9c179e"
            ],
            [
             0.4444444444444444,
             "#bd3786"
            ],
            [
             0.5555555555555556,
             "#d8576b"
            ],
            [
             0.6666666666666666,
             "#ed7953"
            ],
            [
             0.7777777777777778,
             "#fb9f3a"
            ],
            [
             0.8888888888888888,
             "#fdca26"
            ],
            [
             1,
             "#f0f921"
            ]
           ],
           "sequentialminus": [
            [
             0,
             "#0d0887"
            ],
            [
             0.1111111111111111,
             "#46039f"
            ],
            [
             0.2222222222222222,
             "#7201a8"
            ],
            [
             0.3333333333333333,
             "#9c179e"
            ],
            [
             0.4444444444444444,
             "#bd3786"
            ],
            [
             0.5555555555555556,
             "#d8576b"
            ],
            [
             0.6666666666666666,
             "#ed7953"
            ],
            [
             0.7777777777777778,
             "#fb9f3a"
            ],
            [
             0.8888888888888888,
             "#fdca26"
            ],
            [
             1,
             "#f0f921"
            ]
           ]
          },
          "colorway": [
           "#636efa",
           "#EF553B",
           "#00cc96",
           "#ab63fa",
           "#FFA15A",
           "#19d3f3",
           "#FF6692",
           "#B6E880",
           "#FF97FF",
           "#FECB52"
          ],
          "font": {
           "color": "#2a3f5f"
          },
          "geo": {
           "bgcolor": "white",
           "lakecolor": "white",
           "landcolor": "white",
           "showlakes": true,
           "showland": true,
           "subunitcolor": "#C8D4E3"
          },
          "hoverlabel": {
           "align": "left"
          },
          "hovermode": "closest",
          "mapbox": {
           "style": "light"
          },
          "paper_bgcolor": "white",
          "plot_bgcolor": "white",
          "polar": {
           "angularaxis": {
            "gridcolor": "#EBF0F8",
            "linecolor": "#EBF0F8",
            "ticks": ""
           },
           "bgcolor": "white",
           "radialaxis": {
            "gridcolor": "#EBF0F8",
            "linecolor": "#EBF0F8",
            "ticks": ""
           }
          },
          "scene": {
           "xaxis": {
            "backgroundcolor": "white",
            "gridcolor": "#DFE8F3",
            "gridwidth": 2,
            "linecolor": "#EBF0F8",
            "showbackground": true,
            "ticks": "",
            "zerolinecolor": "#EBF0F8"
           },
           "yaxis": {
            "backgroundcolor": "white",
            "gridcolor": "#DFE8F3",
            "gridwidth": 2,
            "linecolor": "#EBF0F8",
            "showbackground": true,
            "ticks": "",
            "zerolinecolor": "#EBF0F8"
           },
           "zaxis": {
            "backgroundcolor": "white",
            "gridcolor": "#DFE8F3",
            "gridwidth": 2,
            "linecolor": "#EBF0F8",
            "showbackground": true,
            "ticks": "",
            "zerolinecolor": "#EBF0F8"
           }
          },
          "shapedefaults": {
           "line": {
            "color": "#2a3f5f"
           }
          },
          "ternary": {
           "aaxis": {
            "gridcolor": "#DFE8F3",
            "linecolor": "#A2B1C6",
            "ticks": ""
           },
           "baxis": {
            "gridcolor": "#DFE8F3",
            "linecolor": "#A2B1C6",
            "ticks": ""
           },
           "bgcolor": "white",
           "caxis": {
            "gridcolor": "#DFE8F3",
            "linecolor": "#A2B1C6",
            "ticks": ""
           }
          },
          "title": {
           "x": 0.05
          },
          "xaxis": {
           "automargin": true,
           "gridcolor": "#EBF0F8",
           "linecolor": "#EBF0F8",
           "ticks": "",
           "title": {
            "standoff": 15
           },
           "zerolinecolor": "#EBF0F8",
           "zerolinewidth": 2
          },
          "yaxis": {
           "automargin": true,
           "gridcolor": "#EBF0F8",
           "linecolor": "#EBF0F8",
           "ticks": "",
           "title": {
            "standoff": 15
           },
           "zerolinecolor": "#EBF0F8",
           "zerolinewidth": 2
          }
         }
        },
        "title": {
         "text": "Weights of columns"
        },
        "xaxis": {
         "title": {
          "text": "columns"
         }
        },
        "yaxis": {
         "title": {
          "text": "weights"
         }
        }
       }
      }
     },
     "metadata": {},
     "output_type": "display_data"
    },
    {
     "data": {
      "text/plain": [
       "None"
      ]
     },
     "metadata": {},
     "output_type": "display_data"
    },
    {
     "data": {
      "text/html": [
       "<div>\n",
       "<style scoped>\n",
       "    .dataframe tbody tr th:only-of-type {\n",
       "        vertical-align: middle;\n",
       "    }\n",
       "\n",
       "    .dataframe tbody tr th {\n",
       "        vertical-align: top;\n",
       "    }\n",
       "\n",
       "    .dataframe thead th {\n",
       "        text-align: right;\n",
       "    }\n",
       "</style>\n",
       "<table border=\"1\" class=\"dataframe\">\n",
       "  <thead>\n",
       "    <tr style=\"text-align: right;\">\n",
       "      <th></th>\n",
       "      <th>1993_population</th>\n",
       "      <th>1994_population</th>\n",
       "      <th>1995_population</th>\n",
       "      <th>1996_population</th>\n",
       "      <th>1997_population</th>\n",
       "      <th>1998_population</th>\n",
       "      <th>1999_population</th>\n",
       "      <th>2000_population</th>\n",
       "      <th>2001_population</th>\n",
       "      <th>2002_population</th>\n",
       "      <th>...</th>\n",
       "      <th>2013_spending_HHS</th>\n",
       "      <th>2014_spending_HHS</th>\n",
       "      <th>2015_spending_HHS</th>\n",
       "      <th>2016_spending_HHS</th>\n",
       "      <th>2017_spending_HHS</th>\n",
       "      <th>2018_spending_HHS</th>\n",
       "      <th>2019_spending_HHS</th>\n",
       "      <th>2020_spending_HHS</th>\n",
       "      <th>2021_spending_HHS</th>\n",
       "      <th>distance to 42001</th>\n",
       "    </tr>\n",
       "  </thead>\n",
       "  <tbody>\n",
       "    <tr>\n",
       "      <th>2235</th>\n",
       "      <td>83013.0</td>\n",
       "      <td>84186.0</td>\n",
       "      <td>85063.0</td>\n",
       "      <td>86252.0</td>\n",
       "      <td>87751.0</td>\n",
       "      <td>89074.0</td>\n",
       "      <td>90363.0</td>\n",
       "      <td>91457.0</td>\n",
       "      <td>92591.0</td>\n",
       "      <td>93934.0</td>\n",
       "      <td>...</td>\n",
       "      <td>6.841459e+07</td>\n",
       "      <td>2.843109e+07</td>\n",
       "      <td>1.022756e+07</td>\n",
       "      <td>3.068268e+07</td>\n",
       "      <td>2.081153e+07</td>\n",
       "      <td>3.134013e+07</td>\n",
       "      <td>5.207267e+07</td>\n",
       "      <td>3.151378e+07</td>\n",
       "      <td>4.473508e+07</td>\n",
       "      <td>0.000000</td>\n",
       "    </tr>\n",
       "    <tr>\n",
       "      <th>3006</th>\n",
       "      <td>92876.0</td>\n",
       "      <td>93717.0</td>\n",
       "      <td>94509.0</td>\n",
       "      <td>95529.0</td>\n",
       "      <td>95998.0</td>\n",
       "      <td>96512.0</td>\n",
       "      <td>96985.0</td>\n",
       "      <td>97390.0</td>\n",
       "      <td>97856.0</td>\n",
       "      <td>98097.0</td>\n",
       "      <td>...</td>\n",
       "      <td>2.548639e+07</td>\n",
       "      <td>3.562433e+07</td>\n",
       "      <td>2.471649e+07</td>\n",
       "      <td>3.263073e+07</td>\n",
       "      <td>5.403922e+07</td>\n",
       "      <td>4.703442e+07</td>\n",
       "      <td>5.464052e+07</td>\n",
       "      <td>5.844357e+07</td>\n",
       "      <td>7.377923e+07</td>\n",
       "      <td>0.026253</td>\n",
       "    </tr>\n",
       "    <tr>\n",
       "      <th>1244</th>\n",
       "      <td>96534.0</td>\n",
       "      <td>97920.0</td>\n",
       "      <td>99350.0</td>\n",
       "      <td>100660.0</td>\n",
       "      <td>101474.0</td>\n",
       "      <td>102280.0</td>\n",
       "      <td>102991.0</td>\n",
       "      <td>104000.0</td>\n",
       "      <td>104848.0</td>\n",
       "      <td>105794.0</td>\n",
       "      <td>...</td>\n",
       "      <td>5.135486e+07</td>\n",
       "      <td>1.685584e+07</td>\n",
       "      <td>2.075568e+07</td>\n",
       "      <td>6.394366e+07</td>\n",
       "      <td>2.995285e+07</td>\n",
       "      <td>6.536969e+07</td>\n",
       "      <td>5.782530e+07</td>\n",
       "      <td>6.692654e+07</td>\n",
       "      <td>4.542509e+07</td>\n",
       "      <td>0.030965</td>\n",
       "    </tr>\n",
       "    <tr>\n",
       "      <th>7</th>\n",
       "      <td>116324.0</td>\n",
       "      <td>116161.0</td>\n",
       "      <td>116790.0</td>\n",
       "      <td>116684.0</td>\n",
       "      <td>117254.0</td>\n",
       "      <td>117179.0</td>\n",
       "      <td>114910.0</td>\n",
       "      <td>111081.0</td>\n",
       "      <td>111266.0</td>\n",
       "      <td>111625.0</td>\n",
       "      <td>...</td>\n",
       "      <td>3.943803e+07</td>\n",
       "      <td>4.531137e+07</td>\n",
       "      <td>3.266888e+07</td>\n",
       "      <td>3.188817e+07</td>\n",
       "      <td>3.195046e+07</td>\n",
       "      <td>4.203667e+07</td>\n",
       "      <td>2.714948e+07</td>\n",
       "      <td>2.231390e+07</td>\n",
       "      <td>2.433614e+07</td>\n",
       "      <td>0.033050</td>\n",
       "    </tr>\n",
       "    <tr>\n",
       "      <th>1853</th>\n",
       "      <td>98327.0</td>\n",
       "      <td>98509.0</td>\n",
       "      <td>98816.0</td>\n",
       "      <td>99509.0</td>\n",
       "      <td>99693.0</td>\n",
       "      <td>99603.0</td>\n",
       "      <td>99802.0</td>\n",
       "      <td>100106.0</td>\n",
       "      <td>100819.0</td>\n",
       "      <td>101763.0</td>\n",
       "      <td>...</td>\n",
       "      <td>2.743605e+07</td>\n",
       "      <td>1.820944e+07</td>\n",
       "      <td>7.596719e+06</td>\n",
       "      <td>1.534277e+07</td>\n",
       "      <td>5.635192e+07</td>\n",
       "      <td>2.467059e+07</td>\n",
       "      <td>1.403323e+07</td>\n",
       "      <td>4.650258e+07</td>\n",
       "      <td>4.890882e+07</td>\n",
       "      <td>0.034477</td>\n",
       "    </tr>\n",
       "    <tr>\n",
       "      <th>...</th>\n",
       "      <td>...</td>\n",
       "      <td>...</td>\n",
       "      <td>...</td>\n",
       "      <td>...</td>\n",
       "      <td>...</td>\n",
       "      <td>...</td>\n",
       "      <td>...</td>\n",
       "      <td>...</td>\n",
       "      <td>...</td>\n",
       "      <td>...</td>\n",
       "      <td>...</td>\n",
       "      <td>...</td>\n",
       "      <td>...</td>\n",
       "      <td>...</td>\n",
       "      <td>...</td>\n",
       "      <td>...</td>\n",
       "      <td>...</td>\n",
       "      <td>...</td>\n",
       "      <td>...</td>\n",
       "      <td>...</td>\n",
       "      <td>...</td>\n",
       "    </tr>\n",
       "    <tr>\n",
       "      <th>2384</th>\n",
       "      <td>15660.0</td>\n",
       "      <td>15902.0</td>\n",
       "      <td>15997.0</td>\n",
       "      <td>16082.0</td>\n",
       "      <td>16053.0</td>\n",
       "      <td>16129.0</td>\n",
       "      <td>16386.0</td>\n",
       "      <td>16505.0</td>\n",
       "      <td>16351.0</td>\n",
       "      <td>16479.0</td>\n",
       "      <td>...</td>\n",
       "      <td>4.016453e+09</td>\n",
       "      <td>3.975215e+09</td>\n",
       "      <td>4.085792e+09</td>\n",
       "      <td>3.715688e+09</td>\n",
       "      <td>6.654582e+09</td>\n",
       "      <td>7.660348e+09</td>\n",
       "      <td>1.127461e+10</td>\n",
       "      <td>1.530217e+10</td>\n",
       "      <td>1.712052e+10</td>\n",
       "      <td>2.369198</td>\n",
       "    </tr>\n",
       "    <tr>\n",
       "      <th>2740</th>\n",
       "      <td>649226.0</td>\n",
       "      <td>671759.0</td>\n",
       "      <td>696278.0</td>\n",
       "      <td>717194.0</td>\n",
       "      <td>736587.0</td>\n",
       "      <td>761335.0</td>\n",
       "      <td>788500.0</td>\n",
       "      <td>819692.0</td>\n",
       "      <td>844877.0</td>\n",
       "      <td>848090.0</td>\n",
       "      <td>...</td>\n",
       "      <td>2.225282e+11</td>\n",
       "      <td>2.231797e+11</td>\n",
       "      <td>2.118196e+11</td>\n",
       "      <td>2.138400e+11</td>\n",
       "      <td>2.527288e+11</td>\n",
       "      <td>3.552319e+11</td>\n",
       "      <td>4.896949e+11</td>\n",
       "      <td>6.288495e+11</td>\n",
       "      <td>7.776532e+11</td>\n",
       "      <td>2.469107</td>\n",
       "    </tr>\n",
       "    <tr>\n",
       "      <th>198</th>\n",
       "      <td>9100159.0</td>\n",
       "      <td>9096608.0</td>\n",
       "      <td>9089015.0</td>\n",
       "      <td>9127042.0</td>\n",
       "      <td>9206538.0</td>\n",
       "      <td>9313589.0</td>\n",
       "      <td>9437290.0</td>\n",
       "      <td>9538191.0</td>\n",
       "      <td>9626034.0</td>\n",
       "      <td>9705913.0</td>\n",
       "      <td>...</td>\n",
       "      <td>2.348763e+10</td>\n",
       "      <td>2.294435e+10</td>\n",
       "      <td>2.502567e+10</td>\n",
       "      <td>2.839330e+10</td>\n",
       "      <td>3.868660e+10</td>\n",
       "      <td>5.899629e+10</td>\n",
       "      <td>1.410259e+11</td>\n",
       "      <td>2.187211e+11</td>\n",
       "      <td>2.577860e+11</td>\n",
       "      <td>2.725159</td>\n",
       "    </tr>\n",
       "    <tr>\n",
       "      <th>1819</th>\n",
       "      <td>298592.0</td>\n",
       "      <td>300262.0</td>\n",
       "      <td>299725.0</td>\n",
       "      <td>297680.0</td>\n",
       "      <td>296187.0</td>\n",
       "      <td>295097.0</td>\n",
       "      <td>294692.0</td>\n",
       "      <td>295106.0</td>\n",
       "      <td>296232.0</td>\n",
       "      <td>298283.0</td>\n",
       "      <td>...</td>\n",
       "      <td>3.271360e+11</td>\n",
       "      <td>3.134117e+11</td>\n",
       "      <td>3.894925e+11</td>\n",
       "      <td>3.271486e+11</td>\n",
       "      <td>7.462131e+11</td>\n",
       "      <td>6.579396e+11</td>\n",
       "      <td>8.941410e+11</td>\n",
       "      <td>9.732370e+11</td>\n",
       "      <td>9.351828e+11</td>\n",
       "      <td>2.941499</td>\n",
       "    </tr>\n",
       "    <tr>\n",
       "      <th>213</th>\n",
       "      <td>1127608.0</td>\n",
       "      <td>1130094.0</td>\n",
       "      <td>1140825.0</td>\n",
       "      <td>1155635.0</td>\n",
       "      <td>1169855.0</td>\n",
       "      <td>1186617.0</td>\n",
       "      <td>1206659.0</td>\n",
       "      <td>1229940.0</td>\n",
       "      <td>1266257.0</td>\n",
       "      <td>1301079.0</td>\n",
       "      <td>...</td>\n",
       "      <td>3.614194e+11</td>\n",
       "      <td>4.741250e+11</td>\n",
       "      <td>3.639794e+11</td>\n",
       "      <td>3.878961e+11</td>\n",
       "      <td>3.388018e+11</td>\n",
       "      <td>1.298456e+12</td>\n",
       "      <td>1.235765e+12</td>\n",
       "      <td>1.717218e+12</td>\n",
       "      <td>1.842294e+12</td>\n",
       "      <td>3.359044</td>\n",
       "    </tr>\n",
       "  </tbody>\n",
       "</table>\n",
       "<p>3082 rows × 42 columns</p>\n",
       "</div>"
      ],
      "text/plain": [
       "      1993_population  1994_population  1995_population  1996_population  \\\n",
       "2235          83013.0          84186.0          85063.0          86252.0   \n",
       "3006          92876.0          93717.0          94509.0          95529.0   \n",
       "1244          96534.0          97920.0          99350.0         100660.0   \n",
       "7            116324.0         116161.0         116790.0         116684.0   \n",
       "1853          98327.0          98509.0          98816.0          99509.0   \n",
       "...               ...              ...              ...              ...   \n",
       "2384          15660.0          15902.0          15997.0          16082.0   \n",
       "2740         649226.0         671759.0         696278.0         717194.0   \n",
       "198         9100159.0        9096608.0        9089015.0        9127042.0   \n",
       "1819         298592.0         300262.0         299725.0         297680.0   \n",
       "213         1127608.0        1130094.0        1140825.0        1155635.0   \n",
       "\n",
       "      1997_population  1998_population  1999_population  2000_population  \\\n",
       "2235          87751.0          89074.0          90363.0          91457.0   \n",
       "3006          95998.0          96512.0          96985.0          97390.0   \n",
       "1244         101474.0         102280.0         102991.0         104000.0   \n",
       "7            117254.0         117179.0         114910.0         111081.0   \n",
       "1853          99693.0          99603.0          99802.0         100106.0   \n",
       "...               ...              ...              ...              ...   \n",
       "2384          16053.0          16129.0          16386.0          16505.0   \n",
       "2740         736587.0         761335.0         788500.0         819692.0   \n",
       "198         9206538.0        9313589.0        9437290.0        9538191.0   \n",
       "1819         296187.0         295097.0         294692.0         295106.0   \n",
       "213         1169855.0        1186617.0        1206659.0        1229940.0   \n",
       "\n",
       "      2001_population  2002_population  ...  2013_spending_HHS  \\\n",
       "2235          92591.0          93934.0  ...       6.841459e+07   \n",
       "3006          97856.0          98097.0  ...       2.548639e+07   \n",
       "1244         104848.0         105794.0  ...       5.135486e+07   \n",
       "7            111266.0         111625.0  ...       3.943803e+07   \n",
       "1853         100819.0         101763.0  ...       2.743605e+07   \n",
       "...               ...              ...  ...                ...   \n",
       "2384          16351.0          16479.0  ...       4.016453e+09   \n",
       "2740         844877.0         848090.0  ...       2.225282e+11   \n",
       "198         9626034.0        9705913.0  ...       2.348763e+10   \n",
       "1819         296232.0         298283.0  ...       3.271360e+11   \n",
       "213         1266257.0        1301079.0  ...       3.614194e+11   \n",
       "\n",
       "      2014_spending_HHS  2015_spending_HHS  2016_spending_HHS  \\\n",
       "2235       2.843109e+07       1.022756e+07       3.068268e+07   \n",
       "3006       3.562433e+07       2.471649e+07       3.263073e+07   \n",
       "1244       1.685584e+07       2.075568e+07       6.394366e+07   \n",
       "7          4.531137e+07       3.266888e+07       3.188817e+07   \n",
       "1853       1.820944e+07       7.596719e+06       1.534277e+07   \n",
       "...                 ...                ...                ...   \n",
       "2384       3.975215e+09       4.085792e+09       3.715688e+09   \n",
       "2740       2.231797e+11       2.118196e+11       2.138400e+11   \n",
       "198        2.294435e+10       2.502567e+10       2.839330e+10   \n",
       "1819       3.134117e+11       3.894925e+11       3.271486e+11   \n",
       "213        4.741250e+11       3.639794e+11       3.878961e+11   \n",
       "\n",
       "      2017_spending_HHS  2018_spending_HHS  2019_spending_HHS  \\\n",
       "2235       2.081153e+07       3.134013e+07       5.207267e+07   \n",
       "3006       5.403922e+07       4.703442e+07       5.464052e+07   \n",
       "1244       2.995285e+07       6.536969e+07       5.782530e+07   \n",
       "7          3.195046e+07       4.203667e+07       2.714948e+07   \n",
       "1853       5.635192e+07       2.467059e+07       1.403323e+07   \n",
       "...                 ...                ...                ...   \n",
       "2384       6.654582e+09       7.660348e+09       1.127461e+10   \n",
       "2740       2.527288e+11       3.552319e+11       4.896949e+11   \n",
       "198        3.868660e+10       5.899629e+10       1.410259e+11   \n",
       "1819       7.462131e+11       6.579396e+11       8.941410e+11   \n",
       "213        3.388018e+11       1.298456e+12       1.235765e+12   \n",
       "\n",
       "      2020_spending_HHS  2021_spending_HHS  distance to 42001  \n",
       "2235       3.151378e+07       4.473508e+07           0.000000  \n",
       "3006       5.844357e+07       7.377923e+07           0.026253  \n",
       "1244       6.692654e+07       4.542509e+07           0.030965  \n",
       "7          2.231390e+07       2.433614e+07           0.033050  \n",
       "1853       4.650258e+07       4.890882e+07           0.034477  \n",
       "...                 ...                ...                ...  \n",
       "2384       1.530217e+10       1.712052e+10           2.369198  \n",
       "2740       6.288495e+11       7.776532e+11           2.469107  \n",
       "198        2.187211e+11       2.577860e+11           2.725159  \n",
       "1819       9.732370e+11       9.351828e+11           2.941499  \n",
       "213        1.717218e+12       1.842294e+12           3.359044  \n",
       "\n",
       "[3082 rows x 42 columns]"
      ]
     },
     "metadata": {},
     "output_type": "display_data"
    }
   ],
   "source": [
    "# You don't want to pass outcome and are interested in similarities\n",
    "print(list_available_features())\n",
    "f  = FipsQuery(42001, feature_groups_with_weights= {\"population\":4, \"spending_HHS\": 3})\n",
    "f.find_euclidean_kins()\n",
    "display(f.plot_weights())\n",
    "display(f.euclidean_kins)"
   ]
  },
  {
   "cell_type": "markdown",
   "metadata": {},
   "source": [
    "#### Use case: I just want a rough idea\n",
    "\n",
    "You want to know where your jurisdiction stands relative to all the others in the country. you also know the rate \n",
    "of locations where the most recent value of the outcome is lower than yours."
   ]
  },
  {
   "cell_type": "code",
   "execution_count": 9,
   "metadata": {},
   "outputs": [
    {
     "data": {
      "application/vnd.plotly.v1+json": {
       "config": {
        "plotlyServerURL": "https://plot.ly"
       },
       "data": [
        {
         "line": {
          "color": "lightgray"
         },
         "mode": "lines",
         "name": "Bullock, AL",
         "opacity": 0.4,
         "showlegend": false,
         "text": "Bullock, AL",
         "textposition": "top right",
         "type": "scatter",
         "x": [
          2001,
          2002,
          2003,
          2004,
          2005,
          2006,
          2007,
          2008,
          2009,
          2010,
          2011,
          2013,
          2014,
          2015,
          2016,
          2017,
          2018,
          2019,
          2020,
          2021
         ],
         "y": [
          95.536,
          98.775,
          97.23,
          96.127,
          95.487,
          99.292,
          93.241,
          91.826,
          103.48,
          97.144,
          93.676,
          91.725,
          85.32,
          83.113,
          90.667,
          91.252,
          95.865,
          101.822,
          102.315,
          96.313
         ]
        },
        {
         "line": {
          "color": "lightgray"
         },
         "mode": "lines",
         "name": "Cullman, AL",
         "opacity": 0.4,
         "showlegend": false,
         "text": "Cullman, AL",
         "textposition": "top right",
         "type": "scatter",
         "x": [
          2001,
          2002,
          2003,
          2004,
          2005,
          2006,
          2007,
          2008,
          2009,
          2010,
          2011,
          2013,
          2014,
          2015,
          2016,
          2017,
          2018,
          2019,
          2020,
          2021
         ],
         "y": [
          87.46,
          86.436,
          90.311,
          98.811,
          104.198,
          102.696,
          97.412,
          95.364,
          94.472,
          96.919,
          98.074,
          107.369,
          106.526,
          112.4,
          110.267,
          111.872,
          111.986,
          114.759,
          112.762,
          125.825
         ]
        },
        {
         "line": {
          "color": "lightgray"
         },
         "mode": "lines",
         "name": "Bethel Census Area, AK",
         "opacity": 0.4,
         "showlegend": false,
         "text": "Bethel Census Area, AK",
         "textposition": "top right",
         "type": "scatter",
         "x": [
          2001,
          2002,
          2003,
          2004,
          2005,
          2006,
          2007,
          2008,
          2009,
          2010,
          2011,
          2013,
          2014,
          2015,
          2016,
          2017,
          2018,
          2019,
          2020,
          2021
         ],
         "y": [
          75.171,
          81.473,
          85.34,
          85.88,
          86.712,
          83.918,
          82.086,
          80.297,
          83.974,
          89.721,
          98.404,
          102.442,
          102.707,
          103.513,
          103.635,
          105.824,
          106.973,
          105.163,
          100.307,
          96.266
         ]
        },
        {
         "line": {
          "color": "lightgray"
         },
         "mode": "lines",
         "name": "Baxter, AR",
         "opacity": 0.4,
         "showlegend": false,
         "text": "Baxter, AR",
         "textposition": "top right",
         "type": "scatter",
         "x": [
          2001,
          2002,
          2003,
          2004,
          2005,
          2006,
          2007,
          2008,
          2009,
          2010,
          2011,
          2013,
          2014,
          2015,
          2016,
          2017,
          2018,
          2019,
          2020,
          2021
         ],
         "y": [
          89.74,
          92.383,
          92.027,
          93.719,
          100.308,
          104.527,
          105.701,
          108.513,
          99.693,
          103.026,
          104.699,
          101.793,
          105.671,
          105.247,
          106.928,
          116.295,
          118.67,
          119.059,
          118.08,
          125.003
         ]
        },
        {
         "line": {
          "color": "lightgray"
         },
         "mode": "lines",
         "name": "Cleburne, AR",
         "opacity": 0.4,
         "showlegend": false,
         "text": "Cleburne, AR",
         "textposition": "top right",
         "type": "scatter",
         "x": [
          2001,
          2002,
          2003,
          2004,
          2005,
          2006,
          2007,
          2008,
          2009,
          2010,
          2011,
          2013,
          2014,
          2015,
          2016,
          2017,
          2018,
          2019,
          2020,
          2021
         ],
         "y": [
          56.597,
          63.097,
          60.489,
          62.78,
          66.151,
          67.047,
          68.007,
          74.574,
          76.873,
          92.235,
          102.574,
          101.929,
          107.651,
          104.919,
          94.516,
          89.579,
          86.414,
          89.275,
          85.701,
          89.749
         ]
        },
        {
         "line": {
          "color": "lightgray"
         },
         "mode": "lines",
         "name": "Cross, AR",
         "opacity": 0.4,
         "showlegend": false,
         "text": "Cross, AR",
         "textposition": "top right",
         "type": "scatter",
         "x": [
          2001,
          2002,
          2003,
          2004,
          2005,
          2006,
          2007,
          2008,
          2009,
          2010,
          2011,
          2013,
          2014,
          2015,
          2016,
          2017,
          2018,
          2019,
          2020,
          2021
         ],
         "y": [
          96.42,
          92.287,
          105.551,
          116.127,
          106.65,
          107.379,
          95.046,
          95.16,
          97.683,
          93.948,
          96.02,
          107.638,
          100.456,
          92.842,
          93.017,
          98.372,
          91.533,
          92.29,
          97.911,
          94.66
         ]
        },
        {
         "line": {
          "color": "lightgray"
         },
         "mode": "lines",
         "name": "San Diego, CA",
         "opacity": 0.4,
         "showlegend": false,
         "text": "San Diego, CA",
         "textposition": "top right",
         "type": "scatter",
         "x": [
          2001,
          2002,
          2003,
          2004,
          2005,
          2006,
          2007,
          2008,
          2009,
          2010,
          2011,
          2013,
          2014,
          2015,
          2016,
          2017,
          2018,
          2019,
          2020,
          2021
         ],
         "y": [
          79.703,
          83.17,
          87.449,
          92.4,
          97.137,
          99.354,
          100.938,
          100.267,
          95.995,
          97.363,
          99.049,
          103.715,
          106.579,
          109.739,
          110.614,
          114.614,
          117.637,
          119.998,
          117.052,
          126.208
         ]
        },
        {
         "line": {
          "color": "lightgray"
         },
         "mode": "lines",
         "name": "Arapahoe, CO",
         "opacity": 0.4,
         "showlegend": false,
         "text": "Arapahoe, CO",
         "textposition": "top right",
         "type": "scatter",
         "x": [
          2001,
          2002,
          2003,
          2004,
          2005,
          2006,
          2007,
          2008,
          2009,
          2010,
          2011,
          2013,
          2014,
          2015,
          2016,
          2017,
          2018,
          2019,
          2020,
          2021
         ],
         "y": [
          99.078,
          97.768,
          96.612,
          93.582,
          95.489,
          98.642,
          100.309,
          94.697,
          90.714,
          93.976,
          97.779,
          106.272,
          111.156,
          115.54,
          117.976,
          120.138,
          125.433,
          127.037,
          125.268,
          131.233
         ]
        },
        {
         "line": {
          "color": "lightgray"
         },
         "mode": "lines",
         "name": "Rio Grande, CO",
         "opacity": 0.4,
         "showlegend": false,
         "text": "Rio Grande, CO",
         "textposition": "top right",
         "type": "scatter",
         "x": [
          2001,
          2002,
          2003,
          2004,
          2005,
          2006,
          2007,
          2008,
          2009,
          2010,
          2011,
          2013,
          2014,
          2015,
          2016,
          2017,
          2018,
          2019,
          2020,
          2021
         ],
         "y": [
          104.992,
          125.879,
          100.99,
          103.4,
          110.497,
          113.393,
          111.361,
          115.628,
          125.365,
          108.597,
          112.051,
          104.743,
          104.044,
          115.898,
          115.835,
          116.46,
          127.049,
          132.65,
          139.113,
          129.396
         ]
        },
        {
         "line": {
          "color": "lightgray"
         },
         "mode": "lines",
         "name": "Talbot, GA",
         "opacity": 0.4,
         "showlegend": false,
         "text": "Talbot, GA",
         "textposition": "top right",
         "type": "scatter",
         "x": [
          2001,
          2002,
          2003,
          2004,
          2005,
          2006,
          2007,
          2008,
          2009,
          2010,
          2011,
          2013,
          2014,
          2015,
          2016,
          2017,
          2018,
          2019,
          2020,
          2021
         ],
         "y": [
          98.633,
          117.226,
          113.195,
          107.203,
          93.423,
          95.968,
          99.657,
          95.078,
          92.899,
          108.159,
          105.365,
          88.869,
          90.341,
          98.664,
          118.836,
          105.561,
          117.88,
          111.337,
          121.837,
          112.161
         ]
        },
        {
         "line": {
          "color": "lightgray"
         },
         "mode": "lines",
         "name": "Union, GA",
         "opacity": 0.4,
         "showlegend": false,
         "text": "Union, GA",
         "textposition": "top right",
         "type": "scatter",
         "x": [
          2001,
          2002,
          2003,
          2004,
          2005,
          2006,
          2007,
          2008,
          2009,
          2010,
          2011,
          2013,
          2014,
          2015,
          2016,
          2017,
          2018,
          2019,
          2020,
          2021
         ],
         "y": [
          76.398,
          80.396,
          86.028,
          91.684,
          100.338,
          101.906,
          101.83,
          99.911,
          101.195,
          102.453,
          95.13,
          100.88,
          102.252,
          114.121,
          114.166,
          114.138,
          114.223,
          117.892,
          121.913,
          126.554
         ]
        },
        {
         "line": {
          "color": "lightgray"
         },
         "mode": "lines",
         "name": "Jerome, ID",
         "opacity": 0.4,
         "showlegend": false,
         "text": "Jerome, ID",
         "textposition": "top right",
         "type": "scatter",
         "x": [
          2001,
          2002,
          2003,
          2004,
          2005,
          2006,
          2007,
          2008,
          2009,
          2010,
          2011,
          2013,
          2014,
          2015,
          2016,
          2017,
          2018,
          2019,
          2020,
          2021
         ],
         "y": [
          78.454,
          74.338,
          73.607,
          77.485,
          82.942,
          87.178,
          92.38,
          93.115,
          79.936,
          97.997,
          93.184,
          102.898,
          115.568,
          113.798,
          122.325,
          119.14,
          125.221,
          130.869,
          134.148,
          134.756
         ]
        },
        {
         "line": {
          "color": "lightgray"
         },
         "mode": "lines",
         "name": "Mercer, IL",
         "opacity": 0.4,
         "showlegend": false,
         "text": "Mercer, IL",
         "textposition": "top right",
         "type": "scatter",
         "x": [
          2001,
          2002,
          2003,
          2004,
          2005,
          2006,
          2007,
          2008,
          2009,
          2010,
          2011,
          2013,
          2014,
          2015,
          2016,
          2017,
          2018,
          2019,
          2020,
          2021
         ],
         "y": [
          73.083,
          75.61,
          88.187,
          85.586,
          81.049,
          82.888,
          80.689,
          93.71,
          94.022,
          94.093,
          104.267,
          108.352,
          112.851,
          88.447,
          95.817,
          95.327,
          96.043,
          90.117,
          95.837,
          100.837
         ]
        },
        {
         "line": {
          "color": "lightgray"
         },
         "mode": "lines",
         "name": "Stark, IL",
         "opacity": 0.4,
         "showlegend": false,
         "text": "Stark, IL",
         "textposition": "top right",
         "type": "scatter",
         "x": [
          2001,
          2002,
          2003,
          2004,
          2005,
          2006,
          2007,
          2008,
          2009,
          2010,
          2011,
          2013,
          2014,
          2015,
          2016,
          2017,
          2018,
          2019,
          2020,
          2021
         ],
         "y": [
          78.365,
          79.856,
          79.16,
          78.32,
          69.795,
          75.144,
          86.618,
          103.214,
          96.271,
          94.25,
          107.512,
          125.069,
          122.992,
          94.848,
          100.526,
          100.116,
          101.377,
          91.501,
          105.705,
          114.346
         ]
        },
        {
         "line": {
          "color": "lightgray"
         },
         "mode": "lines",
         "name": "Washington, IL",
         "opacity": 0.4,
         "showlegend": false,
         "text": "Washington, IL",
         "textposition": "top right",
         "type": "scatter",
         "x": [
          2001,
          2002,
          2003,
          2004,
          2005,
          2006,
          2007,
          2008,
          2009,
          2010,
          2011,
          2013,
          2014,
          2015,
          2016,
          2017,
          2018,
          2019,
          2020,
          2021
         ],
         "y": [
          58.481,
          62.391,
          63.986,
          69.172,
          62.055,
          70.47,
          65.116,
          72.399,
          84.948,
          134.446,
          137.212,
          98.19,
          92.46,
          110.201,
          103.043,
          108.598,
          120.942,
          132.087,
          127.565,
          136.709
         ]
        },
        {
         "line": {
          "color": "lightgray"
         },
         "mode": "lines",
         "name": "Delaware, IN",
         "opacity": 0.4,
         "showlegend": false,
         "text": "Delaware, IN",
         "textposition": "top right",
         "type": "scatter",
         "x": [
          2001,
          2002,
          2003,
          2004,
          2005,
          2006,
          2007,
          2008,
          2009,
          2010,
          2011,
          2013,
          2014,
          2015,
          2016,
          2017,
          2018,
          2019,
          2020,
          2021
         ],
         "y": [
          117.891,
          117.615,
          122.8,
          120.837,
          119.121,
          118.946,
          113.287,
          110.88,
          105.955,
          112.144,
          121.908,
          102.423,
          101.745,
          100.973,
          99.847,
          101.999,
          102.684,
          103.39,
          101.243,
          103.095
         ]
        },
        {
         "line": {
          "color": "lightgray"
         },
         "mode": "lines",
         "name": "Jackson, IN",
         "opacity": 0.4,
         "showlegend": false,
         "text": "Jackson, IN",
         "textposition": "top right",
         "type": "scatter",
         "x": [
          2001,
          2002,
          2003,
          2004,
          2005,
          2006,
          2007,
          2008,
          2009,
          2010,
          2011,
          2013,
          2014,
          2015,
          2016,
          2017,
          2018,
          2019,
          2020,
          2021
         ],
         "y": [
          76.747,
          81.893,
          89.348,
          94.056,
          94.418,
          97.636,
          97.315,
          95.184,
          80.51,
          95.198,
          96.837,
          99.988,
          100.301,
          110.223,
          110.53,
          111.576,
          114.073,
          117.471,
          120.465,
          132.479
         ]
        },
        {
         "line": {
          "color": "lightgray"
         },
         "mode": "lines",
         "name": "Pike, IN",
         "opacity": 0.4,
         "showlegend": false,
         "text": "Pike, IN",
         "textposition": "top right",
         "type": "scatter",
         "x": [
          2001,
          2002,
          2003,
          2004,
          2005,
          2006,
          2007,
          2008,
          2009,
          2010,
          2011,
          2013,
          2014,
          2015,
          2016,
          2017,
          2018,
          2019,
          2020,
          2021
         ],
         "y": [
          94.507,
          92.059,
          90.351,
          90.922,
          85.261,
          89.331,
          88.707,
          92.906,
          95.506,
          104.828,
          94.349,
          111.122,
          107.593,
          87.672,
          90.292,
          92.771,
          77.229,
          81.526,
          72.006,
          79.875
         ]
        },
        {
         "line": {
          "color": "lightgray"
         },
         "mode": "lines",
         "name": "Starke, IN",
         "opacity": 0.4,
         "showlegend": false,
         "text": "Starke, IN",
         "textposition": "top right",
         "type": "scatter",
         "x": [
          2001,
          2002,
          2003,
          2004,
          2005,
          2006,
          2007,
          2008,
          2009,
          2010,
          2011,
          2013,
          2014,
          2015,
          2016,
          2017,
          2018,
          2019,
          2020,
          2021
         ],
         "y": [
          91.837,
          95.486,
          96.126,
          101.736,
          100.597,
          107.707,
          105.766,
          104.615,
          101.841,
          108.774,
          97.772,
          105.095,
          104.762,
          101.711,
          105.323,
          104.049,
          116,
          122.283,
          120.172,
          114.675
         ]
        },
        {
         "line": {
          "color": "lightgray"
         },
         "mode": "lines",
         "name": "Union, IN",
         "opacity": 0.4,
         "showlegend": false,
         "text": "Union, IN",
         "textposition": "top right",
         "type": "scatter",
         "x": [
          2001,
          2002,
          2003,
          2004,
          2005,
          2006,
          2007,
          2008,
          2009,
          2010,
          2011,
          2013,
          2014,
          2015,
          2016,
          2017,
          2018,
          2019,
          2020,
          2021
         ],
         "y": [
          110.452,
          111.239,
          118.306,
          123.429,
          120.034,
          131.542,
          118.281,
          123.672,
          118.166,
          119.282,
          109.054,
          113.131,
          103.996,
          97.511,
          97.783,
          104.149,
          106.705,
          100.376,
          102.876,
          104.866
         ]
        },
        {
         "line": {
          "color": "lightgray"
         },
         "mode": "lines",
         "name": "Henry, IA",
         "opacity": 0.4,
         "showlegend": false,
         "text": "Henry, IA",
         "textposition": "top right",
         "type": "scatter",
         "x": [
          2001,
          2002,
          2003,
          2004,
          2005,
          2006,
          2007,
          2008,
          2009,
          2010,
          2011,
          2013,
          2014,
          2015,
          2016,
          2017,
          2018,
          2019,
          2020,
          2021
         ],
         "y": [
          94.391,
          96.554,
          96.117,
          106.006,
          107.565,
          105.665,
          107.513,
          105.295,
          97.086,
          94.672,
          96.142,
          100.253,
          100.07,
          104.219,
          104.255,
          106.572,
          109.12,
          106.369,
          104.813,
          111.687
         ]
        },
        {
         "line": {
          "color": "lightgray"
         },
         "mode": "lines",
         "name": "Mills, IA",
         "opacity": 0.4,
         "showlegend": false,
         "text": "Mills, IA",
         "textposition": "top right",
         "type": "scatter",
         "x": [
          2001,
          2002,
          2003,
          2004,
          2005,
          2006,
          2007,
          2008,
          2009,
          2010,
          2011,
          2013,
          2014,
          2015,
          2016,
          2017,
          2018,
          2019,
          2020,
          2021
         ],
         "y": [
          73.858,
          76.402,
          78.245,
          82.485,
          81.018,
          83.866,
          79.859,
          89.785,
          101.15,
          90.628,
          90.701,
          99.932,
          94.376,
          92.639,
          97.734,
          102.953,
          108.624,
          120.787,
          106.326,
          111.484
         ]
        },
        {
         "line": {
          "color": "lightgray"
         },
         "mode": "lines",
         "name": "Chase, KS",
         "opacity": 0.4,
         "showlegend": false,
         "text": "Chase, KS",
         "textposition": "top right",
         "type": "scatter",
         "x": [
          2001,
          2002,
          2003,
          2004,
          2005,
          2006,
          2007,
          2008,
          2009,
          2010,
          2011,
          2013,
          2014,
          2015,
          2016,
          2017,
          2018,
          2019,
          2020,
          2021
         ],
         "y": [
          81.484,
          83.089,
          78.491,
          85.728,
          98.653,
          108.086,
          99.361,
          99.933,
          100.073,
          95.668,
          83.88,
          92.966,
          95.79,
          110.109,
          114.696,
          121.365,
          132.605,
          131.129,
          141.788,
          142.483
         ]
        },
        {
         "line": {
          "color": "lightgray"
         },
         "mode": "lines",
         "name": "Phillips, KS",
         "opacity": 0.4,
         "showlegend": false,
         "text": "Phillips, KS",
         "textposition": "top right",
         "type": "scatter",
         "x": [
          2001,
          2002,
          2003,
          2004,
          2005,
          2006,
          2007,
          2008,
          2009,
          2010,
          2011,
          2013,
          2014,
          2015,
          2016,
          2017,
          2018,
          2019,
          2020,
          2021
         ],
         "y": [
          133.001,
          123.342,
          137.005,
          97.875,
          132.663,
          147.735,
          142.985,
          108.843,
          122.812,
          107.848,
          128.861,
          107.362,
          116.899,
          124.473,
          146.388,
          147.199,
          161.753,
          163.368,
          150.49,
          150.103
         ]
        },
        {
         "line": {
          "color": "lightgray"
         },
         "mode": "lines",
         "name": "Sheridan, KS",
         "opacity": 0.4,
         "showlegend": false,
         "text": "Sheridan, KS",
         "textposition": "top right",
         "type": "scatter",
         "x": [
          2001,
          2002,
          2003,
          2004,
          2005,
          2006,
          2007,
          2008,
          2009,
          2010,
          2011,
          2013,
          2014,
          2015,
          2016,
          2017,
          2018,
          2019,
          2020,
          2021
         ],
         "y": [
          72.249,
          63.376,
          76.867,
          66.262,
          90.711,
          45.722,
          104.081,
          87.819,
          110.813,
          93.46,
          104.036,
          129.46,
          98.197,
          99.707,
          114.486,
          89.789,
          69.457,
          65.557,
          90.06,
          87.492
         ]
        },
        {
         "line": {
          "color": "lightgray"
         },
         "mode": "lines",
         "name": "Trego, KS",
         "opacity": 0.4,
         "showlegend": false,
         "text": "Trego, KS",
         "textposition": "top right",
         "type": "scatter",
         "x": [
          2001,
          2002,
          2003,
          2004,
          2005,
          2006,
          2007,
          2008,
          2009,
          2010,
          2011,
          2013,
          2014,
          2015,
          2016,
          2017,
          2018,
          2019,
          2020,
          2021
         ],
         "y": [
          59.371,
          58.653,
          65.018,
          52.345,
          63.43,
          56.159,
          80.968,
          92.131,
          96.065,
          99.99,
          85.288,
          110.18,
          114.658,
          118.967,
          97.169,
          95.456,
          101.891,
          99.406,
          97.748,
          103.649
         ]
        },
        {
         "line": {
          "color": "lightgray"
         },
         "mode": "lines",
         "name": "Carroll, KY",
         "opacity": 0.4,
         "showlegend": false,
         "text": "Carroll, KY",
         "textposition": "top right",
         "type": "scatter",
         "x": [
          2001,
          2002,
          2003,
          2004,
          2005,
          2006,
          2007,
          2008,
          2009,
          2010,
          2011,
          2013,
          2014,
          2015,
          2016,
          2017,
          2018,
          2019,
          2020,
          2021
         ],
         "y": [
          77.61,
          87.523,
          97.341,
          131.559,
          130.092,
          138.778,
          122.484,
          117.258,
          98.235,
          106.357,
          106.286,
          153.825,
          160.837,
          170.704,
          170.069,
          188.703,
          191.552,
          189.385,
          169.613,
          181.777
         ]
        },
        {
         "line": {
          "color": "lightgray"
         },
         "mode": "lines",
         "name": "Daviess, KY",
         "opacity": 0.4,
         "showlegend": false,
         "text": "Daviess, KY",
         "textposition": "top right",
         "type": "scatter",
         "x": [
          2001,
          2002,
          2003,
          2004,
          2005,
          2006,
          2007,
          2008,
          2009,
          2010,
          2011,
          2013,
          2014,
          2015,
          2016,
          2017,
          2018,
          2019,
          2020,
          2021
         ],
         "y": [
          80.323,
          82.198,
          84.604,
          87.482,
          90.308,
          93.655,
          92.819,
          94.718,
          91.782,
          97.31,
          99.753,
          102.041,
          100.32,
          100.067,
          99.484,
          102.71,
          100.87,
          101.277,
          99.979,
          103.443
         ]
        },
        {
         "line": {
          "color": "lightgray"
         },
         "mode": "lines",
         "name": "Garrard, KY",
         "opacity": 0.4,
         "showlegend": false,
         "text": "Garrard, KY",
         "textposition": "top right",
         "type": "scatter",
         "x": [
          2001,
          2002,
          2003,
          2004,
          2005,
          2006,
          2007,
          2008,
          2009,
          2010,
          2011,
          2013,
          2014,
          2015,
          2016,
          2017,
          2018,
          2019,
          2020,
          2021
         ],
         "y": [
          94.628,
          91.75,
          94.178,
          99.774,
          98.267,
          97.429,
          95.988,
          90.424,
          89.348,
          92.54,
          91.995,
          106.526,
          105.488,
          107.083,
          112.244,
          111.885,
          112.792,
          112.01,
          107.925,
          111.471
         ]
        },
        {
         "line": {
          "color": "lightgray"
         },
         "mode": "lines",
         "name": "McLean, KY",
         "opacity": 0.4,
         "showlegend": false,
         "text": "McLean, KY",
         "textposition": "top right",
         "type": "scatter",
         "x": [
          2001,
          2002,
          2003,
          2004,
          2005,
          2006,
          2007,
          2008,
          2009,
          2010,
          2011,
          2013,
          2014,
          2015,
          2016,
          2017,
          2018,
          2019,
          2020,
          2021
         ],
         "y": [
          100.957,
          89.514,
          102.726,
          117.42,
          114.434,
          115.574,
          111.414,
          101.549,
          126.568,
          117.431,
          111.233,
          111.49,
          122.039,
          129.039,
          128.798,
          128.602,
          128.323,
          118.931,
          91.68,
          107.716
         ]
        },
        {
         "line": {
          "color": "lightgray"
         },
         "mode": "lines",
         "name": "Union, KY",
         "opacity": 0.4,
         "showlegend": false,
         "text": "Union, KY",
         "textposition": "top right",
         "type": "scatter",
         "x": [
          2001,
          2002,
          2003,
          2004,
          2005,
          2006,
          2007,
          2008,
          2009,
          2010,
          2011,
          2013,
          2014,
          2015,
          2016,
          2017,
          2018,
          2019,
          2020,
          2021
         ],
         "y": [
          66.783,
          64.955,
          73.562,
          76.423,
          82.501,
          80.388,
          78.547,
          77.896,
          81.762,
          96.916,
          110.428,
          116.84,
          99.776,
          83.958,
          84.136,
          80.622,
          83.236,
          90.027,
          93.807,
          79.472
         ]
        },
        {
         "line": {
          "color": "lightgray"
         },
         "mode": "lines",
         "name": "LaSalle, LA",
         "opacity": 0.4,
         "showlegend": false,
         "text": "LaSalle, LA",
         "textposition": "top right",
         "type": "scatter",
         "x": [
          2001,
          2002,
          2003,
          2004,
          2005,
          2006,
          2007,
          2008,
          2009,
          2010,
          2011,
          2013,
          2014,
          2015,
          2016,
          2017,
          2018,
          2019,
          2020,
          2021
         ],
         "y": [
          78.421,
          78.621,
          66.221,
          68.234,
          65.674,
          75.711,
          73.27,
          78.026,
          103.056,
          93.048,
          92.313,
          93.08,
          84.473,
          78.158,
          75.881,
          75.43,
          81.021,
          84.163,
          79.285,
          76.832
         ]
        },
        {
         "line": {
          "color": "lightgray"
         },
         "mode": "lines",
         "name": "Lincoln, ME",
         "opacity": 0.4,
         "showlegend": false,
         "text": "Lincoln, ME",
         "textposition": "top right",
         "type": "scatter",
         "x": [
          2001,
          2002,
          2003,
          2004,
          2005,
          2006,
          2007,
          2008,
          2009,
          2010,
          2011,
          2013,
          2014,
          2015,
          2016,
          2017,
          2018,
          2019,
          2020,
          2021
         ],
         "y": [
          91.251,
          96.441,
          99.245,
          102.951,
          105.262,
          107.272,
          109.632,
          100.59,
          97.428,
          102.259,
          101.875,
          95.283,
          98.195,
          99.242,
          98.296,
          98.83,
          101.296,
          105.368,
          105.007,
          115.208
         ]
        },
        {
         "line": {
          "color": "lightgray"
         },
         "mode": "lines",
         "name": "St. Mary's, MD",
         "opacity": 0.4,
         "showlegend": false,
         "text": "St. Mary's, MD",
         "textposition": "top right",
         "type": "scatter",
         "x": [
          2001,
          2002,
          2003,
          2004,
          2005,
          2006,
          2007,
          2008,
          2009,
          2010,
          2011,
          2013,
          2014,
          2015,
          2016,
          2017,
          2018,
          2019,
          2020,
          2021
         ],
         "y": [
          65.19,
          69.553,
          73.864,
          76.978,
          78.943,
          81.506,
          84.175,
          85.892,
          87.87,
          94.903,
          99.919,
          99.178,
          100.52,
          103.14,
          105.828,
          107.912,
          108.646,
          110.643,
          112.812,
          114.898
         ]
        },
        {
         "line": {
          "color": "lightgray"
         },
         "mode": "lines",
         "name": "Hampshire, MA",
         "opacity": 0.4,
         "showlegend": false,
         "text": "Hampshire, MA",
         "textposition": "top right",
         "type": "scatter",
         "x": [
          2001,
          2002,
          2003,
          2004,
          2005,
          2006,
          2007,
          2008,
          2009,
          2010,
          2011,
          2013,
          2014,
          2015,
          2016,
          2017,
          2018,
          2019,
          2020,
          2021
         ],
         "y": [
          86.861,
          89.321,
          90.367,
          92.263,
          93.682,
          92.114,
          93.438,
          95.821,
          96.172,
          98.14,
          100.433,
          102.568,
          102.258,
          107.171,
          108.796,
          112.289,
          113.233,
          114.641,
          106.335,
          111.128
         ]
        },
        {
         "line": {
          "color": "lightgray"
         },
         "mode": "lines",
         "name": "Keweenaw, MI",
         "opacity": 0.4,
         "showlegend": false,
         "text": "Keweenaw, MI",
         "textposition": "top right",
         "type": "scatter",
         "x": [
          2001,
          2002,
          2003,
          2004,
          2005,
          2006,
          2007,
          2008,
          2009,
          2010,
          2011,
          2013,
          2014,
          2015,
          2016,
          2017,
          2018,
          2019,
          2020,
          2021
         ],
         "y": [
          124.341,
          124.37,
          119.516,
          111.824,
          109.636,
          96.11,
          99.621,
          90.914,
          99.279,
          96.89,
          99.948,
          99.05,
          101.232,
          107.912,
          110.219,
          102.98,
          102.942,
          110.235,
          108.302,
          114.341
         ]
        },
        {
         "line": {
          "color": "lightgray"
         },
         "mode": "lines",
         "name": "Missaukee, MI",
         "opacity": 0.4,
         "showlegend": false,
         "text": "Missaukee, MI",
         "textposition": "top right",
         "type": "scatter",
         "x": [
          2001,
          2002,
          2003,
          2004,
          2005,
          2006,
          2007,
          2008,
          2009,
          2010,
          2011,
          2013,
          2014,
          2015,
          2016,
          2017,
          2018,
          2019,
          2020,
          2021
         ],
         "y": [
          77.074,
          84.049,
          82.877,
          93.974,
          100.257,
          99.866,
          107.03,
          99.696,
          97.122,
          98.854,
          104.25,
          113.405,
          145.897,
          128.045,
          112.548,
          134.409,
          130.294,
          137.101,
          130.498,
          124.869
         ]
        },
        {
         "line": {
          "color": "lightgray"
         },
         "mode": "lines",
         "name": "Brown, MN",
         "opacity": 0.4,
         "showlegend": false,
         "text": "Brown, MN",
         "textposition": "top right",
         "type": "scatter",
         "x": [
          2001,
          2002,
          2003,
          2004,
          2005,
          2006,
          2007,
          2008,
          2009,
          2010,
          2011,
          2013,
          2014,
          2015,
          2016,
          2017,
          2018,
          2019,
          2020,
          2021
         ],
         "y": [
          96.508,
          94.737,
          95.259,
          102.682,
          103.002,
          107.057,
          104.204,
          112.467,
          105.559,
          101.504,
          98.813,
          101.593,
          104.845,
          107.805,
          116.925,
          118.351,
          121.479,
          114.213,
          105.429,
          108.964
         ]
        },
        {
         "line": {
          "color": "lightgray"
         },
         "mode": "lines",
         "name": "Cook, MN",
         "opacity": 0.4,
         "showlegend": false,
         "text": "Cook, MN",
         "textposition": "top right",
         "type": "scatter",
         "x": [
          2001,
          2002,
          2003,
          2004,
          2005,
          2006,
          2007,
          2008,
          2009,
          2010,
          2011,
          2013,
          2014,
          2015,
          2016,
          2017,
          2018,
          2019,
          2020,
          2021
         ],
         "y": [
          85.704,
          100.825,
          97.495,
          111.076,
          104.164,
          102.424,
          99.757,
          96.743,
          93.441,
          104.566,
          102.65,
          102.652,
          96.44,
          98.337,
          90.326,
          80.851,
          89.268,
          82.455,
          85.585,
          81.254
         ]
        },
        {
         "line": {
          "color": "lightgray"
         },
         "mode": "lines",
         "name": "Le Sueur, MN",
         "opacity": 0.4,
         "showlegend": false,
         "text": "Le Sueur, MN",
         "textposition": "top right",
         "type": "scatter",
         "x": [
          2001,
          2002,
          2003,
          2004,
          2005,
          2006,
          2007,
          2008,
          2009,
          2010,
          2011,
          2013,
          2014,
          2015,
          2016,
          2017,
          2018,
          2019,
          2020,
          2021
         ],
         "y": [
          88.579,
          93.425,
          92.561,
          94.964,
          94.094,
          93.508,
          90.576,
          92.278,
          86.42,
          93.54,
          97.216,
          100.394,
          106.85,
          100.144,
          107.588,
          111.685,
          112.015,
          108.803,
          106.109,
          105.411
         ]
        },
        {
         "line": {
          "color": "lightgray"
         },
         "mode": "lines",
         "name": "Kemper, MS",
         "opacity": 0.4,
         "showlegend": false,
         "text": "Kemper, MS",
         "textposition": "top right",
         "type": "scatter",
         "x": [
          2001,
          2002,
          2003,
          2004,
          2005,
          2006,
          2007,
          2008,
          2009,
          2010,
          2011,
          2013,
          2014,
          2015,
          2016,
          2017,
          2018,
          2019,
          2020,
          2021
         ],
         "y": [
          55.176,
          58.459,
          59.253,
          61.111,
          65.361,
          65.194,
          58.234,
          219.987,
          183.708,
          134.661,
          87.28,
          155.901,
          149.417,
          154.593,
          162.309,
          139.127,
          121.292,
          115.603,
          104.514,
          94.491
         ]
        },
        {
         "line": {
          "color": "lightgray"
         },
         "mode": "lines",
         "name": "Lawrence, MS",
         "opacity": 0.4,
         "showlegend": false,
         "text": "Lawrence, MS",
         "textposition": "top right",
         "type": "scatter",
         "x": [
          2001,
          2002,
          2003,
          2004,
          2005,
          2006,
          2007,
          2008,
          2009,
          2010,
          2011,
          2013,
          2014,
          2015,
          2016,
          2017,
          2018,
          2019,
          2020,
          2021
         ],
         "y": [
          86.151,
          84.134,
          91.274,
          104.805,
          101.058,
          96.446,
          91.906,
          91.911,
          95.057,
          98.164,
          87.194,
          104.339,
          104.549,
          108.119,
          96.245,
          99.013,
          101.868,
          93.205,
          90.542,
          91.806
         ]
        },
        {
         "line": {
          "color": "lightgray"
         },
         "mode": "lines",
         "name": "Marshall, MS",
         "opacity": 0.4,
         "showlegend": false,
         "text": "Marshall, MS",
         "textposition": "top right",
         "type": "scatter",
         "x": [
          2001,
          2002,
          2003,
          2004,
          2005,
          2006,
          2007,
          2008,
          2009,
          2010,
          2011,
          2013,
          2014,
          2015,
          2016,
          2017,
          2018,
          2019,
          2020,
          2021
         ],
         "y": [
          92.693,
          93.68,
          95.369,
          99.103,
          104.53,
          101.768,
          90.499,
          96.88,
          95.154,
          101.568,
          101.02,
          102.526,
          99.012,
          107.003,
          103.676,
          108.854,
          114.291,
          120.903,
          132.902,
          138.588
         ]
        },
        {
         "line": {
          "color": "lightgray"
         },
         "mode": "lines",
         "name": "Warren, MS",
         "opacity": 0.4,
         "showlegend": false,
         "text": "Warren, MS",
         "textposition": "top right",
         "type": "scatter",
         "x": [
          2001,
          2002,
          2003,
          2004,
          2005,
          2006,
          2007,
          2008,
          2009,
          2010,
          2011,
          2013,
          2014,
          2015,
          2016,
          2017,
          2018,
          2019,
          2020,
          2021
         ],
         "y": [
          93.757,
          92.566,
          97.647,
          96.347,
          105.902,
          104.96,
          95.813,
          113.347,
          102.697,
          93.129,
          96.534,
          90.82,
          84.969,
          84.794,
          88.141,
          91.446,
          93.994,
          93.554,
          95.238,
          98.182
         ]
        },
        {
         "line": {
          "color": "lightgray"
         },
         "mode": "lines",
         "name": "Carter, MO",
         "opacity": 0.4,
         "showlegend": false,
         "text": "Carter, MO",
         "textposition": "top right",
         "type": "scatter",
         "x": [
          2001,
          2002,
          2003,
          2004,
          2005,
          2006,
          2007,
          2008,
          2009,
          2010,
          2011,
          2013,
          2014,
          2015,
          2016,
          2017,
          2018,
          2019,
          2020,
          2021
         ],
         "y": [
          124.16,
          131.513,
          127.25,
          122.934,
          121.886,
          90.574,
          87.547,
          107.881,
          111.335,
          106.357,
          103.316,
          97.549,
          97.047,
          97.788,
          95.54,
          96.443,
          96.207,
          98.304,
          97.04,
          99.864
         ]
        },
        {
         "line": {
          "color": "lightgray"
         },
         "mode": "lines",
         "name": "Shelby, MO",
         "opacity": 0.4,
         "showlegend": false,
         "text": "Shelby, MO",
         "textposition": "top right",
         "type": "scatter",
         "x": [
          2001,
          2002,
          2003,
          2004,
          2005,
          2006,
          2007,
          2008,
          2009,
          2010,
          2011,
          2013,
          2014,
          2015,
          2016,
          2017,
          2018,
          2019,
          2020,
          2021
         ],
         "y": [
          114.398,
          98.399,
          109.708,
          143.055,
          118.673,
          157.543,
          105.392,
          99.81,
          119.714,
          112.535,
          115.122,
          113.995,
          108.092,
          84.852,
          82.344,
          85.228,
          88.045,
          83.019,
          95.633,
          98.622
         ]
        },
        {
         "line": {
          "color": "lightgray"
         },
         "mode": "lines",
         "name": "Taney, MO",
         "opacity": 0.4,
         "showlegend": false,
         "text": "Taney, MO",
         "textposition": "top right",
         "type": "scatter",
         "x": [
          2001,
          2002,
          2003,
          2004,
          2005,
          2006,
          2007,
          2008,
          2009,
          2010,
          2011,
          2013,
          2014,
          2015,
          2016,
          2017,
          2018,
          2019,
          2020,
          2021
         ],
         "y": [
          83.682,
          84.756,
          85.324,
          83.514,
          88.412,
          89.617,
          95.733,
          95.833,
          93.105,
          98.773,
          97.931,
          104.598,
          103.609,
          104.152,
          104.367,
          104.645,
          108.119,
          109.898,
          94.947,
          106.1
         ]
        },
        {
         "line": {
          "color": "lightgray"
         },
         "mode": "lines",
         "name": "Vernon, MO",
         "opacity": 0.4,
         "showlegend": false,
         "text": "Vernon, MO",
         "textposition": "top right",
         "type": "scatter",
         "x": [
          2001,
          2002,
          2003,
          2004,
          2005,
          2006,
          2007,
          2008,
          2009,
          2010,
          2011,
          2013,
          2014,
          2015,
          2016,
          2017,
          2018,
          2019,
          2020,
          2021
         ],
         "y": [
          73.32,
          71.269,
          74.075,
          77.282,
          74.218,
          74.977,
          75.294,
          82.084,
          89.256,
          94.642,
          88.04,
          112.54,
          123.418,
          104.933,
          99.094,
          103.628,
          97.602,
          96.372,
          94.903,
          93.697
         ]
        },
        {
         "line": {
          "color": "lightgray"
         },
         "mode": "lines",
         "name": "Gallatin, MT",
         "opacity": 0.4,
         "showlegend": false,
         "text": "Gallatin, MT",
         "textposition": "top right",
         "type": "scatter",
         "x": [
          2001,
          2002,
          2003,
          2004,
          2005,
          2006,
          2007,
          2008,
          2009,
          2010,
          2011,
          2013,
          2014,
          2015,
          2016,
          2017,
          2018,
          2019,
          2020,
          2021
         ],
         "y": [
          57.913,
          61.661,
          68.284,
          78.044,
          85.566,
          91.796,
          94.931,
          95.218,
          90.368,
          90.963,
          96.793,
          104.044,
          109.181,
          114.969,
          120.109,
          127.332,
          133.366,
          142.255,
          146.891,
          164.002
         ]
        },
        {
         "line": {
          "color": "lightgray"
         },
         "mode": "lines",
         "name": "Lincoln, MT",
         "opacity": 0.4,
         "showlegend": false,
         "text": "Lincoln, MT",
         "textposition": "top right",
         "type": "scatter",
         "x": [
          2001,
          2002,
          2003,
          2004,
          2005,
          2006,
          2007,
          2008,
          2009,
          2010,
          2011,
          2013,
          2014,
          2015,
          2016,
          2017,
          2018,
          2019,
          2020,
          2021
         ],
         "y": [
          78.589,
          85.308,
          84.685,
          85.461,
          89.01,
          94.595,
          99.538,
          98.701,
          94.087,
          100.56,
          100.178,
          94.121,
          95.995,
          94.55,
          99.049,
          96.943,
          98.789,
          96.393,
          98.521,
          100.811
         ]
        },
        {
         "line": {
          "color": "lightgray"
         },
         "mode": "lines",
         "name": "Burt, NE",
         "opacity": 0.4,
         "showlegend": false,
         "text": "Burt, NE",
         "textposition": "top right",
         "type": "scatter",
         "x": [
          2001,
          2002,
          2003,
          2004,
          2005,
          2006,
          2007,
          2008,
          2009,
          2010,
          2011,
          2013,
          2014,
          2015,
          2016,
          2017,
          2018,
          2019,
          2020,
          2021
         ],
         "y": [
          76.92,
          79.926,
          85.224,
          85.276,
          84.406,
          76.334,
          90.711,
          94.204,
          106.306,
          107.526,
          107.259,
          104.337,
          99.513,
          110.207,
          109.116,
          112.299,
          122.053,
          126.46,
          122.548,
          127.747
         ]
        },
        {
         "line": {
          "color": "lightgray"
         },
         "mode": "lines",
         "name": "Clay, NE",
         "opacity": 0.4,
         "showlegend": false,
         "text": "Clay, NE",
         "textposition": "top right",
         "type": "scatter",
         "x": [
          2001,
          2002,
          2003,
          2004,
          2005,
          2006,
          2007,
          2008,
          2009,
          2010,
          2011,
          2013,
          2014,
          2015,
          2016,
          2017,
          2018,
          2019,
          2020,
          2021
         ],
         "y": [
          66.283,
          66.121,
          79.005,
          79.581,
          89.843,
          81.531,
          83.971,
          91.782,
          83.772,
          91.649,
          111.354,
          119.22,
          103.675,
          95.821,
          99.388,
          84.706,
          85.611,
          91.498,
          98.431,
          102.366
         ]
        },
        {
         "line": {
          "color": "lightgray"
         },
         "mode": "lines",
         "name": "Hooker, NE",
         "opacity": 0.4,
         "showlegend": false,
         "text": "Hooker, NE",
         "textposition": "top right",
         "type": "scatter",
         "x": [
          2001,
          2002,
          2003,
          2004,
          2005,
          2006,
          2007,
          2008,
          2009,
          2010,
          2011,
          2013,
          2014,
          2015,
          2016,
          2017,
          2018,
          2019,
          2020,
          2021
         ],
         "y": [
          77.782,
          93.935,
          95.101,
          82.742,
          85.908,
          87.911,
          92.438,
          88.681,
          91.427,
          105.905,
          112.948,
          148.694,
          202.846,
          219.562,
          205.258,
          125.04,
          147.725,
          124.448,
          112.521,
          106.655
         ]
        },
        {
         "line": {
          "color": "lightgray"
         },
         "mode": "lines",
         "name": "Wayne, NE",
         "opacity": 0.4,
         "showlegend": false,
         "text": "Wayne, NE",
         "textposition": "top right",
         "type": "scatter",
         "x": [
          2001,
          2002,
          2003,
          2004,
          2005,
          2006,
          2007,
          2008,
          2009,
          2010,
          2011,
          2013,
          2014,
          2015,
          2016,
          2017,
          2018,
          2019,
          2020,
          2021
         ],
         "y": [
          79.632,
          79.224,
          87.044,
          89.4,
          92.48,
          87.391,
          100.054,
          103.962,
          109.172,
          118.234,
          118.762,
          98.409,
          90.181,
          93.008,
          90.23,
          103.97,
          104.575,
          111.099,
          130.732,
          139.071
         ]
        },
        {
         "line": {
          "color": "lightgray"
         },
         "mode": "lines",
         "name": "Mineral, NV",
         "opacity": 0.4,
         "showlegend": false,
         "text": "Mineral, NV",
         "textposition": "top right",
         "type": "scatter",
         "x": [
          2001,
          2002,
          2003,
          2004,
          2005,
          2006,
          2007,
          2008,
          2009,
          2010,
          2011,
          2013,
          2014,
          2015,
          2016,
          2017,
          2018,
          2019,
          2020,
          2021
         ],
         "y": [
          101.206,
          101.978,
          108.085,
          118,
          111.121,
          105.813,
          102.429,
          109.623,
          113.26,
          128.157,
          122.479,
          94.795,
          97.396,
          95.915,
          102.828,
          110.902,
          114.453,
          124.849,
          127.562,
          131.474
         ]
        },
        {
         "line": {
          "color": "lightgray"
         },
         "mode": "lines",
         "name": "Lea, NM",
         "opacity": 0.4,
         "showlegend": false,
         "text": "Lea, NM",
         "textposition": "top right",
         "type": "scatter",
         "x": [
          2001,
          2002,
          2003,
          2004,
          2005,
          2006,
          2007,
          2008,
          2009,
          2010,
          2011,
          2013,
          2014,
          2015,
          2016,
          2017,
          2018,
          2019,
          2020,
          2021
         ],
         "y": [
          57.659,
          59.178,
          56.417,
          59.91,
          63.598,
          77.753,
          85.601,
          83.997,
          86.045,
          82.704,
          89.515,
          101.64,
          108.377,
          109.779,
          96.703,
          102.086,
          117.497,
          138.515,
          135.549,
          119.312
         ]
        },
        {
         "line": {
          "color": "lightgray"
         },
         "mode": "lines",
         "name": "Brunswick, NC",
         "opacity": 0.4,
         "showlegend": false,
         "text": "Brunswick, NC",
         "textposition": "top right",
         "type": "scatter",
         "x": [
          2001,
          2002,
          2003,
          2004,
          2005,
          2006,
          2007,
          2008,
          2009,
          2010,
          2011,
          2013,
          2014,
          2015,
          2016,
          2017,
          2018,
          2019,
          2020,
          2021
         ],
         "y": [
          76.524,
          74.588,
          77.761,
          87.451,
          92.243,
          94.498,
          95.154,
          95.401,
          94.171,
          98.518,
          99.102,
          99.046,
          100.989,
          105.408,
          112.954,
          116.223,
          113.75,
          111.882,
          110.416,
          115.774
         ]
        },
        {
         "line": {
          "color": "lightgray"
         },
         "mode": "lines",
         "name": "Craven, NC",
         "opacity": 0.4,
         "showlegend": false,
         "text": "Craven, NC",
         "textposition": "top right",
         "type": "scatter",
         "x": [
          2001,
          2002,
          2003,
          2004,
          2005,
          2006,
          2007,
          2008,
          2009,
          2010,
          2011,
          2013,
          2014,
          2015,
          2016,
          2017,
          2018,
          2019,
          2020,
          2021
         ],
         "y": [
          86.406,
          85.201,
          89.686,
          93.797,
          100.523,
          102,
          105.195,
          102.87,
          99.444,
          101.815,
          100.217,
          104.377,
          107.764,
          108.287,
          97.122,
          99.087,
          97.592,
          101.356,
          101.186,
          106.227
         ]
        },
        {
         "line": {
          "color": "lightgray"
         },
         "mode": "lines",
         "name": "Duplin, NC",
         "opacity": 0.4,
         "showlegend": false,
         "text": "Duplin, NC",
         "textposition": "top right",
         "type": "scatter",
         "x": [
          2001,
          2002,
          2003,
          2004,
          2005,
          2006,
          2007,
          2008,
          2009,
          2010,
          2011,
          2013,
          2014,
          2015,
          2016,
          2017,
          2018,
          2019,
          2020,
          2021
         ],
         "y": [
          120.095,
          107.213,
          110.72,
          122.2,
          120.997,
          135.234,
          137.124,
          136.911,
          132.202,
          124.247,
          104.12,
          103.816,
          107.108,
          104.525,
          100.667,
          103.073,
          98.294,
          96.758,
          96.047,
          106.857
         ]
        },
        {
         "line": {
          "color": "lightgray"
         },
         "mode": "lines",
         "name": "Mitchell, NC",
         "opacity": 0.4,
         "showlegend": false,
         "text": "Mitchell, NC",
         "textposition": "top right",
         "type": "scatter",
         "x": [
          2001,
          2002,
          2003,
          2004,
          2005,
          2006,
          2007,
          2008,
          2009,
          2010,
          2011,
          2013,
          2014,
          2015,
          2016,
          2017,
          2018,
          2019,
          2020,
          2021
         ],
         "y": [
          111.648,
          107.587,
          108.85,
          113.43,
          113.851,
          109.632,
          105.831,
          99.425,
          95.762,
          110.592,
          97.677,
          99.329,
          100.111,
          96.167,
          100.381,
          104.263,
          112.199,
          116.809,
          103.607,
          107.461
         ]
        },
        {
         "line": {
          "color": "lightgray"
         },
         "mode": "lines",
         "name": "Pamlico, NC",
         "opacity": 0.4,
         "showlegend": false,
         "text": "Pamlico, NC",
         "textposition": "top right",
         "type": "scatter",
         "x": [
          2001,
          2002,
          2003,
          2004,
          2005,
          2006,
          2007,
          2008,
          2009,
          2010,
          2011,
          2013,
          2014,
          2015,
          2016,
          2017,
          2018,
          2019,
          2020,
          2021
         ],
         "y": [
          84.846,
          85.278,
          86.808,
          87.772,
          94.646,
          97.384,
          97.185,
          108.574,
          103.857,
          105.589,
          93.393,
          106.879,
          104.909,
          101.306,
          91.578,
          94.679,
          92.826,
          97.222,
          94.414,
          98.826
         ]
        },
        {
         "line": {
          "color": "lightgray"
         },
         "mode": "lines",
         "name": "Perquimans, NC",
         "opacity": 0.4,
         "showlegend": false,
         "text": "Perquimans, NC",
         "textposition": "top right",
         "type": "scatter",
         "x": [
          2001,
          2002,
          2003,
          2004,
          2005,
          2006,
          2007,
          2008,
          2009,
          2010,
          2011,
          2013,
          2014,
          2015,
          2016,
          2017,
          2018,
          2019,
          2020,
          2021
         ],
         "y": [
          88.577,
          86.048,
          96.469,
          97.166,
          109.975,
          113.947,
          104.146,
          97.47,
          98.354,
          103.459,
          103.67,
          91.474,
          91.374,
          89.485,
          85.622,
          106.81,
          111.81,
          118.178,
          119.291,
          127.755
         ]
        },
        {
         "line": {
          "color": "lightgray"
         },
         "mode": "lines",
         "name": "Bottineau, ND",
         "opacity": 0.4,
         "showlegend": false,
         "text": "Bottineau, ND",
         "textposition": "top right",
         "type": "scatter",
         "x": [
          2001,
          2002,
          2003,
          2004,
          2005,
          2006,
          2007,
          2008,
          2009,
          2010,
          2011,
          2013,
          2014,
          2015,
          2016,
          2017,
          2018,
          2019,
          2020,
          2021
         ],
         "y": [
          41.355,
          47.232,
          54.248,
          39.976,
          45.576,
          43.097,
          58.25,
          72.222,
          83.654,
          72.176,
          76.281,
          101.084,
          111.475,
          87.021,
          76.528,
          84.096,
          115.506,
          93.326,
          91.073,
          85.332
         ]
        },
        {
         "line": {
          "color": "lightgray"
         },
         "mode": "lines",
         "name": "Golden Valley, ND",
         "opacity": 0.4,
         "showlegend": false,
         "text": "Golden Valley, ND",
         "textposition": "top right",
         "type": "scatter",
         "x": [
          2001,
          2002,
          2003,
          2004,
          2005,
          2006,
          2007,
          2008,
          2009,
          2010,
          2011,
          2013,
          2014,
          2015,
          2016,
          2017,
          2018,
          2019,
          2020,
          2021
         ],
         "y": [
          45.415,
          46.89,
          56.705,
          48.291,
          59.205,
          72.854,
          73.855,
          69.151,
          61.569,
          77.153,
          79.705,
          112.559,
          108.234,
          121.771,
          95.716,
          100.086,
          92.731,
          80.652,
          73.35,
          80.63
         ]
        },
        {
         "line": {
          "color": "lightgray"
         },
         "mode": "lines",
         "name": "McIntosh, ND",
         "opacity": 0.4,
         "showlegend": false,
         "text": "McIntosh, ND",
         "textposition": "top right",
         "type": "scatter",
         "x": [
          2001,
          2002,
          2003,
          2004,
          2005,
          2006,
          2007,
          2008,
          2009,
          2010,
          2011,
          2013,
          2014,
          2015,
          2016,
          2017,
          2018,
          2019,
          2020,
          2021
         ],
         "y": [
          64.604,
          62.246,
          71.323,
          74.831,
          77.219,
          62.376,
          66.186,
          73.571,
          77.194,
          76.207,
          92.772,
          95.334,
          122.683,
          111.602,
          97.34,
          107.822,
          95.711,
          97.68,
          96.632,
          106.444
         ]
        },
        {
         "line": {
          "color": "lightgray"
         },
         "mode": "lines",
         "name": "Harrison, OH",
         "opacity": 0.4,
         "showlegend": false,
         "text": "Harrison, OH",
         "textposition": "top right",
         "type": "scatter",
         "x": [
          2001,
          2002,
          2003,
          2004,
          2005,
          2006,
          2007,
          2008,
          2009,
          2010,
          2011,
          2013,
          2014,
          2015,
          2016,
          2017,
          2018,
          2019,
          2020,
          2021
         ],
         "y": [
          93.913,
          93.229,
          93.64,
          93.155,
          93.276,
          89.81,
          87.816,
          89.424,
          93.062,
          97.995,
          104.058,
          163.371,
          216.75,
          335.468,
          353.875,
          292.714,
          257.981,
          303.767,
          375.74,
          297.132
         ]
        },
        {
         "line": {
          "color": "lightgray"
         },
         "mode": "lines",
         "name": "Marion, OH",
         "opacity": 0.4,
         "showlegend": false,
         "text": "Marion, OH",
         "textposition": "top right",
         "type": "scatter",
         "x": [
          2001,
          2002,
          2003,
          2004,
          2005,
          2006,
          2007,
          2008,
          2009,
          2010,
          2011,
          2013,
          2014,
          2015,
          2016,
          2017,
          2018,
          2019,
          2020,
          2021
         ],
         "y": [
          94.785,
          98.38,
          101.945,
          104.029,
          107.37,
          105.548,
          105.806,
          102.943,
          98.079,
          95.444,
          99.597,
          102.79,
          102.177,
          106.529,
          104.983,
          105.53,
          105.665,
          104.024,
          99.817,
          105.127
         ]
        },
        {
         "line": {
          "color": "lightgray"
         },
         "mode": "lines",
         "name": "Meigs, OH",
         "opacity": 0.4,
         "showlegend": false,
         "text": "Meigs, OH",
         "textposition": "top right",
         "type": "scatter",
         "x": [
          2001,
          2002,
          2003,
          2004,
          2005,
          2006,
          2007,
          2008,
          2009,
          2010,
          2011,
          2013,
          2014,
          2015,
          2016,
          2017,
          2018,
          2019,
          2020,
          2021
         ],
         "y": [
          131.617,
          112.632,
          98.879,
          97.608,
          108.847,
          113.812,
          102.795,
          93.259,
          105.101,
          108.101,
          103.35,
          107.266,
          96.767,
          101.725,
          94.55,
          92.841,
          93.256,
          99.011,
          96.888,
          98.533
         ]
        },
        {
         "line": {
          "color": "lightgray"
         },
         "mode": "lines",
         "name": "Mercer, OH",
         "opacity": 0.4,
         "showlegend": false,
         "text": "Mercer, OH",
         "textposition": "top right",
         "type": "scatter",
         "x": [
          2001,
          2002,
          2003,
          2004,
          2005,
          2006,
          2007,
          2008,
          2009,
          2010,
          2011,
          2013,
          2014,
          2015,
          2016,
          2017,
          2018,
          2019,
          2020,
          2021
         ],
         "y": [
          71.829,
          76.774,
          74.946,
          84.785,
          83.749,
          82.661,
          90.498,
          98.116,
          87.181,
          91.799,
          97.337,
          114.687,
          120.261,
          138.088,
          128.236,
          133.108,
          144.701,
          125.205,
          121.992,
          127.95
         ]
        },
        {
         "line": {
          "color": "lightgray"
         },
         "mode": "lines",
         "name": "Tulsa, OK",
         "opacity": 0.4,
         "showlegend": false,
         "text": "Tulsa, OK",
         "textposition": "top right",
         "type": "scatter",
         "x": [
          2001,
          2002,
          2003,
          2004,
          2005,
          2006,
          2007,
          2008,
          2009,
          2010,
          2011,
          2013,
          2014,
          2015,
          2016,
          2017,
          2018,
          2019,
          2020,
          2021
         ],
         "y": [
          78.751,
          78.669,
          78.146,
          80.942,
          85.64,
          94.622,
          94.52,
          96.91,
          91.647,
          89.732,
          94.378,
          100.793,
          108.65,
          112.112,
          105.427,
          109.503,
          113.058,
          114.771,
          109.566,
          109.728
         ]
        },
        {
         "line": {
          "color": "lightgray"
         },
         "mode": "lines",
         "name": "Gilliam, OR",
         "opacity": 0.4,
         "showlegend": false,
         "text": "Gilliam, OR",
         "textposition": "top right",
         "type": "scatter",
         "x": [
          2001,
          2002,
          2003,
          2004,
          2005,
          2006,
          2007,
          2008,
          2009,
          2010,
          2011,
          2013,
          2014,
          2015,
          2016,
          2017,
          2018,
          2019,
          2020,
          2021
         ],
         "y": [
          51.438,
          47.82,
          34.626,
          32.582,
          32.371,
          41.018,
          45.562,
          56.822,
          61.645,
          75.375,
          97.663,
          125.775,
          121.076,
          122.934,
          121.537,
          114.841,
          116.404,
          116.264,
          154.927,
          137.781
         ]
        },
        {
         "line": {
          "color": "lightgray"
         },
         "mode": "lines",
         "name": "Malheur, OR",
         "opacity": 0.4,
         "showlegend": false,
         "text": "Malheur, OR",
         "textposition": "top right",
         "type": "scatter",
         "x": [
          2001,
          2002,
          2003,
          2004,
          2005,
          2006,
          2007,
          2008,
          2009,
          2010,
          2011,
          2013,
          2014,
          2015,
          2016,
          2017,
          2018,
          2019,
          2020,
          2021
         ],
         "y": [
          108.94,
          113.979,
          110.852,
          104.929,
          118.848,
          126.648,
          114.865,
          102.184,
          111.928,
          104.705,
          102.589,
          107.549,
          124.95,
          133.278,
          139.908,
          142.022,
          142.517,
          143.871,
          144.048,
          133.064
         ]
        },
        {
         "line": {
          "color": "lightgray"
         },
         "mode": "lines",
         "name": "Lackawanna, PA",
         "opacity": 0.4,
         "showlegend": false,
         "text": "Lackawanna, PA",
         "textposition": "top right",
         "type": "scatter",
         "x": [
          2001,
          2002,
          2003,
          2004,
          2005,
          2006,
          2007,
          2008,
          2009,
          2010,
          2011,
          2013,
          2014,
          2015,
          2016,
          2017,
          2018,
          2019,
          2020,
          2021
         ],
         "y": [
          91.184,
          90.65,
          91.802,
          93.56,
          96.055,
          97.293,
          99.475,
          101.985,
          101.375,
          102.299,
          100.886,
          100.227,
          101.615,
          103.604,
          104.889,
          106.451,
          108.493,
          109.591,
          105.376,
          110.293
         ]
        },
        {
         "line": {
          "color": "lightgray"
         },
         "mode": "lines",
         "name": "Colleton, SC",
         "opacity": 0.4,
         "showlegend": false,
         "text": "Colleton, SC",
         "textposition": "top right",
         "type": "scatter",
         "x": [
          2001,
          2002,
          2003,
          2004,
          2005,
          2006,
          2007,
          2008,
          2009,
          2010,
          2011,
          2013,
          2014,
          2015,
          2016,
          2017,
          2018,
          2019,
          2020,
          2021
         ],
         "y": [
          110.576,
          112.642,
          112.226,
          119.253,
          119.52,
          119.256,
          122.387,
          117.162,
          110.906,
          118.096,
          115.808,
          99.406,
          97.354,
          97.977,
          97.758,
          99.477,
          100.908,
          100.4,
          100.311,
          101.652
         ]
        },
        {
         "line": {
          "color": "lightgray"
         },
         "mode": "lines",
         "name": "Faulk, SD",
         "opacity": 0.4,
         "showlegend": false,
         "text": "Faulk, SD",
         "textposition": "top right",
         "type": "scatter",
         "x": [
          2001,
          2002,
          2003,
          2004,
          2005,
          2006,
          2007,
          2008,
          2009,
          2010,
          2011,
          2013,
          2014,
          2015,
          2016,
          2017,
          2018,
          2019,
          2020,
          2021
         ],
         "y": [
          54.65,
          63.347,
          54.29,
          61.302,
          53.079,
          35.967,
          61.41,
          90.105,
          82.532,
          66.174,
          102.963,
          127.185,
          127.317,
          97.983,
          97.89,
          93.508,
          116.805,
          115.944,
          106.04,
          109.229
         ]
        },
        {
         "line": {
          "color": "lightgray"
         },
         "mode": "lines",
         "name": "Meade, SD",
         "opacity": 0.4,
         "showlegend": false,
         "text": "Meade, SD",
         "textposition": "top right",
         "type": "scatter",
         "x": [
          2001,
          2002,
          2003,
          2004,
          2005,
          2006,
          2007,
          2008,
          2009,
          2010,
          2011,
          2013,
          2014,
          2015,
          2016,
          2017,
          2018,
          2019,
          2020,
          2021
         ],
         "y": [
          80.421,
          87.095,
          88.757,
          82.387,
          89.357,
          84.218,
          83.797,
          86.282,
          82.202,
          90.668,
          93.537,
          95.908,
          103.5,
          108.267,
          107.11,
          109.698,
          111.728,
          117.814,
          120.653,
          121.255
         ]
        },
        {
         "line": {
          "color": "lightgray"
         },
         "mode": "lines",
         "name": "Tripp, SD",
         "opacity": 0.4,
         "showlegend": false,
         "text": "Tripp, SD",
         "textposition": "top right",
         "type": "scatter",
         "x": [
          2001,
          2002,
          2003,
          2004,
          2005,
          2006,
          2007,
          2008,
          2009,
          2010,
          2011,
          2013,
          2014,
          2015,
          2016,
          2017,
          2018,
          2019,
          2020,
          2021
         ],
         "y": [
          88.034,
          82.556,
          99.999,
          87.126,
          94.753,
          71.669,
          86.115,
          87.878,
          89.162,
          95.653,
          120.184,
          106.338,
          112.036,
          122.345,
          105.489,
          108.424,
          111.14,
          99.823,
          97.835,
          102.861
         ]
        },
        {
         "line": {
          "color": "lightgray"
         },
         "mode": "lines",
         "name": "Cumberland, TN",
         "opacity": 0.4,
         "showlegend": false,
         "text": "Cumberland, TN",
         "textposition": "top right",
         "type": "scatter",
         "x": [
          2001,
          2002,
          2003,
          2004,
          2005,
          2006,
          2007,
          2008,
          2009,
          2010,
          2011,
          2013,
          2014,
          2015,
          2016,
          2017,
          2018,
          2019,
          2020,
          2021
         ],
         "y": [
          85.36,
          86.886,
          89.75,
          92.766,
          94.764,
          97.314,
          96.3,
          94.543,
          91.872,
          94.953,
          96.56,
          96.938,
          97.156,
          98.436,
          98.857,
          102.433,
          103.658,
          106.086,
          104.315,
          112.174
         ]
        },
        {
         "line": {
          "color": "lightgray"
         },
         "mode": "lines",
         "name": "Davidson, TN",
         "opacity": 0.4,
         "showlegend": false,
         "text": "Davidson, TN",
         "textposition": "top right",
         "type": "scatter",
         "x": [
          2001,
          2002,
          2003,
          2004,
          2005,
          2006,
          2007,
          2008,
          2009,
          2010,
          2011,
          2013,
          2014,
          2015,
          2016,
          2017,
          2018,
          2019,
          2020,
          2021
         ],
         "y": [
          80.325,
          81.601,
          84.463,
          87.017,
          88.81,
          91.74,
          90.281,
          93.522,
          92.652,
          94.018,
          96.833,
          100.309,
          104.279,
          110.706,
          113.622,
          117.832,
          122.292,
          127.631,
          121.868,
          138.713
         ]
        },
        {
         "line": {
          "color": "lightgray"
         },
         "mode": "lines",
         "name": "Dickson, TN",
         "opacity": 0.4,
         "showlegend": false,
         "text": "Dickson, TN",
         "textposition": "top right",
         "type": "scatter",
         "x": [
          2001,
          2002,
          2003,
          2004,
          2005,
          2006,
          2007,
          2008,
          2009,
          2010,
          2011,
          2013,
          2014,
          2015,
          2016,
          2017,
          2018,
          2019,
          2020,
          2021
         ],
         "y": [
          74.302,
          78.442,
          81.978,
          83.479,
          87.067,
          92.565,
          93.243,
          90.971,
          84.33,
          89.882,
          95.233,
          100.522,
          106.164,
          110.714,
          117.116,
          121.657,
          123.629,
          127.581,
          122.821,
          132.827
         ]
        },
        {
         "line": {
          "color": "lightgray"
         },
         "mode": "lines",
         "name": "Hancock, TN",
         "opacity": 0.4,
         "showlegend": false,
         "text": "Hancock, TN",
         "textposition": "top right",
         "type": "scatter",
         "x": [
          2001,
          2002,
          2003,
          2004,
          2005,
          2006,
          2007,
          2008,
          2009,
          2010,
          2011,
          2013,
          2014,
          2015,
          2016,
          2017,
          2018,
          2019,
          2020,
          2021
         ],
         "y": [
          93.771,
          97.313,
          96.509,
          91.035,
          97.32,
          95.521,
          91.108,
          96.836,
          95.18,
          99.056,
          97.121,
          92.355,
          94.751,
          96.325,
          98.288,
          96.629,
          97.064,
          98.662,
          99.751,
          109.988
         ]
        },
        {
         "line": {
          "color": "lightgray"
         },
         "mode": "lines",
         "name": "Morgan, TN",
         "opacity": 0.4,
         "showlegend": false,
         "text": "Morgan, TN",
         "textposition": "top right",
         "type": "scatter",
         "x": [
          2001,
          2002,
          2003,
          2004,
          2005,
          2006,
          2007,
          2008,
          2009,
          2010,
          2011,
          2013,
          2014,
          2015,
          2016,
          2017,
          2018,
          2019,
          2020,
          2021
         ],
         "y": [
          80.824,
          82.795,
          86.924,
          89.607,
          94.6,
          93.488,
          94.347,
          99.374,
          92.387,
          92.809,
          93.665,
          94.787,
          88.494,
          84.115,
          85.627,
          85.129,
          86.39,
          91.2,
          93.473,
          101.457
         ]
        },
        {
         "line": {
          "color": "lightgray"
         },
         "mode": "lines",
         "name": "Pickett, TN",
         "opacity": 0.4,
         "showlegend": false,
         "text": "Pickett, TN",
         "textposition": "top right",
         "type": "scatter",
         "x": [
          2001,
          2002,
          2003,
          2004,
          2005,
          2006,
          2007,
          2008,
          2009,
          2010,
          2011,
          2013,
          2014,
          2015,
          2016,
          2017,
          2018,
          2019,
          2020,
          2021
         ],
         "y": [
          75.148,
          73.817,
          84.857,
          88.525,
          93.604,
          79.588,
          83.736,
          78.627,
          77.653,
          81.815,
          87.76,
          104.776,
          130.369,
          149.736,
          139.388,
          149.125,
          150.904,
          136.335,
          129.794,
          138.378
         ]
        },
        {
         "line": {
          "color": "lightgray"
         },
         "mode": "lines",
         "name": "Sevier, TN",
         "opacity": 0.4,
         "showlegend": false,
         "text": "Sevier, TN",
         "textposition": "top right",
         "type": "scatter",
         "x": [
          2001,
          2002,
          2003,
          2004,
          2005,
          2006,
          2007,
          2008,
          2009,
          2010,
          2011,
          2013,
          2014,
          2015,
          2016,
          2017,
          2018,
          2019,
          2020,
          2021
         ],
         "y": [
          77.484,
          81.602,
          83.796,
          88.224,
          92.517,
          96.77,
          96.701,
          93.562,
          89.374,
          92.099,
          94.367,
          102.257,
          105.574,
          109.723,
          110.972,
          115.777,
          120.093,
          125.128,
          113.635,
          130.746
         ]
        },
        {
         "line": {
          "color": "lightgray"
         },
         "mode": "lines",
         "name": "Collingsworth, TX",
         "opacity": 0.4,
         "showlegend": false,
         "text": "Collingsworth, TX",
         "textposition": "top right",
         "type": "scatter",
         "x": [
          2001,
          2002,
          2003,
          2004,
          2005,
          2006,
          2007,
          2008,
          2009,
          2010,
          2011,
          2013,
          2014,
          2015,
          2016,
          2017,
          2018,
          2019,
          2020,
          2021
         ],
         "y": [
          145.584,
          159.124,
          177.135,
          154.949,
          158.314,
          149.117,
          134.16,
          95.514,
          110.035,
          119.592,
          94.946,
          122.971,
          104.899,
          104.453,
          107.592,
          102.119,
          104.401,
          100.771,
          102.566,
          106.663
         ]
        },
        {
         "line": {
          "color": "lightgray"
         },
         "mode": "lines",
         "name": "Hall, TX",
         "opacity": 0.4,
         "showlegend": false,
         "text": "Hall, TX",
         "textposition": "top right",
         "type": "scatter",
         "x": [
          2001,
          2002,
          2003,
          2004,
          2005,
          2006,
          2007,
          2008,
          2009,
          2010,
          2011,
          2013,
          2014,
          2015,
          2016,
          2017,
          2018,
          2019,
          2020,
          2021
         ],
         "y": [
          102.955,
          107.69,
          120.155,
          109.408,
          116.876,
          121.643,
          124.68,
          97.954,
          172.057,
          157.446,
          103.096,
          131.301,
          102.28,
          102.152,
          88.798,
          94.757,
          81.375,
          100.625,
          101.895,
          133.649
         ]
        },
        {
         "line": {
          "color": "lightgray"
         },
         "mode": "lines",
         "name": "Lampasas, TX",
         "opacity": 0.4,
         "showlegend": false,
         "text": "Lampasas, TX",
         "textposition": "top right",
         "type": "scatter",
         "x": [
          2001,
          2002,
          2003,
          2004,
          2005,
          2006,
          2007,
          2008,
          2009,
          2010,
          2011,
          2013,
          2014,
          2015,
          2016,
          2017,
          2018,
          2019,
          2020,
          2021
         ],
         "y": [
          81.686,
          88.549,
          87.516,
          89.575,
          94.593,
          96.503,
          88.87,
          91.188,
          91.781,
          92.609,
          94.379,
          98.196,
          99.187,
          96.282,
          93.488,
          95.802,
          99.704,
          105.109,
          107.502,
          109.598
         ]
        },
        {
         "line": {
          "color": "lightgray"
         },
         "mode": "lines",
         "name": "Llano, TX",
         "opacity": 0.4,
         "showlegend": false,
         "text": "Llano, TX",
         "textposition": "top right",
         "type": "scatter",
         "x": [
          2001,
          2002,
          2003,
          2004,
          2005,
          2006,
          2007,
          2008,
          2009,
          2010,
          2011,
          2013,
          2014,
          2015,
          2016,
          2017,
          2018,
          2019,
          2020,
          2021
         ],
         "y": [
          82.26,
          84.785,
          86.885,
          84.109,
          85.763,
          91.999,
          93.097,
          94.454,
          95.438,
          97.232,
          94.009,
          98.571,
          100.93,
          128.303,
          131.938,
          135.142,
          133.638,
          136.404,
          140.049,
          144.965
         ]
        },
        {
         "line": {
          "color": "lightgray"
         },
         "mode": "lines",
         "name": "Mills, TX",
         "opacity": 0.4,
         "showlegend": false,
         "text": "Mills, TX",
         "textposition": "top right",
         "type": "scatter",
         "x": [
          2001,
          2002,
          2003,
          2004,
          2005,
          2006,
          2007,
          2008,
          2009,
          2010,
          2011,
          2013,
          2014,
          2015,
          2016,
          2017,
          2018,
          2019,
          2020,
          2021
         ],
         "y": [
          89.926,
          88.833,
          88.754,
          94.544,
          93.496,
          105.437,
          85.508,
          84.865,
          98.222,
          95.579,
          95.464,
          94.16,
          111.273,
          108.027,
          107.242,
          110.406,
          134.615,
          147.132,
          151.913,
          148.311
         ]
        },
        {
         "line": {
          "color": "lightgray"
         },
         "mode": "lines",
         "name": "Real, TX",
         "opacity": 0.4,
         "showlegend": false,
         "text": "Real, TX",
         "textposition": "top right",
         "type": "scatter",
         "x": [
          2001,
          2002,
          2003,
          2004,
          2005,
          2006,
          2007,
          2008,
          2009,
          2010,
          2011,
          2013,
          2014,
          2015,
          2016,
          2017,
          2018,
          2019,
          2020,
          2021
         ],
         "y": [
          81.029,
          87.328,
          88.686,
          85.687,
          87.108,
          91.11,
          86.471,
          94.045,
          100.325,
          101.941,
          94.403,
          108.344,
          104.469,
          106.813,
          105.236,
          104.67,
          108.151,
          110.416,
          137.225,
          144.493
         ]
        },
        {
         "line": {
          "color": "lightgray"
         },
         "mode": "lines",
         "name": "Refugio, TX",
         "opacity": 0.4,
         "showlegend": false,
         "text": "Refugio, TX",
         "textposition": "top right",
         "type": "scatter",
         "x": [
          2001,
          2002,
          2003,
          2004,
          2005,
          2006,
          2007,
          2008,
          2009,
          2010,
          2011,
          2013,
          2014,
          2015,
          2016,
          2017,
          2018,
          2019,
          2020,
          2021
         ],
         "y": [
          112.831,
          121.173,
          107.637,
          109.787,
          116.591,
          123.589,
          113.484,
          97.478,
          110.94,
          99.133,
          91.998,
          99.19,
          92.497,
          81.022,
          73.201,
          69.659,
          67.664,
          68.53,
          61.743,
          59.655
         ]
        },
        {
         "line": {
          "color": "lightgray"
         },
         "mode": "lines",
         "name": "Roberts, TX",
         "opacity": 0.4,
         "showlegend": false,
         "text": "Roberts, TX",
         "textposition": "top right",
         "type": "scatter",
         "x": [
          2001,
          2002,
          2003,
          2004,
          2005,
          2006,
          2007,
          2008,
          2009,
          2010,
          2011,
          2013,
          2014,
          2015,
          2016,
          2017,
          2018,
          2019,
          2020,
          2021
         ],
         "y": [
          57.332,
          76.413,
          83.253,
          80.499,
          111.496,
          137.418,
          184.147,
          204.693,
          233.8,
          154.613,
          115.493,
          116.701,
          124.848,
          134.878,
          112.912,
          96.368,
          73.768,
          78.628,
          73.566,
          56.505
         ]
        },
        {
         "line": {
          "color": "lightgray"
         },
         "mode": "lines",
         "name": "Morgan, UT",
         "opacity": 0.4,
         "showlegend": false,
         "text": "Morgan, UT",
         "textposition": "top right",
         "type": "scatter",
         "x": [
          2001,
          2002,
          2003,
          2004,
          2005,
          2006,
          2007,
          2008,
          2009,
          2010,
          2011,
          2013,
          2014,
          2015,
          2016,
          2017,
          2018,
          2019,
          2020,
          2021
         ],
         "y": [
          68.93,
          70.46,
          72.977,
          71.81,
          81.744,
          85.327,
          91.815,
          87.248,
          87.482,
          98.802,
          94.262,
          98.996,
          107.18,
          104.916,
          104.499,
          112.987,
          121.526,
          124.914,
          131.908,
          137.902
         ]
        },
        {
         "line": {
          "color": "lightgray"
         },
         "mode": "lines",
         "name": "Windham, VT",
         "opacity": 0.4,
         "showlegend": false,
         "text": "Windham, VT",
         "textposition": "top right",
         "type": "scatter",
         "x": [
          2001,
          2002,
          2003,
          2004,
          2005,
          2006,
          2007,
          2008,
          2009,
          2010,
          2011,
          2013,
          2014,
          2015,
          2016,
          2017,
          2018,
          2019,
          2020,
          2021
         ],
         "y": [
          87.946,
          93.864,
          94.433,
          96.796,
          93.414,
          93.428,
          89.517,
          93.5,
          92.358,
          98.146,
          100.031,
          97.784,
          96.532,
          98.926,
          93.35,
          93.048,
          91.752,
          91.32,
          87.08,
          91.366
         ]
        },
        {
         "line": {
          "color": "lightgray"
         },
         "mode": "lines",
         "name": "Chesterfield, VA",
         "opacity": 0.4,
         "showlegend": false,
         "text": "Chesterfield, VA",
         "textposition": "top right",
         "type": "scatter",
         "x": [
          2001,
          2002,
          2003,
          2004,
          2005,
          2006,
          2007,
          2008,
          2009,
          2010,
          2011,
          2013,
          2014,
          2015,
          2016,
          2017,
          2018,
          2019,
          2020,
          2021
         ],
         "y": [
          83.828,
          83.242,
          85.083,
          85.724,
          89.516,
          90.444,
          93.462,
          93.774,
          94.076,
          96.896,
          98.472,
          102.475,
          98.243,
          98.964,
          98.387,
          98.274,
          99.563,
          100.584,
          99.507,
          104.397
         ]
        },
        {
         "line": {
          "color": "lightgray"
         },
         "mode": "lines",
         "name": "Clarke, VA",
         "opacity": 0.4,
         "showlegend": false,
         "text": "Clarke, VA",
         "textposition": "top right",
         "type": "scatter",
         "x": [
          2001,
          2002,
          2003,
          2004,
          2005,
          2006,
          2007,
          2008,
          2009,
          2010,
          2011,
          2013,
          2014,
          2015,
          2016,
          2017,
          2018,
          2019,
          2020,
          2021
         ],
         "y": [
          87.969,
          92.203,
          98.459,
          99.72,
          104.883,
          106.229,
          104.907,
          112.68,
          110.999,
          112.069,
          115.951,
          97.747,
          90.741,
          89.409,
          92.158,
          93.906,
          93.814,
          92.252,
          87.393,
          90.23
         ]
        },
        {
         "line": {
          "color": "lightgray"
         },
         "mode": "lines",
         "name": "Hanover, VA",
         "opacity": 0.4,
         "showlegend": false,
         "text": "Hanover, VA",
         "textposition": "top right",
         "type": "scatter",
         "x": [
          2001,
          2002,
          2003,
          2004,
          2005,
          2006,
          2007,
          2008,
          2009,
          2010,
          2011,
          2013,
          2014,
          2015,
          2016,
          2017,
          2018,
          2019,
          2020,
          2021
         ],
         "y": [
          85.609,
          86.88,
          89.29,
          90.559,
          94.419,
          94.958,
          97.006,
          97.132,
          94.257,
          98.97,
          99.119,
          101.077,
          105.421,
          110.779,
          113.778,
          112.802,
          115.436,
          118.337,
          116.056,
          122.224
         ]
        },
        {
         "line": {
          "color": "lightgray"
         },
         "mode": "lines",
         "name": "Mecklenburg, VA",
         "opacity": 0.4,
         "showlegend": false,
         "text": "Mecklenburg, VA",
         "textposition": "top right",
         "type": "scatter",
         "x": [
          2001,
          2002,
          2003,
          2004,
          2005,
          2006,
          2007,
          2008,
          2009,
          2010,
          2011,
          2013,
          2014,
          2015,
          2016,
          2017,
          2018,
          2019,
          2020,
          2021
         ],
         "y": [
          105.448,
          99.191,
          105.67,
          94.257,
          100.424,
          101.306,
          98.623,
          100.818,
          103.03,
          107.498,
          103.225,
          95.755,
          95.127,
          96.716,
          96.011,
          93.952,
          95.098,
          96.104,
          103.349,
          104.908
         ]
        },
        {
         "line": {
          "color": "lightgray"
         },
         "mode": "lines",
         "name": "Nelson, VA",
         "opacity": 0.4,
         "showlegend": false,
         "text": "Nelson, VA",
         "textposition": "top right",
         "type": "scatter",
         "x": [
          2001,
          2002,
          2003,
          2004,
          2005,
          2006,
          2007,
          2008,
          2009,
          2010,
          2011,
          2013,
          2014,
          2015,
          2016,
          2017,
          2018,
          2019,
          2020,
          2021
         ],
         "y": [
          70.055,
          76.551,
          79.084,
          75.814,
          77.375,
          78.09,
          80.248,
          83.202,
          79.062,
          82.502,
          86.455,
          106.753,
          106.996,
          106.443,
          102.059,
          105.459,
          111.578,
          110.734,
          112.731,
          119.061
         ]
        },
        {
         "line": {
          "color": "lightgray"
         },
         "mode": "lines",
         "name": "Raleigh, WV",
         "opacity": 0.4,
         "showlegend": false,
         "text": "Raleigh, WV",
         "textposition": "top right",
         "type": "scatter",
         "x": [
          2001,
          2002,
          2003,
          2004,
          2005,
          2006,
          2007,
          2008,
          2009,
          2010,
          2011,
          2013,
          2014,
          2015,
          2016,
          2017,
          2018,
          2019,
          2020,
          2021
         ],
         "y": [
          87.224,
          87.428,
          87.148,
          89.395,
          93.737,
          93.96,
          93.154,
          98.851,
          96.25,
          100.596,
          102.856,
          96.3,
          91.952,
          88.605,
          83.94,
          87.934,
          90.12,
          93.127,
          89.552,
          92.956
         ]
        },
        {
         "line": {
          "color": "darkred",
          "width": 3
         },
         "mode": "lines",
         "name": "Adams, PA",
         "showlegend": false,
         "text": "Adams, PA",
         "textposition": "top right",
         "type": "scatter",
         "x": [
          2001,
          2002,
          2003,
          2004,
          2005,
          2006,
          2007,
          2008,
          2009,
          2010,
          2011,
          2013,
          2014,
          2015,
          2016,
          2017,
          2018,
          2019,
          2020,
          2021
         ],
         "y": [
          78.619,
          84.689,
          84.475,
          85.86,
          89.556,
          93.508,
          93.154,
          95.379,
          96.885,
          95.036,
          97.071,
          100.08,
          100.006,
          102.509,
          103.708,
          108.411,
          105.39,
          103.44,
          97.678,
          102.664
         ]
        }
       ],
       "layout": {
        "annotations": [
         {
          "font": {
           "color": "darkred",
           "size": 12
          },
          "showarrow": false,
          "text": "Location recent percentile: 35.14%",
          "x": 2019,
          "y": 123.1968
         }
        ],
        "template": {
         "data": {
          "bar": [
           {
            "error_x": {
             "color": "rgb(36,36,36)"
            },
            "error_y": {
             "color": "rgb(36,36,36)"
            },
            "marker": {
             "line": {
              "color": "white",
              "width": 0.5
             },
             "pattern": {
              "fillmode": "overlay",
              "size": 10,
              "solidity": 0.2
             }
            },
            "type": "bar"
           }
          ],
          "barpolar": [
           {
            "marker": {
             "line": {
              "color": "white",
              "width": 0.5
             },
             "pattern": {
              "fillmode": "overlay",
              "size": 10,
              "solidity": 0.2
             }
            },
            "type": "barpolar"
           }
          ],
          "carpet": [
           {
            "aaxis": {
             "endlinecolor": "rgb(36,36,36)",
             "gridcolor": "white",
             "linecolor": "white",
             "minorgridcolor": "white",
             "startlinecolor": "rgb(36,36,36)"
            },
            "baxis": {
             "endlinecolor": "rgb(36,36,36)",
             "gridcolor": "white",
             "linecolor": "white",
             "minorgridcolor": "white",
             "startlinecolor": "rgb(36,36,36)"
            },
            "type": "carpet"
           }
          ],
          "choropleth": [
           {
            "colorbar": {
             "outlinewidth": 1,
             "tickcolor": "rgb(36,36,36)",
             "ticks": "outside"
            },
            "type": "choropleth"
           }
          ],
          "contour": [
           {
            "colorbar": {
             "outlinewidth": 1,
             "tickcolor": "rgb(36,36,36)",
             "ticks": "outside"
            },
            "colorscale": [
             [
              0,
              "#440154"
             ],
             [
              0.1111111111111111,
              "#482878"
             ],
             [
              0.2222222222222222,
              "#3e4989"
             ],
             [
              0.3333333333333333,
              "#31688e"
             ],
             [
              0.4444444444444444,
              "#26828e"
             ],
             [
              0.5555555555555556,
              "#1f9e89"
             ],
             [
              0.6666666666666666,
              "#35b779"
             ],
             [
              0.7777777777777778,
              "#6ece58"
             ],
             [
              0.8888888888888888,
              "#b5de2b"
             ],
             [
              1,
              "#fde725"
             ]
            ],
            "type": "contour"
           }
          ],
          "contourcarpet": [
           {
            "colorbar": {
             "outlinewidth": 1,
             "tickcolor": "rgb(36,36,36)",
             "ticks": "outside"
            },
            "type": "contourcarpet"
           }
          ],
          "heatmap": [
           {
            "colorbar": {
             "outlinewidth": 1,
             "tickcolor": "rgb(36,36,36)",
             "ticks": "outside"
            },
            "colorscale": [
             [
              0,
              "#440154"
             ],
             [
              0.1111111111111111,
              "#482878"
             ],
             [
              0.2222222222222222,
              "#3e4989"
             ],
             [
              0.3333333333333333,
              "#31688e"
             ],
             [
              0.4444444444444444,
              "#26828e"
             ],
             [
              0.5555555555555556,
              "#1f9e89"
             ],
             [
              0.6666666666666666,
              "#35b779"
             ],
             [
              0.7777777777777778,
              "#6ece58"
             ],
             [
              0.8888888888888888,
              "#b5de2b"
             ],
             [
              1,
              "#fde725"
             ]
            ],
            "type": "heatmap"
           }
          ],
          "heatmapgl": [
           {
            "colorbar": {
             "outlinewidth": 1,
             "tickcolor": "rgb(36,36,36)",
             "ticks": "outside"
            },
            "colorscale": [
             [
              0,
              "#440154"
             ],
             [
              0.1111111111111111,
              "#482878"
             ],
             [
              0.2222222222222222,
              "#3e4989"
             ],
             [
              0.3333333333333333,
              "#31688e"
             ],
             [
              0.4444444444444444,
              "#26828e"
             ],
             [
              0.5555555555555556,
              "#1f9e89"
             ],
             [
              0.6666666666666666,
              "#35b779"
             ],
             [
              0.7777777777777778,
              "#6ece58"
             ],
             [
              0.8888888888888888,
              "#b5de2b"
             ],
             [
              1,
              "#fde725"
             ]
            ],
            "type": "heatmapgl"
           }
          ],
          "histogram": [
           {
            "marker": {
             "line": {
              "color": "white",
              "width": 0.6
             }
            },
            "type": "histogram"
           }
          ],
          "histogram2d": [
           {
            "colorbar": {
             "outlinewidth": 1,
             "tickcolor": "rgb(36,36,36)",
             "ticks": "outside"
            },
            "colorscale": [
             [
              0,
              "#440154"
             ],
             [
              0.1111111111111111,
              "#482878"
             ],
             [
              0.2222222222222222,
              "#3e4989"
             ],
             [
              0.3333333333333333,
              "#31688e"
             ],
             [
              0.4444444444444444,
              "#26828e"
             ],
             [
              0.5555555555555556,
              "#1f9e89"
             ],
             [
              0.6666666666666666,
              "#35b779"
             ],
             [
              0.7777777777777778,
              "#6ece58"
             ],
             [
              0.8888888888888888,
              "#b5de2b"
             ],
             [
              1,
              "#fde725"
             ]
            ],
            "type": "histogram2d"
           }
          ],
          "histogram2dcontour": [
           {
            "colorbar": {
             "outlinewidth": 1,
             "tickcolor": "rgb(36,36,36)",
             "ticks": "outside"
            },
            "colorscale": [
             [
              0,
              "#440154"
             ],
             [
              0.1111111111111111,
              "#482878"
             ],
             [
              0.2222222222222222,
              "#3e4989"
             ],
             [
              0.3333333333333333,
              "#31688e"
             ],
             [
              0.4444444444444444,
              "#26828e"
             ],
             [
              0.5555555555555556,
              "#1f9e89"
             ],
             [
              0.6666666666666666,
              "#35b779"
             ],
             [
              0.7777777777777778,
              "#6ece58"
             ],
             [
              0.8888888888888888,
              "#b5de2b"
             ],
             [
              1,
              "#fde725"
             ]
            ],
            "type": "histogram2dcontour"
           }
          ],
          "mesh3d": [
           {
            "colorbar": {
             "outlinewidth": 1,
             "tickcolor": "rgb(36,36,36)",
             "ticks": "outside"
            },
            "type": "mesh3d"
           }
          ],
          "parcoords": [
           {
            "line": {
             "colorbar": {
              "outlinewidth": 1,
              "tickcolor": "rgb(36,36,36)",
              "ticks": "outside"
             }
            },
            "type": "parcoords"
           }
          ],
          "pie": [
           {
            "automargin": true,
            "type": "pie"
           }
          ],
          "scatter": [
           {
            "fillpattern": {
             "fillmode": "overlay",
             "size": 10,
             "solidity": 0.2
            },
            "type": "scatter"
           }
          ],
          "scatter3d": [
           {
            "line": {
             "colorbar": {
              "outlinewidth": 1,
              "tickcolor": "rgb(36,36,36)",
              "ticks": "outside"
             }
            },
            "marker": {
             "colorbar": {
              "outlinewidth": 1,
              "tickcolor": "rgb(36,36,36)",
              "ticks": "outside"
             }
            },
            "type": "scatter3d"
           }
          ],
          "scattercarpet": [
           {
            "marker": {
             "colorbar": {
              "outlinewidth": 1,
              "tickcolor": "rgb(36,36,36)",
              "ticks": "outside"
             }
            },
            "type": "scattercarpet"
           }
          ],
          "scattergeo": [
           {
            "marker": {
             "colorbar": {
              "outlinewidth": 1,
              "tickcolor": "rgb(36,36,36)",
              "ticks": "outside"
             }
            },
            "type": "scattergeo"
           }
          ],
          "scattergl": [
           {
            "marker": {
             "colorbar": {
              "outlinewidth": 1,
              "tickcolor": "rgb(36,36,36)",
              "ticks": "outside"
             }
            },
            "type": "scattergl"
           }
          ],
          "scattermapbox": [
           {
            "marker": {
             "colorbar": {
              "outlinewidth": 1,
              "tickcolor": "rgb(36,36,36)",
              "ticks": "outside"
             }
            },
            "type": "scattermapbox"
           }
          ],
          "scatterpolar": [
           {
            "marker": {
             "colorbar": {
              "outlinewidth": 1,
              "tickcolor": "rgb(36,36,36)",
              "ticks": "outside"
             }
            },
            "type": "scatterpolar"
           }
          ],
          "scatterpolargl": [
           {
            "marker": {
             "colorbar": {
              "outlinewidth": 1,
              "tickcolor": "rgb(36,36,36)",
              "ticks": "outside"
             }
            },
            "type": "scatterpolargl"
           }
          ],
          "scatterternary": [
           {
            "marker": {
             "colorbar": {
              "outlinewidth": 1,
              "tickcolor": "rgb(36,36,36)",
              "ticks": "outside"
             }
            },
            "type": "scatterternary"
           }
          ],
          "surface": [
           {
            "colorbar": {
             "outlinewidth": 1,
             "tickcolor": "rgb(36,36,36)",
             "ticks": "outside"
            },
            "colorscale": [
             [
              0,
              "#440154"
             ],
             [
              0.1111111111111111,
              "#482878"
             ],
             [
              0.2222222222222222,
              "#3e4989"
             ],
             [
              0.3333333333333333,
              "#31688e"
             ],
             [
              0.4444444444444444,
              "#26828e"
             ],
             [
              0.5555555555555556,
              "#1f9e89"
             ],
             [
              0.6666666666666666,
              "#35b779"
             ],
             [
              0.7777777777777778,
              "#6ece58"
             ],
             [
              0.8888888888888888,
              "#b5de2b"
             ],
             [
              1,
              "#fde725"
             ]
            ],
            "type": "surface"
           }
          ],
          "table": [
           {
            "cells": {
             "fill": {
              "color": "rgb(237,237,237)"
             },
             "line": {
              "color": "white"
             }
            },
            "header": {
             "fill": {
              "color": "rgb(217,217,217)"
             },
             "line": {
              "color": "white"
             }
            },
            "type": "table"
           }
          ]
         },
         "layout": {
          "annotationdefaults": {
           "arrowhead": 0,
           "arrowwidth": 1
          },
          "autotypenumbers": "strict",
          "coloraxis": {
           "colorbar": {
            "outlinewidth": 1,
            "tickcolor": "rgb(36,36,36)",
            "ticks": "outside"
           }
          },
          "colorscale": {
           "diverging": [
            [
             0,
             "rgb(103,0,31)"
            ],
            [
             0.1,
             "rgb(178,24,43)"
            ],
            [
             0.2,
             "rgb(214,96,77)"
            ],
            [
             0.3,
             "rgb(244,165,130)"
            ],
            [
             0.4,
             "rgb(253,219,199)"
            ],
            [
             0.5,
             "rgb(247,247,247)"
            ],
            [
             0.6,
             "rgb(209,229,240)"
            ],
            [
             0.7,
             "rgb(146,197,222)"
            ],
            [
             0.8,
             "rgb(67,147,195)"
            ],
            [
             0.9,
             "rgb(33,102,172)"
            ],
            [
             1,
             "rgb(5,48,97)"
            ]
           ],
           "sequential": [
            [
             0,
             "#440154"
            ],
            [
             0.1111111111111111,
             "#482878"
            ],
            [
             0.2222222222222222,
             "#3e4989"
            ],
            [
             0.3333333333333333,
             "#31688e"
            ],
            [
             0.4444444444444444,
             "#26828e"
            ],
            [
             0.5555555555555556,
             "#1f9e89"
            ],
            [
             0.6666666666666666,
             "#35b779"
            ],
            [
             0.7777777777777778,
             "#6ece58"
            ],
            [
             0.8888888888888888,
             "#b5de2b"
            ],
            [
             1,
             "#fde725"
            ]
           ],
           "sequentialminus": [
            [
             0,
             "#440154"
            ],
            [
             0.1111111111111111,
             "#482878"
            ],
            [
             0.2222222222222222,
             "#3e4989"
            ],
            [
             0.3333333333333333,
             "#31688e"
            ],
            [
             0.4444444444444444,
             "#26828e"
            ],
            [
             0.5555555555555556,
             "#1f9e89"
            ],
            [
             0.6666666666666666,
             "#35b779"
            ],
            [
             0.7777777777777778,
             "#6ece58"
            ],
            [
             0.8888888888888888,
             "#b5de2b"
            ],
            [
             1,
             "#fde725"
            ]
           ]
          },
          "colorway": [
           "#1F77B4",
           "#FF7F0E",
           "#2CA02C",
           "#D62728",
           "#9467BD",
           "#8C564B",
           "#E377C2",
           "#7F7F7F",
           "#BCBD22",
           "#17BECF"
          ],
          "font": {
           "color": "rgb(36,36,36)"
          },
          "geo": {
           "bgcolor": "white",
           "lakecolor": "white",
           "landcolor": "white",
           "showlakes": true,
           "showland": true,
           "subunitcolor": "white"
          },
          "hoverlabel": {
           "align": "left"
          },
          "hovermode": "closest",
          "mapbox": {
           "style": "light"
          },
          "paper_bgcolor": "white",
          "plot_bgcolor": "white",
          "polar": {
           "angularaxis": {
            "gridcolor": "rgb(232,232,232)",
            "linecolor": "rgb(36,36,36)",
            "showgrid": false,
            "showline": true,
            "ticks": "outside"
           },
           "bgcolor": "white",
           "radialaxis": {
            "gridcolor": "rgb(232,232,232)",
            "linecolor": "rgb(36,36,36)",
            "showgrid": false,
            "showline": true,
            "ticks": "outside"
           }
          },
          "scene": {
           "xaxis": {
            "backgroundcolor": "white",
            "gridcolor": "rgb(232,232,232)",
            "gridwidth": 2,
            "linecolor": "rgb(36,36,36)",
            "showbackground": true,
            "showgrid": false,
            "showline": true,
            "ticks": "outside",
            "zeroline": false,
            "zerolinecolor": "rgb(36,36,36)"
           },
           "yaxis": {
            "backgroundcolor": "white",
            "gridcolor": "rgb(232,232,232)",
            "gridwidth": 2,
            "linecolor": "rgb(36,36,36)",
            "showbackground": true,
            "showgrid": false,
            "showline": true,
            "ticks": "outside",
            "zeroline": false,
            "zerolinecolor": "rgb(36,36,36)"
           },
           "zaxis": {
            "backgroundcolor": "white",
            "gridcolor": "rgb(232,232,232)",
            "gridwidth": 2,
            "linecolor": "rgb(36,36,36)",
            "showbackground": true,
            "showgrid": false,
            "showline": true,
            "ticks": "outside",
            "zeroline": false,
            "zerolinecolor": "rgb(36,36,36)"
           }
          },
          "shapedefaults": {
           "fillcolor": "black",
           "line": {
            "width": 0
           },
           "opacity": 0.3
          },
          "ternary": {
           "aaxis": {
            "gridcolor": "rgb(232,232,232)",
            "linecolor": "rgb(36,36,36)",
            "showgrid": false,
            "showline": true,
            "ticks": "outside"
           },
           "baxis": {
            "gridcolor": "rgb(232,232,232)",
            "linecolor": "rgb(36,36,36)",
            "showgrid": false,
            "showline": true,
            "ticks": "outside"
           },
           "bgcolor": "white",
           "caxis": {
            "gridcolor": "rgb(232,232,232)",
            "linecolor": "rgb(36,36,36)",
            "showgrid": false,
            "showline": true,
            "ticks": "outside"
           }
          },
          "title": {
           "x": 0.05
          },
          "xaxis": {
           "automargin": true,
           "gridcolor": "rgb(232,232,232)",
           "linecolor": "rgb(36,36,36)",
           "showgrid": false,
           "showline": true,
           "ticks": "outside",
           "title": {
            "standoff": 15
           },
           "zeroline": false,
           "zerolinecolor": "rgb(36,36,36)"
          },
          "yaxis": {
           "automargin": true,
           "gridcolor": "rgb(232,232,232)",
           "linecolor": "rgb(36,36,36)",
           "showgrid": false,
           "showline": true,
           "ticks": "outside",
           "title": {
            "standoff": 15
           },
           "zeroline": false,
           "zerolinecolor": "rgb(36,36,36)"
          }
         }
        },
        "title": {
         "text": "gdp of Adams, PA, compared to 100 random other locations"
        },
        "xaxis": {
         "title": {
          "text": "Year"
         }
        },
        "yaxis": {
         "range": [
          16.30676909360986,
          175.50503090639015
         ],
         "title": {
          "text": "gdp"
         }
        }
       }
      }
     },
     "metadata": {},
     "output_type": "display_data"
    }
   ],
   "source": [
    "f  = FipsQuery(42001, \"gdp\")\n",
    "f.compare_my_outcome_to_others(sample_size= 100, range_multiplier= 10)\n"
   ]
  },
  {
   "cell_type": "markdown",
   "metadata": {},
   "source": [
    "#### Use case: similarity in outcome patterns\n",
    "\n",
    "You want to find top five juristdiction with similar gdp change patterns. You value times nearest to you a bit more, but also you only want the years 2003-2019 to be used for the outcome comparison."
   ]
  },
  {
   "cell_type": "code",
   "execution_count": 10,
   "metadata": {},
   "outputs": [
    {
     "data": {
      "application/vnd.plotly.v1+json": {
       "config": {
        "plotlyServerURL": "https://plot.ly"
       },
       "data": [
        {
         "type": "bar",
         "x": [
          "2003_gdp",
          "2004_gdp",
          "2005_gdp",
          "2006_gdp",
          "2007_gdp",
          "2008_gdp",
          "2009_gdp",
          "2010_gdp",
          "2011_gdp",
          "2013_gdp",
          "2014_gdp",
          "2015_gdp",
          "2016_gdp",
          "2017_gdp",
          "2018_gdp",
          "2019_gdp"
         ],
         "y": [
          0.15580857435746892,
          0.16515708881891705,
          0.1750665141480521,
          0.1855705049969352,
          0.19670473529675137,
          0.20850701941455643,
          0.22101744057942982,
          0.23427848701419565,
          0.2483351962350474,
          0.26323530800915024,
          0.2790294264896993,
          0.29577119207908126,
          0.3135174636038261,
          0.3323285114200557,
          0.3522682221052591,
          0.37340431543157465
         ]
        }
       ],
       "layout": {
        "template": {
         "data": {
          "bar": [
           {
            "error_x": {
             "color": "#2a3f5f"
            },
            "error_y": {
             "color": "#2a3f5f"
            },
            "marker": {
             "line": {
              "color": "white",
              "width": 0.5
             },
             "pattern": {
              "fillmode": "overlay",
              "size": 10,
              "solidity": 0.2
             }
            },
            "type": "bar"
           }
          ],
          "barpolar": [
           {
            "marker": {
             "line": {
              "color": "white",
              "width": 0.5
             },
             "pattern": {
              "fillmode": "overlay",
              "size": 10,
              "solidity": 0.2
             }
            },
            "type": "barpolar"
           }
          ],
          "carpet": [
           {
            "aaxis": {
             "endlinecolor": "#2a3f5f",
             "gridcolor": "#C8D4E3",
             "linecolor": "#C8D4E3",
             "minorgridcolor": "#C8D4E3",
             "startlinecolor": "#2a3f5f"
            },
            "baxis": {
             "endlinecolor": "#2a3f5f",
             "gridcolor": "#C8D4E3",
             "linecolor": "#C8D4E3",
             "minorgridcolor": "#C8D4E3",
             "startlinecolor": "#2a3f5f"
            },
            "type": "carpet"
           }
          ],
          "choropleth": [
           {
            "colorbar": {
             "outlinewidth": 0,
             "ticks": ""
            },
            "type": "choropleth"
           }
          ],
          "contour": [
           {
            "colorbar": {
             "outlinewidth": 0,
             "ticks": ""
            },
            "colorscale": [
             [
              0,
              "#0d0887"
             ],
             [
              0.1111111111111111,
              "#46039f"
             ],
             [
              0.2222222222222222,
              "#7201a8"
             ],
             [
              0.3333333333333333,
              "#9c179e"
             ],
             [
              0.4444444444444444,
              "#bd3786"
             ],
             [
              0.5555555555555556,
              "#d8576b"
             ],
             [
              0.6666666666666666,
              "#ed7953"
             ],
             [
              0.7777777777777778,
              "#fb9f3a"
             ],
             [
              0.8888888888888888,
              "#fdca26"
             ],
             [
              1,
              "#f0f921"
             ]
            ],
            "type": "contour"
           }
          ],
          "contourcarpet": [
           {
            "colorbar": {
             "outlinewidth": 0,
             "ticks": ""
            },
            "type": "contourcarpet"
           }
          ],
          "heatmap": [
           {
            "colorbar": {
             "outlinewidth": 0,
             "ticks": ""
            },
            "colorscale": [
             [
              0,
              "#0d0887"
             ],
             [
              0.1111111111111111,
              "#46039f"
             ],
             [
              0.2222222222222222,
              "#7201a8"
             ],
             [
              0.3333333333333333,
              "#9c179e"
             ],
             [
              0.4444444444444444,
              "#bd3786"
             ],
             [
              0.5555555555555556,
              "#d8576b"
             ],
             [
              0.6666666666666666,
              "#ed7953"
             ],
             [
              0.7777777777777778,
              "#fb9f3a"
             ],
             [
              0.8888888888888888,
              "#fdca26"
             ],
             [
              1,
              "#f0f921"
             ]
            ],
            "type": "heatmap"
           }
          ],
          "heatmapgl": [
           {
            "colorbar": {
             "outlinewidth": 0,
             "ticks": ""
            },
            "colorscale": [
             [
              0,
              "#0d0887"
             ],
             [
              0.1111111111111111,
              "#46039f"
             ],
             [
              0.2222222222222222,
              "#7201a8"
             ],
             [
              0.3333333333333333,
              "#9c179e"
             ],
             [
              0.4444444444444444,
              "#bd3786"
             ],
             [
              0.5555555555555556,
              "#d8576b"
             ],
             [
              0.6666666666666666,
              "#ed7953"
             ],
             [
              0.7777777777777778,
              "#fb9f3a"
             ],
             [
              0.8888888888888888,
              "#fdca26"
             ],
             [
              1,
              "#f0f921"
             ]
            ],
            "type": "heatmapgl"
           }
          ],
          "histogram": [
           {
            "marker": {
             "pattern": {
              "fillmode": "overlay",
              "size": 10,
              "solidity": 0.2
             }
            },
            "type": "histogram"
           }
          ],
          "histogram2d": [
           {
            "colorbar": {
             "outlinewidth": 0,
             "ticks": ""
            },
            "colorscale": [
             [
              0,
              "#0d0887"
             ],
             [
              0.1111111111111111,
              "#46039f"
             ],
             [
              0.2222222222222222,
              "#7201a8"
             ],
             [
              0.3333333333333333,
              "#9c179e"
             ],
             [
              0.4444444444444444,
              "#bd3786"
             ],
             [
              0.5555555555555556,
              "#d8576b"
             ],
             [
              0.6666666666666666,
              "#ed7953"
             ],
             [
              0.7777777777777778,
              "#fb9f3a"
             ],
             [
              0.8888888888888888,
              "#fdca26"
             ],
             [
              1,
              "#f0f921"
             ]
            ],
            "type": "histogram2d"
           }
          ],
          "histogram2dcontour": [
           {
            "colorbar": {
             "outlinewidth": 0,
             "ticks": ""
            },
            "colorscale": [
             [
              0,
              "#0d0887"
             ],
             [
              0.1111111111111111,
              "#46039f"
             ],
             [
              0.2222222222222222,
              "#7201a8"
             ],
             [
              0.3333333333333333,
              "#9c179e"
             ],
             [
              0.4444444444444444,
              "#bd3786"
             ],
             [
              0.5555555555555556,
              "#d8576b"
             ],
             [
              0.6666666666666666,
              "#ed7953"
             ],
             [
              0.7777777777777778,
              "#fb9f3a"
             ],
             [
              0.8888888888888888,
              "#fdca26"
             ],
             [
              1,
              "#f0f921"
             ]
            ],
            "type": "histogram2dcontour"
           }
          ],
          "mesh3d": [
           {
            "colorbar": {
             "outlinewidth": 0,
             "ticks": ""
            },
            "type": "mesh3d"
           }
          ],
          "parcoords": [
           {
            "line": {
             "colorbar": {
              "outlinewidth": 0,
              "ticks": ""
             }
            },
            "type": "parcoords"
           }
          ],
          "pie": [
           {
            "automargin": true,
            "type": "pie"
           }
          ],
          "scatter": [
           {
            "fillpattern": {
             "fillmode": "overlay",
             "size": 10,
             "solidity": 0.2
            },
            "type": "scatter"
           }
          ],
          "scatter3d": [
           {
            "line": {
             "colorbar": {
              "outlinewidth": 0,
              "ticks": ""
             }
            },
            "marker": {
             "colorbar": {
              "outlinewidth": 0,
              "ticks": ""
             }
            },
            "type": "scatter3d"
           }
          ],
          "scattercarpet": [
           {
            "marker": {
             "colorbar": {
              "outlinewidth": 0,
              "ticks": ""
             }
            },
            "type": "scattercarpet"
           }
          ],
          "scattergeo": [
           {
            "marker": {
             "colorbar": {
              "outlinewidth": 0,
              "ticks": ""
             }
            },
            "type": "scattergeo"
           }
          ],
          "scattergl": [
           {
            "marker": {
             "colorbar": {
              "outlinewidth": 0,
              "ticks": ""
             }
            },
            "type": "scattergl"
           }
          ],
          "scattermapbox": [
           {
            "marker": {
             "colorbar": {
              "outlinewidth": 0,
              "ticks": ""
             }
            },
            "type": "scattermapbox"
           }
          ],
          "scatterpolar": [
           {
            "marker": {
             "colorbar": {
              "outlinewidth": 0,
              "ticks": ""
             }
            },
            "type": "scatterpolar"
           }
          ],
          "scatterpolargl": [
           {
            "marker": {
             "colorbar": {
              "outlinewidth": 0,
              "ticks": ""
             }
            },
            "type": "scatterpolargl"
           }
          ],
          "scatterternary": [
           {
            "marker": {
             "colorbar": {
              "outlinewidth": 0,
              "ticks": ""
             }
            },
            "type": "scatterternary"
           }
          ],
          "surface": [
           {
            "colorbar": {
             "outlinewidth": 0,
             "ticks": ""
            },
            "colorscale": [
             [
              0,
              "#0d0887"
             ],
             [
              0.1111111111111111,
              "#46039f"
             ],
             [
              0.2222222222222222,
              "#7201a8"
             ],
             [
              0.3333333333333333,
              "#9c179e"
             ],
             [
              0.4444444444444444,
              "#bd3786"
             ],
             [
              0.5555555555555556,
              "#d8576b"
             ],
             [
              0.6666666666666666,
              "#ed7953"
             ],
             [
              0.7777777777777778,
              "#fb9f3a"
             ],
             [
              0.8888888888888888,
              "#fdca26"
             ],
             [
              1,
              "#f0f921"
             ]
            ],
            "type": "surface"
           }
          ],
          "table": [
           {
            "cells": {
             "fill": {
              "color": "#EBF0F8"
             },
             "line": {
              "color": "white"
             }
            },
            "header": {
             "fill": {
              "color": "#C8D4E3"
             },
             "line": {
              "color": "white"
             }
            },
            "type": "table"
           }
          ]
         },
         "layout": {
          "annotationdefaults": {
           "arrowcolor": "#2a3f5f",
           "arrowhead": 0,
           "arrowwidth": 1
          },
          "autotypenumbers": "strict",
          "coloraxis": {
           "colorbar": {
            "outlinewidth": 0,
            "ticks": ""
           }
          },
          "colorscale": {
           "diverging": [
            [
             0,
             "#8e0152"
            ],
            [
             0.1,
             "#c51b7d"
            ],
            [
             0.2,
             "#de77ae"
            ],
            [
             0.3,
             "#f1b6da"
            ],
            [
             0.4,
             "#fde0ef"
            ],
            [
             0.5,
             "#f7f7f7"
            ],
            [
             0.6,
             "#e6f5d0"
            ],
            [
             0.7,
             "#b8e186"
            ],
            [
             0.8,
             "#7fbc41"
            ],
            [
             0.9,
             "#4d9221"
            ],
            [
             1,
             "#276419"
            ]
           ],
           "sequential": [
            [
             0,
             "#0d0887"
            ],
            [
             0.1111111111111111,
             "#46039f"
            ],
            [
             0.2222222222222222,
             "#7201a8"
            ],
            [
             0.3333333333333333,
             "#9c179e"
            ],
            [
             0.4444444444444444,
             "#bd3786"
            ],
            [
             0.5555555555555556,
             "#d8576b"
            ],
            [
             0.6666666666666666,
             "#ed7953"
            ],
            [
             0.7777777777777778,
             "#fb9f3a"
            ],
            [
             0.8888888888888888,
             "#fdca26"
            ],
            [
             1,
             "#f0f921"
            ]
           ],
           "sequentialminus": [
            [
             0,
             "#0d0887"
            ],
            [
             0.1111111111111111,
             "#46039f"
            ],
            [
             0.2222222222222222,
             "#7201a8"
            ],
            [
             0.3333333333333333,
             "#9c179e"
            ],
            [
             0.4444444444444444,
             "#bd3786"
            ],
            [
             0.5555555555555556,
             "#d8576b"
            ],
            [
             0.6666666666666666,
             "#ed7953"
            ],
            [
             0.7777777777777778,
             "#fb9f3a"
            ],
            [
             0.8888888888888888,
             "#fdca26"
            ],
            [
             1,
             "#f0f921"
            ]
           ]
          },
          "colorway": [
           "#636efa",
           "#EF553B",
           "#00cc96",
           "#ab63fa",
           "#FFA15A",
           "#19d3f3",
           "#FF6692",
           "#B6E880",
           "#FF97FF",
           "#FECB52"
          ],
          "font": {
           "color": "#2a3f5f"
          },
          "geo": {
           "bgcolor": "white",
           "lakecolor": "white",
           "landcolor": "white",
           "showlakes": true,
           "showland": true,
           "subunitcolor": "#C8D4E3"
          },
          "hoverlabel": {
           "align": "left"
          },
          "hovermode": "closest",
          "mapbox": {
           "style": "light"
          },
          "paper_bgcolor": "white",
          "plot_bgcolor": "white",
          "polar": {
           "angularaxis": {
            "gridcolor": "#EBF0F8",
            "linecolor": "#EBF0F8",
            "ticks": ""
           },
           "bgcolor": "white",
           "radialaxis": {
            "gridcolor": "#EBF0F8",
            "linecolor": "#EBF0F8",
            "ticks": ""
           }
          },
          "scene": {
           "xaxis": {
            "backgroundcolor": "white",
            "gridcolor": "#DFE8F3",
            "gridwidth": 2,
            "linecolor": "#EBF0F8",
            "showbackground": true,
            "ticks": "",
            "zerolinecolor": "#EBF0F8"
           },
           "yaxis": {
            "backgroundcolor": "white",
            "gridcolor": "#DFE8F3",
            "gridwidth": 2,
            "linecolor": "#EBF0F8",
            "showbackground": true,
            "ticks": "",
            "zerolinecolor": "#EBF0F8"
           },
           "zaxis": {
            "backgroundcolor": "white",
            "gridcolor": "#DFE8F3",
            "gridwidth": 2,
            "linecolor": "#EBF0F8",
            "showbackground": true,
            "ticks": "",
            "zerolinecolor": "#EBF0F8"
           }
          },
          "shapedefaults": {
           "line": {
            "color": "#2a3f5f"
           }
          },
          "ternary": {
           "aaxis": {
            "gridcolor": "#DFE8F3",
            "linecolor": "#A2B1C6",
            "ticks": ""
           },
           "baxis": {
            "gridcolor": "#DFE8F3",
            "linecolor": "#A2B1C6",
            "ticks": ""
           },
           "bgcolor": "white",
           "caxis": {
            "gridcolor": "#DFE8F3",
            "linecolor": "#A2B1C6",
            "ticks": ""
           }
          },
          "title": {
           "x": 0.05
          },
          "xaxis": {
           "automargin": true,
           "gridcolor": "#EBF0F8",
           "linecolor": "#EBF0F8",
           "ticks": "",
           "title": {
            "standoff": 15
           },
           "zerolinecolor": "#EBF0F8",
           "zerolinewidth": 2
          },
          "yaxis": {
           "automargin": true,
           "gridcolor": "#EBF0F8",
           "linecolor": "#EBF0F8",
           "ticks": "",
           "title": {
            "standoff": 15
           },
           "zerolinecolor": "#EBF0F8",
           "zerolinewidth": 2
          }
         }
        },
        "title": {
         "text": "Weights of columns"
        },
        "xaxis": {
         "title": {
          "text": "columns"
         }
        },
        "yaxis": {
         "title": {
          "text": "weights"
         }
        }
       }
      }
     },
     "metadata": {},
     "output_type": "display_data"
    },
    {
     "data": {
      "text/plain": [
       "None"
      ]
     },
     "metadata": {},
     "output_type": "display_data"
    }
   ],
   "source": [
    "f  = FipsQuery(42001, \"gdp\", lag = 0, top =5, time_decay = 1.06, \n",
    "               outcome_comparison_period=(2003, 2019), outcome_percentile_range= (40,100))\n",
    "f.find_euclidean_kins()\n",
    "# you can inspect the weights resulting from your time_decay setting:\n",
    "\n",
    "display(f.plot_weights())"
   ]
  },
  {
   "cell_type": "code",
   "execution_count": 11,
   "metadata": {},
   "outputs": [
    {
     "data": {
      "text/html": [
       "<div>\n",
       "<style scoped>\n",
       "    .dataframe tbody tr th:only-of-type {\n",
       "        vertical-align: middle;\n",
       "    }\n",
       "\n",
       "    .dataframe tbody tr th {\n",
       "        vertical-align: top;\n",
       "    }\n",
       "\n",
       "    .dataframe thead th {\n",
       "        text-align: right;\n",
       "    }\n",
       "</style>\n",
       "<table border=\"1\" class=\"dataframe\">\n",
       "  <thead>\n",
       "    <tr style=\"text-align: right;\">\n",
       "      <th></th>\n",
       "      <th>GeoFIPS</th>\n",
       "      <th>GeoName</th>\n",
       "      <th>2001</th>\n",
       "      <th>2002</th>\n",
       "      <th>2003</th>\n",
       "      <th>2004</th>\n",
       "      <th>2005</th>\n",
       "      <th>2006</th>\n",
       "      <th>2007</th>\n",
       "      <th>2008</th>\n",
       "      <th>...</th>\n",
       "      <th>2014</th>\n",
       "      <th>2015</th>\n",
       "      <th>2016</th>\n",
       "      <th>2017</th>\n",
       "      <th>2018</th>\n",
       "      <th>2019</th>\n",
       "      <th>2020</th>\n",
       "      <th>2021</th>\n",
       "      <th>distance to 42001</th>\n",
       "      <th>percentile</th>\n",
       "    </tr>\n",
       "  </thead>\n",
       "  <tbody>\n",
       "    <tr>\n",
       "      <th>0</th>\n",
       "      <td>42001</td>\n",
       "      <td>Adams, PA</td>\n",
       "      <td>78.619</td>\n",
       "      <td>84.689</td>\n",
       "      <td>84.475</td>\n",
       "      <td>85.860</td>\n",
       "      <td>89.556</td>\n",
       "      <td>93.508</td>\n",
       "      <td>93.154</td>\n",
       "      <td>95.379</td>\n",
       "      <td>...</td>\n",
       "      <td>100.006</td>\n",
       "      <td>102.509</td>\n",
       "      <td>103.708</td>\n",
       "      <td>108.411</td>\n",
       "      <td>105.390</td>\n",
       "      <td>103.440</td>\n",
       "      <td>97.678</td>\n",
       "      <td>102.664</td>\n",
       "      <td>0.000000</td>\n",
       "      <td>35.14</td>\n",
       "    </tr>\n",
       "    <tr>\n",
       "      <th>1</th>\n",
       "      <td>24013</td>\n",
       "      <td>Carroll, MD</td>\n",
       "      <td>76.152</td>\n",
       "      <td>80.700</td>\n",
       "      <td>82.853</td>\n",
       "      <td>86.013</td>\n",
       "      <td>89.398</td>\n",
       "      <td>95.381</td>\n",
       "      <td>95.463</td>\n",
       "      <td>97.823</td>\n",
       "      <td>...</td>\n",
       "      <td>99.510</td>\n",
       "      <td>101.215</td>\n",
       "      <td>101.568</td>\n",
       "      <td>106.456</td>\n",
       "      <td>104.838</td>\n",
       "      <td>105.452</td>\n",
       "      <td>101.050</td>\n",
       "      <td>105.298</td>\n",
       "      <td>0.042184</td>\n",
       "      <td>41.95</td>\n",
       "    </tr>\n",
       "    <tr>\n",
       "      <th>2</th>\n",
       "      <td>28105</td>\n",
       "      <td>Oktibbeha, MS</td>\n",
       "      <td>83.279</td>\n",
       "      <td>85.143</td>\n",
       "      <td>83.864</td>\n",
       "      <td>85.565</td>\n",
       "      <td>91.160</td>\n",
       "      <td>93.433</td>\n",
       "      <td>93.899</td>\n",
       "      <td>98.855</td>\n",
       "      <td>...</td>\n",
       "      <td>100.858</td>\n",
       "      <td>100.069</td>\n",
       "      <td>106.639</td>\n",
       "      <td>105.926</td>\n",
       "      <td>106.941</td>\n",
       "      <td>107.105</td>\n",
       "      <td>108.225</td>\n",
       "      <td>109.357</td>\n",
       "      <td>0.059161</td>\n",
       "      <td>51.43</td>\n",
       "    </tr>\n",
       "    <tr>\n",
       "      <th>4</th>\n",
       "      <td>36103</td>\n",
       "      <td>Suffolk, NY</td>\n",
       "      <td>77.583</td>\n",
       "      <td>80.337</td>\n",
       "      <td>83.711</td>\n",
       "      <td>87.603</td>\n",
       "      <td>88.109</td>\n",
       "      <td>90.437</td>\n",
       "      <td>90.857</td>\n",
       "      <td>94.202</td>\n",
       "      <td>...</td>\n",
       "      <td>100.099</td>\n",
       "      <td>101.102</td>\n",
       "      <td>102.505</td>\n",
       "      <td>103.283</td>\n",
       "      <td>103.288</td>\n",
       "      <td>105.925</td>\n",
       "      <td>101.523</td>\n",
       "      <td>106.687</td>\n",
       "      <td>0.060547</td>\n",
       "      <td>44.94</td>\n",
       "    </tr>\n",
       "    <tr>\n",
       "      <th>5</th>\n",
       "      <td>25027</td>\n",
       "      <td>Worcester, MA</td>\n",
       "      <td>83.429</td>\n",
       "      <td>84.954</td>\n",
       "      <td>88.210</td>\n",
       "      <td>89.841</td>\n",
       "      <td>90.625</td>\n",
       "      <td>92.234</td>\n",
       "      <td>93.830</td>\n",
       "      <td>96.316</td>\n",
       "      <td>...</td>\n",
       "      <td>101.656</td>\n",
       "      <td>103.801</td>\n",
       "      <td>104.461</td>\n",
       "      <td>104.997</td>\n",
       "      <td>107.212</td>\n",
       "      <td>107.542</td>\n",
       "      <td>104.070</td>\n",
       "      <td>109.597</td>\n",
       "      <td>0.062987</td>\n",
       "      <td>51.98</td>\n",
       "    </tr>\n",
       "    <tr>\n",
       "      <th>...</th>\n",
       "      <td>...</td>\n",
       "      <td>...</td>\n",
       "      <td>...</td>\n",
       "      <td>...</td>\n",
       "      <td>...</td>\n",
       "      <td>...</td>\n",
       "      <td>...</td>\n",
       "      <td>...</td>\n",
       "      <td>...</td>\n",
       "      <td>...</td>\n",
       "      <td>...</td>\n",
       "      <td>...</td>\n",
       "      <td>...</td>\n",
       "      <td>...</td>\n",
       "      <td>...</td>\n",
       "      <td>...</td>\n",
       "      <td>...</td>\n",
       "      <td>...</td>\n",
       "      <td>...</td>\n",
       "      <td>...</td>\n",
       "      <td>...</td>\n",
       "    </tr>\n",
       "    <tr>\n",
       "      <th>3075</th>\n",
       "      <td>48127</td>\n",
       "      <td>Dimmit, TX</td>\n",
       "      <td>9.381</td>\n",
       "      <td>10.070</td>\n",
       "      <td>10.269</td>\n",
       "      <td>10.101</td>\n",
       "      <td>10.527</td>\n",
       "      <td>13.382</td>\n",
       "      <td>13.424</td>\n",
       "      <td>12.854</td>\n",
       "      <td>...</td>\n",
       "      <td>208.912</td>\n",
       "      <td>253.553</td>\n",
       "      <td>226.448</td>\n",
       "      <td>235.298</td>\n",
       "      <td>230.138</td>\n",
       "      <td>256.745</td>\n",
       "      <td>206.367</td>\n",
       "      <td>159.131</td>\n",
       "      <td>1.225183</td>\n",
       "      <td>96.27</td>\n",
       "    </tr>\n",
       "    <tr>\n",
       "      <th>3076</th>\n",
       "      <td>48389</td>\n",
       "      <td>Reeves, TX</td>\n",
       "      <td>46.003</td>\n",
       "      <td>49.290</td>\n",
       "      <td>44.960</td>\n",
       "      <td>41.682</td>\n",
       "      <td>39.742</td>\n",
       "      <td>41.332</td>\n",
       "      <td>41.009</td>\n",
       "      <td>41.389</td>\n",
       "      <td>...</td>\n",
       "      <td>212.473</td>\n",
       "      <td>334.183</td>\n",
       "      <td>416.768</td>\n",
       "      <td>607.235</td>\n",
       "      <td>843.967</td>\n",
       "      <td>1226.531</td>\n",
       "      <td>1136.483</td>\n",
       "      <td>942.206</td>\n",
       "      <td>1.239320</td>\n",
       "      <td>99.90</td>\n",
       "    </tr>\n",
       "    <tr>\n",
       "      <th>3078</th>\n",
       "      <td>48301</td>\n",
       "      <td>Loving, TX</td>\n",
       "      <td>37.050</td>\n",
       "      <td>40.836</td>\n",
       "      <td>40.690</td>\n",
       "      <td>49.561</td>\n",
       "      <td>81.009</td>\n",
       "      <td>110.338</td>\n",
       "      <td>149.312</td>\n",
       "      <td>114.503</td>\n",
       "      <td>...</td>\n",
       "      <td>186.286</td>\n",
       "      <td>306.333</td>\n",
       "      <td>551.251</td>\n",
       "      <td>802.739</td>\n",
       "      <td>1064.149</td>\n",
       "      <td>1388.130</td>\n",
       "      <td>1453.540</td>\n",
       "      <td>1080.924</td>\n",
       "      <td>1.260074</td>\n",
       "      <td>99.94</td>\n",
       "    </tr>\n",
       "    <tr>\n",
       "      <th>3080</th>\n",
       "      <td>48283</td>\n",
       "      <td>La Salle, TX</td>\n",
       "      <td>6.638</td>\n",
       "      <td>6.679</td>\n",
       "      <td>7.065</td>\n",
       "      <td>6.727</td>\n",
       "      <td>7.541</td>\n",
       "      <td>8.729</td>\n",
       "      <td>8.254</td>\n",
       "      <td>7.900</td>\n",
       "      <td>...</td>\n",
       "      <td>224.270</td>\n",
       "      <td>255.409</td>\n",
       "      <td>208.985</td>\n",
       "      <td>202.036</td>\n",
       "      <td>201.509</td>\n",
       "      <td>219.118</td>\n",
       "      <td>177.489</td>\n",
       "      <td>159.947</td>\n",
       "      <td>1.307401</td>\n",
       "      <td>96.40</td>\n",
       "    </tr>\n",
       "    <tr>\n",
       "      <th>3081</th>\n",
       "      <td>48255</td>\n",
       "      <td>Karnes, TX</td>\n",
       "      <td>6.498</td>\n",
       "      <td>6.891</td>\n",
       "      <td>7.331</td>\n",
       "      <td>6.759</td>\n",
       "      <td>6.537</td>\n",
       "      <td>6.290</td>\n",
       "      <td>6.662</td>\n",
       "      <td>6.937</td>\n",
       "      <td>...</td>\n",
       "      <td>170.877</td>\n",
       "      <td>210.901</td>\n",
       "      <td>200.421</td>\n",
       "      <td>221.260</td>\n",
       "      <td>217.623</td>\n",
       "      <td>236.985</td>\n",
       "      <td>204.295</td>\n",
       "      <td>183.520</td>\n",
       "      <td>1.317634</td>\n",
       "      <td>98.60</td>\n",
       "    </tr>\n",
       "  </tbody>\n",
       "</table>\n",
       "<p>1850 rows × 24 columns</p>\n",
       "</div>"
      ],
      "text/plain": [
       "      GeoFIPS        GeoName    2001    2002    2003    2004    2005     2006  \\\n",
       "0       42001      Adams, PA  78.619  84.689  84.475  85.860  89.556   93.508   \n",
       "1       24013    Carroll, MD  76.152  80.700  82.853  86.013  89.398   95.381   \n",
       "2       28105  Oktibbeha, MS  83.279  85.143  83.864  85.565  91.160   93.433   \n",
       "4       36103    Suffolk, NY  77.583  80.337  83.711  87.603  88.109   90.437   \n",
       "5       25027  Worcester, MA  83.429  84.954  88.210  89.841  90.625   92.234   \n",
       "...       ...            ...     ...     ...     ...     ...     ...      ...   \n",
       "3075    48127     Dimmit, TX   9.381  10.070  10.269  10.101  10.527   13.382   \n",
       "3076    48389     Reeves, TX  46.003  49.290  44.960  41.682  39.742   41.332   \n",
       "3078    48301     Loving, TX  37.050  40.836  40.690  49.561  81.009  110.338   \n",
       "3080    48283   La Salle, TX   6.638   6.679   7.065   6.727   7.541    8.729   \n",
       "3081    48255     Karnes, TX   6.498   6.891   7.331   6.759   6.537    6.290   \n",
       "\n",
       "         2007     2008  ...     2014     2015     2016     2017      2018  \\\n",
       "0      93.154   95.379  ...  100.006  102.509  103.708  108.411   105.390   \n",
       "1      95.463   97.823  ...   99.510  101.215  101.568  106.456   104.838   \n",
       "2      93.899   98.855  ...  100.858  100.069  106.639  105.926   106.941   \n",
       "4      90.857   94.202  ...  100.099  101.102  102.505  103.283   103.288   \n",
       "5      93.830   96.316  ...  101.656  103.801  104.461  104.997   107.212   \n",
       "...       ...      ...  ...      ...      ...      ...      ...       ...   \n",
       "3075   13.424   12.854  ...  208.912  253.553  226.448  235.298   230.138   \n",
       "3076   41.009   41.389  ...  212.473  334.183  416.768  607.235   843.967   \n",
       "3078  149.312  114.503  ...  186.286  306.333  551.251  802.739  1064.149   \n",
       "3080    8.254    7.900  ...  224.270  255.409  208.985  202.036   201.509   \n",
       "3081    6.662    6.937  ...  170.877  210.901  200.421  221.260   217.623   \n",
       "\n",
       "          2019      2020      2021  distance to 42001  percentile  \n",
       "0      103.440    97.678   102.664           0.000000       35.14  \n",
       "1      105.452   101.050   105.298           0.042184       41.95  \n",
       "2      107.105   108.225   109.357           0.059161       51.43  \n",
       "4      105.925   101.523   106.687           0.060547       44.94  \n",
       "5      107.542   104.070   109.597           0.062987       51.98  \n",
       "...        ...       ...       ...                ...         ...  \n",
       "3075   256.745   206.367   159.131           1.225183       96.27  \n",
       "3076  1226.531  1136.483   942.206           1.239320       99.90  \n",
       "3078  1388.130  1453.540  1080.924           1.260074       99.94  \n",
       "3080   219.118   177.489   159.947           1.307401       96.40  \n",
       "3081   236.985   204.295   183.520           1.317634       98.60  \n",
       "\n",
       "[1850 rows x 24 columns]"
      ]
     },
     "metadata": {},
     "output_type": "display_data"
    }
   ],
   "source": [
    "# you can find the distances and  inspect the resulting \n",
    "# dataframe that contains the ranking:\n",
    "f.find_euclidean_kins()\n",
    "display(f.euclidean_kins)"
   ]
  },
  {
   "cell_type": "code",
   "execution_count": 12,
   "metadata": {},
   "outputs": [
    {
     "data": {
      "application/vnd.plotly.v1+json": {
       "config": {
        "plotlyServerURL": "https://plot.ly"
       },
       "data": [
        {
         "line": {
          "color": "darkred",
          "width": 3
         },
         "mode": "lines",
         "name": "Adams, PA",
         "text": "Adams, PA",
         "textposition": "top right",
         "type": "scatter",
         "x": [
          2001,
          2002,
          2003,
          2004,
          2005,
          2006,
          2007,
          2008,
          2009,
          2010,
          2011,
          2013,
          2014,
          2015,
          2016,
          2017,
          2018,
          2019,
          2020,
          2021
         ],
         "y": [
          78.619,
          84.689,
          84.475,
          85.86,
          89.556,
          93.508,
          93.154,
          95.379,
          96.885,
          95.036,
          97.071,
          100.08,
          100.006,
          102.509,
          103.708,
          108.411,
          105.39,
          103.44,
          97.678,
          102.664
         ]
        },
        {
         "line": {
          "color": "#FFC0CB"
         },
         "mode": "lines",
         "name": "Carroll, MD",
         "text": "Carroll, MD",
         "textposition": "top right",
         "type": "scatter",
         "x": [
          2001,
          2002,
          2003,
          2004,
          2005,
          2006,
          2007,
          2008,
          2009,
          2010,
          2011,
          2013,
          2014,
          2015,
          2016,
          2017,
          2018,
          2019,
          2020,
          2021
         ],
         "y": [
          76.152,
          80.7,
          82.853,
          86.013,
          89.398,
          95.381,
          95.463,
          97.823,
          92.549,
          95.524,
          97.683,
          100.226,
          99.51,
          101.215,
          101.568,
          106.456,
          104.838,
          105.452,
          101.05,
          105.298
         ]
        },
        {
         "line": {
          "color": "#A9A9A9"
         },
         "mode": "lines",
         "name": "Oktibbeha, MS",
         "text": "Oktibbeha, MS",
         "textposition": "top right",
         "type": "scatter",
         "x": [
          2001,
          2002,
          2003,
          2004,
          2005,
          2006,
          2007,
          2008,
          2009,
          2010,
          2011,
          2013,
          2014,
          2015,
          2016,
          2017,
          2018,
          2019,
          2020,
          2021
         ],
         "y": [
          83.279,
          85.143,
          83.864,
          85.565,
          91.16,
          93.433,
          93.899,
          98.855,
          99.163,
          97.766,
          99.952,
          101.228,
          100.858,
          100.069,
          106.639,
          105.926,
          106.941,
          107.105,
          108.225,
          109.357
         ]
        },
        {
         "line": {
          "color": "#87CEFA"
         },
         "mode": "lines",
         "name": "Suffolk, NY",
         "text": "Suffolk, NY",
         "textposition": "top right",
         "type": "scatter",
         "x": [
          2001,
          2002,
          2003,
          2004,
          2005,
          2006,
          2007,
          2008,
          2009,
          2010,
          2011,
          2013,
          2014,
          2015,
          2016,
          2017,
          2018,
          2019,
          2020,
          2021
         ],
         "y": [
          77.583,
          80.337,
          83.711,
          87.603,
          88.109,
          90.437,
          90.857,
          94.202,
          95.221,
          99.128,
          98.238,
          99.697,
          100.099,
          101.102,
          102.505,
          103.283,
          103.288,
          105.925,
          101.523,
          106.687
         ]
        },
        {
         "line": {
          "color": "#FFD700"
         },
         "mode": "lines",
         "name": "Worcester, MA",
         "text": "Worcester, MA",
         "textposition": "top right",
         "type": "scatter",
         "x": [
          2001,
          2002,
          2003,
          2004,
          2005,
          2006,
          2007,
          2008,
          2009,
          2010,
          2011,
          2013,
          2014,
          2015,
          2016,
          2017,
          2018,
          2019,
          2020,
          2021
         ],
         "y": [
          83.429,
          84.954,
          88.21,
          89.841,
          90.625,
          92.234,
          93.83,
          96.316,
          92.366,
          96.009,
          99.117,
          100.871,
          101.656,
          103.801,
          104.461,
          104.997,
          107.212,
          107.542,
          104.07,
          109.597
         ]
        },
        {
         "line": {
          "color": "#98FB98"
         },
         "mode": "lines",
         "name": "Lake, IL",
         "text": "Lake, IL",
         "textposition": "top right",
         "type": "scatter",
         "x": [
          2001,
          2002,
          2003,
          2004,
          2005,
          2006,
          2007,
          2008,
          2009,
          2010,
          2011,
          2013,
          2014,
          2015,
          2016,
          2017,
          2018,
          2019,
          2020,
          2021
         ],
         "y": [
          78.656,
          81.216,
          83.875,
          87.882,
          89.657,
          94.695,
          97.707,
          94.213,
          92.498,
          96.205,
          95.768,
          98.521,
          101.651,
          104.679,
          102.943,
          102.954,
          105.339,
          105.335,
          101.592,
          106.468
         ]
        }
       ],
       "layout": {
        "legend": {
         "title": {
          "text": "GeoName"
         }
        },
        "template": {
         "data": {
          "bar": [
           {
            "error_x": {
             "color": "rgb(36,36,36)"
            },
            "error_y": {
             "color": "rgb(36,36,36)"
            },
            "marker": {
             "line": {
              "color": "white",
              "width": 0.5
             },
             "pattern": {
              "fillmode": "overlay",
              "size": 10,
              "solidity": 0.2
             }
            },
            "type": "bar"
           }
          ],
          "barpolar": [
           {
            "marker": {
             "line": {
              "color": "white",
              "width": 0.5
             },
             "pattern": {
              "fillmode": "overlay",
              "size": 10,
              "solidity": 0.2
             }
            },
            "type": "barpolar"
           }
          ],
          "carpet": [
           {
            "aaxis": {
             "endlinecolor": "rgb(36,36,36)",
             "gridcolor": "white",
             "linecolor": "white",
             "minorgridcolor": "white",
             "startlinecolor": "rgb(36,36,36)"
            },
            "baxis": {
             "endlinecolor": "rgb(36,36,36)",
             "gridcolor": "white",
             "linecolor": "white",
             "minorgridcolor": "white",
             "startlinecolor": "rgb(36,36,36)"
            },
            "type": "carpet"
           }
          ],
          "choropleth": [
           {
            "colorbar": {
             "outlinewidth": 1,
             "tickcolor": "rgb(36,36,36)",
             "ticks": "outside"
            },
            "type": "choropleth"
           }
          ],
          "contour": [
           {
            "colorbar": {
             "outlinewidth": 1,
             "tickcolor": "rgb(36,36,36)",
             "ticks": "outside"
            },
            "colorscale": [
             [
              0,
              "#440154"
             ],
             [
              0.1111111111111111,
              "#482878"
             ],
             [
              0.2222222222222222,
              "#3e4989"
             ],
             [
              0.3333333333333333,
              "#31688e"
             ],
             [
              0.4444444444444444,
              "#26828e"
             ],
             [
              0.5555555555555556,
              "#1f9e89"
             ],
             [
              0.6666666666666666,
              "#35b779"
             ],
             [
              0.7777777777777778,
              "#6ece58"
             ],
             [
              0.8888888888888888,
              "#b5de2b"
             ],
             [
              1,
              "#fde725"
             ]
            ],
            "type": "contour"
           }
          ],
          "contourcarpet": [
           {
            "colorbar": {
             "outlinewidth": 1,
             "tickcolor": "rgb(36,36,36)",
             "ticks": "outside"
            },
            "type": "contourcarpet"
           }
          ],
          "heatmap": [
           {
            "colorbar": {
             "outlinewidth": 1,
             "tickcolor": "rgb(36,36,36)",
             "ticks": "outside"
            },
            "colorscale": [
             [
              0,
              "#440154"
             ],
             [
              0.1111111111111111,
              "#482878"
             ],
             [
              0.2222222222222222,
              "#3e4989"
             ],
             [
              0.3333333333333333,
              "#31688e"
             ],
             [
              0.4444444444444444,
              "#26828e"
             ],
             [
              0.5555555555555556,
              "#1f9e89"
             ],
             [
              0.6666666666666666,
              "#35b779"
             ],
             [
              0.7777777777777778,
              "#6ece58"
             ],
             [
              0.8888888888888888,
              "#b5de2b"
             ],
             [
              1,
              "#fde725"
             ]
            ],
            "type": "heatmap"
           }
          ],
          "heatmapgl": [
           {
            "colorbar": {
             "outlinewidth": 1,
             "tickcolor": "rgb(36,36,36)",
             "ticks": "outside"
            },
            "colorscale": [
             [
              0,
              "#440154"
             ],
             [
              0.1111111111111111,
              "#482878"
             ],
             [
              0.2222222222222222,
              "#3e4989"
             ],
             [
              0.3333333333333333,
              "#31688e"
             ],
             [
              0.4444444444444444,
              "#26828e"
             ],
             [
              0.5555555555555556,
              "#1f9e89"
             ],
             [
              0.6666666666666666,
              "#35b779"
             ],
             [
              0.7777777777777778,
              "#6ece58"
             ],
             [
              0.8888888888888888,
              "#b5de2b"
             ],
             [
              1,
              "#fde725"
             ]
            ],
            "type": "heatmapgl"
           }
          ],
          "histogram": [
           {
            "marker": {
             "line": {
              "color": "white",
              "width": 0.6
             }
            },
            "type": "histogram"
           }
          ],
          "histogram2d": [
           {
            "colorbar": {
             "outlinewidth": 1,
             "tickcolor": "rgb(36,36,36)",
             "ticks": "outside"
            },
            "colorscale": [
             [
              0,
              "#440154"
             ],
             [
              0.1111111111111111,
              "#482878"
             ],
             [
              0.2222222222222222,
              "#3e4989"
             ],
             [
              0.3333333333333333,
              "#31688e"
             ],
             [
              0.4444444444444444,
              "#26828e"
             ],
             [
              0.5555555555555556,
              "#1f9e89"
             ],
             [
              0.6666666666666666,
              "#35b779"
             ],
             [
              0.7777777777777778,
              "#6ece58"
             ],
             [
              0.8888888888888888,
              "#b5de2b"
             ],
             [
              1,
              "#fde725"
             ]
            ],
            "type": "histogram2d"
           }
          ],
          "histogram2dcontour": [
           {
            "colorbar": {
             "outlinewidth": 1,
             "tickcolor": "rgb(36,36,36)",
             "ticks": "outside"
            },
            "colorscale": [
             [
              0,
              "#440154"
             ],
             [
              0.1111111111111111,
              "#482878"
             ],
             [
              0.2222222222222222,
              "#3e4989"
             ],
             [
              0.3333333333333333,
              "#31688e"
             ],
             [
              0.4444444444444444,
              "#26828e"
             ],
             [
              0.5555555555555556,
              "#1f9e89"
             ],
             [
              0.6666666666666666,
              "#35b779"
             ],
             [
              0.7777777777777778,
              "#6ece58"
             ],
             [
              0.8888888888888888,
              "#b5de2b"
             ],
             [
              1,
              "#fde725"
             ]
            ],
            "type": "histogram2dcontour"
           }
          ],
          "mesh3d": [
           {
            "colorbar": {
             "outlinewidth": 1,
             "tickcolor": "rgb(36,36,36)",
             "ticks": "outside"
            },
            "type": "mesh3d"
           }
          ],
          "parcoords": [
           {
            "line": {
             "colorbar": {
              "outlinewidth": 1,
              "tickcolor": "rgb(36,36,36)",
              "ticks": "outside"
             }
            },
            "type": "parcoords"
           }
          ],
          "pie": [
           {
            "automargin": true,
            "type": "pie"
           }
          ],
          "scatter": [
           {
            "fillpattern": {
             "fillmode": "overlay",
             "size": 10,
             "solidity": 0.2
            },
            "type": "scatter"
           }
          ],
          "scatter3d": [
           {
            "line": {
             "colorbar": {
              "outlinewidth": 1,
              "tickcolor": "rgb(36,36,36)",
              "ticks": "outside"
             }
            },
            "marker": {
             "colorbar": {
              "outlinewidth": 1,
              "tickcolor": "rgb(36,36,36)",
              "ticks": "outside"
             }
            },
            "type": "scatter3d"
           }
          ],
          "scattercarpet": [
           {
            "marker": {
             "colorbar": {
              "outlinewidth": 1,
              "tickcolor": "rgb(36,36,36)",
              "ticks": "outside"
             }
            },
            "type": "scattercarpet"
           }
          ],
          "scattergeo": [
           {
            "marker": {
             "colorbar": {
              "outlinewidth": 1,
              "tickcolor": "rgb(36,36,36)",
              "ticks": "outside"
             }
            },
            "type": "scattergeo"
           }
          ],
          "scattergl": [
           {
            "marker": {
             "colorbar": {
              "outlinewidth": 1,
              "tickcolor": "rgb(36,36,36)",
              "ticks": "outside"
             }
            },
            "type": "scattergl"
           }
          ],
          "scattermapbox": [
           {
            "marker": {
             "colorbar": {
              "outlinewidth": 1,
              "tickcolor": "rgb(36,36,36)",
              "ticks": "outside"
             }
            },
            "type": "scattermapbox"
           }
          ],
          "scatterpolar": [
           {
            "marker": {
             "colorbar": {
              "outlinewidth": 1,
              "tickcolor": "rgb(36,36,36)",
              "ticks": "outside"
             }
            },
            "type": "scatterpolar"
           }
          ],
          "scatterpolargl": [
           {
            "marker": {
             "colorbar": {
              "outlinewidth": 1,
              "tickcolor": "rgb(36,36,36)",
              "ticks": "outside"
             }
            },
            "type": "scatterpolargl"
           }
          ],
          "scatterternary": [
           {
            "marker": {
             "colorbar": {
              "outlinewidth": 1,
              "tickcolor": "rgb(36,36,36)",
              "ticks": "outside"
             }
            },
            "type": "scatterternary"
           }
          ],
          "surface": [
           {
            "colorbar": {
             "outlinewidth": 1,
             "tickcolor": "rgb(36,36,36)",
             "ticks": "outside"
            },
            "colorscale": [
             [
              0,
              "#440154"
             ],
             [
              0.1111111111111111,
              "#482878"
             ],
             [
              0.2222222222222222,
              "#3e4989"
             ],
             [
              0.3333333333333333,
              "#31688e"
             ],
             [
              0.4444444444444444,
              "#26828e"
             ],
             [
              0.5555555555555556,
              "#1f9e89"
             ],
             [
              0.6666666666666666,
              "#35b779"
             ],
             [
              0.7777777777777778,
              "#6ece58"
             ],
             [
              0.8888888888888888,
              "#b5de2b"
             ],
             [
              1,
              "#fde725"
             ]
            ],
            "type": "surface"
           }
          ],
          "table": [
           {
            "cells": {
             "fill": {
              "color": "rgb(237,237,237)"
             },
             "line": {
              "color": "white"
             }
            },
            "header": {
             "fill": {
              "color": "rgb(217,217,217)"
             },
             "line": {
              "color": "white"
             }
            },
            "type": "table"
           }
          ]
         },
         "layout": {
          "annotationdefaults": {
           "arrowhead": 0,
           "arrowwidth": 1
          },
          "autotypenumbers": "strict",
          "coloraxis": {
           "colorbar": {
            "outlinewidth": 1,
            "tickcolor": "rgb(36,36,36)",
            "ticks": "outside"
           }
          },
          "colorscale": {
           "diverging": [
            [
             0,
             "rgb(103,0,31)"
            ],
            [
             0.1,
             "rgb(178,24,43)"
            ],
            [
             0.2,
             "rgb(214,96,77)"
            ],
            [
             0.3,
             "rgb(244,165,130)"
            ],
            [
             0.4,
             "rgb(253,219,199)"
            ],
            [
             0.5,
             "rgb(247,247,247)"
            ],
            [
             0.6,
             "rgb(209,229,240)"
            ],
            [
             0.7,
             "rgb(146,197,222)"
            ],
            [
             0.8,
             "rgb(67,147,195)"
            ],
            [
             0.9,
             "rgb(33,102,172)"
            ],
            [
             1,
             "rgb(5,48,97)"
            ]
           ],
           "sequential": [
            [
             0,
             "#440154"
            ],
            [
             0.1111111111111111,
             "#482878"
            ],
            [
             0.2222222222222222,
             "#3e4989"
            ],
            [
             0.3333333333333333,
             "#31688e"
            ],
            [
             0.4444444444444444,
             "#26828e"
            ],
            [
             0.5555555555555556,
             "#1f9e89"
            ],
            [
             0.6666666666666666,
             "#35b779"
            ],
            [
             0.7777777777777778,
             "#6ece58"
            ],
            [
             0.8888888888888888,
             "#b5de2b"
            ],
            [
             1,
             "#fde725"
            ]
           ],
           "sequentialminus": [
            [
             0,
             "#440154"
            ],
            [
             0.1111111111111111,
             "#482878"
            ],
            [
             0.2222222222222222,
             "#3e4989"
            ],
            [
             0.3333333333333333,
             "#31688e"
            ],
            [
             0.4444444444444444,
             "#26828e"
            ],
            [
             0.5555555555555556,
             "#1f9e89"
            ],
            [
             0.6666666666666666,
             "#35b779"
            ],
            [
             0.7777777777777778,
             "#6ece58"
            ],
            [
             0.8888888888888888,
             "#b5de2b"
            ],
            [
             1,
             "#fde725"
            ]
           ]
          },
          "colorway": [
           "#1F77B4",
           "#FF7F0E",
           "#2CA02C",
           "#D62728",
           "#9467BD",
           "#8C564B",
           "#E377C2",
           "#7F7F7F",
           "#BCBD22",
           "#17BECF"
          ],
          "font": {
           "color": "rgb(36,36,36)"
          },
          "geo": {
           "bgcolor": "white",
           "lakecolor": "white",
           "landcolor": "white",
           "showlakes": true,
           "showland": true,
           "subunitcolor": "white"
          },
          "hoverlabel": {
           "align": "left"
          },
          "hovermode": "closest",
          "mapbox": {
           "style": "light"
          },
          "paper_bgcolor": "white",
          "plot_bgcolor": "white",
          "polar": {
           "angularaxis": {
            "gridcolor": "rgb(232,232,232)",
            "linecolor": "rgb(36,36,36)",
            "showgrid": false,
            "showline": true,
            "ticks": "outside"
           },
           "bgcolor": "white",
           "radialaxis": {
            "gridcolor": "rgb(232,232,232)",
            "linecolor": "rgb(36,36,36)",
            "showgrid": false,
            "showline": true,
            "ticks": "outside"
           }
          },
          "scene": {
           "xaxis": {
            "backgroundcolor": "white",
            "gridcolor": "rgb(232,232,232)",
            "gridwidth": 2,
            "linecolor": "rgb(36,36,36)",
            "showbackground": true,
            "showgrid": false,
            "showline": true,
            "ticks": "outside",
            "zeroline": false,
            "zerolinecolor": "rgb(36,36,36)"
           },
           "yaxis": {
            "backgroundcolor": "white",
            "gridcolor": "rgb(232,232,232)",
            "gridwidth": 2,
            "linecolor": "rgb(36,36,36)",
            "showbackground": true,
            "showgrid": false,
            "showline": true,
            "ticks": "outside",
            "zeroline": false,
            "zerolinecolor": "rgb(36,36,36)"
           },
           "zaxis": {
            "backgroundcolor": "white",
            "gridcolor": "rgb(232,232,232)",
            "gridwidth": 2,
            "linecolor": "rgb(36,36,36)",
            "showbackground": true,
            "showgrid": false,
            "showline": true,
            "ticks": "outside",
            "zeroline": false,
            "zerolinecolor": "rgb(36,36,36)"
           }
          },
          "shapedefaults": {
           "fillcolor": "black",
           "line": {
            "width": 0
           },
           "opacity": 0.3
          },
          "ternary": {
           "aaxis": {
            "gridcolor": "rgb(232,232,232)",
            "linecolor": "rgb(36,36,36)",
            "showgrid": false,
            "showline": true,
            "ticks": "outside"
           },
           "baxis": {
            "gridcolor": "rgb(232,232,232)",
            "linecolor": "rgb(36,36,36)",
            "showgrid": false,
            "showline": true,
            "ticks": "outside"
           },
           "bgcolor": "white",
           "caxis": {
            "gridcolor": "rgb(232,232,232)",
            "linecolor": "rgb(36,36,36)",
            "showgrid": false,
            "showline": true,
            "ticks": "outside"
           }
          },
          "title": {
           "x": 0.05
          },
          "xaxis": {
           "automargin": true,
           "gridcolor": "rgb(232,232,232)",
           "linecolor": "rgb(36,36,36)",
           "showgrid": false,
           "showline": true,
           "ticks": "outside",
           "title": {
            "standoff": 15
           },
           "zeroline": false,
           "zerolinecolor": "rgb(36,36,36)"
          },
          "yaxis": {
           "automargin": true,
           "gridcolor": "rgb(232,232,232)",
           "linecolor": "rgb(36,36,36)",
           "showgrid": false,
           "showline": true,
           "ticks": "outside",
           "title": {
            "standoff": 15
           },
           "zeroline": false,
           "zerolinecolor": "rgb(36,36,36)"
          }
         }
        },
        "title": {
         "text": "Top 5 locations matching your search"
        },
        "xaxis": {
         "title": {
          "text": "Year"
         }
        },
        "yaxis": {
         "title": {
          "text": "gdp"
         }
        }
       }
      }
     },
     "metadata": {},
     "output_type": "display_data"
    }
   ],
   "source": [
    "# you can plot the few most similar cities:\n",
    "fig = f.show_kins_plot()"
   ]
  },
  {
   "cell_type": "markdown",
   "metadata": {},
   "source": [
    "### Use case: similarity in outcome patterns and some other features\n",
    "\n",
    "Say you want to include historical population patterns in your similarity ranking. You also want to pay a bit more attention to older data points. And you can now set weights to negative values to indicate that you care about dissimilarity in that feature."
   ]
  },
  {
   "cell_type": "code",
   "execution_count": 13,
   "metadata": {},
   "outputs": [
    {
     "data": {
      "application/vnd.plotly.v1+json": {
       "config": {
        "plotlyServerURL": "https://plot.ly"
       },
       "data": [
        {
         "type": "bar",
         "x": [
          "2001_gdp",
          "2002_gdp",
          "2003_gdp",
          "2004_gdp",
          "2005_gdp",
          "2006_gdp",
          "2007_gdp",
          "2008_gdp",
          "2009_gdp",
          "2010_gdp",
          "2011_gdp",
          "2013_gdp",
          "2014_gdp",
          "2015_gdp",
          "2016_gdp",
          "2017_gdp",
          "2018_gdp",
          "2019_gdp",
          "2020_gdp",
          "2021_gdp",
          "1993_population",
          "1994_population",
          "1995_population",
          "1996_population",
          "1997_population",
          "1998_population",
          "1999_population",
          "2000_population",
          "2001_population",
          "2002_population",
          "2003_population",
          "2004_population",
          "2005_population",
          "2006_population",
          "2007_population",
          "2008_population",
          "2009_population",
          "2010_population",
          "2011_population",
          "2012_population",
          "2013_population",
          "2014_population",
          "2015_population",
          "2016_population",
          "2017_population",
          "2018_population",
          "2019_population",
          "2020_population",
          "2021_population"
         ],
         "y": [
          -0.07443141519371825,
          -0.07666435764952981,
          -0.07896428837901569,
          -0.08133321703038617,
          -0.08377321354129776,
          -0.08628640994753668,
          -0.08887500224596279,
          -0.09154125231334168,
          -0.09428748988274194,
          -0.0971161145792242,
          -0.10002959801660093,
          -0.10303048595709895,
          -0.10612140053581191,
          -0.10930504255188629,
          -0.11258419382844288,
          -0.11596171964329616,
          -0.11944057123259505,
          -0.12302378836957291,
          -0.12671450202066012,
          -0.1305159370812799,
          0.022114671106632556,
          0.022778111239831533,
          0.02346145457702648,
          0.024165298214337275,
          0.024890257160767395,
          0.025636964875590414,
          0.02640607382185813,
          0.027198256036513876,
          0.028014203717609293,
          0.02885462982913757,
          0.0297202687240117,
          0.03061187678573205,
          0.03153023308930401,
          0.032476140081983136,
          0.03345042428444263,
          0.03445393701297591,
          0.03548755512336519,
          0.036552181777066144,
          0.03764874723037813,
          0.03877820964728947,
          0.03994155593670816,
          0.04113980261480941,
          0.04237399669325369,
          0.0436452165940513,
          0.04495457309187284,
          0.046303210284629026,
          0.0476923065931679,
          0.04912307579096294,
          0.05059676806469183
         ]
        }
       ],
       "layout": {
        "template": {
         "data": {
          "bar": [
           {
            "error_x": {
             "color": "#2a3f5f"
            },
            "error_y": {
             "color": "#2a3f5f"
            },
            "marker": {
             "line": {
              "color": "white",
              "width": 0.5
             },
             "pattern": {
              "fillmode": "overlay",
              "size": 10,
              "solidity": 0.2
             }
            },
            "type": "bar"
           }
          ],
          "barpolar": [
           {
            "marker": {
             "line": {
              "color": "white",
              "width": 0.5
             },
             "pattern": {
              "fillmode": "overlay",
              "size": 10,
              "solidity": 0.2
             }
            },
            "type": "barpolar"
           }
          ],
          "carpet": [
           {
            "aaxis": {
             "endlinecolor": "#2a3f5f",
             "gridcolor": "#C8D4E3",
             "linecolor": "#C8D4E3",
             "minorgridcolor": "#C8D4E3",
             "startlinecolor": "#2a3f5f"
            },
            "baxis": {
             "endlinecolor": "#2a3f5f",
             "gridcolor": "#C8D4E3",
             "linecolor": "#C8D4E3",
             "minorgridcolor": "#C8D4E3",
             "startlinecolor": "#2a3f5f"
            },
            "type": "carpet"
           }
          ],
          "choropleth": [
           {
            "colorbar": {
             "outlinewidth": 0,
             "ticks": ""
            },
            "type": "choropleth"
           }
          ],
          "contour": [
           {
            "colorbar": {
             "outlinewidth": 0,
             "ticks": ""
            },
            "colorscale": [
             [
              0,
              "#0d0887"
             ],
             [
              0.1111111111111111,
              "#46039f"
             ],
             [
              0.2222222222222222,
              "#7201a8"
             ],
             [
              0.3333333333333333,
              "#9c179e"
             ],
             [
              0.4444444444444444,
              "#bd3786"
             ],
             [
              0.5555555555555556,
              "#d8576b"
             ],
             [
              0.6666666666666666,
              "#ed7953"
             ],
             [
              0.7777777777777778,
              "#fb9f3a"
             ],
             [
              0.8888888888888888,
              "#fdca26"
             ],
             [
              1,
              "#f0f921"
             ]
            ],
            "type": "contour"
           }
          ],
          "contourcarpet": [
           {
            "colorbar": {
             "outlinewidth": 0,
             "ticks": ""
            },
            "type": "contourcarpet"
           }
          ],
          "heatmap": [
           {
            "colorbar": {
             "outlinewidth": 0,
             "ticks": ""
            },
            "colorscale": [
             [
              0,
              "#0d0887"
             ],
             [
              0.1111111111111111,
              "#46039f"
             ],
             [
              0.2222222222222222,
              "#7201a8"
             ],
             [
              0.3333333333333333,
              "#9c179e"
             ],
             [
              0.4444444444444444,
              "#bd3786"
             ],
             [
              0.5555555555555556,
              "#d8576b"
             ],
             [
              0.6666666666666666,
              "#ed7953"
             ],
             [
              0.7777777777777778,
              "#fb9f3a"
             ],
             [
              0.8888888888888888,
              "#fdca26"
             ],
             [
              1,
              "#f0f921"
             ]
            ],
            "type": "heatmap"
           }
          ],
          "heatmapgl": [
           {
            "colorbar": {
             "outlinewidth": 0,
             "ticks": ""
            },
            "colorscale": [
             [
              0,
              "#0d0887"
             ],
             [
              0.1111111111111111,
              "#46039f"
             ],
             [
              0.2222222222222222,
              "#7201a8"
             ],
             [
              0.3333333333333333,
              "#9c179e"
             ],
             [
              0.4444444444444444,
              "#bd3786"
             ],
             [
              0.5555555555555556,
              "#d8576b"
             ],
             [
              0.6666666666666666,
              "#ed7953"
             ],
             [
              0.7777777777777778,
              "#fb9f3a"
             ],
             [
              0.8888888888888888,
              "#fdca26"
             ],
             [
              1,
              "#f0f921"
             ]
            ],
            "type": "heatmapgl"
           }
          ],
          "histogram": [
           {
            "marker": {
             "pattern": {
              "fillmode": "overlay",
              "size": 10,
              "solidity": 0.2
             }
            },
            "type": "histogram"
           }
          ],
          "histogram2d": [
           {
            "colorbar": {
             "outlinewidth": 0,
             "ticks": ""
            },
            "colorscale": [
             [
              0,
              "#0d0887"
             ],
             [
              0.1111111111111111,
              "#46039f"
             ],
             [
              0.2222222222222222,
              "#7201a8"
             ],
             [
              0.3333333333333333,
              "#9c179e"
             ],
             [
              0.4444444444444444,
              "#bd3786"
             ],
             [
              0.5555555555555556,
              "#d8576b"
             ],
             [
              0.6666666666666666,
              "#ed7953"
             ],
             [
              0.7777777777777778,
              "#fb9f3a"
             ],
             [
              0.8888888888888888,
              "#fdca26"
             ],
             [
              1,
              "#f0f921"
             ]
            ],
            "type": "histogram2d"
           }
          ],
          "histogram2dcontour": [
           {
            "colorbar": {
             "outlinewidth": 0,
             "ticks": ""
            },
            "colorscale": [
             [
              0,
              "#0d0887"
             ],
             [
              0.1111111111111111,
              "#46039f"
             ],
             [
              0.2222222222222222,
              "#7201a8"
             ],
             [
              0.3333333333333333,
              "#9c179e"
             ],
             [
              0.4444444444444444,
              "#bd3786"
             ],
             [
              0.5555555555555556,
              "#d8576b"
             ],
             [
              0.6666666666666666,
              "#ed7953"
             ],
             [
              0.7777777777777778,
              "#fb9f3a"
             ],
             [
              0.8888888888888888,
              "#fdca26"
             ],
             [
              1,
              "#f0f921"
             ]
            ],
            "type": "histogram2dcontour"
           }
          ],
          "mesh3d": [
           {
            "colorbar": {
             "outlinewidth": 0,
             "ticks": ""
            },
            "type": "mesh3d"
           }
          ],
          "parcoords": [
           {
            "line": {
             "colorbar": {
              "outlinewidth": 0,
              "ticks": ""
             }
            },
            "type": "parcoords"
           }
          ],
          "pie": [
           {
            "automargin": true,
            "type": "pie"
           }
          ],
          "scatter": [
           {
            "fillpattern": {
             "fillmode": "overlay",
             "size": 10,
             "solidity": 0.2
            },
            "type": "scatter"
           }
          ],
          "scatter3d": [
           {
            "line": {
             "colorbar": {
              "outlinewidth": 0,
              "ticks": ""
             }
            },
            "marker": {
             "colorbar": {
              "outlinewidth": 0,
              "ticks": ""
             }
            },
            "type": "scatter3d"
           }
          ],
          "scattercarpet": [
           {
            "marker": {
             "colorbar": {
              "outlinewidth": 0,
              "ticks": ""
             }
            },
            "type": "scattercarpet"
           }
          ],
          "scattergeo": [
           {
            "marker": {
             "colorbar": {
              "outlinewidth": 0,
              "ticks": ""
             }
            },
            "type": "scattergeo"
           }
          ],
          "scattergl": [
           {
            "marker": {
             "colorbar": {
              "outlinewidth": 0,
              "ticks": ""
             }
            },
            "type": "scattergl"
           }
          ],
          "scattermapbox": [
           {
            "marker": {
             "colorbar": {
              "outlinewidth": 0,
              "ticks": ""
             }
            },
            "type": "scattermapbox"
           }
          ],
          "scatterpolar": [
           {
            "marker": {
             "colorbar": {
              "outlinewidth": 0,
              "ticks": ""
             }
            },
            "type": "scatterpolar"
           }
          ],
          "scatterpolargl": [
           {
            "marker": {
             "colorbar": {
              "outlinewidth": 0,
              "ticks": ""
             }
            },
            "type": "scatterpolargl"
           }
          ],
          "scatterternary": [
           {
            "marker": {
             "colorbar": {
              "outlinewidth": 0,
              "ticks": ""
             }
            },
            "type": "scatterternary"
           }
          ],
          "surface": [
           {
            "colorbar": {
             "outlinewidth": 0,
             "ticks": ""
            },
            "colorscale": [
             [
              0,
              "#0d0887"
             ],
             [
              0.1111111111111111,
              "#46039f"
             ],
             [
              0.2222222222222222,
              "#7201a8"
             ],
             [
              0.3333333333333333,
              "#9c179e"
             ],
             [
              0.4444444444444444,
              "#bd3786"
             ],
             [
              0.5555555555555556,
              "#d8576b"
             ],
             [
              0.6666666666666666,
              "#ed7953"
             ],
             [
              0.7777777777777778,
              "#fb9f3a"
             ],
             [
              0.8888888888888888,
              "#fdca26"
             ],
             [
              1,
              "#f0f921"
             ]
            ],
            "type": "surface"
           }
          ],
          "table": [
           {
            "cells": {
             "fill": {
              "color": "#EBF0F8"
             },
             "line": {
              "color": "white"
             }
            },
            "header": {
             "fill": {
              "color": "#C8D4E3"
             },
             "line": {
              "color": "white"
             }
            },
            "type": "table"
           }
          ]
         },
         "layout": {
          "annotationdefaults": {
           "arrowcolor": "#2a3f5f",
           "arrowhead": 0,
           "arrowwidth": 1
          },
          "autotypenumbers": "strict",
          "coloraxis": {
           "colorbar": {
            "outlinewidth": 0,
            "ticks": ""
           }
          },
          "colorscale": {
           "diverging": [
            [
             0,
             "#8e0152"
            ],
            [
             0.1,
             "#c51b7d"
            ],
            [
             0.2,
             "#de77ae"
            ],
            [
             0.3,
             "#f1b6da"
            ],
            [
             0.4,
             "#fde0ef"
            ],
            [
             0.5,
             "#f7f7f7"
            ],
            [
             0.6,
             "#e6f5d0"
            ],
            [
             0.7,
             "#b8e186"
            ],
            [
             0.8,
             "#7fbc41"
            ],
            [
             0.9,
             "#4d9221"
            ],
            [
             1,
             "#276419"
            ]
           ],
           "sequential": [
            [
             0,
             "#0d0887"
            ],
            [
             0.1111111111111111,
             "#46039f"
            ],
            [
             0.2222222222222222,
             "#7201a8"
            ],
            [
             0.3333333333333333,
             "#9c179e"
            ],
            [
             0.4444444444444444,
             "#bd3786"
            ],
            [
             0.5555555555555556,
             "#d8576b"
            ],
            [
             0.6666666666666666,
             "#ed7953"
            ],
            [
             0.7777777777777778,
             "#fb9f3a"
            ],
            [
             0.8888888888888888,
             "#fdca26"
            ],
            [
             1,
             "#f0f921"
            ]
           ],
           "sequentialminus": [
            [
             0,
             "#0d0887"
            ],
            [
             0.1111111111111111,
             "#46039f"
            ],
            [
             0.2222222222222222,
             "#7201a8"
            ],
            [
             0.3333333333333333,
             "#9c179e"
            ],
            [
             0.4444444444444444,
             "#bd3786"
            ],
            [
             0.5555555555555556,
             "#d8576b"
            ],
            [
             0.6666666666666666,
             "#ed7953"
            ],
            [
             0.7777777777777778,
             "#fb9f3a"
            ],
            [
             0.8888888888888888,
             "#fdca26"
            ],
            [
             1,
             "#f0f921"
            ]
           ]
          },
          "colorway": [
           "#636efa",
           "#EF553B",
           "#00cc96",
           "#ab63fa",
           "#FFA15A",
           "#19d3f3",
           "#FF6692",
           "#B6E880",
           "#FF97FF",
           "#FECB52"
          ],
          "font": {
           "color": "#2a3f5f"
          },
          "geo": {
           "bgcolor": "white",
           "lakecolor": "white",
           "landcolor": "white",
           "showlakes": true,
           "showland": true,
           "subunitcolor": "#C8D4E3"
          },
          "hoverlabel": {
           "align": "left"
          },
          "hovermode": "closest",
          "mapbox": {
           "style": "light"
          },
          "paper_bgcolor": "white",
          "plot_bgcolor": "white",
          "polar": {
           "angularaxis": {
            "gridcolor": "#EBF0F8",
            "linecolor": "#EBF0F8",
            "ticks": ""
           },
           "bgcolor": "white",
           "radialaxis": {
            "gridcolor": "#EBF0F8",
            "linecolor": "#EBF0F8",
            "ticks": ""
           }
          },
          "scene": {
           "xaxis": {
            "backgroundcolor": "white",
            "gridcolor": "#DFE8F3",
            "gridwidth": 2,
            "linecolor": "#EBF0F8",
            "showbackground": true,
            "ticks": "",
            "zerolinecolor": "#EBF0F8"
           },
           "yaxis": {
            "backgroundcolor": "white",
            "gridcolor": "#DFE8F3",
            "gridwidth": 2,
            "linecolor": "#EBF0F8",
            "showbackground": true,
            "ticks": "",
            "zerolinecolor": "#EBF0F8"
           },
           "zaxis": {
            "backgroundcolor": "white",
            "gridcolor": "#DFE8F3",
            "gridwidth": 2,
            "linecolor": "#EBF0F8",
            "showbackground": true,
            "ticks": "",
            "zerolinecolor": "#EBF0F8"
           }
          },
          "shapedefaults": {
           "line": {
            "color": "#2a3f5f"
           }
          },
          "ternary": {
           "aaxis": {
            "gridcolor": "#DFE8F3",
            "linecolor": "#A2B1C6",
            "ticks": ""
           },
           "baxis": {
            "gridcolor": "#DFE8F3",
            "linecolor": "#A2B1C6",
            "ticks": ""
           },
           "bgcolor": "white",
           "caxis": {
            "gridcolor": "#DFE8F3",
            "linecolor": "#A2B1C6",
            "ticks": ""
           }
          },
          "title": {
           "x": 0.05
          },
          "xaxis": {
           "automargin": true,
           "gridcolor": "#EBF0F8",
           "linecolor": "#EBF0F8",
           "ticks": "",
           "title": {
            "standoff": 15
           },
           "zerolinecolor": "#EBF0F8",
           "zerolinewidth": 2
          },
          "yaxis": {
           "automargin": true,
           "gridcolor": "#EBF0F8",
           "linecolor": "#EBF0F8",
           "ticks": "",
           "title": {
            "standoff": 15
           },
           "zerolinecolor": "#EBF0F8",
           "zerolinewidth": 2
          }
         }
        },
        "title": {
         "text": "Weights of columns"
        },
        "xaxis": {
         "title": {
          "text": "columns"
         }
        },
        "yaxis": {
         "title": {
          "text": "weights"
         }
        }
       }
      }
     },
     "metadata": {},
     "output_type": "display_data"
    },
    {
     "data": {
      "text/plain": [
       "None"
      ]
     },
     "metadata": {},
     "output_type": "display_data"
    }
   ],
   "source": [
    "f  = FipsQuery(1007, outcome_var = \"gdp\",\n",
    "               feature_groups_with_weights= {\"gdp\": -2, \"population\":1}, #with one feature group only\n",
    "               # weights 1-4 won't make a difference\n",
    "               lag = 0, top =5, time_decay = 1.03)\n",
    "f.find_euclidean_kins()\n",
    "# you still can inspect the resulting weighing:\n",
    "display(f.plot_weights())"
   ]
  },
  {
   "cell_type": "code",
   "execution_count": 14,
   "metadata": {},
   "outputs": [
    {
     "data": {
      "text/html": [
       "<div>\n",
       "<style scoped>\n",
       "    .dataframe tbody tr th:only-of-type {\n",
       "        vertical-align: middle;\n",
       "    }\n",
       "\n",
       "    .dataframe tbody tr th {\n",
       "        vertical-align: top;\n",
       "    }\n",
       "\n",
       "    .dataframe thead th {\n",
       "        text-align: right;\n",
       "    }\n",
       "</style>\n",
       "<table border=\"1\" class=\"dataframe\">\n",
       "  <thead>\n",
       "    <tr style=\"text-align: right;\">\n",
       "      <th></th>\n",
       "      <th>GeoFIPS</th>\n",
       "      <th>GeoName</th>\n",
       "      <th>2001</th>\n",
       "      <th>2002</th>\n",
       "      <th>2003</th>\n",
       "      <th>2004</th>\n",
       "      <th>2005</th>\n",
       "      <th>2006</th>\n",
       "      <th>2007</th>\n",
       "      <th>2008</th>\n",
       "      <th>...</th>\n",
       "      <th>2014_population</th>\n",
       "      <th>2015_population</th>\n",
       "      <th>2016_population</th>\n",
       "      <th>2017_population</th>\n",
       "      <th>2018_population</th>\n",
       "      <th>2019_population</th>\n",
       "      <th>2020_population</th>\n",
       "      <th>2021_population</th>\n",
       "      <th>distance to 1007</th>\n",
       "      <th>percentile</th>\n",
       "    </tr>\n",
       "  </thead>\n",
       "  <tbody>\n",
       "    <tr>\n",
       "      <th>0</th>\n",
       "      <td>1007</td>\n",
       "      <td>Bibb, AL</td>\n",
       "      <td>80.443</td>\n",
       "      <td>81.527</td>\n",
       "      <td>85.124</td>\n",
       "      <td>89.317</td>\n",
       "      <td>88.782</td>\n",
       "      <td>89.597</td>\n",
       "      <td>95.308</td>\n",
       "      <td>94.745</td>\n",
       "      <td>...</td>\n",
       "      <td>22586.0</td>\n",
       "      <td>22607.0</td>\n",
       "      <td>22654.0</td>\n",
       "      <td>22606.0</td>\n",
       "      <td>22383.0</td>\n",
       "      <td>22405.0</td>\n",
       "      <td>22223.0</td>\n",
       "      <td>22477.0</td>\n",
       "      <td>0.000000</td>\n",
       "      <td>47.86</td>\n",
       "    </tr>\n",
       "    <tr>\n",
       "      <th>1</th>\n",
       "      <td>48109</td>\n",
       "      <td>Culberson, TX</td>\n",
       "      <td>35.264</td>\n",
       "      <td>37.743</td>\n",
       "      <td>36.255</td>\n",
       "      <td>38.339</td>\n",
       "      <td>40.177</td>\n",
       "      <td>41.247</td>\n",
       "      <td>42.368</td>\n",
       "      <td>53.349</td>\n",
       "      <td>...</td>\n",
       "      <td>2301.0</td>\n",
       "      <td>2275.0</td>\n",
       "      <td>2244.0</td>\n",
       "      <td>2259.0</td>\n",
       "      <td>2212.0</td>\n",
       "      <td>2186.0</td>\n",
       "      <td>2193.0</td>\n",
       "      <td>2193.0</td>\n",
       "      <td>1.947278</td>\n",
       "      <td>99.97</td>\n",
       "    </tr>\n",
       "    <tr>\n",
       "      <th>2</th>\n",
       "      <td>48389</td>\n",
       "      <td>Reeves, TX</td>\n",
       "      <td>46.003</td>\n",
       "      <td>49.290</td>\n",
       "      <td>44.960</td>\n",
       "      <td>41.682</td>\n",
       "      <td>39.742</td>\n",
       "      <td>41.332</td>\n",
       "      <td>41.009</td>\n",
       "      <td>41.389</td>\n",
       "      <td>...</td>\n",
       "      <td>14614.0</td>\n",
       "      <td>14936.0</td>\n",
       "      <td>14484.0</td>\n",
       "      <td>14314.0</td>\n",
       "      <td>14526.0</td>\n",
       "      <td>14847.0</td>\n",
       "      <td>14730.0</td>\n",
       "      <td>14487.0</td>\n",
       "      <td>1.968913</td>\n",
       "      <td>99.90</td>\n",
       "    </tr>\n",
       "    <tr>\n",
       "      <th>3</th>\n",
       "      <td>48283</td>\n",
       "      <td>La Salle, TX</td>\n",
       "      <td>6.638</td>\n",
       "      <td>6.679</td>\n",
       "      <td>7.065</td>\n",
       "      <td>6.727</td>\n",
       "      <td>7.541</td>\n",
       "      <td>8.729</td>\n",
       "      <td>8.254</td>\n",
       "      <td>7.900</td>\n",
       "      <td>...</td>\n",
       "      <td>7115.0</td>\n",
       "      <td>7175.0</td>\n",
       "      <td>7057.0</td>\n",
       "      <td>6916.0</td>\n",
       "      <td>6808.0</td>\n",
       "      <td>6763.0</td>\n",
       "      <td>6642.0</td>\n",
       "      <td>6670.0</td>\n",
       "      <td>2.070731</td>\n",
       "      <td>96.40</td>\n",
       "    </tr>\n",
       "    <tr>\n",
       "      <th>4</th>\n",
       "      <td>48255</td>\n",
       "      <td>Karnes, TX</td>\n",
       "      <td>6.498</td>\n",
       "      <td>6.891</td>\n",
       "      <td>7.331</td>\n",
       "      <td>6.759</td>\n",
       "      <td>6.537</td>\n",
       "      <td>6.290</td>\n",
       "      <td>6.662</td>\n",
       "      <td>6.937</td>\n",
       "      <td>...</td>\n",
       "      <td>14569.0</td>\n",
       "      <td>14976.0</td>\n",
       "      <td>14997.0</td>\n",
       "      <td>14990.0</td>\n",
       "      <td>15028.0</td>\n",
       "      <td>14605.0</td>\n",
       "      <td>14721.0</td>\n",
       "      <td>14754.0</td>\n",
       "      <td>2.076390</td>\n",
       "      <td>98.60</td>\n",
       "    </tr>\n",
       "    <tr>\n",
       "      <th>...</th>\n",
       "      <td>...</td>\n",
       "      <td>...</td>\n",
       "      <td>...</td>\n",
       "      <td>...</td>\n",
       "      <td>...</td>\n",
       "      <td>...</td>\n",
       "      <td>...</td>\n",
       "      <td>...</td>\n",
       "      <td>...</td>\n",
       "      <td>...</td>\n",
       "      <td>...</td>\n",
       "      <td>...</td>\n",
       "      <td>...</td>\n",
       "      <td>...</td>\n",
       "      <td>...</td>\n",
       "      <td>...</td>\n",
       "      <td>...</td>\n",
       "      <td>...</td>\n",
       "      <td>...</td>\n",
       "      <td>...</td>\n",
       "      <td>...</td>\n",
       "    </tr>\n",
       "    <tr>\n",
       "      <th>3077</th>\n",
       "      <td>6073</td>\n",
       "      <td>San Diego, CA</td>\n",
       "      <td>79.703</td>\n",
       "      <td>83.170</td>\n",
       "      <td>87.449</td>\n",
       "      <td>92.400</td>\n",
       "      <td>97.137</td>\n",
       "      <td>99.354</td>\n",
       "      <td>100.938</td>\n",
       "      <td>100.267</td>\n",
       "      <td>...</td>\n",
       "      <td>3234658.0</td>\n",
       "      <td>3262566.0</td>\n",
       "      <td>3283586.0</td>\n",
       "      <td>3293575.0</td>\n",
       "      <td>3303463.0</td>\n",
       "      <td>3297959.0</td>\n",
       "      <td>3297252.0</td>\n",
       "      <td>3286069.0</td>\n",
       "      <td>2.924300</td>\n",
       "      <td>80.21</td>\n",
       "    </tr>\n",
       "    <tr>\n",
       "      <th>3078</th>\n",
       "      <td>4013</td>\n",
       "      <td>Maricopa, AZ</td>\n",
       "      <td>77.463</td>\n",
       "      <td>80.415</td>\n",
       "      <td>85.793</td>\n",
       "      <td>90.349</td>\n",
       "      <td>97.615</td>\n",
       "      <td>102.729</td>\n",
       "      <td>105.313</td>\n",
       "      <td>103.632</td>\n",
       "      <td>...</td>\n",
       "      <td>4040171.0</td>\n",
       "      <td>4105747.0</td>\n",
       "      <td>4174844.0</td>\n",
       "      <td>4231511.0</td>\n",
       "      <td>4292576.0</td>\n",
       "      <td>4363816.0</td>\n",
       "      <td>4438342.0</td>\n",
       "      <td>4496588.0</td>\n",
       "      <td>2.950617</td>\n",
       "      <td>87.18</td>\n",
       "    </tr>\n",
       "    <tr>\n",
       "      <th>3079</th>\n",
       "      <td>48201</td>\n",
       "      <td>Harris, TX</td>\n",
       "      <td>73.137</td>\n",
       "      <td>72.696</td>\n",
       "      <td>72.847</td>\n",
       "      <td>79.658</td>\n",
       "      <td>80.626</td>\n",
       "      <td>87.278</td>\n",
       "      <td>94.310</td>\n",
       "      <td>91.961</td>\n",
       "      <td>...</td>\n",
       "      <td>4452976.0</td>\n",
       "      <td>4553991.0</td>\n",
       "      <td>4619635.0</td>\n",
       "      <td>4651955.0</td>\n",
       "      <td>4672445.0</td>\n",
       "      <td>4704042.0</td>\n",
       "      <td>4732491.0</td>\n",
       "      <td>4728030.0</td>\n",
       "      <td>2.952810</td>\n",
       "      <td>51.14</td>\n",
       "    </tr>\n",
       "    <tr>\n",
       "      <th>3080</th>\n",
       "      <td>17031</td>\n",
       "      <td>Cook, IL</td>\n",
       "      <td>95.406</td>\n",
       "      <td>94.886</td>\n",
       "      <td>95.455</td>\n",
       "      <td>97.260</td>\n",
       "      <td>99.315</td>\n",
       "      <td>101.320</td>\n",
       "      <td>101.826</td>\n",
       "      <td>99.238</td>\n",
       "      <td>...</td>\n",
       "      <td>5320233.0</td>\n",
       "      <td>5324961.0</td>\n",
       "      <td>5320293.0</td>\n",
       "      <td>5311621.0</td>\n",
       "      <td>5297956.0</td>\n",
       "      <td>5287099.0</td>\n",
       "      <td>5262741.0</td>\n",
       "      <td>5173146.0</td>\n",
       "      <td>3.019405</td>\n",
       "      <td>52.43</td>\n",
       "    </tr>\n",
       "    <tr>\n",
       "      <th>3081</th>\n",
       "      <td>6037</td>\n",
       "      <td>Los Angeles, CA</td>\n",
       "      <td>82.070</td>\n",
       "      <td>83.658</td>\n",
       "      <td>86.614</td>\n",
       "      <td>89.137</td>\n",
       "      <td>91.163</td>\n",
       "      <td>94.942</td>\n",
       "      <td>96.400</td>\n",
       "      <td>98.804</td>\n",
       "      <td>...</td>\n",
       "      <td>10051511.0</td>\n",
       "      <td>10099677.0</td>\n",
       "      <td>10121673.0</td>\n",
       "      <td>10123521.0</td>\n",
       "      <td>10096986.0</td>\n",
       "      <td>10051154.0</td>\n",
       "      <td>9989165.0</td>\n",
       "      <td>9829544.0</td>\n",
       "      <td>3.256690</td>\n",
       "      <td>77.03</td>\n",
       "    </tr>\n",
       "  </tbody>\n",
       "</table>\n",
       "<p>3082 rows × 53 columns</p>\n",
       "</div>"
      ],
      "text/plain": [
       "      GeoFIPS          GeoName    2001    2002    2003    2004    2005  \\\n",
       "0        1007         Bibb, AL  80.443  81.527  85.124  89.317  88.782   \n",
       "1       48109    Culberson, TX  35.264  37.743  36.255  38.339  40.177   \n",
       "2       48389       Reeves, TX  46.003  49.290  44.960  41.682  39.742   \n",
       "3       48283     La Salle, TX   6.638   6.679   7.065   6.727   7.541   \n",
       "4       48255       Karnes, TX   6.498   6.891   7.331   6.759   6.537   \n",
       "...       ...              ...     ...     ...     ...     ...     ...   \n",
       "3077     6073    San Diego, CA  79.703  83.170  87.449  92.400  97.137   \n",
       "3078     4013     Maricopa, AZ  77.463  80.415  85.793  90.349  97.615   \n",
       "3079    48201       Harris, TX  73.137  72.696  72.847  79.658  80.626   \n",
       "3080    17031         Cook, IL  95.406  94.886  95.455  97.260  99.315   \n",
       "3081     6037  Los Angeles, CA  82.070  83.658  86.614  89.137  91.163   \n",
       "\n",
       "         2006     2007     2008  ...  2014_population  2015_population  \\\n",
       "0      89.597   95.308   94.745  ...          22586.0          22607.0   \n",
       "1      41.247   42.368   53.349  ...           2301.0           2275.0   \n",
       "2      41.332   41.009   41.389  ...          14614.0          14936.0   \n",
       "3       8.729    8.254    7.900  ...           7115.0           7175.0   \n",
       "4       6.290    6.662    6.937  ...          14569.0          14976.0   \n",
       "...       ...      ...      ...  ...              ...              ...   \n",
       "3077   99.354  100.938  100.267  ...        3234658.0        3262566.0   \n",
       "3078  102.729  105.313  103.632  ...        4040171.0        4105747.0   \n",
       "3079   87.278   94.310   91.961  ...        4452976.0        4553991.0   \n",
       "3080  101.320  101.826   99.238  ...        5320233.0        5324961.0   \n",
       "3081   94.942   96.400   98.804  ...       10051511.0       10099677.0   \n",
       "\n",
       "      2016_population  2017_population  2018_population  2019_population  \\\n",
       "0             22654.0          22606.0          22383.0          22405.0   \n",
       "1              2244.0           2259.0           2212.0           2186.0   \n",
       "2             14484.0          14314.0          14526.0          14847.0   \n",
       "3              7057.0           6916.0           6808.0           6763.0   \n",
       "4             14997.0          14990.0          15028.0          14605.0   \n",
       "...               ...              ...              ...              ...   \n",
       "3077        3283586.0        3293575.0        3303463.0        3297959.0   \n",
       "3078        4174844.0        4231511.0        4292576.0        4363816.0   \n",
       "3079        4619635.0        4651955.0        4672445.0        4704042.0   \n",
       "3080        5320293.0        5311621.0        5297956.0        5287099.0   \n",
       "3081       10121673.0       10123521.0       10096986.0       10051154.0   \n",
       "\n",
       "      2020_population  2021_population  distance to 1007  percentile  \n",
       "0             22223.0          22477.0          0.000000       47.86  \n",
       "1              2193.0           2193.0          1.947278       99.97  \n",
       "2             14730.0          14487.0          1.968913       99.90  \n",
       "3              6642.0           6670.0          2.070731       96.40  \n",
       "4             14721.0          14754.0          2.076390       98.60  \n",
       "...               ...              ...               ...         ...  \n",
       "3077        3297252.0        3286069.0          2.924300       80.21  \n",
       "3078        4438342.0        4496588.0          2.950617       87.18  \n",
       "3079        4732491.0        4728030.0          2.952810       51.14  \n",
       "3080        5262741.0        5173146.0          3.019405       52.43  \n",
       "3081        9989165.0        9829544.0          3.256690       77.03  \n",
       "\n",
       "[3082 rows x 53 columns]"
      ]
     },
     "metadata": {},
     "output_type": "display_data"
    }
   ],
   "source": [
    "# you still have access to the distances and the ranking.\n",
    "# only, this time there are more columns in the dataframe:\n",
    "display(f.euclidean_kins)\n"
   ]
  },
  {
   "cell_type": "code",
   "execution_count": 15,
   "metadata": {},
   "outputs": [
    {
     "data": {
      "application/vnd.plotly.v1+json": {
       "config": {
        "plotlyServerURL": "https://plot.ly"
       },
       "data": [
        {
         "line": {
          "color": "darkred",
          "width": 3
         },
         "mode": "lines",
         "name": "Bibb, AL",
         "text": "Bibb, AL",
         "textposition": "top right",
         "type": "scatter",
         "x": [
          2001,
          2002,
          2003,
          2004,
          2005,
          2006,
          2007,
          2008,
          2009,
          2010,
          2011,
          2013,
          2014,
          2015,
          2016,
          2017,
          2018,
          2019,
          2020,
          2021
         ],
         "y": [
          80.443,
          81.527,
          85.124,
          89.317,
          88.782,
          89.597,
          95.308,
          94.745,
          92.945,
          100.115,
          102.559,
          99.537,
          97.933,
          94.594,
          95.812,
          96.878,
          96.988,
          104.62,
          109.487,
          107.878
         ]
        },
        {
         "line": {
          "color": "#FFC0CB"
         },
         "mode": "lines",
         "name": "Culberson, TX",
         "text": "Culberson, TX",
         "textposition": "top right",
         "type": "scatter",
         "x": [
          2001,
          2002,
          2003,
          2004,
          2005,
          2006,
          2007,
          2008,
          2009,
          2010,
          2011,
          2013,
          2014,
          2015,
          2016,
          2017,
          2018,
          2019,
          2020,
          2021
         ],
         "y": [
          35.264,
          37.743,
          36.255,
          38.339,
          40.177,
          41.247,
          42.368,
          53.349,
          66.475,
          58.869,
          62.017,
          144.271,
          258.311,
          404.721,
          546.092,
          673.326,
          712.048,
          986.32,
          1238.206,
          1185.01
         ]
        },
        {
         "line": {
          "color": "#A9A9A9"
         },
         "mode": "lines",
         "name": "Reeves, TX",
         "text": "Reeves, TX",
         "textposition": "top right",
         "type": "scatter",
         "x": [
          2001,
          2002,
          2003,
          2004,
          2005,
          2006,
          2007,
          2008,
          2009,
          2010,
          2011,
          2013,
          2014,
          2015,
          2016,
          2017,
          2018,
          2019,
          2020,
          2021
         ],
         "y": [
          46.003,
          49.29,
          44.96,
          41.682,
          39.742,
          41.332,
          41.009,
          41.389,
          47.383,
          45.553,
          59.748,
          121.888,
          212.473,
          334.183,
          416.768,
          607.235,
          843.967,
          1226.531,
          1136.483,
          942.206
         ]
        },
        {
         "line": {
          "color": "#87CEFA"
         },
         "mode": "lines",
         "name": "La Salle, TX",
         "text": "La Salle, TX",
         "textposition": "top right",
         "type": "scatter",
         "x": [
          2001,
          2002,
          2003,
          2004,
          2005,
          2006,
          2007,
          2008,
          2009,
          2010,
          2011,
          2013,
          2014,
          2015,
          2016,
          2017,
          2018,
          2019,
          2020,
          2021
         ],
         "y": [
          6.638,
          6.679,
          7.065,
          6.727,
          7.541,
          8.729,
          8.254,
          7.9,
          10.172,
          14.61,
          35.993,
          174.138,
          224.27,
          255.409,
          208.985,
          202.036,
          201.509,
          219.118,
          177.489,
          159.947
         ]
        },
        {
         "line": {
          "color": "#FFD700"
         },
         "mode": "lines",
         "name": "Karnes, TX",
         "text": "Karnes, TX",
         "textposition": "top right",
         "type": "scatter",
         "x": [
          2001,
          2002,
          2003,
          2004,
          2005,
          2006,
          2007,
          2008,
          2009,
          2010,
          2011,
          2013,
          2014,
          2015,
          2016,
          2017,
          2018,
          2019,
          2020,
          2021
         ],
         "y": [
          6.498,
          6.891,
          7.331,
          6.759,
          6.537,
          6.29,
          6.662,
          6.937,
          7.532,
          10.632,
          33.74,
          137.426,
          170.877,
          210.901,
          200.421,
          221.26,
          217.623,
          236.985,
          204.295,
          183.52
         ]
        },
        {
         "line": {
          "color": "#98FB98"
         },
         "mode": "lines",
         "name": "Slope, ND",
         "text": "Slope, ND",
         "textposition": "top right",
         "type": "scatter",
         "x": [
          2001,
          2002,
          2003,
          2004,
          2005,
          2006,
          2007,
          2008,
          2009,
          2010,
          2011,
          2013,
          2014,
          2015,
          2016,
          2017,
          2018,
          2019,
          2020,
          2021
         ],
         "y": [
          34.746,
          11.451,
          39.302,
          32.702,
          39.083,
          45.047,
          57.236,
          64.676,
          102.37,
          86.536,
          75.24,
          84.679,
          77.426,
          57.979,
          36.621,
          61.571,
          45.949,
          42.019,
          41.446,
          47.427
         ]
        }
       ],
       "layout": {
        "legend": {
         "title": {
          "text": "GeoName"
         }
        },
        "template": {
         "data": {
          "bar": [
           {
            "error_x": {
             "color": "rgb(36,36,36)"
            },
            "error_y": {
             "color": "rgb(36,36,36)"
            },
            "marker": {
             "line": {
              "color": "white",
              "width": 0.5
             },
             "pattern": {
              "fillmode": "overlay",
              "size": 10,
              "solidity": 0.2
             }
            },
            "type": "bar"
           }
          ],
          "barpolar": [
           {
            "marker": {
             "line": {
              "color": "white",
              "width": 0.5
             },
             "pattern": {
              "fillmode": "overlay",
              "size": 10,
              "solidity": 0.2
             }
            },
            "type": "barpolar"
           }
          ],
          "carpet": [
           {
            "aaxis": {
             "endlinecolor": "rgb(36,36,36)",
             "gridcolor": "white",
             "linecolor": "white",
             "minorgridcolor": "white",
             "startlinecolor": "rgb(36,36,36)"
            },
            "baxis": {
             "endlinecolor": "rgb(36,36,36)",
             "gridcolor": "white",
             "linecolor": "white",
             "minorgridcolor": "white",
             "startlinecolor": "rgb(36,36,36)"
            },
            "type": "carpet"
           }
          ],
          "choropleth": [
           {
            "colorbar": {
             "outlinewidth": 1,
             "tickcolor": "rgb(36,36,36)",
             "ticks": "outside"
            },
            "type": "choropleth"
           }
          ],
          "contour": [
           {
            "colorbar": {
             "outlinewidth": 1,
             "tickcolor": "rgb(36,36,36)",
             "ticks": "outside"
            },
            "colorscale": [
             [
              0,
              "#440154"
             ],
             [
              0.1111111111111111,
              "#482878"
             ],
             [
              0.2222222222222222,
              "#3e4989"
             ],
             [
              0.3333333333333333,
              "#31688e"
             ],
             [
              0.4444444444444444,
              "#26828e"
             ],
             [
              0.5555555555555556,
              "#1f9e89"
             ],
             [
              0.6666666666666666,
              "#35b779"
             ],
             [
              0.7777777777777778,
              "#6ece58"
             ],
             [
              0.8888888888888888,
              "#b5de2b"
             ],
             [
              1,
              "#fde725"
             ]
            ],
            "type": "contour"
           }
          ],
          "contourcarpet": [
           {
            "colorbar": {
             "outlinewidth": 1,
             "tickcolor": "rgb(36,36,36)",
             "ticks": "outside"
            },
            "type": "contourcarpet"
           }
          ],
          "heatmap": [
           {
            "colorbar": {
             "outlinewidth": 1,
             "tickcolor": "rgb(36,36,36)",
             "ticks": "outside"
            },
            "colorscale": [
             [
              0,
              "#440154"
             ],
             [
              0.1111111111111111,
              "#482878"
             ],
             [
              0.2222222222222222,
              "#3e4989"
             ],
             [
              0.3333333333333333,
              "#31688e"
             ],
             [
              0.4444444444444444,
              "#26828e"
             ],
             [
              0.5555555555555556,
              "#1f9e89"
             ],
             [
              0.6666666666666666,
              "#35b779"
             ],
             [
              0.7777777777777778,
              "#6ece58"
             ],
             [
              0.8888888888888888,
              "#b5de2b"
             ],
             [
              1,
              "#fde725"
             ]
            ],
            "type": "heatmap"
           }
          ],
          "heatmapgl": [
           {
            "colorbar": {
             "outlinewidth": 1,
             "tickcolor": "rgb(36,36,36)",
             "ticks": "outside"
            },
            "colorscale": [
             [
              0,
              "#440154"
             ],
             [
              0.1111111111111111,
              "#482878"
             ],
             [
              0.2222222222222222,
              "#3e4989"
             ],
             [
              0.3333333333333333,
              "#31688e"
             ],
             [
              0.4444444444444444,
              "#26828e"
             ],
             [
              0.5555555555555556,
              "#1f9e89"
             ],
             [
              0.6666666666666666,
              "#35b779"
             ],
             [
              0.7777777777777778,
              "#6ece58"
             ],
             [
              0.8888888888888888,
              "#b5de2b"
             ],
             [
              1,
              "#fde725"
             ]
            ],
            "type": "heatmapgl"
           }
          ],
          "histogram": [
           {
            "marker": {
             "line": {
              "color": "white",
              "width": 0.6
             }
            },
            "type": "histogram"
           }
          ],
          "histogram2d": [
           {
            "colorbar": {
             "outlinewidth": 1,
             "tickcolor": "rgb(36,36,36)",
             "ticks": "outside"
            },
            "colorscale": [
             [
              0,
              "#440154"
             ],
             [
              0.1111111111111111,
              "#482878"
             ],
             [
              0.2222222222222222,
              "#3e4989"
             ],
             [
              0.3333333333333333,
              "#31688e"
             ],
             [
              0.4444444444444444,
              "#26828e"
             ],
             [
              0.5555555555555556,
              "#1f9e89"
             ],
             [
              0.6666666666666666,
              "#35b779"
             ],
             [
              0.7777777777777778,
              "#6ece58"
             ],
             [
              0.8888888888888888,
              "#b5de2b"
             ],
             [
              1,
              "#fde725"
             ]
            ],
            "type": "histogram2d"
           }
          ],
          "histogram2dcontour": [
           {
            "colorbar": {
             "outlinewidth": 1,
             "tickcolor": "rgb(36,36,36)",
             "ticks": "outside"
            },
            "colorscale": [
             [
              0,
              "#440154"
             ],
             [
              0.1111111111111111,
              "#482878"
             ],
             [
              0.2222222222222222,
              "#3e4989"
             ],
             [
              0.3333333333333333,
              "#31688e"
             ],
             [
              0.4444444444444444,
              "#26828e"
             ],
             [
              0.5555555555555556,
              "#1f9e89"
             ],
             [
              0.6666666666666666,
              "#35b779"
             ],
             [
              0.7777777777777778,
              "#6ece58"
             ],
             [
              0.8888888888888888,
              "#b5de2b"
             ],
             [
              1,
              "#fde725"
             ]
            ],
            "type": "histogram2dcontour"
           }
          ],
          "mesh3d": [
           {
            "colorbar": {
             "outlinewidth": 1,
             "tickcolor": "rgb(36,36,36)",
             "ticks": "outside"
            },
            "type": "mesh3d"
           }
          ],
          "parcoords": [
           {
            "line": {
             "colorbar": {
              "outlinewidth": 1,
              "tickcolor": "rgb(36,36,36)",
              "ticks": "outside"
             }
            },
            "type": "parcoords"
           }
          ],
          "pie": [
           {
            "automargin": true,
            "type": "pie"
           }
          ],
          "scatter": [
           {
            "fillpattern": {
             "fillmode": "overlay",
             "size": 10,
             "solidity": 0.2
            },
            "type": "scatter"
           }
          ],
          "scatter3d": [
           {
            "line": {
             "colorbar": {
              "outlinewidth": 1,
              "tickcolor": "rgb(36,36,36)",
              "ticks": "outside"
             }
            },
            "marker": {
             "colorbar": {
              "outlinewidth": 1,
              "tickcolor": "rgb(36,36,36)",
              "ticks": "outside"
             }
            },
            "type": "scatter3d"
           }
          ],
          "scattercarpet": [
           {
            "marker": {
             "colorbar": {
              "outlinewidth": 1,
              "tickcolor": "rgb(36,36,36)",
              "ticks": "outside"
             }
            },
            "type": "scattercarpet"
           }
          ],
          "scattergeo": [
           {
            "marker": {
             "colorbar": {
              "outlinewidth": 1,
              "tickcolor": "rgb(36,36,36)",
              "ticks": "outside"
             }
            },
            "type": "scattergeo"
           }
          ],
          "scattergl": [
           {
            "marker": {
             "colorbar": {
              "outlinewidth": 1,
              "tickcolor": "rgb(36,36,36)",
              "ticks": "outside"
             }
            },
            "type": "scattergl"
           }
          ],
          "scattermapbox": [
           {
            "marker": {
             "colorbar": {
              "outlinewidth": 1,
              "tickcolor": "rgb(36,36,36)",
              "ticks": "outside"
             }
            },
            "type": "scattermapbox"
           }
          ],
          "scatterpolar": [
           {
            "marker": {
             "colorbar": {
              "outlinewidth": 1,
              "tickcolor": "rgb(36,36,36)",
              "ticks": "outside"
             }
            },
            "type": "scatterpolar"
           }
          ],
          "scatterpolargl": [
           {
            "marker": {
             "colorbar": {
              "outlinewidth": 1,
              "tickcolor": "rgb(36,36,36)",
              "ticks": "outside"
             }
            },
            "type": "scatterpolargl"
           }
          ],
          "scatterternary": [
           {
            "marker": {
             "colorbar": {
              "outlinewidth": 1,
              "tickcolor": "rgb(36,36,36)",
              "ticks": "outside"
             }
            },
            "type": "scatterternary"
           }
          ],
          "surface": [
           {
            "colorbar": {
             "outlinewidth": 1,
             "tickcolor": "rgb(36,36,36)",
             "ticks": "outside"
            },
            "colorscale": [
             [
              0,
              "#440154"
             ],
             [
              0.1111111111111111,
              "#482878"
             ],
             [
              0.2222222222222222,
              "#3e4989"
             ],
             [
              0.3333333333333333,
              "#31688e"
             ],
             [
              0.4444444444444444,
              "#26828e"
             ],
             [
              0.5555555555555556,
              "#1f9e89"
             ],
             [
              0.6666666666666666,
              "#35b779"
             ],
             [
              0.7777777777777778,
              "#6ece58"
             ],
             [
              0.8888888888888888,
              "#b5de2b"
             ],
             [
              1,
              "#fde725"
             ]
            ],
            "type": "surface"
           }
          ],
          "table": [
           {
            "cells": {
             "fill": {
              "color": "rgb(237,237,237)"
             },
             "line": {
              "color": "white"
             }
            },
            "header": {
             "fill": {
              "color": "rgb(217,217,217)"
             },
             "line": {
              "color": "white"
             }
            },
            "type": "table"
           }
          ]
         },
         "layout": {
          "annotationdefaults": {
           "arrowhead": 0,
           "arrowwidth": 1
          },
          "autotypenumbers": "strict",
          "coloraxis": {
           "colorbar": {
            "outlinewidth": 1,
            "tickcolor": "rgb(36,36,36)",
            "ticks": "outside"
           }
          },
          "colorscale": {
           "diverging": [
            [
             0,
             "rgb(103,0,31)"
            ],
            [
             0.1,
             "rgb(178,24,43)"
            ],
            [
             0.2,
             "rgb(214,96,77)"
            ],
            [
             0.3,
             "rgb(244,165,130)"
            ],
            [
             0.4,
             "rgb(253,219,199)"
            ],
            [
             0.5,
             "rgb(247,247,247)"
            ],
            [
             0.6,
             "rgb(209,229,240)"
            ],
            [
             0.7,
             "rgb(146,197,222)"
            ],
            [
             0.8,
             "rgb(67,147,195)"
            ],
            [
             0.9,
             "rgb(33,102,172)"
            ],
            [
             1,
             "rgb(5,48,97)"
            ]
           ],
           "sequential": [
            [
             0,
             "#440154"
            ],
            [
             0.1111111111111111,
             "#482878"
            ],
            [
             0.2222222222222222,
             "#3e4989"
            ],
            [
             0.3333333333333333,
             "#31688e"
            ],
            [
             0.4444444444444444,
             "#26828e"
            ],
            [
             0.5555555555555556,
             "#1f9e89"
            ],
            [
             0.6666666666666666,
             "#35b779"
            ],
            [
             0.7777777777777778,
             "#6ece58"
            ],
            [
             0.8888888888888888,
             "#b5de2b"
            ],
            [
             1,
             "#fde725"
            ]
           ],
           "sequentialminus": [
            [
             0,
             "#440154"
            ],
            [
             0.1111111111111111,
             "#482878"
            ],
            [
             0.2222222222222222,
             "#3e4989"
            ],
            [
             0.3333333333333333,
             "#31688e"
            ],
            [
             0.4444444444444444,
             "#26828e"
            ],
            [
             0.5555555555555556,
             "#1f9e89"
            ],
            [
             0.6666666666666666,
             "#35b779"
            ],
            [
             0.7777777777777778,
             "#6ece58"
            ],
            [
             0.8888888888888888,
             "#b5de2b"
            ],
            [
             1,
             "#fde725"
            ]
           ]
          },
          "colorway": [
           "#1F77B4",
           "#FF7F0E",
           "#2CA02C",
           "#D62728",
           "#9467BD",
           "#8C564B",
           "#E377C2",
           "#7F7F7F",
           "#BCBD22",
           "#17BECF"
          ],
          "font": {
           "color": "rgb(36,36,36)"
          },
          "geo": {
           "bgcolor": "white",
           "lakecolor": "white",
           "landcolor": "white",
           "showlakes": true,
           "showland": true,
           "subunitcolor": "white"
          },
          "hoverlabel": {
           "align": "left"
          },
          "hovermode": "closest",
          "mapbox": {
           "style": "light"
          },
          "paper_bgcolor": "white",
          "plot_bgcolor": "white",
          "polar": {
           "angularaxis": {
            "gridcolor": "rgb(232,232,232)",
            "linecolor": "rgb(36,36,36)",
            "showgrid": false,
            "showline": true,
            "ticks": "outside"
           },
           "bgcolor": "white",
           "radialaxis": {
            "gridcolor": "rgb(232,232,232)",
            "linecolor": "rgb(36,36,36)",
            "showgrid": false,
            "showline": true,
            "ticks": "outside"
           }
          },
          "scene": {
           "xaxis": {
            "backgroundcolor": "white",
            "gridcolor": "rgb(232,232,232)",
            "gridwidth": 2,
            "linecolor": "rgb(36,36,36)",
            "showbackground": true,
            "showgrid": false,
            "showline": true,
            "ticks": "outside",
            "zeroline": false,
            "zerolinecolor": "rgb(36,36,36)"
           },
           "yaxis": {
            "backgroundcolor": "white",
            "gridcolor": "rgb(232,232,232)",
            "gridwidth": 2,
            "linecolor": "rgb(36,36,36)",
            "showbackground": true,
            "showgrid": false,
            "showline": true,
            "ticks": "outside",
            "zeroline": false,
            "zerolinecolor": "rgb(36,36,36)"
           },
           "zaxis": {
            "backgroundcolor": "white",
            "gridcolor": "rgb(232,232,232)",
            "gridwidth": 2,
            "linecolor": "rgb(36,36,36)",
            "showbackground": true,
            "showgrid": false,
            "showline": true,
            "ticks": "outside",
            "zeroline": false,
            "zerolinecolor": "rgb(36,36,36)"
           }
          },
          "shapedefaults": {
           "fillcolor": "black",
           "line": {
            "width": 0
           },
           "opacity": 0.3
          },
          "ternary": {
           "aaxis": {
            "gridcolor": "rgb(232,232,232)",
            "linecolor": "rgb(36,36,36)",
            "showgrid": false,
            "showline": true,
            "ticks": "outside"
           },
           "baxis": {
            "gridcolor": "rgb(232,232,232)",
            "linecolor": "rgb(36,36,36)",
            "showgrid": false,
            "showline": true,
            "ticks": "outside"
           },
           "bgcolor": "white",
           "caxis": {
            "gridcolor": "rgb(232,232,232)",
            "linecolor": "rgb(36,36,36)",
            "showgrid": false,
            "showline": true,
            "ticks": "outside"
           }
          },
          "title": {
           "x": 0.05
          },
          "xaxis": {
           "automargin": true,
           "gridcolor": "rgb(232,232,232)",
           "linecolor": "rgb(36,36,36)",
           "showgrid": false,
           "showline": true,
           "ticks": "outside",
           "title": {
            "standoff": 15
           },
           "zeroline": false,
           "zerolinecolor": "rgb(36,36,36)"
          },
          "yaxis": {
           "automargin": true,
           "gridcolor": "rgb(232,232,232)",
           "linecolor": "rgb(36,36,36)",
           "showgrid": false,
           "showline": true,
           "ticks": "outside",
           "title": {
            "standoff": 15
           },
           "zeroline": false,
           "zerolinecolor": "rgb(36,36,36)"
          }
         }
        },
        "title": {
         "text": "Top 5 locations matching your search"
        },
        "xaxis": {
         "title": {
          "text": "Year"
         }
        },
        "yaxis": {
         "title": {
          "text": "gdp"
         }
        }
       }
      }
     },
     "metadata": {},
     "output_type": "display_data"
    }
   ],
   "source": [
    "# you still can plot the few top ranked cities:\n",
    "fig = f.show_kins_plot()"
   ]
  },
  {
   "cell_type": "markdown",
   "metadata": {},
   "source": [
    "#### Use case: similarity of outcome with a lag\n",
    "\n",
    "You care about similarity of outcome variables, but your question now is: what other locations were 2 years ago in a similar place to me now, when it comes to the outcome variable and the features?\n"
   ]
  },
  {
   "cell_type": "code",
   "execution_count": 16,
   "metadata": {},
   "outputs": [
    {
     "data": {
      "application/vnd.plotly.v1+json": {
       "config": {
        "plotlyServerURL": "https://plot.ly"
       },
       "data": [
        {
         "type": "bar",
         "x": [
          "2003_gdp",
          "2004_gdp",
          "2005_gdp",
          "2006_gdp",
          "2007_gdp",
          "2008_gdp",
          "2009_gdp",
          "2010_gdp",
          "2011_gdp",
          "2013_gdp",
          "2014_gdp",
          "2015_gdp",
          "2016_gdp",
          "2017_gdp",
          "2018_gdp",
          "2019_gdp",
          "2020_gdp",
          "2021_gdp"
         ],
         "y": [
          0.12942616221148368,
          0.1371917319441727,
          0.14542323586082306,
          0.15414863001247245,
          0.16339754781322083,
          0.17320140068201406,
          0.1835934847229349,
          0.19460909380631103,
          0.20628563943468972,
          0.2186627778007711,
          0.23178254446881738,
          0.24568949713694643,
          0.2604308669651632,
          0.27605671898307305,
          0.29262012212205746,
          0.31017732944938087,
          0.3287879692163438,
          0.3485152473693244
         ]
        }
       ],
       "layout": {
        "template": {
         "data": {
          "bar": [
           {
            "error_x": {
             "color": "#2a3f5f"
            },
            "error_y": {
             "color": "#2a3f5f"
            },
            "marker": {
             "line": {
              "color": "white",
              "width": 0.5
             },
             "pattern": {
              "fillmode": "overlay",
              "size": 10,
              "solidity": 0.2
             }
            },
            "type": "bar"
           }
          ],
          "barpolar": [
           {
            "marker": {
             "line": {
              "color": "white",
              "width": 0.5
             },
             "pattern": {
              "fillmode": "overlay",
              "size": 10,
              "solidity": 0.2
             }
            },
            "type": "barpolar"
           }
          ],
          "carpet": [
           {
            "aaxis": {
             "endlinecolor": "#2a3f5f",
             "gridcolor": "#C8D4E3",
             "linecolor": "#C8D4E3",
             "minorgridcolor": "#C8D4E3",
             "startlinecolor": "#2a3f5f"
            },
            "baxis": {
             "endlinecolor": "#2a3f5f",
             "gridcolor": "#C8D4E3",
             "linecolor": "#C8D4E3",
             "minorgridcolor": "#C8D4E3",
             "startlinecolor": "#2a3f5f"
            },
            "type": "carpet"
           }
          ],
          "choropleth": [
           {
            "colorbar": {
             "outlinewidth": 0,
             "ticks": ""
            },
            "type": "choropleth"
           }
          ],
          "contour": [
           {
            "colorbar": {
             "outlinewidth": 0,
             "ticks": ""
            },
            "colorscale": [
             [
              0,
              "#0d0887"
             ],
             [
              0.1111111111111111,
              "#46039f"
             ],
             [
              0.2222222222222222,
              "#7201a8"
             ],
             [
              0.3333333333333333,
              "#9c179e"
             ],
             [
              0.4444444444444444,
              "#bd3786"
             ],
             [
              0.5555555555555556,
              "#d8576b"
             ],
             [
              0.6666666666666666,
              "#ed7953"
             ],
             [
              0.7777777777777778,
              "#fb9f3a"
             ],
             [
              0.8888888888888888,
              "#fdca26"
             ],
             [
              1,
              "#f0f921"
             ]
            ],
            "type": "contour"
           }
          ],
          "contourcarpet": [
           {
            "colorbar": {
             "outlinewidth": 0,
             "ticks": ""
            },
            "type": "contourcarpet"
           }
          ],
          "heatmap": [
           {
            "colorbar": {
             "outlinewidth": 0,
             "ticks": ""
            },
            "colorscale": [
             [
              0,
              "#0d0887"
             ],
             [
              0.1111111111111111,
              "#46039f"
             ],
             [
              0.2222222222222222,
              "#7201a8"
             ],
             [
              0.3333333333333333,
              "#9c179e"
             ],
             [
              0.4444444444444444,
              "#bd3786"
             ],
             [
              0.5555555555555556,
              "#d8576b"
             ],
             [
              0.6666666666666666,
              "#ed7953"
             ],
             [
              0.7777777777777778,
              "#fb9f3a"
             ],
             [
              0.8888888888888888,
              "#fdca26"
             ],
             [
              1,
              "#f0f921"
             ]
            ],
            "type": "heatmap"
           }
          ],
          "heatmapgl": [
           {
            "colorbar": {
             "outlinewidth": 0,
             "ticks": ""
            },
            "colorscale": [
             [
              0,
              "#0d0887"
             ],
             [
              0.1111111111111111,
              "#46039f"
             ],
             [
              0.2222222222222222,
              "#7201a8"
             ],
             [
              0.3333333333333333,
              "#9c179e"
             ],
             [
              0.4444444444444444,
              "#bd3786"
             ],
             [
              0.5555555555555556,
              "#d8576b"
             ],
             [
              0.6666666666666666,
              "#ed7953"
             ],
             [
              0.7777777777777778,
              "#fb9f3a"
             ],
             [
              0.8888888888888888,
              "#fdca26"
             ],
             [
              1,
              "#f0f921"
             ]
            ],
            "type": "heatmapgl"
           }
          ],
          "histogram": [
           {
            "marker": {
             "pattern": {
              "fillmode": "overlay",
              "size": 10,
              "solidity": 0.2
             }
            },
            "type": "histogram"
           }
          ],
          "histogram2d": [
           {
            "colorbar": {
             "outlinewidth": 0,
             "ticks": ""
            },
            "colorscale": [
             [
              0,
              "#0d0887"
             ],
             [
              0.1111111111111111,
              "#46039f"
             ],
             [
              0.2222222222222222,
              "#7201a8"
             ],
             [
              0.3333333333333333,
              "#9c179e"
             ],
             [
              0.4444444444444444,
              "#bd3786"
             ],
             [
              0.5555555555555556,
              "#d8576b"
             ],
             [
              0.6666666666666666,
              "#ed7953"
             ],
             [
              0.7777777777777778,
              "#fb9f3a"
             ],
             [
              0.8888888888888888,
              "#fdca26"
             ],
             [
              1,
              "#f0f921"
             ]
            ],
            "type": "histogram2d"
           }
          ],
          "histogram2dcontour": [
           {
            "colorbar": {
             "outlinewidth": 0,
             "ticks": ""
            },
            "colorscale": [
             [
              0,
              "#0d0887"
             ],
             [
              0.1111111111111111,
              "#46039f"
             ],
             [
              0.2222222222222222,
              "#7201a8"
             ],
             [
              0.3333333333333333,
              "#9c179e"
             ],
             [
              0.4444444444444444,
              "#bd3786"
             ],
             [
              0.5555555555555556,
              "#d8576b"
             ],
             [
              0.6666666666666666,
              "#ed7953"
             ],
             [
              0.7777777777777778,
              "#fb9f3a"
             ],
             [
              0.8888888888888888,
              "#fdca26"
             ],
             [
              1,
              "#f0f921"
             ]
            ],
            "type": "histogram2dcontour"
           }
          ],
          "mesh3d": [
           {
            "colorbar": {
             "outlinewidth": 0,
             "ticks": ""
            },
            "type": "mesh3d"
           }
          ],
          "parcoords": [
           {
            "line": {
             "colorbar": {
              "outlinewidth": 0,
              "ticks": ""
             }
            },
            "type": "parcoords"
           }
          ],
          "pie": [
           {
            "automargin": true,
            "type": "pie"
           }
          ],
          "scatter": [
           {
            "fillpattern": {
             "fillmode": "overlay",
             "size": 10,
             "solidity": 0.2
            },
            "type": "scatter"
           }
          ],
          "scatter3d": [
           {
            "line": {
             "colorbar": {
              "outlinewidth": 0,
              "ticks": ""
             }
            },
            "marker": {
             "colorbar": {
              "outlinewidth": 0,
              "ticks": ""
             }
            },
            "type": "scatter3d"
           }
          ],
          "scattercarpet": [
           {
            "marker": {
             "colorbar": {
              "outlinewidth": 0,
              "ticks": ""
             }
            },
            "type": "scattercarpet"
           }
          ],
          "scattergeo": [
           {
            "marker": {
             "colorbar": {
              "outlinewidth": 0,
              "ticks": ""
             }
            },
            "type": "scattergeo"
           }
          ],
          "scattergl": [
           {
            "marker": {
             "colorbar": {
              "outlinewidth": 0,
              "ticks": ""
             }
            },
            "type": "scattergl"
           }
          ],
          "scattermapbox": [
           {
            "marker": {
             "colorbar": {
              "outlinewidth": 0,
              "ticks": ""
             }
            },
            "type": "scattermapbox"
           }
          ],
          "scatterpolar": [
           {
            "marker": {
             "colorbar": {
              "outlinewidth": 0,
              "ticks": ""
             }
            },
            "type": "scatterpolar"
           }
          ],
          "scatterpolargl": [
           {
            "marker": {
             "colorbar": {
              "outlinewidth": 0,
              "ticks": ""
             }
            },
            "type": "scatterpolargl"
           }
          ],
          "scatterternary": [
           {
            "marker": {
             "colorbar": {
              "outlinewidth": 0,
              "ticks": ""
             }
            },
            "type": "scatterternary"
           }
          ],
          "surface": [
           {
            "colorbar": {
             "outlinewidth": 0,
             "ticks": ""
            },
            "colorscale": [
             [
              0,
              "#0d0887"
             ],
             [
              0.1111111111111111,
              "#46039f"
             ],
             [
              0.2222222222222222,
              "#7201a8"
             ],
             [
              0.3333333333333333,
              "#9c179e"
             ],
             [
              0.4444444444444444,
              "#bd3786"
             ],
             [
              0.5555555555555556,
              "#d8576b"
             ],
             [
              0.6666666666666666,
              "#ed7953"
             ],
             [
              0.7777777777777778,
              "#fb9f3a"
             ],
             [
              0.8888888888888888,
              "#fdca26"
             ],
             [
              1,
              "#f0f921"
             ]
            ],
            "type": "surface"
           }
          ],
          "table": [
           {
            "cells": {
             "fill": {
              "color": "#EBF0F8"
             },
             "line": {
              "color": "white"
             }
            },
            "header": {
             "fill": {
              "color": "#C8D4E3"
             },
             "line": {
              "color": "white"
             }
            },
            "type": "table"
           }
          ]
         },
         "layout": {
          "annotationdefaults": {
           "arrowcolor": "#2a3f5f",
           "arrowhead": 0,
           "arrowwidth": 1
          },
          "autotypenumbers": "strict",
          "coloraxis": {
           "colorbar": {
            "outlinewidth": 0,
            "ticks": ""
           }
          },
          "colorscale": {
           "diverging": [
            [
             0,
             "#8e0152"
            ],
            [
             0.1,
             "#c51b7d"
            ],
            [
             0.2,
             "#de77ae"
            ],
            [
             0.3,
             "#f1b6da"
            ],
            [
             0.4,
             "#fde0ef"
            ],
            [
             0.5,
             "#f7f7f7"
            ],
            [
             0.6,
             "#e6f5d0"
            ],
            [
             0.7,
             "#b8e186"
            ],
            [
             0.8,
             "#7fbc41"
            ],
            [
             0.9,
             "#4d9221"
            ],
            [
             1,
             "#276419"
            ]
           ],
           "sequential": [
            [
             0,
             "#0d0887"
            ],
            [
             0.1111111111111111,
             "#46039f"
            ],
            [
             0.2222222222222222,
             "#7201a8"
            ],
            [
             0.3333333333333333,
             "#9c179e"
            ],
            [
             0.4444444444444444,
             "#bd3786"
            ],
            [
             0.5555555555555556,
             "#d8576b"
            ],
            [
             0.6666666666666666,
             "#ed7953"
            ],
            [
             0.7777777777777778,
             "#fb9f3a"
            ],
            [
             0.8888888888888888,
             "#fdca26"
            ],
            [
             1,
             "#f0f921"
            ]
           ],
           "sequentialminus": [
            [
             0,
             "#0d0887"
            ],
            [
             0.1111111111111111,
             "#46039f"
            ],
            [
             0.2222222222222222,
             "#7201a8"
            ],
            [
             0.3333333333333333,
             "#9c179e"
            ],
            [
             0.4444444444444444,
             "#bd3786"
            ],
            [
             0.5555555555555556,
             "#d8576b"
            ],
            [
             0.6666666666666666,
             "#ed7953"
            ],
            [
             0.7777777777777778,
             "#fb9f3a"
            ],
            [
             0.8888888888888888,
             "#fdca26"
            ],
            [
             1,
             "#f0f921"
            ]
           ]
          },
          "colorway": [
           "#636efa",
           "#EF553B",
           "#00cc96",
           "#ab63fa",
           "#FFA15A",
           "#19d3f3",
           "#FF6692",
           "#B6E880",
           "#FF97FF",
           "#FECB52"
          ],
          "font": {
           "color": "#2a3f5f"
          },
          "geo": {
           "bgcolor": "white",
           "lakecolor": "white",
           "landcolor": "white",
           "showlakes": true,
           "showland": true,
           "subunitcolor": "#C8D4E3"
          },
          "hoverlabel": {
           "align": "left"
          },
          "hovermode": "closest",
          "mapbox": {
           "style": "light"
          },
          "paper_bgcolor": "white",
          "plot_bgcolor": "white",
          "polar": {
           "angularaxis": {
            "gridcolor": "#EBF0F8",
            "linecolor": "#EBF0F8",
            "ticks": ""
           },
           "bgcolor": "white",
           "radialaxis": {
            "gridcolor": "#EBF0F8",
            "linecolor": "#EBF0F8",
            "ticks": ""
           }
          },
          "scene": {
           "xaxis": {
            "backgroundcolor": "white",
            "gridcolor": "#DFE8F3",
            "gridwidth": 2,
            "linecolor": "#EBF0F8",
            "showbackground": true,
            "ticks": "",
            "zerolinecolor": "#EBF0F8"
           },
           "yaxis": {
            "backgroundcolor": "white",
            "gridcolor": "#DFE8F3",
            "gridwidth": 2,
            "linecolor": "#EBF0F8",
            "showbackground": true,
            "ticks": "",
            "zerolinecolor": "#EBF0F8"
           },
           "zaxis": {
            "backgroundcolor": "white",
            "gridcolor": "#DFE8F3",
            "gridwidth": 2,
            "linecolor": "#EBF0F8",
            "showbackground": true,
            "ticks": "",
            "zerolinecolor": "#EBF0F8"
           }
          },
          "shapedefaults": {
           "line": {
            "color": "#2a3f5f"
           }
          },
          "ternary": {
           "aaxis": {
            "gridcolor": "#DFE8F3",
            "linecolor": "#A2B1C6",
            "ticks": ""
           },
           "baxis": {
            "gridcolor": "#DFE8F3",
            "linecolor": "#A2B1C6",
            "ticks": ""
           },
           "bgcolor": "white",
           "caxis": {
            "gridcolor": "#DFE8F3",
            "linecolor": "#A2B1C6",
            "ticks": ""
           }
          },
          "title": {
           "x": 0.05
          },
          "xaxis": {
           "automargin": true,
           "gridcolor": "#EBF0F8",
           "linecolor": "#EBF0F8",
           "ticks": "",
           "title": {
            "standoff": 15
           },
           "zerolinecolor": "#EBF0F8",
           "zerolinewidth": 2
          },
          "yaxis": {
           "automargin": true,
           "gridcolor": "#EBF0F8",
           "linecolor": "#EBF0F8",
           "ticks": "",
           "title": {
            "standoff": 15
           },
           "zerolinecolor": "#EBF0F8",
           "zerolinewidth": 2
          }
         }
        },
        "title": {
         "text": "Weights of columns"
        },
        "xaxis": {
         "title": {
          "text": "columns"
         }
        },
        "yaxis": {
         "title": {
          "text": "weights"
         }
        }
       }
      }
     },
     "metadata": {},
     "output_type": "display_data"
    },
    {
     "data": {
      "text/plain": [
       "None"
      ]
     },
     "metadata": {},
     "output_type": "display_data"
    }
   ],
   "source": [
    "f  = FipsQuery(42001, \"gdp\", lag = 2, top =5, time_decay = 1.06)\n",
    "f.find_euclidean_kins()\n",
    "\n",
    "display(f.plot_weights())"
   ]
  },
  {
   "cell_type": "code",
   "execution_count": 17,
   "metadata": {},
   "outputs": [
    {
     "data": {
      "text/html": [
       "<div>\n",
       "<style scoped>\n",
       "    .dataframe tbody tr th:only-of-type {\n",
       "        vertical-align: middle;\n",
       "    }\n",
       "\n",
       "    .dataframe tbody tr th {\n",
       "        vertical-align: top;\n",
       "    }\n",
       "\n",
       "    .dataframe thead th {\n",
       "        text-align: right;\n",
       "    }\n",
       "</style>\n",
       "<table border=\"1\" class=\"dataframe\">\n",
       "  <thead>\n",
       "    <tr style=\"text-align: right;\">\n",
       "      <th></th>\n",
       "      <th>GeoFIPS</th>\n",
       "      <th>GeoName</th>\n",
       "      <th>2001</th>\n",
       "      <th>2002</th>\n",
       "      <th>2003</th>\n",
       "      <th>2004</th>\n",
       "      <th>2005</th>\n",
       "      <th>2006</th>\n",
       "      <th>2007</th>\n",
       "      <th>2008</th>\n",
       "      <th>...</th>\n",
       "      <th>2014</th>\n",
       "      <th>2015</th>\n",
       "      <th>2016</th>\n",
       "      <th>2017</th>\n",
       "      <th>2018</th>\n",
       "      <th>2019</th>\n",
       "      <th>2020</th>\n",
       "      <th>2021</th>\n",
       "      <th>distance to 42001</th>\n",
       "      <th>percentile</th>\n",
       "    </tr>\n",
       "  </thead>\n",
       "  <tbody>\n",
       "    <tr>\n",
       "      <th>0</th>\n",
       "      <td>42001</td>\n",
       "      <td>Adams, PA</td>\n",
       "      <td>78.619</td>\n",
       "      <td>84.689</td>\n",
       "      <td>84.475</td>\n",
       "      <td>85.860</td>\n",
       "      <td>89.556</td>\n",
       "      <td>93.508</td>\n",
       "      <td>93.154</td>\n",
       "      <td>95.379</td>\n",
       "      <td>...</td>\n",
       "      <td>100.006</td>\n",
       "      <td>102.509</td>\n",
       "      <td>103.708</td>\n",
       "      <td>108.411</td>\n",
       "      <td>105.390</td>\n",
       "      <td>103.440</td>\n",
       "      <td>97.678</td>\n",
       "      <td>102.664</td>\n",
       "      <td>0.000000</td>\n",
       "      <td>35.14</td>\n",
       "    </tr>\n",
       "    <tr>\n",
       "      <th>1</th>\n",
       "      <td>20161</td>\n",
       "      <td>Riley, KS</td>\n",
       "      <td>78.822</td>\n",
       "      <td>79.879</td>\n",
       "      <td>83.156</td>\n",
       "      <td>85.898</td>\n",
       "      <td>86.815</td>\n",
       "      <td>89.029</td>\n",
       "      <td>93.378</td>\n",
       "      <td>97.320</td>\n",
       "      <td>...</td>\n",
       "      <td>102.355</td>\n",
       "      <td>102.888</td>\n",
       "      <td>103.512</td>\n",
       "      <td>102.037</td>\n",
       "      <td>100.206</td>\n",
       "      <td>100.843</td>\n",
       "      <td>100.186</td>\n",
       "      <td>101.947</td>\n",
       "      <td>0.067165</td>\n",
       "      <td>33.32</td>\n",
       "    </tr>\n",
       "    <tr>\n",
       "      <th>2</th>\n",
       "      <td>17001</td>\n",
       "      <td>Adams, IL</td>\n",
       "      <td>79.654</td>\n",
       "      <td>81.654</td>\n",
       "      <td>86.491</td>\n",
       "      <td>90.160</td>\n",
       "      <td>91.589</td>\n",
       "      <td>93.582</td>\n",
       "      <td>93.367</td>\n",
       "      <td>95.001</td>\n",
       "      <td>...</td>\n",
       "      <td>102.400</td>\n",
       "      <td>101.760</td>\n",
       "      <td>104.586</td>\n",
       "      <td>97.057</td>\n",
       "      <td>99.635</td>\n",
       "      <td>98.477</td>\n",
       "      <td>93.510</td>\n",
       "      <td>100.614</td>\n",
       "      <td>0.067992</td>\n",
       "      <td>30.63</td>\n",
       "    </tr>\n",
       "    <tr>\n",
       "      <th>3</th>\n",
       "      <td>33019</td>\n",
       "      <td>Sullivan, NH</td>\n",
       "      <td>87.624</td>\n",
       "      <td>93.209</td>\n",
       "      <td>91.829</td>\n",
       "      <td>96.587</td>\n",
       "      <td>97.861</td>\n",
       "      <td>95.699</td>\n",
       "      <td>97.592</td>\n",
       "      <td>92.842</td>\n",
       "      <td>...</td>\n",
       "      <td>102.845</td>\n",
       "      <td>106.400</td>\n",
       "      <td>101.283</td>\n",
       "      <td>101.850</td>\n",
       "      <td>99.204</td>\n",
       "      <td>99.205</td>\n",
       "      <td>101.346</td>\n",
       "      <td>109.571</td>\n",
       "      <td>0.068728</td>\n",
       "      <td>51.82</td>\n",
       "    </tr>\n",
       "    <tr>\n",
       "      <th>4</th>\n",
       "      <td>13171</td>\n",
       "      <td>Lamar, GA</td>\n",
       "      <td>83.191</td>\n",
       "      <td>81.883</td>\n",
       "      <td>83.438</td>\n",
       "      <td>84.551</td>\n",
       "      <td>93.216</td>\n",
       "      <td>93.727</td>\n",
       "      <td>93.967</td>\n",
       "      <td>98.477</td>\n",
       "      <td>...</td>\n",
       "      <td>99.373</td>\n",
       "      <td>103.592</td>\n",
       "      <td>103.735</td>\n",
       "      <td>104.157</td>\n",
       "      <td>101.036</td>\n",
       "      <td>105.494</td>\n",
       "      <td>110.219</td>\n",
       "      <td>114.258</td>\n",
       "      <td>0.069925</td>\n",
       "      <td>62.52</td>\n",
       "    </tr>\n",
       "    <tr>\n",
       "      <th>...</th>\n",
       "      <td>...</td>\n",
       "      <td>...</td>\n",
       "      <td>...</td>\n",
       "      <td>...</td>\n",
       "      <td>...</td>\n",
       "      <td>...</td>\n",
       "      <td>...</td>\n",
       "      <td>...</td>\n",
       "      <td>...</td>\n",
       "      <td>...</td>\n",
       "      <td>...</td>\n",
       "      <td>...</td>\n",
       "      <td>...</td>\n",
       "      <td>...</td>\n",
       "      <td>...</td>\n",
       "      <td>...</td>\n",
       "      <td>...</td>\n",
       "      <td>...</td>\n",
       "      <td>...</td>\n",
       "      <td>...</td>\n",
       "      <td>...</td>\n",
       "    </tr>\n",
       "    <tr>\n",
       "      <th>3077</th>\n",
       "      <td>48389</td>\n",
       "      <td>Reeves, TX</td>\n",
       "      <td>46.003</td>\n",
       "      <td>49.290</td>\n",
       "      <td>44.960</td>\n",
       "      <td>41.682</td>\n",
       "      <td>39.742</td>\n",
       "      <td>41.332</td>\n",
       "      <td>41.009</td>\n",
       "      <td>41.389</td>\n",
       "      <td>...</td>\n",
       "      <td>212.473</td>\n",
       "      <td>334.183</td>\n",
       "      <td>416.768</td>\n",
       "      <td>607.235</td>\n",
       "      <td>843.967</td>\n",
       "      <td>1226.531</td>\n",
       "      <td>1136.483</td>\n",
       "      <td>942.206</td>\n",
       "      <td>1.257687</td>\n",
       "      <td>99.90</td>\n",
       "    </tr>\n",
       "    <tr>\n",
       "      <th>3078</th>\n",
       "      <td>48127</td>\n",
       "      <td>Dimmit, TX</td>\n",
       "      <td>9.381</td>\n",
       "      <td>10.070</td>\n",
       "      <td>10.269</td>\n",
       "      <td>10.101</td>\n",
       "      <td>10.527</td>\n",
       "      <td>13.382</td>\n",
       "      <td>13.424</td>\n",
       "      <td>12.854</td>\n",
       "      <td>...</td>\n",
       "      <td>208.912</td>\n",
       "      <td>253.553</td>\n",
       "      <td>226.448</td>\n",
       "      <td>235.298</td>\n",
       "      <td>230.138</td>\n",
       "      <td>256.745</td>\n",
       "      <td>206.367</td>\n",
       "      <td>159.131</td>\n",
       "      <td>1.275203</td>\n",
       "      <td>96.27</td>\n",
       "    </tr>\n",
       "    <tr>\n",
       "      <th>3079</th>\n",
       "      <td>48301</td>\n",
       "      <td>Loving, TX</td>\n",
       "      <td>37.050</td>\n",
       "      <td>40.836</td>\n",
       "      <td>40.690</td>\n",
       "      <td>49.561</td>\n",
       "      <td>81.009</td>\n",
       "      <td>110.338</td>\n",
       "      <td>149.312</td>\n",
       "      <td>114.503</td>\n",
       "      <td>...</td>\n",
       "      <td>186.286</td>\n",
       "      <td>306.333</td>\n",
       "      <td>551.251</td>\n",
       "      <td>802.739</td>\n",
       "      <td>1064.149</td>\n",
       "      <td>1388.130</td>\n",
       "      <td>1453.540</td>\n",
       "      <td>1080.924</td>\n",
       "      <td>1.303942</td>\n",
       "      <td>99.94</td>\n",
       "    </tr>\n",
       "    <tr>\n",
       "      <th>3080</th>\n",
       "      <td>48283</td>\n",
       "      <td>La Salle, TX</td>\n",
       "      <td>6.638</td>\n",
       "      <td>6.679</td>\n",
       "      <td>7.065</td>\n",
       "      <td>6.727</td>\n",
       "      <td>7.541</td>\n",
       "      <td>8.729</td>\n",
       "      <td>8.254</td>\n",
       "      <td>7.900</td>\n",
       "      <td>...</td>\n",
       "      <td>224.270</td>\n",
       "      <td>255.409</td>\n",
       "      <td>208.985</td>\n",
       "      <td>202.036</td>\n",
       "      <td>201.509</td>\n",
       "      <td>219.118</td>\n",
       "      <td>177.489</td>\n",
       "      <td>159.947</td>\n",
       "      <td>1.352714</td>\n",
       "      <td>96.40</td>\n",
       "    </tr>\n",
       "    <tr>\n",
       "      <th>3081</th>\n",
       "      <td>48255</td>\n",
       "      <td>Karnes, TX</td>\n",
       "      <td>6.498</td>\n",
       "      <td>6.891</td>\n",
       "      <td>7.331</td>\n",
       "      <td>6.759</td>\n",
       "      <td>6.537</td>\n",
       "      <td>6.290</td>\n",
       "      <td>6.662</td>\n",
       "      <td>6.937</td>\n",
       "      <td>...</td>\n",
       "      <td>170.877</td>\n",
       "      <td>210.901</td>\n",
       "      <td>200.421</td>\n",
       "      <td>221.260</td>\n",
       "      <td>217.623</td>\n",
       "      <td>236.985</td>\n",
       "      <td>204.295</td>\n",
       "      <td>183.520</td>\n",
       "      <td>1.364366</td>\n",
       "      <td>98.60</td>\n",
       "    </tr>\n",
       "  </tbody>\n",
       "</table>\n",
       "<p>3082 rows × 24 columns</p>\n",
       "</div>"
      ],
      "text/plain": [
       "      GeoFIPS       GeoName    2001    2002    2003    2004    2005     2006  \\\n",
       "0       42001     Adams, PA  78.619  84.689  84.475  85.860  89.556   93.508   \n",
       "1       20161     Riley, KS  78.822  79.879  83.156  85.898  86.815   89.029   \n",
       "2       17001     Adams, IL  79.654  81.654  86.491  90.160  91.589   93.582   \n",
       "3       33019  Sullivan, NH  87.624  93.209  91.829  96.587  97.861   95.699   \n",
       "4       13171     Lamar, GA  83.191  81.883  83.438  84.551  93.216   93.727   \n",
       "...       ...           ...     ...     ...     ...     ...     ...      ...   \n",
       "3077    48389    Reeves, TX  46.003  49.290  44.960  41.682  39.742   41.332   \n",
       "3078    48127    Dimmit, TX   9.381  10.070  10.269  10.101  10.527   13.382   \n",
       "3079    48301    Loving, TX  37.050  40.836  40.690  49.561  81.009  110.338   \n",
       "3080    48283  La Salle, TX   6.638   6.679   7.065   6.727   7.541    8.729   \n",
       "3081    48255    Karnes, TX   6.498   6.891   7.331   6.759   6.537    6.290   \n",
       "\n",
       "         2007     2008  ...     2014     2015     2016     2017      2018  \\\n",
       "0      93.154   95.379  ...  100.006  102.509  103.708  108.411   105.390   \n",
       "1      93.378   97.320  ...  102.355  102.888  103.512  102.037   100.206   \n",
       "2      93.367   95.001  ...  102.400  101.760  104.586   97.057    99.635   \n",
       "3      97.592   92.842  ...  102.845  106.400  101.283  101.850    99.204   \n",
       "4      93.967   98.477  ...   99.373  103.592  103.735  104.157   101.036   \n",
       "...       ...      ...  ...      ...      ...      ...      ...       ...   \n",
       "3077   41.009   41.389  ...  212.473  334.183  416.768  607.235   843.967   \n",
       "3078   13.424   12.854  ...  208.912  253.553  226.448  235.298   230.138   \n",
       "3079  149.312  114.503  ...  186.286  306.333  551.251  802.739  1064.149   \n",
       "3080    8.254    7.900  ...  224.270  255.409  208.985  202.036   201.509   \n",
       "3081    6.662    6.937  ...  170.877  210.901  200.421  221.260   217.623   \n",
       "\n",
       "          2019      2020      2021  distance to 42001  percentile  \n",
       "0      103.440    97.678   102.664           0.000000       35.14  \n",
       "1      100.843   100.186   101.947           0.067165       33.32  \n",
       "2       98.477    93.510   100.614           0.067992       30.63  \n",
       "3       99.205   101.346   109.571           0.068728       51.82  \n",
       "4      105.494   110.219   114.258           0.069925       62.52  \n",
       "...        ...       ...       ...                ...         ...  \n",
       "3077  1226.531  1136.483   942.206           1.257687       99.90  \n",
       "3078   256.745   206.367   159.131           1.275203       96.27  \n",
       "3079  1388.130  1453.540  1080.924           1.303942       99.94  \n",
       "3080   219.118   177.489   159.947           1.352714       96.40  \n",
       "3081   236.985   204.295   183.520           1.364366       98.60  \n",
       "\n",
       "[3082 rows x 24 columns]"
      ]
     },
     "metadata": {},
     "output_type": "display_data"
    }
   ],
   "source": [
    "f.find_euclidean_kins()\n",
    "display(f.euclidean_kins)"
   ]
  },
  {
   "cell_type": "code",
   "execution_count": 18,
   "metadata": {},
   "outputs": [
    {
     "data": {
      "application/vnd.plotly.v1+json": {
       "config": {
        "plotlyServerURL": "https://plot.ly"
       },
       "data": [
        {
         "line": {
          "color": "darkred",
          "width": 3
         },
         "mode": "lines",
         "name": "Adams, PA",
         "text": "Adams, PA",
         "textposition": "top right",
         "type": "scatter",
         "x": [
          2001,
          2002,
          2003,
          2004,
          2005,
          2006,
          2007,
          2008,
          2009,
          2010,
          2011,
          2013,
          2014,
          2015,
          2016,
          2017,
          2018,
          2019,
          2020,
          2021
         ],
         "y": [
          78.619,
          84.689,
          84.475,
          85.86,
          89.556,
          93.508,
          93.154,
          95.379,
          96.885,
          95.036,
          97.071,
          100.08,
          100.006,
          102.509,
          103.708,
          108.411,
          105.39,
          103.44,
          97.678,
          102.664
         ]
        },
        {
         "line": {
          "color": "#FFC0CB"
         },
         "mode": "lines",
         "name": "Riley, KS",
         "text": "Riley, KS",
         "textposition": "top right",
         "type": "scatter",
         "x": [
          2003,
          2004,
          2005,
          2006,
          2007,
          2008,
          2009,
          2010,
          2011,
          2012,
          2013,
          2015,
          2016,
          2017,
          2018,
          2019,
          2020,
          2021,
          2022,
          2023
         ],
         "y": [
          78.822,
          79.879,
          83.156,
          85.898,
          86.815,
          89.029,
          93.378,
          97.32,
          95.39,
          96.585,
          97.939,
          99.925,
          102.355,
          102.888,
          103.512,
          102.037,
          100.206,
          100.843,
          100.186,
          101.947
         ]
        },
        {
         "line": {
          "color": "#A9A9A9"
         },
         "mode": "lines",
         "name": "Adams, IL",
         "text": "Adams, IL",
         "textposition": "top right",
         "type": "scatter",
         "x": [
          2003,
          2004,
          2005,
          2006,
          2007,
          2008,
          2009,
          2010,
          2011,
          2012,
          2013,
          2015,
          2016,
          2017,
          2018,
          2019,
          2020,
          2021,
          2022,
          2023
         ],
         "y": [
          79.654,
          81.654,
          86.491,
          90.16,
          91.589,
          93.582,
          93.367,
          95.001,
          92.234,
          95.051,
          98.111,
          99.232,
          102.4,
          101.76,
          104.586,
          97.057,
          99.635,
          98.477,
          93.51,
          100.614
         ]
        },
        {
         "line": {
          "color": "#87CEFA"
         },
         "mode": "lines",
         "name": "Sullivan, NH",
         "text": "Sullivan, NH",
         "textposition": "top right",
         "type": "scatter",
         "x": [
          2003,
          2004,
          2005,
          2006,
          2007,
          2008,
          2009,
          2010,
          2011,
          2012,
          2013,
          2015,
          2016,
          2017,
          2018,
          2019,
          2020,
          2021,
          2022,
          2023
         ],
         "y": [
          87.624,
          93.209,
          91.829,
          96.587,
          97.861,
          95.699,
          97.592,
          92.842,
          91.07,
          94.881,
          94.509,
          101.387,
          102.845,
          106.4,
          101.283,
          101.85,
          99.204,
          99.205,
          101.346,
          109.571
         ]
        },
        {
         "line": {
          "color": "#FFD700"
         },
         "mode": "lines",
         "name": "Lamar, GA",
         "text": "Lamar, GA",
         "textposition": "top right",
         "type": "scatter",
         "x": [
          2003,
          2004,
          2005,
          2006,
          2007,
          2008,
          2009,
          2010,
          2011,
          2012,
          2013,
          2015,
          2016,
          2017,
          2018,
          2019,
          2020,
          2021,
          2022,
          2023
         ],
         "y": [
          83.191,
          81.883,
          83.438,
          84.551,
          93.216,
          93.727,
          93.967,
          98.477,
          94.878,
          94.172,
          93.427,
          99.737,
          99.373,
          103.592,
          103.735,
          104.157,
          101.036,
          105.494,
          110.219,
          114.258
         ]
        },
        {
         "line": {
          "color": "#98FB98"
         },
         "mode": "lines",
         "name": "Lake, IL",
         "text": "Lake, IL",
         "textposition": "top right",
         "type": "scatter",
         "x": [
          2003,
          2004,
          2005,
          2006,
          2007,
          2008,
          2009,
          2010,
          2011,
          2012,
          2013,
          2015,
          2016,
          2017,
          2018,
          2019,
          2020,
          2021,
          2022,
          2023
         ],
         "y": [
          78.656,
          81.216,
          83.875,
          87.882,
          89.657,
          94.695,
          97.707,
          94.213,
          92.498,
          96.205,
          95.768,
          98.521,
          101.651,
          104.679,
          102.943,
          102.954,
          105.339,
          105.335,
          101.592,
          106.468
         ]
        }
       ],
       "layout": {
        "annotations": [
         {
          "font": {
           "color": "darkgray"
          },
          "showarrow": false,
          "text": "their year 2019",
          "x": 2021,
          "xref": "x",
          "y": 1.05,
          "yref": "paper"
         }
        ],
        "legend": {
         "title": {
          "text": "GeoName"
         }
        },
        "shapes": [
         {
          "line": {
           "color": "darkgray",
           "width": 2
          },
          "type": "line",
          "x0": 2021,
          "x1": 2021,
          "xref": "x",
          "y0": 0,
          "y1": 1,
          "yref": "paper"
         }
        ],
        "template": {
         "data": {
          "bar": [
           {
            "error_x": {
             "color": "rgb(36,36,36)"
            },
            "error_y": {
             "color": "rgb(36,36,36)"
            },
            "marker": {
             "line": {
              "color": "white",
              "width": 0.5
             },
             "pattern": {
              "fillmode": "overlay",
              "size": 10,
              "solidity": 0.2
             }
            },
            "type": "bar"
           }
          ],
          "barpolar": [
           {
            "marker": {
             "line": {
              "color": "white",
              "width": 0.5
             },
             "pattern": {
              "fillmode": "overlay",
              "size": 10,
              "solidity": 0.2
             }
            },
            "type": "barpolar"
           }
          ],
          "carpet": [
           {
            "aaxis": {
             "endlinecolor": "rgb(36,36,36)",
             "gridcolor": "white",
             "linecolor": "white",
             "minorgridcolor": "white",
             "startlinecolor": "rgb(36,36,36)"
            },
            "baxis": {
             "endlinecolor": "rgb(36,36,36)",
             "gridcolor": "white",
             "linecolor": "white",
             "minorgridcolor": "white",
             "startlinecolor": "rgb(36,36,36)"
            },
            "type": "carpet"
           }
          ],
          "choropleth": [
           {
            "colorbar": {
             "outlinewidth": 1,
             "tickcolor": "rgb(36,36,36)",
             "ticks": "outside"
            },
            "type": "choropleth"
           }
          ],
          "contour": [
           {
            "colorbar": {
             "outlinewidth": 1,
             "tickcolor": "rgb(36,36,36)",
             "ticks": "outside"
            },
            "colorscale": [
             [
              0,
              "#440154"
             ],
             [
              0.1111111111111111,
              "#482878"
             ],
             [
              0.2222222222222222,
              "#3e4989"
             ],
             [
              0.3333333333333333,
              "#31688e"
             ],
             [
              0.4444444444444444,
              "#26828e"
             ],
             [
              0.5555555555555556,
              "#1f9e89"
             ],
             [
              0.6666666666666666,
              "#35b779"
             ],
             [
              0.7777777777777778,
              "#6ece58"
             ],
             [
              0.8888888888888888,
              "#b5de2b"
             ],
             [
              1,
              "#fde725"
             ]
            ],
            "type": "contour"
           }
          ],
          "contourcarpet": [
           {
            "colorbar": {
             "outlinewidth": 1,
             "tickcolor": "rgb(36,36,36)",
             "ticks": "outside"
            },
            "type": "contourcarpet"
           }
          ],
          "heatmap": [
           {
            "colorbar": {
             "outlinewidth": 1,
             "tickcolor": "rgb(36,36,36)",
             "ticks": "outside"
            },
            "colorscale": [
             [
              0,
              "#440154"
             ],
             [
              0.1111111111111111,
              "#482878"
             ],
             [
              0.2222222222222222,
              "#3e4989"
             ],
             [
              0.3333333333333333,
              "#31688e"
             ],
             [
              0.4444444444444444,
              "#26828e"
             ],
             [
              0.5555555555555556,
              "#1f9e89"
             ],
             [
              0.6666666666666666,
              "#35b779"
             ],
             [
              0.7777777777777778,
              "#6ece58"
             ],
             [
              0.8888888888888888,
              "#b5de2b"
             ],
             [
              1,
              "#fde725"
             ]
            ],
            "type": "heatmap"
           }
          ],
          "heatmapgl": [
           {
            "colorbar": {
             "outlinewidth": 1,
             "tickcolor": "rgb(36,36,36)",
             "ticks": "outside"
            },
            "colorscale": [
             [
              0,
              "#440154"
             ],
             [
              0.1111111111111111,
              "#482878"
             ],
             [
              0.2222222222222222,
              "#3e4989"
             ],
             [
              0.3333333333333333,
              "#31688e"
             ],
             [
              0.4444444444444444,
              "#26828e"
             ],
             [
              0.5555555555555556,
              "#1f9e89"
             ],
             [
              0.6666666666666666,
              "#35b779"
             ],
             [
              0.7777777777777778,
              "#6ece58"
             ],
             [
              0.8888888888888888,
              "#b5de2b"
             ],
             [
              1,
              "#fde725"
             ]
            ],
            "type": "heatmapgl"
           }
          ],
          "histogram": [
           {
            "marker": {
             "line": {
              "color": "white",
              "width": 0.6
             }
            },
            "type": "histogram"
           }
          ],
          "histogram2d": [
           {
            "colorbar": {
             "outlinewidth": 1,
             "tickcolor": "rgb(36,36,36)",
             "ticks": "outside"
            },
            "colorscale": [
             [
              0,
              "#440154"
             ],
             [
              0.1111111111111111,
              "#482878"
             ],
             [
              0.2222222222222222,
              "#3e4989"
             ],
             [
              0.3333333333333333,
              "#31688e"
             ],
             [
              0.4444444444444444,
              "#26828e"
             ],
             [
              0.5555555555555556,
              "#1f9e89"
             ],
             [
              0.6666666666666666,
              "#35b779"
             ],
             [
              0.7777777777777778,
              "#6ece58"
             ],
             [
              0.8888888888888888,
              "#b5de2b"
             ],
             [
              1,
              "#fde725"
             ]
            ],
            "type": "histogram2d"
           }
          ],
          "histogram2dcontour": [
           {
            "colorbar": {
             "outlinewidth": 1,
             "tickcolor": "rgb(36,36,36)",
             "ticks": "outside"
            },
            "colorscale": [
             [
              0,
              "#440154"
             ],
             [
              0.1111111111111111,
              "#482878"
             ],
             [
              0.2222222222222222,
              "#3e4989"
             ],
             [
              0.3333333333333333,
              "#31688e"
             ],
             [
              0.4444444444444444,
              "#26828e"
             ],
             [
              0.5555555555555556,
              "#1f9e89"
             ],
             [
              0.6666666666666666,
              "#35b779"
             ],
             [
              0.7777777777777778,
              "#6ece58"
             ],
             [
              0.8888888888888888,
              "#b5de2b"
             ],
             [
              1,
              "#fde725"
             ]
            ],
            "type": "histogram2dcontour"
           }
          ],
          "mesh3d": [
           {
            "colorbar": {
             "outlinewidth": 1,
             "tickcolor": "rgb(36,36,36)",
             "ticks": "outside"
            },
            "type": "mesh3d"
           }
          ],
          "parcoords": [
           {
            "line": {
             "colorbar": {
              "outlinewidth": 1,
              "tickcolor": "rgb(36,36,36)",
              "ticks": "outside"
             }
            },
            "type": "parcoords"
           }
          ],
          "pie": [
           {
            "automargin": true,
            "type": "pie"
           }
          ],
          "scatter": [
           {
            "fillpattern": {
             "fillmode": "overlay",
             "size": 10,
             "solidity": 0.2
            },
            "type": "scatter"
           }
          ],
          "scatter3d": [
           {
            "line": {
             "colorbar": {
              "outlinewidth": 1,
              "tickcolor": "rgb(36,36,36)",
              "ticks": "outside"
             }
            },
            "marker": {
             "colorbar": {
              "outlinewidth": 1,
              "tickcolor": "rgb(36,36,36)",
              "ticks": "outside"
             }
            },
            "type": "scatter3d"
           }
          ],
          "scattercarpet": [
           {
            "marker": {
             "colorbar": {
              "outlinewidth": 1,
              "tickcolor": "rgb(36,36,36)",
              "ticks": "outside"
             }
            },
            "type": "scattercarpet"
           }
          ],
          "scattergeo": [
           {
            "marker": {
             "colorbar": {
              "outlinewidth": 1,
              "tickcolor": "rgb(36,36,36)",
              "ticks": "outside"
             }
            },
            "type": "scattergeo"
           }
          ],
          "scattergl": [
           {
            "marker": {
             "colorbar": {
              "outlinewidth": 1,
              "tickcolor": "rgb(36,36,36)",
              "ticks": "outside"
             }
            },
            "type": "scattergl"
           }
          ],
          "scattermapbox": [
           {
            "marker": {
             "colorbar": {
              "outlinewidth": 1,
              "tickcolor": "rgb(36,36,36)",
              "ticks": "outside"
             }
            },
            "type": "scattermapbox"
           }
          ],
          "scatterpolar": [
           {
            "marker": {
             "colorbar": {
              "outlinewidth": 1,
              "tickcolor": "rgb(36,36,36)",
              "ticks": "outside"
             }
            },
            "type": "scatterpolar"
           }
          ],
          "scatterpolargl": [
           {
            "marker": {
             "colorbar": {
              "outlinewidth": 1,
              "tickcolor": "rgb(36,36,36)",
              "ticks": "outside"
             }
            },
            "type": "scatterpolargl"
           }
          ],
          "scatterternary": [
           {
            "marker": {
             "colorbar": {
              "outlinewidth": 1,
              "tickcolor": "rgb(36,36,36)",
              "ticks": "outside"
             }
            },
            "type": "scatterternary"
           }
          ],
          "surface": [
           {
            "colorbar": {
             "outlinewidth": 1,
             "tickcolor": "rgb(36,36,36)",
             "ticks": "outside"
            },
            "colorscale": [
             [
              0,
              "#440154"
             ],
             [
              0.1111111111111111,
              "#482878"
             ],
             [
              0.2222222222222222,
              "#3e4989"
             ],
             [
              0.3333333333333333,
              "#31688e"
             ],
             [
              0.4444444444444444,
              "#26828e"
             ],
             [
              0.5555555555555556,
              "#1f9e89"
             ],
             [
              0.6666666666666666,
              "#35b779"
             ],
             [
              0.7777777777777778,
              "#6ece58"
             ],
             [
              0.8888888888888888,
              "#b5de2b"
             ],
             [
              1,
              "#fde725"
             ]
            ],
            "type": "surface"
           }
          ],
          "table": [
           {
            "cells": {
             "fill": {
              "color": "rgb(237,237,237)"
             },
             "line": {
              "color": "white"
             }
            },
            "header": {
             "fill": {
              "color": "rgb(217,217,217)"
             },
             "line": {
              "color": "white"
             }
            },
            "type": "table"
           }
          ]
         },
         "layout": {
          "annotationdefaults": {
           "arrowhead": 0,
           "arrowwidth": 1
          },
          "autotypenumbers": "strict",
          "coloraxis": {
           "colorbar": {
            "outlinewidth": 1,
            "tickcolor": "rgb(36,36,36)",
            "ticks": "outside"
           }
          },
          "colorscale": {
           "diverging": [
            [
             0,
             "rgb(103,0,31)"
            ],
            [
             0.1,
             "rgb(178,24,43)"
            ],
            [
             0.2,
             "rgb(214,96,77)"
            ],
            [
             0.3,
             "rgb(244,165,130)"
            ],
            [
             0.4,
             "rgb(253,219,199)"
            ],
            [
             0.5,
             "rgb(247,247,247)"
            ],
            [
             0.6,
             "rgb(209,229,240)"
            ],
            [
             0.7,
             "rgb(146,197,222)"
            ],
            [
             0.8,
             "rgb(67,147,195)"
            ],
            [
             0.9,
             "rgb(33,102,172)"
            ],
            [
             1,
             "rgb(5,48,97)"
            ]
           ],
           "sequential": [
            [
             0,
             "#440154"
            ],
            [
             0.1111111111111111,
             "#482878"
            ],
            [
             0.2222222222222222,
             "#3e4989"
            ],
            [
             0.3333333333333333,
             "#31688e"
            ],
            [
             0.4444444444444444,
             "#26828e"
            ],
            [
             0.5555555555555556,
             "#1f9e89"
            ],
            [
             0.6666666666666666,
             "#35b779"
            ],
            [
             0.7777777777777778,
             "#6ece58"
            ],
            [
             0.8888888888888888,
             "#b5de2b"
            ],
            [
             1,
             "#fde725"
            ]
           ],
           "sequentialminus": [
            [
             0,
             "#440154"
            ],
            [
             0.1111111111111111,
             "#482878"
            ],
            [
             0.2222222222222222,
             "#3e4989"
            ],
            [
             0.3333333333333333,
             "#31688e"
            ],
            [
             0.4444444444444444,
             "#26828e"
            ],
            [
             0.5555555555555556,
             "#1f9e89"
            ],
            [
             0.6666666666666666,
             "#35b779"
            ],
            [
             0.7777777777777778,
             "#6ece58"
            ],
            [
             0.8888888888888888,
             "#b5de2b"
            ],
            [
             1,
             "#fde725"
            ]
           ]
          },
          "colorway": [
           "#1F77B4",
           "#FF7F0E",
           "#2CA02C",
           "#D62728",
           "#9467BD",
           "#8C564B",
           "#E377C2",
           "#7F7F7F",
           "#BCBD22",
           "#17BECF"
          ],
          "font": {
           "color": "rgb(36,36,36)"
          },
          "geo": {
           "bgcolor": "white",
           "lakecolor": "white",
           "landcolor": "white",
           "showlakes": true,
           "showland": true,
           "subunitcolor": "white"
          },
          "hoverlabel": {
           "align": "left"
          },
          "hovermode": "closest",
          "mapbox": {
           "style": "light"
          },
          "paper_bgcolor": "white",
          "plot_bgcolor": "white",
          "polar": {
           "angularaxis": {
            "gridcolor": "rgb(232,232,232)",
            "linecolor": "rgb(36,36,36)",
            "showgrid": false,
            "showline": true,
            "ticks": "outside"
           },
           "bgcolor": "white",
           "radialaxis": {
            "gridcolor": "rgb(232,232,232)",
            "linecolor": "rgb(36,36,36)",
            "showgrid": false,
            "showline": true,
            "ticks": "outside"
           }
          },
          "scene": {
           "xaxis": {
            "backgroundcolor": "white",
            "gridcolor": "rgb(232,232,232)",
            "gridwidth": 2,
            "linecolor": "rgb(36,36,36)",
            "showbackground": true,
            "showgrid": false,
            "showline": true,
            "ticks": "outside",
            "zeroline": false,
            "zerolinecolor": "rgb(36,36,36)"
           },
           "yaxis": {
            "backgroundcolor": "white",
            "gridcolor": "rgb(232,232,232)",
            "gridwidth": 2,
            "linecolor": "rgb(36,36,36)",
            "showbackground": true,
            "showgrid": false,
            "showline": true,
            "ticks": "outside",
            "zeroline": false,
            "zerolinecolor": "rgb(36,36,36)"
           },
           "zaxis": {
            "backgroundcolor": "white",
            "gridcolor": "rgb(232,232,232)",
            "gridwidth": 2,
            "linecolor": "rgb(36,36,36)",
            "showbackground": true,
            "showgrid": false,
            "showline": true,
            "ticks": "outside",
            "zeroline": false,
            "zerolinecolor": "rgb(36,36,36)"
           }
          },
          "shapedefaults": {
           "fillcolor": "black",
           "line": {
            "width": 0
           },
           "opacity": 0.3
          },
          "ternary": {
           "aaxis": {
            "gridcolor": "rgb(232,232,232)",
            "linecolor": "rgb(36,36,36)",
            "showgrid": false,
            "showline": true,
            "ticks": "outside"
           },
           "baxis": {
            "gridcolor": "rgb(232,232,232)",
            "linecolor": "rgb(36,36,36)",
            "showgrid": false,
            "showline": true,
            "ticks": "outside"
           },
           "bgcolor": "white",
           "caxis": {
            "gridcolor": "rgb(232,232,232)",
            "linecolor": "rgb(36,36,36)",
            "showgrid": false,
            "showline": true,
            "ticks": "outside"
           }
          },
          "title": {
           "x": 0.05
          },
          "xaxis": {
           "automargin": true,
           "gridcolor": "rgb(232,232,232)",
           "linecolor": "rgb(36,36,36)",
           "showgrid": false,
           "showline": true,
           "ticks": "outside",
           "title": {
            "standoff": 15
           },
           "zeroline": false,
           "zerolinecolor": "rgb(36,36,36)"
          },
          "yaxis": {
           "automargin": true,
           "gridcolor": "rgb(232,232,232)",
           "linecolor": "rgb(36,36,36)",
           "showgrid": false,
           "showline": true,
           "ticks": "outside",
           "title": {
            "standoff": 15
           },
           "zeroline": false,
           "zerolinecolor": "rgb(36,36,36)"
          }
         }
        },
        "title": {
         "text": "Top 5 locations matching your search (lag of 2 years)"
        },
        "xaxis": {
         "title": {
          "text": "Year"
         }
        },
        "yaxis": {
         "title": {
          "text": "gdp"
         }
        }
       }
      }
     },
     "metadata": {},
     "output_type": "display_data"
    }
   ],
   "source": [
    "fig = f.show_kins_plot()"
   ]
  },
  {
   "cell_type": "markdown",
   "metadata": {},
   "source": [
    "#### Use case: similarity of outcome and other features with a lag"
   ]
  },
  {
   "cell_type": "code",
   "execution_count": 19,
   "metadata": {},
   "outputs": [
    {
     "data": {
      "application/vnd.plotly.v1+json": {
       "config": {
        "plotlyServerURL": "https://plot.ly"
       },
       "data": [
        {
         "type": "bar",
         "x": [
          "2004_gdp",
          "2005_gdp",
          "2006_gdp",
          "2007_gdp",
          "2008_gdp",
          "2009_gdp",
          "2010_gdp",
          "2011_gdp",
          "2013_gdp",
          "2014_gdp",
          "2015_gdp",
          "2016_gdp",
          "2017_gdp",
          "2018_gdp",
          "2019_gdp",
          "2020_gdp",
          "2021_gdp",
          "1993_population",
          "1994_population",
          "1995_population",
          "1996_population",
          "1997_population",
          "1998_population",
          "1999_population",
          "2000_population",
          "2001_population",
          "2002_population",
          "2003_population",
          "2004_population",
          "2005_population",
          "2006_population",
          "2007_population",
          "2008_population",
          "2009_population",
          "2010_population",
          "2011_population",
          "2012_population",
          "2013_population",
          "2014_population",
          "2015_population",
          "2016_population",
          "2017_population",
          "2018_population",
          "2019_population",
          "2020_population",
          "2021_population"
         ],
         "y": [
          0,
          0,
          0,
          0,
          0,
          0,
          0,
          0,
          0,
          0,
          0,
          0,
          0,
          0,
          0,
          0,
          0,
          0.08845868442653022,
          0.09111244495932613,
          0.09384581830810591,
          0.0966611928573491,
          0.09956102864306958,
          0.10254785950236166,
          0.10562429528743252,
          0.1087930241460555,
          0.11205681487043717,
          0.11541851931655028,
          0.1188810748960468,
          0.1224475071429282,
          0.12612093235721605,
          0.12990456032793254,
          0.13380169713777051,
          0.13781574805190364,
          0.14195022049346076,
          0.14620872710826457,
          0.15059498892151252,
          0.1551128385891579,
          0.15976622374683264,
          0.16455921045923763,
          0.16949598677301475,
          0.1745808663762052,
          0.17981829236749136,
          0.1852128411385161,
          0.1907692263726716,
          0.19649230316385177,
          0.20238707225876731
         ]
        }
       ],
       "layout": {
        "template": {
         "data": {
          "bar": [
           {
            "error_x": {
             "color": "#2a3f5f"
            },
            "error_y": {
             "color": "#2a3f5f"
            },
            "marker": {
             "line": {
              "color": "white",
              "width": 0.5
             },
             "pattern": {
              "fillmode": "overlay",
              "size": 10,
              "solidity": 0.2
             }
            },
            "type": "bar"
           }
          ],
          "barpolar": [
           {
            "marker": {
             "line": {
              "color": "white",
              "width": 0.5
             },
             "pattern": {
              "fillmode": "overlay",
              "size": 10,
              "solidity": 0.2
             }
            },
            "type": "barpolar"
           }
          ],
          "carpet": [
           {
            "aaxis": {
             "endlinecolor": "#2a3f5f",
             "gridcolor": "#C8D4E3",
             "linecolor": "#C8D4E3",
             "minorgridcolor": "#C8D4E3",
             "startlinecolor": "#2a3f5f"
            },
            "baxis": {
             "endlinecolor": "#2a3f5f",
             "gridcolor": "#C8D4E3",
             "linecolor": "#C8D4E3",
             "minorgridcolor": "#C8D4E3",
             "startlinecolor": "#2a3f5f"
            },
            "type": "carpet"
           }
          ],
          "choropleth": [
           {
            "colorbar": {
             "outlinewidth": 0,
             "ticks": ""
            },
            "type": "choropleth"
           }
          ],
          "contour": [
           {
            "colorbar": {
             "outlinewidth": 0,
             "ticks": ""
            },
            "colorscale": [
             [
              0,
              "#0d0887"
             ],
             [
              0.1111111111111111,
              "#46039f"
             ],
             [
              0.2222222222222222,
              "#7201a8"
             ],
             [
              0.3333333333333333,
              "#9c179e"
             ],
             [
              0.4444444444444444,
              "#bd3786"
             ],
             [
              0.5555555555555556,
              "#d8576b"
             ],
             [
              0.6666666666666666,
              "#ed7953"
             ],
             [
              0.7777777777777778,
              "#fb9f3a"
             ],
             [
              0.8888888888888888,
              "#fdca26"
             ],
             [
              1,
              "#f0f921"
             ]
            ],
            "type": "contour"
           }
          ],
          "contourcarpet": [
           {
            "colorbar": {
             "outlinewidth": 0,
             "ticks": ""
            },
            "type": "contourcarpet"
           }
          ],
          "heatmap": [
           {
            "colorbar": {
             "outlinewidth": 0,
             "ticks": ""
            },
            "colorscale": [
             [
              0,
              "#0d0887"
             ],
             [
              0.1111111111111111,
              "#46039f"
             ],
             [
              0.2222222222222222,
              "#7201a8"
             ],
             [
              0.3333333333333333,
              "#9c179e"
             ],
             [
              0.4444444444444444,
              "#bd3786"
             ],
             [
              0.5555555555555556,
              "#d8576b"
             ],
             [
              0.6666666666666666,
              "#ed7953"
             ],
             [
              0.7777777777777778,
              "#fb9f3a"
             ],
             [
              0.8888888888888888,
              "#fdca26"
             ],
             [
              1,
              "#f0f921"
             ]
            ],
            "type": "heatmap"
           }
          ],
          "heatmapgl": [
           {
            "colorbar": {
             "outlinewidth": 0,
             "ticks": ""
            },
            "colorscale": [
             [
              0,
              "#0d0887"
             ],
             [
              0.1111111111111111,
              "#46039f"
             ],
             [
              0.2222222222222222,
              "#7201a8"
             ],
             [
              0.3333333333333333,
              "#9c179e"
             ],
             [
              0.4444444444444444,
              "#bd3786"
             ],
             [
              0.5555555555555556,
              "#d8576b"
             ],
             [
              0.6666666666666666,
              "#ed7953"
             ],
             [
              0.7777777777777778,
              "#fb9f3a"
             ],
             [
              0.8888888888888888,
              "#fdca26"
             ],
             [
              1,
              "#f0f921"
             ]
            ],
            "type": "heatmapgl"
           }
          ],
          "histogram": [
           {
            "marker": {
             "pattern": {
              "fillmode": "overlay",
              "size": 10,
              "solidity": 0.2
             }
            },
            "type": "histogram"
           }
          ],
          "histogram2d": [
           {
            "colorbar": {
             "outlinewidth": 0,
             "ticks": ""
            },
            "colorscale": [
             [
              0,
              "#0d0887"
             ],
             [
              0.1111111111111111,
              "#46039f"
             ],
             [
              0.2222222222222222,
              "#7201a8"
             ],
             [
              0.3333333333333333,
              "#9c179e"
             ],
             [
              0.4444444444444444,
              "#bd3786"
             ],
             [
              0.5555555555555556,
              "#d8576b"
             ],
             [
              0.6666666666666666,
              "#ed7953"
             ],
             [
              0.7777777777777778,
              "#fb9f3a"
             ],
             [
              0.8888888888888888,
              "#fdca26"
             ],
             [
              1,
              "#f0f921"
             ]
            ],
            "type": "histogram2d"
           }
          ],
          "histogram2dcontour": [
           {
            "colorbar": {
             "outlinewidth": 0,
             "ticks": ""
            },
            "colorscale": [
             [
              0,
              "#0d0887"
             ],
             [
              0.1111111111111111,
              "#46039f"
             ],
             [
              0.2222222222222222,
              "#7201a8"
             ],
             [
              0.3333333333333333,
              "#9c179e"
             ],
             [
              0.4444444444444444,
              "#bd3786"
             ],
             [
              0.5555555555555556,
              "#d8576b"
             ],
             [
              0.6666666666666666,
              "#ed7953"
             ],
             [
              0.7777777777777778,
              "#fb9f3a"
             ],
             [
              0.8888888888888888,
              "#fdca26"
             ],
             [
              1,
              "#f0f921"
             ]
            ],
            "type": "histogram2dcontour"
           }
          ],
          "mesh3d": [
           {
            "colorbar": {
             "outlinewidth": 0,
             "ticks": ""
            },
            "type": "mesh3d"
           }
          ],
          "parcoords": [
           {
            "line": {
             "colorbar": {
              "outlinewidth": 0,
              "ticks": ""
             }
            },
            "type": "parcoords"
           }
          ],
          "pie": [
           {
            "automargin": true,
            "type": "pie"
           }
          ],
          "scatter": [
           {
            "fillpattern": {
             "fillmode": "overlay",
             "size": 10,
             "solidity": 0.2
            },
            "type": "scatter"
           }
          ],
          "scatter3d": [
           {
            "line": {
             "colorbar": {
              "outlinewidth": 0,
              "ticks": ""
             }
            },
            "marker": {
             "colorbar": {
              "outlinewidth": 0,
              "ticks": ""
             }
            },
            "type": "scatter3d"
           }
          ],
          "scattercarpet": [
           {
            "marker": {
             "colorbar": {
              "outlinewidth": 0,
              "ticks": ""
             }
            },
            "type": "scattercarpet"
           }
          ],
          "scattergeo": [
           {
            "marker": {
             "colorbar": {
              "outlinewidth": 0,
              "ticks": ""
             }
            },
            "type": "scattergeo"
           }
          ],
          "scattergl": [
           {
            "marker": {
             "colorbar": {
              "outlinewidth": 0,
              "ticks": ""
             }
            },
            "type": "scattergl"
           }
          ],
          "scattermapbox": [
           {
            "marker": {
             "colorbar": {
              "outlinewidth": 0,
              "ticks": ""
             }
            },
            "type": "scattermapbox"
           }
          ],
          "scatterpolar": [
           {
            "marker": {
             "colorbar": {
              "outlinewidth": 0,
              "ticks": ""
             }
            },
            "type": "scatterpolar"
           }
          ],
          "scatterpolargl": [
           {
            "marker": {
             "colorbar": {
              "outlinewidth": 0,
              "ticks": ""
             }
            },
            "type": "scatterpolargl"
           }
          ],
          "scatterternary": [
           {
            "marker": {
             "colorbar": {
              "outlinewidth": 0,
              "ticks": ""
             }
            },
            "type": "scatterternary"
           }
          ],
          "surface": [
           {
            "colorbar": {
             "outlinewidth": 0,
             "ticks": ""
            },
            "colorscale": [
             [
              0,
              "#0d0887"
             ],
             [
              0.1111111111111111,
              "#46039f"
             ],
             [
              0.2222222222222222,
              "#7201a8"
             ],
             [
              0.3333333333333333,
              "#9c179e"
             ],
             [
              0.4444444444444444,
              "#bd3786"
             ],
             [
              0.5555555555555556,
              "#d8576b"
             ],
             [
              0.6666666666666666,
              "#ed7953"
             ],
             [
              0.7777777777777778,
              "#fb9f3a"
             ],
             [
              0.8888888888888888,
              "#fdca26"
             ],
             [
              1,
              "#f0f921"
             ]
            ],
            "type": "surface"
           }
          ],
          "table": [
           {
            "cells": {
             "fill": {
              "color": "#EBF0F8"
             },
             "line": {
              "color": "white"
             }
            },
            "header": {
             "fill": {
              "color": "#C8D4E3"
             },
             "line": {
              "color": "white"
             }
            },
            "type": "table"
           }
          ]
         },
         "layout": {
          "annotationdefaults": {
           "arrowcolor": "#2a3f5f",
           "arrowhead": 0,
           "arrowwidth": 1
          },
          "autotypenumbers": "strict",
          "coloraxis": {
           "colorbar": {
            "outlinewidth": 0,
            "ticks": ""
           }
          },
          "colorscale": {
           "diverging": [
            [
             0,
             "#8e0152"
            ],
            [
             0.1,
             "#c51b7d"
            ],
            [
             0.2,
             "#de77ae"
            ],
            [
             0.3,
             "#f1b6da"
            ],
            [
             0.4,
             "#fde0ef"
            ],
            [
             0.5,
             "#f7f7f7"
            ],
            [
             0.6,
             "#e6f5d0"
            ],
            [
             0.7,
             "#b8e186"
            ],
            [
             0.8,
             "#7fbc41"
            ],
            [
             0.9,
             "#4d9221"
            ],
            [
             1,
             "#276419"
            ]
           ],
           "sequential": [
            [
             0,
             "#0d0887"
            ],
            [
             0.1111111111111111,
             "#46039f"
            ],
            [
             0.2222222222222222,
             "#7201a8"
            ],
            [
             0.3333333333333333,
             "#9c179e"
            ],
            [
             0.4444444444444444,
             "#bd3786"
            ],
            [
             0.5555555555555556,
             "#d8576b"
            ],
            [
             0.6666666666666666,
             "#ed7953"
            ],
            [
             0.7777777777777778,
             "#fb9f3a"
            ],
            [
             0.8888888888888888,
             "#fdca26"
            ],
            [
             1,
             "#f0f921"
            ]
           ],
           "sequentialminus": [
            [
             0,
             "#0d0887"
            ],
            [
             0.1111111111111111,
             "#46039f"
            ],
            [
             0.2222222222222222,
             "#7201a8"
            ],
            [
             0.3333333333333333,
             "#9c179e"
            ],
            [
             0.4444444444444444,
             "#bd3786"
            ],
            [
             0.5555555555555556,
             "#d8576b"
            ],
            [
             0.6666666666666666,
             "#ed7953"
            ],
            [
             0.7777777777777778,
             "#fb9f3a"
            ],
            [
             0.8888888888888888,
             "#fdca26"
            ],
            [
             1,
             "#f0f921"
            ]
           ]
          },
          "colorway": [
           "#636efa",
           "#EF553B",
           "#00cc96",
           "#ab63fa",
           "#FFA15A",
           "#19d3f3",
           "#FF6692",
           "#B6E880",
           "#FF97FF",
           "#FECB52"
          ],
          "font": {
           "color": "#2a3f5f"
          },
          "geo": {
           "bgcolor": "white",
           "lakecolor": "white",
           "landcolor": "white",
           "showlakes": true,
           "showland": true,
           "subunitcolor": "#C8D4E3"
          },
          "hoverlabel": {
           "align": "left"
          },
          "hovermode": "closest",
          "mapbox": {
           "style": "light"
          },
          "paper_bgcolor": "white",
          "plot_bgcolor": "white",
          "polar": {
           "angularaxis": {
            "gridcolor": "#EBF0F8",
            "linecolor": "#EBF0F8",
            "ticks": ""
           },
           "bgcolor": "white",
           "radialaxis": {
            "gridcolor": "#EBF0F8",
            "linecolor": "#EBF0F8",
            "ticks": ""
           }
          },
          "scene": {
           "xaxis": {
            "backgroundcolor": "white",
            "gridcolor": "#DFE8F3",
            "gridwidth": 2,
            "linecolor": "#EBF0F8",
            "showbackground": true,
            "ticks": "",
            "zerolinecolor": "#EBF0F8"
           },
           "yaxis": {
            "backgroundcolor": "white",
            "gridcolor": "#DFE8F3",
            "gridwidth": 2,
            "linecolor": "#EBF0F8",
            "showbackground": true,
            "ticks": "",
            "zerolinecolor": "#EBF0F8"
           },
           "zaxis": {
            "backgroundcolor": "white",
            "gridcolor": "#DFE8F3",
            "gridwidth": 2,
            "linecolor": "#EBF0F8",
            "showbackground": true,
            "ticks": "",
            "zerolinecolor": "#EBF0F8"
           }
          },
          "shapedefaults": {
           "line": {
            "color": "#2a3f5f"
           }
          },
          "ternary": {
           "aaxis": {
            "gridcolor": "#DFE8F3",
            "linecolor": "#A2B1C6",
            "ticks": ""
           },
           "baxis": {
            "gridcolor": "#DFE8F3",
            "linecolor": "#A2B1C6",
            "ticks": ""
           },
           "bgcolor": "white",
           "caxis": {
            "gridcolor": "#DFE8F3",
            "linecolor": "#A2B1C6",
            "ticks": ""
           }
          },
          "title": {
           "x": 0.05
          },
          "xaxis": {
           "automargin": true,
           "gridcolor": "#EBF0F8",
           "linecolor": "#EBF0F8",
           "ticks": "",
           "title": {
            "standoff": 15
           },
           "zerolinecolor": "#EBF0F8",
           "zerolinewidth": 2
          },
          "yaxis": {
           "automargin": true,
           "gridcolor": "#EBF0F8",
           "linecolor": "#EBF0F8",
           "ticks": "",
           "title": {
            "standoff": 15
           },
           "zerolinecolor": "#EBF0F8",
           "zerolinewidth": 2
          }
         }
        },
        "title": {
         "text": "Weights of columns"
        },
        "xaxis": {
         "title": {
          "text": "columns"
         }
        },
        "yaxis": {
         "title": {
          "text": "weights"
         }
        }
       }
      }
     },
     "metadata": {},
     "output_type": "display_data"
    },
    {
     "data": {
      "text/plain": [
       "None"
      ]
     },
     "metadata": {},
     "output_type": "display_data"
    }
   ],
   "source": [
    "f  = FipsQuery(20003, outcome_var = \"gdp\",\n",
    "               feature_groups_with_weights= {\"gdp\":0, \"population\":4},\n",
    "               # weights= {\"population\":4}, \n",
    "               lag = 3, top =10, time_decay = 1.03)\n",
    "f.find_euclidean_kins()\n",
    "display(f.plot_weights())\n",
    "\n"
   ]
  },
  {
   "cell_type": "code",
   "execution_count": 20,
   "metadata": {},
   "outputs": [
    {
     "data": {
      "application/vnd.plotly.v1+json": {
       "config": {
        "plotlyServerURL": "https://plot.ly"
       },
       "data": [
        {
         "line": {
          "color": "darkred",
          "width": 3
         },
         "mode": "lines",
         "name": "Anderson, KS",
         "text": "Anderson, KS",
         "textposition": "top right",
         "type": "scatter",
         "x": [
          2001,
          2002,
          2003,
          2004,
          2005,
          2006,
          2007,
          2008,
          2009,
          2010,
          2011,
          2013,
          2014,
          2015,
          2016,
          2017,
          2018,
          2019,
          2020,
          2021
         ],
         "y": [
          74.59,
          78.511,
          76.836,
          76.589,
          76.548,
          75.401,
          81.577,
          91.311,
          95.643,
          87.817,
          94.166,
          103.952,
          107.351,
          104.642,
          123.926,
          106.269,
          105.016,
          117.576,
          130.217,
          143.895
         ]
        },
        {
         "line": {
          "color": "#FFC0CB"
         },
         "mode": "lines",
         "name": "Searcy, AR",
         "text": "Searcy, AR",
         "textposition": "top right",
         "type": "scatter",
         "x": [
          2004,
          2005,
          2006,
          2007,
          2008,
          2009,
          2010,
          2011,
          2012,
          2013,
          2014,
          2016,
          2017,
          2018,
          2019,
          2020,
          2021,
          2022,
          2023,
          2024
         ],
         "y": [
          90.528,
          97.992,
          101.146,
          104.189,
          106.461,
          112.705,
          106.153,
          100.018,
          98.552,
          107.214,
          102.905,
          98.807,
          99.256,
          96.926,
          101.548,
          115.809,
          112.288,
          117.577,
          114.056,
          119.556
         ]
        },
        {
         "line": {
          "color": "#A9A9A9"
         },
         "mode": "lines",
         "name": "Doniphan, KS",
         "text": "Doniphan, KS",
         "textposition": "top right",
         "type": "scatter",
         "x": [
          2004,
          2005,
          2006,
          2007,
          2008,
          2009,
          2010,
          2011,
          2012,
          2013,
          2014,
          2016,
          2017,
          2018,
          2019,
          2020,
          2021,
          2022,
          2023,
          2024
         ],
         "y": [
          96.019,
          85.88,
          80.674,
          100.728,
          106.243,
          110.814,
          132.605,
          128.517,
          126.329,
          105.067,
          108.161,
          111.953,
          104.826,
          116.704,
          106.677,
          114.562,
          106.366,
          119.4,
          107.301,
          107.132
         ]
        },
        {
         "line": {
          "color": "#87CEFA"
         },
         "mode": "lines",
         "name": "Lincoln, GA",
         "text": "Lincoln, GA",
         "textposition": "top right",
         "type": "scatter",
         "x": [
          2004,
          2005,
          2006,
          2007,
          2008,
          2009,
          2010,
          2011,
          2012,
          2013,
          2014,
          2016,
          2017,
          2018,
          2019,
          2020,
          2021,
          2022,
          2023,
          2024
         ],
         "y": [
          105.269,
          104.599,
          106.313,
          102.832,
          109.49,
          105.428,
          118.19,
          112.823,
          115.715,
          111.459,
          108.252,
          100.753,
          97.406,
          102.081,
          102.229,
          98.661,
          95.957,
          98.276,
          96.241,
          99.451
         ]
        },
        {
         "line": {
          "color": "#FFD700"
         },
         "mode": "lines",
         "name": "Monroe, IA",
         "text": "Monroe, IA",
         "textposition": "top right",
         "type": "scatter",
         "x": [
          2004,
          2005,
          2006,
          2007,
          2008,
          2009,
          2010,
          2011,
          2012,
          2013,
          2014,
          2016,
          2017,
          2018,
          2019,
          2020,
          2021,
          2022,
          2023,
          2024
         ],
         "y": [
          80.83,
          78.299,
          81.98,
          89.798,
          90.345,
          95.037,
          102.527,
          114.486,
          120.5,
          116.286,
          107.43,
          99.366,
          95.596,
          100.399,
          97.7,
          98.123,
          104.999,
          106.039,
          103.193,
          110.844
         ]
        },
        {
         "line": {
          "color": "#98FB98"
         },
         "mode": "lines",
         "name": "Conejos, CO",
         "text": "Conejos, CO",
         "textposition": "top right",
         "type": "scatter",
         "x": [
          2004,
          2005,
          2006,
          2007,
          2008,
          2009,
          2010,
          2011,
          2012,
          2013,
          2014,
          2016,
          2017,
          2018,
          2019,
          2020,
          2021,
          2022,
          2023,
          2024
         ],
         "y": [
          95.296,
          93.98,
          103.146,
          101.505,
          100.837,
          92.954,
          87.007,
          96.985,
          116.207,
          93.326,
          107.368,
          109.646,
          114.182,
          131.162,
          127.44,
          136.575,
          143.467,
          138.931,
          146,
          137.253
         ]
        },
        {
         "line": {
          "color": "#FFC0CB"
         },
         "mode": "lines",
         "name": "Ballard, KY",
         "text": "Ballard, KY",
         "textposition": "top right",
         "type": "scatter",
         "x": [
          2004,
          2005,
          2006,
          2007,
          2008,
          2009,
          2010,
          2011,
          2012,
          2013,
          2014,
          2016,
          2017,
          2018,
          2019,
          2020,
          2021,
          2022,
          2023,
          2024
         ],
         "y": [
          109.013,
          105.897,
          107.213,
          107.554,
          117.147,
          115.141,
          109.497,
          108.722,
          124.611,
          123.416,
          113.701,
          93.233,
          85.93,
          78.632,
          64.37,
          63.74,
          59.569,
          67.92,
          69.371,
          75.013
         ]
        },
        {
         "line": {
          "color": "#A9A9A9"
         },
         "mode": "lines",
         "name": "McCulloch, TX",
         "text": "McCulloch, TX",
         "textposition": "top right",
         "type": "scatter",
         "x": [
          2004,
          2005,
          2006,
          2007,
          2008,
          2009,
          2010,
          2011,
          2012,
          2013,
          2014,
          2016,
          2017,
          2018,
          2019,
          2020,
          2021,
          2022,
          2023,
          2024
         ],
         "y": [
          65.485,
          67.304,
          72.287,
          71.81,
          70.059,
          74.342,
          79.889,
          91.802,
          71.256,
          77.12,
          93.147,
          104.082,
          107.683,
          102.074,
          94.308,
          104.242,
          110.37,
          96.964,
          88.848,
          90.572
         ]
        },
        {
         "line": {
          "color": "#87CEFA"
         },
         "mode": "lines",
         "name": "Franklin, MS",
         "text": "Franklin, MS",
         "textposition": "top right",
         "type": "scatter",
         "x": [
          2004,
          2005,
          2006,
          2007,
          2008,
          2009,
          2010,
          2011,
          2012,
          2013,
          2014,
          2016,
          2017,
          2018,
          2019,
          2020,
          2021,
          2022,
          2023,
          2024
         ],
         "y": [
          74.492,
          78.106,
          78.787,
          78.43,
          82.062,
          85.209,
          74.495,
          81.551,
          88.701,
          95.962,
          97.055,
          94.44,
          90.618,
          92.635,
          94.718,
          94.351,
          95.574,
          97.741,
          98.738,
          98.573
         ]
        },
        {
         "line": {
          "color": "#FFD700"
         },
         "mode": "lines",
         "name": "Dade, MO",
         "text": "Dade, MO",
         "textposition": "top right",
         "type": "scatter",
         "x": [
          2004,
          2005,
          2006,
          2007,
          2008,
          2009,
          2010,
          2011,
          2012,
          2013,
          2014,
          2016,
          2017,
          2018,
          2019,
          2020,
          2021,
          2022,
          2023,
          2024
         ],
         "y": [
          78.201,
          83.996,
          101.197,
          104.307,
          101.729,
          102.668,
          97.203,
          99.999,
          94.254,
          90.734,
          86.254,
          99.804,
          120.798,
          114.377,
          106.884,
          100.33,
          102.952,
          104.238,
          108.52,
          107.023
         ]
        },
        {
         "line": {
          "color": "#98FB98"
         },
         "mode": "lines",
         "name": "Merrick, NE",
         "text": "Merrick, NE",
         "textposition": "top right",
         "type": "scatter",
         "x": [
          2004,
          2005,
          2006,
          2007,
          2008,
          2009,
          2010,
          2011,
          2012,
          2013,
          2014,
          2016,
          2017,
          2018,
          2019,
          2020,
          2021,
          2022,
          2023,
          2024
         ],
         "y": [
          58.496,
          58.374,
          72.326,
          81.666,
          83.238,
          85.081,
          78.882,
          75.376,
          87.559,
          90.913,
          97.539,
          116.654,
          152.532,
          142.808,
          136.253,
          109.077,
          101.66,
          105.809,
          96.843,
          98.967
         ]
        }
       ],
       "layout": {
        "annotations": [
         {
          "font": {
           "color": "darkgray"
          },
          "showarrow": false,
          "text": "their year 2018",
          "x": 2021,
          "xref": "x",
          "y": 1.05,
          "yref": "paper"
         }
        ],
        "legend": {
         "title": {
          "text": "GeoName"
         }
        },
        "shapes": [
         {
          "line": {
           "color": "darkgray",
           "width": 2
          },
          "type": "line",
          "x0": 2021,
          "x1": 2021,
          "xref": "x",
          "y0": 0,
          "y1": 1,
          "yref": "paper"
         }
        ],
        "template": {
         "data": {
          "bar": [
           {
            "error_x": {
             "color": "rgb(36,36,36)"
            },
            "error_y": {
             "color": "rgb(36,36,36)"
            },
            "marker": {
             "line": {
              "color": "white",
              "width": 0.5
             },
             "pattern": {
              "fillmode": "overlay",
              "size": 10,
              "solidity": 0.2
             }
            },
            "type": "bar"
           }
          ],
          "barpolar": [
           {
            "marker": {
             "line": {
              "color": "white",
              "width": 0.5
             },
             "pattern": {
              "fillmode": "overlay",
              "size": 10,
              "solidity": 0.2
             }
            },
            "type": "barpolar"
           }
          ],
          "carpet": [
           {
            "aaxis": {
             "endlinecolor": "rgb(36,36,36)",
             "gridcolor": "white",
             "linecolor": "white",
             "minorgridcolor": "white",
             "startlinecolor": "rgb(36,36,36)"
            },
            "baxis": {
             "endlinecolor": "rgb(36,36,36)",
             "gridcolor": "white",
             "linecolor": "white",
             "minorgridcolor": "white",
             "startlinecolor": "rgb(36,36,36)"
            },
            "type": "carpet"
           }
          ],
          "choropleth": [
           {
            "colorbar": {
             "outlinewidth": 1,
             "tickcolor": "rgb(36,36,36)",
             "ticks": "outside"
            },
            "type": "choropleth"
           }
          ],
          "contour": [
           {
            "colorbar": {
             "outlinewidth": 1,
             "tickcolor": "rgb(36,36,36)",
             "ticks": "outside"
            },
            "colorscale": [
             [
              0,
              "#440154"
             ],
             [
              0.1111111111111111,
              "#482878"
             ],
             [
              0.2222222222222222,
              "#3e4989"
             ],
             [
              0.3333333333333333,
              "#31688e"
             ],
             [
              0.4444444444444444,
              "#26828e"
             ],
             [
              0.5555555555555556,
              "#1f9e89"
             ],
             [
              0.6666666666666666,
              "#35b779"
             ],
             [
              0.7777777777777778,
              "#6ece58"
             ],
             [
              0.8888888888888888,
              "#b5de2b"
             ],
             [
              1,
              "#fde725"
             ]
            ],
            "type": "contour"
           }
          ],
          "contourcarpet": [
           {
            "colorbar": {
             "outlinewidth": 1,
             "tickcolor": "rgb(36,36,36)",
             "ticks": "outside"
            },
            "type": "contourcarpet"
           }
          ],
          "heatmap": [
           {
            "colorbar": {
             "outlinewidth": 1,
             "tickcolor": "rgb(36,36,36)",
             "ticks": "outside"
            },
            "colorscale": [
             [
              0,
              "#440154"
             ],
             [
              0.1111111111111111,
              "#482878"
             ],
             [
              0.2222222222222222,
              "#3e4989"
             ],
             [
              0.3333333333333333,
              "#31688e"
             ],
             [
              0.4444444444444444,
              "#26828e"
             ],
             [
              0.5555555555555556,
              "#1f9e89"
             ],
             [
              0.6666666666666666,
              "#35b779"
             ],
             [
              0.7777777777777778,
              "#6ece58"
             ],
             [
              0.8888888888888888,
              "#b5de2b"
             ],
             [
              1,
              "#fde725"
             ]
            ],
            "type": "heatmap"
           }
          ],
          "heatmapgl": [
           {
            "colorbar": {
             "outlinewidth": 1,
             "tickcolor": "rgb(36,36,36)",
             "ticks": "outside"
            },
            "colorscale": [
             [
              0,
              "#440154"
             ],
             [
              0.1111111111111111,
              "#482878"
             ],
             [
              0.2222222222222222,
              "#3e4989"
             ],
             [
              0.3333333333333333,
              "#31688e"
             ],
             [
              0.4444444444444444,
              "#26828e"
             ],
             [
              0.5555555555555556,
              "#1f9e89"
             ],
             [
              0.6666666666666666,
              "#35b779"
             ],
             [
              0.7777777777777778,
              "#6ece58"
             ],
             [
              0.8888888888888888,
              "#b5de2b"
             ],
             [
              1,
              "#fde725"
             ]
            ],
            "type": "heatmapgl"
           }
          ],
          "histogram": [
           {
            "marker": {
             "line": {
              "color": "white",
              "width": 0.6
             }
            },
            "type": "histogram"
           }
          ],
          "histogram2d": [
           {
            "colorbar": {
             "outlinewidth": 1,
             "tickcolor": "rgb(36,36,36)",
             "ticks": "outside"
            },
            "colorscale": [
             [
              0,
              "#440154"
             ],
             [
              0.1111111111111111,
              "#482878"
             ],
             [
              0.2222222222222222,
              "#3e4989"
             ],
             [
              0.3333333333333333,
              "#31688e"
             ],
             [
              0.4444444444444444,
              "#26828e"
             ],
             [
              0.5555555555555556,
              "#1f9e89"
             ],
             [
              0.6666666666666666,
              "#35b779"
             ],
             [
              0.7777777777777778,
              "#6ece58"
             ],
             [
              0.8888888888888888,
              "#b5de2b"
             ],
             [
              1,
              "#fde725"
             ]
            ],
            "type": "histogram2d"
           }
          ],
          "histogram2dcontour": [
           {
            "colorbar": {
             "outlinewidth": 1,
             "tickcolor": "rgb(36,36,36)",
             "ticks": "outside"
            },
            "colorscale": [
             [
              0,
              "#440154"
             ],
             [
              0.1111111111111111,
              "#482878"
             ],
             [
              0.2222222222222222,
              "#3e4989"
             ],
             [
              0.3333333333333333,
              "#31688e"
             ],
             [
              0.4444444444444444,
              "#26828e"
             ],
             [
              0.5555555555555556,
              "#1f9e89"
             ],
             [
              0.6666666666666666,
              "#35b779"
             ],
             [
              0.7777777777777778,
              "#6ece58"
             ],
             [
              0.8888888888888888,
              "#b5de2b"
             ],
             [
              1,
              "#fde725"
             ]
            ],
            "type": "histogram2dcontour"
           }
          ],
          "mesh3d": [
           {
            "colorbar": {
             "outlinewidth": 1,
             "tickcolor": "rgb(36,36,36)",
             "ticks": "outside"
            },
            "type": "mesh3d"
           }
          ],
          "parcoords": [
           {
            "line": {
             "colorbar": {
              "outlinewidth": 1,
              "tickcolor": "rgb(36,36,36)",
              "ticks": "outside"
             }
            },
            "type": "parcoords"
           }
          ],
          "pie": [
           {
            "automargin": true,
            "type": "pie"
           }
          ],
          "scatter": [
           {
            "fillpattern": {
             "fillmode": "overlay",
             "size": 10,
             "solidity": 0.2
            },
            "type": "scatter"
           }
          ],
          "scatter3d": [
           {
            "line": {
             "colorbar": {
              "outlinewidth": 1,
              "tickcolor": "rgb(36,36,36)",
              "ticks": "outside"
             }
            },
            "marker": {
             "colorbar": {
              "outlinewidth": 1,
              "tickcolor": "rgb(36,36,36)",
              "ticks": "outside"
             }
            },
            "type": "scatter3d"
           }
          ],
          "scattercarpet": [
           {
            "marker": {
             "colorbar": {
              "outlinewidth": 1,
              "tickcolor": "rgb(36,36,36)",
              "ticks": "outside"
             }
            },
            "type": "scattercarpet"
           }
          ],
          "scattergeo": [
           {
            "marker": {
             "colorbar": {
              "outlinewidth": 1,
              "tickcolor": "rgb(36,36,36)",
              "ticks": "outside"
             }
            },
            "type": "scattergeo"
           }
          ],
          "scattergl": [
           {
            "marker": {
             "colorbar": {
              "outlinewidth": 1,
              "tickcolor": "rgb(36,36,36)",
              "ticks": "outside"
             }
            },
            "type": "scattergl"
           }
          ],
          "scattermapbox": [
           {
            "marker": {
             "colorbar": {
              "outlinewidth": 1,
              "tickcolor": "rgb(36,36,36)",
              "ticks": "outside"
             }
            },
            "type": "scattermapbox"
           }
          ],
          "scatterpolar": [
           {
            "marker": {
             "colorbar": {
              "outlinewidth": 1,
              "tickcolor": "rgb(36,36,36)",
              "ticks": "outside"
             }
            },
            "type": "scatterpolar"
           }
          ],
          "scatterpolargl": [
           {
            "marker": {
             "colorbar": {
              "outlinewidth": 1,
              "tickcolor": "rgb(36,36,36)",
              "ticks": "outside"
             }
            },
            "type": "scatterpolargl"
           }
          ],
          "scatterternary": [
           {
            "marker": {
             "colorbar": {
              "outlinewidth": 1,
              "tickcolor": "rgb(36,36,36)",
              "ticks": "outside"
             }
            },
            "type": "scatterternary"
           }
          ],
          "surface": [
           {
            "colorbar": {
             "outlinewidth": 1,
             "tickcolor": "rgb(36,36,36)",
             "ticks": "outside"
            },
            "colorscale": [
             [
              0,
              "#440154"
             ],
             [
              0.1111111111111111,
              "#482878"
             ],
             [
              0.2222222222222222,
              "#3e4989"
             ],
             [
              0.3333333333333333,
              "#31688e"
             ],
             [
              0.4444444444444444,
              "#26828e"
             ],
             [
              0.5555555555555556,
              "#1f9e89"
             ],
             [
              0.6666666666666666,
              "#35b779"
             ],
             [
              0.7777777777777778,
              "#6ece58"
             ],
             [
              0.8888888888888888,
              "#b5de2b"
             ],
             [
              1,
              "#fde725"
             ]
            ],
            "type": "surface"
           }
          ],
          "table": [
           {
            "cells": {
             "fill": {
              "color": "rgb(237,237,237)"
             },
             "line": {
              "color": "white"
             }
            },
            "header": {
             "fill": {
              "color": "rgb(217,217,217)"
             },
             "line": {
              "color": "white"
             }
            },
            "type": "table"
           }
          ]
         },
         "layout": {
          "annotationdefaults": {
           "arrowhead": 0,
           "arrowwidth": 1
          },
          "autotypenumbers": "strict",
          "coloraxis": {
           "colorbar": {
            "outlinewidth": 1,
            "tickcolor": "rgb(36,36,36)",
            "ticks": "outside"
           }
          },
          "colorscale": {
           "diverging": [
            [
             0,
             "rgb(103,0,31)"
            ],
            [
             0.1,
             "rgb(178,24,43)"
            ],
            [
             0.2,
             "rgb(214,96,77)"
            ],
            [
             0.3,
             "rgb(244,165,130)"
            ],
            [
             0.4,
             "rgb(253,219,199)"
            ],
            [
             0.5,
             "rgb(247,247,247)"
            ],
            [
             0.6,
             "rgb(209,229,240)"
            ],
            [
             0.7,
             "rgb(146,197,222)"
            ],
            [
             0.8,
             "rgb(67,147,195)"
            ],
            [
             0.9,
             "rgb(33,102,172)"
            ],
            [
             1,
             "rgb(5,48,97)"
            ]
           ],
           "sequential": [
            [
             0,
             "#440154"
            ],
            [
             0.1111111111111111,
             "#482878"
            ],
            [
             0.2222222222222222,
             "#3e4989"
            ],
            [
             0.3333333333333333,
             "#31688e"
            ],
            [
             0.4444444444444444,
             "#26828e"
            ],
            [
             0.5555555555555556,
             "#1f9e89"
            ],
            [
             0.6666666666666666,
             "#35b779"
            ],
            [
             0.7777777777777778,
             "#6ece58"
            ],
            [
             0.8888888888888888,
             "#b5de2b"
            ],
            [
             1,
             "#fde725"
            ]
           ],
           "sequentialminus": [
            [
             0,
             "#440154"
            ],
            [
             0.1111111111111111,
             "#482878"
            ],
            [
             0.2222222222222222,
             "#3e4989"
            ],
            [
             0.3333333333333333,
             "#31688e"
            ],
            [
             0.4444444444444444,
             "#26828e"
            ],
            [
             0.5555555555555556,
             "#1f9e89"
            ],
            [
             0.6666666666666666,
             "#35b779"
            ],
            [
             0.7777777777777778,
             "#6ece58"
            ],
            [
             0.8888888888888888,
             "#b5de2b"
            ],
            [
             1,
             "#fde725"
            ]
           ]
          },
          "colorway": [
           "#1F77B4",
           "#FF7F0E",
           "#2CA02C",
           "#D62728",
           "#9467BD",
           "#8C564B",
           "#E377C2",
           "#7F7F7F",
           "#BCBD22",
           "#17BECF"
          ],
          "font": {
           "color": "rgb(36,36,36)"
          },
          "geo": {
           "bgcolor": "white",
           "lakecolor": "white",
           "landcolor": "white",
           "showlakes": true,
           "showland": true,
           "subunitcolor": "white"
          },
          "hoverlabel": {
           "align": "left"
          },
          "hovermode": "closest",
          "mapbox": {
           "style": "light"
          },
          "paper_bgcolor": "white",
          "plot_bgcolor": "white",
          "polar": {
           "angularaxis": {
            "gridcolor": "rgb(232,232,232)",
            "linecolor": "rgb(36,36,36)",
            "showgrid": false,
            "showline": true,
            "ticks": "outside"
           },
           "bgcolor": "white",
           "radialaxis": {
            "gridcolor": "rgb(232,232,232)",
            "linecolor": "rgb(36,36,36)",
            "showgrid": false,
            "showline": true,
            "ticks": "outside"
           }
          },
          "scene": {
           "xaxis": {
            "backgroundcolor": "white",
            "gridcolor": "rgb(232,232,232)",
            "gridwidth": 2,
            "linecolor": "rgb(36,36,36)",
            "showbackground": true,
            "showgrid": false,
            "showline": true,
            "ticks": "outside",
            "zeroline": false,
            "zerolinecolor": "rgb(36,36,36)"
           },
           "yaxis": {
            "backgroundcolor": "white",
            "gridcolor": "rgb(232,232,232)",
            "gridwidth": 2,
            "linecolor": "rgb(36,36,36)",
            "showbackground": true,
            "showgrid": false,
            "showline": true,
            "ticks": "outside",
            "zeroline": false,
            "zerolinecolor": "rgb(36,36,36)"
           },
           "zaxis": {
            "backgroundcolor": "white",
            "gridcolor": "rgb(232,232,232)",
            "gridwidth": 2,
            "linecolor": "rgb(36,36,36)",
            "showbackground": true,
            "showgrid": false,
            "showline": true,
            "ticks": "outside",
            "zeroline": false,
            "zerolinecolor": "rgb(36,36,36)"
           }
          },
          "shapedefaults": {
           "fillcolor": "black",
           "line": {
            "width": 0
           },
           "opacity": 0.3
          },
          "ternary": {
           "aaxis": {
            "gridcolor": "rgb(232,232,232)",
            "linecolor": "rgb(36,36,36)",
            "showgrid": false,
            "showline": true,
            "ticks": "outside"
           },
           "baxis": {
            "gridcolor": "rgb(232,232,232)",
            "linecolor": "rgb(36,36,36)",
            "showgrid": false,
            "showline": true,
            "ticks": "outside"
           },
           "bgcolor": "white",
           "caxis": {
            "gridcolor": "rgb(232,232,232)",
            "linecolor": "rgb(36,36,36)",
            "showgrid": false,
            "showline": true,
            "ticks": "outside"
           }
          },
          "title": {
           "x": 0.05
          },
          "xaxis": {
           "automargin": true,
           "gridcolor": "rgb(232,232,232)",
           "linecolor": "rgb(36,36,36)",
           "showgrid": false,
           "showline": true,
           "ticks": "outside",
           "title": {
            "standoff": 15
           },
           "zeroline": false,
           "zerolinecolor": "rgb(36,36,36)"
          },
          "yaxis": {
           "automargin": true,
           "gridcolor": "rgb(232,232,232)",
           "linecolor": "rgb(36,36,36)",
           "showgrid": false,
           "showline": true,
           "ticks": "outside",
           "title": {
            "standoff": 15
           },
           "zeroline": false,
           "zerolinecolor": "rgb(36,36,36)"
          }
         }
        },
        "title": {
         "text": "Top 10 locations matching your search (lag of 3 years)"
        },
        "xaxis": {
         "title": {
          "text": "Year"
         }
        },
        "yaxis": {
         "title": {
          "text": "gdp"
         }
        }
       }
      }
     },
     "metadata": {},
     "output_type": "display_data"
    }
   ],
   "source": [
    "# if you want the full dataframe with distances, \n",
    "# you still can get this\n",
    "# it's just boring to print it all over again\n",
    "#f.find_euclidean_kins()\n",
    "#display(f.euclidean_kins)\n",
    "\n",
    "# or, you can plot the few top ranked cities:\n",
    "fig = f.show_kins_plot()"
   ]
  },
  {
   "cell_type": "code",
   "execution_count": 21,
   "metadata": {},
   "outputs": [
    {
     "data": {
      "application/vnd.plotly.v1+json": {
       "config": {
        "plotlyServerURL": "https://plot.ly"
       },
       "data": [
        {
         "type": "bar",
         "x": [
          "1993_population",
          "1994_population",
          "1995_population",
          "1996_population",
          "1997_population",
          "1998_population",
          "1999_population",
          "2000_population",
          "2001_population",
          "2002_population",
          "2003_population",
          "2004_population",
          "2005_population",
          "2006_population",
          "2007_population",
          "2008_population",
          "2009_population",
          "2010_population",
          "2011_population",
          "2012_population",
          "2013_population",
          "2014_population",
          "2015_population",
          "2016_population",
          "2017_population",
          "2018_population",
          "2019_population",
          "2020_population",
          "2021_population"
         ],
         "y": [
          0.03847414014225456,
          0.04155207135363493,
          0.04487623706192573,
          0.04846633602687978,
          0.05234364290903017,
          0.056531134341752595,
          0.0610536250890928,
          0.06593791509622024,
          0.07121294830391786,
          0.07690998416823129,
          0.08306278290168981,
          0.08970780553382499,
          0.09688442997653099,
          0.10463518437465348,
          0.11300599912462576,
          0.12204647905459583,
          0.13181019737896352,
          0.14235501316928062,
          0.15374341422282306,
          0.1660428873606489,
          0.17932631834950083,
          0.19367242381746091,
          0.20916621772285782,
          0.22589951514068643,
          0.24397147635194139,
          0.2634891944600967,
          0.28456833001690446,
          0.30733379641825687,
          0.3319205001317174
         ]
        }
       ],
       "layout": {
        "template": {
         "data": {
          "bar": [
           {
            "error_x": {
             "color": "#2a3f5f"
            },
            "error_y": {
             "color": "#2a3f5f"
            },
            "marker": {
             "line": {
              "color": "white",
              "width": 0.5
             },
             "pattern": {
              "fillmode": "overlay",
              "size": 10,
              "solidity": 0.2
             }
            },
            "type": "bar"
           }
          ],
          "barpolar": [
           {
            "marker": {
             "line": {
              "color": "white",
              "width": 0.5
             },
             "pattern": {
              "fillmode": "overlay",
              "size": 10,
              "solidity": 0.2
             }
            },
            "type": "barpolar"
           }
          ],
          "carpet": [
           {
            "aaxis": {
             "endlinecolor": "#2a3f5f",
             "gridcolor": "#C8D4E3",
             "linecolor": "#C8D4E3",
             "minorgridcolor": "#C8D4E3",
             "startlinecolor": "#2a3f5f"
            },
            "baxis": {
             "endlinecolor": "#2a3f5f",
             "gridcolor": "#C8D4E3",
             "linecolor": "#C8D4E3",
             "minorgridcolor": "#C8D4E3",
             "startlinecolor": "#2a3f5f"
            },
            "type": "carpet"
           }
          ],
          "choropleth": [
           {
            "colorbar": {
             "outlinewidth": 0,
             "ticks": ""
            },
            "type": "choropleth"
           }
          ],
          "contour": [
           {
            "colorbar": {
             "outlinewidth": 0,
             "ticks": ""
            },
            "colorscale": [
             [
              0,
              "#0d0887"
             ],
             [
              0.1111111111111111,
              "#46039f"
             ],
             [
              0.2222222222222222,
              "#7201a8"
             ],
             [
              0.3333333333333333,
              "#9c179e"
             ],
             [
              0.4444444444444444,
              "#bd3786"
             ],
             [
              0.5555555555555556,
              "#d8576b"
             ],
             [
              0.6666666666666666,
              "#ed7953"
             ],
             [
              0.7777777777777778,
              "#fb9f3a"
             ],
             [
              0.8888888888888888,
              "#fdca26"
             ],
             [
              1,
              "#f0f921"
             ]
            ],
            "type": "contour"
           }
          ],
          "contourcarpet": [
           {
            "colorbar": {
             "outlinewidth": 0,
             "ticks": ""
            },
            "type": "contourcarpet"
           }
          ],
          "heatmap": [
           {
            "colorbar": {
             "outlinewidth": 0,
             "ticks": ""
            },
            "colorscale": [
             [
              0,
              "#0d0887"
             ],
             [
              0.1111111111111111,
              "#46039f"
             ],
             [
              0.2222222222222222,
              "#7201a8"
             ],
             [
              0.3333333333333333,
              "#9c179e"
             ],
             [
              0.4444444444444444,
              "#bd3786"
             ],
             [
              0.5555555555555556,
              "#d8576b"
             ],
             [
              0.6666666666666666,
              "#ed7953"
             ],
             [
              0.7777777777777778,
              "#fb9f3a"
             ],
             [
              0.8888888888888888,
              "#fdca26"
             ],
             [
              1,
              "#f0f921"
             ]
            ],
            "type": "heatmap"
           }
          ],
          "heatmapgl": [
           {
            "colorbar": {
             "outlinewidth": 0,
             "ticks": ""
            },
            "colorscale": [
             [
              0,
              "#0d0887"
             ],
             [
              0.1111111111111111,
              "#46039f"
             ],
             [
              0.2222222222222222,
              "#7201a8"
             ],
             [
              0.3333333333333333,
              "#9c179e"
             ],
             [
              0.4444444444444444,
              "#bd3786"
             ],
             [
              0.5555555555555556,
              "#d8576b"
             ],
             [
              0.6666666666666666,
              "#ed7953"
             ],
             [
              0.7777777777777778,
              "#fb9f3a"
             ],
             [
              0.8888888888888888,
              "#fdca26"
             ],
             [
              1,
              "#f0f921"
             ]
            ],
            "type": "heatmapgl"
           }
          ],
          "histogram": [
           {
            "marker": {
             "pattern": {
              "fillmode": "overlay",
              "size": 10,
              "solidity": 0.2
             }
            },
            "type": "histogram"
           }
          ],
          "histogram2d": [
           {
            "colorbar": {
             "outlinewidth": 0,
             "ticks": ""
            },
            "colorscale": [
             [
              0,
              "#0d0887"
             ],
             [
              0.1111111111111111,
              "#46039f"
             ],
             [
              0.2222222222222222,
              "#7201a8"
             ],
             [
              0.3333333333333333,
              "#9c179e"
             ],
             [
              0.4444444444444444,
              "#bd3786"
             ],
             [
              0.5555555555555556,
              "#d8576b"
             ],
             [
              0.6666666666666666,
              "#ed7953"
             ],
             [
              0.7777777777777778,
              "#fb9f3a"
             ],
             [
              0.8888888888888888,
              "#fdca26"
             ],
             [
              1,
              "#f0f921"
             ]
            ],
            "type": "histogram2d"
           }
          ],
          "histogram2dcontour": [
           {
            "colorbar": {
             "outlinewidth": 0,
             "ticks": ""
            },
            "colorscale": [
             [
              0,
              "#0d0887"
             ],
             [
              0.1111111111111111,
              "#46039f"
             ],
             [
              0.2222222222222222,
              "#7201a8"
             ],
             [
              0.3333333333333333,
              "#9c179e"
             ],
             [
              0.4444444444444444,
              "#bd3786"
             ],
             [
              0.5555555555555556,
              "#d8576b"
             ],
             [
              0.6666666666666666,
              "#ed7953"
             ],
             [
              0.7777777777777778,
              "#fb9f3a"
             ],
             [
              0.8888888888888888,
              "#fdca26"
             ],
             [
              1,
              "#f0f921"
             ]
            ],
            "type": "histogram2dcontour"
           }
          ],
          "mesh3d": [
           {
            "colorbar": {
             "outlinewidth": 0,
             "ticks": ""
            },
            "type": "mesh3d"
           }
          ],
          "parcoords": [
           {
            "line": {
             "colorbar": {
              "outlinewidth": 0,
              "ticks": ""
             }
            },
            "type": "parcoords"
           }
          ],
          "pie": [
           {
            "automargin": true,
            "type": "pie"
           }
          ],
          "scatter": [
           {
            "fillpattern": {
             "fillmode": "overlay",
             "size": 10,
             "solidity": 0.2
            },
            "type": "scatter"
           }
          ],
          "scatter3d": [
           {
            "line": {
             "colorbar": {
              "outlinewidth": 0,
              "ticks": ""
             }
            },
            "marker": {
             "colorbar": {
              "outlinewidth": 0,
              "ticks": ""
             }
            },
            "type": "scatter3d"
           }
          ],
          "scattercarpet": [
           {
            "marker": {
             "colorbar": {
              "outlinewidth": 0,
              "ticks": ""
             }
            },
            "type": "scattercarpet"
           }
          ],
          "scattergeo": [
           {
            "marker": {
             "colorbar": {
              "outlinewidth": 0,
              "ticks": ""
             }
            },
            "type": "scattergeo"
           }
          ],
          "scattergl": [
           {
            "marker": {
             "colorbar": {
              "outlinewidth": 0,
              "ticks": ""
             }
            },
            "type": "scattergl"
           }
          ],
          "scattermapbox": [
           {
            "marker": {
             "colorbar": {
              "outlinewidth": 0,
              "ticks": ""
             }
            },
            "type": "scattermapbox"
           }
          ],
          "scatterpolar": [
           {
            "marker": {
             "colorbar": {
              "outlinewidth": 0,
              "ticks": ""
             }
            },
            "type": "scatterpolar"
           }
          ],
          "scatterpolargl": [
           {
            "marker": {
             "colorbar": {
              "outlinewidth": 0,
              "ticks": ""
             }
            },
            "type": "scatterpolargl"
           }
          ],
          "scatterternary": [
           {
            "marker": {
             "colorbar": {
              "outlinewidth": 0,
              "ticks": ""
             }
            },
            "type": "scatterternary"
           }
          ],
          "surface": [
           {
            "colorbar": {
             "outlinewidth": 0,
             "ticks": ""
            },
            "colorscale": [
             [
              0,
              "#0d0887"
             ],
             [
              0.1111111111111111,
              "#46039f"
             ],
             [
              0.2222222222222222,
              "#7201a8"
             ],
             [
              0.3333333333333333,
              "#9c179e"
             ],
             [
              0.4444444444444444,
              "#bd3786"
             ],
             [
              0.5555555555555556,
              "#d8576b"
             ],
             [
              0.6666666666666666,
              "#ed7953"
             ],
             [
              0.7777777777777778,
              "#fb9f3a"
             ],
             [
              0.8888888888888888,
              "#fdca26"
             ],
             [
              1,
              "#f0f921"
             ]
            ],
            "type": "surface"
           }
          ],
          "table": [
           {
            "cells": {
             "fill": {
              "color": "#EBF0F8"
             },
             "line": {
              "color": "white"
             }
            },
            "header": {
             "fill": {
              "color": "#C8D4E3"
             },
             "line": {
              "color": "white"
             }
            },
            "type": "table"
           }
          ]
         },
         "layout": {
          "annotationdefaults": {
           "arrowcolor": "#2a3f5f",
           "arrowhead": 0,
           "arrowwidth": 1
          },
          "autotypenumbers": "strict",
          "coloraxis": {
           "colorbar": {
            "outlinewidth": 0,
            "ticks": ""
           }
          },
          "colorscale": {
           "diverging": [
            [
             0,
             "#8e0152"
            ],
            [
             0.1,
             "#c51b7d"
            ],
            [
             0.2,
             "#de77ae"
            ],
            [
             0.3,
             "#f1b6da"
            ],
            [
             0.4,
             "#fde0ef"
            ],
            [
             0.5,
             "#f7f7f7"
            ],
            [
             0.6,
             "#e6f5d0"
            ],
            [
             0.7,
             "#b8e186"
            ],
            [
             0.8,
             "#7fbc41"
            ],
            [
             0.9,
             "#4d9221"
            ],
            [
             1,
             "#276419"
            ]
           ],
           "sequential": [
            [
             0,
             "#0d0887"
            ],
            [
             0.1111111111111111,
             "#46039f"
            ],
            [
             0.2222222222222222,
             "#7201a8"
            ],
            [
             0.3333333333333333,
             "#9c179e"
            ],
            [
             0.4444444444444444,
             "#bd3786"
            ],
            [
             0.5555555555555556,
             "#d8576b"
            ],
            [
             0.6666666666666666,
             "#ed7953"
            ],
            [
             0.7777777777777778,
             "#fb9f3a"
            ],
            [
             0.8888888888888888,
             "#fdca26"
            ],
            [
             1,
             "#f0f921"
            ]
           ],
           "sequentialminus": [
            [
             0,
             "#0d0887"
            ],
            [
             0.1111111111111111,
             "#46039f"
            ],
            [
             0.2222222222222222,
             "#7201a8"
            ],
            [
             0.3333333333333333,
             "#9c179e"
            ],
            [
             0.4444444444444444,
             "#bd3786"
            ],
            [
             0.5555555555555556,
             "#d8576b"
            ],
            [
             0.6666666666666666,
             "#ed7953"
            ],
            [
             0.7777777777777778,
             "#fb9f3a"
            ],
            [
             0.8888888888888888,
             "#fdca26"
            ],
            [
             1,
             "#f0f921"
            ]
           ]
          },
          "colorway": [
           "#636efa",
           "#EF553B",
           "#00cc96",
           "#ab63fa",
           "#FFA15A",
           "#19d3f3",
           "#FF6692",
           "#B6E880",
           "#FF97FF",
           "#FECB52"
          ],
          "font": {
           "color": "#2a3f5f"
          },
          "geo": {
           "bgcolor": "white",
           "lakecolor": "white",
           "landcolor": "white",
           "showlakes": true,
           "showland": true,
           "subunitcolor": "#C8D4E3"
          },
          "hoverlabel": {
           "align": "left"
          },
          "hovermode": "closest",
          "mapbox": {
           "style": "light"
          },
          "paper_bgcolor": "white",
          "plot_bgcolor": "white",
          "polar": {
           "angularaxis": {
            "gridcolor": "#EBF0F8",
            "linecolor": "#EBF0F8",
            "ticks": ""
           },
           "bgcolor": "white",
           "radialaxis": {
            "gridcolor": "#EBF0F8",
            "linecolor": "#EBF0F8",
            "ticks": ""
           }
          },
          "scene": {
           "xaxis": {
            "backgroundcolor": "white",
            "gridcolor": "#DFE8F3",
            "gridwidth": 2,
            "linecolor": "#EBF0F8",
            "showbackground": true,
            "ticks": "",
            "zerolinecolor": "#EBF0F8"
           },
           "yaxis": {
            "backgroundcolor": "white",
            "gridcolor": "#DFE8F3",
            "gridwidth": 2,
            "linecolor": "#EBF0F8",
            "showbackground": true,
            "ticks": "",
            "zerolinecolor": "#EBF0F8"
           },
           "zaxis": {
            "backgroundcolor": "white",
            "gridcolor": "#DFE8F3",
            "gridwidth": 2,
            "linecolor": "#EBF0F8",
            "showbackground": true,
            "ticks": "",
            "zerolinecolor": "#EBF0F8"
           }
          },
          "shapedefaults": {
           "line": {
            "color": "#2a3f5f"
           }
          },
          "ternary": {
           "aaxis": {
            "gridcolor": "#DFE8F3",
            "linecolor": "#A2B1C6",
            "ticks": ""
           },
           "baxis": {
            "gridcolor": "#DFE8F3",
            "linecolor": "#A2B1C6",
            "ticks": ""
           },
           "bgcolor": "white",
           "caxis": {
            "gridcolor": "#DFE8F3",
            "linecolor": "#A2B1C6",
            "ticks": ""
           }
          },
          "title": {
           "x": 0.05
          },
          "xaxis": {
           "automargin": true,
           "gridcolor": "#EBF0F8",
           "linecolor": "#EBF0F8",
           "ticks": "",
           "title": {
            "standoff": 15
           },
           "zerolinecolor": "#EBF0F8",
           "zerolinewidth": 2
          },
          "yaxis": {
           "automargin": true,
           "gridcolor": "#EBF0F8",
           "linecolor": "#EBF0F8",
           "ticks": "",
           "title": {
            "standoff": 15
           },
           "zerolinecolor": "#EBF0F8",
           "zerolinewidth": 2
          }
         }
        },
        "title": {
         "text": "Weights of columns"
        },
        "xaxis": {
         "title": {
          "text": "columns"
         }
        },
        "yaxis": {
         "title": {
          "text": "weights"
         }
        }
       }
      }
     },
     "metadata": {},
     "output_type": "display_data"
    },
    {
     "data": {
      "text/plain": [
       "None"
      ]
     },
     "metadata": {},
     "output_type": "display_data"
    },
    {
     "data": {
      "text/html": [
       "<div>\n",
       "<style scoped>\n",
       "    .dataframe tbody tr th:only-of-type {\n",
       "        vertical-align: middle;\n",
       "    }\n",
       "\n",
       "    .dataframe tbody tr th {\n",
       "        vertical-align: top;\n",
       "    }\n",
       "\n",
       "    .dataframe thead th {\n",
       "        text-align: right;\n",
       "    }\n",
       "</style>\n",
       "<table border=\"1\" class=\"dataframe\">\n",
       "  <thead>\n",
       "    <tr style=\"text-align: right;\">\n",
       "      <th></th>\n",
       "      <th>1993_population</th>\n",
       "      <th>1994_population</th>\n",
       "      <th>1995_population</th>\n",
       "      <th>1996_population</th>\n",
       "      <th>1997_population</th>\n",
       "      <th>1998_population</th>\n",
       "      <th>1999_population</th>\n",
       "      <th>2000_population</th>\n",
       "      <th>2001_population</th>\n",
       "      <th>2002_population</th>\n",
       "      <th>...</th>\n",
       "      <th>2013_population</th>\n",
       "      <th>2014_population</th>\n",
       "      <th>2015_population</th>\n",
       "      <th>2016_population</th>\n",
       "      <th>2017_population</th>\n",
       "      <th>2018_population</th>\n",
       "      <th>2019_population</th>\n",
       "      <th>2020_population</th>\n",
       "      <th>2021_population</th>\n",
       "      <th>distance to 42001</th>\n",
       "    </tr>\n",
       "  </thead>\n",
       "  <tbody>\n",
       "    <tr>\n",
       "      <th>2235</th>\n",
       "      <td>83013.0</td>\n",
       "      <td>84186.0</td>\n",
       "      <td>85063.0</td>\n",
       "      <td>86252.0</td>\n",
       "      <td>87751.0</td>\n",
       "      <td>89074.0</td>\n",
       "      <td>90363.0</td>\n",
       "      <td>91457.0</td>\n",
       "      <td>92591.0</td>\n",
       "      <td>93934.0</td>\n",
       "      <td>...</td>\n",
       "      <td>101504.0</td>\n",
       "      <td>101830.0</td>\n",
       "      <td>102411.0</td>\n",
       "      <td>102625.0</td>\n",
       "      <td>103414.0</td>\n",
       "      <td>103932.0</td>\n",
       "      <td>103778.0</td>\n",
       "      <td>103795.0</td>\n",
       "      <td>104127.0</td>\n",
       "      <td>0.000000</td>\n",
       "    </tr>\n",
       "    <tr>\n",
       "      <th>3006</th>\n",
       "      <td>92876.0</td>\n",
       "      <td>93717.0</td>\n",
       "      <td>94509.0</td>\n",
       "      <td>95529.0</td>\n",
       "      <td>95998.0</td>\n",
       "      <td>96512.0</td>\n",
       "      <td>96985.0</td>\n",
       "      <td>97390.0</td>\n",
       "      <td>97856.0</td>\n",
       "      <td>98097.0</td>\n",
       "      <td>...</td>\n",
       "      <td>102191.0</td>\n",
       "      <td>102495.0</td>\n",
       "      <td>102590.0</td>\n",
       "      <td>102927.0</td>\n",
       "      <td>103180.0</td>\n",
       "      <td>103754.0</td>\n",
       "      <td>104175.0</td>\n",
       "      <td>104076.0</td>\n",
       "      <td>104362.0</td>\n",
       "      <td>0.004093</td>\n",
       "    </tr>\n",
       "    <tr>\n",
       "      <th>1509</th>\n",
       "      <td>84234.0</td>\n",
       "      <td>85586.0</td>\n",
       "      <td>87584.0</td>\n",
       "      <td>89357.0</td>\n",
       "      <td>90710.0</td>\n",
       "      <td>91697.0</td>\n",
       "      <td>92914.0</td>\n",
       "      <td>94050.0</td>\n",
       "      <td>94872.0</td>\n",
       "      <td>95771.0</td>\n",
       "      <td>...</td>\n",
       "      <td>101823.0</td>\n",
       "      <td>102058.0</td>\n",
       "      <td>102429.0</td>\n",
       "      <td>102952.0</td>\n",
       "      <td>103563.0</td>\n",
       "      <td>103967.0</td>\n",
       "      <td>104137.0</td>\n",
       "      <td>104769.0</td>\n",
       "      <td>105231.0</td>\n",
       "      <td>0.008424</td>\n",
       "    </tr>\n",
       "    <tr>\n",
       "      <th>27</th>\n",
       "      <td>101310.0</td>\n",
       "      <td>102213.0</td>\n",
       "      <td>102342.0</td>\n",
       "      <td>103063.0</td>\n",
       "      <td>104129.0</td>\n",
       "      <td>104367.0</td>\n",
       "      <td>104002.0</td>\n",
       "      <td>103286.0</td>\n",
       "      <td>102976.0</td>\n",
       "      <td>102988.0</td>\n",
       "      <td>...</td>\n",
       "      <td>104249.0</td>\n",
       "      <td>103880.0</td>\n",
       "      <td>103601.0</td>\n",
       "      <td>103603.0</td>\n",
       "      <td>103854.0</td>\n",
       "      <td>103646.0</td>\n",
       "      <td>103440.0</td>\n",
       "      <td>103393.0</td>\n",
       "      <td>103162.0</td>\n",
       "      <td>0.008731</td>\n",
       "    </tr>\n",
       "    <tr>\n",
       "      <th>1230</th>\n",
       "      <td>112397.0</td>\n",
       "      <td>112025.0</td>\n",
       "      <td>111680.0</td>\n",
       "      <td>111231.0</td>\n",
       "      <td>111040.0</td>\n",
       "      <td>110704.0</td>\n",
       "      <td>110295.0</td>\n",
       "      <td>110192.0</td>\n",
       "      <td>109836.0</td>\n",
       "      <td>109861.0</td>\n",
       "      <td>...</td>\n",
       "      <td>107221.0</td>\n",
       "      <td>106599.0</td>\n",
       "      <td>105916.0</td>\n",
       "      <td>105184.0</td>\n",
       "      <td>104967.0</td>\n",
       "      <td>104674.0</td>\n",
       "      <td>104079.0</td>\n",
       "      <td>103594.0</td>\n",
       "      <td>102985.0</td>\n",
       "      <td>0.011795</td>\n",
       "    </tr>\n",
       "    <tr>\n",
       "      <th>...</th>\n",
       "      <td>...</td>\n",
       "      <td>...</td>\n",
       "      <td>...</td>\n",
       "      <td>...</td>\n",
       "      <td>...</td>\n",
       "      <td>...</td>\n",
       "      <td>...</td>\n",
       "      <td>...</td>\n",
       "      <td>...</td>\n",
       "      <td>...</td>\n",
       "      <td>...</td>\n",
       "      <td>...</td>\n",
       "      <td>...</td>\n",
       "      <td>...</td>\n",
       "      <td>...</td>\n",
       "      <td>...</td>\n",
       "      <td>...</td>\n",
       "      <td>...</td>\n",
       "      <td>...</td>\n",
       "      <td>...</td>\n",
       "      <td>...</td>\n",
       "    </tr>\n",
       "    <tr>\n",
       "      <th>1647</th>\n",
       "      <td>472.0</td>\n",
       "      <td>441.0</td>\n",
       "      <td>434.0</td>\n",
       "      <td>429.0</td>\n",
       "      <td>440.0</td>\n",
       "      <td>447.0</td>\n",
       "      <td>445.0</td>\n",
       "      <td>445.0</td>\n",
       "      <td>423.0</td>\n",
       "      <td>421.0</td>\n",
       "      <td>...</td>\n",
       "      <td>443.0</td>\n",
       "      <td>437.0</td>\n",
       "      <td>433.0</td>\n",
       "      <td>445.0</td>\n",
       "      <td>432.0</td>\n",
       "      <td>435.0</td>\n",
       "      <td>436.0</td>\n",
       "      <td>431.0</td>\n",
       "      <td>439.0</td>\n",
       "      <td>1.977809</td>\n",
       "    </tr>\n",
       "    <tr>\n",
       "      <th>2644</th>\n",
       "      <td>428.0</td>\n",
       "      <td>413.0</td>\n",
       "      <td>420.0</td>\n",
       "      <td>415.0</td>\n",
       "      <td>411.0</td>\n",
       "      <td>427.0</td>\n",
       "      <td>412.0</td>\n",
       "      <td>420.0</td>\n",
       "      <td>421.0</td>\n",
       "      <td>429.0</td>\n",
       "      <td>...</td>\n",
       "      <td>426.0</td>\n",
       "      <td>421.0</td>\n",
       "      <td>421.0</td>\n",
       "      <td>404.0</td>\n",
       "      <td>383.0</td>\n",
       "      <td>389.0</td>\n",
       "      <td>355.0</td>\n",
       "      <td>346.0</td>\n",
       "      <td>340.0</td>\n",
       "      <td>1.978614</td>\n",
       "    </tr>\n",
       "    <tr>\n",
       "      <th>2648</th>\n",
       "      <td>342.0</td>\n",
       "      <td>363.0</td>\n",
       "      <td>335.0</td>\n",
       "      <td>358.0</td>\n",
       "      <td>373.0</td>\n",
       "      <td>389.0</td>\n",
       "      <td>346.0</td>\n",
       "      <td>358.0</td>\n",
       "      <td>313.0</td>\n",
       "      <td>308.0</td>\n",
       "      <td>...</td>\n",
       "      <td>268.0</td>\n",
       "      <td>257.0</td>\n",
       "      <td>273.0</td>\n",
       "      <td>281.0</td>\n",
       "      <td>278.0</td>\n",
       "      <td>265.0</td>\n",
       "      <td>256.0</td>\n",
       "      <td>270.0</td>\n",
       "      <td>258.0</td>\n",
       "      <td>1.980969</td>\n",
       "    </tr>\n",
       "    <tr>\n",
       "      <th>2664</th>\n",
       "      <td>109.0</td>\n",
       "      <td>114.0</td>\n",
       "      <td>111.0</td>\n",
       "      <td>109.0</td>\n",
       "      <td>78.0</td>\n",
       "      <td>83.0</td>\n",
       "      <td>77.0</td>\n",
       "      <td>65.0</td>\n",
       "      <td>66.0</td>\n",
       "      <td>75.0</td>\n",
       "      <td>...</td>\n",
       "      <td>77.0</td>\n",
       "      <td>59.0</td>\n",
       "      <td>72.0</td>\n",
       "      <td>64.0</td>\n",
       "      <td>66.0</td>\n",
       "      <td>67.0</td>\n",
       "      <td>67.0</td>\n",
       "      <td>67.0</td>\n",
       "      <td>57.0</td>\n",
       "      <td>1.985240</td>\n",
       "    </tr>\n",
       "    <tr>\n",
       "      <th>198</th>\n",
       "      <td>9100159.0</td>\n",
       "      <td>9096608.0</td>\n",
       "      <td>9089015.0</td>\n",
       "      <td>9127042.0</td>\n",
       "      <td>9206538.0</td>\n",
       "      <td>9313589.0</td>\n",
       "      <td>9437290.0</td>\n",
       "      <td>9538191.0</td>\n",
       "      <td>9626034.0</td>\n",
       "      <td>9705913.0</td>\n",
       "      <td>...</td>\n",
       "      <td>10000924.0</td>\n",
       "      <td>10051511.0</td>\n",
       "      <td>10099677.0</td>\n",
       "      <td>10121673.0</td>\n",
       "      <td>10123521.0</td>\n",
       "      <td>10096986.0</td>\n",
       "      <td>10051154.0</td>\n",
       "      <td>9989165.0</td>\n",
       "      <td>9829544.0</td>\n",
       "      <td>2.014902</td>\n",
       "    </tr>\n",
       "  </tbody>\n",
       "</table>\n",
       "<p>3082 rows × 30 columns</p>\n",
       "</div>"
      ],
      "text/plain": [
       "      1993_population  1994_population  1995_population  1996_population  \\\n",
       "2235          83013.0          84186.0          85063.0          86252.0   \n",
       "3006          92876.0          93717.0          94509.0          95529.0   \n",
       "1509          84234.0          85586.0          87584.0          89357.0   \n",
       "27           101310.0         102213.0         102342.0         103063.0   \n",
       "1230         112397.0         112025.0         111680.0         111231.0   \n",
       "...               ...              ...              ...              ...   \n",
       "1647            472.0            441.0            434.0            429.0   \n",
       "2644            428.0            413.0            420.0            415.0   \n",
       "2648            342.0            363.0            335.0            358.0   \n",
       "2664            109.0            114.0            111.0            109.0   \n",
       "198         9100159.0        9096608.0        9089015.0        9127042.0   \n",
       "\n",
       "      1997_population  1998_population  1999_population  2000_population  \\\n",
       "2235          87751.0          89074.0          90363.0          91457.0   \n",
       "3006          95998.0          96512.0          96985.0          97390.0   \n",
       "1509          90710.0          91697.0          92914.0          94050.0   \n",
       "27           104129.0         104367.0         104002.0         103286.0   \n",
       "1230         111040.0         110704.0         110295.0         110192.0   \n",
       "...               ...              ...              ...              ...   \n",
       "1647            440.0            447.0            445.0            445.0   \n",
       "2644            411.0            427.0            412.0            420.0   \n",
       "2648            373.0            389.0            346.0            358.0   \n",
       "2664             78.0             83.0             77.0             65.0   \n",
       "198         9206538.0        9313589.0        9437290.0        9538191.0   \n",
       "\n",
       "      2001_population  2002_population  ...  2013_population  2014_population  \\\n",
       "2235          92591.0          93934.0  ...         101504.0         101830.0   \n",
       "3006          97856.0          98097.0  ...         102191.0         102495.0   \n",
       "1509          94872.0          95771.0  ...         101823.0         102058.0   \n",
       "27           102976.0         102988.0  ...         104249.0         103880.0   \n",
       "1230         109836.0         109861.0  ...         107221.0         106599.0   \n",
       "...               ...              ...  ...              ...              ...   \n",
       "1647            423.0            421.0  ...            443.0            437.0   \n",
       "2644            421.0            429.0  ...            426.0            421.0   \n",
       "2648            313.0            308.0  ...            268.0            257.0   \n",
       "2664             66.0             75.0  ...             77.0             59.0   \n",
       "198         9626034.0        9705913.0  ...       10000924.0       10051511.0   \n",
       "\n",
       "      2015_population  2016_population  2017_population  2018_population  \\\n",
       "2235         102411.0         102625.0         103414.0         103932.0   \n",
       "3006         102590.0         102927.0         103180.0         103754.0   \n",
       "1509         102429.0         102952.0         103563.0         103967.0   \n",
       "27           103601.0         103603.0         103854.0         103646.0   \n",
       "1230         105916.0         105184.0         104967.0         104674.0   \n",
       "...               ...              ...              ...              ...   \n",
       "1647            433.0            445.0            432.0            435.0   \n",
       "2644            421.0            404.0            383.0            389.0   \n",
       "2648            273.0            281.0            278.0            265.0   \n",
       "2664             72.0             64.0             66.0             67.0   \n",
       "198        10099677.0       10121673.0       10123521.0       10096986.0   \n",
       "\n",
       "      2019_population  2020_population  2021_population  distance to 42001  \n",
       "2235         103778.0         103795.0         104127.0           0.000000  \n",
       "3006         104175.0         104076.0         104362.0           0.004093  \n",
       "1509         104137.0         104769.0         105231.0           0.008424  \n",
       "27           103440.0         103393.0         103162.0           0.008731  \n",
       "1230         104079.0         103594.0         102985.0           0.011795  \n",
       "...               ...              ...              ...                ...  \n",
       "1647            436.0            431.0            439.0           1.977809  \n",
       "2644            355.0            346.0            340.0           1.978614  \n",
       "2648            256.0            270.0            258.0           1.980969  \n",
       "2664             67.0             67.0             57.0           1.985240  \n",
       "198        10051154.0        9989165.0        9829544.0           2.014902  \n",
       "\n",
       "[3082 rows x 30 columns]"
      ]
     },
     "metadata": {},
     "output_type": "display_data"
    }
   ],
   "source": [
    "# You don't want to pass outcome and are interested in similarities\n",
    "\n",
    "f  = FipsQuery(42001, feature_groups_with_weights= {\"population\":4})\n",
    "f.find_euclidean_kins()\n",
    "display(f.plot_weights())\n",
    "display(f.euclidean_kins)"
   ]
  }
 ],
 "metadata": {
  "kernelspec": {
   "display_name": "chirho",
   "language": "python",
   "name": "python3"
  },
  "language_info": {
   "codemirror_mode": {
    "name": "ipython",
    "version": 3
   },
   "file_extension": ".py",
   "mimetype": "text/x-python",
   "name": "python",
   "nbconvert_exporter": "python",
   "pygments_lexer": "ipython3",
   "version": "3.10.9"
  },
  "orig_nbformat": 4
 },
 "nbformat": 4,
 "nbformat_minor": 2
}
