{
 "cells": [
  {
   "cell_type": "code",
   "execution_count": 1,
   "metadata": {},
   "outputs": [],
   "source": [
    "import pandas as pd\n",
    "import numpy as np\n",
    "import matplotlib.pyplot as plt\n",
    "from plotly import graph_objs as go\n",
    "\n",
    "from cities.utils.data_grabber import DataGrabber, list_available_features, list_tensed_features\n",
    "from cities.queries.fips_query import FipsQuery\n"
   ]
  },
  {
   "cell_type": "code",
   "execution_count": 2,
   "metadata": {},
   "outputs": [
    {
     "data": {
      "application/vnd.plotly.v1+json": {
       "config": {
        "plotlyServerURL": "https://plot.ly"
       },
       "data": [
        {
         "type": "bar",
         "x": [
          "1993_population",
          "1994_population",
          "1995_population",
          "1996_population",
          "1997_population",
          "1998_population",
          "1999_population",
          "2000_population",
          "2001_population",
          "2002_population",
          "2003_population",
          "2004_population",
          "2005_population",
          "2006_population",
          "2007_population",
          "2008_population",
          "2009_population",
          "2010_population",
          "2011_population",
          "2012_population",
          "2013_population",
          "2014_population",
          "2015_population",
          "2016_population",
          "2017_population",
          "2018_population",
          "2019_population",
          "2020_population",
          "2021_population"
         ],
         "y": [
          0.03847414014225456,
          0.04155207135363493,
          0.04487623706192573,
          0.04846633602687978,
          0.05234364290903017,
          0.056531134341752595,
          0.0610536250890928,
          0.06593791509622024,
          0.07121294830391786,
          0.07690998416823129,
          0.08306278290168981,
          0.08970780553382499,
          0.09688442997653099,
          0.10463518437465348,
          0.11300599912462576,
          0.12204647905459583,
          0.13181019737896352,
          0.14235501316928062,
          0.15374341422282306,
          0.1660428873606489,
          0.17932631834950083,
          0.19367242381746091,
          0.20916621772285782,
          0.22589951514068643,
          0.24397147635194139,
          0.2634891944600967,
          0.28456833001690446,
          0.30733379641825687,
          0.3319205001317174
         ]
        }
       ],
       "layout": {
        "template": {
         "data": {
          "bar": [
           {
            "error_x": {
             "color": "#2a3f5f"
            },
            "error_y": {
             "color": "#2a3f5f"
            },
            "marker": {
             "line": {
              "color": "white",
              "width": 0.5
             },
             "pattern": {
              "fillmode": "overlay",
              "size": 10,
              "solidity": 0.2
             }
            },
            "type": "bar"
           }
          ],
          "barpolar": [
           {
            "marker": {
             "line": {
              "color": "white",
              "width": 0.5
             },
             "pattern": {
              "fillmode": "overlay",
              "size": 10,
              "solidity": 0.2
             }
            },
            "type": "barpolar"
           }
          ],
          "carpet": [
           {
            "aaxis": {
             "endlinecolor": "#2a3f5f",
             "gridcolor": "#C8D4E3",
             "linecolor": "#C8D4E3",
             "minorgridcolor": "#C8D4E3",
             "startlinecolor": "#2a3f5f"
            },
            "baxis": {
             "endlinecolor": "#2a3f5f",
             "gridcolor": "#C8D4E3",
             "linecolor": "#C8D4E3",
             "minorgridcolor": "#C8D4E3",
             "startlinecolor": "#2a3f5f"
            },
            "type": "carpet"
           }
          ],
          "choropleth": [
           {
            "colorbar": {
             "outlinewidth": 0,
             "ticks": ""
            },
            "type": "choropleth"
           }
          ],
          "contour": [
           {
            "colorbar": {
             "outlinewidth": 0,
             "ticks": ""
            },
            "colorscale": [
             [
              0,
              "#0d0887"
             ],
             [
              0.1111111111111111,
              "#46039f"
             ],
             [
              0.2222222222222222,
              "#7201a8"
             ],
             [
              0.3333333333333333,
              "#9c179e"
             ],
             [
              0.4444444444444444,
              "#bd3786"
             ],
             [
              0.5555555555555556,
              "#d8576b"
             ],
             [
              0.6666666666666666,
              "#ed7953"
             ],
             [
              0.7777777777777778,
              "#fb9f3a"
             ],
             [
              0.8888888888888888,
              "#fdca26"
             ],
             [
              1,
              "#f0f921"
             ]
            ],
            "type": "contour"
           }
          ],
          "contourcarpet": [
           {
            "colorbar": {
             "outlinewidth": 0,
             "ticks": ""
            },
            "type": "contourcarpet"
           }
          ],
          "heatmap": [
           {
            "colorbar": {
             "outlinewidth": 0,
             "ticks": ""
            },
            "colorscale": [
             [
              0,
              "#0d0887"
             ],
             [
              0.1111111111111111,
              "#46039f"
             ],
             [
              0.2222222222222222,
              "#7201a8"
             ],
             [
              0.3333333333333333,
              "#9c179e"
             ],
             [
              0.4444444444444444,
              "#bd3786"
             ],
             [
              0.5555555555555556,
              "#d8576b"
             ],
             [
              0.6666666666666666,
              "#ed7953"
             ],
             [
              0.7777777777777778,
              "#fb9f3a"
             ],
             [
              0.8888888888888888,
              "#fdca26"
             ],
             [
              1,
              "#f0f921"
             ]
            ],
            "type": "heatmap"
           }
          ],
          "heatmapgl": [
           {
            "colorbar": {
             "outlinewidth": 0,
             "ticks": ""
            },
            "colorscale": [
             [
              0,
              "#0d0887"
             ],
             [
              0.1111111111111111,
              "#46039f"
             ],
             [
              0.2222222222222222,
              "#7201a8"
             ],
             [
              0.3333333333333333,
              "#9c179e"
             ],
             [
              0.4444444444444444,
              "#bd3786"
             ],
             [
              0.5555555555555556,
              "#d8576b"
             ],
             [
              0.6666666666666666,
              "#ed7953"
             ],
             [
              0.7777777777777778,
              "#fb9f3a"
             ],
             [
              0.8888888888888888,
              "#fdca26"
             ],
             [
              1,
              "#f0f921"
             ]
            ],
            "type": "heatmapgl"
           }
          ],
          "histogram": [
           {
            "marker": {
             "pattern": {
              "fillmode": "overlay",
              "size": 10,
              "solidity": 0.2
             }
            },
            "type": "histogram"
           }
          ],
          "histogram2d": [
           {
            "colorbar": {
             "outlinewidth": 0,
             "ticks": ""
            },
            "colorscale": [
             [
              0,
              "#0d0887"
             ],
             [
              0.1111111111111111,
              "#46039f"
             ],
             [
              0.2222222222222222,
              "#7201a8"
             ],
             [
              0.3333333333333333,
              "#9c179e"
             ],
             [
              0.4444444444444444,
              "#bd3786"
             ],
             [
              0.5555555555555556,
              "#d8576b"
             ],
             [
              0.6666666666666666,
              "#ed7953"
             ],
             [
              0.7777777777777778,
              "#fb9f3a"
             ],
             [
              0.8888888888888888,
              "#fdca26"
             ],
             [
              1,
              "#f0f921"
             ]
            ],
            "type": "histogram2d"
           }
          ],
          "histogram2dcontour": [
           {
            "colorbar": {
             "outlinewidth": 0,
             "ticks": ""
            },
            "colorscale": [
             [
              0,
              "#0d0887"
             ],
             [
              0.1111111111111111,
              "#46039f"
             ],
             [
              0.2222222222222222,
              "#7201a8"
             ],
             [
              0.3333333333333333,
              "#9c179e"
             ],
             [
              0.4444444444444444,
              "#bd3786"
             ],
             [
              0.5555555555555556,
              "#d8576b"
             ],
             [
              0.6666666666666666,
              "#ed7953"
             ],
             [
              0.7777777777777778,
              "#fb9f3a"
             ],
             [
              0.8888888888888888,
              "#fdca26"
             ],
             [
              1,
              "#f0f921"
             ]
            ],
            "type": "histogram2dcontour"
           }
          ],
          "mesh3d": [
           {
            "colorbar": {
             "outlinewidth": 0,
             "ticks": ""
            },
            "type": "mesh3d"
           }
          ],
          "parcoords": [
           {
            "line": {
             "colorbar": {
              "outlinewidth": 0,
              "ticks": ""
             }
            },
            "type": "parcoords"
           }
          ],
          "pie": [
           {
            "automargin": true,
            "type": "pie"
           }
          ],
          "scatter": [
           {
            "fillpattern": {
             "fillmode": "overlay",
             "size": 10,
             "solidity": 0.2
            },
            "type": "scatter"
           }
          ],
          "scatter3d": [
           {
            "line": {
             "colorbar": {
              "outlinewidth": 0,
              "ticks": ""
             }
            },
            "marker": {
             "colorbar": {
              "outlinewidth": 0,
              "ticks": ""
             }
            },
            "type": "scatter3d"
           }
          ],
          "scattercarpet": [
           {
            "marker": {
             "colorbar": {
              "outlinewidth": 0,
              "ticks": ""
             }
            },
            "type": "scattercarpet"
           }
          ],
          "scattergeo": [
           {
            "marker": {
             "colorbar": {
              "outlinewidth": 0,
              "ticks": ""
             }
            },
            "type": "scattergeo"
           }
          ],
          "scattergl": [
           {
            "marker": {
             "colorbar": {
              "outlinewidth": 0,
              "ticks": ""
             }
            },
            "type": "scattergl"
           }
          ],
          "scattermapbox": [
           {
            "marker": {
             "colorbar": {
              "outlinewidth": 0,
              "ticks": ""
             }
            },
            "type": "scattermapbox"
           }
          ],
          "scatterpolar": [
           {
            "marker": {
             "colorbar": {
              "outlinewidth": 0,
              "ticks": ""
             }
            },
            "type": "scatterpolar"
           }
          ],
          "scatterpolargl": [
           {
            "marker": {
             "colorbar": {
              "outlinewidth": 0,
              "ticks": ""
             }
            },
            "type": "scatterpolargl"
           }
          ],
          "scatterternary": [
           {
            "marker": {
             "colorbar": {
              "outlinewidth": 0,
              "ticks": ""
             }
            },
            "type": "scatterternary"
           }
          ],
          "surface": [
           {
            "colorbar": {
             "outlinewidth": 0,
             "ticks": ""
            },
            "colorscale": [
             [
              0,
              "#0d0887"
             ],
             [
              0.1111111111111111,
              "#46039f"
             ],
             [
              0.2222222222222222,
              "#7201a8"
             ],
             [
              0.3333333333333333,
              "#9c179e"
             ],
             [
              0.4444444444444444,
              "#bd3786"
             ],
             [
              0.5555555555555556,
              "#d8576b"
             ],
             [
              0.6666666666666666,
              "#ed7953"
             ],
             [
              0.7777777777777778,
              "#fb9f3a"
             ],
             [
              0.8888888888888888,
              "#fdca26"
             ],
             [
              1,
              "#f0f921"
             ]
            ],
            "type": "surface"
           }
          ],
          "table": [
           {
            "cells": {
             "fill": {
              "color": "#EBF0F8"
             },
             "line": {
              "color": "white"
             }
            },
            "header": {
             "fill": {
              "color": "#C8D4E3"
             },
             "line": {
              "color": "white"
             }
            },
            "type": "table"
           }
          ]
         },
         "layout": {
          "annotationdefaults": {
           "arrowcolor": "#2a3f5f",
           "arrowhead": 0,
           "arrowwidth": 1
          },
          "autotypenumbers": "strict",
          "coloraxis": {
           "colorbar": {
            "outlinewidth": 0,
            "ticks": ""
           }
          },
          "colorscale": {
           "diverging": [
            [
             0,
             "#8e0152"
            ],
            [
             0.1,
             "#c51b7d"
            ],
            [
             0.2,
             "#de77ae"
            ],
            [
             0.3,
             "#f1b6da"
            ],
            [
             0.4,
             "#fde0ef"
            ],
            [
             0.5,
             "#f7f7f7"
            ],
            [
             0.6,
             "#e6f5d0"
            ],
            [
             0.7,
             "#b8e186"
            ],
            [
             0.8,
             "#7fbc41"
            ],
            [
             0.9,
             "#4d9221"
            ],
            [
             1,
             "#276419"
            ]
           ],
           "sequential": [
            [
             0,
             "#0d0887"
            ],
            [
             0.1111111111111111,
             "#46039f"
            ],
            [
             0.2222222222222222,
             "#7201a8"
            ],
            [
             0.3333333333333333,
             "#9c179e"
            ],
            [
             0.4444444444444444,
             "#bd3786"
            ],
            [
             0.5555555555555556,
             "#d8576b"
            ],
            [
             0.6666666666666666,
             "#ed7953"
            ],
            [
             0.7777777777777778,
             "#fb9f3a"
            ],
            [
             0.8888888888888888,
             "#fdca26"
            ],
            [
             1,
             "#f0f921"
            ]
           ],
           "sequentialminus": [
            [
             0,
             "#0d0887"
            ],
            [
             0.1111111111111111,
             "#46039f"
            ],
            [
             0.2222222222222222,
             "#7201a8"
            ],
            [
             0.3333333333333333,
             "#9c179e"
            ],
            [
             0.4444444444444444,
             "#bd3786"
            ],
            [
             0.5555555555555556,
             "#d8576b"
            ],
            [
             0.6666666666666666,
             "#ed7953"
            ],
            [
             0.7777777777777778,
             "#fb9f3a"
            ],
            [
             0.8888888888888888,
             "#fdca26"
            ],
            [
             1,
             "#f0f921"
            ]
           ]
          },
          "colorway": [
           "#636efa",
           "#EF553B",
           "#00cc96",
           "#ab63fa",
           "#FFA15A",
           "#19d3f3",
           "#FF6692",
           "#B6E880",
           "#FF97FF",
           "#FECB52"
          ],
          "font": {
           "color": "#2a3f5f"
          },
          "geo": {
           "bgcolor": "white",
           "lakecolor": "white",
           "landcolor": "white",
           "showlakes": true,
           "showland": true,
           "subunitcolor": "#C8D4E3"
          },
          "hoverlabel": {
           "align": "left"
          },
          "hovermode": "closest",
          "mapbox": {
           "style": "light"
          },
          "paper_bgcolor": "white",
          "plot_bgcolor": "white",
          "polar": {
           "angularaxis": {
            "gridcolor": "#EBF0F8",
            "linecolor": "#EBF0F8",
            "ticks": ""
           },
           "bgcolor": "white",
           "radialaxis": {
            "gridcolor": "#EBF0F8",
            "linecolor": "#EBF0F8",
            "ticks": ""
           }
          },
          "scene": {
           "xaxis": {
            "backgroundcolor": "white",
            "gridcolor": "#DFE8F3",
            "gridwidth": 2,
            "linecolor": "#EBF0F8",
            "showbackground": true,
            "ticks": "",
            "zerolinecolor": "#EBF0F8"
           },
           "yaxis": {
            "backgroundcolor": "white",
            "gridcolor": "#DFE8F3",
            "gridwidth": 2,
            "linecolor": "#EBF0F8",
            "showbackground": true,
            "ticks": "",
            "zerolinecolor": "#EBF0F8"
           },
           "zaxis": {
            "backgroundcolor": "white",
            "gridcolor": "#DFE8F3",
            "gridwidth": 2,
            "linecolor": "#EBF0F8",
            "showbackground": true,
            "ticks": "",
            "zerolinecolor": "#EBF0F8"
           }
          },
          "shapedefaults": {
           "line": {
            "color": "#2a3f5f"
           }
          },
          "ternary": {
           "aaxis": {
            "gridcolor": "#DFE8F3",
            "linecolor": "#A2B1C6",
            "ticks": ""
           },
           "baxis": {
            "gridcolor": "#DFE8F3",
            "linecolor": "#A2B1C6",
            "ticks": ""
           },
           "bgcolor": "white",
           "caxis": {
            "gridcolor": "#DFE8F3",
            "linecolor": "#A2B1C6",
            "ticks": ""
           }
          },
          "title": {
           "x": 0.05
          },
          "xaxis": {
           "automargin": true,
           "gridcolor": "#EBF0F8",
           "linecolor": "#EBF0F8",
           "ticks": "",
           "title": {
            "standoff": 15
           },
           "zerolinecolor": "#EBF0F8",
           "zerolinewidth": 2
          },
          "yaxis": {
           "automargin": true,
           "gridcolor": "#EBF0F8",
           "linecolor": "#EBF0F8",
           "ticks": "",
           "title": {
            "standoff": 15
           },
           "zerolinecolor": "#EBF0F8",
           "zerolinewidth": 2
          }
         }
        },
        "title": {
         "text": "Weights of columns"
        },
        "xaxis": {
         "title": {
          "text": "columns"
         }
        },
        "yaxis": {
         "title": {
          "text": "weights"
         }
        }
       }
      }
     },
     "metadata": {},
     "output_type": "display_data"
    },
    {
     "data": {
      "text/plain": [
       "None"
      ]
     },
     "metadata": {},
     "output_type": "display_data"
    },
    {
     "data": {
      "text/html": [
       "<div>\n",
       "<style scoped>\n",
       "    .dataframe tbody tr th:only-of-type {\n",
       "        vertical-align: middle;\n",
       "    }\n",
       "\n",
       "    .dataframe tbody tr th {\n",
       "        vertical-align: top;\n",
       "    }\n",
       "\n",
       "    .dataframe thead th {\n",
       "        text-align: right;\n",
       "    }\n",
       "</style>\n",
       "<table border=\"1\" class=\"dataframe\">\n",
       "  <thead>\n",
       "    <tr style=\"text-align: right;\">\n",
       "      <th></th>\n",
       "      <th>1993_population</th>\n",
       "      <th>1994_population</th>\n",
       "      <th>1995_population</th>\n",
       "      <th>1996_population</th>\n",
       "      <th>1997_population</th>\n",
       "      <th>1998_population</th>\n",
       "      <th>1999_population</th>\n",
       "      <th>2000_population</th>\n",
       "      <th>2001_population</th>\n",
       "      <th>2002_population</th>\n",
       "      <th>...</th>\n",
       "      <th>2013_population</th>\n",
       "      <th>2014_population</th>\n",
       "      <th>2015_population</th>\n",
       "      <th>2016_population</th>\n",
       "      <th>2017_population</th>\n",
       "      <th>2018_population</th>\n",
       "      <th>2019_population</th>\n",
       "      <th>2020_population</th>\n",
       "      <th>2021_population</th>\n",
       "      <th>distance to 42001</th>\n",
       "    </tr>\n",
       "  </thead>\n",
       "  <tbody>\n",
       "    <tr>\n",
       "      <th>2235</th>\n",
       "      <td>83013.0</td>\n",
       "      <td>84186.0</td>\n",
       "      <td>85063.0</td>\n",
       "      <td>86252.0</td>\n",
       "      <td>87751.0</td>\n",
       "      <td>89074.0</td>\n",
       "      <td>90363.0</td>\n",
       "      <td>91457.0</td>\n",
       "      <td>92591.0</td>\n",
       "      <td>93934.0</td>\n",
       "      <td>...</td>\n",
       "      <td>101504.0</td>\n",
       "      <td>101830.0</td>\n",
       "      <td>102411.0</td>\n",
       "      <td>102625.0</td>\n",
       "      <td>103414.0</td>\n",
       "      <td>103932.0</td>\n",
       "      <td>103778.0</td>\n",
       "      <td>103795.0</td>\n",
       "      <td>104127.0</td>\n",
       "      <td>0.000000</td>\n",
       "    </tr>\n",
       "    <tr>\n",
       "      <th>3006</th>\n",
       "      <td>92876.0</td>\n",
       "      <td>93717.0</td>\n",
       "      <td>94509.0</td>\n",
       "      <td>95529.0</td>\n",
       "      <td>95998.0</td>\n",
       "      <td>96512.0</td>\n",
       "      <td>96985.0</td>\n",
       "      <td>97390.0</td>\n",
       "      <td>97856.0</td>\n",
       "      <td>98097.0</td>\n",
       "      <td>...</td>\n",
       "      <td>102191.0</td>\n",
       "      <td>102495.0</td>\n",
       "      <td>102590.0</td>\n",
       "      <td>102927.0</td>\n",
       "      <td>103180.0</td>\n",
       "      <td>103754.0</td>\n",
       "      <td>104175.0</td>\n",
       "      <td>104076.0</td>\n",
       "      <td>104362.0</td>\n",
       "      <td>0.004093</td>\n",
       "    </tr>\n",
       "    <tr>\n",
       "      <th>1509</th>\n",
       "      <td>84234.0</td>\n",
       "      <td>85586.0</td>\n",
       "      <td>87584.0</td>\n",
       "      <td>89357.0</td>\n",
       "      <td>90710.0</td>\n",
       "      <td>91697.0</td>\n",
       "      <td>92914.0</td>\n",
       "      <td>94050.0</td>\n",
       "      <td>94872.0</td>\n",
       "      <td>95771.0</td>\n",
       "      <td>...</td>\n",
       "      <td>101823.0</td>\n",
       "      <td>102058.0</td>\n",
       "      <td>102429.0</td>\n",
       "      <td>102952.0</td>\n",
       "      <td>103563.0</td>\n",
       "      <td>103967.0</td>\n",
       "      <td>104137.0</td>\n",
       "      <td>104769.0</td>\n",
       "      <td>105231.0</td>\n",
       "      <td>0.008424</td>\n",
       "    </tr>\n",
       "    <tr>\n",
       "      <th>27</th>\n",
       "      <td>101310.0</td>\n",
       "      <td>102213.0</td>\n",
       "      <td>102342.0</td>\n",
       "      <td>103063.0</td>\n",
       "      <td>104129.0</td>\n",
       "      <td>104367.0</td>\n",
       "      <td>104002.0</td>\n",
       "      <td>103286.0</td>\n",
       "      <td>102976.0</td>\n",
       "      <td>102988.0</td>\n",
       "      <td>...</td>\n",
       "      <td>104249.0</td>\n",
       "      <td>103880.0</td>\n",
       "      <td>103601.0</td>\n",
       "      <td>103603.0</td>\n",
       "      <td>103854.0</td>\n",
       "      <td>103646.0</td>\n",
       "      <td>103440.0</td>\n",
       "      <td>103393.0</td>\n",
       "      <td>103162.0</td>\n",
       "      <td>0.008731</td>\n",
       "    </tr>\n",
       "    <tr>\n",
       "      <th>1230</th>\n",
       "      <td>112397.0</td>\n",
       "      <td>112025.0</td>\n",
       "      <td>111680.0</td>\n",
       "      <td>111231.0</td>\n",
       "      <td>111040.0</td>\n",
       "      <td>110704.0</td>\n",
       "      <td>110295.0</td>\n",
       "      <td>110192.0</td>\n",
       "      <td>109836.0</td>\n",
       "      <td>109861.0</td>\n",
       "      <td>...</td>\n",
       "      <td>107221.0</td>\n",
       "      <td>106599.0</td>\n",
       "      <td>105916.0</td>\n",
       "      <td>105184.0</td>\n",
       "      <td>104967.0</td>\n",
       "      <td>104674.0</td>\n",
       "      <td>104079.0</td>\n",
       "      <td>103594.0</td>\n",
       "      <td>102985.0</td>\n",
       "      <td>0.011795</td>\n",
       "    </tr>\n",
       "    <tr>\n",
       "      <th>...</th>\n",
       "      <td>...</td>\n",
       "      <td>...</td>\n",
       "      <td>...</td>\n",
       "      <td>...</td>\n",
       "      <td>...</td>\n",
       "      <td>...</td>\n",
       "      <td>...</td>\n",
       "      <td>...</td>\n",
       "      <td>...</td>\n",
       "      <td>...</td>\n",
       "      <td>...</td>\n",
       "      <td>...</td>\n",
       "      <td>...</td>\n",
       "      <td>...</td>\n",
       "      <td>...</td>\n",
       "      <td>...</td>\n",
       "      <td>...</td>\n",
       "      <td>...</td>\n",
       "      <td>...</td>\n",
       "      <td>...</td>\n",
       "      <td>...</td>\n",
       "    </tr>\n",
       "    <tr>\n",
       "      <th>1647</th>\n",
       "      <td>472.0</td>\n",
       "      <td>441.0</td>\n",
       "      <td>434.0</td>\n",
       "      <td>429.0</td>\n",
       "      <td>440.0</td>\n",
       "      <td>447.0</td>\n",
       "      <td>445.0</td>\n",
       "      <td>445.0</td>\n",
       "      <td>423.0</td>\n",
       "      <td>421.0</td>\n",
       "      <td>...</td>\n",
       "      <td>443.0</td>\n",
       "      <td>437.0</td>\n",
       "      <td>433.0</td>\n",
       "      <td>445.0</td>\n",
       "      <td>432.0</td>\n",
       "      <td>435.0</td>\n",
       "      <td>436.0</td>\n",
       "      <td>431.0</td>\n",
       "      <td>439.0</td>\n",
       "      <td>1.977809</td>\n",
       "    </tr>\n",
       "    <tr>\n",
       "      <th>2644</th>\n",
       "      <td>428.0</td>\n",
       "      <td>413.0</td>\n",
       "      <td>420.0</td>\n",
       "      <td>415.0</td>\n",
       "      <td>411.0</td>\n",
       "      <td>427.0</td>\n",
       "      <td>412.0</td>\n",
       "      <td>420.0</td>\n",
       "      <td>421.0</td>\n",
       "      <td>429.0</td>\n",
       "      <td>...</td>\n",
       "      <td>426.0</td>\n",
       "      <td>421.0</td>\n",
       "      <td>421.0</td>\n",
       "      <td>404.0</td>\n",
       "      <td>383.0</td>\n",
       "      <td>389.0</td>\n",
       "      <td>355.0</td>\n",
       "      <td>346.0</td>\n",
       "      <td>340.0</td>\n",
       "      <td>1.978614</td>\n",
       "    </tr>\n",
       "    <tr>\n",
       "      <th>2648</th>\n",
       "      <td>342.0</td>\n",
       "      <td>363.0</td>\n",
       "      <td>335.0</td>\n",
       "      <td>358.0</td>\n",
       "      <td>373.0</td>\n",
       "      <td>389.0</td>\n",
       "      <td>346.0</td>\n",
       "      <td>358.0</td>\n",
       "      <td>313.0</td>\n",
       "      <td>308.0</td>\n",
       "      <td>...</td>\n",
       "      <td>268.0</td>\n",
       "      <td>257.0</td>\n",
       "      <td>273.0</td>\n",
       "      <td>281.0</td>\n",
       "      <td>278.0</td>\n",
       "      <td>265.0</td>\n",
       "      <td>256.0</td>\n",
       "      <td>270.0</td>\n",
       "      <td>258.0</td>\n",
       "      <td>1.980969</td>\n",
       "    </tr>\n",
       "    <tr>\n",
       "      <th>2664</th>\n",
       "      <td>109.0</td>\n",
       "      <td>114.0</td>\n",
       "      <td>111.0</td>\n",
       "      <td>109.0</td>\n",
       "      <td>78.0</td>\n",
       "      <td>83.0</td>\n",
       "      <td>77.0</td>\n",
       "      <td>65.0</td>\n",
       "      <td>66.0</td>\n",
       "      <td>75.0</td>\n",
       "      <td>...</td>\n",
       "      <td>77.0</td>\n",
       "      <td>59.0</td>\n",
       "      <td>72.0</td>\n",
       "      <td>64.0</td>\n",
       "      <td>66.0</td>\n",
       "      <td>67.0</td>\n",
       "      <td>67.0</td>\n",
       "      <td>67.0</td>\n",
       "      <td>57.0</td>\n",
       "      <td>1.985240</td>\n",
       "    </tr>\n",
       "    <tr>\n",
       "      <th>198</th>\n",
       "      <td>9100159.0</td>\n",
       "      <td>9096608.0</td>\n",
       "      <td>9089015.0</td>\n",
       "      <td>9127042.0</td>\n",
       "      <td>9206538.0</td>\n",
       "      <td>9313589.0</td>\n",
       "      <td>9437290.0</td>\n",
       "      <td>9538191.0</td>\n",
       "      <td>9626034.0</td>\n",
       "      <td>9705913.0</td>\n",
       "      <td>...</td>\n",
       "      <td>10000924.0</td>\n",
       "      <td>10051511.0</td>\n",
       "      <td>10099677.0</td>\n",
       "      <td>10121673.0</td>\n",
       "      <td>10123521.0</td>\n",
       "      <td>10096986.0</td>\n",
       "      <td>10051154.0</td>\n",
       "      <td>9989165.0</td>\n",
       "      <td>9829544.0</td>\n",
       "      <td>2.014902</td>\n",
       "    </tr>\n",
       "  </tbody>\n",
       "</table>\n",
       "<p>3082 rows × 30 columns</p>\n",
       "</div>"
      ],
      "text/plain": [
       "      1993_population  1994_population  1995_population  1996_population  \\\n",
       "2235          83013.0          84186.0          85063.0          86252.0   \n",
       "3006          92876.0          93717.0          94509.0          95529.0   \n",
       "1509          84234.0          85586.0          87584.0          89357.0   \n",
       "27           101310.0         102213.0         102342.0         103063.0   \n",
       "1230         112397.0         112025.0         111680.0         111231.0   \n",
       "...               ...              ...              ...              ...   \n",
       "1647            472.0            441.0            434.0            429.0   \n",
       "2644            428.0            413.0            420.0            415.0   \n",
       "2648            342.0            363.0            335.0            358.0   \n",
       "2664            109.0            114.0            111.0            109.0   \n",
       "198         9100159.0        9096608.0        9089015.0        9127042.0   \n",
       "\n",
       "      1997_population  1998_population  1999_population  2000_population  \\\n",
       "2235          87751.0          89074.0          90363.0          91457.0   \n",
       "3006          95998.0          96512.0          96985.0          97390.0   \n",
       "1509          90710.0          91697.0          92914.0          94050.0   \n",
       "27           104129.0         104367.0         104002.0         103286.0   \n",
       "1230         111040.0         110704.0         110295.0         110192.0   \n",
       "...               ...              ...              ...              ...   \n",
       "1647            440.0            447.0            445.0            445.0   \n",
       "2644            411.0            427.0            412.0            420.0   \n",
       "2648            373.0            389.0            346.0            358.0   \n",
       "2664             78.0             83.0             77.0             65.0   \n",
       "198         9206538.0        9313589.0        9437290.0        9538191.0   \n",
       "\n",
       "      2001_population  2002_population  ...  2013_population  2014_population  \\\n",
       "2235          92591.0          93934.0  ...         101504.0         101830.0   \n",
       "3006          97856.0          98097.0  ...         102191.0         102495.0   \n",
       "1509          94872.0          95771.0  ...         101823.0         102058.0   \n",
       "27           102976.0         102988.0  ...         104249.0         103880.0   \n",
       "1230         109836.0         109861.0  ...         107221.0         106599.0   \n",
       "...               ...              ...  ...              ...              ...   \n",
       "1647            423.0            421.0  ...            443.0            437.0   \n",
       "2644            421.0            429.0  ...            426.0            421.0   \n",
       "2648            313.0            308.0  ...            268.0            257.0   \n",
       "2664             66.0             75.0  ...             77.0             59.0   \n",
       "198         9626034.0        9705913.0  ...       10000924.0       10051511.0   \n",
       "\n",
       "      2015_population  2016_population  2017_population  2018_population  \\\n",
       "2235         102411.0         102625.0         103414.0         103932.0   \n",
       "3006         102590.0         102927.0         103180.0         103754.0   \n",
       "1509         102429.0         102952.0         103563.0         103967.0   \n",
       "27           103601.0         103603.0         103854.0         103646.0   \n",
       "1230         105916.0         105184.0         104967.0         104674.0   \n",
       "...               ...              ...              ...              ...   \n",
       "1647            433.0            445.0            432.0            435.0   \n",
       "2644            421.0            404.0            383.0            389.0   \n",
       "2648            273.0            281.0            278.0            265.0   \n",
       "2664             72.0             64.0             66.0             67.0   \n",
       "198        10099677.0       10121673.0       10123521.0       10096986.0   \n",
       "\n",
       "      2019_population  2020_population  2021_population  distance to 42001  \n",
       "2235         103778.0         103795.0         104127.0           0.000000  \n",
       "3006         104175.0         104076.0         104362.0           0.004093  \n",
       "1509         104137.0         104769.0         105231.0           0.008424  \n",
       "27           103440.0         103393.0         103162.0           0.008731  \n",
       "1230         104079.0         103594.0         102985.0           0.011795  \n",
       "...               ...              ...              ...                ...  \n",
       "1647            436.0            431.0            439.0           1.977809  \n",
       "2644            355.0            346.0            340.0           1.978614  \n",
       "2648            256.0            270.0            258.0           1.980969  \n",
       "2664             67.0             67.0             57.0           1.985240  \n",
       "198        10051154.0        9989165.0        9829544.0           2.014902  \n",
       "\n",
       "[3082 rows x 30 columns]"
      ]
     },
     "metadata": {},
     "output_type": "display_data"
    }
   ],
   "source": [
    "# this threw an error before\n",
    "f  = FipsQuery(42001, feature_groups_with_weights= {\"population\":4})\n",
    "f.find_euclidean_kins()\n",
    "display(f.plot_weights())\n",
    "display(f.euclidean_kins)"
   ]
  },
  {
   "cell_type": "code",
   "execution_count": 2,
   "metadata": {},
   "outputs": [
    {
     "name": "stdout",
     "output_type": "stream",
     "text": [
      "['population', 'spending_commerce', 'industry', 'spending_transportation', 'spending_HHS', 'ethnic_composition', 'transport', 'urbanization', 'gdp']\n"
     ]
    },
    {
     "data": {
      "application/vnd.plotly.v1+json": {
       "config": {
        "plotlyServerURL": "https://plot.ly"
       },
       "data": [
        {
         "type": "bar",
         "x": [
          "1993_population",
          "1994_population",
          "1995_population",
          "1996_population",
          "1997_population",
          "1998_population",
          "1999_population",
          "2000_population",
          "2001_population",
          "2002_population",
          "2003_population",
          "2004_population",
          "2005_population",
          "2006_population",
          "2007_population",
          "2008_population",
          "2009_population",
          "2010_population",
          "2011_population",
          "2012_population",
          "2013_population",
          "2014_population",
          "2015_population",
          "2016_population",
          "2017_population",
          "2018_population",
          "2019_population",
          "2020_population",
          "2021_population",
          "2010_spending_HHS",
          "2011_spending_HHS",
          "2012_spending_HHS",
          "2013_spending_HHS",
          "2014_spending_HHS",
          "2015_spending_HHS",
          "2016_spending_HHS",
          "2017_spending_HHS",
          "2018_spending_HHS",
          "2019_spending_HHS",
          "2020_spending_HHS",
          "2021_spending_HHS"
         ],
         "y": [
          0.03847414014225456,
          0.04155207135363493,
          0.04487623706192573,
          0.04846633602687978,
          0.05234364290903017,
          0.056531134341752595,
          0.0610536250890928,
          0.06593791509622024,
          0.07121294830391786,
          0.07690998416823129,
          0.08306278290168981,
          0.08970780553382499,
          0.09688442997653099,
          0.10463518437465348,
          0.11300599912462576,
          0.12204647905459583,
          0.13181019737896352,
          0.14235501316928062,
          0.15374341422282306,
          0.1660428873606489,
          0.17932631834950083,
          0.19367242381746091,
          0.20916621772285782,
          0.22589951514068643,
          0.24397147635194139,
          0.2634891944600967,
          0.28456833001690446,
          0.30733379641825687,
          0.3319205001317174,
          0.15808505077340862,
          0.17073185483528133,
          0.18439040322210384,
          0.19914163547987215,
          0.21507296631826195,
          0.23227880362372297,
          0.25086110791362076,
          0.27092999654671046,
          0.2926043962704473,
          0.3160127479720831,
          0.3412937678098498,
          0.3685972692346378
         ]
        }
       ],
       "layout": {
        "template": {
         "data": {
          "bar": [
           {
            "error_x": {
             "color": "#2a3f5f"
            },
            "error_y": {
             "color": "#2a3f5f"
            },
            "marker": {
             "line": {
              "color": "white",
              "width": 0.5
             },
             "pattern": {
              "fillmode": "overlay",
              "size": 10,
              "solidity": 0.2
             }
            },
            "type": "bar"
           }
          ],
          "barpolar": [
           {
            "marker": {
             "line": {
              "color": "white",
              "width": 0.5
             },
             "pattern": {
              "fillmode": "overlay",
              "size": 10,
              "solidity": 0.2
             }
            },
            "type": "barpolar"
           }
          ],
          "carpet": [
           {
            "aaxis": {
             "endlinecolor": "#2a3f5f",
             "gridcolor": "#C8D4E3",
             "linecolor": "#C8D4E3",
             "minorgridcolor": "#C8D4E3",
             "startlinecolor": "#2a3f5f"
            },
            "baxis": {
             "endlinecolor": "#2a3f5f",
             "gridcolor": "#C8D4E3",
             "linecolor": "#C8D4E3",
             "minorgridcolor": "#C8D4E3",
             "startlinecolor": "#2a3f5f"
            },
            "type": "carpet"
           }
          ],
          "choropleth": [
           {
            "colorbar": {
             "outlinewidth": 0,
             "ticks": ""
            },
            "type": "choropleth"
           }
          ],
          "contour": [
           {
            "colorbar": {
             "outlinewidth": 0,
             "ticks": ""
            },
            "colorscale": [
             [
              0,
              "#0d0887"
             ],
             [
              0.1111111111111111,
              "#46039f"
             ],
             [
              0.2222222222222222,
              "#7201a8"
             ],
             [
              0.3333333333333333,
              "#9c179e"
             ],
             [
              0.4444444444444444,
              "#bd3786"
             ],
             [
              0.5555555555555556,
              "#d8576b"
             ],
             [
              0.6666666666666666,
              "#ed7953"
             ],
             [
              0.7777777777777778,
              "#fb9f3a"
             ],
             [
              0.8888888888888888,
              "#fdca26"
             ],
             [
              1,
              "#f0f921"
             ]
            ],
            "type": "contour"
           }
          ],
          "contourcarpet": [
           {
            "colorbar": {
             "outlinewidth": 0,
             "ticks": ""
            },
            "type": "contourcarpet"
           }
          ],
          "heatmap": [
           {
            "colorbar": {
             "outlinewidth": 0,
             "ticks": ""
            },
            "colorscale": [
             [
              0,
              "#0d0887"
             ],
             [
              0.1111111111111111,
              "#46039f"
             ],
             [
              0.2222222222222222,
              "#7201a8"
             ],
             [
              0.3333333333333333,
              "#9c179e"
             ],
             [
              0.4444444444444444,
              "#bd3786"
             ],
             [
              0.5555555555555556,
              "#d8576b"
             ],
             [
              0.6666666666666666,
              "#ed7953"
             ],
             [
              0.7777777777777778,
              "#fb9f3a"
             ],
             [
              0.8888888888888888,
              "#fdca26"
             ],
             [
              1,
              "#f0f921"
             ]
            ],
            "type": "heatmap"
           }
          ],
          "heatmapgl": [
           {
            "colorbar": {
             "outlinewidth": 0,
             "ticks": ""
            },
            "colorscale": [
             [
              0,
              "#0d0887"
             ],
             [
              0.1111111111111111,
              "#46039f"
             ],
             [
              0.2222222222222222,
              "#7201a8"
             ],
             [
              0.3333333333333333,
              "#9c179e"
             ],
             [
              0.4444444444444444,
              "#bd3786"
             ],
             [
              0.5555555555555556,
              "#d8576b"
             ],
             [
              0.6666666666666666,
              "#ed7953"
             ],
             [
              0.7777777777777778,
              "#fb9f3a"
             ],
             [
              0.8888888888888888,
              "#fdca26"
             ],
             [
              1,
              "#f0f921"
             ]
            ],
            "type": "heatmapgl"
           }
          ],
          "histogram": [
           {
            "marker": {
             "pattern": {
              "fillmode": "overlay",
              "size": 10,
              "solidity": 0.2
             }
            },
            "type": "histogram"
           }
          ],
          "histogram2d": [
           {
            "colorbar": {
             "outlinewidth": 0,
             "ticks": ""
            },
            "colorscale": [
             [
              0,
              "#0d0887"
             ],
             [
              0.1111111111111111,
              "#46039f"
             ],
             [
              0.2222222222222222,
              "#7201a8"
             ],
             [
              0.3333333333333333,
              "#9c179e"
             ],
             [
              0.4444444444444444,
              "#bd3786"
             ],
             [
              0.5555555555555556,
              "#d8576b"
             ],
             [
              0.6666666666666666,
              "#ed7953"
             ],
             [
              0.7777777777777778,
              "#fb9f3a"
             ],
             [
              0.8888888888888888,
              "#fdca26"
             ],
             [
              1,
              "#f0f921"
             ]
            ],
            "type": "histogram2d"
           }
          ],
          "histogram2dcontour": [
           {
            "colorbar": {
             "outlinewidth": 0,
             "ticks": ""
            },
            "colorscale": [
             [
              0,
              "#0d0887"
             ],
             [
              0.1111111111111111,
              "#46039f"
             ],
             [
              0.2222222222222222,
              "#7201a8"
             ],
             [
              0.3333333333333333,
              "#9c179e"
             ],
             [
              0.4444444444444444,
              "#bd3786"
             ],
             [
              0.5555555555555556,
              "#d8576b"
             ],
             [
              0.6666666666666666,
              "#ed7953"
             ],
             [
              0.7777777777777778,
              "#fb9f3a"
             ],
             [
              0.8888888888888888,
              "#fdca26"
             ],
             [
              1,
              "#f0f921"
             ]
            ],
            "type": "histogram2dcontour"
           }
          ],
          "mesh3d": [
           {
            "colorbar": {
             "outlinewidth": 0,
             "ticks": ""
            },
            "type": "mesh3d"
           }
          ],
          "parcoords": [
           {
            "line": {
             "colorbar": {
              "outlinewidth": 0,
              "ticks": ""
             }
            },
            "type": "parcoords"
           }
          ],
          "pie": [
           {
            "automargin": true,
            "type": "pie"
           }
          ],
          "scatter": [
           {
            "fillpattern": {
             "fillmode": "overlay",
             "size": 10,
             "solidity": 0.2
            },
            "type": "scatter"
           }
          ],
          "scatter3d": [
           {
            "line": {
             "colorbar": {
              "outlinewidth": 0,
              "ticks": ""
             }
            },
            "marker": {
             "colorbar": {
              "outlinewidth": 0,
              "ticks": ""
             }
            },
            "type": "scatter3d"
           }
          ],
          "scattercarpet": [
           {
            "marker": {
             "colorbar": {
              "outlinewidth": 0,
              "ticks": ""
             }
            },
            "type": "scattercarpet"
           }
          ],
          "scattergeo": [
           {
            "marker": {
             "colorbar": {
              "outlinewidth": 0,
              "ticks": ""
             }
            },
            "type": "scattergeo"
           }
          ],
          "scattergl": [
           {
            "marker": {
             "colorbar": {
              "outlinewidth": 0,
              "ticks": ""
             }
            },
            "type": "scattergl"
           }
          ],
          "scattermapbox": [
           {
            "marker": {
             "colorbar": {
              "outlinewidth": 0,
              "ticks": ""
             }
            },
            "type": "scattermapbox"
           }
          ],
          "scatterpolar": [
           {
            "marker": {
             "colorbar": {
              "outlinewidth": 0,
              "ticks": ""
             }
            },
            "type": "scatterpolar"
           }
          ],
          "scatterpolargl": [
           {
            "marker": {
             "colorbar": {
              "outlinewidth": 0,
              "ticks": ""
             }
            },
            "type": "scatterpolargl"
           }
          ],
          "scatterternary": [
           {
            "marker": {
             "colorbar": {
              "outlinewidth": 0,
              "ticks": ""
             }
            },
            "type": "scatterternary"
           }
          ],
          "surface": [
           {
            "colorbar": {
             "outlinewidth": 0,
             "ticks": ""
            },
            "colorscale": [
             [
              0,
              "#0d0887"
             ],
             [
              0.1111111111111111,
              "#46039f"
             ],
             [
              0.2222222222222222,
              "#7201a8"
             ],
             [
              0.3333333333333333,
              "#9c179e"
             ],
             [
              0.4444444444444444,
              "#bd3786"
             ],
             [
              0.5555555555555556,
              "#d8576b"
             ],
             [
              0.6666666666666666,
              "#ed7953"
             ],
             [
              0.7777777777777778,
              "#fb9f3a"
             ],
             [
              0.8888888888888888,
              "#fdca26"
             ],
             [
              1,
              "#f0f921"
             ]
            ],
            "type": "surface"
           }
          ],
          "table": [
           {
            "cells": {
             "fill": {
              "color": "#EBF0F8"
             },
             "line": {
              "color": "white"
             }
            },
            "header": {
             "fill": {
              "color": "#C8D4E3"
             },
             "line": {
              "color": "white"
             }
            },
            "type": "table"
           }
          ]
         },
         "layout": {
          "annotationdefaults": {
           "arrowcolor": "#2a3f5f",
           "arrowhead": 0,
           "arrowwidth": 1
          },
          "autotypenumbers": "strict",
          "coloraxis": {
           "colorbar": {
            "outlinewidth": 0,
            "ticks": ""
           }
          },
          "colorscale": {
           "diverging": [
            [
             0,
             "#8e0152"
            ],
            [
             0.1,
             "#c51b7d"
            ],
            [
             0.2,
             "#de77ae"
            ],
            [
             0.3,
             "#f1b6da"
            ],
            [
             0.4,
             "#fde0ef"
            ],
            [
             0.5,
             "#f7f7f7"
            ],
            [
             0.6,
             "#e6f5d0"
            ],
            [
             0.7,
             "#b8e186"
            ],
            [
             0.8,
             "#7fbc41"
            ],
            [
             0.9,
             "#4d9221"
            ],
            [
             1,
             "#276419"
            ]
           ],
           "sequential": [
            [
             0,
             "#0d0887"
            ],
            [
             0.1111111111111111,
             "#46039f"
            ],
            [
             0.2222222222222222,
             "#7201a8"
            ],
            [
             0.3333333333333333,
             "#9c179e"
            ],
            [
             0.4444444444444444,
             "#bd3786"
            ],
            [
             0.5555555555555556,
             "#d8576b"
            ],
            [
             0.6666666666666666,
             "#ed7953"
            ],
            [
             0.7777777777777778,
             "#fb9f3a"
            ],
            [
             0.8888888888888888,
             "#fdca26"
            ],
            [
             1,
             "#f0f921"
            ]
           ],
           "sequentialminus": [
            [
             0,
             "#0d0887"
            ],
            [
             0.1111111111111111,
             "#46039f"
            ],
            [
             0.2222222222222222,
             "#7201a8"
            ],
            [
             0.3333333333333333,
             "#9c179e"
            ],
            [
             0.4444444444444444,
             "#bd3786"
            ],
            [
             0.5555555555555556,
             "#d8576b"
            ],
            [
             0.6666666666666666,
             "#ed7953"
            ],
            [
             0.7777777777777778,
             "#fb9f3a"
            ],
            [
             0.8888888888888888,
             "#fdca26"
            ],
            [
             1,
             "#f0f921"
            ]
           ]
          },
          "colorway": [
           "#636efa",
           "#EF553B",
           "#00cc96",
           "#ab63fa",
           "#FFA15A",
           "#19d3f3",
           "#FF6692",
           "#B6E880",
           "#FF97FF",
           "#FECB52"
          ],
          "font": {
           "color": "#2a3f5f"
          },
          "geo": {
           "bgcolor": "white",
           "lakecolor": "white",
           "landcolor": "white",
           "showlakes": true,
           "showland": true,
           "subunitcolor": "#C8D4E3"
          },
          "hoverlabel": {
           "align": "left"
          },
          "hovermode": "closest",
          "mapbox": {
           "style": "light"
          },
          "paper_bgcolor": "white",
          "plot_bgcolor": "white",
          "polar": {
           "angularaxis": {
            "gridcolor": "#EBF0F8",
            "linecolor": "#EBF0F8",
            "ticks": ""
           },
           "bgcolor": "white",
           "radialaxis": {
            "gridcolor": "#EBF0F8",
            "linecolor": "#EBF0F8",
            "ticks": ""
           }
          },
          "scene": {
           "xaxis": {
            "backgroundcolor": "white",
            "gridcolor": "#DFE8F3",
            "gridwidth": 2,
            "linecolor": "#EBF0F8",
            "showbackground": true,
            "ticks": "",
            "zerolinecolor": "#EBF0F8"
           },
           "yaxis": {
            "backgroundcolor": "white",
            "gridcolor": "#DFE8F3",
            "gridwidth": 2,
            "linecolor": "#EBF0F8",
            "showbackground": true,
            "ticks": "",
            "zerolinecolor": "#EBF0F8"
           },
           "zaxis": {
            "backgroundcolor": "white",
            "gridcolor": "#DFE8F3",
            "gridwidth": 2,
            "linecolor": "#EBF0F8",
            "showbackground": true,
            "ticks": "",
            "zerolinecolor": "#EBF0F8"
           }
          },
          "shapedefaults": {
           "line": {
            "color": "#2a3f5f"
           }
          },
          "ternary": {
           "aaxis": {
            "gridcolor": "#DFE8F3",
            "linecolor": "#A2B1C6",
            "ticks": ""
           },
           "baxis": {
            "gridcolor": "#DFE8F3",
            "linecolor": "#A2B1C6",
            "ticks": ""
           },
           "bgcolor": "white",
           "caxis": {
            "gridcolor": "#DFE8F3",
            "linecolor": "#A2B1C6",
            "ticks": ""
           }
          },
          "title": {
           "x": 0.05
          },
          "xaxis": {
           "automargin": true,
           "gridcolor": "#EBF0F8",
           "linecolor": "#EBF0F8",
           "ticks": "",
           "title": {
            "standoff": 15
           },
           "zerolinecolor": "#EBF0F8",
           "zerolinewidth": 2
          },
          "yaxis": {
           "automargin": true,
           "gridcolor": "#EBF0F8",
           "linecolor": "#EBF0F8",
           "ticks": "",
           "title": {
            "standoff": 15
           },
           "zerolinecolor": "#EBF0F8",
           "zerolinewidth": 2
          }
         }
        },
        "title": {
         "text": "Weights of columns"
        },
        "xaxis": {
         "title": {
          "text": "columns"
         }
        },
        "yaxis": {
         "title": {
          "text": "weights"
         }
        }
       }
      }
     },
     "metadata": {},
     "output_type": "display_data"
    },
    {
     "data": {
      "text/plain": [
       "None"
      ]
     },
     "metadata": {},
     "output_type": "display_data"
    },
    {
     "data": {
      "text/html": [
       "<div>\n",
       "<style scoped>\n",
       "    .dataframe tbody tr th:only-of-type {\n",
       "        vertical-align: middle;\n",
       "    }\n",
       "\n",
       "    .dataframe tbody tr th {\n",
       "        vertical-align: top;\n",
       "    }\n",
       "\n",
       "    .dataframe thead th {\n",
       "        text-align: right;\n",
       "    }\n",
       "</style>\n",
       "<table border=\"1\" class=\"dataframe\">\n",
       "  <thead>\n",
       "    <tr style=\"text-align: right;\">\n",
       "      <th></th>\n",
       "      <th>1993_population</th>\n",
       "      <th>1994_population</th>\n",
       "      <th>1995_population</th>\n",
       "      <th>1996_population</th>\n",
       "      <th>1997_population</th>\n",
       "      <th>1998_population</th>\n",
       "      <th>1999_population</th>\n",
       "      <th>2000_population</th>\n",
       "      <th>2001_population</th>\n",
       "      <th>2002_population</th>\n",
       "      <th>...</th>\n",
       "      <th>2013_spending_HHS</th>\n",
       "      <th>2014_spending_HHS</th>\n",
       "      <th>2015_spending_HHS</th>\n",
       "      <th>2016_spending_HHS</th>\n",
       "      <th>2017_spending_HHS</th>\n",
       "      <th>2018_spending_HHS</th>\n",
       "      <th>2019_spending_HHS</th>\n",
       "      <th>2020_spending_HHS</th>\n",
       "      <th>2021_spending_HHS</th>\n",
       "      <th>distance to 42001</th>\n",
       "    </tr>\n",
       "  </thead>\n",
       "  <tbody>\n",
       "    <tr>\n",
       "      <th>2235</th>\n",
       "      <td>83013.0</td>\n",
       "      <td>84186.0</td>\n",
       "      <td>85063.0</td>\n",
       "      <td>86252.0</td>\n",
       "      <td>87751.0</td>\n",
       "      <td>89074.0</td>\n",
       "      <td>90363.0</td>\n",
       "      <td>91457.0</td>\n",
       "      <td>92591.0</td>\n",
       "      <td>93934.0</td>\n",
       "      <td>...</td>\n",
       "      <td>6.841459e+07</td>\n",
       "      <td>2.843109e+07</td>\n",
       "      <td>1.022756e+07</td>\n",
       "      <td>3.068268e+07</td>\n",
       "      <td>2.081153e+07</td>\n",
       "      <td>3.134013e+07</td>\n",
       "      <td>5.207267e+07</td>\n",
       "      <td>3.151378e+07</td>\n",
       "      <td>4.473508e+07</td>\n",
       "      <td>0.000000</td>\n",
       "    </tr>\n",
       "    <tr>\n",
       "      <th>3006</th>\n",
       "      <td>92876.0</td>\n",
       "      <td>93717.0</td>\n",
       "      <td>94509.0</td>\n",
       "      <td>95529.0</td>\n",
       "      <td>95998.0</td>\n",
       "      <td>96512.0</td>\n",
       "      <td>96985.0</td>\n",
       "      <td>97390.0</td>\n",
       "      <td>97856.0</td>\n",
       "      <td>98097.0</td>\n",
       "      <td>...</td>\n",
       "      <td>2.548639e+07</td>\n",
       "      <td>3.562433e+07</td>\n",
       "      <td>2.471649e+07</td>\n",
       "      <td>3.263073e+07</td>\n",
       "      <td>5.403922e+07</td>\n",
       "      <td>4.703442e+07</td>\n",
       "      <td>5.464052e+07</td>\n",
       "      <td>5.844357e+07</td>\n",
       "      <td>7.377923e+07</td>\n",
       "      <td>0.026253</td>\n",
       "    </tr>\n",
       "    <tr>\n",
       "      <th>1244</th>\n",
       "      <td>96534.0</td>\n",
       "      <td>97920.0</td>\n",
       "      <td>99350.0</td>\n",
       "      <td>100660.0</td>\n",
       "      <td>101474.0</td>\n",
       "      <td>102280.0</td>\n",
       "      <td>102991.0</td>\n",
       "      <td>104000.0</td>\n",
       "      <td>104848.0</td>\n",
       "      <td>105794.0</td>\n",
       "      <td>...</td>\n",
       "      <td>5.135486e+07</td>\n",
       "      <td>1.685584e+07</td>\n",
       "      <td>2.075568e+07</td>\n",
       "      <td>6.394366e+07</td>\n",
       "      <td>2.995285e+07</td>\n",
       "      <td>6.536969e+07</td>\n",
       "      <td>5.782530e+07</td>\n",
       "      <td>6.692654e+07</td>\n",
       "      <td>4.542509e+07</td>\n",
       "      <td>0.030965</td>\n",
       "    </tr>\n",
       "    <tr>\n",
       "      <th>7</th>\n",
       "      <td>116324.0</td>\n",
       "      <td>116161.0</td>\n",
       "      <td>116790.0</td>\n",
       "      <td>116684.0</td>\n",
       "      <td>117254.0</td>\n",
       "      <td>117179.0</td>\n",
       "      <td>114910.0</td>\n",
       "      <td>111081.0</td>\n",
       "      <td>111266.0</td>\n",
       "      <td>111625.0</td>\n",
       "      <td>...</td>\n",
       "      <td>3.943803e+07</td>\n",
       "      <td>4.531137e+07</td>\n",
       "      <td>3.266888e+07</td>\n",
       "      <td>3.188817e+07</td>\n",
       "      <td>3.195046e+07</td>\n",
       "      <td>4.203667e+07</td>\n",
       "      <td>2.714948e+07</td>\n",
       "      <td>2.231390e+07</td>\n",
       "      <td>2.433614e+07</td>\n",
       "      <td>0.033050</td>\n",
       "    </tr>\n",
       "    <tr>\n",
       "      <th>1853</th>\n",
       "      <td>98327.0</td>\n",
       "      <td>98509.0</td>\n",
       "      <td>98816.0</td>\n",
       "      <td>99509.0</td>\n",
       "      <td>99693.0</td>\n",
       "      <td>99603.0</td>\n",
       "      <td>99802.0</td>\n",
       "      <td>100106.0</td>\n",
       "      <td>100819.0</td>\n",
       "      <td>101763.0</td>\n",
       "      <td>...</td>\n",
       "      <td>2.743605e+07</td>\n",
       "      <td>1.820944e+07</td>\n",
       "      <td>7.596719e+06</td>\n",
       "      <td>1.534277e+07</td>\n",
       "      <td>5.635192e+07</td>\n",
       "      <td>2.467059e+07</td>\n",
       "      <td>1.403323e+07</td>\n",
       "      <td>4.650258e+07</td>\n",
       "      <td>4.890882e+07</td>\n",
       "      <td>0.034477</td>\n",
       "    </tr>\n",
       "    <tr>\n",
       "      <th>...</th>\n",
       "      <td>...</td>\n",
       "      <td>...</td>\n",
       "      <td>...</td>\n",
       "      <td>...</td>\n",
       "      <td>...</td>\n",
       "      <td>...</td>\n",
       "      <td>...</td>\n",
       "      <td>...</td>\n",
       "      <td>...</td>\n",
       "      <td>...</td>\n",
       "      <td>...</td>\n",
       "      <td>...</td>\n",
       "      <td>...</td>\n",
       "      <td>...</td>\n",
       "      <td>...</td>\n",
       "      <td>...</td>\n",
       "      <td>...</td>\n",
       "      <td>...</td>\n",
       "      <td>...</td>\n",
       "      <td>...</td>\n",
       "      <td>...</td>\n",
       "    </tr>\n",
       "    <tr>\n",
       "      <th>2384</th>\n",
       "      <td>15660.0</td>\n",
       "      <td>15902.0</td>\n",
       "      <td>15997.0</td>\n",
       "      <td>16082.0</td>\n",
       "      <td>16053.0</td>\n",
       "      <td>16129.0</td>\n",
       "      <td>16386.0</td>\n",
       "      <td>16505.0</td>\n",
       "      <td>16351.0</td>\n",
       "      <td>16479.0</td>\n",
       "      <td>...</td>\n",
       "      <td>4.016453e+09</td>\n",
       "      <td>3.975215e+09</td>\n",
       "      <td>4.085792e+09</td>\n",
       "      <td>3.715688e+09</td>\n",
       "      <td>6.654582e+09</td>\n",
       "      <td>7.660348e+09</td>\n",
       "      <td>1.127461e+10</td>\n",
       "      <td>1.530217e+10</td>\n",
       "      <td>1.712052e+10</td>\n",
       "      <td>2.369198</td>\n",
       "    </tr>\n",
       "    <tr>\n",
       "      <th>2740</th>\n",
       "      <td>649226.0</td>\n",
       "      <td>671759.0</td>\n",
       "      <td>696278.0</td>\n",
       "      <td>717194.0</td>\n",
       "      <td>736587.0</td>\n",
       "      <td>761335.0</td>\n",
       "      <td>788500.0</td>\n",
       "      <td>819692.0</td>\n",
       "      <td>844877.0</td>\n",
       "      <td>848090.0</td>\n",
       "      <td>...</td>\n",
       "      <td>2.225282e+11</td>\n",
       "      <td>2.231797e+11</td>\n",
       "      <td>2.118196e+11</td>\n",
       "      <td>2.138400e+11</td>\n",
       "      <td>2.527288e+11</td>\n",
       "      <td>3.552319e+11</td>\n",
       "      <td>4.896949e+11</td>\n",
       "      <td>6.288495e+11</td>\n",
       "      <td>7.776532e+11</td>\n",
       "      <td>2.469107</td>\n",
       "    </tr>\n",
       "    <tr>\n",
       "      <th>198</th>\n",
       "      <td>9100159.0</td>\n",
       "      <td>9096608.0</td>\n",
       "      <td>9089015.0</td>\n",
       "      <td>9127042.0</td>\n",
       "      <td>9206538.0</td>\n",
       "      <td>9313589.0</td>\n",
       "      <td>9437290.0</td>\n",
       "      <td>9538191.0</td>\n",
       "      <td>9626034.0</td>\n",
       "      <td>9705913.0</td>\n",
       "      <td>...</td>\n",
       "      <td>2.348763e+10</td>\n",
       "      <td>2.294435e+10</td>\n",
       "      <td>2.502567e+10</td>\n",
       "      <td>2.839330e+10</td>\n",
       "      <td>3.868660e+10</td>\n",
       "      <td>5.899629e+10</td>\n",
       "      <td>1.410259e+11</td>\n",
       "      <td>2.187211e+11</td>\n",
       "      <td>2.577860e+11</td>\n",
       "      <td>2.725159</td>\n",
       "    </tr>\n",
       "    <tr>\n",
       "      <th>1819</th>\n",
       "      <td>298592.0</td>\n",
       "      <td>300262.0</td>\n",
       "      <td>299725.0</td>\n",
       "      <td>297680.0</td>\n",
       "      <td>296187.0</td>\n",
       "      <td>295097.0</td>\n",
       "      <td>294692.0</td>\n",
       "      <td>295106.0</td>\n",
       "      <td>296232.0</td>\n",
       "      <td>298283.0</td>\n",
       "      <td>...</td>\n",
       "      <td>3.271360e+11</td>\n",
       "      <td>3.134117e+11</td>\n",
       "      <td>3.894925e+11</td>\n",
       "      <td>3.271486e+11</td>\n",
       "      <td>7.462131e+11</td>\n",
       "      <td>6.579396e+11</td>\n",
       "      <td>8.941410e+11</td>\n",
       "      <td>9.732370e+11</td>\n",
       "      <td>9.351828e+11</td>\n",
       "      <td>2.941499</td>\n",
       "    </tr>\n",
       "    <tr>\n",
       "      <th>213</th>\n",
       "      <td>1127608.0</td>\n",
       "      <td>1130094.0</td>\n",
       "      <td>1140825.0</td>\n",
       "      <td>1155635.0</td>\n",
       "      <td>1169855.0</td>\n",
       "      <td>1186617.0</td>\n",
       "      <td>1206659.0</td>\n",
       "      <td>1229940.0</td>\n",
       "      <td>1266257.0</td>\n",
       "      <td>1301079.0</td>\n",
       "      <td>...</td>\n",
       "      <td>3.614194e+11</td>\n",
       "      <td>4.741250e+11</td>\n",
       "      <td>3.639794e+11</td>\n",
       "      <td>3.878961e+11</td>\n",
       "      <td>3.388018e+11</td>\n",
       "      <td>1.298456e+12</td>\n",
       "      <td>1.235765e+12</td>\n",
       "      <td>1.717218e+12</td>\n",
       "      <td>1.842294e+12</td>\n",
       "      <td>3.359044</td>\n",
       "    </tr>\n",
       "  </tbody>\n",
       "</table>\n",
       "<p>3082 rows × 42 columns</p>\n",
       "</div>"
      ],
      "text/plain": [
       "      1993_population  1994_population  1995_population  1996_population  \\\n",
       "2235          83013.0          84186.0          85063.0          86252.0   \n",
       "3006          92876.0          93717.0          94509.0          95529.0   \n",
       "1244          96534.0          97920.0          99350.0         100660.0   \n",
       "7            116324.0         116161.0         116790.0         116684.0   \n",
       "1853          98327.0          98509.0          98816.0          99509.0   \n",
       "...               ...              ...              ...              ...   \n",
       "2384          15660.0          15902.0          15997.0          16082.0   \n",
       "2740         649226.0         671759.0         696278.0         717194.0   \n",
       "198         9100159.0        9096608.0        9089015.0        9127042.0   \n",
       "1819         298592.0         300262.0         299725.0         297680.0   \n",
       "213         1127608.0        1130094.0        1140825.0        1155635.0   \n",
       "\n",
       "      1997_population  1998_population  1999_population  2000_population  \\\n",
       "2235          87751.0          89074.0          90363.0          91457.0   \n",
       "3006          95998.0          96512.0          96985.0          97390.0   \n",
       "1244         101474.0         102280.0         102991.0         104000.0   \n",
       "7            117254.0         117179.0         114910.0         111081.0   \n",
       "1853          99693.0          99603.0          99802.0         100106.0   \n",
       "...               ...              ...              ...              ...   \n",
       "2384          16053.0          16129.0          16386.0          16505.0   \n",
       "2740         736587.0         761335.0         788500.0         819692.0   \n",
       "198         9206538.0        9313589.0        9437290.0        9538191.0   \n",
       "1819         296187.0         295097.0         294692.0         295106.0   \n",
       "213         1169855.0        1186617.0        1206659.0        1229940.0   \n",
       "\n",
       "      2001_population  2002_population  ...  2013_spending_HHS  \\\n",
       "2235          92591.0          93934.0  ...       6.841459e+07   \n",
       "3006          97856.0          98097.0  ...       2.548639e+07   \n",
       "1244         104848.0         105794.0  ...       5.135486e+07   \n",
       "7            111266.0         111625.0  ...       3.943803e+07   \n",
       "1853         100819.0         101763.0  ...       2.743605e+07   \n",
       "...               ...              ...  ...                ...   \n",
       "2384          16351.0          16479.0  ...       4.016453e+09   \n",
       "2740         844877.0         848090.0  ...       2.225282e+11   \n",
       "198         9626034.0        9705913.0  ...       2.348763e+10   \n",
       "1819         296232.0         298283.0  ...       3.271360e+11   \n",
       "213         1266257.0        1301079.0  ...       3.614194e+11   \n",
       "\n",
       "      2014_spending_HHS  2015_spending_HHS  2016_spending_HHS  \\\n",
       "2235       2.843109e+07       1.022756e+07       3.068268e+07   \n",
       "3006       3.562433e+07       2.471649e+07       3.263073e+07   \n",
       "1244       1.685584e+07       2.075568e+07       6.394366e+07   \n",
       "7          4.531137e+07       3.266888e+07       3.188817e+07   \n",
       "1853       1.820944e+07       7.596719e+06       1.534277e+07   \n",
       "...                 ...                ...                ...   \n",
       "2384       3.975215e+09       4.085792e+09       3.715688e+09   \n",
       "2740       2.231797e+11       2.118196e+11       2.138400e+11   \n",
       "198        2.294435e+10       2.502567e+10       2.839330e+10   \n",
       "1819       3.134117e+11       3.894925e+11       3.271486e+11   \n",
       "213        4.741250e+11       3.639794e+11       3.878961e+11   \n",
       "\n",
       "      2017_spending_HHS  2018_spending_HHS  2019_spending_HHS  \\\n",
       "2235       2.081153e+07       3.134013e+07       5.207267e+07   \n",
       "3006       5.403922e+07       4.703442e+07       5.464052e+07   \n",
       "1244       2.995285e+07       6.536969e+07       5.782530e+07   \n",
       "7          3.195046e+07       4.203667e+07       2.714948e+07   \n",
       "1853       5.635192e+07       2.467059e+07       1.403323e+07   \n",
       "...                 ...                ...                ...   \n",
       "2384       6.654582e+09       7.660348e+09       1.127461e+10   \n",
       "2740       2.527288e+11       3.552319e+11       4.896949e+11   \n",
       "198        3.868660e+10       5.899629e+10       1.410259e+11   \n",
       "1819       7.462131e+11       6.579396e+11       8.941410e+11   \n",
       "213        3.388018e+11       1.298456e+12       1.235765e+12   \n",
       "\n",
       "      2020_spending_HHS  2021_spending_HHS  distance to 42001  \n",
       "2235       3.151378e+07       4.473508e+07           0.000000  \n",
       "3006       5.844357e+07       7.377923e+07           0.026253  \n",
       "1244       6.692654e+07       4.542509e+07           0.030965  \n",
       "7          2.231390e+07       2.433614e+07           0.033050  \n",
       "1853       4.650258e+07       4.890882e+07           0.034477  \n",
       "...                 ...                ...                ...  \n",
       "2384       1.530217e+10       1.712052e+10           2.369198  \n",
       "2740       6.288495e+11       7.776532e+11           2.469107  \n",
       "198        2.187211e+11       2.577860e+11           2.725159  \n",
       "1819       9.732370e+11       9.351828e+11           2.941499  \n",
       "213        1.717218e+12       1.842294e+12           3.359044  \n",
       "\n",
       "[3082 rows x 42 columns]"
      ]
     },
     "metadata": {},
     "output_type": "display_data"
    }
   ],
   "source": [
    "# You don't want to pass outcome and are interested in similarities\n",
    "print(list_available_features())\n",
    "f  = FipsQuery(42001, feature_groups_with_weights= {\"population\":4, \"spending_HHS\": 3})\n",
    "f.find_euclidean_kins()\n",
    "display(f.plot_weights())\n",
    "display(f.euclidean_kins)"
   ]
  },
  {
   "cell_type": "code",
   "execution_count": 3,
   "metadata": {},
   "outputs": [
    {
     "name": "stdout",
     "output_type": "stream",
     "text": [
      "['population', 'spending_commerce', 'industry', 'spending_transportation', 'spending_HHS', 'ethnic_composition', 'transport', 'urbanization', 'gdp']\n"
     ]
    },
    {
     "data": {
      "application/vnd.plotly.v1+json": {
       "config": {
        "plotlyServerURL": "https://plot.ly"
       },
       "data": [
        {
         "type": "bar",
         "x": [
          "2010_spending_HHS",
          "2011_spending_HHS",
          "2012_spending_HHS",
          "2013_spending_HHS",
          "2014_spending_HHS",
          "2015_spending_HHS",
          "2016_spending_HHS",
          "2017_spending_HHS",
          "2018_spending_HHS",
          "2019_spending_HHS",
          "2020_spending_HHS",
          "2021_spending_HHS",
          "1993_population",
          "1994_population",
          "1995_population",
          "1996_population",
          "1997_population",
          "1998_population",
          "1999_population",
          "2000_population",
          "2001_population",
          "2002_population",
          "2003_population",
          "2004_population",
          "2005_population",
          "2006_population",
          "2007_population",
          "2008_population",
          "2009_population",
          "2010_population",
          "2011_population",
          "2012_population",
          "2013_population",
          "2014_population",
          "2015_population",
          "2016_population",
          "2017_population",
          "2018_population",
          "2019_population",
          "2020_population",
          "2021_population"
         ],
         "y": [
          0,
          0,
          0,
          0,
          0,
          0,
          0,
          0,
          0,
          0,
          0,
          0,
          0.03847414014225456,
          0.04155207135363493,
          0.04487623706192573,
          0.04846633602687978,
          0.05234364290903017,
          0.056531134341752595,
          0.0610536250890928,
          0.06593791509622024,
          0.07121294830391786,
          0.07690998416823129,
          0.08306278290168981,
          0.08970780553382499,
          0.09688442997653099,
          0.10463518437465348,
          0.11300599912462576,
          0.12204647905459583,
          0.13181019737896352,
          0.14235501316928062,
          0.15374341422282306,
          0.1660428873606489,
          0.17932631834950083,
          0.19367242381746091,
          0.20916621772285782,
          0.22589951514068643,
          0.24397147635194139,
          0.2634891944600967,
          0.28456833001690446,
          0.30733379641825687,
          0.3319205001317174
         ]
        }
       ],
       "layout": {
        "template": {
         "data": {
          "bar": [
           {
            "error_x": {
             "color": "#2a3f5f"
            },
            "error_y": {
             "color": "#2a3f5f"
            },
            "marker": {
             "line": {
              "color": "white",
              "width": 0.5
             },
             "pattern": {
              "fillmode": "overlay",
              "size": 10,
              "solidity": 0.2
             }
            },
            "type": "bar"
           }
          ],
          "barpolar": [
           {
            "marker": {
             "line": {
              "color": "white",
              "width": 0.5
             },
             "pattern": {
              "fillmode": "overlay",
              "size": 10,
              "solidity": 0.2
             }
            },
            "type": "barpolar"
           }
          ],
          "carpet": [
           {
            "aaxis": {
             "endlinecolor": "#2a3f5f",
             "gridcolor": "#C8D4E3",
             "linecolor": "#C8D4E3",
             "minorgridcolor": "#C8D4E3",
             "startlinecolor": "#2a3f5f"
            },
            "baxis": {
             "endlinecolor": "#2a3f5f",
             "gridcolor": "#C8D4E3",
             "linecolor": "#C8D4E3",
             "minorgridcolor": "#C8D4E3",
             "startlinecolor": "#2a3f5f"
            },
            "type": "carpet"
           }
          ],
          "choropleth": [
           {
            "colorbar": {
             "outlinewidth": 0,
             "ticks": ""
            },
            "type": "choropleth"
           }
          ],
          "contour": [
           {
            "colorbar": {
             "outlinewidth": 0,
             "ticks": ""
            },
            "colorscale": [
             [
              0,
              "#0d0887"
             ],
             [
              0.1111111111111111,
              "#46039f"
             ],
             [
              0.2222222222222222,
              "#7201a8"
             ],
             [
              0.3333333333333333,
              "#9c179e"
             ],
             [
              0.4444444444444444,
              "#bd3786"
             ],
             [
              0.5555555555555556,
              "#d8576b"
             ],
             [
              0.6666666666666666,
              "#ed7953"
             ],
             [
              0.7777777777777778,
              "#fb9f3a"
             ],
             [
              0.8888888888888888,
              "#fdca26"
             ],
             [
              1,
              "#f0f921"
             ]
            ],
            "type": "contour"
           }
          ],
          "contourcarpet": [
           {
            "colorbar": {
             "outlinewidth": 0,
             "ticks": ""
            },
            "type": "contourcarpet"
           }
          ],
          "heatmap": [
           {
            "colorbar": {
             "outlinewidth": 0,
             "ticks": ""
            },
            "colorscale": [
             [
              0,
              "#0d0887"
             ],
             [
              0.1111111111111111,
              "#46039f"
             ],
             [
              0.2222222222222222,
              "#7201a8"
             ],
             [
              0.3333333333333333,
              "#9c179e"
             ],
             [
              0.4444444444444444,
              "#bd3786"
             ],
             [
              0.5555555555555556,
              "#d8576b"
             ],
             [
              0.6666666666666666,
              "#ed7953"
             ],
             [
              0.7777777777777778,
              "#fb9f3a"
             ],
             [
              0.8888888888888888,
              "#fdca26"
             ],
             [
              1,
              "#f0f921"
             ]
            ],
            "type": "heatmap"
           }
          ],
          "heatmapgl": [
           {
            "colorbar": {
             "outlinewidth": 0,
             "ticks": ""
            },
            "colorscale": [
             [
              0,
              "#0d0887"
             ],
             [
              0.1111111111111111,
              "#46039f"
             ],
             [
              0.2222222222222222,
              "#7201a8"
             ],
             [
              0.3333333333333333,
              "#9c179e"
             ],
             [
              0.4444444444444444,
              "#bd3786"
             ],
             [
              0.5555555555555556,
              "#d8576b"
             ],
             [
              0.6666666666666666,
              "#ed7953"
             ],
             [
              0.7777777777777778,
              "#fb9f3a"
             ],
             [
              0.8888888888888888,
              "#fdca26"
             ],
             [
              1,
              "#f0f921"
             ]
            ],
            "type": "heatmapgl"
           }
          ],
          "histogram": [
           {
            "marker": {
             "pattern": {
              "fillmode": "overlay",
              "size": 10,
              "solidity": 0.2
             }
            },
            "type": "histogram"
           }
          ],
          "histogram2d": [
           {
            "colorbar": {
             "outlinewidth": 0,
             "ticks": ""
            },
            "colorscale": [
             [
              0,
              "#0d0887"
             ],
             [
              0.1111111111111111,
              "#46039f"
             ],
             [
              0.2222222222222222,
              "#7201a8"
             ],
             [
              0.3333333333333333,
              "#9c179e"
             ],
             [
              0.4444444444444444,
              "#bd3786"
             ],
             [
              0.5555555555555556,
              "#d8576b"
             ],
             [
              0.6666666666666666,
              "#ed7953"
             ],
             [
              0.7777777777777778,
              "#fb9f3a"
             ],
             [
              0.8888888888888888,
              "#fdca26"
             ],
             [
              1,
              "#f0f921"
             ]
            ],
            "type": "histogram2d"
           }
          ],
          "histogram2dcontour": [
           {
            "colorbar": {
             "outlinewidth": 0,
             "ticks": ""
            },
            "colorscale": [
             [
              0,
              "#0d0887"
             ],
             [
              0.1111111111111111,
              "#46039f"
             ],
             [
              0.2222222222222222,
              "#7201a8"
             ],
             [
              0.3333333333333333,
              "#9c179e"
             ],
             [
              0.4444444444444444,
              "#bd3786"
             ],
             [
              0.5555555555555556,
              "#d8576b"
             ],
             [
              0.6666666666666666,
              "#ed7953"
             ],
             [
              0.7777777777777778,
              "#fb9f3a"
             ],
             [
              0.8888888888888888,
              "#fdca26"
             ],
             [
              1,
              "#f0f921"
             ]
            ],
            "type": "histogram2dcontour"
           }
          ],
          "mesh3d": [
           {
            "colorbar": {
             "outlinewidth": 0,
             "ticks": ""
            },
            "type": "mesh3d"
           }
          ],
          "parcoords": [
           {
            "line": {
             "colorbar": {
              "outlinewidth": 0,
              "ticks": ""
             }
            },
            "type": "parcoords"
           }
          ],
          "pie": [
           {
            "automargin": true,
            "type": "pie"
           }
          ],
          "scatter": [
           {
            "fillpattern": {
             "fillmode": "overlay",
             "size": 10,
             "solidity": 0.2
            },
            "type": "scatter"
           }
          ],
          "scatter3d": [
           {
            "line": {
             "colorbar": {
              "outlinewidth": 0,
              "ticks": ""
             }
            },
            "marker": {
             "colorbar": {
              "outlinewidth": 0,
              "ticks": ""
             }
            },
            "type": "scatter3d"
           }
          ],
          "scattercarpet": [
           {
            "marker": {
             "colorbar": {
              "outlinewidth": 0,
              "ticks": ""
             }
            },
            "type": "scattercarpet"
           }
          ],
          "scattergeo": [
           {
            "marker": {
             "colorbar": {
              "outlinewidth": 0,
              "ticks": ""
             }
            },
            "type": "scattergeo"
           }
          ],
          "scattergl": [
           {
            "marker": {
             "colorbar": {
              "outlinewidth": 0,
              "ticks": ""
             }
            },
            "type": "scattergl"
           }
          ],
          "scattermapbox": [
           {
            "marker": {
             "colorbar": {
              "outlinewidth": 0,
              "ticks": ""
             }
            },
            "type": "scattermapbox"
           }
          ],
          "scatterpolar": [
           {
            "marker": {
             "colorbar": {
              "outlinewidth": 0,
              "ticks": ""
             }
            },
            "type": "scatterpolar"
           }
          ],
          "scatterpolargl": [
           {
            "marker": {
             "colorbar": {
              "outlinewidth": 0,
              "ticks": ""
             }
            },
            "type": "scatterpolargl"
           }
          ],
          "scatterternary": [
           {
            "marker": {
             "colorbar": {
              "outlinewidth": 0,
              "ticks": ""
             }
            },
            "type": "scatterternary"
           }
          ],
          "surface": [
           {
            "colorbar": {
             "outlinewidth": 0,
             "ticks": ""
            },
            "colorscale": [
             [
              0,
              "#0d0887"
             ],
             [
              0.1111111111111111,
              "#46039f"
             ],
             [
              0.2222222222222222,
              "#7201a8"
             ],
             [
              0.3333333333333333,
              "#9c179e"
             ],
             [
              0.4444444444444444,
              "#bd3786"
             ],
             [
              0.5555555555555556,
              "#d8576b"
             ],
             [
              0.6666666666666666,
              "#ed7953"
             ],
             [
              0.7777777777777778,
              "#fb9f3a"
             ],
             [
              0.8888888888888888,
              "#fdca26"
             ],
             [
              1,
              "#f0f921"
             ]
            ],
            "type": "surface"
           }
          ],
          "table": [
           {
            "cells": {
             "fill": {
              "color": "#EBF0F8"
             },
             "line": {
              "color": "white"
             }
            },
            "header": {
             "fill": {
              "color": "#C8D4E3"
             },
             "line": {
              "color": "white"
             }
            },
            "type": "table"
           }
          ]
         },
         "layout": {
          "annotationdefaults": {
           "arrowcolor": "#2a3f5f",
           "arrowhead": 0,
           "arrowwidth": 1
          },
          "autotypenumbers": "strict",
          "coloraxis": {
           "colorbar": {
            "outlinewidth": 0,
            "ticks": ""
           }
          },
          "colorscale": {
           "diverging": [
            [
             0,
             "#8e0152"
            ],
            [
             0.1,
             "#c51b7d"
            ],
            [
             0.2,
             "#de77ae"
            ],
            [
             0.3,
             "#f1b6da"
            ],
            [
             0.4,
             "#fde0ef"
            ],
            [
             0.5,
             "#f7f7f7"
            ],
            [
             0.6,
             "#e6f5d0"
            ],
            [
             0.7,
             "#b8e186"
            ],
            [
             0.8,
             "#7fbc41"
            ],
            [
             0.9,
             "#4d9221"
            ],
            [
             1,
             "#276419"
            ]
           ],
           "sequential": [
            [
             0,
             "#0d0887"
            ],
            [
             0.1111111111111111,
             "#46039f"
            ],
            [
             0.2222222222222222,
             "#7201a8"
            ],
            [
             0.3333333333333333,
             "#9c179e"
            ],
            [
             0.4444444444444444,
             "#bd3786"
            ],
            [
             0.5555555555555556,
             "#d8576b"
            ],
            [
             0.6666666666666666,
             "#ed7953"
            ],
            [
             0.7777777777777778,
             "#fb9f3a"
            ],
            [
             0.8888888888888888,
             "#fdca26"
            ],
            [
             1,
             "#f0f921"
            ]
           ],
           "sequentialminus": [
            [
             0,
             "#0d0887"
            ],
            [
             0.1111111111111111,
             "#46039f"
            ],
            [
             0.2222222222222222,
             "#7201a8"
            ],
            [
             0.3333333333333333,
             "#9c179e"
            ],
            [
             0.4444444444444444,
             "#bd3786"
            ],
            [
             0.5555555555555556,
             "#d8576b"
            ],
            [
             0.6666666666666666,
             "#ed7953"
            ],
            [
             0.7777777777777778,
             "#fb9f3a"
            ],
            [
             0.8888888888888888,
             "#fdca26"
            ],
            [
             1,
             "#f0f921"
            ]
           ]
          },
          "colorway": [
           "#636efa",
           "#EF553B",
           "#00cc96",
           "#ab63fa",
           "#FFA15A",
           "#19d3f3",
           "#FF6692",
           "#B6E880",
           "#FF97FF",
           "#FECB52"
          ],
          "font": {
           "color": "#2a3f5f"
          },
          "geo": {
           "bgcolor": "white",
           "lakecolor": "white",
           "landcolor": "white",
           "showlakes": true,
           "showland": true,
           "subunitcolor": "#C8D4E3"
          },
          "hoverlabel": {
           "align": "left"
          },
          "hovermode": "closest",
          "mapbox": {
           "style": "light"
          },
          "paper_bgcolor": "white",
          "plot_bgcolor": "white",
          "polar": {
           "angularaxis": {
            "gridcolor": "#EBF0F8",
            "linecolor": "#EBF0F8",
            "ticks": ""
           },
           "bgcolor": "white",
           "radialaxis": {
            "gridcolor": "#EBF0F8",
            "linecolor": "#EBF0F8",
            "ticks": ""
           }
          },
          "scene": {
           "xaxis": {
            "backgroundcolor": "white",
            "gridcolor": "#DFE8F3",
            "gridwidth": 2,
            "linecolor": "#EBF0F8",
            "showbackground": true,
            "ticks": "",
            "zerolinecolor": "#EBF0F8"
           },
           "yaxis": {
            "backgroundcolor": "white",
            "gridcolor": "#DFE8F3",
            "gridwidth": 2,
            "linecolor": "#EBF0F8",
            "showbackground": true,
            "ticks": "",
            "zerolinecolor": "#EBF0F8"
           },
           "zaxis": {
            "backgroundcolor": "white",
            "gridcolor": "#DFE8F3",
            "gridwidth": 2,
            "linecolor": "#EBF0F8",
            "showbackground": true,
            "ticks": "",
            "zerolinecolor": "#EBF0F8"
           }
          },
          "shapedefaults": {
           "line": {
            "color": "#2a3f5f"
           }
          },
          "ternary": {
           "aaxis": {
            "gridcolor": "#DFE8F3",
            "linecolor": "#A2B1C6",
            "ticks": ""
           },
           "baxis": {
            "gridcolor": "#DFE8F3",
            "linecolor": "#A2B1C6",
            "ticks": ""
           },
           "bgcolor": "white",
           "caxis": {
            "gridcolor": "#DFE8F3",
            "linecolor": "#A2B1C6",
            "ticks": ""
           }
          },
          "title": {
           "x": 0.05
          },
          "xaxis": {
           "automargin": true,
           "gridcolor": "#EBF0F8",
           "linecolor": "#EBF0F8",
           "ticks": "",
           "title": {
            "standoff": 15
           },
           "zerolinecolor": "#EBF0F8",
           "zerolinewidth": 2
          },
          "yaxis": {
           "automargin": true,
           "gridcolor": "#EBF0F8",
           "linecolor": "#EBF0F8",
           "ticks": "",
           "title": {
            "standoff": 15
           },
           "zerolinecolor": "#EBF0F8",
           "zerolinewidth": 2
          }
         }
        },
        "title": {
         "text": "Weights of columns"
        },
        "xaxis": {
         "title": {
          "text": "columns"
         }
        },
        "yaxis": {
         "title": {
          "text": "weights"
         }
        }
       }
      }
     },
     "metadata": {},
     "output_type": "display_data"
    },
    {
     "data": {
      "text/plain": [
       "None"
      ]
     },
     "metadata": {},
     "output_type": "display_data"
    },
    {
     "data": {
      "text/html": [
       "<div>\n",
       "<style scoped>\n",
       "    .dataframe tbody tr th:only-of-type {\n",
       "        vertical-align: middle;\n",
       "    }\n",
       "\n",
       "    .dataframe tbody tr th {\n",
       "        vertical-align: top;\n",
       "    }\n",
       "\n",
       "    .dataframe thead th {\n",
       "        text-align: right;\n",
       "    }\n",
       "</style>\n",
       "<table border=\"1\" class=\"dataframe\">\n",
       "  <thead>\n",
       "    <tr style=\"text-align: right;\">\n",
       "      <th></th>\n",
       "      <th>GeoFIPS</th>\n",
       "      <th>GeoName</th>\n",
       "      <th>2010</th>\n",
       "      <th>2011</th>\n",
       "      <th>2012</th>\n",
       "      <th>2013</th>\n",
       "      <th>2014</th>\n",
       "      <th>2015</th>\n",
       "      <th>2016</th>\n",
       "      <th>2017</th>\n",
       "      <th>...</th>\n",
       "      <th>2014_population</th>\n",
       "      <th>2015_population</th>\n",
       "      <th>2016_population</th>\n",
       "      <th>2017_population</th>\n",
       "      <th>2018_population</th>\n",
       "      <th>2019_population</th>\n",
       "      <th>2020_population</th>\n",
       "      <th>2021_population</th>\n",
       "      <th>distance to 42001</th>\n",
       "      <th>percentile</th>\n",
       "    </tr>\n",
       "  </thead>\n",
       "  <tbody>\n",
       "    <tr>\n",
       "      <th>0</th>\n",
       "      <td>42001</td>\n",
       "      <td>Adams, PA</td>\n",
       "      <td>2.771827e+07</td>\n",
       "      <td>2.855134e+07</td>\n",
       "      <td>1.427164e+07</td>\n",
       "      <td>6.841459e+07</td>\n",
       "      <td>2.843109e+07</td>\n",
       "      <td>1.022756e+07</td>\n",
       "      <td>3.068268e+07</td>\n",
       "      <td>2.081153e+07</td>\n",
       "      <td>...</td>\n",
       "      <td>101830.0</td>\n",
       "      <td>102411.0</td>\n",
       "      <td>102625.0</td>\n",
       "      <td>103414.0</td>\n",
       "      <td>103932.0</td>\n",
       "      <td>103778.0</td>\n",
       "      <td>103795.0</td>\n",
       "      <td>104127.0</td>\n",
       "      <td>0.000000</td>\n",
       "      <td>63.85</td>\n",
       "    </tr>\n",
       "    <tr>\n",
       "      <th>1</th>\n",
       "      <td>55039</td>\n",
       "      <td>Fond du Lac, WI</td>\n",
       "      <td>3.610418e+07</td>\n",
       "      <td>2.696325e+07</td>\n",
       "      <td>3.833402e+07</td>\n",
       "      <td>2.548639e+07</td>\n",
       "      <td>3.562433e+07</td>\n",
       "      <td>2.471649e+07</td>\n",
       "      <td>3.263073e+07</td>\n",
       "      <td>5.403922e+07</td>\n",
       "      <td>...</td>\n",
       "      <td>102495.0</td>\n",
       "      <td>102590.0</td>\n",
       "      <td>102927.0</td>\n",
       "      <td>103180.0</td>\n",
       "      <td>103754.0</td>\n",
       "      <td>104175.0</td>\n",
       "      <td>104076.0</td>\n",
       "      <td>104362.0</td>\n",
       "      <td>0.004093</td>\n",
       "      <td>69.34</td>\n",
       "    </tr>\n",
       "    <tr>\n",
       "      <th>2</th>\n",
       "      <td>29071</td>\n",
       "      <td>Franklin, MO</td>\n",
       "      <td>0.000000e+00</td>\n",
       "      <td>0.000000e+00</td>\n",
       "      <td>0.000000e+00</td>\n",
       "      <td>0.000000e+00</td>\n",
       "      <td>0.000000e+00</td>\n",
       "      <td>0.000000e+00</td>\n",
       "      <td>0.000000e+00</td>\n",
       "      <td>0.000000e+00</td>\n",
       "      <td>...</td>\n",
       "      <td>102058.0</td>\n",
       "      <td>102429.0</td>\n",
       "      <td>102952.0</td>\n",
       "      <td>103563.0</td>\n",
       "      <td>103967.0</td>\n",
       "      <td>104137.0</td>\n",
       "      <td>104769.0</td>\n",
       "      <td>105231.0</td>\n",
       "      <td>0.008424</td>\n",
       "      <td>44.71</td>\n",
       "    </tr>\n",
       "    <tr>\n",
       "      <th>3</th>\n",
       "      <td>1055</td>\n",
       "      <td>Etowah, AL</td>\n",
       "      <td>1.649418e+08</td>\n",
       "      <td>1.154164e+09</td>\n",
       "      <td>2.897688e+08</td>\n",
       "      <td>1.134255e+09</td>\n",
       "      <td>6.389997e+08</td>\n",
       "      <td>8.881343e+08</td>\n",
       "      <td>1.031911e+09</td>\n",
       "      <td>9.080343e+08</td>\n",
       "      <td>...</td>\n",
       "      <td>103880.0</td>\n",
       "      <td>103601.0</td>\n",
       "      <td>103603.0</td>\n",
       "      <td>103854.0</td>\n",
       "      <td>103646.0</td>\n",
       "      <td>103440.0</td>\n",
       "      <td>103393.0</td>\n",
       "      <td>103162.0</td>\n",
       "      <td>0.008731</td>\n",
       "      <td>90.56</td>\n",
       "    </tr>\n",
       "    <tr>\n",
       "      <th>4</th>\n",
       "      <td>26017</td>\n",
       "      <td>Bay, MI</td>\n",
       "      <td>2.073759e+06</td>\n",
       "      <td>1.232872e+06</td>\n",
       "      <td>5.381210e+05</td>\n",
       "      <td>8.434320e+05</td>\n",
       "      <td>1.047389e+06</td>\n",
       "      <td>1.047389e+06</td>\n",
       "      <td>2.580589e+06</td>\n",
       "      <td>4.565004e+06</td>\n",
       "      <td>...</td>\n",
       "      <td>106599.0</td>\n",
       "      <td>105916.0</td>\n",
       "      <td>105184.0</td>\n",
       "      <td>104967.0</td>\n",
       "      <td>104674.0</td>\n",
       "      <td>104079.0</td>\n",
       "      <td>103594.0</td>\n",
       "      <td>102985.0</td>\n",
       "      <td>0.011795</td>\n",
       "      <td>52.34</td>\n",
       "    </tr>\n",
       "    <tr>\n",
       "      <th>...</th>\n",
       "      <td>...</td>\n",
       "      <td>...</td>\n",
       "      <td>...</td>\n",
       "      <td>...</td>\n",
       "      <td>...</td>\n",
       "      <td>...</td>\n",
       "      <td>...</td>\n",
       "      <td>...</td>\n",
       "      <td>...</td>\n",
       "      <td>...</td>\n",
       "      <td>...</td>\n",
       "      <td>...</td>\n",
       "      <td>...</td>\n",
       "      <td>...</td>\n",
       "      <td>...</td>\n",
       "      <td>...</td>\n",
       "      <td>...</td>\n",
       "      <td>...</td>\n",
       "      <td>...</td>\n",
       "      <td>...</td>\n",
       "      <td>...</td>\n",
       "    </tr>\n",
       "    <tr>\n",
       "      <th>3077</th>\n",
       "      <td>31005</td>\n",
       "      <td>Arthur, NE</td>\n",
       "      <td>0.000000e+00</td>\n",
       "      <td>0.000000e+00</td>\n",
       "      <td>0.000000e+00</td>\n",
       "      <td>0.000000e+00</td>\n",
       "      <td>0.000000e+00</td>\n",
       "      <td>0.000000e+00</td>\n",
       "      <td>0.000000e+00</td>\n",
       "      <td>0.000000e+00</td>\n",
       "      <td>...</td>\n",
       "      <td>437.0</td>\n",
       "      <td>433.0</td>\n",
       "      <td>445.0</td>\n",
       "      <td>432.0</td>\n",
       "      <td>435.0</td>\n",
       "      <td>436.0</td>\n",
       "      <td>431.0</td>\n",
       "      <td>439.0</td>\n",
       "      <td>1.977809</td>\n",
       "      <td>0.00</td>\n",
       "    </tr>\n",
       "    <tr>\n",
       "      <th>3078</th>\n",
       "      <td>48261</td>\n",
       "      <td>Kenedy, TX</td>\n",
       "      <td>0.000000e+00</td>\n",
       "      <td>0.000000e+00</td>\n",
       "      <td>0.000000e+00</td>\n",
       "      <td>0.000000e+00</td>\n",
       "      <td>0.000000e+00</td>\n",
       "      <td>0.000000e+00</td>\n",
       "      <td>0.000000e+00</td>\n",
       "      <td>0.000000e+00</td>\n",
       "      <td>...</td>\n",
       "      <td>421.0</td>\n",
       "      <td>421.0</td>\n",
       "      <td>404.0</td>\n",
       "      <td>383.0</td>\n",
       "      <td>389.0</td>\n",
       "      <td>355.0</td>\n",
       "      <td>346.0</td>\n",
       "      <td>340.0</td>\n",
       "      <td>1.978614</td>\n",
       "      <td>0.00</td>\n",
       "    </tr>\n",
       "    <tr>\n",
       "      <th>3079</th>\n",
       "      <td>48269</td>\n",
       "      <td>King, TX</td>\n",
       "      <td>0.000000e+00</td>\n",
       "      <td>0.000000e+00</td>\n",
       "      <td>0.000000e+00</td>\n",
       "      <td>0.000000e+00</td>\n",
       "      <td>0.000000e+00</td>\n",
       "      <td>0.000000e+00</td>\n",
       "      <td>0.000000e+00</td>\n",
       "      <td>0.000000e+00</td>\n",
       "      <td>...</td>\n",
       "      <td>257.0</td>\n",
       "      <td>273.0</td>\n",
       "      <td>281.0</td>\n",
       "      <td>278.0</td>\n",
       "      <td>265.0</td>\n",
       "      <td>256.0</td>\n",
       "      <td>270.0</td>\n",
       "      <td>258.0</td>\n",
       "      <td>1.980969</td>\n",
       "      <td>0.00</td>\n",
       "    </tr>\n",
       "    <tr>\n",
       "      <th>3080</th>\n",
       "      <td>48301</td>\n",
       "      <td>Loving, TX</td>\n",
       "      <td>0.000000e+00</td>\n",
       "      <td>0.000000e+00</td>\n",
       "      <td>0.000000e+00</td>\n",
       "      <td>0.000000e+00</td>\n",
       "      <td>0.000000e+00</td>\n",
       "      <td>0.000000e+00</td>\n",
       "      <td>0.000000e+00</td>\n",
       "      <td>0.000000e+00</td>\n",
       "      <td>...</td>\n",
       "      <td>59.0</td>\n",
       "      <td>72.0</td>\n",
       "      <td>64.0</td>\n",
       "      <td>66.0</td>\n",
       "      <td>67.0</td>\n",
       "      <td>67.0</td>\n",
       "      <td>67.0</td>\n",
       "      <td>57.0</td>\n",
       "      <td>1.985240</td>\n",
       "      <td>0.00</td>\n",
       "    </tr>\n",
       "    <tr>\n",
       "      <th>3081</th>\n",
       "      <td>6037</td>\n",
       "      <td>Los Angeles, CA</td>\n",
       "      <td>1.842950e+10</td>\n",
       "      <td>2.759321e+10</td>\n",
       "      <td>2.170315e+10</td>\n",
       "      <td>2.348763e+10</td>\n",
       "      <td>2.294435e+10</td>\n",
       "      <td>2.502567e+10</td>\n",
       "      <td>2.839330e+10</td>\n",
       "      <td>3.868660e+10</td>\n",
       "      <td>...</td>\n",
       "      <td>10051511.0</td>\n",
       "      <td>10099677.0</td>\n",
       "      <td>10121673.0</td>\n",
       "      <td>10123521.0</td>\n",
       "      <td>10096986.0</td>\n",
       "      <td>10051154.0</td>\n",
       "      <td>9989165.0</td>\n",
       "      <td>9829544.0</td>\n",
       "      <td>2.014902</td>\n",
       "      <td>99.64</td>\n",
       "    </tr>\n",
       "  </tbody>\n",
       "</table>\n",
       "<p>3082 rows × 45 columns</p>\n",
       "</div>"
      ],
      "text/plain": [
       "      GeoFIPS          GeoName          2010          2011          2012  \\\n",
       "0       42001        Adams, PA  2.771827e+07  2.855134e+07  1.427164e+07   \n",
       "1       55039  Fond du Lac, WI  3.610418e+07  2.696325e+07  3.833402e+07   \n",
       "2       29071     Franklin, MO  0.000000e+00  0.000000e+00  0.000000e+00   \n",
       "3        1055       Etowah, AL  1.649418e+08  1.154164e+09  2.897688e+08   \n",
       "4       26017          Bay, MI  2.073759e+06  1.232872e+06  5.381210e+05   \n",
       "...       ...              ...           ...           ...           ...   \n",
       "3077    31005       Arthur, NE  0.000000e+00  0.000000e+00  0.000000e+00   \n",
       "3078    48261       Kenedy, TX  0.000000e+00  0.000000e+00  0.000000e+00   \n",
       "3079    48269         King, TX  0.000000e+00  0.000000e+00  0.000000e+00   \n",
       "3080    48301       Loving, TX  0.000000e+00  0.000000e+00  0.000000e+00   \n",
       "3081     6037  Los Angeles, CA  1.842950e+10  2.759321e+10  2.170315e+10   \n",
       "\n",
       "              2013          2014          2015          2016          2017  \\\n",
       "0     6.841459e+07  2.843109e+07  1.022756e+07  3.068268e+07  2.081153e+07   \n",
       "1     2.548639e+07  3.562433e+07  2.471649e+07  3.263073e+07  5.403922e+07   \n",
       "2     0.000000e+00  0.000000e+00  0.000000e+00  0.000000e+00  0.000000e+00   \n",
       "3     1.134255e+09  6.389997e+08  8.881343e+08  1.031911e+09  9.080343e+08   \n",
       "4     8.434320e+05  1.047389e+06  1.047389e+06  2.580589e+06  4.565004e+06   \n",
       "...            ...           ...           ...           ...           ...   \n",
       "3077  0.000000e+00  0.000000e+00  0.000000e+00  0.000000e+00  0.000000e+00   \n",
       "3078  0.000000e+00  0.000000e+00  0.000000e+00  0.000000e+00  0.000000e+00   \n",
       "3079  0.000000e+00  0.000000e+00  0.000000e+00  0.000000e+00  0.000000e+00   \n",
       "3080  0.000000e+00  0.000000e+00  0.000000e+00  0.000000e+00  0.000000e+00   \n",
       "3081  2.348763e+10  2.294435e+10  2.502567e+10  2.839330e+10  3.868660e+10   \n",
       "\n",
       "      ...  2014_population  2015_population  2016_population  2017_population  \\\n",
       "0     ...         101830.0         102411.0         102625.0         103414.0   \n",
       "1     ...         102495.0         102590.0         102927.0         103180.0   \n",
       "2     ...         102058.0         102429.0         102952.0         103563.0   \n",
       "3     ...         103880.0         103601.0         103603.0         103854.0   \n",
       "4     ...         106599.0         105916.0         105184.0         104967.0   \n",
       "...   ...              ...              ...              ...              ...   \n",
       "3077  ...            437.0            433.0            445.0            432.0   \n",
       "3078  ...            421.0            421.0            404.0            383.0   \n",
       "3079  ...            257.0            273.0            281.0            278.0   \n",
       "3080  ...             59.0             72.0             64.0             66.0   \n",
       "3081  ...       10051511.0       10099677.0       10121673.0       10123521.0   \n",
       "\n",
       "      2018_population  2019_population  2020_population  2021_population  \\\n",
       "0            103932.0         103778.0         103795.0         104127.0   \n",
       "1            103754.0         104175.0         104076.0         104362.0   \n",
       "2            103967.0         104137.0         104769.0         105231.0   \n",
       "3            103646.0         103440.0         103393.0         103162.0   \n",
       "4            104674.0         104079.0         103594.0         102985.0   \n",
       "...               ...              ...              ...              ...   \n",
       "3077            435.0            436.0            431.0            439.0   \n",
       "3078            389.0            355.0            346.0            340.0   \n",
       "3079            265.0            256.0            270.0            258.0   \n",
       "3080             67.0             67.0             67.0             57.0   \n",
       "3081       10096986.0       10051154.0        9989165.0        9829544.0   \n",
       "\n",
       "      distance to 42001  percentile  \n",
       "0              0.000000       63.85  \n",
       "1              0.004093       69.34  \n",
       "2              0.008424       44.71  \n",
       "3              0.008731       90.56  \n",
       "4              0.011795       52.34  \n",
       "...                 ...         ...  \n",
       "3077           1.977809        0.00  \n",
       "3078           1.978614        0.00  \n",
       "3079           1.980969        0.00  \n",
       "3080           1.985240        0.00  \n",
       "3081           2.014902       99.64  \n",
       "\n",
       "[3082 rows x 45 columns]"
      ]
     },
     "metadata": {},
     "output_type": "display_data"
    }
   ],
   "source": [
    "# you want to pass an outcome but give it weight 0 in similarity calculations\n",
    "\n",
    "print(list_available_features())\n",
    "f  = FipsQuery(42001, outcome_var = \"spending_HHS\", feature_groups_with_weights= {\"spending_HHS\": 0, \"population\":4})\n",
    "f.find_euclidean_kins()\n",
    "display(f.plot_weights())\n",
    "display(f.euclidean_kins)"
   ]
  },
  {
   "cell_type": "code",
   "execution_count": 4,
   "metadata": {},
   "outputs": [
    {
     "data": {
      "application/vnd.plotly.v1+json": {
       "config": {
        "plotlyServerURL": "https://plot.ly"
       },
       "data": [
        {
         "type": "bar",
         "x": [
          "2001_gdp",
          "2002_gdp",
          "2003_gdp",
          "2004_gdp",
          "2005_gdp",
          "2006_gdp",
          "2007_gdp",
          "2008_gdp",
          "2009_gdp",
          "2010_gdp",
          "2011_gdp",
          "2013_gdp",
          "2014_gdp",
          "2015_gdp",
          "2016_gdp",
          "2017_gdp",
          "2018_gdp",
          "2019_gdp",
          "2020_gdp",
          "2021_gdp",
          "1993_population",
          "1994_population",
          "1995_population",
          "1996_population",
          "1997_population",
          "1998_population",
          "1999_population",
          "2000_population",
          "2001_population",
          "2002_population",
          "2003_population",
          "2004_population",
          "2005_population",
          "2006_population",
          "2007_population",
          "2008_population",
          "2009_population",
          "2010_population",
          "2011_population",
          "2012_population",
          "2013_population",
          "2014_population",
          "2015_population",
          "2016_population",
          "2017_population",
          "2018_population",
          "2019_population",
          "2020_population",
          "2021_population"
         ],
         "y": [
          -0.07443141519371825,
          -0.07666435764952981,
          -0.07896428837901569,
          -0.08133321703038617,
          -0.08377321354129776,
          -0.08628640994753668,
          -0.08887500224596279,
          -0.09154125231334168,
          -0.09428748988274194,
          -0.0971161145792242,
          -0.10002959801660093,
          -0.10303048595709895,
          -0.10612140053581191,
          -0.10930504255188629,
          -0.11258419382844288,
          -0.11596171964329616,
          -0.11944057123259505,
          -0.12302378836957291,
          -0.12671450202066012,
          -0.1305159370812799,
          0.022114671106632556,
          0.022778111239831533,
          0.02346145457702648,
          0.024165298214337275,
          0.024890257160767395,
          0.025636964875590414,
          0.02640607382185813,
          0.027198256036513876,
          0.028014203717609293,
          0.02885462982913757,
          0.0297202687240117,
          0.03061187678573205,
          0.03153023308930401,
          0.032476140081983136,
          0.03345042428444263,
          0.03445393701297591,
          0.03548755512336519,
          0.036552181777066144,
          0.03764874723037813,
          0.03877820964728947,
          0.03994155593670816,
          0.04113980261480941,
          0.04237399669325369,
          0.0436452165940513,
          0.04495457309187284,
          0.046303210284629026,
          0.0476923065931679,
          0.04912307579096294,
          0.05059676806469183
         ]
        }
       ],
       "layout": {
        "template": {
         "data": {
          "bar": [
           {
            "error_x": {
             "color": "#2a3f5f"
            },
            "error_y": {
             "color": "#2a3f5f"
            },
            "marker": {
             "line": {
              "color": "white",
              "width": 0.5
             },
             "pattern": {
              "fillmode": "overlay",
              "size": 10,
              "solidity": 0.2
             }
            },
            "type": "bar"
           }
          ],
          "barpolar": [
           {
            "marker": {
             "line": {
              "color": "white",
              "width": 0.5
             },
             "pattern": {
              "fillmode": "overlay",
              "size": 10,
              "solidity": 0.2
             }
            },
            "type": "barpolar"
           }
          ],
          "carpet": [
           {
            "aaxis": {
             "endlinecolor": "#2a3f5f",
             "gridcolor": "#C8D4E3",
             "linecolor": "#C8D4E3",
             "minorgridcolor": "#C8D4E3",
             "startlinecolor": "#2a3f5f"
            },
            "baxis": {
             "endlinecolor": "#2a3f5f",
             "gridcolor": "#C8D4E3",
             "linecolor": "#C8D4E3",
             "minorgridcolor": "#C8D4E3",
             "startlinecolor": "#2a3f5f"
            },
            "type": "carpet"
           }
          ],
          "choropleth": [
           {
            "colorbar": {
             "outlinewidth": 0,
             "ticks": ""
            },
            "type": "choropleth"
           }
          ],
          "contour": [
           {
            "colorbar": {
             "outlinewidth": 0,
             "ticks": ""
            },
            "colorscale": [
             [
              0,
              "#0d0887"
             ],
             [
              0.1111111111111111,
              "#46039f"
             ],
             [
              0.2222222222222222,
              "#7201a8"
             ],
             [
              0.3333333333333333,
              "#9c179e"
             ],
             [
              0.4444444444444444,
              "#bd3786"
             ],
             [
              0.5555555555555556,
              "#d8576b"
             ],
             [
              0.6666666666666666,
              "#ed7953"
             ],
             [
              0.7777777777777778,
              "#fb9f3a"
             ],
             [
              0.8888888888888888,
              "#fdca26"
             ],
             [
              1,
              "#f0f921"
             ]
            ],
            "type": "contour"
           }
          ],
          "contourcarpet": [
           {
            "colorbar": {
             "outlinewidth": 0,
             "ticks": ""
            },
            "type": "contourcarpet"
           }
          ],
          "heatmap": [
           {
            "colorbar": {
             "outlinewidth": 0,
             "ticks": ""
            },
            "colorscale": [
             [
              0,
              "#0d0887"
             ],
             [
              0.1111111111111111,
              "#46039f"
             ],
             [
              0.2222222222222222,
              "#7201a8"
             ],
             [
              0.3333333333333333,
              "#9c179e"
             ],
             [
              0.4444444444444444,
              "#bd3786"
             ],
             [
              0.5555555555555556,
              "#d8576b"
             ],
             [
              0.6666666666666666,
              "#ed7953"
             ],
             [
              0.7777777777777778,
              "#fb9f3a"
             ],
             [
              0.8888888888888888,
              "#fdca26"
             ],
             [
              1,
              "#f0f921"
             ]
            ],
            "type": "heatmap"
           }
          ],
          "heatmapgl": [
           {
            "colorbar": {
             "outlinewidth": 0,
             "ticks": ""
            },
            "colorscale": [
             [
              0,
              "#0d0887"
             ],
             [
              0.1111111111111111,
              "#46039f"
             ],
             [
              0.2222222222222222,
              "#7201a8"
             ],
             [
              0.3333333333333333,
              "#9c179e"
             ],
             [
              0.4444444444444444,
              "#bd3786"
             ],
             [
              0.5555555555555556,
              "#d8576b"
             ],
             [
              0.6666666666666666,
              "#ed7953"
             ],
             [
              0.7777777777777778,
              "#fb9f3a"
             ],
             [
              0.8888888888888888,
              "#fdca26"
             ],
             [
              1,
              "#f0f921"
             ]
            ],
            "type": "heatmapgl"
           }
          ],
          "histogram": [
           {
            "marker": {
             "pattern": {
              "fillmode": "overlay",
              "size": 10,
              "solidity": 0.2
             }
            },
            "type": "histogram"
           }
          ],
          "histogram2d": [
           {
            "colorbar": {
             "outlinewidth": 0,
             "ticks": ""
            },
            "colorscale": [
             [
              0,
              "#0d0887"
             ],
             [
              0.1111111111111111,
              "#46039f"
             ],
             [
              0.2222222222222222,
              "#7201a8"
             ],
             [
              0.3333333333333333,
              "#9c179e"
             ],
             [
              0.4444444444444444,
              "#bd3786"
             ],
             [
              0.5555555555555556,
              "#d8576b"
             ],
             [
              0.6666666666666666,
              "#ed7953"
             ],
             [
              0.7777777777777778,
              "#fb9f3a"
             ],
             [
              0.8888888888888888,
              "#fdca26"
             ],
             [
              1,
              "#f0f921"
             ]
            ],
            "type": "histogram2d"
           }
          ],
          "histogram2dcontour": [
           {
            "colorbar": {
             "outlinewidth": 0,
             "ticks": ""
            },
            "colorscale": [
             [
              0,
              "#0d0887"
             ],
             [
              0.1111111111111111,
              "#46039f"
             ],
             [
              0.2222222222222222,
              "#7201a8"
             ],
             [
              0.3333333333333333,
              "#9c179e"
             ],
             [
              0.4444444444444444,
              "#bd3786"
             ],
             [
              0.5555555555555556,
              "#d8576b"
             ],
             [
              0.6666666666666666,
              "#ed7953"
             ],
             [
              0.7777777777777778,
              "#fb9f3a"
             ],
             [
              0.8888888888888888,
              "#fdca26"
             ],
             [
              1,
              "#f0f921"
             ]
            ],
            "type": "histogram2dcontour"
           }
          ],
          "mesh3d": [
           {
            "colorbar": {
             "outlinewidth": 0,
             "ticks": ""
            },
            "type": "mesh3d"
           }
          ],
          "parcoords": [
           {
            "line": {
             "colorbar": {
              "outlinewidth": 0,
              "ticks": ""
             }
            },
            "type": "parcoords"
           }
          ],
          "pie": [
           {
            "automargin": true,
            "type": "pie"
           }
          ],
          "scatter": [
           {
            "fillpattern": {
             "fillmode": "overlay",
             "size": 10,
             "solidity": 0.2
            },
            "type": "scatter"
           }
          ],
          "scatter3d": [
           {
            "line": {
             "colorbar": {
              "outlinewidth": 0,
              "ticks": ""
             }
            },
            "marker": {
             "colorbar": {
              "outlinewidth": 0,
              "ticks": ""
             }
            },
            "type": "scatter3d"
           }
          ],
          "scattercarpet": [
           {
            "marker": {
             "colorbar": {
              "outlinewidth": 0,
              "ticks": ""
             }
            },
            "type": "scattercarpet"
           }
          ],
          "scattergeo": [
           {
            "marker": {
             "colorbar": {
              "outlinewidth": 0,
              "ticks": ""
             }
            },
            "type": "scattergeo"
           }
          ],
          "scattergl": [
           {
            "marker": {
             "colorbar": {
              "outlinewidth": 0,
              "ticks": ""
             }
            },
            "type": "scattergl"
           }
          ],
          "scattermapbox": [
           {
            "marker": {
             "colorbar": {
              "outlinewidth": 0,
              "ticks": ""
             }
            },
            "type": "scattermapbox"
           }
          ],
          "scatterpolar": [
           {
            "marker": {
             "colorbar": {
              "outlinewidth": 0,
              "ticks": ""
             }
            },
            "type": "scatterpolar"
           }
          ],
          "scatterpolargl": [
           {
            "marker": {
             "colorbar": {
              "outlinewidth": 0,
              "ticks": ""
             }
            },
            "type": "scatterpolargl"
           }
          ],
          "scatterternary": [
           {
            "marker": {
             "colorbar": {
              "outlinewidth": 0,
              "ticks": ""
             }
            },
            "type": "scatterternary"
           }
          ],
          "surface": [
           {
            "colorbar": {
             "outlinewidth": 0,
             "ticks": ""
            },
            "colorscale": [
             [
              0,
              "#0d0887"
             ],
             [
              0.1111111111111111,
              "#46039f"
             ],
             [
              0.2222222222222222,
              "#7201a8"
             ],
             [
              0.3333333333333333,
              "#9c179e"
             ],
             [
              0.4444444444444444,
              "#bd3786"
             ],
             [
              0.5555555555555556,
              "#d8576b"
             ],
             [
              0.6666666666666666,
              "#ed7953"
             ],
             [
              0.7777777777777778,
              "#fb9f3a"
             ],
             [
              0.8888888888888888,
              "#fdca26"
             ],
             [
              1,
              "#f0f921"
             ]
            ],
            "type": "surface"
           }
          ],
          "table": [
           {
            "cells": {
             "fill": {
              "color": "#EBF0F8"
             },
             "line": {
              "color": "white"
             }
            },
            "header": {
             "fill": {
              "color": "#C8D4E3"
             },
             "line": {
              "color": "white"
             }
            },
            "type": "table"
           }
          ]
         },
         "layout": {
          "annotationdefaults": {
           "arrowcolor": "#2a3f5f",
           "arrowhead": 0,
           "arrowwidth": 1
          },
          "autotypenumbers": "strict",
          "coloraxis": {
           "colorbar": {
            "outlinewidth": 0,
            "ticks": ""
           }
          },
          "colorscale": {
           "diverging": [
            [
             0,
             "#8e0152"
            ],
            [
             0.1,
             "#c51b7d"
            ],
            [
             0.2,
             "#de77ae"
            ],
            [
             0.3,
             "#f1b6da"
            ],
            [
             0.4,
             "#fde0ef"
            ],
            [
             0.5,
             "#f7f7f7"
            ],
            [
             0.6,
             "#e6f5d0"
            ],
            [
             0.7,
             "#b8e186"
            ],
            [
             0.8,
             "#7fbc41"
            ],
            [
             0.9,
             "#4d9221"
            ],
            [
             1,
             "#276419"
            ]
           ],
           "sequential": [
            [
             0,
             "#0d0887"
            ],
            [
             0.1111111111111111,
             "#46039f"
            ],
            [
             0.2222222222222222,
             "#7201a8"
            ],
            [
             0.3333333333333333,
             "#9c179e"
            ],
            [
             0.4444444444444444,
             "#bd3786"
            ],
            [
             0.5555555555555556,
             "#d8576b"
            ],
            [
             0.6666666666666666,
             "#ed7953"
            ],
            [
             0.7777777777777778,
             "#fb9f3a"
            ],
            [
             0.8888888888888888,
             "#fdca26"
            ],
            [
             1,
             "#f0f921"
            ]
           ],
           "sequentialminus": [
            [
             0,
             "#0d0887"
            ],
            [
             0.1111111111111111,
             "#46039f"
            ],
            [
             0.2222222222222222,
             "#7201a8"
            ],
            [
             0.3333333333333333,
             "#9c179e"
            ],
            [
             0.4444444444444444,
             "#bd3786"
            ],
            [
             0.5555555555555556,
             "#d8576b"
            ],
            [
             0.6666666666666666,
             "#ed7953"
            ],
            [
             0.7777777777777778,
             "#fb9f3a"
            ],
            [
             0.8888888888888888,
             "#fdca26"
            ],
            [
             1,
             "#f0f921"
            ]
           ]
          },
          "colorway": [
           "#636efa",
           "#EF553B",
           "#00cc96",
           "#ab63fa",
           "#FFA15A",
           "#19d3f3",
           "#FF6692",
           "#B6E880",
           "#FF97FF",
           "#FECB52"
          ],
          "font": {
           "color": "#2a3f5f"
          },
          "geo": {
           "bgcolor": "white",
           "lakecolor": "white",
           "landcolor": "white",
           "showlakes": true,
           "showland": true,
           "subunitcolor": "#C8D4E3"
          },
          "hoverlabel": {
           "align": "left"
          },
          "hovermode": "closest",
          "mapbox": {
           "style": "light"
          },
          "paper_bgcolor": "white",
          "plot_bgcolor": "white",
          "polar": {
           "angularaxis": {
            "gridcolor": "#EBF0F8",
            "linecolor": "#EBF0F8",
            "ticks": ""
           },
           "bgcolor": "white",
           "radialaxis": {
            "gridcolor": "#EBF0F8",
            "linecolor": "#EBF0F8",
            "ticks": ""
           }
          },
          "scene": {
           "xaxis": {
            "backgroundcolor": "white",
            "gridcolor": "#DFE8F3",
            "gridwidth": 2,
            "linecolor": "#EBF0F8",
            "showbackground": true,
            "ticks": "",
            "zerolinecolor": "#EBF0F8"
           },
           "yaxis": {
            "backgroundcolor": "white",
            "gridcolor": "#DFE8F3",
            "gridwidth": 2,
            "linecolor": "#EBF0F8",
            "showbackground": true,
            "ticks": "",
            "zerolinecolor": "#EBF0F8"
           },
           "zaxis": {
            "backgroundcolor": "white",
            "gridcolor": "#DFE8F3",
            "gridwidth": 2,
            "linecolor": "#EBF0F8",
            "showbackground": true,
            "ticks": "",
            "zerolinecolor": "#EBF0F8"
           }
          },
          "shapedefaults": {
           "line": {
            "color": "#2a3f5f"
           }
          },
          "ternary": {
           "aaxis": {
            "gridcolor": "#DFE8F3",
            "linecolor": "#A2B1C6",
            "ticks": ""
           },
           "baxis": {
            "gridcolor": "#DFE8F3",
            "linecolor": "#A2B1C6",
            "ticks": ""
           },
           "bgcolor": "white",
           "caxis": {
            "gridcolor": "#DFE8F3",
            "linecolor": "#A2B1C6",
            "ticks": ""
           }
          },
          "title": {
           "x": 0.05
          },
          "xaxis": {
           "automargin": true,
           "gridcolor": "#EBF0F8",
           "linecolor": "#EBF0F8",
           "ticks": "",
           "title": {
            "standoff": 15
           },
           "zerolinecolor": "#EBF0F8",
           "zerolinewidth": 2
          },
          "yaxis": {
           "automargin": true,
           "gridcolor": "#EBF0F8",
           "linecolor": "#EBF0F8",
           "ticks": "",
           "title": {
            "standoff": 15
           },
           "zerolinecolor": "#EBF0F8",
           "zerolinewidth": 2
          }
         }
        },
        "title": {
         "text": "Weights of columns"
        },
        "xaxis": {
         "title": {
          "text": "columns"
         }
        },
        "yaxis": {
         "title": {
          "text": "weights"
         }
        }
       }
      }
     },
     "metadata": {},
     "output_type": "display_data"
    },
    {
     "data": {
      "text/plain": [
       "None"
      ]
     },
     "metadata": {},
     "output_type": "display_data"
    },
    {
     "data": {
      "text/html": [
       "<div>\n",
       "<style scoped>\n",
       "    .dataframe tbody tr th:only-of-type {\n",
       "        vertical-align: middle;\n",
       "    }\n",
       "\n",
       "    .dataframe tbody tr th {\n",
       "        vertical-align: top;\n",
       "    }\n",
       "\n",
       "    .dataframe thead th {\n",
       "        text-align: right;\n",
       "    }\n",
       "</style>\n",
       "<table border=\"1\" class=\"dataframe\">\n",
       "  <thead>\n",
       "    <tr style=\"text-align: right;\">\n",
       "      <th></th>\n",
       "      <th>GeoFIPS</th>\n",
       "      <th>GeoName</th>\n",
       "      <th>2001</th>\n",
       "      <th>2002</th>\n",
       "      <th>2003</th>\n",
       "      <th>2004</th>\n",
       "      <th>2005</th>\n",
       "      <th>2006</th>\n",
       "      <th>2007</th>\n",
       "      <th>2008</th>\n",
       "      <th>...</th>\n",
       "      <th>2014_population</th>\n",
       "      <th>2015_population</th>\n",
       "      <th>2016_population</th>\n",
       "      <th>2017_population</th>\n",
       "      <th>2018_population</th>\n",
       "      <th>2019_population</th>\n",
       "      <th>2020_population</th>\n",
       "      <th>2021_population</th>\n",
       "      <th>distance to 1007</th>\n",
       "      <th>percentile</th>\n",
       "    </tr>\n",
       "  </thead>\n",
       "  <tbody>\n",
       "    <tr>\n",
       "      <th>0</th>\n",
       "      <td>1007</td>\n",
       "      <td>Bibb, AL</td>\n",
       "      <td>80.443</td>\n",
       "      <td>81.527</td>\n",
       "      <td>85.124</td>\n",
       "      <td>89.317</td>\n",
       "      <td>88.782</td>\n",
       "      <td>89.597</td>\n",
       "      <td>95.308</td>\n",
       "      <td>94.745</td>\n",
       "      <td>...</td>\n",
       "      <td>22586.0</td>\n",
       "      <td>22607.0</td>\n",
       "      <td>22654.0</td>\n",
       "      <td>22606.0</td>\n",
       "      <td>22383.0</td>\n",
       "      <td>22405.0</td>\n",
       "      <td>22223.0</td>\n",
       "      <td>22477.0</td>\n",
       "      <td>0.000000</td>\n",
       "      <td>47.86</td>\n",
       "    </tr>\n",
       "    <tr>\n",
       "      <th>1</th>\n",
       "      <td>48109</td>\n",
       "      <td>Culberson, TX</td>\n",
       "      <td>35.264</td>\n",
       "      <td>37.743</td>\n",
       "      <td>36.255</td>\n",
       "      <td>38.339</td>\n",
       "      <td>40.177</td>\n",
       "      <td>41.247</td>\n",
       "      <td>42.368</td>\n",
       "      <td>53.349</td>\n",
       "      <td>...</td>\n",
       "      <td>2301.0</td>\n",
       "      <td>2275.0</td>\n",
       "      <td>2244.0</td>\n",
       "      <td>2259.0</td>\n",
       "      <td>2212.0</td>\n",
       "      <td>2186.0</td>\n",
       "      <td>2193.0</td>\n",
       "      <td>2193.0</td>\n",
       "      <td>1.947278</td>\n",
       "      <td>99.97</td>\n",
       "    </tr>\n",
       "    <tr>\n",
       "      <th>2</th>\n",
       "      <td>48389</td>\n",
       "      <td>Reeves, TX</td>\n",
       "      <td>46.003</td>\n",
       "      <td>49.290</td>\n",
       "      <td>44.960</td>\n",
       "      <td>41.682</td>\n",
       "      <td>39.742</td>\n",
       "      <td>41.332</td>\n",
       "      <td>41.009</td>\n",
       "      <td>41.389</td>\n",
       "      <td>...</td>\n",
       "      <td>14614.0</td>\n",
       "      <td>14936.0</td>\n",
       "      <td>14484.0</td>\n",
       "      <td>14314.0</td>\n",
       "      <td>14526.0</td>\n",
       "      <td>14847.0</td>\n",
       "      <td>14730.0</td>\n",
       "      <td>14487.0</td>\n",
       "      <td>1.968913</td>\n",
       "      <td>99.90</td>\n",
       "    </tr>\n",
       "    <tr>\n",
       "      <th>3</th>\n",
       "      <td>48283</td>\n",
       "      <td>La Salle, TX</td>\n",
       "      <td>6.638</td>\n",
       "      <td>6.679</td>\n",
       "      <td>7.065</td>\n",
       "      <td>6.727</td>\n",
       "      <td>7.541</td>\n",
       "      <td>8.729</td>\n",
       "      <td>8.254</td>\n",
       "      <td>7.900</td>\n",
       "      <td>...</td>\n",
       "      <td>7115.0</td>\n",
       "      <td>7175.0</td>\n",
       "      <td>7057.0</td>\n",
       "      <td>6916.0</td>\n",
       "      <td>6808.0</td>\n",
       "      <td>6763.0</td>\n",
       "      <td>6642.0</td>\n",
       "      <td>6670.0</td>\n",
       "      <td>2.070731</td>\n",
       "      <td>96.40</td>\n",
       "    </tr>\n",
       "    <tr>\n",
       "      <th>4</th>\n",
       "      <td>48255</td>\n",
       "      <td>Karnes, TX</td>\n",
       "      <td>6.498</td>\n",
       "      <td>6.891</td>\n",
       "      <td>7.331</td>\n",
       "      <td>6.759</td>\n",
       "      <td>6.537</td>\n",
       "      <td>6.290</td>\n",
       "      <td>6.662</td>\n",
       "      <td>6.937</td>\n",
       "      <td>...</td>\n",
       "      <td>14569.0</td>\n",
       "      <td>14976.0</td>\n",
       "      <td>14997.0</td>\n",
       "      <td>14990.0</td>\n",
       "      <td>15028.0</td>\n",
       "      <td>14605.0</td>\n",
       "      <td>14721.0</td>\n",
       "      <td>14754.0</td>\n",
       "      <td>2.076390</td>\n",
       "      <td>98.60</td>\n",
       "    </tr>\n",
       "    <tr>\n",
       "      <th>...</th>\n",
       "      <td>...</td>\n",
       "      <td>...</td>\n",
       "      <td>...</td>\n",
       "      <td>...</td>\n",
       "      <td>...</td>\n",
       "      <td>...</td>\n",
       "      <td>...</td>\n",
       "      <td>...</td>\n",
       "      <td>...</td>\n",
       "      <td>...</td>\n",
       "      <td>...</td>\n",
       "      <td>...</td>\n",
       "      <td>...</td>\n",
       "      <td>...</td>\n",
       "      <td>...</td>\n",
       "      <td>...</td>\n",
       "      <td>...</td>\n",
       "      <td>...</td>\n",
       "      <td>...</td>\n",
       "      <td>...</td>\n",
       "      <td>...</td>\n",
       "    </tr>\n",
       "    <tr>\n",
       "      <th>3077</th>\n",
       "      <td>6073</td>\n",
       "      <td>San Diego, CA</td>\n",
       "      <td>79.703</td>\n",
       "      <td>83.170</td>\n",
       "      <td>87.449</td>\n",
       "      <td>92.400</td>\n",
       "      <td>97.137</td>\n",
       "      <td>99.354</td>\n",
       "      <td>100.938</td>\n",
       "      <td>100.267</td>\n",
       "      <td>...</td>\n",
       "      <td>3234658.0</td>\n",
       "      <td>3262566.0</td>\n",
       "      <td>3283586.0</td>\n",
       "      <td>3293575.0</td>\n",
       "      <td>3303463.0</td>\n",
       "      <td>3297959.0</td>\n",
       "      <td>3297252.0</td>\n",
       "      <td>3286069.0</td>\n",
       "      <td>2.924300</td>\n",
       "      <td>80.21</td>\n",
       "    </tr>\n",
       "    <tr>\n",
       "      <th>3078</th>\n",
       "      <td>4013</td>\n",
       "      <td>Maricopa, AZ</td>\n",
       "      <td>77.463</td>\n",
       "      <td>80.415</td>\n",
       "      <td>85.793</td>\n",
       "      <td>90.349</td>\n",
       "      <td>97.615</td>\n",
       "      <td>102.729</td>\n",
       "      <td>105.313</td>\n",
       "      <td>103.632</td>\n",
       "      <td>...</td>\n",
       "      <td>4040171.0</td>\n",
       "      <td>4105747.0</td>\n",
       "      <td>4174844.0</td>\n",
       "      <td>4231511.0</td>\n",
       "      <td>4292576.0</td>\n",
       "      <td>4363816.0</td>\n",
       "      <td>4438342.0</td>\n",
       "      <td>4496588.0</td>\n",
       "      <td>2.950617</td>\n",
       "      <td>87.18</td>\n",
       "    </tr>\n",
       "    <tr>\n",
       "      <th>3079</th>\n",
       "      <td>48201</td>\n",
       "      <td>Harris, TX</td>\n",
       "      <td>73.137</td>\n",
       "      <td>72.696</td>\n",
       "      <td>72.847</td>\n",
       "      <td>79.658</td>\n",
       "      <td>80.626</td>\n",
       "      <td>87.278</td>\n",
       "      <td>94.310</td>\n",
       "      <td>91.961</td>\n",
       "      <td>...</td>\n",
       "      <td>4452976.0</td>\n",
       "      <td>4553991.0</td>\n",
       "      <td>4619635.0</td>\n",
       "      <td>4651955.0</td>\n",
       "      <td>4672445.0</td>\n",
       "      <td>4704042.0</td>\n",
       "      <td>4732491.0</td>\n",
       "      <td>4728030.0</td>\n",
       "      <td>2.952810</td>\n",
       "      <td>51.14</td>\n",
       "    </tr>\n",
       "    <tr>\n",
       "      <th>3080</th>\n",
       "      <td>17031</td>\n",
       "      <td>Cook, IL</td>\n",
       "      <td>95.406</td>\n",
       "      <td>94.886</td>\n",
       "      <td>95.455</td>\n",
       "      <td>97.260</td>\n",
       "      <td>99.315</td>\n",
       "      <td>101.320</td>\n",
       "      <td>101.826</td>\n",
       "      <td>99.238</td>\n",
       "      <td>...</td>\n",
       "      <td>5320233.0</td>\n",
       "      <td>5324961.0</td>\n",
       "      <td>5320293.0</td>\n",
       "      <td>5311621.0</td>\n",
       "      <td>5297956.0</td>\n",
       "      <td>5287099.0</td>\n",
       "      <td>5262741.0</td>\n",
       "      <td>5173146.0</td>\n",
       "      <td>3.019405</td>\n",
       "      <td>52.43</td>\n",
       "    </tr>\n",
       "    <tr>\n",
       "      <th>3081</th>\n",
       "      <td>6037</td>\n",
       "      <td>Los Angeles, CA</td>\n",
       "      <td>82.070</td>\n",
       "      <td>83.658</td>\n",
       "      <td>86.614</td>\n",
       "      <td>89.137</td>\n",
       "      <td>91.163</td>\n",
       "      <td>94.942</td>\n",
       "      <td>96.400</td>\n",
       "      <td>98.804</td>\n",
       "      <td>...</td>\n",
       "      <td>10051511.0</td>\n",
       "      <td>10099677.0</td>\n",
       "      <td>10121673.0</td>\n",
       "      <td>10123521.0</td>\n",
       "      <td>10096986.0</td>\n",
       "      <td>10051154.0</td>\n",
       "      <td>9989165.0</td>\n",
       "      <td>9829544.0</td>\n",
       "      <td>3.256690</td>\n",
       "      <td>77.03</td>\n",
       "    </tr>\n",
       "  </tbody>\n",
       "</table>\n",
       "<p>3082 rows × 53 columns</p>\n",
       "</div>"
      ],
      "text/plain": [
       "      GeoFIPS          GeoName    2001    2002    2003    2004    2005  \\\n",
       "0        1007         Bibb, AL  80.443  81.527  85.124  89.317  88.782   \n",
       "1       48109    Culberson, TX  35.264  37.743  36.255  38.339  40.177   \n",
       "2       48389       Reeves, TX  46.003  49.290  44.960  41.682  39.742   \n",
       "3       48283     La Salle, TX   6.638   6.679   7.065   6.727   7.541   \n",
       "4       48255       Karnes, TX   6.498   6.891   7.331   6.759   6.537   \n",
       "...       ...              ...     ...     ...     ...     ...     ...   \n",
       "3077     6073    San Diego, CA  79.703  83.170  87.449  92.400  97.137   \n",
       "3078     4013     Maricopa, AZ  77.463  80.415  85.793  90.349  97.615   \n",
       "3079    48201       Harris, TX  73.137  72.696  72.847  79.658  80.626   \n",
       "3080    17031         Cook, IL  95.406  94.886  95.455  97.260  99.315   \n",
       "3081     6037  Los Angeles, CA  82.070  83.658  86.614  89.137  91.163   \n",
       "\n",
       "         2006     2007     2008  ...  2014_population  2015_population  \\\n",
       "0      89.597   95.308   94.745  ...          22586.0          22607.0   \n",
       "1      41.247   42.368   53.349  ...           2301.0           2275.0   \n",
       "2      41.332   41.009   41.389  ...          14614.0          14936.0   \n",
       "3       8.729    8.254    7.900  ...           7115.0           7175.0   \n",
       "4       6.290    6.662    6.937  ...          14569.0          14976.0   \n",
       "...       ...      ...      ...  ...              ...              ...   \n",
       "3077   99.354  100.938  100.267  ...        3234658.0        3262566.0   \n",
       "3078  102.729  105.313  103.632  ...        4040171.0        4105747.0   \n",
       "3079   87.278   94.310   91.961  ...        4452976.0        4553991.0   \n",
       "3080  101.320  101.826   99.238  ...        5320233.0        5324961.0   \n",
       "3081   94.942   96.400   98.804  ...       10051511.0       10099677.0   \n",
       "\n",
       "      2016_population  2017_population  2018_population  2019_population  \\\n",
       "0             22654.0          22606.0          22383.0          22405.0   \n",
       "1              2244.0           2259.0           2212.0           2186.0   \n",
       "2             14484.0          14314.0          14526.0          14847.0   \n",
       "3              7057.0           6916.0           6808.0           6763.0   \n",
       "4             14997.0          14990.0          15028.0          14605.0   \n",
       "...               ...              ...              ...              ...   \n",
       "3077        3283586.0        3293575.0        3303463.0        3297959.0   \n",
       "3078        4174844.0        4231511.0        4292576.0        4363816.0   \n",
       "3079        4619635.0        4651955.0        4672445.0        4704042.0   \n",
       "3080        5320293.0        5311621.0        5297956.0        5287099.0   \n",
       "3081       10121673.0       10123521.0       10096986.0       10051154.0   \n",
       "\n",
       "      2020_population  2021_population  distance to 1007  percentile  \n",
       "0             22223.0          22477.0          0.000000       47.86  \n",
       "1              2193.0           2193.0          1.947278       99.97  \n",
       "2             14730.0          14487.0          1.968913       99.90  \n",
       "3              6642.0           6670.0          2.070731       96.40  \n",
       "4             14721.0          14754.0          2.076390       98.60  \n",
       "...               ...              ...               ...         ...  \n",
       "3077        3297252.0        3286069.0          2.924300       80.21  \n",
       "3078        4438342.0        4496588.0          2.950617       87.18  \n",
       "3079        4732491.0        4728030.0          2.952810       51.14  \n",
       "3080        5262741.0        5173146.0          3.019405       52.43  \n",
       "3081        9989165.0        9829544.0          3.256690       77.03  \n",
       "\n",
       "[3082 rows x 53 columns]"
      ]
     },
     "metadata": {},
     "output_type": "display_data"
    }
   ],
   "source": [
    "# the other queries still work\n",
    "\n",
    "f  = FipsQuery(1007, outcome_var = \"gdp\",\n",
    "               feature_groups_with_weights= {\"gdp\": -2, \"population\":1}, #with one feature group only\n",
    "               # weights 1-4 won't make a difference\n",
    "               lag = 0, top =5, time_decay = 1.03)\n",
    "f.find_euclidean_kins()\n",
    "display(f.plot_weights())\n",
    "display(f.euclidean_kins)"
   ]
  },
  {
   "cell_type": "code",
   "execution_count": 6,
   "metadata": {},
   "outputs": [
    {
     "name": "stdout",
     "output_type": "stream",
     "text": [
      "['population', 'spending_commerce', 'industry', 'spending_transportation', 'spending_HHS', 'ethnic_composition', 'transport', 'urbanization', 'gdp']\n"
     ]
    },
    {
     "data": {
      "application/vnd.plotly.v1+json": {
       "config": {
        "plotlyServerURL": "https://plot.ly"
       },
       "data": [
        {
         "type": "bar",
         "x": [
          "1993_population",
          "1994_population",
          "1995_population",
          "1996_population",
          "1997_population",
          "1998_population",
          "1999_population",
          "2000_population",
          "2001_population",
          "2002_population",
          "2003_population",
          "2004_population",
          "2005_population",
          "2006_population",
          "2007_population",
          "2008_population",
          "2009_population",
          "2010_population",
          "2011_population",
          "2012_population",
          "2013_population",
          "2014_population",
          "2015_population",
          "2016_population",
          "2017_population",
          "2018_population",
          "2019_population",
          "2020_population",
          "2021_population",
          "2010_spending_HHS",
          "2011_spending_HHS",
          "2012_spending_HHS",
          "2013_spending_HHS",
          "2014_spending_HHS",
          "2015_spending_HHS",
          "2016_spending_HHS",
          "2017_spending_HHS",
          "2018_spending_HHS",
          "2019_spending_HHS",
          "2020_spending_HHS",
          "2021_spending_HHS"
         ],
         "y": [
          0.03847414014225456,
          0.04155207135363493,
          0.04487623706192573,
          0.04846633602687978,
          0.05234364290903017,
          0.056531134341752595,
          0.0610536250890928,
          0.06593791509622024,
          0.07121294830391786,
          0.07690998416823129,
          0.08306278290168981,
          0.08970780553382499,
          0.09688442997653099,
          0.10463518437465348,
          0.11300599912462576,
          0.12204647905459583,
          0.13181019737896352,
          0.14235501316928062,
          0.15374341422282306,
          0.1660428873606489,
          0.17932631834950083,
          0.19367242381746091,
          0.20916621772285782,
          0.22589951514068643,
          0.24397147635194139,
          0.2634891944600967,
          0.28456833001690446,
          0.30733379641825687,
          0.3319205001317174,
          0.15808505077340862,
          0.17073185483528133,
          0.18439040322210384,
          0.19914163547987215,
          0.21507296631826195,
          0.23227880362372297,
          0.25086110791362076,
          0.27092999654671046,
          0.2926043962704473,
          0.3160127479720831,
          0.3412937678098498,
          0.3685972692346378
         ]
        }
       ],
       "layout": {
        "template": {
         "data": {
          "bar": [
           {
            "error_x": {
             "color": "#2a3f5f"
            },
            "error_y": {
             "color": "#2a3f5f"
            },
            "marker": {
             "line": {
              "color": "white",
              "width": 0.5
             },
             "pattern": {
              "fillmode": "overlay",
              "size": 10,
              "solidity": 0.2
             }
            },
            "type": "bar"
           }
          ],
          "barpolar": [
           {
            "marker": {
             "line": {
              "color": "white",
              "width": 0.5
             },
             "pattern": {
              "fillmode": "overlay",
              "size": 10,
              "solidity": 0.2
             }
            },
            "type": "barpolar"
           }
          ],
          "carpet": [
           {
            "aaxis": {
             "endlinecolor": "#2a3f5f",
             "gridcolor": "#C8D4E3",
             "linecolor": "#C8D4E3",
             "minorgridcolor": "#C8D4E3",
             "startlinecolor": "#2a3f5f"
            },
            "baxis": {
             "endlinecolor": "#2a3f5f",
             "gridcolor": "#C8D4E3",
             "linecolor": "#C8D4E3",
             "minorgridcolor": "#C8D4E3",
             "startlinecolor": "#2a3f5f"
            },
            "type": "carpet"
           }
          ],
          "choropleth": [
           {
            "colorbar": {
             "outlinewidth": 0,
             "ticks": ""
            },
            "type": "choropleth"
           }
          ],
          "contour": [
           {
            "colorbar": {
             "outlinewidth": 0,
             "ticks": ""
            },
            "colorscale": [
             [
              0,
              "#0d0887"
             ],
             [
              0.1111111111111111,
              "#46039f"
             ],
             [
              0.2222222222222222,
              "#7201a8"
             ],
             [
              0.3333333333333333,
              "#9c179e"
             ],
             [
              0.4444444444444444,
              "#bd3786"
             ],
             [
              0.5555555555555556,
              "#d8576b"
             ],
             [
              0.6666666666666666,
              "#ed7953"
             ],
             [
              0.7777777777777778,
              "#fb9f3a"
             ],
             [
              0.8888888888888888,
              "#fdca26"
             ],
             [
              1,
              "#f0f921"
             ]
            ],
            "type": "contour"
           }
          ],
          "contourcarpet": [
           {
            "colorbar": {
             "outlinewidth": 0,
             "ticks": ""
            },
            "type": "contourcarpet"
           }
          ],
          "heatmap": [
           {
            "colorbar": {
             "outlinewidth": 0,
             "ticks": ""
            },
            "colorscale": [
             [
              0,
              "#0d0887"
             ],
             [
              0.1111111111111111,
              "#46039f"
             ],
             [
              0.2222222222222222,
              "#7201a8"
             ],
             [
              0.3333333333333333,
              "#9c179e"
             ],
             [
              0.4444444444444444,
              "#bd3786"
             ],
             [
              0.5555555555555556,
              "#d8576b"
             ],
             [
              0.6666666666666666,
              "#ed7953"
             ],
             [
              0.7777777777777778,
              "#fb9f3a"
             ],
             [
              0.8888888888888888,
              "#fdca26"
             ],
             [
              1,
              "#f0f921"
             ]
            ],
            "type": "heatmap"
           }
          ],
          "heatmapgl": [
           {
            "colorbar": {
             "outlinewidth": 0,
             "ticks": ""
            },
            "colorscale": [
             [
              0,
              "#0d0887"
             ],
             [
              0.1111111111111111,
              "#46039f"
             ],
             [
              0.2222222222222222,
              "#7201a8"
             ],
             [
              0.3333333333333333,
              "#9c179e"
             ],
             [
              0.4444444444444444,
              "#bd3786"
             ],
             [
              0.5555555555555556,
              "#d8576b"
             ],
             [
              0.6666666666666666,
              "#ed7953"
             ],
             [
              0.7777777777777778,
              "#fb9f3a"
             ],
             [
              0.8888888888888888,
              "#fdca26"
             ],
             [
              1,
              "#f0f921"
             ]
            ],
            "type": "heatmapgl"
           }
          ],
          "histogram": [
           {
            "marker": {
             "pattern": {
              "fillmode": "overlay",
              "size": 10,
              "solidity": 0.2
             }
            },
            "type": "histogram"
           }
          ],
          "histogram2d": [
           {
            "colorbar": {
             "outlinewidth": 0,
             "ticks": ""
            },
            "colorscale": [
             [
              0,
              "#0d0887"
             ],
             [
              0.1111111111111111,
              "#46039f"
             ],
             [
              0.2222222222222222,
              "#7201a8"
             ],
             [
              0.3333333333333333,
              "#9c179e"
             ],
             [
              0.4444444444444444,
              "#bd3786"
             ],
             [
              0.5555555555555556,
              "#d8576b"
             ],
             [
              0.6666666666666666,
              "#ed7953"
             ],
             [
              0.7777777777777778,
              "#fb9f3a"
             ],
             [
              0.8888888888888888,
              "#fdca26"
             ],
             [
              1,
              "#f0f921"
             ]
            ],
            "type": "histogram2d"
           }
          ],
          "histogram2dcontour": [
           {
            "colorbar": {
             "outlinewidth": 0,
             "ticks": ""
            },
            "colorscale": [
             [
              0,
              "#0d0887"
             ],
             [
              0.1111111111111111,
              "#46039f"
             ],
             [
              0.2222222222222222,
              "#7201a8"
             ],
             [
              0.3333333333333333,
              "#9c179e"
             ],
             [
              0.4444444444444444,
              "#bd3786"
             ],
             [
              0.5555555555555556,
              "#d8576b"
             ],
             [
              0.6666666666666666,
              "#ed7953"
             ],
             [
              0.7777777777777778,
              "#fb9f3a"
             ],
             [
              0.8888888888888888,
              "#fdca26"
             ],
             [
              1,
              "#f0f921"
             ]
            ],
            "type": "histogram2dcontour"
           }
          ],
          "mesh3d": [
           {
            "colorbar": {
             "outlinewidth": 0,
             "ticks": ""
            },
            "type": "mesh3d"
           }
          ],
          "parcoords": [
           {
            "line": {
             "colorbar": {
              "outlinewidth": 0,
              "ticks": ""
             }
            },
            "type": "parcoords"
           }
          ],
          "pie": [
           {
            "automargin": true,
            "type": "pie"
           }
          ],
          "scatter": [
           {
            "fillpattern": {
             "fillmode": "overlay",
             "size": 10,
             "solidity": 0.2
            },
            "type": "scatter"
           }
          ],
          "scatter3d": [
           {
            "line": {
             "colorbar": {
              "outlinewidth": 0,
              "ticks": ""
             }
            },
            "marker": {
             "colorbar": {
              "outlinewidth": 0,
              "ticks": ""
             }
            },
            "type": "scatter3d"
           }
          ],
          "scattercarpet": [
           {
            "marker": {
             "colorbar": {
              "outlinewidth": 0,
              "ticks": ""
             }
            },
            "type": "scattercarpet"
           }
          ],
          "scattergeo": [
           {
            "marker": {
             "colorbar": {
              "outlinewidth": 0,
              "ticks": ""
             }
            },
            "type": "scattergeo"
           }
          ],
          "scattergl": [
           {
            "marker": {
             "colorbar": {
              "outlinewidth": 0,
              "ticks": ""
             }
            },
            "type": "scattergl"
           }
          ],
          "scattermapbox": [
           {
            "marker": {
             "colorbar": {
              "outlinewidth": 0,
              "ticks": ""
             }
            },
            "type": "scattermapbox"
           }
          ],
          "scatterpolar": [
           {
            "marker": {
             "colorbar": {
              "outlinewidth": 0,
              "ticks": ""
             }
            },
            "type": "scatterpolar"
           }
          ],
          "scatterpolargl": [
           {
            "marker": {
             "colorbar": {
              "outlinewidth": 0,
              "ticks": ""
             }
            },
            "type": "scatterpolargl"
           }
          ],
          "scatterternary": [
           {
            "marker": {
             "colorbar": {
              "outlinewidth": 0,
              "ticks": ""
             }
            },
            "type": "scatterternary"
           }
          ],
          "surface": [
           {
            "colorbar": {
             "outlinewidth": 0,
             "ticks": ""
            },
            "colorscale": [
             [
              0,
              "#0d0887"
             ],
             [
              0.1111111111111111,
              "#46039f"
             ],
             [
              0.2222222222222222,
              "#7201a8"
             ],
             [
              0.3333333333333333,
              "#9c179e"
             ],
             [
              0.4444444444444444,
              "#bd3786"
             ],
             [
              0.5555555555555556,
              "#d8576b"
             ],
             [
              0.6666666666666666,
              "#ed7953"
             ],
             [
              0.7777777777777778,
              "#fb9f3a"
             ],
             [
              0.8888888888888888,
              "#fdca26"
             ],
             [
              1,
              "#f0f921"
             ]
            ],
            "type": "surface"
           }
          ],
          "table": [
           {
            "cells": {
             "fill": {
              "color": "#EBF0F8"
             },
             "line": {
              "color": "white"
             }
            },
            "header": {
             "fill": {
              "color": "#C8D4E3"
             },
             "line": {
              "color": "white"
             }
            },
            "type": "table"
           }
          ]
         },
         "layout": {
          "annotationdefaults": {
           "arrowcolor": "#2a3f5f",
           "arrowhead": 0,
           "arrowwidth": 1
          },
          "autotypenumbers": "strict",
          "coloraxis": {
           "colorbar": {
            "outlinewidth": 0,
            "ticks": ""
           }
          },
          "colorscale": {
           "diverging": [
            [
             0,
             "#8e0152"
            ],
            [
             0.1,
             "#c51b7d"
            ],
            [
             0.2,
             "#de77ae"
            ],
            [
             0.3,
             "#f1b6da"
            ],
            [
             0.4,
             "#fde0ef"
            ],
            [
             0.5,
             "#f7f7f7"
            ],
            [
             0.6,
             "#e6f5d0"
            ],
            [
             0.7,
             "#b8e186"
            ],
            [
             0.8,
             "#7fbc41"
            ],
            [
             0.9,
             "#4d9221"
            ],
            [
             1,
             "#276419"
            ]
           ],
           "sequential": [
            [
             0,
             "#0d0887"
            ],
            [
             0.1111111111111111,
             "#46039f"
            ],
            [
             0.2222222222222222,
             "#7201a8"
            ],
            [
             0.3333333333333333,
             "#9c179e"
            ],
            [
             0.4444444444444444,
             "#bd3786"
            ],
            [
             0.5555555555555556,
             "#d8576b"
            ],
            [
             0.6666666666666666,
             "#ed7953"
            ],
            [
             0.7777777777777778,
             "#fb9f3a"
            ],
            [
             0.8888888888888888,
             "#fdca26"
            ],
            [
             1,
             "#f0f921"
            ]
           ],
           "sequentialminus": [
            [
             0,
             "#0d0887"
            ],
            [
             0.1111111111111111,
             "#46039f"
            ],
            [
             0.2222222222222222,
             "#7201a8"
            ],
            [
             0.3333333333333333,
             "#9c179e"
            ],
            [
             0.4444444444444444,
             "#bd3786"
            ],
            [
             0.5555555555555556,
             "#d8576b"
            ],
            [
             0.6666666666666666,
             "#ed7953"
            ],
            [
             0.7777777777777778,
             "#fb9f3a"
            ],
            [
             0.8888888888888888,
             "#fdca26"
            ],
            [
             1,
             "#f0f921"
            ]
           ]
          },
          "colorway": [
           "#636efa",
           "#EF553B",
           "#00cc96",
           "#ab63fa",
           "#FFA15A",
           "#19d3f3",
           "#FF6692",
           "#B6E880",
           "#FF97FF",
           "#FECB52"
          ],
          "font": {
           "color": "#2a3f5f"
          },
          "geo": {
           "bgcolor": "white",
           "lakecolor": "white",
           "landcolor": "white",
           "showlakes": true,
           "showland": true,
           "subunitcolor": "#C8D4E3"
          },
          "hoverlabel": {
           "align": "left"
          },
          "hovermode": "closest",
          "mapbox": {
           "style": "light"
          },
          "paper_bgcolor": "white",
          "plot_bgcolor": "white",
          "polar": {
           "angularaxis": {
            "gridcolor": "#EBF0F8",
            "linecolor": "#EBF0F8",
            "ticks": ""
           },
           "bgcolor": "white",
           "radialaxis": {
            "gridcolor": "#EBF0F8",
            "linecolor": "#EBF0F8",
            "ticks": ""
           }
          },
          "scene": {
           "xaxis": {
            "backgroundcolor": "white",
            "gridcolor": "#DFE8F3",
            "gridwidth": 2,
            "linecolor": "#EBF0F8",
            "showbackground": true,
            "ticks": "",
            "zerolinecolor": "#EBF0F8"
           },
           "yaxis": {
            "backgroundcolor": "white",
            "gridcolor": "#DFE8F3",
            "gridwidth": 2,
            "linecolor": "#EBF0F8",
            "showbackground": true,
            "ticks": "",
            "zerolinecolor": "#EBF0F8"
           },
           "zaxis": {
            "backgroundcolor": "white",
            "gridcolor": "#DFE8F3",
            "gridwidth": 2,
            "linecolor": "#EBF0F8",
            "showbackground": true,
            "ticks": "",
            "zerolinecolor": "#EBF0F8"
           }
          },
          "shapedefaults": {
           "line": {
            "color": "#2a3f5f"
           }
          },
          "ternary": {
           "aaxis": {
            "gridcolor": "#DFE8F3",
            "linecolor": "#A2B1C6",
            "ticks": ""
           },
           "baxis": {
            "gridcolor": "#DFE8F3",
            "linecolor": "#A2B1C6",
            "ticks": ""
           },
           "bgcolor": "white",
           "caxis": {
            "gridcolor": "#DFE8F3",
            "linecolor": "#A2B1C6",
            "ticks": ""
           }
          },
          "title": {
           "x": 0.05
          },
          "xaxis": {
           "automargin": true,
           "gridcolor": "#EBF0F8",
           "linecolor": "#EBF0F8",
           "ticks": "",
           "title": {
            "standoff": 15
           },
           "zerolinecolor": "#EBF0F8",
           "zerolinewidth": 2
          },
          "yaxis": {
           "automargin": true,
           "gridcolor": "#EBF0F8",
           "linecolor": "#EBF0F8",
           "ticks": "",
           "title": {
            "standoff": 15
           },
           "zerolinecolor": "#EBF0F8",
           "zerolinewidth": 2
          }
         }
        },
        "title": {
         "text": "Weights of columns"
        },
        "xaxis": {
         "title": {
          "text": "columns"
         }
        },
        "yaxis": {
         "title": {
          "text": "weights"
         }
        }
       }
      }
     },
     "metadata": {},
     "output_type": "display_data"
    },
    {
     "data": {
      "text/plain": [
       "None"
      ]
     },
     "metadata": {},
     "output_type": "display_data"
    },
    {
     "data": {
      "text/html": [
       "<div>\n",
       "<style scoped>\n",
       "    .dataframe tbody tr th:only-of-type {\n",
       "        vertical-align: middle;\n",
       "    }\n",
       "\n",
       "    .dataframe tbody tr th {\n",
       "        vertical-align: top;\n",
       "    }\n",
       "\n",
       "    .dataframe thead th {\n",
       "        text-align: right;\n",
       "    }\n",
       "</style>\n",
       "<table border=\"1\" class=\"dataframe\">\n",
       "  <thead>\n",
       "    <tr style=\"text-align: right;\">\n",
       "      <th></th>\n",
       "      <th>1993_population</th>\n",
       "      <th>1994_population</th>\n",
       "      <th>1995_population</th>\n",
       "      <th>1996_population</th>\n",
       "      <th>1997_population</th>\n",
       "      <th>1998_population</th>\n",
       "      <th>1999_population</th>\n",
       "      <th>2000_population</th>\n",
       "      <th>2001_population</th>\n",
       "      <th>2002_population</th>\n",
       "      <th>...</th>\n",
       "      <th>2013_spending_HHS</th>\n",
       "      <th>2014_spending_HHS</th>\n",
       "      <th>2015_spending_HHS</th>\n",
       "      <th>2016_spending_HHS</th>\n",
       "      <th>2017_spending_HHS</th>\n",
       "      <th>2018_spending_HHS</th>\n",
       "      <th>2019_spending_HHS</th>\n",
       "      <th>2020_spending_HHS</th>\n",
       "      <th>2021_spending_HHS</th>\n",
       "      <th>distance to 42001</th>\n",
       "    </tr>\n",
       "  </thead>\n",
       "  <tbody>\n",
       "    <tr>\n",
       "      <th>2235</th>\n",
       "      <td>83013.0</td>\n",
       "      <td>84186.0</td>\n",
       "      <td>85063.0</td>\n",
       "      <td>86252.0</td>\n",
       "      <td>87751.0</td>\n",
       "      <td>89074.0</td>\n",
       "      <td>90363.0</td>\n",
       "      <td>91457.0</td>\n",
       "      <td>92591.0</td>\n",
       "      <td>93934.0</td>\n",
       "      <td>...</td>\n",
       "      <td>6.841459e+07</td>\n",
       "      <td>2.843109e+07</td>\n",
       "      <td>1.022756e+07</td>\n",
       "      <td>3.068268e+07</td>\n",
       "      <td>2.081153e+07</td>\n",
       "      <td>3.134013e+07</td>\n",
       "      <td>5.207267e+07</td>\n",
       "      <td>3.151378e+07</td>\n",
       "      <td>4.473508e+07</td>\n",
       "      <td>0.000000</td>\n",
       "    </tr>\n",
       "    <tr>\n",
       "      <th>3006</th>\n",
       "      <td>92876.0</td>\n",
       "      <td>93717.0</td>\n",
       "      <td>94509.0</td>\n",
       "      <td>95529.0</td>\n",
       "      <td>95998.0</td>\n",
       "      <td>96512.0</td>\n",
       "      <td>96985.0</td>\n",
       "      <td>97390.0</td>\n",
       "      <td>97856.0</td>\n",
       "      <td>98097.0</td>\n",
       "      <td>...</td>\n",
       "      <td>2.548639e+07</td>\n",
       "      <td>3.562433e+07</td>\n",
       "      <td>2.471649e+07</td>\n",
       "      <td>3.263073e+07</td>\n",
       "      <td>5.403922e+07</td>\n",
       "      <td>4.703442e+07</td>\n",
       "      <td>5.464052e+07</td>\n",
       "      <td>5.844357e+07</td>\n",
       "      <td>7.377923e+07</td>\n",
       "      <td>0.026253</td>\n",
       "    </tr>\n",
       "    <tr>\n",
       "      <th>1244</th>\n",
       "      <td>96534.0</td>\n",
       "      <td>97920.0</td>\n",
       "      <td>99350.0</td>\n",
       "      <td>100660.0</td>\n",
       "      <td>101474.0</td>\n",
       "      <td>102280.0</td>\n",
       "      <td>102991.0</td>\n",
       "      <td>104000.0</td>\n",
       "      <td>104848.0</td>\n",
       "      <td>105794.0</td>\n",
       "      <td>...</td>\n",
       "      <td>5.135486e+07</td>\n",
       "      <td>1.685584e+07</td>\n",
       "      <td>2.075568e+07</td>\n",
       "      <td>6.394366e+07</td>\n",
       "      <td>2.995285e+07</td>\n",
       "      <td>6.536969e+07</td>\n",
       "      <td>5.782530e+07</td>\n",
       "      <td>6.692654e+07</td>\n",
       "      <td>4.542509e+07</td>\n",
       "      <td>0.030965</td>\n",
       "    </tr>\n",
       "    <tr>\n",
       "      <th>7</th>\n",
       "      <td>116324.0</td>\n",
       "      <td>116161.0</td>\n",
       "      <td>116790.0</td>\n",
       "      <td>116684.0</td>\n",
       "      <td>117254.0</td>\n",
       "      <td>117179.0</td>\n",
       "      <td>114910.0</td>\n",
       "      <td>111081.0</td>\n",
       "      <td>111266.0</td>\n",
       "      <td>111625.0</td>\n",
       "      <td>...</td>\n",
       "      <td>3.943803e+07</td>\n",
       "      <td>4.531137e+07</td>\n",
       "      <td>3.266888e+07</td>\n",
       "      <td>3.188817e+07</td>\n",
       "      <td>3.195046e+07</td>\n",
       "      <td>4.203667e+07</td>\n",
       "      <td>2.714948e+07</td>\n",
       "      <td>2.231390e+07</td>\n",
       "      <td>2.433614e+07</td>\n",
       "      <td>0.033050</td>\n",
       "    </tr>\n",
       "    <tr>\n",
       "      <th>1853</th>\n",
       "      <td>98327.0</td>\n",
       "      <td>98509.0</td>\n",
       "      <td>98816.0</td>\n",
       "      <td>99509.0</td>\n",
       "      <td>99693.0</td>\n",
       "      <td>99603.0</td>\n",
       "      <td>99802.0</td>\n",
       "      <td>100106.0</td>\n",
       "      <td>100819.0</td>\n",
       "      <td>101763.0</td>\n",
       "      <td>...</td>\n",
       "      <td>2.743605e+07</td>\n",
       "      <td>1.820944e+07</td>\n",
       "      <td>7.596719e+06</td>\n",
       "      <td>1.534277e+07</td>\n",
       "      <td>5.635192e+07</td>\n",
       "      <td>2.467059e+07</td>\n",
       "      <td>1.403323e+07</td>\n",
       "      <td>4.650258e+07</td>\n",
       "      <td>4.890882e+07</td>\n",
       "      <td>0.034477</td>\n",
       "    </tr>\n",
       "    <tr>\n",
       "      <th>...</th>\n",
       "      <td>...</td>\n",
       "      <td>...</td>\n",
       "      <td>...</td>\n",
       "      <td>...</td>\n",
       "      <td>...</td>\n",
       "      <td>...</td>\n",
       "      <td>...</td>\n",
       "      <td>...</td>\n",
       "      <td>...</td>\n",
       "      <td>...</td>\n",
       "      <td>...</td>\n",
       "      <td>...</td>\n",
       "      <td>...</td>\n",
       "      <td>...</td>\n",
       "      <td>...</td>\n",
       "      <td>...</td>\n",
       "      <td>...</td>\n",
       "      <td>...</td>\n",
       "      <td>...</td>\n",
       "      <td>...</td>\n",
       "      <td>...</td>\n",
       "    </tr>\n",
       "    <tr>\n",
       "      <th>2384</th>\n",
       "      <td>15660.0</td>\n",
       "      <td>15902.0</td>\n",
       "      <td>15997.0</td>\n",
       "      <td>16082.0</td>\n",
       "      <td>16053.0</td>\n",
       "      <td>16129.0</td>\n",
       "      <td>16386.0</td>\n",
       "      <td>16505.0</td>\n",
       "      <td>16351.0</td>\n",
       "      <td>16479.0</td>\n",
       "      <td>...</td>\n",
       "      <td>4.016453e+09</td>\n",
       "      <td>3.975215e+09</td>\n",
       "      <td>4.085792e+09</td>\n",
       "      <td>3.715688e+09</td>\n",
       "      <td>6.654582e+09</td>\n",
       "      <td>7.660348e+09</td>\n",
       "      <td>1.127461e+10</td>\n",
       "      <td>1.530217e+10</td>\n",
       "      <td>1.712052e+10</td>\n",
       "      <td>2.369198</td>\n",
       "    </tr>\n",
       "    <tr>\n",
       "      <th>2740</th>\n",
       "      <td>649226.0</td>\n",
       "      <td>671759.0</td>\n",
       "      <td>696278.0</td>\n",
       "      <td>717194.0</td>\n",
       "      <td>736587.0</td>\n",
       "      <td>761335.0</td>\n",
       "      <td>788500.0</td>\n",
       "      <td>819692.0</td>\n",
       "      <td>844877.0</td>\n",
       "      <td>848090.0</td>\n",
       "      <td>...</td>\n",
       "      <td>2.225282e+11</td>\n",
       "      <td>2.231797e+11</td>\n",
       "      <td>2.118196e+11</td>\n",
       "      <td>2.138400e+11</td>\n",
       "      <td>2.527288e+11</td>\n",
       "      <td>3.552319e+11</td>\n",
       "      <td>4.896949e+11</td>\n",
       "      <td>6.288495e+11</td>\n",
       "      <td>7.776532e+11</td>\n",
       "      <td>2.469107</td>\n",
       "    </tr>\n",
       "    <tr>\n",
       "      <th>198</th>\n",
       "      <td>9100159.0</td>\n",
       "      <td>9096608.0</td>\n",
       "      <td>9089015.0</td>\n",
       "      <td>9127042.0</td>\n",
       "      <td>9206538.0</td>\n",
       "      <td>9313589.0</td>\n",
       "      <td>9437290.0</td>\n",
       "      <td>9538191.0</td>\n",
       "      <td>9626034.0</td>\n",
       "      <td>9705913.0</td>\n",
       "      <td>...</td>\n",
       "      <td>2.348763e+10</td>\n",
       "      <td>2.294435e+10</td>\n",
       "      <td>2.502567e+10</td>\n",
       "      <td>2.839330e+10</td>\n",
       "      <td>3.868660e+10</td>\n",
       "      <td>5.899629e+10</td>\n",
       "      <td>1.410259e+11</td>\n",
       "      <td>2.187211e+11</td>\n",
       "      <td>2.577860e+11</td>\n",
       "      <td>2.725159</td>\n",
       "    </tr>\n",
       "    <tr>\n",
       "      <th>1819</th>\n",
       "      <td>298592.0</td>\n",
       "      <td>300262.0</td>\n",
       "      <td>299725.0</td>\n",
       "      <td>297680.0</td>\n",
       "      <td>296187.0</td>\n",
       "      <td>295097.0</td>\n",
       "      <td>294692.0</td>\n",
       "      <td>295106.0</td>\n",
       "      <td>296232.0</td>\n",
       "      <td>298283.0</td>\n",
       "      <td>...</td>\n",
       "      <td>3.271360e+11</td>\n",
       "      <td>3.134117e+11</td>\n",
       "      <td>3.894925e+11</td>\n",
       "      <td>3.271486e+11</td>\n",
       "      <td>7.462131e+11</td>\n",
       "      <td>6.579396e+11</td>\n",
       "      <td>8.941410e+11</td>\n",
       "      <td>9.732370e+11</td>\n",
       "      <td>9.351828e+11</td>\n",
       "      <td>2.941499</td>\n",
       "    </tr>\n",
       "    <tr>\n",
       "      <th>213</th>\n",
       "      <td>1127608.0</td>\n",
       "      <td>1130094.0</td>\n",
       "      <td>1140825.0</td>\n",
       "      <td>1155635.0</td>\n",
       "      <td>1169855.0</td>\n",
       "      <td>1186617.0</td>\n",
       "      <td>1206659.0</td>\n",
       "      <td>1229940.0</td>\n",
       "      <td>1266257.0</td>\n",
       "      <td>1301079.0</td>\n",
       "      <td>...</td>\n",
       "      <td>3.614194e+11</td>\n",
       "      <td>4.741250e+11</td>\n",
       "      <td>3.639794e+11</td>\n",
       "      <td>3.878961e+11</td>\n",
       "      <td>3.388018e+11</td>\n",
       "      <td>1.298456e+12</td>\n",
       "      <td>1.235765e+12</td>\n",
       "      <td>1.717218e+12</td>\n",
       "      <td>1.842294e+12</td>\n",
       "      <td>3.359044</td>\n",
       "    </tr>\n",
       "  </tbody>\n",
       "</table>\n",
       "<p>3082 rows × 42 columns</p>\n",
       "</div>"
      ],
      "text/plain": [
       "      1993_population  1994_population  1995_population  1996_population  \\\n",
       "2235          83013.0          84186.0          85063.0          86252.0   \n",
       "3006          92876.0          93717.0          94509.0          95529.0   \n",
       "1244          96534.0          97920.0          99350.0         100660.0   \n",
       "7            116324.0         116161.0         116790.0         116684.0   \n",
       "1853          98327.0          98509.0          98816.0          99509.0   \n",
       "...               ...              ...              ...              ...   \n",
       "2384          15660.0          15902.0          15997.0          16082.0   \n",
       "2740         649226.0         671759.0         696278.0         717194.0   \n",
       "198         9100159.0        9096608.0        9089015.0        9127042.0   \n",
       "1819         298592.0         300262.0         299725.0         297680.0   \n",
       "213         1127608.0        1130094.0        1140825.0        1155635.0   \n",
       "\n",
       "      1997_population  1998_population  1999_population  2000_population  \\\n",
       "2235          87751.0          89074.0          90363.0          91457.0   \n",
       "3006          95998.0          96512.0          96985.0          97390.0   \n",
       "1244         101474.0         102280.0         102991.0         104000.0   \n",
       "7            117254.0         117179.0         114910.0         111081.0   \n",
       "1853          99693.0          99603.0          99802.0         100106.0   \n",
       "...               ...              ...              ...              ...   \n",
       "2384          16053.0          16129.0          16386.0          16505.0   \n",
       "2740         736587.0         761335.0         788500.0         819692.0   \n",
       "198         9206538.0        9313589.0        9437290.0        9538191.0   \n",
       "1819         296187.0         295097.0         294692.0         295106.0   \n",
       "213         1169855.0        1186617.0        1206659.0        1229940.0   \n",
       "\n",
       "      2001_population  2002_population  ...  2013_spending_HHS  \\\n",
       "2235          92591.0          93934.0  ...       6.841459e+07   \n",
       "3006          97856.0          98097.0  ...       2.548639e+07   \n",
       "1244         104848.0         105794.0  ...       5.135486e+07   \n",
       "7            111266.0         111625.0  ...       3.943803e+07   \n",
       "1853         100819.0         101763.0  ...       2.743605e+07   \n",
       "...               ...              ...  ...                ...   \n",
       "2384          16351.0          16479.0  ...       4.016453e+09   \n",
       "2740         844877.0         848090.0  ...       2.225282e+11   \n",
       "198         9626034.0        9705913.0  ...       2.348763e+10   \n",
       "1819         296232.0         298283.0  ...       3.271360e+11   \n",
       "213         1266257.0        1301079.0  ...       3.614194e+11   \n",
       "\n",
       "      2014_spending_HHS  2015_spending_HHS  2016_spending_HHS  \\\n",
       "2235       2.843109e+07       1.022756e+07       3.068268e+07   \n",
       "3006       3.562433e+07       2.471649e+07       3.263073e+07   \n",
       "1244       1.685584e+07       2.075568e+07       6.394366e+07   \n",
       "7          4.531137e+07       3.266888e+07       3.188817e+07   \n",
       "1853       1.820944e+07       7.596719e+06       1.534277e+07   \n",
       "...                 ...                ...                ...   \n",
       "2384       3.975215e+09       4.085792e+09       3.715688e+09   \n",
       "2740       2.231797e+11       2.118196e+11       2.138400e+11   \n",
       "198        2.294435e+10       2.502567e+10       2.839330e+10   \n",
       "1819       3.134117e+11       3.894925e+11       3.271486e+11   \n",
       "213        4.741250e+11       3.639794e+11       3.878961e+11   \n",
       "\n",
       "      2017_spending_HHS  2018_spending_HHS  2019_spending_HHS  \\\n",
       "2235       2.081153e+07       3.134013e+07       5.207267e+07   \n",
       "3006       5.403922e+07       4.703442e+07       5.464052e+07   \n",
       "1244       2.995285e+07       6.536969e+07       5.782530e+07   \n",
       "7          3.195046e+07       4.203667e+07       2.714948e+07   \n",
       "1853       5.635192e+07       2.467059e+07       1.403323e+07   \n",
       "...                 ...                ...                ...   \n",
       "2384       6.654582e+09       7.660348e+09       1.127461e+10   \n",
       "2740       2.527288e+11       3.552319e+11       4.896949e+11   \n",
       "198        3.868660e+10       5.899629e+10       1.410259e+11   \n",
       "1819       7.462131e+11       6.579396e+11       8.941410e+11   \n",
       "213        3.388018e+11       1.298456e+12       1.235765e+12   \n",
       "\n",
       "      2020_spending_HHS  2021_spending_HHS  distance to 42001  \n",
       "2235       3.151378e+07       4.473508e+07           0.000000  \n",
       "3006       5.844357e+07       7.377923e+07           0.026253  \n",
       "1244       6.692654e+07       4.542509e+07           0.030965  \n",
       "7          2.231390e+07       2.433614e+07           0.033050  \n",
       "1853       4.650258e+07       4.890882e+07           0.034477  \n",
       "...                 ...                ...                ...  \n",
       "2384       1.530217e+10       1.712052e+10           2.369198  \n",
       "2740       6.288495e+11       7.776532e+11           2.469107  \n",
       "198        2.187211e+11       2.577860e+11           2.725159  \n",
       "1819       9.732370e+11       9.351828e+11           2.941499  \n",
       "213        1.717218e+12       1.842294e+12           3.359044  \n",
       "\n",
       "[3082 rows x 42 columns]"
      ]
     },
     "metadata": {},
     "output_type": "display_data"
    }
   ],
   "source": [
    "# You don't want to pass outcome and are interested in similarities\n",
    "print(list_available_features())\n",
    "f  = FipsQuery(42001, feature_groups_with_weights= {\"population\":4, \"spending_HHS\": 3})\n",
    "f.find_euclidean_kins()\n",
    "display(f.plot_weights())\n",
    "display(f.euclidean_kins)"
   ]
  },
  {
   "cell_type": "markdown",
   "metadata": {},
   "source": [
    "#### Use case: I just want a rough idea\n",
    "\n",
    "You want to know where your jurisdiction stands relative to all the others in the country. you also know the rate \n",
    "of locations where the most recent value of the outcome is lower than yours."
   ]
  },
  {
   "cell_type": "code",
   "execution_count": 7,
   "metadata": {},
   "outputs": [
    {
     "data": {
      "application/vnd.plotly.v1+json": {
       "config": {
        "plotlyServerURL": "https://plot.ly"
       },
       "data": [
        {
         "line": {
          "color": "lightgray"
         },
         "mode": "lines",
         "name": "Bullock, AL",
         "opacity": 0.4,
         "showlegend": false,
         "text": "Bullock, AL",
         "textposition": "top right",
         "type": "scatter",
         "x": [
          2001,
          2002,
          2003,
          2004,
          2005,
          2006,
          2007,
          2008,
          2009,
          2010,
          2011,
          2013,
          2014,
          2015,
          2016,
          2017,
          2018,
          2019,
          2020,
          2021
         ],
         "y": [
          95.536,
          98.775,
          97.23,
          96.127,
          95.487,
          99.292,
          93.241,
          91.826,
          103.48,
          97.144,
          93.676,
          91.725,
          85.32,
          83.113,
          90.667,
          91.252,
          95.865,
          101.822,
          102.315,
          96.313
         ]
        },
        {
         "line": {
          "color": "lightgray"
         },
         "mode": "lines",
         "name": "Calhoun, AL",
         "opacity": 0.4,
         "showlegend": false,
         "text": "Calhoun, AL",
         "textposition": "top right",
         "type": "scatter",
         "x": [
          2001,
          2002,
          2003,
          2004,
          2005,
          2006,
          2007,
          2008,
          2009,
          2010,
          2011,
          2013,
          2014,
          2015,
          2016,
          2017,
          2018,
          2019,
          2020,
          2021
         ],
         "y": [
          83.913,
          86.279,
          89.428,
          97.042,
          102.875,
          103.115,
          105.891,
          106.814,
          101.016,
          105.075,
          100.12,
          96.897,
          92.965,
          91.583,
          92.528,
          93.723,
          95.034,
          99.6,
          96.897,
          102.155
         ]
        },
        {
         "line": {
          "color": "lightgray"
         },
         "mode": "lines",
         "name": "Cleburne, AR",
         "opacity": 0.4,
         "showlegend": false,
         "text": "Cleburne, AR",
         "textposition": "top right",
         "type": "scatter",
         "x": [
          2001,
          2002,
          2003,
          2004,
          2005,
          2006,
          2007,
          2008,
          2009,
          2010,
          2011,
          2013,
          2014,
          2015,
          2016,
          2017,
          2018,
          2019,
          2020,
          2021
         ],
         "y": [
          56.597,
          63.097,
          60.489,
          62.78,
          66.151,
          67.047,
          68.007,
          74.574,
          76.873,
          92.235,
          102.574,
          101.929,
          107.651,
          104.919,
          94.516,
          89.579,
          86.414,
          89.275,
          85.701,
          89.749
         ]
        },
        {
         "line": {
          "color": "lightgray"
         },
         "mode": "lines",
         "name": "Hempstead, AR",
         "opacity": 0.4,
         "showlegend": false,
         "text": "Hempstead, AR",
         "textposition": "top right",
         "type": "scatter",
         "x": [
          2001,
          2002,
          2003,
          2004,
          2005,
          2006,
          2007,
          2008,
          2009,
          2010,
          2011,
          2013,
          2014,
          2015,
          2016,
          2017,
          2018,
          2019,
          2020,
          2021
         ],
         "y": [
          91.134,
          95.651,
          102.655,
          117.935,
          116.137,
          105.45,
          90.652,
          85.696,
          83.506,
          93.92,
          98.227,
          116.124,
          121.712,
          115.182,
          118.932,
          129.365,
          126.115,
          123.76,
          124.201,
          133.412
         ]
        },
        {
         "line": {
          "color": "lightgray"
         },
         "mode": "lines",
         "name": "Lonoke, AR",
         "opacity": 0.4,
         "showlegend": false,
         "text": "Lonoke, AR",
         "textposition": "top right",
         "type": "scatter",
         "x": [
          2001,
          2002,
          2003,
          2004,
          2005,
          2006,
          2007,
          2008,
          2009,
          2010,
          2011,
          2013,
          2014,
          2015,
          2016,
          2017,
          2018,
          2019,
          2020,
          2021
         ],
         "y": [
          78.542,
          79.574,
          88.111,
          93.13,
          93.576,
          99.252,
          98.847,
          95.685,
          98.43,
          101.827,
          99.725,
          106.2,
          103.639,
          101.066,
          99.505,
          101.065,
          101.241,
          100.153,
          100.971,
          105.155
         ]
        },
        {
         "line": {
          "color": "lightgray"
         },
         "mode": "lines",
         "name": "Pulaski, AR",
         "opacity": 0.4,
         "showlegend": false,
         "text": "Pulaski, AR",
         "textposition": "top right",
         "type": "scatter",
         "x": [
          2001,
          2002,
          2003,
          2004,
          2005,
          2006,
          2007,
          2008,
          2009,
          2010,
          2011,
          2013,
          2014,
          2015,
          2016,
          2017,
          2018,
          2019,
          2020,
          2021
         ],
         "y": [
          86.491,
          88.851,
          93.023,
          95.954,
          102.039,
          104.098,
          107.078,
          104.811,
          100.743,
          98.854,
          100.575,
          100.431,
          101.263,
          103.693,
          104.212,
          103.261,
          104.461,
          106.877,
          106.213,
          110.386
         ]
        },
        {
         "line": {
          "color": "lightgray"
         },
         "mode": "lines",
         "name": "Calaveras, CA",
         "opacity": 0.4,
         "showlegend": false,
         "text": "Calaveras, CA",
         "textposition": "top right",
         "type": "scatter",
         "x": [
          2001,
          2002,
          2003,
          2004,
          2005,
          2006,
          2007,
          2008,
          2009,
          2010,
          2011,
          2013,
          2014,
          2015,
          2016,
          2017,
          2018,
          2019,
          2020,
          2021
         ],
         "y": [
          106.414,
          113.295,
          114.511,
          111.615,
          109.762,
          106.111,
          104.358,
          102.691,
          98.281,
          107.091,
          108.082,
          96.852,
          106.136,
          109.902,
          118.189,
          122.773,
          117.652,
          134.256,
          126.915,
          130.244
         ]
        },
        {
         "line": {
          "color": "lightgray"
         },
         "mode": "lines",
         "name": "San Francisco, CA",
         "opacity": 0.4,
         "showlegend": false,
         "text": "San Francisco, CA",
         "textposition": "top right",
         "type": "scatter",
         "x": [
          2001,
          2002,
          2003,
          2004,
          2005,
          2006,
          2007,
          2008,
          2009,
          2010,
          2011,
          2013,
          2014,
          2015,
          2016,
          2017,
          2018,
          2019,
          2020,
          2021
         ],
         "y": [
          80.455,
          75.797,
          74.568,
          73.825,
          77.674,
          80.61,
          82.823,
          82.415,
          83.254,
          85.783,
          91.516,
          103.948,
          111.757,
          119.736,
          129.427,
          138.505,
          148.316,
          158.562,
          158.248,
          180.395
         ]
        },
        {
         "line": {
          "color": "lightgray"
         },
         "mode": "lines",
         "name": "Bent, CO",
         "opacity": 0.4,
         "showlegend": false,
         "text": "Bent, CO",
         "textposition": "top right",
         "type": "scatter",
         "x": [
          2001,
          2002,
          2003,
          2004,
          2005,
          2006,
          2007,
          2008,
          2009,
          2010,
          2011,
          2013,
          2014,
          2015,
          2016,
          2017,
          2018,
          2019,
          2020,
          2021
         ],
         "y": [
          95.487,
          77.553,
          91.026,
          89.977,
          88.866,
          85.461,
          90.436,
          96.258,
          103.391,
          98.011,
          115.269,
          105.651,
          97.05,
          94.573,
          91.972,
          83.197,
          82.944,
          80.286,
          84.338,
          80.208
         ]
        },
        {
         "line": {
          "color": "lightgray"
         },
         "mode": "lines",
         "name": "Logan, CO",
         "opacity": 0.4,
         "showlegend": false,
         "text": "Logan, CO",
         "textposition": "top right",
         "type": "scatter",
         "x": [
          2001,
          2002,
          2003,
          2004,
          2005,
          2006,
          2007,
          2008,
          2009,
          2010,
          2011,
          2013,
          2014,
          2015,
          2016,
          2017,
          2018,
          2019,
          2020,
          2021
         ],
         "y": [
          81.408,
          80.353,
          80.309,
          76.114,
          79.58,
          84.901,
          91.038,
          97.852,
          89.55,
          97.257,
          96.245,
          100.321,
          101.801,
          111.585,
          115.245,
          98.122,
          94.442,
          93.464,
          86.813,
          94.2
         ]
        },
        {
         "line": {
          "color": "lightgray"
         },
         "mode": "lines",
         "name": "Mineral, CO",
         "opacity": 0.4,
         "showlegend": false,
         "text": "Mineral, CO",
         "textposition": "top right",
         "type": "scatter",
         "x": [
          2001,
          2002,
          2003,
          2004,
          2005,
          2006,
          2007,
          2008,
          2009,
          2010,
          2011,
          2013,
          2014,
          2015,
          2016,
          2017,
          2018,
          2019,
          2020,
          2021
         ],
         "y": [
          100.787,
          111.568,
          108.564,
          103.834,
          104.124,
          110.19,
          106.327,
          122.517,
          118.994,
          123.79,
          137.642,
          111.393,
          106.054,
          114.738,
          113.523,
          120.252,
          125.383,
          127.387,
          108.717,
          123.284
         ]
        },
        {
         "line": {
          "color": "lightgray"
         },
         "mode": "lines",
         "name": "Atkinson, GA",
         "opacity": 0.4,
         "showlegend": false,
         "text": "Atkinson, GA",
         "textposition": "top right",
         "type": "scatter",
         "x": [
          2001,
          2002,
          2003,
          2004,
          2005,
          2006,
          2007,
          2008,
          2009,
          2010,
          2011,
          2013,
          2014,
          2015,
          2016,
          2017,
          2018,
          2019,
          2020,
          2021
         ],
         "y": [
          90.029,
          90.595,
          97.829,
          97.218,
          104.42,
          106.549,
          96.189,
          105.186,
          102.901,
          103.531,
          101.516,
          107.037,
          105.913,
          122.372,
          116.984,
          126.229,
          127.228,
          132.961,
          131.684,
          129.693
         ]
        },
        {
         "line": {
          "color": "lightgray"
         },
         "mode": "lines",
         "name": "Berrien, GA",
         "opacity": 0.4,
         "showlegend": false,
         "text": "Berrien, GA",
         "textposition": "top right",
         "type": "scatter",
         "x": [
          2001,
          2002,
          2003,
          2004,
          2005,
          2006,
          2007,
          2008,
          2009,
          2010,
          2011,
          2013,
          2014,
          2015,
          2016,
          2017,
          2018,
          2019,
          2020,
          2021
         ],
         "y": [
          89.643,
          109.715,
          140.022,
          152.089,
          166.039,
          169.247,
          146.752,
          150.29,
          139.781,
          141.626,
          117.499,
          92.71,
          84.789,
          80.606,
          80.661,
          81.768,
          81.77,
          88.345,
          77.905,
          80.401
         ]
        },
        {
         "line": {
          "color": "lightgray"
         },
         "mode": "lines",
         "name": "Brooks, GA",
         "opacity": 0.4,
         "showlegend": false,
         "text": "Brooks, GA",
         "textposition": "top right",
         "type": "scatter",
         "x": [
          2001,
          2002,
          2003,
          2004,
          2005,
          2006,
          2007,
          2008,
          2009,
          2010,
          2011,
          2013,
          2014,
          2015,
          2016,
          2017,
          2018,
          2019,
          2020,
          2021
         ],
         "y": [
          106.191,
          106.606,
          111.047,
          103.128,
          111.455,
          112.721,
          112.197,
          120.438,
          124.045,
          112.016,
          118.454,
          101.479,
          103.161,
          109.137,
          115.932,
          115.024,
          112.721,
          141.148,
          171.736,
          175.667
         ]
        },
        {
         "line": {
          "color": "lightgray"
         },
         "mode": "lines",
         "name": "Clayton, GA",
         "opacity": 0.4,
         "showlegend": false,
         "text": "Clayton, GA",
         "textposition": "top right",
         "type": "scatter",
         "x": [
          2001,
          2002,
          2003,
          2004,
          2005,
          2006,
          2007,
          2008,
          2009,
          2010,
          2011,
          2013,
          2014,
          2015,
          2016,
          2017,
          2018,
          2019,
          2020,
          2021
         ],
         "y": [
          79.828,
          78.326,
          84.578,
          89.146,
          93.34,
          90.054,
          100.755,
          90.946,
          96.207,
          100.063,
          98.464,
          103.03,
          102.083,
          109.319,
          117.701,
          120.704,
          125.218,
          125.403,
          93.419,
          105.968
         ]
        },
        {
         "line": {
          "color": "lightgray"
         },
         "mode": "lines",
         "name": "Hall, GA",
         "opacity": 0.4,
         "showlegend": false,
         "text": "Hall, GA",
         "textposition": "top right",
         "type": "scatter",
         "x": [
          2001,
          2002,
          2003,
          2004,
          2005,
          2006,
          2007,
          2008,
          2009,
          2010,
          2011,
          2013,
          2014,
          2015,
          2016,
          2017,
          2018,
          2019,
          2020,
          2021
         ],
         "y": [
          83.471,
          84.398,
          88.353,
          91.235,
          94.608,
          95.125,
          98.32,
          97.916,
          92.063,
          93.569,
          100.829,
          101.93,
          107.603,
          112.453,
          116.534,
          125.622,
          131.209,
          136.134,
          135.977,
          147.885
         ]
        },
        {
         "line": {
          "color": "lightgray"
         },
         "mode": "lines",
         "name": "Spalding, GA",
         "opacity": 0.4,
         "showlegend": false,
         "text": "Spalding, GA",
         "textposition": "top right",
         "type": "scatter",
         "x": [
          2001,
          2002,
          2003,
          2004,
          2005,
          2006,
          2007,
          2008,
          2009,
          2010,
          2011,
          2013,
          2014,
          2015,
          2016,
          2017,
          2018,
          2019,
          2020,
          2021
         ],
         "y": [
          95.764,
          99.945,
          100.159,
          103.982,
          106.514,
          106.478,
          105.274,
          105.434,
          102.327,
          103.749,
          102.896,
          94.738,
          91.845,
          95.811,
          94.482,
          96.264,
          96.135,
          98.549,
          96.98,
          102.953
         ]
        },
        {
         "line": {
          "color": "lightgray"
         },
         "mode": "lines",
         "name": "Walton, GA",
         "opacity": 0.4,
         "showlegend": false,
         "text": "Walton, GA",
         "textposition": "top right",
         "type": "scatter",
         "x": [
          2001,
          2002,
          2003,
          2004,
          2005,
          2006,
          2007,
          2008,
          2009,
          2010,
          2011,
          2013,
          2014,
          2015,
          2016,
          2017,
          2018,
          2019,
          2020,
          2021
         ],
         "y": [
          80.244,
          81.333,
          87.232,
          92.366,
          97.878,
          102.389,
          102.55,
          102.155,
          99.47,
          101.029,
          101.537,
          99.086,
          102.586,
          109.442,
          116.638,
          121.064,
          122.311,
          129.649,
          128.825,
          139.359
         ]
        },
        {
         "line": {
          "color": "lightgray"
         },
         "mode": "lines",
         "name": "Caribou, ID",
         "opacity": 0.4,
         "showlegend": false,
         "text": "Caribou, ID",
         "textposition": "top right",
         "type": "scatter",
         "x": [
          2001,
          2002,
          2003,
          2004,
          2005,
          2006,
          2007,
          2008,
          2009,
          2010,
          2011,
          2013,
          2014,
          2015,
          2016,
          2017,
          2018,
          2019,
          2020,
          2021
         ],
         "y": [
          158.441,
          89.44,
          89.19,
          93.338,
          112.447,
          103.343,
          105.957,
          136.029,
          122.965,
          111.407,
          114.846,
          113.167,
          98.798,
          98.114,
          116.063,
          102.355,
          106.585,
          113.144,
          123.116,
          132.234
         ]
        },
        {
         "line": {
          "color": "lightgray"
         },
         "mode": "lines",
         "name": "Custer, ID",
         "opacity": 0.4,
         "showlegend": false,
         "text": "Custer, ID",
         "textposition": "top right",
         "type": "scatter",
         "x": [
          2001,
          2002,
          2003,
          2004,
          2005,
          2006,
          2007,
          2008,
          2009,
          2010,
          2011,
          2013,
          2014,
          2015,
          2016,
          2017,
          2018,
          2019,
          2020,
          2021
         ],
         "y": [
          74.821,
          67.033,
          69.673,
          73.053,
          112.333,
          104.53,
          103.114,
          128.992,
          127.688,
          139.133,
          138.328,
          125.159,
          136.42,
          77.627,
          76.443,
          65.395,
          68.921,
          67.431,
          69.704,
          71.982
         ]
        },
        {
         "line": {
          "color": "lightgray"
         },
         "mode": "lines",
         "name": "Lincoln, ID",
         "opacity": 0.4,
         "showlegend": false,
         "text": "Lincoln, ID",
         "textposition": "top right",
         "type": "scatter",
         "x": [
          2001,
          2002,
          2003,
          2004,
          2005,
          2006,
          2007,
          2008,
          2009,
          2010,
          2011,
          2013,
          2014,
          2015,
          2016,
          2017,
          2018,
          2019,
          2020,
          2021
         ],
         "y": [
          65.424,
          63.806,
          64.682,
          68.441,
          72.321,
          72.189,
          98.091,
          109.608,
          100.171,
          109.376,
          103.563,
          104.918,
          124.745,
          112.006,
          128.757,
          141.296,
          145.625,
          145.132,
          142.476,
          136.999
         ]
        },
        {
         "line": {
          "color": "lightgray"
         },
         "mode": "lines",
         "name": "Massac, IL",
         "opacity": 0.4,
         "showlegend": false,
         "text": "Massac, IL",
         "textposition": "top right",
         "type": "scatter",
         "x": [
          2001,
          2002,
          2003,
          2004,
          2005,
          2006,
          2007,
          2008,
          2009,
          2010,
          2011,
          2013,
          2014,
          2015,
          2016,
          2017,
          2018,
          2019,
          2020,
          2021
         ],
         "y": [
          112.634,
          109.354,
          110.01,
          116.548,
          113.422,
          110.969,
          104.883,
          107.258,
          98.566,
          110.564,
          109.866,
          95.064,
          98.352,
          85.182,
          75.571,
          70.007,
          72.257,
          71.487,
          68.06,
          77.601
         ]
        },
        {
         "line": {
          "color": "lightgray"
         },
         "mode": "lines",
         "name": "Greene, IA",
         "opacity": 0.4,
         "showlegend": false,
         "text": "Greene, IA",
         "textposition": "top right",
         "type": "scatter",
         "x": [
          2001,
          2002,
          2003,
          2004,
          2005,
          2006,
          2007,
          2008,
          2009,
          2010,
          2011,
          2013,
          2014,
          2015,
          2016,
          2017,
          2018,
          2019,
          2020,
          2021
         ],
         "y": [
          61.846,
          71.6,
          72.801,
          80.605,
          76.351,
          74.632,
          84.754,
          84.728,
          98.054,
          92.429,
          103.578,
          106.931,
          104.022,
          93.559,
          91.546,
          100.273,
          107.117,
          106.705,
          108.598,
          122.711
         ]
        },
        {
         "line": {
          "color": "lightgray"
         },
         "mode": "lines",
         "name": "Hamilton, IA",
         "opacity": 0.4,
         "showlegend": false,
         "text": "Hamilton, IA",
         "textposition": "top right",
         "type": "scatter",
         "x": [
          2001,
          2002,
          2003,
          2004,
          2005,
          2006,
          2007,
          2008,
          2009,
          2010,
          2011,
          2013,
          2014,
          2015,
          2016,
          2017,
          2018,
          2019,
          2020,
          2021
         ],
         "y": [
          97.613,
          93.011,
          110.396,
          126.81,
          127.346,
          159.658,
          147.227,
          118.79,
          100.39,
          104.933,
          106.223,
          115.542,
          126.352,
          124.267,
          123.121,
          128.87,
          136.425,
          125.349,
          106.832,
          113.661
         ]
        },
        {
         "line": {
          "color": "lightgray"
         },
         "mode": "lines",
         "name": "Iowa, IA",
         "opacity": 0.4,
         "showlegend": false,
         "text": "Iowa, IA",
         "textposition": "top right",
         "type": "scatter",
         "x": [
          2001,
          2002,
          2003,
          2004,
          2005,
          2006,
          2007,
          2008,
          2009,
          2010,
          2011,
          2013,
          2014,
          2015,
          2016,
          2017,
          2018,
          2019,
          2020,
          2021
         ],
         "y": [
          84.376,
          94.876,
          103.415,
          106.594,
          100.4,
          109.496,
          103.204,
          109.575,
          91.483,
          100.942,
          85.996,
          120.415,
          112.459,
          92.447,
          98.545,
          116.618,
          124.394,
          118.832,
          113.482,
          125.636
         ]
        },
        {
         "line": {
          "color": "lightgray"
         },
         "mode": "lines",
         "name": "Jackson, IA",
         "opacity": 0.4,
         "showlegend": false,
         "text": "Jackson, IA",
         "textposition": "top right",
         "type": "scatter",
         "x": [
          2001,
          2002,
          2003,
          2004,
          2005,
          2006,
          2007,
          2008,
          2009,
          2010,
          2011,
          2013,
          2014,
          2015,
          2016,
          2017,
          2018,
          2019,
          2020,
          2021
         ],
         "y": [
          76.633,
          79.022,
          87.465,
          93.189,
          92.747,
          91.106,
          86.541,
          90.302,
          85.617,
          90.721,
          97.141,
          103.495,
          101.671,
          113.235,
          123.977,
          116.309,
          112.775,
          111.324,
          113.049,
          113.563
         ]
        },
        {
         "line": {
          "color": "lightgray"
         },
         "mode": "lines",
         "name": "Kossuth, IA",
         "opacity": 0.4,
         "showlegend": false,
         "text": "Kossuth, IA",
         "textposition": "top right",
         "type": "scatter",
         "x": [
          2001,
          2002,
          2003,
          2004,
          2005,
          2006,
          2007,
          2008,
          2009,
          2010,
          2011,
          2013,
          2014,
          2015,
          2016,
          2017,
          2018,
          2019,
          2020,
          2021
         ],
         "y": [
          58.55,
          63.526,
          68.638,
          76.843,
          80.618,
          82.394,
          85.337,
          82.349,
          84.278,
          88.131,
          91.703,
          109.952,
          113.774,
          105.924,
          104.118,
          99.809,
          102.321,
          98.026,
          89.245,
          101.615
         ]
        },
        {
         "line": {
          "color": "lightgray"
         },
         "mode": "lines",
         "name": "Lee, IA",
         "opacity": 0.4,
         "showlegend": false,
         "text": "Lee, IA",
         "textposition": "top right",
         "type": "scatter",
         "x": [
          2001,
          2002,
          2003,
          2004,
          2005,
          2006,
          2007,
          2008,
          2009,
          2010,
          2011,
          2013,
          2014,
          2015,
          2016,
          2017,
          2018,
          2019,
          2020,
          2021
         ],
         "y": [
          97.532,
          98.663,
          102.729,
          103.103,
          99.082,
          94.382,
          94.392,
          99.507,
          98.552,
          101.291,
          100.778,
          102.151,
          105.078,
          112.761,
          105.712,
          97.351,
          96.79,
          99.03,
          98.388,
          99.553
         ]
        },
        {
         "line": {
          "color": "lightgray"
         },
         "mode": "lines",
         "name": "Chautauqua, KS",
         "opacity": 0.4,
         "showlegend": false,
         "text": "Chautauqua, KS",
         "textposition": "top right",
         "type": "scatter",
         "x": [
          2001,
          2002,
          2003,
          2004,
          2005,
          2006,
          2007,
          2008,
          2009,
          2010,
          2011,
          2013,
          2014,
          2015,
          2016,
          2017,
          2018,
          2019,
          2020,
          2021
         ],
         "y": [
          90.143,
          118.758,
          102.741,
          96.611,
          93.773,
          90.38,
          85.793,
          87.502,
          97.859,
          99.208,
          99.393,
          106.046,
          103.353,
          100.554,
          101.246,
          99.481,
          104.799,
          99.636,
          103.135,
          108.349
         ]
        },
        {
         "line": {
          "color": "lightgray"
         },
         "mode": "lines",
         "name": "Grant, KS",
         "opacity": 0.4,
         "showlegend": false,
         "text": "Grant, KS",
         "textposition": "top right",
         "type": "scatter",
         "x": [
          2001,
          2002,
          2003,
          2004,
          2005,
          2006,
          2007,
          2008,
          2009,
          2010,
          2011,
          2013,
          2014,
          2015,
          2016,
          2017,
          2018,
          2019,
          2020,
          2021
         ],
         "y": [
          89.173,
          94.778,
          97.021,
          88.661,
          100.311,
          89.141,
          85.329,
          91.58,
          107.647,
          109.102,
          116.659,
          106.055,
          112.776,
          107.93,
          134.71,
          103.113,
          111.627,
          83.514,
          88.11,
          85.007
         ]
        },
        {
         "line": {
          "color": "lightgray"
         },
         "mode": "lines",
         "name": "Smith, KS",
         "opacity": 0.4,
         "showlegend": false,
         "text": "Smith, KS",
         "textposition": "top right",
         "type": "scatter",
         "x": [
          2001,
          2002,
          2003,
          2004,
          2005,
          2006,
          2007,
          2008,
          2009,
          2010,
          2011,
          2013,
          2014,
          2015,
          2016,
          2017,
          2018,
          2019,
          2020,
          2021
         ],
         "y": [
          87.348,
          71.039,
          89.374,
          77.713,
          87.64,
          108.626,
          96.153,
          103.865,
          107.117,
          110.927,
          133.049,
          113.654,
          91.814,
          106.377,
          85.376,
          79.559,
          95.49,
          105.385,
          111.094,
          108.061
         ]
        },
        {
         "line": {
          "color": "lightgray"
         },
         "mode": "lines",
         "name": "Bath, KY",
         "opacity": 0.4,
         "showlegend": false,
         "text": "Bath, KY",
         "textposition": "top right",
         "type": "scatter",
         "x": [
          2001,
          2002,
          2003,
          2004,
          2005,
          2006,
          2007,
          2008,
          2009,
          2010,
          2011,
          2013,
          2014,
          2015,
          2016,
          2017,
          2018,
          2019,
          2020,
          2021
         ],
         "y": [
          99.365,
          115.032,
          111.84,
          111.727,
          108.059,
          101.065,
          105.025,
          101.828,
          91.408,
          92.6,
          97.393,
          102.557,
          99.993,
          106.767,
          108.524,
          117.515,
          122.885,
          126.334,
          120.269,
          122.541
         ]
        },
        {
         "line": {
          "color": "lightgray"
         },
         "mode": "lines",
         "name": "Lyon, KY",
         "opacity": 0.4,
         "showlegend": false,
         "text": "Lyon, KY",
         "textposition": "top right",
         "type": "scatter",
         "x": [
          2001,
          2002,
          2003,
          2004,
          2005,
          2006,
          2007,
          2008,
          2009,
          2010,
          2011,
          2013,
          2014,
          2015,
          2016,
          2017,
          2018,
          2019,
          2020,
          2021
         ],
         "y": [
          106.111,
          111.772,
          95.724,
          95.811,
          96.176,
          94.914,
          93.176,
          98.494,
          101.74,
          97.989,
          96.196,
          98.716,
          100.135,
          98.169,
          103.574,
          108.217,
          105.981,
          108.88,
          110.087,
          108.728
         ]
        },
        {
         "line": {
          "color": "lightgray"
         },
         "mode": "lines",
         "name": "Evangeline, LA",
         "opacity": 0.4,
         "showlegend": false,
         "text": "Evangeline, LA",
         "textposition": "top right",
         "type": "scatter",
         "x": [
          2001,
          2002,
          2003,
          2004,
          2005,
          2006,
          2007,
          2008,
          2009,
          2010,
          2011,
          2013,
          2014,
          2015,
          2016,
          2017,
          2018,
          2019,
          2020,
          2021
         ],
         "y": [
          74.255,
          74.997,
          81.431,
          83.542,
          84.957,
          92.8,
          83.171,
          89.837,
          97.899,
          95.016,
          90.023,
          90.335,
          93.163,
          93.35,
          92.203,
          91.097,
          89.927,
          92.096,
          93.926,
          90.608
         ]
        },
        {
         "line": {
          "color": "lightgray"
         },
         "mode": "lines",
         "name": "Livingston, LA",
         "opacity": 0.4,
         "showlegend": false,
         "text": "Livingston, LA",
         "textposition": "top right",
         "type": "scatter",
         "x": [
          2001,
          2002,
          2003,
          2004,
          2005,
          2006,
          2007,
          2008,
          2009,
          2010,
          2011,
          2013,
          2014,
          2015,
          2016,
          2017,
          2018,
          2019,
          2020,
          2021
         ],
         "y": [
          48.418,
          52.121,
          55.873,
          59.646,
          66.944,
          70.534,
          68.055,
          76.593,
          78.615,
          93.419,
          98.747,
          100.371,
          97.854,
          102.601,
          99.23,
          102.111,
          116.66,
          115.36,
          110.766,
          117.519
         ]
        },
        {
         "line": {
          "color": "lightgray"
         },
         "mode": "lines",
         "name": "Allegany, MD",
         "opacity": 0.4,
         "showlegend": false,
         "text": "Allegany, MD",
         "textposition": "top right",
         "type": "scatter",
         "x": [
          2001,
          2002,
          2003,
          2004,
          2005,
          2006,
          2007,
          2008,
          2009,
          2010,
          2011,
          2013,
          2014,
          2015,
          2016,
          2017,
          2018,
          2019,
          2020,
          2021
         ],
         "y": [
          102.724,
          101.949,
          100.13,
          98.733,
          97.555,
          96.226,
          95.585,
          96.299,
          94.598,
          101.366,
          100.768,
          95.833,
          96.675,
          97.905,
          103.183,
          105.549,
          105.938,
          104.678,
          96.545,
          95.733
         ]
        },
        {
         "line": {
          "color": "lightgray"
         },
         "mode": "lines",
         "name": "Harford, MD",
         "opacity": 0.4,
         "showlegend": false,
         "text": "Harford, MD",
         "textposition": "top right",
         "type": "scatter",
         "x": [
          2001,
          2002,
          2003,
          2004,
          2005,
          2006,
          2007,
          2008,
          2009,
          2010,
          2011,
          2013,
          2014,
          2015,
          2016,
          2017,
          2018,
          2019,
          2020,
          2021
         ],
         "y": [
          69.221,
          73.587,
          77.239,
          80.711,
          82.6,
          86.254,
          87.856,
          89.004,
          89.421,
          92.902,
          98.218,
          101.987,
          100.884,
          103.148,
          105.872,
          109.27,
          110.378,
          112.447,
          110.472,
          113.753
         ]
        },
        {
         "line": {
          "color": "lightgray"
         },
         "mode": "lines",
         "name": "Rice, MN",
         "opacity": 0.4,
         "showlegend": false,
         "text": "Rice, MN",
         "textposition": "top right",
         "type": "scatter",
         "x": [
          2001,
          2002,
          2003,
          2004,
          2005,
          2006,
          2007,
          2008,
          2009,
          2010,
          2011,
          2013,
          2014,
          2015,
          2016,
          2017,
          2018,
          2019,
          2020,
          2021
         ],
         "y": [
          87.54,
          91.327,
          92.045,
          93.811,
          94.706,
          99.311,
          113.569,
          99.125,
          97.098,
          97.986,
          96.543,
          102.37,
          103.093,
          105.627,
          108.495,
          114.448,
          116.687,
          117.285,
          115.112,
          116.47
         ]
        },
        {
         "line": {
          "color": "lightgray"
         },
         "mode": "lines",
         "name": "DeSoto, MS",
         "opacity": 0.4,
         "showlegend": false,
         "text": "DeSoto, MS",
         "textposition": "top right",
         "type": "scatter",
         "x": [
          2001,
          2002,
          2003,
          2004,
          2005,
          2006,
          2007,
          2008,
          2009,
          2010,
          2011,
          2013,
          2014,
          2015,
          2016,
          2017,
          2018,
          2019,
          2020,
          2021
         ],
         "y": [
          68.843,
          72.865,
          77.512,
          83.248,
          92.17,
          97.087,
          91.326,
          92.143,
          90.956,
          94.272,
          96.885,
          101.681,
          105.054,
          110.102,
          116.826,
          118.637,
          119.844,
          122.235,
          125.43,
          131.765
         ]
        },
        {
         "line": {
          "color": "lightgray"
         },
         "mode": "lines",
         "name": "Franklin, MS",
         "opacity": 0.4,
         "showlegend": false,
         "text": "Franklin, MS",
         "textposition": "top right",
         "type": "scatter",
         "x": [
          2001,
          2002,
          2003,
          2004,
          2005,
          2006,
          2007,
          2008,
          2009,
          2010,
          2011,
          2013,
          2014,
          2015,
          2016,
          2017,
          2018,
          2019,
          2020,
          2021
         ],
         "y": [
          74.492,
          78.106,
          78.787,
          78.43,
          82.062,
          85.209,
          74.495,
          81.551,
          88.701,
          95.962,
          97.055,
          94.44,
          90.618,
          92.635,
          94.718,
          94.351,
          95.574,
          97.741,
          98.738,
          98.573
         ]
        },
        {
         "line": {
          "color": "lightgray"
         },
         "mode": "lines",
         "name": "Lafayette, MS",
         "opacity": 0.4,
         "showlegend": false,
         "text": "Lafayette, MS",
         "textposition": "top right",
         "type": "scatter",
         "x": [
          2001,
          2002,
          2003,
          2004,
          2005,
          2006,
          2007,
          2008,
          2009,
          2010,
          2011,
          2013,
          2014,
          2015,
          2016,
          2017,
          2018,
          2019,
          2020,
          2021
         ],
         "y": [
          75.806,
          78.749,
          80.403,
          81.78,
          89.011,
          95.066,
          94.777,
          99.096,
          93.506,
          92.359,
          94.307,
          103.135,
          106.183,
          107.949,
          113.496,
          114.575,
          118.589,
          118.879,
          116.096,
          122.621
         ]
        },
        {
         "line": {
          "color": "lightgray"
         },
         "mode": "lines",
         "name": "Pike, MS",
         "opacity": 0.4,
         "showlegend": false,
         "text": "Pike, MS",
         "textposition": "top right",
         "type": "scatter",
         "x": [
          2001,
          2002,
          2003,
          2004,
          2005,
          2006,
          2007,
          2008,
          2009,
          2010,
          2011,
          2013,
          2014,
          2015,
          2016,
          2017,
          2018,
          2019,
          2020,
          2021
         ],
         "y": [
          90.545,
          91.013,
          93.377,
          96.334,
          98.141,
          104.357,
          99.484,
          104.993,
          98.065,
          97.553,
          95.716,
          101.727,
          100.518,
          99.585,
          97.376,
          95.267,
          91.146,
          90.807,
          89.791,
          90.904
         ]
        },
        {
         "line": {
          "color": "lightgray"
         },
         "mode": "lines",
         "name": "Webster, MS",
         "opacity": 0.4,
         "showlegend": false,
         "text": "Webster, MS",
         "textposition": "top right",
         "type": "scatter",
         "x": [
          2001,
          2002,
          2003,
          2004,
          2005,
          2006,
          2007,
          2008,
          2009,
          2010,
          2011,
          2013,
          2014,
          2015,
          2016,
          2017,
          2018,
          2019,
          2020,
          2021
         ],
         "y": [
          110.948,
          97.894,
          97.1,
          100.284,
          104.66,
          101.881,
          105.067,
          104.08,
          107.989,
          110.666,
          117.599,
          105.458,
          98.106,
          96.394,
          101.989,
          103.021,
          103.34,
          108.315,
          113.07,
          110.1
         ]
        },
        {
         "line": {
          "color": "lightgray"
         },
         "mode": "lines",
         "name": "Andrew, MO",
         "opacity": 0.4,
         "showlegend": false,
         "text": "Andrew, MO",
         "textposition": "top right",
         "type": "scatter",
         "x": [
          2001,
          2002,
          2003,
          2004,
          2005,
          2006,
          2007,
          2008,
          2009,
          2010,
          2011,
          2013,
          2014,
          2015,
          2016,
          2017,
          2018,
          2019,
          2020,
          2021
         ],
         "y": [
          93.156,
          98.16,
          93.897,
          110.603,
          104.749,
          101.653,
          102.262,
          102.251,
          110.98,
          105.692,
          103.425,
          117.18,
          115.146,
          98.559,
          108.479,
          110.512,
          104.416,
          126.359,
          123.169,
          124.164
         ]
        },
        {
         "line": {
          "color": "lightgray"
         },
         "mode": "lines",
         "name": "Clark, MO",
         "opacity": 0.4,
         "showlegend": false,
         "text": "Clark, MO",
         "textposition": "top right",
         "type": "scatter",
         "x": [
          2001,
          2002,
          2003,
          2004,
          2005,
          2006,
          2007,
          2008,
          2009,
          2010,
          2011,
          2013,
          2014,
          2015,
          2016,
          2017,
          2018,
          2019,
          2020,
          2021
         ],
         "y": [
          63.843,
          71.449,
          80.9,
          84.143,
          79.074,
          87.667,
          89.43,
          83.579,
          98.426,
          82.608,
          89.244,
          108.144,
          97.875,
          71.844,
          88.057,
          81.863,
          72.879,
          79.923,
          82.858,
          82.171
         ]
        },
        {
         "line": {
          "color": "lightgray"
         },
         "mode": "lines",
         "name": "Crawford, MO",
         "opacity": 0.4,
         "showlegend": false,
         "text": "Crawford, MO",
         "textposition": "top right",
         "type": "scatter",
         "x": [
          2001,
          2002,
          2003,
          2004,
          2005,
          2006,
          2007,
          2008,
          2009,
          2010,
          2011,
          2013,
          2014,
          2015,
          2016,
          2017,
          2018,
          2019,
          2020,
          2021
         ],
         "y": [
          83.196,
          88.352,
          87.789,
          87.954,
          90.47,
          92.134,
          91.554,
          91.961,
          91.017,
          96.776,
          97.279,
          109.594,
          116.58,
          106.165,
          100.896,
          106.149,
          110.512,
          106.878,
          100.842,
          107.865
         ]
        },
        {
         "line": {
          "color": "lightgray"
         },
         "mode": "lines",
         "name": "Hickory, MO",
         "opacity": 0.4,
         "showlegend": false,
         "text": "Hickory, MO",
         "textposition": "top right",
         "type": "scatter",
         "x": [
          2001,
          2002,
          2003,
          2004,
          2005,
          2006,
          2007,
          2008,
          2009,
          2010,
          2011,
          2013,
          2014,
          2015,
          2016,
          2017,
          2018,
          2019,
          2020,
          2021
         ],
         "y": [
          90.15,
          95.854,
          91.269,
          99.166,
          95.125,
          96.205,
          93.623,
          88.06,
          90.563,
          98.428,
          100.048,
          99.99,
          109.2,
          116.267,
          106.657,
          113.287,
          122.714,
          120.228,
          116.82,
          116.073
         ]
        },
        {
         "line": {
          "color": "lightgray"
         },
         "mode": "lines",
         "name": "Lafayette, MO",
         "opacity": 0.4,
         "showlegend": false,
         "text": "Lafayette, MO",
         "textposition": "top right",
         "type": "scatter",
         "x": [
          2001,
          2002,
          2003,
          2004,
          2005,
          2006,
          2007,
          2008,
          2009,
          2010,
          2011,
          2013,
          2014,
          2015,
          2016,
          2017,
          2018,
          2019,
          2020,
          2021
         ],
         "y": [
          93.95,
          94.035,
          94.033,
          105.327,
          104.775,
          110.64,
          113.484,
          114.235,
          115.584,
          129.701,
          132.246,
          108.228,
          103.721,
          101.088,
          105.233,
          102.885,
          101.091,
          98.025,
          100.588,
          104.14
         ]
        },
        {
         "line": {
          "color": "lightgray"
         },
         "mode": "lines",
         "name": "Fallon, MT",
         "opacity": 0.4,
         "showlegend": false,
         "text": "Fallon, MT",
         "textposition": "top right",
         "type": "scatter",
         "x": [
          2001,
          2002,
          2003,
          2004,
          2005,
          2006,
          2007,
          2008,
          2009,
          2010,
          2011,
          2013,
          2014,
          2015,
          2016,
          2017,
          2018,
          2019,
          2020,
          2021
         ],
         "y": [
          41.391,
          46.772,
          48.472,
          52.214,
          61.762,
          64.817,
          66.503,
          68.982,
          83.636,
          77.162,
          81.112,
          91.447,
          88.004,
          81.627,
          68.765,
          67.242,
          62.255,
          61.491,
          68.481,
          62.287
         ]
        },
        {
         "line": {
          "color": "lightgray"
         },
         "mode": "lines",
         "name": "Teton, MT",
         "opacity": 0.4,
         "showlegend": false,
         "text": "Teton, MT",
         "textposition": "top right",
         "type": "scatter",
         "x": [
          2001,
          2002,
          2003,
          2004,
          2005,
          2006,
          2007,
          2008,
          2009,
          2010,
          2011,
          2013,
          2014,
          2015,
          2016,
          2017,
          2018,
          2019,
          2020,
          2021
         ],
         "y": [
          62.083,
          69.195,
          67.82,
          77.978,
          83.478,
          79.192,
          82.081,
          101.294,
          106.921,
          95.323,
          118.149,
          97.99,
          93.065,
          91.052,
          96.449,
          92.062,
          103.078,
          106.085,
          109.492,
          84.931
         ]
        },
        {
         "line": {
          "color": "lightgray"
         },
         "mode": "lines",
         "name": "Dawson, NE",
         "opacity": 0.4,
         "showlegend": false,
         "text": "Dawson, NE",
         "textposition": "top right",
         "type": "scatter",
         "x": [
          2001,
          2002,
          2003,
          2004,
          2005,
          2006,
          2007,
          2008,
          2009,
          2010,
          2011,
          2013,
          2014,
          2015,
          2016,
          2017,
          2018,
          2019,
          2020,
          2021
         ],
         "y": [
          81.513,
          86.716,
          86.596,
          81.613,
          92.979,
          103.894,
          97.117,
          94.696,
          91.072,
          96.29,
          100.977,
          109.031,
          115.659,
          121.113,
          124.042,
          118.82,
          121.739,
          124.411,
          125.435,
          126.6
         ]
        },
        {
         "line": {
          "color": "lightgray"
         },
         "mode": "lines",
         "name": "Hall, NE",
         "opacity": 0.4,
         "showlegend": false,
         "text": "Hall, NE",
         "textposition": "top right",
         "type": "scatter",
         "x": [
          2001,
          2002,
          2003,
          2004,
          2005,
          2006,
          2007,
          2008,
          2009,
          2010,
          2011,
          2013,
          2014,
          2015,
          2016,
          2017,
          2018,
          2019,
          2020,
          2021
         ],
         "y": [
          72.224,
          74.446,
          77.991,
          79.681,
          85.887,
          90.438,
          90.74,
          93.555,
          92.816,
          96.098,
          96.052,
          103.422,
          98.293,
          98.433,
          99.961,
          100.305,
          100.96,
          102.074,
          101.675,
          106.973
         ]
        },
        {
         "line": {
          "color": "lightgray"
         },
         "mode": "lines",
         "name": "Keith, NE",
         "opacity": 0.4,
         "showlegend": false,
         "text": "Keith, NE",
         "textposition": "top right",
         "type": "scatter",
         "x": [
          2001,
          2002,
          2003,
          2004,
          2005,
          2006,
          2007,
          2008,
          2009,
          2010,
          2011,
          2013,
          2014,
          2015,
          2016,
          2017,
          2018,
          2019,
          2020,
          2021
         ],
         "y": [
          68.377,
          69.505,
          77.608,
          72.712,
          74.936,
          68.29,
          79.241,
          82.805,
          81.463,
          83.247,
          93.871,
          105.281,
          99.754,
          107.538,
          109.798,
          100.708,
          102.102,
          102.599,
          103.311,
          103.9
         ]
        },
        {
         "line": {
          "color": "lightgray"
         },
         "mode": "lines",
         "name": "Keya Paha, NE",
         "opacity": 0.4,
         "showlegend": false,
         "text": "Keya Paha, NE",
         "textposition": "top right",
         "type": "scatter",
         "x": [
          2001,
          2002,
          2003,
          2004,
          2005,
          2006,
          2007,
          2008,
          2009,
          2010,
          2011,
          2013,
          2014,
          2015,
          2016,
          2017,
          2018,
          2019,
          2020,
          2021
         ],
         "y": [
          45.813,
          58.599,
          67.483,
          58.209,
          70.852,
          60.361,
          53.893,
          45.723,
          33.269,
          60.803,
          91.206,
          116.679,
          155.384,
          157.806,
          128.645,
          87.972,
          82.935,
          83.216,
          100.258,
          82.455
         ]
        },
        {
         "line": {
          "color": "lightgray"
         },
         "mode": "lines",
         "name": "Logan, NE",
         "opacity": 0.4,
         "showlegend": false,
         "text": "Logan, NE",
         "textposition": "top right",
         "type": "scatter",
         "x": [
          2001,
          2002,
          2003,
          2004,
          2005,
          2006,
          2007,
          2008,
          2009,
          2010,
          2011,
          2013,
          2014,
          2015,
          2016,
          2017,
          2018,
          2019,
          2020,
          2021
         ],
         "y": [
          70.836,
          69.2,
          89.728,
          76.905,
          83.872,
          62.875,
          74.963,
          75.143,
          67.295,
          85.581,
          112.664,
          124.926,
          140.636,
          161.652,
          151.961,
          104.336,
          128.038,
          107.228,
          115.25,
          99.06
         ]
        },
        {
         "line": {
          "color": "lightgray"
         },
         "mode": "lines",
         "name": "Saunders, NE",
         "opacity": 0.4,
         "showlegend": false,
         "text": "Saunders, NE",
         "textposition": "top right",
         "type": "scatter",
         "x": [
          2001,
          2002,
          2003,
          2004,
          2005,
          2006,
          2007,
          2008,
          2009,
          2010,
          2011,
          2013,
          2014,
          2015,
          2016,
          2017,
          2018,
          2019,
          2020,
          2021
         ],
         "y": [
          73.005,
          74.147,
          76.641,
          82.38,
          84.024,
          82.923,
          87.068,
          91.53,
          106.533,
          105.028,
          111.626,
          105.095,
          101.29,
          109.431,
          110.351,
          111.663,
          119.066,
          120.621,
          126.235,
          134.182
         ]
        },
        {
         "line": {
          "color": "lightgray"
         },
         "mode": "lines",
         "name": "Churchill, NV",
         "opacity": 0.4,
         "showlegend": false,
         "text": "Churchill, NV",
         "textposition": "top right",
         "type": "scatter",
         "x": [
          2001,
          2002,
          2003,
          2004,
          2005,
          2006,
          2007,
          2008,
          2009,
          2010,
          2011,
          2013,
          2014,
          2015,
          2016,
          2017,
          2018,
          2019,
          2020,
          2021
         ],
         "y": [
          100.151,
          98.546,
          98.521,
          104.563,
          108.432,
          106.692,
          104.518,
          105.22,
          103.964,
          107.33,
          109.261,
          99.785,
          102.906,
          107.819,
          111.07,
          121.974,
          125.074,
          129.595,
          130.854,
          135.731
         ]
        },
        {
         "line": {
          "color": "lightgray"
         },
         "mode": "lines",
         "name": "White Pine, NV",
         "opacity": 0.4,
         "showlegend": false,
         "text": "White Pine, NV",
         "textposition": "top right",
         "type": "scatter",
         "x": [
          2001,
          2002,
          2003,
          2004,
          2005,
          2006,
          2007,
          2008,
          2009,
          2010,
          2011,
          2013,
          2014,
          2015,
          2016,
          2017,
          2018,
          2019,
          2020,
          2021
         ],
         "y": [
          53.221,
          54.425,
          53.736,
          59.577,
          76.934,
          85.171,
          84.455,
          86.804,
          82.766,
          94.655,
          107.54,
          89.15,
          83.252,
          76.893,
          80.712,
          93.556,
          80.272,
          83.001,
          95.838,
          100.343
         ]
        },
        {
         "line": {
          "color": "lightgray"
         },
         "mode": "lines",
         "name": "Valencia, NM",
         "opacity": 0.4,
         "showlegend": false,
         "text": "Valencia, NM",
         "textposition": "top right",
         "type": "scatter",
         "x": [
          2001,
          2002,
          2003,
          2004,
          2005,
          2006,
          2007,
          2008,
          2009,
          2010,
          2011,
          2013,
          2014,
          2015,
          2016,
          2017,
          2018,
          2019,
          2020,
          2021
         ],
         "y": [
          82.558,
          89.279,
          91.826,
          96.086,
          102.181,
          105.561,
          110.519,
          113.081,
          107.663,
          108.106,
          109.486,
          97.933,
          101.888,
          99.326,
          103.221,
          107.477,
          115.185,
          111.832,
          114.239,
          119.613
         ]
        },
        {
         "line": {
          "color": "lightgray"
         },
         "mode": "lines",
         "name": "Erie, NY",
         "opacity": 0.4,
         "showlegend": false,
         "text": "Erie, NY",
         "textposition": "top right",
         "type": "scatter",
         "x": [
          2001,
          2002,
          2003,
          2004,
          2005,
          2006,
          2007,
          2008,
          2009,
          2010,
          2011,
          2013,
          2014,
          2015,
          2016,
          2017,
          2018,
          2019,
          2020,
          2021
         ],
         "y": [
          85.085,
          86.619,
          87.762,
          90.526,
          90.342,
          92.417,
          93.693,
          95.281,
          95.663,
          97.971,
          96.386,
          99.42,
          101.917,
          104.175,
          104.843,
          104.038,
          105.414,
          107.91,
          104.293,
          109.868
         ]
        },
        {
         "line": {
          "color": "lightgray"
         },
         "mode": "lines",
         "name": "Ontario, NY",
         "opacity": 0.4,
         "showlegend": false,
         "text": "Ontario, NY",
         "textposition": "top right",
         "type": "scatter",
         "x": [
          2001,
          2002,
          2003,
          2004,
          2005,
          2006,
          2007,
          2008,
          2009,
          2010,
          2011,
          2013,
          2014,
          2015,
          2016,
          2017,
          2018,
          2019,
          2020,
          2021
         ],
         "y": [
          96.444,
          82.05,
          83.924,
          84.709,
          87.85,
          89.737,
          91.67,
          93.634,
          92.759,
          99.024,
          99.071,
          105.519,
          106.701,
          113.643,
          109.011,
          110.983,
          113.32,
          117.686,
          112.723,
          117.836
         ]
        },
        {
         "line": {
          "color": "lightgray"
         },
         "mode": "lines",
         "name": "Alexander, NC",
         "opacity": 0.4,
         "showlegend": false,
         "text": "Alexander, NC",
         "textposition": "top right",
         "type": "scatter",
         "x": [
          2001,
          2002,
          2003,
          2004,
          2005,
          2006,
          2007,
          2008,
          2009,
          2010,
          2011,
          2013,
          2014,
          2015,
          2016,
          2017,
          2018,
          2019,
          2020,
          2021
         ],
         "y": [
          107.834,
          110.055,
          113.515,
          119.523,
          120.526,
          124.816,
          117.343,
          103.344,
          97.769,
          103.323,
          98.217,
          104.057,
          112.17,
          116.128,
          115.427,
          121.879,
          116.245,
          114.435,
          108.445,
          117.991
         ]
        },
        {
         "line": {
          "color": "lightgray"
         },
         "mode": "lines",
         "name": "Burke, NC",
         "opacity": 0.4,
         "showlegend": false,
         "text": "Burke, NC",
         "textposition": "top right",
         "type": "scatter",
         "x": [
          2001,
          2002,
          2003,
          2004,
          2005,
          2006,
          2007,
          2008,
          2009,
          2010,
          2011,
          2013,
          2014,
          2015,
          2016,
          2017,
          2018,
          2019,
          2020,
          2021
         ],
         "y": [
          109.923,
          111.426,
          107.94,
          111.698,
          112.116,
          115.79,
          108.137,
          106.128,
          99.063,
          102.781,
          102.59,
          100.425,
          98.57,
          97.966,
          99.221,
          100.405,
          97.524,
          93.328,
          90.325,
          94.937
         ]
        },
        {
         "line": {
          "color": "lightgray"
         },
         "mode": "lines",
         "name": "Gaston, NC",
         "opacity": 0.4,
         "showlegend": false,
         "text": "Gaston, NC",
         "textposition": "top right",
         "type": "scatter",
         "x": [
          2001,
          2002,
          2003,
          2004,
          2005,
          2006,
          2007,
          2008,
          2009,
          2010,
          2011,
          2013,
          2014,
          2015,
          2016,
          2017,
          2018,
          2019,
          2020,
          2021
         ],
         "y": [
          93.992,
          96.551,
          96.637,
          100.926,
          102.168,
          107.149,
          105.713,
          104.839,
          97.016,
          111.843,
          107.406,
          102.637,
          104.359,
          104.795,
          106.022,
          110.086,
          113.703,
          112.395,
          107.303,
          116.334
         ]
        },
        {
         "line": {
          "color": "lightgray"
         },
         "mode": "lines",
         "name": "Madison, NC",
         "opacity": 0.4,
         "showlegend": false,
         "text": "Madison, NC",
         "textposition": "top right",
         "type": "scatter",
         "x": [
          2001,
          2002,
          2003,
          2004,
          2005,
          2006,
          2007,
          2008,
          2009,
          2010,
          2011,
          2013,
          2014,
          2015,
          2016,
          2017,
          2018,
          2019,
          2020,
          2021
         ],
         "y": [
          110.503,
          111.073,
          111.943,
          117.732,
          118.397,
          123.1,
          118.481,
          124.669,
          119.245,
          125.356,
          128.617,
          99.245,
          107.286,
          108.307,
          106.818,
          103.511,
          109.094,
          115.031,
          113.265,
          117.756
         ]
        },
        {
         "line": {
          "color": "lightgray"
         },
         "mode": "lines",
         "name": "Perquimans, NC",
         "opacity": 0.4,
         "showlegend": false,
         "text": "Perquimans, NC",
         "textposition": "top right",
         "type": "scatter",
         "x": [
          2001,
          2002,
          2003,
          2004,
          2005,
          2006,
          2007,
          2008,
          2009,
          2010,
          2011,
          2013,
          2014,
          2015,
          2016,
          2017,
          2018,
          2019,
          2020,
          2021
         ],
         "y": [
          88.577,
          86.048,
          96.469,
          97.166,
          109.975,
          113.947,
          104.146,
          97.47,
          98.354,
          103.459,
          103.67,
          91.474,
          91.374,
          89.485,
          85.622,
          106.81,
          111.81,
          118.178,
          119.291,
          127.755
         ]
        },
        {
         "line": {
          "color": "lightgray"
         },
         "mode": "lines",
         "name": "Robeson, NC",
         "opacity": 0.4,
         "showlegend": false,
         "text": "Robeson, NC",
         "textposition": "top right",
         "type": "scatter",
         "x": [
          2001,
          2002,
          2003,
          2004,
          2005,
          2006,
          2007,
          2008,
          2009,
          2010,
          2011,
          2013,
          2014,
          2015,
          2016,
          2017,
          2018,
          2019,
          2020,
          2021
         ],
         "y": [
          125.936,
          104.521,
          109.854,
          117.573,
          119.518,
          126.294,
          124.839,
          120.167,
          118.257,
          113.936,
          105.478,
          101.513,
          101.9,
          104.952,
          107.811,
          118.031,
          119.782,
          122.1,
          119.754,
          126.11
         ]
        },
        {
         "line": {
          "color": "lightgray"
         },
         "mode": "lines",
         "name": "Stanly, NC",
         "opacity": 0.4,
         "showlegend": false,
         "text": "Stanly, NC",
         "textposition": "top right",
         "type": "scatter",
         "x": [
          2001,
          2002,
          2003,
          2004,
          2005,
          2006,
          2007,
          2008,
          2009,
          2010,
          2011,
          2013,
          2014,
          2015,
          2016,
          2017,
          2018,
          2019,
          2020,
          2021
         ],
         "y": [
          94.83,
          94.739,
          94.088,
          98.136,
          103.105,
          101.315,
          96.25,
          94.403,
          89.654,
          93.103,
          94.315,
          100.018,
          97.913,
          98.21,
          101.044,
          103.502,
          103.02,
          102.588,
          98.414,
          102.216
         ]
        },
        {
         "line": {
          "color": "lightgray"
         },
         "mode": "lines",
         "name": "Benson, ND",
         "opacity": 0.4,
         "showlegend": false,
         "text": "Benson, ND",
         "textposition": "top right",
         "type": "scatter",
         "x": [
          2001,
          2002,
          2003,
          2004,
          2005,
          2006,
          2007,
          2008,
          2009,
          2010,
          2011,
          2013,
          2014,
          2015,
          2016,
          2017,
          2018,
          2019,
          2020,
          2021
         ],
         "y": [
          47.359,
          54.066,
          70.275,
          55.088,
          62.304,
          61.864,
          74.222,
          79.759,
          80.77,
          77.365,
          84.463,
          83.401,
          74.344,
          67.684,
          70.902,
          78.822,
          93.888,
          76.614,
          79.988,
          83.244
         ]
        },
        {
         "line": {
          "color": "lightgray"
         },
         "mode": "lines",
         "name": "Emmons, ND",
         "opacity": 0.4,
         "showlegend": false,
         "text": "Emmons, ND",
         "textposition": "top right",
         "type": "scatter",
         "x": [
          2001,
          2002,
          2003,
          2004,
          2005,
          2006,
          2007,
          2008,
          2009,
          2010,
          2011,
          2013,
          2014,
          2015,
          2016,
          2017,
          2018,
          2019,
          2020,
          2021
         ],
         "y": [
          63.524,
          57.707,
          69.828,
          57.701,
          84.05,
          56.495,
          86.658,
          86.426,
          68.584,
          84.584,
          100.118,
          82.387,
          122.856,
          125.245,
          127.926,
          107.585,
          82.899,
          84.626,
          110.382,
          114.952
         ]
        },
        {
         "line": {
          "color": "lightgray"
         },
         "mode": "lines",
         "name": "Steele, ND",
         "opacity": 0.4,
         "showlegend": false,
         "text": "Steele, ND",
         "textposition": "top right",
         "type": "scatter",
         "x": [
          2001,
          2002,
          2003,
          2004,
          2005,
          2006,
          2007,
          2008,
          2009,
          2010,
          2011,
          2013,
          2014,
          2015,
          2016,
          2017,
          2018,
          2019,
          2020,
          2021
         ],
         "y": [
          37.748,
          51.293,
          49.289,
          33.227,
          32.745,
          34.511,
          54.364,
          64.745,
          57.914,
          83.487,
          70.442,
          61.87,
          60.39,
          52.341,
          75.609,
          60.924,
          67.488,
          74.861,
          81.463,
          73.897
         ]
        },
        {
         "line": {
          "color": "lightgray"
         },
         "mode": "lines",
         "name": "Ashland, OH",
         "opacity": 0.4,
         "showlegend": false,
         "text": "Ashland, OH",
         "textposition": "top right",
         "type": "scatter",
         "x": [
          2001,
          2002,
          2003,
          2004,
          2005,
          2006,
          2007,
          2008,
          2009,
          2010,
          2011,
          2013,
          2014,
          2015,
          2016,
          2017,
          2018,
          2019,
          2020,
          2021
         ],
         "y": [
          97.952,
          100.663,
          100.991,
          103.823,
          104.538,
          102.939,
          104.086,
          102.546,
          98.93,
          98.93,
          101.924,
          102.709,
          100.888,
          99.56,
          98.409,
          100.392,
          101.529,
          102.011,
          103.768,
          108.86
         ]
        },
        {
         "line": {
          "color": "lightgray"
         },
         "mode": "lines",
         "name": "Cuyahoga, OH",
         "opacity": 0.4,
         "showlegend": false,
         "text": "Cuyahoga, OH",
         "textposition": "top right",
         "type": "scatter",
         "x": [
          2001,
          2002,
          2003,
          2004,
          2005,
          2006,
          2007,
          2008,
          2009,
          2010,
          2011,
          2013,
          2014,
          2015,
          2016,
          2017,
          2018,
          2019,
          2020,
          2021
         ],
         "y": [
          99.161,
          100.213,
          101.723,
          103.227,
          105.594,
          105.492,
          105.319,
          104.676,
          97.815,
          97.562,
          98.557,
          100.907,
          102.937,
          103.594,
          103.923,
          105.776,
          107.671,
          110.725,
          106.188,
          113.231
         ]
        },
        {
         "line": {
          "color": "lightgray"
         },
         "mode": "lines",
         "name": "Geauga, OH",
         "opacity": 0.4,
         "showlegend": false,
         "text": "Geauga, OH",
         "textposition": "top right",
         "type": "scatter",
         "x": [
          2001,
          2002,
          2003,
          2004,
          2005,
          2006,
          2007,
          2008,
          2009,
          2010,
          2011,
          2013,
          2014,
          2015,
          2016,
          2017,
          2018,
          2019,
          2020,
          2021
         ],
         "y": [
          85.27,
          88.855,
          92.389,
          97.641,
          102.853,
          99.661,
          100.644,
          96.513,
          93.192,
          96.216,
          101.307,
          103.647,
          103.784,
          107.267,
          104.789,
          104.447,
          107.872,
          108.199,
          101.805,
          107.929
         ]
        },
        {
         "line": {
          "color": "lightgray"
         },
         "mode": "lines",
         "name": "Miami, OH",
         "opacity": 0.4,
         "showlegend": false,
         "text": "Miami, OH",
         "textposition": "top right",
         "type": "scatter",
         "x": [
          2001,
          2002,
          2003,
          2004,
          2005,
          2006,
          2007,
          2008,
          2009,
          2010,
          2011,
          2013,
          2014,
          2015,
          2016,
          2017,
          2018,
          2019,
          2020,
          2021
         ],
         "y": [
          89.714,
          89.79,
          91.564,
          93.021,
          95.193,
          96.177,
          95.276,
          95.137,
          86.038,
          91.172,
          96.416,
          98.751,
          96.802,
          95.793,
          96.549,
          102.103,
          101.884,
          102.664,
          101.559,
          107.206
         ]
        },
        {
         "line": {
          "color": "lightgray"
         },
         "mode": "lines",
         "name": "Scioto, OH",
         "opacity": 0.4,
         "showlegend": false,
         "text": "Scioto, OH",
         "textposition": "top right",
         "type": "scatter",
         "x": [
          2001,
          2002,
          2003,
          2004,
          2005,
          2006,
          2007,
          2008,
          2009,
          2010,
          2011,
          2013,
          2014,
          2015,
          2016,
          2017,
          2018,
          2019,
          2020,
          2021
         ],
         "y": [
          86.38,
          89.211,
          90.487,
          93.032,
          92.516,
          89.584,
          92.53,
          94.469,
          98.479,
          93.174,
          94.409,
          130.746,
          174.544,
          144.343,
          115.514,
          115.709,
          115.165,
          123.256,
          115.032,
          123.417
         ]
        },
        {
         "line": {
          "color": "lightgray"
         },
         "mode": "lines",
         "name": "Warren, OH",
         "opacity": 0.4,
         "showlegend": false,
         "text": "Warren, OH",
         "textposition": "top right",
         "type": "scatter",
         "x": [
          2001,
          2002,
          2003,
          2004,
          2005,
          2006,
          2007,
          2008,
          2009,
          2010,
          2011,
          2013,
          2014,
          2015,
          2016,
          2017,
          2018,
          2019,
          2020,
          2021
         ],
         "y": [
          66.114,
          70.329,
          76.328,
          82.828,
          87.349,
          89.748,
          93.081,
          92.2,
          89.836,
          94.206,
          97.139,
          101.138,
          106.164,
          109.361,
          118.046,
          121.628,
          125.256,
          135.382,
          130.944,
          142.93
         ]
        },
        {
         "line": {
          "color": "lightgray"
         },
         "mode": "lines",
         "name": "Osage, OK",
         "opacity": 0.4,
         "showlegend": false,
         "text": "Osage, OK",
         "textposition": "top right",
         "type": "scatter",
         "x": [
          2001,
          2002,
          2003,
          2004,
          2005,
          2006,
          2007,
          2008,
          2009,
          2010,
          2011,
          2013,
          2014,
          2015,
          2016,
          2017,
          2018,
          2019,
          2020,
          2021
         ],
         "y": [
          78.104,
          92.893,
          88.093,
          93.217,
          91.835,
          95.803,
          87.817,
          89.971,
          90.052,
          90.201,
          101.871,
          93.451,
          147.929,
          164.805,
          148.3,
          107.125,
          105.22,
          104.435,
          98.655,
          101.337
         ]
        },
        {
         "line": {
          "color": "lightgray"
         },
         "mode": "lines",
         "name": "Juniata, PA",
         "opacity": 0.4,
         "showlegend": false,
         "text": "Juniata, PA",
         "textposition": "top right",
         "type": "scatter",
         "x": [
          2001,
          2002,
          2003,
          2004,
          2005,
          2006,
          2007,
          2008,
          2009,
          2010,
          2011,
          2013,
          2014,
          2015,
          2016,
          2017,
          2018,
          2019,
          2020,
          2021
         ],
         "y": [
          99.894,
          102.122,
          109.506,
          111.535,
          117.791,
          116.869,
          109.317,
          107.29,
          103.886,
          106.637,
          102.407,
          105.646,
          117.607,
          126.135,
          122.78,
          133.611,
          139.155,
          136.235,
          130.591,
          135.265
         ]
        },
        {
         "line": {
          "color": "lightgray"
         },
         "mode": "lines",
         "name": "Tioga, PA",
         "opacity": 0.4,
         "showlegend": false,
         "text": "Tioga, PA",
         "textposition": "top right",
         "type": "scatter",
         "x": [
          2001,
          2002,
          2003,
          2004,
          2005,
          2006,
          2007,
          2008,
          2009,
          2010,
          2011,
          2013,
          2014,
          2015,
          2016,
          2017,
          2018,
          2019,
          2020,
          2021
         ],
         "y": [
          57.969,
          61.238,
          60.357,
          61.383,
          60.925,
          63.153,
          61.925,
          59.399,
          61.806,
          76.433,
          92.683,
          95.623,
          97.994,
          97.386,
          94.382,
          93.816,
          92.707,
          101.05,
          98.049,
          99.442
         ]
        },
        {
         "line": {
          "color": "lightgray"
         },
         "mode": "lines",
         "name": "Georgetown, SC",
         "opacity": 0.4,
         "showlegend": false,
         "text": "Georgetown, SC",
         "textposition": "top right",
         "type": "scatter",
         "x": [
          2001,
          2002,
          2003,
          2004,
          2005,
          2006,
          2007,
          2008,
          2009,
          2010,
          2011,
          2013,
          2014,
          2015,
          2016,
          2017,
          2018,
          2019,
          2020,
          2021
         ],
         "y": [
          94.577,
          99.439,
          103.938,
          112.675,
          118.907,
          120.42,
          120.361,
          118.156,
          109.388,
          110.489,
          106.607,
          100.423,
          111.804,
          110.082,
          106.833,
          106.439,
          110.065,
          111.308,
          113.745,
          118.584
         ]
        },
        {
         "line": {
          "color": "lightgray"
         },
         "mode": "lines",
         "name": "Sumter, SC",
         "opacity": 0.4,
         "showlegend": false,
         "text": "Sumter, SC",
         "textposition": "top right",
         "type": "scatter",
         "x": [
          2001,
          2002,
          2003,
          2004,
          2005,
          2006,
          2007,
          2008,
          2009,
          2010,
          2011,
          2013,
          2014,
          2015,
          2016,
          2017,
          2018,
          2019,
          2020,
          2021
         ],
         "y": [
          85.166,
          87.047,
          89.689,
          91.815,
          93.816,
          96.585,
          97.399,
          95.408,
          91.866,
          94.577,
          97.275,
          99.606,
          98.118,
          98.064,
          99.985,
          103.575,
          104.177,
          105.706,
          103.275,
          110.352
         ]
        },
        {
         "line": {
          "color": "lightgray"
         },
         "mode": "lines",
         "name": "Hughes, SD",
         "opacity": 0.4,
         "showlegend": false,
         "text": "Hughes, SD",
         "textposition": "top right",
         "type": "scatter",
         "x": [
          2001,
          2002,
          2003,
          2004,
          2005,
          2006,
          2007,
          2008,
          2009,
          2010,
          2011,
          2013,
          2014,
          2015,
          2016,
          2017,
          2018,
          2019,
          2020,
          2021
         ],
         "y": [
          79.807,
          86.319,
          87.87,
          81.401,
          85.464,
          82.366,
          83.981,
          91.396,
          91.136,
          100.178,
          101.219,
          98.306,
          102.045,
          103.758,
          100.958,
          107.987,
          107.172,
          112.001,
          102.474,
          106.252
         ]
        },
        {
         "line": {
          "color": "lightgray"
         },
         "mode": "lines",
         "name": "Perkins, SD",
         "opacity": 0.4,
         "showlegend": false,
         "text": "Perkins, SD",
         "textposition": "top right",
         "type": "scatter",
         "x": [
          2001,
          2002,
          2003,
          2004,
          2005,
          2006,
          2007,
          2008,
          2009,
          2010,
          2011,
          2013,
          2014,
          2015,
          2016,
          2017,
          2018,
          2019,
          2020,
          2021
         ],
         "y": [
          95.741,
          87.62,
          104.527,
          81.978,
          93.183,
          66.036,
          70.986,
          69.792,
          73.178,
          87.47,
          87.042,
          94.936,
          111.334,
          107.96,
          92.25,
          141.207,
          97.273,
          87.533,
          94.294,
          97.765
         ]
        },
        {
         "line": {
          "color": "lightgray"
         },
         "mode": "lines",
         "name": "Greene, TN",
         "opacity": 0.4,
         "showlegend": false,
         "text": "Greene, TN",
         "textposition": "top right",
         "type": "scatter",
         "x": [
          2001,
          2002,
          2003,
          2004,
          2005,
          2006,
          2007,
          2008,
          2009,
          2010,
          2011,
          2013,
          2014,
          2015,
          2016,
          2017,
          2018,
          2019,
          2020,
          2021
         ],
         "y": [
          99.196,
          107.445,
          113.121,
          116.234,
          119.107,
          114.851,
          110.838,
          109.487,
          97.013,
          94.096,
          96.751,
          106.426,
          107.071,
          108.886,
          111.405,
          116.276,
          115.345,
          114.294,
          109.574,
          117.467
         ]
        },
        {
         "line": {
          "color": "lightgray"
         },
         "mode": "lines",
         "name": "Perry, TN",
         "opacity": 0.4,
         "showlegend": false,
         "text": "Perry, TN",
         "textposition": "top right",
         "type": "scatter",
         "x": [
          2001,
          2002,
          2003,
          2004,
          2005,
          2006,
          2007,
          2008,
          2009,
          2010,
          2011,
          2013,
          2014,
          2015,
          2016,
          2017,
          2018,
          2019,
          2020,
          2021
         ],
         "y": [
          108.009,
          115.051,
          120.059,
          126.893,
          135.419,
          129.395,
          130.117,
          103.254,
          93.891,
          103.051,
          95.673,
          101.296,
          107.753,
          111.654,
          118.456,
          114.133,
          113.757,
          115.99,
          104.086,
          103.172
         ]
        },
        {
         "line": {
          "color": "lightgray"
         },
         "mode": "lines",
         "name": "Sequatchie, TN",
         "opacity": 0.4,
         "showlegend": false,
         "text": "Sequatchie, TN",
         "textposition": "top right",
         "type": "scatter",
         "x": [
          2001,
          2002,
          2003,
          2004,
          2005,
          2006,
          2007,
          2008,
          2009,
          2010,
          2011,
          2013,
          2014,
          2015,
          2016,
          2017,
          2018,
          2019,
          2020,
          2021
         ],
         "y": [
          93.344,
          94.438,
          100.921,
          105.231,
          110.896,
          113.322,
          112.319,
          104.771,
          93.856,
          88.67,
          89.713,
          106.189,
          106.545,
          112.796,
          115.105,
          118.999,
          116.045,
          112.447,
          117.728,
          124.691
         ]
        },
        {
         "line": {
          "color": "lightgray"
         },
         "mode": "lines",
         "name": "Andrews, TX",
         "opacity": 0.4,
         "showlegend": false,
         "text": "Andrews, TX",
         "textposition": "top right",
         "type": "scatter",
         "x": [
          2001,
          2002,
          2003,
          2004,
          2005,
          2006,
          2007,
          2008,
          2009,
          2010,
          2011,
          2013,
          2014,
          2015,
          2016,
          2017,
          2018,
          2019,
          2020,
          2021
         ],
         "y": [
          41.155,
          54.283,
          39.031,
          39.142,
          40.672,
          50.631,
          55.178,
          54.002,
          66.889,
          65.024,
          75.192,
          96.163,
          93.544,
          98.55,
          100.757,
          101.636,
          102.755,
          105.096,
          95.616,
          100.614
         ]
        },
        {
         "line": {
          "color": "lightgray"
         },
         "mode": "lines",
         "name": "Caldwell, TX",
         "opacity": 0.4,
         "showlegend": false,
         "text": "Caldwell, TX",
         "textposition": "top right",
         "type": "scatter",
         "x": [
          2001,
          2002,
          2003,
          2004,
          2005,
          2006,
          2007,
          2008,
          2009,
          2010,
          2011,
          2013,
          2014,
          2015,
          2016,
          2017,
          2018,
          2019,
          2020,
          2021
         ],
         "y": [
          51.621,
          56.007,
          56.838,
          57.799,
          59.133,
          61.414,
          62.359,
          64.465,
          72.207,
          77.18,
          92.351,
          98.818,
          94.777,
          90.948,
          87.373,
          91.072,
          96.958,
          97.918,
          102.035,
          105.087
         ]
        },
        {
         "line": {
          "color": "lightgray"
         },
         "mode": "lines",
         "name": "Culberson, TX",
         "opacity": 0.4,
         "showlegend": false,
         "text": "Culberson, TX",
         "textposition": "top right",
         "type": "scatter",
         "x": [
          2001,
          2002,
          2003,
          2004,
          2005,
          2006,
          2007,
          2008,
          2009,
          2010,
          2011,
          2013,
          2014,
          2015,
          2016,
          2017,
          2018,
          2019,
          2020,
          2021
         ],
         "y": [
          35.264,
          37.743,
          36.255,
          38.339,
          40.177,
          41.247,
          42.368,
          53.349,
          66.475,
          58.869,
          62.017,
          144.271,
          258.311,
          404.721,
          546.092,
          673.326,
          712.048,
          986.32,
          1238.206,
          1185.01
         ]
        },
        {
         "line": {
          "color": "lightgray"
         },
         "mode": "lines",
         "name": "Dickens, TX",
         "opacity": 0.4,
         "showlegend": false,
         "text": "Dickens, TX",
         "textposition": "top right",
         "type": "scatter",
         "x": [
          2001,
          2002,
          2003,
          2004,
          2005,
          2006,
          2007,
          2008,
          2009,
          2010,
          2011,
          2013,
          2014,
          2015,
          2016,
          2017,
          2018,
          2019,
          2020,
          2021
         ],
         "y": [
          55.097,
          82.989,
          77.687,
          86.778,
          83.227,
          90.245,
          102.454,
          89.863,
          98.871,
          99.397,
          95.293,
          89.078,
          82.585,
          77.979,
          83.456,
          83.058,
          83.125,
          80.995,
          78.587,
          78.379
         ]
        },
        {
         "line": {
          "color": "lightgray"
         },
         "mode": "lines",
         "name": "Haskell, TX",
         "opacity": 0.4,
         "showlegend": false,
         "text": "Haskell, TX",
         "textposition": "top right",
         "type": "scatter",
         "x": [
          2001,
          2002,
          2003,
          2004,
          2005,
          2006,
          2007,
          2008,
          2009,
          2010,
          2011,
          2013,
          2014,
          2015,
          2016,
          2017,
          2018,
          2019,
          2020,
          2021
         ],
         "y": [
          91.062,
          89.568,
          91.037,
          93.951,
          98.755,
          94.314,
          96.361,
          82.03,
          83.289,
          101.156,
          89.639,
          108.299,
          96.385,
          100.441,
          95.241,
          127.419,
          151.767,
          187.484,
          179.295,
          164.924
         ]
        },
        {
         "line": {
          "color": "lightgray"
         },
         "mode": "lines",
         "name": "Kinney, TX",
         "opacity": 0.4,
         "showlegend": false,
         "text": "Kinney, TX",
         "textposition": "top right",
         "type": "scatter",
         "x": [
          2001,
          2002,
          2003,
          2004,
          2005,
          2006,
          2007,
          2008,
          2009,
          2010,
          2011,
          2013,
          2014,
          2015,
          2016,
          2017,
          2018,
          2019,
          2020,
          2021
         ],
         "y": [
          69.687,
          80.15,
          84.177,
          82.679,
          78.096,
          79.394,
          78.754,
          77.127,
          82.052,
          88.288,
          90.768,
          125.825,
          130.357,
          148.215,
          141.522,
          143.214,
          126.047,
          130.848,
          132.999,
          127.801
         ]
        },
        {
         "line": {
          "color": "lightgray"
         },
         "mode": "lines",
         "name": "Stonewall, TX",
         "opacity": 0.4,
         "showlegend": false,
         "text": "Stonewall, TX",
         "textposition": "top right",
         "type": "scatter",
         "x": [
          2001,
          2002,
          2003,
          2004,
          2005,
          2006,
          2007,
          2008,
          2009,
          2010,
          2011,
          2013,
          2014,
          2015,
          2016,
          2017,
          2018,
          2019,
          2020,
          2021
         ],
         "y": [
          50.001,
          56.891,
          43.384,
          42.505,
          40.066,
          46.491,
          45.002,
          47.135,
          61.769,
          56.573,
          65.718,
          95.831,
          105.652,
          114.105,
          131.482,
          128.5,
          115.884,
          99.658,
          80.799,
          71.312
         ]
        },
        {
         "line": {
          "color": "lightgray"
         },
         "mode": "lines",
         "name": "Tyler, TX",
         "opacity": 0.4,
         "showlegend": false,
         "text": "Tyler, TX",
         "textposition": "top right",
         "type": "scatter",
         "x": [
          2001,
          2002,
          2003,
          2004,
          2005,
          2006,
          2007,
          2008,
          2009,
          2010,
          2011,
          2013,
          2014,
          2015,
          2016,
          2017,
          2018,
          2019,
          2020,
          2021
         ],
         "y": [
          75.055,
          81.418,
          85.087,
          89.468,
          108.701,
          128.697,
          135.369,
          128.37,
          136.182,
          118.643,
          103.548,
          99.676,
          101.372,
          104.778,
          102.155,
          93.803,
          91.423,
          95.654,
          101.998,
          102.402
         ]
        },
        {
         "line": {
          "color": "lightgray"
         },
         "mode": "lines",
         "name": "Van Zandt, TX",
         "opacity": 0.4,
         "showlegend": false,
         "text": "Van Zandt, TX",
         "textposition": "top right",
         "type": "scatter",
         "x": [
          2001,
          2002,
          2003,
          2004,
          2005,
          2006,
          2007,
          2008,
          2009,
          2010,
          2011,
          2013,
          2014,
          2015,
          2016,
          2017,
          2018,
          2019,
          2020,
          2021
         ],
         "y": [
          98.919,
          106.597,
          104.735,
          102.934,
          102.942,
          101.607,
          100.366,
          96.671,
          98.264,
          97.75,
          92.473,
          102.595,
          104.389,
          104.456,
          107.74,
          114.013,
          116.838,
          115.776,
          114.648,
          118.688
         ]
        },
        {
         "line": {
          "color": "lightgray"
         },
         "mode": "lines",
         "name": "Mecklenburg, VA",
         "opacity": 0.4,
         "showlegend": false,
         "text": "Mecklenburg, VA",
         "textposition": "top right",
         "type": "scatter",
         "x": [
          2001,
          2002,
          2003,
          2004,
          2005,
          2006,
          2007,
          2008,
          2009,
          2010,
          2011,
          2013,
          2014,
          2015,
          2016,
          2017,
          2018,
          2019,
          2020,
          2021
         ],
         "y": [
          105.448,
          99.191,
          105.67,
          94.257,
          100.424,
          101.306,
          98.623,
          100.818,
          103.03,
          107.498,
          103.225,
          95.755,
          95.127,
          96.716,
          96.011,
          93.952,
          95.098,
          96.104,
          103.349,
          104.908
         ]
        },
        {
         "line": {
          "color": "lightgray"
         },
         "mode": "lines",
         "name": "Lincoln, WV",
         "opacity": 0.4,
         "showlegend": false,
         "text": "Lincoln, WV",
         "textposition": "top right",
         "type": "scatter",
         "x": [
          2001,
          2002,
          2003,
          2004,
          2005,
          2006,
          2007,
          2008,
          2009,
          2010,
          2011,
          2013,
          2014,
          2015,
          2016,
          2017,
          2018,
          2019,
          2020,
          2021
         ],
         "y": [
          66.116,
          64.156,
          62.628,
          65.287,
          78.332,
          83.853,
          80.798,
          86.897,
          97.361,
          97.689,
          98.242,
          95.11,
          78.892,
          71.89,
          74.483,
          69.597,
          59.133,
          60.412,
          56.821,
          57.602
         ]
        },
        {
         "line": {
          "color": "lightgray"
         },
         "mode": "lines",
         "name": "Taylor, WV",
         "opacity": 0.4,
         "showlegend": false,
         "text": "Taylor, WV",
         "textposition": "top right",
         "type": "scatter",
         "x": [
          2001,
          2002,
          2003,
          2004,
          2005,
          2006,
          2007,
          2008,
          2009,
          2010,
          2011,
          2013,
          2014,
          2015,
          2016,
          2017,
          2018,
          2019,
          2020,
          2021
         ],
         "y": [
          78.807,
          75.241,
          76.417,
          77.408,
          76.409,
          76.56,
          77.373,
          74.188,
          77.152,
          82.828,
          82.968,
          111.842,
          143.979,
          155.499,
          170.754,
          172.154,
          171.283,
          182.283,
          203.88,
          196.321
         ]
        },
        {
         "line": {
          "color": "lightgray"
         },
         "mode": "lines",
         "name": "Oneida, WI",
         "opacity": 0.4,
         "showlegend": false,
         "text": "Oneida, WI",
         "textposition": "top right",
         "type": "scatter",
         "x": [
          2001,
          2002,
          2003,
          2004,
          2005,
          2006,
          2007,
          2008,
          2009,
          2010,
          2011,
          2013,
          2014,
          2015,
          2016,
          2017,
          2018,
          2019,
          2020,
          2021
         ],
         "y": [
          90.219,
          94.027,
          95.266,
          96.537,
          98.609,
          100.719,
          98.792,
          100.284,
          100.145,
          100.249,
          98.426,
          98.62,
          95.579,
          98.741,
          96.347,
          98.253,
          104.064,
          101.635,
          99.008,
          103.169
         ]
        },
        {
         "line": {
          "color": "darkred",
          "width": 3
         },
         "mode": "lines",
         "name": "Adams, PA",
         "showlegend": false,
         "text": "Adams, PA",
         "textposition": "top right",
         "type": "scatter",
         "x": [
          2001,
          2002,
          2003,
          2004,
          2005,
          2006,
          2007,
          2008,
          2009,
          2010,
          2011,
          2013,
          2014,
          2015,
          2016,
          2017,
          2018,
          2019,
          2020,
          2021
         ],
         "y": [
          78.619,
          84.689,
          84.475,
          85.86,
          89.556,
          93.508,
          93.154,
          95.379,
          96.885,
          95.036,
          97.071,
          100.08,
          100.006,
          102.509,
          103.708,
          108.411,
          105.39,
          103.44,
          97.678,
          102.664
         ]
        }
       ],
       "layout": {
        "annotations": [
         {
          "font": {
           "color": "darkred",
           "size": 12
          },
          "showarrow": false,
          "text": "Location recent percentile: 35.14%",
          "x": 2019,
          "y": 123.1968
         }
        ],
        "template": {
         "data": {
          "bar": [
           {
            "error_x": {
             "color": "rgb(36,36,36)"
            },
            "error_y": {
             "color": "rgb(36,36,36)"
            },
            "marker": {
             "line": {
              "color": "white",
              "width": 0.5
             },
             "pattern": {
              "fillmode": "overlay",
              "size": 10,
              "solidity": 0.2
             }
            },
            "type": "bar"
           }
          ],
          "barpolar": [
           {
            "marker": {
             "line": {
              "color": "white",
              "width": 0.5
             },
             "pattern": {
              "fillmode": "overlay",
              "size": 10,
              "solidity": 0.2
             }
            },
            "type": "barpolar"
           }
          ],
          "carpet": [
           {
            "aaxis": {
             "endlinecolor": "rgb(36,36,36)",
             "gridcolor": "white",
             "linecolor": "white",
             "minorgridcolor": "white",
             "startlinecolor": "rgb(36,36,36)"
            },
            "baxis": {
             "endlinecolor": "rgb(36,36,36)",
             "gridcolor": "white",
             "linecolor": "white",
             "minorgridcolor": "white",
             "startlinecolor": "rgb(36,36,36)"
            },
            "type": "carpet"
           }
          ],
          "choropleth": [
           {
            "colorbar": {
             "outlinewidth": 1,
             "tickcolor": "rgb(36,36,36)",
             "ticks": "outside"
            },
            "type": "choropleth"
           }
          ],
          "contour": [
           {
            "colorbar": {
             "outlinewidth": 1,
             "tickcolor": "rgb(36,36,36)",
             "ticks": "outside"
            },
            "colorscale": [
             [
              0,
              "#440154"
             ],
             [
              0.1111111111111111,
              "#482878"
             ],
             [
              0.2222222222222222,
              "#3e4989"
             ],
             [
              0.3333333333333333,
              "#31688e"
             ],
             [
              0.4444444444444444,
              "#26828e"
             ],
             [
              0.5555555555555556,
              "#1f9e89"
             ],
             [
              0.6666666666666666,
              "#35b779"
             ],
             [
              0.7777777777777778,
              "#6ece58"
             ],
             [
              0.8888888888888888,
              "#b5de2b"
             ],
             [
              1,
              "#fde725"
             ]
            ],
            "type": "contour"
           }
          ],
          "contourcarpet": [
           {
            "colorbar": {
             "outlinewidth": 1,
             "tickcolor": "rgb(36,36,36)",
             "ticks": "outside"
            },
            "type": "contourcarpet"
           }
          ],
          "heatmap": [
           {
            "colorbar": {
             "outlinewidth": 1,
             "tickcolor": "rgb(36,36,36)",
             "ticks": "outside"
            },
            "colorscale": [
             [
              0,
              "#440154"
             ],
             [
              0.1111111111111111,
              "#482878"
             ],
             [
              0.2222222222222222,
              "#3e4989"
             ],
             [
              0.3333333333333333,
              "#31688e"
             ],
             [
              0.4444444444444444,
              "#26828e"
             ],
             [
              0.5555555555555556,
              "#1f9e89"
             ],
             [
              0.6666666666666666,
              "#35b779"
             ],
             [
              0.7777777777777778,
              "#6ece58"
             ],
             [
              0.8888888888888888,
              "#b5de2b"
             ],
             [
              1,
              "#fde725"
             ]
            ],
            "type": "heatmap"
           }
          ],
          "heatmapgl": [
           {
            "colorbar": {
             "outlinewidth": 1,
             "tickcolor": "rgb(36,36,36)",
             "ticks": "outside"
            },
            "colorscale": [
             [
              0,
              "#440154"
             ],
             [
              0.1111111111111111,
              "#482878"
             ],
             [
              0.2222222222222222,
              "#3e4989"
             ],
             [
              0.3333333333333333,
              "#31688e"
             ],
             [
              0.4444444444444444,
              "#26828e"
             ],
             [
              0.5555555555555556,
              "#1f9e89"
             ],
             [
              0.6666666666666666,
              "#35b779"
             ],
             [
              0.7777777777777778,
              "#6ece58"
             ],
             [
              0.8888888888888888,
              "#b5de2b"
             ],
             [
              1,
              "#fde725"
             ]
            ],
            "type": "heatmapgl"
           }
          ],
          "histogram": [
           {
            "marker": {
             "line": {
              "color": "white",
              "width": 0.6
             }
            },
            "type": "histogram"
           }
          ],
          "histogram2d": [
           {
            "colorbar": {
             "outlinewidth": 1,
             "tickcolor": "rgb(36,36,36)",
             "ticks": "outside"
            },
            "colorscale": [
             [
              0,
              "#440154"
             ],
             [
              0.1111111111111111,
              "#482878"
             ],
             [
              0.2222222222222222,
              "#3e4989"
             ],
             [
              0.3333333333333333,
              "#31688e"
             ],
             [
              0.4444444444444444,
              "#26828e"
             ],
             [
              0.5555555555555556,
              "#1f9e89"
             ],
             [
              0.6666666666666666,
              "#35b779"
             ],
             [
              0.7777777777777778,
              "#6ece58"
             ],
             [
              0.8888888888888888,
              "#b5de2b"
             ],
             [
              1,
              "#fde725"
             ]
            ],
            "type": "histogram2d"
           }
          ],
          "histogram2dcontour": [
           {
            "colorbar": {
             "outlinewidth": 1,
             "tickcolor": "rgb(36,36,36)",
             "ticks": "outside"
            },
            "colorscale": [
             [
              0,
              "#440154"
             ],
             [
              0.1111111111111111,
              "#482878"
             ],
             [
              0.2222222222222222,
              "#3e4989"
             ],
             [
              0.3333333333333333,
              "#31688e"
             ],
             [
              0.4444444444444444,
              "#26828e"
             ],
             [
              0.5555555555555556,
              "#1f9e89"
             ],
             [
              0.6666666666666666,
              "#35b779"
             ],
             [
              0.7777777777777778,
              "#6ece58"
             ],
             [
              0.8888888888888888,
              "#b5de2b"
             ],
             [
              1,
              "#fde725"
             ]
            ],
            "type": "histogram2dcontour"
           }
          ],
          "mesh3d": [
           {
            "colorbar": {
             "outlinewidth": 1,
             "tickcolor": "rgb(36,36,36)",
             "ticks": "outside"
            },
            "type": "mesh3d"
           }
          ],
          "parcoords": [
           {
            "line": {
             "colorbar": {
              "outlinewidth": 1,
              "tickcolor": "rgb(36,36,36)",
              "ticks": "outside"
             }
            },
            "type": "parcoords"
           }
          ],
          "pie": [
           {
            "automargin": true,
            "type": "pie"
           }
          ],
          "scatter": [
           {
            "fillpattern": {
             "fillmode": "overlay",
             "size": 10,
             "solidity": 0.2
            },
            "type": "scatter"
           }
          ],
          "scatter3d": [
           {
            "line": {
             "colorbar": {
              "outlinewidth": 1,
              "tickcolor": "rgb(36,36,36)",
              "ticks": "outside"
             }
            },
            "marker": {
             "colorbar": {
              "outlinewidth": 1,
              "tickcolor": "rgb(36,36,36)",
              "ticks": "outside"
             }
            },
            "type": "scatter3d"
           }
          ],
          "scattercarpet": [
           {
            "marker": {
             "colorbar": {
              "outlinewidth": 1,
              "tickcolor": "rgb(36,36,36)",
              "ticks": "outside"
             }
            },
            "type": "scattercarpet"
           }
          ],
          "scattergeo": [
           {
            "marker": {
             "colorbar": {
              "outlinewidth": 1,
              "tickcolor": "rgb(36,36,36)",
              "ticks": "outside"
             }
            },
            "type": "scattergeo"
           }
          ],
          "scattergl": [
           {
            "marker": {
             "colorbar": {
              "outlinewidth": 1,
              "tickcolor": "rgb(36,36,36)",
              "ticks": "outside"
             }
            },
            "type": "scattergl"
           }
          ],
          "scattermapbox": [
           {
            "marker": {
             "colorbar": {
              "outlinewidth": 1,
              "tickcolor": "rgb(36,36,36)",
              "ticks": "outside"
             }
            },
            "type": "scattermapbox"
           }
          ],
          "scatterpolar": [
           {
            "marker": {
             "colorbar": {
              "outlinewidth": 1,
              "tickcolor": "rgb(36,36,36)",
              "ticks": "outside"
             }
            },
            "type": "scatterpolar"
           }
          ],
          "scatterpolargl": [
           {
            "marker": {
             "colorbar": {
              "outlinewidth": 1,
              "tickcolor": "rgb(36,36,36)",
              "ticks": "outside"
             }
            },
            "type": "scatterpolargl"
           }
          ],
          "scatterternary": [
           {
            "marker": {
             "colorbar": {
              "outlinewidth": 1,
              "tickcolor": "rgb(36,36,36)",
              "ticks": "outside"
             }
            },
            "type": "scatterternary"
           }
          ],
          "surface": [
           {
            "colorbar": {
             "outlinewidth": 1,
             "tickcolor": "rgb(36,36,36)",
             "ticks": "outside"
            },
            "colorscale": [
             [
              0,
              "#440154"
             ],
             [
              0.1111111111111111,
              "#482878"
             ],
             [
              0.2222222222222222,
              "#3e4989"
             ],
             [
              0.3333333333333333,
              "#31688e"
             ],
             [
              0.4444444444444444,
              "#26828e"
             ],
             [
              0.5555555555555556,
              "#1f9e89"
             ],
             [
              0.6666666666666666,
              "#35b779"
             ],
             [
              0.7777777777777778,
              "#6ece58"
             ],
             [
              0.8888888888888888,
              "#b5de2b"
             ],
             [
              1,
              "#fde725"
             ]
            ],
            "type": "surface"
           }
          ],
          "table": [
           {
            "cells": {
             "fill": {
              "color": "rgb(237,237,237)"
             },
             "line": {
              "color": "white"
             }
            },
            "header": {
             "fill": {
              "color": "rgb(217,217,217)"
             },
             "line": {
              "color": "white"
             }
            },
            "type": "table"
           }
          ]
         },
         "layout": {
          "annotationdefaults": {
           "arrowhead": 0,
           "arrowwidth": 1
          },
          "autotypenumbers": "strict",
          "coloraxis": {
           "colorbar": {
            "outlinewidth": 1,
            "tickcolor": "rgb(36,36,36)",
            "ticks": "outside"
           }
          },
          "colorscale": {
           "diverging": [
            [
             0,
             "rgb(103,0,31)"
            ],
            [
             0.1,
             "rgb(178,24,43)"
            ],
            [
             0.2,
             "rgb(214,96,77)"
            ],
            [
             0.3,
             "rgb(244,165,130)"
            ],
            [
             0.4,
             "rgb(253,219,199)"
            ],
            [
             0.5,
             "rgb(247,247,247)"
            ],
            [
             0.6,
             "rgb(209,229,240)"
            ],
            [
             0.7,
             "rgb(146,197,222)"
            ],
            [
             0.8,
             "rgb(67,147,195)"
            ],
            [
             0.9,
             "rgb(33,102,172)"
            ],
            [
             1,
             "rgb(5,48,97)"
            ]
           ],
           "sequential": [
            [
             0,
             "#440154"
            ],
            [
             0.1111111111111111,
             "#482878"
            ],
            [
             0.2222222222222222,
             "#3e4989"
            ],
            [
             0.3333333333333333,
             "#31688e"
            ],
            [
             0.4444444444444444,
             "#26828e"
            ],
            [
             0.5555555555555556,
             "#1f9e89"
            ],
            [
             0.6666666666666666,
             "#35b779"
            ],
            [
             0.7777777777777778,
             "#6ece58"
            ],
            [
             0.8888888888888888,
             "#b5de2b"
            ],
            [
             1,
             "#fde725"
            ]
           ],
           "sequentialminus": [
            [
             0,
             "#440154"
            ],
            [
             0.1111111111111111,
             "#482878"
            ],
            [
             0.2222222222222222,
             "#3e4989"
            ],
            [
             0.3333333333333333,
             "#31688e"
            ],
            [
             0.4444444444444444,
             "#26828e"
            ],
            [
             0.5555555555555556,
             "#1f9e89"
            ],
            [
             0.6666666666666666,
             "#35b779"
            ],
            [
             0.7777777777777778,
             "#6ece58"
            ],
            [
             0.8888888888888888,
             "#b5de2b"
            ],
            [
             1,
             "#fde725"
            ]
           ]
          },
          "colorway": [
           "#1F77B4",
           "#FF7F0E",
           "#2CA02C",
           "#D62728",
           "#9467BD",
           "#8C564B",
           "#E377C2",
           "#7F7F7F",
           "#BCBD22",
           "#17BECF"
          ],
          "font": {
           "color": "rgb(36,36,36)"
          },
          "geo": {
           "bgcolor": "white",
           "lakecolor": "white",
           "landcolor": "white",
           "showlakes": true,
           "showland": true,
           "subunitcolor": "white"
          },
          "hoverlabel": {
           "align": "left"
          },
          "hovermode": "closest",
          "mapbox": {
           "style": "light"
          },
          "paper_bgcolor": "white",
          "plot_bgcolor": "white",
          "polar": {
           "angularaxis": {
            "gridcolor": "rgb(232,232,232)",
            "linecolor": "rgb(36,36,36)",
            "showgrid": false,
            "showline": true,
            "ticks": "outside"
           },
           "bgcolor": "white",
           "radialaxis": {
            "gridcolor": "rgb(232,232,232)",
            "linecolor": "rgb(36,36,36)",
            "showgrid": false,
            "showline": true,
            "ticks": "outside"
           }
          },
          "scene": {
           "xaxis": {
            "backgroundcolor": "white",
            "gridcolor": "rgb(232,232,232)",
            "gridwidth": 2,
            "linecolor": "rgb(36,36,36)",
            "showbackground": true,
            "showgrid": false,
            "showline": true,
            "ticks": "outside",
            "zeroline": false,
            "zerolinecolor": "rgb(36,36,36)"
           },
           "yaxis": {
            "backgroundcolor": "white",
            "gridcolor": "rgb(232,232,232)",
            "gridwidth": 2,
            "linecolor": "rgb(36,36,36)",
            "showbackground": true,
            "showgrid": false,
            "showline": true,
            "ticks": "outside",
            "zeroline": false,
            "zerolinecolor": "rgb(36,36,36)"
           },
           "zaxis": {
            "backgroundcolor": "white",
            "gridcolor": "rgb(232,232,232)",
            "gridwidth": 2,
            "linecolor": "rgb(36,36,36)",
            "showbackground": true,
            "showgrid": false,
            "showline": true,
            "ticks": "outside",
            "zeroline": false,
            "zerolinecolor": "rgb(36,36,36)"
           }
          },
          "shapedefaults": {
           "fillcolor": "black",
           "line": {
            "width": 0
           },
           "opacity": 0.3
          },
          "ternary": {
           "aaxis": {
            "gridcolor": "rgb(232,232,232)",
            "linecolor": "rgb(36,36,36)",
            "showgrid": false,
            "showline": true,
            "ticks": "outside"
           },
           "baxis": {
            "gridcolor": "rgb(232,232,232)",
            "linecolor": "rgb(36,36,36)",
            "showgrid": false,
            "showline": true,
            "ticks": "outside"
           },
           "bgcolor": "white",
           "caxis": {
            "gridcolor": "rgb(232,232,232)",
            "linecolor": "rgb(36,36,36)",
            "showgrid": false,
            "showline": true,
            "ticks": "outside"
           }
          },
          "title": {
           "x": 0.05
          },
          "xaxis": {
           "automargin": true,
           "gridcolor": "rgb(232,232,232)",
           "linecolor": "rgb(36,36,36)",
           "showgrid": false,
           "showline": true,
           "ticks": "outside",
           "title": {
            "standoff": 15
           },
           "zeroline": false,
           "zerolinecolor": "rgb(36,36,36)"
          },
          "yaxis": {
           "automargin": true,
           "gridcolor": "rgb(232,232,232)",
           "linecolor": "rgb(36,36,36)",
           "showgrid": false,
           "showline": true,
           "ticks": "outside",
           "title": {
            "standoff": 15
           },
           "zeroline": false,
           "zerolinecolor": "rgb(36,36,36)"
          }
         }
        },
        "title": {
         "text": "gdp of Adams, PA, compared to 100 random other locations"
        },
        "xaxis": {
         "title": {
          "text": "Year"
         }
        },
        "yaxis": {
         "range": [
          16.30676909360986,
          175.50503090639015
         ],
         "title": {
          "text": "gdp"
         }
        }
       }
      }
     },
     "metadata": {},
     "output_type": "display_data"
    }
   ],
   "source": [
    "f  = FipsQuery(42001, \"gdp\")\n",
    "f.compare_my_outcome_to_others(sample_size= 100, range_multiplier= 10)\n"
   ]
  },
  {
   "cell_type": "markdown",
   "metadata": {},
   "source": [
    "#### Use case: similarity in outcome patterns\n",
    "\n",
    "You want to find top five juristdiction with similar gdp change patterns. You value times nearest to you a bit more, but also you only want the years 2003-2019 to be used for the outcome comparison."
   ]
  },
  {
   "cell_type": "code",
   "execution_count": 8,
   "metadata": {},
   "outputs": [
    {
     "data": {
      "application/vnd.plotly.v1+json": {
       "config": {
        "plotlyServerURL": "https://plot.ly"
       },
       "data": [
        {
         "type": "bar",
         "x": [
          "2001_gdp",
          "2002_gdp",
          "2003_gdp",
          "2004_gdp",
          "2005_gdp",
          "2006_gdp",
          "2007_gdp",
          "2008_gdp",
          "2009_gdp",
          "2010_gdp",
          "2011_gdp",
          "2013_gdp",
          "2014_gdp",
          "2015_gdp",
          "2016_gdp",
          "2017_gdp",
          "2018_gdp",
          "2019_gdp",
          "2020_gdp",
          "2021_gdp"
         ],
         "y": [
          0.13727950740432876,
          0.1455162778485885,
          0.1542472545195038,
          0.16350208979067407,
          0.17331221517811451,
          0.1837109480888014,
          0.19473360497412948,
          0.20641762127257726,
          0.2188026785489319,
          0.23193083926186783,
          0.24584668961757994,
          0.2605974909946347,
          0.2762333404543128,
          0.29280734088157157,
          0.3103757813344659,
          0.32899832821453384
         ]
        }
       ],
       "layout": {
        "template": {
         "data": {
          "bar": [
           {
            "error_x": {
             "color": "#2a3f5f"
            },
            "error_y": {
             "color": "#2a3f5f"
            },
            "marker": {
             "line": {
              "color": "white",
              "width": 0.5
             },
             "pattern": {
              "fillmode": "overlay",
              "size": 10,
              "solidity": 0.2
             }
            },
            "type": "bar"
           }
          ],
          "barpolar": [
           {
            "marker": {
             "line": {
              "color": "white",
              "width": 0.5
             },
             "pattern": {
              "fillmode": "overlay",
              "size": 10,
              "solidity": 0.2
             }
            },
            "type": "barpolar"
           }
          ],
          "carpet": [
           {
            "aaxis": {
             "endlinecolor": "#2a3f5f",
             "gridcolor": "#C8D4E3",
             "linecolor": "#C8D4E3",
             "minorgridcolor": "#C8D4E3",
             "startlinecolor": "#2a3f5f"
            },
            "baxis": {
             "endlinecolor": "#2a3f5f",
             "gridcolor": "#C8D4E3",
             "linecolor": "#C8D4E3",
             "minorgridcolor": "#C8D4E3",
             "startlinecolor": "#2a3f5f"
            },
            "type": "carpet"
           }
          ],
          "choropleth": [
           {
            "colorbar": {
             "outlinewidth": 0,
             "ticks": ""
            },
            "type": "choropleth"
           }
          ],
          "contour": [
           {
            "colorbar": {
             "outlinewidth": 0,
             "ticks": ""
            },
            "colorscale": [
             [
              0,
              "#0d0887"
             ],
             [
              0.1111111111111111,
              "#46039f"
             ],
             [
              0.2222222222222222,
              "#7201a8"
             ],
             [
              0.3333333333333333,
              "#9c179e"
             ],
             [
              0.4444444444444444,
              "#bd3786"
             ],
             [
              0.5555555555555556,
              "#d8576b"
             ],
             [
              0.6666666666666666,
              "#ed7953"
             ],
             [
              0.7777777777777778,
              "#fb9f3a"
             ],
             [
              0.8888888888888888,
              "#fdca26"
             ],
             [
              1,
              "#f0f921"
             ]
            ],
            "type": "contour"
           }
          ],
          "contourcarpet": [
           {
            "colorbar": {
             "outlinewidth": 0,
             "ticks": ""
            },
            "type": "contourcarpet"
           }
          ],
          "heatmap": [
           {
            "colorbar": {
             "outlinewidth": 0,
             "ticks": ""
            },
            "colorscale": [
             [
              0,
              "#0d0887"
             ],
             [
              0.1111111111111111,
              "#46039f"
             ],
             [
              0.2222222222222222,
              "#7201a8"
             ],
             [
              0.3333333333333333,
              "#9c179e"
             ],
             [
              0.4444444444444444,
              "#bd3786"
             ],
             [
              0.5555555555555556,
              "#d8576b"
             ],
             [
              0.6666666666666666,
              "#ed7953"
             ],
             [
              0.7777777777777778,
              "#fb9f3a"
             ],
             [
              0.8888888888888888,
              "#fdca26"
             ],
             [
              1,
              "#f0f921"
             ]
            ],
            "type": "heatmap"
           }
          ],
          "heatmapgl": [
           {
            "colorbar": {
             "outlinewidth": 0,
             "ticks": ""
            },
            "colorscale": [
             [
              0,
              "#0d0887"
             ],
             [
              0.1111111111111111,
              "#46039f"
             ],
             [
              0.2222222222222222,
              "#7201a8"
             ],
             [
              0.3333333333333333,
              "#9c179e"
             ],
             [
              0.4444444444444444,
              "#bd3786"
             ],
             [
              0.5555555555555556,
              "#d8576b"
             ],
             [
              0.6666666666666666,
              "#ed7953"
             ],
             [
              0.7777777777777778,
              "#fb9f3a"
             ],
             [
              0.8888888888888888,
              "#fdca26"
             ],
             [
              1,
              "#f0f921"
             ]
            ],
            "type": "heatmapgl"
           }
          ],
          "histogram": [
           {
            "marker": {
             "pattern": {
              "fillmode": "overlay",
              "size": 10,
              "solidity": 0.2
             }
            },
            "type": "histogram"
           }
          ],
          "histogram2d": [
           {
            "colorbar": {
             "outlinewidth": 0,
             "ticks": ""
            },
            "colorscale": [
             [
              0,
              "#0d0887"
             ],
             [
              0.1111111111111111,
              "#46039f"
             ],
             [
              0.2222222222222222,
              "#7201a8"
             ],
             [
              0.3333333333333333,
              "#9c179e"
             ],
             [
              0.4444444444444444,
              "#bd3786"
             ],
             [
              0.5555555555555556,
              "#d8576b"
             ],
             [
              0.6666666666666666,
              "#ed7953"
             ],
             [
              0.7777777777777778,
              "#fb9f3a"
             ],
             [
              0.8888888888888888,
              "#fdca26"
             ],
             [
              1,
              "#f0f921"
             ]
            ],
            "type": "histogram2d"
           }
          ],
          "histogram2dcontour": [
           {
            "colorbar": {
             "outlinewidth": 0,
             "ticks": ""
            },
            "colorscale": [
             [
              0,
              "#0d0887"
             ],
             [
              0.1111111111111111,
              "#46039f"
             ],
             [
              0.2222222222222222,
              "#7201a8"
             ],
             [
              0.3333333333333333,
              "#9c179e"
             ],
             [
              0.4444444444444444,
              "#bd3786"
             ],
             [
              0.5555555555555556,
              "#d8576b"
             ],
             [
              0.6666666666666666,
              "#ed7953"
             ],
             [
              0.7777777777777778,
              "#fb9f3a"
             ],
             [
              0.8888888888888888,
              "#fdca26"
             ],
             [
              1,
              "#f0f921"
             ]
            ],
            "type": "histogram2dcontour"
           }
          ],
          "mesh3d": [
           {
            "colorbar": {
             "outlinewidth": 0,
             "ticks": ""
            },
            "type": "mesh3d"
           }
          ],
          "parcoords": [
           {
            "line": {
             "colorbar": {
              "outlinewidth": 0,
              "ticks": ""
             }
            },
            "type": "parcoords"
           }
          ],
          "pie": [
           {
            "automargin": true,
            "type": "pie"
           }
          ],
          "scatter": [
           {
            "fillpattern": {
             "fillmode": "overlay",
             "size": 10,
             "solidity": 0.2
            },
            "type": "scatter"
           }
          ],
          "scatter3d": [
           {
            "line": {
             "colorbar": {
              "outlinewidth": 0,
              "ticks": ""
             }
            },
            "marker": {
             "colorbar": {
              "outlinewidth": 0,
              "ticks": ""
             }
            },
            "type": "scatter3d"
           }
          ],
          "scattercarpet": [
           {
            "marker": {
             "colorbar": {
              "outlinewidth": 0,
              "ticks": ""
             }
            },
            "type": "scattercarpet"
           }
          ],
          "scattergeo": [
           {
            "marker": {
             "colorbar": {
              "outlinewidth": 0,
              "ticks": ""
             }
            },
            "type": "scattergeo"
           }
          ],
          "scattergl": [
           {
            "marker": {
             "colorbar": {
              "outlinewidth": 0,
              "ticks": ""
             }
            },
            "type": "scattergl"
           }
          ],
          "scattermapbox": [
           {
            "marker": {
             "colorbar": {
              "outlinewidth": 0,
              "ticks": ""
             }
            },
            "type": "scattermapbox"
           }
          ],
          "scatterpolar": [
           {
            "marker": {
             "colorbar": {
              "outlinewidth": 0,
              "ticks": ""
             }
            },
            "type": "scatterpolar"
           }
          ],
          "scatterpolargl": [
           {
            "marker": {
             "colorbar": {
              "outlinewidth": 0,
              "ticks": ""
             }
            },
            "type": "scatterpolargl"
           }
          ],
          "scatterternary": [
           {
            "marker": {
             "colorbar": {
              "outlinewidth": 0,
              "ticks": ""
             }
            },
            "type": "scatterternary"
           }
          ],
          "surface": [
           {
            "colorbar": {
             "outlinewidth": 0,
             "ticks": ""
            },
            "colorscale": [
             [
              0,
              "#0d0887"
             ],
             [
              0.1111111111111111,
              "#46039f"
             ],
             [
              0.2222222222222222,
              "#7201a8"
             ],
             [
              0.3333333333333333,
              "#9c179e"
             ],
             [
              0.4444444444444444,
              "#bd3786"
             ],
             [
              0.5555555555555556,
              "#d8576b"
             ],
             [
              0.6666666666666666,
              "#ed7953"
             ],
             [
              0.7777777777777778,
              "#fb9f3a"
             ],
             [
              0.8888888888888888,
              "#fdca26"
             ],
             [
              1,
              "#f0f921"
             ]
            ],
            "type": "surface"
           }
          ],
          "table": [
           {
            "cells": {
             "fill": {
              "color": "#EBF0F8"
             },
             "line": {
              "color": "white"
             }
            },
            "header": {
             "fill": {
              "color": "#C8D4E3"
             },
             "line": {
              "color": "white"
             }
            },
            "type": "table"
           }
          ]
         },
         "layout": {
          "annotationdefaults": {
           "arrowcolor": "#2a3f5f",
           "arrowhead": 0,
           "arrowwidth": 1
          },
          "autotypenumbers": "strict",
          "coloraxis": {
           "colorbar": {
            "outlinewidth": 0,
            "ticks": ""
           }
          },
          "colorscale": {
           "diverging": [
            [
             0,
             "#8e0152"
            ],
            [
             0.1,
             "#c51b7d"
            ],
            [
             0.2,
             "#de77ae"
            ],
            [
             0.3,
             "#f1b6da"
            ],
            [
             0.4,
             "#fde0ef"
            ],
            [
             0.5,
             "#f7f7f7"
            ],
            [
             0.6,
             "#e6f5d0"
            ],
            [
             0.7,
             "#b8e186"
            ],
            [
             0.8,
             "#7fbc41"
            ],
            [
             0.9,
             "#4d9221"
            ],
            [
             1,
             "#276419"
            ]
           ],
           "sequential": [
            [
             0,
             "#0d0887"
            ],
            [
             0.1111111111111111,
             "#46039f"
            ],
            [
             0.2222222222222222,
             "#7201a8"
            ],
            [
             0.3333333333333333,
             "#9c179e"
            ],
            [
             0.4444444444444444,
             "#bd3786"
            ],
            [
             0.5555555555555556,
             "#d8576b"
            ],
            [
             0.6666666666666666,
             "#ed7953"
            ],
            [
             0.7777777777777778,
             "#fb9f3a"
            ],
            [
             0.8888888888888888,
             "#fdca26"
            ],
            [
             1,
             "#f0f921"
            ]
           ],
           "sequentialminus": [
            [
             0,
             "#0d0887"
            ],
            [
             0.1111111111111111,
             "#46039f"
            ],
            [
             0.2222222222222222,
             "#7201a8"
            ],
            [
             0.3333333333333333,
             "#9c179e"
            ],
            [
             0.4444444444444444,
             "#bd3786"
            ],
            [
             0.5555555555555556,
             "#d8576b"
            ],
            [
             0.6666666666666666,
             "#ed7953"
            ],
            [
             0.7777777777777778,
             "#fb9f3a"
            ],
            [
             0.8888888888888888,
             "#fdca26"
            ],
            [
             1,
             "#f0f921"
            ]
           ]
          },
          "colorway": [
           "#636efa",
           "#EF553B",
           "#00cc96",
           "#ab63fa",
           "#FFA15A",
           "#19d3f3",
           "#FF6692",
           "#B6E880",
           "#FF97FF",
           "#FECB52"
          ],
          "font": {
           "color": "#2a3f5f"
          },
          "geo": {
           "bgcolor": "white",
           "lakecolor": "white",
           "landcolor": "white",
           "showlakes": true,
           "showland": true,
           "subunitcolor": "#C8D4E3"
          },
          "hoverlabel": {
           "align": "left"
          },
          "hovermode": "closest",
          "mapbox": {
           "style": "light"
          },
          "paper_bgcolor": "white",
          "plot_bgcolor": "white",
          "polar": {
           "angularaxis": {
            "gridcolor": "#EBF0F8",
            "linecolor": "#EBF0F8",
            "ticks": ""
           },
           "bgcolor": "white",
           "radialaxis": {
            "gridcolor": "#EBF0F8",
            "linecolor": "#EBF0F8",
            "ticks": ""
           }
          },
          "scene": {
           "xaxis": {
            "backgroundcolor": "white",
            "gridcolor": "#DFE8F3",
            "gridwidth": 2,
            "linecolor": "#EBF0F8",
            "showbackground": true,
            "ticks": "",
            "zerolinecolor": "#EBF0F8"
           },
           "yaxis": {
            "backgroundcolor": "white",
            "gridcolor": "#DFE8F3",
            "gridwidth": 2,
            "linecolor": "#EBF0F8",
            "showbackground": true,
            "ticks": "",
            "zerolinecolor": "#EBF0F8"
           },
           "zaxis": {
            "backgroundcolor": "white",
            "gridcolor": "#DFE8F3",
            "gridwidth": 2,
            "linecolor": "#EBF0F8",
            "showbackground": true,
            "ticks": "",
            "zerolinecolor": "#EBF0F8"
           }
          },
          "shapedefaults": {
           "line": {
            "color": "#2a3f5f"
           }
          },
          "ternary": {
           "aaxis": {
            "gridcolor": "#DFE8F3",
            "linecolor": "#A2B1C6",
            "ticks": ""
           },
           "baxis": {
            "gridcolor": "#DFE8F3",
            "linecolor": "#A2B1C6",
            "ticks": ""
           },
           "bgcolor": "white",
           "caxis": {
            "gridcolor": "#DFE8F3",
            "linecolor": "#A2B1C6",
            "ticks": ""
           }
          },
          "title": {
           "x": 0.05
          },
          "xaxis": {
           "automargin": true,
           "gridcolor": "#EBF0F8",
           "linecolor": "#EBF0F8",
           "ticks": "",
           "title": {
            "standoff": 15
           },
           "zerolinecolor": "#EBF0F8",
           "zerolinewidth": 2
          },
          "yaxis": {
           "automargin": true,
           "gridcolor": "#EBF0F8",
           "linecolor": "#EBF0F8",
           "ticks": "",
           "title": {
            "standoff": 15
           },
           "zerolinecolor": "#EBF0F8",
           "zerolinewidth": 2
          }
         }
        },
        "title": {
         "text": "Weights of columns"
        },
        "xaxis": {
         "title": {
          "text": "columns"
         }
        },
        "yaxis": {
         "title": {
          "text": "weights"
         }
        }
       }
      }
     },
     "metadata": {},
     "output_type": "display_data"
    },
    {
     "data": {
      "text/plain": [
       "None"
      ]
     },
     "metadata": {},
     "output_type": "display_data"
    }
   ],
   "source": [
    "f  = FipsQuery(42001, \"gdp\", lag = 0, top =5, time_decay = 1.06, \n",
    "               outcome_comparison_period=(2003, 2019), outcome_percentile_range= (40,100))\n",
    "f.find_euclidean_kins()\n",
    "# you can inspect the weights resulting from your time_decay setting:\n",
    "\n",
    "display(f.plot_weights())"
   ]
  },
  {
   "cell_type": "code",
   "execution_count": 9,
   "metadata": {},
   "outputs": [
    {
     "data": {
      "text/html": [
       "<div>\n",
       "<style scoped>\n",
       "    .dataframe tbody tr th:only-of-type {\n",
       "        vertical-align: middle;\n",
       "    }\n",
       "\n",
       "    .dataframe tbody tr th {\n",
       "        vertical-align: top;\n",
       "    }\n",
       "\n",
       "    .dataframe thead th {\n",
       "        text-align: right;\n",
       "    }\n",
       "</style>\n",
       "<table border=\"1\" class=\"dataframe\">\n",
       "  <thead>\n",
       "    <tr style=\"text-align: right;\">\n",
       "      <th></th>\n",
       "      <th>GeoFIPS</th>\n",
       "      <th>GeoName</th>\n",
       "      <th>2001</th>\n",
       "      <th>2002</th>\n",
       "      <th>2003</th>\n",
       "      <th>2004</th>\n",
       "      <th>2005</th>\n",
       "      <th>2006</th>\n",
       "      <th>2007</th>\n",
       "      <th>2008</th>\n",
       "      <th>...</th>\n",
       "      <th>2014</th>\n",
       "      <th>2015</th>\n",
       "      <th>2016</th>\n",
       "      <th>2017</th>\n",
       "      <th>2018</th>\n",
       "      <th>2019</th>\n",
       "      <th>2020</th>\n",
       "      <th>2021</th>\n",
       "      <th>distance to 42001</th>\n",
       "      <th>percentile</th>\n",
       "    </tr>\n",
       "  </thead>\n",
       "  <tbody>\n",
       "    <tr>\n",
       "      <th>0</th>\n",
       "      <td>42001</td>\n",
       "      <td>Adams, PA</td>\n",
       "      <td>78.619</td>\n",
       "      <td>84.689</td>\n",
       "      <td>84.475</td>\n",
       "      <td>85.860</td>\n",
       "      <td>89.556</td>\n",
       "      <td>93.508</td>\n",
       "      <td>93.154</td>\n",
       "      <td>95.379</td>\n",
       "      <td>...</td>\n",
       "      <td>100.006</td>\n",
       "      <td>102.509</td>\n",
       "      <td>103.708</td>\n",
       "      <td>108.411</td>\n",
       "      <td>105.390</td>\n",
       "      <td>103.440</td>\n",
       "      <td>97.678</td>\n",
       "      <td>102.664</td>\n",
       "      <td>0.000000</td>\n",
       "      <td>35.14</td>\n",
       "    </tr>\n",
       "    <tr>\n",
       "      <th>1</th>\n",
       "      <td>24013</td>\n",
       "      <td>Carroll, MD</td>\n",
       "      <td>76.152</td>\n",
       "      <td>80.700</td>\n",
       "      <td>82.853</td>\n",
       "      <td>86.013</td>\n",
       "      <td>89.398</td>\n",
       "      <td>95.381</td>\n",
       "      <td>95.463</td>\n",
       "      <td>97.823</td>\n",
       "      <td>...</td>\n",
       "      <td>99.510</td>\n",
       "      <td>101.215</td>\n",
       "      <td>101.568</td>\n",
       "      <td>106.456</td>\n",
       "      <td>104.838</td>\n",
       "      <td>105.452</td>\n",
       "      <td>101.050</td>\n",
       "      <td>105.298</td>\n",
       "      <td>0.039596</td>\n",
       "      <td>41.95</td>\n",
       "    </tr>\n",
       "    <tr>\n",
       "      <th>2</th>\n",
       "      <td>28105</td>\n",
       "      <td>Oktibbeha, MS</td>\n",
       "      <td>83.279</td>\n",
       "      <td>85.143</td>\n",
       "      <td>83.864</td>\n",
       "      <td>85.565</td>\n",
       "      <td>91.160</td>\n",
       "      <td>93.433</td>\n",
       "      <td>93.899</td>\n",
       "      <td>98.855</td>\n",
       "      <td>...</td>\n",
       "      <td>100.858</td>\n",
       "      <td>100.069</td>\n",
       "      <td>106.639</td>\n",
       "      <td>105.926</td>\n",
       "      <td>106.941</td>\n",
       "      <td>107.105</td>\n",
       "      <td>108.225</td>\n",
       "      <td>109.357</td>\n",
       "      <td>0.055532</td>\n",
       "      <td>51.43</td>\n",
       "    </tr>\n",
       "    <tr>\n",
       "      <th>4</th>\n",
       "      <td>36103</td>\n",
       "      <td>Suffolk, NY</td>\n",
       "      <td>77.583</td>\n",
       "      <td>80.337</td>\n",
       "      <td>83.711</td>\n",
       "      <td>87.603</td>\n",
       "      <td>88.109</td>\n",
       "      <td>90.437</td>\n",
       "      <td>90.857</td>\n",
       "      <td>94.202</td>\n",
       "      <td>...</td>\n",
       "      <td>100.099</td>\n",
       "      <td>101.102</td>\n",
       "      <td>102.505</td>\n",
       "      <td>103.283</td>\n",
       "      <td>103.288</td>\n",
       "      <td>105.925</td>\n",
       "      <td>101.523</td>\n",
       "      <td>106.687</td>\n",
       "      <td>0.056833</td>\n",
       "      <td>44.94</td>\n",
       "    </tr>\n",
       "    <tr>\n",
       "      <th>5</th>\n",
       "      <td>25027</td>\n",
       "      <td>Worcester, MA</td>\n",
       "      <td>83.429</td>\n",
       "      <td>84.954</td>\n",
       "      <td>88.210</td>\n",
       "      <td>89.841</td>\n",
       "      <td>90.625</td>\n",
       "      <td>92.234</td>\n",
       "      <td>93.830</td>\n",
       "      <td>96.316</td>\n",
       "      <td>...</td>\n",
       "      <td>101.656</td>\n",
       "      <td>103.801</td>\n",
       "      <td>104.461</td>\n",
       "      <td>104.997</td>\n",
       "      <td>107.212</td>\n",
       "      <td>107.542</td>\n",
       "      <td>104.070</td>\n",
       "      <td>109.597</td>\n",
       "      <td>0.059123</td>\n",
       "      <td>51.98</td>\n",
       "    </tr>\n",
       "    <tr>\n",
       "      <th>...</th>\n",
       "      <td>...</td>\n",
       "      <td>...</td>\n",
       "      <td>...</td>\n",
       "      <td>...</td>\n",
       "      <td>...</td>\n",
       "      <td>...</td>\n",
       "      <td>...</td>\n",
       "      <td>...</td>\n",
       "      <td>...</td>\n",
       "      <td>...</td>\n",
       "      <td>...</td>\n",
       "      <td>...</td>\n",
       "      <td>...</td>\n",
       "      <td>...</td>\n",
       "      <td>...</td>\n",
       "      <td>...</td>\n",
       "      <td>...</td>\n",
       "      <td>...</td>\n",
       "      <td>...</td>\n",
       "      <td>...</td>\n",
       "      <td>...</td>\n",
       "    </tr>\n",
       "    <tr>\n",
       "      <th>3075</th>\n",
       "      <td>48127</td>\n",
       "      <td>Dimmit, TX</td>\n",
       "      <td>9.381</td>\n",
       "      <td>10.070</td>\n",
       "      <td>10.269</td>\n",
       "      <td>10.101</td>\n",
       "      <td>10.527</td>\n",
       "      <td>13.382</td>\n",
       "      <td>13.424</td>\n",
       "      <td>12.854</td>\n",
       "      <td>...</td>\n",
       "      <td>208.912</td>\n",
       "      <td>253.553</td>\n",
       "      <td>226.448</td>\n",
       "      <td>235.298</td>\n",
       "      <td>230.138</td>\n",
       "      <td>256.745</td>\n",
       "      <td>206.367</td>\n",
       "      <td>159.131</td>\n",
       "      <td>1.150028</td>\n",
       "      <td>96.27</td>\n",
       "    </tr>\n",
       "    <tr>\n",
       "      <th>3076</th>\n",
       "      <td>48389</td>\n",
       "      <td>Reeves, TX</td>\n",
       "      <td>46.003</td>\n",
       "      <td>49.290</td>\n",
       "      <td>44.960</td>\n",
       "      <td>41.682</td>\n",
       "      <td>39.742</td>\n",
       "      <td>41.332</td>\n",
       "      <td>41.009</td>\n",
       "      <td>41.389</td>\n",
       "      <td>...</td>\n",
       "      <td>212.473</td>\n",
       "      <td>334.183</td>\n",
       "      <td>416.768</td>\n",
       "      <td>607.235</td>\n",
       "      <td>843.967</td>\n",
       "      <td>1226.531</td>\n",
       "      <td>1136.483</td>\n",
       "      <td>942.206</td>\n",
       "      <td>1.163298</td>\n",
       "      <td>99.90</td>\n",
       "    </tr>\n",
       "    <tr>\n",
       "      <th>3078</th>\n",
       "      <td>48301</td>\n",
       "      <td>Loving, TX</td>\n",
       "      <td>37.050</td>\n",
       "      <td>40.836</td>\n",
       "      <td>40.690</td>\n",
       "      <td>49.561</td>\n",
       "      <td>81.009</td>\n",
       "      <td>110.338</td>\n",
       "      <td>149.312</td>\n",
       "      <td>114.503</td>\n",
       "      <td>...</td>\n",
       "      <td>186.286</td>\n",
       "      <td>306.333</td>\n",
       "      <td>551.251</td>\n",
       "      <td>802.739</td>\n",
       "      <td>1064.149</td>\n",
       "      <td>1388.130</td>\n",
       "      <td>1453.540</td>\n",
       "      <td>1080.924</td>\n",
       "      <td>1.182778</td>\n",
       "      <td>99.94</td>\n",
       "    </tr>\n",
       "    <tr>\n",
       "      <th>3080</th>\n",
       "      <td>48283</td>\n",
       "      <td>La Salle, TX</td>\n",
       "      <td>6.638</td>\n",
       "      <td>6.679</td>\n",
       "      <td>7.065</td>\n",
       "      <td>6.727</td>\n",
       "      <td>7.541</td>\n",
       "      <td>8.729</td>\n",
       "      <td>8.254</td>\n",
       "      <td>7.900</td>\n",
       "      <td>...</td>\n",
       "      <td>224.270</td>\n",
       "      <td>255.409</td>\n",
       "      <td>208.985</td>\n",
       "      <td>202.036</td>\n",
       "      <td>201.509</td>\n",
       "      <td>219.118</td>\n",
       "      <td>177.489</td>\n",
       "      <td>159.947</td>\n",
       "      <td>1.227202</td>\n",
       "      <td>96.40</td>\n",
       "    </tr>\n",
       "    <tr>\n",
       "      <th>3081</th>\n",
       "      <td>48255</td>\n",
       "      <td>Karnes, TX</td>\n",
       "      <td>6.498</td>\n",
       "      <td>6.891</td>\n",
       "      <td>7.331</td>\n",
       "      <td>6.759</td>\n",
       "      <td>6.537</td>\n",
       "      <td>6.290</td>\n",
       "      <td>6.662</td>\n",
       "      <td>6.937</td>\n",
       "      <td>...</td>\n",
       "      <td>170.877</td>\n",
       "      <td>210.901</td>\n",
       "      <td>200.421</td>\n",
       "      <td>221.260</td>\n",
       "      <td>217.623</td>\n",
       "      <td>236.985</td>\n",
       "      <td>204.295</td>\n",
       "      <td>183.520</td>\n",
       "      <td>1.236807</td>\n",
       "      <td>98.60</td>\n",
       "    </tr>\n",
       "  </tbody>\n",
       "</table>\n",
       "<p>1850 rows × 24 columns</p>\n",
       "</div>"
      ],
      "text/plain": [
       "      GeoFIPS        GeoName    2001    2002    2003    2004    2005     2006  \\\n",
       "0       42001      Adams, PA  78.619  84.689  84.475  85.860  89.556   93.508   \n",
       "1       24013    Carroll, MD  76.152  80.700  82.853  86.013  89.398   95.381   \n",
       "2       28105  Oktibbeha, MS  83.279  85.143  83.864  85.565  91.160   93.433   \n",
       "4       36103    Suffolk, NY  77.583  80.337  83.711  87.603  88.109   90.437   \n",
       "5       25027  Worcester, MA  83.429  84.954  88.210  89.841  90.625   92.234   \n",
       "...       ...            ...     ...     ...     ...     ...     ...      ...   \n",
       "3075    48127     Dimmit, TX   9.381  10.070  10.269  10.101  10.527   13.382   \n",
       "3076    48389     Reeves, TX  46.003  49.290  44.960  41.682  39.742   41.332   \n",
       "3078    48301     Loving, TX  37.050  40.836  40.690  49.561  81.009  110.338   \n",
       "3080    48283   La Salle, TX   6.638   6.679   7.065   6.727   7.541    8.729   \n",
       "3081    48255     Karnes, TX   6.498   6.891   7.331   6.759   6.537    6.290   \n",
       "\n",
       "         2007     2008  ...     2014     2015     2016     2017      2018  \\\n",
       "0      93.154   95.379  ...  100.006  102.509  103.708  108.411   105.390   \n",
       "1      95.463   97.823  ...   99.510  101.215  101.568  106.456   104.838   \n",
       "2      93.899   98.855  ...  100.858  100.069  106.639  105.926   106.941   \n",
       "4      90.857   94.202  ...  100.099  101.102  102.505  103.283   103.288   \n",
       "5      93.830   96.316  ...  101.656  103.801  104.461  104.997   107.212   \n",
       "...       ...      ...  ...      ...      ...      ...      ...       ...   \n",
       "3075   13.424   12.854  ...  208.912  253.553  226.448  235.298   230.138   \n",
       "3076   41.009   41.389  ...  212.473  334.183  416.768  607.235   843.967   \n",
       "3078  149.312  114.503  ...  186.286  306.333  551.251  802.739  1064.149   \n",
       "3080    8.254    7.900  ...  224.270  255.409  208.985  202.036   201.509   \n",
       "3081    6.662    6.937  ...  170.877  210.901  200.421  221.260   217.623   \n",
       "\n",
       "          2019      2020      2021  distance to 42001  percentile  \n",
       "0      103.440    97.678   102.664           0.000000       35.14  \n",
       "1      105.452   101.050   105.298           0.039596       41.95  \n",
       "2      107.105   108.225   109.357           0.055532       51.43  \n",
       "4      105.925   101.523   106.687           0.056833       44.94  \n",
       "5      107.542   104.070   109.597           0.059123       51.98  \n",
       "...        ...       ...       ...                ...         ...  \n",
       "3075   256.745   206.367   159.131           1.150028       96.27  \n",
       "3076  1226.531  1136.483   942.206           1.163298       99.90  \n",
       "3078  1388.130  1453.540  1080.924           1.182778       99.94  \n",
       "3080   219.118   177.489   159.947           1.227202       96.40  \n",
       "3081   236.985   204.295   183.520           1.236807       98.60  \n",
       "\n",
       "[1850 rows x 24 columns]"
      ]
     },
     "metadata": {},
     "output_type": "display_data"
    }
   ],
   "source": [
    "# you can find the distances and  inspect the resulting \n",
    "# dataframe that contains the ranking:\n",
    "f.find_euclidean_kins()\n",
    "display(f.euclidean_kins)"
   ]
  },
  {
   "cell_type": "code",
   "execution_count": 10,
   "metadata": {},
   "outputs": [
    {
     "data": {
      "application/vnd.plotly.v1+json": {
       "config": {
        "plotlyServerURL": "https://plot.ly"
       },
       "data": [
        {
         "line": {
          "color": "darkred",
          "width": 3
         },
         "mode": "lines",
         "name": "Adams, PA",
         "text": "Adams, PA",
         "textposition": "top right",
         "type": "scatter",
         "x": [
          2001,
          2002,
          2003,
          2004,
          2005,
          2006,
          2007,
          2008,
          2009,
          2010,
          2011,
          2013,
          2014,
          2015,
          2016,
          2017,
          2018,
          2019,
          2020,
          2021
         ],
         "y": [
          78.619,
          84.689,
          84.475,
          85.86,
          89.556,
          93.508,
          93.154,
          95.379,
          96.885,
          95.036,
          97.071,
          100.08,
          100.006,
          102.509,
          103.708,
          108.411,
          105.39,
          103.44,
          97.678,
          102.664
         ]
        },
        {
         "line": {
          "color": "#FFC0CB"
         },
         "mode": "lines",
         "name": "Carroll, MD",
         "text": "Carroll, MD",
         "textposition": "top right",
         "type": "scatter",
         "x": [
          2001,
          2002,
          2003,
          2004,
          2005,
          2006,
          2007,
          2008,
          2009,
          2010,
          2011,
          2013,
          2014,
          2015,
          2016,
          2017,
          2018,
          2019,
          2020,
          2021
         ],
         "y": [
          76.152,
          80.7,
          82.853,
          86.013,
          89.398,
          95.381,
          95.463,
          97.823,
          92.549,
          95.524,
          97.683,
          100.226,
          99.51,
          101.215,
          101.568,
          106.456,
          104.838,
          105.452,
          101.05,
          105.298
         ]
        },
        {
         "line": {
          "color": "#A9A9A9"
         },
         "mode": "lines",
         "name": "Oktibbeha, MS",
         "text": "Oktibbeha, MS",
         "textposition": "top right",
         "type": "scatter",
         "x": [
          2001,
          2002,
          2003,
          2004,
          2005,
          2006,
          2007,
          2008,
          2009,
          2010,
          2011,
          2013,
          2014,
          2015,
          2016,
          2017,
          2018,
          2019,
          2020,
          2021
         ],
         "y": [
          83.279,
          85.143,
          83.864,
          85.565,
          91.16,
          93.433,
          93.899,
          98.855,
          99.163,
          97.766,
          99.952,
          101.228,
          100.858,
          100.069,
          106.639,
          105.926,
          106.941,
          107.105,
          108.225,
          109.357
         ]
        },
        {
         "line": {
          "color": "#87CEFA"
         },
         "mode": "lines",
         "name": "Suffolk, NY",
         "text": "Suffolk, NY",
         "textposition": "top right",
         "type": "scatter",
         "x": [
          2001,
          2002,
          2003,
          2004,
          2005,
          2006,
          2007,
          2008,
          2009,
          2010,
          2011,
          2013,
          2014,
          2015,
          2016,
          2017,
          2018,
          2019,
          2020,
          2021
         ],
         "y": [
          77.583,
          80.337,
          83.711,
          87.603,
          88.109,
          90.437,
          90.857,
          94.202,
          95.221,
          99.128,
          98.238,
          99.697,
          100.099,
          101.102,
          102.505,
          103.283,
          103.288,
          105.925,
          101.523,
          106.687
         ]
        },
        {
         "line": {
          "color": "#FFD700"
         },
         "mode": "lines",
         "name": "Worcester, MA",
         "text": "Worcester, MA",
         "textposition": "top right",
         "type": "scatter",
         "x": [
          2001,
          2002,
          2003,
          2004,
          2005,
          2006,
          2007,
          2008,
          2009,
          2010,
          2011,
          2013,
          2014,
          2015,
          2016,
          2017,
          2018,
          2019,
          2020,
          2021
         ],
         "y": [
          83.429,
          84.954,
          88.21,
          89.841,
          90.625,
          92.234,
          93.83,
          96.316,
          92.366,
          96.009,
          99.117,
          100.871,
          101.656,
          103.801,
          104.461,
          104.997,
          107.212,
          107.542,
          104.07,
          109.597
         ]
        },
        {
         "line": {
          "color": "#98FB98"
         },
         "mode": "lines",
         "name": "Lake, IL",
         "text": "Lake, IL",
         "textposition": "top right",
         "type": "scatter",
         "x": [
          2001,
          2002,
          2003,
          2004,
          2005,
          2006,
          2007,
          2008,
          2009,
          2010,
          2011,
          2013,
          2014,
          2015,
          2016,
          2017,
          2018,
          2019,
          2020,
          2021
         ],
         "y": [
          78.656,
          81.216,
          83.875,
          87.882,
          89.657,
          94.695,
          97.707,
          94.213,
          92.498,
          96.205,
          95.768,
          98.521,
          101.651,
          104.679,
          102.943,
          102.954,
          105.339,
          105.335,
          101.592,
          106.468
         ]
        }
       ],
       "layout": {
        "legend": {
         "title": {
          "text": "GeoName"
         }
        },
        "template": {
         "data": {
          "bar": [
           {
            "error_x": {
             "color": "rgb(36,36,36)"
            },
            "error_y": {
             "color": "rgb(36,36,36)"
            },
            "marker": {
             "line": {
              "color": "white",
              "width": 0.5
             },
             "pattern": {
              "fillmode": "overlay",
              "size": 10,
              "solidity": 0.2
             }
            },
            "type": "bar"
           }
          ],
          "barpolar": [
           {
            "marker": {
             "line": {
              "color": "white",
              "width": 0.5
             },
             "pattern": {
              "fillmode": "overlay",
              "size": 10,
              "solidity": 0.2
             }
            },
            "type": "barpolar"
           }
          ],
          "carpet": [
           {
            "aaxis": {
             "endlinecolor": "rgb(36,36,36)",
             "gridcolor": "white",
             "linecolor": "white",
             "minorgridcolor": "white",
             "startlinecolor": "rgb(36,36,36)"
            },
            "baxis": {
             "endlinecolor": "rgb(36,36,36)",
             "gridcolor": "white",
             "linecolor": "white",
             "minorgridcolor": "white",
             "startlinecolor": "rgb(36,36,36)"
            },
            "type": "carpet"
           }
          ],
          "choropleth": [
           {
            "colorbar": {
             "outlinewidth": 1,
             "tickcolor": "rgb(36,36,36)",
             "ticks": "outside"
            },
            "type": "choropleth"
           }
          ],
          "contour": [
           {
            "colorbar": {
             "outlinewidth": 1,
             "tickcolor": "rgb(36,36,36)",
             "ticks": "outside"
            },
            "colorscale": [
             [
              0,
              "#440154"
             ],
             [
              0.1111111111111111,
              "#482878"
             ],
             [
              0.2222222222222222,
              "#3e4989"
             ],
             [
              0.3333333333333333,
              "#31688e"
             ],
             [
              0.4444444444444444,
              "#26828e"
             ],
             [
              0.5555555555555556,
              "#1f9e89"
             ],
             [
              0.6666666666666666,
              "#35b779"
             ],
             [
              0.7777777777777778,
              "#6ece58"
             ],
             [
              0.8888888888888888,
              "#b5de2b"
             ],
             [
              1,
              "#fde725"
             ]
            ],
            "type": "contour"
           }
          ],
          "contourcarpet": [
           {
            "colorbar": {
             "outlinewidth": 1,
             "tickcolor": "rgb(36,36,36)",
             "ticks": "outside"
            },
            "type": "contourcarpet"
           }
          ],
          "heatmap": [
           {
            "colorbar": {
             "outlinewidth": 1,
             "tickcolor": "rgb(36,36,36)",
             "ticks": "outside"
            },
            "colorscale": [
             [
              0,
              "#440154"
             ],
             [
              0.1111111111111111,
              "#482878"
             ],
             [
              0.2222222222222222,
              "#3e4989"
             ],
             [
              0.3333333333333333,
              "#31688e"
             ],
             [
              0.4444444444444444,
              "#26828e"
             ],
             [
              0.5555555555555556,
              "#1f9e89"
             ],
             [
              0.6666666666666666,
              "#35b779"
             ],
             [
              0.7777777777777778,
              "#6ece58"
             ],
             [
              0.8888888888888888,
              "#b5de2b"
             ],
             [
              1,
              "#fde725"
             ]
            ],
            "type": "heatmap"
           }
          ],
          "heatmapgl": [
           {
            "colorbar": {
             "outlinewidth": 1,
             "tickcolor": "rgb(36,36,36)",
             "ticks": "outside"
            },
            "colorscale": [
             [
              0,
              "#440154"
             ],
             [
              0.1111111111111111,
              "#482878"
             ],
             [
              0.2222222222222222,
              "#3e4989"
             ],
             [
              0.3333333333333333,
              "#31688e"
             ],
             [
              0.4444444444444444,
              "#26828e"
             ],
             [
              0.5555555555555556,
              "#1f9e89"
             ],
             [
              0.6666666666666666,
              "#35b779"
             ],
             [
              0.7777777777777778,
              "#6ece58"
             ],
             [
              0.8888888888888888,
              "#b5de2b"
             ],
             [
              1,
              "#fde725"
             ]
            ],
            "type": "heatmapgl"
           }
          ],
          "histogram": [
           {
            "marker": {
             "line": {
              "color": "white",
              "width": 0.6
             }
            },
            "type": "histogram"
           }
          ],
          "histogram2d": [
           {
            "colorbar": {
             "outlinewidth": 1,
             "tickcolor": "rgb(36,36,36)",
             "ticks": "outside"
            },
            "colorscale": [
             [
              0,
              "#440154"
             ],
             [
              0.1111111111111111,
              "#482878"
             ],
             [
              0.2222222222222222,
              "#3e4989"
             ],
             [
              0.3333333333333333,
              "#31688e"
             ],
             [
              0.4444444444444444,
              "#26828e"
             ],
             [
              0.5555555555555556,
              "#1f9e89"
             ],
             [
              0.6666666666666666,
              "#35b779"
             ],
             [
              0.7777777777777778,
              "#6ece58"
             ],
             [
              0.8888888888888888,
              "#b5de2b"
             ],
             [
              1,
              "#fde725"
             ]
            ],
            "type": "histogram2d"
           }
          ],
          "histogram2dcontour": [
           {
            "colorbar": {
             "outlinewidth": 1,
             "tickcolor": "rgb(36,36,36)",
             "ticks": "outside"
            },
            "colorscale": [
             [
              0,
              "#440154"
             ],
             [
              0.1111111111111111,
              "#482878"
             ],
             [
              0.2222222222222222,
              "#3e4989"
             ],
             [
              0.3333333333333333,
              "#31688e"
             ],
             [
              0.4444444444444444,
              "#26828e"
             ],
             [
              0.5555555555555556,
              "#1f9e89"
             ],
             [
              0.6666666666666666,
              "#35b779"
             ],
             [
              0.7777777777777778,
              "#6ece58"
             ],
             [
              0.8888888888888888,
              "#b5de2b"
             ],
             [
              1,
              "#fde725"
             ]
            ],
            "type": "histogram2dcontour"
           }
          ],
          "mesh3d": [
           {
            "colorbar": {
             "outlinewidth": 1,
             "tickcolor": "rgb(36,36,36)",
             "ticks": "outside"
            },
            "type": "mesh3d"
           }
          ],
          "parcoords": [
           {
            "line": {
             "colorbar": {
              "outlinewidth": 1,
              "tickcolor": "rgb(36,36,36)",
              "ticks": "outside"
             }
            },
            "type": "parcoords"
           }
          ],
          "pie": [
           {
            "automargin": true,
            "type": "pie"
           }
          ],
          "scatter": [
           {
            "fillpattern": {
             "fillmode": "overlay",
             "size": 10,
             "solidity": 0.2
            },
            "type": "scatter"
           }
          ],
          "scatter3d": [
           {
            "line": {
             "colorbar": {
              "outlinewidth": 1,
              "tickcolor": "rgb(36,36,36)",
              "ticks": "outside"
             }
            },
            "marker": {
             "colorbar": {
              "outlinewidth": 1,
              "tickcolor": "rgb(36,36,36)",
              "ticks": "outside"
             }
            },
            "type": "scatter3d"
           }
          ],
          "scattercarpet": [
           {
            "marker": {
             "colorbar": {
              "outlinewidth": 1,
              "tickcolor": "rgb(36,36,36)",
              "ticks": "outside"
             }
            },
            "type": "scattercarpet"
           }
          ],
          "scattergeo": [
           {
            "marker": {
             "colorbar": {
              "outlinewidth": 1,
              "tickcolor": "rgb(36,36,36)",
              "ticks": "outside"
             }
            },
            "type": "scattergeo"
           }
          ],
          "scattergl": [
           {
            "marker": {
             "colorbar": {
              "outlinewidth": 1,
              "tickcolor": "rgb(36,36,36)",
              "ticks": "outside"
             }
            },
            "type": "scattergl"
           }
          ],
          "scattermapbox": [
           {
            "marker": {
             "colorbar": {
              "outlinewidth": 1,
              "tickcolor": "rgb(36,36,36)",
              "ticks": "outside"
             }
            },
            "type": "scattermapbox"
           }
          ],
          "scatterpolar": [
           {
            "marker": {
             "colorbar": {
              "outlinewidth": 1,
              "tickcolor": "rgb(36,36,36)",
              "ticks": "outside"
             }
            },
            "type": "scatterpolar"
           }
          ],
          "scatterpolargl": [
           {
            "marker": {
             "colorbar": {
              "outlinewidth": 1,
              "tickcolor": "rgb(36,36,36)",
              "ticks": "outside"
             }
            },
            "type": "scatterpolargl"
           }
          ],
          "scatterternary": [
           {
            "marker": {
             "colorbar": {
              "outlinewidth": 1,
              "tickcolor": "rgb(36,36,36)",
              "ticks": "outside"
             }
            },
            "type": "scatterternary"
           }
          ],
          "surface": [
           {
            "colorbar": {
             "outlinewidth": 1,
             "tickcolor": "rgb(36,36,36)",
             "ticks": "outside"
            },
            "colorscale": [
             [
              0,
              "#440154"
             ],
             [
              0.1111111111111111,
              "#482878"
             ],
             [
              0.2222222222222222,
              "#3e4989"
             ],
             [
              0.3333333333333333,
              "#31688e"
             ],
             [
              0.4444444444444444,
              "#26828e"
             ],
             [
              0.5555555555555556,
              "#1f9e89"
             ],
             [
              0.6666666666666666,
              "#35b779"
             ],
             [
              0.7777777777777778,
              "#6ece58"
             ],
             [
              0.8888888888888888,
              "#b5de2b"
             ],
             [
              1,
              "#fde725"
             ]
            ],
            "type": "surface"
           }
          ],
          "table": [
           {
            "cells": {
             "fill": {
              "color": "rgb(237,237,237)"
             },
             "line": {
              "color": "white"
             }
            },
            "header": {
             "fill": {
              "color": "rgb(217,217,217)"
             },
             "line": {
              "color": "white"
             }
            },
            "type": "table"
           }
          ]
         },
         "layout": {
          "annotationdefaults": {
           "arrowhead": 0,
           "arrowwidth": 1
          },
          "autotypenumbers": "strict",
          "coloraxis": {
           "colorbar": {
            "outlinewidth": 1,
            "tickcolor": "rgb(36,36,36)",
            "ticks": "outside"
           }
          },
          "colorscale": {
           "diverging": [
            [
             0,
             "rgb(103,0,31)"
            ],
            [
             0.1,
             "rgb(178,24,43)"
            ],
            [
             0.2,
             "rgb(214,96,77)"
            ],
            [
             0.3,
             "rgb(244,165,130)"
            ],
            [
             0.4,
             "rgb(253,219,199)"
            ],
            [
             0.5,
             "rgb(247,247,247)"
            ],
            [
             0.6,
             "rgb(209,229,240)"
            ],
            [
             0.7,
             "rgb(146,197,222)"
            ],
            [
             0.8,
             "rgb(67,147,195)"
            ],
            [
             0.9,
             "rgb(33,102,172)"
            ],
            [
             1,
             "rgb(5,48,97)"
            ]
           ],
           "sequential": [
            [
             0,
             "#440154"
            ],
            [
             0.1111111111111111,
             "#482878"
            ],
            [
             0.2222222222222222,
             "#3e4989"
            ],
            [
             0.3333333333333333,
             "#31688e"
            ],
            [
             0.4444444444444444,
             "#26828e"
            ],
            [
             0.5555555555555556,
             "#1f9e89"
            ],
            [
             0.6666666666666666,
             "#35b779"
            ],
            [
             0.7777777777777778,
             "#6ece58"
            ],
            [
             0.8888888888888888,
             "#b5de2b"
            ],
            [
             1,
             "#fde725"
            ]
           ],
           "sequentialminus": [
            [
             0,
             "#440154"
            ],
            [
             0.1111111111111111,
             "#482878"
            ],
            [
             0.2222222222222222,
             "#3e4989"
            ],
            [
             0.3333333333333333,
             "#31688e"
            ],
            [
             0.4444444444444444,
             "#26828e"
            ],
            [
             0.5555555555555556,
             "#1f9e89"
            ],
            [
             0.6666666666666666,
             "#35b779"
            ],
            [
             0.7777777777777778,
             "#6ece58"
            ],
            [
             0.8888888888888888,
             "#b5de2b"
            ],
            [
             1,
             "#fde725"
            ]
           ]
          },
          "colorway": [
           "#1F77B4",
           "#FF7F0E",
           "#2CA02C",
           "#D62728",
           "#9467BD",
           "#8C564B",
           "#E377C2",
           "#7F7F7F",
           "#BCBD22",
           "#17BECF"
          ],
          "font": {
           "color": "rgb(36,36,36)"
          },
          "geo": {
           "bgcolor": "white",
           "lakecolor": "white",
           "landcolor": "white",
           "showlakes": true,
           "showland": true,
           "subunitcolor": "white"
          },
          "hoverlabel": {
           "align": "left"
          },
          "hovermode": "closest",
          "mapbox": {
           "style": "light"
          },
          "paper_bgcolor": "white",
          "plot_bgcolor": "white",
          "polar": {
           "angularaxis": {
            "gridcolor": "rgb(232,232,232)",
            "linecolor": "rgb(36,36,36)",
            "showgrid": false,
            "showline": true,
            "ticks": "outside"
           },
           "bgcolor": "white",
           "radialaxis": {
            "gridcolor": "rgb(232,232,232)",
            "linecolor": "rgb(36,36,36)",
            "showgrid": false,
            "showline": true,
            "ticks": "outside"
           }
          },
          "scene": {
           "xaxis": {
            "backgroundcolor": "white",
            "gridcolor": "rgb(232,232,232)",
            "gridwidth": 2,
            "linecolor": "rgb(36,36,36)",
            "showbackground": true,
            "showgrid": false,
            "showline": true,
            "ticks": "outside",
            "zeroline": false,
            "zerolinecolor": "rgb(36,36,36)"
           },
           "yaxis": {
            "backgroundcolor": "white",
            "gridcolor": "rgb(232,232,232)",
            "gridwidth": 2,
            "linecolor": "rgb(36,36,36)",
            "showbackground": true,
            "showgrid": false,
            "showline": true,
            "ticks": "outside",
            "zeroline": false,
            "zerolinecolor": "rgb(36,36,36)"
           },
           "zaxis": {
            "backgroundcolor": "white",
            "gridcolor": "rgb(232,232,232)",
            "gridwidth": 2,
            "linecolor": "rgb(36,36,36)",
            "showbackground": true,
            "showgrid": false,
            "showline": true,
            "ticks": "outside",
            "zeroline": false,
            "zerolinecolor": "rgb(36,36,36)"
           }
          },
          "shapedefaults": {
           "fillcolor": "black",
           "line": {
            "width": 0
           },
           "opacity": 0.3
          },
          "ternary": {
           "aaxis": {
            "gridcolor": "rgb(232,232,232)",
            "linecolor": "rgb(36,36,36)",
            "showgrid": false,
            "showline": true,
            "ticks": "outside"
           },
           "baxis": {
            "gridcolor": "rgb(232,232,232)",
            "linecolor": "rgb(36,36,36)",
            "showgrid": false,
            "showline": true,
            "ticks": "outside"
           },
           "bgcolor": "white",
           "caxis": {
            "gridcolor": "rgb(232,232,232)",
            "linecolor": "rgb(36,36,36)",
            "showgrid": false,
            "showline": true,
            "ticks": "outside"
           }
          },
          "title": {
           "x": 0.05
          },
          "xaxis": {
           "automargin": true,
           "gridcolor": "rgb(232,232,232)",
           "linecolor": "rgb(36,36,36)",
           "showgrid": false,
           "showline": true,
           "ticks": "outside",
           "title": {
            "standoff": 15
           },
           "zeroline": false,
           "zerolinecolor": "rgb(36,36,36)"
          },
          "yaxis": {
           "automargin": true,
           "gridcolor": "rgb(232,232,232)",
           "linecolor": "rgb(36,36,36)",
           "showgrid": false,
           "showline": true,
           "ticks": "outside",
           "title": {
            "standoff": 15
           },
           "zeroline": false,
           "zerolinecolor": "rgb(36,36,36)"
          }
         }
        },
        "title": {
         "text": "Top 5 locations matching your search"
        },
        "xaxis": {
         "title": {
          "text": "Year"
         }
        },
        "yaxis": {
         "title": {
          "text": "gdp"
         }
        }
       }
      }
     },
     "metadata": {},
     "output_type": "display_data"
    }
   ],
   "source": [
    "# you can plot the few most similar cities:\n",
    "fig = f.show_kins_plot()"
   ]
  },
  {
   "cell_type": "markdown",
   "metadata": {},
   "source": [
    "### Use case: similarity in outcome patterns and some other features\n",
    "\n",
    "Say you want to include historical population patterns in your similarity ranking. You also want to pay a bit more attention to older data points. And you can now set weights to negative values to indicate that you care about dissimilarity in that feature."
   ]
  },
  {
   "cell_type": "code",
   "execution_count": 11,
   "metadata": {},
   "outputs": [
    {
     "data": {
      "application/vnd.plotly.v1+json": {
       "config": {
        "plotlyServerURL": "https://plot.ly"
       },
       "data": [
        {
         "type": "bar",
         "x": [
          "2001_gdp",
          "2002_gdp",
          "2003_gdp",
          "2004_gdp",
          "2005_gdp",
          "2006_gdp",
          "2007_gdp",
          "2008_gdp",
          "2009_gdp",
          "2010_gdp",
          "2011_gdp",
          "2013_gdp",
          "2014_gdp",
          "2015_gdp",
          "2016_gdp",
          "2017_gdp",
          "2018_gdp",
          "2019_gdp",
          "2020_gdp",
          "2021_gdp",
          "1993_population",
          "1994_population",
          "1995_population",
          "1996_population",
          "1997_population",
          "1998_population",
          "1999_population",
          "2000_population",
          "2001_population",
          "2002_population",
          "2003_population",
          "2004_population",
          "2005_population",
          "2006_population",
          "2007_population",
          "2008_population",
          "2009_population",
          "2010_population",
          "2011_population",
          "2012_population",
          "2013_population",
          "2014_population",
          "2015_population",
          "2016_population",
          "2017_population",
          "2018_population",
          "2019_population",
          "2020_population",
          "2021_population"
         ],
         "y": [
          -0.07443141519371825,
          -0.07666435764952981,
          -0.07896428837901569,
          -0.08133321703038617,
          -0.08377321354129776,
          -0.08628640994753668,
          -0.08887500224596279,
          -0.09154125231334168,
          -0.09428748988274194,
          -0.0971161145792242,
          -0.10002959801660093,
          -0.10303048595709895,
          -0.10612140053581191,
          -0.10930504255188629,
          -0.11258419382844288,
          -0.11596171964329616,
          -0.11944057123259505,
          -0.12302378836957291,
          -0.12671450202066012,
          -0.1305159370812799,
          0.022114671106632556,
          0.022778111239831533,
          0.02346145457702648,
          0.024165298214337275,
          0.024890257160767395,
          0.025636964875590414,
          0.02640607382185813,
          0.027198256036513876,
          0.028014203717609293,
          0.02885462982913757,
          0.0297202687240117,
          0.03061187678573205,
          0.03153023308930401,
          0.032476140081983136,
          0.03345042428444263,
          0.03445393701297591,
          0.03548755512336519,
          0.036552181777066144,
          0.03764874723037813,
          0.03877820964728947,
          0.03994155593670816,
          0.04113980261480941,
          0.04237399669325369,
          0.0436452165940513,
          0.04495457309187284,
          0.046303210284629026,
          0.0476923065931679,
          0.04912307579096294,
          0.05059676806469183
         ]
        }
       ],
       "layout": {
        "template": {
         "data": {
          "bar": [
           {
            "error_x": {
             "color": "#2a3f5f"
            },
            "error_y": {
             "color": "#2a3f5f"
            },
            "marker": {
             "line": {
              "color": "white",
              "width": 0.5
             },
             "pattern": {
              "fillmode": "overlay",
              "size": 10,
              "solidity": 0.2
             }
            },
            "type": "bar"
           }
          ],
          "barpolar": [
           {
            "marker": {
             "line": {
              "color": "white",
              "width": 0.5
             },
             "pattern": {
              "fillmode": "overlay",
              "size": 10,
              "solidity": 0.2
             }
            },
            "type": "barpolar"
           }
          ],
          "carpet": [
           {
            "aaxis": {
             "endlinecolor": "#2a3f5f",
             "gridcolor": "#C8D4E3",
             "linecolor": "#C8D4E3",
             "minorgridcolor": "#C8D4E3",
             "startlinecolor": "#2a3f5f"
            },
            "baxis": {
             "endlinecolor": "#2a3f5f",
             "gridcolor": "#C8D4E3",
             "linecolor": "#C8D4E3",
             "minorgridcolor": "#C8D4E3",
             "startlinecolor": "#2a3f5f"
            },
            "type": "carpet"
           }
          ],
          "choropleth": [
           {
            "colorbar": {
             "outlinewidth": 0,
             "ticks": ""
            },
            "type": "choropleth"
           }
          ],
          "contour": [
           {
            "colorbar": {
             "outlinewidth": 0,
             "ticks": ""
            },
            "colorscale": [
             [
              0,
              "#0d0887"
             ],
             [
              0.1111111111111111,
              "#46039f"
             ],
             [
              0.2222222222222222,
              "#7201a8"
             ],
             [
              0.3333333333333333,
              "#9c179e"
             ],
             [
              0.4444444444444444,
              "#bd3786"
             ],
             [
              0.5555555555555556,
              "#d8576b"
             ],
             [
              0.6666666666666666,
              "#ed7953"
             ],
             [
              0.7777777777777778,
              "#fb9f3a"
             ],
             [
              0.8888888888888888,
              "#fdca26"
             ],
             [
              1,
              "#f0f921"
             ]
            ],
            "type": "contour"
           }
          ],
          "contourcarpet": [
           {
            "colorbar": {
             "outlinewidth": 0,
             "ticks": ""
            },
            "type": "contourcarpet"
           }
          ],
          "heatmap": [
           {
            "colorbar": {
             "outlinewidth": 0,
             "ticks": ""
            },
            "colorscale": [
             [
              0,
              "#0d0887"
             ],
             [
              0.1111111111111111,
              "#46039f"
             ],
             [
              0.2222222222222222,
              "#7201a8"
             ],
             [
              0.3333333333333333,
              "#9c179e"
             ],
             [
              0.4444444444444444,
              "#bd3786"
             ],
             [
              0.5555555555555556,
              "#d8576b"
             ],
             [
              0.6666666666666666,
              "#ed7953"
             ],
             [
              0.7777777777777778,
              "#fb9f3a"
             ],
             [
              0.8888888888888888,
              "#fdca26"
             ],
             [
              1,
              "#f0f921"
             ]
            ],
            "type": "heatmap"
           }
          ],
          "heatmapgl": [
           {
            "colorbar": {
             "outlinewidth": 0,
             "ticks": ""
            },
            "colorscale": [
             [
              0,
              "#0d0887"
             ],
             [
              0.1111111111111111,
              "#46039f"
             ],
             [
              0.2222222222222222,
              "#7201a8"
             ],
             [
              0.3333333333333333,
              "#9c179e"
             ],
             [
              0.4444444444444444,
              "#bd3786"
             ],
             [
              0.5555555555555556,
              "#d8576b"
             ],
             [
              0.6666666666666666,
              "#ed7953"
             ],
             [
              0.7777777777777778,
              "#fb9f3a"
             ],
             [
              0.8888888888888888,
              "#fdca26"
             ],
             [
              1,
              "#f0f921"
             ]
            ],
            "type": "heatmapgl"
           }
          ],
          "histogram": [
           {
            "marker": {
             "pattern": {
              "fillmode": "overlay",
              "size": 10,
              "solidity": 0.2
             }
            },
            "type": "histogram"
           }
          ],
          "histogram2d": [
           {
            "colorbar": {
             "outlinewidth": 0,
             "ticks": ""
            },
            "colorscale": [
             [
              0,
              "#0d0887"
             ],
             [
              0.1111111111111111,
              "#46039f"
             ],
             [
              0.2222222222222222,
              "#7201a8"
             ],
             [
              0.3333333333333333,
              "#9c179e"
             ],
             [
              0.4444444444444444,
              "#bd3786"
             ],
             [
              0.5555555555555556,
              "#d8576b"
             ],
             [
              0.6666666666666666,
              "#ed7953"
             ],
             [
              0.7777777777777778,
              "#fb9f3a"
             ],
             [
              0.8888888888888888,
              "#fdca26"
             ],
             [
              1,
              "#f0f921"
             ]
            ],
            "type": "histogram2d"
           }
          ],
          "histogram2dcontour": [
           {
            "colorbar": {
             "outlinewidth": 0,
             "ticks": ""
            },
            "colorscale": [
             [
              0,
              "#0d0887"
             ],
             [
              0.1111111111111111,
              "#46039f"
             ],
             [
              0.2222222222222222,
              "#7201a8"
             ],
             [
              0.3333333333333333,
              "#9c179e"
             ],
             [
              0.4444444444444444,
              "#bd3786"
             ],
             [
              0.5555555555555556,
              "#d8576b"
             ],
             [
              0.6666666666666666,
              "#ed7953"
             ],
             [
              0.7777777777777778,
              "#fb9f3a"
             ],
             [
              0.8888888888888888,
              "#fdca26"
             ],
             [
              1,
              "#f0f921"
             ]
            ],
            "type": "histogram2dcontour"
           }
          ],
          "mesh3d": [
           {
            "colorbar": {
             "outlinewidth": 0,
             "ticks": ""
            },
            "type": "mesh3d"
           }
          ],
          "parcoords": [
           {
            "line": {
             "colorbar": {
              "outlinewidth": 0,
              "ticks": ""
             }
            },
            "type": "parcoords"
           }
          ],
          "pie": [
           {
            "automargin": true,
            "type": "pie"
           }
          ],
          "scatter": [
           {
            "fillpattern": {
             "fillmode": "overlay",
             "size": 10,
             "solidity": 0.2
            },
            "type": "scatter"
           }
          ],
          "scatter3d": [
           {
            "line": {
             "colorbar": {
              "outlinewidth": 0,
              "ticks": ""
             }
            },
            "marker": {
             "colorbar": {
              "outlinewidth": 0,
              "ticks": ""
             }
            },
            "type": "scatter3d"
           }
          ],
          "scattercarpet": [
           {
            "marker": {
             "colorbar": {
              "outlinewidth": 0,
              "ticks": ""
             }
            },
            "type": "scattercarpet"
           }
          ],
          "scattergeo": [
           {
            "marker": {
             "colorbar": {
              "outlinewidth": 0,
              "ticks": ""
             }
            },
            "type": "scattergeo"
           }
          ],
          "scattergl": [
           {
            "marker": {
             "colorbar": {
              "outlinewidth": 0,
              "ticks": ""
             }
            },
            "type": "scattergl"
           }
          ],
          "scattermapbox": [
           {
            "marker": {
             "colorbar": {
              "outlinewidth": 0,
              "ticks": ""
             }
            },
            "type": "scattermapbox"
           }
          ],
          "scatterpolar": [
           {
            "marker": {
             "colorbar": {
              "outlinewidth": 0,
              "ticks": ""
             }
            },
            "type": "scatterpolar"
           }
          ],
          "scatterpolargl": [
           {
            "marker": {
             "colorbar": {
              "outlinewidth": 0,
              "ticks": ""
             }
            },
            "type": "scatterpolargl"
           }
          ],
          "scatterternary": [
           {
            "marker": {
             "colorbar": {
              "outlinewidth": 0,
              "ticks": ""
             }
            },
            "type": "scatterternary"
           }
          ],
          "surface": [
           {
            "colorbar": {
             "outlinewidth": 0,
             "ticks": ""
            },
            "colorscale": [
             [
              0,
              "#0d0887"
             ],
             [
              0.1111111111111111,
              "#46039f"
             ],
             [
              0.2222222222222222,
              "#7201a8"
             ],
             [
              0.3333333333333333,
              "#9c179e"
             ],
             [
              0.4444444444444444,
              "#bd3786"
             ],
             [
              0.5555555555555556,
              "#d8576b"
             ],
             [
              0.6666666666666666,
              "#ed7953"
             ],
             [
              0.7777777777777778,
              "#fb9f3a"
             ],
             [
              0.8888888888888888,
              "#fdca26"
             ],
             [
              1,
              "#f0f921"
             ]
            ],
            "type": "surface"
           }
          ],
          "table": [
           {
            "cells": {
             "fill": {
              "color": "#EBF0F8"
             },
             "line": {
              "color": "white"
             }
            },
            "header": {
             "fill": {
              "color": "#C8D4E3"
             },
             "line": {
              "color": "white"
             }
            },
            "type": "table"
           }
          ]
         },
         "layout": {
          "annotationdefaults": {
           "arrowcolor": "#2a3f5f",
           "arrowhead": 0,
           "arrowwidth": 1
          },
          "autotypenumbers": "strict",
          "coloraxis": {
           "colorbar": {
            "outlinewidth": 0,
            "ticks": ""
           }
          },
          "colorscale": {
           "diverging": [
            [
             0,
             "#8e0152"
            ],
            [
             0.1,
             "#c51b7d"
            ],
            [
             0.2,
             "#de77ae"
            ],
            [
             0.3,
             "#f1b6da"
            ],
            [
             0.4,
             "#fde0ef"
            ],
            [
             0.5,
             "#f7f7f7"
            ],
            [
             0.6,
             "#e6f5d0"
            ],
            [
             0.7,
             "#b8e186"
            ],
            [
             0.8,
             "#7fbc41"
            ],
            [
             0.9,
             "#4d9221"
            ],
            [
             1,
             "#276419"
            ]
           ],
           "sequential": [
            [
             0,
             "#0d0887"
            ],
            [
             0.1111111111111111,
             "#46039f"
            ],
            [
             0.2222222222222222,
             "#7201a8"
            ],
            [
             0.3333333333333333,
             "#9c179e"
            ],
            [
             0.4444444444444444,
             "#bd3786"
            ],
            [
             0.5555555555555556,
             "#d8576b"
            ],
            [
             0.6666666666666666,
             "#ed7953"
            ],
            [
             0.7777777777777778,
             "#fb9f3a"
            ],
            [
             0.8888888888888888,
             "#fdca26"
            ],
            [
             1,
             "#f0f921"
            ]
           ],
           "sequentialminus": [
            [
             0,
             "#0d0887"
            ],
            [
             0.1111111111111111,
             "#46039f"
            ],
            [
             0.2222222222222222,
             "#7201a8"
            ],
            [
             0.3333333333333333,
             "#9c179e"
            ],
            [
             0.4444444444444444,
             "#bd3786"
            ],
            [
             0.5555555555555556,
             "#d8576b"
            ],
            [
             0.6666666666666666,
             "#ed7953"
            ],
            [
             0.7777777777777778,
             "#fb9f3a"
            ],
            [
             0.8888888888888888,
             "#fdca26"
            ],
            [
             1,
             "#f0f921"
            ]
           ]
          },
          "colorway": [
           "#636efa",
           "#EF553B",
           "#00cc96",
           "#ab63fa",
           "#FFA15A",
           "#19d3f3",
           "#FF6692",
           "#B6E880",
           "#FF97FF",
           "#FECB52"
          ],
          "font": {
           "color": "#2a3f5f"
          },
          "geo": {
           "bgcolor": "white",
           "lakecolor": "white",
           "landcolor": "white",
           "showlakes": true,
           "showland": true,
           "subunitcolor": "#C8D4E3"
          },
          "hoverlabel": {
           "align": "left"
          },
          "hovermode": "closest",
          "mapbox": {
           "style": "light"
          },
          "paper_bgcolor": "white",
          "plot_bgcolor": "white",
          "polar": {
           "angularaxis": {
            "gridcolor": "#EBF0F8",
            "linecolor": "#EBF0F8",
            "ticks": ""
           },
           "bgcolor": "white",
           "radialaxis": {
            "gridcolor": "#EBF0F8",
            "linecolor": "#EBF0F8",
            "ticks": ""
           }
          },
          "scene": {
           "xaxis": {
            "backgroundcolor": "white",
            "gridcolor": "#DFE8F3",
            "gridwidth": 2,
            "linecolor": "#EBF0F8",
            "showbackground": true,
            "ticks": "",
            "zerolinecolor": "#EBF0F8"
           },
           "yaxis": {
            "backgroundcolor": "white",
            "gridcolor": "#DFE8F3",
            "gridwidth": 2,
            "linecolor": "#EBF0F8",
            "showbackground": true,
            "ticks": "",
            "zerolinecolor": "#EBF0F8"
           },
           "zaxis": {
            "backgroundcolor": "white",
            "gridcolor": "#DFE8F3",
            "gridwidth": 2,
            "linecolor": "#EBF0F8",
            "showbackground": true,
            "ticks": "",
            "zerolinecolor": "#EBF0F8"
           }
          },
          "shapedefaults": {
           "line": {
            "color": "#2a3f5f"
           }
          },
          "ternary": {
           "aaxis": {
            "gridcolor": "#DFE8F3",
            "linecolor": "#A2B1C6",
            "ticks": ""
           },
           "baxis": {
            "gridcolor": "#DFE8F3",
            "linecolor": "#A2B1C6",
            "ticks": ""
           },
           "bgcolor": "white",
           "caxis": {
            "gridcolor": "#DFE8F3",
            "linecolor": "#A2B1C6",
            "ticks": ""
           }
          },
          "title": {
           "x": 0.05
          },
          "xaxis": {
           "automargin": true,
           "gridcolor": "#EBF0F8",
           "linecolor": "#EBF0F8",
           "ticks": "",
           "title": {
            "standoff": 15
           },
           "zerolinecolor": "#EBF0F8",
           "zerolinewidth": 2
          },
          "yaxis": {
           "automargin": true,
           "gridcolor": "#EBF0F8",
           "linecolor": "#EBF0F8",
           "ticks": "",
           "title": {
            "standoff": 15
           },
           "zerolinecolor": "#EBF0F8",
           "zerolinewidth": 2
          }
         }
        },
        "title": {
         "text": "Weights of columns"
        },
        "xaxis": {
         "title": {
          "text": "columns"
         }
        },
        "yaxis": {
         "title": {
          "text": "weights"
         }
        }
       }
      }
     },
     "metadata": {},
     "output_type": "display_data"
    },
    {
     "data": {
      "text/plain": [
       "None"
      ]
     },
     "metadata": {},
     "output_type": "display_data"
    }
   ],
   "source": [
    "f  = FipsQuery(1007, outcome_var = \"gdp\",\n",
    "               feature_groups_with_weights= {\"gdp\": -2, \"population\":1}, #with one feature group only\n",
    "               # weights 1-4 won't make a difference\n",
    "               lag = 0, top =5, time_decay = 1.03)\n",
    "f.find_euclidean_kins()\n",
    "# you still can inspect the resulting weighing:\n",
    "display(f.plot_weights())"
   ]
  },
  {
   "cell_type": "code",
   "execution_count": 12,
   "metadata": {},
   "outputs": [
    {
     "data": {
      "text/html": [
       "<div>\n",
       "<style scoped>\n",
       "    .dataframe tbody tr th:only-of-type {\n",
       "        vertical-align: middle;\n",
       "    }\n",
       "\n",
       "    .dataframe tbody tr th {\n",
       "        vertical-align: top;\n",
       "    }\n",
       "\n",
       "    .dataframe thead th {\n",
       "        text-align: right;\n",
       "    }\n",
       "</style>\n",
       "<table border=\"1\" class=\"dataframe\">\n",
       "  <thead>\n",
       "    <tr style=\"text-align: right;\">\n",
       "      <th></th>\n",
       "      <th>GeoFIPS</th>\n",
       "      <th>GeoName</th>\n",
       "      <th>2001</th>\n",
       "      <th>2002</th>\n",
       "      <th>2003</th>\n",
       "      <th>2004</th>\n",
       "      <th>2005</th>\n",
       "      <th>2006</th>\n",
       "      <th>2007</th>\n",
       "      <th>2008</th>\n",
       "      <th>...</th>\n",
       "      <th>2014_population</th>\n",
       "      <th>2015_population</th>\n",
       "      <th>2016_population</th>\n",
       "      <th>2017_population</th>\n",
       "      <th>2018_population</th>\n",
       "      <th>2019_population</th>\n",
       "      <th>2020_population</th>\n",
       "      <th>2021_population</th>\n",
       "      <th>distance to 1007</th>\n",
       "      <th>percentile</th>\n",
       "    </tr>\n",
       "  </thead>\n",
       "  <tbody>\n",
       "    <tr>\n",
       "      <th>0</th>\n",
       "      <td>1007</td>\n",
       "      <td>Bibb, AL</td>\n",
       "      <td>80.443</td>\n",
       "      <td>81.527</td>\n",
       "      <td>85.124</td>\n",
       "      <td>89.317</td>\n",
       "      <td>88.782</td>\n",
       "      <td>89.597</td>\n",
       "      <td>95.308</td>\n",
       "      <td>94.745</td>\n",
       "      <td>...</td>\n",
       "      <td>22586.0</td>\n",
       "      <td>22607.0</td>\n",
       "      <td>22654.0</td>\n",
       "      <td>22606.0</td>\n",
       "      <td>22383.0</td>\n",
       "      <td>22405.0</td>\n",
       "      <td>22223.0</td>\n",
       "      <td>22477.0</td>\n",
       "      <td>0.000000</td>\n",
       "      <td>47.86</td>\n",
       "    </tr>\n",
       "    <tr>\n",
       "      <th>1</th>\n",
       "      <td>48109</td>\n",
       "      <td>Culberson, TX</td>\n",
       "      <td>35.264</td>\n",
       "      <td>37.743</td>\n",
       "      <td>36.255</td>\n",
       "      <td>38.339</td>\n",
       "      <td>40.177</td>\n",
       "      <td>41.247</td>\n",
       "      <td>42.368</td>\n",
       "      <td>53.349</td>\n",
       "      <td>...</td>\n",
       "      <td>2301.0</td>\n",
       "      <td>2275.0</td>\n",
       "      <td>2244.0</td>\n",
       "      <td>2259.0</td>\n",
       "      <td>2212.0</td>\n",
       "      <td>2186.0</td>\n",
       "      <td>2193.0</td>\n",
       "      <td>2193.0</td>\n",
       "      <td>1.947278</td>\n",
       "      <td>99.97</td>\n",
       "    </tr>\n",
       "    <tr>\n",
       "      <th>2</th>\n",
       "      <td>48389</td>\n",
       "      <td>Reeves, TX</td>\n",
       "      <td>46.003</td>\n",
       "      <td>49.290</td>\n",
       "      <td>44.960</td>\n",
       "      <td>41.682</td>\n",
       "      <td>39.742</td>\n",
       "      <td>41.332</td>\n",
       "      <td>41.009</td>\n",
       "      <td>41.389</td>\n",
       "      <td>...</td>\n",
       "      <td>14614.0</td>\n",
       "      <td>14936.0</td>\n",
       "      <td>14484.0</td>\n",
       "      <td>14314.0</td>\n",
       "      <td>14526.0</td>\n",
       "      <td>14847.0</td>\n",
       "      <td>14730.0</td>\n",
       "      <td>14487.0</td>\n",
       "      <td>1.968913</td>\n",
       "      <td>99.90</td>\n",
       "    </tr>\n",
       "    <tr>\n",
       "      <th>3</th>\n",
       "      <td>48283</td>\n",
       "      <td>La Salle, TX</td>\n",
       "      <td>6.638</td>\n",
       "      <td>6.679</td>\n",
       "      <td>7.065</td>\n",
       "      <td>6.727</td>\n",
       "      <td>7.541</td>\n",
       "      <td>8.729</td>\n",
       "      <td>8.254</td>\n",
       "      <td>7.900</td>\n",
       "      <td>...</td>\n",
       "      <td>7115.0</td>\n",
       "      <td>7175.0</td>\n",
       "      <td>7057.0</td>\n",
       "      <td>6916.0</td>\n",
       "      <td>6808.0</td>\n",
       "      <td>6763.0</td>\n",
       "      <td>6642.0</td>\n",
       "      <td>6670.0</td>\n",
       "      <td>2.070731</td>\n",
       "      <td>96.40</td>\n",
       "    </tr>\n",
       "    <tr>\n",
       "      <th>4</th>\n",
       "      <td>48255</td>\n",
       "      <td>Karnes, TX</td>\n",
       "      <td>6.498</td>\n",
       "      <td>6.891</td>\n",
       "      <td>7.331</td>\n",
       "      <td>6.759</td>\n",
       "      <td>6.537</td>\n",
       "      <td>6.290</td>\n",
       "      <td>6.662</td>\n",
       "      <td>6.937</td>\n",
       "      <td>...</td>\n",
       "      <td>14569.0</td>\n",
       "      <td>14976.0</td>\n",
       "      <td>14997.0</td>\n",
       "      <td>14990.0</td>\n",
       "      <td>15028.0</td>\n",
       "      <td>14605.0</td>\n",
       "      <td>14721.0</td>\n",
       "      <td>14754.0</td>\n",
       "      <td>2.076390</td>\n",
       "      <td>98.60</td>\n",
       "    </tr>\n",
       "    <tr>\n",
       "      <th>...</th>\n",
       "      <td>...</td>\n",
       "      <td>...</td>\n",
       "      <td>...</td>\n",
       "      <td>...</td>\n",
       "      <td>...</td>\n",
       "      <td>...</td>\n",
       "      <td>...</td>\n",
       "      <td>...</td>\n",
       "      <td>...</td>\n",
       "      <td>...</td>\n",
       "      <td>...</td>\n",
       "      <td>...</td>\n",
       "      <td>...</td>\n",
       "      <td>...</td>\n",
       "      <td>...</td>\n",
       "      <td>...</td>\n",
       "      <td>...</td>\n",
       "      <td>...</td>\n",
       "      <td>...</td>\n",
       "      <td>...</td>\n",
       "      <td>...</td>\n",
       "    </tr>\n",
       "    <tr>\n",
       "      <th>3077</th>\n",
       "      <td>6073</td>\n",
       "      <td>San Diego, CA</td>\n",
       "      <td>79.703</td>\n",
       "      <td>83.170</td>\n",
       "      <td>87.449</td>\n",
       "      <td>92.400</td>\n",
       "      <td>97.137</td>\n",
       "      <td>99.354</td>\n",
       "      <td>100.938</td>\n",
       "      <td>100.267</td>\n",
       "      <td>...</td>\n",
       "      <td>3234658.0</td>\n",
       "      <td>3262566.0</td>\n",
       "      <td>3283586.0</td>\n",
       "      <td>3293575.0</td>\n",
       "      <td>3303463.0</td>\n",
       "      <td>3297959.0</td>\n",
       "      <td>3297252.0</td>\n",
       "      <td>3286069.0</td>\n",
       "      <td>2.924300</td>\n",
       "      <td>80.21</td>\n",
       "    </tr>\n",
       "    <tr>\n",
       "      <th>3078</th>\n",
       "      <td>4013</td>\n",
       "      <td>Maricopa, AZ</td>\n",
       "      <td>77.463</td>\n",
       "      <td>80.415</td>\n",
       "      <td>85.793</td>\n",
       "      <td>90.349</td>\n",
       "      <td>97.615</td>\n",
       "      <td>102.729</td>\n",
       "      <td>105.313</td>\n",
       "      <td>103.632</td>\n",
       "      <td>...</td>\n",
       "      <td>4040171.0</td>\n",
       "      <td>4105747.0</td>\n",
       "      <td>4174844.0</td>\n",
       "      <td>4231511.0</td>\n",
       "      <td>4292576.0</td>\n",
       "      <td>4363816.0</td>\n",
       "      <td>4438342.0</td>\n",
       "      <td>4496588.0</td>\n",
       "      <td>2.950617</td>\n",
       "      <td>87.18</td>\n",
       "    </tr>\n",
       "    <tr>\n",
       "      <th>3079</th>\n",
       "      <td>48201</td>\n",
       "      <td>Harris, TX</td>\n",
       "      <td>73.137</td>\n",
       "      <td>72.696</td>\n",
       "      <td>72.847</td>\n",
       "      <td>79.658</td>\n",
       "      <td>80.626</td>\n",
       "      <td>87.278</td>\n",
       "      <td>94.310</td>\n",
       "      <td>91.961</td>\n",
       "      <td>...</td>\n",
       "      <td>4452976.0</td>\n",
       "      <td>4553991.0</td>\n",
       "      <td>4619635.0</td>\n",
       "      <td>4651955.0</td>\n",
       "      <td>4672445.0</td>\n",
       "      <td>4704042.0</td>\n",
       "      <td>4732491.0</td>\n",
       "      <td>4728030.0</td>\n",
       "      <td>2.952810</td>\n",
       "      <td>51.14</td>\n",
       "    </tr>\n",
       "    <tr>\n",
       "      <th>3080</th>\n",
       "      <td>17031</td>\n",
       "      <td>Cook, IL</td>\n",
       "      <td>95.406</td>\n",
       "      <td>94.886</td>\n",
       "      <td>95.455</td>\n",
       "      <td>97.260</td>\n",
       "      <td>99.315</td>\n",
       "      <td>101.320</td>\n",
       "      <td>101.826</td>\n",
       "      <td>99.238</td>\n",
       "      <td>...</td>\n",
       "      <td>5320233.0</td>\n",
       "      <td>5324961.0</td>\n",
       "      <td>5320293.0</td>\n",
       "      <td>5311621.0</td>\n",
       "      <td>5297956.0</td>\n",
       "      <td>5287099.0</td>\n",
       "      <td>5262741.0</td>\n",
       "      <td>5173146.0</td>\n",
       "      <td>3.019405</td>\n",
       "      <td>52.43</td>\n",
       "    </tr>\n",
       "    <tr>\n",
       "      <th>3081</th>\n",
       "      <td>6037</td>\n",
       "      <td>Los Angeles, CA</td>\n",
       "      <td>82.070</td>\n",
       "      <td>83.658</td>\n",
       "      <td>86.614</td>\n",
       "      <td>89.137</td>\n",
       "      <td>91.163</td>\n",
       "      <td>94.942</td>\n",
       "      <td>96.400</td>\n",
       "      <td>98.804</td>\n",
       "      <td>...</td>\n",
       "      <td>10051511.0</td>\n",
       "      <td>10099677.0</td>\n",
       "      <td>10121673.0</td>\n",
       "      <td>10123521.0</td>\n",
       "      <td>10096986.0</td>\n",
       "      <td>10051154.0</td>\n",
       "      <td>9989165.0</td>\n",
       "      <td>9829544.0</td>\n",
       "      <td>3.256690</td>\n",
       "      <td>77.03</td>\n",
       "    </tr>\n",
       "  </tbody>\n",
       "</table>\n",
       "<p>3082 rows × 53 columns</p>\n",
       "</div>"
      ],
      "text/plain": [
       "      GeoFIPS          GeoName    2001    2002    2003    2004    2005  \\\n",
       "0        1007         Bibb, AL  80.443  81.527  85.124  89.317  88.782   \n",
       "1       48109    Culberson, TX  35.264  37.743  36.255  38.339  40.177   \n",
       "2       48389       Reeves, TX  46.003  49.290  44.960  41.682  39.742   \n",
       "3       48283     La Salle, TX   6.638   6.679   7.065   6.727   7.541   \n",
       "4       48255       Karnes, TX   6.498   6.891   7.331   6.759   6.537   \n",
       "...       ...              ...     ...     ...     ...     ...     ...   \n",
       "3077     6073    San Diego, CA  79.703  83.170  87.449  92.400  97.137   \n",
       "3078     4013     Maricopa, AZ  77.463  80.415  85.793  90.349  97.615   \n",
       "3079    48201       Harris, TX  73.137  72.696  72.847  79.658  80.626   \n",
       "3080    17031         Cook, IL  95.406  94.886  95.455  97.260  99.315   \n",
       "3081     6037  Los Angeles, CA  82.070  83.658  86.614  89.137  91.163   \n",
       "\n",
       "         2006     2007     2008  ...  2014_population  2015_population  \\\n",
       "0      89.597   95.308   94.745  ...          22586.0          22607.0   \n",
       "1      41.247   42.368   53.349  ...           2301.0           2275.0   \n",
       "2      41.332   41.009   41.389  ...          14614.0          14936.0   \n",
       "3       8.729    8.254    7.900  ...           7115.0           7175.0   \n",
       "4       6.290    6.662    6.937  ...          14569.0          14976.0   \n",
       "...       ...      ...      ...  ...              ...              ...   \n",
       "3077   99.354  100.938  100.267  ...        3234658.0        3262566.0   \n",
       "3078  102.729  105.313  103.632  ...        4040171.0        4105747.0   \n",
       "3079   87.278   94.310   91.961  ...        4452976.0        4553991.0   \n",
       "3080  101.320  101.826   99.238  ...        5320233.0        5324961.0   \n",
       "3081   94.942   96.400   98.804  ...       10051511.0       10099677.0   \n",
       "\n",
       "      2016_population  2017_population  2018_population  2019_population  \\\n",
       "0             22654.0          22606.0          22383.0          22405.0   \n",
       "1              2244.0           2259.0           2212.0           2186.0   \n",
       "2             14484.0          14314.0          14526.0          14847.0   \n",
       "3              7057.0           6916.0           6808.0           6763.0   \n",
       "4             14997.0          14990.0          15028.0          14605.0   \n",
       "...               ...              ...              ...              ...   \n",
       "3077        3283586.0        3293575.0        3303463.0        3297959.0   \n",
       "3078        4174844.0        4231511.0        4292576.0        4363816.0   \n",
       "3079        4619635.0        4651955.0        4672445.0        4704042.0   \n",
       "3080        5320293.0        5311621.0        5297956.0        5287099.0   \n",
       "3081       10121673.0       10123521.0       10096986.0       10051154.0   \n",
       "\n",
       "      2020_population  2021_population  distance to 1007  percentile  \n",
       "0             22223.0          22477.0          0.000000       47.86  \n",
       "1              2193.0           2193.0          1.947278       99.97  \n",
       "2             14730.0          14487.0          1.968913       99.90  \n",
       "3              6642.0           6670.0          2.070731       96.40  \n",
       "4             14721.0          14754.0          2.076390       98.60  \n",
       "...               ...              ...               ...         ...  \n",
       "3077        3297252.0        3286069.0          2.924300       80.21  \n",
       "3078        4438342.0        4496588.0          2.950617       87.18  \n",
       "3079        4732491.0        4728030.0          2.952810       51.14  \n",
       "3080        5262741.0        5173146.0          3.019405       52.43  \n",
       "3081        9989165.0        9829544.0          3.256690       77.03  \n",
       "\n",
       "[3082 rows x 53 columns]"
      ]
     },
     "metadata": {},
     "output_type": "display_data"
    }
   ],
   "source": [
    "# you still have access to the distances and the ranking.\n",
    "# only, this time there are more columns in the dataframe:\n",
    "display(f.euclidean_kins)\n"
   ]
  },
  {
   "cell_type": "code",
   "execution_count": 13,
   "metadata": {},
   "outputs": [
    {
     "data": {
      "application/vnd.plotly.v1+json": {
       "config": {
        "plotlyServerURL": "https://plot.ly"
       },
       "data": [
        {
         "line": {
          "color": "darkred",
          "width": 3
         },
         "mode": "lines",
         "name": "Bibb, AL",
         "text": "Bibb, AL",
         "textposition": "top right",
         "type": "scatter",
         "x": [
          2001,
          2002,
          2003,
          2004,
          2005,
          2006,
          2007,
          2008,
          2009,
          2010,
          2011,
          2013,
          2014,
          2015,
          2016,
          2017,
          2018,
          2019,
          2020,
          2021
         ],
         "y": [
          80.443,
          81.527,
          85.124,
          89.317,
          88.782,
          89.597,
          95.308,
          94.745,
          92.945,
          100.115,
          102.559,
          99.537,
          97.933,
          94.594,
          95.812,
          96.878,
          96.988,
          104.62,
          109.487,
          107.878
         ]
        },
        {
         "line": {
          "color": "#FFC0CB"
         },
         "mode": "lines",
         "name": "Culberson, TX",
         "text": "Culberson, TX",
         "textposition": "top right",
         "type": "scatter",
         "x": [
          2001,
          2002,
          2003,
          2004,
          2005,
          2006,
          2007,
          2008,
          2009,
          2010,
          2011,
          2013,
          2014,
          2015,
          2016,
          2017,
          2018,
          2019,
          2020,
          2021
         ],
         "y": [
          35.264,
          37.743,
          36.255,
          38.339,
          40.177,
          41.247,
          42.368,
          53.349,
          66.475,
          58.869,
          62.017,
          144.271,
          258.311,
          404.721,
          546.092,
          673.326,
          712.048,
          986.32,
          1238.206,
          1185.01
         ]
        },
        {
         "line": {
          "color": "#A9A9A9"
         },
         "mode": "lines",
         "name": "Reeves, TX",
         "text": "Reeves, TX",
         "textposition": "top right",
         "type": "scatter",
         "x": [
          2001,
          2002,
          2003,
          2004,
          2005,
          2006,
          2007,
          2008,
          2009,
          2010,
          2011,
          2013,
          2014,
          2015,
          2016,
          2017,
          2018,
          2019,
          2020,
          2021
         ],
         "y": [
          46.003,
          49.29,
          44.96,
          41.682,
          39.742,
          41.332,
          41.009,
          41.389,
          47.383,
          45.553,
          59.748,
          121.888,
          212.473,
          334.183,
          416.768,
          607.235,
          843.967,
          1226.531,
          1136.483,
          942.206
         ]
        },
        {
         "line": {
          "color": "#87CEFA"
         },
         "mode": "lines",
         "name": "La Salle, TX",
         "text": "La Salle, TX",
         "textposition": "top right",
         "type": "scatter",
         "x": [
          2001,
          2002,
          2003,
          2004,
          2005,
          2006,
          2007,
          2008,
          2009,
          2010,
          2011,
          2013,
          2014,
          2015,
          2016,
          2017,
          2018,
          2019,
          2020,
          2021
         ],
         "y": [
          6.638,
          6.679,
          7.065,
          6.727,
          7.541,
          8.729,
          8.254,
          7.9,
          10.172,
          14.61,
          35.993,
          174.138,
          224.27,
          255.409,
          208.985,
          202.036,
          201.509,
          219.118,
          177.489,
          159.947
         ]
        },
        {
         "line": {
          "color": "#FFD700"
         },
         "mode": "lines",
         "name": "Karnes, TX",
         "text": "Karnes, TX",
         "textposition": "top right",
         "type": "scatter",
         "x": [
          2001,
          2002,
          2003,
          2004,
          2005,
          2006,
          2007,
          2008,
          2009,
          2010,
          2011,
          2013,
          2014,
          2015,
          2016,
          2017,
          2018,
          2019,
          2020,
          2021
         ],
         "y": [
          6.498,
          6.891,
          7.331,
          6.759,
          6.537,
          6.29,
          6.662,
          6.937,
          7.532,
          10.632,
          33.74,
          137.426,
          170.877,
          210.901,
          200.421,
          221.26,
          217.623,
          236.985,
          204.295,
          183.52
         ]
        },
        {
         "line": {
          "color": "#98FB98"
         },
         "mode": "lines",
         "name": "Slope, ND",
         "text": "Slope, ND",
         "textposition": "top right",
         "type": "scatter",
         "x": [
          2001,
          2002,
          2003,
          2004,
          2005,
          2006,
          2007,
          2008,
          2009,
          2010,
          2011,
          2013,
          2014,
          2015,
          2016,
          2017,
          2018,
          2019,
          2020,
          2021
         ],
         "y": [
          34.746,
          11.451,
          39.302,
          32.702,
          39.083,
          45.047,
          57.236,
          64.676,
          102.37,
          86.536,
          75.24,
          84.679,
          77.426,
          57.979,
          36.621,
          61.571,
          45.949,
          42.019,
          41.446,
          47.427
         ]
        }
       ],
       "layout": {
        "legend": {
         "title": {
          "text": "GeoName"
         }
        },
        "template": {
         "data": {
          "bar": [
           {
            "error_x": {
             "color": "rgb(36,36,36)"
            },
            "error_y": {
             "color": "rgb(36,36,36)"
            },
            "marker": {
             "line": {
              "color": "white",
              "width": 0.5
             },
             "pattern": {
              "fillmode": "overlay",
              "size": 10,
              "solidity": 0.2
             }
            },
            "type": "bar"
           }
          ],
          "barpolar": [
           {
            "marker": {
             "line": {
              "color": "white",
              "width": 0.5
             },
             "pattern": {
              "fillmode": "overlay",
              "size": 10,
              "solidity": 0.2
             }
            },
            "type": "barpolar"
           }
          ],
          "carpet": [
           {
            "aaxis": {
             "endlinecolor": "rgb(36,36,36)",
             "gridcolor": "white",
             "linecolor": "white",
             "minorgridcolor": "white",
             "startlinecolor": "rgb(36,36,36)"
            },
            "baxis": {
             "endlinecolor": "rgb(36,36,36)",
             "gridcolor": "white",
             "linecolor": "white",
             "minorgridcolor": "white",
             "startlinecolor": "rgb(36,36,36)"
            },
            "type": "carpet"
           }
          ],
          "choropleth": [
           {
            "colorbar": {
             "outlinewidth": 1,
             "tickcolor": "rgb(36,36,36)",
             "ticks": "outside"
            },
            "type": "choropleth"
           }
          ],
          "contour": [
           {
            "colorbar": {
             "outlinewidth": 1,
             "tickcolor": "rgb(36,36,36)",
             "ticks": "outside"
            },
            "colorscale": [
             [
              0,
              "#440154"
             ],
             [
              0.1111111111111111,
              "#482878"
             ],
             [
              0.2222222222222222,
              "#3e4989"
             ],
             [
              0.3333333333333333,
              "#31688e"
             ],
             [
              0.4444444444444444,
              "#26828e"
             ],
             [
              0.5555555555555556,
              "#1f9e89"
             ],
             [
              0.6666666666666666,
              "#35b779"
             ],
             [
              0.7777777777777778,
              "#6ece58"
             ],
             [
              0.8888888888888888,
              "#b5de2b"
             ],
             [
              1,
              "#fde725"
             ]
            ],
            "type": "contour"
           }
          ],
          "contourcarpet": [
           {
            "colorbar": {
             "outlinewidth": 1,
             "tickcolor": "rgb(36,36,36)",
             "ticks": "outside"
            },
            "type": "contourcarpet"
           }
          ],
          "heatmap": [
           {
            "colorbar": {
             "outlinewidth": 1,
             "tickcolor": "rgb(36,36,36)",
             "ticks": "outside"
            },
            "colorscale": [
             [
              0,
              "#440154"
             ],
             [
              0.1111111111111111,
              "#482878"
             ],
             [
              0.2222222222222222,
              "#3e4989"
             ],
             [
              0.3333333333333333,
              "#31688e"
             ],
             [
              0.4444444444444444,
              "#26828e"
             ],
             [
              0.5555555555555556,
              "#1f9e89"
             ],
             [
              0.6666666666666666,
              "#35b779"
             ],
             [
              0.7777777777777778,
              "#6ece58"
             ],
             [
              0.8888888888888888,
              "#b5de2b"
             ],
             [
              1,
              "#fde725"
             ]
            ],
            "type": "heatmap"
           }
          ],
          "heatmapgl": [
           {
            "colorbar": {
             "outlinewidth": 1,
             "tickcolor": "rgb(36,36,36)",
             "ticks": "outside"
            },
            "colorscale": [
             [
              0,
              "#440154"
             ],
             [
              0.1111111111111111,
              "#482878"
             ],
             [
              0.2222222222222222,
              "#3e4989"
             ],
             [
              0.3333333333333333,
              "#31688e"
             ],
             [
              0.4444444444444444,
              "#26828e"
             ],
             [
              0.5555555555555556,
              "#1f9e89"
             ],
             [
              0.6666666666666666,
              "#35b779"
             ],
             [
              0.7777777777777778,
              "#6ece58"
             ],
             [
              0.8888888888888888,
              "#b5de2b"
             ],
             [
              1,
              "#fde725"
             ]
            ],
            "type": "heatmapgl"
           }
          ],
          "histogram": [
           {
            "marker": {
             "line": {
              "color": "white",
              "width": 0.6
             }
            },
            "type": "histogram"
           }
          ],
          "histogram2d": [
           {
            "colorbar": {
             "outlinewidth": 1,
             "tickcolor": "rgb(36,36,36)",
             "ticks": "outside"
            },
            "colorscale": [
             [
              0,
              "#440154"
             ],
             [
              0.1111111111111111,
              "#482878"
             ],
             [
              0.2222222222222222,
              "#3e4989"
             ],
             [
              0.3333333333333333,
              "#31688e"
             ],
             [
              0.4444444444444444,
              "#26828e"
             ],
             [
              0.5555555555555556,
              "#1f9e89"
             ],
             [
              0.6666666666666666,
              "#35b779"
             ],
             [
              0.7777777777777778,
              "#6ece58"
             ],
             [
              0.8888888888888888,
              "#b5de2b"
             ],
             [
              1,
              "#fde725"
             ]
            ],
            "type": "histogram2d"
           }
          ],
          "histogram2dcontour": [
           {
            "colorbar": {
             "outlinewidth": 1,
             "tickcolor": "rgb(36,36,36)",
             "ticks": "outside"
            },
            "colorscale": [
             [
              0,
              "#440154"
             ],
             [
              0.1111111111111111,
              "#482878"
             ],
             [
              0.2222222222222222,
              "#3e4989"
             ],
             [
              0.3333333333333333,
              "#31688e"
             ],
             [
              0.4444444444444444,
              "#26828e"
             ],
             [
              0.5555555555555556,
              "#1f9e89"
             ],
             [
              0.6666666666666666,
              "#35b779"
             ],
             [
              0.7777777777777778,
              "#6ece58"
             ],
             [
              0.8888888888888888,
              "#b5de2b"
             ],
             [
              1,
              "#fde725"
             ]
            ],
            "type": "histogram2dcontour"
           }
          ],
          "mesh3d": [
           {
            "colorbar": {
             "outlinewidth": 1,
             "tickcolor": "rgb(36,36,36)",
             "ticks": "outside"
            },
            "type": "mesh3d"
           }
          ],
          "parcoords": [
           {
            "line": {
             "colorbar": {
              "outlinewidth": 1,
              "tickcolor": "rgb(36,36,36)",
              "ticks": "outside"
             }
            },
            "type": "parcoords"
           }
          ],
          "pie": [
           {
            "automargin": true,
            "type": "pie"
           }
          ],
          "scatter": [
           {
            "fillpattern": {
             "fillmode": "overlay",
             "size": 10,
             "solidity": 0.2
            },
            "type": "scatter"
           }
          ],
          "scatter3d": [
           {
            "line": {
             "colorbar": {
              "outlinewidth": 1,
              "tickcolor": "rgb(36,36,36)",
              "ticks": "outside"
             }
            },
            "marker": {
             "colorbar": {
              "outlinewidth": 1,
              "tickcolor": "rgb(36,36,36)",
              "ticks": "outside"
             }
            },
            "type": "scatter3d"
           }
          ],
          "scattercarpet": [
           {
            "marker": {
             "colorbar": {
              "outlinewidth": 1,
              "tickcolor": "rgb(36,36,36)",
              "ticks": "outside"
             }
            },
            "type": "scattercarpet"
           }
          ],
          "scattergeo": [
           {
            "marker": {
             "colorbar": {
              "outlinewidth": 1,
              "tickcolor": "rgb(36,36,36)",
              "ticks": "outside"
             }
            },
            "type": "scattergeo"
           }
          ],
          "scattergl": [
           {
            "marker": {
             "colorbar": {
              "outlinewidth": 1,
              "tickcolor": "rgb(36,36,36)",
              "ticks": "outside"
             }
            },
            "type": "scattergl"
           }
          ],
          "scattermapbox": [
           {
            "marker": {
             "colorbar": {
              "outlinewidth": 1,
              "tickcolor": "rgb(36,36,36)",
              "ticks": "outside"
             }
            },
            "type": "scattermapbox"
           }
          ],
          "scatterpolar": [
           {
            "marker": {
             "colorbar": {
              "outlinewidth": 1,
              "tickcolor": "rgb(36,36,36)",
              "ticks": "outside"
             }
            },
            "type": "scatterpolar"
           }
          ],
          "scatterpolargl": [
           {
            "marker": {
             "colorbar": {
              "outlinewidth": 1,
              "tickcolor": "rgb(36,36,36)",
              "ticks": "outside"
             }
            },
            "type": "scatterpolargl"
           }
          ],
          "scatterternary": [
           {
            "marker": {
             "colorbar": {
              "outlinewidth": 1,
              "tickcolor": "rgb(36,36,36)",
              "ticks": "outside"
             }
            },
            "type": "scatterternary"
           }
          ],
          "surface": [
           {
            "colorbar": {
             "outlinewidth": 1,
             "tickcolor": "rgb(36,36,36)",
             "ticks": "outside"
            },
            "colorscale": [
             [
              0,
              "#440154"
             ],
             [
              0.1111111111111111,
              "#482878"
             ],
             [
              0.2222222222222222,
              "#3e4989"
             ],
             [
              0.3333333333333333,
              "#31688e"
             ],
             [
              0.4444444444444444,
              "#26828e"
             ],
             [
              0.5555555555555556,
              "#1f9e89"
             ],
             [
              0.6666666666666666,
              "#35b779"
             ],
             [
              0.7777777777777778,
              "#6ece58"
             ],
             [
              0.8888888888888888,
              "#b5de2b"
             ],
             [
              1,
              "#fde725"
             ]
            ],
            "type": "surface"
           }
          ],
          "table": [
           {
            "cells": {
             "fill": {
              "color": "rgb(237,237,237)"
             },
             "line": {
              "color": "white"
             }
            },
            "header": {
             "fill": {
              "color": "rgb(217,217,217)"
             },
             "line": {
              "color": "white"
             }
            },
            "type": "table"
           }
          ]
         },
         "layout": {
          "annotationdefaults": {
           "arrowhead": 0,
           "arrowwidth": 1
          },
          "autotypenumbers": "strict",
          "coloraxis": {
           "colorbar": {
            "outlinewidth": 1,
            "tickcolor": "rgb(36,36,36)",
            "ticks": "outside"
           }
          },
          "colorscale": {
           "diverging": [
            [
             0,
             "rgb(103,0,31)"
            ],
            [
             0.1,
             "rgb(178,24,43)"
            ],
            [
             0.2,
             "rgb(214,96,77)"
            ],
            [
             0.3,
             "rgb(244,165,130)"
            ],
            [
             0.4,
             "rgb(253,219,199)"
            ],
            [
             0.5,
             "rgb(247,247,247)"
            ],
            [
             0.6,
             "rgb(209,229,240)"
            ],
            [
             0.7,
             "rgb(146,197,222)"
            ],
            [
             0.8,
             "rgb(67,147,195)"
            ],
            [
             0.9,
             "rgb(33,102,172)"
            ],
            [
             1,
             "rgb(5,48,97)"
            ]
           ],
           "sequential": [
            [
             0,
             "#440154"
            ],
            [
             0.1111111111111111,
             "#482878"
            ],
            [
             0.2222222222222222,
             "#3e4989"
            ],
            [
             0.3333333333333333,
             "#31688e"
            ],
            [
             0.4444444444444444,
             "#26828e"
            ],
            [
             0.5555555555555556,
             "#1f9e89"
            ],
            [
             0.6666666666666666,
             "#35b779"
            ],
            [
             0.7777777777777778,
             "#6ece58"
            ],
            [
             0.8888888888888888,
             "#b5de2b"
            ],
            [
             1,
             "#fde725"
            ]
           ],
           "sequentialminus": [
            [
             0,
             "#440154"
            ],
            [
             0.1111111111111111,
             "#482878"
            ],
            [
             0.2222222222222222,
             "#3e4989"
            ],
            [
             0.3333333333333333,
             "#31688e"
            ],
            [
             0.4444444444444444,
             "#26828e"
            ],
            [
             0.5555555555555556,
             "#1f9e89"
            ],
            [
             0.6666666666666666,
             "#35b779"
            ],
            [
             0.7777777777777778,
             "#6ece58"
            ],
            [
             0.8888888888888888,
             "#b5de2b"
            ],
            [
             1,
             "#fde725"
            ]
           ]
          },
          "colorway": [
           "#1F77B4",
           "#FF7F0E",
           "#2CA02C",
           "#D62728",
           "#9467BD",
           "#8C564B",
           "#E377C2",
           "#7F7F7F",
           "#BCBD22",
           "#17BECF"
          ],
          "font": {
           "color": "rgb(36,36,36)"
          },
          "geo": {
           "bgcolor": "white",
           "lakecolor": "white",
           "landcolor": "white",
           "showlakes": true,
           "showland": true,
           "subunitcolor": "white"
          },
          "hoverlabel": {
           "align": "left"
          },
          "hovermode": "closest",
          "mapbox": {
           "style": "light"
          },
          "paper_bgcolor": "white",
          "plot_bgcolor": "white",
          "polar": {
           "angularaxis": {
            "gridcolor": "rgb(232,232,232)",
            "linecolor": "rgb(36,36,36)",
            "showgrid": false,
            "showline": true,
            "ticks": "outside"
           },
           "bgcolor": "white",
           "radialaxis": {
            "gridcolor": "rgb(232,232,232)",
            "linecolor": "rgb(36,36,36)",
            "showgrid": false,
            "showline": true,
            "ticks": "outside"
           }
          },
          "scene": {
           "xaxis": {
            "backgroundcolor": "white",
            "gridcolor": "rgb(232,232,232)",
            "gridwidth": 2,
            "linecolor": "rgb(36,36,36)",
            "showbackground": true,
            "showgrid": false,
            "showline": true,
            "ticks": "outside",
            "zeroline": false,
            "zerolinecolor": "rgb(36,36,36)"
           },
           "yaxis": {
            "backgroundcolor": "white",
            "gridcolor": "rgb(232,232,232)",
            "gridwidth": 2,
            "linecolor": "rgb(36,36,36)",
            "showbackground": true,
            "showgrid": false,
            "showline": true,
            "ticks": "outside",
            "zeroline": false,
            "zerolinecolor": "rgb(36,36,36)"
           },
           "zaxis": {
            "backgroundcolor": "white",
            "gridcolor": "rgb(232,232,232)",
            "gridwidth": 2,
            "linecolor": "rgb(36,36,36)",
            "showbackground": true,
            "showgrid": false,
            "showline": true,
            "ticks": "outside",
            "zeroline": false,
            "zerolinecolor": "rgb(36,36,36)"
           }
          },
          "shapedefaults": {
           "fillcolor": "black",
           "line": {
            "width": 0
           },
           "opacity": 0.3
          },
          "ternary": {
           "aaxis": {
            "gridcolor": "rgb(232,232,232)",
            "linecolor": "rgb(36,36,36)",
            "showgrid": false,
            "showline": true,
            "ticks": "outside"
           },
           "baxis": {
            "gridcolor": "rgb(232,232,232)",
            "linecolor": "rgb(36,36,36)",
            "showgrid": false,
            "showline": true,
            "ticks": "outside"
           },
           "bgcolor": "white",
           "caxis": {
            "gridcolor": "rgb(232,232,232)",
            "linecolor": "rgb(36,36,36)",
            "showgrid": false,
            "showline": true,
            "ticks": "outside"
           }
          },
          "title": {
           "x": 0.05
          },
          "xaxis": {
           "automargin": true,
           "gridcolor": "rgb(232,232,232)",
           "linecolor": "rgb(36,36,36)",
           "showgrid": false,
           "showline": true,
           "ticks": "outside",
           "title": {
            "standoff": 15
           },
           "zeroline": false,
           "zerolinecolor": "rgb(36,36,36)"
          },
          "yaxis": {
           "automargin": true,
           "gridcolor": "rgb(232,232,232)",
           "linecolor": "rgb(36,36,36)",
           "showgrid": false,
           "showline": true,
           "ticks": "outside",
           "title": {
            "standoff": 15
           },
           "zeroline": false,
           "zerolinecolor": "rgb(36,36,36)"
          }
         }
        },
        "title": {
         "text": "Top 5 locations matching your search"
        },
        "xaxis": {
         "title": {
          "text": "Year"
         }
        },
        "yaxis": {
         "title": {
          "text": "gdp"
         }
        }
       }
      }
     },
     "metadata": {},
     "output_type": "display_data"
    }
   ],
   "source": [
    "# you still can plot the few top ranked cities:\n",
    "fig = f.show_kins_plot()"
   ]
  },
  {
   "cell_type": "markdown",
   "metadata": {},
   "source": [
    "#### Use case: similarity of outcome with a lag\n",
    "\n",
    "You care about similarity of outcome variables, but your question now is: what other locations were 2 years ago in a similar place to me now, when it comes to the outcome variable and the features?\n"
   ]
  },
  {
   "cell_type": "code",
   "execution_count": 14,
   "metadata": {},
   "outputs": [
    {
     "data": {
      "application/vnd.plotly.v1+json": {
       "config": {
        "plotlyServerURL": "https://plot.ly"
       },
       "data": [
        {
         "type": "bar",
         "x": [
          "2001_gdp",
          "2002_gdp",
          "2003_gdp",
          "2004_gdp",
          "2005_gdp",
          "2006_gdp",
          "2007_gdp",
          "2008_gdp",
          "2009_gdp",
          "2010_gdp",
          "2011_gdp",
          "2013_gdp",
          "2014_gdp",
          "2015_gdp",
          "2016_gdp",
          "2017_gdp",
          "2018_gdp",
          "2019_gdp",
          "2020_gdp",
          "2021_gdp"
         ],
         "y": [
          0.12217827287676108,
          0.12950896924936675,
          0.13727950740432876,
          0.1455162778485885,
          0.1542472545195038,
          0.16350208979067407,
          0.17331221517811451,
          0.1837109480888014,
          0.19473360497412948,
          0.20641762127257726,
          0.2188026785489319,
          0.23193083926186783,
          0.24584668961757994,
          0.2605974909946347,
          0.2762333404543128,
          0.29280734088157157,
          0.3103757813344659,
          0.32899832821453384
         ]
        }
       ],
       "layout": {
        "template": {
         "data": {
          "bar": [
           {
            "error_x": {
             "color": "#2a3f5f"
            },
            "error_y": {
             "color": "#2a3f5f"
            },
            "marker": {
             "line": {
              "color": "white",
              "width": 0.5
             },
             "pattern": {
              "fillmode": "overlay",
              "size": 10,
              "solidity": 0.2
             }
            },
            "type": "bar"
           }
          ],
          "barpolar": [
           {
            "marker": {
             "line": {
              "color": "white",
              "width": 0.5
             },
             "pattern": {
              "fillmode": "overlay",
              "size": 10,
              "solidity": 0.2
             }
            },
            "type": "barpolar"
           }
          ],
          "carpet": [
           {
            "aaxis": {
             "endlinecolor": "#2a3f5f",
             "gridcolor": "#C8D4E3",
             "linecolor": "#C8D4E3",
             "minorgridcolor": "#C8D4E3",
             "startlinecolor": "#2a3f5f"
            },
            "baxis": {
             "endlinecolor": "#2a3f5f",
             "gridcolor": "#C8D4E3",
             "linecolor": "#C8D4E3",
             "minorgridcolor": "#C8D4E3",
             "startlinecolor": "#2a3f5f"
            },
            "type": "carpet"
           }
          ],
          "choropleth": [
           {
            "colorbar": {
             "outlinewidth": 0,
             "ticks": ""
            },
            "type": "choropleth"
           }
          ],
          "contour": [
           {
            "colorbar": {
             "outlinewidth": 0,
             "ticks": ""
            },
            "colorscale": [
             [
              0,
              "#0d0887"
             ],
             [
              0.1111111111111111,
              "#46039f"
             ],
             [
              0.2222222222222222,
              "#7201a8"
             ],
             [
              0.3333333333333333,
              "#9c179e"
             ],
             [
              0.4444444444444444,
              "#bd3786"
             ],
             [
              0.5555555555555556,
              "#d8576b"
             ],
             [
              0.6666666666666666,
              "#ed7953"
             ],
             [
              0.7777777777777778,
              "#fb9f3a"
             ],
             [
              0.8888888888888888,
              "#fdca26"
             ],
             [
              1,
              "#f0f921"
             ]
            ],
            "type": "contour"
           }
          ],
          "contourcarpet": [
           {
            "colorbar": {
             "outlinewidth": 0,
             "ticks": ""
            },
            "type": "contourcarpet"
           }
          ],
          "heatmap": [
           {
            "colorbar": {
             "outlinewidth": 0,
             "ticks": ""
            },
            "colorscale": [
             [
              0,
              "#0d0887"
             ],
             [
              0.1111111111111111,
              "#46039f"
             ],
             [
              0.2222222222222222,
              "#7201a8"
             ],
             [
              0.3333333333333333,
              "#9c179e"
             ],
             [
              0.4444444444444444,
              "#bd3786"
             ],
             [
              0.5555555555555556,
              "#d8576b"
             ],
             [
              0.6666666666666666,
              "#ed7953"
             ],
             [
              0.7777777777777778,
              "#fb9f3a"
             ],
             [
              0.8888888888888888,
              "#fdca26"
             ],
             [
              1,
              "#f0f921"
             ]
            ],
            "type": "heatmap"
           }
          ],
          "heatmapgl": [
           {
            "colorbar": {
             "outlinewidth": 0,
             "ticks": ""
            },
            "colorscale": [
             [
              0,
              "#0d0887"
             ],
             [
              0.1111111111111111,
              "#46039f"
             ],
             [
              0.2222222222222222,
              "#7201a8"
             ],
             [
              0.3333333333333333,
              "#9c179e"
             ],
             [
              0.4444444444444444,
              "#bd3786"
             ],
             [
              0.5555555555555556,
              "#d8576b"
             ],
             [
              0.6666666666666666,
              "#ed7953"
             ],
             [
              0.7777777777777778,
              "#fb9f3a"
             ],
             [
              0.8888888888888888,
              "#fdca26"
             ],
             [
              1,
              "#f0f921"
             ]
            ],
            "type": "heatmapgl"
           }
          ],
          "histogram": [
           {
            "marker": {
             "pattern": {
              "fillmode": "overlay",
              "size": 10,
              "solidity": 0.2
             }
            },
            "type": "histogram"
           }
          ],
          "histogram2d": [
           {
            "colorbar": {
             "outlinewidth": 0,
             "ticks": ""
            },
            "colorscale": [
             [
              0,
              "#0d0887"
             ],
             [
              0.1111111111111111,
              "#46039f"
             ],
             [
              0.2222222222222222,
              "#7201a8"
             ],
             [
              0.3333333333333333,
              "#9c179e"
             ],
             [
              0.4444444444444444,
              "#bd3786"
             ],
             [
              0.5555555555555556,
              "#d8576b"
             ],
             [
              0.6666666666666666,
              "#ed7953"
             ],
             [
              0.7777777777777778,
              "#fb9f3a"
             ],
             [
              0.8888888888888888,
              "#fdca26"
             ],
             [
              1,
              "#f0f921"
             ]
            ],
            "type": "histogram2d"
           }
          ],
          "histogram2dcontour": [
           {
            "colorbar": {
             "outlinewidth": 0,
             "ticks": ""
            },
            "colorscale": [
             [
              0,
              "#0d0887"
             ],
             [
              0.1111111111111111,
              "#46039f"
             ],
             [
              0.2222222222222222,
              "#7201a8"
             ],
             [
              0.3333333333333333,
              "#9c179e"
             ],
             [
              0.4444444444444444,
              "#bd3786"
             ],
             [
              0.5555555555555556,
              "#d8576b"
             ],
             [
              0.6666666666666666,
              "#ed7953"
             ],
             [
              0.7777777777777778,
              "#fb9f3a"
             ],
             [
              0.8888888888888888,
              "#fdca26"
             ],
             [
              1,
              "#f0f921"
             ]
            ],
            "type": "histogram2dcontour"
           }
          ],
          "mesh3d": [
           {
            "colorbar": {
             "outlinewidth": 0,
             "ticks": ""
            },
            "type": "mesh3d"
           }
          ],
          "parcoords": [
           {
            "line": {
             "colorbar": {
              "outlinewidth": 0,
              "ticks": ""
             }
            },
            "type": "parcoords"
           }
          ],
          "pie": [
           {
            "automargin": true,
            "type": "pie"
           }
          ],
          "scatter": [
           {
            "fillpattern": {
             "fillmode": "overlay",
             "size": 10,
             "solidity": 0.2
            },
            "type": "scatter"
           }
          ],
          "scatter3d": [
           {
            "line": {
             "colorbar": {
              "outlinewidth": 0,
              "ticks": ""
             }
            },
            "marker": {
             "colorbar": {
              "outlinewidth": 0,
              "ticks": ""
             }
            },
            "type": "scatter3d"
           }
          ],
          "scattercarpet": [
           {
            "marker": {
             "colorbar": {
              "outlinewidth": 0,
              "ticks": ""
             }
            },
            "type": "scattercarpet"
           }
          ],
          "scattergeo": [
           {
            "marker": {
             "colorbar": {
              "outlinewidth": 0,
              "ticks": ""
             }
            },
            "type": "scattergeo"
           }
          ],
          "scattergl": [
           {
            "marker": {
             "colorbar": {
              "outlinewidth": 0,
              "ticks": ""
             }
            },
            "type": "scattergl"
           }
          ],
          "scattermapbox": [
           {
            "marker": {
             "colorbar": {
              "outlinewidth": 0,
              "ticks": ""
             }
            },
            "type": "scattermapbox"
           }
          ],
          "scatterpolar": [
           {
            "marker": {
             "colorbar": {
              "outlinewidth": 0,
              "ticks": ""
             }
            },
            "type": "scatterpolar"
           }
          ],
          "scatterpolargl": [
           {
            "marker": {
             "colorbar": {
              "outlinewidth": 0,
              "ticks": ""
             }
            },
            "type": "scatterpolargl"
           }
          ],
          "scatterternary": [
           {
            "marker": {
             "colorbar": {
              "outlinewidth": 0,
              "ticks": ""
             }
            },
            "type": "scatterternary"
           }
          ],
          "surface": [
           {
            "colorbar": {
             "outlinewidth": 0,
             "ticks": ""
            },
            "colorscale": [
             [
              0,
              "#0d0887"
             ],
             [
              0.1111111111111111,
              "#46039f"
             ],
             [
              0.2222222222222222,
              "#7201a8"
             ],
             [
              0.3333333333333333,
              "#9c179e"
             ],
             [
              0.4444444444444444,
              "#bd3786"
             ],
             [
              0.5555555555555556,
              "#d8576b"
             ],
             [
              0.6666666666666666,
              "#ed7953"
             ],
             [
              0.7777777777777778,
              "#fb9f3a"
             ],
             [
              0.8888888888888888,
              "#fdca26"
             ],
             [
              1,
              "#f0f921"
             ]
            ],
            "type": "surface"
           }
          ],
          "table": [
           {
            "cells": {
             "fill": {
              "color": "#EBF0F8"
             },
             "line": {
              "color": "white"
             }
            },
            "header": {
             "fill": {
              "color": "#C8D4E3"
             },
             "line": {
              "color": "white"
             }
            },
            "type": "table"
           }
          ]
         },
         "layout": {
          "annotationdefaults": {
           "arrowcolor": "#2a3f5f",
           "arrowhead": 0,
           "arrowwidth": 1
          },
          "autotypenumbers": "strict",
          "coloraxis": {
           "colorbar": {
            "outlinewidth": 0,
            "ticks": ""
           }
          },
          "colorscale": {
           "diverging": [
            [
             0,
             "#8e0152"
            ],
            [
             0.1,
             "#c51b7d"
            ],
            [
             0.2,
             "#de77ae"
            ],
            [
             0.3,
             "#f1b6da"
            ],
            [
             0.4,
             "#fde0ef"
            ],
            [
             0.5,
             "#f7f7f7"
            ],
            [
             0.6,
             "#e6f5d0"
            ],
            [
             0.7,
             "#b8e186"
            ],
            [
             0.8,
             "#7fbc41"
            ],
            [
             0.9,
             "#4d9221"
            ],
            [
             1,
             "#276419"
            ]
           ],
           "sequential": [
            [
             0,
             "#0d0887"
            ],
            [
             0.1111111111111111,
             "#46039f"
            ],
            [
             0.2222222222222222,
             "#7201a8"
            ],
            [
             0.3333333333333333,
             "#9c179e"
            ],
            [
             0.4444444444444444,
             "#bd3786"
            ],
            [
             0.5555555555555556,
             "#d8576b"
            ],
            [
             0.6666666666666666,
             "#ed7953"
            ],
            [
             0.7777777777777778,
             "#fb9f3a"
            ],
            [
             0.8888888888888888,
             "#fdca26"
            ],
            [
             1,
             "#f0f921"
            ]
           ],
           "sequentialminus": [
            [
             0,
             "#0d0887"
            ],
            [
             0.1111111111111111,
             "#46039f"
            ],
            [
             0.2222222222222222,
             "#7201a8"
            ],
            [
             0.3333333333333333,
             "#9c179e"
            ],
            [
             0.4444444444444444,
             "#bd3786"
            ],
            [
             0.5555555555555556,
             "#d8576b"
            ],
            [
             0.6666666666666666,
             "#ed7953"
            ],
            [
             0.7777777777777778,
             "#fb9f3a"
            ],
            [
             0.8888888888888888,
             "#fdca26"
            ],
            [
             1,
             "#f0f921"
            ]
           ]
          },
          "colorway": [
           "#636efa",
           "#EF553B",
           "#00cc96",
           "#ab63fa",
           "#FFA15A",
           "#19d3f3",
           "#FF6692",
           "#B6E880",
           "#FF97FF",
           "#FECB52"
          ],
          "font": {
           "color": "#2a3f5f"
          },
          "geo": {
           "bgcolor": "white",
           "lakecolor": "white",
           "landcolor": "white",
           "showlakes": true,
           "showland": true,
           "subunitcolor": "#C8D4E3"
          },
          "hoverlabel": {
           "align": "left"
          },
          "hovermode": "closest",
          "mapbox": {
           "style": "light"
          },
          "paper_bgcolor": "white",
          "plot_bgcolor": "white",
          "polar": {
           "angularaxis": {
            "gridcolor": "#EBF0F8",
            "linecolor": "#EBF0F8",
            "ticks": ""
           },
           "bgcolor": "white",
           "radialaxis": {
            "gridcolor": "#EBF0F8",
            "linecolor": "#EBF0F8",
            "ticks": ""
           }
          },
          "scene": {
           "xaxis": {
            "backgroundcolor": "white",
            "gridcolor": "#DFE8F3",
            "gridwidth": 2,
            "linecolor": "#EBF0F8",
            "showbackground": true,
            "ticks": "",
            "zerolinecolor": "#EBF0F8"
           },
           "yaxis": {
            "backgroundcolor": "white",
            "gridcolor": "#DFE8F3",
            "gridwidth": 2,
            "linecolor": "#EBF0F8",
            "showbackground": true,
            "ticks": "",
            "zerolinecolor": "#EBF0F8"
           },
           "zaxis": {
            "backgroundcolor": "white",
            "gridcolor": "#DFE8F3",
            "gridwidth": 2,
            "linecolor": "#EBF0F8",
            "showbackground": true,
            "ticks": "",
            "zerolinecolor": "#EBF0F8"
           }
          },
          "shapedefaults": {
           "line": {
            "color": "#2a3f5f"
           }
          },
          "ternary": {
           "aaxis": {
            "gridcolor": "#DFE8F3",
            "linecolor": "#A2B1C6",
            "ticks": ""
           },
           "baxis": {
            "gridcolor": "#DFE8F3",
            "linecolor": "#A2B1C6",
            "ticks": ""
           },
           "bgcolor": "white",
           "caxis": {
            "gridcolor": "#DFE8F3",
            "linecolor": "#A2B1C6",
            "ticks": ""
           }
          },
          "title": {
           "x": 0.05
          },
          "xaxis": {
           "automargin": true,
           "gridcolor": "#EBF0F8",
           "linecolor": "#EBF0F8",
           "ticks": "",
           "title": {
            "standoff": 15
           },
           "zerolinecolor": "#EBF0F8",
           "zerolinewidth": 2
          },
          "yaxis": {
           "automargin": true,
           "gridcolor": "#EBF0F8",
           "linecolor": "#EBF0F8",
           "ticks": "",
           "title": {
            "standoff": 15
           },
           "zerolinecolor": "#EBF0F8",
           "zerolinewidth": 2
          }
         }
        },
        "title": {
         "text": "Weights of columns"
        },
        "xaxis": {
         "title": {
          "text": "columns"
         }
        },
        "yaxis": {
         "title": {
          "text": "weights"
         }
        }
       }
      }
     },
     "metadata": {},
     "output_type": "display_data"
    },
    {
     "data": {
      "text/plain": [
       "None"
      ]
     },
     "metadata": {},
     "output_type": "display_data"
    }
   ],
   "source": [
    "f  = FipsQuery(42001, \"gdp\", lag = 2, top =5, time_decay = 1.06)\n",
    "f.find_euclidean_kins()\n",
    "\n",
    "display(f.plot_weights())"
   ]
  },
  {
   "cell_type": "code",
   "execution_count": 15,
   "metadata": {},
   "outputs": [
    {
     "data": {
      "text/html": [
       "<div>\n",
       "<style scoped>\n",
       "    .dataframe tbody tr th:only-of-type {\n",
       "        vertical-align: middle;\n",
       "    }\n",
       "\n",
       "    .dataframe tbody tr th {\n",
       "        vertical-align: top;\n",
       "    }\n",
       "\n",
       "    .dataframe thead th {\n",
       "        text-align: right;\n",
       "    }\n",
       "</style>\n",
       "<table border=\"1\" class=\"dataframe\">\n",
       "  <thead>\n",
       "    <tr style=\"text-align: right;\">\n",
       "      <th></th>\n",
       "      <th>GeoFIPS</th>\n",
       "      <th>GeoName</th>\n",
       "      <th>2001</th>\n",
       "      <th>2002</th>\n",
       "      <th>2003</th>\n",
       "      <th>2004</th>\n",
       "      <th>2005</th>\n",
       "      <th>2006</th>\n",
       "      <th>2007</th>\n",
       "      <th>2008</th>\n",
       "      <th>...</th>\n",
       "      <th>2014</th>\n",
       "      <th>2015</th>\n",
       "      <th>2016</th>\n",
       "      <th>2017</th>\n",
       "      <th>2018</th>\n",
       "      <th>2019</th>\n",
       "      <th>2020</th>\n",
       "      <th>2021</th>\n",
       "      <th>distance to 42001</th>\n",
       "      <th>percentile</th>\n",
       "    </tr>\n",
       "  </thead>\n",
       "  <tbody>\n",
       "    <tr>\n",
       "      <th>0</th>\n",
       "      <td>42001</td>\n",
       "      <td>Adams, PA</td>\n",
       "      <td>78.619</td>\n",
       "      <td>84.689</td>\n",
       "      <td>84.475</td>\n",
       "      <td>85.860</td>\n",
       "      <td>89.556</td>\n",
       "      <td>93.508</td>\n",
       "      <td>93.154</td>\n",
       "      <td>95.379</td>\n",
       "      <td>...</td>\n",
       "      <td>100.006</td>\n",
       "      <td>102.509</td>\n",
       "      <td>103.708</td>\n",
       "      <td>108.411</td>\n",
       "      <td>105.390</td>\n",
       "      <td>103.440</td>\n",
       "      <td>97.678</td>\n",
       "      <td>102.664</td>\n",
       "      <td>0.000000</td>\n",
       "      <td>35.14</td>\n",
       "    </tr>\n",
       "    <tr>\n",
       "      <th>1</th>\n",
       "      <td>20161</td>\n",
       "      <td>Riley, KS</td>\n",
       "      <td>78.822</td>\n",
       "      <td>79.879</td>\n",
       "      <td>83.156</td>\n",
       "      <td>85.898</td>\n",
       "      <td>86.815</td>\n",
       "      <td>89.029</td>\n",
       "      <td>93.378</td>\n",
       "      <td>97.320</td>\n",
       "      <td>...</td>\n",
       "      <td>102.355</td>\n",
       "      <td>102.888</td>\n",
       "      <td>103.512</td>\n",
       "      <td>102.037</td>\n",
       "      <td>100.206</td>\n",
       "      <td>100.843</td>\n",
       "      <td>100.186</td>\n",
       "      <td>101.947</td>\n",
       "      <td>0.065257</td>\n",
       "      <td>33.32</td>\n",
       "    </tr>\n",
       "    <tr>\n",
       "      <th>2</th>\n",
       "      <td>17001</td>\n",
       "      <td>Adams, IL</td>\n",
       "      <td>79.654</td>\n",
       "      <td>81.654</td>\n",
       "      <td>86.491</td>\n",
       "      <td>90.160</td>\n",
       "      <td>91.589</td>\n",
       "      <td>93.582</td>\n",
       "      <td>93.367</td>\n",
       "      <td>95.001</td>\n",
       "      <td>...</td>\n",
       "      <td>102.400</td>\n",
       "      <td>101.760</td>\n",
       "      <td>104.586</td>\n",
       "      <td>97.057</td>\n",
       "      <td>99.635</td>\n",
       "      <td>98.477</td>\n",
       "      <td>93.510</td>\n",
       "      <td>100.614</td>\n",
       "      <td>0.066060</td>\n",
       "      <td>30.63</td>\n",
       "    </tr>\n",
       "    <tr>\n",
       "      <th>3</th>\n",
       "      <td>33019</td>\n",
       "      <td>Sullivan, NH</td>\n",
       "      <td>87.624</td>\n",
       "      <td>93.209</td>\n",
       "      <td>91.829</td>\n",
       "      <td>96.587</td>\n",
       "      <td>97.861</td>\n",
       "      <td>95.699</td>\n",
       "      <td>97.592</td>\n",
       "      <td>92.842</td>\n",
       "      <td>...</td>\n",
       "      <td>102.845</td>\n",
       "      <td>106.400</td>\n",
       "      <td>101.283</td>\n",
       "      <td>101.850</td>\n",
       "      <td>99.204</td>\n",
       "      <td>99.205</td>\n",
       "      <td>101.346</td>\n",
       "      <td>109.571</td>\n",
       "      <td>0.066776</td>\n",
       "      <td>51.82</td>\n",
       "    </tr>\n",
       "    <tr>\n",
       "      <th>4</th>\n",
       "      <td>13171</td>\n",
       "      <td>Lamar, GA</td>\n",
       "      <td>83.191</td>\n",
       "      <td>81.883</td>\n",
       "      <td>83.438</td>\n",
       "      <td>84.551</td>\n",
       "      <td>93.216</td>\n",
       "      <td>93.727</td>\n",
       "      <td>93.967</td>\n",
       "      <td>98.477</td>\n",
       "      <td>...</td>\n",
       "      <td>99.373</td>\n",
       "      <td>103.592</td>\n",
       "      <td>103.735</td>\n",
       "      <td>104.157</td>\n",
       "      <td>101.036</td>\n",
       "      <td>105.494</td>\n",
       "      <td>110.219</td>\n",
       "      <td>114.258</td>\n",
       "      <td>0.067939</td>\n",
       "      <td>62.52</td>\n",
       "    </tr>\n",
       "    <tr>\n",
       "      <th>...</th>\n",
       "      <td>...</td>\n",
       "      <td>...</td>\n",
       "      <td>...</td>\n",
       "      <td>...</td>\n",
       "      <td>...</td>\n",
       "      <td>...</td>\n",
       "      <td>...</td>\n",
       "      <td>...</td>\n",
       "      <td>...</td>\n",
       "      <td>...</td>\n",
       "      <td>...</td>\n",
       "      <td>...</td>\n",
       "      <td>...</td>\n",
       "      <td>...</td>\n",
       "      <td>...</td>\n",
       "      <td>...</td>\n",
       "      <td>...</td>\n",
       "      <td>...</td>\n",
       "      <td>...</td>\n",
       "      <td>...</td>\n",
       "      <td>...</td>\n",
       "    </tr>\n",
       "    <tr>\n",
       "      <th>3077</th>\n",
       "      <td>48389</td>\n",
       "      <td>Reeves, TX</td>\n",
       "      <td>46.003</td>\n",
       "      <td>49.290</td>\n",
       "      <td>44.960</td>\n",
       "      <td>41.682</td>\n",
       "      <td>39.742</td>\n",
       "      <td>41.332</td>\n",
       "      <td>41.009</td>\n",
       "      <td>41.389</td>\n",
       "      <td>...</td>\n",
       "      <td>212.473</td>\n",
       "      <td>334.183</td>\n",
       "      <td>416.768</td>\n",
       "      <td>607.235</td>\n",
       "      <td>843.967</td>\n",
       "      <td>1226.531</td>\n",
       "      <td>1136.483</td>\n",
       "      <td>942.206</td>\n",
       "      <td>1.221964</td>\n",
       "      <td>99.90</td>\n",
       "    </tr>\n",
       "    <tr>\n",
       "      <th>3078</th>\n",
       "      <td>48127</td>\n",
       "      <td>Dimmit, TX</td>\n",
       "      <td>9.381</td>\n",
       "      <td>10.070</td>\n",
       "      <td>10.269</td>\n",
       "      <td>10.101</td>\n",
       "      <td>10.527</td>\n",
       "      <td>13.382</td>\n",
       "      <td>13.424</td>\n",
       "      <td>12.854</td>\n",
       "      <td>...</td>\n",
       "      <td>208.912</td>\n",
       "      <td>253.553</td>\n",
       "      <td>226.448</td>\n",
       "      <td>235.298</td>\n",
       "      <td>230.138</td>\n",
       "      <td>256.745</td>\n",
       "      <td>206.367</td>\n",
       "      <td>159.131</td>\n",
       "      <td>1.238983</td>\n",
       "      <td>96.27</td>\n",
       "    </tr>\n",
       "    <tr>\n",
       "      <th>3079</th>\n",
       "      <td>48301</td>\n",
       "      <td>Loving, TX</td>\n",
       "      <td>37.050</td>\n",
       "      <td>40.836</td>\n",
       "      <td>40.690</td>\n",
       "      <td>49.561</td>\n",
       "      <td>81.009</td>\n",
       "      <td>110.338</td>\n",
       "      <td>149.312</td>\n",
       "      <td>114.503</td>\n",
       "      <td>...</td>\n",
       "      <td>186.286</td>\n",
       "      <td>306.333</td>\n",
       "      <td>551.251</td>\n",
       "      <td>802.739</td>\n",
       "      <td>1064.149</td>\n",
       "      <td>1388.130</td>\n",
       "      <td>1453.540</td>\n",
       "      <td>1080.924</td>\n",
       "      <td>1.266906</td>\n",
       "      <td>99.94</td>\n",
       "    </tr>\n",
       "    <tr>\n",
       "      <th>3080</th>\n",
       "      <td>48283</td>\n",
       "      <td>La Salle, TX</td>\n",
       "      <td>6.638</td>\n",
       "      <td>6.679</td>\n",
       "      <td>7.065</td>\n",
       "      <td>6.727</td>\n",
       "      <td>7.541</td>\n",
       "      <td>8.729</td>\n",
       "      <td>8.254</td>\n",
       "      <td>7.900</td>\n",
       "      <td>...</td>\n",
       "      <td>224.270</td>\n",
       "      <td>255.409</td>\n",
       "      <td>208.985</td>\n",
       "      <td>202.036</td>\n",
       "      <td>201.509</td>\n",
       "      <td>219.118</td>\n",
       "      <td>177.489</td>\n",
       "      <td>159.947</td>\n",
       "      <td>1.314292</td>\n",
       "      <td>96.40</td>\n",
       "    </tr>\n",
       "    <tr>\n",
       "      <th>3081</th>\n",
       "      <td>48255</td>\n",
       "      <td>Karnes, TX</td>\n",
       "      <td>6.498</td>\n",
       "      <td>6.891</td>\n",
       "      <td>7.331</td>\n",
       "      <td>6.759</td>\n",
       "      <td>6.537</td>\n",
       "      <td>6.290</td>\n",
       "      <td>6.662</td>\n",
       "      <td>6.937</td>\n",
       "      <td>...</td>\n",
       "      <td>170.877</td>\n",
       "      <td>210.901</td>\n",
       "      <td>200.421</td>\n",
       "      <td>221.260</td>\n",
       "      <td>217.623</td>\n",
       "      <td>236.985</td>\n",
       "      <td>204.295</td>\n",
       "      <td>183.520</td>\n",
       "      <td>1.325613</td>\n",
       "      <td>98.60</td>\n",
       "    </tr>\n",
       "  </tbody>\n",
       "</table>\n",
       "<p>3082 rows × 24 columns</p>\n",
       "</div>"
      ],
      "text/plain": [
       "      GeoFIPS       GeoName    2001    2002    2003    2004    2005     2006  \\\n",
       "0       42001     Adams, PA  78.619  84.689  84.475  85.860  89.556   93.508   \n",
       "1       20161     Riley, KS  78.822  79.879  83.156  85.898  86.815   89.029   \n",
       "2       17001     Adams, IL  79.654  81.654  86.491  90.160  91.589   93.582   \n",
       "3       33019  Sullivan, NH  87.624  93.209  91.829  96.587  97.861   95.699   \n",
       "4       13171     Lamar, GA  83.191  81.883  83.438  84.551  93.216   93.727   \n",
       "...       ...           ...     ...     ...     ...     ...     ...      ...   \n",
       "3077    48389    Reeves, TX  46.003  49.290  44.960  41.682  39.742   41.332   \n",
       "3078    48127    Dimmit, TX   9.381  10.070  10.269  10.101  10.527   13.382   \n",
       "3079    48301    Loving, TX  37.050  40.836  40.690  49.561  81.009  110.338   \n",
       "3080    48283  La Salle, TX   6.638   6.679   7.065   6.727   7.541    8.729   \n",
       "3081    48255    Karnes, TX   6.498   6.891   7.331   6.759   6.537    6.290   \n",
       "\n",
       "         2007     2008  ...     2014     2015     2016     2017      2018  \\\n",
       "0      93.154   95.379  ...  100.006  102.509  103.708  108.411   105.390   \n",
       "1      93.378   97.320  ...  102.355  102.888  103.512  102.037   100.206   \n",
       "2      93.367   95.001  ...  102.400  101.760  104.586   97.057    99.635   \n",
       "3      97.592   92.842  ...  102.845  106.400  101.283  101.850    99.204   \n",
       "4      93.967   98.477  ...   99.373  103.592  103.735  104.157   101.036   \n",
       "...       ...      ...  ...      ...      ...      ...      ...       ...   \n",
       "3077   41.009   41.389  ...  212.473  334.183  416.768  607.235   843.967   \n",
       "3078   13.424   12.854  ...  208.912  253.553  226.448  235.298   230.138   \n",
       "3079  149.312  114.503  ...  186.286  306.333  551.251  802.739  1064.149   \n",
       "3080    8.254    7.900  ...  224.270  255.409  208.985  202.036   201.509   \n",
       "3081    6.662    6.937  ...  170.877  210.901  200.421  221.260   217.623   \n",
       "\n",
       "          2019      2020      2021  distance to 42001  percentile  \n",
       "0      103.440    97.678   102.664           0.000000       35.14  \n",
       "1      100.843   100.186   101.947           0.065257       33.32  \n",
       "2       98.477    93.510   100.614           0.066060       30.63  \n",
       "3       99.205   101.346   109.571           0.066776       51.82  \n",
       "4      105.494   110.219   114.258           0.067939       62.52  \n",
       "...        ...       ...       ...                ...         ...  \n",
       "3077  1226.531  1136.483   942.206           1.221964       99.90  \n",
       "3078   256.745   206.367   159.131           1.238983       96.27  \n",
       "3079  1388.130  1453.540  1080.924           1.266906       99.94  \n",
       "3080   219.118   177.489   159.947           1.314292       96.40  \n",
       "3081   236.985   204.295   183.520           1.325613       98.60  \n",
       "\n",
       "[3082 rows x 24 columns]"
      ]
     },
     "metadata": {},
     "output_type": "display_data"
    }
   ],
   "source": [
    "f.find_euclidean_kins()\n",
    "display(f.euclidean_kins)"
   ]
  },
  {
   "cell_type": "code",
   "execution_count": 16,
   "metadata": {},
   "outputs": [
    {
     "data": {
      "application/vnd.plotly.v1+json": {
       "config": {
        "plotlyServerURL": "https://plot.ly"
       },
       "data": [
        {
         "line": {
          "color": "darkred",
          "width": 3
         },
         "mode": "lines",
         "name": "Adams, PA",
         "text": "Adams, PA",
         "textposition": "top right",
         "type": "scatter",
         "x": [
          2001,
          2002,
          2003,
          2004,
          2005,
          2006,
          2007,
          2008,
          2009,
          2010,
          2011,
          2013,
          2014,
          2015,
          2016,
          2017,
          2018,
          2019,
          2020,
          2021
         ],
         "y": [
          78.619,
          84.689,
          84.475,
          85.86,
          89.556,
          93.508,
          93.154,
          95.379,
          96.885,
          95.036,
          97.071,
          100.08,
          100.006,
          102.509,
          103.708,
          108.411,
          105.39,
          103.44,
          97.678,
          102.664
         ]
        },
        {
         "line": {
          "color": "#FFC0CB"
         },
         "mode": "lines",
         "name": "Riley, KS",
         "text": "Riley, KS",
         "textposition": "top right",
         "type": "scatter",
         "x": [
          2003,
          2004,
          2005,
          2006,
          2007,
          2008,
          2009,
          2010,
          2011,
          2012,
          2013,
          2015,
          2016,
          2017,
          2018,
          2019,
          2020,
          2021,
          2022,
          2023
         ],
         "y": [
          78.822,
          79.879,
          83.156,
          85.898,
          86.815,
          89.029,
          93.378,
          97.32,
          95.39,
          96.585,
          97.939,
          99.925,
          102.355,
          102.888,
          103.512,
          102.037,
          100.206,
          100.843,
          100.186,
          101.947
         ]
        },
        {
         "line": {
          "color": "#A9A9A9"
         },
         "mode": "lines",
         "name": "Adams, IL",
         "text": "Adams, IL",
         "textposition": "top right",
         "type": "scatter",
         "x": [
          2003,
          2004,
          2005,
          2006,
          2007,
          2008,
          2009,
          2010,
          2011,
          2012,
          2013,
          2015,
          2016,
          2017,
          2018,
          2019,
          2020,
          2021,
          2022,
          2023
         ],
         "y": [
          79.654,
          81.654,
          86.491,
          90.16,
          91.589,
          93.582,
          93.367,
          95.001,
          92.234,
          95.051,
          98.111,
          99.232,
          102.4,
          101.76,
          104.586,
          97.057,
          99.635,
          98.477,
          93.51,
          100.614
         ]
        },
        {
         "line": {
          "color": "#87CEFA"
         },
         "mode": "lines",
         "name": "Sullivan, NH",
         "text": "Sullivan, NH",
         "textposition": "top right",
         "type": "scatter",
         "x": [
          2003,
          2004,
          2005,
          2006,
          2007,
          2008,
          2009,
          2010,
          2011,
          2012,
          2013,
          2015,
          2016,
          2017,
          2018,
          2019,
          2020,
          2021,
          2022,
          2023
         ],
         "y": [
          87.624,
          93.209,
          91.829,
          96.587,
          97.861,
          95.699,
          97.592,
          92.842,
          91.07,
          94.881,
          94.509,
          101.387,
          102.845,
          106.4,
          101.283,
          101.85,
          99.204,
          99.205,
          101.346,
          109.571
         ]
        },
        {
         "line": {
          "color": "#FFD700"
         },
         "mode": "lines",
         "name": "Lamar, GA",
         "text": "Lamar, GA",
         "textposition": "top right",
         "type": "scatter",
         "x": [
          2003,
          2004,
          2005,
          2006,
          2007,
          2008,
          2009,
          2010,
          2011,
          2012,
          2013,
          2015,
          2016,
          2017,
          2018,
          2019,
          2020,
          2021,
          2022,
          2023
         ],
         "y": [
          83.191,
          81.883,
          83.438,
          84.551,
          93.216,
          93.727,
          93.967,
          98.477,
          94.878,
          94.172,
          93.427,
          99.737,
          99.373,
          103.592,
          103.735,
          104.157,
          101.036,
          105.494,
          110.219,
          114.258
         ]
        },
        {
         "line": {
          "color": "#98FB98"
         },
         "mode": "lines",
         "name": "Lake, IL",
         "text": "Lake, IL",
         "textposition": "top right",
         "type": "scatter",
         "x": [
          2003,
          2004,
          2005,
          2006,
          2007,
          2008,
          2009,
          2010,
          2011,
          2012,
          2013,
          2015,
          2016,
          2017,
          2018,
          2019,
          2020,
          2021,
          2022,
          2023
         ],
         "y": [
          78.656,
          81.216,
          83.875,
          87.882,
          89.657,
          94.695,
          97.707,
          94.213,
          92.498,
          96.205,
          95.768,
          98.521,
          101.651,
          104.679,
          102.943,
          102.954,
          105.339,
          105.335,
          101.592,
          106.468
         ]
        }
       ],
       "layout": {
        "annotations": [
         {
          "font": {
           "color": "darkgray"
          },
          "showarrow": false,
          "text": "their year 2019",
          "x": 2021,
          "xref": "x",
          "y": 1.05,
          "yref": "paper"
         }
        ],
        "legend": {
         "title": {
          "text": "GeoName"
         }
        },
        "shapes": [
         {
          "line": {
           "color": "darkgray",
           "width": 2
          },
          "type": "line",
          "x0": 2021,
          "x1": 2021,
          "xref": "x",
          "y0": 0,
          "y1": 1,
          "yref": "paper"
         }
        ],
        "template": {
         "data": {
          "bar": [
           {
            "error_x": {
             "color": "rgb(36,36,36)"
            },
            "error_y": {
             "color": "rgb(36,36,36)"
            },
            "marker": {
             "line": {
              "color": "white",
              "width": 0.5
             },
             "pattern": {
              "fillmode": "overlay",
              "size": 10,
              "solidity": 0.2
             }
            },
            "type": "bar"
           }
          ],
          "barpolar": [
           {
            "marker": {
             "line": {
              "color": "white",
              "width": 0.5
             },
             "pattern": {
              "fillmode": "overlay",
              "size": 10,
              "solidity": 0.2
             }
            },
            "type": "barpolar"
           }
          ],
          "carpet": [
           {
            "aaxis": {
             "endlinecolor": "rgb(36,36,36)",
             "gridcolor": "white",
             "linecolor": "white",
             "minorgridcolor": "white",
             "startlinecolor": "rgb(36,36,36)"
            },
            "baxis": {
             "endlinecolor": "rgb(36,36,36)",
             "gridcolor": "white",
             "linecolor": "white",
             "minorgridcolor": "white",
             "startlinecolor": "rgb(36,36,36)"
            },
            "type": "carpet"
           }
          ],
          "choropleth": [
           {
            "colorbar": {
             "outlinewidth": 1,
             "tickcolor": "rgb(36,36,36)",
             "ticks": "outside"
            },
            "type": "choropleth"
           }
          ],
          "contour": [
           {
            "colorbar": {
             "outlinewidth": 1,
             "tickcolor": "rgb(36,36,36)",
             "ticks": "outside"
            },
            "colorscale": [
             [
              0,
              "#440154"
             ],
             [
              0.1111111111111111,
              "#482878"
             ],
             [
              0.2222222222222222,
              "#3e4989"
             ],
             [
              0.3333333333333333,
              "#31688e"
             ],
             [
              0.4444444444444444,
              "#26828e"
             ],
             [
              0.5555555555555556,
              "#1f9e89"
             ],
             [
              0.6666666666666666,
              "#35b779"
             ],
             [
              0.7777777777777778,
              "#6ece58"
             ],
             [
              0.8888888888888888,
              "#b5de2b"
             ],
             [
              1,
              "#fde725"
             ]
            ],
            "type": "contour"
           }
          ],
          "contourcarpet": [
           {
            "colorbar": {
             "outlinewidth": 1,
             "tickcolor": "rgb(36,36,36)",
             "ticks": "outside"
            },
            "type": "contourcarpet"
           }
          ],
          "heatmap": [
           {
            "colorbar": {
             "outlinewidth": 1,
             "tickcolor": "rgb(36,36,36)",
             "ticks": "outside"
            },
            "colorscale": [
             [
              0,
              "#440154"
             ],
             [
              0.1111111111111111,
              "#482878"
             ],
             [
              0.2222222222222222,
              "#3e4989"
             ],
             [
              0.3333333333333333,
              "#31688e"
             ],
             [
              0.4444444444444444,
              "#26828e"
             ],
             [
              0.5555555555555556,
              "#1f9e89"
             ],
             [
              0.6666666666666666,
              "#35b779"
             ],
             [
              0.7777777777777778,
              "#6ece58"
             ],
             [
              0.8888888888888888,
              "#b5de2b"
             ],
             [
              1,
              "#fde725"
             ]
            ],
            "type": "heatmap"
           }
          ],
          "heatmapgl": [
           {
            "colorbar": {
             "outlinewidth": 1,
             "tickcolor": "rgb(36,36,36)",
             "ticks": "outside"
            },
            "colorscale": [
             [
              0,
              "#440154"
             ],
             [
              0.1111111111111111,
              "#482878"
             ],
             [
              0.2222222222222222,
              "#3e4989"
             ],
             [
              0.3333333333333333,
              "#31688e"
             ],
             [
              0.4444444444444444,
              "#26828e"
             ],
             [
              0.5555555555555556,
              "#1f9e89"
             ],
             [
              0.6666666666666666,
              "#35b779"
             ],
             [
              0.7777777777777778,
              "#6ece58"
             ],
             [
              0.8888888888888888,
              "#b5de2b"
             ],
             [
              1,
              "#fde725"
             ]
            ],
            "type": "heatmapgl"
           }
          ],
          "histogram": [
           {
            "marker": {
             "line": {
              "color": "white",
              "width": 0.6
             }
            },
            "type": "histogram"
           }
          ],
          "histogram2d": [
           {
            "colorbar": {
             "outlinewidth": 1,
             "tickcolor": "rgb(36,36,36)",
             "ticks": "outside"
            },
            "colorscale": [
             [
              0,
              "#440154"
             ],
             [
              0.1111111111111111,
              "#482878"
             ],
             [
              0.2222222222222222,
              "#3e4989"
             ],
             [
              0.3333333333333333,
              "#31688e"
             ],
             [
              0.4444444444444444,
              "#26828e"
             ],
             [
              0.5555555555555556,
              "#1f9e89"
             ],
             [
              0.6666666666666666,
              "#35b779"
             ],
             [
              0.7777777777777778,
              "#6ece58"
             ],
             [
              0.8888888888888888,
              "#b5de2b"
             ],
             [
              1,
              "#fde725"
             ]
            ],
            "type": "histogram2d"
           }
          ],
          "histogram2dcontour": [
           {
            "colorbar": {
             "outlinewidth": 1,
             "tickcolor": "rgb(36,36,36)",
             "ticks": "outside"
            },
            "colorscale": [
             [
              0,
              "#440154"
             ],
             [
              0.1111111111111111,
              "#482878"
             ],
             [
              0.2222222222222222,
              "#3e4989"
             ],
             [
              0.3333333333333333,
              "#31688e"
             ],
             [
              0.4444444444444444,
              "#26828e"
             ],
             [
              0.5555555555555556,
              "#1f9e89"
             ],
             [
              0.6666666666666666,
              "#35b779"
             ],
             [
              0.7777777777777778,
              "#6ece58"
             ],
             [
              0.8888888888888888,
              "#b5de2b"
             ],
             [
              1,
              "#fde725"
             ]
            ],
            "type": "histogram2dcontour"
           }
          ],
          "mesh3d": [
           {
            "colorbar": {
             "outlinewidth": 1,
             "tickcolor": "rgb(36,36,36)",
             "ticks": "outside"
            },
            "type": "mesh3d"
           }
          ],
          "parcoords": [
           {
            "line": {
             "colorbar": {
              "outlinewidth": 1,
              "tickcolor": "rgb(36,36,36)",
              "ticks": "outside"
             }
            },
            "type": "parcoords"
           }
          ],
          "pie": [
           {
            "automargin": true,
            "type": "pie"
           }
          ],
          "scatter": [
           {
            "fillpattern": {
             "fillmode": "overlay",
             "size": 10,
             "solidity": 0.2
            },
            "type": "scatter"
           }
          ],
          "scatter3d": [
           {
            "line": {
             "colorbar": {
              "outlinewidth": 1,
              "tickcolor": "rgb(36,36,36)",
              "ticks": "outside"
             }
            },
            "marker": {
             "colorbar": {
              "outlinewidth": 1,
              "tickcolor": "rgb(36,36,36)",
              "ticks": "outside"
             }
            },
            "type": "scatter3d"
           }
          ],
          "scattercarpet": [
           {
            "marker": {
             "colorbar": {
              "outlinewidth": 1,
              "tickcolor": "rgb(36,36,36)",
              "ticks": "outside"
             }
            },
            "type": "scattercarpet"
           }
          ],
          "scattergeo": [
           {
            "marker": {
             "colorbar": {
              "outlinewidth": 1,
              "tickcolor": "rgb(36,36,36)",
              "ticks": "outside"
             }
            },
            "type": "scattergeo"
           }
          ],
          "scattergl": [
           {
            "marker": {
             "colorbar": {
              "outlinewidth": 1,
              "tickcolor": "rgb(36,36,36)",
              "ticks": "outside"
             }
            },
            "type": "scattergl"
           }
          ],
          "scattermapbox": [
           {
            "marker": {
             "colorbar": {
              "outlinewidth": 1,
              "tickcolor": "rgb(36,36,36)",
              "ticks": "outside"
             }
            },
            "type": "scattermapbox"
           }
          ],
          "scatterpolar": [
           {
            "marker": {
             "colorbar": {
              "outlinewidth": 1,
              "tickcolor": "rgb(36,36,36)",
              "ticks": "outside"
             }
            },
            "type": "scatterpolar"
           }
          ],
          "scatterpolargl": [
           {
            "marker": {
             "colorbar": {
              "outlinewidth": 1,
              "tickcolor": "rgb(36,36,36)",
              "ticks": "outside"
             }
            },
            "type": "scatterpolargl"
           }
          ],
          "scatterternary": [
           {
            "marker": {
             "colorbar": {
              "outlinewidth": 1,
              "tickcolor": "rgb(36,36,36)",
              "ticks": "outside"
             }
            },
            "type": "scatterternary"
           }
          ],
          "surface": [
           {
            "colorbar": {
             "outlinewidth": 1,
             "tickcolor": "rgb(36,36,36)",
             "ticks": "outside"
            },
            "colorscale": [
             [
              0,
              "#440154"
             ],
             [
              0.1111111111111111,
              "#482878"
             ],
             [
              0.2222222222222222,
              "#3e4989"
             ],
             [
              0.3333333333333333,
              "#31688e"
             ],
             [
              0.4444444444444444,
              "#26828e"
             ],
             [
              0.5555555555555556,
              "#1f9e89"
             ],
             [
              0.6666666666666666,
              "#35b779"
             ],
             [
              0.7777777777777778,
              "#6ece58"
             ],
             [
              0.8888888888888888,
              "#b5de2b"
             ],
             [
              1,
              "#fde725"
             ]
            ],
            "type": "surface"
           }
          ],
          "table": [
           {
            "cells": {
             "fill": {
              "color": "rgb(237,237,237)"
             },
             "line": {
              "color": "white"
             }
            },
            "header": {
             "fill": {
              "color": "rgb(217,217,217)"
             },
             "line": {
              "color": "white"
             }
            },
            "type": "table"
           }
          ]
         },
         "layout": {
          "annotationdefaults": {
           "arrowhead": 0,
           "arrowwidth": 1
          },
          "autotypenumbers": "strict",
          "coloraxis": {
           "colorbar": {
            "outlinewidth": 1,
            "tickcolor": "rgb(36,36,36)",
            "ticks": "outside"
           }
          },
          "colorscale": {
           "diverging": [
            [
             0,
             "rgb(103,0,31)"
            ],
            [
             0.1,
             "rgb(178,24,43)"
            ],
            [
             0.2,
             "rgb(214,96,77)"
            ],
            [
             0.3,
             "rgb(244,165,130)"
            ],
            [
             0.4,
             "rgb(253,219,199)"
            ],
            [
             0.5,
             "rgb(247,247,247)"
            ],
            [
             0.6,
             "rgb(209,229,240)"
            ],
            [
             0.7,
             "rgb(146,197,222)"
            ],
            [
             0.8,
             "rgb(67,147,195)"
            ],
            [
             0.9,
             "rgb(33,102,172)"
            ],
            [
             1,
             "rgb(5,48,97)"
            ]
           ],
           "sequential": [
            [
             0,
             "#440154"
            ],
            [
             0.1111111111111111,
             "#482878"
            ],
            [
             0.2222222222222222,
             "#3e4989"
            ],
            [
             0.3333333333333333,
             "#31688e"
            ],
            [
             0.4444444444444444,
             "#26828e"
            ],
            [
             0.5555555555555556,
             "#1f9e89"
            ],
            [
             0.6666666666666666,
             "#35b779"
            ],
            [
             0.7777777777777778,
             "#6ece58"
            ],
            [
             0.8888888888888888,
             "#b5de2b"
            ],
            [
             1,
             "#fde725"
            ]
           ],
           "sequentialminus": [
            [
             0,
             "#440154"
            ],
            [
             0.1111111111111111,
             "#482878"
            ],
            [
             0.2222222222222222,
             "#3e4989"
            ],
            [
             0.3333333333333333,
             "#31688e"
            ],
            [
             0.4444444444444444,
             "#26828e"
            ],
            [
             0.5555555555555556,
             "#1f9e89"
            ],
            [
             0.6666666666666666,
             "#35b779"
            ],
            [
             0.7777777777777778,
             "#6ece58"
            ],
            [
             0.8888888888888888,
             "#b5de2b"
            ],
            [
             1,
             "#fde725"
            ]
           ]
          },
          "colorway": [
           "#1F77B4",
           "#FF7F0E",
           "#2CA02C",
           "#D62728",
           "#9467BD",
           "#8C564B",
           "#E377C2",
           "#7F7F7F",
           "#BCBD22",
           "#17BECF"
          ],
          "font": {
           "color": "rgb(36,36,36)"
          },
          "geo": {
           "bgcolor": "white",
           "lakecolor": "white",
           "landcolor": "white",
           "showlakes": true,
           "showland": true,
           "subunitcolor": "white"
          },
          "hoverlabel": {
           "align": "left"
          },
          "hovermode": "closest",
          "mapbox": {
           "style": "light"
          },
          "paper_bgcolor": "white",
          "plot_bgcolor": "white",
          "polar": {
           "angularaxis": {
            "gridcolor": "rgb(232,232,232)",
            "linecolor": "rgb(36,36,36)",
            "showgrid": false,
            "showline": true,
            "ticks": "outside"
           },
           "bgcolor": "white",
           "radialaxis": {
            "gridcolor": "rgb(232,232,232)",
            "linecolor": "rgb(36,36,36)",
            "showgrid": false,
            "showline": true,
            "ticks": "outside"
           }
          },
          "scene": {
           "xaxis": {
            "backgroundcolor": "white",
            "gridcolor": "rgb(232,232,232)",
            "gridwidth": 2,
            "linecolor": "rgb(36,36,36)",
            "showbackground": true,
            "showgrid": false,
            "showline": true,
            "ticks": "outside",
            "zeroline": false,
            "zerolinecolor": "rgb(36,36,36)"
           },
           "yaxis": {
            "backgroundcolor": "white",
            "gridcolor": "rgb(232,232,232)",
            "gridwidth": 2,
            "linecolor": "rgb(36,36,36)",
            "showbackground": true,
            "showgrid": false,
            "showline": true,
            "ticks": "outside",
            "zeroline": false,
            "zerolinecolor": "rgb(36,36,36)"
           },
           "zaxis": {
            "backgroundcolor": "white",
            "gridcolor": "rgb(232,232,232)",
            "gridwidth": 2,
            "linecolor": "rgb(36,36,36)",
            "showbackground": true,
            "showgrid": false,
            "showline": true,
            "ticks": "outside",
            "zeroline": false,
            "zerolinecolor": "rgb(36,36,36)"
           }
          },
          "shapedefaults": {
           "fillcolor": "black",
           "line": {
            "width": 0
           },
           "opacity": 0.3
          },
          "ternary": {
           "aaxis": {
            "gridcolor": "rgb(232,232,232)",
            "linecolor": "rgb(36,36,36)",
            "showgrid": false,
            "showline": true,
            "ticks": "outside"
           },
           "baxis": {
            "gridcolor": "rgb(232,232,232)",
            "linecolor": "rgb(36,36,36)",
            "showgrid": false,
            "showline": true,
            "ticks": "outside"
           },
           "bgcolor": "white",
           "caxis": {
            "gridcolor": "rgb(232,232,232)",
            "linecolor": "rgb(36,36,36)",
            "showgrid": false,
            "showline": true,
            "ticks": "outside"
           }
          },
          "title": {
           "x": 0.05
          },
          "xaxis": {
           "automargin": true,
           "gridcolor": "rgb(232,232,232)",
           "linecolor": "rgb(36,36,36)",
           "showgrid": false,
           "showline": true,
           "ticks": "outside",
           "title": {
            "standoff": 15
           },
           "zeroline": false,
           "zerolinecolor": "rgb(36,36,36)"
          },
          "yaxis": {
           "automargin": true,
           "gridcolor": "rgb(232,232,232)",
           "linecolor": "rgb(36,36,36)",
           "showgrid": false,
           "showline": true,
           "ticks": "outside",
           "title": {
            "standoff": 15
           },
           "zeroline": false,
           "zerolinecolor": "rgb(36,36,36)"
          }
         }
        },
        "title": {
         "text": "Top 5 locations matching your search (lag of 2 years)"
        },
        "xaxis": {
         "title": {
          "text": "Year"
         }
        },
        "yaxis": {
         "title": {
          "text": "gdp"
         }
        }
       }
      }
     },
     "metadata": {},
     "output_type": "display_data"
    }
   ],
   "source": [
    "fig = f.show_kins_plot()"
   ]
  },
  {
   "cell_type": "markdown",
   "metadata": {},
   "source": [
    "#### Use case: similarity of outcome and other features with a lag"
   ]
  },
  {
   "cell_type": "code",
   "execution_count": 17,
   "metadata": {},
   "outputs": [
    {
     "data": {
      "application/vnd.plotly.v1+json": {
       "config": {
        "plotlyServerURL": "https://plot.ly"
       },
       "data": [
        {
         "type": "bar",
         "x": [
          "2001_gdp",
          "2002_gdp",
          "2003_gdp",
          "2004_gdp",
          "2005_gdp",
          "2006_gdp",
          "2007_gdp",
          "2008_gdp",
          "2009_gdp",
          "2010_gdp",
          "2011_gdp",
          "2013_gdp",
          "2014_gdp",
          "2015_gdp",
          "2016_gdp",
          "2017_gdp",
          "2018_gdp",
          "2019_gdp",
          "2020_gdp",
          "2021_gdp",
          "1993_population",
          "1994_population",
          "1995_population",
          "1996_population",
          "1997_population",
          "1998_population",
          "1999_population",
          "2000_population",
          "2001_population",
          "2002_population",
          "2003_population",
          "2004_population",
          "2005_population",
          "2006_population",
          "2007_population",
          "2008_population",
          "2009_population",
          "2010_population",
          "2011_population",
          "2012_population",
          "2013_population",
          "2014_population",
          "2015_population",
          "2016_population",
          "2017_population",
          "2018_population",
          "2019_population",
          "2020_population",
          "2021_population"
         ],
         "y": [
          0,
          0,
          0,
          0,
          0,
          0,
          0,
          0,
          0,
          0,
          0,
          0,
          0,
          0,
          0,
          0,
          0,
          0.08845868442653022,
          0.09111244495932613,
          0.09384581830810591,
          0.0966611928573491,
          0.09956102864306958,
          0.10254785950236166,
          0.10562429528743252,
          0.1087930241460555,
          0.11205681487043717,
          0.11541851931655028,
          0.1188810748960468,
          0.1224475071429282,
          0.12612093235721605,
          0.12990456032793254,
          0.13380169713777051,
          0.13781574805190364,
          0.14195022049346076,
          0.14620872710826457,
          0.15059498892151252,
          0.1551128385891579,
          0.15976622374683264,
          0.16455921045923763,
          0.16949598677301475,
          0.1745808663762052,
          0.17981829236749136,
          0.1852128411385161,
          0.1907692263726716,
          0.19649230316385177,
          0.20238707225876731
         ]
        }
       ],
       "layout": {
        "template": {
         "data": {
          "bar": [
           {
            "error_x": {
             "color": "#2a3f5f"
            },
            "error_y": {
             "color": "#2a3f5f"
            },
            "marker": {
             "line": {
              "color": "white",
              "width": 0.5
             },
             "pattern": {
              "fillmode": "overlay",
              "size": 10,
              "solidity": 0.2
             }
            },
            "type": "bar"
           }
          ],
          "barpolar": [
           {
            "marker": {
             "line": {
              "color": "white",
              "width": 0.5
             },
             "pattern": {
              "fillmode": "overlay",
              "size": 10,
              "solidity": 0.2
             }
            },
            "type": "barpolar"
           }
          ],
          "carpet": [
           {
            "aaxis": {
             "endlinecolor": "#2a3f5f",
             "gridcolor": "#C8D4E3",
             "linecolor": "#C8D4E3",
             "minorgridcolor": "#C8D4E3",
             "startlinecolor": "#2a3f5f"
            },
            "baxis": {
             "endlinecolor": "#2a3f5f",
             "gridcolor": "#C8D4E3",
             "linecolor": "#C8D4E3",
             "minorgridcolor": "#C8D4E3",
             "startlinecolor": "#2a3f5f"
            },
            "type": "carpet"
           }
          ],
          "choropleth": [
           {
            "colorbar": {
             "outlinewidth": 0,
             "ticks": ""
            },
            "type": "choropleth"
           }
          ],
          "contour": [
           {
            "colorbar": {
             "outlinewidth": 0,
             "ticks": ""
            },
            "colorscale": [
             [
              0,
              "#0d0887"
             ],
             [
              0.1111111111111111,
              "#46039f"
             ],
             [
              0.2222222222222222,
              "#7201a8"
             ],
             [
              0.3333333333333333,
              "#9c179e"
             ],
             [
              0.4444444444444444,
              "#bd3786"
             ],
             [
              0.5555555555555556,
              "#d8576b"
             ],
             [
              0.6666666666666666,
              "#ed7953"
             ],
             [
              0.7777777777777778,
              "#fb9f3a"
             ],
             [
              0.8888888888888888,
              "#fdca26"
             ],
             [
              1,
              "#f0f921"
             ]
            ],
            "type": "contour"
           }
          ],
          "contourcarpet": [
           {
            "colorbar": {
             "outlinewidth": 0,
             "ticks": ""
            },
            "type": "contourcarpet"
           }
          ],
          "heatmap": [
           {
            "colorbar": {
             "outlinewidth": 0,
             "ticks": ""
            },
            "colorscale": [
             [
              0,
              "#0d0887"
             ],
             [
              0.1111111111111111,
              "#46039f"
             ],
             [
              0.2222222222222222,
              "#7201a8"
             ],
             [
              0.3333333333333333,
              "#9c179e"
             ],
             [
              0.4444444444444444,
              "#bd3786"
             ],
             [
              0.5555555555555556,
              "#d8576b"
             ],
             [
              0.6666666666666666,
              "#ed7953"
             ],
             [
              0.7777777777777778,
              "#fb9f3a"
             ],
             [
              0.8888888888888888,
              "#fdca26"
             ],
             [
              1,
              "#f0f921"
             ]
            ],
            "type": "heatmap"
           }
          ],
          "heatmapgl": [
           {
            "colorbar": {
             "outlinewidth": 0,
             "ticks": ""
            },
            "colorscale": [
             [
              0,
              "#0d0887"
             ],
             [
              0.1111111111111111,
              "#46039f"
             ],
             [
              0.2222222222222222,
              "#7201a8"
             ],
             [
              0.3333333333333333,
              "#9c179e"
             ],
             [
              0.4444444444444444,
              "#bd3786"
             ],
             [
              0.5555555555555556,
              "#d8576b"
             ],
             [
              0.6666666666666666,
              "#ed7953"
             ],
             [
              0.7777777777777778,
              "#fb9f3a"
             ],
             [
              0.8888888888888888,
              "#fdca26"
             ],
             [
              1,
              "#f0f921"
             ]
            ],
            "type": "heatmapgl"
           }
          ],
          "histogram": [
           {
            "marker": {
             "pattern": {
              "fillmode": "overlay",
              "size": 10,
              "solidity": 0.2
             }
            },
            "type": "histogram"
           }
          ],
          "histogram2d": [
           {
            "colorbar": {
             "outlinewidth": 0,
             "ticks": ""
            },
            "colorscale": [
             [
              0,
              "#0d0887"
             ],
             [
              0.1111111111111111,
              "#46039f"
             ],
             [
              0.2222222222222222,
              "#7201a8"
             ],
             [
              0.3333333333333333,
              "#9c179e"
             ],
             [
              0.4444444444444444,
              "#bd3786"
             ],
             [
              0.5555555555555556,
              "#d8576b"
             ],
             [
              0.6666666666666666,
              "#ed7953"
             ],
             [
              0.7777777777777778,
              "#fb9f3a"
             ],
             [
              0.8888888888888888,
              "#fdca26"
             ],
             [
              1,
              "#f0f921"
             ]
            ],
            "type": "histogram2d"
           }
          ],
          "histogram2dcontour": [
           {
            "colorbar": {
             "outlinewidth": 0,
             "ticks": ""
            },
            "colorscale": [
             [
              0,
              "#0d0887"
             ],
             [
              0.1111111111111111,
              "#46039f"
             ],
             [
              0.2222222222222222,
              "#7201a8"
             ],
             [
              0.3333333333333333,
              "#9c179e"
             ],
             [
              0.4444444444444444,
              "#bd3786"
             ],
             [
              0.5555555555555556,
              "#d8576b"
             ],
             [
              0.6666666666666666,
              "#ed7953"
             ],
             [
              0.7777777777777778,
              "#fb9f3a"
             ],
             [
              0.8888888888888888,
              "#fdca26"
             ],
             [
              1,
              "#f0f921"
             ]
            ],
            "type": "histogram2dcontour"
           }
          ],
          "mesh3d": [
           {
            "colorbar": {
             "outlinewidth": 0,
             "ticks": ""
            },
            "type": "mesh3d"
           }
          ],
          "parcoords": [
           {
            "line": {
             "colorbar": {
              "outlinewidth": 0,
              "ticks": ""
             }
            },
            "type": "parcoords"
           }
          ],
          "pie": [
           {
            "automargin": true,
            "type": "pie"
           }
          ],
          "scatter": [
           {
            "fillpattern": {
             "fillmode": "overlay",
             "size": 10,
             "solidity": 0.2
            },
            "type": "scatter"
           }
          ],
          "scatter3d": [
           {
            "line": {
             "colorbar": {
              "outlinewidth": 0,
              "ticks": ""
             }
            },
            "marker": {
             "colorbar": {
              "outlinewidth": 0,
              "ticks": ""
             }
            },
            "type": "scatter3d"
           }
          ],
          "scattercarpet": [
           {
            "marker": {
             "colorbar": {
              "outlinewidth": 0,
              "ticks": ""
             }
            },
            "type": "scattercarpet"
           }
          ],
          "scattergeo": [
           {
            "marker": {
             "colorbar": {
              "outlinewidth": 0,
              "ticks": ""
             }
            },
            "type": "scattergeo"
           }
          ],
          "scattergl": [
           {
            "marker": {
             "colorbar": {
              "outlinewidth": 0,
              "ticks": ""
             }
            },
            "type": "scattergl"
           }
          ],
          "scattermapbox": [
           {
            "marker": {
             "colorbar": {
              "outlinewidth": 0,
              "ticks": ""
             }
            },
            "type": "scattermapbox"
           }
          ],
          "scatterpolar": [
           {
            "marker": {
             "colorbar": {
              "outlinewidth": 0,
              "ticks": ""
             }
            },
            "type": "scatterpolar"
           }
          ],
          "scatterpolargl": [
           {
            "marker": {
             "colorbar": {
              "outlinewidth": 0,
              "ticks": ""
             }
            },
            "type": "scatterpolargl"
           }
          ],
          "scatterternary": [
           {
            "marker": {
             "colorbar": {
              "outlinewidth": 0,
              "ticks": ""
             }
            },
            "type": "scatterternary"
           }
          ],
          "surface": [
           {
            "colorbar": {
             "outlinewidth": 0,
             "ticks": ""
            },
            "colorscale": [
             [
              0,
              "#0d0887"
             ],
             [
              0.1111111111111111,
              "#46039f"
             ],
             [
              0.2222222222222222,
              "#7201a8"
             ],
             [
              0.3333333333333333,
              "#9c179e"
             ],
             [
              0.4444444444444444,
              "#bd3786"
             ],
             [
              0.5555555555555556,
              "#d8576b"
             ],
             [
              0.6666666666666666,
              "#ed7953"
             ],
             [
              0.7777777777777778,
              "#fb9f3a"
             ],
             [
              0.8888888888888888,
              "#fdca26"
             ],
             [
              1,
              "#f0f921"
             ]
            ],
            "type": "surface"
           }
          ],
          "table": [
           {
            "cells": {
             "fill": {
              "color": "#EBF0F8"
             },
             "line": {
              "color": "white"
             }
            },
            "header": {
             "fill": {
              "color": "#C8D4E3"
             },
             "line": {
              "color": "white"
             }
            },
            "type": "table"
           }
          ]
         },
         "layout": {
          "annotationdefaults": {
           "arrowcolor": "#2a3f5f",
           "arrowhead": 0,
           "arrowwidth": 1
          },
          "autotypenumbers": "strict",
          "coloraxis": {
           "colorbar": {
            "outlinewidth": 0,
            "ticks": ""
           }
          },
          "colorscale": {
           "diverging": [
            [
             0,
             "#8e0152"
            ],
            [
             0.1,
             "#c51b7d"
            ],
            [
             0.2,
             "#de77ae"
            ],
            [
             0.3,
             "#f1b6da"
            ],
            [
             0.4,
             "#fde0ef"
            ],
            [
             0.5,
             "#f7f7f7"
            ],
            [
             0.6,
             "#e6f5d0"
            ],
            [
             0.7,
             "#b8e186"
            ],
            [
             0.8,
             "#7fbc41"
            ],
            [
             0.9,
             "#4d9221"
            ],
            [
             1,
             "#276419"
            ]
           ],
           "sequential": [
            [
             0,
             "#0d0887"
            ],
            [
             0.1111111111111111,
             "#46039f"
            ],
            [
             0.2222222222222222,
             "#7201a8"
            ],
            [
             0.3333333333333333,
             "#9c179e"
            ],
            [
             0.4444444444444444,
             "#bd3786"
            ],
            [
             0.5555555555555556,
             "#d8576b"
            ],
            [
             0.6666666666666666,
             "#ed7953"
            ],
            [
             0.7777777777777778,
             "#fb9f3a"
            ],
            [
             0.8888888888888888,
             "#fdca26"
            ],
            [
             1,
             "#f0f921"
            ]
           ],
           "sequentialminus": [
            [
             0,
             "#0d0887"
            ],
            [
             0.1111111111111111,
             "#46039f"
            ],
            [
             0.2222222222222222,
             "#7201a8"
            ],
            [
             0.3333333333333333,
             "#9c179e"
            ],
            [
             0.4444444444444444,
             "#bd3786"
            ],
            [
             0.5555555555555556,
             "#d8576b"
            ],
            [
             0.6666666666666666,
             "#ed7953"
            ],
            [
             0.7777777777777778,
             "#fb9f3a"
            ],
            [
             0.8888888888888888,
             "#fdca26"
            ],
            [
             1,
             "#f0f921"
            ]
           ]
          },
          "colorway": [
           "#636efa",
           "#EF553B",
           "#00cc96",
           "#ab63fa",
           "#FFA15A",
           "#19d3f3",
           "#FF6692",
           "#B6E880",
           "#FF97FF",
           "#FECB52"
          ],
          "font": {
           "color": "#2a3f5f"
          },
          "geo": {
           "bgcolor": "white",
           "lakecolor": "white",
           "landcolor": "white",
           "showlakes": true,
           "showland": true,
           "subunitcolor": "#C8D4E3"
          },
          "hoverlabel": {
           "align": "left"
          },
          "hovermode": "closest",
          "mapbox": {
           "style": "light"
          },
          "paper_bgcolor": "white",
          "plot_bgcolor": "white",
          "polar": {
           "angularaxis": {
            "gridcolor": "#EBF0F8",
            "linecolor": "#EBF0F8",
            "ticks": ""
           },
           "bgcolor": "white",
           "radialaxis": {
            "gridcolor": "#EBF0F8",
            "linecolor": "#EBF0F8",
            "ticks": ""
           }
          },
          "scene": {
           "xaxis": {
            "backgroundcolor": "white",
            "gridcolor": "#DFE8F3",
            "gridwidth": 2,
            "linecolor": "#EBF0F8",
            "showbackground": true,
            "ticks": "",
            "zerolinecolor": "#EBF0F8"
           },
           "yaxis": {
            "backgroundcolor": "white",
            "gridcolor": "#DFE8F3",
            "gridwidth": 2,
            "linecolor": "#EBF0F8",
            "showbackground": true,
            "ticks": "",
            "zerolinecolor": "#EBF0F8"
           },
           "zaxis": {
            "backgroundcolor": "white",
            "gridcolor": "#DFE8F3",
            "gridwidth": 2,
            "linecolor": "#EBF0F8",
            "showbackground": true,
            "ticks": "",
            "zerolinecolor": "#EBF0F8"
           }
          },
          "shapedefaults": {
           "line": {
            "color": "#2a3f5f"
           }
          },
          "ternary": {
           "aaxis": {
            "gridcolor": "#DFE8F3",
            "linecolor": "#A2B1C6",
            "ticks": ""
           },
           "baxis": {
            "gridcolor": "#DFE8F3",
            "linecolor": "#A2B1C6",
            "ticks": ""
           },
           "bgcolor": "white",
           "caxis": {
            "gridcolor": "#DFE8F3",
            "linecolor": "#A2B1C6",
            "ticks": ""
           }
          },
          "title": {
           "x": 0.05
          },
          "xaxis": {
           "automargin": true,
           "gridcolor": "#EBF0F8",
           "linecolor": "#EBF0F8",
           "ticks": "",
           "title": {
            "standoff": 15
           },
           "zerolinecolor": "#EBF0F8",
           "zerolinewidth": 2
          },
          "yaxis": {
           "automargin": true,
           "gridcolor": "#EBF0F8",
           "linecolor": "#EBF0F8",
           "ticks": "",
           "title": {
            "standoff": 15
           },
           "zerolinecolor": "#EBF0F8",
           "zerolinewidth": 2
          }
         }
        },
        "title": {
         "text": "Weights of columns"
        },
        "xaxis": {
         "title": {
          "text": "columns"
         }
        },
        "yaxis": {
         "title": {
          "text": "weights"
         }
        }
       }
      }
     },
     "metadata": {},
     "output_type": "display_data"
    },
    {
     "data": {
      "text/plain": [
       "None"
      ]
     },
     "metadata": {},
     "output_type": "display_data"
    }
   ],
   "source": [
    "f  = FipsQuery(20003, outcome_var = \"gdp\",\n",
    "               feature_groups_with_weights= {\"gdp\":0, \"population\":4},\n",
    "               # weights= {\"population\":4}, \n",
    "               lag = 3, top =10, time_decay = 1.03)\n",
    "f.find_euclidean_kins()\n",
    "display(f.plot_weights())\n",
    "\n"
   ]
  },
  {
   "cell_type": "code",
   "execution_count": 18,
   "metadata": {},
   "outputs": [
    {
     "data": {
      "application/vnd.plotly.v1+json": {
       "config": {
        "plotlyServerURL": "https://plot.ly"
       },
       "data": [
        {
         "line": {
          "color": "darkred",
          "width": 3
         },
         "mode": "lines",
         "name": "Anderson, KS",
         "text": "Anderson, KS",
         "textposition": "top right",
         "type": "scatter",
         "x": [
          2001,
          2002,
          2003,
          2004,
          2005,
          2006,
          2007,
          2008,
          2009,
          2010,
          2011,
          2013,
          2014,
          2015,
          2016,
          2017,
          2018,
          2019,
          2020,
          2021
         ],
         "y": [
          74.59,
          78.511,
          76.836,
          76.589,
          76.548,
          75.401,
          81.577,
          91.311,
          95.643,
          87.817,
          94.166,
          103.952,
          107.351,
          104.642,
          123.926,
          106.269,
          105.016,
          117.576,
          130.217,
          143.895
         ]
        },
        {
         "line": {
          "color": "#FFC0CB"
         },
         "mode": "lines",
         "name": "Searcy, AR",
         "text": "Searcy, AR",
         "textposition": "top right",
         "type": "scatter",
         "x": [
          2004,
          2005,
          2006,
          2007,
          2008,
          2009,
          2010,
          2011,
          2012,
          2013,
          2014,
          2016,
          2017,
          2018,
          2019,
          2020,
          2021,
          2022,
          2023,
          2024
         ],
         "y": [
          90.528,
          97.992,
          101.146,
          104.189,
          106.461,
          112.705,
          106.153,
          100.018,
          98.552,
          107.214,
          102.905,
          98.807,
          99.256,
          96.926,
          101.548,
          115.809,
          112.288,
          117.577,
          114.056,
          119.556
         ]
        },
        {
         "line": {
          "color": "#A9A9A9"
         },
         "mode": "lines",
         "name": "Doniphan, KS",
         "text": "Doniphan, KS",
         "textposition": "top right",
         "type": "scatter",
         "x": [
          2004,
          2005,
          2006,
          2007,
          2008,
          2009,
          2010,
          2011,
          2012,
          2013,
          2014,
          2016,
          2017,
          2018,
          2019,
          2020,
          2021,
          2022,
          2023,
          2024
         ],
         "y": [
          96.019,
          85.88,
          80.674,
          100.728,
          106.243,
          110.814,
          132.605,
          128.517,
          126.329,
          105.067,
          108.161,
          111.953,
          104.826,
          116.704,
          106.677,
          114.562,
          106.366,
          119.4,
          107.301,
          107.132
         ]
        },
        {
         "line": {
          "color": "#87CEFA"
         },
         "mode": "lines",
         "name": "Lincoln, GA",
         "text": "Lincoln, GA",
         "textposition": "top right",
         "type": "scatter",
         "x": [
          2004,
          2005,
          2006,
          2007,
          2008,
          2009,
          2010,
          2011,
          2012,
          2013,
          2014,
          2016,
          2017,
          2018,
          2019,
          2020,
          2021,
          2022,
          2023,
          2024
         ],
         "y": [
          105.269,
          104.599,
          106.313,
          102.832,
          109.49,
          105.428,
          118.19,
          112.823,
          115.715,
          111.459,
          108.252,
          100.753,
          97.406,
          102.081,
          102.229,
          98.661,
          95.957,
          98.276,
          96.241,
          99.451
         ]
        },
        {
         "line": {
          "color": "#FFD700"
         },
         "mode": "lines",
         "name": "Monroe, IA",
         "text": "Monroe, IA",
         "textposition": "top right",
         "type": "scatter",
         "x": [
          2004,
          2005,
          2006,
          2007,
          2008,
          2009,
          2010,
          2011,
          2012,
          2013,
          2014,
          2016,
          2017,
          2018,
          2019,
          2020,
          2021,
          2022,
          2023,
          2024
         ],
         "y": [
          80.83,
          78.299,
          81.98,
          89.798,
          90.345,
          95.037,
          102.527,
          114.486,
          120.5,
          116.286,
          107.43,
          99.366,
          95.596,
          100.399,
          97.7,
          98.123,
          104.999,
          106.039,
          103.193,
          110.844
         ]
        },
        {
         "line": {
          "color": "#98FB98"
         },
         "mode": "lines",
         "name": "Conejos, CO",
         "text": "Conejos, CO",
         "textposition": "top right",
         "type": "scatter",
         "x": [
          2004,
          2005,
          2006,
          2007,
          2008,
          2009,
          2010,
          2011,
          2012,
          2013,
          2014,
          2016,
          2017,
          2018,
          2019,
          2020,
          2021,
          2022,
          2023,
          2024
         ],
         "y": [
          95.296,
          93.98,
          103.146,
          101.505,
          100.837,
          92.954,
          87.007,
          96.985,
          116.207,
          93.326,
          107.368,
          109.646,
          114.182,
          131.162,
          127.44,
          136.575,
          143.467,
          138.931,
          146,
          137.253
         ]
        },
        {
         "line": {
          "color": "#FFC0CB"
         },
         "mode": "lines",
         "name": "Ballard, KY",
         "text": "Ballard, KY",
         "textposition": "top right",
         "type": "scatter",
         "x": [
          2004,
          2005,
          2006,
          2007,
          2008,
          2009,
          2010,
          2011,
          2012,
          2013,
          2014,
          2016,
          2017,
          2018,
          2019,
          2020,
          2021,
          2022,
          2023,
          2024
         ],
         "y": [
          109.013,
          105.897,
          107.213,
          107.554,
          117.147,
          115.141,
          109.497,
          108.722,
          124.611,
          123.416,
          113.701,
          93.233,
          85.93,
          78.632,
          64.37,
          63.74,
          59.569,
          67.92,
          69.371,
          75.013
         ]
        },
        {
         "line": {
          "color": "#A9A9A9"
         },
         "mode": "lines",
         "name": "McCulloch, TX",
         "text": "McCulloch, TX",
         "textposition": "top right",
         "type": "scatter",
         "x": [
          2004,
          2005,
          2006,
          2007,
          2008,
          2009,
          2010,
          2011,
          2012,
          2013,
          2014,
          2016,
          2017,
          2018,
          2019,
          2020,
          2021,
          2022,
          2023,
          2024
         ],
         "y": [
          65.485,
          67.304,
          72.287,
          71.81,
          70.059,
          74.342,
          79.889,
          91.802,
          71.256,
          77.12,
          93.147,
          104.082,
          107.683,
          102.074,
          94.308,
          104.242,
          110.37,
          96.964,
          88.848,
          90.572
         ]
        },
        {
         "line": {
          "color": "#87CEFA"
         },
         "mode": "lines",
         "name": "Franklin, MS",
         "text": "Franklin, MS",
         "textposition": "top right",
         "type": "scatter",
         "x": [
          2004,
          2005,
          2006,
          2007,
          2008,
          2009,
          2010,
          2011,
          2012,
          2013,
          2014,
          2016,
          2017,
          2018,
          2019,
          2020,
          2021,
          2022,
          2023,
          2024
         ],
         "y": [
          74.492,
          78.106,
          78.787,
          78.43,
          82.062,
          85.209,
          74.495,
          81.551,
          88.701,
          95.962,
          97.055,
          94.44,
          90.618,
          92.635,
          94.718,
          94.351,
          95.574,
          97.741,
          98.738,
          98.573
         ]
        },
        {
         "line": {
          "color": "#FFD700"
         },
         "mode": "lines",
         "name": "Dade, MO",
         "text": "Dade, MO",
         "textposition": "top right",
         "type": "scatter",
         "x": [
          2004,
          2005,
          2006,
          2007,
          2008,
          2009,
          2010,
          2011,
          2012,
          2013,
          2014,
          2016,
          2017,
          2018,
          2019,
          2020,
          2021,
          2022,
          2023,
          2024
         ],
         "y": [
          78.201,
          83.996,
          101.197,
          104.307,
          101.729,
          102.668,
          97.203,
          99.999,
          94.254,
          90.734,
          86.254,
          99.804,
          120.798,
          114.377,
          106.884,
          100.33,
          102.952,
          104.238,
          108.52,
          107.023
         ]
        },
        {
         "line": {
          "color": "#98FB98"
         },
         "mode": "lines",
         "name": "Merrick, NE",
         "text": "Merrick, NE",
         "textposition": "top right",
         "type": "scatter",
         "x": [
          2004,
          2005,
          2006,
          2007,
          2008,
          2009,
          2010,
          2011,
          2012,
          2013,
          2014,
          2016,
          2017,
          2018,
          2019,
          2020,
          2021,
          2022,
          2023,
          2024
         ],
         "y": [
          58.496,
          58.374,
          72.326,
          81.666,
          83.238,
          85.081,
          78.882,
          75.376,
          87.559,
          90.913,
          97.539,
          116.654,
          152.532,
          142.808,
          136.253,
          109.077,
          101.66,
          105.809,
          96.843,
          98.967
         ]
        }
       ],
       "layout": {
        "annotations": [
         {
          "font": {
           "color": "darkgray"
          },
          "showarrow": false,
          "text": "their year 2018",
          "x": 2021,
          "xref": "x",
          "y": 1.05,
          "yref": "paper"
         }
        ],
        "legend": {
         "title": {
          "text": "GeoName"
         }
        },
        "shapes": [
         {
          "line": {
           "color": "darkgray",
           "width": 2
          },
          "type": "line",
          "x0": 2021,
          "x1": 2021,
          "xref": "x",
          "y0": 0,
          "y1": 1,
          "yref": "paper"
         }
        ],
        "template": {
         "data": {
          "bar": [
           {
            "error_x": {
             "color": "rgb(36,36,36)"
            },
            "error_y": {
             "color": "rgb(36,36,36)"
            },
            "marker": {
             "line": {
              "color": "white",
              "width": 0.5
             },
             "pattern": {
              "fillmode": "overlay",
              "size": 10,
              "solidity": 0.2
             }
            },
            "type": "bar"
           }
          ],
          "barpolar": [
           {
            "marker": {
             "line": {
              "color": "white",
              "width": 0.5
             },
             "pattern": {
              "fillmode": "overlay",
              "size": 10,
              "solidity": 0.2
             }
            },
            "type": "barpolar"
           }
          ],
          "carpet": [
           {
            "aaxis": {
             "endlinecolor": "rgb(36,36,36)",
             "gridcolor": "white",
             "linecolor": "white",
             "minorgridcolor": "white",
             "startlinecolor": "rgb(36,36,36)"
            },
            "baxis": {
             "endlinecolor": "rgb(36,36,36)",
             "gridcolor": "white",
             "linecolor": "white",
             "minorgridcolor": "white",
             "startlinecolor": "rgb(36,36,36)"
            },
            "type": "carpet"
           }
          ],
          "choropleth": [
           {
            "colorbar": {
             "outlinewidth": 1,
             "tickcolor": "rgb(36,36,36)",
             "ticks": "outside"
            },
            "type": "choropleth"
           }
          ],
          "contour": [
           {
            "colorbar": {
             "outlinewidth": 1,
             "tickcolor": "rgb(36,36,36)",
             "ticks": "outside"
            },
            "colorscale": [
             [
              0,
              "#440154"
             ],
             [
              0.1111111111111111,
              "#482878"
             ],
             [
              0.2222222222222222,
              "#3e4989"
             ],
             [
              0.3333333333333333,
              "#31688e"
             ],
             [
              0.4444444444444444,
              "#26828e"
             ],
             [
              0.5555555555555556,
              "#1f9e89"
             ],
             [
              0.6666666666666666,
              "#35b779"
             ],
             [
              0.7777777777777778,
              "#6ece58"
             ],
             [
              0.8888888888888888,
              "#b5de2b"
             ],
             [
              1,
              "#fde725"
             ]
            ],
            "type": "contour"
           }
          ],
          "contourcarpet": [
           {
            "colorbar": {
             "outlinewidth": 1,
             "tickcolor": "rgb(36,36,36)",
             "ticks": "outside"
            },
            "type": "contourcarpet"
           }
          ],
          "heatmap": [
           {
            "colorbar": {
             "outlinewidth": 1,
             "tickcolor": "rgb(36,36,36)",
             "ticks": "outside"
            },
            "colorscale": [
             [
              0,
              "#440154"
             ],
             [
              0.1111111111111111,
              "#482878"
             ],
             [
              0.2222222222222222,
              "#3e4989"
             ],
             [
              0.3333333333333333,
              "#31688e"
             ],
             [
              0.4444444444444444,
              "#26828e"
             ],
             [
              0.5555555555555556,
              "#1f9e89"
             ],
             [
              0.6666666666666666,
              "#35b779"
             ],
             [
              0.7777777777777778,
              "#6ece58"
             ],
             [
              0.8888888888888888,
              "#b5de2b"
             ],
             [
              1,
              "#fde725"
             ]
            ],
            "type": "heatmap"
           }
          ],
          "heatmapgl": [
           {
            "colorbar": {
             "outlinewidth": 1,
             "tickcolor": "rgb(36,36,36)",
             "ticks": "outside"
            },
            "colorscale": [
             [
              0,
              "#440154"
             ],
             [
              0.1111111111111111,
              "#482878"
             ],
             [
              0.2222222222222222,
              "#3e4989"
             ],
             [
              0.3333333333333333,
              "#31688e"
             ],
             [
              0.4444444444444444,
              "#26828e"
             ],
             [
              0.5555555555555556,
              "#1f9e89"
             ],
             [
              0.6666666666666666,
              "#35b779"
             ],
             [
              0.7777777777777778,
              "#6ece58"
             ],
             [
              0.8888888888888888,
              "#b5de2b"
             ],
             [
              1,
              "#fde725"
             ]
            ],
            "type": "heatmapgl"
           }
          ],
          "histogram": [
           {
            "marker": {
             "line": {
              "color": "white",
              "width": 0.6
             }
            },
            "type": "histogram"
           }
          ],
          "histogram2d": [
           {
            "colorbar": {
             "outlinewidth": 1,
             "tickcolor": "rgb(36,36,36)",
             "ticks": "outside"
            },
            "colorscale": [
             [
              0,
              "#440154"
             ],
             [
              0.1111111111111111,
              "#482878"
             ],
             [
              0.2222222222222222,
              "#3e4989"
             ],
             [
              0.3333333333333333,
              "#31688e"
             ],
             [
              0.4444444444444444,
              "#26828e"
             ],
             [
              0.5555555555555556,
              "#1f9e89"
             ],
             [
              0.6666666666666666,
              "#35b779"
             ],
             [
              0.7777777777777778,
              "#6ece58"
             ],
             [
              0.8888888888888888,
              "#b5de2b"
             ],
             [
              1,
              "#fde725"
             ]
            ],
            "type": "histogram2d"
           }
          ],
          "histogram2dcontour": [
           {
            "colorbar": {
             "outlinewidth": 1,
             "tickcolor": "rgb(36,36,36)",
             "ticks": "outside"
            },
            "colorscale": [
             [
              0,
              "#440154"
             ],
             [
              0.1111111111111111,
              "#482878"
             ],
             [
              0.2222222222222222,
              "#3e4989"
             ],
             [
              0.3333333333333333,
              "#31688e"
             ],
             [
              0.4444444444444444,
              "#26828e"
             ],
             [
              0.5555555555555556,
              "#1f9e89"
             ],
             [
              0.6666666666666666,
              "#35b779"
             ],
             [
              0.7777777777777778,
              "#6ece58"
             ],
             [
              0.8888888888888888,
              "#b5de2b"
             ],
             [
              1,
              "#fde725"
             ]
            ],
            "type": "histogram2dcontour"
           }
          ],
          "mesh3d": [
           {
            "colorbar": {
             "outlinewidth": 1,
             "tickcolor": "rgb(36,36,36)",
             "ticks": "outside"
            },
            "type": "mesh3d"
           }
          ],
          "parcoords": [
           {
            "line": {
             "colorbar": {
              "outlinewidth": 1,
              "tickcolor": "rgb(36,36,36)",
              "ticks": "outside"
             }
            },
            "type": "parcoords"
           }
          ],
          "pie": [
           {
            "automargin": true,
            "type": "pie"
           }
          ],
          "scatter": [
           {
            "fillpattern": {
             "fillmode": "overlay",
             "size": 10,
             "solidity": 0.2
            },
            "type": "scatter"
           }
          ],
          "scatter3d": [
           {
            "line": {
             "colorbar": {
              "outlinewidth": 1,
              "tickcolor": "rgb(36,36,36)",
              "ticks": "outside"
             }
            },
            "marker": {
             "colorbar": {
              "outlinewidth": 1,
              "tickcolor": "rgb(36,36,36)",
              "ticks": "outside"
             }
            },
            "type": "scatter3d"
           }
          ],
          "scattercarpet": [
           {
            "marker": {
             "colorbar": {
              "outlinewidth": 1,
              "tickcolor": "rgb(36,36,36)",
              "ticks": "outside"
             }
            },
            "type": "scattercarpet"
           }
          ],
          "scattergeo": [
           {
            "marker": {
             "colorbar": {
              "outlinewidth": 1,
              "tickcolor": "rgb(36,36,36)",
              "ticks": "outside"
             }
            },
            "type": "scattergeo"
           }
          ],
          "scattergl": [
           {
            "marker": {
             "colorbar": {
              "outlinewidth": 1,
              "tickcolor": "rgb(36,36,36)",
              "ticks": "outside"
             }
            },
            "type": "scattergl"
           }
          ],
          "scattermapbox": [
           {
            "marker": {
             "colorbar": {
              "outlinewidth": 1,
              "tickcolor": "rgb(36,36,36)",
              "ticks": "outside"
             }
            },
            "type": "scattermapbox"
           }
          ],
          "scatterpolar": [
           {
            "marker": {
             "colorbar": {
              "outlinewidth": 1,
              "tickcolor": "rgb(36,36,36)",
              "ticks": "outside"
             }
            },
            "type": "scatterpolar"
           }
          ],
          "scatterpolargl": [
           {
            "marker": {
             "colorbar": {
              "outlinewidth": 1,
              "tickcolor": "rgb(36,36,36)",
              "ticks": "outside"
             }
            },
            "type": "scatterpolargl"
           }
          ],
          "scatterternary": [
           {
            "marker": {
             "colorbar": {
              "outlinewidth": 1,
              "tickcolor": "rgb(36,36,36)",
              "ticks": "outside"
             }
            },
            "type": "scatterternary"
           }
          ],
          "surface": [
           {
            "colorbar": {
             "outlinewidth": 1,
             "tickcolor": "rgb(36,36,36)",
             "ticks": "outside"
            },
            "colorscale": [
             [
              0,
              "#440154"
             ],
             [
              0.1111111111111111,
              "#482878"
             ],
             [
              0.2222222222222222,
              "#3e4989"
             ],
             [
              0.3333333333333333,
              "#31688e"
             ],
             [
              0.4444444444444444,
              "#26828e"
             ],
             [
              0.5555555555555556,
              "#1f9e89"
             ],
             [
              0.6666666666666666,
              "#35b779"
             ],
             [
              0.7777777777777778,
              "#6ece58"
             ],
             [
              0.8888888888888888,
              "#b5de2b"
             ],
             [
              1,
              "#fde725"
             ]
            ],
            "type": "surface"
           }
          ],
          "table": [
           {
            "cells": {
             "fill": {
              "color": "rgb(237,237,237)"
             },
             "line": {
              "color": "white"
             }
            },
            "header": {
             "fill": {
              "color": "rgb(217,217,217)"
             },
             "line": {
              "color": "white"
             }
            },
            "type": "table"
           }
          ]
         },
         "layout": {
          "annotationdefaults": {
           "arrowhead": 0,
           "arrowwidth": 1
          },
          "autotypenumbers": "strict",
          "coloraxis": {
           "colorbar": {
            "outlinewidth": 1,
            "tickcolor": "rgb(36,36,36)",
            "ticks": "outside"
           }
          },
          "colorscale": {
           "diverging": [
            [
             0,
             "rgb(103,0,31)"
            ],
            [
             0.1,
             "rgb(178,24,43)"
            ],
            [
             0.2,
             "rgb(214,96,77)"
            ],
            [
             0.3,
             "rgb(244,165,130)"
            ],
            [
             0.4,
             "rgb(253,219,199)"
            ],
            [
             0.5,
             "rgb(247,247,247)"
            ],
            [
             0.6,
             "rgb(209,229,240)"
            ],
            [
             0.7,
             "rgb(146,197,222)"
            ],
            [
             0.8,
             "rgb(67,147,195)"
            ],
            [
             0.9,
             "rgb(33,102,172)"
            ],
            [
             1,
             "rgb(5,48,97)"
            ]
           ],
           "sequential": [
            [
             0,
             "#440154"
            ],
            [
             0.1111111111111111,
             "#482878"
            ],
            [
             0.2222222222222222,
             "#3e4989"
            ],
            [
             0.3333333333333333,
             "#31688e"
            ],
            [
             0.4444444444444444,
             "#26828e"
            ],
            [
             0.5555555555555556,
             "#1f9e89"
            ],
            [
             0.6666666666666666,
             "#35b779"
            ],
            [
             0.7777777777777778,
             "#6ece58"
            ],
            [
             0.8888888888888888,
             "#b5de2b"
            ],
            [
             1,
             "#fde725"
            ]
           ],
           "sequentialminus": [
            [
             0,
             "#440154"
            ],
            [
             0.1111111111111111,
             "#482878"
            ],
            [
             0.2222222222222222,
             "#3e4989"
            ],
            [
             0.3333333333333333,
             "#31688e"
            ],
            [
             0.4444444444444444,
             "#26828e"
            ],
            [
             0.5555555555555556,
             "#1f9e89"
            ],
            [
             0.6666666666666666,
             "#35b779"
            ],
            [
             0.7777777777777778,
             "#6ece58"
            ],
            [
             0.8888888888888888,
             "#b5de2b"
            ],
            [
             1,
             "#fde725"
            ]
           ]
          },
          "colorway": [
           "#1F77B4",
           "#FF7F0E",
           "#2CA02C",
           "#D62728",
           "#9467BD",
           "#8C564B",
           "#E377C2",
           "#7F7F7F",
           "#BCBD22",
           "#17BECF"
          ],
          "font": {
           "color": "rgb(36,36,36)"
          },
          "geo": {
           "bgcolor": "white",
           "lakecolor": "white",
           "landcolor": "white",
           "showlakes": true,
           "showland": true,
           "subunitcolor": "white"
          },
          "hoverlabel": {
           "align": "left"
          },
          "hovermode": "closest",
          "mapbox": {
           "style": "light"
          },
          "paper_bgcolor": "white",
          "plot_bgcolor": "white",
          "polar": {
           "angularaxis": {
            "gridcolor": "rgb(232,232,232)",
            "linecolor": "rgb(36,36,36)",
            "showgrid": false,
            "showline": true,
            "ticks": "outside"
           },
           "bgcolor": "white",
           "radialaxis": {
            "gridcolor": "rgb(232,232,232)",
            "linecolor": "rgb(36,36,36)",
            "showgrid": false,
            "showline": true,
            "ticks": "outside"
           }
          },
          "scene": {
           "xaxis": {
            "backgroundcolor": "white",
            "gridcolor": "rgb(232,232,232)",
            "gridwidth": 2,
            "linecolor": "rgb(36,36,36)",
            "showbackground": true,
            "showgrid": false,
            "showline": true,
            "ticks": "outside",
            "zeroline": false,
            "zerolinecolor": "rgb(36,36,36)"
           },
           "yaxis": {
            "backgroundcolor": "white",
            "gridcolor": "rgb(232,232,232)",
            "gridwidth": 2,
            "linecolor": "rgb(36,36,36)",
            "showbackground": true,
            "showgrid": false,
            "showline": true,
            "ticks": "outside",
            "zeroline": false,
            "zerolinecolor": "rgb(36,36,36)"
           },
           "zaxis": {
            "backgroundcolor": "white",
            "gridcolor": "rgb(232,232,232)",
            "gridwidth": 2,
            "linecolor": "rgb(36,36,36)",
            "showbackground": true,
            "showgrid": false,
            "showline": true,
            "ticks": "outside",
            "zeroline": false,
            "zerolinecolor": "rgb(36,36,36)"
           }
          },
          "shapedefaults": {
           "fillcolor": "black",
           "line": {
            "width": 0
           },
           "opacity": 0.3
          },
          "ternary": {
           "aaxis": {
            "gridcolor": "rgb(232,232,232)",
            "linecolor": "rgb(36,36,36)",
            "showgrid": false,
            "showline": true,
            "ticks": "outside"
           },
           "baxis": {
            "gridcolor": "rgb(232,232,232)",
            "linecolor": "rgb(36,36,36)",
            "showgrid": false,
            "showline": true,
            "ticks": "outside"
           },
           "bgcolor": "white",
           "caxis": {
            "gridcolor": "rgb(232,232,232)",
            "linecolor": "rgb(36,36,36)",
            "showgrid": false,
            "showline": true,
            "ticks": "outside"
           }
          },
          "title": {
           "x": 0.05
          },
          "xaxis": {
           "automargin": true,
           "gridcolor": "rgb(232,232,232)",
           "linecolor": "rgb(36,36,36)",
           "showgrid": false,
           "showline": true,
           "ticks": "outside",
           "title": {
            "standoff": 15
           },
           "zeroline": false,
           "zerolinecolor": "rgb(36,36,36)"
          },
          "yaxis": {
           "automargin": true,
           "gridcolor": "rgb(232,232,232)",
           "linecolor": "rgb(36,36,36)",
           "showgrid": false,
           "showline": true,
           "ticks": "outside",
           "title": {
            "standoff": 15
           },
           "zeroline": false,
           "zerolinecolor": "rgb(36,36,36)"
          }
         }
        },
        "title": {
         "text": "Top 10 locations matching your search (lag of 3 years)"
        },
        "xaxis": {
         "title": {
          "text": "Year"
         }
        },
        "yaxis": {
         "title": {
          "text": "gdp"
         }
        }
       }
      }
     },
     "metadata": {},
     "output_type": "display_data"
    }
   ],
   "source": [
    "# if you want the full dataframe with distances, \n",
    "# you still can get this\n",
    "# it's just boring to print it all over again\n",
    "#f.find_euclidean_kins()\n",
    "#display(f.euclidean_kins)\n",
    "\n",
    "# or, you can plot the few top ranked cities:\n",
    "fig = f.show_kins_plot()"
   ]
  },
  {
   "cell_type": "code",
   "execution_count": 19,
   "metadata": {},
   "outputs": [
    {
     "ename": "AttributeError",
     "evalue": "'FipsQuery' object has no attribute 'my_array'",
     "output_type": "error",
     "traceback": [
      "\u001b[0;31m---------------------------------------------------------------------------\u001b[0m",
      "\u001b[0;31mAttributeError\u001b[0m                            Traceback (most recent call last)",
      "\u001b[1;32m/home/rafal/L2projects/cities/docs/guides/similarity_demo.ipynb Cell 23\u001b[0m line \u001b[0;36m4\n\u001b[1;32m      <a href='vscode-notebook-cell:/home/rafal/L2projects/cities/docs/guides/similarity_demo.ipynb#Y123sZmlsZQ%3D%3D?line=0'>1</a>\u001b[0m \u001b[39m# You don't want to pass outcome and are interested in similarities\u001b[39;00m\n\u001b[1;32m      <a href='vscode-notebook-cell:/home/rafal/L2projects/cities/docs/guides/similarity_demo.ipynb#Y123sZmlsZQ%3D%3D?line=2'>3</a>\u001b[0m f  \u001b[39m=\u001b[39m FipsQuery(\u001b[39m42001\u001b[39m, feature_groups_with_weights\u001b[39m=\u001b[39m {\u001b[39m\"\u001b[39m\u001b[39mpopulation\u001b[39m\u001b[39m\"\u001b[39m:\u001b[39m4\u001b[39m})\n\u001b[0;32m----> <a href='vscode-notebook-cell:/home/rafal/L2projects/cities/docs/guides/similarity_demo.ipynb#Y123sZmlsZQ%3D%3D?line=3'>4</a>\u001b[0m f\u001b[39m.\u001b[39;49mfind_euclidean_kins()\n\u001b[1;32m      <a href='vscode-notebook-cell:/home/rafal/L2projects/cities/docs/guides/similarity_demo.ipynb#Y123sZmlsZQ%3D%3D?line=4'>5</a>\u001b[0m display(f\u001b[39m.\u001b[39mplot_weights())\n\u001b[1;32m      <a href='vscode-notebook-cell:/home/rafal/L2projects/cities/docs/guides/similarity_demo.ipynb#Y123sZmlsZQ%3D%3D?line=5'>6</a>\u001b[0m display(f\u001b[39m.\u001b[39meuclidean_kins)\n",
      "File \u001b[0;32m~/L2projects/cities/cities/queries/fips_query.py:325\u001b[0m, in \u001b[0;36mFipsQuery.find_euclidean_kins\u001b[0;34m(self)\u001b[0m\n\u001b[1;32m    320\u001b[0m     \u001b[39mself\u001b[39m\u001b[39m.\u001b[39mother_arrays \u001b[39m=\u001b[39m others_features_arrays\u001b[39m.\u001b[39mcopy()\n\u001b[1;32m    322\u001b[0m \u001b[39mif\u001b[39;00m \u001b[39mself\u001b[39m\u001b[39m.\u001b[39moutcome_var \u001b[39mis\u001b[39;00m \u001b[39mNone\u001b[39;00m:\n\u001b[1;32m    323\u001b[0m     \u001b[39massert\u001b[39;00m (\n\u001b[1;32m    324\u001b[0m         feature_column_count\n\u001b[0;32m--> 325\u001b[0m         \u001b[39m==\u001b[39m \u001b[39mself\u001b[39;49m\u001b[39m.\u001b[39;49mmy_array\u001b[39m.\u001b[39mshape[\u001b[39m1\u001b[39m]\n\u001b[1;32m    326\u001b[0m         \u001b[39m==\u001b[39m \u001b[39mself\u001b[39m\u001b[39m.\u001b[39mother_arrays\u001b[39m.\u001b[39mshape[\u001b[39m1\u001b[39m]\n\u001b[1;32m    327\u001b[0m     )\n\u001b[1;32m    328\u001b[0m     \u001b[39massert\u001b[39;00m my_features_arrays\u001b[39m.\u001b[39mshape \u001b[39m==\u001b[39m \u001b[39mself\u001b[39m\u001b[39m.\u001b[39mmy_array\u001b[39m.\u001b[39mshape\n\u001b[1;32m    329\u001b[0m     \u001b[39massert\u001b[39;00m others_features_arrays\u001b[39m.\u001b[39mshape \u001b[39m==\u001b[39m \u001b[39mself\u001b[39m\u001b[39m.\u001b[39mother_arrays\u001b[39m.\u001b[39mshape\n",
      "\u001b[0;31mAttributeError\u001b[0m: 'FipsQuery' object has no attribute 'my_array'"
     ]
    }
   ],
   "source": [
    "# You don't want to pass outcome and are interested in similarities\n",
    "\n",
    "f  = FipsQuery(42001, feature_groups_with_weights= {\"population\":4})\n",
    "f.find_euclidean_kins()\n",
    "display(f.plot_weights())\n",
    "display(f.euclidean_kins)"
   ]
  }
 ],
 "metadata": {
  "kernelspec": {
   "display_name": "chirho",
   "language": "python",
   "name": "python3"
  },
  "language_info": {
   "codemirror_mode": {
    "name": "ipython",
    "version": 3
   },
   "file_extension": ".py",
   "mimetype": "text/x-python",
   "name": "python",
   "nbconvert_exporter": "python",
   "pygments_lexer": "ipython3",
   "version": "3.10.9"
  },
  "orig_nbformat": 4
 },
 "nbformat": 4,
 "nbformat_minor": 2
}
