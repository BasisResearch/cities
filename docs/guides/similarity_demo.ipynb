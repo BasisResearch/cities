{
 "cells": [
  {
   "cell_type": "code",
   "execution_count": 1,
   "metadata": {},
   "outputs": [],
   "source": [
    "# set up for continuous integration\n",
    "# can be safely ignored by the user\n",
    "import os\n",
    "\n",
    "smoke_test = \"CI\" in os.environ\n",
    "smoke_test = True\n",
    "sample_size = 10 if smoke_test else 100\n",
    "\n",
    "from cities.queries.fips_query import FipsQuery\n",
    "# proper imports\n",
    "from cities.utils.data_grabber import (DataGrabber, list_available_features,\n",
    "                                       list_interventions, list_outcomes,\n",
    "                                       list_tensed_features)"
   ]
  },
  {
   "cell_type": "markdown",
   "metadata": {},
   "source": [
    "#### How to use `FipsQuery` to ask similarity questions\n",
    "\n",
    "\n",
    "The code chunk below illustrates a basic use of `FipsQuery` class for comparing counties in terms of specified parameters and features.\n",
    "The simplest use is when we use `fips` codes to identify counties and potentially an `outcome variable` as a key variable of interest. Without running any similarity comparison, we can then just compare our recent performance to a random sample of other counties in the US. `range_multiplier` just regulates the range of the `y` axis."
   ]
  },
  {
   "cell_type": "code",
   "execution_count": 2,
   "metadata": {},
   "outputs": [
    {
     "data": {
      "application/vnd.plotly.v1+json": {
       "config": {
        "plotlyServerURL": "https://plot.ly"
       },
       "data": [
        {
         "line": {
          "color": "lightgray"
         },
         "mode": "lines",
         "name": "Nassau, FL",
         "opacity": 0.4,
         "showlegend": false,
         "text": "Nassau, FL",
         "textposition": "top right",
         "type": "scatter",
         "x": [
          2001,
          2002,
          2003,
          2004,
          2005,
          2006,
          2007,
          2008,
          2009,
          2010,
          2011,
          2013,
          2014,
          2015,
          2016,
          2017,
          2018,
          2019,
          2020,
          2021
         ],
         "y": [
          84.348,
          88.804,
          89.934,
          94.709,
          97.177,
          102.028,
          107.397,
          107.622,
          99.267,
          98.504,
          101.561,
          104.246,
          105.759,
          108.019,
          114.339,
          117.346,
          119.305,
          126.693,
          128.164,
          136.64
         ]
        },
        {
         "line": {
          "color": "lightgray"
         },
         "mode": "lines",
         "name": "Alexander, IL",
         "opacity": 0.4,
         "showlegend": false,
         "text": "Alexander, IL",
         "textposition": "top right",
         "type": "scatter",
         "x": [
          2001,
          2002,
          2003,
          2004,
          2005,
          2006,
          2007,
          2008,
          2009,
          2010,
          2011,
          2013,
          2014,
          2015,
          2016,
          2017,
          2018,
          2019,
          2020,
          2021
         ],
         "y": [
          122.268,
          122.199,
          120.857,
          122.856,
          120.099,
          126.119,
          122.273,
          147.883,
          131.969,
          134.797,
          114.1,
          103.192,
          99.72,
          103.917,
          98.098,
          98.241,
          96.2,
          102.854,
          99.934,
          93.242
         ]
        },
        {
         "line": {
          "color": "lightgray"
         },
         "mode": "lines",
         "name": "Vanderburgh, IN",
         "opacity": 0.4,
         "showlegend": false,
         "text": "Vanderburgh, IN",
         "textposition": "top right",
         "type": "scatter",
         "x": [
          2001,
          2002,
          2003,
          2004,
          2005,
          2006,
          2007,
          2008,
          2009,
          2010,
          2011,
          2013,
          2014,
          2015,
          2016,
          2017,
          2018,
          2019,
          2020,
          2021
         ],
         "y": [
          93.678,
          96.729,
          98.561,
          102.659,
          104.132,
          104.457,
          99.342,
          101.403,
          96.688,
          98.434,
          100.167,
          97.27,
          98.476,
          98.553,
          98.141,
          102.023,
          102.451,
          104.788,
          99.498,
          103.536
         ]
        },
        {
         "line": {
          "color": "lightgray"
         },
         "mode": "lines",
         "name": "Genesee, MI",
         "opacity": 0.4,
         "showlegend": false,
         "text": "Genesee, MI",
         "textposition": "top right",
         "type": "scatter",
         "x": [
          2001,
          2002,
          2003,
          2004,
          2005,
          2006,
          2007,
          2008,
          2009,
          2010,
          2011,
          2013,
          2014,
          2015,
          2016,
          2017,
          2018,
          2019,
          2020,
          2021
         ],
         "y": [
          107.748,
          113.702,
          115.568,
          115.64,
          117.224,
          115.619,
          112.807,
          102.483,
          92.666,
          97.579,
          99.226,
          102.379,
          101.619,
          106.342,
          108.81,
          110.165,
          112.842,
          114.407,
          105.839,
          113.415
         ]
        },
        {
         "line": {
          "color": "lightgray"
         },
         "mode": "lines",
         "name": "Laclede, MO",
         "opacity": 0.4,
         "showlegend": false,
         "text": "Laclede, MO",
         "textposition": "top right",
         "type": "scatter",
         "x": [
          2001,
          2002,
          2003,
          2004,
          2005,
          2006,
          2007,
          2008,
          2009,
          2010,
          2011,
          2013,
          2014,
          2015,
          2016,
          2017,
          2018,
          2019,
          2020,
          2021
         ],
         "y": [
          91.45,
          93.185,
          95.637,
          99.299,
          104.913,
          98.658,
          96.773,
          98.63,
          94.12,
          104.284,
          103.743,
          99.318,
          98.891,
          102.928,
          103.81,
          105.646,
          108.688,
          112.727,
          109.197,
          115.06
         ]
        },
        {
         "line": {
          "color": "lightgray"
         },
         "mode": "lines",
         "name": "Osage, MO",
         "opacity": 0.4,
         "showlegend": false,
         "text": "Osage, MO",
         "textposition": "top right",
         "type": "scatter",
         "x": [
          2001,
          2002,
          2003,
          2004,
          2005,
          2006,
          2007,
          2008,
          2009,
          2010,
          2011,
          2013,
          2014,
          2015,
          2016,
          2017,
          2018,
          2019,
          2020,
          2021
         ],
         "y": [
          68.5,
          71.678,
          72.689,
          85.706,
          93.572,
          96.319,
          99.912,
          99.231,
          91.443,
          95.914,
          101.749,
          104.177,
          113.195,
          126.198,
          115.65,
          109.884,
          108.611,
          109.467,
          109.816,
          116.474
         ]
        },
        {
         "line": {
          "color": "lightgray"
         },
         "mode": "lines",
         "name": "Lancaster, NE",
         "opacity": 0.4,
         "showlegend": false,
         "text": "Lancaster, NE",
         "textposition": "top right",
         "type": "scatter",
         "x": [
          2001,
          2002,
          2003,
          2004,
          2005,
          2006,
          2007,
          2008,
          2009,
          2010,
          2011,
          2013,
          2014,
          2015,
          2016,
          2017,
          2018,
          2019,
          2020,
          2021
         ],
         "y": [
          88.883,
          89.239,
          92.452,
          94.084,
          98.481,
          100.813,
          102.37,
          98.381,
          96.071,
          98.822,
          98.501,
          101.439,
          105.596,
          109.303,
          110.931,
          116.335,
          119.158,
          121.341,
          119.415,
          123.136
         ]
        },
        {
         "line": {
          "color": "lightgray"
         },
         "mode": "lines",
         "name": "Yates, NY",
         "opacity": 0.4,
         "showlegend": false,
         "text": "Yates, NY",
         "textposition": "top right",
         "type": "scatter",
         "x": [
          2001,
          2002,
          2003,
          2004,
          2005,
          2006,
          2007,
          2008,
          2009,
          2010,
          2011,
          2013,
          2014,
          2015,
          2016,
          2017,
          2018,
          2019,
          2020,
          2021
         ],
         "y": [
          80.859,
          87.365,
          86.282,
          137.433,
          122.575,
          109.323,
          94.446,
          96.308,
          93.685,
          109.275,
          99.096,
          103.012,
          96.562,
          105.558,
          105.829,
          109.521,
          107.575,
          108.174,
          105.953,
          115.449
         ]
        },
        {
         "line": {
          "color": "lightgray"
         },
         "mode": "lines",
         "name": "Winkler, TX",
         "opacity": 0.4,
         "showlegend": false,
         "text": "Winkler, TX",
         "textposition": "top right",
         "type": "scatter",
         "x": [
          2001,
          2002,
          2003,
          2004,
          2005,
          2006,
          2007,
          2008,
          2009,
          2010,
          2011,
          2013,
          2014,
          2015,
          2016,
          2017,
          2018,
          2019,
          2020,
          2021
         ],
         "y": [
          103.411,
          116.047,
          102.793,
          93.098,
          88.397,
          105.475,
          108.778,
          98.321,
          106.16,
          87.053,
          85.272,
          107.931,
          111.953,
          118.299,
          118.429,
          158.637,
          225.462,
          299.205,
          300.852,
          263.451
         ]
        },
        {
         "line": {
          "color": "lightgray"
         },
         "mode": "lines",
         "name": "Grant, WV",
         "opacity": 0.4,
         "showlegend": false,
         "text": "Grant, WV",
         "textposition": "top right",
         "type": "scatter",
         "x": [
          2001,
          2002,
          2003,
          2004,
          2005,
          2006,
          2007,
          2008,
          2009,
          2010,
          2011,
          2013,
          2014,
          2015,
          2016,
          2017,
          2018,
          2019,
          2020,
          2021
         ],
         "y": [
          109.59,
          101.036,
          96.255,
          99.519,
          93.69,
          87.536,
          90.629,
          96.106,
          99.852,
          99.803,
          100.919,
          99.138,
          97.65,
          97.046,
          99.215,
          89.899,
          82.735,
          78.288,
          82.454,
          79.669
         ]
        },
        {
         "line": {
          "color": "darkred",
          "width": 3
         },
         "mode": "lines",
         "name": "Adams, PA",
         "showlegend": false,
         "text": "Adams, PA",
         "textposition": "top right",
         "type": "scatter",
         "x": [
          2001,
          2002,
          2003,
          2004,
          2005,
          2006,
          2007,
          2008,
          2009,
          2010,
          2011,
          2013,
          2014,
          2015,
          2016,
          2017,
          2018,
          2019,
          2020,
          2021
         ],
         "y": [
          78.619,
          84.689,
          84.475,
          85.86,
          89.556,
          93.508,
          93.154,
          95.379,
          96.885,
          95.036,
          97.071,
          100.08,
          100.006,
          102.509,
          103.708,
          108.411,
          105.39,
          103.44,
          97.678,
          102.664
         ]
        }
       ],
       "layout": {
        "annotations": [
         {
          "font": {
           "color": "darkred",
           "size": 12
          },
          "showarrow": false,
          "text": "Location recent percentile: 35.04%",
          "x": 2019,
          "y": 123.1968
         }
        ],
        "template": {
         "data": {
          "bar": [
           {
            "error_x": {
             "color": "rgb(36,36,36)"
            },
            "error_y": {
             "color": "rgb(36,36,36)"
            },
            "marker": {
             "line": {
              "color": "white",
              "width": 0.5
             },
             "pattern": {
              "fillmode": "overlay",
              "size": 10,
              "solidity": 0.2
             }
            },
            "type": "bar"
           }
          ],
          "barpolar": [
           {
            "marker": {
             "line": {
              "color": "white",
              "width": 0.5
             },
             "pattern": {
              "fillmode": "overlay",
              "size": 10,
              "solidity": 0.2
             }
            },
            "type": "barpolar"
           }
          ],
          "carpet": [
           {
            "aaxis": {
             "endlinecolor": "rgb(36,36,36)",
             "gridcolor": "white",
             "linecolor": "white",
             "minorgridcolor": "white",
             "startlinecolor": "rgb(36,36,36)"
            },
            "baxis": {
             "endlinecolor": "rgb(36,36,36)",
             "gridcolor": "white",
             "linecolor": "white",
             "minorgridcolor": "white",
             "startlinecolor": "rgb(36,36,36)"
            },
            "type": "carpet"
           }
          ],
          "choropleth": [
           {
            "colorbar": {
             "outlinewidth": 1,
             "tickcolor": "rgb(36,36,36)",
             "ticks": "outside"
            },
            "type": "choropleth"
           }
          ],
          "contour": [
           {
            "colorbar": {
             "outlinewidth": 1,
             "tickcolor": "rgb(36,36,36)",
             "ticks": "outside"
            },
            "colorscale": [
             [
              0,
              "#440154"
             ],
             [
              0.1111111111111111,
              "#482878"
             ],
             [
              0.2222222222222222,
              "#3e4989"
             ],
             [
              0.3333333333333333,
              "#31688e"
             ],
             [
              0.4444444444444444,
              "#26828e"
             ],
             [
              0.5555555555555556,
              "#1f9e89"
             ],
             [
              0.6666666666666666,
              "#35b779"
             ],
             [
              0.7777777777777778,
              "#6ece58"
             ],
             [
              0.8888888888888888,
              "#b5de2b"
             ],
             [
              1,
              "#fde725"
             ]
            ],
            "type": "contour"
           }
          ],
          "contourcarpet": [
           {
            "colorbar": {
             "outlinewidth": 1,
             "tickcolor": "rgb(36,36,36)",
             "ticks": "outside"
            },
            "type": "contourcarpet"
           }
          ],
          "heatmap": [
           {
            "colorbar": {
             "outlinewidth": 1,
             "tickcolor": "rgb(36,36,36)",
             "ticks": "outside"
            },
            "colorscale": [
             [
              0,
              "#440154"
             ],
             [
              0.1111111111111111,
              "#482878"
             ],
             [
              0.2222222222222222,
              "#3e4989"
             ],
             [
              0.3333333333333333,
              "#31688e"
             ],
             [
              0.4444444444444444,
              "#26828e"
             ],
             [
              0.5555555555555556,
              "#1f9e89"
             ],
             [
              0.6666666666666666,
              "#35b779"
             ],
             [
              0.7777777777777778,
              "#6ece58"
             ],
             [
              0.8888888888888888,
              "#b5de2b"
             ],
             [
              1,
              "#fde725"
             ]
            ],
            "type": "heatmap"
           }
          ],
          "heatmapgl": [
           {
            "colorbar": {
             "outlinewidth": 1,
             "tickcolor": "rgb(36,36,36)",
             "ticks": "outside"
            },
            "colorscale": [
             [
              0,
              "#440154"
             ],
             [
              0.1111111111111111,
              "#482878"
             ],
             [
              0.2222222222222222,
              "#3e4989"
             ],
             [
              0.3333333333333333,
              "#31688e"
             ],
             [
              0.4444444444444444,
              "#26828e"
             ],
             [
              0.5555555555555556,
              "#1f9e89"
             ],
             [
              0.6666666666666666,
              "#35b779"
             ],
             [
              0.7777777777777778,
              "#6ece58"
             ],
             [
              0.8888888888888888,
              "#b5de2b"
             ],
             [
              1,
              "#fde725"
             ]
            ],
            "type": "heatmapgl"
           }
          ],
          "histogram": [
           {
            "marker": {
             "line": {
              "color": "white",
              "width": 0.6
             }
            },
            "type": "histogram"
           }
          ],
          "histogram2d": [
           {
            "colorbar": {
             "outlinewidth": 1,
             "tickcolor": "rgb(36,36,36)",
             "ticks": "outside"
            },
            "colorscale": [
             [
              0,
              "#440154"
             ],
             [
              0.1111111111111111,
              "#482878"
             ],
             [
              0.2222222222222222,
              "#3e4989"
             ],
             [
              0.3333333333333333,
              "#31688e"
             ],
             [
              0.4444444444444444,
              "#26828e"
             ],
             [
              0.5555555555555556,
              "#1f9e89"
             ],
             [
              0.6666666666666666,
              "#35b779"
             ],
             [
              0.7777777777777778,
              "#6ece58"
             ],
             [
              0.8888888888888888,
              "#b5de2b"
             ],
             [
              1,
              "#fde725"
             ]
            ],
            "type": "histogram2d"
           }
          ],
          "histogram2dcontour": [
           {
            "colorbar": {
             "outlinewidth": 1,
             "tickcolor": "rgb(36,36,36)",
             "ticks": "outside"
            },
            "colorscale": [
             [
              0,
              "#440154"
             ],
             [
              0.1111111111111111,
              "#482878"
             ],
             [
              0.2222222222222222,
              "#3e4989"
             ],
             [
              0.3333333333333333,
              "#31688e"
             ],
             [
              0.4444444444444444,
              "#26828e"
             ],
             [
              0.5555555555555556,
              "#1f9e89"
             ],
             [
              0.6666666666666666,
              "#35b779"
             ],
             [
              0.7777777777777778,
              "#6ece58"
             ],
             [
              0.8888888888888888,
              "#b5de2b"
             ],
             [
              1,
              "#fde725"
             ]
            ],
            "type": "histogram2dcontour"
           }
          ],
          "mesh3d": [
           {
            "colorbar": {
             "outlinewidth": 1,
             "tickcolor": "rgb(36,36,36)",
             "ticks": "outside"
            },
            "type": "mesh3d"
           }
          ],
          "parcoords": [
           {
            "line": {
             "colorbar": {
              "outlinewidth": 1,
              "tickcolor": "rgb(36,36,36)",
              "ticks": "outside"
             }
            },
            "type": "parcoords"
           }
          ],
          "pie": [
           {
            "automargin": true,
            "type": "pie"
           }
          ],
          "scatter": [
           {
            "fillpattern": {
             "fillmode": "overlay",
             "size": 10,
             "solidity": 0.2
            },
            "type": "scatter"
           }
          ],
          "scatter3d": [
           {
            "line": {
             "colorbar": {
              "outlinewidth": 1,
              "tickcolor": "rgb(36,36,36)",
              "ticks": "outside"
             }
            },
            "marker": {
             "colorbar": {
              "outlinewidth": 1,
              "tickcolor": "rgb(36,36,36)",
              "ticks": "outside"
             }
            },
            "type": "scatter3d"
           }
          ],
          "scattercarpet": [
           {
            "marker": {
             "colorbar": {
              "outlinewidth": 1,
              "tickcolor": "rgb(36,36,36)",
              "ticks": "outside"
             }
            },
            "type": "scattercarpet"
           }
          ],
          "scattergeo": [
           {
            "marker": {
             "colorbar": {
              "outlinewidth": 1,
              "tickcolor": "rgb(36,36,36)",
              "ticks": "outside"
             }
            },
            "type": "scattergeo"
           }
          ],
          "scattergl": [
           {
            "marker": {
             "colorbar": {
              "outlinewidth": 1,
              "tickcolor": "rgb(36,36,36)",
              "ticks": "outside"
             }
            },
            "type": "scattergl"
           }
          ],
          "scattermapbox": [
           {
            "marker": {
             "colorbar": {
              "outlinewidth": 1,
              "tickcolor": "rgb(36,36,36)",
              "ticks": "outside"
             }
            },
            "type": "scattermapbox"
           }
          ],
          "scatterpolar": [
           {
            "marker": {
             "colorbar": {
              "outlinewidth": 1,
              "tickcolor": "rgb(36,36,36)",
              "ticks": "outside"
             }
            },
            "type": "scatterpolar"
           }
          ],
          "scatterpolargl": [
           {
            "marker": {
             "colorbar": {
              "outlinewidth": 1,
              "tickcolor": "rgb(36,36,36)",
              "ticks": "outside"
             }
            },
            "type": "scatterpolargl"
           }
          ],
          "scatterternary": [
           {
            "marker": {
             "colorbar": {
              "outlinewidth": 1,
              "tickcolor": "rgb(36,36,36)",
              "ticks": "outside"
             }
            },
            "type": "scatterternary"
           }
          ],
          "surface": [
           {
            "colorbar": {
             "outlinewidth": 1,
             "tickcolor": "rgb(36,36,36)",
             "ticks": "outside"
            },
            "colorscale": [
             [
              0,
              "#440154"
             ],
             [
              0.1111111111111111,
              "#482878"
             ],
             [
              0.2222222222222222,
              "#3e4989"
             ],
             [
              0.3333333333333333,
              "#31688e"
             ],
             [
              0.4444444444444444,
              "#26828e"
             ],
             [
              0.5555555555555556,
              "#1f9e89"
             ],
             [
              0.6666666666666666,
              "#35b779"
             ],
             [
              0.7777777777777778,
              "#6ece58"
             ],
             [
              0.8888888888888888,
              "#b5de2b"
             ],
             [
              1,
              "#fde725"
             ]
            ],
            "type": "surface"
           }
          ],
          "table": [
           {
            "cells": {
             "fill": {
              "color": "rgb(237,237,237)"
             },
             "line": {
              "color": "white"
             }
            },
            "header": {
             "fill": {
              "color": "rgb(217,217,217)"
             },
             "line": {
              "color": "white"
             }
            },
            "type": "table"
           }
          ]
         },
         "layout": {
          "annotationdefaults": {
           "arrowhead": 0,
           "arrowwidth": 1
          },
          "autotypenumbers": "strict",
          "coloraxis": {
           "colorbar": {
            "outlinewidth": 1,
            "tickcolor": "rgb(36,36,36)",
            "ticks": "outside"
           }
          },
          "colorscale": {
           "diverging": [
            [
             0,
             "rgb(103,0,31)"
            ],
            [
             0.1,
             "rgb(178,24,43)"
            ],
            [
             0.2,
             "rgb(214,96,77)"
            ],
            [
             0.3,
             "rgb(244,165,130)"
            ],
            [
             0.4,
             "rgb(253,219,199)"
            ],
            [
             0.5,
             "rgb(247,247,247)"
            ],
            [
             0.6,
             "rgb(209,229,240)"
            ],
            [
             0.7,
             "rgb(146,197,222)"
            ],
            [
             0.8,
             "rgb(67,147,195)"
            ],
            [
             0.9,
             "rgb(33,102,172)"
            ],
            [
             1,
             "rgb(5,48,97)"
            ]
           ],
           "sequential": [
            [
             0,
             "#440154"
            ],
            [
             0.1111111111111111,
             "#482878"
            ],
            [
             0.2222222222222222,
             "#3e4989"
            ],
            [
             0.3333333333333333,
             "#31688e"
            ],
            [
             0.4444444444444444,
             "#26828e"
            ],
            [
             0.5555555555555556,
             "#1f9e89"
            ],
            [
             0.6666666666666666,
             "#35b779"
            ],
            [
             0.7777777777777778,
             "#6ece58"
            ],
            [
             0.8888888888888888,
             "#b5de2b"
            ],
            [
             1,
             "#fde725"
            ]
           ],
           "sequentialminus": [
            [
             0,
             "#440154"
            ],
            [
             0.1111111111111111,
             "#482878"
            ],
            [
             0.2222222222222222,
             "#3e4989"
            ],
            [
             0.3333333333333333,
             "#31688e"
            ],
            [
             0.4444444444444444,
             "#26828e"
            ],
            [
             0.5555555555555556,
             "#1f9e89"
            ],
            [
             0.6666666666666666,
             "#35b779"
            ],
            [
             0.7777777777777778,
             "#6ece58"
            ],
            [
             0.8888888888888888,
             "#b5de2b"
            ],
            [
             1,
             "#fde725"
            ]
           ]
          },
          "colorway": [
           "#1F77B4",
           "#FF7F0E",
           "#2CA02C",
           "#D62728",
           "#9467BD",
           "#8C564B",
           "#E377C2",
           "#7F7F7F",
           "#BCBD22",
           "#17BECF"
          ],
          "font": {
           "color": "rgb(36,36,36)"
          },
          "geo": {
           "bgcolor": "white",
           "lakecolor": "white",
           "landcolor": "white",
           "showlakes": true,
           "showland": true,
           "subunitcolor": "white"
          },
          "hoverlabel": {
           "align": "left"
          },
          "hovermode": "closest",
          "mapbox": {
           "style": "light"
          },
          "paper_bgcolor": "white",
          "plot_bgcolor": "white",
          "polar": {
           "angularaxis": {
            "gridcolor": "rgb(232,232,232)",
            "linecolor": "rgb(36,36,36)",
            "showgrid": false,
            "showline": true,
            "ticks": "outside"
           },
           "bgcolor": "white",
           "radialaxis": {
            "gridcolor": "rgb(232,232,232)",
            "linecolor": "rgb(36,36,36)",
            "showgrid": false,
            "showline": true,
            "ticks": "outside"
           }
          },
          "scene": {
           "xaxis": {
            "backgroundcolor": "white",
            "gridcolor": "rgb(232,232,232)",
            "gridwidth": 2,
            "linecolor": "rgb(36,36,36)",
            "showbackground": true,
            "showgrid": false,
            "showline": true,
            "ticks": "outside",
            "zeroline": false,
            "zerolinecolor": "rgb(36,36,36)"
           },
           "yaxis": {
            "backgroundcolor": "white",
            "gridcolor": "rgb(232,232,232)",
            "gridwidth": 2,
            "linecolor": "rgb(36,36,36)",
            "showbackground": true,
            "showgrid": false,
            "showline": true,
            "ticks": "outside",
            "zeroline": false,
            "zerolinecolor": "rgb(36,36,36)"
           },
           "zaxis": {
            "backgroundcolor": "white",
            "gridcolor": "rgb(232,232,232)",
            "gridwidth": 2,
            "linecolor": "rgb(36,36,36)",
            "showbackground": true,
            "showgrid": false,
            "showline": true,
            "ticks": "outside",
            "zeroline": false,
            "zerolinecolor": "rgb(36,36,36)"
           }
          },
          "shapedefaults": {
           "fillcolor": "black",
           "line": {
            "width": 0
           },
           "opacity": 0.3
          },
          "ternary": {
           "aaxis": {
            "gridcolor": "rgb(232,232,232)",
            "linecolor": "rgb(36,36,36)",
            "showgrid": false,
            "showline": true,
            "ticks": "outside"
           },
           "baxis": {
            "gridcolor": "rgb(232,232,232)",
            "linecolor": "rgb(36,36,36)",
            "showgrid": false,
            "showline": true,
            "ticks": "outside"
           },
           "bgcolor": "white",
           "caxis": {
            "gridcolor": "rgb(232,232,232)",
            "linecolor": "rgb(36,36,36)",
            "showgrid": false,
            "showline": true,
            "ticks": "outside"
           }
          },
          "title": {
           "x": 0.05
          },
          "xaxis": {
           "automargin": true,
           "gridcolor": "rgb(232,232,232)",
           "linecolor": "rgb(36,36,36)",
           "showgrid": false,
           "showline": true,
           "ticks": "outside",
           "title": {
            "standoff": 15
           },
           "zeroline": false,
           "zerolinecolor": "rgb(36,36,36)"
          },
          "yaxis": {
           "automargin": true,
           "gridcolor": "rgb(232,232,232)",
           "linecolor": "rgb(36,36,36)",
           "showgrid": false,
           "showline": true,
           "ticks": "outside",
           "title": {
            "standoff": 15
           },
           "zeroline": false,
           "zerolinecolor": "rgb(36,36,36)"
          }
         }
        },
        "title": {
         "text": "gdp of Adams, PA, compared to 10 random other locations"
        },
        "xaxis": {
         "title": {
          "text": "Year"
         }
        },
        "yaxis": {
         "range": [
          16.30676909360986,
          175.50503090639015
         ],
         "title": {
          "text": "gdp"
         }
        }
       }
      }
     },
     "metadata": {},
     "output_type": "display_data"
    }
   ],
   "source": [
    "f = FipsQuery(42001, \"gdp\")\n",
    "f.compare_my_outcome_to_others(sample_size=sample_size, range_multiplier=10)"
   ]
  },
  {
   "cell_type": "markdown",
   "metadata": {},
   "source": [
    "We can also specify feature class weights to variables (such as `gdp`, or `population`) or sets of variables (such as `ethnic composition` or `urbanization`). Feature weights, ranging from $-4$ to $4$, are assigned to influence the impact of each feature (or class of features) on the final similarity score, where negative values represent us actually interested in dissimilarity in a given aspect. Once we instantiate a query, we run the calculations and inspect the results. \n",
    "\n",
    "The plot represents weights assigned to the specified variables. Notice that they are not uniformly distributed across the years (in case of time series), they intentionally assign higher weights to more recent years. The decay is exponential and can be regulated (if set to `1`, all available years will be given equal weights). "
   ]
  },
  {
   "cell_type": "code",
   "execution_count": 3,
   "metadata": {},
   "outputs": [
    {
     "data": {
      "application/vnd.plotly.v1+json": {
       "config": {
        "plotlyServerURL": "https://plot.ly"
       },
       "data": [
        {
         "type": "bar",
         "x": [
          "2001_gdp",
          "2002_gdp",
          "2003_gdp",
          "2004_gdp",
          "2005_gdp",
          "2006_gdp",
          "2007_gdp",
          "2008_gdp",
          "2009_gdp",
          "2010_gdp",
          "2011_gdp",
          "2013_gdp",
          "2014_gdp",
          "2015_gdp",
          "2016_gdp",
          "2017_gdp",
          "2018_gdp",
          "2019_gdp",
          "2020_gdp",
          "2021_gdp",
          "1993_population",
          "1994_population",
          "1995_population",
          "1996_population",
          "1997_population",
          "1998_population",
          "1999_population",
          "2000_population",
          "2001_population",
          "2002_population",
          "2003_population",
          "2004_population",
          "2005_population",
          "2006_population",
          "2007_population",
          "2008_population",
          "2009_population",
          "2010_population",
          "2011_population",
          "2012_population",
          "2013_population",
          "2014_population",
          "2015_population",
          "2016_population",
          "2017_population",
          "2018_population",
          "2019_population",
          "2020_population",
          "2021_population",
          "mexican_ethnic_composition",
          "puerto_rican_ethnic_composition",
          "cuban_ethnic_composition",
          "other_hispanic_latino_ethnic_composition",
          "white_ethnic_composition",
          "black_african_american_ethnic_composition",
          "american_indian_alaska_native_ethnic_composition",
          "asian_ethnic_composition",
          "native_hawaiian_other_pacific_islander_ethnic_composition",
          "other_race_races_ethnic_composition"
         ],
         "y": [
          0.109261044115753,
          0.11800192764501324,
          0.12744208185661432,
          0.13763744840514347,
          0.14864844427755494,
          0.16054031981975936,
          0.17338354540534012,
          0.18725422903776737,
          0.20223456736078874,
          0.21841333274965186,
          0.23588639936962402,
          0.25475731131919394,
          0.2751378962247295,
          0.2971489279227079,
          0.32092084215652456,
          0.3465945095290465,
          0.37432207029137027,
          0.4042678359146799,
          0.4366092627878543,
          0.4715380038108827,
          0.01923707007112728,
          0.020776035676817465,
          0.022438118530962864,
          0.02423316801343989,
          0.026171821454515087,
          0.028265567170876298,
          0.0305268125445464,
          0.03296895754811012,
          0.03560647415195893,
          0.038454992084115645,
          0.041531391450844904,
          0.04485390276691249,
          0.048442214988265495,
          0.05231759218732674,
          0.05650299956231288,
          0.061023239527297914,
          0.06590509868948176,
          0.07117750658464031,
          0.07687170711141153,
          0.08302144368032445,
          0.08966315917475041,
          0.09683621190873046,
          0.10458310886142891,
          0.11294975757034321,
          0.12198573817597069,
          0.13174459723004836,
          0.14228416500845223,
          0.15366689820912843,
          0.1659602500658587,
          0.3,
          0.3,
          0.3,
          0.3,
          0.3,
          0.3,
          0.3,
          0.3,
          0.3,
          0.3
         ]
        }
       ],
       "layout": {
        "template": {
         "data": {
          "bar": [
           {
            "error_x": {
             "color": "#2a3f5f"
            },
            "error_y": {
             "color": "#2a3f5f"
            },
            "marker": {
             "line": {
              "color": "white",
              "width": 0.5
             },
             "pattern": {
              "fillmode": "overlay",
              "size": 10,
              "solidity": 0.2
             }
            },
            "type": "bar"
           }
          ],
          "barpolar": [
           {
            "marker": {
             "line": {
              "color": "white",
              "width": 0.5
             },
             "pattern": {
              "fillmode": "overlay",
              "size": 10,
              "solidity": 0.2
             }
            },
            "type": "barpolar"
           }
          ],
          "carpet": [
           {
            "aaxis": {
             "endlinecolor": "#2a3f5f",
             "gridcolor": "#C8D4E3",
             "linecolor": "#C8D4E3",
             "minorgridcolor": "#C8D4E3",
             "startlinecolor": "#2a3f5f"
            },
            "baxis": {
             "endlinecolor": "#2a3f5f",
             "gridcolor": "#C8D4E3",
             "linecolor": "#C8D4E3",
             "minorgridcolor": "#C8D4E3",
             "startlinecolor": "#2a3f5f"
            },
            "type": "carpet"
           }
          ],
          "choropleth": [
           {
            "colorbar": {
             "outlinewidth": 0,
             "ticks": ""
            },
            "type": "choropleth"
           }
          ],
          "contour": [
           {
            "colorbar": {
             "outlinewidth": 0,
             "ticks": ""
            },
            "colorscale": [
             [
              0,
              "#0d0887"
             ],
             [
              0.1111111111111111,
              "#46039f"
             ],
             [
              0.2222222222222222,
              "#7201a8"
             ],
             [
              0.3333333333333333,
              "#9c179e"
             ],
             [
              0.4444444444444444,
              "#bd3786"
             ],
             [
              0.5555555555555556,
              "#d8576b"
             ],
             [
              0.6666666666666666,
              "#ed7953"
             ],
             [
              0.7777777777777778,
              "#fb9f3a"
             ],
             [
              0.8888888888888888,
              "#fdca26"
             ],
             [
              1,
              "#f0f921"
             ]
            ],
            "type": "contour"
           }
          ],
          "contourcarpet": [
           {
            "colorbar": {
             "outlinewidth": 0,
             "ticks": ""
            },
            "type": "contourcarpet"
           }
          ],
          "heatmap": [
           {
            "colorbar": {
             "outlinewidth": 0,
             "ticks": ""
            },
            "colorscale": [
             [
              0,
              "#0d0887"
             ],
             [
              0.1111111111111111,
              "#46039f"
             ],
             [
              0.2222222222222222,
              "#7201a8"
             ],
             [
              0.3333333333333333,
              "#9c179e"
             ],
             [
              0.4444444444444444,
              "#bd3786"
             ],
             [
              0.5555555555555556,
              "#d8576b"
             ],
             [
              0.6666666666666666,
              "#ed7953"
             ],
             [
              0.7777777777777778,
              "#fb9f3a"
             ],
             [
              0.8888888888888888,
              "#fdca26"
             ],
             [
              1,
              "#f0f921"
             ]
            ],
            "type": "heatmap"
           }
          ],
          "heatmapgl": [
           {
            "colorbar": {
             "outlinewidth": 0,
             "ticks": ""
            },
            "colorscale": [
             [
              0,
              "#0d0887"
             ],
             [
              0.1111111111111111,
              "#46039f"
             ],
             [
              0.2222222222222222,
              "#7201a8"
             ],
             [
              0.3333333333333333,
              "#9c179e"
             ],
             [
              0.4444444444444444,
              "#bd3786"
             ],
             [
              0.5555555555555556,
              "#d8576b"
             ],
             [
              0.6666666666666666,
              "#ed7953"
             ],
             [
              0.7777777777777778,
              "#fb9f3a"
             ],
             [
              0.8888888888888888,
              "#fdca26"
             ],
             [
              1,
              "#f0f921"
             ]
            ],
            "type": "heatmapgl"
           }
          ],
          "histogram": [
           {
            "marker": {
             "pattern": {
              "fillmode": "overlay",
              "size": 10,
              "solidity": 0.2
             }
            },
            "type": "histogram"
           }
          ],
          "histogram2d": [
           {
            "colorbar": {
             "outlinewidth": 0,
             "ticks": ""
            },
            "colorscale": [
             [
              0,
              "#0d0887"
             ],
             [
              0.1111111111111111,
              "#46039f"
             ],
             [
              0.2222222222222222,
              "#7201a8"
             ],
             [
              0.3333333333333333,
              "#9c179e"
             ],
             [
              0.4444444444444444,
              "#bd3786"
             ],
             [
              0.5555555555555556,
              "#d8576b"
             ],
             [
              0.6666666666666666,
              "#ed7953"
             ],
             [
              0.7777777777777778,
              "#fb9f3a"
             ],
             [
              0.8888888888888888,
              "#fdca26"
             ],
             [
              1,
              "#f0f921"
             ]
            ],
            "type": "histogram2d"
           }
          ],
          "histogram2dcontour": [
           {
            "colorbar": {
             "outlinewidth": 0,
             "ticks": ""
            },
            "colorscale": [
             [
              0,
              "#0d0887"
             ],
             [
              0.1111111111111111,
              "#46039f"
             ],
             [
              0.2222222222222222,
              "#7201a8"
             ],
             [
              0.3333333333333333,
              "#9c179e"
             ],
             [
              0.4444444444444444,
              "#bd3786"
             ],
             [
              0.5555555555555556,
              "#d8576b"
             ],
             [
              0.6666666666666666,
              "#ed7953"
             ],
             [
              0.7777777777777778,
              "#fb9f3a"
             ],
             [
              0.8888888888888888,
              "#fdca26"
             ],
             [
              1,
              "#f0f921"
             ]
            ],
            "type": "histogram2dcontour"
           }
          ],
          "mesh3d": [
           {
            "colorbar": {
             "outlinewidth": 0,
             "ticks": ""
            },
            "type": "mesh3d"
           }
          ],
          "parcoords": [
           {
            "line": {
             "colorbar": {
              "outlinewidth": 0,
              "ticks": ""
             }
            },
            "type": "parcoords"
           }
          ],
          "pie": [
           {
            "automargin": true,
            "type": "pie"
           }
          ],
          "scatter": [
           {
            "fillpattern": {
             "fillmode": "overlay",
             "size": 10,
             "solidity": 0.2
            },
            "type": "scatter"
           }
          ],
          "scatter3d": [
           {
            "line": {
             "colorbar": {
              "outlinewidth": 0,
              "ticks": ""
             }
            },
            "marker": {
             "colorbar": {
              "outlinewidth": 0,
              "ticks": ""
             }
            },
            "type": "scatter3d"
           }
          ],
          "scattercarpet": [
           {
            "marker": {
             "colorbar": {
              "outlinewidth": 0,
              "ticks": ""
             }
            },
            "type": "scattercarpet"
           }
          ],
          "scattergeo": [
           {
            "marker": {
             "colorbar": {
              "outlinewidth": 0,
              "ticks": ""
             }
            },
            "type": "scattergeo"
           }
          ],
          "scattergl": [
           {
            "marker": {
             "colorbar": {
              "outlinewidth": 0,
              "ticks": ""
             }
            },
            "type": "scattergl"
           }
          ],
          "scattermapbox": [
           {
            "marker": {
             "colorbar": {
              "outlinewidth": 0,
              "ticks": ""
             }
            },
            "type": "scattermapbox"
           }
          ],
          "scatterpolar": [
           {
            "marker": {
             "colorbar": {
              "outlinewidth": 0,
              "ticks": ""
             }
            },
            "type": "scatterpolar"
           }
          ],
          "scatterpolargl": [
           {
            "marker": {
             "colorbar": {
              "outlinewidth": 0,
              "ticks": ""
             }
            },
            "type": "scatterpolargl"
           }
          ],
          "scatterternary": [
           {
            "marker": {
             "colorbar": {
              "outlinewidth": 0,
              "ticks": ""
             }
            },
            "type": "scatterternary"
           }
          ],
          "surface": [
           {
            "colorbar": {
             "outlinewidth": 0,
             "ticks": ""
            },
            "colorscale": [
             [
              0,
              "#0d0887"
             ],
             [
              0.1111111111111111,
              "#46039f"
             ],
             [
              0.2222222222222222,
              "#7201a8"
             ],
             [
              0.3333333333333333,
              "#9c179e"
             ],
             [
              0.4444444444444444,
              "#bd3786"
             ],
             [
              0.5555555555555556,
              "#d8576b"
             ],
             [
              0.6666666666666666,
              "#ed7953"
             ],
             [
              0.7777777777777778,
              "#fb9f3a"
             ],
             [
              0.8888888888888888,
              "#fdca26"
             ],
             [
              1,
              "#f0f921"
             ]
            ],
            "type": "surface"
           }
          ],
          "table": [
           {
            "cells": {
             "fill": {
              "color": "#EBF0F8"
             },
             "line": {
              "color": "white"
             }
            },
            "header": {
             "fill": {
              "color": "#C8D4E3"
             },
             "line": {
              "color": "white"
             }
            },
            "type": "table"
           }
          ]
         },
         "layout": {
          "annotationdefaults": {
           "arrowcolor": "#2a3f5f",
           "arrowhead": 0,
           "arrowwidth": 1
          },
          "autotypenumbers": "strict",
          "coloraxis": {
           "colorbar": {
            "outlinewidth": 0,
            "ticks": ""
           }
          },
          "colorscale": {
           "diverging": [
            [
             0,
             "#8e0152"
            ],
            [
             0.1,
             "#c51b7d"
            ],
            [
             0.2,
             "#de77ae"
            ],
            [
             0.3,
             "#f1b6da"
            ],
            [
             0.4,
             "#fde0ef"
            ],
            [
             0.5,
             "#f7f7f7"
            ],
            [
             0.6,
             "#e6f5d0"
            ],
            [
             0.7,
             "#b8e186"
            ],
            [
             0.8,
             "#7fbc41"
            ],
            [
             0.9,
             "#4d9221"
            ],
            [
             1,
             "#276419"
            ]
           ],
           "sequential": [
            [
             0,
             "#0d0887"
            ],
            [
             0.1111111111111111,
             "#46039f"
            ],
            [
             0.2222222222222222,
             "#7201a8"
            ],
            [
             0.3333333333333333,
             "#9c179e"
            ],
            [
             0.4444444444444444,
             "#bd3786"
            ],
            [
             0.5555555555555556,
             "#d8576b"
            ],
            [
             0.6666666666666666,
             "#ed7953"
            ],
            [
             0.7777777777777778,
             "#fb9f3a"
            ],
            [
             0.8888888888888888,
             "#fdca26"
            ],
            [
             1,
             "#f0f921"
            ]
           ],
           "sequentialminus": [
            [
             0,
             "#0d0887"
            ],
            [
             0.1111111111111111,
             "#46039f"
            ],
            [
             0.2222222222222222,
             "#7201a8"
            ],
            [
             0.3333333333333333,
             "#9c179e"
            ],
            [
             0.4444444444444444,
             "#bd3786"
            ],
            [
             0.5555555555555556,
             "#d8576b"
            ],
            [
             0.6666666666666666,
             "#ed7953"
            ],
            [
             0.7777777777777778,
             "#fb9f3a"
            ],
            [
             0.8888888888888888,
             "#fdca26"
            ],
            [
             1,
             "#f0f921"
            ]
           ]
          },
          "colorway": [
           "#636efa",
           "#EF553B",
           "#00cc96",
           "#ab63fa",
           "#FFA15A",
           "#19d3f3",
           "#FF6692",
           "#B6E880",
           "#FF97FF",
           "#FECB52"
          ],
          "font": {
           "color": "#2a3f5f"
          },
          "geo": {
           "bgcolor": "white",
           "lakecolor": "white",
           "landcolor": "white",
           "showlakes": true,
           "showland": true,
           "subunitcolor": "#C8D4E3"
          },
          "hoverlabel": {
           "align": "left"
          },
          "hovermode": "closest",
          "mapbox": {
           "style": "light"
          },
          "paper_bgcolor": "white",
          "plot_bgcolor": "white",
          "polar": {
           "angularaxis": {
            "gridcolor": "#EBF0F8",
            "linecolor": "#EBF0F8",
            "ticks": ""
           },
           "bgcolor": "white",
           "radialaxis": {
            "gridcolor": "#EBF0F8",
            "linecolor": "#EBF0F8",
            "ticks": ""
           }
          },
          "scene": {
           "xaxis": {
            "backgroundcolor": "white",
            "gridcolor": "#DFE8F3",
            "gridwidth": 2,
            "linecolor": "#EBF0F8",
            "showbackground": true,
            "ticks": "",
            "zerolinecolor": "#EBF0F8"
           },
           "yaxis": {
            "backgroundcolor": "white",
            "gridcolor": "#DFE8F3",
            "gridwidth": 2,
            "linecolor": "#EBF0F8",
            "showbackground": true,
            "ticks": "",
            "zerolinecolor": "#EBF0F8"
           },
           "zaxis": {
            "backgroundcolor": "white",
            "gridcolor": "#DFE8F3",
            "gridwidth": 2,
            "linecolor": "#EBF0F8",
            "showbackground": true,
            "ticks": "",
            "zerolinecolor": "#EBF0F8"
           }
          },
          "shapedefaults": {
           "line": {
            "color": "#2a3f5f"
           }
          },
          "ternary": {
           "aaxis": {
            "gridcolor": "#DFE8F3",
            "linecolor": "#A2B1C6",
            "ticks": ""
           },
           "baxis": {
            "gridcolor": "#DFE8F3",
            "linecolor": "#A2B1C6",
            "ticks": ""
           },
           "bgcolor": "white",
           "caxis": {
            "gridcolor": "#DFE8F3",
            "linecolor": "#A2B1C6",
            "ticks": ""
           }
          },
          "title": {
           "x": 0.05
          },
          "xaxis": {
           "automargin": true,
           "gridcolor": "#EBF0F8",
           "linecolor": "#EBF0F8",
           "ticks": "",
           "title": {
            "standoff": 15
           },
           "zerolinecolor": "#EBF0F8",
           "zerolinewidth": 2
          },
          "yaxis": {
           "automargin": true,
           "gridcolor": "#EBF0F8",
           "linecolor": "#EBF0F8",
           "ticks": "",
           "title": {
            "standoff": 15
           },
           "zerolinecolor": "#EBF0F8",
           "zerolinewidth": 2
          }
         }
        },
        "title": {
         "text": "Weights of columns"
        },
        "xaxis": {
         "title": {
          "text": "columns"
         }
        },
        "yaxis": {
         "title": {
          "text": "weights"
         }
        }
       }
      }
     },
     "metadata": {},
     "output_type": "display_data"
    },
    {
     "data": {
      "text/html": [
       "<div>\n",
       "<style scoped>\n",
       "    .dataframe tbody tr th:only-of-type {\n",
       "        vertical-align: middle;\n",
       "    }\n",
       "\n",
       "    .dataframe tbody tr th {\n",
       "        vertical-align: top;\n",
       "    }\n",
       "\n",
       "    .dataframe thead th {\n",
       "        text-align: right;\n",
       "    }\n",
       "</style>\n",
       "<table border=\"1\" class=\"dataframe\">\n",
       "  <thead>\n",
       "    <tr style=\"text-align: right;\">\n",
       "      <th></th>\n",
       "      <th>GeoFIPS</th>\n",
       "      <th>GeoName</th>\n",
       "      <th>2001</th>\n",
       "      <th>2002</th>\n",
       "      <th>2003</th>\n",
       "      <th>2004</th>\n",
       "      <th>2005</th>\n",
       "      <th>2006</th>\n",
       "      <th>2007</th>\n",
       "      <th>2008</th>\n",
       "      <th>...</th>\n",
       "      <th>cuban_ethnic_composition</th>\n",
       "      <th>other_hispanic_latino_ethnic_composition</th>\n",
       "      <th>white_ethnic_composition</th>\n",
       "      <th>black_african_american_ethnic_composition</th>\n",
       "      <th>american_indian_alaska_native_ethnic_composition</th>\n",
       "      <th>asian_ethnic_composition</th>\n",
       "      <th>native_hawaiian_other_pacific_islander_ethnic_composition</th>\n",
       "      <th>other_race_races_ethnic_composition</th>\n",
       "      <th>distance to 42001</th>\n",
       "      <th>percentile</th>\n",
       "    </tr>\n",
       "  </thead>\n",
       "  <tbody>\n",
       "    <tr>\n",
       "      <th>0</th>\n",
       "      <td>42001</td>\n",
       "      <td>Adams, PA</td>\n",
       "      <td>78.619</td>\n",
       "      <td>84.689</td>\n",
       "      <td>84.475</td>\n",
       "      <td>85.860</td>\n",
       "      <td>89.556</td>\n",
       "      <td>93.508</td>\n",
       "      <td>93.154</td>\n",
       "      <td>95.379</td>\n",
       "      <td>...</td>\n",
       "      <td>0.001282</td>\n",
       "      <td>0.007294</td>\n",
       "      <td>0.441782</td>\n",
       "      <td>0.006836</td>\n",
       "      <td>0.000361</td>\n",
       "      <td>0.003772</td>\n",
       "      <td>0.000024</td>\n",
       "      <td>0.010845</td>\n",
       "      <td>0.000000</td>\n",
       "      <td>35.04</td>\n",
       "    </tr>\n",
       "    <tr>\n",
       "      <th>1</th>\n",
       "      <td>55111</td>\n",
       "      <td>Sauk, WI</td>\n",
       "      <td>82.875</td>\n",
       "      <td>84.592</td>\n",
       "      <td>88.181</td>\n",
       "      <td>95.186</td>\n",
       "      <td>97.049</td>\n",
       "      <td>95.672</td>\n",
       "      <td>94.922</td>\n",
       "      <td>93.953</td>\n",
       "      <td>...</td>\n",
       "      <td>0.000160</td>\n",
       "      <td>0.004616</td>\n",
       "      <td>0.448913</td>\n",
       "      <td>0.004004</td>\n",
       "      <td>0.005724</td>\n",
       "      <td>0.002415</td>\n",
       "      <td>0.000000</td>\n",
       "      <td>0.010867</td>\n",
       "      <td>0.089310</td>\n",
       "      <td>50.75</td>\n",
       "    </tr>\n",
       "    <tr>\n",
       "      <th>2</th>\n",
       "      <td>29213</td>\n",
       "      <td>Taney, MO</td>\n",
       "      <td>83.682</td>\n",
       "      <td>84.756</td>\n",
       "      <td>85.324</td>\n",
       "      <td>83.514</td>\n",
       "      <td>88.412</td>\n",
       "      <td>89.617</td>\n",
       "      <td>95.733</td>\n",
       "      <td>95.833</td>\n",
       "      <td>...</td>\n",
       "      <td>0.000116</td>\n",
       "      <td>0.007869</td>\n",
       "      <td>0.439593</td>\n",
       "      <td>0.008782</td>\n",
       "      <td>0.002515</td>\n",
       "      <td>0.003151</td>\n",
       "      <td>0.000045</td>\n",
       "      <td>0.014430</td>\n",
       "      <td>0.090979</td>\n",
       "      <td>43.43</td>\n",
       "    </tr>\n",
       "    <tr>\n",
       "      <th>3</th>\n",
       "      <td>36077</td>\n",
       "      <td>Otsego, NY</td>\n",
       "      <td>84.619</td>\n",
       "      <td>85.798</td>\n",
       "      <td>89.384</td>\n",
       "      <td>94.284</td>\n",
       "      <td>95.180</td>\n",
       "      <td>97.756</td>\n",
       "      <td>94.764</td>\n",
       "      <td>98.616</td>\n",
       "      <td>...</td>\n",
       "      <td>0.000619</td>\n",
       "      <td>0.007973</td>\n",
       "      <td>0.451995</td>\n",
       "      <td>0.008787</td>\n",
       "      <td>0.000729</td>\n",
       "      <td>0.006675</td>\n",
       "      <td>0.000534</td>\n",
       "      <td>0.011993</td>\n",
       "      <td>0.092976</td>\n",
       "      <td>43.20</td>\n",
       "    </tr>\n",
       "    <tr>\n",
       "      <th>4</th>\n",
       "      <td>55131</td>\n",
       "      <td>Washington, WI</td>\n",
       "      <td>76.230</td>\n",
       "      <td>78.707</td>\n",
       "      <td>82.806</td>\n",
       "      <td>85.619</td>\n",
       "      <td>89.292</td>\n",
       "      <td>91.108</td>\n",
       "      <td>93.105</td>\n",
       "      <td>92.335</td>\n",
       "      <td>...</td>\n",
       "      <td>0.000404</td>\n",
       "      <td>0.002373</td>\n",
       "      <td>0.460007</td>\n",
       "      <td>0.006636</td>\n",
       "      <td>0.000756</td>\n",
       "      <td>0.007080</td>\n",
       "      <td>0.000040</td>\n",
       "      <td>0.008485</td>\n",
       "      <td>0.093832</td>\n",
       "      <td>58.62</td>\n",
       "    </tr>\n",
       "  </tbody>\n",
       "</table>\n",
       "<p>5 rows × 63 columns</p>\n",
       "</div>"
      ],
      "text/plain": [
       "   GeoFIPS         GeoName    2001    2002    2003    2004    2005    2006  \\\n",
       "0    42001       Adams, PA  78.619  84.689  84.475  85.860  89.556  93.508   \n",
       "1    55111        Sauk, WI  82.875  84.592  88.181  95.186  97.049  95.672   \n",
       "2    29213       Taney, MO  83.682  84.756  85.324  83.514  88.412  89.617   \n",
       "3    36077      Otsego, NY  84.619  85.798  89.384  94.284  95.180  97.756   \n",
       "4    55131  Washington, WI  76.230  78.707  82.806  85.619  89.292  91.108   \n",
       "\n",
       "     2007    2008  ...  cuban_ethnic_composition  \\\n",
       "0  93.154  95.379  ...                  0.001282   \n",
       "1  94.922  93.953  ...                  0.000160   \n",
       "2  95.733  95.833  ...                  0.000116   \n",
       "3  94.764  98.616  ...                  0.000619   \n",
       "4  93.105  92.335  ...                  0.000404   \n",
       "\n",
       "   other_hispanic_latino_ethnic_composition  white_ethnic_composition  \\\n",
       "0                                  0.007294                  0.441782   \n",
       "1                                  0.004616                  0.448913   \n",
       "2                                  0.007869                  0.439593   \n",
       "3                                  0.007973                  0.451995   \n",
       "4                                  0.002373                  0.460007   \n",
       "\n",
       "   black_african_american_ethnic_composition  \\\n",
       "0                                   0.006836   \n",
       "1                                   0.004004   \n",
       "2                                   0.008782   \n",
       "3                                   0.008787   \n",
       "4                                   0.006636   \n",
       "\n",
       "   american_indian_alaska_native_ethnic_composition  asian_ethnic_composition  \\\n",
       "0                                          0.000361                  0.003772   \n",
       "1                                          0.005724                  0.002415   \n",
       "2                                          0.002515                  0.003151   \n",
       "3                                          0.000729                  0.006675   \n",
       "4                                          0.000756                  0.007080   \n",
       "\n",
       "   native_hawaiian_other_pacific_islander_ethnic_composition  \\\n",
       "0                                           0.000024           \n",
       "1                                           0.000000           \n",
       "2                                           0.000045           \n",
       "3                                           0.000534           \n",
       "4                                           0.000040           \n",
       "\n",
       "   other_race_races_ethnic_composition  distance to 42001  percentile  \n",
       "0                             0.010845           0.000000       35.04  \n",
       "1                             0.010867           0.089310       50.75  \n",
       "2                             0.014430           0.090979       43.43  \n",
       "3                             0.011993           0.092976       43.20  \n",
       "4                             0.008485           0.093832       58.62  \n",
       "\n",
       "[5 rows x 63 columns]"
      ]
     },
     "metadata": {},
     "output_type": "display_data"
    }
   ],
   "source": [
    "f = FipsQuery(\n",
    "    42001,\n",
    "    \"gdp\",\n",
    "    feature_groups_with_weights={\"gdp\": 1, \"population\": 2, \"ethnic_composition\": 3},\n",
    ")\n",
    "\n",
    "f.find_euclidean_kins()\n",
    "f.plot_weights()\n",
    "display(f.euclidean_kins.head())"
   ]
  },
  {
   "cell_type": "markdown",
   "metadata": {},
   "source": [
    "You can simply visualize the top n best matches by calling `show_kins_plot()`. `n` is to be specified when you initiate a query, its default value is 5. An example with a different `n` will be shown later."
   ]
  },
  {
   "cell_type": "code",
   "execution_count": 4,
   "metadata": {},
   "outputs": [
    {
     "data": {
      "application/vnd.plotly.v1+json": {
       "config": {
        "plotlyServerURL": "https://plot.ly"
       },
       "data": [
        {
         "line": {
          "color": "darkred",
          "width": 3
         },
         "mode": "lines",
         "name": "Adams, PA",
         "text": "Adams, PA",
         "textposition": "top right",
         "type": "scatter",
         "x": [
          2001,
          2002,
          2003,
          2004,
          2005,
          2006,
          2007,
          2008,
          2009,
          2010,
          2011,
          2013,
          2014,
          2015,
          2016,
          2017,
          2018,
          2019,
          2020,
          2021
         ],
         "y": [
          78.619,
          84.689,
          84.475,
          85.86,
          89.556,
          93.508,
          93.154,
          95.379,
          96.885,
          95.036,
          97.071,
          100.08,
          100.006,
          102.509,
          103.708,
          108.411,
          105.39,
          103.44,
          97.678,
          102.664
         ]
        },
        {
         "line": {
          "color": "#FFC0CB"
         },
         "mode": "lines",
         "name": "Sauk, WI",
         "text": "Sauk, WI",
         "textposition": "top right",
         "type": "scatter",
         "x": [
          2001,
          2002,
          2003,
          2004,
          2005,
          2006,
          2007,
          2008,
          2009,
          2010,
          2011,
          2013,
          2014,
          2015,
          2016,
          2017,
          2018,
          2019,
          2020,
          2021
         ],
         "y": [
          82.875,
          84.592,
          88.181,
          95.186,
          97.049,
          95.672,
          94.922,
          93.953,
          93.471,
          95.064,
          96.947,
          98.936,
          100.788,
          102.252,
          102.972,
          102.238,
          105.436,
          110.644,
          102.996,
          109.073
         ]
        },
        {
         "line": {
          "color": "#A9A9A9"
         },
         "mode": "lines",
         "name": "Taney, MO",
         "text": "Taney, MO",
         "textposition": "top right",
         "type": "scatter",
         "x": [
          2001,
          2002,
          2003,
          2004,
          2005,
          2006,
          2007,
          2008,
          2009,
          2010,
          2011,
          2013,
          2014,
          2015,
          2016,
          2017,
          2018,
          2019,
          2020,
          2021
         ],
         "y": [
          83.682,
          84.756,
          85.324,
          83.514,
          88.412,
          89.617,
          95.733,
          95.833,
          93.105,
          98.773,
          97.931,
          104.598,
          103.609,
          104.152,
          104.367,
          104.645,
          108.119,
          109.898,
          94.947,
          106.1
         ]
        },
        {
         "line": {
          "color": "#87CEFA"
         },
         "mode": "lines",
         "name": "Otsego, NY",
         "text": "Otsego, NY",
         "textposition": "top right",
         "type": "scatter",
         "x": [
          2001,
          2002,
          2003,
          2004,
          2005,
          2006,
          2007,
          2008,
          2009,
          2010,
          2011,
          2013,
          2014,
          2015,
          2016,
          2017,
          2018,
          2019,
          2020,
          2021
         ],
         "y": [
          84.619,
          85.798,
          89.384,
          94.284,
          95.18,
          97.756,
          94.764,
          98.616,
          99.177,
          102.653,
          101.292,
          99.707,
          97.616,
          98.442,
          99.171,
          102.552,
          106.164,
          107.062,
          100.299,
          105.994
         ]
        },
        {
         "line": {
          "color": "#FFD700"
         },
         "mode": "lines",
         "name": "Washington, WI",
         "text": "Washington, WI",
         "textposition": "top right",
         "type": "scatter",
         "x": [
          2001,
          2002,
          2003,
          2004,
          2005,
          2006,
          2007,
          2008,
          2009,
          2010,
          2011,
          2013,
          2014,
          2015,
          2016,
          2017,
          2018,
          2019,
          2020,
          2021
         ],
         "y": [
          76.23,
          78.707,
          82.806,
          85.619,
          89.292,
          91.108,
          93.105,
          92.335,
          88.916,
          92.46,
          96.822,
          99.689,
          101.036,
          102.821,
          102.503,
          105.745,
          109.63,
          110.357,
          105.779,
          112.596
         ]
        },
        {
         "line": {
          "color": "#98FB98"
         },
         "mode": "lines",
         "name": "Walworth, WI",
         "text": "Walworth, WI",
         "textposition": "top right",
         "type": "scatter",
         "x": [
          2001,
          2002,
          2003,
          2004,
          2005,
          2006,
          2007,
          2008,
          2009,
          2010,
          2011,
          2013,
          2014,
          2015,
          2016,
          2017,
          2018,
          2019,
          2020,
          2021
         ],
         "y": [
          83.081,
          82.847,
          86.725,
          91.131,
          94.582,
          95.464,
          95.346,
          95.036,
          88.81,
          93.105,
          98.705,
          101.005,
          99.368,
          101.91,
          100.466,
          101.012,
          102.907,
          103.969,
          102.26,
          108.502
         ]
        }
       ],
       "layout": {
        "legend": {
         "title": {
          "text": "GeoName"
         }
        },
        "template": {
         "data": {
          "bar": [
           {
            "error_x": {
             "color": "rgb(36,36,36)"
            },
            "error_y": {
             "color": "rgb(36,36,36)"
            },
            "marker": {
             "line": {
              "color": "white",
              "width": 0.5
             },
             "pattern": {
              "fillmode": "overlay",
              "size": 10,
              "solidity": 0.2
             }
            },
            "type": "bar"
           }
          ],
          "barpolar": [
           {
            "marker": {
             "line": {
              "color": "white",
              "width": 0.5
             },
             "pattern": {
              "fillmode": "overlay",
              "size": 10,
              "solidity": 0.2
             }
            },
            "type": "barpolar"
           }
          ],
          "carpet": [
           {
            "aaxis": {
             "endlinecolor": "rgb(36,36,36)",
             "gridcolor": "white",
             "linecolor": "white",
             "minorgridcolor": "white",
             "startlinecolor": "rgb(36,36,36)"
            },
            "baxis": {
             "endlinecolor": "rgb(36,36,36)",
             "gridcolor": "white",
             "linecolor": "white",
             "minorgridcolor": "white",
             "startlinecolor": "rgb(36,36,36)"
            },
            "type": "carpet"
           }
          ],
          "choropleth": [
           {
            "colorbar": {
             "outlinewidth": 1,
             "tickcolor": "rgb(36,36,36)",
             "ticks": "outside"
            },
            "type": "choropleth"
           }
          ],
          "contour": [
           {
            "colorbar": {
             "outlinewidth": 1,
             "tickcolor": "rgb(36,36,36)",
             "ticks": "outside"
            },
            "colorscale": [
             [
              0,
              "#440154"
             ],
             [
              0.1111111111111111,
              "#482878"
             ],
             [
              0.2222222222222222,
              "#3e4989"
             ],
             [
              0.3333333333333333,
              "#31688e"
             ],
             [
              0.4444444444444444,
              "#26828e"
             ],
             [
              0.5555555555555556,
              "#1f9e89"
             ],
             [
              0.6666666666666666,
              "#35b779"
             ],
             [
              0.7777777777777778,
              "#6ece58"
             ],
             [
              0.8888888888888888,
              "#b5de2b"
             ],
             [
              1,
              "#fde725"
             ]
            ],
            "type": "contour"
           }
          ],
          "contourcarpet": [
           {
            "colorbar": {
             "outlinewidth": 1,
             "tickcolor": "rgb(36,36,36)",
             "ticks": "outside"
            },
            "type": "contourcarpet"
           }
          ],
          "heatmap": [
           {
            "colorbar": {
             "outlinewidth": 1,
             "tickcolor": "rgb(36,36,36)",
             "ticks": "outside"
            },
            "colorscale": [
             [
              0,
              "#440154"
             ],
             [
              0.1111111111111111,
              "#482878"
             ],
             [
              0.2222222222222222,
              "#3e4989"
             ],
             [
              0.3333333333333333,
              "#31688e"
             ],
             [
              0.4444444444444444,
              "#26828e"
             ],
             [
              0.5555555555555556,
              "#1f9e89"
             ],
             [
              0.6666666666666666,
              "#35b779"
             ],
             [
              0.7777777777777778,
              "#6ece58"
             ],
             [
              0.8888888888888888,
              "#b5de2b"
             ],
             [
              1,
              "#fde725"
             ]
            ],
            "type": "heatmap"
           }
          ],
          "heatmapgl": [
           {
            "colorbar": {
             "outlinewidth": 1,
             "tickcolor": "rgb(36,36,36)",
             "ticks": "outside"
            },
            "colorscale": [
             [
              0,
              "#440154"
             ],
             [
              0.1111111111111111,
              "#482878"
             ],
             [
              0.2222222222222222,
              "#3e4989"
             ],
             [
              0.3333333333333333,
              "#31688e"
             ],
             [
              0.4444444444444444,
              "#26828e"
             ],
             [
              0.5555555555555556,
              "#1f9e89"
             ],
             [
              0.6666666666666666,
              "#35b779"
             ],
             [
              0.7777777777777778,
              "#6ece58"
             ],
             [
              0.8888888888888888,
              "#b5de2b"
             ],
             [
              1,
              "#fde725"
             ]
            ],
            "type": "heatmapgl"
           }
          ],
          "histogram": [
           {
            "marker": {
             "line": {
              "color": "white",
              "width": 0.6
             }
            },
            "type": "histogram"
           }
          ],
          "histogram2d": [
           {
            "colorbar": {
             "outlinewidth": 1,
             "tickcolor": "rgb(36,36,36)",
             "ticks": "outside"
            },
            "colorscale": [
             [
              0,
              "#440154"
             ],
             [
              0.1111111111111111,
              "#482878"
             ],
             [
              0.2222222222222222,
              "#3e4989"
             ],
             [
              0.3333333333333333,
              "#31688e"
             ],
             [
              0.4444444444444444,
              "#26828e"
             ],
             [
              0.5555555555555556,
              "#1f9e89"
             ],
             [
              0.6666666666666666,
              "#35b779"
             ],
             [
              0.7777777777777778,
              "#6ece58"
             ],
             [
              0.8888888888888888,
              "#b5de2b"
             ],
             [
              1,
              "#fde725"
             ]
            ],
            "type": "histogram2d"
           }
          ],
          "histogram2dcontour": [
           {
            "colorbar": {
             "outlinewidth": 1,
             "tickcolor": "rgb(36,36,36)",
             "ticks": "outside"
            },
            "colorscale": [
             [
              0,
              "#440154"
             ],
             [
              0.1111111111111111,
              "#482878"
             ],
             [
              0.2222222222222222,
              "#3e4989"
             ],
             [
              0.3333333333333333,
              "#31688e"
             ],
             [
              0.4444444444444444,
              "#26828e"
             ],
             [
              0.5555555555555556,
              "#1f9e89"
             ],
             [
              0.6666666666666666,
              "#35b779"
             ],
             [
              0.7777777777777778,
              "#6ece58"
             ],
             [
              0.8888888888888888,
              "#b5de2b"
             ],
             [
              1,
              "#fde725"
             ]
            ],
            "type": "histogram2dcontour"
           }
          ],
          "mesh3d": [
           {
            "colorbar": {
             "outlinewidth": 1,
             "tickcolor": "rgb(36,36,36)",
             "ticks": "outside"
            },
            "type": "mesh3d"
           }
          ],
          "parcoords": [
           {
            "line": {
             "colorbar": {
              "outlinewidth": 1,
              "tickcolor": "rgb(36,36,36)",
              "ticks": "outside"
             }
            },
            "type": "parcoords"
           }
          ],
          "pie": [
           {
            "automargin": true,
            "type": "pie"
           }
          ],
          "scatter": [
           {
            "fillpattern": {
             "fillmode": "overlay",
             "size": 10,
             "solidity": 0.2
            },
            "type": "scatter"
           }
          ],
          "scatter3d": [
           {
            "line": {
             "colorbar": {
              "outlinewidth": 1,
              "tickcolor": "rgb(36,36,36)",
              "ticks": "outside"
             }
            },
            "marker": {
             "colorbar": {
              "outlinewidth": 1,
              "tickcolor": "rgb(36,36,36)",
              "ticks": "outside"
             }
            },
            "type": "scatter3d"
           }
          ],
          "scattercarpet": [
           {
            "marker": {
             "colorbar": {
              "outlinewidth": 1,
              "tickcolor": "rgb(36,36,36)",
              "ticks": "outside"
             }
            },
            "type": "scattercarpet"
           }
          ],
          "scattergeo": [
           {
            "marker": {
             "colorbar": {
              "outlinewidth": 1,
              "tickcolor": "rgb(36,36,36)",
              "ticks": "outside"
             }
            },
            "type": "scattergeo"
           }
          ],
          "scattergl": [
           {
            "marker": {
             "colorbar": {
              "outlinewidth": 1,
              "tickcolor": "rgb(36,36,36)",
              "ticks": "outside"
             }
            },
            "type": "scattergl"
           }
          ],
          "scattermapbox": [
           {
            "marker": {
             "colorbar": {
              "outlinewidth": 1,
              "tickcolor": "rgb(36,36,36)",
              "ticks": "outside"
             }
            },
            "type": "scattermapbox"
           }
          ],
          "scatterpolar": [
           {
            "marker": {
             "colorbar": {
              "outlinewidth": 1,
              "tickcolor": "rgb(36,36,36)",
              "ticks": "outside"
             }
            },
            "type": "scatterpolar"
           }
          ],
          "scatterpolargl": [
           {
            "marker": {
             "colorbar": {
              "outlinewidth": 1,
              "tickcolor": "rgb(36,36,36)",
              "ticks": "outside"
             }
            },
            "type": "scatterpolargl"
           }
          ],
          "scatterternary": [
           {
            "marker": {
             "colorbar": {
              "outlinewidth": 1,
              "tickcolor": "rgb(36,36,36)",
              "ticks": "outside"
             }
            },
            "type": "scatterternary"
           }
          ],
          "surface": [
           {
            "colorbar": {
             "outlinewidth": 1,
             "tickcolor": "rgb(36,36,36)",
             "ticks": "outside"
            },
            "colorscale": [
             [
              0,
              "#440154"
             ],
             [
              0.1111111111111111,
              "#482878"
             ],
             [
              0.2222222222222222,
              "#3e4989"
             ],
             [
              0.3333333333333333,
              "#31688e"
             ],
             [
              0.4444444444444444,
              "#26828e"
             ],
             [
              0.5555555555555556,
              "#1f9e89"
             ],
             [
              0.6666666666666666,
              "#35b779"
             ],
             [
              0.7777777777777778,
              "#6ece58"
             ],
             [
              0.8888888888888888,
              "#b5de2b"
             ],
             [
              1,
              "#fde725"
             ]
            ],
            "type": "surface"
           }
          ],
          "table": [
           {
            "cells": {
             "fill": {
              "color": "rgb(237,237,237)"
             },
             "line": {
              "color": "white"
             }
            },
            "header": {
             "fill": {
              "color": "rgb(217,217,217)"
             },
             "line": {
              "color": "white"
             }
            },
            "type": "table"
           }
          ]
         },
         "layout": {
          "annotationdefaults": {
           "arrowhead": 0,
           "arrowwidth": 1
          },
          "autotypenumbers": "strict",
          "coloraxis": {
           "colorbar": {
            "outlinewidth": 1,
            "tickcolor": "rgb(36,36,36)",
            "ticks": "outside"
           }
          },
          "colorscale": {
           "diverging": [
            [
             0,
             "rgb(103,0,31)"
            ],
            [
             0.1,
             "rgb(178,24,43)"
            ],
            [
             0.2,
             "rgb(214,96,77)"
            ],
            [
             0.3,
             "rgb(244,165,130)"
            ],
            [
             0.4,
             "rgb(253,219,199)"
            ],
            [
             0.5,
             "rgb(247,247,247)"
            ],
            [
             0.6,
             "rgb(209,229,240)"
            ],
            [
             0.7,
             "rgb(146,197,222)"
            ],
            [
             0.8,
             "rgb(67,147,195)"
            ],
            [
             0.9,
             "rgb(33,102,172)"
            ],
            [
             1,
             "rgb(5,48,97)"
            ]
           ],
           "sequential": [
            [
             0,
             "#440154"
            ],
            [
             0.1111111111111111,
             "#482878"
            ],
            [
             0.2222222222222222,
             "#3e4989"
            ],
            [
             0.3333333333333333,
             "#31688e"
            ],
            [
             0.4444444444444444,
             "#26828e"
            ],
            [
             0.5555555555555556,
             "#1f9e89"
            ],
            [
             0.6666666666666666,
             "#35b779"
            ],
            [
             0.7777777777777778,
             "#6ece58"
            ],
            [
             0.8888888888888888,
             "#b5de2b"
            ],
            [
             1,
             "#fde725"
            ]
           ],
           "sequentialminus": [
            [
             0,
             "#440154"
            ],
            [
             0.1111111111111111,
             "#482878"
            ],
            [
             0.2222222222222222,
             "#3e4989"
            ],
            [
             0.3333333333333333,
             "#31688e"
            ],
            [
             0.4444444444444444,
             "#26828e"
            ],
            [
             0.5555555555555556,
             "#1f9e89"
            ],
            [
             0.6666666666666666,
             "#35b779"
            ],
            [
             0.7777777777777778,
             "#6ece58"
            ],
            [
             0.8888888888888888,
             "#b5de2b"
            ],
            [
             1,
             "#fde725"
            ]
           ]
          },
          "colorway": [
           "#1F77B4",
           "#FF7F0E",
           "#2CA02C",
           "#D62728",
           "#9467BD",
           "#8C564B",
           "#E377C2",
           "#7F7F7F",
           "#BCBD22",
           "#17BECF"
          ],
          "font": {
           "color": "rgb(36,36,36)"
          },
          "geo": {
           "bgcolor": "white",
           "lakecolor": "white",
           "landcolor": "white",
           "showlakes": true,
           "showland": true,
           "subunitcolor": "white"
          },
          "hoverlabel": {
           "align": "left"
          },
          "hovermode": "closest",
          "mapbox": {
           "style": "light"
          },
          "paper_bgcolor": "white",
          "plot_bgcolor": "white",
          "polar": {
           "angularaxis": {
            "gridcolor": "rgb(232,232,232)",
            "linecolor": "rgb(36,36,36)",
            "showgrid": false,
            "showline": true,
            "ticks": "outside"
           },
           "bgcolor": "white",
           "radialaxis": {
            "gridcolor": "rgb(232,232,232)",
            "linecolor": "rgb(36,36,36)",
            "showgrid": false,
            "showline": true,
            "ticks": "outside"
           }
          },
          "scene": {
           "xaxis": {
            "backgroundcolor": "white",
            "gridcolor": "rgb(232,232,232)",
            "gridwidth": 2,
            "linecolor": "rgb(36,36,36)",
            "showbackground": true,
            "showgrid": false,
            "showline": true,
            "ticks": "outside",
            "zeroline": false,
            "zerolinecolor": "rgb(36,36,36)"
           },
           "yaxis": {
            "backgroundcolor": "white",
            "gridcolor": "rgb(232,232,232)",
            "gridwidth": 2,
            "linecolor": "rgb(36,36,36)",
            "showbackground": true,
            "showgrid": false,
            "showline": true,
            "ticks": "outside",
            "zeroline": false,
            "zerolinecolor": "rgb(36,36,36)"
           },
           "zaxis": {
            "backgroundcolor": "white",
            "gridcolor": "rgb(232,232,232)",
            "gridwidth": 2,
            "linecolor": "rgb(36,36,36)",
            "showbackground": true,
            "showgrid": false,
            "showline": true,
            "ticks": "outside",
            "zeroline": false,
            "zerolinecolor": "rgb(36,36,36)"
           }
          },
          "shapedefaults": {
           "fillcolor": "black",
           "line": {
            "width": 0
           },
           "opacity": 0.3
          },
          "ternary": {
           "aaxis": {
            "gridcolor": "rgb(232,232,232)",
            "linecolor": "rgb(36,36,36)",
            "showgrid": false,
            "showline": true,
            "ticks": "outside"
           },
           "baxis": {
            "gridcolor": "rgb(232,232,232)",
            "linecolor": "rgb(36,36,36)",
            "showgrid": false,
            "showline": true,
            "ticks": "outside"
           },
           "bgcolor": "white",
           "caxis": {
            "gridcolor": "rgb(232,232,232)",
            "linecolor": "rgb(36,36,36)",
            "showgrid": false,
            "showline": true,
            "ticks": "outside"
           }
          },
          "title": {
           "x": 0.05
          },
          "xaxis": {
           "automargin": true,
           "gridcolor": "rgb(232,232,232)",
           "linecolor": "rgb(36,36,36)",
           "showgrid": false,
           "showline": true,
           "ticks": "outside",
           "title": {
            "standoff": 15
           },
           "zeroline": false,
           "zerolinecolor": "rgb(36,36,36)"
          },
          "yaxis": {
           "automargin": true,
           "gridcolor": "rgb(232,232,232)",
           "linecolor": "rgb(36,36,36)",
           "showgrid": false,
           "showline": true,
           "ticks": "outside",
           "title": {
            "standoff": 15
           },
           "zeroline": false,
           "zerolinecolor": "rgb(36,36,36)"
          }
         }
        },
        "title": {
         "text": "Top 5 locations matching your search"
        },
        "xaxis": {
         "title": {
          "text": "Year"
         }
        },
        "yaxis": {
         "title": {
          "text": "gdp"
         }
        }
       }
      }
     },
     "metadata": {},
     "output_type": "display_data"
    }
   ],
   "source": [
    "fig = f.show_kins_plot()"
   ]
  },
  {
   "cell_type": "markdown",
   "metadata": {},
   "source": [
    "When we instantiate a `FipsQuery`, we can specify more parameters:\n",
    "\n",
    "- `1ag` - time lag for comparing outcomes with historical data (which places `lag` years in the past were most similar to the specified location as it is now?) \n",
    "- `top` - the number of top locations to consider in the comparisons\n",
    "- `time_decay` - adjusts the weight decay over time in the generalized Euclidean distance calculation. If set to `1`, all years are given equal value. Values above one discount the importance of older years, while values below one increase the importance of older years. Warning: the decay is exponential, so small parameter changes may have large effects, always plot the weights as a sanity check!\n",
    "- `outcome_comparison_period` - specifies the years to consider for the outcome comparison (can be used only when `lag=0`)\n",
    "- `outcome_percentile_range` - defines a percentile range for filtering locations based on the most recent value of the outcome variable\n",
    "\n",
    "\n",
    "We can also investigate the results of the `find_euclidean_kins()` by displaying: a ranking of locations based on their similarity to the specified location (`f.euclidean_kins`), the weighted contributions of each feature to the comparison (`f.featurewise_contributions`), and aggregated over feature groups and normalized feature contributions (`f.aggregated_featurewise_contributions`)."
   ]
  },
  {
   "cell_type": "code",
   "execution_count": 5,
   "metadata": {},
   "outputs": [
    {
     "data": {
      "text/html": [
       "<div>\n",
       "<style scoped>\n",
       "    .dataframe tbody tr th:only-of-type {\n",
       "        vertical-align: middle;\n",
       "    }\n",
       "\n",
       "    .dataframe tbody tr th {\n",
       "        vertical-align: top;\n",
       "    }\n",
       "\n",
       "    .dataframe thead th {\n",
       "        text-align: right;\n",
       "    }\n",
       "</style>\n",
       "<table border=\"1\" class=\"dataframe\">\n",
       "  <thead>\n",
       "    <tr style=\"text-align: right;\">\n",
       "      <th></th>\n",
       "      <th>GeoFIPS</th>\n",
       "      <th>GeoName</th>\n",
       "      <th>2001</th>\n",
       "      <th>2002</th>\n",
       "      <th>2003</th>\n",
       "      <th>2004</th>\n",
       "      <th>2005</th>\n",
       "      <th>2006</th>\n",
       "      <th>2007</th>\n",
       "      <th>2008</th>\n",
       "      <th>...</th>\n",
       "      <th>cuban_ethnic_composition</th>\n",
       "      <th>other_hispanic_latino_ethnic_composition</th>\n",
       "      <th>white_ethnic_composition</th>\n",
       "      <th>black_african_american_ethnic_composition</th>\n",
       "      <th>american_indian_alaska_native_ethnic_composition</th>\n",
       "      <th>asian_ethnic_composition</th>\n",
       "      <th>native_hawaiian_other_pacific_islander_ethnic_composition</th>\n",
       "      <th>other_race_races_ethnic_composition</th>\n",
       "      <th>distance to 42001</th>\n",
       "      <th>percentile</th>\n",
       "    </tr>\n",
       "  </thead>\n",
       "  <tbody>\n",
       "    <tr>\n",
       "      <th>0</th>\n",
       "      <td>42001</td>\n",
       "      <td>Adams, PA</td>\n",
       "      <td>78.619</td>\n",
       "      <td>84.689</td>\n",
       "      <td>84.475</td>\n",
       "      <td>85.860</td>\n",
       "      <td>89.556</td>\n",
       "      <td>93.508</td>\n",
       "      <td>93.154</td>\n",
       "      <td>95.379</td>\n",
       "      <td>...</td>\n",
       "      <td>0.001282</td>\n",
       "      <td>0.007294</td>\n",
       "      <td>0.441782</td>\n",
       "      <td>0.006836</td>\n",
       "      <td>0.000361</td>\n",
       "      <td>0.003772</td>\n",
       "      <td>0.000024</td>\n",
       "      <td>0.010845</td>\n",
       "      <td>0.000000</td>\n",
       "      <td>35.04</td>\n",
       "    </tr>\n",
       "    <tr>\n",
       "      <th>1</th>\n",
       "      <td>55131</td>\n",
       "      <td>Washington, WI</td>\n",
       "      <td>76.230</td>\n",
       "      <td>78.707</td>\n",
       "      <td>82.806</td>\n",
       "      <td>85.619</td>\n",
       "      <td>89.292</td>\n",
       "      <td>91.108</td>\n",
       "      <td>93.105</td>\n",
       "      <td>92.335</td>\n",
       "      <td>...</td>\n",
       "      <td>0.000404</td>\n",
       "      <td>0.002373</td>\n",
       "      <td>0.460007</td>\n",
       "      <td>0.006636</td>\n",
       "      <td>0.000756</td>\n",
       "      <td>0.007080</td>\n",
       "      <td>0.000040</td>\n",
       "      <td>0.008485</td>\n",
       "      <td>0.090042</td>\n",
       "      <td>58.62</td>\n",
       "    </tr>\n",
       "    <tr>\n",
       "      <th>2</th>\n",
       "      <td>55111</td>\n",
       "      <td>Sauk, WI</td>\n",
       "      <td>82.875</td>\n",
       "      <td>84.592</td>\n",
       "      <td>88.181</td>\n",
       "      <td>95.186</td>\n",
       "      <td>97.049</td>\n",
       "      <td>95.672</td>\n",
       "      <td>94.922</td>\n",
       "      <td>93.953</td>\n",
       "      <td>...</td>\n",
       "      <td>0.000160</td>\n",
       "      <td>0.004616</td>\n",
       "      <td>0.448913</td>\n",
       "      <td>0.004004</td>\n",
       "      <td>0.005724</td>\n",
       "      <td>0.002415</td>\n",
       "      <td>0.000000</td>\n",
       "      <td>0.010867</td>\n",
       "      <td>0.091508</td>\n",
       "      <td>50.75</td>\n",
       "    </tr>\n",
       "    <tr>\n",
       "      <th>3</th>\n",
       "      <td>29213</td>\n",
       "      <td>Taney, MO</td>\n",
       "      <td>83.682</td>\n",
       "      <td>84.756</td>\n",
       "      <td>85.324</td>\n",
       "      <td>83.514</td>\n",
       "      <td>88.412</td>\n",
       "      <td>89.617</td>\n",
       "      <td>95.733</td>\n",
       "      <td>95.833</td>\n",
       "      <td>...</td>\n",
       "      <td>0.000116</td>\n",
       "      <td>0.007869</td>\n",
       "      <td>0.439593</td>\n",
       "      <td>0.008782</td>\n",
       "      <td>0.002515</td>\n",
       "      <td>0.003151</td>\n",
       "      <td>0.000045</td>\n",
       "      <td>0.014430</td>\n",
       "      <td>0.094434</td>\n",
       "      <td>43.43</td>\n",
       "    </tr>\n",
       "    <tr>\n",
       "      <th>4</th>\n",
       "      <td>37089</td>\n",
       "      <td>Henderson, NC</td>\n",
       "      <td>88.835</td>\n",
       "      <td>92.642</td>\n",
       "      <td>91.296</td>\n",
       "      <td>93.431</td>\n",
       "      <td>96.665</td>\n",
       "      <td>102.280</td>\n",
       "      <td>97.338</td>\n",
       "      <td>97.962</td>\n",
       "      <td>...</td>\n",
       "      <td>0.001111</td>\n",
       "      <td>0.011703</td>\n",
       "      <td>0.412350</td>\n",
       "      <td>0.016244</td>\n",
       "      <td>0.000917</td>\n",
       "      <td>0.006734</td>\n",
       "      <td>0.000000</td>\n",
       "      <td>0.011469</td>\n",
       "      <td>0.095611</td>\n",
       "      <td>57.19</td>\n",
       "    </tr>\n",
       "  </tbody>\n",
       "</table>\n",
       "<p>5 rows × 63 columns</p>\n",
       "</div>"
      ],
      "text/plain": [
       "   GeoFIPS         GeoName    2001    2002    2003    2004    2005     2006  \\\n",
       "0    42001       Adams, PA  78.619  84.689  84.475  85.860  89.556   93.508   \n",
       "1    55131  Washington, WI  76.230  78.707  82.806  85.619  89.292   91.108   \n",
       "2    55111        Sauk, WI  82.875  84.592  88.181  95.186  97.049   95.672   \n",
       "3    29213       Taney, MO  83.682  84.756  85.324  83.514  88.412   89.617   \n",
       "4    37089   Henderson, NC  88.835  92.642  91.296  93.431  96.665  102.280   \n",
       "\n",
       "     2007    2008  ...  cuban_ethnic_composition  \\\n",
       "0  93.154  95.379  ...                  0.001282   \n",
       "1  93.105  92.335  ...                  0.000404   \n",
       "2  94.922  93.953  ...                  0.000160   \n",
       "3  95.733  95.833  ...                  0.000116   \n",
       "4  97.338  97.962  ...                  0.001111   \n",
       "\n",
       "   other_hispanic_latino_ethnic_composition  white_ethnic_composition  \\\n",
       "0                                  0.007294                  0.441782   \n",
       "1                                  0.002373                  0.460007   \n",
       "2                                  0.004616                  0.448913   \n",
       "3                                  0.007869                  0.439593   \n",
       "4                                  0.011703                  0.412350   \n",
       "\n",
       "   black_african_american_ethnic_composition  \\\n",
       "0                                   0.006836   \n",
       "1                                   0.006636   \n",
       "2                                   0.004004   \n",
       "3                                   0.008782   \n",
       "4                                   0.016244   \n",
       "\n",
       "   american_indian_alaska_native_ethnic_composition  asian_ethnic_composition  \\\n",
       "0                                          0.000361                  0.003772   \n",
       "1                                          0.000756                  0.007080   \n",
       "2                                          0.005724                  0.002415   \n",
       "3                                          0.002515                  0.003151   \n",
       "4                                          0.000917                  0.006734   \n",
       "\n",
       "   native_hawaiian_other_pacific_islander_ethnic_composition  \\\n",
       "0                                           0.000024           \n",
       "1                                           0.000040           \n",
       "2                                           0.000000           \n",
       "3                                           0.000045           \n",
       "4                                           0.000000           \n",
       "\n",
       "   other_race_races_ethnic_composition  distance to 42001  percentile  \n",
       "0                             0.010845           0.000000       35.04  \n",
       "1                             0.008485           0.090042       58.62  \n",
       "2                             0.010867           0.091508       50.75  \n",
       "3                             0.014430           0.094434       43.43  \n",
       "4                             0.011469           0.095611       57.19  \n",
       "\n",
       "[5 rows x 63 columns]"
      ]
     },
     "metadata": {},
     "output_type": "display_data"
    },
    {
     "data": {
      "text/html": [
       "<div>\n",
       "<style scoped>\n",
       "    .dataframe tbody tr th:only-of-type {\n",
       "        vertical-align: middle;\n",
       "    }\n",
       "\n",
       "    .dataframe tbody tr th {\n",
       "        vertical-align: top;\n",
       "    }\n",
       "\n",
       "    .dataframe thead th {\n",
       "        text-align: right;\n",
       "    }\n",
       "</style>\n",
       "<table border=\"1\" class=\"dataframe\">\n",
       "  <thead>\n",
       "    <tr style=\"text-align: right;\">\n",
       "      <th></th>\n",
       "      <th>GeoFIPS</th>\n",
       "      <th>GeoName</th>\n",
       "      <th>2003_gdp</th>\n",
       "      <th>2004_gdp</th>\n",
       "      <th>2005_gdp</th>\n",
       "      <th>2006_gdp</th>\n",
       "      <th>2007_gdp</th>\n",
       "      <th>2008_gdp</th>\n",
       "      <th>2009_gdp</th>\n",
       "      <th>2010_gdp</th>\n",
       "      <th>...</th>\n",
       "      <th>puerto_rican_ethnic_composition</th>\n",
       "      <th>cuban_ethnic_composition</th>\n",
       "      <th>other_hispanic_latino_ethnic_composition</th>\n",
       "      <th>white_ethnic_composition</th>\n",
       "      <th>black_african_american_ethnic_composition</th>\n",
       "      <th>american_indian_alaska_native_ethnic_composition</th>\n",
       "      <th>asian_ethnic_composition</th>\n",
       "      <th>native_hawaiian_other_pacific_islander_ethnic_composition</th>\n",
       "      <th>other_race_races_ethnic_composition</th>\n",
       "      <th>distance to 42001</th>\n",
       "    </tr>\n",
       "  </thead>\n",
       "  <tbody>\n",
       "    <tr>\n",
       "      <th>3044</th>\n",
       "      <td>55129.0</td>\n",
       "      <td>Washburn, WI</td>\n",
       "      <td>0.005748</td>\n",
       "      <td>0.000875</td>\n",
       "      <td>0.000990</td>\n",
       "      <td>0.009389</td>\n",
       "      <td>0.000217</td>\n",
       "      <td>0.015559</td>\n",
       "      <td>0.039459</td>\n",
       "      <td>0.017005</td>\n",
       "      <td>...</td>\n",
       "      <td>0.047921</td>\n",
       "      <td>0.019464</td>\n",
       "      <td>0.025067</td>\n",
       "      <td>0.016246</td>\n",
       "      <td>0.000256</td>\n",
       "      <td>0.000941</td>\n",
       "      <td>0.021832</td>\n",
       "      <td>0.000796</td>\n",
       "      <td>0.022858</td>\n",
       "      <td>0.090042</td>\n",
       "    </tr>\n",
       "    <tr>\n",
       "      <th>3034</th>\n",
       "      <td>55109.0</td>\n",
       "      <td>St. Croix, WI</td>\n",
       "      <td>0.012786</td>\n",
       "      <td>0.033930</td>\n",
       "      <td>0.028158</td>\n",
       "      <td>0.008474</td>\n",
       "      <td>0.007844</td>\n",
       "      <td>0.007293</td>\n",
       "      <td>0.016927</td>\n",
       "      <td>0.000185</td>\n",
       "      <td>...</td>\n",
       "      <td>0.054660</td>\n",
       "      <td>0.024848</td>\n",
       "      <td>0.013656</td>\n",
       "      <td>0.006371</td>\n",
       "      <td>0.003617</td>\n",
       "      <td>0.012802</td>\n",
       "      <td>0.008946</td>\n",
       "      <td>0.001179</td>\n",
       "      <td>0.000214</td>\n",
       "      <td>0.091508</td>\n",
       "    </tr>\n",
       "    <tr>\n",
       "      <th>1571</th>\n",
       "      <td>29213.0</td>\n",
       "      <td>Taney, MO</td>\n",
       "      <td>0.002927</td>\n",
       "      <td>0.008507</td>\n",
       "      <td>0.004291</td>\n",
       "      <td>0.015215</td>\n",
       "      <td>0.011443</td>\n",
       "      <td>0.002323</td>\n",
       "      <td>0.018741</td>\n",
       "      <td>0.024738</td>\n",
       "      <td>...</td>\n",
       "      <td>0.041995</td>\n",
       "      <td>0.025825</td>\n",
       "      <td>0.002932</td>\n",
       "      <td>0.001959</td>\n",
       "      <td>0.002487</td>\n",
       "      <td>0.005141</td>\n",
       "      <td>0.004096</td>\n",
       "      <td>0.001012</td>\n",
       "      <td>0.034946</td>\n",
       "      <td>0.094434</td>\n",
       "    </tr>\n",
       "    <tr>\n",
       "      <th>1917</th>\n",
       "      <td>37089.0</td>\n",
       "      <td>Henderson, NC</td>\n",
       "      <td>0.023543</td>\n",
       "      <td>0.027542</td>\n",
       "      <td>0.026714</td>\n",
       "      <td>0.034339</td>\n",
       "      <td>0.018569</td>\n",
       "      <td>0.013219</td>\n",
       "      <td>0.022718</td>\n",
       "      <td>0.018446</td>\n",
       "      <td>...</td>\n",
       "      <td>0.027551</td>\n",
       "      <td>0.003770</td>\n",
       "      <td>0.022499</td>\n",
       "      <td>0.026442</td>\n",
       "      <td>0.012041</td>\n",
       "      <td>0.001325</td>\n",
       "      <td>0.019545</td>\n",
       "      <td>0.001179</td>\n",
       "      <td>0.006073</td>\n",
       "      <td>0.095611</td>\n",
       "    </tr>\n",
       "    <tr>\n",
       "      <th>2245</th>\n",
       "      <td>42037.0</td>\n",
       "      <td>Columbia, PA</td>\n",
       "      <td>0.011598</td>\n",
       "      <td>0.015400</td>\n",
       "      <td>0.009380</td>\n",
       "      <td>0.000568</td>\n",
       "      <td>0.011217</td>\n",
       "      <td>0.016991</td>\n",
       "      <td>0.008262</td>\n",
       "      <td>0.014254</td>\n",
       "      <td>...</td>\n",
       "      <td>0.053297</td>\n",
       "      <td>0.022504</td>\n",
       "      <td>0.029068</td>\n",
       "      <td>0.025933</td>\n",
       "      <td>0.000988</td>\n",
       "      <td>0.000297</td>\n",
       "      <td>0.006143</td>\n",
       "      <td>0.002877</td>\n",
       "      <td>0.002435</td>\n",
       "      <td>0.095854</td>\n",
       "    </tr>\n",
       "  </tbody>\n",
       "</table>\n",
       "<p>5 rows × 58 columns</p>\n",
       "</div>"
      ],
      "text/plain": [
       "      GeoFIPS        GeoName  2003_gdp  2004_gdp  2005_gdp  2006_gdp  \\\n",
       "3044  55129.0   Washburn, WI  0.005748  0.000875  0.000990  0.009389   \n",
       "3034  55109.0  St. Croix, WI  0.012786  0.033930  0.028158  0.008474   \n",
       "1571  29213.0      Taney, MO  0.002927  0.008507  0.004291  0.015215   \n",
       "1917  37089.0  Henderson, NC  0.023543  0.027542  0.026714  0.034339   \n",
       "2245  42037.0   Columbia, PA  0.011598  0.015400  0.009380  0.000568   \n",
       "\n",
       "      2007_gdp  2008_gdp  2009_gdp  2010_gdp  ...  \\\n",
       "3044  0.000217  0.015559  0.039459  0.017005  ...   \n",
       "3034  0.007844  0.007293  0.016927  0.000185  ...   \n",
       "1571  0.011443  0.002323  0.018741  0.024738  ...   \n",
       "1917  0.018569  0.013219  0.022718  0.018446  ...   \n",
       "2245  0.011217  0.016991  0.008262  0.014254  ...   \n",
       "\n",
       "      puerto_rican_ethnic_composition  cuban_ethnic_composition  \\\n",
       "3044                         0.047921                  0.019464   \n",
       "3034                         0.054660                  0.024848   \n",
       "1571                         0.041995                  0.025825   \n",
       "1917                         0.027551                  0.003770   \n",
       "2245                         0.053297                  0.022504   \n",
       "\n",
       "      other_hispanic_latino_ethnic_composition  white_ethnic_composition  \\\n",
       "3044                                  0.025067                  0.016246   \n",
       "3034                                  0.013656                  0.006371   \n",
       "1571                                  0.002932                  0.001959   \n",
       "1917                                  0.022499                  0.026442   \n",
       "2245                                  0.029068                  0.025933   \n",
       "\n",
       "      black_african_american_ethnic_composition  \\\n",
       "3044                                   0.000256   \n",
       "3034                                   0.003617   \n",
       "1571                                   0.002487   \n",
       "1917                                   0.012041   \n",
       "2245                                   0.000988   \n",
       "\n",
       "      american_indian_alaska_native_ethnic_composition  \\\n",
       "3044                                          0.000941   \n",
       "3034                                          0.012802   \n",
       "1571                                          0.005141   \n",
       "1917                                          0.001325   \n",
       "2245                                          0.000297   \n",
       "\n",
       "      asian_ethnic_composition  \\\n",
       "3044                  0.021832   \n",
       "3034                  0.008946   \n",
       "1571                  0.004096   \n",
       "1917                  0.019545   \n",
       "2245                  0.006143   \n",
       "\n",
       "      native_hawaiian_other_pacific_islander_ethnic_composition  \\\n",
       "3044                                           0.000796           \n",
       "3034                                           0.001179           \n",
       "1571                                           0.001012           \n",
       "1917                                           0.001179           \n",
       "2245                                           0.002877           \n",
       "\n",
       "      other_race_races_ethnic_composition  distance to 42001  \n",
       "3044                             0.022858           0.090042  \n",
       "3034                             0.000214           0.091508  \n",
       "1571                             0.034946           0.094434  \n",
       "1917                             0.006073           0.095611  \n",
       "2245                             0.002435           0.095854  \n",
       "\n",
       "[5 rows x 58 columns]"
      ]
     },
     "metadata": {},
     "output_type": "display_data"
    },
    {
     "data": {
      "text/html": [
       "<div>\n",
       "<style scoped>\n",
       "    .dataframe tbody tr th:only-of-type {\n",
       "        vertical-align: middle;\n",
       "    }\n",
       "\n",
       "    .dataframe tbody tr th {\n",
       "        vertical-align: top;\n",
       "    }\n",
       "\n",
       "    .dataframe thead th {\n",
       "        text-align: right;\n",
       "    }\n",
       "</style>\n",
       "<table border=\"1\" class=\"dataframe\">\n",
       "  <thead>\n",
       "    <tr style=\"text-align: right;\">\n",
       "      <th></th>\n",
       "      <th>GeoFIPS</th>\n",
       "      <th>GeoName</th>\n",
       "      <th>distance to 42001</th>\n",
       "      <th>gdp</th>\n",
       "      <th>population</th>\n",
       "      <th>ethnic_composition</th>\n",
       "    </tr>\n",
       "  </thead>\n",
       "  <tbody>\n",
       "    <tr>\n",
       "      <th>3044</th>\n",
       "      <td>55129.0</td>\n",
       "      <td>Washburn, WI</td>\n",
       "      <td>0.090042</td>\n",
       "      <td>0.337936</td>\n",
       "      <td>0.267116</td>\n",
       "      <td>0.394948</td>\n",
       "    </tr>\n",
       "    <tr>\n",
       "      <th>3034</th>\n",
       "      <td>55109.0</td>\n",
       "      <td>St. Croix, WI</td>\n",
       "      <td>0.091508</td>\n",
       "      <td>0.386295</td>\n",
       "      <td>0.331599</td>\n",
       "      <td>0.282106</td>\n",
       "    </tr>\n",
       "    <tr>\n",
       "      <th>1571</th>\n",
       "      <td>29213.0</td>\n",
       "      <td>Taney, MO</td>\n",
       "      <td>0.094434</td>\n",
       "      <td>0.382932</td>\n",
       "      <td>0.381597</td>\n",
       "      <td>0.235470</td>\n",
       "    </tr>\n",
       "    <tr>\n",
       "      <th>1917</th>\n",
       "      <td>37089.0</td>\n",
       "      <td>Henderson, NC</td>\n",
       "      <td>0.095611</td>\n",
       "      <td>0.630087</td>\n",
       "      <td>0.053231</td>\n",
       "      <td>0.316683</td>\n",
       "    </tr>\n",
       "    <tr>\n",
       "      <th>2245</th>\n",
       "      <td>42037.0</td>\n",
       "      <td>Columbia, PA</td>\n",
       "      <td>0.095854</td>\n",
       "      <td>0.490954</td>\n",
       "      <td>0.104616</td>\n",
       "      <td>0.404430</td>\n",
       "    </tr>\n",
       "  </tbody>\n",
       "</table>\n",
       "</div>"
      ],
      "text/plain": [
       "      GeoFIPS        GeoName  distance to 42001       gdp  population  \\\n",
       "3044  55129.0   Washburn, WI           0.090042  0.337936    0.267116   \n",
       "3034  55109.0  St. Croix, WI           0.091508  0.386295    0.331599   \n",
       "1571  29213.0      Taney, MO           0.094434  0.382932    0.381597   \n",
       "1917  37089.0  Henderson, NC           0.095611  0.630087    0.053231   \n",
       "2245  42037.0   Columbia, PA           0.095854  0.490954    0.104616   \n",
       "\n",
       "      ethnic_composition  \n",
       "3044            0.394948  \n",
       "3034            0.282106  \n",
       "1571            0.235470  \n",
       "1917            0.316683  \n",
       "2245            0.404430  "
      ]
     },
     "metadata": {},
     "output_type": "display_data"
    }
   ],
   "source": [
    "f = FipsQuery(\n",
    "    42001,\n",
    "    \"gdp\",\n",
    "    feature_groups_with_weights={\"gdp\": 1, \"population\": 2, \"ethnic_composition\": 3},\n",
    "    lag=0,\n",
    "    top=5,\n",
    "    time_decay=1.06,\n",
    "    outcome_comparison_period=(2003, 2019),\n",
    "    outcome_percentile_range=(40, 100),\n",
    ")\n",
    "f.find_euclidean_kins()\n",
    "\n",
    "# you just want the resulting ranking with the original features\n",
    "display(f.euclidean_kins.head())\n",
    "\n",
    "# you want to inspect weighted contributions of each feature\n",
    "display(f.featurewise_contributions.head())\n",
    "\n",
    "# you want to aggregate these across feature and normalize\n",
    "# numbers now mean: \"percentage of contribution to the distance\"\n",
    "display(f.aggregated_featurewise_contributions.head())"
   ]
  },
  {
   "cell_type": "markdown",
   "metadata": {},
   "source": [
    "## Use Cases\n"
   ]
  },
  {
   "cell_type": "markdown",
   "metadata": {},
   "source": [
    "#### Use case: no outcome, just features\n",
    "\n",
    "This scenario exemplifies not passing an argument for the outcome variable. The plot displays weights assigned to the variables in given years. The weights are not uniformly assigned across the years to emphasize patterns from the most recent time."
   ]
  },
  {
   "cell_type": "code",
   "execution_count": 6,
   "metadata": {},
   "outputs": [
    {
     "name": "stdout",
     "output_type": "stream",
     "text": [
      "['ethnic_composition', 'gdp', 'industry', 'industry_accommodation_food_services_total', 'industry_admin_support_services_total', 'industry_agriculture_total', 'industry_arts_recreation_total', 'industry_construction_total', 'industry_educational_services_total', 'industry_finance_insurance_total', 'industry_healthcare_social_services_total', 'industry_information_total', 'industry_management_enterprises_total', 'industry_manufacturing_total', 'industry_mining_total', 'industry_other_services_total', 'industry_professional_services_total', 'industry_public_administration_total', 'industry_real_estate_total', 'industry_retail_trade_total', 'industry_transportation_warehousing_total', 'industry_utilities_total', 'industry_wholesale_trade_total', 'medianHouseholdIncome', 'population', 'povertyAll', 'povertyAllprct', 'povertyUnder18', 'povertyUnder18prct', 'spending_HHS', 'spending_commerce', 'spending_transportation', 'transport', 'unemployment_rate', 'urbanization']\n",
      "['gdp', 'industry_accommodation_food_services_total', 'industry_admin_support_services_total', 'industry_agriculture_total', 'industry_arts_recreation_total', 'industry_construction_total', 'industry_educational_services_total', 'industry_finance_insurance_total', 'industry_healthcare_social_services_total', 'industry_information_total', 'industry_management_enterprises_total', 'industry_manufacturing_total', 'industry_mining_total', 'industry_other_services_total', 'industry_professional_services_total', 'industry_public_administration_total', 'industry_real_estate_total', 'industry_retail_trade_total', 'industry_transportation_warehousing_total', 'industry_utilities_total', 'industry_wholesale_trade_total', 'medianHouseholdIncome', 'population', 'povertyAll', 'povertyAllprct', 'povertyUnder18', 'povertyUnder18prct', 'spending_HHS', 'spending_commerce', 'spending_transportation', 'unemployment_rate']\n",
      "['spending_HHS', 'spending_commerce', 'spending_transportation']\n",
      "['gdp', 'industry_accommodation_food_services_total', 'industry_admin_support_services_total', 'industry_agriculture_total', 'industry_arts_recreation_total', 'industry_construction_total', 'industry_educational_services_total', 'industry_finance_insurance_total', 'industry_healthcare_social_services_total', 'industry_information_total', 'industry_management_enterprises_total', 'industry_manufacturing_total', 'industry_mining_total', 'industry_other_services_total', 'industry_professional_services_total', 'industry_public_administration_total', 'industry_real_estate_total', 'industry_retail_trade_total', 'industry_transportation_warehousing_total', 'industry_utilities_total', 'industry_wholesale_trade_total', 'medianHouseholdIncome', 'population', 'povertyAll', 'povertyAllprct', 'povertyUnder18', 'povertyUnder18prct', 'unemployment_rate']\n"
     ]
    }
   ],
   "source": [
    "# You don't want to pass outcome and are interested in similarities\n",
    "# but you also want to see what features are available\n",
    "\n",
    "# you may list available features\n",
    "print(list_available_features())\n",
    "\n",
    "# you may notice that `industry` is available, as well as particular `industry_` features. Let's illustrate why:\n",
    "print(list_tensed_features())\n",
    "\n",
    "# `industry_` are particular time series, whereas `industry` does not occur on the tensed_features list. You can inspect\n",
    "# the head of the `industry` dataset:\n",
    "\n",
    "dg = DataGrabber()\n",
    "\n",
    "# each datasets come in four flavors raw/normalized and wide/long. Let's load and inspect the raw wide version for `industry`:\n",
    "\n",
    "dg.get_features_wide([\"industry\"])\n",
    "dg.wide[\"industry\"].head()\n",
    "\n",
    "# these are tenseless data, whose columns are explained in the `data_sources.ipynb` notebook.\n",
    "\n",
    "# you can also look at other lists\n",
    "\n",
    "print(list_interventions())\n",
    "print(list_outcomes())  # these will be time series without the interventions\n",
    "\n",
    "# let's move on with our example."
   ]
  },
  {
   "cell_type": "code",
   "execution_count": 7,
   "metadata": {},
   "outputs": [
    {
     "data": {
      "application/vnd.plotly.v1+json": {
       "config": {
        "plotlyServerURL": "https://plot.ly"
       },
       "data": [
        {
         "type": "bar",
         "x": [
          "1993_population",
          "1994_population",
          "1995_population",
          "1996_population",
          "1997_population",
          "1998_population",
          "1999_population",
          "2000_population",
          "2001_population",
          "2002_population",
          "2003_population",
          "2004_population",
          "2005_population",
          "2006_population",
          "2007_population",
          "2008_population",
          "2009_population",
          "2010_population",
          "2011_population",
          "2012_population",
          "2013_population",
          "2014_population",
          "2015_population",
          "2016_population",
          "2017_population",
          "2018_population",
          "2019_population",
          "2020_population",
          "2021_population",
          "2010_spending_HHS",
          "2011_spending_HHS",
          "2012_spending_HHS",
          "2013_spending_HHS",
          "2014_spending_HHS",
          "2015_spending_HHS",
          "2016_spending_HHS",
          "2017_spending_HHS",
          "2018_spending_HHS",
          "2019_spending_HHS",
          "2020_spending_HHS",
          "2021_spending_HHS"
         ],
         "y": [
          0.03847414014225456,
          0.04155207135363493,
          0.04487623706192573,
          0.04846633602687978,
          0.05234364290903017,
          0.056531134341752595,
          0.0610536250890928,
          0.06593791509622024,
          0.07121294830391786,
          0.07690998416823129,
          0.08306278290168981,
          0.08970780553382499,
          0.09688442997653099,
          0.10463518437465348,
          0.11300599912462576,
          0.12204647905459583,
          0.13181019737896352,
          0.14235501316928062,
          0.15374341422282306,
          0.1660428873606489,
          0.17932631834950083,
          0.19367242381746091,
          0.20916621772285782,
          0.22589951514068643,
          0.24397147635194139,
          0.2634891944600967,
          0.28456833001690446,
          0.30733379641825687,
          0.3319205001317174,
          0.15808505077340862,
          0.17073185483528133,
          0.18439040322210384,
          0.19914163547987215,
          0.21507296631826195,
          0.23227880362372297,
          0.25086110791362076,
          0.27092999654671046,
          0.2926043962704473,
          0.3160127479720831,
          0.3412937678098498,
          0.3685972692346378
         ]
        }
       ],
       "layout": {
        "template": {
         "data": {
          "bar": [
           {
            "error_x": {
             "color": "#2a3f5f"
            },
            "error_y": {
             "color": "#2a3f5f"
            },
            "marker": {
             "line": {
              "color": "white",
              "width": 0.5
             },
             "pattern": {
              "fillmode": "overlay",
              "size": 10,
              "solidity": 0.2
             }
            },
            "type": "bar"
           }
          ],
          "barpolar": [
           {
            "marker": {
             "line": {
              "color": "white",
              "width": 0.5
             },
             "pattern": {
              "fillmode": "overlay",
              "size": 10,
              "solidity": 0.2
             }
            },
            "type": "barpolar"
           }
          ],
          "carpet": [
           {
            "aaxis": {
             "endlinecolor": "#2a3f5f",
             "gridcolor": "#C8D4E3",
             "linecolor": "#C8D4E3",
             "minorgridcolor": "#C8D4E3",
             "startlinecolor": "#2a3f5f"
            },
            "baxis": {
             "endlinecolor": "#2a3f5f",
             "gridcolor": "#C8D4E3",
             "linecolor": "#C8D4E3",
             "minorgridcolor": "#C8D4E3",
             "startlinecolor": "#2a3f5f"
            },
            "type": "carpet"
           }
          ],
          "choropleth": [
           {
            "colorbar": {
             "outlinewidth": 0,
             "ticks": ""
            },
            "type": "choropleth"
           }
          ],
          "contour": [
           {
            "colorbar": {
             "outlinewidth": 0,
             "ticks": ""
            },
            "colorscale": [
             [
              0,
              "#0d0887"
             ],
             [
              0.1111111111111111,
              "#46039f"
             ],
             [
              0.2222222222222222,
              "#7201a8"
             ],
             [
              0.3333333333333333,
              "#9c179e"
             ],
             [
              0.4444444444444444,
              "#bd3786"
             ],
             [
              0.5555555555555556,
              "#d8576b"
             ],
             [
              0.6666666666666666,
              "#ed7953"
             ],
             [
              0.7777777777777778,
              "#fb9f3a"
             ],
             [
              0.8888888888888888,
              "#fdca26"
             ],
             [
              1,
              "#f0f921"
             ]
            ],
            "type": "contour"
           }
          ],
          "contourcarpet": [
           {
            "colorbar": {
             "outlinewidth": 0,
             "ticks": ""
            },
            "type": "contourcarpet"
           }
          ],
          "heatmap": [
           {
            "colorbar": {
             "outlinewidth": 0,
             "ticks": ""
            },
            "colorscale": [
             [
              0,
              "#0d0887"
             ],
             [
              0.1111111111111111,
              "#46039f"
             ],
             [
              0.2222222222222222,
              "#7201a8"
             ],
             [
              0.3333333333333333,
              "#9c179e"
             ],
             [
              0.4444444444444444,
              "#bd3786"
             ],
             [
              0.5555555555555556,
              "#d8576b"
             ],
             [
              0.6666666666666666,
              "#ed7953"
             ],
             [
              0.7777777777777778,
              "#fb9f3a"
             ],
             [
              0.8888888888888888,
              "#fdca26"
             ],
             [
              1,
              "#f0f921"
             ]
            ],
            "type": "heatmap"
           }
          ],
          "heatmapgl": [
           {
            "colorbar": {
             "outlinewidth": 0,
             "ticks": ""
            },
            "colorscale": [
             [
              0,
              "#0d0887"
             ],
             [
              0.1111111111111111,
              "#46039f"
             ],
             [
              0.2222222222222222,
              "#7201a8"
             ],
             [
              0.3333333333333333,
              "#9c179e"
             ],
             [
              0.4444444444444444,
              "#bd3786"
             ],
             [
              0.5555555555555556,
              "#d8576b"
             ],
             [
              0.6666666666666666,
              "#ed7953"
             ],
             [
              0.7777777777777778,
              "#fb9f3a"
             ],
             [
              0.8888888888888888,
              "#fdca26"
             ],
             [
              1,
              "#f0f921"
             ]
            ],
            "type": "heatmapgl"
           }
          ],
          "histogram": [
           {
            "marker": {
             "pattern": {
              "fillmode": "overlay",
              "size": 10,
              "solidity": 0.2
             }
            },
            "type": "histogram"
           }
          ],
          "histogram2d": [
           {
            "colorbar": {
             "outlinewidth": 0,
             "ticks": ""
            },
            "colorscale": [
             [
              0,
              "#0d0887"
             ],
             [
              0.1111111111111111,
              "#46039f"
             ],
             [
              0.2222222222222222,
              "#7201a8"
             ],
             [
              0.3333333333333333,
              "#9c179e"
             ],
             [
              0.4444444444444444,
              "#bd3786"
             ],
             [
              0.5555555555555556,
              "#d8576b"
             ],
             [
              0.6666666666666666,
              "#ed7953"
             ],
             [
              0.7777777777777778,
              "#fb9f3a"
             ],
             [
              0.8888888888888888,
              "#fdca26"
             ],
             [
              1,
              "#f0f921"
             ]
            ],
            "type": "histogram2d"
           }
          ],
          "histogram2dcontour": [
           {
            "colorbar": {
             "outlinewidth": 0,
             "ticks": ""
            },
            "colorscale": [
             [
              0,
              "#0d0887"
             ],
             [
              0.1111111111111111,
              "#46039f"
             ],
             [
              0.2222222222222222,
              "#7201a8"
             ],
             [
              0.3333333333333333,
              "#9c179e"
             ],
             [
              0.4444444444444444,
              "#bd3786"
             ],
             [
              0.5555555555555556,
              "#d8576b"
             ],
             [
              0.6666666666666666,
              "#ed7953"
             ],
             [
              0.7777777777777778,
              "#fb9f3a"
             ],
             [
              0.8888888888888888,
              "#fdca26"
             ],
             [
              1,
              "#f0f921"
             ]
            ],
            "type": "histogram2dcontour"
           }
          ],
          "mesh3d": [
           {
            "colorbar": {
             "outlinewidth": 0,
             "ticks": ""
            },
            "type": "mesh3d"
           }
          ],
          "parcoords": [
           {
            "line": {
             "colorbar": {
              "outlinewidth": 0,
              "ticks": ""
             }
            },
            "type": "parcoords"
           }
          ],
          "pie": [
           {
            "automargin": true,
            "type": "pie"
           }
          ],
          "scatter": [
           {
            "fillpattern": {
             "fillmode": "overlay",
             "size": 10,
             "solidity": 0.2
            },
            "type": "scatter"
           }
          ],
          "scatter3d": [
           {
            "line": {
             "colorbar": {
              "outlinewidth": 0,
              "ticks": ""
             }
            },
            "marker": {
             "colorbar": {
              "outlinewidth": 0,
              "ticks": ""
             }
            },
            "type": "scatter3d"
           }
          ],
          "scattercarpet": [
           {
            "marker": {
             "colorbar": {
              "outlinewidth": 0,
              "ticks": ""
             }
            },
            "type": "scattercarpet"
           }
          ],
          "scattergeo": [
           {
            "marker": {
             "colorbar": {
              "outlinewidth": 0,
              "ticks": ""
             }
            },
            "type": "scattergeo"
           }
          ],
          "scattergl": [
           {
            "marker": {
             "colorbar": {
              "outlinewidth": 0,
              "ticks": ""
             }
            },
            "type": "scattergl"
           }
          ],
          "scattermapbox": [
           {
            "marker": {
             "colorbar": {
              "outlinewidth": 0,
              "ticks": ""
             }
            },
            "type": "scattermapbox"
           }
          ],
          "scatterpolar": [
           {
            "marker": {
             "colorbar": {
              "outlinewidth": 0,
              "ticks": ""
             }
            },
            "type": "scatterpolar"
           }
          ],
          "scatterpolargl": [
           {
            "marker": {
             "colorbar": {
              "outlinewidth": 0,
              "ticks": ""
             }
            },
            "type": "scatterpolargl"
           }
          ],
          "scatterternary": [
           {
            "marker": {
             "colorbar": {
              "outlinewidth": 0,
              "ticks": ""
             }
            },
            "type": "scatterternary"
           }
          ],
          "surface": [
           {
            "colorbar": {
             "outlinewidth": 0,
             "ticks": ""
            },
            "colorscale": [
             [
              0,
              "#0d0887"
             ],
             [
              0.1111111111111111,
              "#46039f"
             ],
             [
              0.2222222222222222,
              "#7201a8"
             ],
             [
              0.3333333333333333,
              "#9c179e"
             ],
             [
              0.4444444444444444,
              "#bd3786"
             ],
             [
              0.5555555555555556,
              "#d8576b"
             ],
             [
              0.6666666666666666,
              "#ed7953"
             ],
             [
              0.7777777777777778,
              "#fb9f3a"
             ],
             [
              0.8888888888888888,
              "#fdca26"
             ],
             [
              1,
              "#f0f921"
             ]
            ],
            "type": "surface"
           }
          ],
          "table": [
           {
            "cells": {
             "fill": {
              "color": "#EBF0F8"
             },
             "line": {
              "color": "white"
             }
            },
            "header": {
             "fill": {
              "color": "#C8D4E3"
             },
             "line": {
              "color": "white"
             }
            },
            "type": "table"
           }
          ]
         },
         "layout": {
          "annotationdefaults": {
           "arrowcolor": "#2a3f5f",
           "arrowhead": 0,
           "arrowwidth": 1
          },
          "autotypenumbers": "strict",
          "coloraxis": {
           "colorbar": {
            "outlinewidth": 0,
            "ticks": ""
           }
          },
          "colorscale": {
           "diverging": [
            [
             0,
             "#8e0152"
            ],
            [
             0.1,
             "#c51b7d"
            ],
            [
             0.2,
             "#de77ae"
            ],
            [
             0.3,
             "#f1b6da"
            ],
            [
             0.4,
             "#fde0ef"
            ],
            [
             0.5,
             "#f7f7f7"
            ],
            [
             0.6,
             "#e6f5d0"
            ],
            [
             0.7,
             "#b8e186"
            ],
            [
             0.8,
             "#7fbc41"
            ],
            [
             0.9,
             "#4d9221"
            ],
            [
             1,
             "#276419"
            ]
           ],
           "sequential": [
            [
             0,
             "#0d0887"
            ],
            [
             0.1111111111111111,
             "#46039f"
            ],
            [
             0.2222222222222222,
             "#7201a8"
            ],
            [
             0.3333333333333333,
             "#9c179e"
            ],
            [
             0.4444444444444444,
             "#bd3786"
            ],
            [
             0.5555555555555556,
             "#d8576b"
            ],
            [
             0.6666666666666666,
             "#ed7953"
            ],
            [
             0.7777777777777778,
             "#fb9f3a"
            ],
            [
             0.8888888888888888,
             "#fdca26"
            ],
            [
             1,
             "#f0f921"
            ]
           ],
           "sequentialminus": [
            [
             0,
             "#0d0887"
            ],
            [
             0.1111111111111111,
             "#46039f"
            ],
            [
             0.2222222222222222,
             "#7201a8"
            ],
            [
             0.3333333333333333,
             "#9c179e"
            ],
            [
             0.4444444444444444,
             "#bd3786"
            ],
            [
             0.5555555555555556,
             "#d8576b"
            ],
            [
             0.6666666666666666,
             "#ed7953"
            ],
            [
             0.7777777777777778,
             "#fb9f3a"
            ],
            [
             0.8888888888888888,
             "#fdca26"
            ],
            [
             1,
             "#f0f921"
            ]
           ]
          },
          "colorway": [
           "#636efa",
           "#EF553B",
           "#00cc96",
           "#ab63fa",
           "#FFA15A",
           "#19d3f3",
           "#FF6692",
           "#B6E880",
           "#FF97FF",
           "#FECB52"
          ],
          "font": {
           "color": "#2a3f5f"
          },
          "geo": {
           "bgcolor": "white",
           "lakecolor": "white",
           "landcolor": "white",
           "showlakes": true,
           "showland": true,
           "subunitcolor": "#C8D4E3"
          },
          "hoverlabel": {
           "align": "left"
          },
          "hovermode": "closest",
          "mapbox": {
           "style": "light"
          },
          "paper_bgcolor": "white",
          "plot_bgcolor": "white",
          "polar": {
           "angularaxis": {
            "gridcolor": "#EBF0F8",
            "linecolor": "#EBF0F8",
            "ticks": ""
           },
           "bgcolor": "white",
           "radialaxis": {
            "gridcolor": "#EBF0F8",
            "linecolor": "#EBF0F8",
            "ticks": ""
           }
          },
          "scene": {
           "xaxis": {
            "backgroundcolor": "white",
            "gridcolor": "#DFE8F3",
            "gridwidth": 2,
            "linecolor": "#EBF0F8",
            "showbackground": true,
            "ticks": "",
            "zerolinecolor": "#EBF0F8"
           },
           "yaxis": {
            "backgroundcolor": "white",
            "gridcolor": "#DFE8F3",
            "gridwidth": 2,
            "linecolor": "#EBF0F8",
            "showbackground": true,
            "ticks": "",
            "zerolinecolor": "#EBF0F8"
           },
           "zaxis": {
            "backgroundcolor": "white",
            "gridcolor": "#DFE8F3",
            "gridwidth": 2,
            "linecolor": "#EBF0F8",
            "showbackground": true,
            "ticks": "",
            "zerolinecolor": "#EBF0F8"
           }
          },
          "shapedefaults": {
           "line": {
            "color": "#2a3f5f"
           }
          },
          "ternary": {
           "aaxis": {
            "gridcolor": "#DFE8F3",
            "linecolor": "#A2B1C6",
            "ticks": ""
           },
           "baxis": {
            "gridcolor": "#DFE8F3",
            "linecolor": "#A2B1C6",
            "ticks": ""
           },
           "bgcolor": "white",
           "caxis": {
            "gridcolor": "#DFE8F3",
            "linecolor": "#A2B1C6",
            "ticks": ""
           }
          },
          "title": {
           "x": 0.05
          },
          "xaxis": {
           "automargin": true,
           "gridcolor": "#EBF0F8",
           "linecolor": "#EBF0F8",
           "ticks": "",
           "title": {
            "standoff": 15
           },
           "zerolinecolor": "#EBF0F8",
           "zerolinewidth": 2
          },
          "yaxis": {
           "automargin": true,
           "gridcolor": "#EBF0F8",
           "linecolor": "#EBF0F8",
           "ticks": "",
           "title": {
            "standoff": 15
           },
           "zerolinecolor": "#EBF0F8",
           "zerolinewidth": 2
          }
         }
        },
        "title": {
         "text": "Weights of columns"
        },
        "xaxis": {
         "title": {
          "text": "columns"
         }
        },
        "yaxis": {
         "title": {
          "text": "weights"
         }
        }
       }
      }
     },
     "metadata": {},
     "output_type": "display_data"
    },
    {
     "data": {
      "text/html": [
       "<div>\n",
       "<style scoped>\n",
       "    .dataframe tbody tr th:only-of-type {\n",
       "        vertical-align: middle;\n",
       "    }\n",
       "\n",
       "    .dataframe tbody tr th {\n",
       "        vertical-align: top;\n",
       "    }\n",
       "\n",
       "    .dataframe thead th {\n",
       "        text-align: right;\n",
       "    }\n",
       "</style>\n",
       "<table border=\"1\" class=\"dataframe\">\n",
       "  <thead>\n",
       "    <tr style=\"text-align: right;\">\n",
       "      <th></th>\n",
       "      <th>GeoFIPS</th>\n",
       "      <th>GeoName</th>\n",
       "      <th>1993_population</th>\n",
       "      <th>1994_population</th>\n",
       "      <th>1995_population</th>\n",
       "      <th>1996_population</th>\n",
       "      <th>1997_population</th>\n",
       "      <th>1998_population</th>\n",
       "      <th>1999_population</th>\n",
       "      <th>2000_population</th>\n",
       "      <th>...</th>\n",
       "      <th>2013_spending_HHS</th>\n",
       "      <th>2014_spending_HHS</th>\n",
       "      <th>2015_spending_HHS</th>\n",
       "      <th>2016_spending_HHS</th>\n",
       "      <th>2017_spending_HHS</th>\n",
       "      <th>2018_spending_HHS</th>\n",
       "      <th>2019_spending_HHS</th>\n",
       "      <th>2020_spending_HHS</th>\n",
       "      <th>2021_spending_HHS</th>\n",
       "      <th>distance to 42001</th>\n",
       "    </tr>\n",
       "  </thead>\n",
       "  <tbody>\n",
       "    <tr>\n",
       "      <th>2227</th>\n",
       "      <td>42001</td>\n",
       "      <td>Adams, PA</td>\n",
       "      <td>83013.0</td>\n",
       "      <td>84186.0</td>\n",
       "      <td>85063.0</td>\n",
       "      <td>86252.0</td>\n",
       "      <td>87751.0</td>\n",
       "      <td>89074.0</td>\n",
       "      <td>90363.0</td>\n",
       "      <td>91457.0</td>\n",
       "      <td>...</td>\n",
       "      <td>6.841459e+07</td>\n",
       "      <td>2.843109e+07</td>\n",
       "      <td>1.022756e+07</td>\n",
       "      <td>3.068268e+07</td>\n",
       "      <td>2.081153e+07</td>\n",
       "      <td>3.134013e+07</td>\n",
       "      <td>5.207267e+07</td>\n",
       "      <td>3.151378e+07</td>\n",
       "      <td>4.473508e+07</td>\n",
       "      <td>0.000000</td>\n",
       "    </tr>\n",
       "    <tr>\n",
       "      <th>1501</th>\n",
       "      <td>29071</td>\n",
       "      <td>Franklin, MO</td>\n",
       "      <td>84234.0</td>\n",
       "      <td>85586.0</td>\n",
       "      <td>87584.0</td>\n",
       "      <td>89357.0</td>\n",
       "      <td>90710.0</td>\n",
       "      <td>91697.0</td>\n",
       "      <td>92914.0</td>\n",
       "      <td>94050.0</td>\n",
       "      <td>...</td>\n",
       "      <td>0.000000e+00</td>\n",
       "      <td>0.000000e+00</td>\n",
       "      <td>0.000000e+00</td>\n",
       "      <td>0.000000e+00</td>\n",
       "      <td>0.000000e+00</td>\n",
       "      <td>7.500000e+05</td>\n",
       "      <td>5.000000e+05</td>\n",
       "      <td>9.500000e+05</td>\n",
       "      <td>9.000000e+05</td>\n",
       "      <td>0.001296</td>\n",
       "    </tr>\n",
       "    <tr>\n",
       "      <th>3043</th>\n",
       "      <td>55127</td>\n",
       "      <td>Walworth, WI</td>\n",
       "      <td>80707.0</td>\n",
       "      <td>83079.0</td>\n",
       "      <td>84933.0</td>\n",
       "      <td>86893.0</td>\n",
       "      <td>88862.0</td>\n",
       "      <td>90724.0</td>\n",
       "      <td>92407.0</td>\n",
       "      <td>92328.0</td>\n",
       "      <td>...</td>\n",
       "      <td>0.000000e+00</td>\n",
       "      <td>0.000000e+00</td>\n",
       "      <td>0.000000e+00</td>\n",
       "      <td>2.376715e+07</td>\n",
       "      <td>5.118558e+07</td>\n",
       "      <td>6.124352e+07</td>\n",
       "      <td>5.733653e+07</td>\n",
       "      <td>5.592463e+07</td>\n",
       "      <td>4.706138e+07</td>\n",
       "      <td>0.001933</td>\n",
       "    </tr>\n",
       "    <tr>\n",
       "      <th>207</th>\n",
       "      <td>6057</td>\n",
       "      <td>Nevada, CA</td>\n",
       "      <td>83887.0</td>\n",
       "      <td>85185.0</td>\n",
       "      <td>86523.0</td>\n",
       "      <td>87861.0</td>\n",
       "      <td>89137.0</td>\n",
       "      <td>90170.0</td>\n",
       "      <td>90899.0</td>\n",
       "      <td>92520.0</td>\n",
       "      <td>...</td>\n",
       "      <td>3.942539e+06</td>\n",
       "      <td>3.645560e+06</td>\n",
       "      <td>4.258991e+07</td>\n",
       "      <td>4.172342e+07</td>\n",
       "      <td>1.388350e+08</td>\n",
       "      <td>2.973797e+08</td>\n",
       "      <td>2.465198e+08</td>\n",
       "      <td>1.116041e+08</td>\n",
       "      <td>2.074995e+08</td>\n",
       "      <td>0.002467</td>\n",
       "    </tr>\n",
       "    <tr>\n",
       "      <th>2996</th>\n",
       "      <td>55035</td>\n",
       "      <td>Eau Claire, WI</td>\n",
       "      <td>88289.0</td>\n",
       "      <td>89072.0</td>\n",
       "      <td>89868.0</td>\n",
       "      <td>90694.0</td>\n",
       "      <td>91487.0</td>\n",
       "      <td>91870.0</td>\n",
       "      <td>92618.0</td>\n",
       "      <td>93310.0</td>\n",
       "      <td>...</td>\n",
       "      <td>3.123919e+06</td>\n",
       "      <td>1.503982e+06</td>\n",
       "      <td>2.112040e+06</td>\n",
       "      <td>2.560289e+06</td>\n",
       "      <td>1.814911e+06</td>\n",
       "      <td>1.595182e+06</td>\n",
       "      <td>5.516769e+05</td>\n",
       "      <td>5.298087e+06</td>\n",
       "      <td>8.091123e+06</td>\n",
       "      <td>0.002480</td>\n",
       "    </tr>\n",
       "    <tr>\n",
       "      <th>...</th>\n",
       "      <td>...</td>\n",
       "      <td>...</td>\n",
       "      <td>...</td>\n",
       "      <td>...</td>\n",
       "      <td>...</td>\n",
       "      <td>...</td>\n",
       "      <td>...</td>\n",
       "      <td>...</td>\n",
       "      <td>...</td>\n",
       "      <td>...</td>\n",
       "      <td>...</td>\n",
       "      <td>...</td>\n",
       "      <td>...</td>\n",
       "      <td>...</td>\n",
       "      <td>...</td>\n",
       "      <td>...</td>\n",
       "      <td>...</td>\n",
       "      <td>...</td>\n",
       "      <td>...</td>\n",
       "      <td>...</td>\n",
       "      <td>...</td>\n",
       "    </tr>\n",
       "    <tr>\n",
       "      <th>2732</th>\n",
       "      <td>48453</td>\n",
       "      <td>Travis, TX</td>\n",
       "      <td>649226.0</td>\n",
       "      <td>671759.0</td>\n",
       "      <td>696278.0</td>\n",
       "      <td>717194.0</td>\n",
       "      <td>736587.0</td>\n",
       "      <td>761335.0</td>\n",
       "      <td>788500.0</td>\n",
       "      <td>819692.0</td>\n",
       "      <td>...</td>\n",
       "      <td>2.225282e+11</td>\n",
       "      <td>2.231797e+11</td>\n",
       "      <td>2.118196e+11</td>\n",
       "      <td>2.138400e+11</td>\n",
       "      <td>2.527288e+11</td>\n",
       "      <td>3.552319e+11</td>\n",
       "      <td>4.896949e+11</td>\n",
       "      <td>6.288495e+11</td>\n",
       "      <td>7.776532e+11</td>\n",
       "      <td>1.973836</td>\n",
       "    </tr>\n",
       "    <tr>\n",
       "      <th>600</th>\n",
       "      <td>17031</td>\n",
       "      <td>Cook, IL</td>\n",
       "      <td>5235344.0</td>\n",
       "      <td>5262162.0</td>\n",
       "      <td>5283463.0</td>\n",
       "      <td>5306511.0</td>\n",
       "      <td>5322117.0</td>\n",
       "      <td>5345537.0</td>\n",
       "      <td>5365344.0</td>\n",
       "      <td>5373418.0</td>\n",
       "      <td>...</td>\n",
       "      <td>1.945389e+10</td>\n",
       "      <td>1.879525e+10</td>\n",
       "      <td>1.811116e+10</td>\n",
       "      <td>2.067402e+10</td>\n",
       "      <td>2.868427e+10</td>\n",
       "      <td>3.211947e+10</td>\n",
       "      <td>4.050188e+10</td>\n",
       "      <td>4.095196e+10</td>\n",
       "      <td>4.722273e+10</td>\n",
       "      <td>2.016573</td>\n",
       "    </tr>\n",
       "    <tr>\n",
       "      <th>212</th>\n",
       "      <td>6067</td>\n",
       "      <td>Sacramento, CA</td>\n",
       "      <td>1127608.0</td>\n",
       "      <td>1130094.0</td>\n",
       "      <td>1140825.0</td>\n",
       "      <td>1155635.0</td>\n",
       "      <td>1169855.0</td>\n",
       "      <td>1186617.0</td>\n",
       "      <td>1206659.0</td>\n",
       "      <td>1229940.0</td>\n",
       "      <td>...</td>\n",
       "      <td>3.614194e+11</td>\n",
       "      <td>4.741250e+11</td>\n",
       "      <td>3.639794e+11</td>\n",
       "      <td>3.878961e+11</td>\n",
       "      <td>3.388018e+11</td>\n",
       "      <td>1.298456e+12</td>\n",
       "      <td>1.235765e+12</td>\n",
       "      <td>1.717218e+12</td>\n",
       "      <td>1.842294e+12</td>\n",
       "      <td>2.131305</td>\n",
       "    </tr>\n",
       "    <tr>\n",
       "      <th>197</th>\n",
       "      <td>6037</td>\n",
       "      <td>Los Angeles, CA</td>\n",
       "      <td>9100159.0</td>\n",
       "      <td>9096608.0</td>\n",
       "      <td>9089015.0</td>\n",
       "      <td>9127042.0</td>\n",
       "      <td>9206538.0</td>\n",
       "      <td>9313589.0</td>\n",
       "      <td>9437290.0</td>\n",
       "      <td>9538191.0</td>\n",
       "      <td>...</td>\n",
       "      <td>2.348763e+10</td>\n",
       "      <td>2.294435e+10</td>\n",
       "      <td>2.502567e+10</td>\n",
       "      <td>2.839330e+10</td>\n",
       "      <td>3.868660e+10</td>\n",
       "      <td>5.899629e+10</td>\n",
       "      <td>1.410259e+11</td>\n",
       "      <td>2.187211e+11</td>\n",
       "      <td>2.577860e+11</td>\n",
       "      <td>2.164873</td>\n",
       "    </tr>\n",
       "    <tr>\n",
       "      <th>96</th>\n",
       "      <td>4013</td>\n",
       "      <td>Maricopa, AZ</td>\n",
       "      <td>2359883.0</td>\n",
       "      <td>2475159.0</td>\n",
       "      <td>2598183.0</td>\n",
       "      <td>2703078.0</td>\n",
       "      <td>2805009.0</td>\n",
       "      <td>2909040.0</td>\n",
       "      <td>3004985.0</td>\n",
       "      <td>3092197.0</td>\n",
       "      <td>...</td>\n",
       "      <td>6.047153e+10</td>\n",
       "      <td>6.486485e+10</td>\n",
       "      <td>6.829313e+10</td>\n",
       "      <td>7.820898e+10</td>\n",
       "      <td>1.406561e+11</td>\n",
       "      <td>1.596067e+11</td>\n",
       "      <td>2.023114e+11</td>\n",
       "      <td>2.906338e+11</td>\n",
       "      <td>2.705337e+11</td>\n",
       "      <td>2.318135</td>\n",
       "    </tr>\n",
       "  </tbody>\n",
       "</table>\n",
       "<p>3074 rows × 44 columns</p>\n",
       "</div>"
      ],
      "text/plain": [
       "      GeoFIPS          GeoName  1993_population  1994_population  \\\n",
       "2227    42001        Adams, PA          83013.0          84186.0   \n",
       "1501    29071     Franklin, MO          84234.0          85586.0   \n",
       "3043    55127     Walworth, WI          80707.0          83079.0   \n",
       "207      6057       Nevada, CA          83887.0          85185.0   \n",
       "2996    55035   Eau Claire, WI          88289.0          89072.0   \n",
       "...       ...              ...              ...              ...   \n",
       "2732    48453       Travis, TX         649226.0         671759.0   \n",
       "600     17031         Cook, IL        5235344.0        5262162.0   \n",
       "212      6067   Sacramento, CA        1127608.0        1130094.0   \n",
       "197      6037  Los Angeles, CA        9100159.0        9096608.0   \n",
       "96       4013     Maricopa, AZ        2359883.0        2475159.0   \n",
       "\n",
       "      1995_population  1996_population  1997_population  1998_population  \\\n",
       "2227          85063.0          86252.0          87751.0          89074.0   \n",
       "1501          87584.0          89357.0          90710.0          91697.0   \n",
       "3043          84933.0          86893.0          88862.0          90724.0   \n",
       "207           86523.0          87861.0          89137.0          90170.0   \n",
       "2996          89868.0          90694.0          91487.0          91870.0   \n",
       "...               ...              ...              ...              ...   \n",
       "2732         696278.0         717194.0         736587.0         761335.0   \n",
       "600         5283463.0        5306511.0        5322117.0        5345537.0   \n",
       "212         1140825.0        1155635.0        1169855.0        1186617.0   \n",
       "197         9089015.0        9127042.0        9206538.0        9313589.0   \n",
       "96          2598183.0        2703078.0        2805009.0        2909040.0   \n",
       "\n",
       "      1999_population  2000_population  ...  2013_spending_HHS  \\\n",
       "2227          90363.0          91457.0  ...       6.841459e+07   \n",
       "1501          92914.0          94050.0  ...       0.000000e+00   \n",
       "3043          92407.0          92328.0  ...       0.000000e+00   \n",
       "207           90899.0          92520.0  ...       3.942539e+06   \n",
       "2996          92618.0          93310.0  ...       3.123919e+06   \n",
       "...               ...              ...  ...                ...   \n",
       "2732         788500.0         819692.0  ...       2.225282e+11   \n",
       "600         5365344.0        5373418.0  ...       1.945389e+10   \n",
       "212         1206659.0        1229940.0  ...       3.614194e+11   \n",
       "197         9437290.0        9538191.0  ...       2.348763e+10   \n",
       "96          3004985.0        3092197.0  ...       6.047153e+10   \n",
       "\n",
       "      2014_spending_HHS  2015_spending_HHS  2016_spending_HHS  \\\n",
       "2227       2.843109e+07       1.022756e+07       3.068268e+07   \n",
       "1501       0.000000e+00       0.000000e+00       0.000000e+00   \n",
       "3043       0.000000e+00       0.000000e+00       2.376715e+07   \n",
       "207        3.645560e+06       4.258991e+07       4.172342e+07   \n",
       "2996       1.503982e+06       2.112040e+06       2.560289e+06   \n",
       "...                 ...                ...                ...   \n",
       "2732       2.231797e+11       2.118196e+11       2.138400e+11   \n",
       "600        1.879525e+10       1.811116e+10       2.067402e+10   \n",
       "212        4.741250e+11       3.639794e+11       3.878961e+11   \n",
       "197        2.294435e+10       2.502567e+10       2.839330e+10   \n",
       "96         6.486485e+10       6.829313e+10       7.820898e+10   \n",
       "\n",
       "      2017_spending_HHS  2018_spending_HHS  2019_spending_HHS  \\\n",
       "2227       2.081153e+07       3.134013e+07       5.207267e+07   \n",
       "1501       0.000000e+00       7.500000e+05       5.000000e+05   \n",
       "3043       5.118558e+07       6.124352e+07       5.733653e+07   \n",
       "207        1.388350e+08       2.973797e+08       2.465198e+08   \n",
       "2996       1.814911e+06       1.595182e+06       5.516769e+05   \n",
       "...                 ...                ...                ...   \n",
       "2732       2.527288e+11       3.552319e+11       4.896949e+11   \n",
       "600        2.868427e+10       3.211947e+10       4.050188e+10   \n",
       "212        3.388018e+11       1.298456e+12       1.235765e+12   \n",
       "197        3.868660e+10       5.899629e+10       1.410259e+11   \n",
       "96         1.406561e+11       1.596067e+11       2.023114e+11   \n",
       "\n",
       "      2020_spending_HHS  2021_spending_HHS  distance to 42001  \n",
       "2227       3.151378e+07       4.473508e+07           0.000000  \n",
       "1501       9.500000e+05       9.000000e+05           0.001296  \n",
       "3043       5.592463e+07       4.706138e+07           0.001933  \n",
       "207        1.116041e+08       2.074995e+08           0.002467  \n",
       "2996       5.298087e+06       8.091123e+06           0.002480  \n",
       "...                 ...                ...                ...  \n",
       "2732       6.288495e+11       7.776532e+11           1.973836  \n",
       "600        4.095196e+10       4.722273e+10           2.016573  \n",
       "212        1.717218e+12       1.842294e+12           2.131305  \n",
       "197        2.187211e+11       2.577860e+11           2.164873  \n",
       "96         2.906338e+11       2.705337e+11           2.318135  \n",
       "\n",
       "[3074 rows x 44 columns]"
      ]
     },
     "metadata": {},
     "output_type": "display_data"
    }
   ],
   "source": [
    "f = FipsQuery(42001, feature_groups_with_weights={\"population\": 4, \"spending_HHS\": 3})\n",
    "f.find_euclidean_kins()\n",
    "f.plot_weights()\n",
    "display(f.euclidean_kins)"
   ]
  },
  {
   "cell_type": "markdown",
   "metadata": {},
   "source": [
    "#### Use case: outcome with weight 0\n",
    "\n",
    "In this example, we assign a weight of 0 to the outcome. This effectively excludes the outcome from similarity calculations, but allows for plotting thereof."
   ]
  },
  {
   "cell_type": "code",
   "execution_count": 8,
   "metadata": {},
   "outputs": [
    {
     "name": "stdout",
     "output_type": "stream",
     "text": [
      "['ethnic_composition', 'gdp', 'industry', 'industry_accommodation_food_services_total', 'industry_admin_support_services_total', 'industry_agriculture_total', 'industry_arts_recreation_total', 'industry_construction_total', 'industry_educational_services_total', 'industry_finance_insurance_total', 'industry_healthcare_social_services_total', 'industry_information_total', 'industry_management_enterprises_total', 'industry_manufacturing_total', 'industry_mining_total', 'industry_other_services_total', 'industry_professional_services_total', 'industry_public_administration_total', 'industry_real_estate_total', 'industry_retail_trade_total', 'industry_transportation_warehousing_total', 'industry_utilities_total', 'industry_wholesale_trade_total', 'medianHouseholdIncome', 'population', 'povertyAll', 'povertyAllprct', 'povertyUnder18', 'povertyUnder18prct', 'spending_HHS', 'spending_commerce', 'spending_transportation', 'transport', 'unemployment_rate', 'urbanization']\n"
     ]
    },
    {
     "data": {
      "application/vnd.plotly.v1+json": {
       "config": {
        "plotlyServerURL": "https://plot.ly"
       },
       "data": [
        {
         "type": "bar",
         "x": [
          "2010_spending_HHS",
          "2011_spending_HHS",
          "2012_spending_HHS",
          "2013_spending_HHS",
          "2014_spending_HHS",
          "2015_spending_HHS",
          "2016_spending_HHS",
          "2017_spending_HHS",
          "2018_spending_HHS",
          "2019_spending_HHS",
          "2020_spending_HHS",
          "2021_spending_HHS",
          "1993_population",
          "1994_population",
          "1995_population",
          "1996_population",
          "1997_population",
          "1998_population",
          "1999_population",
          "2000_population",
          "2001_population",
          "2002_population",
          "2003_population",
          "2004_population",
          "2005_population",
          "2006_population",
          "2007_population",
          "2008_population",
          "2009_population",
          "2010_population",
          "2011_population",
          "2012_population",
          "2013_population",
          "2014_population",
          "2015_population",
          "2016_population",
          "2017_population",
          "2018_population",
          "2019_population",
          "2020_population",
          "2021_population"
         ],
         "y": [
          0,
          0,
          0,
          0,
          0,
          0,
          0,
          0,
          0,
          0,
          0,
          0,
          0.03847414014225456,
          0.04155207135363493,
          0.04487623706192573,
          0.04846633602687978,
          0.05234364290903017,
          0.056531134341752595,
          0.0610536250890928,
          0.06593791509622024,
          0.07121294830391786,
          0.07690998416823129,
          0.08306278290168981,
          0.08970780553382499,
          0.09688442997653099,
          0.10463518437465348,
          0.11300599912462576,
          0.12204647905459583,
          0.13181019737896352,
          0.14235501316928062,
          0.15374341422282306,
          0.1660428873606489,
          0.17932631834950083,
          0.19367242381746091,
          0.20916621772285782,
          0.22589951514068643,
          0.24397147635194139,
          0.2634891944600967,
          0.28456833001690446,
          0.30733379641825687,
          0.3319205001317174
         ]
        }
       ],
       "layout": {
        "template": {
         "data": {
          "bar": [
           {
            "error_x": {
             "color": "#2a3f5f"
            },
            "error_y": {
             "color": "#2a3f5f"
            },
            "marker": {
             "line": {
              "color": "white",
              "width": 0.5
             },
             "pattern": {
              "fillmode": "overlay",
              "size": 10,
              "solidity": 0.2
             }
            },
            "type": "bar"
           }
          ],
          "barpolar": [
           {
            "marker": {
             "line": {
              "color": "white",
              "width": 0.5
             },
             "pattern": {
              "fillmode": "overlay",
              "size": 10,
              "solidity": 0.2
             }
            },
            "type": "barpolar"
           }
          ],
          "carpet": [
           {
            "aaxis": {
             "endlinecolor": "#2a3f5f",
             "gridcolor": "#C8D4E3",
             "linecolor": "#C8D4E3",
             "minorgridcolor": "#C8D4E3",
             "startlinecolor": "#2a3f5f"
            },
            "baxis": {
             "endlinecolor": "#2a3f5f",
             "gridcolor": "#C8D4E3",
             "linecolor": "#C8D4E3",
             "minorgridcolor": "#C8D4E3",
             "startlinecolor": "#2a3f5f"
            },
            "type": "carpet"
           }
          ],
          "choropleth": [
           {
            "colorbar": {
             "outlinewidth": 0,
             "ticks": ""
            },
            "type": "choropleth"
           }
          ],
          "contour": [
           {
            "colorbar": {
             "outlinewidth": 0,
             "ticks": ""
            },
            "colorscale": [
             [
              0,
              "#0d0887"
             ],
             [
              0.1111111111111111,
              "#46039f"
             ],
             [
              0.2222222222222222,
              "#7201a8"
             ],
             [
              0.3333333333333333,
              "#9c179e"
             ],
             [
              0.4444444444444444,
              "#bd3786"
             ],
             [
              0.5555555555555556,
              "#d8576b"
             ],
             [
              0.6666666666666666,
              "#ed7953"
             ],
             [
              0.7777777777777778,
              "#fb9f3a"
             ],
             [
              0.8888888888888888,
              "#fdca26"
             ],
             [
              1,
              "#f0f921"
             ]
            ],
            "type": "contour"
           }
          ],
          "contourcarpet": [
           {
            "colorbar": {
             "outlinewidth": 0,
             "ticks": ""
            },
            "type": "contourcarpet"
           }
          ],
          "heatmap": [
           {
            "colorbar": {
             "outlinewidth": 0,
             "ticks": ""
            },
            "colorscale": [
             [
              0,
              "#0d0887"
             ],
             [
              0.1111111111111111,
              "#46039f"
             ],
             [
              0.2222222222222222,
              "#7201a8"
             ],
             [
              0.3333333333333333,
              "#9c179e"
             ],
             [
              0.4444444444444444,
              "#bd3786"
             ],
             [
              0.5555555555555556,
              "#d8576b"
             ],
             [
              0.6666666666666666,
              "#ed7953"
             ],
             [
              0.7777777777777778,
              "#fb9f3a"
             ],
             [
              0.8888888888888888,
              "#fdca26"
             ],
             [
              1,
              "#f0f921"
             ]
            ],
            "type": "heatmap"
           }
          ],
          "heatmapgl": [
           {
            "colorbar": {
             "outlinewidth": 0,
             "ticks": ""
            },
            "colorscale": [
             [
              0,
              "#0d0887"
             ],
             [
              0.1111111111111111,
              "#46039f"
             ],
             [
              0.2222222222222222,
              "#7201a8"
             ],
             [
              0.3333333333333333,
              "#9c179e"
             ],
             [
              0.4444444444444444,
              "#bd3786"
             ],
             [
              0.5555555555555556,
              "#d8576b"
             ],
             [
              0.6666666666666666,
              "#ed7953"
             ],
             [
              0.7777777777777778,
              "#fb9f3a"
             ],
             [
              0.8888888888888888,
              "#fdca26"
             ],
             [
              1,
              "#f0f921"
             ]
            ],
            "type": "heatmapgl"
           }
          ],
          "histogram": [
           {
            "marker": {
             "pattern": {
              "fillmode": "overlay",
              "size": 10,
              "solidity": 0.2
             }
            },
            "type": "histogram"
           }
          ],
          "histogram2d": [
           {
            "colorbar": {
             "outlinewidth": 0,
             "ticks": ""
            },
            "colorscale": [
             [
              0,
              "#0d0887"
             ],
             [
              0.1111111111111111,
              "#46039f"
             ],
             [
              0.2222222222222222,
              "#7201a8"
             ],
             [
              0.3333333333333333,
              "#9c179e"
             ],
             [
              0.4444444444444444,
              "#bd3786"
             ],
             [
              0.5555555555555556,
              "#d8576b"
             ],
             [
              0.6666666666666666,
              "#ed7953"
             ],
             [
              0.7777777777777778,
              "#fb9f3a"
             ],
             [
              0.8888888888888888,
              "#fdca26"
             ],
             [
              1,
              "#f0f921"
             ]
            ],
            "type": "histogram2d"
           }
          ],
          "histogram2dcontour": [
           {
            "colorbar": {
             "outlinewidth": 0,
             "ticks": ""
            },
            "colorscale": [
             [
              0,
              "#0d0887"
             ],
             [
              0.1111111111111111,
              "#46039f"
             ],
             [
              0.2222222222222222,
              "#7201a8"
             ],
             [
              0.3333333333333333,
              "#9c179e"
             ],
             [
              0.4444444444444444,
              "#bd3786"
             ],
             [
              0.5555555555555556,
              "#d8576b"
             ],
             [
              0.6666666666666666,
              "#ed7953"
             ],
             [
              0.7777777777777778,
              "#fb9f3a"
             ],
             [
              0.8888888888888888,
              "#fdca26"
             ],
             [
              1,
              "#f0f921"
             ]
            ],
            "type": "histogram2dcontour"
           }
          ],
          "mesh3d": [
           {
            "colorbar": {
             "outlinewidth": 0,
             "ticks": ""
            },
            "type": "mesh3d"
           }
          ],
          "parcoords": [
           {
            "line": {
             "colorbar": {
              "outlinewidth": 0,
              "ticks": ""
             }
            },
            "type": "parcoords"
           }
          ],
          "pie": [
           {
            "automargin": true,
            "type": "pie"
           }
          ],
          "scatter": [
           {
            "fillpattern": {
             "fillmode": "overlay",
             "size": 10,
             "solidity": 0.2
            },
            "type": "scatter"
           }
          ],
          "scatter3d": [
           {
            "line": {
             "colorbar": {
              "outlinewidth": 0,
              "ticks": ""
             }
            },
            "marker": {
             "colorbar": {
              "outlinewidth": 0,
              "ticks": ""
             }
            },
            "type": "scatter3d"
           }
          ],
          "scattercarpet": [
           {
            "marker": {
             "colorbar": {
              "outlinewidth": 0,
              "ticks": ""
             }
            },
            "type": "scattercarpet"
           }
          ],
          "scattergeo": [
           {
            "marker": {
             "colorbar": {
              "outlinewidth": 0,
              "ticks": ""
             }
            },
            "type": "scattergeo"
           }
          ],
          "scattergl": [
           {
            "marker": {
             "colorbar": {
              "outlinewidth": 0,
              "ticks": ""
             }
            },
            "type": "scattergl"
           }
          ],
          "scattermapbox": [
           {
            "marker": {
             "colorbar": {
              "outlinewidth": 0,
              "ticks": ""
             }
            },
            "type": "scattermapbox"
           }
          ],
          "scatterpolar": [
           {
            "marker": {
             "colorbar": {
              "outlinewidth": 0,
              "ticks": ""
             }
            },
            "type": "scatterpolar"
           }
          ],
          "scatterpolargl": [
           {
            "marker": {
             "colorbar": {
              "outlinewidth": 0,
              "ticks": ""
             }
            },
            "type": "scatterpolargl"
           }
          ],
          "scatterternary": [
           {
            "marker": {
             "colorbar": {
              "outlinewidth": 0,
              "ticks": ""
             }
            },
            "type": "scatterternary"
           }
          ],
          "surface": [
           {
            "colorbar": {
             "outlinewidth": 0,
             "ticks": ""
            },
            "colorscale": [
             [
              0,
              "#0d0887"
             ],
             [
              0.1111111111111111,
              "#46039f"
             ],
             [
              0.2222222222222222,
              "#7201a8"
             ],
             [
              0.3333333333333333,
              "#9c179e"
             ],
             [
              0.4444444444444444,
              "#bd3786"
             ],
             [
              0.5555555555555556,
              "#d8576b"
             ],
             [
              0.6666666666666666,
              "#ed7953"
             ],
             [
              0.7777777777777778,
              "#fb9f3a"
             ],
             [
              0.8888888888888888,
              "#fdca26"
             ],
             [
              1,
              "#f0f921"
             ]
            ],
            "type": "surface"
           }
          ],
          "table": [
           {
            "cells": {
             "fill": {
              "color": "#EBF0F8"
             },
             "line": {
              "color": "white"
             }
            },
            "header": {
             "fill": {
              "color": "#C8D4E3"
             },
             "line": {
              "color": "white"
             }
            },
            "type": "table"
           }
          ]
         },
         "layout": {
          "annotationdefaults": {
           "arrowcolor": "#2a3f5f",
           "arrowhead": 0,
           "arrowwidth": 1
          },
          "autotypenumbers": "strict",
          "coloraxis": {
           "colorbar": {
            "outlinewidth": 0,
            "ticks": ""
           }
          },
          "colorscale": {
           "diverging": [
            [
             0,
             "#8e0152"
            ],
            [
             0.1,
             "#c51b7d"
            ],
            [
             0.2,
             "#de77ae"
            ],
            [
             0.3,
             "#f1b6da"
            ],
            [
             0.4,
             "#fde0ef"
            ],
            [
             0.5,
             "#f7f7f7"
            ],
            [
             0.6,
             "#e6f5d0"
            ],
            [
             0.7,
             "#b8e186"
            ],
            [
             0.8,
             "#7fbc41"
            ],
            [
             0.9,
             "#4d9221"
            ],
            [
             1,
             "#276419"
            ]
           ],
           "sequential": [
            [
             0,
             "#0d0887"
            ],
            [
             0.1111111111111111,
             "#46039f"
            ],
            [
             0.2222222222222222,
             "#7201a8"
            ],
            [
             0.3333333333333333,
             "#9c179e"
            ],
            [
             0.4444444444444444,
             "#bd3786"
            ],
            [
             0.5555555555555556,
             "#d8576b"
            ],
            [
             0.6666666666666666,
             "#ed7953"
            ],
            [
             0.7777777777777778,
             "#fb9f3a"
            ],
            [
             0.8888888888888888,
             "#fdca26"
            ],
            [
             1,
             "#f0f921"
            ]
           ],
           "sequentialminus": [
            [
             0,
             "#0d0887"
            ],
            [
             0.1111111111111111,
             "#46039f"
            ],
            [
             0.2222222222222222,
             "#7201a8"
            ],
            [
             0.3333333333333333,
             "#9c179e"
            ],
            [
             0.4444444444444444,
             "#bd3786"
            ],
            [
             0.5555555555555556,
             "#d8576b"
            ],
            [
             0.6666666666666666,
             "#ed7953"
            ],
            [
             0.7777777777777778,
             "#fb9f3a"
            ],
            [
             0.8888888888888888,
             "#fdca26"
            ],
            [
             1,
             "#f0f921"
            ]
           ]
          },
          "colorway": [
           "#636efa",
           "#EF553B",
           "#00cc96",
           "#ab63fa",
           "#FFA15A",
           "#19d3f3",
           "#FF6692",
           "#B6E880",
           "#FF97FF",
           "#FECB52"
          ],
          "font": {
           "color": "#2a3f5f"
          },
          "geo": {
           "bgcolor": "white",
           "lakecolor": "white",
           "landcolor": "white",
           "showlakes": true,
           "showland": true,
           "subunitcolor": "#C8D4E3"
          },
          "hoverlabel": {
           "align": "left"
          },
          "hovermode": "closest",
          "mapbox": {
           "style": "light"
          },
          "paper_bgcolor": "white",
          "plot_bgcolor": "white",
          "polar": {
           "angularaxis": {
            "gridcolor": "#EBF0F8",
            "linecolor": "#EBF0F8",
            "ticks": ""
           },
           "bgcolor": "white",
           "radialaxis": {
            "gridcolor": "#EBF0F8",
            "linecolor": "#EBF0F8",
            "ticks": ""
           }
          },
          "scene": {
           "xaxis": {
            "backgroundcolor": "white",
            "gridcolor": "#DFE8F3",
            "gridwidth": 2,
            "linecolor": "#EBF0F8",
            "showbackground": true,
            "ticks": "",
            "zerolinecolor": "#EBF0F8"
           },
           "yaxis": {
            "backgroundcolor": "white",
            "gridcolor": "#DFE8F3",
            "gridwidth": 2,
            "linecolor": "#EBF0F8",
            "showbackground": true,
            "ticks": "",
            "zerolinecolor": "#EBF0F8"
           },
           "zaxis": {
            "backgroundcolor": "white",
            "gridcolor": "#DFE8F3",
            "gridwidth": 2,
            "linecolor": "#EBF0F8",
            "showbackground": true,
            "ticks": "",
            "zerolinecolor": "#EBF0F8"
           }
          },
          "shapedefaults": {
           "line": {
            "color": "#2a3f5f"
           }
          },
          "ternary": {
           "aaxis": {
            "gridcolor": "#DFE8F3",
            "linecolor": "#A2B1C6",
            "ticks": ""
           },
           "baxis": {
            "gridcolor": "#DFE8F3",
            "linecolor": "#A2B1C6",
            "ticks": ""
           },
           "bgcolor": "white",
           "caxis": {
            "gridcolor": "#DFE8F3",
            "linecolor": "#A2B1C6",
            "ticks": ""
           }
          },
          "title": {
           "x": 0.05
          },
          "xaxis": {
           "automargin": true,
           "gridcolor": "#EBF0F8",
           "linecolor": "#EBF0F8",
           "ticks": "",
           "title": {
            "standoff": 15
           },
           "zerolinecolor": "#EBF0F8",
           "zerolinewidth": 2
          },
          "yaxis": {
           "automargin": true,
           "gridcolor": "#EBF0F8",
           "linecolor": "#EBF0F8",
           "ticks": "",
           "title": {
            "standoff": 15
           },
           "zerolinecolor": "#EBF0F8",
           "zerolinewidth": 2
          }
         }
        },
        "title": {
         "text": "Weights of columns"
        },
        "xaxis": {
         "title": {
          "text": "columns"
         }
        },
        "yaxis": {
         "title": {
          "text": "weights"
         }
        }
       }
      }
     },
     "metadata": {},
     "output_type": "display_data"
    },
    {
     "data": {
      "text/html": [
       "<div>\n",
       "<style scoped>\n",
       "    .dataframe tbody tr th:only-of-type {\n",
       "        vertical-align: middle;\n",
       "    }\n",
       "\n",
       "    .dataframe tbody tr th {\n",
       "        vertical-align: top;\n",
       "    }\n",
       "\n",
       "    .dataframe thead th {\n",
       "        text-align: right;\n",
       "    }\n",
       "</style>\n",
       "<table border=\"1\" class=\"dataframe\">\n",
       "  <thead>\n",
       "    <tr style=\"text-align: right;\">\n",
       "      <th></th>\n",
       "      <th>GeoFIPS</th>\n",
       "      <th>GeoName</th>\n",
       "      <th>2010</th>\n",
       "      <th>2011</th>\n",
       "      <th>2012</th>\n",
       "      <th>2013</th>\n",
       "      <th>2014</th>\n",
       "      <th>2015</th>\n",
       "      <th>2016</th>\n",
       "      <th>2017</th>\n",
       "      <th>...</th>\n",
       "      <th>2014_population</th>\n",
       "      <th>2015_population</th>\n",
       "      <th>2016_population</th>\n",
       "      <th>2017_population</th>\n",
       "      <th>2018_population</th>\n",
       "      <th>2019_population</th>\n",
       "      <th>2020_population</th>\n",
       "      <th>2021_population</th>\n",
       "      <th>distance to 42001</th>\n",
       "      <th>percentile</th>\n",
       "    </tr>\n",
       "  </thead>\n",
       "  <tbody>\n",
       "    <tr>\n",
       "      <th>0</th>\n",
       "      <td>42001</td>\n",
       "      <td>Adams, PA</td>\n",
       "      <td>2.771827e+07</td>\n",
       "      <td>2.855134e+07</td>\n",
       "      <td>1.427164e+07</td>\n",
       "      <td>6.841459e+07</td>\n",
       "      <td>2.843109e+07</td>\n",
       "      <td>1.022756e+07</td>\n",
       "      <td>3.068268e+07</td>\n",
       "      <td>2.081153e+07</td>\n",
       "      <td>...</td>\n",
       "      <td>101830.0</td>\n",
       "      <td>102411.0</td>\n",
       "      <td>102625.0</td>\n",
       "      <td>103414.0</td>\n",
       "      <td>103932.0</td>\n",
       "      <td>103778.0</td>\n",
       "      <td>103795.0</td>\n",
       "      <td>104127.0</td>\n",
       "      <td>0.000000</td>\n",
       "      <td>63.83</td>\n",
       "    </tr>\n",
       "    <tr>\n",
       "      <th>1</th>\n",
       "      <td>29071</td>\n",
       "      <td>Franklin, MO</td>\n",
       "      <td>0.000000e+00</td>\n",
       "      <td>0.000000e+00</td>\n",
       "      <td>0.000000e+00</td>\n",
       "      <td>0.000000e+00</td>\n",
       "      <td>0.000000e+00</td>\n",
       "      <td>0.000000e+00</td>\n",
       "      <td>0.000000e+00</td>\n",
       "      <td>0.000000e+00</td>\n",
       "      <td>...</td>\n",
       "      <td>102058.0</td>\n",
       "      <td>102429.0</td>\n",
       "      <td>102952.0</td>\n",
       "      <td>103563.0</td>\n",
       "      <td>103967.0</td>\n",
       "      <td>104137.0</td>\n",
       "      <td>104769.0</td>\n",
       "      <td>105231.0</td>\n",
       "      <td>0.001140</td>\n",
       "      <td>44.83</td>\n",
       "    </tr>\n",
       "    <tr>\n",
       "      <th>2</th>\n",
       "      <td>55127</td>\n",
       "      <td>Walworth, WI</td>\n",
       "      <td>0.000000e+00</td>\n",
       "      <td>1.003899e+06</td>\n",
       "      <td>0.000000e+00</td>\n",
       "      <td>0.000000e+00</td>\n",
       "      <td>0.000000e+00</td>\n",
       "      <td>0.000000e+00</td>\n",
       "      <td>2.376715e+07</td>\n",
       "      <td>5.118558e+07</td>\n",
       "      <td>...</td>\n",
       "      <td>104251.0</td>\n",
       "      <td>103812.0</td>\n",
       "      <td>104223.0</td>\n",
       "      <td>104698.0</td>\n",
       "      <td>105618.0</td>\n",
       "      <td>106228.0</td>\n",
       "      <td>106499.0</td>\n",
       "      <td>106799.0</td>\n",
       "      <td>0.001850</td>\n",
       "      <td>64.31</td>\n",
       "    </tr>\n",
       "    <tr>\n",
       "      <th>3</th>\n",
       "      <td>6057</td>\n",
       "      <td>Nevada, CA</td>\n",
       "      <td>2.009387e+06</td>\n",
       "      <td>3.769145e+06</td>\n",
       "      <td>3.358054e+06</td>\n",
       "      <td>3.942539e+06</td>\n",
       "      <td>3.645560e+06</td>\n",
       "      <td>4.258991e+07</td>\n",
       "      <td>4.172342e+07</td>\n",
       "      <td>1.388350e+08</td>\n",
       "      <td>...</td>\n",
       "      <td>99649.0</td>\n",
       "      <td>100009.0</td>\n",
       "      <td>100485.0</td>\n",
       "      <td>101226.0</td>\n",
       "      <td>101530.0</td>\n",
       "      <td>101962.0</td>\n",
       "      <td>102199.0</td>\n",
       "      <td>103487.0</td>\n",
       "      <td>0.002104</td>\n",
       "      <td>81.78</td>\n",
       "    </tr>\n",
       "    <tr>\n",
       "      <th>4</th>\n",
       "      <td>55035</td>\n",
       "      <td>Eau Claire, WI</td>\n",
       "      <td>1.946690e+06</td>\n",
       "      <td>4.980976e+06</td>\n",
       "      <td>3.021742e+06</td>\n",
       "      <td>3.123919e+06</td>\n",
       "      <td>1.503982e+06</td>\n",
       "      <td>2.112040e+06</td>\n",
       "      <td>2.560289e+06</td>\n",
       "      <td>1.814911e+06</td>\n",
       "      <td>...</td>\n",
       "      <td>101989.0</td>\n",
       "      <td>102445.0</td>\n",
       "      <td>103351.0</td>\n",
       "      <td>104091.0</td>\n",
       "      <td>104755.0</td>\n",
       "      <td>105002.0</td>\n",
       "      <td>105818.0</td>\n",
       "      <td>106452.0</td>\n",
       "      <td>0.002412</td>\n",
       "      <td>53.19</td>\n",
       "    </tr>\n",
       "    <tr>\n",
       "      <th>...</th>\n",
       "      <td>...</td>\n",
       "      <td>...</td>\n",
       "      <td>...</td>\n",
       "      <td>...</td>\n",
       "      <td>...</td>\n",
       "      <td>...</td>\n",
       "      <td>...</td>\n",
       "      <td>...</td>\n",
       "      <td>...</td>\n",
       "      <td>...</td>\n",
       "      <td>...</td>\n",
       "      <td>...</td>\n",
       "      <td>...</td>\n",
       "      <td>...</td>\n",
       "      <td>...</td>\n",
       "      <td>...</td>\n",
       "      <td>...</td>\n",
       "      <td>...</td>\n",
       "      <td>...</td>\n",
       "      <td>...</td>\n",
       "      <td>...</td>\n",
       "    </tr>\n",
       "    <tr>\n",
       "      <th>3069</th>\n",
       "      <td>6073</td>\n",
       "      <td>San Diego, CA</td>\n",
       "      <td>1.101538e+10</td>\n",
       "      <td>1.497979e+10</td>\n",
       "      <td>1.292272e+10</td>\n",
       "      <td>1.524681e+10</td>\n",
       "      <td>1.384056e+10</td>\n",
       "      <td>1.543447e+10</td>\n",
       "      <td>1.729092e+10</td>\n",
       "      <td>2.192470e+10</td>\n",
       "      <td>...</td>\n",
       "      <td>3234658.0</td>\n",
       "      <td>3262566.0</td>\n",
       "      <td>3283586.0</td>\n",
       "      <td>3293575.0</td>\n",
       "      <td>3303463.0</td>\n",
       "      <td>3297959.0</td>\n",
       "      <td>3297252.0</td>\n",
       "      <td>3286069.0</td>\n",
       "      <td>1.833863</td>\n",
       "      <td>98.05</td>\n",
       "    </tr>\n",
       "    <tr>\n",
       "      <th>3070</th>\n",
       "      <td>4013</td>\n",
       "      <td>Maricopa, AZ</td>\n",
       "      <td>5.202028e+10</td>\n",
       "      <td>6.495048e+10</td>\n",
       "      <td>5.861352e+10</td>\n",
       "      <td>6.047153e+10</td>\n",
       "      <td>6.486485e+10</td>\n",
       "      <td>6.829313e+10</td>\n",
       "      <td>7.820898e+10</td>\n",
       "      <td>1.406561e+11</td>\n",
       "      <td>...</td>\n",
       "      <td>4040171.0</td>\n",
       "      <td>4105747.0</td>\n",
       "      <td>4174844.0</td>\n",
       "      <td>4231511.0</td>\n",
       "      <td>4292576.0</td>\n",
       "      <td>4363816.0</td>\n",
       "      <td>4438342.0</td>\n",
       "      <td>4496588.0</td>\n",
       "      <td>1.918351</td>\n",
       "      <td>99.71</td>\n",
       "    </tr>\n",
       "    <tr>\n",
       "      <th>3071</th>\n",
       "      <td>48201</td>\n",
       "      <td>Harris, TX</td>\n",
       "      <td>9.123876e+09</td>\n",
       "      <td>1.167109e+10</td>\n",
       "      <td>9.843632e+09</td>\n",
       "      <td>9.617106e+09</td>\n",
       "      <td>1.003390e+10</td>\n",
       "      <td>1.052874e+10</td>\n",
       "      <td>1.347828e+10</td>\n",
       "      <td>1.688323e+10</td>\n",
       "      <td>...</td>\n",
       "      <td>4452976.0</td>\n",
       "      <td>4553991.0</td>\n",
       "      <td>4619635.0</td>\n",
       "      <td>4651955.0</td>\n",
       "      <td>4672445.0</td>\n",
       "      <td>4704042.0</td>\n",
       "      <td>4732491.0</td>\n",
       "      <td>4728030.0</td>\n",
       "      <td>1.942420</td>\n",
       "      <td>98.08</td>\n",
       "    </tr>\n",
       "    <tr>\n",
       "      <th>3072</th>\n",
       "      <td>17031</td>\n",
       "      <td>Cook, IL</td>\n",
       "      <td>1.461862e+10</td>\n",
       "      <td>1.965479e+10</td>\n",
       "      <td>1.758947e+10</td>\n",
       "      <td>1.945389e+10</td>\n",
       "      <td>1.879525e+10</td>\n",
       "      <td>1.811116e+10</td>\n",
       "      <td>2.067402e+10</td>\n",
       "      <td>2.868427e+10</td>\n",
       "      <td>...</td>\n",
       "      <td>5320233.0</td>\n",
       "      <td>5324961.0</td>\n",
       "      <td>5320293.0</td>\n",
       "      <td>5311621.0</td>\n",
       "      <td>5297956.0</td>\n",
       "      <td>5287099.0</td>\n",
       "      <td>5262741.0</td>\n",
       "      <td>5173146.0</td>\n",
       "      <td>1.980426</td>\n",
       "      <td>98.50</td>\n",
       "    </tr>\n",
       "    <tr>\n",
       "      <th>3073</th>\n",
       "      <td>6037</td>\n",
       "      <td>Los Angeles, CA</td>\n",
       "      <td>1.842950e+10</td>\n",
       "      <td>2.759321e+10</td>\n",
       "      <td>2.170315e+10</td>\n",
       "      <td>2.348763e+10</td>\n",
       "      <td>2.294435e+10</td>\n",
       "      <td>2.502567e+10</td>\n",
       "      <td>2.839330e+10</td>\n",
       "      <td>3.868660e+10</td>\n",
       "      <td>...</td>\n",
       "      <td>10051511.0</td>\n",
       "      <td>10099677.0</td>\n",
       "      <td>10121673.0</td>\n",
       "      <td>10123521.0</td>\n",
       "      <td>10096986.0</td>\n",
       "      <td>10051154.0</td>\n",
       "      <td>9989165.0</td>\n",
       "      <td>9829544.0</td>\n",
       "      <td>1.999596</td>\n",
       "      <td>99.64</td>\n",
       "    </tr>\n",
       "  </tbody>\n",
       "</table>\n",
       "<p>3074 rows × 45 columns</p>\n",
       "</div>"
      ],
      "text/plain": [
       "      GeoFIPS          GeoName          2010          2011          2012  \\\n",
       "0       42001        Adams, PA  2.771827e+07  2.855134e+07  1.427164e+07   \n",
       "1       29071     Franklin, MO  0.000000e+00  0.000000e+00  0.000000e+00   \n",
       "2       55127     Walworth, WI  0.000000e+00  1.003899e+06  0.000000e+00   \n",
       "3        6057       Nevada, CA  2.009387e+06  3.769145e+06  3.358054e+06   \n",
       "4       55035   Eau Claire, WI  1.946690e+06  4.980976e+06  3.021742e+06   \n",
       "...       ...              ...           ...           ...           ...   \n",
       "3069     6073    San Diego, CA  1.101538e+10  1.497979e+10  1.292272e+10   \n",
       "3070     4013     Maricopa, AZ  5.202028e+10  6.495048e+10  5.861352e+10   \n",
       "3071    48201       Harris, TX  9.123876e+09  1.167109e+10  9.843632e+09   \n",
       "3072    17031         Cook, IL  1.461862e+10  1.965479e+10  1.758947e+10   \n",
       "3073     6037  Los Angeles, CA  1.842950e+10  2.759321e+10  2.170315e+10   \n",
       "\n",
       "              2013          2014          2015          2016          2017  \\\n",
       "0     6.841459e+07  2.843109e+07  1.022756e+07  3.068268e+07  2.081153e+07   \n",
       "1     0.000000e+00  0.000000e+00  0.000000e+00  0.000000e+00  0.000000e+00   \n",
       "2     0.000000e+00  0.000000e+00  0.000000e+00  2.376715e+07  5.118558e+07   \n",
       "3     3.942539e+06  3.645560e+06  4.258991e+07  4.172342e+07  1.388350e+08   \n",
       "4     3.123919e+06  1.503982e+06  2.112040e+06  2.560289e+06  1.814911e+06   \n",
       "...            ...           ...           ...           ...           ...   \n",
       "3069  1.524681e+10  1.384056e+10  1.543447e+10  1.729092e+10  2.192470e+10   \n",
       "3070  6.047153e+10  6.486485e+10  6.829313e+10  7.820898e+10  1.406561e+11   \n",
       "3071  9.617106e+09  1.003390e+10  1.052874e+10  1.347828e+10  1.688323e+10   \n",
       "3072  1.945389e+10  1.879525e+10  1.811116e+10  2.067402e+10  2.868427e+10   \n",
       "3073  2.348763e+10  2.294435e+10  2.502567e+10  2.839330e+10  3.868660e+10   \n",
       "\n",
       "      ...  2014_population  2015_population  2016_population  2017_population  \\\n",
       "0     ...         101830.0         102411.0         102625.0         103414.0   \n",
       "1     ...         102058.0         102429.0         102952.0         103563.0   \n",
       "2     ...         104251.0         103812.0         104223.0         104698.0   \n",
       "3     ...          99649.0         100009.0         100485.0         101226.0   \n",
       "4     ...         101989.0         102445.0         103351.0         104091.0   \n",
       "...   ...              ...              ...              ...              ...   \n",
       "3069  ...        3234658.0        3262566.0        3283586.0        3293575.0   \n",
       "3070  ...        4040171.0        4105747.0        4174844.0        4231511.0   \n",
       "3071  ...        4452976.0        4553991.0        4619635.0        4651955.0   \n",
       "3072  ...        5320233.0        5324961.0        5320293.0        5311621.0   \n",
       "3073  ...       10051511.0       10099677.0       10121673.0       10123521.0   \n",
       "\n",
       "      2018_population  2019_population  2020_population  2021_population  \\\n",
       "0            103932.0         103778.0         103795.0         104127.0   \n",
       "1            103967.0         104137.0         104769.0         105231.0   \n",
       "2            105618.0         106228.0         106499.0         106799.0   \n",
       "3            101530.0         101962.0         102199.0         103487.0   \n",
       "4            104755.0         105002.0         105818.0         106452.0   \n",
       "...               ...              ...              ...              ...   \n",
       "3069        3303463.0        3297959.0        3297252.0        3286069.0   \n",
       "3070        4292576.0        4363816.0        4438342.0        4496588.0   \n",
       "3071        4672445.0        4704042.0        4732491.0        4728030.0   \n",
       "3072        5297956.0        5287099.0        5262741.0        5173146.0   \n",
       "3073       10096986.0       10051154.0        9989165.0        9829544.0   \n",
       "\n",
       "      distance to 42001  percentile  \n",
       "0              0.000000       63.83  \n",
       "1              0.001140       44.83  \n",
       "2              0.001850       64.31  \n",
       "3              0.002104       81.78  \n",
       "4              0.002412       53.19  \n",
       "...                 ...         ...  \n",
       "3069           1.833863       98.05  \n",
       "3070           1.918351       99.71  \n",
       "3071           1.942420       98.08  \n",
       "3072           1.980426       98.50  \n",
       "3073           1.999596       99.64  \n",
       "\n",
       "[3074 rows x 45 columns]"
      ]
     },
     "metadata": {},
     "output_type": "display_data"
    },
    {
     "data": {
      "application/vnd.plotly.v1+json": {
       "config": {
        "plotlyServerURL": "https://plot.ly"
       },
       "data": [
        {
         "line": {
          "color": "darkred",
          "width": 3
         },
         "mode": "lines",
         "name": "Adams, PA",
         "text": "Adams, PA",
         "textposition": "top right",
         "type": "scatter",
         "x": [
          2010,
          2011,
          2012,
          2013,
          2014,
          2015,
          2016,
          2017,
          2018,
          2019,
          2020,
          2021
         ],
         "y": [
          27718274,
          28551338,
          14271637,
          68414593,
          28431090,
          10227560,
          30682680,
          20811528,
          31340129.32,
          52072672.98,
          31513780.66,
          44735080
         ]
        },
        {
         "line": {
          "color": "#FFC0CB"
         },
         "mode": "lines",
         "name": "Franklin, MO",
         "text": "Franklin, MO",
         "textposition": "top right",
         "type": "scatter",
         "x": [
          2018,
          2019,
          2020,
          2021
         ],
         "y": [
          750000,
          500000,
          950000,
          900000
         ]
        },
        {
         "line": {
          "color": "#A9A9A9"
         },
         "mode": "lines",
         "name": "Walworth, WI",
         "text": "Walworth, WI",
         "textposition": "top right",
         "type": "scatter",
         "x": [
          2011,
          2016,
          2017,
          2018,
          2019,
          2020,
          2021
         ],
         "y": [
          1003899,
          23767154,
          51185576,
          61243519,
          57336532.77,
          55924633.08,
          47061378.31
         ]
        },
        {
         "line": {
          "color": "#87CEFA"
         },
         "mode": "lines",
         "name": "Nevada, CA",
         "text": "Nevada, CA",
         "textposition": "top right",
         "type": "scatter",
         "x": [
          2010,
          2011,
          2012,
          2013,
          2014,
          2015,
          2016,
          2017,
          2018,
          2019,
          2020,
          2021
         ],
         "y": [
          2009387,
          3769145,
          3358054,
          3942539,
          3645560,
          42589912,
          41723421,
          138834958,
          297379703.69,
          246519753.38,
          111604098.04,
          207499535.14
         ]
        },
        {
         "line": {
          "color": "#FFD700"
         },
         "mode": "lines",
         "name": "Eau Claire, WI",
         "text": "Eau Claire, WI",
         "textposition": "top right",
         "type": "scatter",
         "x": [
          2010,
          2011,
          2012,
          2013,
          2014,
          2015,
          2016,
          2017,
          2018,
          2019,
          2020,
          2021
         ],
         "y": [
          1946690,
          4980976,
          3021742,
          3123919,
          1503982,
          2112040,
          2560289,
          1814911,
          1595181.9,
          551676.9,
          5298087.45,
          8091123
         ]
        },
        {
         "line": {
          "color": "#98FB98"
         },
         "mode": "lines",
         "name": "Craven, NC",
         "text": "Craven, NC",
         "textposition": "top right",
         "type": "scatter",
         "x": [
          2010,
          2011,
          2012,
          2013,
          2014,
          2015,
          2016,
          2017,
          2018,
          2019,
          2020,
          2021
         ],
         "y": [
          5435000,
          2167500,
          2792500,
          1412500,
          2200000,
          6264309,
          10803618,
          9078618,
          24938833.73,
          101723965.95,
          14933012.46,
          39329499.650000006
         ]
        }
       ],
       "layout": {
        "legend": {
         "title": {
          "text": "GeoName"
         }
        },
        "template": {
         "data": {
          "bar": [
           {
            "error_x": {
             "color": "rgb(36,36,36)"
            },
            "error_y": {
             "color": "rgb(36,36,36)"
            },
            "marker": {
             "line": {
              "color": "white",
              "width": 0.5
             },
             "pattern": {
              "fillmode": "overlay",
              "size": 10,
              "solidity": 0.2
             }
            },
            "type": "bar"
           }
          ],
          "barpolar": [
           {
            "marker": {
             "line": {
              "color": "white",
              "width": 0.5
             },
             "pattern": {
              "fillmode": "overlay",
              "size": 10,
              "solidity": 0.2
             }
            },
            "type": "barpolar"
           }
          ],
          "carpet": [
           {
            "aaxis": {
             "endlinecolor": "rgb(36,36,36)",
             "gridcolor": "white",
             "linecolor": "white",
             "minorgridcolor": "white",
             "startlinecolor": "rgb(36,36,36)"
            },
            "baxis": {
             "endlinecolor": "rgb(36,36,36)",
             "gridcolor": "white",
             "linecolor": "white",
             "minorgridcolor": "white",
             "startlinecolor": "rgb(36,36,36)"
            },
            "type": "carpet"
           }
          ],
          "choropleth": [
           {
            "colorbar": {
             "outlinewidth": 1,
             "tickcolor": "rgb(36,36,36)",
             "ticks": "outside"
            },
            "type": "choropleth"
           }
          ],
          "contour": [
           {
            "colorbar": {
             "outlinewidth": 1,
             "tickcolor": "rgb(36,36,36)",
             "ticks": "outside"
            },
            "colorscale": [
             [
              0,
              "#440154"
             ],
             [
              0.1111111111111111,
              "#482878"
             ],
             [
              0.2222222222222222,
              "#3e4989"
             ],
             [
              0.3333333333333333,
              "#31688e"
             ],
             [
              0.4444444444444444,
              "#26828e"
             ],
             [
              0.5555555555555556,
              "#1f9e89"
             ],
             [
              0.6666666666666666,
              "#35b779"
             ],
             [
              0.7777777777777778,
              "#6ece58"
             ],
             [
              0.8888888888888888,
              "#b5de2b"
             ],
             [
              1,
              "#fde725"
             ]
            ],
            "type": "contour"
           }
          ],
          "contourcarpet": [
           {
            "colorbar": {
             "outlinewidth": 1,
             "tickcolor": "rgb(36,36,36)",
             "ticks": "outside"
            },
            "type": "contourcarpet"
           }
          ],
          "heatmap": [
           {
            "colorbar": {
             "outlinewidth": 1,
             "tickcolor": "rgb(36,36,36)",
             "ticks": "outside"
            },
            "colorscale": [
             [
              0,
              "#440154"
             ],
             [
              0.1111111111111111,
              "#482878"
             ],
             [
              0.2222222222222222,
              "#3e4989"
             ],
             [
              0.3333333333333333,
              "#31688e"
             ],
             [
              0.4444444444444444,
              "#26828e"
             ],
             [
              0.5555555555555556,
              "#1f9e89"
             ],
             [
              0.6666666666666666,
              "#35b779"
             ],
             [
              0.7777777777777778,
              "#6ece58"
             ],
             [
              0.8888888888888888,
              "#b5de2b"
             ],
             [
              1,
              "#fde725"
             ]
            ],
            "type": "heatmap"
           }
          ],
          "heatmapgl": [
           {
            "colorbar": {
             "outlinewidth": 1,
             "tickcolor": "rgb(36,36,36)",
             "ticks": "outside"
            },
            "colorscale": [
             [
              0,
              "#440154"
             ],
             [
              0.1111111111111111,
              "#482878"
             ],
             [
              0.2222222222222222,
              "#3e4989"
             ],
             [
              0.3333333333333333,
              "#31688e"
             ],
             [
              0.4444444444444444,
              "#26828e"
             ],
             [
              0.5555555555555556,
              "#1f9e89"
             ],
             [
              0.6666666666666666,
              "#35b779"
             ],
             [
              0.7777777777777778,
              "#6ece58"
             ],
             [
              0.8888888888888888,
              "#b5de2b"
             ],
             [
              1,
              "#fde725"
             ]
            ],
            "type": "heatmapgl"
           }
          ],
          "histogram": [
           {
            "marker": {
             "line": {
              "color": "white",
              "width": 0.6
             }
            },
            "type": "histogram"
           }
          ],
          "histogram2d": [
           {
            "colorbar": {
             "outlinewidth": 1,
             "tickcolor": "rgb(36,36,36)",
             "ticks": "outside"
            },
            "colorscale": [
             [
              0,
              "#440154"
             ],
             [
              0.1111111111111111,
              "#482878"
             ],
             [
              0.2222222222222222,
              "#3e4989"
             ],
             [
              0.3333333333333333,
              "#31688e"
             ],
             [
              0.4444444444444444,
              "#26828e"
             ],
             [
              0.5555555555555556,
              "#1f9e89"
             ],
             [
              0.6666666666666666,
              "#35b779"
             ],
             [
              0.7777777777777778,
              "#6ece58"
             ],
             [
              0.8888888888888888,
              "#b5de2b"
             ],
             [
              1,
              "#fde725"
             ]
            ],
            "type": "histogram2d"
           }
          ],
          "histogram2dcontour": [
           {
            "colorbar": {
             "outlinewidth": 1,
             "tickcolor": "rgb(36,36,36)",
             "ticks": "outside"
            },
            "colorscale": [
             [
              0,
              "#440154"
             ],
             [
              0.1111111111111111,
              "#482878"
             ],
             [
              0.2222222222222222,
              "#3e4989"
             ],
             [
              0.3333333333333333,
              "#31688e"
             ],
             [
              0.4444444444444444,
              "#26828e"
             ],
             [
              0.5555555555555556,
              "#1f9e89"
             ],
             [
              0.6666666666666666,
              "#35b779"
             ],
             [
              0.7777777777777778,
              "#6ece58"
             ],
             [
              0.8888888888888888,
              "#b5de2b"
             ],
             [
              1,
              "#fde725"
             ]
            ],
            "type": "histogram2dcontour"
           }
          ],
          "mesh3d": [
           {
            "colorbar": {
             "outlinewidth": 1,
             "tickcolor": "rgb(36,36,36)",
             "ticks": "outside"
            },
            "type": "mesh3d"
           }
          ],
          "parcoords": [
           {
            "line": {
             "colorbar": {
              "outlinewidth": 1,
              "tickcolor": "rgb(36,36,36)",
              "ticks": "outside"
             }
            },
            "type": "parcoords"
           }
          ],
          "pie": [
           {
            "automargin": true,
            "type": "pie"
           }
          ],
          "scatter": [
           {
            "fillpattern": {
             "fillmode": "overlay",
             "size": 10,
             "solidity": 0.2
            },
            "type": "scatter"
           }
          ],
          "scatter3d": [
           {
            "line": {
             "colorbar": {
              "outlinewidth": 1,
              "tickcolor": "rgb(36,36,36)",
              "ticks": "outside"
             }
            },
            "marker": {
             "colorbar": {
              "outlinewidth": 1,
              "tickcolor": "rgb(36,36,36)",
              "ticks": "outside"
             }
            },
            "type": "scatter3d"
           }
          ],
          "scattercarpet": [
           {
            "marker": {
             "colorbar": {
              "outlinewidth": 1,
              "tickcolor": "rgb(36,36,36)",
              "ticks": "outside"
             }
            },
            "type": "scattercarpet"
           }
          ],
          "scattergeo": [
           {
            "marker": {
             "colorbar": {
              "outlinewidth": 1,
              "tickcolor": "rgb(36,36,36)",
              "ticks": "outside"
             }
            },
            "type": "scattergeo"
           }
          ],
          "scattergl": [
           {
            "marker": {
             "colorbar": {
              "outlinewidth": 1,
              "tickcolor": "rgb(36,36,36)",
              "ticks": "outside"
             }
            },
            "type": "scattergl"
           }
          ],
          "scattermapbox": [
           {
            "marker": {
             "colorbar": {
              "outlinewidth": 1,
              "tickcolor": "rgb(36,36,36)",
              "ticks": "outside"
             }
            },
            "type": "scattermapbox"
           }
          ],
          "scatterpolar": [
           {
            "marker": {
             "colorbar": {
              "outlinewidth": 1,
              "tickcolor": "rgb(36,36,36)",
              "ticks": "outside"
             }
            },
            "type": "scatterpolar"
           }
          ],
          "scatterpolargl": [
           {
            "marker": {
             "colorbar": {
              "outlinewidth": 1,
              "tickcolor": "rgb(36,36,36)",
              "ticks": "outside"
             }
            },
            "type": "scatterpolargl"
           }
          ],
          "scatterternary": [
           {
            "marker": {
             "colorbar": {
              "outlinewidth": 1,
              "tickcolor": "rgb(36,36,36)",
              "ticks": "outside"
             }
            },
            "type": "scatterternary"
           }
          ],
          "surface": [
           {
            "colorbar": {
             "outlinewidth": 1,
             "tickcolor": "rgb(36,36,36)",
             "ticks": "outside"
            },
            "colorscale": [
             [
              0,
              "#440154"
             ],
             [
              0.1111111111111111,
              "#482878"
             ],
             [
              0.2222222222222222,
              "#3e4989"
             ],
             [
              0.3333333333333333,
              "#31688e"
             ],
             [
              0.4444444444444444,
              "#26828e"
             ],
             [
              0.5555555555555556,
              "#1f9e89"
             ],
             [
              0.6666666666666666,
              "#35b779"
             ],
             [
              0.7777777777777778,
              "#6ece58"
             ],
             [
              0.8888888888888888,
              "#b5de2b"
             ],
             [
              1,
              "#fde725"
             ]
            ],
            "type": "surface"
           }
          ],
          "table": [
           {
            "cells": {
             "fill": {
              "color": "rgb(237,237,237)"
             },
             "line": {
              "color": "white"
             }
            },
            "header": {
             "fill": {
              "color": "rgb(217,217,217)"
             },
             "line": {
              "color": "white"
             }
            },
            "type": "table"
           }
          ]
         },
         "layout": {
          "annotationdefaults": {
           "arrowhead": 0,
           "arrowwidth": 1
          },
          "autotypenumbers": "strict",
          "coloraxis": {
           "colorbar": {
            "outlinewidth": 1,
            "tickcolor": "rgb(36,36,36)",
            "ticks": "outside"
           }
          },
          "colorscale": {
           "diverging": [
            [
             0,
             "rgb(103,0,31)"
            ],
            [
             0.1,
             "rgb(178,24,43)"
            ],
            [
             0.2,
             "rgb(214,96,77)"
            ],
            [
             0.3,
             "rgb(244,165,130)"
            ],
            [
             0.4,
             "rgb(253,219,199)"
            ],
            [
             0.5,
             "rgb(247,247,247)"
            ],
            [
             0.6,
             "rgb(209,229,240)"
            ],
            [
             0.7,
             "rgb(146,197,222)"
            ],
            [
             0.8,
             "rgb(67,147,195)"
            ],
            [
             0.9,
             "rgb(33,102,172)"
            ],
            [
             1,
             "rgb(5,48,97)"
            ]
           ],
           "sequential": [
            [
             0,
             "#440154"
            ],
            [
             0.1111111111111111,
             "#482878"
            ],
            [
             0.2222222222222222,
             "#3e4989"
            ],
            [
             0.3333333333333333,
             "#31688e"
            ],
            [
             0.4444444444444444,
             "#26828e"
            ],
            [
             0.5555555555555556,
             "#1f9e89"
            ],
            [
             0.6666666666666666,
             "#35b779"
            ],
            [
             0.7777777777777778,
             "#6ece58"
            ],
            [
             0.8888888888888888,
             "#b5de2b"
            ],
            [
             1,
             "#fde725"
            ]
           ],
           "sequentialminus": [
            [
             0,
             "#440154"
            ],
            [
             0.1111111111111111,
             "#482878"
            ],
            [
             0.2222222222222222,
             "#3e4989"
            ],
            [
             0.3333333333333333,
             "#31688e"
            ],
            [
             0.4444444444444444,
             "#26828e"
            ],
            [
             0.5555555555555556,
             "#1f9e89"
            ],
            [
             0.6666666666666666,
             "#35b779"
            ],
            [
             0.7777777777777778,
             "#6ece58"
            ],
            [
             0.8888888888888888,
             "#b5de2b"
            ],
            [
             1,
             "#fde725"
            ]
           ]
          },
          "colorway": [
           "#1F77B4",
           "#FF7F0E",
           "#2CA02C",
           "#D62728",
           "#9467BD",
           "#8C564B",
           "#E377C2",
           "#7F7F7F",
           "#BCBD22",
           "#17BECF"
          ],
          "font": {
           "color": "rgb(36,36,36)"
          },
          "geo": {
           "bgcolor": "white",
           "lakecolor": "white",
           "landcolor": "white",
           "showlakes": true,
           "showland": true,
           "subunitcolor": "white"
          },
          "hoverlabel": {
           "align": "left"
          },
          "hovermode": "closest",
          "mapbox": {
           "style": "light"
          },
          "paper_bgcolor": "white",
          "plot_bgcolor": "white",
          "polar": {
           "angularaxis": {
            "gridcolor": "rgb(232,232,232)",
            "linecolor": "rgb(36,36,36)",
            "showgrid": false,
            "showline": true,
            "ticks": "outside"
           },
           "bgcolor": "white",
           "radialaxis": {
            "gridcolor": "rgb(232,232,232)",
            "linecolor": "rgb(36,36,36)",
            "showgrid": false,
            "showline": true,
            "ticks": "outside"
           }
          },
          "scene": {
           "xaxis": {
            "backgroundcolor": "white",
            "gridcolor": "rgb(232,232,232)",
            "gridwidth": 2,
            "linecolor": "rgb(36,36,36)",
            "showbackground": true,
            "showgrid": false,
            "showline": true,
            "ticks": "outside",
            "zeroline": false,
            "zerolinecolor": "rgb(36,36,36)"
           },
           "yaxis": {
            "backgroundcolor": "white",
            "gridcolor": "rgb(232,232,232)",
            "gridwidth": 2,
            "linecolor": "rgb(36,36,36)",
            "showbackground": true,
            "showgrid": false,
            "showline": true,
            "ticks": "outside",
            "zeroline": false,
            "zerolinecolor": "rgb(36,36,36)"
           },
           "zaxis": {
            "backgroundcolor": "white",
            "gridcolor": "rgb(232,232,232)",
            "gridwidth": 2,
            "linecolor": "rgb(36,36,36)",
            "showbackground": true,
            "showgrid": false,
            "showline": true,
            "ticks": "outside",
            "zeroline": false,
            "zerolinecolor": "rgb(36,36,36)"
           }
          },
          "shapedefaults": {
           "fillcolor": "black",
           "line": {
            "width": 0
           },
           "opacity": 0.3
          },
          "ternary": {
           "aaxis": {
            "gridcolor": "rgb(232,232,232)",
            "linecolor": "rgb(36,36,36)",
            "showgrid": false,
            "showline": true,
            "ticks": "outside"
           },
           "baxis": {
            "gridcolor": "rgb(232,232,232)",
            "linecolor": "rgb(36,36,36)",
            "showgrid": false,
            "showline": true,
            "ticks": "outside"
           },
           "bgcolor": "white",
           "caxis": {
            "gridcolor": "rgb(232,232,232)",
            "linecolor": "rgb(36,36,36)",
            "showgrid": false,
            "showline": true,
            "ticks": "outside"
           }
          },
          "title": {
           "x": 0.05
          },
          "xaxis": {
           "automargin": true,
           "gridcolor": "rgb(232,232,232)",
           "linecolor": "rgb(36,36,36)",
           "showgrid": false,
           "showline": true,
           "ticks": "outside",
           "title": {
            "standoff": 15
           },
           "zeroline": false,
           "zerolinecolor": "rgb(36,36,36)"
          },
          "yaxis": {
           "automargin": true,
           "gridcolor": "rgb(232,232,232)",
           "linecolor": "rgb(36,36,36)",
           "showgrid": false,
           "showline": true,
           "ticks": "outside",
           "title": {
            "standoff": 15
           },
           "zeroline": false,
           "zerolinecolor": "rgb(36,36,36)"
          }
         }
        },
        "title": {
         "text": "Top 5 locations matching your search"
        },
        "xaxis": {
         "title": {
          "text": "Year"
         }
        },
        "yaxis": {
         "title": {
          "text": "spending_HHS"
         }
        }
       }
      }
     },
     "metadata": {},
     "output_type": "display_data"
    }
   ],
   "source": [
    "# you want to pass an outcome but give it weight 0 in similarity calculations\n",
    "\n",
    "print(list_available_features())\n",
    "f = FipsQuery(\n",
    "    42001,\n",
    "    outcome_var=\"spending_HHS\",\n",
    "    feature_groups_with_weights={\"spending_HHS\": 0, \"population\": 4},\n",
    ")\n",
    "f.find_euclidean_kins()\n",
    "f.plot_weights()\n",
    "display(f.euclidean_kins)\n",
    "f.plot_kins()"
   ]
  },
  {
   "cell_type": "markdown",
   "metadata": {},
   "source": [
    "#### Use case: negative weight\n",
    "\n",
    "This example illustrates the use of negative weights, which represent the degree of dissimilarity from the county of interest."
   ]
  },
  {
   "cell_type": "code",
   "execution_count": 9,
   "metadata": {},
   "outputs": [
    {
     "data": {
      "application/vnd.plotly.v1+json": {
       "config": {
        "plotlyServerURL": "https://plot.ly"
       },
       "data": [
        {
         "type": "bar",
         "x": [
          "2001_gdp",
          "2002_gdp",
          "2003_gdp",
          "2004_gdp",
          "2005_gdp",
          "2006_gdp",
          "2007_gdp",
          "2008_gdp",
          "2009_gdp",
          "2010_gdp",
          "2011_gdp",
          "2013_gdp",
          "2014_gdp",
          "2015_gdp",
          "2016_gdp",
          "2017_gdp",
          "2018_gdp",
          "2019_gdp",
          "2020_gdp",
          "2021_gdp",
          "1993_population",
          "1994_population",
          "1995_population",
          "1996_population",
          "1997_population",
          "1998_population",
          "1999_population",
          "2000_population",
          "2001_population",
          "2002_population",
          "2003_population",
          "2004_population",
          "2005_population",
          "2006_population",
          "2007_population",
          "2008_population",
          "2009_population",
          "2010_population",
          "2011_population",
          "2012_population",
          "2013_population",
          "2014_population",
          "2015_population",
          "2016_population",
          "2017_population",
          "2018_population",
          "2019_population",
          "2020_population",
          "2021_population"
         ],
         "y": [
          -0.07443141519371825,
          -0.07666435764952981,
          -0.07896428837901569,
          -0.08133321703038617,
          -0.08377321354129776,
          -0.08628640994753668,
          -0.08887500224596279,
          -0.09154125231334168,
          -0.09428748988274194,
          -0.0971161145792242,
          -0.10002959801660093,
          -0.10303048595709895,
          -0.10612140053581191,
          -0.10930504255188629,
          -0.11258419382844288,
          -0.11596171964329616,
          -0.11944057123259505,
          -0.12302378836957291,
          -0.12671450202066012,
          -0.1305159370812799,
          0.022114671106632556,
          0.022778111239831533,
          0.02346145457702648,
          0.024165298214337275,
          0.024890257160767395,
          0.025636964875590414,
          0.02640607382185813,
          0.027198256036513876,
          0.028014203717609293,
          0.02885462982913757,
          0.0297202687240117,
          0.03061187678573205,
          0.03153023308930401,
          0.032476140081983136,
          0.03345042428444263,
          0.03445393701297591,
          0.03548755512336519,
          0.036552181777066144,
          0.03764874723037813,
          0.03877820964728947,
          0.03994155593670816,
          0.04113980261480941,
          0.04237399669325369,
          0.0436452165940513,
          0.04495457309187284,
          0.046303210284629026,
          0.0476923065931679,
          0.04912307579096294,
          0.05059676806469183
         ]
        }
       ],
       "layout": {
        "template": {
         "data": {
          "bar": [
           {
            "error_x": {
             "color": "#2a3f5f"
            },
            "error_y": {
             "color": "#2a3f5f"
            },
            "marker": {
             "line": {
              "color": "white",
              "width": 0.5
             },
             "pattern": {
              "fillmode": "overlay",
              "size": 10,
              "solidity": 0.2
             }
            },
            "type": "bar"
           }
          ],
          "barpolar": [
           {
            "marker": {
             "line": {
              "color": "white",
              "width": 0.5
             },
             "pattern": {
              "fillmode": "overlay",
              "size": 10,
              "solidity": 0.2
             }
            },
            "type": "barpolar"
           }
          ],
          "carpet": [
           {
            "aaxis": {
             "endlinecolor": "#2a3f5f",
             "gridcolor": "#C8D4E3",
             "linecolor": "#C8D4E3",
             "minorgridcolor": "#C8D4E3",
             "startlinecolor": "#2a3f5f"
            },
            "baxis": {
             "endlinecolor": "#2a3f5f",
             "gridcolor": "#C8D4E3",
             "linecolor": "#C8D4E3",
             "minorgridcolor": "#C8D4E3",
             "startlinecolor": "#2a3f5f"
            },
            "type": "carpet"
           }
          ],
          "choropleth": [
           {
            "colorbar": {
             "outlinewidth": 0,
             "ticks": ""
            },
            "type": "choropleth"
           }
          ],
          "contour": [
           {
            "colorbar": {
             "outlinewidth": 0,
             "ticks": ""
            },
            "colorscale": [
             [
              0,
              "#0d0887"
             ],
             [
              0.1111111111111111,
              "#46039f"
             ],
             [
              0.2222222222222222,
              "#7201a8"
             ],
             [
              0.3333333333333333,
              "#9c179e"
             ],
             [
              0.4444444444444444,
              "#bd3786"
             ],
             [
              0.5555555555555556,
              "#d8576b"
             ],
             [
              0.6666666666666666,
              "#ed7953"
             ],
             [
              0.7777777777777778,
              "#fb9f3a"
             ],
             [
              0.8888888888888888,
              "#fdca26"
             ],
             [
              1,
              "#f0f921"
             ]
            ],
            "type": "contour"
           }
          ],
          "contourcarpet": [
           {
            "colorbar": {
             "outlinewidth": 0,
             "ticks": ""
            },
            "type": "contourcarpet"
           }
          ],
          "heatmap": [
           {
            "colorbar": {
             "outlinewidth": 0,
             "ticks": ""
            },
            "colorscale": [
             [
              0,
              "#0d0887"
             ],
             [
              0.1111111111111111,
              "#46039f"
             ],
             [
              0.2222222222222222,
              "#7201a8"
             ],
             [
              0.3333333333333333,
              "#9c179e"
             ],
             [
              0.4444444444444444,
              "#bd3786"
             ],
             [
              0.5555555555555556,
              "#d8576b"
             ],
             [
              0.6666666666666666,
              "#ed7953"
             ],
             [
              0.7777777777777778,
              "#fb9f3a"
             ],
             [
              0.8888888888888888,
              "#fdca26"
             ],
             [
              1,
              "#f0f921"
             ]
            ],
            "type": "heatmap"
           }
          ],
          "heatmapgl": [
           {
            "colorbar": {
             "outlinewidth": 0,
             "ticks": ""
            },
            "colorscale": [
             [
              0,
              "#0d0887"
             ],
             [
              0.1111111111111111,
              "#46039f"
             ],
             [
              0.2222222222222222,
              "#7201a8"
             ],
             [
              0.3333333333333333,
              "#9c179e"
             ],
             [
              0.4444444444444444,
              "#bd3786"
             ],
             [
              0.5555555555555556,
              "#d8576b"
             ],
             [
              0.6666666666666666,
              "#ed7953"
             ],
             [
              0.7777777777777778,
              "#fb9f3a"
             ],
             [
              0.8888888888888888,
              "#fdca26"
             ],
             [
              1,
              "#f0f921"
             ]
            ],
            "type": "heatmapgl"
           }
          ],
          "histogram": [
           {
            "marker": {
             "pattern": {
              "fillmode": "overlay",
              "size": 10,
              "solidity": 0.2
             }
            },
            "type": "histogram"
           }
          ],
          "histogram2d": [
           {
            "colorbar": {
             "outlinewidth": 0,
             "ticks": ""
            },
            "colorscale": [
             [
              0,
              "#0d0887"
             ],
             [
              0.1111111111111111,
              "#46039f"
             ],
             [
              0.2222222222222222,
              "#7201a8"
             ],
             [
              0.3333333333333333,
              "#9c179e"
             ],
             [
              0.4444444444444444,
              "#bd3786"
             ],
             [
              0.5555555555555556,
              "#d8576b"
             ],
             [
              0.6666666666666666,
              "#ed7953"
             ],
             [
              0.7777777777777778,
              "#fb9f3a"
             ],
             [
              0.8888888888888888,
              "#fdca26"
             ],
             [
              1,
              "#f0f921"
             ]
            ],
            "type": "histogram2d"
           }
          ],
          "histogram2dcontour": [
           {
            "colorbar": {
             "outlinewidth": 0,
             "ticks": ""
            },
            "colorscale": [
             [
              0,
              "#0d0887"
             ],
             [
              0.1111111111111111,
              "#46039f"
             ],
             [
              0.2222222222222222,
              "#7201a8"
             ],
             [
              0.3333333333333333,
              "#9c179e"
             ],
             [
              0.4444444444444444,
              "#bd3786"
             ],
             [
              0.5555555555555556,
              "#d8576b"
             ],
             [
              0.6666666666666666,
              "#ed7953"
             ],
             [
              0.7777777777777778,
              "#fb9f3a"
             ],
             [
              0.8888888888888888,
              "#fdca26"
             ],
             [
              1,
              "#f0f921"
             ]
            ],
            "type": "histogram2dcontour"
           }
          ],
          "mesh3d": [
           {
            "colorbar": {
             "outlinewidth": 0,
             "ticks": ""
            },
            "type": "mesh3d"
           }
          ],
          "parcoords": [
           {
            "line": {
             "colorbar": {
              "outlinewidth": 0,
              "ticks": ""
             }
            },
            "type": "parcoords"
           }
          ],
          "pie": [
           {
            "automargin": true,
            "type": "pie"
           }
          ],
          "scatter": [
           {
            "fillpattern": {
             "fillmode": "overlay",
             "size": 10,
             "solidity": 0.2
            },
            "type": "scatter"
           }
          ],
          "scatter3d": [
           {
            "line": {
             "colorbar": {
              "outlinewidth": 0,
              "ticks": ""
             }
            },
            "marker": {
             "colorbar": {
              "outlinewidth": 0,
              "ticks": ""
             }
            },
            "type": "scatter3d"
           }
          ],
          "scattercarpet": [
           {
            "marker": {
             "colorbar": {
              "outlinewidth": 0,
              "ticks": ""
             }
            },
            "type": "scattercarpet"
           }
          ],
          "scattergeo": [
           {
            "marker": {
             "colorbar": {
              "outlinewidth": 0,
              "ticks": ""
             }
            },
            "type": "scattergeo"
           }
          ],
          "scattergl": [
           {
            "marker": {
             "colorbar": {
              "outlinewidth": 0,
              "ticks": ""
             }
            },
            "type": "scattergl"
           }
          ],
          "scattermapbox": [
           {
            "marker": {
             "colorbar": {
              "outlinewidth": 0,
              "ticks": ""
             }
            },
            "type": "scattermapbox"
           }
          ],
          "scatterpolar": [
           {
            "marker": {
             "colorbar": {
              "outlinewidth": 0,
              "ticks": ""
             }
            },
            "type": "scatterpolar"
           }
          ],
          "scatterpolargl": [
           {
            "marker": {
             "colorbar": {
              "outlinewidth": 0,
              "ticks": ""
             }
            },
            "type": "scatterpolargl"
           }
          ],
          "scatterternary": [
           {
            "marker": {
             "colorbar": {
              "outlinewidth": 0,
              "ticks": ""
             }
            },
            "type": "scatterternary"
           }
          ],
          "surface": [
           {
            "colorbar": {
             "outlinewidth": 0,
             "ticks": ""
            },
            "colorscale": [
             [
              0,
              "#0d0887"
             ],
             [
              0.1111111111111111,
              "#46039f"
             ],
             [
              0.2222222222222222,
              "#7201a8"
             ],
             [
              0.3333333333333333,
              "#9c179e"
             ],
             [
              0.4444444444444444,
              "#bd3786"
             ],
             [
              0.5555555555555556,
              "#d8576b"
             ],
             [
              0.6666666666666666,
              "#ed7953"
             ],
             [
              0.7777777777777778,
              "#fb9f3a"
             ],
             [
              0.8888888888888888,
              "#fdca26"
             ],
             [
              1,
              "#f0f921"
             ]
            ],
            "type": "surface"
           }
          ],
          "table": [
           {
            "cells": {
             "fill": {
              "color": "#EBF0F8"
             },
             "line": {
              "color": "white"
             }
            },
            "header": {
             "fill": {
              "color": "#C8D4E3"
             },
             "line": {
              "color": "white"
             }
            },
            "type": "table"
           }
          ]
         },
         "layout": {
          "annotationdefaults": {
           "arrowcolor": "#2a3f5f",
           "arrowhead": 0,
           "arrowwidth": 1
          },
          "autotypenumbers": "strict",
          "coloraxis": {
           "colorbar": {
            "outlinewidth": 0,
            "ticks": ""
           }
          },
          "colorscale": {
           "diverging": [
            [
             0,
             "#8e0152"
            ],
            [
             0.1,
             "#c51b7d"
            ],
            [
             0.2,
             "#de77ae"
            ],
            [
             0.3,
             "#f1b6da"
            ],
            [
             0.4,
             "#fde0ef"
            ],
            [
             0.5,
             "#f7f7f7"
            ],
            [
             0.6,
             "#e6f5d0"
            ],
            [
             0.7,
             "#b8e186"
            ],
            [
             0.8,
             "#7fbc41"
            ],
            [
             0.9,
             "#4d9221"
            ],
            [
             1,
             "#276419"
            ]
           ],
           "sequential": [
            [
             0,
             "#0d0887"
            ],
            [
             0.1111111111111111,
             "#46039f"
            ],
            [
             0.2222222222222222,
             "#7201a8"
            ],
            [
             0.3333333333333333,
             "#9c179e"
            ],
            [
             0.4444444444444444,
             "#bd3786"
            ],
            [
             0.5555555555555556,
             "#d8576b"
            ],
            [
             0.6666666666666666,
             "#ed7953"
            ],
            [
             0.7777777777777778,
             "#fb9f3a"
            ],
            [
             0.8888888888888888,
             "#fdca26"
            ],
            [
             1,
             "#f0f921"
            ]
           ],
           "sequentialminus": [
            [
             0,
             "#0d0887"
            ],
            [
             0.1111111111111111,
             "#46039f"
            ],
            [
             0.2222222222222222,
             "#7201a8"
            ],
            [
             0.3333333333333333,
             "#9c179e"
            ],
            [
             0.4444444444444444,
             "#bd3786"
            ],
            [
             0.5555555555555556,
             "#d8576b"
            ],
            [
             0.6666666666666666,
             "#ed7953"
            ],
            [
             0.7777777777777778,
             "#fb9f3a"
            ],
            [
             0.8888888888888888,
             "#fdca26"
            ],
            [
             1,
             "#f0f921"
            ]
           ]
          },
          "colorway": [
           "#636efa",
           "#EF553B",
           "#00cc96",
           "#ab63fa",
           "#FFA15A",
           "#19d3f3",
           "#FF6692",
           "#B6E880",
           "#FF97FF",
           "#FECB52"
          ],
          "font": {
           "color": "#2a3f5f"
          },
          "geo": {
           "bgcolor": "white",
           "lakecolor": "white",
           "landcolor": "white",
           "showlakes": true,
           "showland": true,
           "subunitcolor": "#C8D4E3"
          },
          "hoverlabel": {
           "align": "left"
          },
          "hovermode": "closest",
          "mapbox": {
           "style": "light"
          },
          "paper_bgcolor": "white",
          "plot_bgcolor": "white",
          "polar": {
           "angularaxis": {
            "gridcolor": "#EBF0F8",
            "linecolor": "#EBF0F8",
            "ticks": ""
           },
           "bgcolor": "white",
           "radialaxis": {
            "gridcolor": "#EBF0F8",
            "linecolor": "#EBF0F8",
            "ticks": ""
           }
          },
          "scene": {
           "xaxis": {
            "backgroundcolor": "white",
            "gridcolor": "#DFE8F3",
            "gridwidth": 2,
            "linecolor": "#EBF0F8",
            "showbackground": true,
            "ticks": "",
            "zerolinecolor": "#EBF0F8"
           },
           "yaxis": {
            "backgroundcolor": "white",
            "gridcolor": "#DFE8F3",
            "gridwidth": 2,
            "linecolor": "#EBF0F8",
            "showbackground": true,
            "ticks": "",
            "zerolinecolor": "#EBF0F8"
           },
           "zaxis": {
            "backgroundcolor": "white",
            "gridcolor": "#DFE8F3",
            "gridwidth": 2,
            "linecolor": "#EBF0F8",
            "showbackground": true,
            "ticks": "",
            "zerolinecolor": "#EBF0F8"
           }
          },
          "shapedefaults": {
           "line": {
            "color": "#2a3f5f"
           }
          },
          "ternary": {
           "aaxis": {
            "gridcolor": "#DFE8F3",
            "linecolor": "#A2B1C6",
            "ticks": ""
           },
           "baxis": {
            "gridcolor": "#DFE8F3",
            "linecolor": "#A2B1C6",
            "ticks": ""
           },
           "bgcolor": "white",
           "caxis": {
            "gridcolor": "#DFE8F3",
            "linecolor": "#A2B1C6",
            "ticks": ""
           }
          },
          "title": {
           "x": 0.05
          },
          "xaxis": {
           "automargin": true,
           "gridcolor": "#EBF0F8",
           "linecolor": "#EBF0F8",
           "ticks": "",
           "title": {
            "standoff": 15
           },
           "zerolinecolor": "#EBF0F8",
           "zerolinewidth": 2
          },
          "yaxis": {
           "automargin": true,
           "gridcolor": "#EBF0F8",
           "linecolor": "#EBF0F8",
           "ticks": "",
           "title": {
            "standoff": 15
           },
           "zerolinecolor": "#EBF0F8",
           "zerolinewidth": 2
          }
         }
        },
        "title": {
         "text": "Weights of columns"
        },
        "xaxis": {
         "title": {
          "text": "columns"
         }
        },
        "yaxis": {
         "title": {
          "text": "weights"
         }
        }
       }
      }
     },
     "metadata": {},
     "output_type": "display_data"
    },
    {
     "data": {
      "text/html": [
       "<div>\n",
       "<style scoped>\n",
       "    .dataframe tbody tr th:only-of-type {\n",
       "        vertical-align: middle;\n",
       "    }\n",
       "\n",
       "    .dataframe tbody tr th {\n",
       "        vertical-align: top;\n",
       "    }\n",
       "\n",
       "    .dataframe thead th {\n",
       "        text-align: right;\n",
       "    }\n",
       "</style>\n",
       "<table border=\"1\" class=\"dataframe\">\n",
       "  <thead>\n",
       "    <tr style=\"text-align: right;\">\n",
       "      <th></th>\n",
       "      <th>GeoFIPS</th>\n",
       "      <th>GeoName</th>\n",
       "      <th>2001</th>\n",
       "      <th>2002</th>\n",
       "      <th>2003</th>\n",
       "      <th>2004</th>\n",
       "      <th>2005</th>\n",
       "      <th>2006</th>\n",
       "      <th>2007</th>\n",
       "      <th>2008</th>\n",
       "      <th>...</th>\n",
       "      <th>2014_population</th>\n",
       "      <th>2015_population</th>\n",
       "      <th>2016_population</th>\n",
       "      <th>2017_population</th>\n",
       "      <th>2018_population</th>\n",
       "      <th>2019_population</th>\n",
       "      <th>2020_population</th>\n",
       "      <th>2021_population</th>\n",
       "      <th>distance to 1007</th>\n",
       "      <th>percentile</th>\n",
       "    </tr>\n",
       "  </thead>\n",
       "  <tbody>\n",
       "    <tr>\n",
       "      <th>0</th>\n",
       "      <td>1007</td>\n",
       "      <td>Bibb, AL</td>\n",
       "      <td>80.443</td>\n",
       "      <td>81.527</td>\n",
       "      <td>85.124</td>\n",
       "      <td>89.317</td>\n",
       "      <td>88.782</td>\n",
       "      <td>89.597</td>\n",
       "      <td>95.308</td>\n",
       "      <td>94.745</td>\n",
       "      <td>...</td>\n",
       "      <td>22586.0</td>\n",
       "      <td>22607.0</td>\n",
       "      <td>22654.0</td>\n",
       "      <td>22606.0</td>\n",
       "      <td>22383.0</td>\n",
       "      <td>22405.0</td>\n",
       "      <td>22223.0</td>\n",
       "      <td>22477.0</td>\n",
       "      <td>0.000000</td>\n",
       "      <td>47.76</td>\n",
       "    </tr>\n",
       "    <tr>\n",
       "      <th>1</th>\n",
       "      <td>48109</td>\n",
       "      <td>Culberson, TX</td>\n",
       "      <td>35.264</td>\n",
       "      <td>37.743</td>\n",
       "      <td>36.255</td>\n",
       "      <td>38.339</td>\n",
       "      <td>40.177</td>\n",
       "      <td>41.247</td>\n",
       "      <td>42.368</td>\n",
       "      <td>53.349</td>\n",
       "      <td>...</td>\n",
       "      <td>2301.0</td>\n",
       "      <td>2275.0</td>\n",
       "      <td>2244.0</td>\n",
       "      <td>2259.0</td>\n",
       "      <td>2212.0</td>\n",
       "      <td>2186.0</td>\n",
       "      <td>2193.0</td>\n",
       "      <td>2193.0</td>\n",
       "      <td>1.898948</td>\n",
       "      <td>99.97</td>\n",
       "    </tr>\n",
       "    <tr>\n",
       "      <th>2</th>\n",
       "      <td>48389</td>\n",
       "      <td>Reeves, TX</td>\n",
       "      <td>46.003</td>\n",
       "      <td>49.290</td>\n",
       "      <td>44.960</td>\n",
       "      <td>41.682</td>\n",
       "      <td>39.742</td>\n",
       "      <td>41.332</td>\n",
       "      <td>41.009</td>\n",
       "      <td>41.389</td>\n",
       "      <td>...</td>\n",
       "      <td>14614.0</td>\n",
       "      <td>14936.0</td>\n",
       "      <td>14484.0</td>\n",
       "      <td>14314.0</td>\n",
       "      <td>14526.0</td>\n",
       "      <td>14847.0</td>\n",
       "      <td>14730.0</td>\n",
       "      <td>14487.0</td>\n",
       "      <td>1.920264</td>\n",
       "      <td>99.90</td>\n",
       "    </tr>\n",
       "    <tr>\n",
       "      <th>3</th>\n",
       "      <td>31005</td>\n",
       "      <td>Arthur, NE</td>\n",
       "      <td>126.123</td>\n",
       "      <td>151.196</td>\n",
       "      <td>151.543</td>\n",
       "      <td>154.669</td>\n",
       "      <td>168.961</td>\n",
       "      <td>203.866</td>\n",
       "      <td>119.700</td>\n",
       "      <td>113.293</td>\n",
       "      <td>...</td>\n",
       "      <td>437.0</td>\n",
       "      <td>433.0</td>\n",
       "      <td>445.0</td>\n",
       "      <td>432.0</td>\n",
       "      <td>435.0</td>\n",
       "      <td>436.0</td>\n",
       "      <td>431.0</td>\n",
       "      <td>439.0</td>\n",
       "      <td>1.926074</td>\n",
       "      <td>99.58</td>\n",
       "    </tr>\n",
       "    <tr>\n",
       "      <th>4</th>\n",
       "      <td>54017</td>\n",
       "      <td>Doddridge, WV</td>\n",
       "      <td>45.487</td>\n",
       "      <td>45.897</td>\n",
       "      <td>45.933</td>\n",
       "      <td>46.619</td>\n",
       "      <td>49.647</td>\n",
       "      <td>54.491</td>\n",
       "      <td>56.730</td>\n",
       "      <td>55.200</td>\n",
       "      <td>...</td>\n",
       "      <td>8223.0</td>\n",
       "      <td>8392.0</td>\n",
       "      <td>8210.0</td>\n",
       "      <td>8108.0</td>\n",
       "      <td>8087.0</td>\n",
       "      <td>7922.0</td>\n",
       "      <td>7786.0</td>\n",
       "      <td>7735.0</td>\n",
       "      <td>1.950935</td>\n",
       "      <td>99.84</td>\n",
       "    </tr>\n",
       "    <tr>\n",
       "      <th>...</th>\n",
       "      <td>...</td>\n",
       "      <td>...</td>\n",
       "      <td>...</td>\n",
       "      <td>...</td>\n",
       "      <td>...</td>\n",
       "      <td>...</td>\n",
       "      <td>...</td>\n",
       "      <td>...</td>\n",
       "      <td>...</td>\n",
       "      <td>...</td>\n",
       "      <td>...</td>\n",
       "      <td>...</td>\n",
       "      <td>...</td>\n",
       "      <td>...</td>\n",
       "      <td>...</td>\n",
       "      <td>...</td>\n",
       "      <td>...</td>\n",
       "      <td>...</td>\n",
       "      <td>...</td>\n",
       "      <td>...</td>\n",
       "      <td>...</td>\n",
       "    </tr>\n",
       "    <tr>\n",
       "      <th>3069</th>\n",
       "      <td>6059</td>\n",
       "      <td>Orange, CA</td>\n",
       "      <td>82.036</td>\n",
       "      <td>84.241</td>\n",
       "      <td>89.790</td>\n",
       "      <td>94.090</td>\n",
       "      <td>99.072</td>\n",
       "      <td>102.799</td>\n",
       "      <td>102.301</td>\n",
       "      <td>99.220</td>\n",
       "      <td>...</td>\n",
       "      <td>3133194.0</td>\n",
       "      <td>3157254.0</td>\n",
       "      <td>3174233.0</td>\n",
       "      <td>3185766.0</td>\n",
       "      <td>3188828.0</td>\n",
       "      <td>3185685.0</td>\n",
       "      <td>3184101.0</td>\n",
       "      <td>3167809.0</td>\n",
       "      <td>2.910696</td>\n",
       "      <td>76.15</td>\n",
       "    </tr>\n",
       "    <tr>\n",
       "      <th>3070</th>\n",
       "      <td>4013</td>\n",
       "      <td>Maricopa, AZ</td>\n",
       "      <td>77.463</td>\n",
       "      <td>80.415</td>\n",
       "      <td>85.793</td>\n",
       "      <td>90.349</td>\n",
       "      <td>97.615</td>\n",
       "      <td>102.729</td>\n",
       "      <td>105.313</td>\n",
       "      <td>103.632</td>\n",
       "      <td>...</td>\n",
       "      <td>4040171.0</td>\n",
       "      <td>4105747.0</td>\n",
       "      <td>4174844.0</td>\n",
       "      <td>4231511.0</td>\n",
       "      <td>4292576.0</td>\n",
       "      <td>4363816.0</td>\n",
       "      <td>4438342.0</td>\n",
       "      <td>4496588.0</td>\n",
       "      <td>2.913534</td>\n",
       "      <td>87.18</td>\n",
       "    </tr>\n",
       "    <tr>\n",
       "      <th>3071</th>\n",
       "      <td>48201</td>\n",
       "      <td>Harris, TX</td>\n",
       "      <td>73.137</td>\n",
       "      <td>72.696</td>\n",
       "      <td>72.847</td>\n",
       "      <td>79.658</td>\n",
       "      <td>80.626</td>\n",
       "      <td>87.278</td>\n",
       "      <td>94.310</td>\n",
       "      <td>91.961</td>\n",
       "      <td>...</td>\n",
       "      <td>4452976.0</td>\n",
       "      <td>4553991.0</td>\n",
       "      <td>4619635.0</td>\n",
       "      <td>4651955.0</td>\n",
       "      <td>4672445.0</td>\n",
       "      <td>4704042.0</td>\n",
       "      <td>4732491.0</td>\n",
       "      <td>4728030.0</td>\n",
       "      <td>2.934048</td>\n",
       "      <td>51.04</td>\n",
       "    </tr>\n",
       "    <tr>\n",
       "      <th>3072</th>\n",
       "      <td>17031</td>\n",
       "      <td>Cook, IL</td>\n",
       "      <td>95.406</td>\n",
       "      <td>94.886</td>\n",
       "      <td>95.455</td>\n",
       "      <td>97.260</td>\n",
       "      <td>99.315</td>\n",
       "      <td>101.320</td>\n",
       "      <td>101.826</td>\n",
       "      <td>99.238</td>\n",
       "      <td>...</td>\n",
       "      <td>5320233.0</td>\n",
       "      <td>5324961.0</td>\n",
       "      <td>5320293.0</td>\n",
       "      <td>5311621.0</td>\n",
       "      <td>5297956.0</td>\n",
       "      <td>5287099.0</td>\n",
       "      <td>5262741.0</td>\n",
       "      <td>5173146.0</td>\n",
       "      <td>2.943509</td>\n",
       "      <td>52.34</td>\n",
       "    </tr>\n",
       "    <tr>\n",
       "      <th>3073</th>\n",
       "      <td>6037</td>\n",
       "      <td>Los Angeles, CA</td>\n",
       "      <td>82.070</td>\n",
       "      <td>83.658</td>\n",
       "      <td>86.614</td>\n",
       "      <td>89.137</td>\n",
       "      <td>91.163</td>\n",
       "      <td>94.942</td>\n",
       "      <td>96.400</td>\n",
       "      <td>98.804</td>\n",
       "      <td>...</td>\n",
       "      <td>10051511.0</td>\n",
       "      <td>10099677.0</td>\n",
       "      <td>10121673.0</td>\n",
       "      <td>10123521.0</td>\n",
       "      <td>10096986.0</td>\n",
       "      <td>10051154.0</td>\n",
       "      <td>9989165.0</td>\n",
       "      <td>9829544.0</td>\n",
       "      <td>2.951840</td>\n",
       "      <td>77.00</td>\n",
       "    </tr>\n",
       "  </tbody>\n",
       "</table>\n",
       "<p>3074 rows × 53 columns</p>\n",
       "</div>"
      ],
      "text/plain": [
       "      GeoFIPS          GeoName     2001     2002     2003     2004     2005  \\\n",
       "0        1007         Bibb, AL   80.443   81.527   85.124   89.317   88.782   \n",
       "1       48109    Culberson, TX   35.264   37.743   36.255   38.339   40.177   \n",
       "2       48389       Reeves, TX   46.003   49.290   44.960   41.682   39.742   \n",
       "3       31005       Arthur, NE  126.123  151.196  151.543  154.669  168.961   \n",
       "4       54017    Doddridge, WV   45.487   45.897   45.933   46.619   49.647   \n",
       "...       ...              ...      ...      ...      ...      ...      ...   \n",
       "3069     6059       Orange, CA   82.036   84.241   89.790   94.090   99.072   \n",
       "3070     4013     Maricopa, AZ   77.463   80.415   85.793   90.349   97.615   \n",
       "3071    48201       Harris, TX   73.137   72.696   72.847   79.658   80.626   \n",
       "3072    17031         Cook, IL   95.406   94.886   95.455   97.260   99.315   \n",
       "3073     6037  Los Angeles, CA   82.070   83.658   86.614   89.137   91.163   \n",
       "\n",
       "         2006     2007     2008  ...  2014_population  2015_population  \\\n",
       "0      89.597   95.308   94.745  ...          22586.0          22607.0   \n",
       "1      41.247   42.368   53.349  ...           2301.0           2275.0   \n",
       "2      41.332   41.009   41.389  ...          14614.0          14936.0   \n",
       "3     203.866  119.700  113.293  ...            437.0            433.0   \n",
       "4      54.491   56.730   55.200  ...           8223.0           8392.0   \n",
       "...       ...      ...      ...  ...              ...              ...   \n",
       "3069  102.799  102.301   99.220  ...        3133194.0        3157254.0   \n",
       "3070  102.729  105.313  103.632  ...        4040171.0        4105747.0   \n",
       "3071   87.278   94.310   91.961  ...        4452976.0        4553991.0   \n",
       "3072  101.320  101.826   99.238  ...        5320233.0        5324961.0   \n",
       "3073   94.942   96.400   98.804  ...       10051511.0       10099677.0   \n",
       "\n",
       "      2016_population  2017_population  2018_population  2019_population  \\\n",
       "0             22654.0          22606.0          22383.0          22405.0   \n",
       "1              2244.0           2259.0           2212.0           2186.0   \n",
       "2             14484.0          14314.0          14526.0          14847.0   \n",
       "3               445.0            432.0            435.0            436.0   \n",
       "4              8210.0           8108.0           8087.0           7922.0   \n",
       "...               ...              ...              ...              ...   \n",
       "3069        3174233.0        3185766.0        3188828.0        3185685.0   \n",
       "3070        4174844.0        4231511.0        4292576.0        4363816.0   \n",
       "3071        4619635.0        4651955.0        4672445.0        4704042.0   \n",
       "3072        5320293.0        5311621.0        5297956.0        5287099.0   \n",
       "3073       10121673.0       10123521.0       10096986.0       10051154.0   \n",
       "\n",
       "      2020_population  2021_population  distance to 1007  percentile  \n",
       "0             22223.0          22477.0          0.000000       47.76  \n",
       "1              2193.0           2193.0          1.898948       99.97  \n",
       "2             14730.0          14487.0          1.920264       99.90  \n",
       "3               431.0            439.0          1.926074       99.58  \n",
       "4              7786.0           7735.0          1.950935       99.84  \n",
       "...               ...              ...               ...         ...  \n",
       "3069        3184101.0        3167809.0          2.910696       76.15  \n",
       "3070        4438342.0        4496588.0          2.913534       87.18  \n",
       "3071        4732491.0        4728030.0          2.934048       51.04  \n",
       "3072        5262741.0        5173146.0          2.943509       52.34  \n",
       "3073        9989165.0        9829544.0          2.951840       77.00  \n",
       "\n",
       "[3074 rows x 53 columns]"
      ]
     },
     "metadata": {},
     "output_type": "display_data"
    },
    {
     "data": {
      "application/vnd.plotly.v1+json": {
       "config": {
        "plotlyServerURL": "https://plot.ly"
       },
       "data": [
        {
         "line": {
          "color": "darkred",
          "width": 3
         },
         "mode": "lines",
         "name": "Bibb, AL",
         "text": "Bibb, AL",
         "textposition": "top right",
         "type": "scatter",
         "x": [
          2001,
          2002,
          2003,
          2004,
          2005,
          2006,
          2007,
          2008,
          2009,
          2010,
          2011,
          2013,
          2014,
          2015,
          2016,
          2017,
          2018,
          2019,
          2020,
          2021
         ],
         "y": [
          80.443,
          81.527,
          85.124,
          89.317,
          88.782,
          89.597,
          95.308,
          94.745,
          92.945,
          100.115,
          102.559,
          99.537,
          97.933,
          94.594,
          95.812,
          96.878,
          96.988,
          104.62,
          109.487,
          107.878
         ]
        },
        {
         "line": {
          "color": "#FFC0CB"
         },
         "mode": "lines",
         "name": "Culberson, TX",
         "text": "Culberson, TX",
         "textposition": "top right",
         "type": "scatter",
         "x": [
          2001,
          2002,
          2003,
          2004,
          2005,
          2006,
          2007,
          2008,
          2009,
          2010,
          2011,
          2013,
          2014,
          2015,
          2016,
          2017,
          2018,
          2019,
          2020,
          2021
         ],
         "y": [
          35.264,
          37.743,
          36.255,
          38.339,
          40.177,
          41.247,
          42.368,
          53.349,
          66.475,
          58.869,
          62.017,
          144.271,
          258.311,
          404.721,
          546.092,
          673.326,
          712.048,
          986.32,
          1238.206,
          1185.01
         ]
        },
        {
         "line": {
          "color": "#A9A9A9"
         },
         "mode": "lines",
         "name": "Reeves, TX",
         "text": "Reeves, TX",
         "textposition": "top right",
         "type": "scatter",
         "x": [
          2001,
          2002,
          2003,
          2004,
          2005,
          2006,
          2007,
          2008,
          2009,
          2010,
          2011,
          2013,
          2014,
          2015,
          2016,
          2017,
          2018,
          2019,
          2020,
          2021
         ],
         "y": [
          46.003,
          49.29,
          44.96,
          41.682,
          39.742,
          41.332,
          41.009,
          41.389,
          47.383,
          45.553,
          59.748,
          121.888,
          212.473,
          334.183,
          416.768,
          607.235,
          843.967,
          1226.531,
          1136.483,
          942.206
         ]
        },
        {
         "line": {
          "color": "#87CEFA"
         },
         "mode": "lines",
         "name": "Arthur, NE",
         "text": "Arthur, NE",
         "textposition": "top right",
         "type": "scatter",
         "x": [
          2001,
          2002,
          2003,
          2004,
          2005,
          2006,
          2007,
          2008,
          2009,
          2010,
          2011,
          2013,
          2014,
          2015,
          2016,
          2017,
          2018,
          2019,
          2020,
          2021
         ],
         "y": [
          126.123,
          151.196,
          151.543,
          154.669,
          168.961,
          203.866,
          119.7,
          113.293,
          113.818,
          158.423,
          217.618,
          150.461,
          347.424,
          470.35,
          397.27,
          383.239,
          327.485,
          342.512,
          332.015,
          295.62
         ]
        },
        {
         "line": {
          "color": "#FFD700"
         },
         "mode": "lines",
         "name": "Doddridge, WV",
         "text": "Doddridge, WV",
         "textposition": "top right",
         "type": "scatter",
         "x": [
          2001,
          2002,
          2003,
          2004,
          2005,
          2006,
          2007,
          2008,
          2009,
          2010,
          2011,
          2013,
          2014,
          2015,
          2016,
          2017,
          2018,
          2019,
          2020,
          2021
         ],
         "y": [
          45.487,
          45.897,
          45.933,
          46.619,
          49.647,
          54.491,
          56.73,
          55.2,
          59.103,
          63.288,
          74.898,
          153.449,
          350.799,
          570.504,
          559.353,
          592.505,
          518.304,
          552.703,
          663.164,
          441.052
         ]
        },
        {
         "line": {
          "color": "#98FB98"
         },
         "mode": "lines",
         "name": "Dimmit, TX",
         "text": "Dimmit, TX",
         "textposition": "top right",
         "type": "scatter",
         "x": [
          2001,
          2002,
          2003,
          2004,
          2005,
          2006,
          2007,
          2008,
          2009,
          2010,
          2011,
          2013,
          2014,
          2015,
          2016,
          2017,
          2018,
          2019,
          2020,
          2021
         ],
         "y": [
          9.381,
          10.07,
          10.269,
          10.101,
          10.527,
          13.382,
          13.424,
          12.854,
          14.399,
          21.989,
          47.025,
          169.087,
          208.912,
          253.553,
          226.448,
          235.298,
          230.138,
          256.745,
          206.367,
          159.131
         ]
        }
       ],
       "layout": {
        "legend": {
         "title": {
          "text": "GeoName"
         }
        },
        "template": {
         "data": {
          "bar": [
           {
            "error_x": {
             "color": "rgb(36,36,36)"
            },
            "error_y": {
             "color": "rgb(36,36,36)"
            },
            "marker": {
             "line": {
              "color": "white",
              "width": 0.5
             },
             "pattern": {
              "fillmode": "overlay",
              "size": 10,
              "solidity": 0.2
             }
            },
            "type": "bar"
           }
          ],
          "barpolar": [
           {
            "marker": {
             "line": {
              "color": "white",
              "width": 0.5
             },
             "pattern": {
              "fillmode": "overlay",
              "size": 10,
              "solidity": 0.2
             }
            },
            "type": "barpolar"
           }
          ],
          "carpet": [
           {
            "aaxis": {
             "endlinecolor": "rgb(36,36,36)",
             "gridcolor": "white",
             "linecolor": "white",
             "minorgridcolor": "white",
             "startlinecolor": "rgb(36,36,36)"
            },
            "baxis": {
             "endlinecolor": "rgb(36,36,36)",
             "gridcolor": "white",
             "linecolor": "white",
             "minorgridcolor": "white",
             "startlinecolor": "rgb(36,36,36)"
            },
            "type": "carpet"
           }
          ],
          "choropleth": [
           {
            "colorbar": {
             "outlinewidth": 1,
             "tickcolor": "rgb(36,36,36)",
             "ticks": "outside"
            },
            "type": "choropleth"
           }
          ],
          "contour": [
           {
            "colorbar": {
             "outlinewidth": 1,
             "tickcolor": "rgb(36,36,36)",
             "ticks": "outside"
            },
            "colorscale": [
             [
              0,
              "#440154"
             ],
             [
              0.1111111111111111,
              "#482878"
             ],
             [
              0.2222222222222222,
              "#3e4989"
             ],
             [
              0.3333333333333333,
              "#31688e"
             ],
             [
              0.4444444444444444,
              "#26828e"
             ],
             [
              0.5555555555555556,
              "#1f9e89"
             ],
             [
              0.6666666666666666,
              "#35b779"
             ],
             [
              0.7777777777777778,
              "#6ece58"
             ],
             [
              0.8888888888888888,
              "#b5de2b"
             ],
             [
              1,
              "#fde725"
             ]
            ],
            "type": "contour"
           }
          ],
          "contourcarpet": [
           {
            "colorbar": {
             "outlinewidth": 1,
             "tickcolor": "rgb(36,36,36)",
             "ticks": "outside"
            },
            "type": "contourcarpet"
           }
          ],
          "heatmap": [
           {
            "colorbar": {
             "outlinewidth": 1,
             "tickcolor": "rgb(36,36,36)",
             "ticks": "outside"
            },
            "colorscale": [
             [
              0,
              "#440154"
             ],
             [
              0.1111111111111111,
              "#482878"
             ],
             [
              0.2222222222222222,
              "#3e4989"
             ],
             [
              0.3333333333333333,
              "#31688e"
             ],
             [
              0.4444444444444444,
              "#26828e"
             ],
             [
              0.5555555555555556,
              "#1f9e89"
             ],
             [
              0.6666666666666666,
              "#35b779"
             ],
             [
              0.7777777777777778,
              "#6ece58"
             ],
             [
              0.8888888888888888,
              "#b5de2b"
             ],
             [
              1,
              "#fde725"
             ]
            ],
            "type": "heatmap"
           }
          ],
          "heatmapgl": [
           {
            "colorbar": {
             "outlinewidth": 1,
             "tickcolor": "rgb(36,36,36)",
             "ticks": "outside"
            },
            "colorscale": [
             [
              0,
              "#440154"
             ],
             [
              0.1111111111111111,
              "#482878"
             ],
             [
              0.2222222222222222,
              "#3e4989"
             ],
             [
              0.3333333333333333,
              "#31688e"
             ],
             [
              0.4444444444444444,
              "#26828e"
             ],
             [
              0.5555555555555556,
              "#1f9e89"
             ],
             [
              0.6666666666666666,
              "#35b779"
             ],
             [
              0.7777777777777778,
              "#6ece58"
             ],
             [
              0.8888888888888888,
              "#b5de2b"
             ],
             [
              1,
              "#fde725"
             ]
            ],
            "type": "heatmapgl"
           }
          ],
          "histogram": [
           {
            "marker": {
             "line": {
              "color": "white",
              "width": 0.6
             }
            },
            "type": "histogram"
           }
          ],
          "histogram2d": [
           {
            "colorbar": {
             "outlinewidth": 1,
             "tickcolor": "rgb(36,36,36)",
             "ticks": "outside"
            },
            "colorscale": [
             [
              0,
              "#440154"
             ],
             [
              0.1111111111111111,
              "#482878"
             ],
             [
              0.2222222222222222,
              "#3e4989"
             ],
             [
              0.3333333333333333,
              "#31688e"
             ],
             [
              0.4444444444444444,
              "#26828e"
             ],
             [
              0.5555555555555556,
              "#1f9e89"
             ],
             [
              0.6666666666666666,
              "#35b779"
             ],
             [
              0.7777777777777778,
              "#6ece58"
             ],
             [
              0.8888888888888888,
              "#b5de2b"
             ],
             [
              1,
              "#fde725"
             ]
            ],
            "type": "histogram2d"
           }
          ],
          "histogram2dcontour": [
           {
            "colorbar": {
             "outlinewidth": 1,
             "tickcolor": "rgb(36,36,36)",
             "ticks": "outside"
            },
            "colorscale": [
             [
              0,
              "#440154"
             ],
             [
              0.1111111111111111,
              "#482878"
             ],
             [
              0.2222222222222222,
              "#3e4989"
             ],
             [
              0.3333333333333333,
              "#31688e"
             ],
             [
              0.4444444444444444,
              "#26828e"
             ],
             [
              0.5555555555555556,
              "#1f9e89"
             ],
             [
              0.6666666666666666,
              "#35b779"
             ],
             [
              0.7777777777777778,
              "#6ece58"
             ],
             [
              0.8888888888888888,
              "#b5de2b"
             ],
             [
              1,
              "#fde725"
             ]
            ],
            "type": "histogram2dcontour"
           }
          ],
          "mesh3d": [
           {
            "colorbar": {
             "outlinewidth": 1,
             "tickcolor": "rgb(36,36,36)",
             "ticks": "outside"
            },
            "type": "mesh3d"
           }
          ],
          "parcoords": [
           {
            "line": {
             "colorbar": {
              "outlinewidth": 1,
              "tickcolor": "rgb(36,36,36)",
              "ticks": "outside"
             }
            },
            "type": "parcoords"
           }
          ],
          "pie": [
           {
            "automargin": true,
            "type": "pie"
           }
          ],
          "scatter": [
           {
            "fillpattern": {
             "fillmode": "overlay",
             "size": 10,
             "solidity": 0.2
            },
            "type": "scatter"
           }
          ],
          "scatter3d": [
           {
            "line": {
             "colorbar": {
              "outlinewidth": 1,
              "tickcolor": "rgb(36,36,36)",
              "ticks": "outside"
             }
            },
            "marker": {
             "colorbar": {
              "outlinewidth": 1,
              "tickcolor": "rgb(36,36,36)",
              "ticks": "outside"
             }
            },
            "type": "scatter3d"
           }
          ],
          "scattercarpet": [
           {
            "marker": {
             "colorbar": {
              "outlinewidth": 1,
              "tickcolor": "rgb(36,36,36)",
              "ticks": "outside"
             }
            },
            "type": "scattercarpet"
           }
          ],
          "scattergeo": [
           {
            "marker": {
             "colorbar": {
              "outlinewidth": 1,
              "tickcolor": "rgb(36,36,36)",
              "ticks": "outside"
             }
            },
            "type": "scattergeo"
           }
          ],
          "scattergl": [
           {
            "marker": {
             "colorbar": {
              "outlinewidth": 1,
              "tickcolor": "rgb(36,36,36)",
              "ticks": "outside"
             }
            },
            "type": "scattergl"
           }
          ],
          "scattermapbox": [
           {
            "marker": {
             "colorbar": {
              "outlinewidth": 1,
              "tickcolor": "rgb(36,36,36)",
              "ticks": "outside"
             }
            },
            "type": "scattermapbox"
           }
          ],
          "scatterpolar": [
           {
            "marker": {
             "colorbar": {
              "outlinewidth": 1,
              "tickcolor": "rgb(36,36,36)",
              "ticks": "outside"
             }
            },
            "type": "scatterpolar"
           }
          ],
          "scatterpolargl": [
           {
            "marker": {
             "colorbar": {
              "outlinewidth": 1,
              "tickcolor": "rgb(36,36,36)",
              "ticks": "outside"
             }
            },
            "type": "scatterpolargl"
           }
          ],
          "scatterternary": [
           {
            "marker": {
             "colorbar": {
              "outlinewidth": 1,
              "tickcolor": "rgb(36,36,36)",
              "ticks": "outside"
             }
            },
            "type": "scatterternary"
           }
          ],
          "surface": [
           {
            "colorbar": {
             "outlinewidth": 1,
             "tickcolor": "rgb(36,36,36)",
             "ticks": "outside"
            },
            "colorscale": [
             [
              0,
              "#440154"
             ],
             [
              0.1111111111111111,
              "#482878"
             ],
             [
              0.2222222222222222,
              "#3e4989"
             ],
             [
              0.3333333333333333,
              "#31688e"
             ],
             [
              0.4444444444444444,
              "#26828e"
             ],
             [
              0.5555555555555556,
              "#1f9e89"
             ],
             [
              0.6666666666666666,
              "#35b779"
             ],
             [
              0.7777777777777778,
              "#6ece58"
             ],
             [
              0.8888888888888888,
              "#b5de2b"
             ],
             [
              1,
              "#fde725"
             ]
            ],
            "type": "surface"
           }
          ],
          "table": [
           {
            "cells": {
             "fill": {
              "color": "rgb(237,237,237)"
             },
             "line": {
              "color": "white"
             }
            },
            "header": {
             "fill": {
              "color": "rgb(217,217,217)"
             },
             "line": {
              "color": "white"
             }
            },
            "type": "table"
           }
          ]
         },
         "layout": {
          "annotationdefaults": {
           "arrowhead": 0,
           "arrowwidth": 1
          },
          "autotypenumbers": "strict",
          "coloraxis": {
           "colorbar": {
            "outlinewidth": 1,
            "tickcolor": "rgb(36,36,36)",
            "ticks": "outside"
           }
          },
          "colorscale": {
           "diverging": [
            [
             0,
             "rgb(103,0,31)"
            ],
            [
             0.1,
             "rgb(178,24,43)"
            ],
            [
             0.2,
             "rgb(214,96,77)"
            ],
            [
             0.3,
             "rgb(244,165,130)"
            ],
            [
             0.4,
             "rgb(253,219,199)"
            ],
            [
             0.5,
             "rgb(247,247,247)"
            ],
            [
             0.6,
             "rgb(209,229,240)"
            ],
            [
             0.7,
             "rgb(146,197,222)"
            ],
            [
             0.8,
             "rgb(67,147,195)"
            ],
            [
             0.9,
             "rgb(33,102,172)"
            ],
            [
             1,
             "rgb(5,48,97)"
            ]
           ],
           "sequential": [
            [
             0,
             "#440154"
            ],
            [
             0.1111111111111111,
             "#482878"
            ],
            [
             0.2222222222222222,
             "#3e4989"
            ],
            [
             0.3333333333333333,
             "#31688e"
            ],
            [
             0.4444444444444444,
             "#26828e"
            ],
            [
             0.5555555555555556,
             "#1f9e89"
            ],
            [
             0.6666666666666666,
             "#35b779"
            ],
            [
             0.7777777777777778,
             "#6ece58"
            ],
            [
             0.8888888888888888,
             "#b5de2b"
            ],
            [
             1,
             "#fde725"
            ]
           ],
           "sequentialminus": [
            [
             0,
             "#440154"
            ],
            [
             0.1111111111111111,
             "#482878"
            ],
            [
             0.2222222222222222,
             "#3e4989"
            ],
            [
             0.3333333333333333,
             "#31688e"
            ],
            [
             0.4444444444444444,
             "#26828e"
            ],
            [
             0.5555555555555556,
             "#1f9e89"
            ],
            [
             0.6666666666666666,
             "#35b779"
            ],
            [
             0.7777777777777778,
             "#6ece58"
            ],
            [
             0.8888888888888888,
             "#b5de2b"
            ],
            [
             1,
             "#fde725"
            ]
           ]
          },
          "colorway": [
           "#1F77B4",
           "#FF7F0E",
           "#2CA02C",
           "#D62728",
           "#9467BD",
           "#8C564B",
           "#E377C2",
           "#7F7F7F",
           "#BCBD22",
           "#17BECF"
          ],
          "font": {
           "color": "rgb(36,36,36)"
          },
          "geo": {
           "bgcolor": "white",
           "lakecolor": "white",
           "landcolor": "white",
           "showlakes": true,
           "showland": true,
           "subunitcolor": "white"
          },
          "hoverlabel": {
           "align": "left"
          },
          "hovermode": "closest",
          "mapbox": {
           "style": "light"
          },
          "paper_bgcolor": "white",
          "plot_bgcolor": "white",
          "polar": {
           "angularaxis": {
            "gridcolor": "rgb(232,232,232)",
            "linecolor": "rgb(36,36,36)",
            "showgrid": false,
            "showline": true,
            "ticks": "outside"
           },
           "bgcolor": "white",
           "radialaxis": {
            "gridcolor": "rgb(232,232,232)",
            "linecolor": "rgb(36,36,36)",
            "showgrid": false,
            "showline": true,
            "ticks": "outside"
           }
          },
          "scene": {
           "xaxis": {
            "backgroundcolor": "white",
            "gridcolor": "rgb(232,232,232)",
            "gridwidth": 2,
            "linecolor": "rgb(36,36,36)",
            "showbackground": true,
            "showgrid": false,
            "showline": true,
            "ticks": "outside",
            "zeroline": false,
            "zerolinecolor": "rgb(36,36,36)"
           },
           "yaxis": {
            "backgroundcolor": "white",
            "gridcolor": "rgb(232,232,232)",
            "gridwidth": 2,
            "linecolor": "rgb(36,36,36)",
            "showbackground": true,
            "showgrid": false,
            "showline": true,
            "ticks": "outside",
            "zeroline": false,
            "zerolinecolor": "rgb(36,36,36)"
           },
           "zaxis": {
            "backgroundcolor": "white",
            "gridcolor": "rgb(232,232,232)",
            "gridwidth": 2,
            "linecolor": "rgb(36,36,36)",
            "showbackground": true,
            "showgrid": false,
            "showline": true,
            "ticks": "outside",
            "zeroline": false,
            "zerolinecolor": "rgb(36,36,36)"
           }
          },
          "shapedefaults": {
           "fillcolor": "black",
           "line": {
            "width": 0
           },
           "opacity": 0.3
          },
          "ternary": {
           "aaxis": {
            "gridcolor": "rgb(232,232,232)",
            "linecolor": "rgb(36,36,36)",
            "showgrid": false,
            "showline": true,
            "ticks": "outside"
           },
           "baxis": {
            "gridcolor": "rgb(232,232,232)",
            "linecolor": "rgb(36,36,36)",
            "showgrid": false,
            "showline": true,
            "ticks": "outside"
           },
           "bgcolor": "white",
           "caxis": {
            "gridcolor": "rgb(232,232,232)",
            "linecolor": "rgb(36,36,36)",
            "showgrid": false,
            "showline": true,
            "ticks": "outside"
           }
          },
          "title": {
           "x": 0.05
          },
          "xaxis": {
           "automargin": true,
           "gridcolor": "rgb(232,232,232)",
           "linecolor": "rgb(36,36,36)",
           "showgrid": false,
           "showline": true,
           "ticks": "outside",
           "title": {
            "standoff": 15
           },
           "zeroline": false,
           "zerolinecolor": "rgb(36,36,36)"
          },
          "yaxis": {
           "automargin": true,
           "gridcolor": "rgb(232,232,232)",
           "linecolor": "rgb(36,36,36)",
           "showgrid": false,
           "showline": true,
           "ticks": "outside",
           "title": {
            "standoff": 15
           },
           "zeroline": false,
           "zerolinecolor": "rgb(36,36,36)"
          }
         }
        },
        "title": {
         "text": "Top 5 locations matching your search"
        },
        "xaxis": {
         "title": {
          "text": "Year"
         }
        },
        "yaxis": {
         "title": {
          "text": "gdp"
         }
        }
       }
      }
     },
     "metadata": {},
     "output_type": "display_data"
    }
   ],
   "source": [
    "# the other queries still work\n",
    "\n",
    "f = FipsQuery(\n",
    "    1007,\n",
    "    outcome_var=\"gdp\",\n",
    "    feature_groups_with_weights={\n",
    "        \"gdp\": -2,\n",
    "        \"population\": 1,\n",
    "    },  # with one feature group only\n",
    "    lag=0,\n",
    "    top=5,\n",
    "    time_decay=1.03,\n",
    ")\n",
    "f.find_euclidean_kins()\n",
    "f.plot_weights()\n",
    "display(f.euclidean_kins)\n",
    "f.plot_kins()"
   ]
  },
  {
   "cell_type": "markdown",
   "metadata": {},
   "source": [
    "#### Use case: similarity in outcome patterns\n",
    "\n",
    "You want to find top five jurisdictions with similar gdp time series patterns. You value times nearest to you a bit more, but also you only want the years 2003-2019 to be used for the outcome comparison."
   ]
  },
  {
   "cell_type": "code",
   "execution_count": 10,
   "metadata": {},
   "outputs": [
    {
     "data": {
      "application/vnd.plotly.v1+json": {
       "config": {
        "plotlyServerURL": "https://plot.ly"
       },
       "data": [
        {
         "type": "bar",
         "x": [
          "2003_gdp",
          "2004_gdp",
          "2005_gdp",
          "2006_gdp",
          "2007_gdp",
          "2008_gdp",
          "2009_gdp",
          "2010_gdp",
          "2011_gdp",
          "2013_gdp",
          "2014_gdp",
          "2015_gdp",
          "2016_gdp",
          "2017_gdp",
          "2018_gdp",
          "2019_gdp"
         ],
         "y": [
          0.15580857435746892,
          0.16515708881891705,
          0.1750665141480521,
          0.1855705049969352,
          0.19670473529675137,
          0.20850701941455643,
          0.22101744057942982,
          0.23427848701419565,
          0.2483351962350474,
          0.26323530800915024,
          0.2790294264896993,
          0.29577119207908126,
          0.3135174636038261,
          0.3323285114200557,
          0.3522682221052591,
          0.37340431543157465
         ]
        }
       ],
       "layout": {
        "template": {
         "data": {
          "bar": [
           {
            "error_x": {
             "color": "#2a3f5f"
            },
            "error_y": {
             "color": "#2a3f5f"
            },
            "marker": {
             "line": {
              "color": "white",
              "width": 0.5
             },
             "pattern": {
              "fillmode": "overlay",
              "size": 10,
              "solidity": 0.2
             }
            },
            "type": "bar"
           }
          ],
          "barpolar": [
           {
            "marker": {
             "line": {
              "color": "white",
              "width": 0.5
             },
             "pattern": {
              "fillmode": "overlay",
              "size": 10,
              "solidity": 0.2
             }
            },
            "type": "barpolar"
           }
          ],
          "carpet": [
           {
            "aaxis": {
             "endlinecolor": "#2a3f5f",
             "gridcolor": "#C8D4E3",
             "linecolor": "#C8D4E3",
             "minorgridcolor": "#C8D4E3",
             "startlinecolor": "#2a3f5f"
            },
            "baxis": {
             "endlinecolor": "#2a3f5f",
             "gridcolor": "#C8D4E3",
             "linecolor": "#C8D4E3",
             "minorgridcolor": "#C8D4E3",
             "startlinecolor": "#2a3f5f"
            },
            "type": "carpet"
           }
          ],
          "choropleth": [
           {
            "colorbar": {
             "outlinewidth": 0,
             "ticks": ""
            },
            "type": "choropleth"
           }
          ],
          "contour": [
           {
            "colorbar": {
             "outlinewidth": 0,
             "ticks": ""
            },
            "colorscale": [
             [
              0,
              "#0d0887"
             ],
             [
              0.1111111111111111,
              "#46039f"
             ],
             [
              0.2222222222222222,
              "#7201a8"
             ],
             [
              0.3333333333333333,
              "#9c179e"
             ],
             [
              0.4444444444444444,
              "#bd3786"
             ],
             [
              0.5555555555555556,
              "#d8576b"
             ],
             [
              0.6666666666666666,
              "#ed7953"
             ],
             [
              0.7777777777777778,
              "#fb9f3a"
             ],
             [
              0.8888888888888888,
              "#fdca26"
             ],
             [
              1,
              "#f0f921"
             ]
            ],
            "type": "contour"
           }
          ],
          "contourcarpet": [
           {
            "colorbar": {
             "outlinewidth": 0,
             "ticks": ""
            },
            "type": "contourcarpet"
           }
          ],
          "heatmap": [
           {
            "colorbar": {
             "outlinewidth": 0,
             "ticks": ""
            },
            "colorscale": [
             [
              0,
              "#0d0887"
             ],
             [
              0.1111111111111111,
              "#46039f"
             ],
             [
              0.2222222222222222,
              "#7201a8"
             ],
             [
              0.3333333333333333,
              "#9c179e"
             ],
             [
              0.4444444444444444,
              "#bd3786"
             ],
             [
              0.5555555555555556,
              "#d8576b"
             ],
             [
              0.6666666666666666,
              "#ed7953"
             ],
             [
              0.7777777777777778,
              "#fb9f3a"
             ],
             [
              0.8888888888888888,
              "#fdca26"
             ],
             [
              1,
              "#f0f921"
             ]
            ],
            "type": "heatmap"
           }
          ],
          "heatmapgl": [
           {
            "colorbar": {
             "outlinewidth": 0,
             "ticks": ""
            },
            "colorscale": [
             [
              0,
              "#0d0887"
             ],
             [
              0.1111111111111111,
              "#46039f"
             ],
             [
              0.2222222222222222,
              "#7201a8"
             ],
             [
              0.3333333333333333,
              "#9c179e"
             ],
             [
              0.4444444444444444,
              "#bd3786"
             ],
             [
              0.5555555555555556,
              "#d8576b"
             ],
             [
              0.6666666666666666,
              "#ed7953"
             ],
             [
              0.7777777777777778,
              "#fb9f3a"
             ],
             [
              0.8888888888888888,
              "#fdca26"
             ],
             [
              1,
              "#f0f921"
             ]
            ],
            "type": "heatmapgl"
           }
          ],
          "histogram": [
           {
            "marker": {
             "pattern": {
              "fillmode": "overlay",
              "size": 10,
              "solidity": 0.2
             }
            },
            "type": "histogram"
           }
          ],
          "histogram2d": [
           {
            "colorbar": {
             "outlinewidth": 0,
             "ticks": ""
            },
            "colorscale": [
             [
              0,
              "#0d0887"
             ],
             [
              0.1111111111111111,
              "#46039f"
             ],
             [
              0.2222222222222222,
              "#7201a8"
             ],
             [
              0.3333333333333333,
              "#9c179e"
             ],
             [
              0.4444444444444444,
              "#bd3786"
             ],
             [
              0.5555555555555556,
              "#d8576b"
             ],
             [
              0.6666666666666666,
              "#ed7953"
             ],
             [
              0.7777777777777778,
              "#fb9f3a"
             ],
             [
              0.8888888888888888,
              "#fdca26"
             ],
             [
              1,
              "#f0f921"
             ]
            ],
            "type": "histogram2d"
           }
          ],
          "histogram2dcontour": [
           {
            "colorbar": {
             "outlinewidth": 0,
             "ticks": ""
            },
            "colorscale": [
             [
              0,
              "#0d0887"
             ],
             [
              0.1111111111111111,
              "#46039f"
             ],
             [
              0.2222222222222222,
              "#7201a8"
             ],
             [
              0.3333333333333333,
              "#9c179e"
             ],
             [
              0.4444444444444444,
              "#bd3786"
             ],
             [
              0.5555555555555556,
              "#d8576b"
             ],
             [
              0.6666666666666666,
              "#ed7953"
             ],
             [
              0.7777777777777778,
              "#fb9f3a"
             ],
             [
              0.8888888888888888,
              "#fdca26"
             ],
             [
              1,
              "#f0f921"
             ]
            ],
            "type": "histogram2dcontour"
           }
          ],
          "mesh3d": [
           {
            "colorbar": {
             "outlinewidth": 0,
             "ticks": ""
            },
            "type": "mesh3d"
           }
          ],
          "parcoords": [
           {
            "line": {
             "colorbar": {
              "outlinewidth": 0,
              "ticks": ""
             }
            },
            "type": "parcoords"
           }
          ],
          "pie": [
           {
            "automargin": true,
            "type": "pie"
           }
          ],
          "scatter": [
           {
            "fillpattern": {
             "fillmode": "overlay",
             "size": 10,
             "solidity": 0.2
            },
            "type": "scatter"
           }
          ],
          "scatter3d": [
           {
            "line": {
             "colorbar": {
              "outlinewidth": 0,
              "ticks": ""
             }
            },
            "marker": {
             "colorbar": {
              "outlinewidth": 0,
              "ticks": ""
             }
            },
            "type": "scatter3d"
           }
          ],
          "scattercarpet": [
           {
            "marker": {
             "colorbar": {
              "outlinewidth": 0,
              "ticks": ""
             }
            },
            "type": "scattercarpet"
           }
          ],
          "scattergeo": [
           {
            "marker": {
             "colorbar": {
              "outlinewidth": 0,
              "ticks": ""
             }
            },
            "type": "scattergeo"
           }
          ],
          "scattergl": [
           {
            "marker": {
             "colorbar": {
              "outlinewidth": 0,
              "ticks": ""
             }
            },
            "type": "scattergl"
           }
          ],
          "scattermapbox": [
           {
            "marker": {
             "colorbar": {
              "outlinewidth": 0,
              "ticks": ""
             }
            },
            "type": "scattermapbox"
           }
          ],
          "scatterpolar": [
           {
            "marker": {
             "colorbar": {
              "outlinewidth": 0,
              "ticks": ""
             }
            },
            "type": "scatterpolar"
           }
          ],
          "scatterpolargl": [
           {
            "marker": {
             "colorbar": {
              "outlinewidth": 0,
              "ticks": ""
             }
            },
            "type": "scatterpolargl"
           }
          ],
          "scatterternary": [
           {
            "marker": {
             "colorbar": {
              "outlinewidth": 0,
              "ticks": ""
             }
            },
            "type": "scatterternary"
           }
          ],
          "surface": [
           {
            "colorbar": {
             "outlinewidth": 0,
             "ticks": ""
            },
            "colorscale": [
             [
              0,
              "#0d0887"
             ],
             [
              0.1111111111111111,
              "#46039f"
             ],
             [
              0.2222222222222222,
              "#7201a8"
             ],
             [
              0.3333333333333333,
              "#9c179e"
             ],
             [
              0.4444444444444444,
              "#bd3786"
             ],
             [
              0.5555555555555556,
              "#d8576b"
             ],
             [
              0.6666666666666666,
              "#ed7953"
             ],
             [
              0.7777777777777778,
              "#fb9f3a"
             ],
             [
              0.8888888888888888,
              "#fdca26"
             ],
             [
              1,
              "#f0f921"
             ]
            ],
            "type": "surface"
           }
          ],
          "table": [
           {
            "cells": {
             "fill": {
              "color": "#EBF0F8"
             },
             "line": {
              "color": "white"
             }
            },
            "header": {
             "fill": {
              "color": "#C8D4E3"
             },
             "line": {
              "color": "white"
             }
            },
            "type": "table"
           }
          ]
         },
         "layout": {
          "annotationdefaults": {
           "arrowcolor": "#2a3f5f",
           "arrowhead": 0,
           "arrowwidth": 1
          },
          "autotypenumbers": "strict",
          "coloraxis": {
           "colorbar": {
            "outlinewidth": 0,
            "ticks": ""
           }
          },
          "colorscale": {
           "diverging": [
            [
             0,
             "#8e0152"
            ],
            [
             0.1,
             "#c51b7d"
            ],
            [
             0.2,
             "#de77ae"
            ],
            [
             0.3,
             "#f1b6da"
            ],
            [
             0.4,
             "#fde0ef"
            ],
            [
             0.5,
             "#f7f7f7"
            ],
            [
             0.6,
             "#e6f5d0"
            ],
            [
             0.7,
             "#b8e186"
            ],
            [
             0.8,
             "#7fbc41"
            ],
            [
             0.9,
             "#4d9221"
            ],
            [
             1,
             "#276419"
            ]
           ],
           "sequential": [
            [
             0,
             "#0d0887"
            ],
            [
             0.1111111111111111,
             "#46039f"
            ],
            [
             0.2222222222222222,
             "#7201a8"
            ],
            [
             0.3333333333333333,
             "#9c179e"
            ],
            [
             0.4444444444444444,
             "#bd3786"
            ],
            [
             0.5555555555555556,
             "#d8576b"
            ],
            [
             0.6666666666666666,
             "#ed7953"
            ],
            [
             0.7777777777777778,
             "#fb9f3a"
            ],
            [
             0.8888888888888888,
             "#fdca26"
            ],
            [
             1,
             "#f0f921"
            ]
           ],
           "sequentialminus": [
            [
             0,
             "#0d0887"
            ],
            [
             0.1111111111111111,
             "#46039f"
            ],
            [
             0.2222222222222222,
             "#7201a8"
            ],
            [
             0.3333333333333333,
             "#9c179e"
            ],
            [
             0.4444444444444444,
             "#bd3786"
            ],
            [
             0.5555555555555556,
             "#d8576b"
            ],
            [
             0.6666666666666666,
             "#ed7953"
            ],
            [
             0.7777777777777778,
             "#fb9f3a"
            ],
            [
             0.8888888888888888,
             "#fdca26"
            ],
            [
             1,
             "#f0f921"
            ]
           ]
          },
          "colorway": [
           "#636efa",
           "#EF553B",
           "#00cc96",
           "#ab63fa",
           "#FFA15A",
           "#19d3f3",
           "#FF6692",
           "#B6E880",
           "#FF97FF",
           "#FECB52"
          ],
          "font": {
           "color": "#2a3f5f"
          },
          "geo": {
           "bgcolor": "white",
           "lakecolor": "white",
           "landcolor": "white",
           "showlakes": true,
           "showland": true,
           "subunitcolor": "#C8D4E3"
          },
          "hoverlabel": {
           "align": "left"
          },
          "hovermode": "closest",
          "mapbox": {
           "style": "light"
          },
          "paper_bgcolor": "white",
          "plot_bgcolor": "white",
          "polar": {
           "angularaxis": {
            "gridcolor": "#EBF0F8",
            "linecolor": "#EBF0F8",
            "ticks": ""
           },
           "bgcolor": "white",
           "radialaxis": {
            "gridcolor": "#EBF0F8",
            "linecolor": "#EBF0F8",
            "ticks": ""
           }
          },
          "scene": {
           "xaxis": {
            "backgroundcolor": "white",
            "gridcolor": "#DFE8F3",
            "gridwidth": 2,
            "linecolor": "#EBF0F8",
            "showbackground": true,
            "ticks": "",
            "zerolinecolor": "#EBF0F8"
           },
           "yaxis": {
            "backgroundcolor": "white",
            "gridcolor": "#DFE8F3",
            "gridwidth": 2,
            "linecolor": "#EBF0F8",
            "showbackground": true,
            "ticks": "",
            "zerolinecolor": "#EBF0F8"
           },
           "zaxis": {
            "backgroundcolor": "white",
            "gridcolor": "#DFE8F3",
            "gridwidth": 2,
            "linecolor": "#EBF0F8",
            "showbackground": true,
            "ticks": "",
            "zerolinecolor": "#EBF0F8"
           }
          },
          "shapedefaults": {
           "line": {
            "color": "#2a3f5f"
           }
          },
          "ternary": {
           "aaxis": {
            "gridcolor": "#DFE8F3",
            "linecolor": "#A2B1C6",
            "ticks": ""
           },
           "baxis": {
            "gridcolor": "#DFE8F3",
            "linecolor": "#A2B1C6",
            "ticks": ""
           },
           "bgcolor": "white",
           "caxis": {
            "gridcolor": "#DFE8F3",
            "linecolor": "#A2B1C6",
            "ticks": ""
           }
          },
          "title": {
           "x": 0.05
          },
          "xaxis": {
           "automargin": true,
           "gridcolor": "#EBF0F8",
           "linecolor": "#EBF0F8",
           "ticks": "",
           "title": {
            "standoff": 15
           },
           "zerolinecolor": "#EBF0F8",
           "zerolinewidth": 2
          },
          "yaxis": {
           "automargin": true,
           "gridcolor": "#EBF0F8",
           "linecolor": "#EBF0F8",
           "ticks": "",
           "title": {
            "standoff": 15
           },
           "zerolinecolor": "#EBF0F8",
           "zerolinewidth": 2
          }
         }
        },
        "title": {
         "text": "Weights of columns"
        },
        "xaxis": {
         "title": {
          "text": "columns"
         }
        },
        "yaxis": {
         "title": {
          "text": "weights"
         }
        }
       }
      }
     },
     "metadata": {},
     "output_type": "display_data"
    }
   ],
   "source": [
    "f = FipsQuery(\n",
    "    42001,\n",
    "    \"gdp\",\n",
    "    lag=0,\n",
    "    top=10,\n",
    "    time_decay=1.06,\n",
    "    outcome_comparison_period=(2003, 2019),\n",
    "    outcome_percentile_range=(40, 100),\n",
    ")\n",
    "f.find_euclidean_kins()\n",
    "f.plot_weights()"
   ]
  },
  {
   "cell_type": "code",
   "execution_count": 11,
   "metadata": {},
   "outputs": [
    {
     "data": {
      "text/html": [
       "<div>\n",
       "<style scoped>\n",
       "    .dataframe tbody tr th:only-of-type {\n",
       "        vertical-align: middle;\n",
       "    }\n",
       "\n",
       "    .dataframe tbody tr th {\n",
       "        vertical-align: top;\n",
       "    }\n",
       "\n",
       "    .dataframe thead th {\n",
       "        text-align: right;\n",
       "    }\n",
       "</style>\n",
       "<table border=\"1\" class=\"dataframe\">\n",
       "  <thead>\n",
       "    <tr style=\"text-align: right;\">\n",
       "      <th></th>\n",
       "      <th>GeoFIPS</th>\n",
       "      <th>GeoName</th>\n",
       "      <th>2001</th>\n",
       "      <th>2002</th>\n",
       "      <th>2003</th>\n",
       "      <th>2004</th>\n",
       "      <th>2005</th>\n",
       "      <th>2006</th>\n",
       "      <th>2007</th>\n",
       "      <th>2008</th>\n",
       "      <th>...</th>\n",
       "      <th>2014</th>\n",
       "      <th>2015</th>\n",
       "      <th>2016</th>\n",
       "      <th>2017</th>\n",
       "      <th>2018</th>\n",
       "      <th>2019</th>\n",
       "      <th>2020</th>\n",
       "      <th>2021</th>\n",
       "      <th>distance to 42001</th>\n",
       "      <th>percentile</th>\n",
       "    </tr>\n",
       "  </thead>\n",
       "  <tbody>\n",
       "    <tr>\n",
       "      <th>0</th>\n",
       "      <td>42001</td>\n",
       "      <td>Adams, PA</td>\n",
       "      <td>78.619</td>\n",
       "      <td>84.689</td>\n",
       "      <td>84.475</td>\n",
       "      <td>85.860</td>\n",
       "      <td>89.556</td>\n",
       "      <td>93.508</td>\n",
       "      <td>93.154</td>\n",
       "      <td>95.379</td>\n",
       "      <td>...</td>\n",
       "      <td>100.006</td>\n",
       "      <td>102.509</td>\n",
       "      <td>103.708</td>\n",
       "      <td>108.411</td>\n",
       "      <td>105.390</td>\n",
       "      <td>103.440</td>\n",
       "      <td>97.678</td>\n",
       "      <td>102.664</td>\n",
       "      <td>0.000000</td>\n",
       "      <td>35.04</td>\n",
       "    </tr>\n",
       "    <tr>\n",
       "      <th>1</th>\n",
       "      <td>24013</td>\n",
       "      <td>Carroll, MD</td>\n",
       "      <td>76.152</td>\n",
       "      <td>80.700</td>\n",
       "      <td>82.853</td>\n",
       "      <td>86.013</td>\n",
       "      <td>89.398</td>\n",
       "      <td>95.381</td>\n",
       "      <td>95.463</td>\n",
       "      <td>97.823</td>\n",
       "      <td>...</td>\n",
       "      <td>99.510</td>\n",
       "      <td>101.215</td>\n",
       "      <td>101.568</td>\n",
       "      <td>106.456</td>\n",
       "      <td>104.838</td>\n",
       "      <td>105.452</td>\n",
       "      <td>101.050</td>\n",
       "      <td>105.298</td>\n",
       "      <td>0.028407</td>\n",
       "      <td>41.83</td>\n",
       "    </tr>\n",
       "    <tr>\n",
       "      <th>3</th>\n",
       "      <td>36029</td>\n",
       "      <td>Erie, NY</td>\n",
       "      <td>85.085</td>\n",
       "      <td>86.619</td>\n",
       "      <td>87.762</td>\n",
       "      <td>90.526</td>\n",
       "      <td>90.342</td>\n",
       "      <td>92.417</td>\n",
       "      <td>93.693</td>\n",
       "      <td>95.281</td>\n",
       "      <td>...</td>\n",
       "      <td>101.917</td>\n",
       "      <td>104.175</td>\n",
       "      <td>104.843</td>\n",
       "      <td>104.038</td>\n",
       "      <td>105.414</td>\n",
       "      <td>107.910</td>\n",
       "      <td>104.293</td>\n",
       "      <td>109.868</td>\n",
       "      <td>0.033851</td>\n",
       "      <td>52.37</td>\n",
       "    </tr>\n",
       "    <tr>\n",
       "      <th>4</th>\n",
       "      <td>20037</td>\n",
       "      <td>Crawford, KS</td>\n",
       "      <td>86.941</td>\n",
       "      <td>89.736</td>\n",
       "      <td>87.067</td>\n",
       "      <td>87.222</td>\n",
       "      <td>89.467</td>\n",
       "      <td>91.379</td>\n",
       "      <td>92.292</td>\n",
       "      <td>96.241</td>\n",
       "      <td>...</td>\n",
       "      <td>99.191</td>\n",
       "      <td>98.333</td>\n",
       "      <td>99.819</td>\n",
       "      <td>104.970</td>\n",
       "      <td>109.931</td>\n",
       "      <td>110.806</td>\n",
       "      <td>109.826</td>\n",
       "      <td>112.758</td>\n",
       "      <td>0.036416</td>\n",
       "      <td>58.98</td>\n",
       "    </tr>\n",
       "    <tr>\n",
       "      <th>6</th>\n",
       "      <td>13153</td>\n",
       "      <td>Houston, GA</td>\n",
       "      <td>78.281</td>\n",
       "      <td>81.594</td>\n",
       "      <td>85.417</td>\n",
       "      <td>87.998</td>\n",
       "      <td>92.355</td>\n",
       "      <td>94.139</td>\n",
       "      <td>96.047</td>\n",
       "      <td>95.277</td>\n",
       "      <td>...</td>\n",
       "      <td>97.624</td>\n",
       "      <td>99.403</td>\n",
       "      <td>100.100</td>\n",
       "      <td>103.078</td>\n",
       "      <td>104.657</td>\n",
       "      <td>108.421</td>\n",
       "      <td>106.848</td>\n",
       "      <td>110.816</td>\n",
       "      <td>0.036827</td>\n",
       "      <td>54.68</td>\n",
       "    </tr>\n",
       "    <tr>\n",
       "      <th>...</th>\n",
       "      <td>...</td>\n",
       "      <td>...</td>\n",
       "      <td>...</td>\n",
       "      <td>...</td>\n",
       "      <td>...</td>\n",
       "      <td>...</td>\n",
       "      <td>...</td>\n",
       "      <td>...</td>\n",
       "      <td>...</td>\n",
       "      <td>...</td>\n",
       "      <td>...</td>\n",
       "      <td>...</td>\n",
       "      <td>...</td>\n",
       "      <td>...</td>\n",
       "      <td>...</td>\n",
       "      <td>...</td>\n",
       "      <td>...</td>\n",
       "      <td>...</td>\n",
       "      <td>...</td>\n",
       "      <td>...</td>\n",
       "      <td>...</td>\n",
       "    </tr>\n",
       "    <tr>\n",
       "      <th>3069</th>\n",
       "      <td>48389</td>\n",
       "      <td>Reeves, TX</td>\n",
       "      <td>46.003</td>\n",
       "      <td>49.290</td>\n",
       "      <td>44.960</td>\n",
       "      <td>41.682</td>\n",
       "      <td>39.742</td>\n",
       "      <td>41.332</td>\n",
       "      <td>41.009</td>\n",
       "      <td>41.389</td>\n",
       "      <td>...</td>\n",
       "      <td>212.473</td>\n",
       "      <td>334.183</td>\n",
       "      <td>416.768</td>\n",
       "      <td>607.235</td>\n",
       "      <td>843.967</td>\n",
       "      <td>1226.531</td>\n",
       "      <td>1136.483</td>\n",
       "      <td>942.206</td>\n",
       "      <td>1.468391</td>\n",
       "      <td>99.90</td>\n",
       "    </tr>\n",
       "    <tr>\n",
       "      <th>3070</th>\n",
       "      <td>54017</td>\n",
       "      <td>Doddridge, WV</td>\n",
       "      <td>45.487</td>\n",
       "      <td>45.897</td>\n",
       "      <td>45.933</td>\n",
       "      <td>46.619</td>\n",
       "      <td>49.647</td>\n",
       "      <td>54.491</td>\n",
       "      <td>56.730</td>\n",
       "      <td>55.200</td>\n",
       "      <td>...</td>\n",
       "      <td>350.799</td>\n",
       "      <td>570.504</td>\n",
       "      <td>559.353</td>\n",
       "      <td>592.505</td>\n",
       "      <td>518.304</td>\n",
       "      <td>552.703</td>\n",
       "      <td>663.164</td>\n",
       "      <td>441.052</td>\n",
       "      <td>1.492258</td>\n",
       "      <td>99.84</td>\n",
       "    </tr>\n",
       "    <tr>\n",
       "      <th>3071</th>\n",
       "      <td>48233</td>\n",
       "      <td>Hutchinson, TX</td>\n",
       "      <td>109.729</td>\n",
       "      <td>102.552</td>\n",
       "      <td>96.027</td>\n",
       "      <td>105.075</td>\n",
       "      <td>92.319</td>\n",
       "      <td>97.763</td>\n",
       "      <td>108.460</td>\n",
       "      <td>130.444</td>\n",
       "      <td>...</td>\n",
       "      <td>600.611</td>\n",
       "      <td>471.316</td>\n",
       "      <td>743.692</td>\n",
       "      <td>529.449</td>\n",
       "      <td>476.537</td>\n",
       "      <td>449.404</td>\n",
       "      <td>389.278</td>\n",
       "      <td>364.625</td>\n",
       "      <td>1.505063</td>\n",
       "      <td>99.74</td>\n",
       "    </tr>\n",
       "    <tr>\n",
       "      <th>3072</th>\n",
       "      <td>31005</td>\n",
       "      <td>Arthur, NE</td>\n",
       "      <td>126.123</td>\n",
       "      <td>151.196</td>\n",
       "      <td>151.543</td>\n",
       "      <td>154.669</td>\n",
       "      <td>168.961</td>\n",
       "      <td>203.866</td>\n",
       "      <td>119.700</td>\n",
       "      <td>113.293</td>\n",
       "      <td>...</td>\n",
       "      <td>347.424</td>\n",
       "      <td>470.350</td>\n",
       "      <td>397.270</td>\n",
       "      <td>383.239</td>\n",
       "      <td>327.485</td>\n",
       "      <td>342.512</td>\n",
       "      <td>332.015</td>\n",
       "      <td>295.620</td>\n",
       "      <td>1.505257</td>\n",
       "      <td>99.58</td>\n",
       "    </tr>\n",
       "    <tr>\n",
       "      <th>3073</th>\n",
       "      <td>48109</td>\n",
       "      <td>Culberson, TX</td>\n",
       "      <td>35.264</td>\n",
       "      <td>37.743</td>\n",
       "      <td>36.255</td>\n",
       "      <td>38.339</td>\n",
       "      <td>40.177</td>\n",
       "      <td>41.247</td>\n",
       "      <td>42.368</td>\n",
       "      <td>53.349</td>\n",
       "      <td>...</td>\n",
       "      <td>258.311</td>\n",
       "      <td>404.721</td>\n",
       "      <td>546.092</td>\n",
       "      <td>673.326</td>\n",
       "      <td>712.048</td>\n",
       "      <td>986.320</td>\n",
       "      <td>1238.206</td>\n",
       "      <td>1185.010</td>\n",
       "      <td>1.509032</td>\n",
       "      <td>99.97</td>\n",
       "    </tr>\n",
       "  </tbody>\n",
       "</table>\n",
       "<p>1845 rows × 24 columns</p>\n",
       "</div>"
      ],
      "text/plain": [
       "      GeoFIPS         GeoName     2001     2002     2003     2004     2005  \\\n",
       "0       42001       Adams, PA   78.619   84.689   84.475   85.860   89.556   \n",
       "1       24013     Carroll, MD   76.152   80.700   82.853   86.013   89.398   \n",
       "3       36029        Erie, NY   85.085   86.619   87.762   90.526   90.342   \n",
       "4       20037    Crawford, KS   86.941   89.736   87.067   87.222   89.467   \n",
       "6       13153     Houston, GA   78.281   81.594   85.417   87.998   92.355   \n",
       "...       ...             ...      ...      ...      ...      ...      ...   \n",
       "3069    48389      Reeves, TX   46.003   49.290   44.960   41.682   39.742   \n",
       "3070    54017   Doddridge, WV   45.487   45.897   45.933   46.619   49.647   \n",
       "3071    48233  Hutchinson, TX  109.729  102.552   96.027  105.075   92.319   \n",
       "3072    31005      Arthur, NE  126.123  151.196  151.543  154.669  168.961   \n",
       "3073    48109   Culberson, TX   35.264   37.743   36.255   38.339   40.177   \n",
       "\n",
       "         2006     2007     2008  ...     2014     2015     2016     2017  \\\n",
       "0      93.508   93.154   95.379  ...  100.006  102.509  103.708  108.411   \n",
       "1      95.381   95.463   97.823  ...   99.510  101.215  101.568  106.456   \n",
       "3      92.417   93.693   95.281  ...  101.917  104.175  104.843  104.038   \n",
       "4      91.379   92.292   96.241  ...   99.191   98.333   99.819  104.970   \n",
       "6      94.139   96.047   95.277  ...   97.624   99.403  100.100  103.078   \n",
       "...       ...      ...      ...  ...      ...      ...      ...      ...   \n",
       "3069   41.332   41.009   41.389  ...  212.473  334.183  416.768  607.235   \n",
       "3070   54.491   56.730   55.200  ...  350.799  570.504  559.353  592.505   \n",
       "3071   97.763  108.460  130.444  ...  600.611  471.316  743.692  529.449   \n",
       "3072  203.866  119.700  113.293  ...  347.424  470.350  397.270  383.239   \n",
       "3073   41.247   42.368   53.349  ...  258.311  404.721  546.092  673.326   \n",
       "\n",
       "         2018      2019      2020      2021  distance to 42001  percentile  \n",
       "0     105.390   103.440    97.678   102.664           0.000000       35.04  \n",
       "1     104.838   105.452   101.050   105.298           0.028407       41.83  \n",
       "3     105.414   107.910   104.293   109.868           0.033851       52.37  \n",
       "4     109.931   110.806   109.826   112.758           0.036416       58.98  \n",
       "6     104.657   108.421   106.848   110.816           0.036827       54.68  \n",
       "...       ...       ...       ...       ...                ...         ...  \n",
       "3069  843.967  1226.531  1136.483   942.206           1.468391       99.90  \n",
       "3070  518.304   552.703   663.164   441.052           1.492258       99.84  \n",
       "3071  476.537   449.404   389.278   364.625           1.505063       99.74  \n",
       "3072  327.485   342.512   332.015   295.620           1.505257       99.58  \n",
       "3073  712.048   986.320  1238.206  1185.010           1.509032       99.97  \n",
       "\n",
       "[1845 rows x 24 columns]"
      ]
     },
     "metadata": {},
     "output_type": "display_data"
    }
   ],
   "source": [
    "# you can find the distances and  inspect the resulting\n",
    "# dataframe that contains the ranking:\n",
    "f.find_euclidean_kins()\n",
    "display(f.euclidean_kins)"
   ]
  },
  {
   "cell_type": "code",
   "execution_count": 12,
   "metadata": {},
   "outputs": [
    {
     "data": {
      "application/vnd.plotly.v1+json": {
       "config": {
        "plotlyServerURL": "https://plot.ly"
       },
       "data": [
        {
         "line": {
          "color": "darkred",
          "width": 3
         },
         "mode": "lines",
         "name": "Adams, PA",
         "text": "Adams, PA",
         "textposition": "top right",
         "type": "scatter",
         "x": [
          2001,
          2002,
          2003,
          2004,
          2005,
          2006,
          2007,
          2008,
          2009,
          2010,
          2011,
          2013,
          2014,
          2015,
          2016,
          2017,
          2018,
          2019,
          2020,
          2021
         ],
         "y": [
          78.619,
          84.689,
          84.475,
          85.86,
          89.556,
          93.508,
          93.154,
          95.379,
          96.885,
          95.036,
          97.071,
          100.08,
          100.006,
          102.509,
          103.708,
          108.411,
          105.39,
          103.44,
          97.678,
          102.664
         ]
        },
        {
         "line": {
          "color": "#FFC0CB"
         },
         "mode": "lines",
         "name": "Carroll, MD",
         "text": "Carroll, MD",
         "textposition": "top right",
         "type": "scatter",
         "x": [
          2001,
          2002,
          2003,
          2004,
          2005,
          2006,
          2007,
          2008,
          2009,
          2010,
          2011,
          2013,
          2014,
          2015,
          2016,
          2017,
          2018,
          2019,
          2020,
          2021
         ],
         "y": [
          76.152,
          80.7,
          82.853,
          86.013,
          89.398,
          95.381,
          95.463,
          97.823,
          92.549,
          95.524,
          97.683,
          100.226,
          99.51,
          101.215,
          101.568,
          106.456,
          104.838,
          105.452,
          101.05,
          105.298
         ]
        },
        {
         "line": {
          "color": "#A9A9A9"
         },
         "mode": "lines",
         "name": "Erie, NY",
         "text": "Erie, NY",
         "textposition": "top right",
         "type": "scatter",
         "x": [
          2001,
          2002,
          2003,
          2004,
          2005,
          2006,
          2007,
          2008,
          2009,
          2010,
          2011,
          2013,
          2014,
          2015,
          2016,
          2017,
          2018,
          2019,
          2020,
          2021
         ],
         "y": [
          85.085,
          86.619,
          87.762,
          90.526,
          90.342,
          92.417,
          93.693,
          95.281,
          95.663,
          97.971,
          96.386,
          99.42,
          101.917,
          104.175,
          104.843,
          104.038,
          105.414,
          107.91,
          104.293,
          109.868
         ]
        },
        {
         "line": {
          "color": "#87CEFA"
         },
         "mode": "lines",
         "name": "Crawford, KS",
         "text": "Crawford, KS",
         "textposition": "top right",
         "type": "scatter",
         "x": [
          2001,
          2002,
          2003,
          2004,
          2005,
          2006,
          2007,
          2008,
          2009,
          2010,
          2011,
          2013,
          2014,
          2015,
          2016,
          2017,
          2018,
          2019,
          2020,
          2021
         ],
         "y": [
          86.941,
          89.736,
          87.067,
          87.222,
          89.467,
          91.379,
          92.292,
          96.241,
          95.275,
          95.062,
          96.569,
          101.786,
          99.191,
          98.333,
          99.819,
          104.97,
          109.931,
          110.806,
          109.826,
          112.758
         ]
        },
        {
         "line": {
          "color": "#FFD700"
         },
         "mode": "lines",
         "name": "Houston, GA",
         "text": "Houston, GA",
         "textposition": "top right",
         "type": "scatter",
         "x": [
          2001,
          2002,
          2003,
          2004,
          2005,
          2006,
          2007,
          2008,
          2009,
          2010,
          2011,
          2013,
          2014,
          2015,
          2016,
          2017,
          2018,
          2019,
          2020,
          2021
         ],
         "y": [
          78.281,
          81.594,
          85.417,
          87.998,
          92.355,
          94.139,
          96.047,
          95.277,
          96.204,
          97,
          98.471,
          99.039,
          97.624,
          99.403,
          100.1,
          103.078,
          104.657,
          108.421,
          106.848,
          110.816
         ]
        },
        {
         "line": {
          "color": "#98FB98"
         },
         "mode": "lines",
         "name": "Worcester, MA",
         "text": "Worcester, MA",
         "textposition": "top right",
         "type": "scatter",
         "x": [
          2001,
          2002,
          2003,
          2004,
          2005,
          2006,
          2007,
          2008,
          2009,
          2010,
          2011,
          2013,
          2014,
          2015,
          2016,
          2017,
          2018,
          2019,
          2020,
          2021
         ],
         "y": [
          83.429,
          84.954,
          88.21,
          89.841,
          90.625,
          92.234,
          93.83,
          96.316,
          92.366,
          96.009,
          99.117,
          100.871,
          101.656,
          103.801,
          104.461,
          104.997,
          107.212,
          107.542,
          104.07,
          109.597
         ]
        },
        {
         "line": {
          "color": "#FFC0CB"
         },
         "mode": "lines",
         "name": "Suffolk, NY",
         "text": "Suffolk, NY",
         "textposition": "top right",
         "type": "scatter",
         "x": [
          2001,
          2002,
          2003,
          2004,
          2005,
          2006,
          2007,
          2008,
          2009,
          2010,
          2011,
          2013,
          2014,
          2015,
          2016,
          2017,
          2018,
          2019,
          2020,
          2021
         ],
         "y": [
          77.583,
          80.337,
          83.711,
          87.603,
          88.109,
          90.437,
          90.857,
          94.202,
          95.221,
          99.128,
          98.238,
          99.697,
          100.099,
          101.102,
          102.505,
          103.283,
          103.288,
          105.925,
          101.523,
          106.687
         ]
        },
        {
         "line": {
          "color": "#A9A9A9"
         },
         "mode": "lines",
         "name": "Cameron, TX",
         "text": "Cameron, TX",
         "textposition": "top right",
         "type": "scatter",
         "x": [
          2001,
          2002,
          2003,
          2004,
          2005,
          2006,
          2007,
          2008,
          2009,
          2010,
          2011,
          2013,
          2014,
          2015,
          2016,
          2017,
          2018,
          2019,
          2020,
          2021
         ],
         "y": [
          79.195,
          83.058,
          84.374,
          85.676,
          87.806,
          92.477,
          91.837,
          92.471,
          92.183,
          96.213,
          98.98,
          101.213,
          101.239,
          101.361,
          103.879,
          103.58,
          105.323,
          107.991,
          108.603,
          115.162
         ]
        },
        {
         "line": {
          "color": "#87CEFA"
         },
         "mode": "lines",
         "name": "Lebanon, PA",
         "text": "Lebanon, PA",
         "textposition": "top right",
         "type": "scatter",
         "x": [
          2001,
          2002,
          2003,
          2004,
          2005,
          2006,
          2007,
          2008,
          2009,
          2010,
          2011,
          2013,
          2014,
          2015,
          2016,
          2017,
          2018,
          2019,
          2020,
          2021
         ],
         "y": [
          75.896,
          78.123,
          82.417,
          86.806,
          87.894,
          89.636,
          92.629,
          92.494,
          92.174,
          95.672,
          97.725,
          99.242,
          101.924,
          103.708,
          101.833,
          105.074,
          108.344,
          109.104,
          105.277,
          111.624
         ]
        },
        {
         "line": {
          "color": "#FFD700"
         },
         "mode": "lines",
         "name": "Lake, IL",
         "text": "Lake, IL",
         "textposition": "top right",
         "type": "scatter",
         "x": [
          2001,
          2002,
          2003,
          2004,
          2005,
          2006,
          2007,
          2008,
          2009,
          2010,
          2011,
          2013,
          2014,
          2015,
          2016,
          2017,
          2018,
          2019,
          2020,
          2021
         ],
         "y": [
          78.656,
          81.216,
          83.875,
          87.882,
          89.657,
          94.695,
          97.707,
          94.213,
          92.498,
          96.205,
          95.768,
          98.521,
          101.651,
          104.679,
          102.943,
          102.954,
          105.339,
          105.335,
          101.592,
          106.468
         ]
        },
        {
         "line": {
          "color": "#98FB98"
         },
         "mode": "lines",
         "name": "Oktibbeha, MS",
         "text": "Oktibbeha, MS",
         "textposition": "top right",
         "type": "scatter",
         "x": [
          2001,
          2002,
          2003,
          2004,
          2005,
          2006,
          2007,
          2008,
          2009,
          2010,
          2011,
          2013,
          2014,
          2015,
          2016,
          2017,
          2018,
          2019,
          2020,
          2021
         ],
         "y": [
          83.279,
          85.143,
          83.864,
          85.565,
          91.16,
          93.433,
          93.899,
          98.855,
          99.163,
          97.766,
          99.952,
          101.228,
          100.858,
          100.069,
          106.639,
          105.926,
          106.941,
          107.105,
          108.225,
          109.357
         ]
        }
       ],
       "layout": {
        "legend": {
         "title": {
          "text": "GeoName"
         }
        },
        "template": {
         "data": {
          "bar": [
           {
            "error_x": {
             "color": "rgb(36,36,36)"
            },
            "error_y": {
             "color": "rgb(36,36,36)"
            },
            "marker": {
             "line": {
              "color": "white",
              "width": 0.5
             },
             "pattern": {
              "fillmode": "overlay",
              "size": 10,
              "solidity": 0.2
             }
            },
            "type": "bar"
           }
          ],
          "barpolar": [
           {
            "marker": {
             "line": {
              "color": "white",
              "width": 0.5
             },
             "pattern": {
              "fillmode": "overlay",
              "size": 10,
              "solidity": 0.2
             }
            },
            "type": "barpolar"
           }
          ],
          "carpet": [
           {
            "aaxis": {
             "endlinecolor": "rgb(36,36,36)",
             "gridcolor": "white",
             "linecolor": "white",
             "minorgridcolor": "white",
             "startlinecolor": "rgb(36,36,36)"
            },
            "baxis": {
             "endlinecolor": "rgb(36,36,36)",
             "gridcolor": "white",
             "linecolor": "white",
             "minorgridcolor": "white",
             "startlinecolor": "rgb(36,36,36)"
            },
            "type": "carpet"
           }
          ],
          "choropleth": [
           {
            "colorbar": {
             "outlinewidth": 1,
             "tickcolor": "rgb(36,36,36)",
             "ticks": "outside"
            },
            "type": "choropleth"
           }
          ],
          "contour": [
           {
            "colorbar": {
             "outlinewidth": 1,
             "tickcolor": "rgb(36,36,36)",
             "ticks": "outside"
            },
            "colorscale": [
             [
              0,
              "#440154"
             ],
             [
              0.1111111111111111,
              "#482878"
             ],
             [
              0.2222222222222222,
              "#3e4989"
             ],
             [
              0.3333333333333333,
              "#31688e"
             ],
             [
              0.4444444444444444,
              "#26828e"
             ],
             [
              0.5555555555555556,
              "#1f9e89"
             ],
             [
              0.6666666666666666,
              "#35b779"
             ],
             [
              0.7777777777777778,
              "#6ece58"
             ],
             [
              0.8888888888888888,
              "#b5de2b"
             ],
             [
              1,
              "#fde725"
             ]
            ],
            "type": "contour"
           }
          ],
          "contourcarpet": [
           {
            "colorbar": {
             "outlinewidth": 1,
             "tickcolor": "rgb(36,36,36)",
             "ticks": "outside"
            },
            "type": "contourcarpet"
           }
          ],
          "heatmap": [
           {
            "colorbar": {
             "outlinewidth": 1,
             "tickcolor": "rgb(36,36,36)",
             "ticks": "outside"
            },
            "colorscale": [
             [
              0,
              "#440154"
             ],
             [
              0.1111111111111111,
              "#482878"
             ],
             [
              0.2222222222222222,
              "#3e4989"
             ],
             [
              0.3333333333333333,
              "#31688e"
             ],
             [
              0.4444444444444444,
              "#26828e"
             ],
             [
              0.5555555555555556,
              "#1f9e89"
             ],
             [
              0.6666666666666666,
              "#35b779"
             ],
             [
              0.7777777777777778,
              "#6ece58"
             ],
             [
              0.8888888888888888,
              "#b5de2b"
             ],
             [
              1,
              "#fde725"
             ]
            ],
            "type": "heatmap"
           }
          ],
          "heatmapgl": [
           {
            "colorbar": {
             "outlinewidth": 1,
             "tickcolor": "rgb(36,36,36)",
             "ticks": "outside"
            },
            "colorscale": [
             [
              0,
              "#440154"
             ],
             [
              0.1111111111111111,
              "#482878"
             ],
             [
              0.2222222222222222,
              "#3e4989"
             ],
             [
              0.3333333333333333,
              "#31688e"
             ],
             [
              0.4444444444444444,
              "#26828e"
             ],
             [
              0.5555555555555556,
              "#1f9e89"
             ],
             [
              0.6666666666666666,
              "#35b779"
             ],
             [
              0.7777777777777778,
              "#6ece58"
             ],
             [
              0.8888888888888888,
              "#b5de2b"
             ],
             [
              1,
              "#fde725"
             ]
            ],
            "type": "heatmapgl"
           }
          ],
          "histogram": [
           {
            "marker": {
             "line": {
              "color": "white",
              "width": 0.6
             }
            },
            "type": "histogram"
           }
          ],
          "histogram2d": [
           {
            "colorbar": {
             "outlinewidth": 1,
             "tickcolor": "rgb(36,36,36)",
             "ticks": "outside"
            },
            "colorscale": [
             [
              0,
              "#440154"
             ],
             [
              0.1111111111111111,
              "#482878"
             ],
             [
              0.2222222222222222,
              "#3e4989"
             ],
             [
              0.3333333333333333,
              "#31688e"
             ],
             [
              0.4444444444444444,
              "#26828e"
             ],
             [
              0.5555555555555556,
              "#1f9e89"
             ],
             [
              0.6666666666666666,
              "#35b779"
             ],
             [
              0.7777777777777778,
              "#6ece58"
             ],
             [
              0.8888888888888888,
              "#b5de2b"
             ],
             [
              1,
              "#fde725"
             ]
            ],
            "type": "histogram2d"
           }
          ],
          "histogram2dcontour": [
           {
            "colorbar": {
             "outlinewidth": 1,
             "tickcolor": "rgb(36,36,36)",
             "ticks": "outside"
            },
            "colorscale": [
             [
              0,
              "#440154"
             ],
             [
              0.1111111111111111,
              "#482878"
             ],
             [
              0.2222222222222222,
              "#3e4989"
             ],
             [
              0.3333333333333333,
              "#31688e"
             ],
             [
              0.4444444444444444,
              "#26828e"
             ],
             [
              0.5555555555555556,
              "#1f9e89"
             ],
             [
              0.6666666666666666,
              "#35b779"
             ],
             [
              0.7777777777777778,
              "#6ece58"
             ],
             [
              0.8888888888888888,
              "#b5de2b"
             ],
             [
              1,
              "#fde725"
             ]
            ],
            "type": "histogram2dcontour"
           }
          ],
          "mesh3d": [
           {
            "colorbar": {
             "outlinewidth": 1,
             "tickcolor": "rgb(36,36,36)",
             "ticks": "outside"
            },
            "type": "mesh3d"
           }
          ],
          "parcoords": [
           {
            "line": {
             "colorbar": {
              "outlinewidth": 1,
              "tickcolor": "rgb(36,36,36)",
              "ticks": "outside"
             }
            },
            "type": "parcoords"
           }
          ],
          "pie": [
           {
            "automargin": true,
            "type": "pie"
           }
          ],
          "scatter": [
           {
            "fillpattern": {
             "fillmode": "overlay",
             "size": 10,
             "solidity": 0.2
            },
            "type": "scatter"
           }
          ],
          "scatter3d": [
           {
            "line": {
             "colorbar": {
              "outlinewidth": 1,
              "tickcolor": "rgb(36,36,36)",
              "ticks": "outside"
             }
            },
            "marker": {
             "colorbar": {
              "outlinewidth": 1,
              "tickcolor": "rgb(36,36,36)",
              "ticks": "outside"
             }
            },
            "type": "scatter3d"
           }
          ],
          "scattercarpet": [
           {
            "marker": {
             "colorbar": {
              "outlinewidth": 1,
              "tickcolor": "rgb(36,36,36)",
              "ticks": "outside"
             }
            },
            "type": "scattercarpet"
           }
          ],
          "scattergeo": [
           {
            "marker": {
             "colorbar": {
              "outlinewidth": 1,
              "tickcolor": "rgb(36,36,36)",
              "ticks": "outside"
             }
            },
            "type": "scattergeo"
           }
          ],
          "scattergl": [
           {
            "marker": {
             "colorbar": {
              "outlinewidth": 1,
              "tickcolor": "rgb(36,36,36)",
              "ticks": "outside"
             }
            },
            "type": "scattergl"
           }
          ],
          "scattermapbox": [
           {
            "marker": {
             "colorbar": {
              "outlinewidth": 1,
              "tickcolor": "rgb(36,36,36)",
              "ticks": "outside"
             }
            },
            "type": "scattermapbox"
           }
          ],
          "scatterpolar": [
           {
            "marker": {
             "colorbar": {
              "outlinewidth": 1,
              "tickcolor": "rgb(36,36,36)",
              "ticks": "outside"
             }
            },
            "type": "scatterpolar"
           }
          ],
          "scatterpolargl": [
           {
            "marker": {
             "colorbar": {
              "outlinewidth": 1,
              "tickcolor": "rgb(36,36,36)",
              "ticks": "outside"
             }
            },
            "type": "scatterpolargl"
           }
          ],
          "scatterternary": [
           {
            "marker": {
             "colorbar": {
              "outlinewidth": 1,
              "tickcolor": "rgb(36,36,36)",
              "ticks": "outside"
             }
            },
            "type": "scatterternary"
           }
          ],
          "surface": [
           {
            "colorbar": {
             "outlinewidth": 1,
             "tickcolor": "rgb(36,36,36)",
             "ticks": "outside"
            },
            "colorscale": [
             [
              0,
              "#440154"
             ],
             [
              0.1111111111111111,
              "#482878"
             ],
             [
              0.2222222222222222,
              "#3e4989"
             ],
             [
              0.3333333333333333,
              "#31688e"
             ],
             [
              0.4444444444444444,
              "#26828e"
             ],
             [
              0.5555555555555556,
              "#1f9e89"
             ],
             [
              0.6666666666666666,
              "#35b779"
             ],
             [
              0.7777777777777778,
              "#6ece58"
             ],
             [
              0.8888888888888888,
              "#b5de2b"
             ],
             [
              1,
              "#fde725"
             ]
            ],
            "type": "surface"
           }
          ],
          "table": [
           {
            "cells": {
             "fill": {
              "color": "rgb(237,237,237)"
             },
             "line": {
              "color": "white"
             }
            },
            "header": {
             "fill": {
              "color": "rgb(217,217,217)"
             },
             "line": {
              "color": "white"
             }
            },
            "type": "table"
           }
          ]
         },
         "layout": {
          "annotationdefaults": {
           "arrowhead": 0,
           "arrowwidth": 1
          },
          "autotypenumbers": "strict",
          "coloraxis": {
           "colorbar": {
            "outlinewidth": 1,
            "tickcolor": "rgb(36,36,36)",
            "ticks": "outside"
           }
          },
          "colorscale": {
           "diverging": [
            [
             0,
             "rgb(103,0,31)"
            ],
            [
             0.1,
             "rgb(178,24,43)"
            ],
            [
             0.2,
             "rgb(214,96,77)"
            ],
            [
             0.3,
             "rgb(244,165,130)"
            ],
            [
             0.4,
             "rgb(253,219,199)"
            ],
            [
             0.5,
             "rgb(247,247,247)"
            ],
            [
             0.6,
             "rgb(209,229,240)"
            ],
            [
             0.7,
             "rgb(146,197,222)"
            ],
            [
             0.8,
             "rgb(67,147,195)"
            ],
            [
             0.9,
             "rgb(33,102,172)"
            ],
            [
             1,
             "rgb(5,48,97)"
            ]
           ],
           "sequential": [
            [
             0,
             "#440154"
            ],
            [
             0.1111111111111111,
             "#482878"
            ],
            [
             0.2222222222222222,
             "#3e4989"
            ],
            [
             0.3333333333333333,
             "#31688e"
            ],
            [
             0.4444444444444444,
             "#26828e"
            ],
            [
             0.5555555555555556,
             "#1f9e89"
            ],
            [
             0.6666666666666666,
             "#35b779"
            ],
            [
             0.7777777777777778,
             "#6ece58"
            ],
            [
             0.8888888888888888,
             "#b5de2b"
            ],
            [
             1,
             "#fde725"
            ]
           ],
           "sequentialminus": [
            [
             0,
             "#440154"
            ],
            [
             0.1111111111111111,
             "#482878"
            ],
            [
             0.2222222222222222,
             "#3e4989"
            ],
            [
             0.3333333333333333,
             "#31688e"
            ],
            [
             0.4444444444444444,
             "#26828e"
            ],
            [
             0.5555555555555556,
             "#1f9e89"
            ],
            [
             0.6666666666666666,
             "#35b779"
            ],
            [
             0.7777777777777778,
             "#6ece58"
            ],
            [
             0.8888888888888888,
             "#b5de2b"
            ],
            [
             1,
             "#fde725"
            ]
           ]
          },
          "colorway": [
           "#1F77B4",
           "#FF7F0E",
           "#2CA02C",
           "#D62728",
           "#9467BD",
           "#8C564B",
           "#E377C2",
           "#7F7F7F",
           "#BCBD22",
           "#17BECF"
          ],
          "font": {
           "color": "rgb(36,36,36)"
          },
          "geo": {
           "bgcolor": "white",
           "lakecolor": "white",
           "landcolor": "white",
           "showlakes": true,
           "showland": true,
           "subunitcolor": "white"
          },
          "hoverlabel": {
           "align": "left"
          },
          "hovermode": "closest",
          "mapbox": {
           "style": "light"
          },
          "paper_bgcolor": "white",
          "plot_bgcolor": "white",
          "polar": {
           "angularaxis": {
            "gridcolor": "rgb(232,232,232)",
            "linecolor": "rgb(36,36,36)",
            "showgrid": false,
            "showline": true,
            "ticks": "outside"
           },
           "bgcolor": "white",
           "radialaxis": {
            "gridcolor": "rgb(232,232,232)",
            "linecolor": "rgb(36,36,36)",
            "showgrid": false,
            "showline": true,
            "ticks": "outside"
           }
          },
          "scene": {
           "xaxis": {
            "backgroundcolor": "white",
            "gridcolor": "rgb(232,232,232)",
            "gridwidth": 2,
            "linecolor": "rgb(36,36,36)",
            "showbackground": true,
            "showgrid": false,
            "showline": true,
            "ticks": "outside",
            "zeroline": false,
            "zerolinecolor": "rgb(36,36,36)"
           },
           "yaxis": {
            "backgroundcolor": "white",
            "gridcolor": "rgb(232,232,232)",
            "gridwidth": 2,
            "linecolor": "rgb(36,36,36)",
            "showbackground": true,
            "showgrid": false,
            "showline": true,
            "ticks": "outside",
            "zeroline": false,
            "zerolinecolor": "rgb(36,36,36)"
           },
           "zaxis": {
            "backgroundcolor": "white",
            "gridcolor": "rgb(232,232,232)",
            "gridwidth": 2,
            "linecolor": "rgb(36,36,36)",
            "showbackground": true,
            "showgrid": false,
            "showline": true,
            "ticks": "outside",
            "zeroline": false,
            "zerolinecolor": "rgb(36,36,36)"
           }
          },
          "shapedefaults": {
           "fillcolor": "black",
           "line": {
            "width": 0
           },
           "opacity": 0.3
          },
          "ternary": {
           "aaxis": {
            "gridcolor": "rgb(232,232,232)",
            "linecolor": "rgb(36,36,36)",
            "showgrid": false,
            "showline": true,
            "ticks": "outside"
           },
           "baxis": {
            "gridcolor": "rgb(232,232,232)",
            "linecolor": "rgb(36,36,36)",
            "showgrid": false,
            "showline": true,
            "ticks": "outside"
           },
           "bgcolor": "white",
           "caxis": {
            "gridcolor": "rgb(232,232,232)",
            "linecolor": "rgb(36,36,36)",
            "showgrid": false,
            "showline": true,
            "ticks": "outside"
           }
          },
          "title": {
           "x": 0.05
          },
          "xaxis": {
           "automargin": true,
           "gridcolor": "rgb(232,232,232)",
           "linecolor": "rgb(36,36,36)",
           "showgrid": false,
           "showline": true,
           "ticks": "outside",
           "title": {
            "standoff": 15
           },
           "zeroline": false,
           "zerolinecolor": "rgb(36,36,36)"
          },
          "yaxis": {
           "automargin": true,
           "gridcolor": "rgb(232,232,232)",
           "linecolor": "rgb(36,36,36)",
           "showgrid": false,
           "showline": true,
           "ticks": "outside",
           "title": {
            "standoff": 15
           },
           "zeroline": false,
           "zerolinecolor": "rgb(36,36,36)"
          }
         }
        },
        "title": {
         "text": "Top 10 locations matching your search"
        },
        "xaxis": {
         "title": {
          "text": "Year"
         }
        },
        "yaxis": {
         "title": {
          "text": "gdp"
         }
        }
       }
      }
     },
     "metadata": {},
     "output_type": "display_data"
    }
   ],
   "source": [
    "# you can plot the few most similar cities:\n",
    "fig = f.show_kins_plot()"
   ]
  },
  {
   "cell_type": "markdown",
   "metadata": {},
   "source": [
    "### Use case: similarity in outcome patterns and in some other features\n",
    "\n",
    "Say you want to include historical population patterns in your similarity ranking. You also want to pay a bit more attention to older data points. And you can now set weights to negative values to indicate that you care about dissimilarity in that feature."
   ]
  },
  {
   "cell_type": "code",
   "execution_count": 13,
   "metadata": {},
   "outputs": [
    {
     "data": {
      "application/vnd.plotly.v1+json": {
       "config": {
        "plotlyServerURL": "https://plot.ly"
       },
       "data": [
        {
         "type": "bar",
         "x": [
          "2001_gdp",
          "2002_gdp",
          "2003_gdp",
          "2004_gdp",
          "2005_gdp",
          "2006_gdp",
          "2007_gdp",
          "2008_gdp",
          "2009_gdp",
          "2010_gdp",
          "2011_gdp",
          "2013_gdp",
          "2014_gdp",
          "2015_gdp",
          "2016_gdp",
          "2017_gdp",
          "2018_gdp",
          "2019_gdp",
          "2020_gdp",
          "2021_gdp",
          "1993_population",
          "1994_population",
          "1995_population",
          "1996_population",
          "1997_population",
          "1998_population",
          "1999_population",
          "2000_population",
          "2001_population",
          "2002_population",
          "2003_population",
          "2004_population",
          "2005_population",
          "2006_population",
          "2007_population",
          "2008_population",
          "2009_population",
          "2010_population",
          "2011_population",
          "2012_population",
          "2013_population",
          "2014_population",
          "2015_population",
          "2016_population",
          "2017_population",
          "2018_population",
          "2019_population",
          "2020_population",
          "2021_population"
         ],
         "y": [
          -0.07443141519371825,
          -0.07666435764952981,
          -0.07896428837901569,
          -0.08133321703038617,
          -0.08377321354129776,
          -0.08628640994753668,
          -0.08887500224596279,
          -0.09154125231334168,
          -0.09428748988274194,
          -0.0971161145792242,
          -0.10002959801660093,
          -0.10303048595709895,
          -0.10612140053581191,
          -0.10930504255188629,
          -0.11258419382844288,
          -0.11596171964329616,
          -0.11944057123259505,
          -0.12302378836957291,
          -0.12671450202066012,
          -0.1305159370812799,
          0.022114671106632556,
          0.022778111239831533,
          0.02346145457702648,
          0.024165298214337275,
          0.024890257160767395,
          0.025636964875590414,
          0.02640607382185813,
          0.027198256036513876,
          0.028014203717609293,
          0.02885462982913757,
          0.0297202687240117,
          0.03061187678573205,
          0.03153023308930401,
          0.032476140081983136,
          0.03345042428444263,
          0.03445393701297591,
          0.03548755512336519,
          0.036552181777066144,
          0.03764874723037813,
          0.03877820964728947,
          0.03994155593670816,
          0.04113980261480941,
          0.04237399669325369,
          0.0436452165940513,
          0.04495457309187284,
          0.046303210284629026,
          0.0476923065931679,
          0.04912307579096294,
          0.05059676806469183
         ]
        }
       ],
       "layout": {
        "template": {
         "data": {
          "bar": [
           {
            "error_x": {
             "color": "#2a3f5f"
            },
            "error_y": {
             "color": "#2a3f5f"
            },
            "marker": {
             "line": {
              "color": "white",
              "width": 0.5
             },
             "pattern": {
              "fillmode": "overlay",
              "size": 10,
              "solidity": 0.2
             }
            },
            "type": "bar"
           }
          ],
          "barpolar": [
           {
            "marker": {
             "line": {
              "color": "white",
              "width": 0.5
             },
             "pattern": {
              "fillmode": "overlay",
              "size": 10,
              "solidity": 0.2
             }
            },
            "type": "barpolar"
           }
          ],
          "carpet": [
           {
            "aaxis": {
             "endlinecolor": "#2a3f5f",
             "gridcolor": "#C8D4E3",
             "linecolor": "#C8D4E3",
             "minorgridcolor": "#C8D4E3",
             "startlinecolor": "#2a3f5f"
            },
            "baxis": {
             "endlinecolor": "#2a3f5f",
             "gridcolor": "#C8D4E3",
             "linecolor": "#C8D4E3",
             "minorgridcolor": "#C8D4E3",
             "startlinecolor": "#2a3f5f"
            },
            "type": "carpet"
           }
          ],
          "choropleth": [
           {
            "colorbar": {
             "outlinewidth": 0,
             "ticks": ""
            },
            "type": "choropleth"
           }
          ],
          "contour": [
           {
            "colorbar": {
             "outlinewidth": 0,
             "ticks": ""
            },
            "colorscale": [
             [
              0,
              "#0d0887"
             ],
             [
              0.1111111111111111,
              "#46039f"
             ],
             [
              0.2222222222222222,
              "#7201a8"
             ],
             [
              0.3333333333333333,
              "#9c179e"
             ],
             [
              0.4444444444444444,
              "#bd3786"
             ],
             [
              0.5555555555555556,
              "#d8576b"
             ],
             [
              0.6666666666666666,
              "#ed7953"
             ],
             [
              0.7777777777777778,
              "#fb9f3a"
             ],
             [
              0.8888888888888888,
              "#fdca26"
             ],
             [
              1,
              "#f0f921"
             ]
            ],
            "type": "contour"
           }
          ],
          "contourcarpet": [
           {
            "colorbar": {
             "outlinewidth": 0,
             "ticks": ""
            },
            "type": "contourcarpet"
           }
          ],
          "heatmap": [
           {
            "colorbar": {
             "outlinewidth": 0,
             "ticks": ""
            },
            "colorscale": [
             [
              0,
              "#0d0887"
             ],
             [
              0.1111111111111111,
              "#46039f"
             ],
             [
              0.2222222222222222,
              "#7201a8"
             ],
             [
              0.3333333333333333,
              "#9c179e"
             ],
             [
              0.4444444444444444,
              "#bd3786"
             ],
             [
              0.5555555555555556,
              "#d8576b"
             ],
             [
              0.6666666666666666,
              "#ed7953"
             ],
             [
              0.7777777777777778,
              "#fb9f3a"
             ],
             [
              0.8888888888888888,
              "#fdca26"
             ],
             [
              1,
              "#f0f921"
             ]
            ],
            "type": "heatmap"
           }
          ],
          "heatmapgl": [
           {
            "colorbar": {
             "outlinewidth": 0,
             "ticks": ""
            },
            "colorscale": [
             [
              0,
              "#0d0887"
             ],
             [
              0.1111111111111111,
              "#46039f"
             ],
             [
              0.2222222222222222,
              "#7201a8"
             ],
             [
              0.3333333333333333,
              "#9c179e"
             ],
             [
              0.4444444444444444,
              "#bd3786"
             ],
             [
              0.5555555555555556,
              "#d8576b"
             ],
             [
              0.6666666666666666,
              "#ed7953"
             ],
             [
              0.7777777777777778,
              "#fb9f3a"
             ],
             [
              0.8888888888888888,
              "#fdca26"
             ],
             [
              1,
              "#f0f921"
             ]
            ],
            "type": "heatmapgl"
           }
          ],
          "histogram": [
           {
            "marker": {
             "pattern": {
              "fillmode": "overlay",
              "size": 10,
              "solidity": 0.2
             }
            },
            "type": "histogram"
           }
          ],
          "histogram2d": [
           {
            "colorbar": {
             "outlinewidth": 0,
             "ticks": ""
            },
            "colorscale": [
             [
              0,
              "#0d0887"
             ],
             [
              0.1111111111111111,
              "#46039f"
             ],
             [
              0.2222222222222222,
              "#7201a8"
             ],
             [
              0.3333333333333333,
              "#9c179e"
             ],
             [
              0.4444444444444444,
              "#bd3786"
             ],
             [
              0.5555555555555556,
              "#d8576b"
             ],
             [
              0.6666666666666666,
              "#ed7953"
             ],
             [
              0.7777777777777778,
              "#fb9f3a"
             ],
             [
              0.8888888888888888,
              "#fdca26"
             ],
             [
              1,
              "#f0f921"
             ]
            ],
            "type": "histogram2d"
           }
          ],
          "histogram2dcontour": [
           {
            "colorbar": {
             "outlinewidth": 0,
             "ticks": ""
            },
            "colorscale": [
             [
              0,
              "#0d0887"
             ],
             [
              0.1111111111111111,
              "#46039f"
             ],
             [
              0.2222222222222222,
              "#7201a8"
             ],
             [
              0.3333333333333333,
              "#9c179e"
             ],
             [
              0.4444444444444444,
              "#bd3786"
             ],
             [
              0.5555555555555556,
              "#d8576b"
             ],
             [
              0.6666666666666666,
              "#ed7953"
             ],
             [
              0.7777777777777778,
              "#fb9f3a"
             ],
             [
              0.8888888888888888,
              "#fdca26"
             ],
             [
              1,
              "#f0f921"
             ]
            ],
            "type": "histogram2dcontour"
           }
          ],
          "mesh3d": [
           {
            "colorbar": {
             "outlinewidth": 0,
             "ticks": ""
            },
            "type": "mesh3d"
           }
          ],
          "parcoords": [
           {
            "line": {
             "colorbar": {
              "outlinewidth": 0,
              "ticks": ""
             }
            },
            "type": "parcoords"
           }
          ],
          "pie": [
           {
            "automargin": true,
            "type": "pie"
           }
          ],
          "scatter": [
           {
            "fillpattern": {
             "fillmode": "overlay",
             "size": 10,
             "solidity": 0.2
            },
            "type": "scatter"
           }
          ],
          "scatter3d": [
           {
            "line": {
             "colorbar": {
              "outlinewidth": 0,
              "ticks": ""
             }
            },
            "marker": {
             "colorbar": {
              "outlinewidth": 0,
              "ticks": ""
             }
            },
            "type": "scatter3d"
           }
          ],
          "scattercarpet": [
           {
            "marker": {
             "colorbar": {
              "outlinewidth": 0,
              "ticks": ""
             }
            },
            "type": "scattercarpet"
           }
          ],
          "scattergeo": [
           {
            "marker": {
             "colorbar": {
              "outlinewidth": 0,
              "ticks": ""
             }
            },
            "type": "scattergeo"
           }
          ],
          "scattergl": [
           {
            "marker": {
             "colorbar": {
              "outlinewidth": 0,
              "ticks": ""
             }
            },
            "type": "scattergl"
           }
          ],
          "scattermapbox": [
           {
            "marker": {
             "colorbar": {
              "outlinewidth": 0,
              "ticks": ""
             }
            },
            "type": "scattermapbox"
           }
          ],
          "scatterpolar": [
           {
            "marker": {
             "colorbar": {
              "outlinewidth": 0,
              "ticks": ""
             }
            },
            "type": "scatterpolar"
           }
          ],
          "scatterpolargl": [
           {
            "marker": {
             "colorbar": {
              "outlinewidth": 0,
              "ticks": ""
             }
            },
            "type": "scatterpolargl"
           }
          ],
          "scatterternary": [
           {
            "marker": {
             "colorbar": {
              "outlinewidth": 0,
              "ticks": ""
             }
            },
            "type": "scatterternary"
           }
          ],
          "surface": [
           {
            "colorbar": {
             "outlinewidth": 0,
             "ticks": ""
            },
            "colorscale": [
             [
              0,
              "#0d0887"
             ],
             [
              0.1111111111111111,
              "#46039f"
             ],
             [
              0.2222222222222222,
              "#7201a8"
             ],
             [
              0.3333333333333333,
              "#9c179e"
             ],
             [
              0.4444444444444444,
              "#bd3786"
             ],
             [
              0.5555555555555556,
              "#d8576b"
             ],
             [
              0.6666666666666666,
              "#ed7953"
             ],
             [
              0.7777777777777778,
              "#fb9f3a"
             ],
             [
              0.8888888888888888,
              "#fdca26"
             ],
             [
              1,
              "#f0f921"
             ]
            ],
            "type": "surface"
           }
          ],
          "table": [
           {
            "cells": {
             "fill": {
              "color": "#EBF0F8"
             },
             "line": {
              "color": "white"
             }
            },
            "header": {
             "fill": {
              "color": "#C8D4E3"
             },
             "line": {
              "color": "white"
             }
            },
            "type": "table"
           }
          ]
         },
         "layout": {
          "annotationdefaults": {
           "arrowcolor": "#2a3f5f",
           "arrowhead": 0,
           "arrowwidth": 1
          },
          "autotypenumbers": "strict",
          "coloraxis": {
           "colorbar": {
            "outlinewidth": 0,
            "ticks": ""
           }
          },
          "colorscale": {
           "diverging": [
            [
             0,
             "#8e0152"
            ],
            [
             0.1,
             "#c51b7d"
            ],
            [
             0.2,
             "#de77ae"
            ],
            [
             0.3,
             "#f1b6da"
            ],
            [
             0.4,
             "#fde0ef"
            ],
            [
             0.5,
             "#f7f7f7"
            ],
            [
             0.6,
             "#e6f5d0"
            ],
            [
             0.7,
             "#b8e186"
            ],
            [
             0.8,
             "#7fbc41"
            ],
            [
             0.9,
             "#4d9221"
            ],
            [
             1,
             "#276419"
            ]
           ],
           "sequential": [
            [
             0,
             "#0d0887"
            ],
            [
             0.1111111111111111,
             "#46039f"
            ],
            [
             0.2222222222222222,
             "#7201a8"
            ],
            [
             0.3333333333333333,
             "#9c179e"
            ],
            [
             0.4444444444444444,
             "#bd3786"
            ],
            [
             0.5555555555555556,
             "#d8576b"
            ],
            [
             0.6666666666666666,
             "#ed7953"
            ],
            [
             0.7777777777777778,
             "#fb9f3a"
            ],
            [
             0.8888888888888888,
             "#fdca26"
            ],
            [
             1,
             "#f0f921"
            ]
           ],
           "sequentialminus": [
            [
             0,
             "#0d0887"
            ],
            [
             0.1111111111111111,
             "#46039f"
            ],
            [
             0.2222222222222222,
             "#7201a8"
            ],
            [
             0.3333333333333333,
             "#9c179e"
            ],
            [
             0.4444444444444444,
             "#bd3786"
            ],
            [
             0.5555555555555556,
             "#d8576b"
            ],
            [
             0.6666666666666666,
             "#ed7953"
            ],
            [
             0.7777777777777778,
             "#fb9f3a"
            ],
            [
             0.8888888888888888,
             "#fdca26"
            ],
            [
             1,
             "#f0f921"
            ]
           ]
          },
          "colorway": [
           "#636efa",
           "#EF553B",
           "#00cc96",
           "#ab63fa",
           "#FFA15A",
           "#19d3f3",
           "#FF6692",
           "#B6E880",
           "#FF97FF",
           "#FECB52"
          ],
          "font": {
           "color": "#2a3f5f"
          },
          "geo": {
           "bgcolor": "white",
           "lakecolor": "white",
           "landcolor": "white",
           "showlakes": true,
           "showland": true,
           "subunitcolor": "#C8D4E3"
          },
          "hoverlabel": {
           "align": "left"
          },
          "hovermode": "closest",
          "mapbox": {
           "style": "light"
          },
          "paper_bgcolor": "white",
          "plot_bgcolor": "white",
          "polar": {
           "angularaxis": {
            "gridcolor": "#EBF0F8",
            "linecolor": "#EBF0F8",
            "ticks": ""
           },
           "bgcolor": "white",
           "radialaxis": {
            "gridcolor": "#EBF0F8",
            "linecolor": "#EBF0F8",
            "ticks": ""
           }
          },
          "scene": {
           "xaxis": {
            "backgroundcolor": "white",
            "gridcolor": "#DFE8F3",
            "gridwidth": 2,
            "linecolor": "#EBF0F8",
            "showbackground": true,
            "ticks": "",
            "zerolinecolor": "#EBF0F8"
           },
           "yaxis": {
            "backgroundcolor": "white",
            "gridcolor": "#DFE8F3",
            "gridwidth": 2,
            "linecolor": "#EBF0F8",
            "showbackground": true,
            "ticks": "",
            "zerolinecolor": "#EBF0F8"
           },
           "zaxis": {
            "backgroundcolor": "white",
            "gridcolor": "#DFE8F3",
            "gridwidth": 2,
            "linecolor": "#EBF0F8",
            "showbackground": true,
            "ticks": "",
            "zerolinecolor": "#EBF0F8"
           }
          },
          "shapedefaults": {
           "line": {
            "color": "#2a3f5f"
           }
          },
          "ternary": {
           "aaxis": {
            "gridcolor": "#DFE8F3",
            "linecolor": "#A2B1C6",
            "ticks": ""
           },
           "baxis": {
            "gridcolor": "#DFE8F3",
            "linecolor": "#A2B1C6",
            "ticks": ""
           },
           "bgcolor": "white",
           "caxis": {
            "gridcolor": "#DFE8F3",
            "linecolor": "#A2B1C6",
            "ticks": ""
           }
          },
          "title": {
           "x": 0.05
          },
          "xaxis": {
           "automargin": true,
           "gridcolor": "#EBF0F8",
           "linecolor": "#EBF0F8",
           "ticks": "",
           "title": {
            "standoff": 15
           },
           "zerolinecolor": "#EBF0F8",
           "zerolinewidth": 2
          },
          "yaxis": {
           "automargin": true,
           "gridcolor": "#EBF0F8",
           "linecolor": "#EBF0F8",
           "ticks": "",
           "title": {
            "standoff": 15
           },
           "zerolinecolor": "#EBF0F8",
           "zerolinewidth": 2
          }
         }
        },
        "title": {
         "text": "Weights of columns"
        },
        "xaxis": {
         "title": {
          "text": "columns"
         }
        },
        "yaxis": {
         "title": {
          "text": "weights"
         }
        }
       }
      }
     },
     "metadata": {},
     "output_type": "display_data"
    }
   ],
   "source": [
    "f = FipsQuery(\n",
    "    1007,\n",
    "    outcome_var=\"gdp\",\n",
    "    feature_groups_with_weights={\n",
    "        \"gdp\": -2,\n",
    "        \"population\": 1,\n",
    "    },  # with one feature group only\n",
    "    # weights 1-4 won't make a difference\n",
    "    lag=0,\n",
    "    top=5,\n",
    "    time_decay=1.03,\n",
    ")\n",
    "f.find_euclidean_kins()\n",
    "# you still can inspect the resulting weighing:\n",
    "f.plot_weights()"
   ]
  },
  {
   "cell_type": "code",
   "execution_count": 14,
   "metadata": {},
   "outputs": [
    {
     "data": {
      "text/html": [
       "<div>\n",
       "<style scoped>\n",
       "    .dataframe tbody tr th:only-of-type {\n",
       "        vertical-align: middle;\n",
       "    }\n",
       "\n",
       "    .dataframe tbody tr th {\n",
       "        vertical-align: top;\n",
       "    }\n",
       "\n",
       "    .dataframe thead th {\n",
       "        text-align: right;\n",
       "    }\n",
       "</style>\n",
       "<table border=\"1\" class=\"dataframe\">\n",
       "  <thead>\n",
       "    <tr style=\"text-align: right;\">\n",
       "      <th></th>\n",
       "      <th>GeoFIPS</th>\n",
       "      <th>GeoName</th>\n",
       "      <th>2001</th>\n",
       "      <th>2002</th>\n",
       "      <th>2003</th>\n",
       "      <th>2004</th>\n",
       "      <th>2005</th>\n",
       "      <th>2006</th>\n",
       "      <th>2007</th>\n",
       "      <th>2008</th>\n",
       "      <th>...</th>\n",
       "      <th>2014_population</th>\n",
       "      <th>2015_population</th>\n",
       "      <th>2016_population</th>\n",
       "      <th>2017_population</th>\n",
       "      <th>2018_population</th>\n",
       "      <th>2019_population</th>\n",
       "      <th>2020_population</th>\n",
       "      <th>2021_population</th>\n",
       "      <th>distance to 1007</th>\n",
       "      <th>percentile</th>\n",
       "    </tr>\n",
       "  </thead>\n",
       "  <tbody>\n",
       "    <tr>\n",
       "      <th>0</th>\n",
       "      <td>1007</td>\n",
       "      <td>Bibb, AL</td>\n",
       "      <td>80.443</td>\n",
       "      <td>81.527</td>\n",
       "      <td>85.124</td>\n",
       "      <td>89.317</td>\n",
       "      <td>88.782</td>\n",
       "      <td>89.597</td>\n",
       "      <td>95.308</td>\n",
       "      <td>94.745</td>\n",
       "      <td>...</td>\n",
       "      <td>22586.0</td>\n",
       "      <td>22607.0</td>\n",
       "      <td>22654.0</td>\n",
       "      <td>22606.0</td>\n",
       "      <td>22383.0</td>\n",
       "      <td>22405.0</td>\n",
       "      <td>22223.0</td>\n",
       "      <td>22477.0</td>\n",
       "      <td>0.000000</td>\n",
       "      <td>47.76</td>\n",
       "    </tr>\n",
       "    <tr>\n",
       "      <th>1</th>\n",
       "      <td>48109</td>\n",
       "      <td>Culberson, TX</td>\n",
       "      <td>35.264</td>\n",
       "      <td>37.743</td>\n",
       "      <td>36.255</td>\n",
       "      <td>38.339</td>\n",
       "      <td>40.177</td>\n",
       "      <td>41.247</td>\n",
       "      <td>42.368</td>\n",
       "      <td>53.349</td>\n",
       "      <td>...</td>\n",
       "      <td>2301.0</td>\n",
       "      <td>2275.0</td>\n",
       "      <td>2244.0</td>\n",
       "      <td>2259.0</td>\n",
       "      <td>2212.0</td>\n",
       "      <td>2186.0</td>\n",
       "      <td>2193.0</td>\n",
       "      <td>2193.0</td>\n",
       "      <td>1.898948</td>\n",
       "      <td>99.97</td>\n",
       "    </tr>\n",
       "    <tr>\n",
       "      <th>2</th>\n",
       "      <td>48389</td>\n",
       "      <td>Reeves, TX</td>\n",
       "      <td>46.003</td>\n",
       "      <td>49.290</td>\n",
       "      <td>44.960</td>\n",
       "      <td>41.682</td>\n",
       "      <td>39.742</td>\n",
       "      <td>41.332</td>\n",
       "      <td>41.009</td>\n",
       "      <td>41.389</td>\n",
       "      <td>...</td>\n",
       "      <td>14614.0</td>\n",
       "      <td>14936.0</td>\n",
       "      <td>14484.0</td>\n",
       "      <td>14314.0</td>\n",
       "      <td>14526.0</td>\n",
       "      <td>14847.0</td>\n",
       "      <td>14730.0</td>\n",
       "      <td>14487.0</td>\n",
       "      <td>1.920264</td>\n",
       "      <td>99.90</td>\n",
       "    </tr>\n",
       "    <tr>\n",
       "      <th>3</th>\n",
       "      <td>31005</td>\n",
       "      <td>Arthur, NE</td>\n",
       "      <td>126.123</td>\n",
       "      <td>151.196</td>\n",
       "      <td>151.543</td>\n",
       "      <td>154.669</td>\n",
       "      <td>168.961</td>\n",
       "      <td>203.866</td>\n",
       "      <td>119.700</td>\n",
       "      <td>113.293</td>\n",
       "      <td>...</td>\n",
       "      <td>437.0</td>\n",
       "      <td>433.0</td>\n",
       "      <td>445.0</td>\n",
       "      <td>432.0</td>\n",
       "      <td>435.0</td>\n",
       "      <td>436.0</td>\n",
       "      <td>431.0</td>\n",
       "      <td>439.0</td>\n",
       "      <td>1.926074</td>\n",
       "      <td>99.58</td>\n",
       "    </tr>\n",
       "    <tr>\n",
       "      <th>4</th>\n",
       "      <td>54017</td>\n",
       "      <td>Doddridge, WV</td>\n",
       "      <td>45.487</td>\n",
       "      <td>45.897</td>\n",
       "      <td>45.933</td>\n",
       "      <td>46.619</td>\n",
       "      <td>49.647</td>\n",
       "      <td>54.491</td>\n",
       "      <td>56.730</td>\n",
       "      <td>55.200</td>\n",
       "      <td>...</td>\n",
       "      <td>8223.0</td>\n",
       "      <td>8392.0</td>\n",
       "      <td>8210.0</td>\n",
       "      <td>8108.0</td>\n",
       "      <td>8087.0</td>\n",
       "      <td>7922.0</td>\n",
       "      <td>7786.0</td>\n",
       "      <td>7735.0</td>\n",
       "      <td>1.950935</td>\n",
       "      <td>99.84</td>\n",
       "    </tr>\n",
       "    <tr>\n",
       "      <th>...</th>\n",
       "      <td>...</td>\n",
       "      <td>...</td>\n",
       "      <td>...</td>\n",
       "      <td>...</td>\n",
       "      <td>...</td>\n",
       "      <td>...</td>\n",
       "      <td>...</td>\n",
       "      <td>...</td>\n",
       "      <td>...</td>\n",
       "      <td>...</td>\n",
       "      <td>...</td>\n",
       "      <td>...</td>\n",
       "      <td>...</td>\n",
       "      <td>...</td>\n",
       "      <td>...</td>\n",
       "      <td>...</td>\n",
       "      <td>...</td>\n",
       "      <td>...</td>\n",
       "      <td>...</td>\n",
       "      <td>...</td>\n",
       "      <td>...</td>\n",
       "    </tr>\n",
       "    <tr>\n",
       "      <th>3069</th>\n",
       "      <td>6059</td>\n",
       "      <td>Orange, CA</td>\n",
       "      <td>82.036</td>\n",
       "      <td>84.241</td>\n",
       "      <td>89.790</td>\n",
       "      <td>94.090</td>\n",
       "      <td>99.072</td>\n",
       "      <td>102.799</td>\n",
       "      <td>102.301</td>\n",
       "      <td>99.220</td>\n",
       "      <td>...</td>\n",
       "      <td>3133194.0</td>\n",
       "      <td>3157254.0</td>\n",
       "      <td>3174233.0</td>\n",
       "      <td>3185766.0</td>\n",
       "      <td>3188828.0</td>\n",
       "      <td>3185685.0</td>\n",
       "      <td>3184101.0</td>\n",
       "      <td>3167809.0</td>\n",
       "      <td>2.910696</td>\n",
       "      <td>76.15</td>\n",
       "    </tr>\n",
       "    <tr>\n",
       "      <th>3070</th>\n",
       "      <td>4013</td>\n",
       "      <td>Maricopa, AZ</td>\n",
       "      <td>77.463</td>\n",
       "      <td>80.415</td>\n",
       "      <td>85.793</td>\n",
       "      <td>90.349</td>\n",
       "      <td>97.615</td>\n",
       "      <td>102.729</td>\n",
       "      <td>105.313</td>\n",
       "      <td>103.632</td>\n",
       "      <td>...</td>\n",
       "      <td>4040171.0</td>\n",
       "      <td>4105747.0</td>\n",
       "      <td>4174844.0</td>\n",
       "      <td>4231511.0</td>\n",
       "      <td>4292576.0</td>\n",
       "      <td>4363816.0</td>\n",
       "      <td>4438342.0</td>\n",
       "      <td>4496588.0</td>\n",
       "      <td>2.913534</td>\n",
       "      <td>87.18</td>\n",
       "    </tr>\n",
       "    <tr>\n",
       "      <th>3071</th>\n",
       "      <td>48201</td>\n",
       "      <td>Harris, TX</td>\n",
       "      <td>73.137</td>\n",
       "      <td>72.696</td>\n",
       "      <td>72.847</td>\n",
       "      <td>79.658</td>\n",
       "      <td>80.626</td>\n",
       "      <td>87.278</td>\n",
       "      <td>94.310</td>\n",
       "      <td>91.961</td>\n",
       "      <td>...</td>\n",
       "      <td>4452976.0</td>\n",
       "      <td>4553991.0</td>\n",
       "      <td>4619635.0</td>\n",
       "      <td>4651955.0</td>\n",
       "      <td>4672445.0</td>\n",
       "      <td>4704042.0</td>\n",
       "      <td>4732491.0</td>\n",
       "      <td>4728030.0</td>\n",
       "      <td>2.934048</td>\n",
       "      <td>51.04</td>\n",
       "    </tr>\n",
       "    <tr>\n",
       "      <th>3072</th>\n",
       "      <td>17031</td>\n",
       "      <td>Cook, IL</td>\n",
       "      <td>95.406</td>\n",
       "      <td>94.886</td>\n",
       "      <td>95.455</td>\n",
       "      <td>97.260</td>\n",
       "      <td>99.315</td>\n",
       "      <td>101.320</td>\n",
       "      <td>101.826</td>\n",
       "      <td>99.238</td>\n",
       "      <td>...</td>\n",
       "      <td>5320233.0</td>\n",
       "      <td>5324961.0</td>\n",
       "      <td>5320293.0</td>\n",
       "      <td>5311621.0</td>\n",
       "      <td>5297956.0</td>\n",
       "      <td>5287099.0</td>\n",
       "      <td>5262741.0</td>\n",
       "      <td>5173146.0</td>\n",
       "      <td>2.943509</td>\n",
       "      <td>52.34</td>\n",
       "    </tr>\n",
       "    <tr>\n",
       "      <th>3073</th>\n",
       "      <td>6037</td>\n",
       "      <td>Los Angeles, CA</td>\n",
       "      <td>82.070</td>\n",
       "      <td>83.658</td>\n",
       "      <td>86.614</td>\n",
       "      <td>89.137</td>\n",
       "      <td>91.163</td>\n",
       "      <td>94.942</td>\n",
       "      <td>96.400</td>\n",
       "      <td>98.804</td>\n",
       "      <td>...</td>\n",
       "      <td>10051511.0</td>\n",
       "      <td>10099677.0</td>\n",
       "      <td>10121673.0</td>\n",
       "      <td>10123521.0</td>\n",
       "      <td>10096986.0</td>\n",
       "      <td>10051154.0</td>\n",
       "      <td>9989165.0</td>\n",
       "      <td>9829544.0</td>\n",
       "      <td>2.951840</td>\n",
       "      <td>77.00</td>\n",
       "    </tr>\n",
       "  </tbody>\n",
       "</table>\n",
       "<p>3074 rows × 53 columns</p>\n",
       "</div>"
      ],
      "text/plain": [
       "      GeoFIPS          GeoName     2001     2002     2003     2004     2005  \\\n",
       "0        1007         Bibb, AL   80.443   81.527   85.124   89.317   88.782   \n",
       "1       48109    Culberson, TX   35.264   37.743   36.255   38.339   40.177   \n",
       "2       48389       Reeves, TX   46.003   49.290   44.960   41.682   39.742   \n",
       "3       31005       Arthur, NE  126.123  151.196  151.543  154.669  168.961   \n",
       "4       54017    Doddridge, WV   45.487   45.897   45.933   46.619   49.647   \n",
       "...       ...              ...      ...      ...      ...      ...      ...   \n",
       "3069     6059       Orange, CA   82.036   84.241   89.790   94.090   99.072   \n",
       "3070     4013     Maricopa, AZ   77.463   80.415   85.793   90.349   97.615   \n",
       "3071    48201       Harris, TX   73.137   72.696   72.847   79.658   80.626   \n",
       "3072    17031         Cook, IL   95.406   94.886   95.455   97.260   99.315   \n",
       "3073     6037  Los Angeles, CA   82.070   83.658   86.614   89.137   91.163   \n",
       "\n",
       "         2006     2007     2008  ...  2014_population  2015_population  \\\n",
       "0      89.597   95.308   94.745  ...          22586.0          22607.0   \n",
       "1      41.247   42.368   53.349  ...           2301.0           2275.0   \n",
       "2      41.332   41.009   41.389  ...          14614.0          14936.0   \n",
       "3     203.866  119.700  113.293  ...            437.0            433.0   \n",
       "4      54.491   56.730   55.200  ...           8223.0           8392.0   \n",
       "...       ...      ...      ...  ...              ...              ...   \n",
       "3069  102.799  102.301   99.220  ...        3133194.0        3157254.0   \n",
       "3070  102.729  105.313  103.632  ...        4040171.0        4105747.0   \n",
       "3071   87.278   94.310   91.961  ...        4452976.0        4553991.0   \n",
       "3072  101.320  101.826   99.238  ...        5320233.0        5324961.0   \n",
       "3073   94.942   96.400   98.804  ...       10051511.0       10099677.0   \n",
       "\n",
       "      2016_population  2017_population  2018_population  2019_population  \\\n",
       "0             22654.0          22606.0          22383.0          22405.0   \n",
       "1              2244.0           2259.0           2212.0           2186.0   \n",
       "2             14484.0          14314.0          14526.0          14847.0   \n",
       "3               445.0            432.0            435.0            436.0   \n",
       "4              8210.0           8108.0           8087.0           7922.0   \n",
       "...               ...              ...              ...              ...   \n",
       "3069        3174233.0        3185766.0        3188828.0        3185685.0   \n",
       "3070        4174844.0        4231511.0        4292576.0        4363816.0   \n",
       "3071        4619635.0        4651955.0        4672445.0        4704042.0   \n",
       "3072        5320293.0        5311621.0        5297956.0        5287099.0   \n",
       "3073       10121673.0       10123521.0       10096986.0       10051154.0   \n",
       "\n",
       "      2020_population  2021_population  distance to 1007  percentile  \n",
       "0             22223.0          22477.0          0.000000       47.76  \n",
       "1              2193.0           2193.0          1.898948       99.97  \n",
       "2             14730.0          14487.0          1.920264       99.90  \n",
       "3               431.0            439.0          1.926074       99.58  \n",
       "4              7786.0           7735.0          1.950935       99.84  \n",
       "...               ...              ...               ...         ...  \n",
       "3069        3184101.0        3167809.0          2.910696       76.15  \n",
       "3070        4438342.0        4496588.0          2.913534       87.18  \n",
       "3071        4732491.0        4728030.0          2.934048       51.04  \n",
       "3072        5262741.0        5173146.0          2.943509       52.34  \n",
       "3073        9989165.0        9829544.0          2.951840       77.00  \n",
       "\n",
       "[3074 rows x 53 columns]"
      ]
     },
     "metadata": {},
     "output_type": "display_data"
    }
   ],
   "source": [
    "# you still have access to the distances and the ranking\n",
    "display(f.euclidean_kins)"
   ]
  },
  {
   "cell_type": "code",
   "execution_count": 15,
   "metadata": {},
   "outputs": [
    {
     "data": {
      "application/vnd.plotly.v1+json": {
       "config": {
        "plotlyServerURL": "https://plot.ly"
       },
       "data": [
        {
         "line": {
          "color": "darkred",
          "width": 3
         },
         "mode": "lines",
         "name": "Bibb, AL",
         "text": "Bibb, AL",
         "textposition": "top right",
         "type": "scatter",
         "x": [
          2001,
          2002,
          2003,
          2004,
          2005,
          2006,
          2007,
          2008,
          2009,
          2010,
          2011,
          2013,
          2014,
          2015,
          2016,
          2017,
          2018,
          2019,
          2020,
          2021
         ],
         "y": [
          80.443,
          81.527,
          85.124,
          89.317,
          88.782,
          89.597,
          95.308,
          94.745,
          92.945,
          100.115,
          102.559,
          99.537,
          97.933,
          94.594,
          95.812,
          96.878,
          96.988,
          104.62,
          109.487,
          107.878
         ]
        },
        {
         "line": {
          "color": "#FFC0CB"
         },
         "mode": "lines",
         "name": "Culberson, TX",
         "text": "Culberson, TX",
         "textposition": "top right",
         "type": "scatter",
         "x": [
          2001,
          2002,
          2003,
          2004,
          2005,
          2006,
          2007,
          2008,
          2009,
          2010,
          2011,
          2013,
          2014,
          2015,
          2016,
          2017,
          2018,
          2019,
          2020,
          2021
         ],
         "y": [
          35.264,
          37.743,
          36.255,
          38.339,
          40.177,
          41.247,
          42.368,
          53.349,
          66.475,
          58.869,
          62.017,
          144.271,
          258.311,
          404.721,
          546.092,
          673.326,
          712.048,
          986.32,
          1238.206,
          1185.01
         ]
        },
        {
         "line": {
          "color": "#A9A9A9"
         },
         "mode": "lines",
         "name": "Reeves, TX",
         "text": "Reeves, TX",
         "textposition": "top right",
         "type": "scatter",
         "x": [
          2001,
          2002,
          2003,
          2004,
          2005,
          2006,
          2007,
          2008,
          2009,
          2010,
          2011,
          2013,
          2014,
          2015,
          2016,
          2017,
          2018,
          2019,
          2020,
          2021
         ],
         "y": [
          46.003,
          49.29,
          44.96,
          41.682,
          39.742,
          41.332,
          41.009,
          41.389,
          47.383,
          45.553,
          59.748,
          121.888,
          212.473,
          334.183,
          416.768,
          607.235,
          843.967,
          1226.531,
          1136.483,
          942.206
         ]
        },
        {
         "line": {
          "color": "#87CEFA"
         },
         "mode": "lines",
         "name": "Arthur, NE",
         "text": "Arthur, NE",
         "textposition": "top right",
         "type": "scatter",
         "x": [
          2001,
          2002,
          2003,
          2004,
          2005,
          2006,
          2007,
          2008,
          2009,
          2010,
          2011,
          2013,
          2014,
          2015,
          2016,
          2017,
          2018,
          2019,
          2020,
          2021
         ],
         "y": [
          126.123,
          151.196,
          151.543,
          154.669,
          168.961,
          203.866,
          119.7,
          113.293,
          113.818,
          158.423,
          217.618,
          150.461,
          347.424,
          470.35,
          397.27,
          383.239,
          327.485,
          342.512,
          332.015,
          295.62
         ]
        },
        {
         "line": {
          "color": "#FFD700"
         },
         "mode": "lines",
         "name": "Doddridge, WV",
         "text": "Doddridge, WV",
         "textposition": "top right",
         "type": "scatter",
         "x": [
          2001,
          2002,
          2003,
          2004,
          2005,
          2006,
          2007,
          2008,
          2009,
          2010,
          2011,
          2013,
          2014,
          2015,
          2016,
          2017,
          2018,
          2019,
          2020,
          2021
         ],
         "y": [
          45.487,
          45.897,
          45.933,
          46.619,
          49.647,
          54.491,
          56.73,
          55.2,
          59.103,
          63.288,
          74.898,
          153.449,
          350.799,
          570.504,
          559.353,
          592.505,
          518.304,
          552.703,
          663.164,
          441.052
         ]
        },
        {
         "line": {
          "color": "#98FB98"
         },
         "mode": "lines",
         "name": "Dimmit, TX",
         "text": "Dimmit, TX",
         "textposition": "top right",
         "type": "scatter",
         "x": [
          2001,
          2002,
          2003,
          2004,
          2005,
          2006,
          2007,
          2008,
          2009,
          2010,
          2011,
          2013,
          2014,
          2015,
          2016,
          2017,
          2018,
          2019,
          2020,
          2021
         ],
         "y": [
          9.381,
          10.07,
          10.269,
          10.101,
          10.527,
          13.382,
          13.424,
          12.854,
          14.399,
          21.989,
          47.025,
          169.087,
          208.912,
          253.553,
          226.448,
          235.298,
          230.138,
          256.745,
          206.367,
          159.131
         ]
        }
       ],
       "layout": {
        "legend": {
         "title": {
          "text": "GeoName"
         }
        },
        "template": {
         "data": {
          "bar": [
           {
            "error_x": {
             "color": "rgb(36,36,36)"
            },
            "error_y": {
             "color": "rgb(36,36,36)"
            },
            "marker": {
             "line": {
              "color": "white",
              "width": 0.5
             },
             "pattern": {
              "fillmode": "overlay",
              "size": 10,
              "solidity": 0.2
             }
            },
            "type": "bar"
           }
          ],
          "barpolar": [
           {
            "marker": {
             "line": {
              "color": "white",
              "width": 0.5
             },
             "pattern": {
              "fillmode": "overlay",
              "size": 10,
              "solidity": 0.2
             }
            },
            "type": "barpolar"
           }
          ],
          "carpet": [
           {
            "aaxis": {
             "endlinecolor": "rgb(36,36,36)",
             "gridcolor": "white",
             "linecolor": "white",
             "minorgridcolor": "white",
             "startlinecolor": "rgb(36,36,36)"
            },
            "baxis": {
             "endlinecolor": "rgb(36,36,36)",
             "gridcolor": "white",
             "linecolor": "white",
             "minorgridcolor": "white",
             "startlinecolor": "rgb(36,36,36)"
            },
            "type": "carpet"
           }
          ],
          "choropleth": [
           {
            "colorbar": {
             "outlinewidth": 1,
             "tickcolor": "rgb(36,36,36)",
             "ticks": "outside"
            },
            "type": "choropleth"
           }
          ],
          "contour": [
           {
            "colorbar": {
             "outlinewidth": 1,
             "tickcolor": "rgb(36,36,36)",
             "ticks": "outside"
            },
            "colorscale": [
             [
              0,
              "#440154"
             ],
             [
              0.1111111111111111,
              "#482878"
             ],
             [
              0.2222222222222222,
              "#3e4989"
             ],
             [
              0.3333333333333333,
              "#31688e"
             ],
             [
              0.4444444444444444,
              "#26828e"
             ],
             [
              0.5555555555555556,
              "#1f9e89"
             ],
             [
              0.6666666666666666,
              "#35b779"
             ],
             [
              0.7777777777777778,
              "#6ece58"
             ],
             [
              0.8888888888888888,
              "#b5de2b"
             ],
             [
              1,
              "#fde725"
             ]
            ],
            "type": "contour"
           }
          ],
          "contourcarpet": [
           {
            "colorbar": {
             "outlinewidth": 1,
             "tickcolor": "rgb(36,36,36)",
             "ticks": "outside"
            },
            "type": "contourcarpet"
           }
          ],
          "heatmap": [
           {
            "colorbar": {
             "outlinewidth": 1,
             "tickcolor": "rgb(36,36,36)",
             "ticks": "outside"
            },
            "colorscale": [
             [
              0,
              "#440154"
             ],
             [
              0.1111111111111111,
              "#482878"
             ],
             [
              0.2222222222222222,
              "#3e4989"
             ],
             [
              0.3333333333333333,
              "#31688e"
             ],
             [
              0.4444444444444444,
              "#26828e"
             ],
             [
              0.5555555555555556,
              "#1f9e89"
             ],
             [
              0.6666666666666666,
              "#35b779"
             ],
             [
              0.7777777777777778,
              "#6ece58"
             ],
             [
              0.8888888888888888,
              "#b5de2b"
             ],
             [
              1,
              "#fde725"
             ]
            ],
            "type": "heatmap"
           }
          ],
          "heatmapgl": [
           {
            "colorbar": {
             "outlinewidth": 1,
             "tickcolor": "rgb(36,36,36)",
             "ticks": "outside"
            },
            "colorscale": [
             [
              0,
              "#440154"
             ],
             [
              0.1111111111111111,
              "#482878"
             ],
             [
              0.2222222222222222,
              "#3e4989"
             ],
             [
              0.3333333333333333,
              "#31688e"
             ],
             [
              0.4444444444444444,
              "#26828e"
             ],
             [
              0.5555555555555556,
              "#1f9e89"
             ],
             [
              0.6666666666666666,
              "#35b779"
             ],
             [
              0.7777777777777778,
              "#6ece58"
             ],
             [
              0.8888888888888888,
              "#b5de2b"
             ],
             [
              1,
              "#fde725"
             ]
            ],
            "type": "heatmapgl"
           }
          ],
          "histogram": [
           {
            "marker": {
             "line": {
              "color": "white",
              "width": 0.6
             }
            },
            "type": "histogram"
           }
          ],
          "histogram2d": [
           {
            "colorbar": {
             "outlinewidth": 1,
             "tickcolor": "rgb(36,36,36)",
             "ticks": "outside"
            },
            "colorscale": [
             [
              0,
              "#440154"
             ],
             [
              0.1111111111111111,
              "#482878"
             ],
             [
              0.2222222222222222,
              "#3e4989"
             ],
             [
              0.3333333333333333,
              "#31688e"
             ],
             [
              0.4444444444444444,
              "#26828e"
             ],
             [
              0.5555555555555556,
              "#1f9e89"
             ],
             [
              0.6666666666666666,
              "#35b779"
             ],
             [
              0.7777777777777778,
              "#6ece58"
             ],
             [
              0.8888888888888888,
              "#b5de2b"
             ],
             [
              1,
              "#fde725"
             ]
            ],
            "type": "histogram2d"
           }
          ],
          "histogram2dcontour": [
           {
            "colorbar": {
             "outlinewidth": 1,
             "tickcolor": "rgb(36,36,36)",
             "ticks": "outside"
            },
            "colorscale": [
             [
              0,
              "#440154"
             ],
             [
              0.1111111111111111,
              "#482878"
             ],
             [
              0.2222222222222222,
              "#3e4989"
             ],
             [
              0.3333333333333333,
              "#31688e"
             ],
             [
              0.4444444444444444,
              "#26828e"
             ],
             [
              0.5555555555555556,
              "#1f9e89"
             ],
             [
              0.6666666666666666,
              "#35b779"
             ],
             [
              0.7777777777777778,
              "#6ece58"
             ],
             [
              0.8888888888888888,
              "#b5de2b"
             ],
             [
              1,
              "#fde725"
             ]
            ],
            "type": "histogram2dcontour"
           }
          ],
          "mesh3d": [
           {
            "colorbar": {
             "outlinewidth": 1,
             "tickcolor": "rgb(36,36,36)",
             "ticks": "outside"
            },
            "type": "mesh3d"
           }
          ],
          "parcoords": [
           {
            "line": {
             "colorbar": {
              "outlinewidth": 1,
              "tickcolor": "rgb(36,36,36)",
              "ticks": "outside"
             }
            },
            "type": "parcoords"
           }
          ],
          "pie": [
           {
            "automargin": true,
            "type": "pie"
           }
          ],
          "scatter": [
           {
            "fillpattern": {
             "fillmode": "overlay",
             "size": 10,
             "solidity": 0.2
            },
            "type": "scatter"
           }
          ],
          "scatter3d": [
           {
            "line": {
             "colorbar": {
              "outlinewidth": 1,
              "tickcolor": "rgb(36,36,36)",
              "ticks": "outside"
             }
            },
            "marker": {
             "colorbar": {
              "outlinewidth": 1,
              "tickcolor": "rgb(36,36,36)",
              "ticks": "outside"
             }
            },
            "type": "scatter3d"
           }
          ],
          "scattercarpet": [
           {
            "marker": {
             "colorbar": {
              "outlinewidth": 1,
              "tickcolor": "rgb(36,36,36)",
              "ticks": "outside"
             }
            },
            "type": "scattercarpet"
           }
          ],
          "scattergeo": [
           {
            "marker": {
             "colorbar": {
              "outlinewidth": 1,
              "tickcolor": "rgb(36,36,36)",
              "ticks": "outside"
             }
            },
            "type": "scattergeo"
           }
          ],
          "scattergl": [
           {
            "marker": {
             "colorbar": {
              "outlinewidth": 1,
              "tickcolor": "rgb(36,36,36)",
              "ticks": "outside"
             }
            },
            "type": "scattergl"
           }
          ],
          "scattermapbox": [
           {
            "marker": {
             "colorbar": {
              "outlinewidth": 1,
              "tickcolor": "rgb(36,36,36)",
              "ticks": "outside"
             }
            },
            "type": "scattermapbox"
           }
          ],
          "scatterpolar": [
           {
            "marker": {
             "colorbar": {
              "outlinewidth": 1,
              "tickcolor": "rgb(36,36,36)",
              "ticks": "outside"
             }
            },
            "type": "scatterpolar"
           }
          ],
          "scatterpolargl": [
           {
            "marker": {
             "colorbar": {
              "outlinewidth": 1,
              "tickcolor": "rgb(36,36,36)",
              "ticks": "outside"
             }
            },
            "type": "scatterpolargl"
           }
          ],
          "scatterternary": [
           {
            "marker": {
             "colorbar": {
              "outlinewidth": 1,
              "tickcolor": "rgb(36,36,36)",
              "ticks": "outside"
             }
            },
            "type": "scatterternary"
           }
          ],
          "surface": [
           {
            "colorbar": {
             "outlinewidth": 1,
             "tickcolor": "rgb(36,36,36)",
             "ticks": "outside"
            },
            "colorscale": [
             [
              0,
              "#440154"
             ],
             [
              0.1111111111111111,
              "#482878"
             ],
             [
              0.2222222222222222,
              "#3e4989"
             ],
             [
              0.3333333333333333,
              "#31688e"
             ],
             [
              0.4444444444444444,
              "#26828e"
             ],
             [
              0.5555555555555556,
              "#1f9e89"
             ],
             [
              0.6666666666666666,
              "#35b779"
             ],
             [
              0.7777777777777778,
              "#6ece58"
             ],
             [
              0.8888888888888888,
              "#b5de2b"
             ],
             [
              1,
              "#fde725"
             ]
            ],
            "type": "surface"
           }
          ],
          "table": [
           {
            "cells": {
             "fill": {
              "color": "rgb(237,237,237)"
             },
             "line": {
              "color": "white"
             }
            },
            "header": {
             "fill": {
              "color": "rgb(217,217,217)"
             },
             "line": {
              "color": "white"
             }
            },
            "type": "table"
           }
          ]
         },
         "layout": {
          "annotationdefaults": {
           "arrowhead": 0,
           "arrowwidth": 1
          },
          "autotypenumbers": "strict",
          "coloraxis": {
           "colorbar": {
            "outlinewidth": 1,
            "tickcolor": "rgb(36,36,36)",
            "ticks": "outside"
           }
          },
          "colorscale": {
           "diverging": [
            [
             0,
             "rgb(103,0,31)"
            ],
            [
             0.1,
             "rgb(178,24,43)"
            ],
            [
             0.2,
             "rgb(214,96,77)"
            ],
            [
             0.3,
             "rgb(244,165,130)"
            ],
            [
             0.4,
             "rgb(253,219,199)"
            ],
            [
             0.5,
             "rgb(247,247,247)"
            ],
            [
             0.6,
             "rgb(209,229,240)"
            ],
            [
             0.7,
             "rgb(146,197,222)"
            ],
            [
             0.8,
             "rgb(67,147,195)"
            ],
            [
             0.9,
             "rgb(33,102,172)"
            ],
            [
             1,
             "rgb(5,48,97)"
            ]
           ],
           "sequential": [
            [
             0,
             "#440154"
            ],
            [
             0.1111111111111111,
             "#482878"
            ],
            [
             0.2222222222222222,
             "#3e4989"
            ],
            [
             0.3333333333333333,
             "#31688e"
            ],
            [
             0.4444444444444444,
             "#26828e"
            ],
            [
             0.5555555555555556,
             "#1f9e89"
            ],
            [
             0.6666666666666666,
             "#35b779"
            ],
            [
             0.7777777777777778,
             "#6ece58"
            ],
            [
             0.8888888888888888,
             "#b5de2b"
            ],
            [
             1,
             "#fde725"
            ]
           ],
           "sequentialminus": [
            [
             0,
             "#440154"
            ],
            [
             0.1111111111111111,
             "#482878"
            ],
            [
             0.2222222222222222,
             "#3e4989"
            ],
            [
             0.3333333333333333,
             "#31688e"
            ],
            [
             0.4444444444444444,
             "#26828e"
            ],
            [
             0.5555555555555556,
             "#1f9e89"
            ],
            [
             0.6666666666666666,
             "#35b779"
            ],
            [
             0.7777777777777778,
             "#6ece58"
            ],
            [
             0.8888888888888888,
             "#b5de2b"
            ],
            [
             1,
             "#fde725"
            ]
           ]
          },
          "colorway": [
           "#1F77B4",
           "#FF7F0E",
           "#2CA02C",
           "#D62728",
           "#9467BD",
           "#8C564B",
           "#E377C2",
           "#7F7F7F",
           "#BCBD22",
           "#17BECF"
          ],
          "font": {
           "color": "rgb(36,36,36)"
          },
          "geo": {
           "bgcolor": "white",
           "lakecolor": "white",
           "landcolor": "white",
           "showlakes": true,
           "showland": true,
           "subunitcolor": "white"
          },
          "hoverlabel": {
           "align": "left"
          },
          "hovermode": "closest",
          "mapbox": {
           "style": "light"
          },
          "paper_bgcolor": "white",
          "plot_bgcolor": "white",
          "polar": {
           "angularaxis": {
            "gridcolor": "rgb(232,232,232)",
            "linecolor": "rgb(36,36,36)",
            "showgrid": false,
            "showline": true,
            "ticks": "outside"
           },
           "bgcolor": "white",
           "radialaxis": {
            "gridcolor": "rgb(232,232,232)",
            "linecolor": "rgb(36,36,36)",
            "showgrid": false,
            "showline": true,
            "ticks": "outside"
           }
          },
          "scene": {
           "xaxis": {
            "backgroundcolor": "white",
            "gridcolor": "rgb(232,232,232)",
            "gridwidth": 2,
            "linecolor": "rgb(36,36,36)",
            "showbackground": true,
            "showgrid": false,
            "showline": true,
            "ticks": "outside",
            "zeroline": false,
            "zerolinecolor": "rgb(36,36,36)"
           },
           "yaxis": {
            "backgroundcolor": "white",
            "gridcolor": "rgb(232,232,232)",
            "gridwidth": 2,
            "linecolor": "rgb(36,36,36)",
            "showbackground": true,
            "showgrid": false,
            "showline": true,
            "ticks": "outside",
            "zeroline": false,
            "zerolinecolor": "rgb(36,36,36)"
           },
           "zaxis": {
            "backgroundcolor": "white",
            "gridcolor": "rgb(232,232,232)",
            "gridwidth": 2,
            "linecolor": "rgb(36,36,36)",
            "showbackground": true,
            "showgrid": false,
            "showline": true,
            "ticks": "outside",
            "zeroline": false,
            "zerolinecolor": "rgb(36,36,36)"
           }
          },
          "shapedefaults": {
           "fillcolor": "black",
           "line": {
            "width": 0
           },
           "opacity": 0.3
          },
          "ternary": {
           "aaxis": {
            "gridcolor": "rgb(232,232,232)",
            "linecolor": "rgb(36,36,36)",
            "showgrid": false,
            "showline": true,
            "ticks": "outside"
           },
           "baxis": {
            "gridcolor": "rgb(232,232,232)",
            "linecolor": "rgb(36,36,36)",
            "showgrid": false,
            "showline": true,
            "ticks": "outside"
           },
           "bgcolor": "white",
           "caxis": {
            "gridcolor": "rgb(232,232,232)",
            "linecolor": "rgb(36,36,36)",
            "showgrid": false,
            "showline": true,
            "ticks": "outside"
           }
          },
          "title": {
           "x": 0.05
          },
          "xaxis": {
           "automargin": true,
           "gridcolor": "rgb(232,232,232)",
           "linecolor": "rgb(36,36,36)",
           "showgrid": false,
           "showline": true,
           "ticks": "outside",
           "title": {
            "standoff": 15
           },
           "zeroline": false,
           "zerolinecolor": "rgb(36,36,36)"
          },
          "yaxis": {
           "automargin": true,
           "gridcolor": "rgb(232,232,232)",
           "linecolor": "rgb(36,36,36)",
           "showgrid": false,
           "showline": true,
           "ticks": "outside",
           "title": {
            "standoff": 15
           },
           "zeroline": false,
           "zerolinecolor": "rgb(36,36,36)"
          }
         }
        },
        "title": {
         "text": "Top 5 locations matching your search"
        },
        "xaxis": {
         "title": {
          "text": "Year"
         }
        },
        "yaxis": {
         "title": {
          "text": "gdp"
         }
        }
       }
      }
     },
     "metadata": {},
     "output_type": "display_data"
    }
   ],
   "source": [
    "# you still can plot the few top ranked cities:\n",
    "fig = f.show_kins_plot()"
   ]
  },
  {
   "cell_type": "markdown",
   "metadata": {},
   "source": [
    "#### Use case: similarity of outcome with a lag\n",
    "\n",
    "You care about similarity of outcome variables, but your question now is: what other locations were 2 years ago in a similar place to me now, when it comes to the outcome variable and the features?\n"
   ]
  },
  {
   "cell_type": "code",
   "execution_count": 16,
   "metadata": {},
   "outputs": [
    {
     "data": {
      "application/vnd.plotly.v1+json": {
       "config": {
        "plotlyServerURL": "https://plot.ly"
       },
       "data": [
        {
         "type": "bar",
         "x": [
          "2003_gdp",
          "2004_gdp",
          "2005_gdp",
          "2006_gdp",
          "2007_gdp",
          "2008_gdp",
          "2009_gdp",
          "2010_gdp",
          "2011_gdp",
          "2013_gdp",
          "2014_gdp",
          "2015_gdp",
          "2016_gdp",
          "2017_gdp",
          "2018_gdp",
          "2019_gdp",
          "2020_gdp",
          "2021_gdp"
         ],
         "y": [
          0.12942616221148368,
          0.1371917319441727,
          0.14542323586082306,
          0.15414863001247245,
          0.16339754781322083,
          0.17320140068201406,
          0.1835934847229349,
          0.19460909380631103,
          0.20628563943468972,
          0.2186627778007711,
          0.23178254446881738,
          0.24568949713694643,
          0.2604308669651632,
          0.27605671898307305,
          0.29262012212205746,
          0.31017732944938087,
          0.3287879692163438,
          0.3485152473693244
         ]
        }
       ],
       "layout": {
        "template": {
         "data": {
          "bar": [
           {
            "error_x": {
             "color": "#2a3f5f"
            },
            "error_y": {
             "color": "#2a3f5f"
            },
            "marker": {
             "line": {
              "color": "white",
              "width": 0.5
             },
             "pattern": {
              "fillmode": "overlay",
              "size": 10,
              "solidity": 0.2
             }
            },
            "type": "bar"
           }
          ],
          "barpolar": [
           {
            "marker": {
             "line": {
              "color": "white",
              "width": 0.5
             },
             "pattern": {
              "fillmode": "overlay",
              "size": 10,
              "solidity": 0.2
             }
            },
            "type": "barpolar"
           }
          ],
          "carpet": [
           {
            "aaxis": {
             "endlinecolor": "#2a3f5f",
             "gridcolor": "#C8D4E3",
             "linecolor": "#C8D4E3",
             "minorgridcolor": "#C8D4E3",
             "startlinecolor": "#2a3f5f"
            },
            "baxis": {
             "endlinecolor": "#2a3f5f",
             "gridcolor": "#C8D4E3",
             "linecolor": "#C8D4E3",
             "minorgridcolor": "#C8D4E3",
             "startlinecolor": "#2a3f5f"
            },
            "type": "carpet"
           }
          ],
          "choropleth": [
           {
            "colorbar": {
             "outlinewidth": 0,
             "ticks": ""
            },
            "type": "choropleth"
           }
          ],
          "contour": [
           {
            "colorbar": {
             "outlinewidth": 0,
             "ticks": ""
            },
            "colorscale": [
             [
              0,
              "#0d0887"
             ],
             [
              0.1111111111111111,
              "#46039f"
             ],
             [
              0.2222222222222222,
              "#7201a8"
             ],
             [
              0.3333333333333333,
              "#9c179e"
             ],
             [
              0.4444444444444444,
              "#bd3786"
             ],
             [
              0.5555555555555556,
              "#d8576b"
             ],
             [
              0.6666666666666666,
              "#ed7953"
             ],
             [
              0.7777777777777778,
              "#fb9f3a"
             ],
             [
              0.8888888888888888,
              "#fdca26"
             ],
             [
              1,
              "#f0f921"
             ]
            ],
            "type": "contour"
           }
          ],
          "contourcarpet": [
           {
            "colorbar": {
             "outlinewidth": 0,
             "ticks": ""
            },
            "type": "contourcarpet"
           }
          ],
          "heatmap": [
           {
            "colorbar": {
             "outlinewidth": 0,
             "ticks": ""
            },
            "colorscale": [
             [
              0,
              "#0d0887"
             ],
             [
              0.1111111111111111,
              "#46039f"
             ],
             [
              0.2222222222222222,
              "#7201a8"
             ],
             [
              0.3333333333333333,
              "#9c179e"
             ],
             [
              0.4444444444444444,
              "#bd3786"
             ],
             [
              0.5555555555555556,
              "#d8576b"
             ],
             [
              0.6666666666666666,
              "#ed7953"
             ],
             [
              0.7777777777777778,
              "#fb9f3a"
             ],
             [
              0.8888888888888888,
              "#fdca26"
             ],
             [
              1,
              "#f0f921"
             ]
            ],
            "type": "heatmap"
           }
          ],
          "heatmapgl": [
           {
            "colorbar": {
             "outlinewidth": 0,
             "ticks": ""
            },
            "colorscale": [
             [
              0,
              "#0d0887"
             ],
             [
              0.1111111111111111,
              "#46039f"
             ],
             [
              0.2222222222222222,
              "#7201a8"
             ],
             [
              0.3333333333333333,
              "#9c179e"
             ],
             [
              0.4444444444444444,
              "#bd3786"
             ],
             [
              0.5555555555555556,
              "#d8576b"
             ],
             [
              0.6666666666666666,
              "#ed7953"
             ],
             [
              0.7777777777777778,
              "#fb9f3a"
             ],
             [
              0.8888888888888888,
              "#fdca26"
             ],
             [
              1,
              "#f0f921"
             ]
            ],
            "type": "heatmapgl"
           }
          ],
          "histogram": [
           {
            "marker": {
             "pattern": {
              "fillmode": "overlay",
              "size": 10,
              "solidity": 0.2
             }
            },
            "type": "histogram"
           }
          ],
          "histogram2d": [
           {
            "colorbar": {
             "outlinewidth": 0,
             "ticks": ""
            },
            "colorscale": [
             [
              0,
              "#0d0887"
             ],
             [
              0.1111111111111111,
              "#46039f"
             ],
             [
              0.2222222222222222,
              "#7201a8"
             ],
             [
              0.3333333333333333,
              "#9c179e"
             ],
             [
              0.4444444444444444,
              "#bd3786"
             ],
             [
              0.5555555555555556,
              "#d8576b"
             ],
             [
              0.6666666666666666,
              "#ed7953"
             ],
             [
              0.7777777777777778,
              "#fb9f3a"
             ],
             [
              0.8888888888888888,
              "#fdca26"
             ],
             [
              1,
              "#f0f921"
             ]
            ],
            "type": "histogram2d"
           }
          ],
          "histogram2dcontour": [
           {
            "colorbar": {
             "outlinewidth": 0,
             "ticks": ""
            },
            "colorscale": [
             [
              0,
              "#0d0887"
             ],
             [
              0.1111111111111111,
              "#46039f"
             ],
             [
              0.2222222222222222,
              "#7201a8"
             ],
             [
              0.3333333333333333,
              "#9c179e"
             ],
             [
              0.4444444444444444,
              "#bd3786"
             ],
             [
              0.5555555555555556,
              "#d8576b"
             ],
             [
              0.6666666666666666,
              "#ed7953"
             ],
             [
              0.7777777777777778,
              "#fb9f3a"
             ],
             [
              0.8888888888888888,
              "#fdca26"
             ],
             [
              1,
              "#f0f921"
             ]
            ],
            "type": "histogram2dcontour"
           }
          ],
          "mesh3d": [
           {
            "colorbar": {
             "outlinewidth": 0,
             "ticks": ""
            },
            "type": "mesh3d"
           }
          ],
          "parcoords": [
           {
            "line": {
             "colorbar": {
              "outlinewidth": 0,
              "ticks": ""
             }
            },
            "type": "parcoords"
           }
          ],
          "pie": [
           {
            "automargin": true,
            "type": "pie"
           }
          ],
          "scatter": [
           {
            "fillpattern": {
             "fillmode": "overlay",
             "size": 10,
             "solidity": 0.2
            },
            "type": "scatter"
           }
          ],
          "scatter3d": [
           {
            "line": {
             "colorbar": {
              "outlinewidth": 0,
              "ticks": ""
             }
            },
            "marker": {
             "colorbar": {
              "outlinewidth": 0,
              "ticks": ""
             }
            },
            "type": "scatter3d"
           }
          ],
          "scattercarpet": [
           {
            "marker": {
             "colorbar": {
              "outlinewidth": 0,
              "ticks": ""
             }
            },
            "type": "scattercarpet"
           }
          ],
          "scattergeo": [
           {
            "marker": {
             "colorbar": {
              "outlinewidth": 0,
              "ticks": ""
             }
            },
            "type": "scattergeo"
           }
          ],
          "scattergl": [
           {
            "marker": {
             "colorbar": {
              "outlinewidth": 0,
              "ticks": ""
             }
            },
            "type": "scattergl"
           }
          ],
          "scattermapbox": [
           {
            "marker": {
             "colorbar": {
              "outlinewidth": 0,
              "ticks": ""
             }
            },
            "type": "scattermapbox"
           }
          ],
          "scatterpolar": [
           {
            "marker": {
             "colorbar": {
              "outlinewidth": 0,
              "ticks": ""
             }
            },
            "type": "scatterpolar"
           }
          ],
          "scatterpolargl": [
           {
            "marker": {
             "colorbar": {
              "outlinewidth": 0,
              "ticks": ""
             }
            },
            "type": "scatterpolargl"
           }
          ],
          "scatterternary": [
           {
            "marker": {
             "colorbar": {
              "outlinewidth": 0,
              "ticks": ""
             }
            },
            "type": "scatterternary"
           }
          ],
          "surface": [
           {
            "colorbar": {
             "outlinewidth": 0,
             "ticks": ""
            },
            "colorscale": [
             [
              0,
              "#0d0887"
             ],
             [
              0.1111111111111111,
              "#46039f"
             ],
             [
              0.2222222222222222,
              "#7201a8"
             ],
             [
              0.3333333333333333,
              "#9c179e"
             ],
             [
              0.4444444444444444,
              "#bd3786"
             ],
             [
              0.5555555555555556,
              "#d8576b"
             ],
             [
              0.6666666666666666,
              "#ed7953"
             ],
             [
              0.7777777777777778,
              "#fb9f3a"
             ],
             [
              0.8888888888888888,
              "#fdca26"
             ],
             [
              1,
              "#f0f921"
             ]
            ],
            "type": "surface"
           }
          ],
          "table": [
           {
            "cells": {
             "fill": {
              "color": "#EBF0F8"
             },
             "line": {
              "color": "white"
             }
            },
            "header": {
             "fill": {
              "color": "#C8D4E3"
             },
             "line": {
              "color": "white"
             }
            },
            "type": "table"
           }
          ]
         },
         "layout": {
          "annotationdefaults": {
           "arrowcolor": "#2a3f5f",
           "arrowhead": 0,
           "arrowwidth": 1
          },
          "autotypenumbers": "strict",
          "coloraxis": {
           "colorbar": {
            "outlinewidth": 0,
            "ticks": ""
           }
          },
          "colorscale": {
           "diverging": [
            [
             0,
             "#8e0152"
            ],
            [
             0.1,
             "#c51b7d"
            ],
            [
             0.2,
             "#de77ae"
            ],
            [
             0.3,
             "#f1b6da"
            ],
            [
             0.4,
             "#fde0ef"
            ],
            [
             0.5,
             "#f7f7f7"
            ],
            [
             0.6,
             "#e6f5d0"
            ],
            [
             0.7,
             "#b8e186"
            ],
            [
             0.8,
             "#7fbc41"
            ],
            [
             0.9,
             "#4d9221"
            ],
            [
             1,
             "#276419"
            ]
           ],
           "sequential": [
            [
             0,
             "#0d0887"
            ],
            [
             0.1111111111111111,
             "#46039f"
            ],
            [
             0.2222222222222222,
             "#7201a8"
            ],
            [
             0.3333333333333333,
             "#9c179e"
            ],
            [
             0.4444444444444444,
             "#bd3786"
            ],
            [
             0.5555555555555556,
             "#d8576b"
            ],
            [
             0.6666666666666666,
             "#ed7953"
            ],
            [
             0.7777777777777778,
             "#fb9f3a"
            ],
            [
             0.8888888888888888,
             "#fdca26"
            ],
            [
             1,
             "#f0f921"
            ]
           ],
           "sequentialminus": [
            [
             0,
             "#0d0887"
            ],
            [
             0.1111111111111111,
             "#46039f"
            ],
            [
             0.2222222222222222,
             "#7201a8"
            ],
            [
             0.3333333333333333,
             "#9c179e"
            ],
            [
             0.4444444444444444,
             "#bd3786"
            ],
            [
             0.5555555555555556,
             "#d8576b"
            ],
            [
             0.6666666666666666,
             "#ed7953"
            ],
            [
             0.7777777777777778,
             "#fb9f3a"
            ],
            [
             0.8888888888888888,
             "#fdca26"
            ],
            [
             1,
             "#f0f921"
            ]
           ]
          },
          "colorway": [
           "#636efa",
           "#EF553B",
           "#00cc96",
           "#ab63fa",
           "#FFA15A",
           "#19d3f3",
           "#FF6692",
           "#B6E880",
           "#FF97FF",
           "#FECB52"
          ],
          "font": {
           "color": "#2a3f5f"
          },
          "geo": {
           "bgcolor": "white",
           "lakecolor": "white",
           "landcolor": "white",
           "showlakes": true,
           "showland": true,
           "subunitcolor": "#C8D4E3"
          },
          "hoverlabel": {
           "align": "left"
          },
          "hovermode": "closest",
          "mapbox": {
           "style": "light"
          },
          "paper_bgcolor": "white",
          "plot_bgcolor": "white",
          "polar": {
           "angularaxis": {
            "gridcolor": "#EBF0F8",
            "linecolor": "#EBF0F8",
            "ticks": ""
           },
           "bgcolor": "white",
           "radialaxis": {
            "gridcolor": "#EBF0F8",
            "linecolor": "#EBF0F8",
            "ticks": ""
           }
          },
          "scene": {
           "xaxis": {
            "backgroundcolor": "white",
            "gridcolor": "#DFE8F3",
            "gridwidth": 2,
            "linecolor": "#EBF0F8",
            "showbackground": true,
            "ticks": "",
            "zerolinecolor": "#EBF0F8"
           },
           "yaxis": {
            "backgroundcolor": "white",
            "gridcolor": "#DFE8F3",
            "gridwidth": 2,
            "linecolor": "#EBF0F8",
            "showbackground": true,
            "ticks": "",
            "zerolinecolor": "#EBF0F8"
           },
           "zaxis": {
            "backgroundcolor": "white",
            "gridcolor": "#DFE8F3",
            "gridwidth": 2,
            "linecolor": "#EBF0F8",
            "showbackground": true,
            "ticks": "",
            "zerolinecolor": "#EBF0F8"
           }
          },
          "shapedefaults": {
           "line": {
            "color": "#2a3f5f"
           }
          },
          "ternary": {
           "aaxis": {
            "gridcolor": "#DFE8F3",
            "linecolor": "#A2B1C6",
            "ticks": ""
           },
           "baxis": {
            "gridcolor": "#DFE8F3",
            "linecolor": "#A2B1C6",
            "ticks": ""
           },
           "bgcolor": "white",
           "caxis": {
            "gridcolor": "#DFE8F3",
            "linecolor": "#A2B1C6",
            "ticks": ""
           }
          },
          "title": {
           "x": 0.05
          },
          "xaxis": {
           "automargin": true,
           "gridcolor": "#EBF0F8",
           "linecolor": "#EBF0F8",
           "ticks": "",
           "title": {
            "standoff": 15
           },
           "zerolinecolor": "#EBF0F8",
           "zerolinewidth": 2
          },
          "yaxis": {
           "automargin": true,
           "gridcolor": "#EBF0F8",
           "linecolor": "#EBF0F8",
           "ticks": "",
           "title": {
            "standoff": 15
           },
           "zerolinecolor": "#EBF0F8",
           "zerolinewidth": 2
          }
         }
        },
        "title": {
         "text": "Weights of columns"
        },
        "xaxis": {
         "title": {
          "text": "columns"
         }
        },
        "yaxis": {
         "title": {
          "text": "weights"
         }
        }
       }
      }
     },
     "metadata": {},
     "output_type": "display_data"
    }
   ],
   "source": [
    "f = FipsQuery(42001, \"gdp\", lag=2, top=5, time_decay=1.06)\n",
    "f.find_euclidean_kins()\n",
    "\n",
    "f.plot_weights()"
   ]
  },
  {
   "cell_type": "code",
   "execution_count": 17,
   "metadata": {},
   "outputs": [
    {
     "data": {
      "text/html": [
       "<div>\n",
       "<style scoped>\n",
       "    .dataframe tbody tr th:only-of-type {\n",
       "        vertical-align: middle;\n",
       "    }\n",
       "\n",
       "    .dataframe tbody tr th {\n",
       "        vertical-align: top;\n",
       "    }\n",
       "\n",
       "    .dataframe thead th {\n",
       "        text-align: right;\n",
       "    }\n",
       "</style>\n",
       "<table border=\"1\" class=\"dataframe\">\n",
       "  <thead>\n",
       "    <tr style=\"text-align: right;\">\n",
       "      <th></th>\n",
       "      <th>GeoFIPS</th>\n",
       "      <th>GeoName</th>\n",
       "      <th>2001</th>\n",
       "      <th>2002</th>\n",
       "      <th>2003</th>\n",
       "      <th>2004</th>\n",
       "      <th>2005</th>\n",
       "      <th>2006</th>\n",
       "      <th>2007</th>\n",
       "      <th>2008</th>\n",
       "      <th>...</th>\n",
       "      <th>2014</th>\n",
       "      <th>2015</th>\n",
       "      <th>2016</th>\n",
       "      <th>2017</th>\n",
       "      <th>2018</th>\n",
       "      <th>2019</th>\n",
       "      <th>2020</th>\n",
       "      <th>2021</th>\n",
       "      <th>distance to 42001</th>\n",
       "      <th>percentile</th>\n",
       "    </tr>\n",
       "  </thead>\n",
       "  <tbody>\n",
       "    <tr>\n",
       "      <th>0</th>\n",
       "      <td>42001</td>\n",
       "      <td>Adams, PA</td>\n",
       "      <td>78.619</td>\n",
       "      <td>84.689</td>\n",
       "      <td>84.475</td>\n",
       "      <td>85.860</td>\n",
       "      <td>89.556</td>\n",
       "      <td>93.508</td>\n",
       "      <td>93.154</td>\n",
       "      <td>95.379</td>\n",
       "      <td>...</td>\n",
       "      <td>100.006</td>\n",
       "      <td>102.509</td>\n",
       "      <td>103.708</td>\n",
       "      <td>108.411</td>\n",
       "      <td>105.390</td>\n",
       "      <td>103.440</td>\n",
       "      <td>97.678</td>\n",
       "      <td>102.664</td>\n",
       "      <td>0.000000</td>\n",
       "      <td>35.04</td>\n",
       "    </tr>\n",
       "    <tr>\n",
       "      <th>1</th>\n",
       "      <td>17097</td>\n",
       "      <td>Lake, IL</td>\n",
       "      <td>78.656</td>\n",
       "      <td>81.216</td>\n",
       "      <td>83.875</td>\n",
       "      <td>87.882</td>\n",
       "      <td>89.657</td>\n",
       "      <td>94.695</td>\n",
       "      <td>97.707</td>\n",
       "      <td>94.213</td>\n",
       "      <td>...</td>\n",
       "      <td>101.651</td>\n",
       "      <td>104.679</td>\n",
       "      <td>102.943</td>\n",
       "      <td>102.954</td>\n",
       "      <td>105.339</td>\n",
       "      <td>105.335</td>\n",
       "      <td>101.592</td>\n",
       "      <td>106.468</td>\n",
       "      <td>0.031418</td>\n",
       "      <td>44.24</td>\n",
       "    </tr>\n",
       "    <tr>\n",
       "      <th>2</th>\n",
       "      <td>17001</td>\n",
       "      <td>Adams, IL</td>\n",
       "      <td>79.654</td>\n",
       "      <td>81.654</td>\n",
       "      <td>86.491</td>\n",
       "      <td>90.160</td>\n",
       "      <td>91.589</td>\n",
       "      <td>93.582</td>\n",
       "      <td>93.367</td>\n",
       "      <td>95.001</td>\n",
       "      <td>...</td>\n",
       "      <td>102.400</td>\n",
       "      <td>101.760</td>\n",
       "      <td>104.586</td>\n",
       "      <td>97.057</td>\n",
       "      <td>99.635</td>\n",
       "      <td>98.477</td>\n",
       "      <td>93.510</td>\n",
       "      <td>100.614</td>\n",
       "      <td>0.034746</td>\n",
       "      <td>30.51</td>\n",
       "    </tr>\n",
       "    <tr>\n",
       "      <th>3</th>\n",
       "      <td>55127</td>\n",
       "      <td>Walworth, WI</td>\n",
       "      <td>83.081</td>\n",
       "      <td>82.847</td>\n",
       "      <td>86.725</td>\n",
       "      <td>91.131</td>\n",
       "      <td>94.582</td>\n",
       "      <td>95.464</td>\n",
       "      <td>95.346</td>\n",
       "      <td>95.036</td>\n",
       "      <td>...</td>\n",
       "      <td>99.368</td>\n",
       "      <td>101.910</td>\n",
       "      <td>100.466</td>\n",
       "      <td>101.012</td>\n",
       "      <td>102.907</td>\n",
       "      <td>103.969</td>\n",
       "      <td>102.260</td>\n",
       "      <td>108.502</td>\n",
       "      <td>0.039798</td>\n",
       "      <td>49.54</td>\n",
       "    </tr>\n",
       "    <tr>\n",
       "      <th>4</th>\n",
       "      <td>25027</td>\n",
       "      <td>Worcester, MA</td>\n",
       "      <td>83.429</td>\n",
       "      <td>84.954</td>\n",
       "      <td>88.210</td>\n",
       "      <td>89.841</td>\n",
       "      <td>90.625</td>\n",
       "      <td>92.234</td>\n",
       "      <td>93.830</td>\n",
       "      <td>96.316</td>\n",
       "      <td>...</td>\n",
       "      <td>101.656</td>\n",
       "      <td>103.801</td>\n",
       "      <td>104.461</td>\n",
       "      <td>104.997</td>\n",
       "      <td>107.212</td>\n",
       "      <td>107.542</td>\n",
       "      <td>104.070</td>\n",
       "      <td>109.597</td>\n",
       "      <td>0.042352</td>\n",
       "      <td>51.89</td>\n",
       "    </tr>\n",
       "    <tr>\n",
       "      <th>...</th>\n",
       "      <td>...</td>\n",
       "      <td>...</td>\n",
       "      <td>...</td>\n",
       "      <td>...</td>\n",
       "      <td>...</td>\n",
       "      <td>...</td>\n",
       "      <td>...</td>\n",
       "      <td>...</td>\n",
       "      <td>...</td>\n",
       "      <td>...</td>\n",
       "      <td>...</td>\n",
       "      <td>...</td>\n",
       "      <td>...</td>\n",
       "      <td>...</td>\n",
       "      <td>...</td>\n",
       "      <td>...</td>\n",
       "      <td>...</td>\n",
       "      <td>...</td>\n",
       "      <td>...</td>\n",
       "      <td>...</td>\n",
       "      <td>...</td>\n",
       "    </tr>\n",
       "    <tr>\n",
       "      <th>3069</th>\n",
       "      <td>48389</td>\n",
       "      <td>Reeves, TX</td>\n",
       "      <td>46.003</td>\n",
       "      <td>49.290</td>\n",
       "      <td>44.960</td>\n",
       "      <td>41.682</td>\n",
       "      <td>39.742</td>\n",
       "      <td>41.332</td>\n",
       "      <td>41.009</td>\n",
       "      <td>41.389</td>\n",
       "      <td>...</td>\n",
       "      <td>212.473</td>\n",
       "      <td>334.183</td>\n",
       "      <td>416.768</td>\n",
       "      <td>607.235</td>\n",
       "      <td>843.967</td>\n",
       "      <td>1226.531</td>\n",
       "      <td>1136.483</td>\n",
       "      <td>942.206</td>\n",
       "      <td>1.429865</td>\n",
       "      <td>99.90</td>\n",
       "    </tr>\n",
       "    <tr>\n",
       "      <th>3070</th>\n",
       "      <td>54017</td>\n",
       "      <td>Doddridge, WV</td>\n",
       "      <td>45.487</td>\n",
       "      <td>45.897</td>\n",
       "      <td>45.933</td>\n",
       "      <td>46.619</td>\n",
       "      <td>49.647</td>\n",
       "      <td>54.491</td>\n",
       "      <td>56.730</td>\n",
       "      <td>55.200</td>\n",
       "      <td>...</td>\n",
       "      <td>350.799</td>\n",
       "      <td>570.504</td>\n",
       "      <td>559.353</td>\n",
       "      <td>592.505</td>\n",
       "      <td>518.304</td>\n",
       "      <td>552.703</td>\n",
       "      <td>663.164</td>\n",
       "      <td>441.052</td>\n",
       "      <td>1.450591</td>\n",
       "      <td>99.84</td>\n",
       "    </tr>\n",
       "    <tr>\n",
       "      <th>3071</th>\n",
       "      <td>48233</td>\n",
       "      <td>Hutchinson, TX</td>\n",
       "      <td>109.729</td>\n",
       "      <td>102.552</td>\n",
       "      <td>96.027</td>\n",
       "      <td>105.075</td>\n",
       "      <td>92.319</td>\n",
       "      <td>97.763</td>\n",
       "      <td>108.460</td>\n",
       "      <td>130.444</td>\n",
       "      <td>...</td>\n",
       "      <td>600.611</td>\n",
       "      <td>471.316</td>\n",
       "      <td>743.692</td>\n",
       "      <td>529.449</td>\n",
       "      <td>476.537</td>\n",
       "      <td>449.404</td>\n",
       "      <td>389.278</td>\n",
       "      <td>364.625</td>\n",
       "      <td>1.463468</td>\n",
       "      <td>99.74</td>\n",
       "    </tr>\n",
       "    <tr>\n",
       "      <th>3072</th>\n",
       "      <td>31005</td>\n",
       "      <td>Arthur, NE</td>\n",
       "      <td>126.123</td>\n",
       "      <td>151.196</td>\n",
       "      <td>151.543</td>\n",
       "      <td>154.669</td>\n",
       "      <td>168.961</td>\n",
       "      <td>203.866</td>\n",
       "      <td>119.700</td>\n",
       "      <td>113.293</td>\n",
       "      <td>...</td>\n",
       "      <td>347.424</td>\n",
       "      <td>470.350</td>\n",
       "      <td>397.270</td>\n",
       "      <td>383.239</td>\n",
       "      <td>327.485</td>\n",
       "      <td>342.512</td>\n",
       "      <td>332.015</td>\n",
       "      <td>295.620</td>\n",
       "      <td>1.469543</td>\n",
       "      <td>99.58</td>\n",
       "    </tr>\n",
       "    <tr>\n",
       "      <th>3073</th>\n",
       "      <td>48109</td>\n",
       "      <td>Culberson, TX</td>\n",
       "      <td>35.264</td>\n",
       "      <td>37.743</td>\n",
       "      <td>36.255</td>\n",
       "      <td>38.339</td>\n",
       "      <td>40.177</td>\n",
       "      <td>41.247</td>\n",
       "      <td>42.368</td>\n",
       "      <td>53.349</td>\n",
       "      <td>...</td>\n",
       "      <td>258.311</td>\n",
       "      <td>404.721</td>\n",
       "      <td>546.092</td>\n",
       "      <td>673.326</td>\n",
       "      <td>712.048</td>\n",
       "      <td>986.320</td>\n",
       "      <td>1238.206</td>\n",
       "      <td>1185.010</td>\n",
       "      <td>1.472160</td>\n",
       "      <td>99.97</td>\n",
       "    </tr>\n",
       "  </tbody>\n",
       "</table>\n",
       "<p>3074 rows × 24 columns</p>\n",
       "</div>"
      ],
      "text/plain": [
       "      GeoFIPS         GeoName     2001     2002     2003     2004     2005  \\\n",
       "0       42001       Adams, PA   78.619   84.689   84.475   85.860   89.556   \n",
       "1       17097        Lake, IL   78.656   81.216   83.875   87.882   89.657   \n",
       "2       17001       Adams, IL   79.654   81.654   86.491   90.160   91.589   \n",
       "3       55127    Walworth, WI   83.081   82.847   86.725   91.131   94.582   \n",
       "4       25027   Worcester, MA   83.429   84.954   88.210   89.841   90.625   \n",
       "...       ...             ...      ...      ...      ...      ...      ...   \n",
       "3069    48389      Reeves, TX   46.003   49.290   44.960   41.682   39.742   \n",
       "3070    54017   Doddridge, WV   45.487   45.897   45.933   46.619   49.647   \n",
       "3071    48233  Hutchinson, TX  109.729  102.552   96.027  105.075   92.319   \n",
       "3072    31005      Arthur, NE  126.123  151.196  151.543  154.669  168.961   \n",
       "3073    48109   Culberson, TX   35.264   37.743   36.255   38.339   40.177   \n",
       "\n",
       "         2006     2007     2008  ...     2014     2015     2016     2017  \\\n",
       "0      93.508   93.154   95.379  ...  100.006  102.509  103.708  108.411   \n",
       "1      94.695   97.707   94.213  ...  101.651  104.679  102.943  102.954   \n",
       "2      93.582   93.367   95.001  ...  102.400  101.760  104.586   97.057   \n",
       "3      95.464   95.346   95.036  ...   99.368  101.910  100.466  101.012   \n",
       "4      92.234   93.830   96.316  ...  101.656  103.801  104.461  104.997   \n",
       "...       ...      ...      ...  ...      ...      ...      ...      ...   \n",
       "3069   41.332   41.009   41.389  ...  212.473  334.183  416.768  607.235   \n",
       "3070   54.491   56.730   55.200  ...  350.799  570.504  559.353  592.505   \n",
       "3071   97.763  108.460  130.444  ...  600.611  471.316  743.692  529.449   \n",
       "3072  203.866  119.700  113.293  ...  347.424  470.350  397.270  383.239   \n",
       "3073   41.247   42.368   53.349  ...  258.311  404.721  546.092  673.326   \n",
       "\n",
       "         2018      2019      2020      2021  distance to 42001  percentile  \n",
       "0     105.390   103.440    97.678   102.664           0.000000       35.04  \n",
       "1     105.339   105.335   101.592   106.468           0.031418       44.24  \n",
       "2      99.635    98.477    93.510   100.614           0.034746       30.51  \n",
       "3     102.907   103.969   102.260   108.502           0.039798       49.54  \n",
       "4     107.212   107.542   104.070   109.597           0.042352       51.89  \n",
       "...       ...       ...       ...       ...                ...         ...  \n",
       "3069  843.967  1226.531  1136.483   942.206           1.429865       99.90  \n",
       "3070  518.304   552.703   663.164   441.052           1.450591       99.84  \n",
       "3071  476.537   449.404   389.278   364.625           1.463468       99.74  \n",
       "3072  327.485   342.512   332.015   295.620           1.469543       99.58  \n",
       "3073  712.048   986.320  1238.206  1185.010           1.472160       99.97  \n",
       "\n",
       "[3074 rows x 24 columns]"
      ]
     },
     "execution_count": 17,
     "metadata": {},
     "output_type": "execute_result"
    }
   ],
   "source": [
    "f.find_euclidean_kins()\n",
    "f.euclidean_kins"
   ]
  },
  {
   "cell_type": "code",
   "execution_count": 18,
   "metadata": {},
   "outputs": [
    {
     "data": {
      "application/vnd.plotly.v1+json": {
       "config": {
        "plotlyServerURL": "https://plot.ly"
       },
       "data": [
        {
         "line": {
          "color": "darkred",
          "width": 3
         },
         "mode": "lines",
         "name": "Adams, PA",
         "text": "Adams, PA",
         "textposition": "top right",
         "type": "scatter",
         "x": [
          2001,
          2002,
          2003,
          2004,
          2005,
          2006,
          2007,
          2008,
          2009,
          2010,
          2011,
          2013,
          2014,
          2015,
          2016,
          2017,
          2018,
          2019,
          2020,
          2021
         ],
         "y": [
          78.619,
          84.689,
          84.475,
          85.86,
          89.556,
          93.508,
          93.154,
          95.379,
          96.885,
          95.036,
          97.071,
          100.08,
          100.006,
          102.509,
          103.708,
          108.411,
          105.39,
          103.44,
          97.678,
          102.664
         ]
        },
        {
         "line": {
          "color": "#FFC0CB"
         },
         "mode": "lines",
         "name": "Lake, IL",
         "text": "Lake, IL",
         "textposition": "top right",
         "type": "scatter",
         "x": [
          2003,
          2004,
          2005,
          2006,
          2007,
          2008,
          2009,
          2010,
          2011,
          2012,
          2013,
          2015,
          2016,
          2017,
          2018,
          2019,
          2020,
          2021,
          2022,
          2023
         ],
         "y": [
          78.656,
          81.216,
          83.875,
          87.882,
          89.657,
          94.695,
          97.707,
          94.213,
          92.498,
          96.205,
          95.768,
          98.521,
          101.651,
          104.679,
          102.943,
          102.954,
          105.339,
          105.335,
          101.592,
          106.468
         ]
        },
        {
         "line": {
          "color": "#A9A9A9"
         },
         "mode": "lines",
         "name": "Adams, IL",
         "text": "Adams, IL",
         "textposition": "top right",
         "type": "scatter",
         "x": [
          2003,
          2004,
          2005,
          2006,
          2007,
          2008,
          2009,
          2010,
          2011,
          2012,
          2013,
          2015,
          2016,
          2017,
          2018,
          2019,
          2020,
          2021,
          2022,
          2023
         ],
         "y": [
          79.654,
          81.654,
          86.491,
          90.16,
          91.589,
          93.582,
          93.367,
          95.001,
          92.234,
          95.051,
          98.111,
          99.232,
          102.4,
          101.76,
          104.586,
          97.057,
          99.635,
          98.477,
          93.51,
          100.614
         ]
        },
        {
         "line": {
          "color": "#87CEFA"
         },
         "mode": "lines",
         "name": "Walworth, WI",
         "text": "Walworth, WI",
         "textposition": "top right",
         "type": "scatter",
         "x": [
          2003,
          2004,
          2005,
          2006,
          2007,
          2008,
          2009,
          2010,
          2011,
          2012,
          2013,
          2015,
          2016,
          2017,
          2018,
          2019,
          2020,
          2021,
          2022,
          2023
         ],
         "y": [
          83.081,
          82.847,
          86.725,
          91.131,
          94.582,
          95.464,
          95.346,
          95.036,
          88.81,
          93.105,
          98.705,
          101.005,
          99.368,
          101.91,
          100.466,
          101.012,
          102.907,
          103.969,
          102.26,
          108.502
         ]
        },
        {
         "line": {
          "color": "#FFD700"
         },
         "mode": "lines",
         "name": "Worcester, MA",
         "text": "Worcester, MA",
         "textposition": "top right",
         "type": "scatter",
         "x": [
          2003,
          2004,
          2005,
          2006,
          2007,
          2008,
          2009,
          2010,
          2011,
          2012,
          2013,
          2015,
          2016,
          2017,
          2018,
          2019,
          2020,
          2021,
          2022,
          2023
         ],
         "y": [
          83.429,
          84.954,
          88.21,
          89.841,
          90.625,
          92.234,
          93.83,
          96.316,
          92.366,
          96.009,
          99.117,
          100.871,
          101.656,
          103.801,
          104.461,
          104.997,
          107.212,
          107.542,
          104.07,
          109.597
         ]
        },
        {
         "line": {
          "color": "#98FB98"
         },
         "mode": "lines",
         "name": "Riley, KS",
         "text": "Riley, KS",
         "textposition": "top right",
         "type": "scatter",
         "x": [
          2003,
          2004,
          2005,
          2006,
          2007,
          2008,
          2009,
          2010,
          2011,
          2012,
          2013,
          2015,
          2016,
          2017,
          2018,
          2019,
          2020,
          2021,
          2022,
          2023
         ],
         "y": [
          78.822,
          79.879,
          83.156,
          85.898,
          86.815,
          89.029,
          93.378,
          97.32,
          95.39,
          96.585,
          97.939,
          99.925,
          102.355,
          102.888,
          103.512,
          102.037,
          100.206,
          100.843,
          100.186,
          101.947
         ]
        }
       ],
       "layout": {
        "annotations": [
         {
          "font": {
           "color": "darkgray"
          },
          "showarrow": false,
          "text": "their year 2019",
          "x": 2021,
          "xref": "x",
          "y": 1.05,
          "yref": "paper"
         }
        ],
        "legend": {
         "title": {
          "text": "GeoName"
         }
        },
        "shapes": [
         {
          "line": {
           "color": "darkgray",
           "width": 2
          },
          "type": "line",
          "x0": 2021,
          "x1": 2021,
          "xref": "x",
          "y0": 0,
          "y1": 1,
          "yref": "paper"
         }
        ],
        "template": {
         "data": {
          "bar": [
           {
            "error_x": {
             "color": "rgb(36,36,36)"
            },
            "error_y": {
             "color": "rgb(36,36,36)"
            },
            "marker": {
             "line": {
              "color": "white",
              "width": 0.5
             },
             "pattern": {
              "fillmode": "overlay",
              "size": 10,
              "solidity": 0.2
             }
            },
            "type": "bar"
           }
          ],
          "barpolar": [
           {
            "marker": {
             "line": {
              "color": "white",
              "width": 0.5
             },
             "pattern": {
              "fillmode": "overlay",
              "size": 10,
              "solidity": 0.2
             }
            },
            "type": "barpolar"
           }
          ],
          "carpet": [
           {
            "aaxis": {
             "endlinecolor": "rgb(36,36,36)",
             "gridcolor": "white",
             "linecolor": "white",
             "minorgridcolor": "white",
             "startlinecolor": "rgb(36,36,36)"
            },
            "baxis": {
             "endlinecolor": "rgb(36,36,36)",
             "gridcolor": "white",
             "linecolor": "white",
             "minorgridcolor": "white",
             "startlinecolor": "rgb(36,36,36)"
            },
            "type": "carpet"
           }
          ],
          "choropleth": [
           {
            "colorbar": {
             "outlinewidth": 1,
             "tickcolor": "rgb(36,36,36)",
             "ticks": "outside"
            },
            "type": "choropleth"
           }
          ],
          "contour": [
           {
            "colorbar": {
             "outlinewidth": 1,
             "tickcolor": "rgb(36,36,36)",
             "ticks": "outside"
            },
            "colorscale": [
             [
              0,
              "#440154"
             ],
             [
              0.1111111111111111,
              "#482878"
             ],
             [
              0.2222222222222222,
              "#3e4989"
             ],
             [
              0.3333333333333333,
              "#31688e"
             ],
             [
              0.4444444444444444,
              "#26828e"
             ],
             [
              0.5555555555555556,
              "#1f9e89"
             ],
             [
              0.6666666666666666,
              "#35b779"
             ],
             [
              0.7777777777777778,
              "#6ece58"
             ],
             [
              0.8888888888888888,
              "#b5de2b"
             ],
             [
              1,
              "#fde725"
             ]
            ],
            "type": "contour"
           }
          ],
          "contourcarpet": [
           {
            "colorbar": {
             "outlinewidth": 1,
             "tickcolor": "rgb(36,36,36)",
             "ticks": "outside"
            },
            "type": "contourcarpet"
           }
          ],
          "heatmap": [
           {
            "colorbar": {
             "outlinewidth": 1,
             "tickcolor": "rgb(36,36,36)",
             "ticks": "outside"
            },
            "colorscale": [
             [
              0,
              "#440154"
             ],
             [
              0.1111111111111111,
              "#482878"
             ],
             [
              0.2222222222222222,
              "#3e4989"
             ],
             [
              0.3333333333333333,
              "#31688e"
             ],
             [
              0.4444444444444444,
              "#26828e"
             ],
             [
              0.5555555555555556,
              "#1f9e89"
             ],
             [
              0.6666666666666666,
              "#35b779"
             ],
             [
              0.7777777777777778,
              "#6ece58"
             ],
             [
              0.8888888888888888,
              "#b5de2b"
             ],
             [
              1,
              "#fde725"
             ]
            ],
            "type": "heatmap"
           }
          ],
          "heatmapgl": [
           {
            "colorbar": {
             "outlinewidth": 1,
             "tickcolor": "rgb(36,36,36)",
             "ticks": "outside"
            },
            "colorscale": [
             [
              0,
              "#440154"
             ],
             [
              0.1111111111111111,
              "#482878"
             ],
             [
              0.2222222222222222,
              "#3e4989"
             ],
             [
              0.3333333333333333,
              "#31688e"
             ],
             [
              0.4444444444444444,
              "#26828e"
             ],
             [
              0.5555555555555556,
              "#1f9e89"
             ],
             [
              0.6666666666666666,
              "#35b779"
             ],
             [
              0.7777777777777778,
              "#6ece58"
             ],
             [
              0.8888888888888888,
              "#b5de2b"
             ],
             [
              1,
              "#fde725"
             ]
            ],
            "type": "heatmapgl"
           }
          ],
          "histogram": [
           {
            "marker": {
             "line": {
              "color": "white",
              "width": 0.6
             }
            },
            "type": "histogram"
           }
          ],
          "histogram2d": [
           {
            "colorbar": {
             "outlinewidth": 1,
             "tickcolor": "rgb(36,36,36)",
             "ticks": "outside"
            },
            "colorscale": [
             [
              0,
              "#440154"
             ],
             [
              0.1111111111111111,
              "#482878"
             ],
             [
              0.2222222222222222,
              "#3e4989"
             ],
             [
              0.3333333333333333,
              "#31688e"
             ],
             [
              0.4444444444444444,
              "#26828e"
             ],
             [
              0.5555555555555556,
              "#1f9e89"
             ],
             [
              0.6666666666666666,
              "#35b779"
             ],
             [
              0.7777777777777778,
              "#6ece58"
             ],
             [
              0.8888888888888888,
              "#b5de2b"
             ],
             [
              1,
              "#fde725"
             ]
            ],
            "type": "histogram2d"
           }
          ],
          "histogram2dcontour": [
           {
            "colorbar": {
             "outlinewidth": 1,
             "tickcolor": "rgb(36,36,36)",
             "ticks": "outside"
            },
            "colorscale": [
             [
              0,
              "#440154"
             ],
             [
              0.1111111111111111,
              "#482878"
             ],
             [
              0.2222222222222222,
              "#3e4989"
             ],
             [
              0.3333333333333333,
              "#31688e"
             ],
             [
              0.4444444444444444,
              "#26828e"
             ],
             [
              0.5555555555555556,
              "#1f9e89"
             ],
             [
              0.6666666666666666,
              "#35b779"
             ],
             [
              0.7777777777777778,
              "#6ece58"
             ],
             [
              0.8888888888888888,
              "#b5de2b"
             ],
             [
              1,
              "#fde725"
             ]
            ],
            "type": "histogram2dcontour"
           }
          ],
          "mesh3d": [
           {
            "colorbar": {
             "outlinewidth": 1,
             "tickcolor": "rgb(36,36,36)",
             "ticks": "outside"
            },
            "type": "mesh3d"
           }
          ],
          "parcoords": [
           {
            "line": {
             "colorbar": {
              "outlinewidth": 1,
              "tickcolor": "rgb(36,36,36)",
              "ticks": "outside"
             }
            },
            "type": "parcoords"
           }
          ],
          "pie": [
           {
            "automargin": true,
            "type": "pie"
           }
          ],
          "scatter": [
           {
            "fillpattern": {
             "fillmode": "overlay",
             "size": 10,
             "solidity": 0.2
            },
            "type": "scatter"
           }
          ],
          "scatter3d": [
           {
            "line": {
             "colorbar": {
              "outlinewidth": 1,
              "tickcolor": "rgb(36,36,36)",
              "ticks": "outside"
             }
            },
            "marker": {
             "colorbar": {
              "outlinewidth": 1,
              "tickcolor": "rgb(36,36,36)",
              "ticks": "outside"
             }
            },
            "type": "scatter3d"
           }
          ],
          "scattercarpet": [
           {
            "marker": {
             "colorbar": {
              "outlinewidth": 1,
              "tickcolor": "rgb(36,36,36)",
              "ticks": "outside"
             }
            },
            "type": "scattercarpet"
           }
          ],
          "scattergeo": [
           {
            "marker": {
             "colorbar": {
              "outlinewidth": 1,
              "tickcolor": "rgb(36,36,36)",
              "ticks": "outside"
             }
            },
            "type": "scattergeo"
           }
          ],
          "scattergl": [
           {
            "marker": {
             "colorbar": {
              "outlinewidth": 1,
              "tickcolor": "rgb(36,36,36)",
              "ticks": "outside"
             }
            },
            "type": "scattergl"
           }
          ],
          "scattermapbox": [
           {
            "marker": {
             "colorbar": {
              "outlinewidth": 1,
              "tickcolor": "rgb(36,36,36)",
              "ticks": "outside"
             }
            },
            "type": "scattermapbox"
           }
          ],
          "scatterpolar": [
           {
            "marker": {
             "colorbar": {
              "outlinewidth": 1,
              "tickcolor": "rgb(36,36,36)",
              "ticks": "outside"
             }
            },
            "type": "scatterpolar"
           }
          ],
          "scatterpolargl": [
           {
            "marker": {
             "colorbar": {
              "outlinewidth": 1,
              "tickcolor": "rgb(36,36,36)",
              "ticks": "outside"
             }
            },
            "type": "scatterpolargl"
           }
          ],
          "scatterternary": [
           {
            "marker": {
             "colorbar": {
              "outlinewidth": 1,
              "tickcolor": "rgb(36,36,36)",
              "ticks": "outside"
             }
            },
            "type": "scatterternary"
           }
          ],
          "surface": [
           {
            "colorbar": {
             "outlinewidth": 1,
             "tickcolor": "rgb(36,36,36)",
             "ticks": "outside"
            },
            "colorscale": [
             [
              0,
              "#440154"
             ],
             [
              0.1111111111111111,
              "#482878"
             ],
             [
              0.2222222222222222,
              "#3e4989"
             ],
             [
              0.3333333333333333,
              "#31688e"
             ],
             [
              0.4444444444444444,
              "#26828e"
             ],
             [
              0.5555555555555556,
              "#1f9e89"
             ],
             [
              0.6666666666666666,
              "#35b779"
             ],
             [
              0.7777777777777778,
              "#6ece58"
             ],
             [
              0.8888888888888888,
              "#b5de2b"
             ],
             [
              1,
              "#fde725"
             ]
            ],
            "type": "surface"
           }
          ],
          "table": [
           {
            "cells": {
             "fill": {
              "color": "rgb(237,237,237)"
             },
             "line": {
              "color": "white"
             }
            },
            "header": {
             "fill": {
              "color": "rgb(217,217,217)"
             },
             "line": {
              "color": "white"
             }
            },
            "type": "table"
           }
          ]
         },
         "layout": {
          "annotationdefaults": {
           "arrowhead": 0,
           "arrowwidth": 1
          },
          "autotypenumbers": "strict",
          "coloraxis": {
           "colorbar": {
            "outlinewidth": 1,
            "tickcolor": "rgb(36,36,36)",
            "ticks": "outside"
           }
          },
          "colorscale": {
           "diverging": [
            [
             0,
             "rgb(103,0,31)"
            ],
            [
             0.1,
             "rgb(178,24,43)"
            ],
            [
             0.2,
             "rgb(214,96,77)"
            ],
            [
             0.3,
             "rgb(244,165,130)"
            ],
            [
             0.4,
             "rgb(253,219,199)"
            ],
            [
             0.5,
             "rgb(247,247,247)"
            ],
            [
             0.6,
             "rgb(209,229,240)"
            ],
            [
             0.7,
             "rgb(146,197,222)"
            ],
            [
             0.8,
             "rgb(67,147,195)"
            ],
            [
             0.9,
             "rgb(33,102,172)"
            ],
            [
             1,
             "rgb(5,48,97)"
            ]
           ],
           "sequential": [
            [
             0,
             "#440154"
            ],
            [
             0.1111111111111111,
             "#482878"
            ],
            [
             0.2222222222222222,
             "#3e4989"
            ],
            [
             0.3333333333333333,
             "#31688e"
            ],
            [
             0.4444444444444444,
             "#26828e"
            ],
            [
             0.5555555555555556,
             "#1f9e89"
            ],
            [
             0.6666666666666666,
             "#35b779"
            ],
            [
             0.7777777777777778,
             "#6ece58"
            ],
            [
             0.8888888888888888,
             "#b5de2b"
            ],
            [
             1,
             "#fde725"
            ]
           ],
           "sequentialminus": [
            [
             0,
             "#440154"
            ],
            [
             0.1111111111111111,
             "#482878"
            ],
            [
             0.2222222222222222,
             "#3e4989"
            ],
            [
             0.3333333333333333,
             "#31688e"
            ],
            [
             0.4444444444444444,
             "#26828e"
            ],
            [
             0.5555555555555556,
             "#1f9e89"
            ],
            [
             0.6666666666666666,
             "#35b779"
            ],
            [
             0.7777777777777778,
             "#6ece58"
            ],
            [
             0.8888888888888888,
             "#b5de2b"
            ],
            [
             1,
             "#fde725"
            ]
           ]
          },
          "colorway": [
           "#1F77B4",
           "#FF7F0E",
           "#2CA02C",
           "#D62728",
           "#9467BD",
           "#8C564B",
           "#E377C2",
           "#7F7F7F",
           "#BCBD22",
           "#17BECF"
          ],
          "font": {
           "color": "rgb(36,36,36)"
          },
          "geo": {
           "bgcolor": "white",
           "lakecolor": "white",
           "landcolor": "white",
           "showlakes": true,
           "showland": true,
           "subunitcolor": "white"
          },
          "hoverlabel": {
           "align": "left"
          },
          "hovermode": "closest",
          "mapbox": {
           "style": "light"
          },
          "paper_bgcolor": "white",
          "plot_bgcolor": "white",
          "polar": {
           "angularaxis": {
            "gridcolor": "rgb(232,232,232)",
            "linecolor": "rgb(36,36,36)",
            "showgrid": false,
            "showline": true,
            "ticks": "outside"
           },
           "bgcolor": "white",
           "radialaxis": {
            "gridcolor": "rgb(232,232,232)",
            "linecolor": "rgb(36,36,36)",
            "showgrid": false,
            "showline": true,
            "ticks": "outside"
           }
          },
          "scene": {
           "xaxis": {
            "backgroundcolor": "white",
            "gridcolor": "rgb(232,232,232)",
            "gridwidth": 2,
            "linecolor": "rgb(36,36,36)",
            "showbackground": true,
            "showgrid": false,
            "showline": true,
            "ticks": "outside",
            "zeroline": false,
            "zerolinecolor": "rgb(36,36,36)"
           },
           "yaxis": {
            "backgroundcolor": "white",
            "gridcolor": "rgb(232,232,232)",
            "gridwidth": 2,
            "linecolor": "rgb(36,36,36)",
            "showbackground": true,
            "showgrid": false,
            "showline": true,
            "ticks": "outside",
            "zeroline": false,
            "zerolinecolor": "rgb(36,36,36)"
           },
           "zaxis": {
            "backgroundcolor": "white",
            "gridcolor": "rgb(232,232,232)",
            "gridwidth": 2,
            "linecolor": "rgb(36,36,36)",
            "showbackground": true,
            "showgrid": false,
            "showline": true,
            "ticks": "outside",
            "zeroline": false,
            "zerolinecolor": "rgb(36,36,36)"
           }
          },
          "shapedefaults": {
           "fillcolor": "black",
           "line": {
            "width": 0
           },
           "opacity": 0.3
          },
          "ternary": {
           "aaxis": {
            "gridcolor": "rgb(232,232,232)",
            "linecolor": "rgb(36,36,36)",
            "showgrid": false,
            "showline": true,
            "ticks": "outside"
           },
           "baxis": {
            "gridcolor": "rgb(232,232,232)",
            "linecolor": "rgb(36,36,36)",
            "showgrid": false,
            "showline": true,
            "ticks": "outside"
           },
           "bgcolor": "white",
           "caxis": {
            "gridcolor": "rgb(232,232,232)",
            "linecolor": "rgb(36,36,36)",
            "showgrid": false,
            "showline": true,
            "ticks": "outside"
           }
          },
          "title": {
           "x": 0.05
          },
          "xaxis": {
           "automargin": true,
           "gridcolor": "rgb(232,232,232)",
           "linecolor": "rgb(36,36,36)",
           "showgrid": false,
           "showline": true,
           "ticks": "outside",
           "title": {
            "standoff": 15
           },
           "zeroline": false,
           "zerolinecolor": "rgb(36,36,36)"
          },
          "yaxis": {
           "automargin": true,
           "gridcolor": "rgb(232,232,232)",
           "linecolor": "rgb(36,36,36)",
           "showgrid": false,
           "showline": true,
           "ticks": "outside",
           "title": {
            "standoff": 15
           },
           "zeroline": false,
           "zerolinecolor": "rgb(36,36,36)"
          }
         }
        },
        "title": {
         "text": "Top 5 locations matching your search (lag of 2 years)"
        },
        "xaxis": {
         "title": {
          "text": "Year"
         }
        },
        "yaxis": {
         "title": {
          "text": "gdp"
         }
        }
       }
      }
     },
     "metadata": {},
     "output_type": "display_data"
    }
   ],
   "source": [
    "# notice the shift: their year 2019 is aligned with your year 2021!\n",
    "\n",
    "fig = f.show_kins_plot()"
   ]
  },
  {
   "cell_type": "markdown",
   "metadata": {},
   "source": [
    "#### Use case: similarity wrt. to population (but not outcome), with a lag"
   ]
  },
  {
   "cell_type": "code",
   "execution_count": 19,
   "metadata": {},
   "outputs": [
    {
     "data": {
      "application/vnd.plotly.v1+json": {
       "config": {
        "plotlyServerURL": "https://plot.ly"
       },
       "data": [
        {
         "type": "bar",
         "x": [
          "2004_gdp",
          "2005_gdp",
          "2006_gdp",
          "2007_gdp",
          "2008_gdp",
          "2009_gdp",
          "2010_gdp",
          "2011_gdp",
          "2013_gdp",
          "2014_gdp",
          "2015_gdp",
          "2016_gdp",
          "2017_gdp",
          "2018_gdp",
          "2019_gdp",
          "2020_gdp",
          "2021_gdp",
          "1993_population",
          "1994_population",
          "1995_population",
          "1996_population",
          "1997_population",
          "1998_population",
          "1999_population",
          "2000_population",
          "2001_population",
          "2002_population",
          "2003_population",
          "2004_population",
          "2005_population",
          "2006_population",
          "2007_population",
          "2008_population",
          "2009_population",
          "2010_population",
          "2011_population",
          "2012_population",
          "2013_population",
          "2014_population",
          "2015_population",
          "2016_population",
          "2017_population",
          "2018_population",
          "2019_population",
          "2020_population",
          "2021_population"
         ],
         "y": [
          0,
          0,
          0,
          0,
          0,
          0,
          0,
          0,
          0,
          0,
          0,
          0,
          0,
          0,
          0,
          0,
          0,
          0.08845868442653022,
          0.09111244495932613,
          0.09384581830810591,
          0.0966611928573491,
          0.09956102864306958,
          0.10254785950236166,
          0.10562429528743252,
          0.1087930241460555,
          0.11205681487043717,
          0.11541851931655028,
          0.1188810748960468,
          0.1224475071429282,
          0.12612093235721605,
          0.12990456032793254,
          0.13380169713777051,
          0.13781574805190364,
          0.14195022049346076,
          0.14620872710826457,
          0.15059498892151252,
          0.1551128385891579,
          0.15976622374683264,
          0.16455921045923763,
          0.16949598677301475,
          0.1745808663762052,
          0.17981829236749136,
          0.1852128411385161,
          0.1907692263726716,
          0.19649230316385177,
          0.20238707225876731
         ]
        }
       ],
       "layout": {
        "template": {
         "data": {
          "bar": [
           {
            "error_x": {
             "color": "#2a3f5f"
            },
            "error_y": {
             "color": "#2a3f5f"
            },
            "marker": {
             "line": {
              "color": "white",
              "width": 0.5
             },
             "pattern": {
              "fillmode": "overlay",
              "size": 10,
              "solidity": 0.2
             }
            },
            "type": "bar"
           }
          ],
          "barpolar": [
           {
            "marker": {
             "line": {
              "color": "white",
              "width": 0.5
             },
             "pattern": {
              "fillmode": "overlay",
              "size": 10,
              "solidity": 0.2
             }
            },
            "type": "barpolar"
           }
          ],
          "carpet": [
           {
            "aaxis": {
             "endlinecolor": "#2a3f5f",
             "gridcolor": "#C8D4E3",
             "linecolor": "#C8D4E3",
             "minorgridcolor": "#C8D4E3",
             "startlinecolor": "#2a3f5f"
            },
            "baxis": {
             "endlinecolor": "#2a3f5f",
             "gridcolor": "#C8D4E3",
             "linecolor": "#C8D4E3",
             "minorgridcolor": "#C8D4E3",
             "startlinecolor": "#2a3f5f"
            },
            "type": "carpet"
           }
          ],
          "choropleth": [
           {
            "colorbar": {
             "outlinewidth": 0,
             "ticks": ""
            },
            "type": "choropleth"
           }
          ],
          "contour": [
           {
            "colorbar": {
             "outlinewidth": 0,
             "ticks": ""
            },
            "colorscale": [
             [
              0,
              "#0d0887"
             ],
             [
              0.1111111111111111,
              "#46039f"
             ],
             [
              0.2222222222222222,
              "#7201a8"
             ],
             [
              0.3333333333333333,
              "#9c179e"
             ],
             [
              0.4444444444444444,
              "#bd3786"
             ],
             [
              0.5555555555555556,
              "#d8576b"
             ],
             [
              0.6666666666666666,
              "#ed7953"
             ],
             [
              0.7777777777777778,
              "#fb9f3a"
             ],
             [
              0.8888888888888888,
              "#fdca26"
             ],
             [
              1,
              "#f0f921"
             ]
            ],
            "type": "contour"
           }
          ],
          "contourcarpet": [
           {
            "colorbar": {
             "outlinewidth": 0,
             "ticks": ""
            },
            "type": "contourcarpet"
           }
          ],
          "heatmap": [
           {
            "colorbar": {
             "outlinewidth": 0,
             "ticks": ""
            },
            "colorscale": [
             [
              0,
              "#0d0887"
             ],
             [
              0.1111111111111111,
              "#46039f"
             ],
             [
              0.2222222222222222,
              "#7201a8"
             ],
             [
              0.3333333333333333,
              "#9c179e"
             ],
             [
              0.4444444444444444,
              "#bd3786"
             ],
             [
              0.5555555555555556,
              "#d8576b"
             ],
             [
              0.6666666666666666,
              "#ed7953"
             ],
             [
              0.7777777777777778,
              "#fb9f3a"
             ],
             [
              0.8888888888888888,
              "#fdca26"
             ],
             [
              1,
              "#f0f921"
             ]
            ],
            "type": "heatmap"
           }
          ],
          "heatmapgl": [
           {
            "colorbar": {
             "outlinewidth": 0,
             "ticks": ""
            },
            "colorscale": [
             [
              0,
              "#0d0887"
             ],
             [
              0.1111111111111111,
              "#46039f"
             ],
             [
              0.2222222222222222,
              "#7201a8"
             ],
             [
              0.3333333333333333,
              "#9c179e"
             ],
             [
              0.4444444444444444,
              "#bd3786"
             ],
             [
              0.5555555555555556,
              "#d8576b"
             ],
             [
              0.6666666666666666,
              "#ed7953"
             ],
             [
              0.7777777777777778,
              "#fb9f3a"
             ],
             [
              0.8888888888888888,
              "#fdca26"
             ],
             [
              1,
              "#f0f921"
             ]
            ],
            "type": "heatmapgl"
           }
          ],
          "histogram": [
           {
            "marker": {
             "pattern": {
              "fillmode": "overlay",
              "size": 10,
              "solidity": 0.2
             }
            },
            "type": "histogram"
           }
          ],
          "histogram2d": [
           {
            "colorbar": {
             "outlinewidth": 0,
             "ticks": ""
            },
            "colorscale": [
             [
              0,
              "#0d0887"
             ],
             [
              0.1111111111111111,
              "#46039f"
             ],
             [
              0.2222222222222222,
              "#7201a8"
             ],
             [
              0.3333333333333333,
              "#9c179e"
             ],
             [
              0.4444444444444444,
              "#bd3786"
             ],
             [
              0.5555555555555556,
              "#d8576b"
             ],
             [
              0.6666666666666666,
              "#ed7953"
             ],
             [
              0.7777777777777778,
              "#fb9f3a"
             ],
             [
              0.8888888888888888,
              "#fdca26"
             ],
             [
              1,
              "#f0f921"
             ]
            ],
            "type": "histogram2d"
           }
          ],
          "histogram2dcontour": [
           {
            "colorbar": {
             "outlinewidth": 0,
             "ticks": ""
            },
            "colorscale": [
             [
              0,
              "#0d0887"
             ],
             [
              0.1111111111111111,
              "#46039f"
             ],
             [
              0.2222222222222222,
              "#7201a8"
             ],
             [
              0.3333333333333333,
              "#9c179e"
             ],
             [
              0.4444444444444444,
              "#bd3786"
             ],
             [
              0.5555555555555556,
              "#d8576b"
             ],
             [
              0.6666666666666666,
              "#ed7953"
             ],
             [
              0.7777777777777778,
              "#fb9f3a"
             ],
             [
              0.8888888888888888,
              "#fdca26"
             ],
             [
              1,
              "#f0f921"
             ]
            ],
            "type": "histogram2dcontour"
           }
          ],
          "mesh3d": [
           {
            "colorbar": {
             "outlinewidth": 0,
             "ticks": ""
            },
            "type": "mesh3d"
           }
          ],
          "parcoords": [
           {
            "line": {
             "colorbar": {
              "outlinewidth": 0,
              "ticks": ""
             }
            },
            "type": "parcoords"
           }
          ],
          "pie": [
           {
            "automargin": true,
            "type": "pie"
           }
          ],
          "scatter": [
           {
            "fillpattern": {
             "fillmode": "overlay",
             "size": 10,
             "solidity": 0.2
            },
            "type": "scatter"
           }
          ],
          "scatter3d": [
           {
            "line": {
             "colorbar": {
              "outlinewidth": 0,
              "ticks": ""
             }
            },
            "marker": {
             "colorbar": {
              "outlinewidth": 0,
              "ticks": ""
             }
            },
            "type": "scatter3d"
           }
          ],
          "scattercarpet": [
           {
            "marker": {
             "colorbar": {
              "outlinewidth": 0,
              "ticks": ""
             }
            },
            "type": "scattercarpet"
           }
          ],
          "scattergeo": [
           {
            "marker": {
             "colorbar": {
              "outlinewidth": 0,
              "ticks": ""
             }
            },
            "type": "scattergeo"
           }
          ],
          "scattergl": [
           {
            "marker": {
             "colorbar": {
              "outlinewidth": 0,
              "ticks": ""
             }
            },
            "type": "scattergl"
           }
          ],
          "scattermapbox": [
           {
            "marker": {
             "colorbar": {
              "outlinewidth": 0,
              "ticks": ""
             }
            },
            "type": "scattermapbox"
           }
          ],
          "scatterpolar": [
           {
            "marker": {
             "colorbar": {
              "outlinewidth": 0,
              "ticks": ""
             }
            },
            "type": "scatterpolar"
           }
          ],
          "scatterpolargl": [
           {
            "marker": {
             "colorbar": {
              "outlinewidth": 0,
              "ticks": ""
             }
            },
            "type": "scatterpolargl"
           }
          ],
          "scatterternary": [
           {
            "marker": {
             "colorbar": {
              "outlinewidth": 0,
              "ticks": ""
             }
            },
            "type": "scatterternary"
           }
          ],
          "surface": [
           {
            "colorbar": {
             "outlinewidth": 0,
             "ticks": ""
            },
            "colorscale": [
             [
              0,
              "#0d0887"
             ],
             [
              0.1111111111111111,
              "#46039f"
             ],
             [
              0.2222222222222222,
              "#7201a8"
             ],
             [
              0.3333333333333333,
              "#9c179e"
             ],
             [
              0.4444444444444444,
              "#bd3786"
             ],
             [
              0.5555555555555556,
              "#d8576b"
             ],
             [
              0.6666666666666666,
              "#ed7953"
             ],
             [
              0.7777777777777778,
              "#fb9f3a"
             ],
             [
              0.8888888888888888,
              "#fdca26"
             ],
             [
              1,
              "#f0f921"
             ]
            ],
            "type": "surface"
           }
          ],
          "table": [
           {
            "cells": {
             "fill": {
              "color": "#EBF0F8"
             },
             "line": {
              "color": "white"
             }
            },
            "header": {
             "fill": {
              "color": "#C8D4E3"
             },
             "line": {
              "color": "white"
             }
            },
            "type": "table"
           }
          ]
         },
         "layout": {
          "annotationdefaults": {
           "arrowcolor": "#2a3f5f",
           "arrowhead": 0,
           "arrowwidth": 1
          },
          "autotypenumbers": "strict",
          "coloraxis": {
           "colorbar": {
            "outlinewidth": 0,
            "ticks": ""
           }
          },
          "colorscale": {
           "diverging": [
            [
             0,
             "#8e0152"
            ],
            [
             0.1,
             "#c51b7d"
            ],
            [
             0.2,
             "#de77ae"
            ],
            [
             0.3,
             "#f1b6da"
            ],
            [
             0.4,
             "#fde0ef"
            ],
            [
             0.5,
             "#f7f7f7"
            ],
            [
             0.6,
             "#e6f5d0"
            ],
            [
             0.7,
             "#b8e186"
            ],
            [
             0.8,
             "#7fbc41"
            ],
            [
             0.9,
             "#4d9221"
            ],
            [
             1,
             "#276419"
            ]
           ],
           "sequential": [
            [
             0,
             "#0d0887"
            ],
            [
             0.1111111111111111,
             "#46039f"
            ],
            [
             0.2222222222222222,
             "#7201a8"
            ],
            [
             0.3333333333333333,
             "#9c179e"
            ],
            [
             0.4444444444444444,
             "#bd3786"
            ],
            [
             0.5555555555555556,
             "#d8576b"
            ],
            [
             0.6666666666666666,
             "#ed7953"
            ],
            [
             0.7777777777777778,
             "#fb9f3a"
            ],
            [
             0.8888888888888888,
             "#fdca26"
            ],
            [
             1,
             "#f0f921"
            ]
           ],
           "sequentialminus": [
            [
             0,
             "#0d0887"
            ],
            [
             0.1111111111111111,
             "#46039f"
            ],
            [
             0.2222222222222222,
             "#7201a8"
            ],
            [
             0.3333333333333333,
             "#9c179e"
            ],
            [
             0.4444444444444444,
             "#bd3786"
            ],
            [
             0.5555555555555556,
             "#d8576b"
            ],
            [
             0.6666666666666666,
             "#ed7953"
            ],
            [
             0.7777777777777778,
             "#fb9f3a"
            ],
            [
             0.8888888888888888,
             "#fdca26"
            ],
            [
             1,
             "#f0f921"
            ]
           ]
          },
          "colorway": [
           "#636efa",
           "#EF553B",
           "#00cc96",
           "#ab63fa",
           "#FFA15A",
           "#19d3f3",
           "#FF6692",
           "#B6E880",
           "#FF97FF",
           "#FECB52"
          ],
          "font": {
           "color": "#2a3f5f"
          },
          "geo": {
           "bgcolor": "white",
           "lakecolor": "white",
           "landcolor": "white",
           "showlakes": true,
           "showland": true,
           "subunitcolor": "#C8D4E3"
          },
          "hoverlabel": {
           "align": "left"
          },
          "hovermode": "closest",
          "mapbox": {
           "style": "light"
          },
          "paper_bgcolor": "white",
          "plot_bgcolor": "white",
          "polar": {
           "angularaxis": {
            "gridcolor": "#EBF0F8",
            "linecolor": "#EBF0F8",
            "ticks": ""
           },
           "bgcolor": "white",
           "radialaxis": {
            "gridcolor": "#EBF0F8",
            "linecolor": "#EBF0F8",
            "ticks": ""
           }
          },
          "scene": {
           "xaxis": {
            "backgroundcolor": "white",
            "gridcolor": "#DFE8F3",
            "gridwidth": 2,
            "linecolor": "#EBF0F8",
            "showbackground": true,
            "ticks": "",
            "zerolinecolor": "#EBF0F8"
           },
           "yaxis": {
            "backgroundcolor": "white",
            "gridcolor": "#DFE8F3",
            "gridwidth": 2,
            "linecolor": "#EBF0F8",
            "showbackground": true,
            "ticks": "",
            "zerolinecolor": "#EBF0F8"
           },
           "zaxis": {
            "backgroundcolor": "white",
            "gridcolor": "#DFE8F3",
            "gridwidth": 2,
            "linecolor": "#EBF0F8",
            "showbackground": true,
            "ticks": "",
            "zerolinecolor": "#EBF0F8"
           }
          },
          "shapedefaults": {
           "line": {
            "color": "#2a3f5f"
           }
          },
          "ternary": {
           "aaxis": {
            "gridcolor": "#DFE8F3",
            "linecolor": "#A2B1C6",
            "ticks": ""
           },
           "baxis": {
            "gridcolor": "#DFE8F3",
            "linecolor": "#A2B1C6",
            "ticks": ""
           },
           "bgcolor": "white",
           "caxis": {
            "gridcolor": "#DFE8F3",
            "linecolor": "#A2B1C6",
            "ticks": ""
           }
          },
          "title": {
           "x": 0.05
          },
          "xaxis": {
           "automargin": true,
           "gridcolor": "#EBF0F8",
           "linecolor": "#EBF0F8",
           "ticks": "",
           "title": {
            "standoff": 15
           },
           "zerolinecolor": "#EBF0F8",
           "zerolinewidth": 2
          },
          "yaxis": {
           "automargin": true,
           "gridcolor": "#EBF0F8",
           "linecolor": "#EBF0F8",
           "ticks": "",
           "title": {
            "standoff": 15
           },
           "zerolinecolor": "#EBF0F8",
           "zerolinewidth": 2
          }
         }
        },
        "title": {
         "text": "Weights of columns"
        },
        "xaxis": {
         "title": {
          "text": "columns"
         }
        },
        "yaxis": {
         "title": {
          "text": "weights"
         }
        }
       }
      }
     },
     "metadata": {},
     "output_type": "display_data"
    }
   ],
   "source": [
    "f = FipsQuery(\n",
    "    20003,\n",
    "    outcome_var=\"gdp\",\n",
    "    feature_groups_with_weights={\"gdp\": 0, \"population\": 4},\n",
    "    lag=3,\n",
    "    top=10,\n",
    "    time_decay=1.03,\n",
    ")\n",
    "f.find_euclidean_kins()\n",
    "f.plot_weights()"
   ]
  },
  {
   "cell_type": "code",
   "execution_count": 20,
   "metadata": {},
   "outputs": [
    {
     "data": {
      "application/vnd.plotly.v1+json": {
       "config": {
        "plotlyServerURL": "https://plot.ly"
       },
       "data": [
        {
         "line": {
          "color": "darkred",
          "width": 3
         },
         "mode": "lines",
         "name": "Anderson, KS",
         "text": "Anderson, KS",
         "textposition": "top right",
         "type": "scatter",
         "x": [
          2001,
          2002,
          2003,
          2004,
          2005,
          2006,
          2007,
          2008,
          2009,
          2010,
          2011,
          2013,
          2014,
          2015,
          2016,
          2017,
          2018,
          2019,
          2020,
          2021
         ],
         "y": [
          74.59,
          78.511,
          76.836,
          76.589,
          76.548,
          75.401,
          81.577,
          91.311,
          95.643,
          87.817,
          94.166,
          103.952,
          107.351,
          104.642,
          123.926,
          106.269,
          105.016,
          117.576,
          130.217,
          143.895
         ]
        },
        {
         "line": {
          "color": "#FFC0CB"
         },
         "mode": "lines",
         "name": "Searcy, AR",
         "text": "Searcy, AR",
         "textposition": "top right",
         "type": "scatter",
         "x": [
          2004,
          2005,
          2006,
          2007,
          2008,
          2009,
          2010,
          2011,
          2012,
          2013,
          2014,
          2016,
          2017,
          2018,
          2019,
          2020,
          2021,
          2022,
          2023,
          2024
         ],
         "y": [
          90.528,
          97.992,
          101.146,
          104.189,
          106.461,
          112.705,
          106.153,
          100.018,
          98.552,
          107.214,
          102.905,
          98.807,
          99.256,
          96.926,
          101.548,
          115.809,
          112.288,
          117.577,
          114.056,
          119.556
         ]
        },
        {
         "line": {
          "color": "#A9A9A9"
         },
         "mode": "lines",
         "name": "Doniphan, KS",
         "text": "Doniphan, KS",
         "textposition": "top right",
         "type": "scatter",
         "x": [
          2004,
          2005,
          2006,
          2007,
          2008,
          2009,
          2010,
          2011,
          2012,
          2013,
          2014,
          2016,
          2017,
          2018,
          2019,
          2020,
          2021,
          2022,
          2023,
          2024
         ],
         "y": [
          96.019,
          85.88,
          80.674,
          100.728,
          106.243,
          110.814,
          132.605,
          128.517,
          126.329,
          105.067,
          108.161,
          111.953,
          104.826,
          116.704,
          106.677,
          114.562,
          106.366,
          119.4,
          107.301,
          107.132
         ]
        },
        {
         "line": {
          "color": "#87CEFA"
         },
         "mode": "lines",
         "name": "Lincoln, GA",
         "text": "Lincoln, GA",
         "textposition": "top right",
         "type": "scatter",
         "x": [
          2004,
          2005,
          2006,
          2007,
          2008,
          2009,
          2010,
          2011,
          2012,
          2013,
          2014,
          2016,
          2017,
          2018,
          2019,
          2020,
          2021,
          2022,
          2023,
          2024
         ],
         "y": [
          105.269,
          104.599,
          106.313,
          102.832,
          109.49,
          105.428,
          118.19,
          112.823,
          115.715,
          111.459,
          108.252,
          100.753,
          97.406,
          102.081,
          102.229,
          98.661,
          95.957,
          98.276,
          96.241,
          99.451
         ]
        },
        {
         "line": {
          "color": "#FFD700"
         },
         "mode": "lines",
         "name": "Monroe, IA",
         "text": "Monroe, IA",
         "textposition": "top right",
         "type": "scatter",
         "x": [
          2004,
          2005,
          2006,
          2007,
          2008,
          2009,
          2010,
          2011,
          2012,
          2013,
          2014,
          2016,
          2017,
          2018,
          2019,
          2020,
          2021,
          2022,
          2023,
          2024
         ],
         "y": [
          80.83,
          78.299,
          81.98,
          89.798,
          90.345,
          95.037,
          102.527,
          114.486,
          120.5,
          116.286,
          107.43,
          99.366,
          95.596,
          100.399,
          97.7,
          98.123,
          104.999,
          106.039,
          103.193,
          110.844
         ]
        },
        {
         "line": {
          "color": "#98FB98"
         },
         "mode": "lines",
         "name": "Conejos, CO",
         "text": "Conejos, CO",
         "textposition": "top right",
         "type": "scatter",
         "x": [
          2004,
          2005,
          2006,
          2007,
          2008,
          2009,
          2010,
          2011,
          2012,
          2013,
          2014,
          2016,
          2017,
          2018,
          2019,
          2020,
          2021,
          2022,
          2023,
          2024
         ],
         "y": [
          95.296,
          93.98,
          103.146,
          101.505,
          100.837,
          92.954,
          87.007,
          96.985,
          116.207,
          93.326,
          107.368,
          109.646,
          114.182,
          131.162,
          127.44,
          136.575,
          143.467,
          138.931,
          146,
          137.253
         ]
        },
        {
         "line": {
          "color": "#FFC0CB"
         },
         "mode": "lines",
         "name": "Ballard, KY",
         "text": "Ballard, KY",
         "textposition": "top right",
         "type": "scatter",
         "x": [
          2004,
          2005,
          2006,
          2007,
          2008,
          2009,
          2010,
          2011,
          2012,
          2013,
          2014,
          2016,
          2017,
          2018,
          2019,
          2020,
          2021,
          2022,
          2023,
          2024
         ],
         "y": [
          109.013,
          105.897,
          107.213,
          107.554,
          117.147,
          115.141,
          109.497,
          108.722,
          124.611,
          123.416,
          113.701,
          93.233,
          85.93,
          78.632,
          64.37,
          63.74,
          59.569,
          67.92,
          69.371,
          75.013
         ]
        },
        {
         "line": {
          "color": "#A9A9A9"
         },
         "mode": "lines",
         "name": "Franklin, MS",
         "text": "Franklin, MS",
         "textposition": "top right",
         "type": "scatter",
         "x": [
          2004,
          2005,
          2006,
          2007,
          2008,
          2009,
          2010,
          2011,
          2012,
          2013,
          2014,
          2016,
          2017,
          2018,
          2019,
          2020,
          2021,
          2022,
          2023,
          2024
         ],
         "y": [
          74.492,
          78.106,
          78.787,
          78.43,
          82.062,
          85.209,
          74.495,
          81.551,
          88.701,
          95.962,
          97.055,
          94.44,
          90.618,
          92.635,
          94.718,
          94.351,
          95.574,
          97.741,
          98.738,
          98.573
         ]
        },
        {
         "line": {
          "color": "#87CEFA"
         },
         "mode": "lines",
         "name": "McCulloch, TX",
         "text": "McCulloch, TX",
         "textposition": "top right",
         "type": "scatter",
         "x": [
          2004,
          2005,
          2006,
          2007,
          2008,
          2009,
          2010,
          2011,
          2012,
          2013,
          2014,
          2016,
          2017,
          2018,
          2019,
          2020,
          2021,
          2022,
          2023,
          2024
         ],
         "y": [
          65.485,
          67.304,
          72.287,
          71.81,
          70.059,
          74.342,
          79.889,
          91.802,
          71.256,
          77.12,
          93.147,
          104.082,
          107.683,
          102.074,
          94.308,
          104.242,
          110.37,
          96.964,
          88.848,
          90.572
         ]
        },
        {
         "line": {
          "color": "#FFD700"
         },
         "mode": "lines",
         "name": "Dade, MO",
         "text": "Dade, MO",
         "textposition": "top right",
         "type": "scatter",
         "x": [
          2004,
          2005,
          2006,
          2007,
          2008,
          2009,
          2010,
          2011,
          2012,
          2013,
          2014,
          2016,
          2017,
          2018,
          2019,
          2020,
          2021,
          2022,
          2023,
          2024
         ],
         "y": [
          78.201,
          83.996,
          101.197,
          104.307,
          101.729,
          102.668,
          97.203,
          99.999,
          94.254,
          90.734,
          86.254,
          99.804,
          120.798,
          114.377,
          106.884,
          100.33,
          102.952,
          104.238,
          108.52,
          107.023
         ]
        },
        {
         "line": {
          "color": "#98FB98"
         },
         "mode": "lines",
         "name": "Merrick, NE",
         "text": "Merrick, NE",
         "textposition": "top right",
         "type": "scatter",
         "x": [
          2004,
          2005,
          2006,
          2007,
          2008,
          2009,
          2010,
          2011,
          2012,
          2013,
          2014,
          2016,
          2017,
          2018,
          2019,
          2020,
          2021,
          2022,
          2023,
          2024
         ],
         "y": [
          58.496,
          58.374,
          72.326,
          81.666,
          83.238,
          85.081,
          78.882,
          75.376,
          87.559,
          90.913,
          97.539,
          116.654,
          152.532,
          142.808,
          136.253,
          109.077,
          101.66,
          105.809,
          96.843,
          98.967
         ]
        }
       ],
       "layout": {
        "annotations": [
         {
          "font": {
           "color": "darkgray"
          },
          "showarrow": false,
          "text": "their year 2018",
          "x": 2021,
          "xref": "x",
          "y": 1.05,
          "yref": "paper"
         }
        ],
        "legend": {
         "title": {
          "text": "GeoName"
         }
        },
        "shapes": [
         {
          "line": {
           "color": "darkgray",
           "width": 2
          },
          "type": "line",
          "x0": 2021,
          "x1": 2021,
          "xref": "x",
          "y0": 0,
          "y1": 1,
          "yref": "paper"
         }
        ],
        "template": {
         "data": {
          "bar": [
           {
            "error_x": {
             "color": "rgb(36,36,36)"
            },
            "error_y": {
             "color": "rgb(36,36,36)"
            },
            "marker": {
             "line": {
              "color": "white",
              "width": 0.5
             },
             "pattern": {
              "fillmode": "overlay",
              "size": 10,
              "solidity": 0.2
             }
            },
            "type": "bar"
           }
          ],
          "barpolar": [
           {
            "marker": {
             "line": {
              "color": "white",
              "width": 0.5
             },
             "pattern": {
              "fillmode": "overlay",
              "size": 10,
              "solidity": 0.2
             }
            },
            "type": "barpolar"
           }
          ],
          "carpet": [
           {
            "aaxis": {
             "endlinecolor": "rgb(36,36,36)",
             "gridcolor": "white",
             "linecolor": "white",
             "minorgridcolor": "white",
             "startlinecolor": "rgb(36,36,36)"
            },
            "baxis": {
             "endlinecolor": "rgb(36,36,36)",
             "gridcolor": "white",
             "linecolor": "white",
             "minorgridcolor": "white",
             "startlinecolor": "rgb(36,36,36)"
            },
            "type": "carpet"
           }
          ],
          "choropleth": [
           {
            "colorbar": {
             "outlinewidth": 1,
             "tickcolor": "rgb(36,36,36)",
             "ticks": "outside"
            },
            "type": "choropleth"
           }
          ],
          "contour": [
           {
            "colorbar": {
             "outlinewidth": 1,
             "tickcolor": "rgb(36,36,36)",
             "ticks": "outside"
            },
            "colorscale": [
             [
              0,
              "#440154"
             ],
             [
              0.1111111111111111,
              "#482878"
             ],
             [
              0.2222222222222222,
              "#3e4989"
             ],
             [
              0.3333333333333333,
              "#31688e"
             ],
             [
              0.4444444444444444,
              "#26828e"
             ],
             [
              0.5555555555555556,
              "#1f9e89"
             ],
             [
              0.6666666666666666,
              "#35b779"
             ],
             [
              0.7777777777777778,
              "#6ece58"
             ],
             [
              0.8888888888888888,
              "#b5de2b"
             ],
             [
              1,
              "#fde725"
             ]
            ],
            "type": "contour"
           }
          ],
          "contourcarpet": [
           {
            "colorbar": {
             "outlinewidth": 1,
             "tickcolor": "rgb(36,36,36)",
             "ticks": "outside"
            },
            "type": "contourcarpet"
           }
          ],
          "heatmap": [
           {
            "colorbar": {
             "outlinewidth": 1,
             "tickcolor": "rgb(36,36,36)",
             "ticks": "outside"
            },
            "colorscale": [
             [
              0,
              "#440154"
             ],
             [
              0.1111111111111111,
              "#482878"
             ],
             [
              0.2222222222222222,
              "#3e4989"
             ],
             [
              0.3333333333333333,
              "#31688e"
             ],
             [
              0.4444444444444444,
              "#26828e"
             ],
             [
              0.5555555555555556,
              "#1f9e89"
             ],
             [
              0.6666666666666666,
              "#35b779"
             ],
             [
              0.7777777777777778,
              "#6ece58"
             ],
             [
              0.8888888888888888,
              "#b5de2b"
             ],
             [
              1,
              "#fde725"
             ]
            ],
            "type": "heatmap"
           }
          ],
          "heatmapgl": [
           {
            "colorbar": {
             "outlinewidth": 1,
             "tickcolor": "rgb(36,36,36)",
             "ticks": "outside"
            },
            "colorscale": [
             [
              0,
              "#440154"
             ],
             [
              0.1111111111111111,
              "#482878"
             ],
             [
              0.2222222222222222,
              "#3e4989"
             ],
             [
              0.3333333333333333,
              "#31688e"
             ],
             [
              0.4444444444444444,
              "#26828e"
             ],
             [
              0.5555555555555556,
              "#1f9e89"
             ],
             [
              0.6666666666666666,
              "#35b779"
             ],
             [
              0.7777777777777778,
              "#6ece58"
             ],
             [
              0.8888888888888888,
              "#b5de2b"
             ],
             [
              1,
              "#fde725"
             ]
            ],
            "type": "heatmapgl"
           }
          ],
          "histogram": [
           {
            "marker": {
             "line": {
              "color": "white",
              "width": 0.6
             }
            },
            "type": "histogram"
           }
          ],
          "histogram2d": [
           {
            "colorbar": {
             "outlinewidth": 1,
             "tickcolor": "rgb(36,36,36)",
             "ticks": "outside"
            },
            "colorscale": [
             [
              0,
              "#440154"
             ],
             [
              0.1111111111111111,
              "#482878"
             ],
             [
              0.2222222222222222,
              "#3e4989"
             ],
             [
              0.3333333333333333,
              "#31688e"
             ],
             [
              0.4444444444444444,
              "#26828e"
             ],
             [
              0.5555555555555556,
              "#1f9e89"
             ],
             [
              0.6666666666666666,
              "#35b779"
             ],
             [
              0.7777777777777778,
              "#6ece58"
             ],
             [
              0.8888888888888888,
              "#b5de2b"
             ],
             [
              1,
              "#fde725"
             ]
            ],
            "type": "histogram2d"
           }
          ],
          "histogram2dcontour": [
           {
            "colorbar": {
             "outlinewidth": 1,
             "tickcolor": "rgb(36,36,36)",
             "ticks": "outside"
            },
            "colorscale": [
             [
              0,
              "#440154"
             ],
             [
              0.1111111111111111,
              "#482878"
             ],
             [
              0.2222222222222222,
              "#3e4989"
             ],
             [
              0.3333333333333333,
              "#31688e"
             ],
             [
              0.4444444444444444,
              "#26828e"
             ],
             [
              0.5555555555555556,
              "#1f9e89"
             ],
             [
              0.6666666666666666,
              "#35b779"
             ],
             [
              0.7777777777777778,
              "#6ece58"
             ],
             [
              0.8888888888888888,
              "#b5de2b"
             ],
             [
              1,
              "#fde725"
             ]
            ],
            "type": "histogram2dcontour"
           }
          ],
          "mesh3d": [
           {
            "colorbar": {
             "outlinewidth": 1,
             "tickcolor": "rgb(36,36,36)",
             "ticks": "outside"
            },
            "type": "mesh3d"
           }
          ],
          "parcoords": [
           {
            "line": {
             "colorbar": {
              "outlinewidth": 1,
              "tickcolor": "rgb(36,36,36)",
              "ticks": "outside"
             }
            },
            "type": "parcoords"
           }
          ],
          "pie": [
           {
            "automargin": true,
            "type": "pie"
           }
          ],
          "scatter": [
           {
            "fillpattern": {
             "fillmode": "overlay",
             "size": 10,
             "solidity": 0.2
            },
            "type": "scatter"
           }
          ],
          "scatter3d": [
           {
            "line": {
             "colorbar": {
              "outlinewidth": 1,
              "tickcolor": "rgb(36,36,36)",
              "ticks": "outside"
             }
            },
            "marker": {
             "colorbar": {
              "outlinewidth": 1,
              "tickcolor": "rgb(36,36,36)",
              "ticks": "outside"
             }
            },
            "type": "scatter3d"
           }
          ],
          "scattercarpet": [
           {
            "marker": {
             "colorbar": {
              "outlinewidth": 1,
              "tickcolor": "rgb(36,36,36)",
              "ticks": "outside"
             }
            },
            "type": "scattercarpet"
           }
          ],
          "scattergeo": [
           {
            "marker": {
             "colorbar": {
              "outlinewidth": 1,
              "tickcolor": "rgb(36,36,36)",
              "ticks": "outside"
             }
            },
            "type": "scattergeo"
           }
          ],
          "scattergl": [
           {
            "marker": {
             "colorbar": {
              "outlinewidth": 1,
              "tickcolor": "rgb(36,36,36)",
              "ticks": "outside"
             }
            },
            "type": "scattergl"
           }
          ],
          "scattermapbox": [
           {
            "marker": {
             "colorbar": {
              "outlinewidth": 1,
              "tickcolor": "rgb(36,36,36)",
              "ticks": "outside"
             }
            },
            "type": "scattermapbox"
           }
          ],
          "scatterpolar": [
           {
            "marker": {
             "colorbar": {
              "outlinewidth": 1,
              "tickcolor": "rgb(36,36,36)",
              "ticks": "outside"
             }
            },
            "type": "scatterpolar"
           }
          ],
          "scatterpolargl": [
           {
            "marker": {
             "colorbar": {
              "outlinewidth": 1,
              "tickcolor": "rgb(36,36,36)",
              "ticks": "outside"
             }
            },
            "type": "scatterpolargl"
           }
          ],
          "scatterternary": [
           {
            "marker": {
             "colorbar": {
              "outlinewidth": 1,
              "tickcolor": "rgb(36,36,36)",
              "ticks": "outside"
             }
            },
            "type": "scatterternary"
           }
          ],
          "surface": [
           {
            "colorbar": {
             "outlinewidth": 1,
             "tickcolor": "rgb(36,36,36)",
             "ticks": "outside"
            },
            "colorscale": [
             [
              0,
              "#440154"
             ],
             [
              0.1111111111111111,
              "#482878"
             ],
             [
              0.2222222222222222,
              "#3e4989"
             ],
             [
              0.3333333333333333,
              "#31688e"
             ],
             [
              0.4444444444444444,
              "#26828e"
             ],
             [
              0.5555555555555556,
              "#1f9e89"
             ],
             [
              0.6666666666666666,
              "#35b779"
             ],
             [
              0.7777777777777778,
              "#6ece58"
             ],
             [
              0.8888888888888888,
              "#b5de2b"
             ],
             [
              1,
              "#fde725"
             ]
            ],
            "type": "surface"
           }
          ],
          "table": [
           {
            "cells": {
             "fill": {
              "color": "rgb(237,237,237)"
             },
             "line": {
              "color": "white"
             }
            },
            "header": {
             "fill": {
              "color": "rgb(217,217,217)"
             },
             "line": {
              "color": "white"
             }
            },
            "type": "table"
           }
          ]
         },
         "layout": {
          "annotationdefaults": {
           "arrowhead": 0,
           "arrowwidth": 1
          },
          "autotypenumbers": "strict",
          "coloraxis": {
           "colorbar": {
            "outlinewidth": 1,
            "tickcolor": "rgb(36,36,36)",
            "ticks": "outside"
           }
          },
          "colorscale": {
           "diverging": [
            [
             0,
             "rgb(103,0,31)"
            ],
            [
             0.1,
             "rgb(178,24,43)"
            ],
            [
             0.2,
             "rgb(214,96,77)"
            ],
            [
             0.3,
             "rgb(244,165,130)"
            ],
            [
             0.4,
             "rgb(253,219,199)"
            ],
            [
             0.5,
             "rgb(247,247,247)"
            ],
            [
             0.6,
             "rgb(209,229,240)"
            ],
            [
             0.7,
             "rgb(146,197,222)"
            ],
            [
             0.8,
             "rgb(67,147,195)"
            ],
            [
             0.9,
             "rgb(33,102,172)"
            ],
            [
             1,
             "rgb(5,48,97)"
            ]
           ],
           "sequential": [
            [
             0,
             "#440154"
            ],
            [
             0.1111111111111111,
             "#482878"
            ],
            [
             0.2222222222222222,
             "#3e4989"
            ],
            [
             0.3333333333333333,
             "#31688e"
            ],
            [
             0.4444444444444444,
             "#26828e"
            ],
            [
             0.5555555555555556,
             "#1f9e89"
            ],
            [
             0.6666666666666666,
             "#35b779"
            ],
            [
             0.7777777777777778,
             "#6ece58"
            ],
            [
             0.8888888888888888,
             "#b5de2b"
            ],
            [
             1,
             "#fde725"
            ]
           ],
           "sequentialminus": [
            [
             0,
             "#440154"
            ],
            [
             0.1111111111111111,
             "#482878"
            ],
            [
             0.2222222222222222,
             "#3e4989"
            ],
            [
             0.3333333333333333,
             "#31688e"
            ],
            [
             0.4444444444444444,
             "#26828e"
            ],
            [
             0.5555555555555556,
             "#1f9e89"
            ],
            [
             0.6666666666666666,
             "#35b779"
            ],
            [
             0.7777777777777778,
             "#6ece58"
            ],
            [
             0.8888888888888888,
             "#b5de2b"
            ],
            [
             1,
             "#fde725"
            ]
           ]
          },
          "colorway": [
           "#1F77B4",
           "#FF7F0E",
           "#2CA02C",
           "#D62728",
           "#9467BD",
           "#8C564B",
           "#E377C2",
           "#7F7F7F",
           "#BCBD22",
           "#17BECF"
          ],
          "font": {
           "color": "rgb(36,36,36)"
          },
          "geo": {
           "bgcolor": "white",
           "lakecolor": "white",
           "landcolor": "white",
           "showlakes": true,
           "showland": true,
           "subunitcolor": "white"
          },
          "hoverlabel": {
           "align": "left"
          },
          "hovermode": "closest",
          "mapbox": {
           "style": "light"
          },
          "paper_bgcolor": "white",
          "plot_bgcolor": "white",
          "polar": {
           "angularaxis": {
            "gridcolor": "rgb(232,232,232)",
            "linecolor": "rgb(36,36,36)",
            "showgrid": false,
            "showline": true,
            "ticks": "outside"
           },
           "bgcolor": "white",
           "radialaxis": {
            "gridcolor": "rgb(232,232,232)",
            "linecolor": "rgb(36,36,36)",
            "showgrid": false,
            "showline": true,
            "ticks": "outside"
           }
          },
          "scene": {
           "xaxis": {
            "backgroundcolor": "white",
            "gridcolor": "rgb(232,232,232)",
            "gridwidth": 2,
            "linecolor": "rgb(36,36,36)",
            "showbackground": true,
            "showgrid": false,
            "showline": true,
            "ticks": "outside",
            "zeroline": false,
            "zerolinecolor": "rgb(36,36,36)"
           },
           "yaxis": {
            "backgroundcolor": "white",
            "gridcolor": "rgb(232,232,232)",
            "gridwidth": 2,
            "linecolor": "rgb(36,36,36)",
            "showbackground": true,
            "showgrid": false,
            "showline": true,
            "ticks": "outside",
            "zeroline": false,
            "zerolinecolor": "rgb(36,36,36)"
           },
           "zaxis": {
            "backgroundcolor": "white",
            "gridcolor": "rgb(232,232,232)",
            "gridwidth": 2,
            "linecolor": "rgb(36,36,36)",
            "showbackground": true,
            "showgrid": false,
            "showline": true,
            "ticks": "outside",
            "zeroline": false,
            "zerolinecolor": "rgb(36,36,36)"
           }
          },
          "shapedefaults": {
           "fillcolor": "black",
           "line": {
            "width": 0
           },
           "opacity": 0.3
          },
          "ternary": {
           "aaxis": {
            "gridcolor": "rgb(232,232,232)",
            "linecolor": "rgb(36,36,36)",
            "showgrid": false,
            "showline": true,
            "ticks": "outside"
           },
           "baxis": {
            "gridcolor": "rgb(232,232,232)",
            "linecolor": "rgb(36,36,36)",
            "showgrid": false,
            "showline": true,
            "ticks": "outside"
           },
           "bgcolor": "white",
           "caxis": {
            "gridcolor": "rgb(232,232,232)",
            "linecolor": "rgb(36,36,36)",
            "showgrid": false,
            "showline": true,
            "ticks": "outside"
           }
          },
          "title": {
           "x": 0.05
          },
          "xaxis": {
           "automargin": true,
           "gridcolor": "rgb(232,232,232)",
           "linecolor": "rgb(36,36,36)",
           "showgrid": false,
           "showline": true,
           "ticks": "outside",
           "title": {
            "standoff": 15
           },
           "zeroline": false,
           "zerolinecolor": "rgb(36,36,36)"
          },
          "yaxis": {
           "automargin": true,
           "gridcolor": "rgb(232,232,232)",
           "linecolor": "rgb(36,36,36)",
           "showgrid": false,
           "showline": true,
           "ticks": "outside",
           "title": {
            "standoff": 15
           },
           "zeroline": false,
           "zerolinecolor": "rgb(36,36,36)"
          }
         }
        },
        "title": {
         "text": "Top 10 locations matching your search (lag of 3 years)"
        },
        "xaxis": {
         "title": {
          "text": "Year"
         }
        },
        "yaxis": {
         "title": {
          "text": "gdp"
         }
        }
       }
      }
     },
     "metadata": {},
     "output_type": "display_data"
    }
   ],
   "source": [
    "# if you want the full dataframe with distances,\n",
    "# you still can get this\n",
    "# it's just boring to print it all over again\n",
    "# f.find_euclidean_kins()\n",
    "# display(f.euclidean_kins)\n",
    "\n",
    "# or, you can plot the few top ranked cities:\n",
    "fig = f.show_kins_plot()"
   ]
  }
 ],
 "metadata": {
  "kernelspec": {
   "display_name": "chirho",
   "language": "python",
   "name": "python3"
  },
  "language_info": {
   "codemirror_mode": {
    "name": "ipython",
    "version": 3
   },
   "file_extension": ".py",
   "mimetype": "text/x-python",
   "name": "python",
   "nbconvert_exporter": "python",
   "pygments_lexer": "ipython3",
   "version": "3.10.13"
  },
  "orig_nbformat": 4
 },
 "nbformat": 4,
 "nbformat_minor": 2
}
