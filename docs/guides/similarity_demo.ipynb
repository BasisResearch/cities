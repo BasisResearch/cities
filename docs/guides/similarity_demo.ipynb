{
 "cells": [
  {
   "cell_type": "code",
   "execution_count": 1,
   "metadata": {},
   "outputs": [],
   "source": [
    "import pandas as pd\n",
    "import numpy as np\n",
    "import matplotlib.pyplot as plt\n",
    "from plotly import graph_objs as go\n",
    "\n",
    "from cities.utils.data_grabber import DataGrabber, list_available_features, list_tensed_features\n",
    "from cities.queries.fips_query import FipsQuery\n"
   ]
  },
  {
   "cell_type": "code",
   "execution_count": 2,
   "metadata": {},
   "outputs": [
    {
     "name": "stdout",
     "output_type": "stream",
     "text": [
      "['spending_commerce', 'transport', 'spending_transportation', 'spending_HHS', 'ethnic_composition', 'gdp', 'urbanization', 'industry', 'population']\n"
     ]
    },
    {
     "data": {
      "application/vnd.plotly.v1+json": {
       "config": {
        "plotlyServerURL": "https://plot.ly"
       },
       "data": [
        {
         "type": "bar",
         "x": [
          "1993_population",
          "1994_population",
          "1995_population",
          "1996_population",
          "1997_population",
          "1998_population",
          "1999_population",
          "2000_population",
          "2001_population",
          "2002_population",
          "2003_population",
          "2004_population",
          "2005_population",
          "2006_population",
          "2007_population",
          "2008_population",
          "2009_population",
          "2010_population",
          "2011_population",
          "2012_population",
          "2013_population",
          "2014_population",
          "2015_population",
          "2016_population",
          "2017_population",
          "2018_population",
          "2019_population",
          "2020_population",
          "2021_population",
          "2010_spending_HHS",
          "2011_spending_HHS",
          "2012_spending_HHS",
          "2013_spending_HHS",
          "2014_spending_HHS",
          "2015_spending_HHS",
          "2016_spending_HHS",
          "2017_spending_HHS",
          "2018_spending_HHS",
          "2019_spending_HHS",
          "2020_spending_HHS",
          "2021_spending_HHS"
         ],
         "y": [
          0.03847414014225456,
          0.04155207135363493,
          0.04487623706192573,
          0.04846633602687978,
          0.05234364290903017,
          0.056531134341752595,
          0.0610536250890928,
          0.06593791509622024,
          0.07121294830391786,
          0.07690998416823129,
          0.08306278290168981,
          0.08970780553382499,
          0.09688442997653099,
          0.10463518437465348,
          0.11300599912462576,
          0.12204647905459583,
          0.13181019737896352,
          0.14235501316928062,
          0.15374341422282306,
          0.1660428873606489,
          0.17932631834950083,
          0.19367242381746091,
          0.20916621772285782,
          0.22589951514068643,
          0.24397147635194139,
          0.2634891944600967,
          0.28456833001690446,
          0.30733379641825687,
          0.3319205001317174,
          0.15808505077340862,
          0.17073185483528133,
          0.18439040322210384,
          0.19914163547987215,
          0.21507296631826195,
          0.23227880362372297,
          0.25086110791362076,
          0.27092999654671046,
          0.2926043962704473,
          0.3160127479720831,
          0.3412937678098498,
          0.3685972692346378
         ]
        }
       ],
       "layout": {
        "template": {
         "data": {
          "bar": [
           {
            "error_x": {
             "color": "#2a3f5f"
            },
            "error_y": {
             "color": "#2a3f5f"
            },
            "marker": {
             "line": {
              "color": "white",
              "width": 0.5
             },
             "pattern": {
              "fillmode": "overlay",
              "size": 10,
              "solidity": 0.2
             }
            },
            "type": "bar"
           }
          ],
          "barpolar": [
           {
            "marker": {
             "line": {
              "color": "white",
              "width": 0.5
             },
             "pattern": {
              "fillmode": "overlay",
              "size": 10,
              "solidity": 0.2
             }
            },
            "type": "barpolar"
           }
          ],
          "carpet": [
           {
            "aaxis": {
             "endlinecolor": "#2a3f5f",
             "gridcolor": "#C8D4E3",
             "linecolor": "#C8D4E3",
             "minorgridcolor": "#C8D4E3",
             "startlinecolor": "#2a3f5f"
            },
            "baxis": {
             "endlinecolor": "#2a3f5f",
             "gridcolor": "#C8D4E3",
             "linecolor": "#C8D4E3",
             "minorgridcolor": "#C8D4E3",
             "startlinecolor": "#2a3f5f"
            },
            "type": "carpet"
           }
          ],
          "choropleth": [
           {
            "colorbar": {
             "outlinewidth": 0,
             "ticks": ""
            },
            "type": "choropleth"
           }
          ],
          "contour": [
           {
            "colorbar": {
             "outlinewidth": 0,
             "ticks": ""
            },
            "colorscale": [
             [
              0,
              "#0d0887"
             ],
             [
              0.1111111111111111,
              "#46039f"
             ],
             [
              0.2222222222222222,
              "#7201a8"
             ],
             [
              0.3333333333333333,
              "#9c179e"
             ],
             [
              0.4444444444444444,
              "#bd3786"
             ],
             [
              0.5555555555555556,
              "#d8576b"
             ],
             [
              0.6666666666666666,
              "#ed7953"
             ],
             [
              0.7777777777777778,
              "#fb9f3a"
             ],
             [
              0.8888888888888888,
              "#fdca26"
             ],
             [
              1,
              "#f0f921"
             ]
            ],
            "type": "contour"
           }
          ],
          "contourcarpet": [
           {
            "colorbar": {
             "outlinewidth": 0,
             "ticks": ""
            },
            "type": "contourcarpet"
           }
          ],
          "heatmap": [
           {
            "colorbar": {
             "outlinewidth": 0,
             "ticks": ""
            },
            "colorscale": [
             [
              0,
              "#0d0887"
             ],
             [
              0.1111111111111111,
              "#46039f"
             ],
             [
              0.2222222222222222,
              "#7201a8"
             ],
             [
              0.3333333333333333,
              "#9c179e"
             ],
             [
              0.4444444444444444,
              "#bd3786"
             ],
             [
              0.5555555555555556,
              "#d8576b"
             ],
             [
              0.6666666666666666,
              "#ed7953"
             ],
             [
              0.7777777777777778,
              "#fb9f3a"
             ],
             [
              0.8888888888888888,
              "#fdca26"
             ],
             [
              1,
              "#f0f921"
             ]
            ],
            "type": "heatmap"
           }
          ],
          "heatmapgl": [
           {
            "colorbar": {
             "outlinewidth": 0,
             "ticks": ""
            },
            "colorscale": [
             [
              0,
              "#0d0887"
             ],
             [
              0.1111111111111111,
              "#46039f"
             ],
             [
              0.2222222222222222,
              "#7201a8"
             ],
             [
              0.3333333333333333,
              "#9c179e"
             ],
             [
              0.4444444444444444,
              "#bd3786"
             ],
             [
              0.5555555555555556,
              "#d8576b"
             ],
             [
              0.6666666666666666,
              "#ed7953"
             ],
             [
              0.7777777777777778,
              "#fb9f3a"
             ],
             [
              0.8888888888888888,
              "#fdca26"
             ],
             [
              1,
              "#f0f921"
             ]
            ],
            "type": "heatmapgl"
           }
          ],
          "histogram": [
           {
            "marker": {
             "pattern": {
              "fillmode": "overlay",
              "size": 10,
              "solidity": 0.2
             }
            },
            "type": "histogram"
           }
          ],
          "histogram2d": [
           {
            "colorbar": {
             "outlinewidth": 0,
             "ticks": ""
            },
            "colorscale": [
             [
              0,
              "#0d0887"
             ],
             [
              0.1111111111111111,
              "#46039f"
             ],
             [
              0.2222222222222222,
              "#7201a8"
             ],
             [
              0.3333333333333333,
              "#9c179e"
             ],
             [
              0.4444444444444444,
              "#bd3786"
             ],
             [
              0.5555555555555556,
              "#d8576b"
             ],
             [
              0.6666666666666666,
              "#ed7953"
             ],
             [
              0.7777777777777778,
              "#fb9f3a"
             ],
             [
              0.8888888888888888,
              "#fdca26"
             ],
             [
              1,
              "#f0f921"
             ]
            ],
            "type": "histogram2d"
           }
          ],
          "histogram2dcontour": [
           {
            "colorbar": {
             "outlinewidth": 0,
             "ticks": ""
            },
            "colorscale": [
             [
              0,
              "#0d0887"
             ],
             [
              0.1111111111111111,
              "#46039f"
             ],
             [
              0.2222222222222222,
              "#7201a8"
             ],
             [
              0.3333333333333333,
              "#9c179e"
             ],
             [
              0.4444444444444444,
              "#bd3786"
             ],
             [
              0.5555555555555556,
              "#d8576b"
             ],
             [
              0.6666666666666666,
              "#ed7953"
             ],
             [
              0.7777777777777778,
              "#fb9f3a"
             ],
             [
              0.8888888888888888,
              "#fdca26"
             ],
             [
              1,
              "#f0f921"
             ]
            ],
            "type": "histogram2dcontour"
           }
          ],
          "mesh3d": [
           {
            "colorbar": {
             "outlinewidth": 0,
             "ticks": ""
            },
            "type": "mesh3d"
           }
          ],
          "parcoords": [
           {
            "line": {
             "colorbar": {
              "outlinewidth": 0,
              "ticks": ""
             }
            },
            "type": "parcoords"
           }
          ],
          "pie": [
           {
            "automargin": true,
            "type": "pie"
           }
          ],
          "scatter": [
           {
            "fillpattern": {
             "fillmode": "overlay",
             "size": 10,
             "solidity": 0.2
            },
            "type": "scatter"
           }
          ],
          "scatter3d": [
           {
            "line": {
             "colorbar": {
              "outlinewidth": 0,
              "ticks": ""
             }
            },
            "marker": {
             "colorbar": {
              "outlinewidth": 0,
              "ticks": ""
             }
            },
            "type": "scatter3d"
           }
          ],
          "scattercarpet": [
           {
            "marker": {
             "colorbar": {
              "outlinewidth": 0,
              "ticks": ""
             }
            },
            "type": "scattercarpet"
           }
          ],
          "scattergeo": [
           {
            "marker": {
             "colorbar": {
              "outlinewidth": 0,
              "ticks": ""
             }
            },
            "type": "scattergeo"
           }
          ],
          "scattergl": [
           {
            "marker": {
             "colorbar": {
              "outlinewidth": 0,
              "ticks": ""
             }
            },
            "type": "scattergl"
           }
          ],
          "scattermapbox": [
           {
            "marker": {
             "colorbar": {
              "outlinewidth": 0,
              "ticks": ""
             }
            },
            "type": "scattermapbox"
           }
          ],
          "scatterpolar": [
           {
            "marker": {
             "colorbar": {
              "outlinewidth": 0,
              "ticks": ""
             }
            },
            "type": "scatterpolar"
           }
          ],
          "scatterpolargl": [
           {
            "marker": {
             "colorbar": {
              "outlinewidth": 0,
              "ticks": ""
             }
            },
            "type": "scatterpolargl"
           }
          ],
          "scatterternary": [
           {
            "marker": {
             "colorbar": {
              "outlinewidth": 0,
              "ticks": ""
             }
            },
            "type": "scatterternary"
           }
          ],
          "surface": [
           {
            "colorbar": {
             "outlinewidth": 0,
             "ticks": ""
            },
            "colorscale": [
             [
              0,
              "#0d0887"
             ],
             [
              0.1111111111111111,
              "#46039f"
             ],
             [
              0.2222222222222222,
              "#7201a8"
             ],
             [
              0.3333333333333333,
              "#9c179e"
             ],
             [
              0.4444444444444444,
              "#bd3786"
             ],
             [
              0.5555555555555556,
              "#d8576b"
             ],
             [
              0.6666666666666666,
              "#ed7953"
             ],
             [
              0.7777777777777778,
              "#fb9f3a"
             ],
             [
              0.8888888888888888,
              "#fdca26"
             ],
             [
              1,
              "#f0f921"
             ]
            ],
            "type": "surface"
           }
          ],
          "table": [
           {
            "cells": {
             "fill": {
              "color": "#EBF0F8"
             },
             "line": {
              "color": "white"
             }
            },
            "header": {
             "fill": {
              "color": "#C8D4E3"
             },
             "line": {
              "color": "white"
             }
            },
            "type": "table"
           }
          ]
         },
         "layout": {
          "annotationdefaults": {
           "arrowcolor": "#2a3f5f",
           "arrowhead": 0,
           "arrowwidth": 1
          },
          "autotypenumbers": "strict",
          "coloraxis": {
           "colorbar": {
            "outlinewidth": 0,
            "ticks": ""
           }
          },
          "colorscale": {
           "diverging": [
            [
             0,
             "#8e0152"
            ],
            [
             0.1,
             "#c51b7d"
            ],
            [
             0.2,
             "#de77ae"
            ],
            [
             0.3,
             "#f1b6da"
            ],
            [
             0.4,
             "#fde0ef"
            ],
            [
             0.5,
             "#f7f7f7"
            ],
            [
             0.6,
             "#e6f5d0"
            ],
            [
             0.7,
             "#b8e186"
            ],
            [
             0.8,
             "#7fbc41"
            ],
            [
             0.9,
             "#4d9221"
            ],
            [
             1,
             "#276419"
            ]
           ],
           "sequential": [
            [
             0,
             "#0d0887"
            ],
            [
             0.1111111111111111,
             "#46039f"
            ],
            [
             0.2222222222222222,
             "#7201a8"
            ],
            [
             0.3333333333333333,
             "#9c179e"
            ],
            [
             0.4444444444444444,
             "#bd3786"
            ],
            [
             0.5555555555555556,
             "#d8576b"
            ],
            [
             0.6666666666666666,
             "#ed7953"
            ],
            [
             0.7777777777777778,
             "#fb9f3a"
            ],
            [
             0.8888888888888888,
             "#fdca26"
            ],
            [
             1,
             "#f0f921"
            ]
           ],
           "sequentialminus": [
            [
             0,
             "#0d0887"
            ],
            [
             0.1111111111111111,
             "#46039f"
            ],
            [
             0.2222222222222222,
             "#7201a8"
            ],
            [
             0.3333333333333333,
             "#9c179e"
            ],
            [
             0.4444444444444444,
             "#bd3786"
            ],
            [
             0.5555555555555556,
             "#d8576b"
            ],
            [
             0.6666666666666666,
             "#ed7953"
            ],
            [
             0.7777777777777778,
             "#fb9f3a"
            ],
            [
             0.8888888888888888,
             "#fdca26"
            ],
            [
             1,
             "#f0f921"
            ]
           ]
          },
          "colorway": [
           "#636efa",
           "#EF553B",
           "#00cc96",
           "#ab63fa",
           "#FFA15A",
           "#19d3f3",
           "#FF6692",
           "#B6E880",
           "#FF97FF",
           "#FECB52"
          ],
          "font": {
           "color": "#2a3f5f"
          },
          "geo": {
           "bgcolor": "white",
           "lakecolor": "white",
           "landcolor": "white",
           "showlakes": true,
           "showland": true,
           "subunitcolor": "#C8D4E3"
          },
          "hoverlabel": {
           "align": "left"
          },
          "hovermode": "closest",
          "mapbox": {
           "style": "light"
          },
          "paper_bgcolor": "white",
          "plot_bgcolor": "white",
          "polar": {
           "angularaxis": {
            "gridcolor": "#EBF0F8",
            "linecolor": "#EBF0F8",
            "ticks": ""
           },
           "bgcolor": "white",
           "radialaxis": {
            "gridcolor": "#EBF0F8",
            "linecolor": "#EBF0F8",
            "ticks": ""
           }
          },
          "scene": {
           "xaxis": {
            "backgroundcolor": "white",
            "gridcolor": "#DFE8F3",
            "gridwidth": 2,
            "linecolor": "#EBF0F8",
            "showbackground": true,
            "ticks": "",
            "zerolinecolor": "#EBF0F8"
           },
           "yaxis": {
            "backgroundcolor": "white",
            "gridcolor": "#DFE8F3",
            "gridwidth": 2,
            "linecolor": "#EBF0F8",
            "showbackground": true,
            "ticks": "",
            "zerolinecolor": "#EBF0F8"
           },
           "zaxis": {
            "backgroundcolor": "white",
            "gridcolor": "#DFE8F3",
            "gridwidth": 2,
            "linecolor": "#EBF0F8",
            "showbackground": true,
            "ticks": "",
            "zerolinecolor": "#EBF0F8"
           }
          },
          "shapedefaults": {
           "line": {
            "color": "#2a3f5f"
           }
          },
          "ternary": {
           "aaxis": {
            "gridcolor": "#DFE8F3",
            "linecolor": "#A2B1C6",
            "ticks": ""
           },
           "baxis": {
            "gridcolor": "#DFE8F3",
            "linecolor": "#A2B1C6",
            "ticks": ""
           },
           "bgcolor": "white",
           "caxis": {
            "gridcolor": "#DFE8F3",
            "linecolor": "#A2B1C6",
            "ticks": ""
           }
          },
          "title": {
           "x": 0.05
          },
          "xaxis": {
           "automargin": true,
           "gridcolor": "#EBF0F8",
           "linecolor": "#EBF0F8",
           "ticks": "",
           "title": {
            "standoff": 15
           },
           "zerolinecolor": "#EBF0F8",
           "zerolinewidth": 2
          },
          "yaxis": {
           "automargin": true,
           "gridcolor": "#EBF0F8",
           "linecolor": "#EBF0F8",
           "ticks": "",
           "title": {
            "standoff": 15
           },
           "zerolinecolor": "#EBF0F8",
           "zerolinewidth": 2
          }
         }
        },
        "title": {
         "text": "Weights of columns"
        },
        "xaxis": {
         "title": {
          "text": "columns"
         }
        },
        "yaxis": {
         "title": {
          "text": "weights"
         }
        }
       }
      }
     },
     "metadata": {},
     "output_type": "display_data"
    },
    {
     "data": {
      "text/plain": [
       "None"
      ]
     },
     "metadata": {},
     "output_type": "display_data"
    },
    {
     "data": {
      "text/html": [
       "<div>\n",
       "<style scoped>\n",
       "    .dataframe tbody tr th:only-of-type {\n",
       "        vertical-align: middle;\n",
       "    }\n",
       "\n",
       "    .dataframe tbody tr th {\n",
       "        vertical-align: top;\n",
       "    }\n",
       "\n",
       "    .dataframe thead th {\n",
       "        text-align: right;\n",
       "    }\n",
       "</style>\n",
       "<table border=\"1\" class=\"dataframe\">\n",
       "  <thead>\n",
       "    <tr style=\"text-align: right;\">\n",
       "      <th></th>\n",
       "      <th>1993_population</th>\n",
       "      <th>1994_population</th>\n",
       "      <th>1995_population</th>\n",
       "      <th>1996_population</th>\n",
       "      <th>1997_population</th>\n",
       "      <th>1998_population</th>\n",
       "      <th>1999_population</th>\n",
       "      <th>2000_population</th>\n",
       "      <th>2001_population</th>\n",
       "      <th>2002_population</th>\n",
       "      <th>...</th>\n",
       "      <th>2013_spending_HHS</th>\n",
       "      <th>2014_spending_HHS</th>\n",
       "      <th>2015_spending_HHS</th>\n",
       "      <th>2016_spending_HHS</th>\n",
       "      <th>2017_spending_HHS</th>\n",
       "      <th>2018_spending_HHS</th>\n",
       "      <th>2019_spending_HHS</th>\n",
       "      <th>2020_spending_HHS</th>\n",
       "      <th>2021_spending_HHS</th>\n",
       "      <th>distance to 42001</th>\n",
       "    </tr>\n",
       "  </thead>\n",
       "  <tbody>\n",
       "    <tr>\n",
       "      <th>2235</th>\n",
       "      <td>83013.0</td>\n",
       "      <td>84186.0</td>\n",
       "      <td>85063.0</td>\n",
       "      <td>86252.0</td>\n",
       "      <td>87751.0</td>\n",
       "      <td>89074.0</td>\n",
       "      <td>90363.0</td>\n",
       "      <td>91457.0</td>\n",
       "      <td>92591.0</td>\n",
       "      <td>93934.0</td>\n",
       "      <td>...</td>\n",
       "      <td>6.841459e+07</td>\n",
       "      <td>2.843109e+07</td>\n",
       "      <td>1.022756e+07</td>\n",
       "      <td>3.068268e+07</td>\n",
       "      <td>2.081153e+07</td>\n",
       "      <td>3.134013e+07</td>\n",
       "      <td>5.207267e+07</td>\n",
       "      <td>3.151378e+07</td>\n",
       "      <td>4.473508e+07</td>\n",
       "      <td>0.000000</td>\n",
       "    </tr>\n",
       "    <tr>\n",
       "      <th>3006</th>\n",
       "      <td>92876.0</td>\n",
       "      <td>93717.0</td>\n",
       "      <td>94509.0</td>\n",
       "      <td>95529.0</td>\n",
       "      <td>95998.0</td>\n",
       "      <td>96512.0</td>\n",
       "      <td>96985.0</td>\n",
       "      <td>97390.0</td>\n",
       "      <td>97856.0</td>\n",
       "      <td>98097.0</td>\n",
       "      <td>...</td>\n",
       "      <td>2.548639e+07</td>\n",
       "      <td>3.562433e+07</td>\n",
       "      <td>2.471649e+07</td>\n",
       "      <td>3.263073e+07</td>\n",
       "      <td>5.403922e+07</td>\n",
       "      <td>4.703442e+07</td>\n",
       "      <td>5.464052e+07</td>\n",
       "      <td>5.844357e+07</td>\n",
       "      <td>7.377923e+07</td>\n",
       "      <td>0.026253</td>\n",
       "    </tr>\n",
       "    <tr>\n",
       "      <th>1244</th>\n",
       "      <td>96534.0</td>\n",
       "      <td>97920.0</td>\n",
       "      <td>99350.0</td>\n",
       "      <td>100660.0</td>\n",
       "      <td>101474.0</td>\n",
       "      <td>102280.0</td>\n",
       "      <td>102991.0</td>\n",
       "      <td>104000.0</td>\n",
       "      <td>104848.0</td>\n",
       "      <td>105794.0</td>\n",
       "      <td>...</td>\n",
       "      <td>5.135486e+07</td>\n",
       "      <td>1.685584e+07</td>\n",
       "      <td>2.075568e+07</td>\n",
       "      <td>6.394366e+07</td>\n",
       "      <td>2.995285e+07</td>\n",
       "      <td>6.536969e+07</td>\n",
       "      <td>5.782530e+07</td>\n",
       "      <td>6.692654e+07</td>\n",
       "      <td>4.542509e+07</td>\n",
       "      <td>0.030965</td>\n",
       "    </tr>\n",
       "    <tr>\n",
       "      <th>7</th>\n",
       "      <td>116324.0</td>\n",
       "      <td>116161.0</td>\n",
       "      <td>116790.0</td>\n",
       "      <td>116684.0</td>\n",
       "      <td>117254.0</td>\n",
       "      <td>117179.0</td>\n",
       "      <td>114910.0</td>\n",
       "      <td>111081.0</td>\n",
       "      <td>111266.0</td>\n",
       "      <td>111625.0</td>\n",
       "      <td>...</td>\n",
       "      <td>3.943803e+07</td>\n",
       "      <td>4.531137e+07</td>\n",
       "      <td>3.266888e+07</td>\n",
       "      <td>3.188817e+07</td>\n",
       "      <td>3.195046e+07</td>\n",
       "      <td>4.203667e+07</td>\n",
       "      <td>2.714948e+07</td>\n",
       "      <td>2.231390e+07</td>\n",
       "      <td>2.433614e+07</td>\n",
       "      <td>0.033050</td>\n",
       "    </tr>\n",
       "    <tr>\n",
       "      <th>1853</th>\n",
       "      <td>98327.0</td>\n",
       "      <td>98509.0</td>\n",
       "      <td>98816.0</td>\n",
       "      <td>99509.0</td>\n",
       "      <td>99693.0</td>\n",
       "      <td>99603.0</td>\n",
       "      <td>99802.0</td>\n",
       "      <td>100106.0</td>\n",
       "      <td>100819.0</td>\n",
       "      <td>101763.0</td>\n",
       "      <td>...</td>\n",
       "      <td>2.743605e+07</td>\n",
       "      <td>1.820944e+07</td>\n",
       "      <td>7.596719e+06</td>\n",
       "      <td>1.534277e+07</td>\n",
       "      <td>5.635192e+07</td>\n",
       "      <td>2.467059e+07</td>\n",
       "      <td>1.403323e+07</td>\n",
       "      <td>4.650258e+07</td>\n",
       "      <td>4.890882e+07</td>\n",
       "      <td>0.034477</td>\n",
       "    </tr>\n",
       "    <tr>\n",
       "      <th>...</th>\n",
       "      <td>...</td>\n",
       "      <td>...</td>\n",
       "      <td>...</td>\n",
       "      <td>...</td>\n",
       "      <td>...</td>\n",
       "      <td>...</td>\n",
       "      <td>...</td>\n",
       "      <td>...</td>\n",
       "      <td>...</td>\n",
       "      <td>...</td>\n",
       "      <td>...</td>\n",
       "      <td>...</td>\n",
       "      <td>...</td>\n",
       "      <td>...</td>\n",
       "      <td>...</td>\n",
       "      <td>...</td>\n",
       "      <td>...</td>\n",
       "      <td>...</td>\n",
       "      <td>...</td>\n",
       "      <td>...</td>\n",
       "      <td>...</td>\n",
       "    </tr>\n",
       "    <tr>\n",
       "      <th>2384</th>\n",
       "      <td>15660.0</td>\n",
       "      <td>15902.0</td>\n",
       "      <td>15997.0</td>\n",
       "      <td>16082.0</td>\n",
       "      <td>16053.0</td>\n",
       "      <td>16129.0</td>\n",
       "      <td>16386.0</td>\n",
       "      <td>16505.0</td>\n",
       "      <td>16351.0</td>\n",
       "      <td>16479.0</td>\n",
       "      <td>...</td>\n",
       "      <td>4.016453e+09</td>\n",
       "      <td>3.975215e+09</td>\n",
       "      <td>4.085792e+09</td>\n",
       "      <td>3.715688e+09</td>\n",
       "      <td>6.654582e+09</td>\n",
       "      <td>7.660348e+09</td>\n",
       "      <td>1.127461e+10</td>\n",
       "      <td>1.530217e+10</td>\n",
       "      <td>1.712052e+10</td>\n",
       "      <td>2.369198</td>\n",
       "    </tr>\n",
       "    <tr>\n",
       "      <th>2740</th>\n",
       "      <td>649226.0</td>\n",
       "      <td>671759.0</td>\n",
       "      <td>696278.0</td>\n",
       "      <td>717194.0</td>\n",
       "      <td>736587.0</td>\n",
       "      <td>761335.0</td>\n",
       "      <td>788500.0</td>\n",
       "      <td>819692.0</td>\n",
       "      <td>844877.0</td>\n",
       "      <td>848090.0</td>\n",
       "      <td>...</td>\n",
       "      <td>2.225282e+11</td>\n",
       "      <td>2.231797e+11</td>\n",
       "      <td>2.118196e+11</td>\n",
       "      <td>2.138400e+11</td>\n",
       "      <td>2.527288e+11</td>\n",
       "      <td>3.552319e+11</td>\n",
       "      <td>4.896949e+11</td>\n",
       "      <td>6.288495e+11</td>\n",
       "      <td>7.776532e+11</td>\n",
       "      <td>2.469107</td>\n",
       "    </tr>\n",
       "    <tr>\n",
       "      <th>198</th>\n",
       "      <td>9100159.0</td>\n",
       "      <td>9096608.0</td>\n",
       "      <td>9089015.0</td>\n",
       "      <td>9127042.0</td>\n",
       "      <td>9206538.0</td>\n",
       "      <td>9313589.0</td>\n",
       "      <td>9437290.0</td>\n",
       "      <td>9538191.0</td>\n",
       "      <td>9626034.0</td>\n",
       "      <td>9705913.0</td>\n",
       "      <td>...</td>\n",
       "      <td>2.348763e+10</td>\n",
       "      <td>2.294435e+10</td>\n",
       "      <td>2.502567e+10</td>\n",
       "      <td>2.839330e+10</td>\n",
       "      <td>3.868660e+10</td>\n",
       "      <td>5.899629e+10</td>\n",
       "      <td>1.410259e+11</td>\n",
       "      <td>2.187211e+11</td>\n",
       "      <td>2.577860e+11</td>\n",
       "      <td>2.725159</td>\n",
       "    </tr>\n",
       "    <tr>\n",
       "      <th>1819</th>\n",
       "      <td>298592.0</td>\n",
       "      <td>300262.0</td>\n",
       "      <td>299725.0</td>\n",
       "      <td>297680.0</td>\n",
       "      <td>296187.0</td>\n",
       "      <td>295097.0</td>\n",
       "      <td>294692.0</td>\n",
       "      <td>295106.0</td>\n",
       "      <td>296232.0</td>\n",
       "      <td>298283.0</td>\n",
       "      <td>...</td>\n",
       "      <td>3.271360e+11</td>\n",
       "      <td>3.134117e+11</td>\n",
       "      <td>3.894925e+11</td>\n",
       "      <td>3.271486e+11</td>\n",
       "      <td>7.462131e+11</td>\n",
       "      <td>6.579396e+11</td>\n",
       "      <td>8.941410e+11</td>\n",
       "      <td>9.732370e+11</td>\n",
       "      <td>9.351828e+11</td>\n",
       "      <td>2.941499</td>\n",
       "    </tr>\n",
       "    <tr>\n",
       "      <th>213</th>\n",
       "      <td>1127608.0</td>\n",
       "      <td>1130094.0</td>\n",
       "      <td>1140825.0</td>\n",
       "      <td>1155635.0</td>\n",
       "      <td>1169855.0</td>\n",
       "      <td>1186617.0</td>\n",
       "      <td>1206659.0</td>\n",
       "      <td>1229940.0</td>\n",
       "      <td>1266257.0</td>\n",
       "      <td>1301079.0</td>\n",
       "      <td>...</td>\n",
       "      <td>3.614194e+11</td>\n",
       "      <td>4.741250e+11</td>\n",
       "      <td>3.639794e+11</td>\n",
       "      <td>3.878961e+11</td>\n",
       "      <td>3.388018e+11</td>\n",
       "      <td>1.298456e+12</td>\n",
       "      <td>1.235765e+12</td>\n",
       "      <td>1.717218e+12</td>\n",
       "      <td>1.842294e+12</td>\n",
       "      <td>3.359044</td>\n",
       "    </tr>\n",
       "  </tbody>\n",
       "</table>\n",
       "<p>3082 rows × 42 columns</p>\n",
       "</div>"
      ],
      "text/plain": [
       "      1993_population  1994_population  1995_population  1996_population  \\\n",
       "2235          83013.0          84186.0          85063.0          86252.0   \n",
       "3006          92876.0          93717.0          94509.0          95529.0   \n",
       "1244          96534.0          97920.0          99350.0         100660.0   \n",
       "7            116324.0         116161.0         116790.0         116684.0   \n",
       "1853          98327.0          98509.0          98816.0          99509.0   \n",
       "...               ...              ...              ...              ...   \n",
       "2384          15660.0          15902.0          15997.0          16082.0   \n",
       "2740         649226.0         671759.0         696278.0         717194.0   \n",
       "198         9100159.0        9096608.0        9089015.0        9127042.0   \n",
       "1819         298592.0         300262.0         299725.0         297680.0   \n",
       "213         1127608.0        1130094.0        1140825.0        1155635.0   \n",
       "\n",
       "      1997_population  1998_population  1999_population  2000_population  \\\n",
       "2235          87751.0          89074.0          90363.0          91457.0   \n",
       "3006          95998.0          96512.0          96985.0          97390.0   \n",
       "1244         101474.0         102280.0         102991.0         104000.0   \n",
       "7            117254.0         117179.0         114910.0         111081.0   \n",
       "1853          99693.0          99603.0          99802.0         100106.0   \n",
       "...               ...              ...              ...              ...   \n",
       "2384          16053.0          16129.0          16386.0          16505.0   \n",
       "2740         736587.0         761335.0         788500.0         819692.0   \n",
       "198         9206538.0        9313589.0        9437290.0        9538191.0   \n",
       "1819         296187.0         295097.0         294692.0         295106.0   \n",
       "213         1169855.0        1186617.0        1206659.0        1229940.0   \n",
       "\n",
       "      2001_population  2002_population  ...  2013_spending_HHS  \\\n",
       "2235          92591.0          93934.0  ...       6.841459e+07   \n",
       "3006          97856.0          98097.0  ...       2.548639e+07   \n",
       "1244         104848.0         105794.0  ...       5.135486e+07   \n",
       "7            111266.0         111625.0  ...       3.943803e+07   \n",
       "1853         100819.0         101763.0  ...       2.743605e+07   \n",
       "...               ...              ...  ...                ...   \n",
       "2384          16351.0          16479.0  ...       4.016453e+09   \n",
       "2740         844877.0         848090.0  ...       2.225282e+11   \n",
       "198         9626034.0        9705913.0  ...       2.348763e+10   \n",
       "1819         296232.0         298283.0  ...       3.271360e+11   \n",
       "213         1266257.0        1301079.0  ...       3.614194e+11   \n",
       "\n",
       "      2014_spending_HHS  2015_spending_HHS  2016_spending_HHS  \\\n",
       "2235       2.843109e+07       1.022756e+07       3.068268e+07   \n",
       "3006       3.562433e+07       2.471649e+07       3.263073e+07   \n",
       "1244       1.685584e+07       2.075568e+07       6.394366e+07   \n",
       "7          4.531137e+07       3.266888e+07       3.188817e+07   \n",
       "1853       1.820944e+07       7.596719e+06       1.534277e+07   \n",
       "...                 ...                ...                ...   \n",
       "2384       3.975215e+09       4.085792e+09       3.715688e+09   \n",
       "2740       2.231797e+11       2.118196e+11       2.138400e+11   \n",
       "198        2.294435e+10       2.502567e+10       2.839330e+10   \n",
       "1819       3.134117e+11       3.894925e+11       3.271486e+11   \n",
       "213        4.741250e+11       3.639794e+11       3.878961e+11   \n",
       "\n",
       "      2017_spending_HHS  2018_spending_HHS  2019_spending_HHS  \\\n",
       "2235       2.081153e+07       3.134013e+07       5.207267e+07   \n",
       "3006       5.403922e+07       4.703442e+07       5.464052e+07   \n",
       "1244       2.995285e+07       6.536969e+07       5.782530e+07   \n",
       "7          3.195046e+07       4.203667e+07       2.714948e+07   \n",
       "1853       5.635192e+07       2.467059e+07       1.403323e+07   \n",
       "...                 ...                ...                ...   \n",
       "2384       6.654582e+09       7.660348e+09       1.127461e+10   \n",
       "2740       2.527288e+11       3.552319e+11       4.896949e+11   \n",
       "198        3.868660e+10       5.899629e+10       1.410259e+11   \n",
       "1819       7.462131e+11       6.579396e+11       8.941410e+11   \n",
       "213        3.388018e+11       1.298456e+12       1.235765e+12   \n",
       "\n",
       "      2020_spending_HHS  2021_spending_HHS  distance to 42001  \n",
       "2235       3.151378e+07       4.473508e+07           0.000000  \n",
       "3006       5.844357e+07       7.377923e+07           0.026253  \n",
       "1244       6.692654e+07       4.542509e+07           0.030965  \n",
       "7          2.231390e+07       2.433614e+07           0.033050  \n",
       "1853       4.650258e+07       4.890882e+07           0.034477  \n",
       "...                 ...                ...                ...  \n",
       "2384       1.530217e+10       1.712052e+10           2.369198  \n",
       "2740       6.288495e+11       7.776532e+11           2.469107  \n",
       "198        2.187211e+11       2.577860e+11           2.725159  \n",
       "1819       9.732370e+11       9.351828e+11           2.941499  \n",
       "213        1.717218e+12       1.842294e+12           3.359044  \n",
       "\n",
       "[3082 rows x 42 columns]"
      ]
     },
     "metadata": {},
     "output_type": "display_data"
    }
   ],
   "source": [
    "# You don't want to pass outcome and are interested in similarities\n",
    "print(list_available_features())\n",
    "f  = FipsQuery(42001, feature_groups_with_weights= {\"population\":4, \"spending_HHS\": 3})\n",
    "f.find_euclidean_kins()\n",
    "display(f.plot_weights())\n",
    "display(f.euclidean_kins)"
   ]
  },
  {
   "cell_type": "code",
   "execution_count": 3,
   "metadata": {},
   "outputs": [
    {
     "name": "stdout",
     "output_type": "stream",
     "text": [
      "['spending_commerce', 'transport', 'spending_transportation', 'spending_HHS', 'ethnic_composition', 'gdp', 'urbanization', 'industry', 'population']\n"
     ]
    },
    {
     "data": {
      "application/vnd.plotly.v1+json": {
       "config": {
        "plotlyServerURL": "https://plot.ly"
       },
       "data": [
        {
         "type": "bar",
         "x": [
          "2010_spending_HHS",
          "2011_spending_HHS",
          "2012_spending_HHS",
          "2013_spending_HHS",
          "2014_spending_HHS",
          "2015_spending_HHS",
          "2016_spending_HHS",
          "2017_spending_HHS",
          "2018_spending_HHS",
          "2019_spending_HHS",
          "2020_spending_HHS",
          "2021_spending_HHS",
          "1993_population",
          "1994_population",
          "1995_population",
          "1996_population",
          "1997_population",
          "1998_population",
          "1999_population",
          "2000_population",
          "2001_population",
          "2002_population",
          "2003_population",
          "2004_population",
          "2005_population",
          "2006_population",
          "2007_population",
          "2008_population",
          "2009_population",
          "2010_population",
          "2011_population",
          "2012_population",
          "2013_population",
          "2014_population",
          "2015_population",
          "2016_population",
          "2017_population",
          "2018_population",
          "2019_population",
          "2020_population",
          "2021_population"
         ],
         "y": [
          0,
          0,
          0,
          0,
          0,
          0,
          0,
          0,
          0,
          0,
          0,
          0,
          0.03847414014225456,
          0.04155207135363493,
          0.04487623706192573,
          0.04846633602687978,
          0.05234364290903017,
          0.056531134341752595,
          0.0610536250890928,
          0.06593791509622024,
          0.07121294830391786,
          0.07690998416823129,
          0.08306278290168981,
          0.08970780553382499,
          0.09688442997653099,
          0.10463518437465348,
          0.11300599912462576,
          0.12204647905459583,
          0.13181019737896352,
          0.14235501316928062,
          0.15374341422282306,
          0.1660428873606489,
          0.17932631834950083,
          0.19367242381746091,
          0.20916621772285782,
          0.22589951514068643,
          0.24397147635194139,
          0.2634891944600967,
          0.28456833001690446,
          0.30733379641825687,
          0.3319205001317174
         ]
        }
       ],
       "layout": {
        "template": {
         "data": {
          "bar": [
           {
            "error_x": {
             "color": "#2a3f5f"
            },
            "error_y": {
             "color": "#2a3f5f"
            },
            "marker": {
             "line": {
              "color": "white",
              "width": 0.5
             },
             "pattern": {
              "fillmode": "overlay",
              "size": 10,
              "solidity": 0.2
             }
            },
            "type": "bar"
           }
          ],
          "barpolar": [
           {
            "marker": {
             "line": {
              "color": "white",
              "width": 0.5
             },
             "pattern": {
              "fillmode": "overlay",
              "size": 10,
              "solidity": 0.2
             }
            },
            "type": "barpolar"
           }
          ],
          "carpet": [
           {
            "aaxis": {
             "endlinecolor": "#2a3f5f",
             "gridcolor": "#C8D4E3",
             "linecolor": "#C8D4E3",
             "minorgridcolor": "#C8D4E3",
             "startlinecolor": "#2a3f5f"
            },
            "baxis": {
             "endlinecolor": "#2a3f5f",
             "gridcolor": "#C8D4E3",
             "linecolor": "#C8D4E3",
             "minorgridcolor": "#C8D4E3",
             "startlinecolor": "#2a3f5f"
            },
            "type": "carpet"
           }
          ],
          "choropleth": [
           {
            "colorbar": {
             "outlinewidth": 0,
             "ticks": ""
            },
            "type": "choropleth"
           }
          ],
          "contour": [
           {
            "colorbar": {
             "outlinewidth": 0,
             "ticks": ""
            },
            "colorscale": [
             [
              0,
              "#0d0887"
             ],
             [
              0.1111111111111111,
              "#46039f"
             ],
             [
              0.2222222222222222,
              "#7201a8"
             ],
             [
              0.3333333333333333,
              "#9c179e"
             ],
             [
              0.4444444444444444,
              "#bd3786"
             ],
             [
              0.5555555555555556,
              "#d8576b"
             ],
             [
              0.6666666666666666,
              "#ed7953"
             ],
             [
              0.7777777777777778,
              "#fb9f3a"
             ],
             [
              0.8888888888888888,
              "#fdca26"
             ],
             [
              1,
              "#f0f921"
             ]
            ],
            "type": "contour"
           }
          ],
          "contourcarpet": [
           {
            "colorbar": {
             "outlinewidth": 0,
             "ticks": ""
            },
            "type": "contourcarpet"
           }
          ],
          "heatmap": [
           {
            "colorbar": {
             "outlinewidth": 0,
             "ticks": ""
            },
            "colorscale": [
             [
              0,
              "#0d0887"
             ],
             [
              0.1111111111111111,
              "#46039f"
             ],
             [
              0.2222222222222222,
              "#7201a8"
             ],
             [
              0.3333333333333333,
              "#9c179e"
             ],
             [
              0.4444444444444444,
              "#bd3786"
             ],
             [
              0.5555555555555556,
              "#d8576b"
             ],
             [
              0.6666666666666666,
              "#ed7953"
             ],
             [
              0.7777777777777778,
              "#fb9f3a"
             ],
             [
              0.8888888888888888,
              "#fdca26"
             ],
             [
              1,
              "#f0f921"
             ]
            ],
            "type": "heatmap"
           }
          ],
          "heatmapgl": [
           {
            "colorbar": {
             "outlinewidth": 0,
             "ticks": ""
            },
            "colorscale": [
             [
              0,
              "#0d0887"
             ],
             [
              0.1111111111111111,
              "#46039f"
             ],
             [
              0.2222222222222222,
              "#7201a8"
             ],
             [
              0.3333333333333333,
              "#9c179e"
             ],
             [
              0.4444444444444444,
              "#bd3786"
             ],
             [
              0.5555555555555556,
              "#d8576b"
             ],
             [
              0.6666666666666666,
              "#ed7953"
             ],
             [
              0.7777777777777778,
              "#fb9f3a"
             ],
             [
              0.8888888888888888,
              "#fdca26"
             ],
             [
              1,
              "#f0f921"
             ]
            ],
            "type": "heatmapgl"
           }
          ],
          "histogram": [
           {
            "marker": {
             "pattern": {
              "fillmode": "overlay",
              "size": 10,
              "solidity": 0.2
             }
            },
            "type": "histogram"
           }
          ],
          "histogram2d": [
           {
            "colorbar": {
             "outlinewidth": 0,
             "ticks": ""
            },
            "colorscale": [
             [
              0,
              "#0d0887"
             ],
             [
              0.1111111111111111,
              "#46039f"
             ],
             [
              0.2222222222222222,
              "#7201a8"
             ],
             [
              0.3333333333333333,
              "#9c179e"
             ],
             [
              0.4444444444444444,
              "#bd3786"
             ],
             [
              0.5555555555555556,
              "#d8576b"
             ],
             [
              0.6666666666666666,
              "#ed7953"
             ],
             [
              0.7777777777777778,
              "#fb9f3a"
             ],
             [
              0.8888888888888888,
              "#fdca26"
             ],
             [
              1,
              "#f0f921"
             ]
            ],
            "type": "histogram2d"
           }
          ],
          "histogram2dcontour": [
           {
            "colorbar": {
             "outlinewidth": 0,
             "ticks": ""
            },
            "colorscale": [
             [
              0,
              "#0d0887"
             ],
             [
              0.1111111111111111,
              "#46039f"
             ],
             [
              0.2222222222222222,
              "#7201a8"
             ],
             [
              0.3333333333333333,
              "#9c179e"
             ],
             [
              0.4444444444444444,
              "#bd3786"
             ],
             [
              0.5555555555555556,
              "#d8576b"
             ],
             [
              0.6666666666666666,
              "#ed7953"
             ],
             [
              0.7777777777777778,
              "#fb9f3a"
             ],
             [
              0.8888888888888888,
              "#fdca26"
             ],
             [
              1,
              "#f0f921"
             ]
            ],
            "type": "histogram2dcontour"
           }
          ],
          "mesh3d": [
           {
            "colorbar": {
             "outlinewidth": 0,
             "ticks": ""
            },
            "type": "mesh3d"
           }
          ],
          "parcoords": [
           {
            "line": {
             "colorbar": {
              "outlinewidth": 0,
              "ticks": ""
             }
            },
            "type": "parcoords"
           }
          ],
          "pie": [
           {
            "automargin": true,
            "type": "pie"
           }
          ],
          "scatter": [
           {
            "fillpattern": {
             "fillmode": "overlay",
             "size": 10,
             "solidity": 0.2
            },
            "type": "scatter"
           }
          ],
          "scatter3d": [
           {
            "line": {
             "colorbar": {
              "outlinewidth": 0,
              "ticks": ""
             }
            },
            "marker": {
             "colorbar": {
              "outlinewidth": 0,
              "ticks": ""
             }
            },
            "type": "scatter3d"
           }
          ],
          "scattercarpet": [
           {
            "marker": {
             "colorbar": {
              "outlinewidth": 0,
              "ticks": ""
             }
            },
            "type": "scattercarpet"
           }
          ],
          "scattergeo": [
           {
            "marker": {
             "colorbar": {
              "outlinewidth": 0,
              "ticks": ""
             }
            },
            "type": "scattergeo"
           }
          ],
          "scattergl": [
           {
            "marker": {
             "colorbar": {
              "outlinewidth": 0,
              "ticks": ""
             }
            },
            "type": "scattergl"
           }
          ],
          "scattermapbox": [
           {
            "marker": {
             "colorbar": {
              "outlinewidth": 0,
              "ticks": ""
             }
            },
            "type": "scattermapbox"
           }
          ],
          "scatterpolar": [
           {
            "marker": {
             "colorbar": {
              "outlinewidth": 0,
              "ticks": ""
             }
            },
            "type": "scatterpolar"
           }
          ],
          "scatterpolargl": [
           {
            "marker": {
             "colorbar": {
              "outlinewidth": 0,
              "ticks": ""
             }
            },
            "type": "scatterpolargl"
           }
          ],
          "scatterternary": [
           {
            "marker": {
             "colorbar": {
              "outlinewidth": 0,
              "ticks": ""
             }
            },
            "type": "scatterternary"
           }
          ],
          "surface": [
           {
            "colorbar": {
             "outlinewidth": 0,
             "ticks": ""
            },
            "colorscale": [
             [
              0,
              "#0d0887"
             ],
             [
              0.1111111111111111,
              "#46039f"
             ],
             [
              0.2222222222222222,
              "#7201a8"
             ],
             [
              0.3333333333333333,
              "#9c179e"
             ],
             [
              0.4444444444444444,
              "#bd3786"
             ],
             [
              0.5555555555555556,
              "#d8576b"
             ],
             [
              0.6666666666666666,
              "#ed7953"
             ],
             [
              0.7777777777777778,
              "#fb9f3a"
             ],
             [
              0.8888888888888888,
              "#fdca26"
             ],
             [
              1,
              "#f0f921"
             ]
            ],
            "type": "surface"
           }
          ],
          "table": [
           {
            "cells": {
             "fill": {
              "color": "#EBF0F8"
             },
             "line": {
              "color": "white"
             }
            },
            "header": {
             "fill": {
              "color": "#C8D4E3"
             },
             "line": {
              "color": "white"
             }
            },
            "type": "table"
           }
          ]
         },
         "layout": {
          "annotationdefaults": {
           "arrowcolor": "#2a3f5f",
           "arrowhead": 0,
           "arrowwidth": 1
          },
          "autotypenumbers": "strict",
          "coloraxis": {
           "colorbar": {
            "outlinewidth": 0,
            "ticks": ""
           }
          },
          "colorscale": {
           "diverging": [
            [
             0,
             "#8e0152"
            ],
            [
             0.1,
             "#c51b7d"
            ],
            [
             0.2,
             "#de77ae"
            ],
            [
             0.3,
             "#f1b6da"
            ],
            [
             0.4,
             "#fde0ef"
            ],
            [
             0.5,
             "#f7f7f7"
            ],
            [
             0.6,
             "#e6f5d0"
            ],
            [
             0.7,
             "#b8e186"
            ],
            [
             0.8,
             "#7fbc41"
            ],
            [
             0.9,
             "#4d9221"
            ],
            [
             1,
             "#276419"
            ]
           ],
           "sequential": [
            [
             0,
             "#0d0887"
            ],
            [
             0.1111111111111111,
             "#46039f"
            ],
            [
             0.2222222222222222,
             "#7201a8"
            ],
            [
             0.3333333333333333,
             "#9c179e"
            ],
            [
             0.4444444444444444,
             "#bd3786"
            ],
            [
             0.5555555555555556,
             "#d8576b"
            ],
            [
             0.6666666666666666,
             "#ed7953"
            ],
            [
             0.7777777777777778,
             "#fb9f3a"
            ],
            [
             0.8888888888888888,
             "#fdca26"
            ],
            [
             1,
             "#f0f921"
            ]
           ],
           "sequentialminus": [
            [
             0,
             "#0d0887"
            ],
            [
             0.1111111111111111,
             "#46039f"
            ],
            [
             0.2222222222222222,
             "#7201a8"
            ],
            [
             0.3333333333333333,
             "#9c179e"
            ],
            [
             0.4444444444444444,
             "#bd3786"
            ],
            [
             0.5555555555555556,
             "#d8576b"
            ],
            [
             0.6666666666666666,
             "#ed7953"
            ],
            [
             0.7777777777777778,
             "#fb9f3a"
            ],
            [
             0.8888888888888888,
             "#fdca26"
            ],
            [
             1,
             "#f0f921"
            ]
           ]
          },
          "colorway": [
           "#636efa",
           "#EF553B",
           "#00cc96",
           "#ab63fa",
           "#FFA15A",
           "#19d3f3",
           "#FF6692",
           "#B6E880",
           "#FF97FF",
           "#FECB52"
          ],
          "font": {
           "color": "#2a3f5f"
          },
          "geo": {
           "bgcolor": "white",
           "lakecolor": "white",
           "landcolor": "white",
           "showlakes": true,
           "showland": true,
           "subunitcolor": "#C8D4E3"
          },
          "hoverlabel": {
           "align": "left"
          },
          "hovermode": "closest",
          "mapbox": {
           "style": "light"
          },
          "paper_bgcolor": "white",
          "plot_bgcolor": "white",
          "polar": {
           "angularaxis": {
            "gridcolor": "#EBF0F8",
            "linecolor": "#EBF0F8",
            "ticks": ""
           },
           "bgcolor": "white",
           "radialaxis": {
            "gridcolor": "#EBF0F8",
            "linecolor": "#EBF0F8",
            "ticks": ""
           }
          },
          "scene": {
           "xaxis": {
            "backgroundcolor": "white",
            "gridcolor": "#DFE8F3",
            "gridwidth": 2,
            "linecolor": "#EBF0F8",
            "showbackground": true,
            "ticks": "",
            "zerolinecolor": "#EBF0F8"
           },
           "yaxis": {
            "backgroundcolor": "white",
            "gridcolor": "#DFE8F3",
            "gridwidth": 2,
            "linecolor": "#EBF0F8",
            "showbackground": true,
            "ticks": "",
            "zerolinecolor": "#EBF0F8"
           },
           "zaxis": {
            "backgroundcolor": "white",
            "gridcolor": "#DFE8F3",
            "gridwidth": 2,
            "linecolor": "#EBF0F8",
            "showbackground": true,
            "ticks": "",
            "zerolinecolor": "#EBF0F8"
           }
          },
          "shapedefaults": {
           "line": {
            "color": "#2a3f5f"
           }
          },
          "ternary": {
           "aaxis": {
            "gridcolor": "#DFE8F3",
            "linecolor": "#A2B1C6",
            "ticks": ""
           },
           "baxis": {
            "gridcolor": "#DFE8F3",
            "linecolor": "#A2B1C6",
            "ticks": ""
           },
           "bgcolor": "white",
           "caxis": {
            "gridcolor": "#DFE8F3",
            "linecolor": "#A2B1C6",
            "ticks": ""
           }
          },
          "title": {
           "x": 0.05
          },
          "xaxis": {
           "automargin": true,
           "gridcolor": "#EBF0F8",
           "linecolor": "#EBF0F8",
           "ticks": "",
           "title": {
            "standoff": 15
           },
           "zerolinecolor": "#EBF0F8",
           "zerolinewidth": 2
          },
          "yaxis": {
           "automargin": true,
           "gridcolor": "#EBF0F8",
           "linecolor": "#EBF0F8",
           "ticks": "",
           "title": {
            "standoff": 15
           },
           "zerolinecolor": "#EBF0F8",
           "zerolinewidth": 2
          }
         }
        },
        "title": {
         "text": "Weights of columns"
        },
        "xaxis": {
         "title": {
          "text": "columns"
         }
        },
        "yaxis": {
         "title": {
          "text": "weights"
         }
        }
       }
      }
     },
     "metadata": {},
     "output_type": "display_data"
    },
    {
     "data": {
      "text/plain": [
       "None"
      ]
     },
     "metadata": {},
     "output_type": "display_data"
    },
    {
     "data": {
      "text/html": [
       "<div>\n",
       "<style scoped>\n",
       "    .dataframe tbody tr th:only-of-type {\n",
       "        vertical-align: middle;\n",
       "    }\n",
       "\n",
       "    .dataframe tbody tr th {\n",
       "        vertical-align: top;\n",
       "    }\n",
       "\n",
       "    .dataframe thead th {\n",
       "        text-align: right;\n",
       "    }\n",
       "</style>\n",
       "<table border=\"1\" class=\"dataframe\">\n",
       "  <thead>\n",
       "    <tr style=\"text-align: right;\">\n",
       "      <th></th>\n",
       "      <th>GeoFIPS</th>\n",
       "      <th>GeoName</th>\n",
       "      <th>2010</th>\n",
       "      <th>2011</th>\n",
       "      <th>2012</th>\n",
       "      <th>2013</th>\n",
       "      <th>2014</th>\n",
       "      <th>2015</th>\n",
       "      <th>2016</th>\n",
       "      <th>2017</th>\n",
       "      <th>...</th>\n",
       "      <th>2014_population</th>\n",
       "      <th>2015_population</th>\n",
       "      <th>2016_population</th>\n",
       "      <th>2017_population</th>\n",
       "      <th>2018_population</th>\n",
       "      <th>2019_population</th>\n",
       "      <th>2020_population</th>\n",
       "      <th>2021_population</th>\n",
       "      <th>distance to 42001</th>\n",
       "      <th>percentile</th>\n",
       "    </tr>\n",
       "  </thead>\n",
       "  <tbody>\n",
       "    <tr>\n",
       "      <th>0</th>\n",
       "      <td>42001</td>\n",
       "      <td>Adams, PA</td>\n",
       "      <td>2.771827e+07</td>\n",
       "      <td>2.855134e+07</td>\n",
       "      <td>1.427164e+07</td>\n",
       "      <td>6.841459e+07</td>\n",
       "      <td>2.843109e+07</td>\n",
       "      <td>1.022756e+07</td>\n",
       "      <td>3.068268e+07</td>\n",
       "      <td>2.081153e+07</td>\n",
       "      <td>...</td>\n",
       "      <td>101830.0</td>\n",
       "      <td>102411.0</td>\n",
       "      <td>102625.0</td>\n",
       "      <td>103414.0</td>\n",
       "      <td>103932.0</td>\n",
       "      <td>103778.0</td>\n",
       "      <td>103795.0</td>\n",
       "      <td>104127.0</td>\n",
       "      <td>0.000000</td>\n",
       "      <td>63.85</td>\n",
       "    </tr>\n",
       "    <tr>\n",
       "      <th>1</th>\n",
       "      <td>55039</td>\n",
       "      <td>Fond du Lac, WI</td>\n",
       "      <td>3.610418e+07</td>\n",
       "      <td>2.696325e+07</td>\n",
       "      <td>3.833402e+07</td>\n",
       "      <td>2.548639e+07</td>\n",
       "      <td>3.562433e+07</td>\n",
       "      <td>2.471649e+07</td>\n",
       "      <td>3.263073e+07</td>\n",
       "      <td>5.403922e+07</td>\n",
       "      <td>...</td>\n",
       "      <td>102495.0</td>\n",
       "      <td>102590.0</td>\n",
       "      <td>102927.0</td>\n",
       "      <td>103180.0</td>\n",
       "      <td>103754.0</td>\n",
       "      <td>104175.0</td>\n",
       "      <td>104076.0</td>\n",
       "      <td>104362.0</td>\n",
       "      <td>0.004093</td>\n",
       "      <td>69.34</td>\n",
       "    </tr>\n",
       "    <tr>\n",
       "      <th>2</th>\n",
       "      <td>29071</td>\n",
       "      <td>Franklin, MO</td>\n",
       "      <td>0.000000e+00</td>\n",
       "      <td>0.000000e+00</td>\n",
       "      <td>0.000000e+00</td>\n",
       "      <td>0.000000e+00</td>\n",
       "      <td>0.000000e+00</td>\n",
       "      <td>0.000000e+00</td>\n",
       "      <td>0.000000e+00</td>\n",
       "      <td>0.000000e+00</td>\n",
       "      <td>...</td>\n",
       "      <td>102058.0</td>\n",
       "      <td>102429.0</td>\n",
       "      <td>102952.0</td>\n",
       "      <td>103563.0</td>\n",
       "      <td>103967.0</td>\n",
       "      <td>104137.0</td>\n",
       "      <td>104769.0</td>\n",
       "      <td>105231.0</td>\n",
       "      <td>0.008424</td>\n",
       "      <td>44.71</td>\n",
       "    </tr>\n",
       "    <tr>\n",
       "      <th>3</th>\n",
       "      <td>1055</td>\n",
       "      <td>Etowah, AL</td>\n",
       "      <td>1.649418e+08</td>\n",
       "      <td>1.154164e+09</td>\n",
       "      <td>2.897688e+08</td>\n",
       "      <td>1.134255e+09</td>\n",
       "      <td>6.389997e+08</td>\n",
       "      <td>8.881343e+08</td>\n",
       "      <td>1.031911e+09</td>\n",
       "      <td>9.080343e+08</td>\n",
       "      <td>...</td>\n",
       "      <td>103880.0</td>\n",
       "      <td>103601.0</td>\n",
       "      <td>103603.0</td>\n",
       "      <td>103854.0</td>\n",
       "      <td>103646.0</td>\n",
       "      <td>103440.0</td>\n",
       "      <td>103393.0</td>\n",
       "      <td>103162.0</td>\n",
       "      <td>0.008731</td>\n",
       "      <td>90.56</td>\n",
       "    </tr>\n",
       "    <tr>\n",
       "      <th>4</th>\n",
       "      <td>26017</td>\n",
       "      <td>Bay, MI</td>\n",
       "      <td>2.073759e+06</td>\n",
       "      <td>1.232872e+06</td>\n",
       "      <td>5.381210e+05</td>\n",
       "      <td>8.434320e+05</td>\n",
       "      <td>1.047389e+06</td>\n",
       "      <td>1.047389e+06</td>\n",
       "      <td>2.580589e+06</td>\n",
       "      <td>4.565004e+06</td>\n",
       "      <td>...</td>\n",
       "      <td>106599.0</td>\n",
       "      <td>105916.0</td>\n",
       "      <td>105184.0</td>\n",
       "      <td>104967.0</td>\n",
       "      <td>104674.0</td>\n",
       "      <td>104079.0</td>\n",
       "      <td>103594.0</td>\n",
       "      <td>102985.0</td>\n",
       "      <td>0.011795</td>\n",
       "      <td>52.34</td>\n",
       "    </tr>\n",
       "    <tr>\n",
       "      <th>...</th>\n",
       "      <td>...</td>\n",
       "      <td>...</td>\n",
       "      <td>...</td>\n",
       "      <td>...</td>\n",
       "      <td>...</td>\n",
       "      <td>...</td>\n",
       "      <td>...</td>\n",
       "      <td>...</td>\n",
       "      <td>...</td>\n",
       "      <td>...</td>\n",
       "      <td>...</td>\n",
       "      <td>...</td>\n",
       "      <td>...</td>\n",
       "      <td>...</td>\n",
       "      <td>...</td>\n",
       "      <td>...</td>\n",
       "      <td>...</td>\n",
       "      <td>...</td>\n",
       "      <td>...</td>\n",
       "      <td>...</td>\n",
       "      <td>...</td>\n",
       "    </tr>\n",
       "    <tr>\n",
       "      <th>3077</th>\n",
       "      <td>31005</td>\n",
       "      <td>Arthur, NE</td>\n",
       "      <td>0.000000e+00</td>\n",
       "      <td>0.000000e+00</td>\n",
       "      <td>0.000000e+00</td>\n",
       "      <td>0.000000e+00</td>\n",
       "      <td>0.000000e+00</td>\n",
       "      <td>0.000000e+00</td>\n",
       "      <td>0.000000e+00</td>\n",
       "      <td>0.000000e+00</td>\n",
       "      <td>...</td>\n",
       "      <td>437.0</td>\n",
       "      <td>433.0</td>\n",
       "      <td>445.0</td>\n",
       "      <td>432.0</td>\n",
       "      <td>435.0</td>\n",
       "      <td>436.0</td>\n",
       "      <td>431.0</td>\n",
       "      <td>439.0</td>\n",
       "      <td>1.977809</td>\n",
       "      <td>0.00</td>\n",
       "    </tr>\n",
       "    <tr>\n",
       "      <th>3078</th>\n",
       "      <td>48261</td>\n",
       "      <td>Kenedy, TX</td>\n",
       "      <td>0.000000e+00</td>\n",
       "      <td>0.000000e+00</td>\n",
       "      <td>0.000000e+00</td>\n",
       "      <td>0.000000e+00</td>\n",
       "      <td>0.000000e+00</td>\n",
       "      <td>0.000000e+00</td>\n",
       "      <td>0.000000e+00</td>\n",
       "      <td>0.000000e+00</td>\n",
       "      <td>...</td>\n",
       "      <td>421.0</td>\n",
       "      <td>421.0</td>\n",
       "      <td>404.0</td>\n",
       "      <td>383.0</td>\n",
       "      <td>389.0</td>\n",
       "      <td>355.0</td>\n",
       "      <td>346.0</td>\n",
       "      <td>340.0</td>\n",
       "      <td>1.978614</td>\n",
       "      <td>0.00</td>\n",
       "    </tr>\n",
       "    <tr>\n",
       "      <th>3079</th>\n",
       "      <td>48269</td>\n",
       "      <td>King, TX</td>\n",
       "      <td>0.000000e+00</td>\n",
       "      <td>0.000000e+00</td>\n",
       "      <td>0.000000e+00</td>\n",
       "      <td>0.000000e+00</td>\n",
       "      <td>0.000000e+00</td>\n",
       "      <td>0.000000e+00</td>\n",
       "      <td>0.000000e+00</td>\n",
       "      <td>0.000000e+00</td>\n",
       "      <td>...</td>\n",
       "      <td>257.0</td>\n",
       "      <td>273.0</td>\n",
       "      <td>281.0</td>\n",
       "      <td>278.0</td>\n",
       "      <td>265.0</td>\n",
       "      <td>256.0</td>\n",
       "      <td>270.0</td>\n",
       "      <td>258.0</td>\n",
       "      <td>1.980969</td>\n",
       "      <td>0.00</td>\n",
       "    </tr>\n",
       "    <tr>\n",
       "      <th>3080</th>\n",
       "      <td>48301</td>\n",
       "      <td>Loving, TX</td>\n",
       "      <td>0.000000e+00</td>\n",
       "      <td>0.000000e+00</td>\n",
       "      <td>0.000000e+00</td>\n",
       "      <td>0.000000e+00</td>\n",
       "      <td>0.000000e+00</td>\n",
       "      <td>0.000000e+00</td>\n",
       "      <td>0.000000e+00</td>\n",
       "      <td>0.000000e+00</td>\n",
       "      <td>...</td>\n",
       "      <td>59.0</td>\n",
       "      <td>72.0</td>\n",
       "      <td>64.0</td>\n",
       "      <td>66.0</td>\n",
       "      <td>67.0</td>\n",
       "      <td>67.0</td>\n",
       "      <td>67.0</td>\n",
       "      <td>57.0</td>\n",
       "      <td>1.985240</td>\n",
       "      <td>0.00</td>\n",
       "    </tr>\n",
       "    <tr>\n",
       "      <th>3081</th>\n",
       "      <td>6037</td>\n",
       "      <td>Los Angeles, CA</td>\n",
       "      <td>1.842950e+10</td>\n",
       "      <td>2.759321e+10</td>\n",
       "      <td>2.170315e+10</td>\n",
       "      <td>2.348763e+10</td>\n",
       "      <td>2.294435e+10</td>\n",
       "      <td>2.502567e+10</td>\n",
       "      <td>2.839330e+10</td>\n",
       "      <td>3.868660e+10</td>\n",
       "      <td>...</td>\n",
       "      <td>10051511.0</td>\n",
       "      <td>10099677.0</td>\n",
       "      <td>10121673.0</td>\n",
       "      <td>10123521.0</td>\n",
       "      <td>10096986.0</td>\n",
       "      <td>10051154.0</td>\n",
       "      <td>9989165.0</td>\n",
       "      <td>9829544.0</td>\n",
       "      <td>2.014902</td>\n",
       "      <td>99.64</td>\n",
       "    </tr>\n",
       "  </tbody>\n",
       "</table>\n",
       "<p>3082 rows × 45 columns</p>\n",
       "</div>"
      ],
      "text/plain": [
       "      GeoFIPS          GeoName          2010          2011          2012  \\\n",
       "0       42001        Adams, PA  2.771827e+07  2.855134e+07  1.427164e+07   \n",
       "1       55039  Fond du Lac, WI  3.610418e+07  2.696325e+07  3.833402e+07   \n",
       "2       29071     Franklin, MO  0.000000e+00  0.000000e+00  0.000000e+00   \n",
       "3        1055       Etowah, AL  1.649418e+08  1.154164e+09  2.897688e+08   \n",
       "4       26017          Bay, MI  2.073759e+06  1.232872e+06  5.381210e+05   \n",
       "...       ...              ...           ...           ...           ...   \n",
       "3077    31005       Arthur, NE  0.000000e+00  0.000000e+00  0.000000e+00   \n",
       "3078    48261       Kenedy, TX  0.000000e+00  0.000000e+00  0.000000e+00   \n",
       "3079    48269         King, TX  0.000000e+00  0.000000e+00  0.000000e+00   \n",
       "3080    48301       Loving, TX  0.000000e+00  0.000000e+00  0.000000e+00   \n",
       "3081     6037  Los Angeles, CA  1.842950e+10  2.759321e+10  2.170315e+10   \n",
       "\n",
       "              2013          2014          2015          2016          2017  \\\n",
       "0     6.841459e+07  2.843109e+07  1.022756e+07  3.068268e+07  2.081153e+07   \n",
       "1     2.548639e+07  3.562433e+07  2.471649e+07  3.263073e+07  5.403922e+07   \n",
       "2     0.000000e+00  0.000000e+00  0.000000e+00  0.000000e+00  0.000000e+00   \n",
       "3     1.134255e+09  6.389997e+08  8.881343e+08  1.031911e+09  9.080343e+08   \n",
       "4     8.434320e+05  1.047389e+06  1.047389e+06  2.580589e+06  4.565004e+06   \n",
       "...            ...           ...           ...           ...           ...   \n",
       "3077  0.000000e+00  0.000000e+00  0.000000e+00  0.000000e+00  0.000000e+00   \n",
       "3078  0.000000e+00  0.000000e+00  0.000000e+00  0.000000e+00  0.000000e+00   \n",
       "3079  0.000000e+00  0.000000e+00  0.000000e+00  0.000000e+00  0.000000e+00   \n",
       "3080  0.000000e+00  0.000000e+00  0.000000e+00  0.000000e+00  0.000000e+00   \n",
       "3081  2.348763e+10  2.294435e+10  2.502567e+10  2.839330e+10  3.868660e+10   \n",
       "\n",
       "      ...  2014_population  2015_population  2016_population  2017_population  \\\n",
       "0     ...         101830.0         102411.0         102625.0         103414.0   \n",
       "1     ...         102495.0         102590.0         102927.0         103180.0   \n",
       "2     ...         102058.0         102429.0         102952.0         103563.0   \n",
       "3     ...         103880.0         103601.0         103603.0         103854.0   \n",
       "4     ...         106599.0         105916.0         105184.0         104967.0   \n",
       "...   ...              ...              ...              ...              ...   \n",
       "3077  ...            437.0            433.0            445.0            432.0   \n",
       "3078  ...            421.0            421.0            404.0            383.0   \n",
       "3079  ...            257.0            273.0            281.0            278.0   \n",
       "3080  ...             59.0             72.0             64.0             66.0   \n",
       "3081  ...       10051511.0       10099677.0       10121673.0       10123521.0   \n",
       "\n",
       "      2018_population  2019_population  2020_population  2021_population  \\\n",
       "0            103932.0         103778.0         103795.0         104127.0   \n",
       "1            103754.0         104175.0         104076.0         104362.0   \n",
       "2            103967.0         104137.0         104769.0         105231.0   \n",
       "3            103646.0         103440.0         103393.0         103162.0   \n",
       "4            104674.0         104079.0         103594.0         102985.0   \n",
       "...               ...              ...              ...              ...   \n",
       "3077            435.0            436.0            431.0            439.0   \n",
       "3078            389.0            355.0            346.0            340.0   \n",
       "3079            265.0            256.0            270.0            258.0   \n",
       "3080             67.0             67.0             67.0             57.0   \n",
       "3081       10096986.0       10051154.0        9989165.0        9829544.0   \n",
       "\n",
       "      distance to 42001  percentile  \n",
       "0              0.000000       63.85  \n",
       "1              0.004093       69.34  \n",
       "2              0.008424       44.71  \n",
       "3              0.008731       90.56  \n",
       "4              0.011795       52.34  \n",
       "...                 ...         ...  \n",
       "3077           1.977809        0.00  \n",
       "3078           1.978614        0.00  \n",
       "3079           1.980969        0.00  \n",
       "3080           1.985240        0.00  \n",
       "3081           2.014902       99.64  \n",
       "\n",
       "[3082 rows x 45 columns]"
      ]
     },
     "metadata": {},
     "output_type": "display_data"
    }
   ],
   "source": [
    "# you want to pass an outcome but give it weight 0 in similarity calculations\n",
    "\n",
    "print(list_available_features())\n",
    "f  = FipsQuery(42001, outcome_var = \"spending_HHS\", feature_groups_with_weights= {\"spending_HHS\": 0, \"population\":4})\n",
    "f.find_euclidean_kins()\n",
    "display(f.plot_weights())\n",
    "display(f.euclidean_kins)"
   ]
  },
  {
   "cell_type": "code",
   "execution_count": 4,
   "metadata": {},
   "outputs": [
    {
     "data": {
      "application/vnd.plotly.v1+json": {
       "config": {
        "plotlyServerURL": "https://plot.ly"
       },
       "data": [
        {
         "type": "bar",
         "x": [
          "2001_gdp",
          "2002_gdp",
          "2003_gdp",
          "2004_gdp",
          "2005_gdp",
          "2006_gdp",
          "2007_gdp",
          "2008_gdp",
          "2009_gdp",
          "2010_gdp",
          "2011_gdp",
          "2013_gdp",
          "2014_gdp",
          "2015_gdp",
          "2016_gdp",
          "2017_gdp",
          "2018_gdp",
          "2019_gdp",
          "2020_gdp",
          "2021_gdp",
          "1993_population",
          "1994_population",
          "1995_population",
          "1996_population",
          "1997_population",
          "1998_population",
          "1999_population",
          "2000_population",
          "2001_population",
          "2002_population",
          "2003_population",
          "2004_population",
          "2005_population",
          "2006_population",
          "2007_population",
          "2008_population",
          "2009_population",
          "2010_population",
          "2011_population",
          "2012_population",
          "2013_population",
          "2014_population",
          "2015_population",
          "2016_population",
          "2017_population",
          "2018_population",
          "2019_population",
          "2020_population",
          "2021_population"
         ],
         "y": [
          -0.07443141519371825,
          -0.07666435764952981,
          -0.07896428837901569,
          -0.08133321703038617,
          -0.08377321354129776,
          -0.08628640994753668,
          -0.08887500224596279,
          -0.09154125231334168,
          -0.09428748988274194,
          -0.0971161145792242,
          -0.10002959801660093,
          -0.10303048595709895,
          -0.10612140053581191,
          -0.10930504255188629,
          -0.11258419382844288,
          -0.11596171964329616,
          -0.11944057123259505,
          -0.12302378836957291,
          -0.12671450202066012,
          -0.1305159370812799,
          0.022114671106632556,
          0.022778111239831533,
          0.02346145457702648,
          0.024165298214337275,
          0.024890257160767395,
          0.025636964875590414,
          0.02640607382185813,
          0.027198256036513876,
          0.028014203717609293,
          0.02885462982913757,
          0.0297202687240117,
          0.03061187678573205,
          0.03153023308930401,
          0.032476140081983136,
          0.03345042428444263,
          0.03445393701297591,
          0.03548755512336519,
          0.036552181777066144,
          0.03764874723037813,
          0.03877820964728947,
          0.03994155593670816,
          0.04113980261480941,
          0.04237399669325369,
          0.0436452165940513,
          0.04495457309187284,
          0.046303210284629026,
          0.0476923065931679,
          0.04912307579096294,
          0.05059676806469183
         ]
        }
       ],
       "layout": {
        "template": {
         "data": {
          "bar": [
           {
            "error_x": {
             "color": "#2a3f5f"
            },
            "error_y": {
             "color": "#2a3f5f"
            },
            "marker": {
             "line": {
              "color": "white",
              "width": 0.5
             },
             "pattern": {
              "fillmode": "overlay",
              "size": 10,
              "solidity": 0.2
             }
            },
            "type": "bar"
           }
          ],
          "barpolar": [
           {
            "marker": {
             "line": {
              "color": "white",
              "width": 0.5
             },
             "pattern": {
              "fillmode": "overlay",
              "size": 10,
              "solidity": 0.2
             }
            },
            "type": "barpolar"
           }
          ],
          "carpet": [
           {
            "aaxis": {
             "endlinecolor": "#2a3f5f",
             "gridcolor": "#C8D4E3",
             "linecolor": "#C8D4E3",
             "minorgridcolor": "#C8D4E3",
             "startlinecolor": "#2a3f5f"
            },
            "baxis": {
             "endlinecolor": "#2a3f5f",
             "gridcolor": "#C8D4E3",
             "linecolor": "#C8D4E3",
             "minorgridcolor": "#C8D4E3",
             "startlinecolor": "#2a3f5f"
            },
            "type": "carpet"
           }
          ],
          "choropleth": [
           {
            "colorbar": {
             "outlinewidth": 0,
             "ticks": ""
            },
            "type": "choropleth"
           }
          ],
          "contour": [
           {
            "colorbar": {
             "outlinewidth": 0,
             "ticks": ""
            },
            "colorscale": [
             [
              0,
              "#0d0887"
             ],
             [
              0.1111111111111111,
              "#46039f"
             ],
             [
              0.2222222222222222,
              "#7201a8"
             ],
             [
              0.3333333333333333,
              "#9c179e"
             ],
             [
              0.4444444444444444,
              "#bd3786"
             ],
             [
              0.5555555555555556,
              "#d8576b"
             ],
             [
              0.6666666666666666,
              "#ed7953"
             ],
             [
              0.7777777777777778,
              "#fb9f3a"
             ],
             [
              0.8888888888888888,
              "#fdca26"
             ],
             [
              1,
              "#f0f921"
             ]
            ],
            "type": "contour"
           }
          ],
          "contourcarpet": [
           {
            "colorbar": {
             "outlinewidth": 0,
             "ticks": ""
            },
            "type": "contourcarpet"
           }
          ],
          "heatmap": [
           {
            "colorbar": {
             "outlinewidth": 0,
             "ticks": ""
            },
            "colorscale": [
             [
              0,
              "#0d0887"
             ],
             [
              0.1111111111111111,
              "#46039f"
             ],
             [
              0.2222222222222222,
              "#7201a8"
             ],
             [
              0.3333333333333333,
              "#9c179e"
             ],
             [
              0.4444444444444444,
              "#bd3786"
             ],
             [
              0.5555555555555556,
              "#d8576b"
             ],
             [
              0.6666666666666666,
              "#ed7953"
             ],
             [
              0.7777777777777778,
              "#fb9f3a"
             ],
             [
              0.8888888888888888,
              "#fdca26"
             ],
             [
              1,
              "#f0f921"
             ]
            ],
            "type": "heatmap"
           }
          ],
          "heatmapgl": [
           {
            "colorbar": {
             "outlinewidth": 0,
             "ticks": ""
            },
            "colorscale": [
             [
              0,
              "#0d0887"
             ],
             [
              0.1111111111111111,
              "#46039f"
             ],
             [
              0.2222222222222222,
              "#7201a8"
             ],
             [
              0.3333333333333333,
              "#9c179e"
             ],
             [
              0.4444444444444444,
              "#bd3786"
             ],
             [
              0.5555555555555556,
              "#d8576b"
             ],
             [
              0.6666666666666666,
              "#ed7953"
             ],
             [
              0.7777777777777778,
              "#fb9f3a"
             ],
             [
              0.8888888888888888,
              "#fdca26"
             ],
             [
              1,
              "#f0f921"
             ]
            ],
            "type": "heatmapgl"
           }
          ],
          "histogram": [
           {
            "marker": {
             "pattern": {
              "fillmode": "overlay",
              "size": 10,
              "solidity": 0.2
             }
            },
            "type": "histogram"
           }
          ],
          "histogram2d": [
           {
            "colorbar": {
             "outlinewidth": 0,
             "ticks": ""
            },
            "colorscale": [
             [
              0,
              "#0d0887"
             ],
             [
              0.1111111111111111,
              "#46039f"
             ],
             [
              0.2222222222222222,
              "#7201a8"
             ],
             [
              0.3333333333333333,
              "#9c179e"
             ],
             [
              0.4444444444444444,
              "#bd3786"
             ],
             [
              0.5555555555555556,
              "#d8576b"
             ],
             [
              0.6666666666666666,
              "#ed7953"
             ],
             [
              0.7777777777777778,
              "#fb9f3a"
             ],
             [
              0.8888888888888888,
              "#fdca26"
             ],
             [
              1,
              "#f0f921"
             ]
            ],
            "type": "histogram2d"
           }
          ],
          "histogram2dcontour": [
           {
            "colorbar": {
             "outlinewidth": 0,
             "ticks": ""
            },
            "colorscale": [
             [
              0,
              "#0d0887"
             ],
             [
              0.1111111111111111,
              "#46039f"
             ],
             [
              0.2222222222222222,
              "#7201a8"
             ],
             [
              0.3333333333333333,
              "#9c179e"
             ],
             [
              0.4444444444444444,
              "#bd3786"
             ],
             [
              0.5555555555555556,
              "#d8576b"
             ],
             [
              0.6666666666666666,
              "#ed7953"
             ],
             [
              0.7777777777777778,
              "#fb9f3a"
             ],
             [
              0.8888888888888888,
              "#fdca26"
             ],
             [
              1,
              "#f0f921"
             ]
            ],
            "type": "histogram2dcontour"
           }
          ],
          "mesh3d": [
           {
            "colorbar": {
             "outlinewidth": 0,
             "ticks": ""
            },
            "type": "mesh3d"
           }
          ],
          "parcoords": [
           {
            "line": {
             "colorbar": {
              "outlinewidth": 0,
              "ticks": ""
             }
            },
            "type": "parcoords"
           }
          ],
          "pie": [
           {
            "automargin": true,
            "type": "pie"
           }
          ],
          "scatter": [
           {
            "fillpattern": {
             "fillmode": "overlay",
             "size": 10,
             "solidity": 0.2
            },
            "type": "scatter"
           }
          ],
          "scatter3d": [
           {
            "line": {
             "colorbar": {
              "outlinewidth": 0,
              "ticks": ""
             }
            },
            "marker": {
             "colorbar": {
              "outlinewidth": 0,
              "ticks": ""
             }
            },
            "type": "scatter3d"
           }
          ],
          "scattercarpet": [
           {
            "marker": {
             "colorbar": {
              "outlinewidth": 0,
              "ticks": ""
             }
            },
            "type": "scattercarpet"
           }
          ],
          "scattergeo": [
           {
            "marker": {
             "colorbar": {
              "outlinewidth": 0,
              "ticks": ""
             }
            },
            "type": "scattergeo"
           }
          ],
          "scattergl": [
           {
            "marker": {
             "colorbar": {
              "outlinewidth": 0,
              "ticks": ""
             }
            },
            "type": "scattergl"
           }
          ],
          "scattermapbox": [
           {
            "marker": {
             "colorbar": {
              "outlinewidth": 0,
              "ticks": ""
             }
            },
            "type": "scattermapbox"
           }
          ],
          "scatterpolar": [
           {
            "marker": {
             "colorbar": {
              "outlinewidth": 0,
              "ticks": ""
             }
            },
            "type": "scatterpolar"
           }
          ],
          "scatterpolargl": [
           {
            "marker": {
             "colorbar": {
              "outlinewidth": 0,
              "ticks": ""
             }
            },
            "type": "scatterpolargl"
           }
          ],
          "scatterternary": [
           {
            "marker": {
             "colorbar": {
              "outlinewidth": 0,
              "ticks": ""
             }
            },
            "type": "scatterternary"
           }
          ],
          "surface": [
           {
            "colorbar": {
             "outlinewidth": 0,
             "ticks": ""
            },
            "colorscale": [
             [
              0,
              "#0d0887"
             ],
             [
              0.1111111111111111,
              "#46039f"
             ],
             [
              0.2222222222222222,
              "#7201a8"
             ],
             [
              0.3333333333333333,
              "#9c179e"
             ],
             [
              0.4444444444444444,
              "#bd3786"
             ],
             [
              0.5555555555555556,
              "#d8576b"
             ],
             [
              0.6666666666666666,
              "#ed7953"
             ],
             [
              0.7777777777777778,
              "#fb9f3a"
             ],
             [
              0.8888888888888888,
              "#fdca26"
             ],
             [
              1,
              "#f0f921"
             ]
            ],
            "type": "surface"
           }
          ],
          "table": [
           {
            "cells": {
             "fill": {
              "color": "#EBF0F8"
             },
             "line": {
              "color": "white"
             }
            },
            "header": {
             "fill": {
              "color": "#C8D4E3"
             },
             "line": {
              "color": "white"
             }
            },
            "type": "table"
           }
          ]
         },
         "layout": {
          "annotationdefaults": {
           "arrowcolor": "#2a3f5f",
           "arrowhead": 0,
           "arrowwidth": 1
          },
          "autotypenumbers": "strict",
          "coloraxis": {
           "colorbar": {
            "outlinewidth": 0,
            "ticks": ""
           }
          },
          "colorscale": {
           "diverging": [
            [
             0,
             "#8e0152"
            ],
            [
             0.1,
             "#c51b7d"
            ],
            [
             0.2,
             "#de77ae"
            ],
            [
             0.3,
             "#f1b6da"
            ],
            [
             0.4,
             "#fde0ef"
            ],
            [
             0.5,
             "#f7f7f7"
            ],
            [
             0.6,
             "#e6f5d0"
            ],
            [
             0.7,
             "#b8e186"
            ],
            [
             0.8,
             "#7fbc41"
            ],
            [
             0.9,
             "#4d9221"
            ],
            [
             1,
             "#276419"
            ]
           ],
           "sequential": [
            [
             0,
             "#0d0887"
            ],
            [
             0.1111111111111111,
             "#46039f"
            ],
            [
             0.2222222222222222,
             "#7201a8"
            ],
            [
             0.3333333333333333,
             "#9c179e"
            ],
            [
             0.4444444444444444,
             "#bd3786"
            ],
            [
             0.5555555555555556,
             "#d8576b"
            ],
            [
             0.6666666666666666,
             "#ed7953"
            ],
            [
             0.7777777777777778,
             "#fb9f3a"
            ],
            [
             0.8888888888888888,
             "#fdca26"
            ],
            [
             1,
             "#f0f921"
            ]
           ],
           "sequentialminus": [
            [
             0,
             "#0d0887"
            ],
            [
             0.1111111111111111,
             "#46039f"
            ],
            [
             0.2222222222222222,
             "#7201a8"
            ],
            [
             0.3333333333333333,
             "#9c179e"
            ],
            [
             0.4444444444444444,
             "#bd3786"
            ],
            [
             0.5555555555555556,
             "#d8576b"
            ],
            [
             0.6666666666666666,
             "#ed7953"
            ],
            [
             0.7777777777777778,
             "#fb9f3a"
            ],
            [
             0.8888888888888888,
             "#fdca26"
            ],
            [
             1,
             "#f0f921"
            ]
           ]
          },
          "colorway": [
           "#636efa",
           "#EF553B",
           "#00cc96",
           "#ab63fa",
           "#FFA15A",
           "#19d3f3",
           "#FF6692",
           "#B6E880",
           "#FF97FF",
           "#FECB52"
          ],
          "font": {
           "color": "#2a3f5f"
          },
          "geo": {
           "bgcolor": "white",
           "lakecolor": "white",
           "landcolor": "white",
           "showlakes": true,
           "showland": true,
           "subunitcolor": "#C8D4E3"
          },
          "hoverlabel": {
           "align": "left"
          },
          "hovermode": "closest",
          "mapbox": {
           "style": "light"
          },
          "paper_bgcolor": "white",
          "plot_bgcolor": "white",
          "polar": {
           "angularaxis": {
            "gridcolor": "#EBF0F8",
            "linecolor": "#EBF0F8",
            "ticks": ""
           },
           "bgcolor": "white",
           "radialaxis": {
            "gridcolor": "#EBF0F8",
            "linecolor": "#EBF0F8",
            "ticks": ""
           }
          },
          "scene": {
           "xaxis": {
            "backgroundcolor": "white",
            "gridcolor": "#DFE8F3",
            "gridwidth": 2,
            "linecolor": "#EBF0F8",
            "showbackground": true,
            "ticks": "",
            "zerolinecolor": "#EBF0F8"
           },
           "yaxis": {
            "backgroundcolor": "white",
            "gridcolor": "#DFE8F3",
            "gridwidth": 2,
            "linecolor": "#EBF0F8",
            "showbackground": true,
            "ticks": "",
            "zerolinecolor": "#EBF0F8"
           },
           "zaxis": {
            "backgroundcolor": "white",
            "gridcolor": "#DFE8F3",
            "gridwidth": 2,
            "linecolor": "#EBF0F8",
            "showbackground": true,
            "ticks": "",
            "zerolinecolor": "#EBF0F8"
           }
          },
          "shapedefaults": {
           "line": {
            "color": "#2a3f5f"
           }
          },
          "ternary": {
           "aaxis": {
            "gridcolor": "#DFE8F3",
            "linecolor": "#A2B1C6",
            "ticks": ""
           },
           "baxis": {
            "gridcolor": "#DFE8F3",
            "linecolor": "#A2B1C6",
            "ticks": ""
           },
           "bgcolor": "white",
           "caxis": {
            "gridcolor": "#DFE8F3",
            "linecolor": "#A2B1C6",
            "ticks": ""
           }
          },
          "title": {
           "x": 0.05
          },
          "xaxis": {
           "automargin": true,
           "gridcolor": "#EBF0F8",
           "linecolor": "#EBF0F8",
           "ticks": "",
           "title": {
            "standoff": 15
           },
           "zerolinecolor": "#EBF0F8",
           "zerolinewidth": 2
          },
          "yaxis": {
           "automargin": true,
           "gridcolor": "#EBF0F8",
           "linecolor": "#EBF0F8",
           "ticks": "",
           "title": {
            "standoff": 15
           },
           "zerolinecolor": "#EBF0F8",
           "zerolinewidth": 2
          }
         }
        },
        "title": {
         "text": "Weights of columns"
        },
        "xaxis": {
         "title": {
          "text": "columns"
         }
        },
        "yaxis": {
         "title": {
          "text": "weights"
         }
        }
       }
      }
     },
     "metadata": {},
     "output_type": "display_data"
    },
    {
     "data": {
      "text/plain": [
       "None"
      ]
     },
     "metadata": {},
     "output_type": "display_data"
    },
    {
     "data": {
      "text/html": [
       "<div>\n",
       "<style scoped>\n",
       "    .dataframe tbody tr th:only-of-type {\n",
       "        vertical-align: middle;\n",
       "    }\n",
       "\n",
       "    .dataframe tbody tr th {\n",
       "        vertical-align: top;\n",
       "    }\n",
       "\n",
       "    .dataframe thead th {\n",
       "        text-align: right;\n",
       "    }\n",
       "</style>\n",
       "<table border=\"1\" class=\"dataframe\">\n",
       "  <thead>\n",
       "    <tr style=\"text-align: right;\">\n",
       "      <th></th>\n",
       "      <th>GeoFIPS</th>\n",
       "      <th>GeoName</th>\n",
       "      <th>2001</th>\n",
       "      <th>2002</th>\n",
       "      <th>2003</th>\n",
       "      <th>2004</th>\n",
       "      <th>2005</th>\n",
       "      <th>2006</th>\n",
       "      <th>2007</th>\n",
       "      <th>2008</th>\n",
       "      <th>...</th>\n",
       "      <th>2014_population</th>\n",
       "      <th>2015_population</th>\n",
       "      <th>2016_population</th>\n",
       "      <th>2017_population</th>\n",
       "      <th>2018_population</th>\n",
       "      <th>2019_population</th>\n",
       "      <th>2020_population</th>\n",
       "      <th>2021_population</th>\n",
       "      <th>distance to 1007</th>\n",
       "      <th>percentile</th>\n",
       "    </tr>\n",
       "  </thead>\n",
       "  <tbody>\n",
       "    <tr>\n",
       "      <th>0</th>\n",
       "      <td>1007</td>\n",
       "      <td>Bibb, AL</td>\n",
       "      <td>80.443</td>\n",
       "      <td>81.527</td>\n",
       "      <td>85.124</td>\n",
       "      <td>89.317</td>\n",
       "      <td>88.782</td>\n",
       "      <td>89.597</td>\n",
       "      <td>95.308</td>\n",
       "      <td>94.745</td>\n",
       "      <td>...</td>\n",
       "      <td>22586.0</td>\n",
       "      <td>22607.0</td>\n",
       "      <td>22654.0</td>\n",
       "      <td>22606.0</td>\n",
       "      <td>22383.0</td>\n",
       "      <td>22405.0</td>\n",
       "      <td>22223.0</td>\n",
       "      <td>22477.0</td>\n",
       "      <td>0.000000</td>\n",
       "      <td>47.86</td>\n",
       "    </tr>\n",
       "    <tr>\n",
       "      <th>1</th>\n",
       "      <td>48109</td>\n",
       "      <td>Culberson, TX</td>\n",
       "      <td>35.264</td>\n",
       "      <td>37.743</td>\n",
       "      <td>36.255</td>\n",
       "      <td>38.339</td>\n",
       "      <td>40.177</td>\n",
       "      <td>41.247</td>\n",
       "      <td>42.368</td>\n",
       "      <td>53.349</td>\n",
       "      <td>...</td>\n",
       "      <td>2301.0</td>\n",
       "      <td>2275.0</td>\n",
       "      <td>2244.0</td>\n",
       "      <td>2259.0</td>\n",
       "      <td>2212.0</td>\n",
       "      <td>2186.0</td>\n",
       "      <td>2193.0</td>\n",
       "      <td>2193.0</td>\n",
       "      <td>1.947278</td>\n",
       "      <td>99.97</td>\n",
       "    </tr>\n",
       "    <tr>\n",
       "      <th>2</th>\n",
       "      <td>48389</td>\n",
       "      <td>Reeves, TX</td>\n",
       "      <td>46.003</td>\n",
       "      <td>49.290</td>\n",
       "      <td>44.960</td>\n",
       "      <td>41.682</td>\n",
       "      <td>39.742</td>\n",
       "      <td>41.332</td>\n",
       "      <td>41.009</td>\n",
       "      <td>41.389</td>\n",
       "      <td>...</td>\n",
       "      <td>14614.0</td>\n",
       "      <td>14936.0</td>\n",
       "      <td>14484.0</td>\n",
       "      <td>14314.0</td>\n",
       "      <td>14526.0</td>\n",
       "      <td>14847.0</td>\n",
       "      <td>14730.0</td>\n",
       "      <td>14487.0</td>\n",
       "      <td>1.968913</td>\n",
       "      <td>99.90</td>\n",
       "    </tr>\n",
       "    <tr>\n",
       "      <th>3</th>\n",
       "      <td>48283</td>\n",
       "      <td>La Salle, TX</td>\n",
       "      <td>6.638</td>\n",
       "      <td>6.679</td>\n",
       "      <td>7.065</td>\n",
       "      <td>6.727</td>\n",
       "      <td>7.541</td>\n",
       "      <td>8.729</td>\n",
       "      <td>8.254</td>\n",
       "      <td>7.900</td>\n",
       "      <td>...</td>\n",
       "      <td>7115.0</td>\n",
       "      <td>7175.0</td>\n",
       "      <td>7057.0</td>\n",
       "      <td>6916.0</td>\n",
       "      <td>6808.0</td>\n",
       "      <td>6763.0</td>\n",
       "      <td>6642.0</td>\n",
       "      <td>6670.0</td>\n",
       "      <td>2.070731</td>\n",
       "      <td>96.40</td>\n",
       "    </tr>\n",
       "    <tr>\n",
       "      <th>4</th>\n",
       "      <td>48255</td>\n",
       "      <td>Karnes, TX</td>\n",
       "      <td>6.498</td>\n",
       "      <td>6.891</td>\n",
       "      <td>7.331</td>\n",
       "      <td>6.759</td>\n",
       "      <td>6.537</td>\n",
       "      <td>6.290</td>\n",
       "      <td>6.662</td>\n",
       "      <td>6.937</td>\n",
       "      <td>...</td>\n",
       "      <td>14569.0</td>\n",
       "      <td>14976.0</td>\n",
       "      <td>14997.0</td>\n",
       "      <td>14990.0</td>\n",
       "      <td>15028.0</td>\n",
       "      <td>14605.0</td>\n",
       "      <td>14721.0</td>\n",
       "      <td>14754.0</td>\n",
       "      <td>2.076390</td>\n",
       "      <td>98.60</td>\n",
       "    </tr>\n",
       "    <tr>\n",
       "      <th>...</th>\n",
       "      <td>...</td>\n",
       "      <td>...</td>\n",
       "      <td>...</td>\n",
       "      <td>...</td>\n",
       "      <td>...</td>\n",
       "      <td>...</td>\n",
       "      <td>...</td>\n",
       "      <td>...</td>\n",
       "      <td>...</td>\n",
       "      <td>...</td>\n",
       "      <td>...</td>\n",
       "      <td>...</td>\n",
       "      <td>...</td>\n",
       "      <td>...</td>\n",
       "      <td>...</td>\n",
       "      <td>...</td>\n",
       "      <td>...</td>\n",
       "      <td>...</td>\n",
       "      <td>...</td>\n",
       "      <td>...</td>\n",
       "      <td>...</td>\n",
       "    </tr>\n",
       "    <tr>\n",
       "      <th>3077</th>\n",
       "      <td>6073</td>\n",
       "      <td>San Diego, CA</td>\n",
       "      <td>79.703</td>\n",
       "      <td>83.170</td>\n",
       "      <td>87.449</td>\n",
       "      <td>92.400</td>\n",
       "      <td>97.137</td>\n",
       "      <td>99.354</td>\n",
       "      <td>100.938</td>\n",
       "      <td>100.267</td>\n",
       "      <td>...</td>\n",
       "      <td>3234658.0</td>\n",
       "      <td>3262566.0</td>\n",
       "      <td>3283586.0</td>\n",
       "      <td>3293575.0</td>\n",
       "      <td>3303463.0</td>\n",
       "      <td>3297959.0</td>\n",
       "      <td>3297252.0</td>\n",
       "      <td>3286069.0</td>\n",
       "      <td>2.924300</td>\n",
       "      <td>80.21</td>\n",
       "    </tr>\n",
       "    <tr>\n",
       "      <th>3078</th>\n",
       "      <td>4013</td>\n",
       "      <td>Maricopa, AZ</td>\n",
       "      <td>77.463</td>\n",
       "      <td>80.415</td>\n",
       "      <td>85.793</td>\n",
       "      <td>90.349</td>\n",
       "      <td>97.615</td>\n",
       "      <td>102.729</td>\n",
       "      <td>105.313</td>\n",
       "      <td>103.632</td>\n",
       "      <td>...</td>\n",
       "      <td>4040171.0</td>\n",
       "      <td>4105747.0</td>\n",
       "      <td>4174844.0</td>\n",
       "      <td>4231511.0</td>\n",
       "      <td>4292576.0</td>\n",
       "      <td>4363816.0</td>\n",
       "      <td>4438342.0</td>\n",
       "      <td>4496588.0</td>\n",
       "      <td>2.950617</td>\n",
       "      <td>87.18</td>\n",
       "    </tr>\n",
       "    <tr>\n",
       "      <th>3079</th>\n",
       "      <td>48201</td>\n",
       "      <td>Harris, TX</td>\n",
       "      <td>73.137</td>\n",
       "      <td>72.696</td>\n",
       "      <td>72.847</td>\n",
       "      <td>79.658</td>\n",
       "      <td>80.626</td>\n",
       "      <td>87.278</td>\n",
       "      <td>94.310</td>\n",
       "      <td>91.961</td>\n",
       "      <td>...</td>\n",
       "      <td>4452976.0</td>\n",
       "      <td>4553991.0</td>\n",
       "      <td>4619635.0</td>\n",
       "      <td>4651955.0</td>\n",
       "      <td>4672445.0</td>\n",
       "      <td>4704042.0</td>\n",
       "      <td>4732491.0</td>\n",
       "      <td>4728030.0</td>\n",
       "      <td>2.952810</td>\n",
       "      <td>51.14</td>\n",
       "    </tr>\n",
       "    <tr>\n",
       "      <th>3080</th>\n",
       "      <td>17031</td>\n",
       "      <td>Cook, IL</td>\n",
       "      <td>95.406</td>\n",
       "      <td>94.886</td>\n",
       "      <td>95.455</td>\n",
       "      <td>97.260</td>\n",
       "      <td>99.315</td>\n",
       "      <td>101.320</td>\n",
       "      <td>101.826</td>\n",
       "      <td>99.238</td>\n",
       "      <td>...</td>\n",
       "      <td>5320233.0</td>\n",
       "      <td>5324961.0</td>\n",
       "      <td>5320293.0</td>\n",
       "      <td>5311621.0</td>\n",
       "      <td>5297956.0</td>\n",
       "      <td>5287099.0</td>\n",
       "      <td>5262741.0</td>\n",
       "      <td>5173146.0</td>\n",
       "      <td>3.019405</td>\n",
       "      <td>52.43</td>\n",
       "    </tr>\n",
       "    <tr>\n",
       "      <th>3081</th>\n",
       "      <td>6037</td>\n",
       "      <td>Los Angeles, CA</td>\n",
       "      <td>82.070</td>\n",
       "      <td>83.658</td>\n",
       "      <td>86.614</td>\n",
       "      <td>89.137</td>\n",
       "      <td>91.163</td>\n",
       "      <td>94.942</td>\n",
       "      <td>96.400</td>\n",
       "      <td>98.804</td>\n",
       "      <td>...</td>\n",
       "      <td>10051511.0</td>\n",
       "      <td>10099677.0</td>\n",
       "      <td>10121673.0</td>\n",
       "      <td>10123521.0</td>\n",
       "      <td>10096986.0</td>\n",
       "      <td>10051154.0</td>\n",
       "      <td>9989165.0</td>\n",
       "      <td>9829544.0</td>\n",
       "      <td>3.256690</td>\n",
       "      <td>77.03</td>\n",
       "    </tr>\n",
       "  </tbody>\n",
       "</table>\n",
       "<p>3082 rows × 53 columns</p>\n",
       "</div>"
      ],
      "text/plain": [
       "      GeoFIPS          GeoName    2001    2002    2003    2004    2005  \\\n",
       "0        1007         Bibb, AL  80.443  81.527  85.124  89.317  88.782   \n",
       "1       48109    Culberson, TX  35.264  37.743  36.255  38.339  40.177   \n",
       "2       48389       Reeves, TX  46.003  49.290  44.960  41.682  39.742   \n",
       "3       48283     La Salle, TX   6.638   6.679   7.065   6.727   7.541   \n",
       "4       48255       Karnes, TX   6.498   6.891   7.331   6.759   6.537   \n",
       "...       ...              ...     ...     ...     ...     ...     ...   \n",
       "3077     6073    San Diego, CA  79.703  83.170  87.449  92.400  97.137   \n",
       "3078     4013     Maricopa, AZ  77.463  80.415  85.793  90.349  97.615   \n",
       "3079    48201       Harris, TX  73.137  72.696  72.847  79.658  80.626   \n",
       "3080    17031         Cook, IL  95.406  94.886  95.455  97.260  99.315   \n",
       "3081     6037  Los Angeles, CA  82.070  83.658  86.614  89.137  91.163   \n",
       "\n",
       "         2006     2007     2008  ...  2014_population  2015_population  \\\n",
       "0      89.597   95.308   94.745  ...          22586.0          22607.0   \n",
       "1      41.247   42.368   53.349  ...           2301.0           2275.0   \n",
       "2      41.332   41.009   41.389  ...          14614.0          14936.0   \n",
       "3       8.729    8.254    7.900  ...           7115.0           7175.0   \n",
       "4       6.290    6.662    6.937  ...          14569.0          14976.0   \n",
       "...       ...      ...      ...  ...              ...              ...   \n",
       "3077   99.354  100.938  100.267  ...        3234658.0        3262566.0   \n",
       "3078  102.729  105.313  103.632  ...        4040171.0        4105747.0   \n",
       "3079   87.278   94.310   91.961  ...        4452976.0        4553991.0   \n",
       "3080  101.320  101.826   99.238  ...        5320233.0        5324961.0   \n",
       "3081   94.942   96.400   98.804  ...       10051511.0       10099677.0   \n",
       "\n",
       "      2016_population  2017_population  2018_population  2019_population  \\\n",
       "0             22654.0          22606.0          22383.0          22405.0   \n",
       "1              2244.0           2259.0           2212.0           2186.0   \n",
       "2             14484.0          14314.0          14526.0          14847.0   \n",
       "3              7057.0           6916.0           6808.0           6763.0   \n",
       "4             14997.0          14990.0          15028.0          14605.0   \n",
       "...               ...              ...              ...              ...   \n",
       "3077        3283586.0        3293575.0        3303463.0        3297959.0   \n",
       "3078        4174844.0        4231511.0        4292576.0        4363816.0   \n",
       "3079        4619635.0        4651955.0        4672445.0        4704042.0   \n",
       "3080        5320293.0        5311621.0        5297956.0        5287099.0   \n",
       "3081       10121673.0       10123521.0       10096986.0       10051154.0   \n",
       "\n",
       "      2020_population  2021_population  distance to 1007  percentile  \n",
       "0             22223.0          22477.0          0.000000       47.86  \n",
       "1              2193.0           2193.0          1.947278       99.97  \n",
       "2             14730.0          14487.0          1.968913       99.90  \n",
       "3              6642.0           6670.0          2.070731       96.40  \n",
       "4             14721.0          14754.0          2.076390       98.60  \n",
       "...               ...              ...               ...         ...  \n",
       "3077        3297252.0        3286069.0          2.924300       80.21  \n",
       "3078        4438342.0        4496588.0          2.950617       87.18  \n",
       "3079        4732491.0        4728030.0          2.952810       51.14  \n",
       "3080        5262741.0        5173146.0          3.019405       52.43  \n",
       "3081        9989165.0        9829544.0          3.256690       77.03  \n",
       "\n",
       "[3082 rows x 53 columns]"
      ]
     },
     "metadata": {},
     "output_type": "display_data"
    }
   ],
   "source": [
    "# the other queries still work\n",
    "\n",
    "f  = FipsQuery(1007, outcome_var = \"gdp\",\n",
    "               feature_groups_with_weights= {\"gdp\": -2, \"population\":1}, #with one feature group only\n",
    "               # weights 1-4 won't make a difference\n",
    "               lag = 0, top =5, time_decay = 1.03)\n",
    "f.find_euclidean_kins()\n",
    "display(f.plot_weights())\n",
    "display(f.euclidean_kins)"
   ]
  },
  {
   "cell_type": "code",
   "execution_count": 3,
   "metadata": {},
   "outputs": [
    {
     "name": "stdout",
     "output_type": "stream",
     "text": [
      "['spending_transportation', 'urbanization', 'spending_HHS', 'population', 'spending_commerce', 'industry', 'ethnic_composition', 'transport', 'gdp']\n",
      "population\n",
      "True\n"
     ]
    },
    {
     "ename": "KeyError",
     "evalue": "'GeoFIPS'",
     "output_type": "error",
     "traceback": [
      "\u001b[0;31m---------------------------------------------------------------------------\u001b[0m",
      "\u001b[0;31mKeyError\u001b[0m                                  Traceback (most recent call last)",
      "File \u001b[0;32m~/.local/lib/python3.10/site-packages/pandas/core/indexes/base.py:3803\u001b[0m, in \u001b[0;36mIndex.get_loc\u001b[0;34m(self, key, method, tolerance)\u001b[0m\n\u001b[1;32m   3802\u001b[0m \u001b[39mtry\u001b[39;00m:\n\u001b[0;32m-> 3803\u001b[0m     \u001b[39mreturn\u001b[39;00m \u001b[39mself\u001b[39;49m\u001b[39m.\u001b[39;49m_engine\u001b[39m.\u001b[39;49mget_loc(casted_key)\n\u001b[1;32m   3804\u001b[0m \u001b[39mexcept\u001b[39;00m \u001b[39mKeyError\u001b[39;00m \u001b[39mas\u001b[39;00m err:\n",
      "File \u001b[0;32m~/.local/lib/python3.10/site-packages/pandas/_libs/index.pyx:138\u001b[0m, in \u001b[0;36mpandas._libs.index.IndexEngine.get_loc\u001b[0;34m()\u001b[0m\n",
      "File \u001b[0;32m~/.local/lib/python3.10/site-packages/pandas/_libs/index.pyx:165\u001b[0m, in \u001b[0;36mpandas._libs.index.IndexEngine.get_loc\u001b[0;34m()\u001b[0m\n",
      "File \u001b[0;32mpandas/_libs/hashtable_class_helper.pxi:5745\u001b[0m, in \u001b[0;36mpandas._libs.hashtable.PyObjectHashTable.get_item\u001b[0;34m()\u001b[0m\n",
      "File \u001b[0;32mpandas/_libs/hashtable_class_helper.pxi:5753\u001b[0m, in \u001b[0;36mpandas._libs.hashtable.PyObjectHashTable.get_item\u001b[0;34m()\u001b[0m\n",
      "\u001b[0;31mKeyError\u001b[0m: 'GeoFIPS'",
      "\nThe above exception was the direct cause of the following exception:\n",
      "\u001b[0;31mKeyError\u001b[0m                                  Traceback (most recent call last)",
      "\u001b[1;32m/home/rafal/L2projects/cities/docs/guides/similarity_demo.ipynb Cell 3\u001b[0m line \u001b[0;36m4\n\u001b[1;32m      <a href='vscode-notebook-cell:/home/rafal/L2projects/cities/docs/guides/similarity_demo.ipynb#W1sZmlsZQ%3D%3D?line=1'>2</a>\u001b[0m \u001b[39mprint\u001b[39m(list_available_features())\n\u001b[1;32m      <a href='vscode-notebook-cell:/home/rafal/L2projects/cities/docs/guides/similarity_demo.ipynb#W1sZmlsZQ%3D%3D?line=2'>3</a>\u001b[0m f  \u001b[39m=\u001b[39m FipsQuery(\u001b[39m42001\u001b[39m, feature_groups_with_weights\u001b[39m=\u001b[39m {\u001b[39m\"\u001b[39m\u001b[39mpopulation\u001b[39m\u001b[39m\"\u001b[39m:\u001b[39m4\u001b[39m, \u001b[39m\"\u001b[39m\u001b[39mspending_HHS\u001b[39m\u001b[39m\"\u001b[39m: \u001b[39m3\u001b[39m})\n\u001b[0;32m----> <a href='vscode-notebook-cell:/home/rafal/L2projects/cities/docs/guides/similarity_demo.ipynb#W1sZmlsZQ%3D%3D?line=3'>4</a>\u001b[0m f\u001b[39m.\u001b[39;49mfind_euclidean_kins()\n\u001b[1;32m      <a href='vscode-notebook-cell:/home/rafal/L2projects/cities/docs/guides/similarity_demo.ipynb#W1sZmlsZQ%3D%3D?line=4'>5</a>\u001b[0m \u001b[39m#display(f.plot_weights())\u001b[39;00m\n\u001b[1;32m      <a href='vscode-notebook-cell:/home/rafal/L2projects/cities/docs/guides/similarity_demo.ipynb#W1sZmlsZQ%3D%3D?line=5'>6</a>\u001b[0m \u001b[39m#display(f.euclidean_kins)\u001b[39;00m\n",
      "File \u001b[0;32m~/L2projects/cities/cities/queries/fips_query.py:256\u001b[0m, in \u001b[0;36mFipsQuery.find_euclidean_kins\u001b[0;34m(self)\u001b[0m\n\u001b[1;32m    251\u001b[0m _extracted_my_df \u001b[39m=\u001b[39m _extracted_df[_extracted_df[\u001b[39m\"\u001b[39m\u001b[39mGeoFIPS\u001b[39m\u001b[39m\"\u001b[39m] \u001b[39m==\u001b[39m \u001b[39mself\u001b[39m\u001b[39m.\u001b[39mfips]\n\u001b[1;32m    252\u001b[0m _extracted_other_df \u001b[39m=\u001b[39m _extracted_df[_extracted_df[\u001b[39m\"\u001b[39m\u001b[39mGeoFIPS\u001b[39m\u001b[39m\"\u001b[39m] \u001b[39m!=\u001b[39m \u001b[39mself\u001b[39m\u001b[39m.\u001b[39mfips]\n\u001b[1;32m    255\u001b[0m \u001b[39massert\u001b[39;00m (\n\u001b[0;32m--> 256\u001b[0m         \u001b[39mself\u001b[39;49m\u001b[39m.\u001b[39;49mother_df[\u001b[39m\"\u001b[39;49m\u001b[39mGeoFIPS\u001b[39;49m\u001b[39m\"\u001b[39;49m]\u001b[39m.\u001b[39munique() \u001b[39m==\u001b[39m _extracted_other_df[\u001b[39m\"\u001b[39m\u001b[39mGeoFIPS\u001b[39m\u001b[39m\"\u001b[39m]\u001b[39m.\u001b[39munique())\u001b[39m.\u001b[39mall(), \u001b[39m\"\u001b[39m\u001b[39mFIPS are missing\u001b[39m\u001b[39m\"\u001b[39m\n\u001b[1;32m    258\u001b[0m \u001b[39massert\u001b[39;00m (\n\u001b[1;32m    259\u001b[0m         \u001b[39mself\u001b[39m\u001b[39m.\u001b[39mother_df[\u001b[39m\"\u001b[39m\u001b[39mGeoFIPS\u001b[39m\u001b[39m\"\u001b[39m] \u001b[39m==\u001b[39m _extracted_other_df[\u001b[39m\"\u001b[39m\u001b[39mGeoFIPS\u001b[39m\u001b[39m\"\u001b[39m]\n\u001b[1;32m    260\u001b[0m     )\u001b[39m.\u001b[39mall(), \u001b[39m\"\u001b[39m\u001b[39mFIPS are misaligned\u001b[39m\u001b[39m\"\u001b[39m\n\u001b[1;32m    262\u001b[0m _extracted_other_df\u001b[39m.\u001b[39mcolumns \u001b[39m=\u001b[39m [\n\u001b[1;32m    263\u001b[0m     \u001b[39mf\u001b[39m\u001b[39m\"\u001b[39m\u001b[39m{\u001b[39;00mcol\u001b[39m}\u001b[39;00m\u001b[39m_\u001b[39m\u001b[39m{\u001b[39;00mfeature\u001b[39m}\u001b[39;00m\u001b[39m\"\u001b[39m \u001b[39mif\u001b[39;00m col \u001b[39mnot\u001b[39;00m \u001b[39min\u001b[39;00m [\u001b[39m\"\u001b[39m\u001b[39mGeoFIPS\u001b[39m\u001b[39m\"\u001b[39m, \u001b[39m\"\u001b[39m\u001b[39mGeoName\u001b[39m\u001b[39m\"\u001b[39m] \u001b[39melse\u001b[39;00m col\n\u001b[1;32m    264\u001b[0m     \u001b[39mfor\u001b[39;00m col \u001b[39min\u001b[39;00m _extracted_other_df\u001b[39m.\u001b[39mcolumns\n\u001b[1;32m    265\u001b[0m ]\n",
      "File \u001b[0;32m~/.local/lib/python3.10/site-packages/pandas/core/frame.py:3805\u001b[0m, in \u001b[0;36mDataFrame.__getitem__\u001b[0;34m(self, key)\u001b[0m\n\u001b[1;32m   3803\u001b[0m \u001b[39mif\u001b[39;00m \u001b[39mself\u001b[39m\u001b[39m.\u001b[39mcolumns\u001b[39m.\u001b[39mnlevels \u001b[39m>\u001b[39m \u001b[39m1\u001b[39m:\n\u001b[1;32m   3804\u001b[0m     \u001b[39mreturn\u001b[39;00m \u001b[39mself\u001b[39m\u001b[39m.\u001b[39m_getitem_multilevel(key)\n\u001b[0;32m-> 3805\u001b[0m indexer \u001b[39m=\u001b[39m \u001b[39mself\u001b[39;49m\u001b[39m.\u001b[39;49mcolumns\u001b[39m.\u001b[39;49mget_loc(key)\n\u001b[1;32m   3806\u001b[0m \u001b[39mif\u001b[39;00m is_integer(indexer):\n\u001b[1;32m   3807\u001b[0m     indexer \u001b[39m=\u001b[39m [indexer]\n",
      "File \u001b[0;32m~/.local/lib/python3.10/site-packages/pandas/core/indexes/base.py:3805\u001b[0m, in \u001b[0;36mIndex.get_loc\u001b[0;34m(self, key, method, tolerance)\u001b[0m\n\u001b[1;32m   3803\u001b[0m     \u001b[39mreturn\u001b[39;00m \u001b[39mself\u001b[39m\u001b[39m.\u001b[39m_engine\u001b[39m.\u001b[39mget_loc(casted_key)\n\u001b[1;32m   3804\u001b[0m \u001b[39mexcept\u001b[39;00m \u001b[39mKeyError\u001b[39;00m \u001b[39mas\u001b[39;00m err:\n\u001b[0;32m-> 3805\u001b[0m     \u001b[39mraise\u001b[39;00m \u001b[39mKeyError\u001b[39;00m(key) \u001b[39mfrom\u001b[39;00m \u001b[39merr\u001b[39;00m\n\u001b[1;32m   3806\u001b[0m \u001b[39mexcept\u001b[39;00m \u001b[39mTypeError\u001b[39;00m:\n\u001b[1;32m   3807\u001b[0m     \u001b[39m# If we have a listlike key, _check_indexing_error will raise\u001b[39;00m\n\u001b[1;32m   3808\u001b[0m     \u001b[39m#  InvalidIndexError. Otherwise we fall through and re-raise\u001b[39;00m\n\u001b[1;32m   3809\u001b[0m     \u001b[39m#  the TypeError.\u001b[39;00m\n\u001b[1;32m   3810\u001b[0m     \u001b[39mself\u001b[39m\u001b[39m.\u001b[39m_check_indexing_error(key)\n",
      "\u001b[0;31mKeyError\u001b[0m: 'GeoFIPS'"
     ]
    }
   ],
   "source": [
    "# You don't want to pass outcome and are interested in similarities\n",
    "print(list_available_features())\n",
    "f  = FipsQuery(42001, feature_groups_with_weights= {\"population\":4, \"spending_HHS\": 3})\n",
    "f.find_euclidean_kins()\n",
    "#display(f.plot_weights())\n",
    "#display(f.euclidean_kins)"
   ]
  },
  {
   "cell_type": "markdown",
   "metadata": {},
   "source": [
    "#### Use case: I just want a rough idea\n",
    "\n",
    "You want to know where your jurisdiction stands relative to all the others in the country. you also know the rate \n",
    "of locations where the most recent value of the outcome is lower than yours."
   ]
  },
  {
   "cell_type": "code",
   "execution_count": 2,
   "metadata": {},
   "outputs": [
    {
     "data": {
      "application/vnd.plotly.v1+json": {
       "config": {
        "plotlyServerURL": "https://plot.ly"
       },
       "data": [
        {
         "line": {
          "color": "lightgray"
         },
         "mode": "lines",
         "name": "Dale, AL",
         "opacity": 0.4,
         "showlegend": false,
         "text": "Dale, AL",
         "textposition": "top right",
         "type": "scatter",
         "x": [
          2001,
          2002,
          2003,
          2004,
          2005,
          2006,
          2007,
          2008,
          2009,
          2010,
          2011,
          2013,
          2014,
          2015,
          2016,
          2017,
          2018,
          2019,
          2020,
          2021
         ],
         "y": [
          71.34,
          73.445,
          75.711,
          81.208,
          90.261,
          93.998,
          94.746,
          98.581,
          100.649,
          105.301,
          101.611,
          100.947,
          94.969,
          96.449,
          94.091,
          93.862,
          91.718,
          92.57,
          89.072,
          95.131
         ]
        },
        {
         "line": {
          "color": "lightgray"
         },
         "mode": "lines",
         "name": "Little River, AR",
         "opacity": 0.4,
         "showlegend": false,
         "text": "Little River, AR",
         "textposition": "top right",
         "type": "scatter",
         "x": [
          2001,
          2002,
          2003,
          2004,
          2005,
          2006,
          2007,
          2008,
          2009,
          2010,
          2011,
          2013,
          2014,
          2015,
          2016,
          2017,
          2018,
          2019,
          2020,
          2021
         ],
         "y": [
          73.758,
          87.093,
          82.069,
          94.376,
          93.623,
          98.237,
          105.362,
          124.254,
          121.482,
          100.957,
          97.781,
          94.298,
          91.466,
          80.075,
          86.177,
          81.5,
          78.647,
          80.431,
          83.96,
          80.871
         ]
        },
        {
         "line": {
          "color": "lightgray"
         },
         "mode": "lines",
         "name": "San Diego, CA",
         "opacity": 0.4,
         "showlegend": false,
         "text": "San Diego, CA",
         "textposition": "top right",
         "type": "scatter",
         "x": [
          2001,
          2002,
          2003,
          2004,
          2005,
          2006,
          2007,
          2008,
          2009,
          2010,
          2011,
          2013,
          2014,
          2015,
          2016,
          2017,
          2018,
          2019,
          2020,
          2021
         ],
         "y": [
          79.703,
          83.17,
          87.449,
          92.4,
          97.137,
          99.354,
          100.938,
          100.267,
          95.995,
          97.363,
          99.049,
          103.715,
          106.579,
          109.739,
          110.614,
          114.614,
          117.637,
          119.998,
          117.052,
          126.208
         ]
        },
        {
         "line": {
          "color": "lightgray"
         },
         "mode": "lines",
         "name": "Grand, CO",
         "opacity": 0.4,
         "showlegend": false,
         "text": "Grand, CO",
         "textposition": "top right",
         "type": "scatter",
         "x": [
          2001,
          2002,
          2003,
          2004,
          2005,
          2006,
          2007,
          2008,
          2009,
          2010,
          2011,
          2013,
          2014,
          2015,
          2016,
          2017,
          2018,
          2019,
          2020,
          2021
         ],
         "y": [
          78.424,
          80.122,
          80.234,
          87.411,
          90.961,
          96.215,
          93.161,
          100.718,
          93.048,
          95.266,
          96.154,
          102.403,
          97.297,
          104.306,
          102.357,
          111.238,
          109.651,
          113.917,
          108.028,
          115.894
         ]
        },
        {
         "line": {
          "color": "lightgray"
         },
         "mode": "lines",
         "name": "Mesa, CO",
         "opacity": 0.4,
         "showlegend": false,
         "text": "Mesa, CO",
         "textposition": "top right",
         "type": "scatter",
         "x": [
          2001,
          2002,
          2003,
          2004,
          2005,
          2006,
          2007,
          2008,
          2009,
          2010,
          2011,
          2013,
          2014,
          2015,
          2016,
          2017,
          2018,
          2019,
          2020,
          2021
         ],
         "y": [
          77.227,
          79.365,
          81.757,
          84.156,
          89.411,
          95.137,
          105.774,
          115.569,
          106.165,
          100.318,
          101.421,
          98.259,
          99.469,
          98.214,
          96.192,
          100.943,
          105.127,
          106.869,
          104.304,
          108.201
         ]
        },
        {
         "line": {
          "color": "lightgray"
         },
         "mode": "lines",
         "name": "Rio Blanco, CO",
         "opacity": 0.4,
         "showlegend": false,
         "text": "Rio Blanco, CO",
         "textposition": "top right",
         "type": "scatter",
         "x": [
          2001,
          2002,
          2003,
          2004,
          2005,
          2006,
          2007,
          2008,
          2009,
          2010,
          2011,
          2013,
          2014,
          2015,
          2016,
          2017,
          2018,
          2019,
          2020,
          2021
         ],
         "y": [
          65.345,
          74.548,
          81.127,
          85.736,
          104.139,
          115.5,
          112.667,
          116.826,
          121.292,
          109.312,
          103.947,
          100.303,
          109.564,
          108.052,
          113.264,
          101.162,
          95.547,
          102.754,
          101.535,
          92.779
         ]
        },
        {
         "line": {
          "color": "lightgray"
         },
         "mode": "lines",
         "name": "Broward, FL",
         "opacity": 0.4,
         "showlegend": false,
         "text": "Broward, FL",
         "textposition": "top right",
         "type": "scatter",
         "x": [
          2001,
          2002,
          2003,
          2004,
          2005,
          2006,
          2007,
          2008,
          2009,
          2010,
          2011,
          2013,
          2014,
          2015,
          2016,
          2017,
          2018,
          2019,
          2020,
          2021
         ],
         "y": [
          83.888,
          87.609,
          92.719,
          98.548,
          105.1,
          107.721,
          108.696,
          103.963,
          98.242,
          101.028,
          99.84,
          100.933,
          104.039,
          108.759,
          111.44,
          114.574,
          117.788,
          120.979,
          117.935,
          128.226
         ]
        },
        {
         "line": {
          "color": "lightgray"
         },
         "mode": "lines",
         "name": "Santa Rosa, FL",
         "opacity": 0.4,
         "showlegend": false,
         "text": "Santa Rosa, FL",
         "textposition": "top right",
         "type": "scatter",
         "x": [
          2001,
          2002,
          2003,
          2004,
          2005,
          2006,
          2007,
          2008,
          2009,
          2010,
          2011,
          2013,
          2014,
          2015,
          2016,
          2017,
          2018,
          2019,
          2020,
          2021
         ],
         "y": [
          71.709,
          76.065,
          81.213,
          86.788,
          92.445,
          96.701,
          95.158,
          92.808,
          92.613,
          93.62,
          99.27,
          97.201,
          99.84,
          104.435,
          111.995,
          114.547,
          120.503,
          124.062,
          127.195,
          132.926
         ]
        },
        {
         "line": {
          "color": "lightgray"
         },
         "mode": "lines",
         "name": "Bibb, GA",
         "opacity": 0.4,
         "showlegend": false,
         "text": "Bibb, GA",
         "textposition": "top right",
         "type": "scatter",
         "x": [
          2001,
          2002,
          2003,
          2004,
          2005,
          2006,
          2007,
          2008,
          2009,
          2010,
          2011,
          2013,
          2014,
          2015,
          2016,
          2017,
          2018,
          2019,
          2020,
          2021
         ],
         "y": [
          112.904,
          112.24,
          108.139,
          108.581,
          108.156,
          106.781,
          102.91,
          103.371,
          99.141,
          97.464,
          97.957,
          99.29,
          101.536,
          104.621,
          102.496,
          104.501,
          106.545,
          105.25,
          101.309,
          106.206
         ]
        },
        {
         "line": {
          "color": "lightgray"
         },
         "mode": "lines",
         "name": "Bleckley, GA",
         "opacity": 0.4,
         "showlegend": false,
         "text": "Bleckley, GA",
         "textposition": "top right",
         "type": "scatter",
         "x": [
          2001,
          2002,
          2003,
          2004,
          2005,
          2006,
          2007,
          2008,
          2009,
          2010,
          2011,
          2013,
          2014,
          2015,
          2016,
          2017,
          2018,
          2019,
          2020,
          2021
         ],
         "y": [
          109.866,
          122.068,
          132.513,
          132.923,
          116.143,
          117.076,
          120.89,
          102.017,
          97.374,
          97.892,
          94.96,
          96.652,
          81.252,
          81.133,
          78.274,
          78.914,
          77.284,
          79.361,
          77.953,
          77.48
         ]
        },
        {
         "line": {
          "color": "lightgray"
         },
         "mode": "lines",
         "name": "Bonner, ID",
         "opacity": 0.4,
         "showlegend": false,
         "text": "Bonner, ID",
         "textposition": "top right",
         "type": "scatter",
         "x": [
          2001,
          2002,
          2003,
          2004,
          2005,
          2006,
          2007,
          2008,
          2009,
          2010,
          2011,
          2013,
          2014,
          2015,
          2016,
          2017,
          2018,
          2019,
          2020,
          2021
         ],
         "y": [
          81.969,
          89.234,
          91.749,
          97.749,
          106.537,
          110.241,
          112.958,
          113.733,
          105.899,
          107.073,
          105.304,
          102.566,
          104.615,
          101.835,
          105.209,
          106.184,
          112.482,
          117.874,
          119.173,
          131.397
         ]
        },
        {
         "line": {
          "color": "lightgray"
         },
         "mode": "lines",
         "name": "Camas, ID",
         "opacity": 0.4,
         "showlegend": false,
         "text": "Camas, ID",
         "textposition": "top right",
         "type": "scatter",
         "x": [
          2001,
          2002,
          2003,
          2004,
          2005,
          2006,
          2007,
          2008,
          2009,
          2010,
          2011,
          2013,
          2014,
          2015,
          2016,
          2017,
          2018,
          2019,
          2020,
          2021
         ],
         "y": [
          55.656,
          63.153,
          57.692,
          59.733,
          61.465,
          64.412,
          61.823,
          81.705,
          96.485,
          84.075,
          94.657,
          117.727,
          115.791,
          119.071,
          117.566,
          111.871,
          122.603,
          131.214,
          139.703,
          142.526
         ]
        },
        {
         "line": {
          "color": "lightgray"
         },
         "mode": "lines",
         "name": "Lincoln, ID",
         "opacity": 0.4,
         "showlegend": false,
         "text": "Lincoln, ID",
         "textposition": "top right",
         "type": "scatter",
         "x": [
          2001,
          2002,
          2003,
          2004,
          2005,
          2006,
          2007,
          2008,
          2009,
          2010,
          2011,
          2013,
          2014,
          2015,
          2016,
          2017,
          2018,
          2019,
          2020,
          2021
         ],
         "y": [
          65.424,
          63.806,
          64.682,
          68.441,
          72.321,
          72.189,
          98.091,
          109.608,
          100.171,
          109.376,
          103.563,
          104.918,
          124.745,
          112.006,
          128.757,
          141.296,
          145.625,
          145.132,
          142.476,
          136.999
         ]
        },
        {
         "line": {
          "color": "lightgray"
         },
         "mode": "lines",
         "name": "Owyhee, ID",
         "opacity": 0.4,
         "showlegend": false,
         "text": "Owyhee, ID",
         "textposition": "top right",
         "type": "scatter",
         "x": [
          2001,
          2002,
          2003,
          2004,
          2005,
          2006,
          2007,
          2008,
          2009,
          2010,
          2011,
          2013,
          2014,
          2015,
          2016,
          2017,
          2018,
          2019,
          2020,
          2021
         ],
         "y": [
          84.902,
          87.906,
          86.162,
          93.766,
          99.459,
          108.157,
          104.518,
          95.31,
          91.945,
          99.07,
          98.813,
          106.298,
          129.281,
          121.259,
          134.158,
          125.837,
          134.785,
          135.755,
          133.952,
          133.341
         ]
        },
        {
         "line": {
          "color": "lightgray"
         },
         "mode": "lines",
         "name": "Shoshone, ID",
         "opacity": 0.4,
         "showlegend": false,
         "text": "Shoshone, ID",
         "textposition": "top right",
         "type": "scatter",
         "x": [
          2001,
          2002,
          2003,
          2004,
          2005,
          2006,
          2007,
          2008,
          2009,
          2010,
          2011,
          2013,
          2014,
          2015,
          2016,
          2017,
          2018,
          2019,
          2020,
          2021
         ],
         "y": [
          71.445,
          70.857,
          74.954,
          78.974,
          99.58,
          95.696,
          103.082,
          126.744,
          113.14,
          129.54,
          137.393,
          126.922,
          147.32,
          129.336,
          124.169,
          86.742,
          87.746,
          82.112,
          96.238,
          122.943
         ]
        },
        {
         "line": {
          "color": "lightgray"
         },
         "mode": "lines",
         "name": "Valley, ID",
         "opacity": 0.4,
         "showlegend": false,
         "text": "Valley, ID",
         "textposition": "top right",
         "type": "scatter",
         "x": [
          2001,
          2002,
          2003,
          2004,
          2005,
          2006,
          2007,
          2008,
          2009,
          2010,
          2011,
          2013,
          2014,
          2015,
          2016,
          2017,
          2018,
          2019,
          2020,
          2021
         ],
         "y": [
          68.962,
          69.876,
          74.01,
          84.209,
          99.14,
          115.239,
          113.248,
          104.189,
          89.145,
          90.717,
          89.792,
          98.995,
          98.068,
          102.203,
          104.534,
          108.168,
          111.713,
          116.547,
          116.808,
          126.112
         ]
        },
        {
         "line": {
          "color": "lightgray"
         },
         "mode": "lines",
         "name": "Bond, IL",
         "opacity": 0.4,
         "showlegend": false,
         "text": "Bond, IL",
         "textposition": "top right",
         "type": "scatter",
         "x": [
          2001,
          2002,
          2003,
          2004,
          2005,
          2006,
          2007,
          2008,
          2009,
          2010,
          2011,
          2013,
          2014,
          2015,
          2016,
          2017,
          2018,
          2019,
          2020,
          2021
         ],
         "y": [
          84.257,
          84.286,
          87.923,
          93.725,
          89.734,
          93.545,
          88.039,
          94.044,
          96.028,
          101.13,
          99.436,
          98.956,
          95.406,
          108.508,
          101.137,
          103.055,
          106.747,
          105.982,
          102.735,
          107.503
         ]
        },
        {
         "line": {
          "color": "lightgray"
         },
         "mode": "lines",
         "name": "Kane, IL",
         "opacity": 0.4,
         "showlegend": false,
         "text": "Kane, IL",
         "textposition": "top right",
         "type": "scatter",
         "x": [
          2001,
          2002,
          2003,
          2004,
          2005,
          2006,
          2007,
          2008,
          2009,
          2010,
          2011,
          2013,
          2014,
          2015,
          2016,
          2017,
          2018,
          2019,
          2020,
          2021
         ],
         "y": [
          83.605,
          86.719,
          89.731,
          93.828,
          96.677,
          99.305,
          100.49,
          99.048,
          94.237,
          96.983,
          97.067,
          101.099,
          102.657,
          105.149,
          105.639,
          109.752,
          114.441,
          114.728,
          109.579,
          116.524
         ]
        },
        {
         "line": {
          "color": "lightgray"
         },
         "mode": "lines",
         "name": "St. Clair, IL",
         "opacity": 0.4,
         "showlegend": false,
         "text": "St. Clair, IL",
         "textposition": "top right",
         "type": "scatter",
         "x": [
          2001,
          2002,
          2003,
          2004,
          2005,
          2006,
          2007,
          2008,
          2009,
          2010,
          2011,
          2013,
          2014,
          2015,
          2016,
          2017,
          2018,
          2019,
          2020,
          2021
         ],
         "y": [
          82.9,
          87.183,
          90.76,
          93.069,
          94.118,
          94.128,
          94.716,
          96.507,
          96.136,
          96.928,
          102.625,
          98.239,
          96.672,
          98.246,
          97.875,
          100.324,
          102.25,
          100.474,
          94.745,
          100.548
         ]
        },
        {
         "line": {
          "color": "lightgray"
         },
         "mode": "lines",
         "name": "Bartholomew, IN",
         "opacity": 0.4,
         "showlegend": false,
         "text": "Bartholomew, IN",
         "textposition": "top right",
         "type": "scatter",
         "x": [
          2001,
          2002,
          2003,
          2004,
          2005,
          2006,
          2007,
          2008,
          2009,
          2010,
          2011,
          2013,
          2014,
          2015,
          2016,
          2017,
          2018,
          2019,
          2020,
          2021
         ],
         "y": [
          60.43,
          58.681,
          61.548,
          66.192,
          70.301,
          76.53,
          85.679,
          89.69,
          73.748,
          88.935,
          91.482,
          104.867,
          100.007,
          96.804,
          95.071,
          94.692,
          102.042,
          101.633,
          94.043,
          102.075
         ]
        },
        {
         "line": {
          "color": "lightgray"
         },
         "mode": "lines",
         "name": "Harrison, IN",
         "opacity": 0.4,
         "showlegend": false,
         "text": "Harrison, IN",
         "textposition": "top right",
         "type": "scatter",
         "x": [
          2001,
          2002,
          2003,
          2004,
          2005,
          2006,
          2007,
          2008,
          2009,
          2010,
          2011,
          2013,
          2014,
          2015,
          2016,
          2017,
          2018,
          2019,
          2020,
          2021
         ],
         "y": [
          106.339,
          114.732,
          118.46,
          119.618,
          112.91,
          117.325,
          112.449,
          107.469,
          97.001,
          98.698,
          98.555,
          97.457,
          100.231,
          98.225,
          101.437,
          108.108,
          112.861,
          112.295,
          109.168,
          112.062
         ]
        },
        {
         "line": {
          "color": "lightgray"
         },
         "mode": "lines",
         "name": "Scott, IN",
         "opacity": 0.4,
         "showlegend": false,
         "text": "Scott, IN",
         "textposition": "top right",
         "type": "scatter",
         "x": [
          2001,
          2002,
          2003,
          2004,
          2005,
          2006,
          2007,
          2008,
          2009,
          2010,
          2011,
          2013,
          2014,
          2015,
          2016,
          2017,
          2018,
          2019,
          2020,
          2021
         ],
         "y": [
          102.548,
          108.466,
          108.964,
          116.951,
          117.865,
          117.781,
          114.483,
          110.772,
          101.976,
          104.97,
          103.936,
          100.385,
          103.99,
          105.215,
          110.47,
          117.207,
          121.567,
          120.811,
          115.388,
          122.87
         ]
        },
        {
         "line": {
          "color": "lightgray"
         },
         "mode": "lines",
         "name": "Tippecanoe, IN",
         "opacity": 0.4,
         "showlegend": false,
         "text": "Tippecanoe, IN",
         "textposition": "top right",
         "type": "scatter",
         "x": [
          2001,
          2002,
          2003,
          2004,
          2005,
          2006,
          2007,
          2008,
          2009,
          2010,
          2011,
          2013,
          2014,
          2015,
          2016,
          2017,
          2018,
          2019,
          2020,
          2021
         ],
         "y": [
          82.913,
          84.299,
          88.752,
          91.66,
          94.91,
          98.945,
          102.4,
          99.369,
          90.514,
          96.438,
          98.301,
          102.345,
          106.516,
          109.396,
          113.322,
          118.459,
          125.667,
          126.139,
          118.759,
          123.715
         ]
        },
        {
         "line": {
          "color": "lightgray"
         },
         "mode": "lines",
         "name": "Buchanan, IA",
         "opacity": 0.4,
         "showlegend": false,
         "text": "Buchanan, IA",
         "textposition": "top right",
         "type": "scatter",
         "x": [
          2001,
          2002,
          2003,
          2004,
          2005,
          2006,
          2007,
          2008,
          2009,
          2010,
          2011,
          2013,
          2014,
          2015,
          2016,
          2017,
          2018,
          2019,
          2020,
          2021
         ],
         "y": [
          78.515,
          79.709,
          78.173,
          86.809,
          91.524,
          91.658,
          93.106,
          89.424,
          93.133,
          91.961,
          103.541,
          104.312,
          103.895,
          98.409,
          107.044,
          111.231,
          109.247,
          111.175,
          109.297,
          108.689
         ]
        },
        {
         "line": {
          "color": "lightgray"
         },
         "mode": "lines",
         "name": "Decatur, KS",
         "opacity": 0.4,
         "showlegend": false,
         "text": "Decatur, KS",
         "textposition": "top right",
         "type": "scatter",
         "x": [
          2001,
          2002,
          2003,
          2004,
          2005,
          2006,
          2007,
          2008,
          2009,
          2010,
          2011,
          2013,
          2014,
          2015,
          2016,
          2017,
          2018,
          2019,
          2020,
          2021
         ],
         "y": [
          116.37,
          88.948,
          85.703,
          63.853,
          98.46,
          70.716,
          102.309,
          106.044,
          123.139,
          124.224,
          129.979,
          112.259,
          116.454,
          126.493,
          153.739,
          95.188,
          109.466,
          113.302,
          128.756,
          126.668
         ]
        },
        {
         "line": {
          "color": "lightgray"
         },
         "mode": "lines",
         "name": "Johnson, KS",
         "opacity": 0.4,
         "showlegend": false,
         "text": "Johnson, KS",
         "textposition": "top right",
         "type": "scatter",
         "x": [
          2001,
          2002,
          2003,
          2004,
          2005,
          2006,
          2007,
          2008,
          2009,
          2010,
          2011,
          2013,
          2014,
          2015,
          2016,
          2017,
          2018,
          2019,
          2020,
          2021
         ],
         "y": [
          74.059,
          77.806,
          80.632,
          82.183,
          88.25,
          95.973,
          102.483,
          105.517,
          100.636,
          96.47,
          95.92,
          104.482,
          108.74,
          112.795,
          115.448,
          118.404,
          121.764,
          125.896,
          125.605,
          130.638
         ]
        },
        {
         "line": {
          "color": "lightgray"
         },
         "mode": "lines",
         "name": "Riley, KS",
         "opacity": 0.4,
         "showlegend": false,
         "text": "Riley, KS",
         "textposition": "top right",
         "type": "scatter",
         "x": [
          2001,
          2002,
          2003,
          2004,
          2005,
          2006,
          2007,
          2008,
          2009,
          2010,
          2011,
          2013,
          2014,
          2015,
          2016,
          2017,
          2018,
          2019,
          2020,
          2021
         ],
         "y": [
          78.822,
          79.879,
          83.156,
          85.898,
          86.815,
          89.029,
          93.378,
          97.32,
          95.39,
          96.585,
          97.939,
          99.925,
          102.355,
          102.888,
          103.512,
          102.037,
          100.206,
          100.843,
          100.186,
          101.947
         ]
        },
        {
         "line": {
          "color": "lightgray"
         },
         "mode": "lines",
         "name": "Ballard, KY",
         "opacity": 0.4,
         "showlegend": false,
         "text": "Ballard, KY",
         "textposition": "top right",
         "type": "scatter",
         "x": [
          2001,
          2002,
          2003,
          2004,
          2005,
          2006,
          2007,
          2008,
          2009,
          2010,
          2011,
          2013,
          2014,
          2015,
          2016,
          2017,
          2018,
          2019,
          2020,
          2021
         ],
         "y": [
          109.013,
          105.897,
          107.213,
          107.554,
          117.147,
          115.141,
          109.497,
          108.722,
          124.611,
          123.416,
          113.701,
          93.233,
          85.93,
          78.632,
          64.37,
          63.74,
          59.569,
          67.92,
          69.371,
          75.013
         ]
        },
        {
         "line": {
          "color": "lightgray"
         },
         "mode": "lines",
         "name": "Crittenden, KY",
         "opacity": 0.4,
         "showlegend": false,
         "text": "Crittenden, KY",
         "textposition": "top right",
         "type": "scatter",
         "x": [
          2001,
          2002,
          2003,
          2004,
          2005,
          2006,
          2007,
          2008,
          2009,
          2010,
          2011,
          2013,
          2014,
          2015,
          2016,
          2017,
          2018,
          2019,
          2020,
          2021
         ],
         "y": [
          84.47,
          82.432,
          78.806,
          80.451,
          93.041,
          91.667,
          82.202,
          79.831,
          84.025,
          85.919,
          97.396,
          112.98,
          101.365,
          98.409,
          101.272,
          102.482,
          102.042,
          96.859,
          95.059,
          101.534
         ]
        },
        {
         "line": {
          "color": "lightgray"
         },
         "mode": "lines",
         "name": "Knott, KY",
         "opacity": 0.4,
         "showlegend": false,
         "text": "Knott, KY",
         "textposition": "top right",
         "type": "scatter",
         "x": [
          2001,
          2002,
          2003,
          2004,
          2005,
          2006,
          2007,
          2008,
          2009,
          2010,
          2011,
          2013,
          2014,
          2015,
          2016,
          2017,
          2018,
          2019,
          2020,
          2021
         ],
         "y": [
          241.671,
          222.788,
          228.108,
          220.782,
          218.93,
          189.848,
          182.048,
          176.689,
          158.358,
          134.068,
          135.409,
          82.018,
          82.93,
          80.49,
          65.421,
          59.151,
          61.671,
          61.27,
          62.086,
          58.04
         ]
        },
        {
         "line": {
          "color": "lightgray"
         },
         "mode": "lines",
         "name": "McLean, KY",
         "opacity": 0.4,
         "showlegend": false,
         "text": "McLean, KY",
         "textposition": "top right",
         "type": "scatter",
         "x": [
          2001,
          2002,
          2003,
          2004,
          2005,
          2006,
          2007,
          2008,
          2009,
          2010,
          2011,
          2013,
          2014,
          2015,
          2016,
          2017,
          2018,
          2019,
          2020,
          2021
         ],
         "y": [
          100.957,
          89.514,
          102.726,
          117.42,
          114.434,
          115.574,
          111.414,
          101.549,
          126.568,
          117.431,
          111.233,
          111.49,
          122.039,
          129.039,
          128.798,
          128.602,
          128.323,
          118.931,
          91.68,
          107.716
         ]
        },
        {
         "line": {
          "color": "lightgray"
         },
         "mode": "lines",
         "name": "Mason, KY",
         "opacity": 0.4,
         "showlegend": false,
         "text": "Mason, KY",
         "textposition": "top right",
         "type": "scatter",
         "x": [
          2001,
          2002,
          2003,
          2004,
          2005,
          2006,
          2007,
          2008,
          2009,
          2010,
          2011,
          2013,
          2014,
          2015,
          2016,
          2017,
          2018,
          2019,
          2020,
          2021
         ],
         "y": [
          74.144,
          80.416,
          81.613,
          85.364,
          88.369,
          91.628,
          92.134,
          91.263,
          88.844,
          94.501,
          95.852,
          107.409,
          114.964,
          103.289,
          109.685,
          103.029,
          105.027,
          102.137,
          104.249,
          107.191
         ]
        },
        {
         "line": {
          "color": "lightgray"
         },
         "mode": "lines",
         "name": "Grant, LA",
         "opacity": 0.4,
         "showlegend": false,
         "text": "Grant, LA",
         "textposition": "top right",
         "type": "scatter",
         "x": [
          2001,
          2002,
          2003,
          2004,
          2005,
          2006,
          2007,
          2008,
          2009,
          2010,
          2011,
          2013,
          2014,
          2015,
          2016,
          2017,
          2018,
          2019,
          2020,
          2021
         ],
         "y": [
          75.893,
          80.234,
          82.367,
          88.872,
          97.466,
          87.972,
          72.963,
          76.853,
          92.779,
          98.17,
          99.507,
          101.622,
          103.919,
          98.51,
          100.788,
          102.26,
          104.354,
          100.357,
          103.561,
          104.402
         ]
        },
        {
         "line": {
          "color": "lightgray"
         },
         "mode": "lines",
         "name": "Vermilion, LA",
         "opacity": 0.4,
         "showlegend": false,
         "text": "Vermilion, LA",
         "textposition": "top right",
         "type": "scatter",
         "x": [
          2001,
          2002,
          2003,
          2004,
          2005,
          2006,
          2007,
          2008,
          2009,
          2010,
          2011,
          2013,
          2014,
          2015,
          2016,
          2017,
          2018,
          2019,
          2020,
          2021
         ],
         "y": [
          186.981,
          154.177,
          135.276,
          129.913,
          113.003,
          125.679,
          113.269,
          109.487,
          115.319,
          99.153,
          92.126,
          94.848,
          97.459,
          91.605,
          83.744,
          81.908,
          83.23,
          78.887,
          75.873,
          75.962
         ]
        },
        {
         "line": {
          "color": "lightgray"
         },
         "mode": "lines",
         "name": "St. Mary's, MD",
         "opacity": 0.4,
         "showlegend": false,
         "text": "St. Mary's, MD",
         "textposition": "top right",
         "type": "scatter",
         "x": [
          2001,
          2002,
          2003,
          2004,
          2005,
          2006,
          2007,
          2008,
          2009,
          2010,
          2011,
          2013,
          2014,
          2015,
          2016,
          2017,
          2018,
          2019,
          2020,
          2021
         ],
         "y": [
          65.19,
          69.553,
          73.864,
          76.978,
          78.943,
          81.506,
          84.175,
          85.892,
          87.87,
          94.903,
          99.919,
          99.178,
          100.52,
          103.14,
          105.828,
          107.912,
          108.646,
          110.643,
          112.812,
          114.898
         ]
        },
        {
         "line": {
          "color": "lightgray"
         },
         "mode": "lines",
         "name": "Washington, MD",
         "opacity": 0.4,
         "showlegend": false,
         "text": "Washington, MD",
         "textposition": "top right",
         "type": "scatter",
         "x": [
          2001,
          2002,
          2003,
          2004,
          2005,
          2006,
          2007,
          2008,
          2009,
          2010,
          2011,
          2013,
          2014,
          2015,
          2016,
          2017,
          2018,
          2019,
          2020,
          2021
         ],
         "y": [
          86.142,
          87.478,
          87.921,
          92.742,
          95.328,
          100.742,
          98.541,
          97.771,
          93.12,
          96.705,
          100.295,
          100.782,
          103.07,
          102.87,
          106.356,
          107.885,
          108.451,
          105.075,
          98.825,
          104.927
         ]
        },
        {
         "line": {
          "color": "lightgray"
         },
         "mode": "lines",
         "name": "Barry, MI",
         "opacity": 0.4,
         "showlegend": false,
         "text": "Barry, MI",
         "textposition": "top right",
         "type": "scatter",
         "x": [
          2001,
          2002,
          2003,
          2004,
          2005,
          2006,
          2007,
          2008,
          2009,
          2010,
          2011,
          2013,
          2014,
          2015,
          2016,
          2017,
          2018,
          2019,
          2020,
          2021
         ],
         "y": [
          85.865,
          87.812,
          93.088,
          96.122,
          97.999,
          94.296,
          95.772,
          93.925,
          87.932,
          95.582,
          98.679,
          102.421,
          108.806,
          112.878,
          105.005,
          105.024,
          107.635,
          111.031,
          108.625,
          114.021
         ]
        },
        {
         "line": {
          "color": "lightgray"
         },
         "mode": "lines",
         "name": "Ingham, MI",
         "opacity": 0.4,
         "showlegend": false,
         "text": "Ingham, MI",
         "textposition": "top right",
         "type": "scatter",
         "x": [
          2001,
          2002,
          2003,
          2004,
          2005,
          2006,
          2007,
          2008,
          2009,
          2010,
          2011,
          2013,
          2014,
          2015,
          2016,
          2017,
          2018,
          2019,
          2020,
          2021
         ],
         "y": [
          111.87,
          114.094,
          114.32,
          112.78,
          112.809,
          113.913,
          113.823,
          107.848,
          100.735,
          107.743,
          103.802,
          97,
          98.229,
          101.085,
          105.289,
          108.777,
          111.389,
          113.185,
          110.829,
          117.181
         ]
        },
        {
         "line": {
          "color": "lightgray"
         },
         "mode": "lines",
         "name": "Schoolcraft, MI",
         "opacity": 0.4,
         "showlegend": false,
         "text": "Schoolcraft, MI",
         "textposition": "top right",
         "type": "scatter",
         "x": [
          2001,
          2002,
          2003,
          2004,
          2005,
          2006,
          2007,
          2008,
          2009,
          2010,
          2011,
          2013,
          2014,
          2015,
          2016,
          2017,
          2018,
          2019,
          2020,
          2021
         ],
         "y": [
          98.251,
          101.867,
          102.3,
          107.283,
          105.127,
          103.431,
          100.889,
          105.441,
          106.622,
          101.111,
          101.424,
          95.731,
          98.132,
          97.361,
          96.485,
          99.964,
          96.482,
          98.217,
          96.86,
          104.507
         ]
        },
        {
         "line": {
          "color": "lightgray"
         },
         "mode": "lines",
         "name": "Lake, MN",
         "opacity": 0.4,
         "showlegend": false,
         "text": "Lake, MN",
         "textposition": "top right",
         "type": "scatter",
         "x": [
          2001,
          2002,
          2003,
          2004,
          2005,
          2006,
          2007,
          2008,
          2009,
          2010,
          2011,
          2013,
          2014,
          2015,
          2016,
          2017,
          2018,
          2019,
          2020,
          2021
         ],
         "y": [
          68.902,
          72.206,
          70.87,
          79.875,
          84.153,
          83.293,
          78.474,
          80.377,
          72.49,
          103.424,
          105.615,
          98.735,
          94.034,
          67.193,
          69.106,
          73.74,
          78.895,
          78.865,
          70.858,
          75.613
         ]
        },
        {
         "line": {
          "color": "lightgray"
         },
         "mode": "lines",
         "name": "Mahnomen, MN",
         "opacity": 0.4,
         "showlegend": false,
         "text": "Mahnomen, MN",
         "textposition": "top right",
         "type": "scatter",
         "x": [
          2001,
          2002,
          2003,
          2004,
          2005,
          2006,
          2007,
          2008,
          2009,
          2010,
          2011,
          2013,
          2014,
          2015,
          2016,
          2017,
          2018,
          2019,
          2020,
          2021
         ],
         "y": [
          93.191,
          99.219,
          104.424,
          91.036,
          97.722,
          95.456,
          93.868,
          95.851,
          86.129,
          84.125,
          91.517,
          101.633,
          85.166,
          97.25,
          111.787,
          94.367,
          97.103,
          101.246,
          91.662,
          111.358
         ]
        },
        {
         "line": {
          "color": "lightgray"
         },
         "mode": "lines",
         "name": "Todd, MN",
         "opacity": 0.4,
         "showlegend": false,
         "text": "Todd, MN",
         "textposition": "top right",
         "type": "scatter",
         "x": [
          2001,
          2002,
          2003,
          2004,
          2005,
          2006,
          2007,
          2008,
          2009,
          2010,
          2011,
          2013,
          2014,
          2015,
          2016,
          2017,
          2018,
          2019,
          2020,
          2021
         ],
         "y": [
          66.408,
          70.288,
          74.006,
          79.314,
          81.966,
          85.792,
          84.207,
          94.047,
          90.713,
          92.194,
          93.845,
          98.061,
          101.963,
          100.799,
          99.1,
          106.191,
          108.265,
          113.719,
          102.881,
          103.42
         ]
        },
        {
         "line": {
          "color": "lightgray"
         },
         "mode": "lines",
         "name": "Lafayette, MS",
         "opacity": 0.4,
         "showlegend": false,
         "text": "Lafayette, MS",
         "textposition": "top right",
         "type": "scatter",
         "x": [
          2001,
          2002,
          2003,
          2004,
          2005,
          2006,
          2007,
          2008,
          2009,
          2010,
          2011,
          2013,
          2014,
          2015,
          2016,
          2017,
          2018,
          2019,
          2020,
          2021
         ],
         "y": [
          75.806,
          78.749,
          80.403,
          81.78,
          89.011,
          95.066,
          94.777,
          99.096,
          93.506,
          92.359,
          94.307,
          103.135,
          106.183,
          107.949,
          113.496,
          114.575,
          118.589,
          118.879,
          116.096,
          122.621
         ]
        },
        {
         "line": {
          "color": "lightgray"
         },
         "mode": "lines",
         "name": "Sunflower, MS",
         "opacity": 0.4,
         "showlegend": false,
         "text": "Sunflower, MS",
         "textposition": "top right",
         "type": "scatter",
         "x": [
          2001,
          2002,
          2003,
          2004,
          2005,
          2006,
          2007,
          2008,
          2009,
          2010,
          2011,
          2013,
          2014,
          2015,
          2016,
          2017,
          2018,
          2019,
          2020,
          2021
         ],
         "y": [
          122.81,
          113.734,
          115.539,
          112.403,
          112.726,
          113.664,
          111.37,
          101.892,
          99.41,
          97.795,
          95.666,
          106.989,
          96.562,
          90.066,
          103.061,
          98.256,
          96.605,
          89.505,
          97.583,
          96.769
         ]
        },
        {
         "line": {
          "color": "lightgray"
         },
         "mode": "lines",
         "name": "Audrain, MO",
         "opacity": 0.4,
         "showlegend": false,
         "text": "Audrain, MO",
         "textposition": "top right",
         "type": "scatter",
         "x": [
          2001,
          2002,
          2003,
          2004,
          2005,
          2006,
          2007,
          2008,
          2009,
          2010,
          2011,
          2013,
          2014,
          2015,
          2016,
          2017,
          2018,
          2019,
          2020,
          2021
         ],
         "y": [
          98.56,
          97.58,
          96.178,
          105.762,
          99.822,
          105.681,
          105.65,
          107.527,
          107.352,
          109.051,
          104.724,
          103.066,
          110.232,
          112.321,
          114.888,
          113.743,
          100.044,
          95.608,
          94.121,
          94.883
         ]
        },
        {
         "line": {
          "color": "lightgray"
         },
         "mode": "lines",
         "name": "Boone, MO",
         "opacity": 0.4,
         "showlegend": false,
         "text": "Boone, MO",
         "textposition": "top right",
         "type": "scatter",
         "x": [
          2001,
          2002,
          2003,
          2004,
          2005,
          2006,
          2007,
          2008,
          2009,
          2010,
          2011,
          2013,
          2014,
          2015,
          2016,
          2017,
          2018,
          2019,
          2020,
          2021
         ],
         "y": [
          81.038,
          82.339,
          84.665,
          87.341,
          90.42,
          91.85,
          91.182,
          92.983,
          92.551,
          94.26,
          96.469,
          103.18,
          103.408,
          106.153,
          106.61,
          108.899,
          109.804,
          114.77,
          114.755,
          121.327
         ]
        },
        {
         "line": {
          "color": "lightgray"
         },
         "mode": "lines",
         "name": "Henry, MO",
         "opacity": 0.4,
         "showlegend": false,
         "text": "Henry, MO",
         "textposition": "top right",
         "type": "scatter",
         "x": [
          2001,
          2002,
          2003,
          2004,
          2005,
          2006,
          2007,
          2008,
          2009,
          2010,
          2011,
          2013,
          2014,
          2015,
          2016,
          2017,
          2018,
          2019,
          2020,
          2021
         ],
         "y": [
          100.136,
          100.566,
          97.132,
          107.307,
          109.136,
          108.634,
          109.778,
          113.576,
          110.702,
          113.492,
          105.52,
          111.514,
          112.026,
          101.553,
          93.584,
          94.217,
          93.561,
          92.366,
          92.189,
          98.222
         ]
        },
        {
         "line": {
          "color": "lightgray"
         },
         "mode": "lines",
         "name": "Lewis and Clark, MT",
         "opacity": 0.4,
         "showlegend": false,
         "text": "Lewis and Clark, MT",
         "textposition": "top right",
         "type": "scatter",
         "x": [
          2001,
          2002,
          2003,
          2004,
          2005,
          2006,
          2007,
          2008,
          2009,
          2010,
          2011,
          2013,
          2014,
          2015,
          2016,
          2017,
          2018,
          2019,
          2020,
          2021
         ],
         "y": [
          69.79,
          71.87,
          71.665,
          73.369,
          81.104,
          86.764,
          89.821,
          91.597,
          95.57,
          105.216,
          106.843,
          93.433,
          93.155,
          94.455,
          94.434,
          96.094,
          95.548,
          100.172,
          100.215,
          105.463
         ]
        },
        {
         "line": {
          "color": "lightgray"
         },
         "mode": "lines",
         "name": "Cuming, NE",
         "opacity": 0.4,
         "showlegend": false,
         "text": "Cuming, NE",
         "textposition": "top right",
         "type": "scatter",
         "x": [
          2001,
          2002,
          2003,
          2004,
          2005,
          2006,
          2007,
          2008,
          2009,
          2010,
          2011,
          2013,
          2014,
          2015,
          2016,
          2017,
          2018,
          2019,
          2020,
          2021
         ],
         "y": [
          87.863,
          107.305,
          96.935,
          87.66,
          100.918,
          110.525,
          91.471,
          85.328,
          102.604,
          118.847,
          124.64,
          118.312,
          141.987,
          169.865,
          199.448,
          166.114,
          174.677,
          161.614,
          152.785,
          137.983
         ]
        },
        {
         "line": {
          "color": "lightgray"
         },
         "mode": "lines",
         "name": "Douglas, NE",
         "opacity": 0.4,
         "showlegend": false,
         "text": "Douglas, NE",
         "textposition": "top right",
         "type": "scatter",
         "x": [
          2001,
          2002,
          2003,
          2004,
          2005,
          2006,
          2007,
          2008,
          2009,
          2010,
          2011,
          2013,
          2014,
          2015,
          2016,
          2017,
          2018,
          2019,
          2020,
          2021
         ],
         "y": [
          74.952,
          76.112,
          79.356,
          83.106,
          85.71,
          88.973,
          91.63,
          89.667,
          88.973,
          92.813,
          98.847,
          97.614,
          104.447,
          107.864,
          107.336,
          113.182,
          114.922,
          116.737,
          114.249,
          118.747
         ]
        },
        {
         "line": {
          "color": "lightgray"
         },
         "mode": "lines",
         "name": "Dundy, NE",
         "opacity": 0.4,
         "showlegend": false,
         "text": "Dundy, NE",
         "textposition": "top right",
         "type": "scatter",
         "x": [
          2001,
          2002,
          2003,
          2004,
          2005,
          2006,
          2007,
          2008,
          2009,
          2010,
          2011,
          2013,
          2014,
          2015,
          2016,
          2017,
          2018,
          2019,
          2020,
          2021
         ],
         "y": [
          55.162,
          49.159,
          64.294,
          53.531,
          65.523,
          67.792,
          81.766,
          87.709,
          87.655,
          107.031,
          100.586,
          109.657,
          110.726,
          136.419,
          145.615,
          141.033,
          140.383,
          145.609,
          151.988,
          153.006
         ]
        },
        {
         "line": {
          "color": "lightgray"
         },
         "mode": "lines",
         "name": "Jefferson, NE",
         "opacity": 0.4,
         "showlegend": false,
         "text": "Jefferson, NE",
         "textposition": "top right",
         "type": "scatter",
         "x": [
          2001,
          2002,
          2003,
          2004,
          2005,
          2006,
          2007,
          2008,
          2009,
          2010,
          2011,
          2013,
          2014,
          2015,
          2016,
          2017,
          2018,
          2019,
          2020,
          2021
         ],
         "y": [
          74.329,
          72.385,
          91.988,
          87.668,
          97.836,
          101.128,
          100.404,
          103.384,
          92.369,
          105.815,
          111.407,
          111.172,
          125.838,
          111.213,
          108.75,
          107.661,
          104.376,
          105.232,
          111.747,
          118.561
         ]
        },
        {
         "line": {
          "color": "lightgray"
         },
         "mode": "lines",
         "name": "Lancaster, NE",
         "opacity": 0.4,
         "showlegend": false,
         "text": "Lancaster, NE",
         "textposition": "top right",
         "type": "scatter",
         "x": [
          2001,
          2002,
          2003,
          2004,
          2005,
          2006,
          2007,
          2008,
          2009,
          2010,
          2011,
          2013,
          2014,
          2015,
          2016,
          2017,
          2018,
          2019,
          2020,
          2021
         ],
         "y": [
          88.883,
          89.239,
          92.452,
          94.084,
          98.481,
          100.813,
          102.37,
          98.381,
          96.071,
          98.822,
          98.501,
          101.439,
          105.596,
          109.303,
          110.931,
          116.335,
          119.158,
          121.341,
          119.415,
          123.136
         ]
        },
        {
         "line": {
          "color": "lightgray"
         },
         "mode": "lines",
         "name": "Elko, NV",
         "opacity": 0.4,
         "showlegend": false,
         "text": "Elko, NV",
         "textposition": "top right",
         "type": "scatter",
         "x": [
          2001,
          2002,
          2003,
          2004,
          2005,
          2006,
          2007,
          2008,
          2009,
          2010,
          2011,
          2013,
          2014,
          2015,
          2016,
          2017,
          2018,
          2019,
          2020,
          2021
         ],
         "y": [
          67.155,
          65.07,
          67.064,
          73.134,
          79.371,
          83.31,
          82.987,
          86.885,
          78.193,
          91.113,
          98.78,
          93.547,
          84.741,
          80.347,
          82.28,
          88.412,
          90.036,
          91.667,
          91.554,
          95.943
         ]
        },
        {
         "line": {
          "color": "lightgray"
         },
         "mode": "lines",
         "name": "Middlesex, NJ",
         "opacity": 0.4,
         "showlegend": false,
         "text": "Middlesex, NJ",
         "textposition": "top right",
         "type": "scatter",
         "x": [
          2001,
          2002,
          2003,
          2004,
          2005,
          2006,
          2007,
          2008,
          2009,
          2010,
          2011,
          2013,
          2014,
          2015,
          2016,
          2017,
          2018,
          2019,
          2020,
          2021
         ],
         "y": [
          90.583,
          91.288,
          91.873,
          94.101,
          94.885,
          96.849,
          100.516,
          104.066,
          97.135,
          98.477,
          97.207,
          100.748,
          101.263,
          103.503,
          106.012,
          104.89,
          107.306,
          107.681,
          104.065,
          111.13
         ]
        },
        {
         "line": {
          "color": "lightgray"
         },
         "mode": "lines",
         "name": "Valencia, NM",
         "opacity": 0.4,
         "showlegend": false,
         "text": "Valencia, NM",
         "textposition": "top right",
         "type": "scatter",
         "x": [
          2001,
          2002,
          2003,
          2004,
          2005,
          2006,
          2007,
          2008,
          2009,
          2010,
          2011,
          2013,
          2014,
          2015,
          2016,
          2017,
          2018,
          2019,
          2020,
          2021
         ],
         "y": [
          82.558,
          89.279,
          91.826,
          96.086,
          102.181,
          105.561,
          110.519,
          113.081,
          107.663,
          108.106,
          109.486,
          97.933,
          101.888,
          99.326,
          103.221,
          107.477,
          115.185,
          111.832,
          114.239,
          119.613
         ]
        },
        {
         "line": {
          "color": "lightgray"
         },
         "mode": "lines",
         "name": "Columbia, NY",
         "opacity": 0.4,
         "showlegend": false,
         "text": "Columbia, NY",
         "textposition": "top right",
         "type": "scatter",
         "x": [
          2001,
          2002,
          2003,
          2004,
          2005,
          2006,
          2007,
          2008,
          2009,
          2010,
          2011,
          2013,
          2014,
          2015,
          2016,
          2017,
          2018,
          2019,
          2020,
          2021
         ],
         "y": [
          88.39,
          85.389,
          87.184,
          93.877,
          90.006,
          89.017,
          84.805,
          89.708,
          92.26,
          96.365,
          96.274,
          98.453,
          101.792,
          100.075,
          98.381,
          94.693,
          92.082,
          93.176,
          87.026,
          90.873
         ]
        },
        {
         "line": {
          "color": "lightgray"
         },
         "mode": "lines",
         "name": "Tioga, NY",
         "opacity": 0.4,
         "showlegend": false,
         "text": "Tioga, NY",
         "textposition": "top right",
         "type": "scatter",
         "x": [
          2001,
          2002,
          2003,
          2004,
          2005,
          2006,
          2007,
          2008,
          2009,
          2010,
          2011,
          2013,
          2014,
          2015,
          2016,
          2017,
          2018,
          2019,
          2020,
          2021
         ],
         "y": [
          53.819,
          56.72,
          61.01,
          66.658,
          69.72,
          77.766,
          85.483,
          96.356,
          95.727,
          103.411,
          98.71,
          116.994,
          123.217,
          127.689,
          117.478,
          110.343,
          117.512,
          122.386,
          113.966,
          119.132
         ]
        },
        {
         "line": {
          "color": "lightgray"
         },
         "mode": "lines",
         "name": "Cherokee, NC",
         "opacity": 0.4,
         "showlegend": false,
         "text": "Cherokee, NC",
         "textposition": "top right",
         "type": "scatter",
         "x": [
          2001,
          2002,
          2003,
          2004,
          2005,
          2006,
          2007,
          2008,
          2009,
          2010,
          2011,
          2013,
          2014,
          2015,
          2016,
          2017,
          2018,
          2019,
          2020,
          2021
         ],
         "y": [
          97.47,
          99.505,
          96.701,
          97.008,
          103.975,
          105.475,
          97.885,
          97.455,
          103.909,
          110.336,
          112.84,
          100.646,
          100.019,
          102.423,
          95.138,
          99.765,
          102.22,
          108.339,
          106.713,
          114.92
         ]
        },
        {
         "line": {
          "color": "lightgray"
         },
         "mode": "lines",
         "name": "Forsyth, NC",
         "opacity": 0.4,
         "showlegend": false,
         "text": "Forsyth, NC",
         "textposition": "top right",
         "type": "scatter",
         "x": [
          2001,
          2002,
          2003,
          2004,
          2005,
          2006,
          2007,
          2008,
          2009,
          2010,
          2011,
          2013,
          2014,
          2015,
          2016,
          2017,
          2018,
          2019,
          2020,
          2021
         ],
         "y": [
          95.572,
          94.226,
          99.07,
          103.429,
          106.481,
          110.258,
          108.018,
          110.093,
          103.861,
          101.601,
          97.256,
          102.418,
          105.323,
          105.428,
          106.443,
          110.304,
          108.042,
          111.207,
          101.836,
          109.327
         ]
        },
        {
         "line": {
          "color": "lightgray"
         },
         "mode": "lines",
         "name": "Sampson, NC",
         "opacity": 0.4,
         "showlegend": false,
         "text": "Sampson, NC",
         "textposition": "top right",
         "type": "scatter",
         "x": [
          2001,
          2002,
          2003,
          2004,
          2005,
          2006,
          2007,
          2008,
          2009,
          2010,
          2011,
          2013,
          2014,
          2015,
          2016,
          2017,
          2018,
          2019,
          2020,
          2021
         ],
         "y": [
          105.431,
          94.566,
          100.414,
          108.178,
          110.159,
          110.209,
          106.304,
          99.927,
          98.812,
          107.836,
          102.574,
          105.041,
          106.714,
          105.54,
          101.019,
          105.226,
          97.859,
          96.907,
          89.137,
          98.623
         ]
        },
        {
         "line": {
          "color": "lightgray"
         },
         "mode": "lines",
         "name": "Vance, NC",
         "opacity": 0.4,
         "showlegend": false,
         "text": "Vance, NC",
         "textposition": "top right",
         "type": "scatter",
         "x": [
          2001,
          2002,
          2003,
          2004,
          2005,
          2006,
          2007,
          2008,
          2009,
          2010,
          2011,
          2013,
          2014,
          2015,
          2016,
          2017,
          2018,
          2019,
          2020,
          2021
         ],
         "y": [
          123.849,
          121.874,
          118.535,
          118.412,
          114.773,
          116.984,
          113.281,
          112.693,
          107.017,
          105.627,
          103.529,
          98.89,
          103.535,
          100.796,
          104.403,
          104.577,
          99.233,
          96.101,
          92.027,
          95.98
         ]
        },
        {
         "line": {
          "color": "lightgray"
         },
         "mode": "lines",
         "name": "Warren, NC",
         "opacity": 0.4,
         "showlegend": false,
         "text": "Warren, NC",
         "textposition": "top right",
         "type": "scatter",
         "x": [
          2001,
          2002,
          2003,
          2004,
          2005,
          2006,
          2007,
          2008,
          2009,
          2010,
          2011,
          2013,
          2014,
          2015,
          2016,
          2017,
          2018,
          2019,
          2020,
          2021
         ],
         "y": [
          89.284,
          86.104,
          90.375,
          101.22,
          94.396,
          99.659,
          91.655,
          105.786,
          104.512,
          101.641,
          101.489,
          92.595,
          92.498,
          85.951,
          82.46,
          80.218,
          82.682,
          80.828,
          80.356,
          81.822
         ]
        },
        {
         "line": {
          "color": "lightgray"
         },
         "mode": "lines",
         "name": "Slope, ND",
         "opacity": 0.4,
         "showlegend": false,
         "text": "Slope, ND",
         "textposition": "top right",
         "type": "scatter",
         "x": [
          2001,
          2002,
          2003,
          2004,
          2005,
          2006,
          2007,
          2008,
          2009,
          2010,
          2011,
          2013,
          2014,
          2015,
          2016,
          2017,
          2018,
          2019,
          2020,
          2021
         ],
         "y": [
          34.746,
          11.451,
          39.302,
          32.702,
          39.083,
          45.047,
          57.236,
          64.676,
          102.37,
          86.536,
          75.24,
          84.679,
          77.426,
          57.979,
          36.621,
          61.571,
          45.949,
          42.019,
          41.446,
          47.427
         ]
        },
        {
         "line": {
          "color": "lightgray"
         },
         "mode": "lines",
         "name": "Hocking, OH",
         "opacity": 0.4,
         "showlegend": false,
         "text": "Hocking, OH",
         "textposition": "top right",
         "type": "scatter",
         "x": [
          2001,
          2002,
          2003,
          2004,
          2005,
          2006,
          2007,
          2008,
          2009,
          2010,
          2011,
          2013,
          2014,
          2015,
          2016,
          2017,
          2018,
          2019,
          2020,
          2021
         ],
         "y": [
          96.096,
          102.542,
          101.815,
          102.873,
          104.901,
          104.754,
          106.453,
          100.465,
          98.586,
          99.664,
          99.9,
          98.941,
          96.708,
          101.158,
          97.16,
          103.257,
          99.351,
          101.904,
          97.992,
          103.964
         ]
        },
        {
         "line": {
          "color": "lightgray"
         },
         "mode": "lines",
         "name": "Preble, OH",
         "opacity": 0.4,
         "showlegend": false,
         "text": "Preble, OH",
         "textposition": "top right",
         "type": "scatter",
         "x": [
          2001,
          2002,
          2003,
          2004,
          2005,
          2006,
          2007,
          2008,
          2009,
          2010,
          2011,
          2013,
          2014,
          2015,
          2016,
          2017,
          2018,
          2019,
          2020,
          2021
         ],
         "y": [
          96.301,
          99.311,
          100.538,
          109.326,
          110.623,
          109.412,
          102.414,
          101.881,
          93.537,
          95.946,
          99.415,
          99.609,
          98.527,
          102.543,
          97.834,
          102.034,
          105.331,
          105.373,
          104.393,
          114.743
         ]
        },
        {
         "line": {
          "color": "lightgray"
         },
         "mode": "lines",
         "name": "Washington, OH",
         "opacity": 0.4,
         "showlegend": false,
         "text": "Washington, OH",
         "textposition": "top right",
         "type": "scatter",
         "x": [
          2001,
          2002,
          2003,
          2004,
          2005,
          2006,
          2007,
          2008,
          2009,
          2010,
          2011,
          2013,
          2014,
          2015,
          2016,
          2017,
          2018,
          2019,
          2020,
          2021
         ],
         "y": [
          82.205,
          89.38,
          84.603,
          82.689,
          81.483,
          82.373,
          88.721,
          90.934,
          90.757,
          95.023,
          97.94,
          96.695,
          105.274,
          110.639,
          109.151,
          103.828,
          99.943,
          105.165,
          101.212,
          103.707
         ]
        },
        {
         "line": {
          "color": "lightgray"
         },
         "mode": "lines",
         "name": "Garfield, OK",
         "opacity": 0.4,
         "showlegend": false,
         "text": "Garfield, OK",
         "textposition": "top right",
         "type": "scatter",
         "x": [
          2001,
          2002,
          2003,
          2004,
          2005,
          2006,
          2007,
          2008,
          2009,
          2010,
          2011,
          2013,
          2014,
          2015,
          2016,
          2017,
          2018,
          2019,
          2020,
          2021
         ],
         "y": [
          56.368,
          57.509,
          60.135,
          62.165,
          64.579,
          67.562,
          72.185,
          79.249,
          81.702,
          84.374,
          86.659,
          103.111,
          120.762,
          121.249,
          130.972,
          91.355,
          90.569,
          89.651,
          85.376,
          90.229
         ]
        },
        {
         "line": {
          "color": "lightgray"
         },
         "mode": "lines",
         "name": "Major, OK",
         "opacity": 0.4,
         "showlegend": false,
         "text": "Major, OK",
         "textposition": "top right",
         "type": "scatter",
         "x": [
          2001,
          2002,
          2003,
          2004,
          2005,
          2006,
          2007,
          2008,
          2009,
          2010,
          2011,
          2013,
          2014,
          2015,
          2016,
          2017,
          2018,
          2019,
          2020,
          2021
         ],
         "y": [
          64.29,
          65.047,
          70.119,
          72.374,
          75.777,
          89.316,
          72.955,
          64.389,
          58.847,
          65.224,
          90.194,
          83.19,
          97.639,
          98.146,
          83.713,
          83.04,
          91.048,
          95.897,
          81.753,
          79.645
         ]
        },
        {
         "line": {
          "color": "lightgray"
         },
         "mode": "lines",
         "name": "Seminole, OK",
         "opacity": 0.4,
         "showlegend": false,
         "text": "Seminole, OK",
         "textposition": "top right",
         "type": "scatter",
         "x": [
          2001,
          2002,
          2003,
          2004,
          2005,
          2006,
          2007,
          2008,
          2009,
          2010,
          2011,
          2013,
          2014,
          2015,
          2016,
          2017,
          2018,
          2019,
          2020,
          2021
         ],
         "y": [
          82.122,
          95.48,
          95.447,
          91.872,
          89.516,
          92.052,
          97.508,
          99.523,
          90.219,
          95.589,
          101.555,
          95.947,
          86.131,
          85.236,
          84.665,
          80.027,
          84.181,
          88.717,
          85.109,
          83.157
         ]
        },
        {
         "line": {
          "color": "lightgray"
         },
         "mode": "lines",
         "name": "Centre, PA",
         "opacity": 0.4,
         "showlegend": false,
         "text": "Centre, PA",
         "textposition": "top right",
         "type": "scatter",
         "x": [
          2001,
          2002,
          2003,
          2004,
          2005,
          2006,
          2007,
          2008,
          2009,
          2010,
          2011,
          2013,
          2014,
          2015,
          2016,
          2017,
          2018,
          2019,
          2020,
          2021
         ],
         "y": [
          71.527,
          74.792,
          77.336,
          81.742,
          86.907,
          84.301,
          86.017,
          88.717,
          88.154,
          92.972,
          95.587,
          99.604,
          100.072,
          101.198,
          104.331,
          106.273,
          106.31,
          106.915,
          102.804,
          105.028
         ]
        },
        {
         "line": {
          "color": "lightgray"
         },
         "mode": "lines",
         "name": "Mifflin, PA",
         "opacity": 0.4,
         "showlegend": false,
         "text": "Mifflin, PA",
         "textposition": "top right",
         "type": "scatter",
         "x": [
          2001,
          2002,
          2003,
          2004,
          2005,
          2006,
          2007,
          2008,
          2009,
          2010,
          2011,
          2013,
          2014,
          2015,
          2016,
          2017,
          2018,
          2019,
          2020,
          2021
         ],
         "y": [
          81.425,
          83.344,
          85.632,
          87.639,
          91.994,
          92.11,
          90.963,
          92.388,
          91.964,
          97.366,
          98.345,
          104.129,
          105.159,
          108.895,
          105.151,
          106.442,
          107.056,
          110.13,
          107.049,
          109.287
         ]
        },
        {
         "line": {
          "color": "lightgray"
         },
         "mode": "lines",
         "name": "Cherokee, SC",
         "opacity": 0.4,
         "showlegend": false,
         "text": "Cherokee, SC",
         "textposition": "top right",
         "type": "scatter",
         "x": [
          2001,
          2002,
          2003,
          2004,
          2005,
          2006,
          2007,
          2008,
          2009,
          2010,
          2011,
          2013,
          2014,
          2015,
          2016,
          2017,
          2018,
          2019,
          2020,
          2021
         ],
         "y": [
          100.902,
          92.848,
          96.112,
          101.26,
          102.476,
          106.061,
          109.235,
          112.936,
          102.588,
          104.984,
          100.777,
          91.029,
          92.548,
          95.24,
          98.638,
          97.315,
          101.259,
          101.538,
          98.05,
          104.294
         ]
        },
        {
         "line": {
          "color": "lightgray"
         },
         "mode": "lines",
         "name": "Douglas, SD",
         "opacity": 0.4,
         "showlegend": false,
         "text": "Douglas, SD",
         "textposition": "top right",
         "type": "scatter",
         "x": [
          2001,
          2002,
          2003,
          2004,
          2005,
          2006,
          2007,
          2008,
          2009,
          2010,
          2011,
          2013,
          2014,
          2015,
          2016,
          2017,
          2018,
          2019,
          2020,
          2021
         ],
         "y": [
          71.504,
          72.912,
          83.779,
          86.302,
          79.892,
          96.404,
          81.837,
          81.555,
          102.152,
          103.906,
          105.204,
          80.4,
          90.995,
          98.459,
          109.158,
          112.146,
          109.9,
          130.009,
          104.554,
          105.18
         ]
        },
        {
         "line": {
          "color": "lightgray"
         },
         "mode": "lines",
         "name": "Haakon, SD",
         "opacity": 0.4,
         "showlegend": false,
         "text": "Haakon, SD",
         "textposition": "top right",
         "type": "scatter",
         "x": [
          2001,
          2002,
          2003,
          2004,
          2005,
          2006,
          2007,
          2008,
          2009,
          2010,
          2011,
          2013,
          2014,
          2015,
          2016,
          2017,
          2018,
          2019,
          2020,
          2021
         ],
         "y": [
          111.292,
          126.834,
          145.811,
          96.246,
          123.582,
          87.228,
          89.116,
          95.103,
          81.777,
          95.294,
          109.367,
          98.586,
          107.67,
          128.618,
          105.047,
          119.636,
          115.838,
          98.382,
          134.543,
          131.764
         ]
        },
        {
         "line": {
          "color": "lightgray"
         },
         "mode": "lines",
         "name": "Hawkins, TN",
         "opacity": 0.4,
         "showlegend": false,
         "text": "Hawkins, TN",
         "textposition": "top right",
         "type": "scatter",
         "x": [
          2001,
          2002,
          2003,
          2004,
          2005,
          2006,
          2007,
          2008,
          2009,
          2010,
          2011,
          2013,
          2014,
          2015,
          2016,
          2017,
          2018,
          2019,
          2020,
          2021
         ],
         "y": [
          75.209,
          84.318,
          87.73,
          89.963,
          88.898,
          90.132,
          86.484,
          83.339,
          92.856,
          90.132,
          89.101,
          102.041,
          105.018,
          108.606,
          110.902,
          112.871,
          107.638,
          101.628,
          94.407,
          98.618
         ]
        },
        {
         "line": {
          "color": "lightgray"
         },
         "mode": "lines",
         "name": "Lewis, TN",
         "opacity": 0.4,
         "showlegend": false,
         "text": "Lewis, TN",
         "textposition": "top right",
         "type": "scatter",
         "x": [
          2001,
          2002,
          2003,
          2004,
          2005,
          2006,
          2007,
          2008,
          2009,
          2010,
          2011,
          2013,
          2014,
          2015,
          2016,
          2017,
          2018,
          2019,
          2020,
          2021
         ],
         "y": [
          80.02,
          80.966,
          84.108,
          86.253,
          92.942,
          89.191,
          95.322,
          93.237,
          91.907,
          95.884,
          94.857,
          97.846,
          106.61,
          109.418,
          116.143,
          111.016,
          111.952,
          120.69,
          122.685,
          132.476
         ]
        },
        {
         "line": {
          "color": "lightgray"
         },
         "mode": "lines",
         "name": "Marshall, TN",
         "opacity": 0.4,
         "showlegend": false,
         "text": "Marshall, TN",
         "textposition": "top right",
         "type": "scatter",
         "x": [
          2001,
          2002,
          2003,
          2004,
          2005,
          2006,
          2007,
          2008,
          2009,
          2010,
          2011,
          2013,
          2014,
          2015,
          2016,
          2017,
          2018,
          2019,
          2020,
          2021
         ],
         "y": [
          118.208,
          125.347,
          119.216,
          121.158,
          116.04,
          111.718,
          110.35,
          114.351,
          102.764,
          92.499,
          97.377,
          105.047,
          113.274,
          120.048,
          125.76,
          146.802,
          155.02,
          158.302,
          153.62,
          168.913
         ]
        },
        {
         "line": {
          "color": "lightgray"
         },
         "mode": "lines",
         "name": "Brazoria, TX",
         "opacity": 0.4,
         "showlegend": false,
         "text": "Brazoria, TX",
         "textposition": "top right",
         "type": "scatter",
         "x": [
          2001,
          2002,
          2003,
          2004,
          2005,
          2006,
          2007,
          2008,
          2009,
          2010,
          2011,
          2013,
          2014,
          2015,
          2016,
          2017,
          2018,
          2019,
          2020,
          2021
         ],
         "y": [
          80.801,
          79.989,
          75.159,
          73.792,
          73.367,
          79.783,
          83.938,
          80.952,
          80.482,
          91.766,
          94.533,
          108.014,
          107.346,
          112.609,
          115.74,
          108.967,
          113.397,
          109.79,
          109.848,
          110.789
         ]
        },
        {
         "line": {
          "color": "lightgray"
         },
         "mode": "lines",
         "name": "Childress, TX",
         "opacity": 0.4,
         "showlegend": false,
         "text": "Childress, TX",
         "textposition": "top right",
         "type": "scatter",
         "x": [
          2001,
          2002,
          2003,
          2004,
          2005,
          2006,
          2007,
          2008,
          2009,
          2010,
          2011,
          2013,
          2014,
          2015,
          2016,
          2017,
          2018,
          2019,
          2020,
          2021
         ],
         "y": [
          105.027,
          111.027,
          115.223,
          116.623,
          117.681,
          113.978,
          119.153,
          123.325,
          128.12,
          111.474,
          120.764,
          118.647,
          111.442,
          117.822,
          124.654,
          125.728,
          127.949,
          130.73,
          135.119,
          142.461
         ]
        },
        {
         "line": {
          "color": "lightgray"
         },
         "mode": "lines",
         "name": "Cochran, TX",
         "opacity": 0.4,
         "showlegend": false,
         "text": "Cochran, TX",
         "textposition": "top right",
         "type": "scatter",
         "x": [
          2001,
          2002,
          2003,
          2004,
          2005,
          2006,
          2007,
          2008,
          2009,
          2010,
          2011,
          2013,
          2014,
          2015,
          2016,
          2017,
          2018,
          2019,
          2020,
          2021
         ],
         "y": [
          63.196,
          77.254,
          57.748,
          64.755,
          69.465,
          82.063,
          88.846,
          77.787,
          96.567,
          105.542,
          87.055,
          92.36,
          69.244,
          70.028,
          72.541,
          77.698,
          65.833,
          76.463,
          78.333,
          80.653
         ]
        },
        {
         "line": {
          "color": "lightgray"
         },
         "mode": "lines",
         "name": "Coke, TX",
         "opacity": 0.4,
         "showlegend": false,
         "text": "Coke, TX",
         "textposition": "top right",
         "type": "scatter",
         "x": [
          2001,
          2002,
          2003,
          2004,
          2005,
          2006,
          2007,
          2008,
          2009,
          2010,
          2011,
          2013,
          2014,
          2015,
          2016,
          2017,
          2018,
          2019,
          2020,
          2021
         ],
         "y": [
          88.114,
          90.479,
          78.469,
          72.307,
          68.925,
          75.077,
          77.365,
          79.057,
          101.793,
          98.735,
          88.594,
          102.452,
          90.573,
          90.131,
          83.998,
          75.606,
          78.179,
          73.446,
          74.095,
          134.682
         ]
        },
        {
         "line": {
          "color": "lightgray"
         },
         "mode": "lines",
         "name": "Falls, TX",
         "opacity": 0.4,
         "showlegend": false,
         "text": "Falls, TX",
         "textposition": "top right",
         "type": "scatter",
         "x": [
          2001,
          2002,
          2003,
          2004,
          2005,
          2006,
          2007,
          2008,
          2009,
          2010,
          2011,
          2013,
          2014,
          2015,
          2016,
          2017,
          2018,
          2019,
          2020,
          2021
         ],
         "y": [
          96.332,
          102.944,
          105.853,
          107.019,
          99.82,
          97.432,
          95.495,
          91.366,
          97.975,
          101.967,
          101.538,
          106.346,
          103.438,
          112.515,
          106.17,
          101.99,
          106.556,
          108.264,
          114.05,
          113.915
         ]
        },
        {
         "line": {
          "color": "lightgray"
         },
         "mode": "lines",
         "name": "Fayette, TX",
         "opacity": 0.4,
         "showlegend": false,
         "text": "Fayette, TX",
         "textposition": "top right",
         "type": "scatter",
         "x": [
          2001,
          2002,
          2003,
          2004,
          2005,
          2006,
          2007,
          2008,
          2009,
          2010,
          2011,
          2013,
          2014,
          2015,
          2016,
          2017,
          2018,
          2019,
          2020,
          2021
         ],
         "y": [
          117.317,
          114.339,
          114.753,
          104.606,
          97.267,
          100.658,
          105.202,
          101.852,
          100.731,
          98.415,
          100.894,
          113.789,
          114.055,
          107.863,
          103.044,
          109.606,
          105.963,
          108.434,
          105.418,
          112.139
         ]
        },
        {
         "line": {
          "color": "lightgray"
         },
         "mode": "lines",
         "name": "Hall, TX",
         "opacity": 0.4,
         "showlegend": false,
         "text": "Hall, TX",
         "textposition": "top right",
         "type": "scatter",
         "x": [
          2001,
          2002,
          2003,
          2004,
          2005,
          2006,
          2007,
          2008,
          2009,
          2010,
          2011,
          2013,
          2014,
          2015,
          2016,
          2017,
          2018,
          2019,
          2020,
          2021
         ],
         "y": [
          102.955,
          107.69,
          120.155,
          109.408,
          116.876,
          121.643,
          124.68,
          97.954,
          172.057,
          157.446,
          103.096,
          131.301,
          102.28,
          102.152,
          88.798,
          94.757,
          81.375,
          100.625,
          101.895,
          133.649
         ]
        },
        {
         "line": {
          "color": "lightgray"
         },
         "mode": "lines",
         "name": "Irion, TX",
         "opacity": 0.4,
         "showlegend": false,
         "text": "Irion, TX",
         "textposition": "top right",
         "type": "scatter",
         "x": [
          2001,
          2002,
          2003,
          2004,
          2005,
          2006,
          2007,
          2008,
          2009,
          2010,
          2011,
          2013,
          2014,
          2015,
          2016,
          2017,
          2018,
          2019,
          2020,
          2021
         ],
         "y": [
          25.339,
          28.913,
          24.325,
          22.087,
          21.499,
          27.701,
          35.635,
          38.211,
          46.199,
          39.709,
          52.85,
          157.608,
          215.798,
          237.33,
          210.465,
          189.748,
          164.044,
          215.516,
          210.989,
          161.363
         ]
        },
        {
         "line": {
          "color": "lightgray"
         },
         "mode": "lines",
         "name": "Kenedy, TX",
         "opacity": 0.4,
         "showlegend": false,
         "text": "Kenedy, TX",
         "textposition": "top right",
         "type": "scatter",
         "x": [
          2001,
          2002,
          2003,
          2004,
          2005,
          2006,
          2007,
          2008,
          2009,
          2010,
          2011,
          2013,
          2014,
          2015,
          2016,
          2017,
          2018,
          2019,
          2020,
          2021
         ],
         "y": [
          196.94,
          240.353,
          205.938,
          208.987,
          150.62,
          137.52,
          155.499,
          137.439,
          157.722,
          145.021,
          124.526,
          94.502,
          114.236,
          95.267,
          86.603,
          96.607,
          96.381,
          120.008,
          95.146,
          109.684
         ]
        },
        {
         "line": {
          "color": "lightgray"
         },
         "mode": "lines",
         "name": "La Salle, TX",
         "opacity": 0.4,
         "showlegend": false,
         "text": "La Salle, TX",
         "textposition": "top right",
         "type": "scatter",
         "x": [
          2001,
          2002,
          2003,
          2004,
          2005,
          2006,
          2007,
          2008,
          2009,
          2010,
          2011,
          2013,
          2014,
          2015,
          2016,
          2017,
          2018,
          2019,
          2020,
          2021
         ],
         "y": [
          6.638,
          6.679,
          7.065,
          6.727,
          7.541,
          8.729,
          8.254,
          7.9,
          10.172,
          14.61,
          35.993,
          174.138,
          224.27,
          255.409,
          208.985,
          202.036,
          201.509,
          219.118,
          177.489,
          159.947
         ]
        },
        {
         "line": {
          "color": "lightgray"
         },
         "mode": "lines",
         "name": "Lynn, TX",
         "opacity": 0.4,
         "showlegend": false,
         "text": "Lynn, TX",
         "textposition": "top right",
         "type": "scatter",
         "x": [
          2001,
          2002,
          2003,
          2004,
          2005,
          2006,
          2007,
          2008,
          2009,
          2010,
          2011,
          2013,
          2014,
          2015,
          2016,
          2017,
          2018,
          2019,
          2020,
          2021
         ],
         "y": [
          72.809,
          74.115,
          95.842,
          102.883,
          111.407,
          70.065,
          134.061,
          73.107,
          77.839,
          118.586,
          71.591,
          140.636,
          85.881,
          84.332,
          97.395,
          100.017,
          110.848,
          137.807,
          158.341,
          181.485
         ]
        },
        {
         "line": {
          "color": "lightgray"
         },
         "mode": "lines",
         "name": "Sutton, TX",
         "opacity": 0.4,
         "showlegend": false,
         "text": "Sutton, TX",
         "textposition": "top right",
         "type": "scatter",
         "x": [
          2001,
          2002,
          2003,
          2004,
          2005,
          2006,
          2007,
          2008,
          2009,
          2010,
          2011,
          2013,
          2014,
          2015,
          2016,
          2017,
          2018,
          2019,
          2020,
          2021
         ],
         "y": [
          145.077,
          167.469,
          169.645,
          168.8,
          169.458,
          181.48,
          186.391,
          165.449,
          158.924,
          117.042,
          121.101,
          97.36,
          105.511,
          91.384,
          74.39,
          69.164,
          66.644,
          62.059,
          54.819,
          48.298
         ]
        },
        {
         "line": {
          "color": "lightgray"
         },
         "mode": "lines",
         "name": "Iron, UT",
         "opacity": 0.4,
         "showlegend": false,
         "text": "Iron, UT",
         "textposition": "top right",
         "type": "scatter",
         "x": [
          2001,
          2002,
          2003,
          2004,
          2005,
          2006,
          2007,
          2008,
          2009,
          2010,
          2011,
          2013,
          2014,
          2015,
          2016,
          2017,
          2018,
          2019,
          2020,
          2021
         ],
         "y": [
          85.042,
          90.605,
          92.132,
          95.678,
          103.62,
          115.339,
          110.912,
          107.589,
          105.751,
          104.129,
          108.954,
          101.166,
          106.208,
          106.717,
          112.383,
          119.811,
          132.822,
          143.364,
          147.685,
          158.128
         ]
        },
        {
         "line": {
          "color": "lightgray"
         },
         "mode": "lines",
         "name": "Orleans, VT",
         "opacity": 0.4,
         "showlegend": false,
         "text": "Orleans, VT",
         "textposition": "top right",
         "type": "scatter",
         "x": [
          2001,
          2002,
          2003,
          2004,
          2005,
          2006,
          2007,
          2008,
          2009,
          2010,
          2011,
          2013,
          2014,
          2015,
          2016,
          2017,
          2018,
          2019,
          2020,
          2021
         ],
         "y": [
          80.511,
          82.997,
          87.78,
          92.051,
          95.188,
          94.624,
          96.641,
          93.953,
          90.376,
          92.356,
          98.441,
          104.53,
          108.045,
          109.081,
          104.055,
          108.603,
          108.662,
          111.817,
          109.871,
          115.584
         ]
        },
        {
         "line": {
          "color": "lightgray"
         },
         "mode": "lines",
         "name": "Loudoun, VA",
         "opacity": 0.4,
         "showlegend": false,
         "text": "Loudoun, VA",
         "textposition": "top right",
         "type": "scatter",
         "x": [
          2001,
          2002,
          2003,
          2004,
          2005,
          2006,
          2007,
          2008,
          2009,
          2010,
          2011,
          2013,
          2014,
          2015,
          2016,
          2017,
          2018,
          2019,
          2020,
          2021
         ],
         "y": [
          54.577,
          58.344,
          59.797,
          67.983,
          70.55,
          80.004,
          83.433,
          88.128,
          88.527,
          94.722,
          95.981,
          104.642,
          107.304,
          112.23,
          118.089,
          125.18,
          132.649,
          136.27,
          128.368,
          138.745
         ]
        },
        {
         "line": {
          "color": "lightgray"
         },
         "mode": "lines",
         "name": "Northumberland, VA",
         "opacity": 0.4,
         "showlegend": false,
         "text": "Northumberland, VA",
         "textposition": "top right",
         "type": "scatter",
         "x": [
          2001,
          2002,
          2003,
          2004,
          2005,
          2006,
          2007,
          2008,
          2009,
          2010,
          2011,
          2013,
          2014,
          2015,
          2016,
          2017,
          2018,
          2019,
          2020,
          2021
         ],
         "y": [
          98.98,
          84.751,
          82.853,
          87.294,
          99.964,
          100.157,
          92.729,
          89.689,
          98.352,
          100.425,
          102.72,
          105.631,
          100.36,
          96.695,
          93.11,
          90.861,
          96.776,
          105.974,
          98.839,
          97.663
         ]
        },
        {
         "line": {
          "color": "lightgray"
         },
         "mode": "lines",
         "name": "Chesapeake (Independent City), VA",
         "opacity": 0.4,
         "showlegend": false,
         "text": "Chesapeake (Independent City), VA",
         "textposition": "top right",
         "type": "scatter",
         "x": [
          2001,
          2002,
          2003,
          2004,
          2005,
          2006,
          2007,
          2008,
          2009,
          2010,
          2011,
          2013,
          2014,
          2015,
          2016,
          2017,
          2018,
          2019,
          2020,
          2021
         ],
         "y": [
          81.231,
          84.019,
          89.156,
          95.703,
          102.34,
          102.588,
          104.844,
          104.471,
          104.412,
          105.339,
          103.766,
          101.301,
          100.555,
          102.359,
          102.728,
          103.445,
          106.133,
          107.879,
          107.303,
          111.718
         ]
        },
        {
         "line": {
          "color": "lightgray"
         },
         "mode": "lines",
         "name": "Columbia, WA",
         "opacity": 0.4,
         "showlegend": false,
         "text": "Columbia, WA",
         "textposition": "top right",
         "type": "scatter",
         "x": [
          2001,
          2002,
          2003,
          2004,
          2005,
          2006,
          2007,
          2008,
          2009,
          2010,
          2011,
          2013,
          2014,
          2015,
          2016,
          2017,
          2018,
          2019,
          2020,
          2021
         ],
         "y": [
          73.763,
          67.349,
          69.148,
          66.71,
          49.643,
          74.956,
          71.979,
          87.027,
          98.617,
          96.535,
          113.311,
          87.622,
          91.539,
          112.271,
          110.909,
          117.106,
          112.692,
          119.899,
          115.224,
          121.803
         ]
        },
        {
         "line": {
          "color": "lightgray"
         },
         "mode": "lines",
         "name": "Hardy, WV",
         "opacity": 0.4,
         "showlegend": false,
         "text": "Hardy, WV",
         "textposition": "top right",
         "type": "scatter",
         "x": [
          2001,
          2002,
          2003,
          2004,
          2005,
          2006,
          2007,
          2008,
          2009,
          2010,
          2011,
          2013,
          2014,
          2015,
          2016,
          2017,
          2018,
          2019,
          2020,
          2021
         ],
         "y": [
          104.789,
          101.558,
          110.257,
          109.327,
          116.288,
          112.9,
          110.329,
          104.432,
          98.263,
          100.433,
          99.296,
          102.1,
          98.651,
          101.342,
          107.817,
          113.806,
          122.65,
          133.847,
          135.41,
          137.54
         ]
        },
        {
         "line": {
          "color": "lightgray"
         },
         "mode": "lines",
         "name": "Pendleton, WV",
         "opacity": 0.4,
         "showlegend": false,
         "text": "Pendleton, WV",
         "textposition": "top right",
         "type": "scatter",
         "x": [
          2001,
          2002,
          2003,
          2004,
          2005,
          2006,
          2007,
          2008,
          2009,
          2010,
          2011,
          2013,
          2014,
          2015,
          2016,
          2017,
          2018,
          2019,
          2020,
          2021
         ],
         "y": [
          128.557,
          118.227,
          120.34,
          130.124,
          137.668,
          135.485,
          123.567,
          120.775,
          117.524,
          124.296,
          121.4,
          99.788,
          92.334,
          85.41,
          82.129,
          97.317,
          81.226,
          84.708,
          83.817,
          83.239
         ]
        },
        {
         "line": {
          "color": "lightgray"
         },
         "mode": "lines",
         "name": "Pleasants, WV",
         "opacity": 0.4,
         "showlegend": false,
         "text": "Pleasants, WV",
         "textposition": "top right",
         "type": "scatter",
         "x": [
          2001,
          2002,
          2003,
          2004,
          2005,
          2006,
          2007,
          2008,
          2009,
          2010,
          2011,
          2013,
          2014,
          2015,
          2016,
          2017,
          2018,
          2019,
          2020,
          2021
         ],
         "y": [
          88.386,
          84.46,
          84.967,
          86.216,
          88.262,
          92.607,
          92.697,
          94.084,
          93.414,
          100.242,
          100.394,
          104.797,
          110.328,
          108.085,
          108.409,
          112.805,
          107.773,
          97.151,
          91.729,
          100.422
         ]
        },
        {
         "line": {
          "color": "lightgray"
         },
         "mode": "lines",
         "name": "Pierce, WI",
         "opacity": 0.4,
         "showlegend": false,
         "text": "Pierce, WI",
         "textposition": "top right",
         "type": "scatter",
         "x": [
          2001,
          2002,
          2003,
          2004,
          2005,
          2006,
          2007,
          2008,
          2009,
          2010,
          2011,
          2013,
          2014,
          2015,
          2016,
          2017,
          2018,
          2019,
          2020,
          2021
         ],
         "y": [
          76.575,
          80.052,
          83.084,
          87.768,
          90.081,
          85.03,
          86.65,
          89.344,
          91.366,
          96.188,
          95.484,
          102.343,
          106.215,
          108.791,
          104.891,
          102.474,
          109.271,
          104.73,
          105.961,
          105.925
         ]
        },
        {
         "line": {
          "color": "darkred",
          "width": 3
         },
         "mode": "lines",
         "name": "Adams, PA",
         "showlegend": false,
         "text": "Adams, PA",
         "textposition": "top right",
         "type": "scatter",
         "x": [
          2001,
          2002,
          2003,
          2004,
          2005,
          2006,
          2007,
          2008,
          2009,
          2010,
          2011,
          2013,
          2014,
          2015,
          2016,
          2017,
          2018,
          2019,
          2020,
          2021
         ],
         "y": [
          78.619,
          84.689,
          84.475,
          85.86,
          89.556,
          93.508,
          93.154,
          95.379,
          96.885,
          95.036,
          97.071,
          100.08,
          100.006,
          102.509,
          103.708,
          108.411,
          105.39,
          103.44,
          97.678,
          102.664
         ]
        }
       ],
       "layout": {
        "annotations": [
         {
          "font": {
           "color": "darkred",
           "size": 12
          },
          "showarrow": false,
          "text": "Location recent percentile: 35.14%",
          "x": 2019,
          "y": 123.1968
         }
        ],
        "template": {
         "data": {
          "bar": [
           {
            "error_x": {
             "color": "rgb(36,36,36)"
            },
            "error_y": {
             "color": "rgb(36,36,36)"
            },
            "marker": {
             "line": {
              "color": "white",
              "width": 0.5
             },
             "pattern": {
              "fillmode": "overlay",
              "size": 10,
              "solidity": 0.2
             }
            },
            "type": "bar"
           }
          ],
          "barpolar": [
           {
            "marker": {
             "line": {
              "color": "white",
              "width": 0.5
             },
             "pattern": {
              "fillmode": "overlay",
              "size": 10,
              "solidity": 0.2
             }
            },
            "type": "barpolar"
           }
          ],
          "carpet": [
           {
            "aaxis": {
             "endlinecolor": "rgb(36,36,36)",
             "gridcolor": "white",
             "linecolor": "white",
             "minorgridcolor": "white",
             "startlinecolor": "rgb(36,36,36)"
            },
            "baxis": {
             "endlinecolor": "rgb(36,36,36)",
             "gridcolor": "white",
             "linecolor": "white",
             "minorgridcolor": "white",
             "startlinecolor": "rgb(36,36,36)"
            },
            "type": "carpet"
           }
          ],
          "choropleth": [
           {
            "colorbar": {
             "outlinewidth": 1,
             "tickcolor": "rgb(36,36,36)",
             "ticks": "outside"
            },
            "type": "choropleth"
           }
          ],
          "contour": [
           {
            "colorbar": {
             "outlinewidth": 1,
             "tickcolor": "rgb(36,36,36)",
             "ticks": "outside"
            },
            "colorscale": [
             [
              0,
              "#440154"
             ],
             [
              0.1111111111111111,
              "#482878"
             ],
             [
              0.2222222222222222,
              "#3e4989"
             ],
             [
              0.3333333333333333,
              "#31688e"
             ],
             [
              0.4444444444444444,
              "#26828e"
             ],
             [
              0.5555555555555556,
              "#1f9e89"
             ],
             [
              0.6666666666666666,
              "#35b779"
             ],
             [
              0.7777777777777778,
              "#6ece58"
             ],
             [
              0.8888888888888888,
              "#b5de2b"
             ],
             [
              1,
              "#fde725"
             ]
            ],
            "type": "contour"
           }
          ],
          "contourcarpet": [
           {
            "colorbar": {
             "outlinewidth": 1,
             "tickcolor": "rgb(36,36,36)",
             "ticks": "outside"
            },
            "type": "contourcarpet"
           }
          ],
          "heatmap": [
           {
            "colorbar": {
             "outlinewidth": 1,
             "tickcolor": "rgb(36,36,36)",
             "ticks": "outside"
            },
            "colorscale": [
             [
              0,
              "#440154"
             ],
             [
              0.1111111111111111,
              "#482878"
             ],
             [
              0.2222222222222222,
              "#3e4989"
             ],
             [
              0.3333333333333333,
              "#31688e"
             ],
             [
              0.4444444444444444,
              "#26828e"
             ],
             [
              0.5555555555555556,
              "#1f9e89"
             ],
             [
              0.6666666666666666,
              "#35b779"
             ],
             [
              0.7777777777777778,
              "#6ece58"
             ],
             [
              0.8888888888888888,
              "#b5de2b"
             ],
             [
              1,
              "#fde725"
             ]
            ],
            "type": "heatmap"
           }
          ],
          "heatmapgl": [
           {
            "colorbar": {
             "outlinewidth": 1,
             "tickcolor": "rgb(36,36,36)",
             "ticks": "outside"
            },
            "colorscale": [
             [
              0,
              "#440154"
             ],
             [
              0.1111111111111111,
              "#482878"
             ],
             [
              0.2222222222222222,
              "#3e4989"
             ],
             [
              0.3333333333333333,
              "#31688e"
             ],
             [
              0.4444444444444444,
              "#26828e"
             ],
             [
              0.5555555555555556,
              "#1f9e89"
             ],
             [
              0.6666666666666666,
              "#35b779"
             ],
             [
              0.7777777777777778,
              "#6ece58"
             ],
             [
              0.8888888888888888,
              "#b5de2b"
             ],
             [
              1,
              "#fde725"
             ]
            ],
            "type": "heatmapgl"
           }
          ],
          "histogram": [
           {
            "marker": {
             "line": {
              "color": "white",
              "width": 0.6
             }
            },
            "type": "histogram"
           }
          ],
          "histogram2d": [
           {
            "colorbar": {
             "outlinewidth": 1,
             "tickcolor": "rgb(36,36,36)",
             "ticks": "outside"
            },
            "colorscale": [
             [
              0,
              "#440154"
             ],
             [
              0.1111111111111111,
              "#482878"
             ],
             [
              0.2222222222222222,
              "#3e4989"
             ],
             [
              0.3333333333333333,
              "#31688e"
             ],
             [
              0.4444444444444444,
              "#26828e"
             ],
             [
              0.5555555555555556,
              "#1f9e89"
             ],
             [
              0.6666666666666666,
              "#35b779"
             ],
             [
              0.7777777777777778,
              "#6ece58"
             ],
             [
              0.8888888888888888,
              "#b5de2b"
             ],
             [
              1,
              "#fde725"
             ]
            ],
            "type": "histogram2d"
           }
          ],
          "histogram2dcontour": [
           {
            "colorbar": {
             "outlinewidth": 1,
             "tickcolor": "rgb(36,36,36)",
             "ticks": "outside"
            },
            "colorscale": [
             [
              0,
              "#440154"
             ],
             [
              0.1111111111111111,
              "#482878"
             ],
             [
              0.2222222222222222,
              "#3e4989"
             ],
             [
              0.3333333333333333,
              "#31688e"
             ],
             [
              0.4444444444444444,
              "#26828e"
             ],
             [
              0.5555555555555556,
              "#1f9e89"
             ],
             [
              0.6666666666666666,
              "#35b779"
             ],
             [
              0.7777777777777778,
              "#6ece58"
             ],
             [
              0.8888888888888888,
              "#b5de2b"
             ],
             [
              1,
              "#fde725"
             ]
            ],
            "type": "histogram2dcontour"
           }
          ],
          "mesh3d": [
           {
            "colorbar": {
             "outlinewidth": 1,
             "tickcolor": "rgb(36,36,36)",
             "ticks": "outside"
            },
            "type": "mesh3d"
           }
          ],
          "parcoords": [
           {
            "line": {
             "colorbar": {
              "outlinewidth": 1,
              "tickcolor": "rgb(36,36,36)",
              "ticks": "outside"
             }
            },
            "type": "parcoords"
           }
          ],
          "pie": [
           {
            "automargin": true,
            "type": "pie"
           }
          ],
          "scatter": [
           {
            "fillpattern": {
             "fillmode": "overlay",
             "size": 10,
             "solidity": 0.2
            },
            "type": "scatter"
           }
          ],
          "scatter3d": [
           {
            "line": {
             "colorbar": {
              "outlinewidth": 1,
              "tickcolor": "rgb(36,36,36)",
              "ticks": "outside"
             }
            },
            "marker": {
             "colorbar": {
              "outlinewidth": 1,
              "tickcolor": "rgb(36,36,36)",
              "ticks": "outside"
             }
            },
            "type": "scatter3d"
           }
          ],
          "scattercarpet": [
           {
            "marker": {
             "colorbar": {
              "outlinewidth": 1,
              "tickcolor": "rgb(36,36,36)",
              "ticks": "outside"
             }
            },
            "type": "scattercarpet"
           }
          ],
          "scattergeo": [
           {
            "marker": {
             "colorbar": {
              "outlinewidth": 1,
              "tickcolor": "rgb(36,36,36)",
              "ticks": "outside"
             }
            },
            "type": "scattergeo"
           }
          ],
          "scattergl": [
           {
            "marker": {
             "colorbar": {
              "outlinewidth": 1,
              "tickcolor": "rgb(36,36,36)",
              "ticks": "outside"
             }
            },
            "type": "scattergl"
           }
          ],
          "scattermapbox": [
           {
            "marker": {
             "colorbar": {
              "outlinewidth": 1,
              "tickcolor": "rgb(36,36,36)",
              "ticks": "outside"
             }
            },
            "type": "scattermapbox"
           }
          ],
          "scatterpolar": [
           {
            "marker": {
             "colorbar": {
              "outlinewidth": 1,
              "tickcolor": "rgb(36,36,36)",
              "ticks": "outside"
             }
            },
            "type": "scatterpolar"
           }
          ],
          "scatterpolargl": [
           {
            "marker": {
             "colorbar": {
              "outlinewidth": 1,
              "tickcolor": "rgb(36,36,36)",
              "ticks": "outside"
             }
            },
            "type": "scatterpolargl"
           }
          ],
          "scatterternary": [
           {
            "marker": {
             "colorbar": {
              "outlinewidth": 1,
              "tickcolor": "rgb(36,36,36)",
              "ticks": "outside"
             }
            },
            "type": "scatterternary"
           }
          ],
          "surface": [
           {
            "colorbar": {
             "outlinewidth": 1,
             "tickcolor": "rgb(36,36,36)",
             "ticks": "outside"
            },
            "colorscale": [
             [
              0,
              "#440154"
             ],
             [
              0.1111111111111111,
              "#482878"
             ],
             [
              0.2222222222222222,
              "#3e4989"
             ],
             [
              0.3333333333333333,
              "#31688e"
             ],
             [
              0.4444444444444444,
              "#26828e"
             ],
             [
              0.5555555555555556,
              "#1f9e89"
             ],
             [
              0.6666666666666666,
              "#35b779"
             ],
             [
              0.7777777777777778,
              "#6ece58"
             ],
             [
              0.8888888888888888,
              "#b5de2b"
             ],
             [
              1,
              "#fde725"
             ]
            ],
            "type": "surface"
           }
          ],
          "table": [
           {
            "cells": {
             "fill": {
              "color": "rgb(237,237,237)"
             },
             "line": {
              "color": "white"
             }
            },
            "header": {
             "fill": {
              "color": "rgb(217,217,217)"
             },
             "line": {
              "color": "white"
             }
            },
            "type": "table"
           }
          ]
         },
         "layout": {
          "annotationdefaults": {
           "arrowhead": 0,
           "arrowwidth": 1
          },
          "autotypenumbers": "strict",
          "coloraxis": {
           "colorbar": {
            "outlinewidth": 1,
            "tickcolor": "rgb(36,36,36)",
            "ticks": "outside"
           }
          },
          "colorscale": {
           "diverging": [
            [
             0,
             "rgb(103,0,31)"
            ],
            [
             0.1,
             "rgb(178,24,43)"
            ],
            [
             0.2,
             "rgb(214,96,77)"
            ],
            [
             0.3,
             "rgb(244,165,130)"
            ],
            [
             0.4,
             "rgb(253,219,199)"
            ],
            [
             0.5,
             "rgb(247,247,247)"
            ],
            [
             0.6,
             "rgb(209,229,240)"
            ],
            [
             0.7,
             "rgb(146,197,222)"
            ],
            [
             0.8,
             "rgb(67,147,195)"
            ],
            [
             0.9,
             "rgb(33,102,172)"
            ],
            [
             1,
             "rgb(5,48,97)"
            ]
           ],
           "sequential": [
            [
             0,
             "#440154"
            ],
            [
             0.1111111111111111,
             "#482878"
            ],
            [
             0.2222222222222222,
             "#3e4989"
            ],
            [
             0.3333333333333333,
             "#31688e"
            ],
            [
             0.4444444444444444,
             "#26828e"
            ],
            [
             0.5555555555555556,
             "#1f9e89"
            ],
            [
             0.6666666666666666,
             "#35b779"
            ],
            [
             0.7777777777777778,
             "#6ece58"
            ],
            [
             0.8888888888888888,
             "#b5de2b"
            ],
            [
             1,
             "#fde725"
            ]
           ],
           "sequentialminus": [
            [
             0,
             "#440154"
            ],
            [
             0.1111111111111111,
             "#482878"
            ],
            [
             0.2222222222222222,
             "#3e4989"
            ],
            [
             0.3333333333333333,
             "#31688e"
            ],
            [
             0.4444444444444444,
             "#26828e"
            ],
            [
             0.5555555555555556,
             "#1f9e89"
            ],
            [
             0.6666666666666666,
             "#35b779"
            ],
            [
             0.7777777777777778,
             "#6ece58"
            ],
            [
             0.8888888888888888,
             "#b5de2b"
            ],
            [
             1,
             "#fde725"
            ]
           ]
          },
          "colorway": [
           "#1F77B4",
           "#FF7F0E",
           "#2CA02C",
           "#D62728",
           "#9467BD",
           "#8C564B",
           "#E377C2",
           "#7F7F7F",
           "#BCBD22",
           "#17BECF"
          ],
          "font": {
           "color": "rgb(36,36,36)"
          },
          "geo": {
           "bgcolor": "white",
           "lakecolor": "white",
           "landcolor": "white",
           "showlakes": true,
           "showland": true,
           "subunitcolor": "white"
          },
          "hoverlabel": {
           "align": "left"
          },
          "hovermode": "closest",
          "mapbox": {
           "style": "light"
          },
          "paper_bgcolor": "white",
          "plot_bgcolor": "white",
          "polar": {
           "angularaxis": {
            "gridcolor": "rgb(232,232,232)",
            "linecolor": "rgb(36,36,36)",
            "showgrid": false,
            "showline": true,
            "ticks": "outside"
           },
           "bgcolor": "white",
           "radialaxis": {
            "gridcolor": "rgb(232,232,232)",
            "linecolor": "rgb(36,36,36)",
            "showgrid": false,
            "showline": true,
            "ticks": "outside"
           }
          },
          "scene": {
           "xaxis": {
            "backgroundcolor": "white",
            "gridcolor": "rgb(232,232,232)",
            "gridwidth": 2,
            "linecolor": "rgb(36,36,36)",
            "showbackground": true,
            "showgrid": false,
            "showline": true,
            "ticks": "outside",
            "zeroline": false,
            "zerolinecolor": "rgb(36,36,36)"
           },
           "yaxis": {
            "backgroundcolor": "white",
            "gridcolor": "rgb(232,232,232)",
            "gridwidth": 2,
            "linecolor": "rgb(36,36,36)",
            "showbackground": true,
            "showgrid": false,
            "showline": true,
            "ticks": "outside",
            "zeroline": false,
            "zerolinecolor": "rgb(36,36,36)"
           },
           "zaxis": {
            "backgroundcolor": "white",
            "gridcolor": "rgb(232,232,232)",
            "gridwidth": 2,
            "linecolor": "rgb(36,36,36)",
            "showbackground": true,
            "showgrid": false,
            "showline": true,
            "ticks": "outside",
            "zeroline": false,
            "zerolinecolor": "rgb(36,36,36)"
           }
          },
          "shapedefaults": {
           "fillcolor": "black",
           "line": {
            "width": 0
           },
           "opacity": 0.3
          },
          "ternary": {
           "aaxis": {
            "gridcolor": "rgb(232,232,232)",
            "linecolor": "rgb(36,36,36)",
            "showgrid": false,
            "showline": true,
            "ticks": "outside"
           },
           "baxis": {
            "gridcolor": "rgb(232,232,232)",
            "linecolor": "rgb(36,36,36)",
            "showgrid": false,
            "showline": true,
            "ticks": "outside"
           },
           "bgcolor": "white",
           "caxis": {
            "gridcolor": "rgb(232,232,232)",
            "linecolor": "rgb(36,36,36)",
            "showgrid": false,
            "showline": true,
            "ticks": "outside"
           }
          },
          "title": {
           "x": 0.05
          },
          "xaxis": {
           "automargin": true,
           "gridcolor": "rgb(232,232,232)",
           "linecolor": "rgb(36,36,36)",
           "showgrid": false,
           "showline": true,
           "ticks": "outside",
           "title": {
            "standoff": 15
           },
           "zeroline": false,
           "zerolinecolor": "rgb(36,36,36)"
          },
          "yaxis": {
           "automargin": true,
           "gridcolor": "rgb(232,232,232)",
           "linecolor": "rgb(36,36,36)",
           "showgrid": false,
           "showline": true,
           "ticks": "outside",
           "title": {
            "standoff": 15
           },
           "zeroline": false,
           "zerolinecolor": "rgb(36,36,36)"
          }
         }
        },
        "title": {
         "text": "gdp of Adams, PA, compared to 100 random other locations"
        },
        "xaxis": {
         "title": {
          "text": "Year"
         }
        },
        "yaxis": {
         "range": [
          16.30676909360986,
          175.50503090639015
         ],
         "title": {
          "text": "gdp"
         }
        }
       }
      }
     },
     "metadata": {},
     "output_type": "display_data"
    }
   ],
   "source": [
    "f  = FipsQuery(42001, \"gdp\")\n",
    "f.compare_my_outcome_to_others(sample_size= 100, range_multiplier= 10)\n"
   ]
  },
  {
   "cell_type": "markdown",
   "metadata": {},
   "source": [
    "#### Use case: similarity in outcome patterns\n",
    "\n",
    "You want to find top five juristdiction with similar gdp change patterns. You value times nearest to you a bit more, but also you only want the years 2003-2019 to be used for the outcome comparison."
   ]
  },
  {
   "cell_type": "code",
   "execution_count": 3,
   "metadata": {},
   "outputs": [
    {
     "data": {
      "application/vnd.plotly.v1+json": {
       "config": {
        "plotlyServerURL": "https://plot.ly"
       },
       "data": [
        {
         "type": "bar",
         "x": [
          "2001_gdp",
          "2002_gdp",
          "2003_gdp",
          "2004_gdp",
          "2005_gdp",
          "2006_gdp",
          "2007_gdp",
          "2008_gdp",
          "2009_gdp",
          "2010_gdp",
          "2011_gdp",
          "2013_gdp",
          "2014_gdp",
          "2015_gdp",
          "2016_gdp",
          "2017_gdp",
          "2018_gdp",
          "2019_gdp",
          "2020_gdp",
          "2021_gdp"
         ],
         "y": [
          0.13727950740432876,
          0.1455162778485885,
          0.1542472545195038,
          0.16350208979067407,
          0.17331221517811451,
          0.1837109480888014,
          0.19473360497412948,
          0.20641762127257726,
          0.2188026785489319,
          0.23193083926186783,
          0.24584668961757994,
          0.2605974909946347,
          0.2762333404543128,
          0.29280734088157157,
          0.3103757813344659,
          0.32899832821453384
         ]
        }
       ],
       "layout": {
        "template": {
         "data": {
          "bar": [
           {
            "error_x": {
             "color": "#2a3f5f"
            },
            "error_y": {
             "color": "#2a3f5f"
            },
            "marker": {
             "line": {
              "color": "white",
              "width": 0.5
             },
             "pattern": {
              "fillmode": "overlay",
              "size": 10,
              "solidity": 0.2
             }
            },
            "type": "bar"
           }
          ],
          "barpolar": [
           {
            "marker": {
             "line": {
              "color": "white",
              "width": 0.5
             },
             "pattern": {
              "fillmode": "overlay",
              "size": 10,
              "solidity": 0.2
             }
            },
            "type": "barpolar"
           }
          ],
          "carpet": [
           {
            "aaxis": {
             "endlinecolor": "#2a3f5f",
             "gridcolor": "#C8D4E3",
             "linecolor": "#C8D4E3",
             "minorgridcolor": "#C8D4E3",
             "startlinecolor": "#2a3f5f"
            },
            "baxis": {
             "endlinecolor": "#2a3f5f",
             "gridcolor": "#C8D4E3",
             "linecolor": "#C8D4E3",
             "minorgridcolor": "#C8D4E3",
             "startlinecolor": "#2a3f5f"
            },
            "type": "carpet"
           }
          ],
          "choropleth": [
           {
            "colorbar": {
             "outlinewidth": 0,
             "ticks": ""
            },
            "type": "choropleth"
           }
          ],
          "contour": [
           {
            "colorbar": {
             "outlinewidth": 0,
             "ticks": ""
            },
            "colorscale": [
             [
              0,
              "#0d0887"
             ],
             [
              0.1111111111111111,
              "#46039f"
             ],
             [
              0.2222222222222222,
              "#7201a8"
             ],
             [
              0.3333333333333333,
              "#9c179e"
             ],
             [
              0.4444444444444444,
              "#bd3786"
             ],
             [
              0.5555555555555556,
              "#d8576b"
             ],
             [
              0.6666666666666666,
              "#ed7953"
             ],
             [
              0.7777777777777778,
              "#fb9f3a"
             ],
             [
              0.8888888888888888,
              "#fdca26"
             ],
             [
              1,
              "#f0f921"
             ]
            ],
            "type": "contour"
           }
          ],
          "contourcarpet": [
           {
            "colorbar": {
             "outlinewidth": 0,
             "ticks": ""
            },
            "type": "contourcarpet"
           }
          ],
          "heatmap": [
           {
            "colorbar": {
             "outlinewidth": 0,
             "ticks": ""
            },
            "colorscale": [
             [
              0,
              "#0d0887"
             ],
             [
              0.1111111111111111,
              "#46039f"
             ],
             [
              0.2222222222222222,
              "#7201a8"
             ],
             [
              0.3333333333333333,
              "#9c179e"
             ],
             [
              0.4444444444444444,
              "#bd3786"
             ],
             [
              0.5555555555555556,
              "#d8576b"
             ],
             [
              0.6666666666666666,
              "#ed7953"
             ],
             [
              0.7777777777777778,
              "#fb9f3a"
             ],
             [
              0.8888888888888888,
              "#fdca26"
             ],
             [
              1,
              "#f0f921"
             ]
            ],
            "type": "heatmap"
           }
          ],
          "heatmapgl": [
           {
            "colorbar": {
             "outlinewidth": 0,
             "ticks": ""
            },
            "colorscale": [
             [
              0,
              "#0d0887"
             ],
             [
              0.1111111111111111,
              "#46039f"
             ],
             [
              0.2222222222222222,
              "#7201a8"
             ],
             [
              0.3333333333333333,
              "#9c179e"
             ],
             [
              0.4444444444444444,
              "#bd3786"
             ],
             [
              0.5555555555555556,
              "#d8576b"
             ],
             [
              0.6666666666666666,
              "#ed7953"
             ],
             [
              0.7777777777777778,
              "#fb9f3a"
             ],
             [
              0.8888888888888888,
              "#fdca26"
             ],
             [
              1,
              "#f0f921"
             ]
            ],
            "type": "heatmapgl"
           }
          ],
          "histogram": [
           {
            "marker": {
             "pattern": {
              "fillmode": "overlay",
              "size": 10,
              "solidity": 0.2
             }
            },
            "type": "histogram"
           }
          ],
          "histogram2d": [
           {
            "colorbar": {
             "outlinewidth": 0,
             "ticks": ""
            },
            "colorscale": [
             [
              0,
              "#0d0887"
             ],
             [
              0.1111111111111111,
              "#46039f"
             ],
             [
              0.2222222222222222,
              "#7201a8"
             ],
             [
              0.3333333333333333,
              "#9c179e"
             ],
             [
              0.4444444444444444,
              "#bd3786"
             ],
             [
              0.5555555555555556,
              "#d8576b"
             ],
             [
              0.6666666666666666,
              "#ed7953"
             ],
             [
              0.7777777777777778,
              "#fb9f3a"
             ],
             [
              0.8888888888888888,
              "#fdca26"
             ],
             [
              1,
              "#f0f921"
             ]
            ],
            "type": "histogram2d"
           }
          ],
          "histogram2dcontour": [
           {
            "colorbar": {
             "outlinewidth": 0,
             "ticks": ""
            },
            "colorscale": [
             [
              0,
              "#0d0887"
             ],
             [
              0.1111111111111111,
              "#46039f"
             ],
             [
              0.2222222222222222,
              "#7201a8"
             ],
             [
              0.3333333333333333,
              "#9c179e"
             ],
             [
              0.4444444444444444,
              "#bd3786"
             ],
             [
              0.5555555555555556,
              "#d8576b"
             ],
             [
              0.6666666666666666,
              "#ed7953"
             ],
             [
              0.7777777777777778,
              "#fb9f3a"
             ],
             [
              0.8888888888888888,
              "#fdca26"
             ],
             [
              1,
              "#f0f921"
             ]
            ],
            "type": "histogram2dcontour"
           }
          ],
          "mesh3d": [
           {
            "colorbar": {
             "outlinewidth": 0,
             "ticks": ""
            },
            "type": "mesh3d"
           }
          ],
          "parcoords": [
           {
            "line": {
             "colorbar": {
              "outlinewidth": 0,
              "ticks": ""
             }
            },
            "type": "parcoords"
           }
          ],
          "pie": [
           {
            "automargin": true,
            "type": "pie"
           }
          ],
          "scatter": [
           {
            "fillpattern": {
             "fillmode": "overlay",
             "size": 10,
             "solidity": 0.2
            },
            "type": "scatter"
           }
          ],
          "scatter3d": [
           {
            "line": {
             "colorbar": {
              "outlinewidth": 0,
              "ticks": ""
             }
            },
            "marker": {
             "colorbar": {
              "outlinewidth": 0,
              "ticks": ""
             }
            },
            "type": "scatter3d"
           }
          ],
          "scattercarpet": [
           {
            "marker": {
             "colorbar": {
              "outlinewidth": 0,
              "ticks": ""
             }
            },
            "type": "scattercarpet"
           }
          ],
          "scattergeo": [
           {
            "marker": {
             "colorbar": {
              "outlinewidth": 0,
              "ticks": ""
             }
            },
            "type": "scattergeo"
           }
          ],
          "scattergl": [
           {
            "marker": {
             "colorbar": {
              "outlinewidth": 0,
              "ticks": ""
             }
            },
            "type": "scattergl"
           }
          ],
          "scattermapbox": [
           {
            "marker": {
             "colorbar": {
              "outlinewidth": 0,
              "ticks": ""
             }
            },
            "type": "scattermapbox"
           }
          ],
          "scatterpolar": [
           {
            "marker": {
             "colorbar": {
              "outlinewidth": 0,
              "ticks": ""
             }
            },
            "type": "scatterpolar"
           }
          ],
          "scatterpolargl": [
           {
            "marker": {
             "colorbar": {
              "outlinewidth": 0,
              "ticks": ""
             }
            },
            "type": "scatterpolargl"
           }
          ],
          "scatterternary": [
           {
            "marker": {
             "colorbar": {
              "outlinewidth": 0,
              "ticks": ""
             }
            },
            "type": "scatterternary"
           }
          ],
          "surface": [
           {
            "colorbar": {
             "outlinewidth": 0,
             "ticks": ""
            },
            "colorscale": [
             [
              0,
              "#0d0887"
             ],
             [
              0.1111111111111111,
              "#46039f"
             ],
             [
              0.2222222222222222,
              "#7201a8"
             ],
             [
              0.3333333333333333,
              "#9c179e"
             ],
             [
              0.4444444444444444,
              "#bd3786"
             ],
             [
              0.5555555555555556,
              "#d8576b"
             ],
             [
              0.6666666666666666,
              "#ed7953"
             ],
             [
              0.7777777777777778,
              "#fb9f3a"
             ],
             [
              0.8888888888888888,
              "#fdca26"
             ],
             [
              1,
              "#f0f921"
             ]
            ],
            "type": "surface"
           }
          ],
          "table": [
           {
            "cells": {
             "fill": {
              "color": "#EBF0F8"
             },
             "line": {
              "color": "white"
             }
            },
            "header": {
             "fill": {
              "color": "#C8D4E3"
             },
             "line": {
              "color": "white"
             }
            },
            "type": "table"
           }
          ]
         },
         "layout": {
          "annotationdefaults": {
           "arrowcolor": "#2a3f5f",
           "arrowhead": 0,
           "arrowwidth": 1
          },
          "autotypenumbers": "strict",
          "coloraxis": {
           "colorbar": {
            "outlinewidth": 0,
            "ticks": ""
           }
          },
          "colorscale": {
           "diverging": [
            [
             0,
             "#8e0152"
            ],
            [
             0.1,
             "#c51b7d"
            ],
            [
             0.2,
             "#de77ae"
            ],
            [
             0.3,
             "#f1b6da"
            ],
            [
             0.4,
             "#fde0ef"
            ],
            [
             0.5,
             "#f7f7f7"
            ],
            [
             0.6,
             "#e6f5d0"
            ],
            [
             0.7,
             "#b8e186"
            ],
            [
             0.8,
             "#7fbc41"
            ],
            [
             0.9,
             "#4d9221"
            ],
            [
             1,
             "#276419"
            ]
           ],
           "sequential": [
            [
             0,
             "#0d0887"
            ],
            [
             0.1111111111111111,
             "#46039f"
            ],
            [
             0.2222222222222222,
             "#7201a8"
            ],
            [
             0.3333333333333333,
             "#9c179e"
            ],
            [
             0.4444444444444444,
             "#bd3786"
            ],
            [
             0.5555555555555556,
             "#d8576b"
            ],
            [
             0.6666666666666666,
             "#ed7953"
            ],
            [
             0.7777777777777778,
             "#fb9f3a"
            ],
            [
             0.8888888888888888,
             "#fdca26"
            ],
            [
             1,
             "#f0f921"
            ]
           ],
           "sequentialminus": [
            [
             0,
             "#0d0887"
            ],
            [
             0.1111111111111111,
             "#46039f"
            ],
            [
             0.2222222222222222,
             "#7201a8"
            ],
            [
             0.3333333333333333,
             "#9c179e"
            ],
            [
             0.4444444444444444,
             "#bd3786"
            ],
            [
             0.5555555555555556,
             "#d8576b"
            ],
            [
             0.6666666666666666,
             "#ed7953"
            ],
            [
             0.7777777777777778,
             "#fb9f3a"
            ],
            [
             0.8888888888888888,
             "#fdca26"
            ],
            [
             1,
             "#f0f921"
            ]
           ]
          },
          "colorway": [
           "#636efa",
           "#EF553B",
           "#00cc96",
           "#ab63fa",
           "#FFA15A",
           "#19d3f3",
           "#FF6692",
           "#B6E880",
           "#FF97FF",
           "#FECB52"
          ],
          "font": {
           "color": "#2a3f5f"
          },
          "geo": {
           "bgcolor": "white",
           "lakecolor": "white",
           "landcolor": "white",
           "showlakes": true,
           "showland": true,
           "subunitcolor": "#C8D4E3"
          },
          "hoverlabel": {
           "align": "left"
          },
          "hovermode": "closest",
          "mapbox": {
           "style": "light"
          },
          "paper_bgcolor": "white",
          "plot_bgcolor": "white",
          "polar": {
           "angularaxis": {
            "gridcolor": "#EBF0F8",
            "linecolor": "#EBF0F8",
            "ticks": ""
           },
           "bgcolor": "white",
           "radialaxis": {
            "gridcolor": "#EBF0F8",
            "linecolor": "#EBF0F8",
            "ticks": ""
           }
          },
          "scene": {
           "xaxis": {
            "backgroundcolor": "white",
            "gridcolor": "#DFE8F3",
            "gridwidth": 2,
            "linecolor": "#EBF0F8",
            "showbackground": true,
            "ticks": "",
            "zerolinecolor": "#EBF0F8"
           },
           "yaxis": {
            "backgroundcolor": "white",
            "gridcolor": "#DFE8F3",
            "gridwidth": 2,
            "linecolor": "#EBF0F8",
            "showbackground": true,
            "ticks": "",
            "zerolinecolor": "#EBF0F8"
           },
           "zaxis": {
            "backgroundcolor": "white",
            "gridcolor": "#DFE8F3",
            "gridwidth": 2,
            "linecolor": "#EBF0F8",
            "showbackground": true,
            "ticks": "",
            "zerolinecolor": "#EBF0F8"
           }
          },
          "shapedefaults": {
           "line": {
            "color": "#2a3f5f"
           }
          },
          "ternary": {
           "aaxis": {
            "gridcolor": "#DFE8F3",
            "linecolor": "#A2B1C6",
            "ticks": ""
           },
           "baxis": {
            "gridcolor": "#DFE8F3",
            "linecolor": "#A2B1C6",
            "ticks": ""
           },
           "bgcolor": "white",
           "caxis": {
            "gridcolor": "#DFE8F3",
            "linecolor": "#A2B1C6",
            "ticks": ""
           }
          },
          "title": {
           "x": 0.05
          },
          "xaxis": {
           "automargin": true,
           "gridcolor": "#EBF0F8",
           "linecolor": "#EBF0F8",
           "ticks": "",
           "title": {
            "standoff": 15
           },
           "zerolinecolor": "#EBF0F8",
           "zerolinewidth": 2
          },
          "yaxis": {
           "automargin": true,
           "gridcolor": "#EBF0F8",
           "linecolor": "#EBF0F8",
           "ticks": "",
           "title": {
            "standoff": 15
           },
           "zerolinecolor": "#EBF0F8",
           "zerolinewidth": 2
          }
         }
        },
        "title": {
         "text": "Weights of columns"
        },
        "xaxis": {
         "title": {
          "text": "columns"
         }
        },
        "yaxis": {
         "title": {
          "text": "weights"
         }
        }
       }
      }
     },
     "metadata": {},
     "output_type": "display_data"
    },
    {
     "data": {
      "text/plain": [
       "None"
      ]
     },
     "metadata": {},
     "output_type": "display_data"
    }
   ],
   "source": [
    "f  = FipsQuery(42001, \"gdp\", lag = 0, top =5, time_decay = 1.06, \n",
    "               outcome_comparison_period=(2003, 2019), outcome_percentile_range= (40,100))\n",
    "f.find_euclidean_kins()\n",
    "# you can inspect the weights resulting from your time_decay setting:\n",
    "\n",
    "display(f.plot_weights())"
   ]
  },
  {
   "cell_type": "code",
   "execution_count": 4,
   "metadata": {},
   "outputs": [
    {
     "data": {
      "text/html": [
       "<div>\n",
       "<style scoped>\n",
       "    .dataframe tbody tr th:only-of-type {\n",
       "        vertical-align: middle;\n",
       "    }\n",
       "\n",
       "    .dataframe tbody tr th {\n",
       "        vertical-align: top;\n",
       "    }\n",
       "\n",
       "    .dataframe thead th {\n",
       "        text-align: right;\n",
       "    }\n",
       "</style>\n",
       "<table border=\"1\" class=\"dataframe\">\n",
       "  <thead>\n",
       "    <tr style=\"text-align: right;\">\n",
       "      <th></th>\n",
       "      <th>GeoFIPS</th>\n",
       "      <th>GeoName</th>\n",
       "      <th>2001</th>\n",
       "      <th>2002</th>\n",
       "      <th>2003</th>\n",
       "      <th>2004</th>\n",
       "      <th>2005</th>\n",
       "      <th>2006</th>\n",
       "      <th>2007</th>\n",
       "      <th>2008</th>\n",
       "      <th>...</th>\n",
       "      <th>2014</th>\n",
       "      <th>2015</th>\n",
       "      <th>2016</th>\n",
       "      <th>2017</th>\n",
       "      <th>2018</th>\n",
       "      <th>2019</th>\n",
       "      <th>2020</th>\n",
       "      <th>2021</th>\n",
       "      <th>distance to 42001</th>\n",
       "      <th>percentile</th>\n",
       "    </tr>\n",
       "  </thead>\n",
       "  <tbody>\n",
       "    <tr>\n",
       "      <th>0</th>\n",
       "      <td>42001</td>\n",
       "      <td>Adams, PA</td>\n",
       "      <td>78.619</td>\n",
       "      <td>84.689</td>\n",
       "      <td>84.475</td>\n",
       "      <td>85.860</td>\n",
       "      <td>89.556</td>\n",
       "      <td>93.508</td>\n",
       "      <td>93.154</td>\n",
       "      <td>95.379</td>\n",
       "      <td>...</td>\n",
       "      <td>100.006</td>\n",
       "      <td>102.509</td>\n",
       "      <td>103.708</td>\n",
       "      <td>108.411</td>\n",
       "      <td>105.390</td>\n",
       "      <td>103.440</td>\n",
       "      <td>97.678</td>\n",
       "      <td>102.664</td>\n",
       "      <td>0.000000</td>\n",
       "      <td>35.14</td>\n",
       "    </tr>\n",
       "    <tr>\n",
       "      <th>1</th>\n",
       "      <td>24013</td>\n",
       "      <td>Carroll, MD</td>\n",
       "      <td>76.152</td>\n",
       "      <td>80.700</td>\n",
       "      <td>82.853</td>\n",
       "      <td>86.013</td>\n",
       "      <td>89.398</td>\n",
       "      <td>95.381</td>\n",
       "      <td>95.463</td>\n",
       "      <td>97.823</td>\n",
       "      <td>...</td>\n",
       "      <td>99.510</td>\n",
       "      <td>101.215</td>\n",
       "      <td>101.568</td>\n",
       "      <td>106.456</td>\n",
       "      <td>104.838</td>\n",
       "      <td>105.452</td>\n",
       "      <td>101.050</td>\n",
       "      <td>105.298</td>\n",
       "      <td>0.039596</td>\n",
       "      <td>41.95</td>\n",
       "    </tr>\n",
       "    <tr>\n",
       "      <th>2</th>\n",
       "      <td>28105</td>\n",
       "      <td>Oktibbeha, MS</td>\n",
       "      <td>83.279</td>\n",
       "      <td>85.143</td>\n",
       "      <td>83.864</td>\n",
       "      <td>85.565</td>\n",
       "      <td>91.160</td>\n",
       "      <td>93.433</td>\n",
       "      <td>93.899</td>\n",
       "      <td>98.855</td>\n",
       "      <td>...</td>\n",
       "      <td>100.858</td>\n",
       "      <td>100.069</td>\n",
       "      <td>106.639</td>\n",
       "      <td>105.926</td>\n",
       "      <td>106.941</td>\n",
       "      <td>107.105</td>\n",
       "      <td>108.225</td>\n",
       "      <td>109.357</td>\n",
       "      <td>0.055532</td>\n",
       "      <td>51.43</td>\n",
       "    </tr>\n",
       "    <tr>\n",
       "      <th>4</th>\n",
       "      <td>36103</td>\n",
       "      <td>Suffolk, NY</td>\n",
       "      <td>77.583</td>\n",
       "      <td>80.337</td>\n",
       "      <td>83.711</td>\n",
       "      <td>87.603</td>\n",
       "      <td>88.109</td>\n",
       "      <td>90.437</td>\n",
       "      <td>90.857</td>\n",
       "      <td>94.202</td>\n",
       "      <td>...</td>\n",
       "      <td>100.099</td>\n",
       "      <td>101.102</td>\n",
       "      <td>102.505</td>\n",
       "      <td>103.283</td>\n",
       "      <td>103.288</td>\n",
       "      <td>105.925</td>\n",
       "      <td>101.523</td>\n",
       "      <td>106.687</td>\n",
       "      <td>0.056833</td>\n",
       "      <td>44.94</td>\n",
       "    </tr>\n",
       "    <tr>\n",
       "      <th>5</th>\n",
       "      <td>25027</td>\n",
       "      <td>Worcester, MA</td>\n",
       "      <td>83.429</td>\n",
       "      <td>84.954</td>\n",
       "      <td>88.210</td>\n",
       "      <td>89.841</td>\n",
       "      <td>90.625</td>\n",
       "      <td>92.234</td>\n",
       "      <td>93.830</td>\n",
       "      <td>96.316</td>\n",
       "      <td>...</td>\n",
       "      <td>101.656</td>\n",
       "      <td>103.801</td>\n",
       "      <td>104.461</td>\n",
       "      <td>104.997</td>\n",
       "      <td>107.212</td>\n",
       "      <td>107.542</td>\n",
       "      <td>104.070</td>\n",
       "      <td>109.597</td>\n",
       "      <td>0.059123</td>\n",
       "      <td>51.98</td>\n",
       "    </tr>\n",
       "    <tr>\n",
       "      <th>...</th>\n",
       "      <td>...</td>\n",
       "      <td>...</td>\n",
       "      <td>...</td>\n",
       "      <td>...</td>\n",
       "      <td>...</td>\n",
       "      <td>...</td>\n",
       "      <td>...</td>\n",
       "      <td>...</td>\n",
       "      <td>...</td>\n",
       "      <td>...</td>\n",
       "      <td>...</td>\n",
       "      <td>...</td>\n",
       "      <td>...</td>\n",
       "      <td>...</td>\n",
       "      <td>...</td>\n",
       "      <td>...</td>\n",
       "      <td>...</td>\n",
       "      <td>...</td>\n",
       "      <td>...</td>\n",
       "      <td>...</td>\n",
       "      <td>...</td>\n",
       "    </tr>\n",
       "    <tr>\n",
       "      <th>3075</th>\n",
       "      <td>48127</td>\n",
       "      <td>Dimmit, TX</td>\n",
       "      <td>9.381</td>\n",
       "      <td>10.070</td>\n",
       "      <td>10.269</td>\n",
       "      <td>10.101</td>\n",
       "      <td>10.527</td>\n",
       "      <td>13.382</td>\n",
       "      <td>13.424</td>\n",
       "      <td>12.854</td>\n",
       "      <td>...</td>\n",
       "      <td>208.912</td>\n",
       "      <td>253.553</td>\n",
       "      <td>226.448</td>\n",
       "      <td>235.298</td>\n",
       "      <td>230.138</td>\n",
       "      <td>256.745</td>\n",
       "      <td>206.367</td>\n",
       "      <td>159.131</td>\n",
       "      <td>1.150028</td>\n",
       "      <td>96.27</td>\n",
       "    </tr>\n",
       "    <tr>\n",
       "      <th>3076</th>\n",
       "      <td>48389</td>\n",
       "      <td>Reeves, TX</td>\n",
       "      <td>46.003</td>\n",
       "      <td>49.290</td>\n",
       "      <td>44.960</td>\n",
       "      <td>41.682</td>\n",
       "      <td>39.742</td>\n",
       "      <td>41.332</td>\n",
       "      <td>41.009</td>\n",
       "      <td>41.389</td>\n",
       "      <td>...</td>\n",
       "      <td>212.473</td>\n",
       "      <td>334.183</td>\n",
       "      <td>416.768</td>\n",
       "      <td>607.235</td>\n",
       "      <td>843.967</td>\n",
       "      <td>1226.531</td>\n",
       "      <td>1136.483</td>\n",
       "      <td>942.206</td>\n",
       "      <td>1.163298</td>\n",
       "      <td>99.90</td>\n",
       "    </tr>\n",
       "    <tr>\n",
       "      <th>3078</th>\n",
       "      <td>48301</td>\n",
       "      <td>Loving, TX</td>\n",
       "      <td>37.050</td>\n",
       "      <td>40.836</td>\n",
       "      <td>40.690</td>\n",
       "      <td>49.561</td>\n",
       "      <td>81.009</td>\n",
       "      <td>110.338</td>\n",
       "      <td>149.312</td>\n",
       "      <td>114.503</td>\n",
       "      <td>...</td>\n",
       "      <td>186.286</td>\n",
       "      <td>306.333</td>\n",
       "      <td>551.251</td>\n",
       "      <td>802.739</td>\n",
       "      <td>1064.149</td>\n",
       "      <td>1388.130</td>\n",
       "      <td>1453.540</td>\n",
       "      <td>1080.924</td>\n",
       "      <td>1.182778</td>\n",
       "      <td>99.94</td>\n",
       "    </tr>\n",
       "    <tr>\n",
       "      <th>3080</th>\n",
       "      <td>48283</td>\n",
       "      <td>La Salle, TX</td>\n",
       "      <td>6.638</td>\n",
       "      <td>6.679</td>\n",
       "      <td>7.065</td>\n",
       "      <td>6.727</td>\n",
       "      <td>7.541</td>\n",
       "      <td>8.729</td>\n",
       "      <td>8.254</td>\n",
       "      <td>7.900</td>\n",
       "      <td>...</td>\n",
       "      <td>224.270</td>\n",
       "      <td>255.409</td>\n",
       "      <td>208.985</td>\n",
       "      <td>202.036</td>\n",
       "      <td>201.509</td>\n",
       "      <td>219.118</td>\n",
       "      <td>177.489</td>\n",
       "      <td>159.947</td>\n",
       "      <td>1.227202</td>\n",
       "      <td>96.40</td>\n",
       "    </tr>\n",
       "    <tr>\n",
       "      <th>3081</th>\n",
       "      <td>48255</td>\n",
       "      <td>Karnes, TX</td>\n",
       "      <td>6.498</td>\n",
       "      <td>6.891</td>\n",
       "      <td>7.331</td>\n",
       "      <td>6.759</td>\n",
       "      <td>6.537</td>\n",
       "      <td>6.290</td>\n",
       "      <td>6.662</td>\n",
       "      <td>6.937</td>\n",
       "      <td>...</td>\n",
       "      <td>170.877</td>\n",
       "      <td>210.901</td>\n",
       "      <td>200.421</td>\n",
       "      <td>221.260</td>\n",
       "      <td>217.623</td>\n",
       "      <td>236.985</td>\n",
       "      <td>204.295</td>\n",
       "      <td>183.520</td>\n",
       "      <td>1.236807</td>\n",
       "      <td>98.60</td>\n",
       "    </tr>\n",
       "  </tbody>\n",
       "</table>\n",
       "<p>1850 rows × 24 columns</p>\n",
       "</div>"
      ],
      "text/plain": [
       "      GeoFIPS        GeoName    2001    2002    2003    2004    2005     2006  \\\n",
       "0       42001      Adams, PA  78.619  84.689  84.475  85.860  89.556   93.508   \n",
       "1       24013    Carroll, MD  76.152  80.700  82.853  86.013  89.398   95.381   \n",
       "2       28105  Oktibbeha, MS  83.279  85.143  83.864  85.565  91.160   93.433   \n",
       "4       36103    Suffolk, NY  77.583  80.337  83.711  87.603  88.109   90.437   \n",
       "5       25027  Worcester, MA  83.429  84.954  88.210  89.841  90.625   92.234   \n",
       "...       ...            ...     ...     ...     ...     ...     ...      ...   \n",
       "3075    48127     Dimmit, TX   9.381  10.070  10.269  10.101  10.527   13.382   \n",
       "3076    48389     Reeves, TX  46.003  49.290  44.960  41.682  39.742   41.332   \n",
       "3078    48301     Loving, TX  37.050  40.836  40.690  49.561  81.009  110.338   \n",
       "3080    48283   La Salle, TX   6.638   6.679   7.065   6.727   7.541    8.729   \n",
       "3081    48255     Karnes, TX   6.498   6.891   7.331   6.759   6.537    6.290   \n",
       "\n",
       "         2007     2008  ...     2014     2015     2016     2017      2018  \\\n",
       "0      93.154   95.379  ...  100.006  102.509  103.708  108.411   105.390   \n",
       "1      95.463   97.823  ...   99.510  101.215  101.568  106.456   104.838   \n",
       "2      93.899   98.855  ...  100.858  100.069  106.639  105.926   106.941   \n",
       "4      90.857   94.202  ...  100.099  101.102  102.505  103.283   103.288   \n",
       "5      93.830   96.316  ...  101.656  103.801  104.461  104.997   107.212   \n",
       "...       ...      ...  ...      ...      ...      ...      ...       ...   \n",
       "3075   13.424   12.854  ...  208.912  253.553  226.448  235.298   230.138   \n",
       "3076   41.009   41.389  ...  212.473  334.183  416.768  607.235   843.967   \n",
       "3078  149.312  114.503  ...  186.286  306.333  551.251  802.739  1064.149   \n",
       "3080    8.254    7.900  ...  224.270  255.409  208.985  202.036   201.509   \n",
       "3081    6.662    6.937  ...  170.877  210.901  200.421  221.260   217.623   \n",
       "\n",
       "          2019      2020      2021  distance to 42001  percentile  \n",
       "0      103.440    97.678   102.664           0.000000       35.14  \n",
       "1      105.452   101.050   105.298           0.039596       41.95  \n",
       "2      107.105   108.225   109.357           0.055532       51.43  \n",
       "4      105.925   101.523   106.687           0.056833       44.94  \n",
       "5      107.542   104.070   109.597           0.059123       51.98  \n",
       "...        ...       ...       ...                ...         ...  \n",
       "3075   256.745   206.367   159.131           1.150028       96.27  \n",
       "3076  1226.531  1136.483   942.206           1.163298       99.90  \n",
       "3078  1388.130  1453.540  1080.924           1.182778       99.94  \n",
       "3080   219.118   177.489   159.947           1.227202       96.40  \n",
       "3081   236.985   204.295   183.520           1.236807       98.60  \n",
       "\n",
       "[1850 rows x 24 columns]"
      ]
     },
     "metadata": {},
     "output_type": "display_data"
    }
   ],
   "source": [
    "# you can find the distances and  inspect the resulting \n",
    "# dataframe that contains the ranking:\n",
    "f.find_euclidean_kins()\n",
    "display(f.euclidean_kins)"
   ]
  },
  {
   "cell_type": "code",
   "execution_count": 5,
   "metadata": {},
   "outputs": [
    {
     "data": {
      "application/vnd.plotly.v1+json": {
       "config": {
        "plotlyServerURL": "https://plot.ly"
       },
       "data": [
        {
         "line": {
          "color": "darkred",
          "width": 3
         },
         "mode": "lines",
         "name": "Adams, PA",
         "text": "Adams, PA",
         "textposition": "top right",
         "type": "scatter",
         "x": [
          2001,
          2002,
          2003,
          2004,
          2005,
          2006,
          2007,
          2008,
          2009,
          2010,
          2011,
          2013,
          2014,
          2015,
          2016,
          2017,
          2018,
          2019,
          2020,
          2021
         ],
         "y": [
          78.619,
          84.689,
          84.475,
          85.86,
          89.556,
          93.508,
          93.154,
          95.379,
          96.885,
          95.036,
          97.071,
          100.08,
          100.006,
          102.509,
          103.708,
          108.411,
          105.39,
          103.44,
          97.678,
          102.664
         ]
        },
        {
         "line": {
          "color": "#FFC0CB"
         },
         "mode": "lines",
         "name": "Lake, IL",
         "text": "Lake, IL",
         "textposition": "top right",
         "type": "scatter",
         "x": [
          2001,
          2002,
          2003,
          2004,
          2005,
          2006,
          2007,
          2008,
          2009,
          2010,
          2011,
          2013,
          2014,
          2015,
          2016,
          2017,
          2018,
          2019,
          2020,
          2021
         ],
         "y": [
          78.656,
          81.216,
          83.875,
          87.882,
          89.657,
          94.695,
          97.707,
          94.213,
          92.498,
          96.205,
          95.768,
          98.521,
          101.651,
          104.679,
          102.943,
          102.954,
          105.339,
          105.335,
          101.592,
          106.468
         ]
        },
        {
         "line": {
          "color": "#A9A9A9"
         },
         "mode": "lines",
         "name": "Carroll, MD",
         "text": "Carroll, MD",
         "textposition": "top right",
         "type": "scatter",
         "x": [
          2001,
          2002,
          2003,
          2004,
          2005,
          2006,
          2007,
          2008,
          2009,
          2010,
          2011,
          2013,
          2014,
          2015,
          2016,
          2017,
          2018,
          2019,
          2020,
          2021
         ],
         "y": [
          76.152,
          80.7,
          82.853,
          86.013,
          89.398,
          95.381,
          95.463,
          97.823,
          92.549,
          95.524,
          97.683,
          100.226,
          99.51,
          101.215,
          101.568,
          106.456,
          104.838,
          105.452,
          101.05,
          105.298
         ]
        },
        {
         "line": {
          "color": "#87CEFA"
         },
         "mode": "lines",
         "name": "Worcester, MA",
         "text": "Worcester, MA",
         "textposition": "top right",
         "type": "scatter",
         "x": [
          2001,
          2002,
          2003,
          2004,
          2005,
          2006,
          2007,
          2008,
          2009,
          2010,
          2011,
          2013,
          2014,
          2015,
          2016,
          2017,
          2018,
          2019,
          2020,
          2021
         ],
         "y": [
          83.429,
          84.954,
          88.21,
          89.841,
          90.625,
          92.234,
          93.83,
          96.316,
          92.366,
          96.009,
          99.117,
          100.871,
          101.656,
          103.801,
          104.461,
          104.997,
          107.212,
          107.542,
          104.07,
          109.597
         ]
        },
        {
         "line": {
          "color": "#FFD700"
         },
         "mode": "lines",
         "name": "Oktibbeha, MS",
         "text": "Oktibbeha, MS",
         "textposition": "top right",
         "type": "scatter",
         "x": [
          2001,
          2002,
          2003,
          2004,
          2005,
          2006,
          2007,
          2008,
          2009,
          2010,
          2011,
          2013,
          2014,
          2015,
          2016,
          2017,
          2018,
          2019,
          2020,
          2021
         ],
         "y": [
          83.279,
          85.143,
          83.864,
          85.565,
          91.16,
          93.433,
          93.899,
          98.855,
          99.163,
          97.766,
          99.952,
          101.228,
          100.858,
          100.069,
          106.639,
          105.926,
          106.941,
          107.105,
          108.225,
          109.357
         ]
        },
        {
         "line": {
          "color": "#98FB98"
         },
         "mode": "lines",
         "name": "Suffolk, NY",
         "text": "Suffolk, NY",
         "textposition": "top right",
         "type": "scatter",
         "x": [
          2001,
          2002,
          2003,
          2004,
          2005,
          2006,
          2007,
          2008,
          2009,
          2010,
          2011,
          2013,
          2014,
          2015,
          2016,
          2017,
          2018,
          2019,
          2020,
          2021
         ],
         "y": [
          77.583,
          80.337,
          83.711,
          87.603,
          88.109,
          90.437,
          90.857,
          94.202,
          95.221,
          99.128,
          98.238,
          99.697,
          100.099,
          101.102,
          102.505,
          103.283,
          103.288,
          105.925,
          101.523,
          106.687
         ]
        }
       ],
       "layout": {
        "legend": {
         "title": {
          "text": "GeoName"
         }
        },
        "template": {
         "data": {
          "bar": [
           {
            "error_x": {
             "color": "rgb(36,36,36)"
            },
            "error_y": {
             "color": "rgb(36,36,36)"
            },
            "marker": {
             "line": {
              "color": "white",
              "width": 0.5
             },
             "pattern": {
              "fillmode": "overlay",
              "size": 10,
              "solidity": 0.2
             }
            },
            "type": "bar"
           }
          ],
          "barpolar": [
           {
            "marker": {
             "line": {
              "color": "white",
              "width": 0.5
             },
             "pattern": {
              "fillmode": "overlay",
              "size": 10,
              "solidity": 0.2
             }
            },
            "type": "barpolar"
           }
          ],
          "carpet": [
           {
            "aaxis": {
             "endlinecolor": "rgb(36,36,36)",
             "gridcolor": "white",
             "linecolor": "white",
             "minorgridcolor": "white",
             "startlinecolor": "rgb(36,36,36)"
            },
            "baxis": {
             "endlinecolor": "rgb(36,36,36)",
             "gridcolor": "white",
             "linecolor": "white",
             "minorgridcolor": "white",
             "startlinecolor": "rgb(36,36,36)"
            },
            "type": "carpet"
           }
          ],
          "choropleth": [
           {
            "colorbar": {
             "outlinewidth": 1,
             "tickcolor": "rgb(36,36,36)",
             "ticks": "outside"
            },
            "type": "choropleth"
           }
          ],
          "contour": [
           {
            "colorbar": {
             "outlinewidth": 1,
             "tickcolor": "rgb(36,36,36)",
             "ticks": "outside"
            },
            "colorscale": [
             [
              0,
              "#440154"
             ],
             [
              0.1111111111111111,
              "#482878"
             ],
             [
              0.2222222222222222,
              "#3e4989"
             ],
             [
              0.3333333333333333,
              "#31688e"
             ],
             [
              0.4444444444444444,
              "#26828e"
             ],
             [
              0.5555555555555556,
              "#1f9e89"
             ],
             [
              0.6666666666666666,
              "#35b779"
             ],
             [
              0.7777777777777778,
              "#6ece58"
             ],
             [
              0.8888888888888888,
              "#b5de2b"
             ],
             [
              1,
              "#fde725"
             ]
            ],
            "type": "contour"
           }
          ],
          "contourcarpet": [
           {
            "colorbar": {
             "outlinewidth": 1,
             "tickcolor": "rgb(36,36,36)",
             "ticks": "outside"
            },
            "type": "contourcarpet"
           }
          ],
          "heatmap": [
           {
            "colorbar": {
             "outlinewidth": 1,
             "tickcolor": "rgb(36,36,36)",
             "ticks": "outside"
            },
            "colorscale": [
             [
              0,
              "#440154"
             ],
             [
              0.1111111111111111,
              "#482878"
             ],
             [
              0.2222222222222222,
              "#3e4989"
             ],
             [
              0.3333333333333333,
              "#31688e"
             ],
             [
              0.4444444444444444,
              "#26828e"
             ],
             [
              0.5555555555555556,
              "#1f9e89"
             ],
             [
              0.6666666666666666,
              "#35b779"
             ],
             [
              0.7777777777777778,
              "#6ece58"
             ],
             [
              0.8888888888888888,
              "#b5de2b"
             ],
             [
              1,
              "#fde725"
             ]
            ],
            "type": "heatmap"
           }
          ],
          "heatmapgl": [
           {
            "colorbar": {
             "outlinewidth": 1,
             "tickcolor": "rgb(36,36,36)",
             "ticks": "outside"
            },
            "colorscale": [
             [
              0,
              "#440154"
             ],
             [
              0.1111111111111111,
              "#482878"
             ],
             [
              0.2222222222222222,
              "#3e4989"
             ],
             [
              0.3333333333333333,
              "#31688e"
             ],
             [
              0.4444444444444444,
              "#26828e"
             ],
             [
              0.5555555555555556,
              "#1f9e89"
             ],
             [
              0.6666666666666666,
              "#35b779"
             ],
             [
              0.7777777777777778,
              "#6ece58"
             ],
             [
              0.8888888888888888,
              "#b5de2b"
             ],
             [
              1,
              "#fde725"
             ]
            ],
            "type": "heatmapgl"
           }
          ],
          "histogram": [
           {
            "marker": {
             "line": {
              "color": "white",
              "width": 0.6
             }
            },
            "type": "histogram"
           }
          ],
          "histogram2d": [
           {
            "colorbar": {
             "outlinewidth": 1,
             "tickcolor": "rgb(36,36,36)",
             "ticks": "outside"
            },
            "colorscale": [
             [
              0,
              "#440154"
             ],
             [
              0.1111111111111111,
              "#482878"
             ],
             [
              0.2222222222222222,
              "#3e4989"
             ],
             [
              0.3333333333333333,
              "#31688e"
             ],
             [
              0.4444444444444444,
              "#26828e"
             ],
             [
              0.5555555555555556,
              "#1f9e89"
             ],
             [
              0.6666666666666666,
              "#35b779"
             ],
             [
              0.7777777777777778,
              "#6ece58"
             ],
             [
              0.8888888888888888,
              "#b5de2b"
             ],
             [
              1,
              "#fde725"
             ]
            ],
            "type": "histogram2d"
           }
          ],
          "histogram2dcontour": [
           {
            "colorbar": {
             "outlinewidth": 1,
             "tickcolor": "rgb(36,36,36)",
             "ticks": "outside"
            },
            "colorscale": [
             [
              0,
              "#440154"
             ],
             [
              0.1111111111111111,
              "#482878"
             ],
             [
              0.2222222222222222,
              "#3e4989"
             ],
             [
              0.3333333333333333,
              "#31688e"
             ],
             [
              0.4444444444444444,
              "#26828e"
             ],
             [
              0.5555555555555556,
              "#1f9e89"
             ],
             [
              0.6666666666666666,
              "#35b779"
             ],
             [
              0.7777777777777778,
              "#6ece58"
             ],
             [
              0.8888888888888888,
              "#b5de2b"
             ],
             [
              1,
              "#fde725"
             ]
            ],
            "type": "histogram2dcontour"
           }
          ],
          "mesh3d": [
           {
            "colorbar": {
             "outlinewidth": 1,
             "tickcolor": "rgb(36,36,36)",
             "ticks": "outside"
            },
            "type": "mesh3d"
           }
          ],
          "parcoords": [
           {
            "line": {
             "colorbar": {
              "outlinewidth": 1,
              "tickcolor": "rgb(36,36,36)",
              "ticks": "outside"
             }
            },
            "type": "parcoords"
           }
          ],
          "pie": [
           {
            "automargin": true,
            "type": "pie"
           }
          ],
          "scatter": [
           {
            "fillpattern": {
             "fillmode": "overlay",
             "size": 10,
             "solidity": 0.2
            },
            "type": "scatter"
           }
          ],
          "scatter3d": [
           {
            "line": {
             "colorbar": {
              "outlinewidth": 1,
              "tickcolor": "rgb(36,36,36)",
              "ticks": "outside"
             }
            },
            "marker": {
             "colorbar": {
              "outlinewidth": 1,
              "tickcolor": "rgb(36,36,36)",
              "ticks": "outside"
             }
            },
            "type": "scatter3d"
           }
          ],
          "scattercarpet": [
           {
            "marker": {
             "colorbar": {
              "outlinewidth": 1,
              "tickcolor": "rgb(36,36,36)",
              "ticks": "outside"
             }
            },
            "type": "scattercarpet"
           }
          ],
          "scattergeo": [
           {
            "marker": {
             "colorbar": {
              "outlinewidth": 1,
              "tickcolor": "rgb(36,36,36)",
              "ticks": "outside"
             }
            },
            "type": "scattergeo"
           }
          ],
          "scattergl": [
           {
            "marker": {
             "colorbar": {
              "outlinewidth": 1,
              "tickcolor": "rgb(36,36,36)",
              "ticks": "outside"
             }
            },
            "type": "scattergl"
           }
          ],
          "scattermapbox": [
           {
            "marker": {
             "colorbar": {
              "outlinewidth": 1,
              "tickcolor": "rgb(36,36,36)",
              "ticks": "outside"
             }
            },
            "type": "scattermapbox"
           }
          ],
          "scatterpolar": [
           {
            "marker": {
             "colorbar": {
              "outlinewidth": 1,
              "tickcolor": "rgb(36,36,36)",
              "ticks": "outside"
             }
            },
            "type": "scatterpolar"
           }
          ],
          "scatterpolargl": [
           {
            "marker": {
             "colorbar": {
              "outlinewidth": 1,
              "tickcolor": "rgb(36,36,36)",
              "ticks": "outside"
             }
            },
            "type": "scatterpolargl"
           }
          ],
          "scatterternary": [
           {
            "marker": {
             "colorbar": {
              "outlinewidth": 1,
              "tickcolor": "rgb(36,36,36)",
              "ticks": "outside"
             }
            },
            "type": "scatterternary"
           }
          ],
          "surface": [
           {
            "colorbar": {
             "outlinewidth": 1,
             "tickcolor": "rgb(36,36,36)",
             "ticks": "outside"
            },
            "colorscale": [
             [
              0,
              "#440154"
             ],
             [
              0.1111111111111111,
              "#482878"
             ],
             [
              0.2222222222222222,
              "#3e4989"
             ],
             [
              0.3333333333333333,
              "#31688e"
             ],
             [
              0.4444444444444444,
              "#26828e"
             ],
             [
              0.5555555555555556,
              "#1f9e89"
             ],
             [
              0.6666666666666666,
              "#35b779"
             ],
             [
              0.7777777777777778,
              "#6ece58"
             ],
             [
              0.8888888888888888,
              "#b5de2b"
             ],
             [
              1,
              "#fde725"
             ]
            ],
            "type": "surface"
           }
          ],
          "table": [
           {
            "cells": {
             "fill": {
              "color": "rgb(237,237,237)"
             },
             "line": {
              "color": "white"
             }
            },
            "header": {
             "fill": {
              "color": "rgb(217,217,217)"
             },
             "line": {
              "color": "white"
             }
            },
            "type": "table"
           }
          ]
         },
         "layout": {
          "annotationdefaults": {
           "arrowhead": 0,
           "arrowwidth": 1
          },
          "autotypenumbers": "strict",
          "coloraxis": {
           "colorbar": {
            "outlinewidth": 1,
            "tickcolor": "rgb(36,36,36)",
            "ticks": "outside"
           }
          },
          "colorscale": {
           "diverging": [
            [
             0,
             "rgb(103,0,31)"
            ],
            [
             0.1,
             "rgb(178,24,43)"
            ],
            [
             0.2,
             "rgb(214,96,77)"
            ],
            [
             0.3,
             "rgb(244,165,130)"
            ],
            [
             0.4,
             "rgb(253,219,199)"
            ],
            [
             0.5,
             "rgb(247,247,247)"
            ],
            [
             0.6,
             "rgb(209,229,240)"
            ],
            [
             0.7,
             "rgb(146,197,222)"
            ],
            [
             0.8,
             "rgb(67,147,195)"
            ],
            [
             0.9,
             "rgb(33,102,172)"
            ],
            [
             1,
             "rgb(5,48,97)"
            ]
           ],
           "sequential": [
            [
             0,
             "#440154"
            ],
            [
             0.1111111111111111,
             "#482878"
            ],
            [
             0.2222222222222222,
             "#3e4989"
            ],
            [
             0.3333333333333333,
             "#31688e"
            ],
            [
             0.4444444444444444,
             "#26828e"
            ],
            [
             0.5555555555555556,
             "#1f9e89"
            ],
            [
             0.6666666666666666,
             "#35b779"
            ],
            [
             0.7777777777777778,
             "#6ece58"
            ],
            [
             0.8888888888888888,
             "#b5de2b"
            ],
            [
             1,
             "#fde725"
            ]
           ],
           "sequentialminus": [
            [
             0,
             "#440154"
            ],
            [
             0.1111111111111111,
             "#482878"
            ],
            [
             0.2222222222222222,
             "#3e4989"
            ],
            [
             0.3333333333333333,
             "#31688e"
            ],
            [
             0.4444444444444444,
             "#26828e"
            ],
            [
             0.5555555555555556,
             "#1f9e89"
            ],
            [
             0.6666666666666666,
             "#35b779"
            ],
            [
             0.7777777777777778,
             "#6ece58"
            ],
            [
             0.8888888888888888,
             "#b5de2b"
            ],
            [
             1,
             "#fde725"
            ]
           ]
          },
          "colorway": [
           "#1F77B4",
           "#FF7F0E",
           "#2CA02C",
           "#D62728",
           "#9467BD",
           "#8C564B",
           "#E377C2",
           "#7F7F7F",
           "#BCBD22",
           "#17BECF"
          ],
          "font": {
           "color": "rgb(36,36,36)"
          },
          "geo": {
           "bgcolor": "white",
           "lakecolor": "white",
           "landcolor": "white",
           "showlakes": true,
           "showland": true,
           "subunitcolor": "white"
          },
          "hoverlabel": {
           "align": "left"
          },
          "hovermode": "closest",
          "mapbox": {
           "style": "light"
          },
          "paper_bgcolor": "white",
          "plot_bgcolor": "white",
          "polar": {
           "angularaxis": {
            "gridcolor": "rgb(232,232,232)",
            "linecolor": "rgb(36,36,36)",
            "showgrid": false,
            "showline": true,
            "ticks": "outside"
           },
           "bgcolor": "white",
           "radialaxis": {
            "gridcolor": "rgb(232,232,232)",
            "linecolor": "rgb(36,36,36)",
            "showgrid": false,
            "showline": true,
            "ticks": "outside"
           }
          },
          "scene": {
           "xaxis": {
            "backgroundcolor": "white",
            "gridcolor": "rgb(232,232,232)",
            "gridwidth": 2,
            "linecolor": "rgb(36,36,36)",
            "showbackground": true,
            "showgrid": false,
            "showline": true,
            "ticks": "outside",
            "zeroline": false,
            "zerolinecolor": "rgb(36,36,36)"
           },
           "yaxis": {
            "backgroundcolor": "white",
            "gridcolor": "rgb(232,232,232)",
            "gridwidth": 2,
            "linecolor": "rgb(36,36,36)",
            "showbackground": true,
            "showgrid": false,
            "showline": true,
            "ticks": "outside",
            "zeroline": false,
            "zerolinecolor": "rgb(36,36,36)"
           },
           "zaxis": {
            "backgroundcolor": "white",
            "gridcolor": "rgb(232,232,232)",
            "gridwidth": 2,
            "linecolor": "rgb(36,36,36)",
            "showbackground": true,
            "showgrid": false,
            "showline": true,
            "ticks": "outside",
            "zeroline": false,
            "zerolinecolor": "rgb(36,36,36)"
           }
          },
          "shapedefaults": {
           "fillcolor": "black",
           "line": {
            "width": 0
           },
           "opacity": 0.3
          },
          "ternary": {
           "aaxis": {
            "gridcolor": "rgb(232,232,232)",
            "linecolor": "rgb(36,36,36)",
            "showgrid": false,
            "showline": true,
            "ticks": "outside"
           },
           "baxis": {
            "gridcolor": "rgb(232,232,232)",
            "linecolor": "rgb(36,36,36)",
            "showgrid": false,
            "showline": true,
            "ticks": "outside"
           },
           "bgcolor": "white",
           "caxis": {
            "gridcolor": "rgb(232,232,232)",
            "linecolor": "rgb(36,36,36)",
            "showgrid": false,
            "showline": true,
            "ticks": "outside"
           }
          },
          "title": {
           "x": 0.05
          },
          "xaxis": {
           "automargin": true,
           "gridcolor": "rgb(232,232,232)",
           "linecolor": "rgb(36,36,36)",
           "showgrid": false,
           "showline": true,
           "ticks": "outside",
           "title": {
            "standoff": 15
           },
           "zeroline": false,
           "zerolinecolor": "rgb(36,36,36)"
          },
          "yaxis": {
           "automargin": true,
           "gridcolor": "rgb(232,232,232)",
           "linecolor": "rgb(36,36,36)",
           "showgrid": false,
           "showline": true,
           "ticks": "outside",
           "title": {
            "standoff": 15
           },
           "zeroline": false,
           "zerolinecolor": "rgb(36,36,36)"
          }
         }
        },
        "title": {
         "text": "Top 5 locations matching your search"
        },
        "xaxis": {
         "title": {
          "text": "Year"
         }
        },
        "yaxis": {
         "title": {
          "text": "gdp"
         }
        }
       }
      }
     },
     "metadata": {},
     "output_type": "display_data"
    }
   ],
   "source": [
    "# you can plot the few most similar cities:\n",
    "fig = f.show_kins_plot()"
   ]
  },
  {
   "cell_type": "code",
   "execution_count": null,
   "metadata": {},
   "outputs": [],
   "source": []
  },
  {
   "cell_type": "markdown",
   "metadata": {},
   "source": [
    "### Use case: similarity in outcome patterns and some other features\n",
    "\n",
    "Say you want to include historical population patterns in your similarity ranking. You also want to pay a bit more attention to older data points. And you can now set weights to negative values to indicate that you care about dissimilarity in that feature."
   ]
  },
  {
   "cell_type": "code",
   "execution_count": 6,
   "metadata": {},
   "outputs": [
    {
     "data": {
      "application/vnd.plotly.v1+json": {
       "config": {
        "plotlyServerURL": "https://plot.ly"
       },
       "data": [
        {
         "type": "bar",
         "x": [
          "2001_gdp",
          "2002_gdp",
          "2003_gdp",
          "2004_gdp",
          "2005_gdp",
          "2006_gdp",
          "2007_gdp",
          "2008_gdp",
          "2009_gdp",
          "2010_gdp",
          "2011_gdp",
          "2013_gdp",
          "2014_gdp",
          "2015_gdp",
          "2016_gdp",
          "2017_gdp",
          "2018_gdp",
          "2019_gdp",
          "2020_gdp",
          "2021_gdp",
          "1993_population",
          "1994_population",
          "1995_population",
          "1996_population",
          "1997_population",
          "1998_population",
          "1999_population",
          "2000_population",
          "2001_population",
          "2002_population",
          "2003_population",
          "2004_population",
          "2005_population",
          "2006_population",
          "2007_population",
          "2008_population",
          "2009_population",
          "2010_population",
          "2011_population",
          "2012_population",
          "2013_population",
          "2014_population",
          "2015_population",
          "2016_population",
          "2017_population",
          "2018_population",
          "2019_population",
          "2020_population",
          "2021_population"
         ],
         "y": [
          -0.07443141519371825,
          -0.07666435764952981,
          -0.07896428837901569,
          -0.08133321703038617,
          -0.08377321354129776,
          -0.08628640994753668,
          -0.08887500224596279,
          -0.09154125231334168,
          -0.09428748988274194,
          -0.0971161145792242,
          -0.10002959801660093,
          -0.10303048595709895,
          -0.10612140053581191,
          -0.10930504255188629,
          -0.11258419382844288,
          -0.11596171964329616,
          -0.11944057123259505,
          -0.12302378836957291,
          -0.12671450202066012,
          -0.1305159370812799,
          0.022114671106632556,
          0.022778111239831533,
          0.02346145457702648,
          0.024165298214337275,
          0.024890257160767395,
          0.025636964875590414,
          0.02640607382185813,
          0.027198256036513876,
          0.028014203717609293,
          0.02885462982913757,
          0.0297202687240117,
          0.03061187678573205,
          0.03153023308930401,
          0.032476140081983136,
          0.03345042428444263,
          0.03445393701297591,
          0.03548755512336519,
          0.036552181777066144,
          0.03764874723037813,
          0.03877820964728947,
          0.03994155593670816,
          0.04113980261480941,
          0.04237399669325369,
          0.0436452165940513,
          0.04495457309187284,
          0.046303210284629026,
          0.0476923065931679,
          0.04912307579096294,
          0.05059676806469183
         ]
        }
       ],
       "layout": {
        "template": {
         "data": {
          "bar": [
           {
            "error_x": {
             "color": "#2a3f5f"
            },
            "error_y": {
             "color": "#2a3f5f"
            },
            "marker": {
             "line": {
              "color": "white",
              "width": 0.5
             },
             "pattern": {
              "fillmode": "overlay",
              "size": 10,
              "solidity": 0.2
             }
            },
            "type": "bar"
           }
          ],
          "barpolar": [
           {
            "marker": {
             "line": {
              "color": "white",
              "width": 0.5
             },
             "pattern": {
              "fillmode": "overlay",
              "size": 10,
              "solidity": 0.2
             }
            },
            "type": "barpolar"
           }
          ],
          "carpet": [
           {
            "aaxis": {
             "endlinecolor": "#2a3f5f",
             "gridcolor": "#C8D4E3",
             "linecolor": "#C8D4E3",
             "minorgridcolor": "#C8D4E3",
             "startlinecolor": "#2a3f5f"
            },
            "baxis": {
             "endlinecolor": "#2a3f5f",
             "gridcolor": "#C8D4E3",
             "linecolor": "#C8D4E3",
             "minorgridcolor": "#C8D4E3",
             "startlinecolor": "#2a3f5f"
            },
            "type": "carpet"
           }
          ],
          "choropleth": [
           {
            "colorbar": {
             "outlinewidth": 0,
             "ticks": ""
            },
            "type": "choropleth"
           }
          ],
          "contour": [
           {
            "colorbar": {
             "outlinewidth": 0,
             "ticks": ""
            },
            "colorscale": [
             [
              0,
              "#0d0887"
             ],
             [
              0.1111111111111111,
              "#46039f"
             ],
             [
              0.2222222222222222,
              "#7201a8"
             ],
             [
              0.3333333333333333,
              "#9c179e"
             ],
             [
              0.4444444444444444,
              "#bd3786"
             ],
             [
              0.5555555555555556,
              "#d8576b"
             ],
             [
              0.6666666666666666,
              "#ed7953"
             ],
             [
              0.7777777777777778,
              "#fb9f3a"
             ],
             [
              0.8888888888888888,
              "#fdca26"
             ],
             [
              1,
              "#f0f921"
             ]
            ],
            "type": "contour"
           }
          ],
          "contourcarpet": [
           {
            "colorbar": {
             "outlinewidth": 0,
             "ticks": ""
            },
            "type": "contourcarpet"
           }
          ],
          "heatmap": [
           {
            "colorbar": {
             "outlinewidth": 0,
             "ticks": ""
            },
            "colorscale": [
             [
              0,
              "#0d0887"
             ],
             [
              0.1111111111111111,
              "#46039f"
             ],
             [
              0.2222222222222222,
              "#7201a8"
             ],
             [
              0.3333333333333333,
              "#9c179e"
             ],
             [
              0.4444444444444444,
              "#bd3786"
             ],
             [
              0.5555555555555556,
              "#d8576b"
             ],
             [
              0.6666666666666666,
              "#ed7953"
             ],
             [
              0.7777777777777778,
              "#fb9f3a"
             ],
             [
              0.8888888888888888,
              "#fdca26"
             ],
             [
              1,
              "#f0f921"
             ]
            ],
            "type": "heatmap"
           }
          ],
          "heatmapgl": [
           {
            "colorbar": {
             "outlinewidth": 0,
             "ticks": ""
            },
            "colorscale": [
             [
              0,
              "#0d0887"
             ],
             [
              0.1111111111111111,
              "#46039f"
             ],
             [
              0.2222222222222222,
              "#7201a8"
             ],
             [
              0.3333333333333333,
              "#9c179e"
             ],
             [
              0.4444444444444444,
              "#bd3786"
             ],
             [
              0.5555555555555556,
              "#d8576b"
             ],
             [
              0.6666666666666666,
              "#ed7953"
             ],
             [
              0.7777777777777778,
              "#fb9f3a"
             ],
             [
              0.8888888888888888,
              "#fdca26"
             ],
             [
              1,
              "#f0f921"
             ]
            ],
            "type": "heatmapgl"
           }
          ],
          "histogram": [
           {
            "marker": {
             "pattern": {
              "fillmode": "overlay",
              "size": 10,
              "solidity": 0.2
             }
            },
            "type": "histogram"
           }
          ],
          "histogram2d": [
           {
            "colorbar": {
             "outlinewidth": 0,
             "ticks": ""
            },
            "colorscale": [
             [
              0,
              "#0d0887"
             ],
             [
              0.1111111111111111,
              "#46039f"
             ],
             [
              0.2222222222222222,
              "#7201a8"
             ],
             [
              0.3333333333333333,
              "#9c179e"
             ],
             [
              0.4444444444444444,
              "#bd3786"
             ],
             [
              0.5555555555555556,
              "#d8576b"
             ],
             [
              0.6666666666666666,
              "#ed7953"
             ],
             [
              0.7777777777777778,
              "#fb9f3a"
             ],
             [
              0.8888888888888888,
              "#fdca26"
             ],
             [
              1,
              "#f0f921"
             ]
            ],
            "type": "histogram2d"
           }
          ],
          "histogram2dcontour": [
           {
            "colorbar": {
             "outlinewidth": 0,
             "ticks": ""
            },
            "colorscale": [
             [
              0,
              "#0d0887"
             ],
             [
              0.1111111111111111,
              "#46039f"
             ],
             [
              0.2222222222222222,
              "#7201a8"
             ],
             [
              0.3333333333333333,
              "#9c179e"
             ],
             [
              0.4444444444444444,
              "#bd3786"
             ],
             [
              0.5555555555555556,
              "#d8576b"
             ],
             [
              0.6666666666666666,
              "#ed7953"
             ],
             [
              0.7777777777777778,
              "#fb9f3a"
             ],
             [
              0.8888888888888888,
              "#fdca26"
             ],
             [
              1,
              "#f0f921"
             ]
            ],
            "type": "histogram2dcontour"
           }
          ],
          "mesh3d": [
           {
            "colorbar": {
             "outlinewidth": 0,
             "ticks": ""
            },
            "type": "mesh3d"
           }
          ],
          "parcoords": [
           {
            "line": {
             "colorbar": {
              "outlinewidth": 0,
              "ticks": ""
             }
            },
            "type": "parcoords"
           }
          ],
          "pie": [
           {
            "automargin": true,
            "type": "pie"
           }
          ],
          "scatter": [
           {
            "fillpattern": {
             "fillmode": "overlay",
             "size": 10,
             "solidity": 0.2
            },
            "type": "scatter"
           }
          ],
          "scatter3d": [
           {
            "line": {
             "colorbar": {
              "outlinewidth": 0,
              "ticks": ""
             }
            },
            "marker": {
             "colorbar": {
              "outlinewidth": 0,
              "ticks": ""
             }
            },
            "type": "scatter3d"
           }
          ],
          "scattercarpet": [
           {
            "marker": {
             "colorbar": {
              "outlinewidth": 0,
              "ticks": ""
             }
            },
            "type": "scattercarpet"
           }
          ],
          "scattergeo": [
           {
            "marker": {
             "colorbar": {
              "outlinewidth": 0,
              "ticks": ""
             }
            },
            "type": "scattergeo"
           }
          ],
          "scattergl": [
           {
            "marker": {
             "colorbar": {
              "outlinewidth": 0,
              "ticks": ""
             }
            },
            "type": "scattergl"
           }
          ],
          "scattermapbox": [
           {
            "marker": {
             "colorbar": {
              "outlinewidth": 0,
              "ticks": ""
             }
            },
            "type": "scattermapbox"
           }
          ],
          "scatterpolar": [
           {
            "marker": {
             "colorbar": {
              "outlinewidth": 0,
              "ticks": ""
             }
            },
            "type": "scatterpolar"
           }
          ],
          "scatterpolargl": [
           {
            "marker": {
             "colorbar": {
              "outlinewidth": 0,
              "ticks": ""
             }
            },
            "type": "scatterpolargl"
           }
          ],
          "scatterternary": [
           {
            "marker": {
             "colorbar": {
              "outlinewidth": 0,
              "ticks": ""
             }
            },
            "type": "scatterternary"
           }
          ],
          "surface": [
           {
            "colorbar": {
             "outlinewidth": 0,
             "ticks": ""
            },
            "colorscale": [
             [
              0,
              "#0d0887"
             ],
             [
              0.1111111111111111,
              "#46039f"
             ],
             [
              0.2222222222222222,
              "#7201a8"
             ],
             [
              0.3333333333333333,
              "#9c179e"
             ],
             [
              0.4444444444444444,
              "#bd3786"
             ],
             [
              0.5555555555555556,
              "#d8576b"
             ],
             [
              0.6666666666666666,
              "#ed7953"
             ],
             [
              0.7777777777777778,
              "#fb9f3a"
             ],
             [
              0.8888888888888888,
              "#fdca26"
             ],
             [
              1,
              "#f0f921"
             ]
            ],
            "type": "surface"
           }
          ],
          "table": [
           {
            "cells": {
             "fill": {
              "color": "#EBF0F8"
             },
             "line": {
              "color": "white"
             }
            },
            "header": {
             "fill": {
              "color": "#C8D4E3"
             },
             "line": {
              "color": "white"
             }
            },
            "type": "table"
           }
          ]
         },
         "layout": {
          "annotationdefaults": {
           "arrowcolor": "#2a3f5f",
           "arrowhead": 0,
           "arrowwidth": 1
          },
          "autotypenumbers": "strict",
          "coloraxis": {
           "colorbar": {
            "outlinewidth": 0,
            "ticks": ""
           }
          },
          "colorscale": {
           "diverging": [
            [
             0,
             "#8e0152"
            ],
            [
             0.1,
             "#c51b7d"
            ],
            [
             0.2,
             "#de77ae"
            ],
            [
             0.3,
             "#f1b6da"
            ],
            [
             0.4,
             "#fde0ef"
            ],
            [
             0.5,
             "#f7f7f7"
            ],
            [
             0.6,
             "#e6f5d0"
            ],
            [
             0.7,
             "#b8e186"
            ],
            [
             0.8,
             "#7fbc41"
            ],
            [
             0.9,
             "#4d9221"
            ],
            [
             1,
             "#276419"
            ]
           ],
           "sequential": [
            [
             0,
             "#0d0887"
            ],
            [
             0.1111111111111111,
             "#46039f"
            ],
            [
             0.2222222222222222,
             "#7201a8"
            ],
            [
             0.3333333333333333,
             "#9c179e"
            ],
            [
             0.4444444444444444,
             "#bd3786"
            ],
            [
             0.5555555555555556,
             "#d8576b"
            ],
            [
             0.6666666666666666,
             "#ed7953"
            ],
            [
             0.7777777777777778,
             "#fb9f3a"
            ],
            [
             0.8888888888888888,
             "#fdca26"
            ],
            [
             1,
             "#f0f921"
            ]
           ],
           "sequentialminus": [
            [
             0,
             "#0d0887"
            ],
            [
             0.1111111111111111,
             "#46039f"
            ],
            [
             0.2222222222222222,
             "#7201a8"
            ],
            [
             0.3333333333333333,
             "#9c179e"
            ],
            [
             0.4444444444444444,
             "#bd3786"
            ],
            [
             0.5555555555555556,
             "#d8576b"
            ],
            [
             0.6666666666666666,
             "#ed7953"
            ],
            [
             0.7777777777777778,
             "#fb9f3a"
            ],
            [
             0.8888888888888888,
             "#fdca26"
            ],
            [
             1,
             "#f0f921"
            ]
           ]
          },
          "colorway": [
           "#636efa",
           "#EF553B",
           "#00cc96",
           "#ab63fa",
           "#FFA15A",
           "#19d3f3",
           "#FF6692",
           "#B6E880",
           "#FF97FF",
           "#FECB52"
          ],
          "font": {
           "color": "#2a3f5f"
          },
          "geo": {
           "bgcolor": "white",
           "lakecolor": "white",
           "landcolor": "white",
           "showlakes": true,
           "showland": true,
           "subunitcolor": "#C8D4E3"
          },
          "hoverlabel": {
           "align": "left"
          },
          "hovermode": "closest",
          "mapbox": {
           "style": "light"
          },
          "paper_bgcolor": "white",
          "plot_bgcolor": "white",
          "polar": {
           "angularaxis": {
            "gridcolor": "#EBF0F8",
            "linecolor": "#EBF0F8",
            "ticks": ""
           },
           "bgcolor": "white",
           "radialaxis": {
            "gridcolor": "#EBF0F8",
            "linecolor": "#EBF0F8",
            "ticks": ""
           }
          },
          "scene": {
           "xaxis": {
            "backgroundcolor": "white",
            "gridcolor": "#DFE8F3",
            "gridwidth": 2,
            "linecolor": "#EBF0F8",
            "showbackground": true,
            "ticks": "",
            "zerolinecolor": "#EBF0F8"
           },
           "yaxis": {
            "backgroundcolor": "white",
            "gridcolor": "#DFE8F3",
            "gridwidth": 2,
            "linecolor": "#EBF0F8",
            "showbackground": true,
            "ticks": "",
            "zerolinecolor": "#EBF0F8"
           },
           "zaxis": {
            "backgroundcolor": "white",
            "gridcolor": "#DFE8F3",
            "gridwidth": 2,
            "linecolor": "#EBF0F8",
            "showbackground": true,
            "ticks": "",
            "zerolinecolor": "#EBF0F8"
           }
          },
          "shapedefaults": {
           "line": {
            "color": "#2a3f5f"
           }
          },
          "ternary": {
           "aaxis": {
            "gridcolor": "#DFE8F3",
            "linecolor": "#A2B1C6",
            "ticks": ""
           },
           "baxis": {
            "gridcolor": "#DFE8F3",
            "linecolor": "#A2B1C6",
            "ticks": ""
           },
           "bgcolor": "white",
           "caxis": {
            "gridcolor": "#DFE8F3",
            "linecolor": "#A2B1C6",
            "ticks": ""
           }
          },
          "title": {
           "x": 0.05
          },
          "xaxis": {
           "automargin": true,
           "gridcolor": "#EBF0F8",
           "linecolor": "#EBF0F8",
           "ticks": "",
           "title": {
            "standoff": 15
           },
           "zerolinecolor": "#EBF0F8",
           "zerolinewidth": 2
          },
          "yaxis": {
           "automargin": true,
           "gridcolor": "#EBF0F8",
           "linecolor": "#EBF0F8",
           "ticks": "",
           "title": {
            "standoff": 15
           },
           "zerolinecolor": "#EBF0F8",
           "zerolinewidth": 2
          }
         }
        },
        "title": {
         "text": "Weights of columns"
        },
        "xaxis": {
         "title": {
          "text": "columns"
         }
        },
        "yaxis": {
         "title": {
          "text": "weights"
         }
        }
       }
      }
     },
     "metadata": {},
     "output_type": "display_data"
    },
    {
     "data": {
      "text/plain": [
       "None"
      ]
     },
     "metadata": {},
     "output_type": "display_data"
    }
   ],
   "source": [
    "f  = FipsQuery(1007, outcome_var = \"gdp\",\n",
    "               feature_groups_with_weights= {\"gdp\": -2, \"population\":1}, #with one feature group only\n",
    "               # weights 1-4 won't make a difference\n",
    "               lag = 0, top =5, time_decay = 1.03)\n",
    "f.find_euclidean_kins()\n",
    "# you still can inspect the resulting weighing:\n",
    "display(f.plot_weights())"
   ]
  },
  {
   "cell_type": "code",
   "execution_count": 7,
   "metadata": {},
   "outputs": [
    {
     "data": {
      "text/html": [
       "<div>\n",
       "<style scoped>\n",
       "    .dataframe tbody tr th:only-of-type {\n",
       "        vertical-align: middle;\n",
       "    }\n",
       "\n",
       "    .dataframe tbody tr th {\n",
       "        vertical-align: top;\n",
       "    }\n",
       "\n",
       "    .dataframe thead th {\n",
       "        text-align: right;\n",
       "    }\n",
       "</style>\n",
       "<table border=\"1\" class=\"dataframe\">\n",
       "  <thead>\n",
       "    <tr style=\"text-align: right;\">\n",
       "      <th></th>\n",
       "      <th>GeoFIPS</th>\n",
       "      <th>GeoName</th>\n",
       "      <th>2001</th>\n",
       "      <th>2002</th>\n",
       "      <th>2003</th>\n",
       "      <th>2004</th>\n",
       "      <th>2005</th>\n",
       "      <th>2006</th>\n",
       "      <th>2007</th>\n",
       "      <th>2008</th>\n",
       "      <th>...</th>\n",
       "      <th>2014_population</th>\n",
       "      <th>2015_population</th>\n",
       "      <th>2016_population</th>\n",
       "      <th>2017_population</th>\n",
       "      <th>2018_population</th>\n",
       "      <th>2019_population</th>\n",
       "      <th>2020_population</th>\n",
       "      <th>2021_population</th>\n",
       "      <th>distance to 1007</th>\n",
       "      <th>percentile</th>\n",
       "    </tr>\n",
       "  </thead>\n",
       "  <tbody>\n",
       "    <tr>\n",
       "      <th>0</th>\n",
       "      <td>1007</td>\n",
       "      <td>Bibb, AL</td>\n",
       "      <td>80.443</td>\n",
       "      <td>81.527</td>\n",
       "      <td>85.124</td>\n",
       "      <td>89.317</td>\n",
       "      <td>88.782</td>\n",
       "      <td>89.597</td>\n",
       "      <td>95.308</td>\n",
       "      <td>94.745</td>\n",
       "      <td>...</td>\n",
       "      <td>22586.0</td>\n",
       "      <td>22607.0</td>\n",
       "      <td>22654.0</td>\n",
       "      <td>22606.0</td>\n",
       "      <td>22383.0</td>\n",
       "      <td>22405.0</td>\n",
       "      <td>22223.0</td>\n",
       "      <td>22477.0</td>\n",
       "      <td>0.000000</td>\n",
       "      <td>47.86</td>\n",
       "    </tr>\n",
       "    <tr>\n",
       "      <th>1</th>\n",
       "      <td>48109</td>\n",
       "      <td>Culberson, TX</td>\n",
       "      <td>35.264</td>\n",
       "      <td>37.743</td>\n",
       "      <td>36.255</td>\n",
       "      <td>38.339</td>\n",
       "      <td>40.177</td>\n",
       "      <td>41.247</td>\n",
       "      <td>42.368</td>\n",
       "      <td>53.349</td>\n",
       "      <td>...</td>\n",
       "      <td>2301.0</td>\n",
       "      <td>2275.0</td>\n",
       "      <td>2244.0</td>\n",
       "      <td>2259.0</td>\n",
       "      <td>2212.0</td>\n",
       "      <td>2186.0</td>\n",
       "      <td>2193.0</td>\n",
       "      <td>2193.0</td>\n",
       "      <td>1.947278</td>\n",
       "      <td>99.97</td>\n",
       "    </tr>\n",
       "    <tr>\n",
       "      <th>2</th>\n",
       "      <td>48389</td>\n",
       "      <td>Reeves, TX</td>\n",
       "      <td>46.003</td>\n",
       "      <td>49.290</td>\n",
       "      <td>44.960</td>\n",
       "      <td>41.682</td>\n",
       "      <td>39.742</td>\n",
       "      <td>41.332</td>\n",
       "      <td>41.009</td>\n",
       "      <td>41.389</td>\n",
       "      <td>...</td>\n",
       "      <td>14614.0</td>\n",
       "      <td>14936.0</td>\n",
       "      <td>14484.0</td>\n",
       "      <td>14314.0</td>\n",
       "      <td>14526.0</td>\n",
       "      <td>14847.0</td>\n",
       "      <td>14730.0</td>\n",
       "      <td>14487.0</td>\n",
       "      <td>1.968913</td>\n",
       "      <td>99.90</td>\n",
       "    </tr>\n",
       "    <tr>\n",
       "      <th>3</th>\n",
       "      <td>48283</td>\n",
       "      <td>La Salle, TX</td>\n",
       "      <td>6.638</td>\n",
       "      <td>6.679</td>\n",
       "      <td>7.065</td>\n",
       "      <td>6.727</td>\n",
       "      <td>7.541</td>\n",
       "      <td>8.729</td>\n",
       "      <td>8.254</td>\n",
       "      <td>7.900</td>\n",
       "      <td>...</td>\n",
       "      <td>7115.0</td>\n",
       "      <td>7175.0</td>\n",
       "      <td>7057.0</td>\n",
       "      <td>6916.0</td>\n",
       "      <td>6808.0</td>\n",
       "      <td>6763.0</td>\n",
       "      <td>6642.0</td>\n",
       "      <td>6670.0</td>\n",
       "      <td>2.070731</td>\n",
       "      <td>96.40</td>\n",
       "    </tr>\n",
       "    <tr>\n",
       "      <th>4</th>\n",
       "      <td>48255</td>\n",
       "      <td>Karnes, TX</td>\n",
       "      <td>6.498</td>\n",
       "      <td>6.891</td>\n",
       "      <td>7.331</td>\n",
       "      <td>6.759</td>\n",
       "      <td>6.537</td>\n",
       "      <td>6.290</td>\n",
       "      <td>6.662</td>\n",
       "      <td>6.937</td>\n",
       "      <td>...</td>\n",
       "      <td>14569.0</td>\n",
       "      <td>14976.0</td>\n",
       "      <td>14997.0</td>\n",
       "      <td>14990.0</td>\n",
       "      <td>15028.0</td>\n",
       "      <td>14605.0</td>\n",
       "      <td>14721.0</td>\n",
       "      <td>14754.0</td>\n",
       "      <td>2.076390</td>\n",
       "      <td>98.60</td>\n",
       "    </tr>\n",
       "    <tr>\n",
       "      <th>...</th>\n",
       "      <td>...</td>\n",
       "      <td>...</td>\n",
       "      <td>...</td>\n",
       "      <td>...</td>\n",
       "      <td>...</td>\n",
       "      <td>...</td>\n",
       "      <td>...</td>\n",
       "      <td>...</td>\n",
       "      <td>...</td>\n",
       "      <td>...</td>\n",
       "      <td>...</td>\n",
       "      <td>...</td>\n",
       "      <td>...</td>\n",
       "      <td>...</td>\n",
       "      <td>...</td>\n",
       "      <td>...</td>\n",
       "      <td>...</td>\n",
       "      <td>...</td>\n",
       "      <td>...</td>\n",
       "      <td>...</td>\n",
       "      <td>...</td>\n",
       "    </tr>\n",
       "    <tr>\n",
       "      <th>3077</th>\n",
       "      <td>6073</td>\n",
       "      <td>San Diego, CA</td>\n",
       "      <td>79.703</td>\n",
       "      <td>83.170</td>\n",
       "      <td>87.449</td>\n",
       "      <td>92.400</td>\n",
       "      <td>97.137</td>\n",
       "      <td>99.354</td>\n",
       "      <td>100.938</td>\n",
       "      <td>100.267</td>\n",
       "      <td>...</td>\n",
       "      <td>3234658.0</td>\n",
       "      <td>3262566.0</td>\n",
       "      <td>3283586.0</td>\n",
       "      <td>3293575.0</td>\n",
       "      <td>3303463.0</td>\n",
       "      <td>3297959.0</td>\n",
       "      <td>3297252.0</td>\n",
       "      <td>3286069.0</td>\n",
       "      <td>2.924300</td>\n",
       "      <td>80.21</td>\n",
       "    </tr>\n",
       "    <tr>\n",
       "      <th>3078</th>\n",
       "      <td>4013</td>\n",
       "      <td>Maricopa, AZ</td>\n",
       "      <td>77.463</td>\n",
       "      <td>80.415</td>\n",
       "      <td>85.793</td>\n",
       "      <td>90.349</td>\n",
       "      <td>97.615</td>\n",
       "      <td>102.729</td>\n",
       "      <td>105.313</td>\n",
       "      <td>103.632</td>\n",
       "      <td>...</td>\n",
       "      <td>4040171.0</td>\n",
       "      <td>4105747.0</td>\n",
       "      <td>4174844.0</td>\n",
       "      <td>4231511.0</td>\n",
       "      <td>4292576.0</td>\n",
       "      <td>4363816.0</td>\n",
       "      <td>4438342.0</td>\n",
       "      <td>4496588.0</td>\n",
       "      <td>2.950617</td>\n",
       "      <td>87.18</td>\n",
       "    </tr>\n",
       "    <tr>\n",
       "      <th>3079</th>\n",
       "      <td>48201</td>\n",
       "      <td>Harris, TX</td>\n",
       "      <td>73.137</td>\n",
       "      <td>72.696</td>\n",
       "      <td>72.847</td>\n",
       "      <td>79.658</td>\n",
       "      <td>80.626</td>\n",
       "      <td>87.278</td>\n",
       "      <td>94.310</td>\n",
       "      <td>91.961</td>\n",
       "      <td>...</td>\n",
       "      <td>4452976.0</td>\n",
       "      <td>4553991.0</td>\n",
       "      <td>4619635.0</td>\n",
       "      <td>4651955.0</td>\n",
       "      <td>4672445.0</td>\n",
       "      <td>4704042.0</td>\n",
       "      <td>4732491.0</td>\n",
       "      <td>4728030.0</td>\n",
       "      <td>2.952810</td>\n",
       "      <td>51.14</td>\n",
       "    </tr>\n",
       "    <tr>\n",
       "      <th>3080</th>\n",
       "      <td>17031</td>\n",
       "      <td>Cook, IL</td>\n",
       "      <td>95.406</td>\n",
       "      <td>94.886</td>\n",
       "      <td>95.455</td>\n",
       "      <td>97.260</td>\n",
       "      <td>99.315</td>\n",
       "      <td>101.320</td>\n",
       "      <td>101.826</td>\n",
       "      <td>99.238</td>\n",
       "      <td>...</td>\n",
       "      <td>5320233.0</td>\n",
       "      <td>5324961.0</td>\n",
       "      <td>5320293.0</td>\n",
       "      <td>5311621.0</td>\n",
       "      <td>5297956.0</td>\n",
       "      <td>5287099.0</td>\n",
       "      <td>5262741.0</td>\n",
       "      <td>5173146.0</td>\n",
       "      <td>3.019405</td>\n",
       "      <td>52.43</td>\n",
       "    </tr>\n",
       "    <tr>\n",
       "      <th>3081</th>\n",
       "      <td>6037</td>\n",
       "      <td>Los Angeles, CA</td>\n",
       "      <td>82.070</td>\n",
       "      <td>83.658</td>\n",
       "      <td>86.614</td>\n",
       "      <td>89.137</td>\n",
       "      <td>91.163</td>\n",
       "      <td>94.942</td>\n",
       "      <td>96.400</td>\n",
       "      <td>98.804</td>\n",
       "      <td>...</td>\n",
       "      <td>10051511.0</td>\n",
       "      <td>10099677.0</td>\n",
       "      <td>10121673.0</td>\n",
       "      <td>10123521.0</td>\n",
       "      <td>10096986.0</td>\n",
       "      <td>10051154.0</td>\n",
       "      <td>9989165.0</td>\n",
       "      <td>9829544.0</td>\n",
       "      <td>3.256690</td>\n",
       "      <td>77.03</td>\n",
       "    </tr>\n",
       "  </tbody>\n",
       "</table>\n",
       "<p>3082 rows × 53 columns</p>\n",
       "</div>"
      ],
      "text/plain": [
       "      GeoFIPS          GeoName    2001    2002    2003    2004    2005  \\\n",
       "0        1007         Bibb, AL  80.443  81.527  85.124  89.317  88.782   \n",
       "1       48109    Culberson, TX  35.264  37.743  36.255  38.339  40.177   \n",
       "2       48389       Reeves, TX  46.003  49.290  44.960  41.682  39.742   \n",
       "3       48283     La Salle, TX   6.638   6.679   7.065   6.727   7.541   \n",
       "4       48255       Karnes, TX   6.498   6.891   7.331   6.759   6.537   \n",
       "...       ...              ...     ...     ...     ...     ...     ...   \n",
       "3077     6073    San Diego, CA  79.703  83.170  87.449  92.400  97.137   \n",
       "3078     4013     Maricopa, AZ  77.463  80.415  85.793  90.349  97.615   \n",
       "3079    48201       Harris, TX  73.137  72.696  72.847  79.658  80.626   \n",
       "3080    17031         Cook, IL  95.406  94.886  95.455  97.260  99.315   \n",
       "3081     6037  Los Angeles, CA  82.070  83.658  86.614  89.137  91.163   \n",
       "\n",
       "         2006     2007     2008  ...  2014_population  2015_population  \\\n",
       "0      89.597   95.308   94.745  ...          22586.0          22607.0   \n",
       "1      41.247   42.368   53.349  ...           2301.0           2275.0   \n",
       "2      41.332   41.009   41.389  ...          14614.0          14936.0   \n",
       "3       8.729    8.254    7.900  ...           7115.0           7175.0   \n",
       "4       6.290    6.662    6.937  ...          14569.0          14976.0   \n",
       "...       ...      ...      ...  ...              ...              ...   \n",
       "3077   99.354  100.938  100.267  ...        3234658.0        3262566.0   \n",
       "3078  102.729  105.313  103.632  ...        4040171.0        4105747.0   \n",
       "3079   87.278   94.310   91.961  ...        4452976.0        4553991.0   \n",
       "3080  101.320  101.826   99.238  ...        5320233.0        5324961.0   \n",
       "3081   94.942   96.400   98.804  ...       10051511.0       10099677.0   \n",
       "\n",
       "      2016_population  2017_population  2018_population  2019_population  \\\n",
       "0             22654.0          22606.0          22383.0          22405.0   \n",
       "1              2244.0           2259.0           2212.0           2186.0   \n",
       "2             14484.0          14314.0          14526.0          14847.0   \n",
       "3              7057.0           6916.0           6808.0           6763.0   \n",
       "4             14997.0          14990.0          15028.0          14605.0   \n",
       "...               ...              ...              ...              ...   \n",
       "3077        3283586.0        3293575.0        3303463.0        3297959.0   \n",
       "3078        4174844.0        4231511.0        4292576.0        4363816.0   \n",
       "3079        4619635.0        4651955.0        4672445.0        4704042.0   \n",
       "3080        5320293.0        5311621.0        5297956.0        5287099.0   \n",
       "3081       10121673.0       10123521.0       10096986.0       10051154.0   \n",
       "\n",
       "      2020_population  2021_population  distance to 1007  percentile  \n",
       "0             22223.0          22477.0          0.000000       47.86  \n",
       "1              2193.0           2193.0          1.947278       99.97  \n",
       "2             14730.0          14487.0          1.968913       99.90  \n",
       "3              6642.0           6670.0          2.070731       96.40  \n",
       "4             14721.0          14754.0          2.076390       98.60  \n",
       "...               ...              ...               ...         ...  \n",
       "3077        3297252.0        3286069.0          2.924300       80.21  \n",
       "3078        4438342.0        4496588.0          2.950617       87.18  \n",
       "3079        4732491.0        4728030.0          2.952810       51.14  \n",
       "3080        5262741.0        5173146.0          3.019405       52.43  \n",
       "3081        9989165.0        9829544.0          3.256690       77.03  \n",
       "\n",
       "[3082 rows x 53 columns]"
      ]
     },
     "metadata": {},
     "output_type": "display_data"
    }
   ],
   "source": [
    "# you still have access to the distances and the ranking.\n",
    "# only, this time there are more columns in the dataframe:\n",
    "display(f.euclidean_kins)\n"
   ]
  },
  {
   "cell_type": "code",
   "execution_count": 8,
   "metadata": {},
   "outputs": [
    {
     "data": {
      "application/vnd.plotly.v1+json": {
       "config": {
        "plotlyServerURL": "https://plot.ly"
       },
       "data": [
        {
         "line": {
          "color": "darkred",
          "width": 3
         },
         "mode": "lines",
         "name": "Bibb, AL",
         "text": "Bibb, AL",
         "textposition": "top right",
         "type": "scatter",
         "x": [
          2001,
          2002,
          2003,
          2004,
          2005,
          2006,
          2007,
          2008,
          2009,
          2010,
          2011,
          2013,
          2014,
          2015,
          2016,
          2017,
          2018,
          2019,
          2020,
          2021
         ],
         "y": [
          80.443,
          81.527,
          85.124,
          89.317,
          88.782,
          89.597,
          95.308,
          94.745,
          92.945,
          100.115,
          102.559,
          99.537,
          97.933,
          94.594,
          95.812,
          96.878,
          96.988,
          104.62,
          109.487,
          107.878
         ]
        },
        {
         "line": {
          "color": "#FFC0CB"
         },
         "mode": "lines",
         "name": "Slope, ND",
         "text": "Slope, ND",
         "textposition": "top right",
         "type": "scatter",
         "x": [
          2001,
          2002,
          2003,
          2004,
          2005,
          2006,
          2007,
          2008,
          2009,
          2010,
          2011,
          2013,
          2014,
          2015,
          2016,
          2017,
          2018,
          2019,
          2020,
          2021
         ],
         "y": [
          34.746,
          11.451,
          39.302,
          32.702,
          39.083,
          45.047,
          57.236,
          64.676,
          102.37,
          86.536,
          75.24,
          84.679,
          77.426,
          57.979,
          36.621,
          61.571,
          45.949,
          42.019,
          41.446,
          47.427
         ]
        },
        {
         "line": {
          "color": "#A9A9A9"
         },
         "mode": "lines",
         "name": "Culberson, TX",
         "text": "Culberson, TX",
         "textposition": "top right",
         "type": "scatter",
         "x": [
          2001,
          2002,
          2003,
          2004,
          2005,
          2006,
          2007,
          2008,
          2009,
          2010,
          2011,
          2013,
          2014,
          2015,
          2016,
          2017,
          2018,
          2019,
          2020,
          2021
         ],
         "y": [
          35.264,
          37.743,
          36.255,
          38.339,
          40.177,
          41.247,
          42.368,
          53.349,
          66.475,
          58.869,
          62.017,
          144.271,
          258.311,
          404.721,
          546.092,
          673.326,
          712.048,
          986.32,
          1238.206,
          1185.01
         ]
        },
        {
         "line": {
          "color": "#87CEFA"
         },
         "mode": "lines",
         "name": "Karnes, TX",
         "text": "Karnes, TX",
         "textposition": "top right",
         "type": "scatter",
         "x": [
          2001,
          2002,
          2003,
          2004,
          2005,
          2006,
          2007,
          2008,
          2009,
          2010,
          2011,
          2013,
          2014,
          2015,
          2016,
          2017,
          2018,
          2019,
          2020,
          2021
         ],
         "y": [
          6.498,
          6.891,
          7.331,
          6.759,
          6.537,
          6.29,
          6.662,
          6.937,
          7.532,
          10.632,
          33.74,
          137.426,
          170.877,
          210.901,
          200.421,
          221.26,
          217.623,
          236.985,
          204.295,
          183.52
         ]
        },
        {
         "line": {
          "color": "#FFD700"
         },
         "mode": "lines",
         "name": "La Salle, TX",
         "text": "La Salle, TX",
         "textposition": "top right",
         "type": "scatter",
         "x": [
          2001,
          2002,
          2003,
          2004,
          2005,
          2006,
          2007,
          2008,
          2009,
          2010,
          2011,
          2013,
          2014,
          2015,
          2016,
          2017,
          2018,
          2019,
          2020,
          2021
         ],
         "y": [
          6.638,
          6.679,
          7.065,
          6.727,
          7.541,
          8.729,
          8.254,
          7.9,
          10.172,
          14.61,
          35.993,
          174.138,
          224.27,
          255.409,
          208.985,
          202.036,
          201.509,
          219.118,
          177.489,
          159.947
         ]
        },
        {
         "line": {
          "color": "#98FB98"
         },
         "mode": "lines",
         "name": "Reeves, TX",
         "text": "Reeves, TX",
         "textposition": "top right",
         "type": "scatter",
         "x": [
          2001,
          2002,
          2003,
          2004,
          2005,
          2006,
          2007,
          2008,
          2009,
          2010,
          2011,
          2013,
          2014,
          2015,
          2016,
          2017,
          2018,
          2019,
          2020,
          2021
         ],
         "y": [
          46.003,
          49.29,
          44.96,
          41.682,
          39.742,
          41.332,
          41.009,
          41.389,
          47.383,
          45.553,
          59.748,
          121.888,
          212.473,
          334.183,
          416.768,
          607.235,
          843.967,
          1226.531,
          1136.483,
          942.206
         ]
        }
       ],
       "layout": {
        "legend": {
         "title": {
          "text": "GeoName"
         }
        },
        "template": {
         "data": {
          "bar": [
           {
            "error_x": {
             "color": "rgb(36,36,36)"
            },
            "error_y": {
             "color": "rgb(36,36,36)"
            },
            "marker": {
             "line": {
              "color": "white",
              "width": 0.5
             },
             "pattern": {
              "fillmode": "overlay",
              "size": 10,
              "solidity": 0.2
             }
            },
            "type": "bar"
           }
          ],
          "barpolar": [
           {
            "marker": {
             "line": {
              "color": "white",
              "width": 0.5
             },
             "pattern": {
              "fillmode": "overlay",
              "size": 10,
              "solidity": 0.2
             }
            },
            "type": "barpolar"
           }
          ],
          "carpet": [
           {
            "aaxis": {
             "endlinecolor": "rgb(36,36,36)",
             "gridcolor": "white",
             "linecolor": "white",
             "minorgridcolor": "white",
             "startlinecolor": "rgb(36,36,36)"
            },
            "baxis": {
             "endlinecolor": "rgb(36,36,36)",
             "gridcolor": "white",
             "linecolor": "white",
             "minorgridcolor": "white",
             "startlinecolor": "rgb(36,36,36)"
            },
            "type": "carpet"
           }
          ],
          "choropleth": [
           {
            "colorbar": {
             "outlinewidth": 1,
             "tickcolor": "rgb(36,36,36)",
             "ticks": "outside"
            },
            "type": "choropleth"
           }
          ],
          "contour": [
           {
            "colorbar": {
             "outlinewidth": 1,
             "tickcolor": "rgb(36,36,36)",
             "ticks": "outside"
            },
            "colorscale": [
             [
              0,
              "#440154"
             ],
             [
              0.1111111111111111,
              "#482878"
             ],
             [
              0.2222222222222222,
              "#3e4989"
             ],
             [
              0.3333333333333333,
              "#31688e"
             ],
             [
              0.4444444444444444,
              "#26828e"
             ],
             [
              0.5555555555555556,
              "#1f9e89"
             ],
             [
              0.6666666666666666,
              "#35b779"
             ],
             [
              0.7777777777777778,
              "#6ece58"
             ],
             [
              0.8888888888888888,
              "#b5de2b"
             ],
             [
              1,
              "#fde725"
             ]
            ],
            "type": "contour"
           }
          ],
          "contourcarpet": [
           {
            "colorbar": {
             "outlinewidth": 1,
             "tickcolor": "rgb(36,36,36)",
             "ticks": "outside"
            },
            "type": "contourcarpet"
           }
          ],
          "heatmap": [
           {
            "colorbar": {
             "outlinewidth": 1,
             "tickcolor": "rgb(36,36,36)",
             "ticks": "outside"
            },
            "colorscale": [
             [
              0,
              "#440154"
             ],
             [
              0.1111111111111111,
              "#482878"
             ],
             [
              0.2222222222222222,
              "#3e4989"
             ],
             [
              0.3333333333333333,
              "#31688e"
             ],
             [
              0.4444444444444444,
              "#26828e"
             ],
             [
              0.5555555555555556,
              "#1f9e89"
             ],
             [
              0.6666666666666666,
              "#35b779"
             ],
             [
              0.7777777777777778,
              "#6ece58"
             ],
             [
              0.8888888888888888,
              "#b5de2b"
             ],
             [
              1,
              "#fde725"
             ]
            ],
            "type": "heatmap"
           }
          ],
          "heatmapgl": [
           {
            "colorbar": {
             "outlinewidth": 1,
             "tickcolor": "rgb(36,36,36)",
             "ticks": "outside"
            },
            "colorscale": [
             [
              0,
              "#440154"
             ],
             [
              0.1111111111111111,
              "#482878"
             ],
             [
              0.2222222222222222,
              "#3e4989"
             ],
             [
              0.3333333333333333,
              "#31688e"
             ],
             [
              0.4444444444444444,
              "#26828e"
             ],
             [
              0.5555555555555556,
              "#1f9e89"
             ],
             [
              0.6666666666666666,
              "#35b779"
             ],
             [
              0.7777777777777778,
              "#6ece58"
             ],
             [
              0.8888888888888888,
              "#b5de2b"
             ],
             [
              1,
              "#fde725"
             ]
            ],
            "type": "heatmapgl"
           }
          ],
          "histogram": [
           {
            "marker": {
             "line": {
              "color": "white",
              "width": 0.6
             }
            },
            "type": "histogram"
           }
          ],
          "histogram2d": [
           {
            "colorbar": {
             "outlinewidth": 1,
             "tickcolor": "rgb(36,36,36)",
             "ticks": "outside"
            },
            "colorscale": [
             [
              0,
              "#440154"
             ],
             [
              0.1111111111111111,
              "#482878"
             ],
             [
              0.2222222222222222,
              "#3e4989"
             ],
             [
              0.3333333333333333,
              "#31688e"
             ],
             [
              0.4444444444444444,
              "#26828e"
             ],
             [
              0.5555555555555556,
              "#1f9e89"
             ],
             [
              0.6666666666666666,
              "#35b779"
             ],
             [
              0.7777777777777778,
              "#6ece58"
             ],
             [
              0.8888888888888888,
              "#b5de2b"
             ],
             [
              1,
              "#fde725"
             ]
            ],
            "type": "histogram2d"
           }
          ],
          "histogram2dcontour": [
           {
            "colorbar": {
             "outlinewidth": 1,
             "tickcolor": "rgb(36,36,36)",
             "ticks": "outside"
            },
            "colorscale": [
             [
              0,
              "#440154"
             ],
             [
              0.1111111111111111,
              "#482878"
             ],
             [
              0.2222222222222222,
              "#3e4989"
             ],
             [
              0.3333333333333333,
              "#31688e"
             ],
             [
              0.4444444444444444,
              "#26828e"
             ],
             [
              0.5555555555555556,
              "#1f9e89"
             ],
             [
              0.6666666666666666,
              "#35b779"
             ],
             [
              0.7777777777777778,
              "#6ece58"
             ],
             [
              0.8888888888888888,
              "#b5de2b"
             ],
             [
              1,
              "#fde725"
             ]
            ],
            "type": "histogram2dcontour"
           }
          ],
          "mesh3d": [
           {
            "colorbar": {
             "outlinewidth": 1,
             "tickcolor": "rgb(36,36,36)",
             "ticks": "outside"
            },
            "type": "mesh3d"
           }
          ],
          "parcoords": [
           {
            "line": {
             "colorbar": {
              "outlinewidth": 1,
              "tickcolor": "rgb(36,36,36)",
              "ticks": "outside"
             }
            },
            "type": "parcoords"
           }
          ],
          "pie": [
           {
            "automargin": true,
            "type": "pie"
           }
          ],
          "scatter": [
           {
            "fillpattern": {
             "fillmode": "overlay",
             "size": 10,
             "solidity": 0.2
            },
            "type": "scatter"
           }
          ],
          "scatter3d": [
           {
            "line": {
             "colorbar": {
              "outlinewidth": 1,
              "tickcolor": "rgb(36,36,36)",
              "ticks": "outside"
             }
            },
            "marker": {
             "colorbar": {
              "outlinewidth": 1,
              "tickcolor": "rgb(36,36,36)",
              "ticks": "outside"
             }
            },
            "type": "scatter3d"
           }
          ],
          "scattercarpet": [
           {
            "marker": {
             "colorbar": {
              "outlinewidth": 1,
              "tickcolor": "rgb(36,36,36)",
              "ticks": "outside"
             }
            },
            "type": "scattercarpet"
           }
          ],
          "scattergeo": [
           {
            "marker": {
             "colorbar": {
              "outlinewidth": 1,
              "tickcolor": "rgb(36,36,36)",
              "ticks": "outside"
             }
            },
            "type": "scattergeo"
           }
          ],
          "scattergl": [
           {
            "marker": {
             "colorbar": {
              "outlinewidth": 1,
              "tickcolor": "rgb(36,36,36)",
              "ticks": "outside"
             }
            },
            "type": "scattergl"
           }
          ],
          "scattermapbox": [
           {
            "marker": {
             "colorbar": {
              "outlinewidth": 1,
              "tickcolor": "rgb(36,36,36)",
              "ticks": "outside"
             }
            },
            "type": "scattermapbox"
           }
          ],
          "scatterpolar": [
           {
            "marker": {
             "colorbar": {
              "outlinewidth": 1,
              "tickcolor": "rgb(36,36,36)",
              "ticks": "outside"
             }
            },
            "type": "scatterpolar"
           }
          ],
          "scatterpolargl": [
           {
            "marker": {
             "colorbar": {
              "outlinewidth": 1,
              "tickcolor": "rgb(36,36,36)",
              "ticks": "outside"
             }
            },
            "type": "scatterpolargl"
           }
          ],
          "scatterternary": [
           {
            "marker": {
             "colorbar": {
              "outlinewidth": 1,
              "tickcolor": "rgb(36,36,36)",
              "ticks": "outside"
             }
            },
            "type": "scatterternary"
           }
          ],
          "surface": [
           {
            "colorbar": {
             "outlinewidth": 1,
             "tickcolor": "rgb(36,36,36)",
             "ticks": "outside"
            },
            "colorscale": [
             [
              0,
              "#440154"
             ],
             [
              0.1111111111111111,
              "#482878"
             ],
             [
              0.2222222222222222,
              "#3e4989"
             ],
             [
              0.3333333333333333,
              "#31688e"
             ],
             [
              0.4444444444444444,
              "#26828e"
             ],
             [
              0.5555555555555556,
              "#1f9e89"
             ],
             [
              0.6666666666666666,
              "#35b779"
             ],
             [
              0.7777777777777778,
              "#6ece58"
             ],
             [
              0.8888888888888888,
              "#b5de2b"
             ],
             [
              1,
              "#fde725"
             ]
            ],
            "type": "surface"
           }
          ],
          "table": [
           {
            "cells": {
             "fill": {
              "color": "rgb(237,237,237)"
             },
             "line": {
              "color": "white"
             }
            },
            "header": {
             "fill": {
              "color": "rgb(217,217,217)"
             },
             "line": {
              "color": "white"
             }
            },
            "type": "table"
           }
          ]
         },
         "layout": {
          "annotationdefaults": {
           "arrowhead": 0,
           "arrowwidth": 1
          },
          "autotypenumbers": "strict",
          "coloraxis": {
           "colorbar": {
            "outlinewidth": 1,
            "tickcolor": "rgb(36,36,36)",
            "ticks": "outside"
           }
          },
          "colorscale": {
           "diverging": [
            [
             0,
             "rgb(103,0,31)"
            ],
            [
             0.1,
             "rgb(178,24,43)"
            ],
            [
             0.2,
             "rgb(214,96,77)"
            ],
            [
             0.3,
             "rgb(244,165,130)"
            ],
            [
             0.4,
             "rgb(253,219,199)"
            ],
            [
             0.5,
             "rgb(247,247,247)"
            ],
            [
             0.6,
             "rgb(209,229,240)"
            ],
            [
             0.7,
             "rgb(146,197,222)"
            ],
            [
             0.8,
             "rgb(67,147,195)"
            ],
            [
             0.9,
             "rgb(33,102,172)"
            ],
            [
             1,
             "rgb(5,48,97)"
            ]
           ],
           "sequential": [
            [
             0,
             "#440154"
            ],
            [
             0.1111111111111111,
             "#482878"
            ],
            [
             0.2222222222222222,
             "#3e4989"
            ],
            [
             0.3333333333333333,
             "#31688e"
            ],
            [
             0.4444444444444444,
             "#26828e"
            ],
            [
             0.5555555555555556,
             "#1f9e89"
            ],
            [
             0.6666666666666666,
             "#35b779"
            ],
            [
             0.7777777777777778,
             "#6ece58"
            ],
            [
             0.8888888888888888,
             "#b5de2b"
            ],
            [
             1,
             "#fde725"
            ]
           ],
           "sequentialminus": [
            [
             0,
             "#440154"
            ],
            [
             0.1111111111111111,
             "#482878"
            ],
            [
             0.2222222222222222,
             "#3e4989"
            ],
            [
             0.3333333333333333,
             "#31688e"
            ],
            [
             0.4444444444444444,
             "#26828e"
            ],
            [
             0.5555555555555556,
             "#1f9e89"
            ],
            [
             0.6666666666666666,
             "#35b779"
            ],
            [
             0.7777777777777778,
             "#6ece58"
            ],
            [
             0.8888888888888888,
             "#b5de2b"
            ],
            [
             1,
             "#fde725"
            ]
           ]
          },
          "colorway": [
           "#1F77B4",
           "#FF7F0E",
           "#2CA02C",
           "#D62728",
           "#9467BD",
           "#8C564B",
           "#E377C2",
           "#7F7F7F",
           "#BCBD22",
           "#17BECF"
          ],
          "font": {
           "color": "rgb(36,36,36)"
          },
          "geo": {
           "bgcolor": "white",
           "lakecolor": "white",
           "landcolor": "white",
           "showlakes": true,
           "showland": true,
           "subunitcolor": "white"
          },
          "hoverlabel": {
           "align": "left"
          },
          "hovermode": "closest",
          "mapbox": {
           "style": "light"
          },
          "paper_bgcolor": "white",
          "plot_bgcolor": "white",
          "polar": {
           "angularaxis": {
            "gridcolor": "rgb(232,232,232)",
            "linecolor": "rgb(36,36,36)",
            "showgrid": false,
            "showline": true,
            "ticks": "outside"
           },
           "bgcolor": "white",
           "radialaxis": {
            "gridcolor": "rgb(232,232,232)",
            "linecolor": "rgb(36,36,36)",
            "showgrid": false,
            "showline": true,
            "ticks": "outside"
           }
          },
          "scene": {
           "xaxis": {
            "backgroundcolor": "white",
            "gridcolor": "rgb(232,232,232)",
            "gridwidth": 2,
            "linecolor": "rgb(36,36,36)",
            "showbackground": true,
            "showgrid": false,
            "showline": true,
            "ticks": "outside",
            "zeroline": false,
            "zerolinecolor": "rgb(36,36,36)"
           },
           "yaxis": {
            "backgroundcolor": "white",
            "gridcolor": "rgb(232,232,232)",
            "gridwidth": 2,
            "linecolor": "rgb(36,36,36)",
            "showbackground": true,
            "showgrid": false,
            "showline": true,
            "ticks": "outside",
            "zeroline": false,
            "zerolinecolor": "rgb(36,36,36)"
           },
           "zaxis": {
            "backgroundcolor": "white",
            "gridcolor": "rgb(232,232,232)",
            "gridwidth": 2,
            "linecolor": "rgb(36,36,36)",
            "showbackground": true,
            "showgrid": false,
            "showline": true,
            "ticks": "outside",
            "zeroline": false,
            "zerolinecolor": "rgb(36,36,36)"
           }
          },
          "shapedefaults": {
           "fillcolor": "black",
           "line": {
            "width": 0
           },
           "opacity": 0.3
          },
          "ternary": {
           "aaxis": {
            "gridcolor": "rgb(232,232,232)",
            "linecolor": "rgb(36,36,36)",
            "showgrid": false,
            "showline": true,
            "ticks": "outside"
           },
           "baxis": {
            "gridcolor": "rgb(232,232,232)",
            "linecolor": "rgb(36,36,36)",
            "showgrid": false,
            "showline": true,
            "ticks": "outside"
           },
           "bgcolor": "white",
           "caxis": {
            "gridcolor": "rgb(232,232,232)",
            "linecolor": "rgb(36,36,36)",
            "showgrid": false,
            "showline": true,
            "ticks": "outside"
           }
          },
          "title": {
           "x": 0.05
          },
          "xaxis": {
           "automargin": true,
           "gridcolor": "rgb(232,232,232)",
           "linecolor": "rgb(36,36,36)",
           "showgrid": false,
           "showline": true,
           "ticks": "outside",
           "title": {
            "standoff": 15
           },
           "zeroline": false,
           "zerolinecolor": "rgb(36,36,36)"
          },
          "yaxis": {
           "automargin": true,
           "gridcolor": "rgb(232,232,232)",
           "linecolor": "rgb(36,36,36)",
           "showgrid": false,
           "showline": true,
           "ticks": "outside",
           "title": {
            "standoff": 15
           },
           "zeroline": false,
           "zerolinecolor": "rgb(36,36,36)"
          }
         }
        },
        "title": {
         "text": "Top 5 locations matching your search"
        },
        "xaxis": {
         "title": {
          "text": "Year"
         }
        },
        "yaxis": {
         "title": {
          "text": "gdp"
         }
        }
       }
      }
     },
     "metadata": {},
     "output_type": "display_data"
    }
   ],
   "source": [
    "# you still can plot the few top ranked cities:\n",
    "fig = f.show_kins_plot()"
   ]
  },
  {
   "cell_type": "markdown",
   "metadata": {},
   "source": [
    "#### Use case: similarity of outcome with a lag\n",
    "\n",
    "You care about similarity of outcome variables, but your question now is: what other locations were 2 years ago in a similar place to me now, when it comes to the outcome variable and the features?\n"
   ]
  },
  {
   "cell_type": "code",
   "execution_count": 9,
   "metadata": {},
   "outputs": [
    {
     "data": {
      "application/vnd.plotly.v1+json": {
       "config": {
        "plotlyServerURL": "https://plot.ly"
       },
       "data": [
        {
         "type": "bar",
         "x": [
          "2001_gdp",
          "2002_gdp",
          "2003_gdp",
          "2004_gdp",
          "2005_gdp",
          "2006_gdp",
          "2007_gdp",
          "2008_gdp",
          "2009_gdp",
          "2010_gdp",
          "2011_gdp",
          "2013_gdp",
          "2014_gdp",
          "2015_gdp",
          "2016_gdp",
          "2017_gdp",
          "2018_gdp",
          "2019_gdp",
          "2020_gdp",
          "2021_gdp"
         ],
         "y": [
          0.12217827287676108,
          0.12950896924936675,
          0.13727950740432876,
          0.1455162778485885,
          0.1542472545195038,
          0.16350208979067407,
          0.17331221517811451,
          0.1837109480888014,
          0.19473360497412948,
          0.20641762127257726,
          0.2188026785489319,
          0.23193083926186783,
          0.24584668961757994,
          0.2605974909946347,
          0.2762333404543128,
          0.29280734088157157,
          0.3103757813344659,
          0.32899832821453384
         ]
        }
       ],
       "layout": {
        "template": {
         "data": {
          "bar": [
           {
            "error_x": {
             "color": "#2a3f5f"
            },
            "error_y": {
             "color": "#2a3f5f"
            },
            "marker": {
             "line": {
              "color": "white",
              "width": 0.5
             },
             "pattern": {
              "fillmode": "overlay",
              "size": 10,
              "solidity": 0.2
             }
            },
            "type": "bar"
           }
          ],
          "barpolar": [
           {
            "marker": {
             "line": {
              "color": "white",
              "width": 0.5
             },
             "pattern": {
              "fillmode": "overlay",
              "size": 10,
              "solidity": 0.2
             }
            },
            "type": "barpolar"
           }
          ],
          "carpet": [
           {
            "aaxis": {
             "endlinecolor": "#2a3f5f",
             "gridcolor": "#C8D4E3",
             "linecolor": "#C8D4E3",
             "minorgridcolor": "#C8D4E3",
             "startlinecolor": "#2a3f5f"
            },
            "baxis": {
             "endlinecolor": "#2a3f5f",
             "gridcolor": "#C8D4E3",
             "linecolor": "#C8D4E3",
             "minorgridcolor": "#C8D4E3",
             "startlinecolor": "#2a3f5f"
            },
            "type": "carpet"
           }
          ],
          "choropleth": [
           {
            "colorbar": {
             "outlinewidth": 0,
             "ticks": ""
            },
            "type": "choropleth"
           }
          ],
          "contour": [
           {
            "colorbar": {
             "outlinewidth": 0,
             "ticks": ""
            },
            "colorscale": [
             [
              0,
              "#0d0887"
             ],
             [
              0.1111111111111111,
              "#46039f"
             ],
             [
              0.2222222222222222,
              "#7201a8"
             ],
             [
              0.3333333333333333,
              "#9c179e"
             ],
             [
              0.4444444444444444,
              "#bd3786"
             ],
             [
              0.5555555555555556,
              "#d8576b"
             ],
             [
              0.6666666666666666,
              "#ed7953"
             ],
             [
              0.7777777777777778,
              "#fb9f3a"
             ],
             [
              0.8888888888888888,
              "#fdca26"
             ],
             [
              1,
              "#f0f921"
             ]
            ],
            "type": "contour"
           }
          ],
          "contourcarpet": [
           {
            "colorbar": {
             "outlinewidth": 0,
             "ticks": ""
            },
            "type": "contourcarpet"
           }
          ],
          "heatmap": [
           {
            "colorbar": {
             "outlinewidth": 0,
             "ticks": ""
            },
            "colorscale": [
             [
              0,
              "#0d0887"
             ],
             [
              0.1111111111111111,
              "#46039f"
             ],
             [
              0.2222222222222222,
              "#7201a8"
             ],
             [
              0.3333333333333333,
              "#9c179e"
             ],
             [
              0.4444444444444444,
              "#bd3786"
             ],
             [
              0.5555555555555556,
              "#d8576b"
             ],
             [
              0.6666666666666666,
              "#ed7953"
             ],
             [
              0.7777777777777778,
              "#fb9f3a"
             ],
             [
              0.8888888888888888,
              "#fdca26"
             ],
             [
              1,
              "#f0f921"
             ]
            ],
            "type": "heatmap"
           }
          ],
          "heatmapgl": [
           {
            "colorbar": {
             "outlinewidth": 0,
             "ticks": ""
            },
            "colorscale": [
             [
              0,
              "#0d0887"
             ],
             [
              0.1111111111111111,
              "#46039f"
             ],
             [
              0.2222222222222222,
              "#7201a8"
             ],
             [
              0.3333333333333333,
              "#9c179e"
             ],
             [
              0.4444444444444444,
              "#bd3786"
             ],
             [
              0.5555555555555556,
              "#d8576b"
             ],
             [
              0.6666666666666666,
              "#ed7953"
             ],
             [
              0.7777777777777778,
              "#fb9f3a"
             ],
             [
              0.8888888888888888,
              "#fdca26"
             ],
             [
              1,
              "#f0f921"
             ]
            ],
            "type": "heatmapgl"
           }
          ],
          "histogram": [
           {
            "marker": {
             "pattern": {
              "fillmode": "overlay",
              "size": 10,
              "solidity": 0.2
             }
            },
            "type": "histogram"
           }
          ],
          "histogram2d": [
           {
            "colorbar": {
             "outlinewidth": 0,
             "ticks": ""
            },
            "colorscale": [
             [
              0,
              "#0d0887"
             ],
             [
              0.1111111111111111,
              "#46039f"
             ],
             [
              0.2222222222222222,
              "#7201a8"
             ],
             [
              0.3333333333333333,
              "#9c179e"
             ],
             [
              0.4444444444444444,
              "#bd3786"
             ],
             [
              0.5555555555555556,
              "#d8576b"
             ],
             [
              0.6666666666666666,
              "#ed7953"
             ],
             [
              0.7777777777777778,
              "#fb9f3a"
             ],
             [
              0.8888888888888888,
              "#fdca26"
             ],
             [
              1,
              "#f0f921"
             ]
            ],
            "type": "histogram2d"
           }
          ],
          "histogram2dcontour": [
           {
            "colorbar": {
             "outlinewidth": 0,
             "ticks": ""
            },
            "colorscale": [
             [
              0,
              "#0d0887"
             ],
             [
              0.1111111111111111,
              "#46039f"
             ],
             [
              0.2222222222222222,
              "#7201a8"
             ],
             [
              0.3333333333333333,
              "#9c179e"
             ],
             [
              0.4444444444444444,
              "#bd3786"
             ],
             [
              0.5555555555555556,
              "#d8576b"
             ],
             [
              0.6666666666666666,
              "#ed7953"
             ],
             [
              0.7777777777777778,
              "#fb9f3a"
             ],
             [
              0.8888888888888888,
              "#fdca26"
             ],
             [
              1,
              "#f0f921"
             ]
            ],
            "type": "histogram2dcontour"
           }
          ],
          "mesh3d": [
           {
            "colorbar": {
             "outlinewidth": 0,
             "ticks": ""
            },
            "type": "mesh3d"
           }
          ],
          "parcoords": [
           {
            "line": {
             "colorbar": {
              "outlinewidth": 0,
              "ticks": ""
             }
            },
            "type": "parcoords"
           }
          ],
          "pie": [
           {
            "automargin": true,
            "type": "pie"
           }
          ],
          "scatter": [
           {
            "fillpattern": {
             "fillmode": "overlay",
             "size": 10,
             "solidity": 0.2
            },
            "type": "scatter"
           }
          ],
          "scatter3d": [
           {
            "line": {
             "colorbar": {
              "outlinewidth": 0,
              "ticks": ""
             }
            },
            "marker": {
             "colorbar": {
              "outlinewidth": 0,
              "ticks": ""
             }
            },
            "type": "scatter3d"
           }
          ],
          "scattercarpet": [
           {
            "marker": {
             "colorbar": {
              "outlinewidth": 0,
              "ticks": ""
             }
            },
            "type": "scattercarpet"
           }
          ],
          "scattergeo": [
           {
            "marker": {
             "colorbar": {
              "outlinewidth": 0,
              "ticks": ""
             }
            },
            "type": "scattergeo"
           }
          ],
          "scattergl": [
           {
            "marker": {
             "colorbar": {
              "outlinewidth": 0,
              "ticks": ""
             }
            },
            "type": "scattergl"
           }
          ],
          "scattermapbox": [
           {
            "marker": {
             "colorbar": {
              "outlinewidth": 0,
              "ticks": ""
             }
            },
            "type": "scattermapbox"
           }
          ],
          "scatterpolar": [
           {
            "marker": {
             "colorbar": {
              "outlinewidth": 0,
              "ticks": ""
             }
            },
            "type": "scatterpolar"
           }
          ],
          "scatterpolargl": [
           {
            "marker": {
             "colorbar": {
              "outlinewidth": 0,
              "ticks": ""
             }
            },
            "type": "scatterpolargl"
           }
          ],
          "scatterternary": [
           {
            "marker": {
             "colorbar": {
              "outlinewidth": 0,
              "ticks": ""
             }
            },
            "type": "scatterternary"
           }
          ],
          "surface": [
           {
            "colorbar": {
             "outlinewidth": 0,
             "ticks": ""
            },
            "colorscale": [
             [
              0,
              "#0d0887"
             ],
             [
              0.1111111111111111,
              "#46039f"
             ],
             [
              0.2222222222222222,
              "#7201a8"
             ],
             [
              0.3333333333333333,
              "#9c179e"
             ],
             [
              0.4444444444444444,
              "#bd3786"
             ],
             [
              0.5555555555555556,
              "#d8576b"
             ],
             [
              0.6666666666666666,
              "#ed7953"
             ],
             [
              0.7777777777777778,
              "#fb9f3a"
             ],
             [
              0.8888888888888888,
              "#fdca26"
             ],
             [
              1,
              "#f0f921"
             ]
            ],
            "type": "surface"
           }
          ],
          "table": [
           {
            "cells": {
             "fill": {
              "color": "#EBF0F8"
             },
             "line": {
              "color": "white"
             }
            },
            "header": {
             "fill": {
              "color": "#C8D4E3"
             },
             "line": {
              "color": "white"
             }
            },
            "type": "table"
           }
          ]
         },
         "layout": {
          "annotationdefaults": {
           "arrowcolor": "#2a3f5f",
           "arrowhead": 0,
           "arrowwidth": 1
          },
          "autotypenumbers": "strict",
          "coloraxis": {
           "colorbar": {
            "outlinewidth": 0,
            "ticks": ""
           }
          },
          "colorscale": {
           "diverging": [
            [
             0,
             "#8e0152"
            ],
            [
             0.1,
             "#c51b7d"
            ],
            [
             0.2,
             "#de77ae"
            ],
            [
             0.3,
             "#f1b6da"
            ],
            [
             0.4,
             "#fde0ef"
            ],
            [
             0.5,
             "#f7f7f7"
            ],
            [
             0.6,
             "#e6f5d0"
            ],
            [
             0.7,
             "#b8e186"
            ],
            [
             0.8,
             "#7fbc41"
            ],
            [
             0.9,
             "#4d9221"
            ],
            [
             1,
             "#276419"
            ]
           ],
           "sequential": [
            [
             0,
             "#0d0887"
            ],
            [
             0.1111111111111111,
             "#46039f"
            ],
            [
             0.2222222222222222,
             "#7201a8"
            ],
            [
             0.3333333333333333,
             "#9c179e"
            ],
            [
             0.4444444444444444,
             "#bd3786"
            ],
            [
             0.5555555555555556,
             "#d8576b"
            ],
            [
             0.6666666666666666,
             "#ed7953"
            ],
            [
             0.7777777777777778,
             "#fb9f3a"
            ],
            [
             0.8888888888888888,
             "#fdca26"
            ],
            [
             1,
             "#f0f921"
            ]
           ],
           "sequentialminus": [
            [
             0,
             "#0d0887"
            ],
            [
             0.1111111111111111,
             "#46039f"
            ],
            [
             0.2222222222222222,
             "#7201a8"
            ],
            [
             0.3333333333333333,
             "#9c179e"
            ],
            [
             0.4444444444444444,
             "#bd3786"
            ],
            [
             0.5555555555555556,
             "#d8576b"
            ],
            [
             0.6666666666666666,
             "#ed7953"
            ],
            [
             0.7777777777777778,
             "#fb9f3a"
            ],
            [
             0.8888888888888888,
             "#fdca26"
            ],
            [
             1,
             "#f0f921"
            ]
           ]
          },
          "colorway": [
           "#636efa",
           "#EF553B",
           "#00cc96",
           "#ab63fa",
           "#FFA15A",
           "#19d3f3",
           "#FF6692",
           "#B6E880",
           "#FF97FF",
           "#FECB52"
          ],
          "font": {
           "color": "#2a3f5f"
          },
          "geo": {
           "bgcolor": "white",
           "lakecolor": "white",
           "landcolor": "white",
           "showlakes": true,
           "showland": true,
           "subunitcolor": "#C8D4E3"
          },
          "hoverlabel": {
           "align": "left"
          },
          "hovermode": "closest",
          "mapbox": {
           "style": "light"
          },
          "paper_bgcolor": "white",
          "plot_bgcolor": "white",
          "polar": {
           "angularaxis": {
            "gridcolor": "#EBF0F8",
            "linecolor": "#EBF0F8",
            "ticks": ""
           },
           "bgcolor": "white",
           "radialaxis": {
            "gridcolor": "#EBF0F8",
            "linecolor": "#EBF0F8",
            "ticks": ""
           }
          },
          "scene": {
           "xaxis": {
            "backgroundcolor": "white",
            "gridcolor": "#DFE8F3",
            "gridwidth": 2,
            "linecolor": "#EBF0F8",
            "showbackground": true,
            "ticks": "",
            "zerolinecolor": "#EBF0F8"
           },
           "yaxis": {
            "backgroundcolor": "white",
            "gridcolor": "#DFE8F3",
            "gridwidth": 2,
            "linecolor": "#EBF0F8",
            "showbackground": true,
            "ticks": "",
            "zerolinecolor": "#EBF0F8"
           },
           "zaxis": {
            "backgroundcolor": "white",
            "gridcolor": "#DFE8F3",
            "gridwidth": 2,
            "linecolor": "#EBF0F8",
            "showbackground": true,
            "ticks": "",
            "zerolinecolor": "#EBF0F8"
           }
          },
          "shapedefaults": {
           "line": {
            "color": "#2a3f5f"
           }
          },
          "ternary": {
           "aaxis": {
            "gridcolor": "#DFE8F3",
            "linecolor": "#A2B1C6",
            "ticks": ""
           },
           "baxis": {
            "gridcolor": "#DFE8F3",
            "linecolor": "#A2B1C6",
            "ticks": ""
           },
           "bgcolor": "white",
           "caxis": {
            "gridcolor": "#DFE8F3",
            "linecolor": "#A2B1C6",
            "ticks": ""
           }
          },
          "title": {
           "x": 0.05
          },
          "xaxis": {
           "automargin": true,
           "gridcolor": "#EBF0F8",
           "linecolor": "#EBF0F8",
           "ticks": "",
           "title": {
            "standoff": 15
           },
           "zerolinecolor": "#EBF0F8",
           "zerolinewidth": 2
          },
          "yaxis": {
           "automargin": true,
           "gridcolor": "#EBF0F8",
           "linecolor": "#EBF0F8",
           "ticks": "",
           "title": {
            "standoff": 15
           },
           "zerolinecolor": "#EBF0F8",
           "zerolinewidth": 2
          }
         }
        },
        "title": {
         "text": "Weights of columns"
        },
        "xaxis": {
         "title": {
          "text": "columns"
         }
        },
        "yaxis": {
         "title": {
          "text": "weights"
         }
        }
       }
      }
     },
     "metadata": {},
     "output_type": "display_data"
    },
    {
     "data": {
      "text/plain": [
       "None"
      ]
     },
     "metadata": {},
     "output_type": "display_data"
    }
   ],
   "source": [
    "f  = FipsQuery(42001, \"gdp\", lag = 2, top =5, time_decay = 1.06)\n",
    "f.find_euclidean_kins()\n",
    "\n",
    "display(f.plot_weights())"
   ]
  },
  {
   "cell_type": "code",
   "execution_count": 10,
   "metadata": {},
   "outputs": [
    {
     "data": {
      "text/html": [
       "<div>\n",
       "<style scoped>\n",
       "    .dataframe tbody tr th:only-of-type {\n",
       "        vertical-align: middle;\n",
       "    }\n",
       "\n",
       "    .dataframe tbody tr th {\n",
       "        vertical-align: top;\n",
       "    }\n",
       "\n",
       "    .dataframe thead th {\n",
       "        text-align: right;\n",
       "    }\n",
       "</style>\n",
       "<table border=\"1\" class=\"dataframe\">\n",
       "  <thead>\n",
       "    <tr style=\"text-align: right;\">\n",
       "      <th></th>\n",
       "      <th>GeoFIPS</th>\n",
       "      <th>GeoName</th>\n",
       "      <th>2001</th>\n",
       "      <th>2002</th>\n",
       "      <th>2003</th>\n",
       "      <th>2004</th>\n",
       "      <th>2005</th>\n",
       "      <th>2006</th>\n",
       "      <th>2007</th>\n",
       "      <th>2008</th>\n",
       "      <th>...</th>\n",
       "      <th>2014</th>\n",
       "      <th>2015</th>\n",
       "      <th>2016</th>\n",
       "      <th>2017</th>\n",
       "      <th>2018</th>\n",
       "      <th>2019</th>\n",
       "      <th>2020</th>\n",
       "      <th>2021</th>\n",
       "      <th>distance to 42001</th>\n",
       "      <th>percentile</th>\n",
       "    </tr>\n",
       "  </thead>\n",
       "  <tbody>\n",
       "    <tr>\n",
       "      <th>0</th>\n",
       "      <td>42001</td>\n",
       "      <td>Adams, PA</td>\n",
       "      <td>78.619</td>\n",
       "      <td>84.689</td>\n",
       "      <td>84.475</td>\n",
       "      <td>85.860</td>\n",
       "      <td>89.556</td>\n",
       "      <td>93.508</td>\n",
       "      <td>93.154</td>\n",
       "      <td>95.379</td>\n",
       "      <td>...</td>\n",
       "      <td>100.006</td>\n",
       "      <td>102.509</td>\n",
       "      <td>103.708</td>\n",
       "      <td>108.411</td>\n",
       "      <td>105.390</td>\n",
       "      <td>103.440</td>\n",
       "      <td>97.678</td>\n",
       "      <td>102.664</td>\n",
       "      <td>0.000000</td>\n",
       "      <td>35.14</td>\n",
       "    </tr>\n",
       "    <tr>\n",
       "      <th>1</th>\n",
       "      <td>20161</td>\n",
       "      <td>Riley, KS</td>\n",
       "      <td>78.822</td>\n",
       "      <td>79.879</td>\n",
       "      <td>83.156</td>\n",
       "      <td>85.898</td>\n",
       "      <td>86.815</td>\n",
       "      <td>89.029</td>\n",
       "      <td>93.378</td>\n",
       "      <td>97.320</td>\n",
       "      <td>...</td>\n",
       "      <td>102.355</td>\n",
       "      <td>102.888</td>\n",
       "      <td>103.512</td>\n",
       "      <td>102.037</td>\n",
       "      <td>100.206</td>\n",
       "      <td>100.843</td>\n",
       "      <td>100.186</td>\n",
       "      <td>101.947</td>\n",
       "      <td>0.065257</td>\n",
       "      <td>33.32</td>\n",
       "    </tr>\n",
       "    <tr>\n",
       "      <th>2</th>\n",
       "      <td>17001</td>\n",
       "      <td>Adams, IL</td>\n",
       "      <td>79.654</td>\n",
       "      <td>81.654</td>\n",
       "      <td>86.491</td>\n",
       "      <td>90.160</td>\n",
       "      <td>91.589</td>\n",
       "      <td>93.582</td>\n",
       "      <td>93.367</td>\n",
       "      <td>95.001</td>\n",
       "      <td>...</td>\n",
       "      <td>102.400</td>\n",
       "      <td>101.760</td>\n",
       "      <td>104.586</td>\n",
       "      <td>97.057</td>\n",
       "      <td>99.635</td>\n",
       "      <td>98.477</td>\n",
       "      <td>93.510</td>\n",
       "      <td>100.614</td>\n",
       "      <td>0.066060</td>\n",
       "      <td>30.63</td>\n",
       "    </tr>\n",
       "    <tr>\n",
       "      <th>3</th>\n",
       "      <td>33019</td>\n",
       "      <td>Sullivan, NH</td>\n",
       "      <td>87.624</td>\n",
       "      <td>93.209</td>\n",
       "      <td>91.829</td>\n",
       "      <td>96.587</td>\n",
       "      <td>97.861</td>\n",
       "      <td>95.699</td>\n",
       "      <td>97.592</td>\n",
       "      <td>92.842</td>\n",
       "      <td>...</td>\n",
       "      <td>102.845</td>\n",
       "      <td>106.400</td>\n",
       "      <td>101.283</td>\n",
       "      <td>101.850</td>\n",
       "      <td>99.204</td>\n",
       "      <td>99.205</td>\n",
       "      <td>101.346</td>\n",
       "      <td>109.571</td>\n",
       "      <td>0.066776</td>\n",
       "      <td>51.82</td>\n",
       "    </tr>\n",
       "    <tr>\n",
       "      <th>4</th>\n",
       "      <td>13171</td>\n",
       "      <td>Lamar, GA</td>\n",
       "      <td>83.191</td>\n",
       "      <td>81.883</td>\n",
       "      <td>83.438</td>\n",
       "      <td>84.551</td>\n",
       "      <td>93.216</td>\n",
       "      <td>93.727</td>\n",
       "      <td>93.967</td>\n",
       "      <td>98.477</td>\n",
       "      <td>...</td>\n",
       "      <td>99.373</td>\n",
       "      <td>103.592</td>\n",
       "      <td>103.735</td>\n",
       "      <td>104.157</td>\n",
       "      <td>101.036</td>\n",
       "      <td>105.494</td>\n",
       "      <td>110.219</td>\n",
       "      <td>114.258</td>\n",
       "      <td>0.067939</td>\n",
       "      <td>62.52</td>\n",
       "    </tr>\n",
       "    <tr>\n",
       "      <th>...</th>\n",
       "      <td>...</td>\n",
       "      <td>...</td>\n",
       "      <td>...</td>\n",
       "      <td>...</td>\n",
       "      <td>...</td>\n",
       "      <td>...</td>\n",
       "      <td>...</td>\n",
       "      <td>...</td>\n",
       "      <td>...</td>\n",
       "      <td>...</td>\n",
       "      <td>...</td>\n",
       "      <td>...</td>\n",
       "      <td>...</td>\n",
       "      <td>...</td>\n",
       "      <td>...</td>\n",
       "      <td>...</td>\n",
       "      <td>...</td>\n",
       "      <td>...</td>\n",
       "      <td>...</td>\n",
       "      <td>...</td>\n",
       "      <td>...</td>\n",
       "    </tr>\n",
       "    <tr>\n",
       "      <th>3077</th>\n",
       "      <td>48389</td>\n",
       "      <td>Reeves, TX</td>\n",
       "      <td>46.003</td>\n",
       "      <td>49.290</td>\n",
       "      <td>44.960</td>\n",
       "      <td>41.682</td>\n",
       "      <td>39.742</td>\n",
       "      <td>41.332</td>\n",
       "      <td>41.009</td>\n",
       "      <td>41.389</td>\n",
       "      <td>...</td>\n",
       "      <td>212.473</td>\n",
       "      <td>334.183</td>\n",
       "      <td>416.768</td>\n",
       "      <td>607.235</td>\n",
       "      <td>843.967</td>\n",
       "      <td>1226.531</td>\n",
       "      <td>1136.483</td>\n",
       "      <td>942.206</td>\n",
       "      <td>1.221964</td>\n",
       "      <td>99.90</td>\n",
       "    </tr>\n",
       "    <tr>\n",
       "      <th>3078</th>\n",
       "      <td>48127</td>\n",
       "      <td>Dimmit, TX</td>\n",
       "      <td>9.381</td>\n",
       "      <td>10.070</td>\n",
       "      <td>10.269</td>\n",
       "      <td>10.101</td>\n",
       "      <td>10.527</td>\n",
       "      <td>13.382</td>\n",
       "      <td>13.424</td>\n",
       "      <td>12.854</td>\n",
       "      <td>...</td>\n",
       "      <td>208.912</td>\n",
       "      <td>253.553</td>\n",
       "      <td>226.448</td>\n",
       "      <td>235.298</td>\n",
       "      <td>230.138</td>\n",
       "      <td>256.745</td>\n",
       "      <td>206.367</td>\n",
       "      <td>159.131</td>\n",
       "      <td>1.238983</td>\n",
       "      <td>96.27</td>\n",
       "    </tr>\n",
       "    <tr>\n",
       "      <th>3079</th>\n",
       "      <td>48301</td>\n",
       "      <td>Loving, TX</td>\n",
       "      <td>37.050</td>\n",
       "      <td>40.836</td>\n",
       "      <td>40.690</td>\n",
       "      <td>49.561</td>\n",
       "      <td>81.009</td>\n",
       "      <td>110.338</td>\n",
       "      <td>149.312</td>\n",
       "      <td>114.503</td>\n",
       "      <td>...</td>\n",
       "      <td>186.286</td>\n",
       "      <td>306.333</td>\n",
       "      <td>551.251</td>\n",
       "      <td>802.739</td>\n",
       "      <td>1064.149</td>\n",
       "      <td>1388.130</td>\n",
       "      <td>1453.540</td>\n",
       "      <td>1080.924</td>\n",
       "      <td>1.266906</td>\n",
       "      <td>99.94</td>\n",
       "    </tr>\n",
       "    <tr>\n",
       "      <th>3080</th>\n",
       "      <td>48283</td>\n",
       "      <td>La Salle, TX</td>\n",
       "      <td>6.638</td>\n",
       "      <td>6.679</td>\n",
       "      <td>7.065</td>\n",
       "      <td>6.727</td>\n",
       "      <td>7.541</td>\n",
       "      <td>8.729</td>\n",
       "      <td>8.254</td>\n",
       "      <td>7.900</td>\n",
       "      <td>...</td>\n",
       "      <td>224.270</td>\n",
       "      <td>255.409</td>\n",
       "      <td>208.985</td>\n",
       "      <td>202.036</td>\n",
       "      <td>201.509</td>\n",
       "      <td>219.118</td>\n",
       "      <td>177.489</td>\n",
       "      <td>159.947</td>\n",
       "      <td>1.314292</td>\n",
       "      <td>96.40</td>\n",
       "    </tr>\n",
       "    <tr>\n",
       "      <th>3081</th>\n",
       "      <td>48255</td>\n",
       "      <td>Karnes, TX</td>\n",
       "      <td>6.498</td>\n",
       "      <td>6.891</td>\n",
       "      <td>7.331</td>\n",
       "      <td>6.759</td>\n",
       "      <td>6.537</td>\n",
       "      <td>6.290</td>\n",
       "      <td>6.662</td>\n",
       "      <td>6.937</td>\n",
       "      <td>...</td>\n",
       "      <td>170.877</td>\n",
       "      <td>210.901</td>\n",
       "      <td>200.421</td>\n",
       "      <td>221.260</td>\n",
       "      <td>217.623</td>\n",
       "      <td>236.985</td>\n",
       "      <td>204.295</td>\n",
       "      <td>183.520</td>\n",
       "      <td>1.325613</td>\n",
       "      <td>98.60</td>\n",
       "    </tr>\n",
       "  </tbody>\n",
       "</table>\n",
       "<p>3082 rows × 24 columns</p>\n",
       "</div>"
      ],
      "text/plain": [
       "      GeoFIPS       GeoName    2001    2002    2003    2004    2005     2006  \\\n",
       "0       42001     Adams, PA  78.619  84.689  84.475  85.860  89.556   93.508   \n",
       "1       20161     Riley, KS  78.822  79.879  83.156  85.898  86.815   89.029   \n",
       "2       17001     Adams, IL  79.654  81.654  86.491  90.160  91.589   93.582   \n",
       "3       33019  Sullivan, NH  87.624  93.209  91.829  96.587  97.861   95.699   \n",
       "4       13171     Lamar, GA  83.191  81.883  83.438  84.551  93.216   93.727   \n",
       "...       ...           ...     ...     ...     ...     ...     ...      ...   \n",
       "3077    48389    Reeves, TX  46.003  49.290  44.960  41.682  39.742   41.332   \n",
       "3078    48127    Dimmit, TX   9.381  10.070  10.269  10.101  10.527   13.382   \n",
       "3079    48301    Loving, TX  37.050  40.836  40.690  49.561  81.009  110.338   \n",
       "3080    48283  La Salle, TX   6.638   6.679   7.065   6.727   7.541    8.729   \n",
       "3081    48255    Karnes, TX   6.498   6.891   7.331   6.759   6.537    6.290   \n",
       "\n",
       "         2007     2008  ...     2014     2015     2016     2017      2018  \\\n",
       "0      93.154   95.379  ...  100.006  102.509  103.708  108.411   105.390   \n",
       "1      93.378   97.320  ...  102.355  102.888  103.512  102.037   100.206   \n",
       "2      93.367   95.001  ...  102.400  101.760  104.586   97.057    99.635   \n",
       "3      97.592   92.842  ...  102.845  106.400  101.283  101.850    99.204   \n",
       "4      93.967   98.477  ...   99.373  103.592  103.735  104.157   101.036   \n",
       "...       ...      ...  ...      ...      ...      ...      ...       ...   \n",
       "3077   41.009   41.389  ...  212.473  334.183  416.768  607.235   843.967   \n",
       "3078   13.424   12.854  ...  208.912  253.553  226.448  235.298   230.138   \n",
       "3079  149.312  114.503  ...  186.286  306.333  551.251  802.739  1064.149   \n",
       "3080    8.254    7.900  ...  224.270  255.409  208.985  202.036   201.509   \n",
       "3081    6.662    6.937  ...  170.877  210.901  200.421  221.260   217.623   \n",
       "\n",
       "          2019      2020      2021  distance to 42001  percentile  \n",
       "0      103.440    97.678   102.664           0.000000       35.14  \n",
       "1      100.843   100.186   101.947           0.065257       33.32  \n",
       "2       98.477    93.510   100.614           0.066060       30.63  \n",
       "3       99.205   101.346   109.571           0.066776       51.82  \n",
       "4      105.494   110.219   114.258           0.067939       62.52  \n",
       "...        ...       ...       ...                ...         ...  \n",
       "3077  1226.531  1136.483   942.206           1.221964       99.90  \n",
       "3078   256.745   206.367   159.131           1.238983       96.27  \n",
       "3079  1388.130  1453.540  1080.924           1.266906       99.94  \n",
       "3080   219.118   177.489   159.947           1.314292       96.40  \n",
       "3081   236.985   204.295   183.520           1.325613       98.60  \n",
       "\n",
       "[3082 rows x 24 columns]"
      ]
     },
     "metadata": {},
     "output_type": "display_data"
    }
   ],
   "source": [
    "f.find_euclidean_kins()\n",
    "display(f.euclidean_kins)"
   ]
  },
  {
   "cell_type": "code",
   "execution_count": 11,
   "metadata": {},
   "outputs": [
    {
     "data": {
      "application/vnd.plotly.v1+json": {
       "config": {
        "plotlyServerURL": "https://plot.ly"
       },
       "data": [
        {
         "line": {
          "color": "darkred",
          "width": 3
         },
         "mode": "lines",
         "name": "Adams, PA",
         "text": "Adams, PA",
         "textposition": "top right",
         "type": "scatter",
         "x": [
          2001,
          2002,
          2003,
          2004,
          2005,
          2006,
          2007,
          2008,
          2009,
          2010,
          2011,
          2013,
          2014,
          2015,
          2016,
          2017,
          2018,
          2019,
          2020,
          2021
         ],
         "y": [
          78.619,
          84.689,
          84.475,
          85.86,
          89.556,
          93.508,
          93.154,
          95.379,
          96.885,
          95.036,
          97.071,
          100.08,
          100.006,
          102.509,
          103.708,
          108.411,
          105.39,
          103.44,
          97.678,
          102.664
         ]
        },
        {
         "line": {
          "color": "#FFC0CB"
         },
         "mode": "lines",
         "name": "Lamar, GA",
         "text": "Lamar, GA",
         "textposition": "top right",
         "type": "scatter",
         "x": [
          2003,
          2004,
          2005,
          2006,
          2007,
          2008,
          2009,
          2010,
          2011,
          2012,
          2013,
          2015,
          2016,
          2017,
          2018,
          2019,
          2020,
          2021,
          2022,
          2023
         ],
         "y": [
          83.191,
          81.883,
          83.438,
          84.551,
          93.216,
          93.727,
          93.967,
          98.477,
          94.878,
          94.172,
          93.427,
          99.737,
          99.373,
          103.592,
          103.735,
          104.157,
          101.036,
          105.494,
          110.219,
          114.258
         ]
        },
        {
         "line": {
          "color": "#A9A9A9"
         },
         "mode": "lines",
         "name": "Adams, IL",
         "text": "Adams, IL",
         "textposition": "top right",
         "type": "scatter",
         "x": [
          2003,
          2004,
          2005,
          2006,
          2007,
          2008,
          2009,
          2010,
          2011,
          2012,
          2013,
          2015,
          2016,
          2017,
          2018,
          2019,
          2020,
          2021,
          2022,
          2023
         ],
         "y": [
          79.654,
          81.654,
          86.491,
          90.16,
          91.589,
          93.582,
          93.367,
          95.001,
          92.234,
          95.051,
          98.111,
          99.232,
          102.4,
          101.76,
          104.586,
          97.057,
          99.635,
          98.477,
          93.51,
          100.614
         ]
        },
        {
         "line": {
          "color": "#87CEFA"
         },
         "mode": "lines",
         "name": "Lake, IL",
         "text": "Lake, IL",
         "textposition": "top right",
         "type": "scatter",
         "x": [
          2003,
          2004,
          2005,
          2006,
          2007,
          2008,
          2009,
          2010,
          2011,
          2012,
          2013,
          2015,
          2016,
          2017,
          2018,
          2019,
          2020,
          2021,
          2022,
          2023
         ],
         "y": [
          78.656,
          81.216,
          83.875,
          87.882,
          89.657,
          94.695,
          97.707,
          94.213,
          92.498,
          96.205,
          95.768,
          98.521,
          101.651,
          104.679,
          102.943,
          102.954,
          105.339,
          105.335,
          101.592,
          106.468
         ]
        },
        {
         "line": {
          "color": "#FFD700"
         },
         "mode": "lines",
         "name": "Riley, KS",
         "text": "Riley, KS",
         "textposition": "top right",
         "type": "scatter",
         "x": [
          2003,
          2004,
          2005,
          2006,
          2007,
          2008,
          2009,
          2010,
          2011,
          2012,
          2013,
          2015,
          2016,
          2017,
          2018,
          2019,
          2020,
          2021,
          2022,
          2023
         ],
         "y": [
          78.822,
          79.879,
          83.156,
          85.898,
          86.815,
          89.029,
          93.378,
          97.32,
          95.39,
          96.585,
          97.939,
          99.925,
          102.355,
          102.888,
          103.512,
          102.037,
          100.206,
          100.843,
          100.186,
          101.947
         ]
        },
        {
         "line": {
          "color": "#98FB98"
         },
         "mode": "lines",
         "name": "Sullivan, NH",
         "text": "Sullivan, NH",
         "textposition": "top right",
         "type": "scatter",
         "x": [
          2003,
          2004,
          2005,
          2006,
          2007,
          2008,
          2009,
          2010,
          2011,
          2012,
          2013,
          2015,
          2016,
          2017,
          2018,
          2019,
          2020,
          2021,
          2022,
          2023
         ],
         "y": [
          87.624,
          93.209,
          91.829,
          96.587,
          97.861,
          95.699,
          97.592,
          92.842,
          91.07,
          94.881,
          94.509,
          101.387,
          102.845,
          106.4,
          101.283,
          101.85,
          99.204,
          99.205,
          101.346,
          109.571
         ]
        }
       ],
       "layout": {
        "annotations": [
         {
          "font": {
           "color": "darkgray"
          },
          "showarrow": false,
          "text": "their year 2019",
          "x": 2021,
          "xref": "x",
          "y": 1.05,
          "yref": "paper"
         }
        ],
        "legend": {
         "title": {
          "text": "GeoName"
         }
        },
        "shapes": [
         {
          "line": {
           "color": "darkgray",
           "width": 2
          },
          "type": "line",
          "x0": 2021,
          "x1": 2021,
          "xref": "x",
          "y0": 0,
          "y1": 1,
          "yref": "paper"
         }
        ],
        "template": {
         "data": {
          "bar": [
           {
            "error_x": {
             "color": "rgb(36,36,36)"
            },
            "error_y": {
             "color": "rgb(36,36,36)"
            },
            "marker": {
             "line": {
              "color": "white",
              "width": 0.5
             },
             "pattern": {
              "fillmode": "overlay",
              "size": 10,
              "solidity": 0.2
             }
            },
            "type": "bar"
           }
          ],
          "barpolar": [
           {
            "marker": {
             "line": {
              "color": "white",
              "width": 0.5
             },
             "pattern": {
              "fillmode": "overlay",
              "size": 10,
              "solidity": 0.2
             }
            },
            "type": "barpolar"
           }
          ],
          "carpet": [
           {
            "aaxis": {
             "endlinecolor": "rgb(36,36,36)",
             "gridcolor": "white",
             "linecolor": "white",
             "minorgridcolor": "white",
             "startlinecolor": "rgb(36,36,36)"
            },
            "baxis": {
             "endlinecolor": "rgb(36,36,36)",
             "gridcolor": "white",
             "linecolor": "white",
             "minorgridcolor": "white",
             "startlinecolor": "rgb(36,36,36)"
            },
            "type": "carpet"
           }
          ],
          "choropleth": [
           {
            "colorbar": {
             "outlinewidth": 1,
             "tickcolor": "rgb(36,36,36)",
             "ticks": "outside"
            },
            "type": "choropleth"
           }
          ],
          "contour": [
           {
            "colorbar": {
             "outlinewidth": 1,
             "tickcolor": "rgb(36,36,36)",
             "ticks": "outside"
            },
            "colorscale": [
             [
              0,
              "#440154"
             ],
             [
              0.1111111111111111,
              "#482878"
             ],
             [
              0.2222222222222222,
              "#3e4989"
             ],
             [
              0.3333333333333333,
              "#31688e"
             ],
             [
              0.4444444444444444,
              "#26828e"
             ],
             [
              0.5555555555555556,
              "#1f9e89"
             ],
             [
              0.6666666666666666,
              "#35b779"
             ],
             [
              0.7777777777777778,
              "#6ece58"
             ],
             [
              0.8888888888888888,
              "#b5de2b"
             ],
             [
              1,
              "#fde725"
             ]
            ],
            "type": "contour"
           }
          ],
          "contourcarpet": [
           {
            "colorbar": {
             "outlinewidth": 1,
             "tickcolor": "rgb(36,36,36)",
             "ticks": "outside"
            },
            "type": "contourcarpet"
           }
          ],
          "heatmap": [
           {
            "colorbar": {
             "outlinewidth": 1,
             "tickcolor": "rgb(36,36,36)",
             "ticks": "outside"
            },
            "colorscale": [
             [
              0,
              "#440154"
             ],
             [
              0.1111111111111111,
              "#482878"
             ],
             [
              0.2222222222222222,
              "#3e4989"
             ],
             [
              0.3333333333333333,
              "#31688e"
             ],
             [
              0.4444444444444444,
              "#26828e"
             ],
             [
              0.5555555555555556,
              "#1f9e89"
             ],
             [
              0.6666666666666666,
              "#35b779"
             ],
             [
              0.7777777777777778,
              "#6ece58"
             ],
             [
              0.8888888888888888,
              "#b5de2b"
             ],
             [
              1,
              "#fde725"
             ]
            ],
            "type": "heatmap"
           }
          ],
          "heatmapgl": [
           {
            "colorbar": {
             "outlinewidth": 1,
             "tickcolor": "rgb(36,36,36)",
             "ticks": "outside"
            },
            "colorscale": [
             [
              0,
              "#440154"
             ],
             [
              0.1111111111111111,
              "#482878"
             ],
             [
              0.2222222222222222,
              "#3e4989"
             ],
             [
              0.3333333333333333,
              "#31688e"
             ],
             [
              0.4444444444444444,
              "#26828e"
             ],
             [
              0.5555555555555556,
              "#1f9e89"
             ],
             [
              0.6666666666666666,
              "#35b779"
             ],
             [
              0.7777777777777778,
              "#6ece58"
             ],
             [
              0.8888888888888888,
              "#b5de2b"
             ],
             [
              1,
              "#fde725"
             ]
            ],
            "type": "heatmapgl"
           }
          ],
          "histogram": [
           {
            "marker": {
             "line": {
              "color": "white",
              "width": 0.6
             }
            },
            "type": "histogram"
           }
          ],
          "histogram2d": [
           {
            "colorbar": {
             "outlinewidth": 1,
             "tickcolor": "rgb(36,36,36)",
             "ticks": "outside"
            },
            "colorscale": [
             [
              0,
              "#440154"
             ],
             [
              0.1111111111111111,
              "#482878"
             ],
             [
              0.2222222222222222,
              "#3e4989"
             ],
             [
              0.3333333333333333,
              "#31688e"
             ],
             [
              0.4444444444444444,
              "#26828e"
             ],
             [
              0.5555555555555556,
              "#1f9e89"
             ],
             [
              0.6666666666666666,
              "#35b779"
             ],
             [
              0.7777777777777778,
              "#6ece58"
             ],
             [
              0.8888888888888888,
              "#b5de2b"
             ],
             [
              1,
              "#fde725"
             ]
            ],
            "type": "histogram2d"
           }
          ],
          "histogram2dcontour": [
           {
            "colorbar": {
             "outlinewidth": 1,
             "tickcolor": "rgb(36,36,36)",
             "ticks": "outside"
            },
            "colorscale": [
             [
              0,
              "#440154"
             ],
             [
              0.1111111111111111,
              "#482878"
             ],
             [
              0.2222222222222222,
              "#3e4989"
             ],
             [
              0.3333333333333333,
              "#31688e"
             ],
             [
              0.4444444444444444,
              "#26828e"
             ],
             [
              0.5555555555555556,
              "#1f9e89"
             ],
             [
              0.6666666666666666,
              "#35b779"
             ],
             [
              0.7777777777777778,
              "#6ece58"
             ],
             [
              0.8888888888888888,
              "#b5de2b"
             ],
             [
              1,
              "#fde725"
             ]
            ],
            "type": "histogram2dcontour"
           }
          ],
          "mesh3d": [
           {
            "colorbar": {
             "outlinewidth": 1,
             "tickcolor": "rgb(36,36,36)",
             "ticks": "outside"
            },
            "type": "mesh3d"
           }
          ],
          "parcoords": [
           {
            "line": {
             "colorbar": {
              "outlinewidth": 1,
              "tickcolor": "rgb(36,36,36)",
              "ticks": "outside"
             }
            },
            "type": "parcoords"
           }
          ],
          "pie": [
           {
            "automargin": true,
            "type": "pie"
           }
          ],
          "scatter": [
           {
            "fillpattern": {
             "fillmode": "overlay",
             "size": 10,
             "solidity": 0.2
            },
            "type": "scatter"
           }
          ],
          "scatter3d": [
           {
            "line": {
             "colorbar": {
              "outlinewidth": 1,
              "tickcolor": "rgb(36,36,36)",
              "ticks": "outside"
             }
            },
            "marker": {
             "colorbar": {
              "outlinewidth": 1,
              "tickcolor": "rgb(36,36,36)",
              "ticks": "outside"
             }
            },
            "type": "scatter3d"
           }
          ],
          "scattercarpet": [
           {
            "marker": {
             "colorbar": {
              "outlinewidth": 1,
              "tickcolor": "rgb(36,36,36)",
              "ticks": "outside"
             }
            },
            "type": "scattercarpet"
           }
          ],
          "scattergeo": [
           {
            "marker": {
             "colorbar": {
              "outlinewidth": 1,
              "tickcolor": "rgb(36,36,36)",
              "ticks": "outside"
             }
            },
            "type": "scattergeo"
           }
          ],
          "scattergl": [
           {
            "marker": {
             "colorbar": {
              "outlinewidth": 1,
              "tickcolor": "rgb(36,36,36)",
              "ticks": "outside"
             }
            },
            "type": "scattergl"
           }
          ],
          "scattermapbox": [
           {
            "marker": {
             "colorbar": {
              "outlinewidth": 1,
              "tickcolor": "rgb(36,36,36)",
              "ticks": "outside"
             }
            },
            "type": "scattermapbox"
           }
          ],
          "scatterpolar": [
           {
            "marker": {
             "colorbar": {
              "outlinewidth": 1,
              "tickcolor": "rgb(36,36,36)",
              "ticks": "outside"
             }
            },
            "type": "scatterpolar"
           }
          ],
          "scatterpolargl": [
           {
            "marker": {
             "colorbar": {
              "outlinewidth": 1,
              "tickcolor": "rgb(36,36,36)",
              "ticks": "outside"
             }
            },
            "type": "scatterpolargl"
           }
          ],
          "scatterternary": [
           {
            "marker": {
             "colorbar": {
              "outlinewidth": 1,
              "tickcolor": "rgb(36,36,36)",
              "ticks": "outside"
             }
            },
            "type": "scatterternary"
           }
          ],
          "surface": [
           {
            "colorbar": {
             "outlinewidth": 1,
             "tickcolor": "rgb(36,36,36)",
             "ticks": "outside"
            },
            "colorscale": [
             [
              0,
              "#440154"
             ],
             [
              0.1111111111111111,
              "#482878"
             ],
             [
              0.2222222222222222,
              "#3e4989"
             ],
             [
              0.3333333333333333,
              "#31688e"
             ],
             [
              0.4444444444444444,
              "#26828e"
             ],
             [
              0.5555555555555556,
              "#1f9e89"
             ],
             [
              0.6666666666666666,
              "#35b779"
             ],
             [
              0.7777777777777778,
              "#6ece58"
             ],
             [
              0.8888888888888888,
              "#b5de2b"
             ],
             [
              1,
              "#fde725"
             ]
            ],
            "type": "surface"
           }
          ],
          "table": [
           {
            "cells": {
             "fill": {
              "color": "rgb(237,237,237)"
             },
             "line": {
              "color": "white"
             }
            },
            "header": {
             "fill": {
              "color": "rgb(217,217,217)"
             },
             "line": {
              "color": "white"
             }
            },
            "type": "table"
           }
          ]
         },
         "layout": {
          "annotationdefaults": {
           "arrowhead": 0,
           "arrowwidth": 1
          },
          "autotypenumbers": "strict",
          "coloraxis": {
           "colorbar": {
            "outlinewidth": 1,
            "tickcolor": "rgb(36,36,36)",
            "ticks": "outside"
           }
          },
          "colorscale": {
           "diverging": [
            [
             0,
             "rgb(103,0,31)"
            ],
            [
             0.1,
             "rgb(178,24,43)"
            ],
            [
             0.2,
             "rgb(214,96,77)"
            ],
            [
             0.3,
             "rgb(244,165,130)"
            ],
            [
             0.4,
             "rgb(253,219,199)"
            ],
            [
             0.5,
             "rgb(247,247,247)"
            ],
            [
             0.6,
             "rgb(209,229,240)"
            ],
            [
             0.7,
             "rgb(146,197,222)"
            ],
            [
             0.8,
             "rgb(67,147,195)"
            ],
            [
             0.9,
             "rgb(33,102,172)"
            ],
            [
             1,
             "rgb(5,48,97)"
            ]
           ],
           "sequential": [
            [
             0,
             "#440154"
            ],
            [
             0.1111111111111111,
             "#482878"
            ],
            [
             0.2222222222222222,
             "#3e4989"
            ],
            [
             0.3333333333333333,
             "#31688e"
            ],
            [
             0.4444444444444444,
             "#26828e"
            ],
            [
             0.5555555555555556,
             "#1f9e89"
            ],
            [
             0.6666666666666666,
             "#35b779"
            ],
            [
             0.7777777777777778,
             "#6ece58"
            ],
            [
             0.8888888888888888,
             "#b5de2b"
            ],
            [
             1,
             "#fde725"
            ]
           ],
           "sequentialminus": [
            [
             0,
             "#440154"
            ],
            [
             0.1111111111111111,
             "#482878"
            ],
            [
             0.2222222222222222,
             "#3e4989"
            ],
            [
             0.3333333333333333,
             "#31688e"
            ],
            [
             0.4444444444444444,
             "#26828e"
            ],
            [
             0.5555555555555556,
             "#1f9e89"
            ],
            [
             0.6666666666666666,
             "#35b779"
            ],
            [
             0.7777777777777778,
             "#6ece58"
            ],
            [
             0.8888888888888888,
             "#b5de2b"
            ],
            [
             1,
             "#fde725"
            ]
           ]
          },
          "colorway": [
           "#1F77B4",
           "#FF7F0E",
           "#2CA02C",
           "#D62728",
           "#9467BD",
           "#8C564B",
           "#E377C2",
           "#7F7F7F",
           "#BCBD22",
           "#17BECF"
          ],
          "font": {
           "color": "rgb(36,36,36)"
          },
          "geo": {
           "bgcolor": "white",
           "lakecolor": "white",
           "landcolor": "white",
           "showlakes": true,
           "showland": true,
           "subunitcolor": "white"
          },
          "hoverlabel": {
           "align": "left"
          },
          "hovermode": "closest",
          "mapbox": {
           "style": "light"
          },
          "paper_bgcolor": "white",
          "plot_bgcolor": "white",
          "polar": {
           "angularaxis": {
            "gridcolor": "rgb(232,232,232)",
            "linecolor": "rgb(36,36,36)",
            "showgrid": false,
            "showline": true,
            "ticks": "outside"
           },
           "bgcolor": "white",
           "radialaxis": {
            "gridcolor": "rgb(232,232,232)",
            "linecolor": "rgb(36,36,36)",
            "showgrid": false,
            "showline": true,
            "ticks": "outside"
           }
          },
          "scene": {
           "xaxis": {
            "backgroundcolor": "white",
            "gridcolor": "rgb(232,232,232)",
            "gridwidth": 2,
            "linecolor": "rgb(36,36,36)",
            "showbackground": true,
            "showgrid": false,
            "showline": true,
            "ticks": "outside",
            "zeroline": false,
            "zerolinecolor": "rgb(36,36,36)"
           },
           "yaxis": {
            "backgroundcolor": "white",
            "gridcolor": "rgb(232,232,232)",
            "gridwidth": 2,
            "linecolor": "rgb(36,36,36)",
            "showbackground": true,
            "showgrid": false,
            "showline": true,
            "ticks": "outside",
            "zeroline": false,
            "zerolinecolor": "rgb(36,36,36)"
           },
           "zaxis": {
            "backgroundcolor": "white",
            "gridcolor": "rgb(232,232,232)",
            "gridwidth": 2,
            "linecolor": "rgb(36,36,36)",
            "showbackground": true,
            "showgrid": false,
            "showline": true,
            "ticks": "outside",
            "zeroline": false,
            "zerolinecolor": "rgb(36,36,36)"
           }
          },
          "shapedefaults": {
           "fillcolor": "black",
           "line": {
            "width": 0
           },
           "opacity": 0.3
          },
          "ternary": {
           "aaxis": {
            "gridcolor": "rgb(232,232,232)",
            "linecolor": "rgb(36,36,36)",
            "showgrid": false,
            "showline": true,
            "ticks": "outside"
           },
           "baxis": {
            "gridcolor": "rgb(232,232,232)",
            "linecolor": "rgb(36,36,36)",
            "showgrid": false,
            "showline": true,
            "ticks": "outside"
           },
           "bgcolor": "white",
           "caxis": {
            "gridcolor": "rgb(232,232,232)",
            "linecolor": "rgb(36,36,36)",
            "showgrid": false,
            "showline": true,
            "ticks": "outside"
           }
          },
          "title": {
           "x": 0.05
          },
          "xaxis": {
           "automargin": true,
           "gridcolor": "rgb(232,232,232)",
           "linecolor": "rgb(36,36,36)",
           "showgrid": false,
           "showline": true,
           "ticks": "outside",
           "title": {
            "standoff": 15
           },
           "zeroline": false,
           "zerolinecolor": "rgb(36,36,36)"
          },
          "yaxis": {
           "automargin": true,
           "gridcolor": "rgb(232,232,232)",
           "linecolor": "rgb(36,36,36)",
           "showgrid": false,
           "showline": true,
           "ticks": "outside",
           "title": {
            "standoff": 15
           },
           "zeroline": false,
           "zerolinecolor": "rgb(36,36,36)"
          }
         }
        },
        "title": {
         "text": "Top 5 locations matching your search (lag of 2 years)"
        },
        "xaxis": {
         "title": {
          "text": "Year"
         }
        },
        "yaxis": {
         "title": {
          "text": "gdp"
         }
        }
       }
      }
     },
     "metadata": {},
     "output_type": "display_data"
    }
   ],
   "source": [
    "fig = f.show_kins_plot()"
   ]
  },
  {
   "cell_type": "markdown",
   "metadata": {},
   "source": [
    "#### Use case: similarity of outcome and other features with a lag"
   ]
  },
  {
   "cell_type": "code",
   "execution_count": 12,
   "metadata": {},
   "outputs": [
    {
     "data": {
      "application/vnd.plotly.v1+json": {
       "config": {
        "plotlyServerURL": "https://plot.ly"
       },
       "data": [
        {
         "type": "bar",
         "x": [
          "2001_gdp",
          "2002_gdp",
          "2003_gdp",
          "2004_gdp",
          "2005_gdp",
          "2006_gdp",
          "2007_gdp",
          "2008_gdp",
          "2009_gdp",
          "2010_gdp",
          "2011_gdp",
          "2013_gdp",
          "2014_gdp",
          "2015_gdp",
          "2016_gdp",
          "2017_gdp",
          "2018_gdp",
          "2019_gdp",
          "2020_gdp",
          "2021_gdp",
          "1993_population",
          "1994_population",
          "1995_population",
          "1996_population",
          "1997_population",
          "1998_population",
          "1999_population",
          "2000_population",
          "2001_population",
          "2002_population",
          "2003_population",
          "2004_population",
          "2005_population",
          "2006_population",
          "2007_population",
          "2008_population",
          "2009_population",
          "2010_population",
          "2011_population",
          "2012_population",
          "2013_population",
          "2014_population",
          "2015_population",
          "2016_population",
          "2017_population",
          "2018_population",
          "2019_population",
          "2020_population",
          "2021_population"
         ],
         "y": [
          0,
          0,
          0,
          0,
          0,
          0,
          0,
          0,
          0,
          0,
          0,
          0,
          0,
          0,
          0,
          0,
          0,
          0.08845868442653022,
          0.09111244495932613,
          0.09384581830810591,
          0.0966611928573491,
          0.09956102864306958,
          0.10254785950236166,
          0.10562429528743252,
          0.1087930241460555,
          0.11205681487043717,
          0.11541851931655028,
          0.1188810748960468,
          0.1224475071429282,
          0.12612093235721605,
          0.12990456032793254,
          0.13380169713777051,
          0.13781574805190364,
          0.14195022049346076,
          0.14620872710826457,
          0.15059498892151252,
          0.1551128385891579,
          0.15976622374683264,
          0.16455921045923763,
          0.16949598677301475,
          0.1745808663762052,
          0.17981829236749136,
          0.1852128411385161,
          0.1907692263726716,
          0.19649230316385177,
          0.20238707225876731
         ]
        }
       ],
       "layout": {
        "template": {
         "data": {
          "bar": [
           {
            "error_x": {
             "color": "#2a3f5f"
            },
            "error_y": {
             "color": "#2a3f5f"
            },
            "marker": {
             "line": {
              "color": "white",
              "width": 0.5
             },
             "pattern": {
              "fillmode": "overlay",
              "size": 10,
              "solidity": 0.2
             }
            },
            "type": "bar"
           }
          ],
          "barpolar": [
           {
            "marker": {
             "line": {
              "color": "white",
              "width": 0.5
             },
             "pattern": {
              "fillmode": "overlay",
              "size": 10,
              "solidity": 0.2
             }
            },
            "type": "barpolar"
           }
          ],
          "carpet": [
           {
            "aaxis": {
             "endlinecolor": "#2a3f5f",
             "gridcolor": "#C8D4E3",
             "linecolor": "#C8D4E3",
             "minorgridcolor": "#C8D4E3",
             "startlinecolor": "#2a3f5f"
            },
            "baxis": {
             "endlinecolor": "#2a3f5f",
             "gridcolor": "#C8D4E3",
             "linecolor": "#C8D4E3",
             "minorgridcolor": "#C8D4E3",
             "startlinecolor": "#2a3f5f"
            },
            "type": "carpet"
           }
          ],
          "choropleth": [
           {
            "colorbar": {
             "outlinewidth": 0,
             "ticks": ""
            },
            "type": "choropleth"
           }
          ],
          "contour": [
           {
            "colorbar": {
             "outlinewidth": 0,
             "ticks": ""
            },
            "colorscale": [
             [
              0,
              "#0d0887"
             ],
             [
              0.1111111111111111,
              "#46039f"
             ],
             [
              0.2222222222222222,
              "#7201a8"
             ],
             [
              0.3333333333333333,
              "#9c179e"
             ],
             [
              0.4444444444444444,
              "#bd3786"
             ],
             [
              0.5555555555555556,
              "#d8576b"
             ],
             [
              0.6666666666666666,
              "#ed7953"
             ],
             [
              0.7777777777777778,
              "#fb9f3a"
             ],
             [
              0.8888888888888888,
              "#fdca26"
             ],
             [
              1,
              "#f0f921"
             ]
            ],
            "type": "contour"
           }
          ],
          "contourcarpet": [
           {
            "colorbar": {
             "outlinewidth": 0,
             "ticks": ""
            },
            "type": "contourcarpet"
           }
          ],
          "heatmap": [
           {
            "colorbar": {
             "outlinewidth": 0,
             "ticks": ""
            },
            "colorscale": [
             [
              0,
              "#0d0887"
             ],
             [
              0.1111111111111111,
              "#46039f"
             ],
             [
              0.2222222222222222,
              "#7201a8"
             ],
             [
              0.3333333333333333,
              "#9c179e"
             ],
             [
              0.4444444444444444,
              "#bd3786"
             ],
             [
              0.5555555555555556,
              "#d8576b"
             ],
             [
              0.6666666666666666,
              "#ed7953"
             ],
             [
              0.7777777777777778,
              "#fb9f3a"
             ],
             [
              0.8888888888888888,
              "#fdca26"
             ],
             [
              1,
              "#f0f921"
             ]
            ],
            "type": "heatmap"
           }
          ],
          "heatmapgl": [
           {
            "colorbar": {
             "outlinewidth": 0,
             "ticks": ""
            },
            "colorscale": [
             [
              0,
              "#0d0887"
             ],
             [
              0.1111111111111111,
              "#46039f"
             ],
             [
              0.2222222222222222,
              "#7201a8"
             ],
             [
              0.3333333333333333,
              "#9c179e"
             ],
             [
              0.4444444444444444,
              "#bd3786"
             ],
             [
              0.5555555555555556,
              "#d8576b"
             ],
             [
              0.6666666666666666,
              "#ed7953"
             ],
             [
              0.7777777777777778,
              "#fb9f3a"
             ],
             [
              0.8888888888888888,
              "#fdca26"
             ],
             [
              1,
              "#f0f921"
             ]
            ],
            "type": "heatmapgl"
           }
          ],
          "histogram": [
           {
            "marker": {
             "pattern": {
              "fillmode": "overlay",
              "size": 10,
              "solidity": 0.2
             }
            },
            "type": "histogram"
           }
          ],
          "histogram2d": [
           {
            "colorbar": {
             "outlinewidth": 0,
             "ticks": ""
            },
            "colorscale": [
             [
              0,
              "#0d0887"
             ],
             [
              0.1111111111111111,
              "#46039f"
             ],
             [
              0.2222222222222222,
              "#7201a8"
             ],
             [
              0.3333333333333333,
              "#9c179e"
             ],
             [
              0.4444444444444444,
              "#bd3786"
             ],
             [
              0.5555555555555556,
              "#d8576b"
             ],
             [
              0.6666666666666666,
              "#ed7953"
             ],
             [
              0.7777777777777778,
              "#fb9f3a"
             ],
             [
              0.8888888888888888,
              "#fdca26"
             ],
             [
              1,
              "#f0f921"
             ]
            ],
            "type": "histogram2d"
           }
          ],
          "histogram2dcontour": [
           {
            "colorbar": {
             "outlinewidth": 0,
             "ticks": ""
            },
            "colorscale": [
             [
              0,
              "#0d0887"
             ],
             [
              0.1111111111111111,
              "#46039f"
             ],
             [
              0.2222222222222222,
              "#7201a8"
             ],
             [
              0.3333333333333333,
              "#9c179e"
             ],
             [
              0.4444444444444444,
              "#bd3786"
             ],
             [
              0.5555555555555556,
              "#d8576b"
             ],
             [
              0.6666666666666666,
              "#ed7953"
             ],
             [
              0.7777777777777778,
              "#fb9f3a"
             ],
             [
              0.8888888888888888,
              "#fdca26"
             ],
             [
              1,
              "#f0f921"
             ]
            ],
            "type": "histogram2dcontour"
           }
          ],
          "mesh3d": [
           {
            "colorbar": {
             "outlinewidth": 0,
             "ticks": ""
            },
            "type": "mesh3d"
           }
          ],
          "parcoords": [
           {
            "line": {
             "colorbar": {
              "outlinewidth": 0,
              "ticks": ""
             }
            },
            "type": "parcoords"
           }
          ],
          "pie": [
           {
            "automargin": true,
            "type": "pie"
           }
          ],
          "scatter": [
           {
            "fillpattern": {
             "fillmode": "overlay",
             "size": 10,
             "solidity": 0.2
            },
            "type": "scatter"
           }
          ],
          "scatter3d": [
           {
            "line": {
             "colorbar": {
              "outlinewidth": 0,
              "ticks": ""
             }
            },
            "marker": {
             "colorbar": {
              "outlinewidth": 0,
              "ticks": ""
             }
            },
            "type": "scatter3d"
           }
          ],
          "scattercarpet": [
           {
            "marker": {
             "colorbar": {
              "outlinewidth": 0,
              "ticks": ""
             }
            },
            "type": "scattercarpet"
           }
          ],
          "scattergeo": [
           {
            "marker": {
             "colorbar": {
              "outlinewidth": 0,
              "ticks": ""
             }
            },
            "type": "scattergeo"
           }
          ],
          "scattergl": [
           {
            "marker": {
             "colorbar": {
              "outlinewidth": 0,
              "ticks": ""
             }
            },
            "type": "scattergl"
           }
          ],
          "scattermapbox": [
           {
            "marker": {
             "colorbar": {
              "outlinewidth": 0,
              "ticks": ""
             }
            },
            "type": "scattermapbox"
           }
          ],
          "scatterpolar": [
           {
            "marker": {
             "colorbar": {
              "outlinewidth": 0,
              "ticks": ""
             }
            },
            "type": "scatterpolar"
           }
          ],
          "scatterpolargl": [
           {
            "marker": {
             "colorbar": {
              "outlinewidth": 0,
              "ticks": ""
             }
            },
            "type": "scatterpolargl"
           }
          ],
          "scatterternary": [
           {
            "marker": {
             "colorbar": {
              "outlinewidth": 0,
              "ticks": ""
             }
            },
            "type": "scatterternary"
           }
          ],
          "surface": [
           {
            "colorbar": {
             "outlinewidth": 0,
             "ticks": ""
            },
            "colorscale": [
             [
              0,
              "#0d0887"
             ],
             [
              0.1111111111111111,
              "#46039f"
             ],
             [
              0.2222222222222222,
              "#7201a8"
             ],
             [
              0.3333333333333333,
              "#9c179e"
             ],
             [
              0.4444444444444444,
              "#bd3786"
             ],
             [
              0.5555555555555556,
              "#d8576b"
             ],
             [
              0.6666666666666666,
              "#ed7953"
             ],
             [
              0.7777777777777778,
              "#fb9f3a"
             ],
             [
              0.8888888888888888,
              "#fdca26"
             ],
             [
              1,
              "#f0f921"
             ]
            ],
            "type": "surface"
           }
          ],
          "table": [
           {
            "cells": {
             "fill": {
              "color": "#EBF0F8"
             },
             "line": {
              "color": "white"
             }
            },
            "header": {
             "fill": {
              "color": "#C8D4E3"
             },
             "line": {
              "color": "white"
             }
            },
            "type": "table"
           }
          ]
         },
         "layout": {
          "annotationdefaults": {
           "arrowcolor": "#2a3f5f",
           "arrowhead": 0,
           "arrowwidth": 1
          },
          "autotypenumbers": "strict",
          "coloraxis": {
           "colorbar": {
            "outlinewidth": 0,
            "ticks": ""
           }
          },
          "colorscale": {
           "diverging": [
            [
             0,
             "#8e0152"
            ],
            [
             0.1,
             "#c51b7d"
            ],
            [
             0.2,
             "#de77ae"
            ],
            [
             0.3,
             "#f1b6da"
            ],
            [
             0.4,
             "#fde0ef"
            ],
            [
             0.5,
             "#f7f7f7"
            ],
            [
             0.6,
             "#e6f5d0"
            ],
            [
             0.7,
             "#b8e186"
            ],
            [
             0.8,
             "#7fbc41"
            ],
            [
             0.9,
             "#4d9221"
            ],
            [
             1,
             "#276419"
            ]
           ],
           "sequential": [
            [
             0,
             "#0d0887"
            ],
            [
             0.1111111111111111,
             "#46039f"
            ],
            [
             0.2222222222222222,
             "#7201a8"
            ],
            [
             0.3333333333333333,
             "#9c179e"
            ],
            [
             0.4444444444444444,
             "#bd3786"
            ],
            [
             0.5555555555555556,
             "#d8576b"
            ],
            [
             0.6666666666666666,
             "#ed7953"
            ],
            [
             0.7777777777777778,
             "#fb9f3a"
            ],
            [
             0.8888888888888888,
             "#fdca26"
            ],
            [
             1,
             "#f0f921"
            ]
           ],
           "sequentialminus": [
            [
             0,
             "#0d0887"
            ],
            [
             0.1111111111111111,
             "#46039f"
            ],
            [
             0.2222222222222222,
             "#7201a8"
            ],
            [
             0.3333333333333333,
             "#9c179e"
            ],
            [
             0.4444444444444444,
             "#bd3786"
            ],
            [
             0.5555555555555556,
             "#d8576b"
            ],
            [
             0.6666666666666666,
             "#ed7953"
            ],
            [
             0.7777777777777778,
             "#fb9f3a"
            ],
            [
             0.8888888888888888,
             "#fdca26"
            ],
            [
             1,
             "#f0f921"
            ]
           ]
          },
          "colorway": [
           "#636efa",
           "#EF553B",
           "#00cc96",
           "#ab63fa",
           "#FFA15A",
           "#19d3f3",
           "#FF6692",
           "#B6E880",
           "#FF97FF",
           "#FECB52"
          ],
          "font": {
           "color": "#2a3f5f"
          },
          "geo": {
           "bgcolor": "white",
           "lakecolor": "white",
           "landcolor": "white",
           "showlakes": true,
           "showland": true,
           "subunitcolor": "#C8D4E3"
          },
          "hoverlabel": {
           "align": "left"
          },
          "hovermode": "closest",
          "mapbox": {
           "style": "light"
          },
          "paper_bgcolor": "white",
          "plot_bgcolor": "white",
          "polar": {
           "angularaxis": {
            "gridcolor": "#EBF0F8",
            "linecolor": "#EBF0F8",
            "ticks": ""
           },
           "bgcolor": "white",
           "radialaxis": {
            "gridcolor": "#EBF0F8",
            "linecolor": "#EBF0F8",
            "ticks": ""
           }
          },
          "scene": {
           "xaxis": {
            "backgroundcolor": "white",
            "gridcolor": "#DFE8F3",
            "gridwidth": 2,
            "linecolor": "#EBF0F8",
            "showbackground": true,
            "ticks": "",
            "zerolinecolor": "#EBF0F8"
           },
           "yaxis": {
            "backgroundcolor": "white",
            "gridcolor": "#DFE8F3",
            "gridwidth": 2,
            "linecolor": "#EBF0F8",
            "showbackground": true,
            "ticks": "",
            "zerolinecolor": "#EBF0F8"
           },
           "zaxis": {
            "backgroundcolor": "white",
            "gridcolor": "#DFE8F3",
            "gridwidth": 2,
            "linecolor": "#EBF0F8",
            "showbackground": true,
            "ticks": "",
            "zerolinecolor": "#EBF0F8"
           }
          },
          "shapedefaults": {
           "line": {
            "color": "#2a3f5f"
           }
          },
          "ternary": {
           "aaxis": {
            "gridcolor": "#DFE8F3",
            "linecolor": "#A2B1C6",
            "ticks": ""
           },
           "baxis": {
            "gridcolor": "#DFE8F3",
            "linecolor": "#A2B1C6",
            "ticks": ""
           },
           "bgcolor": "white",
           "caxis": {
            "gridcolor": "#DFE8F3",
            "linecolor": "#A2B1C6",
            "ticks": ""
           }
          },
          "title": {
           "x": 0.05
          },
          "xaxis": {
           "automargin": true,
           "gridcolor": "#EBF0F8",
           "linecolor": "#EBF0F8",
           "ticks": "",
           "title": {
            "standoff": 15
           },
           "zerolinecolor": "#EBF0F8",
           "zerolinewidth": 2
          },
          "yaxis": {
           "automargin": true,
           "gridcolor": "#EBF0F8",
           "linecolor": "#EBF0F8",
           "ticks": "",
           "title": {
            "standoff": 15
           },
           "zerolinecolor": "#EBF0F8",
           "zerolinewidth": 2
          }
         }
        },
        "title": {
         "text": "Weights of columns"
        },
        "xaxis": {
         "title": {
          "text": "columns"
         }
        },
        "yaxis": {
         "title": {
          "text": "weights"
         }
        }
       }
      }
     },
     "metadata": {},
     "output_type": "display_data"
    },
    {
     "data": {
      "text/plain": [
       "None"
      ]
     },
     "metadata": {},
     "output_type": "display_data"
    }
   ],
   "source": [
    "f  = FipsQuery(20003, outcome_var = \"gdp\",\n",
    "               feature_groups_with_weights= {\"gdp\":0, \"population\":4},\n",
    "               # weights= {\"population\":4}, \n",
    "               lag = 3, top =10, time_decay = 1.03)\n",
    "f.find_euclidean_kins()\n",
    "display(f.plot_weights())\n",
    "\n"
   ]
  },
  {
   "cell_type": "code",
   "execution_count": 13,
   "metadata": {},
   "outputs": [
    {
     "data": {
      "application/vnd.plotly.v1+json": {
       "config": {
        "plotlyServerURL": "https://plot.ly"
       },
       "data": [
        {
         "line": {
          "color": "darkred",
          "width": 3
         },
         "mode": "lines",
         "name": "Anderson, KS",
         "text": "Anderson, KS",
         "textposition": "top right",
         "type": "scatter",
         "x": [
          2001,
          2002,
          2003,
          2004,
          2005,
          2006,
          2007,
          2008,
          2009,
          2010,
          2011,
          2013,
          2014,
          2015,
          2016,
          2017,
          2018,
          2019,
          2020,
          2021
         ],
         "y": [
          74.59,
          78.511,
          76.836,
          76.589,
          76.548,
          75.401,
          81.577,
          91.311,
          95.643,
          87.817,
          94.166,
          103.952,
          107.351,
          104.642,
          123.926,
          106.269,
          105.016,
          117.576,
          130.217,
          143.895
         ]
        },
        {
         "line": {
          "color": "#FFC0CB"
         },
         "mode": "lines",
         "name": "Searcy, AR",
         "text": "Searcy, AR",
         "textposition": "top right",
         "type": "scatter",
         "x": [
          2004,
          2005,
          2006,
          2007,
          2008,
          2009,
          2010,
          2011,
          2012,
          2013,
          2014,
          2016,
          2017,
          2018,
          2019,
          2020,
          2021,
          2022,
          2023,
          2024
         ],
         "y": [
          90.528,
          97.992,
          101.146,
          104.189,
          106.461,
          112.705,
          106.153,
          100.018,
          98.552,
          107.214,
          102.905,
          98.807,
          99.256,
          96.926,
          101.548,
          115.809,
          112.288,
          117.577,
          114.056,
          119.556
         ]
        },
        {
         "line": {
          "color": "#A9A9A9"
         },
         "mode": "lines",
         "name": "Conejos, CO",
         "text": "Conejos, CO",
         "textposition": "top right",
         "type": "scatter",
         "x": [
          2004,
          2005,
          2006,
          2007,
          2008,
          2009,
          2010,
          2011,
          2012,
          2013,
          2014,
          2016,
          2017,
          2018,
          2019,
          2020,
          2021,
          2022,
          2023,
          2024
         ],
         "y": [
          95.296,
          93.98,
          103.146,
          101.505,
          100.837,
          92.954,
          87.007,
          96.985,
          116.207,
          93.326,
          107.368,
          109.646,
          114.182,
          131.162,
          127.44,
          136.575,
          143.467,
          138.931,
          146,
          137.253
         ]
        },
        {
         "line": {
          "color": "#87CEFA"
         },
         "mode": "lines",
         "name": "Lincoln, GA",
         "text": "Lincoln, GA",
         "textposition": "top right",
         "type": "scatter",
         "x": [
          2004,
          2005,
          2006,
          2007,
          2008,
          2009,
          2010,
          2011,
          2012,
          2013,
          2014,
          2016,
          2017,
          2018,
          2019,
          2020,
          2021,
          2022,
          2023,
          2024
         ],
         "y": [
          105.269,
          104.599,
          106.313,
          102.832,
          109.49,
          105.428,
          118.19,
          112.823,
          115.715,
          111.459,
          108.252,
          100.753,
          97.406,
          102.081,
          102.229,
          98.661,
          95.957,
          98.276,
          96.241,
          99.451
         ]
        },
        {
         "line": {
          "color": "#FFD700"
         },
         "mode": "lines",
         "name": "Monroe, IA",
         "text": "Monroe, IA",
         "textposition": "top right",
         "type": "scatter",
         "x": [
          2004,
          2005,
          2006,
          2007,
          2008,
          2009,
          2010,
          2011,
          2012,
          2013,
          2014,
          2016,
          2017,
          2018,
          2019,
          2020,
          2021,
          2022,
          2023,
          2024
         ],
         "y": [
          80.83,
          78.299,
          81.98,
          89.798,
          90.345,
          95.037,
          102.527,
          114.486,
          120.5,
          116.286,
          107.43,
          99.366,
          95.596,
          100.399,
          97.7,
          98.123,
          104.999,
          106.039,
          103.193,
          110.844
         ]
        },
        {
         "line": {
          "color": "#98FB98"
         },
         "mode": "lines",
         "name": "Doniphan, KS",
         "text": "Doniphan, KS",
         "textposition": "top right",
         "type": "scatter",
         "x": [
          2004,
          2005,
          2006,
          2007,
          2008,
          2009,
          2010,
          2011,
          2012,
          2013,
          2014,
          2016,
          2017,
          2018,
          2019,
          2020,
          2021,
          2022,
          2023,
          2024
         ],
         "y": [
          96.019,
          85.88,
          80.674,
          100.728,
          106.243,
          110.814,
          132.605,
          128.517,
          126.329,
          105.067,
          108.161,
          111.953,
          104.826,
          116.704,
          106.677,
          114.562,
          106.366,
          119.4,
          107.301,
          107.132
         ]
        },
        {
         "line": {
          "color": "#FFC0CB"
         },
         "mode": "lines",
         "name": "Ballard, KY",
         "text": "Ballard, KY",
         "textposition": "top right",
         "type": "scatter",
         "x": [
          2004,
          2005,
          2006,
          2007,
          2008,
          2009,
          2010,
          2011,
          2012,
          2013,
          2014,
          2016,
          2017,
          2018,
          2019,
          2020,
          2021,
          2022,
          2023,
          2024
         ],
         "y": [
          109.013,
          105.897,
          107.213,
          107.554,
          117.147,
          115.141,
          109.497,
          108.722,
          124.611,
          123.416,
          113.701,
          93.233,
          85.93,
          78.632,
          64.37,
          63.74,
          59.569,
          67.92,
          69.371,
          75.013
         ]
        },
        {
         "line": {
          "color": "#A9A9A9"
         },
         "mode": "lines",
         "name": "Franklin, MS",
         "text": "Franklin, MS",
         "textposition": "top right",
         "type": "scatter",
         "x": [
          2004,
          2005,
          2006,
          2007,
          2008,
          2009,
          2010,
          2011,
          2012,
          2013,
          2014,
          2016,
          2017,
          2018,
          2019,
          2020,
          2021,
          2022,
          2023,
          2024
         ],
         "y": [
          74.492,
          78.106,
          78.787,
          78.43,
          82.062,
          85.209,
          74.495,
          81.551,
          88.701,
          95.962,
          97.055,
          94.44,
          90.618,
          92.635,
          94.718,
          94.351,
          95.574,
          97.741,
          98.738,
          98.573
         ]
        },
        {
         "line": {
          "color": "#87CEFA"
         },
         "mode": "lines",
         "name": "Dade, MO",
         "text": "Dade, MO",
         "textposition": "top right",
         "type": "scatter",
         "x": [
          2004,
          2005,
          2006,
          2007,
          2008,
          2009,
          2010,
          2011,
          2012,
          2013,
          2014,
          2016,
          2017,
          2018,
          2019,
          2020,
          2021,
          2022,
          2023,
          2024
         ],
         "y": [
          78.201,
          83.996,
          101.197,
          104.307,
          101.729,
          102.668,
          97.203,
          99.999,
          94.254,
          90.734,
          86.254,
          99.804,
          120.798,
          114.377,
          106.884,
          100.33,
          102.952,
          104.238,
          108.52,
          107.023
         ]
        },
        {
         "line": {
          "color": "#FFD700"
         },
         "mode": "lines",
         "name": "Merrick, NE",
         "text": "Merrick, NE",
         "textposition": "top right",
         "type": "scatter",
         "x": [
          2004,
          2005,
          2006,
          2007,
          2008,
          2009,
          2010,
          2011,
          2012,
          2013,
          2014,
          2016,
          2017,
          2018,
          2019,
          2020,
          2021,
          2022,
          2023,
          2024
         ],
         "y": [
          58.496,
          58.374,
          72.326,
          81.666,
          83.238,
          85.081,
          78.882,
          75.376,
          87.559,
          90.913,
          97.539,
          116.654,
          152.532,
          142.808,
          136.253,
          109.077,
          101.66,
          105.809,
          96.843,
          98.967
         ]
        },
        {
         "line": {
          "color": "#98FB98"
         },
         "mode": "lines",
         "name": "McCulloch, TX",
         "text": "McCulloch, TX",
         "textposition": "top right",
         "type": "scatter",
         "x": [
          2004,
          2005,
          2006,
          2007,
          2008,
          2009,
          2010,
          2011,
          2012,
          2013,
          2014,
          2016,
          2017,
          2018,
          2019,
          2020,
          2021,
          2022,
          2023,
          2024
         ],
         "y": [
          65.485,
          67.304,
          72.287,
          71.81,
          70.059,
          74.342,
          79.889,
          91.802,
          71.256,
          77.12,
          93.147,
          104.082,
          107.683,
          102.074,
          94.308,
          104.242,
          110.37,
          96.964,
          88.848,
          90.572
         ]
        }
       ],
       "layout": {
        "annotations": [
         {
          "font": {
           "color": "darkgray"
          },
          "showarrow": false,
          "text": "their year 2018",
          "x": 2021,
          "xref": "x",
          "y": 1.05,
          "yref": "paper"
         }
        ],
        "legend": {
         "title": {
          "text": "GeoName"
         }
        },
        "shapes": [
         {
          "line": {
           "color": "darkgray",
           "width": 2
          },
          "type": "line",
          "x0": 2021,
          "x1": 2021,
          "xref": "x",
          "y0": 0,
          "y1": 1,
          "yref": "paper"
         }
        ],
        "template": {
         "data": {
          "bar": [
           {
            "error_x": {
             "color": "rgb(36,36,36)"
            },
            "error_y": {
             "color": "rgb(36,36,36)"
            },
            "marker": {
             "line": {
              "color": "white",
              "width": 0.5
             },
             "pattern": {
              "fillmode": "overlay",
              "size": 10,
              "solidity": 0.2
             }
            },
            "type": "bar"
           }
          ],
          "barpolar": [
           {
            "marker": {
             "line": {
              "color": "white",
              "width": 0.5
             },
             "pattern": {
              "fillmode": "overlay",
              "size": 10,
              "solidity": 0.2
             }
            },
            "type": "barpolar"
           }
          ],
          "carpet": [
           {
            "aaxis": {
             "endlinecolor": "rgb(36,36,36)",
             "gridcolor": "white",
             "linecolor": "white",
             "minorgridcolor": "white",
             "startlinecolor": "rgb(36,36,36)"
            },
            "baxis": {
             "endlinecolor": "rgb(36,36,36)",
             "gridcolor": "white",
             "linecolor": "white",
             "minorgridcolor": "white",
             "startlinecolor": "rgb(36,36,36)"
            },
            "type": "carpet"
           }
          ],
          "choropleth": [
           {
            "colorbar": {
             "outlinewidth": 1,
             "tickcolor": "rgb(36,36,36)",
             "ticks": "outside"
            },
            "type": "choropleth"
           }
          ],
          "contour": [
           {
            "colorbar": {
             "outlinewidth": 1,
             "tickcolor": "rgb(36,36,36)",
             "ticks": "outside"
            },
            "colorscale": [
             [
              0,
              "#440154"
             ],
             [
              0.1111111111111111,
              "#482878"
             ],
             [
              0.2222222222222222,
              "#3e4989"
             ],
             [
              0.3333333333333333,
              "#31688e"
             ],
             [
              0.4444444444444444,
              "#26828e"
             ],
             [
              0.5555555555555556,
              "#1f9e89"
             ],
             [
              0.6666666666666666,
              "#35b779"
             ],
             [
              0.7777777777777778,
              "#6ece58"
             ],
             [
              0.8888888888888888,
              "#b5de2b"
             ],
             [
              1,
              "#fde725"
             ]
            ],
            "type": "contour"
           }
          ],
          "contourcarpet": [
           {
            "colorbar": {
             "outlinewidth": 1,
             "tickcolor": "rgb(36,36,36)",
             "ticks": "outside"
            },
            "type": "contourcarpet"
           }
          ],
          "heatmap": [
           {
            "colorbar": {
             "outlinewidth": 1,
             "tickcolor": "rgb(36,36,36)",
             "ticks": "outside"
            },
            "colorscale": [
             [
              0,
              "#440154"
             ],
             [
              0.1111111111111111,
              "#482878"
             ],
             [
              0.2222222222222222,
              "#3e4989"
             ],
             [
              0.3333333333333333,
              "#31688e"
             ],
             [
              0.4444444444444444,
              "#26828e"
             ],
             [
              0.5555555555555556,
              "#1f9e89"
             ],
             [
              0.6666666666666666,
              "#35b779"
             ],
             [
              0.7777777777777778,
              "#6ece58"
             ],
             [
              0.8888888888888888,
              "#b5de2b"
             ],
             [
              1,
              "#fde725"
             ]
            ],
            "type": "heatmap"
           }
          ],
          "heatmapgl": [
           {
            "colorbar": {
             "outlinewidth": 1,
             "tickcolor": "rgb(36,36,36)",
             "ticks": "outside"
            },
            "colorscale": [
             [
              0,
              "#440154"
             ],
             [
              0.1111111111111111,
              "#482878"
             ],
             [
              0.2222222222222222,
              "#3e4989"
             ],
             [
              0.3333333333333333,
              "#31688e"
             ],
             [
              0.4444444444444444,
              "#26828e"
             ],
             [
              0.5555555555555556,
              "#1f9e89"
             ],
             [
              0.6666666666666666,
              "#35b779"
             ],
             [
              0.7777777777777778,
              "#6ece58"
             ],
             [
              0.8888888888888888,
              "#b5de2b"
             ],
             [
              1,
              "#fde725"
             ]
            ],
            "type": "heatmapgl"
           }
          ],
          "histogram": [
           {
            "marker": {
             "line": {
              "color": "white",
              "width": 0.6
             }
            },
            "type": "histogram"
           }
          ],
          "histogram2d": [
           {
            "colorbar": {
             "outlinewidth": 1,
             "tickcolor": "rgb(36,36,36)",
             "ticks": "outside"
            },
            "colorscale": [
             [
              0,
              "#440154"
             ],
             [
              0.1111111111111111,
              "#482878"
             ],
             [
              0.2222222222222222,
              "#3e4989"
             ],
             [
              0.3333333333333333,
              "#31688e"
             ],
             [
              0.4444444444444444,
              "#26828e"
             ],
             [
              0.5555555555555556,
              "#1f9e89"
             ],
             [
              0.6666666666666666,
              "#35b779"
             ],
             [
              0.7777777777777778,
              "#6ece58"
             ],
             [
              0.8888888888888888,
              "#b5de2b"
             ],
             [
              1,
              "#fde725"
             ]
            ],
            "type": "histogram2d"
           }
          ],
          "histogram2dcontour": [
           {
            "colorbar": {
             "outlinewidth": 1,
             "tickcolor": "rgb(36,36,36)",
             "ticks": "outside"
            },
            "colorscale": [
             [
              0,
              "#440154"
             ],
             [
              0.1111111111111111,
              "#482878"
             ],
             [
              0.2222222222222222,
              "#3e4989"
             ],
             [
              0.3333333333333333,
              "#31688e"
             ],
             [
              0.4444444444444444,
              "#26828e"
             ],
             [
              0.5555555555555556,
              "#1f9e89"
             ],
             [
              0.6666666666666666,
              "#35b779"
             ],
             [
              0.7777777777777778,
              "#6ece58"
             ],
             [
              0.8888888888888888,
              "#b5de2b"
             ],
             [
              1,
              "#fde725"
             ]
            ],
            "type": "histogram2dcontour"
           }
          ],
          "mesh3d": [
           {
            "colorbar": {
             "outlinewidth": 1,
             "tickcolor": "rgb(36,36,36)",
             "ticks": "outside"
            },
            "type": "mesh3d"
           }
          ],
          "parcoords": [
           {
            "line": {
             "colorbar": {
              "outlinewidth": 1,
              "tickcolor": "rgb(36,36,36)",
              "ticks": "outside"
             }
            },
            "type": "parcoords"
           }
          ],
          "pie": [
           {
            "automargin": true,
            "type": "pie"
           }
          ],
          "scatter": [
           {
            "fillpattern": {
             "fillmode": "overlay",
             "size": 10,
             "solidity": 0.2
            },
            "type": "scatter"
           }
          ],
          "scatter3d": [
           {
            "line": {
             "colorbar": {
              "outlinewidth": 1,
              "tickcolor": "rgb(36,36,36)",
              "ticks": "outside"
             }
            },
            "marker": {
             "colorbar": {
              "outlinewidth": 1,
              "tickcolor": "rgb(36,36,36)",
              "ticks": "outside"
             }
            },
            "type": "scatter3d"
           }
          ],
          "scattercarpet": [
           {
            "marker": {
             "colorbar": {
              "outlinewidth": 1,
              "tickcolor": "rgb(36,36,36)",
              "ticks": "outside"
             }
            },
            "type": "scattercarpet"
           }
          ],
          "scattergeo": [
           {
            "marker": {
             "colorbar": {
              "outlinewidth": 1,
              "tickcolor": "rgb(36,36,36)",
              "ticks": "outside"
             }
            },
            "type": "scattergeo"
           }
          ],
          "scattergl": [
           {
            "marker": {
             "colorbar": {
              "outlinewidth": 1,
              "tickcolor": "rgb(36,36,36)",
              "ticks": "outside"
             }
            },
            "type": "scattergl"
           }
          ],
          "scattermapbox": [
           {
            "marker": {
             "colorbar": {
              "outlinewidth": 1,
              "tickcolor": "rgb(36,36,36)",
              "ticks": "outside"
             }
            },
            "type": "scattermapbox"
           }
          ],
          "scatterpolar": [
           {
            "marker": {
             "colorbar": {
              "outlinewidth": 1,
              "tickcolor": "rgb(36,36,36)",
              "ticks": "outside"
             }
            },
            "type": "scatterpolar"
           }
          ],
          "scatterpolargl": [
           {
            "marker": {
             "colorbar": {
              "outlinewidth": 1,
              "tickcolor": "rgb(36,36,36)",
              "ticks": "outside"
             }
            },
            "type": "scatterpolargl"
           }
          ],
          "scatterternary": [
           {
            "marker": {
             "colorbar": {
              "outlinewidth": 1,
              "tickcolor": "rgb(36,36,36)",
              "ticks": "outside"
             }
            },
            "type": "scatterternary"
           }
          ],
          "surface": [
           {
            "colorbar": {
             "outlinewidth": 1,
             "tickcolor": "rgb(36,36,36)",
             "ticks": "outside"
            },
            "colorscale": [
             [
              0,
              "#440154"
             ],
             [
              0.1111111111111111,
              "#482878"
             ],
             [
              0.2222222222222222,
              "#3e4989"
             ],
             [
              0.3333333333333333,
              "#31688e"
             ],
             [
              0.4444444444444444,
              "#26828e"
             ],
             [
              0.5555555555555556,
              "#1f9e89"
             ],
             [
              0.6666666666666666,
              "#35b779"
             ],
             [
              0.7777777777777778,
              "#6ece58"
             ],
             [
              0.8888888888888888,
              "#b5de2b"
             ],
             [
              1,
              "#fde725"
             ]
            ],
            "type": "surface"
           }
          ],
          "table": [
           {
            "cells": {
             "fill": {
              "color": "rgb(237,237,237)"
             },
             "line": {
              "color": "white"
             }
            },
            "header": {
             "fill": {
              "color": "rgb(217,217,217)"
             },
             "line": {
              "color": "white"
             }
            },
            "type": "table"
           }
          ]
         },
         "layout": {
          "annotationdefaults": {
           "arrowhead": 0,
           "arrowwidth": 1
          },
          "autotypenumbers": "strict",
          "coloraxis": {
           "colorbar": {
            "outlinewidth": 1,
            "tickcolor": "rgb(36,36,36)",
            "ticks": "outside"
           }
          },
          "colorscale": {
           "diverging": [
            [
             0,
             "rgb(103,0,31)"
            ],
            [
             0.1,
             "rgb(178,24,43)"
            ],
            [
             0.2,
             "rgb(214,96,77)"
            ],
            [
             0.3,
             "rgb(244,165,130)"
            ],
            [
             0.4,
             "rgb(253,219,199)"
            ],
            [
             0.5,
             "rgb(247,247,247)"
            ],
            [
             0.6,
             "rgb(209,229,240)"
            ],
            [
             0.7,
             "rgb(146,197,222)"
            ],
            [
             0.8,
             "rgb(67,147,195)"
            ],
            [
             0.9,
             "rgb(33,102,172)"
            ],
            [
             1,
             "rgb(5,48,97)"
            ]
           ],
           "sequential": [
            [
             0,
             "#440154"
            ],
            [
             0.1111111111111111,
             "#482878"
            ],
            [
             0.2222222222222222,
             "#3e4989"
            ],
            [
             0.3333333333333333,
             "#31688e"
            ],
            [
             0.4444444444444444,
             "#26828e"
            ],
            [
             0.5555555555555556,
             "#1f9e89"
            ],
            [
             0.6666666666666666,
             "#35b779"
            ],
            [
             0.7777777777777778,
             "#6ece58"
            ],
            [
             0.8888888888888888,
             "#b5de2b"
            ],
            [
             1,
             "#fde725"
            ]
           ],
           "sequentialminus": [
            [
             0,
             "#440154"
            ],
            [
             0.1111111111111111,
             "#482878"
            ],
            [
             0.2222222222222222,
             "#3e4989"
            ],
            [
             0.3333333333333333,
             "#31688e"
            ],
            [
             0.4444444444444444,
             "#26828e"
            ],
            [
             0.5555555555555556,
             "#1f9e89"
            ],
            [
             0.6666666666666666,
             "#35b779"
            ],
            [
             0.7777777777777778,
             "#6ece58"
            ],
            [
             0.8888888888888888,
             "#b5de2b"
            ],
            [
             1,
             "#fde725"
            ]
           ]
          },
          "colorway": [
           "#1F77B4",
           "#FF7F0E",
           "#2CA02C",
           "#D62728",
           "#9467BD",
           "#8C564B",
           "#E377C2",
           "#7F7F7F",
           "#BCBD22",
           "#17BECF"
          ],
          "font": {
           "color": "rgb(36,36,36)"
          },
          "geo": {
           "bgcolor": "white",
           "lakecolor": "white",
           "landcolor": "white",
           "showlakes": true,
           "showland": true,
           "subunitcolor": "white"
          },
          "hoverlabel": {
           "align": "left"
          },
          "hovermode": "closest",
          "mapbox": {
           "style": "light"
          },
          "paper_bgcolor": "white",
          "plot_bgcolor": "white",
          "polar": {
           "angularaxis": {
            "gridcolor": "rgb(232,232,232)",
            "linecolor": "rgb(36,36,36)",
            "showgrid": false,
            "showline": true,
            "ticks": "outside"
           },
           "bgcolor": "white",
           "radialaxis": {
            "gridcolor": "rgb(232,232,232)",
            "linecolor": "rgb(36,36,36)",
            "showgrid": false,
            "showline": true,
            "ticks": "outside"
           }
          },
          "scene": {
           "xaxis": {
            "backgroundcolor": "white",
            "gridcolor": "rgb(232,232,232)",
            "gridwidth": 2,
            "linecolor": "rgb(36,36,36)",
            "showbackground": true,
            "showgrid": false,
            "showline": true,
            "ticks": "outside",
            "zeroline": false,
            "zerolinecolor": "rgb(36,36,36)"
           },
           "yaxis": {
            "backgroundcolor": "white",
            "gridcolor": "rgb(232,232,232)",
            "gridwidth": 2,
            "linecolor": "rgb(36,36,36)",
            "showbackground": true,
            "showgrid": false,
            "showline": true,
            "ticks": "outside",
            "zeroline": false,
            "zerolinecolor": "rgb(36,36,36)"
           },
           "zaxis": {
            "backgroundcolor": "white",
            "gridcolor": "rgb(232,232,232)",
            "gridwidth": 2,
            "linecolor": "rgb(36,36,36)",
            "showbackground": true,
            "showgrid": false,
            "showline": true,
            "ticks": "outside",
            "zeroline": false,
            "zerolinecolor": "rgb(36,36,36)"
           }
          },
          "shapedefaults": {
           "fillcolor": "black",
           "line": {
            "width": 0
           },
           "opacity": 0.3
          },
          "ternary": {
           "aaxis": {
            "gridcolor": "rgb(232,232,232)",
            "linecolor": "rgb(36,36,36)",
            "showgrid": false,
            "showline": true,
            "ticks": "outside"
           },
           "baxis": {
            "gridcolor": "rgb(232,232,232)",
            "linecolor": "rgb(36,36,36)",
            "showgrid": false,
            "showline": true,
            "ticks": "outside"
           },
           "bgcolor": "white",
           "caxis": {
            "gridcolor": "rgb(232,232,232)",
            "linecolor": "rgb(36,36,36)",
            "showgrid": false,
            "showline": true,
            "ticks": "outside"
           }
          },
          "title": {
           "x": 0.05
          },
          "xaxis": {
           "automargin": true,
           "gridcolor": "rgb(232,232,232)",
           "linecolor": "rgb(36,36,36)",
           "showgrid": false,
           "showline": true,
           "ticks": "outside",
           "title": {
            "standoff": 15
           },
           "zeroline": false,
           "zerolinecolor": "rgb(36,36,36)"
          },
          "yaxis": {
           "automargin": true,
           "gridcolor": "rgb(232,232,232)",
           "linecolor": "rgb(36,36,36)",
           "showgrid": false,
           "showline": true,
           "ticks": "outside",
           "title": {
            "standoff": 15
           },
           "zeroline": false,
           "zerolinecolor": "rgb(36,36,36)"
          }
         }
        },
        "title": {
         "text": "Top 10 locations matching your search (lag of 3 years)"
        },
        "xaxis": {
         "title": {
          "text": "Year"
         }
        },
        "yaxis": {
         "title": {
          "text": "gdp"
         }
        }
       }
      }
     },
     "metadata": {},
     "output_type": "display_data"
    }
   ],
   "source": [
    "# if you want the full dataframe with distances, \n",
    "# you still can get this\n",
    "# it's just boring to print it all over again\n",
    "#f.find_euclidean_kins()\n",
    "#display(f.euclidean_kins)\n",
    "\n",
    "# or, you can plot the few top ranked cities:\n",
    "fig = f.show_kins_plot()"
   ]
  },
  {
   "cell_type": "code",
   "execution_count": 6,
   "metadata": {},
   "outputs": [
    {
     "name": "stderr",
     "output_type": "stream",
     "text": [
      "/home/rafal/L2projects/cities/cities/queries/fips_query.py:339: SettingWithCopyWarning:\n",
      "\n",
      "\n",
      "A value is trying to be set on a copy of a slice from a DataFrame.\n",
      "Try using .loc[row_indexer,col_indexer] = value instead\n",
      "\n",
      "See the caveats in the documentation: https://pandas.pydata.org/pandas-docs/stable/user_guide/indexing.html#returning-a-view-versus-a-copy\n",
      "\n",
      "/home/rafal/L2projects/cities/cities/queries/fips_query.py:345: SettingWithCopyWarning:\n",
      "\n",
      "\n",
      "A value is trying to be set on a copy of a slice from a DataFrame\n",
      "\n",
      "See the caveats in the documentation: https://pandas.pydata.org/pandas-docs/stable/user_guide/indexing.html#returning-a-view-versus-a-copy\n",
      "\n",
      "/home/rafal/L2projects/cities/cities/queries/fips_query.py:348: SettingWithCopyWarning:\n",
      "\n",
      "\n",
      "A value is trying to be set on a copy of a slice from a DataFrame\n",
      "\n",
      "See the caveats in the documentation: https://pandas.pydata.org/pandas-docs/stable/user_guide/indexing.html#returning-a-view-versus-a-copy\n",
      "\n"
     ]
    },
    {
     "data": {
      "application/vnd.plotly.v1+json": {
       "config": {
        "plotlyServerURL": "https://plot.ly"
       },
       "data": [
        {
         "type": "bar",
         "x": [
          "1993_population",
          "1994_population",
          "1995_population",
          "1996_population",
          "1997_population",
          "1998_population",
          "1999_population",
          "2000_population",
          "2001_population",
          "2002_population",
          "2003_population",
          "2004_population",
          "2005_population",
          "2006_population",
          "2007_population",
          "2008_population",
          "2009_population",
          "2010_population",
          "2011_population",
          "2012_population",
          "2013_population",
          "2014_population",
          "2015_population",
          "2016_population",
          "2017_population",
          "2018_population",
          "2019_population",
          "2020_population",
          "2021_population"
         ],
         "y": [
          0.03847414014225456,
          0.04155207135363493,
          0.04487623706192573,
          0.04846633602687978,
          0.05234364290903017,
          0.056531134341752595,
          0.0610536250890928,
          0.06593791509622024,
          0.07121294830391786,
          0.07690998416823129,
          0.08306278290168981,
          0.08970780553382499,
          0.09688442997653099,
          0.10463518437465348,
          0.11300599912462576,
          0.12204647905459583,
          0.13181019737896352,
          0.14235501316928062,
          0.15374341422282306,
          0.1660428873606489,
          0.17932631834950083,
          0.19367242381746091,
          0.20916621772285782,
          0.22589951514068643,
          0.24397147635194139,
          0.2634891944600967,
          0.28456833001690446,
          0.30733379641825687,
          0.3319205001317174
         ]
        }
       ],
       "layout": {
        "template": {
         "data": {
          "bar": [
           {
            "error_x": {
             "color": "#2a3f5f"
            },
            "error_y": {
             "color": "#2a3f5f"
            },
            "marker": {
             "line": {
              "color": "white",
              "width": 0.5
             },
             "pattern": {
              "fillmode": "overlay",
              "size": 10,
              "solidity": 0.2
             }
            },
            "type": "bar"
           }
          ],
          "barpolar": [
           {
            "marker": {
             "line": {
              "color": "white",
              "width": 0.5
             },
             "pattern": {
              "fillmode": "overlay",
              "size": 10,
              "solidity": 0.2
             }
            },
            "type": "barpolar"
           }
          ],
          "carpet": [
           {
            "aaxis": {
             "endlinecolor": "#2a3f5f",
             "gridcolor": "#C8D4E3",
             "linecolor": "#C8D4E3",
             "minorgridcolor": "#C8D4E3",
             "startlinecolor": "#2a3f5f"
            },
            "baxis": {
             "endlinecolor": "#2a3f5f",
             "gridcolor": "#C8D4E3",
             "linecolor": "#C8D4E3",
             "minorgridcolor": "#C8D4E3",
             "startlinecolor": "#2a3f5f"
            },
            "type": "carpet"
           }
          ],
          "choropleth": [
           {
            "colorbar": {
             "outlinewidth": 0,
             "ticks": ""
            },
            "type": "choropleth"
           }
          ],
          "contour": [
           {
            "colorbar": {
             "outlinewidth": 0,
             "ticks": ""
            },
            "colorscale": [
             [
              0,
              "#0d0887"
             ],
             [
              0.1111111111111111,
              "#46039f"
             ],
             [
              0.2222222222222222,
              "#7201a8"
             ],
             [
              0.3333333333333333,
              "#9c179e"
             ],
             [
              0.4444444444444444,
              "#bd3786"
             ],
             [
              0.5555555555555556,
              "#d8576b"
             ],
             [
              0.6666666666666666,
              "#ed7953"
             ],
             [
              0.7777777777777778,
              "#fb9f3a"
             ],
             [
              0.8888888888888888,
              "#fdca26"
             ],
             [
              1,
              "#f0f921"
             ]
            ],
            "type": "contour"
           }
          ],
          "contourcarpet": [
           {
            "colorbar": {
             "outlinewidth": 0,
             "ticks": ""
            },
            "type": "contourcarpet"
           }
          ],
          "heatmap": [
           {
            "colorbar": {
             "outlinewidth": 0,
             "ticks": ""
            },
            "colorscale": [
             [
              0,
              "#0d0887"
             ],
             [
              0.1111111111111111,
              "#46039f"
             ],
             [
              0.2222222222222222,
              "#7201a8"
             ],
             [
              0.3333333333333333,
              "#9c179e"
             ],
             [
              0.4444444444444444,
              "#bd3786"
             ],
             [
              0.5555555555555556,
              "#d8576b"
             ],
             [
              0.6666666666666666,
              "#ed7953"
             ],
             [
              0.7777777777777778,
              "#fb9f3a"
             ],
             [
              0.8888888888888888,
              "#fdca26"
             ],
             [
              1,
              "#f0f921"
             ]
            ],
            "type": "heatmap"
           }
          ],
          "heatmapgl": [
           {
            "colorbar": {
             "outlinewidth": 0,
             "ticks": ""
            },
            "colorscale": [
             [
              0,
              "#0d0887"
             ],
             [
              0.1111111111111111,
              "#46039f"
             ],
             [
              0.2222222222222222,
              "#7201a8"
             ],
             [
              0.3333333333333333,
              "#9c179e"
             ],
             [
              0.4444444444444444,
              "#bd3786"
             ],
             [
              0.5555555555555556,
              "#d8576b"
             ],
             [
              0.6666666666666666,
              "#ed7953"
             ],
             [
              0.7777777777777778,
              "#fb9f3a"
             ],
             [
              0.8888888888888888,
              "#fdca26"
             ],
             [
              1,
              "#f0f921"
             ]
            ],
            "type": "heatmapgl"
           }
          ],
          "histogram": [
           {
            "marker": {
             "pattern": {
              "fillmode": "overlay",
              "size": 10,
              "solidity": 0.2
             }
            },
            "type": "histogram"
           }
          ],
          "histogram2d": [
           {
            "colorbar": {
             "outlinewidth": 0,
             "ticks": ""
            },
            "colorscale": [
             [
              0,
              "#0d0887"
             ],
             [
              0.1111111111111111,
              "#46039f"
             ],
             [
              0.2222222222222222,
              "#7201a8"
             ],
             [
              0.3333333333333333,
              "#9c179e"
             ],
             [
              0.4444444444444444,
              "#bd3786"
             ],
             [
              0.5555555555555556,
              "#d8576b"
             ],
             [
              0.6666666666666666,
              "#ed7953"
             ],
             [
              0.7777777777777778,
              "#fb9f3a"
             ],
             [
              0.8888888888888888,
              "#fdca26"
             ],
             [
              1,
              "#f0f921"
             ]
            ],
            "type": "histogram2d"
           }
          ],
          "histogram2dcontour": [
           {
            "colorbar": {
             "outlinewidth": 0,
             "ticks": ""
            },
            "colorscale": [
             [
              0,
              "#0d0887"
             ],
             [
              0.1111111111111111,
              "#46039f"
             ],
             [
              0.2222222222222222,
              "#7201a8"
             ],
             [
              0.3333333333333333,
              "#9c179e"
             ],
             [
              0.4444444444444444,
              "#bd3786"
             ],
             [
              0.5555555555555556,
              "#d8576b"
             ],
             [
              0.6666666666666666,
              "#ed7953"
             ],
             [
              0.7777777777777778,
              "#fb9f3a"
             ],
             [
              0.8888888888888888,
              "#fdca26"
             ],
             [
              1,
              "#f0f921"
             ]
            ],
            "type": "histogram2dcontour"
           }
          ],
          "mesh3d": [
           {
            "colorbar": {
             "outlinewidth": 0,
             "ticks": ""
            },
            "type": "mesh3d"
           }
          ],
          "parcoords": [
           {
            "line": {
             "colorbar": {
              "outlinewidth": 0,
              "ticks": ""
             }
            },
            "type": "parcoords"
           }
          ],
          "pie": [
           {
            "automargin": true,
            "type": "pie"
           }
          ],
          "scatter": [
           {
            "fillpattern": {
             "fillmode": "overlay",
             "size": 10,
             "solidity": 0.2
            },
            "type": "scatter"
           }
          ],
          "scatter3d": [
           {
            "line": {
             "colorbar": {
              "outlinewidth": 0,
              "ticks": ""
             }
            },
            "marker": {
             "colorbar": {
              "outlinewidth": 0,
              "ticks": ""
             }
            },
            "type": "scatter3d"
           }
          ],
          "scattercarpet": [
           {
            "marker": {
             "colorbar": {
              "outlinewidth": 0,
              "ticks": ""
             }
            },
            "type": "scattercarpet"
           }
          ],
          "scattergeo": [
           {
            "marker": {
             "colorbar": {
              "outlinewidth": 0,
              "ticks": ""
             }
            },
            "type": "scattergeo"
           }
          ],
          "scattergl": [
           {
            "marker": {
             "colorbar": {
              "outlinewidth": 0,
              "ticks": ""
             }
            },
            "type": "scattergl"
           }
          ],
          "scattermapbox": [
           {
            "marker": {
             "colorbar": {
              "outlinewidth": 0,
              "ticks": ""
             }
            },
            "type": "scattermapbox"
           }
          ],
          "scatterpolar": [
           {
            "marker": {
             "colorbar": {
              "outlinewidth": 0,
              "ticks": ""
             }
            },
            "type": "scatterpolar"
           }
          ],
          "scatterpolargl": [
           {
            "marker": {
             "colorbar": {
              "outlinewidth": 0,
              "ticks": ""
             }
            },
            "type": "scatterpolargl"
           }
          ],
          "scatterternary": [
           {
            "marker": {
             "colorbar": {
              "outlinewidth": 0,
              "ticks": ""
             }
            },
            "type": "scatterternary"
           }
          ],
          "surface": [
           {
            "colorbar": {
             "outlinewidth": 0,
             "ticks": ""
            },
            "colorscale": [
             [
              0,
              "#0d0887"
             ],
             [
              0.1111111111111111,
              "#46039f"
             ],
             [
              0.2222222222222222,
              "#7201a8"
             ],
             [
              0.3333333333333333,
              "#9c179e"
             ],
             [
              0.4444444444444444,
              "#bd3786"
             ],
             [
              0.5555555555555556,
              "#d8576b"
             ],
             [
              0.6666666666666666,
              "#ed7953"
             ],
             [
              0.7777777777777778,
              "#fb9f3a"
             ],
             [
              0.8888888888888888,
              "#fdca26"
             ],
             [
              1,
              "#f0f921"
             ]
            ],
            "type": "surface"
           }
          ],
          "table": [
           {
            "cells": {
             "fill": {
              "color": "#EBF0F8"
             },
             "line": {
              "color": "white"
             }
            },
            "header": {
             "fill": {
              "color": "#C8D4E3"
             },
             "line": {
              "color": "white"
             }
            },
            "type": "table"
           }
          ]
         },
         "layout": {
          "annotationdefaults": {
           "arrowcolor": "#2a3f5f",
           "arrowhead": 0,
           "arrowwidth": 1
          },
          "autotypenumbers": "strict",
          "coloraxis": {
           "colorbar": {
            "outlinewidth": 0,
            "ticks": ""
           }
          },
          "colorscale": {
           "diverging": [
            [
             0,
             "#8e0152"
            ],
            [
             0.1,
             "#c51b7d"
            ],
            [
             0.2,
             "#de77ae"
            ],
            [
             0.3,
             "#f1b6da"
            ],
            [
             0.4,
             "#fde0ef"
            ],
            [
             0.5,
             "#f7f7f7"
            ],
            [
             0.6,
             "#e6f5d0"
            ],
            [
             0.7,
             "#b8e186"
            ],
            [
             0.8,
             "#7fbc41"
            ],
            [
             0.9,
             "#4d9221"
            ],
            [
             1,
             "#276419"
            ]
           ],
           "sequential": [
            [
             0,
             "#0d0887"
            ],
            [
             0.1111111111111111,
             "#46039f"
            ],
            [
             0.2222222222222222,
             "#7201a8"
            ],
            [
             0.3333333333333333,
             "#9c179e"
            ],
            [
             0.4444444444444444,
             "#bd3786"
            ],
            [
             0.5555555555555556,
             "#d8576b"
            ],
            [
             0.6666666666666666,
             "#ed7953"
            ],
            [
             0.7777777777777778,
             "#fb9f3a"
            ],
            [
             0.8888888888888888,
             "#fdca26"
            ],
            [
             1,
             "#f0f921"
            ]
           ],
           "sequentialminus": [
            [
             0,
             "#0d0887"
            ],
            [
             0.1111111111111111,
             "#46039f"
            ],
            [
             0.2222222222222222,
             "#7201a8"
            ],
            [
             0.3333333333333333,
             "#9c179e"
            ],
            [
             0.4444444444444444,
             "#bd3786"
            ],
            [
             0.5555555555555556,
             "#d8576b"
            ],
            [
             0.6666666666666666,
             "#ed7953"
            ],
            [
             0.7777777777777778,
             "#fb9f3a"
            ],
            [
             0.8888888888888888,
             "#fdca26"
            ],
            [
             1,
             "#f0f921"
            ]
           ]
          },
          "colorway": [
           "#636efa",
           "#EF553B",
           "#00cc96",
           "#ab63fa",
           "#FFA15A",
           "#19d3f3",
           "#FF6692",
           "#B6E880",
           "#FF97FF",
           "#FECB52"
          ],
          "font": {
           "color": "#2a3f5f"
          },
          "geo": {
           "bgcolor": "white",
           "lakecolor": "white",
           "landcolor": "white",
           "showlakes": true,
           "showland": true,
           "subunitcolor": "#C8D4E3"
          },
          "hoverlabel": {
           "align": "left"
          },
          "hovermode": "closest",
          "mapbox": {
           "style": "light"
          },
          "paper_bgcolor": "white",
          "plot_bgcolor": "white",
          "polar": {
           "angularaxis": {
            "gridcolor": "#EBF0F8",
            "linecolor": "#EBF0F8",
            "ticks": ""
           },
           "bgcolor": "white",
           "radialaxis": {
            "gridcolor": "#EBF0F8",
            "linecolor": "#EBF0F8",
            "ticks": ""
           }
          },
          "scene": {
           "xaxis": {
            "backgroundcolor": "white",
            "gridcolor": "#DFE8F3",
            "gridwidth": 2,
            "linecolor": "#EBF0F8",
            "showbackground": true,
            "ticks": "",
            "zerolinecolor": "#EBF0F8"
           },
           "yaxis": {
            "backgroundcolor": "white",
            "gridcolor": "#DFE8F3",
            "gridwidth": 2,
            "linecolor": "#EBF0F8",
            "showbackground": true,
            "ticks": "",
            "zerolinecolor": "#EBF0F8"
           },
           "zaxis": {
            "backgroundcolor": "white",
            "gridcolor": "#DFE8F3",
            "gridwidth": 2,
            "linecolor": "#EBF0F8",
            "showbackground": true,
            "ticks": "",
            "zerolinecolor": "#EBF0F8"
           }
          },
          "shapedefaults": {
           "line": {
            "color": "#2a3f5f"
           }
          },
          "ternary": {
           "aaxis": {
            "gridcolor": "#DFE8F3",
            "linecolor": "#A2B1C6",
            "ticks": ""
           },
           "baxis": {
            "gridcolor": "#DFE8F3",
            "linecolor": "#A2B1C6",
            "ticks": ""
           },
           "bgcolor": "white",
           "caxis": {
            "gridcolor": "#DFE8F3",
            "linecolor": "#A2B1C6",
            "ticks": ""
           }
          },
          "title": {
           "x": 0.05
          },
          "xaxis": {
           "automargin": true,
           "gridcolor": "#EBF0F8",
           "linecolor": "#EBF0F8",
           "ticks": "",
           "title": {
            "standoff": 15
           },
           "zerolinecolor": "#EBF0F8",
           "zerolinewidth": 2
          },
          "yaxis": {
           "automargin": true,
           "gridcolor": "#EBF0F8",
           "linecolor": "#EBF0F8",
           "ticks": "",
           "title": {
            "standoff": 15
           },
           "zerolinecolor": "#EBF0F8",
           "zerolinewidth": 2
          }
         }
        },
        "title": {
         "text": "Weights of columns"
        },
        "xaxis": {
         "title": {
          "text": "columns"
         }
        },
        "yaxis": {
         "title": {
          "text": "weights"
         }
        }
       }
      }
     },
     "metadata": {},
     "output_type": "display_data"
    },
    {
     "data": {
      "text/plain": [
       "None"
      ]
     },
     "metadata": {},
     "output_type": "display_data"
    },
    {
     "data": {
      "text/html": [
       "<div>\n",
       "<style scoped>\n",
       "    .dataframe tbody tr th:only-of-type {\n",
       "        vertical-align: middle;\n",
       "    }\n",
       "\n",
       "    .dataframe tbody tr th {\n",
       "        vertical-align: top;\n",
       "    }\n",
       "\n",
       "    .dataframe thead th {\n",
       "        text-align: right;\n",
       "    }\n",
       "</style>\n",
       "<table border=\"1\" class=\"dataframe\">\n",
       "  <thead>\n",
       "    <tr style=\"text-align: right;\">\n",
       "      <th></th>\n",
       "      <th>GeoFIPS</th>\n",
       "      <th>GeoName</th>\n",
       "      <th>1993_population</th>\n",
       "      <th>1994_population</th>\n",
       "      <th>1995_population</th>\n",
       "      <th>1996_population</th>\n",
       "      <th>1997_population</th>\n",
       "      <th>1998_population</th>\n",
       "      <th>1999_population</th>\n",
       "      <th>2000_population</th>\n",
       "      <th>...</th>\n",
       "      <th>2013_population</th>\n",
       "      <th>2014_population</th>\n",
       "      <th>2015_population</th>\n",
       "      <th>2016_population</th>\n",
       "      <th>2017_population</th>\n",
       "      <th>2018_population</th>\n",
       "      <th>2019_population</th>\n",
       "      <th>2020_population</th>\n",
       "      <th>2021_population</th>\n",
       "      <th>distance to 42001</th>\n",
       "    </tr>\n",
       "  </thead>\n",
       "  <tbody>\n",
       "    <tr>\n",
       "      <th>2235</th>\n",
       "      <td>42001</td>\n",
       "      <td>Adams, PA</td>\n",
       "      <td>83013.0</td>\n",
       "      <td>84186.0</td>\n",
       "      <td>85063.0</td>\n",
       "      <td>86252.0</td>\n",
       "      <td>87751.0</td>\n",
       "      <td>89074.0</td>\n",
       "      <td>90363.0</td>\n",
       "      <td>91457.0</td>\n",
       "      <td>...</td>\n",
       "      <td>101504.0</td>\n",
       "      <td>101830.0</td>\n",
       "      <td>102411.0</td>\n",
       "      <td>102625.0</td>\n",
       "      <td>103414.0</td>\n",
       "      <td>103932.0</td>\n",
       "      <td>103778.0</td>\n",
       "      <td>103795.0</td>\n",
       "      <td>104127.0</td>\n",
       "      <td>NaN</td>\n",
       "    </tr>\n",
       "    <tr>\n",
       "      <th>distance to 42001</th>\n",
       "      <td>0</td>\n",
       "      <td>0</td>\n",
       "      <td>0.0</td>\n",
       "      <td>0.0</td>\n",
       "      <td>0.0</td>\n",
       "      <td>0.0</td>\n",
       "      <td>0.0</td>\n",
       "      <td>0.0</td>\n",
       "      <td>0.0</td>\n",
       "      <td>0.0</td>\n",
       "      <td>...</td>\n",
       "      <td>0.0</td>\n",
       "      <td>0.0</td>\n",
       "      <td>0.0</td>\n",
       "      <td>0.0</td>\n",
       "      <td>0.0</td>\n",
       "      <td>0.0</td>\n",
       "      <td>0.0</td>\n",
       "      <td>0.0</td>\n",
       "      <td>0.0</td>\n",
       "      <td>NaN</td>\n",
       "    </tr>\n",
       "    <tr>\n",
       "      <th>3006</th>\n",
       "      <td>55039</td>\n",
       "      <td>Fond du Lac, WI</td>\n",
       "      <td>92876.0</td>\n",
       "      <td>93717.0</td>\n",
       "      <td>94509.0</td>\n",
       "      <td>95529.0</td>\n",
       "      <td>95998.0</td>\n",
       "      <td>96512.0</td>\n",
       "      <td>96985.0</td>\n",
       "      <td>97390.0</td>\n",
       "      <td>...</td>\n",
       "      <td>102191.0</td>\n",
       "      <td>102495.0</td>\n",
       "      <td>102590.0</td>\n",
       "      <td>102927.0</td>\n",
       "      <td>103180.0</td>\n",
       "      <td>103754.0</td>\n",
       "      <td>104175.0</td>\n",
       "      <td>104076.0</td>\n",
       "      <td>104362.0</td>\n",
       "      <td>0.004093</td>\n",
       "    </tr>\n",
       "    <tr>\n",
       "      <th>1509</th>\n",
       "      <td>29071</td>\n",
       "      <td>Franklin, MO</td>\n",
       "      <td>84234.0</td>\n",
       "      <td>85586.0</td>\n",
       "      <td>87584.0</td>\n",
       "      <td>89357.0</td>\n",
       "      <td>90710.0</td>\n",
       "      <td>91697.0</td>\n",
       "      <td>92914.0</td>\n",
       "      <td>94050.0</td>\n",
       "      <td>...</td>\n",
       "      <td>101823.0</td>\n",
       "      <td>102058.0</td>\n",
       "      <td>102429.0</td>\n",
       "      <td>102952.0</td>\n",
       "      <td>103563.0</td>\n",
       "      <td>103967.0</td>\n",
       "      <td>104137.0</td>\n",
       "      <td>104769.0</td>\n",
       "      <td>105231.0</td>\n",
       "      <td>0.008424</td>\n",
       "    </tr>\n",
       "    <tr>\n",
       "      <th>27</th>\n",
       "      <td>1055</td>\n",
       "      <td>Etowah, AL</td>\n",
       "      <td>101310.0</td>\n",
       "      <td>102213.0</td>\n",
       "      <td>102342.0</td>\n",
       "      <td>103063.0</td>\n",
       "      <td>104129.0</td>\n",
       "      <td>104367.0</td>\n",
       "      <td>104002.0</td>\n",
       "      <td>103286.0</td>\n",
       "      <td>...</td>\n",
       "      <td>104249.0</td>\n",
       "      <td>103880.0</td>\n",
       "      <td>103601.0</td>\n",
       "      <td>103603.0</td>\n",
       "      <td>103854.0</td>\n",
       "      <td>103646.0</td>\n",
       "      <td>103440.0</td>\n",
       "      <td>103393.0</td>\n",
       "      <td>103162.0</td>\n",
       "      <td>0.008731</td>\n",
       "    </tr>\n",
       "    <tr>\n",
       "      <th>...</th>\n",
       "      <td>...</td>\n",
       "      <td>...</td>\n",
       "      <td>...</td>\n",
       "      <td>...</td>\n",
       "      <td>...</td>\n",
       "      <td>...</td>\n",
       "      <td>...</td>\n",
       "      <td>...</td>\n",
       "      <td>...</td>\n",
       "      <td>...</td>\n",
       "      <td>...</td>\n",
       "      <td>...</td>\n",
       "      <td>...</td>\n",
       "      <td>...</td>\n",
       "      <td>...</td>\n",
       "      <td>...</td>\n",
       "      <td>...</td>\n",
       "      <td>...</td>\n",
       "      <td>...</td>\n",
       "      <td>...</td>\n",
       "      <td>...</td>\n",
       "    </tr>\n",
       "    <tr>\n",
       "      <th>1647</th>\n",
       "      <td>31005</td>\n",
       "      <td>Arthur, NE</td>\n",
       "      <td>472.0</td>\n",
       "      <td>441.0</td>\n",
       "      <td>434.0</td>\n",
       "      <td>429.0</td>\n",
       "      <td>440.0</td>\n",
       "      <td>447.0</td>\n",
       "      <td>445.0</td>\n",
       "      <td>445.0</td>\n",
       "      <td>...</td>\n",
       "      <td>443.0</td>\n",
       "      <td>437.0</td>\n",
       "      <td>433.0</td>\n",
       "      <td>445.0</td>\n",
       "      <td>432.0</td>\n",
       "      <td>435.0</td>\n",
       "      <td>436.0</td>\n",
       "      <td>431.0</td>\n",
       "      <td>439.0</td>\n",
       "      <td>1.977809</td>\n",
       "    </tr>\n",
       "    <tr>\n",
       "      <th>2644</th>\n",
       "      <td>48261</td>\n",
       "      <td>Kenedy, TX</td>\n",
       "      <td>428.0</td>\n",
       "      <td>413.0</td>\n",
       "      <td>420.0</td>\n",
       "      <td>415.0</td>\n",
       "      <td>411.0</td>\n",
       "      <td>427.0</td>\n",
       "      <td>412.0</td>\n",
       "      <td>420.0</td>\n",
       "      <td>...</td>\n",
       "      <td>426.0</td>\n",
       "      <td>421.0</td>\n",
       "      <td>421.0</td>\n",
       "      <td>404.0</td>\n",
       "      <td>383.0</td>\n",
       "      <td>389.0</td>\n",
       "      <td>355.0</td>\n",
       "      <td>346.0</td>\n",
       "      <td>340.0</td>\n",
       "      <td>1.978614</td>\n",
       "    </tr>\n",
       "    <tr>\n",
       "      <th>2648</th>\n",
       "      <td>48269</td>\n",
       "      <td>King, TX</td>\n",
       "      <td>342.0</td>\n",
       "      <td>363.0</td>\n",
       "      <td>335.0</td>\n",
       "      <td>358.0</td>\n",
       "      <td>373.0</td>\n",
       "      <td>389.0</td>\n",
       "      <td>346.0</td>\n",
       "      <td>358.0</td>\n",
       "      <td>...</td>\n",
       "      <td>268.0</td>\n",
       "      <td>257.0</td>\n",
       "      <td>273.0</td>\n",
       "      <td>281.0</td>\n",
       "      <td>278.0</td>\n",
       "      <td>265.0</td>\n",
       "      <td>256.0</td>\n",
       "      <td>270.0</td>\n",
       "      <td>258.0</td>\n",
       "      <td>1.980969</td>\n",
       "    </tr>\n",
       "    <tr>\n",
       "      <th>2664</th>\n",
       "      <td>48301</td>\n",
       "      <td>Loving, TX</td>\n",
       "      <td>109.0</td>\n",
       "      <td>114.0</td>\n",
       "      <td>111.0</td>\n",
       "      <td>109.0</td>\n",
       "      <td>78.0</td>\n",
       "      <td>83.0</td>\n",
       "      <td>77.0</td>\n",
       "      <td>65.0</td>\n",
       "      <td>...</td>\n",
       "      <td>77.0</td>\n",
       "      <td>59.0</td>\n",
       "      <td>72.0</td>\n",
       "      <td>64.0</td>\n",
       "      <td>66.0</td>\n",
       "      <td>67.0</td>\n",
       "      <td>67.0</td>\n",
       "      <td>67.0</td>\n",
       "      <td>57.0</td>\n",
       "      <td>1.985240</td>\n",
       "    </tr>\n",
       "    <tr>\n",
       "      <th>198</th>\n",
       "      <td>6037</td>\n",
       "      <td>Los Angeles, CA</td>\n",
       "      <td>9100159.0</td>\n",
       "      <td>9096608.0</td>\n",
       "      <td>9089015.0</td>\n",
       "      <td>9127042.0</td>\n",
       "      <td>9206538.0</td>\n",
       "      <td>9313589.0</td>\n",
       "      <td>9437290.0</td>\n",
       "      <td>9538191.0</td>\n",
       "      <td>...</td>\n",
       "      <td>10000924.0</td>\n",
       "      <td>10051511.0</td>\n",
       "      <td>10099677.0</td>\n",
       "      <td>10121673.0</td>\n",
       "      <td>10123521.0</td>\n",
       "      <td>10096986.0</td>\n",
       "      <td>10051154.0</td>\n",
       "      <td>9989165.0</td>\n",
       "      <td>9829544.0</td>\n",
       "      <td>2.014902</td>\n",
       "    </tr>\n",
       "  </tbody>\n",
       "</table>\n",
       "<p>3083 rows × 32 columns</p>\n",
       "</div>"
      ],
      "text/plain": [
       "                   GeoFIPS          GeoName  1993_population  1994_population  \\\n",
       "2235                 42001        Adams, PA          83013.0          84186.0   \n",
       "distance to 42001        0                0              0.0              0.0   \n",
       "3006                 55039  Fond du Lac, WI          92876.0          93717.0   \n",
       "1509                 29071     Franklin, MO          84234.0          85586.0   \n",
       "27                    1055       Etowah, AL         101310.0         102213.0   \n",
       "...                    ...              ...              ...              ...   \n",
       "1647                 31005       Arthur, NE            472.0            441.0   \n",
       "2644                 48261       Kenedy, TX            428.0            413.0   \n",
       "2648                 48269         King, TX            342.0            363.0   \n",
       "2664                 48301       Loving, TX            109.0            114.0   \n",
       "198                   6037  Los Angeles, CA        9100159.0        9096608.0   \n",
       "\n",
       "                   1995_population  1996_population  1997_population  \\\n",
       "2235                       85063.0          86252.0          87751.0   \n",
       "distance to 42001              0.0              0.0              0.0   \n",
       "3006                       94509.0          95529.0          95998.0   \n",
       "1509                       87584.0          89357.0          90710.0   \n",
       "27                        102342.0         103063.0         104129.0   \n",
       "...                            ...              ...              ...   \n",
       "1647                         434.0            429.0            440.0   \n",
       "2644                         420.0            415.0            411.0   \n",
       "2648                         335.0            358.0            373.0   \n",
       "2664                         111.0            109.0             78.0   \n",
       "198                      9089015.0        9127042.0        9206538.0   \n",
       "\n",
       "                   1998_population  1999_population  2000_population  ...  \\\n",
       "2235                       89074.0          90363.0          91457.0  ...   \n",
       "distance to 42001              0.0              0.0              0.0  ...   \n",
       "3006                       96512.0          96985.0          97390.0  ...   \n",
       "1509                       91697.0          92914.0          94050.0  ...   \n",
       "27                        104367.0         104002.0         103286.0  ...   \n",
       "...                            ...              ...              ...  ...   \n",
       "1647                         447.0            445.0            445.0  ...   \n",
       "2644                         427.0            412.0            420.0  ...   \n",
       "2648                         389.0            346.0            358.0  ...   \n",
       "2664                          83.0             77.0             65.0  ...   \n",
       "198                      9313589.0        9437290.0        9538191.0  ...   \n",
       "\n",
       "                   2013_population  2014_population  2015_population  \\\n",
       "2235                      101504.0         101830.0         102411.0   \n",
       "distance to 42001              0.0              0.0              0.0   \n",
       "3006                      102191.0         102495.0         102590.0   \n",
       "1509                      101823.0         102058.0         102429.0   \n",
       "27                        104249.0         103880.0         103601.0   \n",
       "...                            ...              ...              ...   \n",
       "1647                         443.0            437.0            433.0   \n",
       "2644                         426.0            421.0            421.0   \n",
       "2648                         268.0            257.0            273.0   \n",
       "2664                          77.0             59.0             72.0   \n",
       "198                     10000924.0       10051511.0       10099677.0   \n",
       "\n",
       "                   2016_population  2017_population  2018_population  \\\n",
       "2235                      102625.0         103414.0         103932.0   \n",
       "distance to 42001              0.0              0.0              0.0   \n",
       "3006                      102927.0         103180.0         103754.0   \n",
       "1509                      102952.0         103563.0         103967.0   \n",
       "27                        103603.0         103854.0         103646.0   \n",
       "...                            ...              ...              ...   \n",
       "1647                         445.0            432.0            435.0   \n",
       "2644                         404.0            383.0            389.0   \n",
       "2648                         281.0            278.0            265.0   \n",
       "2664                          64.0             66.0             67.0   \n",
       "198                     10121673.0       10123521.0       10096986.0   \n",
       "\n",
       "                   2019_population  2020_population  2021_population  \\\n",
       "2235                      103778.0         103795.0         104127.0   \n",
       "distance to 42001              0.0              0.0              0.0   \n",
       "3006                      104175.0         104076.0         104362.0   \n",
       "1509                      104137.0         104769.0         105231.0   \n",
       "27                        103440.0         103393.0         103162.0   \n",
       "...                            ...              ...              ...   \n",
       "1647                         436.0            431.0            439.0   \n",
       "2644                         355.0            346.0            340.0   \n",
       "2648                         256.0            270.0            258.0   \n",
       "2664                          67.0             67.0             57.0   \n",
       "198                     10051154.0        9989165.0        9829544.0   \n",
       "\n",
       "                   distance to 42001  \n",
       "2235                             NaN  \n",
       "distance to 42001                NaN  \n",
       "3006                        0.004093  \n",
       "1509                        0.008424  \n",
       "27                          0.008731  \n",
       "...                              ...  \n",
       "1647                        1.977809  \n",
       "2644                        1.978614  \n",
       "2648                        1.980969  \n",
       "2664                        1.985240  \n",
       "198                         2.014902  \n",
       "\n",
       "[3083 rows x 32 columns]"
      ]
     },
     "metadata": {},
     "output_type": "display_data"
    }
   ],
   "source": [
    "# You don't want to pass outcome and are interested in similarities\n",
    "\n",
    "f  = FipsQuery(42001, feature_groups_with_weights= {\"population\":4})\n",
    "f.find_euclidean_kins()\n",
    "display(f.plot_weights())\n",
    "display(f.euclidean_kins)"
   ]
  }
 ],
 "metadata": {
  "kernelspec": {
   "display_name": "chirho",
   "language": "python",
   "name": "python3"
  },
  "language_info": {
   "codemirror_mode": {
    "name": "ipython",
    "version": 3
   },
   "file_extension": ".py",
   "mimetype": "text/x-python",
   "name": "python",
   "nbconvert_exporter": "python",
   "pygments_lexer": "ipython3",
   "version": "3.10.9"
  },
  "orig_nbformat": 4
 },
 "nbformat": 4,
 "nbformat_minor": 2
}
