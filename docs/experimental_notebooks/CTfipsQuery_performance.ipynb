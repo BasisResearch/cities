{
 "cells": [
  {
   "cell_type": "code",
   "execution_count": 43,
   "metadata": {},
   "outputs": [],
   "source": [
    "import os\n",
    "\n",
    "from cities.queries.fips_query import CTFipsQuery\n",
    "from cities.utils.data_grabber import CTDataGrabberCSV, find_repo_root, list_available_features\n",
    "import time\n",
    "\n",
    "root = find_repo_root()"
   ]
  },
  {
   "cell_type": "markdown",
   "metadata": {},
   "source": [
    "#### Defining the Functions Used for the Comparison\n",
    "\n",
    "The goal is to demonstrate that the size of the census tract level variables is responsible for the poor time performance of `CTFipsQuery`. To achieve this, we will compare the execution time of the `CTFipsQuery` function for the original size of the `population` census tract level variable, as well as for half and a quarter of its size.\n"
   ]
  },
  {
   "cell_type": "code",
   "execution_count": 44,
   "metadata": {},
   "outputs": [],
   "source": [
    "def save_first_half_of_population_data(data, feature_type, fraction, file_path, pre_or_post='pre_2020'):\n",
    "\n",
    "    if fraction not in [0.25, 0.5]:\n",
    "        raise ValueError(\"Fraction must be 0.25 or 0.5.\")\n",
    "\n",
    "    data = CTDataGrabberCSV(ct_time_period = pre_or_post)\n",
    "\n",
    "    if feature_type == 'std_wide':\n",
    "        data.get_features_std_wide(['population'])\n",
    "        pop = data.std_wide['population']\n",
    "    elif feature_type == 'wide':\n",
    "        data.get_features_wide(['population'])\n",
    "        pop = data.wide['population']\n",
    "    else:\n",
    "        raise ValueError(\"Invalid feature_type. Must be 'std_wide' or 'wide'.\")\n",
    "    \n",
    "    num_rows = len(pop)\n",
    "    num_to_save = int(num_rows * fraction)\n",
    "    \n",
    "    selected_data = pop.iloc[:num_to_save]\n",
    "\n",
    "    os.makedirs(os.path.dirname(file_path), exist_ok=True)\n",
    "\n",
    "    selected_data.to_csv(file_path, index=False)\n",
    "\n",
    "\n",
    "\n",
    "def delete_file(file_path):\n",
    "    if os.path.isfile(file_path):\n",
    "        os.remove(file_path)\n",
    "        print(f\"Deleted: {file_path}\")\n",
    "    else:\n",
    "        print(f\"File not found: {file_path}\")\n",
    "\n"
   ]
  },
  {
   "cell_type": "code",
   "execution_count": 45,
   "metadata": {},
   "outputs": [],
   "source": [
    "def measure_time(command):\n",
    "\n",
    "    start_time = time.time()\n",
    "    command()\n",
    "    end_time = time.time()\n",
    "    return end_time - start_time\n",
    "\n",
    "def run_query(fips, population_type, ct_time_period):\n",
    "\n",
    "    f = CTFipsQuery(\n",
    "        fips,\n",
    "        population_type,\n",
    "        ct_time_period= ct_time_period,\n",
    "    )\n",
    "    f.find_euclidean_kins()\n",
    "\n",
    "def main(fips, ct_time = \"pre_2020\"):\n",
    "\n",
    "    time_population = measure_time(lambda: run_query(fips, \"population\", ct_time))\n",
    "    time_population_half = measure_time(lambda: run_query(fips, \"populationHalf\", ct_time))\n",
    "    time_population_quarter = measure_time(lambda: run_query(fips, \"populationQuarter\", ct_time))\n",
    "\n",
    "    print(f\"Time for 'population': {time_population:.4f} seconds\")\n",
    "    print(f\"Time for 'populationHalf': {time_population_half:.4f} seconds\")\n",
    "    print(f\"Time for 'populationQuarter': {time_population_quarter:.4f} seconds\")"
   ]
  },
  {
   "cell_type": "markdown",
   "metadata": {},
   "source": [
    "The test for `pre_2020` population variable"
   ]
  },
  {
   "cell_type": "code",
   "execution_count": 48,
   "metadata": {},
   "outputs": [
    {
     "name": "stdout",
     "output_type": "stream",
     "text": [
      "Time for 'population': 8.6737 seconds\n",
      "Time for 'populationHalf': 2.7692 seconds\n",
      "Time for 'populationQuarter': 1.1141 seconds\n",
      "Deleted: C:\\Users\\nikod\\Documents\\PythonProjects\\cities/data/Census_tract_level/populationHalf_pre2020_CT_std_wide.csv\n",
      "Deleted: C:\\Users\\nikod\\Documents\\PythonProjects\\cities/data/Census_tract_level/populationHalf_pre2020_CT_wide.csv\n",
      "Deleted: C:\\Users\\nikod\\Documents\\PythonProjects\\cities/data/Census_tract_level/populationQuarter_pre2020_CT_std_wide.csv\n",
      "Deleted: C:\\Users\\nikod\\Documents\\PythonProjects\\cities/data/Census_tract_level/populationQuarter_pre2020_CT_wide.csv\n"
     ]
    }
   ],
   "source": [
    "# halfs\n",
    "\n",
    "std_wide_path = f\"{root}/data/Census_tract_level/populationHalf_pre2020_CT_std_wide.csv\"\n",
    "wide_path = f\"{root}/data/Census_tract_level/populationHalf_pre2020_CT_wide.csv\"\n",
    "\n",
    "save_first_half_of_population_data(data, 'std_wide', 0.5, std_wide_path, pre_or_post='pre_2020')\n",
    "save_first_half_of_population_data(data, 'wide', 0.5, wide_path, pre_or_post='pre_2020')\n",
    "\n",
    "# quarters\n",
    "\n",
    "std_wide_pathQ = f\"{root}/data/Census_tract_level/populationQuarter_pre2020_CT_std_wide.csv\"\n",
    "wide_pathQ = f\"{root}/data/Census_tract_level/populationQuarter_pre2020_CT_wide.csv\"\n",
    "\n",
    "save_first_half_of_population_data(data, 'std_wide', 0.25, std_wide_pathQ, pre_or_post='pre_2020')\n",
    "save_first_half_of_population_data(data, 'wide', 0.25, wide_pathQ, pre_or_post='pre_2020')\n",
    "\n",
    "# the test\n",
    "\n",
    "fips_number = 1003010705\n",
    "main(fips_number, \"pre_2020\")\n",
    "\n",
    "# deleting the files created for the comparison\n",
    "file_paths = [std_wide_path, wide_path, std_wide_pathQ, wide_pathQ]\n",
    "\n",
    "for file_path in file_paths:\n",
    "    delete_file(file_path)"
   ]
  },
  {
   "cell_type": "markdown",
   "metadata": {},
   "source": [
    "The test for `post_2020` population variable"
   ]
  },
  {
   "cell_type": "code",
   "execution_count": 47,
   "metadata": {},
   "outputs": [
    {
     "name": "stdout",
     "output_type": "stream",
     "text": [
      "Time for 'population': 10.5933 seconds\n",
      "Time for 'populationHalf': 3.1721 seconds\n",
      "Time for 'populationQuarter': 1.0914 seconds\n",
      "Deleted: C:\\Users\\nikod\\Documents\\PythonProjects\\cities/data/Census_tract_level/populationHalf_post2020_CT_std_wide.csv\n",
      "Deleted: C:\\Users\\nikod\\Documents\\PythonProjects\\cities/data/Census_tract_level/populationHalf_post2020_CT_wide.csv\n",
      "Deleted: C:\\Users\\nikod\\Documents\\PythonProjects\\cities/data/Census_tract_level/populationQuarter_post2020_CT_std_wide.csv\n",
      "Deleted: C:\\Users\\nikod\\Documents\\PythonProjects\\cities/data/Census_tract_level/populationQuarter_post2020_CT_wide.csv\n"
     ]
    }
   ],
   "source": [
    "# halfs\n",
    "\n",
    "std_wide_path = f\"{root}/data/Census_tract_level/populationHalf_post2020_CT_std_wide.csv\"\n",
    "wide_path = f\"{root}/data/Census_tract_level/populationHalf_post2020_CT_wide.csv\"\n",
    "\n",
    "save_first_half_of_population_data(data, 'std_wide', 0.5, std_wide_path, pre_or_post='post_2020')\n",
    "save_first_half_of_population_data(data, 'wide', 0.5, wide_path, pre_or_post='post_2020')\n",
    "\n",
    "# quarters\n",
    "\n",
    "std_wide_pathQ = f\"{root}/data/Census_tract_level/populationQuarter_post2020_CT_std_wide.csv\"\n",
    "wide_pathQ = f\"{root}/data/Census_tract_level/populationQuarter_post2020_CT_wide.csv\"\n",
    "\n",
    "save_first_half_of_population_data(data, 'std_wide', 0.25, std_wide_pathQ, pre_or_post='post_2020')\n",
    "save_first_half_of_population_data(data, 'wide', 0.25, wide_pathQ, pre_or_post='post_2020')\n",
    "\n",
    "# the test\n",
    "\n",
    "fips_number = 12117021203\n",
    "main(fips_number, \"post_2020\")\n",
    "\n",
    "# deleting the files created for the comparison\n",
    "file_paths = [std_wide_path, wide_path, std_wide_pathQ, wide_pathQ]\n",
    "\n",
    "for file_path in file_paths:\n",
    "    delete_file(file_path)"
   ]
  },
  {
   "cell_type": "code",
   "execution_count": 54,
   "metadata": {},
   "outputs": [
    {
     "data": {
      "application/vnd.plotly.v1+json": {
       "config": {
        "plotlyServerURL": "https://plot.ly"
       },
       "data": [
        {
         "line": {
          "color": "darkred",
          "width": 3
         },
         "mode": "lines",
         "name": "Belknap, NH (CT)",
         "text": "Belknap, NH (CT)",
         "textposition": "top right",
         "type": "scatter",
         "x": [
          2010,
          2011,
          2012,
          2013,
          2014,
          2015,
          2016,
          2017,
          2018,
          2019
         ],
         "y": [
          3687,
          3739,
          3761,
          3771,
          3778,
          3779,
          3744,
          3740,
          3738,
          3738
         ]
        },
        {
         "line": {
          "color": "#FFC0CB"
         },
         "mode": "lines",
         "name": "Wayne, PA (CT)",
         "text": "Wayne, PA (CT)",
         "textposition": "top right",
         "type": "scatter",
         "x": [
          2010,
          2011,
          2012,
          2013,
          2014,
          2015,
          2016,
          2017,
          2018,
          2019
         ],
         "y": [
          3686,
          3761,
          3770,
          3793,
          3766,
          3742,
          3734,
          3748,
          3744,
          3752
         ]
        },
        {
         "line": {
          "color": "#A9A9A9"
         },
         "mode": "lines",
         "name": "Windham, CT (CT)",
         "text": "Windham, CT (CT)",
         "textposition": "top right",
         "type": "scatter",
         "x": [
          2010,
          2011,
          2012,
          2013,
          2014,
          2015,
          2016,
          2017,
          2018,
          2019
         ],
         "y": [
          3727,
          3769,
          3786,
          3801,
          3809,
          3794,
          3761,
          3748,
          3762,
          3757
         ]
        },
        {
         "line": {
          "color": "#87CEFA"
         },
         "mode": "lines",
         "name": "Auglaize, OH (CT)",
         "text": "Auglaize, OH (CT)",
         "textposition": "top right",
         "type": "scatter",
         "x": [
          2010,
          2011,
          2012,
          2013,
          2014,
          2015,
          2016,
          2017,
          2018,
          2019
         ],
         "y": [
          3769,
          3754,
          3762,
          3753,
          3747,
          3751,
          3736,
          3721,
          3729,
          3719
         ]
        },
        {
         "line": {
          "color": "#FFD700"
         },
         "mode": "lines",
         "name": "Ottawa, OH (CT)",
         "text": "Ottawa, OH (CT)",
         "textposition": "top right",
         "type": "scatter",
         "x": [
          2010,
          2011,
          2012,
          2013,
          2014,
          2015,
          2016,
          2017,
          2018,
          2019
         ],
         "y": [
          3767,
          3776,
          3775,
          3776,
          3775,
          3776,
          3788,
          3768,
          3743,
          3745
         ]
        },
        {
         "line": {
          "color": "#98FB98"
         },
         "mode": "lines",
         "name": "Pottawattamie, IA (CT)",
         "text": "Pottawattamie, IA (CT)",
         "textposition": "top right",
         "type": "scatter",
         "x": [
          2010,
          2011,
          2012,
          2013,
          2014,
          2015,
          2016,
          2017,
          2018,
          2019
         ],
         "y": [
          3676,
          3720,
          3743,
          3763,
          3771,
          3771,
          3765,
          3781,
          3792,
          3796
         ]
        }
       ],
       "layout": {
        "legend": {
         "title": {
          "text": "GeoName"
         }
        },
        "template": {
         "data": {
          "bar": [
           {
            "error_x": {
             "color": "rgb(36,36,36)"
            },
            "error_y": {
             "color": "rgb(36,36,36)"
            },
            "marker": {
             "line": {
              "color": "white",
              "width": 0.5
             },
             "pattern": {
              "fillmode": "overlay",
              "size": 10,
              "solidity": 0.2
             }
            },
            "type": "bar"
           }
          ],
          "barpolar": [
           {
            "marker": {
             "line": {
              "color": "white",
              "width": 0.5
             },
             "pattern": {
              "fillmode": "overlay",
              "size": 10,
              "solidity": 0.2
             }
            },
            "type": "barpolar"
           }
          ],
          "carpet": [
           {
            "aaxis": {
             "endlinecolor": "rgb(36,36,36)",
             "gridcolor": "white",
             "linecolor": "white",
             "minorgridcolor": "white",
             "startlinecolor": "rgb(36,36,36)"
            },
            "baxis": {
             "endlinecolor": "rgb(36,36,36)",
             "gridcolor": "white",
             "linecolor": "white",
             "minorgridcolor": "white",
             "startlinecolor": "rgb(36,36,36)"
            },
            "type": "carpet"
           }
          ],
          "choropleth": [
           {
            "colorbar": {
             "outlinewidth": 1,
             "tickcolor": "rgb(36,36,36)",
             "ticks": "outside"
            },
            "type": "choropleth"
           }
          ],
          "contour": [
           {
            "colorbar": {
             "outlinewidth": 1,
             "tickcolor": "rgb(36,36,36)",
             "ticks": "outside"
            },
            "colorscale": [
             [
              0,
              "#440154"
             ],
             [
              0.1111111111111111,
              "#482878"
             ],
             [
              0.2222222222222222,
              "#3e4989"
             ],
             [
              0.3333333333333333,
              "#31688e"
             ],
             [
              0.4444444444444444,
              "#26828e"
             ],
             [
              0.5555555555555556,
              "#1f9e89"
             ],
             [
              0.6666666666666666,
              "#35b779"
             ],
             [
              0.7777777777777778,
              "#6ece58"
             ],
             [
              0.8888888888888888,
              "#b5de2b"
             ],
             [
              1,
              "#fde725"
             ]
            ],
            "type": "contour"
           }
          ],
          "contourcarpet": [
           {
            "colorbar": {
             "outlinewidth": 1,
             "tickcolor": "rgb(36,36,36)",
             "ticks": "outside"
            },
            "type": "contourcarpet"
           }
          ],
          "heatmap": [
           {
            "colorbar": {
             "outlinewidth": 1,
             "tickcolor": "rgb(36,36,36)",
             "ticks": "outside"
            },
            "colorscale": [
             [
              0,
              "#440154"
             ],
             [
              0.1111111111111111,
              "#482878"
             ],
             [
              0.2222222222222222,
              "#3e4989"
             ],
             [
              0.3333333333333333,
              "#31688e"
             ],
             [
              0.4444444444444444,
              "#26828e"
             ],
             [
              0.5555555555555556,
              "#1f9e89"
             ],
             [
              0.6666666666666666,
              "#35b779"
             ],
             [
              0.7777777777777778,
              "#6ece58"
             ],
             [
              0.8888888888888888,
              "#b5de2b"
             ],
             [
              1,
              "#fde725"
             ]
            ],
            "type": "heatmap"
           }
          ],
          "heatmapgl": [
           {
            "colorbar": {
             "outlinewidth": 1,
             "tickcolor": "rgb(36,36,36)",
             "ticks": "outside"
            },
            "colorscale": [
             [
              0,
              "#440154"
             ],
             [
              0.1111111111111111,
              "#482878"
             ],
             [
              0.2222222222222222,
              "#3e4989"
             ],
             [
              0.3333333333333333,
              "#31688e"
             ],
             [
              0.4444444444444444,
              "#26828e"
             ],
             [
              0.5555555555555556,
              "#1f9e89"
             ],
             [
              0.6666666666666666,
              "#35b779"
             ],
             [
              0.7777777777777778,
              "#6ece58"
             ],
             [
              0.8888888888888888,
              "#b5de2b"
             ],
             [
              1,
              "#fde725"
             ]
            ],
            "type": "heatmapgl"
           }
          ],
          "histogram": [
           {
            "marker": {
             "line": {
              "color": "white",
              "width": 0.6
             }
            },
            "type": "histogram"
           }
          ],
          "histogram2d": [
           {
            "colorbar": {
             "outlinewidth": 1,
             "tickcolor": "rgb(36,36,36)",
             "ticks": "outside"
            },
            "colorscale": [
             [
              0,
              "#440154"
             ],
             [
              0.1111111111111111,
              "#482878"
             ],
             [
              0.2222222222222222,
              "#3e4989"
             ],
             [
              0.3333333333333333,
              "#31688e"
             ],
             [
              0.4444444444444444,
              "#26828e"
             ],
             [
              0.5555555555555556,
              "#1f9e89"
             ],
             [
              0.6666666666666666,
              "#35b779"
             ],
             [
              0.7777777777777778,
              "#6ece58"
             ],
             [
              0.8888888888888888,
              "#b5de2b"
             ],
             [
              1,
              "#fde725"
             ]
            ],
            "type": "histogram2d"
           }
          ],
          "histogram2dcontour": [
           {
            "colorbar": {
             "outlinewidth": 1,
             "tickcolor": "rgb(36,36,36)",
             "ticks": "outside"
            },
            "colorscale": [
             [
              0,
              "#440154"
             ],
             [
              0.1111111111111111,
              "#482878"
             ],
             [
              0.2222222222222222,
              "#3e4989"
             ],
             [
              0.3333333333333333,
              "#31688e"
             ],
             [
              0.4444444444444444,
              "#26828e"
             ],
             [
              0.5555555555555556,
              "#1f9e89"
             ],
             [
              0.6666666666666666,
              "#35b779"
             ],
             [
              0.7777777777777778,
              "#6ece58"
             ],
             [
              0.8888888888888888,
              "#b5de2b"
             ],
             [
              1,
              "#fde725"
             ]
            ],
            "type": "histogram2dcontour"
           }
          ],
          "mesh3d": [
           {
            "colorbar": {
             "outlinewidth": 1,
             "tickcolor": "rgb(36,36,36)",
             "ticks": "outside"
            },
            "type": "mesh3d"
           }
          ],
          "parcoords": [
           {
            "line": {
             "colorbar": {
              "outlinewidth": 1,
              "tickcolor": "rgb(36,36,36)",
              "ticks": "outside"
             }
            },
            "type": "parcoords"
           }
          ],
          "pie": [
           {
            "automargin": true,
            "type": "pie"
           }
          ],
          "scatter": [
           {
            "fillpattern": {
             "fillmode": "overlay",
             "size": 10,
             "solidity": 0.2
            },
            "type": "scatter"
           }
          ],
          "scatter3d": [
           {
            "line": {
             "colorbar": {
              "outlinewidth": 1,
              "tickcolor": "rgb(36,36,36)",
              "ticks": "outside"
             }
            },
            "marker": {
             "colorbar": {
              "outlinewidth": 1,
              "tickcolor": "rgb(36,36,36)",
              "ticks": "outside"
             }
            },
            "type": "scatter3d"
           }
          ],
          "scattercarpet": [
           {
            "marker": {
             "colorbar": {
              "outlinewidth": 1,
              "tickcolor": "rgb(36,36,36)",
              "ticks": "outside"
             }
            },
            "type": "scattercarpet"
           }
          ],
          "scattergeo": [
           {
            "marker": {
             "colorbar": {
              "outlinewidth": 1,
              "tickcolor": "rgb(36,36,36)",
              "ticks": "outside"
             }
            },
            "type": "scattergeo"
           }
          ],
          "scattergl": [
           {
            "marker": {
             "colorbar": {
              "outlinewidth": 1,
              "tickcolor": "rgb(36,36,36)",
              "ticks": "outside"
             }
            },
            "type": "scattergl"
           }
          ],
          "scattermapbox": [
           {
            "marker": {
             "colorbar": {
              "outlinewidth": 1,
              "tickcolor": "rgb(36,36,36)",
              "ticks": "outside"
             }
            },
            "type": "scattermapbox"
           }
          ],
          "scatterpolar": [
           {
            "marker": {
             "colorbar": {
              "outlinewidth": 1,
              "tickcolor": "rgb(36,36,36)",
              "ticks": "outside"
             }
            },
            "type": "scatterpolar"
           }
          ],
          "scatterpolargl": [
           {
            "marker": {
             "colorbar": {
              "outlinewidth": 1,
              "tickcolor": "rgb(36,36,36)",
              "ticks": "outside"
             }
            },
            "type": "scatterpolargl"
           }
          ],
          "scatterternary": [
           {
            "marker": {
             "colorbar": {
              "outlinewidth": 1,
              "tickcolor": "rgb(36,36,36)",
              "ticks": "outside"
             }
            },
            "type": "scatterternary"
           }
          ],
          "surface": [
           {
            "colorbar": {
             "outlinewidth": 1,
             "tickcolor": "rgb(36,36,36)",
             "ticks": "outside"
            },
            "colorscale": [
             [
              0,
              "#440154"
             ],
             [
              0.1111111111111111,
              "#482878"
             ],
             [
              0.2222222222222222,
              "#3e4989"
             ],
             [
              0.3333333333333333,
              "#31688e"
             ],
             [
              0.4444444444444444,
              "#26828e"
             ],
             [
              0.5555555555555556,
              "#1f9e89"
             ],
             [
              0.6666666666666666,
              "#35b779"
             ],
             [
              0.7777777777777778,
              "#6ece58"
             ],
             [
              0.8888888888888888,
              "#b5de2b"
             ],
             [
              1,
              "#fde725"
             ]
            ],
            "type": "surface"
           }
          ],
          "table": [
           {
            "cells": {
             "fill": {
              "color": "rgb(237,237,237)"
             },
             "line": {
              "color": "white"
             }
            },
            "header": {
             "fill": {
              "color": "rgb(217,217,217)"
             },
             "line": {
              "color": "white"
             }
            },
            "type": "table"
           }
          ]
         },
         "layout": {
          "annotationdefaults": {
           "arrowhead": 0,
           "arrowwidth": 1
          },
          "autotypenumbers": "strict",
          "coloraxis": {
           "colorbar": {
            "outlinewidth": 1,
            "tickcolor": "rgb(36,36,36)",
            "ticks": "outside"
           }
          },
          "colorscale": {
           "diverging": [
            [
             0,
             "rgb(103,0,31)"
            ],
            [
             0.1,
             "rgb(178,24,43)"
            ],
            [
             0.2,
             "rgb(214,96,77)"
            ],
            [
             0.3,
             "rgb(244,165,130)"
            ],
            [
             0.4,
             "rgb(253,219,199)"
            ],
            [
             0.5,
             "rgb(247,247,247)"
            ],
            [
             0.6,
             "rgb(209,229,240)"
            ],
            [
             0.7,
             "rgb(146,197,222)"
            ],
            [
             0.8,
             "rgb(67,147,195)"
            ],
            [
             0.9,
             "rgb(33,102,172)"
            ],
            [
             1,
             "rgb(5,48,97)"
            ]
           ],
           "sequential": [
            [
             0,
             "#440154"
            ],
            [
             0.1111111111111111,
             "#482878"
            ],
            [
             0.2222222222222222,
             "#3e4989"
            ],
            [
             0.3333333333333333,
             "#31688e"
            ],
            [
             0.4444444444444444,
             "#26828e"
            ],
            [
             0.5555555555555556,
             "#1f9e89"
            ],
            [
             0.6666666666666666,
             "#35b779"
            ],
            [
             0.7777777777777778,
             "#6ece58"
            ],
            [
             0.8888888888888888,
             "#b5de2b"
            ],
            [
             1,
             "#fde725"
            ]
           ],
           "sequentialminus": [
            [
             0,
             "#440154"
            ],
            [
             0.1111111111111111,
             "#482878"
            ],
            [
             0.2222222222222222,
             "#3e4989"
            ],
            [
             0.3333333333333333,
             "#31688e"
            ],
            [
             0.4444444444444444,
             "#26828e"
            ],
            [
             0.5555555555555556,
             "#1f9e89"
            ],
            [
             0.6666666666666666,
             "#35b779"
            ],
            [
             0.7777777777777778,
             "#6ece58"
            ],
            [
             0.8888888888888888,
             "#b5de2b"
            ],
            [
             1,
             "#fde725"
            ]
           ]
          },
          "colorway": [
           "#1F77B4",
           "#FF7F0E",
           "#2CA02C",
           "#D62728",
           "#9467BD",
           "#8C564B",
           "#E377C2",
           "#7F7F7F",
           "#BCBD22",
           "#17BECF"
          ],
          "font": {
           "color": "rgb(36,36,36)"
          },
          "geo": {
           "bgcolor": "white",
           "lakecolor": "white",
           "landcolor": "white",
           "showlakes": true,
           "showland": true,
           "subunitcolor": "white"
          },
          "hoverlabel": {
           "align": "left"
          },
          "hovermode": "closest",
          "mapbox": {
           "style": "light"
          },
          "paper_bgcolor": "white",
          "plot_bgcolor": "white",
          "polar": {
           "angularaxis": {
            "gridcolor": "rgb(232,232,232)",
            "linecolor": "rgb(36,36,36)",
            "showgrid": false,
            "showline": true,
            "ticks": "outside"
           },
           "bgcolor": "white",
           "radialaxis": {
            "gridcolor": "rgb(232,232,232)",
            "linecolor": "rgb(36,36,36)",
            "showgrid": false,
            "showline": true,
            "ticks": "outside"
           }
          },
          "scene": {
           "xaxis": {
            "backgroundcolor": "white",
            "gridcolor": "rgb(232,232,232)",
            "gridwidth": 2,
            "linecolor": "rgb(36,36,36)",
            "showbackground": true,
            "showgrid": false,
            "showline": true,
            "ticks": "outside",
            "zeroline": false,
            "zerolinecolor": "rgb(36,36,36)"
           },
           "yaxis": {
            "backgroundcolor": "white",
            "gridcolor": "rgb(232,232,232)",
            "gridwidth": 2,
            "linecolor": "rgb(36,36,36)",
            "showbackground": true,
            "showgrid": false,
            "showline": true,
            "ticks": "outside",
            "zeroline": false,
            "zerolinecolor": "rgb(36,36,36)"
           },
           "zaxis": {
            "backgroundcolor": "white",
            "gridcolor": "rgb(232,232,232)",
            "gridwidth": 2,
            "linecolor": "rgb(36,36,36)",
            "showbackground": true,
            "showgrid": false,
            "showline": true,
            "ticks": "outside",
            "zeroline": false,
            "zerolinecolor": "rgb(36,36,36)"
           }
          },
          "shapedefaults": {
           "fillcolor": "black",
           "line": {
            "width": 0
           },
           "opacity": 0.3
          },
          "ternary": {
           "aaxis": {
            "gridcolor": "rgb(232,232,232)",
            "linecolor": "rgb(36,36,36)",
            "showgrid": false,
            "showline": true,
            "ticks": "outside"
           },
           "baxis": {
            "gridcolor": "rgb(232,232,232)",
            "linecolor": "rgb(36,36,36)",
            "showgrid": false,
            "showline": true,
            "ticks": "outside"
           },
           "bgcolor": "white",
           "caxis": {
            "gridcolor": "rgb(232,232,232)",
            "linecolor": "rgb(36,36,36)",
            "showgrid": false,
            "showline": true,
            "ticks": "outside"
           }
          },
          "title": {
           "x": 0.05
          },
          "xaxis": {
           "automargin": true,
           "gridcolor": "rgb(232,232,232)",
           "linecolor": "rgb(36,36,36)",
           "showgrid": false,
           "showline": true,
           "ticks": "outside",
           "title": {
            "standoff": 15
           },
           "zeroline": false,
           "zerolinecolor": "rgb(36,36,36)"
          },
          "yaxis": {
           "automargin": true,
           "gridcolor": "rgb(232,232,232)",
           "linecolor": "rgb(36,36,36)",
           "showgrid": false,
           "showline": true,
           "ticks": "outside",
           "title": {
            "standoff": 15
           },
           "zeroline": false,
           "zerolinecolor": "rgb(36,36,36)"
          }
         }
        },
        "title": {
         "text": "Top 5 locations matching your search"
        },
        "xaxis": {
         "title": {
          "text": "Year"
         }
        },
        "yaxis": {
         "title": {
          "text": "population"
         }
        }
       }
      }
     },
     "metadata": {},
     "output_type": "display_data"
    },
    {
     "name": "stdout",
     "output_type": "stream",
     "text": [
      "         992810 function calls (981271 primitive calls) in 9.048 seconds\n",
      "\n",
      "   Ordered by: cumulative time\n",
      "\n",
      "   ncalls  tottime  percall  cumtime  percall filename:lineno(function)\n",
      "        2    0.000    0.000    9.060    4.530 interactiveshell.py:3514(run_code)\n",
      "        2    0.000    0.000    9.060    4.530 {built-in method builtins.exec}\n",
      "        1    0.011    0.011    9.048    9.048 827749473.py:20(basic_run_ctfips)\n",
      "        1    2.486    2.486    6.902    6.902 fips_query.py:803(__init__)\n",
      "      119    4.174    0.035    4.174    0.035 {method 'reduce' of 'numpy.ufunc' objects}\n",
      "        9    0.000    0.000    4.173    0.464 {method 'sum' of 'numpy.ndarray' objects}\n",
      "        9    0.000    0.000    4.173    0.464 _methods.py:47(_sum)\n",
      "        1    0.129    0.129    1.758    1.758 fips_query.py:237(find_euclidean_kins)\n",
      "    72187    1.011    0.000    1.285    0.000 similarity_utils.py:63(generalized_euclidean_distance)\n",
      "        3    0.000    0.000    0.547    0.182 data_grabber.py:80(_get_features)\n",
      "        3    0.000    0.000    0.546    0.182 readers.py:848(read_csv)\n",
      "        3    0.006    0.002    0.546    0.182 readers.py:574(_read)\n",
      "        3    0.000    0.000    0.533    0.178 readers.py:1732(read)\n",
      "        3    0.001    0.000    0.497    0.166 c_parser_wrapper.py:222(read)\n",
      "        3    0.469    0.156    0.477    0.159 {method 'read_low_memory' of 'pandas._libs.parsers.TextReader' objects}\n",
      "        1    0.000    0.000    0.377    0.377 fips_query.py:668(show_kins_plot)\n",
      "        1    0.000    0.000    0.372    0.372 fips_query.py:660(plot_kins)\n",
      "        1    0.000    0.000    0.372    0.372 fips_query.py:544(plot_kins_other_var)\n",
      "        1    0.000    0.000    0.309    0.309 data_grabber.py:120(get_features_long)\n",
      "        1    0.000    0.000    0.151    0.151 data_grabber.py:117(get_features_std_wide)\n",
      "   216562    0.150    0.000    0.150    0.000 {built-in method builtins.abs}\n",
      "    72270    0.123    0.000    0.123    0.000 {built-in method builtins.sum}\n",
      "        4    0.042    0.010    0.112    0.028 shape_base.py:219(vstack)\n",
      "        1    0.000    0.000    0.087    0.087 data_grabber.py:114(get_features_wide)\n",
      "        4    0.056    0.014    0.070    0.018 shape_base.py:81(atleast_2d)\n",
      "    72187    0.024    0.000    0.051    0.000 fromnumeric.py:1491(squeeze)\n",
      "   407/90    0.002    0.000    0.039    0.000 basedatatypes.py:4811(__setitem__)\n",
      "       11    0.000    0.000    0.037    0.003 frame.py:665(__init__)\n",
      "        5    0.000    0.000    0.036    0.007 construction.py:423(dict_to_mgr)\n",
      "  8149/29    0.009    0.000    0.036    0.001 copy.py:128(deepcopy)\n",
      "       23    0.000    0.000    0.035    0.002 managers.py:606(reindex_indexer)\n",
      "       75    0.000    0.000    0.034    0.000 take.py:59(take_nd)\n",
      "        1    0.000    0.000    0.034    0.034 _figure.py:749(update_layout)\n",
      "        1    0.000    0.000    0.034    0.034 basedatatypes.py:1367(update_layout)\n",
      "        1    0.000    0.000    0.034    0.034 basedatatypes.py:5110(update)\n",
      "       75    0.003    0.000    0.034    0.000 take.py:121(_take_nd_ndarray)\n",
      "     24/5    0.000    0.000    0.034    0.007 basedatatypes.py:5892(__setitem__)\n",
      "      3/2    0.000    0.000    0.033    0.017 basedatatypes.py:3852(_perform_update)\n",
      "        5    0.001    0.000    0.033    0.007 construction.py:96(arrays_to_mgr)\n",
      "       19    0.000    0.000    0.033    0.002 managers.py:852(take)\n",
      "       60    0.000    0.000    0.033    0.001 blocks.py:1041(take_nd)\n",
      "    88/12    0.001    0.000    0.032    0.003 basedatatypes.py:5251(_set_compound_prop)\n",
      "        5    0.000    0.000    0.030    0.006 managers.py:2068(create_block_manager_from_column_arrays)\n",
      "        2    0.000    0.000    0.029    0.014 frame.py:6752(sort_values)\n",
      "       16    0.000    0.000    0.028    0.002 managers.py:670(<listcomp>)\n",
      "      113    0.002    0.000    0.028    0.000 construction.py:518(sanitize_array)\n",
      "        1    0.000    0.000    0.027    0.027 basevalidators.py:2751(validate_coerce)\n",
      "    72187    0.026    0.000    0.026    0.000 {method 'squeeze' of 'numpy.ndarray' objects}\n",
      "       66    0.001    0.000    0.026    0.000 frame.py:3853(__getitem__)\n",
      "        5    0.000    0.000    0.026    0.005 frame.py:4062(__setitem__)\n",
      "        5    0.000    0.000    0.026    0.005 frame.py:4290(_set_item)\n",
      "   221234    0.025    0.000    0.025    0.000 {method 'append' of 'list' objects}\n",
      "        5    0.000    0.000    0.025    0.005 concat.py:157(concat)\n",
      "        5    0.000    0.000    0.025    0.005 concat.py:618(get_result)\n",
      "        2    0.000    0.000    0.024    0.012 copy.py:259(_reconstruct)\n",
      "        1    0.000    0.000    0.024    0.024 frame.py:10468(merge)\n",
      "        1    0.000    0.000    0.024    0.024 merge.py:134(merge)\n",
      "        5    0.000    0.000    0.024    0.005 frame.py:5015(_sanitize_column)\n",
      "       26    0.001    0.000    0.023    0.001 cast.py:119(maybe_convert_platform)\n",
      "        1    0.000    0.000    0.023    0.023 merge.py:879(get_result)\n",
      "        3    0.000    0.000    0.022    0.007 _template.py:250(__init__)\n",
      "    88/14    0.001    0.000    0.021    0.001 basevalidators.py:2479(validate_coerce)\n",
      "       19    0.000    0.000    0.021    0.001 managers.py:540(copy)\n",
      "        5    0.000    0.000    0.019    0.004 managers.py:2137(_form_blocks)\n",
      "        3    0.004    0.001    0.019    0.006 c_parser_wrapper.py:355(_concatenate_chunks)\n",
      "  935/131    0.002    0.000    0.018    0.000 copy.py:227(_deepcopy_dict)\n",
      "       73    0.017    0.000    0.018    0.000 {pandas._libs.lib.maybe_convert_objects}\n",
      "       23    0.001    0.000    0.018    0.001 managers.py:1744(_consolidate_inplace)\n",
      "       13    0.015    0.001    0.018    0.001 managers.py:2194(_stack_arrays)\n",
      "       17    0.000    0.000    0.018    0.001 generic.py:4077(_take_with_is_copy)\n",
      "       17    0.000    0.000    0.018    0.001 generic.py:3962(take)\n",
      "        5    0.002    0.000    0.017    0.003 concat.py:94(concatenate_managers)\n",
      "        3    0.000    0.000    0.017    0.006 managers.py:2207(_consolidate)\n",
      "        8    0.009    0.001    0.017    0.002 managers.py:2224(_merge_blocks)\n",
      "       35    0.015    0.000    0.015    0.000 concat.py:52(concat_compat)\n",
      "        5    0.000    0.000    0.015    0.003 concat.py:202(_maybe_reindex_columns_na_proxy)\n",
      "        1    0.000    0.000    0.015    0.015 similarity_utils.py:10(slice_with_lag)\n",
      "       19    0.000    0.000    0.014    0.001 managers.py:308(apply)\n",
      "        2    0.000    0.000    0.013    0.007 indexing.py:867(__setitem__)\n",
      "      114    0.013    0.000    0.013    0.000 {method 'copy' of 'numpy.ndarray' objects}\n",
      "        2    0.000    0.000    0.013    0.007 indexing.py:1747(_setitem_with_indexer)\n",
      "       40    0.000    0.000    0.013    0.000 blocks.py:639(copy)\n",
      "        1    0.000    0.000    0.013    0.013 _data.py:1319(__init__)\n",
      "       25    0.000    0.000    0.012    0.000 basedatatypes.py:5325(_set_array_prop)\n",
      "        1    0.000    0.000    0.012    0.012 merge.py:1109(_get_join_info)\n",
      "        1    0.000    0.000    0.012    0.012 merge.py:1103(_get_join_indexers)\n",
      "        1    0.000    0.000    0.012    0.012 merge.py:1658(get_join_indexers)\n",
      "       10    0.000    0.000    0.012    0.001 frame.py:3921(_getitem_bool_array)\n",
      "        2    0.001    0.000    0.012    0.006 sorting.py:413(nargsort)\n",
      "  984/214    0.002    0.000    0.012    0.000 copy.py:201(_deepcopy_list)\n",
      "       12    0.011    0.001    0.011    0.001 {pandas._libs.algos.take_2d_axis1_float64_float64}\n",
      "    72187    0.011    0.000    0.011    0.000 fromnumeric.py:1487(_squeeze_dispatcher)\n",
      "       15    0.011    0.001    0.011    0.001 {pandas._libs.algos.take_2d_axis0_float64_float64}\n",
      "        1    0.000    0.000    0.011    0.011 merge.py:822(_reindex_and_concat)\n",
      "        7    0.011    0.002    0.011    0.002 {method 'argsort' of 'numpy.ndarray' objects}\n",
      "       26    0.000    0.000    0.010    0.000 basevalidators.py:2564(validate_coerce)\n",
      "       12    0.000    0.000    0.010    0.001 generic.py:6553(copy)\n",
      "        3    0.009    0.003    0.010    0.003 algorithms.py:457(isin)\n",
      "        1    0.000    0.000    0.010    0.010 series.py:5273(isin)\n",
      "        2    0.000    0.000    0.009    0.005 merge.py:2341(_factorize_keys)\n",
      "      286    0.001    0.000    0.009    0.000 basedatatypes.py:5185(_set_prop)\n",
      "        4    0.009    0.002    0.009    0.002 {method 'factorize' of 'pandas._libs.hashtable.Int64Factorizer' objects}\n",
      "        1    0.000    0.000    0.008    0.008 groupby.py:2999(sum)\n",
      "        1    0.000    0.000    0.008    0.008 groupby.py:1830(_agg_general)\n",
      "        1    0.000    0.000    0.008    0.008 groupby.py:1889(_cython_agg_general)\n",
      "        1    0.000    0.000    0.008    0.008 managers.py:1409(grouped_reduce)\n",
      "       11    0.000    0.000    0.008    0.001 managers.py:691(_slice_take_blocks_ax0)\n",
      "        1    0.000    0.000    0.008    0.008 blocks.py:360(apply)\n",
      "        1    0.000    0.000    0.008    0.008 groupby.py:1903(array_func)\n",
      "        1    0.000    0.000    0.008    0.008 ops.py:796(_cython_operation)\n",
      "      226    0.001    0.000    0.008    0.000 <frozen codecs>:319(decode)\n",
      "        1    0.000    0.000    0.008    0.008 ops.py:507(cython_operation)\n",
      "        1    0.000    0.000    0.008    0.008 ops.py:304(_cython_op_ndim_compat)\n",
      "        1    0.007    0.007    0.008    0.008 ops.py:348(_call_cython_op)\n",
      "        3    0.000    0.000    0.007    0.002 readers.py:1403(__init__)\n",
      "        2    0.000    0.000    0.007    0.004 generic.py:12062(sum)\n",
      "        2    0.000    0.000    0.007    0.004 generic.py:12023(_min_count_stat_function)\n",
      "        2    0.000    0.000    0.007    0.004 _layout.py:5876(__init__)\n",
      "        3    0.000    0.000    0.007    0.002 readers.py:1673(_make_engine)\n",
      "        1    0.000    0.000    0.007    0.007 frame.py:11303(sum)\n",
      "        1    0.004    0.004    0.007    0.007 frame.py:11090(_reduce)\n",
      "      226    0.007    0.000    0.007    0.000 {built-in method _codecs.utf_8_decode}\n",
      "    72210    0.007    0.000    0.007    0.000 {built-in method numpy.asanyarray}\n",
      "        3    0.006    0.002    0.007    0.002 c_parser_wrapper.py:60(__init__)\n",
      "       13    0.000    0.000    0.007    0.001 _scatter.py:2732(__init__)\n",
      "        3    0.000    0.000    0.006    0.002 frame.py:3744(T)\n",
      "        3    0.004    0.001    0.006    0.002 frame.py:3572(transpose)\n",
      "       33    0.005    0.000    0.006    0.000 cast.py:1544(construct_1d_object_array_from_listlike)\n",
      "       18    0.000    0.000    0.005    0.000 base.py:3858(get_indexer)\n",
      "        2    0.000    0.000    0.005    0.003 merge.py:1699(<genexpr>)\n",
      "        1    0.005    0.005    0.005    0.005 fips_query.py:498(<listcomp>)\n",
      "        1    0.000    0.000    0.005    0.005 basedatatypes.py:3376(show)\n",
      "    37/34    0.001    0.000    0.005    0.000 series.py:371(__init__)\n",
      "        1    0.000    0.000    0.005    0.005 _renderers.py:348(show)\n",
      "      202    0.005    0.000    0.005    0.000 {built-in method numpy.empty}\n",
      "       18    0.000    0.000    0.005    0.000 common.py:62(new_method)\n",
      "       14    0.004    0.000    0.004    0.000 {pandas._libs.algos.take_2d_axis0_object_object}\n",
      "        2    0.000    0.000    0.004    0.002 basedatatypes.py:5597(to_plotly_json)\n",
      "      281    0.001    0.000    0.004    0.000 basevalidators.py:1415(perform_validate_coerce)\n",
      "        5    0.000    0.000    0.004    0.001 concat.py:695(new_axes)\n",
      "        5    0.000    0.000    0.004    0.001 concat.py:698(<listcomp>)\n",
      "2121/2110    0.002    0.000    0.004    0.000 basedatatypes.py:4916(__setattr__)\n",
      "11350/11298    0.003    0.000    0.004    0.000 {built-in method builtins.isinstance}\n",
      "       37    0.001    0.000    0.004    0.000 base.py:477(__new__)\n",
      "       12    0.000    0.000    0.003    0.000 series.py:5790(_cmp_method)\n",
      "       20    0.000    0.000    0.003    0.000 indexing.py:1139(__getitem__)\n",
      "        5    0.000    0.000    0.003    0.001 concat.py:703(_get_comb_axis)\n",
      "        5    0.000    0.000    0.003    0.001 api.py:72(get_objs_combined_axis)\n",
      "        5    0.000    0.000    0.003    0.001 api.py:120(_get_combined_index)\n",
      "      407    0.001    0.000    0.003    0.000 basevalidators.py:16(fullmatch)\n",
      "        8    0.000    0.000    0.003    0.000 managers.py:278(get_dtypes)\n",
      "       55    0.001    0.000    0.003    0.000 basedatatypes.py:49(_str_to_dict_path_full)\n",
      "        2    0.000    0.000    0.003    0.002 api.py:202(union_indexes)\n",
      "       10    0.000    0.000    0.003    0.000 arraylike.py:38(__eq__)\n",
      "        6    0.000    0.000    0.003    0.001 _figure.py:825(add_trace)\n",
      "        6    0.000    0.000    0.003    0.001 basedatatypes.py:2007(add_trace)\n",
      "        6    0.000    0.000    0.003    0.001 _figure.py:904(add_traces)\n",
      "        6    0.000    0.000    0.003    0.001 basedatatypes.py:2114(add_traces)\n",
      "        1    0.000    0.000    0.003    0.003 base.py:3217(union)\n",
      "        1    0.000    0.000    0.003    0.003 _figure.py:5(__init__)\n",
      "        1    0.000    0.000    0.003    0.003 basedatatypes.py:410(__init__)\n",
      "      937    0.002    0.000    0.003    0.000 basedatatypes.py:4341(_get_validator)\n",
      "        1    0.000    0.000    0.003    0.003 base.py:3339(_union)\n",
      "  268/263    0.000    0.000    0.003    0.000 basedatatypes.py:4379(_process_kwargs)\n",
      "       57    0.003    0.000    0.003    0.000 {built-in method numpy.array}\n",
      "        6    0.000    0.000    0.003    0.000 base.py:6100(_get_indexer_strict)\n",
      "      708    0.000    0.000    0.003    0.000 basedatatypes.py:1819(_str_to_dict_path)\n",
      "       16    0.002    0.000    0.003    0.000 base.py:2292(is_unique)\n",
      "       20    0.002    0.000    0.003    0.000 {method '_rebuild_blknos_and_blklocs' of 'pandas._libs.internals.BlockManager' objects}\n",
      "        2    0.000    0.000    0.003    0.001 _utils.py:6(validate_coerce_fig_to_dict)\n",
      "        7    0.000    0.000    0.003    0.000 basevalidators.py:2655(validate_coerce)\n",
      "        1    0.000    0.000    0.003    0.003 basedatatypes.py:3285(to_dict)\n",
      "        1    0.003    0.003    0.003    0.003 {pandas._libs.join.left_outer_join}\n",
      "       19    0.000    0.000    0.003    0.000 indexing.py:1681(_getitem_axis)\n",
      "       89    0.000    0.000    0.002    0.000 basevalidators.py:1347(validate_coerce)\n",
      "      128    0.000    0.000    0.002    0.000 base.py:7513(ensure_index)\n",
      "       87    0.000    0.000    0.002    0.000 managers.py:169(blknos)\n",
      "        5    0.000    0.000    0.002    0.000 indexing.py:1651(_getitem_tuple)\n",
      "       89    0.000    0.000    0.002    0.000 basevalidators.py:1409(vc_scalar)\n",
      "        9    0.000    0.000    0.002    0.000 basevalidators.py:1595(validate_coerce)\n",
      "       18    0.000    0.000    0.002    0.000 series.py:5881(_construct_result)\n",
      "        7    0.000    0.000    0.002    0.000 generic.py:6337(dtypes)\n",
      "       15    0.000    0.000    0.002    0.000 base.py:3944(_get_indexer)\n",
      "        2    0.000    0.000    0.002    0.001 copy.py:264(<genexpr>)\n",
      "       35    0.000    0.000    0.002    0.000 basedatatypes.py:5917(__setattr__)\n",
      "        2    0.000    0.000    0.002    0.001 {method '__reduce_ex__' of 'object' objects}\n",
      "        1    0.000    0.000    0.002    0.002 basedatatypes.py:4665(__reduce__)\n",
      "        1    0.000    0.000    0.002    0.002 basedatatypes.py:2515(_initialize_layout_template)\n",
      "       59    0.000    0.000    0.002    0.000 frame.py:4402(_get_item_cache)\n",
      "       15    0.002    0.000    0.002    0.000 {method 'get_indexer' of 'pandas._libs.index.IndexEngine' objects}\n",
      "        1    0.000    0.000    0.002    0.002 _layout.py:3645(template)\n",
      "       46    0.000    0.000    0.002    0.000 frame.py:3776(_ixs)\n",
      "        5    0.000    0.000    0.002    0.000 generic.py:4296(_slice)\n",
      "    17042    0.002    0.000    0.002    0.000 {method 'get' of 'dict' objects}\n",
      "        3    0.000    0.000    0.002    0.001 indexing.py:978(_getitem_tuple_same_dim)\n",
      "        4    0.000    0.000    0.002    0.000 indexing.py:1718(_get_slice_axis)\n",
      "      407    0.002    0.000    0.002    0.000 {built-in method builtins.dir}\n",
      "       23    0.000    0.000    0.002    0.000 basedatatypes.py:157(_check_path_in_prop_tree)\n",
      "        5    0.000    0.000    0.002    0.000 frame.py:4257(_set_item_mgr)\n",
      "        5    0.000    0.000    0.002    0.000 {method 'get_slice' of 'pandas._libs.internals.BlockManager' objects}\n",
      "      140    0.000    0.000    0.002    0.000 basedatatypes.py:4276(__init__)\n",
      "       31    0.002    0.000    0.002    0.000 {method 'take' of 'numpy.ndarray' objects}\n",
      "        1    0.000    0.000    0.002    0.002 display_functions.py:105(display)\n",
      "        1    0.000    0.000    0.002    0.002 display_functions.py:45(publish_display_data)\n",
      "        1    0.000    0.000    0.002    0.002 zmqshell.py:81(publish)\n",
      "       12    0.000    0.000    0.002    0.000 array_ops.py:290(comparison_op)\n",
      "        5    0.000    0.000    0.002    0.000 construction.py:596(_homogenize)\n",
      "       38    0.000    0.000    0.002    0.000 cast.py:1147(maybe_infer_to_datetimelike)\n",
      "     1944    0.001    0.000    0.002    0.000 copy.py:243(_keep_alive)\n",
      "        8    0.000    0.000    0.002    0.000 base.py:6076(get_indexer_for)\n",
      "  370/252    0.000    0.000    0.002    0.000 {built-in method _functools.reduce}\n",
      "       19    0.000    0.000    0.002    0.000 array_ops.py:191(_na_arithmetic_op)\n",
      "        4    0.000    0.000    0.002    0.000 managers.py:1311(insert)\n",
      "1337/1274    0.001    0.000    0.001    0.000 basedatatypes.py:4422(_props)\n",
      "   108/98    0.000    0.000    0.001    0.000 basedatatypes.py:4673(__getitem__)\n",
      "       19    0.000    0.000    0.001    0.000 expressions.py:226(evaluate)\n",
      "      271    0.001    0.000    0.001    0.000 generic.py:6206(__setattr__)\n",
      "       39    0.000    0.000    0.001    0.000 base.py:6238(_index_as_unique)\n",
      "       25    0.000    0.000    0.001    0.000 basedatatypes.py:5362(<listcomp>)\n",
      "       19    0.000    0.000    0.001    0.000 expressions.py:67(_evaluate_standard)\n",
      "        1    0.001    0.001    0.001    0.001 range.py:422(_get_indexer)\n",
      "        9    0.000    0.000    0.001    0.000 basevalidators.py:1629(<listcomp>)\n",
      "    12157    0.001    0.000    0.001    0.000 {built-in method builtins.id}\n",
      "4495/3820    0.001    0.000    0.001    0.000 {built-in method builtins.len}\n",
      "       20    0.000    0.000    0.001    0.000 base.py:1138(take)\n",
      "       59    0.000    0.000    0.001    0.000 basedatatypes.py:91(_split_and_chomp)\n",
      "        1    0.000    0.000    0.001    0.001 merge.py:734(__init__)\n",
      "        1    0.000    0.000    0.001    0.001 frame.py:8727(groupby)\n",
      "        1    0.000    0.000    0.001    0.001 groupby.py:1245(__init__)\n",
      "        1    0.000    0.000    0.001    0.001 grouper.py:812(get_grouper)\n",
      "       10    0.000    0.000    0.001    0.000 base.py:673(_with_infer)\n",
      "       12    0.000    0.000    0.001    0.000 {built-in method builtins.next}\n",
      "        1    0.000    0.000    0.001    0.001 _scene.py:1637(__init__)\n",
      "        4    0.000    0.000    0.001    0.000 contextlib.py:141(__exit__)\n",
      "        2    0.000    0.000    0.001    0.001 basedatatypes.py:3003(batch_update)\n",
      "        4    0.000    0.000    0.001    0.000 base.py:6895(insert)\n",
      "        1    0.000    0.000    0.001    0.001 basedatatypes.py:2868(plotly_update)\n",
      "        6    0.000    0.000    0.001    0.000 series.py:5813(_arith_method)\n",
      "        3    0.000    0.000    0.001    0.000 series.py:524(_init_dict)\n",
      "        6    0.000    0.000    0.001    0.000 base.py:1370(_arith_method)\n",
      "        1    0.000    0.000    0.001    0.001 zmqshell.py:64(_flush_streams)\n",
      "        2    0.000    0.000    0.001    0.001 iostream.py:561(flush)\n",
      "        5    0.001    0.000    0.001    0.000 {pandas._libs.algos.take_2d_axis0_int64_int64}\n",
      "       10    0.001    0.000    0.001    0.000 {built-in method _operator.eq}\n",
      "        3    0.001    0.000    0.001    0.000 {pandas._libs.algos.take_2d_axis1_object_object}\n",
      "      122    0.001    0.000    0.001    0.000 generic.py:6147(__finalize__)\n",
      "        9    0.000    0.000    0.001    0.000 basevalidators.py:1646(<listcomp>)\n",
      "        2    0.000    0.000    0.001    0.000 frame.py:1929(to_dict)\n",
      "      849    0.000    0.000    0.001    0.000 generic.py:42(_instancecheck)\n",
      "       66    0.000    0.000    0.001    0.000 base.py:5518(equals)\n",
      "   118/59    0.000    0.000    0.001    0.000 utils.py:379(chomp_empty_strings)\n",
      "        1    0.000    0.000    0.001    0.001 _colorscale.py:169(__init__)\n",
      "        2    0.000    0.000    0.001    0.000 to_dict.py:22(to_dict)\n",
      "        4    0.000    0.000    0.001    0.000 shape_base.py:215(_vhstack_dispatcher)\n",
      "       45    0.000    0.000    0.001    0.000 frame.py:4384(_box_col_values)\n",
      "        4    0.001    0.000    0.001    0.000 shape_base.py:207(_arrays_for_stack_dispatcher)\n",
      "       20    0.000    0.000    0.001    0.000 algorithms.py:1211(take)\n",
      "       45    0.000    0.000    0.001    0.000 basedatatypes.py:4768(__contains__)\n",
      "        5    0.000    0.000    0.001    0.000 arraylike.py:98(__add__)\n",
      "      407    0.000    0.000    0.001    0.000 __init__.py:163(match)\n",
      "        2    0.000    0.000    0.001    0.000 threading.py:611(wait)\n",
      "        1    0.000    0.000    0.001    0.001 grouper.py:965(is_in_obj)\n",
      "       75    0.000    0.000    0.001    0.000 take.py:565(_take_preprocess_indexer_and_fill_value)\n",
      "        2    0.000    0.000    0.001    0.000 threading.py:295(wait)\n",
      "       19    0.001    0.000    0.001    0.000 utils.py:239(maybe_convert_indices)\n",
      "        1    0.000    0.000    0.001    0.001 generic.py:1864(_drop_labels_or_levels)\n",
      "        1    0.000    0.000    0.001    0.001 _renderers.py:252(_build_mime_bundle)\n",
      "       15    0.001    0.000    0.001    0.000 {method 'acquire' of '_thread.lock' objects}\n",
      "       18    0.000    0.000    0.001    0.000 base.py:6618(_maybe_cast_listlike_indexer)\n",
      "        1    0.000    0.000    0.001    0.001 _bar.py:2549(__init__)\n",
      "       60    0.000    0.000    0.001    0.000 basedatatypes.py:5946(__init__)\n",
      "       19    0.000    0.000    0.001    0.000 basedatatypes.py:5885(__contains__)\n",
      "        1    0.000    0.000    0.001    0.001 _ternary.py:965(__init__)\n",
      "        1    0.000    0.000    0.001    0.001 _base_renderers.py:88(to_mimebundle)\n",
      "        1    0.000    0.000    0.001    0.001 managers.py:1442(reduce)\n",
      "        1    0.000    0.000    0.001    0.001 _table.py:918(__init__)\n",
      "        5    0.000    0.000    0.001    0.000 concat.py:713(_get_concat_axis)\n",
      "        5    0.000    0.000    0.001    0.000 __init__.py:183(dumps)\n",
      "        1    0.000    0.000    0.001    0.001 frame.py:5196(drop)\n",
      "        1    0.000    0.000    0.001    0.001 generic.py:4680(drop)\n",
      "        1    0.000    0.000    0.001    0.001 basedatatypes.py:2942(_perform_plotly_update)\n",
      "        5    0.000    0.000    0.001    0.000 <frozen genericpath>:16(exists)\n",
      "        1    0.000    0.000    0.001    0.001 basedatatypes.py:2619(_perform_plotly_relayout)\n",
      "        5    0.000    0.000    0.001    0.000 encoder.py:183(encode)\n",
      "        5    0.000    0.000    0.001    0.000 concat.py:773(_concat_indexes)\n",
      "       12    0.000    0.000    0.001    0.000 _line.py:277(__init__)\n",
      "        5    0.001    0.000    0.001    0.000 {built-in method nt.stat}\n",
      "       37    0.000    0.000    0.001    0.000 basedatatypes.py:5963(__init__)\n",
      "       49    0.000    0.000    0.001    0.000 config.py:271(__call__)\n",
      "        5    0.000    0.000    0.001    0.000 base.py:5421(append)\n",
      "        5    0.001    0.000    0.001    0.000 encoder.py:205(iterencode)\n",
      "     6205    0.001    0.000    0.001    0.000 copy.py:182(_deepcopy_atomic)\n",
      "        1    0.000    0.000    0.001    0.001 generic.py:4719(_drop_axis)\n",
      "        2    0.000    0.000    0.001    0.000 nanops.py:76(_f)\n",
      "       30    0.000    0.000    0.001    0.000 missing.py:101(isna)\n",
      "  147/138    0.000    0.000    0.001    0.000 {built-in method builtins.all}\n",
      "        6    0.000    0.000    0.001    0.000 base.py:4327(reindex)\n",
      "        1    0.000    0.000    0.001    0.001 _carpet.py:1599(__init__)\n",
      "      141    0.001    0.000    0.001    0.000 generic.py:274(__init__)\n",
      "    33/30    0.000    0.000    0.001    0.000 basedatatypes.py:4445(_get_child_props)\n",
      "       41    0.000    0.000    0.001    0.000 basedatatypes.py:5878(__getitem__)\n",
      "        2    0.000    0.000    0.001    0.000 nanops.py:389(new_func)\n",
      "      939    0.000    0.000    0.001    0.000 <frozen importlib._bootstrap>:405(parent)\n",
      "       30    0.000    0.000    0.001    0.000 missing.py:184(_isna)\n",
      "        2    0.000    0.000    0.001    0.000 nanops.py:455(newfunc)\n",
      "       93    0.000    0.000    0.001    0.000 generic.py:335(_from_mgr)\n",
      "       74    0.000    0.000    0.001    0.000 numeric.py:274(full)\n",
      "        2    0.000    0.000    0.001    0.000 nanops.py:604(nansum)\n",
      "        1    0.000    0.000    0.001    0.001 frame.py:8116(truediv)\n",
      "        5    0.000    0.000    0.001    0.000 base.py:5457(_concat)\n",
      "       49    0.000    0.000    0.001    0.000 config.py:145(_get_option)\n",
      "       21    0.000    0.000    0.001    0.000 base.py:841(_engine)\n",
      "        1    0.000    0.000    0.001    0.001 frame.py:7981(_flex_arith_method)\n",
      "  318/109    0.000    0.000    0.001    0.000 utils.py:288(split_multichar)\n",
      "     5294    0.001    0.000    0.001    0.000 {method 'pop' of 'dict' objects}\n",
      "       12    0.000    0.000    0.001    0.000 indexing.py:2545(check_bool_indexer)\n",
      "        5    0.000    0.000    0.001    0.000 _colorbar.py:1761(__init__)\n",
      "        5    0.000    0.000    0.001    0.000 _colorbar.py:1764(__init__)\n",
      "        3    0.000    0.000    0.001    0.000 _marker.py:1382(__init__)\n",
      "        1    0.000    0.000    0.001    0.001 blocks.py:371(reduce)\n",
      "       46    0.000    0.000    0.001    0.000 managers.py:991(iget)\n",
      "      104    0.000    0.000    0.001    0.000 base.py:648(_simple_new)\n",
      "       52    0.000    0.000    0.001    0.000 base.py:3762(get_loc)\n",
      "       63    0.000    0.000    0.001    0.000 {method 'any' of 'numpy.ndarray' objects}\n",
      "        3    0.000    0.000    0.001    0.000 common.py:652(get_handle)\n",
      "        3    0.000    0.000    0.001    0.000 generic.py:4806(_update_inplace)\n",
      "        1    0.000    0.000    0.001    0.001 frame.py:11113(blk_func)\n",
      "       30    0.000    0.000    0.001    0.000 __init__.py:282(__getattr__)\n",
      "        2    0.000    0.000    0.001    0.000 _marker.py:986(__init__)\n",
      "       19    0.001    0.000    0.001    0.000 {method 'nonzero' of 'numpy.ndarray' objects}\n",
      "       17    0.000    0.000    0.001    0.000 base.py:6320(_should_compare)\n",
      "        4    0.000    0.000    0.001    0.000 generic.py:1803(_get_label_or_level_values)\n",
      "       43    0.000    0.000    0.001    0.000 frame.py:641(_constructor_from_mgr)\n",
      "  400/395    0.000    0.000    0.001    0.000 basedatatypes.py:4492(_init_props)\n",
      "        1    0.000    0.000    0.001    0.001 _scatter3d.py:2195(__init__)\n",
      "        1    0.000    0.000    0.001    0.001 _polar.py:984(__init__)\n",
      "    37/30    0.000    0.000    0.001    0.000 importers.py:23(__getattr__)\n",
      "       99    0.000    0.000    0.001    0.000 base.py:5349(__getitem__)\n",
      "       29    0.000    0.000    0.001    0.000 common.py:228(asarray_tuplesafe)\n",
      "        5    0.000    0.000    0.001    0.000 construction.py:237(ndarray_to_mgr)\n",
      "      849    0.000    0.000    0.001    0.000 generic.py:37(_check)\n",
      "      639    0.000    0.000    0.001    0.000 <frozen abc>:117(__instancecheck__)\n",
      "    73/32    0.000    0.000    0.001    0.000 basevalidators.py:27(to_scalar_or_list)\n",
      "       41    0.000    0.000    0.001    0.000 basedatatypes.py:5691(__init__)\n",
      "        3    0.000    0.000    0.001    0.000 readers.py:1782(__exit__)\n",
      "        6    0.000    0.000    0.001    0.000 range.py:1110(take)\n",
      "1500/1473    0.000    0.000    0.001    0.000 {built-in method builtins.getattr}\n",
      "        1    0.000    0.000    0.001    0.001 session.py:754(send)\n",
      "        1    0.000    0.000    0.001    0.001 _contour.py:2646(__init__)\n",
      "        1    0.000    0.000    0.000    0.000 _barpolar.py:1527(__init__)\n",
      "        3    0.000    0.000    0.000    0.000 readers.py:1450(close)\n",
      "        1    0.000    0.000    0.000    0.000 _json.py:174(to_json)\n",
      "       65    0.000    0.000    0.000    0.000 _methods.py:55(_any)\n",
      "        1    0.000    0.000    0.000    0.000 _histogram2d.py:2406(__init__)\n",
      "        1    0.000    0.000    0.000    0.000 _heatmap.py:2448(__init__)\n",
      "        1    0.000    0.000    0.000    0.000 _json.py:78(to_json_plotly)\n",
      "      937    0.000    0.000    0.000    0.000 validator_cache.py:8(get_validator)\n",
      "        1    0.000    0.000    0.000    0.000 _heatmapgl.py:1699(__init__)\n",
      "        1    0.000    0.000    0.000    0.000 _histogram2dcontour.py:2534(__init__)\n",
      "        1    0.000    0.000    0.000    0.000 _surface.py:2162(__init__)\n",
      "        2    0.000    0.000    0.000    0.000 data_grabber.py:18(check_if_tensed)\n",
      "       45    0.000    0.000    0.000    0.000 common.py:96(is_bool_indexer)\n",
      "       61    0.000    0.000    0.000    0.000 cast.py:550(maybe_promote)\n",
      "       46    0.000    0.000    0.000    0.000 frame.py:654(_constructor_sliced_from_mgr)\n",
      "       14    0.000    0.000    0.000    0.000 to_dict.py:110(<genexpr>)\n",
      "       33    0.000    0.000    0.000    0.000 managers.py:1825(from_array)\n",
      "       50    0.000    0.000    0.000    0.000 utils.py:308(split_string_positions)\n",
      "      545    0.000    0.000    0.000    0.000 {built-in method builtins.hasattr}\n",
      "        1    0.000    0.000    0.000    0.000 utils.py:48(encode)\n",
      "       24    0.000    0.000    0.000    0.000 basevalidators.py:402(validate_coerce)\n",
      "       23    0.000    0.000    0.000    0.000 managers.py:1726(is_consolidated)\n",
      "       61    0.000    0.000    0.000    0.000 base.py:5299(__contains__)\n",
      "        5    0.000    0.000    0.000    0.000 basedatatypes.py:2662(_is_key_path_compatible)\n",
      "        2    0.000    0.000    0.000    0.000 offline.py:105(_get_jconfig)\n",
      "       59    0.000    0.000    0.000    0.000 {built-in method builtins.__build_class__}\n",
      "       12    0.000    0.000    0.000    0.000 missing.py:466(array_equivalent)\n",
      "        2    0.000    0.000    0.000    0.000 tools.py:688(get_config_plotly_server_url)\n",
      "        3    0.000    0.000    0.000    0.000 series.py:4960(reindex)\n",
      "       57    0.000    0.000    0.000    0.000 base.py:69(shape)\n",
      "       65    0.000    0.000    0.000    0.000 basedatatypes.py:5822(_strip_subplot_suffix_of_1)\n",
      "       51    0.000    0.000    0.000    0.000 config.py:127(_get_single_key)\n",
      "        2    0.000    0.000    0.000    0.000 arraylike.py:42(__ne__)\n",
      "        3    0.000    0.000    0.000    0.000 generic.py:5266(reindex)\n",
      "       14    0.000    0.000    0.000    0.000 frame.py:1392(items)\n",
      "        2    0.000    0.000    0.000    0.000 _marker.py:1233(__init__)\n",
      "       23    0.000    0.000    0.000    0.000 managers.py:1734(_consolidate_check)\n",
      "        1    0.000    0.000    0.000    0.000 session.py:690(serialize)\n",
      "       25    0.000    0.000    0.000    0.000 {pandas._libs.lib.infer_dtype}\n",
      "      429    0.000    0.000    0.000    0.000 __init__.py:272(_compile)\n",
      "        1    0.000    0.000    0.000    0.000 data_grabber.py:127(list_available_features)\n",
      "     2203    0.000    0.000    0.000    0.000 {method 'startswith' of 'str' objects}\n",
      "       35    0.000    0.000    0.000    0.000 generic.py:487(_validate_dtype)\n",
      "       39    0.000    0.000    0.000    0.000 __init__.py:108(import_module)\n",
      "  124/114    0.000    0.000    0.000    0.000 basedatatypes.py:5643(_vals_equal)\n",
      "        3    0.000    0.000    0.000    0.000 _line.py:465(__init__)\n",
      "        1    0.000    0.000    0.000    0.000 base.py:6953(drop)\n",
      "        1    0.000    0.000    0.000    0.000 indexing.py:1897(_setitem_with_indexer_split_path)\n",
      "  285/271    0.000    0.000    0.000    0.000 {built-in method numpy.asarray}\n",
      "        2    0.000    0.000    0.000    0.000 _xaxis.py:3347(__init__)\n",
      "        3    0.000    0.000    0.000    0.000 _colorbar.py:1763(__init__)\n",
      "        1    0.000    0.000    0.000    0.000 _cells.py:436(__init__)\n",
      "        7    0.000    0.000    0.000    0.000 basevalidators.py:2514(validate_coerce)\n",
      "        1    0.000    0.000    0.000    0.000 concat.py:457(_concatenate_join_units)\n",
      "        3    0.000    0.000    0.000    0.000 _colorbar.py:1762(__init__)\n",
      "        3    0.000    0.000    0.000    0.000 series.py:5478(isna)\n",
      "        1    0.000    0.000    0.000    0.000 basedatatypes.py:2786(_dispatch_layout_change_callbacks)\n",
      "       24    0.000    0.000    0.000    0.000 basevalidators.py:53(copy_to_readonly_numpy_array)\n",
      "        2    0.000    0.000    0.000    0.000 _yaxis.py:3280(__init__)\n",
      "        3    0.000    0.000    0.000    0.000 generic.py:8402(isna)\n",
      "       51    0.000    0.000    0.000    0.000 {built-in method builtins.any}\n",
      "        1    0.000    0.000    0.000    0.000 indexing.py:1359(_getitem_axis)\n",
      "        1    0.000    0.000    0.000    0.000 ops.py:719(has_dropped_na)\n",
      "       12    0.000    0.000    0.000    0.000 utils.py:419(check_array_indexer)\n",
      "        1    0.000    0.000    0.000    0.000 merge.py:2637(_items_overlap_with_suffix)\n",
      "        6    0.000    0.000    0.000    0.000 basedatatypes.py:2249(<listcomp>)\n",
      "       48    0.000    0.000    0.000    0.000 common.py:1587(pandas_dtype)\n",
      "        1    0.000    0.000    0.000    0.000 merge.py:1204(_get_merge_keys)\n",
      "        1    0.000    0.000    0.000    0.000 indexing.py:2010(_setitem_with_indexer_frame_value)\n",
      "       43    0.000    0.000    0.000    0.000 generic.py:760(_set_axis)\n",
      "        1    0.000    0.000    0.000    0.000 base.py:3427(intersection)\n",
      "       77    0.000    0.000    0.000    0.000 base.py:7608(maybe_extract_name)\n",
      "        1    0.000    0.000    0.000    0.000 indexing.py:1167(_getbool_axis)\n",
      "     2255    0.000    0.000    0.000    0.000 basedatatypes.py:4634(parent)\n",
      "        1    0.000    0.000    0.000    0.000 _marker.py:985(__init__)\n",
      "        1    0.000    0.000    0.000    0.000 ops.py:727(group_info)\n",
      "       52    0.000    0.000    0.000    0.000 {method 'get_loc' of 'pandas._libs.index.IndexEngine' objects}\n",
      "        1    0.000    0.000    0.000    0.000 ops.py:742(_get_compressed_codes)\n",
      "        4    0.000    0.000    0.000    0.000 session.py:92(json_packer)\n",
      "        2    0.000    0.000    0.000    0.000 base.py:6467(isin)\n",
      "        5    0.000    0.000    0.000    0.000 basedatatypes.py:5860(_get_prop_validator)\n",
      "        1    0.000    0.000    0.000    0.000 _xaxis.py:2175(__init__)\n",
      "        1    0.000    0.000    0.000    0.000 similarity_utils.py:93(compute_weight_array)\n",
      "        1    0.000    0.000    0.000    0.000 _yaxis.py:2175(__init__)\n",
      "        1    0.000    0.000    0.000    0.000 _scattergl.py:2316(__init__)\n",
      "      522    0.000    0.000    0.000    0.000 {method 'match' of 're.Pattern' objects}\n",
      "        6    0.000    0.000    0.000    0.000 numeric.py:2378(array_equal)\n",
      "        1    0.000    0.000    0.000    0.000 _zaxis.py:2175(__init__)\n",
      "        1    0.000    0.000    0.000    0.000 _scatterpolar.py:1924(__init__)\n",
      "        2    0.000    0.000    0.000    0.000 nanops.py:1491(_maybe_null_out)\n",
      "        1    0.000    0.000    0.000    0.000 _scatterpolargl.py:1844(__init__)\n",
      "       15    0.000    0.000    0.000    0.000 managers.py:1740(<listcomp>)\n",
      "        1    0.000    0.000    0.000    0.000 _scatterternary.py:1896(__init__)\n",
      "        7    0.000    0.000    0.000    0.000 array_ops.py:242(arithmetic_op)\n",
      "        4    0.000    0.000    0.000    0.000 function_base.py:5368(insert)\n",
      "        1    0.000    0.000    0.000    0.000 _scattergeo.py:1853(__init__)\n",
      "        1    0.000    0.000    0.000    0.000 _scattermapbox.py:1725(__init__)\n",
      "        1    0.000    0.000    0.000    0.000 _scattercarpet.py:1824(__init__)\n",
      "       10    0.000    0.000    0.000    0.000 {pandas._libs.algos.take_2d_axis1_int64_int64}\n",
      "       91    0.000    0.000    0.000    0.000 indexing.py:2678(check_dict_or_set_indexers)\n",
      "       39    0.000    0.000    0.000    0.000 <frozen importlib._bootstrap>:1192(_gcd_import)\n",
      "        5    0.000    0.000    0.000    0.000 indexing.py:1006(_getitem_lowerdim)\n",
      "       32    0.000    0.000    0.000    0.000 basevalidators.py:40(<listcomp>)\n",
      "        4    0.000    0.000    0.000    0.000 generic.py:4094(xs)\n",
      "       48    0.000    0.000    0.000    0.000 basevalidators.py:601(validate_coerce)\n",
      "        1    0.000    0.000    0.000    0.000 {built-in method builtins.round}\n",
      "        1    0.000    0.000    0.000    0.000 frame.py:7815(_align_for_op)\n",
      "      639    0.000    0.000    0.000    0.000 {built-in method _abc._abc_instancecheck}\n",
      "        1    0.000    0.000    0.000    0.000 _parcoords.py:1037(__init__)\n",
      "       53    0.000    0.000    0.000    0.000 common.py:137(is_object_dtype)\n",
      "        1    0.000    0.000    0.000    0.000 generic.py:1661(__round__)\n",
      "       54    0.000    0.000    0.000    0.000 series.py:703(name)\n",
      "      465    0.000    0.000    0.000    0.000 base.py:908(__len__)\n",
      "       21    0.000    0.000    0.000    0.000 base.py:2723(inferred_type)\n",
      "        1    0.000    0.000    0.000    0.000 _histogram.py:2477(__init__)\n",
      "        8    0.000    0.000    0.000    0.000 base.py:5391(_getitem_slice)\n",
      "        1    0.000    0.000    0.000    0.000 grouper.py:949(is_in_axis)\n",
      "        1    0.000    0.000    0.000    0.000 series.py:2655(round)\n",
      "        5    0.000    0.000    0.000    0.000 basedatatypes.py:1849(_set_in)\n",
      "       36    0.000    0.000    0.000    0.000 base.py:5152(_get_engine_target)\n",
      "        5    0.000    0.000    0.000    0.000 concat.py:403(__init__)\n",
      "       37    0.000    0.000    0.000    0.000 _dtype.py:346(_name_get)\n",
      "        7    0.000    0.000    0.000    0.000 missing.py:261(_isna_array)\n",
      "       16    0.000    0.000    0.000    0.000 {method 'all' of 'numpy.ndarray' objects}\n",
      "       46    0.000    0.000    0.000    0.000 frame.py:651(_sliced_from_mgr)\n",
      "        1    0.000    0.000    0.000    0.000 _aaxis.py:1975(__init__)\n",
      "        1    0.000    0.000    0.000    0.000 base.py:1301(__repr__)\n",
      "       16    0.000    0.000    0.000    0.000 {built-in method builtins.sorted}\n",
      "        7    0.000    0.000    0.000    0.000 {built-in method numpy.arange}\n",
      "        1    0.000    0.000    0.000    0.000 _geo.py:1273(__init__)\n",
      "        1    0.000    0.000    0.000    0.000 _baxis.py:1975(__init__)\n",
      "        2    0.000    0.000    0.000    0.000 _colorbar.py:1765(__init__)\n",
      "       13    0.000    0.000    0.000    0.000 _asarray.py:27(require)\n",
      "        1    0.000    0.000    0.000    0.000 grouper.py:689(codes)\n",
      "        1    0.000    0.000    0.000    0.000 missing.py:633(maybe_fill)\n",
      "        2    0.000    0.000    0.000    0.000 {method 'fill' of 'numpy.ndarray' objects}\n",
      "       77    0.000    0.000    0.000    0.000 common.py:1425(_is_dtype_type)\n",
      "       13    0.000    0.000    0.000    0.000 managers.py:569(<listcomp>)\n",
      "        1    0.000    0.000    0.000    0.000 grouper.py:743(_codes_and_uniques)\n",
      "        2    0.000    0.000    0.000    0.000 _colorbar.py:1760(__init__)\n",
      "        1    0.000    0.000    0.000    0.000 _header.py:436(__init__)\n",
      "        4    0.000    0.000    0.000    0.000 series.py:6090(_reduce)\n",
      "      2/1    0.000    0.000    0.000    0.000 algorithms.py:610(factorize)\n",
      "      171    0.000    0.000    0.000    0.000 base.py:71(<genexpr>)\n",
      "        1    0.000    0.000    0.000    0.000 {built-in method nt.listdir}\n",
      "        3    0.000    0.000    0.000    0.000 c_parser_wrapper.py:194(close)\n",
      "       16    0.000    0.000    0.000    0.000 _methods.py:61(_all)\n",
      "        5    0.000    0.000    0.000    0.000 construction.py:742(_get_axes)\n",
      "        1    0.000    0.000    0.000    0.000 base.py:1177(factorize)\n",
      "        1    0.000    0.000    0.000    0.000 frame.py:7725(_combine_frame)\n",
      "        1    0.000    0.000    0.000    0.000 frame.py:7649(_dispatch_frame_op)\n",
      "        3    0.000    0.000    0.000    0.000 common.py:121(close)\n",
      "       70    0.000    0.000    0.000    0.000 basevalidators.py:186(is_homogeneous_array)\n",
      "      226    0.000    0.000    0.000    0.000 <frozen codecs>:331(getstate)\n",
      "        1    0.000    0.000    0.000    0.000 series.py:1016(__getitem__)\n",
      "       29    0.000    0.000    0.000    0.000 {method 'astype' of 'numpy.ndarray' objects}\n",
      "        1    0.000    0.000    0.000    0.000 base.py:1335(_format_data)\n",
      "        1    0.000    0.000    0.000    0.000 accessor.py:247(__getitem__)\n",
      "       26    0.000    0.000    0.000    0.000 managers.py:566(copy_func)\n",
      "        3    0.000    0.000    0.000    0.000 {method 'close' of 'pandas._libs.parsers.TextReader' objects}\n",
      "       28    0.000    0.000    0.000    0.000 construction.py:753(_try_cast)\n",
      "      112    0.000    0.000    0.000    0.000 construction.py:683(_sanitize_ndim)\n",
      "        1    0.000    0.000    0.000    0.000 arraylike.py:200(__mul__)\n",
      "        1    0.000    0.000    0.000    0.000 basedatatypes.py:2722(_build_dispatch_plan)\n",
      "        1    0.000    0.000    0.000    0.000 base.py:3513(_intersection)\n",
      "      125    0.000    0.000    0.000    0.000 basevalidators.py:217(is_array)\n",
      "        3    0.000    0.000    0.000    0.000 {built-in method io.open}\n",
      "  407/399    0.000    0.000    0.000    0.000 basedatatypes.py:5175(_in_batch_mode)\n",
      "        3    0.000    0.000    0.000    0.000 common.py:289(_get_filepath_or_buffer)\n",
      "        1    0.000    0.000    0.000    0.000 _contourcarpet.py:1946(__init__)\n",
      "        1    0.000    0.000    0.000    0.000 _mesh3d.py:2573(__init__)\n",
      "      291    0.000    0.000    0.000    0.000 {pandas._libs.lib.is_list_like}\n",
      "        1    0.000    0.000    0.000    0.000 _choropleth.py:1825(__init__)\n",
      "       14    0.000    0.000    0.000    0.000 blocks.py:2375(new_block_2d)\n",
      "        4    0.000    0.000    0.000    0.000 managers.py:1758(concat_horizontal)\n",
      "        3    0.000    0.000    0.000    0.000 {method 'close' of '_io.TextIOWrapper' objects}\n",
      "  241/236    0.000    0.000    0.000    0.000 basedatatypes.py:5949(_send_prop_set)\n",
      "        1    0.000    0.000    0.000    0.000 managers.py:1466(operate_blockwise)\n",
      "       13    0.000    0.000    0.000    0.000 <frozen importlib._bootstrap>:1207(_handle_fromlist)\n",
      "        1    0.000    0.000    0.000    0.000 merge.py:999(_maybe_add_join_keys)\n",
      "        6    0.000    0.000    0.000    0.000 _title.py:136(__init__)\n",
      "       60    0.000    0.000    0.000    0.000 common.py:1562(validate_all_hashable)\n",
      "       24    0.000    0.000    0.000    0.000 common.py:1066(is_numeric_dtype)\n",
      "        1    0.000    0.000    0.000    0.000 ops.py:57(operate_blockwise)\n",
      "       22    0.000    0.000    0.000    0.000 managers.py:2212(<lambda>)\n",
      "        1    0.000    0.000    0.000    0.000 printing.py:284(format_object_summary)\n",
      "       73    0.000    0.000    0.000    0.000 numeric.py:1855(isscalar)\n",
      "        1    0.000    0.000    0.000    0.000 _coloraxis.py:592(__init__)\n",
      "        6    0.000    0.000    0.000    0.000 generic.py:5509(<genexpr>)\n",
      "        1    0.000    0.000    0.000    0.000 _marker.py:1360(__init__)\n",
      "        5    0.000    0.000    0.000    0.000 iostream.py:258(schedule)\n",
      "        1    0.000    0.000    0.000    0.000 _marker.py:1054(__init__)\n",
      "        1    0.000    0.000    0.000    0.000 {method 'round' of 'numpy.ndarray' objects}\n",
      "      227    0.000    0.000    0.000    0.000 inference.py:334(is_hashable)\n",
      "        2    0.000    0.000    0.000    0.000 _pattern.py:417(__init__)\n",
      "       26    0.000    0.000    0.000    0.000 base.py:1009(view)\n",
      "        1    0.000    0.000    0.000    0.000 _line.py:791(__init__)\n",
      "        1    0.000    0.000    0.000    0.000 _marker.py:1070(__init__)\n",
      "        1    0.000    0.000    0.000    0.000 _line.py:743(__init__)\n",
      "        1    0.000    0.000    0.000    0.000 _caxis.py:1500(__init__)\n",
      "       17    0.000    0.000    0.000    0.000 base.py:6342(_is_comparable_dtype)\n",
      "       48    0.000    0.000    0.000    0.000 blocks.py:2317(maybe_coerce_values)\n",
      "        6    0.000    0.000    0.000    0.000 basedatatypes.py:4605(_get_prop_validator)\n",
      "       43    0.000    0.000    0.000    0.000 managers.py:225(set_axis)\n",
      "      117    0.000    0.000    0.000    0.000 copy.py:66(copy)\n",
      "        1    0.000    0.000    0.000    0.000 base.py:3547(_intersection_via_get_indexer)\n",
      "      939    0.000    0.000    0.000    0.000 {method 'rpartition' of 'str' objects}\n",
      "       38    0.000    0.000    0.000    0.000 blocks.py:2388(new_block)\n",
      "        1    0.000    0.000    0.000    0.000 _shape.py:1045(__init__)\n",
      "       14    0.000    0.000    0.000    0.000 basevalidators.py:1884(validate_coerce)\n",
      "       11    0.000    0.000    0.000    0.000 blocks.py:198(_consolidate_key)\n",
      "       30    0.000    0.000    0.000    0.000 base.py:772(_view)\n",
      "       62    0.000    0.000    0.000    0.000 blocks.py:265(make_block_same_class)\n",
      "        3    0.000    0.000    0.000    0.000 base.py:5609(identical)\n",
      "        1    0.000    0.000    0.000    0.000 _aaxis.py:1500(__init__)\n",
      "        5    0.000    0.000    0.000    0.000 generic.py:1704(_is_label_reference)\n",
      "       59    0.000    0.000    0.000    0.000 basedatatypes.py:75(_make_hyphen_key)\n",
      "       98    0.000    0.000    0.000    0.000 series.py:626(dtype)\n",
      "       20    0.000    0.000    0.000    0.000 {method 'max' of 'numpy.ndarray' objects}\n",
      "       41    0.000    0.000    0.000    0.000 managers.py:931(from_blocks)\n",
      "        1    0.000    0.000    0.000    0.000 series.py:6191(sum)\n",
      "       88    0.000    0.000    0.000    0.000 series.py:750(_values)\n",
      "        1    0.000    0.000    0.000    0.000 _angularaxis.py:1684(__init__)\n",
      "        1    0.000    0.000    0.000    0.000 _radialaxis.py:1972(__init__)\n",
      "  166/163    0.000    0.000    0.000    0.000 basedatatypes.py:5694(_send_prop_set)\n",
      "        1    0.000    0.000    0.000    0.000 merge.py:2577(_get_join_keys)\n",
      "      505    0.000    0.000    0.000    0.000 optional_imports.py:13(get_module)\n",
      "        1    0.000    0.000    0.000    0.000 _baxis.py:1500(__init__)\n",
      "       14    0.000    0.000    0.000    0.000 basevalidators.py:1864(vc_scalar)\n",
      "       40    0.000    0.000    0.000    0.000 basevalidators.py:762(validate_coerce)\n",
      "        5    0.000    0.000    0.000    0.000 socket.py:621(send)\n",
      "        1    0.000    0.000    0.000    0.000 {pandas._libs.algos.take_2d_axis0_int64_float64}\n",
      "       65    0.000    0.000    0.000    0.000 blocks.py:2346(get_block_type)\n",
      "        1    0.000    0.000    0.000    0.000 basevalidators.py:1491(validate_coerce)\n",
      "       37    0.000    0.000    0.000    0.000 blocks.py:226(fill_value)\n",
      "        2    0.000    0.000    0.000    0.000 base.py:2208(is_monotonic_increasing)\n",
      "        6    0.000    0.000    0.000    0.000 base.py:6133(_raise_if_missing)\n",
      "        2    0.000    0.000    0.000    0.000 _line.py:147(__init__)\n",
      "        4    0.000    0.000    0.000    0.000 range.py:134(__new__)\n",
      "       12    0.000    0.000    0.000    0.000 utils.py:85(default)\n",
      "        6    0.000    0.000    0.000    0.000 algorithms.py:217(_ensure_arraylike)\n",
      "        5    0.000    0.000    0.000    0.000 indexing.py:931(_validate_tuple_indexer)\n",
      "        1    0.000    0.000    0.000    0.000 frame.py:7953(_maybe_align_series_as_frame)\n",
      "        1    0.000    0.000    0.000    0.000 indexing.py:728(_get_setitem_indexer)\n",
      "       76    0.000    0.000    0.000    0.000 common.py:556(require_length_match)\n",
      "     1297    0.000    0.000    0.000    0.000 {method 'items' of 'dict' objects}\n",
      "       20    0.000    0.000    0.000    0.000 _methods.py:39(_amax)\n",
      "        2    0.000    0.000    0.000    0.000 generic.py:4277(_getitem_slice)\n",
      "       10    0.000    0.000    0.000    0.000 generic.py:1731(<genexpr>)\n",
      "        1    0.000    0.000    0.000    0.000 __init__.py:299(loads)\n",
      "      104    0.000    0.000    0.000    0.000 {method 'add_index_reference' of 'pandas._libs.internals.BlockValuesRefs' objects}\n",
      "       84    0.000    0.000    0.000    0.000 generic.py:562(_get_axis)\n",
      "        8    0.000    0.000    0.000    0.000 basedatatypes.py:5420(_prop_set_child)\n",
      "        1    0.000    0.000    0.000    0.000 decoder.py:332(decode)\n",
      "      233    0.000    0.000    0.000    0.000 __init__.py:33(using_copy_on_write)\n",
      "        2    0.000    0.000    0.000    0.000 _fill.py:107(__init__)\n",
      "      118    0.000    0.000    0.000    0.000 utils.py:398(_rev)\n",
      "      124    0.000    0.000    0.000    0.000 construction.py:484(ensure_wrapped_if_datetimelike)\n",
      "       43    0.000    0.000    0.000    0.000 warnings.py:467(__enter__)\n",
      "        1    0.000    0.000    0.000    0.000 series.py:1135(_get_rows_with_mask)\n",
      "       62    0.000    0.000    0.000    0.000 managers.py:896(__init__)\n",
      "       43    0.000    0.000    0.000    0.000 base.py:73(_validate_set_axis)\n",
      "       45    0.000    0.000    0.000    0.000 series.py:1372(_set_as_cached)\n",
      "        4    0.000    0.000    0.000    0.000 numeric.py:1393(moveaxis)\n",
      "       22    0.000    0.000    0.000    0.000 common.py:81(get_op_result_name)\n",
      "      141    0.000    0.000    0.000    0.000 flags.py:53(__init__)\n",
      "      143    0.000    0.000    0.000    0.000 construction.py:419(extract_array)\n",
      "       49    0.000    0.000    0.000    0.000 config.py:686(_warn_if_deprecated)\n",
      "       75    0.000    0.000    0.000    0.000 series.py:653(name)\n",
      "       49    0.000    0.000    0.000    0.000 blocks.py:2467(extend_blocks)\n",
      "        1    0.000    0.000    0.000    0.000 decoder.py:343(raw_decode)\n",
      "       16    0.000    0.000    0.000    0.000 base.py:6250(_maybe_promote)\n",
      "       26    0.000    0.000    0.000    0.000 common.py:1183(is_bool_dtype)\n",
      "       20    0.000    0.000    0.000    0.000 series.py:708(values)\n",
      "       50    0.000    0.000    0.000    0.000 blocks.py:192(_can_consolidate)\n",
      "       49    0.000    0.000    0.000    0.000 config.py:633(_get_root)\n",
      "       98    0.000    0.000    0.000    0.000 managers.py:1949(dtype)\n",
      "       16    0.000    0.000    0.000    0.000 inference.py:273(is_dict_like)\n",
      "        4    0.000    0.000    0.000    0.000 base.py:1242(copy)\n",
      "        2    0.000    0.000    0.000    0.000 range.py:234(_data)\n",
      "        4    0.000    0.000    0.000    0.000 managers.py:1371(_insert_update_blklocs_and_blknos)\n",
      "       45    0.000    0.000    0.000    0.000 inference.py:195(is_array_like)\n",
      "        1    0.000    0.000    0.000    0.000 managers.py:1916(get_rows_with_mask)\n",
      "       38    0.000    0.000    0.000    0.000 basedatatypes.py:722(__getitem__)\n",
      "        3    0.000    0.000    0.000    0.000 series.py:6131(any)\n",
      "        2    0.000    0.000    0.000    0.000 nanops.py:253(_get_values)\n",
      "        1    0.000    0.000    0.000    0.000 indexing.py:2062(_setitem_single_column)\n",
      "        1    0.000    0.000    0.000    0.000 generic.py:9845(align)\n",
      "      255    0.000    0.000    0.000    0.000 base.py:5126(_values)\n",
      "       28    0.000    0.000    0.000    0.000 basevalidators.py:1045(validate_coerce)\n",
      "        3    0.000    0.000    0.000    0.000 _title.py:376(__init__)\n",
      "        7    0.000    0.000    0.000    0.000 <frozen ntpath>:107(join)\n",
      "        5    0.000    0.000    0.000    0.000 cast.py:1569(maybe_cast_to_integer_array)\n",
      "      716    0.000    0.000    0.000    0.000 {method 'replace' of 'str' objects}\n",
      "      110    0.000    0.000    0.000    0.000 _layout.py:59(_subplot_re_match)\n",
      "       20    0.000    0.000    0.000    0.000 managers.py:1956(external_values)\n",
      "       88    0.000    0.000    0.000    0.000 managers.py:1960(internal_values)\n",
      "      170    0.000    0.000    0.000    0.000 range.py:963(__len__)\n",
      "        1    0.000    0.000    0.000    0.000 indexing.py:959(_convert_tuple)\n",
      "        1    0.000    0.000    0.000    0.000 base.py:37(_str_getitem)\n",
      "       50    0.000    0.000    0.000    0.000 utils.py:11(cumsum)\n",
      "        1    0.000    0.000    0.000    0.000 {built-in method _operator.truediv}\n",
      "        5    0.000    0.000    0.000    0.000 managers.py:918(_verify_integrity)\n",
      "        1    0.000    0.000    0.000    0.000 managers.py:1279(column_setitem)\n",
      "      100    0.000    0.000    0.000    0.000 config.py:647(_get_deprecated_option)\n",
      "        1    0.000    0.000    0.000    0.000 object_array.py:304(_str_slice)\n",
      "      209    0.000    0.000    0.000    0.000 utils.py:304(<lambda>)\n",
      "        1    0.000    0.000    0.000    0.000 indexing.py:963(<listcomp>)\n",
      "      220    0.000    0.000    0.000    0.000 {pandas._libs.lib.is_np_dtype}\n",
      "      440    0.000    0.000    0.000    0.000 {built-in method builtins.issubclass}\n",
      "       72    0.000    0.000    0.000    0.000 common.py:1322(is_ea_or_datetimelike_dtype)\n",
      "        1    0.000    0.000    0.000    0.000 object_array.py:46(_str_map)\n",
      "       10    0.000    0.000    0.000    0.000 indexing.py:1536(_validate_key)\n",
      "       48    0.000    0.000    0.000    0.000 basevalidators.py:584(in_values)\n",
      "       14    0.000    0.000    0.000    0.000 _ufunc_config.py:33(seterr)\n",
      "      120    0.000    0.000    0.000    0.000 flags.py:89(allows_duplicate_labels)\n",
      "        2    0.000    0.000    0.000    0.000 indexing.py:1414(_convert_to_indexer)\n",
      "      112    0.000    0.000    0.000    0.000 construction.py:722(_sanitize_str_dtypes)\n",
      "       59    0.000    0.000    0.000    0.000 blocks.py:187(is_extension)\n",
      "        1    0.000    0.000    0.000    0.000 basevalidators.py:1497(<listcomp>)\n",
      "        2    0.000    0.000    0.000    0.000 data_grabber.py:11(find_repo_root)\n",
      "        1    0.000    0.000    0.000    0.000 range.py:973(__getitem__)\n",
      "        1    0.000    0.000    0.000    0.000 managers.py:1977(setitem_inplace)\n",
      "        3    0.000    0.000    0.000    0.000 base_parser.py:190(_validate_parse_dates_presence)\n",
      "        1    0.000    0.000    0.000    0.000 _fillpattern.py:417(__init__)\n",
      "        4    0.000    0.000    0.000    0.000 concat.py:572(_is_uniform_join_units)\n",
      "        2    0.000    0.000    0.000    0.000 basedatatypes.py:5731(__init__)\n",
      "        2    0.000    0.000    0.000    0.000 codeop.py:120(__call__)\n",
      "        8    0.000    0.000    0.000    0.000 function_base.py:5562(append)\n",
      "        1    0.000    0.000    0.000    0.000 accessor.py:254(_wrap_result)\n",
      "        1    0.000    0.000    0.000    0.000 base.py:310(setitem_inplace)\n",
      "       75    0.000    0.000    0.000    0.000 take.py:326(_get_take_nd_function)\n",
      "       16    0.000    0.000    0.000    0.000 range.py:198(_simple_new)\n",
      "        2    0.000    0.000    0.000    0.000 nanops.py:209(_maybe_get_mask)\n",
      "      229    0.000    0.000    0.000    0.000 {built-in method __new__ of type object at 0x00007FFF66720FD0}\n",
      "        3    0.000    0.000    0.000    0.000 base_parser.py:114(__init__)\n",
      "       32    0.000    0.000    0.000    0.000 basedatatypes.py:2535(layout)\n",
      "       39    0.000    0.000    0.000    0.000 <frozen importlib._bootstrap>:1165(_find_and_load)\n",
      "       14    0.000    0.000    0.000    0.000 base.py:836(__iter__)\n",
      "       37    0.000    0.000    0.000    0.000 <frozen importlib._bootstrap>:1035(_resolve_name)\n",
      "        7    0.000    0.000    0.000    0.000 _ufunc_config.py:430(__enter__)\n",
      "        1    0.000    0.000    0.000    0.000 concat.py:526(_get_empty_dtype)\n",
      "       20    0.000    0.000    0.000    0.000 __init__.py:198(split)\n",
      "       87    0.000    0.000    0.000    0.000 basevalidators.py:178(is_numpy_convertable)\n",
      "        1    0.000    0.000    0.000    0.000 generic.py:10183(_align_series)\n",
      "       69    0.000    0.000    0.000    0.000 generic.py:6189(__getattr__)\n",
      "        2    0.000    0.000    0.000    0.000 {built-in method _operator.ne}\n",
      "      101    0.000    0.000    0.000    0.000 common.py:367(apply_if_callable)\n",
      "       28    0.000    0.000    0.000    0.000 c_parser_wrapper.py:367(<listcomp>)\n",
      "      120    0.000    0.000    0.000    0.000 common.py:1581(<genexpr>)\n",
      "        5    0.000    0.000    0.000    0.000 base.py:1682(_validate_names)\n",
      "      301    0.000    0.000    0.000    0.000 {method 'split' of 'str' objects}\n",
      "       37    0.000    0.000    0.000    0.000 missing.py:642(na_value_for_dtype)\n",
      "        4    0.000    0.000    0.000    0.000 managers.py:1361(_insert_update_mgr_locs)\n",
      "        5    0.000    0.000    0.000    0.000 basedatatypes.py:5460(_restyle_child)\n",
      "        5    0.000    0.000    0.000    0.000 construction.py:487(<listcomp>)\n",
      "       37    0.000    0.000    0.000    0.000 _dtype.py:330(_name_includes_bit_suffix)\n",
      "        1    0.000    0.000    0.000    0.000 _error_x.py:445(__init__)\n",
      "      112    0.000    0.000    0.000    0.000 construction.py:742(_maybe_repeat)\n",
      "       36    0.000    0.000    0.000    0.000 base.py:573(_ensure_array)\n",
      "        6    0.000    0.000    0.000    0.000 common.py:1194(is_potential_multi_index)\n",
      "        2    0.000    0.000    0.000    0.000 pathlib.py:868(__new__)\n",
      "        1    0.000    0.000    0.000    0.000 _annotation.py:1541(__init__)\n",
      "      147    0.000    0.000    0.000    0.000 basevalidators.py:210(is_simple_array)\n",
      "       15    0.000    0.000    0.000    0.000 warnings.py:182(_add_filter)\n",
      "        2    0.000    0.000    0.000    0.000 {built-in method builtins.compile}\n",
      "       15    0.000    0.000    0.000    0.000 {pandas._libs.algos.take_1d_int64_int64}\n",
      "       20    0.000    0.000    0.000    0.000 blocks.py:222(external_values)\n",
      "        5    0.000    0.000    0.000    0.000 fromnumeric.py:53(_wrapfunc)\n",
      "       94    0.000    0.000    0.000    0.000 common.py:149(cast_scalar_indexer)\n",
      "       10    0.000    0.000    0.000    0.000 warnings.py:166(simplefilter)\n",
      "      157    0.000    0.000    0.000    0.000 generic.py:548(_get_axis_number)\n",
      "        2    0.000    0.000    0.000    0.000 pathlib.py:504(_from_parts)\n",
      "      288    0.000    0.000    0.000    0.000 {built-in method builtins.hash}\n",
      "       18    0.000    0.000    0.000    0.000 series.py:821(__len__)\n",
      "       84    0.000    0.000    0.000    0.000 {built-in method pandas._libs.missing.checknull}\n",
      "        1    0.000    0.000    0.000    0.000 algorithms.py:548(factorize_array)\n",
      "      141    0.000    0.000    0.000    0.000 {method 'clear' of 'dict' objects}\n",
      "       17    0.000    0.000    0.000    0.000 indexing.py:1629(_validate_integer)\n",
      "        3    0.000    0.000    0.000    0.000 readers.py:1455(_get_options_with_defaults)\n",
      "        3    0.000    0.000    0.000    0.000 readers.py:1513(_clean_options)\n",
      "        1    0.000    0.000    0.000    0.000 _error_y.py:424(__init__)\n",
      "        3    0.000    0.000    0.000    0.000 fromnumeric.py:71(_wrapreduction)\n",
      "      111    0.000    0.000    0.000    0.000 base.py:1656(name)\n",
      "       34    0.000    0.000    0.000    0.000 generic.py:568(_get_block_manager_axis)\n",
      "        4    0.000    0.000    0.000    0.000 blocks.py:247(make_block)\n",
      "        3    0.000    0.000    0.000    0.000 nanops.py:482(nanany)\n",
      "       36    0.000    0.000    0.000    0.000 base.py:591(_dtype_to_subclass)\n",
      "       18    0.000    0.000    0.000    0.000 frame.py:966(shape)\n",
      "        1    0.000    0.000    0.000    0.000 data_grabber.py:72(__init__)\n",
      "        1    0.000    0.000    0.000    0.000 printing.py:386(<listcomp>)\n",
      "       66    0.000    0.000    0.000    0.000 base.py:790(is_)\n",
      "        3    0.000    0.000    0.000    0.000 basedatatypes.py:5469(_relayout_child)\n",
      "        3    0.000    0.000    0.000    0.000 fromnumeric.py:1025(argsort)\n",
      "        1    0.000    0.000    0.000    0.000 _font.py:144(__init__)\n",
      "        1    0.000    0.000    0.000    0.000 concat.py:126(<listcomp>)\n",
      "        1    0.000    0.000    0.000    0.000 _pie.py:1866(__init__)\n",
      "      102    0.000    0.000    0.000    0.000 basevalidators.py:2450(data_class)\n",
      "        2    0.000    0.000    0.000    0.000 generic.py:2010(__contains__)\n",
      "       43    0.000    0.000    0.000    0.000 warnings.py:441(__init__)\n",
      "        1    0.000    0.000    0.000    0.000 concat.py:296(_get_combined_plan)\n",
      "       19    0.000    0.000    0.000    0.000 dispatch.py:17(should_extension_dispatch)\n",
      "        2    0.000    0.000    0.000    0.000 astype.py:158(astype_array)\n",
      "        1    0.000    0.000    0.000    0.000 iostream.py:342(send_multipart)\n",
      "     14/4    0.000    0.000    0.000    0.000 basedatatypes.py:5676(<genexpr>)\n",
      "      118    0.000    0.000    0.000    0.000 utils.py:399(<listcomp>)\n",
      "        8    0.000    0.000    0.000    0.000 numeric.py:1330(normalize_axis_tuple)\n",
      "       10    0.000    0.000    0.000    0.000 printing.py:275(default_pprint)\n",
      "        5    0.000    0.000    0.000    0.000 concat.py:543(_get_sample_object)\n",
      "        1    0.000    0.000    0.000    0.000 accessor.py:220(__get__)\n",
      "        1    0.000    0.000    0.000    0.000 iostream.py:270(send_multipart)\n",
      "       15    0.000    0.000    0.000    0.000 common.py:296(maybe_iterable_to_list)\n",
      "        1    0.000    0.000    0.000    0.000 session.py:675(sign)\n",
      "       25    0.000    0.000    0.000    0.000 traitlets.py:677(__get__)\n",
      "        2    0.000    0.000    0.000    0.000 version.py:186(__init__)\n",
      "        2    0.000    0.000    0.000    0.000 pathlib.py:484(_parse_args)\n",
      "        1    0.000    0.000    0.000    0.000 grouper.py:720(group_index)\n",
      "      120    0.000    0.000    0.000    0.000 base.py:830(_reset_identity)\n",
      "        5    0.000    0.000    0.000    0.000 concat.py:478(_get_ndims)\n",
      "      131    0.000    0.000    0.000    0.000 base.py:3794(<genexpr>)\n",
      "      106    0.000    0.000    0.000    0.000 {pandas._libs.lib.is_scalar}\n",
      "        2    0.000    0.000    0.000    0.000 _title.py:125(__init__)\n",
      "       14    0.000    0.000    0.000    0.000 blocks.py:297(slice_block_columns)\n",
      "       10    0.000    0.000    0.000    0.000 numerictypes.py:357(issubdtype)\n",
      "        1    0.000    0.000    0.000    0.000 astype.py:56(_astype_nansafe)\n",
      "       14    0.000    0.000    0.000    0.000 <frozen ntpath>:154(splitdrive)\n",
      "        1    0.000    0.000    0.000    0.000 accessor.py:187(__init__)\n",
      "       21    0.000    0.000    0.000    0.000 base.py:458(_engine_type)\n",
      "        5    0.000    0.000    0.000    0.000 api.py:379(default_index)\n",
      "       32    0.000    0.000    0.000    0.000 common.py:1025(needs_i8_conversion)\n",
      "       13    0.000    0.000    0.000    0.000 _asarray.py:108(<setcomp>)\n",
      "       20    0.000    0.000    0.000    0.000 blocks.py:2586(external_values)\n",
      "       21    0.000    0.000    0.000    0.000 frame.py:4399(_clear_item_cache)\n",
      "       13    0.000    0.000    0.000    0.000 basedatatypes.py:2431(_get_child_props)\n",
      "       10    0.000    0.000    0.000    0.000 printing.py:162(pprint_thing)\n",
      "        6    0.000    0.000    0.000    0.000 missing.py:564(_array_equivalent_object)\n",
      "       43    0.000    0.000    0.000    0.000 warnings.py:488(__exit__)\n",
      "        5    0.000    0.000    0.000    0.000 concat.py:492(_clean_keys_and_objs)\n",
      "       48    0.000    0.000    0.000    0.000 basevalidators.py:511(perform_replacemenet)\n",
      "        8    0.000    0.000    0.000    0.000 concat.py:389(is_na)\n",
      "       23    0.000    0.000    0.000    0.000 generic.py:4314(_set_is_copy)\n",
      "        6    0.000    0.000    0.000    0.000 basedatatypes.py:942(data)\n",
      "       28    0.000    0.000    0.000    0.000 base.py:2755(_is_multi)\n",
      "        1    0.000    0.000    0.000    0.000 data_grabber.py:25(__init__)\n",
      "        4    0.000    0.000    0.000    0.000 missing.py:305(_isna_string_dtype)\n",
      "        2    0.000    0.000    0.000    0.000 base.py:3014(unique)\n",
      "        6    0.000    0.000    0.000    0.000 common.py:1155(_is_binary_mode)\n",
      "        1    0.000    0.000    0.000    0.000 frame.py:8013(_construct_result)\n",
      "        3    0.000    0.000    0.000    0.000 common.py:538(infer_compression)\n",
      "        1    0.000    0.000    0.000    0.000 console.py:9(get_console_size)\n",
      "        3    0.000    0.000    0.000    0.000 c_parser_wrapper.py:201(_set_noconvert_columns)\n",
      "        3    0.000    0.000    0.000    0.000 common.py:145(is_url)\n",
      "      150    0.000    0.000    0.000    0.000 {pandas._libs.algos.ensure_platform_int}\n",
      "        5    0.000    0.000    0.000    0.000 base.py:5452(<setcomp>)\n",
      "       28    0.000    0.000    0.000    0.000 c_parser_wrapper.py:369(<setcomp>)\n",
      "       51    0.000    0.000    0.000    0.000 config.py:674(_translate_key)\n",
      "        2    0.000    0.000    0.000    0.000 base.py:3417(_wrap_setop_result)\n",
      "       90    0.000    0.000    0.000    0.000 utils.py:412(__call__)\n",
      "       40    0.000    0.000    0.000    0.000 managers.py:2124(_grouping_func)\n",
      "       90    0.000    0.000    0.000    0.000 basedatatypes.py:84(_make_underscore_key)\n",
      "       51    0.000    0.000    0.000    0.000 config.py:615(_select_options)\n",
      "       90    0.000    0.000    0.000    0.000 utils.py:16(_reducer)\n",
      "        1    0.000    0.000    0.000    0.000 _layout.py:3589(template)\n",
      "        3    0.000    0.000    0.000    0.000 cast.py:1400(find_common_type)\n",
      "      245    0.000    0.000    0.000    0.000 generic.py:393(flags)\n",
      "       13    0.000    0.000    0.000    0.000 series.py:905(__array__)\n",
      "        1    0.000    0.000    0.000    0.000 _hoverlabel.py:310(__init__)\n",
      "        2    0.000    0.000    0.000    0.000 construction.py:638(_extract_index)\n",
      "       18    0.000    0.000    0.000    0.000 base.py:3989(_check_indexing_method)\n",
      "        2    0.000    0.000    0.000    0.000 pathlib.py:56(parse_parts)\n",
      "        3    0.000    0.000    0.000    0.000 common.py:1223(dedup_names)\n",
      "        1    0.000    0.000    0.000    0.000 algorithms.py:1532(safe_sort)\n",
      "       85    0.000    0.000    0.000    0.000 managers.py:1799(__init__)\n",
      "      141    0.000    0.000    0.000    0.000 {pandas._libs.lib.is_integer}\n",
      "        5    0.000    0.000    0.000    0.000 concat.py:565(<listcomp>)\n",
      "        6    0.000    0.000    0.000    0.000 common.py:233(stringify_path)\n",
      "        1    0.000    0.000    0.000    0.000 animation.py:5(__init__)\n",
      "       18    0.000    0.000    0.000    0.000 base.py:61(__len__)\n",
      "        5    0.000    0.000    0.000    0.000 warnings.py:131(filterwarnings)\n",
      "        6    0.000    0.000    0.000    0.000 {method 'min' of 'numpy.ndarray' objects}\n",
      "        1    0.000    0.000    0.000    0.000 _line.py:134(__init__)\n",
      "        1    0.000    0.000    0.000    0.000 cast.py:1483(construct_1d_arraylike_from_scalar)\n",
      "      311    0.000    0.000    0.000    0.000 {method 'lower' of 'str' objects}\n",
      "        1    0.000    0.000    0.000    0.000 _mapbox.py:511(__init__)\n",
      "      123    0.000    0.000    0.000    0.000 {method 'copy' of 'dict' objects}\n",
      "        5    0.000    0.000    0.000    0.000 managers.py:2042(create_block_manager_from_blocks)\n",
      "       39    0.000    0.000    0.000    0.000 <frozen importlib._bootstrap>:1101(_sanity_check)\n",
      "      209    0.000    0.000    0.000    0.000 {method 'pop' of 'list' objects}\n",
      "       28    0.000    0.000    0.000    0.000 c_parser_wrapper.py:370(<setcomp>)\n",
      "       48    0.000    0.000    0.000    0.000 inference.py:300(<genexpr>)\n",
      "        1    0.000    0.000    0.000    0.000 series.py:1009(_slice)\n",
      "        4    0.000    0.000    0.000    0.000 series.py:581(_constructor_from_mgr)\n",
      "       54    0.000    0.000    0.000    0.000 {method 'format' of 'str' objects}\n",
      "        5    0.000    0.000    0.000    0.000 indexing.py:1614(_is_scalar_access)\n",
      "       19    0.000    0.000    0.000    0.000 missing.py:131(dispatch_fill_zeros)\n",
      "        4    0.000    0.000    0.000    0.000 missing.py:696(is_valid_na_for_dtype)\n",
      "        4    0.000    0.000    0.000    0.000 {built-in method pandas._libs.missing.isnaobj}\n",
      "        1    0.000    0.000    0.000    0.000 basevalidators.py:432(__init__)\n",
      "       47    0.000    0.000    0.000    0.000 blocks.py:1007(iget)\n",
      "        7    0.000    0.000    0.000    0.000 _ufunc_config.py:435(__exit__)\n",
      "      101    0.000    0.000    0.000    0.000 blocks.py:583(dtype)\n",
      "        2    0.000    0.000    0.000    0.000 blocks.py:387(_split_op_result)\n",
      "        3    0.000    0.000    0.000    0.000 parse.py:374(urlparse)\n",
      "      113    0.000    0.000    0.000    0.000 {pandas._libs.lib.is_iterator}\n",
      "        9    0.000    0.000    0.000    0.000 concat.py:597(<genexpr>)\n",
      "        1    0.000    0.000    0.000    0.000 ops.py:755(ngroups)\n",
      "       90    0.000    0.000    0.000    0.000 basedatatypes.py:115(<lambda>)\n",
      "      295    0.000    0.000    0.000    0.000 typing.py:2287(cast)\n",
      "        6    0.000    0.000    0.000    0.000 {pandas._libs.lib.array_equivalent_object}\n",
      "        5    0.000    0.000    0.000    0.000 cast.py:1359(np_find_common_type)\n",
      "        6    0.000    0.000    0.000    0.000 _methods.py:43(_amin)\n",
      "        5    0.000    0.000    0.000    0.000 _scatter.py:1013(line)\n",
      "        1    0.000    0.000    0.000    0.000 {built-in method _operator.mul}\n",
      "      117    0.000    0.000    0.000    0.000 {pandas._libs.lib.item_from_zerodim}\n",
      "        2    0.000    0.000    0.000    0.000 ops.py:29(_iter_block_pairs)\n",
      "       37    0.000    0.000    0.000    0.000 __init__.py:43(using_pyarrow_string_dtype)\n",
      "        1    0.000    0.000    0.000    0.000 frame.py:4246(_iset_item_mgr)\n",
      "       59    0.000    0.000    0.000    0.000 utils.py:408(_Chomper)\n",
      "        1    0.000    0.000    0.000    0.000 session.py:649(msg)\n",
      "        1    0.000    0.000    0.000    0.000 ops.py:766(result_index)\n",
      "        2    0.000    0.000    0.000    0.000 construction.py:481(<listcomp>)\n",
      "       12    0.000    0.000    0.000    0.000 base.py:798(tolist)\n",
      "        1    0.000    0.000    0.000    0.000 fromnumeric.py:2979(prod)\n",
      "       21    0.000    0.000    0.000    0.000 utils.py:62(is_list_like_indexer)\n",
      "       17    0.000    0.000    0.000    0.000 base.py:7643(_unpack_nested_dtype)\n",
      "       33    0.000    0.000    0.000    0.000 basedatatypes.py:703(__setattr__)\n",
      "        3    0.000    0.000    0.000    0.000 base.py:4199(_convert_slice_indexer)\n",
      "        2    0.000    0.000    0.000    0.000 generic.py:2082(__array__)\n",
      "       14    0.000    0.000    0.000    0.000 _ufunc_config.py:132(geterr)\n",
      "        1    0.000    0.000    0.000    0.000 common.py:261(index_labels_to_array)\n",
      "       14    0.000    0.000    0.000    0.000 common.py:1366(_is_dtype)\n",
      "       40    0.000    0.000    0.000    0.000 common.py:1390(_get_dtype)\n",
      "       61    0.000    0.000    0.000    0.000 common.py:1255(is_1d_only_ea_dtype)\n",
      "      125    0.000    0.000    0.000    0.000 generic.py:358(attrs)\n",
      "       20    0.000    0.000    0.000    0.000 {method 'split' of 're.Pattern' objects}\n",
      "        1    0.000    0.000    0.000    0.000 groupby.py:1527(_wrap_aggregated_output)\n",
      "        1    0.000    0.000    0.000    0.000 base.py:6855(delete)\n",
      "       59    0.000    0.000    0.000    0.000 basedatatypes.py:106(<lambda>)\n",
      "       12    0.000    0.000    0.000    0.000 common.py:977(is_numeric_v_string_like)\n",
      "       24    0.000    0.000    0.000    0.000 {method '__deepcopy__' of 'numpy.ndarray' objects}\n",
      "        1    0.000    0.000    0.000    0.000 accessor.py:206(_validate)\n",
      "       53    0.000    0.000    0.000    0.000 common.py:123(<lambda>)\n",
      "        2    0.000    0.000    0.000    0.000 api.py:311(<genexpr>)\n",
      "       11    0.000    0.000    0.000    0.000 managers.py:2268(_preprocess_slice_or_indexer)\n",
      "       89    0.000    0.000    0.000    0.000 basevalidators.py:1303(numbers_allowed)\n",
      "        1    0.000    0.000    0.000    0.000 hmac.py:122(copy)\n",
      "        4    0.000    0.000    0.000    0.000 managers.py:2259(_fast_count_smallints)\n",
      "        1    0.000    0.000    0.000    0.000 {method 'factorize' of 'pandas._libs.hashtable.StringHashTable' objects}\n",
      "        4    0.000    0.000    0.000    0.000 generic.py:1759(_check_label_or_level_ambiguity)\n",
      "      125    0.000    0.000    0.000    0.000 flags.py:57(allows_duplicate_labels)\n",
      "        9    0.000    0.000    0.000    0.000 common.py:173(_expand_user)\n",
      "       18    0.000    0.000    0.000    0.000 managers.py:1351(<genexpr>)\n",
      "        5    0.000    0.000    0.000    0.000 {built-in method _operator.add}\n",
      "        4    0.000    0.000    0.000    0.000 contextlib.py:299(helper)\n",
      "        1    0.000    0.000    0.000    0.000 {pandas._libs.lib.map_infer_mask}\n",
      "       20    0.000    0.000    0.000    0.000 numerictypes.py:283(issubclass_)\n",
      "        1    0.000    0.000    0.000    0.000 managers.py:1045(iset)\n",
      "        1    0.000    0.000    0.000    0.000 base.py:1899(rename)\n",
      "        3    0.000    0.000    0.000    0.000 base_parser.py:861(_do_date_conversions)\n",
      "        4    0.000    0.000    0.000    0.000 basedatatypes.py:5669(<genexpr>)\n",
      "        6    0.000    0.000    0.000    0.000 basedatatypes.py:5762(_process_kwargs)\n",
      "       20    0.000    0.000    0.000    0.000 base.py:1750(_get_names)\n",
      "       39    0.000    0.000    0.000    0.000 {pandas._libs.lib.dtypes_all_equal}\n",
      "        5    0.000    0.000    0.000    0.000 indexing.py:948(_is_nested_tuple_indexer)\n",
      "        1    0.000    0.000    0.000    0.000 stride_tricks.py:367(broadcast_to)\n",
      "       25    0.000    0.000    0.000    0.000 traitlets.py:630(get)\n",
      "        6    0.000    0.000    0.000    0.000 basevalidators.py:346(present)\n",
      "        3    0.000    0.000    0.000    0.000 base.py:122(_reset_cache)\n",
      "       10    0.000    0.000    0.000    0.000 frame.py:1539(__len__)\n",
      "        6    0.000    0.000    0.000    0.000 basevalidators.py:2646(get_trace_class)\n",
      "        5    0.000    0.000    0.000    0.000 blocks.py:2483(ensure_block_shape)\n",
      "        2    0.000    0.000    0.000    0.000 base.py:3751(_convert_can_do_setop)\n",
      "        5    0.000    0.000    0.000    0.000 base.py:781(_rename)\n",
      "        1    0.000    0.000    0.000    0.000 range.py:489(copy)\n",
      "        1    0.000    0.000    0.000    0.000 session.py:645(msg_header)\n",
      "       48    0.000    0.000    0.000    0.000 frame.py:637(_constructor)\n",
      "        1    0.000    0.000    0.000    0.000 base.py:1794(set_names)\n",
      "       24    0.000    0.000    0.000    0.000 common.py:131(<lambda>)\n",
      "       44    0.000    0.000    0.000    0.000 frame.py:949(axes)\n",
      "      145    0.000    0.000    0.000    0.000 {built-in method builtins.callable}\n",
      "        1    0.000    0.000    0.000    0.000 stride_tricks.py:340(_broadcast_to)\n",
      "        1    0.000    0.000    0.000    0.000 fromnumeric.py:2421(all)\n",
      "       10    0.000    0.000    0.000    0.000 printing.py:349(_extend_line)\n",
      "        1    0.000    0.000    0.000    0.000 concat.py:542(<listcomp>)\n",
      "        7    0.000    0.000    0.000    0.000 array_ops.py:509(maybe_prepare_scalar_for_op)\n",
      "       79    0.000    0.000    0.000    0.000 managers.py:1902(_block)\n",
      "        2    0.000    0.000    0.000    0.000 fromnumeric.py:1881(nonzero)\n",
      "       12    0.000    0.000    0.000    0.000 series.py:995(_ixs)\n",
      "        5    0.000    0.000    0.000    0.000 frame.py:1030(_values)\n",
      "        4    0.000    0.000    0.000    0.000 base.py:5271(_validate_fill_value)\n",
      "        1    0.000    0.000    0.000    0.000 {method 'copy' of '_hashlib.HMAC' objects}\n",
      "       76    0.000    0.000    0.000    0.000 managers.py:185(blklocs)\n",
      "        8    0.000    0.000    0.000    0.000 managers.py:279(<listcomp>)\n",
      "       12    0.000    0.000    0.000    0.000 utils.py:181(encode_as_numpy)\n",
      "       15    0.000    0.000    0.000    0.000 {method 'remove' of 'list' objects}\n",
      "        3    0.000    0.000    0.000    0.000 base_parser.py:361(_make_index)\n",
      "    20/10    0.000    0.000    0.000    0.000 basedatatypes.py:4591(_prop_defaults)\n",
      "        2    0.000    0.000    0.000    0.000 threading.py:562(__init__)\n",
      "      101    0.000    0.000    0.000    0.000 {pandas._libs.lib.is_float}\n",
      "        1    0.000    0.000    0.000    0.000 cast.py:774(infer_dtype_from_scalar)\n",
      "        8    0.000    0.000    0.000    0.000 fromnumeric.py:1768(ravel)\n",
      "        6    0.000    0.000    0.000    0.000 base.py:4440(_wrap_reindex_result)\n",
      "       29    0.000    0.000    0.000    0.000 construction.py:675(_sanitize_non_ordered)\n",
      "        1    0.000    0.000    0.000    0.000 algorithms.py:262(_get_hashtable_algo)\n",
      "        1    0.000    0.000    0.000    0.000 cast.py:254(maybe_downcast_to_dtype)\n",
      "       20    0.000    0.000    0.000    0.000 generic.py:638(_info_axis)\n",
      "        5    0.000    0.000    0.000    0.000 range.py:484(_view)\n",
      "        3    0.000    0.000    0.000    0.000 readers.py:1925(_refine_defaults_read)\n",
      "        5    0.000    0.000    0.000    0.000 basedatatypes.py:4508(_init_child_props)\n",
      "        7    0.000    0.000    0.000    0.000 threading.py:1192(is_alive)\n",
      "        5    0.000    0.000    0.000    0.000 api.py:106(_get_distinct_objs)\n",
      "        4    0.000    0.000    0.000    0.000 {built-in method builtins.locals}\n",
      "       16    0.000    0.000    0.000    0.000 range.py:554(equals)\n",
      "       50    0.000    0.000    0.000    0.000 basedatatypes.py:116(<listcomp>)\n",
      "       53    0.000    0.000    0.000    0.000 common.py:121(classes)\n",
      "       23    0.000    0.000    0.000    0.000 managers.py:920(<genexpr>)\n",
      "       90    0.000    0.000    0.000    0.000 utils.py:327(<lambda>)\n",
      "        4    0.000    0.000    0.000    0.000 generic.py:1673(_is_level_reference)\n",
      "        1    0.000    0.000    0.000    0.000 frame.py:12292(_reindex_for_setitem)\n",
      "        1    0.000    0.000    0.000    0.000 function_base.py:5172(delete)\n",
      "        1    0.000    0.000    0.000    0.000 base.py:1357(_format_attrs)\n",
      "        3    0.000    0.000    0.000    0.000 base_parser.py:600(_set_noconvert_dtype_columns)\n",
      "       50    0.000    0.000    0.000    0.000 basedatatypes.py:117(<listcomp>)\n",
      "        4    0.000    0.000    0.000    0.000 base.py:4189(_validate_positional_slice)\n",
      "        1    0.000    0.000    0.000    0.000 _data.py:5(__init__)\n",
      "        4    0.000    0.000    0.000    0.000 contextlib.py:132(__enter__)\n",
      "        8    0.000    0.000    0.000    0.000 concat.py:322(_get_block_for_concat_plan)\n",
      "        1    0.000    0.000    0.000    0.000 managers.py:1930(get_slice)\n",
      "        5    0.000    0.000    0.000    0.000 basedatatypes.py:2684(_relayout_child)\n",
      "       12    0.000    0.000    0.000    0.000 inference.py:373(is_sequence)\n",
      "       15    0.000    0.000    0.000    0.000 indexing.py:1144(<genexpr>)\n",
      "      121    0.000    0.000    0.000    0.000 basedatatypes.py:4399(plotly_name)\n",
      "        2    0.000    0.000    0.000    0.000 jsonutil.py:107(json_default)\n",
      "       37    0.000    0.000    0.000    0.000 _dtype.py:24(_kind_name)\n",
      "       10    0.000    0.000    0.000    0.000 printing.py:193(as_escaped_string)\n",
      "        2    0.000    0.000    0.000    0.000 merge.py:2528(_convert_arrays_and_get_rizer_klass)\n",
      "        3    0.000    0.000    0.000    0.000 common.py:277(is_fsspec_url)\n",
      "       35    0.000    0.000    0.000    0.000 concat.py:73(<listcomp>)\n",
      "       12    0.000    0.000    0.000    0.000 concat.py:587(<genexpr>)\n",
      "       24    0.000    0.000    0.000    0.000 indexing.py:150(iloc)\n",
      "        5    0.000    0.000    0.000    0.000 construction.py:405(_check_values_indices_shape_match)\n",
      "        5    0.000    0.000    0.000    0.000 frame.py:4361(_ensure_valid_index)\n",
      "        9    0.000    0.000    0.000    0.000 <frozen ntpath>:319(expanduser)\n",
      "        3    0.000    0.000    0.000    0.000 managers.py:2233(<listcomp>)\n",
      "        4    0.000    0.000    0.000    0.000 contextlib.py:104(__init__)\n",
      "        3    0.000    0.000    0.000    0.000 generic.py:3930(_maybe_update_cacher)\n",
      "       55    0.000    0.000    0.000    0.000 base.py:973(dtype)\n",
      "       15    0.000    0.000    0.000    0.000 generic.py:6182(<genexpr>)\n",
      "        5    0.000    0.000    0.000    0.000 cast.py:1724(np_can_hold_element)\n",
      "        3    0.000    0.000    0.000    0.000 frame.py:1015(_can_fast_transpose)\n",
      "        1    0.000    0.000    0.000    0.000 generic.py:2028(_wrap_agged_manager)\n",
      "        2    0.000    0.000    0.000    0.000 base.py:755(_shallow_copy)\n",
      "      125    0.000    0.000    0.000    0.000 basevalidators.py:2498(present)\n",
      "       59    0.000    0.000    0.000    0.000 utils.py:409(__init__)\n",
      "        1    0.000    0.000    0.000    0.000 fromnumeric.py:2322(any)\n",
      "        8    0.000    0.000    0.000    0.000 base.py:2773(_na_value)\n",
      "      101    0.000    0.000    0.000    0.000 {built-in method _warnings._filters_mutated}\n",
      "        1    0.000    0.000    0.000    0.000 fips_query.py:434(<listcomp>)\n",
      "       59    0.000    0.000    0.000    0.000 generic.py:659(ndim)\n",
      "        9    0.000    0.000    0.000    0.000 nanops.py:79(<genexpr>)\n",
      "        5    0.000    0.000    0.000    0.000 frozen.py:73(__getitem__)\n",
      "        1    0.000    0.000    0.000    0.000 base.py:5116(array)\n",
      "        5    0.000    0.000    0.000    0.000 api.py:102(<listcomp>)\n",
      "        6    0.000    0.000    0.000    0.000 base.py:4444(_maybe_preserve_names)\n",
      "       10    0.000    0.000    0.000    0.000 base.py:510(find)\n",
      "       40    0.000    0.000    0.000    0.000 managers.py:235(items)\n",
      "        1    0.000    0.000    0.000    0.000 format.py:479(get_adjustment)\n",
      "       12    0.000    0.000    0.000    0.000 utils.py:143(encode_as_list)\n",
      "        1    0.000    0.000    0.000    0.000 managers.py:941(fast_xs)\n",
      "       50    0.000    0.000    0.000    0.000 basevalidators.py:2556(data_class)\n",
      "       12    0.000    0.000    0.000    0.000 common.py:1219(<genexpr>)\n",
      "        1    0.000    0.000    0.000    0.000 generic.py:1895(<listcomp>)\n",
      "       60    0.000    0.000    0.000    0.000 {method 'join' of 'str' objects}\n",
      "        1    0.000    0.000    0.000    0.000 _legend.py:874(__init__)\n",
      "       31    0.000    0.000    0.000    0.000 basevalidators.py:646(validate_coerce)\n",
      "       74    0.000    0.000    0.000    0.000 multiarray.py:1080(copyto)\n",
      "        2    0.000    0.000    0.000    0.000 _validators.py:354(validate_ascending)\n",
      "       10    0.000    0.000    0.000    0.000 construction.py:196(mgr_to_mgr)\n",
      "       12    0.000    0.000    0.000    0.000 utils.py:165(encode_as_pandas)\n",
      "       10    0.000    0.000    0.000    0.000 {pandas._libs.internals.get_blkno_placements}\n",
      "        3    0.000    0.000    0.000    0.000 generic.py:4520(_is_view)\n",
      "        4    0.000    0.000    0.000    0.000 common.py:103(_maybe_match_name)\n",
      "        7    0.000    0.000    0.000    0.000 {pandas._libs.lib.is_all_arraylike}\n",
      "        1    0.000    0.000    0.000    0.000 basedatatypes.py:3072(_build_update_params_from_batch)\n",
      "        8    0.000    0.000    0.000    0.000 generic.py:4337(_check_setitem_copy)\n",
      "        2    0.000    0.000    0.000    0.000 indexing.py:2244(_ensure_iterable_column_indexer)\n",
      "        1    0.000    0.000    0.000    0.000 merge.py:1340(_maybe_coerce_merge_keys)\n",
      "        4    0.000    0.000    0.000    0.000 merge.py:2624(_validate_operand)\n",
      "        3    0.000    0.000    0.000    0.000 base_parser.py:349(_maybe_make_multi_index_columns)\n",
      "       24    0.000    0.000    0.000    0.000 common.py:126(_classes_and_not_datetimelike)\n",
      "        1    0.000    0.000    0.000    0.000 merge.py:955(_maybe_restore_index_levels)\n",
      "        1    0.000    0.000    0.000    0.000 base.py:7624(get_unanimous_names)\n",
      "        1    0.000    0.000    0.000    0.000 grouper.py:527(__init__)\n",
      "        8    0.000    0.000    0.000    0.000 numeric.py:1380(<listcomp>)\n",
      "        7    0.000    0.000    0.000    0.000 {method 'reshape' of 'numpy.ndarray' objects}\n",
      "        5    0.000    0.000    0.000    0.000 indexing.py:909(_expand_ellipsis)\n",
      "       83    0.000    0.000    0.000    0.000 base.py:363(ndim)\n",
      "        1    0.000    0.000    0.000    0.000 base.py:3543(_wrap_intersection_result)\n",
      "        1    0.000    0.000    0.000    0.000 similarity_utils.py:78(divide_exponentially)\n",
      "        1    0.000    0.000    0.000    0.000 generic.py:1734(_is_label_or_level_reference)\n",
      "       10    0.000    0.000    0.000    0.000 indexing.py:2651(is_label_like)\n",
      "       37    0.000    0.000    0.000    0.000 {method 'rsplit' of 'str' objects}\n",
      "        2    0.000    0.000    0.000    0.000 _templates.py:64(__getitem__)\n",
      "       11    0.000    0.000    0.000    0.000 common.py:306(is_null_slice)\n",
      "        2    0.000    0.000    0.000    0.000 to_dict.py:98(<listcomp>)\n",
      "        6    0.000    0.000    0.000    0.000 pathlib.py:777(parent)\n",
      "        4    0.000    0.000    0.000    0.000 hmac.py:117(update)\n",
      "        3    0.000    0.000    0.000    0.000 common.py:192(any_not_none)\n",
      "       26    0.000    0.000    0.000    0.000 function.py:64(__call__)\n",
      "       10    0.000    0.000    0.000    0.000 _validators.py:226(validate_bool_kwarg)\n",
      "       15    0.000    0.000    0.000    0.000 blocks.py:1016(_slice)\n",
      "       12    0.000    0.000    0.000    0.000 utils.py:135(encode_as_plotly)\n",
      "       56    0.000    0.000    0.000    0.000 multiarray.py:153(concatenate)\n",
      "       21    0.000    0.000    0.000    0.000 indexing.py:2685(<genexpr>)\n",
      "       17    0.000    0.000    0.000    0.000 {built-in method builtins.max}\n",
      "        6    0.000    0.000    0.000    0.000 astype.py:250(astype_is_view)\n",
      "        5    0.000    0.000    0.000    0.000 concat.py:747(<listcomp>)\n",
      "        1    0.000    0.000    0.000    0.000 indexing.py:813(_ensure_listlike_indexer)\n",
      "        1    0.000    0.000    0.000    0.000 concat.py:143(_get_result_dtype)\n",
      "       13    0.000    0.000    0.000    0.000 managers.py:230(is_single_block)\n",
      "        6    0.000    0.000    0.000    0.000 utils.py:279(_get_int_type)\n",
      "        6    0.000    0.000    0.000    0.000 common.py:91(ensure_python_int)\n",
      "        2    0.000    0.000    0.000    0.000 range.py:996(_getitem_slice)\n",
      "        1    0.000    0.000    0.000    0.000 _layout.py:4818(yaxis)\n",
      "       32    0.000    0.000    0.000    0.000 {built-in method nt.fspath}\n",
      "        1    0.000    0.000    0.000    0.000 algorithms.py:106(_ensure_data)\n",
      "       14    0.000    0.000    0.000    0.000 {built-in method numpy.seterrobj}\n",
      "        3    0.000    0.000    0.000    0.000 readers.py:1502(_check_file_or_buffer)\n",
      "        1    0.000    0.000    0.000    0.000 _layout.py:4257(xaxis)\n",
      "        3    0.000    0.000    0.000    0.000 common.py:192(validate_header_arg)\n",
      "        1    0.000    0.000    0.000    0.000 _layout.py:1960(legend)\n",
      "        3    0.000    0.000    0.000    0.000 pathlib.py:536(__str__)\n",
      "        3    0.000    0.000    0.000    0.000 common.py:185(all_none)\n",
      "        1    0.000    0.000    0.000    0.000 {pandas._libs.internals.get_concat_blkno_indexers}\n",
      "        3    0.000    0.000    0.000    0.000 base_parser.py:1247(_process_date_conversion)\n",
      "       24    0.000    0.000    0.000    0.000 {method 'tolist' of 'numpy.ndarray' objects}\n",
      "        3    0.000    0.000    0.000    0.000 base_parser.py:278(_extract_multi_indexer_columns)\n",
      "        2    0.000    0.000    0.000    0.000 threading.py:243(__init__)\n",
      "        3    0.000    0.000    0.000    0.000 managers.py:445(is_view)\n",
      "        6    0.000    0.000    0.000    0.000 indexing.py:878(<genexpr>)\n",
      "        2    0.000    0.000    0.000    0.000 merge.py:2620(_any)\n",
      "       12    0.000    0.000    0.000    0.000 utils.py:151(encode_as_sage)\n",
      "        1    0.000    0.000    0.000    0.000 session.py:272(msg_header)\n",
      "        1    0.000    0.000    0.000    0.000 numpy_.py:98(__init__)\n",
      "        6    0.000    0.000    0.000    0.000 base.py:5634(<genexpr>)\n",
      "        2    0.000    0.000    0.000    0.000 {method 'isoformat' of 'datetime.datetime' objects}\n",
      "       12    0.000    0.000    0.000    0.000 base.py:6624(_validate_indexer)\n",
      "        2    0.000    0.000    0.000    0.000 common.py:384(standardize_mapping)\n",
      "        4    0.000    0.000    0.000    0.000 {method 'update' of '_hashlib.HMAC' objects}\n",
      "       12    0.000    0.000    0.000    0.000 basevalidators.py:1876(<listcomp>)\n",
      "        2    0.000    0.000    0.000    0.000 {method 'any' of 'numpy.generic' objects}\n",
      "        7    0.000    0.000    0.000    0.000 threading.py:1125(_wait_for_tstate_lock)\n",
      "        6    0.000    0.000    0.000    0.000 inference.py:105(is_file_like)\n",
      "       15    0.000    0.000    0.000    0.000 indexing.py:1143(<genexpr>)\n",
      "        4    0.000    0.000    0.000    0.000 {built-in method _thread.allocate_lock}\n",
      "        1    0.000    0.000    0.000    0.000 session.py:600(msg_id)\n",
      "       26    0.000    0.000    0.000    0.000 base.py:1168(_maybe_disallow_fill)\n",
      "       10    0.000    0.000    0.000    0.000 basedatatypes.py:4551(_get_child_prop_defaults)\n",
      "        2    0.000    0.000    0.000    0.000 config.py:215(get_default_val)\n",
      "        1    0.000    0.000    0.000    0.000 ops.py:278(_get_result_dtype)\n",
      "       12    0.000    0.000    0.000    0.000 utils.py:198(encode_as_datetime)\n",
      "        6    0.000    0.000    0.000    0.000 contextlib.py:440(__init__)\n",
      "       52    0.000    0.000    0.000    0.000 blocks.py:239(mgr_locs)\n",
      "        1    0.000    0.000    0.000    0.000 _json.py:70(_safe)\n",
      "        2    0.000    0.000    0.000    0.000 version.py:503(_cmpkey)\n",
      "        1    0.000    0.000    0.000    0.000 generic.py:2015(_get_data_to_aggregate)\n",
      "       10    0.000    0.000    0.000    0.000 indexing.py:1627(<genexpr>)\n",
      "        1    0.000    0.000    0.000    0.000 managers.py:1246(_iset_single)\n",
      "        1    0.000    0.000    0.000    0.000 _layout.py:5(__init__)\n",
      "       24    0.000    0.000    0.000    0.000 basevalidators.py:1879(<genexpr>)\n",
      "       20    0.000    0.000    0.000    0.000 {method 'insert' of 'list' objects}\n",
      "        1    0.000    0.000    0.000    0.000 cast.py:921(_maybe_infer_dtype_type)\n",
      "        3    0.000    0.000    0.000    0.000 managers.py:1812(from_blocks)\n",
      "        3    0.000    0.000    0.000    0.000 common.py:503(get_compression_method)\n",
      "       28    0.000    0.000    0.000    0.000 {built-in method numpy.geterrobj}\n",
      "        8    0.000    0.000    0.000    0.000 blocks.py:203(_can_hold_na)\n",
      "        3    0.000    0.000    0.000    0.000 <frozen codecs>:309(__init__)\n",
      "        1    0.000    0.000    0.000    0.000 algorithms.py:280(_check_object_for_strings)\n",
      "       10    0.000    0.000    0.000    0.000 generic.py:6177(<genexpr>)\n",
      "        1    0.000    0.000    0.000    0.000 base.py:3050(drop_duplicates)\n",
      "       28    0.000    0.000    0.000    0.000 series.py:577(_constructor)\n",
      "        7    0.000    0.000    0.000    0.000 nanops.py:72(check)\n",
      "        1    0.000    0.000    0.000    0.000 fromnumeric.py:865(sort)\n",
      "        1    0.000    0.000    0.000    0.000 indexing.py:1578(_has_valid_setitem_indexer)\n",
      "       11    0.000    0.000    0.000    0.000 range.py:316(step)\n",
      "        1    0.000    0.000    0.000    0.000 _frames.py:5(__init__)\n",
      "        2    0.000    0.000    0.000    0.000 pathlib.py:147(splitroot)\n",
      "        1    0.000    0.000    0.000    0.000 missing.py:380(notna)\n",
      "        1    0.000    0.000    0.000    0.000 data_grabber.py:161(<listcomp>)\n",
      "       16    0.000    0.000    0.000    0.000 {built-in method sys.intern}\n",
      "        1    0.000    0.000    0.000    0.000 array_ops.py:466(get_array_op)\n",
      "       15    0.000    0.000    0.000    0.000 indexing.py:955(<genexpr>)\n",
      "       12    0.000    0.000    0.000    0.000 utils.py:206(encode_as_date)\n",
      "        6    0.000    0.000    0.000    0.000 {method '_update_from_sliced' of 'pandas._libs.index.IndexEngine' objects}\n",
      "       14    0.000    0.000    0.000    0.000 common.py:1107(<lambda>)\n",
      "        1    0.000    0.000    0.000    0.000 animation.py:51(__init__)\n",
      "        8    0.000    0.000    0.000    0.000 {method 'encode' of 'str' objects}\n",
      "        3    0.000    0.000    0.000    0.000 c_parser_wrapper.py:330(<dictcomp>)\n",
      "        2    0.000    0.000    0.000    0.000 {method 'search' of 're.Pattern' objects}\n",
      "        3    0.000    0.000    0.000    0.000 base_parser.py:883(_check_data_length)\n",
      "        2    0.000    0.000    0.000    0.000 merge.py:2584(<genexpr>)\n",
      "        3    0.000    0.000    0.000    0.000 enum.py:193(__get__)\n",
      "       21    0.000    0.000    0.000    0.000 indexing.py:2694(<genexpr>)\n",
      "        2    0.000    0.000    0.000    0.000 base.py:3745(_assert_can_do_setop)\n",
      "        1    0.000    0.000    0.000    0.000 _renderers.py:298(_perform_external_rendering)\n",
      "       22    0.000    0.000    0.000    0.000 {pandas._libs.lib.is_bool}\n",
      "        7    0.000    0.000    0.000    0.000 common.py:514(is_string_or_object_np_dtype)\n",
      "       39    0.000    0.000    0.000    0.000 series.py:1381(_clear_item_cache)\n",
      "        1    0.000    0.000    0.000    0.000 827749473.py:1(<module>)\n",
      "        1    0.000    0.000    0.000    0.000 session.py:198(utcnow)\n",
      "        8    0.000    0.000    0.000    0.000 base.py:166(__setattr__)\n",
      "        3    0.000    0.000    0.000    0.000 base.py:301(array)\n",
      "        1    0.000    0.000    0.000    0.000 fips_query.py:437(<listcomp>)\n",
      "       52    0.000    0.000    0.000    0.000 base.py:6611(_maybe_cast_indexer)\n",
      "        1    0.000    0.000    0.000    0.000 base.py:1753(_set_names)\n",
      "       11    0.000    0.000    0.000    0.000 indexing.py:966(_validate_key_length)\n",
      "        1    0.000    0.000    0.000    0.000 zmqshell.py:74(_hooks)\n",
      "        1    0.000    0.000    0.000    0.000 hmac.py:161(hexdigest)\n",
      "        3    0.000    0.000    0.000    0.000 utils.py:38(is_valid_positional_slice)\n",
      "        2    0.000    0.000    0.000    0.000 function.py:411(validate_func)\n",
      "        4    0.000    0.000    0.000    0.000 compilerop.py:180(extra_flags)\n",
      "        2    0.000    0.000    0.000    0.000 algorithms.py:184(_reconstruct_data)\n",
      "        1    0.000    0.000    0.000    0.000 format.py:425(__init__)\n",
      "        1    0.000    0.000    0.000    0.000 concat.py:466(<listcomp>)\n",
      "       13    0.000    0.000    0.000    0.000 {method 'upper' of 'str' objects}\n",
      "       16    0.000    0.000    0.000    0.000 {built-in method builtins.iter}\n",
      "        3    0.000    0.000    0.000    0.000 common.py:1107(_maybe_memory_map)\n",
      "        3    0.000    0.000    0.000    0.000 {built-in method _codecs.lookup}\n",
      "        3    0.000    0.000    0.000    0.000 parse.py:119(_coerce_args)\n",
      "        4    0.000    0.000    0.000    0.000 managers.py:282(arrays)\n",
      "       14    0.000    0.000    0.000    0.000 {method 'add' of 'pandas._libs.internals.BlockPlacement' objects}\n",
      "       27    0.000    0.000    0.000    0.000 {method 'endswith' of 'str' objects}\n",
      "        7    0.000    0.000    0.000    0.000 array_ops.py:590(_bool_arith_check)\n",
      "        2    0.000    0.000    0.000    0.000 api.py:323(_sanitize_and_check)\n",
      "       24    0.000    0.000    0.000    0.000 range.py:377(dtype)\n",
      "       20    0.000    0.000    0.000    0.000 format.py:428(len)\n",
      "        2    0.000    0.000    0.000    0.000 _renderers.py:173(_activate_pending_renderers)\n",
      "       24    0.000    0.000    0.000    0.000 {built-in method numpy.ascontiguousarray}\n",
      "        2    0.000    0.000    0.000    0.000 __init__.py:178(sub)\n",
      "        3    0.000    0.000    0.000    0.000 c_parser_wrapper.py:212(<dictcomp>)\n",
      "        1    0.000    0.000    0.000    0.000 _dtype.py:34(__str__)\n",
      "       21    0.000    0.000    0.000    0.000 missing.py:971(clean_reindex_fill_method)\n",
      "       18    0.000    0.000    0.000    0.000 blocks.py:1003(shape)\n",
      "       27    0.000    0.000    0.000    0.000 {method 'keys' of 'dict' objects}\n",
      "        1    0.000    0.000    0.000    0.000 console.py:79(in_ipython_frontend)\n",
      "        1    0.000    0.000    0.000    0.000 api.py:258(_find_common_index_dtype)\n",
      "       13    0.000    0.000    0.000    0.000 {pandas._libs.algos.ensure_object}\n",
      "        4    0.000    0.000    0.000    0.000 {method 'transpose' of 'numpy.ndarray' objects}\n",
      "        2    0.000    0.000    0.000    0.000 nanops.py:324(_get_dtype_max)\n",
      "        1    0.000    0.000    0.000    0.000 basevalidators.py:2411(__init__)\n",
      "        5    0.000    0.000    0.000    0.000 encoder.py:105(__init__)\n",
      "        5    0.000    0.000    0.000    0.000 base.py:5461(<listcomp>)\n",
      "       29    0.000    0.000    0.000    0.000 {method 'pop' of 'set' objects}\n",
      "        1    0.000    0.000    0.000    0.000 cast.py:324(maybe_downcast_numeric)\n",
      "        1    0.000    0.000    0.000    0.000 basevalidators.py:703(__init__)\n",
      "        6    0.000    0.000    0.000    0.000 indexing.py:877(<genexpr>)\n",
      "        3    0.000    0.000    0.000    0.000 base_parser.py:1404(_validate_parse_dates_arg)\n",
      "        1    0.000    0.000    0.000    0.000 basevalidators.py:2602(__init__)\n",
      "       20    0.000    0.000    0.000    0.000 {method 'group' of 're.Match' objects}\n",
      "        2    0.000    0.000    0.000    0.000 pathlib.py:546(__fspath__)\n",
      "        7    0.000    0.000    0.000    0.000 _ufunc_config.py:426(__init__)\n",
      "        6    0.000    0.000    0.000    0.000 base.py:7572(ensure_has_len)\n",
      "       25    0.000    0.000    0.000    0.000 {method 'strip' of 'str' objects}\n",
      "        1    0.000    0.000    0.000    0.000 concat.py:503(_dtype_to_na_value)\n",
      "        1    0.000    0.000    0.000    0.000 blocks.py:323(getitem_block_columns)\n",
      "        5    0.000    0.000    0.000    0.000 {method 'item' of 'numpy.ndarray' objects}\n",
      "        2    0.000    0.000    0.000    0.000 similarity_utils.py:95(<genexpr>)\n",
      "        2    0.000    0.000    0.000    0.000 common.py:530(temp_setattr)\n",
      "        7    0.000    0.000    0.000    0.000 {method 'update' of 'dict' objects}\n",
      "        1    0.000    0.000    0.000    0.000 base.py:7637(<listcomp>)\n",
      "        9    0.000    0.000    0.000    0.000 range.py:281(start)\n",
      "       19    0.000    0.000    0.000    0.000 managers.py:335(<dictcomp>)\n",
      "        1    0.000    0.000    0.000    0.000 {method 'hexdigest' of '_hashlib.HMAC' objects}\n",
      "        5    0.000    0.000    0.000    0.000 concat.py:689(_get_result_dim)\n",
      "        6    0.000    0.000    0.000    0.000 series.py:5817(_align_for_op)\n",
      "       10    0.000    0.000    0.000    0.000 base.py:538(<genexpr>)\n",
      "        1    0.000    0.000    0.000    0.000 grouper.py:1050(_convert_grouper)\n",
      "        3    0.000    0.000    0.000    0.000 base_parser.py:1113(_make_date_converter)\n",
      "        5    0.000    0.000    0.000    0.000 basevalidators.py:241(__init__)\n",
      "        1    0.000    0.000    0.000    0.000 similarity_utils.py:86(<listcomp>)\n",
      "        1    0.000    0.000    0.000    0.000 basevalidators.py:2521(__init__)\n",
      "        3    0.000    0.000    0.000    0.000 fromnumeric.py:72(<dictcomp>)\n",
      "        1    0.000    0.000    0.000    0.000 ops.py:108(_get_same_shape_values)\n",
      "        2    0.000    0.000    0.000    0.000 _templates.py:193(merge_templates)\n",
      "       26    0.000    0.000    0.000    0.000 {method 'isdigit' of 'str' objects}\n",
      "        6    0.000    0.000    0.000    0.000 contextlib.py:446(__exit__)\n",
      "        5    0.000    0.000    0.000    0.000 construction.py:585(_ensure_2d)\n",
      "        3    0.000    0.000    0.000    0.000 c_parser_wrapper.py:326(<listcomp>)\n",
      "        2    0.000    0.000    0.000    0.000 interactiveshell.py:3466(compare)\n",
      "        1    0.000    0.000    0.000    0.000 api.py:281(<listcomp>)\n",
      "        2    0.000    0.000    0.000    0.000 pathlib.py:523(_format_parsed_parts)\n",
      "        1    0.000    0.000    0.000    0.000 {built-in method now}\n",
      "        2    0.000    0.000    0.000    0.000 threading.py:274(__exit__)\n",
      "       16    0.000    0.000    0.000    0.000 common.py:175(<genexpr>)\n",
      "       10    0.000    0.000    0.000    0.000 base.py:691(_constructor)\n",
      "        6    0.000    0.000    0.000    0.000 pathlib.py:515(_from_parsed_parts)\n",
      "        1    0.000    0.000    0.000    0.000 concat.py:104(<listcomp>)\n",
      "        5    0.000    0.000    0.000    0.000 common.py:171(not_none)\n",
      "        1    0.000    0.000    0.000    0.000 generic.py:1906(<listcomp>)\n",
      "       12    0.000    0.000    0.000    0.000 concat.py:584(<genexpr>)\n",
      "       21    0.000    0.000    0.000    0.000 {pandas._libs.lib.is_int_or_none}\n",
      "        5    0.000    0.000    0.000    0.000 iostream.py:137(_event_pipe)\n",
      "        1    0.000    0.000    0.000    0.000 utils.py:290(length_of_indexer)\n",
      "        3    0.000    0.000    0.000    0.000 c_parser_wrapper.py:213(<listcomp>)\n",
      "       22    0.000    0.000    0.000    0.000 {method 'rstrip' of 'str' objects}\n",
      "        2    0.000    0.000    0.000    0.000 concat.py:431(get_reindexed_values)\n",
      "        3    0.000    0.000    0.000    0.000 readers.py:1850(_clean_na_values)\n",
      "        2    0.000    0.000    0.000    0.000 threading.py:1453(current_thread)\n",
      "        2    0.000    0.000    0.000    0.000 threading.py:283(_acquire_restore)\n",
      "        3    0.000    0.000    0.000    0.000 c_parser_wrapper.py:392(ensure_dtype_objs)\n",
      "        1    0.000    0.000    0.000    0.000 generic.py:1908(<listcomp>)\n",
      "        8    0.000    0.000    0.000    0.000 {method 'ravel' of 'numpy.ndarray' objects}\n",
      "        3    0.000    0.000    0.000    0.000 {built-in method _codecs.lookup_error}\n",
      "        8    0.000    0.000    0.000    0.000 basedatatypes.py:2778(<listcomp>)\n",
      "        5    0.000    0.000    0.000    0.000 {pandas._libs.lib.is_bool_list}\n",
      "       15    0.000    0.000    0.000    0.000 indexing.py:915(<genexpr>)\n",
      "        3    0.000    0.000    0.000    0.000 concat.py:471(<genexpr>)\n",
      "        3    0.000    0.000    0.000    0.000 <string>:2(__init__)\n",
      "        1    0.000    0.000    0.000    0.000 merge.py:1227(<lambda>)\n",
      "        3    0.000    0.000    0.000    0.000 base_parser.py:254(_has_complex_date_col)\n",
      "        2    0.000    0.000    0.000    0.000 groupby.py:5434(_reindex_output)\n",
      "        8    0.000    0.000    0.000    0.000 {built-in method numpy.core._multiarray_umath.normalize_axis_index}\n",
      "        1    0.000    0.000    0.000    0.000 frame.py:7789(_should_reindex_frame_op)\n",
      "        1    0.000    0.000    0.000    0.000 base.py:214(_obj_with_exclusions)\n",
      "        4    0.000    0.000    0.000    0.000 generic.py:1836(<listcomp>)\n",
      "        1    0.000    0.000    0.000    0.000 ops.py:266(_get_out_dtype)\n",
      "        1    0.000    0.000    0.000    0.000 similarity_utils.py:139(<listcomp>)\n",
      "        1    0.000    0.000    0.000    0.000 sorting.py:238(is_int64_overflow_possible)\n",
      "        2    0.000    0.000    0.000    0.000 indexing.py:289(loc)\n",
      "        1    0.000    0.000    0.000    0.000 ops.py:96(_reset_block_mgr_locs)\n",
      "       18    0.000    0.000    0.000    0.000 {method 'add' of 'set' objects}\n",
      "        4    0.000    0.000    0.000    0.000 basedatatypes.py:5480(_dispatch_change_callbacks)\n",
      "        3    0.000    0.000    0.000    0.000 {built-in method sys.getfilesystemencoding}\n",
      "        1    0.000    0.000    0.000    0.000 session.py:854(<listcomp>)\n",
      "        1    0.000    0.000    0.000    0.000 configurable.py:597(initialized)\n",
      "        8    0.000    0.000    0.000    0.000 version.py:205(<genexpr>)\n",
      "        4    0.000    0.000    0.000    0.000 {built-in method pandas._libs.internals.slice_len}\n",
      "        1    0.000    0.000    0.000    0.000 ops.py:247(_get_output_shape)\n",
      "        4    0.000    0.000    0.000    0.000 merge.py:1704(<genexpr>)\n",
      "        2    0.000    0.000    0.000    0.000 basedatatypes.py:4644(figure)\n",
      "        8    0.000    0.000    0.000    0.000 {built-in method _operator.index}\n",
      "        2    0.000    0.000    0.000    0.000 threading.py:271(__enter__)\n",
      "        1    0.000    0.000    0.000    0.000 session.py:281(extract_header)\n",
      "        1    0.000    0.000    0.000    0.000 merge.py:1520(_validate_left_right_on)\n",
      "        9    0.000    0.000    0.000    0.000 base_parser.py:1425(is_index_col)\n",
      "        2    0.000    0.000    0.000    0.000 base.py:7639(<genexpr>)\n",
      "        3    0.000    0.000    0.000    0.000 readers.py:2153(_validate_skipfooter)\n",
      "        2    0.000    0.000    0.000    0.000 <frozen abc>:121(__subclasscheck__)\n",
      "        2    0.000    0.000    0.000    0.000 cast.py:1439(<genexpr>)\n",
      "        1    0.000    0.000    0.000    0.000 console.py:54(in_interactive_session)\n",
      "        3    0.000    0.000    0.000    0.000 blocks.py:2236(is_view)\n",
      "        2    0.000    0.000    0.000    0.000 groupby.py:1289(<genexpr>)\n",
      "        5    0.000    0.000    0.000    0.000 basedatatypes.py:133(_remake_path_from_tuple)\n",
      "        4    0.000    0.000    0.000    0.000 common.py:290(maybe_make_list)\n",
      "        1    0.000    0.000    0.000    0.000 blocks.py:182(is_object)\n",
      "        8    0.000    0.000    0.000    0.000 {method 'update' of 'set' objects}\n",
      "        1    0.000    0.000    0.000    0.000 copyreg.py:104(__newobj__)\n",
      "        1    0.000    0.000    0.000    0.000 dtypes.py:1407(__init__)\n",
      "        8    0.000    0.000    0.000    0.000 common.py:196(<genexpr>)\n",
      "       10    0.000    0.000    0.000    0.000 generic.py:1726(<genexpr>)\n",
      "        1    0.000    0.000    0.000    0.000 {built-in method pandas._libs.lib.is_string_array}\n",
      "       10    0.000    0.000    0.000    0.000 {method 'values' of 'dict' objects}\n",
      "        3    0.000    0.000    0.000    0.000 fromnumeric.py:1021(_argsort_dispatcher)\n",
      "        1    0.000    0.000    0.000    0.000 cast.py:178(maybe_box_native)\n",
      "        3    0.000    0.000    0.000    0.000 _validators.py:450(check_dtype_backend)\n",
      "       10    0.000    0.000    0.000    0.000 object_array.py:306(<lambda>)\n",
      "        9    0.000    0.000    0.000    0.000 base.py:1953(nlevels)\n",
      "        1    0.000    0.000    0.000    0.000 data_grabber.py:141(<listcomp>)\n",
      "       12    0.000    0.000    0.000    0.000 basedatatypes.py:1992(_validate_rows_cols)\n",
      "       11    0.000    0.000    0.000    0.000 {method 'extend' of 'list' objects}\n",
      "        1    0.000    0.000    0.000    0.000 displaypub.py:43(_validate_data)\n",
      "        2    0.000    0.000    0.000    0.000 interactiveshell.py:1255(user_global_ns)\n",
      "        4    0.000    0.000    0.000    0.000 indexing.py:2665(need_slice)\n",
      "        1    0.000    0.000    0.000    0.000 ops.py:680(names)\n",
      "        3    0.000    0.000    0.000    0.000 readers.py:2055(_extract_dialect)\n",
      "        2    0.000    0.000    0.000    0.000 jsonutil.py:38(_ensure_tzinfo)\n",
      "        4    0.000    0.000    0.000    0.000 shape_base.py:77(_atleast_2d_dispatcher)\n",
      "        2    0.000    0.000    0.000    0.000 concat.py:44(_is_nonempty)\n",
      "        5    0.000    0.000    0.000    0.000 concat.py:766(_maybe_check_integrity)\n",
      "        8    0.000    0.000    0.000    0.000 concat.py:351(__init__)\n",
      "        3    0.000    0.000    0.000    0.000 managers.py:2242(<listcomp>)\n",
      "        1    0.000    0.000    0.000    0.000 ops.py:562(__init__)\n",
      "        4    0.000    0.000    0.000    0.000 threading.py:1168(ident)\n",
      "        3    0.000    0.000    0.000    0.000 cast.py:1430(<genexpr>)\n",
      "        4    0.000    0.000    0.000    0.000 managers.py:294(<listcomp>)\n",
      "        8    0.000    0.000    0.000    0.000 ops.py:576(groupings)\n",
      "        1    0.000    0.000    0.000    0.000 basevalidators.py:890(validate_coerce)\n",
      "        7    0.000    0.000    0.000    0.000 threading.py:575(is_set)\n",
      "        6    0.000    0.000    0.000    0.000 version.py:452(_parse_letter_version)\n",
      "        1    0.000    0.000    0.000    0.000 indexing.py:2597(convert_missing_indexer)\n",
      "        1    0.000    0.000    0.000    0.000 groupby.py:1306(__getattr__)\n",
      "        1    0.000    0.000    0.000    0.000 grouper.py:1046(_is_label_like)\n",
      "        2    0.000    0.000    0.000    0.000 grouper.py:915(<genexpr>)\n",
      "        2    0.000    0.000    0.000    0.000 threading.py:280(_release_save)\n",
      "        1    0.000    0.000    0.000    0.000 configurable.py:553(instance)\n",
      "        3    0.000    0.000    0.000    0.000 concat.py:167(<listcomp>)\n",
      "        3    0.000    0.000    0.000    0.000 <frozen codecs>:260(__init__)\n",
      "        1    0.000    0.000    0.000    0.000 {built-in method fromkeys}\n",
      "        2    0.000    0.000    0.000    0.000 threading.py:286(_is_owned)\n",
      "        1    0.000    0.000    0.000    0.000 numpy_.py:156(__array__)\n",
      "        3    0.000    0.000    0.000    0.000 base_parser.py:976(_validate_usecols_arg)\n",
      "        6    0.000    0.000    0.000    0.000 basedatatypes.py:2259(<listcomp>)\n",
      "        1    0.000    0.000    0.000    0.000 function_base.py:348(iterable)\n",
      "        6    0.000    0.000    0.000    0.000 numeric.py:2374(_array_equal_dispatcher)\n",
      "        8    0.000    0.000    0.000    0.000 fromnumeric.py:1764(_ravel_dispatcher)\n",
      "        1    0.000    0.000    0.000    0.000 generic.py:556(_get_axis_name)\n",
      "        1    0.000    0.000    0.000    0.000 ops.py:210(_get_cython_vals)\n",
      "        3    0.000    0.000    0.000    0.000 base_parser.py:234(<setcomp>)\n",
      "        1    0.000    0.000    0.000    0.000 jsonutil.py:77(json_clean)\n",
      "        8    0.000    0.000    0.000    0.000 function_base.py:5558(_append_dispatcher)\n",
      "        4    0.000    0.000    0.000    0.000 range.py:213(_validate_dtype)\n",
      "        1    0.000    0.000    0.000    0.000 api.py:270(<listcomp>)\n",
      "        1    0.000    0.000    0.000    0.000 concat.py:303(<listcomp>)\n",
      "        1    0.000    0.000    0.000    0.000 grouper.py:643(name)\n",
      "        1    0.000    0.000    0.000    0.000 merge.py:1228(<lambda>)\n",
      "        6    0.000    0.000    0.000    0.000 basedatatypes.py:5766(<dictcomp>)\n",
      "        7    0.000    0.000    0.000    0.000 {method 'append' of 'collections.deque' objects}\n",
      "        2    0.000    0.000    0.000    0.000 config.py:663(_get_registered_option)\n",
      "        6    0.000    0.000    0.000    0.000 common.py:189(<genexpr>)\n",
      "        1    0.000    0.000    0.000    0.000 range.py:386(is_monotonic_increasing)\n",
      "        6    0.000    0.000    0.000    0.000 basedatatypes.py:5771(<dictcomp>)\n",
      "        5    0.000    0.000    0.000    0.000 {method 'reverse' of 'list' objects}\n",
      "        3    0.000    0.000    0.000    0.000 enum.py:1257(value)\n",
      "        1    0.000    0.000    0.000    0.000 <string>:1(<lambda>)\n",
      "        2    0.000    0.000    0.000    0.000 inspect.py:292(isclass)\n",
      "        2    0.000    0.000    0.000    0.000 fips_query.py:854(<genexpr>)\n",
      "        4    0.000    0.000    0.000    0.000 numeric.py:1455(<listcomp>)\n",
      "        3    0.000    0.000    0.000    0.000 concat.py:151(<genexpr>)\n",
      "        1    0.000    0.000    0.000    0.000 base.py:5970(_check_indexing_error)\n",
      "        2    0.000    0.000    0.000    0.000 api.py:344(<setcomp>)\n",
      "        1    0.000    0.000    0.000    0.000 base.py:914(__array__)\n",
      "        3    0.000    0.000    0.000    0.000 range.py:299(stop)\n",
      "        2    0.000    0.000    0.000    0.000 grouper.py:913(<genexpr>)\n",
      "        3    0.000    0.000    0.000    0.000 readers.py:550(_validate_names)\n",
      "        1    0.000    0.000    0.000    0.000 basedatatypes.py:1685(_perform_plotly_restyle)\n",
      "        2    0.000    0.000    0.000    0.000 basevalidators.py:2424(compute_graph_obj_module_str)\n",
      "        2    0.000    0.000    0.000    0.000 {method 'sub' of 're.Pattern' objects}\n",
      "        1    0.000    0.000    0.000    0.000 base.py:5976(_should_fallback_to_positional)\n",
      "        4    0.000    0.000    0.000    0.000 range.py:402(inferred_type)\n",
      "        1    0.000    0.000    0.000    0.000 series.py:4762(_reindex_indexer)\n",
      "        1    0.000    0.000    0.000    0.000 {built-in method pandas._libs.lib.is_interval}\n",
      "        1    0.000    0.000    0.000    0.000 {pandas._libs.lib.is_period}\n",
      "        6    0.000    0.000    0.000    0.000 contextlib.py:443(__enter__)\n",
      "        1    0.000    0.000    0.000    0.000 version.py:76(__lt__)\n",
      "        2    0.000    0.000    0.000    0.000 cast.py:1441(<genexpr>)\n",
      "        3    0.000    0.000    0.000    0.000 cast.py:1446(<genexpr>)\n",
      "        1    0.000    0.000    0.000    0.000 grouper.py:638(_passed_categorical)\n",
      "        2    0.000    0.000    0.000    0.000 merge.py:1009(<genexpr>)\n",
      "        6    0.000    0.000    0.000    0.000 readers.py:518(validate_integer)\n",
      "        6    0.000    0.000    0.000    0.000 basedatatypes.py:2976(_send_addTraces_msg)\n",
      "        1    0.000    0.000    0.000    0.000 basevalidators.py:1501(<listcomp>)\n",
      "        1    0.000    0.000    0.000    0.000 {method 'sort' of 'numpy.ndarray' objects}\n",
      "        3    0.000    0.000    0.000    0.000 {method 'lstrip' of 'str' objects}\n",
      "        1    0.000    0.000    0.000    0.000 concat.py:148(<setcomp>)\n",
      "        2    0.000    0.000    0.000    0.000 base.py:3190(_validate_sort_keyword)\n",
      "        3    0.000    0.000    0.000    0.000 range.py:228(_constructor)\n",
      "        3    0.000    0.000    0.000    0.000 concat.py:463(<genexpr>)\n",
      "        4    0.000    0.000    0.000    0.000 managers.py:1790(ndim)\n",
      "        1    0.000    0.000    0.000    0.000 managers.py:536(nblocks)\n",
      "        1    0.000    0.000    0.000    0.000 merge.py:2614(_should_fill)\n",
      "        1    0.000    0.000    0.000    0.000 basedatatypes.py:1800(_normalize_trace_indexes)\n",
      "        3    0.000    0.000    0.000    0.000 _templates.py:137(default)\n",
      "        2    0.000    0.000    0.000    0.000 {method 'get_count' of 'pandas._libs.hashtable.Factorizer' objects}\n",
      "        5    0.000    0.000    0.000    0.000 {function FrozenList.__getitem__ at 0x000001E764CCDF80}\n",
      "        2    0.000    0.000    0.000    0.000 {method 'clear' of 'collections.OrderedDict' objects}\n",
      "        4    0.000    0.000    0.000    0.000 multiarray.py:892(bincount)\n",
      "        1    0.000    0.000    0.000    0.000 base.py:7638(<listcomp>)\n",
      "        1    0.000    0.000    0.000    0.000 concat.py:536(<listcomp>)\n",
      "        1    0.000    0.000    0.000    0.000 {built-in method numpy.zeros}\n",
      "        2    0.000    0.000    0.000    0.000 {built-in method nt.getpid}\n",
      "        2    0.000    0.000    0.000    0.000 concat.py:357(_is_valid_na_for)\n",
      "        4    0.000    0.000    0.000    0.000 function_base.py:5364(_insert_dispatcher)\n",
      "        1    0.000    0.000    0.000    0.000 indexing.py:1735(_get_setitem_indexer)\n",
      "        3    0.000    0.000    0.000    0.000 concat.py:540(<genexpr>)\n",
      "        1    0.000    0.000    0.000    0.000 numba_.py:15(maybe_use_numba)\n",
      "        2    0.000    0.000    0.000    0.000 grouper.py:914(<genexpr>)\n",
      "        1    0.000    0.000    0.000    0.000 basevalidators.py:1943(validate_coerce)\n",
      "        1    0.000    0.000    0.000    0.000 _templates.py:58(__contains__)\n",
      "        1    0.000    0.000    0.000    0.000 {method 'view' of 'numpy.ndarray' objects}\n",
      "        2    0.000    0.000    0.000    0.000 {built-in method _abc._abc_subclasscheck}\n",
      "        3    0.000    0.000    0.000    0.000 {built-in method builtins.ord}\n",
      "        5    0.000    0.000    0.000    0.000 multiarray.py:669(result_type)\n",
      "        4    0.000    0.000    0.000    0.000 numeric.py:1389(_moveaxis_dispatcher)\n",
      "        3    0.000    0.000    0.000    0.000 stride_tricks.py:345(<genexpr>)\n",
      "        1    0.000    0.000    0.000    0.000 common.py:318(is_empty_slice)\n",
      "        4    0.000    0.000    0.000    0.000 generic.py:1780(<genexpr>)\n",
      "        3    0.000    0.000    0.000    0.000 base_parser.py:246(<listcomp>)\n",
      "        1    0.000    0.000    0.000    0.000 {method 'disable' of '_lsprof.Profiler' objects}\n",
      "        3    0.000    0.000    0.000    0.000 version.py:518(<lambda>)\n",
      "        1    0.000    0.000    0.000    0.000 fips_query.py:441(<listcomp>)\n",
      "        1    0.000    0.000    0.000    0.000 concat.py:149(<setcomp>)\n",
      "        1    0.000    0.000    0.000    0.000 indexing.py:2634(is_nested_tuple)\n",
      "        1    0.000    0.000    0.000    0.000 base.py:1328(_formatter_func)\n",
      "        2    0.000    0.000    0.000    0.000 managers.py:1945(index)\n",
      "        1    0.000    0.000    0.000    0.000 ops.py:125(__init__)\n",
      "        1    0.000    0.000    0.000    0.000 ops.py:682(<listcomp>)\n",
      "        1    0.000    0.000    0.000    0.000 _json.py:20(default_engine)\n",
      "        2    0.000    0.000    0.000    0.000 {built-in method builtins.setattr}\n",
      "        1    0.000    0.000    0.000    0.000 tz.py:74(utcoffset)\n",
      "        1    0.000    0.000    0.000    0.000 stride_tricks.py:25(_maybe_view_as_subclass)\n",
      "        2    0.000    0.000    0.000    0.000 fips_query.py:465(<listcomp>)\n",
      "        2    0.000    0.000    0.000    0.000 fromnumeric.py:1877(_nonzero_dispatcher)\n",
      "        1    0.000    0.000    0.000    0.000 base.py:159(_freeze)\n",
      "        1    0.000    0.000    0.000    0.000 frame.py:11177(<listcomp>)\n",
      "        1    0.000    0.000    0.000    0.000 base.py:1310(<listcomp>)\n",
      "        1    0.000    0.000    0.000    0.000 grouper.py:708(result_index)\n",
      "        1    0.000    0.000    0.000    0.000 ops.py:496(_validate_axis)\n",
      "        1    0.000    0.000    0.000    0.000 groupby.py:1516(_maybe_transpose_result)\n",
      "        3    0.000    0.000    0.000    0.000 readers.py:1779(__enter__)\n",
      "        2    0.000    0.000    0.000    0.000 _renderers.py:182(<listcomp>)\n",
      "        2    0.000    0.000    0.000    0.000 {method '__enter__' of '_thread.lock' objects}\n",
      "        3    0.000    0.000    0.000    0.000 copy.py:107(_copy_immutable)\n",
      "        1    0.000    0.000    0.000    0.000 similarity_utils.py:102(<genexpr>)\n",
      "        2    0.000    0.000    0.000    0.000 {method '__exit__' of '_thread.lock' objects}\n",
      "        2    0.000    0.000    0.000    0.000 {built-in method _thread.get_ident}\n",
      "        3    0.000    0.000    0.000    0.000 parse.py:108(_noop)\n",
      "        2    0.000    0.000    0.000    0.000 version.py:491(_parse_local_version)\n",
      "        1    0.000    0.000    0.000    0.000 fromnumeric.py:2974(_prod_dispatcher)\n",
      "        1    0.000    0.000    0.000    0.000 base.py:7670(_maybe_try_sort)\n",
      "        1    0.000    0.000    0.000    0.000 grouper.py:661(_ilevel)\n",
      "        1    0.000    0.000    0.000    0.000 basedatatypes.py:3086(<listcomp>)\n",
      "        2    0.000    0.000    0.000    0.000 {method 'release' of '_thread.lock' objects}\n",
      "        1    0.000    0.000    0.000    0.000 hmac.py:139(_current)\n",
      "        1    0.000    0.000    0.000    0.000 fromnumeric.py:2317(_any_dispatcher)\n",
      "        1    0.000    0.000    0.000    0.000 base.py:1319(_format_space)\n",
      "        2    0.000    0.000    0.000    0.000 range.py:381(is_unique)\n",
      "        1    0.000    0.000    0.000    0.000 blocks.py:243(mgr_locs)\n",
      "        1    0.000    0.000    0.000    0.000 merge.py:812(_maybe_require_matching_dtypes)\n",
      "        1    0.000    0.000    0.000    0.000 basedatatypes.py:3099(<dictcomp>)\n",
      "        1    0.000    0.000    0.000    0.000 basedatatypes.py:3090(<listcomp>)\n",
      "        1    0.000    0.000    0.000    0.000 basedatatypes.py:3308(<listcomp>)\n",
      "        1    0.000    0.000    0.000    0.000 basedatatypes.py:522(<listcomp>)\n",
      "        1    0.000    0.000    0.000    0.000 {method '__exit__' of 'numpy.nditer' objects}\n",
      "        2    0.000    0.000    0.000    0.000 {method 'end' of 're.Match' objects}\n",
      "        1    0.000    0.000    0.000    0.000 interactiveshell.py:661(get_ipython)\n",
      "        1    0.000    0.000    0.000    0.000 jsonutil.py:52(encode_images)\n",
      "        1    0.000    0.000    0.000    0.000 fromnumeric.py:861(_sort_dispatcher)\n",
      "        1    0.000    0.000    0.000    0.000 fromnumeric.py:2416(_all_dispatcher)\n",
      "        1    0.000    0.000    0.000    0.000 stride_tricks.py:363(_broadcast_to_dispatcher)\n",
      "        1    0.000    0.000    0.000    0.000 function_base.py:5168(_delete_dispatcher)\n",
      "        1    0.000    0.000    0.000    0.000 nanops.py:187(_get_fill_value)\n",
      "        1    0.000    0.000    0.000    0.000 indexing.py:1210(_has_valid_setitem_indexer)\n",
      "        1    0.000    0.000    0.000    0.000 api.py:282(<listcomp>)\n",
      "        1    0.000    0.000    0.000    0.000 merge.py:818(_validate_tolerance)\n",
      "        1    0.000    0.000    0.000    0.000 basedatatypes.py:532(<listcomp>)\n",
      "        1    0.000    0.000    0.000    0.000 basedatatypes.py:2991(_send_update_msg)\n",
      "        2    0.000    0.000    0.000    0.000 _renderers.py:192(<listcomp>)\n",
      "        1    0.000    0.000    0.000    0.000 {method 'values' of 'collections.OrderedDict' objects}\n",
      "        2    0.000    0.000    0.000    0.000 {method 'items' of 'collections.OrderedDict' objects}\n",
      "\n",
      "\n"
     ]
    }
   ],
   "source": [
    "import random\n",
    "import cProfile\n",
    "\n",
    "\n",
    "#variables = list_available_features(level='census_tract')\n",
    "time_periods = ['pre_2020', 'post_2020']  \n",
    "\n",
    "#variable = random.choice(variables)\n",
    "variable = 'population'\n",
    "ct_time_period = random.choice(time_periods)\n",
    "\n",
    "data = CTDataGrabberCSV(ct_time_period=ct_time_period)\n",
    "data.get_features_wide([variable])\n",
    "var = data.wide[variable]\n",
    "\n",
    "fips = random.choice(list(var['GeoFIPS']))\n",
    "\n",
    "\n",
    "\n",
    "def basic_run_ctfips():\n",
    "\n",
    "    f = CTFipsQuery(\n",
    "        fips,\n",
    "        variable,\n",
    "        ct_time_period=ct_time_period,\n",
    "    )\n",
    " \n",
    "    f.find_euclidean_kins()\n",
    "    f.show_kins_plot()\n",
    "    \n",
    "\n",
    "profiler_basic_ctfips = cProfile.Profile()\n",
    "\n",
    "profiler_basic_ctfips.enable()\n",
    "basic_run_ctfips()\n",
    "profiler_basic_ctfips.disable()\n",
    "\n",
    "profiler_basic_ctfips.print_stats(sort='cumulative')\n"
   ]
  },
  {
   "cell_type": "code",
   "execution_count": 55,
   "metadata": {},
   "outputs": [
    {
     "data": {
      "application/vnd.plotly.v1+json": {
       "config": {
        "plotlyServerURL": "https://plot.ly"
       },
       "data": [
        {
         "line": {
          "color": "darkred",
          "width": 3
         },
         "mode": "lines",
         "name": "Belknap, NH (CT)",
         "text": "Belknap, NH (CT)",
         "textposition": "top right",
         "type": "scatter",
         "x": [
          2010,
          2011,
          2012,
          2013,
          2014,
          2015,
          2016,
          2017,
          2018,
          2019
         ],
         "y": [
          3687,
          3739,
          3761,
          3771,
          3778,
          3779,
          3744,
          3740,
          3738,
          3738
         ]
        },
        {
         "line": {
          "color": "#FFC0CB"
         },
         "mode": "lines",
         "name": "Kiowa, OK (CT)",
         "text": "Kiowa, OK (CT)",
         "textposition": "top right",
         "type": "scatter",
         "x": [
          2010,
          2011,
          2012,
          2013,
          2014,
          2015,
          2016,
          2017,
          2018,
          2019
         ],
         "y": [
          3783,
          3668,
          3645,
          3582,
          3742,
          3773,
          3880,
          3805,
          3781,
          3700
         ]
        },
        {
         "line": {
          "color": "#A9A9A9"
         },
         "mode": "lines",
         "name": "Cass, MI (CT)",
         "text": "Cass, MI (CT)",
         "textposition": "top right",
         "type": "scatter",
         "x": [
          2010,
          2011,
          2012,
          2013,
          2014,
          2015,
          2016,
          2017,
          2018,
          2019
         ],
         "y": [
          3832,
          3818,
          3818,
          3791,
          3801,
          3795,
          3788,
          3764,
          3783,
          3787
         ]
        },
        {
         "line": {
          "color": "#87CEFA"
         },
         "mode": "lines",
         "name": "Polk, WI (CT)",
         "text": "Polk, WI (CT)",
         "textposition": "top right",
         "type": "scatter",
         "x": [
          2010,
          2011,
          2012,
          2013,
          2014,
          2015,
          2016,
          2017,
          2018,
          2019
         ],
         "y": [
          3866,
          3785,
          3716,
          3615,
          3697,
          3628,
          3581,
          3707,
          3778,
          3744
         ]
        },
        {
         "line": {
          "color": "#FFD700"
         },
         "mode": "lines",
         "name": "Penobscot, ME (CT)",
         "text": "Penobscot, ME (CT)",
         "textposition": "top right",
         "type": "scatter",
         "x": [
          2010,
          2011,
          2012,
          2013,
          2014,
          2015,
          2016,
          2017,
          2018,
          2019
         ],
         "y": [
          3922,
          3903,
          3890,
          3875,
          3857,
          3844,
          3806,
          3766,
          3737,
          3725
         ]
        },
        {
         "line": {
          "color": "#98FB98"
         },
         "mode": "lines",
         "name": "Sweet Grass, MT (CT)",
         "text": "Sweet Grass, MT (CT)",
         "textposition": "top right",
         "type": "scatter",
         "x": [
          2010,
          2011,
          2012,
          2013,
          2014,
          2015,
          2016,
          2017,
          2018,
          2019
         ],
         "y": [
          3717,
          3702,
          3661,
          3640,
          3622,
          3633,
          3634,
          3646,
          3653,
          3670
         ]
        }
       ],
       "layout": {
        "legend": {
         "title": {
          "text": "GeoName"
         }
        },
        "template": {
         "data": {
          "bar": [
           {
            "error_x": {
             "color": "rgb(36,36,36)"
            },
            "error_y": {
             "color": "rgb(36,36,36)"
            },
            "marker": {
             "line": {
              "color": "white",
              "width": 0.5
             },
             "pattern": {
              "fillmode": "overlay",
              "size": 10,
              "solidity": 0.2
             }
            },
            "type": "bar"
           }
          ],
          "barpolar": [
           {
            "marker": {
             "line": {
              "color": "white",
              "width": 0.5
             },
             "pattern": {
              "fillmode": "overlay",
              "size": 10,
              "solidity": 0.2
             }
            },
            "type": "barpolar"
           }
          ],
          "carpet": [
           {
            "aaxis": {
             "endlinecolor": "rgb(36,36,36)",
             "gridcolor": "white",
             "linecolor": "white",
             "minorgridcolor": "white",
             "startlinecolor": "rgb(36,36,36)"
            },
            "baxis": {
             "endlinecolor": "rgb(36,36,36)",
             "gridcolor": "white",
             "linecolor": "white",
             "minorgridcolor": "white",
             "startlinecolor": "rgb(36,36,36)"
            },
            "type": "carpet"
           }
          ],
          "choropleth": [
           {
            "colorbar": {
             "outlinewidth": 1,
             "tickcolor": "rgb(36,36,36)",
             "ticks": "outside"
            },
            "type": "choropleth"
           }
          ],
          "contour": [
           {
            "colorbar": {
             "outlinewidth": 1,
             "tickcolor": "rgb(36,36,36)",
             "ticks": "outside"
            },
            "colorscale": [
             [
              0,
              "#440154"
             ],
             [
              0.1111111111111111,
              "#482878"
             ],
             [
              0.2222222222222222,
              "#3e4989"
             ],
             [
              0.3333333333333333,
              "#31688e"
             ],
             [
              0.4444444444444444,
              "#26828e"
             ],
             [
              0.5555555555555556,
              "#1f9e89"
             ],
             [
              0.6666666666666666,
              "#35b779"
             ],
             [
              0.7777777777777778,
              "#6ece58"
             ],
             [
              0.8888888888888888,
              "#b5de2b"
             ],
             [
              1,
              "#fde725"
             ]
            ],
            "type": "contour"
           }
          ],
          "contourcarpet": [
           {
            "colorbar": {
             "outlinewidth": 1,
             "tickcolor": "rgb(36,36,36)",
             "ticks": "outside"
            },
            "type": "contourcarpet"
           }
          ],
          "heatmap": [
           {
            "colorbar": {
             "outlinewidth": 1,
             "tickcolor": "rgb(36,36,36)",
             "ticks": "outside"
            },
            "colorscale": [
             [
              0,
              "#440154"
             ],
             [
              0.1111111111111111,
              "#482878"
             ],
             [
              0.2222222222222222,
              "#3e4989"
             ],
             [
              0.3333333333333333,
              "#31688e"
             ],
             [
              0.4444444444444444,
              "#26828e"
             ],
             [
              0.5555555555555556,
              "#1f9e89"
             ],
             [
              0.6666666666666666,
              "#35b779"
             ],
             [
              0.7777777777777778,
              "#6ece58"
             ],
             [
              0.8888888888888888,
              "#b5de2b"
             ],
             [
              1,
              "#fde725"
             ]
            ],
            "type": "heatmap"
           }
          ],
          "heatmapgl": [
           {
            "colorbar": {
             "outlinewidth": 1,
             "tickcolor": "rgb(36,36,36)",
             "ticks": "outside"
            },
            "colorscale": [
             [
              0,
              "#440154"
             ],
             [
              0.1111111111111111,
              "#482878"
             ],
             [
              0.2222222222222222,
              "#3e4989"
             ],
             [
              0.3333333333333333,
              "#31688e"
             ],
             [
              0.4444444444444444,
              "#26828e"
             ],
             [
              0.5555555555555556,
              "#1f9e89"
             ],
             [
              0.6666666666666666,
              "#35b779"
             ],
             [
              0.7777777777777778,
              "#6ece58"
             ],
             [
              0.8888888888888888,
              "#b5de2b"
             ],
             [
              1,
              "#fde725"
             ]
            ],
            "type": "heatmapgl"
           }
          ],
          "histogram": [
           {
            "marker": {
             "line": {
              "color": "white",
              "width": 0.6
             }
            },
            "type": "histogram"
           }
          ],
          "histogram2d": [
           {
            "colorbar": {
             "outlinewidth": 1,
             "tickcolor": "rgb(36,36,36)",
             "ticks": "outside"
            },
            "colorscale": [
             [
              0,
              "#440154"
             ],
             [
              0.1111111111111111,
              "#482878"
             ],
             [
              0.2222222222222222,
              "#3e4989"
             ],
             [
              0.3333333333333333,
              "#31688e"
             ],
             [
              0.4444444444444444,
              "#26828e"
             ],
             [
              0.5555555555555556,
              "#1f9e89"
             ],
             [
              0.6666666666666666,
              "#35b779"
             ],
             [
              0.7777777777777778,
              "#6ece58"
             ],
             [
              0.8888888888888888,
              "#b5de2b"
             ],
             [
              1,
              "#fde725"
             ]
            ],
            "type": "histogram2d"
           }
          ],
          "histogram2dcontour": [
           {
            "colorbar": {
             "outlinewidth": 1,
             "tickcolor": "rgb(36,36,36)",
             "ticks": "outside"
            },
            "colorscale": [
             [
              0,
              "#440154"
             ],
             [
              0.1111111111111111,
              "#482878"
             ],
             [
              0.2222222222222222,
              "#3e4989"
             ],
             [
              0.3333333333333333,
              "#31688e"
             ],
             [
              0.4444444444444444,
              "#26828e"
             ],
             [
              0.5555555555555556,
              "#1f9e89"
             ],
             [
              0.6666666666666666,
              "#35b779"
             ],
             [
              0.7777777777777778,
              "#6ece58"
             ],
             [
              0.8888888888888888,
              "#b5de2b"
             ],
             [
              1,
              "#fde725"
             ]
            ],
            "type": "histogram2dcontour"
           }
          ],
          "mesh3d": [
           {
            "colorbar": {
             "outlinewidth": 1,
             "tickcolor": "rgb(36,36,36)",
             "ticks": "outside"
            },
            "type": "mesh3d"
           }
          ],
          "parcoords": [
           {
            "line": {
             "colorbar": {
              "outlinewidth": 1,
              "tickcolor": "rgb(36,36,36)",
              "ticks": "outside"
             }
            },
            "type": "parcoords"
           }
          ],
          "pie": [
           {
            "automargin": true,
            "type": "pie"
           }
          ],
          "scatter": [
           {
            "fillpattern": {
             "fillmode": "overlay",
             "size": 10,
             "solidity": 0.2
            },
            "type": "scatter"
           }
          ],
          "scatter3d": [
           {
            "line": {
             "colorbar": {
              "outlinewidth": 1,
              "tickcolor": "rgb(36,36,36)",
              "ticks": "outside"
             }
            },
            "marker": {
             "colorbar": {
              "outlinewidth": 1,
              "tickcolor": "rgb(36,36,36)",
              "ticks": "outside"
             }
            },
            "type": "scatter3d"
           }
          ],
          "scattercarpet": [
           {
            "marker": {
             "colorbar": {
              "outlinewidth": 1,
              "tickcolor": "rgb(36,36,36)",
              "ticks": "outside"
             }
            },
            "type": "scattercarpet"
           }
          ],
          "scattergeo": [
           {
            "marker": {
             "colorbar": {
              "outlinewidth": 1,
              "tickcolor": "rgb(36,36,36)",
              "ticks": "outside"
             }
            },
            "type": "scattergeo"
           }
          ],
          "scattergl": [
           {
            "marker": {
             "colorbar": {
              "outlinewidth": 1,
              "tickcolor": "rgb(36,36,36)",
              "ticks": "outside"
             }
            },
            "type": "scattergl"
           }
          ],
          "scattermapbox": [
           {
            "marker": {
             "colorbar": {
              "outlinewidth": 1,
              "tickcolor": "rgb(36,36,36)",
              "ticks": "outside"
             }
            },
            "type": "scattermapbox"
           }
          ],
          "scatterpolar": [
           {
            "marker": {
             "colorbar": {
              "outlinewidth": 1,
              "tickcolor": "rgb(36,36,36)",
              "ticks": "outside"
             }
            },
            "type": "scatterpolar"
           }
          ],
          "scatterpolargl": [
           {
            "marker": {
             "colorbar": {
              "outlinewidth": 1,
              "tickcolor": "rgb(36,36,36)",
              "ticks": "outside"
             }
            },
            "type": "scatterpolargl"
           }
          ],
          "scatterternary": [
           {
            "marker": {
             "colorbar": {
              "outlinewidth": 1,
              "tickcolor": "rgb(36,36,36)",
              "ticks": "outside"
             }
            },
            "type": "scatterternary"
           }
          ],
          "surface": [
           {
            "colorbar": {
             "outlinewidth": 1,
             "tickcolor": "rgb(36,36,36)",
             "ticks": "outside"
            },
            "colorscale": [
             [
              0,
              "#440154"
             ],
             [
              0.1111111111111111,
              "#482878"
             ],
             [
              0.2222222222222222,
              "#3e4989"
             ],
             [
              0.3333333333333333,
              "#31688e"
             ],
             [
              0.4444444444444444,
              "#26828e"
             ],
             [
              0.5555555555555556,
              "#1f9e89"
             ],
             [
              0.6666666666666666,
              "#35b779"
             ],
             [
              0.7777777777777778,
              "#6ece58"
             ],
             [
              0.8888888888888888,
              "#b5de2b"
             ],
             [
              1,
              "#fde725"
             ]
            ],
            "type": "surface"
           }
          ],
          "table": [
           {
            "cells": {
             "fill": {
              "color": "rgb(237,237,237)"
             },
             "line": {
              "color": "white"
             }
            },
            "header": {
             "fill": {
              "color": "rgb(217,217,217)"
             },
             "line": {
              "color": "white"
             }
            },
            "type": "table"
           }
          ]
         },
         "layout": {
          "annotationdefaults": {
           "arrowhead": 0,
           "arrowwidth": 1
          },
          "autotypenumbers": "strict",
          "coloraxis": {
           "colorbar": {
            "outlinewidth": 1,
            "tickcolor": "rgb(36,36,36)",
            "ticks": "outside"
           }
          },
          "colorscale": {
           "diverging": [
            [
             0,
             "rgb(103,0,31)"
            ],
            [
             0.1,
             "rgb(178,24,43)"
            ],
            [
             0.2,
             "rgb(214,96,77)"
            ],
            [
             0.3,
             "rgb(244,165,130)"
            ],
            [
             0.4,
             "rgb(253,219,199)"
            ],
            [
             0.5,
             "rgb(247,247,247)"
            ],
            [
             0.6,
             "rgb(209,229,240)"
            ],
            [
             0.7,
             "rgb(146,197,222)"
            ],
            [
             0.8,
             "rgb(67,147,195)"
            ],
            [
             0.9,
             "rgb(33,102,172)"
            ],
            [
             1,
             "rgb(5,48,97)"
            ]
           ],
           "sequential": [
            [
             0,
             "#440154"
            ],
            [
             0.1111111111111111,
             "#482878"
            ],
            [
             0.2222222222222222,
             "#3e4989"
            ],
            [
             0.3333333333333333,
             "#31688e"
            ],
            [
             0.4444444444444444,
             "#26828e"
            ],
            [
             0.5555555555555556,
             "#1f9e89"
            ],
            [
             0.6666666666666666,
             "#35b779"
            ],
            [
             0.7777777777777778,
             "#6ece58"
            ],
            [
             0.8888888888888888,
             "#b5de2b"
            ],
            [
             1,
             "#fde725"
            ]
           ],
           "sequentialminus": [
            [
             0,
             "#440154"
            ],
            [
             0.1111111111111111,
             "#482878"
            ],
            [
             0.2222222222222222,
             "#3e4989"
            ],
            [
             0.3333333333333333,
             "#31688e"
            ],
            [
             0.4444444444444444,
             "#26828e"
            ],
            [
             0.5555555555555556,
             "#1f9e89"
            ],
            [
             0.6666666666666666,
             "#35b779"
            ],
            [
             0.7777777777777778,
             "#6ece58"
            ],
            [
             0.8888888888888888,
             "#b5de2b"
            ],
            [
             1,
             "#fde725"
            ]
           ]
          },
          "colorway": [
           "#1F77B4",
           "#FF7F0E",
           "#2CA02C",
           "#D62728",
           "#9467BD",
           "#8C564B",
           "#E377C2",
           "#7F7F7F",
           "#BCBD22",
           "#17BECF"
          ],
          "font": {
           "color": "rgb(36,36,36)"
          },
          "geo": {
           "bgcolor": "white",
           "lakecolor": "white",
           "landcolor": "white",
           "showlakes": true,
           "showland": true,
           "subunitcolor": "white"
          },
          "hoverlabel": {
           "align": "left"
          },
          "hovermode": "closest",
          "mapbox": {
           "style": "light"
          },
          "paper_bgcolor": "white",
          "plot_bgcolor": "white",
          "polar": {
           "angularaxis": {
            "gridcolor": "rgb(232,232,232)",
            "linecolor": "rgb(36,36,36)",
            "showgrid": false,
            "showline": true,
            "ticks": "outside"
           },
           "bgcolor": "white",
           "radialaxis": {
            "gridcolor": "rgb(232,232,232)",
            "linecolor": "rgb(36,36,36)",
            "showgrid": false,
            "showline": true,
            "ticks": "outside"
           }
          },
          "scene": {
           "xaxis": {
            "backgroundcolor": "white",
            "gridcolor": "rgb(232,232,232)",
            "gridwidth": 2,
            "linecolor": "rgb(36,36,36)",
            "showbackground": true,
            "showgrid": false,
            "showline": true,
            "ticks": "outside",
            "zeroline": false,
            "zerolinecolor": "rgb(36,36,36)"
           },
           "yaxis": {
            "backgroundcolor": "white",
            "gridcolor": "rgb(232,232,232)",
            "gridwidth": 2,
            "linecolor": "rgb(36,36,36)",
            "showbackground": true,
            "showgrid": false,
            "showline": true,
            "ticks": "outside",
            "zeroline": false,
            "zerolinecolor": "rgb(36,36,36)"
           },
           "zaxis": {
            "backgroundcolor": "white",
            "gridcolor": "rgb(232,232,232)",
            "gridwidth": 2,
            "linecolor": "rgb(36,36,36)",
            "showbackground": true,
            "showgrid": false,
            "showline": true,
            "ticks": "outside",
            "zeroline": false,
            "zerolinecolor": "rgb(36,36,36)"
           }
          },
          "shapedefaults": {
           "fillcolor": "black",
           "line": {
            "width": 0
           },
           "opacity": 0.3
          },
          "ternary": {
           "aaxis": {
            "gridcolor": "rgb(232,232,232)",
            "linecolor": "rgb(36,36,36)",
            "showgrid": false,
            "showline": true,
            "ticks": "outside"
           },
           "baxis": {
            "gridcolor": "rgb(232,232,232)",
            "linecolor": "rgb(36,36,36)",
            "showgrid": false,
            "showline": true,
            "ticks": "outside"
           },
           "bgcolor": "white",
           "caxis": {
            "gridcolor": "rgb(232,232,232)",
            "linecolor": "rgb(36,36,36)",
            "showgrid": false,
            "showline": true,
            "ticks": "outside"
           }
          },
          "title": {
           "x": 0.05
          },
          "xaxis": {
           "automargin": true,
           "gridcolor": "rgb(232,232,232)",
           "linecolor": "rgb(36,36,36)",
           "showgrid": false,
           "showline": true,
           "ticks": "outside",
           "title": {
            "standoff": 15
           },
           "zeroline": false,
           "zerolinecolor": "rgb(36,36,36)"
          },
          "yaxis": {
           "automargin": true,
           "gridcolor": "rgb(232,232,232)",
           "linecolor": "rgb(36,36,36)",
           "showgrid": false,
           "showline": true,
           "ticks": "outside",
           "title": {
            "standoff": 15
           },
           "zeroline": false,
           "zerolinecolor": "rgb(36,36,36)"
          }
         }
        },
        "title": {
         "text": "Top 5 locations matching your search"
        },
        "xaxis": {
         "title": {
          "text": "Year"
         }
        },
        "yaxis": {
         "title": {
          "text": "population"
         }
        }
       }
      }
     },
     "metadata": {},
     "output_type": "display_data"
    },
    {
     "name": "stdout",
     "output_type": "stream",
     "text": [
      "         1003385 function calls (991604 primitive calls) in 9.541 seconds\n",
      "\n",
      "   Ordered by: cumulative time\n",
      "\n",
      "   ncalls  tottime  percall  cumtime  percall filename:lineno(function)\n",
      "        2    0.000    0.000    9.559    4.779 interactiveshell.py:3514(run_code)\n",
      "        2    0.000    0.000    9.558    4.779 {built-in method builtins.exec}\n",
      "        1    0.017    0.017    9.541    9.541 3385331089.py:1(basic_run_ctfips)\n",
      "        1    2.491    2.491    7.335    7.335 fips_query.py:803(__init__)\n",
      "      171    4.436    0.026    4.436    0.026 {method 'reduce' of 'numpy.ufunc' objects}\n",
      "       13    0.000    0.000    4.435    0.341 {method 'sum' of 'numpy.ndarray' objects}\n",
      "       13    0.000    0.000    4.435    0.341 _methods.py:47(_sum)\n",
      "        1    0.127    0.127    1.822    1.822 fips_query.py:237(find_euclidean_kins)\n",
      "    72187    0.990    0.000    1.294    0.000 similarity_utils.py:63(generalized_euclidean_distance)\n",
      "        3    0.000    0.000    0.707    0.236 data_grabber.py:80(_get_features)\n",
      "        5    0.000    0.000    0.706    0.141 readers.py:848(read_csv)\n",
      "        5    0.006    0.001    0.706    0.141 readers.py:574(_read)\n",
      "        5    0.000    0.000    0.681    0.136 readers.py:1732(read)\n",
      "        5    0.000    0.000    0.647    0.129 c_parser_wrapper.py:222(read)\n",
      "        5    0.619    0.124    0.630    0.126 {method 'read_low_memory' of 'pandas._libs.parsers.TextReader' objects}\n",
      "        1    0.000    0.000    0.366    0.366 fips_query.py:668(show_kins_plot)\n",
      "        1    0.000    0.000    0.360    0.360 fips_query.py:660(plot_kins)\n",
      "        1    0.000    0.000    0.360    0.360 fips_query.py:544(plot_kins_other_var)\n",
      "        1    0.000    0.000    0.301    0.301 data_grabber.py:120(get_features_long)\n",
      "        1    0.000    0.000    0.262    0.262 data_grabber.py:117(get_features_std_wide)\n",
      "    72276    0.156    0.000    0.156    0.000 {built-in method builtins.sum}\n",
      "   216564    0.148    0.000    0.148    0.000 {built-in method builtins.abs}\n",
      "        1    0.000    0.000    0.144    0.144 data_grabber.py:114(get_features_wide)\n",
      "        4    0.042    0.010    0.110    0.028 shape_base.py:219(vstack)\n",
      "        4    0.055    0.014    0.068    0.017 shape_base.py:81(atleast_2d)\n",
      "       80    0.001    0.000    0.054    0.001 blocks.py:1041(take_nd)\n",
      "       97    0.000    0.000    0.053    0.001 take.py:59(take_nd)\n",
      "       97    0.001    0.000    0.053    0.001 take.py:121(_take_nd_ndarray)\n",
      "       28    0.000    0.000    0.051    0.002 managers.py:606(reindex_indexer)\n",
      "    72187    0.024    0.000    0.050    0.000 fromnumeric.py:1491(squeeze)\n",
      "       24    0.000    0.000    0.049    0.002 managers.py:852(take)\n",
      "       20    0.000    0.000    0.040    0.002 managers.py:670(<listcomp>)\n",
      "       75    0.001    0.000    0.039    0.001 frame.py:3853(__getitem__)\n",
      "   407/90    0.002    0.000    0.039    0.000 basedatatypes.py:4811(__setitem__)\n",
      "       14    0.000    0.000    0.036    0.003 frame.py:665(__init__)\n",
      "  8149/29    0.009    0.000    0.036    0.001 copy.py:128(deepcopy)\n",
      "        2    0.000    0.000    0.036    0.018 frame.py:6752(sort_values)\n",
      "        7    0.000    0.000    0.035    0.005 construction.py:423(dict_to_mgr)\n",
      "        1    0.000    0.000    0.035    0.035 _figure.py:749(update_layout)\n",
      "        1    0.000    0.000    0.035    0.035 basedatatypes.py:1367(update_layout)\n",
      "        1    0.000    0.000    0.035    0.035 basedatatypes.py:5110(update)\n",
      "     24/5    0.000    0.000    0.034    0.007 basedatatypes.py:5892(__setitem__)\n",
      "        7    0.000    0.000    0.034    0.005 concat.py:157(concat)\n",
      "        7    0.000    0.000    0.034    0.005 concat.py:618(get_result)\n",
      "      3/2    0.000    0.000    0.034    0.017 basedatatypes.py:3852(_perform_update)\n",
      "    88/12    0.001    0.000    0.033    0.003 basedatatypes.py:5251(_set_compound_prop)\n",
      "        1    0.000    0.000    0.032    0.032 frame.py:10468(merge)\n",
      "        1    0.000    0.000    0.032    0.032 merge.py:134(merge)\n",
      "        1    0.000    0.000    0.030    0.030 merge.py:879(get_result)\n",
      "        7    0.001    0.000    0.030    0.004 construction.py:96(arrays_to_mgr)\n",
      "      153    0.002    0.000    0.029    0.000 construction.py:518(sanitize_array)\n",
      "       22    0.000    0.000    0.028    0.001 generic.py:4077(_take_with_is_copy)\n",
      "       28    0.000    0.000    0.028    0.001 managers.py:540(copy)\n",
      "       22    0.000    0.000    0.027    0.001 generic.py:3962(take)\n",
      "        7    0.000    0.000    0.027    0.004 managers.py:2068(create_block_manager_from_column_arrays)\n",
      "        1    0.000    0.000    0.027    0.027 basevalidators.py:2751(validate_coerce)\n",
      "    72187    0.026    0.000    0.026    0.000 {method 'squeeze' of 'numpy.ndarray' objects}\n",
      "        5    0.000    0.000    0.026    0.005 frame.py:4062(__setitem__)\n",
      "        5    0.000    0.000    0.025    0.005 frame.py:4290(_set_item)\n",
      "   221337    0.025    0.000    0.025    0.000 {method 'append' of 'list' objects}\n",
      "        2    0.000    0.000    0.025    0.012 copy.py:259(_reconstruct)\n",
      "        7    0.002    0.000    0.024    0.003 concat.py:94(concatenate_managers)\n",
      "        5    0.000    0.000    0.023    0.005 frame.py:5015(_sanitize_column)\n",
      "       22    0.023    0.001    0.023    0.001 {pandas._libs.algos.take_2d_axis1_float64_float64}\n",
      "       36    0.001    0.000    0.023    0.001 cast.py:119(maybe_convert_platform)\n",
      "        3    0.000    0.000    0.023    0.008 _template.py:250(__init__)\n",
      "    88/14    0.000    0.000    0.021    0.002 basevalidators.py:2479(validate_coerce)\n",
      "        7    0.000    0.000    0.021    0.003 concat.py:202(_maybe_reindex_columns_na_proxy)\n",
      "        3    0.000    0.000    0.019    0.006 generic.py:12062(sum)\n",
      "        3    0.000    0.000    0.019    0.006 generic.py:12023(_min_count_stat_function)\n",
      "        2    0.000    0.000    0.019    0.009 frame.py:11303(sum)\n",
      "        7    0.000    0.000    0.019    0.003 managers.py:2137(_form_blocks)\n",
      "        2    0.008    0.004    0.019    0.009 frame.py:11090(_reduce)\n",
      "  935/131    0.002    0.000    0.019    0.000 copy.py:227(_deepcopy_dict)\n",
      "      143    0.018    0.000    0.018    0.000 {method 'copy' of 'numpy.ndarray' objects}\n",
      "       14    0.000    0.000    0.018    0.001 frame.py:3921(_getitem_bool_array)\n",
      "      103    0.017    0.000    0.018    0.000 {pandas._libs.lib.maybe_convert_objects}\n",
      "        5    0.000    0.000    0.018    0.004 readers.py:1403(__init__)\n",
      "       28    0.000    0.000    0.018    0.001 managers.py:308(apply)\n",
      "       20    0.015    0.001    0.018    0.001 managers.py:2194(_stack_arrays)\n",
      "       33    0.000    0.000    0.018    0.001 managers.py:1744(_consolidate_inplace)\n",
      "        5    0.000    0.000    0.018    0.004 readers.py:1673(_make_engine)\n",
      "       60    0.000    0.000    0.017    0.000 blocks.py:639(copy)\n",
      "        3    0.000    0.000    0.017    0.006 managers.py:2207(_consolidate)\n",
      "        8    0.009    0.001    0.017    0.002 managers.py:2224(_merge_blocks)\n",
      "        5    0.003    0.001    0.016    0.003 c_parser_wrapper.py:355(_concatenate_chunks)\n",
      "        5    0.015    0.003    0.016    0.003 c_parser_wrapper.py:60(__init__)\n",
      "        1    0.000    0.000    0.016    0.016 merge.py:1109(_get_join_info)\n",
      "       17    0.016    0.001    0.016    0.001 {pandas._libs.algos.take_2d_axis0_float64_float64}\n",
      "        1    0.000    0.000    0.016    0.016 merge.py:1103(_get_join_indexers)\n",
      "        1    0.000    0.000    0.016    0.016 merge.py:1658(get_join_indexers)\n",
      "       17    0.001    0.000    0.016    0.001 managers.py:691(_slice_take_blocks_ax0)\n",
      "        1    0.000    0.000    0.015    0.015 similarity_utils.py:10(slice_with_lag)\n",
      "        1    0.000    0.000    0.014    0.014 merge.py:822(_reindex_and_concat)\n",
      "       53    0.013    0.000    0.013    0.000 concat.py:52(concat_compat)\n",
      "       16    0.000    0.000    0.013    0.001 generic.py:6553(copy)\n",
      "        2    0.000    0.000    0.013    0.006 indexing.py:867(__setitem__)\n",
      "        1    0.000    0.000    0.013    0.013 _data.py:1319(__init__)\n",
      "        2    0.000    0.000    0.013    0.006 indexing.py:1747(_setitem_with_indexer)\n",
      "        2    0.001    0.000    0.012    0.006 merge.py:2341(_factorize_keys)\n",
      "       25    0.000    0.000    0.012    0.000 basedatatypes.py:5325(_set_array_prop)\n",
      "  984/214    0.002    0.000    0.012    0.000 copy.py:201(_deepcopy_list)\n",
      "        4    0.012    0.003    0.012    0.003 {method 'factorize' of 'pandas._libs.hashtable.Int64Factorizer' objects}\n",
      "      294    0.001    0.000    0.011    0.000 <frozen codecs>:319(decode)\n",
      "    72187    0.011    0.000    0.011    0.000 fromnumeric.py:1487(_squeeze_dispatcher)\n",
      "        2    0.001    0.000    0.011    0.006 sorting.py:413(nargsort)\n",
      "       26    0.000    0.000    0.011    0.000 basevalidators.py:2564(validate_coerce)\n",
      "      294    0.010    0.000    0.010    0.000 {built-in method _codecs.utf_8_decode}\n",
      "        7    0.010    0.001    0.010    0.001 {method 'argsort' of 'numpy.ndarray' objects}\n",
      "      286    0.001    0.000    0.009    0.000 basedatatypes.py:5185(_set_prop)\n",
      "        1    0.000    0.000    0.008    0.008 groupby.py:2999(sum)\n",
      "        1    0.000    0.000    0.008    0.008 groupby.py:1830(_agg_general)\n",
      "        1    0.000    0.000    0.008    0.008 groupby.py:1889(_cython_agg_general)\n",
      "        1    0.000    0.000    0.008    0.008 managers.py:1409(grouped_reduce)\n",
      "        1    0.000    0.000    0.008    0.008 blocks.py:360(apply)\n",
      "        1    0.000    0.000    0.008    0.008 groupby.py:1903(array_func)\n",
      "        1    0.000    0.000    0.008    0.008 ops.py:796(_cython_operation)\n",
      "       26    0.000    0.000    0.008    0.000 indexing.py:1139(__getitem__)\n",
      "        2    0.000    0.000    0.008    0.004 _layout.py:5876(__init__)\n",
      "        1    0.000    0.000    0.008    0.008 ops.py:507(cython_operation)\n",
      "        1    0.000    0.000    0.008    0.008 ops.py:304(_cython_op_ndim_compat)\n",
      "        1    0.007    0.007    0.008    0.008 ops.py:348(_call_cython_op)\n",
      "        4    0.000    0.000    0.007    0.002 frame.py:3744(T)\n",
      "        2    0.000    0.000    0.007    0.004 merge.py:1699(<genexpr>)\n",
      "        4    0.004    0.001    0.007    0.002 frame.py:3572(transpose)\n",
      "    48/43    0.001    0.000    0.007    0.000 series.py:371(__init__)\n",
      "       10    0.000    0.000    0.007    0.001 indexing.py:1651(_getitem_tuple)\n",
      "        4    0.006    0.002    0.007    0.002 algorithms.py:457(isin)\n",
      "    72215    0.007    0.000    0.007    0.000 {built-in method numpy.asanyarray}\n",
      "       25    0.000    0.000    0.007    0.000 indexing.py:1681(_getitem_axis)\n",
      "        1    0.000    0.000    0.006    0.006 series.py:5273(isin)\n",
      "       19    0.000    0.000    0.006    0.000 base.py:3858(get_indexer)\n",
      "       22    0.000    0.000    0.006    0.000 common.py:62(new_method)\n",
      "       13    0.000    0.000    0.006    0.000 _scatter.py:2732(__init__)\n",
      "        1    0.000    0.000    0.006    0.006 basedatatypes.py:3376(show)\n",
      "       47    0.006    0.000    0.006    0.000 cast.py:1544(construct_1d_object_array_from_listlike)\n",
      "        1    0.000    0.000    0.006    0.006 _renderers.py:348(show)\n",
      "        7    0.000    0.000    0.006    0.001 indexing.py:978(_getitem_tuple_same_dim)\n",
      "       18    0.006    0.000    0.006    0.000 {pandas._libs.algos.take_2d_axis0_object_object}\n",
      "        9    0.000    0.000    0.006    0.001 generic.py:4296(_slice)\n",
      "        8    0.000    0.000    0.006    0.001 indexing.py:1718(_get_slice_axis)\n",
      "        7    0.000    0.000    0.006    0.001 concat.py:695(new_axes)\n",
      "        7    0.000    0.000    0.006    0.001 concat.py:698(<listcomp>)\n",
      "        9    0.000    0.000    0.005    0.001 {method 'get_slice' of 'pandas._libs.internals.BlockManager' objects}\n",
      "       52    0.001    0.000    0.005    0.000 base.py:477(__new__)\n",
      "        2    0.000    0.000    0.005    0.003 managers.py:1442(reduce)\n",
      "        1    0.005    0.005    0.005    0.005 fips_query.py:498(<listcomp>)\n",
      "      276    0.005    0.000    0.005    0.000 {built-in method numpy.empty}\n",
      "       16    0.000    0.000    0.005    0.000 series.py:5790(_cmp_method)\n",
      "       10    0.000    0.000    0.005    0.000 managers.py:278(get_dtypes)\n",
      "        3    0.000    0.000    0.005    0.002 nanops.py:76(_f)\n",
      "13292/13222    0.003    0.000    0.005    0.000 {built-in method builtins.isinstance}\n",
      "        2    0.000    0.000    0.005    0.002 blocks.py:371(reduce)\n",
      "        3    0.000    0.000    0.005    0.002 nanops.py:389(new_func)\n",
      "        3    0.000    0.000    0.005    0.002 nanops.py:455(newfunc)\n",
      "        3    0.000    0.000    0.005    0.002 nanops.py:604(nansum)\n",
      "        2    0.000    0.000    0.005    0.002 frame.py:11113(blk_func)\n",
      "        7    0.000    0.000    0.004    0.001 concat.py:703(_get_comb_axis)\n",
      "        7    0.000    0.000    0.004    0.001 api.py:72(get_objs_combined_axis)\n",
      "        2    0.000    0.000    0.004    0.002 basedatatypes.py:5597(to_plotly_json)\n",
      "        7    0.000    0.000    0.004    0.001 api.py:120(_get_combined_index)\n",
      "      281    0.001    0.000    0.004    0.000 basevalidators.py:1415(perform_validate_coerce)\n",
      "       12    0.000    0.000    0.004    0.000 arraylike.py:38(__eq__)\n",
      "2121/2110    0.002    0.000    0.004    0.000 basedatatypes.py:4916(__setattr__)\n",
      "       27    0.004    0.000    0.004    0.000 {method '_rebuild_blknos_and_blklocs' of 'pandas._libs.internals.BlockManager' objects}\n",
      "        5    0.000    0.000    0.004    0.001 api.py:202(union_indexes)\n",
      "      102    0.000    0.000    0.004    0.000 managers.py:169(blknos)\n",
      "        7    0.000    0.000    0.004    0.001 base.py:6100(_get_indexer_strict)\n",
      "        1    0.000    0.000    0.004    0.004 base.py:3217(union)\n",
      "      168    0.000    0.000    0.003    0.000 base.py:7513(ensure_index)\n",
      "      407    0.001    0.000    0.003    0.000 basevalidators.py:16(fullmatch)\n",
      "       71    0.003    0.000    0.003    0.000 {built-in method numpy.array}\n",
      "       20    0.003    0.000    0.003    0.000 base.py:2292(is_unique)\n",
      "        1    0.000    0.000    0.003    0.003 base.py:3339(_union)\n",
      "        1    0.003    0.003    0.003    0.003 {pandas._libs.join.left_outer_join}\n",
      "        2    0.003    0.002    0.003    0.002 shape_base.py:292(hstack)\n",
      "       22    0.000    0.000    0.003    0.000 series.py:5881(_construct_result)\n",
      "       55    0.001    0.000    0.003    0.000 basedatatypes.py:49(_str_to_dict_path_full)\n",
      "      937    0.002    0.000    0.003    0.000 basedatatypes.py:4341(_get_validator)\n",
      "        1    0.000    0.000    0.003    0.003 _figure.py:5(__init__)\n",
      "        1    0.000    0.000    0.003    0.003 basedatatypes.py:410(__init__)\n",
      "       35    0.003    0.000    0.003    0.000 {method 'take' of 'numpy.ndarray' objects}\n",
      "        6    0.000    0.000    0.003    0.000 _figure.py:825(add_trace)\n",
      "        8    0.000    0.000    0.003    0.000 generic.py:6337(dtypes)\n",
      "        6    0.000    0.000    0.003    0.000 basedatatypes.py:2007(add_trace)\n",
      "        6    0.000    0.000    0.003    0.000 _figure.py:904(add_traces)\n",
      "        6    0.000    0.000    0.003    0.000 basedatatypes.py:2114(add_traces)\n",
      "       17    0.000    0.000    0.003    0.000 base.py:3944(_get_indexer)\n",
      "      312    0.002    0.000    0.003    0.000 generic.py:6206(__setattr__)\n",
      "  268/263    0.000    0.000    0.003    0.000 basedatatypes.py:4379(_process_kwargs)\n",
      "        2    0.000    0.000    0.003    0.001 _utils.py:6(validate_coerce_fig_to_dict)\n",
      "        1    0.000    0.000    0.003    0.003 basedatatypes.py:3285(to_dict)\n",
      "        1    0.000    0.000    0.003    0.003 display_functions.py:105(display)\n",
      "        1    0.000    0.000    0.002    0.002 display_functions.py:45(publish_display_data)\n",
      "      708    0.000    0.000    0.002    0.000 basedatatypes.py:1819(_str_to_dict_path)\n",
      "        1    0.000    0.000    0.002    0.002 zmqshell.py:81(publish)\n",
      "       63    0.000    0.000    0.002    0.000 frame.py:4402(_get_item_cache)\n",
      "       17    0.002    0.000    0.002    0.000 {method 'get_indexer' of 'pandas._libs.index.IndexEngine' objects}\n",
      "       56    0.000    0.000    0.002    0.000 cast.py:1147(maybe_infer_to_datetimelike)\n",
      "       89    0.000    0.000    0.002    0.000 basevalidators.py:1347(validate_coerce)\n",
      "       50    0.000    0.000    0.002    0.000 frame.py:3776(_ixs)\n",
      "        9    0.000    0.000    0.002    0.000 basevalidators.py:1595(validate_coerce)\n",
      "       89    0.000    0.000    0.002    0.000 basevalidators.py:1409(vc_scalar)\n",
      "       16    0.000    0.000    0.002    0.000 array_ops.py:290(comparison_op)\n",
      "       35    0.000    0.000    0.002    0.000 basedatatypes.py:5917(__setattr__)\n",
      "        7    0.000    0.000    0.002    0.000 basevalidators.py:2655(validate_coerce)\n",
      "       24    0.000    0.000    0.002    0.000 array_ops.py:191(_na_arithmetic_op)\n",
      "        2    0.000    0.000    0.002    0.001 copy.py:264(<genexpr>)\n",
      "        1    0.000    0.000    0.002    0.002 basedatatypes.py:2515(_initialize_layout_template)\n",
      "        7    0.000    0.000    0.002    0.000 construction.py:596(_homogenize)\n",
      "        2    0.000    0.000    0.002    0.001 {method '__reduce_ex__' of 'object' objects}\n",
      "        1    0.000    0.000    0.002    0.002 basedatatypes.py:4665(__reduce__)\n",
      "        1    0.000    0.000    0.002    0.002 _layout.py:3645(template)\n",
      "        9    0.000    0.000    0.002    0.000 base.py:6076(get_indexer_for)\n",
      "       24    0.000    0.000    0.002    0.000 expressions.py:226(evaluate)\n",
      "       22    0.000    0.000    0.002    0.000 base.py:1138(take)\n",
      "       24    0.000    0.000    0.002    0.000 expressions.py:67(_evaluate_standard)\n",
      "    17211    0.002    0.000    0.002    0.000 {method 'get' of 'dict' objects}\n",
      "        9    0.002    0.000    0.002    0.000 {pandas._libs.algos.take_2d_axis0_int64_int64}\n",
      "       23    0.000    0.000    0.002    0.000 basedatatypes.py:157(_check_path_in_prop_tree)\n",
      "        3    0.000    0.000    0.002    0.001 nanops.py:253(_get_values)\n",
      "      407    0.002    0.000    0.002    0.000 {built-in method builtins.dir}\n",
      "5289/4398    0.001    0.000    0.002    0.000 {built-in method builtins.len}\n",
      "      140    0.000    0.000    0.002    0.000 basedatatypes.py:4276(__init__)\n",
      "        5    0.000    0.000    0.002    0.000 frame.py:4257(_set_item_mgr)\n",
      "       84    0.000    0.000    0.002    0.000 base.py:5518(equals)\n",
      "        3    0.000    0.000    0.002    0.001 nanops.py:1491(_maybe_null_out)\n",
      "  370/252    0.000    0.000    0.002    0.000 {built-in method _functools.reduce}\n",
      "        1    0.000    0.000    0.002    0.002 frame.py:8727(groupby)\n",
      "        1    0.000    0.000    0.002    0.002 groupby.py:1245(__init__)\n",
      "        5    0.000    0.000    0.002    0.000 series.py:524(_init_dict)\n",
      "       22    0.000    0.000    0.002    0.000 algorithms.py:1211(take)\n",
      "     1944    0.001    0.000    0.002    0.000 copy.py:243(_keep_alive)\n",
      "       12    0.000    0.000    0.002    0.000 base.py:673(_with_infer)\n",
      "       42    0.000    0.000    0.002    0.000 base.py:6238(_index_as_unique)\n",
      "        1    0.000    0.000    0.002    0.002 grouper.py:812(get_grouper)\n",
      "1337/1274    0.001    0.000    0.002    0.000 basedatatypes.py:4422(_props)\n",
      "        4    0.000    0.000    0.001    0.000 managers.py:1311(insert)\n",
      "   108/98    0.000    0.000    0.001    0.000 basedatatypes.py:4673(__getitem__)\n",
      "        1    0.000    0.000    0.001    0.001 merge.py:734(__init__)\n",
      "        5    0.000    0.000    0.001    0.000 common.py:652(get_handle)\n",
      "       12    0.001    0.000    0.001    0.000 {built-in method _operator.eq}\n",
      "       97    0.001    0.000    0.001    0.000 take.py:565(_take_preprocess_indexer_and_fill_value)\n",
      "        3    0.000    0.000    0.001    0.000 generic.py:4806(_update_inplace)\n",
      "       25    0.000    0.000    0.001    0.000 basedatatypes.py:5362(<listcomp>)\n",
      "      149    0.001    0.000    0.001    0.000 generic.py:6147(__finalize__)\n",
      "        9    0.000    0.000    0.001    0.000 basevalidators.py:1629(<listcomp>)\n",
      "        7    0.000    0.000    0.001    0.000 concat.py:713(_get_concat_axis)\n",
      "       59    0.000    0.000    0.001    0.000 basedatatypes.py:91(_split_and_chomp)\n",
      "    12166    0.001    0.000    0.001    0.000 {built-in method builtins.id}\n",
      "     1139    0.001    0.000    0.001    0.000 generic.py:42(_instancecheck)\n",
      "       39    0.000    0.000    0.001    0.000 missing.py:101(isna)\n",
      "        7    0.000    0.000    0.001    0.000 concat.py:773(_concat_indexes)\n",
      "        1    0.000    0.000    0.001    0.001 _scene.py:1637(__init__)\n",
      "        7    0.000    0.000    0.001    0.000 base.py:5421(append)\n",
      "        1    0.000    0.000    0.001    0.001 grouper.py:965(is_in_obj)\n",
      "        1    0.001    0.001    0.001    0.001 range.py:422(_get_indexer)\n",
      "       39    0.000    0.000    0.001    0.000 missing.py:184(_isna)\n",
      "       24    0.001    0.000    0.001    0.000 utils.py:239(maybe_convert_indices)\n",
      "        7    0.000    0.000    0.001    0.000 base.py:5457(_concat)\n",
      "        6    0.000    0.000    0.001    0.000 series.py:5813(_arith_method)\n",
      "        1    0.000    0.000    0.001    0.001 session.py:754(send)\n",
      "  198/187    0.000    0.000    0.001    0.000 {built-in method builtins.all}\n",
      "        6    0.000    0.000    0.001    0.000 base.py:1370(_arith_method)\n",
      "        5    0.000    0.000    0.001    0.000 __init__.py:183(dumps)\n",
      "        1    0.000    0.000    0.001    0.001 zmqshell.py:64(_flush_streams)\n",
      "       14    0.000    0.000    0.001    0.000 {built-in method builtins.next}\n",
      "        2    0.000    0.000    0.001    0.001 iostream.py:561(flush)\n",
      "        4    0.000    0.000    0.001    0.000 contextlib.py:141(__exit__)\n",
      "        5    0.000    0.000    0.001    0.000 encoder.py:183(encode)\n",
      "        2    0.000    0.000    0.001    0.001 basedatatypes.py:3003(batch_update)\n",
      "        5    0.001    0.000    0.001    0.000 encoder.py:205(iterencode)\n",
      "        1    0.000    0.000    0.001    0.001 basedatatypes.py:2868(plotly_update)\n",
      "        4    0.000    0.000    0.001    0.000 base.py:6895(insert)\n",
      "        7    0.000    0.000    0.001    0.000 <frozen genericpath>:16(exists)\n",
      "        2    0.000    0.000    0.001    0.001 frame.py:1929(to_dict)\n",
      "       45    0.000    0.000    0.001    0.000 basedatatypes.py:4768(__contains__)\n",
      "        7    0.001    0.000    0.001    0.000 {built-in method nt.stat}\n",
      "        2    0.000    0.000    0.001    0.001 to_dict.py:22(to_dict)\n",
      "       10    0.000    0.000    0.001    0.000 range.py:1110(take)\n",
      "        1    0.000    0.000    0.001    0.001 _colorscale.py:169(__init__)\n",
      "   118/59    0.000    0.000    0.001    0.000 utils.py:379(chomp_empty_strings)\n",
      "        1    0.000    0.000    0.001    0.001 generic.py:1864(_drop_labels_or_levels)\n",
      "        9    0.000    0.000    0.001    0.000 basevalidators.py:1646(<listcomp>)\n",
      "       48    0.000    0.000    0.001    0.000 frame.py:4384(_box_col_values)\n",
      "      104    0.001    0.000    0.001    0.000 numeric.py:274(full)\n",
      "       19    0.000    0.000    0.001    0.000 base.py:6618(_maybe_cast_listlike_indexer)\n",
      "       61    0.000    0.000    0.001    0.000 config.py:271(__call__)\n",
      "        1    0.000    0.000    0.001    0.001 frame.py:8116(truediv)\n",
      "        3    0.001    0.000    0.001    0.000 {pandas._libs.algos.take_2d_axis1_object_object}\n",
      "        1    0.000    0.000    0.001    0.001 frame.py:7981(_flex_arith_method)\n",
      "        6    0.000    0.000    0.001    0.000 shape_base.py:215(_vhstack_dispatcher)\n",
      "        6    0.001    0.000    0.001    0.000 shape_base.py:207(_arrays_for_stack_dispatcher)\n",
      "        5    0.000    0.000    0.001    0.000 arraylike.py:98(__add__)\n",
      "      175    0.001    0.000    0.001    0.000 generic.py:274(__init__)\n",
      "        1    0.000    0.000    0.001    0.001 frame.py:5196(drop)\n",
      "        7    0.000    0.000    0.001    0.000 base.py:4327(reindex)\n",
      "        1    0.000    0.000    0.001    0.001 generic.py:4680(drop)\n",
      "       29    0.000    0.000    0.001    0.000 base.py:841(_engine)\n",
      "       23    0.001    0.000    0.001    0.000 {method 'nonzero' of 'numpy.ndarray' objects}\n",
      "      407    0.000    0.000    0.001    0.000 __init__.py:163(match)\n",
      "       61    0.000    0.000    0.001    0.000 config.py:145(_get_option)\n",
      "        1    0.000    0.000    0.001    0.001 _bar.py:2549(__init__)\n",
      "        1    0.000    0.000    0.001    0.001 generic.py:4719(_drop_axis)\n",
      "       24    0.000    0.000    0.001    0.000 missing.py:466(array_equivalent)\n",
      "      113    0.000    0.000    0.001    0.000 generic.py:335(_from_mgr)\n",
      "      144    0.000    0.000    0.001    0.000 base.py:648(_simple_new)\n",
      "       82    0.000    0.000    0.001    0.000 {method 'any' of 'numpy.ndarray' objects}\n",
      "        1    0.000    0.000    0.001    0.001 session.py:690(serialize)\n",
      "       16    0.000    0.000    0.001    0.000 indexing.py:2545(check_bool_indexer)\n",
      "        1    0.000    0.000    0.001    0.001 _renderers.py:252(_build_mime_bundle)\n",
      "       19    0.000    0.000    0.001    0.000 basedatatypes.py:5885(__contains__)\n",
      "        4    0.000    0.000    0.001    0.000 arraylike.py:42(__ne__)\n",
      "       57    0.000    0.000    0.001    0.000 frame.py:641(_constructor_from_mgr)\n",
      "       60    0.000    0.000    0.001    0.000 basedatatypes.py:5946(__init__)\n",
      "    33/30    0.000    0.000    0.001    0.000 basedatatypes.py:4445(_get_child_props)\n",
      "        1    0.000    0.000    0.001    0.001 _base_renderers.py:88(to_mimebundle)\n",
      "        1    0.000    0.000    0.001    0.001 _ternary.py:965(__init__)\n",
      "       50    0.000    0.000    0.001    0.000 managers.py:991(iget)\n",
      "       20    0.000    0.000    0.001    0.000 base.py:6320(_should_compare)\n",
      "        2    0.000    0.000    0.001    0.000 threading.py:611(wait)\n",
      "       65    0.001    0.000    0.001    0.000 base.py:5299(__contains__)\n",
      "       37    0.000    0.000    0.001    0.000 basedatatypes.py:5963(__init__)\n",
      "       76    0.001    0.000    0.001    0.000 cast.py:550(maybe_promote)\n",
      "        4    0.000    0.000    0.001    0.000 session.py:92(json_packer)\n",
      "     6205    0.001    0.000    0.001    0.000 copy.py:182(_deepcopy_atomic)\n",
      "       36    0.000    0.000    0.001    0.000 common.py:228(asarray_tuplesafe)\n",
      "     1139    0.001    0.000    0.001    0.000 generic.py:37(_check)\n",
      "       85    0.000    0.000    0.001    0.000 _methods.py:55(_any)\n",
      "        2    0.000    0.000    0.001    0.000 threading.py:295(wait)\n",
      "       79    0.000    0.000    0.001    0.000 base.py:69(shape)\n",
      "        1    0.000    0.000    0.001    0.001 basedatatypes.py:2942(_perform_plotly_update)\n",
      "        1    0.000    0.000    0.001    0.001 _carpet.py:1599(__init__)\n",
      "        1    0.000    0.000    0.001    0.001 basedatatypes.py:2619(_perform_plotly_relayout)\n",
      "        1    0.000    0.000    0.001    0.001 data_grabber.py:127(list_available_features)\n",
      "        5    0.000    0.000    0.001    0.000 _colorbar.py:1764(__init__)\n",
      "      939    0.000    0.000    0.001    0.000 <frozen importlib._bootstrap>:405(parent)\n",
      "        1    0.000    0.000    0.001    0.001 indexing.py:1897(_setitem_with_indexer_split_path)\n",
      "        3    0.000    0.000    0.001    0.000 _marker.py:1382(__init__)\n",
      "       41    0.000    0.000    0.001    0.000 basedatatypes.py:5878(__getitem__)\n",
      "       10    0.001    0.000    0.001    0.000 missing.py:261(_isna_array)\n",
      "        1    0.000    0.000    0.001    0.001 _table.py:918(__init__)\n",
      "       15    0.001    0.000    0.001    0.000 {method 'acquire' of '_thread.lock' objects}\n",
      "       42    0.000    0.000    0.001    0.000 managers.py:1825(from_array)\n",
      "       56    0.000    0.000    0.001    0.000 generic.py:760(_set_axis)\n",
      "       33    0.000    0.000    0.001    0.000 managers.py:1726(is_consolidated)\n",
      "     5354    0.001    0.000    0.001    0.000 {method 'pop' of 'dict' objects}\n",
      "        5    0.000    0.000    0.001    0.000 _colorbar.py:1761(__init__)\n",
      "        6    0.000    0.000    0.001    0.000 construction.py:237(ndarray_to_mgr)\n",
      "  318/109    0.000    0.000    0.001    0.000 utils.py:288(split_multichar)\n",
      "       62    0.000    0.000    0.001    0.000 common.py:96(is_bool_indexer)\n",
      "       12    0.000    0.000    0.001    0.000 _line.py:277(__init__)\n",
      "        1    0.000    0.000    0.001    0.001 indexing.py:2010(_setitem_with_indexer_frame_value)\n",
      "       54    0.000    0.000    0.001    0.000 base.py:3762(get_loc)\n",
      "        5    0.000    0.000    0.001    0.000 series.py:4960(reindex)\n",
      "        2    0.000    0.000    0.001    0.000 _marker.py:986(__init__)\n",
      "        5    0.001    0.000    0.001    0.000 {built-in method io.open}\n",
      "       13    0.000    0.000    0.001    0.000 numeric.py:2378(array_equal)\n",
      "        5    0.000    0.000    0.001    0.000 generic.py:5266(reindex)\n",
      "      689    0.000    0.000    0.001    0.000 <frozen abc>:117(__instancecheck__)\n",
      "1944/1917    0.000    0.000    0.001    0.000 {built-in method builtins.getattr}\n",
      "        1    0.000    0.000    0.001    0.001 _scatter3d.py:2195(__init__)\n",
      "        4    0.000    0.000    0.001    0.000 generic.py:1803(_get_label_or_level_values)\n",
      "        1    0.000    0.000    0.001    0.001 _polar.py:984(__init__)\n",
      "       33    0.000    0.000    0.001    0.000 managers.py:1734(_consolidate_check)\n",
      "       30    0.000    0.000    0.001    0.000 __init__.py:282(__getattr__)\n",
      "        5    0.000    0.000    0.001    0.000 readers.py:1782(__exit__)\n",
      "       36    0.001    0.000    0.001    0.000 {method 'astype' of 'numpy.ndarray' objects}\n",
      "       45    0.000    0.000    0.001    0.000 generic.py:487(_validate_dtype)\n",
      "        5    0.000    0.000    0.001    0.000 common.py:289(_get_filepath_or_buffer)\n",
      "        1    0.000    0.000    0.001    0.001 _barpolar.py:1527(__init__)\n",
      "      107    0.000    0.000    0.001    0.000 base.py:5349(__getitem__)\n",
      "        5    0.000    0.000    0.001    0.000 readers.py:1450(close)\n",
      "        5    0.000    0.000    0.001    0.000 iostream.py:258(schedule)\n",
      "       63    0.000    0.000    0.001    0.000 config.py:127(_get_single_key)\n",
      "  400/395    0.000    0.000    0.001    0.000 basedatatypes.py:4492(_init_props)\n",
      "       41    0.000    0.000    0.001    0.000 basedatatypes.py:5691(__init__)\n",
      "        5    0.000    0.000    0.001    0.000 series.py:5478(isna)\n",
      "        1    0.000    0.000    0.001    0.001 concat.py:457(_concatenate_join_units)\n",
      "        5    0.000    0.000    0.001    0.000 generic.py:8402(isna)\n",
      "  407/389    0.000    0.000    0.001    0.000 {built-in method numpy.asarray}\n",
      "       28    0.000    0.000    0.001    0.000 {method 'all' of 'numpy.ndarray' objects}\n",
      "        1    0.000    0.000    0.001    0.001 frame.py:12207(values)\n",
      "        1    0.000    0.000    0.001    0.001 managers.py:1596(as_array)\n",
      "    37/30    0.000    0.000    0.001    0.000 importers.py:23(__getattr__)\n",
      "       62    0.000    0.000    0.001    0.000 common.py:1587(pandas_dtype)\n",
      "        1    0.001    0.001    0.001    0.001 {built-in method nt.listdir}\n",
      "       50    0.000    0.000    0.001    0.000 frame.py:654(_constructor_sliced_from_mgr)\n",
      "    73/32    0.000    0.000    0.001    0.000 basevalidators.py:27(to_scalar_or_list)\n",
      "        3    0.000    0.000    0.001    0.000 data_grabber.py:18(check_if_tensed)\n",
      "        3    0.000    0.000    0.001    0.000 nanops.py:209(_maybe_get_mask)\n",
      "        1    0.000    0.000    0.001    0.001 managers.py:1669(_interleave)\n",
      "        8    0.000    0.000    0.001    0.000 array_ops.py:242(arithmetic_op)\n",
      "        1    0.000    0.000    0.001    0.001 _histogram2d.py:2406(__init__)\n",
      "        1    0.000    0.000    0.000    0.000 frame.py:7725(_combine_frame)\n",
      "        1    0.000    0.000    0.000    0.000 frame.py:7649(_dispatch_frame_op)\n",
      "        1    0.000    0.000    0.000    0.000 _contour.py:2646(__init__)\n",
      "        1    0.000    0.000    0.000    0.000 _heatmap.py:2448(__init__)\n",
      "        1    0.000    0.000    0.000    0.000 _surface.py:2162(__init__)\n",
      "        6    0.000    0.000    0.000    0.000 managers.py:1758(concat_horizontal)\n",
      "        1    0.000    0.000    0.000    0.000 similarity_utils.py:93(compute_weight_array)\n",
      "        1    0.000    0.000    0.000    0.000 _histogram2dcontour.py:2534(__init__)\n",
      "       30    0.000    0.000    0.000    0.000 {pandas._libs.lib.infer_dtype}\n",
      "       28    0.000    0.000    0.000    0.000 _methods.py:61(_all)\n",
      "      937    0.000    0.000    0.000    0.000 validator_cache.py:8(get_validator)\n",
      "        5    0.000    0.000    0.000    0.000 socket.py:621(send)\n",
      "        1    0.000    0.000    0.000    0.000 _json.py:174(to_json)\n",
      "        1    0.000    0.000    0.000    0.000 _heatmapgl.py:1699(__init__)\n",
      "       14    0.000    0.000    0.000    0.000 to_dict.py:110(<genexpr>)\n",
      "        1    0.000    0.000    0.000    0.000 _json.py:78(to_json_plotly)\n",
      "      637    0.000    0.000    0.000    0.000 {built-in method builtins.hasattr}\n",
      "       16    0.000    0.000    0.000    0.000 utils.py:419(check_array_indexer)\n",
      "       59    0.000    0.000    0.000    0.000 {built-in method builtins.__build_class__}\n",
      "        1    0.000    0.000    0.000    0.000 managers.py:1466(operate_blockwise)\n",
      "        1    0.000    0.000    0.000    0.000 ops.py:57(operate_blockwise)\n",
      "      105    0.000    0.000    0.000    0.000 base.py:7608(maybe_extract_name)\n",
      "        1    0.000    0.000    0.000    0.000 utils.py:48(encode)\n",
      "       20    0.000    0.000    0.000    0.000 managers.py:1740(<listcomp>)\n",
      "        1    0.000    0.000    0.000    0.000 base.py:6953(drop)\n",
      "       72    0.000    0.000    0.000    0.000 {built-in method builtins.any}\n",
      "       65    0.000    0.000    0.000    0.000 basedatatypes.py:5822(_strip_subplot_suffix_of_1)\n",
      "        2    0.000    0.000    0.000    0.000 _yaxis.py:3280(__init__)\n",
      "       14    0.000    0.000    0.000    0.000 frame.py:1392(items)\n",
      "        2    0.000    0.000    0.000    0.000 offline.py:105(_get_jconfig)\n",
      "       24    0.000    0.000    0.000    0.000 basevalidators.py:402(validate_coerce)\n",
      "        3    0.000    0.000    0.000    0.000 _line.py:465(__init__)\n",
      "        1    0.000    0.000    0.000    0.000 merge.py:999(_maybe_add_join_keys)\n",
      "        2    0.000    0.000    0.000    0.000 tools.py:688(get_config_plotly_server_url)\n",
      "        2    0.000    0.000    0.000    0.000 _marker.py:1233(__init__)\n",
      "     2209    0.000    0.000    0.000    0.000 {method 'startswith' of 'str' objects}\n",
      "       77    0.000    0.000    0.000    0.000 common.py:137(is_object_dtype)\n",
      "        1    0.000    0.000    0.000    0.000 indexing.py:1359(_getitem_axis)\n",
      "        1    0.000    0.000    0.000    0.000 ops.py:719(has_dropped_na)\n",
      "       13    0.000    0.000    0.000    0.000 base.py:5391(_getitem_slice)\n",
      "        1    0.000    0.000    0.000    0.000 merge.py:1204(_get_merge_keys)\n",
      "      101    0.000    0.000    0.000    0.000 common.py:556(require_length_match)\n",
      "       10    0.000    0.000    0.000    0.000 indexing.py:1006(_getitem_lowerdim)\n",
      "      429    0.000    0.000    0.000    0.000 __init__.py:272(_compile)\n",
      "        7    0.000    0.000    0.000    0.000 concat.py:403(__init__)\n",
      "       20    0.000    0.000    0.000    0.000 managers.py:569(<listcomp>)\n",
      "       25    0.000    0.000    0.000    0.000 base.py:2723(inferred_type)\n",
      "        2    0.000    0.000    0.000    0.000 _xaxis.py:3347(__init__)\n",
      "        5    0.000    0.000    0.000    0.000 basedatatypes.py:2662(_is_key_path_compatible)\n",
      "        3    0.000    0.000    0.000    0.000 _colorbar.py:1763(__init__)\n",
      "        3    0.000    0.000    0.000    0.000 _colorbar.py:1762(__init__)\n",
      "        1    0.000    0.000    0.000    0.000 basedatatypes.py:2786(_dispatch_layout_change_callbacks)\n",
      "      608    0.000    0.000    0.000    0.000 base.py:908(__len__)\n",
      "       46    0.000    0.000    0.000    0.000 base.py:5152(_get_engine_target)\n",
      "       69    0.000    0.000    0.000    0.000 series.py:703(name)\n",
      "        7    0.000    0.000    0.000    0.000 basevalidators.py:2514(validate_coerce)\n",
      "  124/114    0.000    0.000    0.000    0.000 basedatatypes.py:5643(_vals_equal)\n",
      "        1    0.000    0.000    0.000    0.000 indexing.py:1167(_getbool_axis)\n",
      "        1    0.000    0.000    0.000    0.000 ops.py:727(group_info)\n",
      "        1    0.000    0.000    0.000    0.000 merge.py:2637(_items_overlap_with_suffix)\n",
      "        1    0.000    0.000    0.000    0.000 ops.py:742(_get_compressed_codes)\n",
      "       40    0.000    0.000    0.000    0.000 managers.py:566(copy_func)\n",
      "        1    0.000    0.000    0.000    0.000 _scatterpolar.py:1924(__init__)\n",
      "      231    0.000    0.000    0.000    0.000 range.py:963(__len__)\n",
      "        5    0.000    0.000    0.000    0.000 common.py:121(close)\n",
      "       39    0.000    0.000    0.000    0.000 __init__.py:108(import_module)\n",
      "       54    0.000    0.000    0.000    0.000 {method 'get_loc' of 'pandas._libs.index.IndexEngine' objects}\n",
      "        1    0.000    0.000    0.000    0.000 base.py:3427(intersection)\n",
      "       84    0.000    0.000    0.000    0.000 managers.py:896(__init__)\n",
      "        1    0.000    0.000    0.000    0.000 _marker.py:985(__init__)\n",
      "       10    0.000    0.000    0.000    0.000 {pandas._libs.algos.take_2d_axis1_int64_int64}\n",
      "        1    0.000    0.000    0.000    0.000 _xaxis.py:2175(__init__)\n",
      "      689    0.000    0.000    0.000    0.000 {built-in method _abc._abc_instancecheck}\n",
      "       20    0.000    0.000    0.000    0.000 _asarray.py:27(require)\n",
      "     2255    0.000    0.000    0.000    0.000 basedatatypes.py:4634(parent)\n",
      "        6    0.000    0.000    0.000    0.000 basedatatypes.py:2249(<listcomp>)\n",
      "       24    0.000    0.000    0.000    0.000 basevalidators.py:53(copy_to_readonly_numpy_array)\n",
      "       83    0.000    0.000    0.000    0.000 blocks.py:265(make_block_same_class)\n",
      "        4    0.000    0.000    0.000    0.000 generic.py:4094(xs)\n",
      "      106    0.000    0.000    0.000    0.000 indexing.py:2678(check_dict_or_set_indexers)\n",
      "        1    0.000    0.000    0.000    0.000 _yaxis.py:2175(__init__)\n",
      "      237    0.000    0.000    0.000    0.000 base.py:71(<genexpr>)\n",
      "        1    0.000    0.000    0.000    0.000 _zaxis.py:2175(__init__)\n",
      "      524    0.000    0.000    0.000    0.000 {method 'match' of 're.Pattern' objects}\n",
      "      103    0.000    0.000    0.000    0.000 common.py:1425(_is_dtype_type)\n",
      "       31    0.000    0.000    0.000    0.000 {method 'max' of 'numpy.ndarray' objects}\n",
      "        1    0.000    0.000    0.000    0.000 frame.py:7815(_align_for_op)\n",
      "        5    0.000    0.000    0.000    0.000 basedatatypes.py:5860(_get_prop_validator)\n",
      "        5    0.000    0.000    0.000    0.000 {method 'close' of '_io.TextIOWrapper' objects}\n",
      "       40    0.000    0.000    0.000    0.000 base.py:1009(view)\n",
      "        3    0.000    0.000    0.000    0.000 base.py:6467(isin)\n",
      "        1    0.000    0.000    0.000    0.000 _scattercarpet.py:1824(__init__)\n",
      "        1    0.000    0.000    0.000    0.000 _scattergeo.py:1853(__init__)\n",
      "        1    0.000    0.000    0.000    0.000 _scatterternary.py:1896(__init__)\n",
      "        1    0.000    0.000    0.000    0.000 _scattermapbox.py:1725(__init__)\n",
      "       50    0.000    0.000    0.000    0.000 utils.py:308(split_string_positions)\n",
      "        1    0.000    0.000    0.000    0.000 grouper.py:949(is_in_axis)\n",
      "       50    0.000    0.000    0.000    0.000 blocks.py:2388(new_block)\n",
      "        1    0.000    0.000    0.000    0.000 _scattergl.py:2316(__init__)\n",
      "        1    0.000    0.000    0.000    0.000 _scatterpolargl.py:1844(__init__)\n",
      "      379    0.000    0.000    0.000    0.000 {pandas._libs.lib.is_list_like}\n",
      "        7    0.000    0.000    0.000    0.000 managers.py:918(_verify_integrity)\n",
      "       32    0.000    0.000    0.000    0.000 basevalidators.py:40(<listcomp>)\n",
      "        1    0.000    0.000    0.000    0.000 {built-in method builtins.round}\n",
      "        1    0.000    0.000    0.000    0.000 generic.py:1661(__round__)\n",
      "        1    0.000    0.000    0.000    0.000 _parcoords.py:1037(__init__)\n",
      "        1    0.000    0.000    0.000    0.000 _histogram.py:2477(__init__)\n",
      "       43    0.000    0.000    0.000    0.000 _dtype.py:346(_name_get)\n",
      "      152    0.000    0.000    0.000    0.000 construction.py:683(_sanitize_ndim)\n",
      "       48    0.000    0.000    0.000    0.000 basevalidators.py:601(validate_coerce)\n",
      "       50    0.000    0.000    0.000    0.000 frame.py:651(_sliced_from_mgr)\n",
      "        1    0.000    0.000    0.000    0.000 series.py:2655(round)\n",
      "        4    0.000    0.000    0.000    0.000 function_base.py:5368(insert)\n",
      "        1    0.000    0.000    0.000    0.000 _geo.py:1273(__init__)\n",
      "       10    0.000    0.000    0.000    0.000 generic.py:5509(<genexpr>)\n",
      "        1    0.000    0.000    0.000    0.000 iostream.py:342(send_multipart)\n",
      "        2    0.000    0.000    0.000    0.000 {built-in method _operator.truediv}\n",
      "        1    0.000    0.000    0.000    0.000 base.py:1301(__repr__)\n",
      "        1    0.000    0.000    0.000    0.000 grouper.py:689(codes)\n",
      "        1    0.000    0.000    0.000    0.000 merge.py:2577(_get_join_keys)\n",
      "       31    0.000    0.000    0.000    0.000 _methods.py:39(_amax)\n",
      "        1    0.000    0.000    0.000    0.000 iostream.py:270(send_multipart)\n",
      "        1    0.000    0.000    0.000    0.000 grouper.py:743(_codes_and_uniques)\n",
      "        6    0.000    0.000    0.000    0.000 series.py:6090(_reduce)\n",
      "        5    0.000    0.000    0.000    0.000 basedatatypes.py:1849(_set_in)\n",
      "      2/1    0.000    0.000    0.000    0.000 algorithms.py:610(factorize)\n",
      "       44    0.000    0.000    0.000    0.000 base.py:772(_view)\n",
      "       77    0.000    0.000    0.000    0.000 common.py:1562(validate_all_hashable)\n",
      "       35    0.000    0.000    0.000    0.000 construction.py:753(_try_cast)\n",
      "        1    0.000    0.000    0.000    0.000 base.py:1177(factorize)\n",
      "       20    0.000    0.000    0.000    0.000 {built-in method builtins.sorted}\n",
      "       39    0.000    0.000    0.000    0.000 <frozen importlib._bootstrap>:1192(_gcd_import)\n",
      "        1    0.000    0.000    0.000    0.000 _aaxis.py:1975(__init__)\n",
      "      294    0.000    0.000    0.000    0.000 <frozen codecs>:331(getstate)\n",
      "       10    0.000    0.000    0.000    0.000 indexing.py:931(_validate_tuple_indexer)\n",
      "        2    0.000    0.000    0.000    0.000 indexing.py:2062(_setitem_single_column)\n",
      "        1    0.000    0.000    0.000    0.000 _baxis.py:1975(__init__)\n",
      "        1    0.000    0.000    0.000    0.000 _cells.py:436(__init__)\n",
      "        1    0.000    0.000    0.000    0.000 accessor.py:247(__getitem__)\n",
      "        7    0.000    0.000    0.000    0.000 base.py:6133(_raise_if_missing)\n",
      "        1    0.000    0.000    0.000    0.000 _header.py:436(__init__)\n",
      "        8    0.000    0.000    0.000    0.000 {built-in method numpy.arange}\n",
      "       20    0.000    0.000    0.000    0.000 base.py:6342(_is_comparable_dtype)\n",
      "        2    0.000    0.000    0.000    0.000 _colorbar.py:1765(__init__)\n",
      "        1    0.000    0.000    0.000    0.000 base.py:1335(_format_data)\n",
      "        2    0.000    0.000    0.000    0.000 _colorbar.py:1760(__init__)\n",
      "       50    0.000    0.000    0.000    0.000 blocks.py:226(fill_value)\n",
      "        5    0.000    0.000    0.000    0.000 base.py:5609(identical)\n",
      "      284    0.000    0.000    0.000    0.000 inference.py:334(is_hashable)\n",
      "        6    0.000    0.000    0.000    0.000 construction.py:742(_get_axes)\n",
      "       56    0.000    0.000    0.000    0.000 managers.py:225(set_axis)\n",
      "        1    0.000    0.000    0.000    0.000 _line.py:791(__init__)\n",
      "       54    0.000    0.000    0.000    0.000 managers.py:931(from_blocks)\n",
      "        2    0.000    0.000    0.000    0.000 managers.py:1279(column_setitem)\n",
      "       26    0.000    0.000    0.000    0.000 common.py:1066(is_numeric_dtype)\n",
      "       58    0.000    0.000    0.000    0.000 blocks.py:2317(maybe_coerce_values)\n",
      "       15    0.000    0.000    0.000    0.000 blocks.py:2375(new_block_2d)\n",
      "       70    0.000    0.000    0.000    0.000 basevalidators.py:186(is_homogeneous_array)\n",
      "        1    0.000    0.000    0.000    0.000 basedatatypes.py:2722(_build_dispatch_plan)\n",
      "        1    0.000    0.000    0.000    0.000 series.py:1016(__getitem__)\n",
      "        1    0.000    0.000    0.000    0.000 _mesh3d.py:2573(__init__)\n",
      "      129    0.000    0.000    0.000    0.000 series.py:626(dtype)\n",
      "        1    0.000    0.000    0.000    0.000 arraylike.py:200(__mul__)\n",
      "        1    0.000    0.000    0.000    0.000 base.py:3513(_intersection)\n",
      "        1    0.000    0.000    0.000    0.000 _contourcarpet.py:1946(__init__)\n",
      "  407/399    0.000    0.000    0.000    0.000 basedatatypes.py:5175(_in_batch_mode)\n",
      "        1    0.000    0.000    0.000    0.000 _choropleth.py:1825(__init__)\n",
      "      125    0.000    0.000    0.000    0.000 basevalidators.py:217(is_array)\n",
      "        2    0.000    0.000    0.000    0.000 managers.py:1977(setitem_inplace)\n",
      "        6    0.000    0.000    0.000    0.000 range.py:134(__new__)\n",
      "      111    0.000    0.000    0.000    0.000 series.py:750(_values)\n",
      "        6    0.000    0.000    0.000    0.000 api.py:311(<genexpr>)\n",
      "        6    0.000    0.000    0.000    0.000 base.py:1242(copy)\n",
      "        2    0.000    0.000    0.000    0.000 _pattern.py:417(__init__)\n",
      "        2    0.000    0.000    0.000    0.000 base.py:310(setitem_inplace)\n",
      "      144    0.000    0.000    0.000    0.000 {method 'add_index_reference' of 'pandas._libs.internals.BlockValuesRefs' objects}\n",
      "        1    0.000    0.000    0.000    0.000 printing.py:284(format_object_summary)\n",
      "        6    0.000    0.000    0.000    0.000 _title.py:136(__init__)\n",
      "        1    0.000    0.000    0.000    0.000 _coloraxis.py:592(__init__)\n",
      "        1    0.000    0.000    0.000    0.000 {method 'round' of 'numpy.ndarray' objects}\n",
      "        1    0.000    0.000    0.000    0.000 _marker.py:1360(__init__)\n",
      "       77    0.000    0.000    0.000    0.000 blocks.py:192(_can_consolidate)\n",
      "        1    0.000    0.000    0.000    0.000 _marker.py:1054(__init__)\n",
      "       85    0.000    0.000    0.000    0.000 blocks.py:2346(get_block_type)\n",
      "        1    0.000    0.000    0.000    0.000 _marker.py:1070(__init__)\n",
      "       24    0.000    0.000    0.000    0.000 managers.py:2212(<lambda>)\n",
      "      113    0.000    0.000    0.000    0.000 generic.py:562(_get_axis)\n",
      "        1    0.000    0.000    0.000    0.000 _line.py:743(__init__)\n",
      "        5    0.000    0.000    0.000    0.000 base_parser.py:190(_validate_parse_dates_presence)\n",
      "  241/236    0.000    0.000    0.000    0.000 basedatatypes.py:5949(_send_prop_set)\n",
      "        1    0.000    0.000    0.000    0.000 _shape.py:1045(__init__)\n",
      "        6    0.000    0.000    0.000    0.000 basedatatypes.py:4605(_get_prop_validator)\n",
      "        1    0.000    0.000    0.000    0.000 _angularaxis.py:1684(__init__)\n",
      "        5    0.000    0.000    0.000    0.000 concat.py:572(_is_uniform_join_units)\n",
      "      119    0.000    0.000    0.000    0.000 copy.py:66(copy)\n",
      "      159    0.000    0.000    0.000    0.000 construction.py:484(ensure_wrapped_if_datetimelike)\n",
      "        1    0.000    0.000    0.000    0.000 base.py:3547(_intersection_via_get_indexer)\n",
      "        5    0.000    0.000    0.000    0.000 base_parser.py:114(__init__)\n",
      "        1    0.000    0.000    0.000    0.000 _radialaxis.py:1972(__init__)\n",
      "      939    0.000    0.000    0.000    0.000 {method 'rpartition' of 'str' objects}\n",
      "       53    0.000    0.000    0.000    0.000 warnings.py:467(__enter__)\n",
      "       73    0.000    0.000    0.000    0.000 numeric.py:1855(isscalar)\n",
      "       22    0.000    0.000    0.000    0.000 inference.py:273(is_dict_like)\n",
      "        4    0.000    0.000    0.000    0.000 {built-in method _operator.ne}\n",
      "        1    0.000    0.000    0.000    0.000 missing.py:633(maybe_fill)\n",
      "       69    0.000    0.000    0.000    0.000 blocks.py:2467(extend_blocks)\n",
      "        5    0.000    0.000    0.000    0.000 series.py:6131(any)\n",
      "        2    0.000    0.000    0.000    0.000 {method 'fill' of 'numpy.ndarray' objects}\n",
      "      270    0.000    0.000    0.000    0.000 __init__.py:33(using_copy_on_write)\n",
      "       59    0.000    0.000    0.000    0.000 basedatatypes.py:75(_make_hyphen_key)\n",
      "      175    0.000    0.000    0.000    0.000 flags.py:53(__init__)\n",
      "       12    0.000    0.000    0.000    0.000 blocks.py:198(_consolidate_key)\n",
      "        5    0.000    0.000    0.000    0.000 generic.py:1704(_is_label_reference)\n",
      "       13    0.000    0.000    0.000    0.000 <frozen importlib._bootstrap>:1207(_handle_fromlist)\n",
      "       61    0.000    0.000    0.000    0.000 config.py:686(_warn_if_deprecated)\n",
      "       61    0.000    0.000    0.000    0.000 config.py:633(_get_root)\n",
      "       96    0.000    0.000    0.000    0.000 series.py:653(name)\n",
      "      188    0.000    0.000    0.000    0.000 construction.py:419(extract_array)\n",
      "        1    0.000    0.000    0.000    0.000 _baxis.py:1500(__init__)\n",
      "       19    0.000    0.000    0.000    0.000 base.py:6250(_maybe_promote)\n",
      "       14    0.000    0.000    0.000    0.000 basevalidators.py:1884(validate_coerce)\n",
      "        5    0.000    0.000    0.000    0.000 common.py:538(infer_compression)\n",
      "        1    0.000    0.000    0.000    0.000 basevalidators.py:1491(validate_coerce)\n",
      "        1    0.000    0.000    0.000    0.000 _aaxis.py:1500(__init__)\n",
      "        9    0.000    0.000    0.000    0.000 <frozen ntpath>:107(join)\n",
      "        1    0.000    0.000    0.000    0.000 _caxis.py:1500(__init__)\n",
      "       56    0.000    0.000    0.000    0.000 base.py:73(_validate_set_axis)\n",
      "       20    0.000    0.000    0.000    0.000 indexing.py:1536(_validate_key)\n",
      "       34    0.000    0.000    0.000    0.000 common.py:1183(is_bool_dtype)\n",
      "        5    0.000    0.000    0.000    0.000 c_parser_wrapper.py:194(close)\n",
      "       26    0.000    0.000    0.000    0.000 common.py:81(get_op_result_name)\n",
      "        1    0.000    0.000    0.000    0.000 frame.py:7953(_maybe_align_series_as_frame)\n",
      "        1    0.000    0.000    0.000    0.000 concat.py:526(_get_empty_dtype)\n",
      "      505    0.000    0.000    0.000    0.000 optional_imports.py:13(get_module)\n",
      "        2    0.000    0.000    0.000    0.000 base.py:2208(is_monotonic_increasing)\n",
      "  166/163    0.000    0.000    0.000    0.000 basedatatypes.py:5694(_send_prop_set)\n",
      "       96    0.000    0.000    0.000    0.000 blocks.py:187(is_extension)\n",
      "        1    0.000    0.000    0.000    0.000 {pandas._libs.algos.take_2d_axis0_int64_float64}\n",
      "      129    0.000    0.000    0.000    0.000 managers.py:1949(dtype)\n",
      "      310    0.000    0.000    0.000    0.000 {pandas._libs.lib.is_np_dtype}\n",
      "        2    0.000    0.000    0.000    0.000 _line.py:147(__init__)\n",
      "       40    0.000    0.000    0.000    0.000 basevalidators.py:762(validate_coerce)\n",
      "     1313    0.000    0.000    0.000    0.000 {method 'items' of 'dict' objects}\n",
      "       12    0.000    0.000    0.000    0.000 utils.py:85(default)\n",
      "       56    0.000    0.000    0.000    0.000 inference.py:195(is_array_like)\n",
      "       14    0.000    0.000    0.000    0.000 basevalidators.py:1864(vc_scalar)\n",
      "        1    0.000    0.000    0.000    0.000 series.py:6191(sum)\n",
      "      102    0.000    0.000    0.000    0.000 common.py:1322(is_ea_or_datetimelike_dtype)\n",
      "        2    0.000    0.000    0.000    0.000 generic.py:4277(_getitem_slice)\n",
      "       48    0.000    0.000    0.000    0.000 series.py:1372(_set_as_cached)\n",
      "        5    0.000    0.000    0.000    0.000 {method 'close' of 'pandas._libs.parsers.TextReader' objects}\n",
      "       10    0.000    0.000    0.000    0.000 generic.py:1731(<genexpr>)\n",
      "        1    0.000    0.000    0.000    0.000 __init__.py:299(loads)\n",
      "        1    0.000    0.000    0.000    0.000 decoder.py:332(decode)\n",
      "        8    0.000    0.000    0.000    0.000 algorithms.py:217(_ensure_arraylike)\n",
      "      356    0.000    0.000    0.000    0.000 base.py:5126(_values)\n",
      "       20    0.000    0.000    0.000    0.000 base.py:836(__iter__)\n",
      "      118    0.000    0.000    0.000    0.000 utils.py:398(_rev)\n",
      "        1    0.000    0.000    0.000    0.000 indexing.py:728(_get_setitem_indexer)\n",
      "      124    0.000    0.000    0.000    0.000 config.py:647(_get_deprecated_option)\n",
      "      111    0.000    0.000    0.000    0.000 managers.py:1960(internal_values)\n",
      "      147    0.000    0.000    0.000    0.000 flags.py:89(allows_duplicate_labels)\n",
      "        5    0.000    0.000    0.000    0.000 readers.py:1513(_clean_options)\n",
      "        7    0.000    0.000    0.000    0.000 base.py:1682(_validate_names)\n",
      "        2    0.000    0.000    0.000    0.000 _fill.py:107(__init__)\n",
      "        1    0.000    0.000    0.000    0.000 series.py:1135(_get_rows_with_mask)\n",
      "      152    0.000    0.000    0.000    0.000 construction.py:722(_sanitize_str_dtypes)\n",
      "        1    0.000    0.000    0.000    0.000 decoder.py:343(raw_decode)\n",
      "      558    0.000    0.000    0.000    0.000 {built-in method builtins.issubclass}\n",
      "        8    0.000    0.000    0.000    0.000 basedatatypes.py:5420(_prop_set_child)\n",
      "        1    0.000    0.000    0.000    0.000 generic.py:9845(align)\n",
      "        4    0.000    0.000    0.000    0.000 numeric.py:1393(moveaxis)\n",
      "        5    0.000    0.000    0.000    0.000 common.py:145(is_url)\n",
      "        6    0.000    0.000    0.000    0.000 blocks.py:247(make_block)\n",
      "       50    0.000    0.000    0.000    0.000 missing.py:642(na_value_for_dtype)\n",
      "        7    0.000    0.000    0.000    0.000 construction.py:487(<listcomp>)\n",
      "      720    0.000    0.000    0.000    0.000 {method 'replace' of 'str' objects}\n",
      "       51    0.000    0.000    0.000    0.000 base.py:591(_dtype_to_subclass)\n",
      "        2    0.000    0.000    0.000    0.000 data_grabber.py:11(find_repo_root)\n",
      "        1    0.000    0.000    0.000    0.000 base.py:37(_str_getitem)\n",
      "        2    0.000    0.000    0.000    0.000 range.py:234(_data)\n",
      "       11    0.000    0.000    0.000    0.000 missing.py:564(_array_equivalent_object)\n",
      "        5    0.000    0.000    0.000    0.000 readers.py:1455(_get_options_with_defaults)\n",
      "       20    0.000    0.000    0.000    0.000 series.py:708(values)\n",
      "        5    0.000    0.000    0.000    0.000 cast.py:1569(maybe_cast_to_integer_array)\n",
      "      294    0.000    0.000    0.000    0.000 {built-in method __new__ of type object at 0x00007FFF66720FD0}\n",
      "        4    0.000    0.000    0.000    0.000 managers.py:1371(_insert_update_blklocs_and_blknos)\n",
      "       94    0.000    0.000    0.000    0.000 generic.py:6189(__getattr__)\n",
      "        1    0.000    0.000    0.000    0.000 object_array.py:304(_str_slice)\n",
      "       97    0.000    0.000    0.000    0.000 take.py:326(_get_take_nd_function)\n",
      "       38    0.000    0.000    0.000    0.000 basedatatypes.py:722(__getitem__)\n",
      "        1    0.000    0.000    0.000    0.000 managers.py:1916(get_rows_with_mask)\n",
      "       10    0.000    0.000    0.000    0.000 common.py:1194(is_potential_multi_index)\n",
      "        1    0.000    0.000    0.000    0.000 object_array.py:46(_str_map)\n",
      "       28    0.000    0.000    0.000    0.000 basevalidators.py:1045(validate_coerce)\n",
      "      110    0.000    0.000    0.000    0.000 _layout.py:59(_subplot_re_match)\n",
      "       14    0.000    0.000    0.000    0.000 _ufunc_config.py:33(seterr)\n",
      "        3    0.000    0.000    0.000    0.000 _title.py:376(__init__)\n",
      "       50    0.000    0.000    0.000    0.000 utils.py:11(cumsum)\n",
      "      209    0.000    0.000    0.000    0.000 utils.py:304(<lambda>)\n",
      "       10    0.000    0.000    0.000    0.000 common.py:1155(_is_binary_mode)\n",
      "        5    0.000    0.000    0.000    0.000 nanops.py:482(nanany)\n",
      "        1    0.000    0.000    0.000    0.000 indexing.py:959(_convert_tuple)\n",
      "       28    0.000    0.000    0.000    0.000 frame.py:966(shape)\n",
      "       18    0.000    0.000    0.000    0.000 range.py:198(_simple_new)\n",
      "       13    0.000    0.000    0.000    0.000 warnings.py:166(simplefilter)\n",
      "      154    0.000    0.000    0.000    0.000 common.py:1581(<genexpr>)\n",
      "        5    0.000    0.000    0.000    0.000 parse.py:374(urlparse)\n",
      "       23    0.000    0.000    0.000    0.000 blocks.py:297(slice_block_columns)\n",
      "       20    0.000    0.000    0.000    0.000 managers.py:1956(external_values)\n",
      "        2    0.000    0.000    0.000    0.000 generic.py:2010(__contains__)\n",
      "      121    0.000    0.000    0.000    0.000 common.py:367(apply_if_callable)\n",
      "        1    0.000    0.000    0.000    0.000 indexing.py:963(<listcomp>)\n",
      "        1    0.000    0.000    0.000    0.000 accessor.py:254(_wrap_result)\n",
      "        1    0.000    0.000    0.000    0.000 basevalidators.py:1497(<listcomp>)\n",
      "       48    0.000    0.000    0.000    0.000 basevalidators.py:584(in_values)\n",
      "       51    0.000    0.000    0.000    0.000 base.py:573(_ensure_array)\n",
      "       18    0.000    0.000    0.000    0.000 warnings.py:182(_add_filter)\n",
      "       25    0.000    0.000    0.000    0.000 traitlets.py:677(__get__)\n",
      "       44    0.000    0.000    0.000    0.000 c_parser_wrapper.py:367(<listcomp>)\n",
      "      105    0.000    0.000    0.000    0.000 {built-in method pandas._libs.missing.checknull}\n",
      "        4    0.000    0.000    0.000    0.000 managers.py:1361(_insert_update_mgr_locs)\n",
      "        4    0.000    0.000    0.000    0.000 fromnumeric.py:71(_wrapreduction)\n",
      "      152    0.000    0.000    0.000    0.000 construction.py:742(_maybe_repeat)\n",
      "      204    0.000    0.000    0.000    0.000 generic.py:548(_get_axis_number)\n",
      "        2    0.000    0.000    0.000    0.000 indexing.py:1414(_convert_to_indexer)\n",
      "       10    0.000    0.000    0.000    0.000 concat.py:389(is_na)\n",
      "        2    0.000    0.000    0.000    0.000 pathlib.py:868(__new__)\n",
      "        1    0.000    0.000    0.000    0.000 range.py:973(__getitem__)\n",
      "        1    0.000    0.000    0.000    0.000 data_grabber.py:72(__init__)\n",
      "       25    0.000    0.000    0.000    0.000 series.py:821(__len__)\n",
      "        1    0.000    0.000    0.000    0.000 generic.py:10183(_align_series)\n",
      "       84    0.000    0.000    0.000    0.000 base.py:790(is_)\n",
      "        1    0.000    0.000    0.000    0.000 _fillpattern.py:417(__init__)\n",
      "      313    0.000    0.000    0.000    0.000 {method 'split' of 'str' objects}\n",
      "       47    0.000    0.000    0.000    0.000 generic.py:568(_get_block_manager_axis)\n",
      "        7    0.000    0.000    0.000    0.000 _ufunc_config.py:430(__enter__)\n",
      "        7    0.000    0.000    0.000    0.000 cast.py:1400(find_common_type)\n",
      "        2    0.000    0.000    0.000    0.000 basedatatypes.py:5731(__init__)\n",
      "        8    0.000    0.000    0.000    0.000 function_base.py:5562(append)\n",
      "        7    0.000    0.000    0.000    0.000 concat.py:543(_get_sample_object)\n",
      "      349    0.000    0.000    0.000    0.000 {built-in method builtins.hash}\n",
      "       11    0.000    0.000    0.000    0.000 {pandas._libs.lib.array_equivalent_object}\n",
      "        2    0.000    0.000    0.000    0.000 pathlib.py:504(_from_parts)\n",
      "       20    0.000    0.000    0.000    0.000 __init__.py:198(split)\n",
      "       32    0.000    0.000    0.000    0.000 basedatatypes.py:2535(layout)\n",
      "       20    0.000    0.000    0.000    0.000 indexing.py:1629(_validate_integer)\n",
      "        5    0.000    0.000    0.000    0.000 c_parser_wrapper.py:201(_set_noconvert_columns)\n",
      "       10    0.000    0.000    0.000    0.000 common.py:233(stringify_path)\n",
      "       18    0.000    0.000    0.000    0.000 common.py:296(maybe_iterable_to_list)\n",
      "      162    0.000    0.000    0.000    0.000 base.py:830(_reset_identity)\n",
      "       17    0.000    0.000    0.000    0.000 {pandas._libs.algos.take_1d_int64_int64}\n",
      "       87    0.000    0.000    0.000    0.000 basevalidators.py:178(is_numpy_convertable)\n",
      "        1    0.000    0.000    0.000    0.000 _error_x.py:445(__init__)\n",
      "       53    0.000    0.000    0.000    0.000 warnings.py:441(__init__)\n",
      "       18    0.000    0.000    0.000    0.000 <frozen ntpath>:154(splitdrive)\n",
      "       44    0.000    0.000    0.000    0.000 common.py:1025(needs_i8_conversion)\n",
      "        7    0.000    0.000    0.000    0.000 api.py:106(_get_distinct_objs)\n",
      "       24    0.000    0.000    0.000    0.000 dispatch.py:17(should_extension_dispatch)\n",
      "       37    0.000    0.000    0.000    0.000 <frozen importlib._bootstrap>:1035(_resolve_name)\n",
      "        1    0.000    0.000    0.000    0.000 data_grabber.py:25(__init__)\n",
      "       39    0.000    0.000    0.000    0.000 <frozen importlib._bootstrap>:1165(_find_and_load)\n",
      "      101    0.000    0.000    0.000    0.000 common.py:149(cast_scalar_indexer)\n",
      "        7    0.000    0.000    0.000    0.000 concat.py:492(_clean_keys_and_objs)\n",
      "       43    0.000    0.000    0.000    0.000 _dtype.py:330(_name_includes_bit_suffix)\n",
      "        1    0.000    0.000    0.000    0.000 _annotation.py:1541(__init__)\n",
      "        7    0.000    0.000    0.000    0.000 concat.py:478(_get_ndims)\n",
      "        1    0.000    0.000    0.000    0.000 algorithms.py:548(factorize_array)\n",
      "       29    0.000    0.000    0.000    0.000 base.py:458(_engine_type)\n",
      "       10    0.000    0.000    0.000    0.000 {method 'min' of 'numpy.ndarray' objects}\n",
      "        1    0.000    0.000    0.000    0.000 frame.py:8013(_construct_result)\n",
      "       32    0.000    0.000    0.000    0.000 generic.py:4314(_set_is_copy)\n",
      "        5    0.000    0.000    0.000    0.000 common.py:1223(dedup_names)\n",
      "        1    0.000    0.000    0.000    0.000 session.py:649(msg)\n",
      "       10    0.000    0.000    0.000    0.000 indexing.py:1614(_is_scalar_access)\n",
      "        1    0.000    0.000    0.000    0.000 concat.py:126(<listcomp>)\n",
      "        2    0.000    0.000    0.000    0.000 pathlib.py:484(_parse_args)\n",
      "      147    0.000    0.000    0.000    0.000 basevalidators.py:210(is_simple_array)\n",
      "      141    0.000    0.000    0.000    0.000 {pandas._libs.lib.is_scalar}\n",
      "        2    0.000    0.000    0.000    0.000 codeop.py:120(__call__)\n",
      "        1    0.000    0.000    0.000    0.000 _error_y.py:424(__init__)\n",
      "       20    0.000    0.000    0.000    0.000 _asarray.py:108(<setcomp>)\n",
      "       63    0.000    0.000    0.000    0.000 config.py:615(_select_options)\n",
      "        1    0.000    0.000    0.000    0.000 concat.py:296(_get_combined_plan)\n",
      "        5    0.000    0.000    0.000    0.000 basedatatypes.py:5460(_restyle_child)\n",
      "        2    0.000    0.000    0.000    0.000 astype.py:158(astype_array)\n",
      "       12    0.000    0.000    0.000    0.000 concat.py:597(<genexpr>)\n",
      "       10    0.000    0.000    0.000    0.000 _methods.py:43(_amin)\n",
      "        6    0.000    0.000    0.000    0.000 missing.py:305(_isna_string_dtype)\n",
      "        7    0.000    0.000    0.000    0.000 concat.py:565(<listcomp>)\n",
      "       53    0.000    0.000    0.000    0.000 warnings.py:488(__exit__)\n",
      "        1    0.000    0.000    0.000    0.000 _font.py:144(__init__)\n",
      "        1    0.000    0.000    0.000    0.000 _pie.py:1866(__init__)\n",
      "      183    0.000    0.000    0.000    0.000 {pandas._libs.algos.ensure_platform_int}\n",
      "       26    0.000    0.000    0.000    0.000 frame.py:4399(_clear_item_cache)\n",
      "        1    0.000    0.000    0.000    0.000 printing.py:386(<listcomp>)\n",
      "        1    0.000    0.000    0.000    0.000 accessor.py:220(__get__)\n",
      "       20    0.000    0.000    0.000    0.000 blocks.py:222(external_values)\n",
      "        1    0.000    0.000    0.000    0.000 grouper.py:720(group_index)\n",
      "        3    0.000    0.000    0.000    0.000 basedatatypes.py:5469(_relayout_child)\n",
      "       15    0.000    0.000    0.000    0.000 common.py:173(_expand_user)\n",
      "        3    0.000    0.000    0.000    0.000 ops.py:29(_iter_block_pairs)\n",
      "       57    0.000    0.000    0.000    0.000 managers.py:2124(_grouping_func)\n",
      "      390    0.000    0.000    0.000    0.000 typing.py:2287(cast)\n",
      "        2    0.000    0.000    0.000    0.000 base.py:3417(_wrap_setop_result)\n",
      "        1    0.000    0.000    0.000    0.000 astype.py:56(_astype_nansafe)\n",
      "       32    0.000    0.000    0.000    0.000 base.py:2755(_is_multi)\n",
      "      102    0.000    0.000    0.000    0.000 basevalidators.py:2450(data_class)\n",
      "        6    0.000    0.000    0.000    0.000 managers.py:2042(create_block_manager_from_blocks)\n",
      "      146    0.000    0.000    0.000    0.000 {method 'clear' of 'dict' objects}\n",
      "       18    0.000    0.000    0.000    0.000 series.py:905(__array__)\n",
      "        1    0.000    0.000    0.000    0.000 accessor.py:187(__init__)\n",
      "       63    0.000    0.000    0.000    0.000 config.py:674(_translate_key)\n",
      "      118    0.000    0.000    0.000    0.000 utils.py:399(<listcomp>)\n",
      "        5    0.000    0.000    0.000    0.000 fromnumeric.py:53(_wrapfunc)\n",
      "       10    0.000    0.000    0.000    0.000 printing.py:275(default_pprint)\n",
      "        1    0.000    0.000    0.000    0.000 session.py:675(sign)\n",
      "       24    0.000    0.000    0.000    0.000 missing.py:131(dispatch_fill_zeros)\n",
      "       25    0.000    0.000    0.000    0.000 base.py:61(__len__)\n",
      "     14/4    0.000    0.000    0.000    0.000 basedatatypes.py:5676(<genexpr>)\n",
      "       19    0.000    0.000    0.000    0.000 base.py:3989(_check_indexing_method)\n",
      "        2    0.000    0.000    0.000    0.000 version.py:186(__init__)\n",
      "        8    0.000    0.000    0.000    0.000 numeric.py:1330(normalize_axis_tuple)\n",
      "        4    0.000    0.000    0.000    0.000 generic.py:2082(__array__)\n",
      "      166    0.000    0.000    0.000    0.000 {pandas._libs.lib.is_integer}\n",
      "        2    0.000    0.000    0.000    0.000 {built-in method builtins.compile}\n",
      "       44    0.000    0.000    0.000    0.000 c_parser_wrapper.py:369(<setcomp>)\n",
      "       11    0.000    0.000    0.000    0.000 numerictypes.py:357(issubdtype)\n",
      "        2    0.000    0.000    0.000    0.000 pathlib.py:56(parse_parts)\n",
      "        3    0.000    0.000    0.000    0.000 fromnumeric.py:1025(argsort)\n",
      "       66    0.000    0.000    0.000    0.000 inference.py:300(<genexpr>)\n",
      "        1    0.000    0.000    0.000    0.000 console.py:9(get_console_size)\n",
      "        2    0.000    0.000    0.000    0.000 construction.py:638(_extract_index)\n",
      "      302    0.000    0.000    0.000    0.000 generic.py:393(flags)\n",
      "        2    0.000    0.000    0.000    0.000 _title.py:125(__init__)\n",
      "      101    0.000    0.000    0.000    0.000 managers.py:1799(__init__)\n",
      "        1    0.000    0.000    0.000    0.000 session.py:645(msg_header)\n",
      "        1    0.000    0.000    0.000    0.000 _hoverlabel.py:310(__init__)\n",
      "        6    0.000    0.000    0.000    0.000 {built-in method pandas._libs.missing.isnaobj}\n",
      "      131    0.000    0.000    0.000    0.000 base.py:3794(<genexpr>)\n",
      "        6    0.000    0.000    0.000    0.000 series.py:581(_constructor_from_mgr)\n",
      "       48    0.000    0.000    0.000    0.000 basevalidators.py:511(perform_replacemenet)\n",
      "        1    0.000    0.000    0.000    0.000 _mapbox.py:511(__init__)\n",
      "        3    0.000    0.000    0.000    0.000 blocks.py:387(_split_op_result)\n",
      "       10    0.000    0.000    0.000    0.000 printing.py:162(pprint_thing)\n",
      "       90    0.000    0.000    0.000    0.000 utils.py:412(__call__)\n",
      "       44    0.000    0.000    0.000    0.000 c_parser_wrapper.py:370(<setcomp>)\n",
      "       13    0.000    0.000    0.000    0.000 basedatatypes.py:2431(_get_child_props)\n",
      "      144    0.000    0.000    0.000    0.000 blocks.py:583(dtype)\n",
      "        1    0.000    0.000    0.000    0.000 algorithms.py:1532(safe_sort)\n",
      "       20    0.000    0.000    0.000    0.000 blocks.py:2586(external_values)\n",
      "      145    0.000    0.000    0.000    0.000 {pandas._libs.lib.is_iterator}\n",
      "        2    0.000    0.000    0.000    0.000 construction.py:481(<listcomp>)\n",
      "       54    0.000    0.000    0.000    0.000 __init__.py:43(using_pyarrow_string_dtype)\n",
      "        2    0.000    0.000    0.000    0.000 fromnumeric.py:2322(any)\n",
      "        1    0.000    0.000    0.000    0.000 concat.py:542(<listcomp>)\n",
      "      329    0.000    0.000    0.000    0.000 {method 'lower' of 'str' objects}\n",
      "        3    0.000    0.000    0.000    0.000 api.py:379(default_index)\n",
      "        2    0.000    0.000    0.000    0.000 base.py:3014(unique)\n",
      "        6    0.000    0.000    0.000    0.000 basedatatypes.py:942(data)\n",
      "       90    0.000    0.000    0.000    0.000 basedatatypes.py:84(_make_underscore_key)\n",
      "      129    0.000    0.000    0.000    0.000 {method 'copy' of 'dict' objects}\n",
      "       10    0.000    0.000    0.000    0.000 indexing.py:948(_is_nested_tuple_indexer)\n",
      "       90    0.000    0.000    0.000    0.000 utils.py:16(_reducer)\n",
      "        5    0.000    0.000    0.000    0.000 warnings.py:131(filterwarnings)\n",
      "        7    0.000    0.000    0.000    0.000 _ufunc_config.py:435(__exit__)\n",
      "       17    0.000    0.000    0.000    0.000 managers.py:2268(_preprocess_slice_or_indexer)\n",
      "       20    0.000    0.000    0.000    0.000 base.py:7643(_unpack_nested_dtype)\n",
      "       17    0.000    0.000    0.000    0.000 common.py:1366(_is_dtype)\n",
      "       52    0.000    0.000    0.000    0.000 blocks.py:1007(iget)\n",
      "       24    0.000    0.000    0.000    0.000 {method '__deepcopy__' of 'numpy.ndarray' objects}\n",
      "       25    0.000    0.000    0.000    0.000 traitlets.py:630(get)\n",
      "        7    0.000    0.000    0.000    0.000 base.py:781(_rename)\n",
      "      136    0.000    0.000    0.000    0.000 {pandas._libs.lib.item_from_zerodim}\n",
      "       77    0.000    0.000    0.000    0.000 common.py:123(<lambda>)\n",
      "       16    0.000    0.000    0.000    0.000 common.py:977(is_numeric_v_string_like)\n",
      "        1    0.000    0.000    0.000    0.000 base.py:6855(delete)\n",
      "        1    0.000    0.000    0.000    0.000 _line.py:134(__init__)\n",
      "      155    0.000    0.000    0.000    0.000 generic.py:358(attrs)\n",
      "        5    0.000    0.000    0.000    0.000 common.py:277(is_fsspec_url)\n",
      "        1    0.000    0.000    0.000    0.000 _layout.py:3589(template)\n",
      "       51    0.000    0.000    0.000    0.000 common.py:1390(_get_dtype)\n",
      "        1    0.000    0.000    0.000    0.000 fromnumeric.py:2979(prod)\n",
      "        1    0.000    0.000    0.000    0.000 animation.py:5(__init__)\n",
      "       81    0.000    0.000    0.000    0.000 common.py:1255(is_1d_only_ea_dtype)\n",
      "       28    0.000    0.000    0.000    0.000 base.py:1750(_get_names)\n",
      "        6    0.000    0.000    0.000    0.000 cast.py:1359(np_find_common_type)\n",
      "       15    0.000    0.000    0.000    0.000 concat.py:587(<genexpr>)\n",
      "      209    0.000    0.000    0.000    0.000 {method 'pop' of 'list' objects}\n",
      "        5    0.000    0.000    0.000    0.000 base_parser.py:861(_do_date_conversions)\n",
      "      155    0.000    0.000    0.000    0.000 flags.py:57(allows_duplicate_labels)\n",
      "       61    0.000    0.000    0.000    0.000 {pandas._libs.lib.dtypes_all_equal}\n",
      "        1    0.000    0.000    0.000    0.000 cast.py:1483(construct_1d_arraylike_from_scalar)\n",
      "        7    0.000    0.000    0.000    0.000 range.py:484(_view)\n",
      "       30    0.000    0.000    0.000    0.000 indexing.py:1144(<genexpr>)\n",
      "       15    0.000    0.000    0.000    0.000 <frozen ntpath>:319(expanduser)\n",
      "        1    0.000    0.000    0.000    0.000 ops.py:755(ngroups)\n",
      "        5    0.000    0.000    0.000    0.000 readers.py:1925(_refine_defaults_read)\n",
      "       63    0.000    0.000    0.000    0.000 frame.py:637(_constructor)\n",
      "        1    0.000    0.000    0.000    0.000 basevalidators.py:432(__init__)\n",
      "        6    0.000    0.000    0.000    0.000 {built-in method builtins.locals}\n",
      "       24    0.000    0.000    0.000    0.000 utils.py:62(is_list_like_indexer)\n",
      "        8    0.000    0.000    0.000    0.000 base.py:4189(_validate_positional_slice)\n",
      "        7    0.000    0.000    0.000    0.000 threading.py:1192(is_alive)\n",
      "        5    0.000    0.000    0.000    0.000 base_parser.py:361(_make_index)\n",
      "       55    0.000    0.000    0.000    0.000 {method 'format' of 'str' objects}\n",
      "       39    0.000    0.000    0.000    0.000 <frozen importlib._bootstrap>:1101(_sanity_check)\n",
      "        3    0.000    0.000    0.000    0.000 base.py:7624(get_unanimous_names)\n",
      "       90    0.000    0.000    0.000    0.000 basedatatypes.py:115(<lambda>)\n",
      "        2    0.000    0.000    0.000    0.000 threading.py:562(__init__)\n",
      "       11    0.000    0.000    0.000    0.000 frame.py:1539(__len__)\n",
      "        1    0.000    0.000    0.000    0.000 {built-in method _operator.mul}\n",
      "       20    0.000    0.000    0.000    0.000 managers.py:1351(<genexpr>)\n",
      "       12    0.000    0.000    0.000    0.000 base.py:798(tolist)\n",
      "        1    0.000    0.000    0.000    0.000 ops.py:766(result_index)\n",
      "        7    0.000    0.000    0.000    0.000 frame.py:1030(_values)\n",
      "       59    0.000    0.000    0.000    0.000 frame.py:949(axes)\n",
      "        5    0.000    0.000    0.000    0.000 base_parser.py:600(_set_noconvert_dtype_columns)\n",
      "       59    0.000    0.000    0.000    0.000 utils.py:408(_Chomper)\n",
      "       14    0.000    0.000    0.000    0.000 _ufunc_config.py:132(geterr)\n",
      "        4    0.000    0.000    0.000    0.000 generic.py:1673(_is_level_reference)\n",
      "        1    0.000    0.000    0.000    0.000 {method 'factorize' of 'pandas._libs.hashtable.StringHashTable' objects}\n",
      "        1    0.000    0.000    0.000    0.000 groupby.py:1527(_wrap_aggregated_output)\n",
      "       10    0.000    0.000    0.000    0.000 managers.py:279(<listcomp>)\n",
      "        1    0.000    0.000    0.000    0.000 frame.py:4246(_iset_item_mgr)\n",
      "       33    0.000    0.000    0.000    0.000 basedatatypes.py:703(__setattr__)\n",
      "       59    0.000    0.000    0.000    0.000 basedatatypes.py:106(<lambda>)\n",
      "      140    0.000    0.000    0.000    0.000 base.py:1656(name)\n",
      "        1    0.000    0.000    0.000    0.000 accessor.py:206(_validate)\n",
      "        1    0.000    0.000    0.000    0.000 {pandas._libs.lib.map_infer_mask}\n",
      "        3    0.000    0.000    0.000    0.000 base.py:4199(_convert_slice_indexer)\n",
      "        5    0.000    0.000    0.000    0.000 _scatter.py:1013(line)\n",
      "        4    0.000    0.000    0.000    0.000 missing.py:696(is_valid_na_for_dtype)\n",
      "        7    0.000    0.000    0.000    0.000 generic.py:4520(_is_view)\n",
      "      187    0.000    0.000    0.000    0.000 {built-in method builtins.callable}\n",
      "       35    0.000    0.000    0.000    0.000 managers.py:920(<genexpr>)\n",
      "        4    0.000    0.000    0.000    0.000 managers.py:2259(_fast_count_smallints)\n",
      "        1    0.000    0.000    0.000    0.000 range.py:489(copy)\n",
      "        1    0.000    0.000    0.000    0.000 stride_tricks.py:367(broadcast_to)\n",
      "       92    0.000    0.000    0.000    0.000 managers.py:1902(_block)\n",
      "       41    0.000    0.000    0.000    0.000 construction.py:675(_sanitize_non_ordered)\n",
      "       20    0.000    0.000    0.000    0.000 {method 'split' of 're.Pattern' objects}\n",
      "        1    0.000    0.000    0.000    0.000 common.py:261(index_labels_to_array)\n",
      "        1    0.000    0.000    0.000    0.000 merge.py:955(_maybe_restore_index_levels)\n",
      "        2    0.000    0.000    0.000    0.000 jsonutil.py:107(json_default)\n",
      "        5    0.000    0.000    0.000    0.000 {built-in method _operator.add}\n",
      "       77    0.000    0.000    0.000    0.000 common.py:121(classes)\n",
      "        7    0.000    0.000    0.000    0.000 frozen.py:73(__getitem__)\n",
      "       26    0.000    0.000    0.000    0.000 common.py:131(<lambda>)\n",
      "       18    0.000    0.000    0.000    0.000 {method 'remove' of 'list' objects}\n",
      "       22    0.000    0.000    0.000    0.000 numerictypes.py:283(issubclass_)\n",
      "       89    0.000    0.000    0.000    0.000 basevalidators.py:1303(numbers_allowed)\n",
      "        6    0.000    0.000    0.000    0.000 cast.py:1724(np_can_hold_element)\n",
      "        1    0.000    0.000    0.000    0.000 stride_tricks.py:340(_broadcast_to)\n",
      "        1    0.000    0.000    0.000    0.000 base.py:1899(rename)\n",
      "       24    0.000    0.000    0.000    0.000 range.py:554(equals)\n",
      "        7    0.000    0.000    0.000    0.000 array_ops.py:509(maybe_prepare_scalar_for_op)\n",
      "        1    0.000    0.000    0.000    0.000 series.py:1009(_slice)\n",
      "        2    0.000    0.000    0.000    0.000 managers.py:941(fast_xs)\n",
      "        3    0.000    0.000    0.000    0.000 base.py:122(_reset_cache)\n",
      "       22    0.000    0.000    0.000    0.000 generic.py:6182(<genexpr>)\n",
      "        1    0.000    0.000    0.000    0.000 managers.py:1045(iset)\n",
      "        4    0.000    0.000    0.000    0.000 generic.py:1759(_check_label_or_level_ambiguity)\n",
      "        6    0.000    0.000    0.000    0.000 basevalidators.py:346(present)\n",
      "        4    0.000    0.000    0.000    0.000 basedatatypes.py:5669(<genexpr>)\n",
      "        2    0.000    0.000    0.000    0.000 base.py:3751(_convert_can_do_setop)\n",
      "       89    0.000    0.000    0.000    0.000 managers.py:185(blklocs)\n",
      "        1    0.000    0.000    0.000    0.000 fromnumeric.py:2421(all)\n",
      "       34    0.000    0.000    0.000    0.000 indexing.py:150(iloc)\n",
      "        7    0.000    0.000    0.000    0.000 base.py:4440(_wrap_reindex_result)\n",
      "        1    0.000    0.000    0.000    0.000 base.py:1794(set_names)\n",
      "        2    0.000    0.000    0.000    0.000 base.py:755(_shallow_copy)\n",
      "       12    0.000    0.000    0.000    0.000 series.py:995(_ixs)\n",
      "        7    0.000    0.000    0.000    0.000 api.py:102(<listcomp>)\n",
      "        6    0.000    0.000    0.000    0.000 construction.py:405(_check_values_indices_shape_match)\n",
      "       13    0.000    0.000    0.000    0.000 base.py:510(find)\n",
      "        4    0.000    0.000    0.000    0.000 contextlib.py:299(helper)\n",
      "        2    0.000    0.000    0.000    0.000 merge.py:2528(_convert_arrays_and_get_rizer_klass)\n",
      "       21    0.000    0.000    0.000    0.000 generic.py:638(_info_axis)\n",
      "      111    0.000    0.000    0.000    0.000 {pandas._libs.lib.is_float}\n",
      "        5    0.000    0.000    0.000    0.000 blocks.py:2483(ensure_block_shape)\n",
      "        6    0.000    0.000    0.000    0.000 basedatatypes.py:5762(_process_kwargs)\n",
      "       13    0.000    0.000    0.000    0.000 {pandas._libs.lib.is_all_arraylike}\n",
      "        1    0.000    0.000    0.000    0.000 function_base.py:5172(delete)\n",
      "       53    0.000    0.000    0.000    0.000 concat.py:73(<listcomp>)\n",
      "       10    0.000    0.000    0.000    0.000 printing.py:349(_extend_line)\n",
      "      124    0.000    0.000    0.000    0.000 {built-in method _warnings._filters_mutated}\n",
      "       25    0.000    0.000    0.000    0.000 blocks.py:1016(_slice)\n",
      "       80    0.000    0.000    0.000    0.000 generic.py:659(ndim)\n",
      "       10    0.000    0.000    0.000    0.000 indexing.py:909(_expand_ellipsis)\n",
      "       14    0.000    0.000    0.000    0.000 nanops.py:79(<genexpr>)\n",
      "        1    0.000    0.000    0.000    0.000 algorithms.py:262(_get_hashtable_algo)\n",
      "        1    0.000    0.000    0.000    0.000 cast.py:774(infer_dtype_from_scalar)\n",
      "       76    0.000    0.000    0.000    0.000 base.py:973(dtype)\n",
      "       43    0.000    0.000    0.000    0.000 _dtype.py:24(_kind_name)\n",
      "        4    0.000    0.000    0.000    0.000 frame.py:1015(_can_fast_transpose)\n",
      "       12    0.000    0.000    0.000    0.000 utils.py:181(encode_as_numpy)\n",
      "        5    0.000    0.000    0.000    0.000 common.py:192(validate_header_arg)\n",
      "       20    0.000    0.000    0.000    0.000 common.py:1219(<genexpr>)\n",
      "        7    0.000    0.000    0.000    0.000 managers.py:445(is_view)\n",
      "        5    0.000    0.000    0.000    0.000 readers.py:1502(_check_file_or_buffer)\n",
      "        8    0.000    0.000    0.000    0.000 fromnumeric.py:1768(ravel)\n",
      "       10    0.000    0.000    0.000    0.000 concat.py:322(_get_block_for_concat_plan)\n",
      "        1    0.000    0.000    0.000    0.000 session.py:600(msg_id)\n",
      "    20/10    0.000    0.000    0.000    0.000 basedatatypes.py:4591(_prop_defaults)\n",
      "        1    0.000    0.000    0.000    0.000 fips_query.py:434(<listcomp>)\n",
      "        1    0.000    0.000    0.000    0.000 base.py:1357(_format_attrs)\n",
      "        5    0.000    0.000    0.000    0.000 base_parser.py:349(_maybe_make_multi_index_columns)\n",
      "       50    0.000    0.000    0.000    0.000 basedatatypes.py:116(<listcomp>)\n",
      "        5    0.000    0.000    0.000    0.000 base_parser.py:278(_extract_multi_indexer_columns)\n",
      "       55    0.000    0.000    0.000    0.000 managers.py:235(items)\n",
      "        1    0.000    0.000    0.000    0.000 frame.py:12292(_reindex_for_setitem)\n",
      "       50    0.000    0.000    0.000    0.000 basedatatypes.py:117(<listcomp>)\n",
      "       21    0.000    0.000    0.000    0.000 common.py:306(is_null_slice)\n",
      "       90    0.000    0.000    0.000    0.000 utils.py:327(<lambda>)\n",
      "        4    0.000    0.000    0.000    0.000 hmac.py:117(update)\n",
      "        2    0.000    0.000    0.000    0.000 fromnumeric.py:1881(nonzero)\n",
      "        1    0.000    0.000    0.000    0.000 cast.py:254(maybe_downcast_to_dtype)\n",
      "        5    0.000    0.000    0.000    0.000 basedatatypes.py:4508(_init_child_props)\n",
      "        4    0.000    0.000    0.000    0.000 base.py:5271(_validate_fill_value)\n",
      "       44    0.000    0.000    0.000    0.000 {built-in method nt.fspath}\n",
      "        1    0.000    0.000    0.000    0.000 _data.py:5(__init__)\n",
      "      104    0.000    0.000    0.000    0.000 multiarray.py:1080(copyto)\n",
      "       24    0.000    0.000    0.000    0.000 base.py:6624(_validate_indexer)\n",
      "       13    0.000    0.000    0.000    0.000 construction.py:196(mgr_to_mgr)\n",
      "       12    0.000    0.000    0.000    0.000 inference.py:373(is_sequence)\n",
      "        7    0.000    0.000    0.000    0.000 base.py:4444(_maybe_preserve_names)\n",
      "        9    0.000    0.000    0.000    0.000 base.py:2773(_na_value)\n",
      "        3    0.000    0.000    0.000    0.000 api.py:258(_find_common_index_dtype)\n",
      "       10    0.000    0.000    0.000    0.000 printing.py:193(as_escaped_string)\n",
      "        6    0.000    0.000    0.000    0.000 basevalidators.py:2646(get_trace_class)\n",
      "       10    0.000    0.000    0.000    0.000 common.py:91(ensure_python_int)\n",
      "        3    0.000    0.000    0.000    0.000 managers.py:2233(<listcomp>)\n",
      "        1    0.000    0.000    0.000    0.000 base.py:5116(array)\n",
      "        7    0.000    0.000    0.000    0.000 concat.py:747(<listcomp>)\n",
      "      121    0.000    0.000    0.000    0.000 basedatatypes.py:4399(plotly_name)\n",
      "       15    0.000    0.000    0.000    0.000 {pandas._libs.internals.get_blkno_placements}\n",
      "       20    0.000    0.000    0.000    0.000 indexing.py:2651(is_label_like)\n",
      "       57    0.000    0.000    0.000    0.000 {method 'endswith' of 'str' objects}\n",
      "       24    0.000    0.000    0.000    0.000 {built-in method builtins.max}\n",
      "        5    0.000    0.000    0.000    0.000 enum.py:193(__get__)\n",
      "       30    0.000    0.000    0.000    0.000 indexing.py:1143(<genexpr>)\n",
      "        4    0.000    0.000    0.000    0.000 contextlib.py:132(__enter__)\n",
      "       62    0.000    0.000    0.000    0.000 {method 'join' of 'str' objects}\n",
      "        2    0.000    0.000    0.000    0.000 indexing.py:2244(_ensure_iterable_column_indexer)\n",
      "       10    0.000    0.000    0.000    0.000 inference.py:105(is_file_like)\n",
      "        1    0.000    0.000    0.000    0.000 generic.py:2028(_wrap_agged_manager)\n",
      "        3    0.000    0.000    0.000    0.000 generic.py:3930(_maybe_update_cacher)\n",
      "        4    0.000    0.000    0.000    0.000 {method 'update' of '_hashlib.HMAC' objects}\n",
      "        2    0.000    0.000    0.000    0.000 threading.py:243(__init__)\n",
      "       20    0.000    0.000    0.000    0.000 managers.py:230(is_single_block)\n",
      "        5    0.000    0.000    0.000    0.000 frame.py:4361(_ensure_valid_index)\n",
      "      108    0.000    0.000    0.000    0.000 base.py:363(ndim)\n",
      "        2    0.000    0.000    0.000    0.000 fips_query.py:465(<listcomp>)\n",
      "       13    0.000    0.000    0.000    0.000 _validators.py:226(validate_bool_kwarg)\n",
      "        1    0.000    0.000    0.000    0.000 generic.py:1895(<listcomp>)\n",
      "        7    0.000    0.000    0.000    0.000 threading.py:1125(_wait_for_tstate_lock)\n",
      "        9    0.000    0.000    0.000    0.000 astype.py:250(astype_is_view)\n",
      "        1    0.000    0.000    0.000    0.000 merge.py:1340(_maybe_coerce_merge_keys)\n",
      "        4    0.000    0.000    0.000    0.000 common.py:103(_maybe_match_name)\n",
      "        1    0.000    0.000    0.000    0.000 format.py:479(get_adjustment)\n",
      "       59    0.000    0.000    0.000    0.000 utils.py:409(__init__)\n",
      "      125    0.000    0.000    0.000    0.000 basevalidators.py:2498(present)\n",
      "       36    0.000    0.000    0.000    0.000 indexing.py:2685(<genexpr>)\n",
      "        1    0.000    0.000    0.000    0.000 hmac.py:122(copy)\n",
      "        5    0.000    0.000    0.000    0.000 basedatatypes.py:2684(_relayout_child)\n",
      "       50    0.000    0.000    0.000    0.000 basevalidators.py:2556(data_class)\n",
      "        5    0.000    0.000    0.000    0.000 parse.py:119(_coerce_args)\n",
      "        5    0.000    0.000    0.000    0.000 base_parser.py:1247(_process_date_conversion)\n",
      "        4    0.000    0.000    0.000    0.000 {built-in method _thread.allocate_lock}\n",
      "       20    0.000    0.000    0.000    0.000 indexing.py:1627(<genexpr>)\n",
      "        1    0.000    0.000    0.000    0.000 session.py:272(msg_header)\n",
      "        9    0.000    0.000    0.000    0.000 managers.py:282(arrays)\n",
      "       12    0.000    0.000    0.000    0.000 utils.py:165(encode_as_pandas)\n",
      "        2    0.000    0.000    0.000    0.000 {method 'isoformat' of 'datetime.datetime' objects}\n",
      "       35    0.000    0.000    0.000    0.000 function.py:64(__call__)\n",
      "        1    0.000    0.000    0.000    0.000 _legend.py:874(__init__)\n",
      "        8    0.000    0.000    0.000    0.000 {method 'reshape' of 'numpy.ndarray' objects}\n",
      "       26    0.000    0.000    0.000    0.000 common.py:126(_classes_and_not_datetimelike)\n",
      "       31    0.000    0.000    0.000    0.000 basevalidators.py:646(validate_coerce)\n",
      "       75    0.000    0.000    0.000    0.000 blocks.py:239(mgr_locs)\n",
      "       12    0.000    0.000    0.000    0.000 utils.py:143(encode_as_list)\n",
      "       77    0.000    0.000    0.000    0.000 multiarray.py:153(concatenate)\n",
      "        2    0.000    0.000    0.000    0.000 cast.py:921(_maybe_infer_dtype_type)\n",
      "        5    0.000    0.000    0.000    0.000 <frozen codecs>:309(__init__)\n",
      "        4    0.000    0.000    0.000    0.000 contextlib.py:104(__init__)\n",
      "        6    0.000    0.000    0.000    0.000 pathlib.py:777(parent)\n",
      "        2    0.000    0.000    0.000    0.000 _validators.py:354(validate_ascending)\n",
      "        7    0.000    0.000    0.000    0.000 base.py:5452(<setcomp>)\n",
      "        1    0.000    0.000    0.000    0.000 concat.py:143(_get_result_dtype)\n",
      "        4    0.000    0.000    0.000    0.000 api.py:323(_sanitize_and_check)\n",
      "        1    0.000    0.000    0.000    0.000 generic.py:1734(_is_label_or_level_reference)\n",
      "        3    0.000    0.000    0.000    0.000 base.py:7637(<listcomp>)\n",
      "        1    0.000    0.000    0.000    0.000 basedatatypes.py:3072(_build_update_params_from_batch)\n",
      "        3    0.000    0.000    0.000    0.000 common.py:192(any_not_none)\n",
      "        1    0.000    0.000    0.000    0.000 managers.py:1930(get_slice)\n",
      "       21    0.000    0.000    0.000    0.000 indexing.py:966(_validate_key_length)\n",
      "        1    0.000    0.000    0.000    0.000 grouper.py:527(__init__)\n",
      "        3    0.000    0.000    0.000    0.000 pathlib.py:536(__str__)\n",
      "       30    0.000    0.000    0.000    0.000 indexing.py:955(<genexpr>)\n",
      "       10    0.000    0.000    0.000    0.000 base.py:5634(<genexpr>)\n",
      "        2    0.000    0.000    0.000    0.000 to_dict.py:98(<listcomp>)\n",
      "        1    0.000    0.000    0.000    0.000 base.py:3543(_wrap_intersection_result)\n",
      "        5    0.000    0.000    0.000    0.000 common.py:503(get_compression_method)\n",
      "       10    0.000    0.000    0.000    0.000 {method 'encode' of 'str' objects}\n",
      "        5    0.000    0.000    0.000    0.000 common.py:1107(_maybe_memory_map)\n",
      "        1    0.000    0.000    0.000    0.000 similarity_utils.py:78(divide_exponentially)\n",
      "        3    0.000    0.000    0.000    0.000 {method 'any' of 'numpy.generic' objects}\n",
      "       15    0.000    0.000    0.000    0.000 generic.py:6177(<genexpr>)\n",
      "        6    0.000    0.000    0.000    0.000 base.py:301(array)\n",
      "        5    0.000    0.000    0.000    0.000 base_parser.py:1404(_validate_parse_dates_arg)\n",
      "        8    0.000    0.000    0.000    0.000 generic.py:4337(_check_setitem_copy)\n",
      "        5    0.000    0.000    0.000    0.000 common.py:185(all_none)\n",
      "       14    0.000    0.000    0.000    0.000 {built-in method numpy.seterrobj}\n",
      "       12    0.000    0.000    0.000    0.000 utils.py:135(encode_as_plotly)\n",
      "       36    0.000    0.000    0.000    0.000 indexing.py:2694(<genexpr>)\n",
      "       10    0.000    0.000    0.000    0.000 blocks.py:203(_can_hold_na)\n",
      "        1    0.000    0.000    0.000    0.000 {pandas._libs.internals.get_concat_blkno_indexers}\n",
      "        5    0.000    0.000    0.000    0.000 managers.py:1812(from_blocks)\n",
      "        4    0.000    0.000    0.000    0.000 merge.py:2624(_validate_operand)\n",
      "        1    0.000    0.000    0.000    0.000 algorithms.py:106(_ensure_data)\n",
      "        1    0.000    0.000    0.000    0.000 base.py:3050(drop_duplicates)\n",
      "        5    0.000    0.000    0.000    0.000 {built-in method _codecs.lookup}\n",
      "       23    0.000    0.000    0.000    0.000 {pandas._libs.algos.ensure_object}\n",
      "        3    0.000    0.000    0.000    0.000 function.py:411(validate_func)\n",
      "        1    0.000    0.000    0.000    0.000 _layout.py:4257(xaxis)\n",
      "       29    0.000    0.000    0.000    0.000 {pandas._libs.lib.is_bool}\n",
      "       11    0.000    0.000    0.000    0.000 contextlib.py:440(__init__)\n",
      "       11    0.000    0.000    0.000    0.000 nanops.py:72(check)\n",
      "       32    0.000    0.000    0.000    0.000 base.py:1168(_maybe_disallow_fill)\n",
      "        1    0.000    0.000    0.000    0.000 numpy_.py:98(__init__)\n",
      "        2    0.000    0.000    0.000    0.000 _templates.py:64(__getitem__)\n",
      "       24    0.000    0.000    0.000    0.000 {method 'tolist' of 'numpy.ndarray' objects}\n",
      "        5    0.000    0.000    0.000    0.000 c_parser_wrapper.py:330(<dictcomp>)\n",
      "       37    0.000    0.000    0.000    0.000 {method 'rsplit' of 'str' objects}\n",
      "        1    0.000    0.000    0.000    0.000 _layout.py:4818(yaxis)\n",
      "        1    0.000    0.000    0.000    0.000 zmqshell.py:74(_hooks)\n",
      "        8    0.000    0.000    0.000    0.000 numeric.py:1380(<listcomp>)\n",
      "        1    0.000    0.000    0.000    0.000 _layout.py:1960(legend)\n",
      "        3    0.000    0.000    0.000    0.000 nanops.py:324(_get_dtype_max)\n",
      "        1    0.000    0.000    0.000    0.000 _renderers.py:298(_perform_external_rendering)\n",
      "        2    0.000    0.000    0.000    0.000 range.py:996(_getitem_slice)\n",
      "       15    0.000    0.000    0.000    0.000 range.py:316(step)\n",
      "        5    0.000    0.000    0.000    0.000 base_parser.py:883(_check_data_length)\n",
      "       12    0.000    0.000    0.000    0.000 utils.py:151(encode_as_sage)\n",
      "        1    0.000    0.000    0.000    0.000 session.py:198(utcnow)\n",
      "        2    0.000    0.000    0.000    0.000 merge.py:2620(_any)\n",
      "       16    0.000    0.000    0.000    0.000 {built-in method sys.intern}\n",
      "        2    0.000    0.000    0.000    0.000 threading.py:274(__exit__)\n",
      "        5    0.000    0.000    0.000    0.000 base_parser.py:1113(_make_date_converter)\n",
      "       23    0.000    0.000    0.000    0.000 {method 'insert' of 'list' objects}\n",
      "        2    0.000    0.000    0.000    0.000 common.py:384(standardize_mapping)\n",
      "       17    0.000    0.000    0.000    0.000 common.py:1107(<lambda>)\n",
      "       18    0.000    0.000    0.000    0.000 base.py:538(<genexpr>)\n",
      "        2    0.000    0.000    0.000    0.000 pathlib.py:147(splitroot)\n",
      "       28    0.000    0.000    0.000    0.000 blocks.py:1003(shape)\n",
      "        7    0.000    0.000    0.000    0.000 base.py:5461(<listcomp>)\n",
      "        2    0.000    0.000    0.000    0.000 merge.py:2584(<genexpr>)\n",
      "        6    0.000    0.000    0.000    0.000 indexing.py:878(<genexpr>)\n",
      "        6    0.000    0.000    0.000    0.000 utils.py:279(_get_int_type)\n",
      "       12    0.000    0.000    0.000    0.000 basevalidators.py:1876(<listcomp>)\n",
      "       28    0.000    0.000    0.000    0.000 {built-in method numpy.geterrobj}\n",
      "        2    0.000    0.000    0.000    0.000 config.py:215(get_default_val)\n",
      "       36    0.000    0.000    0.000    0.000 series.py:577(_constructor)\n",
      "       12    0.000    0.000    0.000    0.000 utils.py:198(encode_as_datetime)\n",
      "        1    0.000    0.000    0.000    0.000 _layout.py:5(__init__)\n",
      "        1    0.000    0.000    0.000    0.000 {method 'copy' of '_hashlib.HMAC' objects}\n",
      "        1    0.000    0.000    0.000    0.000 hmac.py:161(hexdigest)\n",
      "       10    0.000    0.000    0.000    0.000 common.py:514(is_string_or_object_np_dtype)\n",
      "        5    0.000    0.000    0.000    0.000 c_parser_wrapper.py:212(<dictcomp>)\n",
      "       10    0.000    0.000    0.000    0.000 basedatatypes.py:4551(_get_child_prop_defaults)\n",
      "       23    0.000    0.000    0.000    0.000 {method 'add' of 'pandas._libs.internals.BlockPlacement' objects}\n",
      "       20    0.000    0.000    0.000    0.000 {method 'upper' of 'str' objects}\n",
      "        2    0.000    0.000    0.000    0.000 pathlib.py:546(__fspath__)\n",
      "        1    0.000    0.000    0.000    0.000 algorithms.py:280(_check_object_for_strings)\n",
      "       12    0.000    0.000    0.000    0.000 utils.py:206(encode_as_date)\n",
      "        2    0.000    0.000    0.000    0.000 version.py:503(_cmpkey)\n",
      "        1    0.000    0.000    0.000    0.000 _json.py:70(_safe)\n",
      "        1    0.000    0.000    0.000    0.000 concat.py:466(<listcomp>)\n",
      "        3    0.000    0.000    0.000    0.000 similarity_utils.py:95(<genexpr>)\n",
      "       24    0.000    0.000    0.000    0.000 basevalidators.py:1879(<genexpr>)\n",
      "        1    0.000    0.000    0.000    0.000 array_ops.py:466(get_array_op)\n",
      "        1    0.000    0.000    0.000    0.000 generic.py:2015(_get_data_to_aggregate)\n",
      "        1    0.000    0.000    0.000    0.000 ops.py:278(_get_result_dtype)\n",
      "        1    0.000    0.000    0.000    0.000 data_grabber.py:161(<listcomp>)\n",
      "        2    0.000    0.000    0.000    0.000 _renderers.py:173(_activate_pending_renderers)\n",
      "        2    0.000    0.000    0.000    0.000 threading.py:283(_acquire_restore)\n",
      "        1    0.000    0.000    0.000    0.000 fromnumeric.py:865(sort)\n",
      "        5    0.000    0.000    0.000    0.000 c_parser_wrapper.py:392(ensure_dtype_objs)\n",
      "       31    0.000    0.000    0.000    0.000 {method 'keys' of 'dict' objects}\n",
      "       18    0.000    0.000    0.000    0.000 {built-in method builtins.iter}\n",
      "       52    0.000    0.000    0.000    0.000 series.py:1381(_clear_item_cache)\n",
      "       11    0.000    0.000    0.000    0.000 contextlib.py:446(__exit__)\n",
      "        1    0.000    0.000    0.000    0.000 indexing.py:1578(_has_valid_setitem_indexer)\n",
      "        1    0.000    0.000    0.000    0.000 managers.py:1246(_iset_single)\n",
      "        2    0.000    0.000    0.000    0.000 blocks.py:323(getitem_block_columns)\n",
      "        1    0.000    0.000    0.000    0.000 _frames.py:5(__init__)\n",
      "       47    0.000    0.000    0.000    0.000 {method 'pop' of 'set' objects}\n",
      "        1    0.000    0.000    0.000    0.000 indexing.py:813(_ensure_listlike_indexer)\n",
      "        4    0.000    0.000    0.000    0.000 fromnumeric.py:72(<dictcomp>)\n",
      "        5    0.000    0.000    0.000    0.000 readers.py:1850(_clean_na_values)\n",
      "        9    0.000    0.000    0.000    0.000 {method 'update' of 'dict' objects}\n",
      "        1    0.000    0.000    0.000    0.000 fips_query.py:437(<listcomp>)\n",
      "        1    0.000    0.000    0.000    0.000 missing.py:380(notna)\n",
      "       28    0.000    0.000    0.000    0.000 range.py:377(dtype)\n",
      "        8    0.000    0.000    0.000    0.000 base.py:166(__setattr__)\n",
      "       30    0.000    0.000    0.000    0.000 indexing.py:915(<genexpr>)\n",
      "        3    0.000    0.000    0.000    0.000 api.py:270(<listcomp>)\n",
      "        9    0.000    0.000    0.000    0.000 {method '_update_from_sliced' of 'pandas._libs.index.IndexEngine' objects}\n",
      "        1    0.000    0.000    0.000    0.000 animation.py:51(__init__)\n",
      "       24    0.000    0.000    0.000    0.000 missing.py:971(clean_reindex_fill_method)\n",
      "        5    0.000    0.000    0.000    0.000 encoder.py:105(__init__)\n",
      "        7    0.000    0.000    0.000    0.000 common.py:171(not_none)\n",
      "        2    0.000    0.000    0.000    0.000 {method 'search' of 're.Pattern' objects}\n",
      "        2    0.000    0.000    0.000    0.000 threading.py:1453(current_thread)\n",
      "        2    0.000    0.000    0.000    0.000 base.py:3745(_assert_can_do_setop)\n",
      "       13    0.000    0.000    0.000    0.000 range.py:281(start)\n",
      "        7    0.000    0.000    0.000    0.000 concat.py:689(_get_result_dim)\n",
      "        8    0.000    0.000    0.000    0.000 array_ops.py:590(_bool_arith_check)\n",
      "        1    0.000    0.000    0.000    0.000 frame.py:988(_is_homogeneous_type)\n",
      "       54    0.000    0.000    0.000    0.000 base.py:6611(_maybe_cast_indexer)\n",
      "        3    0.000    0.000    0.000    0.000 utils.py:38(is_valid_positional_slice)\n",
      "        1    0.000    0.000    0.000    0.000 base.py:1753(_set_names)\n",
      "        2    0.000    0.000    0.000    0.000 ops.py:96(_reset_block_mgr_locs)\n",
      "       15    0.000    0.000    0.000    0.000 concat.py:584(<genexpr>)\n",
      "       20    0.000    0.000    0.000    0.000 format.py:428(len)\n",
      "        5    0.000    0.000    0.000    0.000 {method 'transpose' of 'numpy.ndarray' objects}\n",
      "        1    0.000    0.000    0.000    0.000 {method 'hexdigest' of '_hashlib.HMAC' objects}\n",
      "        2    0.000    0.000    0.000    0.000 algorithms.py:184(_reconstruct_data)\n",
      "       28    0.000    0.000    0.000    0.000 managers.py:335(<dictcomp>)\n",
      "        5    0.000    0.000    0.000    0.000 <string>:2(__init__)\n",
      "        1    0.000    0.000    0.000    0.000 format.py:425(__init__)\n",
      "        2    0.000    0.000    0.000    0.000 __init__.py:178(sub)\n",
      "        5    0.000    0.000    0.000    0.000 iostream.py:137(_event_pipe)\n",
      "       11    0.000    0.000    0.000    0.000 base.py:691(_constructor)\n",
      "        6    0.000    0.000    0.000    0.000 construction.py:585(_ensure_2d)\n",
      "       24    0.000    0.000    0.000    0.000 {built-in method numpy.ascontiguousarray}\n",
      "        1    0.000    0.000    0.000    0.000 displaypub.py:43(_validate_data)\n",
      "        1    0.000    0.000    0.000    0.000 _dtype.py:34(__str__)\n",
      "        1    0.000    0.000    0.000    0.000 concat.py:503(_dtype_to_na_value)\n",
      "        5    0.000    0.000    0.000    0.000 c_parser_wrapper.py:326(<listcomp>)\n",
      "        1    0.000    0.000    0.000    0.000 session.py:281(extract_header)\n",
      "        1    0.000    0.000    0.000    0.000 base.py:366(ensure_np_dtype)\n",
      "        9    0.000    0.000    0.000    0.000 managers.py:294(<listcomp>)\n",
      "        5    0.000    0.000    0.000    0.000 base_parser.py:254(_has_complex_date_col)\n",
      "        1    0.000    0.000    0.000    0.000 nanops.py:336(_na_ok_dtype)\n",
      "        6    0.000    0.000    0.000    0.000 base.py:7639(<genexpr>)\n",
      "        5    0.000    0.000    0.000    0.000 c_parser_wrapper.py:213(<listcomp>)\n",
      "       33    0.000    0.000    0.000    0.000 {pandas._libs.lib.is_int_or_none}\n",
      "        5    0.000    0.000    0.000    0.000 {built-in method _codecs.lookup_error}\n",
      "        1    0.000    0.000    0.000    0.000 fips_query.py:317(<listcomp>)\n",
      "        1    0.000    0.000    0.000    0.000 {built-in method now}\n",
      "        1    0.000    0.000    0.000    0.000 console.py:79(in_ipython_frontend)\n",
      "        5    0.000    0.000    0.000    0.000 {built-in method sys.getfilesystemencoding}\n",
      "        2    0.000    0.000    0.000    0.000 similarity_utils.py:139(<listcomp>)\n",
      "        1    0.000    0.000    0.000    0.000 generic.py:1908(<listcomp>)\n",
      "        1    0.000    0.000    0.000    0.000 basevalidators.py:2411(__init__)\n",
      "       22    0.000    0.000    0.000    0.000 common.py:175(<genexpr>)\n",
      "        7    0.000    0.000    0.000    0.000 base.py:7572(ensure_has_len)\n",
      "        2    0.000    0.000    0.000    0.000 ops.py:108(_get_same_shape_values)\n",
      "        1    0.000    0.000    0.000    0.000 cast.py:324(maybe_downcast_numeric)\n",
      "        1    0.000    0.000    0.000    0.000 basevalidators.py:2602(__init__)\n",
      "       38    0.000    0.000    0.000    0.000 {method 'isdigit' of 'str' objects}\n",
      "        1    0.000    0.000    0.000    0.000 3385331089.py:1(<module>)\n",
      "        9    0.000    0.000    0.000    0.000 {built-in method pandas._libs.internals.slice_len}\n",
      "        7    0.000    0.000    0.000    0.000 {pandas._libs.lib.is_bool_list}\n",
      "        2    0.000    0.000    0.000    0.000 common.py:530(temp_setattr)\n",
      "        2    0.000    0.000    0.000    0.000 concat.py:431(get_reindexed_values)\n",
      "        6    0.000    0.000    0.000    0.000 indexing.py:877(<genexpr>)\n",
      "        1    0.000    0.000    0.000    0.000 grouper.py:1050(_convert_grouper)\n",
      "        1    0.000    0.000    0.000    0.000 sorting.py:238(is_int64_overflow_possible)\n",
      "        5    0.000    0.000    0.000    0.000 basevalidators.py:241(__init__)\n",
      "       25    0.000    0.000    0.000    0.000 {method 'strip' of 'str' objects}\n",
      "        2    0.000    0.000    0.000    0.000 pathlib.py:523(_format_parsed_parts)\n",
      "        2    0.000    0.000    0.000    0.000 shape_base.py:23(atleast_1d)\n",
      "        6    0.000    0.000    0.000    0.000 series.py:5817(_align_for_op)\n",
      "       20    0.000    0.000    0.000    0.000 {method 'group' of 're.Match' objects}\n",
      "        6    0.000    0.000    0.000    0.000 blocks.py:2236(is_view)\n",
      "        1    0.000    0.000    0.000    0.000 basevalidators.py:703(__init__)\n",
      "        4    0.000    0.000    0.000    0.000 compilerop.py:180(extra_flags)\n",
      "        6    0.000    0.000    0.000    0.000 pathlib.py:515(_from_parsed_parts)\n",
      "        1    0.000    0.000    0.000    0.000 utils.py:290(length_of_indexer)\n",
      "        2    0.000    0.000    0.000    0.000 cast.py:1439(<genexpr>)\n",
      "        1    0.000    0.000    0.000    0.000 concat.py:104(<listcomp>)\n",
      "       15    0.000    0.000    0.000    0.000 base_parser.py:1425(is_index_col)\n",
      "        1    0.000    0.000    0.000    0.000 generic.py:1906(<listcomp>)\n",
      "        3    0.000    0.000    0.000    0.000 concat.py:471(<genexpr>)\n",
      "        1    0.000    0.000    0.000    0.000 basevalidators.py:2521(__init__)\n",
      "        7    0.000    0.000    0.000    0.000 _ufunc_config.py:426(__init__)\n",
      "        3    0.000    0.000    0.000    0.000 cast.py:1430(<genexpr>)\n",
      "        5    0.000    0.000    0.000    0.000 readers.py:2055(_extract_dialect)\n",
      "        2    0.000    0.000    0.000    0.000 _templates.py:193(merge_templates)\n",
      "        1    0.000    0.000    0.000    0.000 api.py:281(<listcomp>)\n",
      "        5    0.000    0.000    0.000    0.000 readers.py:2153(_validate_skipfooter)\n",
      "       26    0.000    0.000    0.000    0.000 {method 'add' of 'set' objects}\n",
      "        1    0.000    0.000    0.000    0.000 similarity_utils.py:86(<listcomp>)\n",
      "        1    0.000    0.000    0.000    0.000 session.py:854(<listcomp>)\n",
      "        7    0.000    0.000    0.000    0.000 concat.py:766(_maybe_check_integrity)\n",
      "        5    0.000    0.000    0.000    0.000 {method 'item' of 'numpy.ndarray' objects}\n",
      "        2    0.000    0.000    0.000    0.000 threading.py:271(__enter__)\n",
      "        8    0.000    0.000    0.000    0.000 basedatatypes.py:2778(<listcomp>)\n",
      "        8    0.000    0.000    0.000    0.000 {method 'ravel' of 'numpy.ndarray' objects}\n",
      "        2    0.000    0.000    0.000    0.000 indexing.py:289(loc)\n",
      "        1    0.000    0.000    0.000    0.000 base.py:347(interleaved_dtype)\n",
      "        2    0.000    0.000    0.000    0.000 groupby.py:5434(_reindex_output)\n",
      "        1    0.000    0.000    0.000    0.000 {built-in method fromkeys}\n",
      "       14    0.000    0.000    0.000    0.000 {method 'extend' of 'list' objects}\n",
      "       22    0.000    0.000    0.000    0.000 {method 'rstrip' of 'str' objects}\n",
      "        1    0.000    0.000    0.000    0.000 frame.py:7789(_should_reindex_frame_op)\n",
      "        5    0.000    0.000    0.000    0.000 _validators.py:450(check_dtype_backend)\n",
      "        8    0.000    0.000    0.000    0.000 indexing.py:2665(need_slice)\n",
      "        1    0.000    0.000    0.000    0.000 merge.py:1520(_validate_left_right_on)\n",
      "        4    0.000    0.000    0.000    0.000 merge.py:1704(<genexpr>)\n",
      "        2    0.000    0.000    0.000    0.000 {built-in method numpy.zeros}\n",
      "        2    0.000    0.000    0.000    0.000 interactiveshell.py:3466(compare)\n",
      "        4    0.000    0.000    0.000    0.000 basedatatypes.py:5480(_dispatch_change_callbacks)\n",
      "        1    0.000    0.000    0.000    0.000 jsonutil.py:77(json_clean)\n",
      "        5    0.000    0.000    0.000    0.000 base_parser.py:976(_validate_usecols_arg)\n",
      "        1    0.000    0.000    0.000    0.000 configurable.py:597(initialized)\n",
      "       15    0.000    0.000    0.000    0.000 {method 'values' of 'dict' objects}\n",
      "        2    0.000    0.000    0.000    0.000 threading.py:280(_release_save)\n",
      "        1    0.000    0.000    0.000    0.000 cast.py:178(maybe_box_native)\n",
      "        1    0.000    0.000    0.000    0.000 base.py:214(_obj_with_exclusions)\n",
      "        1    0.000    0.000    0.000    0.000 merge.py:1227(<lambda>)\n",
      "        2    0.000    0.000    0.000    0.000 <frozen abc>:121(__subclasscheck__)\n",
      "        2    0.000    0.000    0.000    0.000 threading.py:286(_is_owned)\n",
      "        3    0.000    0.000    0.000    0.000 base.py:7638(<listcomp>)\n",
      "        7    0.000    0.000    0.000    0.000 threading.py:575(is_set)\n",
      "        8    0.000    0.000    0.000    0.000 version.py:205(<genexpr>)\n",
      "        1    0.000    0.000    0.000    0.000 blocks.py:182(is_object)\n",
      "        1    0.000    0.000    0.000    0.000 basevalidators.py:890(validate_coerce)\n",
      "        2    0.000    0.000    0.000    0.000 concat.py:44(_is_nonempty)\n",
      "        4    0.000    0.000    0.000    0.000 generic.py:1836(<listcomp>)\n",
      "        4    0.000    0.000    0.000    0.000 api.py:344(<setcomp>)\n",
      "        1    0.000    0.000    0.000    0.000 ops.py:247(_get_output_shape)\n",
      "        2    0.000    0.000    0.000    0.000 groupby.py:1289(<genexpr>)\n",
      "        1    0.000    0.000    0.000    0.000 fips_query.py:322(<listcomp>)\n",
      "        4    0.000    0.000    0.000    0.000 common.py:290(maybe_make_list)\n",
      "        1    0.000    0.000    0.000    0.000 console.py:54(in_interactive_session)\n",
      "       10    0.000    0.000    0.000    0.000 base.py:1953(nlevels)\n",
      "        8    0.000    0.000    0.000    0.000 {built-in method numpy.core._multiarray_umath.normalize_axis_index}\n",
      "        1    0.000    0.000    0.000    0.000 data_grabber.py:141(<listcomp>)\n",
      "        1    0.000    0.000    0.000    0.000 {built-in method pandas._libs.lib.is_string_array}\n",
      "        5    0.000    0.000    0.000    0.000 <frozen codecs>:260(__init__)\n",
      "        5    0.000    0.000    0.000    0.000 enum.py:1257(value)\n",
      "       10    0.000    0.000    0.000    0.000 generic.py:1726(<genexpr>)\n",
      "        7    0.000    0.000    0.000    0.000 {method 'append' of 'collections.deque' objects}\n",
      "        2    0.000    0.000    0.000    0.000 <string>:1(<lambda>)\n",
      "       13    0.000    0.000    0.000    0.000 numeric.py:2374(_array_equal_dispatcher)\n",
      "        8    0.000    0.000    0.000    0.000 common.py:196(<genexpr>)\n",
      "        1    0.000    0.000    0.000    0.000 ops.py:266(_get_out_dtype)\n",
      "        1    0.000    0.000    0.000    0.000 ops.py:562(__init__)\n",
      "        2    0.000    0.000    0.000    0.000 basedatatypes.py:4644(figure)\n",
      "        8    0.000    0.000    0.000    0.000 {method 'update' of 'set' objects}\n",
      "        4    0.000    0.000    0.000    0.000 threading.py:1168(ident)\n",
      "        2    0.000    0.000    0.000    0.000 jsonutil.py:38(_ensure_tzinfo)\n",
      "       10    0.000    0.000    0.000    0.000 object_array.py:306(<lambda>)\n",
      "        1    0.000    0.000    0.000    0.000 frame.py:1013(<setcomp>)\n",
      "        4    0.000    0.000    0.000    0.000 concat.py:167(<listcomp>)\n",
      "       10    0.000    0.000    0.000    0.000 concat.py:351(__init__)\n",
      "        2    0.000    0.000    0.000    0.000 interactiveshell.py:1255(user_global_ns)\n",
      "        1    0.000    0.000    0.000    0.000 concat.py:536(<listcomp>)\n",
      "        1    0.000    0.000    0.000    0.000 dtypes.py:1407(__init__)\n",
      "        1    0.000    0.000    0.000    0.000 series.py:784(_references)\n",
      "        1    0.000    0.000    0.000    0.000 grouper.py:1046(_is_label_like)\n",
      "        1    0.000    0.000    0.000    0.000 ops.py:680(names)\n",
      "        5    0.000    0.000    0.000    0.000 base_parser.py:234(<setcomp>)\n",
      "        5    0.000    0.000    0.000    0.000 basedatatypes.py:133(_remake_path_from_tuple)\n",
      "        3    0.000    0.000    0.000    0.000 managers.py:2242(<listcomp>)\n",
      "        1    0.000    0.000    0.000    0.000 groupby.py:1306(__getattr__)\n",
      "        1    0.000    0.000    0.000    0.000 basedatatypes.py:1685(_perform_plotly_restyle)\n",
      "        7    0.000    0.000    0.000    0.000 {method 'reverse' of 'list' objects}\n",
      "        6    0.000    0.000    0.000    0.000 range.py:213(_validate_dtype)\n",
      "        1    0.000    0.000    0.000    0.000 range.py:386(is_monotonic_increasing)\n",
      "        2    0.000    0.000    0.000    0.000 blocks.py:2245(get_values)\n",
      "        2    0.000    0.000    0.000    0.000 similarity_utils.py:102(<genexpr>)\n",
      "       12    0.000    0.000    0.000    0.000 basedatatypes.py:1992(_validate_rows_cols)\n",
      "        6    0.000    0.000    0.000    0.000 basedatatypes.py:2259(<listcomp>)\n",
      "        3    0.000    0.000    0.000    0.000 {method 'lstrip' of 'str' objects}\n",
      "        1    0.000    0.000    0.000    0.000 function_base.py:348(iterable)\n",
      "        2    0.000    0.000    0.000    0.000 grouper.py:913(<genexpr>)\n",
      "        3    0.000    0.000    0.000    0.000 fips_query.py:854(<genexpr>)\n",
      "        1    0.000    0.000    0.000    0.000 grouper.py:643(name)\n",
      "        1    0.000    0.000    0.000    0.000 merge.py:1228(<lambda>)\n",
      "        8    0.000    0.000    0.000    0.000 {built-in method _operator.index}\n",
      "       11    0.000    0.000    0.000    0.000 contextlib.py:443(__enter__)\n",
      "        3    0.000    0.000    0.000    0.000 concat.py:463(<genexpr>)\n",
      "        8    0.000    0.000    0.000    0.000 ops.py:576(groupings)\n",
      "        5    0.000    0.000    0.000    0.000 readers.py:550(_validate_names)\n",
      "        4    0.000    0.000    0.000    0.000 shape_base.py:77(_atleast_2d_dispatcher)\n",
      "        3    0.000    0.000    0.000    0.000 fromnumeric.py:1021(_argsort_dispatcher)\n",
      "        4    0.000    0.000    0.000    0.000 numeric.py:1455(<listcomp>)\n",
      "        3    0.000    0.000    0.000    0.000 concat.py:151(<genexpr>)\n",
      "       10    0.000    0.000    0.000    0.000 common.py:189(<genexpr>)\n",
      "        1    0.000    0.000    0.000    0.000 generic.py:556(_get_axis_name)\n",
      "        5    0.000    0.000    0.000    0.000 range.py:228(_constructor)\n",
      "        1    0.000    0.000    0.000    0.000 concat.py:303(<listcomp>)\n",
      "        2    0.000    0.000    0.000    0.000 {built-in method nt.getpid}\n",
      "        1    0.000    0.000    0.000    0.000 copyreg.py:104(__newobj__)\n",
      "        1    0.000    0.000    0.000    0.000 configurable.py:553(instance)\n",
      "        1    0.000    0.000    0.000    0.000 concat.py:148(<setcomp>)\n",
      "       10    0.000    0.000    0.000    0.000 readers.py:518(validate_integer)\n",
      "        1    0.000    0.000    0.000    0.000 basevalidators.py:1501(<listcomp>)\n",
      "        8    0.000    0.000    0.000    0.000 function_base.py:5558(_append_dispatcher)\n",
      "        2    0.000    0.000    0.000    0.000 config.py:663(_get_registered_option)\n",
      "        1    0.000    0.000    0.000    0.000 base.py:5970(_check_indexing_error)\n",
      "        1    0.000    0.000    0.000    0.000 base.py:914(__array__)\n",
      "        3    0.000    0.000    0.000    0.000 concat.py:540(<genexpr>)\n",
      "        6    0.000    0.000    0.000    0.000 basedatatypes.py:5766(<dictcomp>)\n",
      "        1    0.000    0.000    0.000    0.000 ops.py:210(_get_cython_vals)\n",
      "        2    0.000    0.000    0.000    0.000 merge.py:1009(<genexpr>)\n",
      "        5    0.000    0.000    0.000    0.000 base_parser.py:246(<listcomp>)\n",
      "        2    0.000    0.000    0.000    0.000 basevalidators.py:2424(compute_graph_obj_module_str)\n",
      "        1    0.000    0.000    0.000    0.000 {method 'sort' of 'numpy.ndarray' objects}\n",
      "        2    0.000    0.000    0.000    0.000 {method 'sub' of 're.Pattern' objects}\n",
      "        7    0.000    0.000    0.000    0.000 {function FrozenList.__getitem__ at 0x000001E764CCDF80}\n",
      "        5    0.000    0.000    0.000    0.000 {built-in method builtins.ord}\n",
      "        6    0.000    0.000    0.000    0.000 version.py:452(_parse_letter_version)\n",
      "        1    0.000    0.000    0.000    0.000 fips_query.py:441(<listcomp>)\n",
      "        4    0.000    0.000    0.000    0.000 function_base.py:5364(_insert_dispatcher)\n",
      "        1    0.000    0.000    0.000    0.000 numpy_.py:156(__array__)\n",
      "        2    0.000    0.000    0.000    0.000 frame.py:11177(<listcomp>)\n",
      "        1    0.000    0.000    0.000    0.000 series.py:4762(_reindex_indexer)\n",
      "        2    0.000    0.000    0.000    0.000 grouper.py:915(<genexpr>)\n",
      "        6    0.000    0.000    0.000    0.000 basedatatypes.py:5771(<dictcomp>)\n",
      "        2    0.000    0.000    0.000    0.000 inspect.py:292(isclass)\n",
      "        1    0.000    0.000    0.000    0.000 version.py:76(__lt__)\n",
      "        8    0.000    0.000    0.000    0.000 fromnumeric.py:1764(_ravel_dispatcher)\n",
      "        1    0.000    0.000    0.000    0.000 indexing.py:2597(convert_missing_indexer)\n",
      "        4    0.000    0.000    0.000    0.000 range.py:402(inferred_type)\n",
      "        6    0.000    0.000    0.000    0.000 managers.py:1790(ndim)\n",
      "        1    0.000    0.000    0.000    0.000 merge.py:2614(_should_fill)\n",
      "        1    0.000    0.000    0.000    0.000 basevalidators.py:1943(validate_coerce)\n",
      "        1    0.000    0.000    0.000    0.000 basedatatypes.py:1800(_normalize_trace_indexes)\n",
      "        1    0.000    0.000    0.000    0.000 {built-in method pandas._libs.lib.is_interval}\n",
      "        2    0.000    0.000    0.000    0.000 {method '__exit__' of '_thread.lock' objects}\n",
      "        6    0.000    0.000    0.000    0.000 multiarray.py:669(result_type)\n",
      "        2    0.000    0.000    0.000    0.000 concat.py:357(_is_valid_na_for)\n",
      "        1    0.000    0.000    0.000    0.000 grouper.py:638(_passed_categorical)\n",
      "        4    0.000    0.000    0.000    0.000 numeric.py:1389(_moveaxis_dispatcher)\n",
      "        1    0.000    0.000    0.000    0.000 base.py:5976(_should_fallback_to_positional)\n",
      "        3    0.000    0.000    0.000    0.000 range.py:299(stop)\n",
      "        2    0.000    0.000    0.000    0.000 grouper.py:914(<genexpr>)\n",
      "        1    0.000    0.000    0.000    0.000 ops.py:125(__init__)\n",
      "        6    0.000    0.000    0.000    0.000 basedatatypes.py:2976(_send_addTraces_msg)\n",
      "        1    0.000    0.000    0.000    0.000 {pandas._libs.lib.is_period}\n",
      "        1    0.000    0.000    0.000    0.000 {method 'view' of 'numpy.ndarray' objects}\n",
      "        2    0.000    0.000    0.000    0.000 {built-in method _abc._abc_subclasscheck}\n",
      "        2    0.000    0.000    0.000    0.000 {method '__enter__' of '_thread.lock' objects}\n",
      "        2    0.000    0.000    0.000    0.000 {built-in method builtins.setattr}\n",
      "        5    0.000    0.000    0.000    0.000 parse.py:108(_noop)\n",
      "        2    0.000    0.000    0.000    0.000 common.py:318(is_empty_slice)\n",
      "        3    0.000    0.000    0.000    0.000 cast.py:1446(<genexpr>)\n",
      "        2    0.000    0.000    0.000    0.000 base.py:3190(_validate_sort_keyword)\n",
      "        1    0.000    0.000    0.000    0.000 _templates.py:58(__contains__)\n",
      "        2    0.000    0.000    0.000    0.000 {method 'get_count' of 'pandas._libs.hashtable.Factorizer' objects}\n",
      "        2    0.000    0.000    0.000    0.000 {method 'release' of '_thread.lock' objects}\n",
      "        1    0.000    0.000    0.000    0.000 tz.py:74(utcoffset)\n",
      "        4    0.000    0.000    0.000    0.000 multiarray.py:892(bincount)\n",
      "        2    0.000    0.000    0.000    0.000 cast.py:1441(<genexpr>)\n",
      "        1    0.000    0.000    0.000    0.000 indexing.py:1735(_get_setitem_indexer)\n",
      "        1    0.000    0.000    0.000    0.000 managers.py:1683(<listcomp>)\n",
      "        1    0.000    0.000    0.000    0.000 numba_.py:15(maybe_use_numba)\n",
      "        1    0.000    0.000    0.000    0.000 ops.py:496(_validate_axis)\n",
      "        1    0.000    0.000    0.000    0.000 merge.py:812(_maybe_require_matching_dtypes)\n",
      "        2    0.000    0.000    0.000    0.000 {built-in method _thread.get_ident}\n",
      "        5    0.000    0.000    0.000    0.000 copy.py:107(_copy_immutable)\n",
      "        3    0.000    0.000    0.000    0.000 stride_tricks.py:345(<genexpr>)\n",
      "        4    0.000    0.000    0.000    0.000 generic.py:1780(<genexpr>)\n",
      "        1    0.000    0.000    0.000    0.000 managers.py:536(nblocks)\n",
      "        2    0.000    0.000    0.000    0.000 _renderers.py:182(<listcomp>)\n",
      "        1    0.000    0.000    0.000    0.000 concat.py:149(<setcomp>)\n",
      "        1    0.000    0.000    0.000    0.000 base.py:159(_freeze)\n",
      "        1    0.000    0.000    0.000    0.000 indexing.py:2634(is_nested_tuple)\n",
      "        2    0.000    0.000    0.000    0.000 managers.py:1945(index)\n",
      "        1    0.000    0.000    0.000    0.000 ops.py:682(<listcomp>)\n",
      "        1    0.000    0.000    0.000    0.000 _json.py:20(default_engine)\n",
      "        3    0.000    0.000    0.000    0.000 _templates.py:137(default)\n",
      "        2    0.000    0.000    0.000    0.000 {method 'clear' of 'collections.OrderedDict' objects}\n",
      "        3    0.000    0.000    0.000    0.000 version.py:518(<lambda>)\n",
      "        2    0.000    0.000    0.000    0.000 fromnumeric.py:1877(_nonzero_dispatcher)\n",
      "        1    0.000    0.000    0.000    0.000 base.py:1328(_formatter_func)\n",
      "        1    0.000    0.000    0.000    0.000 groupby.py:1516(_maybe_transpose_result)\n",
      "        5    0.000    0.000    0.000    0.000 readers.py:1779(__enter__)\n",
      "        1    0.000    0.000    0.000    0.000 basedatatypes.py:3099(<dictcomp>)\n",
      "        1    0.000    0.000    0.000    0.000 basedatatypes.py:3086(<listcomp>)\n",
      "        1    0.000    0.000    0.000    0.000 basedatatypes.py:3308(<listcomp>)\n",
      "        1    0.000    0.000    0.000    0.000 {method '__exit__' of 'numpy.nditer' objects}\n",
      "        1    0.000    0.000    0.000    0.000 {method 'disable' of '_lsprof.Profiler' objects}\n",
      "        1    0.000    0.000    0.000    0.000 stride_tricks.py:25(_maybe_view_as_subclass)\n",
      "        2    0.000    0.000    0.000    0.000 fromnumeric.py:2317(_any_dispatcher)\n",
      "        2    0.000    0.000    0.000    0.000 nanops.py:187(_get_fill_value)\n",
      "        1    0.000    0.000    0.000    0.000 base.py:1310(<listcomp>)\n",
      "        2    0.000    0.000    0.000    0.000 blocks.py:243(mgr_locs)\n",
      "        1    0.000    0.000    0.000    0.000 grouper.py:708(result_index)\n",
      "        1    0.000    0.000    0.000    0.000 jsonutil.py:52(encode_images)\n",
      "        2    0.000    0.000    0.000    0.000 version.py:491(_parse_local_version)\n",
      "        1    0.000    0.000    0.000    0.000 multiarray.py:1131(putmask)\n",
      "        2    0.000    0.000    0.000    0.000 shape_base.py:19(_atleast_1d_dispatcher)\n",
      "        1    0.000    0.000    0.000    0.000 indexing.py:1210(_has_valid_setitem_indexer)\n",
      "        1    0.000    0.000    0.000    0.000 base.py:7670(_maybe_try_sort)\n",
      "        2    0.000    0.000    0.000    0.000 range.py:381(is_unique)\n",
      "        1    0.000    0.000    0.000    0.000 grouper.py:661(_ilevel)\n",
      "        1    0.000    0.000    0.000    0.000 basedatatypes.py:522(<listcomp>)\n",
      "        1    0.000    0.000    0.000    0.000 hmac.py:139(_current)\n",
      "        1    0.000    0.000    0.000    0.000 fromnumeric.py:861(_sort_dispatcher)\n",
      "        1    0.000    0.000    0.000    0.000 base.py:1319(_format_space)\n",
      "        2    0.000    0.000    0.000    0.000 _renderers.py:192(<listcomp>)\n",
      "        1    0.000    0.000    0.000    0.000 basedatatypes.py:3090(<listcomp>)\n",
      "        2    0.000    0.000    0.000    0.000 {method 'end' of 're.Match' objects}\n",
      "        1    0.000    0.000    0.000    0.000 {method 'values' of 'collections.OrderedDict' objects}\n",
      "        2    0.000    0.000    0.000    0.000 {method 'items' of 'collections.OrderedDict' objects}\n",
      "        1    0.000    0.000    0.000    0.000 interactiveshell.py:661(get_ipython)\n",
      "        1    0.000    0.000    0.000    0.000 fromnumeric.py:2416(_all_dispatcher)\n",
      "        1    0.000    0.000    0.000    0.000 fromnumeric.py:2974(_prod_dispatcher)\n",
      "        1    0.000    0.000    0.000    0.000 stride_tricks.py:363(_broadcast_to_dispatcher)\n",
      "        1    0.000    0.000    0.000    0.000 function_base.py:5168(_delete_dispatcher)\n",
      "        1    0.000    0.000    0.000    0.000 api.py:282(<listcomp>)\n",
      "        1    0.000    0.000    0.000    0.000 basedatatypes.py:532(<listcomp>)\n",
      "        1    0.000    0.000    0.000    0.000 basedatatypes.py:2991(_send_update_msg)\n",
      "        1    0.000    0.000    0.000    0.000 merge.py:818(_validate_tolerance)\n",
      "\n",
      "\n"
     ]
    }
   ],
   "source": [
    "def basic_run_ctfips():\n",
    "\n",
    "    f = CTFipsQuery(\n",
    "    fips,\n",
    "    variable,\n",
    "    ct_time_period = ct_time_period,\n",
    "    feature_groups_with_weights={variable: 1, \"urbanicity\": 2},\n",
    ")\n",
    " \n",
    "    f.find_euclidean_kins()\n",
    "    f.show_kins_plot()\n",
    "    \n",
    "\n",
    "profiler_basic_ctfips = cProfile.Profile()\n",
    "\n",
    "profiler_basic_ctfips.enable()\n",
    "basic_run_ctfips()\n",
    "profiler_basic_ctfips.disable()\n",
    "\n",
    "profiler_basic_ctfips.print_stats(sort='cumulative')"
   ]
  },
  {
   "cell_type": "code",
   "execution_count": null,
   "metadata": {},
   "outputs": [],
   "source": []
  },
  {
   "cell_type": "code",
   "execution_count": null,
   "metadata": {},
   "outputs": [],
   "source": []
  }
 ],
 "metadata": {
  "kernelspec": {
   "display_name": "base",
   "language": "python",
   "name": "python3"
  },
  "language_info": {
   "codemirror_mode": {
    "name": "ipython",
    "version": 3
   },
   "file_extension": ".py",
   "mimetype": "text/x-python",
   "name": "python",
   "nbconvert_exporter": "python",
   "pygments_lexer": "ipython3",
   "version": "3.11.9"
  }
 },
 "nbformat": 4,
 "nbformat_minor": 2
}
