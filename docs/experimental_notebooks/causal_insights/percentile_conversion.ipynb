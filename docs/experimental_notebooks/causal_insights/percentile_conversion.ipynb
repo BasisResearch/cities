{
 "cells": [
  {
   "cell_type": "code",
   "execution_count": 1,
   "metadata": {},
   "outputs": [],
   "source": [
    "import os\n",
    "import random\n",
    "\n",
    "from cities.queries.causal_insight import CausalInsight\n",
    "from cities.utils.data_grabber import (DataGrabber, list_interventions,\n",
    "                                       list_outcomes)\n",
    "\n",
    "smoke_test = \"CI\" in os.environ\n",
    "num_samples = 10 if smoke_test else 1000"
   ]
  },
  {
   "cell_type": "code",
   "execution_count": 26,
   "metadata": {},
   "outputs": [],
   "source": [
    "#sort and save sorted interventions\n",
    "\n",
    "from cities.utils.data_grabber import DataGrabber\n",
    "import matplotlib.pyplot as plt\n",
    "import numpy as np\n",
    "\n",
    "\n",
    "interventions = list_interventions()\n",
    "dg = DataGrabber()\n",
    "\n",
    "dg.get_features_std_wide(interventions)\n",
    "\n",
    "interventions_sorted = {}\n",
    "for intervention in interventions:\n",
    "    intervention_frame = dg.std_wide[intervention].copy().iloc[:, 2:]\n",
    "    intervention_frame = intervention_frame.apply(lambda col: col.sort_values().values)\n",
    "    assert (all(np.diff(intervention_frame[col]) >= 0) for col in intervention_frame.columns), \"A column is not increasing.\"\n",
    "    \n",
    "    \n",
    "        \n",
    "    \n",
    "\n"
   ]
  }
 ],
 "metadata": {
  "kernelspec": {
   "display_name": "polis-dev",
   "language": "python",
   "name": "python3"
  },
  "language_info": {
   "codemirror_mode": {
    "name": "ipython",
    "version": 3
   },
   "file_extension": ".py",
   "mimetype": "text/x-python",
   "name": "python",
   "nbconvert_exporter": "python",
   "pygments_lexer": "ipython3",
   "version": "3.10.13"
  }
 },
 "nbformat": 4,
 "nbformat_minor": 2
}
