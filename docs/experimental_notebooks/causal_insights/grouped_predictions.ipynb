{
 "cells": [
  {
   "cell_type": "code",
   "execution_count": 1,
   "metadata": {},
   "outputs": [],
   "source": [
    "from cities.queries.causal_insight_slim import CausalInsightSlim as CausalInsight\n",
    "from cities.utils.data_grabber import list_interventions, list_outcomes\n",
    "import random\n",
    "import os\n",
    "import cProfile\n",
    "\n",
    "smoke_test = \"CI\" in os.environ\n",
    "num_samples = 10 if smoke_test else 1000"
   ]
  },
  {
   "cell_type": "code",
   "execution_count": 3,
   "metadata": {},
   "outputs": [
    {
     "data": {
      "application/vnd.plotly.v1+json": {
       "config": {
        "plotlyServerURL": "https://plot.ly"
       },
       "data": [
        {
         "line": {
          "color": "darkred",
          "width": 3
         },
         "mode": "lines+markers",
         "name": "Tulsa, OK",
         "showlegend": false,
         "text": "Tulsa, OK",
         "textposition": "top right",
         "type": "scatter",
         "x": [
          2010,
          2011,
          2012,
          2013,
          2014,
          2015,
          2016,
          2017,
          2018,
          2019,
          2020,
          2021
         ],
         "y": [
          17181,
          18083,
          18399,
          18611,
          18382,
          19162,
          18958,
          18994,
          19090,
          19379,
          19376,
          20212
         ]
        },
        {
         "line": {
          "color": "blue",
          "width": 2
         },
         "mode": "lines",
         "name": "mean prediction",
         "text": [
          19090,
          20699.968266311942,
          20750.66419566042,
          21640.25150447019
         ],
         "type": "scatter",
         "x": [
          "2018",
          "2019",
          "2020",
          "2021"
         ],
         "y": [
          19090,
          20699.968266311942,
          20750.66419566042,
          21640.25150447019
         ]
        },
        {
         "fill": "toself",
         "fillcolor": "rgba(255, 255, 255, 0.31)",
         "line": {
          "color": "rgba(255,255,255,0)"
         },
         "name": "95% credible interval around mean",
         "type": "scatter",
         "x": [
          "2018",
          "2019",
          "2020",
          "2021",
          "2021",
          "2020",
          "2019",
          "2018"
         ],
         "y": [
          19090,
          20751.181514796648,
          20802.959431671075,
          21705.802442114207,
          21571.23687407559,
          20697.47397786634,
          20650.692530453864,
          19090
         ]
        }
       ],
       "layout": {
        "legend": {
         "orientation": "h",
         "traceorder": "normal",
         "x": 0.05,
         "y": 1
        },
        "template": {
         "data": {
          "bar": [
           {
            "error_x": {
             "color": "rgb(36,36,36)"
            },
            "error_y": {
             "color": "rgb(36,36,36)"
            },
            "marker": {
             "line": {
              "color": "white",
              "width": 0.5
             },
             "pattern": {
              "fillmode": "overlay",
              "size": 10,
              "solidity": 0.2
             }
            },
            "type": "bar"
           }
          ],
          "barpolar": [
           {
            "marker": {
             "line": {
              "color": "white",
              "width": 0.5
             },
             "pattern": {
              "fillmode": "overlay",
              "size": 10,
              "solidity": 0.2
             }
            },
            "type": "barpolar"
           }
          ],
          "carpet": [
           {
            "aaxis": {
             "endlinecolor": "rgb(36,36,36)",
             "gridcolor": "white",
             "linecolor": "white",
             "minorgridcolor": "white",
             "startlinecolor": "rgb(36,36,36)"
            },
            "baxis": {
             "endlinecolor": "rgb(36,36,36)",
             "gridcolor": "white",
             "linecolor": "white",
             "minorgridcolor": "white",
             "startlinecolor": "rgb(36,36,36)"
            },
            "type": "carpet"
           }
          ],
          "choropleth": [
           {
            "colorbar": {
             "outlinewidth": 1,
             "tickcolor": "rgb(36,36,36)",
             "ticks": "outside"
            },
            "type": "choropleth"
           }
          ],
          "contour": [
           {
            "colorbar": {
             "outlinewidth": 1,
             "tickcolor": "rgb(36,36,36)",
             "ticks": "outside"
            },
            "colorscale": [
             [
              0,
              "#440154"
             ],
             [
              0.1111111111111111,
              "#482878"
             ],
             [
              0.2222222222222222,
              "#3e4989"
             ],
             [
              0.3333333333333333,
              "#31688e"
             ],
             [
              0.4444444444444444,
              "#26828e"
             ],
             [
              0.5555555555555556,
              "#1f9e89"
             ],
             [
              0.6666666666666666,
              "#35b779"
             ],
             [
              0.7777777777777778,
              "#6ece58"
             ],
             [
              0.8888888888888888,
              "#b5de2b"
             ],
             [
              1,
              "#fde725"
             ]
            ],
            "type": "contour"
           }
          ],
          "contourcarpet": [
           {
            "colorbar": {
             "outlinewidth": 1,
             "tickcolor": "rgb(36,36,36)",
             "ticks": "outside"
            },
            "type": "contourcarpet"
           }
          ],
          "heatmap": [
           {
            "colorbar": {
             "outlinewidth": 1,
             "tickcolor": "rgb(36,36,36)",
             "ticks": "outside"
            },
            "colorscale": [
             [
              0,
              "#440154"
             ],
             [
              0.1111111111111111,
              "#482878"
             ],
             [
              0.2222222222222222,
              "#3e4989"
             ],
             [
              0.3333333333333333,
              "#31688e"
             ],
             [
              0.4444444444444444,
              "#26828e"
             ],
             [
              0.5555555555555556,
              "#1f9e89"
             ],
             [
              0.6666666666666666,
              "#35b779"
             ],
             [
              0.7777777777777778,
              "#6ece58"
             ],
             [
              0.8888888888888888,
              "#b5de2b"
             ],
             [
              1,
              "#fde725"
             ]
            ],
            "type": "heatmap"
           }
          ],
          "heatmapgl": [
           {
            "colorbar": {
             "outlinewidth": 1,
             "tickcolor": "rgb(36,36,36)",
             "ticks": "outside"
            },
            "colorscale": [
             [
              0,
              "#440154"
             ],
             [
              0.1111111111111111,
              "#482878"
             ],
             [
              0.2222222222222222,
              "#3e4989"
             ],
             [
              0.3333333333333333,
              "#31688e"
             ],
             [
              0.4444444444444444,
              "#26828e"
             ],
             [
              0.5555555555555556,
              "#1f9e89"
             ],
             [
              0.6666666666666666,
              "#35b779"
             ],
             [
              0.7777777777777778,
              "#6ece58"
             ],
             [
              0.8888888888888888,
              "#b5de2b"
             ],
             [
              1,
              "#fde725"
             ]
            ],
            "type": "heatmapgl"
           }
          ],
          "histogram": [
           {
            "marker": {
             "line": {
              "color": "white",
              "width": 0.6
             }
            },
            "type": "histogram"
           }
          ],
          "histogram2d": [
           {
            "colorbar": {
             "outlinewidth": 1,
             "tickcolor": "rgb(36,36,36)",
             "ticks": "outside"
            },
            "colorscale": [
             [
              0,
              "#440154"
             ],
             [
              0.1111111111111111,
              "#482878"
             ],
             [
              0.2222222222222222,
              "#3e4989"
             ],
             [
              0.3333333333333333,
              "#31688e"
             ],
             [
              0.4444444444444444,
              "#26828e"
             ],
             [
              0.5555555555555556,
              "#1f9e89"
             ],
             [
              0.6666666666666666,
              "#35b779"
             ],
             [
              0.7777777777777778,
              "#6ece58"
             ],
             [
              0.8888888888888888,
              "#b5de2b"
             ],
             [
              1,
              "#fde725"
             ]
            ],
            "type": "histogram2d"
           }
          ],
          "histogram2dcontour": [
           {
            "colorbar": {
             "outlinewidth": 1,
             "tickcolor": "rgb(36,36,36)",
             "ticks": "outside"
            },
            "colorscale": [
             [
              0,
              "#440154"
             ],
             [
              0.1111111111111111,
              "#482878"
             ],
             [
              0.2222222222222222,
              "#3e4989"
             ],
             [
              0.3333333333333333,
              "#31688e"
             ],
             [
              0.4444444444444444,
              "#26828e"
             ],
             [
              0.5555555555555556,
              "#1f9e89"
             ],
             [
              0.6666666666666666,
              "#35b779"
             ],
             [
              0.7777777777777778,
              "#6ece58"
             ],
             [
              0.8888888888888888,
              "#b5de2b"
             ],
             [
              1,
              "#fde725"
             ]
            ],
            "type": "histogram2dcontour"
           }
          ],
          "mesh3d": [
           {
            "colorbar": {
             "outlinewidth": 1,
             "tickcolor": "rgb(36,36,36)",
             "ticks": "outside"
            },
            "type": "mesh3d"
           }
          ],
          "parcoords": [
           {
            "line": {
             "colorbar": {
              "outlinewidth": 1,
              "tickcolor": "rgb(36,36,36)",
              "ticks": "outside"
             }
            },
            "type": "parcoords"
           }
          ],
          "pie": [
           {
            "automargin": true,
            "type": "pie"
           }
          ],
          "scatter": [
           {
            "fillpattern": {
             "fillmode": "overlay",
             "size": 10,
             "solidity": 0.2
            },
            "type": "scatter"
           }
          ],
          "scatter3d": [
           {
            "line": {
             "colorbar": {
              "outlinewidth": 1,
              "tickcolor": "rgb(36,36,36)",
              "ticks": "outside"
             }
            },
            "marker": {
             "colorbar": {
              "outlinewidth": 1,
              "tickcolor": "rgb(36,36,36)",
              "ticks": "outside"
             }
            },
            "type": "scatter3d"
           }
          ],
          "scattercarpet": [
           {
            "marker": {
             "colorbar": {
              "outlinewidth": 1,
              "tickcolor": "rgb(36,36,36)",
              "ticks": "outside"
             }
            },
            "type": "scattercarpet"
           }
          ],
          "scattergeo": [
           {
            "marker": {
             "colorbar": {
              "outlinewidth": 1,
              "tickcolor": "rgb(36,36,36)",
              "ticks": "outside"
             }
            },
            "type": "scattergeo"
           }
          ],
          "scattergl": [
           {
            "marker": {
             "colorbar": {
              "outlinewidth": 1,
              "tickcolor": "rgb(36,36,36)",
              "ticks": "outside"
             }
            },
            "type": "scattergl"
           }
          ],
          "scattermapbox": [
           {
            "marker": {
             "colorbar": {
              "outlinewidth": 1,
              "tickcolor": "rgb(36,36,36)",
              "ticks": "outside"
             }
            },
            "type": "scattermapbox"
           }
          ],
          "scatterpolar": [
           {
            "marker": {
             "colorbar": {
              "outlinewidth": 1,
              "tickcolor": "rgb(36,36,36)",
              "ticks": "outside"
             }
            },
            "type": "scatterpolar"
           }
          ],
          "scatterpolargl": [
           {
            "marker": {
             "colorbar": {
              "outlinewidth": 1,
              "tickcolor": "rgb(36,36,36)",
              "ticks": "outside"
             }
            },
            "type": "scatterpolargl"
           }
          ],
          "scatterternary": [
           {
            "marker": {
             "colorbar": {
              "outlinewidth": 1,
              "tickcolor": "rgb(36,36,36)",
              "ticks": "outside"
             }
            },
            "type": "scatterternary"
           }
          ],
          "surface": [
           {
            "colorbar": {
             "outlinewidth": 1,
             "tickcolor": "rgb(36,36,36)",
             "ticks": "outside"
            },
            "colorscale": [
             [
              0,
              "#440154"
             ],
             [
              0.1111111111111111,
              "#482878"
             ],
             [
              0.2222222222222222,
              "#3e4989"
             ],
             [
              0.3333333333333333,
              "#31688e"
             ],
             [
              0.4444444444444444,
              "#26828e"
             ],
             [
              0.5555555555555556,
              "#1f9e89"
             ],
             [
              0.6666666666666666,
              "#35b779"
             ],
             [
              0.7777777777777778,
              "#6ece58"
             ],
             [
              0.8888888888888888,
              "#b5de2b"
             ],
             [
              1,
              "#fde725"
             ]
            ],
            "type": "surface"
           }
          ],
          "table": [
           {
            "cells": {
             "fill": {
              "color": "rgb(237,237,237)"
             },
             "line": {
              "color": "white"
             }
            },
            "header": {
             "fill": {
              "color": "rgb(217,217,217)"
             },
             "line": {
              "color": "white"
             }
            },
            "type": "table"
           }
          ]
         },
         "layout": {
          "annotationdefaults": {
           "arrowhead": 0,
           "arrowwidth": 1
          },
          "autotypenumbers": "strict",
          "coloraxis": {
           "colorbar": {
            "outlinewidth": 1,
            "tickcolor": "rgb(36,36,36)",
            "ticks": "outside"
           }
          },
          "colorscale": {
           "diverging": [
            [
             0,
             "rgb(103,0,31)"
            ],
            [
             0.1,
             "rgb(178,24,43)"
            ],
            [
             0.2,
             "rgb(214,96,77)"
            ],
            [
             0.3,
             "rgb(244,165,130)"
            ],
            [
             0.4,
             "rgb(253,219,199)"
            ],
            [
             0.5,
             "rgb(247,247,247)"
            ],
            [
             0.6,
             "rgb(209,229,240)"
            ],
            [
             0.7,
             "rgb(146,197,222)"
            ],
            [
             0.8,
             "rgb(67,147,195)"
            ],
            [
             0.9,
             "rgb(33,102,172)"
            ],
            [
             1,
             "rgb(5,48,97)"
            ]
           ],
           "sequential": [
            [
             0,
             "#440154"
            ],
            [
             0.1111111111111111,
             "#482878"
            ],
            [
             0.2222222222222222,
             "#3e4989"
            ],
            [
             0.3333333333333333,
             "#31688e"
            ],
            [
             0.4444444444444444,
             "#26828e"
            ],
            [
             0.5555555555555556,
             "#1f9e89"
            ],
            [
             0.6666666666666666,
             "#35b779"
            ],
            [
             0.7777777777777778,
             "#6ece58"
            ],
            [
             0.8888888888888888,
             "#b5de2b"
            ],
            [
             1,
             "#fde725"
            ]
           ],
           "sequentialminus": [
            [
             0,
             "#440154"
            ],
            [
             0.1111111111111111,
             "#482878"
            ],
            [
             0.2222222222222222,
             "#3e4989"
            ],
            [
             0.3333333333333333,
             "#31688e"
            ],
            [
             0.4444444444444444,
             "#26828e"
            ],
            [
             0.5555555555555556,
             "#1f9e89"
            ],
            [
             0.6666666666666666,
             "#35b779"
            ],
            [
             0.7777777777777778,
             "#6ece58"
            ],
            [
             0.8888888888888888,
             "#b5de2b"
            ],
            [
             1,
             "#fde725"
            ]
           ]
          },
          "colorway": [
           "#1F77B4",
           "#FF7F0E",
           "#2CA02C",
           "#D62728",
           "#9467BD",
           "#8C564B",
           "#E377C2",
           "#7F7F7F",
           "#BCBD22",
           "#17BECF"
          ],
          "font": {
           "color": "rgb(36,36,36)"
          },
          "geo": {
           "bgcolor": "white",
           "lakecolor": "white",
           "landcolor": "white",
           "showlakes": true,
           "showland": true,
           "subunitcolor": "white"
          },
          "hoverlabel": {
           "align": "left"
          },
          "hovermode": "closest",
          "mapbox": {
           "style": "light"
          },
          "paper_bgcolor": "white",
          "plot_bgcolor": "white",
          "polar": {
           "angularaxis": {
            "gridcolor": "rgb(232,232,232)",
            "linecolor": "rgb(36,36,36)",
            "showgrid": false,
            "showline": true,
            "ticks": "outside"
           },
           "bgcolor": "white",
           "radialaxis": {
            "gridcolor": "rgb(232,232,232)",
            "linecolor": "rgb(36,36,36)",
            "showgrid": false,
            "showline": true,
            "ticks": "outside"
           }
          },
          "scene": {
           "xaxis": {
            "backgroundcolor": "white",
            "gridcolor": "rgb(232,232,232)",
            "gridwidth": 2,
            "linecolor": "rgb(36,36,36)",
            "showbackground": true,
            "showgrid": false,
            "showline": true,
            "ticks": "outside",
            "zeroline": false,
            "zerolinecolor": "rgb(36,36,36)"
           },
           "yaxis": {
            "backgroundcolor": "white",
            "gridcolor": "rgb(232,232,232)",
            "gridwidth": 2,
            "linecolor": "rgb(36,36,36)",
            "showbackground": true,
            "showgrid": false,
            "showline": true,
            "ticks": "outside",
            "zeroline": false,
            "zerolinecolor": "rgb(36,36,36)"
           },
           "zaxis": {
            "backgroundcolor": "white",
            "gridcolor": "rgb(232,232,232)",
            "gridwidth": 2,
            "linecolor": "rgb(36,36,36)",
            "showbackground": true,
            "showgrid": false,
            "showline": true,
            "ticks": "outside",
            "zeroline": false,
            "zerolinecolor": "rgb(36,36,36)"
           }
          },
          "shapedefaults": {
           "fillcolor": "black",
           "line": {
            "width": 0
           },
           "opacity": 0.3
          },
          "ternary": {
           "aaxis": {
            "gridcolor": "rgb(232,232,232)",
            "linecolor": "rgb(36,36,36)",
            "showgrid": false,
            "showline": true,
            "ticks": "outside"
           },
           "baxis": {
            "gridcolor": "rgb(232,232,232)",
            "linecolor": "rgb(36,36,36)",
            "showgrid": false,
            "showline": true,
            "ticks": "outside"
           },
           "bgcolor": "white",
           "caxis": {
            "gridcolor": "rgb(232,232,232)",
            "linecolor": "rgb(36,36,36)",
            "showgrid": false,
            "showline": true,
            "ticks": "outside"
           }
          },
          "title": {
           "x": 0.05
          },
          "xaxis": {
           "automargin": true,
           "gridcolor": "rgb(232,232,232)",
           "linecolor": "rgb(36,36,36)",
           "showgrid": false,
           "showline": true,
           "ticks": "outside",
           "title": {
            "standoff": 15
           },
           "zeroline": false,
           "zerolinecolor": "rgb(36,36,36)"
          },
          "yaxis": {
           "automargin": true,
           "gridcolor": "rgb(232,232,232)",
           "linecolor": "rgb(36,36,36)",
           "showgrid": false,
           "showline": true,
           "ticks": "outside",
           "title": {
            "standoff": 15
           },
           "zeroline": false,
           "zerolinecolor": "rgb(36,36,36)"
          }
         }
        },
        "title": {
         "font": {
          "size": 12
         },
         "text": "Predicted industry_professional_services_total in Tulsa, OK<br>under intervention [1.06809859e+08] in year 2018<br>99.088% of counties received a lower intervention <br>observed intervention: 6011536.0"
        },
        "xaxis": {
         "title": {
          "text": "Year"
         }
        },
        "yaxis": {
         "range": [
          13744.800000000001,
          28217.54317474847
         ],
         "title": {
          "text": "Value"
         }
        }
       }
      }
     },
     "metadata": {},
     "output_type": "display_data"
    }
   ],
   "source": [
    "fips = 40143\n",
    "intervention = \"spending_commerce\"\n",
    "outcome = \"industry_professional_services_total\"\n",
    "year = 2018\n",
    "intervened_value = 1\n",
    "\n",
    "ci = CausalInsight(\n",
    "    outcome_dataset=outcome,\n",
    "    intervention_dataset=intervention,\n",
    "    num_samples=num_samples,\n",
    ")\n",
    "\n",
    "percent_calc = ci.slider_values_to_interventions(\n",
    "    intervened_percent=intervened_value, year=year\n",
    ")\n",
    "intervened_value = percent_calc[\"intervened_transformed\"]\n",
    "\n",
    "\n",
    "ci.get_tau_samples()\n",
    "ci.get_fips_predictions(\n",
    "    intervened_value=intervened_value,\n",
    "    fips=fips,\n",
    "    year=year,\n",
    "    intervention_is_percentile=False,\n",
    ")\n",
    "fig = ci.plot_predictions(range_multiplier=1, show_figure=True, scaling=\"original\")"
   ]
  },
  {
   "cell_type": "code",
   "execution_count": 4,
   "metadata": {},
   "outputs": [
    {
     "data": {
      "text/html": [
       "<div>\n",
       "<style scoped>\n",
       "    .dataframe tbody tr th:only-of-type {\n",
       "        vertical-align: middle;\n",
       "    }\n",
       "\n",
       "    .dataframe tbody tr th {\n",
       "        vertical-align: top;\n",
       "    }\n",
       "\n",
       "    .dataframe thead th {\n",
       "        text-align: right;\n",
       "    }\n",
       "</style>\n",
       "<table border=\"1\" class=\"dataframe\">\n",
       "  <thead>\n",
       "    <tr style=\"text-align: right;\">\n",
       "      <th></th>\n",
       "      <th>year</th>\n",
       "      <th>observed</th>\n",
       "      <th>mean</th>\n",
       "      <th>low</th>\n",
       "      <th>high</th>\n",
       "    </tr>\n",
       "  </thead>\n",
       "  <tbody>\n",
       "    <tr>\n",
       "      <th>0</th>\n",
       "      <td>2018</td>\n",
       "      <td>19090.0</td>\n",
       "      <td>19090.000000</td>\n",
       "      <td>19090.000000</td>\n",
       "      <td>19090.000000</td>\n",
       "    </tr>\n",
       "    <tr>\n",
       "      <th>1</th>\n",
       "      <td>2019</td>\n",
       "      <td>19379.0</td>\n",
       "      <td>20699.968227</td>\n",
       "      <td>20650.692471</td>\n",
       "      <td>20751.181449</td>\n",
       "    </tr>\n",
       "    <tr>\n",
       "      <th>2</th>\n",
       "      <td>2020</td>\n",
       "      <td>19376.0</td>\n",
       "      <td>20750.664143</td>\n",
       "      <td>20697.473931</td>\n",
       "      <td>20802.959344</td>\n",
       "    </tr>\n",
       "    <tr>\n",
       "      <th>3</th>\n",
       "      <td>2021</td>\n",
       "      <td>20212.0</td>\n",
       "      <td>21640.251424</td>\n",
       "      <td>21571.236842</td>\n",
       "      <td>21705.802387</td>\n",
       "    </tr>\n",
       "  </tbody>\n",
       "</table>\n",
       "</div>"
      ],
      "text/plain": [
       "   year  observed          mean           low          high\n",
       "0  2018   19090.0  19090.000000  19090.000000  19090.000000\n",
       "1  2019   19379.0  20699.968227  20650.692471  20751.181449\n",
       "2  2020   19376.0  20750.664143  20697.473931  20802.959344\n",
       "3  2021   20212.0  21640.251424  21571.236842  21705.802387"
      ]
     },
     "metadata": {},
     "output_type": "display_data"
    },
    {
     "data": {
      "application/vnd.plotly.v1+json": {
       "config": {
        "plotlyServerURL": "https://plot.ly"
       },
       "data": [
        {
         "line": {
          "color": "darkred",
          "width": 3
         },
         "mode": "lines+markers",
         "name": "Tulsa, OK",
         "showlegend": false,
         "text": "Tulsa, OK",
         "textposition": "top right",
         "type": "scatter",
         "x": [
          2010,
          2011,
          2012,
          2013,
          2014,
          2015,
          2016,
          2017,
          2018,
          2019,
          2020,
          2021
         ],
         "y": [
          17181,
          18083,
          18399,
          18611,
          18382,
          19162,
          18958,
          18994,
          19090,
          19379,
          19376,
          20212
         ]
        },
        {
         "line": {
          "color": "blue",
          "width": 2
         },
         "mode": "lines",
         "name": "mean prediction",
         "text": [
          19090,
          20699.968226509238,
          20750.664142637925,
          21640.251424147773
         ],
         "type": "scatter",
         "x": [
          "2018",
          "2019",
          "2020",
          "2021"
         ],
         "y": [
          19090,
          20699.968226509238,
          20750.664142637925,
          21640.251424147773
         ]
        },
        {
         "fill": "toself",
         "fillcolor": "rgba(255, 255, 255, 0.31)",
         "line": {
          "color": "rgba(255,255,255,0)"
         },
         "name": "95% credible interval around mean",
         "type": "scatter",
         "x": [
          "2018",
          "2019",
          "2020",
          "2021",
          "2021",
          "2020",
          "2019",
          "2018"
         ],
         "y": [
          19090,
          20751.18144905258,
          20802.95934422798,
          21705.802386726973,
          21571.2368420166,
          20697.473930747856,
          20650.692471165916,
          19090
         ]
        }
       ],
       "layout": {
        "legend": {
         "orientation": "h",
         "traceorder": "normal",
         "x": 0.05,
         "y": 1
        },
        "template": {
         "data": {
          "bar": [
           {
            "error_x": {
             "color": "rgb(36,36,36)"
            },
            "error_y": {
             "color": "rgb(36,36,36)"
            },
            "marker": {
             "line": {
              "color": "white",
              "width": 0.5
             },
             "pattern": {
              "fillmode": "overlay",
              "size": 10,
              "solidity": 0.2
             }
            },
            "type": "bar"
           }
          ],
          "barpolar": [
           {
            "marker": {
             "line": {
              "color": "white",
              "width": 0.5
             },
             "pattern": {
              "fillmode": "overlay",
              "size": 10,
              "solidity": 0.2
             }
            },
            "type": "barpolar"
           }
          ],
          "carpet": [
           {
            "aaxis": {
             "endlinecolor": "rgb(36,36,36)",
             "gridcolor": "white",
             "linecolor": "white",
             "minorgridcolor": "white",
             "startlinecolor": "rgb(36,36,36)"
            },
            "baxis": {
             "endlinecolor": "rgb(36,36,36)",
             "gridcolor": "white",
             "linecolor": "white",
             "minorgridcolor": "white",
             "startlinecolor": "rgb(36,36,36)"
            },
            "type": "carpet"
           }
          ],
          "choropleth": [
           {
            "colorbar": {
             "outlinewidth": 1,
             "tickcolor": "rgb(36,36,36)",
             "ticks": "outside"
            },
            "type": "choropleth"
           }
          ],
          "contour": [
           {
            "colorbar": {
             "outlinewidth": 1,
             "tickcolor": "rgb(36,36,36)",
             "ticks": "outside"
            },
            "colorscale": [
             [
              0,
              "#440154"
             ],
             [
              0.1111111111111111,
              "#482878"
             ],
             [
              0.2222222222222222,
              "#3e4989"
             ],
             [
              0.3333333333333333,
              "#31688e"
             ],
             [
              0.4444444444444444,
              "#26828e"
             ],
             [
              0.5555555555555556,
              "#1f9e89"
             ],
             [
              0.6666666666666666,
              "#35b779"
             ],
             [
              0.7777777777777778,
              "#6ece58"
             ],
             [
              0.8888888888888888,
              "#b5de2b"
             ],
             [
              1,
              "#fde725"
             ]
            ],
            "type": "contour"
           }
          ],
          "contourcarpet": [
           {
            "colorbar": {
             "outlinewidth": 1,
             "tickcolor": "rgb(36,36,36)",
             "ticks": "outside"
            },
            "type": "contourcarpet"
           }
          ],
          "heatmap": [
           {
            "colorbar": {
             "outlinewidth": 1,
             "tickcolor": "rgb(36,36,36)",
             "ticks": "outside"
            },
            "colorscale": [
             [
              0,
              "#440154"
             ],
             [
              0.1111111111111111,
              "#482878"
             ],
             [
              0.2222222222222222,
              "#3e4989"
             ],
             [
              0.3333333333333333,
              "#31688e"
             ],
             [
              0.4444444444444444,
              "#26828e"
             ],
             [
              0.5555555555555556,
              "#1f9e89"
             ],
             [
              0.6666666666666666,
              "#35b779"
             ],
             [
              0.7777777777777778,
              "#6ece58"
             ],
             [
              0.8888888888888888,
              "#b5de2b"
             ],
             [
              1,
              "#fde725"
             ]
            ],
            "type": "heatmap"
           }
          ],
          "heatmapgl": [
           {
            "colorbar": {
             "outlinewidth": 1,
             "tickcolor": "rgb(36,36,36)",
             "ticks": "outside"
            },
            "colorscale": [
             [
              0,
              "#440154"
             ],
             [
              0.1111111111111111,
              "#482878"
             ],
             [
              0.2222222222222222,
              "#3e4989"
             ],
             [
              0.3333333333333333,
              "#31688e"
             ],
             [
              0.4444444444444444,
              "#26828e"
             ],
             [
              0.5555555555555556,
              "#1f9e89"
             ],
             [
              0.6666666666666666,
              "#35b779"
             ],
             [
              0.7777777777777778,
              "#6ece58"
             ],
             [
              0.8888888888888888,
              "#b5de2b"
             ],
             [
              1,
              "#fde725"
             ]
            ],
            "type": "heatmapgl"
           }
          ],
          "histogram": [
           {
            "marker": {
             "line": {
              "color": "white",
              "width": 0.6
             }
            },
            "type": "histogram"
           }
          ],
          "histogram2d": [
           {
            "colorbar": {
             "outlinewidth": 1,
             "tickcolor": "rgb(36,36,36)",
             "ticks": "outside"
            },
            "colorscale": [
             [
              0,
              "#440154"
             ],
             [
              0.1111111111111111,
              "#482878"
             ],
             [
              0.2222222222222222,
              "#3e4989"
             ],
             [
              0.3333333333333333,
              "#31688e"
             ],
             [
              0.4444444444444444,
              "#26828e"
             ],
             [
              0.5555555555555556,
              "#1f9e89"
             ],
             [
              0.6666666666666666,
              "#35b779"
             ],
             [
              0.7777777777777778,
              "#6ece58"
             ],
             [
              0.8888888888888888,
              "#b5de2b"
             ],
             [
              1,
              "#fde725"
             ]
            ],
            "type": "histogram2d"
           }
          ],
          "histogram2dcontour": [
           {
            "colorbar": {
             "outlinewidth": 1,
             "tickcolor": "rgb(36,36,36)",
             "ticks": "outside"
            },
            "colorscale": [
             [
              0,
              "#440154"
             ],
             [
              0.1111111111111111,
              "#482878"
             ],
             [
              0.2222222222222222,
              "#3e4989"
             ],
             [
              0.3333333333333333,
              "#31688e"
             ],
             [
              0.4444444444444444,
              "#26828e"
             ],
             [
              0.5555555555555556,
              "#1f9e89"
             ],
             [
              0.6666666666666666,
              "#35b779"
             ],
             [
              0.7777777777777778,
              "#6ece58"
             ],
             [
              0.8888888888888888,
              "#b5de2b"
             ],
             [
              1,
              "#fde725"
             ]
            ],
            "type": "histogram2dcontour"
           }
          ],
          "mesh3d": [
           {
            "colorbar": {
             "outlinewidth": 1,
             "tickcolor": "rgb(36,36,36)",
             "ticks": "outside"
            },
            "type": "mesh3d"
           }
          ],
          "parcoords": [
           {
            "line": {
             "colorbar": {
              "outlinewidth": 1,
              "tickcolor": "rgb(36,36,36)",
              "ticks": "outside"
             }
            },
            "type": "parcoords"
           }
          ],
          "pie": [
           {
            "automargin": true,
            "type": "pie"
           }
          ],
          "scatter": [
           {
            "fillpattern": {
             "fillmode": "overlay",
             "size": 10,
             "solidity": 0.2
            },
            "type": "scatter"
           }
          ],
          "scatter3d": [
           {
            "line": {
             "colorbar": {
              "outlinewidth": 1,
              "tickcolor": "rgb(36,36,36)",
              "ticks": "outside"
             }
            },
            "marker": {
             "colorbar": {
              "outlinewidth": 1,
              "tickcolor": "rgb(36,36,36)",
              "ticks": "outside"
             }
            },
            "type": "scatter3d"
           }
          ],
          "scattercarpet": [
           {
            "marker": {
             "colorbar": {
              "outlinewidth": 1,
              "tickcolor": "rgb(36,36,36)",
              "ticks": "outside"
             }
            },
            "type": "scattercarpet"
           }
          ],
          "scattergeo": [
           {
            "marker": {
             "colorbar": {
              "outlinewidth": 1,
              "tickcolor": "rgb(36,36,36)",
              "ticks": "outside"
             }
            },
            "type": "scattergeo"
           }
          ],
          "scattergl": [
           {
            "marker": {
             "colorbar": {
              "outlinewidth": 1,
              "tickcolor": "rgb(36,36,36)",
              "ticks": "outside"
             }
            },
            "type": "scattergl"
           }
          ],
          "scattermapbox": [
           {
            "marker": {
             "colorbar": {
              "outlinewidth": 1,
              "tickcolor": "rgb(36,36,36)",
              "ticks": "outside"
             }
            },
            "type": "scattermapbox"
           }
          ],
          "scatterpolar": [
           {
            "marker": {
             "colorbar": {
              "outlinewidth": 1,
              "tickcolor": "rgb(36,36,36)",
              "ticks": "outside"
             }
            },
            "type": "scatterpolar"
           }
          ],
          "scatterpolargl": [
           {
            "marker": {
             "colorbar": {
              "outlinewidth": 1,
              "tickcolor": "rgb(36,36,36)",
              "ticks": "outside"
             }
            },
            "type": "scatterpolargl"
           }
          ],
          "scatterternary": [
           {
            "marker": {
             "colorbar": {
              "outlinewidth": 1,
              "tickcolor": "rgb(36,36,36)",
              "ticks": "outside"
             }
            },
            "type": "scatterternary"
           }
          ],
          "surface": [
           {
            "colorbar": {
             "outlinewidth": 1,
             "tickcolor": "rgb(36,36,36)",
             "ticks": "outside"
            },
            "colorscale": [
             [
              0,
              "#440154"
             ],
             [
              0.1111111111111111,
              "#482878"
             ],
             [
              0.2222222222222222,
              "#3e4989"
             ],
             [
              0.3333333333333333,
              "#31688e"
             ],
             [
              0.4444444444444444,
              "#26828e"
             ],
             [
              0.5555555555555556,
              "#1f9e89"
             ],
             [
              0.6666666666666666,
              "#35b779"
             ],
             [
              0.7777777777777778,
              "#6ece58"
             ],
             [
              0.8888888888888888,
              "#b5de2b"
             ],
             [
              1,
              "#fde725"
             ]
            ],
            "type": "surface"
           }
          ],
          "table": [
           {
            "cells": {
             "fill": {
              "color": "rgb(237,237,237)"
             },
             "line": {
              "color": "white"
             }
            },
            "header": {
             "fill": {
              "color": "rgb(217,217,217)"
             },
             "line": {
              "color": "white"
             }
            },
            "type": "table"
           }
          ]
         },
         "layout": {
          "annotationdefaults": {
           "arrowhead": 0,
           "arrowwidth": 1
          },
          "autotypenumbers": "strict",
          "coloraxis": {
           "colorbar": {
            "outlinewidth": 1,
            "tickcolor": "rgb(36,36,36)",
            "ticks": "outside"
           }
          },
          "colorscale": {
           "diverging": [
            [
             0,
             "rgb(103,0,31)"
            ],
            [
             0.1,
             "rgb(178,24,43)"
            ],
            [
             0.2,
             "rgb(214,96,77)"
            ],
            [
             0.3,
             "rgb(244,165,130)"
            ],
            [
             0.4,
             "rgb(253,219,199)"
            ],
            [
             0.5,
             "rgb(247,247,247)"
            ],
            [
             0.6,
             "rgb(209,229,240)"
            ],
            [
             0.7,
             "rgb(146,197,222)"
            ],
            [
             0.8,
             "rgb(67,147,195)"
            ],
            [
             0.9,
             "rgb(33,102,172)"
            ],
            [
             1,
             "rgb(5,48,97)"
            ]
           ],
           "sequential": [
            [
             0,
             "#440154"
            ],
            [
             0.1111111111111111,
             "#482878"
            ],
            [
             0.2222222222222222,
             "#3e4989"
            ],
            [
             0.3333333333333333,
             "#31688e"
            ],
            [
             0.4444444444444444,
             "#26828e"
            ],
            [
             0.5555555555555556,
             "#1f9e89"
            ],
            [
             0.6666666666666666,
             "#35b779"
            ],
            [
             0.7777777777777778,
             "#6ece58"
            ],
            [
             0.8888888888888888,
             "#b5de2b"
            ],
            [
             1,
             "#fde725"
            ]
           ],
           "sequentialminus": [
            [
             0,
             "#440154"
            ],
            [
             0.1111111111111111,
             "#482878"
            ],
            [
             0.2222222222222222,
             "#3e4989"
            ],
            [
             0.3333333333333333,
             "#31688e"
            ],
            [
             0.4444444444444444,
             "#26828e"
            ],
            [
             0.5555555555555556,
             "#1f9e89"
            ],
            [
             0.6666666666666666,
             "#35b779"
            ],
            [
             0.7777777777777778,
             "#6ece58"
            ],
            [
             0.8888888888888888,
             "#b5de2b"
            ],
            [
             1,
             "#fde725"
            ]
           ]
          },
          "colorway": [
           "#1F77B4",
           "#FF7F0E",
           "#2CA02C",
           "#D62728",
           "#9467BD",
           "#8C564B",
           "#E377C2",
           "#7F7F7F",
           "#BCBD22",
           "#17BECF"
          ],
          "font": {
           "color": "rgb(36,36,36)"
          },
          "geo": {
           "bgcolor": "white",
           "lakecolor": "white",
           "landcolor": "white",
           "showlakes": true,
           "showland": true,
           "subunitcolor": "white"
          },
          "hoverlabel": {
           "align": "left"
          },
          "hovermode": "closest",
          "mapbox": {
           "style": "light"
          },
          "paper_bgcolor": "white",
          "plot_bgcolor": "white",
          "polar": {
           "angularaxis": {
            "gridcolor": "rgb(232,232,232)",
            "linecolor": "rgb(36,36,36)",
            "showgrid": false,
            "showline": true,
            "ticks": "outside"
           },
           "bgcolor": "white",
           "radialaxis": {
            "gridcolor": "rgb(232,232,232)",
            "linecolor": "rgb(36,36,36)",
            "showgrid": false,
            "showline": true,
            "ticks": "outside"
           }
          },
          "scene": {
           "xaxis": {
            "backgroundcolor": "white",
            "gridcolor": "rgb(232,232,232)",
            "gridwidth": 2,
            "linecolor": "rgb(36,36,36)",
            "showbackground": true,
            "showgrid": false,
            "showline": true,
            "ticks": "outside",
            "zeroline": false,
            "zerolinecolor": "rgb(36,36,36)"
           },
           "yaxis": {
            "backgroundcolor": "white",
            "gridcolor": "rgb(232,232,232)",
            "gridwidth": 2,
            "linecolor": "rgb(36,36,36)",
            "showbackground": true,
            "showgrid": false,
            "showline": true,
            "ticks": "outside",
            "zeroline": false,
            "zerolinecolor": "rgb(36,36,36)"
           },
           "zaxis": {
            "backgroundcolor": "white",
            "gridcolor": "rgb(232,232,232)",
            "gridwidth": 2,
            "linecolor": "rgb(36,36,36)",
            "showbackground": true,
            "showgrid": false,
            "showline": true,
            "ticks": "outside",
            "zeroline": false,
            "zerolinecolor": "rgb(36,36,36)"
           }
          },
          "shapedefaults": {
           "fillcolor": "black",
           "line": {
            "width": 0
           },
           "opacity": 0.3
          },
          "ternary": {
           "aaxis": {
            "gridcolor": "rgb(232,232,232)",
            "linecolor": "rgb(36,36,36)",
            "showgrid": false,
            "showline": true,
            "ticks": "outside"
           },
           "baxis": {
            "gridcolor": "rgb(232,232,232)",
            "linecolor": "rgb(36,36,36)",
            "showgrid": false,
            "showline": true,
            "ticks": "outside"
           },
           "bgcolor": "white",
           "caxis": {
            "gridcolor": "rgb(232,232,232)",
            "linecolor": "rgb(36,36,36)",
            "showgrid": false,
            "showline": true,
            "ticks": "outside"
           }
          },
          "title": {
           "x": 0.05
          },
          "xaxis": {
           "automargin": true,
           "gridcolor": "rgb(232,232,232)",
           "linecolor": "rgb(36,36,36)",
           "showgrid": false,
           "showline": true,
           "ticks": "outside",
           "title": {
            "standoff": 15
           },
           "zeroline": false,
           "zerolinecolor": "rgb(36,36,36)"
          },
          "yaxis": {
           "automargin": true,
           "gridcolor": "rgb(232,232,232)",
           "linecolor": "rgb(36,36,36)",
           "showgrid": false,
           "showline": true,
           "ticks": "outside",
           "title": {
            "standoff": 15
           },
           "zeroline": false,
           "zerolinecolor": "rgb(36,36,36)"
          }
         }
        },
        "title": {
         "font": {
          "size": 12
         },
         "text": "Predicted industry_professional_services_total in Tulsa, OK<br>under intervention [1.06809859e+08] in year 2018<br>99.088% of counties received a lower intervention <br>observed intervention: 6011536.0"
        },
        "xaxis": {
         "title": {
          "text": "Year"
         }
        },
        "yaxis": {
         "range": [
          13744.800000000001,
          28217.543102745065
         ],
         "title": {
          "text": "Value"
         }
        }
       }
      }
     },
     "metadata": {},
     "output_type": "display_data"
    }
   ],
   "source": [
    "ci.get_group_predictions(\n",
    "    intervened_value=intervened_value,\n",
    "    group=[fips, 48455],\n",
    "    year=year,\n",
    "    intervention_is_percentile=False,\n",
    ")\n",
    "display(ci.group_predictions_original[fips])\n",
    "\n",
    "# if you pass fips, this assumes you want to use groups predictions\n",
    "# note, generating plot will also set ci.predictions ci.predictions_original\n",
    "# ci.observed_intervention, ci.observed_intervention_original\n",
    "# and ci.name to those specific to the fips that you passed\n",
    "fig = ci.plot_predictions(\n",
    "    range_multiplier=1, show_figure=True, scaling=\"original\", fips=fips\n",
    ")"
   ]
  },
  {
   "cell_type": "code",
   "execution_count": 5,
   "metadata": {},
   "outputs": [
    {
     "name": "stdout",
     "output_type": "stream",
     "text": [
      "48047 [48309, 48071, 48329, 48105, 48247, 48127, 48047, 48119, 48471, 48045, 48487, 48333, 48063, 48353, 48283, 48503]\n"
     ]
    }
   ],
   "source": [
    "interventions = list_interventions()\n",
    "outcomes = list_outcomes()\n",
    "\n",
    "intervention = random.choice(interventions)\n",
    "outcome = random.choice(outcomes)\n",
    "\n",
    "texas = [\n",
    "    48061,\n",
    "    48471,\n",
    "    48423,\n",
    "    48303,\n",
    "    48375,\n",
    "    48455,\n",
    "    48441,\n",
    "    48001,\n",
    "    48215,\n",
    "    48355,\n",
    "    48281,\n",
    "    48181,\n",
    "    48201,\n",
    "    48059,\n",
    "    48007,\n",
    "    48439,\n",
    "    48485,\n",
    "    48361,\n",
    "    48265,\n",
    "    48465,\n",
    "    48277,\n",
    "    48141,\n",
    "    48347,\n",
    "    48193,\n",
    "    48349,\n",
    "    48037,\n",
    "    48027,\n",
    "    48379,\n",
    "    48503,\n",
    "    48099,\n",
    "    48063,\n",
    "    48409,\n",
    "    48373,\n",
    "    48005,\n",
    "    48407,\n",
    "    48029,\n",
    "    48363,\n",
    "    48469,\n",
    "    48241,\n",
    "    48083,\n",
    "    48425,\n",
    "    48139,\n",
    "    48451,\n",
    "    48035,\n",
    "    48143,\n",
    "    48053,\n",
    "    48113,\n",
    "    48199,\n",
    "    48323,\n",
    "    48429,\n",
    "    48171,\n",
    "    48399,\n",
    "    48243,\n",
    "    48309,\n",
    "    48073,\n",
    "    48021,\n",
    "    48223,\n",
    "    48411,\n",
    "    48145,\n",
    "    48467,\n",
    "    48043,\n",
    "    48077,\n",
    "    48257,\n",
    "    48499,\n",
    "    48385,\n",
    "    48039,\n",
    "    48381,\n",
    "    48497,\n",
    "    48179,\n",
    "    48015,\n",
    "    48041,\n",
    "    48273,\n",
    "    48325,\n",
    "    48019,\n",
    "    48387,\n",
    "    48319,\n",
    "    48183,\n",
    "    48049,\n",
    "    48279,\n",
    "    48225,\n",
    "    48115,\n",
    "    48287,\n",
    "    48025,\n",
    "    48253,\n",
    "    48067,\n",
    "    48291,\n",
    "    48167,\n",
    "    48463,\n",
    "    48501,\n",
    "    48017,\n",
    "    48185,\n",
    "    48307,\n",
    "    48245,\n",
    "    48125,\n",
    "    48217,\n",
    "    48149,\n",
    "    48009,\n",
    "    48267,\n",
    "    48275,\n",
    "    48197,\n",
    "    48445,\n",
    "    48299,\n",
    "    48419,\n",
    "    48333,\n",
    "    48103,\n",
    "    48213,\n",
    "    48477,\n",
    "    48147,\n",
    "    48401,\n",
    "    48189,\n",
    "    48481,\n",
    "    48023,\n",
    "    48491,\n",
    "    48219,\n",
    "    48081,\n",
    "    48159,\n",
    "    48165,\n",
    "    48413,\n",
    "    48269,\n",
    "    48031,\n",
    "    48095,\n",
    "    48289,\n",
    "    48315,\n",
    "    48295,\n",
    "    48367,\n",
    "    48449,\n",
    "    48221,\n",
    "    48431,\n",
    "    48479,\n",
    "    48293,\n",
    "    48259,\n",
    "    48327,\n",
    "    48071,\n",
    "    48331,\n",
    "    48195,\n",
    "    48091,\n",
    "    48473,\n",
    "    48415,\n",
    "    48211,\n",
    "    48353,\n",
    "    48487,\n",
    "    48065,\n",
    "    48169,\n",
    "    48263,\n",
    "    48237,\n",
    "    48369,\n",
    "    48089,\n",
    "    48157,\n",
    "    48209,\n",
    "    48151,\n",
    "    48079,\n",
    "    48111,\n",
    "    48229,\n",
    "    48055,\n",
    "    48203,\n",
    "    48239,\n",
    "    48321,\n",
    "    48453,\n",
    "    48457,\n",
    "    48231,\n",
    "    48403,\n",
    "    48391,\n",
    "    48251,\n",
    "    48207,\n",
    "    48447,\n",
    "    48377,\n",
    "    48459,\n",
    "    48121,\n",
    "    48343,\n",
    "    48397,\n",
    "    48271,\n",
    "    48119,\n",
    "    48085,\n",
    "    48133,\n",
    "    48033,\n",
    "    48351,\n",
    "    48339,\n",
    "    48135,\n",
    "    48093,\n",
    "    48097,\n",
    "    48075,\n",
    "    48341,\n",
    "    48335,\n",
    "    48417,\n",
    "    48345,\n",
    "    48395,\n",
    "    48107,\n",
    "    48003,\n",
    "    48337,\n",
    "    48187,\n",
    "    48249,\n",
    "    48117,\n",
    "    48069,\n",
    "    48493,\n",
    "    48357,\n",
    "    48305,\n",
    "    48105,\n",
    "    48483,\n",
    "    48433,\n",
    "    48129,\n",
    "    48191,\n",
    "    48371,\n",
    "    48205,\n",
    "    48155,\n",
    "    48087,\n",
    "    48421,\n",
    "    48313,\n",
    "    48329,\n",
    "    48285,\n",
    "    48297,\n",
    "    48365,\n",
    "    48437,\n",
    "    48359,\n",
    "    48057,\n",
    "    48475,\n",
    "    48051,\n",
    "    48163,\n",
    "    48489,\n",
    "    48427,\n",
    "    48011,\n",
    "    48101,\n",
    "    48405,\n",
    "    48393,\n",
    "    48495,\n",
    "    48161,\n",
    "    48175,\n",
    "    48435,\n",
    "    48261,\n",
    "    48131,\n",
    "    48013,\n",
    "    48247,\n",
    "    48153,\n",
    "    48461,\n",
    "    48507,\n",
    "    48177,\n",
    "    48227,\n",
    "    48047,\n",
    "    48137,\n",
    "    48235,\n",
    "    48173,\n",
    "    48505,\n",
    "    48123,\n",
    "    48255,\n",
    "    48311,\n",
    "    48045,\n",
    "    48283,\n",
    "    48443,\n",
    "    48127,\n",
    "    48383,\n",
    "    48317,\n",
    "    48233,\n",
    "    48301,\n",
    "    48389,\n",
    "    48109,\n",
    "]\n",
    "fips = random.choice(texas)\n",
    "n = int(random.choice([3, 6, 9]))\n",
    "tf = random.sample(texas, k=n)\n",
    "tf.append(fips)\n",
    "n = int(random.choice([3, 6, 9]))\n",
    "tf = tf + random.sample(texas, k=n)\n",
    "\n",
    "\n",
    "print(fips, tf)"
   ]
  },
  {
   "cell_type": "code",
   "execution_count": 6,
   "metadata": {},
   "outputs": [
    {
     "name": "stdout",
     "output_type": "stream",
     "text": [
      "[48309, 48071, 48329, 48105, 48247, 48127, 48047, 48119, 48471, 48045, 48487, 48333, 48063, 48353, 48283, 48503]\n",
      "48047\n"
     ]
    },
    {
     "data": {
      "text/html": [
       "<div>\n",
       "<style scoped>\n",
       "    .dataframe tbody tr th:only-of-type {\n",
       "        vertical-align: middle;\n",
       "    }\n",
       "\n",
       "    .dataframe tbody tr th {\n",
       "        vertical-align: top;\n",
       "    }\n",
       "\n",
       "    .dataframe thead th {\n",
       "        text-align: right;\n",
       "    }\n",
       "</style>\n",
       "<table border=\"1\" class=\"dataframe\">\n",
       "  <thead>\n",
       "    <tr style=\"text-align: right;\">\n",
       "      <th></th>\n",
       "      <th>year</th>\n",
       "      <th>observed</th>\n",
       "      <th>mean</th>\n",
       "      <th>low</th>\n",
       "      <th>high</th>\n",
       "    </tr>\n",
       "  </thead>\n",
       "  <tbody>\n",
       "    <tr>\n",
       "      <th>2017</th>\n",
       "      <td>2017</td>\n",
       "      <td>16.0</td>\n",
       "      <td>16.0</td>\n",
       "      <td>16.0</td>\n",
       "      <td>16.0</td>\n",
       "    </tr>\n",
       "    <tr>\n",
       "      <th>2018</th>\n",
       "      <td>2018</td>\n",
       "      <td>9.0</td>\n",
       "      <td>21.012416</td>\n",
       "      <td>19.751524</td>\n",
       "      <td>22.330244</td>\n",
       "    </tr>\n",
       "    <tr>\n",
       "      <th>2019</th>\n",
       "      <td>2019</td>\n",
       "      <td>41.0</td>\n",
       "      <td>52.574596</td>\n",
       "      <td>51.308724</td>\n",
       "      <td>53.876941</td>\n",
       "    </tr>\n",
       "    <tr>\n",
       "      <th>2020</th>\n",
       "      <td>2020</td>\n",
       "      <td>24.0</td>\n",
       "      <td>35.113543</td>\n",
       "      <td>33.889556</td>\n",
       "      <td>36.289147</td>\n",
       "    </tr>\n",
       "  </tbody>\n",
       "</table>\n",
       "</div>"
      ],
      "text/plain": [
       "      year observed       mean        low       high\n",
       "2017  2017     16.0       16.0       16.0       16.0\n",
       "2018  2018      9.0  21.012416  19.751524  22.330244\n",
       "2019  2019     41.0  52.574596  51.308724  53.876941\n",
       "2020  2020     24.0  35.113543  33.889556  36.289147"
      ]
     },
     "metadata": {},
     "output_type": "display_data"
    },
    {
     "data": {
      "text/html": [
       "<div>\n",
       "<style scoped>\n",
       "    .dataframe tbody tr th:only-of-type {\n",
       "        vertical-align: middle;\n",
       "    }\n",
       "\n",
       "    .dataframe tbody tr th {\n",
       "        vertical-align: top;\n",
       "    }\n",
       "\n",
       "    .dataframe thead th {\n",
       "        text-align: right;\n",
       "    }\n",
       "</style>\n",
       "<table border=\"1\" class=\"dataframe\">\n",
       "  <thead>\n",
       "    <tr style=\"text-align: right;\">\n",
       "      <th></th>\n",
       "      <th>year</th>\n",
       "      <th>observed</th>\n",
       "      <th>mean</th>\n",
       "      <th>low</th>\n",
       "      <th>high</th>\n",
       "    </tr>\n",
       "  </thead>\n",
       "  <tbody>\n",
       "    <tr>\n",
       "      <th>0</th>\n",
       "      <td>2017</td>\n",
       "      <td>16.0</td>\n",
       "      <td>16.000000</td>\n",
       "      <td>16.000000</td>\n",
       "      <td>16.000000</td>\n",
       "    </tr>\n",
       "    <tr>\n",
       "      <th>1</th>\n",
       "      <td>2018</td>\n",
       "      <td>9.0</td>\n",
       "      <td>21.012417</td>\n",
       "      <td>19.751524</td>\n",
       "      <td>22.330244</td>\n",
       "    </tr>\n",
       "    <tr>\n",
       "      <th>2</th>\n",
       "      <td>2019</td>\n",
       "      <td>41.0</td>\n",
       "      <td>52.574596</td>\n",
       "      <td>51.308724</td>\n",
       "      <td>53.876942</td>\n",
       "    </tr>\n",
       "    <tr>\n",
       "      <th>3</th>\n",
       "      <td>2020</td>\n",
       "      <td>24.0</td>\n",
       "      <td>35.113543</td>\n",
       "      <td>33.889556</td>\n",
       "      <td>36.289148</td>\n",
       "    </tr>\n",
       "  </tbody>\n",
       "</table>\n",
       "</div>"
      ],
      "text/plain": [
       "   year  observed       mean        low       high\n",
       "0  2017      16.0  16.000000  16.000000  16.000000\n",
       "1  2018       9.0  21.012417  19.751524  22.330244\n",
       "2  2019      41.0  52.574596  51.308724  53.876942\n",
       "3  2020      24.0  35.113543  33.889556  36.289148"
      ]
     },
     "metadata": {},
     "output_type": "display_data"
    }
   ],
   "source": [
    "year = 2017\n",
    "intervened_value = 80\n",
    "\n",
    "print(tf)\n",
    "print(fips)\n",
    "\n",
    "ci = CausalInsight(\n",
    "    outcome_dataset=outcome,\n",
    "    intervention_dataset=intervention,\n",
    "    num_samples=num_samples,\n",
    ")\n",
    "\n",
    "\n",
    "ci.get_tau_samples()\n",
    "\n",
    "ci.get_fips_predictions(\n",
    "    intervened_value=intervened_value,\n",
    "    fips=fips,\n",
    "    year=year,\n",
    "    intervention_is_percentile=True,\n",
    ")\n",
    "ci.get_group_predictions(\n",
    "    group=tf,\n",
    "    intervened_value=intervened_value,\n",
    "    year=year,\n",
    "    intervention_is_percentile=True,\n",
    "    produce_original=True,\n",
    ")\n",
    "\n",
    "display(ci.predictions_original)\n",
    "display(ci.group_predictions_original[fips])\n",
    "\n",
    "\n",
    "# -0.037466 observed starts"
   ]
  },
  {
   "cell_type": "code",
   "execution_count": 7,
   "metadata": {},
   "outputs": [],
   "source": [
    "# sanity check, to be built into tests\n",
    "\n",
    "from pandas.testing import assert_frame_equal\n",
    "\n",
    "\n",
    "texas = [\n",
    "    48061,\n",
    "    48471,\n",
    "    48423,\n",
    "    48303,\n",
    "    48375,\n",
    "    48455,\n",
    "    48441,\n",
    "    48001,\n",
    "    48215,\n",
    "    48355,\n",
    "    48281,\n",
    "    48181,\n",
    "    48201,\n",
    "    48059,\n",
    "    48007,\n",
    "    48439,\n",
    "    48485,\n",
    "    48361,\n",
    "    48265,\n",
    "    48465,\n",
    "    48277,\n",
    "    48141,\n",
    "    48347,\n",
    "    48193,\n",
    "    48349,\n",
    "    48037,\n",
    "    48027,\n",
    "    48379,\n",
    "    48503,\n",
    "    48099,\n",
    "    48063,\n",
    "    48409,\n",
    "    48373,\n",
    "    48005,\n",
    "    48407,\n",
    "    48029,\n",
    "    48363,\n",
    "    48469,\n",
    "    48241,\n",
    "    48083,\n",
    "    48425,\n",
    "    48139,\n",
    "    48451,\n",
    "    48035,\n",
    "    48143,\n",
    "    48053,\n",
    "    48113,\n",
    "    48199,\n",
    "    48323,\n",
    "    48429,\n",
    "    48171,\n",
    "    48399,\n",
    "    48243,\n",
    "    48309,\n",
    "    48073,\n",
    "    48021,\n",
    "    48223,\n",
    "    48411,\n",
    "    48145,\n",
    "    48467,\n",
    "    48043,\n",
    "    48077,\n",
    "    48257,\n",
    "    48499,\n",
    "    48385,\n",
    "    48039,\n",
    "    48381,\n",
    "    48497,\n",
    "    48179,\n",
    "    48015,\n",
    "    48041,\n",
    "    48273,\n",
    "    48325,\n",
    "    48019,\n",
    "    48387,\n",
    "    48319,\n",
    "    48183,\n",
    "    48049,\n",
    "    48279,\n",
    "    48225,\n",
    "    48115,\n",
    "    48287,\n",
    "    48025,\n",
    "    48253,\n",
    "    48067,\n",
    "    48291,\n",
    "    48167,\n",
    "    48463,\n",
    "    48501,\n",
    "    48017,\n",
    "    48185,\n",
    "    48307,\n",
    "    48245,\n",
    "    48125,\n",
    "    48217,\n",
    "    48149,\n",
    "    48009,\n",
    "    48267,\n",
    "    48275,\n",
    "    48197,\n",
    "    48445,\n",
    "    48299,\n",
    "    48419,\n",
    "    48333,\n",
    "    48103,\n",
    "    48213,\n",
    "    48477,\n",
    "    48147,\n",
    "    48401,\n",
    "    48189,\n",
    "    48481,\n",
    "    48023,\n",
    "    48491,\n",
    "    48219,\n",
    "    48081,\n",
    "    48159,\n",
    "    48165,\n",
    "    48413,\n",
    "    48269,\n",
    "    48031,\n",
    "    48095,\n",
    "    48289,\n",
    "    48315,\n",
    "    48295,\n",
    "    48367,\n",
    "    48449,\n",
    "    48221,\n",
    "    48431,\n",
    "    48479,\n",
    "    48293,\n",
    "    48259,\n",
    "    48327,\n",
    "    48071,\n",
    "    48331,\n",
    "    48195,\n",
    "    48091,\n",
    "    48473,\n",
    "    48415,\n",
    "    48211,\n",
    "    48353,\n",
    "    48487,\n",
    "    48065,\n",
    "    48169,\n",
    "    48263,\n",
    "    48237,\n",
    "    48369,\n",
    "    48089,\n",
    "    48157,\n",
    "    48209,\n",
    "    48151,\n",
    "    48079,\n",
    "    48111,\n",
    "    48229,\n",
    "    48055,\n",
    "    48203,\n",
    "    48239,\n",
    "    48321,\n",
    "    48453,\n",
    "    48457,\n",
    "    48231,\n",
    "    48403,\n",
    "    48391,\n",
    "    48251,\n",
    "    48207,\n",
    "    48447,\n",
    "    48377,\n",
    "    48459,\n",
    "    48121,\n",
    "    48343,\n",
    "    48397,\n",
    "    48271,\n",
    "    48119,\n",
    "    48085,\n",
    "    48133,\n",
    "    48033,\n",
    "    48351,\n",
    "    48339,\n",
    "    48135,\n",
    "    48093,\n",
    "    48097,\n",
    "    48075,\n",
    "    48341,\n",
    "    48335,\n",
    "    48417,\n",
    "    48345,\n",
    "    48395,\n",
    "    48107,\n",
    "    48003,\n",
    "    48337,\n",
    "    48187,\n",
    "    48249,\n",
    "    48117,\n",
    "    48069,\n",
    "    48493,\n",
    "    48357,\n",
    "    48305,\n",
    "    48105,\n",
    "    48483,\n",
    "    48433,\n",
    "    48129,\n",
    "    48191,\n",
    "    48371,\n",
    "    48205,\n",
    "    48155,\n",
    "    48087,\n",
    "    48421,\n",
    "    48313,\n",
    "    48329,\n",
    "    48285,\n",
    "    48297,\n",
    "    48365,\n",
    "    48437,\n",
    "    48359,\n",
    "    48057,\n",
    "    48475,\n",
    "    48051,\n",
    "    48163,\n",
    "    48489,\n",
    "    48427,\n",
    "    48011,\n",
    "    48101,\n",
    "    48405,\n",
    "    48393,\n",
    "    48495,\n",
    "    48161,\n",
    "    48175,\n",
    "    48435,\n",
    "    48261,\n",
    "    48131,\n",
    "    48013,\n",
    "    48247,\n",
    "    48153,\n",
    "    48461,\n",
    "    48507,\n",
    "    48177,\n",
    "    48227,\n",
    "    48047,\n",
    "    48137,\n",
    "    48235,\n",
    "    48173,\n",
    "    48505,\n",
    "    48123,\n",
    "    48255,\n",
    "    48311,\n",
    "    48045,\n",
    "    48283,\n",
    "    48443,\n",
    "    48127,\n",
    "    48383,\n",
    "    48317,\n",
    "    48233,\n",
    "    48301,\n",
    "    48389,\n",
    "    48109,\n",
    "]\n",
    "fips = random.choice(texas)\n",
    "ci = CausalInsight(\n",
    "    outcome_dataset=outcome,\n",
    "    intervention_dataset=intervention,\n",
    "    num_samples=num_samples,\n",
    ")\n",
    "ci.get_tau_samples()\n",
    "\n",
    "\n",
    "tf.append(fips)\n",
    "ci.get_fips_predictions(\n",
    "    intervened_value=80, fips=fips, year=year, intervention_is_percentile=True\n",
    ")\n",
    "ci.get_group_predictions(\n",
    "    tf, intervened_value=80, year=year, intervention_is_percentile=True\n",
    ")\n",
    "\n",
    "\n",
    "assert_frame_equal(\n",
    "    ci.predictions,\n",
    "    ci.group_predictions[fips],\n",
    "    check_exact=False,\n",
    "    check_dtype=False,\n",
    "    rtol=0.01,\n",
    ")\n",
    "\n",
    "\n",
    "# how to use with slider\n",
    "percent_calc = ci.slider_values_to_interventions(intervened_percent=60, year=year)\n",
    "ci.get_fips_predictions(\n",
    "    intervened_value=percent_calc[\"intervened_transformed\"],\n",
    "    fips=fips,\n",
    "    year=year,\n",
    "    intervention_is_percentile=True,\n",
    ")\n",
    "\n",
    "ci.get_group_predictions(\n",
    "    tf,\n",
    "    intervened_value=percent_calc[\"intervened_transformed\"],\n",
    "    year=year,\n",
    "    intervention_is_percentile=True,\n",
    "    produce_original=True,\n",
    ")\n",
    "\n",
    "assert_frame_equal(\n",
    "    ci.predictions,\n",
    "    ci.group_predictions[fips],\n",
    "    check_exact=False,\n",
    "    check_dtype=False,\n",
    "    rtol=0.01,\n",
    ")\n",
    "\n",
    "assert_frame_equal(\n",
    "    ci.predictions_original.reset_index(drop=True),\n",
    "    ci.group_predictions_original[fips],\n",
    "    check_exact=False,\n",
    "    check_dtype=False,\n",
    "    rtol=0.01,\n",
    ")"
   ]
  },
  {
   "cell_type": "code",
   "execution_count": 8,
   "metadata": {},
   "outputs": [
    {
     "name": "stdout",
     "output_type": "stream",
     "text": [
      "         8674888 function calls (8533630 primitive calls) in 19.617 seconds\n",
      "\n",
      "   Ordered by: cumulative time\n",
      "\n",
      "   ncalls  tottime  percall  cumtime  percall filename:lineno(function)\n",
      "        2    0.000    0.000   19.620    9.810 interactiveshell.py:3514(run_code)\n",
      "        2    0.000    0.000   19.620    9.810 {built-in method builtins.exec}\n",
      "        1    0.073    0.073   19.620   19.620 4040260124.py:2(basic_run)\n",
      "      254    0.065    0.000   19.537    0.077 causal_insight_slim.py:361(get_fips_predictions)\n",
      "     2287    0.028    0.000   15.850    0.007 readers.py:848(read_csv)\n",
      "     2287    0.050    0.000   15.798    0.007 readers.py:574(_read)\n",
      "     2287    0.022    0.000   11.380    0.005 readers.py:1732(read)\n",
      "     1525    0.012    0.000   11.343    0.007 data_grabber.py:29(get_features_wide)\n",
      "     1270    0.021    0.000    9.146    0.007 cleaning_utils.py:37(revert_standardize_and_scale_scaler)\n",
      "     2287    0.030    0.000    9.048    0.004 c_parser_wrapper.py:222(read)\n",
      "     2287    8.483    0.004    8.543    0.004 {method 'read_low_memory' of 'pandas._libs.parsers.TextReader' objects}\n",
      "      254    0.045    0.000    7.993    0.031 cleaning_utils.py:75(revert_prediction_df)\n",
      "      254    0.004    0.000    4.532    0.018 data_grabber.py:34(get_features_std_wide)\n",
      "     2287    0.019    0.000    4.286    0.002 readers.py:1403(__init__)\n",
      "     2287    0.025    0.000    4.197    0.002 readers.py:1673(_make_engine)\n",
      "     2287    3.701    0.002    3.920    0.002 c_parser_wrapper.py:60(__init__)\n",
      "     3049    0.024    0.000    2.366    0.001 frame.py:665(__init__)\n",
      "     2541    0.043    0.000    2.280    0.001 construction.py:423(dict_to_mgr)\n",
      "9909/7622    0.081    0.000    1.153    0.000 series.py:371(__init__)\n",
      "     2541    0.008    0.000    0.783    0.000 construction.py:96(arrays_to_mgr)\n",
      "    48279    0.206    0.000    0.765    0.000 construction.py:519(sanitize_array)\n",
      "     1271    0.002    0.000    0.684    0.001 _data.py:814(fit)\n",
      "     1271    0.011    0.000    0.680    0.001 base.py:1135(wrapper)\n",
      "6604/5588    0.020    0.000    0.679    0.000 indexing.py:1139(__getitem__)\n",
      "    29728    0.028    0.000    0.642    0.000 base.py:7521(ensure_index)\n",
      "     9401    0.086    0.000    0.628    0.000 base.py:478(__new__)\n",
      "     2287    0.016    0.000    0.576    0.000 series.py:524(_init_dict)\n",
      "1747105/1742786    0.245    0.000    0.449    0.000 {built-in method builtins.isinstance}\n",
      "     1016    0.008    0.000    0.448    0.000 indexing.py:867(__setitem__)\n",
      "     1271    0.021    0.000    0.447    0.000 _data.py:841(partial_fit)\n",
      "     3811    0.026    0.000    0.439    0.000 frame.py:3853(__getitem__)\n",
      "     2541    0.053    0.000    0.438    0.000 construction.py:596(_homogenize)\n",
      "     1016    0.009    0.000    0.413    0.000 indexing.py:1747(_setitem_with_indexer)\n",
      "     2287    0.115    0.000    0.404    0.000 c_parser_wrapper.py:355(_concatenate_chunks)\n",
      "     1016    0.021    0.000    0.402    0.000 indexing.py:1897(_setitem_with_indexer_split_path)\n",
      "     4064    0.019    0.000    0.357    0.000 indexing.py:2062(_setitem_single_column)\n",
      "     6605    0.026    0.000    0.351    0.000 frame.py:3776(_ixs)\n",
      "     2541    0.012    0.000    0.328    0.000 managers.py:2068(create_block_manager_from_column_arrays)\n",
      "     4064    0.020    0.000    0.316    0.000 managers.py:1279(column_setitem)\n",
      "      762    0.004    0.000    0.284    0.000 indexing.py:1359(_getitem_axis)\n",
      "     2542    0.038    0.000    0.279    0.000 validation.py:644(check_array)\n",
      "     2541    0.060    0.000    0.272    0.000 managers.py:2137(_form_blocks)\n",
      "     4826    0.013    0.000    0.261    0.000 indexing.py:1681(_getitem_axis)\n",
      "     2287    0.025    0.000    0.251    0.000 common.py:652(get_handle)\n",
      "      762    0.007    0.000    0.250    0.000 base.py:6101(_get_indexer_strict)\n",
      "     1524    0.006    0.000    0.245    0.000 series.py:1016(__getitem__)\n",
      "     1524    0.008    0.000    0.243    0.000 function_base.py:3992(percentile)\n",
      "    32018    0.197    0.000    0.227    0.000 concat.py:52(concat_compat)\n",
      "      508    0.002    0.000    0.225    0.000 series.py:1074(_get_with)\n",
      "      254    0.004    0.000    0.225    0.001 percentiles.py:36(transformed_intervention_from_percentile)\n",
      "    19311    0.124    0.000    0.221    0.000 {pandas._libs.lib.maybe_convert_objects}\n",
      "     5080    0.103    0.000    0.217    0.000 managers.py:1045(iset)\n",
      "     2287    0.002    0.000    0.205    0.000 series.py:5482(isna)\n",
      "     2287    0.003    0.000    0.203    0.000 generic.py:8402(isna)\n",
      "     2287    0.007    0.000    0.203    0.000 series.py:4964(reindex)\n",
      "      508    0.002    0.000    0.202    0.000 indexing.py:1296(_getitem_iterable)\n",
      "     2287    0.010    0.000    0.196    0.000 generic.py:5266(reindex)\n",
      "     5843    0.003    0.000    0.195    0.000 missing.py:101(isna)\n",
      "     1524    0.002    0.000    0.195    0.000 function_base.py:4547(_quantile_unchecked)\n",
      "     1524    0.004    0.000    0.192    0.000 function_base.py:3763(_ureduce)\n",
      "     5843    0.015    0.000    0.192    0.000 missing.py:184(_isna)\n",
      "     1271    0.098    0.000    0.192    0.000 extmath.py:970(_incremental_mean_and_var)\n",
      "     3557    0.011    0.000    0.189    0.000 frame.py:4402(_get_item_cache)\n",
      "     1524    0.003    0.000    0.188    0.000 function_base.py:4696(_quantile_ureduce_func)\n",
      "     1524    0.030    0.000    0.182    0.000 function_base.py:4764(_quantile)\n",
      "     1272    0.009    0.000    0.180    0.000 base.py:509(_validate_data)\n",
      "     1270    0.002    0.000    0.177    0.000 common.py:62(new_method)\n",
      "     1271    0.005    0.000    0.176    0.000 base.py:630(_validate_params)\n",
      "     1016    0.006    0.000    0.176    0.000 indexing.py:1651(_getitem_tuple)\n",
      "      256    0.002    0.000    0.171    0.001 _dill.py:281(load)\n",
      " 1270/254    0.005    0.000    0.171    0.001 frame.py:4062(__setitem__)\n",
      "      254    0.003    0.000    0.170    0.001 frame.py:4100(_setitem_array)\n",
      "      256    0.001    0.000    0.167    0.001 _dill.py:441(load)\n",
      "      256    0.073    0.000    0.167    0.001 {function Unpickler.load at 0x7de521e46b90}\n",
      "      508    0.001    0.000    0.165    0.000 indexing.py:1494(_get_listlike_indexer)\n",
      "     8131    0.016    0.000    0.163    0.000 cast.py:119(maybe_convert_platform)\n",
      "   278983    0.069    0.000    0.162    0.000 generic.py:42(_instancecheck)\n",
      "    12451    0.015    0.000    0.156    0.000 codecs.py:319(decode)\n",
      "     2542    0.038    0.000    0.150    0.000 validation.py:92(_assert_all_finite)\n",
      "     7113    0.030    0.000    0.150    0.000 managers.py:308(apply)\n",
      "    11180    0.030    0.000    0.149    0.000 cast.py:1147(maybe_infer_to_datetimelike)\n",
      "39128/36841    0.021    0.000    0.148    0.000 {built-in method builtins.all}\n",
      "     1016    0.008    0.000    0.148    0.000 indexing.py:1006(_getitem_lowerdim)\n",
      "     1270    0.012    0.000    0.145    0.000 _data.py:1030(inverse_transform)\n",
      "591750/461671    0.103    0.000    0.144    0.000 {built-in method builtins.len}\n",
      "    12451    0.141    0.000    0.141    0.000 {built-in method _codecs.utf_8_decode}\n",
      "     1524    0.009    0.000    0.140    0.000 base.py:3859(get_indexer)\n",
      "    27951    0.138    0.000    0.138    0.000 {method 'reduce' of 'numpy.ufunc' objects}\n",
      "     1016    0.002    0.000    0.137    0.000 series.py:5817(_arith_method)\n",
      "     7369    0.112    0.000    0.129    0.000 managers.py:2194(_stack_arrays)\n",
      "     1016    0.008    0.000    0.128    0.000 base.py:1370(_arith_method)\n",
      "     2287    0.019    0.000    0.122    0.000 common.py:289(_get_filepath_or_buffer)\n",
      "     4064    0.008    0.000    0.118    0.000 managers.py:363(setitem)\n",
      "    38108    0.054    0.000    0.117    0.000 generic.py:6206(__setattr__)\n",
      "    14231    0.026    0.000    0.116    0.000 fromnumeric.py:71(_wrapreduction)\n",
      "     2795    0.013    0.000    0.113    0.000 generic.py:6553(copy)\n",
      "      508    0.002    0.000    0.109    0.000 generic.py:4077(_take_with_is_copy)\n",
      "      762    0.001    0.000    0.106    0.000 base.py:6077(get_indexer_for)\n",
      "     1016    0.004    0.000    0.105    0.000 frame.py:4290(_set_item)\n",
      "     8637    0.050    0.000    0.104    0.000 managers.py:991(iget)\n",
      "      508    0.004    0.000    0.103    0.000 generic.py:3962(take)\n",
      "     1271    0.005    0.000    0.101    0.000 base.py:178(get_params)\n",
      "     2032    0.029    0.000    0.100    0.000 managers.py:941(fast_xs)\n",
      "     1270    0.005    0.000    0.097    0.000 series.py:5885(_construct_result)\n",
      "     1271    0.009    0.000    0.096    0.000 base.py:147(_get_param_names)\n",
      "    16513    0.065    0.000    0.096    0.000 generic.py:6147(__finalize__)\n",
      "   282031    0.068    0.000    0.094    0.000 generic.py:37(_check)\n",
      "     4574    0.006    0.000    0.093    0.000 generic.py:5509(<genexpr>)\n",
      "      762    0.001    0.000    0.093    0.000 arraylike.py:188(__radd__)\n",
      "      254    0.001    0.000    0.093    0.000 frame.py:8088(sub)\n",
      "      254    0.003    0.000    0.092    0.000 frame.py:7981(_flex_arith_method)\n",
      "      508    0.003    0.000    0.092    0.000 managers.py:852(take)\n",
      "    19311    0.056    0.000    0.091    0.000 numeric.py:274(full)\n",
      "      762    0.003    0.000    0.086    0.000 base.py:4328(reindex)\n",
      "     1016    0.005    0.000    0.085    0.000 managers.py:606(reindex_indexer)\n",
      "     1016    0.003    0.000    0.085    0.000 frame.py:4257(_set_item_mgr)\n",
      "     4573    0.013    0.000    0.084    0.000 frame.py:4384(_box_col_values)\n",
      "     7113    0.022    0.000    0.084    0.000 base.py:5519(equals)\n",
      "     2287    0.007    0.000    0.082    0.000 base.py:5610(identical)\n",
      "     7626    0.011    0.000    0.079    0.000 fromnumeric.py:2177(sum)\n",
      "     2287    0.002    0.000    0.079    0.000 readers.py:1782(__exit__)\n",
      "     4064    0.024    0.000    0.078    0.000 blocks.py:1127(setitem)\n",
      "     8639    0.008    0.000    0.077    0.000 config.py:271(__call__)\n",
      "     1271    0.002    0.000    0.077    0.000 inspect.py:3252(signature)\n",
      "     2287    0.006    0.000    0.077    0.000 readers.py:1450(close)\n",
      "     1016    0.003    0.000    0.076    0.000 frame.py:4246(_iset_item_mgr)\n",
      "     1525    0.006    0.000    0.075    0.000 data_grabber.py:21(__init__)\n",
      "     1271    0.002    0.000    0.075    0.000 inspect.py:2998(from_callable)\n",
      "     2543    0.069    0.000    0.073    0.000 {built-in method io.open}\n",
      "     1271    0.012    0.000    0.073    0.000 inspect.py:2375(_signature_from_callable)\n",
      "     8639    0.010    0.000    0.070    0.000 config.py:145(_get_option)\n",
      "     3049    0.022    0.000    0.069    0.000 base.py:2293(is_unique)\n",
      "      254    0.001    0.000    0.069    0.000 indexing.py:1167(_getbool_axis)\n",
      "     1271    0.009    0.000    0.069    0.000 _param_validation.py:26(validate_parameter_constraints)\n",
      "    23628    0.050    0.000    0.065    0.000 generic.py:274(__init__)\n",
      "     6098    0.006    0.000    0.065    0.000 generic.py:487(_validate_dtype)\n",
      "     2287    0.011    0.000    0.064    0.000 series.py:6135(any)\n",
      "     1780    0.007    0.000    0.061    0.000 data_grabber.py:10(find_repo_root)\n",
      "     1778    0.005    0.000    0.061    0.000 indexing.py:1718(_get_slice_axis)\n",
      "     3049    0.011    0.000    0.061    0.000 managers.py:540(copy)\n",
      "     5844    0.017    0.000    0.060    0.000 managers.py:1825(from_array)\n",
      "     7114    0.021    0.000    0.060    0.000 common.py:1587(pandas_dtype)\n",
      "     1270    0.012    0.000    0.057    0.000 managers.py:691(_slice_take_blocks_ax0)\n",
      "     3049    0.020    0.000    0.057    0.000 range.py:134(__new__)\n",
      "    48279    0.028    0.000    0.057    0.000 construction.py:695(_sanitize_ndim)\n",
      "    12957    0.031    0.000    0.056    0.000 base.py:649(_simple_new)\n",
      "    43448    0.055    0.000    0.055    0.000 {built-in method numpy.empty}\n",
      "     1271    0.020    0.000    0.054    0.000 inspect.py:2280(_signature_from_function)\n",
      "    10926    0.034    0.000    0.054    0.000 cast.py:1544(construct_1d_object_array_from_listlike)\n",
      "     3813    0.011    0.000    0.054    0.000 extmath.py:940(_safe_accumulator_op)\n",
      "     1524    0.004    0.000    0.053    0.000 base.py:280(_new_Index)\n",
      "   459147    0.051    0.000    0.053    0.000 {built-in method builtins.getattr}\n",
      "    20581    0.015    0.000    0.052    0.000 base.py:7616(maybe_extract_name)\n",
      "     3049    0.023    0.000    0.051    0.000 base.py:842(_engine)\n",
      "    38878    0.017    0.000    0.051    0.000 common.py:556(require_length_match)\n",
      "     6605    0.009    0.000    0.051    0.000 frame.py:654(_constructor_sliced_from_mgr)\n",
      "    10166    0.022    0.000    0.051    0.000 _ufunc_config.py:33(seterr)\n",
      "     9653    0.005    0.000    0.051    0.000 _methods.py:55(_any)\n",
      "     2287    0.007    0.000    0.050    0.000 series.py:6094(_reduce)\n",
      "    62009    0.015    0.000    0.049    0.000 abc.py:117(__instancecheck__)\n",
      "     1778    0.006    0.000    0.047    0.000 series.py:1009(_slice)\n",
      "     1524    0.001    0.000    0.047    0.000 base.py:6619(_maybe_cast_listlike_indexer)\n",
      "     7369    0.021    0.000    0.047    0.000 _asarray.py:27(require)\n",
      "    88928    0.046    0.000    0.047    0.000 {pandas._libs.lib.is_list_like}\n",
      "     1524    0.021    0.000    0.047    0.000 function_base.py:4729(_get_indexes)\n",
      "     2287    0.027    0.000    0.046    0.000 base_parser.py:114(__init__)\n",
      "     2287    0.003    0.000    0.046    0.000 c_parser_wrapper.py:194(close)\n",
      "     3049    0.003    0.000    0.046    0.000 managers.py:1744(_consolidate_inplace)\n",
      "      254    0.001    0.000    0.045    0.000 arraylike.py:192(__sub__)\n",
      "     1778    0.005    0.000    0.045    0.000 blocks.py:1041(take_nd)\n",
      "     8639    0.015    0.000    0.045    0.000 generic.py:760(_set_axis)\n",
      "    18801    0.012    0.000    0.044    0.000 {built-in method builtins.any}\n",
      "     1780    0.005    0.000    0.044    0.000 pathlib.py:957(__new__)\n",
      "     2286    0.005    0.000    0.044    0.000 take.py:59(take_nd)\n",
      "     3813    0.002    0.000    0.044    0.000 _param_validation.py:73(<listcomp>)\n",
      "     3049    0.004    0.000    0.043    0.000 managers.py:1726(is_consolidated)\n",
      "     2287    0.043    0.000    0.043    0.000 {method 'close' of 'pandas._libs.parsers.TextReader' objects}\n",
      "     8639    0.016    0.000    0.042    0.000 config.py:127(_get_single_key)\n",
      "     1524    0.004    0.000    0.042    0.000 base.py:6321(_should_compare)\n",
      "     2032    0.002    0.000    0.042    0.000 base.py:347(interleaved_dtype)\n",
      "    19051    0.008    0.000    0.042    0.000 managers.py:169(blknos)\n",
      "     3813    0.009    0.000    0.042    0.000 _param_validation.py:102(make_constraint)\n",
      "      254    0.001    0.000    0.041    0.000 frame.py:7815(_align_for_op)\n",
      "     2541    0.013    0.000    0.041    0.000 construction.py:487(<listcomp>)\n",
      "    10415    0.016    0.000    0.040    0.000 base.py:69(shape)\n",
      "     1524    0.014    0.000    0.040    0.000 function_base.py:4565(_quantile_is_valid)\n",
      "     2287    0.005    0.000    0.040    0.000 common.py:145(is_url)\n",
      "     1780    0.005    0.000    0.040    0.000 pathlib.py:589(_from_parts)\n",
      "     2032    0.013    0.000    0.039    0.000 cast.py:1400(find_common_type)\n",
      "     3049    0.009    0.000    0.039    0.000 managers.py:1734(_consolidate_check)\n",
      "    10670    0.009    0.000    0.039    0.000 generic.py:335(_from_mgr)\n",
      "     3557    0.004    0.000    0.039    0.000 {method 'any' of 'numpy.ndarray' objects}\n",
      "     9401    0.015    0.000    0.039    0.000 series.py:703(name)\n",
      "     2286    0.010    0.000    0.038    0.000 take.py:121(_take_nd_ndarray)\n",
      "     2287    0.003    0.000    0.036    0.000 nanops.py:482(nanany)\n",
      "     1016    0.001    0.000    0.036    0.000 frame.py:3982(_get_value)\n",
      "    19563    0.010    0.000    0.036    0.000 series.py:750(_values)\n",
      "     5083    0.006    0.000    0.036    0.000 _ufunc_config.py:430(__enter__)\n",
      "     2794    0.024    0.000    0.035    0.000 {pandas._libs.lib.infer_dtype}\n",
      "      254    0.001    0.000    0.035    0.000 arraylike.py:38(__eq__)\n",
      "     2287    0.010    0.000    0.035    0.000 parse.py:379(urlparse)\n",
      "     2795    0.021    0.000    0.034    0.000 {method '_rebuild_blknos_and_blklocs' of 'pandas._libs.internals.BlockManager' objects}\n",
      "      508    0.003    0.000    0.034    0.000 generic.py:5574(_reindex_with_indexers)\n",
      "      254    0.002    0.000    0.034    0.000 series.py:5794(_cmp_method)\n",
      "     2287    0.011    0.000    0.034    0.000 base_parser.py:190(_validate_parse_dates_presence)\n",
      "    62009    0.030    0.000    0.034    0.000 {built-in method _abc._abc_instancecheck}\n",
      "     1780    0.006    0.000    0.034    0.000 pathlib.py:569(_parse_args)\n",
      "     2287    0.007    0.000    0.034    0.000 missing.py:261(_isna_array)\n",
      "     3048    0.013    0.000    0.033    0.000 common.py:228(asarray_tuplesafe)\n",
      "      254    0.000    0.000    0.032    0.000 frame.py:7725(_combine_frame)\n",
      "      254    0.001    0.000    0.032    0.000 frame.py:7649(_dispatch_frame_op)\n",
      "     2287    0.020    0.000    0.031    0.000 readers.py:1513(_clean_options)\n",
      "     7877    0.014    0.000    0.031    0.000 inference.py:273(is_dict_like)\n",
      "     4068    0.012    0.000    0.031    0.000 posixpath.py:71(join)\n",
      "    80533    0.022    0.000    0.030    0.000 base.py:909(__len__)\n",
      "      762    0.006    0.000    0.030    0.000 managers.py:1197(_iset_split_block)\n",
      "     1270    0.003    0.000    0.030    0.000 fromnumeric.py:3385(mean)\n",
      "40402/40148    0.029    0.000    0.030    0.000 {built-in method numpy.asarray}\n",
      "     6858    0.007    0.000    0.029    0.000 common.py:96(is_bool_indexer)\n",
      "     9146    0.018    0.000    0.029    0.000 blocks.py:2388(new_block)\n",
      "     2287    0.024    0.000    0.029    0.000 readers.py:1455(_get_options_with_defaults)\n",
      "     2795    0.015    0.000    0.029    0.000 managers.py:1740(<listcomp>)\n",
      "    12955    0.013    0.000    0.029    0.000 indexing.py:2678(check_dict_or_set_indexers)\n",
      "     3813    0.007    0.000    0.028    0.000 _array_api.py:360(_asarray_with_order)\n",
      "     4829    0.007    0.000    0.028    0.000 warnings.py:165(simplefilter)\n",
      "     6605    0.004    0.000    0.028    0.000 frame.py:651(_sliced_from_mgr)\n",
      "     5083    0.007    0.000    0.027    0.000 _ufunc_config.py:435(__exit__)\n",
      "      254    0.000    0.000    0.027    0.000 managers.py:1466(operate_blockwise)\n",
      "     1524    0.003    0.000    0.027    0.000 array_ops.py:242(arithmetic_op)\n",
      "     1270    0.011    0.000    0.027    0.000 _methods.py:101(_mean)\n",
      "   120721    0.026    0.000    0.027    0.000 {built-in method builtins.hasattr}\n",
      "      254    0.003    0.000    0.027    0.000 ops.py:57(operate_blockwise)\n",
      "     1524    0.026    0.000    0.027    0.000 function_base.py:4641(_lerp)\n",
      "    52597    0.023    0.000    0.027    0.000 construction.py:420(extract_array)\n",
      "    19563    0.023    0.000    0.027    0.000 managers.py:1960(internal_values)\n",
      "     1780    0.014    0.000    0.027    0.000 pathlib.py:56(parse_parts)\n",
      "      254    0.002    0.000    0.026    0.000 managers.py:670(<listcomp>)\n",
      "     2287    0.013    0.000    0.026    0.000 common.py:538(infer_compression)\n",
      "     2541    0.007    0.000    0.025    0.000 missing.py:466(array_equivalent)\n",
      "     2795    0.004    0.000    0.025    0.000 fromnumeric.py:2322(any)\n",
      "     2287    0.005    0.000    0.025    0.000 common.py:121(close)\n",
      "     2287    0.005    0.000    0.025    0.000 missing.py:305(_isna_string_dtype)\n",
      "    48279    0.019    0.000    0.025    0.000 construction.py:734(_sanitize_str_dtypes)\n",
      "     3048    0.003    0.000    0.025    0.000 fromnumeric.py:2421(all)\n",
      "     6096    0.009    0.000    0.025    0.000 {method 'any' of 'numpy.generic' objects}\n",
      "     8639    0.007    0.000    0.025    0.000 managers.py:225(set_axis)\n",
      "     2286    0.002    0.000    0.025    0.000 base.py:2724(inferred_type)\n",
      "     1271    0.022    0.000    0.024    0.000 _data.py:71(_is_constant_feature)\n",
      "    10416    0.016    0.000    0.024    0.000 base.py:5350(__getitem__)\n",
      "    33288    0.014    0.000    0.024    0.000 managers.py:2124(_grouping_func)\n",
      "     2542    0.002    0.000    0.024    0.000 _array_api.py:282(isdtype)\n",
      "     1778    0.013    0.000    0.024    0.000 managers.py:1930(get_slice)\n",
      "     4833    0.002    0.000    0.024    0.000 {built-in method builtins.next}\n",
      "      254    0.002    0.000    0.024    0.000 frame.py:7953(_maybe_align_series_as_frame)\n",
      "     8385    0.009    0.000    0.024    0.000 numerictypes.py:357(issubdtype)\n",
      "     1778    0.005    0.000    0.024    0.000 array_ops.py:191(_na_arithmetic_op)\n",
      "    30737    0.009    0.000    0.024    0.000 base.py:71(<genexpr>)\n",
      "     4574    0.006    0.000    0.023    0.000 common.py:233(stringify_path)\n",
      "     4574    0.017    0.000    0.023    0.000 {pandas._libs.lib.is_all_arraylike}\n",
      "     9401    0.007    0.000    0.023    0.000 common.py:1562(validate_all_hashable)\n",
      "     1524    0.004    0.000    0.023    0.000 base.py:3945(_get_indexer)\n",
      "     4574    0.010    0.000    0.023    0.000 common.py:1155(_is_binary_mode)\n",
      "     2287    0.008    0.000    0.023    0.000 c_parser_wrapper.py:201(_set_noconvert_columns)\n",
      "     2542    0.011    0.000    0.023    0.000 validation.py:330(_num_samples)\n",
      "    10672    0.022    0.000    0.022    0.000 {built-in method numpy.array}\n",
      "     2542    0.004    0.000    0.022    0.000 _array_api.py:75(isdtype)\n",
      "    48279    0.016    0.000    0.022    0.000 construction.py:754(_maybe_repeat)\n",
      "   115354    0.019    0.000    0.022    0.000 {built-in method builtins.issubclass}\n",
      "    14228    0.013    0.000    0.022    0.000 series.py:653(name)\n",
      "     4064    0.018    0.000    0.022    0.000 cast.py:1724(np_can_hold_element)\n",
      "     1524    0.003    0.000    0.022    0.000 arraysetops.py:138(unique)\n",
      "     2795    0.006    0.000    0.022    0.000 series.py:581(_constructor_from_mgr)\n",
      "     1270    0.022    0.000    0.022    0.000 cleaning_utils.py:45(inverse_sigmoid)\n",
      "     6860    0.008    0.000    0.022    0.000 common.py:137(is_object_dtype)\n",
      "     4064    0.010    0.000    0.022    0.000 blocks.py:232(_standardize_fill_value)\n",
      "     2542    0.004    0.000    0.022    0.000 _config.py:196(config_context)\n",
      "      762    0.012    0.000    0.021    0.000 blocks.py:1630(delete)\n",
      "     1524    0.021    0.000    0.021    0.000 {method 'partition' of 'numpy.ndarray' objects}\n",
      "     4574    0.013    0.000    0.021    0.000 common.py:1194(is_potential_multi_index)\n",
      "     1016    0.003    0.000    0.021    0.000 indexing.py:931(_validate_tuple_indexer)\n",
      "     4829    0.011    0.000    0.021    0.000 warnings.py:181(_add_filter)\n",
      "     7876    0.012    0.000    0.021    0.000 blocks.py:2317(maybe_coerce_values)\n",
      "    17785    0.016    0.000    0.021    0.000 blocks.py:2346(get_block_type)\n",
      "    36588    0.014    0.000    0.021    0.000 inference.py:334(is_hashable)\n",
      "    32018    0.015    0.000    0.020    0.000 c_parser_wrapper.py:367(<listcomp>)\n",
      "     4064    0.020    0.000    0.020    0.000 blocks.py:1023(set_inplace)\n",
      "     4573    0.007    0.000    0.020    0.000 base.py:5153(_get_engine_target)\n",
      "     4319    0.007    0.000    0.020    0.000 construction.py:765(_try_cast)\n",
      "     2287    0.020    0.000    0.020    0.000 {built-in method pandas._libs.missing.isnaobj}\n",
      "     2287    0.020    0.000    0.020    0.000 {method 'close' of '_io.TextIOWrapper' objects}\n",
      "   192872    0.019    0.000    0.019    0.000 {method 'get' of 'dict' objects}\n",
      "    10166    0.017    0.000    0.019    0.000 _ufunc_config.py:132(geterr)\n",
      "     3813    0.009    0.000    0.018    0.000 _param_validation.py:583(__init__)\n",
      "     2287    0.010    0.000    0.018    0.000 parse.py:444(urlsplit)\n",
      "     2542    0.005    0.000    0.018    0.000 validation.py:1366(_is_fitted)\n",
      "     2287    0.018    0.000    0.018    0.000 common.py:1223(dedup_names)\n",
      "    12193    0.013    0.000    0.018    0.000 generic.py:562(_get_axis)\n",
      "     5084    0.011    0.000    0.018    0.000 inspect.py:2637(__init__)\n",
      "     1273    0.002    0.000    0.018    0.000 contextlib.py:139(__exit__)\n",
      "     8639    0.007    0.000    0.018    0.000 base.py:73(_validate_set_axis)\n",
      "    22611    0.016    0.000    0.018    0.000 construction.py:485(ensure_wrapped_if_datetimelike)\n",
      "     1524    0.014    0.000    0.018    0.000 arraysetops.py:323(_unique1d)\n",
      "     2541    0.004    0.000    0.018    0.000 missing.py:564(_array_equivalent_object)\n",
      "     8639    0.013    0.000    0.018    0.000 config.py:633(_get_root)\n",
      "     1016    0.006    0.000    0.017    0.000 base.py:1139(take)\n",
      "     1271    0.003    0.000    0.017    0.000 fromnumeric.py:2593(ptp)\n",
      "     4827    0.013    0.000    0.017    0.000 base.py:5300(__contains__)\n",
      "    10169    0.006    0.000    0.017    0.000 _config.py:32(get_config)\n",
      "    18802    0.011    0.000    0.017    0.000 common.py:1322(is_ea_or_datetimelike_dtype)\n",
      "    32018    0.012    0.000    0.017    0.000 c_parser_wrapper.py:370(<setcomp>)\n",
      "     5084    0.003    0.000    0.016    0.000 _array_api.py:82(<genexpr>)\n",
      "     1778    0.002    0.000    0.016    0.000 expressions.py:226(evaluate)\n",
      "     3813    0.006    0.000    0.016    0.000 _param_validation.py:591(is_satisfied_by)\n",
      "     7877    0.014    0.000    0.016    0.000 warnings.py:458(__enter__)\n",
      "     6861    0.006    0.000    0.016    0.000 common.py:173(_expand_user)\n",
      "    38623    0.011    0.000    0.015    0.000 range.py:963(__len__)\n",
      "     2542    0.010    0.000    0.015    0.000 _config.py:50(set_config)\n",
      "      254    0.002    0.000    0.015    0.000 generic.py:9853(align)\n",
      "    24390    0.015    0.000    0.015    0.000 flags.py:53(__init__)\n",
      "     1016    0.002    0.000    0.015    0.000 frame.py:5015(_sanitize_column)\n",
      "     2032    0.003    0.000    0.015    0.000 indexing.py:1536(_validate_key)\n",
      "     2286    0.004    0.000    0.015    0.000 take.py:565(_take_preprocess_indexer_and_fill_value)\n",
      "    12709    0.004    0.000    0.015    0.000 {built-in method posix.fspath}\n",
      "     3557    0.005    0.000    0.015    0.000 common.py:296(maybe_iterable_to_list)\n",
      "     8384    0.007    0.000    0.015    0.000 common.py:1425(_is_dtype_type)\n",
      "     1778    0.001    0.000    0.014    0.000 expressions.py:67(_evaluate_standard)\n",
      "     6859    0.010    0.000    0.014    0.000 managers.py:1812(from_blocks)\n",
      "     4064    0.005    0.000    0.014    0.000 indexing.py:1629(_validate_integer)\n",
      "    27941    0.014    0.000    0.014    0.000 blocks.py:1007(iget)\n",
      "     1271    0.003    0.000    0.014    0.000 validation.py:1404(check_is_fitted)\n",
      "     1271    0.005    0.000    0.014    0.000 _methods.py:218(_ptp)\n",
      "     4573    0.006    0.000    0.014    0.000 series.py:1372(_set_as_cached)\n",
      "    15252    0.011    0.000    0.014    0.000 _array_api.py:227(__getattr__)\n",
      "     3048    0.005    0.000    0.014    0.000 {method 'all' of 'numpy.generic' objects}\n",
      "    44210    0.010    0.000    0.014    0.000 common.py:1255(is_1d_only_ea_dtype)\n",
      "    12957    0.014    0.000    0.014    0.000 {method 'add_index_reference' of 'pandas._libs.internals.BlockValuesRefs' objects}\n",
      "     2542    0.008    0.000    0.014    0.000 _array_api.py:87(_isdtype_single)\n",
      "    16770    0.009    0.000    0.014    0.000 numerictypes.py:283(issubclass_)\n",
      "     8639    0.005    0.000    0.014    0.000 config.py:686(_warn_if_deprecated)\n",
      "    32018    0.014    0.000    0.014    0.000 c_parser_wrapper.py:369(<setcomp>)\n",
      "    25150    0.013    0.000    0.013    0.000 managers.py:1799(__init__)\n",
      "     1016    0.006    0.000    0.013    0.000 indexing.py:1578(_has_valid_setitem_indexer)\n",
      "   123236    0.013    0.000    0.013    0.000 typing.py:1737(cast)\n",
      "   114355    0.013    0.000    0.013    0.000 {method 'append' of 'list' objects}\n",
      "     5080    0.006    0.000    0.013    0.000 blocks.py:2483(ensure_block_shape)\n",
      "     2287    0.004    0.000    0.013    0.000 base_parser.py:361(_make_index)\n",
      "    16513    0.013    0.000    0.013    0.000 flags.py:89(allows_duplicate_labels)\n",
      "     5084    0.008    0.000    0.013    0.000 _array_api.py:70(_is_numpy_namespace)\n",
      "     2541    0.008    0.000    0.013    0.000 base.py:836(__iter__)\n",
      "    24647    0.008    0.000    0.013    0.000 inference.py:300(<genexpr>)\n",
      "      508    0.007    0.000    0.012    0.000 utils.py:239(maybe_convert_indices)\n",
      "      762    0.005    0.000    0.012    0.000 base.py:6134(_raise_if_missing)\n",
      "     2541    0.012    0.000    0.012    0.000 {pandas._libs.lib.array_equivalent_object}\n",
      "     3811    0.011    0.000    0.012    0.000 blocks.py:639(copy)\n",
      "    36591    0.012    0.000    0.012    0.000 {built-in method __new__ of type object at 0x740500}\n",
      "    33786    0.012    0.000    0.012    0.000 __init__.py:33(using_copy_on_write)\n",
      "      762    0.008    0.000    0.012    0.000 generic.py:2119(__setstate__)\n",
      "     3048    0.005    0.000    0.012    0.000 indexing.py:1614(_is_scalar_access)\n",
      "    17278    0.012    0.000    0.012    0.000 config.py:647(_get_deprecated_option)\n",
      "     1524    0.012    0.000    0.012    0.000 {method 'get_indexer' of 'pandas._libs.index.IndexEngine' objects}\n",
      "     1779    0.002    0.000    0.012    0.000 series.py:708(values)\n",
      "     7877    0.005    0.000    0.012    0.000 blocks.py:192(_can_consolidate)\n",
      "     5081    0.006    0.000    0.012    0.000 base.py:3763(get_loc)\n",
      "      254    0.001    0.000    0.011    0.000 indexing.py:2545(check_bool_indexer)\n",
      "     6353    0.011    0.000    0.011    0.000 {built-in method builtins.sorted}\n",
      "     2287    0.011    0.000    0.011    0.000 {built-in method builtins.locals}\n",
      "     1781    0.002    0.000    0.011    0.000 pathlib.py:631(__fspath__)\n",
      "     9401    0.011    0.000    0.011    0.000 base.py:574(_ensure_array)\n",
      "     7875    0.008    0.000    0.011    0.000 blocks.py:2467(extend_blocks)\n",
      "     3810    0.002    0.000    0.011    0.000 base.py:6239(_index_as_unique)\n",
      "    18802    0.006    0.000    0.011    0.000 common.py:1581(<genexpr>)\n",
      "     1524    0.001    0.000    0.011    0.000 base.py:6343(_is_comparable_dtype)\n",
      "     2287    0.009    0.000    0.011    0.000 readers.py:1925(_refine_defaults_read)\n",
      "      762    0.002    0.000    0.011    0.000 ops.py:29(_iter_block_pairs)\n",
      "      254    0.001    0.000    0.011    0.000 frame.py:8013(_construct_result)\n",
      "     2542    0.006    0.000    0.011    0.000 validation.py:1398(<listcomp>)\n",
      "     5081    0.002    0.000    0.010    0.000 managers.py:896(__init__)\n",
      "     5084    0.004    0.000    0.010    0.000 _array_api.py:289(get_namespace)\n",
      "     7620    0.003    0.000    0.010    0.000 utils.py:62(is_list_like_indexer)\n",
      "      254    0.002    0.000    0.010    0.000 array_ops.py:290(comparison_op)\n",
      "      254    0.001    0.000    0.010    0.000 generic.py:10191(_align_series)\n",
      "     3049    0.007    0.000    0.010    0.000 range.py:198(_simple_new)\n",
      "     9145    0.010    0.000    0.010    0.000 {method 'reshape' of 'numpy.ndarray' objects}\n",
      "    34050    0.010    0.000    0.010    0.000 {pandas._libs.lib.dtypes_all_equal}\n",
      "     3048    0.003    0.000    0.010    0.000 missing.py:696(is_valid_na_for_dtype)\n",
      "     1779    0.004    0.000    0.010    0.000 managers.py:1956(external_values)\n",
      "     2032    0.010    0.000    0.010    0.000 cast.py:1359(np_find_common_type)\n",
      "     7369    0.008    0.000    0.010    0.000 _asarray.py:108(<setcomp>)\n",
      "     1271    0.004    0.000    0.010    0.000 _data.py:87(_handle_zeros_in_scale)\n",
      "     5340    0.006    0.000    0.010    0.000 pathlib.py:865(parent)\n",
      "        1    0.000    0.000    0.010    0.010 causal_insight_slim.py:47(slider_values_to_interventions)\n",
      "     1271    0.006    0.000    0.010    0.000 inspect.py:2920(__init__)\n",
      "    12711    0.005    0.000    0.009    0.000 _config.py:24(_get_threadlocal_config)\n",
      "     1524    0.003    0.000    0.009    0.000 common.py:1066(is_numeric_dtype)\n",
      "     2287    0.004    0.000    0.009    0.000 common.py:277(is_fsspec_url)\n",
      "     1778    0.008    0.000    0.009    0.000 cast.py:550(maybe_promote)\n",
      "     1778    0.003    0.000    0.009    0.000 base.py:5392(_getitem_slice)\n",
      "     6861    0.006    0.000    0.009    0.000 posixpath.py:229(expanduser)\n",
      "     8639    0.009    0.000    0.009    0.000 generic.py:6189(__getattr__)\n",
      "    64292    0.009    0.000    0.009    0.000 {method 'pop' of 'dict' objects}\n",
      "     3048    0.001    0.000    0.009    0.000 _methods.py:61(_all)\n",
      "     1781    0.005    0.000    0.009    0.000 pathlib.py:621(__str__)\n",
      "     2287    0.002    0.000    0.009    0.000 base_parser.py:349(_maybe_make_multi_index_columns)\n",
      "      254    0.003    0.000    0.009    0.000 construction.py:237(ndarray_to_mgr)\n",
      "     4573    0.004    0.000    0.009    0.000 base.py:61(__len__)\n",
      "    46234    0.009    0.000    0.009    0.000 {pandas._libs.lib.is_integer}\n",
      "     5588    0.002    0.000    0.009    0.000 inference.py:195(is_array_like)\n",
      "     7877    0.008    0.000    0.009    0.000 warnings.py:477(__exit__)\n",
      "     2794    0.005    0.000    0.009    0.000 _dtype.py:346(_name_get)\n",
      "     6355    0.005    0.000    0.009    0.000 _array_api.py:247(asarray)\n",
      "     1273    0.001    0.000    0.008    0.000 contextlib.py:130(__enter__)\n",
      "     2287    0.005    0.000    0.008    0.000 base_parser.py:861(_do_date_conversions)\n",
      "     1524    0.003    0.000    0.008    0.000 base.py:6251(_maybe_promote)\n",
      "      254    0.003    0.000    0.008    0.000 range.py:1110(take)\n",
      "      762    0.002    0.000    0.008    0.000 managers.py:918(_verify_integrity)\n",
      "    10166    0.008    0.000    0.008    0.000 {built-in method numpy.seterrobj}\n",
      "     7877    0.008    0.000    0.008    0.000 warnings.py:437(__init__)\n",
      "     2802    0.002    0.000    0.008    0.000 _dill.py:426(find_class)\n",
      "     1016    0.003    0.000    0.008    0.000 indexing.py:2244(_ensure_iterable_column_indexer)\n",
      "    11439    0.006    0.000    0.008    0.000 _param_validation.py:292(__init__)\n",
      "     1778    0.002    0.000    0.008    0.000 base.py:798(tolist)\n",
      "     6858    0.008    0.000    0.008    0.000 {method 'copy' of 'numpy.ndarray' objects}\n",
      "    34299    0.008    0.000    0.008    0.000 {pandas._libs.lib.is_np_dtype}\n",
      "    32018    0.008    0.000    0.008    0.000 concat.py:73(<listcomp>)\n",
      "     2541    0.001    0.000    0.008    0.000 series.py:821(__len__)\n",
      "    17273    0.005    0.000    0.007    0.000 common.py:367(apply_if_callable)\n",
      "     9401    0.006    0.000    0.007    0.000 base.py:592(_dtype_to_subclass)\n",
      "    38888    0.007    0.000    0.007    0.000 {method 'endswith' of 'str' objects}\n",
      "     1016    0.001    0.000    0.007    0.000 series.py:5821(_align_for_op)\n",
      "    14231    0.007    0.000    0.007    0.000 fromnumeric.py:72(<dictcomp>)\n",
      "    41415    0.007    0.000    0.007    0.000 {built-in method builtins.hash}\n",
      "     2287    0.006    0.000    0.007    0.000 base_parser.py:600(_set_noconvert_dtype_columns)\n",
      "     1270    0.002    0.000    0.007    0.000 blocks.py:2375(new_block_2d)\n",
      "      762    0.001    0.000    0.007    0.000 fromnumeric.py:2692(max)\n",
      "     8385    0.005    0.000    0.007    0.000 blocks.py:187(is_extension)\n",
      "     4829    0.007    0.000    0.007    0.000 {method 'remove' of 'list' objects}\n",
      "     1272    0.002    0.000    0.007    0.000 base.py:374(_check_n_features)\n",
      "     3049    0.004    0.000    0.007    0.000 common.py:185(all_none)\n",
      "     1016    0.002    0.000    0.007    0.000 frame.py:12292(_reindex_for_setitem)\n",
      "    10416    0.005    0.000    0.007    0.000 common.py:149(cast_scalar_indexer)\n",
      "     2540    0.007    0.000    0.007    0.000 {built-in method numpy.arange}\n",
      "     1270    0.002    0.000    0.007    0.000 frame.py:641(_constructor_from_mgr)\n",
      "     1528    0.002    0.000    0.007    0.000 _dill.py:946(_create_array)\n",
      "     4318    0.007    0.000    0.007    0.000 {method 'flatten' of 'numpy.ndarray' objects}\n",
      "      254    0.002    0.000    0.007    0.000 utils.py:419(check_array_indexer)\n",
      "    16006    0.007    0.000    0.007    0.000 base.py:831(_reset_identity)\n",
      "     5334    0.003    0.000    0.007    0.000 frame.py:1539(__len__)\n",
      "     1524    0.005    0.000    0.007    0.000 function_base.py:4619(_get_gamma)\n",
      "    17030    0.007    0.000    0.007    0.000 {method 'copy' of 'dict' objects}\n",
      "    16512    0.007    0.000    0.007    0.000 generic.py:548(_get_axis_number)\n",
      "     1016    0.002    0.000    0.007    0.000 series.py:1139(_get_value)\n",
      "     1273    0.002    0.000    0.006    0.000 contextlib.py:279(helper)\n",
      "      508    0.006    0.000    0.006    0.000 {built-in method builtins.round}\n",
      "      762    0.006    0.000    0.006    0.000 roperator.py:10(radd)\n",
      "     1270    0.006    0.000    0.006    0.000 _methods.py:67(_count_reduce_items)\n",
      "    33026    0.006    0.000    0.006    0.000 generic.py:393(flags)\n",
      "      762    0.001    0.000    0.006    0.000 {method 'sum' of 'numpy.ndarray' objects}\n",
      "    19558    0.006    0.000    0.006    0.000 {built-in method numpy.asanyarray}\n",
      "     2802    0.006    0.000    0.006    0.000 {function Unpickler.find_class at 0x7de521e46a70}\n",
      "     8639    0.003    0.000    0.006    0.000 config.py:674(_translate_key)\n",
      "     1778    0.003    0.000    0.006    0.000 base.py:4190(_validate_positional_slice)\n",
      "     1016    0.002    0.000    0.006    0.000 utils.py:290(length_of_indexer)\n",
      "    19308    0.006    0.000    0.006    0.000 {pandas._libs.lib.is_scalar}\n",
      "     1271    0.003    0.000    0.006    0.000 numeric.py:1855(isscalar)\n",
      "    11180    0.006    0.000    0.006    0.000 __init__.py:43(using_pyarrow_string_dtype)\n",
      "     1779    0.002    0.000    0.006    0.000 blocks.py:222(external_values)\n",
      "     4064    0.002    0.000    0.006    0.000 base.py:301(array)\n",
      "    35066    0.006    0.000    0.006    0.000 multiarray.py:153(concatenate)\n",
      "     6860    0.004    0.000    0.006    0.000 common.py:91(ensure_python_int)\n",
      "     1016    0.002    0.000    0.006    0.000 algorithms.py:1211(take)\n",
      "     4574    0.002    0.000    0.006    0.000 base.py:5635(<genexpr>)\n",
      "    26167    0.005    0.000    0.005    0.000 {pandas._libs.lib.is_iterator}\n",
      "    10419    0.005    0.000    0.005    0.000 {method 'split' of 'str' objects}\n",
      "    18291    0.005    0.000    0.005    0.000 managers.py:1902(_block)\n",
      "      254    0.000    0.000    0.005    0.000 stride_tricks.py:367(broadcast_to)\n",
      "     3049    0.004    0.000    0.005    0.000 base.py:459(_engine_type)\n",
      "     1270    0.001    0.000    0.005    0.000 common.py:81(get_op_result_name)\n",
      "     5084    0.004    0.000    0.005    0.000 enum.py:359(__call__)\n",
      "      762    0.001    0.000    0.005    0.000 _methods.py:47(_sum)\n",
      "     1272    0.004    0.000    0.005    0.000 validation.py:277(_num_features)\n",
      "     7113    0.004    0.000    0.005    0.000 base.py:791(is_)\n",
      "     8639    0.005    0.000    0.005    0.000 config.py:615(_select_options)\n",
      "     6096    0.004    0.000    0.005    0.000 frame.py:4399(_clear_item_cache)\n",
      "    17540    0.005    0.000    0.005    0.000 {method 'startswith' of 'str' objects}\n",
      "      254    0.003    0.000    0.005    0.000 construction.py:638(_extract_index)\n",
      "     1271    0.003    0.000    0.005    0.000 inspect.py:612(unwrap)\n",
      "     9148    0.005    0.000    0.005    0.000 common.py:1219(<genexpr>)\n",
      "    10418    0.004    0.000    0.005    0.000 construction.py:687(_sanitize_non_ordered)\n",
      "      254    0.004    0.000    0.005    0.000 stride_tricks.py:340(_broadcast_to)\n",
      "     1524    0.005    0.000    0.005    0.000 function_base.py:110(<lambda>)\n",
      "    12460    0.005    0.000    0.005    0.000 {built-in method sys.intern}\n",
      "     1271    0.004    0.000    0.005    0.000 base.py:161(<listcomp>)\n",
      "     1780    0.003    0.000    0.005    0.000 pathlib.py:239(splitroot)\n",
      "     2287    0.005    0.000    0.005    0.000 {method 'match' of 're.Pattern' objects}\n",
      "     2287    0.002    0.000    0.005    0.000 readers.py:1502(_check_file_or_buffer)\n",
      "     2287    0.002    0.000    0.005    0.000 common.py:503(get_compression_method)\n",
      "     1273    0.004    0.000    0.005    0.000 contextlib.py:102(__init__)\n",
      "     4064    0.004    0.000    0.005    0.000 utils.py:123(check_setitem_lengths)\n",
      "     1778    0.001    0.000    0.005    0.000 dispatch.py:17(should_extension_dispatch)\n",
      "     4574    0.004    0.000    0.005    0.000 parse.py:122(_coerce_args)\n",
      "     5080    0.005    0.000    0.005    0.000 {method 'astype' of 'numpy.ndarray' objects}\n",
      "     7626    0.003    0.000    0.004    0.000 _param_validation.py:602(<genexpr>)\n",
      "     2287    0.004    0.000    0.004    0.000 c_parser_wrapper.py:212(<dictcomp>)\n",
      "     2287    0.004    0.000    0.004    0.000 c_parser_wrapper.py:330(<dictcomp>)\n",
      "    16513    0.004    0.000    0.004    0.000 generic.py:358(attrs)\n",
      "      762    0.004    0.000    0.004    0.000 {built-in method _operator.sub}\n",
      "     6096    0.003    0.000    0.004    0.000 indexing.py:1144(<genexpr>)\n",
      "     2540    0.003    0.000    0.004    0.000 generic.py:4314(_set_is_copy)\n",
      "      763    0.001    0.000    0.004    0.000 {method 'max' of 'numpy.ndarray' objects}\n",
      "     1779    0.003    0.000    0.004    0.000 blocks.py:2586(external_values)\n",
      "     4574    0.003    0.000    0.004    0.000 inference.py:105(is_file_like)\n",
      "    24390    0.004    0.000    0.004    0.000 base.py:5127(_values)\n",
      "     5081    0.004    0.000    0.004    0.000 {method 'get_loc' of 'pandas._libs.index.IndexEngine' objects}\n",
      "      508    0.001    0.000    0.004    0.000 blocks.py:387(_split_op_result)\n",
      "     6858    0.004    0.000    0.004    0.000 indexing.py:150(iloc)\n",
      "     1271    0.003    0.000    0.004    0.000 inspect.py:66(get_annotations)\n",
      "    19311    0.004    0.000    0.004    0.000 multiarray.py:1080(copyto)\n",
      "    13971    0.004    0.000    0.004    0.000 managers.py:185(blklocs)\n",
      "     1016    0.001    0.000    0.004    0.000 indexing.py:948(_is_nested_tuple_indexer)\n",
      "     2287    0.003    0.000    0.004    0.000 base_parser.py:278(_extract_multi_indexer_columns)\n",
      "     1778    0.002    0.000    0.004    0.000 blocks.py:226(fill_value)\n",
      "    12451    0.004    0.000    0.004    0.000 codecs.py:331(getstate)\n",
      "     2287    0.003    0.000    0.004    0.000 copy.py:66(copy)\n",
      "     2287    0.003    0.000    0.004    0.000 codecs.py:309(__init__)\n",
      "     2287    0.003    0.000    0.004    0.000 common.py:1107(_maybe_memory_map)\n",
      "    29977    0.004    0.000    0.004    0.000 {built-in method builtins.callable}\n",
      "    27699    0.004    0.000    0.004    0.000 {method 'items' of 'dict' objects}\n",
      "    32018    0.004    0.000    0.004    0.000 {method 'pop' of 'set' objects}\n",
      "     1524    0.002    0.000    0.004    0.000 base.py:3990(_check_indexing_method)\n",
      "     3049    0.003    0.000    0.004    0.000 common.py:1025(needs_i8_conversion)\n",
      "    12957    0.004    0.000    0.004    0.000 blocks.py:583(dtype)\n",
      "      254    0.001    0.000    0.004    0.000 construction.py:481(<listcomp>)\n",
      "      254    0.000    0.000    0.004    0.000 managers.py:569(<listcomp>)\n",
      "     2542    0.001    0.000    0.004    0.000 abc.py:121(__subclasscheck__)\n",
      "    20332    0.004    0.000    0.004    0.000 {built-in method numpy.geterrobj}\n",
      "     2287    0.003    0.000    0.004    0.000 types.py:176(__get__)\n",
      "     5334    0.004    0.000    0.004    0.000 {built-in method pandas._libs.missing.checknull}\n",
      "     2287    0.003    0.000    0.004    0.000 base_parser.py:1247(_process_date_conversion)\n",
      "     5080    0.004    0.000    0.004    0.000 {pandas._libs.internals.get_blkno_placements}\n",
      "     6355    0.003    0.000    0.004    0.000 inspect.py:2969(<genexpr>)\n",
      "     2287    0.003    0.000    0.004    0.000 common.py:192(validate_header_arg)\n",
      "     9144    0.003    0.000    0.004    0.000 indexing.py:1627(<genexpr>)\n",
      "     1780    0.003    0.000    0.004    0.000 pathlib.py:608(_format_parsed_parts)\n",
      "      508    0.000    0.000    0.004    0.000 managers.py:566(copy_func)\n",
      "      763    0.000    0.000    0.004    0.000 _methods.py:39(_amax)\n",
      "     4064    0.002    0.000    0.003    0.000 managers.py:282(arrays)\n",
      "     5340    0.003    0.000    0.003    0.000 pathlib.py:600(_from_parsed_parts)\n",
      "     9144    0.003    0.000    0.003    0.000 indexing.py:2685(<genexpr>)\n",
      "    15252    0.003    0.000    0.003    0.000 _param_validation.py:260(__init__)\n",
      "      508    0.002    0.000    0.003    0.000 blocks.py:247(make_block)\n",
      "     5080    0.003    0.000    0.003    0.000 common.py:306(is_null_slice)\n",
      "     2032    0.001    0.000    0.003    0.000 series.py:626(dtype)\n",
      "    20583    0.003    0.000    0.003    0.000 {built-in method _warnings._filters_mutated}\n",
      "    16513    0.003    0.000    0.003    0.000 flags.py:57(allows_duplicate_labels)\n",
      "     3048    0.002    0.000    0.003    0.000 generic.py:46(_subclasscheck)\n",
      "     5334    0.002    0.000    0.003    0.000 base.py:6625(_validate_indexer)\n",
      "     2287    0.003    0.000    0.003    0.000 {built-in method _codecs.lookup}\n",
      "     2542    0.002    0.000    0.003    0.000 validation.py:581(_ensure_no_complex_data)\n",
      "     2287    0.003    0.000    0.003    0.000 base_parser.py:1113(_make_date_converter)\n",
      "     9909    0.003    0.000    0.003    0.000 base.py:974(dtype)\n",
      "     4826    0.003    0.000    0.003    0.000 managers.py:1107(value_getitem)\n",
      "     2286    0.001    0.000    0.003    0.000 base.py:2756(_is_multi)\n",
      "     1272    0.002    0.000    0.003    0.000 base.py:420(_check_feature_names)\n",
      "     4064    0.003    0.000    0.003    0.000 blocks.py:342(should_store)\n",
      "      508    0.001    0.000    0.003    0.000 base.py:1010(view)\n",
      "    20583    0.003    0.000    0.003    0.000 {method 'lower' of 'str' objects}\n",
      "     6860    0.002    0.000    0.003    0.000 common.py:123(<lambda>)\n",
      "     3048    0.002    0.000    0.003    0.000 cast.py:921(_maybe_infer_dtype_type)\n",
      "     2287    0.001    0.000    0.003    0.000 <string>:1(<lambda>)\n",
      "     1778    0.003    0.000    0.003    0.000 blocks.py:265(make_block_same_class)\n",
      "     4064    0.003    0.000    0.003    0.000 frame.py:949(axes)\n",
      "     3048    0.002    0.000    0.003    0.000 indexing.py:878(<genexpr>)\n",
      "     2287    0.003    0.000    0.003    0.000 c_parser_wrapper.py:213(<listcomp>)\n",
      "     1270    0.003    0.000    0.003    0.000 array_ops.py:509(maybe_prepare_scalar_for_op)\n",
      "     7112    0.002    0.000    0.003    0.000 cast.py:1430(<genexpr>)\n",
      "     1524    0.001    0.000    0.003    0.000 common.py:1366(_is_dtype)\n",
      "     1271    0.002    0.000    0.003    0.000 <frozen importlib._bootstrap>:404(parent)\n",
      "    13722    0.003    0.000    0.003    0.000 {method 'replace' of 'str' objects}\n",
      "     1016    0.001    0.000    0.003    0.000 series.py:995(_ixs)\n",
      "     2542    0.003    0.000    0.003    0.000 {built-in method _abc._abc_subclasscheck}\n",
      "     2287    0.002    0.000    0.003    0.000 base.py:510(find)\n",
      "     2032    0.003    0.000    0.003    0.000 managers.py:967(<listcomp>)\n",
      "     2287    0.003    0.000    0.003    0.000 <string>:2(__init__)\n",
      "     2287    0.002    0.000    0.003    0.000 c_parser_wrapper.py:392(ensure_dtype_objs)\n",
      "     1016    0.001    0.000    0.003    0.000 indexing.py:2651(is_label_like)\n",
      "     2287    0.002    0.000    0.003    0.000 base_parser.py:1404(_validate_parse_dates_arg)\n",
      "     5083    0.003    0.000    0.003    0.000 _ufunc_config.py:426(__init__)\n",
      "     1524    0.002    0.000    0.003    0.000 base.py:7651(_unpack_nested_dtype)\n",
      "     1270    0.002    0.000    0.003    0.000 managers.py:2268(_preprocess_slice_or_indexer)\n",
      "     9144    0.002    0.000    0.003    0.000 indexing.py:2694(<genexpr>)\n",
      "     1778    0.003    0.000    0.003    0.000 missing.py:131(dispatch_fill_zeros)\n",
      "     2286    0.003    0.000    0.003    0.000 take.py:326(_get_take_nd_function)\n",
      "     1528    0.002    0.000    0.002    0.000 {method '__setstate__' of 'numpy.ndarray' objects}\n",
      "      254    0.002    0.000    0.002    0.000 {built-in method _operator.eq}\n",
      "     6096    0.002    0.000    0.002    0.000 indexing.py:1143(<genexpr>)\n",
      "     1528    0.002    0.000    0.002    0.000 {built-in method numpy.core.multiarray._reconstruct}\n",
      "     2287    0.002    0.000    0.002    0.000 c_parser_wrapper.py:326(<listcomp>)\n",
      "     2287    0.002    0.000    0.002    0.000 base_parser.py:883(_check_data_length)\n",
      "      508    0.001    0.000    0.002    0.000 common.py:1183(is_bool_dtype)\n",
      "     4068    0.002    0.000    0.002    0.000 posixpath.py:41(_get_sep)\n",
      "     4064    0.002    0.000    0.002    0.000 cast.py:1439(<genexpr>)\n",
      "    13464    0.002    0.000    0.002    0.000 {pandas._libs.lib.is_float}\n",
      "     5084    0.002    0.000    0.002    0.000 _base.py:1461(issparse)\n",
      "      762    0.001    0.000    0.002    0.000 base.py:4441(_wrap_reindex_result)\n",
      "     1016    0.002    0.000    0.002    0.000 {method 'take' of 'numpy.ndarray' objects}\n",
      "      508    0.001    0.000    0.002    0.000 base.py:773(_view)\n",
      "     4829    0.002    0.000    0.002    0.000 {method 'insert' of 'list' objects}\n",
      "     1271    0.002    0.000    0.002    0.000 getlimits.py:484(__new__)\n",
      "     9399    0.002    0.000    0.002    0.000 {pandas._libs.lib.item_from_zerodim}\n",
      "     2287    0.002    0.000    0.002    0.000 base_parser.py:254(_has_complex_date_col)\n",
      "     1270    0.002    0.000    0.002    0.000 managers.py:931(from_blocks)\n",
      "    10160    0.002    0.000    0.002    0.000 blocks.py:239(mgr_locs)\n",
      "     2542    0.002    0.000    0.002    0.000 {built-in method builtins.vars}\n",
      "     1016    0.001    0.000    0.002    0.000 indexing.py:909(_expand_ellipsis)\n",
      "     6860    0.002    0.000    0.002    0.000 common.py:121(classes)\n",
      "     2287    0.002    0.000    0.002    0.000 _validators.py:226(validate_bool_kwarg)\n",
      "     1778    0.002    0.000    0.002    0.000 missing.py:642(na_value_for_dtype)\n",
      "     2032    0.002    0.000    0.002    0.000 managers.py:1949(dtype)\n",
      "      508    0.002    0.000    0.002    0.000 {pandas._libs.algos.take_1d_int64_int64}\n",
      "     5082    0.002    0.000    0.002    0.000 base.py:539(<genexpr>)\n",
      "      256    0.002    0.000    0.002    0.000 _dill.py:434(__init__)\n",
      "     1016    0.002    0.000    0.002    0.000 range.py:973(__getitem__)\n",
      "      254    0.001    0.000    0.002    0.000 managers.py:1246(_iset_single)\n",
      "     6355    0.002    0.000    0.002    0.000 _array_api.py:170(_check_device_cpu)\n",
      "      508    0.001    0.000    0.002    0.000 blocks.py:323(getitem_block_columns)\n",
      "     2795    0.002    0.000    0.002    0.000 construction.py:196(mgr_to_mgr)\n",
      "     4318    0.002    0.000    0.002    0.000 generic.py:659(ndim)\n",
      "     2542    0.001    0.000    0.002    0.000 validation.py:639(_is_extension_array_dtype)\n",
      "     7113    0.002    0.000    0.002    0.000 managers.py:335(<dictcomp>)\n",
      "     2287    0.002    0.000    0.002    0.000 readers.py:1850(_clean_na_values)\n",
      "     4321    0.002    0.000    0.002    0.000 {method 'lstrip' of 'str' objects}\n",
      "     2287    0.002    0.000    0.002    0.000 _validators.py:450(check_dtype_backend)\n",
      "     3048    0.001    0.000    0.002    0.000 indexing.py:877(<genexpr>)\n",
      "     1524    0.002    0.000    0.002    0.000 {method 'sort' of 'numpy.ndarray' objects}\n",
      "     1271    0.002    0.000    0.002    0.000 {built-in method numpy.zeros}\n",
      "     5589    0.002    0.000    0.002    0.000 managers.py:235(items)\n",
      "     4064    0.001    0.000    0.002    0.000 common.py:338(is_full_slice)\n",
      "      762    0.001    0.000    0.002    0.000 base.py:4445(_maybe_preserve_names)\n",
      "     7112    0.002    0.000    0.002    0.000 cast.py:1446(<genexpr>)\n",
      "    10418    0.002    0.000    0.002    0.000 series.py:1381(_clear_item_cache)\n",
      "      254    0.002    0.000    0.002    0.000 {pandas._libs.algos.take_2d_axis0_int64_int64}\n",
      "     7368    0.002    0.000    0.002    0.000 {method 'keys' of 'dict' objects}\n",
      "      762    0.001    0.000    0.002    0.000 {built-in method builtins.sum}\n",
      "     5082    0.002    0.000    0.002    0.000 {pandas._libs.algos.ensure_object}\n",
      "     7368    0.002    0.000    0.002    0.000 base.py:1657(name)\n",
      "    13981    0.002    0.000    0.002    0.000 inspect.py:2687(name)\n",
      "     2032    0.002    0.000    0.002    0.000 {built-in method fromkeys}\n",
      "     5084    0.002    0.000    0.002    0.000 {method 'isidentifier' of 'str' objects}\n",
      "     2287    0.001    0.000    0.002    0.000 readers.py:2153(_validate_skipfooter)\n",
      "     2287    0.002    0.000    0.002    0.000 {built-in method _codecs.lookup_error}\n",
      "     1271    0.001    0.000    0.002    0.000 base.py:176(<listcomp>)\n",
      "     7369    0.002    0.000    0.002    0.000 {method 'upper' of 'str' objects}\n",
      "     6861    0.002    0.000    0.002    0.000 base_parser.py:1425(is_index_col)\n",
      "     2542    0.001    0.000    0.002    0.000 inspect.py:277(isfunction)\n",
      "     1016    0.001    0.000    0.002    0.000 frame.py:4361(_ensure_valid_index)\n",
      "     6098    0.002    0.000    0.002    0.000 common.py:189(<genexpr>)\n",
      "     6096    0.002    0.000    0.002    0.000 {method 'clear' of 'dict' objects}\n",
      "     7626    0.002    0.000    0.002    0.000 fromnumeric.py:2172(_sum_dispatcher)\n",
      "      508    0.001    0.000    0.001    0.000 {pandas._libs.algos.take_1d_object_object}\n",
      "     2287    0.001    0.000    0.001    0.000 common.py:514(is_string_or_object_np_dtype)\n",
      "     8130    0.001    0.000    0.001    0.000 series.py:577(_constructor)\n",
      "     2287    0.001    0.000    0.001    0.000 readers.py:2055(_extract_dialect)\n",
      "     2794    0.001    0.000    0.001    0.000 _dtype.py:330(_name_includes_bit_suffix)\n",
      "     4067    0.001    0.000    0.001    0.000 {method 'join' of 'str' objects}\n",
      "      254    0.001    0.000    0.001    0.000 common.py:103(_maybe_match_name)\n",
      "     4064    0.001    0.000    0.001    0.000 common.py:318(is_empty_slice)\n",
      "     2542    0.001    0.000    0.001    0.000 validation.py:591(_check_estimator_name)\n",
      "     1016    0.001    0.000    0.001    0.000 generic.py:568(_get_block_manager_axis)\n",
      "     2032    0.001    0.000    0.001    0.000 common.py:1390(_get_dtype)\n",
      "     2287    0.001    0.000    0.001    0.000 {built-in method sys.getfilesystemencoding}\n",
      "     2032    0.001    0.000    0.001    0.000 indexing.py:966(_validate_key_length)\n",
      "     7366    0.001    0.000    0.001    0.000 {pandas._libs.algos.ensure_platform_int}\n",
      "     4064    0.001    0.000    0.001    0.000 cast.py:1441(<genexpr>)\n",
      "     2287    0.001    0.000    0.001    0.000 base_parser.py:234(<setcomp>)\n",
      "     3813    0.001    0.000    0.001    0.000 _param_validation.py:296(is_satisfied_by)\n",
      "     2794    0.001    0.000    0.001    0.000 _dtype.py:24(_kind_name)\n",
      "     1271    0.001    0.000    0.001    0.000 _data.py:801(_reset)\n",
      "     2795    0.001    0.000    0.001    0.000 function.py:64(__call__)\n",
      "      254    0.001    0.000    0.001    0.000 managers.py:2042(create_block_manager_from_blocks)\n",
      "      508    0.001    0.000    0.001    0.000 ops.py:108(_get_same_shape_values)\n",
      "      508    0.001    0.000    0.001    0.000 ops.py:96(_reset_block_mgr_locs)\n",
      "     4574    0.001    0.000    0.001    0.000 readers.py:518(validate_integer)\n",
      "     3048    0.001    0.000    0.001    0.000 indexing.py:955(<genexpr>)\n",
      "     2287    0.001    0.000    0.001    0.000 {method 'encode' of 'str' objects}\n",
      "      508    0.001    0.000    0.001    0.000 {pandas._libs.algos.take_2d_axis0_object_object}\n",
      "      508    0.001    0.000    0.001    0.000 indexing.py:1188(_validate_key)\n",
      "      256    0.001    0.000    0.001    0.000 {method '__exit__' of '_io._IOBase' objects}\n",
      "     1778    0.001    0.000    0.001    0.000 {method 'tolist' of 'numpy.ndarray' objects}\n",
      "     1778    0.001    0.000    0.001    0.000 managers.py:230(is_single_block)\n",
      "     2287    0.001    0.000    0.001    0.000 {method 'update' of 'dict' objects}\n",
      "     5084    0.001    0.000    0.001    0.000 enum.py:678(__new__)\n",
      "      254    0.001    0.000    0.001    0.000 array_ops.py:466(get_array_op)\n",
      "     3811    0.001    0.000    0.001    0.000 missing.py:971(clean_reindex_fill_method)\n",
      "      508    0.001    0.000    0.001    0.000 frame.py:966(shape)\n",
      "     4064    0.001    0.000    0.001    0.000 managers.py:294(<listcomp>)\n",
      "     1271    0.001    0.000    0.001    0.000 _data.py:796(__init__)\n",
      "      762    0.001    0.000    0.001    0.000 generic.py:389(attrs)\n",
      "     1524    0.001    0.000    0.001    0.000 arraysetops.py:125(_unpack_tuple)\n",
      "     2287    0.001    0.000    0.001    0.000 base_parser.py:976(_validate_usecols_arg)\n",
      "     1524    0.001    0.000    0.001    0.000 managers.py:920(<genexpr>)\n",
      "     3049    0.001    0.000    0.001    0.000 range.py:213(_validate_dtype)\n",
      "      762    0.001    0.000    0.001    0.000 {method 'has_reference' of 'pandas._libs.internals.BlockValuesRefs' objects}\n",
      "     1272    0.001    0.000    0.001    0.000 validation.py:1987(_get_feature_names)\n",
      "     4064    0.001    0.000    0.001    0.000 blocks.py:654(_maybe_copy)\n",
      "     4574    0.001    0.000    0.001    0.000 {pandas._libs.lib.is_bool}\n",
      "     2287    0.001    0.000    0.001    0.000 codecs.py:260(__init__)\n",
      "     1016    0.001    0.000    0.001    0.000 generic.py:4337(_check_setitem_copy)\n",
      "      762    0.001    0.000    0.001    0.000 base.py:2774(_na_value)\n",
      "     1271    0.001    0.000    0.001    0.000 {method 'values' of 'mappingproxy' objects}\n",
      "      254    0.000    0.000    0.001    0.000 {method 'min' of 'numpy.ndarray' objects}\n",
      "      508    0.001    0.000    0.001    0.000 range.py:409(get_loc)\n",
      "     5081    0.001    0.000    0.001    0.000 base.py:6612(_maybe_cast_indexer)\n",
      "     1016    0.001    0.000    0.001    0.000 indexing.py:1735(_get_setitem_indexer)\n",
      "     1271    0.001    0.000    0.001    0.000 inspect.py:191(isclass)\n",
      "     5334    0.001    0.000    0.001    0.000 {pandas._libs.lib.is_int_or_none}\n",
      "     3048    0.001    0.000    0.001    0.000 {method 'ravel' of 'numpy.ndarray' objects}\n",
      "     1271    0.001    0.000    0.001    0.000 inspect.py:632(_is_wrapper)\n",
      "      254    0.001    0.000    0.001    0.000 causal_insight_slim.py:392(<listcomp>)\n",
      "     5080    0.001    0.000    0.001    0.000 base.py:363(ndim)\n",
      "     2287    0.001    0.000    0.001    0.000 enum.py:801(value)\n",
      "      254    0.000    0.000    0.001    0.000 missing.py:380(notna)\n",
      "     5081    0.001    0.000    0.001    0.000 managers.py:1790(ndim)\n",
      "     1524    0.001    0.000    0.001    0.000 common.py:131(<lambda>)\n",
      "     2287    0.001    0.000    0.001    0.000 readers.py:550(_validate_names)\n",
      "      254    0.000    0.000    0.001    0.000 series.py:905(__array__)\n",
      "     1016    0.001    0.000    0.001    0.000 generic.py:638(_info_axis)\n",
      "     1271    0.001    0.000    0.001    0.000 {method 'rpartition' of 'str' objects}\n",
      "     2795    0.001    0.000    0.001    0.000 fromnumeric.py:2317(_any_dispatcher)\n",
      "     1778    0.001    0.000    0.001    0.000 indexing.py:2665(need_slice)\n",
      "     1524    0.001    0.000    0.001    0.000 array_ops.py:590(_bool_arith_check)\n",
      "      254    0.001    0.000    0.001    0.000 {method 'nonzero' of 'numpy.ndarray' objects}\n",
      "     7626    0.001    0.000    0.001    0.000 inspect.py:2699(kind)\n",
      "     4067    0.001    0.000    0.001    0.000 {method 'reverse' of 'list' objects}\n",
      "      762    0.001    0.000    0.001    0.000 indexing.py:289(loc)\n",
      "      254    0.000    0.000    0.001    0.000 _methods.py:43(_amin)\n",
      "     4574    0.001    0.000    0.001    0.000 parse.py:111(_noop)\n",
      "      255    0.001    0.000    0.001    0.000 {method 'reshape' of 'numpy.generic' objects}\n",
      "     2287    0.001    0.000    0.001    0.000 base_parser.py:246(<listcomp>)\n",
      "      254    0.001    0.000    0.001    0.000 {pandas._libs.algos.take_2d_axis0_float64_float64}\n",
      "     4574    0.001    0.000    0.001    0.000 {method 'values' of 'dict' objects}\n",
      "     3048    0.001    0.000    0.001    0.000 fromnumeric.py:2416(_all_dispatcher)\n",
      "      254    0.001    0.000    0.001    0.000 common.py:977(is_numeric_v_string_like)\n",
      "     1524    0.001    0.000    0.001    0.000 common.py:1107(<lambda>)\n",
      "     2541    0.001    0.000    0.001    0.000 {method 'strip' of 'str' objects}\n",
      "     2287    0.001    0.000    0.001    0.000 copy.py:107(_copy_immutable)\n",
      "     1016    0.001    0.000    0.001    0.000 contextlib.py:420(__init__)\n",
      "     1271    0.001    0.000    0.001    0.000 {built-in method builtins.id}\n",
      "      254    0.001    0.000    0.001    0.000 {pandas._libs.algos.take_2d_axis1_float64_float64}\n",
      "      254    0.000    0.000    0.001    0.000 construction.py:405(_check_values_indices_shape_match)\n",
      "     3048    0.001    0.000    0.001    0.000 indexing.py:915(<genexpr>)\n",
      "     1524    0.001    0.000    0.001    0.000 common.py:126(_classes_and_not_datetimelike)\n",
      "      254    0.000    0.000    0.001    0.000 frame.py:7789(_should_reindex_frame_op)\n",
      "     1778    0.001    0.000    0.001    0.000 managers.py:1945(index)\n",
      "     1271    0.001    0.000    0.001    0.000 _array_api.py:12(_check_array_api_dispatch)\n",
      "     1270    0.001    0.000    0.001    0.000 {built-in method numpy.core._multiarray_umath.normalize_axis_index}\n",
      "     2541    0.001    0.000    0.001    0.000 {built-in method builtins.iter}\n",
      "      254    0.000    0.000    0.001    0.000 utils.py:371(check_key_length)\n",
      "      762    0.000    0.000    0.001    0.000 base.py:7580(ensure_has_len)\n",
      "     2287    0.001    0.000    0.001    0.000 {built-in method builtins.ord}\n",
      "      508    0.000    0.000    0.000    0.000 generic.py:556(_get_axis_name)\n",
      "        1    0.000    0.000    0.000    0.000 causal_insight_slim.py:40(get_tau_samples)\n",
      "     1271    0.000    0.000    0.000    0.000 {built-in method sys.getrecursionlimit}\n",
      "     1270    0.000    0.000    0.000    0.000 base.py:1169(_maybe_disallow_fill)\n",
      "      254    0.000    0.000    0.000    0.000 construction.py:742(_get_axes)\n",
      "      508    0.000    0.000    0.000    0.000 {built-in method builtins.max}\n",
      "     2287    0.000    0.000    0.000    0.000 readers.py:1779(__enter__)\n",
      "      254    0.000    0.000    0.000    0.000 api.py:202(union_indexes)\n",
      "     1016    0.000    0.000    0.000    0.000 fromnumeric.py:3176(ndim)\n",
      "      254    0.000    0.000    0.000    0.000 astype.py:250(astype_is_view)\n",
      "      508    0.000    0.000    0.000    0.000 blocks.py:1016(_slice)\n",
      "     1524    0.000    0.000    0.000    0.000 arraysetops.py:133(_unique_dispatcher)\n",
      "     1270    0.000    0.000    0.000    0.000 fromnumeric.py:3380(_mean_dispatcher)\n",
      "      762    0.000    0.000    0.000    0.000 blocks.py:1003(shape)\n",
      "     1524    0.000    0.000    0.000    0.000 {pandas._libs.lib.is_bool_list}\n",
      "      762    0.000    0.000    0.000    0.000 blocks.py:293(__len__)\n",
      "     1271    0.000    0.000    0.000    0.000 inspect.py:3006(parameters)\n",
      "     1778    0.000    0.000    0.000    0.000 frame.py:637(_constructor)\n",
      "      508    0.000    0.000    0.000    0.000 utils.py:347(unpack_1tuple)\n",
      "     1271    0.000    0.000    0.000    0.000 multiarray.py:1393(may_share_memory)\n",
      "     2032    0.000    0.000    0.000    0.000 multiarray.py:669(result_type)\n",
      "      254    0.000    0.000    0.000    0.000 series.py:4766(_reindex_indexer)\n",
      "     1016    0.000    0.000    0.000    0.000 contextlib.py:426(__exit__)\n",
      "     1524    0.000    0.000    0.000    0.000 function_base.py:3987(_percentile_dispatcher)\n",
      "     1524    0.000    0.000    0.000    0.000 function_base.py:111(<lambda>)\n",
      "      254    0.000    0.000    0.000    0.000 function_base.py:348(iterable)\n",
      "      762    0.000    0.000    0.000    0.000 base.py:692(_constructor)\n",
      "      254    0.000    0.000    0.000    0.000 {method 'index' of 'list' objects}\n",
      "     1271    0.000    0.000    0.000    0.000 fromnumeric.py:2589(_ptp_dispatcher)\n",
      "      254    0.000    0.000    0.000    0.000 _dill.py:587(_load_type)\n",
      "      254    0.000    0.000    0.000    0.000 series.py:784(_references)\n",
      "      508    0.000    0.000    0.000    0.000 {method 'index' of 'range' objects}\n",
      "     1016    0.000    0.000    0.000    0.000 fromnumeric.py:3172(_ndim_dispatcher)\n",
      "      762    0.000    0.000    0.000    0.000 {method 'append' of 'pandas._libs.internals.BlockPlacement' objects}\n",
      "      254    0.000    0.000    0.000    0.000 {built-in method pandas._libs.missing.is_matching_na}\n",
      "      254    0.000    0.000    0.000    0.000 range.py:554(equals)\n",
      "      508    0.000    0.000    0.000    0.000 {built-in method pandas._libs.internals.slice_len}\n",
      "      762    0.000    0.000    0.000    0.000 fromnumeric.py:2687(_max_dispatcher)\n",
      "      254    0.000    0.000    0.000    0.000 construction.py:585(_ensure_2d)\n",
      "      762    0.000    0.000    0.000    0.000 stride_tricks.py:345(<genexpr>)\n",
      "        1    0.000    0.000    0.000    0.000 genericpath.py:16(exists)\n",
      "        1    0.000    0.000    0.000    0.000 {built-in method posix.stat}\n",
      "        1    0.000    0.000    0.000    0.000 _set_output.py:155(wrapped)\n",
      "      254    0.000    0.000    0.000    0.000 range.py:316(step)\n",
      "      254    0.000    0.000    0.000    0.000 stride_tricks.py:25(_maybe_view_as_subclass)\n",
      "      508    0.000    0.000    0.000    0.000 blocks.py:243(mgr_locs)\n",
      "        1    0.000    0.000    0.000    0.000 _data.py:988(transform)\n",
      "     1016    0.000    0.000    0.000    0.000 contextlib.py:423(__enter__)\n",
      "      254    0.000    0.000    0.000    0.000 range.py:377(dtype)\n",
      "      762    0.000    0.000    0.000    0.000 base.py:1954(nlevels)\n",
      "      254    0.000    0.000    0.000    0.000 {method '__exit__' of 'numpy.nditer' objects}\n",
      "      508    0.000    0.000    0.000    0.000 {method 'extend' of 'list' objects}\n",
      "      254    0.000    0.000    0.000    0.000 range.py:228(_constructor)\n",
      "      254    0.000    0.000    0.000    0.000 stride_tricks.py:363(_broadcast_to_dispatcher)\n",
      "      254    0.000    0.000    0.000    0.000 range.py:452(_should_fallback_to_positional)\n",
      "      254    0.000    0.000    0.000    0.000 range.py:281(start)\n",
      "        1    0.000    0.000    0.000    0.000 causal_insight_slim.py:19(__init__)\n",
      "        2    0.000    0.000    0.000    0.000 codeop.py:117(__call__)\n",
      "        2    0.000    0.000    0.000    0.000 {built-in method builtins.compile}\n",
      "        1    0.000    0.000    0.000    0.000 cleaning_utils.py:10(sigmoid)\n",
      "        2    0.000    0.000    0.000    0.000 traitlets.py:677(__get__)\n",
      "        1    0.000    0.000    0.000    0.000 _set_output.py:97(_wrap_data_with_container)\n",
      "        2    0.000    0.000    0.000    0.000 traitlets.py:630(get)\n",
      "        1    0.000    0.000    0.000    0.000 _set_output.py:63(_get_output_config)\n",
      "        4    0.000    0.000    0.000    0.000 compilerop.py:180(extra_flags)\n",
      "        1    0.000    0.000    0.000    0.000 4040260124.py:1(<module>)\n",
      "        2    0.000    0.000    0.000    0.000 interactiveshell.py:3466(compare)\n",
      "        2    0.000    0.000    0.000    0.000 interactiveshell.py:1255(user_global_ns)\n",
      "        1    0.000    0.000    0.000    0.000 {method 'disable' of '_lsprof.Profiler' objects}\n",
      "\n",
      "\n"
     ]
    }
   ],
   "source": [
    "# original speed test\n",
    "def basic_run():\n",
    "    ci = CausalInsight(\n",
    "        outcome_dataset=outcome,\n",
    "        intervention_dataset=intervention,\n",
    "        num_samples=num_samples,\n",
    "        smoke_test=smoke_test,\n",
    "    )\n",
    "\n",
    "    ci.get_tau_samples()\n",
    "    percent_calc = ci.slider_values_to_interventions(intervened_percent=50, year=year)\n",
    "    assert percent_calc[\"intervened_transformed\"] > -1\n",
    "\n",
    "    for fips in texas:\n",
    "        ci.get_fips_predictions(\n",
    "            intervened_value=percent_calc[\"intervened_transformed\"],\n",
    "            fips=fips,\n",
    "            intervention_is_percentile=True,\n",
    "        )\n",
    "\n",
    "\n",
    "profiler_basic = cProfile.Profile()\n",
    "\n",
    "profiler_basic.enable()\n",
    "basic_run()\n",
    "profiler_basic.disable()\n",
    "\n",
    "profiler_basic.print_stats(sort=\"cumulative\")"
   ]
  },
  {
   "cell_type": "code",
   "execution_count": 9,
   "metadata": {},
   "outputs": [
    {
     "name": "stdout",
     "output_type": "stream",
     "text": [
      "         380549 function calls (374535 primitive calls) in 0.389 seconds\n",
      "\n",
      "   Ordered by: cumulative time\n",
      "\n",
      "   ncalls  tottime  percall  cumtime  percall filename:lineno(function)\n",
      "        2    0.000    0.000    0.388    0.194 interactiveshell.py:3514(run_code)\n",
      "        2    0.000    0.000    0.388    0.194 {built-in method builtins.exec}\n",
      "        1    0.001    0.001    0.388    0.388 1942752218.py:1(<module>)\n",
      "        1    0.000    0.000    0.387    0.387 1942752218.py:1(grouped_run)\n",
      "        1    0.001    0.001    0.375    0.375 causal_insight_slim.py:106(get_group_predictions)\n",
      "       22    0.000    0.000    0.173    0.008 readers.py:848(read_csv)\n",
      "       22    0.001    0.000    0.172    0.008 readers.py:574(_read)\n",
      "      539    0.002    0.000    0.160    0.000 frame.py:665(__init__)\n",
      "      530    0.003    0.000    0.151    0.000 construction.py:423(dict_to_mgr)\n",
      "       19    0.000    0.000    0.150    0.008 data_grabber.py:29(get_features_wide)\n",
      "       17    0.000    0.000    0.141    0.008 cleaning_utils.py:37(revert_standardize_and_scale_scaler)\n",
      "       22    0.000    0.000    0.120    0.005 readers.py:1732(read)\n",
      "       22    0.000    0.000    0.091    0.004 c_parser_wrapper.py:222(read)\n",
      "      530    0.001    0.000    0.087    0.000 construction.py:96(arrays_to_mgr)\n",
      "       22    0.084    0.004    0.085    0.004 {method 'read_low_memory' of 'pandas._libs.parsers.TextReader' objects}\n",
      "        1    0.001    0.001    0.081    0.081 causal_insight_slim.py:332(<dictcomp>)\n",
      "        1    0.001    0.001    0.080    0.080 causal_insight_slim.py:346(<dictcomp>)\n",
      "     2967    0.014    0.000    0.057    0.000 construction.py:519(sanitize_array)\n",
      "       22    0.000    0.000    0.051    0.002 readers.py:1403(__init__)\n",
      "       22    0.000    0.000    0.050    0.002 readers.py:1673(_make_engine)\n",
      "       22    0.044    0.002    0.046    0.002 c_parser_wrapper.py:60(__init__)\n",
      "      530    0.005    0.000    0.046    0.000 construction.py:596(_homogenize)\n",
      "      581    0.006    0.000    0.037    0.000 base.py:478(__new__)\n",
      "      525    0.001    0.000    0.030    0.000 indexing.py:1139(__getitem__)\n",
      "      530    0.001    0.000    0.030    0.000 managers.py:2068(create_block_manager_from_column_arrays)\n",
      "94757/92701    0.014    0.000    0.027    0.000 {built-in method builtins.isinstance}\n",
      "      509    0.002    0.000    0.026    0.000 indexing.py:1359(_getitem_axis)\n",
      "        1    0.000    0.000    0.024    0.024 data_grabber.py:34(get_features_std_wide)\n",
      "      530    0.007    0.000    0.023    0.000 managers.py:2137(_form_blocks)\n",
      "     2190    0.011    0.000    0.020    0.000 {pandas._libs.lib.maybe_convert_objects}\n",
      "      508    0.000    0.000    0.020    0.000 indexing.py:1341(_get_label)\n",
      "      508    0.004    0.000    0.019    0.000 generic.py:4094(xs)\n",
      "        6    0.000    0.000    0.017    0.003 function_base.py:3992(percentile)\n",
      "        6    0.000    0.000    0.017    0.003 function_base.py:4547(_quantile_unchecked)\n",
      "        6    0.000    0.000    0.017    0.003 function_base.py:3763(_ureduce)\n",
      "        6    0.000    0.000    0.017    0.003 function_base.py:4696(_quantile_ureduce_func)\n",
      "     1082    0.002    0.000    0.016    0.000 cast.py:119(maybe_convert_platform)\n",
      "        6    0.000    0.000    0.014    0.002 function_base.py:4764(_quantile)\n",
      "    68/46    0.001    0.000    0.014    0.000 series.py:371(__init__)\n",
      "        6    0.013    0.002    0.013    0.002 {method 'partition' of 'numpy.ndarray' objects}\n",
      "     1108    0.002    0.000    0.012    0.000 cast.py:1147(maybe_infer_to_datetimelike)\n",
      "    18475    0.005    0.000    0.011    0.000 generic.py:42(_instancecheck)\n",
      "       18    0.000    0.000    0.011    0.001 _data.py:814(fit)\n",
      "       18    0.000    0.000    0.011    0.001 base.py:1135(wrapper)\n",
      "        1    0.000    0.000    0.010    0.010 causal_insight_slim.py:47(slider_values_to_interventions)\n",
      "      508    0.004    0.000    0.009    0.000 construction.py:638(_extract_index)\n",
      "     2190    0.005    0.000    0.008    0.000 numeric.py:274(full)\n",
      "     1263    0.001    0.000    0.008    0.000 base.py:7521(ensure_index)\n",
      "       22    0.000    0.000    0.007    0.000 series.py:524(_init_dict)\n",
      "       18    0.000    0.000    0.007    0.000 _data.py:841(partial_fit)\n",
      "      530    0.002    0.000    0.007    0.000 construction.py:487(<listcomp>)\n",
      "     1082    0.005    0.000    0.007    0.000 managers.py:2194(_stack_arrays)\n",
      "      508    0.001    0.000    0.006    0.000 construction.py:481(<listcomp>)\n",
      "    18487    0.004    0.000    0.006    0.000 generic.py:37(_check)\n",
      "     1082    0.002    0.000    0.005    0.000 _asarray.py:27(require)\n",
      "28306/24396    0.004    0.000    0.005    0.000 {built-in method builtins.len}\n",
      "     2562    0.002    0.000    0.005    0.000 common.py:296(maybe_iterable_to_list)\n",
      "      535    0.000    0.000    0.005    0.000 managers.py:1744(_consolidate_inplace)\n",
      "        1    0.001    0.001    0.005    0.005 causal_insight_slim.py:198(<listcomp>)\n",
      "       22    0.001    0.000    0.005    0.000 c_parser_wrapper.py:355(_concatenate_chunks)\n",
      "      535    0.000    0.000    0.005    0.000 managers.py:1726(is_consolidated)\n",
      "      535    0.001    0.000    0.005    0.000 managers.py:1734(_consolidate_check)\n",
      "       36    0.001    0.000    0.005    0.000 validation.py:644(check_array)\n",
      "      539    0.002    0.000    0.005    0.000 frame.py:654(_constructor_sliced_from_mgr)\n",
      "      581    0.000    0.000    0.004    0.000 config.py:271(__call__)\n",
      "     4406    0.004    0.000    0.004    0.000 {built-in method numpy.empty}\n",
      "      581    0.001    0.000    0.004    0.000 config.py:145(_get_option)\n",
      "     1105    0.002    0.000    0.004    0.000 cast.py:1544(construct_1d_object_array_from_listlike)\n",
      "       27    0.000    0.000    0.004    0.000 frame.py:3853(__getitem__)\n",
      "      508    0.002    0.000    0.004    0.000 managers.py:941(fast_xs)\n",
      "      258    0.000    0.000    0.004    0.000 fromnumeric.py:3385(mean)\n",
      "     2967    0.002    0.000    0.004    0.000 construction.py:695(_sanitize_ndim)\n",
      "      530    0.002    0.000    0.003    0.000 managers.py:1740(<listcomp>)\n",
      "      258    0.001    0.000    0.003    0.000 _methods.py:101(_mean)\n",
      "      602    0.002    0.000    0.003    0.000 generic.py:6147(__finalize__)\n",
      "      521    0.003    0.000    0.003    0.000 {method 'reduce' of 'numpy.ufunc' objects}\n",
      "       17    0.003    0.000    0.003    0.000 {method 'copy' of 'numpy.ndarray' objects}\n",
      "     1185    0.002    0.000    0.003    0.000 generic.py:274(__init__)\n",
      "       19    0.000    0.000    0.003    0.000 base.py:509(_validate_data)\n",
      "     2386    0.001    0.000    0.003    0.000 common.py:556(require_length_match)\n",
      "       18    0.002    0.000    0.003    0.000 extmath.py:970(_incremental_mean_and_var)\n",
      "       22    0.000    0.000    0.003    0.000 common.py:652(get_handle)\n",
      "      308    0.003    0.000    0.003    0.000 concat.py:52(concat_compat)\n",
      "       18    0.000    0.000    0.003    0.000 base.py:630(_validate_params)\n",
      "    27643    0.003    0.000    0.003    0.000 {built-in method builtins.getattr}\n",
      "     5736    0.001    0.000    0.003    0.000 abc.py:117(__instancecheck__)\n",
      "     1760    0.002    0.000    0.003    0.000 generic.py:6206(__setattr__)\n",
      "       22    0.000    0.000    0.003    0.000 series.py:4964(reindex)\n",
      "      596    0.002    0.000    0.003    0.000 base.py:649(_simple_new)\n",
      "       22    0.000    0.000    0.003    0.000 series.py:5482(isna)\n",
      "       22    0.000    0.000    0.002    0.000 generic.py:8402(isna)\n",
      "      581    0.001    0.000    0.002    0.000 config.py:127(_get_single_key)\n",
      "       22    0.000    0.000    0.002    0.000 generic.py:5266(reindex)\n",
      "       36    0.001    0.000    0.002    0.000 validation.py:92(_assert_all_finite)\n",
      "       22    0.000    0.000    0.002    0.000 missing.py:101(isna)\n",
      "       22    0.000    0.000    0.002    0.000 missing.py:184(_isna)\n",
      "       17    0.000    0.000    0.002    0.000 _data.py:1030(inverse_transform)\n",
      "     2848    0.001    0.000    0.002    0.000 managers.py:2124(_grouping_func)\n",
      "  792/770    0.000    0.000    0.002    0.000 {built-in method builtins.all}\n",
      "      539    0.000    0.000    0.002    0.000 frame.py:651(_sliced_from_mgr)\n",
      "     1140    0.002    0.000    0.002    0.000 {built-in method numpy.array}\n",
      "       31    0.000    0.000    0.002    0.000 frame.py:3776(_ixs)\n",
      "      578    0.000    0.000    0.002    0.000 generic.py:335(_from_mgr)\n",
      "      515    0.000    0.000    0.002    0.000 series.py:626(dtype)\n",
      "2433/2429    0.002    0.000    0.002    0.000 {built-in method numpy.asarray}\n",
      "       16    0.000    0.000    0.002    0.000 indexing.py:1681(_getitem_axis)\n",
      "       25    0.000    0.000    0.002    0.000 frame.py:4402(_get_item_cache)\n",
      "      544    0.000    0.000    0.002    0.000 common.py:96(is_bool_indexer)\n",
      "      674    0.001    0.000    0.002    0.000 base.py:7616(maybe_extract_name)\n",
      "        9    0.000    0.000    0.002    0.000 generic.py:4077(_take_with_is_copy)\n",
      "     1648    0.001    0.000    0.002    0.000 blocks.py:2346(get_block_type)\n",
      "      114    0.000    0.000    0.002    0.000 codecs.py:319(decode)\n",
      "       18    0.000    0.000    0.002    0.000 base.py:178(get_params)\n",
      "      561    0.001    0.000    0.002    0.000 blocks.py:2388(new_block)\n",
      "        9    0.000    0.000    0.002    0.000 generic.py:3962(take)\n",
      "     1605    0.001    0.000    0.002    0.000 generic.py:562(_get_axis)\n",
      "     6250    0.002    0.000    0.002    0.000 {pandas._libs.lib.is_list_like}\n",
      "       18    0.000    0.000    0.002    0.000 base.py:147(_get_param_names)\n",
      "      515    0.001    0.000    0.002    0.000 managers.py:1949(dtype)\n",
      "      114    0.002    0.000    0.002    0.000 {built-in method _codecs.utf_8_decode}\n",
      "     2967    0.001    0.000    0.002    0.000 construction.py:734(_sanitize_str_dtypes)\n",
      "        9    0.000    0.000    0.001    0.000 managers.py:852(take)\n",
      "     2969    0.001    0.000    0.001    0.000 construction.py:420(extract_array)\n",
      "       22    0.000    0.000    0.001    0.000 common.py:289(_get_filepath_or_buffer)\n",
      "      144    0.000    0.000    0.001    0.000 fromnumeric.py:71(_wrapreduction)\n",
      "     5736    0.001    0.000    0.001    0.000 {built-in method _abc._abc_instancecheck}\n",
      "      570    0.001    0.000    0.001    0.000 base.py:5350(__getitem__)\n",
      "     1084    0.001    0.000    0.001    0.000 blocks.py:192(_can_consolidate)\n",
      "        5    0.000    0.000    0.001    0.000 common.py:62(new_method)\n",
      "     2967    0.001    0.000    0.001    0.000 construction.py:754(_maybe_repeat)\n",
      "       18    0.000    0.000    0.001    0.000 inspect.py:3252(signature)\n",
      "      532    0.001    0.000    0.001    0.000 base.py:3763(get_loc)\n",
      "      108    0.000    0.000    0.001    0.000 fromnumeric.py:2177(sum)\n",
      "       18    0.000    0.000    0.001    0.000 inspect.py:2998(from_callable)\n",
      "       18    0.000    0.000    0.001    0.000 inspect.py:2375(_signature_from_callable)\n",
      "       23    0.000    0.000    0.001    0.000 generic.py:6553(copy)\n",
      "     1082    0.001    0.000    0.001    0.000 _asarray.py:108(<setcomp>)\n",
      "       44    0.000    0.000    0.001    0.000 generic.py:5509(<genexpr>)\n",
      "        4    0.000    0.000    0.001    0.000 frame.py:7634(_arith_method)\n",
      "       25    0.001    0.000    0.001    0.000 {built-in method io.open}\n",
      "        3    0.001    0.000    0.001    0.000 numeric.py:841(outer)\n",
      "        6    0.000    0.000    0.001    0.000 indexing.py:1658(_get_list_axis)\n",
      "      508    0.001    0.000    0.001    0.000 indexing.py:1188(_validate_key)\n",
      "       19    0.000    0.000    0.001    0.000 data_grabber.py:21(__init__)\n",
      "       18    0.000    0.000    0.001    0.000 _param_validation.py:26(validate_parameter_constraints)\n",
      "     3366    0.001    0.000    0.001    0.000 common.py:1255(is_1d_only_ea_dtype)\n",
      "        1    0.000    0.000    0.001    0.001 percentiles.py:36(transformed_intervention_from_percentile)\n",
      "       10    0.000    0.000    0.001    0.000 indexing.py:1651(_getitem_tuple)\n",
      "       22    0.000    0.000    0.001    0.000 readers.py:1782(__exit__)\n",
      "       22    0.000    0.000    0.001    0.000 base.py:5610(identical)\n",
      "     9686    0.001    0.000    0.001    0.000 {method 'append' of 'list' objects}\n",
      "        3    0.000    0.000    0.001    0.000 _dill.py:281(load)\n",
      "      581    0.001    0.000    0.001    0.000 config.py:633(_get_root)\n",
      "       22    0.000    0.000    0.001    0.000 readers.py:1450(close)\n",
      "        9    0.000    0.000    0.001    0.000 managers.py:606(reindex_indexer)\n",
      "      511    0.000    0.000    0.001    0.000 generic.py:4520(_is_view)\n",
      "        3    0.000    0.000    0.001    0.000 _dill.py:441(load)\n",
      "        3    0.000    0.000    0.001    0.000 arraylike.py:98(__add__)\n",
      "        3    0.000    0.000    0.001    0.000 {function Unpickler.load at 0x7de521e46b90}\n",
      "     1162    0.001    0.000    0.001    0.000 common.py:1322(is_ea_or_datetimelike_dtype)\n",
      "       18    0.000    0.000    0.001    0.000 inspect.py:2280(_signature_from_function)\n",
      "       51    0.000    0.000    0.001    0.000 base.py:5519(equals)\n",
      "     8055    0.001    0.000    0.001    0.000 typing.py:1737(cast)\n",
      "       21    0.000    0.000    0.001    0.000 data_grabber.py:10(find_repo_root)\n",
      "     2242    0.001    0.000    0.001    0.000 base.py:909(__len__)\n",
      "       54    0.000    0.000    0.001    0.000 extmath.py:940(_safe_accumulator_op)\n",
      "     1088    0.001    0.000    0.001    0.000 blocks.py:187(is_extension)\n",
      "       31    0.000    0.000    0.001    0.000 managers.py:991(iget)\n",
      "       45    0.000    0.000    0.001    0.000 generic.py:487(_validate_dtype)\n",
      "      273    0.000    0.000    0.001    0.000 series.py:708(values)\n",
      "       22    0.000    0.000    0.001    0.000 series.py:6135(any)\n",
      "       50    0.000    0.000    0.001    0.000 common.py:1587(pandas_dtype)\n",
      "      581    0.000    0.000    0.001    0.000 config.py:686(_warn_if_deprecated)\n",
      "       31    0.000    0.000    0.001    0.000 frame.py:4384(_box_col_values)\n",
      "       23    0.000    0.000    0.001    0.000 base.py:2293(is_unique)\n",
      "     4745    0.001    0.000    0.001    0.000 {built-in method builtins.issubclass}\n",
      "        1    0.000    0.000    0.001    0.001 causal_insight_slim.py:40(get_tau_samples)\n",
      "      639    0.000    0.000    0.001    0.000 series.py:750(_values)\n",
      "       54    0.000    0.000    0.001    0.000 _param_validation.py:73(<listcomp>)\n",
      "     1188    0.001    0.000    0.001    0.000 flags.py:53(__init__)\n",
      "      118    0.000    0.000    0.001    0.000 _ufunc_config.py:33(seterr)\n",
      "       46    0.000    0.000    0.001    0.000 managers.py:1825(from_array)\n",
      "      258    0.001    0.000    0.001    0.000 _methods.py:67(_count_reduce_items)\n",
      "      511    0.000    0.000    0.001    0.000 managers.py:445(is_view)\n",
      "       25    0.000    0.000    0.001    0.000 range.py:134(__new__)\n",
      "      554    0.000    0.000    0.001    0.000 indexing.py:2678(check_dict_or_set_indexers)\n",
      "      273    0.000    0.000    0.001    0.000 managers.py:1956(external_values)\n",
      "       54    0.000    0.000    0.001    0.000 _param_validation.py:102(make_constraint)\n",
      "     1644    0.000    0.000    0.001    0.000 range.py:963(__len__)\n",
      "     1162    0.001    0.000    0.001    0.000 config.py:647(_get_deprecated_option)\n",
      "        2    0.000    0.000    0.001    0.000 base.py:6101(_get_indexer_strict)\n",
      "      528    0.000    0.000    0.001    0.000 utils.py:62(is_list_like_indexer)\n",
      "      532    0.001    0.000    0.001    0.000 {method 'get_loc' of 'pandas._libs.index.IndexEngine' objects}\n",
      "       21    0.000    0.000    0.001    0.000 pathlib.py:957(__new__)\n",
      "       27    0.000    0.000    0.001    0.000 managers.py:540(copy)\n",
      "       19    0.000    0.000    0.001    0.000 blocks.py:1041(take_nd)\n",
      "       22    0.000    0.000    0.001    0.000 c_parser_wrapper.py:194(close)\n",
      "      508    0.000    0.000    0.001    0.000 api.py:202(union_indexes)\n",
      "       22    0.000    0.000    0.001    0.000 series.py:6094(_reduce)\n",
      "      581    0.001    0.000    0.001    0.000 base.py:574(_ensure_array)\n",
      "       11    0.000    0.000    0.001    0.000 managers.py:691(_slice_take_blocks_ax0)\n",
      "       23    0.000    0.000    0.001    0.000 take.py:59(take_nd)\n",
      "       21    0.000    0.000    0.001    0.000 pathlib.py:589(_from_parts)\n",
      "       10    0.000    0.000    0.001    0.000 indexing.py:1006(_getitem_lowerdim)\n",
      "       22    0.000    0.000    0.001    0.000 base_parser.py:114(__init__)\n",
      "      518    0.000    0.000    0.001    0.000 generic.py:4314(_set_is_copy)\n",
      "       22    0.001    0.000    0.001    0.000 {method 'close' of 'pandas._libs.parsers.TextReader' objects}\n",
      "        5    0.000    0.000    0.001    0.000 managers.py:670(<listcomp>)\n",
      "     3077    0.001    0.000    0.001    0.000 {built-in method builtins.hasattr}\n",
      "     2147    0.001    0.000    0.001    0.000 generic.py:548(_get_axis_number)\n",
      "       24    0.000    0.000    0.001    0.000 base.py:842(_engine)\n",
      "        4    0.000    0.000    0.001    0.000 frame.py:7649(_dispatch_frame_op)\n",
      "      639    0.000    0.000    0.001    0.000 construction.py:485(ensure_wrapped_if_datetimelike)\n",
      "      596    0.001    0.000    0.001    0.000 {method 'add_index_reference' of 'pandas._libs.internals.BlockValuesRefs' objects}\n",
      "       46    0.000    0.000    0.001    0.000 {method 'any' of 'numpy.ndarray' objects}\n",
      "       64    0.000    0.000    0.001    0.000 _methods.py:55(_any)\n",
      "       23    0.000    0.000    0.001    0.000 take.py:121(_take_nd_ndarray)\n",
      "     1104    0.000    0.000    0.000    0.000 construction.py:687(_sanitize_non_ordered)\n",
      "       77    0.000    0.000    0.000    0.000 generic.py:760(_set_axis)\n",
      "      273    0.000    0.000    0.000    0.000 blocks.py:222(external_values)\n",
      "       59    0.000    0.000    0.000    0.000 _ufunc_config.py:430(__enter__)\n",
      "       21    0.000    0.000    0.000    0.000 pathlib.py:569(_parse_args)\n",
      "       22    0.000    0.000    0.000    0.000 common.py:145(is_url)\n",
      "      508    0.000    0.000    0.000    0.000 series.py:784(_references)\n",
      "      792    0.000    0.000    0.000    0.000 inference.py:334(is_hashable)\n",
      "      602    0.000    0.000    0.000    0.000 flags.py:89(allows_duplicate_labels)\n",
      "       54    0.000    0.000    0.000    0.000 _array_api.py:360(_asarray_with_order)\n",
      "        2    0.000    0.000    0.000    0.000 generic.py:2098(__array_ufunc__)\n",
      "       27    0.000    0.000    0.000    0.000 managers.py:308(apply)\n",
      "        4    0.000    0.000    0.000    0.000 managers.py:1466(operate_blockwise)\n",
      "        2    0.000    0.000    0.000    0.000 arraylike.py:253(array_ufunc)\n",
      "       38    0.000    0.000    0.000    0.000 managers.py:169(blknos)\n",
      "        4    0.000    0.000    0.000    0.000 ops.py:57(operate_blockwise)\n",
      "      581    0.000    0.000    0.000    0.000 base.py:592(_dtype_to_subclass)\n",
      "        1    0.000    0.000    0.000    0.000 indexing.py:1167(_getbool_axis)\n",
      "     1108    0.000    0.000    0.000    0.000 __init__.py:43(using_pyarrow_string_dtype)\n",
      "      130    0.000    0.000    0.000    0.000 {built-in method builtins.any}\n",
      "       22    0.000    0.000    0.000    0.000 base_parser.py:190(_validate_parse_dates_presence)\n",
      "       22    0.000    0.000    0.000    0.000 missing.py:261(_isna_array)\n",
      "       47    0.000    0.000    0.000    0.000 base.py:69(shape)\n",
      "       22    0.000    0.000    0.000    0.000 nanops.py:482(nanany)\n",
      "       17    0.000    0.000    0.000    0.000 cleaning_utils.py:45(inverse_sigmoid)\n",
      "     2275    0.000    0.000    0.000    0.000 {pandas._libs.lib.is_np_dtype}\n",
      "      539    0.000    0.000    0.000    0.000 blocks.py:1007(iget)\n",
      "        2    0.000    0.000    0.000    0.000 {pandas._libs.ops_dispatch.maybe_dispatch_ufunc_to_dunder_op}\n",
      "       68    0.000    0.000    0.000    0.000 {built-in method builtins.next}\n",
      "       58    0.000    0.000    0.000    0.000 warnings.py:165(simplefilter)\n",
      "     2190    0.000    0.000    0.000    0.000 multiarray.py:1080(copyto)\n",
      "       44    0.000    0.000    0.000    0.000 posixpath.py:71(join)\n",
      "      581    0.000    0.000    0.000    0.000 config.py:674(_translate_key)\n",
      "        1    0.000    0.000    0.000    0.000 series.py:5277(isin)\n",
      "     1595    0.000    0.000    0.000    0.000 blocks.py:583(dtype)\n",
      "       22    0.000    0.000    0.000    0.000 parse.py:379(urlparse)\n",
      "       36    0.000    0.000    0.000    0.000 validation.py:330(_num_samples)\n",
      "        2    0.000    0.000    0.000    0.000 arraylike.py:196(__rsub__)\n",
      "       24    0.000    0.000    0.000    0.000 {method '_rebuild_blknos_and_blklocs' of 'pandas._libs.internals.BlockManager' objects}\n",
      "       18    0.000    0.000    0.000    0.000 _data.py:71(_is_constant_feature)\n",
      "       22    0.000    0.000    0.000    0.000 readers.py:1513(_clean_options)\n",
      "      273    0.000    0.000    0.000    0.000 blocks.py:2586(external_values)\n",
      "       36    0.000    0.000    0.000    0.000 _array_api.py:282(isdtype)\n",
      "       66    0.000    0.000    0.000    0.000 inference.py:273(is_dict_like)\n",
      "     1311    0.000    0.000    0.000    0.000 {built-in method __new__ of type object at 0x740500}\n",
      "      639    0.000    0.000    0.000    0.000 managers.py:1960(internal_values)\n",
      "       69    0.000    0.000    0.000    0.000 series.py:703(name)\n",
      "       21    0.000    0.000    0.000    0.000 pathlib.py:56(parse_parts)\n",
      "       59    0.000    0.000    0.000    0.000 _ufunc_config.py:435(__exit__)\n",
      "        4    0.000    0.000    0.000    0.000 base.py:3859(get_indexer)\n",
      "        4    0.000    0.000    0.000    0.000 frame.py:7815(_align_for_op)\n",
      "       36    0.000    0.000    0.000    0.000 _array_api.py:75(isdtype)\n",
      "       36    0.000    0.000    0.000    0.000 _config.py:196(config_context)\n",
      "     1060    0.000    0.000    0.000    0.000 base.py:539(<genexpr>)\n",
      "      570    0.000    0.000    0.000    0.000 common.py:149(cast_scalar_indexer)\n",
      "     1625    0.000    0.000    0.000    0.000 {pandas._libs.lib.is_scalar}\n",
      "      610    0.000    0.000    0.000    0.000 managers.py:1799(__init__)\n",
      "       22    0.000    0.000    0.000    0.000 missing.py:305(_isna_string_dtype)\n",
      "       23    0.000    0.000    0.000    0.000 contextlib.py:139(__exit__)\n",
      "       22    0.000    0.000    0.000    0.000 readers.py:1455(_get_options_with_defaults)\n",
      "       22    0.000    0.000    0.000    0.000 common.py:121(close)\n",
      "       58    0.000    0.000    0.000    0.000 warnings.py:181(_add_filter)\n",
      "       44    0.000    0.000    0.000    0.000 common.py:1155(_is_binary_mode)\n",
      "       54    0.000    0.000    0.000    0.000 _param_validation.py:583(__init__)\n",
      "       36    0.000    0.000    0.000    0.000 validation.py:1366(_is_fitted)\n",
      "        1    0.000    0.000    0.000    0.000 genericpath.py:16(exists)\n",
      "      535    0.000    0.000    0.000    0.000 construction.py:196(mgr_to_mgr)\n",
      "       44    0.000    0.000    0.000    0.000 common.py:1194(is_potential_multi_index)\n",
      "       22    0.000    0.000    0.000    0.000 missing.py:466(array_equivalent)\n",
      "        1    0.000    0.000    0.000    0.000 {built-in method posix.stat}\n",
      "       22    0.000    0.000    0.000    0.000 common.py:538(infer_compression)\n",
      "       44    0.000    0.000    0.000    0.000 {pandas._libs.lib.is_all_arraylike}\n",
      "       72    0.000    0.000    0.000    0.000 inspect.py:2637(__init__)\n",
      "        8    0.000    0.000    0.000    0.000 ops.py:29(_iter_block_pairs)\n",
      "        2    0.000    0.000    0.000    0.000 base.py:6077(get_indexer_for)\n",
      "       22    0.000    0.000    0.000    0.000 c_parser_wrapper.py:201(_set_noconvert_columns)\n",
      "        6    0.000    0.000    0.000    0.000 base.py:280(_new_Index)\n",
      "       77    0.000    0.000    0.000    0.000 managers.py:225(set_axis)\n",
      "       18    0.000    0.000    0.000    0.000 fromnumeric.py:2593(ptp)\n",
      "      145    0.000    0.000    0.000    0.000 _config.py:32(get_config)\n",
      "       44    0.000    0.000    0.000    0.000 common.py:233(stringify_path)\n",
      "       22    0.000    0.000    0.000    0.000 {built-in method pandas._libs.missing.isnaobj}\n",
      "      564    0.000    0.000    0.000    0.000 common.py:367(apply_if_callable)\n",
      "      581    0.000    0.000    0.000    0.000 config.py:615(_select_options)\n",
      "       72    0.000    0.000    0.000    0.000 _array_api.py:82(<genexpr>)\n",
      "       54    0.000    0.000    0.000    0.000 _param_validation.py:591(is_satisfied_by)\n",
      "      118    0.000    0.000    0.000    0.000 _ufunc_config.py:132(geterr)\n",
      "       72    0.000    0.000    0.000    0.000 numerictypes.py:357(issubdtype)\n",
      "       36    0.000    0.000    0.000    0.000 _config.py:50(set_config)\n",
      "        1    0.000    0.000    0.000    0.000 algorithms.py:457(isin)\n",
      "       24    0.000    0.000    0.000    0.000 fromnumeric.py:2322(any)\n",
      "      623    0.000    0.000    0.000    0.000 base.py:831(_reset_identity)\n",
      "       25    0.000    0.000    0.000    0.000 series.py:581(_constructor_from_mgr)\n",
      "      308    0.000    0.000    0.000    0.000 c_parser_wrapper.py:367(<listcomp>)\n",
      "       22    0.000    0.000    0.000    0.000 {method 'close' of '_io.TextIOWrapper' objects}\n",
      "      509    0.000    0.000    0.000    0.000 indexing.py:289(loc)\n",
      "      602    0.000    0.000    0.000    0.000 {method 'split' of 'str' objects}\n",
      "        7    0.000    0.000    0.000    0.000 range.py:1110(take)\n",
      "       22    0.000    0.000    0.000    0.000 common.py:1223(dedup_names)\n",
      "     1204    0.000    0.000    0.000    0.000 generic.py:393(flags)\n",
      "       54    0.000    0.000    0.000    0.000 common.py:137(is_object_dtype)\n",
      "       92    0.000    0.000    0.000    0.000 series.py:653(name)\n",
      "       18    0.000    0.000    0.000    0.000 validation.py:1404(check_is_fitted)\n",
      "        3    0.000    0.000    0.000    0.000 indexing.py:978(_getitem_tuple_same_dim)\n",
      "       69    0.000    0.000    0.000    0.000 common.py:1562(validate_all_hashable)\n",
      "       36    0.000    0.000    0.000    0.000 _array_api.py:87(_isdtype_single)\n",
      "      216    0.000    0.000    0.000    0.000 _array_api.py:227(__getattr__)\n",
      "       18    0.000    0.000    0.000    0.000 _methods.py:218(_ptp)\n",
      "     1169    0.000    0.000    0.000    0.000 {pandas._libs.lib.is_iterator}\n",
      "        9    0.000    0.000    0.000    0.000 utils.py:239(maybe_convert_indices)\n",
      "     1874    0.000    0.000    0.000    0.000 {method 'get' of 'dict' objects}\n",
      "        2    0.000    0.000    0.000    0.000 base.py:4328(reindex)\n",
      "        6    0.000    0.000    0.000    0.000 function_base.py:4729(_get_indexes)\n",
      "      131    0.000    0.000    0.000    0.000 {built-in method posix.fspath}\n",
      "       22    0.000    0.000    0.000    0.000 parse.py:444(urlsplit)\n",
      "       10    0.000    0.000    0.000    0.000 indexing.py:931(_validate_tuple_indexer)\n",
      "       72    0.000    0.000    0.000    0.000 _array_api.py:70(_is_numpy_namespace)\n",
      "       22    0.000    0.000    0.000    0.000 missing.py:564(_array_equivalent_object)\n",
      "       23    0.000    0.000    0.000    0.000 take.py:565(_take_preprocess_indexer_and_fill_value)\n",
      "     1082    0.000    0.000    0.000    0.000 {method 'upper' of 'str' objects}\n",
      "       77    0.000    0.000    0.000    0.000 base.py:73(_validate_set_axis)\n",
      "        6    0.000    0.000    0.000    0.000 function_base.py:4565(_quantile_is_valid)\n",
      "      556    0.000    0.000    0.000    0.000 managers.py:896(__init__)\n",
      "      308    0.000    0.000    0.000    0.000 c_parser_wrapper.py:370(<setcomp>)\n",
      "        3    0.000    0.000    0.000    0.000 indexing.py:1718(_get_slice_axis)\n",
      "       54    0.000    0.000    0.000    0.000 blocks.py:2317(maybe_coerce_values)\n",
      "        5    0.000    0.000    0.000    0.000 construction.py:237(ndarray_to_mgr)\n",
      "      511    0.000    0.000    0.000    0.000 blocks.py:2236(is_view)\n",
      "       66    0.000    0.000    0.000    0.000 common.py:173(_expand_user)\n",
      "      585    0.000    0.000    0.000    0.000 managers.py:1902(_block)\n",
      "       26    0.000    0.000    0.000    0.000 construction.py:765(_try_cast)\n",
      "       67    0.000    0.000    0.000    0.000 warnings.py:458(__enter__)\n",
      "       10    0.000    0.000    0.000    0.000 shape_base.py:612(column_stack)\n",
      "        1    0.000    0.000    0.000    0.000 _set_output.py:155(wrapped)\n",
      "       22    0.000    0.000    0.000    0.000 pathlib.py:631(__fspath__)\n",
      "       36    0.000    0.000    0.000    0.000 validation.py:1398(<listcomp>)\n",
      "        1    0.000    0.000    0.000    0.000 _data.py:988(transform)\n",
      "      308    0.000    0.000    0.000    0.000 c_parser_wrapper.py:369(<setcomp>)\n",
      "        3    0.000    0.000    0.000    0.000 generic.py:4296(_slice)\n",
      "       72    0.000    0.000    0.000    0.000 _array_api.py:289(get_namespace)\n",
      "       28    0.000    0.000    0.000    0.000 base.py:5153(_get_engine_target)\n",
      "        4    0.000    0.000    0.000    0.000 frame.py:8013(_construct_result)\n",
      "       22    0.000    0.000    0.000    0.000 base_parser.py:361(_make_index)\n",
      "       18    0.000    0.000    0.000    0.000 inspect.py:2920(__init__)\n",
      "       23    0.000    0.000    0.000    0.000 contextlib.py:130(__enter__)\n",
      "       24    0.000    0.000    0.000    0.000 base.py:836(__iter__)\n",
      "      536    0.000    0.000    0.000    0.000 generic.py:659(ndim)\n",
      "      181    0.000    0.000    0.000    0.000 _config.py:24(_get_threadlocal_config)\n",
      "      144    0.000    0.000    0.000    0.000 numerictypes.py:283(issubclass_)\n",
      "       20    0.000    0.000    0.000    0.000 indexing.py:1536(_validate_key)\n",
      "      602    0.000    0.000    0.000    0.000 generic.py:358(attrs)\n",
      "       18    0.000    0.000    0.000    0.000 _data.py:87(_handle_zeros_in_scale)\n",
      "        1    0.000    0.000    0.000    0.000 series.py:5817(_arith_method)\n",
      "      697    0.000    0.000    0.000    0.000 {pandas._libs.lib.is_integer}\n",
      "       62    0.000    0.000    0.000    0.000 {built-in method builtins.sorted}\n",
      "        1    0.000    0.000    0.000    0.000 base.py:1370(_arith_method)\n",
      "       22    0.000    0.000    0.000    0.000 pathlib.py:621(__str__)\n",
      "      137    0.000    0.000    0.000    0.000 base.py:71(<genexpr>)\n",
      "      198    0.000    0.000    0.000    0.000 inference.py:300(<genexpr>)\n",
      "       23    0.000    0.000    0.000    0.000 contextlib.py:279(helper)\n",
      "      818    0.000    0.000    0.000    0.000 {built-in method builtins.hash}\n",
      "       59    0.000    0.000    0.000    0.000 common.py:1425(_is_dtype_type)\n",
      "        6    0.000    0.000    0.000    0.000 function_base.py:4641(_lerp)\n",
      "        4    0.000    0.000    0.000    0.000 base.py:6619(_maybe_cast_listlike_indexer)\n",
      "       90    0.000    0.000    0.000    0.000 _array_api.py:247(asarray)\n",
      "       26    0.000    0.000    0.000    0.000 base.py:5300(__contains__)\n",
      "       22    0.000    0.000    0.000    0.000 {pandas._libs.lib.array_equivalent_object}\n",
      "      397    0.000    0.000    0.000    0.000 __init__.py:33(using_copy_on_write)\n",
      "       63    0.000    0.000    0.000    0.000 pathlib.py:865(parent)\n",
      "      162    0.000    0.000    0.000    0.000 _param_validation.py:292(__init__)\n",
      "       27    0.000    0.000    0.000    0.000 blocks.py:639(copy)\n",
      "      361    0.000    0.000    0.000    0.000 {built-in method numpy.asanyarray}\n",
      "       22    0.000    0.000    0.000    0.000 {built-in method builtins.locals}\n",
      "       12    0.000    0.000    0.000    0.000 fromnumeric.py:2421(all)\n",
      "       98    0.000    0.000    0.000    0.000 generic.py:6189(__getattr__)\n",
      "       27    0.000    0.000    0.000    0.000 range.py:198(_simple_new)\n",
      "       22    0.000    0.000    0.000    0.000 readers.py:1925(_refine_defaults_read)\n",
      "        7    0.000    0.000    0.000    0.000 {pandas._libs.lib.infer_dtype}\n",
      "       31    0.000    0.000    0.000    0.000 series.py:1372(_set_as_cached)\n",
      "       21    0.000    0.000    0.000    0.000 cast.py:550(maybe_promote)\n",
      "       19    0.000    0.000    0.000    0.000 base.py:374(_check_n_features)\n",
      "      552    0.000    0.000    0.000    0.000 {pandas._libs.lib.item_from_zerodim}\n",
      "      118    0.000    0.000    0.000    0.000 {built-in method numpy.seterrobj}\n",
      "      602    0.000    0.000    0.000    0.000 flags.py:57(allows_duplicate_labels)\n",
      "       22    0.000    0.000    0.000    0.000 base_parser.py:861(_do_date_conversions)\n",
      "       22    0.000    0.000    0.000    0.000 common.py:277(is_fsspec_url)\n",
      "        6    0.000    0.000    0.000    0.000 arraysetops.py:138(unique)\n",
      "        5    0.000    0.000    0.000    0.000 array_ops.py:242(arithmetic_op)\n",
      "        9    0.000    0.000    0.000    0.000 common.py:228(asarray_tuplesafe)\n",
      "      619    0.000    0.000    0.000    0.000 {method 'pop' of 'dict' objects}\n",
      "       66    0.000    0.000    0.000    0.000 posixpath.py:229(expanduser)\n",
      "       22    0.000    0.000    0.000    0.000 base_parser.py:349(_maybe_make_multi_index_columns)\n",
      "       58    0.000    0.000    0.000    0.000 {method 'remove' of 'list' objects}\n",
      "        2    0.000    0.000    0.000    0.000 algorithms.py:217(_ensure_arraylike)\n",
      "      552    0.000    0.000    0.000    0.000 {method 'keys' of 'dict' objects}\n",
      "       23    0.000    0.000    0.000    0.000 contextlib.py:102(__init__)\n",
      "        4    0.000    0.000    0.000    0.000 base.py:6321(_should_compare)\n",
      "        1    0.000    0.000    0.000    0.000 causal_insight_slim.py:19(__init__)\n",
      "       18    0.000    0.000    0.000    0.000 inspect.py:612(unwrap)\n",
      "      443    0.000    0.000    0.000    0.000 {method 'endswith' of 'str' objects}\n",
      "      138    0.000    0.000    0.000    0.000 common.py:1581(<genexpr>)\n",
      "      570    0.000    0.000    0.000    0.000 {pandas._libs.lib.is_float}\n",
      "      308    0.000    0.000    0.000    0.000 {pandas._libs.lib.dtypes_all_equal}\n",
      "      649    0.000    0.000    0.000    0.000 {built-in method builtins.callable}\n",
      "       67    0.000    0.000    0.000    0.000 warnings.py:437(__init__)\n",
      "       22    0.000    0.000    0.000    0.000 base_parser.py:600(_set_noconvert_dtype_columns)\n",
      "       67    0.000    0.000    0.000    0.000 warnings.py:477(__exit__)\n",
      "       23    0.000    0.000    0.000    0.000 series.py:821(__len__)\n",
      "        6    0.000    0.000    0.000    0.000 arraysetops.py:323(_unique1d)\n",
      "        3    0.000    0.000    0.000    0.000 {method 'get_slice' of 'pandas._libs.internals.BlockManager' objects}\n",
      "      308    0.000    0.000    0.000    0.000 concat.py:73(<listcomp>)\n",
      "       19    0.000    0.000    0.000    0.000 validation.py:277(_num_features)\n",
      "      211    0.000    0.000    0.000    0.000 {method 'copy' of 'dict' objects}\n",
      "       18    0.000    0.000    0.000    0.000 numeric.py:1855(isscalar)\n",
      "      144    0.000    0.000    0.000    0.000 fromnumeric.py:72(<dictcomp>)\n",
      "       18    0.000    0.000    0.000    0.000 {method 'any' of 'numpy.generic' objects}\n",
      "       72    0.000    0.000    0.000    0.000 enum.py:359(__call__)\n",
      "       14    0.000    0.000    0.000    0.000 frame.py:641(_constructor_from_mgr)\n",
      "        1    0.000    0.000    0.000    0.000 series.py:5885(_construct_result)\n",
      "       18    0.000    0.000    0.000    0.000 base.py:161(<listcomp>)\n",
      "        5    0.000    0.000    0.000    0.000 array_ops.py:191(_na_arithmetic_op)\n",
      "      532    0.000    0.000    0.000    0.000 base.py:6612(_maybe_cast_indexer)\n",
      "       10    0.000    0.000    0.000    0.000 {method 'max' of 'numpy.ndarray' objects}\n",
      "        1    0.000    0.000    0.000    0.000 indexing.py:2545(check_bool_indexer)\n",
      "       25    0.000    0.000    0.000    0.000 common.py:185(all_none)\n",
      "       12    0.000    0.000    0.000    0.000 {method 'all' of 'numpy.generic' objects}\n",
      "      108    0.000    0.000    0.000    0.000 _param_validation.py:602(<genexpr>)\n",
      "       40    0.000    0.000    0.000    0.000 {method 'reshape' of 'numpy.ndarray' objects}\n",
      "       18    0.000    0.000    0.000    0.000 inspect.py:66(get_annotations)\n",
      "       25    0.000    0.000    0.000    0.000 managers.py:1812(from_blocks)\n",
      "       19    0.000    0.000    0.000    0.000 _dill.py:426(find_class)\n",
      "       88    0.000    0.000    0.000    0.000 common.py:1219(<genexpr>)\n",
      "       21    0.000    0.000    0.000    0.000 pathlib.py:239(splitroot)\n",
      "       10    0.000    0.000    0.000    0.000 _methods.py:39(_amax)\n",
      "       11    0.000    0.000    0.000    0.000 series.py:905(__array__)\n",
      "        2    0.000    0.000    0.000    0.000 codeop.py:117(__call__)\n",
      "       44    0.000    0.000    0.000    0.000 base.py:5635(<genexpr>)\n",
      "       53    0.000    0.000    0.000    0.000 common.py:91(ensure_python_int)\n",
      "      147    0.000    0.000    0.000    0.000 {built-in method sys.intern}\n",
      "       27    0.000    0.000    0.000    0.000 blocks.py:2467(extend_blocks)\n",
      "      324    0.000    0.000    0.000    0.000 multiarray.py:153(concatenate)\n",
      "      203    0.000    0.000    0.000    0.000 {method 'startswith' of 'str' objects}\n",
      "       36    0.000    0.000    0.000    0.000 abc.py:121(__subclasscheck__)\n",
      "      258    0.000    0.000    0.000    0.000 fromnumeric.py:3380(_mean_dispatcher)\n",
      "       24    0.000    0.000    0.000    0.000 base.py:459(_engine_type)\n",
      "        6    0.000    0.000    0.000    0.000 base.py:2724(inferred_type)\n",
      "        3    0.000    0.000    0.000    0.000 generic.py:2119(__setstate__)\n",
      "       23    0.000    0.000    0.000    0.000 {method 'flatten' of 'numpy.ndarray' objects}\n",
      "       10    0.000    0.000    0.000    0.000 _dill.py:946(_create_array)\n",
      "       90    0.000    0.000    0.000    0.000 inspect.py:2969(<genexpr>)\n",
      "        2    0.000    0.000    0.000    0.000 {built-in method builtins.compile}\n",
      "        4    0.000    0.000    0.000    0.000 base.py:1139(take)\n",
      "       22    0.000    0.000    0.000    0.000 readers.py:1502(_check_file_or_buffer)\n",
      "      264    0.000    0.000    0.000    0.000 {built-in method numpy.core._multiarray_umath.normalize_axis_index}\n",
      "      216    0.000    0.000    0.000    0.000 _param_validation.py:260(__init__)\n",
      "        4    0.000    0.000    0.000    0.000 base.py:3945(_get_indexer)\n",
      "       23    0.000    0.000    0.000    0.000 base.py:61(__len__)\n",
      "       22    0.000    0.000    0.000    0.000 base_parser.py:278(_extract_multi_indexer_columns)\n",
      "       44    0.000    0.000    0.000    0.000 parse.py:122(_coerce_args)\n",
      "       22    0.000    0.000    0.000    0.000 common.py:503(get_compression_method)\n",
      "       21    0.000    0.000    0.000    0.000 pathlib.py:608(_format_parsed_parts)\n",
      "        5    0.000    0.000    0.000    0.000 expressions.py:226(evaluate)\n",
      "        3    0.000    0.000    0.000    0.000 managers.py:918(_verify_integrity)\n",
      "       22    0.000    0.000    0.000    0.000 c_parser_wrapper.py:330(<dictcomp>)\n",
      "        4    0.000    0.000    0.000    0.000 generic.py:1381(_indexed_same)\n",
      "       22    0.000    0.000    0.000    0.000 {method 'match' of 're.Pattern' objects}\n",
      "      236    0.000    0.000    0.000    0.000 {built-in method numpy.geterrobj}\n",
      "       14    0.000    0.000    0.000    0.000 indexing.py:1629(_validate_integer)\n",
      "       10    0.000    0.000    0.000    0.000 indexing.py:1614(_is_scalar_access)\n",
      "       12    0.000    0.000    0.000    0.000 _methods.py:61(_all)\n",
      "       22    0.000    0.000    0.000    0.000 c_parser_wrapper.py:392(ensure_dtype_objs)\n",
      "       19    0.000    0.000    0.000    0.000 {function Unpickler.find_class at 0x7de521e46a70}\n",
      "      114    0.000    0.000    0.000    0.000 codecs.py:331(getstate)\n",
      "       51    0.000    0.000    0.000    0.000 base.py:791(is_)\n",
      "       22    0.000    0.000    0.000    0.000 codecs.py:309(__init__)\n",
      "       36    0.000    0.000    0.000    0.000 validation.py:581(_ensure_no_complex_data)\n",
      "       22    0.000    0.000    0.000    0.000 c_parser_wrapper.py:212(<dictcomp>)\n",
      "       19    0.000    0.000    0.000    0.000 base.py:420(_check_feature_names)\n",
      "        5    0.000    0.000    0.000    0.000 expressions.py:67(_evaluate_standard)\n",
      "       44    0.000    0.000    0.000    0.000 inference.py:105(is_file_like)\n",
      "       22    0.000    0.000    0.000    0.000 common.py:192(validate_header_arg)\n",
      "       18    0.000    0.000    0.000    0.000 <frozen importlib._bootstrap>:404(parent)\n",
      "       22    0.000    0.000    0.000    0.000 copy.py:66(copy)\n",
      "       22    0.000    0.000    0.000    0.000 common.py:1107(_maybe_memory_map)\n",
      "       36    0.000    0.000    0.000    0.000 {built-in method _abc._abc_subclasscheck}\n",
      "       22    0.000    0.000    0.000    0.000 base_parser.py:1247(_process_date_conversion)\n",
      "       44    0.000    0.000    0.000    0.000 posixpath.py:41(_get_sep)\n",
      "       27    0.000    0.000    0.000    0.000 common.py:1025(needs_i8_conversion)\n",
      "       10    0.000    0.000    0.000    0.000 indexing.py:948(_is_nested_tuple_indexer)\n",
      "       63    0.000    0.000    0.000    0.000 pathlib.py:600(_from_parsed_parts)\n",
      "      308    0.000    0.000    0.000    0.000 {method 'pop' of 'set' objects}\n",
      "        5    0.000    0.000    0.000    0.000 {pandas._libs.algos.take_2d_axis0_object_object}\n",
      "       10    0.000    0.000    0.000    0.000 base.py:6239(_index_as_unique)\n",
      "       22    0.000    0.000    0.000    0.000 types.py:176(__get__)\n",
      "      275    0.000    0.000    0.000    0.000 {method 'items' of 'dict' objects}\n",
      "       12    0.000    0.000    0.000    0.000 generic.py:1383(<genexpr>)\n",
      "        8    0.000    0.000    0.000    0.000 common.py:1183(is_bool_dtype)\n",
      "        1    0.000    0.000    0.000    0.000 utils.py:419(check_array_indexer)\n",
      "       22    0.000    0.000    0.000    0.000 base_parser.py:1113(_make_date_converter)\n",
      "        6    0.000    0.000    0.000    0.000 numeric.py:1330(normalize_axis_tuple)\n",
      "       72    0.000    0.000    0.000    0.000 _base.py:1461(issparse)\n",
      "        4    0.000    0.000    0.000    0.000 blocks.py:387(_split_op_result)\n",
      "       59    0.000    0.000    0.000    0.000 _ufunc_config.py:426(__init__)\n",
      "        6    0.000    0.000    0.000    0.000 function_base.py:110(<lambda>)\n",
      "        6    0.000    0.000    0.000    0.000 function_base.py:4619(_get_gamma)\n",
      "      192    0.000    0.000    0.000    0.000 {built-in method _warnings._filters_mutated}\n",
      "       16    0.000    0.000    0.000    0.000 blocks.py:226(fill_value)\n",
      "        5    0.000    0.000    0.000    0.000 {pandas._libs.algos.take_2d_axis1_float64_float64}\n",
      "       22    0.000    0.000    0.000    0.000 base.py:510(find)\n",
      "       22    0.000    0.000    0.000    0.000 base_parser.py:1404(_validate_parse_dates_arg)\n",
      "       22    0.000    0.000    0.000    0.000 <string>:1(<lambda>)\n",
      "       24    0.000    0.000    0.000    0.000 {method 'astype' of 'numpy.ndarray' objects}\n",
      "       36    0.000    0.000    0.000    0.000 {built-in method builtins.vars}\n",
      "       22    0.000    0.000    0.000    0.000 {built-in method _codecs.lookup}\n",
      "        2    0.000    0.000    0.000    0.000 series.py:1016(__getitem__)\n",
      "       20    0.000    0.000    0.000    0.000 indexing.py:2651(is_label_like)\n",
      "       18    0.000    0.000    0.000    0.000 getlimits.py:484(__new__)\n",
      "      198    0.000    0.000    0.000    0.000 {method 'lower' of 'str' objects}\n",
      "       19    0.000    0.000    0.000    0.000 blocks.py:265(make_block_same_class)\n",
      "        5    0.000    0.000    0.000    0.000 blocks.py:2375(new_block_2d)\n",
      "        7    0.000    0.000    0.000    0.000 {method 'min' of 'numpy.ndarray' objects}\n",
      "       22    0.000    0.000    0.000    0.000 c_parser_wrapper.py:213(<listcomp>)\n",
      "        4    0.000    0.000    0.000    0.000 blocks.py:247(make_block)\n",
      "        4    0.000    0.000    0.000    0.000 generic.py:2082(__array__)\n",
      "      158    0.000    0.000    0.000    0.000 base.py:5127(_values)\n",
      "      132    0.000    0.000    0.000    0.000 {method 'replace' of 'str' objects}\n",
      "        1    0.000    0.000    0.000    0.000 fromnumeric.py:3269(round)\n",
      "       54    0.000    0.000    0.000    0.000 common.py:123(<lambda>)\n",
      "       36    0.000    0.000    0.000    0.000 validation.py:639(_is_extension_array_dtype)\n",
      "        7    0.000    0.000    0.000    0.000 blocks.py:323(getitem_block_columns)\n",
      "       90    0.000    0.000    0.000    0.000 _array_api.py:170(_check_device_cpu)\n",
      "       30    0.000    0.000    0.000    0.000 indexing.py:1144(<genexpr>)\n",
      "       18    0.000    0.000    0.000    0.000 {built-in method numpy.zeros}\n",
      "       58    0.000    0.000    0.000    0.000 {method 'insert' of 'list' objects}\n",
      "       22    0.000    0.000    0.000    0.000 base_parser.py:883(_check_data_length)\n",
      "       22    0.000    0.000    0.000    0.000 <string>:2(__init__)\n",
      "        1    0.000    0.000    0.000    0.000 fromnumeric.py:53(_wrapfunc)\n",
      "        2    0.000    0.000    0.000    0.000 base.py:6134(_raise_if_missing)\n",
      "       74    0.000    0.000    0.000    0.000 base.py:974(dtype)\n",
      "       22    0.000    0.000    0.000    0.000 c_parser_wrapper.py:326(<listcomp>)\n",
      "        4    0.000    0.000    0.000    0.000 {method 'get_indexer' of 'pandas._libs.index.IndexEngine' objects}\n",
      "        7    0.000    0.000    0.000    0.000 _methods.py:43(_amin)\n",
      "        4    0.000    0.000    0.000    0.000 base.py:6343(_is_comparable_dtype)\n",
      "        1    0.000    0.000    0.000    0.000 cleaning_utils.py:10(sigmoid)\n",
      "        3    0.000    0.000    0.000    0.000 _dill.py:434(__init__)\n",
      "        3    0.000    0.000    0.000    0.000 {built-in method _operator.add}\n",
      "        1    0.000    0.000    0.000    0.000 fromnumeric.py:40(_wrapit)\n",
      "       22    0.000    0.000    0.000    0.000 _validators.py:226(validate_bool_kwarg)\n",
      "      198    0.000    0.000    0.000    0.000 inspect.py:2687(name)\n",
      "        5    0.000    0.000    0.000    0.000 managers.py:2042(create_block_manager_from_blocks)\n",
      "       22    0.000    0.000    0.000    0.000 base_parser.py:254(_has_complex_date_col)\n",
      "        5    0.000    0.000    0.000    0.000 {pandas._libs.algos.take_2d_axis0_int64_int64}\n",
      "        3    0.000    0.000    0.000    0.000 {method '__exit__' of '_io._IOBase' objects}\n",
      "       36    0.000    0.000    0.000    0.000 inspect.py:277(isfunction)\n",
      "       26    0.000    0.000    0.000    0.000 missing.py:971(clean_reindex_fill_method)\n",
      "      108    0.000    0.000    0.000    0.000 fromnumeric.py:2172(_sum_dispatcher)\n",
      "       36    0.000    0.000    0.000    0.000 validation.py:591(_check_estimator_name)\n",
      "        7    0.000    0.000    0.000    0.000 _dtype.py:346(_name_get)\n",
      "       72    0.000    0.000    0.000    0.000 {method 'isidentifier' of 'str' objects}\n",
      "       18    0.000    0.000    0.000    0.000 base.py:176(<listcomp>)\n",
      "        4    0.000    0.000    0.000    0.000 common.py:1066(is_numeric_dtype)\n",
      "       47    0.000    0.000    0.000    0.000 {method 'lstrip' of 'str' objects}\n",
      "       54    0.000    0.000    0.000    0.000 common.py:121(classes)\n",
      "       11    0.000    0.000    0.000    0.000 managers.py:2268(_preprocess_slice_or_indexer)\n",
      "       54    0.000    0.000    0.000    0.000 _param_validation.py:296(is_satisfied_by)\n",
      "       10    0.000    0.000    0.000    0.000 {built-in method numpy.core.multiarray._reconstruct}\n",
      "       22    0.000    0.000    0.000    0.000 readers.py:1850(_clean_na_values)\n",
      "        4    0.000    0.000    0.000    0.000 base.py:6251(_maybe_promote)\n",
      "       18    0.000    0.000    0.000    0.000 _data.py:796(__init__)\n",
      "       22    0.000    0.000    0.000    0.000 _validators.py:450(check_dtype_backend)\n",
      "        1    0.000    0.000    0.000    0.000 {built-in method builtins.round}\n",
      "       10    0.000    0.000    0.000    0.000 {method '__setstate__' of 'numpy.ndarray' objects}\n",
      "       16    0.000    0.000    0.000    0.000 missing.py:642(na_value_for_dtype)\n",
      "       23    0.000    0.000    0.000    0.000 take.py:326(_get_take_nd_function)\n",
      "       11    0.000    0.000    0.000    0.000 managers.py:931(from_blocks)\n",
      "       18    0.000    0.000    0.000    0.000 inspect.py:632(_is_wrapper)\n",
      "       22    0.000    0.000    0.000    0.000 {method 'encode' of 'str' objects}\n",
      "       10    0.000    0.000    0.000    0.000 indexing.py:909(_expand_ellipsis)\n",
      "        3    0.000    0.000    0.000    0.000 base.py:5392(_getitem_slice)\n",
      "        4    0.000    0.000    0.000    0.000 algorithms.py:1211(take)\n",
      "       18    0.000    0.000    0.000    0.000 inspect.py:191(isclass)\n",
      "       72    0.000    0.000    0.000    0.000 enum.py:678(__new__)\n",
      "       22    0.000    0.000    0.000    0.000 readers.py:2153(_validate_skipfooter)\n",
      "       43    0.000    0.000    0.000    0.000 {method 'join' of 'str' objects}\n",
      "       44    0.000    0.000    0.000    0.000 readers.py:518(validate_integer)\n",
      "       44    0.000    0.000    0.000    0.000 {pandas._libs.algos.ensure_object}\n",
      "       22    0.000    0.000    0.000    0.000 common.py:514(is_string_or_object_np_dtype)\n",
      "        6    0.000    0.000    0.000    0.000 inference.py:195(is_array_like)\n",
      "        8    0.000    0.000    0.000    0.000 frame.py:966(shape)\n",
      "       18    0.000    0.000    0.000    0.000 _data.py:801(_reset)\n",
      "       91    0.000    0.000    0.000    0.000 series.py:1381(_clear_item_cache)\n",
      "        2    0.000    0.000    0.000    0.000 series.py:1139(_get_value)\n",
      "       22    0.000    0.000    0.000    0.000 {built-in method sys.getfilesystemencoding}\n",
      "       66    0.000    0.000    0.000    0.000 base_parser.py:1425(is_index_col)\n",
      "        1    0.000    0.000    0.000    0.000 common.py:675(is_signed_integer_dtype)\n",
      "       22    0.000    0.000    0.000    0.000 {built-in method _codecs.lookup_error}\n",
      "       22    0.000    0.000    0.000    0.000 base_parser.py:234(<setcomp>)\n",
      "        4    0.000    0.000    0.000    0.000 array_ops.py:466(get_array_op)\n",
      "       38    0.000    0.000    0.000    0.000 managers.py:185(blklocs)\n",
      "       31    0.000    0.000    0.000    0.000 function.py:64(__call__)\n",
      "       19    0.000    0.000    0.000    0.000 validation.py:1987(_get_feature_names)\n",
      "       18    0.000    0.000    0.000    0.000 {built-in method sys.getrecursionlimit}\n",
      "       10    0.000    0.000    0.000    0.000 shape_base.py:608(_column_stack_dispatcher)\n",
      "       27    0.000    0.000    0.000    0.000 managers.py:335(<dictcomp>)\n",
      "        6    0.000    0.000    0.000    0.000 _ufunc_config.py:452(_no_nep50_warning)\n",
      "        2    0.000    0.000    0.000    0.000 roperator.py:14(rsub)\n",
      "       30    0.000    0.000    0.000    0.000 indexing.py:1143(<genexpr>)\n",
      "       12    0.000    0.000    0.000    0.000 generic.py:46(_subclasscheck)\n",
      "        5    0.000    0.000    0.000    0.000 construction.py:742(_get_axes)\n",
      "       59    0.000    0.000    0.000    0.000 base.py:1657(name)\n",
      "       12    0.000    0.000    0.000    0.000 generic.py:568(_get_block_manager_axis)\n",
      "       22    0.000    0.000    0.000    0.000 readers.py:2055(_extract_dialect)\n",
      "       50    0.000    0.000    0.000    0.000 common.py:189(<genexpr>)\n",
      "       30    0.000    0.000    0.000    0.000 indexing.py:2694(<genexpr>)\n",
      "       18    0.000    0.000    0.000    0.000 {method 'values' of 'mappingproxy' objects}\n",
      "       19    0.000    0.000    0.000    0.000 indexing.py:150(iloc)\n",
      "        3    0.000    0.000    0.000    0.000 base.py:4190(_validate_positional_slice)\n",
      "       30    0.000    0.000    0.000    0.000 indexing.py:2685(<genexpr>)\n",
      "       44    0.000    0.000    0.000    0.000 {pandas._libs.lib.is_bool}\n",
      "        2    0.000    0.000    0.000    0.000 {method 'sum' of 'numpy.ndarray' objects}\n",
      "        5    0.000    0.000    0.000    0.000 dispatch.py:17(should_extension_dispatch)\n",
      "       22    0.000    0.000    0.000    0.000 {method 'update' of 'dict' objects}\n",
      "       18    0.000    0.000    0.000    0.000 {method 'rpartition' of 'str' objects}\n",
      "       30    0.000    0.000    0.000    0.000 indexing.py:955(<genexpr>)\n",
      "       20    0.000    0.000    0.000    0.000 indexing.py:966(_validate_key_length)\n",
      "       22    0.000    0.000    0.000    0.000 base_parser.py:976(_validate_usecols_arg)\n",
      "        5    0.000    0.000    0.000    0.000 array_ops.py:509(maybe_prepare_scalar_for_op)\n",
      "       49    0.000    0.000    0.000    0.000 series.py:577(_constructor)\n",
      "       13    0.000    0.000    0.000    0.000 common.py:306(is_null_slice)\n",
      "      108    0.000    0.000    0.000    0.000 inspect.py:2699(kind)\n",
      "        4    0.000    0.000    0.000    0.000 frame.py:1030(_values)\n",
      "       22    0.000    0.000    0.000    0.000 codecs.py:260(__init__)\n",
      "        5    0.000    0.000    0.000    0.000 {pandas._libs.algos.take_1d_int64_int64}\n",
      "        5    0.000    0.000    0.000    0.000 construction.py:405(_check_values_indices_shape_match)\n",
      "        2    0.000    0.000    0.000    0.000 {pandas._libs.algos.take_2d_axis0_float64_float64}\n",
      "        2    0.000    0.000    0.000    0.000 _methods.py:47(_sum)\n",
      "       25    0.000    0.000    0.000    0.000 range.py:213(_validate_dtype)\n",
      "        4    0.000    0.000    0.000    0.000 ops.py:108(_get_same_shape_values)\n",
      "        1    0.000    0.000    0.000    0.000 {method 'round' of 'numpy.ndarray' objects}\n",
      "       12    0.000    0.000    0.000    0.000 common.py:1390(_get_dtype)\n",
      "        1    0.000    0.000    0.000    0.000 managers.py:569(<listcomp>)\n",
      "        4    0.000    0.000    0.000    0.000 ops.py:96(_reset_block_mgr_locs)\n",
      "        1    0.000    0.000    0.000    0.000 base.py:798(tolist)\n",
      "       44    0.000    0.000    0.000    0.000 parse.py:111(_noop)\n",
      "        6    0.000    0.000    0.000    0.000 {method 'sort' of 'numpy.ndarray' objects}\n",
      "       31    0.000    0.000    0.000    0.000 managers.py:235(items)\n",
      "       20    0.000    0.000    0.000    0.000 indexing.py:1627(<genexpr>)\n",
      "        3    0.000    0.000    0.000    0.000 {built-in method builtins.sum}\n",
      "       22    0.000    0.000    0.000    0.000 enum.py:801(value)\n",
      "        1    0.000    0.000    0.000    0.000 cast.py:1359(np_find_common_type)\n",
      "       24    0.000    0.000    0.000    0.000 fromnumeric.py:2317(_any_dispatcher)\n",
      "        2    0.000    0.000    0.000    0.000 traitlets.py:677(__get__)\n",
      "        1    0.000    0.000    0.000    0.000 managers.py:566(copy_func)\n",
      "        4    0.000    0.000    0.000    0.000 base.py:3990(_check_indexing_method)\n",
      "       10    0.000    0.000    0.000    0.000 shape_base.py:207(_arrays_for_stack_dispatcher)\n",
      "       10    0.000    0.000    0.000    0.000 frame.py:949(axes)\n",
      "       18    0.000    0.000    0.000    0.000 {built-in method builtins.id}\n",
      "       43    0.000    0.000    0.000    0.000 {method 'reverse' of 'list' objects}\n",
      "       22    0.000    0.000    0.000    0.000 readers.py:550(_validate_names)\n",
      "       46    0.000    0.000    0.000    0.000 {pandas._libs.algos.ensure_platform_int}\n",
      "       44    0.000    0.000    0.000    0.000 {method 'values' of 'dict' objects}\n",
      "       18    0.000    0.000    0.000    0.000 _array_api.py:12(_check_array_api_dispatch)\n",
      "        1    0.000    0.000    0.000    0.000 base.py:1010(view)\n",
      "        9    0.000    0.000    0.000    0.000 base.py:6625(_validate_indexer)\n",
      "        5    0.000    0.000    0.000    0.000 missing.py:131(dispatch_fill_zeros)\n",
      "       26    0.000    0.000    0.000    0.000 {method 'strip' of 'str' objects}\n",
      "        6    0.000    0.000    0.000    0.000 base.py:2756(_is_multi)\n",
      "        7    0.000    0.000    0.000    0.000 range.py:316(step)\n",
      "       21    0.000    0.000    0.000    0.000 {built-in method pandas._libs.missing.checknull}\n",
      "        9    0.000    0.000    0.000    0.000 frame.py:4399(_clear_item_cache)\n",
      "       22    0.000    0.000    0.000    0.000 base_parser.py:246(<listcomp>)\n",
      "        1    0.000    0.000    0.000    0.000 {method 'index' of 'list' objects}\n",
      "        4    0.000    0.000    0.000    0.000 {method 'take' of 'numpy.ndarray' objects}\n",
      "       22    0.000    0.000    0.000    0.000 copy.py:107(_copy_immutable)\n",
      "        1    0.000    0.000    0.000    0.000 {method 'tolist' of 'numpy.ndarray' objects}\n",
      "        6    0.000    0.000    0.000    0.000 managers.py:920(<genexpr>)\n",
      "       18    0.000    0.000    0.000    0.000 {method 'ravel' of 'numpy.ndarray' objects}\n",
      "       27    0.000    0.000    0.000    0.000 managers.py:1790(ndim)\n",
      "        6    0.000    0.000    0.000    0.000 numeric.py:1380(<listcomp>)\n",
      "        7    0.000    0.000    0.000    0.000 blocks.py:1016(_slice)\n",
      "        4    0.000    0.000    0.000    0.000 common.py:1366(_is_dtype)\n",
      "        2    0.000    0.000    0.000    0.000 api.py:379(default_index)\n",
      "        4    0.000    0.000    0.000    0.000 astype.py:250(astype_is_view)\n",
      "       22    0.000    0.000    0.000    0.000 {built-in method builtins.iter}\n",
      "        2    0.000    0.000    0.000    0.000 {method 'reshape' of 'numpy.generic' objects}\n",
      "        2    0.000    0.000    0.000    0.000 range.py:409(get_loc)\n",
      "       30    0.000    0.000    0.000    0.000 indexing.py:915(<genexpr>)\n",
      "        4    0.000    0.000    0.000    0.000 base.py:7651(_unpack_nested_dtype)\n",
      "       10    0.000    0.000    0.000    0.000 contextlib.py:420(__init__)\n",
      "        3    0.000    0.000    0.000    0.000 generic.py:389(attrs)\n",
      "        1    0.000    0.000    0.000    0.000 _set_output.py:97(_wrap_data_with_container)\n",
      "        1    0.000    0.000    0.000    0.000 base.py:773(_view)\n",
      "        1    0.000    0.000    0.000    0.000 {method 'nonzero' of 'numpy.ndarray' objects}\n",
      "        4    0.000    0.000    0.000    0.000 frame.py:7789(_should_reindex_frame_op)\n",
      "       18    0.000    0.000    0.000    0.000 multiarray.py:1393(may_share_memory)\n",
      "       22    0.000    0.000    0.000    0.000 {built-in method builtins.ord}\n",
      "       19    0.000    0.000    0.000    0.000 blocks.py:239(mgr_locs)\n",
      "        9    0.000    0.000    0.000    0.000 managers.py:230(is_single_block)\n",
      "        4    0.000    0.000    0.000    0.000 compilerop.py:180(extra_flags)\n",
      "        2    0.000    0.000    0.000    0.000 base.py:4441(_wrap_reindex_result)\n",
      "       18    0.000    0.000    0.000    0.000 inspect.py:3006(parameters)\n",
      "        2    0.000    0.000    0.000    0.000 traitlets.py:630(get)\n",
      "       18    0.000    0.000    0.000    0.000 fromnumeric.py:2589(_ptp_dispatcher)\n",
      "       22    0.000    0.000    0.000    0.000 readers.py:1779(__enter__)\n",
      "        5    0.000    0.000    0.000    0.000 common.py:131(<lambda>)\n",
      "        1    0.000    0.000    0.000    0.000 _set_output.py:63(_get_output_config)\n",
      "        6    0.000    0.000    0.000    0.000 arraysetops.py:125(_unpack_tuple)\n",
      "       22    0.000    0.000    0.000    0.000 frame.py:637(_constructor)\n",
      "        1    0.000    0.000    0.000    0.000 causal_insight_slim.py:143(<listcomp>)\n",
      "        7    0.000    0.000    0.000    0.000 _dtype.py:330(_name_includes_bit_suffix)\n",
      "        1    0.000    0.000    0.000    0.000 {pandas._libs.algos.take_1d_object_object}\n",
      "       10    0.000    0.000    0.000    0.000 contextlib.py:426(__exit__)\n",
      "        2    0.000    0.000    0.000    0.000 <frozen importlib._bootstrap>:1053(_handle_fromlist)\n",
      "        2    0.000    0.000    0.000    0.000 base.py:4445(_maybe_preserve_names)\n",
      "        3    0.000    0.000    0.000    0.000 {method 'set' of '_contextvars.ContextVar' objects}\n",
      "        7    0.000    0.000    0.000    0.000 {built-in method pandas._libs.internals.slice_len}\n",
      "       15    0.000    0.000    0.000    0.000 base.py:363(ndim)\n",
      "       11    0.000    0.000    0.000    0.000 base.py:1169(_maybe_disallow_fill)\n",
      "        1    0.000    0.000    0.000    0.000 {method 'sort' of 'list' objects}\n",
      "        1    0.000    0.000    0.000    0.000 common.py:81(get_op_result_name)\n",
      "        7    0.000    0.000    0.000    0.000 _dtype.py:24(_kind_name)\n",
      "        3    0.000    0.000    0.000    0.000 {method 'reset' of '_contextvars.ContextVar' objects}\n",
      "       12    0.000    0.000    0.000    0.000 fromnumeric.py:2416(_all_dispatcher)\n",
      "        5    0.000    0.000    0.000    0.000 construction.py:585(_ensure_2d)\n",
      "        5    0.000    0.000    0.000    0.000 array_ops.py:590(_bool_arith_check)\n",
      "        2    0.000    0.000    0.000    0.000 base.py:2774(_na_value)\n",
      "        2    0.000    0.000    0.000    0.000 interactiveshell.py:3466(compare)\n",
      "        5    0.000    0.000    0.000    0.000 common.py:126(_classes_and_not_datetimelike)\n",
      "        3    0.000    0.000    0.000    0.000 blocks.py:1003(shape)\n",
      "        6    0.000    0.000    0.000    0.000 arraysetops.py:133(_unique_dispatcher)\n",
      "        7    0.000    0.000    0.000    0.000 range.py:377(dtype)\n",
      "        2    0.000    0.000    0.000    0.000 {pandas._libs.internals.get_blkno_placements}\n",
      "        6    0.000    0.000    0.000    0.000 function_base.py:111(<lambda>)\n",
      "        7    0.000    0.000    0.000    0.000 range.py:281(start)\n",
      "        4    0.000    0.000    0.000    0.000 common.py:1107(<lambda>)\n",
      "        2    0.000    0.000    0.000    0.000 interactiveshell.py:1255(user_global_ns)\n",
      "        4    0.000    0.000    0.000    0.000 blocks.py:243(mgr_locs)\n",
      "        2    0.000    0.000    0.000    0.000 {built-in method builtins.max}\n",
      "       10    0.000    0.000    0.000    0.000 contextlib.py:423(__enter__)\n",
      "        6    0.000    0.000    0.000    0.000 function_base.py:3987(_percentile_dispatcher)\n",
      "        9    0.000    0.000    0.000    0.000 {method 'clear' of 'dict' objects}\n",
      "        1    0.000    0.000    0.000    0.000 range.py:554(equals)\n",
      "        2    0.000    0.000    0.000    0.000 {method 'index' of 'range' objects}\n",
      "        6    0.000    0.000    0.000    0.000 {built-in method _operator.index}\n",
      "        1    0.000    0.000    0.000    0.000 _dill.py:587(_load_type)\n",
      "        9    0.000    0.000    0.000    0.000 {pandas._libs.lib.is_int_or_none}\n",
      "        2    0.000    0.000    0.000    0.000 arraylike.py:415(_standardize_out_kwarg)\n",
      "        3    0.000    0.000    0.000    0.000 indexing.py:2665(need_slice)\n",
      "        2    0.000    0.000    0.000    0.000 base.py:7580(ensure_has_len)\n",
      "        1    0.000    0.000    0.000    0.000 series.py:5821(_align_for_op)\n",
      "        4    0.000    0.000    0.000    0.000 range.py:228(_constructor)\n",
      "        4    0.000    0.000    0.000    0.000 {method 'extend' of 'list' objects}\n",
      "        3    0.000    0.000    0.000    0.000 numeric.py:837(_outer_dispatcher)\n",
      "        2    0.000    0.000    0.000    0.000 base.py:692(_constructor)\n",
      "        2    0.000    0.000    0.000    0.000 {pandas._libs.lib.is_bool_list}\n",
      "        1    0.000    0.000    0.000    0.000 {method 'disable' of '_lsprof.Profiler' objects}\n",
      "        2    0.000    0.000    0.000    0.000 base.py:1954(nlevels)\n",
      "        1    0.000    0.000    0.000    0.000 multiarray.py:669(result_type)\n",
      "        1    0.000    0.000    0.000    0.000 base.py:292(_consolidate_inplace)\n",
      "        1    0.000    0.000    0.000    0.000 range.py:452(_should_fallback_to_positional)\n",
      "        1    0.000    0.000    0.000    0.000 fromnumeric.py:3265(_round_dispatcher)\n",
      "\n",
      "\n"
     ]
    }
   ],
   "source": [
    "def grouped_run():\n",
    "    ci = CausalInsight(\n",
    "        outcome_dataset=outcome,\n",
    "        intervention_dataset=intervention,\n",
    "        num_samples=num_samples,\n",
    "    )\n",
    "\n",
    "    ci.get_tau_samples()\n",
    "    percent_calc = ci.slider_values_to_interventions(intervened_percent=50, year=year)\n",
    "    assert percent_calc[\"intervened_transformed\"] > -1\n",
    "\n",
    "    ci.get_group_predictions(\n",
    "        intervened_value=percent_calc[\"intervened_transformed\"],\n",
    "        group=texas,\n",
    "        intervention_is_percentile=True,\n",
    "        produce_original=True,\n",
    "    )\n",
    "\n",
    "\n",
    "profiler_grouped = cProfile.Profile()\n",
    "\n",
    "profiler_grouped.enable()\n",
    "grouped_run()\n",
    "profiler_grouped.disable()\n",
    "\n",
    "profiler_grouped.print_stats(sort=\"cumulative\")"
   ]
  },
  {
   "cell_type": "code",
   "execution_count": 10,
   "metadata": {},
   "outputs": [
    {
     "name": "stdout",
     "output_type": "stream",
     "text": [
      "         179631 function calls (176731 primitive calls) in 0.171 seconds\n",
      "\n",
      "   Ordered by: cumulative time\n",
      "\n",
      "   ncalls  tottime  percall  cumtime  percall filename:lineno(function)\n",
      "        2    0.000    0.000    0.171    0.086 interactiveshell.py:3514(run_code)\n",
      "        2    0.000    0.000    0.171    0.086 {built-in method builtins.exec}\n",
      "        1    0.001    0.001    0.171    0.171 118896306.py:1(<module>)\n",
      "        1    0.000    0.000    0.170    0.170 118896306.py:1(grouped_run_no_original)\n",
      "        1    0.000    0.000    0.158    0.158 causal_insight_slim.py:106(get_group_predictions)\n",
      "        1    0.001    0.001    0.081    0.081 causal_insight_slim.py:332(<dictcomp>)\n",
      "      266    0.001    0.000    0.075    0.000 frame.py:665(__init__)\n",
      "      260    0.001    0.000    0.070    0.000 construction.py:423(dict_to_mgr)\n",
      "        6    0.000    0.000    0.055    0.009 readers.py:848(read_csv)\n",
      "        6    0.000    0.000    0.055    0.009 readers.py:574(_read)\n",
      "      260    0.001    0.000    0.042    0.000 construction.py:96(arrays_to_mgr)\n",
      "        6    0.000    0.000    0.041    0.007 readers.py:1732(read)\n",
      "        3    0.000    0.000    0.033    0.011 data_grabber.py:29(get_features_wide)\n",
      "        6    0.000    0.000    0.032    0.005 c_parser_wrapper.py:222(read)\n",
      "        6    0.030    0.005    0.030    0.005 {method 'read_low_memory' of 'pandas._libs.parsers.TextReader' objects}\n",
      "     1393    0.006    0.000    0.027    0.000 construction.py:519(sanitize_array)\n",
      "        1    0.000    0.000    0.022    0.022 data_grabber.py:34(get_features_std_wide)\n",
      "      260    0.002    0.000    0.022    0.000 construction.py:596(_homogenize)\n",
      "      279    0.003    0.000    0.018    0.000 base.py:478(__new__)\n",
      "        6    0.000    0.000    0.017    0.003 function_base.py:3992(percentile)\n",
      "        6    0.000    0.000    0.017    0.003 function_base.py:4547(_quantile_unchecked)\n",
      "        6    0.000    0.000    0.017    0.003 function_base.py:3763(_ureduce)\n",
      "        6    0.000    0.000    0.017    0.003 function_base.py:4696(_quantile_ureduce_func)\n",
      "      267    0.001    0.000    0.016    0.000 indexing.py:1139(__getitem__)\n",
      "      260    0.001    0.000    0.014    0.000 managers.py:2068(create_block_manager_from_column_arrays)\n",
      "        6    0.000    0.000    0.014    0.002 function_base.py:4764(_quantile)\n",
      "        6    0.000    0.000    0.014    0.002 readers.py:1403(__init__)\n",
      "        6    0.000    0.000    0.013    0.002 readers.py:1673(_make_engine)\n",
      "        6    0.013    0.002    0.013    0.002 {method 'partition' of 'numpy.ndarray' objects}\n",
      "      255    0.001    0.000    0.013    0.000 indexing.py:1359(_getitem_axis)\n",
      "45193/44169    0.007    0.000    0.013    0.000 {built-in method builtins.isinstance}\n",
      "        6    0.012    0.002    0.012    0.002 c_parser_wrapper.py:60(__init__)\n",
      "      260    0.003    0.000    0.011    0.000 managers.py:2137(_form_blocks)\n",
      "        1    0.000    0.000    0.011    0.011 causal_insight_slim.py:47(slider_values_to_interventions)\n",
      "      254    0.000    0.000    0.010    0.000 indexing.py:1341(_get_label)\n",
      "     1062    0.005    0.000    0.010    0.000 {pandas._libs.lib.maybe_convert_objects}\n",
      "      254    0.002    0.000    0.009    0.000 generic.py:4094(xs)\n",
      "        1    0.000    0.000    0.009    0.009 cleaning_utils.py:37(revert_standardize_and_scale_scaler)\n",
      "      526    0.001    0.000    0.008    0.000 cast.py:119(maybe_convert_platform)\n",
      "      536    0.001    0.000    0.006    0.000 cast.py:1147(maybe_infer_to_datetimelike)\n",
      "     8845    0.002    0.000    0.005    0.000 generic.py:42(_instancecheck)\n",
      "        1    0.001    0.001    0.005    0.005 causal_insight_slim.py:198(<listcomp>)\n",
      "      254    0.002    0.000    0.004    0.000 construction.py:638(_extract_index)\n",
      "    20/14    0.000    0.000    0.004    0.000 series.py:371(__init__)\n",
      "     1062    0.002    0.000    0.004    0.000 numeric.py:274(full)\n",
      "      258    0.000    0.000    0.003    0.000 fromnumeric.py:3385(mean)\n",
      "      260    0.001    0.000    0.003    0.000 construction.py:487(<listcomp>)\n",
      "      526    0.003    0.000    0.003    0.000 managers.py:2194(_stack_arrays)\n",
      "      258    0.001    0.000    0.003    0.000 _methods.py:101(_mean)\n",
      "      254    0.000    0.000    0.003    0.000 construction.py:481(<listcomp>)\n",
      "     8857    0.002    0.000    0.003    0.000 generic.py:37(_check)\n",
      "       17    0.003    0.000    0.003    0.000 {method 'copy' of 'numpy.ndarray' objects}\n",
      "      526    0.001    0.000    0.003    0.000 _asarray.py:27(require)\n",
      "      590    0.000    0.000    0.003    0.000 base.py:7521(ensure_index)\n",
      "      263    0.000    0.000    0.003    0.000 managers.py:1744(_consolidate_inplace)\n",
      "     1276    0.001    0.000    0.003    0.000 common.py:296(maybe_iterable_to_list)\n",
      "      263    0.000    0.000    0.002    0.000 managers.py:1726(is_consolidated)\n",
      "13431/11571    0.002    0.000    0.002    0.000 {built-in method builtins.len}\n",
      "      263    0.001    0.000    0.002    0.000 managers.py:1734(_consolidate_check)\n",
      "      265    0.001    0.000    0.002    0.000 frame.py:654(_constructor_sliced_from_mgr)\n",
      "        6    0.000    0.000    0.002    0.000 series.py:524(_init_dict)\n",
      "      277    0.000    0.000    0.002    0.000 config.py:271(__call__)\n",
      "     2150    0.002    0.000    0.002    0.000 {built-in method numpy.empty}\n",
      "      361    0.002    0.000    0.002    0.000 {method 'reduce' of 'numpy.ufunc' objects}\n",
      "      533    0.001    0.000    0.002    0.000 cast.py:1544(construct_1d_object_array_from_listlike)\n",
      "      277    0.000    0.000    0.002    0.000 config.py:145(_get_option)\n",
      "      254    0.001    0.000    0.002    0.000 managers.py:941(fast_xs)\n",
      "       11    0.000    0.000    0.002    0.000 frame.py:3853(__getitem__)\n",
      "     1393    0.001    0.000    0.002    0.000 construction.py:695(_sanitize_ndim)\n",
      "      260    0.001    0.000    0.002    0.000 managers.py:1740(<listcomp>)\n",
      "        2    0.000    0.000    0.002    0.001 _data.py:814(fit)\n",
      "        2    0.000    0.000    0.002    0.001 base.py:1135(wrapper)\n",
      "      573    0.001    0.000    0.002    0.000 generic.py:274(__init__)\n",
      "        9    0.000    0.000    0.002    0.000 generic.py:4077(_take_with_is_copy)\n",
      "      295    0.001    0.000    0.002    0.000 generic.py:6147(__finalize__)\n",
      "       12    0.000    0.000    0.002    0.000 indexing.py:1681(_getitem_axis)\n",
      "        6    0.000    0.000    0.001    0.000 c_parser_wrapper.py:355(_concatenate_chunks)\n",
      "        9    0.000    0.000    0.001    0.000 generic.py:3962(take)\n",
      "      294    0.001    0.000    0.001    0.000 base.py:649(_simple_new)\n",
      "        3    0.000    0.000    0.001    0.000 _dill.py:281(load)\n",
      "        3    0.000    0.000    0.001    0.000 _dill.py:441(load)\n",
      "     1114    0.000    0.000    0.001    0.000 common.py:556(require_length_match)\n",
      "        3    0.001    0.000    0.001    0.000 {function Unpickler.load at 0x7de521e46b90}\n",
      "        9    0.000    0.000    0.001    0.000 managers.py:852(take)\n",
      "    13077    0.001    0.000    0.001    0.000 {built-in method builtins.getattr}\n",
      "        1    0.000    0.000    0.001    0.001 causal_insight_slim.py:40(get_tau_samples)\n",
      "     2668    0.001    0.000    0.001    0.000 abc.py:117(__instancecheck__)\n",
      "      277    0.000    0.000    0.001    0.000 config.py:127(_get_single_key)\n",
      "      855    0.001    0.000    0.001    0.000 generic.py:6206(__setattr__)\n",
      "        3    0.001    0.000    0.001    0.000 numeric.py:841(outer)\n",
      "     1354    0.001    0.000    0.001    0.000 managers.py:2124(_grouping_func)\n",
      "        1    0.000    0.000    0.001    0.001 percentiles.py:36(transformed_intervention_from_percentile)\n",
      "        6    0.000    0.000    0.001    0.000 indexing.py:1658(_get_list_axis)\n",
      "      265    0.000    0.000    0.001    0.000 frame.py:651(_sliced_from_mgr)\n",
      "        2    0.000    0.000    0.001    0.000 _data.py:841(partial_fit)\n",
      "      261    0.000    0.000    0.001    0.000 series.py:626(dtype)\n",
      "1156/1152    0.001    0.000    0.001    0.000 {built-in method numpy.asarray}\n",
      "      278    0.000    0.000    0.001    0.000 common.py:96(is_bool_indexer)\n",
      "      287    0.000    0.000    0.001    0.000 generic.py:335(_from_mgr)\n",
      "      545    0.001    0.000    0.001    0.000 {built-in method numpy.array}\n",
      "        4    0.000    0.000    0.001    0.000 common.py:62(new_method)\n",
      "      803    0.001    0.000    0.001    0.000 blocks.py:2346(get_block_type)\n",
      "       84    0.001    0.000    0.001    0.000 concat.py:52(concat_compat)\n",
      "        9    0.000    0.000    0.001    0.000 managers.py:606(reindex_indexer)\n",
      "        6    0.000    0.000    0.001    0.000 common.py:652(get_handle)\n",
      "      274    0.001    0.000    0.001    0.000 blocks.py:2388(new_block)\n",
      "      261    0.001    0.000    0.001    0.000 managers.py:1949(dtype)\n",
      "      811    0.001    0.000    0.001    0.000 generic.py:562(_get_axis)\n",
      "        9    0.001    0.000    0.001    0.000 {built-in method io.open}\n",
      "     2999    0.001    0.000    0.001    0.000 {pandas._libs.lib.is_list_like}\n",
      "      308    0.000    0.000    0.001    0.000 base.py:7616(maybe_extract_name)\n",
      "        6    0.000    0.000    0.001    0.000 series.py:5482(isna)\n",
      "        6    0.000    0.000    0.001    0.000 series.py:4964(reindex)\n",
      "        6    0.000    0.000    0.001    0.000 generic.py:8402(isna)\n",
      "        3    0.000    0.000    0.001    0.000 arraylike.py:98(__add__)\n",
      "        6    0.000    0.000    0.001    0.000 generic.py:5266(reindex)\n",
      "        3    0.000    0.000    0.001    0.000 frame.py:7634(_arith_method)\n",
      "  341/335    0.000    0.000    0.001    0.000 {built-in method builtins.all}\n",
      "     1393    0.001    0.000    0.001    0.000 construction.py:734(_sanitize_str_dtypes)\n",
      "     1395    0.001    0.000    0.001    0.000 construction.py:420(extract_array)\n",
      "        6    0.000    0.000    0.001    0.000 missing.py:101(isna)\n",
      "        6    0.000    0.000    0.001    0.000 missing.py:184(_isna)\n",
      "      262    0.000    0.000    0.001    0.000 base.py:3763(get_loc)\n",
      "      258    0.001    0.000    0.001    0.000 _methods.py:67(_count_reduce_items)\n",
      "        2    0.000    0.000    0.001    0.000 base.py:6101(_get_indexer_strict)\n",
      "      528    0.000    0.000    0.001    0.000 blocks.py:192(_can_consolidate)\n",
      "      276    0.000    0.000    0.001    0.000 base.py:5350(__getitem__)\n",
      "        6    0.000    0.000    0.001    0.000 indexing.py:1651(_getitem_tuple)\n",
      "     1393    0.000    0.000    0.001    0.000 construction.py:754(_maybe_repeat)\n",
      "      257    0.000    0.000    0.001    0.000 series.py:708(values)\n",
      "     1724    0.000    0.000    0.001    0.000 base.py:909(__len__)\n",
      "       11    0.000    0.000    0.001    0.000 frame.py:3776(_ixs)\n",
      "        4    0.000    0.000    0.001    0.000 validation.py:644(check_array)\n",
      "     2668    0.001    0.000    0.001    0.000 {built-in method _abc._abc_instancecheck}\n",
      "        3    0.000    0.000    0.001    0.000 base.py:509(_validate_data)\n",
      "       34    0.000    0.000    0.001    0.000 codecs.py:319(decode)\n",
      "        9    0.000    0.000    0.001    0.000 frame.py:4402(_get_item_cache)\n",
      "       19    0.000    0.000    0.001    0.000 blocks.py:1041(take_nd)\n",
      "      526    0.000    0.000    0.001    0.000 _asarray.py:108(<setcomp>)\n",
      "      257    0.000    0.000    0.001    0.000 managers.py:1956(external_values)\n",
      "     1614    0.000    0.000    0.001    0.000 common.py:1255(is_1d_only_ea_dtype)\n",
      "       34    0.001    0.000    0.001    0.000 {built-in method _codecs.utf_8_decode}\n",
      "       23    0.000    0.000    0.001    0.000 take.py:59(take_nd)\n",
      "      254    0.000    0.000    0.001    0.000 indexing.py:1188(_validate_key)\n",
      "        5    0.000    0.000    0.000    0.000 managers.py:670(<listcomp>)\n",
      "      294    0.000    0.000    0.000    0.000 {method 'add_index_reference' of 'pandas._libs.internals.BlockValuesRefs' objects}\n",
      "      257    0.000    0.000    0.000    0.000 generic.py:4520(_is_view)\n",
      "     4599    0.000    0.000    0.000    0.000 {method 'append' of 'list' objects}\n",
      "      277    0.000    0.000    0.000    0.000 config.py:633(_get_root)\n",
      "       23    0.000    0.000    0.000    0.000 take.py:121(_take_nd_ndarray)\n",
      "        2    0.000    0.000    0.000    0.000 base.py:630(_validate_params)\n",
      "      558    0.000    0.000    0.000    0.000 common.py:1322(is_ea_or_datetimelike_dtype)\n",
      "        2    0.000    0.000    0.000    0.000 extmath.py:970(_incremental_mean_and_var)\n",
      "        6    0.000    0.000    0.000    0.000 common.py:289(_get_filepath_or_buffer)\n",
      "      257    0.000    0.000    0.000    0.000 blocks.py:222(external_values)\n",
      "      531    0.000    0.000    0.000    0.000 blocks.py:187(is_extension)\n",
      "     3826    0.000    0.000    0.000    0.000 typing.py:1737(cast)\n",
      "      576    0.000    0.000    0.000    0.000 flags.py:53(__init__)\n",
      "        7    0.000    0.000    0.000    0.000 generic.py:6553(copy)\n",
      "        4    0.000    0.000    0.000    0.000 base.py:3859(get_indexer)\n",
      "     2355    0.000    0.000    0.000    0.000 {built-in method builtins.issubclass}\n",
      "      257    0.000    0.000    0.000    0.000 managers.py:445(is_view)\n",
      "      266    0.000    0.000    0.000    0.000 utils.py:62(is_list_like_indexer)\n",
      "      277    0.000    0.000    0.000    0.000 config.py:686(_warn_if_deprecated)\n",
      "      280    0.000    0.000    0.000    0.000 indexing.py:2678(check_dict_or_set_indexers)\n",
      "        6    0.000    0.000    0.000    0.000 readers.py:1782(__exit__)\n",
      "       10    0.000    0.000    0.000    0.000 managers.py:691(_slice_take_blocks_ax0)\n",
      "       12    0.000    0.000    0.000    0.000 generic.py:5509(<genexpr>)\n",
      "        4    0.000    0.000    0.000    0.000 validation.py:92(_assert_all_finite)\n",
      "        6    0.000    0.000    0.000    0.000 readers.py:1450(close)\n",
      "      257    0.000    0.000    0.000    0.000 blocks.py:2586(external_values)\n",
      "      301    0.000    0.000    0.000    0.000 series.py:750(_values)\n",
      "      262    0.000    0.000    0.000    0.000 {method 'get_loc' of 'pandas._libs.index.IndexEngine' objects}\n",
      "       32    0.000    0.000    0.000    0.000 fromnumeric.py:71(_wrapreduction)\n",
      "      554    0.000    0.000    0.000    0.000 config.py:647(_get_deprecated_option)\n",
      "        1    0.000    0.000    0.000    0.000 indexing.py:1167(_getbool_axis)\n",
      "      264    0.000    0.000    0.000    0.000 generic.py:4314(_set_is_copy)\n",
      "       31    0.000    0.000    0.000    0.000 base.py:5519(equals)\n",
      "        6    0.000    0.000    0.000    0.000 base.py:5610(identical)\n",
      "        2    0.000    0.000    0.000    0.000 base.py:6077(get_indexer_for)\n",
      "      279    0.000    0.000    0.000    0.000 base.py:574(_ensure_array)\n",
      "      254    0.000    0.000    0.000    0.000 api.py:202(union_indexes)\n",
      "        2    0.000    0.000    0.000    0.000 base.py:178(get_params)\n",
      "       48    0.000    0.000    0.000    0.000 _methods.py:55(_any)\n",
      "       13    0.000    0.000    0.000    0.000 generic.py:487(_validate_dtype)\n",
      "     1083    0.000    0.000    0.000    0.000 generic.py:548(_get_axis_number)\n",
      "        2    0.000    0.000    0.000    0.000 base.py:147(_get_param_names)\n",
      "        6    0.000    0.000    0.000    0.000 indexing.py:1006(_getitem_lowerdim)\n",
      "        6    0.000    0.000    0.000    0.000 base.py:280(_new_Index)\n",
      "       18    0.000    0.000    0.000    0.000 common.py:1587(pandas_dtype)\n",
      "        1    0.000    0.000    0.000    0.000 _set_output.py:155(wrapped)\n",
      "        6    0.000    0.000    0.000    0.000 series.py:6135(any)\n",
      "       11    0.000    0.000    0.000    0.000 frame.py:4384(_box_col_values)\n",
      "      303    0.000    0.000    0.000    0.000 construction.py:485(ensure_wrapped_if_datetimelike)\n",
      "        3    0.000    0.000    0.000    0.000 frame.py:7815(_align_for_op)\n",
      "        3    0.000    0.000    0.000    0.000 frame.py:7649(_dispatch_frame_op)\n",
      "        1    0.000    0.000    0.000    0.000 series.py:5277(isin)\n",
      "       11    0.000    0.000    0.000    0.000 managers.py:991(iget)\n",
      "      254    0.000    0.000    0.000    0.000 series.py:784(_references)\n",
      "        5    0.000    0.000    0.000    0.000 data_grabber.py:10(find_repo_root)\n",
      "       30    0.000    0.000    0.000    0.000 {method 'any' of 'numpy.ndarray' objects}\n",
      "        1    0.000    0.000    0.000    0.000 _data.py:988(transform)\n",
      "        3    0.000    0.000    0.000    0.000 indexing.py:978(_getitem_tuple_same_dim)\n",
      "      532    0.000    0.000    0.000    0.000 construction.py:687(_sanitize_non_ordered)\n",
      "       10    0.000    0.000    0.000    0.000 managers.py:540(copy)\n",
      "        9    0.000    0.000    0.000    0.000 range.py:134(__new__)\n",
      "      295    0.000    0.000    0.000    0.000 flags.py:89(allows_duplicate_labels)\n",
      "      536    0.000    0.000    0.000    0.000 __init__.py:43(using_pyarrow_string_dtype)\n",
      "        2    0.000    0.000    0.000    0.000 base.py:4328(reindex)\n",
      "        6    0.000    0.000    0.000    0.000 function_base.py:4729(_get_indexes)\n",
      "      346    0.000    0.000    0.000    0.000 inference.py:334(is_hashable)\n",
      "     1114    0.000    0.000    0.000    0.000 {pandas._libs.lib.is_np_dtype}\n",
      "      265    0.000    0.000    0.000    0.000 blocks.py:1007(iget)\n",
      "        7    0.000    0.000    0.000    0.000 base.py:2293(is_unique)\n",
      "        2    0.000    0.000    0.000    0.000 inspect.py:3252(signature)\n",
      "       14    0.000    0.000    0.000    0.000 managers.py:1825(from_array)\n",
      "     1270    0.000    0.000    0.000    0.000 {built-in method builtins.hasattr}\n",
      "      279    0.000    0.000    0.000    0.000 base.py:592(_dtype_to_subclass)\n",
      "        2    0.000    0.000    0.000    0.000 inspect.py:2998(from_callable)\n",
      "      785    0.000    0.000    0.000    0.000 blocks.py:583(dtype)\n",
      "        6    0.000    0.000    0.000    0.000 c_parser_wrapper.py:194(close)\n",
      "      277    0.000    0.000    0.000    0.000 config.py:674(_translate_key)\n",
      "        6    0.000    0.000    0.000    0.000 series.py:6094(_reduce)\n",
      "        2    0.000    0.000    0.000    0.000 inspect.py:2375(_signature_from_callable)\n",
      "        3    0.000    0.000    0.000    0.000 indexing.py:1718(_get_slice_axis)\n",
      "        6    0.000    0.000    0.000    0.000 function_base.py:4565(_quantile_is_valid)\n",
      "     1062    0.000    0.000    0.000    0.000 multiarray.py:1080(copyto)\n",
      "      619    0.000    0.000    0.000    0.000 {built-in method __new__ of type object at 0x740500}\n",
      "        3    0.000    0.000    0.000    0.000 managers.py:1466(operate_blockwise)\n",
      "        7    0.000    0.000    0.000    0.000 range.py:1110(take)\n",
      "        6    0.000    0.000    0.000    0.000 {method 'close' of 'pandas._libs.parsers.TextReader' objects}\n",
      "        3    0.000    0.000    0.000    0.000 ops.py:57(operate_blockwise)\n",
      "        9    0.000    0.000    0.000    0.000 utils.py:239(maybe_convert_indices)\n",
      "        8    0.000    0.000    0.000    0.000 base.py:842(_engine)\n",
      "       23    0.000    0.000    0.000    0.000 take.py:565(_take_preprocess_indexer_and_fill_value)\n",
      "        5    0.000    0.000    0.000    0.000 pathlib.py:957(__new__)\n",
      "        1    0.000    0.000    0.000    0.000 generic.py:2098(__array_ufunc__)\n",
      "       26    0.000    0.000    0.000    0.000 generic.py:760(_set_axis)\n",
      "      799    0.000    0.000    0.000    0.000 {pandas._libs.lib.is_scalar}\n",
      "        2    0.000    0.000    0.000    0.000 _param_validation.py:26(validate_parameter_constraints)\n",
      "        1    0.000    0.000    0.000    0.000 arraylike.py:253(array_ufunc)\n",
      "      520    0.000    0.000    0.000    0.000 base.py:539(<genexpr>)\n",
      "        3    0.000    0.000    0.000    0.000 generic.py:4296(_slice)\n",
      "        5    0.000    0.000    0.000    0.000 pathlib.py:589(_from_parts)\n",
      "       12    0.000    0.000    0.000    0.000 fromnumeric.py:2177(sum)\n",
      "       10    0.000    0.000    0.000    0.000 managers.py:308(apply)\n",
      "        3    0.000    0.000    0.000    0.000 data_grabber.py:21(__init__)\n",
      "      301    0.000    0.000    0.000    0.000 managers.py:1960(internal_values)\n",
      "      276    0.000    0.000    0.000    0.000 common.py:149(cast_scalar_indexer)\n",
      "        1    0.000    0.000    0.000    0.000 algorithms.py:457(isin)\n",
      "        1    0.000    0.000    0.000    0.000 {pandas._libs.ops_dispatch.maybe_dispatch_ufunc_to_dunder_op}\n",
      "      288    0.000    0.000    0.000    0.000 managers.py:1799(__init__)\n",
      "        6    0.000    0.000    0.000    0.000 base_parser.py:114(__init__)\n",
      "      263    0.000    0.000    0.000    0.000 construction.py:196(mgr_to_mgr)\n",
      "       18    0.000    0.000    0.000    0.000 managers.py:169(blknos)\n",
      "        6    0.000    0.000    0.000    0.000 nanops.py:482(nanany)\n",
      "        1    0.000    0.000    0.000    0.000 arraylike.py:196(__rsub__)\n",
      "        1    0.000    0.000    0.000    0.000 series.py:5817(_arith_method)\n",
      "        2    0.000    0.000    0.000    0.000 inspect.py:2280(_signature_from_function)\n",
      "        6    0.000    0.000    0.000    0.000 shape_base.py:612(column_stack)\n",
      "        6    0.000    0.000    0.000    0.000 common.py:145(is_url)\n",
      "        6    0.000    0.000    0.000    0.000 function_base.py:4641(_lerp)\n",
      "        1    0.000    0.000    0.000    0.000 base.py:1370(_arith_method)\n",
      "        5    0.000    0.000    0.000    0.000 pathlib.py:569(_parse_args)\n",
      "       30    0.000    0.000    0.000    0.000 base.py:69(shape)\n",
      "       12    0.000    0.000    0.000    0.000 posixpath.py:71(join)\n",
      "       20    0.000    0.000    0.000    0.000 _ufunc_config.py:33(seterr)\n",
      "        3    0.000    0.000    0.000    0.000 frame.py:8013(_construct_result)\n",
      "        4    0.000    0.000    0.000    0.000 base.py:6619(_maybe_cast_listlike_indexer)\n",
      "      345    0.000    0.000    0.000    0.000 {built-in method numpy.asanyarray}\n",
      "        8    0.000    0.000    0.000    0.000 {method '_rebuild_blknos_and_blklocs' of 'pandas._libs.internals.BlockManager' objects}\n",
      "      286    0.000    0.000    0.000    0.000 common.py:367(apply_if_callable)\n",
      "        6    0.000    0.000    0.000    0.000 parse.py:379(urlparse)\n",
      "        6    0.000    0.000    0.000    0.000 missing.py:261(_isna_array)\n",
      "      303    0.000    0.000    0.000    0.000 base.py:831(_reset_identity)\n",
      "      277    0.000    0.000    0.000    0.000 config.py:615(_select_options)\n",
      "       12    0.000    0.000    0.000    0.000 fromnumeric.py:2421(all)\n",
      "        6    0.000    0.000    0.000    0.000 extmath.py:940(_safe_accumulator_op)\n",
      "        6    0.000    0.000    0.000    0.000 base_parser.py:190(_validate_parse_dates_presence)\n",
      "       21    0.000    0.000    0.000    0.000 series.py:703(name)\n",
      "        3    0.000    0.000    0.000    0.000 construction.py:237(ndarray_to_mgr)\n",
      "        7    0.000    0.000    0.000    0.000 {pandas._libs.lib.infer_dtype}\n",
      "       18    0.000    0.000    0.000    0.000 inference.py:273(is_dict_like)\n",
      "        1    0.000    0.000    0.000    0.000 _data.py:1030(inverse_transform)\n",
      "        6    0.000    0.000    0.000    0.000 common.py:121(close)\n",
      "      590    0.000    0.000    0.000    0.000 generic.py:393(flags)\n",
      "      255    0.000    0.000    0.000    0.000 indexing.py:289(loc)\n",
      "      282    0.000    0.000    0.000    0.000 managers.py:896(__init__)\n",
      "       10    0.000    0.000    0.000    0.000 _ufunc_config.py:430(__enter__)\n",
      "        5    0.000    0.000    0.000    0.000 pathlib.py:56(parse_parts)\n",
      "        4    0.000    0.000    0.000    0.000 base.py:6321(_should_compare)\n",
      "        6    0.000    0.000    0.000    0.000 _param_validation.py:73(<listcomp>)\n",
      "        6    0.000    0.000    0.000    0.000 readers.py:1513(_clean_options)\n",
      "        1    0.000    0.000    0.000    0.000 causal_insight_slim.py:19(__init__)\n",
      "        6    0.000    0.000    0.000    0.000 arraysetops.py:138(unique)\n",
      "        6    0.000    0.000    0.000    0.000 indexing.py:931(_validate_tuple_indexer)\n",
      "       21    0.000    0.000    0.000    0.000 cast.py:550(maybe_promote)\n",
      "      282    0.000    0.000    0.000    0.000 {method 'split' of 'str' objects}\n",
      "      569    0.000    0.000    0.000    0.000 {pandas._libs.lib.is_iterator}\n",
      "        9    0.000    0.000    0.000    0.000 common.py:228(asarray_tuplesafe)\n",
      "        6    0.000    0.000    0.000    0.000 _param_validation.py:102(make_constraint)\n",
      "       10    0.000    0.000    0.000    0.000 warnings.py:165(simplefilter)\n",
      "       26    0.000    0.000    0.000    0.000 managers.py:225(set_axis)\n",
      "        6    0.000    0.000    0.000    0.000 missing.py:305(_isna_string_dtype)\n",
      "      257    0.000    0.000    0.000    0.000 blocks.py:2236(is_view)\n",
      "        6    0.000    0.000    0.000    0.000 readers.py:1455(_get_options_with_defaults)\n",
      "      526    0.000    0.000    0.000    0.000 {method 'upper' of 'str' objects}\n",
      "       34    0.000    0.000    0.000    0.000 {built-in method builtins.any}\n",
      "       19    0.000    0.000    0.000    0.000 _dill.py:426(find_class)\n",
      "        3    0.000    0.000    0.000    0.000 {method '__exit__' of '_io._IOBase' objects}\n",
      "        3    0.000    0.000    0.000    0.000 {method 'get_slice' of 'pandas._libs.internals.BlockManager' objects}\n",
      "      279    0.000    0.000    0.000    0.000 managers.py:1902(_block)\n",
      "      320    0.000    0.000    0.000    0.000 __init__.py:33(using_copy_on_write)\n",
      "        4    0.000    0.000    0.000    0.000 array_ops.py:242(arithmetic_op)\n",
      "       12    0.000    0.000    0.000    0.000 {pandas._libs.lib.is_all_arraylike}\n",
      "        8    0.000    0.000    0.000    0.000 fromnumeric.py:2322(any)\n",
      "        9    0.000    0.000    0.000    0.000 series.py:581(_constructor_from_mgr)\n",
      "        6    0.000    0.000    0.000    0.000 arraysetops.py:323(_unique1d)\n",
      "        6    0.000    0.000    0.000    0.000 {method 'close' of '_io.TextIOWrapper' objects}\n",
      "       12    0.000    0.000    0.000    0.000 common.py:1155(_is_binary_mode)\n",
      "       20    0.000    0.000    0.000    0.000 {built-in method builtins.next}\n",
      "        6    0.000    0.000    0.000    0.000 missing.py:466(array_equivalent)\n",
      "       12    0.000    0.000    0.000    0.000 common.py:233(stringify_path)\n",
      "       18    0.000    0.000    0.000    0.000 {method 'any' of 'numpy.generic' objects}\n",
      "        6    0.000    0.000    0.000    0.000 common.py:538(infer_compression)\n",
      "       20    0.000    0.000    0.000    0.000 common.py:137(is_object_dtype)\n",
      "       84    0.000    0.000    0.000    0.000 c_parser_wrapper.py:367(<listcomp>)\n",
      "       86    0.000    0.000    0.000    0.000 base.py:71(<genexpr>)\n",
      "        1    0.000    0.000    0.000    0.000 series.py:5885(_construct_result)\n",
      "        2    0.000    0.000    0.000    0.000 algorithms.py:217(_ensure_arraylike)\n",
      "       12    0.000    0.000    0.000    0.000 common.py:1194(is_potential_multi_index)\n",
      "       24    0.000    0.000    0.000    0.000 numerictypes.py:357(issubdtype)\n",
      "      276    0.000    0.000    0.000    0.000 generic.py:659(ndim)\n",
      "       13    0.000    0.000    0.000    0.000 frame.py:641(_constructor_from_mgr)\n",
      "        6    0.000    0.000    0.000    0.000 {built-in method pandas._libs.missing.isnaobj}\n",
      "       10    0.000    0.000    0.000    0.000 _ufunc_config.py:435(__exit__)\n",
      "        6    0.000    0.000    0.000    0.000 parse.py:444(urlsplit)\n",
      "       10    0.000    0.000    0.000    0.000 warnings.py:181(_add_filter)\n",
      "       20    0.000    0.000    0.000    0.000 blocks.py:2317(maybe_coerce_values)\n",
      "       12    0.000    0.000    0.000    0.000 indexing.py:1536(_validate_key)\n",
      "        6    0.000    0.000    0.000    0.000 c_parser_wrapper.py:201(_set_noconvert_columns)\n",
      "       28    0.000    0.000    0.000    0.000 series.py:653(name)\n",
      "       10    0.000    0.000    0.000    0.000 {method 'max' of 'numpy.ndarray' objects}\n",
      "        6    0.000    0.000    0.000    0.000 common.py:1223(dedup_names)\n",
      "       26    0.000    0.000    0.000    0.000 base.py:73(_validate_set_axis)\n",
      "       21    0.000    0.000    0.000    0.000 common.py:1562(validate_all_hashable)\n",
      "      295    0.000    0.000    0.000    0.000 generic.py:358(attrs)\n",
      "       12    0.000    0.000    0.000    0.000 {method 'all' of 'numpy.generic' objects}\n",
      "      327    0.000    0.000    0.000    0.000 {pandas._libs.lib.is_integer}\n",
      "       12    0.000    0.000    0.000    0.000 base.py:5153(_get_engine_target)\n",
      "       19    0.000    0.000    0.000    0.000 {function Unpickler.find_class at 0x7de521e46a70}\n",
      "      514    0.000    0.000    0.000    0.000 {method 'get' of 'dict' objects}\n",
      "        4    0.000    0.000    0.000    0.000 array_ops.py:191(_na_arithmetic_op)\n",
      "      295    0.000    0.000    0.000    0.000 flags.py:57(allows_duplicate_labels)\n",
      "        7    0.000    0.000    0.000    0.000 contextlib.py:139(__exit__)\n",
      "       10    0.000    0.000    0.000    0.000 construction.py:765(_try_cast)\n",
      "        6    0.000    0.000    0.000    0.000 base.py:2724(inferred_type)\n",
      "       10    0.000    0.000    0.000    0.000 _methods.py:39(_amax)\n",
      "      128    0.000    0.000    0.000    0.000 range.py:963(__len__)\n",
      "        6    0.000    0.000    0.000    0.000 _array_api.py:360(_asarray_with_order)\n",
      "      356    0.000    0.000    0.000    0.000 {built-in method builtins.hash}\n",
      "        6    0.000    0.000    0.000    0.000 ops.py:29(_iter_block_pairs)\n",
      "       35    0.000    0.000    0.000    0.000 {built-in method posix.fspath}\n",
      "        2    0.000    0.000    0.000    0.000 codeop.py:117(__call__)\n",
      "      258    0.000    0.000    0.000    0.000 fromnumeric.py:3380(_mean_dispatcher)\n",
      "        6    0.000    0.000    0.000    0.000 missing.py:564(_array_equivalent_object)\n",
      "       10    0.000    0.000    0.000    0.000 _dill.py:946(_create_array)\n",
      "       18    0.000    0.000    0.000    0.000 common.py:173(_expand_user)\n",
      "       84    0.000    0.000    0.000    0.000 c_parser_wrapper.py:370(<setcomp>)\n",
      "        4    0.000    0.000    0.000    0.000 base.py:1139(take)\n",
      "       25    0.000    0.000    0.000    0.000 common.py:1425(_is_dtype_type)\n",
      "        8    0.000    0.000    0.000    0.000 base.py:836(__iter__)\n",
      "       10    0.000    0.000    0.000    0.000 base.py:5300(__contains__)\n",
      "        4    0.000    0.000    0.000    0.000 base.py:3945(_get_indexer)\n",
      "        3    0.000    0.000    0.000    0.000 generic.py:2119(__setstate__)\n",
      "      276    0.000    0.000    0.000    0.000 {pandas._libs.lib.item_from_zerodim}\n",
      "        4    0.000    0.000    0.000    0.000 _array_api.py:282(isdtype)\n",
      "       19    0.000    0.000    0.000    0.000 warnings.py:458(__enter__)\n",
      "        2    0.000    0.000    0.000    0.000 _data.py:71(_is_constant_feature)\n",
      "        8    0.000    0.000    0.000    0.000 inspect.py:2637(__init__)\n",
      "      264    0.000    0.000    0.000    0.000 {built-in method numpy.core._multiarray_umath.normalize_axis_index}\n",
      "        2    0.000    0.000    0.000    0.000 {built-in method builtins.compile}\n",
      "       40    0.000    0.000    0.000    0.000 generic.py:6189(__getattr__)\n",
      "       84    0.000    0.000    0.000    0.000 c_parser_wrapper.py:369(<setcomp>)\n",
      "        4    0.000    0.000    0.000    0.000 _array_api.py:75(isdtype)\n",
      "       20    0.000    0.000    0.000    0.000 _ufunc_config.py:132(geterr)\n",
      "        4    0.000    0.000    0.000    0.000 validation.py:330(_num_samples)\n",
      "        4    0.000    0.000    0.000    0.000 _config.py:196(config_context)\n",
      "        6    0.000    0.000    0.000    0.000 pathlib.py:631(__fspath__)\n",
      "      266    0.000    0.000    0.000    0.000 {method 'keys' of 'dict' objects}\n",
      "       48    0.000    0.000    0.000    0.000 numerictypes.py:283(issubclass_)\n",
      "      276    0.000    0.000    0.000    0.000 {pandas._libs.lib.is_float}\n",
      "        6    0.000    0.000    0.000    0.000 base_parser.py:361(_make_index)\n",
      "        4    0.000    0.000    0.000    0.000 expressions.py:226(evaluate)\n",
      "       11    0.000    0.000    0.000    0.000 series.py:1372(_set_as_cached)\n",
      "        6    0.000    0.000    0.000    0.000 _param_validation.py:583(__init__)\n",
      "       12    0.000    0.000    0.000    0.000 _methods.py:61(_all)\n",
      "        4    0.000    0.000    0.000    0.000 validation.py:1366(_is_fitted)\n",
      "        6    0.000    0.000    0.000    0.000 _param_validation.py:591(is_satisfied_by)\n",
      "        1    0.000    0.000    0.000    0.000 indexing.py:2545(check_bool_indexer)\n",
      "       10    0.000    0.000    0.000    0.000 base.py:6239(_index_as_unique)\n",
      "        7    0.000    0.000    0.000    0.000 contextlib.py:279(helper)\n",
      "       10    0.000    0.000    0.000    0.000 blocks.py:639(copy)\n",
      "      306    0.000    0.000    0.000    0.000 {built-in method builtins.callable}\n",
      "        4    0.000    0.000    0.000    0.000 expressions.py:67(_evaluate_standard)\n",
      "        2    0.000    0.000    0.000    0.000 fromnumeric.py:2593(ptp)\n",
      "       14    0.000    0.000    0.000    0.000 {built-in method builtins.sorted}\n",
      "        3    0.000    0.000    0.000    0.000 managers.py:918(_verify_integrity)\n",
      "        7    0.000    0.000    0.000    0.000 series.py:905(__array__)\n",
      "        7    0.000    0.000    0.000    0.000 contextlib.py:130(__enter__)\n",
      "       54    0.000    0.000    0.000    0.000 inference.py:300(<genexpr>)\n",
      "        6    0.000    0.000    0.000    0.000 {pandas._libs.lib.array_equivalent_object}\n",
      "        9    0.000    0.000    0.000    0.000 range.py:198(_simple_new)\n",
      "        6    0.000    0.000    0.000    0.000 function_base.py:4619(_get_gamma)\n",
      "       17    0.000    0.000    0.000    0.000 _config.py:32(get_config)\n",
      "        6    0.000    0.000    0.000    0.000 base_parser.py:861(_do_date_conversions)\n",
      "        6    0.000    0.000    0.000    0.000 {built-in method builtins.locals}\n",
      "        6    0.000    0.000    0.000    0.000 pathlib.py:621(__str__)\n",
      "       15    0.000    0.000    0.000    0.000 pathlib.py:865(parent)\n",
      "        6    0.000    0.000    0.000    0.000 function_base.py:110(<lambda>)\n",
      "      262    0.000    0.000    0.000    0.000 base.py:6612(_maybe_cast_indexer)\n",
      "        8    0.000    0.000    0.000    0.000 _array_api.py:82(<genexpr>)\n",
      "        6    0.000    0.000    0.000    0.000 numeric.py:1330(normalize_axis_tuple)\n",
      "        8    0.000    0.000    0.000    0.000 common.py:1183(is_bool_dtype)\n",
      "        4    0.000    0.000    0.000    0.000 _config.py:50(set_config)\n",
      "        2    0.000    0.000    0.000    0.000 _methods.py:218(_ptp)\n",
      "        6    0.000    0.000    0.000    0.000 readers.py:1925(_refine_defaults_read)\n",
      "        1    0.000    0.000    0.000    0.000 cleaning_utils.py:10(sigmoid)\n",
      "      171    0.000    0.000    0.000    0.000 {method 'pop' of 'dict' objects}\n",
      "       24    0.000    0.000    0.000    0.000 {method 'astype' of 'numpy.ndarray' objects}\n",
      "        5    0.000    0.000    0.000    0.000 {pandas._libs.algos.take_2d_axis1_float64_float64}\n",
      "       42    0.000    0.000    0.000    0.000 common.py:1581(<genexpr>)\n",
      "        5    0.000    0.000    0.000    0.000 {pandas._libs.algos.take_2d_axis0_object_object}\n",
      "        2    0.000    0.000    0.000    0.000 validation.py:1404(check_is_fitted)\n",
      "        1    0.000    0.000    0.000    0.000 fromnumeric.py:3269(round)\n",
      "        6    0.000    0.000    0.000    0.000 indexing.py:1614(_is_scalar_access)\n",
      "        3    0.000    0.000    0.000    0.000 generic.py:1381(_indexed_same)\n",
      "        3    0.000    0.000    0.000    0.000 blocks.py:387(_split_op_result)\n",
      "       16    0.000    0.000    0.000    0.000 blocks.py:226(fill_value)\n",
      "        4    0.000    0.000    0.000    0.000 _array_api.py:87(_isdtype_single)\n",
      "       18    0.000    0.000    0.000    0.000 posixpath.py:229(expanduser)\n",
      "        3    0.000    0.000    0.000    0.000 base.py:374(_check_n_features)\n",
      "        6    0.000    0.000    0.000    0.000 common.py:277(is_fsspec_url)\n",
      "       24    0.000    0.000    0.000    0.000 _array_api.py:227(__getattr__)\n",
      "        3    0.000    0.000    0.000    0.000 {built-in method _operator.add}\n",
      "        1    0.000    0.000    0.000    0.000 fromnumeric.py:53(_wrapfunc)\n",
      "        6    0.000    0.000    0.000    0.000 base_parser.py:349(_maybe_make_multi_index_columns)\n",
      "       19    0.000    0.000    0.000    0.000 blocks.py:265(make_block_same_class)\n",
      "        2    0.000    0.000    0.000    0.000 series.py:1016(__getitem__)\n",
      "        3    0.000    0.000    0.000    0.000 _dill.py:434(__init__)\n",
      "        2    0.000    0.000    0.000    0.000 base.py:6134(_raise_if_missing)\n",
      "        7    0.000    0.000    0.000    0.000 series.py:821(__len__)\n",
      "       84    0.000    0.000    0.000    0.000 {pandas._libs.lib.dtypes_all_equal}\n",
      "        1    0.000    0.000    0.000    0.000 fromnumeric.py:40(_wrapit)\n",
      "        2    0.000    0.000    0.000    0.000 inspect.py:2920(__init__)\n",
      "        8    0.000    0.000    0.000    0.000 _array_api.py:70(_is_numpy_namespace)\n",
      "       19    0.000    0.000    0.000    0.000 warnings.py:437(__init__)\n",
      "        4    0.000    0.000    0.000    0.000 {method 'get_indexer' of 'pandas._libs.index.IndexEngine' objects}\n",
      "        3    0.000    0.000    0.000    0.000 blocks.py:247(make_block)\n",
      "        9    0.000    0.000    0.000    0.000 common.py:185(all_none)\n",
      "        4    0.000    0.000    0.000    0.000 base.py:6343(_is_comparable_dtype)\n",
      "       19    0.000    0.000    0.000    0.000 warnings.py:477(__exit__)\n",
      "       10    0.000    0.000    0.000    0.000 {method 'remove' of 'list' objects}\n",
      "        7    0.000    0.000    0.000    0.000 {method 'min' of 'numpy.ndarray' objects}\n",
      "        1    0.000    0.000    0.000    0.000 utils.py:419(check_array_indexer)\n",
      "        6    0.000    0.000    0.000    0.000 indexing.py:948(_is_nested_tuple_indexer)\n",
      "       84    0.000    0.000    0.000    0.000 concat.py:73(<listcomp>)\n",
      "        9    0.000    0.000    0.000    0.000 managers.py:1812(from_blocks)\n",
      "        4    0.000    0.000    0.000    0.000 validation.py:1398(<listcomp>)\n",
      "        6    0.000    0.000    0.000    0.000 base_parser.py:600(_set_noconvert_dtype_columns)\n",
      "        6    0.000    0.000    0.000    0.000 blocks.py:323(getitem_block_columns)\n",
      "        3    0.000    0.000    0.000    0.000 generic.py:2082(__array__)\n",
      "        7    0.000    0.000    0.000    0.000 contextlib.py:102(__init__)\n",
      "        9    0.000    0.000    0.000    0.000 generic.py:1383(<genexpr>)\n",
      "        5    0.000    0.000    0.000    0.000 {pandas._libs.algos.take_2d_axis0_int64_int64}\n",
      "       21    0.000    0.000    0.000    0.000 common.py:91(ensure_python_int)\n",
      "       10    0.000    0.000    0.000    0.000 {built-in method numpy.core.multiarray._reconstruct}\n",
      "        4    0.000    0.000    0.000    0.000 common.py:1066(is_numeric_dtype)\n",
      "       20    0.000    0.000    0.000    0.000 {built-in method numpy.seterrobj}\n",
      "       10    0.000    0.000    0.000    0.000 blocks.py:2467(extend_blocks)\n",
      "        1    0.000    0.000    0.000    0.000 genericpath.py:16(exists)\n",
      "       91    0.000    0.000    0.000    0.000 {method 'endswith' of 'str' objects}\n",
      "        7    0.000    0.000    0.000    0.000 _dtype.py:346(_name_get)\n",
      "       31    0.000    0.000    0.000    0.000 base.py:791(is_)\n",
      "        8    0.000    0.000    0.000    0.000 _array_api.py:289(get_namespace)\n",
      "       21    0.000    0.000    0.000    0.000 _config.py:24(_get_threadlocal_config)\n",
      "        7    0.000    0.000    0.000    0.000 _methods.py:43(_amin)\n",
      "        3    0.000    0.000    0.000    0.000 blocks.py:2375(new_block_2d)\n",
      "        4    0.000    0.000    0.000    0.000 base.py:6251(_maybe_promote)\n",
      "       32    0.000    0.000    0.000    0.000 fromnumeric.py:72(<dictcomp>)\n",
      "        2    0.000    0.000    0.000    0.000 _data.py:87(_handle_zeros_in_scale)\n",
      "       96    0.000    0.000    0.000    0.000 multiarray.py:153(concatenate)\n",
      "       43    0.000    0.000    0.000    0.000 {method 'startswith' of 'str' objects}\n",
      "       23    0.000    0.000    0.000    0.000 take.py:326(_get_take_nd_function)\n",
      "        6    0.000    0.000    0.000    0.000 base_parser.py:1247(_process_date_conversion)\n",
      "       18    0.000    0.000    0.000    0.000 _param_validation.py:292(__init__)\n",
      "        5    0.000    0.000    0.000    0.000 pathlib.py:239(splitroot)\n",
      "       12    0.000    0.000    0.000    0.000 base.py:5635(<genexpr>)\n",
      "        4    0.000    0.000    0.000    0.000 algorithms.py:1211(take)\n",
      "        1    0.000    0.000    0.000    0.000 {built-in method posix.stat}\n",
      "       24    0.000    0.000    0.000    0.000 common.py:1219(<genexpr>)\n",
      "        3    0.000    0.000    0.000    0.000 base.py:5392(_getitem_slice)\n",
      "        3    0.000    0.000    0.000    0.000 validation.py:277(_num_features)\n",
      "       10    0.000    0.000    0.000    0.000 _array_api.py:247(asarray)\n",
      "       10    0.000    0.000    0.000    0.000 managers.py:2268(_preprocess_slice_or_indexer)\n",
      "       35    0.000    0.000    0.000    0.000 {method 'copy' of 'dict' objects}\n",
      "        8    0.000    0.000    0.000    0.000 enum.py:359(__call__)\n",
      "        8    0.000    0.000    0.000    0.000 base.py:459(_engine_type)\n",
      "       10    0.000    0.000    0.000    0.000 _ufunc_config.py:426(__init__)\n",
      "        7    0.000    0.000    0.000    0.000 base.py:61(__len__)\n",
      "       10    0.000    0.000    0.000    0.000 {method '__setstate__' of 'numpy.ndarray' objects}\n",
      "       16    0.000    0.000    0.000    0.000 missing.py:642(na_value_for_dtype)\n",
      "       10    0.000    0.000    0.000    0.000 managers.py:931(from_blocks)\n",
      "        6    0.000    0.000    0.000    0.000 indexing.py:1629(_validate_integer)\n",
      "       18    0.000    0.000    0.000    0.000 indexing.py:1144(<genexpr>)\n",
      "        6    0.000    0.000    0.000    0.000 _ufunc_config.py:452(_no_nep50_warning)\n",
      "       12    0.000    0.000    0.000    0.000 parse.py:122(_coerce_args)\n",
      "        6    0.000    0.000    0.000    0.000 readers.py:1502(_check_file_or_buffer)\n",
      "       35    0.000    0.000    0.000    0.000 {built-in method sys.intern}\n",
      "        6    0.000    0.000    0.000    0.000 c_parser_wrapper.py:330(<dictcomp>)\n",
      "        3    0.000    0.000    0.000    0.000 managers.py:2042(create_block_manager_from_blocks)\n",
      "        6    0.000    0.000    0.000    0.000 common.py:503(get_compression_method)\n",
      "        5    0.000    0.000    0.000    0.000 pathlib.py:608(_format_parsed_parts)\n",
      "       34    0.000    0.000    0.000    0.000 codecs.py:331(getstate)\n",
      "        2    0.000    0.000    0.000    0.000 inspect.py:612(unwrap)\n",
      "        8    0.000    0.000    0.000    0.000 {method 'reshape' of 'numpy.ndarray' objects}\n",
      "        3    0.000    0.000    0.000    0.000 base.py:4190(_validate_positional_slice)\n",
      "       12    0.000    0.000    0.000    0.000 inference.py:105(is_file_like)\n",
      "        6    0.000    0.000    0.000    0.000 {method 'match' of 're.Pattern' objects}\n",
      "        2    0.000    0.000    0.000    0.000 series.py:1139(_get_value)\n",
      "        6    0.000    0.000    0.000    0.000 common.py:192(validate_header_arg)\n",
      "       11    0.000    0.000    0.000    0.000 common.py:1025(needs_i8_conversion)\n",
      "       12    0.000    0.000    0.000    0.000 generic.py:46(_subclasscheck)\n",
      "        6    0.000    0.000    0.000    0.000 frame.py:966(shape)\n",
      "        2    0.000    0.000    0.000    0.000 {method 'sum' of 'numpy.ndarray' objects}\n",
      "        6    0.000    0.000    0.000    0.000 codecs.py:309(__init__)\n",
      "       12    0.000    0.000    0.000    0.000 common.py:1390(_get_dtype)\n",
      "       12    0.000    0.000    0.000    0.000 generic.py:568(_get_block_manager_axis)\n",
      "       15    0.000    0.000    0.000    0.000 pathlib.py:600(_from_parsed_parts)\n",
      "       84    0.000    0.000    0.000    0.000 {method 'pop' of 'set' objects}\n",
      "       12    0.000    0.000    0.000    0.000 indexing.py:2651(is_label_like)\n",
      "       62    0.000    0.000    0.000    0.000 base.py:5127(_values)\n",
      "        6    0.000    0.000    0.000    0.000 base_parser.py:278(_extract_multi_indexer_columns)\n",
      "        6    0.000    0.000    0.000    0.000 copy.py:66(copy)\n",
      "        2    0.000    0.000    0.000    0.000 numeric.py:1855(isscalar)\n",
      "        6    0.000    0.000    0.000    0.000 c_parser_wrapper.py:212(<dictcomp>)\n",
      "       67    0.000    0.000    0.000    0.000 {method 'items' of 'dict' objects}\n",
      "        1    0.000    0.000    0.000    0.000 {built-in method builtins.round}\n",
      "        3    0.000    0.000    0.000    0.000 array_ops.py:466(get_array_op)\n",
      "        6    0.000    0.000    0.000    0.000 shape_base.py:608(_column_stack_dispatcher)\n",
      "        2    0.000    0.000    0.000    0.000 base.py:161(<listcomp>)\n",
      "        2    0.000    0.000    0.000    0.000 _methods.py:47(_sum)\n",
      "        6    0.000    0.000    0.000    0.000 types.py:176(__get__)\n",
      "        6    0.000    0.000    0.000    0.000 common.py:1107(_maybe_memory_map)\n",
      "       20    0.000    0.000    0.000    0.000 common.py:123(<lambda>)\n",
      "        1    0.000    0.000    0.000    0.000 {method 'round' of 'numpy.ndarray' objects}\n",
      "        5    0.000    0.000    0.000    0.000 {pandas._libs.algos.take_1d_int64_int64}\n",
      "       48    0.000    0.000    0.000    0.000 {built-in method _warnings._filters_mutated}\n",
      "        4    0.000    0.000    0.000    0.000 dispatch.py:17(should_extension_dispatch)\n",
      "        6    0.000    0.000    0.000    0.000 indexing.py:909(_expand_ellipsis)\n",
      "        4    0.000    0.000    0.000    0.000 array_ops.py:509(maybe_prepare_scalar_for_op)\n",
      "       12    0.000    0.000    0.000    0.000 indexing.py:1627(<genexpr>)\n",
      "       12    0.000    0.000    0.000    0.000 _param_validation.py:602(<genexpr>)\n",
      "        6    0.000    0.000    0.000    0.000 base_parser.py:1404(_validate_parse_dates_arg)\n",
      "        6    0.000    0.000    0.000    0.000 base_parser.py:1113(_make_date_converter)\n",
      "       40    0.000    0.000    0.000    0.000 {built-in method numpy.geterrobj}\n",
      "        1    0.000    0.000    0.000    0.000 managers.py:569(<listcomp>)\n",
      "        6    0.000    0.000    0.000    0.000 base.py:510(find)\n",
      "        6    0.000    0.000    0.000    0.000 inference.py:195(is_array_like)\n",
      "       26    0.000    0.000    0.000    0.000 base.py:974(dtype)\n",
      "        4    0.000    0.000    0.000    0.000 base.py:3990(_check_indexing_method)\n",
      "       12    0.000    0.000    0.000    0.000 posixpath.py:41(_get_sep)\n",
      "        3    0.000    0.000    0.000    0.000 frame.py:1030(_values)\n",
      "        3    0.000    0.000    0.000    0.000 base.py:420(_check_feature_names)\n",
      "        3    0.000    0.000    0.000    0.000 generic.py:389(attrs)\n",
      "        2    0.000    0.000    0.000    0.000 inspect.py:66(get_annotations)\n",
      "        6    0.000    0.000    0.000    0.000 {built-in method _codecs.lookup}\n",
      "        6    0.000    0.000    0.000    0.000 <string>:1(<lambda>)\n",
      "        6    0.000    0.000    0.000    0.000 {method 'sort' of 'numpy.ndarray' objects}\n",
      "       54    0.000    0.000    0.000    0.000 {method 'lower' of 'str' objects}\n",
      "        2    0.000    0.000    0.000    0.000 traitlets.py:677(__get__)\n",
      "        1    0.000    0.000    0.000    0.000 cleaning_utils.py:45(inverse_sigmoid)\n",
      "       18    0.000    0.000    0.000    0.000 indexing.py:1143(<genexpr>)\n",
      "        1    0.000    0.000    0.000    0.000 managers.py:566(copy_func)\n",
      "        6    0.000    0.000    0.000    0.000 base_parser.py:883(_check_data_length)\n",
      "        4    0.000    0.000    0.000    0.000 abc.py:121(__subclasscheck__)\n",
      "        1    0.000    0.000    0.000    0.000 common.py:675(is_signed_integer_dtype)\n",
      "       36    0.000    0.000    0.000    0.000 {method 'replace' of 'str' objects}\n",
      "        6    0.000    0.000    0.000    0.000 c_parser_wrapper.py:213(<listcomp>)\n",
      "       10    0.000    0.000    0.000    0.000 inspect.py:2969(<genexpr>)\n",
      "        1    0.000    0.000    0.000    0.000 base.py:798(tolist)\n",
      "       15    0.000    0.000    0.000    0.000 indexing.py:150(iloc)\n",
      "        6    0.000    0.000    0.000    0.000 c_parser_wrapper.py:392(ensure_dtype_objs)\n",
      "       24    0.000    0.000    0.000    0.000 _param_validation.py:260(__init__)\n",
      "        9    0.000    0.000    0.000    0.000 base.py:6625(_validate_indexer)\n",
      "        2    0.000    0.000    0.000    0.000 <frozen importlib._bootstrap>:404(parent)\n",
      "        6    0.000    0.000    0.000    0.000 c_parser_wrapper.py:326(<listcomp>)\n",
      "        3    0.000    0.000    0.000    0.000 {built-in method builtins.sum}\n",
      "       46    0.000    0.000    0.000    0.000 {pandas._libs.algos.ensure_platform_int}\n",
      "        6    0.000    0.000    0.000    0.000 _validators.py:226(validate_bool_kwarg)\n",
      "       20    0.000    0.000    0.000    0.000 common.py:121(classes)\n",
      "        9    0.000    0.000    0.000    0.000 common.py:306(is_null_slice)\n",
      "        3    0.000    0.000    0.000    0.000 ops.py:108(_get_same_shape_values)\n",
      "        1    0.000    0.000    0.000    0.000 base.py:1010(view)\n",
      "        6    0.000    0.000    0.000    0.000 base.py:2756(_is_multi)\n",
      "        2    0.000    0.000    0.000    0.000 {method 'reshape' of 'numpy.generic' objects}\n",
      "        6    0.000    0.000    0.000    0.000 shape_base.py:207(_arrays_for_stack_dispatcher)\n",
      "        1    0.000    0.000    0.000    0.000 _set_output.py:97(_wrap_data_with_container)\n",
      "        7    0.000    0.000    0.000    0.000 {method 'flatten' of 'numpy.ndarray' objects}\n",
      "        3    0.000    0.000    0.000    0.000 ops.py:96(_reset_block_mgr_locs)\n",
      "       15    0.000    0.000    0.000    0.000 function.py:64(__call__)\n",
      "       18    0.000    0.000    0.000    0.000 indexing.py:955(<genexpr>)\n",
      "        4    0.000    0.000    0.000    0.000 common.py:1366(_is_dtype)\n",
      "        6    0.000    0.000    0.000    0.000 <string>:2(__init__)\n",
      "       18    0.000    0.000    0.000    0.000 indexing.py:2685(<genexpr>)\n",
      "       12    0.000    0.000    0.000    0.000 indexing.py:966(_validate_key_length)\n",
      "       18    0.000    0.000    0.000    0.000 managers.py:185(blklocs)\n",
      "        4    0.000    0.000    0.000    0.000 {method 'take' of 'numpy.ndarray' objects}\n",
      "       21    0.000    0.000    0.000    0.000 {built-in method pandas._libs.missing.checknull}\n",
      "        6    0.000    0.000    0.000    0.000 numeric.py:1380(<listcomp>)\n",
      "       18    0.000    0.000    0.000    0.000 {method 'ravel' of 'numpy.ndarray' objects}\n",
      "        3    0.000    0.000    0.000    0.000 construction.py:405(_check_values_indices_shape_match)\n",
      "       14    0.000    0.000    0.000    0.000 {method 'lstrip' of 'str' objects}\n",
      "       27    0.000    0.000    0.000    0.000 base.py:1657(name)\n",
      "        4    0.000    0.000    0.000    0.000 validation.py:581(_ensure_no_complex_data)\n",
      "        6    0.000    0.000    0.000    0.000 base_parser.py:254(_has_complex_date_col)\n",
      "        4    0.000    0.000    0.000    0.000 base.py:7651(_unpack_nested_dtype)\n",
      "       10    0.000    0.000    0.000    0.000 {method 'insert' of 'list' objects}\n",
      "        1    0.000    0.000    0.000    0.000 roperator.py:14(rsub)\n",
      "        4    0.000    0.000    0.000    0.000 missing.py:131(dispatch_fill_zeros)\n",
      "        4    0.000    0.000    0.000    0.000 {built-in method _abc._abc_subclasscheck}\n",
      "        1    0.000    0.000    0.000    0.000 {method 'tolist' of 'numpy.ndarray' objects}\n",
      "        2    0.000    0.000    0.000    0.000 {pandas._libs.algos.take_2d_axis0_float64_float64}\n",
      "        6    0.000    0.000    0.000    0.000 frame.py:4399(_clear_item_cache)\n",
      "        1    0.000    0.000    0.000    0.000 _set_output.py:63(_get_output_config)\n",
      "       18    0.000    0.000    0.000    0.000 common.py:189(<genexpr>)\n",
      "        1    0.000    0.000    0.000    0.000 base.py:773(_view)\n",
      "        6    0.000    0.000    0.000    0.000 managers.py:920(<genexpr>)\n",
      "       27    0.000    0.000    0.000    0.000 series.py:1381(_clear_item_cache)\n",
      "        1    0.000    0.000    0.000    0.000 cast.py:1359(np_find_common_type)\n",
      "        2    0.000    0.000    0.000    0.000 range.py:409(get_loc)\n",
      "        2    0.000    0.000    0.000    0.000 base.py:4441(_wrap_reindex_result)\n",
      "        3    0.000    0.000    0.000    0.000 construction.py:742(_get_axes)\n",
      "       18    0.000    0.000    0.000    0.000 indexing.py:2694(<genexpr>)\n",
      "        6    0.000    0.000    0.000    0.000 blocks.py:1016(_slice)\n",
      "        6    0.000    0.000    0.000    0.000 common.py:514(is_string_or_object_np_dtype)\n",
      "        6    0.000    0.000    0.000    0.000 frame.py:949(axes)\n",
      "       12    0.000    0.000    0.000    0.000 {pandas._libs.algos.ensure_object}\n",
      "        6    0.000    0.000    0.000    0.000 readers.py:1850(_clean_na_values)\n",
      "        6    0.000    0.000    0.000    0.000 _validators.py:450(check_dtype_backend)\n",
      "        2    0.000    0.000    0.000    0.000 getlimits.py:484(__new__)\n",
      "        8    0.000    0.000    0.000    0.000 managers.py:230(is_single_block)\n",
      "        6    0.000    0.000    0.000    0.000 readers.py:2153(_validate_skipfooter)\n",
      "        3    0.000    0.000    0.000    0.000 astype.py:250(astype_is_view)\n",
      "        8    0.000    0.000    0.000    0.000 _base.py:1461(issparse)\n",
      "        4    0.000    0.000    0.000    0.000 compilerop.py:180(extra_flags)\n",
      "       18    0.000    0.000    0.000    0.000 base_parser.py:1425(is_index_col)\n",
      "        6    0.000    0.000    0.000    0.000 {built-in method sys.getfilesystemencoding}\n",
      "       12    0.000    0.000    0.000    0.000 {pandas._libs.lib.is_bool}\n",
      "        2    0.000    0.000    0.000    0.000 traitlets.py:630(get)\n",
      "        6    0.000    0.000    0.000    0.000 {method 'encode' of 'str' objects}\n",
      "        6    0.000    0.000    0.000    0.000 readers.py:2055(_extract_dialect)\n",
      "       10    0.000    0.000    0.000    0.000 _array_api.py:170(_check_device_cpu)\n",
      "        1    0.000    0.000    0.000    0.000 {method 'sort' of 'list' objects}\n",
      "        6    0.000    0.000    0.000    0.000 arraysetops.py:125(_unpack_tuple)\n",
      "        2    0.000    0.000    0.000    0.000 _data.py:796(__init__)\n",
      "        6    0.000    0.000    0.000    0.000 {built-in method _codecs.lookup_error}\n",
      "       12    0.000    0.000    0.000    0.000 readers.py:518(validate_integer)\n",
      "       13    0.000    0.000    0.000    0.000 managers.py:235(items)\n",
      "       11    0.000    0.000    0.000    0.000 {method 'join' of 'str' objects}\n",
      "       17    0.000    0.000    0.000    0.000 series.py:577(_constructor)\n",
      "        8    0.000    0.000    0.000    0.000 {method 'isidentifier' of 'str' objects}\n",
      "        4    0.000    0.000    0.000    0.000 {built-in method builtins.vars}\n",
      "        3    0.000    0.000    0.000    0.000 frame.py:7789(_should_reindex_frame_op)\n",
      "       10    0.000    0.000    0.000    0.000 missing.py:971(clean_reindex_fill_method)\n",
      "        6    0.000    0.000    0.000    0.000 {method 'update' of 'dict' objects}\n",
      "        4    0.000    0.000    0.000    0.000 validation.py:591(_check_estimator_name)\n",
      "       22    0.000    0.000    0.000    0.000 inspect.py:2687(name)\n",
      "        4    0.000    0.000    0.000    0.000 validation.py:639(_is_extension_array_dtype)\n",
      "        2    0.000    0.000    0.000    0.000 {built-in method numpy.zeros}\n",
      "        2    0.000    0.000    0.000    0.000 base.py:4445(_maybe_preserve_names)\n",
      "       10    0.000    0.000    0.000    0.000 managers.py:335(<dictcomp>)\n",
      "        6    0.000    0.000    0.000    0.000 base_parser.py:234(<setcomp>)\n",
      "        3    0.000    0.000    0.000    0.000 validation.py:1987(_get_feature_names)\n",
      "       19    0.000    0.000    0.000    0.000 frame.py:637(_constructor)\n",
      "        3    0.000    0.000    0.000    0.000 {method 'set' of '_contextvars.ContextVar' objects}\n",
      "        1    0.000    0.000    0.000    0.000 {method 'nonzero' of 'numpy.ndarray' objects}\n",
      "        7    0.000    0.000    0.000    0.000 _dtype.py:330(_name_includes_bit_suffix)\n",
      "       18    0.000    0.000    0.000    0.000 indexing.py:915(<genexpr>)\n",
      "        1    0.000    0.000    0.000    0.000 common.py:81(get_op_result_name)\n",
      "        2    0.000    0.000    0.000    0.000 base.py:176(<listcomp>)\n",
      "        6    0.000    0.000    0.000    0.000 base_parser.py:976(_validate_usecols_arg)\n",
      "        4    0.000    0.000    0.000    0.000 inspect.py:277(isfunction)\n",
      "        9    0.000    0.000    0.000    0.000 range.py:213(_validate_dtype)\n",
      "        6    0.000    0.000    0.000    0.000 codecs.py:260(__init__)\n",
      "       15    0.000    0.000    0.000    0.000 blocks.py:239(mgr_locs)\n",
      "        8    0.000    0.000    0.000    0.000 enum.py:678(__new__)\n",
      "       11    0.000    0.000    0.000    0.000 base.py:1169(_maybe_disallow_fill)\n",
      "        9    0.000    0.000    0.000    0.000 {method 'strip' of 'str' objects}\n",
      "        5    0.000    0.000    0.000    0.000 common.py:131(<lambda>)\n",
      "        6    0.000    0.000    0.000    0.000 contextlib.py:420(__init__)\n",
      "        1    0.000    0.000    0.000    0.000 causal_insight_slim.py:143(<listcomp>)\n",
      "        3    0.000    0.000    0.000    0.000 {method 'reset' of '_contextvars.ContextVar' objects}\n",
      "        7    0.000    0.000    0.000    0.000 range.py:316(step)\n",
      "       12    0.000    0.000    0.000    0.000 fromnumeric.py:2416(_all_dispatcher)\n",
      "       12    0.000    0.000    0.000    0.000 fromnumeric.py:2172(_sum_dispatcher)\n",
      "        7    0.000    0.000    0.000    0.000 _dtype.py:24(_kind_name)\n",
      "        6    0.000    0.000    0.000    0.000 {built-in method pandas._libs.internals.slice_len}\n",
      "        6    0.000    0.000    0.000    0.000 _param_validation.py:296(is_satisfied_by)\n",
      "        2    0.000    0.000    0.000    0.000 inspect.py:191(isclass)\n",
      "        1    0.000    0.000    0.000    0.000 {pandas._libs.algos.take_1d_object_object}\n",
      "        8    0.000    0.000    0.000    0.000 fromnumeric.py:2317(_any_dispatcher)\n",
      "        6    0.000    0.000    0.000    0.000 readers.py:550(_validate_names)\n",
      "        6    0.000    0.000    0.000    0.000 enum.py:801(value)\n",
      "        6    0.000    0.000    0.000    0.000 contextlib.py:426(__exit__)\n",
      "        2    0.000    0.000    0.000    0.000 interactiveshell.py:3466(compare)\n",
      "        2    0.000    0.000    0.000    0.000 base.py:2774(_na_value)\n",
      "        2    0.000    0.000    0.000    0.000 _data.py:801(_reset)\n",
      "       12    0.000    0.000    0.000    0.000 {method 'values' of 'dict' objects}\n",
      "       12    0.000    0.000    0.000    0.000 parse.py:111(_noop)\n",
      "       11    0.000    0.000    0.000    0.000 {method 'reverse' of 'list' objects}\n",
      "       11    0.000    0.000    0.000    0.000 managers.py:1790(ndim)\n",
      "        6    0.000    0.000    0.000    0.000 base_parser.py:246(<listcomp>)\n",
      "        4    0.000    0.000    0.000    0.000 array_ops.py:590(_bool_arith_check)\n",
      "        6    0.000    0.000    0.000    0.000 {built-in method builtins.ord}\n",
      "        2    0.000    0.000    0.000    0.000 {method 'values' of 'mappingproxy' objects}\n",
      "        5    0.000    0.000    0.000    0.000 common.py:126(_classes_and_not_datetimelike)\n",
      "        7    0.000    0.000    0.000    0.000 range.py:377(dtype)\n",
      "        3    0.000    0.000    0.000    0.000 construction.py:585(_ensure_2d)\n",
      "        1    0.000    0.000    0.000    0.000 <frozen importlib._bootstrap>:1053(_handle_fromlist)\n",
      "        2    0.000    0.000    0.000    0.000 {pandas._libs.internals.get_blkno_placements}\n",
      "        4    0.000    0.000    0.000    0.000 common.py:1107(<lambda>)\n",
      "        2    0.000    0.000    0.000    0.000 inspect.py:632(_is_wrapper)\n",
      "       11    0.000    0.000    0.000    0.000 base.py:363(ndim)\n",
      "        6    0.000    0.000    0.000    0.000 arraysetops.py:133(_unique_dispatcher)\n",
      "        7    0.000    0.000    0.000    0.000 range.py:281(start)\n",
      "        2    0.000    0.000    0.000    0.000 interactiveshell.py:1255(user_global_ns)\n",
      "        6    0.000    0.000    0.000    0.000 copy.py:107(_copy_immutable)\n",
      "       12    0.000    0.000    0.000    0.000 inspect.py:2699(kind)\n",
      "        3    0.000    0.000    0.000    0.000 blocks.py:1003(shape)\n",
      "        2    0.000    0.000    0.000    0.000 {method 'rpartition' of 'str' objects}\n",
      "        6    0.000    0.000    0.000    0.000 function_base.py:111(<lambda>)\n",
      "        6    0.000    0.000    0.000    0.000 {built-in method builtins.iter}\n",
      "        2    0.000    0.000    0.000    0.000 {built-in method builtins.max}\n",
      "        9    0.000    0.000    0.000    0.000 {pandas._libs.lib.is_int_or_none}\n",
      "        1    0.000    0.000    0.000    0.000 _dill.py:587(_load_type)\n",
      "        6    0.000    0.000    0.000    0.000 function_base.py:3987(_percentile_dispatcher)\n",
      "        6    0.000    0.000    0.000    0.000 {built-in method _operator.index}\n",
      "        2    0.000    0.000    0.000    0.000 {built-in method sys.getrecursionlimit}\n",
      "        6    0.000    0.000    0.000    0.000 readers.py:1779(__enter__)\n",
      "        2    0.000    0.000    0.000    0.000 {built-in method builtins.id}\n",
      "        2    0.000    0.000    0.000    0.000 base.py:7580(ensure_has_len)\n",
      "        1    0.000    0.000    0.000    0.000 {method 'index' of 'list' objects}\n",
      "        2    0.000    0.000    0.000    0.000 {method 'index' of 'range' objects}\n",
      "        6    0.000    0.000    0.000    0.000 {method 'clear' of 'dict' objects}\n",
      "        3    0.000    0.000    0.000    0.000 indexing.py:2665(need_slice)\n",
      "        1    0.000    0.000    0.000    0.000 series.py:5821(_align_for_op)\n",
      "        3    0.000    0.000    0.000    0.000 blocks.py:243(mgr_locs)\n",
      "        2    0.000    0.000    0.000    0.000 _array_api.py:12(_check_array_api_dispatch)\n",
      "        2    0.000    0.000    0.000    0.000 inspect.py:3006(parameters)\n",
      "        1    0.000    0.000    0.000    0.000 range.py:554(equals)\n",
      "        4    0.000    0.000    0.000    0.000 range.py:228(_constructor)\n",
      "        3    0.000    0.000    0.000    0.000 numeric.py:837(_outer_dispatcher)\n",
      "        2    0.000    0.000    0.000    0.000 fromnumeric.py:2589(_ptp_dispatcher)\n",
      "        1    0.000    0.000    0.000    0.000 arraylike.py:415(_standardize_out_kwarg)\n",
      "        6    0.000    0.000    0.000    0.000 contextlib.py:423(__enter__)\n",
      "        2    0.000    0.000    0.000    0.000 multiarray.py:1393(may_share_memory)\n",
      "        2    0.000    0.000    0.000    0.000 base.py:692(_constructor)\n",
      "        3    0.000    0.000    0.000    0.000 {method 'extend' of 'list' objects}\n",
      "        2    0.000    0.000    0.000    0.000 {pandas._libs.lib.is_bool_list}\n",
      "        1    0.000    0.000    0.000    0.000 {method 'disable' of '_lsprof.Profiler' objects}\n",
      "        1    0.000    0.000    0.000    0.000 multiarray.py:669(result_type)\n",
      "        2    0.000    0.000    0.000    0.000 base.py:1954(nlevels)\n",
      "        1    0.000    0.000    0.000    0.000 range.py:452(_should_fallback_to_positional)\n",
      "        1    0.000    0.000    0.000    0.000 base.py:292(_consolidate_inplace)\n",
      "        1    0.000    0.000    0.000    0.000 fromnumeric.py:3265(_round_dispatcher)\n",
      "\n",
      "\n"
     ]
    }
   ],
   "source": [
    "def grouped_run_no_original():\n",
    "    ci = CausalInsight(\n",
    "        outcome_dataset=outcome,\n",
    "        intervention_dataset=intervention,\n",
    "        num_samples=num_samples,\n",
    "        smoke_test=smoke_test,\n",
    "    )\n",
    "\n",
    "    ci.get_tau_samples()\n",
    "    percent_calc = ci.slider_values_to_interventions(intervened_percent=50, year=year)\n",
    "    assert percent_calc[\"intervened_transformed\"] > -1\n",
    "\n",
    "    ci.get_group_predictions(\n",
    "        intervened_value=percent_calc[\"intervened_transformed\"],\n",
    "        group=texas,\n",
    "        intervention_is_percentile=True,\n",
    "        produce_original=False,\n",
    "    )\n",
    "\n",
    "\n",
    "profiler_grouped_no_original = cProfile.Profile()\n",
    "\n",
    "profiler_grouped_no_original.enable()\n",
    "grouped_run_no_original()\n",
    "profiler_grouped_no_original.disable()\n",
    "\n",
    "profiler_grouped_no_original.print_stats(sort=\"cumulative\")"
   ]
  }
 ],
 "metadata": {
  "kernelspec": {
   "display_name": "polis-dev",
   "language": "python",
   "name": "python3"
  },
  "language_info": {
   "codemirror_mode": {
    "name": "ipython",
    "version": 3
   },
   "file_extension": ".py",
   "mimetype": "text/x-python",
   "name": "python",
   "nbconvert_exporter": "python",
   "pygments_lexer": "ipython3",
   "version": "3.10.13"
  }
 },
 "nbformat": 4,
 "nbformat_minor": 2
}
