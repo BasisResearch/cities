{
 "cells": [
  {
   "cell_type": "code",
   "execution_count": 1,
   "metadata": {},
   "outputs": [],
   "source": [
    "import os\n",
    "\n",
    "from typing import Type, Dict, List, Tuple, Optional\n",
    "\n",
    "import matplotlib.pyplot as plt\n",
    "import torch\n",
    "import pyro\n",
    "import seaborn as sns\n",
    "import torch\n",
    "import contextlib\n",
    "\n",
    "from torch.utils.data import DataLoader\n",
    "\n",
    "import pyro\n",
    "\n",
    "from cities.modeling.simple_linear import SimpleLinear\n",
    "from cities.modeling.add_categorical_interactions import AddCategoricalInteractions\n",
    "from cities.modeling.add_causal_layer import AddCausalLayer \n",
    "from cities.modeling.svi_inference import run_svi_inference\n",
    "from cities.utils.data_loader import select_from_data\n",
    "from pyro.infer import Predictive\n",
    "\n",
    "import contextlib\n",
    "\n",
    "\n",
    "smoke_test = \"CI\" in os.environ\n",
    "n = 20 if smoke_test else 2000\n",
    "num_samples = 10 if smoke_test else 1000\n",
    "n_steps = 10 if smoke_test else 1000\n",
    "\n",
    "from cities.utils.data_grabber import find_repo_root\n",
    "\n",
    "root = find_repo_root()"
   ]
  },
  {
   "cell_type": "code",
   "execution_count": 2,
   "metadata": {},
   "outputs": [
    {
     "name": "stdout",
     "output_type": "stream",
     "text": [
      "dict_keys(['parcel_id', 'neighborhood_id', 'ward_id', 'zone_id', 'limit_id', 'past_reform', 'year', 'month'])\n",
      "dict_keys(['parcel_area', 'car_parking', 'housing_units', 'parcel_area_original', 'car_parking_original', 'housing_units_original'])\n"
     ]
    }
   ],
   "source": [
    "zoning_data_path = os.path.join(root, \"data/minneapolis/processed/zoning_dataset.pt\")\n",
    "\n",
    "zoning_dataset_read = torch.load(zoning_data_path)\n",
    "\n",
    "zoning_loader = DataLoader(\n",
    "    zoning_dataset_read, batch_size=len(zoning_dataset_read), shuffle=True\n",
    ")\n",
    "\n",
    "data = next(iter(zoning_loader))\n",
    "\n",
    "\n",
    "print(data['categorical'].keys())\n",
    "print(data['continuous'].keys())\n",
    "\n",
    "\n",
    "minimal_kwargs = {  \n",
    "    \"categorical\": [\"past_reform\"],\n",
    "    \"continuous\": {\"parcel_area\"},\n",
    "    \"outcome\": \"housing_units\",\n",
    "}\n",
    "\n",
    "minimal_subset = select_from_data(data, minimal_kwargs)\n",
    "\n",
    "# will want to add zone_id -> parcel_area and zone_id -> housing_units\n",
    "expanded_kwargs = {  \n",
    "    \"categorical\": [\"zone_id\", \"past_reform\"],\n",
    "    \"continuous\": {\"parcel_area\"},\n",
    "    \"outcome\": \"housing_units\",\n",
    "}\n",
    "\n",
    "expanded_subset = select_from_data(data, expanded_kwargs)\n",
    "\n"
   ]
  },
  {
   "cell_type": "code",
   "execution_count": 3,
   "metadata": {},
   "outputs": [
    {
     "name": "stdout",
     "output_type": "stream",
     "text": [
      "dict_keys(['past_reform'])\n",
      "dict_keys(['parcel_area'])\n"
     ]
    }
   ],
   "source": [
    "base_model = SimpleLinear(**minimal_subset)\n",
    "\n",
    "print(minimal_subset['categorical'].keys())\n",
    "print(minimal_subset['continuous'].keys())"
   ]
  },
  {
   "cell_type": "code",
   "execution_count": 5,
   "metadata": {},
   "outputs": [
    {
     "ename": "TypeError",
     "evalue": "AddCausalLayer() got an unexpected keyword argument 'model_kwargs'",
     "output_type": "error",
     "traceback": [
      "\u001b[0;31m---------------------------------------------------------------------------\u001b[0m",
      "\u001b[0;31mTypeError\u001b[0m                                 Traceback (most recent call last)",
      "Cell \u001b[0;32mIn[5], line 1\u001b[0m\n\u001b[0;32m----> 1\u001b[0m \u001b[38;5;28;01mwith\u001b[39;00m \u001b[43mAddCausalLayer\u001b[49m\u001b[43m(\u001b[49m\u001b[43mbase_model\u001b[49m\u001b[43m,\u001b[49m\u001b[43m \u001b[49m\u001b[43mdata\u001b[49m\u001b[43m,\u001b[49m\u001b[43m \u001b[49m\n\u001b[1;32m      2\u001b[0m \u001b[43m        \u001b[49m\u001b[43mmodel_kwargs\u001b[49m\u001b[43m \u001b[49m\u001b[38;5;241;43m=\u001b[39;49m\u001b[43m \u001b[49m\u001b[43mminimal_kwargs\u001b[49m\u001b[43m,\u001b[49m\n\u001b[1;32m      3\u001b[0m \u001b[43m        \u001b[49m\u001b[43mcausal_layer\u001b[49m\u001b[38;5;241;43m=\u001b[39;49m\u001b[43m{\u001b[49m\u001b[38;5;124;43m\"\u001b[39;49m\u001b[38;5;124;43mparcel_area\u001b[39;49m\u001b[38;5;124;43m\"\u001b[39;49m\u001b[43m:\u001b[49m\u001b[43m \u001b[49m\u001b[43m[\u001b[49m\u001b[38;5;124;43m\"\u001b[39;49m\u001b[38;5;124;43mzone_id\u001b[39;49m\u001b[38;5;124;43m\"\u001b[39;49m\u001b[43m,\u001b[49m\u001b[43m \u001b[49m\u001b[38;5;124;43m'\u001b[39;49m\u001b[38;5;124;43mneighborhood_id\u001b[39;49m\u001b[38;5;124;43m'\u001b[39;49m\u001b[43m]\u001b[49m\u001b[43m,\u001b[49m\u001b[43m \u001b[49m\u001b[38;5;124;43m\"\u001b[39;49m\u001b[38;5;124;43mhousing_units\u001b[39;49m\u001b[38;5;124;43m\"\u001b[39;49m\u001b[43m:\u001b[49m\u001b[43m \u001b[49m\u001b[43m[\u001b[49m\u001b[38;5;124;43m\"\u001b[39;49m\u001b[38;5;124;43mzone_id\u001b[39;49m\u001b[38;5;124;43m\"\u001b[39;49m\u001b[43m]\u001b[49m\u001b[43m}\u001b[49m\u001b[43m)\u001b[49m:\n\u001b[1;32m      4\u001b[0m     base_model(\u001b[38;5;241m*\u001b[39m\u001b[38;5;241m*\u001b[39mminimal_subset)\n",
      "File \u001b[0;32m~/miniconda3/envs/polis-dev/lib/python3.10/contextlib.py:281\u001b[0m, in \u001b[0;36mcontextmanager.<locals>.helper\u001b[0;34m(*args, **kwds)\u001b[0m\n\u001b[1;32m    279\u001b[0m \u001b[38;5;129m@wraps\u001b[39m(func)\n\u001b[1;32m    280\u001b[0m \u001b[38;5;28;01mdef\u001b[39;00m \u001b[38;5;21mhelper\u001b[39m(\u001b[38;5;241m*\u001b[39margs, \u001b[38;5;241m*\u001b[39m\u001b[38;5;241m*\u001b[39mkwds):\n\u001b[0;32m--> 281\u001b[0m     \u001b[38;5;28;01mreturn\u001b[39;00m \u001b[43m_GeneratorContextManager\u001b[49m\u001b[43m(\u001b[49m\u001b[43mfunc\u001b[49m\u001b[43m,\u001b[49m\u001b[43m \u001b[49m\u001b[43margs\u001b[49m\u001b[43m,\u001b[49m\u001b[43m \u001b[49m\u001b[43mkwds\u001b[49m\u001b[43m)\u001b[49m\n",
      "File \u001b[0;32m~/miniconda3/envs/polis-dev/lib/python3.10/contextlib.py:103\u001b[0m, in \u001b[0;36m_GeneratorContextManagerBase.__init__\u001b[0;34m(self, func, args, kwds)\u001b[0m\n\u001b[1;32m    102\u001b[0m \u001b[38;5;28;01mdef\u001b[39;00m \u001b[38;5;21m__init__\u001b[39m(\u001b[38;5;28mself\u001b[39m, func, args, kwds):\n\u001b[0;32m--> 103\u001b[0m     \u001b[38;5;28mself\u001b[39m\u001b[38;5;241m.\u001b[39mgen \u001b[38;5;241m=\u001b[39m \u001b[43mfunc\u001b[49m\u001b[43m(\u001b[49m\u001b[38;5;241;43m*\u001b[39;49m\u001b[43margs\u001b[49m\u001b[43m,\u001b[49m\u001b[43m \u001b[49m\u001b[38;5;241;43m*\u001b[39;49m\u001b[38;5;241;43m*\u001b[39;49m\u001b[43mkwds\u001b[49m\u001b[43m)\u001b[49m\n\u001b[1;32m    104\u001b[0m     \u001b[38;5;28mself\u001b[39m\u001b[38;5;241m.\u001b[39mfunc, \u001b[38;5;28mself\u001b[39m\u001b[38;5;241m.\u001b[39margs, \u001b[38;5;28mself\u001b[39m\u001b[38;5;241m.\u001b[39mkwds \u001b[38;5;241m=\u001b[39m func, args, kwds\n\u001b[1;32m    105\u001b[0m     \u001b[38;5;66;03m# Issue 19330: ensure context manager instances have good docstrings\u001b[39;00m\n",
      "\u001b[0;31mTypeError\u001b[0m: AddCausalLayer() got an unexpected keyword argument 'model_kwargs'"
     ]
    }
   ],
   "source": [
    "with AddCausalLayer(base_model,\n",
    "        model_kwargs = minimal_kwargs,\n",
    "        dataset = data,\n",
    "        causal_layer={\"parcel_area\": [\"zone_id\", 'neighborhood_id'], \"housing_units\": [\"zone_id\"]}):\n",
    "    base_model(**minimal_subset)"
   ]
  },
  {
   "cell_type": "code",
   "execution_count": 3,
   "metadata": {},
   "outputs": [
    {
     "name": "stdout",
     "output_type": "stream",
     "text": [
      "odict_keys(['sigma', 'data', 'weights_categorical_zone_id_past_reform', 'bias_continuous', 'weight_continuous', 'mean_outcome_prediction', 'outcome_observed'])\n"
     ]
    }
   ],
   "source": [
    "model = SimpleLinear(**subset)\n",
    "\n",
    "with AddCategoricalInteractions(model, \n",
    "            interaction_tuples = [(\"zone_id\", \"past_reform\")]):\n",
    "    with pyro.poutine.trace() as tr:\n",
    "        model(**subset)\n",
    "    \n",
    "print(tr.trace.nodes.keys())"
   ]
  }
 ],
 "metadata": {
  "kernelspec": {
   "display_name": "polis-dev",
   "language": "python",
   "name": "python3"
  },
  "language_info": {
   "codemirror_mode": {
    "name": "ipython",
    "version": 3
   },
   "file_extension": ".py",
   "mimetype": "text/x-python",
   "name": "python",
   "nbconvert_exporter": "python",
   "pygments_lexer": "ipython3",
   "version": "3.10.13"
  }
 },
 "nbformat": 4,
 "nbformat_minor": 2
}
