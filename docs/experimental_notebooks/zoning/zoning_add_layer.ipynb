{
 "cells": [
  {
   "cell_type": "code",
   "execution_count": 4,
   "metadata": {},
   "outputs": [],
   "source": [
    "import os\n",
    "\n",
    "from typing import Type, Dict, List, Tuple, Optional\n",
    "\n",
    "import matplotlib.pyplot as plt\n",
    "import torch\n",
    "import pyro\n",
    "import seaborn as sns\n",
    "import torch\n",
    "import contextlib\n",
    "\n",
    "from torch.utils.data import DataLoader\n",
    "\n",
    "import pyro\n",
    "\n",
    "from cities.modeling.simple_linear import SimpleLinear\n",
    "from cities.modeling.add_categorical_interactions import AddCategoricalInteractions\n",
    "from cities.modeling.add_causal_layers import AddCausalLayer \n",
    "from cities.modeling.svi_inference import run_svi_inference\n",
    "from cities.utils.data_loader import select_from_data\n",
    "from pyro.infer import Predictive\n",
    "\n",
    "import contextlib\n",
    "\n",
    "\n",
    "smoke_test = \"CI\" in os.environ\n",
    "n = 20 if smoke_test else 2000\n",
    "num_samples = 10 if smoke_test else 1000\n",
    "n_steps = 10 if smoke_test else 1000\n",
    "\n",
    "from cities.utils.data_grabber import find_repo_root\n",
    "\n",
    "root = find_repo_root()"
   ]
  },
  {
   "cell_type": "code",
   "execution_count": 2,
   "metadata": {},
   "outputs": [
    {
     "name": "stdout",
     "output_type": "stream",
     "text": [
      "dict_keys(['parcel_id', 'neighborhood_id', 'ward_id', 'zone_id', 'limit_id', 'past_reform', 'year', 'month'])\n",
      "dict_keys(['parcel_area', 'car_parking', 'housing_units', 'parcel_area_original', 'car_parking_original', 'housing_units_original'])\n"
     ]
    }
   ],
   "source": [
    "zoning_data_path = os.path.join(root, \"data/minneapolis/processed/zoning_dataset.pt\")\n",
    "\n",
    "zoning_dataset_read = torch.load(zoning_data_path)\n",
    "\n",
    "zoning_loader = DataLoader(\n",
    "    zoning_dataset_read, batch_size=len(zoning_dataset_read), shuffle=True\n",
    ")\n",
    "\n",
    "data = next(iter(zoning_loader))\n",
    "\n",
    "\n",
    "print(data['categorical'].keys())\n",
    "print(data['continuous'].keys())\n",
    "\n",
    "\n",
    "minimal_kwargs = {  \n",
    "    \"categorical\": [\"past_reform\"],\n",
    "    \"continuous\": {\"parcel_area\"},\n",
    "    \"outcome\": \"housing_units\",\n",
    "}\n",
    "\n",
    "minimal_subset = select_from_data(data, minimal_kwargs)\n",
    "\n",
    "# will want to add zone_id -> parcel_area and zone_id -> housing_units\n",
    "expanded_kwargs = {  \n",
    "    \"categorical\": [\"zone_id\", \"past_reform\"],\n",
    "    \"continuous\": {\"parcel_area\"},\n",
    "    \"outcome\": \"housing_units\",\n",
    "}\n",
    "\n",
    "expanded_subset = select_from_data(data, expanded_kwargs)\n",
    "\n"
   ]
  },
  {
   "cell_type": "code",
   "execution_count": 3,
   "metadata": {},
   "outputs": [],
   "source": [
    "model = SimpleLinear(**minimal_subset)"
   ]
  },
  {
   "cell_type": "code",
   "execution_count": null,
   "metadata": {},
   "outputs": [],
   "source": []
  },
  {
   "cell_type": "code",
   "execution_count": 3,
   "metadata": {},
   "outputs": [
    {
     "name": "stdout",
     "output_type": "stream",
     "text": [
      "odict_keys(['sigma', 'data', 'weights_categorical_zone_id_past_reform', 'bias_continuous', 'weight_continuous', 'mean_outcome_prediction', 'outcome_observed'])\n"
     ]
    }
   ],
   "source": [
    "model = SimpleLinear(**subset)\n",
    "\n",
    "with AddCategoricalInteractions(model, \n",
    "            interaction_tuples = [(\"zone_id\", \"past_reform\")]):\n",
    "    with pyro.poutine.trace() as tr:\n",
    "        model(**subset)\n",
    "    \n",
    "print(tr.trace.nodes.keys())"
   ]
  }
 ],
 "metadata": {
  "kernelspec": {
   "display_name": "polis-dev",
   "language": "python",
   "name": "python3"
  },
  "language_info": {
   "codemirror_mode": {
    "name": "ipython",
    "version": 3
   },
   "file_extension": ".py",
   "mimetype": "text/x-python",
   "name": "python",
   "nbconvert_exporter": "python",
   "pygments_lexer": "ipython3",
   "version": "3.10.13"
  }
 },
 "nbformat": 4,
 "nbformat_minor": 2
}
