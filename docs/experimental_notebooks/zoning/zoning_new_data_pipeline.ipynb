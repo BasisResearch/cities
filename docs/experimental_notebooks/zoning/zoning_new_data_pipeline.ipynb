{
 "cells": [
  {
   "cell_type": "code",
   "execution_count": 10,
   "metadata": {},
   "outputs": [],
   "source": [
    "import copy\n",
    "import os\n",
    "import time\n",
    "import sqlalchemy\n",
    "import dill\n",
    "import matplotlib.pyplot as plt\n",
    "import numpy as np\n",
    "import pandas as pd\n",
    "import pyro\n",
    "import seaborn as sns\n",
    "import torch\n",
    "from chirho.counterfactual.handlers import MultiWorldCounterfactual\n",
    "from chirho.indexed.ops import IndexSet, gather\n",
    "from chirho.interventional.handlers import do\n",
    "from pyro.infer import Predictive\n",
    "from torch.utils.data import DataLoader\n",
    "\n",
    "from dotenv import load_dotenv\n",
    "\n",
    "from cities.modeling.evaluation import prep_data_for_test, test_performance\n",
    "from cities.modeling.svi_inference import run_svi_inference\n",
    "\n",
    "from cities.modeling.zoning_models.zoning_tracts_model import TractsModel\n",
    "from cities.utils.data_loader import select_from_data, ZoningDataset\n",
    "\n",
    "smoke_test = \"CI\" in os.environ\n",
    "\n",
    "n_steps = 10 if smoke_test else 2000\n",
    "num_samples = 10 if smoke_test else 1000\n",
    "\n",
    "from cities.utils.data_grabber import find_repo_root\n",
    "\n",
    "from cities.modeling.svi_inference import run_svi_inference\n",
    "from cities.modeling.zoning_models.zoning_tracts_model import TractsModel\n",
    "from cities.utils.data_loader import select_from_sql\n",
    "\n",
    "\n",
    "root = find_repo_root()"
   ]
  },
  {
   "cell_type": "code",
   "execution_count": 2,
   "metadata": {},
   "outputs": [
    {
     "name": "stdout",
     "output_type": "stream",
     "text": [
      "dict_keys(['year_original', 'year', 'census_tract'])\n",
      "dict_keys(['housing_units', 'housing_units_original', 'income', 'income_original', 'mean_distance', 'mean_distance_original', 'mean_limit', 'mean_limit_original', 'median_distance', 'median_distance_original', 'median_value', 'median_value_original', 'segregation', 'segregation_original', 'total_value', 'total_value_original', 'white', 'white_original'])\n"
     ]
    }
   ],
   "source": [
    "census_tracts_data_path = os.path.join(\n",
    "    root, \"data/minneapolis/processed/census_tracts_dataset.pt\"\n",
    ")\n",
    "\n",
    "\n",
    "ct_dataset_read = torch.load(census_tracts_data_path)\n",
    "ct_loader = DataLoader(ct_dataset_read, batch_size=len(ct_dataset_read), shuffle=True)\n",
    "old_data = next(iter(ct_loader))\n",
    "\n",
    "print(old_data['categorical'].keys())\n",
    "print(old_data['continuous'].keys())"
   ]
  },
  {
   "cell_type": "code",
   "execution_count": 17,
   "metadata": {},
   "outputs": [
    {
     "name": "stdout",
     "output_type": "stream",
     "text": [
      "postgres 34.123.100.76 cities VA.TlSR#Z%mu**Q9\n"
     ]
    }
   ],
   "source": [
    "load_dotenv()\n",
    "load_dotenv(os.path.expanduser(\"~/.env_pw\"))\n",
    "\n",
    "DB_USERNAME = os.getenv(\"DB_USERNAME\")\n",
    "HOST = os.getenv(\"HOST\")\n",
    "DATABASE = os.getenv(\"DATABASE\")\n",
    "PASSWORD = os.getenv(\"PASSWORD\")\n",
    "\n",
    "print(DB_USERNAME, HOST, DATABASE, PASSWORD)\n",
    "\n",
    "\n",
    "\n",
    "new_kwargs = {\n",
    "    \"categorical\": [\"year\", \"census_tract\"],\n",
    "    \"continuous\": {\n",
    "        \"housing_units\",\n",
    "        \"total_value\",\n",
    "        \"median_value\",\n",
    "        \"mean_limit_original\",\n",
    "        \"median_distance\",\n",
    "        \"income\",\n",
    "        \"segregation_original\",\n",
    "        \"white_original\",\n",
    "        \"parcel_sqm\",\n",
    "        'downtown_overlap', \n",
    "        'university_overlap',\n",
    "    },\n",
    "    \"outcome\": \"housing_units\",\n",
    "}"
   ]
  },
  {
   "cell_type": "code",
   "execution_count": 18,
   "metadata": {},
   "outputs": [
    {
     "name": "stdout",
     "output_type": "stream",
     "text": [
      "Data loaded in 33.775843381881714 seconds\n"
     ]
    }
   ],
   "source": [
    "load_start = time.time()\n",
    "with sqlalchemy.create_engine(\n",
    "    f\"postgresql://{DB_USERNAME}:{PASSWORD}@{HOST}/{DATABASE}\"\n",
    ").connect() as conn:\n",
    "    subset = select_from_sql(\n",
    "        \"select * from dev.tracts_model__census_tracts order by census_tract, year\",\n",
    "        conn,\n",
    "        new_kwargs,\n",
    "    )\n",
    "load_end = time.time()\n",
    "print(f\"Data loaded in {load_end - load_start} seconds\")"
   ]
  },
  {
   "cell_type": "code",
   "execution_count": 23,
   "metadata": {},
   "outputs": [
    {
     "name": "stdout",
     "output_type": "stream",
     "text": [
      "dict_keys(['segregation_original', 'income', 'university_overlap', 'median_value', 'median_distance', 'mean_limit_original', 'downtown_overlap', 'total_value', 'white_original', 'parcel_sqm', 'housing_units'])\n",
      "tensor([-0.2745, -0.2745, -0.2744, -0.2743, -0.2743, -0.2741, -0.2740, -0.2735,\n",
      "        -0.2734, -0.2734, -0.2733, -0.2719, -0.2711, -0.2687, -0.2687, -0.2686,\n",
      "        -0.2676, -0.2675, -0.2639, -0.2630, -0.2630, -0.2629, -0.2611, -0.2606,\n",
      "        -0.2600, -0.2594, -0.2592, -0.2558, -0.2554, -0.2521, -0.2319, -0.2232,\n",
      "        -0.2232, -0.2174, -0.2168, -0.1890, -0.1638, -0.1638,  1.9027,  1.9379,\n",
      "         1.9508,  3.4740,  3.4848,  3.5513,  3.7760,  3.7911,  3.7996,  3.8061,\n",
      "         3.8497,  3.8498,  3.8517,  3.8517,  3.8547,  3.8547,  3.8562,  3.8694,\n",
      "         3.8698,  3.8699,  3.8699,  3.8868])\n",
      "tensor([-0.2552, -0.2552, -0.2548, -0.2537, -0.2537, -0.2537, -0.2537, -0.2536,\n",
      "        -0.2536, -0.2526, -0.2483, -0.2472, -0.2470, -0.2439, -0.2426, -0.2357,\n",
      "        -0.2357, -0.2248, -0.2248, -0.2248, -0.2238, -0.2144, -0.2034, -0.2026,\n",
      "        -0.1992, -0.1900, -0.1898, -0.1676, -0.1621, -0.1423,  2.0063,  2.0076,\n",
      "         2.0083,  2.0137,  2.0242,  4.0458,  4.0458,  4.1052,  4.1194,  4.1196,\n",
      "         4.1198,  4.1204,  4.1205,  4.1207,  4.1260,  4.1461,  4.1461,  4.1461,\n",
      "         4.1461,  4.1461,  4.1505])\n"
     ]
    }
   ],
   "source": [
    "print(subset['continuous'].keys())\n",
    "\n",
    "print(subset['continuous']['downtown_overlap'].unique())\n",
    "\n",
    "print(subset['continuous']['university_overlap'].unique())\n"
   ]
  },
  {
   "cell_type": "code",
   "execution_count": null,
   "metadata": {},
   "outputs": [
    {
     "name": "stdout",
     "output_type": "stream",
     "text": [
      "Mean tensor(2.9539e-09)\n",
      "Median tensor(-0.2807)\n",
      "Max tensor(12.3799)\n",
      "Min tensor(-0.5102)\n"
     ]
    },
    {
     "data": {
      "image/png": "[encoded data removed]",
      "text/plain": [
       "<Figure size 640x480 with 1 Axes>"
      ]
     },
     "metadata": {},
     "output_type": "display_data"
    }
   ],
   "source": [
    "print(\"Mean\", subset['continuous']['parcel_sqm'].mean())\n",
    "print(\"Median\", subset['continuous']['parcel_sqm'].median())\n",
    "print(\"Max\", subset['continuous']['parcel_sqm'].max())\n",
    "print(\"Min\", subset['continuous']['parcel_sqm'].min())\n",
    "#histogram\n",
    "plt.hist(subset['continuous']['parcel_sqm'], bins=60)\n",
    "plt.show()\n"
   ]
  },
  {
   "cell_type": "code",
   "execution_count": null,
   "metadata": {},
   "outputs": [],
   "source": [
    "columns_to_standardize = [\n",
    "    \"housing_units_original\",\n",
    "    \"total_value_original\",\n",
    "]\n",
    "\n",
    "new_standardization_dict = {}\n",
    "\n",
    "for column in columns_to_standardize:\n",
    "    new_standardization_dict[column] = {\n",
    "        \"mean\": new_data['continuous'][column].mean(),\n",
    "        \"std\": new_data['continuous'][column].std(),\n",
    "    }\n"
   ]
  },
  {
   "cell_type": "code",
   "execution_count": null,
   "metadata": {},
   "outputs": [
    {
     "name": "stdout",
     "output_type": "stream",
     "text": [
      "housing_units_original {'mean': 37.57720588235294, 'std': 91.84181610416991}\n",
      "housing_units_original {'mean': tensor(31.1124), 'std': tensor(90.1668)}\n",
      "total_value_original {'mean': 373244336.6862745, 'std': 444410879.6350971}\n",
      "total_value_original {'mean': tensor(3.5076e+08), 'std': tensor(4.5121e+08)}\n"
     ]
    }
   ],
   "source": [
    "# these seem realistic\n",
    "\n",
    "old_standardization_dict = ct_dataset_read.standardization_dictionary   \n",
    "\n",
    "for key in new_standardization_dict:\n",
    "    print(key, old_standardization_dict[key[:-len('_original')]])\n",
    "    print(key, new_standardization_dict[key])\n"
   ]
  },
  {
   "cell_type": "code",
   "execution_count": null,
   "metadata": {},
   "outputs": [],
   "source": [
    "\n",
    "pg_census_tracts_dataset = ZoningDataset(\n",
    "    new_data['categorical'], new_data['continuous'], standardization_dictionary=new_standardization_dict\n",
    ")\n",
    "\n",
    "\n",
    "assert \"parcel_sqm\" in new_data['continuous'].keys()\n",
    "\n",
    "pg_census_tracts_loader = DataLoader(pg_census_tracts_dataset, batch_size=len(pg_census_tracts_dataset), shuffle=True)\n",
    "\n",
    "pg_census_tracts_data_path = os.path.join(\n",
    "    root, \"data/minneapolis/processed/pg_census_tracts_dataset.pt\"\n",
    ")\n",
    "\n",
    "torch.save(pg_census_tracts_dataset, pg_census_tracts_data_path)"
   ]
  }
 ],
 "metadata": {
  "kernelspec": {
   "display_name": "polis-dev",
   "language": "python",
   "name": "python3"
  },
  "language_info": {
   "codemirror_mode": {
    "name": "ipython",
    "version": 3
   },
   "file_extension": ".py",
   "mimetype": "text/x-python",
   "name": "python",
   "nbconvert_exporter": "python",
   "pygments_lexer": "ipython3",
   "version": "3.10.13"
  }
 },
 "nbformat": 4,
 "nbformat_minor": 2
}
