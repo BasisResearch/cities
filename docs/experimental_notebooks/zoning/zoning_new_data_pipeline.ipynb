{
 "cells": [
  {
   "cell_type": "code",
   "execution_count": 1,
   "metadata": {},
   "outputs": [],
   "source": [
    "import copy\n",
    "import os\n",
    "import time\n",
    "import sqlalchemy\n",
    "import dill\n",
    "import matplotlib.pyplot as plt\n",
    "import numpy as np\n",
    "import pandas as pd\n",
    "import pyro\n",
    "import seaborn as sns\n",
    "import torch\n",
    "from chirho.counterfactual.handlers import MultiWorldCounterfactual\n",
    "from chirho.indexed.ops import IndexSet, gather\n",
    "from chirho.interventional.handlers import do\n",
    "from pyro.infer import Predictive\n",
    "from torch.utils.data import DataLoader\n",
    "\n",
    "from dotenv import load_dotenv\n",
    "\n",
    "from cities.modeling.evaluation import prep_data_for_test, test_performance\n",
    "from cities.modeling.svi_inference import run_svi_inference\n",
    "\n",
    "from cities.modeling.zoning_models.zoning_tracts_model import TractsModel\n",
    "from cities.utils.data_loader import select_from_data, ZoningDataset\n",
    "\n",
    "smoke_test = \"CI\" in os.environ\n",
    "\n",
    "n_steps = 10 if smoke_test else 2000\n",
    "num_samples = 10 if smoke_test else 1000\n",
    "\n",
    "from cities.utils.data_grabber import find_repo_root\n",
    "\n",
    "from cities.modeling.svi_inference import run_svi_inference\n",
    "from cities.modeling.zoning_models.zoning_tracts_model import TractsModel\n",
    "from cities.utils.data_loader import select_from_sql\n",
    "\n",
    "\n",
    "root = find_repo_root()"
   ]
  },
  {
   "cell_type": "code",
   "execution_count": 4,
   "metadata": {},
   "outputs": [
    {
     "name": "stdout",
     "output_type": "stream",
     "text": [
      "postgres 34.123.100.76 cities VA.TlSR#Z%mu**Q9\n"
     ]
    },
    {
     "ename": "KeyError",
     "evalue": "'downtown_overlap_originaluniversity_overlap'",
     "output_type": "error",
     "traceback": [
      "\u001b[0;31m---------------------------------------------------------------------------\u001b[0m",
      "\u001b[0;31mKeyError\u001b[0m                                  Traceback (most recent call last)",
      "File \u001b[0;32m~/miniconda3/envs/polis-dev/lib/python3.10/site-packages/pandas/core/indexes/base.py:3805\u001b[0m, in \u001b[0;36mIndex.get_loc\u001b[0;34m(self, key)\u001b[0m\n\u001b[1;32m   3804\u001b[0m \u001b[38;5;28;01mtry\u001b[39;00m:\n\u001b[0;32m-> 3805\u001b[0m     \u001b[38;5;28;01mreturn\u001b[39;00m \u001b[38;5;28;43mself\u001b[39;49m\u001b[38;5;241;43m.\u001b[39;49m\u001b[43m_engine\u001b[49m\u001b[38;5;241;43m.\u001b[39;49m\u001b[43mget_loc\u001b[49m\u001b[43m(\u001b[49m\u001b[43mcasted_key\u001b[49m\u001b[43m)\u001b[49m\n\u001b[1;32m   3806\u001b[0m \u001b[38;5;28;01mexcept\u001b[39;00m \u001b[38;5;167;01mKeyError\u001b[39;00m \u001b[38;5;28;01mas\u001b[39;00m err:\n",
      "File \u001b[0;32mindex.pyx:167\u001b[0m, in \u001b[0;36mpandas._libs.index.IndexEngine.get_loc\u001b[0;34m()\u001b[0m\n",
      "File \u001b[0;32mindex.pyx:196\u001b[0m, in \u001b[0;36mpandas._libs.index.IndexEngine.get_loc\u001b[0;34m()\u001b[0m\n",
      "File \u001b[0;32mpandas/_libs/hashtable_class_helper.pxi:7081\u001b[0m, in \u001b[0;36mpandas._libs.hashtable.PyObjectHashTable.get_item\u001b[0;34m()\u001b[0m\n",
      "File \u001b[0;32mpandas/_libs/hashtable_class_helper.pxi:7089\u001b[0m, in \u001b[0;36mpandas._libs.hashtable.PyObjectHashTable.get_item\u001b[0;34m()\u001b[0m\n",
      "\u001b[0;31mKeyError\u001b[0m: 'downtown_overlap_originaluniversity_overlap'",
      "\nThe above exception was the direct cause of the following exception:\n",
      "\u001b[0;31mKeyError\u001b[0m                                  Traceback (most recent call last)",
      "Cell \u001b[0;32mIn[4], line 37\u001b[0m\n\u001b[1;32m     33\u001b[0m load_start \u001b[38;5;241m=\u001b[39m time\u001b[38;5;241m.\u001b[39mtime()\n\u001b[1;32m     34\u001b[0m \u001b[38;5;28;01mwith\u001b[39;00m sqlalchemy\u001b[38;5;241m.\u001b[39mcreate_engine(\n\u001b[1;32m     35\u001b[0m     \u001b[38;5;124mf\u001b[39m\u001b[38;5;124m\"\u001b[39m\u001b[38;5;124mpostgresql://\u001b[39m\u001b[38;5;132;01m{\u001b[39;00mDB_USERNAME\u001b[38;5;132;01m}\u001b[39;00m\u001b[38;5;124m:\u001b[39m\u001b[38;5;132;01m{\u001b[39;00mPASSWORD\u001b[38;5;132;01m}\u001b[39;00m\u001b[38;5;124m@\u001b[39m\u001b[38;5;132;01m{\u001b[39;00mHOST\u001b[38;5;132;01m}\u001b[39;00m\u001b[38;5;124m/\u001b[39m\u001b[38;5;132;01m{\u001b[39;00mDATABASE\u001b[38;5;132;01m}\u001b[39;00m\u001b[38;5;124m\"\u001b[39m\n\u001b[1;32m     36\u001b[0m )\u001b[38;5;241m.\u001b[39mconnect() \u001b[38;5;28;01mas\u001b[39;00m conn:\n\u001b[0;32m---> 37\u001b[0m     subset \u001b[38;5;241m=\u001b[39m \u001b[43mselect_from_sql\u001b[49m\u001b[43m(\u001b[49m\n\u001b[1;32m     38\u001b[0m \u001b[43m        \u001b[49m\u001b[38;5;124;43m\"\u001b[39;49m\u001b[38;5;124;43mselect * from dev.tracts_model__census_tracts order by census_tract, year\u001b[39;49m\u001b[38;5;124;43m\"\u001b[39;49m\u001b[43m,\u001b[49m\n\u001b[1;32m     39\u001b[0m \u001b[43m        \u001b[49m\u001b[43mconn\u001b[49m\u001b[43m,\u001b[49m\n\u001b[1;32m     40\u001b[0m \u001b[43m        \u001b[49m\u001b[43mnew_kwargs\u001b[49m\u001b[43m,\u001b[49m\n\u001b[1;32m     41\u001b[0m \u001b[43m    \u001b[49m\u001b[43m)\u001b[49m\n\u001b[1;32m     42\u001b[0m load_end \u001b[38;5;241m=\u001b[39m time\u001b[38;5;241m.\u001b[39mtime()\n\u001b[1;32m     43\u001b[0m \u001b[38;5;28mprint\u001b[39m(\u001b[38;5;124mf\u001b[39m\u001b[38;5;124m\"\u001b[39m\u001b[38;5;124mData loaded in \u001b[39m\u001b[38;5;132;01m{\u001b[39;00mload_end\u001b[38;5;250m \u001b[39m\u001b[38;5;241m-\u001b[39m\u001b[38;5;250m \u001b[39mload_start\u001b[38;5;132;01m}\u001b[39;00m\u001b[38;5;124m seconds\u001b[39m\u001b[38;5;124m\"\u001b[39m)\n",
      "File \u001b[0;32m~/s78projects/cities/cities/utils/data_loader.py:84\u001b[0m, in \u001b[0;36mselect_from_sql\u001b[0;34m(sql, conn, kwargs, params)\u001b[0m\n\u001b[1;32m     77\u001b[0m \u001b[38;5;28;01mdef\u001b[39;00m \u001b[38;5;21mselect_from_sql\u001b[39m(sql, conn, kwargs, params\u001b[38;5;241m=\u001b[39m\u001b[38;5;28;01mNone\u001b[39;00m):\n\u001b[1;32m     78\u001b[0m     df \u001b[38;5;241m=\u001b[39m pd\u001b[38;5;241m.\u001b[39mread_sql(sql, conn, params\u001b[38;5;241m=\u001b[39mparams)\n\u001b[1;32m     79\u001b[0m     \u001b[38;5;28;01mreturn\u001b[39;00m {\n\u001b[1;32m     80\u001b[0m         \u001b[38;5;124m\"\u001b[39m\u001b[38;5;124moutcome\u001b[39m\u001b[38;5;124m\"\u001b[39m: df[kwargs[\u001b[38;5;124m\"\u001b[39m\u001b[38;5;124moutcome\u001b[39m\u001b[38;5;124m\"\u001b[39m]],\n\u001b[1;32m     81\u001b[0m         \u001b[38;5;124m\"\u001b[39m\u001b[38;5;124mcategorical\u001b[39m\u001b[38;5;124m\"\u001b[39m: {\n\u001b[1;32m     82\u001b[0m             key: torch\u001b[38;5;241m.\u001b[39mtensor(df[key]\u001b[38;5;241m.\u001b[39mvalues, dtype\u001b[38;5;241m=\u001b[39mtorch\u001b[38;5;241m.\u001b[39mint64) \u001b[38;5;28;01mfor\u001b[39;00m key \u001b[38;5;129;01min\u001b[39;00m kwargs[\u001b[38;5;124m\"\u001b[39m\u001b[38;5;124mcategorical\u001b[39m\u001b[38;5;124m\"\u001b[39m]\n\u001b[1;32m     83\u001b[0m         },\n\u001b[0;32m---> 84\u001b[0m         \u001b[38;5;124m\"\u001b[39m\u001b[38;5;124mcontinuous\u001b[39m\u001b[38;5;124m\"\u001b[39m: {\n\u001b[1;32m     85\u001b[0m             key: torch\u001b[38;5;241m.\u001b[39mtensor(df[key], dtype\u001b[38;5;241m=\u001b[39mtorch\u001b[38;5;241m.\u001b[39mfloat32)\n\u001b[1;32m     86\u001b[0m             \u001b[38;5;28;01mfor\u001b[39;00m key \u001b[38;5;129;01min\u001b[39;00m kwargs[\u001b[38;5;124m\"\u001b[39m\u001b[38;5;124mcontinuous\u001b[39m\u001b[38;5;124m\"\u001b[39m]\n\u001b[1;32m     87\u001b[0m         },\n\u001b[1;32m     88\u001b[0m     }\n",
      "File \u001b[0;32m~/s78projects/cities/cities/utils/data_loader.py:85\u001b[0m, in \u001b[0;36m<dictcomp>\u001b[0;34m(.0)\u001b[0m\n\u001b[1;32m     77\u001b[0m \u001b[38;5;28;01mdef\u001b[39;00m \u001b[38;5;21mselect_from_sql\u001b[39m(sql, conn, kwargs, params\u001b[38;5;241m=\u001b[39m\u001b[38;5;28;01mNone\u001b[39;00m):\n\u001b[1;32m     78\u001b[0m     df \u001b[38;5;241m=\u001b[39m pd\u001b[38;5;241m.\u001b[39mread_sql(sql, conn, params\u001b[38;5;241m=\u001b[39mparams)\n\u001b[1;32m     79\u001b[0m     \u001b[38;5;28;01mreturn\u001b[39;00m {\n\u001b[1;32m     80\u001b[0m         \u001b[38;5;124m\"\u001b[39m\u001b[38;5;124moutcome\u001b[39m\u001b[38;5;124m\"\u001b[39m: df[kwargs[\u001b[38;5;124m\"\u001b[39m\u001b[38;5;124moutcome\u001b[39m\u001b[38;5;124m\"\u001b[39m]],\n\u001b[1;32m     81\u001b[0m         \u001b[38;5;124m\"\u001b[39m\u001b[38;5;124mcategorical\u001b[39m\u001b[38;5;124m\"\u001b[39m: {\n\u001b[1;32m     82\u001b[0m             key: torch\u001b[38;5;241m.\u001b[39mtensor(df[key]\u001b[38;5;241m.\u001b[39mvalues, dtype\u001b[38;5;241m=\u001b[39mtorch\u001b[38;5;241m.\u001b[39mint64) \u001b[38;5;28;01mfor\u001b[39;00m key \u001b[38;5;129;01min\u001b[39;00m kwargs[\u001b[38;5;124m\"\u001b[39m\u001b[38;5;124mcategorical\u001b[39m\u001b[38;5;124m\"\u001b[39m]\n\u001b[1;32m     83\u001b[0m         },\n\u001b[1;32m     84\u001b[0m         \u001b[38;5;124m\"\u001b[39m\u001b[38;5;124mcontinuous\u001b[39m\u001b[38;5;124m\"\u001b[39m: {\n\u001b[0;32m---> 85\u001b[0m             key: torch\u001b[38;5;241m.\u001b[39mtensor(\u001b[43mdf\u001b[49m\u001b[43m[\u001b[49m\u001b[43mkey\u001b[49m\u001b[43m]\u001b[49m, dtype\u001b[38;5;241m=\u001b[39mtorch\u001b[38;5;241m.\u001b[39mfloat32)\n\u001b[1;32m     86\u001b[0m             \u001b[38;5;28;01mfor\u001b[39;00m key \u001b[38;5;129;01min\u001b[39;00m kwargs[\u001b[38;5;124m\"\u001b[39m\u001b[38;5;124mcontinuous\u001b[39m\u001b[38;5;124m\"\u001b[39m]\n\u001b[1;32m     87\u001b[0m         },\n\u001b[1;32m     88\u001b[0m     }\n",
      "File \u001b[0;32m~/miniconda3/envs/polis-dev/lib/python3.10/site-packages/pandas/core/frame.py:4102\u001b[0m, in \u001b[0;36mDataFrame.__getitem__\u001b[0;34m(self, key)\u001b[0m\n\u001b[1;32m   4100\u001b[0m \u001b[38;5;28;01mif\u001b[39;00m \u001b[38;5;28mself\u001b[39m\u001b[38;5;241m.\u001b[39mcolumns\u001b[38;5;241m.\u001b[39mnlevels \u001b[38;5;241m>\u001b[39m \u001b[38;5;241m1\u001b[39m:\n\u001b[1;32m   4101\u001b[0m     \u001b[38;5;28;01mreturn\u001b[39;00m \u001b[38;5;28mself\u001b[39m\u001b[38;5;241m.\u001b[39m_getitem_multilevel(key)\n\u001b[0;32m-> 4102\u001b[0m indexer \u001b[38;5;241m=\u001b[39m \u001b[38;5;28;43mself\u001b[39;49m\u001b[38;5;241;43m.\u001b[39;49m\u001b[43mcolumns\u001b[49m\u001b[38;5;241;43m.\u001b[39;49m\u001b[43mget_loc\u001b[49m\u001b[43m(\u001b[49m\u001b[43mkey\u001b[49m\u001b[43m)\u001b[49m\n\u001b[1;32m   4103\u001b[0m \u001b[38;5;28;01mif\u001b[39;00m is_integer(indexer):\n\u001b[1;32m   4104\u001b[0m     indexer \u001b[38;5;241m=\u001b[39m [indexer]\n",
      "File \u001b[0;32m~/miniconda3/envs/polis-dev/lib/python3.10/site-packages/pandas/core/indexes/base.py:3812\u001b[0m, in \u001b[0;36mIndex.get_loc\u001b[0;34m(self, key)\u001b[0m\n\u001b[1;32m   3807\u001b[0m     \u001b[38;5;28;01mif\u001b[39;00m \u001b[38;5;28misinstance\u001b[39m(casted_key, \u001b[38;5;28mslice\u001b[39m) \u001b[38;5;129;01mor\u001b[39;00m (\n\u001b[1;32m   3808\u001b[0m         \u001b[38;5;28misinstance\u001b[39m(casted_key, abc\u001b[38;5;241m.\u001b[39mIterable)\n\u001b[1;32m   3809\u001b[0m         \u001b[38;5;129;01mand\u001b[39;00m \u001b[38;5;28many\u001b[39m(\u001b[38;5;28misinstance\u001b[39m(x, \u001b[38;5;28mslice\u001b[39m) \u001b[38;5;28;01mfor\u001b[39;00m x \u001b[38;5;129;01min\u001b[39;00m casted_key)\n\u001b[1;32m   3810\u001b[0m     ):\n\u001b[1;32m   3811\u001b[0m         \u001b[38;5;28;01mraise\u001b[39;00m InvalidIndexError(key)\n\u001b[0;32m-> 3812\u001b[0m     \u001b[38;5;28;01mraise\u001b[39;00m \u001b[38;5;167;01mKeyError\u001b[39;00m(key) \u001b[38;5;28;01mfrom\u001b[39;00m \u001b[38;5;21;01merr\u001b[39;00m\n\u001b[1;32m   3813\u001b[0m \u001b[38;5;28;01mexcept\u001b[39;00m \u001b[38;5;167;01mTypeError\u001b[39;00m:\n\u001b[1;32m   3814\u001b[0m     \u001b[38;5;66;03m# If we have a listlike key, _check_indexing_error will raise\u001b[39;00m\n\u001b[1;32m   3815\u001b[0m     \u001b[38;5;66;03m#  InvalidIndexError. Otherwise we fall through and re-raise\u001b[39;00m\n\u001b[1;32m   3816\u001b[0m     \u001b[38;5;66;03m#  the TypeError.\u001b[39;00m\n\u001b[1;32m   3817\u001b[0m     \u001b[38;5;28mself\u001b[39m\u001b[38;5;241m.\u001b[39m_check_indexing_error(key)\n",
      "\u001b[0;31mKeyError\u001b[0m: 'downtown_overlap_originaluniversity_overlap'"
     ]
    }
   ],
   "source": [
    "load_dotenv()\n",
    "load_dotenv(os.path.expanduser(\"~/.env_pw\"))\n",
    "\n",
    "DB_USERNAME = os.getenv(\"DB_USERNAME\")\n",
    "HOST = os.getenv(\"HOST\")\n",
    "DATABASE = os.getenv(\"DATABASE\")\n",
    "PASSWORD = os.getenv(\"PASSWORD\")\n",
    "\n",
    "print(DB_USERNAME, HOST, DATABASE, PASSWORD)\n",
    "\n",
    "\n",
    "\n",
    "new_kwargs = {\n",
    "    \"categorical\": [\"year\", \"census_tract\"],\n",
    "    \"continuous\": {\n",
    "        \"housing_units\",\n",
    "        \"total_value\",\n",
    "        \"median_value\",\n",
    "        \"mean_limit_original\",\n",
    "        \"median_distance\",\n",
    "        \"income\",\n",
    "        \"segregation_original\",\n",
    "        \"white_original\",\n",
    "        \"parcel_sqm\",\n",
    "        'downtown_overlap',\n",
    "        'downtown_overlap_original',\n",
    "        'university_overlap',\n",
    "        'university_overlap_original'\n",
    "    },\n",
    "    \"outcome\": \"housing_units\",\n",
    "}\n",
    "\n",
    "load_start = time.time()\n",
    "with sqlalchemy.create_engine(\n",
    "    f\"postgresql://{DB_USERNAME}:{PASSWORD}@{HOST}/{DATABASE}\"\n",
    ").connect() as conn:\n",
    "    subset = select_from_sql(\n",
    "        \"select * from dev.tracts_model__census_tracts order by census_tract, year\",\n",
    "        conn,\n",
    "        new_kwargs,\n",
    "    )\n",
    "load_end = time.time()\n",
    "print(f\"Data loaded in {load_end - load_start} seconds\")"
   ]
  },
  {
   "cell_type": "code",
   "execution_count": 3,
   "metadata": {},
   "outputs": [
    {
     "name": "stdout",
     "output_type": "stream",
     "text": [
      "dict_keys(['median_value', 'university_overlap', 'housing_units', 'downtown_overlap', 'parcel_sqm', 'mean_limit_original', 'median_distance', 'income', 'segregation_original', 'total_value', 'white_original'])\n",
      "tensor([-0.2745, -0.2745, -0.2744, -0.2743, -0.2743, -0.2741, -0.2740, -0.2735,\n",
      "        -0.2734, -0.2734, -0.2733, -0.2719, -0.2711, -0.2687, -0.2687, -0.2686,\n",
      "        -0.2676, -0.2675, -0.2639, -0.2630, -0.2630, -0.2629, -0.2611, -0.2606,\n",
      "        -0.2600, -0.2594, -0.2592, -0.2558, -0.2554, -0.2521, -0.2319, -0.2232,\n",
      "        -0.2232, -0.2174, -0.2168, -0.1890, -0.1638, -0.1638,  1.9027,  1.9379,\n",
      "         1.9508,  3.4740,  3.4848,  3.5513,  3.7760,  3.7911,  3.7996,  3.8061,\n",
      "         3.8497,  3.8498,  3.8517,  3.8517,  3.8547,  3.8547,  3.8562,  3.8694,\n",
      "         3.8698,  3.8699,  3.8699,  3.8868])\n"
     ]
    },
    {
     "data": {
      "image/png": "[encoded data removed]",
      "text/plain": [
       "<Figure size 640x480 with 1 Axes>"
      ]
     },
     "metadata": {},
     "output_type": "display_data"
    },
    {
     "name": "stdout",
     "output_type": "stream",
     "text": [
      "tensor([-0.2552, -0.2552, -0.2548, -0.2537, -0.2537, -0.2537, -0.2537, -0.2536,\n",
      "        -0.2536, -0.2526, -0.2483, -0.2472, -0.2470, -0.2439, -0.2426, -0.2357,\n",
      "        -0.2357, -0.2248, -0.2248, -0.2248, -0.2238, -0.2144, -0.2034, -0.2026,\n",
      "        -0.1992, -0.1900, -0.1898, -0.1676, -0.1621, -0.1423,  2.0063,  2.0076,\n",
      "         2.0083,  2.0137,  2.0242,  4.0458,  4.0458,  4.1052,  4.1194,  4.1196,\n",
      "         4.1198,  4.1204,  4.1205,  4.1207,  4.1260,  4.1461,  4.1461,  4.1461,\n",
      "         4.1461,  4.1461,  4.1505])\n"
     ]
    },
    {
     "data": {
      "image/png": "[encoded data removed]",
      "text/plain": [
       "<Figure size 640x480 with 1 Axes>"
      ]
     },
     "metadata": {},
     "output_type": "display_data"
    }
   ],
   "source": [
    "print(subset['continuous'].keys())\n",
    "\n",
    "print(subset['continuous']['downtown_overlap'].unique())\n",
    "\n",
    "plt.hist(subset['continuous']['downtown_overlap'])\n",
    "plt.show()\n",
    "\n",
    "print(subset['continuous']['university_overlap'].unique())\n",
    "plt.hist(subset['continuous']['university_overlap'])\n",
    "plt.show()"
   ]
  },
  {
   "cell_type": "code",
   "execution_count": null,
   "metadata": {},
   "outputs": [],
   "source": [
    "columns_to_standardize = [\n",
    "    \"housing_units_original\",\n",
    "    \"total_value_original\",\n",
    "    \"university_overlap\",\n",
    "    \"downtown_overlap\",\n",
    "]\n",
    "\n",
    "new_standardization_dict = {}\n",
    "\n",
    "for column in columns_to_standardize:\n",
    "    new_standardization_dict[column] = {\n",
    "        \"mean\": new_data['continuous'][column].mean(),\n",
    "        \"std\": new_data['continuous'][column].std(),\n",
    "    }\n"
   ]
  },
  {
   "cell_type": "code",
   "execution_count": null,
   "metadata": {},
   "outputs": [
    {
     "name": "stdout",
     "output_type": "stream",
     "text": [
      "housing_units_original {'mean': 37.57720588235294, 'std': 91.84181610416991}\n",
      "housing_units_original {'mean': tensor(31.1124), 'std': tensor(90.1668)}\n",
      "total_value_original {'mean': 373244336.6862745, 'std': 444410879.6350971}\n",
      "total_value_original {'mean': tensor(3.5076e+08), 'std': tensor(4.5121e+08)}\n"
     ]
    }
   ],
   "source": [
    "# these seem realistic\n",
    "\n",
    "old_standardization_dict = ct_dataset_read.standardization_dictionary   \n",
    "\n",
    "for key in new_standardization_dict:\n",
    "    print(key, old_standardization_dict[key[:-len('_original')]])\n",
    "    print(key, new_standardization_dict[key])\n"
   ]
  },
  {
   "cell_type": "code",
   "execution_count": null,
   "metadata": {},
   "outputs": [],
   "source": [
    "\n",
    "pg_census_tracts_dataset = ZoningDataset(\n",
    "    new_data['categorical'], new_data['continuous'], standardization_dictionary=new_standardization_dict\n",
    ")\n",
    "\n",
    "\n",
    "assert \"parcel_sqm\" in new_data['continuous'].keys()\n",
    "\n",
    "pg_census_tracts_loader = DataLoader(pg_census_tracts_dataset, batch_size=len(pg_census_tracts_dataset), shuffle=True)\n",
    "\n",
    "pg_census_tracts_data_path = os.path.join(\n",
    "    root, \"data/minneapolis/processed/pg_census_tracts_dataset.pt\"\n",
    ")\n",
    "\n",
    "torch.save(pg_census_tracts_dataset, pg_census_tracts_data_path)"
   ]
  }
 ],
 "metadata": {
  "kernelspec": {
   "display_name": "polis-dev",
   "language": "python",
   "name": "python3"
  },
  "language_info": {
   "codemirror_mode": {
    "name": "ipython",
    "version": 3
   },
   "file_extension": ".py",
   "mimetype": "text/x-python",
   "name": "python",
   "nbconvert_exporter": "python",
   "pygments_lexer": "ipython3",
   "version": "3.10.13"
  }
 },
 "nbformat": 4,
 "nbformat_minor": 2
}
