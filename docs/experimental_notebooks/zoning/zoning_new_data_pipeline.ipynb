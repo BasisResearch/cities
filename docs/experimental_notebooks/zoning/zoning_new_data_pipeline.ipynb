{
 "cells": [
  {
   "cell_type": "code",
   "execution_count": 1,
   "metadata": {},
   "outputs": [],
   "source": [
    "import copy\n",
    "import os\n",
    "import time\n",
    "import sqlalchemy\n",
    "import dill\n",
    "import matplotlib.pyplot as plt\n",
    "import numpy as np\n",
    "import pandas as pd\n",
    "import pyro\n",
    "import seaborn as sns\n",
    "import torch\n",
    "from chirho.counterfactual.handlers import MultiWorldCounterfactual\n",
    "from chirho.indexed.ops import IndexSet, gather\n",
    "from chirho.interventional.handlers import do\n",
    "from pyro.infer import Predictive\n",
    "from torch.utils.data import DataLoader\n",
    "\n",
    "from dotenv import load_dotenv\n",
    "\n",
    "from cities.modeling.evaluation import prep_data_for_test, test_performance\n",
    "from cities.modeling.svi_inference import run_svi_inference\n",
    "\n",
    "from cities.modeling.zoning_models.zoning_tracts_model import TractsModel\n",
    "from cities.utils.data_loader import select_from_data, ZoningDataset\n",
    "\n",
    "smoke_test = \"CI\" in os.environ\n",
    "\n",
    "n_steps = 10 if smoke_test else 2000\n",
    "num_samples = 10 if smoke_test else 1000\n",
    "\n",
    "from cities.utils.data_grabber import find_repo_root\n",
    "\n",
    "from cities.modeling.svi_inference import run_svi_inference\n",
    "from cities.modeling.zoning_models.zoning_tracts_model import TractsModel\n",
    "from cities.utils.data_loader import select_from_sql\n",
    "\n",
    "\n",
    "root = find_repo_root()"
   ]
  },
  {
   "cell_type": "code",
   "execution_count": 2,
   "metadata": {},
   "outputs": [
    {
     "name": "stdout",
     "output_type": "stream",
     "text": [
      "postgres 34.123.100.76 cities VA.TlSR#Z%mu**Q9\n",
      "Data loaded in 9.413989067077637 seconds\n"
     ]
    }
   ],
   "source": [
    "load_dotenv()\n",
    "load_dotenv(os.path.expanduser(\"~/.env_pw\"))\n",
    "\n",
    "DB_USERNAME = os.getenv(\"DB_USERNAME\")\n",
    "HOST = os.getenv(\"HOST\")\n",
    "DATABASE = os.getenv(\"DATABASE\")\n",
    "PASSWORD = os.getenv(\"PASSWORD\")\n",
    "\n",
    "print(DB_USERNAME, HOST, DATABASE, PASSWORD)\n",
    "\n",
    "\n",
    "\n",
    "new_kwargs = {\n",
    "    \"categorical\": [\"year\", \"census_tract\"],\n",
    "    \"continuous\": {\n",
    "        \"housing_units\",\n",
    "        \"housing_units_original\",\n",
    "        \"total_value\",\n",
    "        \"total_value_original\",\n",
    "        \"median_value\",\n",
    "        \"mean_limit_original\",\n",
    "        \"median_distance\",\n",
    "        \"income\",\n",
    "        \"segregation_original\",\n",
    "        \"white_original\",\n",
    "        \"parcel_sqm\",\n",
    "        'downtown_overlap',\n",
    "        'downtown_overlap_original',\n",
    "        'university_overlap',\n",
    "        'university_overlap_original'\n",
    "    },\n",
    "    \"outcome\": \"housing_units\",\n",
    "}\n",
    "\n",
    "load_start = time.time()\n",
    "with sqlalchemy.create_engine(\n",
    "    f\"postgresql://{DB_USERNAME}:{PASSWORD}@{HOST}/{DATABASE}\"\n",
    ").connect() as conn:\n",
    "    subset = select_from_sql(\n",
    "        \"select * from dev.tracts_model__census_tracts order by census_tract, year\",\n",
    "        conn,\n",
    "        new_kwargs,\n",
    "    )\n",
    "load_end = time.time()\n",
    "print(f\"Data loaded in {load_end - load_start} seconds\")"
   ]
  },
  {
   "cell_type": "code",
   "execution_count": 3,
   "metadata": {},
   "outputs": [
    {
     "data": {
      "image/png": "[encoded data removed]",
      "text/plain": [
       "<Figure size 640x480 with 1 Axes>"
      ]
     },
     "metadata": {},
     "output_type": "display_data"
    },
    {
     "data": {
      "image/png": "[encoded data removed]",
      "text/plain": [
       "<Figure size 640x480 with 1 Axes>"
      ]
     },
     "metadata": {},
     "output_type": "display_data"
    }
   ],
   "source": [
    "plt.hist(subset['continuous']['downtown_overlap_original'])\n",
    "plt.show()\n",
    "\n",
    "plt.hist(subset['continuous']['university_overlap_original'])\n",
    "plt.show()"
   ]
  },
  {
   "cell_type": "code",
   "execution_count": 4,
   "metadata": {},
   "outputs": [],
   "source": [
    "columns_to_standardize = [\n",
    "    \"housing_units_original\",\n",
    "    \"total_value_original\",\n",
    "    \"university_overlap_original\",\n",
    "    \"downtown_overlap_original\",\n",
    "]\n",
    "\n",
    "new_standardization_dict = {}\n",
    "\n",
    "for column in columns_to_standardize:\n",
    "    new_standardization_dict[column] = {\n",
    "        \"mean\": subset['continuous'][column].mean(),\n",
    "        \"std\": subset['continuous'][column].std(),\n",
    "    }\n"
   ]
  },
  {
   "cell_type": "code",
   "execution_count": 5,
   "metadata": {},
   "outputs": [],
   "source": [
    "\n",
    "pg_census_tracts_dataset = ZoningDataset(\n",
    "    subset['categorical'], subset['continuous'], standardization_dictionary=new_standardization_dict\n",
    ")\n",
    "\n",
    "\n",
    "assert \"parcel_sqm\" in subset['continuous'].keys()\n",
    "\n",
    "pg_census_tracts_loader = DataLoader(pg_census_tracts_dataset, batch_size=len(pg_census_tracts_dataset), shuffle=True)\n",
    "\n",
    "pg_census_tracts_data_path = os.path.join(\n",
    "    root, \"data/minneapolis/processed/pg_census_tracts_dataset.pt\"\n",
    ")\n",
    "\n",
    "torch.save(pg_census_tracts_dataset, pg_census_tracts_data_path)"
   ]
  }
 ],
 "metadata": {
  "kernelspec": {
   "display_name": "polis-dev",
   "language": "python",
   "name": "python3"
  },
  "language_info": {
   "codemirror_mode": {
    "name": "ipython",
    "version": 3
   },
   "file_extension": ".py",
   "mimetype": "text/x-python",
   "name": "python",
   "nbconvert_exporter": "python",
   "pygments_lexer": "ipython3",
   "version": "3.10.13"
  }
 },
 "nbformat": 4,
 "nbformat_minor": 2
}
