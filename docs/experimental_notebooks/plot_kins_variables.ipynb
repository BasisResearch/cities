{
 "cells": [
  {
   "cell_type": "code",
   "execution_count": 1,
   "metadata": {},
   "outputs": [],
   "source": [
    "import os\n",
    "\n",
    "import numpy as np\n",
    "import pandas as pd\n",
    "import plotly.colors\n",
    "import plotly.graph_objects as go\n",
    "from plotly.subplots import make_subplots\n",
    "\n",
    "from cities.queries.fips_query import FipsQuery\n",
    "from cities.utils.cleaning_utils import find_repo_root, standardize_and_scale\n",
    "from cities.utils.data_grabber import (\n",
    "    DataGrabber,\n",
    "    list_available_features,\n",
    "    list_tensed_features,\n",
    ")\n",
    "from cities.utils.plotting_utils import plot_kins_variable"
   ]
  },
  {
   "cell_type": "code",
   "execution_count": 2,
   "metadata": {},
   "outputs": [
    {
     "data": {
      "application/vnd.plotly.v1+json": {
       "config": {
        "plotlyServerURL": "https://plot.ly"
       },
       "data": [
        {
         "hoverinfo": "name",
         "marker": {
          "color": "rgb(31, 119, 180)"
         },
         "name": "agri_forestry_mining",
         "type": "bar",
         "x": [
          "Tulsa, OK"
         ],
         "xaxis": "x",
         "y": [
          0.0215839697637008
         ],
         "yaxis": "y"
        },
        {
         "hoverinfo": "name",
         "marker": {
          "color": "rgb(255, 127, 14)"
         },
         "name": "construction",
         "type": "bar",
         "x": [
          "Tulsa, OK"
         ],
         "xaxis": "x",
         "y": [
          0.0668228458979525
         ],
         "yaxis": "y"
        },
        {
         "hoverinfo": "name",
         "marker": {
          "color": "rgb(44, 160, 44)"
         },
         "name": "manufacturing",
         "type": "bar",
         "x": [
          "Tulsa, OK"
         ],
         "xaxis": "x",
         "y": [
          0.1138359180996111
         ],
         "yaxis": "y"
        },
        {
         "hoverinfo": "name",
         "marker": {
          "color": "rgb(214, 39, 40)"
         },
         "name": "wholesale_trade",
         "type": "bar",
         "x": [
          "Tulsa, OK"
         ],
         "xaxis": "x",
         "y": [
          0.0283059238782426
         ],
         "yaxis": "y"
        },
        {
         "hoverinfo": "name",
         "marker": {
          "color": "rgb(148, 103, 189)"
         },
         "name": "retail_trade",
         "type": "bar",
         "x": [
          "Tulsa, OK"
         ],
         "xaxis": "x",
         "y": [
          0.1120648456168298
         ],
         "yaxis": "y"
        },
        {
         "hoverinfo": "name",
         "marker": {
          "color": "rgb(140, 86, 75)"
         },
         "name": "transport_utilities",
         "type": "bar",
         "x": [
          "Tulsa, OK"
         ],
         "xaxis": "x",
         "y": [
          0.0602664417685736
         ],
         "yaxis": "y"
        },
        {
         "hoverinfo": "name",
         "marker": {
          "color": "rgb(227, 119, 194)"
         },
         "name": "information",
         "type": "bar",
         "x": [
          "Tulsa, OK"
         ],
         "xaxis": "x",
         "y": [
          0.0233206828155991
         ],
         "yaxis": "y"
        },
        {
         "hoverinfo": "name",
         "marker": {
          "color": "rgb(127, 127, 127)"
         },
         "name": "finance_real_estate",
         "type": "bar",
         "x": [
          "Tulsa, OK"
         ],
         "xaxis": "x",
         "y": [
          0.0654734573396429
         ],
         "yaxis": "y"
        },
        {
         "hoverinfo": "name",
         "marker": {
          "color": "rgb(188, 189, 34)"
         },
         "name": "prof_sci_mgmt_admin",
         "type": "bar",
         "x": [
          "Tulsa, OK"
         ],
         "xaxis": "x",
         "y": [
          0.1089912383451248
         ],
         "yaxis": "y"
        },
        {
         "hoverinfo": "name",
         "marker": {
          "color": "rgb(23, 190, 207)"
         },
         "name": "education_health",
         "type": "bar",
         "x": [
          "Tulsa, OK"
         ],
         "xaxis": "x",
         "y": [
          0.2164456730543972
         ],
         "yaxis": "y"
        },
        {
         "hoverinfo": "name",
         "marker": {
          "color": "rgb(31, 119, 180)"
         },
         "name": "arts_entertainment",
         "type": "bar",
         "x": [
          "Tulsa, OK"
         ],
         "xaxis": "x",
         "y": [
          0.0953130612691124
         ],
         "yaxis": "y"
        },
        {
         "hoverinfo": "name",
         "marker": {
          "color": "rgb(255, 127, 14)"
         },
         "name": "other_services",
         "type": "bar",
         "x": [
          "Tulsa, OK"
         ],
         "xaxis": "x",
         "y": [
          0.0553905261678302
         ],
         "yaxis": "y"
        },
        {
         "hoverinfo": "name",
         "marker": {
          "color": "rgb(44, 160, 44)"
         },
         "name": "public_admin",
         "type": "bar",
         "x": [
          "Tulsa, OK"
         ],
         "xaxis": "x",
         "y": [
          0.0321854159833825
         ],
         "yaxis": "y"
        },
        {
         "hoverinfo": "name",
         "marker": {
          "color": "rgb(31, 119, 180)"
         },
         "name": "agri_forestry_mining",
         "type": "bar",
         "x": [
          "Brown, WI"
         ],
         "xaxis": "x2",
         "y": [
          0.0130065600772442
         ],
         "yaxis": "y2"
        },
        {
         "hoverinfo": "name",
         "marker": {
          "color": "rgb(255, 127, 14)"
         },
         "name": "construction",
         "type": "bar",
         "x": [
          "Brown, WI"
         ],
         "xaxis": "x2",
         "y": [
          0.0586005168545707
         ],
         "yaxis": "y2"
        },
        {
         "hoverinfo": "name",
         "marker": {
          "color": "rgb(44, 160, 44)"
         },
         "name": "manufacturing",
         "type": "bar",
         "x": [
          "Brown, WI"
         ],
         "xaxis": "x2",
         "y": [
          0.1714423650356402
         ],
         "yaxis": "y2"
        },
        {
         "hoverinfo": "name",
         "marker": {
          "color": "rgb(214, 39, 40)"
         },
         "name": "wholesale_trade",
         "type": "bar",
         "x": [
          "Brown, WI"
         ],
         "xaxis": "x2",
         "y": [
          0.0317851361713003
         ],
         "yaxis": "y2"
        },
        {
         "hoverinfo": "name",
         "marker": {
          "color": "rgb(148, 103, 189)"
         },
         "name": "retail_trade",
         "type": "bar",
         "x": [
          "Brown, WI"
         ],
         "xaxis": "x2",
         "y": [
          0.1100232868542867
         ],
         "yaxis": "y2"
        },
        {
         "hoverinfo": "name",
         "marker": {
          "color": "rgb(140, 86, 75)"
         },
         "name": "transport_utilities",
         "type": "bar",
         "x": [
          "Brown, WI"
         ],
         "xaxis": "x2",
         "y": [
          0.0634424786300514
         ],
         "yaxis": "y2"
        },
        {
         "hoverinfo": "name",
         "marker": {
          "color": "rgb(227, 119, 194)"
         },
         "name": "information",
         "type": "bar",
         "x": [
          "Brown, WI"
         ],
         "xaxis": "x2",
         "y": [
          0.0133473433107091
         ],
         "yaxis": "y2"
        },
        {
         "hoverinfo": "name",
         "marker": {
          "color": "rgb(127, 127, 127)"
         },
         "name": "finance_real_estate",
         "type": "bar",
         "x": [
          "Brown, WI"
         ],
         "xaxis": "x2",
         "y": [
          0.0707835174509414
         ],
         "yaxis": "y2"
        },
        {
         "hoverinfo": "name",
         "marker": {
          "color": "rgb(188, 189, 34)"
         },
         "name": "prof_sci_mgmt_admin",
         "type": "bar",
         "x": [
          "Brown, WI"
         ],
         "xaxis": "x2",
         "y": [
          0.0863175531763837
         ],
         "yaxis": "y2"
        },
        {
         "hoverinfo": "name",
         "marker": {
          "color": "rgb(23, 190, 207)"
         },
         "name": "education_health",
         "type": "bar",
         "x": [
          "Brown, WI"
         ],
         "xaxis": "x2",
         "y": [
          0.2194005054951296
         ],
         "yaxis": "y2"
        },
        {
         "hoverinfo": "name",
         "marker": {
          "color": "rgb(31, 119, 180)"
         },
         "name": "arts_entertainment",
         "type": "bar",
         "x": [
          "Brown, WI"
         ],
         "xaxis": "x2",
         "y": [
          0.0895691931956947
         ],
         "yaxis": "y2"
        },
        {
         "hoverinfo": "name",
         "marker": {
          "color": "rgb(255, 127, 14)"
         },
         "name": "other_services",
         "type": "bar",
         "x": [
          "Brown, WI"
         ],
         "xaxis": "x2",
         "y": [
          0.0425624059296282
         ],
         "yaxis": "y2"
        },
        {
         "hoverinfo": "name",
         "marker": {
          "color": "rgb(44, 160, 44)"
         },
         "name": "public_admin",
         "type": "bar",
         "x": [
          "Brown, WI"
         ],
         "xaxis": "x2",
         "y": [
          0.0297191378184193
         ],
         "yaxis": "y2"
        },
        {
         "hoverinfo": "name",
         "marker": {
          "color": "rgb(31, 119, 180)"
         },
         "name": "agri_forestry_mining",
         "type": "bar",
         "x": [
          "Mobile, AL"
         ],
         "xaxis": "x3",
         "y": [
          0.0123065744808873
         ],
         "yaxis": "y3"
        },
        {
         "hoverinfo": "name",
         "marker": {
          "color": "rgb(255, 127, 14)"
         },
         "name": "construction",
         "type": "bar",
         "x": [
          "Mobile, AL"
         ],
         "xaxis": "x3",
         "y": [
          0.0758489152276829
         ],
         "yaxis": "y3"
        },
        {
         "hoverinfo": "name",
         "marker": {
          "color": "rgb(44, 160, 44)"
         },
         "name": "manufacturing",
         "type": "bar",
         "x": [
          "Mobile, AL"
         ],
         "xaxis": "x3",
         "y": [
          0.1217260992473008
         ],
         "yaxis": "y3"
        },
        {
         "hoverinfo": "name",
         "marker": {
          "color": "rgb(214, 39, 40)"
         },
         "name": "wholesale_trade",
         "type": "bar",
         "x": [
          "Mobile, AL"
         ],
         "xaxis": "x3",
         "y": [
          0.0253113540637807
         ],
         "yaxis": "y3"
        },
        {
         "hoverinfo": "name",
         "marker": {
          "color": "rgb(148, 103, 189)"
         },
         "name": "retail_trade",
         "type": "bar",
         "x": [
          "Mobile, AL"
         ],
         "xaxis": "x3",
         "y": [
          0.1133703438802039
         ],
         "yaxis": "y3"
        },
        {
         "hoverinfo": "name",
         "marker": {
          "color": "rgb(140, 86, 75)"
         },
         "name": "transport_utilities",
         "type": "bar",
         "x": [
          "Mobile, AL"
         ],
         "xaxis": "x3",
         "y": [
          0.0628838708944972
         ],
         "yaxis": "y3"
        },
        {
         "hoverinfo": "name",
         "marker": {
          "color": "rgb(227, 119, 194)"
         },
         "name": "information",
         "type": "bar",
         "x": [
          "Mobile, AL"
         ],
         "xaxis": "x3",
         "y": [
          0.0163709228795567
         ],
         "yaxis": "y3"
        },
        {
         "hoverinfo": "name",
         "marker": {
          "color": "rgb(127, 127, 127)"
         },
         "name": "finance_real_estate",
         "type": "bar",
         "x": [
          "Mobile, AL"
         ],
         "xaxis": "x3",
         "y": [
          0.057383377042108
         ],
         "yaxis": "y3"
        },
        {
         "hoverinfo": "name",
         "marker": {
          "color": "rgb(188, 189, 34)"
         },
         "name": "prof_sci_mgmt_admin",
         "type": "bar",
         "x": [
          "Mobile, AL"
         ],
         "xaxis": "x3",
         "y": [
          0.0941157771647196
         ],
         "yaxis": "y3"
        },
        {
         "hoverinfo": "name",
         "marker": {
          "color": "rgb(23, 190, 207)"
         },
         "name": "education_health",
         "type": "bar",
         "x": [
          "Mobile, AL"
         ],
         "xaxis": "x3",
         "y": [
          0.2316110940817183
         ],
         "yaxis": "y3"
        },
        {
         "hoverinfo": "name",
         "marker": {
          "color": "rgb(31, 119, 180)"
         },
         "name": "arts_entertainment",
         "type": "bar",
         "x": [
          "Mobile, AL"
         ],
         "xaxis": "x3",
         "y": [
          0.0936503070967156
         ],
         "yaxis": "y3"
        },
        {
         "hoverinfo": "name",
         "marker": {
          "color": "rgb(255, 127, 14)"
         },
         "name": "other_services",
         "type": "bar",
         "x": [
          "Mobile, AL"
         ],
         "xaxis": "x3",
         "y": [
          0.0542499687794466
         ],
         "yaxis": "y3"
        },
        {
         "hoverinfo": "name",
         "marker": {
          "color": "rgb(44, 160, 44)"
         },
         "name": "public_admin",
         "type": "bar",
         "x": [
          "Mobile, AL"
         ],
         "xaxis": "x3",
         "y": [
          0.0411713951613818
         ],
         "yaxis": "y3"
        },
        {
         "hoverinfo": "name",
         "marker": {
          "color": "rgb(31, 119, 180)"
         },
         "name": "agri_forestry_mining",
         "type": "bar",
         "x": [
          "Lebanon, PA"
         ],
         "xaxis": "x4",
         "y": [
          0.0207793348855599
         ],
         "yaxis": "y4"
        },
        {
         "hoverinfo": "name",
         "marker": {
          "color": "rgb(255, 127, 14)"
         },
         "name": "construction",
         "type": "bar",
         "x": [
          "Lebanon, PA"
         ],
         "xaxis": "x4",
         "y": [
          0.0659696290764251
         ],
         "yaxis": "y4"
        },
        {
         "hoverinfo": "name",
         "marker": {
          "color": "rgb(44, 160, 44)"
         },
         "name": "manufacturing",
         "type": "bar",
         "x": [
          "Lebanon, PA"
         ],
         "xaxis": "x4",
         "y": [
          0.1460703773667794
         ],
         "yaxis": "y4"
        },
        {
         "hoverinfo": "name",
         "marker": {
          "color": "rgb(214, 39, 40)"
         },
         "name": "wholesale_trade",
         "type": "bar",
         "x": [
          "Lebanon, PA"
         ],
         "xaxis": "x4",
         "y": [
          0.0363016005506011
         ],
         "yaxis": "y4"
        },
        {
         "hoverinfo": "name",
         "marker": {
          "color": "rgb(148, 103, 189)"
         },
         "name": "retail_trade",
         "type": "bar",
         "x": [
          "Lebanon, PA"
         ],
         "xaxis": "x4",
         "y": [
          0.1196239511487941
         ],
         "yaxis": "y4"
        },
        {
         "hoverinfo": "name",
         "marker": {
          "color": "rgb(140, 86, 75)"
         },
         "name": "transport_utilities",
         "type": "bar",
         "x": [
          "Lebanon, PA"
         ],
         "xaxis": "x4",
         "y": [
          0.0621329936007263
         ],
         "yaxis": "y4"
        },
        {
         "hoverinfo": "name",
         "marker": {
          "color": "rgb(227, 119, 194)"
         },
         "name": "information",
         "type": "bar",
         "x": [
          "Lebanon, PA"
         ],
         "xaxis": "x4",
         "y": [
          0.0146436468538124
         ],
         "yaxis": "y4"
        },
        {
         "hoverinfo": "name",
         "marker": {
          "color": "rgb(127, 127, 127)"
         },
         "name": "finance_real_estate",
         "type": "bar",
         "x": [
          "Lebanon, PA"
         ],
         "xaxis": "x4",
         "y": [
          0.0408704183689906
         ],
         "yaxis": "y4"
        },
        {
         "hoverinfo": "name",
         "marker": {
          "color": "rgb(188, 189, 34)"
         },
         "name": "prof_sci_mgmt_admin",
         "type": "bar",
         "x": [
          "Lebanon, PA"
         ],
         "xaxis": "x4",
         "y": [
          0.0767766404545388
         ],
         "yaxis": "y4"
        },
        {
         "hoverinfo": "name",
         "marker": {
          "color": "rgb(23, 190, 207)"
         },
         "name": "education_health",
         "type": "bar",
         "x": [
          "Lebanon, PA"
         ],
         "xaxis": "x4",
         "y": [
          0.2405951178081389
         ],
         "yaxis": "y4"
        },
        {
         "hoverinfo": "name",
         "marker": {
          "color": "rgb(31, 119, 180)"
         },
         "name": "arts_entertainment",
         "type": "bar",
         "x": [
          "Lebanon, PA"
         ],
         "xaxis": "x4",
         "y": [
          0.0892823148676946
         ],
         "yaxis": "y4"
        },
        {
         "hoverinfo": "name",
         "marker": {
          "color": "rgb(255, 127, 14)"
         },
         "name": "other_services",
         "type": "bar",
         "x": [
          "Lebanon, PA"
         ],
         "xaxis": "x4",
         "y": [
          0.0487047694357802
         ],
         "yaxis": "y4"
        },
        {
         "hoverinfo": "name",
         "marker": {
          "color": "rgb(44, 160, 44)"
         },
         "name": "public_admin",
         "type": "bar",
         "x": [
          "Lebanon, PA"
         ],
         "xaxis": "x4",
         "y": [
          0.0382492055821581
         ],
         "yaxis": "y4"
        },
        {
         "hoverinfo": "name",
         "marker": {
          "color": "rgb(31, 119, 180)"
         },
         "name": "agri_forestry_mining",
         "type": "bar",
         "x": [
          "Clackamas, OR"
         ],
         "xaxis": "x5",
         "y": [
          0.0198006825143323
         ],
         "yaxis": "y5"
        },
        {
         "hoverinfo": "name",
         "marker": {
          "color": "rgb(255, 127, 14)"
         },
         "name": "construction",
         "type": "bar",
         "x": [
          "Clackamas, OR"
         ],
         "xaxis": "x5",
         "y": [
          0.0861249593452522
         ],
         "yaxis": "y5"
        },
        {
         "hoverinfo": "name",
         "marker": {
          "color": "rgb(44, 160, 44)"
         },
         "name": "manufacturing",
         "type": "bar",
         "x": [
          "Clackamas, OR"
         ],
         "xaxis": "x5",
         "y": [
          0.1086925918554584
         ],
         "yaxis": "y5"
        },
        {
         "hoverinfo": "name",
         "marker": {
          "color": "rgb(214, 39, 40)"
         },
         "name": "wholesale_trade",
         "type": "bar",
         "x": [
          "Clackamas, OR"
         ],
         "xaxis": "x5",
         "y": [
          0.036281025033616
         ],
         "yaxis": "y5"
        },
        {
         "hoverinfo": "name",
         "marker": {
          "color": "rgb(148, 103, 189)"
         },
         "name": "retail_trade",
         "type": "bar",
         "x": [
          "Clackamas, OR"
         ],
         "xaxis": "x5",
         "y": [
          0.1127070964985946
         ],
         "yaxis": "y5"
        },
        {
         "hoverinfo": "name",
         "marker": {
          "color": "rgb(140, 86, 75)"
         },
         "name": "transport_utilities",
         "type": "bar",
         "x": [
          "Clackamas, OR"
         ],
         "xaxis": "x5",
         "y": [
          0.0531448571137313
         ],
         "yaxis": "y5"
        },
        {
         "hoverinfo": "name",
         "marker": {
          "color": "rgb(227, 119, 194)"
         },
         "name": "information",
         "type": "bar",
         "x": [
          "Clackamas, OR"
         ],
         "xaxis": "x5",
         "y": [
          0.0145920205045557
         ],
         "yaxis": "y5"
        },
        {
         "hoverinfo": "name",
         "marker": {
          "color": "rgb(127, 127, 127)"
         },
         "name": "finance_real_estate",
         "type": "bar",
         "x": [
          "Clackamas, OR"
         ],
         "xaxis": "x5",
         "y": [
          0.0681786187579792
         ],
         "yaxis": "y5"
        },
        {
         "hoverinfo": "name",
         "marker": {
          "color": "rgb(188, 189, 34)"
         },
         "name": "prof_sci_mgmt_admin",
         "type": "bar",
         "x": [
          "Clackamas, OR"
         ],
         "xaxis": "x5",
         "y": [
          0.1186439032441275
         ],
         "yaxis": "y5"
        },
        {
         "hoverinfo": "name",
         "marker": {
          "color": "rgb(23, 190, 207)"
         },
         "name": "education_health",
         "type": "bar",
         "x": [
          "Clackamas, OR"
         ],
         "xaxis": "x5",
         "y": [
          0.2240938238763513
         ],
         "yaxis": "y5"
        },
        {
         "hoverinfo": "name",
         "marker": {
          "color": "rgb(31, 119, 180)"
         },
         "name": "arts_entertainment",
         "type": "bar",
         "x": [
          "Clackamas, OR"
         ],
         "xaxis": "x5",
         "y": [
          0.0688679291078285
         ],
         "yaxis": "y5"
        },
        {
         "hoverinfo": "name",
         "marker": {
          "color": "rgb(255, 127, 14)"
         },
         "name": "other_services",
         "type": "bar",
         "x": [
          "Clackamas, OR"
         ],
         "xaxis": "x5",
         "y": [
          0.049402193171944
         ],
         "yaxis": "y5"
        },
        {
         "hoverinfo": "name",
         "marker": {
          "color": "rgb(44, 160, 44)"
         },
         "name": "public_admin",
         "type": "bar",
         "x": [
          "Clackamas, OR"
         ],
         "xaxis": "x5",
         "y": [
          0.0394702989762285
         ],
         "yaxis": "y5"
        },
        {
         "hoverinfo": "name",
         "marker": {
          "color": "rgb(31, 119, 180)"
         },
         "name": "agri_forestry_mining",
         "type": "bar",
         "x": [
          "Hamilton, TN"
         ],
         "xaxis": "x6",
         "y": [
          0.0039488550557649
         ],
         "yaxis": "y6"
        },
        {
         "hoverinfo": "name",
         "marker": {
          "color": "rgb(255, 127, 14)"
         },
         "name": "construction",
         "type": "bar",
         "x": [
          "Hamilton, TN"
         ],
         "xaxis": "x6",
         "y": [
          0.0612967458302104
         ],
         "yaxis": "y6"
        },
        {
         "hoverinfo": "name",
         "marker": {
          "color": "rgb(44, 160, 44)"
         },
         "name": "manufacturing",
         "type": "bar",
         "x": [
          "Hamilton, TN"
         ],
         "xaxis": "x6",
         "y": [
          0.1320685064826104
         ],
         "yaxis": "y6"
        },
        {
         "hoverinfo": "name",
         "marker": {
          "color": "rgb(214, 39, 40)"
         },
         "name": "wholesale_trade",
         "type": "bar",
         "x": [
          "Hamilton, TN"
         ],
         "xaxis": "x6",
         "y": [
          0.0223171836720996
         ],
         "yaxis": "y6"
        },
        {
         "hoverinfo": "name",
         "marker": {
          "color": "rgb(148, 103, 189)"
         },
         "name": "retail_trade",
         "type": "bar",
         "x": [
          "Hamilton, TN"
         ],
         "xaxis": "x6",
         "y": [
          0.104711778327162
         ],
         "yaxis": "y6"
        },
        {
         "hoverinfo": "name",
         "marker": {
          "color": "rgb(140, 86, 75)"
         },
         "name": "transport_utilities",
         "type": "bar",
         "x": [
          "Hamilton, TN"
         ],
         "xaxis": "x6",
         "y": [
          0.0696027653171948
         ],
         "yaxis": "y6"
        },
        {
         "hoverinfo": "name",
         "marker": {
          "color": "rgb(227, 119, 194)"
         },
         "name": "information",
         "type": "bar",
         "x": [
          "Hamilton, TN"
         ],
         "xaxis": "x6",
         "y": [
          0.0128869150828364
         ],
         "yaxis": "y6"
        },
        {
         "hoverinfo": "name",
         "marker": {
          "color": "rgb(127, 127, 127)"
         },
         "name": "finance_real_estate",
         "type": "bar",
         "x": [
          "Hamilton, TN"
         ],
         "xaxis": "x6",
         "y": [
          0.0915619791258823
         ],
         "yaxis": "y6"
        },
        {
         "hoverinfo": "name",
         "marker": {
          "color": "rgb(188, 189, 34)"
         },
         "name": "prof_sci_mgmt_admin",
         "type": "bar",
         "x": [
          "Hamilton, TN"
         ],
         "xaxis": "x6",
         "y": [
          0.0982347611110489
         ],
         "yaxis": "y6"
        },
        {
         "hoverinfo": "name",
         "marker": {
          "color": "rgb(23, 190, 207)"
         },
         "name": "education_health",
         "type": "bar",
         "x": [
          "Hamilton, TN"
         ],
         "xaxis": "x6",
         "y": [
          0.2252972827850055
         ],
         "yaxis": "y6"
        },
        {
         "hoverinfo": "name",
         "marker": {
          "color": "rgb(31, 119, 180)"
         },
         "name": "arts_entertainment",
         "type": "bar",
         "x": [
          "Hamilton, TN"
         ],
         "xaxis": "x6",
         "y": [
          0.0969986464264539
         ],
         "yaxis": "y6"
        },
        {
         "hoverinfo": "name",
         "marker": {
          "color": "rgb(255, 127, 14)"
         },
         "name": "other_services",
         "type": "bar",
         "x": [
          "Hamilton, TN"
         ],
         "xaxis": "x6",
         "y": [
          0.0509212130703746
         ],
         "yaxis": "y6"
        },
        {
         "hoverinfo": "name",
         "marker": {
          "color": "rgb(44, 160, 44)"
         },
         "name": "public_admin",
         "type": "bar",
         "x": [
          "Hamilton, TN"
         ],
         "xaxis": "x6",
         "y": [
          0.0301533677133556
         ],
         "yaxis": "y6"
        },
        {
         "hoverinfo": "name",
         "marker": {
          "color": "rgb(31, 119, 180)"
         },
         "name": "agri_forestry_mining",
         "type": "bar",
         "x": [
          "Berks, PA"
         ],
         "xaxis": "x7",
         "y": [
          0.0190341371031765
         ],
         "yaxis": "y7"
        },
        {
         "hoverinfo": "name",
         "marker": {
          "color": "rgb(255, 127, 14)"
         },
         "name": "construction",
         "type": "bar",
         "x": [
          "Berks, PA"
         ],
         "xaxis": "x7",
         "y": [
          0.0577576064811715
         ],
         "yaxis": "y7"
        },
        {
         "hoverinfo": "name",
         "marker": {
          "color": "rgb(44, 160, 44)"
         },
         "name": "manufacturing",
         "type": "bar",
         "x": [
          "Berks, PA"
         ],
         "xaxis": "x7",
         "y": [
          0.1809582109824101
         ],
         "yaxis": "y7"
        },
        {
         "hoverinfo": "name",
         "marker": {
          "color": "rgb(214, 39, 40)"
         },
         "name": "wholesale_trade",
         "type": "bar",
         "x": [
          "Berks, PA"
         ],
         "xaxis": "x7",
         "y": [
          0.0270973419162306
         ],
         "yaxis": "y7"
        },
        {
         "hoverinfo": "name",
         "marker": {
          "color": "rgb(148, 103, 189)"
         },
         "name": "retail_trade",
         "type": "bar",
         "x": [
          "Berks, PA"
         ],
         "xaxis": "x7",
         "y": [
          0.116839950645152
         ],
         "yaxis": "y7"
        },
        {
         "hoverinfo": "name",
         "marker": {
          "color": "rgb(140, 86, 75)"
         },
         "name": "transport_utilities",
         "type": "bar",
         "x": [
          "Berks, PA"
         ],
         "xaxis": "x7",
         "y": [
          0.060158394628356
         ],
         "yaxis": "y7"
        },
        {
         "hoverinfo": "name",
         "marker": {
          "color": "rgb(227, 119, 194)"
         },
         "name": "information",
         "type": "bar",
         "x": [
          "Berks, PA"
         ],
         "xaxis": "x7",
         "y": [
          0.0137638810509904
         ],
         "yaxis": "y7"
        },
        {
         "hoverinfo": "name",
         "marker": {
          "color": "rgb(127, 127, 127)"
         },
         "name": "finance_real_estate",
         "type": "bar",
         "x": [
          "Berks, PA"
         ],
         "xaxis": "x7",
         "y": [
          0.0546633635902782
         ],
         "yaxis": "y7"
        },
        {
         "hoverinfo": "name",
         "marker": {
          "color": "rgb(188, 189, 34)"
         },
         "name": "prof_sci_mgmt_admin",
         "type": "bar",
         "x": [
          "Berks, PA"
         ],
         "xaxis": "x7",
         "y": [
          0.0941759366421486
         ],
         "yaxis": "y7"
        },
        {
         "hoverinfo": "name",
         "marker": {
          "color": "rgb(23, 190, 207)"
         },
         "name": "education_health",
         "type": "bar",
         "x": [
          "Berks, PA"
         ],
         "xaxis": "x7",
         "y": [
          0.2292561382700934
         ],
         "yaxis": "y7"
        },
        {
         "hoverinfo": "name",
         "marker": {
          "color": "rgb(31, 119, 180)"
         },
         "name": "arts_entertainment",
         "type": "bar",
         "x": [
          "Berks, PA"
         ],
         "xaxis": "x7",
         "y": [
          0.0733053400797712
         ],
         "yaxis": "y7"
        },
        {
         "hoverinfo": "name",
         "marker": {
          "color": "rgb(255, 127, 14)"
         },
         "name": "other_services",
         "type": "bar",
         "x": [
          "Berks, PA"
         ],
         "xaxis": "x7",
         "y": [
          0.0468010215305741
         ],
         "yaxis": "y7"
        },
        {
         "hoverinfo": "name",
         "marker": {
          "color": "rgb(44, 160, 44)"
         },
         "name": "public_admin",
         "type": "bar",
         "x": [
          "Berks, PA"
         ],
         "xaxis": "x7",
         "y": [
          0.0261886770796468
         ],
         "yaxis": "y7"
        },
        {
         "hoverinfo": "name",
         "marker": {
          "color": "rgb(31, 119, 180)"
         },
         "name": "agri_forestry_mining",
         "type": "bar",
         "x": [
          "Butler, PA"
         ],
         "xaxis": "x8",
         "y": [
          0.0130910227036034
         ],
         "yaxis": "y8"
        },
        {
         "hoverinfo": "name",
         "marker": {
          "color": "rgb(255, 127, 14)"
         },
         "name": "construction",
         "type": "bar",
         "x": [
          "Butler, PA"
         ],
         "xaxis": "x8",
         "y": [
          0.0737867111018537
         ],
         "yaxis": "y8"
        },
        {
         "hoverinfo": "name",
         "marker": {
          "color": "rgb(44, 160, 44)"
         },
         "name": "manufacturing",
         "type": "bar",
         "x": [
          "Butler, PA"
         ],
         "xaxis": "x8",
         "y": [
          0.1294521974588627
         ],
         "yaxis": "y8"
        },
        {
         "hoverinfo": "name",
         "marker": {
          "color": "rgb(214, 39, 40)"
         },
         "name": "wholesale_trade",
         "type": "bar",
         "x": [
          "Butler, PA"
         ],
         "xaxis": "x8",
         "y": [
          0.0268277442199541
         ],
         "yaxis": "y8"
        },
        {
         "hoverinfo": "name",
         "marker": {
          "color": "rgb(148, 103, 189)"
         },
         "name": "retail_trade",
         "type": "bar",
         "x": [
          "Butler, PA"
         ],
         "xaxis": "x8",
         "y": [
          0.1174755259320974
         ],
         "yaxis": "y8"
        },
        {
         "hoverinfo": "name",
         "marker": {
          "color": "rgb(140, 86, 75)"
         },
         "name": "transport_utilities",
         "type": "bar",
         "x": [
          "Butler, PA"
         ],
         "xaxis": "x8",
         "y": [
          0.0603103520099979
         ],
         "yaxis": "y8"
        },
        {
         "hoverinfo": "name",
         "marker": {
          "color": "rgb(227, 119, 194)"
         },
         "name": "information",
         "type": "bar",
         "x": [
          "Butler, PA"
         ],
         "xaxis": "x8",
         "y": [
          0.0182149552176629
         ],
         "yaxis": "y8"
        },
        {
         "hoverinfo": "name",
         "marker": {
          "color": "rgb(127, 127, 127)"
         },
         "name": "finance_real_estate",
         "type": "bar",
         "x": [
          "Butler, PA"
         ],
         "xaxis": "x8",
         "y": [
          0.0658092064153301
         ],
         "yaxis": "y8"
        },
        {
         "hoverinfo": "name",
         "marker": {
          "color": "rgb(188, 189, 34)"
         },
         "name": "prof_sci_mgmt_admin",
         "type": "bar",
         "x": [
          "Butler, PA"
         ],
         "xaxis": "x8",
         "y": [
          0.1041345553009789
         ],
         "yaxis": "y8"
        },
        {
         "hoverinfo": "name",
         "marker": {
          "color": "rgb(23, 190, 207)"
         },
         "name": "education_health",
         "type": "bar",
         "x": [
          "Butler, PA"
         ],
         "xaxis": "x8",
         "y": [
          0.2406581962091231
         ],
         "yaxis": "y8"
        },
        {
         "hoverinfo": "name",
         "marker": {
          "color": "rgb(31, 119, 180)"
         },
         "name": "arts_entertainment",
         "type": "bar",
         "x": [
          "Butler, PA"
         ],
         "xaxis": "x8",
         "y": [
          0.0696521558008748
         ],
         "yaxis": "y8"
        },
        {
         "hoverinfo": "name",
         "marker": {
          "color": "rgb(255, 127, 14)"
         },
         "name": "other_services",
         "type": "bar",
         "x": [
          "Butler, PA"
         ],
         "xaxis": "x8",
         "y": [
          0.0464903145178087
         ],
         "yaxis": "y8"
        },
        {
         "hoverinfo": "name",
         "marker": {
          "color": "rgb(44, 160, 44)"
         },
         "name": "public_admin",
         "type": "bar",
         "x": [
          "Butler, PA"
         ],
         "xaxis": "x8",
         "y": [
          0.0340970631118517
         ],
         "yaxis": "y8"
        },
        {
         "hoverinfo": "name",
         "marker": {
          "color": "rgb(31, 119, 180)"
         },
         "name": "agri_forestry_mining",
         "type": "bar",
         "x": [
          "Anoka, MN"
         ],
         "xaxis": "x9",
         "y": [
          0.0055917506203025
         ],
         "yaxis": "y9"
        },
        {
         "hoverinfo": "name",
         "marker": {
          "color": "rgb(255, 127, 14)"
         },
         "name": "construction",
         "type": "bar",
         "x": [
          "Anoka, MN"
         ],
         "xaxis": "x9",
         "y": [
          0.0717848723543643
         ],
         "yaxis": "y9"
        },
        {
         "hoverinfo": "name",
         "marker": {
          "color": "rgb(44, 160, 44)"
         },
         "name": "manufacturing",
         "type": "bar",
         "x": [
          "Anoka, MN"
         ],
         "xaxis": "x9",
         "y": [
          0.1620730744827372
         ],
         "yaxis": "y9"
        },
        {
         "hoverinfo": "name",
         "marker": {
          "color": "rgb(214, 39, 40)"
         },
         "name": "wholesale_trade",
         "type": "bar",
         "x": [
          "Anoka, MN"
         ],
         "xaxis": "x9",
         "y": [
          0.0272933141439308
         ],
         "yaxis": "y9"
        },
        {
         "hoverinfo": "name",
         "marker": {
          "color": "rgb(148, 103, 189)"
         },
         "name": "retail_trade",
         "type": "bar",
         "x": [
          "Anoka, MN"
         ],
         "xaxis": "x9",
         "y": [
          0.1154923474519878
         ],
         "yaxis": "y9"
        },
        {
         "hoverinfo": "name",
         "marker": {
          "color": "rgb(140, 86, 75)"
         },
         "name": "transport_utilities",
         "type": "bar",
         "x": [
          "Anoka, MN"
         ],
         "xaxis": "x9",
         "y": [
          0.0599359321561769
         ],
         "yaxis": "y9"
        },
        {
         "hoverinfo": "name",
         "marker": {
          "color": "rgb(227, 119, 194)"
         },
         "name": "information",
         "type": "bar",
         "x": [
          "Anoka, MN"
         ],
         "xaxis": "x9",
         "y": [
          0.0124524778573897
         ],
         "yaxis": "y9"
        },
        {
         "hoverinfo": "name",
         "marker": {
          "color": "rgb(127, 127, 127)"
         },
         "name": "finance_real_estate",
         "type": "bar",
         "x": [
          "Anoka, MN"
         ],
         "xaxis": "x9",
         "y": [
          0.070846035995605
         ],
         "yaxis": "y9"
        },
        {
         "hoverinfo": "name",
         "marker": {
          "color": "rgb(188, 189, 34)"
         },
         "name": "prof_sci_mgmt_admin",
         "type": "bar",
         "x": [
          "Anoka, MN"
         ],
         "xaxis": "x9",
         "y": [
          0.0980877657242194
         ],
         "yaxis": "y9"
        },
        {
         "hoverinfo": "name",
         "marker": {
          "color": "rgb(23, 190, 207)"
         },
         "name": "education_health",
         "type": "bar",
         "x": [
          "Anoka, MN"
         ],
         "xaxis": "x9",
         "y": [
          0.2200694326230159
         ],
         "yaxis": "y9"
        },
        {
         "hoverinfo": "name",
         "marker": {
          "color": "rgb(31, 119, 180)"
         },
         "name": "arts_entertainment",
         "type": "bar",
         "x": [
          "Anoka, MN"
         ],
         "xaxis": "x9",
         "y": [
          0.0698504567799976
         ],
         "yaxis": "y9"
        },
        {
         "hoverinfo": "name",
         "marker": {
          "color": "rgb(255, 127, 14)"
         },
         "name": "other_services",
         "type": "bar",
         "x": [
          "Anoka, MN"
         ],
         "xaxis": "x9",
         "y": [
          0.0463279633956988
         ],
         "yaxis": "y9"
        },
        {
         "hoverinfo": "name",
         "marker": {
          "color": "rgb(44, 160, 44)"
         },
         "name": "public_admin",
         "type": "bar",
         "x": [
          "Anoka, MN"
         ],
         "xaxis": "x9",
         "y": [
          0.0401945764145736
         ],
         "yaxis": "y9"
        },
        {
         "hoverinfo": "name",
         "marker": {
          "color": "rgb(31, 119, 180)"
         },
         "name": "agri_forestry_mining",
         "type": "bar",
         "x": [
          "Will, IL"
         ],
         "xaxis": "x10",
         "y": [
          0.0042529061525375
         ],
         "yaxis": "y10"
        },
        {
         "hoverinfo": "name",
         "marker": {
          "color": "rgb(255, 127, 14)"
         },
         "name": "construction",
         "type": "bar",
         "x": [
          "Will, IL"
         ],
         "xaxis": "x10",
         "y": [
          0.0663846367625137
         ],
         "yaxis": "y10"
        },
        {
         "hoverinfo": "name",
         "marker": {
          "color": "rgb(44, 160, 44)"
         },
         "name": "manufacturing",
         "type": "bar",
         "x": [
          "Will, IL"
         ],
         "xaxis": "x10",
         "y": [
          0.1109910253854985
         ],
         "yaxis": "y10"
        },
        {
         "hoverinfo": "name",
         "marker": {
          "color": "rgb(214, 39, 40)"
         },
         "name": "wholesale_trade",
         "type": "bar",
         "x": [
          "Will, IL"
         ],
         "xaxis": "x10",
         "y": [
          0.0327347449800267
         ],
         "yaxis": "y10"
        },
        {
         "hoverinfo": "name",
         "marker": {
          "color": "rgb(148, 103, 189)"
         },
         "name": "retail_trade",
         "type": "bar",
         "x": [
          "Will, IL"
         ],
         "xaxis": "x10",
         "y": [
          0.1138262961538569
         ],
         "yaxis": "y10"
        },
        {
         "hoverinfo": "name",
         "marker": {
          "color": "rgb(140, 86, 75)"
         },
         "name": "transport_utilities",
         "type": "bar",
         "x": [
          "Will, IL"
         ],
         "xaxis": "x10",
         "y": [
          0.0928312564741021
         ],
         "yaxis": "y10"
        },
        {
         "hoverinfo": "name",
         "marker": {
          "color": "rgb(227, 119, 194)"
         },
         "name": "information",
         "type": "bar",
         "x": [
          "Will, IL"
         ],
         "xaxis": "x10",
         "y": [
          0.0186285711077487
         ],
         "yaxis": "y10"
        },
        {
         "hoverinfo": "name",
         "marker": {
          "color": "rgb(127, 127, 127)"
         },
         "name": "finance_real_estate",
         "type": "bar",
         "x": [
          "Will, IL"
         ],
         "xaxis": "x10",
         "y": [
          0.0681728223857259
         ],
         "yaxis": "y10"
        },
        {
         "hoverinfo": "name",
         "marker": {
          "color": "rgb(188, 189, 34)"
         },
         "name": "prof_sci_mgmt_admin",
         "type": "bar",
         "x": [
          "Will, IL"
         ],
         "xaxis": "x10",
         "y": [
          0.1090063358476477
         ],
         "yaxis": "y10"
        },
        {
         "hoverinfo": "name",
         "marker": {
          "color": "rgb(23, 190, 207)"
         },
         "name": "education_health",
         "type": "bar",
         "x": [
          "Will, IL"
         ],
         "xaxis": "x10",
         "y": [
          0.2194892582538662
         ],
         "yaxis": "y10"
        },
        {
         "hoverinfo": "name",
         "marker": {
          "color": "rgb(31, 119, 180)"
         },
         "name": "arts_entertainment",
         "type": "bar",
         "x": [
          "Will, IL"
         ],
         "xaxis": "x10",
         "y": [
          0.0821526723128791
         ],
         "yaxis": "y10"
        },
        {
         "hoverinfo": "name",
         "marker": {
          "color": "rgb(255, 127, 14)"
         },
         "name": "other_services",
         "type": "bar",
         "x": [
          "Will, IL"
         ],
         "xaxis": "x10",
         "y": [
          0.0425374831217173
         ],
         "yaxis": "y10"
        },
        {
         "hoverinfo": "name",
         "marker": {
          "color": "rgb(44, 160, 44)"
         },
         "name": "public_admin",
         "type": "bar",
         "x": [
          "Will, IL"
         ],
         "xaxis": "x10",
         "y": [
          0.038991991061879
         ],
         "yaxis": "y10"
        },
        {
         "hoverinfo": "name",
         "marker": {
          "color": "rgb(31, 119, 180)"
         },
         "name": "agri_forestry_mining",
         "type": "bar",
         "x": [
          "Clark, WA"
         ],
         "xaxis": "x11",
         "y": [
          0.0084580873073822
         ],
         "yaxis": "y11"
        },
        {
         "hoverinfo": "name",
         "marker": {
          "color": "rgb(255, 127, 14)"
         },
         "name": "construction",
         "type": "bar",
         "x": [
          "Clark, WA"
         ],
         "xaxis": "x11",
         "y": [
          0.0907724968662026
         ],
         "yaxis": "y11"
        },
        {
         "hoverinfo": "name",
         "marker": {
          "color": "rgb(44, 160, 44)"
         },
         "name": "manufacturing",
         "type": "bar",
         "x": [
          "Clark, WA"
         ],
         "xaxis": "x11",
         "y": [
          0.1104827103020685
         ],
         "yaxis": "y11"
        },
        {
         "hoverinfo": "name",
         "marker": {
          "color": "rgb(214, 39, 40)"
         },
         "name": "wholesale_trade",
         "type": "bar",
         "x": [
          "Clark, WA"
         ],
         "xaxis": "x11",
         "y": [
          0.0307597506468073
         ],
         "yaxis": "y11"
        },
        {
         "hoverinfo": "name",
         "marker": {
          "color": "rgb(148, 103, 189)"
         },
         "name": "retail_trade",
         "type": "bar",
         "x": [
          "Clark, WA"
         ],
         "xaxis": "x11",
         "y": [
          0.1095837219804754
         ],
         "yaxis": "y11"
        },
        {
         "hoverinfo": "name",
         "marker": {
          "color": "rgb(140, 86, 75)"
         },
         "name": "transport_utilities",
         "type": "bar",
         "x": [
          "Clark, WA"
         ],
         "xaxis": "x11",
         "y": [
          0.079929769175252
         ],
         "yaxis": "y11"
        },
        {
         "hoverinfo": "name",
         "marker": {
          "color": "rgb(227, 119, 194)"
         },
         "name": "information",
         "type": "bar",
         "x": [
          "Clark, WA"
         ],
         "xaxis": "x11",
         "y": [
          0.0148354176075092
         ],
         "yaxis": "y11"
        },
        {
         "hoverinfo": "name",
         "marker": {
          "color": "rgb(127, 127, 127)"
         },
         "name": "finance_real_estate",
         "type": "bar",
         "x": [
          "Clark, WA"
         ],
         "xaxis": "x11",
         "y": [
          0.0575436937868511
         ],
         "yaxis": "y11"
        },
        {
         "hoverinfo": "name",
         "marker": {
          "color": "rgb(188, 189, 34)"
         },
         "name": "prof_sci_mgmt_admin",
         "type": "bar",
         "x": [
          "Clark, WA"
         ],
         "xaxis": "x11",
         "y": [
          0.1171681445809574
         ],
         "yaxis": "y11"
        },
        {
         "hoverinfo": "name",
         "marker": {
          "color": "rgb(23, 190, 207)"
         },
         "name": "education_health",
         "type": "bar",
         "x": [
          "Clark, WA"
         ],
         "xaxis": "x11",
         "y": [
          0.2134147628232454
         ],
         "yaxis": "y11"
        },
        {
         "hoverinfo": "name",
         "marker": {
          "color": "rgb(31, 119, 180)"
         },
         "name": "arts_entertainment",
         "type": "bar",
         "x": [
          "Clark, WA"
         ],
         "xaxis": "x11",
         "y": [
          0.0781444543394124
         ],
         "yaxis": "y11"
        },
        {
         "hoverinfo": "name",
         "marker": {
          "color": "rgb(255, 127, 14)"
         },
         "name": "other_services",
         "type": "bar",
         "x": [
          "Clark, WA"
         ],
         "xaxis": "x11",
         "y": [
          0.0467853781448764
         ],
         "yaxis": "y11"
        },
        {
         "hoverinfo": "name",
         "marker": {
          "color": "rgb(44, 160, 44)"
         },
         "name": "public_admin",
         "type": "bar",
         "x": [
          "Clark, WA"
         ],
         "xaxis": "x11",
         "y": [
          0.0421216124389595
         ],
         "yaxis": "y11"
        },
        {
         "hoverinfo": "name",
         "marker": {
          "color": "rgb(31, 119, 180)"
         },
         "name": "agri_forestry_mining",
         "type": "bar",
         "x": [
          "Grayson, TX"
         ],
         "xaxis": "x12",
         "y": [
          0.0165575967830954
         ],
         "yaxis": "y12"
        },
        {
         "hoverinfo": "name",
         "marker": {
          "color": "rgb(255, 127, 14)"
         },
         "name": "construction",
         "type": "bar",
         "x": [
          "Grayson, TX"
         ],
         "xaxis": "x12",
         "y": [
          0.08786564692896
         ],
         "yaxis": "y12"
        },
        {
         "hoverinfo": "name",
         "marker": {
          "color": "rgb(44, 160, 44)"
         },
         "name": "manufacturing",
         "type": "bar",
         "x": [
          "Grayson, TX"
         ],
         "xaxis": "x12",
         "y": [
          0.1160924071591894
         ],
         "yaxis": "y12"
        },
        {
         "hoverinfo": "name",
         "marker": {
          "color": "rgb(214, 39, 40)"
         },
         "name": "wholesale_trade",
         "type": "bar",
         "x": [
          "Grayson, TX"
         ],
         "xaxis": "x12",
         "y": [
          0.0257036978632815
         ],
         "yaxis": "y12"
        },
        {
         "hoverinfo": "name",
         "marker": {
          "color": "rgb(148, 103, 189)"
         },
         "name": "retail_trade",
         "type": "bar",
         "x": [
          "Grayson, TX"
         ],
         "xaxis": "x12",
         "y": [
          0.1346842229756366
         ],
         "yaxis": "y12"
        },
        {
         "hoverinfo": "name",
         "marker": {
          "color": "rgb(140, 86, 75)"
         },
         "name": "transport_utilities",
         "type": "bar",
         "x": [
          "Grayson, TX"
         ],
         "xaxis": "x12",
         "y": [
          0.0498147126074272
         ],
         "yaxis": "y12"
        },
        {
         "hoverinfo": "name",
         "marker": {
          "color": "rgb(227, 119, 194)"
         },
         "name": "information",
         "type": "bar",
         "x": [
          "Grayson, TX"
         ],
         "xaxis": "x12",
         "y": [
          0.0144129937711897
         ],
         "yaxis": "y12"
        },
        {
         "hoverinfo": "name",
         "marker": {
          "color": "rgb(127, 127, 127)"
         },
         "name": "finance_real_estate",
         "type": "bar",
         "x": [
          "Grayson, TX"
         ],
         "xaxis": "x12",
         "y": [
          0.0690372940156114
         ],
         "yaxis": "y12"
        },
        {
         "hoverinfo": "name",
         "marker": {
          "color": "rgb(188, 189, 34)"
         },
         "name": "prof_sci_mgmt_admin",
         "type": "bar",
         "x": [
          "Grayson, TX"
         ],
         "xaxis": "x12",
         "y": [
          0.0796972325159662
         ],
         "yaxis": "y12"
        },
        {
         "hoverinfo": "name",
         "marker": {
          "color": "rgb(23, 190, 207)"
         },
         "name": "education_health",
         "type": "bar",
         "x": [
          "Grayson, TX"
         ],
         "xaxis": "x12",
         "y": [
          0.2103918631238666
         ],
         "yaxis": "y12"
        },
        {
         "hoverinfo": "name",
         "marker": {
          "color": "rgb(31, 119, 180)"
         },
         "name": "arts_entertainment",
         "type": "bar",
         "x": [
          "Grayson, TX"
         ],
         "xaxis": "x12",
         "y": [
          0.0969329023101789
         ],
         "yaxis": "y12"
        },
        {
         "hoverinfo": "name",
         "marker": {
          "color": "rgb(255, 127, 14)"
         },
         "name": "other_services",
         "type": "bar",
         "x": [
          "Grayson, TX"
         ],
         "xaxis": "x12",
         "y": [
          0.058503508633604
         ],
         "yaxis": "y12"
        },
        {
         "hoverinfo": "name",
         "marker": {
          "color": "rgb(44, 160, 44)"
         },
         "name": "public_admin",
         "type": "bar",
         "x": [
          "Grayson, TX"
         ],
         "xaxis": "x12",
         "y": [
          0.0403059213119924
         ],
         "yaxis": "y12"
        }
       ],
       "layout": {
        "plot_bgcolor": "rgba(0,0,0,0)",
        "template": {
         "data": {
          "bar": [
           {
            "error_x": {
             "color": "#2a3f5f"
            },
            "error_y": {
             "color": "#2a3f5f"
            },
            "marker": {
             "line": {
              "color": "#E5ECF6",
              "width": 0.5
             },
             "pattern": {
              "fillmode": "overlay",
              "size": 10,
              "solidity": 0.2
             }
            },
            "type": "bar"
           }
          ],
          "barpolar": [
           {
            "marker": {
             "line": {
              "color": "#E5ECF6",
              "width": 0.5
             },
             "pattern": {
              "fillmode": "overlay",
              "size": 10,
              "solidity": 0.2
             }
            },
            "type": "barpolar"
           }
          ],
          "carpet": [
           {
            "aaxis": {
             "endlinecolor": "#2a3f5f",
             "gridcolor": "white",
             "linecolor": "white",
             "minorgridcolor": "white",
             "startlinecolor": "#2a3f5f"
            },
            "baxis": {
             "endlinecolor": "#2a3f5f",
             "gridcolor": "white",
             "linecolor": "white",
             "minorgridcolor": "white",
             "startlinecolor": "#2a3f5f"
            },
            "type": "carpet"
           }
          ],
          "choropleth": [
           {
            "colorbar": {
             "outlinewidth": 0,
             "ticks": ""
            },
            "type": "choropleth"
           }
          ],
          "contour": [
           {
            "colorbar": {
             "outlinewidth": 0,
             "ticks": ""
            },
            "colorscale": [
             [
              0,
              "#0d0887"
             ],
             [
              0.1111111111111111,
              "#46039f"
             ],
             [
              0.2222222222222222,
              "#7201a8"
             ],
             [
              0.3333333333333333,
              "#9c179e"
             ],
             [
              0.4444444444444444,
              "#bd3786"
             ],
             [
              0.5555555555555556,
              "#d8576b"
             ],
             [
              0.6666666666666666,
              "#ed7953"
             ],
             [
              0.7777777777777778,
              "#fb9f3a"
             ],
             [
              0.8888888888888888,
              "#fdca26"
             ],
             [
              1,
              "#f0f921"
             ]
            ],
            "type": "contour"
           }
          ],
          "contourcarpet": [
           {
            "colorbar": {
             "outlinewidth": 0,
             "ticks": ""
            },
            "type": "contourcarpet"
           }
          ],
          "heatmap": [
           {
            "colorbar": {
             "outlinewidth": 0,
             "ticks": ""
            },
            "colorscale": [
             [
              0,
              "#0d0887"
             ],
             [
              0.1111111111111111,
              "#46039f"
             ],
             [
              0.2222222222222222,
              "#7201a8"
             ],
             [
              0.3333333333333333,
              "#9c179e"
             ],
             [
              0.4444444444444444,
              "#bd3786"
             ],
             [
              0.5555555555555556,
              "#d8576b"
             ],
             [
              0.6666666666666666,
              "#ed7953"
             ],
             [
              0.7777777777777778,
              "#fb9f3a"
             ],
             [
              0.8888888888888888,
              "#fdca26"
             ],
             [
              1,
              "#f0f921"
             ]
            ],
            "type": "heatmap"
           }
          ],
          "heatmapgl": [
           {
            "colorbar": {
             "outlinewidth": 0,
             "ticks": ""
            },
            "colorscale": [
             [
              0,
              "#0d0887"
             ],
             [
              0.1111111111111111,
              "#46039f"
             ],
             [
              0.2222222222222222,
              "#7201a8"
             ],
             [
              0.3333333333333333,
              "#9c179e"
             ],
             [
              0.4444444444444444,
              "#bd3786"
             ],
             [
              0.5555555555555556,
              "#d8576b"
             ],
             [
              0.6666666666666666,
              "#ed7953"
             ],
             [
              0.7777777777777778,
              "#fb9f3a"
             ],
             [
              0.8888888888888888,
              "#fdca26"
             ],
             [
              1,
              "#f0f921"
             ]
            ],
            "type": "heatmapgl"
           }
          ],
          "histogram": [
           {
            "marker": {
             "pattern": {
              "fillmode": "overlay",
              "size": 10,
              "solidity": 0.2
             }
            },
            "type": "histogram"
           }
          ],
          "histogram2d": [
           {
            "colorbar": {
             "outlinewidth": 0,
             "ticks": ""
            },
            "colorscale": [
             [
              0,
              "#0d0887"
             ],
             [
              0.1111111111111111,
              "#46039f"
             ],
             [
              0.2222222222222222,
              "#7201a8"
             ],
             [
              0.3333333333333333,
              "#9c179e"
             ],
             [
              0.4444444444444444,
              "#bd3786"
             ],
             [
              0.5555555555555556,
              "#d8576b"
             ],
             [
              0.6666666666666666,
              "#ed7953"
             ],
             [
              0.7777777777777778,
              "#fb9f3a"
             ],
             [
              0.8888888888888888,
              "#fdca26"
             ],
             [
              1,
              "#f0f921"
             ]
            ],
            "type": "histogram2d"
           }
          ],
          "histogram2dcontour": [
           {
            "colorbar": {
             "outlinewidth": 0,
             "ticks": ""
            },
            "colorscale": [
             [
              0,
              "#0d0887"
             ],
             [
              0.1111111111111111,
              "#46039f"
             ],
             [
              0.2222222222222222,
              "#7201a8"
             ],
             [
              0.3333333333333333,
              "#9c179e"
             ],
             [
              0.4444444444444444,
              "#bd3786"
             ],
             [
              0.5555555555555556,
              "#d8576b"
             ],
             [
              0.6666666666666666,
              "#ed7953"
             ],
             [
              0.7777777777777778,
              "#fb9f3a"
             ],
             [
              0.8888888888888888,
              "#fdca26"
             ],
             [
              1,
              "#f0f921"
             ]
            ],
            "type": "histogram2dcontour"
           }
          ],
          "mesh3d": [
           {
            "colorbar": {
             "outlinewidth": 0,
             "ticks": ""
            },
            "type": "mesh3d"
           }
          ],
          "parcoords": [
           {
            "line": {
             "colorbar": {
              "outlinewidth": 0,
              "ticks": ""
             }
            },
            "type": "parcoords"
           }
          ],
          "pie": [
           {
            "automargin": true,
            "type": "pie"
           }
          ],
          "scatter": [
           {
            "fillpattern": {
             "fillmode": "overlay",
             "size": 10,
             "solidity": 0.2
            },
            "type": "scatter"
           }
          ],
          "scatter3d": [
           {
            "line": {
             "colorbar": {
              "outlinewidth": 0,
              "ticks": ""
             }
            },
            "marker": {
             "colorbar": {
              "outlinewidth": 0,
              "ticks": ""
             }
            },
            "type": "scatter3d"
           }
          ],
          "scattercarpet": [
           {
            "marker": {
             "colorbar": {
              "outlinewidth": 0,
              "ticks": ""
             }
            },
            "type": "scattercarpet"
           }
          ],
          "scattergeo": [
           {
            "marker": {
             "colorbar": {
              "outlinewidth": 0,
              "ticks": ""
             }
            },
            "type": "scattergeo"
           }
          ],
          "scattergl": [
           {
            "marker": {
             "colorbar": {
              "outlinewidth": 0,
              "ticks": ""
             }
            },
            "type": "scattergl"
           }
          ],
          "scattermapbox": [
           {
            "marker": {
             "colorbar": {
              "outlinewidth": 0,
              "ticks": ""
             }
            },
            "type": "scattermapbox"
           }
          ],
          "scatterpolar": [
           {
            "marker": {
             "colorbar": {
              "outlinewidth": 0,
              "ticks": ""
             }
            },
            "type": "scatterpolar"
           }
          ],
          "scatterpolargl": [
           {
            "marker": {
             "colorbar": {
              "outlinewidth": 0,
              "ticks": ""
             }
            },
            "type": "scatterpolargl"
           }
          ],
          "scatterternary": [
           {
            "marker": {
             "colorbar": {
              "outlinewidth": 0,
              "ticks": ""
             }
            },
            "type": "scatterternary"
           }
          ],
          "surface": [
           {
            "colorbar": {
             "outlinewidth": 0,
             "ticks": ""
            },
            "colorscale": [
             [
              0,
              "#0d0887"
             ],
             [
              0.1111111111111111,
              "#46039f"
             ],
             [
              0.2222222222222222,
              "#7201a8"
             ],
             [
              0.3333333333333333,
              "#9c179e"
             ],
             [
              0.4444444444444444,
              "#bd3786"
             ],
             [
              0.5555555555555556,
              "#d8576b"
             ],
             [
              0.6666666666666666,
              "#ed7953"
             ],
             [
              0.7777777777777778,
              "#fb9f3a"
             ],
             [
              0.8888888888888888,
              "#fdca26"
             ],
             [
              1,
              "#f0f921"
             ]
            ],
            "type": "surface"
           }
          ],
          "table": [
           {
            "cells": {
             "fill": {
              "color": "#EBF0F8"
             },
             "line": {
              "color": "white"
             }
            },
            "header": {
             "fill": {
              "color": "#C8D4E3"
             },
             "line": {
              "color": "white"
             }
            },
            "type": "table"
           }
          ]
         },
         "layout": {
          "annotationdefaults": {
           "arrowcolor": "#2a3f5f",
           "arrowhead": 0,
           "arrowwidth": 1
          },
          "autotypenumbers": "strict",
          "coloraxis": {
           "colorbar": {
            "outlinewidth": 0,
            "ticks": ""
           }
          },
          "colorscale": {
           "diverging": [
            [
             0,
             "#8e0152"
            ],
            [
             0.1,
             "#c51b7d"
            ],
            [
             0.2,
             "#de77ae"
            ],
            [
             0.3,
             "#f1b6da"
            ],
            [
             0.4,
             "#fde0ef"
            ],
            [
             0.5,
             "#f7f7f7"
            ],
            [
             0.6,
             "#e6f5d0"
            ],
            [
             0.7,
             "#b8e186"
            ],
            [
             0.8,
             "#7fbc41"
            ],
            [
             0.9,
             "#4d9221"
            ],
            [
             1,
             "#276419"
            ]
           ],
           "sequential": [
            [
             0,
             "#0d0887"
            ],
            [
             0.1111111111111111,
             "#46039f"
            ],
            [
             0.2222222222222222,
             "#7201a8"
            ],
            [
             0.3333333333333333,
             "#9c179e"
            ],
            [
             0.4444444444444444,
             "#bd3786"
            ],
            [
             0.5555555555555556,
             "#d8576b"
            ],
            [
             0.6666666666666666,
             "#ed7953"
            ],
            [
             0.7777777777777778,
             "#fb9f3a"
            ],
            [
             0.8888888888888888,
             "#fdca26"
            ],
            [
             1,
             "#f0f921"
            ]
           ],
           "sequentialminus": [
            [
             0,
             "#0d0887"
            ],
            [
             0.1111111111111111,
             "#46039f"
            ],
            [
             0.2222222222222222,
             "#7201a8"
            ],
            [
             0.3333333333333333,
             "#9c179e"
            ],
            [
             0.4444444444444444,
             "#bd3786"
            ],
            [
             0.5555555555555556,
             "#d8576b"
            ],
            [
             0.6666666666666666,
             "#ed7953"
            ],
            [
             0.7777777777777778,
             "#fb9f3a"
            ],
            [
             0.8888888888888888,
             "#fdca26"
            ],
            [
             1,
             "#f0f921"
            ]
           ]
          },
          "colorway": [
           "#636efa",
           "#EF553B",
           "#00cc96",
           "#ab63fa",
           "#FFA15A",
           "#19d3f3",
           "#FF6692",
           "#B6E880",
           "#FF97FF",
           "#FECB52"
          ],
          "font": {
           "color": "#2a3f5f"
          },
          "geo": {
           "bgcolor": "white",
           "lakecolor": "white",
           "landcolor": "#E5ECF6",
           "showlakes": true,
           "showland": true,
           "subunitcolor": "white"
          },
          "hoverlabel": {
           "align": "left"
          },
          "hovermode": "closest",
          "mapbox": {
           "style": "light"
          },
          "paper_bgcolor": "white",
          "plot_bgcolor": "#E5ECF6",
          "polar": {
           "angularaxis": {
            "gridcolor": "white",
            "linecolor": "white",
            "ticks": ""
           },
           "bgcolor": "#E5ECF6",
           "radialaxis": {
            "gridcolor": "white",
            "linecolor": "white",
            "ticks": ""
           }
          },
          "scene": {
           "xaxis": {
            "backgroundcolor": "#E5ECF6",
            "gridcolor": "white",
            "gridwidth": 2,
            "linecolor": "white",
            "showbackground": true,
            "ticks": "",
            "zerolinecolor": "white"
           },
           "yaxis": {
            "backgroundcolor": "#E5ECF6",
            "gridcolor": "white",
            "gridwidth": 2,
            "linecolor": "white",
            "showbackground": true,
            "ticks": "",
            "zerolinecolor": "white"
           },
           "zaxis": {
            "backgroundcolor": "#E5ECF6",
            "gridcolor": "white",
            "gridwidth": 2,
            "linecolor": "white",
            "showbackground": true,
            "ticks": "",
            "zerolinecolor": "white"
           }
          },
          "shapedefaults": {
           "line": {
            "color": "#2a3f5f"
           }
          },
          "ternary": {
           "aaxis": {
            "gridcolor": "white",
            "linecolor": "white",
            "ticks": ""
           },
           "baxis": {
            "gridcolor": "white",
            "linecolor": "white",
            "ticks": ""
           },
           "bgcolor": "#E5ECF6",
           "caxis": {
            "gridcolor": "white",
            "linecolor": "white",
            "ticks": ""
           }
          },
          "title": {
           "x": 0.05
          },
          "xaxis": {
           "automargin": true,
           "gridcolor": "white",
           "linecolor": "white",
           "ticks": "",
           "title": {
            "standoff": 15
           },
           "zerolinecolor": "white",
           "zerolinewidth": 2
          },
          "yaxis": {
           "automargin": true,
           "gridcolor": "white",
           "linecolor": "white",
           "ticks": "",
           "title": {
            "standoff": 15
           },
           "zerolinecolor": "white",
           "zerolinewidth": 2
          }
         }
        },
        "xaxis": {
         "anchor": "y",
         "domain": [
          0,
          0.2125
         ]
        },
        "xaxis10": {
         "anchor": "y10",
         "domain": [
          0.2625,
          0.475
         ]
        },
        "xaxis11": {
         "anchor": "y11",
         "domain": [
          0.525,
          0.7375
         ]
        },
        "xaxis12": {
         "anchor": "y12",
         "domain": [
          0.7875,
          1
         ]
        },
        "xaxis2": {
         "anchor": "y2",
         "domain": [
          0.2625,
          0.475
         ]
        },
        "xaxis3": {
         "anchor": "y3",
         "domain": [
          0.525,
          0.7375
         ]
        },
        "xaxis4": {
         "anchor": "y4",
         "domain": [
          0.7875,
          1
         ]
        },
        "xaxis5": {
         "anchor": "y5",
         "domain": [
          0,
          0.2125
         ]
        },
        "xaxis6": {
         "anchor": "y6",
         "domain": [
          0.2625,
          0.475
         ]
        },
        "xaxis7": {
         "anchor": "y7",
         "domain": [
          0.525,
          0.7375
         ]
        },
        "xaxis8": {
         "anchor": "y8",
         "domain": [
          0.7875,
          1
         ]
        },
        "xaxis9": {
         "anchor": "y9",
         "domain": [
          0,
          0.2125
         ]
        },
        "yaxis": {
         "anchor": "x",
         "domain": [
          0.7333333333333333,
          1
         ],
         "visible": false
        },
        "yaxis10": {
         "anchor": "x10",
         "domain": [
          0,
          0.26666666666666666
         ],
         "visible": false
        },
        "yaxis11": {
         "anchor": "x11",
         "domain": [
          0,
          0.26666666666666666
         ],
         "visible": false
        },
        "yaxis12": {
         "anchor": "x12",
         "domain": [
          0,
          0.26666666666666666
         ],
         "visible": false
        },
        "yaxis2": {
         "anchor": "x2",
         "domain": [
          0.7333333333333333,
          1
         ],
         "visible": false
        },
        "yaxis3": {
         "anchor": "x3",
         "domain": [
          0.7333333333333333,
          1
         ],
         "visible": false
        },
        "yaxis4": {
         "anchor": "x4",
         "domain": [
          0.7333333333333333,
          1
         ],
         "visible": false
        },
        "yaxis5": {
         "anchor": "x5",
         "domain": [
          0.36666666666666664,
          0.6333333333333333
         ],
         "visible": false
        },
        "yaxis6": {
         "anchor": "x6",
         "domain": [
          0.36666666666666664,
          0.6333333333333333
         ],
         "visible": false
        },
        "yaxis7": {
         "anchor": "x7",
         "domain": [
          0.36666666666666664,
          0.6333333333333333
         ],
         "visible": false
        },
        "yaxis8": {
         "anchor": "x8",
         "domain": [
          0.36666666666666664,
          0.6333333333333333
         ],
         "visible": false
        },
        "yaxis9": {
         "anchor": "x9",
         "domain": [
          0,
          0.26666666666666666
         ],
         "visible": false
        }
       }
      }
     },
     "metadata": {},
     "output_type": "display_data"
    }
   ],
   "source": [
    "# One example\n",
    "\n",
    "# input what to plot\n",
    "fips =  40143# tulsa\n",
    "# hampshire, ma: 25015\n",
    "n_kins = 12\n",
    "variable = \"industry\" \n",
    "type_of_plot = \"bar_multiplot\" # options are \"bar_multiplot\", \"stacked_bar_multiplot\", \"pie\", \"stacked_bar_singleplot\", \"bar_singleplot\", \"line\"\n",
    "\n",
    "# run fips query, get kins\n",
    "f  = FipsQuery(fips, outcome_var = \"gdp\",\n",
    "               feature_groups_with_weights= {\"gdp\":1, \"population\":1, \"industry\":1},\n",
    "               lag = 3, top = 5, time_decay = 1.03)\n",
    "f.find_euclidean_kins()\n",
    "kins_df = f.euclidean_kins\n",
    "\n",
    "# high-level plotting function\n",
    "fig = plot_kins_variable(\n",
    "        n_kins, \n",
    "        kins_df, \n",
    "        variable, \n",
    "        type_of_plot=type_of_plot)\n",
    "\n",
    "fig.show()\n"
   ]
  },
  {
   "cell_type": "code",
   "execution_count": null,
   "metadata": {},
   "outputs": [],
   "source": [
    "# plot non-timeseries variables \n",
    "variables_to_test = list_available_features() \n",
    "timeseries_variables = list_tensed_features()\n",
    "for tense_variable in timeseries_variables:\n",
    "    variables_to_test.remove(tense_variable)\n",
    "\n",
    "types_of_plots = (\"bar_multiplot\", \"stacked_bar_multiplot\", \"pie\", \"stacked_bar_singleplot\", \"bar_singleplot\")\n",
    "\n",
    "for variable in variables_to_test:\n",
    "    for type_of_plot in types_of_plots:\n",
    "        fig = plot_kins_variable(\n",
    "            n_kins, \n",
    "            kins_df, \n",
    "            variable, \n",
    "            type_of_plot=type_of_plot)\n",
    "        fig.update_layout(title_text=f\"{variable}  {type_of_plot}\")\n",
    "        # figure size\n",
    "        fig.update_layout(\n",
    "            autosize=False,\n",
    "            width=1000,\n",
    "            height=500)\n",
    "        fig.show()\n",
    "        "
   ]
  },
  {
   "cell_type": "code",
   "execution_count": null,
   "metadata": {},
   "outputs": [],
   "source": [
    "# plot timeseries variables\n",
    "timeseries_variables_to_test = list_tensed_features()\n",
    "for variable in timeseries_variables_to_test:\n",
    "    fig = plot_kins_variable(\n",
    "        n_kins, \n",
    "        kins_df, \n",
    "        variable, \n",
    "        type_of_plot='line')\n",
    "    fig.update_layout(title_text=f\"{variable}\")\n",
    "    fig.show()"
   ]
  }
 ],
 "metadata": {
  "kernelspec": {
   "display_name": "venv",
   "language": "python",
   "name": "python3"
  },
  "language_info": {
   "codemirror_mode": {
    "name": "ipython",
    "version": 3
   },
   "file_extension": ".py",
   "mimetype": "text/x-python",
   "name": "python",
   "nbconvert_exporter": "python",
   "pygments_lexer": "ipython3",
   "version": "3.10.12"
  }
 },
 "nbformat": 4,
 "nbformat_minor": 2
}
