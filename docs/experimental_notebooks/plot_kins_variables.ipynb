{
 "cells": [
  {
   "cell_type": "code",
   "execution_count": 64,
   "metadata": {},
   "outputs": [],
   "source": [
    "# import requests\n",
    "import json\n",
    "import pandas as pd\n",
    "import plotly.express as px\n",
    "import plotly.graph_objects as go\n",
    "from plotly.subplots import make_subplots\n",
    "import plotly.colors\n",
    "import os\n",
    "from pathlib import Path\n",
    "\n",
    "import numpy as np\n",
    "import pandas as pd\n",
    "\n",
    "from cities.utils.clean_gdp import clean_gdp\n",
    "from cities.utils.cleaning_utils import standardize_and_scale, find_repo_root\n",
    "from cities.utils.data_grabber import DataGrabber\n",
    "from cities.queries.fips_query import FipsQuery\n"
   ]
  },
  {
   "cell_type": "code",
   "execution_count": 91,
   "metadata": {},
   "outputs": [
    {
     "data": {
      "application/vnd.plotly.v1+json": {
       "config": {
        "plotlyServerURL": "https://plot.ly"
       },
       "data": [
        {
         "marker": {
          "color": "rgb(31, 119, 180)"
         },
         "name": "2001",
         "type": "bar",
         "x": [
          "Searcy, AR"
         ],
         "xaxis": "x",
         "y": [
          90.528
         ],
         "yaxis": "y"
        },
        {
         "marker": {
          "color": "rgb(255, 127, 14)"
         },
         "name": "2002",
         "type": "bar",
         "x": [
          "Searcy, AR"
         ],
         "xaxis": "x",
         "y": [
          97.992
         ],
         "yaxis": "y"
        },
        {
         "marker": {
          "color": "rgb(44, 160, 44)"
         },
         "name": "2003",
         "type": "bar",
         "x": [
          "Searcy, AR"
         ],
         "xaxis": "x",
         "y": [
          101.146
         ],
         "yaxis": "y"
        },
        {
         "marker": {
          "color": "rgb(214, 39, 40)"
         },
         "name": "2004",
         "type": "bar",
         "x": [
          "Searcy, AR"
         ],
         "xaxis": "x",
         "y": [
          104.189
         ],
         "yaxis": "y"
        },
        {
         "marker": {
          "color": "rgb(148, 103, 189)"
         },
         "name": "2005",
         "type": "bar",
         "x": [
          "Searcy, AR"
         ],
         "xaxis": "x",
         "y": [
          106.461
         ],
         "yaxis": "y"
        },
        {
         "marker": {
          "color": "rgb(140, 86, 75)"
         },
         "name": "2006",
         "type": "bar",
         "x": [
          "Searcy, AR"
         ],
         "xaxis": "x",
         "y": [
          112.705
         ],
         "yaxis": "y"
        },
        {
         "marker": {
          "color": "rgb(227, 119, 194)"
         },
         "name": "2007",
         "type": "bar",
         "x": [
          "Searcy, AR"
         ],
         "xaxis": "x",
         "y": [
          106.153
         ],
         "yaxis": "y"
        },
        {
         "marker": {
          "color": "rgb(127, 127, 127)"
         },
         "name": "2008",
         "type": "bar",
         "x": [
          "Searcy, AR"
         ],
         "xaxis": "x",
         "y": [
          100.018
         ],
         "yaxis": "y"
        },
        {
         "marker": {
          "color": "rgb(188, 189, 34)"
         },
         "name": "2009",
         "type": "bar",
         "x": [
          "Searcy, AR"
         ],
         "xaxis": "x",
         "y": [
          98.552
         ],
         "yaxis": "y"
        },
        {
         "marker": {
          "color": "rgb(23, 190, 207)"
         },
         "name": "2010",
         "type": "bar",
         "x": [
          "Searcy, AR"
         ],
         "xaxis": "x",
         "y": [
          107.214
         ],
         "yaxis": "y"
        },
        {
         "marker": {
          "color": "rgb(31, 119, 180)"
         },
         "name": "2011",
         "type": "bar",
         "x": [
          "Searcy, AR"
         ],
         "xaxis": "x",
         "y": [
          102.905
         ],
         "yaxis": "y"
        },
        {
         "marker": {
          "color": "rgb(255, 127, 14)"
         },
         "name": "2013",
         "type": "bar",
         "x": [
          "Searcy, AR"
         ],
         "xaxis": "x",
         "y": [
          98.807
         ],
         "yaxis": "y"
        },
        {
         "marker": {
          "color": "rgb(44, 160, 44)"
         },
         "name": "2014",
         "type": "bar",
         "x": [
          "Searcy, AR"
         ],
         "xaxis": "x",
         "y": [
          99.256
         ],
         "yaxis": "y"
        },
        {
         "marker": {
          "color": "rgb(214, 39, 40)"
         },
         "name": "2015",
         "type": "bar",
         "x": [
          "Searcy, AR"
         ],
         "xaxis": "x",
         "y": [
          96.926
         ],
         "yaxis": "y"
        },
        {
         "marker": {
          "color": "rgb(148, 103, 189)"
         },
         "name": "2016",
         "type": "bar",
         "x": [
          "Searcy, AR"
         ],
         "xaxis": "x",
         "y": [
          101.548
         ],
         "yaxis": "y"
        },
        {
         "marker": {
          "color": "rgb(140, 86, 75)"
         },
         "name": "2017",
         "type": "bar",
         "x": [
          "Searcy, AR"
         ],
         "xaxis": "x",
         "y": [
          115.809
         ],
         "yaxis": "y"
        },
        {
         "marker": {
          "color": "rgb(227, 119, 194)"
         },
         "name": "2018",
         "type": "bar",
         "x": [
          "Searcy, AR"
         ],
         "xaxis": "x",
         "y": [
          112.288
         ],
         "yaxis": "y"
        },
        {
         "marker": {
          "color": "rgb(127, 127, 127)"
         },
         "name": "2019",
         "type": "bar",
         "x": [
          "Searcy, AR"
         ],
         "xaxis": "x",
         "y": [
          117.577
         ],
         "yaxis": "y"
        },
        {
         "marker": {
          "color": "rgb(188, 189, 34)"
         },
         "name": "2020",
         "type": "bar",
         "x": [
          "Searcy, AR"
         ],
         "xaxis": "x",
         "y": [
          114.056
         ],
         "yaxis": "y"
        },
        {
         "marker": {
          "color": "rgb(23, 190, 207)"
         },
         "name": "2021",
         "type": "bar",
         "x": [
          "Searcy, AR"
         ],
         "xaxis": "x",
         "y": [
          119.556
         ],
         "yaxis": "y"
        },
        {
         "marker": {
          "color": "rgb(31, 119, 180)"
         },
         "name": "2001",
         "type": "bar",
         "x": [
          "Lincoln, GA"
         ],
         "xaxis": "x2",
         "y": [
          105.269
         ],
         "yaxis": "y2"
        },
        {
         "marker": {
          "color": "rgb(255, 127, 14)"
         },
         "name": "2002",
         "type": "bar",
         "x": [
          "Lincoln, GA"
         ],
         "xaxis": "x2",
         "y": [
          104.599
         ],
         "yaxis": "y2"
        },
        {
         "marker": {
          "color": "rgb(44, 160, 44)"
         },
         "name": "2003",
         "type": "bar",
         "x": [
          "Lincoln, GA"
         ],
         "xaxis": "x2",
         "y": [
          106.313
         ],
         "yaxis": "y2"
        },
        {
         "marker": {
          "color": "rgb(214, 39, 40)"
         },
         "name": "2004",
         "type": "bar",
         "x": [
          "Lincoln, GA"
         ],
         "xaxis": "x2",
         "y": [
          102.832
         ],
         "yaxis": "y2"
        },
        {
         "marker": {
          "color": "rgb(148, 103, 189)"
         },
         "name": "2005",
         "type": "bar",
         "x": [
          "Lincoln, GA"
         ],
         "xaxis": "x2",
         "y": [
          109.49
         ],
         "yaxis": "y2"
        },
        {
         "marker": {
          "color": "rgb(140, 86, 75)"
         },
         "name": "2006",
         "type": "bar",
         "x": [
          "Lincoln, GA"
         ],
         "xaxis": "x2",
         "y": [
          105.428
         ],
         "yaxis": "y2"
        },
        {
         "marker": {
          "color": "rgb(227, 119, 194)"
         },
         "name": "2007",
         "type": "bar",
         "x": [
          "Lincoln, GA"
         ],
         "xaxis": "x2",
         "y": [
          118.19
         ],
         "yaxis": "y2"
        },
        {
         "marker": {
          "color": "rgb(127, 127, 127)"
         },
         "name": "2008",
         "type": "bar",
         "x": [
          "Lincoln, GA"
         ],
         "xaxis": "x2",
         "y": [
          112.823
         ],
         "yaxis": "y2"
        },
        {
         "marker": {
          "color": "rgb(188, 189, 34)"
         },
         "name": "2009",
         "type": "bar",
         "x": [
          "Lincoln, GA"
         ],
         "xaxis": "x2",
         "y": [
          115.715
         ],
         "yaxis": "y2"
        },
        {
         "marker": {
          "color": "rgb(23, 190, 207)"
         },
         "name": "2010",
         "type": "bar",
         "x": [
          "Lincoln, GA"
         ],
         "xaxis": "x2",
         "y": [
          111.459
         ],
         "yaxis": "y2"
        },
        {
         "marker": {
          "color": "rgb(31, 119, 180)"
         },
         "name": "2011",
         "type": "bar",
         "x": [
          "Lincoln, GA"
         ],
         "xaxis": "x2",
         "y": [
          108.252
         ],
         "yaxis": "y2"
        },
        {
         "marker": {
          "color": "rgb(255, 127, 14)"
         },
         "name": "2013",
         "type": "bar",
         "x": [
          "Lincoln, GA"
         ],
         "xaxis": "x2",
         "y": [
          100.753
         ],
         "yaxis": "y2"
        },
        {
         "marker": {
          "color": "rgb(44, 160, 44)"
         },
         "name": "2014",
         "type": "bar",
         "x": [
          "Lincoln, GA"
         ],
         "xaxis": "x2",
         "y": [
          97.406
         ],
         "yaxis": "y2"
        },
        {
         "marker": {
          "color": "rgb(214, 39, 40)"
         },
         "name": "2015",
         "type": "bar",
         "x": [
          "Lincoln, GA"
         ],
         "xaxis": "x2",
         "y": [
          102.081
         ],
         "yaxis": "y2"
        },
        {
         "marker": {
          "color": "rgb(148, 103, 189)"
         },
         "name": "2016",
         "type": "bar",
         "x": [
          "Lincoln, GA"
         ],
         "xaxis": "x2",
         "y": [
          102.229
         ],
         "yaxis": "y2"
        },
        {
         "marker": {
          "color": "rgb(140, 86, 75)"
         },
         "name": "2017",
         "type": "bar",
         "x": [
          "Lincoln, GA"
         ],
         "xaxis": "x2",
         "y": [
          98.661
         ],
         "yaxis": "y2"
        },
        {
         "marker": {
          "color": "rgb(227, 119, 194)"
         },
         "name": "2018",
         "type": "bar",
         "x": [
          "Lincoln, GA"
         ],
         "xaxis": "x2",
         "y": [
          95.957
         ],
         "yaxis": "y2"
        },
        {
         "marker": {
          "color": "rgb(127, 127, 127)"
         },
         "name": "2019",
         "type": "bar",
         "x": [
          "Lincoln, GA"
         ],
         "xaxis": "x2",
         "y": [
          98.276
         ],
         "yaxis": "y2"
        },
        {
         "marker": {
          "color": "rgb(188, 189, 34)"
         },
         "name": "2020",
         "type": "bar",
         "x": [
          "Lincoln, GA"
         ],
         "xaxis": "x2",
         "y": [
          96.241
         ],
         "yaxis": "y2"
        },
        {
         "marker": {
          "color": "rgb(23, 190, 207)"
         },
         "name": "2021",
         "type": "bar",
         "x": [
          "Lincoln, GA"
         ],
         "xaxis": "x2",
         "y": [
          99.451
         ],
         "yaxis": "y2"
        },
        {
         "marker": {
          "color": "rgb(31, 119, 180)"
         },
         "name": "2001",
         "type": "bar",
         "x": [
          "Monroe, IA"
         ],
         "xaxis": "x3",
         "y": [
          80.83
         ],
         "yaxis": "y3"
        },
        {
         "marker": {
          "color": "rgb(255, 127, 14)"
         },
         "name": "2002",
         "type": "bar",
         "x": [
          "Monroe, IA"
         ],
         "xaxis": "x3",
         "y": [
          78.299
         ],
         "yaxis": "y3"
        },
        {
         "marker": {
          "color": "rgb(44, 160, 44)"
         },
         "name": "2003",
         "type": "bar",
         "x": [
          "Monroe, IA"
         ],
         "xaxis": "x3",
         "y": [
          81.98
         ],
         "yaxis": "y3"
        },
        {
         "marker": {
          "color": "rgb(214, 39, 40)"
         },
         "name": "2004",
         "type": "bar",
         "x": [
          "Monroe, IA"
         ],
         "xaxis": "x3",
         "y": [
          89.798
         ],
         "yaxis": "y3"
        },
        {
         "marker": {
          "color": "rgb(148, 103, 189)"
         },
         "name": "2005",
         "type": "bar",
         "x": [
          "Monroe, IA"
         ],
         "xaxis": "x3",
         "y": [
          90.345
         ],
         "yaxis": "y3"
        },
        {
         "marker": {
          "color": "rgb(140, 86, 75)"
         },
         "name": "2006",
         "type": "bar",
         "x": [
          "Monroe, IA"
         ],
         "xaxis": "x3",
         "y": [
          95.037
         ],
         "yaxis": "y3"
        },
        {
         "marker": {
          "color": "rgb(227, 119, 194)"
         },
         "name": "2007",
         "type": "bar",
         "x": [
          "Monroe, IA"
         ],
         "xaxis": "x3",
         "y": [
          102.527
         ],
         "yaxis": "y3"
        },
        {
         "marker": {
          "color": "rgb(127, 127, 127)"
         },
         "name": "2008",
         "type": "bar",
         "x": [
          "Monroe, IA"
         ],
         "xaxis": "x3",
         "y": [
          114.486
         ],
         "yaxis": "y3"
        },
        {
         "marker": {
          "color": "rgb(188, 189, 34)"
         },
         "name": "2009",
         "type": "bar",
         "x": [
          "Monroe, IA"
         ],
         "xaxis": "x3",
         "y": [
          120.5
         ],
         "yaxis": "y3"
        },
        {
         "marker": {
          "color": "rgb(23, 190, 207)"
         },
         "name": "2010",
         "type": "bar",
         "x": [
          "Monroe, IA"
         ],
         "xaxis": "x3",
         "y": [
          116.286
         ],
         "yaxis": "y3"
        },
        {
         "marker": {
          "color": "rgb(31, 119, 180)"
         },
         "name": "2011",
         "type": "bar",
         "x": [
          "Monroe, IA"
         ],
         "xaxis": "x3",
         "y": [
          107.43
         ],
         "yaxis": "y3"
        },
        {
         "marker": {
          "color": "rgb(255, 127, 14)"
         },
         "name": "2013",
         "type": "bar",
         "x": [
          "Monroe, IA"
         ],
         "xaxis": "x3",
         "y": [
          99.366
         ],
         "yaxis": "y3"
        },
        {
         "marker": {
          "color": "rgb(44, 160, 44)"
         },
         "name": "2014",
         "type": "bar",
         "x": [
          "Monroe, IA"
         ],
         "xaxis": "x3",
         "y": [
          95.596
         ],
         "yaxis": "y3"
        },
        {
         "marker": {
          "color": "rgb(214, 39, 40)"
         },
         "name": "2015",
         "type": "bar",
         "x": [
          "Monroe, IA"
         ],
         "xaxis": "x3",
         "y": [
          100.399
         ],
         "yaxis": "y3"
        },
        {
         "marker": {
          "color": "rgb(148, 103, 189)"
         },
         "name": "2016",
         "type": "bar",
         "x": [
          "Monroe, IA"
         ],
         "xaxis": "x3",
         "y": [
          97.7
         ],
         "yaxis": "y3"
        },
        {
         "marker": {
          "color": "rgb(140, 86, 75)"
         },
         "name": "2017",
         "type": "bar",
         "x": [
          "Monroe, IA"
         ],
         "xaxis": "x3",
         "y": [
          98.123
         ],
         "yaxis": "y3"
        },
        {
         "marker": {
          "color": "rgb(227, 119, 194)"
         },
         "name": "2018",
         "type": "bar",
         "x": [
          "Monroe, IA"
         ],
         "xaxis": "x3",
         "y": [
          104.999
         ],
         "yaxis": "y3"
        },
        {
         "marker": {
          "color": "rgb(127, 127, 127)"
         },
         "name": "2019",
         "type": "bar",
         "x": [
          "Monroe, IA"
         ],
         "xaxis": "x3",
         "y": [
          106.039
         ],
         "yaxis": "y3"
        },
        {
         "marker": {
          "color": "rgb(188, 189, 34)"
         },
         "name": "2020",
         "type": "bar",
         "x": [
          "Monroe, IA"
         ],
         "xaxis": "x3",
         "y": [
          103.193
         ],
         "yaxis": "y3"
        },
        {
         "marker": {
          "color": "rgb(23, 190, 207)"
         },
         "name": "2021",
         "type": "bar",
         "x": [
          "Monroe, IA"
         ],
         "xaxis": "x3",
         "y": [
          110.844
         ],
         "yaxis": "y3"
        },
        {
         "marker": {
          "color": "rgb(31, 119, 180)"
         },
         "name": "2001",
         "type": "bar",
         "x": [
          "Anderson, KS"
         ],
         "xaxis": "x4",
         "y": [
          74.59
         ],
         "yaxis": "y4"
        },
        {
         "marker": {
          "color": "rgb(255, 127, 14)"
         },
         "name": "2002",
         "type": "bar",
         "x": [
          "Anderson, KS"
         ],
         "xaxis": "x4",
         "y": [
          78.511
         ],
         "yaxis": "y4"
        },
        {
         "marker": {
          "color": "rgb(44, 160, 44)"
         },
         "name": "2003",
         "type": "bar",
         "x": [
          "Anderson, KS"
         ],
         "xaxis": "x4",
         "y": [
          76.836
         ],
         "yaxis": "y4"
        },
        {
         "marker": {
          "color": "rgb(214, 39, 40)"
         },
         "name": "2004",
         "type": "bar",
         "x": [
          "Anderson, KS"
         ],
         "xaxis": "x4",
         "y": [
          76.589
         ],
         "yaxis": "y4"
        },
        {
         "marker": {
          "color": "rgb(148, 103, 189)"
         },
         "name": "2005",
         "type": "bar",
         "x": [
          "Anderson, KS"
         ],
         "xaxis": "x4",
         "y": [
          76.548
         ],
         "yaxis": "y4"
        },
        {
         "marker": {
          "color": "rgb(140, 86, 75)"
         },
         "name": "2006",
         "type": "bar",
         "x": [
          "Anderson, KS"
         ],
         "xaxis": "x4",
         "y": [
          75.401
         ],
         "yaxis": "y4"
        },
        {
         "marker": {
          "color": "rgb(227, 119, 194)"
         },
         "name": "2007",
         "type": "bar",
         "x": [
          "Anderson, KS"
         ],
         "xaxis": "x4",
         "y": [
          81.577
         ],
         "yaxis": "y4"
        },
        {
         "marker": {
          "color": "rgb(127, 127, 127)"
         },
         "name": "2008",
         "type": "bar",
         "x": [
          "Anderson, KS"
         ],
         "xaxis": "x4",
         "y": [
          91.311
         ],
         "yaxis": "y4"
        },
        {
         "marker": {
          "color": "rgb(188, 189, 34)"
         },
         "name": "2009",
         "type": "bar",
         "x": [
          "Anderson, KS"
         ],
         "xaxis": "x4",
         "y": [
          95.643
         ],
         "yaxis": "y4"
        },
        {
         "marker": {
          "color": "rgb(23, 190, 207)"
         },
         "name": "2010",
         "type": "bar",
         "x": [
          "Anderson, KS"
         ],
         "xaxis": "x4",
         "y": [
          87.817
         ],
         "yaxis": "y4"
        },
        {
         "marker": {
          "color": "rgb(31, 119, 180)"
         },
         "name": "2011",
         "type": "bar",
         "x": [
          "Anderson, KS"
         ],
         "xaxis": "x4",
         "y": [
          94.166
         ],
         "yaxis": "y4"
        },
        {
         "marker": {
          "color": "rgb(255, 127, 14)"
         },
         "name": "2013",
         "type": "bar",
         "x": [
          "Anderson, KS"
         ],
         "xaxis": "x4",
         "y": [
          103.952
         ],
         "yaxis": "y4"
        },
        {
         "marker": {
          "color": "rgb(44, 160, 44)"
         },
         "name": "2014",
         "type": "bar",
         "x": [
          "Anderson, KS"
         ],
         "xaxis": "x4",
         "y": [
          107.351
         ],
         "yaxis": "y4"
        },
        {
         "marker": {
          "color": "rgb(214, 39, 40)"
         },
         "name": "2015",
         "type": "bar",
         "x": [
          "Anderson, KS"
         ],
         "xaxis": "x4",
         "y": [
          104.642
         ],
         "yaxis": "y4"
        },
        {
         "marker": {
          "color": "rgb(148, 103, 189)"
         },
         "name": "2016",
         "type": "bar",
         "x": [
          "Anderson, KS"
         ],
         "xaxis": "x4",
         "y": [
          123.926
         ],
         "yaxis": "y4"
        },
        {
         "marker": {
          "color": "rgb(140, 86, 75)"
         },
         "name": "2017",
         "type": "bar",
         "x": [
          "Anderson, KS"
         ],
         "xaxis": "x4",
         "y": [
          106.269
         ],
         "yaxis": "y4"
        },
        {
         "marker": {
          "color": "rgb(227, 119, 194)"
         },
         "name": "2018",
         "type": "bar",
         "x": [
          "Anderson, KS"
         ],
         "xaxis": "x4",
         "y": [
          105.016
         ],
         "yaxis": "y4"
        },
        {
         "marker": {
          "color": "rgb(127, 127, 127)"
         },
         "name": "2019",
         "type": "bar",
         "x": [
          "Anderson, KS"
         ],
         "xaxis": "x4",
         "y": [
          117.576
         ],
         "yaxis": "y4"
        },
        {
         "marker": {
          "color": "rgb(188, 189, 34)"
         },
         "name": "2020",
         "type": "bar",
         "x": [
          "Anderson, KS"
         ],
         "xaxis": "x4",
         "y": [
          130.217
         ],
         "yaxis": "y4"
        },
        {
         "marker": {
          "color": "rgb(23, 190, 207)"
         },
         "name": "2021",
         "type": "bar",
         "x": [
          "Anderson, KS"
         ],
         "xaxis": "x4",
         "y": [
          143.895
         ],
         "yaxis": "y4"
        },
        {
         "marker": {
          "color": "rgb(31, 119, 180)"
         },
         "name": "2001",
         "type": "bar",
         "x": [
          "Doniphan, KS"
         ],
         "xaxis": "x5",
         "y": [
          96.019
         ],
         "yaxis": "y5"
        },
        {
         "marker": {
          "color": "rgb(255, 127, 14)"
         },
         "name": "2002",
         "type": "bar",
         "x": [
          "Doniphan, KS"
         ],
         "xaxis": "x5",
         "y": [
          85.88
         ],
         "yaxis": "y5"
        },
        {
         "marker": {
          "color": "rgb(44, 160, 44)"
         },
         "name": "2003",
         "type": "bar",
         "x": [
          "Doniphan, KS"
         ],
         "xaxis": "x5",
         "y": [
          80.674
         ],
         "yaxis": "y5"
        },
        {
         "marker": {
          "color": "rgb(214, 39, 40)"
         },
         "name": "2004",
         "type": "bar",
         "x": [
          "Doniphan, KS"
         ],
         "xaxis": "x5",
         "y": [
          100.728
         ],
         "yaxis": "y5"
        },
        {
         "marker": {
          "color": "rgb(148, 103, 189)"
         },
         "name": "2005",
         "type": "bar",
         "x": [
          "Doniphan, KS"
         ],
         "xaxis": "x5",
         "y": [
          106.243
         ],
         "yaxis": "y5"
        },
        {
         "marker": {
          "color": "rgb(140, 86, 75)"
         },
         "name": "2006",
         "type": "bar",
         "x": [
          "Doniphan, KS"
         ],
         "xaxis": "x5",
         "y": [
          110.814
         ],
         "yaxis": "y5"
        },
        {
         "marker": {
          "color": "rgb(227, 119, 194)"
         },
         "name": "2007",
         "type": "bar",
         "x": [
          "Doniphan, KS"
         ],
         "xaxis": "x5",
         "y": [
          132.605
         ],
         "yaxis": "y5"
        },
        {
         "marker": {
          "color": "rgb(127, 127, 127)"
         },
         "name": "2008",
         "type": "bar",
         "x": [
          "Doniphan, KS"
         ],
         "xaxis": "x5",
         "y": [
          128.517
         ],
         "yaxis": "y5"
        },
        {
         "marker": {
          "color": "rgb(188, 189, 34)"
         },
         "name": "2009",
         "type": "bar",
         "x": [
          "Doniphan, KS"
         ],
         "xaxis": "x5",
         "y": [
          126.329
         ],
         "yaxis": "y5"
        },
        {
         "marker": {
          "color": "rgb(23, 190, 207)"
         },
         "name": "2010",
         "type": "bar",
         "x": [
          "Doniphan, KS"
         ],
         "xaxis": "x5",
         "y": [
          105.067
         ],
         "yaxis": "y5"
        },
        {
         "marker": {
          "color": "rgb(31, 119, 180)"
         },
         "name": "2011",
         "type": "bar",
         "x": [
          "Doniphan, KS"
         ],
         "xaxis": "x5",
         "y": [
          108.161
         ],
         "yaxis": "y5"
        },
        {
         "marker": {
          "color": "rgb(255, 127, 14)"
         },
         "name": "2013",
         "type": "bar",
         "x": [
          "Doniphan, KS"
         ],
         "xaxis": "x5",
         "y": [
          111.953
         ],
         "yaxis": "y5"
        },
        {
         "marker": {
          "color": "rgb(44, 160, 44)"
         },
         "name": "2014",
         "type": "bar",
         "x": [
          "Doniphan, KS"
         ],
         "xaxis": "x5",
         "y": [
          104.826
         ],
         "yaxis": "y5"
        },
        {
         "marker": {
          "color": "rgb(214, 39, 40)"
         },
         "name": "2015",
         "type": "bar",
         "x": [
          "Doniphan, KS"
         ],
         "xaxis": "x5",
         "y": [
          116.704
         ],
         "yaxis": "y5"
        },
        {
         "marker": {
          "color": "rgb(148, 103, 189)"
         },
         "name": "2016",
         "type": "bar",
         "x": [
          "Doniphan, KS"
         ],
         "xaxis": "x5",
         "y": [
          106.677
         ],
         "yaxis": "y5"
        },
        {
         "marker": {
          "color": "rgb(140, 86, 75)"
         },
         "name": "2017",
         "type": "bar",
         "x": [
          "Doniphan, KS"
         ],
         "xaxis": "x5",
         "y": [
          114.562
         ],
         "yaxis": "y5"
        },
        {
         "marker": {
          "color": "rgb(227, 119, 194)"
         },
         "name": "2018",
         "type": "bar",
         "x": [
          "Doniphan, KS"
         ],
         "xaxis": "x5",
         "y": [
          106.366
         ],
         "yaxis": "y5"
        },
        {
         "marker": {
          "color": "rgb(127, 127, 127)"
         },
         "name": "2019",
         "type": "bar",
         "x": [
          "Doniphan, KS"
         ],
         "xaxis": "x5",
         "y": [
          119.4
         ],
         "yaxis": "y5"
        },
        {
         "marker": {
          "color": "rgb(188, 189, 34)"
         },
         "name": "2020",
         "type": "bar",
         "x": [
          "Doniphan, KS"
         ],
         "xaxis": "x5",
         "y": [
          107.301
         ],
         "yaxis": "y5"
        },
        {
         "marker": {
          "color": "rgb(23, 190, 207)"
         },
         "name": "2021",
         "type": "bar",
         "x": [
          "Doniphan, KS"
         ],
         "xaxis": "x5",
         "y": [
          107.132
         ],
         "yaxis": "y5"
        }
       ],
       "layout": {
        "barmode": "stack",
        "template": {
         "data": {
          "bar": [
           {
            "error_x": {
             "color": "#2a3f5f"
            },
            "error_y": {
             "color": "#2a3f5f"
            },
            "marker": {
             "line": {
              "color": "#E5ECF6",
              "width": 0.5
             },
             "pattern": {
              "fillmode": "overlay",
              "size": 10,
              "solidity": 0.2
             }
            },
            "type": "bar"
           }
          ],
          "barpolar": [
           {
            "marker": {
             "line": {
              "color": "#E5ECF6",
              "width": 0.5
             },
             "pattern": {
              "fillmode": "overlay",
              "size": 10,
              "solidity": 0.2
             }
            },
            "type": "barpolar"
           }
          ],
          "carpet": [
           {
            "aaxis": {
             "endlinecolor": "#2a3f5f",
             "gridcolor": "white",
             "linecolor": "white",
             "minorgridcolor": "white",
             "startlinecolor": "#2a3f5f"
            },
            "baxis": {
             "endlinecolor": "#2a3f5f",
             "gridcolor": "white",
             "linecolor": "white",
             "minorgridcolor": "white",
             "startlinecolor": "#2a3f5f"
            },
            "type": "carpet"
           }
          ],
          "choropleth": [
           {
            "colorbar": {
             "outlinewidth": 0,
             "ticks": ""
            },
            "type": "choropleth"
           }
          ],
          "contour": [
           {
            "colorbar": {
             "outlinewidth": 0,
             "ticks": ""
            },
            "colorscale": [
             [
              0,
              "#0d0887"
             ],
             [
              0.1111111111111111,
              "#46039f"
             ],
             [
              0.2222222222222222,
              "#7201a8"
             ],
             [
              0.3333333333333333,
              "#9c179e"
             ],
             [
              0.4444444444444444,
              "#bd3786"
             ],
             [
              0.5555555555555556,
              "#d8576b"
             ],
             [
              0.6666666666666666,
              "#ed7953"
             ],
             [
              0.7777777777777778,
              "#fb9f3a"
             ],
             [
              0.8888888888888888,
              "#fdca26"
             ],
             [
              1,
              "#f0f921"
             ]
            ],
            "type": "contour"
           }
          ],
          "contourcarpet": [
           {
            "colorbar": {
             "outlinewidth": 0,
             "ticks": ""
            },
            "type": "contourcarpet"
           }
          ],
          "heatmap": [
           {
            "colorbar": {
             "outlinewidth": 0,
             "ticks": ""
            },
            "colorscale": [
             [
              0,
              "#0d0887"
             ],
             [
              0.1111111111111111,
              "#46039f"
             ],
             [
              0.2222222222222222,
              "#7201a8"
             ],
             [
              0.3333333333333333,
              "#9c179e"
             ],
             [
              0.4444444444444444,
              "#bd3786"
             ],
             [
              0.5555555555555556,
              "#d8576b"
             ],
             [
              0.6666666666666666,
              "#ed7953"
             ],
             [
              0.7777777777777778,
              "#fb9f3a"
             ],
             [
              0.8888888888888888,
              "#fdca26"
             ],
             [
              1,
              "#f0f921"
             ]
            ],
            "type": "heatmap"
           }
          ],
          "heatmapgl": [
           {
            "colorbar": {
             "outlinewidth": 0,
             "ticks": ""
            },
            "colorscale": [
             [
              0,
              "#0d0887"
             ],
             [
              0.1111111111111111,
              "#46039f"
             ],
             [
              0.2222222222222222,
              "#7201a8"
             ],
             [
              0.3333333333333333,
              "#9c179e"
             ],
             [
              0.4444444444444444,
              "#bd3786"
             ],
             [
              0.5555555555555556,
              "#d8576b"
             ],
             [
              0.6666666666666666,
              "#ed7953"
             ],
             [
              0.7777777777777778,
              "#fb9f3a"
             ],
             [
              0.8888888888888888,
              "#fdca26"
             ],
             [
              1,
              "#f0f921"
             ]
            ],
            "type": "heatmapgl"
           }
          ],
          "histogram": [
           {
            "marker": {
             "pattern": {
              "fillmode": "overlay",
              "size": 10,
              "solidity": 0.2
             }
            },
            "type": "histogram"
           }
          ],
          "histogram2d": [
           {
            "colorbar": {
             "outlinewidth": 0,
             "ticks": ""
            },
            "colorscale": [
             [
              0,
              "#0d0887"
             ],
             [
              0.1111111111111111,
              "#46039f"
             ],
             [
              0.2222222222222222,
              "#7201a8"
             ],
             [
              0.3333333333333333,
              "#9c179e"
             ],
             [
              0.4444444444444444,
              "#bd3786"
             ],
             [
              0.5555555555555556,
              "#d8576b"
             ],
             [
              0.6666666666666666,
              "#ed7953"
             ],
             [
              0.7777777777777778,
              "#fb9f3a"
             ],
             [
              0.8888888888888888,
              "#fdca26"
             ],
             [
              1,
              "#f0f921"
             ]
            ],
            "type": "histogram2d"
           }
          ],
          "histogram2dcontour": [
           {
            "colorbar": {
             "outlinewidth": 0,
             "ticks": ""
            },
            "colorscale": [
             [
              0,
              "#0d0887"
             ],
             [
              0.1111111111111111,
              "#46039f"
             ],
             [
              0.2222222222222222,
              "#7201a8"
             ],
             [
              0.3333333333333333,
              "#9c179e"
             ],
             [
              0.4444444444444444,
              "#bd3786"
             ],
             [
              0.5555555555555556,
              "#d8576b"
             ],
             [
              0.6666666666666666,
              "#ed7953"
             ],
             [
              0.7777777777777778,
              "#fb9f3a"
             ],
             [
              0.8888888888888888,
              "#fdca26"
             ],
             [
              1,
              "#f0f921"
             ]
            ],
            "type": "histogram2dcontour"
           }
          ],
          "mesh3d": [
           {
            "colorbar": {
             "outlinewidth": 0,
             "ticks": ""
            },
            "type": "mesh3d"
           }
          ],
          "parcoords": [
           {
            "line": {
             "colorbar": {
              "outlinewidth": 0,
              "ticks": ""
             }
            },
            "type": "parcoords"
           }
          ],
          "pie": [
           {
            "automargin": true,
            "type": "pie"
           }
          ],
          "scatter": [
           {
            "fillpattern": {
             "fillmode": "overlay",
             "size": 10,
             "solidity": 0.2
            },
            "type": "scatter"
           }
          ],
          "scatter3d": [
           {
            "line": {
             "colorbar": {
              "outlinewidth": 0,
              "ticks": ""
             }
            },
            "marker": {
             "colorbar": {
              "outlinewidth": 0,
              "ticks": ""
             }
            },
            "type": "scatter3d"
           }
          ],
          "scattercarpet": [
           {
            "marker": {
             "colorbar": {
              "outlinewidth": 0,
              "ticks": ""
             }
            },
            "type": "scattercarpet"
           }
          ],
          "scattergeo": [
           {
            "marker": {
             "colorbar": {
              "outlinewidth": 0,
              "ticks": ""
             }
            },
            "type": "scattergeo"
           }
          ],
          "scattergl": [
           {
            "marker": {
             "colorbar": {
              "outlinewidth": 0,
              "ticks": ""
             }
            },
            "type": "scattergl"
           }
          ],
          "scattermapbox": [
           {
            "marker": {
             "colorbar": {
              "outlinewidth": 0,
              "ticks": ""
             }
            },
            "type": "scattermapbox"
           }
          ],
          "scatterpolar": [
           {
            "marker": {
             "colorbar": {
              "outlinewidth": 0,
              "ticks": ""
             }
            },
            "type": "scatterpolar"
           }
          ],
          "scatterpolargl": [
           {
            "marker": {
             "colorbar": {
              "outlinewidth": 0,
              "ticks": ""
             }
            },
            "type": "scatterpolargl"
           }
          ],
          "scatterternary": [
           {
            "marker": {
             "colorbar": {
              "outlinewidth": 0,
              "ticks": ""
             }
            },
            "type": "scatterternary"
           }
          ],
          "surface": [
           {
            "colorbar": {
             "outlinewidth": 0,
             "ticks": ""
            },
            "colorscale": [
             [
              0,
              "#0d0887"
             ],
             [
              0.1111111111111111,
              "#46039f"
             ],
             [
              0.2222222222222222,
              "#7201a8"
             ],
             [
              0.3333333333333333,
              "#9c179e"
             ],
             [
              0.4444444444444444,
              "#bd3786"
             ],
             [
              0.5555555555555556,
              "#d8576b"
             ],
             [
              0.6666666666666666,
              "#ed7953"
             ],
             [
              0.7777777777777778,
              "#fb9f3a"
             ],
             [
              0.8888888888888888,
              "#fdca26"
             ],
             [
              1,
              "#f0f921"
             ]
            ],
            "type": "surface"
           }
          ],
          "table": [
           {
            "cells": {
             "fill": {
              "color": "#EBF0F8"
             },
             "line": {
              "color": "white"
             }
            },
            "header": {
             "fill": {
              "color": "#C8D4E3"
             },
             "line": {
              "color": "white"
             }
            },
            "type": "table"
           }
          ]
         },
         "layout": {
          "annotationdefaults": {
           "arrowcolor": "#2a3f5f",
           "arrowhead": 0,
           "arrowwidth": 1
          },
          "autotypenumbers": "strict",
          "coloraxis": {
           "colorbar": {
            "outlinewidth": 0,
            "ticks": ""
           }
          },
          "colorscale": {
           "diverging": [
            [
             0,
             "#8e0152"
            ],
            [
             0.1,
             "#c51b7d"
            ],
            [
             0.2,
             "#de77ae"
            ],
            [
             0.3,
             "#f1b6da"
            ],
            [
             0.4,
             "#fde0ef"
            ],
            [
             0.5,
             "#f7f7f7"
            ],
            [
             0.6,
             "#e6f5d0"
            ],
            [
             0.7,
             "#b8e186"
            ],
            [
             0.8,
             "#7fbc41"
            ],
            [
             0.9,
             "#4d9221"
            ],
            [
             1,
             "#276419"
            ]
           ],
           "sequential": [
            [
             0,
             "#0d0887"
            ],
            [
             0.1111111111111111,
             "#46039f"
            ],
            [
             0.2222222222222222,
             "#7201a8"
            ],
            [
             0.3333333333333333,
             "#9c179e"
            ],
            [
             0.4444444444444444,
             "#bd3786"
            ],
            [
             0.5555555555555556,
             "#d8576b"
            ],
            [
             0.6666666666666666,
             "#ed7953"
            ],
            [
             0.7777777777777778,
             "#fb9f3a"
            ],
            [
             0.8888888888888888,
             "#fdca26"
            ],
            [
             1,
             "#f0f921"
            ]
           ],
           "sequentialminus": [
            [
             0,
             "#0d0887"
            ],
            [
             0.1111111111111111,
             "#46039f"
            ],
            [
             0.2222222222222222,
             "#7201a8"
            ],
            [
             0.3333333333333333,
             "#9c179e"
            ],
            [
             0.4444444444444444,
             "#bd3786"
            ],
            [
             0.5555555555555556,
             "#d8576b"
            ],
            [
             0.6666666666666666,
             "#ed7953"
            ],
            [
             0.7777777777777778,
             "#fb9f3a"
            ],
            [
             0.8888888888888888,
             "#fdca26"
            ],
            [
             1,
             "#f0f921"
            ]
           ]
          },
          "colorway": [
           "#636efa",
           "#EF553B",
           "#00cc96",
           "#ab63fa",
           "#FFA15A",
           "#19d3f3",
           "#FF6692",
           "#B6E880",
           "#FF97FF",
           "#FECB52"
          ],
          "font": {
           "color": "#2a3f5f"
          },
          "geo": {
           "bgcolor": "white",
           "lakecolor": "white",
           "landcolor": "#E5ECF6",
           "showlakes": true,
           "showland": true,
           "subunitcolor": "white"
          },
          "hoverlabel": {
           "align": "left"
          },
          "hovermode": "closest",
          "mapbox": {
           "style": "light"
          },
          "paper_bgcolor": "white",
          "plot_bgcolor": "#E5ECF6",
          "polar": {
           "angularaxis": {
            "gridcolor": "white",
            "linecolor": "white",
            "ticks": ""
           },
           "bgcolor": "#E5ECF6",
           "radialaxis": {
            "gridcolor": "white",
            "linecolor": "white",
            "ticks": ""
           }
          },
          "scene": {
           "xaxis": {
            "backgroundcolor": "#E5ECF6",
            "gridcolor": "white",
            "gridwidth": 2,
            "linecolor": "white",
            "showbackground": true,
            "ticks": "",
            "zerolinecolor": "white"
           },
           "yaxis": {
            "backgroundcolor": "#E5ECF6",
            "gridcolor": "white",
            "gridwidth": 2,
            "linecolor": "white",
            "showbackground": true,
            "ticks": "",
            "zerolinecolor": "white"
           },
           "zaxis": {
            "backgroundcolor": "#E5ECF6",
            "gridcolor": "white",
            "gridwidth": 2,
            "linecolor": "white",
            "showbackground": true,
            "ticks": "",
            "zerolinecolor": "white"
           }
          },
          "shapedefaults": {
           "line": {
            "color": "#2a3f5f"
           }
          },
          "ternary": {
           "aaxis": {
            "gridcolor": "white",
            "linecolor": "white",
            "ticks": ""
           },
           "baxis": {
            "gridcolor": "white",
            "linecolor": "white",
            "ticks": ""
           },
           "bgcolor": "#E5ECF6",
           "caxis": {
            "gridcolor": "white",
            "linecolor": "white",
            "ticks": ""
           }
          },
          "title": {
           "x": 0.05
          },
          "xaxis": {
           "automargin": true,
           "gridcolor": "white",
           "linecolor": "white",
           "ticks": "",
           "title": {
            "standoff": 15
           },
           "zerolinecolor": "white",
           "zerolinewidth": 2
          },
          "yaxis": {
           "automargin": true,
           "gridcolor": "white",
           "linecolor": "white",
           "ticks": "",
           "title": {
            "standoff": 15
           },
           "zerolinecolor": "white",
           "zerolinewidth": 2
          }
         }
        },
        "xaxis": {
         "anchor": "y",
         "domain": [
          0,
          0.45
         ]
        },
        "xaxis2": {
         "anchor": "y2",
         "domain": [
          0.55,
          1
         ]
        },
        "xaxis3": {
         "anchor": "y3",
         "domain": [
          0,
          0.45
         ]
        },
        "xaxis4": {
         "anchor": "y4",
         "domain": [
          0.55,
          1
         ]
        },
        "xaxis5": {
         "anchor": "y5",
         "domain": [
          0,
          0.45
         ]
        },
        "xaxis6": {
         "anchor": "y6",
         "domain": [
          0.55,
          1
         ]
        },
        "yaxis": {
         "anchor": "x",
         "domain": [
          0.7333333333333333,
          1
         ]
        },
        "yaxis2": {
         "anchor": "x2",
         "domain": [
          0.7333333333333333,
          1
         ]
        },
        "yaxis3": {
         "anchor": "x3",
         "domain": [
          0.36666666666666664,
          0.6333333333333333
         ]
        },
        "yaxis4": {
         "anchor": "x4",
         "domain": [
          0.36666666666666664,
          0.6333333333333333
         ]
        },
        "yaxis5": {
         "anchor": "x5",
         "domain": [
          0,
          0.26666666666666666
         ]
        },
        "yaxis6": {
         "anchor": "x6",
         "domain": [
          0,
          0.26666666666666666
         ]
        }
       }
      }
     },
     "metadata": {},
     "output_type": "display_data"
    }
   ],
   "source": [
    "# input what to plot\n",
    "fips = '36061'\n",
    "n_kins = 5\n",
    "variable = \"gdp\"\n",
    "type_of_plot = \"stacked_bar\"\n",
    "\n",
    "# run fips query\n",
    "f  = FipsQuery(20003, outcome_var = \"gdp\",\n",
    "               feature_groups_with_weights= {\"gdp\":0, \"population\":4},\n",
    "               lag = 3, top =10, time_decay = 1.03)\n",
    "f.find_euclidean_kins()\n",
    "kins_df = f.euclidean_kins\n",
    "\n",
    "# pull data\n",
    "path = find_repo_root()\n",
    "variable_df = pd.read_csv(os.path.join(path, \"data/processed/\" + variable + \"_wide.csv\"))\n",
    "\n",
    "# restrict variable_df to GeoFIPS in kins_df\n",
    "df_kins_variable = get_df_kins_variable(n_kins, kins_df, variable_df)\n",
    "\n",
    "# high-level plotting functions\n",
    "[fig, subplot_row_indices, subplot_col_indices] = grid_of_subplots(n_kins, type_of_plot=type_of_plot)\n",
    "[what_to_plot, trace_row_indices, trace_col_indices] = traces_to_plot(df_kins_variable, subplot_row_indices, subplot_col_indices, type_of_plot=type_of_plot)\n",
    "place_traces(fig, trace_row_indices, trace_col_indices, what_to_plot, type_of_plot=type_of_plot)"
   ]
  },
  {
   "cell_type": "code",
   "execution_count": 89,
   "metadata": {},
   "outputs": [],
   "source": [
    "def get_df_kins_variable(n_kins, kins_df, variable_df):\n",
    "    kins_df = kins_df[0:n_kins]\n",
    "    df_kins_variable = variable_df[variable_df[\"GeoFIPS\"].isin(kins_df[\"GeoFIPS\"])]\n",
    "    df_kins_variable = df_kins_variable.reset_index(drop=True)\n",
    "    return df_kins_variable\n",
    "    \n",
    "def grid_of_subplots(n_kins, type_of_plot = \"bar\"):\n",
    "    num_rows = int(np.ceil(np.sqrt(n_kins)))\n",
    "    num_cols = int(np.ceil(n_kins / num_rows))\n",
    "    match type_of_plot:\n",
    "        case \"bar\":\n",
    "            subplot_type = \"bar\"\n",
    "        case \"pie\":\n",
    "            subplot_type = \"pie\"\n",
    "        case \"stacked_bar\":\n",
    "            subplot_type = \"bar\"\n",
    "    fig = make_subplots(rows=num_rows, cols=num_cols, specs=[[{\"type\": subplot_type} for j in range(num_cols)] for i in range(num_rows)])\n",
    "    \n",
    "    subplot_row_indices = [i for i in range(1, num_rows + 1) for j in range(1, num_cols + 1)][:n_kins]\n",
    "    subplot_col_indices = [j for i in range(1, num_rows + 1) for j in range(1, num_cols + 1)][:n_kins]\n",
    "    \n",
    "    return fig, subplot_row_indices, subplot_col_indices\n",
    "\n",
    "def traces_to_plot(df_kins_variable, subplot_row_indices, subplot_col_indices, type_of_plot = \"bar\"):\n",
    "    match type_of_plot:\n",
    "        case \"bar\":\n",
    "            what_to_plot, trace_row_indices, trace_col_indices = traces_to_plot_bar(df_kins_variable, subplot_row_indices, subplot_col_indices)\n",
    "        case \"pie\":\n",
    "            trace = go.Pie(labels = [col], values = [row[col]], name = row[\"GeoName\"],\n",
    "                marker_colors=[color_sequence[color_index % len(color_sequence)]]\n",
    "            )\n",
    "        case \"stacked_bar\":\n",
    "            what_to_plot, trace_row_indices, trace_col_indices = traces_to_plot_bar(df_kins_variable, subplot_row_indices, subplot_col_indices)\n",
    "\n",
    "    return what_to_plot, trace_row_indices, trace_col_indices\n",
    "\n",
    "def traces_to_plot_pie(df_kins_variable, subplot_row_indices, subplot_col_indices):\n",
    "    what_to_plot = []\n",
    "    trace_row_indices = []\n",
    "    trace_col_indices = []\n",
    "    \n",
    "    # find float columns\n",
    "    data_columns = df_kins_variable[df_kins_variable.select_dtypes(include=['float64']).columns]\n",
    "    \n",
    "    # Define your color sequence\n",
    "    # color_sequence = plotly.colors.DEFAULT_PLOTLY_COLORS\n",
    "\n",
    "    for i, row in df_kins_variable.iterrows():\n",
    "        color_index = 0  # Reset color index for each subplot\n",
    "        trace = go.Pie(labels = data_columns, values = row[data_columns], name = row[\"GeoName\"])\n",
    "        what_to_plot.append(trace)\n",
    "        trace_row_indices.append(subplot_row_indices[i])\n",
    "        trace_col_indices.append(subplot_col_indices[i])\n",
    "            # color_index += 1  # Increment color index\n",
    "    return what_to_plot, trace_row_indices, trace_col_indices\n",
    "\n",
    "def traces_to_plot_bar(df_kins_variable, subplot_row_indices, subplot_col_indices, type_of_plot = \"bar\"):\n",
    "    what_to_plot = []\n",
    "    trace_row_indices = []\n",
    "    trace_col_indices = []\n",
    "    \n",
    "    # find float columns\n",
    "    data_columns = df_kins_variable[df_kins_variable.select_dtypes(include=['float64']).columns]\n",
    "    \n",
    "    # Define your color sequence\n",
    "    color_sequence = plotly.colors.DEFAULT_PLOTLY_COLORS\n",
    "\n",
    "    for i, row in df_kins_variable.iterrows():\n",
    "        color_index = 0  # Reset color index for each subplot\n",
    "        for col in data_columns:\n",
    "            trace = go.Bar(x=[row[\"GeoName\"]], y = [row[col]], name = col, \n",
    "                marker_color=color_sequence[color_index % len(color_sequence)]  # Use modulo to cycle through colors\n",
    "            )\n",
    "            what_to_plot.append(trace)\n",
    "            trace_row_indices.append(subplot_row_indices[i])\n",
    "            trace_col_indices.append(subplot_col_indices[i])\n",
    "            color_index += 1  # Increment color index\n",
    "    return what_to_plot, trace_row_indices, trace_col_indices\n",
    "\n",
    "def place_traces(fig, trace_row_indices, trace_col_indices, what_to_plot, type_of_plot = \"bar\"):\n",
    "    for i in range(len(what_to_plot)):\n",
    "        fig.add_trace(what_to_plot[i], row=trace_row_indices[i], col=trace_col_indices[i])\n",
    "    match type_of_plot:\n",
    "        case \"stacked_bar\":\n",
    "            fig.update_layout(barmode='stack')\n",
    "    fig.show()"
   ]
  },
  {
   "cell_type": "code",
   "execution_count": 43,
   "metadata": {},
   "outputs": [
    {
     "data": {
      "text/html": [
       "<div>\n",
       "<style scoped>\n",
       "    .dataframe tbody tr th:only-of-type {\n",
       "        vertical-align: middle;\n",
       "    }\n",
       "\n",
       "    .dataframe tbody tr th {\n",
       "        vertical-align: top;\n",
       "    }\n",
       "\n",
       "    .dataframe thead th {\n",
       "        text-align: right;\n",
       "    }\n",
       "</style>\n",
       "<table border=\"1\" class=\"dataframe\">\n",
       "  <thead>\n",
       "    <tr style=\"text-align: right;\">\n",
       "      <th></th>\n",
       "      <th>GeoFIPS</th>\n",
       "      <th>GeoName</th>\n",
       "      <th>agri_forestry_mining</th>\n",
       "      <th>construction</th>\n",
       "      <th>manufacturing</th>\n",
       "      <th>wholesale_trade</th>\n",
       "      <th>retail_trade</th>\n",
       "      <th>transport_utilities</th>\n",
       "      <th>information</th>\n",
       "      <th>finance_real_estate</th>\n",
       "      <th>prof_sci_mgmt_admin</th>\n",
       "      <th>education_health</th>\n",
       "      <th>arts_entertainment</th>\n",
       "      <th>other_services</th>\n",
       "      <th>public_admin</th>\n",
       "    </tr>\n",
       "  </thead>\n",
       "  <tbody>\n",
       "    <tr>\n",
       "      <th>168</th>\n",
       "      <td>5129</td>\n",
       "      <td>Searcy, AR</td>\n",
       "      <td>0.057143</td>\n",
       "      <td>0.054733</td>\n",
       "      <td>0.172117</td>\n",
       "      <td>0.005508</td>\n",
       "      <td>0.140103</td>\n",
       "      <td>0.065404</td>\n",
       "      <td>0.001721</td>\n",
       "      <td>0.042341</td>\n",
       "      <td>0.050602</td>\n",
       "      <td>0.281928</td>\n",
       "      <td>0.055422</td>\n",
       "      <td>0.017212</td>\n",
       "      <td>0.055766</td>\n",
       "    </tr>\n",
       "    <tr>\n",
       "      <th>468</th>\n",
       "      <td>13181</td>\n",
       "      <td>Lincoln, GA</td>\n",
       "      <td>0.005215</td>\n",
       "      <td>0.117014</td>\n",
       "      <td>0.143090</td>\n",
       "      <td>0.037810</td>\n",
       "      <td>0.079205</td>\n",
       "      <td>0.037810</td>\n",
       "      <td>0.006193</td>\n",
       "      <td>0.024446</td>\n",
       "      <td>0.104954</td>\n",
       "      <td>0.254563</td>\n",
       "      <td>0.070730</td>\n",
       "      <td>0.059322</td>\n",
       "      <td>0.059648</td>\n",
       "    </tr>\n",
       "    <tr>\n",
       "      <th>846</th>\n",
       "      <td>19135</td>\n",
       "      <td>Monroe, IA</td>\n",
       "      <td>0.050723</td>\n",
       "      <td>0.065176</td>\n",
       "      <td>0.213253</td>\n",
       "      <td>0.014453</td>\n",
       "      <td>0.106899</td>\n",
       "      <td>0.045269</td>\n",
       "      <td>0.018816</td>\n",
       "      <td>0.065721</td>\n",
       "      <td>0.033270</td>\n",
       "      <td>0.247614</td>\n",
       "      <td>0.057540</td>\n",
       "      <td>0.046359</td>\n",
       "      <td>0.034906</td>\n",
       "    </tr>\n",
       "    <tr>\n",
       "      <th>879</th>\n",
       "      <td>20003</td>\n",
       "      <td>Anderson, KS</td>\n",
       "      <td>0.083284</td>\n",
       "      <td>0.097264</td>\n",
       "      <td>0.093099</td>\n",
       "      <td>0.036288</td>\n",
       "      <td>0.114218</td>\n",
       "      <td>0.059488</td>\n",
       "      <td>0.017847</td>\n",
       "      <td>0.063355</td>\n",
       "      <td>0.019929</td>\n",
       "      <td>0.278703</td>\n",
       "      <td>0.025580</td>\n",
       "      <td>0.071981</td>\n",
       "      <td>0.038965</td>\n",
       "    </tr>\n",
       "    <tr>\n",
       "      <th>899</th>\n",
       "      <td>20043</td>\n",
       "      <td>Doniphan, KS</td>\n",
       "      <td>0.075592</td>\n",
       "      <td>0.056960</td>\n",
       "      <td>0.180197</td>\n",
       "      <td>0.024754</td>\n",
       "      <td>0.077455</td>\n",
       "      <td>0.054831</td>\n",
       "      <td>0.003460</td>\n",
       "      <td>0.035667</td>\n",
       "      <td>0.048709</td>\n",
       "      <td>0.289327</td>\n",
       "      <td>0.055629</td>\n",
       "      <td>0.050572</td>\n",
       "      <td>0.046846</td>\n",
       "    </tr>\n",
       "  </tbody>\n",
       "</table>\n",
       "</div>"
      ],
      "text/plain": [
       "     GeoFIPS       GeoName  agri_forestry_mining  construction  manufacturing  \\\n",
       "168     5129    Searcy, AR              0.057143      0.054733       0.172117   \n",
       "468    13181   Lincoln, GA              0.005215      0.117014       0.143090   \n",
       "846    19135    Monroe, IA              0.050723      0.065176       0.213253   \n",
       "879    20003  Anderson, KS              0.083284      0.097264       0.093099   \n",
       "899    20043  Doniphan, KS              0.075592      0.056960       0.180197   \n",
       "\n",
       "     wholesale_trade  retail_trade  transport_utilities  information  \\\n",
       "168         0.005508      0.140103             0.065404     0.001721   \n",
       "468         0.037810      0.079205             0.037810     0.006193   \n",
       "846         0.014453      0.106899             0.045269     0.018816   \n",
       "879         0.036288      0.114218             0.059488     0.017847   \n",
       "899         0.024754      0.077455             0.054831     0.003460   \n",
       "\n",
       "     finance_real_estate  prof_sci_mgmt_admin  education_health  \\\n",
       "168             0.042341             0.050602          0.281928   \n",
       "468             0.024446             0.104954          0.254563   \n",
       "846             0.065721             0.033270          0.247614   \n",
       "879             0.063355             0.019929          0.278703   \n",
       "899             0.035667             0.048709          0.289327   \n",
       "\n",
       "     arts_entertainment  other_services  public_admin  \n",
       "168            0.055422        0.017212      0.055766  \n",
       "468            0.070730        0.059322      0.059648  \n",
       "846            0.057540        0.046359      0.034906  \n",
       "879            0.025580        0.071981      0.038965  \n",
       "899            0.055629        0.050572      0.046846  "
      ]
     },
     "execution_count": 43,
     "metadata": {},
     "output_type": "execute_result"
    }
   ],
   "source": [
    "df_kins_variable"
   ]
  },
  {
   "cell_type": "code",
   "execution_count": 95,
   "metadata": {},
   "outputs": [],
   "source": [
    "def plot_categorical(df):\n",
    "    # Create a plotly figure\n",
    "    fig = go.Figure()\n",
    "    \n",
    "    # Loop through each column and add as a trace (bar)\n",
    "    for column in df.columns:\n",
    "        hover_text = [f'<b>{column}</b><br> {round(value*100*10)/10}%' for value in df[column]]\n",
    "        fig.add_trace(go.Bar(\n",
    "            x=df.index, \n",
    "            y=df[column],\n",
    "            name=column,\n",
    "            hovertext=hover_text,\n",
    "            hoverinfo='text'\n",
    "        ))\n",
    "\n",
    "    \n",
    "    # Adjust layout for stacked bar\n",
    "    fig.update_layout(\n",
    "        barmode='stack',\n",
    "    )\n",
    "    # remove axes\n",
    "    fig.update_xaxes(showticklabels=False)\n",
    "    fig.update_yaxes(showticklabels=False)\n",
    "    # Show figure\n",
    "    return fig\n",
    "\n",
    "\n",
    "def plot_timeseries(df):\n",
    "    # Assuming your dataframe is named df\n",
    "    years = df.columns\n",
    "    values = df.values[0]\n",
    "\n",
    "    fig = go.Figure()\n",
    "\n",
    "    fig.add_trace(go.Scatter(x=years, y=values, mode='lines+markers', name='Values'))\n",
    "\n",
    "    fig.update_layout(\n",
    "        title='Time Series Plot',\n",
    "        xaxis_title='Year',\n",
    "        yaxis_title='Value',\n",
    "        xaxis=dict(tickangle=-45)  # Rotating x labels for better readability\n",
    "    )\n",
    "    return fig\n",
    "\n",
    "def plot_kins_stack_hist(df):\n",
    "\n",
    "    # Initialize subplots\n",
    "    fig = go.Figure()\n",
    "\n",
    "    # Loop through each column and add as a trace (bar)\n",
    "    for column in df.columns:\n",
    "        # if float valud \n",
    "        if df[column].dtype == \"float64\":\n",
    "            hover_text = [f'<b>{column}</b><br> {round(value*100*10)/10}%' for value in df[column]]\n",
    "            fig.add_trace(go.Bar(\n",
    "                x = df.index,\n",
    "                y=df[column].values,\n",
    "                name=column,\n",
    "                hovertext=hover_text,\n",
    "                hoverinfo='text'\n",
    "            ))\n",
    "\n",
    "    # Adjust layout for stacked bar\n",
    "    fig.update_layout(\n",
    "        barmode='stack',\n",
    "        # y axis and grid off\n",
    "        yaxis=dict(showgrid=False, showticklabels=False),\n",
    "    )\n",
    "    \n",
    "    return fig\n",
    "\n",
    "def plot_kins_hist(df):\n",
    "    \"\"\"\n",
    "    Create a grid of subplots based on the provided list of plots.\n",
    "\n",
    "    :param plots: A list of go.Figure() objects.\n",
    "    :return: A subplot figure with the provided plots.\n",
    "    \"\"\"\n",
    "    \n",
    "    # Calculate the grid size\n",
    "    total_plots = len(df)\n",
    "    num_rows = int(np.ceil(np.sqrt(total_plots)))\n",
    "    num_cols = int(np.ceil(total_plots / num_rows))\n",
    "\n",
    "    # Define color palette\n",
    "    colors = px.colors.qualitative.Plotly\n",
    "\n",
    "    # Initialize subplots\n",
    "    fig = make_subplots(rows=num_rows, cols=num_cols, shared_xaxes=True)\n",
    "\n",
    "    # Filter the dataframe to get only float64 type columns\n",
    "    data = df[df.select_dtypes(include=['float64']).columns]\n",
    "\n",
    "    # Add each plot to the subplots\n",
    "    for i in range(1, total_plots + 1):\n",
    "        row = (i-1) // num_cols + 1\n",
    "        col = (i-1) % num_cols + 1\n",
    "        # title \n",
    "        fig.update_xaxes(title_text=df.index[i-1], row=row, col=col)\n",
    "\n",
    "        # Generate hover text and add bar plots for each column\n",
    "        for j, column in enumerate(data.columns):\n",
    "            hover_text = [f'<b>{column}</b><br> {round(value*100*10)/10}%' for value in df[column]]\n",
    "            \n",
    "            # Determine if legend should be shown\n",
    "            show_legend = True if i == 1 else False\n",
    "\n",
    "            # Add trace for the current row of data\n",
    "            fig.add_trace(go.Bar(\n",
    "                x=[column],\n",
    "                y=[data.iloc[i-1][column]],\n",
    "                hovertext=hover_text,\n",
    "                hoverinfo='text',\n",
    "                marker_color=colors[j % len(colors)],\n",
    "            ), row=row, col=col)\n",
    "        fig.update_xaxes(showticklabels=False, title_text='hi', row=row, col=col)\n",
    "\n",
    "\n",
    "    return fig\n",
    "\n",
    "\n"
   ]
  },
  {
   "cell_type": "code",
   "execution_count": 96,
   "metadata": {},
   "outputs": [
    {
     "data": {
      "application/vnd.plotly.v1+json": {
       "config": {
        "plotlyServerURL": "https://plot.ly"
       },
       "data": [
        {
         "hoverinfo": "text",
         "hovertext": [
          "<b>agri_forestry_mining</b><br> 5.7%",
          "<b>agri_forestry_mining</b><br> 9.9%",
          "<b>agri_forestry_mining</b><br> 0.5%",
          "<b>agri_forestry_mining</b><br> 5.1%",
          "<b>agri_forestry_mining</b><br> 8.3%",
          "<b>agri_forestry_mining</b><br> 7.6%",
          "<b>agri_forestry_mining</b><br> 2.6%",
          "<b>agri_forestry_mining</b><br> 11.9%",
          "<b>agri_forestry_mining</b><br> 9.5%",
          "<b>agri_forestry_mining</b><br> 10.1%"
         ],
         "marker": {
          "color": "#636EFA"
         },
         "type": "bar",
         "x": [
          "agri_forestry_mining"
         ],
         "xaxis": "x",
         "y": [
          0.0571428571428571
         ],
         "yaxis": "y"
        },
        {
         "hoverinfo": "text",
         "hovertext": [
          "<b>construction</b><br> 5.5%",
          "<b>construction</b><br> 12.4%",
          "<b>construction</b><br> 11.7%",
          "<b>construction</b><br> 6.5%",
          "<b>construction</b><br> 9.7%",
          "<b>construction</b><br> 5.7%",
          "<b>construction</b><br> 11.7%",
          "<b>construction</b><br> 7.6%",
          "<b>construction</b><br> 9.0%",
          "<b>construction</b><br> 9.8%"
         ],
         "marker": {
          "color": "#EF553B"
         },
         "type": "bar",
         "x": [
          "construction"
         ],
         "xaxis": "x",
         "y": [
          0.0547332185886402
         ],
         "yaxis": "y"
        },
        {
         "hoverinfo": "text",
         "hovertext": [
          "<b>manufacturing</b><br> 17.2%",
          "<b>manufacturing</b><br> 3.4%",
          "<b>manufacturing</b><br> 14.3%",
          "<b>manufacturing</b><br> 21.3%",
          "<b>manufacturing</b><br> 9.3%",
          "<b>manufacturing</b><br> 18.0%",
          "<b>manufacturing</b><br> 10.4%",
          "<b>manufacturing</b><br> 10.9%",
          "<b>manufacturing</b><br> 18.5%",
          "<b>manufacturing</b><br> 5.2%"
         ],
         "marker": {
          "color": "#00CC96"
         },
         "type": "bar",
         "x": [
          "manufacturing"
         ],
         "xaxis": "x",
         "y": [
          0.1721170395869191
         ],
         "yaxis": "y"
        },
        {
         "hoverinfo": "text",
         "hovertext": [
          "<b>wholesale_trade</b><br> 0.6%",
          "<b>wholesale_trade</b><br> 1.8%",
          "<b>wholesale_trade</b><br> 3.8%",
          "<b>wholesale_trade</b><br> 1.4%",
          "<b>wholesale_trade</b><br> 3.6%",
          "<b>wholesale_trade</b><br> 2.5%",
          "<b>wholesale_trade</b><br> 2.2%",
          "<b>wholesale_trade</b><br> 0.5%",
          "<b>wholesale_trade</b><br> 5.1%",
          "<b>wholesale_trade</b><br> 1.6%"
         ],
         "marker": {
          "color": "#AB63FA"
         },
         "type": "bar",
         "x": [
          "wholesale_trade"
         ],
         "xaxis": "x",
         "y": [
          0.0055077452667814
         ],
         "yaxis": "y"
        },
        {
         "hoverinfo": "text",
         "hovertext": [
          "<b>retail_trade</b><br> 14.0%",
          "<b>retail_trade</b><br> 6.7%",
          "<b>retail_trade</b><br> 7.9%",
          "<b>retail_trade</b><br> 10.7%",
          "<b>retail_trade</b><br> 11.4%",
          "<b>retail_trade</b><br> 7.7%",
          "<b>retail_trade</b><br> 12.0%",
          "<b>retail_trade</b><br> 10.5%",
          "<b>retail_trade</b><br> 10.8%",
          "<b>retail_trade</b><br> 5.3%"
         ],
         "marker": {
          "color": "#FFA15A"
         },
         "type": "bar",
         "x": [
          "retail_trade"
         ],
         "xaxis": "x",
         "y": [
          0.1401032702237521
         ],
         "yaxis": "y"
        },
        {
         "hoverinfo": "text",
         "hovertext": [
          "<b>transport_utilities</b><br> 6.5%",
          "<b>transport_utilities</b><br> 6.1%",
          "<b>transport_utilities</b><br> 3.8%",
          "<b>transport_utilities</b><br> 4.5%",
          "<b>transport_utilities</b><br> 5.9%",
          "<b>transport_utilities</b><br> 5.5%",
          "<b>transport_utilities</b><br> 11.2%",
          "<b>transport_utilities</b><br> 9.1%",
          "<b>transport_utilities</b><br> 4.5%",
          "<b>transport_utilities</b><br> 9.1%"
         ],
         "marker": {
          "color": "#19D3F3"
         },
         "type": "bar",
         "x": [
          "transport_utilities"
         ],
         "xaxis": "x",
         "y": [
          0.0654044750430292
         ],
         "yaxis": "y"
        },
        {
         "hoverinfo": "text",
         "hovertext": [
          "<b>information</b><br> 0.2%",
          "<b>information</b><br> 0.8%",
          "<b>information</b><br> 0.6%",
          "<b>information</b><br> 1.9%",
          "<b>information</b><br> 1.8%",
          "<b>information</b><br> 0.3%",
          "<b>information</b><br> 0.4%",
          "<b>information</b><br> 1.0%",
          "<b>information</b><br> 0.6%",
          "<b>information</b><br> 1.2%"
         ],
         "marker": {
          "color": "#FF6692"
         },
         "type": "bar",
         "x": [
          "information"
         ],
         "xaxis": "x",
         "y": [
          0.0017211703958691
         ],
         "yaxis": "y"
        },
        {
         "hoverinfo": "text",
         "hovertext": [
          "<b>finance_real_estate</b><br> 4.2%",
          "<b>finance_real_estate</b><br> 5.0%",
          "<b>finance_real_estate</b><br> 2.4%",
          "<b>finance_real_estate</b><br> 6.6%",
          "<b>finance_real_estate</b><br> 6.3%",
          "<b>finance_real_estate</b><br> 3.6%",
          "<b>finance_real_estate</b><br> 3.5%",
          "<b>finance_real_estate</b><br> 4.2%",
          "<b>finance_real_estate</b><br> 3.1%",
          "<b>finance_real_estate</b><br> 5.9%"
         ],
         "marker": {
          "color": "#B6E880"
         },
         "type": "bar",
         "x": [
          "finance_real_estate"
         ],
         "xaxis": "x",
         "y": [
          0.0423407917383821
         ],
         "yaxis": "y"
        },
        {
         "hoverinfo": "text",
         "hovertext": [
          "<b>prof_sci_mgmt_admin</b><br> 5.1%",
          "<b>prof_sci_mgmt_admin</b><br> 5.7%",
          "<b>prof_sci_mgmt_admin</b><br> 10.5%",
          "<b>prof_sci_mgmt_admin</b><br> 3.3%",
          "<b>prof_sci_mgmt_admin</b><br> 2.0%",
          "<b>prof_sci_mgmt_admin</b><br> 4.9%",
          "<b>prof_sci_mgmt_admin</b><br> 9.2%",
          "<b>prof_sci_mgmt_admin</b><br> 5.1%",
          "<b>prof_sci_mgmt_admin</b><br> 4.9%",
          "<b>prof_sci_mgmt_admin</b><br> 6.4%"
         ],
         "marker": {
          "color": "#FF97FF"
         },
         "type": "bar",
         "x": [
          "prof_sci_mgmt_admin"
         ],
         "xaxis": "x",
         "y": [
          0.0506024096385542
         ],
         "yaxis": "y"
        },
        {
         "hoverinfo": "text",
         "hovertext": [
          "<b>education_health</b><br> 28.2%",
          "<b>education_health</b><br> 25.6%",
          "<b>education_health</b><br> 25.5%",
          "<b>education_health</b><br> 24.8%",
          "<b>education_health</b><br> 27.9%",
          "<b>education_health</b><br> 28.9%",
          "<b>education_health</b><br> 21.8%",
          "<b>education_health</b><br> 23.9%",
          "<b>education_health</b><br> 19.3%",
          "<b>education_health</b><br> 18.3%"
         ],
         "marker": {
          "color": "#FECB52"
         },
         "type": "bar",
         "x": [
          "education_health"
         ],
         "xaxis": "x",
         "y": [
          0.2819277108433735
         ],
         "yaxis": "y"
        },
        {
         "hoverinfo": "text",
         "hovertext": [
          "<b>arts_entertainment</b><br> 5.5%",
          "<b>arts_entertainment</b><br> 10.4%",
          "<b>arts_entertainment</b><br> 7.1%",
          "<b>arts_entertainment</b><br> 5.8%",
          "<b>arts_entertainment</b><br> 2.6%",
          "<b>arts_entertainment</b><br> 5.6%",
          "<b>arts_entertainment</b><br> 6.5%",
          "<b>arts_entertainment</b><br> 6.6%",
          "<b>arts_entertainment</b><br> 3.9%",
          "<b>arts_entertainment</b><br> 11.3%"
         ],
         "marker": {
          "color": "#636EFA"
         },
         "type": "bar",
         "x": [
          "arts_entertainment"
         ],
         "xaxis": "x",
         "y": [
          0.0554216867469879
         ],
         "yaxis": "y"
        },
        {
         "hoverinfo": "text",
         "hovertext": [
          "<b>other_services</b><br> 1.7%",
          "<b>other_services</b><br> 5.4%",
          "<b>other_services</b><br> 5.9%",
          "<b>other_services</b><br> 4.6%",
          "<b>other_services</b><br> 7.2%",
          "<b>other_services</b><br> 5.1%",
          "<b>other_services</b><br> 5.6%",
          "<b>other_services</b><br> 6.7%",
          "<b>other_services</b><br> 7.0%",
          "<b>other_services</b><br> 7.5%"
         ],
         "marker": {
          "color": "#EF553B"
         },
         "type": "bar",
         "x": [
          "other_services"
         ],
         "xaxis": "x",
         "y": [
          0.0172117039586919
         ],
         "yaxis": "y"
        },
        {
         "hoverinfo": "text",
         "hovertext": [
          "<b>public_admin</b><br> 5.6%",
          "<b>public_admin</b><br> 6.9%",
          "<b>public_admin</b><br> 6.0%",
          "<b>public_admin</b><br> 3.5%",
          "<b>public_admin</b><br> 3.9%",
          "<b>public_admin</b><br> 4.7%",
          "<b>public_admin</b><br> 3.1%",
          "<b>public_admin</b><br> 2.2%",
          "<b>public_admin</b><br> 3.6%",
          "<b>public_admin</b><br> 8.2%"
         ],
         "marker": {
          "color": "#00CC96"
         },
         "type": "bar",
         "x": [
          "public_admin"
         ],
         "xaxis": "x",
         "y": [
          0.0557659208261617
         ],
         "yaxis": "y"
        },
        {
         "hoverinfo": "text",
         "hovertext": [
          "<b>agri_forestry_mining</b><br> 5.7%",
          "<b>agri_forestry_mining</b><br> 9.9%",
          "<b>agri_forestry_mining</b><br> 0.5%",
          "<b>agri_forestry_mining</b><br> 5.1%",
          "<b>agri_forestry_mining</b><br> 8.3%",
          "<b>agri_forestry_mining</b><br> 7.6%",
          "<b>agri_forestry_mining</b><br> 2.6%",
          "<b>agri_forestry_mining</b><br> 11.9%",
          "<b>agri_forestry_mining</b><br> 9.5%",
          "<b>agri_forestry_mining</b><br> 10.1%"
         ],
         "marker": {
          "color": "#636EFA"
         },
         "type": "bar",
         "x": [
          "agri_forestry_mining"
         ],
         "xaxis": "x2",
         "y": [
          0.0993548387096774
         ],
         "yaxis": "y2"
        },
        {
         "hoverinfo": "text",
         "hovertext": [
          "<b>construction</b><br> 5.5%",
          "<b>construction</b><br> 12.4%",
          "<b>construction</b><br> 11.7%",
          "<b>construction</b><br> 6.5%",
          "<b>construction</b><br> 9.7%",
          "<b>construction</b><br> 5.7%",
          "<b>construction</b><br> 11.7%",
          "<b>construction</b><br> 7.6%",
          "<b>construction</b><br> 9.0%",
          "<b>construction</b><br> 9.8%"
         ],
         "marker": {
          "color": "#EF553B"
         },
         "type": "bar",
         "x": [
          "construction"
         ],
         "xaxis": "x2",
         "y": [
          0.1235483870967742
         ],
         "yaxis": "y2"
        },
        {
         "hoverinfo": "text",
         "hovertext": [
          "<b>manufacturing</b><br> 17.2%",
          "<b>manufacturing</b><br> 3.4%",
          "<b>manufacturing</b><br> 14.3%",
          "<b>manufacturing</b><br> 21.3%",
          "<b>manufacturing</b><br> 9.3%",
          "<b>manufacturing</b><br> 18.0%",
          "<b>manufacturing</b><br> 10.4%",
          "<b>manufacturing</b><br> 10.9%",
          "<b>manufacturing</b><br> 18.5%",
          "<b>manufacturing</b><br> 5.2%"
         ],
         "marker": {
          "color": "#00CC96"
         },
         "type": "bar",
         "x": [
          "manufacturing"
         ],
         "xaxis": "x2",
         "y": [
          0.0335483870967741
         ],
         "yaxis": "y2"
        },
        {
         "hoverinfo": "text",
         "hovertext": [
          "<b>wholesale_trade</b><br> 0.6%",
          "<b>wholesale_trade</b><br> 1.8%",
          "<b>wholesale_trade</b><br> 3.8%",
          "<b>wholesale_trade</b><br> 1.4%",
          "<b>wholesale_trade</b><br> 3.6%",
          "<b>wholesale_trade</b><br> 2.5%",
          "<b>wholesale_trade</b><br> 2.2%",
          "<b>wholesale_trade</b><br> 0.5%",
          "<b>wholesale_trade</b><br> 5.1%",
          "<b>wholesale_trade</b><br> 1.6%"
         ],
         "marker": {
          "color": "#AB63FA"
         },
         "type": "bar",
         "x": [
          "wholesale_trade"
         ],
         "xaxis": "x2",
         "y": [
          0.0183870967741935
         ],
         "yaxis": "y2"
        },
        {
         "hoverinfo": "text",
         "hovertext": [
          "<b>retail_trade</b><br> 14.0%",
          "<b>retail_trade</b><br> 6.7%",
          "<b>retail_trade</b><br> 7.9%",
          "<b>retail_trade</b><br> 10.7%",
          "<b>retail_trade</b><br> 11.4%",
          "<b>retail_trade</b><br> 7.7%",
          "<b>retail_trade</b><br> 12.0%",
          "<b>retail_trade</b><br> 10.5%",
          "<b>retail_trade</b><br> 10.8%",
          "<b>retail_trade</b><br> 5.3%"
         ],
         "marker": {
          "color": "#FFA15A"
         },
         "type": "bar",
         "x": [
          "retail_trade"
         ],
         "xaxis": "x2",
         "y": [
          0.0670967741935483
         ],
         "yaxis": "y2"
        },
        {
         "hoverinfo": "text",
         "hovertext": [
          "<b>transport_utilities</b><br> 6.5%",
          "<b>transport_utilities</b><br> 6.1%",
          "<b>transport_utilities</b><br> 3.8%",
          "<b>transport_utilities</b><br> 4.5%",
          "<b>transport_utilities</b><br> 5.9%",
          "<b>transport_utilities</b><br> 5.5%",
          "<b>transport_utilities</b><br> 11.2%",
          "<b>transport_utilities</b><br> 9.1%",
          "<b>transport_utilities</b><br> 4.5%",
          "<b>transport_utilities</b><br> 9.1%"
         ],
         "marker": {
          "color": "#19D3F3"
         },
         "type": "bar",
         "x": [
          "transport_utilities"
         ],
         "xaxis": "x2",
         "y": [
          0.0612903225806451
         ],
         "yaxis": "y2"
        },
        {
         "hoverinfo": "text",
         "hovertext": [
          "<b>information</b><br> 0.2%",
          "<b>information</b><br> 0.8%",
          "<b>information</b><br> 0.6%",
          "<b>information</b><br> 1.9%",
          "<b>information</b><br> 1.8%",
          "<b>information</b><br> 0.3%",
          "<b>information</b><br> 0.4%",
          "<b>information</b><br> 1.0%",
          "<b>information</b><br> 0.6%",
          "<b>information</b><br> 1.2%"
         ],
         "marker": {
          "color": "#FF6692"
         },
         "type": "bar",
         "x": [
          "information"
         ],
         "xaxis": "x2",
         "y": [
          0.0077419354838709
         ],
         "yaxis": "y2"
        },
        {
         "hoverinfo": "text",
         "hovertext": [
          "<b>finance_real_estate</b><br> 4.2%",
          "<b>finance_real_estate</b><br> 5.0%",
          "<b>finance_real_estate</b><br> 2.4%",
          "<b>finance_real_estate</b><br> 6.6%",
          "<b>finance_real_estate</b><br> 6.3%",
          "<b>finance_real_estate</b><br> 3.6%",
          "<b>finance_real_estate</b><br> 3.5%",
          "<b>finance_real_estate</b><br> 4.2%",
          "<b>finance_real_estate</b><br> 3.1%",
          "<b>finance_real_estate</b><br> 5.9%"
         ],
         "marker": {
          "color": "#B6E880"
         },
         "type": "bar",
         "x": [
          "finance_real_estate"
         ],
         "xaxis": "x2",
         "y": [
          0.0496774193548387
         ],
         "yaxis": "y2"
        },
        {
         "hoverinfo": "text",
         "hovertext": [
          "<b>prof_sci_mgmt_admin</b><br> 5.1%",
          "<b>prof_sci_mgmt_admin</b><br> 5.7%",
          "<b>prof_sci_mgmt_admin</b><br> 10.5%",
          "<b>prof_sci_mgmt_admin</b><br> 3.3%",
          "<b>prof_sci_mgmt_admin</b><br> 2.0%",
          "<b>prof_sci_mgmt_admin</b><br> 4.9%",
          "<b>prof_sci_mgmt_admin</b><br> 9.2%",
          "<b>prof_sci_mgmt_admin</b><br> 5.1%",
          "<b>prof_sci_mgmt_admin</b><br> 4.9%",
          "<b>prof_sci_mgmt_admin</b><br> 6.4%"
         ],
         "marker": {
          "color": "#FF97FF"
         },
         "type": "bar",
         "x": [
          "prof_sci_mgmt_admin"
         ],
         "xaxis": "x2",
         "y": [
          0.0567741935483871
         ],
         "yaxis": "y2"
        },
        {
         "hoverinfo": "text",
         "hovertext": [
          "<b>education_health</b><br> 28.2%",
          "<b>education_health</b><br> 25.6%",
          "<b>education_health</b><br> 25.5%",
          "<b>education_health</b><br> 24.8%",
          "<b>education_health</b><br> 27.9%",
          "<b>education_health</b><br> 28.9%",
          "<b>education_health</b><br> 21.8%",
          "<b>education_health</b><br> 23.9%",
          "<b>education_health</b><br> 19.3%",
          "<b>education_health</b><br> 18.3%"
         ],
         "marker": {
          "color": "#FECB52"
         },
         "type": "bar",
         "x": [
          "education_health"
         ],
         "xaxis": "x2",
         "y": [
          0.2558064516129032
         ],
         "yaxis": "y2"
        },
        {
         "hoverinfo": "text",
         "hovertext": [
          "<b>arts_entertainment</b><br> 5.5%",
          "<b>arts_entertainment</b><br> 10.4%",
          "<b>arts_entertainment</b><br> 7.1%",
          "<b>arts_entertainment</b><br> 5.8%",
          "<b>arts_entertainment</b><br> 2.6%",
          "<b>arts_entertainment</b><br> 5.6%",
          "<b>arts_entertainment</b><br> 6.5%",
          "<b>arts_entertainment</b><br> 6.6%",
          "<b>arts_entertainment</b><br> 3.9%",
          "<b>arts_entertainment</b><br> 11.3%"
         ],
         "marker": {
          "color": "#636EFA"
         },
         "type": "bar",
         "x": [
          "arts_entertainment"
         ],
         "xaxis": "x2",
         "y": [
          0.1038709677419354
         ],
         "yaxis": "y2"
        },
        {
         "hoverinfo": "text",
         "hovertext": [
          "<b>other_services</b><br> 1.7%",
          "<b>other_services</b><br> 5.4%",
          "<b>other_services</b><br> 5.9%",
          "<b>other_services</b><br> 4.6%",
          "<b>other_services</b><br> 7.2%",
          "<b>other_services</b><br> 5.1%",
          "<b>other_services</b><br> 5.6%",
          "<b>other_services</b><br> 6.7%",
          "<b>other_services</b><br> 7.0%",
          "<b>other_services</b><br> 7.5%"
         ],
         "marker": {
          "color": "#EF553B"
         },
         "type": "bar",
         "x": [
          "other_services"
         ],
         "xaxis": "x2",
         "y": [
          0.0535483870967741
         ],
         "yaxis": "y2"
        },
        {
         "hoverinfo": "text",
         "hovertext": [
          "<b>public_admin</b><br> 5.6%",
          "<b>public_admin</b><br> 6.9%",
          "<b>public_admin</b><br> 6.0%",
          "<b>public_admin</b><br> 3.5%",
          "<b>public_admin</b><br> 3.9%",
          "<b>public_admin</b><br> 4.7%",
          "<b>public_admin</b><br> 3.1%",
          "<b>public_admin</b><br> 2.2%",
          "<b>public_admin</b><br> 3.6%",
          "<b>public_admin</b><br> 8.2%"
         ],
         "marker": {
          "color": "#00CC96"
         },
         "type": "bar",
         "x": [
          "public_admin"
         ],
         "xaxis": "x2",
         "y": [
          0.0693548387096774
         ],
         "yaxis": "y2"
        },
        {
         "hoverinfo": "text",
         "hovertext": [
          "<b>agri_forestry_mining</b><br> 5.7%",
          "<b>agri_forestry_mining</b><br> 9.9%",
          "<b>agri_forestry_mining</b><br> 0.5%",
          "<b>agri_forestry_mining</b><br> 5.1%",
          "<b>agri_forestry_mining</b><br> 8.3%",
          "<b>agri_forestry_mining</b><br> 7.6%",
          "<b>agri_forestry_mining</b><br> 2.6%",
          "<b>agri_forestry_mining</b><br> 11.9%",
          "<b>agri_forestry_mining</b><br> 9.5%",
          "<b>agri_forestry_mining</b><br> 10.1%"
         ],
         "marker": {
          "color": "#636EFA"
         },
         "type": "bar",
         "x": [
          "agri_forestry_mining"
         ],
         "xaxis": "x3",
         "y": [
          0.0052151238591916
         ],
         "yaxis": "y3"
        },
        {
         "hoverinfo": "text",
         "hovertext": [
          "<b>construction</b><br> 5.5%",
          "<b>construction</b><br> 12.4%",
          "<b>construction</b><br> 11.7%",
          "<b>construction</b><br> 6.5%",
          "<b>construction</b><br> 9.7%",
          "<b>construction</b><br> 5.7%",
          "<b>construction</b><br> 11.7%",
          "<b>construction</b><br> 7.6%",
          "<b>construction</b><br> 9.0%",
          "<b>construction</b><br> 9.8%"
         ],
         "marker": {
          "color": "#EF553B"
         },
         "type": "bar",
         "x": [
          "construction"
         ],
         "xaxis": "x3",
         "y": [
          0.1170143415906127
         ],
         "yaxis": "y3"
        },
        {
         "hoverinfo": "text",
         "hovertext": [
          "<b>manufacturing</b><br> 17.2%",
          "<b>manufacturing</b><br> 3.4%",
          "<b>manufacturing</b><br> 14.3%",
          "<b>manufacturing</b><br> 21.3%",
          "<b>manufacturing</b><br> 9.3%",
          "<b>manufacturing</b><br> 18.0%",
          "<b>manufacturing</b><br> 10.4%",
          "<b>manufacturing</b><br> 10.9%",
          "<b>manufacturing</b><br> 18.5%",
          "<b>manufacturing</b><br> 5.2%"
         ],
         "marker": {
          "color": "#00CC96"
         },
         "type": "bar",
         "x": [
          "manufacturing"
         ],
         "xaxis": "x3",
         "y": [
          0.143089960886571
         ],
         "yaxis": "y3"
        },
        {
         "hoverinfo": "text",
         "hovertext": [
          "<b>wholesale_trade</b><br> 0.6%",
          "<b>wholesale_trade</b><br> 1.8%",
          "<b>wholesale_trade</b><br> 3.8%",
          "<b>wholesale_trade</b><br> 1.4%",
          "<b>wholesale_trade</b><br> 3.6%",
          "<b>wholesale_trade</b><br> 2.5%",
          "<b>wholesale_trade</b><br> 2.2%",
          "<b>wholesale_trade</b><br> 0.5%",
          "<b>wholesale_trade</b><br> 5.1%",
          "<b>wholesale_trade</b><br> 1.6%"
         ],
         "marker": {
          "color": "#AB63FA"
         },
         "type": "bar",
         "x": [
          "wholesale_trade"
         ],
         "xaxis": "x3",
         "y": [
          0.0378096479791395
         ],
         "yaxis": "y3"
        },
        {
         "hoverinfo": "text",
         "hovertext": [
          "<b>retail_trade</b><br> 14.0%",
          "<b>retail_trade</b><br> 6.7%",
          "<b>retail_trade</b><br> 7.9%",
          "<b>retail_trade</b><br> 10.7%",
          "<b>retail_trade</b><br> 11.4%",
          "<b>retail_trade</b><br> 7.7%",
          "<b>retail_trade</b><br> 12.0%",
          "<b>retail_trade</b><br> 10.5%",
          "<b>retail_trade</b><br> 10.8%",
          "<b>retail_trade</b><br> 5.3%"
         ],
         "marker": {
          "color": "#FFA15A"
         },
         "type": "bar",
         "x": [
          "retail_trade"
         ],
         "xaxis": "x3",
         "y": [
          0.0792046936114732
         ],
         "yaxis": "y3"
        },
        {
         "hoverinfo": "text",
         "hovertext": [
          "<b>transport_utilities</b><br> 6.5%",
          "<b>transport_utilities</b><br> 6.1%",
          "<b>transport_utilities</b><br> 3.8%",
          "<b>transport_utilities</b><br> 4.5%",
          "<b>transport_utilities</b><br> 5.9%",
          "<b>transport_utilities</b><br> 5.5%",
          "<b>transport_utilities</b><br> 11.2%",
          "<b>transport_utilities</b><br> 9.1%",
          "<b>transport_utilities</b><br> 4.5%",
          "<b>transport_utilities</b><br> 9.1%"
         ],
         "marker": {
          "color": "#19D3F3"
         },
         "type": "bar",
         "x": [
          "transport_utilities"
         ],
         "xaxis": "x3",
         "y": [
          0.0378096479791395
         ],
         "yaxis": "y3"
        },
        {
         "hoverinfo": "text",
         "hovertext": [
          "<b>information</b><br> 0.2%",
          "<b>information</b><br> 0.8%",
          "<b>information</b><br> 0.6%",
          "<b>information</b><br> 1.9%",
          "<b>information</b><br> 1.8%",
          "<b>information</b><br> 0.3%",
          "<b>information</b><br> 0.4%",
          "<b>information</b><br> 1.0%",
          "<b>information</b><br> 0.6%",
          "<b>information</b><br> 1.2%"
         ],
         "marker": {
          "color": "#FF6692"
         },
         "type": "bar",
         "x": [
          "information"
         ],
         "xaxis": "x3",
         "y": [
          0.00619295958279
         ],
         "yaxis": "y3"
        },
        {
         "hoverinfo": "text",
         "hovertext": [
          "<b>finance_real_estate</b><br> 4.2%",
          "<b>finance_real_estate</b><br> 5.0%",
          "<b>finance_real_estate</b><br> 2.4%",
          "<b>finance_real_estate</b><br> 6.6%",
          "<b>finance_real_estate</b><br> 6.3%",
          "<b>finance_real_estate</b><br> 3.6%",
          "<b>finance_real_estate</b><br> 3.5%",
          "<b>finance_real_estate</b><br> 4.2%",
          "<b>finance_real_estate</b><br> 3.1%",
          "<b>finance_real_estate</b><br> 5.9%"
         ],
         "marker": {
          "color": "#B6E880"
         },
         "type": "bar",
         "x": [
          "finance_real_estate"
         ],
         "xaxis": "x3",
         "y": [
          0.0244458930899608
         ],
         "yaxis": "y3"
        },
        {
         "hoverinfo": "text",
         "hovertext": [
          "<b>prof_sci_mgmt_admin</b><br> 5.1%",
          "<b>prof_sci_mgmt_admin</b><br> 5.7%",
          "<b>prof_sci_mgmt_admin</b><br> 10.5%",
          "<b>prof_sci_mgmt_admin</b><br> 3.3%",
          "<b>prof_sci_mgmt_admin</b><br> 2.0%",
          "<b>prof_sci_mgmt_admin</b><br> 4.9%",
          "<b>prof_sci_mgmt_admin</b><br> 9.2%",
          "<b>prof_sci_mgmt_admin</b><br> 5.1%",
          "<b>prof_sci_mgmt_admin</b><br> 4.9%",
          "<b>prof_sci_mgmt_admin</b><br> 6.4%"
         ],
         "marker": {
          "color": "#FF97FF"
         },
         "type": "bar",
         "x": [
          "prof_sci_mgmt_admin"
         ],
         "xaxis": "x3",
         "y": [
          0.104954367666232
         ],
         "yaxis": "y3"
        },
        {
         "hoverinfo": "text",
         "hovertext": [
          "<b>education_health</b><br> 28.2%",
          "<b>education_health</b><br> 25.6%",
          "<b>education_health</b><br> 25.5%",
          "<b>education_health</b><br> 24.8%",
          "<b>education_health</b><br> 27.9%",
          "<b>education_health</b><br> 28.9%",
          "<b>education_health</b><br> 21.8%",
          "<b>education_health</b><br> 23.9%",
          "<b>education_health</b><br> 19.3%",
          "<b>education_health</b><br> 18.3%"
         ],
         "marker": {
          "color": "#FECB52"
         },
         "type": "bar",
         "x": [
          "education_health"
         ],
         "xaxis": "x3",
         "y": [
          0.2545632333767927
         ],
         "yaxis": "y3"
        },
        {
         "hoverinfo": "text",
         "hovertext": [
          "<b>arts_entertainment</b><br> 5.5%",
          "<b>arts_entertainment</b><br> 10.4%",
          "<b>arts_entertainment</b><br> 7.1%",
          "<b>arts_entertainment</b><br> 5.8%",
          "<b>arts_entertainment</b><br> 2.6%",
          "<b>arts_entertainment</b><br> 5.6%",
          "<b>arts_entertainment</b><br> 6.5%",
          "<b>arts_entertainment</b><br> 6.6%",
          "<b>arts_entertainment</b><br> 3.9%",
          "<b>arts_entertainment</b><br> 11.3%"
         ],
         "marker": {
          "color": "#636EFA"
         },
         "type": "bar",
         "x": [
          "arts_entertainment"
         ],
         "xaxis": "x3",
         "y": [
          0.0707301173402868
         ],
         "yaxis": "y3"
        },
        {
         "hoverinfo": "text",
         "hovertext": [
          "<b>other_services</b><br> 1.7%",
          "<b>other_services</b><br> 5.4%",
          "<b>other_services</b><br> 5.9%",
          "<b>other_services</b><br> 4.6%",
          "<b>other_services</b><br> 7.2%",
          "<b>other_services</b><br> 5.1%",
          "<b>other_services</b><br> 5.6%",
          "<b>other_services</b><br> 6.7%",
          "<b>other_services</b><br> 7.0%",
          "<b>other_services</b><br> 7.5%"
         ],
         "marker": {
          "color": "#EF553B"
         },
         "type": "bar",
         "x": [
          "other_services"
         ],
         "xaxis": "x3",
         "y": [
          0.059322033898305
         ],
         "yaxis": "y3"
        },
        {
         "hoverinfo": "text",
         "hovertext": [
          "<b>public_admin</b><br> 5.6%",
          "<b>public_admin</b><br> 6.9%",
          "<b>public_admin</b><br> 6.0%",
          "<b>public_admin</b><br> 3.5%",
          "<b>public_admin</b><br> 3.9%",
          "<b>public_admin</b><br> 4.7%",
          "<b>public_admin</b><br> 3.1%",
          "<b>public_admin</b><br> 2.2%",
          "<b>public_admin</b><br> 3.6%",
          "<b>public_admin</b><br> 8.2%"
         ],
         "marker": {
          "color": "#00CC96"
         },
         "type": "bar",
         "x": [
          "public_admin"
         ],
         "xaxis": "x3",
         "y": [
          0.0596479791395045
         ],
         "yaxis": "y3"
        },
        {
         "hoverinfo": "text",
         "hovertext": [
          "<b>agri_forestry_mining</b><br> 5.7%",
          "<b>agri_forestry_mining</b><br> 9.9%",
          "<b>agri_forestry_mining</b><br> 0.5%",
          "<b>agri_forestry_mining</b><br> 5.1%",
          "<b>agri_forestry_mining</b><br> 8.3%",
          "<b>agri_forestry_mining</b><br> 7.6%",
          "<b>agri_forestry_mining</b><br> 2.6%",
          "<b>agri_forestry_mining</b><br> 11.9%",
          "<b>agri_forestry_mining</b><br> 9.5%",
          "<b>agri_forestry_mining</b><br> 10.1%"
         ],
         "marker": {
          "color": "#636EFA"
         },
         "type": "bar",
         "x": [
          "agri_forestry_mining"
         ],
         "xaxis": "x4",
         "y": [
          0.0507226615762203
         ],
         "yaxis": "y4"
        },
        {
         "hoverinfo": "text",
         "hovertext": [
          "<b>construction</b><br> 5.5%",
          "<b>construction</b><br> 12.4%",
          "<b>construction</b><br> 11.7%",
          "<b>construction</b><br> 6.5%",
          "<b>construction</b><br> 9.7%",
          "<b>construction</b><br> 5.7%",
          "<b>construction</b><br> 11.7%",
          "<b>construction</b><br> 7.6%",
          "<b>construction</b><br> 9.0%",
          "<b>construction</b><br> 9.8%"
         ],
         "marker": {
          "color": "#EF553B"
         },
         "type": "bar",
         "x": [
          "construction"
         ],
         "xaxis": "x4",
         "y": [
          0.0651758931006272
         ],
         "yaxis": "y4"
        },
        {
         "hoverinfo": "text",
         "hovertext": [
          "<b>manufacturing</b><br> 17.2%",
          "<b>manufacturing</b><br> 3.4%",
          "<b>manufacturing</b><br> 14.3%",
          "<b>manufacturing</b><br> 21.3%",
          "<b>manufacturing</b><br> 9.3%",
          "<b>manufacturing</b><br> 18.0%",
          "<b>manufacturing</b><br> 10.4%",
          "<b>manufacturing</b><br> 10.9%",
          "<b>manufacturing</b><br> 18.5%",
          "<b>manufacturing</b><br> 5.2%"
         ],
         "marker": {
          "color": "#00CC96"
         },
         "type": "bar",
         "x": [
          "manufacturing"
         ],
         "xaxis": "x4",
         "y": [
          0.2132533406053995
         ],
         "yaxis": "y4"
        },
        {
         "hoverinfo": "text",
         "hovertext": [
          "<b>wholesale_trade</b><br> 0.6%",
          "<b>wholesale_trade</b><br> 1.8%",
          "<b>wholesale_trade</b><br> 3.8%",
          "<b>wholesale_trade</b><br> 1.4%",
          "<b>wholesale_trade</b><br> 3.6%",
          "<b>wholesale_trade</b><br> 2.5%",
          "<b>wholesale_trade</b><br> 2.2%",
          "<b>wholesale_trade</b><br> 0.5%",
          "<b>wholesale_trade</b><br> 5.1%",
          "<b>wholesale_trade</b><br> 1.6%"
         ],
         "marker": {
          "color": "#AB63FA"
         },
         "type": "bar",
         "x": [
          "wholesale_trade"
         ],
         "xaxis": "x4",
         "y": [
          0.0144532315244068
         ],
         "yaxis": "y4"
        },
        {
         "hoverinfo": "text",
         "hovertext": [
          "<b>retail_trade</b><br> 14.0%",
          "<b>retail_trade</b><br> 6.7%",
          "<b>retail_trade</b><br> 7.9%",
          "<b>retail_trade</b><br> 10.7%",
          "<b>retail_trade</b><br> 11.4%",
          "<b>retail_trade</b><br> 7.7%",
          "<b>retail_trade</b><br> 12.0%",
          "<b>retail_trade</b><br> 10.5%",
          "<b>retail_trade</b><br> 10.8%",
          "<b>retail_trade</b><br> 5.3%"
         ],
         "marker": {
          "color": "#FFA15A"
         },
         "type": "bar",
         "x": [
          "retail_trade"
         ],
         "xaxis": "x4",
         "y": [
          0.1068993727842923
         ],
         "yaxis": "y4"
        },
        {
         "hoverinfo": "text",
         "hovertext": [
          "<b>transport_utilities</b><br> 6.5%",
          "<b>transport_utilities</b><br> 6.1%",
          "<b>transport_utilities</b><br> 3.8%",
          "<b>transport_utilities</b><br> 4.5%",
          "<b>transport_utilities</b><br> 5.9%",
          "<b>transport_utilities</b><br> 5.5%",
          "<b>transport_utilities</b><br> 11.2%",
          "<b>transport_utilities</b><br> 9.1%",
          "<b>transport_utilities</b><br> 4.5%",
          "<b>transport_utilities</b><br> 9.1%"
         ],
         "marker": {
          "color": "#19D3F3"
         },
         "type": "bar",
         "x": [
          "transport_utilities"
         ],
         "xaxis": "x4",
         "y": [
          0.0452686119443686
         ],
         "yaxis": "y4"
        },
        {
         "hoverinfo": "text",
         "hovertext": [
          "<b>information</b><br> 0.2%",
          "<b>information</b><br> 0.8%",
          "<b>information</b><br> 0.6%",
          "<b>information</b><br> 1.9%",
          "<b>information</b><br> 1.8%",
          "<b>information</b><br> 0.3%",
          "<b>information</b><br> 0.4%",
          "<b>information</b><br> 1.0%",
          "<b>information</b><br> 0.6%",
          "<b>information</b><br> 1.2%"
         ],
         "marker": {
          "color": "#FF6692"
         },
         "type": "bar",
         "x": [
          "information"
         ],
         "xaxis": "x4",
         "y": [
          0.0188164712298881
         ],
         "yaxis": "y4"
        },
        {
         "hoverinfo": "text",
         "hovertext": [
          "<b>finance_real_estate</b><br> 4.2%",
          "<b>finance_real_estate</b><br> 5.0%",
          "<b>finance_real_estate</b><br> 2.4%",
          "<b>finance_real_estate</b><br> 6.6%",
          "<b>finance_real_estate</b><br> 6.3%",
          "<b>finance_real_estate</b><br> 3.6%",
          "<b>finance_real_estate</b><br> 3.5%",
          "<b>finance_real_estate</b><br> 4.2%",
          "<b>finance_real_estate</b><br> 3.1%",
          "<b>finance_real_estate</b><br> 5.9%"
         ],
         "marker": {
          "color": "#B6E880"
         },
         "type": "bar",
         "x": [
          "finance_real_estate"
         ],
         "xaxis": "x4",
         "y": [
          0.0657212980638123
         ],
         "yaxis": "y4"
        },
        {
         "hoverinfo": "text",
         "hovertext": [
          "<b>prof_sci_mgmt_admin</b><br> 5.1%",
          "<b>prof_sci_mgmt_admin</b><br> 5.7%",
          "<b>prof_sci_mgmt_admin</b><br> 10.5%",
          "<b>prof_sci_mgmt_admin</b><br> 3.3%",
          "<b>prof_sci_mgmt_admin</b><br> 2.0%",
          "<b>prof_sci_mgmt_admin</b><br> 4.9%",
          "<b>prof_sci_mgmt_admin</b><br> 9.2%",
          "<b>prof_sci_mgmt_admin</b><br> 5.1%",
          "<b>prof_sci_mgmt_admin</b><br> 4.9%",
          "<b>prof_sci_mgmt_admin</b><br> 6.4%"
         ],
         "marker": {
          "color": "#FF97FF"
         },
         "type": "bar",
         "x": [
          "prof_sci_mgmt_admin"
         ],
         "xaxis": "x4",
         "y": [
          0.033269702754295
         ],
         "yaxis": "y4"
        },
        {
         "hoverinfo": "text",
         "hovertext": [
          "<b>education_health</b><br> 28.2%",
          "<b>education_health</b><br> 25.6%",
          "<b>education_health</b><br> 25.5%",
          "<b>education_health</b><br> 24.8%",
          "<b>education_health</b><br> 27.9%",
          "<b>education_health</b><br> 28.9%",
          "<b>education_health</b><br> 21.8%",
          "<b>education_health</b><br> 23.9%",
          "<b>education_health</b><br> 19.3%",
          "<b>education_health</b><br> 18.3%"
         ],
         "marker": {
          "color": "#FECB52"
         },
         "type": "bar",
         "x": [
          "education_health"
         ],
         "xaxis": "x4",
         "y": [
          0.2476138532860649
         ],
         "yaxis": "y4"
        },
        {
         "hoverinfo": "text",
         "hovertext": [
          "<b>arts_entertainment</b><br> 5.5%",
          "<b>arts_entertainment</b><br> 10.4%",
          "<b>arts_entertainment</b><br> 7.1%",
          "<b>arts_entertainment</b><br> 5.8%",
          "<b>arts_entertainment</b><br> 2.6%",
          "<b>arts_entertainment</b><br> 5.6%",
          "<b>arts_entertainment</b><br> 6.5%",
          "<b>arts_entertainment</b><br> 6.6%",
          "<b>arts_entertainment</b><br> 3.9%",
          "<b>arts_entertainment</b><br> 11.3%"
         ],
         "marker": {
          "color": "#636EFA"
         },
         "type": "bar",
         "x": [
          "arts_entertainment"
         ],
         "xaxis": "x4",
         "y": [
          0.0575402236160349
         ],
         "yaxis": "y4"
        },
        {
         "hoverinfo": "text",
         "hovertext": [
          "<b>other_services</b><br> 1.7%",
          "<b>other_services</b><br> 5.4%",
          "<b>other_services</b><br> 5.9%",
          "<b>other_services</b><br> 4.6%",
          "<b>other_services</b><br> 7.2%",
          "<b>other_services</b><br> 5.1%",
          "<b>other_services</b><br> 5.6%",
          "<b>other_services</b><br> 6.7%",
          "<b>other_services</b><br> 7.0%",
          "<b>other_services</b><br> 7.5%"
         ],
         "marker": {
          "color": "#EF553B"
         },
         "type": "bar",
         "x": [
          "other_services"
         ],
         "xaxis": "x4",
         "y": [
          0.046359421870739
         ],
         "yaxis": "y4"
        },
        {
         "hoverinfo": "text",
         "hovertext": [
          "<b>public_admin</b><br> 5.6%",
          "<b>public_admin</b><br> 6.9%",
          "<b>public_admin</b><br> 6.0%",
          "<b>public_admin</b><br> 3.5%",
          "<b>public_admin</b><br> 3.9%",
          "<b>public_admin</b><br> 4.7%",
          "<b>public_admin</b><br> 3.1%",
          "<b>public_admin</b><br> 2.2%",
          "<b>public_admin</b><br> 3.6%",
          "<b>public_admin</b><br> 8.2%"
         ],
         "marker": {
          "color": "#00CC96"
         },
         "type": "bar",
         "x": [
          "public_admin"
         ],
         "xaxis": "x4",
         "y": [
          0.0349059176438505
         ],
         "yaxis": "y4"
        },
        {
         "hoverinfo": "text",
         "hovertext": [
          "<b>agri_forestry_mining</b><br> 5.7%",
          "<b>agri_forestry_mining</b><br> 9.9%",
          "<b>agri_forestry_mining</b><br> 0.5%",
          "<b>agri_forestry_mining</b><br> 5.1%",
          "<b>agri_forestry_mining</b><br> 8.3%",
          "<b>agri_forestry_mining</b><br> 7.6%",
          "<b>agri_forestry_mining</b><br> 2.6%",
          "<b>agri_forestry_mining</b><br> 11.9%",
          "<b>agri_forestry_mining</b><br> 9.5%",
          "<b>agri_forestry_mining</b><br> 10.1%"
         ],
         "marker": {
          "color": "#636EFA"
         },
         "type": "bar",
         "x": [
          "agri_forestry_mining"
         ],
         "xaxis": "x5",
         "y": [
          0.0832837596668649
         ],
         "yaxis": "y5"
        },
        {
         "hoverinfo": "text",
         "hovertext": [
          "<b>construction</b><br> 5.5%",
          "<b>construction</b><br> 12.4%",
          "<b>construction</b><br> 11.7%",
          "<b>construction</b><br> 6.5%",
          "<b>construction</b><br> 9.7%",
          "<b>construction</b><br> 5.7%",
          "<b>construction</b><br> 11.7%",
          "<b>construction</b><br> 7.6%",
          "<b>construction</b><br> 9.0%",
          "<b>construction</b><br> 9.8%"
         ],
         "marker": {
          "color": "#EF553B"
         },
         "type": "bar",
         "x": [
          "construction"
         ],
         "xaxis": "x5",
         "y": [
          0.0972635336109458
         ],
         "yaxis": "y5"
        },
        {
         "hoverinfo": "text",
         "hovertext": [
          "<b>manufacturing</b><br> 17.2%",
          "<b>manufacturing</b><br> 3.4%",
          "<b>manufacturing</b><br> 14.3%",
          "<b>manufacturing</b><br> 21.3%",
          "<b>manufacturing</b><br> 9.3%",
          "<b>manufacturing</b><br> 18.0%",
          "<b>manufacturing</b><br> 10.4%",
          "<b>manufacturing</b><br> 10.9%",
          "<b>manufacturing</b><br> 18.5%",
          "<b>manufacturing</b><br> 5.2%"
         ],
         "marker": {
          "color": "#00CC96"
         },
         "type": "bar",
         "x": [
          "manufacturing"
         ],
         "xaxis": "x5",
         "y": [
          0.0930993456276026
         ],
         "yaxis": "y5"
        },
        {
         "hoverinfo": "text",
         "hovertext": [
          "<b>wholesale_trade</b><br> 0.6%",
          "<b>wholesale_trade</b><br> 1.8%",
          "<b>wholesale_trade</b><br> 3.8%",
          "<b>wholesale_trade</b><br> 1.4%",
          "<b>wholesale_trade</b><br> 3.6%",
          "<b>wholesale_trade</b><br> 2.5%",
          "<b>wholesale_trade</b><br> 2.2%",
          "<b>wholesale_trade</b><br> 0.5%",
          "<b>wholesale_trade</b><br> 5.1%",
          "<b>wholesale_trade</b><br> 1.6%"
         ],
         "marker": {
          "color": "#AB63FA"
         },
         "type": "bar",
         "x": [
          "wholesale_trade"
         ],
         "xaxis": "x5",
         "y": [
          0.0362879238548483
         ],
         "yaxis": "y5"
        },
        {
         "hoverinfo": "text",
         "hovertext": [
          "<b>retail_trade</b><br> 14.0%",
          "<b>retail_trade</b><br> 6.7%",
          "<b>retail_trade</b><br> 7.9%",
          "<b>retail_trade</b><br> 10.7%",
          "<b>retail_trade</b><br> 11.4%",
          "<b>retail_trade</b><br> 7.7%",
          "<b>retail_trade</b><br> 12.0%",
          "<b>retail_trade</b><br> 10.5%",
          "<b>retail_trade</b><br> 10.8%",
          "<b>retail_trade</b><br> 5.3%"
         ],
         "marker": {
          "color": "#FFA15A"
         },
         "type": "bar",
         "x": [
          "retail_trade"
         ],
         "xaxis": "x5",
         "y": [
          0.114217727543129
         ],
         "yaxis": "y5"
        },
        {
         "hoverinfo": "text",
         "hovertext": [
          "<b>transport_utilities</b><br> 6.5%",
          "<b>transport_utilities</b><br> 6.1%",
          "<b>transport_utilities</b><br> 3.8%",
          "<b>transport_utilities</b><br> 4.5%",
          "<b>transport_utilities</b><br> 5.9%",
          "<b>transport_utilities</b><br> 5.5%",
          "<b>transport_utilities</b><br> 11.2%",
          "<b>transport_utilities</b><br> 9.1%",
          "<b>transport_utilities</b><br> 4.5%",
          "<b>transport_utilities</b><br> 9.1%"
         ],
         "marker": {
          "color": "#19D3F3"
         },
         "type": "bar",
         "x": [
          "transport_utilities"
         ],
         "xaxis": "x5",
         "y": [
          0.0594883997620464
         ],
         "yaxis": "y5"
        },
        {
         "hoverinfo": "text",
         "hovertext": [
          "<b>information</b><br> 0.2%",
          "<b>information</b><br> 0.8%",
          "<b>information</b><br> 0.6%",
          "<b>information</b><br> 1.9%",
          "<b>information</b><br> 1.8%",
          "<b>information</b><br> 0.3%",
          "<b>information</b><br> 0.4%",
          "<b>information</b><br> 1.0%",
          "<b>information</b><br> 0.6%",
          "<b>information</b><br> 1.2%"
         ],
         "marker": {
          "color": "#FF6692"
         },
         "type": "bar",
         "x": [
          "information"
         ],
         "xaxis": "x5",
         "y": [
          0.0178465199286139
         ],
         "yaxis": "y5"
        },
        {
         "hoverinfo": "text",
         "hovertext": [
          "<b>finance_real_estate</b><br> 4.2%",
          "<b>finance_real_estate</b><br> 5.0%",
          "<b>finance_real_estate</b><br> 2.4%",
          "<b>finance_real_estate</b><br> 6.6%",
          "<b>finance_real_estate</b><br> 6.3%",
          "<b>finance_real_estate</b><br> 3.6%",
          "<b>finance_real_estate</b><br> 3.5%",
          "<b>finance_real_estate</b><br> 4.2%",
          "<b>finance_real_estate</b><br> 3.1%",
          "<b>finance_real_estate</b><br> 5.9%"
         ],
         "marker": {
          "color": "#B6E880"
         },
         "type": "bar",
         "x": [
          "finance_real_estate"
         ],
         "xaxis": "x5",
         "y": [
          0.0633551457465794
         ],
         "yaxis": "y5"
        },
        {
         "hoverinfo": "text",
         "hovertext": [
          "<b>prof_sci_mgmt_admin</b><br> 5.1%",
          "<b>prof_sci_mgmt_admin</b><br> 5.7%",
          "<b>prof_sci_mgmt_admin</b><br> 10.5%",
          "<b>prof_sci_mgmt_admin</b><br> 3.3%",
          "<b>prof_sci_mgmt_admin</b><br> 2.0%",
          "<b>prof_sci_mgmt_admin</b><br> 4.9%",
          "<b>prof_sci_mgmt_admin</b><br> 9.2%",
          "<b>prof_sci_mgmt_admin</b><br> 5.1%",
          "<b>prof_sci_mgmt_admin</b><br> 4.9%",
          "<b>prof_sci_mgmt_admin</b><br> 6.4%"
         ],
         "marker": {
          "color": "#FF97FF"
         },
         "type": "bar",
         "x": [
          "prof_sci_mgmt_admin"
         ],
         "xaxis": "x5",
         "y": [
          0.0199286139202855
         ],
         "yaxis": "y5"
        },
        {
         "hoverinfo": "text",
         "hovertext": [
          "<b>education_health</b><br> 28.2%",
          "<b>education_health</b><br> 25.6%",
          "<b>education_health</b><br> 25.5%",
          "<b>education_health</b><br> 24.8%",
          "<b>education_health</b><br> 27.9%",
          "<b>education_health</b><br> 28.9%",
          "<b>education_health</b><br> 21.8%",
          "<b>education_health</b><br> 23.9%",
          "<b>education_health</b><br> 19.3%",
          "<b>education_health</b><br> 18.3%"
         ],
         "marker": {
          "color": "#FECB52"
         },
         "type": "bar",
         "x": [
          "education_health"
         ],
         "xaxis": "x5",
         "y": [
          0.2787031528851874
         ],
         "yaxis": "y5"
        },
        {
         "hoverinfo": "text",
         "hovertext": [
          "<b>arts_entertainment</b><br> 5.5%",
          "<b>arts_entertainment</b><br> 10.4%",
          "<b>arts_entertainment</b><br> 7.1%",
          "<b>arts_entertainment</b><br> 5.8%",
          "<b>arts_entertainment</b><br> 2.6%",
          "<b>arts_entertainment</b><br> 5.6%",
          "<b>arts_entertainment</b><br> 6.5%",
          "<b>arts_entertainment</b><br> 6.6%",
          "<b>arts_entertainment</b><br> 3.9%",
          "<b>arts_entertainment</b><br> 11.3%"
         ],
         "marker": {
          "color": "#636EFA"
         },
         "type": "bar",
         "x": [
          "arts_entertainment"
         ],
         "xaxis": "x5",
         "y": [
          0.0255800118976799
         ],
         "yaxis": "y5"
        },
        {
         "hoverinfo": "text",
         "hovertext": [
          "<b>other_services</b><br> 1.7%",
          "<b>other_services</b><br> 5.4%",
          "<b>other_services</b><br> 5.9%",
          "<b>other_services</b><br> 4.6%",
          "<b>other_services</b><br> 7.2%",
          "<b>other_services</b><br> 5.1%",
          "<b>other_services</b><br> 5.6%",
          "<b>other_services</b><br> 6.7%",
          "<b>other_services</b><br> 7.0%",
          "<b>other_services</b><br> 7.5%"
         ],
         "marker": {
          "color": "#EF553B"
         },
         "type": "bar",
         "x": [
          "other_services"
         ],
         "xaxis": "x5",
         "y": [
          0.0719809637120761
         ],
         "yaxis": "y5"
        },
        {
         "hoverinfo": "text",
         "hovertext": [
          "<b>public_admin</b><br> 5.6%",
          "<b>public_admin</b><br> 6.9%",
          "<b>public_admin</b><br> 6.0%",
          "<b>public_admin</b><br> 3.5%",
          "<b>public_admin</b><br> 3.9%",
          "<b>public_admin</b><br> 4.7%",
          "<b>public_admin</b><br> 3.1%",
          "<b>public_admin</b><br> 2.2%",
          "<b>public_admin</b><br> 3.6%",
          "<b>public_admin</b><br> 8.2%"
         ],
         "marker": {
          "color": "#00CC96"
         },
         "type": "bar",
         "x": [
          "public_admin"
         ],
         "xaxis": "x5",
         "y": [
          0.0389649018441403
         ],
         "yaxis": "y5"
        },
        {
         "hoverinfo": "text",
         "hovertext": [
          "<b>agri_forestry_mining</b><br> 5.7%",
          "<b>agri_forestry_mining</b><br> 9.9%",
          "<b>agri_forestry_mining</b><br> 0.5%",
          "<b>agri_forestry_mining</b><br> 5.1%",
          "<b>agri_forestry_mining</b><br> 8.3%",
          "<b>agri_forestry_mining</b><br> 7.6%",
          "<b>agri_forestry_mining</b><br> 2.6%",
          "<b>agri_forestry_mining</b><br> 11.9%",
          "<b>agri_forestry_mining</b><br> 9.5%",
          "<b>agri_forestry_mining</b><br> 10.1%"
         ],
         "marker": {
          "color": "#636EFA"
         },
         "type": "bar",
         "x": [
          "agri_forestry_mining"
         ],
         "xaxis": "x6",
         "y": [
          0.0755922278413627
         ],
         "yaxis": "y6"
        },
        {
         "hoverinfo": "text",
         "hovertext": [
          "<b>construction</b><br> 5.5%",
          "<b>construction</b><br> 12.4%",
          "<b>construction</b><br> 11.7%",
          "<b>construction</b><br> 6.5%",
          "<b>construction</b><br> 9.7%",
          "<b>construction</b><br> 5.7%",
          "<b>construction</b><br> 11.7%",
          "<b>construction</b><br> 7.6%",
          "<b>construction</b><br> 9.0%",
          "<b>construction</b><br> 9.8%"
         ],
         "marker": {
          "color": "#EF553B"
         },
         "type": "bar",
         "x": [
          "construction"
         ],
         "xaxis": "x6",
         "y": [
          0.0569603406973649
         ],
         "yaxis": "y6"
        },
        {
         "hoverinfo": "text",
         "hovertext": [
          "<b>manufacturing</b><br> 17.2%",
          "<b>manufacturing</b><br> 3.4%",
          "<b>manufacturing</b><br> 14.3%",
          "<b>manufacturing</b><br> 21.3%",
          "<b>manufacturing</b><br> 9.3%",
          "<b>manufacturing</b><br> 18.0%",
          "<b>manufacturing</b><br> 10.4%",
          "<b>manufacturing</b><br> 10.9%",
          "<b>manufacturing</b><br> 18.5%",
          "<b>manufacturing</b><br> 5.2%"
         ],
         "marker": {
          "color": "#00CC96"
         },
         "type": "bar",
         "x": [
          "manufacturing"
         ],
         "xaxis": "x6",
         "y": [
          0.1801969656640936
         ],
         "yaxis": "y6"
        },
        {
         "hoverinfo": "text",
         "hovertext": [
          "<b>wholesale_trade</b><br> 0.6%",
          "<b>wholesale_trade</b><br> 1.8%",
          "<b>wholesale_trade</b><br> 3.8%",
          "<b>wholesale_trade</b><br> 1.4%",
          "<b>wholesale_trade</b><br> 3.6%",
          "<b>wholesale_trade</b><br> 2.5%",
          "<b>wholesale_trade</b><br> 2.2%",
          "<b>wholesale_trade</b><br> 0.5%",
          "<b>wholesale_trade</b><br> 5.1%",
          "<b>wholesale_trade</b><br> 1.6%"
         ],
         "marker": {
          "color": "#AB63FA"
         },
         "type": "bar",
         "x": [
          "wholesale_trade"
         ],
         "xaxis": "x6",
         "y": [
          0.0247537929198828
         ],
         "yaxis": "y6"
        },
        {
         "hoverinfo": "text",
         "hovertext": [
          "<b>retail_trade</b><br> 14.0%",
          "<b>retail_trade</b><br> 6.7%",
          "<b>retail_trade</b><br> 7.9%",
          "<b>retail_trade</b><br> 10.7%",
          "<b>retail_trade</b><br> 11.4%",
          "<b>retail_trade</b><br> 7.7%",
          "<b>retail_trade</b><br> 12.0%",
          "<b>retail_trade</b><br> 10.5%",
          "<b>retail_trade</b><br> 10.8%",
          "<b>retail_trade</b><br> 5.3%"
         ],
         "marker": {
          "color": "#FFA15A"
         },
         "type": "bar",
         "x": [
          "retail_trade"
         ],
         "xaxis": "x6",
         "y": [
          0.0774554165557625
         ],
         "yaxis": "y6"
        },
        {
         "hoverinfo": "text",
         "hovertext": [
          "<b>transport_utilities</b><br> 6.5%",
          "<b>transport_utilities</b><br> 6.1%",
          "<b>transport_utilities</b><br> 3.8%",
          "<b>transport_utilities</b><br> 4.5%",
          "<b>transport_utilities</b><br> 5.9%",
          "<b>transport_utilities</b><br> 5.5%",
          "<b>transport_utilities</b><br> 11.2%",
          "<b>transport_utilities</b><br> 9.1%",
          "<b>transport_utilities</b><br> 4.5%",
          "<b>transport_utilities</b><br> 9.1%"
         ],
         "marker": {
          "color": "#19D3F3"
         },
         "type": "bar",
         "x": [
          "transport_utilities"
         ],
         "xaxis": "x6",
         "y": [
          0.0548309821666223
         ],
         "yaxis": "y6"
        },
        {
         "hoverinfo": "text",
         "hovertext": [
          "<b>information</b><br> 0.2%",
          "<b>information</b><br> 0.8%",
          "<b>information</b><br> 0.6%",
          "<b>information</b><br> 1.9%",
          "<b>information</b><br> 1.8%",
          "<b>information</b><br> 0.3%",
          "<b>information</b><br> 0.4%",
          "<b>information</b><br> 1.0%",
          "<b>information</b><br> 0.6%",
          "<b>information</b><br> 1.2%"
         ],
         "marker": {
          "color": "#FF6692"
         },
         "type": "bar",
         "x": [
          "information"
         ],
         "xaxis": "x6",
         "y": [
          0.0034602076124567
         ],
         "yaxis": "y6"
        },
        {
         "hoverinfo": "text",
         "hovertext": [
          "<b>finance_real_estate</b><br> 4.2%",
          "<b>finance_real_estate</b><br> 5.0%",
          "<b>finance_real_estate</b><br> 2.4%",
          "<b>finance_real_estate</b><br> 6.6%",
          "<b>finance_real_estate</b><br> 6.3%",
          "<b>finance_real_estate</b><br> 3.6%",
          "<b>finance_real_estate</b><br> 3.5%",
          "<b>finance_real_estate</b><br> 4.2%",
          "<b>finance_real_estate</b><br> 3.1%",
          "<b>finance_real_estate</b><br> 5.9%"
         ],
         "marker": {
          "color": "#B6E880"
         },
         "type": "bar",
         "x": [
          "finance_real_estate"
         ],
         "xaxis": "x6",
         "y": [
          0.0356667553899387
         ],
         "yaxis": "y6"
        },
        {
         "hoverinfo": "text",
         "hovertext": [
          "<b>prof_sci_mgmt_admin</b><br> 5.1%",
          "<b>prof_sci_mgmt_admin</b><br> 5.7%",
          "<b>prof_sci_mgmt_admin</b><br> 10.5%",
          "<b>prof_sci_mgmt_admin</b><br> 3.3%",
          "<b>prof_sci_mgmt_admin</b><br> 2.0%",
          "<b>prof_sci_mgmt_admin</b><br> 4.9%",
          "<b>prof_sci_mgmt_admin</b><br> 9.2%",
          "<b>prof_sci_mgmt_admin</b><br> 5.1%",
          "<b>prof_sci_mgmt_admin</b><br> 4.9%",
          "<b>prof_sci_mgmt_admin</b><br> 6.4%"
         ],
         "marker": {
          "color": "#FF97FF"
         },
         "type": "bar",
         "x": [
          "prof_sci_mgmt_admin"
         ],
         "xaxis": "x6",
         "y": [
          0.0487090763907372
         ],
         "yaxis": "y6"
        },
        {
         "hoverinfo": "text",
         "hovertext": [
          "<b>education_health</b><br> 28.2%",
          "<b>education_health</b><br> 25.6%",
          "<b>education_health</b><br> 25.5%",
          "<b>education_health</b><br> 24.8%",
          "<b>education_health</b><br> 27.9%",
          "<b>education_health</b><br> 28.9%",
          "<b>education_health</b><br> 21.8%",
          "<b>education_health</b><br> 23.9%",
          "<b>education_health</b><br> 19.3%",
          "<b>education_health</b><br> 18.3%"
         ],
         "marker": {
          "color": "#FECB52"
         },
         "type": "bar",
         "x": [
          "education_health"
         ],
         "xaxis": "x6",
         "y": [
          0.2893265903646526
         ],
         "yaxis": "y6"
        },
        {
         "hoverinfo": "text",
         "hovertext": [
          "<b>arts_entertainment</b><br> 5.5%",
          "<b>arts_entertainment</b><br> 10.4%",
          "<b>arts_entertainment</b><br> 7.1%",
          "<b>arts_entertainment</b><br> 5.8%",
          "<b>arts_entertainment</b><br> 2.6%",
          "<b>arts_entertainment</b><br> 5.6%",
          "<b>arts_entertainment</b><br> 6.5%",
          "<b>arts_entertainment</b><br> 6.6%",
          "<b>arts_entertainment</b><br> 3.9%",
          "<b>arts_entertainment</b><br> 11.3%"
         ],
         "marker": {
          "color": "#636EFA"
         },
         "type": "bar",
         "x": [
          "arts_entertainment"
         ],
         "xaxis": "x6",
         "y": [
          0.0556294916156507
         ],
         "yaxis": "y6"
        },
        {
         "hoverinfo": "text",
         "hovertext": [
          "<b>other_services</b><br> 1.7%",
          "<b>other_services</b><br> 5.4%",
          "<b>other_services</b><br> 5.9%",
          "<b>other_services</b><br> 4.6%",
          "<b>other_services</b><br> 7.2%",
          "<b>other_services</b><br> 5.1%",
          "<b>other_services</b><br> 5.6%",
          "<b>other_services</b><br> 6.7%",
          "<b>other_services</b><br> 7.0%",
          "<b>other_services</b><br> 7.5%"
         ],
         "marker": {
          "color": "#EF553B"
         },
         "type": "bar",
         "x": [
          "other_services"
         ],
         "xaxis": "x6",
         "y": [
          0.050572265105137
         ],
         "yaxis": "y6"
        },
        {
         "hoverinfo": "text",
         "hovertext": [
          "<b>public_admin</b><br> 5.6%",
          "<b>public_admin</b><br> 6.9%",
          "<b>public_admin</b><br> 6.0%",
          "<b>public_admin</b><br> 3.5%",
          "<b>public_admin</b><br> 3.9%",
          "<b>public_admin</b><br> 4.7%",
          "<b>public_admin</b><br> 3.1%",
          "<b>public_admin</b><br> 2.2%",
          "<b>public_admin</b><br> 3.6%",
          "<b>public_admin</b><br> 8.2%"
         ],
         "marker": {
          "color": "#00CC96"
         },
         "type": "bar",
         "x": [
          "public_admin"
         ],
         "xaxis": "x6",
         "y": [
          0.0468458876763375
         ],
         "yaxis": "y6"
        },
        {
         "hoverinfo": "text",
         "hovertext": [
          "<b>agri_forestry_mining</b><br> 5.7%",
          "<b>agri_forestry_mining</b><br> 9.9%",
          "<b>agri_forestry_mining</b><br> 0.5%",
          "<b>agri_forestry_mining</b><br> 5.1%",
          "<b>agri_forestry_mining</b><br> 8.3%",
          "<b>agri_forestry_mining</b><br> 7.6%",
          "<b>agri_forestry_mining</b><br> 2.6%",
          "<b>agri_forestry_mining</b><br> 11.9%",
          "<b>agri_forestry_mining</b><br> 9.5%",
          "<b>agri_forestry_mining</b><br> 10.1%"
         ],
         "marker": {
          "color": "#636EFA"
         },
         "type": "bar",
         "x": [
          "agri_forestry_mining"
         ],
         "xaxis": "x7",
         "y": [
          0.0256014805675508
         ],
         "yaxis": "y7"
        },
        {
         "hoverinfo": "text",
         "hovertext": [
          "<b>construction</b><br> 5.5%",
          "<b>construction</b><br> 12.4%",
          "<b>construction</b><br> 11.7%",
          "<b>construction</b><br> 6.5%",
          "<b>construction</b><br> 9.7%",
          "<b>construction</b><br> 5.7%",
          "<b>construction</b><br> 11.7%",
          "<b>construction</b><br> 7.6%",
          "<b>construction</b><br> 9.0%",
          "<b>construction</b><br> 9.8%"
         ],
         "marker": {
          "color": "#EF553B"
         },
         "type": "bar",
         "x": [
          "construction"
         ],
         "xaxis": "x7",
         "y": [
          0.1165946946329426
         ],
         "yaxis": "y7"
        },
        {
         "hoverinfo": "text",
         "hovertext": [
          "<b>manufacturing</b><br> 17.2%",
          "<b>manufacturing</b><br> 3.4%",
          "<b>manufacturing</b><br> 14.3%",
          "<b>manufacturing</b><br> 21.3%",
          "<b>manufacturing</b><br> 9.3%",
          "<b>manufacturing</b><br> 18.0%",
          "<b>manufacturing</b><br> 10.4%",
          "<b>manufacturing</b><br> 10.9%",
          "<b>manufacturing</b><br> 18.5%",
          "<b>manufacturing</b><br> 5.2%"
         ],
         "marker": {
          "color": "#00CC96"
         },
         "type": "bar",
         "x": [
          "manufacturing"
         ],
         "xaxis": "x7",
         "y": [
          0.1036397285626156
         ],
         "yaxis": "y7"
        },
        {
         "hoverinfo": "text",
         "hovertext": [
          "<b>wholesale_trade</b><br> 0.6%",
          "<b>wholesale_trade</b><br> 1.8%",
          "<b>wholesale_trade</b><br> 3.8%",
          "<b>wholesale_trade</b><br> 1.4%",
          "<b>wholesale_trade</b><br> 3.6%",
          "<b>wholesale_trade</b><br> 2.5%",
          "<b>wholesale_trade</b><br> 2.2%",
          "<b>wholesale_trade</b><br> 0.5%",
          "<b>wholesale_trade</b><br> 5.1%",
          "<b>wholesale_trade</b><br> 1.6%"
         ],
         "marker": {
          "color": "#AB63FA"
         },
         "type": "bar",
         "x": [
          "wholesale_trade"
         ],
         "xaxis": "x7",
         "y": [
          0.0219000616903146
         ],
         "yaxis": "y7"
        },
        {
         "hoverinfo": "text",
         "hovertext": [
          "<b>retail_trade</b><br> 14.0%",
          "<b>retail_trade</b><br> 6.7%",
          "<b>retail_trade</b><br> 7.9%",
          "<b>retail_trade</b><br> 10.7%",
          "<b>retail_trade</b><br> 11.4%",
          "<b>retail_trade</b><br> 7.7%",
          "<b>retail_trade</b><br> 12.0%",
          "<b>retail_trade</b><br> 10.5%",
          "<b>retail_trade</b><br> 10.8%",
          "<b>retail_trade</b><br> 5.3%"
         ],
         "marker": {
          "color": "#FFA15A"
         },
         "type": "bar",
         "x": [
          "retail_trade"
         ],
         "xaxis": "x7",
         "y": [
          0.1196792103639728
         ],
         "yaxis": "y7"
        },
        {
         "hoverinfo": "text",
         "hovertext": [
          "<b>transport_utilities</b><br> 6.5%",
          "<b>transport_utilities</b><br> 6.1%",
          "<b>transport_utilities</b><br> 3.8%",
          "<b>transport_utilities</b><br> 4.5%",
          "<b>transport_utilities</b><br> 5.9%",
          "<b>transport_utilities</b><br> 5.5%",
          "<b>transport_utilities</b><br> 11.2%",
          "<b>transport_utilities</b><br> 9.1%",
          "<b>transport_utilities</b><br> 4.5%",
          "<b>transport_utilities</b><br> 9.1%"
         ],
         "marker": {
          "color": "#19D3F3"
         },
         "type": "bar",
         "x": [
          "transport_utilities"
         ],
         "xaxis": "x7",
         "y": [
          0.1122763726095003
         ],
         "yaxis": "y7"
        },
        {
         "hoverinfo": "text",
         "hovertext": [
          "<b>information</b><br> 0.2%",
          "<b>information</b><br> 0.8%",
          "<b>information</b><br> 0.6%",
          "<b>information</b><br> 1.9%",
          "<b>information</b><br> 1.8%",
          "<b>information</b><br> 0.3%",
          "<b>information</b><br> 0.4%",
          "<b>information</b><br> 1.0%",
          "<b>information</b><br> 0.6%",
          "<b>information</b><br> 1.2%"
         ],
         "marker": {
          "color": "#FF6692"
         },
         "type": "bar",
         "x": [
          "information"
         ],
         "xaxis": "x7",
         "y": [
          0.0037014188772362
         ],
         "yaxis": "y7"
        },
        {
         "hoverinfo": "text",
         "hovertext": [
          "<b>finance_real_estate</b><br> 4.2%",
          "<b>finance_real_estate</b><br> 5.0%",
          "<b>finance_real_estate</b><br> 2.4%",
          "<b>finance_real_estate</b><br> 6.6%",
          "<b>finance_real_estate</b><br> 6.3%",
          "<b>finance_real_estate</b><br> 3.6%",
          "<b>finance_real_estate</b><br> 3.5%",
          "<b>finance_real_estate</b><br> 4.2%",
          "<b>finance_real_estate</b><br> 3.1%",
          "<b>finance_real_estate</b><br> 5.9%"
         ],
         "marker": {
          "color": "#B6E880"
         },
         "type": "bar",
         "x": [
          "finance_real_estate"
         ],
         "xaxis": "x7",
         "y": [
          0.0348550277606415
         ],
         "yaxis": "y7"
        },
        {
         "hoverinfo": "text",
         "hovertext": [
          "<b>prof_sci_mgmt_admin</b><br> 5.1%",
          "<b>prof_sci_mgmt_admin</b><br> 5.7%",
          "<b>prof_sci_mgmt_admin</b><br> 10.5%",
          "<b>prof_sci_mgmt_admin</b><br> 3.3%",
          "<b>prof_sci_mgmt_admin</b><br> 2.0%",
          "<b>prof_sci_mgmt_admin</b><br> 4.9%",
          "<b>prof_sci_mgmt_admin</b><br> 9.2%",
          "<b>prof_sci_mgmt_admin</b><br> 5.1%",
          "<b>prof_sci_mgmt_admin</b><br> 4.9%",
          "<b>prof_sci_mgmt_admin</b><br> 6.4%"
         ],
         "marker": {
          "color": "#FF97FF"
         },
         "type": "bar",
         "x": [
          "prof_sci_mgmt_admin"
         ],
         "xaxis": "x7",
         "y": [
          0.0916101172115977
         ],
         "yaxis": "y7"
        },
        {
         "hoverinfo": "text",
         "hovertext": [
          "<b>education_health</b><br> 28.2%",
          "<b>education_health</b><br> 25.6%",
          "<b>education_health</b><br> 25.5%",
          "<b>education_health</b><br> 24.8%",
          "<b>education_health</b><br> 27.9%",
          "<b>education_health</b><br> 28.9%",
          "<b>education_health</b><br> 21.8%",
          "<b>education_health</b><br> 23.9%",
          "<b>education_health</b><br> 19.3%",
          "<b>education_health</b><br> 18.3%"
         ],
         "marker": {
          "color": "#FECB52"
         },
         "type": "bar",
         "x": [
          "education_health"
         ],
         "xaxis": "x7",
         "y": [
          0.2180752621838371
         ],
         "yaxis": "y7"
        },
        {
         "hoverinfo": "text",
         "hovertext": [
          "<b>arts_entertainment</b><br> 5.5%",
          "<b>arts_entertainment</b><br> 10.4%",
          "<b>arts_entertainment</b><br> 7.1%",
          "<b>arts_entertainment</b><br> 5.8%",
          "<b>arts_entertainment</b><br> 2.6%",
          "<b>arts_entertainment</b><br> 5.6%",
          "<b>arts_entertainment</b><br> 6.5%",
          "<b>arts_entertainment</b><br> 6.6%",
          "<b>arts_entertainment</b><br> 3.9%",
          "<b>arts_entertainment</b><br> 11.3%"
         ],
         "marker": {
          "color": "#636EFA"
         },
         "type": "bar",
         "x": [
          "arts_entertainment"
         ],
         "xaxis": "x7",
         "y": [
          0.0653917334978408
         ],
         "yaxis": "y7"
        },
        {
         "hoverinfo": "text",
         "hovertext": [
          "<b>other_services</b><br> 1.7%",
          "<b>other_services</b><br> 5.4%",
          "<b>other_services</b><br> 5.9%",
          "<b>other_services</b><br> 4.6%",
          "<b>other_services</b><br> 7.2%",
          "<b>other_services</b><br> 5.1%",
          "<b>other_services</b><br> 5.6%",
          "<b>other_services</b><br> 6.7%",
          "<b>other_services</b><br> 7.0%",
          "<b>other_services</b><br> 7.5%"
         ],
         "marker": {
          "color": "#EF553B"
         },
         "type": "bar",
         "x": [
          "other_services"
         ],
         "xaxis": "x7",
         "y": [
          0.0555212831585441
         ],
         "yaxis": "y7"
        },
        {
         "hoverinfo": "text",
         "hovertext": [
          "<b>public_admin</b><br> 5.6%",
          "<b>public_admin</b><br> 6.9%",
          "<b>public_admin</b><br> 6.0%",
          "<b>public_admin</b><br> 3.5%",
          "<b>public_admin</b><br> 3.9%",
          "<b>public_admin</b><br> 4.7%",
          "<b>public_admin</b><br> 3.1%",
          "<b>public_admin</b><br> 2.2%",
          "<b>public_admin</b><br> 3.6%",
          "<b>public_admin</b><br> 8.2%"
         ],
         "marker": {
          "color": "#00CC96"
         },
         "type": "bar",
         "x": [
          "public_admin"
         ],
         "xaxis": "x7",
         "y": [
          0.0311536088834053
         ],
         "yaxis": "y7"
        },
        {
         "hoverinfo": "text",
         "hovertext": [
          "<b>agri_forestry_mining</b><br> 5.7%",
          "<b>agri_forestry_mining</b><br> 9.9%",
          "<b>agri_forestry_mining</b><br> 0.5%",
          "<b>agri_forestry_mining</b><br> 5.1%",
          "<b>agri_forestry_mining</b><br> 8.3%",
          "<b>agri_forestry_mining</b><br> 7.6%",
          "<b>agri_forestry_mining</b><br> 2.6%",
          "<b>agri_forestry_mining</b><br> 11.9%",
          "<b>agri_forestry_mining</b><br> 9.5%",
          "<b>agri_forestry_mining</b><br> 10.1%"
         ],
         "marker": {
          "color": "#636EFA"
         },
         "type": "bar",
         "x": [
          "agri_forestry_mining"
         ],
         "xaxis": "x8",
         "y": [
          0.1188118811881188
         ],
         "yaxis": "y8"
        },
        {
         "hoverinfo": "text",
         "hovertext": [
          "<b>construction</b><br> 5.5%",
          "<b>construction</b><br> 12.4%",
          "<b>construction</b><br> 11.7%",
          "<b>construction</b><br> 6.5%",
          "<b>construction</b><br> 9.7%",
          "<b>construction</b><br> 5.7%",
          "<b>construction</b><br> 11.7%",
          "<b>construction</b><br> 7.6%",
          "<b>construction</b><br> 9.0%",
          "<b>construction</b><br> 9.8%"
         ],
         "marker": {
          "color": "#EF553B"
         },
         "type": "bar",
         "x": [
          "construction"
         ],
         "xaxis": "x8",
         "y": [
          0.0761614623000761
         ],
         "yaxis": "y8"
        },
        {
         "hoverinfo": "text",
         "hovertext": [
          "<b>manufacturing</b><br> 17.2%",
          "<b>manufacturing</b><br> 3.4%",
          "<b>manufacturing</b><br> 14.3%",
          "<b>manufacturing</b><br> 21.3%",
          "<b>manufacturing</b><br> 9.3%",
          "<b>manufacturing</b><br> 18.0%",
          "<b>manufacturing</b><br> 10.4%",
          "<b>manufacturing</b><br> 10.9%",
          "<b>manufacturing</b><br> 18.5%",
          "<b>manufacturing</b><br> 5.2%"
         ],
         "marker": {
          "color": "#00CC96"
         },
         "type": "bar",
         "x": [
          "manufacturing"
         ],
         "xaxis": "x8",
         "y": [
          0.1085300837776085
         ],
         "yaxis": "y8"
        },
        {
         "hoverinfo": "text",
         "hovertext": [
          "<b>wholesale_trade</b><br> 0.6%",
          "<b>wholesale_trade</b><br> 1.8%",
          "<b>wholesale_trade</b><br> 3.8%",
          "<b>wholesale_trade</b><br> 1.4%",
          "<b>wholesale_trade</b><br> 3.6%",
          "<b>wholesale_trade</b><br> 2.5%",
          "<b>wholesale_trade</b><br> 2.2%",
          "<b>wholesale_trade</b><br> 0.5%",
          "<b>wholesale_trade</b><br> 5.1%",
          "<b>wholesale_trade</b><br> 1.6%"
         ],
         "marker": {
          "color": "#AB63FA"
         },
         "type": "bar",
         "x": [
          "wholesale_trade"
         ],
         "xaxis": "x8",
         "y": [
          0.0045696877380045
         ],
         "yaxis": "y8"
        },
        {
         "hoverinfo": "text",
         "hovertext": [
          "<b>retail_trade</b><br> 14.0%",
          "<b>retail_trade</b><br> 6.7%",
          "<b>retail_trade</b><br> 7.9%",
          "<b>retail_trade</b><br> 10.7%",
          "<b>retail_trade</b><br> 11.4%",
          "<b>retail_trade</b><br> 7.7%",
          "<b>retail_trade</b><br> 12.0%",
          "<b>retail_trade</b><br> 10.5%",
          "<b>retail_trade</b><br> 10.8%",
          "<b>retail_trade</b><br> 5.3%"
         ],
         "marker": {
          "color": "#FFA15A"
         },
         "type": "bar",
         "x": [
          "retail_trade"
         ],
         "xaxis": "x8",
         "y": [
          0.1054836252856054
         ],
         "yaxis": "y8"
        },
        {
         "hoverinfo": "text",
         "hovertext": [
          "<b>transport_utilities</b><br> 6.5%",
          "<b>transport_utilities</b><br> 6.1%",
          "<b>transport_utilities</b><br> 3.8%",
          "<b>transport_utilities</b><br> 4.5%",
          "<b>transport_utilities</b><br> 5.9%",
          "<b>transport_utilities</b><br> 5.5%",
          "<b>transport_utilities</b><br> 11.2%",
          "<b>transport_utilities</b><br> 9.1%",
          "<b>transport_utilities</b><br> 4.5%",
          "<b>transport_utilities</b><br> 9.1%"
         ],
         "marker": {
          "color": "#19D3F3"
         },
         "type": "bar",
         "x": [
          "transport_utilities"
         ],
         "xaxis": "x8",
         "y": [
          0.091012947448591
         ],
         "yaxis": "y8"
        },
        {
         "hoverinfo": "text",
         "hovertext": [
          "<b>information</b><br> 0.2%",
          "<b>information</b><br> 0.8%",
          "<b>information</b><br> 0.6%",
          "<b>information</b><br> 1.9%",
          "<b>information</b><br> 1.8%",
          "<b>information</b><br> 0.3%",
          "<b>information</b><br> 0.4%",
          "<b>information</b><br> 1.0%",
          "<b>information</b><br> 0.6%",
          "<b>information</b><br> 1.2%"
         ],
         "marker": {
          "color": "#FF6692"
         },
         "type": "bar",
         "x": [
          "information"
         ],
         "xaxis": "x8",
         "y": [
          0.0095201827875095
         ],
         "yaxis": "y8"
        },
        {
         "hoverinfo": "text",
         "hovertext": [
          "<b>finance_real_estate</b><br> 4.2%",
          "<b>finance_real_estate</b><br> 5.0%",
          "<b>finance_real_estate</b><br> 2.4%",
          "<b>finance_real_estate</b><br> 6.6%",
          "<b>finance_real_estate</b><br> 6.3%",
          "<b>finance_real_estate</b><br> 3.6%",
          "<b>finance_real_estate</b><br> 3.5%",
          "<b>finance_real_estate</b><br> 4.2%",
          "<b>finance_real_estate</b><br> 3.1%",
          "<b>finance_real_estate</b><br> 5.9%"
         ],
         "marker": {
          "color": "#B6E880"
         },
         "type": "bar",
         "x": [
          "finance_real_estate"
         ],
         "xaxis": "x8",
         "y": [
          0.0418888042650418
         ],
         "yaxis": "y8"
        },
        {
         "hoverinfo": "text",
         "hovertext": [
          "<b>prof_sci_mgmt_admin</b><br> 5.1%",
          "<b>prof_sci_mgmt_admin</b><br> 5.7%",
          "<b>prof_sci_mgmt_admin</b><br> 10.5%",
          "<b>prof_sci_mgmt_admin</b><br> 3.3%",
          "<b>prof_sci_mgmt_admin</b><br> 2.0%",
          "<b>prof_sci_mgmt_admin</b><br> 4.9%",
          "<b>prof_sci_mgmt_admin</b><br> 9.2%",
          "<b>prof_sci_mgmt_admin</b><br> 5.1%",
          "<b>prof_sci_mgmt_admin</b><br> 4.9%",
          "<b>prof_sci_mgmt_admin</b><br> 6.4%"
         ],
         "marker": {
          "color": "#FF97FF"
         },
         "type": "bar",
         "x": [
          "prof_sci_mgmt_admin"
         ],
         "xaxis": "x8",
         "y": [
          0.0506473724295506
         ],
         "yaxis": "y8"
        },
        {
         "hoverinfo": "text",
         "hovertext": [
          "<b>education_health</b><br> 28.2%",
          "<b>education_health</b><br> 25.6%",
          "<b>education_health</b><br> 25.5%",
          "<b>education_health</b><br> 24.8%",
          "<b>education_health</b><br> 27.9%",
          "<b>education_health</b><br> 28.9%",
          "<b>education_health</b><br> 21.8%",
          "<b>education_health</b><br> 23.9%",
          "<b>education_health</b><br> 19.3%",
          "<b>education_health</b><br> 18.3%"
         ],
         "marker": {
          "color": "#FECB52"
         },
         "type": "bar",
         "x": [
          "education_health"
         ],
         "xaxis": "x8",
         "y": [
          0.2387661843107387
         ],
         "yaxis": "y8"
        },
        {
         "hoverinfo": "text",
         "hovertext": [
          "<b>arts_entertainment</b><br> 5.5%",
          "<b>arts_entertainment</b><br> 10.4%",
          "<b>arts_entertainment</b><br> 7.1%",
          "<b>arts_entertainment</b><br> 5.8%",
          "<b>arts_entertainment</b><br> 2.6%",
          "<b>arts_entertainment</b><br> 5.6%",
          "<b>arts_entertainment</b><br> 6.5%",
          "<b>arts_entertainment</b><br> 6.6%",
          "<b>arts_entertainment</b><br> 3.9%",
          "<b>arts_entertainment</b><br> 11.3%"
         ],
         "marker": {
          "color": "#636EFA"
         },
         "type": "bar",
         "x": [
          "arts_entertainment"
         ],
         "xaxis": "x8",
         "y": [
          0.0662604722010662
         ],
         "yaxis": "y8"
        },
        {
         "hoverinfo": "text",
         "hovertext": [
          "<b>other_services</b><br> 1.7%",
          "<b>other_services</b><br> 5.4%",
          "<b>other_services</b><br> 5.9%",
          "<b>other_services</b><br> 4.6%",
          "<b>other_services</b><br> 7.2%",
          "<b>other_services</b><br> 5.1%",
          "<b>other_services</b><br> 5.6%",
          "<b>other_services</b><br> 6.7%",
          "<b>other_services</b><br> 7.0%",
          "<b>other_services</b><br> 7.5%"
         ],
         "marker": {
          "color": "#EF553B"
         },
         "type": "bar",
         "x": [
          "other_services"
         ],
         "xaxis": "x8",
         "y": [
          0.0666412795125666
         ],
         "yaxis": "y8"
        },
        {
         "hoverinfo": "text",
         "hovertext": [
          "<b>public_admin</b><br> 5.6%",
          "<b>public_admin</b><br> 6.9%",
          "<b>public_admin</b><br> 6.0%",
          "<b>public_admin</b><br> 3.5%",
          "<b>public_admin</b><br> 3.9%",
          "<b>public_admin</b><br> 4.7%",
          "<b>public_admin</b><br> 3.1%",
          "<b>public_admin</b><br> 2.2%",
          "<b>public_admin</b><br> 3.6%",
          "<b>public_admin</b><br> 8.2%"
         ],
         "marker": {
          "color": "#00CC96"
         },
         "type": "bar",
         "x": [
          "public_admin"
         ],
         "xaxis": "x8",
         "y": [
          0.0217060167555217
         ],
         "yaxis": "y8"
        },
        {
         "hoverinfo": "text",
         "hovertext": [
          "<b>agri_forestry_mining</b><br> 5.7%",
          "<b>agri_forestry_mining</b><br> 9.9%",
          "<b>agri_forestry_mining</b><br> 0.5%",
          "<b>agri_forestry_mining</b><br> 5.1%",
          "<b>agri_forestry_mining</b><br> 8.3%",
          "<b>agri_forestry_mining</b><br> 7.6%",
          "<b>agri_forestry_mining</b><br> 2.6%",
          "<b>agri_forestry_mining</b><br> 11.9%",
          "<b>agri_forestry_mining</b><br> 9.5%",
          "<b>agri_forestry_mining</b><br> 10.1%"
         ],
         "marker": {
          "color": "#636EFA"
         },
         "type": "bar",
         "x": [
          "agri_forestry_mining"
         ],
         "xaxis": "x9",
         "y": [
          0.0954397394136807
         ],
         "yaxis": "y9"
        },
        {
         "hoverinfo": "text",
         "hovertext": [
          "<b>construction</b><br> 5.5%",
          "<b>construction</b><br> 12.4%",
          "<b>construction</b><br> 11.7%",
          "<b>construction</b><br> 6.5%",
          "<b>construction</b><br> 9.7%",
          "<b>construction</b><br> 5.7%",
          "<b>construction</b><br> 11.7%",
          "<b>construction</b><br> 7.6%",
          "<b>construction</b><br> 9.0%",
          "<b>construction</b><br> 9.8%"
         ],
         "marker": {
          "color": "#EF553B"
         },
         "type": "bar",
         "x": [
          "construction"
         ],
         "xaxis": "x9",
         "y": [
          0.0899022801302931
         ],
         "yaxis": "y9"
        },
        {
         "hoverinfo": "text",
         "hovertext": [
          "<b>manufacturing</b><br> 17.2%",
          "<b>manufacturing</b><br> 3.4%",
          "<b>manufacturing</b><br> 14.3%",
          "<b>manufacturing</b><br> 21.3%",
          "<b>manufacturing</b><br> 9.3%",
          "<b>manufacturing</b><br> 18.0%",
          "<b>manufacturing</b><br> 10.4%",
          "<b>manufacturing</b><br> 10.9%",
          "<b>manufacturing</b><br> 18.5%",
          "<b>manufacturing</b><br> 5.2%"
         ],
         "marker": {
          "color": "#00CC96"
         },
         "type": "bar",
         "x": [
          "manufacturing"
         ],
         "xaxis": "x9",
         "y": [
          0.1853420195439739
         ],
         "yaxis": "y9"
        },
        {
         "hoverinfo": "text",
         "hovertext": [
          "<b>wholesale_trade</b><br> 0.6%",
          "<b>wholesale_trade</b><br> 1.8%",
          "<b>wholesale_trade</b><br> 3.8%",
          "<b>wholesale_trade</b><br> 1.4%",
          "<b>wholesale_trade</b><br> 3.6%",
          "<b>wholesale_trade</b><br> 2.5%",
          "<b>wholesale_trade</b><br> 2.2%",
          "<b>wholesale_trade</b><br> 0.5%",
          "<b>wholesale_trade</b><br> 5.1%",
          "<b>wholesale_trade</b><br> 1.6%"
         ],
         "marker": {
          "color": "#AB63FA"
         },
         "type": "bar",
         "x": [
          "wholesale_trade"
         ],
         "xaxis": "x9",
         "y": [
          0.0511400651465798
         ],
         "yaxis": "y9"
        },
        {
         "hoverinfo": "text",
         "hovertext": [
          "<b>retail_trade</b><br> 14.0%",
          "<b>retail_trade</b><br> 6.7%",
          "<b>retail_trade</b><br> 7.9%",
          "<b>retail_trade</b><br> 10.7%",
          "<b>retail_trade</b><br> 11.4%",
          "<b>retail_trade</b><br> 7.7%",
          "<b>retail_trade</b><br> 12.0%",
          "<b>retail_trade</b><br> 10.5%",
          "<b>retail_trade</b><br> 10.8%",
          "<b>retail_trade</b><br> 5.3%"
         ],
         "marker": {
          "color": "#FFA15A"
         },
         "type": "bar",
         "x": [
          "retail_trade"
         ],
         "xaxis": "x9",
         "y": [
          0.10814332247557
         ],
         "yaxis": "y9"
        },
        {
         "hoverinfo": "text",
         "hovertext": [
          "<b>transport_utilities</b><br> 6.5%",
          "<b>transport_utilities</b><br> 6.1%",
          "<b>transport_utilities</b><br> 3.8%",
          "<b>transport_utilities</b><br> 4.5%",
          "<b>transport_utilities</b><br> 5.9%",
          "<b>transport_utilities</b><br> 5.5%",
          "<b>transport_utilities</b><br> 11.2%",
          "<b>transport_utilities</b><br> 9.1%",
          "<b>transport_utilities</b><br> 4.5%",
          "<b>transport_utilities</b><br> 9.1%"
         ],
         "marker": {
          "color": "#19D3F3"
         },
         "type": "bar",
         "x": [
          "transport_utilities"
         ],
         "xaxis": "x9",
         "y": [
          0.0452768729641693
         ],
         "yaxis": "y9"
        },
        {
         "hoverinfo": "text",
         "hovertext": [
          "<b>information</b><br> 0.2%",
          "<b>information</b><br> 0.8%",
          "<b>information</b><br> 0.6%",
          "<b>information</b><br> 1.9%",
          "<b>information</b><br> 1.8%",
          "<b>information</b><br> 0.3%",
          "<b>information</b><br> 0.4%",
          "<b>information</b><br> 1.0%",
          "<b>information</b><br> 0.6%",
          "<b>information</b><br> 1.2%"
         ],
         "marker": {
          "color": "#FF6692"
         },
         "type": "bar",
         "x": [
          "information"
         ],
         "xaxis": "x9",
         "y": [
          0.0058631921824104
         ],
         "yaxis": "y9"
        },
        {
         "hoverinfo": "text",
         "hovertext": [
          "<b>finance_real_estate</b><br> 4.2%",
          "<b>finance_real_estate</b><br> 5.0%",
          "<b>finance_real_estate</b><br> 2.4%",
          "<b>finance_real_estate</b><br> 6.6%",
          "<b>finance_real_estate</b><br> 6.3%",
          "<b>finance_real_estate</b><br> 3.6%",
          "<b>finance_real_estate</b><br> 3.5%",
          "<b>finance_real_estate</b><br> 4.2%",
          "<b>finance_real_estate</b><br> 3.1%",
          "<b>finance_real_estate</b><br> 5.9%"
         ],
         "marker": {
          "color": "#B6E880"
         },
         "type": "bar",
         "x": [
          "finance_real_estate"
         ],
         "xaxis": "x9",
         "y": [
          0.0309446254071661
         ],
         "yaxis": "y9"
        },
        {
         "hoverinfo": "text",
         "hovertext": [
          "<b>prof_sci_mgmt_admin</b><br> 5.1%",
          "<b>prof_sci_mgmt_admin</b><br> 5.7%",
          "<b>prof_sci_mgmt_admin</b><br> 10.5%",
          "<b>prof_sci_mgmt_admin</b><br> 3.3%",
          "<b>prof_sci_mgmt_admin</b><br> 2.0%",
          "<b>prof_sci_mgmt_admin</b><br> 4.9%",
          "<b>prof_sci_mgmt_admin</b><br> 9.2%",
          "<b>prof_sci_mgmt_admin</b><br> 5.1%",
          "<b>prof_sci_mgmt_admin</b><br> 4.9%",
          "<b>prof_sci_mgmt_admin</b><br> 6.4%"
         ],
         "marker": {
          "color": "#FF97FF"
         },
         "type": "bar",
         "x": [
          "prof_sci_mgmt_admin"
         ],
         "xaxis": "x9",
         "y": [
          0.049185667752443
         ],
         "yaxis": "y9"
        },
        {
         "hoverinfo": "text",
         "hovertext": [
          "<b>education_health</b><br> 28.2%",
          "<b>education_health</b><br> 25.6%",
          "<b>education_health</b><br> 25.5%",
          "<b>education_health</b><br> 24.8%",
          "<b>education_health</b><br> 27.9%",
          "<b>education_health</b><br> 28.9%",
          "<b>education_health</b><br> 21.8%",
          "<b>education_health</b><br> 23.9%",
          "<b>education_health</b><br> 19.3%",
          "<b>education_health</b><br> 18.3%"
         ],
         "marker": {
          "color": "#FECB52"
         },
         "type": "bar",
         "x": [
          "education_health"
         ],
         "xaxis": "x9",
         "y": [
          0.1934853420195439
         ],
         "yaxis": "y9"
        },
        {
         "hoverinfo": "text",
         "hovertext": [
          "<b>arts_entertainment</b><br> 5.5%",
          "<b>arts_entertainment</b><br> 10.4%",
          "<b>arts_entertainment</b><br> 7.1%",
          "<b>arts_entertainment</b><br> 5.8%",
          "<b>arts_entertainment</b><br> 2.6%",
          "<b>arts_entertainment</b><br> 5.6%",
          "<b>arts_entertainment</b><br> 6.5%",
          "<b>arts_entertainment</b><br> 6.6%",
          "<b>arts_entertainment</b><br> 3.9%",
          "<b>arts_entertainment</b><br> 11.3%"
         ],
         "marker": {
          "color": "#636EFA"
         },
         "type": "bar",
         "x": [
          "arts_entertainment"
         ],
         "xaxis": "x9",
         "y": [
          0.0390879478827361
         ],
         "yaxis": "y9"
        },
        {
         "hoverinfo": "text",
         "hovertext": [
          "<b>other_services</b><br> 1.7%",
          "<b>other_services</b><br> 5.4%",
          "<b>other_services</b><br> 5.9%",
          "<b>other_services</b><br> 4.6%",
          "<b>other_services</b><br> 7.2%",
          "<b>other_services</b><br> 5.1%",
          "<b>other_services</b><br> 5.6%",
          "<b>other_services</b><br> 6.7%",
          "<b>other_services</b><br> 7.0%",
          "<b>other_services</b><br> 7.5%"
         ],
         "marker": {
          "color": "#EF553B"
         },
         "type": "bar",
         "x": [
          "other_services"
         ],
         "xaxis": "x9",
         "y": [
          0.0700325732899022
         ],
         "yaxis": "y9"
        },
        {
         "hoverinfo": "text",
         "hovertext": [
          "<b>public_admin</b><br> 5.6%",
          "<b>public_admin</b><br> 6.9%",
          "<b>public_admin</b><br> 6.0%",
          "<b>public_admin</b><br> 3.5%",
          "<b>public_admin</b><br> 3.9%",
          "<b>public_admin</b><br> 4.7%",
          "<b>public_admin</b><br> 3.1%",
          "<b>public_admin</b><br> 2.2%",
          "<b>public_admin</b><br> 3.6%",
          "<b>public_admin</b><br> 8.2%"
         ],
         "marker": {
          "color": "#00CC96"
         },
         "type": "bar",
         "x": [
          "public_admin"
         ],
         "xaxis": "x9",
         "y": [
          0.0361563517915309
         ],
         "yaxis": "y9"
        },
        {
         "hoverinfo": "text",
         "hovertext": [
          "<b>agri_forestry_mining</b><br> 5.7%",
          "<b>agri_forestry_mining</b><br> 9.9%",
          "<b>agri_forestry_mining</b><br> 0.5%",
          "<b>agri_forestry_mining</b><br> 5.1%",
          "<b>agri_forestry_mining</b><br> 8.3%",
          "<b>agri_forestry_mining</b><br> 7.6%",
          "<b>agri_forestry_mining</b><br> 2.6%",
          "<b>agri_forestry_mining</b><br> 11.9%",
          "<b>agri_forestry_mining</b><br> 9.5%",
          "<b>agri_forestry_mining</b><br> 10.1%"
         ],
         "marker": {
          "color": "#636EFA"
         },
         "type": "bar",
         "x": [
          "agri_forestry_mining"
         ],
         "xaxis": "x10",
         "y": [
          0.100847705349313
         ],
         "yaxis": "y10"
        },
        {
         "hoverinfo": "text",
         "hovertext": [
          "<b>construction</b><br> 5.5%",
          "<b>construction</b><br> 12.4%",
          "<b>construction</b><br> 11.7%",
          "<b>construction</b><br> 6.5%",
          "<b>construction</b><br> 9.7%",
          "<b>construction</b><br> 5.7%",
          "<b>construction</b><br> 11.7%",
          "<b>construction</b><br> 7.6%",
          "<b>construction</b><br> 9.0%",
          "<b>construction</b><br> 9.8%"
         ],
         "marker": {
          "color": "#EF553B"
         },
         "type": "bar",
         "x": [
          "construction"
         ],
         "xaxis": "x10",
         "y": [
          0.09792458345513
         ],
         "yaxis": "y10"
        },
        {
         "hoverinfo": "text",
         "hovertext": [
          "<b>manufacturing</b><br> 17.2%",
          "<b>manufacturing</b><br> 3.4%",
          "<b>manufacturing</b><br> 14.3%",
          "<b>manufacturing</b><br> 21.3%",
          "<b>manufacturing</b><br> 9.3%",
          "<b>manufacturing</b><br> 18.0%",
          "<b>manufacturing</b><br> 10.4%",
          "<b>manufacturing</b><br> 10.9%",
          "<b>manufacturing</b><br> 18.5%",
          "<b>manufacturing</b><br> 5.2%"
         ],
         "marker": {
          "color": "#00CC96"
         },
         "type": "bar",
         "x": [
          "manufacturing"
         ],
         "xaxis": "x10",
         "y": [
          0.0517392575270388
         ],
         "yaxis": "y10"
        },
        {
         "hoverinfo": "text",
         "hovertext": [
          "<b>wholesale_trade</b><br> 0.6%",
          "<b>wholesale_trade</b><br> 1.8%",
          "<b>wholesale_trade</b><br> 3.8%",
          "<b>wholesale_trade</b><br> 1.4%",
          "<b>wholesale_trade</b><br> 3.6%",
          "<b>wholesale_trade</b><br> 2.5%",
          "<b>wholesale_trade</b><br> 2.2%",
          "<b>wholesale_trade</b><br> 0.5%",
          "<b>wholesale_trade</b><br> 5.1%",
          "<b>wholesale_trade</b><br> 1.6%"
         ],
         "marker": {
          "color": "#AB63FA"
         },
         "type": "bar",
         "x": [
          "wholesale_trade"
         ],
         "xaxis": "x10",
         "y": [
          0.0163694826074247
         ],
         "yaxis": "y10"
        },
        {
         "hoverinfo": "text",
         "hovertext": [
          "<b>retail_trade</b><br> 14.0%",
          "<b>retail_trade</b><br> 6.7%",
          "<b>retail_trade</b><br> 7.9%",
          "<b>retail_trade</b><br> 10.7%",
          "<b>retail_trade</b><br> 11.4%",
          "<b>retail_trade</b><br> 7.7%",
          "<b>retail_trade</b><br> 12.0%",
          "<b>retail_trade</b><br> 10.5%",
          "<b>retail_trade</b><br> 10.8%",
          "<b>retail_trade</b><br> 5.3%"
         ],
         "marker": {
          "color": "#FFA15A"
         },
         "type": "bar",
         "x": [
          "retail_trade"
         ],
         "xaxis": "x10",
         "y": [
          0.0532008184741303
         ],
         "yaxis": "y10"
        },
        {
         "hoverinfo": "text",
         "hovertext": [
          "<b>transport_utilities</b><br> 6.5%",
          "<b>transport_utilities</b><br> 6.1%",
          "<b>transport_utilities</b><br> 3.8%",
          "<b>transport_utilities</b><br> 4.5%",
          "<b>transport_utilities</b><br> 5.9%",
          "<b>transport_utilities</b><br> 5.5%",
          "<b>transport_utilities</b><br> 11.2%",
          "<b>transport_utilities</b><br> 9.1%",
          "<b>transport_utilities</b><br> 4.5%",
          "<b>transport_utilities</b><br> 9.1%"
         ],
         "marker": {
          "color": "#19D3F3"
         },
         "type": "bar",
         "x": [
          "transport_utilities"
         ],
         "xaxis": "x10",
         "y": [
          0.0914937152879275
         ],
         "yaxis": "y10"
        },
        {
         "hoverinfo": "text",
         "hovertext": [
          "<b>information</b><br> 0.2%",
          "<b>information</b><br> 0.8%",
          "<b>information</b><br> 0.6%",
          "<b>information</b><br> 1.9%",
          "<b>information</b><br> 1.8%",
          "<b>information</b><br> 0.3%",
          "<b>information</b><br> 0.4%",
          "<b>information</b><br> 1.0%",
          "<b>information</b><br> 0.6%",
          "<b>information</b><br> 1.2%"
         ],
         "marker": {
          "color": "#FF6692"
         },
         "type": "bar",
         "x": [
          "information"
         ],
         "xaxis": "x10",
         "y": [
          0.0116924875767319
         ],
         "yaxis": "y10"
        },
        {
         "hoverinfo": "text",
         "hovertext": [
          "<b>finance_real_estate</b><br> 4.2%",
          "<b>finance_real_estate</b><br> 5.0%",
          "<b>finance_real_estate</b><br> 2.4%",
          "<b>finance_real_estate</b><br> 6.6%",
          "<b>finance_real_estate</b><br> 6.3%",
          "<b>finance_real_estate</b><br> 3.6%",
          "<b>finance_real_estate</b><br> 3.5%",
          "<b>finance_real_estate</b><br> 4.2%",
          "<b>finance_real_estate</b><br> 3.1%",
          "<b>finance_real_estate</b><br> 5.9%"
         ],
         "marker": {
          "color": "#B6E880"
         },
         "type": "bar",
         "x": [
          "finance_real_estate"
         ],
         "xaxis": "x10",
         "y": [
          0.0593393744519146
         ],
         "yaxis": "y10"
        },
        {
         "hoverinfo": "text",
         "hovertext": [
          "<b>prof_sci_mgmt_admin</b><br> 5.1%",
          "<b>prof_sci_mgmt_admin</b><br> 5.7%",
          "<b>prof_sci_mgmt_admin</b><br> 10.5%",
          "<b>prof_sci_mgmt_admin</b><br> 3.3%",
          "<b>prof_sci_mgmt_admin</b><br> 2.0%",
          "<b>prof_sci_mgmt_admin</b><br> 4.9%",
          "<b>prof_sci_mgmt_admin</b><br> 9.2%",
          "<b>prof_sci_mgmt_admin</b><br> 5.1%",
          "<b>prof_sci_mgmt_admin</b><br> 4.9%",
          "<b>prof_sci_mgmt_admin</b><br> 6.4%"
         ],
         "marker": {
          "color": "#FF97FF"
         },
         "type": "bar",
         "x": [
          "prof_sci_mgmt_admin"
         ],
         "xaxis": "x10",
         "y": [
          0.0640163694826074
         ],
         "yaxis": "y10"
        },
        {
         "hoverinfo": "text",
         "hovertext": [
          "<b>education_health</b><br> 28.2%",
          "<b>education_health</b><br> 25.6%",
          "<b>education_health</b><br> 25.5%",
          "<b>education_health</b><br> 24.8%",
          "<b>education_health</b><br> 27.9%",
          "<b>education_health</b><br> 28.9%",
          "<b>education_health</b><br> 21.8%",
          "<b>education_health</b><br> 23.9%",
          "<b>education_health</b><br> 19.3%",
          "<b>education_health</b><br> 18.3%"
         ],
         "marker": {
          "color": "#FECB52"
         },
         "type": "bar",
         "x": [
          "education_health"
         ],
         "xaxis": "x10",
         "y": [
          0.1826951183864367
         ],
         "yaxis": "y10"
        },
        {
         "hoverinfo": "text",
         "hovertext": [
          "<b>arts_entertainment</b><br> 5.5%",
          "<b>arts_entertainment</b><br> 10.4%",
          "<b>arts_entertainment</b><br> 7.1%",
          "<b>arts_entertainment</b><br> 5.8%",
          "<b>arts_entertainment</b><br> 2.6%",
          "<b>arts_entertainment</b><br> 5.6%",
          "<b>arts_entertainment</b><br> 6.5%",
          "<b>arts_entertainment</b><br> 6.6%",
          "<b>arts_entertainment</b><br> 3.9%",
          "<b>arts_entertainment</b><br> 11.3%"
         ],
         "marker": {
          "color": "#636EFA"
         },
         "type": "bar",
         "x": [
          "arts_entertainment"
         ],
         "xaxis": "x10",
         "y": [
          0.1131248173048816
         ],
         "yaxis": "y10"
        },
        {
         "hoverinfo": "text",
         "hovertext": [
          "<b>other_services</b><br> 1.7%",
          "<b>other_services</b><br> 5.4%",
          "<b>other_services</b><br> 5.9%",
          "<b>other_services</b><br> 4.6%",
          "<b>other_services</b><br> 7.2%",
          "<b>other_services</b><br> 5.1%",
          "<b>other_services</b><br> 5.6%",
          "<b>other_services</b><br> 6.7%",
          "<b>other_services</b><br> 7.0%",
          "<b>other_services</b><br> 7.5%"
         ],
         "marker": {
          "color": "#EF553B"
         },
         "type": "bar",
         "x": [
          "other_services"
         ],
         "xaxis": "x10",
         "y": [
          0.075416544869921
         ],
         "yaxis": "y10"
        },
        {
         "hoverinfo": "text",
         "hovertext": [
          "<b>public_admin</b><br> 5.6%",
          "<b>public_admin</b><br> 6.9%",
          "<b>public_admin</b><br> 6.0%",
          "<b>public_admin</b><br> 3.5%",
          "<b>public_admin</b><br> 3.9%",
          "<b>public_admin</b><br> 4.7%",
          "<b>public_admin</b><br> 3.1%",
          "<b>public_admin</b><br> 2.2%",
          "<b>public_admin</b><br> 3.6%",
          "<b>public_admin</b><br> 8.2%"
         ],
         "marker": {
          "color": "#00CC96"
         },
         "type": "bar",
         "x": [
          "public_admin"
         ],
         "xaxis": "x10",
         "y": [
          0.0821397252265419
         ],
         "yaxis": "y10"
        }
       ],
       "layout": {
        "template": {
         "data": {
          "bar": [
           {
            "error_x": {
             "color": "#2a3f5f"
            },
            "error_y": {
             "color": "#2a3f5f"
            },
            "marker": {
             "line": {
              "color": "#E5ECF6",
              "width": 0.5
             },
             "pattern": {
              "fillmode": "overlay",
              "size": 10,
              "solidity": 0.2
             }
            },
            "type": "bar"
           }
          ],
          "barpolar": [
           {
            "marker": {
             "line": {
              "color": "#E5ECF6",
              "width": 0.5
             },
             "pattern": {
              "fillmode": "overlay",
              "size": 10,
              "solidity": 0.2
             }
            },
            "type": "barpolar"
           }
          ],
          "carpet": [
           {
            "aaxis": {
             "endlinecolor": "#2a3f5f",
             "gridcolor": "white",
             "linecolor": "white",
             "minorgridcolor": "white",
             "startlinecolor": "#2a3f5f"
            },
            "baxis": {
             "endlinecolor": "#2a3f5f",
             "gridcolor": "white",
             "linecolor": "white",
             "minorgridcolor": "white",
             "startlinecolor": "#2a3f5f"
            },
            "type": "carpet"
           }
          ],
          "choropleth": [
           {
            "colorbar": {
             "outlinewidth": 0,
             "ticks": ""
            },
            "type": "choropleth"
           }
          ],
          "contour": [
           {
            "colorbar": {
             "outlinewidth": 0,
             "ticks": ""
            },
            "colorscale": [
             [
              0,
              "#0d0887"
             ],
             [
              0.1111111111111111,
              "#46039f"
             ],
             [
              0.2222222222222222,
              "#7201a8"
             ],
             [
              0.3333333333333333,
              "#9c179e"
             ],
             [
              0.4444444444444444,
              "#bd3786"
             ],
             [
              0.5555555555555556,
              "#d8576b"
             ],
             [
              0.6666666666666666,
              "#ed7953"
             ],
             [
              0.7777777777777778,
              "#fb9f3a"
             ],
             [
              0.8888888888888888,
              "#fdca26"
             ],
             [
              1,
              "#f0f921"
             ]
            ],
            "type": "contour"
           }
          ],
          "contourcarpet": [
           {
            "colorbar": {
             "outlinewidth": 0,
             "ticks": ""
            },
            "type": "contourcarpet"
           }
          ],
          "heatmap": [
           {
            "colorbar": {
             "outlinewidth": 0,
             "ticks": ""
            },
            "colorscale": [
             [
              0,
              "#0d0887"
             ],
             [
              0.1111111111111111,
              "#46039f"
             ],
             [
              0.2222222222222222,
              "#7201a8"
             ],
             [
              0.3333333333333333,
              "#9c179e"
             ],
             [
              0.4444444444444444,
              "#bd3786"
             ],
             [
              0.5555555555555556,
              "#d8576b"
             ],
             [
              0.6666666666666666,
              "#ed7953"
             ],
             [
              0.7777777777777778,
              "#fb9f3a"
             ],
             [
              0.8888888888888888,
              "#fdca26"
             ],
             [
              1,
              "#f0f921"
             ]
            ],
            "type": "heatmap"
           }
          ],
          "heatmapgl": [
           {
            "colorbar": {
             "outlinewidth": 0,
             "ticks": ""
            },
            "colorscale": [
             [
              0,
              "#0d0887"
             ],
             [
              0.1111111111111111,
              "#46039f"
             ],
             [
              0.2222222222222222,
              "#7201a8"
             ],
             [
              0.3333333333333333,
              "#9c179e"
             ],
             [
              0.4444444444444444,
              "#bd3786"
             ],
             [
              0.5555555555555556,
              "#d8576b"
             ],
             [
              0.6666666666666666,
              "#ed7953"
             ],
             [
              0.7777777777777778,
              "#fb9f3a"
             ],
             [
              0.8888888888888888,
              "#fdca26"
             ],
             [
              1,
              "#f0f921"
             ]
            ],
            "type": "heatmapgl"
           }
          ],
          "histogram": [
           {
            "marker": {
             "pattern": {
              "fillmode": "overlay",
              "size": 10,
              "solidity": 0.2
             }
            },
            "type": "histogram"
           }
          ],
          "histogram2d": [
           {
            "colorbar": {
             "outlinewidth": 0,
             "ticks": ""
            },
            "colorscale": [
             [
              0,
              "#0d0887"
             ],
             [
              0.1111111111111111,
              "#46039f"
             ],
             [
              0.2222222222222222,
              "#7201a8"
             ],
             [
              0.3333333333333333,
              "#9c179e"
             ],
             [
              0.4444444444444444,
              "#bd3786"
             ],
             [
              0.5555555555555556,
              "#d8576b"
             ],
             [
              0.6666666666666666,
              "#ed7953"
             ],
             [
              0.7777777777777778,
              "#fb9f3a"
             ],
             [
              0.8888888888888888,
              "#fdca26"
             ],
             [
              1,
              "#f0f921"
             ]
            ],
            "type": "histogram2d"
           }
          ],
          "histogram2dcontour": [
           {
            "colorbar": {
             "outlinewidth": 0,
             "ticks": ""
            },
            "colorscale": [
             [
              0,
              "#0d0887"
             ],
             [
              0.1111111111111111,
              "#46039f"
             ],
             [
              0.2222222222222222,
              "#7201a8"
             ],
             [
              0.3333333333333333,
              "#9c179e"
             ],
             [
              0.4444444444444444,
              "#bd3786"
             ],
             [
              0.5555555555555556,
              "#d8576b"
             ],
             [
              0.6666666666666666,
              "#ed7953"
             ],
             [
              0.7777777777777778,
              "#fb9f3a"
             ],
             [
              0.8888888888888888,
              "#fdca26"
             ],
             [
              1,
              "#f0f921"
             ]
            ],
            "type": "histogram2dcontour"
           }
          ],
          "mesh3d": [
           {
            "colorbar": {
             "outlinewidth": 0,
             "ticks": ""
            },
            "type": "mesh3d"
           }
          ],
          "parcoords": [
           {
            "line": {
             "colorbar": {
              "outlinewidth": 0,
              "ticks": ""
             }
            },
            "type": "parcoords"
           }
          ],
          "pie": [
           {
            "automargin": true,
            "type": "pie"
           }
          ],
          "scatter": [
           {
            "fillpattern": {
             "fillmode": "overlay",
             "size": 10,
             "solidity": 0.2
            },
            "type": "scatter"
           }
          ],
          "scatter3d": [
           {
            "line": {
             "colorbar": {
              "outlinewidth": 0,
              "ticks": ""
             }
            },
            "marker": {
             "colorbar": {
              "outlinewidth": 0,
              "ticks": ""
             }
            },
            "type": "scatter3d"
           }
          ],
          "scattercarpet": [
           {
            "marker": {
             "colorbar": {
              "outlinewidth": 0,
              "ticks": ""
             }
            },
            "type": "scattercarpet"
           }
          ],
          "scattergeo": [
           {
            "marker": {
             "colorbar": {
              "outlinewidth": 0,
              "ticks": ""
             }
            },
            "type": "scattergeo"
           }
          ],
          "scattergl": [
           {
            "marker": {
             "colorbar": {
              "outlinewidth": 0,
              "ticks": ""
             }
            },
            "type": "scattergl"
           }
          ],
          "scattermapbox": [
           {
            "marker": {
             "colorbar": {
              "outlinewidth": 0,
              "ticks": ""
             }
            },
            "type": "scattermapbox"
           }
          ],
          "scatterpolar": [
           {
            "marker": {
             "colorbar": {
              "outlinewidth": 0,
              "ticks": ""
             }
            },
            "type": "scatterpolar"
           }
          ],
          "scatterpolargl": [
           {
            "marker": {
             "colorbar": {
              "outlinewidth": 0,
              "ticks": ""
             }
            },
            "type": "scatterpolargl"
           }
          ],
          "scatterternary": [
           {
            "marker": {
             "colorbar": {
              "outlinewidth": 0,
              "ticks": ""
             }
            },
            "type": "scatterternary"
           }
          ],
          "surface": [
           {
            "colorbar": {
             "outlinewidth": 0,
             "ticks": ""
            },
            "colorscale": [
             [
              0,
              "#0d0887"
             ],
             [
              0.1111111111111111,
              "#46039f"
             ],
             [
              0.2222222222222222,
              "#7201a8"
             ],
             [
              0.3333333333333333,
              "#9c179e"
             ],
             [
              0.4444444444444444,
              "#bd3786"
             ],
             [
              0.5555555555555556,
              "#d8576b"
             ],
             [
              0.6666666666666666,
              "#ed7953"
             ],
             [
              0.7777777777777778,
              "#fb9f3a"
             ],
             [
              0.8888888888888888,
              "#fdca26"
             ],
             [
              1,
              "#f0f921"
             ]
            ],
            "type": "surface"
           }
          ],
          "table": [
           {
            "cells": {
             "fill": {
              "color": "#EBF0F8"
             },
             "line": {
              "color": "white"
             }
            },
            "header": {
             "fill": {
              "color": "#C8D4E3"
             },
             "line": {
              "color": "white"
             }
            },
            "type": "table"
           }
          ]
         },
         "layout": {
          "annotationdefaults": {
           "arrowcolor": "#2a3f5f",
           "arrowhead": 0,
           "arrowwidth": 1
          },
          "autotypenumbers": "strict",
          "coloraxis": {
           "colorbar": {
            "outlinewidth": 0,
            "ticks": ""
           }
          },
          "colorscale": {
           "diverging": [
            [
             0,
             "#8e0152"
            ],
            [
             0.1,
             "#c51b7d"
            ],
            [
             0.2,
             "#de77ae"
            ],
            [
             0.3,
             "#f1b6da"
            ],
            [
             0.4,
             "#fde0ef"
            ],
            [
             0.5,
             "#f7f7f7"
            ],
            [
             0.6,
             "#e6f5d0"
            ],
            [
             0.7,
             "#b8e186"
            ],
            [
             0.8,
             "#7fbc41"
            ],
            [
             0.9,
             "#4d9221"
            ],
            [
             1,
             "#276419"
            ]
           ],
           "sequential": [
            [
             0,
             "#0d0887"
            ],
            [
             0.1111111111111111,
             "#46039f"
            ],
            [
             0.2222222222222222,
             "#7201a8"
            ],
            [
             0.3333333333333333,
             "#9c179e"
            ],
            [
             0.4444444444444444,
             "#bd3786"
            ],
            [
             0.5555555555555556,
             "#d8576b"
            ],
            [
             0.6666666666666666,
             "#ed7953"
            ],
            [
             0.7777777777777778,
             "#fb9f3a"
            ],
            [
             0.8888888888888888,
             "#fdca26"
            ],
            [
             1,
             "#f0f921"
            ]
           ],
           "sequentialminus": [
            [
             0,
             "#0d0887"
            ],
            [
             0.1111111111111111,
             "#46039f"
            ],
            [
             0.2222222222222222,
             "#7201a8"
            ],
            [
             0.3333333333333333,
             "#9c179e"
            ],
            [
             0.4444444444444444,
             "#bd3786"
            ],
            [
             0.5555555555555556,
             "#d8576b"
            ],
            [
             0.6666666666666666,
             "#ed7953"
            ],
            [
             0.7777777777777778,
             "#fb9f3a"
            ],
            [
             0.8888888888888888,
             "#fdca26"
            ],
            [
             1,
             "#f0f921"
            ]
           ]
          },
          "colorway": [
           "#636efa",
           "#EF553B",
           "#00cc96",
           "#ab63fa",
           "#FFA15A",
           "#19d3f3",
           "#FF6692",
           "#B6E880",
           "#FF97FF",
           "#FECB52"
          ],
          "font": {
           "color": "#2a3f5f"
          },
          "geo": {
           "bgcolor": "white",
           "lakecolor": "white",
           "landcolor": "#E5ECF6",
           "showlakes": true,
           "showland": true,
           "subunitcolor": "white"
          },
          "hoverlabel": {
           "align": "left"
          },
          "hovermode": "closest",
          "mapbox": {
           "style": "light"
          },
          "paper_bgcolor": "white",
          "plot_bgcolor": "#E5ECF6",
          "polar": {
           "angularaxis": {
            "gridcolor": "white",
            "linecolor": "white",
            "ticks": ""
           },
           "bgcolor": "#E5ECF6",
           "radialaxis": {
            "gridcolor": "white",
            "linecolor": "white",
            "ticks": ""
           }
          },
          "scene": {
           "xaxis": {
            "backgroundcolor": "#E5ECF6",
            "gridcolor": "white",
            "gridwidth": 2,
            "linecolor": "white",
            "showbackground": true,
            "ticks": "",
            "zerolinecolor": "white"
           },
           "yaxis": {
            "backgroundcolor": "#E5ECF6",
            "gridcolor": "white",
            "gridwidth": 2,
            "linecolor": "white",
            "showbackground": true,
            "ticks": "",
            "zerolinecolor": "white"
           },
           "zaxis": {
            "backgroundcolor": "#E5ECF6",
            "gridcolor": "white",
            "gridwidth": 2,
            "linecolor": "white",
            "showbackground": true,
            "ticks": "",
            "zerolinecolor": "white"
           }
          },
          "shapedefaults": {
           "line": {
            "color": "#2a3f5f"
           }
          },
          "ternary": {
           "aaxis": {
            "gridcolor": "white",
            "linecolor": "white",
            "ticks": ""
           },
           "baxis": {
            "gridcolor": "white",
            "linecolor": "white",
            "ticks": ""
           },
           "bgcolor": "#E5ECF6",
           "caxis": {
            "gridcolor": "white",
            "linecolor": "white",
            "ticks": ""
           }
          },
          "title": {
           "x": 0.05
          },
          "xaxis": {
           "automargin": true,
           "gridcolor": "white",
           "linecolor": "white",
           "ticks": "",
           "title": {
            "standoff": 15
           },
           "zerolinecolor": "white",
           "zerolinewidth": 2
          },
          "yaxis": {
           "automargin": true,
           "gridcolor": "white",
           "linecolor": "white",
           "ticks": "",
           "title": {
            "standoff": 15
           },
           "zerolinecolor": "white",
           "zerolinewidth": 2
          }
         }
        },
        "xaxis": {
         "anchor": "y",
         "domain": [
          0,
          0.2888888888888889
         ],
         "matches": "x10",
         "showticklabels": false,
         "title": {
          "text": "hi"
         }
        },
        "xaxis10": {
         "anchor": "y10",
         "domain": [
          0,
          0.2888888888888889
         ],
         "showticklabels": false,
         "title": {
          "text": "hi"
         }
        },
        "xaxis11": {
         "anchor": "y11",
         "domain": [
          0.35555555555555557,
          0.6444444444444445
         ]
        },
        "xaxis12": {
         "anchor": "y12",
         "domain": [
          0.7111111111111111,
          1
         ]
        },
        "xaxis2": {
         "anchor": "y2",
         "domain": [
          0.35555555555555557,
          0.6444444444444445
         ],
         "matches": "x11",
         "showticklabels": false,
         "title": {
          "text": "hi"
         }
        },
        "xaxis3": {
         "anchor": "y3",
         "domain": [
          0.7111111111111111,
          1
         ],
         "matches": "x12",
         "showticklabels": false,
         "title": {
          "text": "hi"
         }
        },
        "xaxis4": {
         "anchor": "y4",
         "domain": [
          0,
          0.2888888888888889
         ],
         "matches": "x10",
         "showticklabels": false,
         "title": {
          "text": "hi"
         }
        },
        "xaxis5": {
         "anchor": "y5",
         "domain": [
          0.35555555555555557,
          0.6444444444444445
         ],
         "matches": "x11",
         "showticklabels": false,
         "title": {
          "text": "hi"
         }
        },
        "xaxis6": {
         "anchor": "y6",
         "domain": [
          0.7111111111111111,
          1
         ],
         "matches": "x12",
         "showticklabels": false,
         "title": {
          "text": "hi"
         }
        },
        "xaxis7": {
         "anchor": "y7",
         "domain": [
          0,
          0.2888888888888889
         ],
         "matches": "x10",
         "showticklabels": false,
         "title": {
          "text": "hi"
         }
        },
        "xaxis8": {
         "anchor": "y8",
         "domain": [
          0.35555555555555557,
          0.6444444444444445
         ],
         "matches": "x11",
         "showticklabels": false,
         "title": {
          "text": "hi"
         }
        },
        "xaxis9": {
         "anchor": "y9",
         "domain": [
          0.7111111111111111,
          1
         ],
         "matches": "x12",
         "showticklabels": false,
         "title": {
          "text": "hi"
         }
        },
        "yaxis": {
         "anchor": "x",
         "domain": [
          0.80625,
          1
         ]
        },
        "yaxis10": {
         "anchor": "x10",
         "domain": [
          0,
          0.19375
         ]
        },
        "yaxis11": {
         "anchor": "x11",
         "domain": [
          0,
          0.19375
         ]
        },
        "yaxis12": {
         "anchor": "x12",
         "domain": [
          0,
          0.19375
         ]
        },
        "yaxis2": {
         "anchor": "x2",
         "domain": [
          0.80625,
          1
         ]
        },
        "yaxis3": {
         "anchor": "x3",
         "domain": [
          0.80625,
          1
         ]
        },
        "yaxis4": {
         "anchor": "x4",
         "domain": [
          0.5375,
          0.73125
         ]
        },
        "yaxis5": {
         "anchor": "x5",
         "domain": [
          0.5375,
          0.73125
         ]
        },
        "yaxis6": {
         "anchor": "x6",
         "domain": [
          0.5375,
          0.73125
         ]
        },
        "yaxis7": {
         "anchor": "x7",
         "domain": [
          0.26875,
          0.4625
         ]
        },
        "yaxis8": {
         "anchor": "x8",
         "domain": [
          0.26875,
          0.4625
         ]
        },
        "yaxis9": {
         "anchor": "x9",
         "domain": [
          0.26875,
          0.4625
         ]
        }
       }
      }
     },
     "metadata": {},
     "output_type": "display_data"
    },
    {
     "data": {
      "application/vnd.plotly.v1+json": {
       "config": {
        "plotlyServerURL": "https://plot.ly"
       },
       "data": [
        {
         "hoverinfo": "text",
         "hovertext": [
          "<b>agri_forestry_mining</b><br> 5.7%",
          "<b>agri_forestry_mining</b><br> 9.9%",
          "<b>agri_forestry_mining</b><br> 0.5%",
          "<b>agri_forestry_mining</b><br> 5.1%",
          "<b>agri_forestry_mining</b><br> 8.3%",
          "<b>agri_forestry_mining</b><br> 7.6%",
          "<b>agri_forestry_mining</b><br> 2.6%",
          "<b>agri_forestry_mining</b><br> 11.9%",
          "<b>agri_forestry_mining</b><br> 9.5%",
          "<b>agri_forestry_mining</b><br> 10.1%"
         ],
         "name": "agri_forestry_mining",
         "type": "bar",
         "x": [
          "Searcy, AR",
          "Conejos, CO",
          "Lincoln, GA",
          "Monroe, IA",
          "Anderson, KS",
          "Doniphan, KS",
          "Ballard, KY",
          "Franklin, MS",
          "Dade, MO",
          "McCulloch, TX"
         ],
         "y": [
          0.0571428571428571,
          0.0993548387096774,
          0.0052151238591916,
          0.0507226615762203,
          0.0832837596668649,
          0.0755922278413627,
          0.0256014805675508,
          0.1188118811881188,
          0.0954397394136807,
          0.100847705349313
         ]
        },
        {
         "hoverinfo": "text",
         "hovertext": [
          "<b>construction</b><br> 5.5%",
          "<b>construction</b><br> 12.4%",
          "<b>construction</b><br> 11.7%",
          "<b>construction</b><br> 6.5%",
          "<b>construction</b><br> 9.7%",
          "<b>construction</b><br> 5.7%",
          "<b>construction</b><br> 11.7%",
          "<b>construction</b><br> 7.6%",
          "<b>construction</b><br> 9.0%",
          "<b>construction</b><br> 9.8%"
         ],
         "name": "construction",
         "type": "bar",
         "x": [
          "Searcy, AR",
          "Conejos, CO",
          "Lincoln, GA",
          "Monroe, IA",
          "Anderson, KS",
          "Doniphan, KS",
          "Ballard, KY",
          "Franklin, MS",
          "Dade, MO",
          "McCulloch, TX"
         ],
         "y": [
          0.0547332185886402,
          0.1235483870967742,
          0.1170143415906127,
          0.0651758931006272,
          0.0972635336109458,
          0.0569603406973649,
          0.1165946946329426,
          0.0761614623000761,
          0.0899022801302931,
          0.09792458345513
         ]
        },
        {
         "hoverinfo": "text",
         "hovertext": [
          "<b>manufacturing</b><br> 17.2%",
          "<b>manufacturing</b><br> 3.4%",
          "<b>manufacturing</b><br> 14.3%",
          "<b>manufacturing</b><br> 21.3%",
          "<b>manufacturing</b><br> 9.3%",
          "<b>manufacturing</b><br> 18.0%",
          "<b>manufacturing</b><br> 10.4%",
          "<b>manufacturing</b><br> 10.9%",
          "<b>manufacturing</b><br> 18.5%",
          "<b>manufacturing</b><br> 5.2%"
         ],
         "name": "manufacturing",
         "type": "bar",
         "x": [
          "Searcy, AR",
          "Conejos, CO",
          "Lincoln, GA",
          "Monroe, IA",
          "Anderson, KS",
          "Doniphan, KS",
          "Ballard, KY",
          "Franklin, MS",
          "Dade, MO",
          "McCulloch, TX"
         ],
         "y": [
          0.1721170395869191,
          0.0335483870967741,
          0.143089960886571,
          0.2132533406053995,
          0.0930993456276026,
          0.1801969656640936,
          0.1036397285626156,
          0.1085300837776085,
          0.1853420195439739,
          0.0517392575270388
         ]
        },
        {
         "hoverinfo": "text",
         "hovertext": [
          "<b>wholesale_trade</b><br> 0.6%",
          "<b>wholesale_trade</b><br> 1.8%",
          "<b>wholesale_trade</b><br> 3.8%",
          "<b>wholesale_trade</b><br> 1.4%",
          "<b>wholesale_trade</b><br> 3.6%",
          "<b>wholesale_trade</b><br> 2.5%",
          "<b>wholesale_trade</b><br> 2.2%",
          "<b>wholesale_trade</b><br> 0.5%",
          "<b>wholesale_trade</b><br> 5.1%",
          "<b>wholesale_trade</b><br> 1.6%"
         ],
         "name": "wholesale_trade",
         "type": "bar",
         "x": [
          "Searcy, AR",
          "Conejos, CO",
          "Lincoln, GA",
          "Monroe, IA",
          "Anderson, KS",
          "Doniphan, KS",
          "Ballard, KY",
          "Franklin, MS",
          "Dade, MO",
          "McCulloch, TX"
         ],
         "y": [
          0.0055077452667814,
          0.0183870967741935,
          0.0378096479791395,
          0.0144532315244068,
          0.0362879238548483,
          0.0247537929198828,
          0.0219000616903146,
          0.0045696877380045,
          0.0511400651465798,
          0.0163694826074247
         ]
        },
        {
         "hoverinfo": "text",
         "hovertext": [
          "<b>retail_trade</b><br> 14.0%",
          "<b>retail_trade</b><br> 6.7%",
          "<b>retail_trade</b><br> 7.9%",
          "<b>retail_trade</b><br> 10.7%",
          "<b>retail_trade</b><br> 11.4%",
          "<b>retail_trade</b><br> 7.7%",
          "<b>retail_trade</b><br> 12.0%",
          "<b>retail_trade</b><br> 10.5%",
          "<b>retail_trade</b><br> 10.8%",
          "<b>retail_trade</b><br> 5.3%"
         ],
         "name": "retail_trade",
         "type": "bar",
         "x": [
          "Searcy, AR",
          "Conejos, CO",
          "Lincoln, GA",
          "Monroe, IA",
          "Anderson, KS",
          "Doniphan, KS",
          "Ballard, KY",
          "Franklin, MS",
          "Dade, MO",
          "McCulloch, TX"
         ],
         "y": [
          0.1401032702237521,
          0.0670967741935483,
          0.0792046936114732,
          0.1068993727842923,
          0.114217727543129,
          0.0774554165557625,
          0.1196792103639728,
          0.1054836252856054,
          0.10814332247557,
          0.0532008184741303
         ]
        },
        {
         "hoverinfo": "text",
         "hovertext": [
          "<b>transport_utilities</b><br> 6.5%",
          "<b>transport_utilities</b><br> 6.1%",
          "<b>transport_utilities</b><br> 3.8%",
          "<b>transport_utilities</b><br> 4.5%",
          "<b>transport_utilities</b><br> 5.9%",
          "<b>transport_utilities</b><br> 5.5%",
          "<b>transport_utilities</b><br> 11.2%",
          "<b>transport_utilities</b><br> 9.1%",
          "<b>transport_utilities</b><br> 4.5%",
          "<b>transport_utilities</b><br> 9.1%"
         ],
         "name": "transport_utilities",
         "type": "bar",
         "x": [
          "Searcy, AR",
          "Conejos, CO",
          "Lincoln, GA",
          "Monroe, IA",
          "Anderson, KS",
          "Doniphan, KS",
          "Ballard, KY",
          "Franklin, MS",
          "Dade, MO",
          "McCulloch, TX"
         ],
         "y": [
          0.0654044750430292,
          0.0612903225806451,
          0.0378096479791395,
          0.0452686119443686,
          0.0594883997620464,
          0.0548309821666223,
          0.1122763726095003,
          0.091012947448591,
          0.0452768729641693,
          0.0914937152879275
         ]
        },
        {
         "hoverinfo": "text",
         "hovertext": [
          "<b>information</b><br> 0.2%",
          "<b>information</b><br> 0.8%",
          "<b>information</b><br> 0.6%",
          "<b>information</b><br> 1.9%",
          "<b>information</b><br> 1.8%",
          "<b>information</b><br> 0.3%",
          "<b>information</b><br> 0.4%",
          "<b>information</b><br> 1.0%",
          "<b>information</b><br> 0.6%",
          "<b>information</b><br> 1.2%"
         ],
         "name": "information",
         "type": "bar",
         "x": [
          "Searcy, AR",
          "Conejos, CO",
          "Lincoln, GA",
          "Monroe, IA",
          "Anderson, KS",
          "Doniphan, KS",
          "Ballard, KY",
          "Franklin, MS",
          "Dade, MO",
          "McCulloch, TX"
         ],
         "y": [
          0.0017211703958691,
          0.0077419354838709,
          0.00619295958279,
          0.0188164712298881,
          0.0178465199286139,
          0.0034602076124567,
          0.0037014188772362,
          0.0095201827875095,
          0.0058631921824104,
          0.0116924875767319
         ]
        },
        {
         "hoverinfo": "text",
         "hovertext": [
          "<b>finance_real_estate</b><br> 4.2%",
          "<b>finance_real_estate</b><br> 5.0%",
          "<b>finance_real_estate</b><br> 2.4%",
          "<b>finance_real_estate</b><br> 6.6%",
          "<b>finance_real_estate</b><br> 6.3%",
          "<b>finance_real_estate</b><br> 3.6%",
          "<b>finance_real_estate</b><br> 3.5%",
          "<b>finance_real_estate</b><br> 4.2%",
          "<b>finance_real_estate</b><br> 3.1%",
          "<b>finance_real_estate</b><br> 5.9%"
         ],
         "name": "finance_real_estate",
         "type": "bar",
         "x": [
          "Searcy, AR",
          "Conejos, CO",
          "Lincoln, GA",
          "Monroe, IA",
          "Anderson, KS",
          "Doniphan, KS",
          "Ballard, KY",
          "Franklin, MS",
          "Dade, MO",
          "McCulloch, TX"
         ],
         "y": [
          0.0423407917383821,
          0.0496774193548387,
          0.0244458930899608,
          0.0657212980638123,
          0.0633551457465794,
          0.0356667553899387,
          0.0348550277606415,
          0.0418888042650418,
          0.0309446254071661,
          0.0593393744519146
         ]
        },
        {
         "hoverinfo": "text",
         "hovertext": [
          "<b>prof_sci_mgmt_admin</b><br> 5.1%",
          "<b>prof_sci_mgmt_admin</b><br> 5.7%",
          "<b>prof_sci_mgmt_admin</b><br> 10.5%",
          "<b>prof_sci_mgmt_admin</b><br> 3.3%",
          "<b>prof_sci_mgmt_admin</b><br> 2.0%",
          "<b>prof_sci_mgmt_admin</b><br> 4.9%",
          "<b>prof_sci_mgmt_admin</b><br> 9.2%",
          "<b>prof_sci_mgmt_admin</b><br> 5.1%",
          "<b>prof_sci_mgmt_admin</b><br> 4.9%",
          "<b>prof_sci_mgmt_admin</b><br> 6.4%"
         ],
         "name": "prof_sci_mgmt_admin",
         "type": "bar",
         "x": [
          "Searcy, AR",
          "Conejos, CO",
          "Lincoln, GA",
          "Monroe, IA",
          "Anderson, KS",
          "Doniphan, KS",
          "Ballard, KY",
          "Franklin, MS",
          "Dade, MO",
          "McCulloch, TX"
         ],
         "y": [
          0.0506024096385542,
          0.0567741935483871,
          0.104954367666232,
          0.033269702754295,
          0.0199286139202855,
          0.0487090763907372,
          0.0916101172115977,
          0.0506473724295506,
          0.049185667752443,
          0.0640163694826074
         ]
        },
        {
         "hoverinfo": "text",
         "hovertext": [
          "<b>education_health</b><br> 28.2%",
          "<b>education_health</b><br> 25.6%",
          "<b>education_health</b><br> 25.5%",
          "<b>education_health</b><br> 24.8%",
          "<b>education_health</b><br> 27.9%",
          "<b>education_health</b><br> 28.9%",
          "<b>education_health</b><br> 21.8%",
          "<b>education_health</b><br> 23.9%",
          "<b>education_health</b><br> 19.3%",
          "<b>education_health</b><br> 18.3%"
         ],
         "name": "education_health",
         "type": "bar",
         "x": [
          "Searcy, AR",
          "Conejos, CO",
          "Lincoln, GA",
          "Monroe, IA",
          "Anderson, KS",
          "Doniphan, KS",
          "Ballard, KY",
          "Franklin, MS",
          "Dade, MO",
          "McCulloch, TX"
         ],
         "y": [
          0.2819277108433735,
          0.2558064516129032,
          0.2545632333767927,
          0.2476138532860649,
          0.2787031528851874,
          0.2893265903646526,
          0.2180752621838371,
          0.2387661843107387,
          0.1934853420195439,
          0.1826951183864367
         ]
        },
        {
         "hoverinfo": "text",
         "hovertext": [
          "<b>arts_entertainment</b><br> 5.5%",
          "<b>arts_entertainment</b><br> 10.4%",
          "<b>arts_entertainment</b><br> 7.1%",
          "<b>arts_entertainment</b><br> 5.8%",
          "<b>arts_entertainment</b><br> 2.6%",
          "<b>arts_entertainment</b><br> 5.6%",
          "<b>arts_entertainment</b><br> 6.5%",
          "<b>arts_entertainment</b><br> 6.6%",
          "<b>arts_entertainment</b><br> 3.9%",
          "<b>arts_entertainment</b><br> 11.3%"
         ],
         "name": "arts_entertainment",
         "type": "bar",
         "x": [
          "Searcy, AR",
          "Conejos, CO",
          "Lincoln, GA",
          "Monroe, IA",
          "Anderson, KS",
          "Doniphan, KS",
          "Ballard, KY",
          "Franklin, MS",
          "Dade, MO",
          "McCulloch, TX"
         ],
         "y": [
          0.0554216867469879,
          0.1038709677419354,
          0.0707301173402868,
          0.0575402236160349,
          0.0255800118976799,
          0.0556294916156507,
          0.0653917334978408,
          0.0662604722010662,
          0.0390879478827361,
          0.1131248173048816
         ]
        },
        {
         "hoverinfo": "text",
         "hovertext": [
          "<b>other_services</b><br> 1.7%",
          "<b>other_services</b><br> 5.4%",
          "<b>other_services</b><br> 5.9%",
          "<b>other_services</b><br> 4.6%",
          "<b>other_services</b><br> 7.2%",
          "<b>other_services</b><br> 5.1%",
          "<b>other_services</b><br> 5.6%",
          "<b>other_services</b><br> 6.7%",
          "<b>other_services</b><br> 7.0%",
          "<b>other_services</b><br> 7.5%"
         ],
         "name": "other_services",
         "type": "bar",
         "x": [
          "Searcy, AR",
          "Conejos, CO",
          "Lincoln, GA",
          "Monroe, IA",
          "Anderson, KS",
          "Doniphan, KS",
          "Ballard, KY",
          "Franklin, MS",
          "Dade, MO",
          "McCulloch, TX"
         ],
         "y": [
          0.0172117039586919,
          0.0535483870967741,
          0.059322033898305,
          0.046359421870739,
          0.0719809637120761,
          0.050572265105137,
          0.0555212831585441,
          0.0666412795125666,
          0.0700325732899022,
          0.075416544869921
         ]
        },
        {
         "hoverinfo": "text",
         "hovertext": [
          "<b>public_admin</b><br> 5.6%",
          "<b>public_admin</b><br> 6.9%",
          "<b>public_admin</b><br> 6.0%",
          "<b>public_admin</b><br> 3.5%",
          "<b>public_admin</b><br> 3.9%",
          "<b>public_admin</b><br> 4.7%",
          "<b>public_admin</b><br> 3.1%",
          "<b>public_admin</b><br> 2.2%",
          "<b>public_admin</b><br> 3.6%",
          "<b>public_admin</b><br> 8.2%"
         ],
         "name": "public_admin",
         "type": "bar",
         "x": [
          "Searcy, AR",
          "Conejos, CO",
          "Lincoln, GA",
          "Monroe, IA",
          "Anderson, KS",
          "Doniphan, KS",
          "Ballard, KY",
          "Franklin, MS",
          "Dade, MO",
          "McCulloch, TX"
         ],
         "y": [
          0.0557659208261617,
          0.0693548387096774,
          0.0596479791395045,
          0.0349059176438505,
          0.0389649018441403,
          0.0468458876763375,
          0.0311536088834053,
          0.0217060167555217,
          0.0361563517915309,
          0.0821397252265419
         ]
        }
       ],
       "layout": {
        "barmode": "stack",
        "template": {
         "data": {
          "bar": [
           {
            "error_x": {
             "color": "#2a3f5f"
            },
            "error_y": {
             "color": "#2a3f5f"
            },
            "marker": {
             "line": {
              "color": "#E5ECF6",
              "width": 0.5
             },
             "pattern": {
              "fillmode": "overlay",
              "size": 10,
              "solidity": 0.2
             }
            },
            "type": "bar"
           }
          ],
          "barpolar": [
           {
            "marker": {
             "line": {
              "color": "#E5ECF6",
              "width": 0.5
             },
             "pattern": {
              "fillmode": "overlay",
              "size": 10,
              "solidity": 0.2
             }
            },
            "type": "barpolar"
           }
          ],
          "carpet": [
           {
            "aaxis": {
             "endlinecolor": "#2a3f5f",
             "gridcolor": "white",
             "linecolor": "white",
             "minorgridcolor": "white",
             "startlinecolor": "#2a3f5f"
            },
            "baxis": {
             "endlinecolor": "#2a3f5f",
             "gridcolor": "white",
             "linecolor": "white",
             "minorgridcolor": "white",
             "startlinecolor": "#2a3f5f"
            },
            "type": "carpet"
           }
          ],
          "choropleth": [
           {
            "colorbar": {
             "outlinewidth": 0,
             "ticks": ""
            },
            "type": "choropleth"
           }
          ],
          "contour": [
           {
            "colorbar": {
             "outlinewidth": 0,
             "ticks": ""
            },
            "colorscale": [
             [
              0,
              "#0d0887"
             ],
             [
              0.1111111111111111,
              "#46039f"
             ],
             [
              0.2222222222222222,
              "#7201a8"
             ],
             [
              0.3333333333333333,
              "#9c179e"
             ],
             [
              0.4444444444444444,
              "#bd3786"
             ],
             [
              0.5555555555555556,
              "#d8576b"
             ],
             [
              0.6666666666666666,
              "#ed7953"
             ],
             [
              0.7777777777777778,
              "#fb9f3a"
             ],
             [
              0.8888888888888888,
              "#fdca26"
             ],
             [
              1,
              "#f0f921"
             ]
            ],
            "type": "contour"
           }
          ],
          "contourcarpet": [
           {
            "colorbar": {
             "outlinewidth": 0,
             "ticks": ""
            },
            "type": "contourcarpet"
           }
          ],
          "heatmap": [
           {
            "colorbar": {
             "outlinewidth": 0,
             "ticks": ""
            },
            "colorscale": [
             [
              0,
              "#0d0887"
             ],
             [
              0.1111111111111111,
              "#46039f"
             ],
             [
              0.2222222222222222,
              "#7201a8"
             ],
             [
              0.3333333333333333,
              "#9c179e"
             ],
             [
              0.4444444444444444,
              "#bd3786"
             ],
             [
              0.5555555555555556,
              "#d8576b"
             ],
             [
              0.6666666666666666,
              "#ed7953"
             ],
             [
              0.7777777777777778,
              "#fb9f3a"
             ],
             [
              0.8888888888888888,
              "#fdca26"
             ],
             [
              1,
              "#f0f921"
             ]
            ],
            "type": "heatmap"
           }
          ],
          "heatmapgl": [
           {
            "colorbar": {
             "outlinewidth": 0,
             "ticks": ""
            },
            "colorscale": [
             [
              0,
              "#0d0887"
             ],
             [
              0.1111111111111111,
              "#46039f"
             ],
             [
              0.2222222222222222,
              "#7201a8"
             ],
             [
              0.3333333333333333,
              "#9c179e"
             ],
             [
              0.4444444444444444,
              "#bd3786"
             ],
             [
              0.5555555555555556,
              "#d8576b"
             ],
             [
              0.6666666666666666,
              "#ed7953"
             ],
             [
              0.7777777777777778,
              "#fb9f3a"
             ],
             [
              0.8888888888888888,
              "#fdca26"
             ],
             [
              1,
              "#f0f921"
             ]
            ],
            "type": "heatmapgl"
           }
          ],
          "histogram": [
           {
            "marker": {
             "pattern": {
              "fillmode": "overlay",
              "size": 10,
              "solidity": 0.2
             }
            },
            "type": "histogram"
           }
          ],
          "histogram2d": [
           {
            "colorbar": {
             "outlinewidth": 0,
             "ticks": ""
            },
            "colorscale": [
             [
              0,
              "#0d0887"
             ],
             [
              0.1111111111111111,
              "#46039f"
             ],
             [
              0.2222222222222222,
              "#7201a8"
             ],
             [
              0.3333333333333333,
              "#9c179e"
             ],
             [
              0.4444444444444444,
              "#bd3786"
             ],
             [
              0.5555555555555556,
              "#d8576b"
             ],
             [
              0.6666666666666666,
              "#ed7953"
             ],
             [
              0.7777777777777778,
              "#fb9f3a"
             ],
             [
              0.8888888888888888,
              "#fdca26"
             ],
             [
              1,
              "#f0f921"
             ]
            ],
            "type": "histogram2d"
           }
          ],
          "histogram2dcontour": [
           {
            "colorbar": {
             "outlinewidth": 0,
             "ticks": ""
            },
            "colorscale": [
             [
              0,
              "#0d0887"
             ],
             [
              0.1111111111111111,
              "#46039f"
             ],
             [
              0.2222222222222222,
              "#7201a8"
             ],
             [
              0.3333333333333333,
              "#9c179e"
             ],
             [
              0.4444444444444444,
              "#bd3786"
             ],
             [
              0.5555555555555556,
              "#d8576b"
             ],
             [
              0.6666666666666666,
              "#ed7953"
             ],
             [
              0.7777777777777778,
              "#fb9f3a"
             ],
             [
              0.8888888888888888,
              "#fdca26"
             ],
             [
              1,
              "#f0f921"
             ]
            ],
            "type": "histogram2dcontour"
           }
          ],
          "mesh3d": [
           {
            "colorbar": {
             "outlinewidth": 0,
             "ticks": ""
            },
            "type": "mesh3d"
           }
          ],
          "parcoords": [
           {
            "line": {
             "colorbar": {
              "outlinewidth": 0,
              "ticks": ""
             }
            },
            "type": "parcoords"
           }
          ],
          "pie": [
           {
            "automargin": true,
            "type": "pie"
           }
          ],
          "scatter": [
           {
            "fillpattern": {
             "fillmode": "overlay",
             "size": 10,
             "solidity": 0.2
            },
            "type": "scatter"
           }
          ],
          "scatter3d": [
           {
            "line": {
             "colorbar": {
              "outlinewidth": 0,
              "ticks": ""
             }
            },
            "marker": {
             "colorbar": {
              "outlinewidth": 0,
              "ticks": ""
             }
            },
            "type": "scatter3d"
           }
          ],
          "scattercarpet": [
           {
            "marker": {
             "colorbar": {
              "outlinewidth": 0,
              "ticks": ""
             }
            },
            "type": "scattercarpet"
           }
          ],
          "scattergeo": [
           {
            "marker": {
             "colorbar": {
              "outlinewidth": 0,
              "ticks": ""
             }
            },
            "type": "scattergeo"
           }
          ],
          "scattergl": [
           {
            "marker": {
             "colorbar": {
              "outlinewidth": 0,
              "ticks": ""
             }
            },
            "type": "scattergl"
           }
          ],
          "scattermapbox": [
           {
            "marker": {
             "colorbar": {
              "outlinewidth": 0,
              "ticks": ""
             }
            },
            "type": "scattermapbox"
           }
          ],
          "scatterpolar": [
           {
            "marker": {
             "colorbar": {
              "outlinewidth": 0,
              "ticks": ""
             }
            },
            "type": "scatterpolar"
           }
          ],
          "scatterpolargl": [
           {
            "marker": {
             "colorbar": {
              "outlinewidth": 0,
              "ticks": ""
             }
            },
            "type": "scatterpolargl"
           }
          ],
          "scatterternary": [
           {
            "marker": {
             "colorbar": {
              "outlinewidth": 0,
              "ticks": ""
             }
            },
            "type": "scatterternary"
           }
          ],
          "surface": [
           {
            "colorbar": {
             "outlinewidth": 0,
             "ticks": ""
            },
            "colorscale": [
             [
              0,
              "#0d0887"
             ],
             [
              0.1111111111111111,
              "#46039f"
             ],
             [
              0.2222222222222222,
              "#7201a8"
             ],
             [
              0.3333333333333333,
              "#9c179e"
             ],
             [
              0.4444444444444444,
              "#bd3786"
             ],
             [
              0.5555555555555556,
              "#d8576b"
             ],
             [
              0.6666666666666666,
              "#ed7953"
             ],
             [
              0.7777777777777778,
              "#fb9f3a"
             ],
             [
              0.8888888888888888,
              "#fdca26"
             ],
             [
              1,
              "#f0f921"
             ]
            ],
            "type": "surface"
           }
          ],
          "table": [
           {
            "cells": {
             "fill": {
              "color": "#EBF0F8"
             },
             "line": {
              "color": "white"
             }
            },
            "header": {
             "fill": {
              "color": "#C8D4E3"
             },
             "line": {
              "color": "white"
             }
            },
            "type": "table"
           }
          ]
         },
         "layout": {
          "annotationdefaults": {
           "arrowcolor": "#2a3f5f",
           "arrowhead": 0,
           "arrowwidth": 1
          },
          "autotypenumbers": "strict",
          "coloraxis": {
           "colorbar": {
            "outlinewidth": 0,
            "ticks": ""
           }
          },
          "colorscale": {
           "diverging": [
            [
             0,
             "#8e0152"
            ],
            [
             0.1,
             "#c51b7d"
            ],
            [
             0.2,
             "#de77ae"
            ],
            [
             0.3,
             "#f1b6da"
            ],
            [
             0.4,
             "#fde0ef"
            ],
            [
             0.5,
             "#f7f7f7"
            ],
            [
             0.6,
             "#e6f5d0"
            ],
            [
             0.7,
             "#b8e186"
            ],
            [
             0.8,
             "#7fbc41"
            ],
            [
             0.9,
             "#4d9221"
            ],
            [
             1,
             "#276419"
            ]
           ],
           "sequential": [
            [
             0,
             "#0d0887"
            ],
            [
             0.1111111111111111,
             "#46039f"
            ],
            [
             0.2222222222222222,
             "#7201a8"
            ],
            [
             0.3333333333333333,
             "#9c179e"
            ],
            [
             0.4444444444444444,
             "#bd3786"
            ],
            [
             0.5555555555555556,
             "#d8576b"
            ],
            [
             0.6666666666666666,
             "#ed7953"
            ],
            [
             0.7777777777777778,
             "#fb9f3a"
            ],
            [
             0.8888888888888888,
             "#fdca26"
            ],
            [
             1,
             "#f0f921"
            ]
           ],
           "sequentialminus": [
            [
             0,
             "#0d0887"
            ],
            [
             0.1111111111111111,
             "#46039f"
            ],
            [
             0.2222222222222222,
             "#7201a8"
            ],
            [
             0.3333333333333333,
             "#9c179e"
            ],
            [
             0.4444444444444444,
             "#bd3786"
            ],
            [
             0.5555555555555556,
             "#d8576b"
            ],
            [
             0.6666666666666666,
             "#ed7953"
            ],
            [
             0.7777777777777778,
             "#fb9f3a"
            ],
            [
             0.8888888888888888,
             "#fdca26"
            ],
            [
             1,
             "#f0f921"
            ]
           ]
          },
          "colorway": [
           "#636efa",
           "#EF553B",
           "#00cc96",
           "#ab63fa",
           "#FFA15A",
           "#19d3f3",
           "#FF6692",
           "#B6E880",
           "#FF97FF",
           "#FECB52"
          ],
          "font": {
           "color": "#2a3f5f"
          },
          "geo": {
           "bgcolor": "white",
           "lakecolor": "white",
           "landcolor": "#E5ECF6",
           "showlakes": true,
           "showland": true,
           "subunitcolor": "white"
          },
          "hoverlabel": {
           "align": "left"
          },
          "hovermode": "closest",
          "mapbox": {
           "style": "light"
          },
          "paper_bgcolor": "white",
          "plot_bgcolor": "#E5ECF6",
          "polar": {
           "angularaxis": {
            "gridcolor": "white",
            "linecolor": "white",
            "ticks": ""
           },
           "bgcolor": "#E5ECF6",
           "radialaxis": {
            "gridcolor": "white",
            "linecolor": "white",
            "ticks": ""
           }
          },
          "scene": {
           "xaxis": {
            "backgroundcolor": "#E5ECF6",
            "gridcolor": "white",
            "gridwidth": 2,
            "linecolor": "white",
            "showbackground": true,
            "ticks": "",
            "zerolinecolor": "white"
           },
           "yaxis": {
            "backgroundcolor": "#E5ECF6",
            "gridcolor": "white",
            "gridwidth": 2,
            "linecolor": "white",
            "showbackground": true,
            "ticks": "",
            "zerolinecolor": "white"
           },
           "zaxis": {
            "backgroundcolor": "#E5ECF6",
            "gridcolor": "white",
            "gridwidth": 2,
            "linecolor": "white",
            "showbackground": true,
            "ticks": "",
            "zerolinecolor": "white"
           }
          },
          "shapedefaults": {
           "line": {
            "color": "#2a3f5f"
           }
          },
          "ternary": {
           "aaxis": {
            "gridcolor": "white",
            "linecolor": "white",
            "ticks": ""
           },
           "baxis": {
            "gridcolor": "white",
            "linecolor": "white",
            "ticks": ""
           },
           "bgcolor": "#E5ECF6",
           "caxis": {
            "gridcolor": "white",
            "linecolor": "white",
            "ticks": ""
           }
          },
          "title": {
           "x": 0.05
          },
          "xaxis": {
           "automargin": true,
           "gridcolor": "white",
           "linecolor": "white",
           "ticks": "",
           "title": {
            "standoff": 15
           },
           "zerolinecolor": "white",
           "zerolinewidth": 2
          },
          "yaxis": {
           "automargin": true,
           "gridcolor": "white",
           "linecolor": "white",
           "ticks": "",
           "title": {
            "standoff": 15
           },
           "zerolinecolor": "white",
           "zerolinewidth": 2
          }
         }
        },
        "yaxis": {
         "showgrid": false,
         "showticklabels": false
        }
       }
      }
     },
     "metadata": {},
     "output_type": "display_data"
    }
   ],
   "source": [
    "kins_df = f.euclidean_kins\n",
    "# set index to GeoName, if not already\n",
    "kins_df.set_index(\"GeoName\", inplace=True)\n",
    "variable = \"industry\"\n",
    "\n",
    "path = find_repo_root()\n",
    "variable_df = pd.read_csv(os.path.join(path, \"data/processed/\" + variable + \"_wide.csv\"))\n",
    "variable_df.set_index(\"GeoName\", inplace=True)\n",
    "\n",
    "n_kins = 10\n",
    "\n",
    "df = variable_df[variable_df.index.isin(kins_df.index[0:n_kins])]\n",
    "\n",
    "\n",
    "# Create a subplot figure\n",
    "fig = plot_kins_hist(df)\n",
    "fig.show()\n",
    "fig = plot_kins_stack_hist(df)\n",
    "fig.show()"
   ]
  },
  {
   "cell_type": "code",
   "execution_count": 97,
   "metadata": {},
   "outputs": [
    {
     "data": {
      "text/plain": [
       "Index(['GeoFIPS', '2001', '2002', '2003', '2004', '2005', '2006', '2007',\n",
       "       '2008', '2009', '2010', '2011', '2013', '2014', '2015', '2016', '2017',\n",
       "       '2018', '2019', '2020', '2021', '1993_population', '1994_population',\n",
       "       '1995_population', '1996_population', '1997_population',\n",
       "       '1998_population', '1999_population', '2000_population',\n",
       "       '2001_population', '2002_population', '2003_population',\n",
       "       '2004_population', '2005_population', '2006_population',\n",
       "       '2007_population', '2008_population', '2009_population',\n",
       "       '2010_population', '2011_population', '2012_population',\n",
       "       '2013_population', '2014_population', '2015_population',\n",
       "       '2016_population', '2017_population', '2018_population',\n",
       "       '2019_population', '2020_population', '2021_population',\n",
       "       'distance to 20003', 'percentile'],\n",
       "      dtype='object')"
      ]
     },
     "execution_count": 97,
     "metadata": {},
     "output_type": "execute_result"
    }
   ],
   "source": [
    "# plotting function \n",
    "kins_df = f.euclidean_kins\n",
    "kins_df.columns\n"
   ]
  },
  {
   "cell_type": "code",
   "execution_count": 98,
   "metadata": {},
   "outputs": [
    {
     "data": {
      "text/plain": [
       "10"
      ]
     },
     "execution_count": 98,
     "metadata": {},
     "output_type": "execute_result"
    }
   ],
   "source": [
    "len(df)"
   ]
  },
  {
   "cell_type": "code",
   "execution_count": null,
   "metadata": {},
   "outputs": [],
   "source": []
  }
 ],
 "metadata": {
  "kernelspec": {
   "display_name": "venv",
   "language": "python",
   "name": "python3"
  },
  "language_info": {
   "codemirror_mode": {
    "name": "ipython",
    "version": 3
   },
   "file_extension": ".py",
   "mimetype": "text/x-python",
   "name": "python",
   "nbconvert_exporter": "python",
   "pygments_lexer": "ipython3",
   "version": "3.10.12"
  }
 },
 "nbformat": 4,
 "nbformat_minor": 2
}
