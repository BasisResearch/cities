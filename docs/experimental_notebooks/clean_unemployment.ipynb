{
 "cells": [
  {
   "cell_type": "code",
   "execution_count": 1,
   "metadata": {},
   "outputs": [],
   "source": [
    "import requests\n",
    "import os\n",
    "import pandas as pd\n"
   ]
  },
  {
   "cell_type": "code",
   "execution_count": 38,
   "metadata": {},
   "outputs": [
    {
     "name": "stdout",
     "output_type": "stream",
     "text": [
      "https://www.bls.gov/lau/laucnty90.xlsx\n"
     ]
    },
    {
     "name": "stderr",
     "output_type": "stream",
     "text": [
      "/var/folders/b6/yxvwzrjx5mlgxfckqfcn8tv40000gn/T/ipykernel_46515/2576309016.py:22: FutureWarning: Passing a set as an indexer is deprecated and will raise in a future version. Use a list instead.\n",
      "  df_extracted = df[{'Unnamed: 2','Unnamed: 3', 'Unnamed: 9'}][5:].rename(columns={'Unnamed: 2':'GeoFIPS', 'Unnamed: 3':'GeoName', 'Unnamed: 9':year})\n"
     ]
    },
    {
     "name": "stdout",
     "output_type": "stream",
     "text": [
      "https://www.bls.gov/lau/laucnty91.xlsx\n"
     ]
    },
    {
     "name": "stderr",
     "output_type": "stream",
     "text": [
      "/var/folders/b6/yxvwzrjx5mlgxfckqfcn8tv40000gn/T/ipykernel_46515/2576309016.py:22: FutureWarning: Passing a set as an indexer is deprecated and will raise in a future version. Use a list instead.\n",
      "  df_extracted = df[{'Unnamed: 2','Unnamed: 3', 'Unnamed: 9'}][5:].rename(columns={'Unnamed: 2':'GeoFIPS', 'Unnamed: 3':'GeoName', 'Unnamed: 9':year})\n"
     ]
    },
    {
     "name": "stdout",
     "output_type": "stream",
     "text": [
      "https://www.bls.gov/lau/laucnty92.xlsx\n"
     ]
    },
    {
     "name": "stderr",
     "output_type": "stream",
     "text": [
      "/var/folders/b6/yxvwzrjx5mlgxfckqfcn8tv40000gn/T/ipykernel_46515/2576309016.py:22: FutureWarning: Passing a set as an indexer is deprecated and will raise in a future version. Use a list instead.\n",
      "  df_extracted = df[{'Unnamed: 2','Unnamed: 3', 'Unnamed: 9'}][5:].rename(columns={'Unnamed: 2':'GeoFIPS', 'Unnamed: 3':'GeoName', 'Unnamed: 9':year})\n"
     ]
    },
    {
     "name": "stdout",
     "output_type": "stream",
     "text": [
      "https://www.bls.gov/lau/laucnty93.xlsx\n"
     ]
    },
    {
     "name": "stderr",
     "output_type": "stream",
     "text": [
      "/var/folders/b6/yxvwzrjx5mlgxfckqfcn8tv40000gn/T/ipykernel_46515/2576309016.py:22: FutureWarning: Passing a set as an indexer is deprecated and will raise in a future version. Use a list instead.\n",
      "  df_extracted = df[{'Unnamed: 2','Unnamed: 3', 'Unnamed: 9'}][5:].rename(columns={'Unnamed: 2':'GeoFIPS', 'Unnamed: 3':'GeoName', 'Unnamed: 9':year})\n"
     ]
    },
    {
     "name": "stdout",
     "output_type": "stream",
     "text": [
      "https://www.bls.gov/lau/laucnty94.xlsx\n"
     ]
    },
    {
     "name": "stderr",
     "output_type": "stream",
     "text": [
      "/var/folders/b6/yxvwzrjx5mlgxfckqfcn8tv40000gn/T/ipykernel_46515/2576309016.py:22: FutureWarning: Passing a set as an indexer is deprecated and will raise in a future version. Use a list instead.\n",
      "  df_extracted = df[{'Unnamed: 2','Unnamed: 3', 'Unnamed: 9'}][5:].rename(columns={'Unnamed: 2':'GeoFIPS', 'Unnamed: 3':'GeoName', 'Unnamed: 9':year})\n"
     ]
    },
    {
     "name": "stdout",
     "output_type": "stream",
     "text": [
      "https://www.bls.gov/lau/laucnty95.xlsx\n"
     ]
    },
    {
     "name": "stderr",
     "output_type": "stream",
     "text": [
      "/var/folders/b6/yxvwzrjx5mlgxfckqfcn8tv40000gn/T/ipykernel_46515/2576309016.py:22: FutureWarning: Passing a set as an indexer is deprecated and will raise in a future version. Use a list instead.\n",
      "  df_extracted = df[{'Unnamed: 2','Unnamed: 3', 'Unnamed: 9'}][5:].rename(columns={'Unnamed: 2':'GeoFIPS', 'Unnamed: 3':'GeoName', 'Unnamed: 9':year})\n"
     ]
    },
    {
     "name": "stdout",
     "output_type": "stream",
     "text": [
      "https://www.bls.gov/lau/laucnty96.xlsx\n"
     ]
    },
    {
     "name": "stderr",
     "output_type": "stream",
     "text": [
      "/var/folders/b6/yxvwzrjx5mlgxfckqfcn8tv40000gn/T/ipykernel_46515/2576309016.py:22: FutureWarning: Passing a set as an indexer is deprecated and will raise in a future version. Use a list instead.\n",
      "  df_extracted = df[{'Unnamed: 2','Unnamed: 3', 'Unnamed: 9'}][5:].rename(columns={'Unnamed: 2':'GeoFIPS', 'Unnamed: 3':'GeoName', 'Unnamed: 9':year})\n"
     ]
    },
    {
     "name": "stdout",
     "output_type": "stream",
     "text": [
      "https://www.bls.gov/lau/laucnty97.xlsx\n"
     ]
    },
    {
     "name": "stderr",
     "output_type": "stream",
     "text": [
      "/var/folders/b6/yxvwzrjx5mlgxfckqfcn8tv40000gn/T/ipykernel_46515/2576309016.py:22: FutureWarning: Passing a set as an indexer is deprecated and will raise in a future version. Use a list instead.\n",
      "  df_extracted = df[{'Unnamed: 2','Unnamed: 3', 'Unnamed: 9'}][5:].rename(columns={'Unnamed: 2':'GeoFIPS', 'Unnamed: 3':'GeoName', 'Unnamed: 9':year})\n"
     ]
    },
    {
     "name": "stdout",
     "output_type": "stream",
     "text": [
      "https://www.bls.gov/lau/laucnty98.xlsx\n"
     ]
    },
    {
     "name": "stderr",
     "output_type": "stream",
     "text": [
      "/var/folders/b6/yxvwzrjx5mlgxfckqfcn8tv40000gn/T/ipykernel_46515/2576309016.py:22: FutureWarning: Passing a set as an indexer is deprecated and will raise in a future version. Use a list instead.\n",
      "  df_extracted = df[{'Unnamed: 2','Unnamed: 3', 'Unnamed: 9'}][5:].rename(columns={'Unnamed: 2':'GeoFIPS', 'Unnamed: 3':'GeoName', 'Unnamed: 9':year})\n"
     ]
    },
    {
     "name": "stdout",
     "output_type": "stream",
     "text": [
      "https://www.bls.gov/lau/laucnty99.xlsx\n"
     ]
    },
    {
     "name": "stderr",
     "output_type": "stream",
     "text": [
      "/var/folders/b6/yxvwzrjx5mlgxfckqfcn8tv40000gn/T/ipykernel_46515/2576309016.py:22: FutureWarning: Passing a set as an indexer is deprecated and will raise in a future version. Use a list instead.\n",
      "  df_extracted = df[{'Unnamed: 2','Unnamed: 3', 'Unnamed: 9'}][5:].rename(columns={'Unnamed: 2':'GeoFIPS', 'Unnamed: 3':'GeoName', 'Unnamed: 9':year})\n"
     ]
    },
    {
     "name": "stdout",
     "output_type": "stream",
     "text": [
      "https://www.bls.gov/lau/laucnty00.xlsx\n"
     ]
    },
    {
     "name": "stderr",
     "output_type": "stream",
     "text": [
      "/var/folders/b6/yxvwzrjx5mlgxfckqfcn8tv40000gn/T/ipykernel_46515/2576309016.py:22: FutureWarning: Passing a set as an indexer is deprecated and will raise in a future version. Use a list instead.\n",
      "  df_extracted = df[{'Unnamed: 2','Unnamed: 3', 'Unnamed: 9'}][5:].rename(columns={'Unnamed: 2':'GeoFIPS', 'Unnamed: 3':'GeoName', 'Unnamed: 9':year})\n"
     ]
    },
    {
     "name": "stdout",
     "output_type": "stream",
     "text": [
      "https://www.bls.gov/lau/laucnty01.xlsx\n"
     ]
    },
    {
     "name": "stderr",
     "output_type": "stream",
     "text": [
      "/var/folders/b6/yxvwzrjx5mlgxfckqfcn8tv40000gn/T/ipykernel_46515/2576309016.py:22: FutureWarning: Passing a set as an indexer is deprecated and will raise in a future version. Use a list instead.\n",
      "  df_extracted = df[{'Unnamed: 2','Unnamed: 3', 'Unnamed: 9'}][5:].rename(columns={'Unnamed: 2':'GeoFIPS', 'Unnamed: 3':'GeoName', 'Unnamed: 9':year})\n"
     ]
    },
    {
     "name": "stdout",
     "output_type": "stream",
     "text": [
      "https://www.bls.gov/lau/laucnty02.xlsx\n"
     ]
    },
    {
     "name": "stderr",
     "output_type": "stream",
     "text": [
      "/var/folders/b6/yxvwzrjx5mlgxfckqfcn8tv40000gn/T/ipykernel_46515/2576309016.py:22: FutureWarning: Passing a set as an indexer is deprecated and will raise in a future version. Use a list instead.\n",
      "  df_extracted = df[{'Unnamed: 2','Unnamed: 3', 'Unnamed: 9'}][5:].rename(columns={'Unnamed: 2':'GeoFIPS', 'Unnamed: 3':'GeoName', 'Unnamed: 9':year})\n"
     ]
    },
    {
     "name": "stdout",
     "output_type": "stream",
     "text": [
      "https://www.bls.gov/lau/laucnty03.xlsx\n"
     ]
    },
    {
     "name": "stderr",
     "output_type": "stream",
     "text": [
      "/var/folders/b6/yxvwzrjx5mlgxfckqfcn8tv40000gn/T/ipykernel_46515/2576309016.py:22: FutureWarning: Passing a set as an indexer is deprecated and will raise in a future version. Use a list instead.\n",
      "  df_extracted = df[{'Unnamed: 2','Unnamed: 3', 'Unnamed: 9'}][5:].rename(columns={'Unnamed: 2':'GeoFIPS', 'Unnamed: 3':'GeoName', 'Unnamed: 9':year})\n"
     ]
    },
    {
     "name": "stdout",
     "output_type": "stream",
     "text": [
      "https://www.bls.gov/lau/laucnty04.xlsx\n"
     ]
    },
    {
     "name": "stderr",
     "output_type": "stream",
     "text": [
      "/var/folders/b6/yxvwzrjx5mlgxfckqfcn8tv40000gn/T/ipykernel_46515/2576309016.py:22: FutureWarning: Passing a set as an indexer is deprecated and will raise in a future version. Use a list instead.\n",
      "  df_extracted = df[{'Unnamed: 2','Unnamed: 3', 'Unnamed: 9'}][5:].rename(columns={'Unnamed: 2':'GeoFIPS', 'Unnamed: 3':'GeoName', 'Unnamed: 9':year})\n"
     ]
    },
    {
     "name": "stdout",
     "output_type": "stream",
     "text": [
      "https://www.bls.gov/lau/laucnty05.xlsx\n"
     ]
    },
    {
     "name": "stderr",
     "output_type": "stream",
     "text": [
      "/var/folders/b6/yxvwzrjx5mlgxfckqfcn8tv40000gn/T/ipykernel_46515/2576309016.py:22: FutureWarning: Passing a set as an indexer is deprecated and will raise in a future version. Use a list instead.\n",
      "  df_extracted = df[{'Unnamed: 2','Unnamed: 3', 'Unnamed: 9'}][5:].rename(columns={'Unnamed: 2':'GeoFIPS', 'Unnamed: 3':'GeoName', 'Unnamed: 9':year})\n"
     ]
    },
    {
     "name": "stdout",
     "output_type": "stream",
     "text": [
      "https://www.bls.gov/lau/laucnty06.xlsx\n"
     ]
    },
    {
     "name": "stderr",
     "output_type": "stream",
     "text": [
      "/var/folders/b6/yxvwzrjx5mlgxfckqfcn8tv40000gn/T/ipykernel_46515/2576309016.py:22: FutureWarning: Passing a set as an indexer is deprecated and will raise in a future version. Use a list instead.\n",
      "  df_extracted = df[{'Unnamed: 2','Unnamed: 3', 'Unnamed: 9'}][5:].rename(columns={'Unnamed: 2':'GeoFIPS', 'Unnamed: 3':'GeoName', 'Unnamed: 9':year})\n"
     ]
    },
    {
     "name": "stdout",
     "output_type": "stream",
     "text": [
      "https://www.bls.gov/lau/laucnty07.xlsx\n"
     ]
    },
    {
     "name": "stderr",
     "output_type": "stream",
     "text": [
      "/var/folders/b6/yxvwzrjx5mlgxfckqfcn8tv40000gn/T/ipykernel_46515/2576309016.py:22: FutureWarning: Passing a set as an indexer is deprecated and will raise in a future version. Use a list instead.\n",
      "  df_extracted = df[{'Unnamed: 2','Unnamed: 3', 'Unnamed: 9'}][5:].rename(columns={'Unnamed: 2':'GeoFIPS', 'Unnamed: 3':'GeoName', 'Unnamed: 9':year})\n"
     ]
    },
    {
     "name": "stdout",
     "output_type": "stream",
     "text": [
      "https://www.bls.gov/lau/laucnty08.xlsx\n"
     ]
    },
    {
     "name": "stderr",
     "output_type": "stream",
     "text": [
      "/var/folders/b6/yxvwzrjx5mlgxfckqfcn8tv40000gn/T/ipykernel_46515/2576309016.py:22: FutureWarning: Passing a set as an indexer is deprecated and will raise in a future version. Use a list instead.\n",
      "  df_extracted = df[{'Unnamed: 2','Unnamed: 3', 'Unnamed: 9'}][5:].rename(columns={'Unnamed: 2':'GeoFIPS', 'Unnamed: 3':'GeoName', 'Unnamed: 9':year})\n"
     ]
    }
   ],
   "source": [
    "# scrape the data from BLS.GOV\n",
    "# Note, it seems to slow down as I run it, may be a rate limit\n",
    "base_url = \"https://www.bls.gov/lau/\"\n",
    "year_range = range(1990, 2023)\n",
    "for yeari in year_range:\n",
    "    # turn year into string\n",
    "    year = str(yeari)\n",
    "    url = base_url + \"laucnty\" + year[2:4] + \".xlsx\"\n",
    "    print(url)\n",
    "\n",
    "    # Fetch the content using requests and a modified user-agent\n",
    "    headers = {\n",
    "        \"User-Agent\": \"Mozilla/5.0 (X11; Ubuntu; Linux x86_64; rv:89.0) Gecko/20100101 Firefox/89.0\"\n",
    "    }\n",
    "    response = requests.get(url, headers=headers)\n",
    "    response.raise_for_status()  # Raise an exception for HTTP errors\n",
    "\n",
    "    # Read the content into a pandas DataFrame\n",
    "    with open(\"temp_file.xlsx\", \"wb\") as f:\n",
    "        f.write(response.content)\n",
    "    df = pd.read_excel(\"temp_file.xlsx\")\n",
    "\n",
    "    # extract data, rename columns, and remove first 5 rows\n",
    "    df_extracted = df[{'Unnamed: 2','Unnamed: 3', 'Unnamed: 9'}][5:].rename(columns={'Unnamed: 2':'GeoFIPS', 'Unnamed: 3':'GeoName', 'Unnamed: 9':year})\n",
    "    # reorder columns\n",
    "    df_extracted = df_extracted[['GeoFIPS', 'GeoName', year]]\n",
    "    # if first year in range\n",
    "    if yeari == year_range[0]:\n",
    "        df_all = df_extracted\n",
    "    else:\n",
    "        df_all = pd.merge(df_all, df_extracted, on=['GeoFIPS', 'GeoName'], how='outer')\n",
    "    \n",
    "df_all"
   ]
  },
  {
   "cell_type": "code",
   "execution_count": 1,
   "metadata": {},
   "outputs": [
    {
     "ename": "NameError",
     "evalue": "name 'df_all' is not defined",
     "output_type": "error",
     "traceback": [
      "\u001b[0;31m---------------------------------------------------------------------------\u001b[0m",
      "\u001b[0;31mNameError\u001b[0m                                 Traceback (most recent call last)",
      "\u001b[0;32m/var/folders/b6/yxvwzrjx5mlgxfckqfcn8tv40000gn/T/ipykernel_47616/3623069300.py\u001b[0m in \u001b[0;36m<module>\u001b[0;34m\u001b[0m\n\u001b[1;32m      1\u001b[0m \u001b[0;31m# save in the data/raw\u001b[0m\u001b[0;34m\u001b[0m\u001b[0;34m\u001b[0m\u001b[0m\n\u001b[0;32m----> 2\u001b[0;31m \u001b[0mdf_all\u001b[0m\u001b[0;34m.\u001b[0m\u001b[0mto_csv\u001b[0m\u001b[0;34m(\u001b[0m\u001b[0;34m'data/raw/unemployment_with_nans.csv'\u001b[0m\u001b[0;34m,\u001b[0m \u001b[0mindex\u001b[0m\u001b[0;34m=\u001b[0m\u001b[0;32mFalse\u001b[0m\u001b[0;34m)\u001b[0m\u001b[0;34m\u001b[0m\u001b[0;34m\u001b[0m\u001b[0m\n\u001b[0m\u001b[1;32m      3\u001b[0m \u001b[0;34m\u001b[0m\u001b[0m\n\u001b[1;32m      4\u001b[0m \u001b[0;31m# remove nans and save in data/processed\u001b[0m\u001b[0;34m\u001b[0m\u001b[0;34m\u001b[0m\u001b[0m\n\u001b[1;32m      5\u001b[0m \u001b[0mdf_cleaned\u001b[0m \u001b[0;34m=\u001b[0m \u001b[0mdf_all\u001b[0m\u001b[0;34m.\u001b[0m\u001b[0mdropna\u001b[0m\u001b[0;34m(\u001b[0m\u001b[0;34m)\u001b[0m\u001b[0;34m\u001b[0m\u001b[0;34m\u001b[0m\u001b[0m\n",
      "\u001b[0;31mNameError\u001b[0m: name 'df_all' is not defined"
     ]
    }
   ],
   "source": [
    "# save in the data/raw\n",
    "df_all.to_csv('data/raw/unemployment_with_nans.csv', index=False)\n",
    "\n",
    "# remove nans and save in data/processed\n",
    "df_cleaned = df_all.dropna()\n",
    "df_cleaned.to_csv('data/processed/unemployment.csv', index=False)"
   ]
  },
  {
   "cell_type": "code",
   "execution_count": null,
   "metadata": {},
   "outputs": [],
   "source": []
  }
 ],
 "metadata": {
  "kernelspec": {
   "display_name": "Python 3.9.13",
   "language": "python",
   "name": "python3"
  },
  "language_info": {
   "codemirror_mode": {
    "name": "ipython",
    "version": 3
   },
   "file_extension": ".py",
   "mimetype": "text/x-python",
   "name": "python",
   "nbconvert_exporter": "python",
   "pygments_lexer": "ipython3",
   "version": "3.9.13"
  },
  "orig_nbformat": 4,
  "vscode": {
   "interpreter": {
    "hash": "c1a60d51e4b06139ebd934ef3541a1e3a709925b6b92518c8ee7c1b5d49824f3"
   }
  }
 },
 "nbformat": 4,
 "nbformat_minor": 2
}
