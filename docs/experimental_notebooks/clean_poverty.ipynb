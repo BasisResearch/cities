{
 "cells": [
  {
   "cell_type": "markdown",
   "metadata": {},
   "source": [
    "This cleaning file results in one combined file (poverty.csv) containing data on poverty.    \n",
    "\n",
    "Data source: https://www.census.gov/programs-surveys/saipe/data/datasets.html"
   ]
  },
  {
   "cell_type": "code",
   "execution_count": 2,
   "metadata": {},
   "outputs": [],
   "source": [
    "import os\n",
    "import sys\n",
    "import requests\n",
    "import pandas as pd\n",
    "\n",
    "\n",
    "current_dir =  os.getcwd()\n",
    "\n",
    "grandparent_dir = os.path.dirname(os.path.dirname(current_dir))\n",
    "sys.path.insert(0, grandparent_dir)"
   ]
  },
  {
   "cell_type": "code",
   "execution_count": 28,
   "metadata": {},
   "outputs": [
    {
     "name": "stdout",
     "output_type": "stream",
     "text": [
      "DataFrame for year 1998 created successfully.\n",
      "DataFrame for year 1999 created successfully.\n",
      "DataFrame for year 2000 created successfully.\n",
      "DataFrame for year 2001 created successfully.\n",
      "DataFrame for year 2002 created successfully.\n",
      "DataFrame for year 2003 created successfully.\n",
      "DataFrame for year 2004 created successfully.\n",
      "DataFrame for year 2005 created successfully.\n",
      "DataFrame for year 2006 created successfully.\n",
      "DataFrame for year 2007 created successfully.\n",
      "DataFrame for year 2008 created successfully.\n",
      "DataFrame for year 2009 created successfully.\n",
      "DataFrame for year 2010 created successfully.\n",
      "DataFrame for year 2011 created successfully.\n",
      "DataFrame for year 2012 created successfully.\n",
      "DataFrame for year 2013 created successfully.\n",
      "DataFrame for year 2014 created successfully.\n",
      "DataFrame for year 2015 created successfully.\n",
      "DataFrame for year 2016 created successfully.\n",
      "DataFrame for year 2017 created successfully.\n",
      "DataFrame for year 2018 created successfully.\n",
      "DataFrame for year 2019 created successfully.\n",
      "DataFrame for year 2020 created successfully.\n",
      "DataFrame for year 2021 created successfully.\n"
     ]
    }
   ],
   "source": [
    "\n",
    "dataframes = []\n",
    "\n",
    "for year in range(1998, 2021 + 1):\n",
    " \n",
    "    api_url = f\"https://api.census.gov/data/timeseries/poverty/saipe?get=YEAR,GEOID,SAEMHI_PT,SAEPOV0_17_PT,SAEPOVRT0_17_PT,SAEPOVALL_PT,SAEPOVRTALL_PT&for=county:*&in=state:*&time={year}\"\n",
    "    \n",
    "\n",
    "    response = requests.get(api_url)\n",
    "    \n",
    "   \n",
    "    if response.status_code == 200:\n",
    "       \n",
    "        data = response.json()\n",
    "        columns = data[0]\n",
    "        data = data[1:]\n",
    "        df = pd.DataFrame(data, columns=columns)\n",
    "        dataframes.append(df)\n",
    "        print(f\"DataFrame for year {year} created successfully.\")\n",
    "\n",
    "poverty_raw = pd.concat(dataframes, ignore_index=True)"
   ]
  },
  {
   "cell_type": "code",
   "execution_count": 38,
   "metadata": {},
   "outputs": [],
   "source": [
    "poverty_raw.rename(columns={'YEAR': 'Year', 'GEOID': 'GeoFIPS', 'SAEMHI_PT': 'medianHouseholdIncome',\n",
    "'SAEPOV0_17_PT': 'povertyUnder18', 'SAEPOVRTALL_PT':'povertyAllpr', 'SAEPOVALL_PT':'povertyAll',\n",
    "'SAEPOVRT0_17_PT': 'povertyUnder18pr'\n",
    "    }, inplace=True)\n",
    "\n",
    "columns_to_keep = ['GeoFIPS', 'Year', 'povertyAll', 'povertyAllpr', \n",
    "        'povertyUnder18', 'povertyUnder18pr', 'medianHouseholdIncome']\n",
    "poverty_raw = poverty_raw.loc[:, columns_to_keep]"
   ]
  },
  {
   "cell_type": "code",
   "execution_count": null,
   "metadata": {},
   "outputs": [],
   "source": [
    "poverty_raw.to_csv(f\"{grandparent_dir}/data/raw/poverty.csv\", index=False)\n"
   ]
  },
  {
   "cell_type": "code",
   "execution_count": 28,
   "metadata": {},
   "outputs": [],
   "source": [
    "poverty = pd.read_csv(f\"{grandparent_dir}/data/raw/poverty.csv\")\n",
    "from cities.utils.data_grabber import DataGrabber"
   ]
  },
  {
   "cell_type": "code",
   "execution_count": 8,
   "metadata": {},
   "outputs": [],
   "source": [
    "data = DataGrabber()\n",
    "data.get_features_wide([\"gdp\"])\n",
    "gdp = data.wide[\"gdp\"]\n",
    "\n",
    "import numpy as np"
   ]
  },
  {
   "cell_type": "code",
   "execution_count": 14,
   "metadata": {},
   "outputs": [],
   "source": [
    "common_fips = np.intersect1d(gdp[\"GeoFIPS\"].unique(), poverty[\"GeoFIPS\"].unique())\n",
    "\n",
    "poverty = poverty[poverty[\"GeoFIPS\"].isin(common_fips)]\n",
    "\n",
    "poverty = poverty.merge(gdp[[\"GeoFIPS\", \"GeoName\"]], on=\"GeoFIPS\", how=\"left\")\n",
    "\n",
    "poverty = poverty.sort_values(by=[\"GeoFIPS\", \"GeoName\"])"
   ]
  },
  {
   "cell_type": "code",
   "execution_count": 16,
   "metadata": {},
   "outputs": [],
   "source": [
    "desired_order = ['GeoFIPS', 'GeoName', 'Year', 'povertyAll', 'povertyAllpr',\n",
    "                  'povertyUnder18', 'povertyUnder18pr', 'medianHouseholdIncome' ]\n",
    "\n",
    "poverty = poverty[desired_order]\n"
   ]
  },
  {
   "cell_type": "code",
   "execution_count": 23,
   "metadata": {},
   "outputs": [],
   "source": [
    "poverty.to_csv(f\"{grandparent_dir}/data/raw/poverty.csv\", index=False)\n"
   ]
  }
 ],
 "metadata": {
  "kernelspec": {
   "display_name": "Python 3",
   "language": "python",
   "name": "python3"
  },
  "language_info": {
   "codemirror_mode": {
    "name": "ipython",
    "version": 3
   },
   "file_extension": ".py",
   "mimetype": "text/x-python",
   "name": "python",
   "nbconvert_exporter": "python",
   "pygments_lexer": "ipython3",
   "version": "3.12.0"
  }
 },
 "nbformat": 4,
 "nbformat_minor": 2
}
