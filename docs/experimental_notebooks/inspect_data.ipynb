{
 "cells": [
  {
   "cell_type": "markdown",
   "metadata": {},
   "source": [
    "# Inspect data"
   ]
  },
  {
   "cell_type": "code",
   "execution_count": null,
   "metadata": {},
   "outputs": [],
   "source": [
    "from cities.utils import data_grabber\n",
    "import geopandas as gpd\n",
    "import pandas as pd\n",
    "import matplotlib.pyplot as plt"
   ]
  },
  {
   "cell_type": "code",
   "execution_count": null,
   "metadata": {},
   "outputs": [],
   "source": [
    "feature_names = data_grabber.list_available_features()"
   ]
  },
  {
   "cell_type": "code",
   "execution_count": null,
   "metadata": {},
   "outputs": [],
   "source": [
    "url = \"https://www2.census.gov/geo/tiger/GENZ2021/shp/cb_2021_us_county_20m.zip\"\n",
    "counties = gpd.read_file(url)\n",
    "# Set the projection for the contiguous US using Albers Equal Area\n",
    "counties = counties.to_crs(epsg=5070)\n",
    "# set geoid to string\n",
    "counties[\"GEOID\"] = counties[\"GEOID\"].astype(int)\n",
    "counties = counties[[\"GEOID\", \"geometry\"]]"
   ]
  },
  {
   "cell_type": "code",
   "execution_count": null,
   "metadata": {},
   "outputs": [],
   "source": [
    "# make a df with all the features\n",
    "data = data_grabber.DataGrabber()\n",
    "# data.get_features_wide(feature_names)\n",
    "data.get_features_std_wide(feature_names)\n",
    "gdp = data.std_wide[\"gdp\"]"
   ]
  },
  {
   "cell_type": "code",
   "execution_count": null,
   "metadata": {},
   "outputs": [],
   "source": [
    "for feature in feature_names:\n",
    "    print(feature)\n",
    "    # load data\n",
    "    data.get_features_wide([feature])\n",
    "    feature_df = data.std_wide[feature]\n",
    "\n",
    "    # make merged geo df\n",
    "    feature_df[\"GeoFIPS\"] = feature_df[\"GeoFIPS\"].astype(int)\n",
    "    geo_feature = feature_df.merge(counties, left_on=\"GeoFIPS\", right_on=\"GEOID\")\n",
    "    geo_feature = gpd.GeoDataFrame(geo_feature)\n",
    "\n",
    "    # decide which columns to plot\n",
    "    cols_to_plot = [col for col in geo_feature.columns if col not in [\"GeoFIPS\", \"GEOID\", \"geometry\", \"GeoName\"]]\n",
    "    # if col contains 19* or 20*, then don't plot it, except last one\n",
    "    # yr_cols = [col for col in cols_to_plot if col.startswith(\"19\") or col.startswith(\"20\")]\n",
    "    # cols_to_plot = [col for col in cols_to_plot if col not in yr_cols or col == yr_cols[-1]]\n",
    "\n",
    "    # plot\n",
    "    for col in cols_to_plot:\n",
    "        geo_feature.plot(column=col, legend=False)\n",
    "        plt.title(feature + \": \" + col)\n",
    "        plt.rcParams['figure.figsize'] = [20, 10]\n",
    "        plt.show()"
   ]
  },
  {
   "cell_type": "code",
   "execution_count": null,
   "metadata": {},
   "outputs": [],
   "source": []
  }
 ],
 "metadata": {
  "kernelspec": {
   "display_name": "venv",
   "language": "python",
   "name": "python3"
  },
  "language_info": {
   "codemirror_mode": {
    "name": "ipython",
    "version": 3
   },
   "file_extension": ".py",
   "mimetype": "text/x-python",
   "name": "python",
   "nbconvert_exporter": "python",
   "pygments_lexer": "ipython3",
   "version": "3.10.12"
  }
 },
 "nbformat": 4,
 "nbformat_minor": 2
}
