{
 "cells": [
  {
   "cell_type": "code",
   "execution_count": 11,
   "metadata": {},
   "outputs": [],
   "source": [
    "import os\n",
    "import sys\n",
    "\n",
    "current_dir =  os.getcwd()\n",
    "#parent_dir = os.path.dirname(current_dir)\n",
    "#sys.path.insert(0, parent_dir)\n",
    "\n",
    "grandparent_dir = os.path.dirname(os.path.dirname(current_dir))\n",
    "sys.path.insert(0, grandparent_dir)\n",
    "\n",
    "\n",
    "import pandas as pd\n",
    "import numpy as np\n",
    "import matplotlib.pyplot as plt"
   ]
  },
  {
   "cell_type": "code",
   "execution_count": 21,
   "metadata": {},
   "outputs": [
    {
     "ename": "AssertionError",
     "evalue": "",
     "output_type": "error",
     "traceback": [
      "\u001b[0;31m---------------------------------------------------------------------------\u001b[0m",
      "\u001b[0;31mAssertionError\u001b[0m                            Traceback (most recent call last)",
      "\u001b[1;32m/home/rafal/UGPOP/projectsUGPOP/cities/docs/experimental_notebooks/clean_gdp.ipynb Cell 2\u001b[0m line \u001b[0;36m3\n\u001b[1;32m     <a href='vscode-notebook-cell:/home/rafal/UGPOP/projectsUGPOP/cities/docs/experimental_notebooks/clean_gdp.ipynb#W1sZmlsZQ%3D%3D?line=35'>36</a>\u001b[0m \u001b[39massert\u001b[39;00m gdp[\u001b[39m'\u001b[39m\u001b[39mGeoName\u001b[39m\u001b[39m'\u001b[39m]\u001b[39m.\u001b[39mis_unique\n\u001b[1;32m     <a href='vscode-notebook-cell:/home/rafal/UGPOP/projectsUGPOP/cities/docs/experimental_notebooks/clean_gdp.ipynb#W1sZmlsZQ%3D%3D?line=37'>38</a>\u001b[0m \u001b[39mfor\u001b[39;00m column \u001b[39min\u001b[39;00m gdp\u001b[39m.\u001b[39mcolumns[\u001b[39m2\u001b[39m:]:\n\u001b[0;32m---> <a href='vscode-notebook-cell:/home/rafal/UGPOP/projectsUGPOP/cities/docs/experimental_notebooks/clean_gdp.ipynb#W1sZmlsZQ%3D%3D?line=38'>39</a>\u001b[0m     \u001b[39massert\u001b[39;00m (gdp[column] \u001b[39m>\u001b[39m \u001b[39m0\u001b[39m)\u001b[39m.\u001b[39mall() \u001b[39mand\u001b[39;00m (gdp[column]\u001b[39m.\u001b[39misna()\u001b[39m.\u001b[39msum() \u001b[39m==\u001b[39m \u001b[39m0\u001b[39m) \u001b[39mand\u001b[39;00m (gdp[column]\u001b[39m.\u001b[39misnull()\u001b[39m.\u001b[39msum() \u001b[39m==\u001b[39m \u001b[39m0\u001b[39m) \u001b[39mand\u001b[39;00m (gdp[column] \u001b[39m<\u001b[39m \u001b[39m1000\u001b[39m)\u001b[39m.\u001b[39mall()\n",
      "\u001b[0;31mAssertionError\u001b[0m: "
     ]
    }
   ],
   "source": [
    "gdp = pd.read_csv(f\"{grandparent_dir}/data/raw/CAGDP1_2001_2021.csv\", encoding='ISO-8859-1')\n",
    "\n",
    "\n",
    "gdp = gdp.loc[:9533] #drop notes at the bottom\n",
    "\n",
    "\n",
    "gdp['GeoFIPS'] = gdp['GeoFIPS'].fillna('').astype(str)\n",
    "gdp['GeoFIPS'] = gdp['GeoFIPS'].str.strip(' \"').astype(int)\n",
    "\n",
    "\n",
    "#remove large regions\n",
    "gdp = gdp[gdp['GeoFIPS'] % 10 != 0]\n",
    "\n",
    "# focus on chain-type GDP\n",
    "mask = gdp['Description'].str.startswith('Chain')\n",
    "gdp = gdp[mask]\n",
    "\n",
    "\n",
    "#drop Region number, Tablename, LineCode, IndustryClassification columns (the last one is empty anyway)\n",
    "gdp = gdp.drop(gdp.columns[2:8], axis=1) \n",
    "\n",
    "\n",
    "gdp.replace('(NA)', np.nan, inplace=True)\n",
    "gdp.replace('(NM)', np.nan, inplace=True)\n",
    "\n",
    "\n",
    "nan_rows = gdp[gdp.isna().any(axis=1)]\n",
    "#display(nan_rows)  # list of missing locations used in the data guide \n",
    "\n",
    "gdp.dropna(axis=0, inplace=True)\n",
    "\n",
    "for column in gdp.columns[2:]:\n",
    "    gdp[column] = gdp[column].astype(float)\n",
    "\n",
    "\n",
    "assert gdp['GeoName'].is_unique\n",
    "\n",
    "for column in gdp.columns[2:]:\n",
    "    assert (gdp[column] > 0).all() \n",
    "    and (gdp[column].isna().sum() == 0) and (gdp[column].isnull().sum() == 0) and (gdp[column] < 1000).all()"
   ]
  },
  {
   "cell_type": "code",
   "execution_count": 20,
   "metadata": {},
   "outputs": [
    {
     "data": {
      "image/png": "[encoded data removed]",
      "text/plain": [
       "<Figure size 640x480 with 1 Axes>"
      ]
     },
     "metadata": {},
     "output_type": "display_data"
    }
   ],
   "source": [
    "plt.hist(x = gdp['2002'])\n",
    "plt.show()"
   ]
  }
 ],
 "metadata": {
  "kernelspec": {
   "display_name": "chirho",
   "language": "python",
   "name": "python3"
  },
  "language_info": {
   "codemirror_mode": {
    "name": "ipython",
    "version": 3
   },
   "file_extension": ".py",
   "mimetype": "text/x-python",
   "name": "python",
   "nbconvert_exporter": "python",
   "pygments_lexer": "ipython3",
   "version": "3.10.12"
  },
  "orig_nbformat": 4
 },
 "nbformat": 4,
 "nbformat_minor": 2
}
