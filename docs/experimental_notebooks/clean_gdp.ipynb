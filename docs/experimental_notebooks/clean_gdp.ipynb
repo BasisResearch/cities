{
 "cells": [
  {
   "cell_type": "code",
   "execution_count": 2,
   "metadata": {},
   "outputs": [],
   "source": [
    "import os\n",
    "import sys\n",
    "\n",
    "current_dir =  os.getcwd()\n",
    "#parent_dir = os.path.dirname(current_dir)\n",
    "#sys.path.insert(0, parent_dir)\n",
    "\n",
    "grandparent_dir = os.path.dirname(os.path.dirname(current_dir))\n",
    "sys.path.insert(0, grandparent_dir)\n",
    "\n",
    "\n",
    "import pandas as pd\n",
    "import numpy as np\n",
    "import matplotlib.pyplot as plt"
   ]
  },
  {
   "cell_type": "code",
   "execution_count": 6,
   "metadata": {},
   "outputs": [
    {
     "ename": "AssertionError",
     "evalue": "Values suspiciously large in 2010",
     "output_type": "error",
     "traceback": [
      "\u001b[0;31m---------------------------------------------------------------------------\u001b[0m",
      "\u001b[0;31mAssertionError\u001b[0m                            Traceback (most recent call last)",
      "\u001b[1;32m/home/rafal/UGPOP/projectsUGPOP/cities/docs/experimental_notebooks/clean_gdp.ipynb Cell 2\u001b[0m line \u001b[0;36m4\n\u001b[1;32m     <a href='vscode-notebook-cell:/home/rafal/UGPOP/projectsUGPOP/cities/docs/experimental_notebooks/clean_gdp.ipynb#W1sZmlsZQ%3D%3D?line=39'>40</a>\u001b[0m \u001b[39massert\u001b[39;00m (gdp[column]\u001b[39m.\u001b[39misna()\u001b[39m.\u001b[39msum() \u001b[39m==\u001b[39m \u001b[39m0\u001b[39m), \u001b[39mf\u001b[39m\u001b[39m\"\u001b[39m\u001b[39mMissing values in \u001b[39m\u001b[39m{\u001b[39;00mcolumn\u001b[39m}\u001b[39;00m\u001b[39m\"\u001b[39m\n\u001b[1;32m     <a href='vscode-notebook-cell:/home/rafal/UGPOP/projectsUGPOP/cities/docs/experimental_notebooks/clean_gdp.ipynb#W1sZmlsZQ%3D%3D?line=40'>41</a>\u001b[0m \u001b[39massert\u001b[39;00m (gdp[column]\u001b[39m.\u001b[39misnull()\u001b[39m.\u001b[39msum() \u001b[39m==\u001b[39m \u001b[39m0\u001b[39m), \u001b[39mf\u001b[39m\u001b[39m\"\u001b[39m\u001b[39mNull values in \u001b[39m\u001b[39m{\u001b[39;00mcolumn\u001b[39m}\u001b[39;00m\u001b[39m\"\u001b[39m\n\u001b[0;32m---> <a href='vscode-notebook-cell:/home/rafal/UGPOP/projectsUGPOP/cities/docs/experimental_notebooks/clean_gdp.ipynb#W1sZmlsZQ%3D%3D?line=41'>42</a>\u001b[0m \u001b[39massert\u001b[39;00m (gdp[column] \u001b[39m<\u001b[39m \u001b[39m500\u001b[39m)\u001b[39m.\u001b[39mall(), \u001b[39mf\u001b[39m\u001b[39m\"\u001b[39m\u001b[39mValues suspiciously large in \u001b[39m\u001b[39m{\u001b[39;00mcolumn\u001b[39m}\u001b[39;00m\u001b[39m\"\u001b[39m\n",
      "\u001b[0;31mAssertionError\u001b[0m: Values suspiciously large in 2010"
     ]
    }
   ],
   "source": [
    "gdp = pd.read_csv(f\"{grandparent_dir}/data/raw/CAGDP1_2001_2021.csv\", encoding='ISO-8859-1')\n",
    "\n",
    "\n",
    "gdp = gdp.loc[:9533] #drop notes at the bottom\n",
    "\n",
    "\n",
    "gdp['GeoFIPS'] = gdp['GeoFIPS'].fillna('').astype(str)\n",
    "gdp['GeoFIPS'] = gdp['GeoFIPS'].str.strip(' \"').astype(int)\n",
    "\n",
    "\n",
    "#remove large regions\n",
    "gdp = gdp[gdp['GeoFIPS'] % 10 != 0]\n",
    "\n",
    "# focus on chain-type GDP\n",
    "mask = gdp['Description'].str.startswith('Chain')\n",
    "gdp = gdp[mask]\n",
    "\n",
    "\n",
    "#drop Region number, Tablename, LineCode, IndustryClassification columns (the last one is empty anyway)\n",
    "gdp = gdp.drop(gdp.columns[2:8], axis=1) \n",
    "\n",
    "\n",
    "gdp.replace('(NA)', np.nan, inplace=True)\n",
    "gdp.replace('(NM)', np.nan, inplace=True)\n",
    "\n",
    "\n",
    "nan_rows = gdp[gdp.isna().any(axis=1)]\n",
    "#display(nan_rows)  # list of missing locations used in the data guide \n",
    "\n",
    "gdp.dropna(axis=0, inplace=True)\n",
    "\n",
    "for column in gdp.columns[2:]:\n",
    "    gdp[column] = gdp[column].astype(float)\n",
    "\n",
    "\n",
    "assert gdp['GeoName'].is_unique\n",
    "\n",
    "for column in gdp.columns[2:]:\n",
    "    assert (gdp[column] > 0).all(), f\"Negative values in {column}\"\n",
    "    assert (gdp[column].isna().sum() == 0), f\"Missing values in {column}\"\n",
    "    assert (gdp[column].isnull().sum() == 0), f\"Null values in {column}\"\n",
    "    assert (gdp[column] < 500).all(), f\"Values suspiciously large in {column}\""
   ]
  },
  {
   "cell_type": "code",
   "execution_count": 16,
   "metadata": {},
   "outputs": [
    {
     "data": {
      "text/html": [
       "<div>\n",
       "<style scoped>\n",
       "    .dataframe tbody tr th:only-of-type {\n",
       "        vertical-align: middle;\n",
       "    }\n",
       "\n",
       "    .dataframe tbody tr th {\n",
       "        vertical-align: top;\n",
       "    }\n",
       "\n",
       "    .dataframe thead th {\n",
       "        text-align: right;\n",
       "    }\n",
       "</style>\n",
       "<table border=\"1\" class=\"dataframe\">\n",
       "  <thead>\n",
       "    <tr style=\"text-align: right;\">\n",
       "      <th></th>\n",
       "      <th>GeoFIPS</th>\n",
       "      <th>GeoName</th>\n",
       "      <th>2001</th>\n",
       "      <th>2002</th>\n",
       "      <th>2003</th>\n",
       "      <th>2004</th>\n",
       "      <th>2005</th>\n",
       "      <th>2006</th>\n",
       "      <th>2007</th>\n",
       "      <th>2008</th>\n",
       "      <th>...</th>\n",
       "      <th>2012</th>\n",
       "      <th>2013</th>\n",
       "      <th>2014</th>\n",
       "      <th>2015</th>\n",
       "      <th>2016</th>\n",
       "      <th>2017</th>\n",
       "      <th>2018</th>\n",
       "      <th>2019</th>\n",
       "      <th>2020</th>\n",
       "      <th>2021</th>\n",
       "    </tr>\n",
       "  </thead>\n",
       "  <tbody>\n",
       "    <tr>\n",
       "      <th>3553</th>\n",
       "      <td>22095</td>\n",
       "      <td>St. John the Baptist, LA</td>\n",
       "      <td>64.365</td>\n",
       "      <td>75.141</td>\n",
       "      <td>104.685</td>\n",
       "      <td>113.555</td>\n",
       "      <td>145.069</td>\n",
       "      <td>129.982</td>\n",
       "      <td>120.508</td>\n",
       "      <td>289.392</td>\n",
       "      <td>...</td>\n",
       "      <td>100.0</td>\n",
       "      <td>99.118</td>\n",
       "      <td>97.573</td>\n",
       "      <td>86.364</td>\n",
       "      <td>79.572</td>\n",
       "      <td>109.742</td>\n",
       "      <td>109.398</td>\n",
       "      <td>108.28</td>\n",
       "      <td>80.652</td>\n",
       "      <td>73.457</td>\n",
       "    </tr>\n",
       "  </tbody>\n",
       "</table>\n",
       "<p>1 rows × 23 columns</p>\n",
       "</div>"
      ],
      "text/plain": [
       "      GeoFIPS                   GeoName    2001    2002     2003     2004  \\\n",
       "3553    22095  St. John the Baptist, LA  64.365  75.141  104.685  113.555   \n",
       "\n",
       "         2005     2006     2007     2008  ...   2012    2013    2014    2015  \\\n",
       "3553  145.069  129.982  120.508  289.392  ...  100.0  99.118  97.573  86.364   \n",
       "\n",
       "        2016     2017     2018    2019    2020    2021  \n",
       "3553  79.572  109.742  109.398  108.28  80.652  73.457  \n",
       "\n",
       "[1 rows x 23 columns]"
      ]
     },
     "execution_count": 16,
     "metadata": {},
     "output_type": "execute_result"
    }
   ],
   "source": [
    "gdp[gdp['2010']> 300]"
   ]
  },
  {
   "cell_type": "code",
   "execution_count": 4,
   "metadata": {},
   "outputs": [
    {
     "data": {
      "image/png": "[encoded data removed]",
      "text/plain": [
       "<Figure size 640x480 with 1 Axes>"
      ]
     },
     "metadata": {},
     "output_type": "display_data"
    }
   ],
   "source": [
    "plt.hist(x = gdp['2018'])\n",
    "plt.show()"
   ]
  }
 ],
 "metadata": {
  "kernelspec": {
   "display_name": "chirho",
   "language": "python",
   "name": "python3"
  },
  "language_info": {
   "codemirror_mode": {
    "name": "ipython",
    "version": 3
   },
   "file_extension": ".py",
   "mimetype": "text/x-python",
   "name": "python",
   "nbconvert_exporter": "python",
   "pygments_lexer": "ipython3",
   "version": "3.10.12"
  },
  "orig_nbformat": 4
 },
 "nbformat": 4,
 "nbformat_minor": 2
}
