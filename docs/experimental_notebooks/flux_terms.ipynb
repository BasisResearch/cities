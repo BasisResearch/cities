{
 "cells": [
  {
   "cell_type": "code",
   "execution_count": 1,
   "metadata": {},
   "outputs": [],
   "source": [
    "import pandas as pd\n",
    "import pyro\n",
    "import pyro.distributions as dist\n",
    "import torch\n",
    "from itertools import product"
   ]
  },
  {
   "cell_type": "code",
   "execution_count": 15,
   "metadata": {},
   "outputs": [
    {
     "name": "stdout",
     "output_type": "stream",
     "text": [
      "fo tensor([0., 1., 2., 3., 4., 0., 1., 2., 3., 4., 0., 1., 2., 3., 4., 0., 1., 2.,\n",
      "        3., 4.])\n"
     ]
    },
    {
     "name": "stderr",
     "output_type": "stream",
     "text": [
      "/tmp/ipykernel_7128/910625199.py:15: FutureWarning: factorize with argument that is not not a Series, Index, ExtensionArray, or np.ndarray is deprecated and will raise in a future version.\n",
      "  fips_id = torch.Tensor(pd.factorize(fips_codes)[0])\n",
      "/tmp/ipykernel_7128/910625199.py:16: FutureWarning: factorize with argument that is not not a Series, Index, ExtensionArray, or np.ndarray is deprecated and will raise in a future version.\n",
      "  state_id = torch.Tensor(pd.factorize(state_codes)[0])\n"
     ]
    }
   ],
   "source": [
    "employment_classes = [\"employed\", \"unemployed\"]\n",
    "\n",
    "pairs =   pairs = [pair for pair in product(employment_classes, employment_classes) if pair[0] != pair[1]]\n",
    "\n",
    "pairs_id = torch.arange(len(pairs))\n",
    "\n",
    "fips_codes = [1001, 1005, 2001, 2003, 3005]\n",
    "\n",
    "def fips_to_state(fips_codes):\n",
    "    return [fips// 1000 for fips in fips_codes]\n",
    "\n",
    "state_codes = list(set(fips_to_state(fips_codes)))\n",
    "\n",
    "\n",
    "fips_id = torch.Tensor(pd.factorize(fips_codes)[0])\n",
    "state_id = torch.Tensor(pd.factorize(state_codes)[0])\n",
    "\n",
    "\n",
    "fips_observed = fips_id.repeat(4)\n",
    "print(\"fo\", fips_observed)\n",
    "state_observed = fips_to_state(fips_observed)\n",
    "\n",
    "mean = torch.tensor([.6]).repeat(20)\n",
    "sd  = torch.tensor([.05]).repeat(20)\n",
    "employment_observed = torch.normal(mean, sd)\n",
    "unemployment_observed = 1 - employment_observed\n"
   ]
  },
  {
   "cell_type": "code",
   "execution_count": 14,
   "metadata": {},
   "outputs": [
    {
     "name": "stdout",
     "output_type": "stream",
     "text": [
      "ns 20 5 3 2\n",
      "federal torch.Size([2])\n",
      "state torch.Size([2, 3])\n",
      "county torch.Size([2, 5])\n",
      "ff0 tensor(-0.1671)\n"
     ]
    },
    {
     "ename": "TypeError",
     "evalue": "only integer tensors of a single element can be converted to an index",
     "output_type": "error",
     "traceback": [
      "\u001b[0;31m---------------------------------------------------------------------------\u001b[0m",
      "\u001b[0;31mTypeError\u001b[0m                                 Traceback (most recent call last)",
      "\u001b[1;32m/home/rafal/s78projects/cities/docs/experimental_notebooks/flux_terms.ipynb Cell 3\u001b[0m line \u001b[0;36m4\n\u001b[1;32m     <a href='vscode-notebook-cell:/home/rafal/s78projects/cities/docs/experimental_notebooks/flux_terms.ipynb#W3sZmlsZQ%3D%3D?line=37'>38</a>\u001b[0m     \u001b[39mreturn\u001b[39;00m\n\u001b[1;32m     <a href='vscode-notebook-cell:/home/rafal/s78projects/cities/docs/experimental_notebooks/flux_terms.ipynb#W3sZmlsZQ%3D%3D?line=39'>40</a>\u001b[0m \u001b[39mwith\u001b[39;00m pyro\u001b[39m.\u001b[39mpoutine\u001b[39m.\u001b[39mtrace() \u001b[39mas\u001b[39;00m tr:\n\u001b[0;32m---> <a href='vscode-notebook-cell:/home/rafal/s78projects/cities/docs/experimental_notebooks/flux_terms.ipynb#W3sZmlsZQ%3D%3D?line=40'>41</a>\u001b[0m     flux_sampling()\n\u001b[1;32m     <a href='vscode-notebook-cell:/home/rafal/s78projects/cities/docs/experimental_notebooks/flux_terms.ipynb#W3sZmlsZQ%3D%3D?line=43'>44</a>\u001b[0m \u001b[39mfor\u001b[39;00m key \u001b[39min\u001b[39;00m tr\u001b[39m.\u001b[39mtrace\u001b[39m.\u001b[39mnodes\u001b[39m.\u001b[39mkeys():\n\u001b[1;32m     <a href='vscode-notebook-cell:/home/rafal/s78projects/cities/docs/experimental_notebooks/flux_terms.ipynb#W3sZmlsZQ%3D%3D?line=44'>45</a>\u001b[0m     \u001b[39mprint\u001b[39m(key,tr\u001b[39m.\u001b[39mtrace\u001b[39m.\u001b[39mnodes[key][\u001b[39m\"\u001b[39m\u001b[39mvalue\u001b[39m\u001b[39m\"\u001b[39m]\u001b[39m.\u001b[39mshape)\n",
      "\u001b[1;32m/home/rafal/s78projects/cities/docs/experimental_notebooks/flux_terms.ipynb Cell 3\u001b[0m line \u001b[0;36m3\n\u001b[1;32m     <a href='vscode-notebook-cell:/home/rafal/s78projects/cities/docs/experimental_notebooks/flux_terms.ipynb#W3sZmlsZQ%3D%3D?line=26'>27</a>\u001b[0m \u001b[39mwith\u001b[39;00m observations_plate:\n\u001b[1;32m     <a href='vscode-notebook-cell:/home/rafal/s78projects/cities/docs/experimental_notebooks/flux_terms.ipynb#W3sZmlsZQ%3D%3D?line=27'>28</a>\u001b[0m     \u001b[39m# making up some strange function\u001b[39;00m\n\u001b[1;32m     <a href='vscode-notebook-cell:/home/rafal/s78projects/cities/docs/experimental_notebooks/flux_terms.ipynb#W3sZmlsZQ%3D%3D?line=28'>29</a>\u001b[0m     \u001b[39mprint\u001b[39m(\u001b[39m\"\u001b[39m\u001b[39mff0\u001b[39m\u001b[39m\"\u001b[39m, federal_flux[\u001b[39m0\u001b[39m])\n\u001b[0;32m---> <a href='vscode-notebook-cell:/home/rafal/s78projects/cities/docs/experimental_notebooks/flux_terms.ipynb#W3sZmlsZQ%3D%3D?line=29'>30</a>\u001b[0m     \u001b[39mprint\u001b[39m(\u001b[39mf\u001b[39m\u001b[39m\"\u001b[39m\u001b[39m{\u001b[39;00mstate_observed\u001b[39m}\u001b[39;00m\u001b[39m\"\u001b[39m, state_flux[:,[state_observed]][\u001b[39m0\u001b[39m])\n\u001b[1;32m     <a href='vscode-notebook-cell:/home/rafal/s78projects/cities/docs/experimental_notebooks/flux_terms.ipynb#W3sZmlsZQ%3D%3D?line=30'>31</a>\u001b[0m     employment_mean \u001b[39m=\u001b[39m pyro\u001b[39m.\u001b[39mdeterministic(\u001b[39m\"\u001b[39m\u001b[39memployment_mean\u001b[39m\u001b[39m\"\u001b[39m, \n\u001b[1;32m     <a href='vscode-notebook-cell:/home/rafal/s78projects/cities/docs/experimental_notebooks/flux_terms.ipynb#W3sZmlsZQ%3D%3D?line=31'>32</a>\u001b[0m                                         federal_flux[\u001b[39m0\u001b[39m]  \u001b[39m*\u001b[39m federal_flux[\u001b[39m1\u001b[39m] \u001b[39m+\u001b[39m \n\u001b[1;32m     <a href='vscode-notebook-cell:/home/rafal/s78projects/cities/docs/experimental_notebooks/flux_terms.ipynb#W3sZmlsZQ%3D%3D?line=32'>33</a>\u001b[0m                                         state_flux[:,state_observed][\u001b[39m0\u001b[39m] \u001b[39m*\u001b[39m state_flux[:,state_observed][\u001b[39m1\u001b[39m] \n\u001b[1;32m     <a href='vscode-notebook-cell:/home/rafal/s78projects/cities/docs/experimental_notebooks/flux_terms.ipynb#W3sZmlsZQ%3D%3D?line=33'>34</a>\u001b[0m                                         \u001b[39m# county_flux[:fips_observed][0] * county_flux[:state_observed][1])\u001b[39;00m\n\u001b[1;32m     <a href='vscode-notebook-cell:/home/rafal/s78projects/cities/docs/experimental_notebooks/flux_terms.ipynb#W3sZmlsZQ%3D%3D?line=34'>35</a>\u001b[0m         )\n\u001b[1;32m     <a href='vscode-notebook-cell:/home/rafal/s78projects/cities/docs/experimental_notebooks/flux_terms.ipynb#W3sZmlsZQ%3D%3D?line=35'>36</a>\u001b[0m     employment \u001b[39m=\u001b[39m pyro\u001b[39m.\u001b[39msample(\u001b[39m\"\u001b[39m\u001b[39memployment\u001b[39m\u001b[39m\"\u001b[39m, dist\u001b[39m.\u001b[39mNormal(employment_mean, \u001b[39m0.05\u001b[39m))\n",
      "\u001b[0;31mTypeError\u001b[0m: only integer tensors of a single element can be converted to an index"
     ]
    }
   ],
   "source": [
    "N_obs = len(employment_observed)\n",
    "N_u = len(fips_id)\n",
    "N_s = len(state_id)\n",
    "N_pairs = len(pairs_id)\n",
    "\n",
    "print(\"ns\", N_obs, N_u, N_s, N_pairs)\n",
    "\n",
    "def flux_sampling():\n",
    "    observations_plate = pyro.plate(\"observations_plate\", N_obs, dim=-1)\n",
    "    counties_plate = pyro.plate(\"counties_plate\", N_u, dim=-2)\n",
    "    states_plate = pyro.plate(\"states_plate\", N_s, dim=-3)\n",
    "    flux_plate = pyro.plate(\"flux_plate\", N_pairs, dim=-4)\n",
    "\n",
    "    with flux_plate:\n",
    "        federal_flux = pyro.sample(\"federal_flux\", dist.Normal(0, 1)).squeeze()\n",
    "\n",
    "        print(\"federal\", federal_flux.shape)\n",
    "        with states_plate:\n",
    "            state_flux = pyro.sample(\"state_flux\", dist.Normal(0, 1)).squeeze()\n",
    "\n",
    "        print(\"state\", state_flux.shape)\n",
    "\n",
    "        with counties_plate:\n",
    "            county_flux = pyro.sample(\"county_flux\", dist.Normal(0, 1)).squeeze()\n",
    "        print(\"county\", county_flux.shape)\n",
    "\n",
    "    with observations_plate:\n",
    "        # making up some strange function\n",
    "        employment_mean = pyro.deterministic(\"employment_mean\", \n",
    "                                            federal_flux[0]  * federal_flux[1] + \n",
    "                                            state_flux[:,state_observed][0] * state_flux[:,state_observed][1] +\n",
    "                                            county_flux[:,fips_observed][0] * county_flux[:state_observed][1])\n",
    "\n",
    "        employment = pyro.sample(\"employment\", dist.Normal(employment_mean, 0.05))\n",
    "\n",
    "    return\n",
    "\n",
    "with pyro.poutine.trace() as tr:\n",
    "    flux_sampling()\n",
    "\n",
    "\n",
    "for key in tr.trace.nodes.keys():\n",
    "    print(key,tr.trace.nodes[key][\"value\"].shape)\n"
   ]
  },
  {
   "cell_type": "code",
   "execution_count": null,
   "metadata": {},
   "outputs": [],
   "source": []
  }
 ],
 "metadata": {
  "kernelspec": {
   "display_name": "chirho",
   "language": "python",
   "name": "python3"
  },
  "language_info": {
   "codemirror_mode": {
    "name": "ipython",
    "version": 3
   },
   "file_extension": ".py",
   "mimetype": "text/x-python",
   "name": "python",
   "nbconvert_exporter": "python",
   "pygments_lexer": "ipython3",
   "version": "3.10.13"
  }
 },
 "nbformat": 4,
 "nbformat_minor": 2
}
