{
 "cells": [
  {
   "cell_type": "code",
   "execution_count": 1,
   "metadata": {},
   "outputs": [],
   "source": [
    "import pandas as pd\n",
    "import numpy as np\n",
    "from sklearn.preprocessing import StandardScaler\n",
    "import matplotlib.pyplot as plt\n",
    "from plotly import graph_objs as go\n",
    "\n",
    "from scipy.spatial import distance\n",
    "\n",
    "\n",
    "from cities.utils.data_grabber import DataGrabber\n",
    "data = DataGrabber()\n",
    "\n",
    "from cities.queries.fips_query import FipsQuery"
   ]
  },
  {
   "cell_type": "code",
   "execution_count": 2,
   "metadata": {},
   "outputs": [
    {
     "ename": "AttributeError",
     "evalue": "'FipsQuery' object has no attribute 'rate'",
     "output_type": "error",
     "traceback": [
      "\u001b[0;31m---------------------------------------------------------------------------\u001b[0m",
      "\u001b[0;31mAttributeError\u001b[0m                            Traceback (most recent call last)",
      "\u001b[1;32m/home/rafal/L2projects/cities/docs/experimental_notebooks/similarity_gdp.ipynb Cell 2\u001b[0m line \u001b[0;36m5\n\u001b[1;32m      <a href='vscode-notebook-cell:/home/rafal/L2projects/cities/docs/experimental_notebooks/similarity_gdp.ipynb#W1sZmlsZQ%3D%3D?line=0'>1</a>\u001b[0m f \u001b[39m=\u001b[39m FipsQuery(fips \u001b[39m=\u001b[39m \u001b[39m21001\u001b[39m, outcome_var\u001b[39m=\u001b[39m \u001b[39m\"\u001b[39m\u001b[39mgdp\u001b[39m\u001b[39m\"\u001b[39m,\n\u001b[1;32m      <a href='vscode-notebook-cell:/home/rafal/L2projects/cities/docs/experimental_notebooks/similarity_gdp.ipynb#W1sZmlsZQ%3D%3D?line=1'>2</a>\u001b[0m                   feature_groups\u001b[39m=\u001b[39m [\u001b[39m\"\u001b[39m\u001b[39mpopulation\u001b[39m\u001b[39m\"\u001b[39m],\n\u001b[1;32m      <a href='vscode-notebook-cell:/home/rafal/L2projects/cities/docs/experimental_notebooks/similarity_gdp.ipynb#W1sZmlsZQ%3D%3D?line=2'>3</a>\u001b[0m                   weights \u001b[39m=\u001b[39m {\u001b[39m\"\u001b[39m\u001b[39mpopulation\u001b[39m\u001b[39m\"\u001b[39m: \u001b[39m3\u001b[39m},\n\u001b[1;32m      <a href='vscode-notebook-cell:/home/rafal/L2projects/cities/docs/experimental_notebooks/similarity_gdp.ipynb#W1sZmlsZQ%3D%3D?line=3'>4</a>\u001b[0m                   lag \u001b[39m=\u001b[39m \u001b[39m0\u001b[39m, top \u001b[39m=\u001b[39m \u001b[39m8\u001b[39m, rate \u001b[39m=\u001b[39m \u001b[39m1.08\u001b[39m)\n\u001b[0;32m----> <a href='vscode-notebook-cell:/home/rafal/L2projects/cities/docs/experimental_notebooks/similarity_gdp.ipynb#W1sZmlsZQ%3D%3D?line=4'>5</a>\u001b[0m f\u001b[39m.\u001b[39;49mfind_euclidean_kins()\n\u001b[1;32m      <a href='vscode-notebook-cell:/home/rafal/L2projects/cities/docs/experimental_notebooks/similarity_gdp.ipynb#W1sZmlsZQ%3D%3D?line=5'>6</a>\u001b[0m f\u001b[39m.\u001b[39mweigth_plot\u001b[39m.\u001b[39mshow()\n",
      "File \u001b[0;32m~/L2projects/cities/cities/queries/fips_query.py:144\u001b[0m, in \u001b[0;36mFipsQuery.find_euclidean_kins\u001b[0;34m(self)\u001b[0m\n\u001b[1;32m    139\u001b[0m \u001b[39mself\u001b[39m\u001b[39m.\u001b[39mmy_array \u001b[39m=\u001b[39m np\u001b[39m.\u001b[39mhstack((\u001b[39mself\u001b[39m\u001b[39m.\u001b[39mmy_array, my_features_arrays))        \n\u001b[1;32m    140\u001b[0m \u001b[39mself\u001b[39m\u001b[39m.\u001b[39mother_arrays \u001b[39m=\u001b[39m np\u001b[39m.\u001b[39mhstack((\u001b[39mself\u001b[39m\u001b[39m.\u001b[39mother_arrays, others_features_arrays))\n\u001b[0;32m--> 144\u001b[0m compute_weight_array(\u001b[39mself\u001b[39m, \u001b[39mself\u001b[39;49m\u001b[39m.\u001b[39;49mrate)\n\u001b[1;32m    146\u001b[0m \u001b[39massert\u001b[39;00m \u001b[39mself\u001b[39m\u001b[39m.\u001b[39mother_arrays\u001b[39m.\u001b[39mshape[\u001b[39m1\u001b[39m] \u001b[39m==\u001b[39m \u001b[39mself\u001b[39m\u001b[39m.\u001b[39mall_weights\u001b[39m.\u001b[39mshape[\u001b[39m0\u001b[39m], \u001b[39m\"\u001b[39m\u001b[39mWeights and arrays are misaligned\u001b[39m\u001b[39m\"\u001b[39m \n\u001b[1;32m    148\u001b[0m distances \u001b[39m=\u001b[39m []\n",
      "\u001b[0;31mAttributeError\u001b[0m: 'FipsQuery' object has no attribute 'rate'"
     ]
    }
   ],
   "source": [
    "f = FipsQuery(fips = 21001, outcome_var= \"gdp\",\n",
    "                  feature_groups= [\"population\"],\n",
    "                  weights = {\"population\": 3},\n",
    "                  lag = 0, top = 8, time_decay=1.08)\n",
    "f.find_euclidean_kins()\n",
    "f.weigth_plot.show()\n"
   ]
  },
  {
   "cell_type": "code",
   "execution_count": null,
   "metadata": {},
   "outputs": [],
   "source": []
  },
  {
   "cell_type": "code",
   "execution_count": null,
   "metadata": {},
   "outputs": [],
   "source": [
    "\n",
    "display(f.euclidean_kins)"
   ]
  },
  {
   "cell_type": "code",
   "execution_count": 3,
   "metadata": {},
   "outputs": [
    {
     "name": "stdout",
     "output_type": "stream",
     "text": [
      "my_df    GeoFIPS    GeoName      2001      2002      2003      2004      2005  \\\n",
      "0    21001  Adair, KY -0.011981  0.001449  0.000968 -0.047062 -0.034927   \n",
      "\n",
      "       2006      2007      2008  ...      2011      2013      2014      2015  \\\n",
      "0 -0.025904 -0.049201 -0.027893  ... -0.022687 -0.013387 -0.030414 -0.038429   \n",
      "\n",
      "       2016      2017      2018      2019      2020      2021  \n",
      "0 -0.177175 -0.149974 -0.119412 -0.107629 -0.112741 -0.058293  \n",
      "\n",
      "[1 rows x 22 columns]\n",
      "my_array [[-0.01198147  0.00144933  0.00096773 -0.04706183 -0.03492746 -0.02590352\n",
      "  -0.04920083 -0.0278928  -0.04354668 -0.00503793 -0.02268674 -0.01338691\n",
      "  -0.03041408 -0.0384288  -0.17717526 -0.14997391 -0.11941226 -0.1076285\n",
      "  -0.11274125 -0.05829269]]\n",
      "Duplicated rows:\n",
      "(3106, 22)\n",
      "(3105, 20)\n"
     ]
    },
    {
     "data": {
      "text/html": [
       "<div>\n",
       "<style scoped>\n",
       "    .dataframe tbody tr th:only-of-type {\n",
       "        vertical-align: middle;\n",
       "    }\n",
       "\n",
       "    .dataframe tbody tr th {\n",
       "        vertical-align: top;\n",
       "    }\n",
       "\n",
       "    .dataframe thead th {\n",
       "        text-align: right;\n",
       "    }\n",
       "</style>\n",
       "<table border=\"1\" class=\"dataframe\">\n",
       "  <thead>\n",
       "    <tr style=\"text-align: right;\">\n",
       "      <th></th>\n",
       "      <th>GeoFIPS</th>\n",
       "      <th>GeoName</th>\n",
       "      <th>2001</th>\n",
       "      <th>2002</th>\n",
       "      <th>2003</th>\n",
       "      <th>2004</th>\n",
       "      <th>2005</th>\n",
       "      <th>2006</th>\n",
       "      <th>2007</th>\n",
       "      <th>2008</th>\n",
       "      <th>...</th>\n",
       "      <th>2013_population</th>\n",
       "      <th>2014_population</th>\n",
       "      <th>2015_population</th>\n",
       "      <th>2016_population</th>\n",
       "      <th>2017_population</th>\n",
       "      <th>2018_population</th>\n",
       "      <th>2019_population</th>\n",
       "      <th>2020_population</th>\n",
       "      <th>2021_population</th>\n",
       "      <th>distance to 21001</th>\n",
       "    </tr>\n",
       "  </thead>\n",
       "  <tbody>\n",
       "    <tr>\n",
       "      <th>985</th>\n",
       "      <td>21001</td>\n",
       "      <td>Adair, KY</td>\n",
       "      <td>85.002</td>\n",
       "      <td>88.645</td>\n",
       "      <td>90.734</td>\n",
       "      <td>88.653</td>\n",
       "      <td>92.220</td>\n",
       "      <td>94.210</td>\n",
       "      <td>92.561</td>\n",
       "      <td>94.972</td>\n",
       "      <td>...</td>\n",
       "      <td>18915.0</td>\n",
       "      <td>18987.0</td>\n",
       "      <td>18828.0</td>\n",
       "      <td>18882.0</td>\n",
       "      <td>18835.0</td>\n",
       "      <td>18664.0</td>\n",
       "      <td>18863.0</td>\n",
       "      <td>18870.0</td>\n",
       "      <td>18932.0</td>\n",
       "      <td>0.000000</td>\n",
       "    </tr>\n",
       "    <tr>\n",
       "      <th>1868</th>\n",
       "      <td>36097</td>\n",
       "      <td>Schuyler, NY</td>\n",
       "      <td>83.962</td>\n",
       "      <td>86.333</td>\n",
       "      <td>89.118</td>\n",
       "      <td>91.393</td>\n",
       "      <td>89.870</td>\n",
       "      <td>88.556</td>\n",
       "      <td>94.765</td>\n",
       "      <td>98.586</td>\n",
       "      <td>...</td>\n",
       "      <td>18455.0</td>\n",
       "      <td>18265.0</td>\n",
       "      <td>18136.0</td>\n",
       "      <td>18092.0</td>\n",
       "      <td>18044.0</td>\n",
       "      <td>17995.0</td>\n",
       "      <td>17983.0</td>\n",
       "      <td>17857.0</td>\n",
       "      <td>17752.0</td>\n",
       "      <td>0.211297</td>\n",
       "    </tr>\n",
       "    <tr>\n",
       "      <th>2510</th>\n",
       "      <td>47181</td>\n",
       "      <td>Wayne, TN</td>\n",
       "      <td>82.529</td>\n",
       "      <td>89.511</td>\n",
       "      <td>89.418</td>\n",
       "      <td>95.602</td>\n",
       "      <td>101.580</td>\n",
       "      <td>98.438</td>\n",
       "      <td>106.965</td>\n",
       "      <td>105.843</td>\n",
       "      <td>...</td>\n",
       "      <td>16817.0</td>\n",
       "      <td>16725.0</td>\n",
       "      <td>16602.0</td>\n",
       "      <td>16559.0</td>\n",
       "      <td>16413.0</td>\n",
       "      <td>16378.0</td>\n",
       "      <td>16357.0</td>\n",
       "      <td>16202.0</td>\n",
       "      <td>16409.0</td>\n",
       "      <td>0.228618</td>\n",
       "    </tr>\n",
       "    <tr>\n",
       "      <th>3076</th>\n",
       "      <td>55129</td>\n",
       "      <td>Washburn, WI</td>\n",
       "      <td>85.696</td>\n",
       "      <td>89.163</td>\n",
       "      <td>91.858</td>\n",
       "      <td>97.880</td>\n",
       "      <td>94.691</td>\n",
       "      <td>89.700</td>\n",
       "      <td>88.866</td>\n",
       "      <td>94.669</td>\n",
       "      <td>...</td>\n",
       "      <td>15932.0</td>\n",
       "      <td>16017.0</td>\n",
       "      <td>15960.0</td>\n",
       "      <td>16122.0</td>\n",
       "      <td>16355.0</td>\n",
       "      <td>16560.0</td>\n",
       "      <td>16569.0</td>\n",
       "      <td>16597.0</td>\n",
       "      <td>16752.0</td>\n",
       "      <td>0.234693</td>\n",
       "    </tr>\n",
       "    <tr>\n",
       "      <th>2168</th>\n",
       "      <td>40091</td>\n",
       "      <td>McIntosh, OK</td>\n",
       "      <td>83.688</td>\n",
       "      <td>88.749</td>\n",
       "      <td>88.379</td>\n",
       "      <td>92.059</td>\n",
       "      <td>90.451</td>\n",
       "      <td>98.021</td>\n",
       "      <td>96.664</td>\n",
       "      <td>96.523</td>\n",
       "      <td>...</td>\n",
       "      <td>19886.0</td>\n",
       "      <td>19670.0</td>\n",
       "      <td>19457.0</td>\n",
       "      <td>19339.0</td>\n",
       "      <td>19206.0</td>\n",
       "      <td>19147.0</td>\n",
       "      <td>18976.0</td>\n",
       "      <td>18946.0</td>\n",
       "      <td>19245.0</td>\n",
       "      <td>0.234892</td>\n",
       "    </tr>\n",
       "    <tr>\n",
       "      <th>...</th>\n",
       "      <td>...</td>\n",
       "      <td>...</td>\n",
       "      <td>...</td>\n",
       "      <td>...</td>\n",
       "      <td>...</td>\n",
       "      <td>...</td>\n",
       "      <td>...</td>\n",
       "      <td>...</td>\n",
       "      <td>...</td>\n",
       "      <td>...</td>\n",
       "      <td>...</td>\n",
       "      <td>...</td>\n",
       "      <td>...</td>\n",
       "      <td>...</td>\n",
       "      <td>...</td>\n",
       "      <td>...</td>\n",
       "      <td>...</td>\n",
       "      <td>...</td>\n",
       "      <td>...</td>\n",
       "      <td>...</td>\n",
       "      <td>...</td>\n",
       "    </tr>\n",
       "    <tr>\n",
       "      <th>216</th>\n",
       "      <td>6073</td>\n",
       "      <td>San Diego, CA</td>\n",
       "      <td>79.703</td>\n",
       "      <td>83.170</td>\n",
       "      <td>87.449</td>\n",
       "      <td>92.400</td>\n",
       "      <td>97.137</td>\n",
       "      <td>99.354</td>\n",
       "      <td>100.938</td>\n",
       "      <td>100.267</td>\n",
       "      <td>...</td>\n",
       "      <td>3199707.0</td>\n",
       "      <td>3234658.0</td>\n",
       "      <td>3262566.0</td>\n",
       "      <td>3283586.0</td>\n",
       "      <td>3293575.0</td>\n",
       "      <td>3303463.0</td>\n",
       "      <td>3297959.0</td>\n",
       "      <td>3297252.0</td>\n",
       "      <td>3286069.0</td>\n",
       "      <td>6.013667</td>\n",
       "    </tr>\n",
       "    <tr>\n",
       "      <th>97</th>\n",
       "      <td>4013</td>\n",
       "      <td>Maricopa, AZ</td>\n",
       "      <td>77.463</td>\n",
       "      <td>80.415</td>\n",
       "      <td>85.793</td>\n",
       "      <td>90.349</td>\n",
       "      <td>97.615</td>\n",
       "      <td>102.729</td>\n",
       "      <td>105.313</td>\n",
       "      <td>103.632</td>\n",
       "      <td>...</td>\n",
       "      <td>3977518.0</td>\n",
       "      <td>4040171.0</td>\n",
       "      <td>4105747.0</td>\n",
       "      <td>4174844.0</td>\n",
       "      <td>4231511.0</td>\n",
       "      <td>4292576.0</td>\n",
       "      <td>4363816.0</td>\n",
       "      <td>4438342.0</td>\n",
       "      <td>4496588.0</td>\n",
       "      <td>6.330882</td>\n",
       "    </tr>\n",
       "    <tr>\n",
       "      <th>2615</th>\n",
       "      <td>48201</td>\n",
       "      <td>Harris, TX</td>\n",
       "      <td>73.137</td>\n",
       "      <td>72.696</td>\n",
       "      <td>72.847</td>\n",
       "      <td>79.658</td>\n",
       "      <td>80.626</td>\n",
       "      <td>87.278</td>\n",
       "      <td>94.310</td>\n",
       "      <td>91.961</td>\n",
       "      <td>...</td>\n",
       "      <td>4350992.0</td>\n",
       "      <td>4452976.0</td>\n",
       "      <td>4553991.0</td>\n",
       "      <td>4619635.0</td>\n",
       "      <td>4651955.0</td>\n",
       "      <td>4672445.0</td>\n",
       "      <td>4704042.0</td>\n",
       "      <td>4732491.0</td>\n",
       "      <td>4728030.0</td>\n",
       "      <td>6.528824</td>\n",
       "    </tr>\n",
       "    <tr>\n",
       "      <th>602</th>\n",
       "      <td>17031</td>\n",
       "      <td>Cook, IL</td>\n",
       "      <td>95.406</td>\n",
       "      <td>94.886</td>\n",
       "      <td>95.455</td>\n",
       "      <td>97.260</td>\n",
       "      <td>99.315</td>\n",
       "      <td>101.320</td>\n",
       "      <td>101.826</td>\n",
       "      <td>99.238</td>\n",
       "      <td>...</td>\n",
       "      <td>5303041.0</td>\n",
       "      <td>5320233.0</td>\n",
       "      <td>5324961.0</td>\n",
       "      <td>5320293.0</td>\n",
       "      <td>5311621.0</td>\n",
       "      <td>5297956.0</td>\n",
       "      <td>5287099.0</td>\n",
       "      <td>5262741.0</td>\n",
       "      <td>5173146.0</td>\n",
       "      <td>7.287542</td>\n",
       "    </tr>\n",
       "    <tr>\n",
       "      <th>198</th>\n",
       "      <td>6037</td>\n",
       "      <td>Los Angeles, CA</td>\n",
       "      <td>82.070</td>\n",
       "      <td>83.658</td>\n",
       "      <td>86.614</td>\n",
       "      <td>89.137</td>\n",
       "      <td>91.163</td>\n",
       "      <td>94.942</td>\n",
       "      <td>96.400</td>\n",
       "      <td>98.804</td>\n",
       "      <td>...</td>\n",
       "      <td>10000924.0</td>\n",
       "      <td>10051511.0</td>\n",
       "      <td>10099677.0</td>\n",
       "      <td>10121673.0</td>\n",
       "      <td>10123521.0</td>\n",
       "      <td>10096986.0</td>\n",
       "      <td>10051154.0</td>\n",
       "      <td>9989165.0</td>\n",
       "      <td>9829544.0</td>\n",
       "      <td>9.769597</td>\n",
       "    </tr>\n",
       "  </tbody>\n",
       "</table>\n",
       "<p>3106 rows × 52 columns</p>\n",
       "</div>"
      ],
      "text/plain": [
       "      GeoFIPS          GeoName    2001    2002    2003    2004     2005  \\\n",
       "985     21001        Adair, KY  85.002  88.645  90.734  88.653   92.220   \n",
       "1868    36097     Schuyler, NY  83.962  86.333  89.118  91.393   89.870   \n",
       "2510    47181        Wayne, TN  82.529  89.511  89.418  95.602  101.580   \n",
       "3076    55129     Washburn, WI  85.696  89.163  91.858  97.880   94.691   \n",
       "2168    40091     McIntosh, OK  83.688  88.749  88.379  92.059   90.451   \n",
       "...       ...              ...     ...     ...     ...     ...      ...   \n",
       "216      6073    San Diego, CA  79.703  83.170  87.449  92.400   97.137   \n",
       "97       4013     Maricopa, AZ  77.463  80.415  85.793  90.349   97.615   \n",
       "2615    48201       Harris, TX  73.137  72.696  72.847  79.658   80.626   \n",
       "602     17031         Cook, IL  95.406  94.886  95.455  97.260   99.315   \n",
       "198      6037  Los Angeles, CA  82.070  83.658  86.614  89.137   91.163   \n",
       "\n",
       "         2006     2007     2008  ...  2013_population  2014_population  \\\n",
       "985    94.210   92.561   94.972  ...          18915.0          18987.0   \n",
       "1868   88.556   94.765   98.586  ...          18455.0          18265.0   \n",
       "2510   98.438  106.965  105.843  ...          16817.0          16725.0   \n",
       "3076   89.700   88.866   94.669  ...          15932.0          16017.0   \n",
       "2168   98.021   96.664   96.523  ...          19886.0          19670.0   \n",
       "...       ...      ...      ...  ...              ...              ...   \n",
       "216    99.354  100.938  100.267  ...        3199707.0        3234658.0   \n",
       "97    102.729  105.313  103.632  ...        3977518.0        4040171.0   \n",
       "2615   87.278   94.310   91.961  ...        4350992.0        4452976.0   \n",
       "602   101.320  101.826   99.238  ...        5303041.0        5320233.0   \n",
       "198    94.942   96.400   98.804  ...       10000924.0       10051511.0   \n",
       "\n",
       "      2015_population  2016_population  2017_population  2018_population  \\\n",
       "985           18828.0          18882.0          18835.0          18664.0   \n",
       "1868          18136.0          18092.0          18044.0          17995.0   \n",
       "2510          16602.0          16559.0          16413.0          16378.0   \n",
       "3076          15960.0          16122.0          16355.0          16560.0   \n",
       "2168          19457.0          19339.0          19206.0          19147.0   \n",
       "...               ...              ...              ...              ...   \n",
       "216         3262566.0        3283586.0        3293575.0        3303463.0   \n",
       "97          4105747.0        4174844.0        4231511.0        4292576.0   \n",
       "2615        4553991.0        4619635.0        4651955.0        4672445.0   \n",
       "602         5324961.0        5320293.0        5311621.0        5297956.0   \n",
       "198        10099677.0       10121673.0       10123521.0       10096986.0   \n",
       "\n",
       "      2019_population  2020_population  2021_population  distance to 21001  \n",
       "985           18863.0          18870.0          18932.0           0.000000  \n",
       "1868          17983.0          17857.0          17752.0           0.211297  \n",
       "2510          16357.0          16202.0          16409.0           0.228618  \n",
       "3076          16569.0          16597.0          16752.0           0.234693  \n",
       "2168          18976.0          18946.0          19245.0           0.234892  \n",
       "...               ...              ...              ...                ...  \n",
       "216         3297959.0        3297252.0        3286069.0           6.013667  \n",
       "97          4363816.0        4438342.0        4496588.0           6.330882  \n",
       "2615        4704042.0        4732491.0        4728030.0           6.528824  \n",
       "602         5287099.0        5262741.0        5173146.0           7.287542  \n",
       "198        10051154.0        9989165.0        9829544.0           9.769597  \n",
       "\n",
       "[3106 rows x 52 columns]"
      ]
     },
     "metadata": {},
     "output_type": "display_data"
    }
   ],
   "source": [
    "\n",
    "\n",
    "#display(f1007.outcome_slices['my_array'].shape[0])\n",
    "#display(f1007.outcome_slices['other_arrays'].shape[1])\n",
    "\n"
   ]
  },
  {
   "cell_type": "code",
   "execution_count": 4,
   "metadata": {},
   "outputs": [
    {
     "name": "stdout",
     "output_type": "stream",
     "text": [
      "my_df    GeoFIPS   GeoName      2003      2004      2005      2006      2007  \\\n",
      "0     1007  Bibb, AL -0.064108 -0.039338 -0.073651 -0.077013 -0.018795   \n",
      "\n",
      "       2008      2009      2010      2011      2013      2014      2015  \\\n",
      "0 -0.030399 -0.039893  0.003457  0.012174 -0.073918 -0.106559 -0.180614   \n",
      "\n",
      "       2016      2017      2018     2019      2020      2021  \n",
      "0 -0.158872 -0.165253 -0.177649 -0.08967 -0.002981 -0.062466  \n",
      "my_array [[-0.0641081  -0.03933839 -0.07365066 -0.07701256 -0.01879483 -0.0303994\n",
      "  -0.03989344  0.00345734  0.0121738  -0.07391809 -0.10655892 -0.18061385\n",
      "  -0.15887226 -0.16525304 -0.17764905 -0.08967048 -0.00298133 -0.0624656 ]]\n",
      "Duplicated rows:\n",
      "(3106, 22)\n",
      "(3105, 18)\n"
     ]
    },
    {
     "ename": "ValueError",
     "evalue": "all the input arrays must have same number of dimensions, but the array at index 0 has 2 dimension(s) and the array at index 1 has 1 dimension(s)",
     "output_type": "error",
     "traceback": [
      "\u001b[0;31m---------------------------------------------------------------------------\u001b[0m",
      "\u001b[0;31mValueError\u001b[0m                                Traceback (most recent call last)",
      "\u001b[1;32m/home/rafal/L2projects/cities/docs/experimental_notebooks/similarity_gdp.ipynb Cell 4\u001b[0m line \u001b[0;36m5\n\u001b[1;32m      <a href='vscode-notebook-cell:/home/rafal/L2projects/cities/docs/experimental_notebooks/similarity_gdp.ipynb#W3sZmlsZQ%3D%3D?line=0'>1</a>\u001b[0m \u001b[39m# Suppose you want to find the most similar cities to a given city, but with some lag.\u001b[39;00m\n\u001b[1;32m      <a href='vscode-notebook-cell:/home/rafal/L2projects/cities/docs/experimental_notebooks/similarity_gdp.ipynb#W3sZmlsZQ%3D%3D?line=1'>2</a>\u001b[0m \u001b[39m# \"What places were on a similar path lag years ago?\"\u001b[39;00m\n\u001b[1;32m      <a href='vscode-notebook-cell:/home/rafal/L2projects/cities/docs/experimental_notebooks/similarity_gdp.ipynb#W3sZmlsZQ%3D%3D?line=3'>4</a>\u001b[0m f1007 \u001b[39m=\u001b[39m FipsQuery(\u001b[39m1007\u001b[39m,lag \u001b[39m=\u001b[39m \u001b[39m2\u001b[39m)\n\u001b[0;32m----> <a href='vscode-notebook-cell:/home/rafal/L2projects/cities/docs/experimental_notebooks/similarity_gdp.ipynb#W3sZmlsZQ%3D%3D?line=4'>5</a>\u001b[0m f1007\u001b[39m.\u001b[39;49mfind_euclidean_kins()\n\u001b[1;32m      <a href='vscode-notebook-cell:/home/rafal/L2projects/cities/docs/experimental_notebooks/similarity_gdp.ipynb#W3sZmlsZQ%3D%3D?line=5'>6</a>\u001b[0m f1007\u001b[39m.\u001b[39mplot_kins()\n\u001b[1;32m      <a href='vscode-notebook-cell:/home/rafal/L2projects/cities/docs/experimental_notebooks/similarity_gdp.ipynb#W3sZmlsZQ%3D%3D?line=6'>7</a>\u001b[0m \u001b[39m#display(f1007.euclidean_kins.head(n = 8))\u001b[39;00m\n",
      "File \u001b[0;32m~/L2projects/cities/cities/utils/fips_query.py:133\u001b[0m, in \u001b[0;36mFipsQuery.find_euclidean_kins\u001b[0;34m(self)\u001b[0m\n\u001b[1;32m    130\u001b[0m     \u001b[39melse\u001b[39;00m:\n\u001b[1;32m    131\u001b[0m         others_features_arrays \u001b[39m=\u001b[39m np\u001b[39m.\u001b[39mhstack((others_features_arrays, _extracted_other_array))\n\u001b[0;32m--> 133\u001b[0m \u001b[39mself\u001b[39m\u001b[39m.\u001b[39mmy_array \u001b[39m=\u001b[39m np\u001b[39m.\u001b[39;49mhstack((\u001b[39mself\u001b[39;49m\u001b[39m.\u001b[39;49mmy_array, my_features_arrays))        \n\u001b[1;32m    134\u001b[0m \u001b[39mself\u001b[39m\u001b[39m.\u001b[39mother_arrays \u001b[39m=\u001b[39m np\u001b[39m.\u001b[39mhstack((\u001b[39mself\u001b[39m\u001b[39m.\u001b[39mother_arrays, others_features_arrays))\n\u001b[1;32m    137\u001b[0m \u001b[39m#TODO generate and add w= weights to the distance calculations\u001b[39;00m\n",
      "File \u001b[0;32m~/anaconda3/envs/chirho/lib/python3.11/site-packages/numpy/core/shape_base.py:359\u001b[0m, in \u001b[0;36mhstack\u001b[0;34m(tup, dtype, casting)\u001b[0m\n\u001b[1;32m    357\u001b[0m     \u001b[39mreturn\u001b[39;00m _nx\u001b[39m.\u001b[39mconcatenate(arrs, \u001b[39m0\u001b[39m, dtype\u001b[39m=\u001b[39mdtype, casting\u001b[39m=\u001b[39mcasting)\n\u001b[1;32m    358\u001b[0m \u001b[39melse\u001b[39;00m:\n\u001b[0;32m--> 359\u001b[0m     \u001b[39mreturn\u001b[39;00m _nx\u001b[39m.\u001b[39;49mconcatenate(arrs, \u001b[39m1\u001b[39;49m, dtype\u001b[39m=\u001b[39;49mdtype, casting\u001b[39m=\u001b[39;49mcasting)\n",
      "\u001b[0;31mValueError\u001b[0m: all the input arrays must have same number of dimensions, but the array at index 0 has 2 dimension(s) and the array at index 1 has 1 dimension(s)"
     ]
    }
   ],
   "source": [
    "# Suppose you want to find the most similar cities to a given city, but with some lag.\n",
    "# \"What places were on a similar path lag years ago?\"\n",
    "\n",
    "f1007 = FipsQuery(1007,lag = 2)\n",
    "f1007.find_euclidean_kins()\n",
    "f1007.plot_kins()\n",
    "#display(f1007.euclidean_kins.head(n = 8))"
   ]
  },
  {
   "cell_type": "code",
   "execution_count": null,
   "metadata": {},
   "outputs": [
    {
     "data": {
      "application/vnd.plotly.v1+json": {
       "config": {
        "plotlyServerURL": "https://plot.ly"
       },
       "data": [
        {
         "line": {
          "color": "darkred",
          "width": 3
         },
         "mode": "lines",
         "name": "Bibb, AL",
         "text": "Bibb, AL",
         "textposition": "top right",
         "type": "scatter",
         "x": [
          2001,
          2002,
          2003,
          2004,
          2005,
          2006,
          2007,
          2008,
          2009,
          2010,
          2011,
          2013,
          2014,
          2015,
          2016,
          2017,
          2018,
          2019,
          2020,
          2021
         ],
         "y": [
          80.443,
          81.527,
          85.124,
          89.317,
          88.782,
          89.597,
          95.308,
          94.745,
          92.945,
          100.115,
          102.559,
          99.537,
          97.933,
          94.594,
          95.812,
          96.878,
          96.988,
          104.62,
          109.487,
          107.878
         ]
        },
        {
         "line": {
          "color": "#FFC0CB"
         },
         "mode": "lines",
         "name": "Houston, GA",
         "text": "Houston, GA",
         "textposition": "top right",
         "type": "scatter",
         "x": [
          2001,
          2002,
          2003,
          2004,
          2005,
          2006,
          2007,
          2008,
          2009,
          2010,
          2011,
          2013,
          2014,
          2015,
          2016,
          2017,
          2018,
          2019,
          2020,
          2021
         ],
         "y": [
          78.281,
          81.594,
          85.417,
          87.998,
          92.355,
          94.139,
          96.047,
          95.277,
          96.204,
          97,
          98.471,
          99.039,
          97.624,
          99.403,
          100.1,
          103.078,
          104.657,
          108.421,
          106.848,
          110.816
         ]
        },
        {
         "line": {
          "color": "#A9A9A9"
         },
         "mode": "lines",
         "name": "Ford, IL",
         "text": "Ford, IL",
         "textposition": "top right",
         "type": "scatter",
         "x": [
          2001,
          2002,
          2003,
          2004,
          2005,
          2006,
          2007,
          2008,
          2009,
          2010,
          2011,
          2013,
          2014,
          2015,
          2016,
          2017,
          2018,
          2019,
          2020,
          2021
         ],
         "y": [
          77.465,
          81.903,
          83.821,
          89.787,
          87.565,
          87.116,
          94.344,
          102.589,
          99.703,
          105.111,
          97.483,
          104.213,
          102.647,
          95.662,
          100.881,
          94.59,
          97.695,
          100.753,
          107.996,
          106.843
         ]
        },
        {
         "line": {
          "color": "#87CEFA"
         },
         "mode": "lines",
         "name": "Cloud, KS",
         "text": "Cloud, KS",
         "textposition": "top right",
         "type": "scatter",
         "x": [
          2001,
          2002,
          2003,
          2004,
          2005,
          2006,
          2007,
          2008,
          2009,
          2010,
          2011,
          2013,
          2014,
          2015,
          2016,
          2017,
          2018,
          2019,
          2020,
          2021
         ],
         "y": [
          81.241,
          77.261,
          86.179,
          90.061,
          90.269,
          94.109,
          97.527,
          111.051,
          98.457,
          98.731,
          100.765,
          99.225,
          100.583,
          97.406,
          97.236,
          94.542,
          97.902,
          103.768,
          106.86,
          107.717
         ]
        },
        {
         "line": {
          "color": "#FFD700"
         },
         "mode": "lines",
         "name": "Harvey, KS",
         "text": "Harvey, KS",
         "textposition": "top right",
         "type": "scatter",
         "x": [
          2001,
          2002,
          2003,
          2004,
          2005,
          2006,
          2007,
          2008,
          2009,
          2010,
          2011,
          2013,
          2014,
          2015,
          2016,
          2017,
          2018,
          2019,
          2020,
          2021
         ],
         "y": [
          79.715,
          83.134,
          85.862,
          90.895,
          90.159,
          92.936,
          90.873,
          96.676,
          94.965,
          92.986,
          96.94,
          100.364,
          97.423,
          97.788,
          97.485,
          96.424,
          102.973,
          104.456,
          101.44,
          106.767
         ]
        },
        {
         "line": {
          "color": "#98FB98"
         },
         "mode": "lines",
         "name": "Westchester, NY",
         "text": "Westchester, NY",
         "textposition": "top right",
         "type": "scatter",
         "x": [
          2001,
          2002,
          2003,
          2004,
          2005,
          2006,
          2007,
          2008,
          2009,
          2010,
          2011,
          2013,
          2014,
          2015,
          2016,
          2017,
          2018,
          2019,
          2020,
          2021
         ],
         "y": [
          82.215,
          82.346,
          84.317,
          89.494,
          89.52,
          90.76,
          92.716,
          93.701,
          92.231,
          95.958,
          95.706,
          98.723,
          99.267,
          99.068,
          100.197,
          101.452,
          103.629,
          106.999,
          105.29,
          109.162
         ]
        },
        {
         "line": {
          "color": "#FFC0CB"
         },
         "mode": "lines",
         "name": "Houston, TN",
         "text": "Houston, TN",
         "textposition": "top right",
         "type": "scatter",
         "x": [
          2001,
          2002,
          2003,
          2004,
          2005,
          2006,
          2007,
          2008,
          2009,
          2010,
          2011,
          2013,
          2014,
          2015,
          2016,
          2017,
          2018,
          2019,
          2020,
          2021
         ],
         "y": [
          79.883,
          86.916,
          86.982,
          89.201,
          90.688,
          92.538,
          91.964,
          91.606,
          92.651,
          91.5,
          98.281,
          98.206,
          97.79,
          97.145,
          95.48,
          102.135,
          101.039,
          104.945,
          102.671,
          103.753
         ]
        },
        {
         "line": {
          "color": "#A9A9A9"
         },
         "mode": "lines",
         "name": "Anderson, TX",
         "text": "Anderson, TX",
         "textposition": "top right",
         "type": "scatter",
         "x": [
          2001,
          2002,
          2003,
          2004,
          2005,
          2006,
          2007,
          2008,
          2009,
          2010,
          2011,
          2013,
          2014,
          2015,
          2016,
          2017,
          2018,
          2019,
          2020,
          2021
         ],
         "y": [
          86.52,
          87.872,
          86.502,
          85.395,
          86.234,
          94.157,
          99.554,
          99.452,
          95.747,
          98.169,
          99.176,
          97.815,
          96.542,
          93.421,
          96.281,
          98.795,
          102.131,
          106.009,
          105.324,
          111.56
         ]
        },
        {
         "line": {
          "color": "#87CEFA"
         },
         "mode": "lines",
         "name": "Chesterfield, VA",
         "text": "Chesterfield, VA",
         "textposition": "top right",
         "type": "scatter",
         "x": [
          2001,
          2002,
          2003,
          2004,
          2005,
          2006,
          2007,
          2008,
          2009,
          2010,
          2011,
          2013,
          2014,
          2015,
          2016,
          2017,
          2018,
          2019,
          2020,
          2021
         ],
         "y": [
          83.828,
          83.242,
          85.083,
          85.724,
          89.516,
          90.444,
          93.462,
          93.774,
          94.076,
          96.896,
          98.472,
          102.475,
          98.243,
          98.964,
          98.387,
          98.274,
          99.563,
          100.584,
          99.507,
          104.397
         ]
        }
       ],
       "layout": {
        "legend": {
         "title": {
          "text": "GeoName"
         }
        },
        "template": {
         "data": {
          "bar": [
           {
            "error_x": {
             "color": "rgb(36,36,36)"
            },
            "error_y": {
             "color": "rgb(36,36,36)"
            },
            "marker": {
             "line": {
              "color": "white",
              "width": 0.5
             },
             "pattern": {
              "fillmode": "overlay",
              "size": 10,
              "solidity": 0.2
             }
            },
            "type": "bar"
           }
          ],
          "barpolar": [
           {
            "marker": {
             "line": {
              "color": "white",
              "width": 0.5
             },
             "pattern": {
              "fillmode": "overlay",
              "size": 10,
              "solidity": 0.2
             }
            },
            "type": "barpolar"
           }
          ],
          "carpet": [
           {
            "aaxis": {
             "endlinecolor": "rgb(36,36,36)",
             "gridcolor": "white",
             "linecolor": "white",
             "minorgridcolor": "white",
             "startlinecolor": "rgb(36,36,36)"
            },
            "baxis": {
             "endlinecolor": "rgb(36,36,36)",
             "gridcolor": "white",
             "linecolor": "white",
             "minorgridcolor": "white",
             "startlinecolor": "rgb(36,36,36)"
            },
            "type": "carpet"
           }
          ],
          "choropleth": [
           {
            "colorbar": {
             "outlinewidth": 1,
             "tickcolor": "rgb(36,36,36)",
             "ticks": "outside"
            },
            "type": "choropleth"
           }
          ],
          "contour": [
           {
            "colorbar": {
             "outlinewidth": 1,
             "tickcolor": "rgb(36,36,36)",
             "ticks": "outside"
            },
            "colorscale": [
             [
              0,
              "#440154"
             ],
             [
              0.1111111111111111,
              "#482878"
             ],
             [
              0.2222222222222222,
              "#3e4989"
             ],
             [
              0.3333333333333333,
              "#31688e"
             ],
             [
              0.4444444444444444,
              "#26828e"
             ],
             [
              0.5555555555555556,
              "#1f9e89"
             ],
             [
              0.6666666666666666,
              "#35b779"
             ],
             [
              0.7777777777777778,
              "#6ece58"
             ],
             [
              0.8888888888888888,
              "#b5de2b"
             ],
             [
              1,
              "#fde725"
             ]
            ],
            "type": "contour"
           }
          ],
          "contourcarpet": [
           {
            "colorbar": {
             "outlinewidth": 1,
             "tickcolor": "rgb(36,36,36)",
             "ticks": "outside"
            },
            "type": "contourcarpet"
           }
          ],
          "heatmap": [
           {
            "colorbar": {
             "outlinewidth": 1,
             "tickcolor": "rgb(36,36,36)",
             "ticks": "outside"
            },
            "colorscale": [
             [
              0,
              "#440154"
             ],
             [
              0.1111111111111111,
              "#482878"
             ],
             [
              0.2222222222222222,
              "#3e4989"
             ],
             [
              0.3333333333333333,
              "#31688e"
             ],
             [
              0.4444444444444444,
              "#26828e"
             ],
             [
              0.5555555555555556,
              "#1f9e89"
             ],
             [
              0.6666666666666666,
              "#35b779"
             ],
             [
              0.7777777777777778,
              "#6ece58"
             ],
             [
              0.8888888888888888,
              "#b5de2b"
             ],
             [
              1,
              "#fde725"
             ]
            ],
            "type": "heatmap"
           }
          ],
          "heatmapgl": [
           {
            "colorbar": {
             "outlinewidth": 1,
             "tickcolor": "rgb(36,36,36)",
             "ticks": "outside"
            },
            "colorscale": [
             [
              0,
              "#440154"
             ],
             [
              0.1111111111111111,
              "#482878"
             ],
             [
              0.2222222222222222,
              "#3e4989"
             ],
             [
              0.3333333333333333,
              "#31688e"
             ],
             [
              0.4444444444444444,
              "#26828e"
             ],
             [
              0.5555555555555556,
              "#1f9e89"
             ],
             [
              0.6666666666666666,
              "#35b779"
             ],
             [
              0.7777777777777778,
              "#6ece58"
             ],
             [
              0.8888888888888888,
              "#b5de2b"
             ],
             [
              1,
              "#fde725"
             ]
            ],
            "type": "heatmapgl"
           }
          ],
          "histogram": [
           {
            "marker": {
             "line": {
              "color": "white",
              "width": 0.6
             }
            },
            "type": "histogram"
           }
          ],
          "histogram2d": [
           {
            "colorbar": {
             "outlinewidth": 1,
             "tickcolor": "rgb(36,36,36)",
             "ticks": "outside"
            },
            "colorscale": [
             [
              0,
              "#440154"
             ],
             [
              0.1111111111111111,
              "#482878"
             ],
             [
              0.2222222222222222,
              "#3e4989"
             ],
             [
              0.3333333333333333,
              "#31688e"
             ],
             [
              0.4444444444444444,
              "#26828e"
             ],
             [
              0.5555555555555556,
              "#1f9e89"
             ],
             [
              0.6666666666666666,
              "#35b779"
             ],
             [
              0.7777777777777778,
              "#6ece58"
             ],
             [
              0.8888888888888888,
              "#b5de2b"
             ],
             [
              1,
              "#fde725"
             ]
            ],
            "type": "histogram2d"
           }
          ],
          "histogram2dcontour": [
           {
            "colorbar": {
             "outlinewidth": 1,
             "tickcolor": "rgb(36,36,36)",
             "ticks": "outside"
            },
            "colorscale": [
             [
              0,
              "#440154"
             ],
             [
              0.1111111111111111,
              "#482878"
             ],
             [
              0.2222222222222222,
              "#3e4989"
             ],
             [
              0.3333333333333333,
              "#31688e"
             ],
             [
              0.4444444444444444,
              "#26828e"
             ],
             [
              0.5555555555555556,
              "#1f9e89"
             ],
             [
              0.6666666666666666,
              "#35b779"
             ],
             [
              0.7777777777777778,
              "#6ece58"
             ],
             [
              0.8888888888888888,
              "#b5de2b"
             ],
             [
              1,
              "#fde725"
             ]
            ],
            "type": "histogram2dcontour"
           }
          ],
          "mesh3d": [
           {
            "colorbar": {
             "outlinewidth": 1,
             "tickcolor": "rgb(36,36,36)",
             "ticks": "outside"
            },
            "type": "mesh3d"
           }
          ],
          "parcoords": [
           {
            "line": {
             "colorbar": {
              "outlinewidth": 1,
              "tickcolor": "rgb(36,36,36)",
              "ticks": "outside"
             }
            },
            "type": "parcoords"
           }
          ],
          "pie": [
           {
            "automargin": true,
            "type": "pie"
           }
          ],
          "scatter": [
           {
            "fillpattern": {
             "fillmode": "overlay",
             "size": 10,
             "solidity": 0.2
            },
            "type": "scatter"
           }
          ],
          "scatter3d": [
           {
            "line": {
             "colorbar": {
              "outlinewidth": 1,
              "tickcolor": "rgb(36,36,36)",
              "ticks": "outside"
             }
            },
            "marker": {
             "colorbar": {
              "outlinewidth": 1,
              "tickcolor": "rgb(36,36,36)",
              "ticks": "outside"
             }
            },
            "type": "scatter3d"
           }
          ],
          "scattercarpet": [
           {
            "marker": {
             "colorbar": {
              "outlinewidth": 1,
              "tickcolor": "rgb(36,36,36)",
              "ticks": "outside"
             }
            },
            "type": "scattercarpet"
           }
          ],
          "scattergeo": [
           {
            "marker": {
             "colorbar": {
              "outlinewidth": 1,
              "tickcolor": "rgb(36,36,36)",
              "ticks": "outside"
             }
            },
            "type": "scattergeo"
           }
          ],
          "scattergl": [
           {
            "marker": {
             "colorbar": {
              "outlinewidth": 1,
              "tickcolor": "rgb(36,36,36)",
              "ticks": "outside"
             }
            },
            "type": "scattergl"
           }
          ],
          "scattermapbox": [
           {
            "marker": {
             "colorbar": {
              "outlinewidth": 1,
              "tickcolor": "rgb(36,36,36)",
              "ticks": "outside"
             }
            },
            "type": "scattermapbox"
           }
          ],
          "scatterpolar": [
           {
            "marker": {
             "colorbar": {
              "outlinewidth": 1,
              "tickcolor": "rgb(36,36,36)",
              "ticks": "outside"
             }
            },
            "type": "scatterpolar"
           }
          ],
          "scatterpolargl": [
           {
            "marker": {
             "colorbar": {
              "outlinewidth": 1,
              "tickcolor": "rgb(36,36,36)",
              "ticks": "outside"
             }
            },
            "type": "scatterpolargl"
           }
          ],
          "scatterternary": [
           {
            "marker": {
             "colorbar": {
              "outlinewidth": 1,
              "tickcolor": "rgb(36,36,36)",
              "ticks": "outside"
             }
            },
            "type": "scatterternary"
           }
          ],
          "surface": [
           {
            "colorbar": {
             "outlinewidth": 1,
             "tickcolor": "rgb(36,36,36)",
             "ticks": "outside"
            },
            "colorscale": [
             [
              0,
              "#440154"
             ],
             [
              0.1111111111111111,
              "#482878"
             ],
             [
              0.2222222222222222,
              "#3e4989"
             ],
             [
              0.3333333333333333,
              "#31688e"
             ],
             [
              0.4444444444444444,
              "#26828e"
             ],
             [
              0.5555555555555556,
              "#1f9e89"
             ],
             [
              0.6666666666666666,
              "#35b779"
             ],
             [
              0.7777777777777778,
              "#6ece58"
             ],
             [
              0.8888888888888888,
              "#b5de2b"
             ],
             [
              1,
              "#fde725"
             ]
            ],
            "type": "surface"
           }
          ],
          "table": [
           {
            "cells": {
             "fill": {
              "color": "rgb(237,237,237)"
             },
             "line": {
              "color": "white"
             }
            },
            "header": {
             "fill": {
              "color": "rgb(217,217,217)"
             },
             "line": {
              "color": "white"
             }
            },
            "type": "table"
           }
          ]
         },
         "layout": {
          "annotationdefaults": {
           "arrowhead": 0,
           "arrowwidth": 1
          },
          "autotypenumbers": "strict",
          "coloraxis": {
           "colorbar": {
            "outlinewidth": 1,
            "tickcolor": "rgb(36,36,36)",
            "ticks": "outside"
           }
          },
          "colorscale": {
           "diverging": [
            [
             0,
             "rgb(103,0,31)"
            ],
            [
             0.1,
             "rgb(178,24,43)"
            ],
            [
             0.2,
             "rgb(214,96,77)"
            ],
            [
             0.3,
             "rgb(244,165,130)"
            ],
            [
             0.4,
             "rgb(253,219,199)"
            ],
            [
             0.5,
             "rgb(247,247,247)"
            ],
            [
             0.6,
             "rgb(209,229,240)"
            ],
            [
             0.7,
             "rgb(146,197,222)"
            ],
            [
             0.8,
             "rgb(67,147,195)"
            ],
            [
             0.9,
             "rgb(33,102,172)"
            ],
            [
             1,
             "rgb(5,48,97)"
            ]
           ],
           "sequential": [
            [
             0,
             "#440154"
            ],
            [
             0.1111111111111111,
             "#482878"
            ],
            [
             0.2222222222222222,
             "#3e4989"
            ],
            [
             0.3333333333333333,
             "#31688e"
            ],
            [
             0.4444444444444444,
             "#26828e"
            ],
            [
             0.5555555555555556,
             "#1f9e89"
            ],
            [
             0.6666666666666666,
             "#35b779"
            ],
            [
             0.7777777777777778,
             "#6ece58"
            ],
            [
             0.8888888888888888,
             "#b5de2b"
            ],
            [
             1,
             "#fde725"
            ]
           ],
           "sequentialminus": [
            [
             0,
             "#440154"
            ],
            [
             0.1111111111111111,
             "#482878"
            ],
            [
             0.2222222222222222,
             "#3e4989"
            ],
            [
             0.3333333333333333,
             "#31688e"
            ],
            [
             0.4444444444444444,
             "#26828e"
            ],
            [
             0.5555555555555556,
             "#1f9e89"
            ],
            [
             0.6666666666666666,
             "#35b779"
            ],
            [
             0.7777777777777778,
             "#6ece58"
            ],
            [
             0.8888888888888888,
             "#b5de2b"
            ],
            [
             1,
             "#fde725"
            ]
           ]
          },
          "colorway": [
           "#1F77B4",
           "#FF7F0E",
           "#2CA02C",
           "#D62728",
           "#9467BD",
           "#8C564B",
           "#E377C2",
           "#7F7F7F",
           "#BCBD22",
           "#17BECF"
          ],
          "font": {
           "color": "rgb(36,36,36)"
          },
          "geo": {
           "bgcolor": "white",
           "lakecolor": "white",
           "landcolor": "white",
           "showlakes": true,
           "showland": true,
           "subunitcolor": "white"
          },
          "hoverlabel": {
           "align": "left"
          },
          "hovermode": "closest",
          "mapbox": {
           "style": "light"
          },
          "paper_bgcolor": "white",
          "plot_bgcolor": "white",
          "polar": {
           "angularaxis": {
            "gridcolor": "rgb(232,232,232)",
            "linecolor": "rgb(36,36,36)",
            "showgrid": false,
            "showline": true,
            "ticks": "outside"
           },
           "bgcolor": "white",
           "radialaxis": {
            "gridcolor": "rgb(232,232,232)",
            "linecolor": "rgb(36,36,36)",
            "showgrid": false,
            "showline": true,
            "ticks": "outside"
           }
          },
          "scene": {
           "xaxis": {
            "backgroundcolor": "white",
            "gridcolor": "rgb(232,232,232)",
            "gridwidth": 2,
            "linecolor": "rgb(36,36,36)",
            "showbackground": true,
            "showgrid": false,
            "showline": true,
            "ticks": "outside",
            "zeroline": false,
            "zerolinecolor": "rgb(36,36,36)"
           },
           "yaxis": {
            "backgroundcolor": "white",
            "gridcolor": "rgb(232,232,232)",
            "gridwidth": 2,
            "linecolor": "rgb(36,36,36)",
            "showbackground": true,
            "showgrid": false,
            "showline": true,
            "ticks": "outside",
            "zeroline": false,
            "zerolinecolor": "rgb(36,36,36)"
           },
           "zaxis": {
            "backgroundcolor": "white",
            "gridcolor": "rgb(232,232,232)",
            "gridwidth": 2,
            "linecolor": "rgb(36,36,36)",
            "showbackground": true,
            "showgrid": false,
            "showline": true,
            "ticks": "outside",
            "zeroline": false,
            "zerolinecolor": "rgb(36,36,36)"
           }
          },
          "shapedefaults": {
           "fillcolor": "black",
           "line": {
            "width": 0
           },
           "opacity": 0.3
          },
          "ternary": {
           "aaxis": {
            "gridcolor": "rgb(232,232,232)",
            "linecolor": "rgb(36,36,36)",
            "showgrid": false,
            "showline": true,
            "ticks": "outside"
           },
           "baxis": {
            "gridcolor": "rgb(232,232,232)",
            "linecolor": "rgb(36,36,36)",
            "showgrid": false,
            "showline": true,
            "ticks": "outside"
           },
           "bgcolor": "white",
           "caxis": {
            "gridcolor": "rgb(232,232,232)",
            "linecolor": "rgb(36,36,36)",
            "showgrid": false,
            "showline": true,
            "ticks": "outside"
           }
          },
          "title": {
           "x": 0.05
          },
          "xaxis": {
           "automargin": true,
           "gridcolor": "rgb(232,232,232)",
           "linecolor": "rgb(36,36,36)",
           "showgrid": false,
           "showline": true,
           "ticks": "outside",
           "title": {
            "standoff": 15
           },
           "zeroline": false,
           "zerolinecolor": "rgb(36,36,36)"
          },
          "yaxis": {
           "automargin": true,
           "gridcolor": "rgb(232,232,232)",
           "linecolor": "rgb(36,36,36)",
           "showgrid": false,
           "showline": true,
           "ticks": "outside",
           "title": {
            "standoff": 15
           },
           "zeroline": false,
           "zerolinecolor": "rgb(36,36,36)"
          }
         }
        },
        "title": {
         "text": "Top 8 locations whose GDP patterns up to year 2021 are most similar to the current pattern of Bibb, AL"
        },
        "xaxis": {
         "title": {
          "text": "Year"
         }
        },
        "yaxis": {
         "title": {
          "text": "Chain-type quantity indexes for real GDP"
         }
        }
       }
      }
     },
     "metadata": {},
     "output_type": "display_data"
    }
   ],
   "source": [
    "# Suppose you want lag = 0\n",
    "# What locations are in the same place as us now?\"\n",
    "# Also, say you want 8 candidates.\n",
    "f1007 = FipsQuery(1007, lag = 0, top = 8)\n",
    "f1007.find_euclidean_kins()\n",
    "f1007.plot_kins()"
   ]
  },
  {
   "cell_type": "code",
   "execution_count": null,
   "metadata": {},
   "outputs": [
    {
     "data": {
      "text/html": [
       "<div>\n",
       "<style scoped>\n",
       "    .dataframe tbody tr th:only-of-type {\n",
       "        vertical-align: middle;\n",
       "    }\n",
       "\n",
       "    .dataframe tbody tr th {\n",
       "        vertical-align: top;\n",
       "    }\n",
       "\n",
       "    .dataframe thead th {\n",
       "        text-align: right;\n",
       "    }\n",
       "</style>\n",
       "<table border=\"1\" class=\"dataframe\">\n",
       "  <thead>\n",
       "    <tr style=\"text-align: right;\">\n",
       "      <th></th>\n",
       "      <th>GeoFIPS</th>\n",
       "      <th>GeoName</th>\n",
       "      <th>2001</th>\n",
       "      <th>2002</th>\n",
       "      <th>2003</th>\n",
       "      <th>2004</th>\n",
       "      <th>2005</th>\n",
       "      <th>2006</th>\n",
       "      <th>2007</th>\n",
       "      <th>2008</th>\n",
       "      <th>...</th>\n",
       "      <th>2013</th>\n",
       "      <th>2014</th>\n",
       "      <th>2015</th>\n",
       "      <th>2016</th>\n",
       "      <th>2017</th>\n",
       "      <th>2018</th>\n",
       "      <th>2019</th>\n",
       "      <th>2020</th>\n",
       "      <th>2021</th>\n",
       "      <th>distance to 1007</th>\n",
       "    </tr>\n",
       "  </thead>\n",
       "  <tbody>\n",
       "    <tr>\n",
       "      <th>894</th>\n",
       "      <td>20029</td>\n",
       "      <td>Cloud, KS</td>\n",
       "      <td>-0.059316</td>\n",
       "      <td>-0.132529</td>\n",
       "      <td>-0.051459</td>\n",
       "      <td>-0.030684</td>\n",
       "      <td>-0.056902</td>\n",
       "      <td>-0.027023</td>\n",
       "      <td>0.002188</td>\n",
       "      <td>0.070613</td>\n",
       "      <td>...</td>\n",
       "      <td>-0.080622</td>\n",
       "      <td>-0.065057</td>\n",
       "      <td>-0.138615</td>\n",
       "      <td>-0.138637</td>\n",
       "      <td>-0.200075</td>\n",
       "      <td>-0.164736</td>\n",
       "      <td>-0.100996</td>\n",
       "      <td>-0.037332</td>\n",
       "      <td>-0.064526</td>\n",
       "      <td>0.159140</td>\n",
       "    </tr>\n",
       "    <tr>\n",
       "      <th>613</th>\n",
       "      <td>17053</td>\n",
       "      <td>Ford, IL</td>\n",
       "      <td>-0.106839</td>\n",
       "      <td>-0.075933</td>\n",
       "      <td>-0.079730</td>\n",
       "      <td>-0.033871</td>\n",
       "      <td>-0.087358</td>\n",
       "      <td>-0.104500</td>\n",
       "      <td>-0.029465</td>\n",
       "      <td>0.026515</td>\n",
       "      <td>...</td>\n",
       "      <td>0.004072</td>\n",
       "      <td>-0.032732</td>\n",
       "      <td>-0.164663</td>\n",
       "      <td>-0.086840</td>\n",
       "      <td>-0.199359</td>\n",
       "      <td>-0.167660</td>\n",
       "      <td>-0.141072</td>\n",
       "      <td>-0.022478</td>\n",
       "      <td>-0.075714</td>\n",
       "      <td>0.180235</td>\n",
       "    </tr>\n",
       "    <tr>\n",
       "      <th>2515</th>\n",
       "      <td>48001</td>\n",
       "      <td>Anderson, TX</td>\n",
       "      <td>0.002178</td>\n",
       "      <td>-0.003158</td>\n",
       "      <td>-0.047587</td>\n",
       "      <td>-0.084958</td>\n",
       "      <td>-0.102350</td>\n",
       "      <td>-0.026491</td>\n",
       "      <td>0.010768</td>\n",
       "      <td>0.010167</td>\n",
       "      <td>...</td>\n",
       "      <td>-0.110920</td>\n",
       "      <td>-0.128344</td>\n",
       "      <td>-0.198133</td>\n",
       "      <td>-0.152208</td>\n",
       "      <td>-0.136677</td>\n",
       "      <td>-0.104987</td>\n",
       "      <td>-0.071207</td>\n",
       "      <td>-0.057417</td>\n",
       "      <td>-0.015335</td>\n",
       "      <td>0.186440</td>\n",
       "    </tr>\n",
       "    <tr>\n",
       "      <th>919</th>\n",
       "      <td>20079</td>\n",
       "      <td>Harvey, KS</td>\n",
       "      <td>-0.078521</td>\n",
       "      <td>-0.060924</td>\n",
       "      <td>-0.055260</td>\n",
       "      <td>-0.020984</td>\n",
       "      <td>-0.058141</td>\n",
       "      <td>-0.040019</td>\n",
       "      <td>-0.067885</td>\n",
       "      <td>-0.009077</td>\n",
       "      <td>...</td>\n",
       "      <td>-0.056148</td>\n",
       "      <td>-0.114546</td>\n",
       "      <td>-0.132910</td>\n",
       "      <td>-0.135098</td>\n",
       "      <td>-0.172021</td>\n",
       "      <td>-0.093091</td>\n",
       "      <td>-0.091850</td>\n",
       "      <td>-0.108204</td>\n",
       "      <td>-0.076687</td>\n",
       "      <td>0.187845</td>\n",
       "    </tr>\n",
       "    <tr>\n",
       "      <th>1879</th>\n",
       "      <td>36119</td>\n",
       "      <td>Westchester, NY</td>\n",
       "      <td>-0.047057</td>\n",
       "      <td>-0.070532</td>\n",
       "      <td>-0.073784</td>\n",
       "      <td>-0.037280</td>\n",
       "      <td>-0.065338</td>\n",
       "      <td>-0.064127</td>\n",
       "      <td>-0.047485</td>\n",
       "      <td>-0.041928</td>\n",
       "      <td>...</td>\n",
       "      <td>-0.091409</td>\n",
       "      <td>-0.085667</td>\n",
       "      <td>-0.113793</td>\n",
       "      <td>-0.096560</td>\n",
       "      <td>-0.097071</td>\n",
       "      <td>-0.083823</td>\n",
       "      <td>-0.058048</td>\n",
       "      <td>-0.057861</td>\n",
       "      <td>-0.046030</td>\n",
       "      <td>0.188640</td>\n",
       "    </tr>\n",
       "  </tbody>\n",
       "</table>\n",
       "<p>5 rows × 23 columns</p>\n",
       "</div>"
      ],
      "text/plain": [
       "      GeoFIPS          GeoName      2001      2002      2003      2004  \\\n",
       "894     20029        Cloud, KS -0.059316 -0.132529 -0.051459 -0.030684   \n",
       "613     17053         Ford, IL -0.106839 -0.075933 -0.079730 -0.033871   \n",
       "2515    48001     Anderson, TX  0.002178 -0.003158 -0.047587 -0.084958   \n",
       "919     20079       Harvey, KS -0.078521 -0.060924 -0.055260 -0.020984   \n",
       "1879    36119  Westchester, NY -0.047057 -0.070532 -0.073784 -0.037280   \n",
       "\n",
       "          2005      2006      2007      2008  ...      2013      2014  \\\n",
       "894  -0.056902 -0.027023  0.002188  0.070613  ... -0.080622 -0.065057   \n",
       "613  -0.087358 -0.104500 -0.029465  0.026515  ...  0.004072 -0.032732   \n",
       "2515 -0.102350 -0.026491  0.010768  0.010167  ... -0.110920 -0.128344   \n",
       "919  -0.058141 -0.040019 -0.067885 -0.009077  ... -0.056148 -0.114546   \n",
       "1879 -0.065338 -0.064127 -0.047485 -0.041928  ... -0.091409 -0.085667   \n",
       "\n",
       "          2015      2016      2017      2018      2019      2020      2021  \\\n",
       "894  -0.138615 -0.138637 -0.200075 -0.164736 -0.100996 -0.037332 -0.064526   \n",
       "613  -0.164663 -0.086840 -0.199359 -0.167660 -0.141072 -0.022478 -0.075714   \n",
       "2515 -0.198133 -0.152208 -0.136677 -0.104987 -0.071207 -0.057417 -0.015335   \n",
       "919  -0.132910 -0.135098 -0.172021 -0.093091 -0.091850 -0.108204 -0.076687   \n",
       "1879 -0.113793 -0.096560 -0.097071 -0.083823 -0.058048 -0.057861 -0.046030   \n",
       "\n",
       "      distance to 1007  \n",
       "894           0.159140  \n",
       "613           0.180235  \n",
       "2515          0.186440  \n",
       "919           0.187845  \n",
       "1879          0.188640  \n",
       "\n",
       "[5 rows x 23 columns]"
      ]
     },
     "metadata": {},
     "output_type": "display_data"
    }
   ],
   "source": [
    "# Suppose you want to access all the data, ranked by similarity\n",
    "\n",
    "#TODO_Nikodem, this needs to spit out the original values, not the scaled ones\n",
    "\n",
    "display(f1007.euclidean_kins.head())"
   ]
  },
  {
   "cell_type": "code",
   "execution_count": null,
   "metadata": {},
   "outputs": [],
   "source": [
    "f12011 = FipsQuery(12011, lag = 0, top = 8)"
   ]
  }
 ],
 "metadata": {
  "kernelspec": {
   "display_name": "chirho",
   "language": "python",
   "name": "python3"
  },
  "language_info": {
   "codemirror_mode": {
    "name": "ipython",
    "version": 3
   },
   "file_extension": ".py",
   "mimetype": "text/x-python",
   "name": "python",
   "nbconvert_exporter": "python",
   "pygments_lexer": "ipython3",
   "version": "3.11.4"
  },
  "orig_nbformat": 4
 },
 "nbformat": 4,
 "nbformat_minor": 2
}
