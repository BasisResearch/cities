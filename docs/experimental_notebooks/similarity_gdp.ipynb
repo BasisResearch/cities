{
 "cells": [
  {
   "cell_type": "code",
   "execution_count": 2,
   "metadata": {},
   "outputs": [
    {
     "ename": "TypeError",
     "evalue": "FipsQuery.find_euclidean_kins() got an unexpected keyword argument 'lag'",
     "output_type": "error",
     "traceback": [
      "\u001b[0;31m---------------------------------------------------------------------------\u001b[0m",
      "\u001b[0;31mTypeError\u001b[0m                                 Traceback (most recent call last)",
      "\u001b[1;32m/home/rafal/L2projects/cities/docs/experimental_notebooks/similarity_gdp.ipynb Cell 1\u001b[0m line \u001b[0;36m3\n\u001b[1;32m     <a href='vscode-notebook-cell:/home/rafal/L2projects/cities/docs/experimental_notebooks/similarity_gdp.ipynb#W0sZmlsZQ%3D%3D?line=26'>27</a>\u001b[0m \u001b[39mfrom\u001b[39;00m \u001b[39mcities\u001b[39;00m\u001b[39m.\u001b[39;00m\u001b[39mutils\u001b[39;00m \u001b[39mimport\u001b[39;00m FipsQuery\n\u001b[1;32m     <a href='vscode-notebook-cell:/home/rafal/L2projects/cities/docs/experimental_notebooks/similarity_gdp.ipynb#W0sZmlsZQ%3D%3D?line=28'>29</a>\u001b[0m f1007 \u001b[39m=\u001b[39m FipsQuery(\u001b[39m1007\u001b[39m)\n\u001b[0;32m---> <a href='vscode-notebook-cell:/home/rafal/L2projects/cities/docs/experimental_notebooks/similarity_gdp.ipynb#W0sZmlsZQ%3D%3D?line=29'>30</a>\u001b[0m f1007\u001b[39m.\u001b[39;49mfind_euclidean_kins(lag \u001b[39m=\u001b[39;49m \u001b[39m2\u001b[39;49m)\n\u001b[1;32m     <a href='vscode-notebook-cell:/home/rafal/L2projects/cities/docs/experimental_notebooks/similarity_gdp.ipynb#W0sZmlsZQ%3D%3D?line=30'>31</a>\u001b[0m f1007\u001b[39m.\u001b[39mplot_kins()\n\u001b[1;32m     <a href='vscode-notebook-cell:/home/rafal/L2projects/cities/docs/experimental_notebooks/similarity_gdp.ipynb#W0sZmlsZQ%3D%3D?line=31'>32</a>\u001b[0m \u001b[39m#display(f1007.euclidean_kins.head(n = 8))\u001b[39;00m\n",
      "\u001b[0;31mTypeError\u001b[0m: FipsQuery.find_euclidean_kins() got an unexpected keyword argument 'lag'"
     ]
    }
   ],
   "source": [
    "import os\n",
    "import sys\n",
    "\n",
    "current_dir =  os.getcwd()\n",
    "#parent_dir = os.path.dirname(current_dir)\n",
    "#sys.path.insert(0, parent_dir)\n",
    "\n",
    "grandparent_dir = os.path.dirname(os.path.dirname(current_dir))\n",
    "sys.path.insert(0, grandparent_dir)\n",
    "\n",
    "\n",
    "import pandas as pd\n",
    "import numpy as np\n",
    "from sklearn.preprocessing import StandardScaler\n",
    "\n",
    "\n",
    "\n",
    "import matplotlib.pyplot as plt\n",
    "import plotly.graph_objects as go\n",
    "\n",
    "from scipy.spatial import distance\n",
    "\n",
    "\n",
    "from cities.utils import DataGrabber\n",
    "data = DataGrabber()\n",
    "\n",
    "from cities.utils import FipsQuery\n",
    "\n",
    "f1007 = FipsQuery(1007,lag = 2)\n",
    "f1007.find_euclidean_kins()\n",
    "f1007.plot_kins()\n",
    "#display(f1007.euclidean_kins.head(n = 8))"
   ]
  },
  {
   "cell_type": "code",
   "execution_count": null,
   "metadata": {},
   "outputs": [],
   "source": []
  }
 ],
 "metadata": {
  "kernelspec": {
   "display_name": "chirho",
   "language": "python",
   "name": "python3"
  },
  "language_info": {
   "codemirror_mode": {
    "name": "ipython",
    "version": 3
   },
   "file_extension": ".py",
   "mimetype": "text/x-python",
   "name": "python",
   "nbconvert_exporter": "python",
   "pygments_lexer": "ipython3",
   "version": "3.11.4"
  },
  "orig_nbformat": 4
 },
 "nbformat": 4,
 "nbformat_minor": 2
}
