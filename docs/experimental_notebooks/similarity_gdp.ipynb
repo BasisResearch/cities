{
 "cells": [
  {
   "cell_type": "code",
   "execution_count": 1,
   "metadata": {},
   "outputs": [],
   "source": [
    "import pandas as pd\n",
    "import numpy as np\n",
    "from sklearn.preprocessing import StandardScaler\n",
    "import matplotlib.pyplot as plt\n",
    "import plotly.graph_objects as go\n",
    "\n",
    "from scipy.spatial import distance\n",
    "\n",
    "\n",
    "from cities.utils.data_grabber import DataGrabber\n",
    "data = DataGrabber()\n",
    "\n",
    "from cities.utils.fips_query import FipsQuery"
   ]
  },
  {
   "cell_type": "code",
   "execution_count": 2,
   "metadata": {},
   "outputs": [
    {
     "name": "stdout",
     "output_type": "stream",
     "text": [
      "outcome gdp \n",
      "feature_groups ['population'] \n",
      " weights [4] \n",
      " data_names dict_keys(['gdp', 'population']) \n",
      "\n"
     ]
    },
    {
     "data": {
      "text/plain": [
       "(3106, 22)"
      ]
     },
     "metadata": {},
     "output_type": "display_data"
    },
    {
     "data": {
      "text/plain": [
       "(3106, 31)"
      ]
     },
     "metadata": {},
     "output_type": "display_data"
    }
   ],
   "source": [
    "f1007 = FipsQuery(fips = 1007, outcome_var= \"gdp\",\n",
    "                  feature_groups= [\"population\"],\n",
    "                  lag = 0, top = 8)\n",
    "\n",
    "print(\n",
    "\"outcome\", f1007.outcome_var, \"\\n\"\n",
    "\"feature_groups\", f1007.feature_groups, \"\\n\",\n",
    "\"weights\", f1007.weights, \"\\n\",\n",
    "\"data_names\", f1007.data.std_wide.keys(), \"\\n\",\n",
    ")\n",
    "\n",
    "display(f1007.data.std_wide['gdp'].shape)\n",
    "\n",
    "display(f1007.data.std_wide['population'].shape)\n"
   ]
  },
  {
   "cell_type": "code",
   "execution_count": 3,
   "metadata": {},
   "outputs": [
    {
     "name": "stdout",
     "output_type": "stream",
     "text": [
      "extracting feature population\n"
     ]
    },
    {
     "data": {
      "text/plain": [
       "(1, 29)"
      ]
     },
     "metadata": {},
     "output_type": "display_data"
    },
    {
     "data": {
      "text/plain": [
       "(20,)"
      ]
     },
     "metadata": {},
     "output_type": "display_data"
    },
    {
     "data": {
      "text/plain": [
       "array([[-0.78873273, -0.78755832, -0.78429717, -0.78301919, -0.77974975,\n",
       "        -0.77711631, -0.77170594, -0.78121934, -0.77125959, -0.77012895,\n",
       "        -0.77060342, -0.76941006, -0.76856231, -0.77015477, -0.76893744,\n",
       "        -0.76772764, -0.76804302, -0.77041696, -0.77353702, -0.77602021,\n",
       "        -0.77940007, -0.78059043, -0.78195663, -0.78331559, -0.7854498 ,\n",
       "        -0.78876226, -0.78958375, -0.79182952, -0.78996084]])"
      ]
     },
     "metadata": {},
     "output_type": "display_data"
    },
    {
     "data": {
      "text/plain": [
       "array([-0.0693591421667336, -0.0805169470860766, -0.0641080977387719,\n",
       "       -0.0393383892430093, -0.0736506577761759, -0.077012563983248,\n",
       "       -0.0187948286549189, -0.0303993992999194, -0.0398934376475348,\n",
       "       0.003457338631457, 0.012173801023225, -0.0739180884438521,\n",
       "       -0.1065589174967108, -0.1806138451198566, -0.15887226272186,\n",
       "       -0.1652530371916225, -0.1776490534049165, -0.0896704815833897,\n",
       "       -0.0029813274752864, -0.0624655991193373], dtype=object)"
      ]
     },
     "metadata": {},
     "output_type": "display_data"
    },
    {
     "data": {
      "text/plain": [
       "array([[-0.0693591421667336, -0.0805169470860766, -0.0641080977387719,\n",
       "        -0.0393383892430093, -0.0736506577761759, -0.077012563983248,\n",
       "        -0.0187948286549189, -0.0303993992999194, -0.0398934376475348,\n",
       "        0.003457338631457, 0.012173801023225, -0.0739180884438521,\n",
       "        -0.1065589174967108, -0.1806138451198566, -0.15887226272186,\n",
       "        -0.1652530371916225, -0.1776490534049165, -0.0896704815833897,\n",
       "        -0.0029813274752864, -0.0624655991193373, -0.7887327315823498,\n",
       "        -0.787558324056749, -0.7842971718024482, -0.7830191949891949,\n",
       "        -0.7797497519190629, -0.7771163126324809, -0.7717059361137736,\n",
       "        -0.7812193428202951, -0.7712595890485701, -0.7701289515207573,\n",
       "        -0.7706034204582124, -0.7694100618354813, -0.7685623097422503,\n",
       "        -0.7701547677440226, -0.7689374367029741, -0.7677276410671973,\n",
       "        -0.768043015116161, -0.7704169564297161, -0.7735370227901726,\n",
       "        -0.776020206022187, -0.7794000687318965, -0.7805904296247236,\n",
       "        -0.7819566332207719, -0.783315588040632, -0.7854498034400373,\n",
       "        -0.7887622581500132, -0.789583745443242, -0.7918295249549008,\n",
       "        -0.7899608401566395]], dtype=object)"
      ]
     },
     "metadata": {},
     "output_type": "display_data"
    }
   ],
   "source": [
    "\n",
    "f1007.find_euclidean_kins()\n",
    "\n",
    "#display(f1007.outcome_slices['my_array'].shape[0])\n",
    "#display(f1007.outcome_slices['other_arrays'].shape[1])\n"
   ]
  },
  {
   "cell_type": "code",
   "execution_count": 4,
   "metadata": {},
   "outputs": [
    {
     "ename": "TypeError",
     "evalue": "object of type 'NoneType' has no len()",
     "output_type": "error",
     "traceback": [
      "\u001b[0;31m---------------------------------------------------------------------------\u001b[0m",
      "\u001b[0;31mTypeError\u001b[0m                                 Traceback (most recent call last)",
      "\u001b[1;32m/home/rafal/UGPOP/projectsUGPOP/cities/docs/experimental_notebooks/similarity_gdp.ipynb Cell 4\u001b[0m line \u001b[0;36m4\n\u001b[1;32m      <a href='vscode-notebook-cell:/home/rafal/UGPOP/projectsUGPOP/cities/docs/experimental_notebooks/similarity_gdp.ipynb#W1sZmlsZQ%3D%3D?line=0'>1</a>\u001b[0m \u001b[39m# Suppose you want to find the most similar cities to a given city, but with some lag.\u001b[39;00m\n\u001b[1;32m      <a href='vscode-notebook-cell:/home/rafal/UGPOP/projectsUGPOP/cities/docs/experimental_notebooks/similarity_gdp.ipynb#W1sZmlsZQ%3D%3D?line=1'>2</a>\u001b[0m \u001b[39m# \"What places were on a similar path lag years ago?\"\u001b[39;00m\n\u001b[0;32m----> <a href='vscode-notebook-cell:/home/rafal/UGPOP/projectsUGPOP/cities/docs/experimental_notebooks/similarity_gdp.ipynb#W1sZmlsZQ%3D%3D?line=3'>4</a>\u001b[0m f1007 \u001b[39m=\u001b[39m FipsQuery(\u001b[39m1007\u001b[39;49m,lag \u001b[39m=\u001b[39;49m \u001b[39m2\u001b[39;49m)\n\u001b[1;32m      <a href='vscode-notebook-cell:/home/rafal/UGPOP/projectsUGPOP/cities/docs/experimental_notebooks/similarity_gdp.ipynb#W1sZmlsZQ%3D%3D?line=4'>5</a>\u001b[0m f1007\u001b[39m.\u001b[39mfind_euclidean_kins()\n\u001b[1;32m      <a href='vscode-notebook-cell:/home/rafal/UGPOP/projectsUGPOP/cities/docs/experimental_notebooks/similarity_gdp.ipynb#W1sZmlsZQ%3D%3D?line=5'>6</a>\u001b[0m f1007\u001b[39m.\u001b[39mplot_kins()\n",
      "File \u001b[0;32m~/UGPOP/projectsUGPOP/cities/cities/utils/fips_query.py:40\u001b[0m, in \u001b[0;36mFipsQuery.__init__\u001b[0;34m(self, fips, outcome_var, feature_groups, weights, lag, top)\u001b[0m\n\u001b[1;32m     37\u001b[0m \u001b[39mself\u001b[39m\u001b[39m.\u001b[39moutcome_var \u001b[39m=\u001b[39m outcome_var\n\u001b[1;32m     39\u001b[0m weights \u001b[39m=\u001b[39m [\u001b[39m4\u001b[39m] \u001b[39m*\u001b[39m \u001b[39mlen\u001b[39m(feature_groups) \u001b[39mif\u001b[39;00m weights \u001b[39mis\u001b[39;00m \u001b[39mNone\u001b[39;00m \u001b[39mand\u001b[39;00m feature_groups \u001b[39melse\u001b[39;00m weights\n\u001b[0;32m---> 40\u001b[0m \u001b[39massert\u001b[39;00m \u001b[39mlen\u001b[39;49m(weights) \u001b[39m==\u001b[39m \u001b[39mlen\u001b[39m(feature_groups)\n\u001b[1;32m     41\u001b[0m \u001b[39mself\u001b[39m\u001b[39m.\u001b[39mfeature_groups \u001b[39m=\u001b[39m feature_groups\n\u001b[1;32m     42\u001b[0m \u001b[39mself\u001b[39m\u001b[39m.\u001b[39mweights \u001b[39m=\u001b[39m weights\n",
      "\u001b[0;31mTypeError\u001b[0m: object of type 'NoneType' has no len()"
     ]
    }
   ],
   "source": [
    "# Suppose you want to find the most similar cities to a given city, but with some lag.\n",
    "# \"What places were on a similar path lag years ago?\"\n",
    "\n",
    "f1007 = FipsQuery(1007,lag = 2)\n",
    "f1007.find_euclidean_kins()\n",
    "f1007.plot_kins()\n",
    "#display(f1007.euclidean_kins.head(n = 8))"
   ]
  },
  {
   "cell_type": "code",
   "execution_count": null,
   "metadata": {},
   "outputs": [
    {
     "data": {
      "application/vnd.plotly.v1+json": {
       "config": {
        "plotlyServerURL": "https://plot.ly"
       },
       "data": [
        {
         "line": {
          "color": "darkred",
          "width": 3
         },
         "mode": "lines",
         "name": "Bibb, AL",
         "text": "Bibb, AL",
         "textposition": "top right",
         "type": "scatter",
         "x": [
          2001,
          2002,
          2003,
          2004,
          2005,
          2006,
          2007,
          2008,
          2009,
          2010,
          2011,
          2013,
          2014,
          2015,
          2016,
          2017,
          2018,
          2019,
          2020,
          2021
         ],
         "y": [
          80.443,
          81.527,
          85.124,
          89.317,
          88.782,
          89.597,
          95.308,
          94.745,
          92.945,
          100.115,
          102.559,
          99.537,
          97.933,
          94.594,
          95.812,
          96.878,
          96.988,
          104.62,
          109.487,
          107.878
         ]
        },
        {
         "line": {
          "color": "#FFC0CB"
         },
         "mode": "lines",
         "name": "Houston, GA",
         "text": "Houston, GA",
         "textposition": "top right",
         "type": "scatter",
         "x": [
          2001,
          2002,
          2003,
          2004,
          2005,
          2006,
          2007,
          2008,
          2009,
          2010,
          2011,
          2013,
          2014,
          2015,
          2016,
          2017,
          2018,
          2019,
          2020,
          2021
         ],
         "y": [
          78.281,
          81.594,
          85.417,
          87.998,
          92.355,
          94.139,
          96.047,
          95.277,
          96.204,
          97,
          98.471,
          99.039,
          97.624,
          99.403,
          100.1,
          103.078,
          104.657,
          108.421,
          106.848,
          110.816
         ]
        },
        {
         "line": {
          "color": "#A9A9A9"
         },
         "mode": "lines",
         "name": "Ford, IL",
         "text": "Ford, IL",
         "textposition": "top right",
         "type": "scatter",
         "x": [
          2001,
          2002,
          2003,
          2004,
          2005,
          2006,
          2007,
          2008,
          2009,
          2010,
          2011,
          2013,
          2014,
          2015,
          2016,
          2017,
          2018,
          2019,
          2020,
          2021
         ],
         "y": [
          77.465,
          81.903,
          83.821,
          89.787,
          87.565,
          87.116,
          94.344,
          102.589,
          99.703,
          105.111,
          97.483,
          104.213,
          102.647,
          95.662,
          100.881,
          94.59,
          97.695,
          100.753,
          107.996,
          106.843
         ]
        },
        {
         "line": {
          "color": "#87CEFA"
         },
         "mode": "lines",
         "name": "Cloud, KS",
         "text": "Cloud, KS",
         "textposition": "top right",
         "type": "scatter",
         "x": [
          2001,
          2002,
          2003,
          2004,
          2005,
          2006,
          2007,
          2008,
          2009,
          2010,
          2011,
          2013,
          2014,
          2015,
          2016,
          2017,
          2018,
          2019,
          2020,
          2021
         ],
         "y": [
          81.241,
          77.261,
          86.179,
          90.061,
          90.269,
          94.109,
          97.527,
          111.051,
          98.457,
          98.731,
          100.765,
          99.225,
          100.583,
          97.406,
          97.236,
          94.542,
          97.902,
          103.768,
          106.86,
          107.717
         ]
        },
        {
         "line": {
          "color": "#FFD700"
         },
         "mode": "lines",
         "name": "Harvey, KS",
         "text": "Harvey, KS",
         "textposition": "top right",
         "type": "scatter",
         "x": [
          2001,
          2002,
          2003,
          2004,
          2005,
          2006,
          2007,
          2008,
          2009,
          2010,
          2011,
          2013,
          2014,
          2015,
          2016,
          2017,
          2018,
          2019,
          2020,
          2021
         ],
         "y": [
          79.715,
          83.134,
          85.862,
          90.895,
          90.159,
          92.936,
          90.873,
          96.676,
          94.965,
          92.986,
          96.94,
          100.364,
          97.423,
          97.788,
          97.485,
          96.424,
          102.973,
          104.456,
          101.44,
          106.767
         ]
        },
        {
         "line": {
          "color": "#98FB98"
         },
         "mode": "lines",
         "name": "Westchester, NY",
         "text": "Westchester, NY",
         "textposition": "top right",
         "type": "scatter",
         "x": [
          2001,
          2002,
          2003,
          2004,
          2005,
          2006,
          2007,
          2008,
          2009,
          2010,
          2011,
          2013,
          2014,
          2015,
          2016,
          2017,
          2018,
          2019,
          2020,
          2021
         ],
         "y": [
          82.215,
          82.346,
          84.317,
          89.494,
          89.52,
          90.76,
          92.716,
          93.701,
          92.231,
          95.958,
          95.706,
          98.723,
          99.267,
          99.068,
          100.197,
          101.452,
          103.629,
          106.999,
          105.29,
          109.162
         ]
        },
        {
         "line": {
          "color": "#FFC0CB"
         },
         "mode": "lines",
         "name": "Houston, TN",
         "text": "Houston, TN",
         "textposition": "top right",
         "type": "scatter",
         "x": [
          2001,
          2002,
          2003,
          2004,
          2005,
          2006,
          2007,
          2008,
          2009,
          2010,
          2011,
          2013,
          2014,
          2015,
          2016,
          2017,
          2018,
          2019,
          2020,
          2021
         ],
         "y": [
          79.883,
          86.916,
          86.982,
          89.201,
          90.688,
          92.538,
          91.964,
          91.606,
          92.651,
          91.5,
          98.281,
          98.206,
          97.79,
          97.145,
          95.48,
          102.135,
          101.039,
          104.945,
          102.671,
          103.753
         ]
        },
        {
         "line": {
          "color": "#A9A9A9"
         },
         "mode": "lines",
         "name": "Anderson, TX",
         "text": "Anderson, TX",
         "textposition": "top right",
         "type": "scatter",
         "x": [
          2001,
          2002,
          2003,
          2004,
          2005,
          2006,
          2007,
          2008,
          2009,
          2010,
          2011,
          2013,
          2014,
          2015,
          2016,
          2017,
          2018,
          2019,
          2020,
          2021
         ],
         "y": [
          86.52,
          87.872,
          86.502,
          85.395,
          86.234,
          94.157,
          99.554,
          99.452,
          95.747,
          98.169,
          99.176,
          97.815,
          96.542,
          93.421,
          96.281,
          98.795,
          102.131,
          106.009,
          105.324,
          111.56
         ]
        },
        {
         "line": {
          "color": "#87CEFA"
         },
         "mode": "lines",
         "name": "Chesterfield, VA",
         "text": "Chesterfield, VA",
         "textposition": "top right",
         "type": "scatter",
         "x": [
          2001,
          2002,
          2003,
          2004,
          2005,
          2006,
          2007,
          2008,
          2009,
          2010,
          2011,
          2013,
          2014,
          2015,
          2016,
          2017,
          2018,
          2019,
          2020,
          2021
         ],
         "y": [
          83.828,
          83.242,
          85.083,
          85.724,
          89.516,
          90.444,
          93.462,
          93.774,
          94.076,
          96.896,
          98.472,
          102.475,
          98.243,
          98.964,
          98.387,
          98.274,
          99.563,
          100.584,
          99.507,
          104.397
         ]
        }
       ],
       "layout": {
        "legend": {
         "title": {
          "text": "GeoName"
         }
        },
        "template": {
         "data": {
          "bar": [
           {
            "error_x": {
             "color": "rgb(36,36,36)"
            },
            "error_y": {
             "color": "rgb(36,36,36)"
            },
            "marker": {
             "line": {
              "color": "white",
              "width": 0.5
             },
             "pattern": {
              "fillmode": "overlay",
              "size": 10,
              "solidity": 0.2
             }
            },
            "type": "bar"
           }
          ],
          "barpolar": [
           {
            "marker": {
             "line": {
              "color": "white",
              "width": 0.5
             },
             "pattern": {
              "fillmode": "overlay",
              "size": 10,
              "solidity": 0.2
             }
            },
            "type": "barpolar"
           }
          ],
          "carpet": [
           {
            "aaxis": {
             "endlinecolor": "rgb(36,36,36)",
             "gridcolor": "white",
             "linecolor": "white",
             "minorgridcolor": "white",
             "startlinecolor": "rgb(36,36,36)"
            },
            "baxis": {
             "endlinecolor": "rgb(36,36,36)",
             "gridcolor": "white",
             "linecolor": "white",
             "minorgridcolor": "white",
             "startlinecolor": "rgb(36,36,36)"
            },
            "type": "carpet"
           }
          ],
          "choropleth": [
           {
            "colorbar": {
             "outlinewidth": 1,
             "tickcolor": "rgb(36,36,36)",
             "ticks": "outside"
            },
            "type": "choropleth"
           }
          ],
          "contour": [
           {
            "colorbar": {
             "outlinewidth": 1,
             "tickcolor": "rgb(36,36,36)",
             "ticks": "outside"
            },
            "colorscale": [
             [
              0,
              "#440154"
             ],
             [
              0.1111111111111111,
              "#482878"
             ],
             [
              0.2222222222222222,
              "#3e4989"
             ],
             [
              0.3333333333333333,
              "#31688e"
             ],
             [
              0.4444444444444444,
              "#26828e"
             ],
             [
              0.5555555555555556,
              "#1f9e89"
             ],
             [
              0.6666666666666666,
              "#35b779"
             ],
             [
              0.7777777777777778,
              "#6ece58"
             ],
             [
              0.8888888888888888,
              "#b5de2b"
             ],
             [
              1,
              "#fde725"
             ]
            ],
            "type": "contour"
           }
          ],
          "contourcarpet": [
           {
            "colorbar": {
             "outlinewidth": 1,
             "tickcolor": "rgb(36,36,36)",
             "ticks": "outside"
            },
            "type": "contourcarpet"
           }
          ],
          "heatmap": [
           {
            "colorbar": {
             "outlinewidth": 1,
             "tickcolor": "rgb(36,36,36)",
             "ticks": "outside"
            },
            "colorscale": [
             [
              0,
              "#440154"
             ],
             [
              0.1111111111111111,
              "#482878"
             ],
             [
              0.2222222222222222,
              "#3e4989"
             ],
             [
              0.3333333333333333,
              "#31688e"
             ],
             [
              0.4444444444444444,
              "#26828e"
             ],
             [
              0.5555555555555556,
              "#1f9e89"
             ],
             [
              0.6666666666666666,
              "#35b779"
             ],
             [
              0.7777777777777778,
              "#6ece58"
             ],
             [
              0.8888888888888888,
              "#b5de2b"
             ],
             [
              1,
              "#fde725"
             ]
            ],
            "type": "heatmap"
           }
          ],
          "heatmapgl": [
           {
            "colorbar": {
             "outlinewidth": 1,
             "tickcolor": "rgb(36,36,36)",
             "ticks": "outside"
            },
            "colorscale": [
             [
              0,
              "#440154"
             ],
             [
              0.1111111111111111,
              "#482878"
             ],
             [
              0.2222222222222222,
              "#3e4989"
             ],
             [
              0.3333333333333333,
              "#31688e"
             ],
             [
              0.4444444444444444,
              "#26828e"
             ],
             [
              0.5555555555555556,
              "#1f9e89"
             ],
             [
              0.6666666666666666,
              "#35b779"
             ],
             [
              0.7777777777777778,
              "#6ece58"
             ],
             [
              0.8888888888888888,
              "#b5de2b"
             ],
             [
              1,
              "#fde725"
             ]
            ],
            "type": "heatmapgl"
           }
          ],
          "histogram": [
           {
            "marker": {
             "line": {
              "color": "white",
              "width": 0.6
             }
            },
            "type": "histogram"
           }
          ],
          "histogram2d": [
           {
            "colorbar": {
             "outlinewidth": 1,
             "tickcolor": "rgb(36,36,36)",
             "ticks": "outside"
            },
            "colorscale": [
             [
              0,
              "#440154"
             ],
             [
              0.1111111111111111,
              "#482878"
             ],
             [
              0.2222222222222222,
              "#3e4989"
             ],
             [
              0.3333333333333333,
              "#31688e"
             ],
             [
              0.4444444444444444,
              "#26828e"
             ],
             [
              0.5555555555555556,
              "#1f9e89"
             ],
             [
              0.6666666666666666,
              "#35b779"
             ],
             [
              0.7777777777777778,
              "#6ece58"
             ],
             [
              0.8888888888888888,
              "#b5de2b"
             ],
             [
              1,
              "#fde725"
             ]
            ],
            "type": "histogram2d"
           }
          ],
          "histogram2dcontour": [
           {
            "colorbar": {
             "outlinewidth": 1,
             "tickcolor": "rgb(36,36,36)",
             "ticks": "outside"
            },
            "colorscale": [
             [
              0,
              "#440154"
             ],
             [
              0.1111111111111111,
              "#482878"
             ],
             [
              0.2222222222222222,
              "#3e4989"
             ],
             [
              0.3333333333333333,
              "#31688e"
             ],
             [
              0.4444444444444444,
              "#26828e"
             ],
             [
              0.5555555555555556,
              "#1f9e89"
             ],
             [
              0.6666666666666666,
              "#35b779"
             ],
             [
              0.7777777777777778,
              "#6ece58"
             ],
             [
              0.8888888888888888,
              "#b5de2b"
             ],
             [
              1,
              "#fde725"
             ]
            ],
            "type": "histogram2dcontour"
           }
          ],
          "mesh3d": [
           {
            "colorbar": {
             "outlinewidth": 1,
             "tickcolor": "rgb(36,36,36)",
             "ticks": "outside"
            },
            "type": "mesh3d"
           }
          ],
          "parcoords": [
           {
            "line": {
             "colorbar": {
              "outlinewidth": 1,
              "tickcolor": "rgb(36,36,36)",
              "ticks": "outside"
             }
            },
            "type": "parcoords"
           }
          ],
          "pie": [
           {
            "automargin": true,
            "type": "pie"
           }
          ],
          "scatter": [
           {
            "fillpattern": {
             "fillmode": "overlay",
             "size": 10,
             "solidity": 0.2
            },
            "type": "scatter"
           }
          ],
          "scatter3d": [
           {
            "line": {
             "colorbar": {
              "outlinewidth": 1,
              "tickcolor": "rgb(36,36,36)",
              "ticks": "outside"
             }
            },
            "marker": {
             "colorbar": {
              "outlinewidth": 1,
              "tickcolor": "rgb(36,36,36)",
              "ticks": "outside"
             }
            },
            "type": "scatter3d"
           }
          ],
          "scattercarpet": [
           {
            "marker": {
             "colorbar": {
              "outlinewidth": 1,
              "tickcolor": "rgb(36,36,36)",
              "ticks": "outside"
             }
            },
            "type": "scattercarpet"
           }
          ],
          "scattergeo": [
           {
            "marker": {
             "colorbar": {
              "outlinewidth": 1,
              "tickcolor": "rgb(36,36,36)",
              "ticks": "outside"
             }
            },
            "type": "scattergeo"
           }
          ],
          "scattergl": [
           {
            "marker": {
             "colorbar": {
              "outlinewidth": 1,
              "tickcolor": "rgb(36,36,36)",
              "ticks": "outside"
             }
            },
            "type": "scattergl"
           }
          ],
          "scattermapbox": [
           {
            "marker": {
             "colorbar": {
              "outlinewidth": 1,
              "tickcolor": "rgb(36,36,36)",
              "ticks": "outside"
             }
            },
            "type": "scattermapbox"
           }
          ],
          "scatterpolar": [
           {
            "marker": {
             "colorbar": {
              "outlinewidth": 1,
              "tickcolor": "rgb(36,36,36)",
              "ticks": "outside"
             }
            },
            "type": "scatterpolar"
           }
          ],
          "scatterpolargl": [
           {
            "marker": {
             "colorbar": {
              "outlinewidth": 1,
              "tickcolor": "rgb(36,36,36)",
              "ticks": "outside"
             }
            },
            "type": "scatterpolargl"
           }
          ],
          "scatterternary": [
           {
            "marker": {
             "colorbar": {
              "outlinewidth": 1,
              "tickcolor": "rgb(36,36,36)",
              "ticks": "outside"
             }
            },
            "type": "scatterternary"
           }
          ],
          "surface": [
           {
            "colorbar": {
             "outlinewidth": 1,
             "tickcolor": "rgb(36,36,36)",
             "ticks": "outside"
            },
            "colorscale": [
             [
              0,
              "#440154"
             ],
             [
              0.1111111111111111,
              "#482878"
             ],
             [
              0.2222222222222222,
              "#3e4989"
             ],
             [
              0.3333333333333333,
              "#31688e"
             ],
             [
              0.4444444444444444,
              "#26828e"
             ],
             [
              0.5555555555555556,
              "#1f9e89"
             ],
             [
              0.6666666666666666,
              "#35b779"
             ],
             [
              0.7777777777777778,
              "#6ece58"
             ],
             [
              0.8888888888888888,
              "#b5de2b"
             ],
             [
              1,
              "#fde725"
             ]
            ],
            "type": "surface"
           }
          ],
          "table": [
           {
            "cells": {
             "fill": {
              "color": "rgb(237,237,237)"
             },
             "line": {
              "color": "white"
             }
            },
            "header": {
             "fill": {
              "color": "rgb(217,217,217)"
             },
             "line": {
              "color": "white"
             }
            },
            "type": "table"
           }
          ]
         },
         "layout": {
          "annotationdefaults": {
           "arrowhead": 0,
           "arrowwidth": 1
          },
          "autotypenumbers": "strict",
          "coloraxis": {
           "colorbar": {
            "outlinewidth": 1,
            "tickcolor": "rgb(36,36,36)",
            "ticks": "outside"
           }
          },
          "colorscale": {
           "diverging": [
            [
             0,
             "rgb(103,0,31)"
            ],
            [
             0.1,
             "rgb(178,24,43)"
            ],
            [
             0.2,
             "rgb(214,96,77)"
            ],
            [
             0.3,
             "rgb(244,165,130)"
            ],
            [
             0.4,
             "rgb(253,219,199)"
            ],
            [
             0.5,
             "rgb(247,247,247)"
            ],
            [
             0.6,
             "rgb(209,229,240)"
            ],
            [
             0.7,
             "rgb(146,197,222)"
            ],
            [
             0.8,
             "rgb(67,147,195)"
            ],
            [
             0.9,
             "rgb(33,102,172)"
            ],
            [
             1,
             "rgb(5,48,97)"
            ]
           ],
           "sequential": [
            [
             0,
             "#440154"
            ],
            [
             0.1111111111111111,
             "#482878"
            ],
            [
             0.2222222222222222,
             "#3e4989"
            ],
            [
             0.3333333333333333,
             "#31688e"
            ],
            [
             0.4444444444444444,
             "#26828e"
            ],
            [
             0.5555555555555556,
             "#1f9e89"
            ],
            [
             0.6666666666666666,
             "#35b779"
            ],
            [
             0.7777777777777778,
             "#6ece58"
            ],
            [
             0.8888888888888888,
             "#b5de2b"
            ],
            [
             1,
             "#fde725"
            ]
           ],
           "sequentialminus": [
            [
             0,
             "#440154"
            ],
            [
             0.1111111111111111,
             "#482878"
            ],
            [
             0.2222222222222222,
             "#3e4989"
            ],
            [
             0.3333333333333333,
             "#31688e"
            ],
            [
             0.4444444444444444,
             "#26828e"
            ],
            [
             0.5555555555555556,
             "#1f9e89"
            ],
            [
             0.6666666666666666,
             "#35b779"
            ],
            [
             0.7777777777777778,
             "#6ece58"
            ],
            [
             0.8888888888888888,
             "#b5de2b"
            ],
            [
             1,
             "#fde725"
            ]
           ]
          },
          "colorway": [
           "#1F77B4",
           "#FF7F0E",
           "#2CA02C",
           "#D62728",
           "#9467BD",
           "#8C564B",
           "#E377C2",
           "#7F7F7F",
           "#BCBD22",
           "#17BECF"
          ],
          "font": {
           "color": "rgb(36,36,36)"
          },
          "geo": {
           "bgcolor": "white",
           "lakecolor": "white",
           "landcolor": "white",
           "showlakes": true,
           "showland": true,
           "subunitcolor": "white"
          },
          "hoverlabel": {
           "align": "left"
          },
          "hovermode": "closest",
          "mapbox": {
           "style": "light"
          },
          "paper_bgcolor": "white",
          "plot_bgcolor": "white",
          "polar": {
           "angularaxis": {
            "gridcolor": "rgb(232,232,232)",
            "linecolor": "rgb(36,36,36)",
            "showgrid": false,
            "showline": true,
            "ticks": "outside"
           },
           "bgcolor": "white",
           "radialaxis": {
            "gridcolor": "rgb(232,232,232)",
            "linecolor": "rgb(36,36,36)",
            "showgrid": false,
            "showline": true,
            "ticks": "outside"
           }
          },
          "scene": {
           "xaxis": {
            "backgroundcolor": "white",
            "gridcolor": "rgb(232,232,232)",
            "gridwidth": 2,
            "linecolor": "rgb(36,36,36)",
            "showbackground": true,
            "showgrid": false,
            "showline": true,
            "ticks": "outside",
            "zeroline": false,
            "zerolinecolor": "rgb(36,36,36)"
           },
           "yaxis": {
            "backgroundcolor": "white",
            "gridcolor": "rgb(232,232,232)",
            "gridwidth": 2,
            "linecolor": "rgb(36,36,36)",
            "showbackground": true,
            "showgrid": false,
            "showline": true,
            "ticks": "outside",
            "zeroline": false,
            "zerolinecolor": "rgb(36,36,36)"
           },
           "zaxis": {
            "backgroundcolor": "white",
            "gridcolor": "rgb(232,232,232)",
            "gridwidth": 2,
            "linecolor": "rgb(36,36,36)",
            "showbackground": true,
            "showgrid": false,
            "showline": true,
            "ticks": "outside",
            "zeroline": false,
            "zerolinecolor": "rgb(36,36,36)"
           }
          },
          "shapedefaults": {
           "fillcolor": "black",
           "line": {
            "width": 0
           },
           "opacity": 0.3
          },
          "ternary": {
           "aaxis": {
            "gridcolor": "rgb(232,232,232)",
            "linecolor": "rgb(36,36,36)",
            "showgrid": false,
            "showline": true,
            "ticks": "outside"
           },
           "baxis": {
            "gridcolor": "rgb(232,232,232)",
            "linecolor": "rgb(36,36,36)",
            "showgrid": false,
            "showline": true,
            "ticks": "outside"
           },
           "bgcolor": "white",
           "caxis": {
            "gridcolor": "rgb(232,232,232)",
            "linecolor": "rgb(36,36,36)",
            "showgrid": false,
            "showline": true,
            "ticks": "outside"
           }
          },
          "title": {
           "x": 0.05
          },
          "xaxis": {
           "automargin": true,
           "gridcolor": "rgb(232,232,232)",
           "linecolor": "rgb(36,36,36)",
           "showgrid": false,
           "showline": true,
           "ticks": "outside",
           "title": {
            "standoff": 15
           },
           "zeroline": false,
           "zerolinecolor": "rgb(36,36,36)"
          },
          "yaxis": {
           "automargin": true,
           "gridcolor": "rgb(232,232,232)",
           "linecolor": "rgb(36,36,36)",
           "showgrid": false,
           "showline": true,
           "ticks": "outside",
           "title": {
            "standoff": 15
           },
           "zeroline": false,
           "zerolinecolor": "rgb(36,36,36)"
          }
         }
        },
        "title": {
         "text": "Top 8 locations whose GDP patterns up to year 2021 are most similar to the current pattern of Bibb, AL"
        },
        "xaxis": {
         "title": {
          "text": "Year"
         }
        },
        "yaxis": {
         "title": {
          "text": "Chain-type quantity indexes for real GDP"
         }
        }
       }
      }
     },
     "metadata": {},
     "output_type": "display_data"
    }
   ],
   "source": [
    "# Suppose you want lag = 0\n",
    "# What locations are in the same place as us now?\"\n",
    "# Also, say you want 8 candidates.\n",
    "f1007 = FipsQuery(1007, lag = 0, top = 8)\n",
    "f1007.find_euclidean_kins()\n",
    "f1007.plot_kins()"
   ]
  },
  {
   "cell_type": "code",
   "execution_count": null,
   "metadata": {},
   "outputs": [
    {
     "data": {
      "text/html": [
       "<div>\n",
       "<style scoped>\n",
       "    .dataframe tbody tr th:only-of-type {\n",
       "        vertical-align: middle;\n",
       "    }\n",
       "\n",
       "    .dataframe tbody tr th {\n",
       "        vertical-align: top;\n",
       "    }\n",
       "\n",
       "    .dataframe thead th {\n",
       "        text-align: right;\n",
       "    }\n",
       "</style>\n",
       "<table border=\"1\" class=\"dataframe\">\n",
       "  <thead>\n",
       "    <tr style=\"text-align: right;\">\n",
       "      <th></th>\n",
       "      <th>GeoFIPS</th>\n",
       "      <th>GeoName</th>\n",
       "      <th>2001</th>\n",
       "      <th>2002</th>\n",
       "      <th>2003</th>\n",
       "      <th>2004</th>\n",
       "      <th>2005</th>\n",
       "      <th>2006</th>\n",
       "      <th>2007</th>\n",
       "      <th>2008</th>\n",
       "      <th>...</th>\n",
       "      <th>2013</th>\n",
       "      <th>2014</th>\n",
       "      <th>2015</th>\n",
       "      <th>2016</th>\n",
       "      <th>2017</th>\n",
       "      <th>2018</th>\n",
       "      <th>2019</th>\n",
       "      <th>2020</th>\n",
       "      <th>2021</th>\n",
       "      <th>distance to 1007</th>\n",
       "    </tr>\n",
       "  </thead>\n",
       "  <tbody>\n",
       "    <tr>\n",
       "      <th>894</th>\n",
       "      <td>20029</td>\n",
       "      <td>Cloud, KS</td>\n",
       "      <td>-0.059316</td>\n",
       "      <td>-0.132529</td>\n",
       "      <td>-0.051459</td>\n",
       "      <td>-0.030684</td>\n",
       "      <td>-0.056902</td>\n",
       "      <td>-0.027023</td>\n",
       "      <td>0.002188</td>\n",
       "      <td>0.070613</td>\n",
       "      <td>...</td>\n",
       "      <td>-0.080622</td>\n",
       "      <td>-0.065057</td>\n",
       "      <td>-0.138615</td>\n",
       "      <td>-0.138637</td>\n",
       "      <td>-0.200075</td>\n",
       "      <td>-0.164736</td>\n",
       "      <td>-0.100996</td>\n",
       "      <td>-0.037332</td>\n",
       "      <td>-0.064526</td>\n",
       "      <td>0.159140</td>\n",
       "    </tr>\n",
       "    <tr>\n",
       "      <th>613</th>\n",
       "      <td>17053</td>\n",
       "      <td>Ford, IL</td>\n",
       "      <td>-0.106839</td>\n",
       "      <td>-0.075933</td>\n",
       "      <td>-0.079730</td>\n",
       "      <td>-0.033871</td>\n",
       "      <td>-0.087358</td>\n",
       "      <td>-0.104500</td>\n",
       "      <td>-0.029465</td>\n",
       "      <td>0.026515</td>\n",
       "      <td>...</td>\n",
       "      <td>0.004072</td>\n",
       "      <td>-0.032732</td>\n",
       "      <td>-0.164663</td>\n",
       "      <td>-0.086840</td>\n",
       "      <td>-0.199359</td>\n",
       "      <td>-0.167660</td>\n",
       "      <td>-0.141072</td>\n",
       "      <td>-0.022478</td>\n",
       "      <td>-0.075714</td>\n",
       "      <td>0.180235</td>\n",
       "    </tr>\n",
       "    <tr>\n",
       "      <th>2515</th>\n",
       "      <td>48001</td>\n",
       "      <td>Anderson, TX</td>\n",
       "      <td>0.002178</td>\n",
       "      <td>-0.003158</td>\n",
       "      <td>-0.047587</td>\n",
       "      <td>-0.084958</td>\n",
       "      <td>-0.102350</td>\n",
       "      <td>-0.026491</td>\n",
       "      <td>0.010768</td>\n",
       "      <td>0.010167</td>\n",
       "      <td>...</td>\n",
       "      <td>-0.110920</td>\n",
       "      <td>-0.128344</td>\n",
       "      <td>-0.198133</td>\n",
       "      <td>-0.152208</td>\n",
       "      <td>-0.136677</td>\n",
       "      <td>-0.104987</td>\n",
       "      <td>-0.071207</td>\n",
       "      <td>-0.057417</td>\n",
       "      <td>-0.015335</td>\n",
       "      <td>0.186440</td>\n",
       "    </tr>\n",
       "    <tr>\n",
       "      <th>919</th>\n",
       "      <td>20079</td>\n",
       "      <td>Harvey, KS</td>\n",
       "      <td>-0.078521</td>\n",
       "      <td>-0.060924</td>\n",
       "      <td>-0.055260</td>\n",
       "      <td>-0.020984</td>\n",
       "      <td>-0.058141</td>\n",
       "      <td>-0.040019</td>\n",
       "      <td>-0.067885</td>\n",
       "      <td>-0.009077</td>\n",
       "      <td>...</td>\n",
       "      <td>-0.056148</td>\n",
       "      <td>-0.114546</td>\n",
       "      <td>-0.132910</td>\n",
       "      <td>-0.135098</td>\n",
       "      <td>-0.172021</td>\n",
       "      <td>-0.093091</td>\n",
       "      <td>-0.091850</td>\n",
       "      <td>-0.108204</td>\n",
       "      <td>-0.076687</td>\n",
       "      <td>0.187845</td>\n",
       "    </tr>\n",
       "    <tr>\n",
       "      <th>1879</th>\n",
       "      <td>36119</td>\n",
       "      <td>Westchester, NY</td>\n",
       "      <td>-0.047057</td>\n",
       "      <td>-0.070532</td>\n",
       "      <td>-0.073784</td>\n",
       "      <td>-0.037280</td>\n",
       "      <td>-0.065338</td>\n",
       "      <td>-0.064127</td>\n",
       "      <td>-0.047485</td>\n",
       "      <td>-0.041928</td>\n",
       "      <td>...</td>\n",
       "      <td>-0.091409</td>\n",
       "      <td>-0.085667</td>\n",
       "      <td>-0.113793</td>\n",
       "      <td>-0.096560</td>\n",
       "      <td>-0.097071</td>\n",
       "      <td>-0.083823</td>\n",
       "      <td>-0.058048</td>\n",
       "      <td>-0.057861</td>\n",
       "      <td>-0.046030</td>\n",
       "      <td>0.188640</td>\n",
       "    </tr>\n",
       "  </tbody>\n",
       "</table>\n",
       "<p>5 rows × 23 columns</p>\n",
       "</div>"
      ],
      "text/plain": [
       "      GeoFIPS          GeoName      2001      2002      2003      2004  \\\n",
       "894     20029        Cloud, KS -0.059316 -0.132529 -0.051459 -0.030684   \n",
       "613     17053         Ford, IL -0.106839 -0.075933 -0.079730 -0.033871   \n",
       "2515    48001     Anderson, TX  0.002178 -0.003158 -0.047587 -0.084958   \n",
       "919     20079       Harvey, KS -0.078521 -0.060924 -0.055260 -0.020984   \n",
       "1879    36119  Westchester, NY -0.047057 -0.070532 -0.073784 -0.037280   \n",
       "\n",
       "          2005      2006      2007      2008  ...      2013      2014  \\\n",
       "894  -0.056902 -0.027023  0.002188  0.070613  ... -0.080622 -0.065057   \n",
       "613  -0.087358 -0.104500 -0.029465  0.026515  ...  0.004072 -0.032732   \n",
       "2515 -0.102350 -0.026491  0.010768  0.010167  ... -0.110920 -0.128344   \n",
       "919  -0.058141 -0.040019 -0.067885 -0.009077  ... -0.056148 -0.114546   \n",
       "1879 -0.065338 -0.064127 -0.047485 -0.041928  ... -0.091409 -0.085667   \n",
       "\n",
       "          2015      2016      2017      2018      2019      2020      2021  \\\n",
       "894  -0.138615 -0.138637 -0.200075 -0.164736 -0.100996 -0.037332 -0.064526   \n",
       "613  -0.164663 -0.086840 -0.199359 -0.167660 -0.141072 -0.022478 -0.075714   \n",
       "2515 -0.198133 -0.152208 -0.136677 -0.104987 -0.071207 -0.057417 -0.015335   \n",
       "919  -0.132910 -0.135098 -0.172021 -0.093091 -0.091850 -0.108204 -0.076687   \n",
       "1879 -0.113793 -0.096560 -0.097071 -0.083823 -0.058048 -0.057861 -0.046030   \n",
       "\n",
       "      distance to 1007  \n",
       "894           0.159140  \n",
       "613           0.180235  \n",
       "2515          0.186440  \n",
       "919           0.187845  \n",
       "1879          0.188640  \n",
       "\n",
       "[5 rows x 23 columns]"
      ]
     },
     "metadata": {},
     "output_type": "display_data"
    }
   ],
   "source": [
    "# Suppose you want to access all the data, ranked by similarity\n",
    "\n",
    "#TODO_Nikodem, this needs to spit out the original values, not the scaled ones\n",
    "\n",
    "display(f1007.euclidean_kins.head())"
   ]
  },
  {
   "cell_type": "code",
   "execution_count": null,
   "metadata": {},
   "outputs": [],
   "source": [
    "f12011 = FipsQuery(12011, lag = 0, top = 8)"
   ]
  }
 ],
 "metadata": {
  "kernelspec": {
   "display_name": "chirho",
   "language": "python",
   "name": "python3"
  },
  "language_info": {
   "codemirror_mode": {
    "name": "ipython",
    "version": 3
   },
   "file_extension": ".py",
   "mimetype": "text/x-python",
   "name": "python",
   "nbconvert_exporter": "python",
   "pygments_lexer": "ipython3",
   "version": "3.10.12"
  },
  "orig_nbformat": 4
 },
 "nbformat": 4,
 "nbformat_minor": 2
}
