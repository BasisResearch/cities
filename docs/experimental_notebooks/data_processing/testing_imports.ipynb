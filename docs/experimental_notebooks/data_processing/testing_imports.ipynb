{
 "cells": [
  {
   "cell_type": "code",
   "execution_count": 1,
   "metadata": {},
   "outputs": [
    {
     "name": "stdout",
     "output_type": "stream",
     "text": [
      "/home/nikodem/Documents/pythonProjects/cities\n"
     ]
    }
   ],
   "source": [
    "from cities.utils.cleaning_utils import find_repo_root\n",
    "\n",
    "root = find_repo_root()\n",
    "\n",
    "print(root)"
   ]
  },
  {
   "cell_type": "code",
   "execution_count": 7,
   "metadata": {},
   "outputs": [
    {
     "name": "stdout",
     "output_type": "stream",
     "text": [
      "['spending_HHS_long.csv', 'population_std_wide.csv', 'gdp_std_wide.csv', 'gdp_wide.csv', 'spending_commerce_wide.csv', 'transport_std_wide.csv', 'spending_HHS_wide.csv', 'spending_transportation_std_wide.csv', 'spending_HHS_std_wide.csv', 'transport_std_long.csv', 'spending_commerce_long.csv', 'transport_wide.csv', 'gdp_std_long.csv', 'spending_commerce_std_long.csv', 'spending_commerce_std_wide.csv', 'spending_transportation_long.csv', 'transport_long.csv', 'population_std_long.csv', 'spending_transportation_std_long.csv', 'population_wide.csv', 'spending_HHS_std_long.csv', 'population_long.csv', 'spending_transportation_wide.csv', 'gdp_long.csv']\n"
     ]
    }
   ],
   "source": [
    "import os\n",
    "import re\n",
    "\n",
    "# Specify the folder path\n",
    "folder_path = \"../../data/processed\"\n",
    "file_names = [f for f in os.listdir(folder_path) if f != \".gitkeep\"]\n",
    "\n",
    "\n",
    "processed_file_names = []\n",
    "\n",
    "for file_name in file_names:\n",
    "    # Use regular expressions to find the patterns and split accordingly\n",
    "    matches = re.split(r'_wide|_long|_std', file_name)\n",
    "    if matches:\n",
    "        processed_file_names.append(matches[0])\n",
    "        \n",
    "feature_names = list(set(processed_file_names))\n",
    "print(feature_names)\n",
    "\n",
    "print(file_names)"
   ]
  },
  {
   "cell_type": "code",
   "execution_count": 8,
   "metadata": {},
   "outputs": [
    {
     "name": "stdout",
     "output_type": "stream",
     "text": [
      "['spending_transportation', 'spending_commerce', 'transport', 'population', 'spending_HHS', 'gdp']\n"
     ]
    }
   ],
   "source": []
  }
 ],
 "metadata": {
  "kernelspec": {
   "display_name": "Python 3",
   "language": "python",
   "name": "python3"
  },
  "language_info": {
   "codemirror_mode": {
    "name": "ipython",
    "version": 3
   },
   "file_extension": ".py",
   "mimetype": "text/x-python",
   "name": "python",
   "nbconvert_exporter": "python",
   "pygments_lexer": "ipython3",
   "version": "3.12.0"
  }
 },
 "nbformat": 4,
 "nbformat_minor": 2
}
