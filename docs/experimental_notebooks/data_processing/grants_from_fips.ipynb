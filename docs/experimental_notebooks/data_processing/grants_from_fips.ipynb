{
 "cells": [
  {
   "cell_type": "code",
   "execution_count": 28,
   "metadata": {},
   "outputs": [],
   "source": [
    "import requests\n",
    "import pandas as pd\n",
    "import plotly.express as px"
   ]
  },
  {
   "cell_type": "code",
   "execution_count": 132,
   "metadata": {},
   "outputs": [],
   "source": [
    "# Functions to query USAspending.gov API for recent grants by county FIPS code\n",
    "# TODO: make this a separate function (in utils?) and import it\n",
    "# to get more queries, go to USA spending website, filter what you want, then inspect page, look at network tab, and copy the request payload and header\n",
    "\n",
    "url_FIPS = \"https://www2.census.gov/geo/docs/reference/codes/files/national_county.txt\"\n",
    "df_county_fips = pd.read_csv(url_FIPS, header=None, dtype=str)\n",
    "df_county_fips.columns = [\n",
    "    \"State\",\n",
    "    \"State FIPS\",\n",
    "    \"County FIPS\",\n",
    "    \"County Name\",\n",
    "    \"Class Code\",\n",
    "]\n",
    "df_county_fips\n",
    "\n",
    "\n",
    "def fips_to_geoname(fips):\n",
    "    fips = str(fips)\n",
    "    county_fips = fips[-3:]\n",
    "    state_fips = fips[:-3]\n",
    "    state_code = df_county_fips[df_county_fips[\"State FIPS\"] == state_fips][\n",
    "        \"State\"\n",
    "    ].values[0]\n",
    "    # find county that matches state and county fips\n",
    "    county_name = df_county_fips[\n",
    "        (df_county_fips[\"County FIPS\"] == county_fips)\n",
    "        & (df_county_fips[\"State FIPS\"] == state_fips)\n",
    "    ][\"County Name\"].values[0]\n",
    "    return county_name + \", \" + state_code\n",
    "\n",
    "\n",
    "def fips_to_county_state(fips):\n",
    "    fips = str(fips)\n",
    "    county_fips = fips[-3:]\n",
    "    state_fips = fips[:-3]\n",
    "    state_code = df_county_fips[df_county_fips[\"State FIPS\"] == state_fips][\n",
    "        \"State\"\n",
    "    ].values[0]\n",
    "    return state_code, county_fips\n",
    "\n",
    "\n",
    "def df_from_api(base_url, payload):\n",
    "    headers = {\"Content-Type\": \"application/json\"}\n",
    "\n",
    "    # run api call\n",
    "    response = requests.post(base_url, headers=headers, json=payload)\n",
    "    response_json = response.json()\n",
    "\n",
    "    # convert to dataframe, keeping only relevant columns\n",
    "    df = pd.DataFrame(response_json[\"results\"])\n",
    "    # df = df[[\"Award Amount\", \"Awarding Agency\", \"Recipient Name\"]]\n",
    "    return df\n",
    "\n",
    "\n",
    "def grant_df_from_fips(fips):\n",
    "    state_code, county_fips = fips_to_county_state(fips)\n",
    "    base_url = \"https://api.usaspending.gov/api/v2/search/spending_by_award/\"\n",
    "\n",
    "    # options for api call\n",
    "    payload = {\n",
    "        \"filters\": {\n",
    "            \"time_period\": [\n",
    "                {\"start_date\": \"2018-10-01\", \"end_date\": \"2019-09-30\"},\n",
    "                {\"start_date\": \"2022-10-01\", \"end_date\": \"2023-09-30\"},\n",
    "            ],\n",
    "            \"award_type_codes\": [\"02\", \"03\", \"04\", \"05\"],\n",
    "            \"place_of_performance_locations\": [\n",
    "                {\"country\": \"USA\", \"state\": state_code, \"county\": county_fips}\n",
    "            ],\n",
    "        },\n",
    "        \"fields\": [\n",
    "            \"Award ID\",\n",
    "            \"Recipient Name\",\n",
    "            \"Start Date\",\n",
    "            \"End Date\",\n",
    "            \"Award Amount\",\n",
    "            \"Total Outlays\",\n",
    "            \"Description\",\n",
    "            \"def_codes\",\n",
    "            \"COVID-19 Obligations\",\n",
    "            \"COVID-19 Outlays\",\n",
    "            \"Infrastructure Obligations\",\n",
    "            \"Infrastructure Outlays\",\n",
    "            \"Awarding Agency\",\n",
    "            \"Awarding Sub Agency\",\n",
    "            \"Award Type\",\n",
    "            \"recipient_id\",\n",
    "            \"prime_award_recipient_id\",\n",
    "        ],\n",
    "        \"page\": 1,\n",
    "        \"limit\": 100,\n",
    "        \"sort\": \"Award Amount\",\n",
    "        \"order\": \"desc\",\n",
    "        \"subawards\": False,\n",
    "    }\n",
    "\n",
    "    df = df_from_api(base_url, payload)\n",
    "\n",
    "    return df"
   ]
  },
  {
   "cell_type": "code",
   "execution_count": 147,
   "metadata": {},
   "outputs": [
    {
     "data": {
      "application/vnd.plotly.v1+json": {
       "config": {
        "plotlyServerURL": "https://plot.ly"
       },
       "data": [
        {
         "domain": {
          "x": [
           0,
           1
          ],
          "y": [
           0,
           1
          ]
         },
         "hovertemplate": "Awarding Agency=%{label}<br>Award Amount=%{value}<extra></extra>",
         "labels": [
          "Department of Health and Human Services",
          "Department of Transportation",
          "Department of Health and Human Services",
          "Department of Transportation",
          "Department of Transportation",
          "Department of Agriculture",
          "National Science Foundation",
          "National Science Foundation",
          "Department of Transportation",
          "Department of Health and Human Services",
          "Department of Transportation",
          "Department of Transportation",
          "Department of Transportation",
          "Department of Agriculture",
          "Department of Transportation",
          "Department of Transportation",
          "Department of Transportation",
          "Department of Transportation",
          "Department of Education",
          "Department of Education",
          "Department of Transportation",
          "Department of Transportation",
          "Department of Energy",
          "Department of Housing and Urban Development",
          "Department of Agriculture",
          "Department of Health and Human Services",
          "Department of Justice",
          "Department of Health and Human Services",
          "Department of Transportation",
          "Department of Health and Human Services",
          "National Science Foundation",
          "Department of Agriculture",
          "National Science Foundation",
          "Department of Housing and Urban Development",
          "Department of Health and Human Services",
          "Department of Transportation",
          "Department of Housing and Urban Development",
          "Department of Agriculture",
          "Department of Health and Human Services",
          "National Science Foundation",
          "Department of Transportation",
          "Department of Health and Human Services",
          "Department of Health and Human Services",
          "Department of Health and Human Services",
          "Department of Transportation",
          "Department of Transportation",
          "Department of Transportation",
          "Department of Transportation",
          "National Science Foundation",
          "Department of Transportation",
          "Department of Housing and Urban Development",
          "Department of Transportation",
          "Department of Transportation",
          "Department of Homeland Security",
          "Department of Housing and Urban Development",
          "Department of Transportation",
          "Department of Transportation",
          "Department of Health and Human Services",
          "Department of Health and Human Services",
          "Department of Justice",
          "Department of Transportation",
          "Department of Transportation",
          "Department of Health and Human Services",
          "Department of Transportation",
          "Department of Transportation",
          "Department of Transportation",
          "Department of Transportation",
          "Department of Agriculture",
          "Department of Housing and Urban Development",
          "Department of Agriculture",
          "Department of Transportation",
          "Department of Health and Human Services",
          "Department of Health and Human Services",
          "Department of Transportation",
          "Department of Transportation",
          "Department of Housing and Urban Development",
          "Department of Transportation",
          "Environmental Protection Agency",
          "Department of Justice",
          "Department of Commerce",
          "Department of Transportation",
          "Department of Housing and Urban Development",
          "Department of Housing and Urban Development",
          "Department of Transportation",
          "Department of Commerce",
          "Department of Justice",
          "Department of Agriculture",
          "Department of Agriculture",
          "Department of Housing and Urban Development",
          "Department of Homeland Security",
          "Department of Housing and Urban Development",
          "Department of Housing and Urban Development",
          "Department of Housing and Urban Development",
          "Department of Housing and Urban Development",
          "Department of Housing and Urban Development",
          "Department of Transportation",
          "Department of Housing and Urban Development",
          "Department of Health and Human Services",
          "Department of Health and Human Services",
          "Department of Housing and Urban Development"
         ],
         "legendgroup": "",
         "name": "",
         "showlegend": true,
         "textinfo": "label+value",
         "type": "pie",
         "values": [
          31738442,
          18389742.48,
          12919268,
          12362953.02,
          11683762.32,
          6596000,
          5940356,
          5676437,
          4480000,
          3999273,
          3558042.47,
          2986983.12,
          2622466.7,
          2604501,
          2585113.02,
          2362118.52,
          1964080,
          1950680.6,
          1733368.06,
          1640349,
          1605421.98,
          1496739.24,
          1165000,
          1047542,
          1000000,
          1000000,
          990035.97,
          974994.8,
          956491.22,
          938985.01,
          879251,
          860000,
          776713,
          741202,
          705527,
          667366.02,
          655303.64,
          650000,
          633740,
          632455,
          586433.58,
          559828.45,
          547815.96,
          544737.03,
          540304.61,
          523304.7,
          513939.44,
          500000,
          499739,
          490741.02,
          483277.69,
          439034.33,
          434909.18,
          434647.4,
          416785,
          405282.88,
          389124.65,
          378279,
          375000,
          375000,
          351029.96,
          326858.01,
          323032.2,
          303951.04,
          281212.49,
          266430.21,
          250000,
          250000,
          236393,
          233744,
          232749.12,
          222589,
          220113,
          212328.53,
          210000,
          206376,
          200248.08,
          200000,
          192930.55,
          187066,
          184320,
          179124,
          177843,
          176255.4,
          175000,
          165000,
          150000,
          146937,
          145433,
          142857,
          139091,
          139091,
          138836,
          137368,
          133758,
          128937.22,
          127585.2,
          125000,
          125000,
          122089.81
         ]
        }
       ],
       "layout": {
        "legend": {
         "tracegroupgap": 0
        },
        "template": {
         "data": {
          "bar": [
           {
            "error_x": {
             "color": "#2a3f5f"
            },
            "error_y": {
             "color": "#2a3f5f"
            },
            "marker": {
             "line": {
              "color": "#E5ECF6",
              "width": 0.5
             },
             "pattern": {
              "fillmode": "overlay",
              "size": 10,
              "solidity": 0.2
             }
            },
            "type": "bar"
           }
          ],
          "barpolar": [
           {
            "marker": {
             "line": {
              "color": "#E5ECF6",
              "width": 0.5
             },
             "pattern": {
              "fillmode": "overlay",
              "size": 10,
              "solidity": 0.2
             }
            },
            "type": "barpolar"
           }
          ],
          "carpet": [
           {
            "aaxis": {
             "endlinecolor": "#2a3f5f",
             "gridcolor": "white",
             "linecolor": "white",
             "minorgridcolor": "white",
             "startlinecolor": "#2a3f5f"
            },
            "baxis": {
             "endlinecolor": "#2a3f5f",
             "gridcolor": "white",
             "linecolor": "white",
             "minorgridcolor": "white",
             "startlinecolor": "#2a3f5f"
            },
            "type": "carpet"
           }
          ],
          "choropleth": [
           {
            "colorbar": {
             "outlinewidth": 0,
             "ticks": ""
            },
            "type": "choropleth"
           }
          ],
          "contour": [
           {
            "colorbar": {
             "outlinewidth": 0,
             "ticks": ""
            },
            "colorscale": [
             [
              0,
              "#0d0887"
             ],
             [
              0.1111111111111111,
              "#46039f"
             ],
             [
              0.2222222222222222,
              "#7201a8"
             ],
             [
              0.3333333333333333,
              "#9c179e"
             ],
             [
              0.4444444444444444,
              "#bd3786"
             ],
             [
              0.5555555555555556,
              "#d8576b"
             ],
             [
              0.6666666666666666,
              "#ed7953"
             ],
             [
              0.7777777777777778,
              "#fb9f3a"
             ],
             [
              0.8888888888888888,
              "#fdca26"
             ],
             [
              1,
              "#f0f921"
             ]
            ],
            "type": "contour"
           }
          ],
          "contourcarpet": [
           {
            "colorbar": {
             "outlinewidth": 0,
             "ticks": ""
            },
            "type": "contourcarpet"
           }
          ],
          "heatmap": [
           {
            "colorbar": {
             "outlinewidth": 0,
             "ticks": ""
            },
            "colorscale": [
             [
              0,
              "#0d0887"
             ],
             [
              0.1111111111111111,
              "#46039f"
             ],
             [
              0.2222222222222222,
              "#7201a8"
             ],
             [
              0.3333333333333333,
              "#9c179e"
             ],
             [
              0.4444444444444444,
              "#bd3786"
             ],
             [
              0.5555555555555556,
              "#d8576b"
             ],
             [
              0.6666666666666666,
              "#ed7953"
             ],
             [
              0.7777777777777778,
              "#fb9f3a"
             ],
             [
              0.8888888888888888,
              "#fdca26"
             ],
             [
              1,
              "#f0f921"
             ]
            ],
            "type": "heatmap"
           }
          ],
          "heatmapgl": [
           {
            "colorbar": {
             "outlinewidth": 0,
             "ticks": ""
            },
            "colorscale": [
             [
              0,
              "#0d0887"
             ],
             [
              0.1111111111111111,
              "#46039f"
             ],
             [
              0.2222222222222222,
              "#7201a8"
             ],
             [
              0.3333333333333333,
              "#9c179e"
             ],
             [
              0.4444444444444444,
              "#bd3786"
             ],
             [
              0.5555555555555556,
              "#d8576b"
             ],
             [
              0.6666666666666666,
              "#ed7953"
             ],
             [
              0.7777777777777778,
              "#fb9f3a"
             ],
             [
              0.8888888888888888,
              "#fdca26"
             ],
             [
              1,
              "#f0f921"
             ]
            ],
            "type": "heatmapgl"
           }
          ],
          "histogram": [
           {
            "marker": {
             "pattern": {
              "fillmode": "overlay",
              "size": 10,
              "solidity": 0.2
             }
            },
            "type": "histogram"
           }
          ],
          "histogram2d": [
           {
            "colorbar": {
             "outlinewidth": 0,
             "ticks": ""
            },
            "colorscale": [
             [
              0,
              "#0d0887"
             ],
             [
              0.1111111111111111,
              "#46039f"
             ],
             [
              0.2222222222222222,
              "#7201a8"
             ],
             [
              0.3333333333333333,
              "#9c179e"
             ],
             [
              0.4444444444444444,
              "#bd3786"
             ],
             [
              0.5555555555555556,
              "#d8576b"
             ],
             [
              0.6666666666666666,
              "#ed7953"
             ],
             [
              0.7777777777777778,
              "#fb9f3a"
             ],
             [
              0.8888888888888888,
              "#fdca26"
             ],
             [
              1,
              "#f0f921"
             ]
            ],
            "type": "histogram2d"
           }
          ],
          "histogram2dcontour": [
           {
            "colorbar": {
             "outlinewidth": 0,
             "ticks": ""
            },
            "colorscale": [
             [
              0,
              "#0d0887"
             ],
             [
              0.1111111111111111,
              "#46039f"
             ],
             [
              0.2222222222222222,
              "#7201a8"
             ],
             [
              0.3333333333333333,
              "#9c179e"
             ],
             [
              0.4444444444444444,
              "#bd3786"
             ],
             [
              0.5555555555555556,
              "#d8576b"
             ],
             [
              0.6666666666666666,
              "#ed7953"
             ],
             [
              0.7777777777777778,
              "#fb9f3a"
             ],
             [
              0.8888888888888888,
              "#fdca26"
             ],
             [
              1,
              "#f0f921"
             ]
            ],
            "type": "histogram2dcontour"
           }
          ],
          "mesh3d": [
           {
            "colorbar": {
             "outlinewidth": 0,
             "ticks": ""
            },
            "type": "mesh3d"
           }
          ],
          "parcoords": [
           {
            "line": {
             "colorbar": {
              "outlinewidth": 0,
              "ticks": ""
             }
            },
            "type": "parcoords"
           }
          ],
          "pie": [
           {
            "automargin": true,
            "type": "pie"
           }
          ],
          "scatter": [
           {
            "fillpattern": {
             "fillmode": "overlay",
             "size": 10,
             "solidity": 0.2
            },
            "type": "scatter"
           }
          ],
          "scatter3d": [
           {
            "line": {
             "colorbar": {
              "outlinewidth": 0,
              "ticks": ""
             }
            },
            "marker": {
             "colorbar": {
              "outlinewidth": 0,
              "ticks": ""
             }
            },
            "type": "scatter3d"
           }
          ],
          "scattercarpet": [
           {
            "marker": {
             "colorbar": {
              "outlinewidth": 0,
              "ticks": ""
             }
            },
            "type": "scattercarpet"
           }
          ],
          "scattergeo": [
           {
            "marker": {
             "colorbar": {
              "outlinewidth": 0,
              "ticks": ""
             }
            },
            "type": "scattergeo"
           }
          ],
          "scattergl": [
           {
            "marker": {
             "colorbar": {
              "outlinewidth": 0,
              "ticks": ""
             }
            },
            "type": "scattergl"
           }
          ],
          "scattermapbox": [
           {
            "marker": {
             "colorbar": {
              "outlinewidth": 0,
              "ticks": ""
             }
            },
            "type": "scattermapbox"
           }
          ],
          "scatterpolar": [
           {
            "marker": {
             "colorbar": {
              "outlinewidth": 0,
              "ticks": ""
             }
            },
            "type": "scatterpolar"
           }
          ],
          "scatterpolargl": [
           {
            "marker": {
             "colorbar": {
              "outlinewidth": 0,
              "ticks": ""
             }
            },
            "type": "scatterpolargl"
           }
          ],
          "scatterternary": [
           {
            "marker": {
             "colorbar": {
              "outlinewidth": 0,
              "ticks": ""
             }
            },
            "type": "scatterternary"
           }
          ],
          "surface": [
           {
            "colorbar": {
             "outlinewidth": 0,
             "ticks": ""
            },
            "colorscale": [
             [
              0,
              "#0d0887"
             ],
             [
              0.1111111111111111,
              "#46039f"
             ],
             [
              0.2222222222222222,
              "#7201a8"
             ],
             [
              0.3333333333333333,
              "#9c179e"
             ],
             [
              0.4444444444444444,
              "#bd3786"
             ],
             [
              0.5555555555555556,
              "#d8576b"
             ],
             [
              0.6666666666666666,
              "#ed7953"
             ],
             [
              0.7777777777777778,
              "#fb9f3a"
             ],
             [
              0.8888888888888888,
              "#fdca26"
             ],
             [
              1,
              "#f0f921"
             ]
            ],
            "type": "surface"
           }
          ],
          "table": [
           {
            "cells": {
             "fill": {
              "color": "#EBF0F8"
             },
             "line": {
              "color": "white"
             }
            },
            "header": {
             "fill": {
              "color": "#C8D4E3"
             },
             "line": {
              "color": "white"
             }
            },
            "type": "table"
           }
          ]
         },
         "layout": {
          "annotationdefaults": {
           "arrowcolor": "#2a3f5f",
           "arrowhead": 0,
           "arrowwidth": 1
          },
          "autotypenumbers": "strict",
          "coloraxis": {
           "colorbar": {
            "outlinewidth": 0,
            "ticks": ""
           }
          },
          "colorscale": {
           "diverging": [
            [
             0,
             "#8e0152"
            ],
            [
             0.1,
             "#c51b7d"
            ],
            [
             0.2,
             "#de77ae"
            ],
            [
             0.3,
             "#f1b6da"
            ],
            [
             0.4,
             "#fde0ef"
            ],
            [
             0.5,
             "#f7f7f7"
            ],
            [
             0.6,
             "#e6f5d0"
            ],
            [
             0.7,
             "#b8e186"
            ],
            [
             0.8,
             "#7fbc41"
            ],
            [
             0.9,
             "#4d9221"
            ],
            [
             1,
             "#276419"
            ]
           ],
           "sequential": [
            [
             0,
             "#0d0887"
            ],
            [
             0.1111111111111111,
             "#46039f"
            ],
            [
             0.2222222222222222,
             "#7201a8"
            ],
            [
             0.3333333333333333,
             "#9c179e"
            ],
            [
             0.4444444444444444,
             "#bd3786"
            ],
            [
             0.5555555555555556,
             "#d8576b"
            ],
            [
             0.6666666666666666,
             "#ed7953"
            ],
            [
             0.7777777777777778,
             "#fb9f3a"
            ],
            [
             0.8888888888888888,
             "#fdca26"
            ],
            [
             1,
             "#f0f921"
            ]
           ],
           "sequentialminus": [
            [
             0,
             "#0d0887"
            ],
            [
             0.1111111111111111,
             "#46039f"
            ],
            [
             0.2222222222222222,
             "#7201a8"
            ],
            [
             0.3333333333333333,
             "#9c179e"
            ],
            [
             0.4444444444444444,
             "#bd3786"
            ],
            [
             0.5555555555555556,
             "#d8576b"
            ],
            [
             0.6666666666666666,
             "#ed7953"
            ],
            [
             0.7777777777777778,
             "#fb9f3a"
            ],
            [
             0.8888888888888888,
             "#fdca26"
            ],
            [
             1,
             "#f0f921"
            ]
           ]
          },
          "colorway": [
           "#636efa",
           "#EF553B",
           "#00cc96",
           "#ab63fa",
           "#FFA15A",
           "#19d3f3",
           "#FF6692",
           "#B6E880",
           "#FF97FF",
           "#FECB52"
          ],
          "font": {
           "color": "#2a3f5f"
          },
          "geo": {
           "bgcolor": "white",
           "lakecolor": "white",
           "landcolor": "#E5ECF6",
           "showlakes": true,
           "showland": true,
           "subunitcolor": "white"
          },
          "hoverlabel": {
           "align": "left"
          },
          "hovermode": "closest",
          "mapbox": {
           "style": "light"
          },
          "paper_bgcolor": "white",
          "plot_bgcolor": "#E5ECF6",
          "polar": {
           "angularaxis": {
            "gridcolor": "white",
            "linecolor": "white",
            "ticks": ""
           },
           "bgcolor": "#E5ECF6",
           "radialaxis": {
            "gridcolor": "white",
            "linecolor": "white",
            "ticks": ""
           }
          },
          "scene": {
           "xaxis": {
            "backgroundcolor": "#E5ECF6",
            "gridcolor": "white",
            "gridwidth": 2,
            "linecolor": "white",
            "showbackground": true,
            "ticks": "",
            "zerolinecolor": "white"
           },
           "yaxis": {
            "backgroundcolor": "#E5ECF6",
            "gridcolor": "white",
            "gridwidth": 2,
            "linecolor": "white",
            "showbackground": true,
            "ticks": "",
            "zerolinecolor": "white"
           },
           "zaxis": {
            "backgroundcolor": "#E5ECF6",
            "gridcolor": "white",
            "gridwidth": 2,
            "linecolor": "white",
            "showbackground": true,
            "ticks": "",
            "zerolinecolor": "white"
           }
          },
          "shapedefaults": {
           "line": {
            "color": "#2a3f5f"
           }
          },
          "ternary": {
           "aaxis": {
            "gridcolor": "white",
            "linecolor": "white",
            "ticks": ""
           },
           "baxis": {
            "gridcolor": "white",
            "linecolor": "white",
            "ticks": ""
           },
           "bgcolor": "#E5ECF6",
           "caxis": {
            "gridcolor": "white",
            "linecolor": "white",
            "ticks": ""
           }
          },
          "title": {
           "x": 0.05
          },
          "xaxis": {
           "automargin": true,
           "gridcolor": "white",
           "linecolor": "white",
           "ticks": "",
           "title": {
            "standoff": 15
           },
           "zerolinecolor": "white",
           "zerolinewidth": 2
          },
          "yaxis": {
           "automargin": true,
           "gridcolor": "white",
           "linecolor": "white",
           "ticks": "",
           "title": {
            "standoff": 15
           },
           "zerolinecolor": "white",
           "zerolinewidth": 2
          }
         }
        },
        "title": {
         "text": "Recent grants to Franklin County, MA by Agency"
        }
       }
      }
     },
     "metadata": {},
     "output_type": "display_data"
    }
   ],
   "source": [
    "# Running the grants query for a specific FIPS code, and plotting the results\n",
    "GeoFIPS = \"25011\"  # \"36061\"#\"08013\"#\"39035\"#\"02188\"#\"09009\"#\"01003\" #\"01089\"#\"25017\"\n",
    "df = grant_df_from_fips(GeoFIPS)\n",
    "\n",
    "# make a pie chart of the agency by amount\n",
    "df[\"Award Amount\"] = pd.to_numeric(df[\"Award Amount\"])\n",
    "title = \"Recent grants to \" + fips_to_geoname(GeoFIPS) + \" by Agency\"\n",
    "fig = px.pie(df, values=\"Award Amount\", names=\"Awarding Agency\", title=title)\n",
    "fig.update_traces(textinfo=\"label+value\")\n",
    "fig.show()\n",
    "# df"
   ]
  },
  {
   "cell_type": "code",
   "execution_count": null,
   "metadata": {},
   "outputs": [],
   "source": []
  }
 ],
 "metadata": {
  "kernelspec": {
   "display_name": "elm_cities",
   "language": "python",
   "name": "python3"
  },
  "language_info": {
   "codemirror_mode": {
    "name": "ipython",
    "version": 3
   },
   "file_extension": ".py",
   "mimetype": "text/x-python",
   "name": "python",
   "nbconvert_exporter": "python",
   "pygments_lexer": "ipython3",
   "version": "3.11.5"
  }
 },
 "nbformat": 4,
 "nbformat_minor": 2
}
