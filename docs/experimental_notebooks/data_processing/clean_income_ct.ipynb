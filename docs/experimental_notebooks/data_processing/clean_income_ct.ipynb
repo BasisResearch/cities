{
 "cells": [
  {
   "cell_type": "code",
   "execution_count": 2,
   "metadata": {},
   "outputs": [],
   "source": [
    "import numpy as np\n",
    "from cities.utils.data_grabber import find_repo_root, MSADataGrabberCSV, DataGrabberCSV\n",
    "import pandas as pd\n",
    "import numpy as np\n",
    "import requests\n",
    "from us import states\n",
    "\n",
    "root = find_repo_root()\n",
    "\n"
   ]
  },
  {
   "cell_type": "code",
   "execution_count": 6,
   "metadata": {},
   "outputs": [
    {
     "ename": "SyntaxError",
     "evalue": "invalid syntax (2301551033.py, line 1)",
     "output_type": "error",
     "traceback": [
      "\u001b[0;36m  Cell \u001b[0;32mIn[6], line 1\u001b[0;36m\u001b[0m\n\u001b[0;31m    householdS1901_C01_013E mean income\u001b[0m\n\u001b[0m                            ^\u001b[0m\n\u001b[0;31mSyntaxError\u001b[0m\u001b[0;31m:\u001b[0m invalid syntax\n"
     ]
    }
   ],
   "source": [
    "\n",
    "\n",
    "# householdS1901_C01_013E mean income\n",
    "# S1901_C01_012E median income "
   ]
  },
  {
   "cell_type": "code",
   "execution_count": 7,
   "metadata": {},
   "outputs": [],
   "source": [
    "# # code for retrieving available variables\n",
    "\n",
    "variables_url = 'https://api.census.gov/data/2022/acs/acs5/subject/variables.json'\n",
    "\n",
    "\n",
    "response = requests.get(variables_url)\n",
    "variables_info = response.json()\n",
    "\n",
    "variables_df = pd.DataFrame.from_dict(variables_info['variables'], orient='index').reset_index()\n",
    "\n",
    "variables_df.to_excel(f'{root}/data/variables.xlsx', index=False)"
   ]
  },
  {
   "cell_type": "code",
   "execution_count": null,
   "metadata": {},
   "outputs": [],
   "source": []
  }
 ],
 "metadata": {
  "kernelspec": {
   "display_name": "base",
   "language": "python",
   "name": "python3"
  },
  "language_info": {
   "codemirror_mode": {
    "name": "ipython",
    "version": 3
   },
   "file_extension": ".py",
   "mimetype": "text/x-python",
   "name": "python",
   "nbconvert_exporter": "python",
   "pygments_lexer": "ipython3",
   "version": "3.11.4"
  }
 },
 "nbformat": 4,
 "nbformat_minor": 2
}
