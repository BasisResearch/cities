{
 "cells": [
  {
   "cell_type": "code",
   "execution_count": 1,
   "metadata": {},
   "outputs": [],
   "source": [
    "import numpy as np\n",
    "from cities.utils.data_grabber import find_repo_root, MSADataGrabberCSV, DataGrabberCSV\n",
    "import pandas as pd\n",
    "import numpy as np\n",
    "import requests\n",
    "from us import states\n",
    "\n",
    "root = find_repo_root()\n",
    "\n",
    "data = DataGrabberCSV()\n",
    "data.get_features_wide([\"gdp\"])\n",
    "gdp = data.wide[\"gdp\"]\n",
    "\n",
    "dataMA = MSADataGrabberCSV()\n",
    "dataMA.get_features_wide([\"gdp_ma\"])\n",
    "gdp_ma = dataMA.wide[\"gdp_ma\"]"
   ]
  },
  {
   "cell_type": "code",
   "execution_count": null,
   "metadata": {},
   "outputs": [],
   "source": [
    "\n",
    "\n",
    "variables =  \"NAME,H2_001N,H2_002N,H2_003N\"\n",
    "county_fips = \"*\" # all counties\n",
    "tract = \"*\" # all tracts\n",
    "api_key = '077d857d6c12d5b9b3aeafa07d2c1916ba12a86c' # private api key required to access the data https://api.census.gov/data/key_signup.html\n",
    "year = 2020\n",
    "\n",
    "\n",
    "dfs = []\n",
    "\n",
    "\n",
    "for x in range(0, len(states.STATES)): # in this call it's not possible to use the '*' wildcard to access all states, so we need to iterate over all states\n",
    "    fips = states.STATES[x].fips\n",
    "\n",
    "    url = f'https://api.census.gov/data/{year}/acs/acs5/subject?get={variables}&for=tract:{tract}&in=state:{fips}&in=county:{county_fips}&key={api_key}'\n",
    "\n",
    "    response = requests.get(url)\n",
    "\n",
    "    assert response.status_code == 200, 'The data retrieval went wrong'  # 200 means success\n",
    "\n",
    "    print(f'{fips} fips done')\n",
    "\n",
    "    data = response.json()\n",
    "\n",
    "    df = pd.DataFrame(data[1:], columns=data[0])\n",
    "    df['Year'] = year  # Add the year column\n",
    "\n",
    "    dfs.append(df)\n",
    "\n",
    "combined_df = pd.concat(dfs, ignore_index=True)"
   ]
  },
  {
   "cell_type": "code",
   "execution_count": null,
   "metadata": {},
   "outputs": [],
   "source": []
  },
  {
   "cell_type": "code",
   "execution_count": null,
   "metadata": {},
   "outputs": [],
   "source": []
  }
 ],
 "metadata": {
  "kernelspec": {
   "display_name": "base",
   "language": "python",
   "name": "python3"
  },
  "language_info": {
   "codemirror_mode": {
    "name": "ipython",
    "version": 3
   },
   "file_extension": ".py",
   "mimetype": "text/x-python",
   "name": "python",
   "nbconvert_exporter": "python",
   "pygments_lexer": "ipython3",
   "version": "3.1.undefined"
  }
 },
 "nbformat": 4,
 "nbformat_minor": 2
}
