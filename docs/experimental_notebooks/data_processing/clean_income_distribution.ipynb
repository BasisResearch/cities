{
 "cells": [
  {
   "cell_type": "code",
   "execution_count": 2,
   "metadata": {},
   "outputs": [],
   "source": [
    "import numpy as np\n",
    "from cities.utils.data_grabber import find_repo_root, DataGrabber\n",
    "import pandas as pd\n",
    "import numpy as np\n",
    "import requests\n",
    "\n",
    "data = DataGrabber()\n",
    "data.get_features_wide([\"gdp\"])\n",
    "gdp = data.wide[\"gdp\"]\n",
    "\n",
    "root = find_repo_root()"
   ]
  },
  {
   "cell_type": "code",
   "execution_count": 8,
   "metadata": {},
   "outputs": [
    {
     "data": {
      "text/plain": [
       "Index(['S1901_C01_002E', 'S1901_C01_003E', 'S1901_C01_004E', 'S1901_C01_005E',\n",
       "       'S1901_C01_006E', 'S1901_C01_007E', 'S1901_C01_008E', 'S1901_C01_009E',\n",
       "       'S1901_C01_010E', 'S1901_C01_011E', 'state', 'county'],\n",
       "      dtype='object')"
      ]
     },
     "execution_count": 8,
     "metadata": {},
     "output_type": "execute_result"
    }
   ],
   "source": [
    "area = \"county:*&in=state:*\"\n",
    "\n",
    "variables = \"S1901_C01_002E,S1901_C01_003E,S1901_C01_004E,S1901_C01_005E,S1901_C01_006E,S1901_C01_007E,S1901_C01_008E,S1901_C01_009E,S1901_C01_010E,S1901_C01_011E\"\n",
    "\n",
    "\n",
    "# interval = list(range(2010, 2023)) # it is possible to create this variable as a time series (only for ACS 5 year estimates)\n",
    "\n",
    "year = 2021\n",
    "\n",
    "url = f\"https://api.census.gov/data/{year}/acs/acs5/subject?get={variables}&for={area}\"\n",
    "\n",
    "response = requests.get(url)\n",
    "\n",
    "assert response.status_code == 200  # 200 means success\n",
    "\n",
    "data = response.json()\n",
    "\n",
    "df = pd.DataFrame(data[1:], columns=data[0])\n",
    "df.columns"
   ]
  },
  {
   "cell_type": "code",
   "execution_count": 18,
   "metadata": {},
   "outputs": [],
   "source": [
    "df_subset = df[df[\"state\"] == \"09\"]\n",
    "df_subset\n",
    "\n",
    "income_composition = df.copy()"
   ]
  },
  {
   "cell_type": "code",
   "execution_count": 19,
   "metadata": {},
   "outputs": [],
   "source": [
    "column_mapping = {\n",
    "    \"S1901_C01_002E\": \"less_10k\",\n",
    "    \"S1901_C01_003E\": \"10k_15k\",\n",
    "    \"S1901_C01_004E\": \"15k_25k\",\n",
    "    \"S1901_C01_005E\": \"25k_35k\",\n",
    "    \"S1901_C01_006E\": \"35k_50k\",\n",
    "    \"S1901_C01_007E\": \"50k_75k\",\n",
    "    \"S1901_C01_008E\": \"75k_100k\",\n",
    "    \"S1901_C01_009E\": \"100k_150k\",\n",
    "    \"S1901_C01_010E\": \"150k_200k\",\n",
    "    \"S1901_C01_011E\": \"200k_more\",\n",
    "}\n",
    "\n",
    "income_composition.rename(columns=column_mapping, inplace=True)\n",
    "\n",
    "income_composition.head()"
   ]
  },
  {
   "cell_type": "code",
   "execution_count": 21,
   "metadata": {},
   "outputs": [],
   "source": [
    "income_composition[\"GeoFIPS\"] = (\n",
    "    income_composition[\"state\"] + income_composition[\"county\"]\n",
    ")\n",
    "income_composition.drop([\"state\", \"county\"], axis=1, inplace=True)\n",
    "income_composition[\"GeoFIPS\"] = income_composition[\"GeoFIPS\"].astype(np.int64)"
   ]
  },
  {
   "cell_type": "code",
   "execution_count": 23,
   "metadata": {},
   "outputs": [
    {
     "name": "stdout",
     "output_type": "stream",
     "text": [
      "   GeoFIPS      GeoName less_10k 10k_15k 15k_25k 25k_35k 35k_50k 50k_75k  \\\n",
      "0     1001  Autauga, AL      5.5     4.8    10.9     8.1    12.1    17.8   \n",
      "1     1003  Baldwin, AL      4.9     4.2     7.0     9.5    13.4    17.0   \n",
      "2     1005  Barbour, AL     12.3     7.1    18.4    10.7    13.7    16.2   \n",
      "3     1007     Bibb, AL      7.5     7.8    11.6    10.2    10.7    17.5   \n",
      "4     1009   Blount, AL      8.4     4.2     9.5    11.0    13.0    18.5   \n",
      "\n",
      "  75k_100k 100k_150k 150k_200k 200k_more  \n",
      "0     13.9      16.2       6.0       4.7  \n",
      "1     14.6      15.3       7.0       7.1  \n",
      "2      7.0       9.3       1.9       3.3  \n",
      "3     16.8      10.9       3.7       3.3  \n",
      "4     11.7      14.1       5.8       3.7  \n",
      "3071\n"
     ]
    }
   ],
   "source": [
    "common_fips = np.intersect1d(\n",
    "    income_composition[\"GeoFIPS\"].unique(), gdp[\"GeoFIPS\"].unique()\n",
    ")\n",
    "income_composition = income_composition[income_composition[\"GeoFIPS\"].isin(common_fips)]\n",
    "income_composition = income_composition.merge(\n",
    "    gdp[[\"GeoFIPS\", \"GeoName\"]], on=\"GeoFIPS\", how=\"left\"\n",
    ")\n",
    "income_composition = income_composition.reindex(\n",
    "    columns=[\"GeoFIPS\", \"GeoName\"]\n",
    "    + list(income_composition.columns.drop([\"GeoFIPS\", \"GeoName\"]))\n",
    ")\n",
    "income_composition.iloc[:, 2:] = income_composition.iloc[:, 2:].astype(float)\n",
    "print(income_composition.head())\n",
    "print(income_composition.shape[0])"
   ]
  },
  {
   "cell_type": "code",
   "execution_count": 26,
   "metadata": {},
   "outputs": [],
   "source": [
    "income_composition.to_csv(f\"{root}/data/raw/income_distribution.csv\", index=False)"
   ]
  }
 ],
 "metadata": {
  "kernelspec": {
   "display_name": "Python 3",
   "language": "python",
   "name": "python3"
  },
  "language_info": {
   "codemirror_mode": {
    "name": "ipython",
    "version": 3
   },
   "file_extension": ".py",
   "mimetype": "text/x-python",
   "name": "python",
   "nbconvert_exporter": "python",
   "pygments_lexer": "ipython3",
   "version": "3.12.0"
  }
 },
 "nbformat": 4,
 "nbformat_minor": 2
}
