{
 "cells": [
  {
   "cell_type": "code",
   "execution_count": 3,
   "metadata": {},
   "outputs": [],
   "source": [
    "import torch\n",
    "import pyro\n",
    "import pyro.distributions as dist\n",
    "import matplotlib.pyplot as plt"
   ]
  },
  {
   "cell_type": "code",
   "execution_count": 57,
   "metadata": {},
   "outputs": [
    {
     "name": "stdout",
     "output_type": "stream",
     "text": [
      "means_plate\n",
      "tensor([0, 1, 2, 3])\n",
      "means\n",
      "tensor([-1.,  0.,  1.,  2.])\n",
      "observed_data\n",
      "tensor([  0,   1,   2,   3,   4,   5,   6,   7,   8,   9,  10,  11,  12,  13,\n",
      "         14,  15,  16,  17,  18,  19,  20,  21,  22,  23,  24,  25,  26,  27,\n",
      "         28,  29,  30,  31,  32,  33,  34,  35,  36,  37,  38,  39,  40,  41,\n",
      "         42,  43,  44,  45,  46,  47,  48,  49,  50,  51,  52,  53,  54,  55,\n",
      "         56,  57,  58,  59,  60,  61,  62,  63,  64,  65,  66,  67,  68,  69,\n",
      "         70,  71,  72,  73,  74,  75,  76,  77,  78,  79,  80,  81,  82,  83,\n",
      "         84,  85,  86,  87,  88,  89,  90,  91,  92,  93,  94,  95,  96,  97,\n",
      "         98,  99, 100, 101, 102, 103, 104, 105, 106, 107, 108, 109, 110, 111,\n",
      "        112, 113, 114, 115, 116, 117, 118, 119, 120, 121, 122, 123, 124, 125,\n",
      "        126, 127, 128, 129, 130, 131, 132, 133, 134, 135, 136, 137, 138, 139,\n",
      "        140, 141, 142, 143, 144, 145, 146, 147, 148, 149, 150, 151, 152, 153,\n",
      "        154, 155, 156, 157, 158, 159, 160, 161, 162, 163, 164, 165, 166, 167,\n",
      "        168, 169, 170, 171, 172, 173, 174, 175, 176, 177, 178, 179, 180, 181,\n",
      "        182, 183, 184, 185, 186, 187, 188, 189, 190, 191, 192, 193, 194, 195,\n",
      "        196, 197, 198, 199, 200, 201, 202, 203, 204, 205, 206, 207, 208, 209,\n",
      "        210, 211, 212, 213, 214, 215, 216, 217, 218, 219, 220, 221, 222, 223,\n",
      "        224, 225, 226, 227, 228, 229, 230, 231, 232, 233, 234, 235, 236, 237,\n",
      "        238, 239, 240, 241, 242, 243, 244, 245, 246, 247, 248, 249, 250, 251,\n",
      "        252, 253, 254, 255, 256, 257, 258, 259, 260, 261, 262, 263, 264, 265,\n",
      "        266, 267, 268, 269, 270, 271, 272, 273, 274, 275, 276, 277, 278, 279,\n",
      "        280, 281, 282, 283, 284, 285, 286, 287, 288, 289, 290, 291, 292, 293,\n",
      "        294, 295, 296, 297, 298, 299, 300, 301, 302, 303, 304, 305, 306, 307,\n",
      "        308, 309, 310, 311, 312, 313, 314, 315, 316, 317, 318, 319, 320, 321,\n",
      "        322, 323, 324, 325, 326, 327, 328, 329, 330, 331, 332, 333, 334, 335,\n",
      "        336, 337, 338, 339, 340, 341, 342, 343, 344, 345, 346, 347, 348, 349,\n",
      "        350, 351, 352, 353, 354, 355, 356, 357, 358, 359, 360, 361, 362, 363,\n",
      "        364, 365, 366, 367, 368, 369, 370, 371, 372, 373, 374, 375, 376, 377,\n",
      "        378, 379, 380, 381, 382, 383, 384, 385, 386, 387, 388, 389, 390, 391,\n",
      "        392, 393, 394, 395, 396, 397, 398, 399, 400, 401, 402, 403, 404, 405,\n",
      "        406, 407, 408, 409, 410, 411, 412, 413, 414, 415, 416, 417, 418, 419,\n",
      "        420, 421, 422, 423, 424, 425, 426, 427, 428, 429, 430, 431, 432, 433,\n",
      "        434, 435, 436, 437, 438, 439, 440, 441, 442, 443, 444, 445, 446, 447,\n",
      "        448, 449, 450, 451, 452, 453, 454, 455, 456, 457, 458, 459, 460, 461,\n",
      "        462, 463, 464, 465, 466, 467, 468, 469, 470, 471, 472, 473, 474, 475,\n",
      "        476, 477, 478, 479, 480, 481, 482, 483, 484, 485, 486, 487, 488, 489,\n",
      "        490, 491, 492, 493, 494, 495, 496, 497, 498, 499, 500, 501, 502, 503,\n",
      "        504, 505, 506, 507, 508, 509, 510, 511, 512, 513, 514, 515, 516, 517,\n",
      "        518, 519, 520, 521, 522, 523, 524, 525, 526, 527, 528, 529, 530, 531,\n",
      "        532, 533, 534, 535, 536, 537, 538, 539, 540, 541, 542, 543, 544, 545,\n",
      "        546, 547, 548, 549, 550, 551, 552, 553, 554, 555, 556, 557, 558, 559,\n",
      "        560, 561, 562, 563, 564, 565, 566, 567, 568, 569, 570, 571, 572, 573,\n",
      "        574, 575, 576, 577, 578, 579, 580, 581, 582, 583, 584, 585, 586, 587,\n",
      "        588, 589, 590, 591, 592, 593, 594, 595, 596, 597, 598, 599])\n",
      "category\n",
      "tensor([1, 0, 0, 0, 3, 0, 3, 0, 0, 1, 3, 0, 3, 3, 0, 0, 0, 1, 1, 0, 0, 0, 0, 1,\n",
      "        1, 3, 1, 0, 1, 0, 1, 0, 3, 3, 1, 0, 3, 3, 3, 1, 1, 3, 0, 3, 0, 1, 1, 0,\n",
      "        3, 3, 0, 0, 1, 0, 0, 3, 1, 1, 3, 1, 1, 1, 1, 1, 3, 1, 3, 3, 3, 3, 0, 0,\n",
      "        0, 0, 1, 3, 1, 1, 1, 0, 1, 0, 1, 1, 0, 0, 0, 0, 1, 1, 1, 3, 0, 0, 0, 3,\n",
      "        3, 3, 0, 0, 0, 3, 3, 3, 1, 0, 1, 0, 3, 3, 1, 3, 3, 3, 0, 3, 1, 3, 3, 1,\n",
      "        3, 3, 3, 1, 3, 3, 1, 0, 0, 3, 3, 0, 1, 3, 3, 1, 0, 3, 1, 0, 3, 3, 1, 1,\n",
      "        3, 3, 1, 3, 3, 3, 1, 3, 0, 1, 0, 0, 1, 0, 1, 0, 0, 0, 1, 0, 0, 0, 1, 1,\n",
      "        0, 3, 1, 3, 3, 1, 3, 0, 1, 1, 1, 3, 0, 0, 1, 1, 3, 0, 0, 3, 3, 3, 0, 3,\n",
      "        3, 1, 0, 0, 3, 3, 0, 1, 0, 1, 3, 0, 1, 1, 0, 3, 0, 1, 1, 1, 1, 1, 3, 3,\n",
      "        0, 0, 1, 1, 3, 1, 1, 3, 3, 3, 3, 1, 3, 0, 3, 1, 3, 0, 3, 0, 3, 1, 3, 1,\n",
      "        1, 0, 0, 0, 0, 0, 1, 0, 3, 3, 1, 0, 3, 1, 1, 0, 1, 3, 3, 1, 0, 1, 0, 1,\n",
      "        1, 1, 3, 3, 1, 1, 1, 3, 0, 1, 0, 1, 3, 1, 0, 3, 1, 1, 0, 3, 3, 0, 0, 3,\n",
      "        0, 3, 0, 1, 1, 0, 3, 0, 3, 3, 0, 1, 1, 1, 1, 1, 1, 0, 0, 0, 0, 0, 0, 1,\n",
      "        1, 1, 1, 1, 0, 1, 1, 3, 0, 3, 3, 0, 0, 1, 1, 0, 1, 1, 3, 3, 0, 0, 1, 1,\n",
      "        3, 1, 0, 3, 3, 1, 3, 1, 0, 0, 0, 3, 0, 1, 3, 0, 1, 3, 1, 0, 1, 0, 0, 3,\n",
      "        0, 1, 1, 3, 0, 3, 1, 0, 0, 1, 1, 0, 1, 1, 3, 0, 3, 1, 1, 1, 0, 0, 1, 1,\n",
      "        0, 3, 0, 1, 3, 0, 3, 0, 3, 1, 3, 0, 1, 3, 3, 1, 1, 3, 0, 0, 3, 1, 0, 0,\n",
      "        3, 3, 1, 1, 3, 3, 1, 0, 1, 0, 0, 1, 3, 1, 3, 1, 0, 0, 3, 0, 3, 1, 0, 0,\n",
      "        0, 0, 0, 1, 3, 3, 1, 0, 0, 1, 3, 0, 3, 1, 1, 3, 1, 1, 0, 0, 3, 3, 0, 3,\n",
      "        1, 3, 3, 1, 1, 0, 3, 3, 1, 0, 1, 1, 0, 1, 3, 1, 3, 1, 0, 0, 3, 1, 3, 3,\n",
      "        3, 3, 1, 1, 3, 1, 3, 1, 1, 3, 3, 1, 1, 3, 1, 3, 0, 1, 0, 0, 1, 1, 0, 1,\n",
      "        0, 3, 1, 0, 3, 3, 1, 3, 1, 1, 0, 3, 3, 3, 3, 1, 1, 3, 3, 0, 3, 3, 3, 0,\n",
      "        0, 3, 1, 0, 0, 0, 0, 1, 1, 3, 3, 3, 0, 1, 1, 0, 0, 0, 0, 0, 3, 0, 1, 1,\n",
      "        1, 1, 0, 1, 1, 3, 1, 3, 3, 3, 3, 1, 0, 0, 3, 0, 0, 1, 3, 1, 3, 1, 3, 0,\n",
      "        3, 0, 0, 0, 0, 1, 1, 0, 3, 3, 1, 3, 0, 1, 3, 0, 1, 0, 0, 3, 3, 0, 1, 0])\n",
      "bug\n",
      "tensor([-0.0943, -1.1518, -1.0212, -0.9434,  1.5009, -0.9666,  2.4815, -0.8791,\n",
      "        -1.0540, -0.1917,  1.8288, -1.0543,  1.8696,  2.1211, -1.0398, -1.1343,\n",
      "        -1.0940,  0.0579, -0.0786, -0.9851, -1.1445, -0.9677, -0.9731, -0.3018,\n",
      "         0.1352,  2.1854, -0.1519, -0.9687,  0.2426, -1.1056,  0.3821, -0.9766,\n",
      "         1.9146,  1.6188,  0.5513, -0.8258,  1.8058,  2.3861,  2.0839, -0.2970,\n",
      "        -0.2050,  2.0364, -0.9389,  1.9005, -0.9426, -0.4027,  0.1726, -0.9507,\n",
      "         1.4049,  2.0249, -1.1207, -1.0351, -0.0330, -1.0394, -0.9776,  1.7805,\n",
      "        -0.2320, -0.0721,  1.9715,  0.2224,  0.0703,  0.1873, -0.0375, -0.2313,\n",
      "         1.9844, -0.2011,  2.0006,  2.5416,  1.7270,  2.3410, -1.0644, -1.0029,\n",
      "        -1.0040, -0.9123, -0.2131,  2.2584,  0.0426, -0.4108, -0.2616, -1.0317,\n",
      "        -0.4529, -1.1008,  0.1957, -0.2677, -0.8900, -0.8757, -1.0499, -1.1231,\n",
      "        -0.0198,  0.2383, -0.2204,  1.9285, -0.9442, -1.1982, -0.9150,  1.8829,\n",
      "         2.0905,  2.3763, -1.0278, -1.0604, -1.2249,  2.0933,  2.6159,  2.2160,\n",
      "         0.0134, -0.9092,  0.1029, -0.9102,  2.1461,  1.5934, -0.1745,  2.0129,\n",
      "         1.9734,  1.6088, -1.0865,  1.9595,  0.0239,  1.7307,  2.0710,  0.4183,\n",
      "         2.2042,  2.5703,  1.8279, -0.1867,  1.9849,  2.1582,  0.0484, -1.0876,\n",
      "        -1.0954,  1.9056,  1.8476, -0.9524,  0.2062,  2.2345,  2.1761,  0.0469,\n",
      "        -1.0304,  2.4446,  0.0075, -1.0412,  1.8731,  1.8651, -0.2110, -0.3018,\n",
      "         1.1673,  2.0793,  0.0199,  1.9676,  2.5642,  1.9917,  0.1738,  1.8732,\n",
      "        -0.8223, -0.0088, -0.9657, -1.1787, -0.4172, -1.0562,  0.2695, -1.0610,\n",
      "        -0.9687, -0.9628, -0.0780, -1.1310, -1.0432, -1.0622,  0.2975,  0.0643,\n",
      "        -1.0035,  2.1936,  0.1128,  2.4191,  1.6050,  0.5506,  2.3364, -1.0868,\n",
      "         0.0244,  0.3259,  0.2654,  2.2528, -1.0092, -0.9645, -0.1172, -0.3135,\n",
      "         1.3380, -1.0776, -0.8868,  2.1049,  1.7339,  1.9917, -0.8957,  1.6997,\n",
      "         2.1677, -0.1729, -0.9086, -1.0336,  2.2165,  1.5181, -0.9602, -0.1041,\n",
      "        -0.8677,  0.2909,  1.7198, -1.0185, -0.1471, -0.1025, -1.1066,  1.9515,\n",
      "        -1.1921,  0.2175,  0.0671, -0.0808,  0.0761, -0.0044,  1.7549,  2.0727,\n",
      "        -1.0066, -1.2053,  0.0483, -0.0689,  2.2341, -0.2310,  0.0807,  1.9113,\n",
      "         1.5102,  1.9456,  1.5288,  0.0589,  1.8202, -0.8608,  1.9029, -0.0422,\n",
      "         1.8753, -0.9479,  2.4817, -0.9844,  1.7243, -0.1975,  1.5529, -0.0877,\n",
      "        -0.0531, -1.0674, -0.9471, -1.0977, -1.0492, -0.9773,  0.0435, -0.9327,\n",
      "         1.8232,  1.9690,  0.2295, -0.8861,  2.1277,  0.0156, -0.2228, -1.0700,\n",
      "         0.0327,  1.7086,  2.0197, -0.1411, -0.9469,  0.0087, -1.0110, -0.0252,\n",
      "         0.0868,  0.2654,  1.7893,  2.3177, -0.0341, -0.1250, -0.0838,  1.5302,\n",
      "        -1.0352,  0.2020, -0.8671,  0.0272,  1.8478, -0.1218, -1.0756,  1.9557,\n",
      "         0.1517, -0.0208, -1.0269,  2.2149,  1.3843, -1.0140, -0.9199,  2.2156,\n",
      "        -0.9880,  1.9449, -1.1542,  0.1166, -0.0097, -1.0781,  1.4792, -0.8911,\n",
      "         1.6844,  2.4923, -0.9834, -0.2108,  0.0976,  0.2230,  0.0980,  0.0118,\n",
      "         0.2242, -0.9498, -0.9429, -0.9995, -1.0739, -0.9427, -1.2441,  0.0690,\n",
      "         0.2309, -0.0229,  0.2205,  0.1006, -1.0292,  0.0272, -0.2694,  1.6344,\n",
      "        -0.6194,  2.0189,  2.3613, -0.9705, -1.0819,  0.1378, -0.2717, -1.2016,\n",
      "        -0.0220,  0.1157,  2.5580,  1.8775, -1.1000, -0.8239,  0.0442, -0.1488,\n",
      "         1.5050,  0.2091, -1.0816,  1.7029,  2.0573,  0.1797,  2.0109, -0.2523,\n",
      "        -1.0302, -1.0435, -0.9375,  2.1940, -0.9525,  0.0055,  2.0020, -1.0138,\n",
      "         0.3288,  1.7963, -0.1013, -0.9992, -0.1380, -0.8305, -0.9557,  1.7167,\n",
      "        -1.0193, -0.1288, -0.3548,  2.3946, -0.9693,  2.2404, -0.0725, -1.1098,\n",
      "        -0.9054, -0.0839, -0.1264, -0.8886,  0.1324,  0.1969,  2.0783, -0.9770,\n",
      "         1.9597, -0.0057, -0.1436,  0.2472, -0.8148, -0.9588, -0.0952,  0.0117,\n",
      "        -1.0319,  1.8810, -1.0087,  0.4038,  2.0465, -0.8334,  2.2339, -1.0354,\n",
      "         1.8275,  0.3568,  2.1116, -1.0351, -0.1165,  1.9842,  1.8430,  0.2742,\n",
      "        -0.1114,  2.0481, -0.9556, -0.8868,  1.7650,  0.2473, -1.2016, -1.0311,\n",
      "         1.3301,  2.2382,  0.1414, -0.0799,  1.8022,  1.9714, -0.4294, -0.9148,\n",
      "        -0.1535, -1.0180, -0.9697,  0.0469,  1.8778,  0.0546,  2.0007, -0.0147,\n",
      "        -1.0544, -1.0568,  2.0376, -1.2542,  1.9796,  0.1079, -1.0602, -0.9535,\n",
      "        -0.9686, -1.0090, -1.0783, -0.0850,  1.7337,  2.0149,  0.0404, -0.6625,\n",
      "        -0.9853,  0.1855,  2.2373, -0.8607,  2.2242,  0.1545, -0.3037,  2.1687,\n",
      "         0.3163, -0.2324, -0.9353, -0.9692,  1.9141,  1.9836, -1.0313,  1.9310,\n",
      "        -0.0410,  1.9644,  2.3575,  0.2304, -0.2265, -1.0300,  1.7183,  2.2620,\n",
      "        -0.2121, -1.0398,  0.0556,  0.4478, -1.0039, -0.2201,  2.7525,  0.2305,\n",
      "         1.7061,  0.3656, -1.0631, -0.7549,  1.3747, -0.1200,  1.9121,  1.7425,\n",
      "         1.8233,  2.1646,  0.1819,  0.0984,  2.0662,  0.5190,  2.1849,  0.4038,\n",
      "         0.4737,  1.5198,  2.0328,  0.1848, -0.3795,  1.8935, -0.2874,  1.4464,\n",
      "        -1.0403,  0.0548, -1.1559, -1.0213,  0.0228,  0.0412, -1.1007, -0.1026,\n",
      "        -1.0356,  2.0053,  0.1123, -1.0601,  2.0595,  1.6405, -0.2070,  2.2226,\n",
      "        -0.2394, -0.4630, -1.1173,  2.3458,  1.9131,  2.2828,  1.7582,  0.1437,\n",
      "        -0.2414,  2.0185,  1.9667, -1.0713,  2.1255,  2.2273,  2.2949, -0.9264,\n",
      "        -0.9979,  1.4748,  0.3278, -1.0909, -0.9353, -1.0869, -1.0575, -0.3157,\n",
      "        -0.1624,  2.1025,  2.3413,  1.7550, -0.9340,  0.0262,  0.0085, -1.0619,\n",
      "        -1.0595, -0.9948, -1.0646, -0.9638,  1.7698, -0.9550,  0.0522,  0.3398,\n",
      "        -0.0972,  0.0134, -0.9471,  0.2658, -0.4311,  1.5500, -0.1284,  2.2586,\n",
      "         2.1737,  1.5026,  1.5749, -0.0212, -0.9693, -0.9209,  1.8141, -0.8810,\n",
      "        -0.8183,  0.0905,  1.8279, -0.0200,  2.2818, -0.0668,  1.8214, -0.9953,\n",
      "         2.3405, -1.2074, -0.9879, -1.0935, -0.7562, -0.0675,  0.2450, -1.0463,\n",
      "         1.8659,  1.8663,  0.2612,  2.4240, -1.2008, -0.1145,  1.8882, -1.0982,\n",
      "         0.0605, -1.1083, -0.9930,  1.8332,  1.7374, -0.8016,  0.0550, -0.9434])\n"
     ]
    },
    {
     "name": "stderr",
     "output_type": "stream",
     "text": [
      "/tmp/ipykernel_25333/4144195354.py:24: UserWarning: To copy construct from a tensor, it is recommended to use sourceTensor.clone().detach() or sourceTensor.clone().detach().requires_grad_(True), rather than torch.tensor(sourceTensor).\n",
      "  assert 2 not in list(torch.tensor(tr.trace.nodes['category']['value']).numpy())\n"
     ]
    }
   ],
   "source": [
    "def model():\n",
    "    \n",
    "    with pyro.plate(\"means_plate\", 4):\n",
    "        means = pyro.sample('means', dist.Normal(torch.tensor(0.), torch.tensor(1.)))\n",
    "\n",
    "    with pyro.plate(\"observed_data\", 600):\n",
    "        category = pyro.sample('category', dist.Categorical(torch.tensor([0.25, 0.25, 0.0002, 0.25])))\n",
    "    \n",
    "        bug = pyro.sample(\"bug\", dist.Normal(means[category], \n",
    "                                           torch.tensor([0.1, 0.2, 0.3, 0.3])[category]))\n",
    "    \n",
    "    \n",
    "    return category, bug\n",
    "\n",
    "pyro.set_rng_seed(41)\n",
    "with pyro.poutine.trace() as tr:\n",
    "    pyro.condition(model, data= {'means': torch.tensor([-1, 0., 1, 2])})()\n",
    "\n",
    "for key in tr.trace.nodes.keys():\n",
    "    print(key)\n",
    "    print(tr.trace.nodes[key]['value'])\n",
    "    \n",
    "\n",
    "assert 2 not in list(torch.tensor(tr.trace.nodes['category']['value']).numpy())\n",
    "\n",
    "synthetic_data = {key: tr.trace.nodes[key]['value'] for key in tr.trace.nodes.keys() if key in ['category', 'bug']}\n"
   ]
  },
  {
   "cell_type": "code",
   "execution_count": 58,
   "metadata": {},
   "outputs": [
    {
     "data": {
      "text/plain": [
       "[<matplotlib.lines.Line2D at 0x7f88cf2f21d0>]"
      ]
     },
     "execution_count": 58,
     "metadata": {},
     "output_type": "execute_result"
    },
    {
     "data": {
      "image/png": "[encoded data removed]",
      "text/plain": [
       "<Figure size 640x480 with 1 Axes>"
      ]
     },
     "metadata": {},
     "output_type": "display_data"
    }
   ],
   "source": [
    "conditioned_model = pyro.condition(model, data=synthetic_data)\n",
    "\n",
    "conditioned_model()\n",
    "\n",
    "guide = pyro.infer.autoguide.AutoDiagonalNormal(conditioned_model)\n",
    "\n",
    "#run svi inference\n",
    "svi = pyro.infer.SVI(model=conditioned_model,\n",
    "                     guide=guide,\n",
    "                     optim=pyro.optim.Adam({\"lr\": 0.03}),\n",
    "                     loss=pyro.infer.Trace_ELBO())\n",
    "\n",
    "#run inference\n",
    "pyro.clear_param_store()\n",
    "losses = []\n",
    "for step in range(1000):\n",
    "    losses.append(svi.step())\n",
    "\n",
    "plt.plot(losses)\n",
    "\n",
    "\n"
   ]
  },
  {
   "cell_type": "code",
   "execution_count": 59,
   "metadata": {},
   "outputs": [],
   "source": [
    "predictive = pyro.infer.Predictive(conditioned_model, guide=guide, num_samples=1000,)\n",
    "samples = predictive()"
   ]
  },
  {
   "cell_type": "code",
   "execution_count": 62,
   "metadata": {},
   "outputs": [
    {
     "data": {
      "image/png": "[encoded data removed]",
      "text/plain": [
       "<Figure size 640x480 with 1 Axes>"
      ]
     },
     "metadata": {},
     "output_type": "display_data"
    }
   ],
   "source": [
    "samples.keys()\n",
    "\n",
    "plt.hist(samples['means'].numpy(), bins=100)\n",
    "plt.show()"
   ]
  }
 ],
 "metadata": {
  "kernelspec": {
   "display_name": "polis-dev",
   "language": "python",
   "name": "python3"
  },
  "language_info": {
   "codemirror_mode": {
    "name": "ipython",
    "version": 3
   },
   "file_extension": ".py",
   "mimetype": "text/x-python",
   "name": "python",
   "nbconvert_exporter": "python",
   "pygments_lexer": "ipython3",
   "version": "3.10.13"
  }
 },
 "nbformat": 4,
 "nbformat_minor": 2
}
