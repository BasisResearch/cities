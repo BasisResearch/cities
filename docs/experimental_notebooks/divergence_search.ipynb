{
 "cells": [
  {
   "cell_type": "code",
   "execution_count": 2,
   "metadata": {},
   "outputs": [],
   "source": [
    "import pandas as pd\n",
    "import numpy as np\n",
    "import matplotlib.pyplot as plt\n",
    "from plotly import graph_objs as go\n",
    "\n",
    "from cities.utils.data_grabber import DataGrabber\n",
    "from cities.queries.fips_query import FipsQuery"
   ]
  },
  {
   "cell_type": "code",
   "execution_count": 9,
   "metadata": {},
   "outputs": [
    {
     "data": {
      "text/plain": [
       "0        94.638\n",
       "1       144.294\n",
       "2        99.393\n",
       "3       107.878\n",
       "4       113.455\n",
       "         ...   \n",
       "3077     74.912\n",
       "3078    155.522\n",
       "3079     76.147\n",
       "3080     92.003\n",
       "3081     83.471\n",
       "Name: 2021, Length: 3082, dtype: float64"
      ]
     },
     "execution_count": 9,
     "metadata": {},
     "output_type": "execute_result"
    }
   ],
   "source": [
    "features = [\n",
    "    \"gdp\",\n",
    "    \"population\",\n",
    "    \"transport\",\n",
    "    \"spending_transportation\",\n",
    "    \"spending_commerce\",\n",
    "    \"spending_HHS\",\n",
    "]\n",
    "\n",
    "\n",
    "\n",
    "data = DataGrabber()\n",
    "\n",
    "data.get_features_wide(features)\n",
    "\n",
    "outcome = \"gdp\"\n",
    "\n",
    "most_recent = data.wide[outcome].iloc[:, -1].values\n",
    "\n",
    "lower_values_count = (most_recent < most_recent[:, np.newaxis]).sum(axis=1)\n",
    "\n",
    "print(lower_values_count)"
   ]
  }
 ],
 "metadata": {
  "kernelspec": {
   "display_name": "causal_pyro",
   "language": "python",
   "name": "python3"
  },
  "language_info": {
   "codemirror_mode": {
    "name": "ipython",
    "version": 3
   },
   "file_extension": ".py",
   "mimetype": "text/x-python",
   "name": "python",
   "nbconvert_exporter": "python",
   "pygments_lexer": "ipython3",
   "version": "3.10.11"
  }
 },
 "nbformat": 4,
 "nbformat_minor": 2
}
