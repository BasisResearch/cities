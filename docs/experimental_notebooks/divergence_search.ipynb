{
 "cells": [
  {
   "cell_type": "code",
   "execution_count": 2,
   "metadata": {},
   "outputs": [],
   "source": [
    "import pandas as pd\n",
    "import numpy as np\n",
    "import matplotlib.pyplot as plt\n",
    "from plotly import graph_objs as go\n",
    "\n",
    "from cities.utils.data_grabber import DataGrabber\n",
    "from cities.queries.fips_query import FipsQuery"
   ]
  },
  {
   "cell_type": "code",
   "execution_count": 17,
   "metadata": {},
   "outputs": [
    {
     "name": "stdout",
     "output_type": "stream",
     "text": [
      "[ 94.638 144.294  99.393 ...  76.147  92.003  83.471]\n",
      "0.9299156391953277\n",
      "[0.19922128 0.92991564 0.27741726 ... 0.04185594 0.16190785 0.08306295]\n"
     ]
    }
   ],
   "source": [
    "features = [\n",
    "    \"gdp\",\n",
    "    \"population\",\n",
    "    \"transport\",\n",
    "    \"spending_transportation\",\n",
    "    \"spending_commerce\",\n",
    "    \"spending_HHS\",\n",
    "]\n",
    "\n",
    "\n",
    "\n",
    "data = DataGrabber()\n",
    "\n",
    "data.get_features_wide(features)\n",
    "\n",
    "outcome = \"gdp\"\n",
    "\n",
    "\n",
    "\n",
    "most_recent = data.wide[outcome].iloc[:, -1].values\n",
    "\n",
    "\n",
    "\n",
    "lower_values_count = (most_recent < most_recent[:, np.newaxis]).sum(axis=1)/most_recent.shape[0]\n",
    "\n",
    "print(lower_values_count)"
   ]
  },
  {
   "cell_type": "code",
   "execution_count": 29,
   "metadata": {},
   "outputs": [
    {
     "ename": "ValueError",
     "evalue": "The truth value of an array with more than one element is ambiguous. Use a.any() or a.all()",
     "output_type": "error",
     "traceback": [
      "\u001b[0;31m---------------------------------------------------------------------------\u001b[0m",
      "\u001b[0;31mValueError\u001b[0m                                Traceback (most recent call last)",
      "\u001b[1;32m/home/rafal/UGPOP/projectsUGPOP/cities/docs/experimental_notebooks/divergence_search.ipynb Cell 3\u001b[0m line \u001b[0;36m3\n\u001b[1;32m      <a href='vscode-notebook-cell:/home/rafal/UGPOP/projectsUGPOP/cities/docs/experimental_notebooks/divergence_search.ipynb#W2sZmlsZQ%3D%3D?line=0'>1</a>\u001b[0m outcome_comparison_period \u001b[39m=\u001b[39m (\u001b[39m0\u001b[39m,\u001b[39m3000\u001b[39m)\n\u001b[0;32m----> <a href='vscode-notebook-cell:/home/rafal/UGPOP/projectsUGPOP/cities/docs/experimental_notebooks/divergence_search.ipynb#W2sZmlsZQ%3D%3D?line=2'>3</a>\u001b[0m (data\u001b[39m.\u001b[39mwide[outcome]\u001b[39m.\u001b[39mcolumns[\u001b[39m2\u001b[39m:]\u001b[39m.\u001b[39mastype(\u001b[39mint\u001b[39m) \u001b[39m>\u001b[39m outcome_comparison_period[\u001b[39m0\u001b[39m]) \u001b[39mand\u001b[39;00m(data\u001b[39m.\u001b[39mwide[outcome]\u001b[39m.\u001b[39mcolumns[\u001b[39m2\u001b[39m:]\u001b[39m.\u001b[39mastype(\u001b[39mint\u001b[39m) \u001b[39m<\u001b[39m outcome_comparison_period[\u001b[39m1\u001b[39m])\n",
      "\u001b[0;31mValueError\u001b[0m: The truth value of an array with more than one element is ambiguous. Use a.any() or a.all()"
     ]
    }
   ],
   "source": [
    "outcome_comparison_period = (0,3000)\n",
    "\n",
    "data.wide[outcome].columns[2:]((data.wide[outcome].columns[2:].astype(int) > outcome_comparison_period[0]) and (data.wide[outcome].columns[2:].astype(int) < outcome_comparison_period[1]))"
   ]
  }
 ],
 "metadata": {
  "kernelspec": {
   "display_name": "causal_pyro",
   "language": "python",
   "name": "python3"
  },
  "language_info": {
   "codemirror_mode": {
    "name": "ipython",
    "version": 3
   },
   "file_extension": ".py",
   "mimetype": "text/x-python",
   "name": "python",
   "nbconvert_exporter": "python",
   "pygments_lexer": "ipython3",
   "version": "3.10.11"
  }
 },
 "nbformat": 4,
 "nbformat_minor": 2
}
