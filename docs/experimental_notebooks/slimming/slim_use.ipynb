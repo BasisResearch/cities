{
 "cells": [
  {
   "cell_type": "markdown",
   "metadata": {},
   "source": [
    "This is how you get the predictions from the model, the slim way."
   ]
  },
  {
   "cell_type": "code",
   "execution_count": 2,
   "metadata": {},
   "outputs": [],
   "source": [
    "import os\n",
    "import random\n",
    "import cProfile\n",
    "import timeit\n",
    "\n",
    "from cities.queries.causal_insight import CausalInsight\n",
    "from cities.utils.data_grabber import (DataGrabber, list_interventions,\n",
    "                                       list_outcomes)\n",
    "\n",
    "smoke_test = \"CI\" in os.environ\n",
    "num_samples = 10 if smoke_test else 1000"
   ]
  },
  {
   "cell_type": "code",
   "execution_count": 3,
   "metadata": {},
   "outputs": [],
   "source": [
    "data = DataGrabber()\n",
    "\n",
    "interventions = list_interventions()\n",
    "outcomes = list_outcomes()\n",
    "\n",
    "intervention = random.choice(interventions)\n",
    "outcome = random.choice(outcomes)\n",
    "\n",
    "intervened_value = random.uniform(-1, 1)\n",
    "\n",
    "\n",
    "data.get_features_wide([\"gdp\"])\n",
    "gdp = data.wide[\"gdp\"]\n",
    "fips = random.choice(gdp[\"GeoFIPS\"])"
   ]
  },
  {
   "cell_type": "code",
   "execution_count": null,
   "metadata": {},
   "outputs": [],
   "source": [
    "#the object instantiation doesn't change\n",
    "ci = CausalInsight(\n",
    "    outcome_dataset=outcome,\n",
    "    intervention_dataset=intervention,\n",
    "    num_samples=num_samples,\n",
    ")"
   ]
  }
 ],
 "metadata": {
  "kernelspec": {
   "display_name": "polis-dev",
   "language": "python",
   "name": "python3"
  },
  "language_info": {
   "codemirror_mode": {
    "name": "ipython",
    "version": 3
   },
   "file_extension": ".py",
   "mimetype": "text/x-python",
   "name": "python",
   "nbconvert_exporter": "python",
   "pygments_lexer": "ipython3",
   "version": "3.10.13"
  }
 },
 "nbformat": 4,
 "nbformat_minor": 2
}
