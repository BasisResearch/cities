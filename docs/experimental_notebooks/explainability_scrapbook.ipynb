{
 "cells": [
  {
   "cell_type": "code",
   "execution_count": 1,
   "metadata": {},
   "outputs": [],
   "source": [
    "import pandas as pd\n",
    "import numpy as np\n",
    "import matplotlib.pyplot as plt\n",
    "from plotly import graph_objs as go\n",
    "from cities.utils.data_grabber import DataGrabber, list_available_features, list_tensed_features\n",
    "from cities.queries.fips_query import FipsQuery"
   ]
  },
  {
   "cell_type": "code",
   "execution_count": 2,
   "metadata": {},
   "outputs": [
    {
     "name": "stdout",
     "output_type": "stream",
     "text": [
      "(3081, 16)\n",
      "['2003_gdp', '2004_gdp', '2005_gdp', '2006_gdp', '2007_gdp', '2008_gdp', '2009_gdp', '2010_gdp', '2011_gdp', '2013_gdp', '2014_gdp', '2015_gdp', '2016_gdp', '2017_gdp', '2018_gdp', '2019_gdp']\n",
      "(3081, 16)\n",
      "3081\n"
     ]
    },
    {
     "ename": "AttributeError",
     "evalue": "'FipsQuery' object has no attribute 'featurewise_contributions'",
     "output_type": "error",
     "traceback": [
      "\u001b[0;31m---------------------------------------------------------------------------\u001b[0m",
      "\u001b[0;31mAttributeError\u001b[0m                            Traceback (most recent call last)",
      "\u001b[1;32m/home/rafal/L2projects/cities/docs/experimental_notebooks/explainability_scrapbook.ipynb Cell 2\u001b[0m line \u001b[0;36m3\n\u001b[1;32m      <a href='vscode-notebook-cell:/home/rafal/L2projects/cities/docs/experimental_notebooks/explainability_scrapbook.ipynb#W1sZmlsZQ%3D%3D?line=0'>1</a>\u001b[0m f  \u001b[39m=\u001b[39m FipsQuery(\u001b[39m42001\u001b[39m, \u001b[39m\"\u001b[39m\u001b[39mgdp\u001b[39m\u001b[39m\"\u001b[39m, lag \u001b[39m=\u001b[39m \u001b[39m0\u001b[39m, top \u001b[39m=\u001b[39m\u001b[39m5\u001b[39m, time_decay \u001b[39m=\u001b[39m \u001b[39m1.06\u001b[39m, \n\u001b[1;32m      <a href='vscode-notebook-cell:/home/rafal/L2projects/cities/docs/experimental_notebooks/explainability_scrapbook.ipynb#W1sZmlsZQ%3D%3D?line=1'>2</a>\u001b[0m                outcome_comparison_period\u001b[39m=\u001b[39m(\u001b[39m2003\u001b[39m, \u001b[39m2019\u001b[39m), outcome_percentile_range\u001b[39m=\u001b[39m (\u001b[39m40\u001b[39m,\u001b[39m100\u001b[39m))\n\u001b[0;32m----> <a href='vscode-notebook-cell:/home/rafal/L2projects/cities/docs/experimental_notebooks/explainability_scrapbook.ipynb#W1sZmlsZQ%3D%3D?line=2'>3</a>\u001b[0m f\u001b[39m.\u001b[39;49mfind_euclidean_kins()\n\u001b[1;32m      <a href='vscode-notebook-cell:/home/rafal/L2projects/cities/docs/experimental_notebooks/explainability_scrapbook.ipynb#W1sZmlsZQ%3D%3D?line=4'>5</a>\u001b[0m \u001b[39m# you want to inspect weighted contributions of each feature\u001b[39;00m\n\u001b[1;32m      <a href='vscode-notebook-cell:/home/rafal/L2projects/cities/docs/experimental_notebooks/explainability_scrapbook.ipynb#W1sZmlsZQ%3D%3D?line=5'>6</a>\u001b[0m display(f\u001b[39m.\u001b[39mfeaturewise_contributions\u001b[39m.\u001b[39mhead(\u001b[39m10\u001b[39m))\n",
      "File \u001b[0;32m~/L2projects/cities/cities/queries/fips_query.py:366\u001b[0m, in \u001b[0;36mFipsQuery.find_euclidean_kins\u001b[0;34m(self)\u001b[0m\n\u001b[1;32m    363\u001b[0m featurewise_contributions_df \u001b[39m=\u001b[39m pd\u001b[39m.\u001b[39mconcat([\u001b[39mself\u001b[39m\u001b[39m.\u001b[39mother_df[[\u001b[39m\"\u001b[39m\u001b[39mGeoFIPS\u001b[39m\u001b[39m\"\u001b[39m, \u001b[39m\"\u001b[39m\u001b[39mGeoName\u001b[39m\u001b[39m\"\u001b[39m]], featurewise_contributions_df], axis\u001b[39m=\u001b[39m\u001b[39m1\u001b[39m)\n\u001b[1;32m    364\u001b[0m featurewise_contributions_df\u001b[39m.\u001b[39msort_values(by\u001b[39m=\u001b[39mfeaturewise_contributions_df\u001b[39m.\u001b[39mcolumns[\u001b[39m-\u001b[39m\u001b[39m1\u001b[39m], inplace\u001b[39m=\u001b[39m\u001b[39mTrue\u001b[39;00m)\n\u001b[0;32m--> 366\u001b[0m \u001b[39mself\u001b[39;49m\u001b[39m.\u001b[39;49mfeaturewise_contributions \u001b[39m==\u001b[39m featurewise_contributions_df\n\u001b[1;32m    368\u001b[0m count \u001b[39m=\u001b[39m \u001b[39msum\u001b[39m([\u001b[39m1\u001b[39m \u001b[39mfor\u001b[39;00m distance \u001b[39min\u001b[39;00m distances \u001b[39mif\u001b[39;00m distance \u001b[39m==\u001b[39m \u001b[39m0\u001b[39m])\n\u001b[1;32m    370\u001b[0m \u001b[39massert\u001b[39;00m (\n\u001b[1;32m    371\u001b[0m     \u001b[39mlen\u001b[39m(distances) \u001b[39m==\u001b[39m \u001b[39mself\u001b[39m\u001b[39m.\u001b[39mother_arrays\u001b[39m.\u001b[39mshape[\u001b[39m0\u001b[39m]\n\u001b[1;32m    372\u001b[0m ), \u001b[39m\"\u001b[39m\u001b[39mDistances and arrays are misaligned\u001b[39m\u001b[39m\"\u001b[39m\n",
      "\u001b[0;31mAttributeError\u001b[0m: 'FipsQuery' object has no attribute 'featurewise_contributions'"
     ]
    }
   ],
   "source": [
    "f  = FipsQuery(42001, \"gdp\", lag = 0, top =5, time_decay = 1.06, \n",
    "               outcome_comparison_period=(2003, 2019), outcome_percentile_range= (40,100))\n",
    "f.find_euclidean_kins()\n",
    "\n",
    "# you want to inspect weighted contributions of each feature\n",
    "display(f.featurewise_contributions)"
   ]
  }
 ],
 "metadata": {
  "kernelspec": {
   "display_name": "chirho",
   "language": "python",
   "name": "python3"
  },
  "language_info": {
   "codemirror_mode": {
    "name": "ipython",
    "version": 3
   },
   "file_extension": ".py",
   "mimetype": "text/x-python",
   "name": "python",
   "nbconvert_exporter": "python",
   "pygments_lexer": "ipython3",
   "version": "3.11.4"
  }
 },
 "nbformat": 4,
 "nbformat_minor": 2
}
