{
 "cells": [
  {
   "cell_type": "code",
   "execution_count": 2,
   "metadata": {},
   "outputs": [],
   "source": [
    "import dill"
   ]
  },
  {
   "cell_type": "code",
   "execution_count": 8,
   "metadata": {},
   "outputs": [],
   "source": [
    "# update path to wherever you place the file\n",
    "\n",
    "preds_path  = \"distance_model_preds.dill\"\n",
    "\n",
    "with open(preds_path, \"rb\") as file:\n",
    "    predictor = dill.load(file)"
   ]
  },
  {
   "cell_type": "code",
   "execution_count": 9,
   "metadata": {},
   "outputs": [
    {
     "name": "stdout",
     "output_type": "stream",
     "text": [
      "day\n",
      "destandardize_housing_units\n",
      "distance_interval\n",
      "distance_max\n",
      "factual_preds\n",
      "factual_preds_destandardized\n",
      "limit_interval\n",
      "outcome_mean\n",
      "outcome_sd\n",
      "predict\n",
      "predict_destandardized\n",
      "predicted_means\n",
      "zone\n",
      "zone_id\n"
     ]
    }
   ],
   "source": [
    "for key in dir(predictor):\n",
    "    if not key.startswith(\"__\"):\n",
    "        print(key)"
   ]
  },
  {
   "cell_type": "code",
   "execution_count": 14,
   "metadata": {},
   "outputs": [
    {
     "name": "stdout",
     "output_type": "stream",
     "text": [
      "200 2000\n",
      "0.1\n"
     ]
    },
    {
     "data": {
      "text/plain": [
       "array([  8.,  91.,  40.,  85.,  17.,  35., 170., 151., 156.,  97., 126.,\n",
       "       178.,   5., 131., 117., 176.,  77.,  13.,  42., 154., 167., 144.,\n",
       "        13., -10.,  57., 124., 161., 167.,  45.,  72., 124.,  28.,  -1.,\n",
       "        14., 131.,  68.,  65.,  56., 193., 114., 168., 273.,  -4.,  75.,\n",
       "        53., 139.,  63., 179., 162., 124., 129.,  68.,  38., 142., 218.,\n",
       "        70., 195.,  75.,  82., 159., 104., 178.,  86.,  17.,  96., 153.,\n",
       "       128.,  24.,  51.,   7., 103.,  14.,  60.,  38.,  95.,  82., 146.,\n",
       "       165., 108.,  65.,  41.,  45.,  69., 198., 150., 126., 143.,  55.,\n",
       "        64.,  49.,  51., 191.,  39., 107., 139.,  93., 181.,  52., 363.,\n",
       "        46.,  85., 143.,  -5.,  40.,  83., 124.,  74., 126.,  70., 113.,\n",
       "        75.,  59., 123.,  36., 142., 113., 271.,  53., 104.,  58., 141.,\n",
       "       153.,  69., 249., 102.,  94.,  58.,  78., 149.,  57.,  35., 163.,\n",
       "       132., 379., 129.,  62., 157.,  86.,  91.,  76.,  76., 193.,  56.,\n",
       "       110., 174.,  64.,  69., 228., 120., 109.,  95., 179.,  59., 204.,\n",
       "       141.,  91.,  87., 145., 160.,  85., 105., 119.,  32.,  84.,  97.,\n",
       "       144., 100.,  88., 126., 156., 170., 177., 123., 111., 126., 246.,\n",
       "        31., 111., 246., 185., 155., 175.,  36., 127., 105.,  10.,  84.,\n",
       "        40.,  81.,  52.,  58., 269., 119., 201., 222.,  94., 123., 144.,\n",
       "       155., 220.,  98.,  55., 127.,  67.,  41., 183., 286.,  32.,  46.,\n",
       "       212.,  51.,  90.,  55., 113.,  38.,  66., 118., 120., 122.,  96.,\n",
       "       101.,  70.,  54.,  58., 304., 182., 163., 179.,  81., 243., 109.,\n",
       "        92., 146.,  59.,  48., 218.,  45., 551.,  80., 149., 110., 119.,\n",
       "        93.,  78.,  25.,  53., 148.,  57., 305.,  97.,  45., 309., 109.,\n",
       "       173., 174., 148., 126.,  40., 134.,  16., 149., 118.,  91.,  55.,\n",
       "       146.,  81., 202.,  72.,  65., 107.,  80.,  99.,  60., 111.,  55.,\n",
       "       163., 195.,  33., 124., 251.,  47., 109.,  60.,  39., 117., 197.,\n",
       "       112., 168., 144.,  79.,  99.,  85.,  88., 135., 221.,  49.,  57.,\n",
       "       178.,  -6.,  79.,  84.,  64.], dtype=float32)"
      ]
     },
     "execution_count": 14,
     "metadata": {},
     "output_type": "execute_result"
    }
   ],
   "source": [
    "# for now these distance setings are available, distances starting at 0\n",
    "\n",
    "print(predictor.distance_interval, predictor.distance_max)\n",
    "\n",
    "# these go from 0 to 1, with 1 being no reduction, full requirement\n",
    "print(predictor.limit_interval)\n",
    "\n",
    "# you can access the mean model predictions under no intervention like this:\n",
    "\n",
    "predictor.factual_preds_destandardized\n",
    "\n",
    "# for each particular setting that in fact is available, you can access either the standardized or destandardized version\n",
    "\n",
    "some_scenario = predictor.predict_destandardized(\n",
    "    d_blue = 200, # blue zone ends at 200  from transit\n",
    "    l_blue = .4 # the limit is down to 40% in the blue zone\n",
    "    d_yellow = 800 # then the yellow zone ends at 800\n",
    "    l_yellow = .6 # and the limit in the yellow zone is .6\n",
    ")"
   ]
  }
 ],
 "metadata": {
  "kernelspec": {
   "display_name": "chirho",
   "language": "python",
   "name": "python3"
  },
  "language_info": {
   "codemirror_mode": {
    "name": "ipython",
    "version": 3
   },
   "file_extension": ".py",
   "mimetype": "text/x-python",
   "name": "python",
   "nbconvert_exporter": "python",
   "pygments_lexer": "ipython3",
   "version": "3.10.14"
  }
 },
 "nbformat": 4,
 "nbformat_minor": 2
}
